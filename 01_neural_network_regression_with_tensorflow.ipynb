{
  "nbformat": 4,
  "nbformat_minor": 0,
  "metadata": {
    "colab": {
      "provenance": [],
      "authorship_tag": "ABX9TyPYpZiKnYM/t0b+sruN4B1F",
      "include_colab_link": true
    },
    "kernelspec": {
      "name": "python3",
      "display_name": "Python 3"
    },
    "language_info": {
      "name": "python"
    }
  },
  "cells": [
    {
      "cell_type": "markdown",
      "metadata": {
        "id": "view-in-github",
        "colab_type": "text"
      },
      "source": [
        "<a href=\"https://colab.research.google.com/github/GabrielBatavia/Learn_TensorFlow/blob/main/01_neural_network_regression_with_tensorflow.ipynb\" target=\"_parent\"><img src=\"https://colab.research.google.com/assets/colab-badge.svg\" alt=\"Open In Colab\"/></a>"
      ]
    },
    {
      "cell_type": "markdown",
      "source": [
        "# Introduction to Regression with Neural Networks in TensorFlow\n",
        "\n",
        "There are many definition for a regression problem but in our case, we're going to simplify it : predicting a numerical variable based on some other combination of variables, even shorter...predicting a number."
      ],
      "metadata": {
        "id": "eANshE7nr2zb"
      }
    },
    {
      "cell_type": "code",
      "execution_count": 2,
      "metadata": {
        "colab": {
          "base_uri": "https://localhost:8080/"
        },
        "id": "UmVJP_eWrO59",
        "outputId": "5117e50c-5845-4518-9a23-1bde405fabde"
      },
      "outputs": [
        {
          "output_type": "stream",
          "name": "stdout",
          "text": [
            "2.15.0\n"
          ]
        }
      ],
      "source": [
        "# Import TensorFlow\n",
        "\n",
        "import tensorflow as tf\n",
        "print(tf.__version__)"
      ]
    },
    {
      "cell_type": "markdown",
      "source": [
        "## Creating data to view and fit"
      ],
      "metadata": {
        "id": "vbbwMFoqskyN"
      }
    },
    {
      "cell_type": "code",
      "source": [
        "import numpy as np\n",
        "import matplotlib.pyplot as plt"
      ],
      "metadata": {
        "id": "DXOtRA60shEW"
      },
      "execution_count": 3,
      "outputs": []
    },
    {
      "cell_type": "code",
      "source": [
        "# Creating features\n",
        "\n",
        "x = np.array([-7., -4., -1., 2., 5., 8., 11., 14.])\n",
        "\n",
        "# Create labels\n",
        "y = np.array([3., 6., 9., 12., 15., 18., 21., 24.])\n",
        "\n",
        "# Visualize it\n",
        "plt.scatter(x, y);"
      ],
      "metadata": {
        "colab": {
          "base_uri": "https://localhost:8080/",
          "height": 435
        },
        "id": "SX4eHtEts4GD",
        "outputId": "8803c26f-19ce-4794-dc23-1f10f0d487bb"
      },
      "execution_count": 4,
      "outputs": [
        {
          "output_type": "display_data",
          "data": {
            "text/plain": [
              "<Figure size 640x480 with 1 Axes>"
            ],
            "image/png": "[encoded data removed]"
          },
          "metadata": {}
        }
      ]
    },
    {
      "cell_type": "code",
      "source": [
        "y == x + 10"
      ],
      "metadata": {
        "id": "qaf2FE-utbQ-",
        "colab": {
          "base_uri": "https://localhost:8080/"
        },
        "outputId": "ea466e9e-3989-44aa-9142-cf80ee55c0fd"
      },
      "execution_count": 5,
      "outputs": [
        {
          "output_type": "execute_result",
          "data": {
            "text/plain": [
              "array([ True,  True,  True,  True,  True,  True,  True,  True])"
            ]
          },
          "metadata": {},
          "execution_count": 5
        }
      ]
    },
    {
      "cell_type": "markdown",
      "source": [
        "## Input and Output shapes"
      ],
      "metadata": {
        "id": "hHex_79OxmAn"
      }
    },
    {
      "cell_type": "code",
      "source": [
        "# Create a demo tensor for out housing price prediction problem\n",
        "\n",
        "house_info = tf.constant([\"bedroom\", \"bathroom\", \"garage\"])\n",
        "house_price = tf.constant([939700])\n",
        "\n",
        "house_info, house_price"
      ],
      "metadata": {
        "colab": {
          "base_uri": "https://localhost:8080/"
        },
        "id": "EKNlltO3xrVe",
        "outputId": "a09b3b49-fe85-47ad-f24c-e63a0a89745e"
      },
      "execution_count": 6,
      "outputs": [
        {
          "output_type": "execute_result",
          "data": {
            "text/plain": [
              "(<tf.Tensor: shape=(3,), dtype=string, numpy=array([b'bedroom', b'bathroom', b'garage'], dtype=object)>,\n",
              " <tf.Tensor: shape=(1,), dtype=int32, numpy=array([939700], dtype=int32)>)"
            ]
          },
          "metadata": {},
          "execution_count": 6
        }
      ]
    },
    {
      "cell_type": "code",
      "source": [
        "x[0], y[0]"
      ],
      "metadata": {
        "colab": {
          "base_uri": "https://localhost:8080/"
        },
        "id": "-tWt-gYSzm66",
        "outputId": "2f0bf495-61ec-47b3-eeaa-f72b6d795e55"
      },
      "execution_count": 7,
      "outputs": [
        {
          "output_type": "execute_result",
          "data": {
            "text/plain": [
              "(-7.0, 3.0)"
            ]
          },
          "metadata": {},
          "execution_count": 7
        }
      ]
    },
    {
      "cell_type": "code",
      "source": [
        "input_shape = x[0].shape\n",
        "output_shape = y[0].shape\n",
        "\n",
        "input_shape, output_shape"
      ],
      "metadata": {
        "colab": {
          "base_uri": "https://localhost:8080/"
        },
        "id": "sGSz7U-vzY4m",
        "outputId": "22eda275-85ea-4984-8904-1c2afbbdf3f7"
      },
      "execution_count": 8,
      "outputs": [
        {
          "output_type": "execute_result",
          "data": {
            "text/plain": [
              "((), ())"
            ]
          },
          "metadata": {},
          "execution_count": 8
        }
      ]
    },
    {
      "cell_type": "code",
      "source": [
        "x[0].ndim"
      ],
      "metadata": {
        "colab": {
          "base_uri": "https://localhost:8080/"
        },
        "id": "VCL4zHK5z8RR",
        "outputId": "83e26e05-54dd-448c-a287-4c557c0e59df"
      },
      "execution_count": 9,
      "outputs": [
        {
          "output_type": "execute_result",
          "data": {
            "text/plain": [
              "0"
            ]
          },
          "metadata": {},
          "execution_count": 9
        }
      ]
    },
    {
      "cell_type": "code",
      "source": [
        "# Turn our Numpy arrays into tensors with dtype 32\n",
        "\n",
        "X = tf.constant(x, dtype=tf.float32)\n",
        "Y = tf.constant(y, dtype=tf.float32)\n",
        "\n",
        "X, Y"
      ],
      "metadata": {
        "colab": {
          "base_uri": "https://localhost:8080/"
        },
        "id": "QL2Ofdwmz-sQ",
        "outputId": "17395f83-da17-4129-8d6c-c3eada59e455"
      },
      "execution_count": 10,
      "outputs": [
        {
          "output_type": "execute_result",
          "data": {
            "text/plain": [
              "(<tf.Tensor: shape=(8,), dtype=float32, numpy=array([-7., -4., -1.,  2.,  5.,  8., 11., 14.], dtype=float32)>,\n",
              " <tf.Tensor: shape=(8,), dtype=float32, numpy=array([ 3.,  6.,  9., 12., 15., 18., 21., 24.], dtype=float32)>)"
            ]
          },
          "metadata": {},
          "execution_count": 10
        }
      ]
    },
    {
      "cell_type": "code",
      "source": [
        "input_shape = X[0].shape\n",
        "output_shape = y[0].shape\n",
        "\n",
        "input_shape, output_shape"
      ],
      "metadata": {
        "colab": {
          "base_uri": "https://localhost:8080/"
        },
        "id": "R6m8i44s1t3S",
        "outputId": "7bf8dbf1-653a-4c17-ed70-75075624fff8"
      },
      "execution_count": 11,
      "outputs": [
        {
          "output_type": "execute_result",
          "data": {
            "text/plain": [
              "(TensorShape([]), ())"
            ]
          },
          "metadata": {},
          "execution_count": 11
        }
      ]
    },
    {
      "cell_type": "markdown",
      "source": [
        "## Steps in modelling with TensorFlow\n",
        "\n",
        "1. **Creating a model** - define the input and output layers, as well as the hidden layers of a deep learning model.\n",
        "\n",
        "2. **Compiling a model** - define the loss function (in other words, the function wich tells our model how wrong it is) and the optimizer (tells our model how to improve the patterns its learning) and evaluation metrics (what we can use to interpret the preformance of our model)\n",
        "\n",
        "3. Fitting a model - letting the model try to find patters between X & y (features and labels)"
      ],
      "metadata": {
        "id": "T9heq-y318BJ"
      }
    },
    {
      "cell_type": "code",
      "source": [
        "# Opetionally, the first layer can receive an 'input_shape' argument :\n",
        "# model = tf.keras.Sequential()\n",
        "# model.add(tf.keras.layers.Dense(8, input_shape=(16,)))\n",
        "\n",
        "# Afterwards, we do automatic shape inference :\n",
        "# model.add(tf.keras.layers.Dense(4))\n",
        "\n",
        "# model = tf.keras.Sequential()\n",
        "# model.add(tf.keras.layers.Dense(1))\n",
        "# ..."
      ],
      "metadata": {
        "id": "nEAWuhvc6w4g"
      },
      "execution_count": 12,
      "outputs": []
    },
    {
      "cell_type": "code",
      "source": [
        "# Set random seed\n",
        "\n",
        "tf.random.set_seed(42)\n",
        "\n",
        "# 1. Create a model using the Sequential API\n",
        "model = tf.keras.Sequential([\n",
        "    tf.keras.layers.Dense(1)\n",
        "])\n",
        "\n",
        "# 2. Compile the model\n",
        "model.compile(loss = tf.keras.losses.mae, # mae is short for mean absolute error\n",
        "              optimizer = tf.keras.optimizers.SGD(), # sgd is short for stochasitc gradient decent\n",
        "              metrics = [\"mae\"])\n",
        "\n",
        "# 3. Fit the model\n",
        "# model.fit(X, Y, epochs=5) # BREAK IN UPDATED TENSOR VERSION\n",
        "model.fit(tf.expand_dims(X, axis=-1), Y, epochs=5)"
      ],
      "metadata": {
        "colab": {
          "base_uri": "https://localhost:8080/"
        },
        "id": "ubX_9SYR149W",
        "outputId": "5ba06e9e-c763-439e-bbe5-2d74a9dfa048"
      },
      "execution_count": 13,
      "outputs": [
        {
          "output_type": "stream",
          "name": "stdout",
          "text": [
            "Epoch 1/5\n",
            "1/1 [==============================] - 1s 595ms/step - loss: 9.7888 - mae: 9.7888\n",
            "Epoch 2/5\n",
            "1/1 [==============================] - 0s 36ms/step - loss: 9.6563 - mae: 9.6563\n",
            "Epoch 3/5\n",
            "1/1 [==============================] - 0s 26ms/step - loss: 9.5238 - mae: 9.5238\n",
            "Epoch 4/5\n",
            "1/1 [==============================] - 0s 17ms/step - loss: 9.3913 - mae: 9.3913\n",
            "Epoch 5/5\n",
            "1/1 [==============================] - 0s 35ms/step - loss: 9.2588 - mae: 9.2588\n"
          ]
        },
        {
          "output_type": "execute_result",
          "data": {
            "text/plain": [
              "<keras.src.callbacks.History at 0x7f228415f5b0>"
            ]
          },
          "metadata": {},
          "execution_count": 13
        }
      ]
    },
    {
      "cell_type": "code",
      "source": [
        "# Check our X and Y\n",
        "x, y"
      ],
      "metadata": {
        "colab": {
          "base_uri": "https://localhost:8080/"
        },
        "id": "1B1DsBlo9jYC",
        "outputId": "5a85ec2a-dc5c-48bb-c588-27d35b3c277b"
      },
      "execution_count": 14,
      "outputs": [
        {
          "output_type": "execute_result",
          "data": {
            "text/plain": [
              "(array([-7., -4., -1.,  2.,  5.,  8., 11., 14.]),\n",
              " array([ 3.,  6.,  9., 12., 15., 18., 21., 24.]))"
            ]
          },
          "metadata": {},
          "execution_count": 14
        }
      ]
    },
    {
      "cell_type": "code",
      "source": [
        "# Try make prediction\n",
        "model.predict([17.0])"
      ],
      "metadata": {
        "colab": {
          "base_uri": "https://localhost:8080/"
        },
        "id": "L4S19GPP9pXG",
        "outputId": "8210a0b1-0d86-4372-fd9c-74f175643889"
      },
      "execution_count": 15,
      "outputs": [
        {
          "output_type": "stream",
          "name": "stdout",
          "text": [
            "1/1 [==============================] - 0s 289ms/step\n"
          ]
        },
        {
          "output_type": "execute_result",
          "data": {
            "text/plain": [
              "array([[21.050997]], dtype=float32)"
            ]
          },
          "metadata": {},
          "execution_count": 15
        }
      ]
    },
    {
      "cell_type": "markdown",
      "source": [
        "## Improving our model\n",
        "\n",
        "We can improve our model, by altering the steps we took to create a model.\n",
        "\n",
        "1. **Creating a model** - ere we might add more layers, increse the number of hidden units (all called neurons) within each of the hidden layers, change the activation function of each layer.\n",
        "\n",
        "2. **Compiling a model** - here we might chang ethe optimization function or perhaps the **learning rate** of the optimization function.\n",
        "\n",
        "3. **Fitting a model** - here we might fit a model for more **epochs** (leave it training for longer) or on more data (give the model more examples to learn form)"
      ],
      "metadata": {
        "id": "Nq6KqLEo-HP4"
      }
    },
    {
      "cell_type": "code",
      "source": [
        "# Let's rebuild our model\n",
        "\n",
        "# 1. Create the model\n",
        "model1 = tf.keras.Sequential([\n",
        "    tf.keras.layers.Dense(1)\n",
        "])\n",
        "\n",
        "# 2. Compile the model\n",
        "model1.compile(loss = tf.keras.losses.mae,\n",
        "              optimizer = tf.keras.optimizers.SGD(),\n",
        "              metrics = [\"mae\"])\n",
        "\n",
        "# 3. Fit the model\n",
        "# model.fit(X, Y, epochs=5) # BREAK IN UPDATED TENSOR VERSION\n",
        "model1.fit(tf.expand_dims(X, axis=-1), Y, epochs=100)"
      ],
      "metadata": {
        "colab": {
          "base_uri": "https://localhost:8080/"
        },
        "id": "GPGzIvb2DLc2",
        "outputId": "582fdeac-e230-4963-f878-5d419bb962f3"
      },
      "execution_count": 16,
      "outputs": [
        {
          "output_type": "stream",
          "name": "stdout",
          "text": [
            "Epoch 1/100\n",
            "1/1 [==============================] - 1s 779ms/step - loss: 11.5668 - mae: 11.5668\n",
            "Epoch 2/100\n",
            "1/1 [==============================] - 0s 11ms/step - loss: 11.4343 - mae: 11.4343\n",
            "Epoch 3/100\n",
            "1/1 [==============================] - 0s 10ms/step - loss: 11.3018 - mae: 11.3018\n",
            "Epoch 4/100\n",
            "1/1 [==============================] - 0s 12ms/step - loss: 11.1693 - mae: 11.1693\n",
            "Epoch 5/100\n",
            "1/1 [==============================] - 0s 10ms/step - loss: 11.0368 - mae: 11.0368\n",
            "Epoch 6/100\n",
            "1/1 [==============================] - 0s 16ms/step - loss: 10.9043 - mae: 10.9043\n",
            "Epoch 7/100\n",
            "1/1 [==============================] - 0s 17ms/step - loss: 10.7718 - mae: 10.7718\n",
            "Epoch 8/100\n",
            "1/1 [==============================] - 0s 24ms/step - loss: 10.6393 - mae: 10.6393\n",
            "Epoch 9/100\n",
            "1/1 [==============================] - 0s 18ms/step - loss: 10.5068 - mae: 10.5068\n",
            "Epoch 10/100\n",
            "1/1 [==============================] - 0s 19ms/step - loss: 10.3743 - mae: 10.3743\n",
            "Epoch 11/100\n",
            "1/1 [==============================] - 0s 17ms/step - loss: 10.2418 - mae: 10.2418\n",
            "Epoch 12/100\n",
            "1/1 [==============================] - 0s 39ms/step - loss: 10.1093 - mae: 10.1093\n",
            "Epoch 13/100\n",
            "1/1 [==============================] - 0s 14ms/step - loss: 9.9768 - mae: 9.9768\n",
            "Epoch 14/100\n",
            "1/1 [==============================] - 0s 48ms/step - loss: 9.8443 - mae: 9.8443\n",
            "Epoch 15/100\n",
            "1/1 [==============================] - 0s 30ms/step - loss: 9.7118 - mae: 9.7118\n",
            "Epoch 16/100\n",
            "1/1 [==============================] - 0s 30ms/step - loss: 9.5793 - mae: 9.5793\n",
            "Epoch 17/100\n",
            "1/1 [==============================] - 0s 11ms/step - loss: 9.4468 - mae: 9.4468\n",
            "Epoch 18/100\n",
            "1/1 [==============================] - 0s 29ms/step - loss: 9.3143 - mae: 9.3143\n",
            "Epoch 19/100\n",
            "1/1 [==============================] - 0s 22ms/step - loss: 9.1818 - mae: 9.1818\n",
            "Epoch 20/100\n",
            "1/1 [==============================] - 0s 33ms/step - loss: 9.0493 - mae: 9.0493\n",
            "Epoch 21/100\n",
            "1/1 [==============================] - 0s 24ms/step - loss: 8.9168 - mae: 8.9168\n",
            "Epoch 22/100\n",
            "1/1 [==============================] - 0s 21ms/step - loss: 8.7843 - mae: 8.7843\n",
            "Epoch 23/100\n",
            "1/1 [==============================] - 0s 26ms/step - loss: 8.6518 - mae: 8.6518\n",
            "Epoch 24/100\n",
            "1/1 [==============================] - 0s 23ms/step - loss: 8.5193 - mae: 8.5193\n",
            "Epoch 25/100\n",
            "1/1 [==============================] - 0s 26ms/step - loss: 8.3868 - mae: 8.3868\n",
            "Epoch 26/100\n",
            "1/1 [==============================] - 0s 23ms/step - loss: 8.2543 - mae: 8.2543\n",
            "Epoch 27/100\n",
            "1/1 [==============================] - 0s 22ms/step - loss: 8.1218 - mae: 8.1218\n",
            "Epoch 28/100\n",
            "1/1 [==============================] - 0s 21ms/step - loss: 7.9893 - mae: 7.9893\n",
            "Epoch 29/100\n",
            "1/1 [==============================] - 0s 22ms/step - loss: 7.8568 - mae: 7.8568\n",
            "Epoch 30/100\n",
            "1/1 [==============================] - 0s 42ms/step - loss: 7.7243 - mae: 7.7243\n",
            "Epoch 31/100\n",
            "1/1 [==============================] - 0s 33ms/step - loss: 7.5918 - mae: 7.5918\n",
            "Epoch 32/100\n",
            "1/1 [==============================] - 0s 21ms/step - loss: 7.4593 - mae: 7.4593\n",
            "Epoch 33/100\n",
            "1/1 [==============================] - 0s 21ms/step - loss: 7.3268 - mae: 7.3268\n",
            "Epoch 34/100\n",
            "1/1 [==============================] - 0s 22ms/step - loss: 7.2525 - mae: 7.2525\n",
            "Epoch 35/100\n",
            "1/1 [==============================] - 0s 24ms/step - loss: 7.2469 - mae: 7.2469\n",
            "Epoch 36/100\n",
            "1/1 [==============================] - 0s 29ms/step - loss: 7.2413 - mae: 7.2413\n",
            "Epoch 37/100\n",
            "1/1 [==============================] - 0s 26ms/step - loss: 7.2356 - mae: 7.2356\n",
            "Epoch 38/100\n",
            "1/1 [==============================] - 0s 29ms/step - loss: 7.2300 - mae: 7.2300\n",
            "Epoch 39/100\n",
            "1/1 [==============================] - 0s 35ms/step - loss: 7.2244 - mae: 7.2244\n",
            "Epoch 40/100\n",
            "1/1 [==============================] - 0s 21ms/step - loss: 7.2188 - mae: 7.2188\n",
            "Epoch 41/100\n",
            "1/1 [==============================] - 0s 36ms/step - loss: 7.2131 - mae: 7.2131\n",
            "Epoch 42/100\n",
            "1/1 [==============================] - 0s 21ms/step - loss: 7.2075 - mae: 7.2075\n",
            "Epoch 43/100\n",
            "1/1 [==============================] - 0s 14ms/step - loss: 7.2019 - mae: 7.2019\n",
            "Epoch 44/100\n",
            "1/1 [==============================] - 0s 12ms/step - loss: 7.1963 - mae: 7.1963\n",
            "Epoch 45/100\n",
            "1/1 [==============================] - 0s 15ms/step - loss: 7.1906 - mae: 7.1906\n",
            "Epoch 46/100\n",
            "1/1 [==============================] - 0s 18ms/step - loss: 7.1850 - mae: 7.1850\n",
            "Epoch 47/100\n",
            "1/1 [==============================] - 0s 18ms/step - loss: 7.1794 - mae: 7.1794\n",
            "Epoch 48/100\n",
            "1/1 [==============================] - 0s 12ms/step - loss: 7.1738 - mae: 7.1738\n",
            "Epoch 49/100\n",
            "1/1 [==============================] - 0s 23ms/step - loss: 7.1681 - mae: 7.1681\n",
            "Epoch 50/100\n",
            "1/1 [==============================] - 0s 26ms/step - loss: 7.1625 - mae: 7.1625\n",
            "Epoch 51/100\n",
            "1/1 [==============================] - 0s 14ms/step - loss: 7.1569 - mae: 7.1569\n",
            "Epoch 52/100\n",
            "1/1 [==============================] - 0s 16ms/step - loss: 7.1513 - mae: 7.1513\n",
            "Epoch 53/100\n",
            "1/1 [==============================] - 0s 20ms/step - loss: 7.1456 - mae: 7.1456\n",
            "Epoch 54/100\n",
            "1/1 [==============================] - 0s 30ms/step - loss: 7.1400 - mae: 7.1400\n",
            "Epoch 55/100\n",
            "1/1 [==============================] - 0s 19ms/step - loss: 7.1344 - mae: 7.1344\n",
            "Epoch 56/100\n",
            "1/1 [==============================] - 0s 13ms/step - loss: 7.1288 - mae: 7.1288\n",
            "Epoch 57/100\n",
            "1/1 [==============================] - 0s 19ms/step - loss: 7.1231 - mae: 7.1231\n",
            "Epoch 58/100\n",
            "1/1 [==============================] - 0s 21ms/step - loss: 7.1175 - mae: 7.1175\n",
            "Epoch 59/100\n",
            "1/1 [==============================] - 0s 21ms/step - loss: 7.1119 - mae: 7.1119\n",
            "Epoch 60/100\n",
            "1/1 [==============================] - 0s 21ms/step - loss: 7.1063 - mae: 7.1063\n",
            "Epoch 61/100\n",
            "1/1 [==============================] - 0s 20ms/step - loss: 7.1006 - mae: 7.1006\n",
            "Epoch 62/100\n",
            "1/1 [==============================] - 0s 17ms/step - loss: 7.0950 - mae: 7.0950\n",
            "Epoch 63/100\n",
            "1/1 [==============================] - 0s 49ms/step - loss: 7.0894 - mae: 7.0894\n",
            "Epoch 64/100\n",
            "1/1 [==============================] - 0s 25ms/step - loss: 7.0838 - mae: 7.0838\n",
            "Epoch 65/100\n",
            "1/1 [==============================] - 0s 55ms/step - loss: 7.0781 - mae: 7.0781\n",
            "Epoch 66/100\n",
            "1/1 [==============================] - 0s 33ms/step - loss: 7.0725 - mae: 7.0725\n",
            "Epoch 67/100\n",
            "1/1 [==============================] - 0s 19ms/step - loss: 7.0669 - mae: 7.0669\n",
            "Epoch 68/100\n",
            "1/1 [==============================] - 0s 28ms/step - loss: 7.0613 - mae: 7.0613\n",
            "Epoch 69/100\n",
            "1/1 [==============================] - 0s 18ms/step - loss: 7.0556 - mae: 7.0556\n",
            "Epoch 70/100\n",
            "1/1 [==============================] - 0s 17ms/step - loss: 7.0500 - mae: 7.0500\n",
            "Epoch 71/100\n",
            "1/1 [==============================] - 0s 14ms/step - loss: 7.0444 - mae: 7.0444\n",
            "Epoch 72/100\n",
            "1/1 [==============================] - 0s 17ms/step - loss: 7.0388 - mae: 7.0388\n",
            "Epoch 73/100\n",
            "1/1 [==============================] - 0s 16ms/step - loss: 7.0331 - mae: 7.0331\n",
            "Epoch 74/100\n",
            "1/1 [==============================] - 0s 16ms/step - loss: 7.0275 - mae: 7.0275\n",
            "Epoch 75/100\n",
            "1/1 [==============================] - 0s 16ms/step - loss: 7.0219 - mae: 7.0219\n",
            "Epoch 76/100\n",
            "1/1 [==============================] - 0s 20ms/step - loss: 7.0163 - mae: 7.0163\n",
            "Epoch 77/100\n",
            "1/1 [==============================] - 0s 21ms/step - loss: 7.0106 - mae: 7.0106\n",
            "Epoch 78/100\n",
            "1/1 [==============================] - 0s 17ms/step - loss: 7.0050 - mae: 7.0050\n",
            "Epoch 79/100\n",
            "1/1 [==============================] - 0s 18ms/step - loss: 6.9994 - mae: 6.9994\n",
            "Epoch 80/100\n",
            "1/1 [==============================] - 0s 13ms/step - loss: 6.9938 - mae: 6.9938\n",
            "Epoch 81/100\n",
            "1/1 [==============================] - 0s 14ms/step - loss: 6.9881 - mae: 6.9881\n",
            "Epoch 82/100\n",
            "1/1 [==============================] - 0s 16ms/step - loss: 6.9825 - mae: 6.9825\n",
            "Epoch 83/100\n",
            "1/1 [==============================] - 0s 13ms/step - loss: 6.9769 - mae: 6.9769\n",
            "Epoch 84/100\n",
            "1/1 [==============================] - 0s 14ms/step - loss: 6.9713 - mae: 6.9713\n",
            "Epoch 85/100\n",
            "1/1 [==============================] - 0s 13ms/step - loss: 6.9656 - mae: 6.9656\n",
            "Epoch 86/100\n",
            "1/1 [==============================] - 0s 12ms/step - loss: 6.9600 - mae: 6.9600\n",
            "Epoch 87/100\n",
            "1/1 [==============================] - 0s 13ms/step - loss: 6.9544 - mae: 6.9544\n",
            "Epoch 88/100\n",
            "1/1 [==============================] - 0s 15ms/step - loss: 6.9488 - mae: 6.9488\n",
            "Epoch 89/100\n",
            "1/1 [==============================] - 0s 11ms/step - loss: 6.9431 - mae: 6.9431\n",
            "Epoch 90/100\n",
            "1/1 [==============================] - 0s 13ms/step - loss: 6.9375 - mae: 6.9375\n",
            "Epoch 91/100\n",
            "1/1 [==============================] - 0s 16ms/step - loss: 6.9319 - mae: 6.9319\n",
            "Epoch 92/100\n",
            "1/1 [==============================] - 0s 14ms/step - loss: 6.9263 - mae: 6.9263\n",
            "Epoch 93/100\n",
            "1/1 [==============================] - 0s 17ms/step - loss: 6.9206 - mae: 6.9206\n",
            "Epoch 94/100\n",
            "1/1 [==============================] - 0s 11ms/step - loss: 6.9150 - mae: 6.9150\n",
            "Epoch 95/100\n",
            "1/1 [==============================] - 0s 12ms/step - loss: 6.9094 - mae: 6.9094\n",
            "Epoch 96/100\n",
            "1/1 [==============================] - 0s 12ms/step - loss: 6.9038 - mae: 6.9038\n",
            "Epoch 97/100\n",
            "1/1 [==============================] - 0s 14ms/step - loss: 6.8981 - mae: 6.8981\n",
            "Epoch 98/100\n",
            "1/1 [==============================] - 0s 11ms/step - loss: 6.8925 - mae: 6.8925\n",
            "Epoch 99/100\n",
            "1/1 [==============================] - 0s 10ms/step - loss: 6.8869 - mae: 6.8869\n",
            "Epoch 100/100\n",
            "1/1 [==============================] - 0s 11ms/step - loss: 6.8813 - mae: 6.8813\n"
          ]
        },
        {
          "output_type": "execute_result",
          "data": {
            "text/plain": [
              "<keras.src.callbacks.History at 0x7f227dd2c100>"
            ]
          },
          "metadata": {},
          "execution_count": 16
        }
      ]
    },
    {
      "cell_type": "code",
      "source": [
        "# Try make prediction\n",
        "model1.predict([17.0])"
      ],
      "metadata": {
        "colab": {
          "base_uri": "https://localhost:8080/"
        },
        "id": "4kMA7oidBuHG",
        "outputId": "c4aacd5c-f429-456a-d517-f92f67f7c403"
      },
      "execution_count": 17,
      "outputs": [
        {
          "output_type": "stream",
          "name": "stdout",
          "text": [
            "1/1 [==============================] - 0s 112ms/step\n"
          ]
        },
        {
          "output_type": "execute_result",
          "data": {
            "text/plain": [
              "array([[29.857098]], dtype=float32)"
            ]
          },
          "metadata": {},
          "execution_count": 17
        }
      ]
    },
    {
      "cell_type": "code",
      "source": [
        "# re-write the model by my self and improve one thing to get better\n",
        "\n",
        "# 1. Create the model\n",
        "model2 = tf.keras.Sequential([\n",
        "    tf.keras.layers.Dense(1)\n",
        "])\n",
        "\n",
        "# 2. Compile the model\n",
        "model2.compile(loss = tf.keras.losses.mae,\n",
        "              optimizer = tf.keras.optimizers.Adam(learning_rate=0.001), # chang the optimizers from SGD to adam\n",
        "              metrics = [\"mae\"])\n",
        "\n",
        "# 3. Fit the model\n",
        "# model.fit(X, Y, epochs=5) # BREAK IN UPDATED TENSOR VERSION\n",
        "model2.fit(tf.expand_dims(X, axis=-1), Y, epochs=100)"
      ],
      "metadata": {
        "colab": {
          "base_uri": "https://localhost:8080/"
        },
        "id": "gdwbhbhmJVPx",
        "outputId": "9f936a9f-8a82-420f-f69d-5ee895e6b270"
      },
      "execution_count": 18,
      "outputs": [
        {
          "output_type": "stream",
          "name": "stdout",
          "text": [
            "Epoch 1/100\n",
            "1/1 [==============================] - 2s 2s/step - loss: 12.2299 - mae: 12.2299\n",
            "Epoch 2/100\n",
            "1/1 [==============================] - 0s 21ms/step - loss: 12.2254 - mae: 12.2254\n",
            "Epoch 3/100\n",
            "1/1 [==============================] - 0s 21ms/step - loss: 12.2209 - mae: 12.2209\n",
            "Epoch 4/100\n",
            "1/1 [==============================] - 0s 15ms/step - loss: 12.2164 - mae: 12.2164\n",
            "Epoch 5/100\n",
            "1/1 [==============================] - 0s 22ms/step - loss: 12.2119 - mae: 12.2119\n",
            "Epoch 6/100\n",
            "1/1 [==============================] - 0s 18ms/step - loss: 12.2074 - mae: 12.2074\n",
            "Epoch 7/100\n",
            "1/1 [==============================] - 0s 17ms/step - loss: 12.2029 - mae: 12.2029\n",
            "Epoch 8/100\n",
            "1/1 [==============================] - 0s 23ms/step - loss: 12.1984 - mae: 12.1984\n",
            "Epoch 9/100\n",
            "1/1 [==============================] - 0s 26ms/step - loss: 12.1939 - mae: 12.1939\n",
            "Epoch 10/100\n",
            "1/1 [==============================] - 0s 24ms/step - loss: 12.1894 - mae: 12.1894\n",
            "Epoch 11/100\n",
            "1/1 [==============================] - 0s 23ms/step - loss: 12.1849 - mae: 12.1849\n",
            "Epoch 12/100\n",
            "1/1 [==============================] - 0s 44ms/step - loss: 12.1804 - mae: 12.1804\n",
            "Epoch 13/100\n",
            "1/1 [==============================] - 0s 22ms/step - loss: 12.1759 - mae: 12.1759\n",
            "Epoch 14/100\n",
            "1/1 [==============================] - 0s 29ms/step - loss: 12.1714 - mae: 12.1714\n",
            "Epoch 15/100\n",
            "1/1 [==============================] - 0s 25ms/step - loss: 12.1669 - mae: 12.1669\n",
            "Epoch 16/100\n",
            "1/1 [==============================] - 0s 24ms/step - loss: 12.1624 - mae: 12.1624\n",
            "Epoch 17/100\n",
            "1/1 [==============================] - 0s 31ms/step - loss: 12.1579 - mae: 12.1579\n",
            "Epoch 18/100\n",
            "1/1 [==============================] - 0s 28ms/step - loss: 12.1534 - mae: 12.1534\n",
            "Epoch 19/100\n",
            "1/1 [==============================] - 0s 28ms/step - loss: 12.1489 - mae: 12.1489\n",
            "Epoch 20/100\n",
            "1/1 [==============================] - 0s 27ms/step - loss: 12.1444 - mae: 12.1444\n",
            "Epoch 21/100\n",
            "1/1 [==============================] - 0s 22ms/step - loss: 12.1399 - mae: 12.1399\n",
            "Epoch 22/100\n",
            "1/1 [==============================] - 0s 24ms/step - loss: 12.1354 - mae: 12.1354\n",
            "Epoch 23/100\n",
            "1/1 [==============================] - 0s 28ms/step - loss: 12.1309 - mae: 12.1309\n",
            "Epoch 24/100\n",
            "1/1 [==============================] - 0s 22ms/step - loss: 12.1264 - mae: 12.1264\n",
            "Epoch 25/100\n",
            "1/1 [==============================] - 0s 22ms/step - loss: 12.1219 - mae: 12.1219\n",
            "Epoch 26/100\n",
            "1/1 [==============================] - 0s 31ms/step - loss: 12.1174 - mae: 12.1174\n",
            "Epoch 27/100\n",
            "1/1 [==============================] - 0s 21ms/step - loss: 12.1129 - mae: 12.1129\n",
            "Epoch 28/100\n",
            "1/1 [==============================] - 0s 17ms/step - loss: 12.1084 - mae: 12.1084\n",
            "Epoch 29/100\n",
            "1/1 [==============================] - 0s 21ms/step - loss: 12.1039 - mae: 12.1039\n",
            "Epoch 30/100\n",
            "1/1 [==============================] - 0s 21ms/step - loss: 12.0994 - mae: 12.0994\n",
            "Epoch 31/100\n",
            "1/1 [==============================] - 0s 26ms/step - loss: 12.0949 - mae: 12.0949\n",
            "Epoch 32/100\n",
            "1/1 [==============================] - 0s 22ms/step - loss: 12.0904 - mae: 12.0904\n",
            "Epoch 33/100\n",
            "1/1 [==============================] - 0s 27ms/step - loss: 12.0859 - mae: 12.0859\n",
            "Epoch 34/100\n",
            "1/1 [==============================] - 0s 15ms/step - loss: 12.0814 - mae: 12.0814\n",
            "Epoch 35/100\n",
            "1/1 [==============================] - 0s 16ms/step - loss: 12.0769 - mae: 12.0769\n",
            "Epoch 36/100\n",
            "1/1 [==============================] - 0s 19ms/step - loss: 12.0724 - mae: 12.0724\n",
            "Epoch 37/100\n",
            "1/1 [==============================] - 0s 20ms/step - loss: 12.0679 - mae: 12.0679\n",
            "Epoch 38/100\n",
            "1/1 [==============================] - 0s 13ms/step - loss: 12.0634 - mae: 12.0634\n",
            "Epoch 39/100\n",
            "1/1 [==============================] - 0s 20ms/step - loss: 12.0589 - mae: 12.0589\n",
            "Epoch 40/100\n",
            "1/1 [==============================] - 0s 12ms/step - loss: 12.0544 - mae: 12.0544\n",
            "Epoch 41/100\n",
            "1/1 [==============================] - 0s 12ms/step - loss: 12.0499 - mae: 12.0499\n",
            "Epoch 42/100\n",
            "1/1 [==============================] - 0s 22ms/step - loss: 12.0454 - mae: 12.0454\n",
            "Epoch 43/100\n",
            "1/1 [==============================] - 0s 11ms/step - loss: 12.0409 - mae: 12.0409\n",
            "Epoch 44/100\n",
            "1/1 [==============================] - 0s 22ms/step - loss: 12.0364 - mae: 12.0364\n",
            "Epoch 45/100\n",
            "1/1 [==============================] - 0s 12ms/step - loss: 12.0319 - mae: 12.0319\n",
            "Epoch 46/100\n",
            "1/1 [==============================] - 0s 10ms/step - loss: 12.0274 - mae: 12.0274\n",
            "Epoch 47/100\n",
            "1/1 [==============================] - 0s 17ms/step - loss: 12.0229 - mae: 12.0229\n",
            "Epoch 48/100\n",
            "1/1 [==============================] - 0s 14ms/step - loss: 12.0184 - mae: 12.0184\n",
            "Epoch 49/100\n",
            "1/1 [==============================] - 0s 22ms/step - loss: 12.0139 - mae: 12.0139\n",
            "Epoch 50/100\n",
            "1/1 [==============================] - 0s 18ms/step - loss: 12.0094 - mae: 12.0094\n",
            "Epoch 51/100\n",
            "1/1 [==============================] - 0s 15ms/step - loss: 12.0049 - mae: 12.0049\n",
            "Epoch 52/100\n",
            "1/1 [==============================] - 0s 15ms/step - loss: 12.0004 - mae: 12.0004\n",
            "Epoch 53/100\n",
            "1/1 [==============================] - 0s 11ms/step - loss: 11.9959 - mae: 11.9959\n",
            "Epoch 54/100\n",
            "1/1 [==============================] - 0s 13ms/step - loss: 11.9914 - mae: 11.9914\n",
            "Epoch 55/100\n",
            "1/1 [==============================] - 0s 15ms/step - loss: 11.9869 - mae: 11.9869\n",
            "Epoch 56/100\n",
            "1/1 [==============================] - 0s 14ms/step - loss: 11.9824 - mae: 11.9824\n",
            "Epoch 57/100\n",
            "1/1 [==============================] - 0s 35ms/step - loss: 11.9779 - mae: 11.9779\n",
            "Epoch 58/100\n",
            "1/1 [==============================] - 0s 22ms/step - loss: 11.9734 - mae: 11.9734\n",
            "Epoch 59/100\n",
            "1/1 [==============================] - 0s 24ms/step - loss: 11.9689 - mae: 11.9689\n",
            "Epoch 60/100\n",
            "1/1 [==============================] - 0s 20ms/step - loss: 11.9644 - mae: 11.9644\n",
            "Epoch 61/100\n",
            "1/1 [==============================] - 0s 18ms/step - loss: 11.9599 - mae: 11.9599\n",
            "Epoch 62/100\n",
            "1/1 [==============================] - 0s 13ms/step - loss: 11.9554 - mae: 11.9554\n",
            "Epoch 63/100\n",
            "1/1 [==============================] - 0s 33ms/step - loss: 11.9509 - mae: 11.9509\n",
            "Epoch 64/100\n",
            "1/1 [==============================] - 0s 31ms/step - loss: 11.9464 - mae: 11.9464\n",
            "Epoch 65/100\n",
            "1/1 [==============================] - 0s 15ms/step - loss: 11.9419 - mae: 11.9419\n",
            "Epoch 66/100\n",
            "1/1 [==============================] - 0s 14ms/step - loss: 11.9374 - mae: 11.9374\n",
            "Epoch 67/100\n",
            "1/1 [==============================] - 0s 12ms/step - loss: 11.9329 - mae: 11.9329\n",
            "Epoch 68/100\n",
            "1/1 [==============================] - 0s 12ms/step - loss: 11.9284 - mae: 11.9284\n",
            "Epoch 69/100\n",
            "1/1 [==============================] - 0s 11ms/step - loss: 11.9239 - mae: 11.9239\n",
            "Epoch 70/100\n",
            "1/1 [==============================] - 0s 19ms/step - loss: 11.9194 - mae: 11.9194\n",
            "Epoch 71/100\n",
            "1/1 [==============================] - 0s 16ms/step - loss: 11.9149 - mae: 11.9149\n",
            "Epoch 72/100\n",
            "1/1 [==============================] - 0s 10ms/step - loss: 11.9104 - mae: 11.9104\n",
            "Epoch 73/100\n",
            "1/1 [==============================] - 0s 37ms/step - loss: 11.9059 - mae: 11.9059\n",
            "Epoch 74/100\n",
            "1/1 [==============================] - 0s 17ms/step - loss: 11.9014 - mae: 11.9014\n",
            "Epoch 75/100\n",
            "1/1 [==============================] - 0s 14ms/step - loss: 11.8969 - mae: 11.8969\n",
            "Epoch 76/100\n",
            "1/1 [==============================] - 0s 11ms/step - loss: 11.8924 - mae: 11.8924\n",
            "Epoch 77/100\n",
            "1/1 [==============================] - 0s 22ms/step - loss: 11.8879 - mae: 11.8879\n",
            "Epoch 78/100\n",
            "1/1 [==============================] - 0s 20ms/step - loss: 11.8834 - mae: 11.8834\n",
            "Epoch 79/100\n",
            "1/1 [==============================] - 0s 28ms/step - loss: 11.8789 - mae: 11.8789\n",
            "Epoch 80/100\n",
            "1/1 [==============================] - 0s 15ms/step - loss: 11.8744 - mae: 11.8744\n",
            "Epoch 81/100\n",
            "1/1 [==============================] - 0s 14ms/step - loss: 11.8699 - mae: 11.8699\n",
            "Epoch 82/100\n",
            "1/1 [==============================] - 0s 24ms/step - loss: 11.8654 - mae: 11.8654\n",
            "Epoch 83/100\n",
            "1/1 [==============================] - 0s 17ms/step - loss: 11.8609 - mae: 11.8609\n",
            "Epoch 84/100\n",
            "1/1 [==============================] - 0s 11ms/step - loss: 11.8564 - mae: 11.8564\n",
            "Epoch 85/100\n",
            "1/1 [==============================] - 0s 35ms/step - loss: 11.8519 - mae: 11.8519\n",
            "Epoch 86/100\n",
            "1/1 [==============================] - 0s 29ms/step - loss: 11.8474 - mae: 11.8474\n",
            "Epoch 87/100\n",
            "1/1 [==============================] - 0s 30ms/step - loss: 11.8429 - mae: 11.8429\n",
            "Epoch 88/100\n",
            "1/1 [==============================] - 0s 16ms/step - loss: 11.8384 - mae: 11.8384\n",
            "Epoch 89/100\n",
            "1/1 [==============================] - 0s 21ms/step - loss: 11.8340 - mae: 11.8340\n",
            "Epoch 90/100\n",
            "1/1 [==============================] - 0s 15ms/step - loss: 11.8294 - mae: 11.8294\n",
            "Epoch 91/100\n",
            "1/1 [==============================] - 0s 24ms/step - loss: 11.8249 - mae: 11.8249\n",
            "Epoch 92/100\n",
            "1/1 [==============================] - 0s 33ms/step - loss: 11.8204 - mae: 11.8204\n",
            "Epoch 93/100\n",
            "1/1 [==============================] - 0s 44ms/step - loss: 11.8159 - mae: 11.8159\n",
            "Epoch 94/100\n",
            "1/1 [==============================] - 0s 24ms/step - loss: 11.8114 - mae: 11.8114\n",
            "Epoch 95/100\n",
            "1/1 [==============================] - 0s 33ms/step - loss: 11.8069 - mae: 11.8069\n",
            "Epoch 96/100\n",
            "1/1 [==============================] - 0s 29ms/step - loss: 11.8025 - mae: 11.8025\n",
            "Epoch 97/100\n",
            "1/1 [==============================] - 0s 20ms/step - loss: 11.7979 - mae: 11.7979\n",
            "Epoch 98/100\n",
            "1/1 [==============================] - 0s 23ms/step - loss: 11.7934 - mae: 11.7934\n",
            "Epoch 99/100\n",
            "1/1 [==============================] - 0s 22ms/step - loss: 11.7889 - mae: 11.7889\n",
            "Epoch 100/100\n",
            "1/1 [==============================] - 0s 23ms/step - loss: 11.7845 - mae: 11.7845\n"
          ]
        },
        {
          "output_type": "execute_result",
          "data": {
            "text/plain": [
              "<keras.src.callbacks.History at 0x7f227c409b40>"
            ]
          },
          "metadata": {},
          "execution_count": 18
        }
      ]
    },
    {
      "cell_type": "code",
      "source": [
        "# Try make prediction\n",
        "model2.predict([17.0])"
      ],
      "metadata": {
        "colab": {
          "base_uri": "https://localhost:8080/"
        },
        "id": "QeWEo95_J5Gg",
        "outputId": "61372099-01de-4694-de1e-02d5ad6c4aec"
      },
      "execution_count": 19,
      "outputs": [
        {
          "output_type": "stream",
          "name": "stdout",
          "text": [
            "1/1 [==============================] - 0s 291ms/step\n"
          ]
        },
        {
          "output_type": "execute_result",
          "data": {
            "text/plain": [
              "array([[7.9688177]], dtype=float32)"
            ]
          },
          "metadata": {},
          "execution_count": 19
        }
      ]
    },
    {
      "cell_type": "code",
      "source": [
        "# re-write the model\n",
        "\n",
        "# 1. Create the model (with 100 hidden units )\n",
        "model3 = tf.keras.Sequential([\n",
        "    tf.keras.layers.Dense(50, activation=None),\n",
        "    tf.keras.layers.Dense(1)\n",
        "])\n",
        "\n",
        "# 2. Compile the model\n",
        "model3.compile(loss = \"mae\",\n",
        "              optimizer = tf.keras.optimizers.Adam(learning_rate = 0.01),\n",
        "              metrics = [\"mae\"])\n",
        "\n",
        "# 3. Fit the model\n",
        "# model.fit(X, Y, epochs=5) # BREAK IN UPDATED TENSOR VERSION\n",
        "model3.fit(tf.expand_dims(X, axis=-1), Y, epochs=100)"
      ],
      "metadata": {
        "colab": {
          "base_uri": "https://localhost:8080/"
        },
        "id": "KI1XF166hgOa",
        "outputId": "4bd7b5d2-dab6-4c84-832f-6a5b909ef584"
      },
      "execution_count": 20,
      "outputs": [
        {
          "output_type": "stream",
          "name": "stdout",
          "text": [
            "Epoch 1/100\n",
            "1/1 [==============================] - 1s 1s/step - loss: 12.5725 - mae: 12.5725\n",
            "Epoch 2/100\n",
            "1/1 [==============================] - 0s 21ms/step - loss: 11.9514 - mae: 11.9514\n",
            "Epoch 3/100\n",
            "1/1 [==============================] - 0s 18ms/step - loss: 11.3213 - mae: 11.3213\n",
            "Epoch 4/100\n",
            "1/1 [==============================] - 0s 31ms/step - loss: 10.6772 - mae: 10.6772\n",
            "Epoch 5/100\n",
            "1/1 [==============================] - 0s 32ms/step - loss: 10.0160 - mae: 10.0160\n",
            "Epoch 6/100\n",
            "1/1 [==============================] - 0s 17ms/step - loss: 9.3345 - mae: 9.3345\n",
            "Epoch 7/100\n",
            "1/1 [==============================] - 0s 26ms/step - loss: 8.6296 - mae: 8.6296\n",
            "Epoch 8/100\n",
            "1/1 [==============================] - 0s 29ms/step - loss: 7.8987 - mae: 7.8987\n",
            "Epoch 9/100\n",
            "1/1 [==============================] - 0s 16ms/step - loss: 7.1390 - mae: 7.1390\n",
            "Epoch 10/100\n",
            "1/1 [==============================] - 0s 15ms/step - loss: 6.8248 - mae: 6.8248\n",
            "Epoch 11/100\n",
            "1/1 [==============================] - 0s 14ms/step - loss: 7.1332 - mae: 7.1332\n",
            "Epoch 12/100\n",
            "1/1 [==============================] - 0s 12ms/step - loss: 7.4183 - mae: 7.4183\n",
            "Epoch 13/100\n",
            "1/1 [==============================] - 0s 14ms/step - loss: 7.7385 - mae: 7.7385\n",
            "Epoch 14/100\n",
            "1/1 [==============================] - 0s 13ms/step - loss: 7.8105 - mae: 7.8105\n",
            "Epoch 15/100\n",
            "1/1 [==============================] - 0s 13ms/step - loss: 7.6764 - mae: 7.6764\n",
            "Epoch 16/100\n",
            "1/1 [==============================] - 0s 14ms/step - loss: 7.3911 - mae: 7.3911\n",
            "Epoch 17/100\n",
            "1/1 [==============================] - 0s 21ms/step - loss: 7.0423 - mae: 7.0423\n",
            "Epoch 18/100\n",
            "1/1 [==============================] - 0s 24ms/step - loss: 6.7728 - mae: 6.7728\n",
            "Epoch 19/100\n",
            "1/1 [==============================] - 0s 17ms/step - loss: 6.4896 - mae: 6.4896\n",
            "Epoch 20/100\n",
            "1/1 [==============================] - 0s 18ms/step - loss: 6.2009 - mae: 6.2009\n",
            "Epoch 21/100\n",
            "1/1 [==============================] - 0s 15ms/step - loss: 6.1605 - mae: 6.1605\n",
            "Epoch 22/100\n",
            "1/1 [==============================] - 0s 17ms/step - loss: 6.1162 - mae: 6.1162\n",
            "Epoch 23/100\n",
            "1/1 [==============================] - 0s 15ms/step - loss: 6.2484 - mae: 6.2484\n",
            "Epoch 24/100\n",
            "1/1 [==============================] - 0s 15ms/step - loss: 6.2927 - mae: 6.2927\n",
            "Epoch 25/100\n",
            "1/1 [==============================] - 0s 16ms/step - loss: 6.2362 - mae: 6.2362\n",
            "Epoch 26/100\n",
            "1/1 [==============================] - 0s 17ms/step - loss: 6.0907 - mae: 6.0907\n",
            "Epoch 27/100\n",
            "1/1 [==============================] - 0s 24ms/step - loss: 5.8647 - mae: 5.8647\n",
            "Epoch 28/100\n",
            "1/1 [==============================] - 0s 16ms/step - loss: 5.6569 - mae: 5.6569\n",
            "Epoch 29/100\n",
            "1/1 [==============================] - 0s 20ms/step - loss: 5.5504 - mae: 5.5504\n",
            "Epoch 30/100\n",
            "1/1 [==============================] - 0s 15ms/step - loss: 5.4408 - mae: 5.4408\n",
            "Epoch 31/100\n",
            "1/1 [==============================] - 0s 15ms/step - loss: 5.4603 - mae: 5.4603\n",
            "Epoch 32/100\n",
            "1/1 [==============================] - 0s 25ms/step - loss: 5.4520 - mae: 5.4520\n",
            "Epoch 33/100\n",
            "1/1 [==============================] - 0s 22ms/step - loss: 5.4000 - mae: 5.4000\n",
            "Epoch 34/100\n",
            "1/1 [==============================] - 0s 16ms/step - loss: 5.3080 - mae: 5.3080\n",
            "Epoch 35/100\n",
            "1/1 [==============================] - 0s 16ms/step - loss: 5.1795 - mae: 5.1795\n",
            "Epoch 36/100\n",
            "1/1 [==============================] - 0s 17ms/step - loss: 5.0181 - mae: 5.0181\n",
            "Epoch 37/100\n",
            "1/1 [==============================] - 0s 15ms/step - loss: 4.8272 - mae: 4.8272\n",
            "Epoch 38/100\n",
            "1/1 [==============================] - 0s 22ms/step - loss: 4.6850 - mae: 4.6850\n",
            "Epoch 39/100\n",
            "1/1 [==============================] - 0s 22ms/step - loss: 4.5977 - mae: 4.5977\n",
            "Epoch 40/100\n",
            "1/1 [==============================] - 0s 20ms/step - loss: 4.5020 - mae: 4.5020\n",
            "Epoch 41/100\n",
            "1/1 [==============================] - 0s 20ms/step - loss: 4.4587 - mae: 4.4587\n",
            "Epoch 42/100\n",
            "1/1 [==============================] - 0s 14ms/step - loss: 4.3345 - mae: 4.3345\n",
            "Epoch 43/100\n",
            "1/1 [==============================] - 0s 11ms/step - loss: 4.1294 - mae: 4.1294\n",
            "Epoch 44/100\n",
            "1/1 [==============================] - 0s 17ms/step - loss: 3.9783 - mae: 3.9783\n",
            "Epoch 45/100\n",
            "1/1 [==============================] - 0s 12ms/step - loss: 3.8199 - mae: 3.8199\n",
            "Epoch 46/100\n",
            "1/1 [==============================] - 0s 16ms/step - loss: 3.6724 - mae: 3.6724\n",
            "Epoch 47/100\n",
            "1/1 [==============================] - 0s 58ms/step - loss: 3.5557 - mae: 3.5557\n",
            "Epoch 48/100\n",
            "1/1 [==============================] - 0s 37ms/step - loss: 3.3903 - mae: 3.3903\n",
            "Epoch 49/100\n",
            "1/1 [==============================] - 0s 19ms/step - loss: 3.1822 - mae: 3.1822\n",
            "Epoch 50/100\n",
            "1/1 [==============================] - 0s 17ms/step - loss: 3.0175 - mae: 3.0175\n",
            "Epoch 51/100\n",
            "1/1 [==============================] - 0s 21ms/step - loss: 2.8415 - mae: 2.8415\n",
            "Epoch 52/100\n",
            "1/1 [==============================] - 0s 16ms/step - loss: 2.6542 - mae: 2.6542\n",
            "Epoch 53/100\n",
            "1/1 [==============================] - 0s 18ms/step - loss: 2.4554 - mae: 2.4554\n",
            "Epoch 54/100\n",
            "1/1 [==============================] - 0s 23ms/step - loss: 2.2450 - mae: 2.2450\n",
            "Epoch 55/100\n",
            "1/1 [==============================] - 0s 20ms/step - loss: 2.0227 - mae: 2.0227\n",
            "Epoch 56/100\n",
            "1/1 [==============================] - 0s 14ms/step - loss: 1.7885 - mae: 1.7885\n",
            "Epoch 57/100\n",
            "1/1 [==============================] - 0s 13ms/step - loss: 1.5899 - mae: 1.5899\n",
            "Epoch 58/100\n",
            "1/1 [==============================] - 0s 19ms/step - loss: 1.3197 - mae: 1.3197\n",
            "Epoch 59/100\n",
            "1/1 [==============================] - 0s 46ms/step - loss: 1.0570 - mae: 1.0570\n",
            "Epoch 60/100\n",
            "1/1 [==============================] - 0s 49ms/step - loss: 0.7852 - mae: 0.7852\n",
            "Epoch 61/100\n",
            "1/1 [==============================] - 0s 27ms/step - loss: 0.5173 - mae: 0.5173\n",
            "Epoch 62/100\n",
            "1/1 [==============================] - 0s 30ms/step - loss: 0.2165 - mae: 0.2165\n",
            "Epoch 63/100\n",
            "1/1 [==============================] - 0s 29ms/step - loss: 0.1199 - mae: 0.1199\n",
            "Epoch 64/100\n",
            "1/1 [==============================] - 0s 20ms/step - loss: 0.4677 - mae: 0.4677\n",
            "Epoch 65/100\n",
            "1/1 [==============================] - 0s 35ms/step - loss: 0.6133 - mae: 0.6133\n",
            "Epoch 66/100\n",
            "1/1 [==============================] - 0s 26ms/step - loss: 0.6596 - mae: 0.6596\n",
            "Epoch 67/100\n",
            "1/1 [==============================] - 0s 18ms/step - loss: 0.7820 - mae: 0.7820\n",
            "Epoch 68/100\n",
            "1/1 [==============================] - 0s 17ms/step - loss: 0.7266 - mae: 0.7266\n",
            "Epoch 69/100\n",
            "1/1 [==============================] - 0s 35ms/step - loss: 0.8656 - mae: 0.8656\n",
            "Epoch 70/100\n",
            "1/1 [==============================] - 0s 31ms/step - loss: 0.8313 - mae: 0.8313\n",
            "Epoch 71/100\n",
            "1/1 [==============================] - 0s 50ms/step - loss: 0.5889 - mae: 0.5889\n",
            "Epoch 72/100\n",
            "1/1 [==============================] - 0s 35ms/step - loss: 0.5580 - mae: 0.5580\n",
            "Epoch 73/100\n",
            "1/1 [==============================] - 0s 27ms/step - loss: 0.4176 - mae: 0.4176\n",
            "Epoch 74/100\n",
            "1/1 [==============================] - 0s 44ms/step - loss: 0.2785 - mae: 0.2785\n",
            "Epoch 75/100\n",
            "1/1 [==============================] - 0s 28ms/step - loss: 0.1470 - mae: 0.1470\n",
            "Epoch 76/100\n",
            "1/1 [==============================] - 0s 26ms/step - loss: 0.2146 - mae: 0.2146\n",
            "Epoch 77/100\n",
            "1/1 [==============================] - 0s 18ms/step - loss: 0.3437 - mae: 0.3437\n",
            "Epoch 78/100\n",
            "1/1 [==============================] - 0s 24ms/step - loss: 0.2830 - mae: 0.2830\n",
            "Epoch 79/100\n",
            "1/1 [==============================] - 0s 32ms/step - loss: 0.3836 - mae: 0.3836\n",
            "Epoch 80/100\n",
            "1/1 [==============================] - 0s 27ms/step - loss: 0.3440 - mae: 0.3440\n",
            "Epoch 81/100\n",
            "1/1 [==============================] - 0s 39ms/step - loss: 0.3650 - mae: 0.3650\n",
            "Epoch 82/100\n",
            "1/1 [==============================] - 0s 28ms/step - loss: 0.3328 - mae: 0.3328\n",
            "Epoch 83/100\n",
            "1/1 [==============================] - 0s 36ms/step - loss: 0.1441 - mae: 0.1441\n",
            "Epoch 84/100\n",
            "1/1 [==============================] - 0s 44ms/step - loss: 0.2329 - mae: 0.2329\n",
            "Epoch 85/100\n",
            "1/1 [==============================] - 0s 40ms/step - loss: 0.0976 - mae: 0.0976\n",
            "Epoch 86/100\n",
            "1/1 [==============================] - 0s 23ms/step - loss: 0.3483 - mae: 0.3483\n",
            "Epoch 87/100\n",
            "1/1 [==============================] - 0s 40ms/step - loss: 0.3898 - mae: 0.3898\n",
            "Epoch 88/100\n",
            "1/1 [==============================] - 0s 27ms/step - loss: 0.1795 - mae: 0.1795\n",
            "Epoch 89/100\n",
            "1/1 [==============================] - 0s 22ms/step - loss: 0.3449 - mae: 0.3449\n",
            "Epoch 90/100\n",
            "1/1 [==============================] - 0s 20ms/step - loss: 0.4157 - mae: 0.4157\n",
            "Epoch 91/100\n",
            "1/1 [==============================] - 0s 15ms/step - loss: 0.1923 - mae: 0.1923\n",
            "Epoch 92/100\n",
            "1/1 [==============================] - 0s 11ms/step - loss: 0.2786 - mae: 0.2786\n",
            "Epoch 93/100\n",
            "1/1 [==============================] - 0s 24ms/step - loss: 0.3929 - mae: 0.3929\n",
            "Epoch 94/100\n",
            "1/1 [==============================] - 0s 20ms/step - loss: 0.2258 - mae: 0.2258\n",
            "Epoch 95/100\n",
            "1/1 [==============================] - 0s 22ms/step - loss: 0.2099 - mae: 0.2099\n",
            "Epoch 96/100\n",
            "1/1 [==============================] - 0s 21ms/step - loss: 0.2619 - mae: 0.2619\n",
            "Epoch 97/100\n",
            "1/1 [==============================] - 0s 28ms/step - loss: 0.0777 - mae: 0.0777\n",
            "Epoch 98/100\n",
            "1/1 [==============================] - 0s 15ms/step - loss: 0.3377 - mae: 0.3377\n",
            "Epoch 99/100\n",
            "1/1 [==============================] - 0s 18ms/step - loss: 0.3919 - mae: 0.3919\n",
            "Epoch 100/100\n",
            "1/1 [==============================] - 0s 22ms/step - loss: 0.1666 - mae: 0.1666\n"
          ]
        },
        {
          "output_type": "execute_result",
          "data": {
            "text/plain": [
              "<keras.src.callbacks.History at 0x7f227c302c80>"
            ]
          },
          "metadata": {},
          "execution_count": 20
        }
      ]
    },
    {
      "cell_type": "code",
      "source": [
        "# Try make prediction\n",
        "model3.predict([17.0])"
      ],
      "metadata": {
        "colab": {
          "base_uri": "https://localhost:8080/"
        },
        "id": "iZcXS1vmiusq",
        "outputId": "4357bfb5-9e1b-4a8e-f694-54aa711aa306"
      },
      "execution_count": 21,
      "outputs": [
        {
          "output_type": "stream",
          "name": "stdout",
          "text": [
            "1/1 [==============================] - 0s 67ms/step\n"
          ]
        },
        {
          "output_type": "execute_result",
          "data": {
            "text/plain": [
              "array([[27.867792]], dtype=float32)"
            ]
          },
          "metadata": {},
          "execution_count": 21
        }
      ]
    },
    {
      "cell_type": "markdown",
      "source": [
        "## Evaluating Model\n",
        "\n",
        "Build a model -> fit it -> evaluate it -> tweak a model -> fit it -> evaluate it...\n",
        "\n",
        "Evaluation = visualize\n",
        "\n",
        "it's good idea to visualize :\n",
        "* The data - what data we working with? what does it look like?\n",
        "* The model = what does our model look like?\n",
        "* The training of a model - how does a model perform while it learns?\n",
        "* The predictions of the model - how do the predictions of a model line up against the ground truth (the origin label)"
      ],
      "metadata": {
        "id": "ggu1CbXFlSbl"
      }
    },
    {
      "cell_type": "code",
      "source": [
        "# Make a bigger dataset\n",
        "\n",
        "x = tf.range(-100, 100, 4)\n",
        "x"
      ],
      "metadata": {
        "colab": {
          "base_uri": "https://localhost:8080/"
        },
        "id": "O5yDk0J9lV5n",
        "outputId": "564ae570-763d-4442-dd39-602d8a86a36e"
      },
      "execution_count": 22,
      "outputs": [
        {
          "output_type": "execute_result",
          "data": {
            "text/plain": [
              "<tf.Tensor: shape=(50,), dtype=int32, numpy=\n",
              "array([-100,  -96,  -92,  -88,  -84,  -80,  -76,  -72,  -68,  -64,  -60,\n",
              "        -56,  -52,  -48,  -44,  -40,  -36,  -32,  -28,  -24,  -20,  -16,\n",
              "        -12,   -8,   -4,    0,    4,    8,   12,   16,   20,   24,   28,\n",
              "         32,   36,   40,   44,   48,   52,   56,   60,   64,   68,   72,\n",
              "         76,   80,   84,   88,   92,   96], dtype=int32)>"
            ]
          },
          "metadata": {},
          "execution_count": 22
        }
      ]
    },
    {
      "cell_type": "code",
      "source": [
        "# Make labels for the dataset\n",
        "\n",
        "y = x + 10\n",
        "y"
      ],
      "metadata": {
        "colab": {
          "base_uri": "https://localhost:8080/"
        },
        "id": "_VnV5iodqYP8",
        "outputId": "c124d530-108b-4da6-91e5-adfb6d73771b"
      },
      "execution_count": 23,
      "outputs": [
        {
          "output_type": "execute_result",
          "data": {
            "text/plain": [
              "<tf.Tensor: shape=(50,), dtype=int32, numpy=\n",
              "array([-90, -86, -82, -78, -74, -70, -66, -62, -58, -54, -50, -46, -42,\n",
              "       -38, -34, -30, -26, -22, -18, -14, -10,  -6,  -2,   2,   6,  10,\n",
              "        14,  18,  22,  26,  30,  34,  38,  42,  46,  50,  54,  58,  62,\n",
              "        66,  70,  74,  78,  82,  86,  90,  94,  98, 102, 106], dtype=int32)>"
            ]
          },
          "metadata": {},
          "execution_count": 23
        }
      ]
    },
    {
      "cell_type": "code",
      "source": [
        "# Visualize the data\n",
        "\n",
        "import matplotlib.pyplot as plt\n",
        "\n",
        "plt.scatter(x, y)"
      ],
      "metadata": {
        "colab": {
          "base_uri": "https://localhost:8080/",
          "height": 447
        },
        "id": "wqnieOnpqiby",
        "outputId": "2e715430-a5dc-443e-e70f-b3d0382caedb"
      },
      "execution_count": 24,
      "outputs": [
        {
          "output_type": "execute_result",
          "data": {
            "text/plain": [
              "<matplotlib.collections.PathCollection at 0x7f2274570b20>"
            ]
          },
          "metadata": {},
          "execution_count": 24
        },
        {
          "output_type": "display_data",
          "data": {
            "text/plain": [
              "<Figure size 640x480 with 1 Axes>"
            ],
            "image/png": "[encoded data removed]"
          },
          "metadata": {}
        }
      ]
    },
    {
      "cell_type": "markdown",
      "source": [
        "### The 3 sets\n",
        "\n",
        "* **Training set** - the model learn from this data, 70-80%\n",
        "* **Validation set** - set model gets tuned on this data, 10-15%\n",
        "* **Test set** - the model gets evaluated on this data, 10-15%"
      ],
      "metadata": {
        "id": "CCtd3h36q0Xk"
      }
    },
    {
      "cell_type": "code",
      "source": [
        "# Check the length of the data\n",
        "len(x)"
      ],
      "metadata": {
        "colab": {
          "base_uri": "https://localhost:8080/"
        },
        "id": "2_ITjQWjFQsM",
        "outputId": "6230d916-e54e-4913-d615-d48694fd5eb1"
      },
      "execution_count": 25,
      "outputs": [
        {
          "output_type": "execute_result",
          "data": {
            "text/plain": [
              "50"
            ]
          },
          "metadata": {},
          "execution_count": 25
        }
      ]
    },
    {
      "cell_type": "code",
      "source": [
        "# Split the data into train and test sets\n",
        "x_train = x[:40] # first to 40 data will be the training sample\n",
        "y_train = y[:40]\n",
        "\n",
        "x_test = x[40:] # 20% will be test\n",
        "y_test = y[40:]\n",
        "\n",
        "len(x_train), len(x_test), len(y_train), len(y_test)"
      ],
      "metadata": {
        "colab": {
          "base_uri": "https://localhost:8080/"
        },
        "id": "4fkIFEl_HAu3",
        "outputId": "f1cb2b6a-1c92-4fe2-af23-2d41922fde9b"
      },
      "execution_count": 26,
      "outputs": [
        {
          "output_type": "execute_result",
          "data": {
            "text/plain": [
              "(40, 10, 40, 10)"
            ]
          },
          "metadata": {},
          "execution_count": 26
        }
      ]
    },
    {
      "cell_type": "markdown",
      "source": [
        "### Visualing the data\n",
        "\n",
        "Now we've got out data in training and test sets...lets visualize it"
      ],
      "metadata": {
        "id": "9WJ9AtA0KgLL"
      }
    },
    {
      "cell_type": "code",
      "source": [
        "plt.figure(figsize=(10,7))\n",
        "\n",
        "# Plot training data in blue\n",
        "plt.scatter(x_train, y_train, c=\"b\", label=\"Training data\")\n",
        "\n",
        "# Plot test data in green\n",
        "plt.scatter(x_test, y_test, c=\"g\", label=\"Testing data\")\n",
        "\n",
        "# Show a legend\n",
        "plt.legend();"
      ],
      "metadata": {
        "colab": {
          "base_uri": "https://localhost:8080/",
          "height": 599
        },
        "id": "OQGu_de6G_li",
        "outputId": "413cd2c9-aff4-49e2-edb6-f30769aa4e6a"
      },
      "execution_count": 27,
      "outputs": [
        {
          "output_type": "display_data",
          "data": {
            "text/plain": [
              "<Figure size 1000x700 with 1 Axes>"
            ],
            "image/png": "[encoded data removed]"
          },
          "metadata": {}
        }
      ]
    },
    {
      "cell_type": "code",
      "source": [
        "# Lets have a look at how to build a neural network for our data\n",
        "\n",
        "# 1. Create the model\n",
        "model = tf.keras.Sequential([\n",
        "    tf.keras.layers.Dense(1)\n",
        "])\n",
        "\n",
        "# 2. Compile the model\n",
        "model.compile(loss = tf.keras.losses.mae,\n",
        "              optimizer = tf.keras.optimizers.SGD(),\n",
        "              metrics = [\"mae\"])\n",
        "\n",
        "# 3. Fit the model\n",
        "#model.fit(tf.expand_dims(x_train, axis=-1), y_train, epochs=100)"
      ],
      "metadata": {
        "id": "TtdWZXKHSSN-"
      },
      "execution_count": 28,
      "outputs": []
    },
    {
      "cell_type": "markdown",
      "source": [
        "### Visualizing the model"
      ],
      "metadata": {
        "id": "F7d7P08yTScA"
      }
    },
    {
      "cell_type": "code",
      "source": [
        "# Lets create  model wich builds automatically by defining the input_shape arguments\n",
        "\n",
        "tf.random.set_seed(42)\n",
        "\n",
        "# 1. Create the model\n",
        "model = tf.keras.Sequential([\n",
        "    tf.keras.layers.Dense(100, input_shape=[1], name=\"input_layer\"),\n",
        "    tf.keras.layers.Dense(1, name=\"output_layer\")\n",
        "], name=\"model_one\")\n",
        "\n",
        "# 2. Compile the model\n",
        "model.compile(loss = tf.keras.losses.mae,\n",
        "              optimizer = tf.keras.optimizers.SGD(),\n",
        "              metrics = [\"mae\"])"
      ],
      "metadata": {
        "id": "MpSA6LxwTzZK"
      },
      "execution_count": 29,
      "outputs": []
    },
    {
      "cell_type": "code",
      "source": [
        "model.summary()"
      ],
      "metadata": {
        "colab": {
          "base_uri": "https://localhost:8080/"
        },
        "id": "-jMC9-6WUyLw",
        "outputId": "b3f2d7f8-7d04-41f0-de19-d25446ed49fd"
      },
      "execution_count": 30,
      "outputs": [
        {
          "output_type": "stream",
          "name": "stdout",
          "text": [
            "Model: \"model_one\"\n",
            "_________________________________________________________________\n",
            " Layer (type)                Output Shape              Param #   \n",
            "=================================================================\n",
            " input_layer (Dense)         (None, 100)               200       \n",
            "                                                                 \n",
            " output_layer (Dense)        (None, 1)                 101       \n",
            "                                                                 \n",
            "=================================================================\n",
            "Total params: 301 (1.18 KB)\n",
            "Trainable params: 301 (1.18 KB)\n",
            "Non-trainable params: 0 (0.00 Byte)\n",
            "_________________________________________________________________\n"
          ]
        }
      ]
    },
    {
      "cell_type": "markdown",
      "source": [
        "* Total params - total number of parameters that we have\n",
        "\n",
        "* Trainable parameters - the parameters (patterns) the model can update as it trains\n",
        "\n",
        "* Non-trainable params - parameters cant updated during training (allready learn in models during **transfer learning**)\n",
        "\n",
        "📚 **Resource** : For a more in depth overview of the trainable parameters within a layer, check ouy MIT's intorduction to deep learning video\n",
        "\n",
        "⚡**Exercise :** Try playing around with the number of hidden units in the dense layer, see how that effect the number of parameters"
      ],
      "metadata": {
        "id": "fkeG27Fm3_t1"
      }
    },
    {
      "cell_type": "code",
      "source": [
        "# 3. Fit the model\n",
        "model.fit(tf.expand_dims(x_train, axis=-1), y_train, epochs=60, verbose=0)"
      ],
      "metadata": {
        "colab": {
          "base_uri": "https://localhost:8080/"
        },
        "id": "e-cgkHtW6914",
        "outputId": "788d3d3e-b1c8-4e63-d533-f4eabb60ea66"
      },
      "execution_count": 31,
      "outputs": [
        {
          "output_type": "execute_result",
          "data": {
            "text/plain": [
              "<keras.src.callbacks.History at 0x7f227d1a3190>"
            ]
          },
          "metadata": {},
          "execution_count": 31
        }
      ]
    },
    {
      "cell_type": "code",
      "source": [
        "# Get a summary of our model\n",
        "model.summary()"
      ],
      "metadata": {
        "colab": {
          "base_uri": "https://localhost:8080/"
        },
        "id": "IYam8Kl-M2o7",
        "outputId": "17ca1ee0-787c-494c-bffd-cb8030ca783a"
      },
      "execution_count": 32,
      "outputs": [
        {
          "output_type": "stream",
          "name": "stdout",
          "text": [
            "Model: \"model_one\"\n",
            "_________________________________________________________________\n",
            " Layer (type)                Output Shape              Param #   \n",
            "=================================================================\n",
            " input_layer (Dense)         (None, 100)               200       \n",
            "                                                                 \n",
            " output_layer (Dense)        (None, 1)                 101       \n",
            "                                                                 \n",
            "=================================================================\n",
            "Total params: 301 (1.18 KB)\n",
            "Trainable params: 301 (1.18 KB)\n",
            "Non-trainable params: 0 (0.00 Byte)\n",
            "_________________________________________________________________\n"
          ]
        }
      ]
    },
    {
      "cell_type": "code",
      "source": [
        "from tensorflow.keras.utils import plot_model\n",
        "\n",
        "plot_model(model=model, show_shapes=True)"
      ],
      "metadata": {
        "colab": {
          "base_uri": "https://localhost:8080/",
          "height": 312
        },
        "id": "EMxErQE0NVSc",
        "outputId": "c34a70ca-9e10-4e31-ad54-4908749c492c"
      },
      "execution_count": 33,
      "outputs": [
        {
          "output_type": "execute_result",
          "data": {
            "image/png": "[encoded data removed]",
            "text/plain": [
              "<IPython.core.display.Image object>"
            ]
          },
          "metadata": {},
          "execution_count": 33
        }
      ]
    },
    {
      "cell_type": "markdown",
      "source": [
        "### Visualizing our models predictions\n",
        "\n",
        "To visualize predictions, it's a good idea to plot them against the ground truth labels.\n",
        "\n",
        "Often you'll see this in the form of 'y_test' or 'y_true' versus 'y_pred' (ground truth versus your model prediction)"
      ],
      "metadata": {
        "id": "XXOFpjXFOyH9"
      }
    },
    {
      "cell_type": "code",
      "source": [
        "# Make some predictions\n",
        "\n",
        "y_pred = model.predict(x_test)\n",
        "y_pred"
      ],
      "metadata": {
        "colab": {
          "base_uri": "https://localhost:8080/"
        },
        "id": "943XbXEayJf3",
        "outputId": "de028b82-9050-4368-ec92-2d30259857d8"
      },
      "execution_count": 34,
      "outputs": [
        {
          "output_type": "stream",
          "name": "stderr",
          "text": [
            "WARNING:tensorflow:5 out of the last 5 calls to <function Model.make_predict_function.<locals>.predict_function at 0x7f227d42bbe0> triggered tf.function retracing. Tracing is expensive and the excessive number of tracings could be due to (1) creating @tf.function repeatedly in a loop, (2) passing tensors with different shapes, (3) passing Python objects instead of tensors. For (1), please define your @tf.function outside of the loop. For (2), @tf.function has reduce_retracing=True option that can avoid unnecessary retracing. For (3), please refer to https://www.tensorflow.org/guide/function#controlling_retracing and https://www.tensorflow.org/api_docs/python/tf/function for  more details.\n"
          ]
        },
        {
          "output_type": "stream",
          "name": "stdout",
          "text": [
            "1/1 [==============================] - 0s 99ms/step\n"
          ]
        },
        {
          "output_type": "execute_result",
          "data": {
            "text/plain": [
              "array([[ 71.43558 ],\n",
              "       [ 76.12957 ],\n",
              "       [ 80.82354 ],\n",
              "       [ 85.51752 ],\n",
              "       [ 90.211494],\n",
              "       [ 94.90547 ],\n",
              "       [ 99.59945 ],\n",
              "       [104.29344 ],\n",
              "       [108.98742 ],\n",
              "       [113.68139 ]], dtype=float32)"
            ]
          },
          "metadata": {},
          "execution_count": 34
        }
      ]
    },
    {
      "cell_type": "code",
      "source": [
        "y_test"
      ],
      "metadata": {
        "colab": {
          "base_uri": "https://localhost:8080/"
        },
        "id": "Ke-R5lq9zVa3",
        "outputId": "33b3c0ce-6cce-41dd-ed80-b175fe3abfc8"
      },
      "execution_count": 35,
      "outputs": [
        {
          "output_type": "execute_result",
          "data": {
            "text/plain": [
              "<tf.Tensor: shape=(10,), dtype=int32, numpy=array([ 70,  74,  78,  82,  86,  90,  94,  98, 102, 106], dtype=int32)>"
            ]
          },
          "metadata": {},
          "execution_count": 35
        }
      ]
    },
    {
      "cell_type": "markdown",
      "source": [
        "🔑 **Note : ** if you feel like you're going to reuse some functionality in the future, its good idea to turn it into a fucntion"
      ],
      "metadata": {
        "id": "nSO6jWAR09Jt"
      }
    },
    {
      "cell_type": "code",
      "source": [
        "# Lets create a plotting function\n",
        "\n",
        "def plot_predictions(train_data=x_train,\n",
        "                     train_labels=y_train,\n",
        "                     test_data=x_test,\n",
        "                     test_labels=y_test,\n",
        "                     predictions=y_pred):\n",
        "  \"\"\"\n",
        "  Plots training data, test data and compares predictions to ground truth labels\n",
        "  \"\"\"\n",
        "  plt.figure(figsize=(10,7))\n",
        "  # Plot training data in blue\n",
        "  plt.scatter(train_data, train_labels, c=\"b\", label=\"Training data\")\n",
        "\n",
        "  # Plot testing data in green\n",
        "  plt.scatter(test_data, test_labels, c=\"g\", label=\"Test data\")\n",
        "\n",
        "  # Plot models predictions in red\n",
        "  plt.scatter(test_data, predictions, c=\"r\", label=\"Predictions\")\n",
        "\n",
        "  # Show the legend\n",
        "  plt.legend()\n",
        "\n"
      ],
      "metadata": {
        "id": "Wt-qJvPk1MAh"
      },
      "execution_count": 42,
      "outputs": []
    },
    {
      "cell_type": "code",
      "source": [
        "plot_predictions()"
      ],
      "metadata": {
        "colab": {
          "base_uri": "https://localhost:8080/",
          "height": 599
        },
        "id": "7ZFYZPV5200S",
        "outputId": "67af1f18-b030-4fd3-bf66-484ee12fc4ae"
      },
      "execution_count": 43,
      "outputs": [
        {
          "output_type": "display_data",
          "data": {
            "text/plain": [
              "<Figure size 1000x700 with 1 Axes>"
            ],
            "image/png": "[encoded data removed]"
          },
          "metadata": {}
        }
      ]
    },
    {
      "cell_type": "markdown",
      "source": [
        "### Evaluating our models predictions with regression evaluation metrics\n",
        "\n",
        "The evaluation metrics is depending to the model we working on\n",
        "\n",
        "since we're working on a regression, two of the main matrics:\n",
        "* MAE - mean absolute error, \"on average, how wrong is each of my model predictions\"\n",
        "\n",
        "* MSE - mean square error, \"square the average errors\""
      ],
      "metadata": {
        "id": "xWQ92ZRr4V_K"
      }
    },
    {
      "cell_type": "code",
      "source": [
        " # Evaluate the model on the test\n",
        " model.evaluate(x_test, y_test)"
      ],
      "metadata": {
        "id": "y3-bYOHr0p-A",
        "colab": {
          "base_uri": "https://localhost:8080/"
        },
        "outputId": "4c98a33b-10c4-4143-c3fd-1458ccbb6867"
      },
      "execution_count": 44,
      "outputs": [
        {
          "output_type": "stream",
          "name": "stdout",
          "text": [
            "1/1 [==============================] - 0s 221ms/step - loss: 4.5585 - mae: 4.5585\n"
          ]
        },
        {
          "output_type": "execute_result",
          "data": {
            "text/plain": [
              "[4.558483123779297, 4.558483123779297]"
            ]
          },
          "metadata": {},
          "execution_count": 44
        }
      ]
    },
    {
      "cell_type": "code",
      "source": [
        "# Calculate the mean absolute error\n",
        "mae = tf.metrics.mean_absolute_error(y_true=y_test, y_pred=tf.constant(y_pred))\n",
        "mae"
      ],
      "metadata": {
        "colab": {
          "base_uri": "https://localhost:8080/"
        },
        "id": "bAwZ_yTfPV4C",
        "outputId": "b5ba314b-fda1-4cad-8e86-3c27e0b4d682"
      },
      "execution_count": 45,
      "outputs": [
        {
          "output_type": "execute_result",
          "data": {
            "text/plain": [
              "<tf.Tensor: shape=(10,), dtype=float32, numpy=\n",
              "array([16.851538, 13.522258, 11.270584, 10.096497, 10.042299, 11.162189,\n",
              "       13.35967 , 16.634754, 20.98742 , 25.68139 ], dtype=float32)>"
            ]
          },
          "metadata": {},
          "execution_count": 45
        }
      ]
    },
    {
      "cell_type": "code",
      "source": [
        "tf.constant(y_pred)"
      ],
      "metadata": {
        "colab": {
          "base_uri": "https://localhost:8080/"
        },
        "id": "v6CpJX1IPiwj",
        "outputId": "d61e46bd-d694-4372-8df2-3987b58d4684"
      },
      "execution_count": 46,
      "outputs": [
        {
          "output_type": "execute_result",
          "data": {
            "text/plain": [
              "<tf.Tensor: shape=(10, 1), dtype=float32, numpy=\n",
              "array([[ 71.43558 ],\n",
              "       [ 76.12957 ],\n",
              "       [ 80.82354 ],\n",
              "       [ 85.51752 ],\n",
              "       [ 90.211494],\n",
              "       [ 94.90547 ],\n",
              "       [ 99.59945 ],\n",
              "       [104.29344 ],\n",
              "       [108.98742 ],\n",
              "       [113.68139 ]], dtype=float32)>"
            ]
          },
          "metadata": {},
          "execution_count": 46
        }
      ]
    },
    {
      "cell_type": "code",
      "source": [
        "y_test"
      ],
      "metadata": {
        "colab": {
          "base_uri": "https://localhost:8080/"
        },
        "id": "JusnDI5oPlKR",
        "outputId": "45f5ae61-47f9-41d9-f8da-6b27643e41dc"
      },
      "execution_count": 47,
      "outputs": [
        {
          "output_type": "execute_result",
          "data": {
            "text/plain": [
              "<tf.Tensor: shape=(10,), dtype=int32, numpy=array([ 70,  74,  78,  82,  86,  90,  94,  98, 102, 106], dtype=int32)>"
            ]
          },
          "metadata": {},
          "execution_count": 47
        }
      ]
    },
    {
      "cell_type": "code",
      "source": [
        "tf.squeeze(y_pred)"
      ],
      "metadata": {
        "colab": {
          "base_uri": "https://localhost:8080/"
        },
        "id": "WqQJPNiwyi56",
        "outputId": "3ef9f4a9-bf24-4d81-8b33-b5727d92dd45"
      },
      "execution_count": 48,
      "outputs": [
        {
          "output_type": "execute_result",
          "data": {
            "text/plain": [
              "<tf.Tensor: shape=(10,), dtype=float32, numpy=\n",
              "array([ 71.43558 ,  76.12957 ,  80.82354 ,  85.51752 ,  90.211494,\n",
              "        94.90547 ,  99.59945 , 104.29344 , 108.98742 , 113.68139 ],\n",
              "      dtype=float32)>"
            ]
          },
          "metadata": {},
          "execution_count": 48
        }
      ]
    },
    {
      "cell_type": "code",
      "source": [
        "# Calculate the mean absolute error\n",
        "\n",
        "mae = tf.metrics.mean_absolute_error(y_true=y_test, y_pred=tf.squeeze(y_pred))\n",
        "\n",
        "mae"
      ],
      "metadata": {
        "colab": {
          "base_uri": "https://localhost:8080/"
        },
        "id": "uUT4LV7uypPs",
        "outputId": "cc2c67fb-d3b1-4ccd-fd83-05b3f9e43dd9"
      },
      "execution_count": 49,
      "outputs": [
        {
          "output_type": "execute_result",
          "data": {
            "text/plain": [
              "<tf.Tensor: shape=(), dtype=float32, numpy=4.558487>"
            ]
          },
          "metadata": {},
          "execution_count": 49
        }
      ]
    },
    {
      "cell_type": "code",
      "source": [
        "# Calculate the mean square error\n",
        "\n",
        "mse = tf.metrics.mean_squared_error(y_true=y_test, y_pred=tf.squeeze(y_pred))\n",
        "mse"
      ],
      "metadata": {
        "id": "QpelDvIC2Nvg",
        "colab": {
          "base_uri": "https://localhost:8080/"
        },
        "outputId": "37006b69-fdf8-41e4-96b9-bb8ee4323069"
      },
      "execution_count": 50,
      "outputs": [
        {
          "output_type": "execute_result",
          "data": {
            "text/plain": [
              "<tf.Tensor: shape=(), dtype=float32, numpy=24.75306>"
            ]
          },
          "metadata": {},
          "execution_count": 50
        }
      ]
    },
    {
      "cell_type": "code",
      "source": [
        "# Make fucntion to reuse MAE and MSE\n",
        "def mae(y_true, y_pred):\n",
        "  return tf.metrics.mean_absolute_error(y_true=y_true,\n",
        "                                      y_pred=tf.squeeze(y_pred))\n",
        "\n",
        "def mse(y_true,y_pred):\n",
        "  return tf.metrics.mean_squared_error(y_true=y_true,\n",
        "                                       y_pred=tf.squeeze(y_pred))"
      ],
      "metadata": {
        "id": "oCsUvdVW2yQL"
      },
      "execution_count": 62,
      "outputs": []
    },
    {
      "cell_type": "markdown",
      "source": [
        "### Running experiments to improve our model\n",
        "\n",
        "1. Get more data - get more example for model\n",
        "\n",
        "2. Make your model larger (using a more complex model) - matbe more layers or hidden units\n",
        "\n",
        "3. Train for longer - give model more chance to find patterns in data\n",
        "\n",
        "Let's do 3 modelling experiment L\n",
        "\n",
        "1. 'model_1' - same as the origin, 1 layer, trained for 100 epochs\n",
        "\n",
        "2. 'model_2' - 2 layers, trained for 100 epochs\n",
        "\n",
        "3. 'model_3' - 2 layers, rained for 500 epochs"
      ],
      "metadata": {
        "id": "U73RgqjhN1Gb"
      }
    },
    {
      "cell_type": "code",
      "source": [
        "x_train, y_train"
      ],
      "metadata": {
        "colab": {
          "base_uri": "https://localhost:8080/"
        },
        "id": "ZRYFc01nOexa",
        "outputId": "f0342f63-aa0b-44fd-cf9a-1c4bcbda875e"
      },
      "execution_count": 52,
      "outputs": [
        {
          "output_type": "execute_result",
          "data": {
            "text/plain": [
              "(<tf.Tensor: shape=(40,), dtype=int32, numpy=\n",
              " array([-100,  -96,  -92,  -88,  -84,  -80,  -76,  -72,  -68,  -64,  -60,\n",
              "         -56,  -52,  -48,  -44,  -40,  -36,  -32,  -28,  -24,  -20,  -16,\n",
              "         -12,   -8,   -4,    0,    4,    8,   12,   16,   20,   24,   28,\n",
              "          32,   36,   40,   44,   48,   52,   56], dtype=int32)>,\n",
              " <tf.Tensor: shape=(40,), dtype=int32, numpy=\n",
              " array([-90, -86, -82, -78, -74, -70, -66, -62, -58, -54, -50, -46, -42,\n",
              "        -38, -34, -30, -26, -22, -18, -14, -10,  -6,  -2,   2,   6,  10,\n",
              "         14,  18,  22,  26,  30,  34,  38,  42,  46,  50,  54,  58,  62,\n",
              "         66], dtype=int32)>)"
            ]
          },
          "metadata": {},
          "execution_count": 52
        }
      ]
    },
    {
      "cell_type": "code",
      "source": [
        "# First build model_1\n",
        "\n",
        "# Ser random seed\n",
        "tf.random.set_seed(42)\n",
        "\n",
        "# 1. Create the model\n",
        "model_1 = tf.keras.Sequential([\n",
        "    tf.keras.layers.Dense(1)\n",
        "])\n",
        "\n",
        "# 2. Compile the model\n",
        "model_1.compile(loss=tf.keras.losses.mae,\n",
        "                optimizer=tf.keras.optimizers.SGD(),\n",
        "                metrics=[\"mae\"],\n",
        "                run_eagerly=True)\n",
        "\n",
        "# 3. FIt the model\n",
        "model.fit(tf.expand_dims(x_train, axis=-1), y_train, epochs=100, verbose=0)"
      ],
      "metadata": {
        "colab": {
          "base_uri": "https://localhost:8080/"
        },
        "id": "Bm7GqWOpN77n",
        "outputId": "a327dd22-5778-4c52-b227-425dafd93842"
      },
      "execution_count": 53,
      "outputs": [
        {
          "output_type": "execute_result",
          "data": {
            "text/plain": [
              "<keras.src.callbacks.History at 0x7f227d38ef20>"
            ]
          },
          "metadata": {},
          "execution_count": 53
        }
      ]
    },
    {
      "cell_type": "code",
      "source": [
        "model_1.predict(tf.reshape(x_test, shape=(-1,1)))"
      ],
      "metadata": {
        "colab": {
          "base_uri": "https://localhost:8080/"
        },
        "id": "vvrhWzRwTr-8",
        "outputId": "c36389d6-c5bd-4969-cb25-10e7549419f9"
      },
      "execution_count": 57,
      "outputs": [
        {
          "output_type": "stream",
          "name": "stdout",
          "text": [
            "1/1 [==============================] - 0s 181ms/step\n"
          ]
        },
        {
          "output_type": "execute_result",
          "data": {
            "text/plain": [
              "array([[23.632572],\n",
              "       [25.208076],\n",
              "       [26.78358 ],\n",
              "       [28.359085],\n",
              "       [29.934591],\n",
              "       [31.510096],\n",
              "       [33.0856  ],\n",
              "       [34.661106],\n",
              "       [36.23661 ],\n",
              "       [37.812115]], dtype=float32)"
            ]
          },
          "metadata": {},
          "execution_count": 57
        }
      ]
    },
    {
      "cell_type": "code",
      "source": [
        "# Make a plot predictions for model_1\n",
        "\n",
        "# x_test = tf.reshape(x_test, shape=(-1,1))\n",
        "\n",
        "y_preds_1 = model_1.predict(tf.reshape(x_test, shape=(-1,1)))\n",
        "plot_predictions(predictions=y_preds_1)"
      ],
      "metadata": {
        "colab": {
          "base_uri": "https://localhost:8080/",
          "height": 616
        },
        "id": "-VTt2FvCQK0C",
        "outputId": "fe217e27-4cb2-4d7d-aaed-b3cc19847f47"
      },
      "execution_count": 66,
      "outputs": [
        {
          "output_type": "stream",
          "name": "stdout",
          "text": [
            "1/1 [==============================] - 0s 26ms/step\n"
          ]
        },
        {
          "output_type": "display_data",
          "data": {
            "text/plain": [
              "<Figure size 1000x700 with 1 Axes>"
            ],
            "image/png": "[encoded data removed]"
          },
          "metadata": {}
        }
      ]
    },
    {
      "cell_type": "code",
      "source": [
        "# Calculate model_1 evaluation metrics\n",
        "\n",
        "mae_1 = mae(y_test, y_preds_1)\n",
        "mse_1 = mse(y_test, y_preds_1)\n",
        "\n",
        "mae_1, mse_1"
      ],
      "metadata": {
        "colab": {
          "base_uri": "https://localhost:8080/"
        },
        "id": "3u6Og5EaqZEp",
        "outputId": "af834997-4154-4d10-b55b-d9c9cf9a4a21"
      },
      "execution_count": 65,
      "outputs": [
        {
          "output_type": "execute_result",
          "data": {
            "text/plain": [
              "(<tf.Tensor: shape=(), dtype=float32, numpy=57.277657>,\n",
              " <tf.Tensor: shape=(), dtype=float32, numpy=3329.225>)"
            ]
          },
          "metadata": {},
          "execution_count": 65
        }
      ]
    },
    {
      "cell_type": "markdown",
      "source": [
        "**Build model_2**\n",
        "\n",
        "* 2 dense layers, trained for 100 epochs"
      ],
      "metadata": {
        "id": "3IG91oWhsu7n"
      }
    },
    {
      "cell_type": "code",
      "source": [
        "# Build model_2\n",
        "\n",
        "# 1. Create model\n",
        "model_2 = tf.keras.Sequential([\n",
        "    tf.keras.layers.Dense(1,input_shape=[1], name=\"input_layer\"),\n",
        "    tf.keras.layers.Dense(1, name=\"Output_layer\")\n",
        "])\n",
        "\n",
        "# 2. Compile the model\n",
        "\n",
        "model.compile(loss = mae,\n",
        "              optimizer = tf.keras.optimizers.SGD(),\n",
        "              metrics = [\"mae\"])"
      ],
      "metadata": {
        "id": "F9HBFkiUvO0E"
      },
      "execution_count": 71,
      "outputs": []
    },
    {
      "cell_type": "code",
      "source": [
        "plot_model(model=model_2, show_shapes=True)"
      ],
      "metadata": {
        "colab": {
          "base_uri": "https://localhost:8080/",
          "height": 312
        },
        "id": "oseH-p4fx3o3",
        "outputId": "cf9561a8-257e-4907-c42a-2d32417e7498"
      },
      "execution_count": 72,
      "outputs": [
        {
          "output_type": "execute_result",
          "data": {
            "image/png": "[encoded data removed]",
            "text/plain": [
              "<IPython.core.display.Image object>"
            ]
          },
          "metadata": {},
          "execution_count": 72
        }
      ]
    }
  ]
}