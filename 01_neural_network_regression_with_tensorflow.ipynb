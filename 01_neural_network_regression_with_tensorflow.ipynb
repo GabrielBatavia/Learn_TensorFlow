{
  "nbformat": 4,
  "nbformat_minor": 0,
  "metadata": {
    "colab": {
      "provenance": [],
      "authorship_tag": "ABX9TyPoLojcDGLYYpPJRm12Yuwz",
      "include_colab_link": true
    },
    "kernelspec": {
      "name": "python3",
      "display_name": "Python 3"
    },
    "language_info": {
      "name": "python"
    }
  },
  "cells": [
    {
      "cell_type": "markdown",
      "metadata": {
        "id": "view-in-github",
        "colab_type": "text"
      },
      "source": [
        "<a href=\"https://colab.research.google.com/github/GabrielBatavia/Learn_TensorFlow/blob/main/01_neural_network_regression_with_tensorflow.ipynb\" target=\"_parent\"><img src=\"https://colab.research.google.com/assets/colab-badge.svg\" alt=\"Open In Colab\"/></a>"
      ]
    },
    {
      "cell_type": "markdown",
      "source": [
        "# Introduction to Regression with Neural Networks in TensorFlow\n",
        "\n",
        "There are many definition for a regression problem but in our case, we're going to simplify it : predicting a numerical variable based on some other combination of variables, even shorter...predicting a number."
      ],
      "metadata": {
        "id": "eANshE7nr2zb"
      }
    },
    {
      "cell_type": "code",
      "execution_count": 1,
      "metadata": {
        "colab": {
          "base_uri": "https://localhost:8080/"
        },
        "id": "UmVJP_eWrO59",
        "outputId": "28228e29-4d55-43c3-b301-f4227ca58af7"
      },
      "outputs": [
        {
          "output_type": "stream",
          "name": "stdout",
          "text": [
            "2.15.0\n"
          ]
        }
      ],
      "source": [
        "# Import TensorFlow\n",
        "\n",
        "import tensorflow as tf\n",
        "print(tf.__version__)"
      ]
    },
    {
      "cell_type": "markdown",
      "source": [
        "## Creating data to view and fit"
      ],
      "metadata": {
        "id": "vbbwMFoqskyN"
      }
    },
    {
      "cell_type": "code",
      "source": [
        "import numpy as np\n",
        "import matplotlib.pyplot as plt"
      ],
      "metadata": {
        "id": "DXOtRA60shEW"
      },
      "execution_count": 2,
      "outputs": []
    },
    {
      "cell_type": "code",
      "source": [
        "# Creating features\n",
        "\n",
        "x = np.array([-7., -4., -1., 2., 5., 8., 11., 14.])\n",
        "\n",
        "# Create labels\n",
        "y = np.array([3., 6., 9., 12., 15., 18., 21., 24.])\n",
        "\n",
        "# Visualize it\n",
        "plt.scatter(x, y);"
      ],
      "metadata": {
        "colab": {
          "base_uri": "https://localhost:8080/",
          "height": 435
        },
        "id": "SX4eHtEts4GD",
        "outputId": "7a02f090-a4d5-4d0b-eb1a-3f8155ef461a"
      },
      "execution_count": 3,
      "outputs": [
        {
          "output_type": "display_data",
          "data": {
            "text/plain": [
              "<Figure size 640x480 with 1 Axes>"
            ],
            "image/png": "[encoded data removed]"
          },
          "metadata": {}
        }
      ]
    },
    {
      "cell_type": "code",
      "source": [
        "y == x + 10"
      ],
      "metadata": {
        "id": "qaf2FE-utbQ-",
        "colab": {
          "base_uri": "https://localhost:8080/"
        },
        "outputId": "0393b933-4b6f-48ee-805d-94dc2ed3840c"
      },
      "execution_count": 4,
      "outputs": [
        {
          "output_type": "execute_result",
          "data": {
            "text/plain": [
              "array([ True,  True,  True,  True,  True,  True,  True,  True])"
            ]
          },
          "metadata": {},
          "execution_count": 4
        }
      ]
    },
    {
      "cell_type": "markdown",
      "source": [
        "## Input and Output shapes"
      ],
      "metadata": {
        "id": "hHex_79OxmAn"
      }
    },
    {
      "cell_type": "code",
      "source": [
        "# Create a demo tensor for out housing price prediction problem\n",
        "\n",
        "house_info = tf.constant([\"bedroom\", \"bathroom\", \"garage\"])\n",
        "house_price = tf.constant([939700])\n",
        "\n",
        "house_info, house_price"
      ],
      "metadata": {
        "colab": {
          "base_uri": "https://localhost:8080/"
        },
        "id": "EKNlltO3xrVe",
        "outputId": "e905820a-375f-4ec4-a28f-762ef8f3c3ba"
      },
      "execution_count": 5,
      "outputs": [
        {
          "output_type": "execute_result",
          "data": {
            "text/plain": [
              "(<tf.Tensor: shape=(3,), dtype=string, numpy=array([b'bedroom', b'bathroom', b'garage'], dtype=object)>,\n",
              " <tf.Tensor: shape=(1,), dtype=int32, numpy=array([939700], dtype=int32)>)"
            ]
          },
          "metadata": {},
          "execution_count": 5
        }
      ]
    },
    {
      "cell_type": "code",
      "source": [
        "x[0], y[0]"
      ],
      "metadata": {
        "colab": {
          "base_uri": "https://localhost:8080/"
        },
        "id": "-tWt-gYSzm66",
        "outputId": "b0b16ef3-ae33-4b00-ee2b-00b4890ff7de"
      },
      "execution_count": 6,
      "outputs": [
        {
          "output_type": "execute_result",
          "data": {
            "text/plain": [
              "(-7.0, 3.0)"
            ]
          },
          "metadata": {},
          "execution_count": 6
        }
      ]
    },
    {
      "cell_type": "code",
      "source": [
        "input_shape = x[0].shape\n",
        "output_shape = y[0].shape\n",
        "\n",
        "input_shape, output_shape"
      ],
      "metadata": {
        "colab": {
          "base_uri": "https://localhost:8080/"
        },
        "id": "sGSz7U-vzY4m",
        "outputId": "f60dd41b-c486-441d-ee5d-a10f79d20fe8"
      },
      "execution_count": 7,
      "outputs": [
        {
          "output_type": "execute_result",
          "data": {
            "text/plain": [
              "((), ())"
            ]
          },
          "metadata": {},
          "execution_count": 7
        }
      ]
    },
    {
      "cell_type": "code",
      "source": [
        "x[0].ndim"
      ],
      "metadata": {
        "colab": {
          "base_uri": "https://localhost:8080/"
        },
        "id": "VCL4zHK5z8RR",
        "outputId": "561517ef-889b-4302-9fc6-c568ff257d3c"
      },
      "execution_count": 8,
      "outputs": [
        {
          "output_type": "execute_result",
          "data": {
            "text/plain": [
              "0"
            ]
          },
          "metadata": {},
          "execution_count": 8
        }
      ]
    },
    {
      "cell_type": "code",
      "source": [
        "# Turn our Numpy arrays into tensors with dtype 32\n",
        "\n",
        "X = tf.constant(x, dtype=tf.float32)\n",
        "Y = tf.constant(y, dtype=tf.float32)\n",
        "\n",
        "X, Y"
      ],
      "metadata": {
        "colab": {
          "base_uri": "https://localhost:8080/"
        },
        "id": "QL2Ofdwmz-sQ",
        "outputId": "98382bc5-850b-4539-af73-9cb5e113ae1f"
      },
      "execution_count": 9,
      "outputs": [
        {
          "output_type": "execute_result",
          "data": {
            "text/plain": [
              "(<tf.Tensor: shape=(8,), dtype=float32, numpy=array([-7., -4., -1.,  2.,  5.,  8., 11., 14.], dtype=float32)>,\n",
              " <tf.Tensor: shape=(8,), dtype=float32, numpy=array([ 3.,  6.,  9., 12., 15., 18., 21., 24.], dtype=float32)>)"
            ]
          },
          "metadata": {},
          "execution_count": 9
        }
      ]
    },
    {
      "cell_type": "code",
      "source": [
        "input_shape = X[0].shape\n",
        "output_shape = y[0].shape\n",
        "\n",
        "input_shape, output_shape"
      ],
      "metadata": {
        "colab": {
          "base_uri": "https://localhost:8080/"
        },
        "id": "R6m8i44s1t3S",
        "outputId": "7e77c4dc-0e18-441f-d146-0d9702cdf694"
      },
      "execution_count": 10,
      "outputs": [
        {
          "output_type": "execute_result",
          "data": {
            "text/plain": [
              "(TensorShape([]), ())"
            ]
          },
          "metadata": {},
          "execution_count": 10
        }
      ]
    },
    {
      "cell_type": "markdown",
      "source": [
        "## Steps in modelling with TensorFlow\n",
        "\n",
        "1. **Creating a model** - define the input and output layers, as well as the hidden layers of a deep learning model.\n",
        "\n",
        "2. **Compiling a model** - define the loss function (in other words, the function wich tells our model how wrong it is) and the optimizer (tells our model how to improve the patterns its learning) and evaluation metrics (what we can use to interpret the preformance of our model)\n",
        "\n",
        "3. Fitting a model - letting the model try to find patters between X & y (features and labels)"
      ],
      "metadata": {
        "id": "T9heq-y318BJ"
      }
    },
    {
      "cell_type": "code",
      "source": [
        "# Opetionally, the first layer can receive an 'input_shape' argument :\n",
        "# model = tf.keras.Sequential()\n",
        "# model.add(tf.keras.layers.Dense(8, input_shape=(16,)))\n",
        "\n",
        "# Afterwards, we do automatic shape inference :\n",
        "# model.add(tf.keras.layers.Dense(4))\n",
        "\n",
        "# model = tf.keras.Sequential()\n",
        "# model.add(tf.keras.layers.Dense(1))\n",
        "# ..."
      ],
      "metadata": {
        "id": "nEAWuhvc6w4g"
      },
      "execution_count": 11,
      "outputs": []
    },
    {
      "cell_type": "code",
      "source": [
        "# Set random seed\n",
        "\n",
        "tf.random.set_seed(42)\n",
        "\n",
        "# 1. Create a model using the Sequential API\n",
        "model = tf.keras.Sequential([\n",
        "    tf.keras.layers.Dense(1)\n",
        "])\n",
        "\n",
        "# 2. Compile the model\n",
        "model.compile(loss = tf.keras.losses.mae, # mae is short for mean absolute error\n",
        "              optimizer = tf.keras.optimizers.SGD(), # sgd is short for stochasitc gradient decent\n",
        "              metrics = [\"mae\"])\n",
        "\n",
        "# 3. Fit the model\n",
        "# model.fit(X, Y, epochs=5) # BREAK IN UPDATED TENSOR VERSION\n",
        "model.fit(tf.expand_dims(X, axis=-1), Y, epochs=5)"
      ],
      "metadata": {
        "colab": {
          "base_uri": "https://localhost:8080/"
        },
        "id": "ubX_9SYR149W",
        "outputId": "3db0d1fa-1ce2-4299-c9ca-449ea437932d"
      },
      "execution_count": 12,
      "outputs": [
        {
          "output_type": "stream",
          "name": "stdout",
          "text": [
            "Epoch 1/5\n",
            "1/1 [==============================] - 2s 2s/step - loss: 14.2102 - mae: 14.2102\n",
            "Epoch 2/5\n",
            "1/1 [==============================] - 0s 39ms/step - loss: 14.0778 - mae: 14.0778\n",
            "Epoch 3/5\n",
            "1/1 [==============================] - 0s 45ms/step - loss: 13.9452 - mae: 13.9452\n",
            "Epoch 4/5\n",
            "1/1 [==============================] - 0s 49ms/step - loss: 13.8127 - mae: 13.8127\n",
            "Epoch 5/5\n",
            "1/1 [==============================] - 0s 27ms/step - loss: 13.6802 - mae: 13.6802\n"
          ]
        },
        {
          "output_type": "execute_result",
          "data": {
            "text/plain": [
              "<keras.src.callbacks.History at 0x7e6138572800>"
            ]
          },
          "metadata": {},
          "execution_count": 12
        }
      ]
    },
    {
      "cell_type": "code",
      "source": [
        "# Check our X and Y\n",
        "x, y"
      ],
      "metadata": {
        "colab": {
          "base_uri": "https://localhost:8080/"
        },
        "id": "1B1DsBlo9jYC",
        "outputId": "168f7718-f41b-4b98-cd90-ddbd866f5146"
      },
      "execution_count": 13,
      "outputs": [
        {
          "output_type": "execute_result",
          "data": {
            "text/plain": [
              "(array([-7., -4., -1.,  2.,  5.,  8., 11., 14.]),\n",
              " array([ 3.,  6.,  9., 12., 15., 18., 21., 24.]))"
            ]
          },
          "metadata": {},
          "execution_count": 13
        }
      ]
    },
    {
      "cell_type": "code",
      "source": [
        "# Try make prediction\n",
        "model.predict([17.0])"
      ],
      "metadata": {
        "colab": {
          "base_uri": "https://localhost:8080/"
        },
        "id": "L4S19GPP9pXG",
        "outputId": "23031db3-4272-4ee1-d53a-070fedfa91d3"
      },
      "execution_count": 14,
      "outputs": [
        {
          "output_type": "stream",
          "name": "stdout",
          "text": [
            "1/1 [==============================] - 0s 488ms/step\n"
          ]
        },
        {
          "output_type": "execute_result",
          "data": {
            "text/plain": [
              "array([[-0.42478347]], dtype=float32)"
            ]
          },
          "metadata": {},
          "execution_count": 14
        }
      ]
    },
    {
      "cell_type": "markdown",
      "source": [
        "## Improving our model\n",
        "\n",
        "We can improve our model, by altering the steps we took to create a model.\n",
        "\n",
        "1. **Creating a model** - ere we might add more layers, increse the number of hidden units (all called neurons) within each of the hidden layers, change the activation function of each layer.\n",
        "\n",
        "2. **Compiling a model** - here we might chang ethe optimization function or perhaps the **learning rate** of the optimization function.\n",
        "\n",
        "3. **Fitting a model** - here we might fit a model for more **epochs** (leave it training for longer) or on more data (give the model more examples to learn form)"
      ],
      "metadata": {
        "id": "Nq6KqLEo-HP4"
      }
    },
    {
      "cell_type": "code",
      "source": [
        "# Let's rebuild our model\n",
        "\n",
        "# 1. Create the model\n",
        "model1 = tf.keras.Sequential([\n",
        "    tf.keras.layers.Dense(1)\n",
        "])\n",
        "\n",
        "# 2. Compile the model\n",
        "model1.compile(loss = tf.keras.losses.mae,\n",
        "              optimizer = tf.keras.optimizers.SGD(),\n",
        "              metrics = [\"mae\"])\n",
        "\n",
        "# 3. Fit the model\n",
        "# model.fit(X, Y, epochs=5) # BREAK IN UPDATED TENSOR VERSION\n",
        "model1.fit(tf.expand_dims(X, axis=-1), Y, epochs=100)"
      ],
      "metadata": {
        "colab": {
          "base_uri": "https://localhost:8080/"
        },
        "id": "GPGzIvb2DLc2",
        "outputId": "5a5a2870-1fbd-4a59-f85e-9401e7f48777"
      },
      "execution_count": 15,
      "outputs": [
        {
          "output_type": "stream",
          "name": "stdout",
          "text": [
            "Epoch 1/100\n",
            "1/1 [==============================] - 2s 2s/step - loss: 19.0716 - mae: 19.0716\n",
            "Epoch 2/100\n",
            "1/1 [==============================] - 0s 24ms/step - loss: 18.7904 - mae: 18.7904\n",
            "Epoch 3/100\n",
            "1/1 [==============================] - 0s 16ms/step - loss: 18.5091 - mae: 18.5091\n",
            "Epoch 4/100\n",
            "1/1 [==============================] - 0s 27ms/step - loss: 18.2279 - mae: 18.2279\n",
            "Epoch 5/100\n",
            "1/1 [==============================] - 0s 11ms/step - loss: 17.9466 - mae: 17.9466\n",
            "Epoch 6/100\n",
            "1/1 [==============================] - 0s 29ms/step - loss: 17.6654 - mae: 17.6654\n",
            "Epoch 7/100\n",
            "1/1 [==============================] - 0s 21ms/step - loss: 17.3841 - mae: 17.3841\n",
            "Epoch 8/100\n",
            "1/1 [==============================] - 0s 33ms/step - loss: 17.1029 - mae: 17.1029\n",
            "Epoch 9/100\n",
            "1/1 [==============================] - 0s 16ms/step - loss: 16.8216 - mae: 16.8216\n",
            "Epoch 10/100\n",
            "1/1 [==============================] - 0s 23ms/step - loss: 16.5404 - mae: 16.5404\n",
            "Epoch 11/100\n",
            "1/1 [==============================] - 0s 25ms/step - loss: 16.2591 - mae: 16.2591\n",
            "Epoch 12/100\n",
            "1/1 [==============================] - 0s 38ms/step - loss: 15.9779 - mae: 15.9779\n",
            "Epoch 13/100\n",
            "1/1 [==============================] - 0s 20ms/step - loss: 15.6966 - mae: 15.6966\n",
            "Epoch 14/100\n",
            "1/1 [==============================] - 0s 28ms/step - loss: 15.4154 - mae: 15.4154\n",
            "Epoch 15/100\n",
            "1/1 [==============================] - 0s 24ms/step - loss: 15.1341 - mae: 15.1341\n",
            "Epoch 16/100\n",
            "1/1 [==============================] - 0s 17ms/step - loss: 14.8529 - mae: 14.8529\n",
            "Epoch 17/100\n",
            "1/1 [==============================] - 0s 12ms/step - loss: 14.6544 - mae: 14.6544\n",
            "Epoch 18/100\n",
            "1/1 [==============================] - 0s 17ms/step - loss: 14.5219 - mae: 14.5219\n",
            "Epoch 19/100\n",
            "1/1 [==============================] - 0s 16ms/step - loss: 14.3894 - mae: 14.3894\n",
            "Epoch 20/100\n",
            "1/1 [==============================] - 0s 16ms/step - loss: 14.2569 - mae: 14.2569\n",
            "Epoch 21/100\n",
            "1/1 [==============================] - 0s 31ms/step - loss: 14.1244 - mae: 14.1244\n",
            "Epoch 22/100\n",
            "1/1 [==============================] - 0s 14ms/step - loss: 13.9919 - mae: 13.9919\n",
            "Epoch 23/100\n",
            "1/1 [==============================] - 0s 20ms/step - loss: 13.8594 - mae: 13.8594\n",
            "Epoch 24/100\n",
            "1/1 [==============================] - 0s 19ms/step - loss: 13.7269 - mae: 13.7269\n",
            "Epoch 25/100\n",
            "1/1 [==============================] - 0s 19ms/step - loss: 13.5944 - mae: 13.5944\n",
            "Epoch 26/100\n",
            "1/1 [==============================] - 0s 17ms/step - loss: 13.4619 - mae: 13.4619\n",
            "Epoch 27/100\n",
            "1/1 [==============================] - 0s 10ms/step - loss: 13.3294 - mae: 13.3294\n",
            "Epoch 28/100\n",
            "1/1 [==============================] - 0s 34ms/step - loss: 13.1969 - mae: 13.1969\n",
            "Epoch 29/100\n",
            "1/1 [==============================] - 0s 39ms/step - loss: 13.0644 - mae: 13.0644\n",
            "Epoch 30/100\n",
            "1/1 [==============================] - 0s 19ms/step - loss: 12.9319 - mae: 12.9319\n",
            "Epoch 31/100\n",
            "1/1 [==============================] - 0s 18ms/step - loss: 12.7994 - mae: 12.7994\n",
            "Epoch 32/100\n",
            "1/1 [==============================] - 0s 29ms/step - loss: 12.6669 - mae: 12.6669\n",
            "Epoch 33/100\n",
            "1/1 [==============================] - 0s 24ms/step - loss: 12.5344 - mae: 12.5344\n",
            "Epoch 34/100\n",
            "1/1 [==============================] - 0s 20ms/step - loss: 12.4019 - mae: 12.4019\n",
            "Epoch 35/100\n",
            "1/1 [==============================] - 0s 21ms/step - loss: 12.2694 - mae: 12.2694\n",
            "Epoch 36/100\n",
            "1/1 [==============================] - 0s 19ms/step - loss: 12.1369 - mae: 12.1369\n",
            "Epoch 37/100\n",
            "1/1 [==============================] - 0s 20ms/step - loss: 12.0044 - mae: 12.0044\n",
            "Epoch 38/100\n",
            "1/1 [==============================] - 0s 26ms/step - loss: 11.8719 - mae: 11.8719\n",
            "Epoch 39/100\n",
            "1/1 [==============================] - 0s 32ms/step - loss: 11.7394 - mae: 11.7394\n",
            "Epoch 40/100\n",
            "1/1 [==============================] - 0s 20ms/step - loss: 11.6069 - mae: 11.6069\n",
            "Epoch 41/100\n",
            "1/1 [==============================] - 0s 23ms/step - loss: 11.4744 - mae: 11.4744\n",
            "Epoch 42/100\n",
            "1/1 [==============================] - 0s 23ms/step - loss: 11.3419 - mae: 11.3419\n",
            "Epoch 43/100\n",
            "1/1 [==============================] - 0s 78ms/step - loss: 11.2094 - mae: 11.2094\n",
            "Epoch 44/100\n",
            "1/1 [==============================] - 0s 47ms/step - loss: 11.0769 - mae: 11.0769\n",
            "Epoch 45/100\n",
            "1/1 [==============================] - 0s 40ms/step - loss: 10.9444 - mae: 10.9444\n",
            "Epoch 46/100\n",
            "1/1 [==============================] - 0s 30ms/step - loss: 10.8119 - mae: 10.8119\n",
            "Epoch 47/100\n",
            "1/1 [==============================] - 0s 32ms/step - loss: 10.6794 - mae: 10.6794\n",
            "Epoch 48/100\n",
            "1/1 [==============================] - 0s 26ms/step - loss: 10.5469 - mae: 10.5469\n",
            "Epoch 49/100\n",
            "1/1 [==============================] - 0s 46ms/step - loss: 10.4144 - mae: 10.4144\n",
            "Epoch 50/100\n",
            "1/1 [==============================] - 0s 24ms/step - loss: 10.2819 - mae: 10.2819\n",
            "Epoch 51/100\n",
            "1/1 [==============================] - 0s 13ms/step - loss: 10.1494 - mae: 10.1494\n",
            "Epoch 52/100\n",
            "1/1 [==============================] - 0s 47ms/step - loss: 10.0169 - mae: 10.0169\n",
            "Epoch 53/100\n",
            "1/1 [==============================] - 0s 74ms/step - loss: 9.8844 - mae: 9.8844\n",
            "Epoch 54/100\n",
            "1/1 [==============================] - 0s 28ms/step - loss: 9.7519 - mae: 9.7519\n",
            "Epoch 55/100\n",
            "1/1 [==============================] - 0s 38ms/step - loss: 9.6194 - mae: 9.6194\n",
            "Epoch 56/100\n",
            "1/1 [==============================] - 0s 33ms/step - loss: 9.4869 - mae: 9.4869\n",
            "Epoch 57/100\n",
            "1/1 [==============================] - 0s 49ms/step - loss: 9.3544 - mae: 9.3544\n",
            "Epoch 58/100\n",
            "1/1 [==============================] - 0s 32ms/step - loss: 9.2219 - mae: 9.2219\n",
            "Epoch 59/100\n",
            "1/1 [==============================] - 0s 97ms/step - loss: 9.0894 - mae: 9.0894\n",
            "Epoch 60/100\n",
            "1/1 [==============================] - 0s 50ms/step - loss: 8.9569 - mae: 8.9569\n",
            "Epoch 61/100\n",
            "1/1 [==============================] - 0s 46ms/step - loss: 8.8244 - mae: 8.8244\n",
            "Epoch 62/100\n",
            "1/1 [==============================] - 0s 26ms/step - loss: 8.6919 - mae: 8.6919\n",
            "Epoch 63/100\n",
            "1/1 [==============================] - 0s 15ms/step - loss: 8.5594 - mae: 8.5594\n",
            "Epoch 64/100\n",
            "1/1 [==============================] - 0s 23ms/step - loss: 8.4269 - mae: 8.4269\n",
            "Epoch 65/100\n",
            "1/1 [==============================] - 0s 27ms/step - loss: 8.2944 - mae: 8.2944\n",
            "Epoch 66/100\n",
            "1/1 [==============================] - 0s 28ms/step - loss: 8.1619 - mae: 8.1619\n",
            "Epoch 67/100\n",
            "1/1 [==============================] - 0s 45ms/step - loss: 8.0294 - mae: 8.0294\n",
            "Epoch 68/100\n",
            "1/1 [==============================] - 0s 51ms/step - loss: 7.8969 - mae: 7.8969\n",
            "Epoch 69/100\n",
            "1/1 [==============================] - 0s 31ms/step - loss: 7.7644 - mae: 7.7644\n",
            "Epoch 70/100\n",
            "1/1 [==============================] - 0s 26ms/step - loss: 7.6319 - mae: 7.6319\n",
            "Epoch 71/100\n",
            "1/1 [==============================] - 0s 75ms/step - loss: 7.4994 - mae: 7.4994\n",
            "Epoch 72/100\n",
            "1/1 [==============================] - 0s 30ms/step - loss: 7.3669 - mae: 7.3669\n",
            "Epoch 73/100\n",
            "1/1 [==============================] - 0s 27ms/step - loss: 7.2344 - mae: 7.2344\n",
            "Epoch 74/100\n",
            "1/1 [==============================] - 0s 22ms/step - loss: 7.1019 - mae: 7.1019\n",
            "Epoch 75/100\n",
            "1/1 [==============================] - 0s 24ms/step - loss: 6.9750 - mae: 6.9750\n",
            "Epoch 76/100\n",
            "1/1 [==============================] - 0s 31ms/step - loss: 6.9694 - mae: 6.9694\n",
            "Epoch 77/100\n",
            "1/1 [==============================] - 0s 45ms/step - loss: 6.9637 - mae: 6.9637\n",
            "Epoch 78/100\n",
            "1/1 [==============================] - 0s 29ms/step - loss: 6.9581 - mae: 6.9581\n",
            "Epoch 79/100\n",
            "1/1 [==============================] - 0s 45ms/step - loss: 6.9525 - mae: 6.9525\n",
            "Epoch 80/100\n",
            "1/1 [==============================] - 0s 32ms/step - loss: 6.9469 - mae: 6.9469\n",
            "Epoch 81/100\n",
            "1/1 [==============================] - 0s 29ms/step - loss: 6.9413 - mae: 6.9413\n",
            "Epoch 82/100\n",
            "1/1 [==============================] - 0s 20ms/step - loss: 6.9356 - mae: 6.9356\n",
            "Epoch 83/100\n",
            "1/1 [==============================] - 0s 55ms/step - loss: 6.9300 - mae: 6.9300\n",
            "Epoch 84/100\n",
            "1/1 [==============================] - 0s 49ms/step - loss: 6.9244 - mae: 6.9244\n",
            "Epoch 85/100\n",
            "1/1 [==============================] - 0s 37ms/step - loss: 6.9188 - mae: 6.9188\n",
            "Epoch 86/100\n",
            "1/1 [==============================] - 0s 66ms/step - loss: 6.9131 - mae: 6.9131\n",
            "Epoch 87/100\n",
            "1/1 [==============================] - 0s 62ms/step - loss: 6.9075 - mae: 6.9075\n",
            "Epoch 88/100\n",
            "1/1 [==============================] - 0s 67ms/step - loss: 6.9019 - mae: 6.9019\n",
            "Epoch 89/100\n",
            "1/1 [==============================] - 0s 61ms/step - loss: 6.8963 - mae: 6.8963\n",
            "Epoch 90/100\n",
            "1/1 [==============================] - 0s 72ms/step - loss: 6.8906 - mae: 6.8906\n",
            "Epoch 91/100\n",
            "1/1 [==============================] - 0s 61ms/step - loss: 6.8850 - mae: 6.8850\n",
            "Epoch 92/100\n",
            "1/1 [==============================] - 0s 74ms/step - loss: 6.8794 - mae: 6.8794\n",
            "Epoch 93/100\n",
            "1/1 [==============================] - 0s 50ms/step - loss: 6.8738 - mae: 6.8738\n",
            "Epoch 94/100\n",
            "1/1 [==============================] - 0s 41ms/step - loss: 6.8681 - mae: 6.8681\n",
            "Epoch 95/100\n",
            "1/1 [==============================] - 0s 49ms/step - loss: 6.8625 - mae: 6.8625\n",
            "Epoch 96/100\n",
            "1/1 [==============================] - 0s 35ms/step - loss: 6.8569 - mae: 6.8569\n",
            "Epoch 97/100\n",
            "1/1 [==============================] - 0s 52ms/step - loss: 6.8513 - mae: 6.8513\n",
            "Epoch 98/100\n",
            "1/1 [==============================] - 0s 36ms/step - loss: 6.8456 - mae: 6.8456\n",
            "Epoch 99/100\n",
            "1/1 [==============================] - 0s 48ms/step - loss: 6.8400 - mae: 6.8400\n",
            "Epoch 100/100\n",
            "1/1 [==============================] - 0s 27ms/step - loss: 6.8344 - mae: 6.8344\n"
          ]
        },
        {
          "output_type": "execute_result",
          "data": {
            "text/plain": [
              "<keras.src.callbacks.History at 0x7e61383d26b0>"
            ]
          },
          "metadata": {},
          "execution_count": 15
        }
      ]
    },
    {
      "cell_type": "code",
      "source": [
        "# Try make prediction\n",
        "model1.predict([17.0])"
      ],
      "metadata": {
        "colab": {
          "base_uri": "https://localhost:8080/"
        },
        "id": "4kMA7oidBuHG",
        "outputId": "e61def34-6a2a-4dfe-bc55-b07592eca2ce"
      },
      "execution_count": 16,
      "outputs": [
        {
          "output_type": "stream",
          "name": "stdout",
          "text": [
            "1/1 [==============================] - 0s 372ms/step\n"
          ]
        },
        {
          "output_type": "execute_result",
          "data": {
            "text/plain": [
              "array([[29.21492]], dtype=float32)"
            ]
          },
          "metadata": {},
          "execution_count": 16
        }
      ]
    },
    {
      "cell_type": "code",
      "source": [
        "# re-write the model by my self and improve one thing to get better\n",
        "\n",
        "# 1. Create the model\n",
        "model2 = tf.keras.Sequential([\n",
        "    tf.keras.layers.Dense(1)\n",
        "])\n",
        "\n",
        "# 2. Compile the model\n",
        "model2.compile(loss = tf.keras.losses.mae,\n",
        "              optimizer = tf.keras.optimizers.Adam(learning_rate=0.001), # chang the optimizers from SGD to adam\n",
        "              metrics = [\"mae\"])\n",
        "\n",
        "# 3. Fit the model\n",
        "# model.fit(X, Y, epochs=5) # BREAK IN UPDATED TENSOR VERSION\n",
        "model2.fit(tf.expand_dims(X, axis=-1), Y, epochs=100)"
      ],
      "metadata": {
        "colab": {
          "base_uri": "https://localhost:8080/"
        },
        "id": "gdwbhbhmJVPx",
        "outputId": "c7dc822d-cfe7-45c7-b137-e7f0d31a5619"
      },
      "execution_count": 17,
      "outputs": [
        {
          "output_type": "stream",
          "name": "stdout",
          "text": [
            "Epoch 1/100\n",
            "1/1 [==============================] - 2s 2s/step - loss: 16.8821 - mae: 16.8821\n",
            "Epoch 2/100\n",
            "1/1 [==============================] - 0s 28ms/step - loss: 16.8761 - mae: 16.8761\n",
            "Epoch 3/100\n",
            "1/1 [==============================] - 0s 41ms/step - loss: 16.8701 - mae: 16.8701\n",
            "Epoch 4/100\n",
            "1/1 [==============================] - 0s 47ms/step - loss: 16.8641 - mae: 16.8641\n",
            "Epoch 5/100\n",
            "1/1 [==============================] - 0s 22ms/step - loss: 16.8581 - mae: 16.8581\n",
            "Epoch 6/100\n",
            "1/1 [==============================] - 0s 39ms/step - loss: 16.8521 - mae: 16.8521\n",
            "Epoch 7/100\n",
            "1/1 [==============================] - 0s 27ms/step - loss: 16.8461 - mae: 16.8461\n",
            "Epoch 8/100\n",
            "1/1 [==============================] - 0s 34ms/step - loss: 16.8401 - mae: 16.8401\n",
            "Epoch 9/100\n",
            "1/1 [==============================] - 0s 47ms/step - loss: 16.8341 - mae: 16.8341\n",
            "Epoch 10/100\n",
            "1/1 [==============================] - 0s 24ms/step - loss: 16.8281 - mae: 16.8281\n",
            "Epoch 11/100\n",
            "1/1 [==============================] - 0s 13ms/step - loss: 16.8221 - mae: 16.8221\n",
            "Epoch 12/100\n",
            "1/1 [==============================] - 0s 16ms/step - loss: 16.8161 - mae: 16.8161\n",
            "Epoch 13/100\n",
            "1/1 [==============================] - 0s 32ms/step - loss: 16.8101 - mae: 16.8101\n",
            "Epoch 14/100\n",
            "1/1 [==============================] - 0s 36ms/step - loss: 16.8041 - mae: 16.8041\n",
            "Epoch 15/100\n",
            "1/1 [==============================] - 0s 28ms/step - loss: 16.7981 - mae: 16.7981\n",
            "Epoch 16/100\n",
            "1/1 [==============================] - 0s 40ms/step - loss: 16.7921 - mae: 16.7921\n",
            "Epoch 17/100\n",
            "1/1 [==============================] - 0s 45ms/step - loss: 16.7861 - mae: 16.7861\n",
            "Epoch 18/100\n",
            "1/1 [==============================] - 0s 36ms/step - loss: 16.7801 - mae: 16.7801\n",
            "Epoch 19/100\n",
            "1/1 [==============================] - 0s 27ms/step - loss: 16.7741 - mae: 16.7741\n",
            "Epoch 20/100\n",
            "1/1 [==============================] - 0s 34ms/step - loss: 16.7681 - mae: 16.7681\n",
            "Epoch 21/100\n",
            "1/1 [==============================] - 0s 45ms/step - loss: 16.7621 - mae: 16.7621\n",
            "Epoch 22/100\n",
            "1/1 [==============================] - 0s 35ms/step - loss: 16.7561 - mae: 16.7561\n",
            "Epoch 23/100\n",
            "1/1 [==============================] - 0s 15ms/step - loss: 16.7501 - mae: 16.7501\n",
            "Epoch 24/100\n",
            "1/1 [==============================] - 0s 39ms/step - loss: 16.7441 - mae: 16.7441\n",
            "Epoch 25/100\n",
            "1/1 [==============================] - 0s 18ms/step - loss: 16.7381 - mae: 16.7381\n",
            "Epoch 26/100\n",
            "1/1 [==============================] - 0s 22ms/step - loss: 16.7321 - mae: 16.7321\n",
            "Epoch 27/100\n",
            "1/1 [==============================] - 0s 18ms/step - loss: 16.7261 - mae: 16.7261\n",
            "Epoch 28/100\n",
            "1/1 [==============================] - 0s 12ms/step - loss: 16.7201 - mae: 16.7201\n",
            "Epoch 29/100\n",
            "1/1 [==============================] - 0s 12ms/step - loss: 16.7141 - mae: 16.7141\n",
            "Epoch 30/100\n",
            "1/1 [==============================] - 0s 30ms/step - loss: 16.7081 - mae: 16.7081\n",
            "Epoch 31/100\n",
            "1/1 [==============================] - 0s 15ms/step - loss: 16.7021 - mae: 16.7021\n",
            "Epoch 32/100\n",
            "1/1 [==============================] - 0s 13ms/step - loss: 16.6961 - mae: 16.6961\n",
            "Epoch 33/100\n",
            "1/1 [==============================] - 0s 16ms/step - loss: 16.6901 - mae: 16.6901\n",
            "Epoch 34/100\n",
            "1/1 [==============================] - 0s 26ms/step - loss: 16.6841 - mae: 16.6841\n",
            "Epoch 35/100\n",
            "1/1 [==============================] - 0s 28ms/step - loss: 16.6781 - mae: 16.6781\n",
            "Epoch 36/100\n",
            "1/1 [==============================] - 0s 20ms/step - loss: 16.6721 - mae: 16.6721\n",
            "Epoch 37/100\n",
            "1/1 [==============================] - 0s 16ms/step - loss: 16.6661 - mae: 16.6661\n",
            "Epoch 38/100\n",
            "1/1 [==============================] - 0s 25ms/step - loss: 16.6601 - mae: 16.6601\n",
            "Epoch 39/100\n",
            "1/1 [==============================] - 0s 33ms/step - loss: 16.6541 - mae: 16.6541\n",
            "Epoch 40/100\n",
            "1/1 [==============================] - 0s 37ms/step - loss: 16.6481 - mae: 16.6481\n",
            "Epoch 41/100\n",
            "1/1 [==============================] - 0s 21ms/step - loss: 16.6421 - mae: 16.6421\n",
            "Epoch 42/100\n",
            "1/1 [==============================] - 0s 23ms/step - loss: 16.6361 - mae: 16.6361\n",
            "Epoch 43/100\n",
            "1/1 [==============================] - 0s 27ms/step - loss: 16.6301 - mae: 16.6301\n",
            "Epoch 44/100\n",
            "1/1 [==============================] - 0s 17ms/step - loss: 16.6241 - mae: 16.6241\n",
            "Epoch 45/100\n",
            "1/1 [==============================] - 0s 16ms/step - loss: 16.6181 - mae: 16.6181\n",
            "Epoch 46/100\n",
            "1/1 [==============================] - 0s 14ms/step - loss: 16.6121 - mae: 16.6121\n",
            "Epoch 47/100\n",
            "1/1 [==============================] - 0s 22ms/step - loss: 16.6061 - mae: 16.6061\n",
            "Epoch 48/100\n",
            "1/1 [==============================] - 0s 11ms/step - loss: 16.6001 - mae: 16.6001\n",
            "Epoch 49/100\n",
            "1/1 [==============================] - 0s 27ms/step - loss: 16.5941 - mae: 16.5941\n",
            "Epoch 50/100\n",
            "1/1 [==============================] - 0s 23ms/step - loss: 16.5881 - mae: 16.5881\n",
            "Epoch 51/100\n",
            "1/1 [==============================] - 0s 21ms/step - loss: 16.5821 - mae: 16.5821\n",
            "Epoch 52/100\n",
            "1/1 [==============================] - 0s 15ms/step - loss: 16.5761 - mae: 16.5761\n",
            "Epoch 53/100\n",
            "1/1 [==============================] - 0s 22ms/step - loss: 16.5701 - mae: 16.5701\n",
            "Epoch 54/100\n",
            "1/1 [==============================] - 0s 11ms/step - loss: 16.5641 - mae: 16.5641\n",
            "Epoch 55/100\n",
            "1/1 [==============================] - 0s 27ms/step - loss: 16.5581 - mae: 16.5581\n",
            "Epoch 56/100\n",
            "1/1 [==============================] - 0s 10ms/step - loss: 16.5521 - mae: 16.5521\n",
            "Epoch 57/100\n",
            "1/1 [==============================] - 0s 17ms/step - loss: 16.5461 - mae: 16.5461\n",
            "Epoch 58/100\n",
            "1/1 [==============================] - 0s 15ms/step - loss: 16.5401 - mae: 16.5401\n",
            "Epoch 59/100\n",
            "1/1 [==============================] - 0s 16ms/step - loss: 16.5341 - mae: 16.5341\n",
            "Epoch 60/100\n",
            "1/1 [==============================] - 0s 17ms/step - loss: 16.5281 - mae: 16.5281\n",
            "Epoch 61/100\n",
            "1/1 [==============================] - 0s 16ms/step - loss: 16.5221 - mae: 16.5221\n",
            "Epoch 62/100\n",
            "1/1 [==============================] - 0s 10ms/step - loss: 16.5161 - mae: 16.5161\n",
            "Epoch 63/100\n",
            "1/1 [==============================] - 0s 14ms/step - loss: 16.5101 - mae: 16.5101\n",
            "Epoch 64/100\n",
            "1/1 [==============================] - 0s 13ms/step - loss: 16.5041 - mae: 16.5041\n",
            "Epoch 65/100\n",
            "1/1 [==============================] - 0s 14ms/step - loss: 16.4981 - mae: 16.4981\n",
            "Epoch 66/100\n",
            "1/1 [==============================] - 0s 10ms/step - loss: 16.4921 - mae: 16.4921\n",
            "Epoch 67/100\n",
            "1/1 [==============================] - 0s 14ms/step - loss: 16.4861 - mae: 16.4861\n",
            "Epoch 68/100\n",
            "1/1 [==============================] - 0s 15ms/step - loss: 16.4801 - mae: 16.4801\n",
            "Epoch 69/100\n",
            "1/1 [==============================] - 0s 15ms/step - loss: 16.4741 - mae: 16.4741\n",
            "Epoch 70/100\n",
            "1/1 [==============================] - 0s 21ms/step - loss: 16.4681 - mae: 16.4681\n",
            "Epoch 71/100\n",
            "1/1 [==============================] - 0s 24ms/step - loss: 16.4621 - mae: 16.4621\n",
            "Epoch 72/100\n",
            "1/1 [==============================] - 0s 29ms/step - loss: 16.4561 - mae: 16.4561\n",
            "Epoch 73/100\n",
            "1/1 [==============================] - 0s 20ms/step - loss: 16.4501 - mae: 16.4501\n",
            "Epoch 74/100\n",
            "1/1 [==============================] - 0s 35ms/step - loss: 16.4441 - mae: 16.4441\n",
            "Epoch 75/100\n",
            "1/1 [==============================] - 0s 31ms/step - loss: 16.4381 - mae: 16.4381\n",
            "Epoch 76/100\n",
            "1/1 [==============================] - 0s 29ms/step - loss: 16.4321 - mae: 16.4321\n",
            "Epoch 77/100\n",
            "1/1 [==============================] - 0s 47ms/step - loss: 16.4261 - mae: 16.4261\n",
            "Epoch 78/100\n",
            "1/1 [==============================] - 0s 26ms/step - loss: 16.4201 - mae: 16.4201\n",
            "Epoch 79/100\n",
            "1/1 [==============================] - 0s 34ms/step - loss: 16.4141 - mae: 16.4141\n",
            "Epoch 80/100\n",
            "1/1 [==============================] - 0s 28ms/step - loss: 16.4081 - mae: 16.4081\n",
            "Epoch 81/100\n",
            "1/1 [==============================] - 0s 14ms/step - loss: 16.4021 - mae: 16.4021\n",
            "Epoch 82/100\n",
            "1/1 [==============================] - 0s 21ms/step - loss: 16.3961 - mae: 16.3961\n",
            "Epoch 83/100\n",
            "1/1 [==============================] - 0s 31ms/step - loss: 16.3901 - mae: 16.3901\n",
            "Epoch 84/100\n",
            "1/1 [==============================] - 0s 20ms/step - loss: 16.3841 - mae: 16.3841\n",
            "Epoch 85/100\n",
            "1/1 [==============================] - 0s 57ms/step - loss: 16.3781 - mae: 16.3781\n",
            "Epoch 86/100\n",
            "1/1 [==============================] - 0s 24ms/step - loss: 16.3721 - mae: 16.3721\n",
            "Epoch 87/100\n",
            "1/1 [==============================] - 0s 20ms/step - loss: 16.3661 - mae: 16.3661\n",
            "Epoch 88/100\n",
            "1/1 [==============================] - 0s 16ms/step - loss: 16.3601 - mae: 16.3601\n",
            "Epoch 89/100\n",
            "1/1 [==============================] - 0s 15ms/step - loss: 16.3541 - mae: 16.3541\n",
            "Epoch 90/100\n",
            "1/1 [==============================] - 0s 43ms/step - loss: 16.3481 - mae: 16.3481\n",
            "Epoch 91/100\n",
            "1/1 [==============================] - 0s 26ms/step - loss: 16.3421 - mae: 16.3421\n",
            "Epoch 92/100\n",
            "1/1 [==============================] - 0s 17ms/step - loss: 16.3361 - mae: 16.3361\n",
            "Epoch 93/100\n",
            "1/1 [==============================] - 0s 19ms/step - loss: 16.3301 - mae: 16.3301\n",
            "Epoch 94/100\n",
            "1/1 [==============================] - 0s 27ms/step - loss: 16.3241 - mae: 16.3241\n",
            "Epoch 95/100\n",
            "1/1 [==============================] - 0s 23ms/step - loss: 16.3181 - mae: 16.3181\n",
            "Epoch 96/100\n",
            "1/1 [==============================] - 0s 23ms/step - loss: 16.3121 - mae: 16.3121\n",
            "Epoch 97/100\n",
            "1/1 [==============================] - 0s 18ms/step - loss: 16.3061 - mae: 16.3061\n",
            "Epoch 98/100\n",
            "1/1 [==============================] - 0s 23ms/step - loss: 16.3001 - mae: 16.3001\n",
            "Epoch 99/100\n",
            "1/1 [==============================] - 0s 14ms/step - loss: 16.2941 - mae: 16.2941\n",
            "Epoch 100/100\n",
            "1/1 [==============================] - 0s 13ms/step - loss: 16.2881 - mae: 16.2881\n"
          ]
        },
        {
          "output_type": "execute_result",
          "data": {
            "text/plain": [
              "<keras.src.callbacks.History at 0x7e6138dae500>"
            ]
          },
          "metadata": {},
          "execution_count": 17
        }
      ]
    },
    {
      "cell_type": "code",
      "source": [
        "# Try make prediction\n",
        "model2.predict([17.0])"
      ],
      "metadata": {
        "colab": {
          "base_uri": "https://localhost:8080/"
        },
        "id": "QeWEo95_J5Gg",
        "outputId": "56c5baf1-564d-4601-8f35-99d02e38836d"
      },
      "execution_count": 18,
      "outputs": [
        {
          "output_type": "stream",
          "name": "stdout",
          "text": [
            "1/1 [==============================] - 0s 110ms/step\n"
          ]
        },
        {
          "output_type": "execute_result",
          "data": {
            "text/plain": [
              "array([[-11.580269]], dtype=float32)"
            ]
          },
          "metadata": {},
          "execution_count": 18
        }
      ]
    },
    {
      "cell_type": "code",
      "source": [
        "# re-write the model\n",
        "\n",
        "# 1. Create the model (with 100 hidden units )\n",
        "model3 = tf.keras.Sequential([\n",
        "    tf.keras.layers.Dense(50, activation=None),\n",
        "    tf.keras.layers.Dense(1)\n",
        "])\n",
        "\n",
        "# 2. Compile the model\n",
        "model3.compile(loss = \"mae\",\n",
        "              optimizer = tf.keras.optimizers.Adam(learning_rate = 0.01),\n",
        "              metrics = [\"mae\"])\n",
        "\n",
        "# 3. Fit the model\n",
        "# model.fit(X, Y, epochs=5) # BREAK IN UPDATED TENSOR VERSION\n",
        "model3.fit(tf.expand_dims(X, axis=-1), Y, epochs=100)"
      ],
      "metadata": {
        "colab": {
          "base_uri": "https://localhost:8080/"
        },
        "id": "KI1XF166hgOa",
        "outputId": "acab1005-3c8d-417f-938e-5b3ec176fa1a"
      },
      "execution_count": 19,
      "outputs": [
        {
          "output_type": "stream",
          "name": "stdout",
          "text": [
            "Epoch 1/100\n",
            "1/1 [==============================] - 2s 2s/step - loss: 14.2909 - mae: 14.2909\n",
            "Epoch 2/100\n",
            "1/1 [==============================] - 0s 26ms/step - loss: 13.6050 - mae: 13.6050\n",
            "Epoch 3/100\n",
            "1/1 [==============================] - 0s 40ms/step - loss: 12.9270 - mae: 12.9270\n",
            "Epoch 4/100\n",
            "1/1 [==============================] - 0s 18ms/step - loss: 12.2566 - mae: 12.2566\n",
            "Epoch 5/100\n",
            "1/1 [==============================] - 0s 16ms/step - loss: 11.5925 - mae: 11.5925\n",
            "Epoch 6/100\n",
            "1/1 [==============================] - 0s 18ms/step - loss: 10.9327 - mae: 10.9327\n",
            "Epoch 7/100\n",
            "1/1 [==============================] - 0s 27ms/step - loss: 10.2746 - mae: 10.2746\n",
            "Epoch 8/100\n",
            "1/1 [==============================] - 0s 34ms/step - loss: 9.6148 - mae: 9.6148\n",
            "Epoch 9/100\n",
            "1/1 [==============================] - 0s 40ms/step - loss: 8.9491 - mae: 8.9491\n",
            "Epoch 10/100\n",
            "1/1 [==============================] - 0s 38ms/step - loss: 8.2734 - mae: 8.2734\n",
            "Epoch 11/100\n",
            "1/1 [==============================] - 0s 24ms/step - loss: 7.5835 - mae: 7.5835\n",
            "Epoch 12/100\n",
            "1/1 [==============================] - 0s 22ms/step - loss: 6.8753 - mae: 6.8753\n",
            "Epoch 13/100\n",
            "1/1 [==============================] - 0s 14ms/step - loss: 6.6333 - mae: 6.6333\n",
            "Epoch 14/100\n",
            "1/1 [==============================] - 0s 13ms/step - loss: 6.9325 - mae: 6.9325\n",
            "Epoch 15/100\n",
            "1/1 [==============================] - 0s 25ms/step - loss: 7.2122 - mae: 7.2122\n",
            "Epoch 16/100\n",
            "1/1 [==============================] - 0s 14ms/step - loss: 7.5483 - mae: 7.5483\n",
            "Epoch 17/100\n",
            "1/1 [==============================] - 0s 13ms/step - loss: 7.6828 - mae: 7.6828\n",
            "Epoch 18/100\n",
            "1/1 [==============================] - 0s 14ms/step - loss: 7.6304 - mae: 7.6304\n",
            "Epoch 19/100\n",
            "1/1 [==============================] - 0s 14ms/step - loss: 7.4342 - mae: 7.4342\n",
            "Epoch 20/100\n",
            "1/1 [==============================] - 0s 14ms/step - loss: 7.1278 - mae: 7.1278\n",
            "Epoch 21/100\n",
            "1/1 [==============================] - 0s 15ms/step - loss: 6.8014 - mae: 6.8014\n",
            "Epoch 22/100\n",
            "1/1 [==============================] - 0s 16ms/step - loss: 6.5466 - mae: 6.5466\n",
            "Epoch 23/100\n",
            "1/1 [==============================] - 0s 15ms/step - loss: 6.2832 - mae: 6.2832\n",
            "Epoch 24/100\n",
            "1/1 [==============================] - 0s 16ms/step - loss: 6.0248 - mae: 6.0248\n",
            "Epoch 25/100\n",
            "1/1 [==============================] - 0s 16ms/step - loss: 5.9883 - mae: 5.9883\n",
            "Epoch 26/100\n",
            "1/1 [==============================] - 0s 16ms/step - loss: 5.9468 - mae: 5.9468\n",
            "Epoch 27/100\n",
            "1/1 [==============================] - 0s 16ms/step - loss: 6.0531 - mae: 6.0531\n",
            "Epoch 28/100\n",
            "1/1 [==============================] - 0s 17ms/step - loss: 6.0983 - mae: 6.0983\n",
            "Epoch 29/100\n",
            "1/1 [==============================] - 0s 23ms/step - loss: 6.0538 - mae: 6.0538\n",
            "Epoch 30/100\n",
            "1/1 [==============================] - 0s 21ms/step - loss: 5.9300 - mae: 5.9300\n",
            "Epoch 31/100\n",
            "1/1 [==============================] - 0s 13ms/step - loss: 5.7341 - mae: 5.7341\n",
            "Epoch 32/100\n",
            "1/1 [==============================] - 0s 20ms/step - loss: 5.4987 - mae: 5.4987\n",
            "Epoch 33/100\n",
            "1/1 [==============================] - 0s 14ms/step - loss: 5.3945 - mae: 5.3945\n",
            "Epoch 34/100\n",
            "1/1 [==============================] - 0s 24ms/step - loss: 5.2871 - mae: 5.2871\n",
            "Epoch 35/100\n",
            "1/1 [==============================] - 0s 23ms/step - loss: 5.1917 - mae: 5.1917\n",
            "Epoch 36/100\n",
            "1/1 [==============================] - 0s 15ms/step - loss: 5.1680 - mae: 5.1680\n",
            "Epoch 37/100\n",
            "1/1 [==============================] - 0s 14ms/step - loss: 5.1069 - mae: 5.1069\n",
            "Epoch 38/100\n",
            "1/1 [==============================] - 0s 14ms/step - loss: 5.0110 - mae: 5.0110\n",
            "Epoch 39/100\n",
            "1/1 [==============================] - 0s 13ms/step - loss: 4.8828 - mae: 4.8828\n",
            "Epoch 40/100\n",
            "1/1 [==============================] - 0s 25ms/step - loss: 4.7247 - mae: 4.7247\n",
            "Epoch 41/100\n",
            "1/1 [==============================] - 0s 27ms/step - loss: 4.5946 - mae: 4.5946\n",
            "Epoch 42/100\n",
            "1/1 [==============================] - 0s 37ms/step - loss: 4.4976 - mae: 4.4976\n",
            "Epoch 43/100\n",
            "1/1 [==============================] - 0s 30ms/step - loss: 4.3926 - mae: 4.3926\n",
            "Epoch 44/100\n",
            "1/1 [==============================] - 0s 15ms/step - loss: 4.2795 - mae: 4.2795\n",
            "Epoch 45/100\n",
            "1/1 [==============================] - 0s 15ms/step - loss: 4.1582 - mae: 4.1582\n",
            "Epoch 46/100\n",
            "1/1 [==============================] - 0s 15ms/step - loss: 4.0575 - mae: 4.0575\n",
            "Epoch 47/100\n",
            "1/1 [==============================] - 0s 17ms/step - loss: 3.8803 - mae: 3.8803\n",
            "Epoch 48/100\n",
            "1/1 [==============================] - 0s 23ms/step - loss: 3.7239 - mae: 3.7239\n",
            "Epoch 49/100\n",
            "1/1 [==============================] - 0s 23ms/step - loss: 3.5594 - mae: 3.5594\n",
            "Epoch 50/100\n",
            "1/1 [==============================] - 0s 15ms/step - loss: 3.3863 - mae: 3.3863\n",
            "Epoch 51/100\n",
            "1/1 [==============================] - 0s 15ms/step - loss: 3.2164 - mae: 3.2164\n",
            "Epoch 52/100\n",
            "1/1 [==============================] - 0s 15ms/step - loss: 3.0562 - mae: 3.0562\n",
            "Epoch 53/100\n",
            "1/1 [==============================] - 0s 20ms/step - loss: 2.8472 - mae: 2.8472\n",
            "Epoch 54/100\n",
            "1/1 [==============================] - 0s 13ms/step - loss: 2.6581 - mae: 2.6581\n",
            "Epoch 55/100\n",
            "1/1 [==============================] - 0s 11ms/step - loss: 2.4575 - mae: 2.4575\n",
            "Epoch 56/100\n",
            "1/1 [==============================] - 0s 13ms/step - loss: 2.2452 - mae: 2.2452\n",
            "Epoch 57/100\n",
            "1/1 [==============================] - 0s 27ms/step - loss: 2.0210 - mae: 2.0210\n",
            "Epoch 58/100\n",
            "1/1 [==============================] - 0s 11ms/step - loss: 1.7846 - mae: 1.7846\n",
            "Epoch 59/100\n",
            "1/1 [==============================] - 0s 27ms/step - loss: 1.5679 - mae: 1.5679\n",
            "Epoch 60/100\n",
            "1/1 [==============================] - 0s 11ms/step - loss: 1.2875 - mae: 1.2875\n",
            "Epoch 61/100\n",
            "1/1 [==============================] - 0s 11ms/step - loss: 1.0253 - mae: 1.0253\n",
            "Epoch 62/100\n",
            "1/1 [==============================] - 0s 23ms/step - loss: 0.7543 - mae: 0.7543\n",
            "Epoch 63/100\n",
            "1/1 [==============================] - 0s 21ms/step - loss: 0.5166 - mae: 0.5166\n",
            "Epoch 64/100\n",
            "1/1 [==============================] - 0s 19ms/step - loss: 0.1925 - mae: 0.1925\n",
            "Epoch 65/100\n",
            "1/1 [==============================] - 0s 12ms/step - loss: 0.3965 - mae: 0.3965\n",
            "Epoch 66/100\n",
            "1/1 [==============================] - 0s 27ms/step - loss: 0.5187 - mae: 0.5187\n",
            "Epoch 67/100\n",
            "1/1 [==============================] - 0s 31ms/step - loss: 0.6251 - mae: 0.6251\n",
            "Epoch 68/100\n",
            "1/1 [==============================] - 0s 17ms/step - loss: 0.7821 - mae: 0.7821\n",
            "Epoch 69/100\n",
            "1/1 [==============================] - 0s 21ms/step - loss: 0.7879 - mae: 0.7879\n",
            "Epoch 70/100\n",
            "1/1 [==============================] - 0s 17ms/step - loss: 0.8291 - mae: 0.8291\n",
            "Epoch 71/100\n",
            "1/1 [==============================] - 0s 16ms/step - loss: 0.7968 - mae: 0.7968\n",
            "Epoch 72/100\n",
            "1/1 [==============================] - 0s 17ms/step - loss: 0.7508 - mae: 0.7508\n",
            "Epoch 73/100\n",
            "1/1 [==============================] - 0s 25ms/step - loss: 0.6744 - mae: 0.6744\n",
            "Epoch 74/100\n",
            "1/1 [==============================] - 0s 46ms/step - loss: 0.5715 - mae: 0.5715\n",
            "Epoch 75/100\n",
            "1/1 [==============================] - 0s 75ms/step - loss: 0.3908 - mae: 0.3908\n",
            "Epoch 76/100\n",
            "1/1 [==============================] - 0s 39ms/step - loss: 0.3519 - mae: 0.3519\n",
            "Epoch 77/100\n",
            "1/1 [==============================] - 0s 34ms/step - loss: 0.1808 - mae: 0.1808\n",
            "Epoch 78/100\n",
            "1/1 [==============================] - 0s 35ms/step - loss: 0.2182 - mae: 0.2182\n",
            "Epoch 79/100\n",
            "1/1 [==============================] - 0s 28ms/step - loss: 0.3806 - mae: 0.3806\n",
            "Epoch 80/100\n",
            "1/1 [==============================] - 0s 29ms/step - loss: 0.3547 - mae: 0.3547\n",
            "Epoch 81/100\n",
            "1/1 [==============================] - 0s 26ms/step - loss: 0.4693 - mae: 0.4693\n",
            "Epoch 82/100\n",
            "1/1 [==============================] - 0s 27ms/step - loss: 0.5312 - mae: 0.5312\n",
            "Epoch 83/100\n",
            "1/1 [==============================] - 0s 51ms/step - loss: 0.3621 - mae: 0.3621\n",
            "Epoch 84/100\n",
            "1/1 [==============================] - 0s 26ms/step - loss: 0.4095 - mae: 0.4095\n",
            "Epoch 85/100\n",
            "1/1 [==============================] - 0s 35ms/step - loss: 0.3930 - mae: 0.3930\n",
            "Epoch 86/100\n",
            "1/1 [==============================] - 0s 38ms/step - loss: 0.2167 - mae: 0.2167\n",
            "Epoch 87/100\n",
            "1/1 [==============================] - 0s 29ms/step - loss: 0.1889 - mae: 0.1889\n",
            "Epoch 88/100\n",
            "1/1 [==============================] - 0s 35ms/step - loss: 0.1961 - mae: 0.1961\n",
            "Epoch 89/100\n",
            "1/1 [==============================] - 0s 33ms/step - loss: 0.2076 - mae: 0.2076\n",
            "Epoch 90/100\n",
            "1/1 [==============================] - 0s 35ms/step - loss: 0.2318 - mae: 0.2318\n",
            "Epoch 91/100\n",
            "1/1 [==============================] - 0s 23ms/step - loss: 0.2364 - mae: 0.2364\n",
            "Epoch 92/100\n",
            "1/1 [==============================] - 0s 15ms/step - loss: 0.1920 - mae: 0.1920\n",
            "Epoch 93/100\n",
            "1/1 [==============================] - 0s 18ms/step - loss: 0.1243 - mae: 0.1243\n",
            "Epoch 94/100\n",
            "1/1 [==============================] - 0s 26ms/step - loss: 0.1266 - mae: 0.1266\n",
            "Epoch 95/100\n",
            "1/1 [==============================] - 0s 22ms/step - loss: 0.0645 - mae: 0.0645\n",
            "Epoch 96/100\n",
            "1/1 [==============================] - 0s 28ms/step - loss: 0.1098 - mae: 0.1098\n",
            "Epoch 97/100\n",
            "1/1 [==============================] - 0s 23ms/step - loss: 0.1860 - mae: 0.1860\n",
            "Epoch 98/100\n",
            "1/1 [==============================] - 0s 18ms/step - loss: 0.1362 - mae: 0.1362\n",
            "Epoch 99/100\n",
            "1/1 [==============================] - 0s 31ms/step - loss: 0.2130 - mae: 0.2130\n",
            "Epoch 100/100\n",
            "1/1 [==============================] - 0s 37ms/step - loss: 0.1136 - mae: 0.1136\n"
          ]
        },
        {
          "output_type": "execute_result",
          "data": {
            "text/plain": [
              "<keras.src.callbacks.History at 0x7e6138c866e0>"
            ]
          },
          "metadata": {},
          "execution_count": 19
        }
      ]
    },
    {
      "cell_type": "code",
      "source": [
        "# Try make prediction\n",
        "model3.predict([17.0])"
      ],
      "metadata": {
        "colab": {
          "base_uri": "https://localhost:8080/"
        },
        "id": "iZcXS1vmiusq",
        "outputId": "e3afee87-9cc8-4ceb-f3a9-ace10ecd3587"
      },
      "execution_count": 20,
      "outputs": [
        {
          "output_type": "stream",
          "name": "stdout",
          "text": [
            "1/1 [==============================] - 0s 112ms/step\n"
          ]
        },
        {
          "output_type": "execute_result",
          "data": {
            "text/plain": [
              "array([[26.288834]], dtype=float32)"
            ]
          },
          "metadata": {},
          "execution_count": 20
        }
      ]
    },
    {
      "cell_type": "markdown",
      "source": [
        "## Evaluating Model\n",
        "\n",
        "Build a model -> fit it -> evaluate it -> tweak a model -> fit it -> evaluate it...\n",
        "\n",
        "Evaluation = visualize\n",
        "\n",
        "it's good idea to visualize :\n",
        "* The data - what data we working with? what does it look like?\n",
        "* The model = what does our model look like?\n",
        "* The training of a model - how does a model perform while it learns?\n",
        "* The predictions of the model - how do the predictions of a model line up against the ground truth (the origin label)"
      ],
      "metadata": {
        "id": "ggu1CbXFlSbl"
      }
    },
    {
      "cell_type": "code",
      "source": [
        "# Make a bigger dataset\n",
        "\n",
        "x = tf.range(-100, 100, 4)\n",
        "x"
      ],
      "metadata": {
        "colab": {
          "base_uri": "https://localhost:8080/"
        },
        "id": "O5yDk0J9lV5n",
        "outputId": "ad7074b0-8b90-49ec-9391-05eea4d91726"
      },
      "execution_count": 21,
      "outputs": [
        {
          "output_type": "execute_result",
          "data": {
            "text/plain": [
              "<tf.Tensor: shape=(50,), dtype=int32, numpy=\n",
              "array([-100,  -96,  -92,  -88,  -84,  -80,  -76,  -72,  -68,  -64,  -60,\n",
              "        -56,  -52,  -48,  -44,  -40,  -36,  -32,  -28,  -24,  -20,  -16,\n",
              "        -12,   -8,   -4,    0,    4,    8,   12,   16,   20,   24,   28,\n",
              "         32,   36,   40,   44,   48,   52,   56,   60,   64,   68,   72,\n",
              "         76,   80,   84,   88,   92,   96], dtype=int32)>"
            ]
          },
          "metadata": {},
          "execution_count": 21
        }
      ]
    },
    {
      "cell_type": "code",
      "source": [
        "# Make labels for the dataset\n",
        "\n",
        "y = x + 10\n",
        "y"
      ],
      "metadata": {
        "colab": {
          "base_uri": "https://localhost:8080/"
        },
        "id": "_VnV5iodqYP8",
        "outputId": "a9153c99-8459-4fc2-fe82-47ad4f0f37d5"
      },
      "execution_count": 22,
      "outputs": [
        {
          "output_type": "execute_result",
          "data": {
            "text/plain": [
              "<tf.Tensor: shape=(50,), dtype=int32, numpy=\n",
              "array([-90, -86, -82, -78, -74, -70, -66, -62, -58, -54, -50, -46, -42,\n",
              "       -38, -34, -30, -26, -22, -18, -14, -10,  -6,  -2,   2,   6,  10,\n",
              "        14,  18,  22,  26,  30,  34,  38,  42,  46,  50,  54,  58,  62,\n",
              "        66,  70,  74,  78,  82,  86,  90,  94,  98, 102, 106], dtype=int32)>"
            ]
          },
          "metadata": {},
          "execution_count": 22
        }
      ]
    },
    {
      "cell_type": "code",
      "source": [
        "# Visualize the data\n",
        "\n",
        "import matplotlib.pyplot as plt\n",
        "\n",
        "plt.scatter(x, y)"
      ],
      "metadata": {
        "colab": {
          "base_uri": "https://localhost:8080/",
          "height": 447
        },
        "id": "wqnieOnpqiby",
        "outputId": "045785c6-7051-464a-a9af-3ff9c3f28104"
      },
      "execution_count": 23,
      "outputs": [
        {
          "output_type": "execute_result",
          "data": {
            "text/plain": [
              "<matplotlib.collections.PathCollection at 0x7e613819d330>"
            ]
          },
          "metadata": {},
          "execution_count": 23
        },
        {
          "output_type": "display_data",
          "data": {
            "text/plain": [
              "<Figure size 640x480 with 1 Axes>"
            ],
            "image/png": "[encoded data removed]"
          },
          "metadata": {}
        }
      ]
    },
    {
      "cell_type": "markdown",
      "source": [
        "### The 3 sets\n",
        "\n",
        "* **Training set** - the model learn from this data, 70-80%\n",
        "* **Validation set** - set model gets tuned on this data, 10-15%\n",
        "* **Test set** - the model gets evaluated on this data, 10-15%"
      ],
      "metadata": {
        "id": "CCtd3h36q0Xk"
      }
    },
    {
      "cell_type": "code",
      "source": [
        "# Check the length of the data\n",
        "len(x)"
      ],
      "metadata": {
        "colab": {
          "base_uri": "https://localhost:8080/"
        },
        "id": "2_ITjQWjFQsM",
        "outputId": "aa8e3383-c700-44fc-cad8-bdf62ef6d120"
      },
      "execution_count": 24,
      "outputs": [
        {
          "output_type": "execute_result",
          "data": {
            "text/plain": [
              "50"
            ]
          },
          "metadata": {},
          "execution_count": 24
        }
      ]
    },
    {
      "cell_type": "code",
      "source": [
        "# Split the data into train and test sets\n",
        "x_train = x[:40] # first to 40 data will be the training sample\n",
        "y_train = y[:40]\n",
        "\n",
        "x_test = x[40:] # 20% will be test\n",
        "y_test = y[40:]\n",
        "\n",
        "len(x_train), len(x_test), len(y_train), len(y_test)"
      ],
      "metadata": {
        "colab": {
          "base_uri": "https://localhost:8080/"
        },
        "id": "4fkIFEl_HAu3",
        "outputId": "43c019e8-8ef8-459d-82d7-b497b8554bc1"
      },
      "execution_count": 25,
      "outputs": [
        {
          "output_type": "execute_result",
          "data": {
            "text/plain": [
              "(40, 10, 40, 10)"
            ]
          },
          "metadata": {},
          "execution_count": 25
        }
      ]
    },
    {
      "cell_type": "markdown",
      "source": [
        "### Visualing the data\n",
        "\n",
        "Now we've got out data in training and test sets...lets visualize it"
      ],
      "metadata": {
        "id": "9WJ9AtA0KgLL"
      }
    },
    {
      "cell_type": "code",
      "source": [
        "plt.figure(figsize=(10,7))\n",
        "\n",
        "# Plot training data in blue\n",
        "plt.scatter(x_train, y_train, c=\"b\", label=\"Training data\")\n",
        "\n",
        "# Plot test data in green\n",
        "plt.scatter(x_test, y_test, c=\"g\", label=\"Testing data\")\n",
        "\n",
        "# Show a legend\n",
        "plt.legend();"
      ],
      "metadata": {
        "colab": {
          "base_uri": "https://localhost:8080/",
          "height": 599
        },
        "id": "OQGu_de6G_li",
        "outputId": "18faac70-e599-4ff7-ff7e-3b372c3bc439"
      },
      "execution_count": 26,
      "outputs": [
        {
          "output_type": "display_data",
          "data": {
            "text/plain": [
              "<Figure size 1000x700 with 1 Axes>"
            ],
            "image/png": "[encoded data removed]"
          },
          "metadata": {}
        }
      ]
    },
    {
      "cell_type": "code",
      "source": [
        "# Lets have a look at how to build a neural network for our data\n",
        "\n",
        "# 1. Create the model\n",
        "model = tf.keras.Sequential([\n",
        "    tf.keras.layers.Dense(1)\n",
        "])\n",
        "\n",
        "# 2. Compile the model\n",
        "model.compile(loss = tf.keras.losses.mae,\n",
        "              optimizer = tf.keras.optimizers.SGD(),\n",
        "              metrics = [\"mae\"])\n",
        "\n",
        "# 3. Fit the model\n",
        "#model.fit(tf.expand_dims(x_train, axis=-1), y_train, epochs=100)"
      ],
      "metadata": {
        "id": "TtdWZXKHSSN-"
      },
      "execution_count": 27,
      "outputs": []
    },
    {
      "cell_type": "markdown",
      "source": [
        "### Visualizing the model"
      ],
      "metadata": {
        "id": "F7d7P08yTScA"
      }
    },
    {
      "cell_type": "code",
      "source": [
        "# Lets create  model wich builds automatically by defining the input_shape arguments\n",
        "\n",
        "tf.random.set_seed(42)\n",
        "\n",
        "# 1. Create the model\n",
        "model_1 = tf.keras.Sequential([\n",
        "    tf.keras.layers.Dense(100, input_shape=[1], name=\"input_layer\"),\n",
        "    tf.keras.layers.Dense(1, name=\"output_layer\")\n",
        "], name=\"model_one\")\n",
        "\n",
        "# 2. Compile the model\n",
        "model_1.compile(loss = tf.keras.losses.mae,\n",
        "              optimizer = tf.keras.optimizers.SGD(),\n",
        "              metrics = [\"mae\"])"
      ],
      "metadata": {
        "id": "MpSA6LxwTzZK"
      },
      "execution_count": 28,
      "outputs": []
    },
    {
      "cell_type": "code",
      "source": [
        "model_1.summary()"
      ],
      "metadata": {
        "colab": {
          "base_uri": "https://localhost:8080/"
        },
        "id": "-jMC9-6WUyLw",
        "outputId": "0f5e98f5-a31c-4012-bf3d-2053fa2c18a6"
      },
      "execution_count": 29,
      "outputs": [
        {
          "output_type": "stream",
          "name": "stdout",
          "text": [
            "Model: \"model_one\"\n",
            "_________________________________________________________________\n",
            " Layer (type)                Output Shape              Param #   \n",
            "=================================================================\n",
            " input_layer (Dense)         (None, 100)               200       \n",
            "                                                                 \n",
            " output_layer (Dense)        (None, 1)                 101       \n",
            "                                                                 \n",
            "=================================================================\n",
            "Total params: 301 (1.18 KB)\n",
            "Trainable params: 301 (1.18 KB)\n",
            "Non-trainable params: 0 (0.00 Byte)\n",
            "_________________________________________________________________\n"
          ]
        }
      ]
    },
    {
      "cell_type": "markdown",
      "source": [
        "* Total params - total number of parameters that we have\n",
        "\n",
        "* Trainable parameters - the parameters (patterns) the model can update as it trains\n",
        "\n",
        "* Non-trainable params - parameters cant updated during training (allready learn in models during **transfer learning**)\n",
        "\n",
        "📚 **Resource** : For a more in depth overview of the trainable parameters within a layer, check ouy MIT's intorduction to deep learning video\n",
        "\n",
        "⚡**Exercise :** Try playing around with the number of hidden units in the dense layer, see how that effect the number of parameters"
      ],
      "metadata": {
        "id": "fkeG27Fm3_t1"
      }
    },
    {
      "cell_type": "code",
      "source": [
        "# 3. Fit the model\n",
        "model_1.fit(tf.expand_dims(x_train, axis=-1), y_train, epochs=60, verbose=0)"
      ],
      "metadata": {
        "colab": {
          "base_uri": "https://localhost:8080/"
        },
        "id": "e-cgkHtW6914",
        "outputId": "9a242eba-6eef-47bc-a7bb-8c5f75587bc9"
      },
      "execution_count": 30,
      "outputs": [
        {
          "output_type": "execute_result",
          "data": {
            "text/plain": [
              "<keras.src.callbacks.History at 0x7e61380c8a90>"
            ]
          },
          "metadata": {},
          "execution_count": 30
        }
      ]
    },
    {
      "cell_type": "code",
      "source": [
        "# Get a summary of our model\n",
        "model_1.summary()"
      ],
      "metadata": {
        "colab": {
          "base_uri": "https://localhost:8080/"
        },
        "id": "IYam8Kl-M2o7",
        "outputId": "29a65f65-0d03-4264-9a62-94f67a2ba405"
      },
      "execution_count": 31,
      "outputs": [
        {
          "output_type": "stream",
          "name": "stdout",
          "text": [
            "Model: \"model_one\"\n",
            "_________________________________________________________________\n",
            " Layer (type)                Output Shape              Param #   \n",
            "=================================================================\n",
            " input_layer (Dense)         (None, 100)               200       \n",
            "                                                                 \n",
            " output_layer (Dense)        (None, 1)                 101       \n",
            "                                                                 \n",
            "=================================================================\n",
            "Total params: 301 (1.18 KB)\n",
            "Trainable params: 301 (1.18 KB)\n",
            "Non-trainable params: 0 (0.00 Byte)\n",
            "_________________________________________________________________\n"
          ]
        }
      ]
    },
    {
      "cell_type": "code",
      "source": [
        "from tensorflow.keras.utils import plot_model\n",
        "\n",
        "plot_model(model=model_1, show_shapes=True)"
      ],
      "metadata": {
        "colab": {
          "base_uri": "https://localhost:8080/",
          "height": 312
        },
        "id": "EMxErQE0NVSc",
        "outputId": "c5a7adf4-f4cf-4db0-9419-69caa3f3d209"
      },
      "execution_count": 32,
      "outputs": [
        {
          "output_type": "execute_result",
          "data": {
            "image/png": "[encoded data removed]",
            "text/plain": [
              "<IPython.core.display.Image object>"
            ]
          },
          "metadata": {},
          "execution_count": 32
        }
      ]
    },
    {
      "cell_type": "markdown",
      "source": [
        "### Visualizing our models predictions\n",
        "\n",
        "To visualize predictions, it's a good idea to plot them against the ground truth labels.\n",
        "\n",
        "Often you'll see this in the form of 'y_test' or 'y_true' versus 'y_pred' (ground truth versus your model prediction)"
      ],
      "metadata": {
        "id": "XXOFpjXFOyH9"
      }
    },
    {
      "cell_type": "code",
      "source": [
        "# Make some predictions\n",
        "\n",
        "y_pred = model_1.predict(x_test)\n",
        "y_pred"
      ],
      "metadata": {
        "colab": {
          "base_uri": "https://localhost:8080/"
        },
        "id": "943XbXEayJf3",
        "outputId": "635d4b2f-fda5-41e3-dcd0-4106f025ea0a"
      },
      "execution_count": 33,
      "outputs": [
        {
          "output_type": "stream",
          "name": "stderr",
          "text": [
            "WARNING:tensorflow:5 out of the last 5 calls to <function Model.make_predict_function.<locals>.predict_function at 0x7e612bf2bb50> triggered tf.function retracing. Tracing is expensive and the excessive number of tracings could be due to (1) creating @tf.function repeatedly in a loop, (2) passing tensors with different shapes, (3) passing Python objects instead of tensors. For (1), please define your @tf.function outside of the loop. For (2), @tf.function has reduce_retracing=True option that can avoid unnecessary retracing. For (3), please refer to https://www.tensorflow.org/guide/function#controlling_retracing and https://www.tensorflow.org/api_docs/python/tf/function for  more details.\n"
          ]
        },
        {
          "output_type": "stream",
          "name": "stdout",
          "text": [
            "1/1 [==============================] - 0s 64ms/step\n"
          ]
        },
        {
          "output_type": "execute_result",
          "data": {
            "text/plain": [
              "array([[ 77.08889 ],\n",
              "       [ 82.15782 ],\n",
              "       [ 87.22676 ],\n",
              "       [ 92.29569 ],\n",
              "       [ 97.36462 ],\n",
              "       [102.43354 ],\n",
              "       [107.50247 ],\n",
              "       [112.5714  ],\n",
              "       [117.64033 ],\n",
              "       [122.709274]], dtype=float32)"
            ]
          },
          "metadata": {},
          "execution_count": 33
        }
      ]
    },
    {
      "cell_type": "code",
      "source": [
        "y_test"
      ],
      "metadata": {
        "colab": {
          "base_uri": "https://localhost:8080/"
        },
        "id": "Ke-R5lq9zVa3",
        "outputId": "6e83645e-64e4-43d0-8e94-0f8a91194cff"
      },
      "execution_count": 34,
      "outputs": [
        {
          "output_type": "execute_result",
          "data": {
            "text/plain": [
              "<tf.Tensor: shape=(10,), dtype=int32, numpy=array([ 70,  74,  78,  82,  86,  90,  94,  98, 102, 106], dtype=int32)>"
            ]
          },
          "metadata": {},
          "execution_count": 34
        }
      ]
    },
    {
      "cell_type": "markdown",
      "source": [
        "🔑 **Note : ** if you feel like you're going to reuse some functionality in the future, its good idea to turn it into a fucntion"
      ],
      "metadata": {
        "id": "nSO6jWAR09Jt"
      }
    },
    {
      "cell_type": "code",
      "source": [
        "# Lets create a plotting function\n",
        "\n",
        "def plot_predictions(train_data=x_train,\n",
        "                     train_labels=y_train,\n",
        "                     test_data=x_test,\n",
        "                     test_labels=y_test,\n",
        "                     predictions=y_pred):\n",
        "  \"\"\"\n",
        "  Plots training data, test data and compares predictions to ground truth labels\n",
        "  \"\"\"\n",
        "  plt.figure(figsize=(10,7))\n",
        "  # Plot training data in blue\n",
        "  plt.scatter(train_data, train_labels, c=\"b\", label=\"Training data\")\n",
        "\n",
        "  # Plot testing data in green\n",
        "  plt.scatter(test_data, test_labels, c=\"g\", label=\"Test data\")\n",
        "\n",
        "  # Plot models predictions in red\n",
        "  plt.scatter(test_data, predictions, c=\"r\", label=\"Predictions\")\n",
        "\n",
        "  # Show the legend\n",
        "  plt.legend()\n",
        "\n"
      ],
      "metadata": {
        "id": "Wt-qJvPk1MAh"
      },
      "execution_count": 35,
      "outputs": []
    },
    {
      "cell_type": "code",
      "source": [
        "plot_predictions()"
      ],
      "metadata": {
        "colab": {
          "base_uri": "https://localhost:8080/",
          "height": 599
        },
        "id": "7ZFYZPV5200S",
        "outputId": "3df4bc63-d826-4a21-a63e-ff7195c5d3a8"
      },
      "execution_count": 36,
      "outputs": [
        {
          "output_type": "display_data",
          "data": {
            "text/plain": [
              "<Figure size 1000x700 with 1 Axes>"
            ],
            "image/png": "[encoded data removed]"
          },
          "metadata": {}
        }
      ]
    },
    {
      "cell_type": "markdown",
      "source": [
        "### Evaluating our models predictions with regression evaluation metrics\n",
        "\n",
        "The evaluation metrics is depending to the model we working on\n",
        "\n",
        "since we're working on a regression, two of the main matrics:\n",
        "* MAE - mean absolute error, \"on average, how wrong is each of my model predictions\"\n",
        "\n",
        "* MSE - mean square error, \"square the average errors\""
      ],
      "metadata": {
        "id": "xWQ92ZRr4V_K"
      }
    },
    {
      "cell_type": "code",
      "source": [
        " # Evaluate the model on the test\n",
        " model_1.evaluate(x_test, y_test)"
      ],
      "metadata": {
        "id": "y3-bYOHr0p-A",
        "colab": {
          "base_uri": "https://localhost:8080/"
        },
        "outputId": "7f433991-5cdb-4f46-e08f-9c223da49d36"
      },
      "execution_count": 37,
      "outputs": [
        {
          "output_type": "stream",
          "name": "stdout",
          "text": [
            "1/1 [==============================] - 0s 159ms/step - loss: 11.8991 - mae: 11.8991\n"
          ]
        },
        {
          "output_type": "execute_result",
          "data": {
            "text/plain": [
              "[11.899084091186523, 11.899084091186523]"
            ]
          },
          "metadata": {},
          "execution_count": 37
        }
      ]
    },
    {
      "cell_type": "code",
      "source": [
        "# Calculate the mean absolute error\n",
        "mae = tf.metrics.mean_absolute_error(y_true=y_test, y_pred=tf.constant(y_pred))\n",
        "mae"
      ],
      "metadata": {
        "colab": {
          "base_uri": "https://localhost:8080/"
        },
        "id": "bAwZ_yTfPV4C",
        "outputId": "34aaf795-4cb2-49bc-90a1-c08684898748"
      },
      "execution_count": 38,
      "outputs": [
        {
          "output_type": "execute_result",
          "data": {
            "text/plain": [
              "<tf.Tensor: shape=(10,), dtype=float32, numpy=\n",
              "array([12.946666 , 10.7684355, 10.       , 10.459139 , 12.145846 ,\n",
              "       15.146832 , 19.502472 , 24.571404 , 29.640326 , 34.709274 ],\n",
              "      dtype=float32)>"
            ]
          },
          "metadata": {},
          "execution_count": 38
        }
      ]
    },
    {
      "cell_type": "code",
      "source": [
        "tf.constant(y_pred)"
      ],
      "metadata": {
        "colab": {
          "base_uri": "https://localhost:8080/"
        },
        "id": "v6CpJX1IPiwj",
        "outputId": "f33434ab-3653-492a-acfd-93254355ddf9"
      },
      "execution_count": 39,
      "outputs": [
        {
          "output_type": "execute_result",
          "data": {
            "text/plain": [
              "<tf.Tensor: shape=(10, 1), dtype=float32, numpy=\n",
              "array([[ 77.08889 ],\n",
              "       [ 82.15782 ],\n",
              "       [ 87.22676 ],\n",
              "       [ 92.29569 ],\n",
              "       [ 97.36462 ],\n",
              "       [102.43354 ],\n",
              "       [107.50247 ],\n",
              "       [112.5714  ],\n",
              "       [117.64033 ],\n",
              "       [122.709274]], dtype=float32)>"
            ]
          },
          "metadata": {},
          "execution_count": 39
        }
      ]
    },
    {
      "cell_type": "code",
      "source": [
        "y_test"
      ],
      "metadata": {
        "colab": {
          "base_uri": "https://localhost:8080/"
        },
        "id": "JusnDI5oPlKR",
        "outputId": "eba799ea-4fee-4c9f-c13f-b751febb283b"
      },
      "execution_count": 40,
      "outputs": [
        {
          "output_type": "execute_result",
          "data": {
            "text/plain": [
              "<tf.Tensor: shape=(10,), dtype=int32, numpy=array([ 70,  74,  78,  82,  86,  90,  94,  98, 102, 106], dtype=int32)>"
            ]
          },
          "metadata": {},
          "execution_count": 40
        }
      ]
    },
    {
      "cell_type": "code",
      "source": [
        "tf.squeeze(y_pred)"
      ],
      "metadata": {
        "colab": {
          "base_uri": "https://localhost:8080/"
        },
        "id": "WqQJPNiwyi56",
        "outputId": "c26b7732-0294-48df-bdd1-20d7b2d96590"
      },
      "execution_count": 41,
      "outputs": [
        {
          "output_type": "execute_result",
          "data": {
            "text/plain": [
              "<tf.Tensor: shape=(10,), dtype=float32, numpy=\n",
              "array([ 77.08889 ,  82.15782 ,  87.22676 ,  92.29569 ,  97.36462 ,\n",
              "       102.43354 , 107.50247 , 112.5714  , 117.64033 , 122.709274],\n",
              "      dtype=float32)>"
            ]
          },
          "metadata": {},
          "execution_count": 41
        }
      ]
    },
    {
      "cell_type": "code",
      "source": [
        "# Calculate the mean absolute error\n",
        "\n",
        "mae = tf.metrics.mean_absolute_error(y_true=y_test, y_pred=tf.squeeze(y_pred))\n",
        "\n",
        "mae"
      ],
      "metadata": {
        "colab": {
          "base_uri": "https://localhost:8080/"
        },
        "id": "uUT4LV7uypPs",
        "outputId": "5e99c249-fe4a-4882-e915-4eda0010d8fe"
      },
      "execution_count": 42,
      "outputs": [
        {
          "output_type": "execute_result",
          "data": {
            "text/plain": [
              "<tf.Tensor: shape=(), dtype=float32, numpy=11.89908>"
            ]
          },
          "metadata": {},
          "execution_count": 42
        }
      ]
    },
    {
      "cell_type": "code",
      "source": [
        "# Calculate the mean square error\n",
        "\n",
        "mse = tf.metrics.mean_squared_error(y_true=y_test, y_pred=tf.squeeze(y_pred))\n",
        "mse"
      ],
      "metadata": {
        "id": "QpelDvIC2Nvg",
        "colab": {
          "base_uri": "https://localhost:8080/"
        },
        "outputId": "8acb59a6-054b-4c15-c3bd-0d260c1e99be"
      },
      "execution_count": 43,
      "outputs": [
        {
          "output_type": "execute_result",
          "data": {
            "text/plain": [
              "<tf.Tensor: shape=(), dtype=float32, numpy=151.01465>"
            ]
          },
          "metadata": {},
          "execution_count": 43
        }
      ]
    },
    {
      "cell_type": "code",
      "source": [
        "# Make fucntion to reuse MAE and MSE\n",
        "def mae(y_true, y_pred):\n",
        "  return tf.metrics.mean_absolute_error(y_true=y_true,\n",
        "                                      y_pred=tf.squeeze(y_pred))\n",
        "\n",
        "def mse(y_true,y_pred):\n",
        "  return tf.metrics.mean_squared_error(y_true=y_true,\n",
        "                                       y_pred=tf.squeeze(y_pred))"
      ],
      "metadata": {
        "id": "oCsUvdVW2yQL"
      },
      "execution_count": 44,
      "outputs": []
    },
    {
      "cell_type": "markdown",
      "source": [
        "### Running experiments to improve our model\n",
        "\n",
        "1. Get more data - get more example for model\n",
        "\n",
        "2. Make your model larger (using a more complex model) - matbe more layers or hidden units\n",
        "\n",
        "3. Train for longer - give model more chance to find patterns in data\n",
        "\n",
        "Let's do 3 modelling experiment L\n",
        "\n",
        "1. 'model_1' - same as the origin, 1 layer, trained for 100 epochs\n",
        "\n",
        "2. 'model_2' - 2 layers, trained for 100 epochs\n",
        "\n",
        "3. 'model_3' - 2 layers, rained for 500 epochs"
      ],
      "metadata": {
        "id": "U73RgqjhN1Gb"
      }
    },
    {
      "cell_type": "code",
      "source": [
        "x_train, y_train"
      ],
      "metadata": {
        "colab": {
          "base_uri": "https://localhost:8080/"
        },
        "id": "ZRYFc01nOexa",
        "outputId": "39c0b619-91e2-48e1-b088-0f1fa886ba60"
      },
      "execution_count": 45,
      "outputs": [
        {
          "output_type": "execute_result",
          "data": {
            "text/plain": [
              "(<tf.Tensor: shape=(40,), dtype=int32, numpy=\n",
              " array([-100,  -96,  -92,  -88,  -84,  -80,  -76,  -72,  -68,  -64,  -60,\n",
              "         -56,  -52,  -48,  -44,  -40,  -36,  -32,  -28,  -24,  -20,  -16,\n",
              "         -12,   -8,   -4,    0,    4,    8,   12,   16,   20,   24,   28,\n",
              "          32,   36,   40,   44,   48,   52,   56], dtype=int32)>,\n",
              " <tf.Tensor: shape=(40,), dtype=int32, numpy=\n",
              " array([-90, -86, -82, -78, -74, -70, -66, -62, -58, -54, -50, -46, -42,\n",
              "        -38, -34, -30, -26, -22, -18, -14, -10,  -6,  -2,   2,   6,  10,\n",
              "         14,  18,  22,  26,  30,  34,  38,  42,  46,  50,  54,  58,  62,\n",
              "         66], dtype=int32)>)"
            ]
          },
          "metadata": {},
          "execution_count": 45
        }
      ]
    },
    {
      "cell_type": "code",
      "source": [
        "# First build model_1\n",
        "\n",
        "# Ser random seed\n",
        "tf.random.set_seed(42)\n",
        "\n",
        "# 1. Create the model\n",
        "model_1 = tf.keras.Sequential([\n",
        "    tf.keras.layers.Dense(1)\n",
        "])\n",
        "\n",
        "# 2. Compile the model\n",
        "model_1.compile(loss=tf.keras.losses.mae,\n",
        "                optimizer=tf.keras.optimizers.SGD(),\n",
        "                metrics=[\"mae\"],\n",
        "                run_eagerly=True)\n",
        "\n",
        "# 3. FIt the model\n",
        "model_1.fit(tf.expand_dims(x_train, axis=-1), y_train, epochs=100, verbose=0)"
      ],
      "metadata": {
        "colab": {
          "base_uri": "https://localhost:8080/"
        },
        "id": "Bm7GqWOpN77n",
        "outputId": "3690a40e-5cbe-49aa-9b92-4cf0ea2891b6"
      },
      "execution_count": 46,
      "outputs": [
        {
          "output_type": "execute_result",
          "data": {
            "text/plain": [
              "<keras.src.callbacks.History at 0x7e612bfacdf0>"
            ]
          },
          "metadata": {},
          "execution_count": 46
        }
      ]
    },
    {
      "cell_type": "code",
      "source": [
        "model_1.predict(tf.reshape(x_test, shape=(-1,1)))"
      ],
      "metadata": {
        "colab": {
          "base_uri": "https://localhost:8080/"
        },
        "id": "vvrhWzRwTr-8",
        "outputId": "de80028c-32a1-490e-9de2-7751b560837d"
      },
      "execution_count": 47,
      "outputs": [
        {
          "output_type": "stream",
          "name": "stdout",
          "text": [
            "1/1 [==============================] - 0s 53ms/step\n"
          ]
        },
        {
          "output_type": "execute_result",
          "data": {
            "text/plain": [
              "array([[56.47225 ],\n",
              "       [60.152943],\n",
              "       [63.833633],\n",
              "       [67.51432 ],\n",
              "       [71.195015],\n",
              "       [74.8757  ],\n",
              "       [78.5564  ],\n",
              "       [82.23709 ],\n",
              "       [85.91778 ],\n",
              "       [89.59847 ]], dtype=float32)"
            ]
          },
          "metadata": {},
          "execution_count": 47
        }
      ]
    },
    {
      "cell_type": "code",
      "source": [
        "# Make a plot predictions for model_1\n",
        "\n",
        "# x_test = tf.reshape(x_test, shape=(-1,1))\n",
        "\n",
        "y_preds_1 = model_1.predict(tf.reshape(x_test, shape=(-1,1)))\n",
        "plot_predictions(predictions=y_preds_1)"
      ],
      "metadata": {
        "colab": {
          "base_uri": "https://localhost:8080/",
          "height": 616
        },
        "id": "-VTt2FvCQK0C",
        "outputId": "24ecfeee-827a-4cb8-ede0-41bd03f45102"
      },
      "execution_count": 48,
      "outputs": [
        {
          "output_type": "stream",
          "name": "stdout",
          "text": [
            "1/1 [==============================] - 0s 131ms/step\n"
          ]
        },
        {
          "output_type": "display_data",
          "data": {
            "text/plain": [
              "<Figure size 1000x700 with 1 Axes>"
            ],
            "image/png": "[encoded data removed]"
          },
          "metadata": {}
        }
      ]
    },
    {
      "cell_type": "code",
      "source": [
        "# Calculate model_1 evaluation metrics\n",
        "\n",
        "mae_1 = mae(y_test, y_preds_1)\n",
        "mse_1 = mse(y_test, y_preds_1)\n",
        "\n",
        "mae_1, mse_1"
      ],
      "metadata": {
        "colab": {
          "base_uri": "https://localhost:8080/"
        },
        "id": "3u6Og5EaqZEp",
        "outputId": "2212bcb2-8a18-43a0-9850-e0fae68cbdc4"
      },
      "execution_count": 49,
      "outputs": [
        {
          "output_type": "execute_result",
          "data": {
            "text/plain": [
              "(<tf.Tensor: shape=(), dtype=float32, numpy=14.96464>,\n",
              " <tf.Tensor: shape=(), dtype=float32, numpy=224.78159>)"
            ]
          },
          "metadata": {},
          "execution_count": 49
        }
      ]
    },
    {
      "cell_type": "markdown",
      "source": [
        "**Build model_2**\n",
        "\n",
        "* 2 dense layers, trained for 100 epochs"
      ],
      "metadata": {
        "id": "3IG91oWhsu7n"
      }
    },
    {
      "cell_type": "code",
      "source": [
        "# Build model_2\n",
        "\n",
        "# Set the random seed\n",
        "tf.random.set_seed(42)\n",
        "\n",
        "# 1. Create model\n",
        "model_2 = tf.keras.Sequential([\n",
        "    tf.keras.layers.Dense(70, name=\"input_layer\"),\n",
        "    tf.keras.layers.Dense(1, name=\"Output_layer\")\n",
        "])\n",
        "\n",
        "# 2. Compile the model\n",
        "\n",
        "model_2.compile(loss = mae,\n",
        "              optimizer = tf.keras.optimizers.SGD(),\n",
        "              metrics = [\"mae\"])"
      ],
      "metadata": {
        "id": "F9HBFkiUvO0E"
      },
      "execution_count": 50,
      "outputs": []
    },
    {
      "cell_type": "code",
      "source": [
        "# 3. Make Train the model\n",
        "model_2.fit(tf.expand_dims(x_train, axis=-1), y_train, epochs=54)"
      ],
      "metadata": {
        "colab": {
          "base_uri": "https://localhost:8080/"
        },
        "id": "xCwKGotyzj8h",
        "outputId": "f2cb77b5-1dcc-4a5c-9ebd-cd776dbb4daf"
      },
      "execution_count": 51,
      "outputs": [
        {
          "output_type": "stream",
          "name": "stdout",
          "text": [
            "Epoch 1/54\n",
            "2/2 [==============================] - 2s 32ms/step - loss: 40.9571 - mae: 39.9997\n",
            "Epoch 2/54\n",
            "2/2 [==============================] - 0s 12ms/step - loss: 41.0079 - mae: 40.0107\n",
            "Epoch 3/54\n",
            "2/2 [==============================] - 0s 13ms/step - loss: 52.8612 - mae: 18.6444\n",
            "Epoch 4/54\n",
            "2/2 [==============================] - 0s 17ms/step - loss: 40.6816 - mae: 36.3991\n",
            "Epoch 5/54\n",
            "2/2 [==============================] - 0s 18ms/step - loss: 40.7059 - mae: 38.3590\n",
            "Epoch 6/54\n",
            "2/2 [==============================] - 0s 11ms/step - loss: 40.9809 - mae: 31.7118\n",
            "Epoch 7/54\n",
            "2/2 [==============================] - 0s 10ms/step - loss: 40.7388 - mae: 38.5845\n",
            "Epoch 8/54\n",
            "2/2 [==============================] - 0s 16ms/step - loss: 40.9280 - mae: 32.3538\n",
            "Epoch 9/54\n",
            "2/2 [==============================] - 0s 6ms/step - loss: 46.7440 - mae: 15.3086\n",
            "Epoch 10/54\n",
            "2/2 [==============================] - 0s 19ms/step - loss: 40.6692 - mae: 36.8695\n",
            "Epoch 11/54\n",
            "2/2 [==============================] - 0s 14ms/step - loss: 40.9435 - mae: 38.9993\n",
            "Epoch 12/54\n",
            "2/2 [==============================] - 0s 12ms/step - loss: 52.3128 - mae: 16.0020\n",
            "Epoch 13/54\n",
            "2/2 [==============================] - 0s 11ms/step - loss: 40.7217 - mae: 36.2645\n",
            "Epoch 14/54\n",
            "2/2 [==============================] - 0s 16ms/step - loss: 41.1231 - mae: 30.2142\n",
            "Epoch 15/54\n",
            "2/2 [==============================] - 0s 12ms/step - loss: 40.8822 - mae: 38.7233\n",
            "Epoch 16/54\n",
            "2/2 [==============================] - 0s 9ms/step - loss: 40.8649 - mae: 41.0448\n",
            "Epoch 17/54\n",
            "2/2 [==============================] - 0s 9ms/step - loss: 40.3249 - mae: 34.1004\n",
            "Epoch 18/54\n",
            "2/2 [==============================] - 0s 8ms/step - loss: 40.8730 - mae: 33.4457\n",
            "Epoch 19/54\n",
            "2/2 [==============================] - 0s 9ms/step - loss: 43.2409 - mae: 18.3493\n",
            "Epoch 20/54\n",
            "2/2 [==============================] - 0s 8ms/step - loss: 41.2048 - mae: 30.2916\n",
            "Epoch 21/54\n",
            "2/2 [==============================] - 0s 9ms/step - loss: 40.7422 - mae: 35.0883\n",
            "Epoch 22/54\n",
            "2/2 [==============================] - 0s 11ms/step - loss: 40.6418 - mae: 37.4639\n",
            "Epoch 23/54\n",
            "2/2 [==============================] - 0s 9ms/step - loss: 40.6455 - mae: 38.1458\n",
            "Epoch 24/54\n",
            "2/2 [==============================] - 0s 9ms/step - loss: 41.0080 - mae: 30.4489\n",
            "Epoch 25/54\n",
            "2/2 [==============================] - 0s 9ms/step - loss: 40.8820 - mae: 41.6431\n",
            "Epoch 26/54\n",
            "2/2 [==============================] - 0s 15ms/step - loss: 42.0345 - mae: 25.8636\n",
            "Epoch 27/54\n",
            "2/2 [==============================] - 0s 9ms/step - loss: 40.7452 - mae: 34.9322\n",
            "Epoch 28/54\n",
            "2/2 [==============================] - 0s 13ms/step - loss: 42.1581 - mae: 24.3631\n",
            "Epoch 29/54\n",
            "2/2 [==============================] - 0s 8ms/step - loss: 40.7210 - mae: 34.0340\n",
            "Epoch 30/54\n",
            "2/2 [==============================] - 0s 9ms/step - loss: 45.3175 - mae: 14.1937\n",
            "Epoch 31/54\n",
            "2/2 [==============================] - 0s 11ms/step - loss: 57.7111 - mae: 16.0573\n",
            "Epoch 32/54\n",
            "2/2 [==============================] - 0s 10ms/step - loss: 41.2202 - mae: 26.7738\n",
            "Epoch 33/54\n",
            "2/2 [==============================] - 0s 9ms/step - loss: 41.1731 - mae: 30.2055\n",
            "Epoch 34/54\n",
            "2/2 [==============================] - 0s 9ms/step - loss: 40.8192 - mae: 32.5753\n",
            "Epoch 35/54\n",
            "2/2 [==============================] - 0s 14ms/step - loss: 40.6302 - mae: 35.2046\n",
            "Epoch 36/54\n",
            "2/2 [==============================] - 0s 11ms/step - loss: 41.6512 - mae: 23.9148\n",
            "Epoch 37/54\n",
            "2/2 [==============================] - 0s 20ms/step - loss: 40.8515 - mae: 32.4772\n",
            "Epoch 38/54\n",
            "2/2 [==============================] - 0s 30ms/step - loss: 40.6545 - mae: 34.5934\n",
            "Epoch 39/54\n",
            "2/2 [==============================] - 0s 20ms/step - loss: 40.7243 - mae: 34.1497\n",
            "Epoch 40/54\n",
            "2/2 [==============================] - 0s 19ms/step - loss: 40.8657 - mae: 32.8271\n",
            "Epoch 41/54\n",
            "2/2 [==============================] - 0s 13ms/step - loss: 40.3737 - mae: 33.7735\n",
            "Epoch 42/54\n",
            "2/2 [==============================] - 0s 29ms/step - loss: 40.7173 - mae: 34.7330\n",
            "Epoch 43/54\n",
            "2/2 [==============================] - 0s 11ms/step - loss: 40.5610 - mae: 36.8622\n",
            "Epoch 44/54\n",
            "2/2 [==============================] - 0s 11ms/step - loss: 41.0370 - mae: 29.9553\n",
            "Epoch 45/54\n",
            "2/2 [==============================] - 0s 10ms/step - loss: 41.0585 - mae: 30.8656\n",
            "Epoch 46/54\n",
            "2/2 [==============================] - 0s 10ms/step - loss: 40.6951 - mae: 33.4397\n",
            "Epoch 47/54\n",
            "2/2 [==============================] - 0s 11ms/step - loss: 40.7093 - mae: 34.7434\n",
            "Epoch 48/54\n",
            "2/2 [==============================] - 0s 10ms/step - loss: 40.6696 - mae: 37.4173\n",
            "Epoch 49/54\n",
            "2/2 [==============================] - 0s 12ms/step - loss: 40.6601 - mae: 37.1543\n",
            "Epoch 50/54\n",
            "2/2 [==============================] - 0s 11ms/step - loss: 40.5699 - mae: 35.1873\n",
            "Epoch 51/54\n",
            "2/2 [==============================] - 0s 16ms/step - loss: 40.6727 - mae: 37.3072\n",
            "Epoch 52/54\n",
            "2/2 [==============================] - 0s 24ms/step - loss: 40.5923 - mae: 35.2377\n",
            "Epoch 53/54\n",
            "2/2 [==============================] - 0s 13ms/step - loss: 40.4326 - mae: 27.7793\n",
            "Epoch 54/54\n",
            "2/2 [==============================] - 0s 17ms/step - loss: 43.7326 - mae: 17.7915\n"
          ]
        },
        {
          "output_type": "execute_result",
          "data": {
            "text/plain": [
              "<keras.src.callbacks.History at 0x7e612bec8ca0>"
            ]
          },
          "metadata": {},
          "execution_count": 51
        }
      ]
    },
    {
      "cell_type": "code",
      "source": [
        "x_test"
      ],
      "metadata": {
        "colab": {
          "base_uri": "https://localhost:8080/"
        },
        "id": "F4p4SDzi3EAL",
        "outputId": "4b925f94-9129-4c08-8328-8ef80888cbf0"
      },
      "execution_count": 52,
      "outputs": [
        {
          "output_type": "execute_result",
          "data": {
            "text/plain": [
              "<tf.Tensor: shape=(10,), dtype=int32, numpy=array([60, 64, 68, 72, 76, 80, 84, 88, 92, 96], dtype=int32)>"
            ]
          },
          "metadata": {},
          "execution_count": 52
        }
      ]
    },
    {
      "cell_type": "code",
      "source": [
        "y_test"
      ],
      "metadata": {
        "colab": {
          "base_uri": "https://localhost:8080/"
        },
        "id": "pg4Syr7r3HES",
        "outputId": "3ef40ac5-6bc7-4d46-af7c-c1786d904290"
      },
      "execution_count": 53,
      "outputs": [
        {
          "output_type": "execute_result",
          "data": {
            "text/plain": [
              "<tf.Tensor: shape=(10,), dtype=int32, numpy=array([ 70,  74,  78,  82,  86,  90,  94,  98, 102, 106], dtype=int32)>"
            ]
          },
          "metadata": {},
          "execution_count": 53
        }
      ]
    },
    {
      "cell_type": "code",
      "source": [
        "model_2.predict(x_test)"
      ],
      "metadata": {
        "colab": {
          "base_uri": "https://localhost:8080/"
        },
        "id": "bvtvcNO03KN2",
        "outputId": "b4cc7faf-63c6-43fe-c81f-bbfab40e3502"
      },
      "execution_count": 54,
      "outputs": [
        {
          "output_type": "stream",
          "name": "stderr",
          "text": [
            "WARNING:tensorflow:6 out of the last 6 calls to <function Model.make_predict_function.<locals>.predict_function at 0x7e612be8bd90> triggered tf.function retracing. Tracing is expensive and the excessive number of tracings could be due to (1) creating @tf.function repeatedly in a loop, (2) passing tensors with different shapes, (3) passing Python objects instead of tensors. For (1), please define your @tf.function outside of the loop. For (2), @tf.function has reduce_retracing=True option that can avoid unnecessary retracing. For (3), please refer to https://www.tensorflow.org/guide/function#controlling_retracing and https://www.tensorflow.org/api_docs/python/tf/function for  more details.\n"
          ]
        },
        {
          "output_type": "stream",
          "name": "stdout",
          "text": [
            "1/1 [==============================] - 0s 124ms/step\n"
          ]
        },
        {
          "output_type": "execute_result",
          "data": {
            "text/plain": [
              "array([[32.52966 ],\n",
              "       [34.71306 ],\n",
              "       [36.89647 ],\n",
              "       [39.079872],\n",
              "       [41.26328 ],\n",
              "       [43.446686],\n",
              "       [45.63009 ],\n",
              "       [47.813496],\n",
              "       [49.9969  ],\n",
              "       [52.18031 ]], dtype=float32)"
            ]
          },
          "metadata": {},
          "execution_count": 54
        }
      ]
    },
    {
      "cell_type": "code",
      "source": [
        "# Make and plot predictions of model_2\n",
        "\n",
        "y_preds_2 = model_2.predict(x_test)\n",
        "plot_predictions(predictions=y_preds_2)"
      ],
      "metadata": {
        "colab": {
          "base_uri": "https://localhost:8080/",
          "height": 616
        },
        "id": "qYq7itP01-ur",
        "outputId": "55a0db09-2ed5-42d8-f14d-df6f4228f3a4"
      },
      "execution_count": 55,
      "outputs": [
        {
          "output_type": "stream",
          "name": "stdout",
          "text": [
            "1/1 [==============================] - 0s 78ms/step\n"
          ]
        },
        {
          "output_type": "display_data",
          "data": {
            "text/plain": [
              "<Figure size 1000x700 with 1 Axes>"
            ],
            "image/png": "[encoded data removed]"
          },
          "metadata": {}
        }
      ]
    },
    {
      "cell_type": "code",
      "source": [
        "model_2.summary()"
      ],
      "metadata": {
        "colab": {
          "base_uri": "https://localhost:8080/"
        },
        "id": "nrRhl6kf1o_c",
        "outputId": "bfea1aba-0b58-4b5e-da22-533894690c85"
      },
      "execution_count": 56,
      "outputs": [
        {
          "output_type": "stream",
          "name": "stdout",
          "text": [
            "Model: \"sequential_6\"\n",
            "_________________________________________________________________\n",
            " Layer (type)                Output Shape              Param #   \n",
            "=================================================================\n",
            " input_layer (Dense)         (None, 70)                140       \n",
            "                                                                 \n",
            " Output_layer (Dense)        (None, 1)                 71        \n",
            "                                                                 \n",
            "=================================================================\n",
            "Total params: 211 (844.00 Byte)\n",
            "Trainable params: 211 (844.00 Byte)\n",
            "Non-trainable params: 0 (0.00 Byte)\n",
            "_________________________________________________________________\n"
          ]
        }
      ]
    },
    {
      "cell_type": "code",
      "source": [
        "# Calculate model_2 evaluation metrics\n",
        "\n",
        "mae_2 = mae(y_test, y_preds_2)\n",
        "mse_2 = mse(y_test, y_preds_2)\n",
        "\n",
        "mae_2, mse_2"
      ],
      "metadata": {
        "colab": {
          "base_uri": "https://localhost:8080/"
        },
        "id": "C54KgBhY6klJ",
        "outputId": "9d62a59a-cecc-4b1e-a09d-850f0eb0081d"
      },
      "execution_count": 57,
      "outputs": [
        {
          "output_type": "execute_result",
          "data": {
            "text/plain": [
              "(<tf.Tensor: shape=(), dtype=float32, numpy=45.645016>,\n",
              " <tf.Tensor: shape=(), dtype=float32, numpy=2110.6929>)"
            ]
          },
          "metadata": {},
          "execution_count": 57
        }
      ]
    },
    {
      "cell_type": "markdown",
      "source": [
        "**Build model_3**\n",
        "\n",
        "* 2 layers, trained for 500 epochs"
      ],
      "metadata": {
        "id": "UgQW0Vw_Eigq"
      }
    },
    {
      "cell_type": "code",
      "source": [
        "# Build mdoel 3\n",
        "\n",
        "# set random seed\n",
        "tf.random.set_seed(42)\n",
        "\n",
        "# Build the model\n",
        "model_3 = tf.keras.Sequential([\n",
        "    tf.keras.layers.Dense(10),\n",
        "    tf.keras.layers.Dense(1)\n",
        "])\n",
        "\n",
        "# Compile the model\n",
        "model_3.compile(loss=mae,\n",
        "                optimizer = tf.keras.optimizers.SGD(),\n",
        "                metrics=[\"mae\"])"
      ],
      "metadata": {
        "id": "ZDmoG_8fEdZp"
      },
      "execution_count": 58,
      "outputs": []
    },
    {
      "cell_type": "code",
      "source": [
        "# 3. FIt the model\n",
        "model_3.fit(tf.expand_dims(x_train, axis=-1), y_train, epochs=500)\n"
      ],
      "metadata": {
        "colab": {
          "base_uri": "https://localhost:8080/"
        },
        "id": "Xw5ZEQwjFTQF",
        "outputId": "20dc3ee5-c250-46e8-a3ff-f2b4d7143bca"
      },
      "execution_count": 59,
      "outputs": [
        {
          "output_type": "stream",
          "name": "stdout",
          "text": [
            "Epoch 1/500\n",
            "2/2 [==============================] - 1s 16ms/step - loss: 41.5035 - mae: 44.2041\n",
            "Epoch 2/500\n",
            "2/2 [==============================] - 0s 11ms/step - loss: 40.9350 - mae: 40.0718\n",
            "Epoch 3/500\n",
            "2/2 [==============================] - 0s 8ms/step - loss: 48.6744 - mae: 13.9403\n",
            "Epoch 4/500\n",
            "2/2 [==============================] - 0s 10ms/step - loss: 40.9198 - mae: 39.7138\n",
            "Epoch 5/500\n",
            "2/2 [==============================] - 0s 11ms/step - loss: 40.6220 - mae: 37.8213\n",
            "Epoch 6/500\n",
            "2/2 [==============================] - 0s 11ms/step - loss: 40.8762 - mae: 32.7372\n",
            "Epoch 7/500\n",
            "2/2 [==============================] - 0s 27ms/step - loss: 40.7482 - mae: 37.8591\n",
            "Epoch 8/500\n",
            "2/2 [==============================] - 0s 21ms/step - loss: 40.6744 - mae: 33.0900\n",
            "Epoch 9/500\n",
            "2/2 [==============================] - 0s 12ms/step - loss: 43.0913 - mae: 20.5988\n",
            "Epoch 10/500\n",
            "2/2 [==============================] - 0s 11ms/step - loss: 40.3410 - mae: 33.9908\n",
            "Epoch 11/500\n",
            "2/2 [==============================] - 0s 12ms/step - loss: 40.9145 - mae: 39.0835\n",
            "Epoch 12/500\n",
            "2/2 [==============================] - 0s 12ms/step - loss: 50.3966 - mae: 14.2676\n",
            "Epoch 13/500\n",
            "2/2 [==============================] - 0s 10ms/step - loss: 40.7653 - mae: 35.1581\n",
            "Epoch 14/500\n",
            "2/2 [==============================] - 0s 10ms/step - loss: 41.1130 - mae: 30.2713\n",
            "Epoch 15/500\n",
            "2/2 [==============================] - 0s 10ms/step - loss: 40.8266 - mae: 38.0737\n",
            "Epoch 16/500\n",
            "2/2 [==============================] - 0s 10ms/step - loss: 40.8285 - mae: 40.4901\n",
            "Epoch 17/500\n",
            "2/2 [==============================] - 0s 12ms/step - loss: 40.3262 - mae: 34.0794\n",
            "Epoch 18/500\n",
            "2/2 [==============================] - 0s 8ms/step - loss: 40.8107 - mae: 33.4416\n",
            "Epoch 19/500\n",
            "2/2 [==============================] - 0s 8ms/step - loss: 42.9312 - mae: 19.1865\n",
            "Epoch 20/500\n",
            "2/2 [==============================] - 0s 16ms/step - loss: 40.9885 - mae: 31.8602\n",
            "Epoch 21/500\n",
            "2/2 [==============================] - 0s 13ms/step - loss: 40.7430 - mae: 35.2095\n",
            "Epoch 22/500\n",
            "2/2 [==============================] - 0s 8ms/step - loss: 40.6227 - mae: 37.2451\n",
            "Epoch 23/500\n",
            "2/2 [==============================] - 0s 8ms/step - loss: 40.6467 - mae: 38.0928\n",
            "Epoch 24/500\n",
            "2/2 [==============================] - 0s 8ms/step - loss: 40.9701 - mae: 30.9030\n",
            "Epoch 25/500\n",
            "2/2 [==============================] - 0s 8ms/step - loss: 40.8712 - mae: 41.2316\n",
            "Epoch 26/500\n",
            "2/2 [==============================] - 0s 8ms/step - loss: 41.7999 - mae: 26.6846\n",
            "Epoch 27/500\n",
            "2/2 [==============================] - 0s 8ms/step - loss: 40.7216 - mae: 35.0433\n",
            "Epoch 28/500\n",
            "2/2 [==============================] - 0s 8ms/step - loss: 41.9816 - mae: 25.0212\n",
            "Epoch 29/500\n",
            "2/2 [==============================] - 0s 8ms/step - loss: 40.6419 - mae: 33.7583\n",
            "Epoch 30/500\n",
            "2/2 [==============================] - 0s 8ms/step - loss: 44.7008 - mae: 14.5035\n",
            "Epoch 31/500\n",
            "2/2 [==============================] - 0s 12ms/step - loss: 56.5807 - mae: 15.0890\n",
            "Epoch 32/500\n",
            "2/2 [==============================] - 0s 8ms/step - loss: 41.2410 - mae: 26.6249\n",
            "Epoch 33/500\n",
            "2/2 [==============================] - 0s 12ms/step - loss: 41.2030 - mae: 29.9698\n",
            "Epoch 34/500\n",
            "2/2 [==============================] - 0s 8ms/step - loss: 40.8375 - mae: 32.3182\n",
            "Epoch 35/500\n",
            "2/2 [==============================] - 0s 8ms/step - loss: 40.6147 - mae: 34.9199\n",
            "Epoch 36/500\n",
            "2/2 [==============================] - 0s 7ms/step - loss: 41.5740 - mae: 24.3101\n",
            "Epoch 37/500\n",
            "2/2 [==============================] - 0s 13ms/step - loss: 40.8651 - mae: 32.3276\n",
            "Epoch 38/500\n",
            "2/2 [==============================] - 0s 14ms/step - loss: 40.6628 - mae: 34.3719\n",
            "Epoch 39/500\n",
            "2/2 [==============================] - 0s 11ms/step - loss: 40.7312 - mae: 33.9925\n",
            "Epoch 40/500\n",
            "2/2 [==============================] - 0s 13ms/step - loss: 40.8697 - mae: 32.7891\n",
            "Epoch 41/500\n",
            "2/2 [==============================] - 0s 11ms/step - loss: 40.3732 - mae: 33.6974\n",
            "Epoch 42/500\n",
            "2/2 [==============================] - 0s 12ms/step - loss: 40.7223 - mae: 34.6538\n",
            "Epoch 43/500\n",
            "2/2 [==============================] - 0s 16ms/step - loss: 40.5549 - mae: 36.7005\n",
            "Epoch 44/500\n",
            "2/2 [==============================] - 0s 11ms/step - loss: 41.0011 - mae: 30.2285\n",
            "Epoch 45/500\n",
            "2/2 [==============================] - 0s 12ms/step - loss: 41.0406 - mae: 31.0200\n",
            "Epoch 46/500\n",
            "2/2 [==============================] - 0s 12ms/step - loss: 40.6992 - mae: 33.4102\n",
            "Epoch 47/500\n",
            "2/2 [==============================] - 0s 9ms/step - loss: 40.7135 - mae: 34.6520\n",
            "Epoch 48/500\n",
            "2/2 [==============================] - 0s 12ms/step - loss: 40.6686 - mae: 37.2178\n",
            "Epoch 49/500\n",
            "2/2 [==============================] - 0s 12ms/step - loss: 40.6615 - mae: 37.0129\n",
            "Epoch 50/500\n",
            "2/2 [==============================] - 0s 11ms/step - loss: 40.5722 - mae: 35.1952\n",
            "Epoch 51/500\n",
            "2/2 [==============================] - 0s 12ms/step - loss: 40.6742 - mae: 37.2022\n",
            "Epoch 52/500\n",
            "2/2 [==============================] - 0s 12ms/step - loss: 40.5821 - mae: 35.2883\n",
            "Epoch 53/500\n",
            "2/2 [==============================] - 0s 11ms/step - loss: 40.3733 - mae: 28.2483\n",
            "Epoch 54/500\n",
            "2/2 [==============================] - 0s 12ms/step - loss: 43.3930 - mae: 18.5420\n",
            "Epoch 55/500\n",
            "2/2 [==============================] - 0s 11ms/step - loss: 43.6798 - mae: 18.8442\n",
            "Epoch 56/500\n",
            "2/2 [==============================] - 0s 9ms/step - loss: 40.9316 - mae: 29.0709\n",
            "Epoch 57/500\n",
            "2/2 [==============================] - 0s 16ms/step - loss: 40.4325 - mae: 33.1560\n",
            "Epoch 58/500\n",
            "2/2 [==============================] - 0s 10ms/step - loss: 40.6593 - mae: 35.0807\n",
            "Epoch 59/500\n",
            "2/2 [==============================] - 0s 11ms/step - loss: 40.7720 - mae: 35.2691\n",
            "Epoch 60/500\n",
            "2/2 [==============================] - 0s 21ms/step - loss: 40.7123 - mae: 34.9761\n",
            "Epoch 61/500\n",
            "2/2 [==============================] - 0s 17ms/step - loss: 40.7072 - mae: 35.4262\n",
            "Epoch 62/500\n",
            "2/2 [==============================] - 0s 16ms/step - loss: 40.7295 - mae: 36.0284\n",
            "Epoch 63/500\n",
            "2/2 [==============================] - 0s 9ms/step - loss: 40.6392 - mae: 35.3984\n",
            "Epoch 64/500\n",
            "2/2 [==============================] - 0s 13ms/step - loss: 40.7716 - mae: 33.7707\n",
            "Epoch 65/500\n",
            "2/2 [==============================] - 0s 10ms/step - loss: 40.6868 - mae: 34.8642\n",
            "Epoch 66/500\n",
            "2/2 [==============================] - 0s 10ms/step - loss: 40.8035 - mae: 33.5075\n",
            "Epoch 67/500\n",
            "2/2 [==============================] - 0s 8ms/step - loss: 40.7298 - mae: 34.4808\n",
            "Epoch 68/500\n",
            "2/2 [==============================] - 0s 9ms/step - loss: 40.6693 - mae: 34.9436\n",
            "Epoch 69/500\n",
            "2/2 [==============================] - 0s 10ms/step - loss: 40.7296 - mae: 34.9510\n",
            "Epoch 70/500\n",
            "2/2 [==============================] - 0s 9ms/step - loss: 40.6366 - mae: 35.2411\n",
            "Epoch 71/500\n",
            "2/2 [==============================] - 0s 9ms/step - loss: 40.6631 - mae: 37.0037\n",
            "Epoch 72/500\n",
            "2/2 [==============================] - 0s 9ms/step - loss: 40.7017 - mae: 36.7887\n",
            "Epoch 73/500\n",
            "2/2 [==============================] - 0s 8ms/step - loss: 40.6920 - mae: 37.8196\n",
            "Epoch 74/500\n",
            "2/2 [==============================] - 0s 9ms/step - loss: 40.7006 - mae: 37.5354\n",
            "Epoch 75/500\n",
            "2/2 [==============================] - 0s 10ms/step - loss: 40.7204 - mae: 37.8671\n",
            "Epoch 76/500\n",
            "2/2 [==============================] - 0s 9ms/step - loss: 40.6600 - mae: 36.9901\n",
            "Epoch 77/500\n",
            "2/2 [==============================] - 0s 15ms/step - loss: 40.7184 - mae: 37.9549\n",
            "Epoch 78/500\n",
            "2/2 [==============================] - 0s 9ms/step - loss: 40.4423 - mae: 37.6516\n",
            "Epoch 79/500\n",
            "2/2 [==============================] - 0s 9ms/step - loss: 40.5151 - mae: 33.0122\n",
            "Epoch 80/500\n",
            "2/2 [==============================] - 0s 9ms/step - loss: 41.1658 - mae: 29.2951\n",
            "Epoch 81/500\n",
            "2/2 [==============================] - 0s 10ms/step - loss: 39.9474 - mae: 32.5485\n",
            "Epoch 82/500\n",
            "2/2 [==============================] - 0s 10ms/step - loss: 40.6495 - mae: 33.0599\n",
            "Epoch 83/500\n",
            "2/2 [==============================] - 0s 9ms/step - loss: 40.6631 - mae: 35.2722\n",
            "Epoch 84/500\n",
            "2/2 [==============================] - 0s 14ms/step - loss: 40.6898 - mae: 35.4922\n",
            "Epoch 85/500\n",
            "2/2 [==============================] - 0s 14ms/step - loss: 40.7141 - mae: 35.8970\n",
            "Epoch 86/500\n",
            "2/2 [==============================] - 0s 12ms/step - loss: 40.7249 - mae: 36.3622\n",
            "Epoch 87/500\n",
            "2/2 [==============================] - 0s 11ms/step - loss: 40.6911 - mae: 36.3762\n",
            "Epoch 88/500\n",
            "2/2 [==============================] - 0s 10ms/step - loss: 40.7130 - mae: 36.3090\n",
            "Epoch 89/500\n",
            "2/2 [==============================] - 0s 15ms/step - loss: 40.7110 - mae: 37.3316\n",
            "Epoch 90/500\n",
            "2/2 [==============================] - 0s 12ms/step - loss: 40.6956 - mae: 37.4885\n",
            "Epoch 91/500\n",
            "2/2 [==============================] - 0s 11ms/step - loss: 40.6740 - mae: 37.3561\n",
            "Epoch 92/500\n",
            "2/2 [==============================] - 0s 11ms/step - loss: 40.6935 - mae: 37.1966\n",
            "Epoch 93/500\n",
            "2/2 [==============================] - 0s 12ms/step - loss: 40.6449 - mae: 37.1464\n",
            "Epoch 94/500\n",
            "2/2 [==============================] - 0s 12ms/step - loss: 40.6952 - mae: 36.2050\n",
            "Epoch 95/500\n",
            "2/2 [==============================] - 0s 11ms/step - loss: 40.7478 - mae: 35.4828\n",
            "Epoch 96/500\n",
            "2/2 [==============================] - 0s 10ms/step - loss: 40.5869 - mae: 34.9890\n",
            "Epoch 97/500\n",
            "2/2 [==============================] - 0s 11ms/step - loss: 40.7074 - mae: 35.8250\n",
            "Epoch 98/500\n",
            "2/2 [==============================] - 0s 11ms/step - loss: 40.6666 - mae: 36.4576\n",
            "Epoch 99/500\n",
            "2/2 [==============================] - 0s 15ms/step - loss: 40.6717 - mae: 36.4867\n",
            "Epoch 100/500\n",
            "2/2 [==============================] - 0s 18ms/step - loss: 40.7177 - mae: 35.4098\n",
            "Epoch 101/500\n",
            "2/2 [==============================] - 0s 14ms/step - loss: 40.6947 - mae: 36.0256\n",
            "Epoch 102/500\n",
            "2/2 [==============================] - 0s 13ms/step - loss: 40.5092 - mae: 36.6029\n",
            "Epoch 103/500\n",
            "2/2 [==============================] - 0s 12ms/step - loss: 40.5940 - mae: 36.9793\n",
            "Epoch 104/500\n",
            "2/2 [==============================] - 0s 12ms/step - loss: 40.7022 - mae: 35.4426\n",
            "Epoch 105/500\n",
            "2/2 [==============================] - 0s 13ms/step - loss: 40.6542 - mae: 36.1824\n",
            "Epoch 106/500\n",
            "2/2 [==============================] - 0s 15ms/step - loss: 40.6427 - mae: 36.2749\n",
            "Epoch 107/500\n",
            "2/2 [==============================] - 0s 14ms/step - loss: 40.6920 - mae: 34.9703\n",
            "Epoch 108/500\n",
            "2/2 [==============================] - 0s 13ms/step - loss: 40.7286 - mae: 34.3784\n",
            "Epoch 109/500\n",
            "2/2 [==============================] - 0s 12ms/step - loss: 40.6472 - mae: 33.4381\n",
            "Epoch 110/500\n",
            "2/2 [==============================] - 0s 11ms/step - loss: 40.6963 - mae: 34.7248\n",
            "Epoch 111/500\n",
            "2/2 [==============================] - 0s 19ms/step - loss: 40.6241 - mae: 35.0241\n",
            "Epoch 112/500\n",
            "2/2 [==============================] - 0s 18ms/step - loss: 40.4506 - mae: 35.2986\n",
            "Epoch 113/500\n",
            "2/2 [==============================] - 0s 9ms/step - loss: 40.4885 - mae: 32.5032\n",
            "Epoch 114/500\n",
            "2/2 [==============================] - 0s 8ms/step - loss: 41.0313 - mae: 31.1498\n",
            "Epoch 115/500\n",
            "2/2 [==============================] - 0s 8ms/step - loss: 40.9161 - mae: 31.8182\n",
            "Epoch 116/500\n",
            "2/2 [==============================] - 0s 8ms/step - loss: 40.6557 - mae: 33.0982\n",
            "Epoch 117/500\n",
            "2/2 [==============================] - 0s 8ms/step - loss: 40.5810 - mae: 34.5292\n",
            "Epoch 118/500\n",
            "2/2 [==============================] - 0s 8ms/step - loss: 40.5611 - mae: 35.0747\n",
            "Epoch 119/500\n",
            "2/2 [==============================] - 0s 7ms/step - loss: 40.0676 - mae: 35.8995\n",
            "Epoch 120/500\n",
            "2/2 [==============================] - 0s 7ms/step - loss: 41.2930 - mae: 28.2184\n",
            "Epoch 121/500\n",
            "2/2 [==============================] - 0s 7ms/step - loss: 39.9546 - mae: 32.1719\n",
            "Epoch 122/500\n",
            "2/2 [==============================] - 0s 7ms/step - loss: 41.1898 - mae: 25.1440\n",
            "Epoch 123/500\n",
            "2/2 [==============================] - 0s 7ms/step - loss: 41.9626 - mae: 24.5561\n",
            "Epoch 124/500\n",
            "2/2 [==============================] - 0s 10ms/step - loss: 41.3589 - mae: 27.8651\n",
            "Epoch 125/500\n",
            "2/2 [==============================] - 0s 7ms/step - loss: 40.6483 - mae: 30.5728\n",
            "Epoch 126/500\n",
            "2/2 [==============================] - 0s 8ms/step - loss: 40.8406 - mae: 32.6221\n",
            "Epoch 127/500\n",
            "2/2 [==============================] - 0s 8ms/step - loss: 40.2801 - mae: 33.4220\n",
            "Epoch 128/500\n",
            "2/2 [==============================] - 0s 10ms/step - loss: 41.3238 - mae: 28.5450\n",
            "Epoch 129/500\n",
            "2/2 [==============================] - 0s 10ms/step - loss: 40.4032 - mae: 30.3156\n",
            "Epoch 130/500\n",
            "2/2 [==============================] - 0s 10ms/step - loss: 41.2474 - mae: 28.8747\n",
            "Epoch 131/500\n",
            "2/2 [==============================] - 0s 9ms/step - loss: 40.8213 - mae: 30.8100\n",
            "Epoch 132/500\n",
            "2/2 [==============================] - 0s 8ms/step - loss: 40.8574 - mae: 31.5010\n",
            "Epoch 133/500\n",
            "2/2 [==============================] - 0s 9ms/step - loss: 40.5288 - mae: 32.8992\n",
            "Epoch 134/500\n",
            "2/2 [==============================] - 0s 7ms/step - loss: 41.0515 - mae: 30.1313\n",
            "Epoch 135/500\n",
            "2/2 [==============================] - 0s 9ms/step - loss: 40.7506 - mae: 32.7065\n",
            "Epoch 136/500\n",
            "2/2 [==============================] - 0s 8ms/step - loss: 40.7231 - mae: 33.2703\n",
            "Epoch 137/500\n",
            "2/2 [==============================] - 0s 7ms/step - loss: 40.0189 - mae: 32.6004\n",
            "Epoch 138/500\n",
            "2/2 [==============================] - 0s 8ms/step - loss: 40.4364 - mae: 32.1915\n",
            "Epoch 139/500\n",
            "2/2 [==============================] - 0s 8ms/step - loss: 40.8357 - mae: 32.5490\n",
            "Epoch 140/500\n",
            "2/2 [==============================] - 0s 13ms/step - loss: 40.7398 - mae: 33.4335\n",
            "Epoch 141/500\n",
            "2/2 [==============================] - 0s 9ms/step - loss: 40.1680 - mae: 33.9262\n",
            "Epoch 142/500\n",
            "2/2 [==============================] - 0s 8ms/step - loss: 40.6878 - mae: 30.3940\n",
            "Epoch 143/500\n",
            "2/2 [==============================] - 0s 9ms/step - loss: 40.5149 - mae: 28.1575\n",
            "Epoch 144/500\n",
            "2/2 [==============================] - 0s 9ms/step - loss: 40.6110 - mae: 30.9785\n",
            "Epoch 145/500\n",
            "2/2 [==============================] - 0s 8ms/step - loss: 41.4462 - mae: 26.5956\n",
            "Epoch 146/500\n",
            "2/2 [==============================] - 0s 7ms/step - loss: 39.9592 - mae: 31.6763\n",
            "Epoch 147/500\n",
            "2/2 [==============================] - 0s 7ms/step - loss: 40.2769 - mae: 32.5257\n",
            "Epoch 148/500\n",
            "2/2 [==============================] - 0s 7ms/step - loss: 40.6217 - mae: 30.6084\n",
            "Epoch 149/500\n",
            "2/2 [==============================] - 0s 10ms/step - loss: 40.7264 - mae: 32.4097\n",
            "Epoch 150/500\n",
            "2/2 [==============================] - 0s 9ms/step - loss: 40.0012 - mae: 33.5358\n",
            "Epoch 151/500\n",
            "2/2 [==============================] - 0s 7ms/step - loss: 41.0268 - mae: 30.6745\n",
            "Epoch 152/500\n",
            "2/2 [==============================] - 0s 7ms/step - loss: 40.8176 - mae: 32.3440\n",
            "Epoch 153/500\n",
            "2/2 [==============================] - 0s 7ms/step - loss: 40.3797 - mae: 31.9497\n",
            "Epoch 154/500\n",
            "2/2 [==============================] - 0s 7ms/step - loss: 40.8301 - mae: 32.4396\n",
            "Epoch 155/500\n",
            "2/2 [==============================] - 0s 7ms/step - loss: 40.6900 - mae: 33.6057\n",
            "Epoch 156/500\n",
            "2/2 [==============================] - 0s 8ms/step - loss: 40.4370 - mae: 33.0618\n",
            "Epoch 157/500\n",
            "2/2 [==============================] - 0s 8ms/step - loss: 40.7127 - mae: 31.5157\n",
            "Epoch 158/500\n",
            "2/2 [==============================] - 0s 7ms/step - loss: 40.4246 - mae: 32.3504\n",
            "Epoch 159/500\n",
            "2/2 [==============================] - 0s 11ms/step - loss: 40.6259 - mae: 34.0998\n",
            "Epoch 160/500\n",
            "2/2 [==============================] - 0s 8ms/step - loss: 40.7317 - mae: 33.9109\n",
            "Epoch 161/500\n",
            "2/2 [==============================] - 0s 7ms/step - loss: 40.6842 - mae: 33.8685\n",
            "Epoch 162/500\n",
            "2/2 [==============================] - 0s 8ms/step - loss: 40.6224 - mae: 34.4287\n",
            "Epoch 163/500\n",
            "2/2 [==============================] - 0s 8ms/step - loss: 40.7302 - mae: 33.5144\n",
            "Epoch 164/500\n",
            "2/2 [==============================] - 0s 7ms/step - loss: 40.4790 - mae: 34.1497\n",
            "Epoch 165/500\n",
            "2/2 [==============================] - 0s 7ms/step - loss: 40.6481 - mae: 35.3516\n",
            "Epoch 166/500\n",
            "2/2 [==============================] - 0s 7ms/step - loss: 40.5862 - mae: 35.4655\n",
            "Epoch 167/500\n",
            "2/2 [==============================] - 0s 7ms/step - loss: 40.7207 - mae: 34.5460\n",
            "Epoch 168/500\n",
            "2/2 [==============================] - 0s 7ms/step - loss: 40.6916 - mae: 35.2821\n",
            "Epoch 169/500\n",
            "2/2 [==============================] - 0s 7ms/step - loss: 40.6687 - mae: 35.5703\n",
            "Epoch 170/500\n",
            "2/2 [==============================] - 0s 7ms/step - loss: 40.6598 - mae: 35.5473\n",
            "Epoch 171/500\n",
            "2/2 [==============================] - 0s 7ms/step - loss: 40.6396 - mae: 35.4966\n",
            "Epoch 172/500\n",
            "2/2 [==============================] - 0s 7ms/step - loss: 40.5057 - mae: 35.6398\n",
            "Epoch 173/500\n",
            "2/2 [==============================] - 0s 11ms/step - loss: 40.7032 - mae: 33.5986\n",
            "Epoch 174/500\n",
            "2/2 [==============================] - 0s 7ms/step - loss: 40.5941 - mae: 35.0200\n",
            "Epoch 175/500\n",
            "2/2 [==============================] - 0s 7ms/step - loss: 40.5470 - mae: 34.6233\n",
            "Epoch 176/500\n",
            "2/2 [==============================] - 0s 11ms/step - loss: 40.8074 - mae: 33.3177\n",
            "Epoch 177/500\n",
            "2/2 [==============================] - 0s 6ms/step - loss: 40.7688 - mae: 33.2847\n",
            "Epoch 178/500\n",
            "2/2 [==============================] - 0s 7ms/step - loss: 40.6203 - mae: 33.7648\n",
            "Epoch 179/500\n",
            "2/2 [==============================] - 0s 7ms/step - loss: 40.0366 - mae: 34.4623\n",
            "Epoch 180/500\n",
            "2/2 [==============================] - 0s 7ms/step - loss: 40.6776 - mae: 33.9064\n",
            "Epoch 181/500\n",
            "2/2 [==============================] - 0s 9ms/step - loss: 40.7355 - mae: 33.2831\n",
            "Epoch 182/500\n",
            "2/2 [==============================] - 0s 10ms/step - loss: 40.5176 - mae: 32.6237\n",
            "Epoch 183/500\n",
            "2/2 [==============================] - 0s 7ms/step - loss: 39.8244 - mae: 33.6860\n",
            "Epoch 184/500\n",
            "2/2 [==============================] - 0s 9ms/step - loss: 41.4299 - mae: 27.0403\n",
            "Epoch 185/500\n",
            "2/2 [==============================] - 0s 7ms/step - loss: 40.7900 - mae: 31.3501\n",
            "Epoch 186/500\n",
            "2/2 [==============================] - 0s 10ms/step - loss: 40.4804 - mae: 30.9778\n",
            "Epoch 187/500\n",
            "2/2 [==============================] - 0s 10ms/step - loss: 40.6881 - mae: 33.0322\n",
            "Epoch 188/500\n",
            "2/2 [==============================] - 0s 12ms/step - loss: 40.2988 - mae: 32.0760\n",
            "Epoch 189/500\n",
            "2/2 [==============================] - 0s 12ms/step - loss: 40.7985 - mae: 32.8120\n",
            "Epoch 190/500\n",
            "2/2 [==============================] - 0s 12ms/step - loss: 40.7073 - mae: 34.6034\n",
            "Epoch 191/500\n",
            "2/2 [==============================] - 0s 8ms/step - loss: 40.5974 - mae: 34.8624\n",
            "Epoch 192/500\n",
            "2/2 [==============================] - 0s 8ms/step - loss: 40.3082 - mae: 35.4292\n",
            "Epoch 193/500\n",
            "2/2 [==============================] - 0s 10ms/step - loss: 40.5687 - mae: 33.0894\n",
            "Epoch 194/500\n",
            "2/2 [==============================] - 0s 7ms/step - loss: 40.6501 - mae: 34.2576\n",
            "Epoch 195/500\n",
            "2/2 [==============================] - 0s 7ms/step - loss: 40.5997 - mae: 34.9654\n",
            "Epoch 196/500\n",
            "2/2 [==============================] - 0s 7ms/step - loss: 39.4236 - mae: 33.7013\n",
            "Epoch 197/500\n",
            "2/2 [==============================] - 0s 7ms/step - loss: 40.9348 - mae: 31.7984\n",
            "Epoch 198/500\n",
            "2/2 [==============================] - 0s 9ms/step - loss: 40.4877 - mae: 32.1099\n",
            "Epoch 199/500\n",
            "2/2 [==============================] - 0s 7ms/step - loss: 40.9618 - mae: 30.6681\n",
            "Epoch 200/500\n",
            "2/2 [==============================] - 0s 7ms/step - loss: 40.8848 - mae: 31.8235\n",
            "Epoch 201/500\n",
            "2/2 [==============================] - 0s 8ms/step - loss: 40.1647 - mae: 33.2835\n",
            "Epoch 202/500\n",
            "2/2 [==============================] - 0s 8ms/step - loss: 41.0983 - mae: 29.5320\n",
            "Epoch 203/500\n",
            "2/2 [==============================] - 0s 13ms/step - loss: 40.7612 - mae: 32.4208\n",
            "Epoch 204/500\n",
            "2/2 [==============================] - 0s 12ms/step - loss: 40.8059 - mae: 32.9061\n",
            "Epoch 205/500\n",
            "2/2 [==============================] - 0s 14ms/step - loss: 40.6290 - mae: 33.8870\n",
            "Epoch 206/500\n",
            "2/2 [==============================] - 0s 8ms/step - loss: 40.7050 - mae: 34.7850\n",
            "Epoch 207/500\n",
            "2/2 [==============================] - 0s 8ms/step - loss: 40.4816 - mae: 35.3977\n",
            "Epoch 208/500\n",
            "2/2 [==============================] - 0s 8ms/step - loss: 40.6709 - mae: 33.4570\n",
            "Epoch 209/500\n",
            "2/2 [==============================] - 0s 8ms/step - loss: 40.0556 - mae: 33.8644\n",
            "Epoch 210/500\n",
            "2/2 [==============================] - 0s 8ms/step - loss: 41.0601 - mae: 30.4611\n",
            "Epoch 211/500\n",
            "2/2 [==============================] - 0s 10ms/step - loss: 40.8608 - mae: 31.0464\n",
            "Epoch 212/500\n",
            "2/2 [==============================] - 0s 11ms/step - loss: 40.6519 - mae: 32.9638\n",
            "Epoch 213/500\n",
            "2/2 [==============================] - 0s 11ms/step - loss: 40.6845 - mae: 34.4461\n",
            "Epoch 214/500\n",
            "2/2 [==============================] - 0s 8ms/step - loss: 40.6642 - mae: 34.5167\n",
            "Epoch 215/500\n",
            "2/2 [==============================] - 0s 9ms/step - loss: 40.6818 - mae: 33.9111\n",
            "Epoch 216/500\n",
            "2/2 [==============================] - 0s 9ms/step - loss: 40.5589 - mae: 34.8658\n",
            "Epoch 217/500\n",
            "2/2 [==============================] - 0s 8ms/step - loss: 39.8860 - mae: 34.0339\n",
            "Epoch 218/500\n",
            "2/2 [==============================] - 0s 10ms/step - loss: 40.3937 - mae: 33.4565\n",
            "Epoch 219/500\n",
            "2/2 [==============================] - 0s 11ms/step - loss: 40.7195 - mae: 34.3743\n",
            "Epoch 220/500\n",
            "2/2 [==============================] - 0s 9ms/step - loss: 39.9604 - mae: 34.2379\n",
            "Epoch 221/500\n",
            "2/2 [==============================] - 0s 6ms/step - loss: 40.9870 - mae: 30.2781\n",
            "Epoch 222/500\n",
            "2/2 [==============================] - 0s 6ms/step - loss: 40.7703 - mae: 29.9987\n",
            "Epoch 223/500\n",
            "2/2 [==============================] - 0s 7ms/step - loss: 40.0506 - mae: 32.0250\n",
            "Epoch 224/500\n",
            "2/2 [==============================] - 0s 8ms/step - loss: 40.7444 - mae: 32.6077\n",
            "Epoch 225/500\n",
            "2/2 [==============================] - 0s 7ms/step - loss: 40.6632 - mae: 32.2610\n",
            "Epoch 226/500\n",
            "2/2 [==============================] - 0s 8ms/step - loss: 40.8509 - mae: 32.1628\n",
            "Epoch 227/500\n",
            "2/2 [==============================] - 0s 7ms/step - loss: 40.7653 - mae: 31.8275\n",
            "Epoch 228/500\n",
            "2/2 [==============================] - 0s 8ms/step - loss: 40.4195 - mae: 33.6575\n",
            "Epoch 229/500\n",
            "2/2 [==============================] - 0s 9ms/step - loss: 40.6875 - mae: 34.1200\n",
            "Epoch 230/500\n",
            "2/2 [==============================] - 0s 8ms/step - loss: 40.3988 - mae: 34.9562\n",
            "Epoch 231/500\n",
            "2/2 [==============================] - 0s 9ms/step - loss: 40.8045 - mae: 32.6852\n",
            "Epoch 232/500\n",
            "2/2 [==============================] - 0s 10ms/step - loss: 40.7381 - mae: 33.6137\n",
            "Epoch 233/500\n",
            "2/2 [==============================] - 0s 8ms/step - loss: 40.7219 - mae: 34.1527\n",
            "Epoch 234/500\n",
            "2/2 [==============================] - 0s 9ms/step - loss: 40.4252 - mae: 34.6657\n",
            "Epoch 235/500\n",
            "2/2 [==============================] - 0s 6ms/step - loss: 40.6641 - mae: 33.9564\n",
            "Epoch 236/500\n",
            "2/2 [==============================] - 0s 7ms/step - loss: 40.6258 - mae: 34.2205\n",
            "Epoch 237/500\n",
            "2/2 [==============================] - 0s 8ms/step - loss: 40.4046 - mae: 34.9063\n",
            "Epoch 238/500\n",
            "2/2 [==============================] - 0s 7ms/step - loss: 40.6705 - mae: 34.8658\n",
            "Epoch 239/500\n",
            "2/2 [==============================] - 0s 8ms/step - loss: 40.6632 - mae: 35.3535\n",
            "Epoch 240/500\n",
            "2/2 [==============================] - 0s 10ms/step - loss: 40.6197 - mae: 35.4455\n",
            "Epoch 241/500\n",
            "2/2 [==============================] - 0s 8ms/step - loss: 40.6451 - mae: 35.4906\n",
            "Epoch 242/500\n",
            "2/2 [==============================] - 0s 7ms/step - loss: 40.6149 - mae: 36.2084\n",
            "Epoch 243/500\n",
            "2/2 [==============================] - 0s 8ms/step - loss: 40.4315 - mae: 35.9348\n",
            "Epoch 244/500\n",
            "2/2 [==============================] - 0s 9ms/step - loss: 40.6533 - mae: 36.1876\n",
            "Epoch 245/500\n",
            "2/2 [==============================] - 0s 9ms/step - loss: 40.6386 - mae: 35.6854\n",
            "Epoch 246/500\n",
            "2/2 [==============================] - 0s 7ms/step - loss: 40.5972 - mae: 36.3499\n",
            "Epoch 247/500\n",
            "2/2 [==============================] - 0s 8ms/step - loss: 40.6442 - mae: 35.1910\n",
            "Epoch 248/500\n",
            "2/2 [==============================] - 0s 7ms/step - loss: 40.6643 - mae: 35.3701\n",
            "Epoch 249/500\n",
            "2/2 [==============================] - 0s 8ms/step - loss: 40.5511 - mae: 35.5022\n",
            "Epoch 250/500\n",
            "2/2 [==============================] - 0s 9ms/step - loss: 40.6105 - mae: 33.9937\n",
            "Epoch 251/500\n",
            "2/2 [==============================] - 0s 8ms/step - loss: 40.2302 - mae: 34.3923\n",
            "Epoch 252/500\n",
            "2/2 [==============================] - 0s 8ms/step - loss: 40.9418 - mae: 31.2492\n",
            "Epoch 253/500\n",
            "2/2 [==============================] - 0s 9ms/step - loss: 40.8146 - mae: 31.2198\n",
            "Epoch 254/500\n",
            "2/2 [==============================] - 0s 9ms/step - loss: 40.5349 - mae: 33.1973\n",
            "Epoch 255/500\n",
            "2/2 [==============================] - 0s 8ms/step - loss: 40.9149 - mae: 31.0853\n",
            "Epoch 256/500\n",
            "2/2 [==============================] - 0s 10ms/step - loss: 40.5075 - mae: 32.0162\n",
            "Epoch 257/500\n",
            "2/2 [==============================] - 0s 10ms/step - loss: 40.7383 - mae: 32.6122\n",
            "Epoch 258/500\n",
            "2/2 [==============================] - 0s 9ms/step - loss: 40.6414 - mae: 33.8019\n",
            "Epoch 259/500\n",
            "2/2 [==============================] - 0s 12ms/step - loss: 40.4078 - mae: 33.5886\n",
            "Epoch 260/500\n",
            "2/2 [==============================] - 0s 7ms/step - loss: 40.8562 - mae: 31.1907\n",
            "Epoch 261/500\n",
            "2/2 [==============================] - 0s 8ms/step - loss: 40.1158 - mae: 30.4686\n",
            "Epoch 262/500\n",
            "2/2 [==============================] - 0s 7ms/step - loss: 40.1670 - mae: 30.8812\n",
            "Epoch 263/500\n",
            "2/2 [==============================] - 0s 6ms/step - loss: 40.8889 - mae: 31.6125\n",
            "Epoch 264/500\n",
            "2/2 [==============================] - 0s 7ms/step - loss: 39.9910 - mae: 32.3006\n",
            "Epoch 265/500\n",
            "2/2 [==============================] - 0s 7ms/step - loss: 40.4224 - mae: 32.5354\n",
            "Epoch 266/500\n",
            "2/2 [==============================] - 0s 6ms/step - loss: 40.6224 - mae: 33.4661\n",
            "Epoch 267/500\n",
            "2/2 [==============================] - 0s 7ms/step - loss: 40.6473 - mae: 35.1096\n",
            "Epoch 268/500\n",
            "2/2 [==============================] - 0s 6ms/step - loss: 40.4177 - mae: 34.7200\n",
            "Epoch 269/500\n",
            "2/2 [==============================] - 0s 8ms/step - loss: 40.7942 - mae: 32.5008\n",
            "Epoch 270/500\n",
            "2/2 [==============================] - 0s 8ms/step - loss: 40.0035 - mae: 33.3364\n",
            "Epoch 271/500\n",
            "2/2 [==============================] - 0s 6ms/step - loss: 40.4212 - mae: 33.7374\n",
            "Epoch 272/500\n",
            "2/2 [==============================] - 0s 9ms/step - loss: 40.7315 - mae: 32.7508\n",
            "Epoch 273/500\n",
            "2/2 [==============================] - 0s 7ms/step - loss: 40.5833 - mae: 34.4333\n",
            "Epoch 274/500\n",
            "2/2 [==============================] - 0s 7ms/step - loss: 39.9027 - mae: 35.0245\n",
            "Epoch 275/500\n",
            "2/2 [==============================] - 0s 7ms/step - loss: 41.1256 - mae: 29.7109\n",
            "Epoch 276/500\n",
            "2/2 [==============================] - 0s 6ms/step - loss: 40.9446 - mae: 31.0346\n",
            "Epoch 277/500\n",
            "2/2 [==============================] - 0s 7ms/step - loss: 40.2296 - mae: 32.6557\n",
            "Epoch 278/500\n",
            "2/2 [==============================] - 0s 8ms/step - loss: 40.7952 - mae: 33.0559\n",
            "Epoch 279/500\n",
            "2/2 [==============================] - 0s 8ms/step - loss: 40.6679 - mae: 32.8905\n",
            "Epoch 280/500\n",
            "2/2 [==============================] - 0s 7ms/step - loss: 40.8544 - mae: 32.0846\n",
            "Epoch 281/500\n",
            "2/2 [==============================] - 0s 7ms/step - loss: 40.7112 - mae: 33.1322\n",
            "Epoch 282/500\n",
            "2/2 [==============================] - 0s 9ms/step - loss: 40.6973 - mae: 33.3707\n",
            "Epoch 283/500\n",
            "2/2 [==============================] - 0s 9ms/step - loss: 40.5545 - mae: 34.7851\n",
            "Epoch 284/500\n",
            "2/2 [==============================] - 0s 7ms/step - loss: 40.6076 - mae: 34.3043\n",
            "Epoch 285/500\n",
            "2/2 [==============================] - 0s 7ms/step - loss: 40.5267 - mae: 34.2668\n",
            "Epoch 286/500\n",
            "2/2 [==============================] - 0s 8ms/step - loss: 40.4904 - mae: 33.0719\n",
            "Epoch 287/500\n",
            "2/2 [==============================] - 0s 8ms/step - loss: 40.8965 - mae: 31.4603\n",
            "Epoch 288/500\n",
            "2/2 [==============================] - 0s 6ms/step - loss: 40.6894 - mae: 32.6487\n",
            "Epoch 289/500\n",
            "2/2 [==============================] - 0s 7ms/step - loss: 40.7055 - mae: 33.9507\n",
            "Epoch 290/500\n",
            "2/2 [==============================] - 0s 10ms/step - loss: 40.6546 - mae: 34.7862\n",
            "Epoch 291/500\n",
            "2/2 [==============================] - 0s 7ms/step - loss: 40.5877 - mae: 34.8955\n",
            "Epoch 292/500\n",
            "2/2 [==============================] - 0s 6ms/step - loss: 40.4000 - mae: 35.9427\n",
            "Epoch 293/500\n",
            "2/2 [==============================] - 0s 9ms/step - loss: 40.4587 - mae: 33.6860\n",
            "Epoch 294/500\n",
            "2/2 [==============================] - 0s 7ms/step - loss: 40.8150 - mae: 32.6073\n",
            "Epoch 295/500\n",
            "2/2 [==============================] - 0s 9ms/step - loss: 40.7268 - mae: 33.5325\n",
            "Epoch 296/500\n",
            "2/2 [==============================] - 0s 8ms/step - loss: 40.5324 - mae: 33.5450\n",
            "Epoch 297/500\n",
            "2/2 [==============================] - 0s 9ms/step - loss: 40.6541 - mae: 34.2284\n",
            "Epoch 298/500\n",
            "2/2 [==============================] - 0s 11ms/step - loss: 40.6789 - mae: 33.7431\n",
            "Epoch 299/500\n",
            "2/2 [==============================] - 0s 10ms/step - loss: 40.4088 - mae: 34.3449\n",
            "Epoch 300/500\n",
            "2/2 [==============================] - 0s 10ms/step - loss: 40.4889 - mae: 32.3057\n",
            "Epoch 301/500\n",
            "2/2 [==============================] - 0s 8ms/step - loss: 40.5428 - mae: 29.7694\n",
            "Epoch 302/500\n",
            "2/2 [==============================] - 0s 6ms/step - loss: 40.8475 - mae: 31.6007\n",
            "Epoch 303/500\n",
            "2/2 [==============================] - 0s 9ms/step - loss: 40.9673 - mae: 30.9123\n",
            "Epoch 304/500\n",
            "2/2 [==============================] - 0s 8ms/step - loss: 39.9315 - mae: 31.5020\n",
            "Epoch 305/500\n",
            "2/2 [==============================] - 0s 8ms/step - loss: 40.8823 - mae: 31.3128\n",
            "Epoch 306/500\n",
            "2/2 [==============================] - 0s 9ms/step - loss: 40.7478 - mae: 32.2326\n",
            "Epoch 307/500\n",
            "2/2 [==============================] - 0s 8ms/step - loss: 40.6569 - mae: 33.6146\n",
            "Epoch 308/500\n",
            "2/2 [==============================] - 0s 7ms/step - loss: 40.7028 - mae: 33.9448\n",
            "Epoch 309/500\n",
            "2/2 [==============================] - 0s 11ms/step - loss: 40.6760 - mae: 34.5954\n",
            "Epoch 310/500\n",
            "2/2 [==============================] - 0s 11ms/step - loss: 40.5878 - mae: 35.0296\n",
            "Epoch 311/500\n",
            "2/2 [==============================] - 0s 10ms/step - loss: 40.1157 - mae: 35.7274\n",
            "Epoch 312/500\n",
            "2/2 [==============================] - 0s 10ms/step - loss: 40.8068 - mae: 31.7708\n",
            "Epoch 313/500\n",
            "2/2 [==============================] - 0s 7ms/step - loss: 39.7250 - mae: 31.1620\n",
            "Epoch 314/500\n",
            "2/2 [==============================] - 0s 8ms/step - loss: 40.8516 - mae: 31.5033\n",
            "Epoch 315/500\n",
            "2/2 [==============================] - 0s 7ms/step - loss: 40.7728 - mae: 32.4828\n",
            "Epoch 316/500\n",
            "2/2 [==============================] - 0s 7ms/step - loss: 40.0656 - mae: 34.2049\n",
            "Epoch 317/500\n",
            "2/2 [==============================] - 0s 7ms/step - loss: 40.8791 - mae: 29.9535\n",
            "Epoch 318/500\n",
            "2/2 [==============================] - 0s 8ms/step - loss: 40.9449 - mae: 31.8130\n",
            "Epoch 319/500\n",
            "2/2 [==============================] - 0s 8ms/step - loss: 40.8692 - mae: 31.8986\n",
            "Epoch 320/500\n",
            "2/2 [==============================] - 0s 7ms/step - loss: 40.7127 - mae: 33.6032\n",
            "Epoch 321/500\n",
            "2/2 [==============================] - 0s 7ms/step - loss: 40.2149 - mae: 34.8613\n",
            "Epoch 322/500\n",
            "2/2 [==============================] - 0s 6ms/step - loss: 40.6612 - mae: 34.9421\n",
            "Epoch 323/500\n",
            "2/2 [==============================] - 0s 8ms/step - loss: 40.6607 - mae: 35.2602\n",
            "Epoch 324/500\n",
            "2/2 [==============================] - 0s 7ms/step - loss: 40.5721 - mae: 35.4395\n",
            "Epoch 325/500\n",
            "2/2 [==============================] - 0s 8ms/step - loss: 40.6097 - mae: 34.9375\n",
            "Epoch 326/500\n",
            "2/2 [==============================] - 0s 7ms/step - loss: 40.6061 - mae: 35.0855\n",
            "Epoch 327/500\n",
            "2/2 [==============================] - 0s 9ms/step - loss: 40.3202 - mae: 35.2021\n",
            "Epoch 328/500\n",
            "2/2 [==============================] - 0s 9ms/step - loss: 40.5884 - mae: 35.4487\n",
            "Epoch 329/500\n",
            "2/2 [==============================] - 0s 8ms/step - loss: 40.5454 - mae: 35.8613\n",
            "Epoch 330/500\n",
            "2/2 [==============================] - 0s 8ms/step - loss: 40.5828 - mae: 36.1752\n",
            "Epoch 331/500\n",
            "2/2 [==============================] - 0s 10ms/step - loss: 40.3684 - mae: 35.5673\n",
            "Epoch 332/500\n",
            "2/2 [==============================] - 0s 9ms/step - loss: 40.6608 - mae: 33.9724\n",
            "Epoch 333/500\n",
            "2/2 [==============================] - 0s 7ms/step - loss: 40.6615 - mae: 34.2366\n",
            "Epoch 334/500\n",
            "2/2 [==============================] - 0s 6ms/step - loss: 40.4789 - mae: 34.6037\n",
            "Epoch 335/500\n",
            "2/2 [==============================] - 0s 7ms/step - loss: 40.0135 - mae: 35.1964\n",
            "Epoch 336/500\n",
            "2/2 [==============================] - 0s 8ms/step - loss: 40.8201 - mae: 31.9167\n",
            "Epoch 337/500\n",
            "2/2 [==============================] - 0s 8ms/step - loss: 40.3075 - mae: 33.0834\n",
            "Epoch 338/500\n",
            "2/2 [==============================] - 0s 9ms/step - loss: 40.4693 - mae: 33.1044\n",
            "Epoch 339/500\n",
            "2/2 [==============================] - 0s 9ms/step - loss: 40.4883 - mae: 33.5413\n",
            "Epoch 340/500\n",
            "2/2 [==============================] - 0s 7ms/step - loss: 40.7143 - mae: 33.9632\n",
            "Epoch 341/500\n",
            "2/2 [==============================] - 0s 8ms/step - loss: 40.4544 - mae: 34.6018\n",
            "Epoch 342/500\n",
            "2/2 [==============================] - 0s 7ms/step - loss: 40.1320 - mae: 35.3268\n",
            "Epoch 343/500\n",
            "2/2 [==============================] - 0s 9ms/step - loss: 40.1585 - mae: 34.8837\n",
            "Epoch 344/500\n",
            "2/2 [==============================] - 0s 8ms/step - loss: 39.6003 - mae: 35.2006\n",
            "Epoch 345/500\n",
            "2/2 [==============================] - 0s 8ms/step - loss: 41.3965 - mae: 27.5619\n",
            "Epoch 346/500\n",
            "2/2 [==============================] - 0s 8ms/step - loss: 40.9176 - mae: 30.4182\n",
            "Epoch 347/500\n",
            "2/2 [==============================] - 0s 7ms/step - loss: 40.9467 - mae: 30.6876\n",
            "Epoch 348/500\n",
            "2/2 [==============================] - 0s 11ms/step - loss: 40.6530 - mae: 32.9732\n",
            "Epoch 349/500\n",
            "2/2 [==============================] - 0s 8ms/step - loss: 40.6863 - mae: 34.3037\n",
            "Epoch 350/500\n",
            "2/2 [==============================] - 0s 7ms/step - loss: 39.7845 - mae: 34.5425\n",
            "Epoch 351/500\n",
            "2/2 [==============================] - 0s 7ms/step - loss: 40.8919 - mae: 29.6213\n",
            "Epoch 352/500\n",
            "2/2 [==============================] - 0s 8ms/step - loss: 40.9912 - mae: 30.4998\n",
            "Epoch 353/500\n",
            "2/2 [==============================] - 0s 7ms/step - loss: 40.7708 - mae: 32.2447\n",
            "Epoch 354/500\n",
            "2/2 [==============================] - 0s 7ms/step - loss: 40.6379 - mae: 33.5583\n",
            "Epoch 355/500\n",
            "2/2 [==============================] - 0s 8ms/step - loss: 40.5591 - mae: 34.4679\n",
            "Epoch 356/500\n",
            "2/2 [==============================] - 0s 9ms/step - loss: 40.3151 - mae: 35.1272\n",
            "Epoch 357/500\n",
            "2/2 [==============================] - 0s 8ms/step - loss: 40.2499 - mae: 32.4176\n",
            "Epoch 358/500\n",
            "2/2 [==============================] - 0s 9ms/step - loss: 40.9799 - mae: 30.7145\n",
            "Epoch 359/500\n",
            "2/2 [==============================] - 0s 8ms/step - loss: 40.4126 - mae: 32.2192\n",
            "Epoch 360/500\n",
            "2/2 [==============================] - 0s 9ms/step - loss: 40.7769 - mae: 30.8351\n",
            "Epoch 361/500\n",
            "2/2 [==============================] - 0s 12ms/step - loss: 40.6556 - mae: 33.0141\n",
            "Epoch 362/500\n",
            "2/2 [==============================] - 0s 8ms/step - loss: 40.6199 - mae: 33.0597\n",
            "Epoch 363/500\n",
            "2/2 [==============================] - 0s 9ms/step - loss: 40.3248 - mae: 32.3521\n",
            "Epoch 364/500\n",
            "2/2 [==============================] - 0s 7ms/step - loss: 40.9943 - mae: 29.0986\n",
            "Epoch 365/500\n",
            "2/2 [==============================] - 0s 7ms/step - loss: 40.4156 - mae: 31.6614\n",
            "Epoch 366/500\n",
            "2/2 [==============================] - 0s 10ms/step - loss: 40.0221 - mae: 33.3216\n",
            "Epoch 367/500\n",
            "2/2 [==============================] - 0s 8ms/step - loss: 41.0416 - mae: 29.7402\n",
            "Epoch 368/500\n",
            "2/2 [==============================] - 0s 8ms/step - loss: 40.7431 - mae: 30.9748\n",
            "Epoch 369/500\n",
            "2/2 [==============================] - 0s 7ms/step - loss: 40.7353 - mae: 33.3542\n",
            "Epoch 370/500\n",
            "2/2 [==============================] - 0s 7ms/step - loss: 40.6787 - mae: 33.8595\n",
            "Epoch 371/500\n",
            "2/2 [==============================] - 0s 7ms/step - loss: 40.5062 - mae: 34.1210\n",
            "Epoch 372/500\n",
            "2/2 [==============================] - 0s 7ms/step - loss: 40.5504 - mae: 35.0734\n",
            "Epoch 373/500\n",
            "2/2 [==============================] - 0s 7ms/step - loss: 40.6686 - mae: 34.3758\n",
            "Epoch 374/500\n",
            "2/2 [==============================] - 0s 7ms/step - loss: 40.5687 - mae: 34.7002\n",
            "Epoch 375/500\n",
            "2/2 [==============================] - 0s 8ms/step - loss: 40.5119 - mae: 35.3911\n",
            "Epoch 376/500\n",
            "2/2 [==============================] - 0s 8ms/step - loss: 40.2300 - mae: 35.8015\n",
            "Epoch 377/500\n",
            "2/2 [==============================] - 0s 7ms/step - loss: 40.4541 - mae: 35.8056\n",
            "Epoch 378/500\n",
            "2/2 [==============================] - 0s 7ms/step - loss: 40.5334 - mae: 35.4066\n",
            "Epoch 379/500\n",
            "2/2 [==============================] - 0s 7ms/step - loss: 40.5332 - mae: 34.8630\n",
            "Epoch 380/500\n",
            "2/2 [==============================] - 0s 7ms/step - loss: 40.6892 - mae: 33.8392\n",
            "Epoch 381/500\n",
            "2/2 [==============================] - 0s 7ms/step - loss: 40.5969 - mae: 35.4757\n",
            "Epoch 382/500\n",
            "2/2 [==============================] - 0s 7ms/step - loss: 40.5394 - mae: 35.5899\n",
            "Epoch 383/500\n",
            "2/2 [==============================] - 0s 8ms/step - loss: 40.4327 - mae: 35.1334\n",
            "Epoch 384/500\n",
            "2/2 [==============================] - 0s 7ms/step - loss: 40.1066 - mae: 35.1587\n",
            "Epoch 385/500\n",
            "2/2 [==============================] - 0s 6ms/step - loss: 40.6388 - mae: 34.9383\n",
            "Epoch 386/500\n",
            "2/2 [==============================] - 0s 6ms/step - loss: 40.6196 - mae: 35.0696\n",
            "Epoch 387/500\n",
            "2/2 [==============================] - 0s 7ms/step - loss: 40.6032 - mae: 35.8672\n",
            "Epoch 388/500\n",
            "2/2 [==============================] - 0s 7ms/step - loss: 40.6582 - mae: 35.6251\n",
            "Epoch 389/500\n",
            "2/2 [==============================] - 0s 7ms/step - loss: 40.3124 - mae: 35.5007\n",
            "Epoch 390/500\n",
            "2/2 [==============================] - 0s 7ms/step - loss: 40.8022 - mae: 32.4006\n",
            "Epoch 391/500\n",
            "2/2 [==============================] - 0s 7ms/step - loss: 40.7548 - mae: 33.2881\n",
            "Epoch 392/500\n",
            "2/2 [==============================] - 0s 9ms/step - loss: 40.4631 - mae: 34.6104\n",
            "Epoch 393/500\n",
            "2/2 [==============================] - 0s 8ms/step - loss: 40.6408 - mae: 34.8923\n",
            "Epoch 394/500\n",
            "2/2 [==============================] - 0s 6ms/step - loss: 40.4781 - mae: 35.5962\n",
            "Epoch 395/500\n",
            "2/2 [==============================] - 0s 7ms/step - loss: 40.6696 - mae: 34.2593\n",
            "Epoch 396/500\n",
            "2/2 [==============================] - 0s 6ms/step - loss: 40.4336 - mae: 34.8024\n",
            "Epoch 397/500\n",
            "2/2 [==============================] - 0s 6ms/step - loss: 40.5855 - mae: 35.0188\n",
            "Epoch 398/500\n",
            "2/2 [==============================] - 0s 7ms/step - loss: 40.6502 - mae: 34.4738\n",
            "Epoch 399/500\n",
            "2/2 [==============================] - 0s 7ms/step - loss: 40.4946 - mae: 35.1196\n",
            "Epoch 400/500\n",
            "2/2 [==============================] - 0s 6ms/step - loss: 40.7323 - mae: 33.4767\n",
            "Epoch 401/500\n",
            "2/2 [==============================] - 0s 8ms/step - loss: 39.9387 - mae: 34.2113\n",
            "Epoch 402/500\n",
            "2/2 [==============================] - 0s 8ms/step - loss: 40.4547 - mae: 29.2986\n",
            "Epoch 403/500\n",
            "2/2 [==============================] - 0s 8ms/step - loss: 40.1614 - mae: 31.6292\n",
            "Epoch 404/500\n",
            "2/2 [==============================] - 0s 8ms/step - loss: 41.3430 - mae: 27.6473\n",
            "Epoch 405/500\n",
            "2/2 [==============================] - 0s 7ms/step - loss: 40.7655 - mae: 31.5601\n",
            "Epoch 406/500\n",
            "2/2 [==============================] - 0s 6ms/step - loss: 40.7660 - mae: 32.7848\n",
            "Epoch 407/500\n",
            "2/2 [==============================] - 0s 7ms/step - loss: 40.6616 - mae: 33.9236\n",
            "Epoch 408/500\n",
            "2/2 [==============================] - 0s 9ms/step - loss: 40.1250 - mae: 34.6285\n",
            "Epoch 409/500\n",
            "2/2 [==============================] - 0s 6ms/step - loss: 40.8386 - mae: 30.3186\n",
            "Epoch 410/500\n",
            "2/2 [==============================] - 0s 7ms/step - loss: 40.8792 - mae: 31.2936\n",
            "Epoch 411/500\n",
            "2/2 [==============================] - 0s 6ms/step - loss: 40.6686 - mae: 32.3592\n",
            "Epoch 412/500\n",
            "2/2 [==============================] - 0s 8ms/step - loss: 40.7693 - mae: 32.1845\n",
            "Epoch 413/500\n",
            "2/2 [==============================] - 0s 7ms/step - loss: 40.8382 - mae: 32.4690\n",
            "Epoch 414/500\n",
            "2/2 [==============================] - 0s 8ms/step - loss: 40.6981 - mae: 32.3847\n",
            "Epoch 415/500\n",
            "2/2 [==============================] - 0s 10ms/step - loss: 40.6366 - mae: 33.9503\n",
            "Epoch 416/500\n",
            "2/2 [==============================] - 0s 8ms/step - loss: 40.6404 - mae: 35.0648\n",
            "Epoch 417/500\n",
            "2/2 [==============================] - 0s 7ms/step - loss: 40.6179 - mae: 35.4820\n",
            "Epoch 418/500\n",
            "2/2 [==============================] - 0s 8ms/step - loss: 40.6235 - mae: 35.2482\n",
            "Epoch 419/500\n",
            "2/2 [==============================] - 0s 8ms/step - loss: 40.3725 - mae: 35.4836\n",
            "Epoch 420/500\n",
            "2/2 [==============================] - 0s 8ms/step - loss: 40.6376 - mae: 33.3117\n",
            "Epoch 421/500\n",
            "2/2 [==============================] - 0s 7ms/step - loss: 40.5794 - mae: 34.6386\n",
            "Epoch 422/500\n",
            "2/2 [==============================] - 0s 8ms/step - loss: 40.4867 - mae: 35.0758\n",
            "Epoch 423/500\n",
            "2/2 [==============================] - 0s 8ms/step - loss: 40.6711 - mae: 34.4927\n",
            "Epoch 424/500\n",
            "2/2 [==============================] - 0s 10ms/step - loss: 40.5274 - mae: 35.1079\n",
            "Epoch 425/500\n",
            "2/2 [==============================] - 0s 9ms/step - loss: 40.6750 - mae: 34.4043\n",
            "Epoch 426/500\n",
            "2/2 [==============================] - 0s 7ms/step - loss: 40.3906 - mae: 34.1025\n",
            "Epoch 427/500\n",
            "2/2 [==============================] - 0s 9ms/step - loss: 40.6699 - mae: 34.2914\n",
            "Epoch 428/500\n",
            "2/2 [==============================] - 0s 7ms/step - loss: 40.4497 - mae: 34.6606\n",
            "Epoch 429/500\n",
            "2/2 [==============================] - 0s 7ms/step - loss: 40.2429 - mae: 33.8103\n",
            "Epoch 430/500\n",
            "2/2 [==============================] - 0s 8ms/step - loss: 40.8571 - mae: 29.8593\n",
            "Epoch 431/500\n",
            "2/2 [==============================] - 0s 7ms/step - loss: 40.6653 - mae: 31.2086\n",
            "Epoch 432/500\n",
            "2/2 [==============================] - 0s 10ms/step - loss: 40.7589 - mae: 31.5666\n",
            "Epoch 433/500\n",
            "2/2 [==============================] - 0s 10ms/step - loss: 40.1683 - mae: 33.0585\n",
            "Epoch 434/500\n",
            "2/2 [==============================] - 0s 8ms/step - loss: 41.0743 - mae: 29.9952\n",
            "Epoch 435/500\n",
            "2/2 [==============================] - 0s 9ms/step - loss: 39.8181 - mae: 32.2879\n",
            "Epoch 436/500\n",
            "2/2 [==============================] - 0s 10ms/step - loss: 41.4145 - mae: 26.1486\n",
            "Epoch 437/500\n",
            "2/2 [==============================] - 0s 8ms/step - loss: 41.1578 - mae: 27.9560\n",
            "Epoch 438/500\n",
            "2/2 [==============================] - 0s 7ms/step - loss: 39.7006 - mae: 32.4810\n",
            "Epoch 439/500\n",
            "2/2 [==============================] - 0s 8ms/step - loss: 41.1476 - mae: 25.7734\n",
            "Epoch 440/500\n",
            "2/2 [==============================] - 0s 7ms/step - loss: 41.0834 - mae: 26.0958\n",
            "Epoch 441/500\n",
            "2/2 [==============================] - 0s 7ms/step - loss: 41.1676 - mae: 27.0574\n",
            "Epoch 442/500\n",
            "2/2 [==============================] - 0s 7ms/step - loss: 41.1493 - mae: 28.9174\n",
            "Epoch 443/500\n",
            "2/2 [==============================] - 0s 7ms/step - loss: 40.9033 - mae: 30.9857\n",
            "Epoch 444/500\n",
            "2/2 [==============================] - 0s 8ms/step - loss: 40.2340 - mae: 31.9379\n",
            "Epoch 445/500\n",
            "2/2 [==============================] - 0s 7ms/step - loss: 40.7286 - mae: 33.5647\n",
            "Epoch 446/500\n",
            "2/2 [==============================] - 0s 7ms/step - loss: 40.3409 - mae: 33.2165\n",
            "Epoch 447/500\n",
            "2/2 [==============================] - 0s 8ms/step - loss: 40.3136 - mae: 34.2289\n",
            "Epoch 448/500\n",
            "2/2 [==============================] - 0s 8ms/step - loss: 40.6551 - mae: 34.8549\n",
            "Epoch 449/500\n",
            "2/2 [==============================] - 0s 10ms/step - loss: 40.6158 - mae: 34.8776\n",
            "Epoch 450/500\n",
            "2/2 [==============================] - 0s 9ms/step - loss: 40.6008 - mae: 35.1948\n",
            "Epoch 451/500\n",
            "2/2 [==============================] - 0s 9ms/step - loss: 39.9844 - mae: 35.5616\n",
            "Epoch 452/500\n",
            "2/2 [==============================] - 0s 9ms/step - loss: 40.8127 - mae: 31.1142\n",
            "Epoch 453/500\n",
            "2/2 [==============================] - 0s 7ms/step - loss: 40.9048 - mae: 29.6563\n",
            "Epoch 454/500\n",
            "2/2 [==============================] - 0s 10ms/step - loss: 40.8868 - mae: 30.6892\n",
            "Epoch 455/500\n",
            "2/2 [==============================] - 0s 10ms/step - loss: 40.7112 - mae: 31.9801\n",
            "Epoch 456/500\n",
            "2/2 [==============================] - 0s 8ms/step - loss: 40.6624 - mae: 33.4013\n",
            "Epoch 457/500\n",
            "2/2 [==============================] - 0s 8ms/step - loss: 40.5903 - mae: 33.6809\n",
            "Epoch 458/500\n",
            "2/2 [==============================] - 0s 10ms/step - loss: 40.1829 - mae: 34.5230\n",
            "Epoch 459/500\n",
            "2/2 [==============================] - 0s 12ms/step - loss: 40.7835 - mae: 31.9044\n",
            "Epoch 460/500\n",
            "2/2 [==============================] - 0s 12ms/step - loss: 40.7681 - mae: 32.6633\n",
            "Epoch 461/500\n",
            "2/2 [==============================] - 0s 12ms/step - loss: 40.6599 - mae: 33.5519\n",
            "Epoch 462/500\n",
            "2/2 [==============================] - 0s 8ms/step - loss: 40.6625 - mae: 34.1773\n",
            "Epoch 463/500\n",
            "2/2 [==============================] - 0s 8ms/step - loss: 40.5967 - mae: 34.6916\n",
            "Epoch 464/500\n",
            "2/2 [==============================] - 0s 8ms/step - loss: 40.4276 - mae: 35.3049\n",
            "Epoch 465/500\n",
            "2/2 [==============================] - 0s 8ms/step - loss: 40.4099 - mae: 35.4004\n",
            "Epoch 466/500\n",
            "2/2 [==============================] - 0s 8ms/step - loss: 40.5728 - mae: 35.5317\n",
            "Epoch 467/500\n",
            "2/2 [==============================] - 0s 8ms/step - loss: 40.6532 - mae: 35.0053\n",
            "Epoch 468/500\n",
            "2/2 [==============================] - 0s 9ms/step - loss: 40.5421 - mae: 34.8430\n",
            "Epoch 469/500\n",
            "2/2 [==============================] - 0s 9ms/step - loss: 40.6442 - mae: 34.1072\n",
            "Epoch 470/500\n",
            "2/2 [==============================] - 0s 9ms/step - loss: 40.6386 - mae: 34.2994\n",
            "Epoch 471/500\n",
            "2/2 [==============================] - 0s 8ms/step - loss: 40.5389 - mae: 34.7319\n",
            "Epoch 472/500\n",
            "2/2 [==============================] - 0s 7ms/step - loss: 40.6042 - mae: 35.2794\n",
            "Epoch 473/500\n",
            "2/2 [==============================] - 0s 7ms/step - loss: 40.4715 - mae: 36.1927\n",
            "Epoch 474/500\n",
            "2/2 [==============================] - 0s 10ms/step - loss: 40.5647 - mae: 34.7819\n",
            "Epoch 475/500\n",
            "2/2 [==============================] - 0s 7ms/step - loss: 40.2398 - mae: 34.6747\n",
            "Epoch 476/500\n",
            "2/2 [==============================] - 0s 7ms/step - loss: 40.4572 - mae: 35.2586\n",
            "Epoch 477/500\n",
            "2/2 [==============================] - 0s 7ms/step - loss: 40.6572 - mae: 33.6260\n",
            "Epoch 478/500\n",
            "2/2 [==============================] - 0s 7ms/step - loss: 40.2783 - mae: 33.0167\n",
            "Epoch 479/500\n",
            "2/2 [==============================] - 0s 7ms/step - loss: 40.6615 - mae: 33.6297\n",
            "Epoch 480/500\n",
            "2/2 [==============================] - 0s 9ms/step - loss: 40.6923 - mae: 33.1410\n",
            "Epoch 481/500\n",
            "2/2 [==============================] - 0s 10ms/step - loss: 40.6029 - mae: 33.8094\n",
            "Epoch 482/500\n",
            "2/2 [==============================] - 0s 9ms/step - loss: 40.6285 - mae: 33.4951\n",
            "Epoch 483/500\n",
            "2/2 [==============================] - 0s 6ms/step - loss: 40.3565 - mae: 34.0130\n",
            "Epoch 484/500\n",
            "2/2 [==============================] - 0s 7ms/step - loss: 39.9426 - mae: 31.4099\n",
            "Epoch 485/500\n",
            "2/2 [==============================] - 0s 11ms/step - loss: 40.6962 - mae: 31.9136\n",
            "Epoch 486/500\n",
            "2/2 [==============================] - 0s 9ms/step - loss: 39.9186 - mae: 32.4208\n",
            "Epoch 487/500\n",
            "2/2 [==============================] - 0s 7ms/step - loss: 40.6130 - mae: 32.9738\n",
            "Epoch 488/500\n",
            "2/2 [==============================] - 0s 7ms/step - loss: 39.8413 - mae: 32.0421\n",
            "Epoch 489/500\n",
            "2/2 [==============================] - 0s 7ms/step - loss: 40.4868 - mae: 32.1136\n",
            "Epoch 490/500\n",
            "2/2 [==============================] - 0s 7ms/step - loss: 40.6548 - mae: 34.0738\n",
            "Epoch 491/500\n",
            "2/2 [==============================] - 0s 10ms/step - loss: 40.6453 - mae: 34.6208\n",
            "Epoch 492/500\n",
            "2/2 [==============================] - 0s 7ms/step - loss: 40.6226 - mae: 34.3007\n",
            "Epoch 493/500\n",
            "2/2 [==============================] - 0s 8ms/step - loss: 40.5250 - mae: 34.5687\n",
            "Epoch 494/500\n",
            "2/2 [==============================] - 0s 7ms/step - loss: 40.1797 - mae: 34.9257\n",
            "Epoch 495/500\n",
            "2/2 [==============================] - 0s 9ms/step - loss: 40.5486 - mae: 35.0878\n",
            "Epoch 496/500\n",
            "2/2 [==============================] - 0s 10ms/step - loss: 40.5764 - mae: 35.1516\n",
            "Epoch 497/500\n",
            "2/2 [==============================] - 0s 8ms/step - loss: 40.2604 - mae: 35.3809\n",
            "Epoch 498/500\n",
            "2/2 [==============================] - 0s 8ms/step - loss: 40.8547 - mae: 32.2386\n",
            "Epoch 499/500\n",
            "2/2 [==============================] - 0s 11ms/step - loss: 40.6096 - mae: 32.3597\n",
            "Epoch 500/500\n",
            "2/2 [==============================] - 0s 10ms/step - loss: 39.7486 - mae: 32.3841\n"
          ]
        },
        {
          "output_type": "execute_result",
          "data": {
            "text/plain": [
              "<keras.src.callbacks.History at 0x7e6138128730>"
            ]
          },
          "metadata": {},
          "execution_count": 59
        }
      ]
    },
    {
      "cell_type": "code",
      "source": [
        "# Make and plot some predictions\n",
        "\n",
        "y_preds_3 = model_3.predict(x_test)\n",
        "plot_predictions(predictions = y_preds_3)"
      ],
      "metadata": {
        "colab": {
          "base_uri": "https://localhost:8080/",
          "height": 616
        },
        "id": "uKfdkv17FlEB",
        "outputId": "ef68c6bf-7ade-4e91-821f-ffb8571e71dc"
      },
      "execution_count": 60,
      "outputs": [
        {
          "output_type": "stream",
          "name": "stdout",
          "text": [
            "1/1 [==============================] - 0s 85ms/step\n"
          ]
        },
        {
          "output_type": "display_data",
          "data": {
            "text/plain": [
              "<Figure size 1000x700 with 1 Axes>"
            ],
            "image/png": "[encoded data removed]"
          },
          "metadata": {}
        }
      ]
    },
    {
      "cell_type": "code",
      "source": [
        "# Calculate model_3 evaluation metrics\n",
        "\n",
        "mae_3 = mae(y_test, y_preds_3)\n",
        "mse_3 = mse(y_test, y_preds_3)\n",
        "mae_3, mse_3"
      ],
      "metadata": {
        "colab": {
          "base_uri": "https://localhost:8080/"
        },
        "id": "AZTlLn1rGIGp",
        "outputId": "d2557da4-b613-4e78-8f6a-478d83632099"
      },
      "execution_count": 61,
      "outputs": [
        {
          "output_type": "execute_result",
          "data": {
            "text/plain": [
              "(<tf.Tensor: shape=(), dtype=float32, numpy=64.09758>,\n",
              " <tf.Tensor: shape=(), dtype=float32, numpy=4168.872>)"
            ]
          },
          "metadata": {},
          "execution_count": 61
        }
      ]
    },
    {
      "cell_type": "markdown",
      "source": [
        "## Comparing the results of out experiments\n",
        "\n"
      ],
      "metadata": {
        "id": "AAy24eLdG11d"
      }
    },
    {
      "cell_type": "code",
      "source": [
        "# Lets compare our models result using a pandas DataFrame\n",
        "\n",
        "import pandas as pd\n",
        "\n",
        "model_results = [[\"model_1\", mae_1.numpy(), mse_1.numpy()],\n",
        "                [\"model_2\", mae_2.numpy(), mse_2.numpy()],\n",
        "                [\"model_3\", mae_3.numpy(), mse_3]]\n",
        "\n",
        "all_results = pd.DataFrame(model_results, columns=[\"model\", \"mae\", \"mse\"])\n",
        "all_results\n"
      ],
      "metadata": {
        "colab": {
          "base_uri": "https://localhost:8080/",
          "height": 144
        },
        "id": "Eyz6kizfeNiv",
        "outputId": "065d784f-b6c7-4832-99c8-71221f6b66fd"
      },
      "execution_count": 62,
      "outputs": [
        {
          "output_type": "execute_result",
          "data": {
            "text/plain": [
              "     model        mae                                           mse\n",
              "0  model_1  14.964640                                    224.781586\n",
              "1  model_2  45.645016                                   2110.692871\n",
              "2  model_3  64.097580  tf.Tensor(4168.872, shape=(), dtype=float32)"
            ],
            "text/html": [
              "\n",
              "  <div id=\"df-b2d715b4-e815-43ac-b888-0770491b306b\" class=\"colab-df-container\">\n",
              "    <div>\n",
              "<style scoped>\n",
              "    .dataframe tbody tr th:only-of-type {\n",
              "        vertical-align: middle;\n",
              "    }\n",
              "\n",
              "    .dataframe tbody tr th {\n",
              "        vertical-align: top;\n",
              "    }\n",
              "\n",
              "    .dataframe thead th {\n",
              "        text-align: right;\n",
              "    }\n",
              "</style>\n",
              "<table border=\"1\" class=\"dataframe\">\n",
              "  <thead>\n",
              "    <tr style=\"text-align: right;\">\n",
              "      <th></th>\n",
              "      <th>model</th>\n",
              "      <th>mae</th>\n",
              "      <th>mse</th>\n",
              "    </tr>\n",
              "  </thead>\n",
              "  <tbody>\n",
              "    <tr>\n",
              "      <th>0</th>\n",
              "      <td>model_1</td>\n",
              "      <td>14.964640</td>\n",
              "      <td>224.781586</td>\n",
              "    </tr>\n",
              "    <tr>\n",
              "      <th>1</th>\n",
              "      <td>model_2</td>\n",
              "      <td>45.645016</td>\n",
              "      <td>2110.692871</td>\n",
              "    </tr>\n",
              "    <tr>\n",
              "      <th>2</th>\n",
              "      <td>model_3</td>\n",
              "      <td>64.097580</td>\n",
              "      <td>tf.Tensor(4168.872, shape=(), dtype=float32)</td>\n",
              "    </tr>\n",
              "  </tbody>\n",
              "</table>\n",
              "</div>\n",
              "    <div class=\"colab-df-buttons\">\n",
              "\n",
              "  <div class=\"colab-df-container\">\n",
              "    <button class=\"colab-df-convert\" onclick=\"convertToInteractive('df-b2d715b4-e815-43ac-b888-0770491b306b')\"\n",
              "            title=\"Convert this dataframe to an interactive table.\"\n",
              "            style=\"display:none;\">\n",
              "\n",
              "  <svg xmlns=\"http://www.w3.org/2000/svg\" height=\"24px\" viewBox=\"0 -960 960 960\">\n",
              "    <path d=\"M120-120v-720h720v720H120Zm60-500h600v-160H180v160Zm220 220h160v-160H400v160Zm0 220h160v-160H400v160ZM180-400h160v-160H180v160Zm440 0h160v-160H620v160ZM180-180h160v-160H180v160Zm440 0h160v-160H620v160Z\"/>\n",
              "  </svg>\n",
              "    </button>\n",
              "\n",
              "  <style>\n",
              "    .colab-df-container {\n",
              "      display:flex;\n",
              "      gap: 12px;\n",
              "    }\n",
              "\n",
              "    .colab-df-convert {\n",
              "      background-color: #E8F0FE;\n",
              "      border: none;\n",
              "      border-radius: 50%;\n",
              "      cursor: pointer;\n",
              "      display: none;\n",
              "      fill: #1967D2;\n",
              "      height: 32px;\n",
              "      padding: 0 0 0 0;\n",
              "      width: 32px;\n",
              "    }\n",
              "\n",
              "    .colab-df-convert:hover {\n",
              "      background-color: #E2EBFA;\n",
              "      box-shadow: 0px 1px 2px rgba(60, 64, 67, 0.3), 0px 1px 3px 1px rgba(60, 64, 67, 0.15);\n",
              "      fill: #174EA6;\n",
              "    }\n",
              "\n",
              "    .colab-df-buttons div {\n",
              "      margin-bottom: 4px;\n",
              "    }\n",
              "\n",
              "    [theme=dark] .colab-df-convert {\n",
              "      background-color: #3B4455;\n",
              "      fill: #D2E3FC;\n",
              "    }\n",
              "\n",
              "    [theme=dark] .colab-df-convert:hover {\n",
              "      background-color: #434B5C;\n",
              "      box-shadow: 0px 1px 3px 1px rgba(0, 0, 0, 0.15);\n",
              "      filter: drop-shadow(0px 1px 2px rgba(0, 0, 0, 0.3));\n",
              "      fill: #FFFFFF;\n",
              "    }\n",
              "  </style>\n",
              "\n",
              "    <script>\n",
              "      const buttonEl =\n",
              "        document.querySelector('#df-b2d715b4-e815-43ac-b888-0770491b306b button.colab-df-convert');\n",
              "      buttonEl.style.display =\n",
              "        google.colab.kernel.accessAllowed ? 'block' : 'none';\n",
              "\n",
              "      async function convertToInteractive(key) {\n",
              "        const element = document.querySelector('#df-b2d715b4-e815-43ac-b888-0770491b306b');\n",
              "        const dataTable =\n",
              "          await google.colab.kernel.invokeFunction('convertToInteractive',\n",
              "                                                    [key], {});\n",
              "        if (!dataTable) return;\n",
              "\n",
              "        const docLinkHtml = 'Like what you see? Visit the ' +\n",
              "          '<a target=\"_blank\" href=https://colab.research.google.com/notebooks/data_table.ipynb>data table notebook</a>'\n",
              "          + ' to learn more about interactive tables.';\n",
              "        element.innerHTML = '';\n",
              "        dataTable['output_type'] = 'display_data';\n",
              "        await google.colab.output.renderOutput(dataTable, element);\n",
              "        const docLink = document.createElement('div');\n",
              "        docLink.innerHTML = docLinkHtml;\n",
              "        element.appendChild(docLink);\n",
              "      }\n",
              "    </script>\n",
              "  </div>\n",
              "\n",
              "\n",
              "<div id=\"df-873b7c45-e4c0-45ae-ad47-9bfa74e8f191\">\n",
              "  <button class=\"colab-df-quickchart\" onclick=\"quickchart('df-873b7c45-e4c0-45ae-ad47-9bfa74e8f191')\"\n",
              "            title=\"Suggest charts\"\n",
              "            style=\"display:none;\">\n",
              "\n",
              "<svg xmlns=\"http://www.w3.org/2000/svg\" height=\"24px\"viewBox=\"0 0 24 24\"\n",
              "     width=\"24px\">\n",
              "    <g>\n",
              "        <path d=\"M19 3H5c-1.1 0-2 .9-2 2v14c0 1.1.9 2 2 2h14c1.1 0 2-.9 2-2V5c0-1.1-.9-2-2-2zM9 17H7v-7h2v7zm4 0h-2V7h2v10zm4 0h-2v-4h2v4z\"/>\n",
              "    </g>\n",
              "</svg>\n",
              "  </button>\n",
              "\n",
              "<style>\n",
              "  .colab-df-quickchart {\n",
              "      --bg-color: #E8F0FE;\n",
              "      --fill-color: #1967D2;\n",
              "      --hover-bg-color: #E2EBFA;\n",
              "      --hover-fill-color: #174EA6;\n",
              "      --disabled-fill-color: #AAA;\n",
              "      --disabled-bg-color: #DDD;\n",
              "  }\n",
              "\n",
              "  [theme=dark] .colab-df-quickchart {\n",
              "      --bg-color: #3B4455;\n",
              "      --fill-color: #D2E3FC;\n",
              "      --hover-bg-color: #434B5C;\n",
              "      --hover-fill-color: #FFFFFF;\n",
              "      --disabled-bg-color: #3B4455;\n",
              "      --disabled-fill-color: #666;\n",
              "  }\n",
              "\n",
              "  .colab-df-quickchart {\n",
              "    background-color: var(--bg-color);\n",
              "    border: none;\n",
              "    border-radius: 50%;\n",
              "    cursor: pointer;\n",
              "    display: none;\n",
              "    fill: var(--fill-color);\n",
              "    height: 32px;\n",
              "    padding: 0;\n",
              "    width: 32px;\n",
              "  }\n",
              "\n",
              "  .colab-df-quickchart:hover {\n",
              "    background-color: var(--hover-bg-color);\n",
              "    box-shadow: 0 1px 2px rgba(60, 64, 67, 0.3), 0 1px 3px 1px rgba(60, 64, 67, 0.15);\n",
              "    fill: var(--button-hover-fill-color);\n",
              "  }\n",
              "\n",
              "  .colab-df-quickchart-complete:disabled,\n",
              "  .colab-df-quickchart-complete:disabled:hover {\n",
              "    background-color: var(--disabled-bg-color);\n",
              "    fill: var(--disabled-fill-color);\n",
              "    box-shadow: none;\n",
              "  }\n",
              "\n",
              "  .colab-df-spinner {\n",
              "    border: 2px solid var(--fill-color);\n",
              "    border-color: transparent;\n",
              "    border-bottom-color: var(--fill-color);\n",
              "    animation:\n",
              "      spin 1s steps(1) infinite;\n",
              "  }\n",
              "\n",
              "  @keyframes spin {\n",
              "    0% {\n",
              "      border-color: transparent;\n",
              "      border-bottom-color: var(--fill-color);\n",
              "      border-left-color: var(--fill-color);\n",
              "    }\n",
              "    20% {\n",
              "      border-color: transparent;\n",
              "      border-left-color: var(--fill-color);\n",
              "      border-top-color: var(--fill-color);\n",
              "    }\n",
              "    30% {\n",
              "      border-color: transparent;\n",
              "      border-left-color: var(--fill-color);\n",
              "      border-top-color: var(--fill-color);\n",
              "      border-right-color: var(--fill-color);\n",
              "    }\n",
              "    40% {\n",
              "      border-color: transparent;\n",
              "      border-right-color: var(--fill-color);\n",
              "      border-top-color: var(--fill-color);\n",
              "    }\n",
              "    60% {\n",
              "      border-color: transparent;\n",
              "      border-right-color: var(--fill-color);\n",
              "    }\n",
              "    80% {\n",
              "      border-color: transparent;\n",
              "      border-right-color: var(--fill-color);\n",
              "      border-bottom-color: var(--fill-color);\n",
              "    }\n",
              "    90% {\n",
              "      border-color: transparent;\n",
              "      border-bottom-color: var(--fill-color);\n",
              "    }\n",
              "  }\n",
              "</style>\n",
              "\n",
              "  <script>\n",
              "    async function quickchart(key) {\n",
              "      const quickchartButtonEl =\n",
              "        document.querySelector('#' + key + ' button');\n",
              "      quickchartButtonEl.disabled = true;  // To prevent multiple clicks.\n",
              "      quickchartButtonEl.classList.add('colab-df-spinner');\n",
              "      try {\n",
              "        const charts = await google.colab.kernel.invokeFunction(\n",
              "            'suggestCharts', [key], {});\n",
              "      } catch (error) {\n",
              "        console.error('Error during call to suggestCharts:', error);\n",
              "      }\n",
              "      quickchartButtonEl.classList.remove('colab-df-spinner');\n",
              "      quickchartButtonEl.classList.add('colab-df-quickchart-complete');\n",
              "    }\n",
              "    (() => {\n",
              "      let quickchartButtonEl =\n",
              "        document.querySelector('#df-873b7c45-e4c0-45ae-ad47-9bfa74e8f191 button');\n",
              "      quickchartButtonEl.style.display =\n",
              "        google.colab.kernel.accessAllowed ? 'block' : 'none';\n",
              "    })();\n",
              "  </script>\n",
              "</div>\n",
              "    </div>\n",
              "  </div>\n"
            ],
            "application/vnd.google.colaboratory.intrinsic+json": {
              "type": "dataframe",
              "variable_name": "all_results",
              "summary": "{\n  \"name\": \"all_results\",\n  \"rows\": 3,\n  \"fields\": [\n    {\n      \"column\": \"model\",\n      \"properties\": {\n        \"dtype\": \"string\",\n        \"num_unique_values\": 3,\n        \"samples\": [\n          \"model_1\",\n          \"model_2\",\n          \"model_3\"\n        ],\n        \"semantic_type\": \"\",\n        \"description\": \"\"\n      }\n    },\n    {\n      \"column\": \"mae\",\n      \"properties\": {\n        \"dtype\": \"float32\",\n        \"num_unique_values\": 3,\n        \"samples\": [\n          14.964639663696289,\n          45.645015716552734,\n          64.09757995605469\n        ],\n        \"semantic_type\": \"\",\n        \"description\": \"\"\n      }\n    },\n    {\n      \"column\": \"mse\",\n      \"properties\": {\n        \"dtype\": \"object\",\n        \"semantic_type\": \"\",\n        \"description\": \"\"\n      }\n    }\n  ]\n}"
            }
          },
          "metadata": {},
          "execution_count": 62
        }
      ]
    },
    {
      "source": [
        "# @title mae\n",
        "# Got Recommendation from gcollab\n",
        "\n",
        "from matplotlib import pyplot as plt\n",
        "all_results['mae'].plot(kind='hist', bins=20, title='mae')\n",
        "plt.gca().spines[['top', 'right',]].set_visible(False)"
      ],
      "cell_type": "code",
      "execution_count": 63,
      "outputs": [
        {
          "output_type": "display_data",
          "data": {
            "text/plain": [
              "<Figure size 640x480 with 1 Axes>"
            ],
            "image/png": "[encoded data removed]"
          },
          "metadata": {}
        }
      ],
      "metadata": {
        "colab": {
          "base_uri": "https://localhost:8080/",
          "height": 452
        },
        "id": "AK8lqoT2f7R1",
        "outputId": "e0398753-3a97-4bfd-d159-cb377eb17c43"
      }
    },
    {
      "cell_type": "markdown",
      "source": [
        "🔑**Note :** One of our main goals should be to minimize the time between our experiments. We must try and error"
      ],
      "metadata": {
        "id": "6mam0ajKgXEC"
      }
    },
    {
      "cell_type": "markdown",
      "source": [
        "## Tracking your experiments\n",
        "\n",
        "One really good habit in ml modelling is to track the result of your experiments.\n",
        "\n",
        "Luckly, there are tools to help us!\n",
        "\n",
        "📖**Resource:** As we build more models, we will want to look into using :\n",
        "\n",
        "* TensorBoard - a component of the TensorFlow library to help track modelling experiments\n",
        "* Weights & Biases - a tool for tracking all of kinds of machine learning experiments\n",
        "\n"
      ],
      "metadata": {
        "id": "jCyUYIJrhEbi"
      }
    },
    {
      "cell_type": "markdown",
      "source": [
        "## Saving Our model\n",
        "\n",
        "Saving our model allows us to use them outside of Google collab\n",
        "\n",
        "There are two main formats we can save our model too :\n",
        "1. The SavedModel format\n",
        "2. The HDF5 format"
      ],
      "metadata": {
        "id": "DCh5Gw9x2cEL"
      }
    },
    {
      "cell_type": "code",
      "source": [
        "# Save model using the SavedModel format\n",
        "model_2.save(\"best_model_SavedModel_format\")"
      ],
      "metadata": {
        "id": "GgNAjual2aAU"
      },
      "execution_count": 64,
      "outputs": []
    },
    {
      "cell_type": "code",
      "source": [
        "# Save model using the HDF5 format\n",
        "model_2.save(\"best_model_HDF5_format\")"
      ],
      "metadata": {
        "id": "WUEQU6AH4UiF"
      },
      "execution_count": 65,
      "outputs": []
    },
    {
      "cell_type": "markdown",
      "source": [
        "## Loading in a saved model"
      ],
      "metadata": {
        "id": "JlWRZHYjreP_"
      }
    },
    {
      "cell_type": "code",
      "source": [
        "# Load in the SavedModel format\n",
        "\n",
        "loaded_SavedModel_format = tf.keras.models.load_model(\"/content/best_model_SavedModel_format\")\n",
        "loaded_SavedModel_format.summary()"
      ],
      "metadata": {
        "colab": {
          "base_uri": "https://localhost:8080/"
        },
        "id": "2ZCWOR4Wrosv",
        "outputId": "0acbd18a-328d-4aa2-d60f-5e1910e48aca"
      },
      "execution_count": 66,
      "outputs": [
        {
          "output_type": "stream",
          "name": "stdout",
          "text": [
            "Model: \"sequential_6\"\n",
            "_________________________________________________________________\n",
            " Layer (type)                Output Shape              Param #   \n",
            "=================================================================\n",
            " input_layer (Dense)         (None, 70)                140       \n",
            "                                                                 \n",
            " Output_layer (Dense)        (None, 1)                 71        \n",
            "                                                                 \n",
            "=================================================================\n",
            "Total params: 211 (844.00 Byte)\n",
            "Trainable params: 211 (844.00 Byte)\n",
            "Non-trainable params: 0 (0.00 Byte)\n",
            "_________________________________________________________________\n"
          ]
        }
      ]
    },
    {
      "cell_type": "code",
      "source": [
        "model_2 == loaded_SavedModel_format"
      ],
      "metadata": {
        "colab": {
          "base_uri": "https://localhost:8080/"
        },
        "id": "yLoIxTUvsGxF",
        "outputId": "bf8979ec-df40-4021-86b3-f297318202c2"
      },
      "execution_count": 67,
      "outputs": [
        {
          "output_type": "execute_result",
          "data": {
            "text/plain": [
              "False"
            ]
          },
          "metadata": {},
          "execution_count": 67
        }
      ]
    },
    {
      "cell_type": "code",
      "source": [
        "# Compare predictions\n",
        "model_2_preds = model_2.predict(x_test)\n",
        "loaded_SavedModel_format_preds = loaded_SavedModel_format.predict(x_test)\n",
        "\n",
        "model_2_preds == loaded_SavedModel_format_preds"
      ],
      "metadata": {
        "colab": {
          "base_uri": "https://localhost:8080/"
        },
        "id": "NN4wwIe1sbEY",
        "outputId": "328e215a-1ea7-41c1-b557-c30c142234e1"
      },
      "execution_count": 68,
      "outputs": [
        {
          "output_type": "stream",
          "name": "stdout",
          "text": [
            "1/1 [==============================] - 0s 63ms/step\n",
            "1/1 [==============================] - 0s 138ms/step\n"
          ]
        },
        {
          "output_type": "execute_result",
          "data": {
            "text/plain": [
              "array([[ True],\n",
              "       [ True],\n",
              "       [ True],\n",
              "       [ True],\n",
              "       [ True],\n",
              "       [ True],\n",
              "       [ True],\n",
              "       [ True],\n",
              "       [ True],\n",
              "       [ True]])"
            ]
          },
          "metadata": {},
          "execution_count": 68
        }
      ]
    },
    {
      "cell_type": "code",
      "source": [
        "mae(y_true = y_test, y_pred = model_2_preds) == mae(y_true = y_test, y_pred=loaded_SavedModel_format_preds )"
      ],
      "metadata": {
        "colab": {
          "base_uri": "https://localhost:8080/"
        },
        "id": "4vOzpgEWs4bA",
        "outputId": "e5a6562c-70f2-4a2c-ac6b-213845152b79"
      },
      "execution_count": 69,
      "outputs": [
        {
          "output_type": "execute_result",
          "data": {
            "text/plain": [
              "<tf.Tensor: shape=(), dtype=bool, numpy=True>"
            ]
          },
          "metadata": {},
          "execution_count": 69
        }
      ]
    },
    {
      "cell_type": "code",
      "source": [
        "# Load in a model using the h5 format\n",
        "loaded_h5_model = tf.keras.models.load_model(\"/content/best_model_HDF5_format\")\n",
        "loaded_h5_model.summary()"
      ],
      "metadata": {
        "colab": {
          "base_uri": "https://localhost:8080/"
        },
        "id": "HfBpvyUluB-8",
        "outputId": "35a5c32c-ca86-413a-f836-e585f0ed6896"
      },
      "execution_count": 70,
      "outputs": [
        {
          "output_type": "stream",
          "name": "stdout",
          "text": [
            "Model: \"sequential_6\"\n",
            "_________________________________________________________________\n",
            " Layer (type)                Output Shape              Param #   \n",
            "=================================================================\n",
            " input_layer (Dense)         (None, 70)                140       \n",
            "                                                                 \n",
            " Output_layer (Dense)        (None, 1)                 71        \n",
            "                                                                 \n",
            "=================================================================\n",
            "Total params: 211 (844.00 Byte)\n",
            "Trainable params: 211 (844.00 Byte)\n",
            "Non-trainable params: 0 (0.00 Byte)\n",
            "_________________________________________________________________\n"
          ]
        }
      ]
    },
    {
      "cell_type": "code",
      "source": [
        "# Compare\n",
        "\n",
        "loaded_h5_model_preds = loaded_h5_model.predict(x_test)\n",
        "\n",
        "model_2_preds == loaded_h5_model_preds"
      ],
      "metadata": {
        "colab": {
          "base_uri": "https://localhost:8080/"
        },
        "id": "IBlZi3BwucUl",
        "outputId": "78a7d932-d4ae-4fa2-efbf-f8e616b53376"
      },
      "execution_count": 71,
      "outputs": [
        {
          "output_type": "stream",
          "name": "stdout",
          "text": [
            "1/1 [==============================] - 0s 99ms/step\n"
          ]
        },
        {
          "output_type": "execute_result",
          "data": {
            "text/plain": [
              "array([[ True],\n",
              "       [ True],\n",
              "       [ True],\n",
              "       [ True],\n",
              "       [ True],\n",
              "       [ True],\n",
              "       [ True],\n",
              "       [ True],\n",
              "       [ True],\n",
              "       [ True]])"
            ]
          },
          "metadata": {},
          "execution_count": 71
        }
      ]
    },
    {
      "cell_type": "code",
      "source": [
        "mae(y_true = y_test, y_pred = model_2_preds) == mae(y_true=y_test, y_pred=loaded_h5_model_preds)"
      ],
      "metadata": {
        "colab": {
          "base_uri": "https://localhost:8080/"
        },
        "id": "915O3jbSuuKI",
        "outputId": "6793a4f5-af11-46a6-b82b-fc4bf79b6a87"
      },
      "execution_count": 72,
      "outputs": [
        {
          "output_type": "execute_result",
          "data": {
            "text/plain": [
              "<tf.Tensor: shape=(), dtype=bool, numpy=True>"
            ]
          },
          "metadata": {},
          "execution_count": 72
        }
      ]
    },
    {
      "cell_type": "markdown",
      "source": [
        "## Download a model (or any other file) from Google Colab\n",
        "\n",
        "If you want to download your file from Google Colab :\n",
        "1. You can go to the \"files\" tab and right click on the file youre after and click \"upload\".\n",
        "\n",
        "2. Use code\n",
        "\n",
        "3. Save it to Google Drive by connecting Google Drive and copying it there (see 2nd code cell)"
      ],
      "metadata": {
        "id": "QUSC31vrxNpn"
      }
    },
    {
      "cell_type": "code",
      "source": [
        "# Download a file from Google Colab\n",
        "\n",
        "# from google.colab import files\n",
        "# files.download(\"/content/best_model_HDF5_format\")"
      ],
      "metadata": {
        "id": "8TcUW_yr1w_p"
      },
      "execution_count": 73,
      "outputs": []
    },
    {
      "cell_type": "code",
      "source": [
        "# Save a file from Google colab to Google Drive\n",
        "# !cp /content/best_model_HDF5_format(our model path) _____(our folder file aim)"
      ],
      "metadata": {
        "id": "WSgD3o4e7f7p"
      },
      "execution_count": 74,
      "outputs": []
    },
    {
      "cell_type": "markdown",
      "source": [
        "## A Larger Example"
      ],
      "metadata": {
        "id": "CCRi9SjcjVKV"
      }
    },
    {
      "cell_type": "code",
      "source": [
        "# Import requaired libraries\n",
        "import tensorflow as tf\n",
        "import pandas as pd\n",
        "import matplotlib.pyplot as plt"
      ],
      "metadata": {
        "id": "k9TQZSDtjf7m"
      },
      "execution_count": 75,
      "outputs": []
    },
    {
      "cell_type": "code",
      "source": [
        "# Read in the insurance datatset\n",
        "\n",
        "insurance = pd.read_csv(\"https://raw.githubusercontent.com/stedy/Machine-Learning-with-R-datasets/master/insurance.csv\")"
      ],
      "metadata": {
        "id": "BuTf-1pqko1F"
      },
      "execution_count": 76,
      "outputs": []
    },
    {
      "cell_type": "code",
      "source": [
        "insurance.head(10)"
      ],
      "metadata": {
        "colab": {
          "base_uri": "https://localhost:8080/",
          "height": 363
        },
        "id": "7vygpJnClKsv",
        "outputId": "4850c267-8477-40ac-ab72-442e4eb9f123"
      },
      "execution_count": 77,
      "outputs": [
        {
          "output_type": "execute_result",
          "data": {
            "text/plain": [
              "   age     sex     bmi  children smoker     region      charges\n",
              "0   19  female  27.900         0    yes  southwest  16884.92400\n",
              "1   18    male  33.770         1     no  southeast   1725.55230\n",
              "2   28    male  33.000         3     no  southeast   4449.46200\n",
              "3   33    male  22.705         0     no  northwest  21984.47061\n",
              "4   32    male  28.880         0     no  northwest   3866.85520\n",
              "5   31  female  25.740         0     no  southeast   3756.62160\n",
              "6   46  female  33.440         1     no  southeast   8240.58960\n",
              "7   37  female  27.740         3     no  northwest   7281.50560\n",
              "8   37    male  29.830         2     no  northeast   6406.41070\n",
              "9   60  female  25.840         0     no  northwest  28923.13692"
            ],
            "text/html": [
              "\n",
              "  <div id=\"df-7c7cebf3-a5ab-42e1-a960-a239ac288ba1\" class=\"colab-df-container\">\n",
              "    <div>\n",
              "<style scoped>\n",
              "    .dataframe tbody tr th:only-of-type {\n",
              "        vertical-align: middle;\n",
              "    }\n",
              "\n",
              "    .dataframe tbody tr th {\n",
              "        vertical-align: top;\n",
              "    }\n",
              "\n",
              "    .dataframe thead th {\n",
              "        text-align: right;\n",
              "    }\n",
              "</style>\n",
              "<table border=\"1\" class=\"dataframe\">\n",
              "  <thead>\n",
              "    <tr style=\"text-align: right;\">\n",
              "      <th></th>\n",
              "      <th>age</th>\n",
              "      <th>sex</th>\n",
              "      <th>bmi</th>\n",
              "      <th>children</th>\n",
              "      <th>smoker</th>\n",
              "      <th>region</th>\n",
              "      <th>charges</th>\n",
              "    </tr>\n",
              "  </thead>\n",
              "  <tbody>\n",
              "    <tr>\n",
              "      <th>0</th>\n",
              "      <td>19</td>\n",
              "      <td>female</td>\n",
              "      <td>27.900</td>\n",
              "      <td>0</td>\n",
              "      <td>yes</td>\n",
              "      <td>southwest</td>\n",
              "      <td>16884.92400</td>\n",
              "    </tr>\n",
              "    <tr>\n",
              "      <th>1</th>\n",
              "      <td>18</td>\n",
              "      <td>male</td>\n",
              "      <td>33.770</td>\n",
              "      <td>1</td>\n",
              "      <td>no</td>\n",
              "      <td>southeast</td>\n",
              "      <td>1725.55230</td>\n",
              "    </tr>\n",
              "    <tr>\n",
              "      <th>2</th>\n",
              "      <td>28</td>\n",
              "      <td>male</td>\n",
              "      <td>33.000</td>\n",
              "      <td>3</td>\n",
              "      <td>no</td>\n",
              "      <td>southeast</td>\n",
              "      <td>4449.46200</td>\n",
              "    </tr>\n",
              "    <tr>\n",
              "      <th>3</th>\n",
              "      <td>33</td>\n",
              "      <td>male</td>\n",
              "      <td>22.705</td>\n",
              "      <td>0</td>\n",
              "      <td>no</td>\n",
              "      <td>northwest</td>\n",
              "      <td>21984.47061</td>\n",
              "    </tr>\n",
              "    <tr>\n",
              "      <th>4</th>\n",
              "      <td>32</td>\n",
              "      <td>male</td>\n",
              "      <td>28.880</td>\n",
              "      <td>0</td>\n",
              "      <td>no</td>\n",
              "      <td>northwest</td>\n",
              "      <td>3866.85520</td>\n",
              "    </tr>\n",
              "    <tr>\n",
              "      <th>5</th>\n",
              "      <td>31</td>\n",
              "      <td>female</td>\n",
              "      <td>25.740</td>\n",
              "      <td>0</td>\n",
              "      <td>no</td>\n",
              "      <td>southeast</td>\n",
              "      <td>3756.62160</td>\n",
              "    </tr>\n",
              "    <tr>\n",
              "      <th>6</th>\n",
              "      <td>46</td>\n",
              "      <td>female</td>\n",
              "      <td>33.440</td>\n",
              "      <td>1</td>\n",
              "      <td>no</td>\n",
              "      <td>southeast</td>\n",
              "      <td>8240.58960</td>\n",
              "    </tr>\n",
              "    <tr>\n",
              "      <th>7</th>\n",
              "      <td>37</td>\n",
              "      <td>female</td>\n",
              "      <td>27.740</td>\n",
              "      <td>3</td>\n",
              "      <td>no</td>\n",
              "      <td>northwest</td>\n",
              "      <td>7281.50560</td>\n",
              "    </tr>\n",
              "    <tr>\n",
              "      <th>8</th>\n",
              "      <td>37</td>\n",
              "      <td>male</td>\n",
              "      <td>29.830</td>\n",
              "      <td>2</td>\n",
              "      <td>no</td>\n",
              "      <td>northeast</td>\n",
              "      <td>6406.41070</td>\n",
              "    </tr>\n",
              "    <tr>\n",
              "      <th>9</th>\n",
              "      <td>60</td>\n",
              "      <td>female</td>\n",
              "      <td>25.840</td>\n",
              "      <td>0</td>\n",
              "      <td>no</td>\n",
              "      <td>northwest</td>\n",
              "      <td>28923.13692</td>\n",
              "    </tr>\n",
              "  </tbody>\n",
              "</table>\n",
              "</div>\n",
              "    <div class=\"colab-df-buttons\">\n",
              "\n",
              "  <div class=\"colab-df-container\">\n",
              "    <button class=\"colab-df-convert\" onclick=\"convertToInteractive('df-7c7cebf3-a5ab-42e1-a960-a239ac288ba1')\"\n",
              "            title=\"Convert this dataframe to an interactive table.\"\n",
              "            style=\"display:none;\">\n",
              "\n",
              "  <svg xmlns=\"http://www.w3.org/2000/svg\" height=\"24px\" viewBox=\"0 -960 960 960\">\n",
              "    <path d=\"M120-120v-720h720v720H120Zm60-500h600v-160H180v160Zm220 220h160v-160H400v160Zm0 220h160v-160H400v160ZM180-400h160v-160H180v160Zm440 0h160v-160H620v160ZM180-180h160v-160H180v160Zm440 0h160v-160H620v160Z\"/>\n",
              "  </svg>\n",
              "    </button>\n",
              "\n",
              "  <style>\n",
              "    .colab-df-container {\n",
              "      display:flex;\n",
              "      gap: 12px;\n",
              "    }\n",
              "\n",
              "    .colab-df-convert {\n",
              "      background-color: #E8F0FE;\n",
              "      border: none;\n",
              "      border-radius: 50%;\n",
              "      cursor: pointer;\n",
              "      display: none;\n",
              "      fill: #1967D2;\n",
              "      height: 32px;\n",
              "      padding: 0 0 0 0;\n",
              "      width: 32px;\n",
              "    }\n",
              "\n",
              "    .colab-df-convert:hover {\n",
              "      background-color: #E2EBFA;\n",
              "      box-shadow: 0px 1px 2px rgba(60, 64, 67, 0.3), 0px 1px 3px 1px rgba(60, 64, 67, 0.15);\n",
              "      fill: #174EA6;\n",
              "    }\n",
              "\n",
              "    .colab-df-buttons div {\n",
              "      margin-bottom: 4px;\n",
              "    }\n",
              "\n",
              "    [theme=dark] .colab-df-convert {\n",
              "      background-color: #3B4455;\n",
              "      fill: #D2E3FC;\n",
              "    }\n",
              "\n",
              "    [theme=dark] .colab-df-convert:hover {\n",
              "      background-color: #434B5C;\n",
              "      box-shadow: 0px 1px 3px 1px rgba(0, 0, 0, 0.15);\n",
              "      filter: drop-shadow(0px 1px 2px rgba(0, 0, 0, 0.3));\n",
              "      fill: #FFFFFF;\n",
              "    }\n",
              "  </style>\n",
              "\n",
              "    <script>\n",
              "      const buttonEl =\n",
              "        document.querySelector('#df-7c7cebf3-a5ab-42e1-a960-a239ac288ba1 button.colab-df-convert');\n",
              "      buttonEl.style.display =\n",
              "        google.colab.kernel.accessAllowed ? 'block' : 'none';\n",
              "\n",
              "      async function convertToInteractive(key) {\n",
              "        const element = document.querySelector('#df-7c7cebf3-a5ab-42e1-a960-a239ac288ba1');\n",
              "        const dataTable =\n",
              "          await google.colab.kernel.invokeFunction('convertToInteractive',\n",
              "                                                    [key], {});\n",
              "        if (!dataTable) return;\n",
              "\n",
              "        const docLinkHtml = 'Like what you see? Visit the ' +\n",
              "          '<a target=\"_blank\" href=https://colab.research.google.com/notebooks/data_table.ipynb>data table notebook</a>'\n",
              "          + ' to learn more about interactive tables.';\n",
              "        element.innerHTML = '';\n",
              "        dataTable['output_type'] = 'display_data';\n",
              "        await google.colab.output.renderOutput(dataTable, element);\n",
              "        const docLink = document.createElement('div');\n",
              "        docLink.innerHTML = docLinkHtml;\n",
              "        element.appendChild(docLink);\n",
              "      }\n",
              "    </script>\n",
              "  </div>\n",
              "\n",
              "\n",
              "<div id=\"df-fe2146c5-e7de-4398-9bc4-35029e3a3795\">\n",
              "  <button class=\"colab-df-quickchart\" onclick=\"quickchart('df-fe2146c5-e7de-4398-9bc4-35029e3a3795')\"\n",
              "            title=\"Suggest charts\"\n",
              "            style=\"display:none;\">\n",
              "\n",
              "<svg xmlns=\"http://www.w3.org/2000/svg\" height=\"24px\"viewBox=\"0 0 24 24\"\n",
              "     width=\"24px\">\n",
              "    <g>\n",
              "        <path d=\"M19 3H5c-1.1 0-2 .9-2 2v14c0 1.1.9 2 2 2h14c1.1 0 2-.9 2-2V5c0-1.1-.9-2-2-2zM9 17H7v-7h2v7zm4 0h-2V7h2v10zm4 0h-2v-4h2v4z\"/>\n",
              "    </g>\n",
              "</svg>\n",
              "  </button>\n",
              "\n",
              "<style>\n",
              "  .colab-df-quickchart {\n",
              "      --bg-color: #E8F0FE;\n",
              "      --fill-color: #1967D2;\n",
              "      --hover-bg-color: #E2EBFA;\n",
              "      --hover-fill-color: #174EA6;\n",
              "      --disabled-fill-color: #AAA;\n",
              "      --disabled-bg-color: #DDD;\n",
              "  }\n",
              "\n",
              "  [theme=dark] .colab-df-quickchart {\n",
              "      --bg-color: #3B4455;\n",
              "      --fill-color: #D2E3FC;\n",
              "      --hover-bg-color: #434B5C;\n",
              "      --hover-fill-color: #FFFFFF;\n",
              "      --disabled-bg-color: #3B4455;\n",
              "      --disabled-fill-color: #666;\n",
              "  }\n",
              "\n",
              "  .colab-df-quickchart {\n",
              "    background-color: var(--bg-color);\n",
              "    border: none;\n",
              "    border-radius: 50%;\n",
              "    cursor: pointer;\n",
              "    display: none;\n",
              "    fill: var(--fill-color);\n",
              "    height: 32px;\n",
              "    padding: 0;\n",
              "    width: 32px;\n",
              "  }\n",
              "\n",
              "  .colab-df-quickchart:hover {\n",
              "    background-color: var(--hover-bg-color);\n",
              "    box-shadow: 0 1px 2px rgba(60, 64, 67, 0.3), 0 1px 3px 1px rgba(60, 64, 67, 0.15);\n",
              "    fill: var(--button-hover-fill-color);\n",
              "  }\n",
              "\n",
              "  .colab-df-quickchart-complete:disabled,\n",
              "  .colab-df-quickchart-complete:disabled:hover {\n",
              "    background-color: var(--disabled-bg-color);\n",
              "    fill: var(--disabled-fill-color);\n",
              "    box-shadow: none;\n",
              "  }\n",
              "\n",
              "  .colab-df-spinner {\n",
              "    border: 2px solid var(--fill-color);\n",
              "    border-color: transparent;\n",
              "    border-bottom-color: var(--fill-color);\n",
              "    animation:\n",
              "      spin 1s steps(1) infinite;\n",
              "  }\n",
              "\n",
              "  @keyframes spin {\n",
              "    0% {\n",
              "      border-color: transparent;\n",
              "      border-bottom-color: var(--fill-color);\n",
              "      border-left-color: var(--fill-color);\n",
              "    }\n",
              "    20% {\n",
              "      border-color: transparent;\n",
              "      border-left-color: var(--fill-color);\n",
              "      border-top-color: var(--fill-color);\n",
              "    }\n",
              "    30% {\n",
              "      border-color: transparent;\n",
              "      border-left-color: var(--fill-color);\n",
              "      border-top-color: var(--fill-color);\n",
              "      border-right-color: var(--fill-color);\n",
              "    }\n",
              "    40% {\n",
              "      border-color: transparent;\n",
              "      border-right-color: var(--fill-color);\n",
              "      border-top-color: var(--fill-color);\n",
              "    }\n",
              "    60% {\n",
              "      border-color: transparent;\n",
              "      border-right-color: var(--fill-color);\n",
              "    }\n",
              "    80% {\n",
              "      border-color: transparent;\n",
              "      border-right-color: var(--fill-color);\n",
              "      border-bottom-color: var(--fill-color);\n",
              "    }\n",
              "    90% {\n",
              "      border-color: transparent;\n",
              "      border-bottom-color: var(--fill-color);\n",
              "    }\n",
              "  }\n",
              "</style>\n",
              "\n",
              "  <script>\n",
              "    async function quickchart(key) {\n",
              "      const quickchartButtonEl =\n",
              "        document.querySelector('#' + key + ' button');\n",
              "      quickchartButtonEl.disabled = true;  // To prevent multiple clicks.\n",
              "      quickchartButtonEl.classList.add('colab-df-spinner');\n",
              "      try {\n",
              "        const charts = await google.colab.kernel.invokeFunction(\n",
              "            'suggestCharts', [key], {});\n",
              "      } catch (error) {\n",
              "        console.error('Error during call to suggestCharts:', error);\n",
              "      }\n",
              "      quickchartButtonEl.classList.remove('colab-df-spinner');\n",
              "      quickchartButtonEl.classList.add('colab-df-quickchart-complete');\n",
              "    }\n",
              "    (() => {\n",
              "      let quickchartButtonEl =\n",
              "        document.querySelector('#df-fe2146c5-e7de-4398-9bc4-35029e3a3795 button');\n",
              "      quickchartButtonEl.style.display =\n",
              "        google.colab.kernel.accessAllowed ? 'block' : 'none';\n",
              "    })();\n",
              "  </script>\n",
              "</div>\n",
              "    </div>\n",
              "  </div>\n"
            ],
            "application/vnd.google.colaboratory.intrinsic+json": {
              "type": "dataframe",
              "variable_name": "insurance",
              "summary": "{\n  \"name\": \"insurance\",\n  \"rows\": 1338,\n  \"fields\": [\n    {\n      \"column\": \"age\",\n      \"properties\": {\n        \"dtype\": \"number\",\n        \"std\": 14,\n        \"min\": 18,\n        \"max\": 64,\n        \"num_unique_values\": 47,\n        \"samples\": [\n          21,\n          45,\n          36\n        ],\n        \"semantic_type\": \"\",\n        \"description\": \"\"\n      }\n    },\n    {\n      \"column\": \"sex\",\n      \"properties\": {\n        \"dtype\": \"category\",\n        \"num_unique_values\": 2,\n        \"samples\": [\n          \"male\",\n          \"female\"\n        ],\n        \"semantic_type\": \"\",\n        \"description\": \"\"\n      }\n    },\n    {\n      \"column\": \"bmi\",\n      \"properties\": {\n        \"dtype\": \"number\",\n        \"std\": 6.098186911679014,\n        \"min\": 15.96,\n        \"max\": 53.13,\n        \"num_unique_values\": 548,\n        \"samples\": [\n          23.18,\n          26.885\n        ],\n        \"semantic_type\": \"\",\n        \"description\": \"\"\n      }\n    },\n    {\n      \"column\": \"children\",\n      \"properties\": {\n        \"dtype\": \"number\",\n        \"std\": 1,\n        \"min\": 0,\n        \"max\": 5,\n        \"num_unique_values\": 6,\n        \"samples\": [\n          0,\n          1\n        ],\n        \"semantic_type\": \"\",\n        \"description\": \"\"\n      }\n    },\n    {\n      \"column\": \"smoker\",\n      \"properties\": {\n        \"dtype\": \"category\",\n        \"num_unique_values\": 2,\n        \"samples\": [\n          \"no\",\n          \"yes\"\n        ],\n        \"semantic_type\": \"\",\n        \"description\": \"\"\n      }\n    },\n    {\n      \"column\": \"region\",\n      \"properties\": {\n        \"dtype\": \"category\",\n        \"num_unique_values\": 4,\n        \"samples\": [\n          \"southeast\",\n          \"northeast\"\n        ],\n        \"semantic_type\": \"\",\n        \"description\": \"\"\n      }\n    },\n    {\n      \"column\": \"charges\",\n      \"properties\": {\n        \"dtype\": \"number\",\n        \"std\": 12110.011236694001,\n        \"min\": 1121.8739,\n        \"max\": 63770.42801,\n        \"num_unique_values\": 1337,\n        \"samples\": [\n          8688.85885,\n          5708.867\n        ],\n        \"semantic_type\": \"\",\n        \"description\": \"\"\n      }\n    }\n  ]\n}"
            }
          },
          "metadata": {},
          "execution_count": 77
        }
      ]
    },
    {
      "cell_type": "code",
      "source": [
        "insurance[\"sex\"]"
      ],
      "metadata": {
        "colab": {
          "base_uri": "https://localhost:8080/"
        },
        "id": "7AGioTdJneGl",
        "outputId": "90d77b71-daf7-4a3f-d461-cd32dc346d2f"
      },
      "execution_count": 78,
      "outputs": [
        {
          "output_type": "execute_result",
          "data": {
            "text/plain": [
              "0       female\n",
              "1         male\n",
              "2         male\n",
              "3         male\n",
              "4         male\n",
              "         ...  \n",
              "1333      male\n",
              "1334    female\n",
              "1335    female\n",
              "1336    female\n",
              "1337    female\n",
              "Name: sex, Length: 1338, dtype: object"
            ]
          },
          "metadata": {},
          "execution_count": 78
        }
      ]
    },
    {
      "cell_type": "code",
      "source": [
        "insurance[\"age\"]"
      ],
      "metadata": {
        "colab": {
          "base_uri": "https://localhost:8080/"
        },
        "id": "VeNCha2CnqMZ",
        "outputId": "7803e5b3-2203-4306-c198-93a2a9cb8e78"
      },
      "execution_count": 79,
      "outputs": [
        {
          "output_type": "execute_result",
          "data": {
            "text/plain": [
              "0       19\n",
              "1       18\n",
              "2       28\n",
              "3       33\n",
              "4       32\n",
              "        ..\n",
              "1333    50\n",
              "1334    18\n",
              "1335    18\n",
              "1336    21\n",
              "1337    61\n",
              "Name: age, Length: 1338, dtype: int64"
            ]
          },
          "metadata": {},
          "execution_count": 79
        }
      ]
    },
    {
      "cell_type": "code",
      "source": [
        "# OneHot endcode for our non numerical type but using pandas(automaticly)\n",
        "insurance_one_hot = pd.get_dummies(insurance)\n",
        "insurance_one_hot.head()"
      ],
      "metadata": {
        "colab": {
          "base_uri": "https://localhost:8080/",
          "height": 206
        },
        "id": "bGJOoiQ6ns9m",
        "outputId": "7df84362-a7bd-45f5-8af6-fc4ffa1a0b0f"
      },
      "execution_count": 80,
      "outputs": [
        {
          "output_type": "execute_result",
          "data": {
            "text/plain": [
              "   age     bmi  children      charges  sex_female  sex_male  smoker_no  \\\n",
              "0   19  27.900         0  16884.92400           1         0          0   \n",
              "1   18  33.770         1   1725.55230           0         1          1   \n",
              "2   28  33.000         3   4449.46200           0         1          1   \n",
              "3   33  22.705         0  21984.47061           0         1          1   \n",
              "4   32  28.880         0   3866.85520           0         1          1   \n",
              "\n",
              "   smoker_yes  region_northeast  region_northwest  region_southeast  \\\n",
              "0           1                 0                 0                 0   \n",
              "1           0                 0                 0                 1   \n",
              "2           0                 0                 0                 1   \n",
              "3           0                 0                 1                 0   \n",
              "4           0                 0                 1                 0   \n",
              "\n",
              "   region_southwest  \n",
              "0                 1  \n",
              "1                 0  \n",
              "2                 0  \n",
              "3                 0  \n",
              "4                 0  "
            ],
            "text/html": [
              "\n",
              "  <div id=\"df-d2a231fd-1fe0-4c46-a8de-51b80d34b167\" class=\"colab-df-container\">\n",
              "    <div>\n",
              "<style scoped>\n",
              "    .dataframe tbody tr th:only-of-type {\n",
              "        vertical-align: middle;\n",
              "    }\n",
              "\n",
              "    .dataframe tbody tr th {\n",
              "        vertical-align: top;\n",
              "    }\n",
              "\n",
              "    .dataframe thead th {\n",
              "        text-align: right;\n",
              "    }\n",
              "</style>\n",
              "<table border=\"1\" class=\"dataframe\">\n",
              "  <thead>\n",
              "    <tr style=\"text-align: right;\">\n",
              "      <th></th>\n",
              "      <th>age</th>\n",
              "      <th>bmi</th>\n",
              "      <th>children</th>\n",
              "      <th>charges</th>\n",
              "      <th>sex_female</th>\n",
              "      <th>sex_male</th>\n",
              "      <th>smoker_no</th>\n",
              "      <th>smoker_yes</th>\n",
              "      <th>region_northeast</th>\n",
              "      <th>region_northwest</th>\n",
              "      <th>region_southeast</th>\n",
              "      <th>region_southwest</th>\n",
              "    </tr>\n",
              "  </thead>\n",
              "  <tbody>\n",
              "    <tr>\n",
              "      <th>0</th>\n",
              "      <td>19</td>\n",
              "      <td>27.900</td>\n",
              "      <td>0</td>\n",
              "      <td>16884.92400</td>\n",
              "      <td>1</td>\n",
              "      <td>0</td>\n",
              "      <td>0</td>\n",
              "      <td>1</td>\n",
              "      <td>0</td>\n",
              "      <td>0</td>\n",
              "      <td>0</td>\n",
              "      <td>1</td>\n",
              "    </tr>\n",
              "    <tr>\n",
              "      <th>1</th>\n",
              "      <td>18</td>\n",
              "      <td>33.770</td>\n",
              "      <td>1</td>\n",
              "      <td>1725.55230</td>\n",
              "      <td>0</td>\n",
              "      <td>1</td>\n",
              "      <td>1</td>\n",
              "      <td>0</td>\n",
              "      <td>0</td>\n",
              "      <td>0</td>\n",
              "      <td>1</td>\n",
              "      <td>0</td>\n",
              "    </tr>\n",
              "    <tr>\n",
              "      <th>2</th>\n",
              "      <td>28</td>\n",
              "      <td>33.000</td>\n",
              "      <td>3</td>\n",
              "      <td>4449.46200</td>\n",
              "      <td>0</td>\n",
              "      <td>1</td>\n",
              "      <td>1</td>\n",
              "      <td>0</td>\n",
              "      <td>0</td>\n",
              "      <td>0</td>\n",
              "      <td>1</td>\n",
              "      <td>0</td>\n",
              "    </tr>\n",
              "    <tr>\n",
              "      <th>3</th>\n",
              "      <td>33</td>\n",
              "      <td>22.705</td>\n",
              "      <td>0</td>\n",
              "      <td>21984.47061</td>\n",
              "      <td>0</td>\n",
              "      <td>1</td>\n",
              "      <td>1</td>\n",
              "      <td>0</td>\n",
              "      <td>0</td>\n",
              "      <td>1</td>\n",
              "      <td>0</td>\n",
              "      <td>0</td>\n",
              "    </tr>\n",
              "    <tr>\n",
              "      <th>4</th>\n",
              "      <td>32</td>\n",
              "      <td>28.880</td>\n",
              "      <td>0</td>\n",
              "      <td>3866.85520</td>\n",
              "      <td>0</td>\n",
              "      <td>1</td>\n",
              "      <td>1</td>\n",
              "      <td>0</td>\n",
              "      <td>0</td>\n",
              "      <td>1</td>\n",
              "      <td>0</td>\n",
              "      <td>0</td>\n",
              "    </tr>\n",
              "  </tbody>\n",
              "</table>\n",
              "</div>\n",
              "    <div class=\"colab-df-buttons\">\n",
              "\n",
              "  <div class=\"colab-df-container\">\n",
              "    <button class=\"colab-df-convert\" onclick=\"convertToInteractive('df-d2a231fd-1fe0-4c46-a8de-51b80d34b167')\"\n",
              "            title=\"Convert this dataframe to an interactive table.\"\n",
              "            style=\"display:none;\">\n",
              "\n",
              "  <svg xmlns=\"http://www.w3.org/2000/svg\" height=\"24px\" viewBox=\"0 -960 960 960\">\n",
              "    <path d=\"M120-120v-720h720v720H120Zm60-500h600v-160H180v160Zm220 220h160v-160H400v160Zm0 220h160v-160H400v160ZM180-400h160v-160H180v160Zm440 0h160v-160H620v160ZM180-180h160v-160H180v160Zm440 0h160v-160H620v160Z\"/>\n",
              "  </svg>\n",
              "    </button>\n",
              "\n",
              "  <style>\n",
              "    .colab-df-container {\n",
              "      display:flex;\n",
              "      gap: 12px;\n",
              "    }\n",
              "\n",
              "    .colab-df-convert {\n",
              "      background-color: #E8F0FE;\n",
              "      border: none;\n",
              "      border-radius: 50%;\n",
              "      cursor: pointer;\n",
              "      display: none;\n",
              "      fill: #1967D2;\n",
              "      height: 32px;\n",
              "      padding: 0 0 0 0;\n",
              "      width: 32px;\n",
              "    }\n",
              "\n",
              "    .colab-df-convert:hover {\n",
              "      background-color: #E2EBFA;\n",
              "      box-shadow: 0px 1px 2px rgba(60, 64, 67, 0.3), 0px 1px 3px 1px rgba(60, 64, 67, 0.15);\n",
              "      fill: #174EA6;\n",
              "    }\n",
              "\n",
              "    .colab-df-buttons div {\n",
              "      margin-bottom: 4px;\n",
              "    }\n",
              "\n",
              "    [theme=dark] .colab-df-convert {\n",
              "      background-color: #3B4455;\n",
              "      fill: #D2E3FC;\n",
              "    }\n",
              "\n",
              "    [theme=dark] .colab-df-convert:hover {\n",
              "      background-color: #434B5C;\n",
              "      box-shadow: 0px 1px 3px 1px rgba(0, 0, 0, 0.15);\n",
              "      filter: drop-shadow(0px 1px 2px rgba(0, 0, 0, 0.3));\n",
              "      fill: #FFFFFF;\n",
              "    }\n",
              "  </style>\n",
              "\n",
              "    <script>\n",
              "      const buttonEl =\n",
              "        document.querySelector('#df-d2a231fd-1fe0-4c46-a8de-51b80d34b167 button.colab-df-convert');\n",
              "      buttonEl.style.display =\n",
              "        google.colab.kernel.accessAllowed ? 'block' : 'none';\n",
              "\n",
              "      async function convertToInteractive(key) {\n",
              "        const element = document.querySelector('#df-d2a231fd-1fe0-4c46-a8de-51b80d34b167');\n",
              "        const dataTable =\n",
              "          await google.colab.kernel.invokeFunction('convertToInteractive',\n",
              "                                                    [key], {});\n",
              "        if (!dataTable) return;\n",
              "\n",
              "        const docLinkHtml = 'Like what you see? Visit the ' +\n",
              "          '<a target=\"_blank\" href=https://colab.research.google.com/notebooks/data_table.ipynb>data table notebook</a>'\n",
              "          + ' to learn more about interactive tables.';\n",
              "        element.innerHTML = '';\n",
              "        dataTable['output_type'] = 'display_data';\n",
              "        await google.colab.output.renderOutput(dataTable, element);\n",
              "        const docLink = document.createElement('div');\n",
              "        docLink.innerHTML = docLinkHtml;\n",
              "        element.appendChild(docLink);\n",
              "      }\n",
              "    </script>\n",
              "  </div>\n",
              "\n",
              "\n",
              "<div id=\"df-18a3de3f-ac12-41ac-91cd-06b651c87efc\">\n",
              "  <button class=\"colab-df-quickchart\" onclick=\"quickchart('df-18a3de3f-ac12-41ac-91cd-06b651c87efc')\"\n",
              "            title=\"Suggest charts\"\n",
              "            style=\"display:none;\">\n",
              "\n",
              "<svg xmlns=\"http://www.w3.org/2000/svg\" height=\"24px\"viewBox=\"0 0 24 24\"\n",
              "     width=\"24px\">\n",
              "    <g>\n",
              "        <path d=\"M19 3H5c-1.1 0-2 .9-2 2v14c0 1.1.9 2 2 2h14c1.1 0 2-.9 2-2V5c0-1.1-.9-2-2-2zM9 17H7v-7h2v7zm4 0h-2V7h2v10zm4 0h-2v-4h2v4z\"/>\n",
              "    </g>\n",
              "</svg>\n",
              "  </button>\n",
              "\n",
              "<style>\n",
              "  .colab-df-quickchart {\n",
              "      --bg-color: #E8F0FE;\n",
              "      --fill-color: #1967D2;\n",
              "      --hover-bg-color: #E2EBFA;\n",
              "      --hover-fill-color: #174EA6;\n",
              "      --disabled-fill-color: #AAA;\n",
              "      --disabled-bg-color: #DDD;\n",
              "  }\n",
              "\n",
              "  [theme=dark] .colab-df-quickchart {\n",
              "      --bg-color: #3B4455;\n",
              "      --fill-color: #D2E3FC;\n",
              "      --hover-bg-color: #434B5C;\n",
              "      --hover-fill-color: #FFFFFF;\n",
              "      --disabled-bg-color: #3B4455;\n",
              "      --disabled-fill-color: #666;\n",
              "  }\n",
              "\n",
              "  .colab-df-quickchart {\n",
              "    background-color: var(--bg-color);\n",
              "    border: none;\n",
              "    border-radius: 50%;\n",
              "    cursor: pointer;\n",
              "    display: none;\n",
              "    fill: var(--fill-color);\n",
              "    height: 32px;\n",
              "    padding: 0;\n",
              "    width: 32px;\n",
              "  }\n",
              "\n",
              "  .colab-df-quickchart:hover {\n",
              "    background-color: var(--hover-bg-color);\n",
              "    box-shadow: 0 1px 2px rgba(60, 64, 67, 0.3), 0 1px 3px 1px rgba(60, 64, 67, 0.15);\n",
              "    fill: var(--button-hover-fill-color);\n",
              "  }\n",
              "\n",
              "  .colab-df-quickchart-complete:disabled,\n",
              "  .colab-df-quickchart-complete:disabled:hover {\n",
              "    background-color: var(--disabled-bg-color);\n",
              "    fill: var(--disabled-fill-color);\n",
              "    box-shadow: none;\n",
              "  }\n",
              "\n",
              "  .colab-df-spinner {\n",
              "    border: 2px solid var(--fill-color);\n",
              "    border-color: transparent;\n",
              "    border-bottom-color: var(--fill-color);\n",
              "    animation:\n",
              "      spin 1s steps(1) infinite;\n",
              "  }\n",
              "\n",
              "  @keyframes spin {\n",
              "    0% {\n",
              "      border-color: transparent;\n",
              "      border-bottom-color: var(--fill-color);\n",
              "      border-left-color: var(--fill-color);\n",
              "    }\n",
              "    20% {\n",
              "      border-color: transparent;\n",
              "      border-left-color: var(--fill-color);\n",
              "      border-top-color: var(--fill-color);\n",
              "    }\n",
              "    30% {\n",
              "      border-color: transparent;\n",
              "      border-left-color: var(--fill-color);\n",
              "      border-top-color: var(--fill-color);\n",
              "      border-right-color: var(--fill-color);\n",
              "    }\n",
              "    40% {\n",
              "      border-color: transparent;\n",
              "      border-right-color: var(--fill-color);\n",
              "      border-top-color: var(--fill-color);\n",
              "    }\n",
              "    60% {\n",
              "      border-color: transparent;\n",
              "      border-right-color: var(--fill-color);\n",
              "    }\n",
              "    80% {\n",
              "      border-color: transparent;\n",
              "      border-right-color: var(--fill-color);\n",
              "      border-bottom-color: var(--fill-color);\n",
              "    }\n",
              "    90% {\n",
              "      border-color: transparent;\n",
              "      border-bottom-color: var(--fill-color);\n",
              "    }\n",
              "  }\n",
              "</style>\n",
              "\n",
              "  <script>\n",
              "    async function quickchart(key) {\n",
              "      const quickchartButtonEl =\n",
              "        document.querySelector('#' + key + ' button');\n",
              "      quickchartButtonEl.disabled = true;  // To prevent multiple clicks.\n",
              "      quickchartButtonEl.classList.add('colab-df-spinner');\n",
              "      try {\n",
              "        const charts = await google.colab.kernel.invokeFunction(\n",
              "            'suggestCharts', [key], {});\n",
              "      } catch (error) {\n",
              "        console.error('Error during call to suggestCharts:', error);\n",
              "      }\n",
              "      quickchartButtonEl.classList.remove('colab-df-spinner');\n",
              "      quickchartButtonEl.classList.add('colab-df-quickchart-complete');\n",
              "    }\n",
              "    (() => {\n",
              "      let quickchartButtonEl =\n",
              "        document.querySelector('#df-18a3de3f-ac12-41ac-91cd-06b651c87efc button');\n",
              "      quickchartButtonEl.style.display =\n",
              "        google.colab.kernel.accessAllowed ? 'block' : 'none';\n",
              "    })();\n",
              "  </script>\n",
              "</div>\n",
              "    </div>\n",
              "  </div>\n"
            ],
            "application/vnd.google.colaboratory.intrinsic+json": {
              "type": "dataframe",
              "variable_name": "insurance_one_hot",
              "summary": "{\n  \"name\": \"insurance_one_hot\",\n  \"rows\": 1338,\n  \"fields\": [\n    {\n      \"column\": \"age\",\n      \"properties\": {\n        \"dtype\": \"number\",\n        \"std\": 14,\n        \"min\": 18,\n        \"max\": 64,\n        \"num_unique_values\": 47,\n        \"samples\": [\n          21,\n          45,\n          36\n        ],\n        \"semantic_type\": \"\",\n        \"description\": \"\"\n      }\n    },\n    {\n      \"column\": \"bmi\",\n      \"properties\": {\n        \"dtype\": \"number\",\n        \"std\": 6.098186911679014,\n        \"min\": 15.96,\n        \"max\": 53.13,\n        \"num_unique_values\": 548,\n        \"samples\": [\n          23.18,\n          26.885,\n          29.26\n        ],\n        \"semantic_type\": \"\",\n        \"description\": \"\"\n      }\n    },\n    {\n      \"column\": \"children\",\n      \"properties\": {\n        \"dtype\": \"number\",\n        \"std\": 1,\n        \"min\": 0,\n        \"max\": 5,\n        \"num_unique_values\": 6,\n        \"samples\": [\n          0,\n          1,\n          4\n        ],\n        \"semantic_type\": \"\",\n        \"description\": \"\"\n      }\n    },\n    {\n      \"column\": \"charges\",\n      \"properties\": {\n        \"dtype\": \"number\",\n        \"std\": 12110.011236694001,\n        \"min\": 1121.8739,\n        \"max\": 63770.42801,\n        \"num_unique_values\": 1337,\n        \"samples\": [\n          8688.85885,\n          5708.867,\n          11436.73815\n        ],\n        \"semantic_type\": \"\",\n        \"description\": \"\"\n      }\n    },\n    {\n      \"column\": \"sex_female\",\n      \"properties\": {\n        \"dtype\": \"uint8\",\n        \"num_unique_values\": 2,\n        \"samples\": [\n          0,\n          1\n        ],\n        \"semantic_type\": \"\",\n        \"description\": \"\"\n      }\n    },\n    {\n      \"column\": \"sex_male\",\n      \"properties\": {\n        \"dtype\": \"uint8\",\n        \"num_unique_values\": 2,\n        \"samples\": [\n          1,\n          0\n        ],\n        \"semantic_type\": \"\",\n        \"description\": \"\"\n      }\n    },\n    {\n      \"column\": \"smoker_no\",\n      \"properties\": {\n        \"dtype\": \"uint8\",\n        \"num_unique_values\": 2,\n        \"samples\": [\n          1,\n          0\n        ],\n        \"semantic_type\": \"\",\n        \"description\": \"\"\n      }\n    },\n    {\n      \"column\": \"smoker_yes\",\n      \"properties\": {\n        \"dtype\": \"uint8\",\n        \"num_unique_values\": 2,\n        \"samples\": [\n          0,\n          1\n        ],\n        \"semantic_type\": \"\",\n        \"description\": \"\"\n      }\n    },\n    {\n      \"column\": \"region_northeast\",\n      \"properties\": {\n        \"dtype\": \"uint8\",\n        \"num_unique_values\": 2,\n        \"samples\": [\n          1,\n          0\n        ],\n        \"semantic_type\": \"\",\n        \"description\": \"\"\n      }\n    },\n    {\n      \"column\": \"region_northwest\",\n      \"properties\": {\n        \"dtype\": \"uint8\",\n        \"num_unique_values\": 2,\n        \"samples\": [\n          1,\n          0\n        ],\n        \"semantic_type\": \"\",\n        \"description\": \"\"\n      }\n    },\n    {\n      \"column\": \"region_southeast\",\n      \"properties\": {\n        \"dtype\": \"uint8\",\n        \"num_unique_values\": 2,\n        \"samples\": [\n          1,\n          0\n        ],\n        \"semantic_type\": \"\",\n        \"description\": \"\"\n      }\n    },\n    {\n      \"column\": \"region_southwest\",\n      \"properties\": {\n        \"dtype\": \"uint8\",\n        \"num_unique_values\": 2,\n        \"samples\": [\n          0,\n          1\n        ],\n        \"semantic_type\": \"\",\n        \"description\": \"\"\n      }\n    }\n  ]\n}"
            }
          },
          "metadata": {},
          "execution_count": 80
        }
      ]
    },
    {
      "cell_type": "markdown",
      "source": [
        "### Create X & Y Values (Features and labels)"
      ],
      "metadata": {
        "id": "O2wYeWe3p51_"
      }
    },
    {
      "cell_type": "code",
      "source": [
        "# Create X and Y\n",
        "x = insurance_one_hot.drop(\"charges\", axis=1)\n",
        "y = insurance_one_hot[\"charges\"]"
      ],
      "metadata": {
        "id": "lL96lpLTpqds"
      },
      "execution_count": 81,
      "outputs": []
    },
    {
      "cell_type": "code",
      "source": [
        "# view x\n",
        "x.head()"
      ],
      "metadata": {
        "colab": {
          "base_uri": "https://localhost:8080/",
          "height": 206
        },
        "id": "kg7Hm_PdRVv-",
        "outputId": "787dcc8f-69bc-40f2-9845-3acad36869bf"
      },
      "execution_count": 82,
      "outputs": [
        {
          "output_type": "execute_result",
          "data": {
            "text/plain": [
              "   age     bmi  children  sex_female  sex_male  smoker_no  smoker_yes  \\\n",
              "0   19  27.900         0           1         0          0           1   \n",
              "1   18  33.770         1           0         1          1           0   \n",
              "2   28  33.000         3           0         1          1           0   \n",
              "3   33  22.705         0           0         1          1           0   \n",
              "4   32  28.880         0           0         1          1           0   \n",
              "\n",
              "   region_northeast  region_northwest  region_southeast  region_southwest  \n",
              "0                 0                 0                 0                 1  \n",
              "1                 0                 0                 1                 0  \n",
              "2                 0                 0                 1                 0  \n",
              "3                 0                 1                 0                 0  \n",
              "4                 0                 1                 0                 0  "
            ],
            "text/html": [
              "\n",
              "  <div id=\"df-6d7f4224-9ef3-4ec3-814f-7be6112bd7db\" class=\"colab-df-container\">\n",
              "    <div>\n",
              "<style scoped>\n",
              "    .dataframe tbody tr th:only-of-type {\n",
              "        vertical-align: middle;\n",
              "    }\n",
              "\n",
              "    .dataframe tbody tr th {\n",
              "        vertical-align: top;\n",
              "    }\n",
              "\n",
              "    .dataframe thead th {\n",
              "        text-align: right;\n",
              "    }\n",
              "</style>\n",
              "<table border=\"1\" class=\"dataframe\">\n",
              "  <thead>\n",
              "    <tr style=\"text-align: right;\">\n",
              "      <th></th>\n",
              "      <th>age</th>\n",
              "      <th>bmi</th>\n",
              "      <th>children</th>\n",
              "      <th>sex_female</th>\n",
              "      <th>sex_male</th>\n",
              "      <th>smoker_no</th>\n",
              "      <th>smoker_yes</th>\n",
              "      <th>region_northeast</th>\n",
              "      <th>region_northwest</th>\n",
              "      <th>region_southeast</th>\n",
              "      <th>region_southwest</th>\n",
              "    </tr>\n",
              "  </thead>\n",
              "  <tbody>\n",
              "    <tr>\n",
              "      <th>0</th>\n",
              "      <td>19</td>\n",
              "      <td>27.900</td>\n",
              "      <td>0</td>\n",
              "      <td>1</td>\n",
              "      <td>0</td>\n",
              "      <td>0</td>\n",
              "      <td>1</td>\n",
              "      <td>0</td>\n",
              "      <td>0</td>\n",
              "      <td>0</td>\n",
              "      <td>1</td>\n",
              "    </tr>\n",
              "    <tr>\n",
              "      <th>1</th>\n",
              "      <td>18</td>\n",
              "      <td>33.770</td>\n",
              "      <td>1</td>\n",
              "      <td>0</td>\n",
              "      <td>1</td>\n",
              "      <td>1</td>\n",
              "      <td>0</td>\n",
              "      <td>0</td>\n",
              "      <td>0</td>\n",
              "      <td>1</td>\n",
              "      <td>0</td>\n",
              "    </tr>\n",
              "    <tr>\n",
              "      <th>2</th>\n",
              "      <td>28</td>\n",
              "      <td>33.000</td>\n",
              "      <td>3</td>\n",
              "      <td>0</td>\n",
              "      <td>1</td>\n",
              "      <td>1</td>\n",
              "      <td>0</td>\n",
              "      <td>0</td>\n",
              "      <td>0</td>\n",
              "      <td>1</td>\n",
              "      <td>0</td>\n",
              "    </tr>\n",
              "    <tr>\n",
              "      <th>3</th>\n",
              "      <td>33</td>\n",
              "      <td>22.705</td>\n",
              "      <td>0</td>\n",
              "      <td>0</td>\n",
              "      <td>1</td>\n",
              "      <td>1</td>\n",
              "      <td>0</td>\n",
              "      <td>0</td>\n",
              "      <td>1</td>\n",
              "      <td>0</td>\n",
              "      <td>0</td>\n",
              "    </tr>\n",
              "    <tr>\n",
              "      <th>4</th>\n",
              "      <td>32</td>\n",
              "      <td>28.880</td>\n",
              "      <td>0</td>\n",
              "      <td>0</td>\n",
              "      <td>1</td>\n",
              "      <td>1</td>\n",
              "      <td>0</td>\n",
              "      <td>0</td>\n",
              "      <td>1</td>\n",
              "      <td>0</td>\n",
              "      <td>0</td>\n",
              "    </tr>\n",
              "  </tbody>\n",
              "</table>\n",
              "</div>\n",
              "    <div class=\"colab-df-buttons\">\n",
              "\n",
              "  <div class=\"colab-df-container\">\n",
              "    <button class=\"colab-df-convert\" onclick=\"convertToInteractive('df-6d7f4224-9ef3-4ec3-814f-7be6112bd7db')\"\n",
              "            title=\"Convert this dataframe to an interactive table.\"\n",
              "            style=\"display:none;\">\n",
              "\n",
              "  <svg xmlns=\"http://www.w3.org/2000/svg\" height=\"24px\" viewBox=\"0 -960 960 960\">\n",
              "    <path d=\"M120-120v-720h720v720H120Zm60-500h600v-160H180v160Zm220 220h160v-160H400v160Zm0 220h160v-160H400v160ZM180-400h160v-160H180v160Zm440 0h160v-160H620v160ZM180-180h160v-160H180v160Zm440 0h160v-160H620v160Z\"/>\n",
              "  </svg>\n",
              "    </button>\n",
              "\n",
              "  <style>\n",
              "    .colab-df-container {\n",
              "      display:flex;\n",
              "      gap: 12px;\n",
              "    }\n",
              "\n",
              "    .colab-df-convert {\n",
              "      background-color: #E8F0FE;\n",
              "      border: none;\n",
              "      border-radius: 50%;\n",
              "      cursor: pointer;\n",
              "      display: none;\n",
              "      fill: #1967D2;\n",
              "      height: 32px;\n",
              "      padding: 0 0 0 0;\n",
              "      width: 32px;\n",
              "    }\n",
              "\n",
              "    .colab-df-convert:hover {\n",
              "      background-color: #E2EBFA;\n",
              "      box-shadow: 0px 1px 2px rgba(60, 64, 67, 0.3), 0px 1px 3px 1px rgba(60, 64, 67, 0.15);\n",
              "      fill: #174EA6;\n",
              "    }\n",
              "\n",
              "    .colab-df-buttons div {\n",
              "      margin-bottom: 4px;\n",
              "    }\n",
              "\n",
              "    [theme=dark] .colab-df-convert {\n",
              "      background-color: #3B4455;\n",
              "      fill: #D2E3FC;\n",
              "    }\n",
              "\n",
              "    [theme=dark] .colab-df-convert:hover {\n",
              "      background-color: #434B5C;\n",
              "      box-shadow: 0px 1px 3px 1px rgba(0, 0, 0, 0.15);\n",
              "      filter: drop-shadow(0px 1px 2px rgba(0, 0, 0, 0.3));\n",
              "      fill: #FFFFFF;\n",
              "    }\n",
              "  </style>\n",
              "\n",
              "    <script>\n",
              "      const buttonEl =\n",
              "        document.querySelector('#df-6d7f4224-9ef3-4ec3-814f-7be6112bd7db button.colab-df-convert');\n",
              "      buttonEl.style.display =\n",
              "        google.colab.kernel.accessAllowed ? 'block' : 'none';\n",
              "\n",
              "      async function convertToInteractive(key) {\n",
              "        const element = document.querySelector('#df-6d7f4224-9ef3-4ec3-814f-7be6112bd7db');\n",
              "        const dataTable =\n",
              "          await google.colab.kernel.invokeFunction('convertToInteractive',\n",
              "                                                    [key], {});\n",
              "        if (!dataTable) return;\n",
              "\n",
              "        const docLinkHtml = 'Like what you see? Visit the ' +\n",
              "          '<a target=\"_blank\" href=https://colab.research.google.com/notebooks/data_table.ipynb>data table notebook</a>'\n",
              "          + ' to learn more about interactive tables.';\n",
              "        element.innerHTML = '';\n",
              "        dataTable['output_type'] = 'display_data';\n",
              "        await google.colab.output.renderOutput(dataTable, element);\n",
              "        const docLink = document.createElement('div');\n",
              "        docLink.innerHTML = docLinkHtml;\n",
              "        element.appendChild(docLink);\n",
              "      }\n",
              "    </script>\n",
              "  </div>\n",
              "\n",
              "\n",
              "<div id=\"df-86db3318-018b-4e7b-8c76-c21500f17e4c\">\n",
              "  <button class=\"colab-df-quickchart\" onclick=\"quickchart('df-86db3318-018b-4e7b-8c76-c21500f17e4c')\"\n",
              "            title=\"Suggest charts\"\n",
              "            style=\"display:none;\">\n",
              "\n",
              "<svg xmlns=\"http://www.w3.org/2000/svg\" height=\"24px\"viewBox=\"0 0 24 24\"\n",
              "     width=\"24px\">\n",
              "    <g>\n",
              "        <path d=\"M19 3H5c-1.1 0-2 .9-2 2v14c0 1.1.9 2 2 2h14c1.1 0 2-.9 2-2V5c0-1.1-.9-2-2-2zM9 17H7v-7h2v7zm4 0h-2V7h2v10zm4 0h-2v-4h2v4z\"/>\n",
              "    </g>\n",
              "</svg>\n",
              "  </button>\n",
              "\n",
              "<style>\n",
              "  .colab-df-quickchart {\n",
              "      --bg-color: #E8F0FE;\n",
              "      --fill-color: #1967D2;\n",
              "      --hover-bg-color: #E2EBFA;\n",
              "      --hover-fill-color: #174EA6;\n",
              "      --disabled-fill-color: #AAA;\n",
              "      --disabled-bg-color: #DDD;\n",
              "  }\n",
              "\n",
              "  [theme=dark] .colab-df-quickchart {\n",
              "      --bg-color: #3B4455;\n",
              "      --fill-color: #D2E3FC;\n",
              "      --hover-bg-color: #434B5C;\n",
              "      --hover-fill-color: #FFFFFF;\n",
              "      --disabled-bg-color: #3B4455;\n",
              "      --disabled-fill-color: #666;\n",
              "  }\n",
              "\n",
              "  .colab-df-quickchart {\n",
              "    background-color: var(--bg-color);\n",
              "    border: none;\n",
              "    border-radius: 50%;\n",
              "    cursor: pointer;\n",
              "    display: none;\n",
              "    fill: var(--fill-color);\n",
              "    height: 32px;\n",
              "    padding: 0;\n",
              "    width: 32px;\n",
              "  }\n",
              "\n",
              "  .colab-df-quickchart:hover {\n",
              "    background-color: var(--hover-bg-color);\n",
              "    box-shadow: 0 1px 2px rgba(60, 64, 67, 0.3), 0 1px 3px 1px rgba(60, 64, 67, 0.15);\n",
              "    fill: var(--button-hover-fill-color);\n",
              "  }\n",
              "\n",
              "  .colab-df-quickchart-complete:disabled,\n",
              "  .colab-df-quickchart-complete:disabled:hover {\n",
              "    background-color: var(--disabled-bg-color);\n",
              "    fill: var(--disabled-fill-color);\n",
              "    box-shadow: none;\n",
              "  }\n",
              "\n",
              "  .colab-df-spinner {\n",
              "    border: 2px solid var(--fill-color);\n",
              "    border-color: transparent;\n",
              "    border-bottom-color: var(--fill-color);\n",
              "    animation:\n",
              "      spin 1s steps(1) infinite;\n",
              "  }\n",
              "\n",
              "  @keyframes spin {\n",
              "    0% {\n",
              "      border-color: transparent;\n",
              "      border-bottom-color: var(--fill-color);\n",
              "      border-left-color: var(--fill-color);\n",
              "    }\n",
              "    20% {\n",
              "      border-color: transparent;\n",
              "      border-left-color: var(--fill-color);\n",
              "      border-top-color: var(--fill-color);\n",
              "    }\n",
              "    30% {\n",
              "      border-color: transparent;\n",
              "      border-left-color: var(--fill-color);\n",
              "      border-top-color: var(--fill-color);\n",
              "      border-right-color: var(--fill-color);\n",
              "    }\n",
              "    40% {\n",
              "      border-color: transparent;\n",
              "      border-right-color: var(--fill-color);\n",
              "      border-top-color: var(--fill-color);\n",
              "    }\n",
              "    60% {\n",
              "      border-color: transparent;\n",
              "      border-right-color: var(--fill-color);\n",
              "    }\n",
              "    80% {\n",
              "      border-color: transparent;\n",
              "      border-right-color: var(--fill-color);\n",
              "      border-bottom-color: var(--fill-color);\n",
              "    }\n",
              "    90% {\n",
              "      border-color: transparent;\n",
              "      border-bottom-color: var(--fill-color);\n",
              "    }\n",
              "  }\n",
              "</style>\n",
              "\n",
              "  <script>\n",
              "    async function quickchart(key) {\n",
              "      const quickchartButtonEl =\n",
              "        document.querySelector('#' + key + ' button');\n",
              "      quickchartButtonEl.disabled = true;  // To prevent multiple clicks.\n",
              "      quickchartButtonEl.classList.add('colab-df-spinner');\n",
              "      try {\n",
              "        const charts = await google.colab.kernel.invokeFunction(\n",
              "            'suggestCharts', [key], {});\n",
              "      } catch (error) {\n",
              "        console.error('Error during call to suggestCharts:', error);\n",
              "      }\n",
              "      quickchartButtonEl.classList.remove('colab-df-spinner');\n",
              "      quickchartButtonEl.classList.add('colab-df-quickchart-complete');\n",
              "    }\n",
              "    (() => {\n",
              "      let quickchartButtonEl =\n",
              "        document.querySelector('#df-86db3318-018b-4e7b-8c76-c21500f17e4c button');\n",
              "      quickchartButtonEl.style.display =\n",
              "        google.colab.kernel.accessAllowed ? 'block' : 'none';\n",
              "    })();\n",
              "  </script>\n",
              "</div>\n",
              "    </div>\n",
              "  </div>\n"
            ],
            "application/vnd.google.colaboratory.intrinsic+json": {
              "type": "dataframe",
              "variable_name": "x",
              "summary": "{\n  \"name\": \"x\",\n  \"rows\": 1338,\n  \"fields\": [\n    {\n      \"column\": \"age\",\n      \"properties\": {\n        \"dtype\": \"number\",\n        \"std\": 14,\n        \"min\": 18,\n        \"max\": 64,\n        \"num_unique_values\": 47,\n        \"samples\": [\n          21,\n          45,\n          36\n        ],\n        \"semantic_type\": \"\",\n        \"description\": \"\"\n      }\n    },\n    {\n      \"column\": \"bmi\",\n      \"properties\": {\n        \"dtype\": \"number\",\n        \"std\": 6.098186911679014,\n        \"min\": 15.96,\n        \"max\": 53.13,\n        \"num_unique_values\": 548,\n        \"samples\": [\n          23.18,\n          26.885,\n          29.26\n        ],\n        \"semantic_type\": \"\",\n        \"description\": \"\"\n      }\n    },\n    {\n      \"column\": \"children\",\n      \"properties\": {\n        \"dtype\": \"number\",\n        \"std\": 1,\n        \"min\": 0,\n        \"max\": 5,\n        \"num_unique_values\": 6,\n        \"samples\": [\n          0,\n          1,\n          4\n        ],\n        \"semantic_type\": \"\",\n        \"description\": \"\"\n      }\n    },\n    {\n      \"column\": \"sex_female\",\n      \"properties\": {\n        \"dtype\": \"uint8\",\n        \"num_unique_values\": 2,\n        \"samples\": [\n          0,\n          1\n        ],\n        \"semantic_type\": \"\",\n        \"description\": \"\"\n      }\n    },\n    {\n      \"column\": \"sex_male\",\n      \"properties\": {\n        \"dtype\": \"uint8\",\n        \"num_unique_values\": 2,\n        \"samples\": [\n          1,\n          0\n        ],\n        \"semantic_type\": \"\",\n        \"description\": \"\"\n      }\n    },\n    {\n      \"column\": \"smoker_no\",\n      \"properties\": {\n        \"dtype\": \"uint8\",\n        \"num_unique_values\": 2,\n        \"samples\": [\n          1,\n          0\n        ],\n        \"semantic_type\": \"\",\n        \"description\": \"\"\n      }\n    },\n    {\n      \"column\": \"smoker_yes\",\n      \"properties\": {\n        \"dtype\": \"uint8\",\n        \"num_unique_values\": 2,\n        \"samples\": [\n          0,\n          1\n        ],\n        \"semantic_type\": \"\",\n        \"description\": \"\"\n      }\n    },\n    {\n      \"column\": \"region_northeast\",\n      \"properties\": {\n        \"dtype\": \"uint8\",\n        \"num_unique_values\": 2,\n        \"samples\": [\n          1,\n          0\n        ],\n        \"semantic_type\": \"\",\n        \"description\": \"\"\n      }\n    },\n    {\n      \"column\": \"region_northwest\",\n      \"properties\": {\n        \"dtype\": \"uint8\",\n        \"num_unique_values\": 2,\n        \"samples\": [\n          1,\n          0\n        ],\n        \"semantic_type\": \"\",\n        \"description\": \"\"\n      }\n    },\n    {\n      \"column\": \"region_southeast\",\n      \"properties\": {\n        \"dtype\": \"uint8\",\n        \"num_unique_values\": 2,\n        \"samples\": [\n          1,\n          0\n        ],\n        \"semantic_type\": \"\",\n        \"description\": \"\"\n      }\n    },\n    {\n      \"column\": \"region_southwest\",\n      \"properties\": {\n        \"dtype\": \"uint8\",\n        \"num_unique_values\": 2,\n        \"samples\": [\n          0,\n          1\n        ],\n        \"semantic_type\": \"\",\n        \"description\": \"\"\n      }\n    }\n  ]\n}"
            }
          },
          "metadata": {},
          "execution_count": 82
        }
      ]
    },
    {
      "cell_type": "code",
      "source": [
        "# view y\n",
        "y.head()"
      ],
      "metadata": {
        "colab": {
          "base_uri": "https://localhost:8080/"
        },
        "id": "sU6fprWLRol2",
        "outputId": "9e90c252-0c28-44ba-b2bb-df41702efcc2"
      },
      "execution_count": 83,
      "outputs": [
        {
          "output_type": "execute_result",
          "data": {
            "text/plain": [
              "0    16884.92400\n",
              "1     1725.55230\n",
              "2     4449.46200\n",
              "3    21984.47061\n",
              "4     3866.85520\n",
              "Name: charges, dtype: float64"
            ]
          },
          "metadata": {},
          "execution_count": 83
        }
      ]
    },
    {
      "cell_type": "code",
      "source": [
        "# Create training and test sets\n",
        "\n",
        "from sklearn.model_selection import train_test_split\n",
        "\n",
        "x_train, x_test, y_train, y_test = train_test_split(x, y,test_size=0.2, random_state=42)\n",
        "len(x), len(x_train), len(x_test)\n"
      ],
      "metadata": {
        "colab": {
          "base_uri": "https://localhost:8080/"
        },
        "id": "S1784bQaXLGY",
        "outputId": "093194e3-dcd3-481f-c7f3-063617289b14"
      },
      "execution_count": 84,
      "outputs": [
        {
          "output_type": "execute_result",
          "data": {
            "text/plain": [
              "(1338, 1070, 268)"
            ]
          },
          "metadata": {},
          "execution_count": 84
        }
      ]
    },
    {
      "cell_type": "code",
      "source": [
        "x_train"
      ],
      "metadata": {
        "colab": {
          "base_uri": "https://localhost:8080/",
          "height": 424
        },
        "id": "d5gYWBwAYb9E",
        "outputId": "03e6eb73-3425-4a7a-9651-f60cbf239e7e"
      },
      "execution_count": 85,
      "outputs": [
        {
          "output_type": "execute_result",
          "data": {
            "text/plain": [
              "      age     bmi  children  sex_female  sex_male  smoker_no  smoker_yes  \\\n",
              "560    46  19.950         2           1         0          1           0   \n",
              "1285   47  24.320         0           1         0          1           0   \n",
              "1142   52  24.860         0           1         0          1           0   \n",
              "969    39  34.320         5           1         0          1           0   \n",
              "486    54  21.470         3           1         0          1           0   \n",
              "...   ...     ...       ...         ...       ...        ...         ...   \n",
              "1095   18  31.350         4           1         0          1           0   \n",
              "1130   39  23.870         5           1         0          1           0   \n",
              "1294   58  25.175         0           0         1          1           0   \n",
              "860    37  47.600         2           1         0          0           1   \n",
              "1126   55  29.900         0           0         1          1           0   \n",
              "\n",
              "      region_northeast  region_northwest  region_southeast  region_southwest  \n",
              "560                  0                 1                 0                 0  \n",
              "1285                 1                 0                 0                 0  \n",
              "1142                 0                 0                 1                 0  \n",
              "969                  0                 0                 1                 0  \n",
              "486                  0                 1                 0                 0  \n",
              "...                ...               ...               ...               ...  \n",
              "1095                 1                 0                 0                 0  \n",
              "1130                 0                 0                 1                 0  \n",
              "1294                 1                 0                 0                 0  \n",
              "860                  0                 0                 0                 1  \n",
              "1126                 0                 0                 0                 1  \n",
              "\n",
              "[1070 rows x 11 columns]"
            ],
            "text/html": [
              "\n",
              "  <div id=\"df-6d845f8f-0201-4b92-bb8a-6a21b62ef3e7\" class=\"colab-df-container\">\n",
              "    <div>\n",
              "<style scoped>\n",
              "    .dataframe tbody tr th:only-of-type {\n",
              "        vertical-align: middle;\n",
              "    }\n",
              "\n",
              "    .dataframe tbody tr th {\n",
              "        vertical-align: top;\n",
              "    }\n",
              "\n",
              "    .dataframe thead th {\n",
              "        text-align: right;\n",
              "    }\n",
              "</style>\n",
              "<table border=\"1\" class=\"dataframe\">\n",
              "  <thead>\n",
              "    <tr style=\"text-align: right;\">\n",
              "      <th></th>\n",
              "      <th>age</th>\n",
              "      <th>bmi</th>\n",
              "      <th>children</th>\n",
              "      <th>sex_female</th>\n",
              "      <th>sex_male</th>\n",
              "      <th>smoker_no</th>\n",
              "      <th>smoker_yes</th>\n",
              "      <th>region_northeast</th>\n",
              "      <th>region_northwest</th>\n",
              "      <th>region_southeast</th>\n",
              "      <th>region_southwest</th>\n",
              "    </tr>\n",
              "  </thead>\n",
              "  <tbody>\n",
              "    <tr>\n",
              "      <th>560</th>\n",
              "      <td>46</td>\n",
              "      <td>19.950</td>\n",
              "      <td>2</td>\n",
              "      <td>1</td>\n",
              "      <td>0</td>\n",
              "      <td>1</td>\n",
              "      <td>0</td>\n",
              "      <td>0</td>\n",
              "      <td>1</td>\n",
              "      <td>0</td>\n",
              "      <td>0</td>\n",
              "    </tr>\n",
              "    <tr>\n",
              "      <th>1285</th>\n",
              "      <td>47</td>\n",
              "      <td>24.320</td>\n",
              "      <td>0</td>\n",
              "      <td>1</td>\n",
              "      <td>0</td>\n",
              "      <td>1</td>\n",
              "      <td>0</td>\n",
              "      <td>1</td>\n",
              "      <td>0</td>\n",
              "      <td>0</td>\n",
              "      <td>0</td>\n",
              "    </tr>\n",
              "    <tr>\n",
              "      <th>1142</th>\n",
              "      <td>52</td>\n",
              "      <td>24.860</td>\n",
              "      <td>0</td>\n",
              "      <td>1</td>\n",
              "      <td>0</td>\n",
              "      <td>1</td>\n",
              "      <td>0</td>\n",
              "      <td>0</td>\n",
              "      <td>0</td>\n",
              "      <td>1</td>\n",
              "      <td>0</td>\n",
              "    </tr>\n",
              "    <tr>\n",
              "      <th>969</th>\n",
              "      <td>39</td>\n",
              "      <td>34.320</td>\n",
              "      <td>5</td>\n",
              "      <td>1</td>\n",
              "      <td>0</td>\n",
              "      <td>1</td>\n",
              "      <td>0</td>\n",
              "      <td>0</td>\n",
              "      <td>0</td>\n",
              "      <td>1</td>\n",
              "      <td>0</td>\n",
              "    </tr>\n",
              "    <tr>\n",
              "      <th>486</th>\n",
              "      <td>54</td>\n",
              "      <td>21.470</td>\n",
              "      <td>3</td>\n",
              "      <td>1</td>\n",
              "      <td>0</td>\n",
              "      <td>1</td>\n",
              "      <td>0</td>\n",
              "      <td>0</td>\n",
              "      <td>1</td>\n",
              "      <td>0</td>\n",
              "      <td>0</td>\n",
              "    </tr>\n",
              "    <tr>\n",
              "      <th>...</th>\n",
              "      <td>...</td>\n",
              "      <td>...</td>\n",
              "      <td>...</td>\n",
              "      <td>...</td>\n",
              "      <td>...</td>\n",
              "      <td>...</td>\n",
              "      <td>...</td>\n",
              "      <td>...</td>\n",
              "      <td>...</td>\n",
              "      <td>...</td>\n",
              "      <td>...</td>\n",
              "    </tr>\n",
              "    <tr>\n",
              "      <th>1095</th>\n",
              "      <td>18</td>\n",
              "      <td>31.350</td>\n",
              "      <td>4</td>\n",
              "      <td>1</td>\n",
              "      <td>0</td>\n",
              "      <td>1</td>\n",
              "      <td>0</td>\n",
              "      <td>1</td>\n",
              "      <td>0</td>\n",
              "      <td>0</td>\n",
              "      <td>0</td>\n",
              "    </tr>\n",
              "    <tr>\n",
              "      <th>1130</th>\n",
              "      <td>39</td>\n",
              "      <td>23.870</td>\n",
              "      <td>5</td>\n",
              "      <td>1</td>\n",
              "      <td>0</td>\n",
              "      <td>1</td>\n",
              "      <td>0</td>\n",
              "      <td>0</td>\n",
              "      <td>0</td>\n",
              "      <td>1</td>\n",
              "      <td>0</td>\n",
              "    </tr>\n",
              "    <tr>\n",
              "      <th>1294</th>\n",
              "      <td>58</td>\n",
              "      <td>25.175</td>\n",
              "      <td>0</td>\n",
              "      <td>0</td>\n",
              "      <td>1</td>\n",
              "      <td>1</td>\n",
              "      <td>0</td>\n",
              "      <td>1</td>\n",
              "      <td>0</td>\n",
              "      <td>0</td>\n",
              "      <td>0</td>\n",
              "    </tr>\n",
              "    <tr>\n",
              "      <th>860</th>\n",
              "      <td>37</td>\n",
              "      <td>47.600</td>\n",
              "      <td>2</td>\n",
              "      <td>1</td>\n",
              "      <td>0</td>\n",
              "      <td>0</td>\n",
              "      <td>1</td>\n",
              "      <td>0</td>\n",
              "      <td>0</td>\n",
              "      <td>0</td>\n",
              "      <td>1</td>\n",
              "    </tr>\n",
              "    <tr>\n",
              "      <th>1126</th>\n",
              "      <td>55</td>\n",
              "      <td>29.900</td>\n",
              "      <td>0</td>\n",
              "      <td>0</td>\n",
              "      <td>1</td>\n",
              "      <td>1</td>\n",
              "      <td>0</td>\n",
              "      <td>0</td>\n",
              "      <td>0</td>\n",
              "      <td>0</td>\n",
              "      <td>1</td>\n",
              "    </tr>\n",
              "  </tbody>\n",
              "</table>\n",
              "<p>1070 rows × 11 columns</p>\n",
              "</div>\n",
              "    <div class=\"colab-df-buttons\">\n",
              "\n",
              "  <div class=\"colab-df-container\">\n",
              "    <button class=\"colab-df-convert\" onclick=\"convertToInteractive('df-6d845f8f-0201-4b92-bb8a-6a21b62ef3e7')\"\n",
              "            title=\"Convert this dataframe to an interactive table.\"\n",
              "            style=\"display:none;\">\n",
              "\n",
              "  <svg xmlns=\"http://www.w3.org/2000/svg\" height=\"24px\" viewBox=\"0 -960 960 960\">\n",
              "    <path d=\"M120-120v-720h720v720H120Zm60-500h600v-160H180v160Zm220 220h160v-160H400v160Zm0 220h160v-160H400v160ZM180-400h160v-160H180v160Zm440 0h160v-160H620v160ZM180-180h160v-160H180v160Zm440 0h160v-160H620v160Z\"/>\n",
              "  </svg>\n",
              "    </button>\n",
              "\n",
              "  <style>\n",
              "    .colab-df-container {\n",
              "      display:flex;\n",
              "      gap: 12px;\n",
              "    }\n",
              "\n",
              "    .colab-df-convert {\n",
              "      background-color: #E8F0FE;\n",
              "      border: none;\n",
              "      border-radius: 50%;\n",
              "      cursor: pointer;\n",
              "      display: none;\n",
              "      fill: #1967D2;\n",
              "      height: 32px;\n",
              "      padding: 0 0 0 0;\n",
              "      width: 32px;\n",
              "    }\n",
              "\n",
              "    .colab-df-convert:hover {\n",
              "      background-color: #E2EBFA;\n",
              "      box-shadow: 0px 1px 2px rgba(60, 64, 67, 0.3), 0px 1px 3px 1px rgba(60, 64, 67, 0.15);\n",
              "      fill: #174EA6;\n",
              "    }\n",
              "\n",
              "    .colab-df-buttons div {\n",
              "      margin-bottom: 4px;\n",
              "    }\n",
              "\n",
              "    [theme=dark] .colab-df-convert {\n",
              "      background-color: #3B4455;\n",
              "      fill: #D2E3FC;\n",
              "    }\n",
              "\n",
              "    [theme=dark] .colab-df-convert:hover {\n",
              "      background-color: #434B5C;\n",
              "      box-shadow: 0px 1px 3px 1px rgba(0, 0, 0, 0.15);\n",
              "      filter: drop-shadow(0px 1px 2px rgba(0, 0, 0, 0.3));\n",
              "      fill: #FFFFFF;\n",
              "    }\n",
              "  </style>\n",
              "\n",
              "    <script>\n",
              "      const buttonEl =\n",
              "        document.querySelector('#df-6d845f8f-0201-4b92-bb8a-6a21b62ef3e7 button.colab-df-convert');\n",
              "      buttonEl.style.display =\n",
              "        google.colab.kernel.accessAllowed ? 'block' : 'none';\n",
              "\n",
              "      async function convertToInteractive(key) {\n",
              "        const element = document.querySelector('#df-6d845f8f-0201-4b92-bb8a-6a21b62ef3e7');\n",
              "        const dataTable =\n",
              "          await google.colab.kernel.invokeFunction('convertToInteractive',\n",
              "                                                    [key], {});\n",
              "        if (!dataTable) return;\n",
              "\n",
              "        const docLinkHtml = 'Like what you see? Visit the ' +\n",
              "          '<a target=\"_blank\" href=https://colab.research.google.com/notebooks/data_table.ipynb>data table notebook</a>'\n",
              "          + ' to learn more about interactive tables.';\n",
              "        element.innerHTML = '';\n",
              "        dataTable['output_type'] = 'display_data';\n",
              "        await google.colab.output.renderOutput(dataTable, element);\n",
              "        const docLink = document.createElement('div');\n",
              "        docLink.innerHTML = docLinkHtml;\n",
              "        element.appendChild(docLink);\n",
              "      }\n",
              "    </script>\n",
              "  </div>\n",
              "\n",
              "\n",
              "<div id=\"df-365d36e5-07a3-443a-9af5-28277db3f652\">\n",
              "  <button class=\"colab-df-quickchart\" onclick=\"quickchart('df-365d36e5-07a3-443a-9af5-28277db3f652')\"\n",
              "            title=\"Suggest charts\"\n",
              "            style=\"display:none;\">\n",
              "\n",
              "<svg xmlns=\"http://www.w3.org/2000/svg\" height=\"24px\"viewBox=\"0 0 24 24\"\n",
              "     width=\"24px\">\n",
              "    <g>\n",
              "        <path d=\"M19 3H5c-1.1 0-2 .9-2 2v14c0 1.1.9 2 2 2h14c1.1 0 2-.9 2-2V5c0-1.1-.9-2-2-2zM9 17H7v-7h2v7zm4 0h-2V7h2v10zm4 0h-2v-4h2v4z\"/>\n",
              "    </g>\n",
              "</svg>\n",
              "  </button>\n",
              "\n",
              "<style>\n",
              "  .colab-df-quickchart {\n",
              "      --bg-color: #E8F0FE;\n",
              "      --fill-color: #1967D2;\n",
              "      --hover-bg-color: #E2EBFA;\n",
              "      --hover-fill-color: #174EA6;\n",
              "      --disabled-fill-color: #AAA;\n",
              "      --disabled-bg-color: #DDD;\n",
              "  }\n",
              "\n",
              "  [theme=dark] .colab-df-quickchart {\n",
              "      --bg-color: #3B4455;\n",
              "      --fill-color: #D2E3FC;\n",
              "      --hover-bg-color: #434B5C;\n",
              "      --hover-fill-color: #FFFFFF;\n",
              "      --disabled-bg-color: #3B4455;\n",
              "      --disabled-fill-color: #666;\n",
              "  }\n",
              "\n",
              "  .colab-df-quickchart {\n",
              "    background-color: var(--bg-color);\n",
              "    border: none;\n",
              "    border-radius: 50%;\n",
              "    cursor: pointer;\n",
              "    display: none;\n",
              "    fill: var(--fill-color);\n",
              "    height: 32px;\n",
              "    padding: 0;\n",
              "    width: 32px;\n",
              "  }\n",
              "\n",
              "  .colab-df-quickchart:hover {\n",
              "    background-color: var(--hover-bg-color);\n",
              "    box-shadow: 0 1px 2px rgba(60, 64, 67, 0.3), 0 1px 3px 1px rgba(60, 64, 67, 0.15);\n",
              "    fill: var(--button-hover-fill-color);\n",
              "  }\n",
              "\n",
              "  .colab-df-quickchart-complete:disabled,\n",
              "  .colab-df-quickchart-complete:disabled:hover {\n",
              "    background-color: var(--disabled-bg-color);\n",
              "    fill: var(--disabled-fill-color);\n",
              "    box-shadow: none;\n",
              "  }\n",
              "\n",
              "  .colab-df-spinner {\n",
              "    border: 2px solid var(--fill-color);\n",
              "    border-color: transparent;\n",
              "    border-bottom-color: var(--fill-color);\n",
              "    animation:\n",
              "      spin 1s steps(1) infinite;\n",
              "  }\n",
              "\n",
              "  @keyframes spin {\n",
              "    0% {\n",
              "      border-color: transparent;\n",
              "      border-bottom-color: var(--fill-color);\n",
              "      border-left-color: var(--fill-color);\n",
              "    }\n",
              "    20% {\n",
              "      border-color: transparent;\n",
              "      border-left-color: var(--fill-color);\n",
              "      border-top-color: var(--fill-color);\n",
              "    }\n",
              "    30% {\n",
              "      border-color: transparent;\n",
              "      border-left-color: var(--fill-color);\n",
              "      border-top-color: var(--fill-color);\n",
              "      border-right-color: var(--fill-color);\n",
              "    }\n",
              "    40% {\n",
              "      border-color: transparent;\n",
              "      border-right-color: var(--fill-color);\n",
              "      border-top-color: var(--fill-color);\n",
              "    }\n",
              "    60% {\n",
              "      border-color: transparent;\n",
              "      border-right-color: var(--fill-color);\n",
              "    }\n",
              "    80% {\n",
              "      border-color: transparent;\n",
              "      border-right-color: var(--fill-color);\n",
              "      border-bottom-color: var(--fill-color);\n",
              "    }\n",
              "    90% {\n",
              "      border-color: transparent;\n",
              "      border-bottom-color: var(--fill-color);\n",
              "    }\n",
              "  }\n",
              "</style>\n",
              "\n",
              "  <script>\n",
              "    async function quickchart(key) {\n",
              "      const quickchartButtonEl =\n",
              "        document.querySelector('#' + key + ' button');\n",
              "      quickchartButtonEl.disabled = true;  // To prevent multiple clicks.\n",
              "      quickchartButtonEl.classList.add('colab-df-spinner');\n",
              "      try {\n",
              "        const charts = await google.colab.kernel.invokeFunction(\n",
              "            'suggestCharts', [key], {});\n",
              "      } catch (error) {\n",
              "        console.error('Error during call to suggestCharts:', error);\n",
              "      }\n",
              "      quickchartButtonEl.classList.remove('colab-df-spinner');\n",
              "      quickchartButtonEl.classList.add('colab-df-quickchart-complete');\n",
              "    }\n",
              "    (() => {\n",
              "      let quickchartButtonEl =\n",
              "        document.querySelector('#df-365d36e5-07a3-443a-9af5-28277db3f652 button');\n",
              "      quickchartButtonEl.style.display =\n",
              "        google.colab.kernel.accessAllowed ? 'block' : 'none';\n",
              "    })();\n",
              "  </script>\n",
              "</div>\n",
              "    </div>\n",
              "  </div>\n"
            ],
            "application/vnd.google.colaboratory.intrinsic+json": {
              "type": "dataframe",
              "variable_name": "x_train",
              "summary": "{\n  \"name\": \"x_train\",\n  \"rows\": 1070,\n  \"fields\": [\n    {\n      \"column\": \"age\",\n      \"properties\": {\n        \"dtype\": \"number\",\n        \"std\": 14,\n        \"min\": 18,\n        \"max\": 64,\n        \"num_unique_values\": 47,\n        \"samples\": [\n          35,\n          33,\n          20\n        ],\n        \"semantic_type\": \"\",\n        \"description\": \"\"\n      }\n    },\n    {\n      \"column\": \"bmi\",\n      \"properties\": {\n        \"dtype\": \"number\",\n        \"std\": 6.043385672727495,\n        \"min\": 15.96,\n        \"max\": 53.13,\n        \"num_unique_values\": 494,\n        \"samples\": [\n          27.3,\n          31.35,\n          21.66\n        ],\n        \"semantic_type\": \"\",\n        \"description\": \"\"\n      }\n    },\n    {\n      \"column\": \"children\",\n      \"properties\": {\n        \"dtype\": \"number\",\n        \"std\": 1,\n        \"min\": 0,\n        \"max\": 5,\n        \"num_unique_values\": 6,\n        \"samples\": [\n          2,\n          0,\n          4\n        ],\n        \"semantic_type\": \"\",\n        \"description\": \"\"\n      }\n    },\n    {\n      \"column\": \"sex_female\",\n      \"properties\": {\n        \"dtype\": \"uint8\",\n        \"num_unique_values\": 2,\n        \"samples\": [\n          0,\n          1\n        ],\n        \"semantic_type\": \"\",\n        \"description\": \"\"\n      }\n    },\n    {\n      \"column\": \"sex_male\",\n      \"properties\": {\n        \"dtype\": \"uint8\",\n        \"num_unique_values\": 2,\n        \"samples\": [\n          1,\n          0\n        ],\n        \"semantic_type\": \"\",\n        \"description\": \"\"\n      }\n    },\n    {\n      \"column\": \"smoker_no\",\n      \"properties\": {\n        \"dtype\": \"uint8\",\n        \"num_unique_values\": 2,\n        \"samples\": [\n          0,\n          1\n        ],\n        \"semantic_type\": \"\",\n        \"description\": \"\"\n      }\n    },\n    {\n      \"column\": \"smoker_yes\",\n      \"properties\": {\n        \"dtype\": \"uint8\",\n        \"num_unique_values\": 2,\n        \"samples\": [\n          1,\n          0\n        ],\n        \"semantic_type\": \"\",\n        \"description\": \"\"\n      }\n    },\n    {\n      \"column\": \"region_northeast\",\n      \"properties\": {\n        \"dtype\": \"uint8\",\n        \"num_unique_values\": 2,\n        \"samples\": [\n          1,\n          0\n        ],\n        \"semantic_type\": \"\",\n        \"description\": \"\"\n      }\n    },\n    {\n      \"column\": \"region_northwest\",\n      \"properties\": {\n        \"dtype\": \"uint8\",\n        \"num_unique_values\": 2,\n        \"samples\": [\n          0,\n          1\n        ],\n        \"semantic_type\": \"\",\n        \"description\": \"\"\n      }\n    },\n    {\n      \"column\": \"region_southeast\",\n      \"properties\": {\n        \"dtype\": \"uint8\",\n        \"num_unique_values\": 2,\n        \"samples\": [\n          1,\n          0\n        ],\n        \"semantic_type\": \"\",\n        \"description\": \"\"\n      }\n    },\n    {\n      \"column\": \"region_southwest\",\n      \"properties\": {\n        \"dtype\": \"uint8\",\n        \"num_unique_values\": 2,\n        \"samples\": [\n          1,\n          0\n        ],\n        \"semantic_type\": \"\",\n        \"description\": \"\"\n      }\n    }\n  ]\n}"
            }
          },
          "metadata": {},
          "execution_count": 85
        }
      ]
    },
    {
      "cell_type": "code",
      "source": [
        "# Build a neural network (sort of like model_2 above)\n",
        "tf.random.set_seed(42)\n",
        "\n",
        "# 1. Create the model\n",
        "insurance_model = tf.keras.Sequential([\n",
        "    tf.keras.layers.Dense(100, activation=\"relu\"),\n",
        "    tf.keras.layers.Dense(100)\n",
        "])\n",
        "\n",
        "# 2. Compile the model\n",
        "insurance_model.compile(loss=mae,\n",
        "                        optimizer = tf.keras.optimizers.Adam(lr = 0.001),\n",
        "                        metrics=[\"mae\"])\n",
        "\n",
        "# 3. Fit the model\n",
        "insurance_model.fit(x_train, y_train, epochs=200)"
      ],
      "metadata": {
        "colab": {
          "base_uri": "https://localhost:8080/"
        },
        "id": "5XLrX5IaYl92",
        "outputId": "45772661-72ea-445a-f146-eb88efd817ec"
      },
      "execution_count": 90,
      "outputs": [
        {
          "output_type": "stream",
          "name": "stderr",
          "text": [
            "WARNING:absl:`lr` is deprecated in Keras optimizer, please use `learning_rate` or use the legacy optimizer, e.g.,tf.keras.optimizers.legacy.Adam.\n"
          ]
        },
        {
          "output_type": "stream",
          "name": "stdout",
          "text": [
            "Epoch 1/200\n",
            "34/34 [==============================] - 1s 6ms/step - loss: 13340.9668 - mae: 13340.9668\n",
            "Epoch 2/200\n",
            "34/34 [==============================] - 0s 9ms/step - loss: 13321.1191 - mae: 13321.1191\n",
            "Epoch 3/200\n",
            "34/34 [==============================] - 0s 4ms/step - loss: 13276.8154 - mae: 13276.8154\n",
            "Epoch 4/200\n",
            "34/34 [==============================] - 0s 4ms/step - loss: 13201.6953 - mae: 13201.6953\n",
            "Epoch 5/200\n",
            "34/34 [==============================] - 0s 3ms/step - loss: 13095.3496 - mae: 13095.3496\n",
            "Epoch 6/200\n",
            "34/34 [==============================] - 0s 3ms/step - loss: 12956.5332 - mae: 12956.5332\n",
            "Epoch 7/200\n",
            "34/34 [==============================] - 0s 3ms/step - loss: 12786.0186 - mae: 12786.0186\n",
            "Epoch 8/200\n",
            "34/34 [==============================] - 0s 3ms/step - loss: 12584.4336 - mae: 12584.4336\n",
            "Epoch 9/200\n",
            "34/34 [==============================] - 0s 3ms/step - loss: 12351.6143 - mae: 12351.6143\n",
            "Epoch 10/200\n",
            "34/34 [==============================] - 0s 3ms/step - loss: 12089.2393 - mae: 12089.2393\n",
            "Epoch 11/200\n",
            "34/34 [==============================] - 0s 3ms/step - loss: 11799.3672 - mae: 11799.3672\n",
            "Epoch 12/200\n",
            "34/34 [==============================] - 0s 3ms/step - loss: 11485.1504 - mae: 11485.1504\n",
            "Epoch 13/200\n",
            "34/34 [==============================] - 0s 4ms/step - loss: 11151.2012 - mae: 11151.2012\n",
            "Epoch 14/200\n",
            "34/34 [==============================] - 0s 4ms/step - loss: 10808.4482 - mae: 10808.4482\n",
            "Epoch 15/200\n",
            "34/34 [==============================] - 0s 3ms/step - loss: 10468.4023 - mae: 10468.4023\n",
            "Epoch 16/200\n",
            "34/34 [==============================] - 0s 3ms/step - loss: 10132.0098 - mae: 10132.0098\n",
            "Epoch 17/200\n",
            "34/34 [==============================] - 0s 3ms/step - loss: 9804.0576 - mae: 9804.0576\n",
            "Epoch 18/200\n",
            "34/34 [==============================] - 0s 3ms/step - loss: 9486.2549 - mae: 9486.2549\n",
            "Epoch 19/200\n",
            "34/34 [==============================] - 0s 3ms/step - loss: 9172.9746 - mae: 9172.9746\n",
            "Epoch 20/200\n",
            "34/34 [==============================] - 0s 3ms/step - loss: 8883.0195 - mae: 8883.0195\n",
            "Epoch 21/200\n",
            "34/34 [==============================] - 0s 3ms/step - loss: 8617.7734 - mae: 8617.7734\n",
            "Epoch 22/200\n",
            "34/34 [==============================] - 0s 2ms/step - loss: 8377.8799 - mae: 8377.8799\n",
            "Epoch 23/200\n",
            "34/34 [==============================] - 0s 2ms/step - loss: 8170.3672 - mae: 8170.3672\n",
            "Epoch 24/200\n",
            "34/34 [==============================] - 0s 2ms/step - loss: 7987.1357 - mae: 7987.1357\n",
            "Epoch 25/200\n",
            "34/34 [==============================] - 0s 2ms/step - loss: 7843.8979 - mae: 7843.8979\n",
            "Epoch 26/200\n",
            "34/34 [==============================] - 0s 2ms/step - loss: 7725.2441 - mae: 7725.2441\n",
            "Epoch 27/200\n",
            "34/34 [==============================] - 0s 2ms/step - loss: 7640.7632 - mae: 7640.7632\n",
            "Epoch 28/200\n",
            "34/34 [==============================] - 0s 2ms/step - loss: 7580.8438 - mae: 7580.8438\n",
            "Epoch 29/200\n",
            "34/34 [==============================] - 0s 2ms/step - loss: 7535.1094 - mae: 7535.1094\n",
            "Epoch 30/200\n",
            "34/34 [==============================] - 0s 2ms/step - loss: 7504.7812 - mae: 7504.7812\n",
            "Epoch 31/200\n",
            "34/34 [==============================] - 0s 2ms/step - loss: 7483.5161 - mae: 7483.5161\n",
            "Epoch 32/200\n",
            "34/34 [==============================] - 0s 2ms/step - loss: 7469.1450 - mae: 7469.1450\n",
            "Epoch 33/200\n",
            "34/34 [==============================] - 0s 2ms/step - loss: 7455.8052 - mae: 7455.8052\n",
            "Epoch 34/200\n",
            "34/34 [==============================] - 0s 2ms/step - loss: 7445.2051 - mae: 7445.2051\n",
            "Epoch 35/200\n",
            "34/34 [==============================] - 0s 2ms/step - loss: 7436.3105 - mae: 7436.3105\n",
            "Epoch 36/200\n",
            "34/34 [==============================] - 0s 2ms/step - loss: 7429.1011 - mae: 7429.1011\n",
            "Epoch 37/200\n",
            "34/34 [==============================] - 0s 2ms/step - loss: 7422.8970 - mae: 7422.8970\n",
            "Epoch 38/200\n",
            "34/34 [==============================] - 0s 2ms/step - loss: 7417.8643 - mae: 7417.8643\n",
            "Epoch 39/200\n",
            "34/34 [==============================] - 0s 2ms/step - loss: 7412.0420 - mae: 7412.0420\n",
            "Epoch 40/200\n",
            "34/34 [==============================] - 0s 2ms/step - loss: 7406.8394 - mae: 7406.8394\n",
            "Epoch 41/200\n",
            "34/34 [==============================] - 0s 2ms/step - loss: 7401.6963 - mae: 7401.6963\n",
            "Epoch 42/200\n",
            "34/34 [==============================] - 0s 2ms/step - loss: 7397.2485 - mae: 7397.2485\n",
            "Epoch 43/200\n",
            "34/34 [==============================] - 0s 2ms/step - loss: 7390.8428 - mae: 7390.8428\n",
            "Epoch 44/200\n",
            "34/34 [==============================] - 0s 2ms/step - loss: 7385.3838 - mae: 7385.3838\n",
            "Epoch 45/200\n",
            "34/34 [==============================] - 0s 2ms/step - loss: 7379.9741 - mae: 7379.9741\n",
            "Epoch 46/200\n",
            "34/34 [==============================] - 0s 2ms/step - loss: 7374.7280 - mae: 7374.7280\n",
            "Epoch 47/200\n",
            "34/34 [==============================] - 0s 2ms/step - loss: 7370.1309 - mae: 7370.1309\n",
            "Epoch 48/200\n",
            "34/34 [==============================] - 0s 2ms/step - loss: 7363.3613 - mae: 7363.3613\n",
            "Epoch 49/200\n",
            "34/34 [==============================] - 0s 2ms/step - loss: 7358.1523 - mae: 7358.1523\n",
            "Epoch 50/200\n",
            "34/34 [==============================] - 0s 2ms/step - loss: 7351.8662 - mae: 7351.8662\n",
            "Epoch 51/200\n",
            "34/34 [==============================] - 0s 2ms/step - loss: 7346.9790 - mae: 7346.9790\n",
            "Epoch 52/200\n",
            "34/34 [==============================] - 0s 2ms/step - loss: 7340.8047 - mae: 7340.8047\n",
            "Epoch 53/200\n",
            "34/34 [==============================] - 0s 2ms/step - loss: 7334.8799 - mae: 7334.8799\n",
            "Epoch 54/200\n",
            "34/34 [==============================] - 0s 2ms/step - loss: 7328.7671 - mae: 7328.7671\n",
            "Epoch 55/200\n",
            "34/34 [==============================] - 0s 2ms/step - loss: 7322.8579 - mae: 7322.8579\n",
            "Epoch 56/200\n",
            "34/34 [==============================] - 0s 2ms/step - loss: 7316.9727 - mae: 7316.9727\n",
            "Epoch 57/200\n",
            "34/34 [==============================] - 0s 2ms/step - loss: 7311.0635 - mae: 7311.0635\n",
            "Epoch 58/200\n",
            "34/34 [==============================] - 0s 2ms/step - loss: 7304.9995 - mae: 7304.9995\n",
            "Epoch 59/200\n",
            "34/34 [==============================] - 0s 2ms/step - loss: 7300.2563 - mae: 7300.2563\n",
            "Epoch 60/200\n",
            "34/34 [==============================] - 0s 2ms/step - loss: 7293.2021 - mae: 7293.2021\n",
            "Epoch 61/200\n",
            "34/34 [==============================] - 0s 2ms/step - loss: 7287.3896 - mae: 7287.3896\n",
            "Epoch 62/200\n",
            "34/34 [==============================] - 0s 2ms/step - loss: 7281.0884 - mae: 7281.0884\n",
            "Epoch 63/200\n",
            "34/34 [==============================] - 0s 2ms/step - loss: 7275.2432 - mae: 7275.2432\n",
            "Epoch 64/200\n",
            "34/34 [==============================] - 0s 2ms/step - loss: 7269.1040 - mae: 7269.1040\n",
            "Epoch 65/200\n",
            "34/34 [==============================] - 0s 2ms/step - loss: 7263.0679 - mae: 7263.0679\n",
            "Epoch 66/200\n",
            "34/34 [==============================] - 0s 2ms/step - loss: 7256.7109 - mae: 7256.7109\n",
            "Epoch 67/200\n",
            "34/34 [==============================] - 0s 2ms/step - loss: 7250.9614 - mae: 7250.9614\n",
            "Epoch 68/200\n",
            "34/34 [==============================] - 0s 2ms/step - loss: 7244.6953 - mae: 7244.6953\n",
            "Epoch 69/200\n",
            "34/34 [==============================] - 0s 2ms/step - loss: 7238.1489 - mae: 7238.1489\n",
            "Epoch 70/200\n",
            "34/34 [==============================] - 0s 2ms/step - loss: 7232.1602 - mae: 7232.1602\n",
            "Epoch 71/200\n",
            "34/34 [==============================] - 0s 2ms/step - loss: 7225.5332 - mae: 7225.5332\n",
            "Epoch 72/200\n",
            "34/34 [==============================] - 0s 2ms/step - loss: 7219.5049 - mae: 7219.5049\n",
            "Epoch 73/200\n",
            "34/34 [==============================] - 0s 2ms/step - loss: 7212.8384 - mae: 7212.8384\n",
            "Epoch 74/200\n",
            "34/34 [==============================] - 0s 2ms/step - loss: 7206.3818 - mae: 7206.3818\n",
            "Epoch 75/200\n",
            "34/34 [==============================] - 0s 2ms/step - loss: 7199.5933 - mae: 7199.5933\n",
            "Epoch 76/200\n",
            "34/34 [==============================] - 0s 2ms/step - loss: 7193.8252 - mae: 7193.8252\n",
            "Epoch 77/200\n",
            "34/34 [==============================] - 0s 2ms/step - loss: 7186.3657 - mae: 7186.3657\n",
            "Epoch 78/200\n",
            "34/34 [==============================] - 0s 2ms/step - loss: 7180.1606 - mae: 7180.1606\n",
            "Epoch 79/200\n",
            "34/34 [==============================] - 0s 2ms/step - loss: 7172.7822 - mae: 7172.7822\n",
            "Epoch 80/200\n",
            "34/34 [==============================] - 0s 2ms/step - loss: 7165.8687 - mae: 7165.8687\n",
            "Epoch 81/200\n",
            "34/34 [==============================] - 0s 2ms/step - loss: 7158.8882 - mae: 7158.8882\n",
            "Epoch 82/200\n",
            "34/34 [==============================] - 0s 2ms/step - loss: 7153.5229 - mae: 7153.5229\n",
            "Epoch 83/200\n",
            "34/34 [==============================] - 0s 2ms/step - loss: 7145.6978 - mae: 7145.6978\n",
            "Epoch 84/200\n",
            "34/34 [==============================] - 0s 2ms/step - loss: 7138.0879 - mae: 7138.0879\n",
            "Epoch 85/200\n",
            "34/34 [==============================] - 0s 2ms/step - loss: 7131.6387 - mae: 7131.6387\n",
            "Epoch 86/200\n",
            "34/34 [==============================] - 0s 2ms/step - loss: 7124.1045 - mae: 7124.1045\n",
            "Epoch 87/200\n",
            "34/34 [==============================] - 0s 2ms/step - loss: 7116.8662 - mae: 7116.8662\n",
            "Epoch 88/200\n",
            "34/34 [==============================] - 0s 2ms/step - loss: 7109.5464 - mae: 7109.5464\n",
            "Epoch 89/200\n",
            "34/34 [==============================] - 0s 2ms/step - loss: 7101.8882 - mae: 7101.8882\n",
            "Epoch 90/200\n",
            "34/34 [==============================] - 0s 2ms/step - loss: 7095.1436 - mae: 7095.1436\n",
            "Epoch 91/200\n",
            "34/34 [==============================] - 0s 2ms/step - loss: 7087.2881 - mae: 7087.2881\n",
            "Epoch 92/200\n",
            "34/34 [==============================] - 0s 2ms/step - loss: 7080.4922 - mae: 7080.4922\n",
            "Epoch 93/200\n",
            "34/34 [==============================] - 0s 2ms/step - loss: 7072.8096 - mae: 7072.8096\n",
            "Epoch 94/200\n",
            "34/34 [==============================] - 0s 2ms/step - loss: 7065.8584 - mae: 7065.8584\n",
            "Epoch 95/200\n",
            "34/34 [==============================] - 0s 2ms/step - loss: 7057.8408 - mae: 7057.8408\n",
            "Epoch 96/200\n",
            "34/34 [==============================] - 0s 2ms/step - loss: 7050.6699 - mae: 7050.6699\n",
            "Epoch 97/200\n",
            "34/34 [==============================] - 0s 2ms/step - loss: 7043.6904 - mae: 7043.6904\n",
            "Epoch 98/200\n",
            "34/34 [==============================] - 0s 2ms/step - loss: 7035.1948 - mae: 7035.1948\n",
            "Epoch 99/200\n",
            "34/34 [==============================] - 0s 2ms/step - loss: 7027.6992 - mae: 7027.6992\n",
            "Epoch 100/200\n",
            "34/34 [==============================] - 0s 2ms/step - loss: 7019.9863 - mae: 7019.9863\n",
            "Epoch 101/200\n",
            "34/34 [==============================] - 0s 2ms/step - loss: 7012.8970 - mae: 7012.8970\n",
            "Epoch 102/200\n",
            "34/34 [==============================] - 0s 2ms/step - loss: 7004.6997 - mae: 7004.6997\n",
            "Epoch 103/200\n",
            "34/34 [==============================] - 0s 2ms/step - loss: 6997.1270 - mae: 6997.1270\n",
            "Epoch 104/200\n",
            "34/34 [==============================] - 0s 2ms/step - loss: 6989.2114 - mae: 6989.2114\n",
            "Epoch 105/200\n",
            "34/34 [==============================] - 0s 2ms/step - loss: 6981.4907 - mae: 6981.4907\n",
            "Epoch 106/200\n",
            "34/34 [==============================] - 0s 2ms/step - loss: 6973.3389 - mae: 6973.3389\n",
            "Epoch 107/200\n",
            "34/34 [==============================] - 0s 2ms/step - loss: 6967.8037 - mae: 6967.8037\n",
            "Epoch 108/200\n",
            "34/34 [==============================] - 0s 2ms/step - loss: 6958.1699 - mae: 6958.1699\n",
            "Epoch 109/200\n",
            "34/34 [==============================] - 0s 2ms/step - loss: 6950.1426 - mae: 6950.1426\n",
            "Epoch 110/200\n",
            "34/34 [==============================] - 0s 2ms/step - loss: 6942.0483 - mae: 6942.0483\n",
            "Epoch 111/200\n",
            "34/34 [==============================] - 0s 2ms/step - loss: 6933.8286 - mae: 6933.8286\n",
            "Epoch 112/200\n",
            "34/34 [==============================] - 0s 2ms/step - loss: 6924.9961 - mae: 6924.9961\n",
            "Epoch 113/200\n",
            "34/34 [==============================] - 0s 2ms/step - loss: 6917.4209 - mae: 6917.4209\n",
            "Epoch 114/200\n",
            "34/34 [==============================] - 0s 2ms/step - loss: 6908.5425 - mae: 6908.5425\n",
            "Epoch 115/200\n",
            "34/34 [==============================] - 0s 2ms/step - loss: 6901.4336 - mae: 6901.4336\n",
            "Epoch 116/200\n",
            "34/34 [==============================] - 0s 2ms/step - loss: 6893.1792 - mae: 6893.1792\n",
            "Epoch 117/200\n",
            "34/34 [==============================] - 0s 2ms/step - loss: 6884.1426 - mae: 6884.1426\n",
            "Epoch 118/200\n",
            "34/34 [==============================] - 0s 2ms/step - loss: 6876.4155 - mae: 6876.4155\n",
            "Epoch 119/200\n",
            "34/34 [==============================] - 0s 2ms/step - loss: 6868.3882 - mae: 6868.3882\n",
            "Epoch 120/200\n",
            "34/34 [==============================] - 0s 2ms/step - loss: 6860.1157 - mae: 6860.1157\n",
            "Epoch 121/200\n",
            "34/34 [==============================] - 0s 2ms/step - loss: 6851.9238 - mae: 6851.9238\n",
            "Epoch 122/200\n",
            "34/34 [==============================] - 0s 2ms/step - loss: 6843.5845 - mae: 6843.5845\n",
            "Epoch 123/200\n",
            "34/34 [==============================] - 0s 2ms/step - loss: 6835.4780 - mae: 6835.4780\n",
            "Epoch 124/200\n",
            "34/34 [==============================] - 0s 2ms/step - loss: 6827.2002 - mae: 6827.2002\n",
            "Epoch 125/200\n",
            "34/34 [==============================] - 0s 2ms/step - loss: 6819.2300 - mae: 6819.2300\n",
            "Epoch 126/200\n",
            "34/34 [==============================] - 0s 2ms/step - loss: 6810.2305 - mae: 6810.2305\n",
            "Epoch 127/200\n",
            "34/34 [==============================] - 0s 2ms/step - loss: 6801.5469 - mae: 6801.5469\n",
            "Epoch 128/200\n",
            "34/34 [==============================] - 0s 2ms/step - loss: 6793.1294 - mae: 6793.1294\n",
            "Epoch 129/200\n",
            "34/34 [==============================] - 0s 2ms/step - loss: 6784.0742 - mae: 6784.0742\n",
            "Epoch 130/200\n",
            "34/34 [==============================] - 0s 2ms/step - loss: 6775.3838 - mae: 6775.3838\n",
            "Epoch 131/200\n",
            "34/34 [==============================] - 0s 2ms/step - loss: 6767.0791 - mae: 6767.0791\n",
            "Epoch 132/200\n",
            "34/34 [==============================] - 0s 2ms/step - loss: 6757.7881 - mae: 6757.7881\n",
            "Epoch 133/200\n",
            "34/34 [==============================] - 0s 2ms/step - loss: 6748.0142 - mae: 6748.0142\n",
            "Epoch 134/200\n",
            "34/34 [==============================] - 0s 2ms/step - loss: 6739.1235 - mae: 6739.1235\n",
            "Epoch 135/200\n",
            "34/34 [==============================] - 0s 2ms/step - loss: 6729.7339 - mae: 6729.7339\n",
            "Epoch 136/200\n",
            "34/34 [==============================] - 0s 2ms/step - loss: 6720.6904 - mae: 6720.6904\n",
            "Epoch 137/200\n",
            "34/34 [==============================] - 0s 2ms/step - loss: 6711.8848 - mae: 6711.8848\n",
            "Epoch 138/200\n",
            "34/34 [==============================] - 0s 2ms/step - loss: 6702.6045 - mae: 6702.6045\n",
            "Epoch 139/200\n",
            "34/34 [==============================] - 0s 2ms/step - loss: 6693.5161 - mae: 6693.5161\n",
            "Epoch 140/200\n",
            "34/34 [==============================] - 0s 2ms/step - loss: 6685.1157 - mae: 6685.1157\n",
            "Epoch 141/200\n",
            "34/34 [==============================] - 0s 2ms/step - loss: 6676.2285 - mae: 6676.2285\n",
            "Epoch 142/200\n",
            "34/34 [==============================] - 0s 2ms/step - loss: 6667.9067 - mae: 6667.9067\n",
            "Epoch 143/200\n",
            "34/34 [==============================] - 0s 2ms/step - loss: 6659.6504 - mae: 6659.6504\n",
            "Epoch 144/200\n",
            "34/34 [==============================] - 0s 2ms/step - loss: 6650.8770 - mae: 6650.8770\n",
            "Epoch 145/200\n",
            "34/34 [==============================] - 0s 2ms/step - loss: 6641.6001 - mae: 6641.6001\n",
            "Epoch 146/200\n",
            "34/34 [==============================] - 0s 2ms/step - loss: 6634.0161 - mae: 6634.0161\n",
            "Epoch 147/200\n",
            "34/34 [==============================] - 0s 2ms/step - loss: 6624.9385 - mae: 6624.9385\n",
            "Epoch 148/200\n",
            "34/34 [==============================] - 0s 2ms/step - loss: 6615.9878 - mae: 6615.9878\n",
            "Epoch 149/200\n",
            "34/34 [==============================] - 0s 2ms/step - loss: 6607.7915 - mae: 6607.7915\n",
            "Epoch 150/200\n",
            "34/34 [==============================] - 0s 2ms/step - loss: 6599.6206 - mae: 6599.6206\n",
            "Epoch 151/200\n",
            "34/34 [==============================] - 0s 2ms/step - loss: 6592.0068 - mae: 6592.0068\n",
            "Epoch 152/200\n",
            "34/34 [==============================] - 0s 3ms/step - loss: 6583.5684 - mae: 6583.5684\n",
            "Epoch 153/200\n",
            "34/34 [==============================] - 0s 3ms/step - loss: 6577.1904 - mae: 6577.1904\n",
            "Epoch 154/200\n",
            "34/34 [==============================] - 0s 3ms/step - loss: 6569.8281 - mae: 6569.8281\n",
            "Epoch 155/200\n",
            "34/34 [==============================] - 0s 3ms/step - loss: 6562.4077 - mae: 6562.4077\n",
            "Epoch 156/200\n",
            "34/34 [==============================] - 0s 3ms/step - loss: 6555.2305 - mae: 6555.2305\n",
            "Epoch 157/200\n",
            "34/34 [==============================] - 0s 3ms/step - loss: 6549.5132 - mae: 6549.5132\n",
            "Epoch 158/200\n",
            "34/34 [==============================] - 0s 3ms/step - loss: 6543.2729 - mae: 6543.2729\n",
            "Epoch 159/200\n",
            "34/34 [==============================] - 0s 3ms/step - loss: 6536.5000 - mae: 6536.5000\n",
            "Epoch 160/200\n",
            "34/34 [==============================] - 0s 3ms/step - loss: 6531.3940 - mae: 6531.3940\n",
            "Epoch 161/200\n",
            "34/34 [==============================] - 0s 3ms/step - loss: 6525.5396 - mae: 6525.5396\n",
            "Epoch 162/200\n",
            "34/34 [==============================] - 0s 3ms/step - loss: 6519.9966 - mae: 6519.9966\n",
            "Epoch 163/200\n",
            "34/34 [==============================] - 0s 3ms/step - loss: 6514.3716 - mae: 6514.3716\n",
            "Epoch 164/200\n",
            "34/34 [==============================] - 0s 3ms/step - loss: 6509.7549 - mae: 6509.7549\n",
            "Epoch 165/200\n",
            "34/34 [==============================] - 0s 3ms/step - loss: 6505.2134 - mae: 6505.2134\n",
            "Epoch 166/200\n",
            "34/34 [==============================] - 0s 3ms/step - loss: 6499.6016 - mae: 6499.6016\n",
            "Epoch 167/200\n",
            "34/34 [==============================] - 0s 3ms/step - loss: 6495.3135 - mae: 6495.3135\n",
            "Epoch 168/200\n",
            "34/34 [==============================] - 0s 3ms/step - loss: 6492.2153 - mae: 6492.2153\n",
            "Epoch 169/200\n",
            "34/34 [==============================] - 0s 3ms/step - loss: 6487.4375 - mae: 6487.4375\n",
            "Epoch 170/200\n",
            "34/34 [==============================] - 0s 3ms/step - loss: 6483.3452 - mae: 6483.3452\n",
            "Epoch 171/200\n",
            "34/34 [==============================] - 0s 3ms/step - loss: 6479.4712 - mae: 6479.4712\n",
            "Epoch 172/200\n",
            "34/34 [==============================] - 0s 3ms/step - loss: 6475.7578 - mae: 6475.7578\n",
            "Epoch 173/200\n",
            "34/34 [==============================] - 0s 3ms/step - loss: 6473.2119 - mae: 6473.2119\n",
            "Epoch 174/200\n",
            "34/34 [==============================] - 0s 3ms/step - loss: 6468.7515 - mae: 6468.7515\n",
            "Epoch 175/200\n",
            "34/34 [==============================] - 0s 3ms/step - loss: 6464.0933 - mae: 6464.0933\n",
            "Epoch 176/200\n",
            "34/34 [==============================] - 0s 3ms/step - loss: 6460.4575 - mae: 6460.4575\n",
            "Epoch 177/200\n",
            "34/34 [==============================] - 0s 3ms/step - loss: 6457.0771 - mae: 6457.0771\n",
            "Epoch 178/200\n",
            "34/34 [==============================] - 0s 3ms/step - loss: 6453.6533 - mae: 6453.6533\n",
            "Epoch 179/200\n",
            "34/34 [==============================] - 0s 2ms/step - loss: 6450.2124 - mae: 6450.2124\n",
            "Epoch 180/200\n",
            "34/34 [==============================] - 0s 2ms/step - loss: 6447.3867 - mae: 6447.3867\n",
            "Epoch 181/200\n",
            "34/34 [==============================] - 0s 2ms/step - loss: 6443.3970 - mae: 6443.3970\n",
            "Epoch 182/200\n",
            "34/34 [==============================] - 0s 2ms/step - loss: 6440.2148 - mae: 6440.2148\n",
            "Epoch 183/200\n",
            "34/34 [==============================] - 0s 3ms/step - loss: 6437.7607 - mae: 6437.7607\n",
            "Epoch 184/200\n",
            "34/34 [==============================] - 0s 3ms/step - loss: 6433.8252 - mae: 6433.8252\n",
            "Epoch 185/200\n",
            "34/34 [==============================] - 0s 3ms/step - loss: 6430.7944 - mae: 6430.7944\n",
            "Epoch 186/200\n",
            "34/34 [==============================] - 0s 3ms/step - loss: 6428.5454 - mae: 6428.5454\n",
            "Epoch 187/200\n",
            "34/34 [==============================] - 0s 3ms/step - loss: 6424.6138 - mae: 6424.6138\n",
            "Epoch 188/200\n",
            "34/34 [==============================] - 0s 3ms/step - loss: 6421.3169 - mae: 6421.3169\n",
            "Epoch 189/200\n",
            "34/34 [==============================] - 0s 3ms/step - loss: 6418.4712 - mae: 6418.4712\n",
            "Epoch 190/200\n",
            "34/34 [==============================] - 0s 3ms/step - loss: 6415.3188 - mae: 6415.3188\n",
            "Epoch 191/200\n",
            "34/34 [==============================] - 0s 3ms/step - loss: 6411.8013 - mae: 6411.8013\n",
            "Epoch 192/200\n",
            "34/34 [==============================] - 0s 3ms/step - loss: 6409.3013 - mae: 6409.3013\n",
            "Epoch 193/200\n",
            "34/34 [==============================] - 0s 3ms/step - loss: 6406.2739 - mae: 6406.2739\n",
            "Epoch 194/200\n",
            "34/34 [==============================] - 0s 3ms/step - loss: 6402.5649 - mae: 6402.5649\n",
            "Epoch 195/200\n",
            "34/34 [==============================] - 0s 2ms/step - loss: 6399.3711 - mae: 6399.3711\n",
            "Epoch 196/200\n",
            "34/34 [==============================] - 0s 3ms/step - loss: 6396.1860 - mae: 6396.1860\n",
            "Epoch 197/200\n",
            "34/34 [==============================] - 0s 3ms/step - loss: 6393.4209 - mae: 6393.4209\n",
            "Epoch 198/200\n",
            "34/34 [==============================] - 0s 2ms/step - loss: 6389.5571 - mae: 6389.5571\n",
            "Epoch 199/200\n",
            "34/34 [==============================] - 0s 3ms/step - loss: 6386.6646 - mae: 6386.6646\n",
            "Epoch 200/200\n",
            "34/34 [==============================] - 0s 3ms/step - loss: 6384.1074 - mae: 6384.1074\n"
          ]
        },
        {
          "output_type": "execute_result",
          "data": {
            "text/plain": [
              "<keras.src.callbacks.History at 0x7e6127af3880>"
            ]
          },
          "metadata": {},
          "execution_count": 90
        }
      ]
    },
    {
      "cell_type": "code",
      "source": [
        "# Check the result on test data\n",
        "insurance_model.evaluate(x_test, y_test)"
      ],
      "metadata": {
        "colab": {
          "base_uri": "https://localhost:8080/"
        },
        "id": "phMxyV6adIEN",
        "outputId": "a62e0ac9-8f66-42ff-f755-c2f9aa4b73e6"
      },
      "execution_count": 91,
      "outputs": [
        {
          "output_type": "stream",
          "name": "stdout",
          "text": [
            "9/9 [==============================] - 0s 2ms/step - loss: 6233.9844 - mae: 6233.9844\n"
          ]
        },
        {
          "output_type": "execute_result",
          "data": {
            "text/plain": [
              "[6233.984375, 6233.984375]"
            ]
          },
          "metadata": {},
          "execution_count": 91
        }
      ]
    },
    {
      "cell_type": "code",
      "source": [
        "y_train.median(), y_train.mean()"
      ],
      "metadata": {
        "colab": {
          "base_uri": "https://localhost:8080/"
        },
        "id": "LMjdD18adchB",
        "outputId": "cc8ac106-1bb9-4ce4-a74f-da10db986dd8"
      },
      "execution_count": 92,
      "outputs": [
        {
          "output_type": "execute_result",
          "data": {
            "text/plain": [
              "(9575.4421, 13346.089736364485)"
            ]
          },
          "metadata": {},
          "execution_count": 92
        }
      ]
    },
    {
      "cell_type": "code",
      "source": [],
      "metadata": {
        "id": "OVQtIZRedug4"
      },
      "execution_count": 88,
      "outputs": []
    }
  ]
}