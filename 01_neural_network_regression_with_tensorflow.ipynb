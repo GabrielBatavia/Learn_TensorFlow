{
  "nbformat": 4,
  "nbformat_minor": 0,
  "metadata": {
    "colab": {
      "provenance": [],
      "authorship_tag": "ABX9TyMNfpckMHeRZd41CtvDs9VL",
      "include_colab_link": true
    },
    "kernelspec": {
      "name": "python3",
      "display_name": "Python 3"
    },
    "language_info": {
      "name": "python"
    }
  },
  "cells": [
    {
      "cell_type": "markdown",
      "metadata": {
        "id": "view-in-github",
        "colab_type": "text"
      },
      "source": [
        "<a href=\"https://colab.research.google.com/github/GabrielBatavia/Learn_TensorFlow/blob/main/01_neural_network_regression_with_tensorflow.ipynb\" target=\"_parent\"><img src=\"https://colab.research.google.com/assets/colab-badge.svg\" alt=\"Open In Colab\"/></a>"
      ]
    },
    {
      "cell_type": "markdown",
      "source": [
        "# Introduction to Regression with Neural Networks in TensorFlow\n",
        "\n",
        "There are many definition for a regression problem but in our case, we're going to simplify it : predicting a numerical variable based on some other combination of variables, even shorter...predicting a number."
      ],
      "metadata": {
        "id": "eANshE7nr2zb"
      }
    },
    {
      "cell_type": "code",
      "execution_count": 1,
      "metadata": {
        "colab": {
          "base_uri": "https://localhost:8080/"
        },
        "id": "UmVJP_eWrO59",
        "outputId": "1fd4cf4d-59d7-417b-a751-29eef5b4b58a"
      },
      "outputs": [
        {
          "output_type": "stream",
          "name": "stdout",
          "text": [
            "2.15.0\n"
          ]
        }
      ],
      "source": [
        "# Import TensorFlow\n",
        "\n",
        "import tensorflow as tf\n",
        "print(tf.__version__)"
      ]
    },
    {
      "cell_type": "markdown",
      "source": [
        "## Creating data to view and fit"
      ],
      "metadata": {
        "id": "vbbwMFoqskyN"
      }
    },
    {
      "cell_type": "code",
      "source": [
        "import numpy as np\n",
        "import matplotlib.pyplot as plt"
      ],
      "metadata": {
        "id": "DXOtRA60shEW"
      },
      "execution_count": 2,
      "outputs": []
    },
    {
      "cell_type": "code",
      "source": [
        "# Creating features\n",
        "\n",
        "x = np.array([-7., -4., -1., 2., 5., 8., 11., 14.])\n",
        "\n",
        "# Create labels\n",
        "y = np.array([3., 6., 9., 12., 15., 18., 21., 24.])\n",
        "\n",
        "# Visualize it\n",
        "plt.scatter(x, y);"
      ],
      "metadata": {
        "colab": {
          "base_uri": "https://localhost:8080/",
          "height": 435
        },
        "id": "SX4eHtEts4GD",
        "outputId": "e52273fd-2f55-41fe-be83-35e302f841d7"
      },
      "execution_count": 3,
      "outputs": [
        {
          "output_type": "display_data",
          "data": {
            "text/plain": [
              "<Figure size 640x480 with 1 Axes>"
            ],
            "image/png": "[encoded data removed]"
          },
          "metadata": {}
        }
      ]
    },
    {
      "cell_type": "code",
      "source": [
        "y == x + 10"
      ],
      "metadata": {
        "id": "qaf2FE-utbQ-",
        "colab": {
          "base_uri": "https://localhost:8080/"
        },
        "outputId": "9a1d3d19-6ea0-4db3-c200-ba3659d8d3af"
      },
      "execution_count": 4,
      "outputs": [
        {
          "output_type": "execute_result",
          "data": {
            "text/plain": [
              "array([ True,  True,  True,  True,  True,  True,  True,  True])"
            ]
          },
          "metadata": {},
          "execution_count": 4
        }
      ]
    },
    {
      "cell_type": "markdown",
      "source": [
        "## Input and Output shapes"
      ],
      "metadata": {
        "id": "hHex_79OxmAn"
      }
    },
    {
      "cell_type": "code",
      "source": [
        "# Create a demo tensor for out housing price prediction problem\n",
        "\n",
        "house_info = tf.constant([\"bedroom\", \"bathroom\", \"garage\"])\n",
        "house_price = tf.constant([939700])\n",
        "\n",
        "house_info, house_price"
      ],
      "metadata": {
        "colab": {
          "base_uri": "https://localhost:8080/"
        },
        "id": "EKNlltO3xrVe",
        "outputId": "8df549f7-5b89-4b45-bf7d-982847870e04"
      },
      "execution_count": 5,
      "outputs": [
        {
          "output_type": "execute_result",
          "data": {
            "text/plain": [
              "(<tf.Tensor: shape=(3,), dtype=string, numpy=array([b'bedroom', b'bathroom', b'garage'], dtype=object)>,\n",
              " <tf.Tensor: shape=(1,), dtype=int32, numpy=array([939700], dtype=int32)>)"
            ]
          },
          "metadata": {},
          "execution_count": 5
        }
      ]
    },
    {
      "cell_type": "code",
      "source": [
        "x[0], y[0]"
      ],
      "metadata": {
        "colab": {
          "base_uri": "https://localhost:8080/"
        },
        "id": "-tWt-gYSzm66",
        "outputId": "f6a9ea34-282e-4f6d-b1b2-81168dfc41d2"
      },
      "execution_count": 6,
      "outputs": [
        {
          "output_type": "execute_result",
          "data": {
            "text/plain": [
              "(-7.0, 3.0)"
            ]
          },
          "metadata": {},
          "execution_count": 6
        }
      ]
    },
    {
      "cell_type": "code",
      "source": [
        "input_shape = x[0].shape\n",
        "output_shape = y[0].shape\n",
        "\n",
        "input_shape, output_shape"
      ],
      "metadata": {
        "colab": {
          "base_uri": "https://localhost:8080/"
        },
        "id": "sGSz7U-vzY4m",
        "outputId": "78ec85a2-12dc-4a54-eb1b-ef395e4ec697"
      },
      "execution_count": 7,
      "outputs": [
        {
          "output_type": "execute_result",
          "data": {
            "text/plain": [
              "((), ())"
            ]
          },
          "metadata": {},
          "execution_count": 7
        }
      ]
    },
    {
      "cell_type": "code",
      "source": [
        "x[0].ndim"
      ],
      "metadata": {
        "colab": {
          "base_uri": "https://localhost:8080/"
        },
        "id": "VCL4zHK5z8RR",
        "outputId": "8c654c7c-a542-4650-c0fd-21ee8753bd8c"
      },
      "execution_count": 8,
      "outputs": [
        {
          "output_type": "execute_result",
          "data": {
            "text/plain": [
              "0"
            ]
          },
          "metadata": {},
          "execution_count": 8
        }
      ]
    },
    {
      "cell_type": "code",
      "source": [
        "# Turn our Numpy arrays into tensors with dtype 32\n",
        "\n",
        "X = tf.constant(x, dtype=tf.float32)\n",
        "Y = tf.constant(y, dtype=tf.float32)\n",
        "\n",
        "X, Y"
      ],
      "metadata": {
        "colab": {
          "base_uri": "https://localhost:8080/"
        },
        "id": "QL2Ofdwmz-sQ",
        "outputId": "76b2e9c2-72ba-499b-cc30-81588a56d9a5"
      },
      "execution_count": 9,
      "outputs": [
        {
          "output_type": "execute_result",
          "data": {
            "text/plain": [
              "(<tf.Tensor: shape=(8,), dtype=float32, numpy=array([-7., -4., -1.,  2.,  5.,  8., 11., 14.], dtype=float32)>,\n",
              " <tf.Tensor: shape=(8,), dtype=float32, numpy=array([ 3.,  6.,  9., 12., 15., 18., 21., 24.], dtype=float32)>)"
            ]
          },
          "metadata": {},
          "execution_count": 9
        }
      ]
    },
    {
      "cell_type": "code",
      "source": [
        "input_shape = X[0].shape\n",
        "output_shape = y[0].shape\n",
        "\n",
        "input_shape, output_shape"
      ],
      "metadata": {
        "colab": {
          "base_uri": "https://localhost:8080/"
        },
        "id": "R6m8i44s1t3S",
        "outputId": "c949236c-1392-4b38-f160-d88e9d22568d"
      },
      "execution_count": 10,
      "outputs": [
        {
          "output_type": "execute_result",
          "data": {
            "text/plain": [
              "(TensorShape([]), ())"
            ]
          },
          "metadata": {},
          "execution_count": 10
        }
      ]
    },
    {
      "cell_type": "markdown",
      "source": [
        "## Steps in modelling with TensorFlow\n",
        "\n",
        "1. **Creating a model** - define the input and output layers, as well as the hidden layers of a deep learning model.\n",
        "\n",
        "2. **Compiling a model** - define the loss function (in other words, the function wich tells our model how wrong it is) and the optimizer (tells our model how to improve the patterns its learning) and evaluation metrics (what we can use to interpret the preformance of our model)\n",
        "\n",
        "3. Fitting a model - letting the model try to find patters between X & y (features and labels)"
      ],
      "metadata": {
        "id": "T9heq-y318BJ"
      }
    },
    {
      "cell_type": "code",
      "source": [
        "# Opetionally, the first layer can receive an 'input_shape' argument :\n",
        "# model = tf.keras.Sequential()\n",
        "# model.add(tf.keras.layers.Dense(8, input_shape=(16,)))\n",
        "\n",
        "# Afterwards, we do automatic shape inference :\n",
        "# model.add(tf.keras.layers.Dense(4))\n",
        "\n",
        "# model = tf.keras.Sequential()\n",
        "# model.add(tf.keras.layers.Dense(1))\n",
        "# ..."
      ],
      "metadata": {
        "id": "nEAWuhvc6w4g"
      },
      "execution_count": 11,
      "outputs": []
    },
    {
      "cell_type": "code",
      "source": [
        "# Set random seed\n",
        "\n",
        "tf.random.set_seed(42)\n",
        "\n",
        "# 1. Create a model using the Sequential API\n",
        "model = tf.keras.Sequential([\n",
        "    tf.keras.layers.Dense(1)\n",
        "])\n",
        "\n",
        "# 2. Compile the model\n",
        "model.compile(loss = tf.keras.losses.mae, # mae is short for mean absolute error\n",
        "              optimizer = tf.keras.optimizers.SGD(), # sgd is short for stochasitc gradient decent\n",
        "              metrics = [\"mae\"])\n",
        "\n",
        "# 3. Fit the model\n",
        "# model.fit(X, Y, epochs=5) # BREAK IN UPDATED TENSOR VERSION\n",
        "model.fit(tf.expand_dims(X, axis=-1), Y, epochs=5)"
      ],
      "metadata": {
        "colab": {
          "base_uri": "https://localhost:8080/"
        },
        "id": "ubX_9SYR149W",
        "outputId": "23aad143-19ae-4823-d029-c2fdd4883067"
      },
      "execution_count": 12,
      "outputs": [
        {
          "output_type": "stream",
          "name": "stdout",
          "text": [
            "Epoch 1/5\n",
            "1/1 [==============================] - 1s 666ms/step - loss: 7.5531 - mae: 7.5531\n",
            "Epoch 2/5\n",
            "1/1 [==============================] - 0s 13ms/step - loss: 7.4925 - mae: 7.4925\n",
            "Epoch 3/5\n",
            "1/1 [==============================] - 0s 17ms/step - loss: 7.4869 - mae: 7.4869\n",
            "Epoch 4/5\n",
            "1/1 [==============================] - 0s 13ms/step - loss: 7.4813 - mae: 7.4813\n",
            "Epoch 5/5\n",
            "1/1 [==============================] - 0s 11ms/step - loss: 7.4756 - mae: 7.4756\n"
          ]
        },
        {
          "output_type": "execute_result",
          "data": {
            "text/plain": [
              "<keras.src.callbacks.History at 0x79ad2500f760>"
            ]
          },
          "metadata": {},
          "execution_count": 12
        }
      ]
    },
    {
      "cell_type": "code",
      "source": [
        "# Check our X and Y\n",
        "x, y"
      ],
      "metadata": {
        "colab": {
          "base_uri": "https://localhost:8080/"
        },
        "id": "1B1DsBlo9jYC",
        "outputId": "0839677a-771f-44d7-904e-b1f4489bb116"
      },
      "execution_count": 13,
      "outputs": [
        {
          "output_type": "execute_result",
          "data": {
            "text/plain": [
              "(array([-7., -4., -1.,  2.,  5.,  8., 11., 14.]),\n",
              " array([ 3.,  6.,  9., 12., 15., 18., 21., 24.]))"
            ]
          },
          "metadata": {},
          "execution_count": 13
        }
      ]
    },
    {
      "cell_type": "code",
      "source": [
        "# Try make prediction\n",
        "model.predict([17.0])"
      ],
      "metadata": {
        "colab": {
          "base_uri": "https://localhost:8080/"
        },
        "id": "L4S19GPP9pXG",
        "outputId": "01c72829-e98b-4e6c-8388-505a673f314c"
      },
      "execution_count": 14,
      "outputs": [
        {
          "output_type": "stream",
          "name": "stdout",
          "text": [
            "1/1 [==============================] - 0s 145ms/step\n"
          ]
        },
        {
          "output_type": "execute_result",
          "data": {
            "text/plain": [
              "array([[29.520031]], dtype=float32)"
            ]
          },
          "metadata": {},
          "execution_count": 14
        }
      ]
    },
    {
      "cell_type": "markdown",
      "source": [
        "## Improving our model\n",
        "\n",
        "We can improve our model, by altering the steps we took to create a model.\n",
        "\n",
        "1. **Creating a model** - ere we might add more layers, increse the number of hidden units (all called neurons) within each of the hidden layers, change the activation function of each layer.\n",
        "\n",
        "2. **Compiling a model** - here we might chang ethe optimization function or perhaps the **learning rate** of the optimization function.\n",
        "\n",
        "3. **Fitting a model** - here we might fit a model for more **epochs** (leave it training for longer) or on more data (give the model more examples to learn form)"
      ],
      "metadata": {
        "id": "Nq6KqLEo-HP4"
      }
    },
    {
      "cell_type": "code",
      "source": [
        "# Let's rebuild our model\n",
        "\n",
        "# 1. Create the model\n",
        "model1 = tf.keras.Sequential([\n",
        "    tf.keras.layers.Dense(1)\n",
        "])\n",
        "\n",
        "# 2. Compile the model\n",
        "model1.compile(loss = tf.keras.losses.mae,\n",
        "              optimizer = tf.keras.optimizers.SGD(),\n",
        "              metrics = [\"mae\"])\n",
        "\n",
        "# 3. Fit the model\n",
        "# model.fit(X, Y, epochs=5) # BREAK IN UPDATED TENSOR VERSION\n",
        "model1.fit(tf.expand_dims(X, axis=-1), Y, epochs=100)"
      ],
      "metadata": {
        "colab": {
          "base_uri": "https://localhost:8080/"
        },
        "id": "GPGzIvb2DLc2",
        "outputId": "b7e98b56-9051-4683-e16c-8e4a99316e6f"
      },
      "execution_count": 15,
      "outputs": [
        {
          "output_type": "stream",
          "name": "stdout",
          "text": [
            "Epoch 1/100\n",
            "1/1 [==============================] - 1s 506ms/step - loss: 12.5685 - mae: 12.5685\n",
            "Epoch 2/100\n",
            "1/1 [==============================] - 0s 12ms/step - loss: 12.4360 - mae: 12.4360\n",
            "Epoch 3/100\n",
            "1/1 [==============================] - 0s 18ms/step - loss: 12.3035 - mae: 12.3035\n",
            "Epoch 4/100\n",
            "1/1 [==============================] - 0s 17ms/step - loss: 12.1710 - mae: 12.1710\n",
            "Epoch 5/100\n",
            "1/1 [==============================] - 0s 21ms/step - loss: 12.0385 - mae: 12.0385\n",
            "Epoch 6/100\n",
            "1/1 [==============================] - 0s 14ms/step - loss: 11.9060 - mae: 11.9060\n",
            "Epoch 7/100\n",
            "1/1 [==============================] - 0s 21ms/step - loss: 11.7735 - mae: 11.7735\n",
            "Epoch 8/100\n",
            "1/1 [==============================] - 0s 14ms/step - loss: 11.6410 - mae: 11.6410\n",
            "Epoch 9/100\n",
            "1/1 [==============================] - 0s 16ms/step - loss: 11.5085 - mae: 11.5085\n",
            "Epoch 10/100\n",
            "1/1 [==============================] - 0s 12ms/step - loss: 11.3760 - mae: 11.3760\n",
            "Epoch 11/100\n",
            "1/1 [==============================] - 0s 18ms/step - loss: 11.2435 - mae: 11.2435\n",
            "Epoch 12/100\n",
            "1/1 [==============================] - 0s 11ms/step - loss: 11.1110 - mae: 11.1110\n",
            "Epoch 13/100\n",
            "1/1 [==============================] - 0s 11ms/step - loss: 10.9785 - mae: 10.9785\n",
            "Epoch 14/100\n",
            "1/1 [==============================] - 0s 16ms/step - loss: 10.8460 - mae: 10.8460\n",
            "Epoch 15/100\n",
            "1/1 [==============================] - 0s 12ms/step - loss: 10.7135 - mae: 10.7135\n",
            "Epoch 16/100\n",
            "1/1 [==============================] - 0s 14ms/step - loss: 10.5810 - mae: 10.5810\n",
            "Epoch 17/100\n",
            "1/1 [==============================] - 0s 13ms/step - loss: 10.4485 - mae: 10.4485\n",
            "Epoch 18/100\n",
            "1/1 [==============================] - 0s 14ms/step - loss: 10.3160 - mae: 10.3160\n",
            "Epoch 19/100\n",
            "1/1 [==============================] - 0s 16ms/step - loss: 10.1835 - mae: 10.1835\n",
            "Epoch 20/100\n",
            "1/1 [==============================] - 0s 11ms/step - loss: 10.0510 - mae: 10.0510\n",
            "Epoch 21/100\n",
            "1/1 [==============================] - 0s 12ms/step - loss: 9.9185 - mae: 9.9185\n",
            "Epoch 22/100\n",
            "1/1 [==============================] - 0s 14ms/step - loss: 9.7860 - mae: 9.7860\n",
            "Epoch 23/100\n",
            "1/1 [==============================] - 0s 10ms/step - loss: 9.6535 - mae: 9.6535\n",
            "Epoch 24/100\n",
            "1/1 [==============================] - 0s 12ms/step - loss: 9.5210 - mae: 9.5210\n",
            "Epoch 25/100\n",
            "1/1 [==============================] - 0s 11ms/step - loss: 9.3885 - mae: 9.3885\n",
            "Epoch 26/100\n",
            "1/1 [==============================] - 0s 15ms/step - loss: 9.2560 - mae: 9.2560\n",
            "Epoch 27/100\n",
            "1/1 [==============================] - 0s 12ms/step - loss: 9.1235 - mae: 9.1235\n",
            "Epoch 28/100\n",
            "1/1 [==============================] - 0s 10ms/step - loss: 8.9910 - mae: 8.9910\n",
            "Epoch 29/100\n",
            "1/1 [==============================] - 0s 11ms/step - loss: 8.8585 - mae: 8.8585\n",
            "Epoch 30/100\n",
            "1/1 [==============================] - 0s 10ms/step - loss: 8.7260 - mae: 8.7260\n",
            "Epoch 31/100\n",
            "1/1 [==============================] - 0s 15ms/step - loss: 8.5935 - mae: 8.5935\n",
            "Epoch 32/100\n",
            "1/1 [==============================] - 0s 11ms/step - loss: 8.4610 - mae: 8.4610\n",
            "Epoch 33/100\n",
            "1/1 [==============================] - 0s 10ms/step - loss: 8.3285 - mae: 8.3285\n",
            "Epoch 34/100\n",
            "1/1 [==============================] - 0s 13ms/step - loss: 8.1960 - mae: 8.1960\n",
            "Epoch 35/100\n",
            "1/1 [==============================] - 0s 10ms/step - loss: 8.0635 - mae: 8.0635\n",
            "Epoch 36/100\n",
            "1/1 [==============================] - 0s 10ms/step - loss: 7.9310 - mae: 7.9310\n",
            "Epoch 37/100\n",
            "1/1 [==============================] - 0s 11ms/step - loss: 7.7985 - mae: 7.7985\n",
            "Epoch 38/100\n",
            "1/1 [==============================] - 0s 10ms/step - loss: 7.6660 - mae: 7.6660\n",
            "Epoch 39/100\n",
            "1/1 [==============================] - 0s 11ms/step - loss: 7.5335 - mae: 7.5335\n",
            "Epoch 40/100\n",
            "1/1 [==============================] - 0s 12ms/step - loss: 7.4010 - mae: 7.4010\n",
            "Epoch 41/100\n",
            "1/1 [==============================] - 0s 13ms/step - loss: 7.2685 - mae: 7.2685\n",
            "Epoch 42/100\n",
            "1/1 [==============================] - 0s 15ms/step - loss: 7.1925 - mae: 7.1925\n",
            "Epoch 43/100\n",
            "1/1 [==============================] - 0s 11ms/step - loss: 7.1869 - mae: 7.1869\n",
            "Epoch 44/100\n",
            "1/1 [==============================] - 0s 11ms/step - loss: 7.1813 - mae: 7.1813\n",
            "Epoch 45/100\n",
            "1/1 [==============================] - 0s 11ms/step - loss: 7.1756 - mae: 7.1756\n",
            "Epoch 46/100\n",
            "1/1 [==============================] - 0s 11ms/step - loss: 7.1700 - mae: 7.1700\n",
            "Epoch 47/100\n",
            "1/1 [==============================] - 0s 13ms/step - loss: 7.1644 - mae: 7.1644\n",
            "Epoch 48/100\n",
            "1/1 [==============================] - 0s 14ms/step - loss: 7.1587 - mae: 7.1587\n",
            "Epoch 49/100\n",
            "1/1 [==============================] - 0s 14ms/step - loss: 7.1531 - mae: 7.1531\n",
            "Epoch 50/100\n",
            "1/1 [==============================] - 0s 11ms/step - loss: 7.1475 - mae: 7.1475\n",
            "Epoch 51/100\n",
            "1/1 [==============================] - 0s 12ms/step - loss: 7.1419 - mae: 7.1419\n",
            "Epoch 52/100\n",
            "1/1 [==============================] - 0s 14ms/step - loss: 7.1363 - mae: 7.1363\n",
            "Epoch 53/100\n",
            "1/1 [==============================] - 0s 11ms/step - loss: 7.1306 - mae: 7.1306\n",
            "Epoch 54/100\n",
            "1/1 [==============================] - 0s 8ms/step - loss: 7.1250 - mae: 7.1250\n",
            "Epoch 55/100\n",
            "1/1 [==============================] - 0s 12ms/step - loss: 7.1194 - mae: 7.1194\n",
            "Epoch 56/100\n",
            "1/1 [==============================] - 0s 11ms/step - loss: 7.1137 - mae: 7.1137\n",
            "Epoch 57/100\n",
            "1/1 [==============================] - 0s 14ms/step - loss: 7.1081 - mae: 7.1081\n",
            "Epoch 58/100\n",
            "1/1 [==============================] - 0s 12ms/step - loss: 7.1025 - mae: 7.1025\n",
            "Epoch 59/100\n",
            "1/1 [==============================] - 0s 14ms/step - loss: 7.0969 - mae: 7.0969\n",
            "Epoch 60/100\n",
            "1/1 [==============================] - 0s 11ms/step - loss: 7.0912 - mae: 7.0912\n",
            "Epoch 61/100\n",
            "1/1 [==============================] - 0s 16ms/step - loss: 7.0856 - mae: 7.0856\n",
            "Epoch 62/100\n",
            "1/1 [==============================] - 0s 11ms/step - loss: 7.0800 - mae: 7.0800\n",
            "Epoch 63/100\n",
            "1/1 [==============================] - 0s 13ms/step - loss: 7.0744 - mae: 7.0744\n",
            "Epoch 64/100\n",
            "1/1 [==============================] - 0s 11ms/step - loss: 7.0688 - mae: 7.0688\n",
            "Epoch 65/100\n",
            "1/1 [==============================] - 0s 11ms/step - loss: 7.0631 - mae: 7.0631\n",
            "Epoch 66/100\n",
            "1/1 [==============================] - 0s 16ms/step - loss: 7.0575 - mae: 7.0575\n",
            "Epoch 67/100\n",
            "1/1 [==============================] - 0s 13ms/step - loss: 7.0519 - mae: 7.0519\n",
            "Epoch 68/100\n",
            "1/1 [==============================] - 0s 12ms/step - loss: 7.0462 - mae: 7.0462\n",
            "Epoch 69/100\n",
            "1/1 [==============================] - 0s 12ms/step - loss: 7.0406 - mae: 7.0406\n",
            "Epoch 70/100\n",
            "1/1 [==============================] - 0s 15ms/step - loss: 7.0350 - mae: 7.0350\n",
            "Epoch 71/100\n",
            "1/1 [==============================] - 0s 15ms/step - loss: 7.0294 - mae: 7.0294\n",
            "Epoch 72/100\n",
            "1/1 [==============================] - 0s 15ms/step - loss: 7.0238 - mae: 7.0238\n",
            "Epoch 73/100\n",
            "1/1 [==============================] - 0s 25ms/step - loss: 7.0181 - mae: 7.0181\n",
            "Epoch 74/100\n",
            "1/1 [==============================] - 0s 15ms/step - loss: 7.0125 - mae: 7.0125\n",
            "Epoch 75/100\n",
            "1/1 [==============================] - 0s 13ms/step - loss: 7.0069 - mae: 7.0069\n",
            "Epoch 76/100\n",
            "1/1 [==============================] - 0s 12ms/step - loss: 7.0013 - mae: 7.0013\n",
            "Epoch 77/100\n",
            "1/1 [==============================] - 0s 12ms/step - loss: 6.9956 - mae: 6.9956\n",
            "Epoch 78/100\n",
            "1/1 [==============================] - 0s 17ms/step - loss: 6.9900 - mae: 6.9900\n",
            "Epoch 79/100\n",
            "1/1 [==============================] - 0s 11ms/step - loss: 6.9844 - mae: 6.9844\n",
            "Epoch 80/100\n",
            "1/1 [==============================] - 0s 10ms/step - loss: 6.9788 - mae: 6.9788\n",
            "Epoch 81/100\n",
            "1/1 [==============================] - 0s 12ms/step - loss: 6.9731 - mae: 6.9731\n",
            "Epoch 82/100\n",
            "1/1 [==============================] - 0s 13ms/step - loss: 6.9675 - mae: 6.9675\n",
            "Epoch 83/100\n",
            "1/1 [==============================] - 0s 16ms/step - loss: 6.9619 - mae: 6.9619\n",
            "Epoch 84/100\n",
            "1/1 [==============================] - 0s 13ms/step - loss: 6.9563 - mae: 6.9563\n",
            "Epoch 85/100\n",
            "1/1 [==============================] - 0s 11ms/step - loss: 6.9506 - mae: 6.9506\n",
            "Epoch 86/100\n",
            "1/1 [==============================] - 0s 13ms/step - loss: 6.9450 - mae: 6.9450\n",
            "Epoch 87/100\n",
            "1/1 [==============================] - 0s 14ms/step - loss: 6.9394 - mae: 6.9394\n",
            "Epoch 88/100\n",
            "1/1 [==============================] - 0s 16ms/step - loss: 6.9338 - mae: 6.9338\n",
            "Epoch 89/100\n",
            "1/1 [==============================] - 0s 15ms/step - loss: 6.9281 - mae: 6.9281\n",
            "Epoch 90/100\n",
            "1/1 [==============================] - 0s 13ms/step - loss: 6.9225 - mae: 6.9225\n",
            "Epoch 91/100\n",
            "1/1 [==============================] - 0s 12ms/step - loss: 6.9169 - mae: 6.9169\n",
            "Epoch 92/100\n",
            "1/1 [==============================] - 0s 14ms/step - loss: 6.9113 - mae: 6.9113\n",
            "Epoch 93/100\n",
            "1/1 [==============================] - 0s 13ms/step - loss: 6.9056 - mae: 6.9056\n",
            "Epoch 94/100\n",
            "1/1 [==============================] - 0s 10ms/step - loss: 6.9000 - mae: 6.9000\n",
            "Epoch 95/100\n",
            "1/1 [==============================] - 0s 14ms/step - loss: 6.8944 - mae: 6.8944\n",
            "Epoch 96/100\n",
            "1/1 [==============================] - 0s 14ms/step - loss: 6.8888 - mae: 6.8888\n",
            "Epoch 97/100\n",
            "1/1 [==============================] - 0s 13ms/step - loss: 6.8831 - mae: 6.8831\n",
            "Epoch 98/100\n",
            "1/1 [==============================] - 0s 11ms/step - loss: 6.8775 - mae: 6.8775\n",
            "Epoch 99/100\n",
            "1/1 [==============================] - 0s 9ms/step - loss: 6.8719 - mae: 6.8719\n",
            "Epoch 100/100\n",
            "1/1 [==============================] - 0s 14ms/step - loss: 6.8663 - mae: 6.8663\n"
          ]
        },
        {
          "output_type": "execute_result",
          "data": {
            "text/plain": [
              "<keras.src.callbacks.History at 0x79ad244f4100>"
            ]
          },
          "metadata": {},
          "execution_count": 15
        }
      ]
    },
    {
      "cell_type": "code",
      "source": [
        "# Try make prediction\n",
        "model1.predict([17.0])"
      ],
      "metadata": {
        "colab": {
          "base_uri": "https://localhost:8080/"
        },
        "id": "4kMA7oidBuHG",
        "outputId": "062255d4-c0ec-40f3-ae16-3183063d1a28"
      },
      "execution_count": 16,
      "outputs": [
        {
          "output_type": "stream",
          "name": "stdout",
          "text": [
            "1/1 [==============================] - 0s 89ms/step\n"
          ]
        },
        {
          "output_type": "execute_result",
          "data": {
            "text/plain": [
              "array([[29.771816]], dtype=float32)"
            ]
          },
          "metadata": {},
          "execution_count": 16
        }
      ]
    },
    {
      "cell_type": "code",
      "source": [
        "# re-write the model by my self and improve one thing to get better\n",
        "\n",
        "# 1. Create the model\n",
        "model2 = tf.keras.Sequential([\n",
        "    tf.keras.layers.Dense(1)\n",
        "])\n",
        "\n",
        "# 2. Compile the model\n",
        "model2.compile(loss = tf.keras.losses.mae,\n",
        "              optimizer = tf.keras.optimizers.Adam(learning_rate=0.001), # chang the optimizers from SGD to adam\n",
        "              metrics = [\"mae\"])\n",
        "\n",
        "# 3. Fit the model\n",
        "# model.fit(X, Y, epochs=5) # BREAK IN UPDATED TENSOR VERSION\n",
        "model2.fit(tf.expand_dims(X, axis=-1), Y, epochs=100)"
      ],
      "metadata": {
        "colab": {
          "base_uri": "https://localhost:8080/"
        },
        "id": "gdwbhbhmJVPx",
        "outputId": "5ac041e9-4fa8-49fa-bb5f-b21c79a62356"
      },
      "execution_count": 17,
      "outputs": [
        {
          "output_type": "stream",
          "name": "stdout",
          "text": [
            "Epoch 1/100\n",
            "1/1 [==============================] - 1s 548ms/step - loss: 17.5657 - mae: 17.5657\n",
            "Epoch 2/100\n",
            "1/1 [==============================] - 0s 11ms/step - loss: 17.5597 - mae: 17.5597\n",
            "Epoch 3/100\n",
            "1/1 [==============================] - 0s 14ms/step - loss: 17.5537 - mae: 17.5537\n",
            "Epoch 4/100\n",
            "1/1 [==============================] - 0s 12ms/step - loss: 17.5477 - mae: 17.5477\n",
            "Epoch 5/100\n",
            "1/1 [==============================] - 0s 11ms/step - loss: 17.5417 - mae: 17.5417\n",
            "Epoch 6/100\n",
            "1/1 [==============================] - 0s 10ms/step - loss: 17.5357 - mae: 17.5357\n",
            "Epoch 7/100\n",
            "1/1 [==============================] - 0s 14ms/step - loss: 17.5297 - mae: 17.5297\n",
            "Epoch 8/100\n",
            "1/1 [==============================] - 0s 12ms/step - loss: 17.5237 - mae: 17.5237\n",
            "Epoch 9/100\n",
            "1/1 [==============================] - 0s 12ms/step - loss: 17.5177 - mae: 17.5177\n",
            "Epoch 10/100\n",
            "1/1 [==============================] - 0s 17ms/step - loss: 17.5117 - mae: 17.5117\n",
            "Epoch 11/100\n",
            "1/1 [==============================] - 0s 11ms/step - loss: 17.5057 - mae: 17.5057\n",
            "Epoch 12/100\n",
            "1/1 [==============================] - 0s 11ms/step - loss: 17.4997 - mae: 17.4997\n",
            "Epoch 13/100\n",
            "1/1 [==============================] - 0s 11ms/step - loss: 17.4937 - mae: 17.4937\n",
            "Epoch 14/100\n",
            "1/1 [==============================] - 0s 10ms/step - loss: 17.4877 - mae: 17.4877\n",
            "Epoch 15/100\n",
            "1/1 [==============================] - 0s 9ms/step - loss: 17.4817 - mae: 17.4817\n",
            "Epoch 16/100\n",
            "1/1 [==============================] - 0s 10ms/step - loss: 17.4757 - mae: 17.4757\n",
            "Epoch 17/100\n",
            "1/1 [==============================] - 0s 9ms/step - loss: 17.4697 - mae: 17.4697\n",
            "Epoch 18/100\n",
            "1/1 [==============================] - 0s 9ms/step - loss: 17.4637 - mae: 17.4637\n",
            "Epoch 19/100\n",
            "1/1 [==============================] - 0s 9ms/step - loss: 17.4577 - mae: 17.4577\n",
            "Epoch 20/100\n",
            "1/1 [==============================] - 0s 9ms/step - loss: 17.4517 - mae: 17.4517\n",
            "Epoch 21/100\n",
            "1/1 [==============================] - 0s 10ms/step - loss: 17.4457 - mae: 17.4457\n",
            "Epoch 22/100\n",
            "1/1 [==============================] - 0s 10ms/step - loss: 17.4397 - mae: 17.4397\n",
            "Epoch 23/100\n",
            "1/1 [==============================] - 0s 10ms/step - loss: 17.4337 - mae: 17.4337\n",
            "Epoch 24/100\n",
            "1/1 [==============================] - 0s 11ms/step - loss: 17.4277 - mae: 17.4277\n",
            "Epoch 25/100\n",
            "1/1 [==============================] - 0s 10ms/step - loss: 17.4217 - mae: 17.4217\n",
            "Epoch 26/100\n",
            "1/1 [==============================] - 0s 9ms/step - loss: 17.4157 - mae: 17.4157\n",
            "Epoch 27/100\n",
            "1/1 [==============================] - 0s 10ms/step - loss: 17.4097 - mae: 17.4097\n",
            "Epoch 28/100\n",
            "1/1 [==============================] - 0s 10ms/step - loss: 17.4037 - mae: 17.4037\n",
            "Epoch 29/100\n",
            "1/1 [==============================] - 0s 9ms/step - loss: 17.3977 - mae: 17.3977\n",
            "Epoch 30/100\n",
            "1/1 [==============================] - 0s 9ms/step - loss: 17.3917 - mae: 17.3917\n",
            "Epoch 31/100\n",
            "1/1 [==============================] - 0s 11ms/step - loss: 17.3857 - mae: 17.3857\n",
            "Epoch 32/100\n",
            "1/1 [==============================] - 0s 11ms/step - loss: 17.3797 - mae: 17.3797\n",
            "Epoch 33/100\n",
            "1/1 [==============================] - 0s 11ms/step - loss: 17.3737 - mae: 17.3737\n",
            "Epoch 34/100\n",
            "1/1 [==============================] - 0s 10ms/step - loss: 17.3677 - mae: 17.3677\n",
            "Epoch 35/100\n",
            "1/1 [==============================] - 0s 10ms/step - loss: 17.3617 - mae: 17.3617\n",
            "Epoch 36/100\n",
            "1/1 [==============================] - 0s 10ms/step - loss: 17.3557 - mae: 17.3557\n",
            "Epoch 37/100\n",
            "1/1 [==============================] - 0s 10ms/step - loss: 17.3497 - mae: 17.3497\n",
            "Epoch 38/100\n",
            "1/1 [==============================] - 0s 9ms/step - loss: 17.3437 - mae: 17.3437\n",
            "Epoch 39/100\n",
            "1/1 [==============================] - 0s 11ms/step - loss: 17.3377 - mae: 17.3377\n",
            "Epoch 40/100\n",
            "1/1 [==============================] - 0s 11ms/step - loss: 17.3317 - mae: 17.3317\n",
            "Epoch 41/100\n",
            "1/1 [==============================] - 0s 10ms/step - loss: 17.3257 - mae: 17.3257\n",
            "Epoch 42/100\n",
            "1/1 [==============================] - 0s 10ms/step - loss: 17.3197 - mae: 17.3197\n",
            "Epoch 43/100\n",
            "1/1 [==============================] - 0s 9ms/step - loss: 17.3137 - mae: 17.3137\n",
            "Epoch 44/100\n",
            "1/1 [==============================] - 0s 10ms/step - loss: 17.3077 - mae: 17.3077\n",
            "Epoch 45/100\n",
            "1/1 [==============================] - 0s 14ms/step - loss: 17.3017 - mae: 17.3017\n",
            "Epoch 46/100\n",
            "1/1 [==============================] - 0s 11ms/step - loss: 17.2957 - mae: 17.2957\n",
            "Epoch 47/100\n",
            "1/1 [==============================] - 0s 10ms/step - loss: 17.2897 - mae: 17.2897\n",
            "Epoch 48/100\n",
            "1/1 [==============================] - 0s 13ms/step - loss: 17.2837 - mae: 17.2837\n",
            "Epoch 49/100\n",
            "1/1 [==============================] - 0s 11ms/step - loss: 17.2777 - mae: 17.2777\n",
            "Epoch 50/100\n",
            "1/1 [==============================] - 0s 10ms/step - loss: 17.2717 - mae: 17.2717\n",
            "Epoch 51/100\n",
            "1/1 [==============================] - 0s 10ms/step - loss: 17.2657 - mae: 17.2657\n",
            "Epoch 52/100\n",
            "1/1 [==============================] - 0s 11ms/step - loss: 17.2597 - mae: 17.2597\n",
            "Epoch 53/100\n",
            "1/1 [==============================] - 0s 11ms/step - loss: 17.2537 - mae: 17.2537\n",
            "Epoch 54/100\n",
            "1/1 [==============================] - 0s 11ms/step - loss: 17.2477 - mae: 17.2477\n",
            "Epoch 55/100\n",
            "1/1 [==============================] - 0s 11ms/step - loss: 17.2417 - mae: 17.2417\n",
            "Epoch 56/100\n",
            "1/1 [==============================] - 0s 10ms/step - loss: 17.2357 - mae: 17.2357\n",
            "Epoch 57/100\n",
            "1/1 [==============================] - 0s 14ms/step - loss: 17.2297 - mae: 17.2297\n",
            "Epoch 58/100\n",
            "1/1 [==============================] - 0s 14ms/step - loss: 17.2237 - mae: 17.2237\n",
            "Epoch 59/100\n",
            "1/1 [==============================] - 0s 16ms/step - loss: 17.2177 - mae: 17.2177\n",
            "Epoch 60/100\n",
            "1/1 [==============================] - 0s 13ms/step - loss: 17.2117 - mae: 17.2117\n",
            "Epoch 61/100\n",
            "1/1 [==============================] - 0s 11ms/step - loss: 17.2057 - mae: 17.2057\n",
            "Epoch 62/100\n",
            "1/1 [==============================] - 0s 13ms/step - loss: 17.1997 - mae: 17.1997\n",
            "Epoch 63/100\n",
            "1/1 [==============================] - 0s 30ms/step - loss: 17.1937 - mae: 17.1937\n",
            "Epoch 64/100\n",
            "1/1 [==============================] - 0s 18ms/step - loss: 17.1877 - mae: 17.1877\n",
            "Epoch 65/100\n",
            "1/1 [==============================] - 0s 16ms/step - loss: 17.1817 - mae: 17.1817\n",
            "Epoch 66/100\n",
            "1/1 [==============================] - 0s 11ms/step - loss: 17.1757 - mae: 17.1757\n",
            "Epoch 67/100\n",
            "1/1 [==============================] - 0s 11ms/step - loss: 17.1697 - mae: 17.1697\n",
            "Epoch 68/100\n",
            "1/1 [==============================] - 0s 14ms/step - loss: 17.1637 - mae: 17.1637\n",
            "Epoch 69/100\n",
            "1/1 [==============================] - 0s 11ms/step - loss: 17.1577 - mae: 17.1577\n",
            "Epoch 70/100\n",
            "1/1 [==============================] - 0s 12ms/step - loss: 17.1517 - mae: 17.1517\n",
            "Epoch 71/100\n",
            "1/1 [==============================] - 0s 13ms/step - loss: 17.1457 - mae: 17.1457\n",
            "Epoch 72/100\n",
            "1/1 [==============================] - 0s 13ms/step - loss: 17.1397 - mae: 17.1397\n",
            "Epoch 73/100\n",
            "1/1 [==============================] - 0s 12ms/step - loss: 17.1337 - mae: 17.1337\n",
            "Epoch 74/100\n",
            "1/1 [==============================] - 0s 10ms/step - loss: 17.1277 - mae: 17.1277\n",
            "Epoch 75/100\n",
            "1/1 [==============================] - 0s 10ms/step - loss: 17.1217 - mae: 17.1217\n",
            "Epoch 76/100\n",
            "1/1 [==============================] - 0s 13ms/step - loss: 17.1157 - mae: 17.1157\n",
            "Epoch 77/100\n",
            "1/1 [==============================] - 0s 10ms/step - loss: 17.1097 - mae: 17.1097\n",
            "Epoch 78/100\n",
            "1/1 [==============================] - 0s 10ms/step - loss: 17.1037 - mae: 17.1037\n",
            "Epoch 79/100\n",
            "1/1 [==============================] - 0s 14ms/step - loss: 17.0977 - mae: 17.0977\n",
            "Epoch 80/100\n",
            "1/1 [==============================] - 0s 26ms/step - loss: 17.0917 - mae: 17.0917\n",
            "Epoch 81/100\n",
            "1/1 [==============================] - 0s 13ms/step - loss: 17.0857 - mae: 17.0857\n",
            "Epoch 82/100\n",
            "1/1 [==============================] - 0s 20ms/step - loss: 17.0797 - mae: 17.0797\n",
            "Epoch 83/100\n",
            "1/1 [==============================] - 0s 17ms/step - loss: 17.0737 - mae: 17.0737\n",
            "Epoch 84/100\n",
            "1/1 [==============================] - 0s 33ms/step - loss: 17.0677 - mae: 17.0677\n",
            "Epoch 85/100\n",
            "1/1 [==============================] - 0s 27ms/step - loss: 17.0617 - mae: 17.0617\n",
            "Epoch 86/100\n",
            "1/1 [==============================] - 0s 26ms/step - loss: 17.0557 - mae: 17.0557\n",
            "Epoch 87/100\n",
            "1/1 [==============================] - 0s 19ms/step - loss: 17.0497 - mae: 17.0497\n",
            "Epoch 88/100\n",
            "1/1 [==============================] - 0s 17ms/step - loss: 17.0437 - mae: 17.0437\n",
            "Epoch 89/100\n",
            "1/1 [==============================] - 0s 22ms/step - loss: 17.0377 - mae: 17.0377\n",
            "Epoch 90/100\n",
            "1/1 [==============================] - 0s 18ms/step - loss: 17.0317 - mae: 17.0317\n",
            "Epoch 91/100\n",
            "1/1 [==============================] - 0s 25ms/step - loss: 17.0257 - mae: 17.0257\n",
            "Epoch 92/100\n",
            "1/1 [==============================] - 0s 20ms/step - loss: 17.0197 - mae: 17.0197\n",
            "Epoch 93/100\n",
            "1/1 [==============================] - 0s 21ms/step - loss: 17.0137 - mae: 17.0137\n",
            "Epoch 94/100\n",
            "1/1 [==============================] - 0s 25ms/step - loss: 17.0077 - mae: 17.0077\n",
            "Epoch 95/100\n",
            "1/1 [==============================] - 0s 12ms/step - loss: 17.0017 - mae: 17.0017\n",
            "Epoch 96/100\n",
            "1/1 [==============================] - 0s 20ms/step - loss: 16.9957 - mae: 16.9957\n",
            "Epoch 97/100\n",
            "1/1 [==============================] - 0s 18ms/step - loss: 16.9897 - mae: 16.9897\n",
            "Epoch 98/100\n",
            "1/1 [==============================] - 0s 16ms/step - loss: 16.9837 - mae: 16.9837\n",
            "Epoch 99/100\n",
            "1/1 [==============================] - 0s 16ms/step - loss: 16.9777 - mae: 16.9777\n",
            "Epoch 100/100\n",
            "1/1 [==============================] - 0s 15ms/step - loss: 16.9717 - mae: 16.9717\n"
          ]
        },
        {
          "output_type": "execute_result",
          "data": {
            "text/plain": [
              "<keras.src.callbacks.History at 0x79ad24361e40>"
            ]
          },
          "metadata": {},
          "execution_count": 17
        }
      ]
    },
    {
      "cell_type": "code",
      "source": [
        "# Try make prediction\n",
        "model2.predict([17.0])"
      ],
      "metadata": {
        "colab": {
          "base_uri": "https://localhost:8080/"
        },
        "id": "QeWEo95_J5Gg",
        "outputId": "243643a0-3b0d-4e3e-a30c-002d9f83a7f6"
      },
      "execution_count": 18,
      "outputs": [
        {
          "output_type": "stream",
          "name": "stdout",
          "text": [
            "1/1 [==============================] - 0s 147ms/step\n"
          ]
        },
        {
          "output_type": "execute_result",
          "data": {
            "text/plain": [
              "array([[-13.793668]], dtype=float32)"
            ]
          },
          "metadata": {},
          "execution_count": 18
        }
      ]
    },
    {
      "cell_type": "code",
      "source": [
        "# re-write the model\n",
        "\n",
        "# 1. Create the model (with 100 hidden units )\n",
        "model3 = tf.keras.Sequential([\n",
        "    tf.keras.layers.Dense(50, activation=None),\n",
        "    tf.keras.layers.Dense(1)\n",
        "])\n",
        "\n",
        "# 2. Compile the model\n",
        "model3.compile(loss = \"mae\",\n",
        "              optimizer = tf.keras.optimizers.Adam(learning_rate = 0.01),\n",
        "              metrics = [\"mae\"])\n",
        "\n",
        "# 3. Fit the model\n",
        "# model.fit(X, Y, epochs=5) # BREAK IN UPDATED TENSOR VERSION\n",
        "model3.fit(tf.expand_dims(X, axis=-1), Y, epochs=100)"
      ],
      "metadata": {
        "colab": {
          "base_uri": "https://localhost:8080/"
        },
        "id": "KI1XF166hgOa",
        "outputId": "7402cf76-7dbd-4d3b-b86e-956e40af8ff8"
      },
      "execution_count": 19,
      "outputs": [
        {
          "output_type": "stream",
          "name": "stdout",
          "text": [
            "Epoch 1/100\n",
            "1/1 [==============================] - 1s 1s/step - loss: 13.8922 - mae: 13.8922\n",
            "Epoch 2/100\n",
            "1/1 [==============================] - 0s 21ms/step - loss: 13.2730 - mae: 13.2730\n",
            "Epoch 3/100\n",
            "1/1 [==============================] - 0s 18ms/step - loss: 12.6617 - mae: 12.6617\n",
            "Epoch 4/100\n",
            "1/1 [==============================] - 0s 12ms/step - loss: 12.0546 - mae: 12.0546\n",
            "Epoch 5/100\n",
            "1/1 [==============================] - 0s 10ms/step - loss: 11.4482 - mae: 11.4482\n",
            "Epoch 6/100\n",
            "1/1 [==============================] - 0s 10ms/step - loss: 10.8391 - mae: 10.8391\n",
            "Epoch 7/100\n",
            "1/1 [==============================] - 0s 17ms/step - loss: 10.2244 - mae: 10.2244\n",
            "Epoch 8/100\n",
            "1/1 [==============================] - 0s 14ms/step - loss: 9.6009 - mae: 9.6009\n",
            "Epoch 9/100\n",
            "1/1 [==============================] - 0s 19ms/step - loss: 8.9657 - mae: 8.9657\n",
            "Epoch 10/100\n",
            "1/1 [==============================] - 0s 24ms/step - loss: 8.3160 - mae: 8.3160\n",
            "Epoch 11/100\n",
            "1/1 [==============================] - 0s 19ms/step - loss: 7.6489 - mae: 7.6489\n",
            "Epoch 12/100\n",
            "1/1 [==============================] - 0s 20ms/step - loss: 6.9616 - mae: 6.9616\n",
            "Epoch 13/100\n",
            "1/1 [==============================] - 0s 16ms/step - loss: 6.6307 - mae: 6.6307\n",
            "Epoch 14/100\n",
            "1/1 [==============================] - 0s 20ms/step - loss: 6.8276 - mae: 6.8276\n",
            "Epoch 15/100\n",
            "1/1 [==============================] - 0s 19ms/step - loss: 7.0926 - mae: 7.0926\n",
            "Epoch 16/100\n",
            "1/1 [==============================] - 0s 18ms/step - loss: 7.3294 - mae: 7.3294\n",
            "Epoch 17/100\n",
            "1/1 [==============================] - 0s 23ms/step - loss: 7.4489 - mae: 7.4489\n",
            "Epoch 18/100\n",
            "1/1 [==============================] - 0s 17ms/step - loss: 7.3865 - mae: 7.3865\n",
            "Epoch 19/100\n",
            "1/1 [==============================] - 0s 16ms/step - loss: 7.1845 - mae: 7.1845\n",
            "Epoch 20/100\n",
            "1/1 [==============================] - 0s 17ms/step - loss: 6.8900 - mae: 6.8900\n",
            "Epoch 21/100\n",
            "1/1 [==============================] - 0s 24ms/step - loss: 6.6687 - mae: 6.6687\n",
            "Epoch 22/100\n",
            "1/1 [==============================] - 0s 20ms/step - loss: 6.4302 - mae: 6.4302\n",
            "Epoch 23/100\n",
            "1/1 [==============================] - 0s 19ms/step - loss: 6.1781 - mae: 6.1781\n",
            "Epoch 24/100\n",
            "1/1 [==============================] - 0s 25ms/step - loss: 5.9877 - mae: 5.9877\n",
            "Epoch 25/100\n",
            "1/1 [==============================] - 0s 32ms/step - loss: 5.9465 - mae: 5.9465\n",
            "Epoch 26/100\n",
            "1/1 [==============================] - 0s 25ms/step - loss: 5.9189 - mae: 5.9189\n",
            "Epoch 27/100\n",
            "1/1 [==============================] - 0s 30ms/step - loss: 5.9729 - mae: 5.9729\n",
            "Epoch 28/100\n",
            "1/1 [==============================] - 0s 25ms/step - loss: 5.9270 - mae: 5.9270\n",
            "Epoch 29/100\n",
            "1/1 [==============================] - 0s 27ms/step - loss: 5.7942 - mae: 5.7942\n",
            "Epoch 30/100\n",
            "1/1 [==============================] - 0s 41ms/step - loss: 5.5904 - mae: 5.5904\n",
            "Epoch 31/100\n",
            "1/1 [==============================] - 0s 15ms/step - loss: 5.4935 - mae: 5.4935\n",
            "Epoch 32/100\n",
            "1/1 [==============================] - 0s 12ms/step - loss: 5.3936 - mae: 5.3936\n",
            "Epoch 33/100\n",
            "1/1 [==============================] - 0s 19ms/step - loss: 5.2904 - mae: 5.2904\n",
            "Epoch 34/100\n",
            "1/1 [==============================] - 0s 26ms/step - loss: 5.1837 - mae: 5.1837\n",
            "Epoch 35/100\n",
            "1/1 [==============================] - 0s 19ms/step - loss: 5.1655 - mae: 5.1655\n",
            "Epoch 36/100\n",
            "1/1 [==============================] - 0s 18ms/step - loss: 5.1127 - mae: 5.1127\n",
            "Epoch 37/100\n",
            "1/1 [==============================] - 0s 31ms/step - loss: 5.0220 - mae: 5.0220\n",
            "Epoch 38/100\n",
            "1/1 [==============================] - 0s 32ms/step - loss: 4.8963 - mae: 4.8963\n",
            "Epoch 39/100\n",
            "1/1 [==============================] - 0s 26ms/step - loss: 4.7386 - mae: 4.7386\n",
            "Epoch 40/100\n",
            "1/1 [==============================] - 0s 15ms/step - loss: 4.5860 - mae: 4.5860\n",
            "Epoch 41/100\n",
            "1/1 [==============================] - 0s 36ms/step - loss: 4.4877 - mae: 4.4877\n",
            "Epoch 42/100\n",
            "1/1 [==============================] - 0s 24ms/step - loss: 4.3814 - mae: 4.3814\n",
            "Epoch 43/100\n",
            "1/1 [==============================] - 0s 39ms/step - loss: 4.2672 - mae: 4.2672\n",
            "Epoch 44/100\n",
            "1/1 [==============================] - 0s 33ms/step - loss: 4.1450 - mae: 4.1450\n",
            "Epoch 45/100\n",
            "1/1 [==============================] - 0s 28ms/step - loss: 4.0146 - mae: 4.0146\n",
            "Epoch 46/100\n",
            "1/1 [==============================] - 0s 21ms/step - loss: 3.8976 - mae: 3.8976\n",
            "Epoch 47/100\n",
            "1/1 [==============================] - 0s 19ms/step - loss: 3.7180 - mae: 3.7180\n",
            "Epoch 48/100\n",
            "1/1 [==============================] - 0s 12ms/step - loss: 3.5522 - mae: 3.5522\n",
            "Epoch 49/100\n",
            "1/1 [==============================] - 0s 15ms/step - loss: 3.3783 - mae: 3.3783\n",
            "Epoch 50/100\n",
            "1/1 [==============================] - 0s 27ms/step - loss: 3.2141 - mae: 3.2141\n",
            "Epoch 51/100\n",
            "1/1 [==============================] - 0s 22ms/step - loss: 3.0617 - mae: 3.0617\n",
            "Epoch 52/100\n",
            "1/1 [==============================] - 0s 20ms/step - loss: 2.8558 - mae: 2.8558\n",
            "Epoch 53/100\n",
            "1/1 [==============================] - 0s 16ms/step - loss: 2.6640 - mae: 2.6640\n",
            "Epoch 54/100\n",
            "1/1 [==============================] - 0s 39ms/step - loss: 2.4765 - mae: 2.4765\n",
            "Epoch 55/100\n",
            "1/1 [==============================] - 0s 35ms/step - loss: 2.2991 - mae: 2.2991\n",
            "Epoch 56/100\n",
            "1/1 [==============================] - 0s 54ms/step - loss: 2.0531 - mae: 2.0531\n",
            "Epoch 57/100\n",
            "1/1 [==============================] - 0s 39ms/step - loss: 1.8181 - mae: 1.8181\n",
            "Epoch 58/100\n",
            "1/1 [==============================] - 0s 21ms/step - loss: 1.5922 - mae: 1.5922\n",
            "Epoch 59/100\n",
            "1/1 [==============================] - 0s 19ms/step - loss: 1.3474 - mae: 1.3474\n",
            "Epoch 60/100\n",
            "1/1 [==============================] - 0s 23ms/step - loss: 1.0813 - mae: 1.0813\n",
            "Epoch 61/100\n",
            "1/1 [==============================] - 0s 27ms/step - loss: 0.8764 - mae: 0.8764\n",
            "Epoch 62/100\n",
            "1/1 [==============================] - 0s 29ms/step - loss: 0.5362 - mae: 0.5362\n",
            "Epoch 63/100\n",
            "1/1 [==============================] - 0s 21ms/step - loss: 0.3196 - mae: 0.3196\n",
            "Epoch 64/100\n",
            "1/1 [==============================] - 0s 22ms/step - loss: 0.0507 - mae: 0.0507\n",
            "Epoch 65/100\n",
            "1/1 [==============================] - 0s 24ms/step - loss: 0.2816 - mae: 0.2816\n",
            "Epoch 66/100\n",
            "1/1 [==============================] - 0s 21ms/step - loss: 0.4503 - mae: 0.4503\n",
            "Epoch 67/100\n",
            "1/1 [==============================] - 0s 34ms/step - loss: 0.5624 - mae: 0.5624\n",
            "Epoch 68/100\n",
            "1/1 [==============================] - 0s 30ms/step - loss: 0.6511 - mae: 0.6511\n",
            "Epoch 69/100\n",
            "1/1 [==============================] - 0s 22ms/step - loss: 0.6493 - mae: 0.6493\n",
            "Epoch 70/100\n",
            "1/1 [==============================] - 0s 23ms/step - loss: 0.6174 - mae: 0.6174\n",
            "Epoch 71/100\n",
            "1/1 [==============================] - 0s 21ms/step - loss: 0.6036 - mae: 0.6036\n",
            "Epoch 72/100\n",
            "1/1 [==============================] - 0s 23ms/step - loss: 0.4617 - mae: 0.4617\n",
            "Epoch 73/100\n",
            "1/1 [==============================] - 0s 20ms/step - loss: 0.3870 - mae: 0.3870\n",
            "Epoch 74/100\n",
            "1/1 [==============================] - 0s 27ms/step - loss: 0.2207 - mae: 0.2207\n",
            "Epoch 75/100\n",
            "1/1 [==============================] - 0s 22ms/step - loss: 0.1039 - mae: 0.1039\n",
            "Epoch 76/100\n",
            "1/1 [==============================] - 0s 19ms/step - loss: 0.2232 - mae: 0.2232\n",
            "Epoch 77/100\n",
            "1/1 [==============================] - 0s 20ms/step - loss: 0.2326 - mae: 0.2326\n",
            "Epoch 78/100\n",
            "1/1 [==============================] - 0s 16ms/step - loss: 0.4074 - mae: 0.4074\n",
            "Epoch 79/100\n",
            "1/1 [==============================] - 0s 18ms/step - loss: 0.4320 - mae: 0.4320\n",
            "Epoch 80/100\n",
            "1/1 [==============================] - 0s 13ms/step - loss: 0.3424 - mae: 0.3424\n",
            "Epoch 81/100\n",
            "1/1 [==============================] - 0s 15ms/step - loss: 0.3571 - mae: 0.3571\n",
            "Epoch 82/100\n",
            "1/1 [==============================] - 0s 17ms/step - loss: 0.2525 - mae: 0.2525\n",
            "Epoch 83/100\n",
            "1/1 [==============================] - 0s 34ms/step - loss: 0.2430 - mae: 0.2430\n",
            "Epoch 84/100\n",
            "1/1 [==============================] - 0s 20ms/step - loss: 0.0691 - mae: 0.0691\n",
            "Epoch 85/100\n",
            "1/1 [==============================] - 0s 25ms/step - loss: 0.1448 - mae: 0.1448\n",
            "Epoch 86/100\n",
            "1/1 [==============================] - 0s 22ms/step - loss: 0.1661 - mae: 0.1661\n",
            "Epoch 87/100\n",
            "1/1 [==============================] - 0s 28ms/step - loss: 0.2383 - mae: 0.2383\n",
            "Epoch 88/100\n",
            "1/1 [==============================] - 0s 25ms/step - loss: 0.3019 - mae: 0.3019\n",
            "Epoch 89/100\n",
            "1/1 [==============================] - 0s 31ms/step - loss: 0.2646 - mae: 0.2646\n",
            "Epoch 90/100\n",
            "1/1 [==============================] - 0s 17ms/step - loss: 0.2775 - mae: 0.2775\n",
            "Epoch 91/100\n",
            "1/1 [==============================] - 0s 17ms/step - loss: 0.1740 - mae: 0.1740\n",
            "Epoch 92/100\n",
            "1/1 [==============================] - 0s 18ms/step - loss: 0.1839 - mae: 0.1839\n",
            "Epoch 93/100\n",
            "1/1 [==============================] - 0s 32ms/step - loss: 0.1294 - mae: 0.1294\n",
            "Epoch 94/100\n",
            "1/1 [==============================] - 0s 28ms/step - loss: 0.2549 - mae: 0.2549\n",
            "Epoch 95/100\n",
            "1/1 [==============================] - 0s 38ms/step - loss: 0.3232 - mae: 0.3232\n",
            "Epoch 96/100\n",
            "1/1 [==============================] - 0s 20ms/step - loss: 0.1973 - mae: 0.1973\n",
            "Epoch 97/100\n",
            "1/1 [==============================] - 0s 21ms/step - loss: 0.3200 - mae: 0.3200\n",
            "Epoch 98/100\n",
            "1/1 [==============================] - 0s 43ms/step - loss: 0.3761 - mae: 0.3761\n",
            "Epoch 99/100\n",
            "1/1 [==============================] - 0s 25ms/step - loss: 0.1402 - mae: 0.1402\n",
            "Epoch 100/100\n",
            "1/1 [==============================] - 0s 29ms/step - loss: 0.3329 - mae: 0.3329\n"
          ]
        },
        {
          "output_type": "execute_result",
          "data": {
            "text/plain": [
              "<keras.src.callbacks.History at 0x79ad24260730>"
            ]
          },
          "metadata": {},
          "execution_count": 19
        }
      ]
    },
    {
      "cell_type": "code",
      "source": [
        "# Try make prediction\n",
        "model3.predict([17.0])"
      ],
      "metadata": {
        "colab": {
          "base_uri": "https://localhost:8080/"
        },
        "id": "iZcXS1vmiusq",
        "outputId": "270089fc-bd49-405d-eea4-26781cd9832f"
      },
      "execution_count": 20,
      "outputs": [
        {
          "output_type": "stream",
          "name": "stdout",
          "text": [
            "1/1 [==============================] - 0s 146ms/step\n"
          ]
        },
        {
          "output_type": "execute_result",
          "data": {
            "text/plain": [
              "array([[25.7746]], dtype=float32)"
            ]
          },
          "metadata": {},
          "execution_count": 20
        }
      ]
    },
    {
      "cell_type": "markdown",
      "source": [
        "## Evaluating Model\n",
        "\n",
        "Build a model -> fit it -> evaluate it -> tweak a model -> fit it -> evaluate it...\n",
        "\n",
        "Evaluation = visualize\n",
        "\n",
        "it's good idea to visualize :\n",
        "* The data - what data we working with? what does it look like?\n",
        "* The model = what does our model look like?\n",
        "* The training of a model - how does a model perform while it learns?\n",
        "* The predictions of the model - how do the predictions of a model line up against the ground truth (the origin label)"
      ],
      "metadata": {
        "id": "ggu1CbXFlSbl"
      }
    },
    {
      "cell_type": "code",
      "source": [
        "# Make a bigger dataset\n",
        "\n",
        "x = tf.range(-100, 100, 4)\n",
        "x"
      ],
      "metadata": {
        "colab": {
          "base_uri": "https://localhost:8080/"
        },
        "id": "O5yDk0J9lV5n",
        "outputId": "c2f1ddb3-17bc-42f8-bfed-185fa41ca051"
      },
      "execution_count": 21,
      "outputs": [
        {
          "output_type": "execute_result",
          "data": {
            "text/plain": [
              "<tf.Tensor: shape=(50,), dtype=int32, numpy=\n",
              "array([-100,  -96,  -92,  -88,  -84,  -80,  -76,  -72,  -68,  -64,  -60,\n",
              "        -56,  -52,  -48,  -44,  -40,  -36,  -32,  -28,  -24,  -20,  -16,\n",
              "        -12,   -8,   -4,    0,    4,    8,   12,   16,   20,   24,   28,\n",
              "         32,   36,   40,   44,   48,   52,   56,   60,   64,   68,   72,\n",
              "         76,   80,   84,   88,   92,   96], dtype=int32)>"
            ]
          },
          "metadata": {},
          "execution_count": 21
        }
      ]
    },
    {
      "cell_type": "code",
      "source": [
        "# Make labels for the dataset\n",
        "\n",
        "y = x + 10\n",
        "y"
      ],
      "metadata": {
        "colab": {
          "base_uri": "https://localhost:8080/"
        },
        "id": "_VnV5iodqYP8",
        "outputId": "68db196f-053c-41d7-ef0b-2050e818a627"
      },
      "execution_count": 22,
      "outputs": [
        {
          "output_type": "execute_result",
          "data": {
            "text/plain": [
              "<tf.Tensor: shape=(50,), dtype=int32, numpy=\n",
              "array([-90, -86, -82, -78, -74, -70, -66, -62, -58, -54, -50, -46, -42,\n",
              "       -38, -34, -30, -26, -22, -18, -14, -10,  -6,  -2,   2,   6,  10,\n",
              "        14,  18,  22,  26,  30,  34,  38,  42,  46,  50,  54,  58,  62,\n",
              "        66,  70,  74,  78,  82,  86,  90,  94,  98, 102, 106], dtype=int32)>"
            ]
          },
          "metadata": {},
          "execution_count": 22
        }
      ]
    },
    {
      "cell_type": "code",
      "source": [
        "# Visualize the data\n",
        "\n",
        "import matplotlib.pyplot as plt\n",
        "\n",
        "plt.scatter(x, y)"
      ],
      "metadata": {
        "colab": {
          "base_uri": "https://localhost:8080/",
          "height": 447
        },
        "id": "wqnieOnpqiby",
        "outputId": "a438d201-aa9b-4fa0-a5ee-76d3ab044d69"
      },
      "execution_count": 23,
      "outputs": [
        {
          "output_type": "execute_result",
          "data": {
            "text/plain": [
              "<matplotlib.collections.PathCollection at 0x79ad24173ac0>"
            ]
          },
          "metadata": {},
          "execution_count": 23
        },
        {
          "output_type": "display_data",
          "data": {
            "text/plain": [
              "<Figure size 640x480 with 1 Axes>"
            ],
            "image/png": "[encoded data removed]"
          },
          "metadata": {}
        }
      ]
    },
    {
      "cell_type": "markdown",
      "source": [
        "### The 3 sets\n",
        "\n",
        "* **Training set** - the model learn from this data, 70-80%\n",
        "* **Validation set** - set model gets tuned on this data, 10-15%\n",
        "* **Test set** - the model gets evaluated on this data, 10-15%"
      ],
      "metadata": {
        "id": "CCtd3h36q0Xk"
      }
    },
    {
      "cell_type": "code",
      "source": [
        "# Check the length of the data\n",
        "len(x)"
      ],
      "metadata": {
        "colab": {
          "base_uri": "https://localhost:8080/"
        },
        "id": "2_ITjQWjFQsM",
        "outputId": "9e31e45d-5d13-4aa5-9770-ebd9ffd60e43"
      },
      "execution_count": 24,
      "outputs": [
        {
          "output_type": "execute_result",
          "data": {
            "text/plain": [
              "50"
            ]
          },
          "metadata": {},
          "execution_count": 24
        }
      ]
    },
    {
      "cell_type": "code",
      "source": [
        "# Split the data into train and test sets\n",
        "x_train = x[:40] # first to 40 data will be the training sample\n",
        "y_train = y[:40]\n",
        "\n",
        "x_test = x[40:] # 20% will be test\n",
        "y_test = y[40:]\n",
        "\n",
        "len(x_train), len(x_test), len(y_train), len(y_test)"
      ],
      "metadata": {
        "colab": {
          "base_uri": "https://localhost:8080/"
        },
        "id": "4fkIFEl_HAu3",
        "outputId": "c96a945a-8e6d-4869-afa4-d00df89c2580"
      },
      "execution_count": 25,
      "outputs": [
        {
          "output_type": "execute_result",
          "data": {
            "text/plain": [
              "(40, 10, 40, 10)"
            ]
          },
          "metadata": {},
          "execution_count": 25
        }
      ]
    },
    {
      "cell_type": "markdown",
      "source": [
        "### Visualing the data\n",
        "\n",
        "Now we've got out data in training and test sets...lets visualize it"
      ],
      "metadata": {
        "id": "9WJ9AtA0KgLL"
      }
    },
    {
      "cell_type": "code",
      "source": [
        "plt.figure(figsize=(10,7))\n",
        "\n",
        "# Plot training data in blue\n",
        "plt.scatter(x_train, y_train, c=\"b\", label=\"Training data\")\n",
        "\n",
        "# Plot test data in green\n",
        "plt.scatter(x_test, y_test, c=\"g\", label=\"Testing data\")\n",
        "\n",
        "# Show a legend\n",
        "plt.legend();"
      ],
      "metadata": {
        "colab": {
          "base_uri": "https://localhost:8080/",
          "height": 484
        },
        "id": "OQGu_de6G_li",
        "outputId": "3957bb9f-8238-4a11-bc03-c0470b575bfc"
      },
      "execution_count": 26,
      "outputs": [
        {
          "output_type": "display_data",
          "data": {
            "text/plain": [
              "<Figure size 1000x700 with 1 Axes>"
            ],
            "image/png": "[encoded data removed]"
          },
          "metadata": {}
        }
      ]
    },
    {
      "cell_type": "code",
      "source": [
        "# Lets have a look at how to build a neural network for our data\n",
        "\n",
        "# 1. Create the model\n",
        "model = tf.keras.Sequential([\n",
        "    tf.keras.layers.Dense(1)\n",
        "])\n",
        "\n",
        "# 2. Compile the model\n",
        "model.compile(loss = tf.keras.losses.mae,\n",
        "              optimizer = tf.keras.optimizers.SGD(),\n",
        "              metrics = [\"mae\"])\n",
        "\n",
        "# 3. Fit the model\n",
        "#model.fit(tf.expand_dims(x_train, axis=-1), y_train, epochs=100)"
      ],
      "metadata": {
        "id": "TtdWZXKHSSN-"
      },
      "execution_count": 27,
      "outputs": []
    },
    {
      "cell_type": "markdown",
      "source": [
        "### Visualizing the model"
      ],
      "metadata": {
        "id": "F7d7P08yTScA"
      }
    },
    {
      "cell_type": "code",
      "source": [
        "# Lets create  model wich builds automatically by defining the input_shape arguments\n",
        "\n",
        "tf.random.set_seed(42)\n",
        "\n",
        "# 1. Create the model\n",
        "model_1 = tf.keras.Sequential([\n",
        "    tf.keras.layers.Dense(100, input_shape=[1], name=\"input_layer\"),\n",
        "    tf.keras.layers.Dense(1, name=\"output_layer\")\n",
        "], name=\"model_one\")\n",
        "\n",
        "# 2. Compile the model\n",
        "model_1.compile(loss = tf.keras.losses.mae,\n",
        "              optimizer = tf.keras.optimizers.SGD(),\n",
        "              metrics = [\"mae\"])"
      ],
      "metadata": {
        "id": "MpSA6LxwTzZK"
      },
      "execution_count": 28,
      "outputs": []
    },
    {
      "cell_type": "code",
      "source": [
        "model_1.summary()"
      ],
      "metadata": {
        "colab": {
          "base_uri": "https://localhost:8080/"
        },
        "id": "-jMC9-6WUyLw",
        "outputId": "37915213-8d8f-4eb8-f3dd-030385ca8acc"
      },
      "execution_count": 29,
      "outputs": [
        {
          "output_type": "stream",
          "name": "stdout",
          "text": [
            "Model: \"model_one\"\n",
            "_________________________________________________________________\n",
            " Layer (type)                Output Shape              Param #   \n",
            "=================================================================\n",
            " input_layer (Dense)         (None, 100)               200       \n",
            "                                                                 \n",
            " output_layer (Dense)        (None, 1)                 101       \n",
            "                                                                 \n",
            "=================================================================\n",
            "Total params: 301 (1.18 KB)\n",
            "Trainable params: 301 (1.18 KB)\n",
            "Non-trainable params: 0 (0.00 Byte)\n",
            "_________________________________________________________________\n"
          ]
        }
      ]
    },
    {
      "cell_type": "markdown",
      "source": [
        "* Total params - total number of parameters that we have\n",
        "\n",
        "* Trainable parameters - the parameters (patterns) the model can update as it trains\n",
        "\n",
        "* Non-trainable params - parameters cant updated during training (allready learn in models during **transfer learning**)\n",
        "\n",
        "📚 **Resource** : For a more in depth overview of the trainable parameters within a layer, check ouy MIT's intorduction to deep learning video\n",
        "\n",
        "⚡**Exercise :** Try playing around with the number of hidden units in the dense layer, see how that effect the number of parameters"
      ],
      "metadata": {
        "id": "fkeG27Fm3_t1"
      }
    },
    {
      "cell_type": "code",
      "source": [
        "# 3. Fit the model\n",
        "model_1.fit(tf.expand_dims(x_train, axis=-1), y_train, epochs=60, verbose=0)"
      ],
      "metadata": {
        "colab": {
          "base_uri": "https://localhost:8080/"
        },
        "id": "e-cgkHtW6914",
        "outputId": "604020a9-1f9e-4b2f-9bb9-dbe430af239c"
      },
      "execution_count": 30,
      "outputs": [
        {
          "output_type": "execute_result",
          "data": {
            "text/plain": [
              "<keras.src.callbacks.History at 0x79ad1f73a680>"
            ]
          },
          "metadata": {},
          "execution_count": 30
        }
      ]
    },
    {
      "cell_type": "code",
      "source": [
        "# Get a summary of our model\n",
        "model_1.summary()"
      ],
      "metadata": {
        "colab": {
          "base_uri": "https://localhost:8080/"
        },
        "id": "IYam8Kl-M2o7",
        "outputId": "47d1ae1c-e651-46c8-d98f-927880158bd7"
      },
      "execution_count": 31,
      "outputs": [
        {
          "output_type": "stream",
          "name": "stdout",
          "text": [
            "Model: \"model_one\"\n",
            "_________________________________________________________________\n",
            " Layer (type)                Output Shape              Param #   \n",
            "=================================================================\n",
            " input_layer (Dense)         (None, 100)               200       \n",
            "                                                                 \n",
            " output_layer (Dense)        (None, 1)                 101       \n",
            "                                                                 \n",
            "=================================================================\n",
            "Total params: 301 (1.18 KB)\n",
            "Trainable params: 301 (1.18 KB)\n",
            "Non-trainable params: 0 (0.00 Byte)\n",
            "_________________________________________________________________\n"
          ]
        }
      ]
    },
    {
      "cell_type": "code",
      "source": [
        "from tensorflow.keras.utils import plot_model\n",
        "\n",
        "plot_model(model=model_1, show_shapes=True)"
      ],
      "metadata": {
        "colab": {
          "base_uri": "https://localhost:8080/",
          "height": 312
        },
        "id": "EMxErQE0NVSc",
        "outputId": "72b3f48d-ba08-4434-e7a2-0db17e64812b"
      },
      "execution_count": 32,
      "outputs": [
        {
          "output_type": "execute_result",
          "data": {
            "image/png": "[encoded data removed]",
            "text/plain": [
              "<IPython.core.display.Image object>"
            ]
          },
          "metadata": {},
          "execution_count": 32
        }
      ]
    },
    {
      "cell_type": "markdown",
      "source": [
        "### Visualizing our models predictions\n",
        "\n",
        "To visualize predictions, it's a good idea to plot them against the ground truth labels.\n",
        "\n",
        "Often you'll see this in the form of 'y_test' or 'y_true' versus 'y_pred' (ground truth versus your model prediction)"
      ],
      "metadata": {
        "id": "XXOFpjXFOyH9"
      }
    },
    {
      "cell_type": "code",
      "source": [
        "# Make some predictions\n",
        "\n",
        "y_pred = model_1.predict(x_test)\n",
        "y_pred"
      ],
      "metadata": {
        "colab": {
          "base_uri": "https://localhost:8080/"
        },
        "id": "943XbXEayJf3",
        "outputId": "1c6ef782-a592-4a42-f08a-c4cdf1fe2163"
      },
      "execution_count": 33,
      "outputs": [
        {
          "output_type": "stream",
          "name": "stderr",
          "text": [
            "WARNING:tensorflow:5 out of the last 5 calls to <function Model.make_predict_function.<locals>.predict_function at 0x79ad2577bbe0> triggered tf.function retracing. Tracing is expensive and the excessive number of tracings could be due to (1) creating @tf.function repeatedly in a loop, (2) passing tensors with different shapes, (3) passing Python objects instead of tensors. For (1), please define your @tf.function outside of the loop. For (2), @tf.function has reduce_retracing=True option that can avoid unnecessary retracing. For (3), please refer to https://www.tensorflow.org/guide/function#controlling_retracing and https://www.tensorflow.org/api_docs/python/tf/function for  more details.\n"
          ]
        },
        {
          "output_type": "stream",
          "name": "stdout",
          "text": [
            "1/1 [==============================] - 0s 167ms/step\n"
          ]
        },
        {
          "output_type": "execute_result",
          "data": {
            "text/plain": [
              "array([[ 71.76978 ],\n",
              "       [ 76.48641 ],\n",
              "       [ 81.20302 ],\n",
              "       [ 85.91964 ],\n",
              "       [ 90.636246],\n",
              "       [ 95.35286 ],\n",
              "       [100.06949 ],\n",
              "       [104.78609 ],\n",
              "       [109.50271 ],\n",
              "       [114.21933 ]], dtype=float32)"
            ]
          },
          "metadata": {},
          "execution_count": 33
        }
      ]
    },
    {
      "cell_type": "code",
      "source": [
        "y_test"
      ],
      "metadata": {
        "colab": {
          "base_uri": "https://localhost:8080/"
        },
        "id": "Ke-R5lq9zVa3",
        "outputId": "fcb3527c-38ea-42de-f36c-b2a016eb2b9a"
      },
      "execution_count": 34,
      "outputs": [
        {
          "output_type": "execute_result",
          "data": {
            "text/plain": [
              "<tf.Tensor: shape=(10,), dtype=int32, numpy=array([ 70,  74,  78,  82,  86,  90,  94,  98, 102, 106], dtype=int32)>"
            ]
          },
          "metadata": {},
          "execution_count": 34
        }
      ]
    },
    {
      "cell_type": "markdown",
      "source": [
        "🔑 **Note : ** if you feel like you're going to reuse some functionality in the future, its good idea to turn it into a fucntion"
      ],
      "metadata": {
        "id": "nSO6jWAR09Jt"
      }
    },
    {
      "cell_type": "code",
      "source": [
        "# Lets create a plotting function\n",
        "\n",
        "def plot_predictions(train_data=x_train,\n",
        "                     train_labels=y_train,\n",
        "                     test_data=x_test,\n",
        "                     test_labels=y_test,\n",
        "                     predictions=y_pred):\n",
        "  \"\"\"\n",
        "  Plots training data, test data and compares predictions to ground truth labels\n",
        "  \"\"\"\n",
        "  plt.figure(figsize=(10,7))\n",
        "  # Plot training data in blue\n",
        "  plt.scatter(train_data, train_labels, c=\"b\", label=\"Training data\")\n",
        "\n",
        "  # Plot testing data in green\n",
        "  plt.scatter(test_data, test_labels, c=\"g\", label=\"Test data\")\n",
        "\n",
        "  # Plot models predictions in red\n",
        "  plt.scatter(test_data, predictions, c=\"r\", label=\"Predictions\")\n",
        "\n",
        "  # Show the legend\n",
        "  plt.legend()\n",
        "\n"
      ],
      "metadata": {
        "id": "Wt-qJvPk1MAh"
      },
      "execution_count": 35,
      "outputs": []
    },
    {
      "cell_type": "code",
      "source": [
        "plot_predictions()"
      ],
      "metadata": {
        "colab": {
          "base_uri": "https://localhost:8080/",
          "height": 479
        },
        "id": "7ZFYZPV5200S",
        "outputId": "4c34c08b-5c5b-4515-8405-d8b6672e1faa"
      },
      "execution_count": 36,
      "outputs": [
        {
          "output_type": "display_data",
          "data": {
            "text/plain": [
              "<Figure size 1000x700 with 1 Axes>"
            ],
            "image/png": "[encoded data removed]"
          },
          "metadata": {}
        }
      ]
    },
    {
      "cell_type": "markdown",
      "source": [
        "### Evaluating our models predictions with regression evaluation metrics\n",
        "\n",
        "The evaluation metrics is depending to the model we working on\n",
        "\n",
        "since we're working on a regression, two of the main matrics:\n",
        "* MAE - mean absolute error, \"on average, how wrong is each of my model predictions\"\n",
        "\n",
        "* MSE - mean square error, \"square the average errors\""
      ],
      "metadata": {
        "id": "xWQ92ZRr4V_K"
      }
    },
    {
      "cell_type": "code",
      "source": [
        " # Evaluate the model on the test\n",
        " model_1.evaluate(x_test, y_test)"
      ],
      "metadata": {
        "id": "y3-bYOHr0p-A",
        "colab": {
          "base_uri": "https://localhost:8080/"
        },
        "outputId": "47d3e930-c6d7-456e-85e9-4767c48e4b09"
      },
      "execution_count": 37,
      "outputs": [
        {
          "output_type": "stream",
          "name": "stdout",
          "text": [
            "1/1 [==============================] - 0s 330ms/step - loss: 4.9946 - mae: 4.9946\n"
          ]
        },
        {
          "output_type": "execute_result",
          "data": {
            "text/plain": [
              "[4.994557857513428, 4.994557857513428]"
            ]
          },
          "metadata": {},
          "execution_count": 37
        }
      ]
    },
    {
      "cell_type": "code",
      "source": [
        "# Calculate the mean absolute error\n",
        "mae = tf.metrics.mean_absolute_error(y_true=y_test, y_pred=tf.constant(y_pred))\n",
        "mae"
      ],
      "metadata": {
        "colab": {
          "base_uri": "https://localhost:8080/"
        },
        "id": "bAwZ_yTfPV4C",
        "outputId": "01c493e0-025f-4979-d128-2eab2f823da4"
      },
      "execution_count": 38,
      "outputs": [
        {
          "output_type": "execute_result",
          "data": {
            "text/plain": [
              "<tf.Tensor: shape=(10,), dtype=float32, numpy=\n",
              "array([16.584173, 13.308153, 11.118793, 10.016072, 10.127249, 11.341144,\n",
              "       13.641693, 17.02887 , 21.502708, 26.21933 ], dtype=float32)>"
            ]
          },
          "metadata": {},
          "execution_count": 38
        }
      ]
    },
    {
      "cell_type": "code",
      "source": [
        "tf.constant(y_pred)"
      ],
      "metadata": {
        "colab": {
          "base_uri": "https://localhost:8080/"
        },
        "id": "v6CpJX1IPiwj",
        "outputId": "52371f81-9858-4188-c723-bcc89750ee7b"
      },
      "execution_count": 39,
      "outputs": [
        {
          "output_type": "execute_result",
          "data": {
            "text/plain": [
              "<tf.Tensor: shape=(10, 1), dtype=float32, numpy=\n",
              "array([[ 71.76978 ],\n",
              "       [ 76.48641 ],\n",
              "       [ 81.20302 ],\n",
              "       [ 85.91964 ],\n",
              "       [ 90.636246],\n",
              "       [ 95.35286 ],\n",
              "       [100.06949 ],\n",
              "       [104.78609 ],\n",
              "       [109.50271 ],\n",
              "       [114.21933 ]], dtype=float32)>"
            ]
          },
          "metadata": {},
          "execution_count": 39
        }
      ]
    },
    {
      "cell_type": "code",
      "source": [
        "y_test"
      ],
      "metadata": {
        "colab": {
          "base_uri": "https://localhost:8080/"
        },
        "id": "JusnDI5oPlKR",
        "outputId": "5b7109ac-3796-4961-cf17-fad5cc123425"
      },
      "execution_count": 40,
      "outputs": [
        {
          "output_type": "execute_result",
          "data": {
            "text/plain": [
              "<tf.Tensor: shape=(10,), dtype=int32, numpy=array([ 70,  74,  78,  82,  86,  90,  94,  98, 102, 106], dtype=int32)>"
            ]
          },
          "metadata": {},
          "execution_count": 40
        }
      ]
    },
    {
      "cell_type": "code",
      "source": [
        "tf.squeeze(y_pred)"
      ],
      "metadata": {
        "colab": {
          "base_uri": "https://localhost:8080/"
        },
        "id": "WqQJPNiwyi56",
        "outputId": "92e7e2bf-1cad-4d68-8eb8-aa9a5c6444ae"
      },
      "execution_count": 41,
      "outputs": [
        {
          "output_type": "execute_result",
          "data": {
            "text/plain": [
              "<tf.Tensor: shape=(10,), dtype=float32, numpy=\n",
              "array([ 71.76978 ,  76.48641 ,  81.20302 ,  85.91964 ,  90.636246,\n",
              "        95.35286 , 100.06949 , 104.78609 , 109.50271 , 114.21933 ],\n",
              "      dtype=float32)>"
            ]
          },
          "metadata": {},
          "execution_count": 41
        }
      ]
    },
    {
      "cell_type": "code",
      "source": [
        "# Calculate the mean absolute error\n",
        "\n",
        "mae = tf.metrics.mean_absolute_error(y_true=y_test, y_pred=tf.squeeze(y_pred))\n",
        "\n",
        "mae"
      ],
      "metadata": {
        "colab": {
          "base_uri": "https://localhost:8080/"
        },
        "id": "uUT4LV7uypPs",
        "outputId": "8cd321ee-7fe3-404c-bf08-3203287fdeff"
      },
      "execution_count": 42,
      "outputs": [
        {
          "output_type": "execute_result",
          "data": {
            "text/plain": [
              "<tf.Tensor: shape=(), dtype=float32, numpy=4.9945574>"
            ]
          },
          "metadata": {},
          "execution_count": 42
        }
      ]
    },
    {
      "cell_type": "code",
      "source": [
        "# Calculate the mean square error\n",
        "\n",
        "mse = tf.metrics.mean_squared_error(y_true=y_test, y_pred=tf.squeeze(y_pred))\n",
        "mse"
      ],
      "metadata": {
        "id": "QpelDvIC2Nvg",
        "colab": {
          "base_uri": "https://localhost:8080/"
        },
        "outputId": "793cb6ff-e46b-489e-c1db-ce07975e9353"
      },
      "execution_count": 43,
      "outputs": [
        {
          "output_type": "execute_result",
          "data": {
            "text/plain": [
              "<tf.Tensor: shape=(), dtype=float32, numpy=29.182285>"
            ]
          },
          "metadata": {},
          "execution_count": 43
        }
      ]
    },
    {
      "cell_type": "code",
      "source": [
        "# Make fucntion to reuse MAE and MSE\n",
        "def mae(y_true, y_pred):\n",
        "  return tf.metrics.mean_absolute_error(y_true=y_true,\n",
        "                                      y_pred=tf.squeeze(y_pred))\n",
        "\n",
        "def mse(y_true,y_pred):\n",
        "  return tf.metrics.mean_squared_error(y_true=y_true,\n",
        "                                       y_pred=tf.squeeze(y_pred))"
      ],
      "metadata": {
        "id": "oCsUvdVW2yQL"
      },
      "execution_count": 44,
      "outputs": []
    },
    {
      "cell_type": "markdown",
      "source": [
        "### Running experiments to improve our model\n",
        "\n",
        "1. Get more data - get more example for model\n",
        "\n",
        "2. Make your model larger (using a more complex model) - matbe more layers or hidden units\n",
        "\n",
        "3. Train for longer - give model more chance to find patterns in data\n",
        "\n",
        "Let's do 3 modelling experiment L\n",
        "\n",
        "1. 'model_1' - same as the origin, 1 layer, trained for 100 epochs\n",
        "\n",
        "2. 'model_2' - 2 layers, trained for 100 epochs\n",
        "\n",
        "3. 'model_3' - 2 layers, rained for 500 epochs"
      ],
      "metadata": {
        "id": "U73RgqjhN1Gb"
      }
    },
    {
      "cell_type": "code",
      "source": [
        "x_train, y_train"
      ],
      "metadata": {
        "colab": {
          "base_uri": "https://localhost:8080/"
        },
        "id": "ZRYFc01nOexa",
        "outputId": "c6bd52f0-9e13-4d16-9baf-5bef80a7ab6a"
      },
      "execution_count": 45,
      "outputs": [
        {
          "output_type": "execute_result",
          "data": {
            "text/plain": [
              "(<tf.Tensor: shape=(40,), dtype=int32, numpy=\n",
              " array([-100,  -96,  -92,  -88,  -84,  -80,  -76,  -72,  -68,  -64,  -60,\n",
              "         -56,  -52,  -48,  -44,  -40,  -36,  -32,  -28,  -24,  -20,  -16,\n",
              "         -12,   -8,   -4,    0,    4,    8,   12,   16,   20,   24,   28,\n",
              "          32,   36,   40,   44,   48,   52,   56], dtype=int32)>,\n",
              " <tf.Tensor: shape=(40,), dtype=int32, numpy=\n",
              " array([-90, -86, -82, -78, -74, -70, -66, -62, -58, -54, -50, -46, -42,\n",
              "        -38, -34, -30, -26, -22, -18, -14, -10,  -6,  -2,   2,   6,  10,\n",
              "         14,  18,  22,  26,  30,  34,  38,  42,  46,  50,  54,  58,  62,\n",
              "         66], dtype=int32)>)"
            ]
          },
          "metadata": {},
          "execution_count": 45
        }
      ]
    },
    {
      "cell_type": "code",
      "source": [
        "# First build model_1\n",
        "\n",
        "# Ser random seed\n",
        "tf.random.set_seed(42)\n",
        "\n",
        "# 1. Create the model\n",
        "model_1 = tf.keras.Sequential([\n",
        "    tf.keras.layers.Dense(1)\n",
        "])\n",
        "\n",
        "# 2. Compile the model\n",
        "model_1.compile(loss=tf.keras.losses.mae,\n",
        "                optimizer=tf.keras.optimizers.SGD(),\n",
        "                metrics=[\"mae\"],\n",
        "                run_eagerly=True)\n",
        "\n",
        "# 3. FIt the model\n",
        "model_1.fit(tf.expand_dims(x_train, axis=-1), y_train, epochs=100, verbose=0)"
      ],
      "metadata": {
        "colab": {
          "base_uri": "https://localhost:8080/"
        },
        "id": "Bm7GqWOpN77n",
        "outputId": "d9064e6f-21f8-4f98-f0c0-cc52c05b5be6"
      },
      "execution_count": 46,
      "outputs": [
        {
          "output_type": "execute_result",
          "data": {
            "text/plain": [
              "<keras.src.callbacks.History at 0x79ad25776e00>"
            ]
          },
          "metadata": {},
          "execution_count": 46
        }
      ]
    },
    {
      "cell_type": "code",
      "source": [
        "model_1.predict(tf.reshape(x_test, shape=(-1,1)))"
      ],
      "metadata": {
        "colab": {
          "base_uri": "https://localhost:8080/"
        },
        "id": "vvrhWzRwTr-8",
        "outputId": "955cb719-afb0-4a3f-bfac-f11d3c01e0b6"
      },
      "execution_count": 47,
      "outputs": [
        {
          "output_type": "stream",
          "name": "stdout",
          "text": [
            "1/1 [==============================] - 0s 25ms/step\n"
          ]
        },
        {
          "output_type": "execute_result",
          "data": {
            "text/plain": [
              "array([[56.442078],\n",
              "       [60.120422],\n",
              "       [63.798767],\n",
              "       [67.47711 ],\n",
              "       [71.155464],\n",
              "       [74.83381 ],\n",
              "       [78.51215 ],\n",
              "       [82.190506],\n",
              "       [85.86885 ],\n",
              "       [89.547195]], dtype=float32)"
            ]
          },
          "metadata": {},
          "execution_count": 47
        }
      ]
    },
    {
      "cell_type": "code",
      "source": [
        "# Make a plot predictions for model_1\n",
        "\n",
        "# x_test = tf.reshape(x_test, shape=(-1,1))\n",
        "\n",
        "y_preds_1 = model_1.predict(tf.reshape(x_test, shape=(-1,1)))\n",
        "plot_predictions(predictions=y_preds_1)"
      ],
      "metadata": {
        "colab": {
          "base_uri": "https://localhost:8080/",
          "height": 502
        },
        "id": "-VTt2FvCQK0C",
        "outputId": "aafd0755-16f6-4265-faa4-b11f1a622356"
      },
      "execution_count": 48,
      "outputs": [
        {
          "output_type": "stream",
          "name": "stdout",
          "text": [
            "1/1 [==============================] - 0s 23ms/step\n"
          ]
        },
        {
          "output_type": "display_data",
          "data": {
            "text/plain": [
              "<Figure size 1000x700 with 1 Axes>"
            ],
            "image/png": "[encoded data removed]"
          },
          "metadata": {}
        }
      ]
    },
    {
      "cell_type": "code",
      "source": [
        "# Calculate model_1 evaluation metrics\n",
        "\n",
        "mae_1 = mae(y_test, y_preds_1)\n",
        "mse_1 = mse(y_test, y_preds_1)\n",
        "\n",
        "mae_1, mse_1"
      ],
      "metadata": {
        "colab": {
          "base_uri": "https://localhost:8080/"
        },
        "id": "3u6Og5EaqZEp",
        "outputId": "b06257e1-586f-4540-f1f2-85c4378358fc"
      },
      "execution_count": 49,
      "outputs": [
        {
          "output_type": "execute_result",
          "data": {
            "text/plain": [
              "(<tf.Tensor: shape=(), dtype=float32, numpy=15.005365>,\n",
              " <tf.Tensor: shape=(), dtype=float32, numpy=226.0145>)"
            ]
          },
          "metadata": {},
          "execution_count": 49
        }
      ]
    },
    {
      "cell_type": "markdown",
      "source": [
        "**Build model_2**\n",
        "\n",
        "* 2 dense layers, trained for 100 epochs"
      ],
      "metadata": {
        "id": "3IG91oWhsu7n"
      }
    },
    {
      "cell_type": "code",
      "source": [
        "# Build model_2\n",
        "\n",
        "# Set the random seed\n",
        "tf.random.set_seed(42)\n",
        "\n",
        "# 1. Create model\n",
        "model_2 = tf.keras.Sequential([\n",
        "    tf.keras.layers.Dense(70, name=\"input_layer\"),\n",
        "    tf.keras.layers.Dense(1, name=\"Output_layer\")\n",
        "])\n",
        "\n",
        "# 2. Compile the model\n",
        "\n",
        "model_2.compile(loss = mae,\n",
        "              optimizer = tf.keras.optimizers.SGD(),\n",
        "              metrics = [\"mae\"])"
      ],
      "metadata": {
        "id": "F9HBFkiUvO0E"
      },
      "execution_count": 50,
      "outputs": []
    },
    {
      "cell_type": "code",
      "source": [
        "# 3. Make Train the model\n",
        "model_2.fit(tf.expand_dims(x_train, axis=-1), y_train, epochs=54)"
      ],
      "metadata": {
        "colab": {
          "base_uri": "https://localhost:8080/"
        },
        "id": "xCwKGotyzj8h",
        "outputId": "a5ee5d5c-347b-4a83-ea27-62587d902e14"
      },
      "execution_count": 51,
      "outputs": [
        {
          "output_type": "stream",
          "name": "stdout",
          "text": [
            "Epoch 1/54\n",
            "2/2 [==============================] - 1s 12ms/step - loss: 40.7346 - mae: 36.2582\n",
            "Epoch 2/54\n",
            "2/2 [==============================] - 0s 8ms/step - loss: 40.9541 - mae: 41.3111\n",
            "Epoch 3/54\n",
            "2/2 [==============================] - 0s 7ms/step - loss: 52.3059 - mae: 18.0313\n",
            "Epoch 4/54\n",
            "2/2 [==============================] - 0s 7ms/step - loss: 40.6806 - mae: 36.3537\n",
            "Epoch 5/54\n",
            "2/2 [==============================] - 0s 11ms/step - loss: 40.6988 - mae: 38.3411\n",
            "Epoch 6/54\n",
            "2/2 [==============================] - 0s 6ms/step - loss: 40.9547 - mae: 31.9537\n",
            "Epoch 7/54\n",
            "2/2 [==============================] - 0s 6ms/step - loss: 40.7380 - mae: 38.4878\n",
            "Epoch 8/54\n",
            "2/2 [==============================] - 0s 10ms/step - loss: 40.8293 - mae: 32.2688\n",
            "Epoch 9/54\n",
            "2/2 [==============================] - 0s 7ms/step - loss: 46.7883 - mae: 15.1938\n",
            "Epoch 10/54\n",
            "2/2 [==============================] - 0s 9ms/step - loss: 40.6145 - mae: 36.6307\n",
            "Epoch 11/54\n",
            "2/2 [==============================] - 0s 7ms/step - loss: 40.9559 - mae: 39.2373\n",
            "Epoch 12/54\n",
            "2/2 [==============================] - 0s 10ms/step - loss: 51.7032 - mae: 15.5310\n",
            "Epoch 13/54\n",
            "2/2 [==============================] - 0s 7ms/step - loss: 40.7212 - mae: 36.1626\n",
            "Epoch 14/54\n",
            "2/2 [==============================] - 0s 7ms/step - loss: 41.1169 - mae: 30.2565\n",
            "Epoch 15/54\n",
            "2/2 [==============================] - 0s 7ms/step - loss: 40.8665 - mae: 38.6282\n",
            "Epoch 16/54\n",
            "2/2 [==============================] - 0s 7ms/step - loss: 40.8673 - mae: 41.0635\n",
            "Epoch 17/54\n",
            "2/2 [==============================] - 0s 7ms/step - loss: 40.3278 - mae: 34.2352\n",
            "Epoch 18/54\n",
            "2/2 [==============================] - 0s 7ms/step - loss: 40.8432 - mae: 33.4701\n",
            "Epoch 19/54\n",
            "2/2 [==============================] - 0s 7ms/step - loss: 43.1770 - mae: 18.5011\n",
            "Epoch 20/54\n",
            "2/2 [==============================] - 0s 11ms/step - loss: 40.9370 - mae: 32.3469\n",
            "Epoch 21/54\n",
            "2/2 [==============================] - 0s 9ms/step - loss: 40.7346 - mae: 35.4972\n",
            "Epoch 22/54\n",
            "2/2 [==============================] - 0s 9ms/step - loss: 40.6444 - mae: 37.5335\n",
            "Epoch 23/54\n",
            "2/2 [==============================] - 0s 8ms/step - loss: 40.6497 - mae: 38.2034\n",
            "Epoch 24/54\n",
            "2/2 [==============================] - 0s 9ms/step - loss: 40.9962 - mae: 30.6045\n",
            "Epoch 25/54\n",
            "2/2 [==============================] - 0s 7ms/step - loss: 40.8916 - mae: 41.5494\n",
            "Epoch 26/54\n",
            "2/2 [==============================] - 0s 7ms/step - loss: 41.9452 - mae: 26.1749\n",
            "Epoch 27/54\n",
            "2/2 [==============================] - 0s 7ms/step - loss: 40.7398 - mae: 34.7962\n",
            "Epoch 28/54\n",
            "2/2 [==============================] - 0s 7ms/step - loss: 42.1477 - mae: 24.3896\n",
            "Epoch 29/54\n",
            "2/2 [==============================] - 0s 8ms/step - loss: 40.6989 - mae: 33.9225\n",
            "Epoch 30/54\n",
            "2/2 [==============================] - 0s 8ms/step - loss: 45.1947 - mae: 14.2540\n",
            "Epoch 31/54\n",
            "2/2 [==============================] - 0s 12ms/step - loss: 57.4485 - mae: 15.8112\n",
            "Epoch 32/54\n",
            "2/2 [==============================] - 0s 7ms/step - loss: 41.2353 - mae: 26.6798\n",
            "Epoch 33/54\n",
            "2/2 [==============================] - 0s 8ms/step - loss: 41.1838 - mae: 30.1171\n",
            "Epoch 34/54\n",
            "2/2 [==============================] - 0s 8ms/step - loss: 40.8262 - mae: 32.4699\n",
            "Epoch 35/54\n",
            "2/2 [==============================] - 0s 8ms/step - loss: 40.6204 - mae: 35.0689\n",
            "Epoch 36/54\n",
            "2/2 [==============================] - 0s 7ms/step - loss: 41.6546 - mae: 23.9047\n",
            "Epoch 37/54\n",
            "2/2 [==============================] - 0s 11ms/step - loss: 40.8574 - mae: 32.4051\n",
            "Epoch 38/54\n",
            "2/2 [==============================] - 0s 6ms/step - loss: 40.6565 - mae: 34.5260\n",
            "Epoch 39/54\n",
            "2/2 [==============================] - 0s 6ms/step - loss: 40.7281 - mae: 34.0994\n",
            "Epoch 40/54\n",
            "2/2 [==============================] - 0s 6ms/step - loss: 40.8649 - mae: 32.8425\n",
            "Epoch 41/54\n",
            "2/2 [==============================] - 0s 7ms/step - loss: 40.3741 - mae: 33.7771\n",
            "Epoch 42/54\n",
            "2/2 [==============================] - 0s 8ms/step - loss: 40.7182 - mae: 34.7246\n",
            "Epoch 43/54\n",
            "2/2 [==============================] - 0s 10ms/step - loss: 40.5583 - mae: 36.8256\n",
            "Epoch 44/54\n",
            "2/2 [==============================] - 0s 10ms/step - loss: 41.0301 - mae: 30.0092\n",
            "Epoch 45/54\n",
            "2/2 [==============================] - 0s 8ms/step - loss: 41.0545 - mae: 30.8965\n",
            "Epoch 46/54\n",
            "2/2 [==============================] - 0s 8ms/step - loss: 40.6967 - mae: 33.4094\n",
            "Epoch 47/54\n",
            "2/2 [==============================] - 0s 7ms/step - loss: 40.7096 - mae: 34.7051\n",
            "Epoch 48/54\n",
            "2/2 [==============================] - 0s 8ms/step - loss: 40.6695 - mae: 37.3883\n",
            "Epoch 49/54\n",
            "2/2 [==============================] - 0s 9ms/step - loss: 40.6609 - mae: 37.1664\n",
            "Epoch 50/54\n",
            "2/2 [==============================] - 0s 8ms/step - loss: 40.5701 - mae: 35.2275\n",
            "Epoch 51/54\n",
            "2/2 [==============================] - 0s 8ms/step - loss: 40.6737 - mae: 37.3175\n",
            "Epoch 52/54\n",
            "2/2 [==============================] - 0s 7ms/step - loss: 40.5909 - mae: 35.2777\n",
            "Epoch 53/54\n",
            "2/2 [==============================] - 0s 7ms/step - loss: 40.4065 - mae: 27.9026\n",
            "Epoch 54/54\n",
            "2/2 [==============================] - 0s 7ms/step - loss: 43.6682 - mae: 17.9268\n"
          ]
        },
        {
          "output_type": "execute_result",
          "data": {
            "text/plain": [
              "<keras.src.callbacks.History at 0x79ad257a6e60>"
            ]
          },
          "metadata": {},
          "execution_count": 51
        }
      ]
    },
    {
      "cell_type": "code",
      "source": [
        "x_test"
      ],
      "metadata": {
        "colab": {
          "base_uri": "https://localhost:8080/"
        },
        "id": "F4p4SDzi3EAL",
        "outputId": "a72b972f-ba25-4f5a-b17f-f1c2e5057fd5"
      },
      "execution_count": 52,
      "outputs": [
        {
          "output_type": "execute_result",
          "data": {
            "text/plain": [
              "<tf.Tensor: shape=(10,), dtype=int32, numpy=array([60, 64, 68, 72, 76, 80, 84, 88, 92, 96], dtype=int32)>"
            ]
          },
          "metadata": {},
          "execution_count": 52
        }
      ]
    },
    {
      "cell_type": "code",
      "source": [
        "y_test"
      ],
      "metadata": {
        "colab": {
          "base_uri": "https://localhost:8080/"
        },
        "id": "pg4Syr7r3HES",
        "outputId": "91a54e00-e36a-4bda-8b71-095e9b6d67bc"
      },
      "execution_count": 53,
      "outputs": [
        {
          "output_type": "execute_result",
          "data": {
            "text/plain": [
              "<tf.Tensor: shape=(10,), dtype=int32, numpy=array([ 70,  74,  78,  82,  86,  90,  94,  98, 102, 106], dtype=int32)>"
            ]
          },
          "metadata": {},
          "execution_count": 53
        }
      ]
    },
    {
      "cell_type": "code",
      "source": [
        "model_2.predict(x_test)"
      ],
      "metadata": {
        "colab": {
          "base_uri": "https://localhost:8080/"
        },
        "id": "bvtvcNO03KN2",
        "outputId": "283a2e4c-3cc2-43d4-c2e1-04be7e7a78a5"
      },
      "execution_count": 54,
      "outputs": [
        {
          "output_type": "stream",
          "name": "stderr",
          "text": [
            "WARNING:tensorflow:6 out of the last 6 calls to <function Model.make_predict_function.<locals>.predict_function at 0x79ad25832200> triggered tf.function retracing. Tracing is expensive and the excessive number of tracings could be due to (1) creating @tf.function repeatedly in a loop, (2) passing tensors with different shapes, (3) passing Python objects instead of tensors. For (1), please define your @tf.function outside of the loop. For (2), @tf.function has reduce_retracing=True option that can avoid unnecessary retracing. For (3), please refer to https://www.tensorflow.org/guide/function#controlling_retracing and https://www.tensorflow.org/api_docs/python/tf/function for  more details.\n"
          ]
        },
        {
          "output_type": "stream",
          "name": "stdout",
          "text": [
            "1/1 [==============================] - 0s 57ms/step\n"
          ]
        },
        {
          "output_type": "execute_result",
          "data": {
            "text/plain": [
              "array([[32.43123 ],\n",
              "       [34.60765 ],\n",
              "       [36.784077],\n",
              "       [38.96049 ],\n",
              "       [41.13691 ],\n",
              "       [43.313328],\n",
              "       [45.489754],\n",
              "       [47.666172],\n",
              "       [49.842594],\n",
              "       [52.019016]], dtype=float32)"
            ]
          },
          "metadata": {},
          "execution_count": 54
        }
      ]
    },
    {
      "cell_type": "code",
      "source": [
        "# Make and plot predictions of model_2\n",
        "\n",
        "y_preds_2 = model_2.predict(x_test)\n",
        "plot_predictions(predictions=y_preds_2)"
      ],
      "metadata": {
        "colab": {
          "base_uri": "https://localhost:8080/",
          "height": 502
        },
        "id": "qYq7itP01-ur",
        "outputId": "cc008700-de67-4db1-e720-de326fdc2e88"
      },
      "execution_count": 55,
      "outputs": [
        {
          "output_type": "stream",
          "name": "stdout",
          "text": [
            "1/1 [==============================] - 0s 23ms/step\n"
          ]
        },
        {
          "output_type": "display_data",
          "data": {
            "text/plain": [
              "<Figure size 1000x700 with 1 Axes>"
            ],
            "image/png": "[encoded data removed]"
          },
          "metadata": {}
        }
      ]
    },
    {
      "cell_type": "code",
      "source": [
        "model_2.summary()"
      ],
      "metadata": {
        "colab": {
          "base_uri": "https://localhost:8080/"
        },
        "id": "nrRhl6kf1o_c",
        "outputId": "6a46adea-96bc-49f7-9768-3da1c57967f5"
      },
      "execution_count": 56,
      "outputs": [
        {
          "output_type": "stream",
          "name": "stdout",
          "text": [
            "Model: \"sequential_6\"\n",
            "_________________________________________________________________\n",
            " Layer (type)                Output Shape              Param #   \n",
            "=================================================================\n",
            " input_layer (Dense)         (None, 70)                140       \n",
            "                                                                 \n",
            " Output_layer (Dense)        (None, 1)                 71        \n",
            "                                                                 \n",
            "=================================================================\n",
            "Total params: 211 (844.00 Byte)\n",
            "Trainable params: 211 (844.00 Byte)\n",
            "Non-trainable params: 0 (0.00 Byte)\n",
            "_________________________________________________________________\n"
          ]
        }
      ]
    },
    {
      "cell_type": "code",
      "source": [
        "# Calculate model_2 evaluation metrics\n",
        "\n",
        "mae_2 = mae(y_test, y_preds_2)\n",
        "mse_2 = mse(y_test, y_preds_2)\n",
        "\n",
        "mae_2, mse_2"
      ],
      "metadata": {
        "colab": {
          "base_uri": "https://localhost:8080/"
        },
        "id": "C54KgBhY6klJ",
        "outputId": "ce600b58-5634-415e-ddf7-875c48e33c41"
      },
      "execution_count": 57,
      "outputs": [
        {
          "output_type": "execute_result",
          "data": {
            "text/plain": [
              "(<tf.Tensor: shape=(), dtype=float32, numpy=45.77488>,\n",
              " <tf.Tensor: shape=(), dtype=float32, numpy=2122.7742>)"
            ]
          },
          "metadata": {},
          "execution_count": 57
        }
      ]
    },
    {
      "cell_type": "markdown",
      "source": [
        "**Build model_3**\n",
        "\n",
        "* 2 layers, trained for 500 epochs"
      ],
      "metadata": {
        "id": "UgQW0Vw_Eigq"
      }
    },
    {
      "cell_type": "code",
      "source": [
        "# Build mdoel 3\n",
        "\n",
        "# set random seed\n",
        "tf.random.set_seed(42)\n",
        "\n",
        "# Build the model\n",
        "model_3 = tf.keras.Sequential([\n",
        "    tf.keras.layers.Dense(10),\n",
        "    tf.keras.layers.Dense(1)\n",
        "])\n",
        "\n",
        "# Compile the model\n",
        "model_3.compile(loss=mae,\n",
        "                optimizer = tf.keras.optimizers.SGD(),\n",
        "                metrics=[\"mae\"])"
      ],
      "metadata": {
        "id": "ZDmoG_8fEdZp"
      },
      "execution_count": 58,
      "outputs": []
    },
    {
      "cell_type": "code",
      "source": [
        "# 3. FIt the model\n",
        "model_3.fit(tf.expand_dims(x_train, axis=-1), y_train, epochs=500)\n"
      ],
      "metadata": {
        "colab": {
          "base_uri": "https://localhost:8080/"
        },
        "id": "Xw5ZEQwjFTQF",
        "outputId": "762825a1-b1e3-49af-e1d1-867a67068c55"
      },
      "execution_count": 59,
      "outputs": [
        {
          "output_type": "stream",
          "name": "stdout",
          "text": [
            "Epoch 1/500\n",
            "2/2 [==============================] - 0s 18ms/step - loss: 42.3814 - mae: 24.6480\n",
            "Epoch 2/500\n",
            "2/2 [==============================] - 0s 8ms/step - loss: 40.8233 - mae: 41.6361\n",
            "Epoch 3/500\n",
            "2/2 [==============================] - 0s 7ms/step - loss: 54.5824 - mae: 20.0904\n",
            "Epoch 4/500\n",
            "2/2 [==============================] - 0s 7ms/step - loss: 40.6989 - mae: 37.1042\n",
            "Epoch 5/500\n",
            "2/2 [==============================] - 0s 9ms/step - loss: 40.7249 - mae: 38.3821\n",
            "Epoch 6/500\n",
            "2/2 [==============================] - 0s 11ms/step - loss: 41.0590 - mae: 31.0462\n",
            "Epoch 7/500\n",
            "2/2 [==============================] - 0s 7ms/step - loss: 40.7432 - mae: 38.7495\n",
            "Epoch 8/500\n",
            "2/2 [==============================] - 0s 7ms/step - loss: 40.9418 - mae: 32.3221\n",
            "Epoch 9/500\n",
            "2/2 [==============================] - 0s 7ms/step - loss: 46.9544 - mae: 15.3134\n",
            "Epoch 10/500\n",
            "2/2 [==============================] - 0s 8ms/step - loss: 40.7681 - mae: 37.5248\n",
            "Epoch 11/500\n",
            "2/2 [==============================] - 0s 6ms/step - loss: 40.9595 - mae: 39.0824\n",
            "Epoch 12/500\n",
            "2/2 [==============================] - 0s 7ms/step - loss: 52.5750 - mae: 16.2757\n",
            "Epoch 13/500\n",
            "2/2 [==============================] - 0s 6ms/step - loss: 40.7154 - mae: 36.5802\n",
            "Epoch 14/500\n",
            "2/2 [==============================] - 0s 7ms/step - loss: 41.1156 - mae: 30.2725\n",
            "Epoch 15/500\n",
            "2/2 [==============================] - 0s 7ms/step - loss: 40.8965 - mae: 38.8590\n",
            "Epoch 16/500\n",
            "2/2 [==============================] - 0s 8ms/step - loss: 40.8693 - mae: 41.1087\n",
            "Epoch 17/500\n",
            "2/2 [==============================] - 0s 8ms/step - loss: 40.3245 - mae: 34.0825\n",
            "Epoch 18/500\n",
            "2/2 [==============================] - 0s 9ms/step - loss: 40.8804 - mae: 33.4202\n",
            "Epoch 19/500\n",
            "2/2 [==============================] - 0s 8ms/step - loss: 43.3056 - mae: 18.1837\n",
            "Epoch 20/500\n",
            "2/2 [==============================] - 0s 8ms/step - loss: 41.1953 - mae: 30.3779\n",
            "Epoch 21/500\n",
            "2/2 [==============================] - 0s 8ms/step - loss: 40.7400 - mae: 35.1875\n",
            "Epoch 22/500\n",
            "2/2 [==============================] - 0s 6ms/step - loss: 40.6423 - mae: 37.4577\n",
            "Epoch 23/500\n",
            "2/2 [==============================] - 0s 10ms/step - loss: 40.6453 - mae: 38.1472\n",
            "Epoch 24/500\n",
            "2/2 [==============================] - 0s 7ms/step - loss: 41.0112 - mae: 30.3885\n",
            "Epoch 25/500\n",
            "2/2 [==============================] - 0s 8ms/step - loss: 40.8763 - mae: 41.7332\n",
            "Epoch 26/500\n",
            "2/2 [==============================] - 0s 7ms/step - loss: 42.1002 - mae: 25.6245\n",
            "Epoch 27/500\n",
            "2/2 [==============================] - 0s 8ms/step - loss: 40.7477 - mae: 34.9328\n",
            "Epoch 28/500\n",
            "2/2 [==============================] - 0s 8ms/step - loss: 42.1858 - mae: 24.2534\n",
            "Epoch 29/500\n",
            "2/2 [==============================] - 0s 8ms/step - loss: 40.7295 - mae: 34.0224\n",
            "Epoch 30/500\n",
            "2/2 [==============================] - 0s 9ms/step - loss: 45.4912 - mae: 14.2237\n",
            "Epoch 31/500\n",
            "2/2 [==============================] - 0s 10ms/step - loss: 57.6142 - mae: 15.9954\n",
            "Epoch 32/500\n",
            "2/2 [==============================] - 0s 8ms/step - loss: 41.2003 - mae: 26.9061\n",
            "Epoch 33/500\n",
            "2/2 [==============================] - 0s 9ms/step - loss: 41.1565 - mae: 30.3383\n",
            "Epoch 34/500\n",
            "2/2 [==============================] - 0s 8ms/step - loss: 40.8127 - mae: 32.6822\n",
            "Epoch 35/500\n",
            "2/2 [==============================] - 0s 7ms/step - loss: 40.6173 - mae: 35.2998\n",
            "Epoch 36/500\n",
            "2/2 [==============================] - 0s 8ms/step - loss: 41.6680 - mae: 23.8250\n",
            "Epoch 37/500\n",
            "2/2 [==============================] - 0s 7ms/step - loss: 40.8456 - mae: 32.5561\n",
            "Epoch 38/500\n",
            "2/2 [==============================] - 0s 7ms/step - loss: 40.6522 - mae: 34.6852\n",
            "Epoch 39/500\n",
            "2/2 [==============================] - 0s 7ms/step - loss: 40.7199 - mae: 34.2245\n",
            "Epoch 40/500\n",
            "2/2 [==============================] - 0s 8ms/step - loss: 40.8651 - mae: 32.8357\n",
            "Epoch 41/500\n",
            "2/2 [==============================] - 0s 7ms/step - loss: 40.3739 - mae: 33.7888\n",
            "Epoch 42/500\n",
            "2/2 [==============================] - 0s 7ms/step - loss: 40.7164 - mae: 34.7555\n",
            "Epoch 43/500\n",
            "2/2 [==============================] - 0s 7ms/step - loss: 40.5639 - mae: 36.9009\n",
            "Epoch 44/500\n",
            "2/2 [==============================] - 0s 10ms/step - loss: 41.0393 - mae: 29.9408\n",
            "Epoch 45/500\n",
            "2/2 [==============================] - 0s 8ms/step - loss: 41.0597 - mae: 30.8567\n",
            "Epoch 46/500\n",
            "2/2 [==============================] - 0s 9ms/step - loss: 40.6947 - mae: 33.4482\n",
            "Epoch 47/500\n",
            "2/2 [==============================] - 0s 10ms/step - loss: 40.7113 - mae: 34.7507\n",
            "Epoch 48/500\n",
            "2/2 [==============================] - 0s 9ms/step - loss: 40.6690 - mae: 37.3948\n",
            "Epoch 49/500\n",
            "2/2 [==============================] - 0s 9ms/step - loss: 40.6596 - mae: 37.1294\n",
            "Epoch 50/500\n",
            "2/2 [==============================] - 0s 8ms/step - loss: 40.5702 - mae: 35.1451\n",
            "Epoch 51/500\n",
            "2/2 [==============================] - 0s 9ms/step - loss: 40.6736 - mae: 37.2956\n",
            "Epoch 52/500\n",
            "2/2 [==============================] - 0s 7ms/step - loss: 40.5942 - mae: 35.2401\n",
            "Epoch 53/500\n",
            "2/2 [==============================] - 0s 7ms/step - loss: 40.4388 - mae: 27.7234\n",
            "Epoch 54/500\n",
            "2/2 [==============================] - 0s 8ms/step - loss: 43.7768 - mae: 17.6749\n",
            "Epoch 55/500\n",
            "2/2 [==============================] - 0s 7ms/step - loss: 43.5237 - mae: 19.2825\n",
            "Epoch 56/500\n",
            "2/2 [==============================] - 0s 8ms/step - loss: 40.8831 - mae: 29.4444\n",
            "Epoch 57/500\n",
            "2/2 [==============================] - 0s 8ms/step - loss: 40.4308 - mae: 33.5836\n",
            "Epoch 58/500\n",
            "2/2 [==============================] - 0s 8ms/step - loss: 40.6541 - mae: 35.4579\n",
            "Epoch 59/500\n",
            "2/2 [==============================] - 0s 8ms/step - loss: 40.7638 - mae: 35.5616\n",
            "Epoch 60/500\n",
            "2/2 [==============================] - 0s 12ms/step - loss: 40.7047 - mae: 35.2276\n",
            "Epoch 61/500\n",
            "2/2 [==============================] - 0s 12ms/step - loss: 40.6980 - mae: 35.6756\n",
            "Epoch 62/500\n",
            "2/2 [==============================] - 0s 8ms/step - loss: 40.7296 - mae: 35.9515\n",
            "Epoch 63/500\n",
            "2/2 [==============================] - 0s 9ms/step - loss: 40.6392 - mae: 35.3092\n",
            "Epoch 64/500\n",
            "2/2 [==============================] - 0s 10ms/step - loss: 40.7779 - mae: 33.5935\n",
            "Epoch 65/500\n",
            "2/2 [==============================] - 0s 9ms/step - loss: 40.6878 - mae: 34.7874\n",
            "Epoch 66/500\n",
            "2/2 [==============================] - 0s 8ms/step - loss: 40.8102 - mae: 33.3399\n",
            "Epoch 67/500\n",
            "2/2 [==============================] - 0s 8ms/step - loss: 40.7310 - mae: 34.3821\n",
            "Epoch 68/500\n",
            "2/2 [==============================] - 0s 7ms/step - loss: 40.6683 - mae: 34.8971\n",
            "Epoch 69/500\n",
            "2/2 [==============================] - 0s 7ms/step - loss: 40.7283 - mae: 34.9075\n",
            "Epoch 70/500\n",
            "2/2 [==============================] - 0s 7ms/step - loss: 40.6336 - mae: 35.2380\n",
            "Epoch 71/500\n",
            "2/2 [==============================] - 0s 8ms/step - loss: 40.6623 - mae: 37.1341\n",
            "Epoch 72/500\n",
            "2/2 [==============================] - 0s 7ms/step - loss: 40.6996 - mae: 36.8947\n",
            "Epoch 73/500\n",
            "2/2 [==============================] - 0s 8ms/step - loss: 40.6950 - mae: 37.9704\n",
            "Epoch 74/500\n",
            "2/2 [==============================] - 0s 7ms/step - loss: 40.6992 - mae: 37.5991\n",
            "Epoch 75/500\n",
            "2/2 [==============================] - 0s 7ms/step - loss: 40.7184 - mae: 37.9293\n",
            "Epoch 76/500\n",
            "2/2 [==============================] - 0s 7ms/step - loss: 40.6576 - mae: 36.9729\n",
            "Epoch 77/500\n",
            "2/2 [==============================] - 0s 6ms/step - loss: 40.7160 - mae: 38.0204\n",
            "Epoch 78/500\n",
            "2/2 [==============================] - 0s 7ms/step - loss: 40.4455 - mae: 37.6922\n",
            "Epoch 79/500\n",
            "2/2 [==============================] - 0s 8ms/step - loss: 40.5336 - mae: 32.7146\n",
            "Epoch 80/500\n",
            "2/2 [==============================] - 0s 7ms/step - loss: 41.2234 - mae: 28.8502\n",
            "Epoch 81/500\n",
            "2/2 [==============================] - 0s 7ms/step - loss: 39.9409 - mae: 32.3800\n",
            "Epoch 82/500\n",
            "2/2 [==============================] - 0s 7ms/step - loss: 40.6502 - mae: 32.9274\n",
            "Epoch 83/500\n",
            "2/2 [==============================] - 0s 8ms/step - loss: 40.6596 - mae: 35.2972\n",
            "Epoch 84/500\n",
            "2/2 [==============================] - 0s 7ms/step - loss: 40.6858 - mae: 35.5304\n",
            "Epoch 85/500\n",
            "2/2 [==============================] - 0s 7ms/step - loss: 40.7097 - mae: 35.9607\n",
            "Epoch 86/500\n",
            "2/2 [==============================] - 0s 7ms/step - loss: 40.7216 - mae: 36.4562\n",
            "Epoch 87/500\n",
            "2/2 [==============================] - 0s 8ms/step - loss: 40.6878 - mae: 36.4709\n",
            "Epoch 88/500\n",
            "2/2 [==============================] - 0s 9ms/step - loss: 40.7115 - mae: 36.3928\n",
            "Epoch 89/500\n",
            "2/2 [==============================] - 0s 7ms/step - loss: 40.7094 - mae: 37.4500\n",
            "Epoch 90/500\n",
            "2/2 [==============================] - 0s 9ms/step - loss: 40.6934 - mae: 37.5915\n",
            "Epoch 91/500\n",
            "2/2 [==============================] - 0s 8ms/step - loss: 40.6727 - mae: 37.4402\n",
            "Epoch 92/500\n",
            "2/2 [==============================] - 0s 7ms/step - loss: 40.6904 - mae: 37.2415\n",
            "Epoch 93/500\n",
            "2/2 [==============================] - 0s 8ms/step - loss: 40.6425 - mae: 37.1873\n",
            "Epoch 94/500\n",
            "2/2 [==============================] - 0s 7ms/step - loss: 40.6936 - mae: 36.1783\n",
            "Epoch 95/500\n",
            "2/2 [==============================] - 0s 7ms/step - loss: 40.7475 - mae: 35.4194\n",
            "Epoch 96/500\n",
            "2/2 [==============================] - 0s 8ms/step - loss: 40.5848 - mae: 34.8896\n",
            "Epoch 97/500\n",
            "2/2 [==============================] - 0s 9ms/step - loss: 40.7031 - mae: 36.0591\n",
            "Epoch 98/500\n",
            "2/2 [==============================] - 0s 10ms/step - loss: 40.6639 - mae: 35.9560\n",
            "Epoch 99/500\n",
            "2/2 [==============================] - 0s 8ms/step - loss: 40.6711 - mae: 36.1323\n",
            "Epoch 100/500\n",
            "2/2 [==============================] - 0s 8ms/step - loss: 40.7222 - mae: 35.0333\n",
            "Epoch 101/500\n",
            "2/2 [==============================] - 0s 8ms/step - loss: 40.6936 - mae: 35.7598\n",
            "Epoch 102/500\n",
            "2/2 [==============================] - 0s 9ms/step - loss: 40.4969 - mae: 36.4082\n",
            "Epoch 103/500\n",
            "2/2 [==============================] - 0s 8ms/step - loss: 40.5873 - mae: 36.8503\n",
            "Epoch 104/500\n",
            "2/2 [==============================] - 0s 8ms/step - loss: 40.7040 - mae: 35.2024\n",
            "Epoch 105/500\n",
            "2/2 [==============================] - 0s 8ms/step - loss: 40.6503 - mae: 36.0261\n",
            "Epoch 106/500\n",
            "2/2 [==============================] - 0s 7ms/step - loss: 40.6390 - mae: 36.1695\n",
            "Epoch 107/500\n",
            "2/2 [==============================] - 0s 8ms/step - loss: 40.6988 - mae: 34.7784\n",
            "Epoch 108/500\n",
            "2/2 [==============================] - 0s 8ms/step - loss: 40.7336 - mae: 34.2183\n",
            "Epoch 109/500\n",
            "2/2 [==============================] - 0s 8ms/step - loss: 40.6519 - mae: 33.2253\n",
            "Epoch 110/500\n",
            "2/2 [==============================] - 0s 10ms/step - loss: 40.6969 - mae: 34.6178\n",
            "Epoch 111/500\n",
            "2/2 [==============================] - 0s 7ms/step - loss: 40.6216 - mae: 34.9656\n",
            "Epoch 112/500\n",
            "2/2 [==============================] - 0s 7ms/step - loss: 40.4503 - mae: 35.2618\n",
            "Epoch 113/500\n",
            "2/2 [==============================] - 0s 9ms/step - loss: 40.5020 - mae: 32.2760\n",
            "Epoch 114/500\n",
            "2/2 [==============================] - 0s 7ms/step - loss: 41.0680 - mae: 30.8616\n",
            "Epoch 115/500\n",
            "2/2 [==============================] - 0s 8ms/step - loss: 40.9286 - mae: 31.6635\n",
            "Epoch 116/500\n",
            "2/2 [==============================] - 0s 8ms/step - loss: 40.6538 - mae: 33.0554\n",
            "Epoch 117/500\n",
            "2/2 [==============================] - 0s 8ms/step - loss: 40.5765 - mae: 34.5786\n",
            "Epoch 118/500\n",
            "2/2 [==============================] - 0s 8ms/step - loss: 40.5574 - mae: 35.1502\n",
            "Epoch 119/500\n",
            "2/2 [==============================] - 0s 8ms/step - loss: 40.0827 - mae: 35.9980\n",
            "Epoch 120/500\n",
            "2/2 [==============================] - 0s 9ms/step - loss: 41.3419 - mae: 27.8599\n",
            "Epoch 121/500\n",
            "2/2 [==============================] - 0s 9ms/step - loss: 39.9575 - mae: 32.0081\n",
            "Epoch 122/500\n",
            "2/2 [==============================] - 0s 9ms/step - loss: 41.2850 - mae: 24.7781\n",
            "Epoch 123/500\n",
            "2/2 [==============================] - 0s 9ms/step - loss: 41.9991 - mae: 24.3898\n",
            "Epoch 124/500\n",
            "2/2 [==============================] - 0s 8ms/step - loss: 41.3656 - mae: 27.8020\n",
            "Epoch 125/500\n",
            "2/2 [==============================] - 0s 10ms/step - loss: 40.6450 - mae: 30.5778\n",
            "Epoch 126/500\n",
            "2/2 [==============================] - 0s 8ms/step - loss: 40.8348 - mae: 32.6620\n",
            "Epoch 127/500\n",
            "2/2 [==============================] - 0s 7ms/step - loss: 40.2830 - mae: 33.4744\n",
            "Epoch 128/500\n",
            "2/2 [==============================] - 0s 7ms/step - loss: 41.3293 - mae: 28.4919\n",
            "Epoch 129/500\n",
            "2/2 [==============================] - 0s 7ms/step - loss: 40.4071 - mae: 30.2934\n",
            "Epoch 130/500\n",
            "2/2 [==============================] - 0s 7ms/step - loss: 41.2468 - mae: 28.8678\n",
            "Epoch 131/500\n",
            "2/2 [==============================] - 0s 8ms/step - loss: 40.8166 - mae: 30.8448\n",
            "Epoch 132/500\n",
            "2/2 [==============================] - 0s 8ms/step - loss: 40.8515 - mae: 31.5347\n",
            "Epoch 133/500\n",
            "2/2 [==============================] - 0s 7ms/step - loss: 40.5277 - mae: 32.9220\n",
            "Epoch 134/500\n",
            "2/2 [==============================] - 0s 13ms/step - loss: 41.0514 - mae: 30.1063\n",
            "Epoch 135/500\n",
            "2/2 [==============================] - 0s 11ms/step - loss: 40.7462 - mae: 32.7383\n",
            "Epoch 136/500\n",
            "2/2 [==============================] - 0s 9ms/step - loss: 40.7179 - mae: 33.3017\n",
            "Epoch 137/500\n",
            "2/2 [==============================] - 0s 8ms/step - loss: 40.0167 - mae: 32.5919\n",
            "Epoch 138/500\n",
            "2/2 [==============================] - 0s 8ms/step - loss: 40.4348 - mae: 32.1771\n",
            "Epoch 139/500\n",
            "2/2 [==============================] - 0s 8ms/step - loss: 40.8336 - mae: 32.5386\n",
            "Epoch 140/500\n",
            "2/2 [==============================] - 0s 8ms/step - loss: 40.7373 - mae: 33.4299\n",
            "Epoch 141/500\n",
            "2/2 [==============================] - 0s 8ms/step - loss: 40.1675 - mae: 33.9332\n",
            "Epoch 142/500\n",
            "2/2 [==============================] - 0s 8ms/step - loss: 40.6938 - mae: 30.3289\n",
            "Epoch 143/500\n",
            "2/2 [==============================] - 0s 8ms/step - loss: 40.5197 - mae: 28.0941\n",
            "Epoch 144/500\n",
            "2/2 [==============================] - 0s 11ms/step - loss: 40.6132 - mae: 30.9526\n",
            "Epoch 145/500\n",
            "2/2 [==============================] - 0s 10ms/step - loss: 41.4590 - mae: 26.5034\n",
            "Epoch 146/500\n",
            "2/2 [==============================] - 0s 9ms/step - loss: 39.9562 - mae: 31.6432\n",
            "Epoch 147/500\n",
            "2/2 [==============================] - 0s 9ms/step - loss: 40.2762 - mae: 32.5056\n",
            "Epoch 148/500\n",
            "2/2 [==============================] - 0s 8ms/step - loss: 40.6203 - mae: 30.5664\n",
            "Epoch 149/500\n",
            "2/2 [==============================] - 0s 9ms/step - loss: 40.7217 - mae: 32.4387\n",
            "Epoch 150/500\n",
            "2/2 [==============================] - 0s 8ms/step - loss: 40.0015 - mae: 33.5753\n",
            "Epoch 151/500\n",
            "2/2 [==============================] - 0s 8ms/step - loss: 41.0237 - mae: 30.6817\n",
            "Epoch 152/500\n",
            "2/2 [==============================] - 0s 8ms/step - loss: 40.8140 - mae: 32.3629\n",
            "Epoch 153/500\n",
            "2/2 [==============================] - 0s 8ms/step - loss: 40.3769 - mae: 31.9621\n",
            "Epoch 154/500\n",
            "2/2 [==============================] - 0s 8ms/step - loss: 40.8264 - mae: 32.4545\n",
            "Epoch 155/500\n",
            "2/2 [==============================] - 0s 8ms/step - loss: 40.6871 - mae: 33.6205\n",
            "Epoch 156/500\n",
            "2/2 [==============================] - 0s 8ms/step - loss: 40.4351 - mae: 33.0670\n",
            "Epoch 157/500\n",
            "2/2 [==============================] - 0s 8ms/step - loss: 40.7118 - mae: 31.5045\n",
            "Epoch 158/500\n",
            "2/2 [==============================] - 0s 9ms/step - loss: 40.4211 - mae: 32.3749\n",
            "Epoch 159/500\n",
            "2/2 [==============================] - 0s 8ms/step - loss: 40.6220 - mae: 34.1413\n",
            "Epoch 160/500\n",
            "2/2 [==============================] - 0s 13ms/step - loss: 40.7274 - mae: 33.9479\n",
            "Epoch 161/500\n",
            "2/2 [==============================] - 0s 8ms/step - loss: 40.6800 - mae: 33.9031\n",
            "Epoch 162/500\n",
            "2/2 [==============================] - 0s 8ms/step - loss: 40.6193 - mae: 34.4675\n",
            "Epoch 163/500\n",
            "2/2 [==============================] - 0s 8ms/step - loss: 40.7262 - mae: 33.5351\n",
            "Epoch 164/500\n",
            "2/2 [==============================] - 0s 8ms/step - loss: 40.4767 - mae: 34.1776\n",
            "Epoch 165/500\n",
            "2/2 [==============================] - 0s 8ms/step - loss: 40.6448 - mae: 35.3963\n",
            "Epoch 166/500\n",
            "2/2 [==============================] - 0s 8ms/step - loss: 40.5839 - mae: 35.5138\n",
            "Epoch 167/500\n",
            "2/2 [==============================] - 0s 9ms/step - loss: 40.7169 - mae: 34.5770\n",
            "Epoch 168/500\n",
            "2/2 [==============================] - 0s 8ms/step - loss: 40.6877 - mae: 35.3237\n",
            "Epoch 169/500\n",
            "2/2 [==============================] - 0s 9ms/step - loss: 40.6653 - mae: 35.6153\n",
            "Epoch 170/500\n",
            "2/2 [==============================] - 0s 9ms/step - loss: 40.6561 - mae: 35.5868\n",
            "Epoch 171/500\n",
            "2/2 [==============================] - 0s 8ms/step - loss: 40.6365 - mae: 35.5293\n",
            "Epoch 172/500\n",
            "2/2 [==============================] - 0s 10ms/step - loss: 40.5032 - mae: 35.6597\n",
            "Epoch 173/500\n",
            "2/2 [==============================] - 0s 9ms/step - loss: 40.7021 - mae: 33.5553\n",
            "Epoch 174/500\n",
            "2/2 [==============================] - 0s 9ms/step - loss: 40.5921 - mae: 35.0060\n",
            "Epoch 175/500\n",
            "2/2 [==============================] - 0s 9ms/step - loss: 40.5450 - mae: 34.5976\n",
            "Epoch 176/500\n",
            "2/2 [==============================] - 0s 10ms/step - loss: 40.7981 - mae: 33.4296\n",
            "Epoch 177/500\n",
            "2/2 [==============================] - 0s 9ms/step - loss: 40.7612 - mae: 33.3712\n",
            "Epoch 178/500\n",
            "2/2 [==============================] - 0s 10ms/step - loss: 40.6146 - mae: 33.8435\n",
            "Epoch 179/500\n",
            "2/2 [==============================] - 0s 7ms/step - loss: 40.0415 - mae: 34.5463\n",
            "Epoch 180/500\n",
            "2/2 [==============================] - 0s 9ms/step - loss: 40.6727 - mae: 33.9866\n",
            "Epoch 181/500\n",
            "2/2 [==============================] - 0s 7ms/step - loss: 40.7276 - mae: 33.3478\n",
            "Epoch 182/500\n",
            "2/2 [==============================] - 0s 8ms/step - loss: 40.5144 - mae: 32.6451\n",
            "Epoch 183/500\n",
            "2/2 [==============================] - 0s 7ms/step - loss: 39.8271 - mae: 33.7198\n",
            "Epoch 184/500\n",
            "2/2 [==============================] - 0s 8ms/step - loss: 41.4267 - mae: 27.0239\n",
            "Epoch 185/500\n",
            "2/2 [==============================] - 0s 7ms/step - loss: 40.7791 - mae: 31.4340\n",
            "Epoch 186/500\n",
            "2/2 [==============================] - 0s 8ms/step - loss: 40.4760 - mae: 31.0280\n",
            "Epoch 187/500\n",
            "2/2 [==============================] - 0s 8ms/step - loss: 40.6842 - mae: 33.0619\n",
            "Epoch 188/500\n",
            "2/2 [==============================] - 0s 8ms/step - loss: 40.2958 - mae: 32.0977\n",
            "Epoch 189/500\n",
            "2/2 [==============================] - 0s 12ms/step - loss: 40.7940 - mae: 32.8386\n",
            "Epoch 190/500\n",
            "2/2 [==============================] - 0s 10ms/step - loss: 40.7015 - mae: 34.6710\n",
            "Epoch 191/500\n",
            "2/2 [==============================] - 0s 11ms/step - loss: 40.5946 - mae: 34.9045\n",
            "Epoch 192/500\n",
            "2/2 [==============================] - 0s 11ms/step - loss: 40.3076 - mae: 35.4586\n",
            "Epoch 193/500\n",
            "2/2 [==============================] - 0s 8ms/step - loss: 40.5662 - mae: 33.0877\n",
            "Epoch 194/500\n",
            "2/2 [==============================] - 0s 10ms/step - loss: 40.6471 - mae: 34.2692\n",
            "Epoch 195/500\n",
            "2/2 [==============================] - 0s 8ms/step - loss: 40.5972 - mae: 34.9833\n",
            "Epoch 196/500\n",
            "2/2 [==============================] - 0s 8ms/step - loss: 39.4218 - mae: 33.7019\n",
            "Epoch 197/500\n",
            "2/2 [==============================] - 0s 10ms/step - loss: 40.9340 - mae: 31.7851\n",
            "Epoch 198/500\n",
            "2/2 [==============================] - 0s 11ms/step - loss: 40.4863 - mae: 32.0964\n",
            "Epoch 199/500\n",
            "2/2 [==============================] - 0s 9ms/step - loss: 40.9628 - mae: 30.6392\n",
            "Epoch 200/500\n",
            "2/2 [==============================] - 0s 7ms/step - loss: 40.8846 - mae: 31.8017\n",
            "Epoch 201/500\n",
            "2/2 [==============================] - 0s 8ms/step - loss: 40.1633 - mae: 33.2735\n",
            "Epoch 202/500\n",
            "2/2 [==============================] - 0s 7ms/step - loss: 41.1007 - mae: 29.4890\n",
            "Epoch 203/500\n",
            "2/2 [==============================] - 0s 10ms/step - loss: 40.7590 - mae: 32.4179\n",
            "Epoch 204/500\n",
            "2/2 [==============================] - 0s 8ms/step - loss: 40.8035 - mae: 32.9056\n",
            "Epoch 205/500\n",
            "2/2 [==============================] - 0s 10ms/step - loss: 40.6264 - mae: 33.8922\n",
            "Epoch 206/500\n",
            "2/2 [==============================] - 0s 10ms/step - loss: 40.7020 - mae: 34.7978\n",
            "Epoch 207/500\n",
            "2/2 [==============================] - 0s 11ms/step - loss: 40.4800 - mae: 35.4158\n",
            "Epoch 208/500\n",
            "2/2 [==============================] - 0s 11ms/step - loss: 40.6688 - mae: 33.4503\n",
            "Epoch 209/500\n",
            "2/2 [==============================] - 0s 11ms/step - loss: 40.0539 - mae: 33.8608\n",
            "Epoch 210/500\n",
            "2/2 [==============================] - 0s 11ms/step - loss: 41.0625 - mae: 30.4231\n",
            "Epoch 211/500\n",
            "2/2 [==============================] - 0s 9ms/step - loss: 40.8608 - mae: 31.0134\n",
            "Epoch 212/500\n",
            "2/2 [==============================] - 0s 11ms/step - loss: 40.6503 - mae: 32.9555\n",
            "Epoch 213/500\n",
            "2/2 [==============================] - 0s 10ms/step - loss: 40.6819 - mae: 34.4491\n",
            "Epoch 214/500\n",
            "2/2 [==============================] - 0s 12ms/step - loss: 40.6618 - mae: 34.5186\n",
            "Epoch 215/500\n",
            "2/2 [==============================] - 0s 7ms/step - loss: 40.6794 - mae: 33.9050\n",
            "Epoch 216/500\n",
            "2/2 [==============================] - 0s 9ms/step - loss: 40.5566 - mae: 34.8677\n",
            "Epoch 217/500\n",
            "2/2 [==============================] - 0s 8ms/step - loss: 39.8821 - mae: 34.0242\n",
            "Epoch 218/500\n",
            "2/2 [==============================] - 0s 9ms/step - loss: 40.3913 - mae: 33.4419\n",
            "Epoch 219/500\n",
            "2/2 [==============================] - 0s 8ms/step - loss: 40.7174 - mae: 34.3681\n",
            "Epoch 220/500\n",
            "2/2 [==============================] - 0s 7ms/step - loss: 39.9579 - mae: 34.2280\n",
            "Epoch 221/500\n",
            "2/2 [==============================] - 0s 8ms/step - loss: 40.9922 - mae: 30.2352\n",
            "Epoch 222/500\n",
            "2/2 [==============================] - 0s 9ms/step - loss: 40.7682 - mae: 29.9822\n",
            "Epoch 223/500\n",
            "2/2 [==============================] - 0s 6ms/step - loss: 40.0484 - mae: 32.0159\n",
            "Epoch 224/500\n",
            "2/2 [==============================] - 0s 8ms/step - loss: 40.7424 - mae: 32.6032\n",
            "Epoch 225/500\n",
            "2/2 [==============================] - 0s 7ms/step - loss: 40.6615 - mae: 32.2521\n",
            "Epoch 226/500\n",
            "2/2 [==============================] - 0s 7ms/step - loss: 40.8497 - mae: 32.1504\n",
            "Epoch 227/500\n",
            "2/2 [==============================] - 0s 9ms/step - loss: 40.7642 - mae: 31.8100\n",
            "Epoch 228/500\n",
            "2/2 [==============================] - 0s 11ms/step - loss: 40.4174 - mae: 33.6520\n",
            "Epoch 229/500\n",
            "2/2 [==============================] - 0s 9ms/step - loss: 40.6853 - mae: 34.1189\n",
            "Epoch 230/500\n",
            "2/2 [==============================] - 0s 13ms/step - loss: 40.3973 - mae: 34.9611\n",
            "Epoch 231/500\n",
            "2/2 [==============================] - 0s 10ms/step - loss: 40.8033 - mae: 32.6692\n",
            "Epoch 232/500\n",
            "2/2 [==============================] - 0s 10ms/step - loss: 40.7355 - mae: 33.6152\n",
            "Epoch 233/500\n",
            "2/2 [==============================] - 0s 10ms/step - loss: 40.7191 - mae: 34.1577\n",
            "Epoch 234/500\n",
            "2/2 [==============================] - 0s 9ms/step - loss: 40.4232 - mae: 34.6732\n",
            "Epoch 235/500\n",
            "2/2 [==============================] - 0s 6ms/step - loss: 40.6618 - mae: 33.9545\n",
            "Epoch 236/500\n",
            "2/2 [==============================] - 0s 9ms/step - loss: 40.6234 - mae: 34.2165\n",
            "Epoch 237/500\n",
            "2/2 [==============================] - 0s 10ms/step - loss: 40.4025 - mae: 34.9066\n",
            "Epoch 238/500\n",
            "2/2 [==============================] - 0s 9ms/step - loss: 40.6682 - mae: 34.8662\n",
            "Epoch 239/500\n",
            "2/2 [==============================] - 0s 7ms/step - loss: 40.6607 - mae: 35.3576\n",
            "Epoch 240/500\n",
            "2/2 [==============================] - 0s 7ms/step - loss: 40.6174 - mae: 35.4490\n",
            "Epoch 241/500\n",
            "2/2 [==============================] - 0s 8ms/step - loss: 40.6427 - mae: 35.4939\n",
            "Epoch 242/500\n",
            "2/2 [==============================] - 0s 8ms/step - loss: 40.6124 - mae: 36.2188\n",
            "Epoch 243/500\n",
            "2/2 [==============================] - 0s 10ms/step - loss: 40.4292 - mae: 35.9364\n",
            "Epoch 244/500\n",
            "2/2 [==============================] - 0s 9ms/step - loss: 40.6507 - mae: 36.1908\n",
            "Epoch 245/500\n",
            "2/2 [==============================] - 0s 8ms/step - loss: 40.6362 - mae: 35.6758\n",
            "Epoch 246/500\n",
            "2/2 [==============================] - 0s 7ms/step - loss: 40.5949 - mae: 36.3494\n",
            "Epoch 247/500\n",
            "2/2 [==============================] - 0s 7ms/step - loss: 40.6416 - mae: 35.1677\n",
            "Epoch 248/500\n",
            "2/2 [==============================] - 0s 6ms/step - loss: 40.6620 - mae: 35.3482\n",
            "Epoch 249/500\n",
            "2/2 [==============================] - 0s 8ms/step - loss: 40.5489 - mae: 35.4812\n",
            "Epoch 250/500\n",
            "2/2 [==============================] - 0s 7ms/step - loss: 40.6101 - mae: 33.9428\n",
            "Epoch 251/500\n",
            "2/2 [==============================] - 0s 8ms/step - loss: 40.2262 - mae: 34.3460\n",
            "Epoch 252/500\n",
            "2/2 [==============================] - 0s 8ms/step - loss: 40.9489 - mae: 31.1476\n",
            "Epoch 253/500\n",
            "2/2 [==============================] - 0s 9ms/step - loss: 40.8203 - mae: 31.1237\n",
            "Epoch 254/500\n",
            "2/2 [==============================] - 0s 7ms/step - loss: 40.5340 - mae: 33.1639\n",
            "Epoch 255/500\n",
            "2/2 [==============================] - 0s 7ms/step - loss: 40.9194 - mae: 31.0293\n",
            "Epoch 256/500\n",
            "2/2 [==============================] - 0s 7ms/step - loss: 40.5069 - mae: 31.9877\n",
            "Epoch 257/500\n",
            "2/2 [==============================] - 0s 7ms/step - loss: 40.7366 - mae: 32.6009\n",
            "Epoch 258/500\n",
            "2/2 [==============================] - 0s 7ms/step - loss: 40.6392 - mae: 33.7974\n",
            "Epoch 259/500\n",
            "2/2 [==============================] - 0s 6ms/step - loss: 40.4058 - mae: 33.5762\n",
            "Epoch 260/500\n",
            "2/2 [==============================] - 0s 7ms/step - loss: 40.8575 - mae: 31.1538\n",
            "Epoch 261/500\n",
            "2/2 [==============================] - 0s 6ms/step - loss: 40.1152 - mae: 30.4229\n",
            "Epoch 262/500\n",
            "2/2 [==============================] - 0s 6ms/step - loss: 40.1665 - mae: 30.8437\n",
            "Epoch 263/500\n",
            "2/2 [==============================] - 0s 6ms/step - loss: 40.8877 - mae: 31.5964\n",
            "Epoch 264/500\n",
            "2/2 [==============================] - 0s 6ms/step - loss: 39.9881 - mae: 32.2741\n",
            "Epoch 265/500\n",
            "2/2 [==============================] - 0s 7ms/step - loss: 40.4198 - mae: 32.5165\n",
            "Epoch 266/500\n",
            "2/2 [==============================] - 0s 7ms/step - loss: 40.6200 - mae: 33.4759\n",
            "Epoch 267/500\n",
            "2/2 [==============================] - 0s 6ms/step - loss: 40.6444 - mae: 35.1284\n",
            "Epoch 268/500\n",
            "2/2 [==============================] - 0s 6ms/step - loss: 40.4158 - mae: 34.7342\n",
            "Epoch 269/500\n",
            "2/2 [==============================] - 0s 7ms/step - loss: 40.7918 - mae: 32.4976\n",
            "Epoch 270/500\n",
            "2/2 [==============================] - 0s 6ms/step - loss: 40.0012 - mae: 33.3357\n",
            "Epoch 271/500\n",
            "2/2 [==============================] - 0s 7ms/step - loss: 40.4189 - mae: 33.7400\n",
            "Epoch 272/500\n",
            "2/2 [==============================] - 0s 7ms/step - loss: 40.7295 - mae: 32.7405\n",
            "Epoch 273/500\n",
            "2/2 [==============================] - 0s 7ms/step - loss: 40.5811 - mae: 34.4331\n",
            "Epoch 274/500\n",
            "2/2 [==============================] - 0s 7ms/step - loss: 39.8999 - mae: 35.0268\n",
            "Epoch 275/500\n",
            "2/2 [==============================] - 0s 7ms/step - loss: 41.1306 - mae: 29.6515\n",
            "Epoch 276/500\n",
            "2/2 [==============================] - 0s 6ms/step - loss: 40.9463 - mae: 30.9892\n",
            "Epoch 277/500\n",
            "2/2 [==============================] - 0s 7ms/step - loss: 40.2281 - mae: 32.6338\n",
            "Epoch 278/500\n",
            "2/2 [==============================] - 0s 6ms/step - loss: 40.7942 - mae: 33.0389\n",
            "Epoch 279/500\n",
            "2/2 [==============================] - 0s 7ms/step - loss: 40.6667 - mae: 32.8698\n",
            "Epoch 280/500\n",
            "2/2 [==============================] - 0s 7ms/step - loss: 40.8545 - mae: 32.0588\n",
            "Epoch 281/500\n",
            "2/2 [==============================] - 0s 7ms/step - loss: 40.7091 - mae: 33.1230\n",
            "Epoch 282/500\n",
            "2/2 [==============================] - 0s 7ms/step - loss: 40.6956 - mae: 33.3594\n",
            "Epoch 283/500\n",
            "2/2 [==============================] - 0s 7ms/step - loss: 40.5524 - mae: 34.7814\n",
            "Epoch 284/500\n",
            "2/2 [==============================] - 0s 7ms/step - loss: 40.6058 - mae: 34.2945\n",
            "Epoch 285/500\n",
            "2/2 [==============================] - 0s 7ms/step - loss: 40.5246 - mae: 34.2549\n",
            "Epoch 286/500\n",
            "2/2 [==============================] - 0s 7ms/step - loss: 40.4915 - mae: 33.0563\n",
            "Epoch 287/500\n",
            "2/2 [==============================] - 0s 7ms/step - loss: 40.8937 - mae: 31.4665\n",
            "Epoch 288/500\n",
            "2/2 [==============================] - 0s 7ms/step - loss: 40.6867 - mae: 32.6559\n",
            "Epoch 289/500\n",
            "2/2 [==============================] - 0s 7ms/step - loss: 40.7025 - mae: 33.9613\n",
            "Epoch 290/500\n",
            "2/2 [==============================] - 0s 7ms/step - loss: 40.6518 - mae: 34.7995\n",
            "Epoch 291/500\n",
            "2/2 [==============================] - 0s 11ms/step - loss: 40.5848 - mae: 34.9075\n",
            "Epoch 292/500\n",
            "2/2 [==============================] - 0s 7ms/step - loss: 40.3989 - mae: 35.9606\n",
            "Epoch 293/500\n",
            "2/2 [==============================] - 0s 11ms/step - loss: 40.4567 - mae: 33.6834\n",
            "Epoch 294/500\n",
            "2/2 [==============================] - 0s 8ms/step - loss: 40.8136 - mae: 32.5956\n",
            "Epoch 295/500\n",
            "2/2 [==============================] - 0s 11ms/step - loss: 40.7248 - mae: 33.5231\n",
            "Epoch 296/500\n",
            "2/2 [==============================] - 0s 8ms/step - loss: 40.5304 - mae: 33.5333\n",
            "Epoch 297/500\n",
            "2/2 [==============================] - 0s 7ms/step - loss: 40.6521 - mae: 34.2216\n",
            "Epoch 298/500\n",
            "2/2 [==============================] - 0s 9ms/step - loss: 40.6776 - mae: 33.7303\n",
            "Epoch 299/500\n",
            "2/2 [==============================] - 0s 7ms/step - loss: 40.4068 - mae: 34.3353\n",
            "Epoch 300/500\n",
            "2/2 [==============================] - 0s 7ms/step - loss: 40.4885 - mae: 32.2757\n",
            "Epoch 301/500\n",
            "2/2 [==============================] - 0s 7ms/step - loss: 40.5458 - mae: 29.7160\n",
            "Epoch 302/500\n",
            "2/2 [==============================] - 0s 6ms/step - loss: 40.8473 - mae: 31.5622\n",
            "Epoch 303/500\n",
            "2/2 [==============================] - 0s 10ms/step - loss: 40.9700 - mae: 30.8639\n",
            "Epoch 304/500\n",
            "2/2 [==============================] - 0s 12ms/step - loss: 39.9298 - mae: 31.4551\n",
            "Epoch 305/500\n",
            "2/2 [==============================] - 0s 12ms/step - loss: 40.8847 - mae: 31.2675\n",
            "Epoch 306/500\n",
            "2/2 [==============================] - 0s 7ms/step - loss: 40.7482 - mae: 32.1960\n",
            "Epoch 307/500\n",
            "2/2 [==============================] - 0s 12ms/step - loss: 40.6552 - mae: 33.6104\n",
            "Epoch 308/500\n",
            "2/2 [==============================] - 0s 14ms/step - loss: 40.6994 - mae: 33.9633\n",
            "Epoch 309/500\n",
            "2/2 [==============================] - 0s 9ms/step - loss: 40.6728 - mae: 34.6145\n",
            "Epoch 310/500\n",
            "2/2 [==============================] - 0s 8ms/step - loss: 40.5851 - mae: 35.0491\n",
            "Epoch 311/500\n",
            "2/2 [==============================] - 0s 7ms/step - loss: 40.1162 - mae: 35.7497\n",
            "Epoch 312/500\n",
            "2/2 [==============================] - 0s 9ms/step - loss: 40.8048 - mae: 31.7674\n",
            "Epoch 313/500\n",
            "2/2 [==============================] - 0s 8ms/step - loss: 39.7225 - mae: 31.1535\n",
            "Epoch 314/500\n",
            "2/2 [==============================] - 0s 7ms/step - loss: 40.8497 - mae: 31.5007\n",
            "Epoch 315/500\n",
            "2/2 [==============================] - 0s 9ms/step - loss: 40.7700 - mae: 32.4885\n",
            "Epoch 316/500\n",
            "2/2 [==============================] - 0s 9ms/step - loss: 40.0643 - mae: 34.2142\n",
            "Epoch 317/500\n",
            "2/2 [==============================] - 0s 9ms/step - loss: 40.8780 - mae: 29.9427\n",
            "Epoch 318/500\n",
            "2/2 [==============================] - 0s 9ms/step - loss: 40.9431 - mae: 31.8085\n",
            "Epoch 319/500\n",
            "2/2 [==============================] - 0s 10ms/step - loss: 40.8680 - mae: 31.8885\n",
            "Epoch 320/500\n",
            "2/2 [==============================] - 0s 7ms/step - loss: 40.7110 - mae: 33.5907\n",
            "Epoch 321/500\n",
            "2/2 [==============================] - 0s 7ms/step - loss: 40.2125 - mae: 34.8547\n",
            "Epoch 322/500\n",
            "2/2 [==============================] - 0s 6ms/step - loss: 40.6590 - mae: 34.9370\n",
            "Epoch 323/500\n",
            "2/2 [==============================] - 0s 6ms/step - loss: 40.6585 - mae: 35.2554\n",
            "Epoch 324/500\n",
            "2/2 [==============================] - 0s 8ms/step - loss: 40.5701 - mae: 35.4342\n",
            "Epoch 325/500\n",
            "2/2 [==============================] - 0s 7ms/step - loss: 40.6078 - mae: 34.9257\n",
            "Epoch 326/500\n",
            "2/2 [==============================] - 0s 9ms/step - loss: 40.6043 - mae: 35.0742\n",
            "Epoch 327/500\n",
            "2/2 [==============================] - 0s 6ms/step - loss: 40.3180 - mae: 35.1896\n",
            "Epoch 328/500\n",
            "2/2 [==============================] - 0s 7ms/step - loss: 40.5861 - mae: 35.4397\n",
            "Epoch 329/500\n",
            "2/2 [==============================] - 0s 7ms/step - loss: 40.5432 - mae: 35.8554\n",
            "Epoch 330/500\n",
            "2/2 [==============================] - 0s 9ms/step - loss: 40.5805 - mae: 36.1718\n",
            "Epoch 331/500\n",
            "2/2 [==============================] - 0s 9ms/step - loss: 40.3660 - mae: 35.5559\n",
            "Epoch 332/500\n",
            "2/2 [==============================] - 0s 10ms/step - loss: 40.6598 - mae: 33.9451\n",
            "Epoch 333/500\n",
            "2/2 [==============================] - 0s 9ms/step - loss: 40.6596 - mae: 34.2220\n",
            "Epoch 334/500\n",
            "2/2 [==============================] - 0s 7ms/step - loss: 40.4767 - mae: 34.5906\n",
            "Epoch 335/500\n",
            "2/2 [==============================] - 0s 9ms/step - loss: 40.0112 - mae: 35.1888\n",
            "Epoch 336/500\n",
            "2/2 [==============================] - 0s 7ms/step - loss: 40.8214 - mae: 31.8798\n",
            "Epoch 337/500\n",
            "2/2 [==============================] - 0s 7ms/step - loss: 40.3061 - mae: 33.0537\n",
            "Epoch 338/500\n",
            "2/2 [==============================] - 0s 7ms/step - loss: 40.4677 - mae: 33.0843\n",
            "Epoch 339/500\n",
            "2/2 [==============================] - 0s 7ms/step - loss: 40.4865 - mae: 33.5308\n",
            "Epoch 340/500\n",
            "2/2 [==============================] - 0s 8ms/step - loss: 40.7121 - mae: 33.9589\n",
            "Epoch 341/500\n",
            "2/2 [==============================] - 0s 11ms/step - loss: 40.4519 - mae: 34.6100\n",
            "Epoch 342/500\n",
            "2/2 [==============================] - 0s 8ms/step - loss: 40.1309 - mae: 35.3386\n",
            "Epoch 343/500\n",
            "2/2 [==============================] - 0s 10ms/step - loss: 40.1568 - mae: 34.8947\n",
            "Epoch 344/500\n",
            "2/2 [==============================] - 0s 7ms/step - loss: 39.6015 - mae: 35.2141\n",
            "Epoch 345/500\n",
            "2/2 [==============================] - 0s 7ms/step - loss: 41.3965 - mae: 27.5503\n",
            "Epoch 346/500\n",
            "2/2 [==============================] - 0s 7ms/step - loss: 40.9169 - mae: 30.4092\n",
            "Epoch 347/500\n",
            "2/2 [==============================] - 0s 9ms/step - loss: 40.9452 - mae: 30.6818\n",
            "Epoch 348/500\n",
            "2/2 [==============================] - 0s 8ms/step - loss: 40.6502 - mae: 32.9707\n",
            "Epoch 349/500\n",
            "2/2 [==============================] - 0s 9ms/step - loss: 40.6830 - mae: 34.3238\n",
            "Epoch 350/500\n",
            "2/2 [==============================] - 0s 8ms/step - loss: 39.7848 - mae: 34.5602\n",
            "Epoch 351/500\n",
            "2/2 [==============================] - 0s 10ms/step - loss: 40.8877 - mae: 29.6363\n",
            "Epoch 352/500\n",
            "2/2 [==============================] - 0s 10ms/step - loss: 40.9876 - mae: 30.5115\n",
            "Epoch 353/500\n",
            "2/2 [==============================] - 0s 13ms/step - loss: 40.7677 - mae: 32.2548\n",
            "Epoch 354/500\n",
            "2/2 [==============================] - 0s 11ms/step - loss: 40.6355 - mae: 33.5671\n",
            "Epoch 355/500\n",
            "2/2 [==============================] - 0s 7ms/step - loss: 40.5568 - mae: 34.4767\n",
            "Epoch 356/500\n",
            "2/2 [==============================] - 0s 10ms/step - loss: 40.3134 - mae: 35.1363\n",
            "Epoch 357/500\n",
            "2/2 [==============================] - 0s 8ms/step - loss: 40.2481 - mae: 32.4180\n",
            "Epoch 358/500\n",
            "2/2 [==============================] - 0s 11ms/step - loss: 40.9785 - mae: 30.7077\n",
            "Epoch 359/500\n",
            "2/2 [==============================] - 0s 9ms/step - loss: 40.4109 - mae: 32.2136\n",
            "Epoch 360/500\n",
            "2/2 [==============================] - 0s 9ms/step - loss: 40.7759 - mae: 30.8224\n",
            "Epoch 361/500\n",
            "2/2 [==============================] - 0s 8ms/step - loss: 40.6541 - mae: 33.0061\n",
            "Epoch 362/500\n",
            "2/2 [==============================] - 0s 10ms/step - loss: 40.6179 - mae: 33.0491\n",
            "Epoch 363/500\n",
            "2/2 [==============================] - 0s 7ms/step - loss: 40.3228 - mae: 32.3365\n",
            "Epoch 364/500\n",
            "2/2 [==============================] - 0s 7ms/step - loss: 40.9955 - mae: 29.0692\n",
            "Epoch 365/500\n",
            "2/2 [==============================] - 0s 6ms/step - loss: 40.4135 - mae: 31.6505\n",
            "Epoch 366/500\n",
            "2/2 [==============================] - 0s 6ms/step - loss: 40.0202 - mae: 33.3155\n",
            "Epoch 367/500\n",
            "2/2 [==============================] - 0s 9ms/step - loss: 41.0423 - mae: 29.7193\n",
            "Epoch 368/500\n",
            "2/2 [==============================] - 0s 9ms/step - loss: 40.7426 - mae: 30.9551\n",
            "Epoch 369/500\n",
            "2/2 [==============================] - 0s 7ms/step - loss: 40.7340 - mae: 33.3418\n",
            "Epoch 370/500\n",
            "2/2 [==============================] - 0s 7ms/step - loss: 40.6771 - mae: 33.8478\n",
            "Epoch 371/500\n",
            "2/2 [==============================] - 0s 9ms/step - loss: 40.5041 - mae: 34.1092\n",
            "Epoch 372/500\n",
            "2/2 [==============================] - 0s 9ms/step - loss: 40.5484 - mae: 35.0655\n",
            "Epoch 373/500\n",
            "2/2 [==============================] - 0s 8ms/step - loss: 40.6672 - mae: 34.3621\n",
            "Epoch 374/500\n",
            "2/2 [==============================] - 0s 10ms/step - loss: 40.5666 - mae: 34.6870\n",
            "Epoch 375/500\n",
            "2/2 [==============================] - 0s 10ms/step - loss: 40.5100 - mae: 35.3804\n",
            "Epoch 376/500\n",
            "2/2 [==============================] - 0s 7ms/step - loss: 40.2277 - mae: 35.7932\n",
            "Epoch 377/500\n",
            "2/2 [==============================] - 0s 7ms/step - loss: 40.4524 - mae: 35.7986\n",
            "Epoch 378/500\n",
            "2/2 [==============================] - 0s 8ms/step - loss: 40.5314 - mae: 35.3953\n",
            "Epoch 379/500\n",
            "2/2 [==============================] - 0s 11ms/step - loss: 40.5311 - mae: 34.8460\n",
            "Epoch 380/500\n",
            "2/2 [==============================] - 0s 8ms/step - loss: 40.6879 - mae: 33.8133\n",
            "Epoch 381/500\n",
            "2/2 [==============================] - 0s 8ms/step - loss: 40.5950 - mae: 35.4622\n",
            "Epoch 382/500\n",
            "2/2 [==============================] - 0s 7ms/step - loss: 40.5375 - mae: 35.5885\n",
            "Epoch 383/500\n",
            "2/2 [==============================] - 0s 10ms/step - loss: 40.4308 - mae: 35.1267\n",
            "Epoch 384/500\n",
            "2/2 [==============================] - 0s 8ms/step - loss: 40.1043 - mae: 35.1527\n",
            "Epoch 385/500\n",
            "2/2 [==============================] - 0s 7ms/step - loss: 40.6369 - mae: 34.9326\n",
            "Epoch 386/500\n",
            "2/2 [==============================] - 0s 10ms/step - loss: 40.6176 - mae: 35.0625\n",
            "Epoch 387/500\n",
            "2/2 [==============================] - 0s 7ms/step - loss: 40.6010 - mae: 35.8633\n",
            "Epoch 388/500\n",
            "2/2 [==============================] - 0s 10ms/step - loss: 40.6563 - mae: 35.6178\n",
            "Epoch 389/500\n",
            "2/2 [==============================] - 0s 10ms/step - loss: 40.3104 - mae: 35.4908\n",
            "Epoch 390/500\n",
            "2/2 [==============================] - 0s 11ms/step - loss: 40.8027 - mae: 32.3702\n",
            "Epoch 391/500\n",
            "2/2 [==============================] - 0s 7ms/step - loss: 40.7528 - mae: 33.2817\n",
            "Epoch 392/500\n",
            "2/2 [==============================] - 0s 8ms/step - loss: 40.4611 - mae: 34.6066\n",
            "Epoch 393/500\n",
            "2/2 [==============================] - 0s 8ms/step - loss: 40.6384 - mae: 34.8918\n",
            "Epoch 394/500\n",
            "2/2 [==============================] - 0s 11ms/step - loss: 40.4758 - mae: 35.6027\n",
            "Epoch 395/500\n",
            "2/2 [==============================] - 0s 8ms/step - loss: 40.6674 - mae: 34.2532\n",
            "Epoch 396/500\n",
            "2/2 [==============================] - 0s 10ms/step - loss: 40.4316 - mae: 34.7968\n",
            "Epoch 397/500\n",
            "2/2 [==============================] - 0s 7ms/step - loss: 40.5834 - mae: 35.0149\n",
            "Epoch 398/500\n",
            "2/2 [==============================] - 0s 7ms/step - loss: 40.6483 - mae: 34.4666\n",
            "Epoch 399/500\n",
            "2/2 [==============================] - 0s 7ms/step - loss: 40.4925 - mae: 35.1224\n",
            "Epoch 400/500\n",
            "2/2 [==============================] - 0s 7ms/step - loss: 40.7306 - mae: 33.4692\n",
            "Epoch 401/500\n",
            "2/2 [==============================] - 0s 8ms/step - loss: 39.9369 - mae: 34.2057\n",
            "Epoch 402/500\n",
            "2/2 [==============================] - 0s 6ms/step - loss: 40.4542 - mae: 29.2733\n",
            "Epoch 403/500\n",
            "2/2 [==============================] - 0s 6ms/step - loss: 40.1594 - mae: 31.6370\n",
            "Epoch 404/500\n",
            "2/2 [==============================] - 0s 6ms/step - loss: 41.3408 - mae: 27.6458\n",
            "Epoch 405/500\n",
            "2/2 [==============================] - 0s 14ms/step - loss: 40.7633 - mae: 31.5606\n",
            "Epoch 406/500\n",
            "2/2 [==============================] - 0s 9ms/step - loss: 40.7638 - mae: 32.7843\n",
            "Epoch 407/500\n",
            "2/2 [==============================] - 0s 9ms/step - loss: 40.6594 - mae: 33.9230\n",
            "Epoch 408/500\n",
            "2/2 [==============================] - 0s 7ms/step - loss: 40.1258 - mae: 34.6315\n",
            "Epoch 409/500\n",
            "2/2 [==============================] - 0s 7ms/step - loss: 40.8361 - mae: 30.3246\n",
            "Epoch 410/500\n",
            "2/2 [==============================] - 0s 9ms/step - loss: 40.8767 - mae: 31.2975\n",
            "Epoch 411/500\n",
            "2/2 [==============================] - 0s 10ms/step - loss: 40.6661 - mae: 32.3635\n",
            "Epoch 412/500\n",
            "2/2 [==============================] - 0s 9ms/step - loss: 40.7670 - mae: 32.1842\n",
            "Epoch 413/500\n",
            "2/2 [==============================] - 0s 8ms/step - loss: 40.8362 - mae: 32.4663\n",
            "Epoch 414/500\n",
            "2/2 [==============================] - 0s 8ms/step - loss: 40.6961 - mae: 32.3788\n",
            "Epoch 415/500\n",
            "2/2 [==============================] - 0s 11ms/step - loss: 40.6346 - mae: 33.9474\n",
            "Epoch 416/500\n",
            "2/2 [==============================] - 0s 7ms/step - loss: 40.6382 - mae: 35.0650\n",
            "Epoch 417/500\n",
            "2/2 [==============================] - 0s 7ms/step - loss: 40.6157 - mae: 35.4826\n",
            "Epoch 418/500\n",
            "2/2 [==============================] - 0s 7ms/step - loss: 40.6214 - mae: 35.2456\n",
            "Epoch 419/500\n",
            "2/2 [==============================] - 0s 7ms/step - loss: 40.3699 - mae: 35.4802\n",
            "Epoch 420/500\n",
            "2/2 [==============================] - 0s 8ms/step - loss: 40.6367 - mae: 33.2871\n",
            "Epoch 421/500\n",
            "2/2 [==============================] - 0s 9ms/step - loss: 40.5775 - mae: 34.6218\n",
            "Epoch 422/500\n",
            "2/2 [==============================] - 0s 8ms/step - loss: 40.4850 - mae: 35.0612\n",
            "Epoch 423/500\n",
            "2/2 [==============================] - 0s 8ms/step - loss: 40.6699 - mae: 34.4715\n",
            "Epoch 424/500\n",
            "2/2 [==============================] - 0s 7ms/step - loss: 40.5255 - mae: 35.0904\n",
            "Epoch 425/500\n",
            "2/2 [==============================] - 0s 10ms/step - loss: 40.6547 - mae: 34.7337\n",
            "Epoch 426/500\n",
            "2/2 [==============================] - 0s 9ms/step - loss: 40.3865 - mae: 34.3978\n",
            "Epoch 427/500\n",
            "2/2 [==============================] - 0s 13ms/step - loss: 40.6581 - mae: 34.5548\n",
            "Epoch 428/500\n",
            "2/2 [==============================] - 0s 8ms/step - loss: 40.4452 - mae: 34.8899\n",
            "Epoch 429/500\n",
            "2/2 [==============================] - 0s 10ms/step - loss: 40.2397 - mae: 34.0573\n",
            "Epoch 430/500\n",
            "2/2 [==============================] - 0s 7ms/step - loss: 40.8223 - mae: 30.1836\n",
            "Epoch 431/500\n",
            "2/2 [==============================] - 0s 15ms/step - loss: 40.6398 - mae: 31.4604\n",
            "Epoch 432/500\n",
            "2/2 [==============================] - 0s 11ms/step - loss: 40.7395 - mae: 31.7701\n",
            "Epoch 433/500\n",
            "2/2 [==============================] - 0s 11ms/step - loss: 40.1687 - mae: 33.2093\n",
            "Epoch 434/500\n",
            "2/2 [==============================] - 0s 9ms/step - loss: 41.0454 - mae: 30.1787\n",
            "Epoch 435/500\n",
            "2/2 [==============================] - 0s 9ms/step - loss: 39.8136 - mae: 32.3747\n",
            "Epoch 436/500\n",
            "2/2 [==============================] - 0s 8ms/step - loss: 41.4000 - mae: 26.2325\n",
            "Epoch 437/500\n",
            "2/2 [==============================] - 0s 8ms/step - loss: 41.1450 - mae: 28.0269\n",
            "Epoch 438/500\n",
            "2/2 [==============================] - 0s 9ms/step - loss: 39.7018 - mae: 32.5307\n",
            "Epoch 439/500\n",
            "2/2 [==============================] - 0s 9ms/step - loss: 41.1337 - mae: 25.8439\n",
            "Epoch 440/500\n",
            "2/2 [==============================] - 0s 10ms/step - loss: 41.0713 - mae: 26.1585\n",
            "Epoch 441/500\n",
            "2/2 [==============================] - 0s 8ms/step - loss: 41.1588 - mae: 27.1017\n",
            "Epoch 442/500\n",
            "2/2 [==============================] - 0s 7ms/step - loss: 41.1420 - mae: 28.9527\n",
            "Epoch 443/500\n",
            "2/2 [==============================] - 0s 7ms/step - loss: 40.8978 - mae: 31.0160\n",
            "Epoch 444/500\n",
            "2/2 [==============================] - 0s 7ms/step - loss: 40.2330 - mae: 31.9616\n",
            "Epoch 445/500\n",
            "2/2 [==============================] - 0s 7ms/step - loss: 40.7265 - mae: 33.5631\n",
            "Epoch 446/500\n",
            "2/2 [==============================] - 0s 8ms/step - loss: 40.3390 - mae: 33.2110\n",
            "Epoch 447/500\n",
            "2/2 [==============================] - 0s 6ms/step - loss: 40.3114 - mae: 34.2271\n",
            "Epoch 448/500\n",
            "2/2 [==============================] - 0s 7ms/step - loss: 40.6528 - mae: 34.8552\n",
            "Epoch 449/500\n",
            "2/2 [==============================] - 0s 7ms/step - loss: 40.6138 - mae: 34.8756\n",
            "Epoch 450/500\n",
            "2/2 [==============================] - 0s 7ms/step - loss: 40.5988 - mae: 35.1925\n",
            "Epoch 451/500\n",
            "2/2 [==============================] - 0s 7ms/step - loss: 39.9825 - mae: 35.5596\n",
            "Epoch 452/500\n",
            "2/2 [==============================] - 0s 11ms/step - loss: 40.8133 - mae: 31.0857\n",
            "Epoch 453/500\n",
            "2/2 [==============================] - 0s 7ms/step - loss: 40.9077 - mae: 29.6161\n",
            "Epoch 454/500\n",
            "2/2 [==============================] - 0s 7ms/step - loss: 40.8890 - mae: 30.6509\n",
            "Epoch 455/500\n",
            "2/2 [==============================] - 0s 9ms/step - loss: 40.7118 - mae: 31.9460\n",
            "Epoch 456/500\n",
            "2/2 [==============================] - 0s 8ms/step - loss: 40.6422 - mae: 33.7030\n",
            "Epoch 457/500\n",
            "2/2 [==============================] - 0s 8ms/step - loss: 40.5787 - mae: 33.9413\n",
            "Epoch 458/500\n",
            "2/2 [==============================] - 0s 7ms/step - loss: 40.1847 - mae: 34.7494\n",
            "Epoch 459/500\n",
            "2/2 [==============================] - 0s 6ms/step - loss: 40.7566 - mae: 32.1740\n",
            "Epoch 460/500\n",
            "2/2 [==============================] - 0s 9ms/step - loss: 40.7493 - mae: 32.8735\n",
            "Epoch 461/500\n",
            "2/2 [==============================] - 0s 9ms/step - loss: 40.6498 - mae: 33.7311\n",
            "Epoch 462/500\n",
            "2/2 [==============================] - 0s 9ms/step - loss: 40.6545 - mae: 34.3081\n",
            "Epoch 463/500\n",
            "2/2 [==============================] - 0s 9ms/step - loss: 40.5911 - mae: 34.8119\n",
            "Epoch 464/500\n",
            "2/2 [==============================] - 0s 9ms/step - loss: 40.4273 - mae: 35.4146\n",
            "Epoch 465/500\n",
            "2/2 [==============================] - 0s 8ms/step - loss: 40.4093 - mae: 35.5091\n",
            "Epoch 466/500\n",
            "2/2 [==============================] - 0s 11ms/step - loss: 40.5687 - mae: 35.6356\n",
            "Epoch 467/500\n",
            "2/2 [==============================] - 0s 9ms/step - loss: 40.6476 - mae: 35.1021\n",
            "Epoch 468/500\n",
            "2/2 [==============================] - 0s 8ms/step - loss: 40.5379 - mae: 34.9394\n",
            "Epoch 469/500\n",
            "2/2 [==============================] - 0s 10ms/step - loss: 40.6373 - mae: 34.2100\n",
            "Epoch 470/500\n",
            "2/2 [==============================] - 0s 11ms/step - loss: 40.6317 - mae: 34.3977\n",
            "Epoch 471/500\n",
            "2/2 [==============================] - 0s 7ms/step - loss: 40.5350 - mae: 34.8234\n",
            "Epoch 472/500\n",
            "2/2 [==============================] - 0s 7ms/step - loss: 40.6013 - mae: 35.3577\n",
            "Epoch 473/500\n",
            "2/2 [==============================] - 0s 8ms/step - loss: 40.4678 - mae: 36.0282\n",
            "Epoch 474/500\n",
            "2/2 [==============================] - 0s 8ms/step - loss: 40.5679 - mae: 34.5697\n",
            "Epoch 475/500\n",
            "2/2 [==============================] - 0s 8ms/step - loss: 40.2337 - mae: 34.4609\n",
            "Epoch 476/500\n",
            "2/2 [==============================] - 0s 9ms/step - loss: 40.4581 - mae: 35.1064\n",
            "Epoch 477/500\n",
            "2/2 [==============================] - 0s 8ms/step - loss: 40.6641 - mae: 33.4520\n",
            "Epoch 478/500\n",
            "2/2 [==============================] - 0s 8ms/step - loss: 40.2766 - mae: 32.8267\n",
            "Epoch 479/500\n",
            "2/2 [==============================] - 0s 9ms/step - loss: 40.6675 - mae: 33.4751\n",
            "Epoch 480/500\n",
            "2/2 [==============================] - 0s 8ms/step - loss: 40.7007 - mae: 32.9718\n",
            "Epoch 481/500\n",
            "2/2 [==============================] - 0s 7ms/step - loss: 40.6081 - mae: 33.6557\n",
            "Epoch 482/500\n",
            "2/2 [==============================] - 0s 7ms/step - loss: 40.6362 - mae: 33.3404\n",
            "Epoch 483/500\n",
            "2/2 [==============================] - 0s 7ms/step - loss: 40.3560 - mae: 33.9110\n",
            "Epoch 484/500\n",
            "2/2 [==============================] - 0s 8ms/step - loss: 39.9430 - mae: 31.2735\n",
            "Epoch 485/500\n",
            "2/2 [==============================] - 0s 8ms/step - loss: 40.7026 - mae: 31.8209\n",
            "Epoch 486/500\n",
            "2/2 [==============================] - 0s 7ms/step - loss: 39.9149 - mae: 32.3600\n",
            "Epoch 487/500\n",
            "2/2 [==============================] - 0s 8ms/step - loss: 40.6142 - mae: 32.9337\n",
            "Epoch 488/500\n",
            "2/2 [==============================] - 0s 7ms/step - loss: 39.8381 - mae: 32.0154\n",
            "Epoch 489/500\n",
            "2/2 [==============================] - 0s 8ms/step - loss: 40.4857 - mae: 32.0888\n",
            "Epoch 490/500\n",
            "2/2 [==============================] - 0s 8ms/step - loss: 40.6534 - mae: 34.0595\n",
            "Epoch 491/500\n",
            "2/2 [==============================] - 0s 8ms/step - loss: 40.6435 - mae: 34.6081\n",
            "Epoch 492/500\n",
            "2/2 [==============================] - 0s 9ms/step - loss: 40.6212 - mae: 34.2834\n",
            "Epoch 493/500\n",
            "2/2 [==============================] - 0s 9ms/step - loss: 40.5233 - mae: 34.5524\n",
            "Epoch 494/500\n",
            "2/2 [==============================] - 0s 9ms/step - loss: 40.1770 - mae: 34.9123\n",
            "Epoch 495/500\n",
            "2/2 [==============================] - 0s 8ms/step - loss: 40.5462 - mae: 35.0890\n",
            "Epoch 496/500\n",
            "2/2 [==============================] - 0s 9ms/step - loss: 40.5742 - mae: 35.1523\n",
            "Epoch 497/500\n",
            "2/2 [==============================] - 0s 22ms/step - loss: 40.2589 - mae: 35.3825\n",
            "Epoch 498/500\n",
            "2/2 [==============================] - 0s 7ms/step - loss: 40.8548 - mae: 32.2161\n",
            "Epoch 499/500\n",
            "2/2 [==============================] - 0s 12ms/step - loss: 40.6082 - mae: 32.3351\n",
            "Epoch 500/500\n",
            "2/2 [==============================] - 0s 7ms/step - loss: 39.7463 - mae: 32.3564\n"
          ]
        },
        {
          "output_type": "execute_result",
          "data": {
            "text/plain": [
              "<keras.src.callbacks.History at 0x79ad2561f8e0>"
            ]
          },
          "metadata": {},
          "execution_count": 59
        }
      ]
    },
    {
      "cell_type": "code",
      "source": [
        "# Make and plot some predictions\n",
        "\n",
        "y_preds_3 = model_3.predict(x_test)\n",
        "plot_predictions(predictions = y_preds_3)"
      ],
      "metadata": {
        "colab": {
          "base_uri": "https://localhost:8080/",
          "height": 502
        },
        "id": "uKfdkv17FlEB",
        "outputId": "90cbdc20-01c5-4229-931a-7c377b713e1f"
      },
      "execution_count": 60,
      "outputs": [
        {
          "output_type": "stream",
          "name": "stdout",
          "text": [
            "1/1 [==============================] - 1s 550ms/step\n"
          ]
        },
        {
          "output_type": "display_data",
          "data": {
            "text/plain": [
              "<Figure size 1000x700 with 1 Axes>"
            ],
            "image/png": "[encoded data removed]"
          },
          "metadata": {}
        }
      ]
    },
    {
      "cell_type": "code",
      "source": [
        "# Calculate model_3 evaluation metrics\n",
        "\n",
        "mae_3 = mae(y_test, y_preds_3)\n",
        "mse_3 = mse(y_test, y_preds_3)\n",
        "mae_3, mse_3"
      ],
      "metadata": {
        "colab": {
          "base_uri": "https://localhost:8080/"
        },
        "id": "AZTlLn1rGIGp",
        "outputId": "7f305d12-2d68-42c8-ff0f-cdae7f16558e"
      },
      "execution_count": 61,
      "outputs": [
        {
          "output_type": "execute_result",
          "data": {
            "text/plain": [
              "(<tf.Tensor: shape=(), dtype=float32, numpy=64.016075>,\n",
              " <tf.Tensor: shape=(), dtype=float32, numpy=4158.169>)"
            ]
          },
          "metadata": {},
          "execution_count": 61
        }
      ]
    },
    {
      "cell_type": "markdown",
      "source": [
        "## Comparing the results of out experiments\n",
        "\n"
      ],
      "metadata": {
        "id": "AAy24eLdG11d"
      }
    },
    {
      "cell_type": "code",
      "source": [
        "# Lets compare our models result using a pandas DataFrame\n",
        "\n",
        "import pandas as pd\n",
        "\n",
        "model_results = [[\"model_1\", mae_1.numpy(), mse_1.numpy()],\n",
        "                [\"model_2\", mae_2.numpy(), mse_2.numpy()],\n",
        "                [\"model_3\", mae_3.numpy(), mse_3]]\n",
        "\n",
        "all_results = pd.DataFrame(model_results, columns=[\"model\", \"mae\", \"mse\"])\n",
        "all_results\n"
      ],
      "metadata": {
        "colab": {
          "base_uri": "https://localhost:8080/",
          "height": 144
        },
        "id": "Eyz6kizfeNiv",
        "outputId": "ed2bb298-5005-4614-9996-c416955f0e33"
      },
      "execution_count": 62,
      "outputs": [
        {
          "output_type": "execute_result",
          "data": {
            "text/plain": [
              "     model        mae                                           mse\n",
              "0  model_1  15.005365                                    226.014496\n",
              "1  model_2  45.774879                                    2122.77417\n",
              "2  model_3  64.016075  tf.Tensor(4158.169, shape=(), dtype=float32)"
            ],
            "text/html": [
              "\n",
              "  <div id=\"df-2f7e2dbb-6ccc-4a00-88fb-7c95a9bc23ba\" class=\"colab-df-container\">\n",
              "    <div>\n",
              "<style scoped>\n",
              "    .dataframe tbody tr th:only-of-type {\n",
              "        vertical-align: middle;\n",
              "    }\n",
              "\n",
              "    .dataframe tbody tr th {\n",
              "        vertical-align: top;\n",
              "    }\n",
              "\n",
              "    .dataframe thead th {\n",
              "        text-align: right;\n",
              "    }\n",
              "</style>\n",
              "<table border=\"1\" class=\"dataframe\">\n",
              "  <thead>\n",
              "    <tr style=\"text-align: right;\">\n",
              "      <th></th>\n",
              "      <th>model</th>\n",
              "      <th>mae</th>\n",
              "      <th>mse</th>\n",
              "    </tr>\n",
              "  </thead>\n",
              "  <tbody>\n",
              "    <tr>\n",
              "      <th>0</th>\n",
              "      <td>model_1</td>\n",
              "      <td>15.005365</td>\n",
              "      <td>226.014496</td>\n",
              "    </tr>\n",
              "    <tr>\n",
              "      <th>1</th>\n",
              "      <td>model_2</td>\n",
              "      <td>45.774879</td>\n",
              "      <td>2122.77417</td>\n",
              "    </tr>\n",
              "    <tr>\n",
              "      <th>2</th>\n",
              "      <td>model_3</td>\n",
              "      <td>64.016075</td>\n",
              "      <td>tf.Tensor(4158.169, shape=(), dtype=float32)</td>\n",
              "    </tr>\n",
              "  </tbody>\n",
              "</table>\n",
              "</div>\n",
              "    <div class=\"colab-df-buttons\">\n",
              "\n",
              "  <div class=\"colab-df-container\">\n",
              "    <button class=\"colab-df-convert\" onclick=\"convertToInteractive('df-2f7e2dbb-6ccc-4a00-88fb-7c95a9bc23ba')\"\n",
              "            title=\"Convert this dataframe to an interactive table.\"\n",
              "            style=\"display:none;\">\n",
              "\n",
              "  <svg xmlns=\"http://www.w3.org/2000/svg\" height=\"24px\" viewBox=\"0 -960 960 960\">\n",
              "    <path d=\"M120-120v-720h720v720H120Zm60-500h600v-160H180v160Zm220 220h160v-160H400v160Zm0 220h160v-160H400v160ZM180-400h160v-160H180v160Zm440 0h160v-160H620v160ZM180-180h160v-160H180v160Zm440 0h160v-160H620v160Z\"/>\n",
              "  </svg>\n",
              "    </button>\n",
              "\n",
              "  <style>\n",
              "    .colab-df-container {\n",
              "      display:flex;\n",
              "      gap: 12px;\n",
              "    }\n",
              "\n",
              "    .colab-df-convert {\n",
              "      background-color: #E8F0FE;\n",
              "      border: none;\n",
              "      border-radius: 50%;\n",
              "      cursor: pointer;\n",
              "      display: none;\n",
              "      fill: #1967D2;\n",
              "      height: 32px;\n",
              "      padding: 0 0 0 0;\n",
              "      width: 32px;\n",
              "    }\n",
              "\n",
              "    .colab-df-convert:hover {\n",
              "      background-color: #E2EBFA;\n",
              "      box-shadow: 0px 1px 2px rgba(60, 64, 67, 0.3), 0px 1px 3px 1px rgba(60, 64, 67, 0.15);\n",
              "      fill: #174EA6;\n",
              "    }\n",
              "\n",
              "    .colab-df-buttons div {\n",
              "      margin-bottom: 4px;\n",
              "    }\n",
              "\n",
              "    [theme=dark] .colab-df-convert {\n",
              "      background-color: #3B4455;\n",
              "      fill: #D2E3FC;\n",
              "    }\n",
              "\n",
              "    [theme=dark] .colab-df-convert:hover {\n",
              "      background-color: #434B5C;\n",
              "      box-shadow: 0px 1px 3px 1px rgba(0, 0, 0, 0.15);\n",
              "      filter: drop-shadow(0px 1px 2px rgba(0, 0, 0, 0.3));\n",
              "      fill: #FFFFFF;\n",
              "    }\n",
              "  </style>\n",
              "\n",
              "    <script>\n",
              "      const buttonEl =\n",
              "        document.querySelector('#df-2f7e2dbb-6ccc-4a00-88fb-7c95a9bc23ba button.colab-df-convert');\n",
              "      buttonEl.style.display =\n",
              "        google.colab.kernel.accessAllowed ? 'block' : 'none';\n",
              "\n",
              "      async function convertToInteractive(key) {\n",
              "        const element = document.querySelector('#df-2f7e2dbb-6ccc-4a00-88fb-7c95a9bc23ba');\n",
              "        const dataTable =\n",
              "          await google.colab.kernel.invokeFunction('convertToInteractive',\n",
              "                                                    [key], {});\n",
              "        if (!dataTable) return;\n",
              "\n",
              "        const docLinkHtml = 'Like what you see? Visit the ' +\n",
              "          '<a target=\"_blank\" href=https://colab.research.google.com/notebooks/data_table.ipynb>data table notebook</a>'\n",
              "          + ' to learn more about interactive tables.';\n",
              "        element.innerHTML = '';\n",
              "        dataTable['output_type'] = 'display_data';\n",
              "        await google.colab.output.renderOutput(dataTable, element);\n",
              "        const docLink = document.createElement('div');\n",
              "        docLink.innerHTML = docLinkHtml;\n",
              "        element.appendChild(docLink);\n",
              "      }\n",
              "    </script>\n",
              "  </div>\n",
              "\n",
              "\n",
              "<div id=\"df-2edf0f5a-d6a6-4068-9b8f-3334351b3118\">\n",
              "  <button class=\"colab-df-quickchart\" onclick=\"quickchart('df-2edf0f5a-d6a6-4068-9b8f-3334351b3118')\"\n",
              "            title=\"Suggest charts\"\n",
              "            style=\"display:none;\">\n",
              "\n",
              "<svg xmlns=\"http://www.w3.org/2000/svg\" height=\"24px\"viewBox=\"0 0 24 24\"\n",
              "     width=\"24px\">\n",
              "    <g>\n",
              "        <path d=\"M19 3H5c-1.1 0-2 .9-2 2v14c0 1.1.9 2 2 2h14c1.1 0 2-.9 2-2V5c0-1.1-.9-2-2-2zM9 17H7v-7h2v7zm4 0h-2V7h2v10zm4 0h-2v-4h2v4z\"/>\n",
              "    </g>\n",
              "</svg>\n",
              "  </button>\n",
              "\n",
              "<style>\n",
              "  .colab-df-quickchart {\n",
              "      --bg-color: #E8F0FE;\n",
              "      --fill-color: #1967D2;\n",
              "      --hover-bg-color: #E2EBFA;\n",
              "      --hover-fill-color: #174EA6;\n",
              "      --disabled-fill-color: #AAA;\n",
              "      --disabled-bg-color: #DDD;\n",
              "  }\n",
              "\n",
              "  [theme=dark] .colab-df-quickchart {\n",
              "      --bg-color: #3B4455;\n",
              "      --fill-color: #D2E3FC;\n",
              "      --hover-bg-color: #434B5C;\n",
              "      --hover-fill-color: #FFFFFF;\n",
              "      --disabled-bg-color: #3B4455;\n",
              "      --disabled-fill-color: #666;\n",
              "  }\n",
              "\n",
              "  .colab-df-quickchart {\n",
              "    background-color: var(--bg-color);\n",
              "    border: none;\n",
              "    border-radius: 50%;\n",
              "    cursor: pointer;\n",
              "    display: none;\n",
              "    fill: var(--fill-color);\n",
              "    height: 32px;\n",
              "    padding: 0;\n",
              "    width: 32px;\n",
              "  }\n",
              "\n",
              "  .colab-df-quickchart:hover {\n",
              "    background-color: var(--hover-bg-color);\n",
              "    box-shadow: 0 1px 2px rgba(60, 64, 67, 0.3), 0 1px 3px 1px rgba(60, 64, 67, 0.15);\n",
              "    fill: var(--button-hover-fill-color);\n",
              "  }\n",
              "\n",
              "  .colab-df-quickchart-complete:disabled,\n",
              "  .colab-df-quickchart-complete:disabled:hover {\n",
              "    background-color: var(--disabled-bg-color);\n",
              "    fill: var(--disabled-fill-color);\n",
              "    box-shadow: none;\n",
              "  }\n",
              "\n",
              "  .colab-df-spinner {\n",
              "    border: 2px solid var(--fill-color);\n",
              "    border-color: transparent;\n",
              "    border-bottom-color: var(--fill-color);\n",
              "    animation:\n",
              "      spin 1s steps(1) infinite;\n",
              "  }\n",
              "\n",
              "  @keyframes spin {\n",
              "    0% {\n",
              "      border-color: transparent;\n",
              "      border-bottom-color: var(--fill-color);\n",
              "      border-left-color: var(--fill-color);\n",
              "    }\n",
              "    20% {\n",
              "      border-color: transparent;\n",
              "      border-left-color: var(--fill-color);\n",
              "      border-top-color: var(--fill-color);\n",
              "    }\n",
              "    30% {\n",
              "      border-color: transparent;\n",
              "      border-left-color: var(--fill-color);\n",
              "      border-top-color: var(--fill-color);\n",
              "      border-right-color: var(--fill-color);\n",
              "    }\n",
              "    40% {\n",
              "      border-color: transparent;\n",
              "      border-right-color: var(--fill-color);\n",
              "      border-top-color: var(--fill-color);\n",
              "    }\n",
              "    60% {\n",
              "      border-color: transparent;\n",
              "      border-right-color: var(--fill-color);\n",
              "    }\n",
              "    80% {\n",
              "      border-color: transparent;\n",
              "      border-right-color: var(--fill-color);\n",
              "      border-bottom-color: var(--fill-color);\n",
              "    }\n",
              "    90% {\n",
              "      border-color: transparent;\n",
              "      border-bottom-color: var(--fill-color);\n",
              "    }\n",
              "  }\n",
              "</style>\n",
              "\n",
              "  <script>\n",
              "    async function quickchart(key) {\n",
              "      const quickchartButtonEl =\n",
              "        document.querySelector('#' + key + ' button');\n",
              "      quickchartButtonEl.disabled = true;  // To prevent multiple clicks.\n",
              "      quickchartButtonEl.classList.add('colab-df-spinner');\n",
              "      try {\n",
              "        const charts = await google.colab.kernel.invokeFunction(\n",
              "            'suggestCharts', [key], {});\n",
              "      } catch (error) {\n",
              "        console.error('Error during call to suggestCharts:', error);\n",
              "      }\n",
              "      quickchartButtonEl.classList.remove('colab-df-spinner');\n",
              "      quickchartButtonEl.classList.add('colab-df-quickchart-complete');\n",
              "    }\n",
              "    (() => {\n",
              "      let quickchartButtonEl =\n",
              "        document.querySelector('#df-2edf0f5a-d6a6-4068-9b8f-3334351b3118 button');\n",
              "      quickchartButtonEl.style.display =\n",
              "        google.colab.kernel.accessAllowed ? 'block' : 'none';\n",
              "    })();\n",
              "  </script>\n",
              "</div>\n",
              "    </div>\n",
              "  </div>\n"
            ],
            "application/vnd.google.colaboratory.intrinsic+json": {
              "type": "dataframe",
              "variable_name": "all_results",
              "summary": "{\n  \"name\": \"all_results\",\n  \"rows\": 3,\n  \"fields\": [\n    {\n      \"column\": \"model\",\n      \"properties\": {\n        \"dtype\": \"string\",\n        \"num_unique_values\": 3,\n        \"samples\": [\n          \"model_1\",\n          \"model_2\",\n          \"model_3\"\n        ],\n        \"semantic_type\": \"\",\n        \"description\": \"\"\n      }\n    },\n    {\n      \"column\": \"mae\",\n      \"properties\": {\n        \"dtype\": \"float32\",\n        \"num_unique_values\": 3,\n        \"samples\": [\n          15.005365371704102,\n          45.774879455566406,\n          64.01607513427734\n        ],\n        \"semantic_type\": \"\",\n        \"description\": \"\"\n      }\n    },\n    {\n      \"column\": \"mse\",\n      \"properties\": {\n        \"dtype\": \"object\",\n        \"semantic_type\": \"\",\n        \"description\": \"\"\n      }\n    }\n  ]\n}"
            }
          },
          "metadata": {},
          "execution_count": 62
        }
      ]
    },
    {
      "source": [
        "# @title mae\n",
        "# Got Recommendation from gcollab\n",
        "\n",
        "from matplotlib import pyplot as plt\n",
        "all_results['mae'].plot(kind='hist', bins=20, title='mae')\n",
        "plt.gca().spines[['top', 'right',]].set_visible(False)"
      ],
      "cell_type": "code",
      "execution_count": 63,
      "outputs": [
        {
          "output_type": "display_data",
          "data": {
            "text/plain": [
              "<Figure size 640x480 with 1 Axes>"
            ],
            "image/png": "[encoded data removed]"
          },
          "metadata": {}
        }
      ],
      "metadata": {
        "colab": {
          "base_uri": "https://localhost:8080/",
          "height": 452
        },
        "id": "AK8lqoT2f7R1",
        "outputId": "6764a770-5dc2-426e-d172-540f90e23b92"
      }
    },
    {
      "cell_type": "markdown",
      "source": [
        "🔑**Note :** One of our main goals should be to minimize the time between our experiments. We must try and error"
      ],
      "metadata": {
        "id": "6mam0ajKgXEC"
      }
    },
    {
      "cell_type": "markdown",
      "source": [
        "## Tracking your experiments\n",
        "\n",
        "One really good habit in ml modelling is to track the result of your experiments.\n",
        "\n",
        "Luckly, there are tools to help us!\n",
        "\n",
        "📖**Resource:** As we build more models, we will want to look into using :\n",
        "\n",
        "* TensorBoard - a component of the TensorFlow library to help track modelling experiments\n",
        "* Weights & Biases - a tool for tracking all of kinds of machine learning experiments\n",
        "\n"
      ],
      "metadata": {
        "id": "jCyUYIJrhEbi"
      }
    },
    {
      "cell_type": "markdown",
      "source": [
        "## Saving Our model\n",
        "\n",
        "Saving our model allows us to use them outside of Google collab\n",
        "\n",
        "There are two main formats we can save our model too :\n",
        "1. The SavedModel format\n",
        "2. The HDF5 format"
      ],
      "metadata": {
        "id": "DCh5Gw9x2cEL"
      }
    },
    {
      "cell_type": "code",
      "source": [
        "# Save model using the SavedModel format\n",
        "model_2.save(\"best_model_SavedModel_format\")"
      ],
      "metadata": {
        "id": "GgNAjual2aAU"
      },
      "execution_count": 64,
      "outputs": []
    },
    {
      "cell_type": "code",
      "source": [
        "# Save model using the HDF5 format\n",
        "model_2.save(\"best_model_HDF5_format\")"
      ],
      "metadata": {
        "id": "WUEQU6AH4UiF"
      },
      "execution_count": 65,
      "outputs": []
    },
    {
      "cell_type": "markdown",
      "source": [
        "## Loading in a saved model"
      ],
      "metadata": {
        "id": "JlWRZHYjreP_"
      }
    },
    {
      "cell_type": "code",
      "source": [
        "# Load in the SavedModel format\n",
        "\n",
        "loaded_SavedModel_format = tf.keras.models.load_model(\"/content/best_model_SavedModel_format\")\n",
        "loaded_SavedModel_format.summary()"
      ],
      "metadata": {
        "colab": {
          "base_uri": "https://localhost:8080/"
        },
        "id": "2ZCWOR4Wrosv",
        "outputId": "0de205c1-97c7-4151-d2c6-480098fad59f"
      },
      "execution_count": 66,
      "outputs": [
        {
          "output_type": "stream",
          "name": "stdout",
          "text": [
            "Model: \"sequential_6\"\n",
            "_________________________________________________________________\n",
            " Layer (type)                Output Shape              Param #   \n",
            "=================================================================\n",
            " input_layer (Dense)         (None, 70)                140       \n",
            "                                                                 \n",
            " Output_layer (Dense)        (None, 1)                 71        \n",
            "                                                                 \n",
            "=================================================================\n",
            "Total params: 211 (844.00 Byte)\n",
            "Trainable params: 211 (844.00 Byte)\n",
            "Non-trainable params: 0 (0.00 Byte)\n",
            "_________________________________________________________________\n"
          ]
        }
      ]
    },
    {
      "cell_type": "code",
      "source": [
        "model_2 == loaded_SavedModel_format"
      ],
      "metadata": {
        "colab": {
          "base_uri": "https://localhost:8080/"
        },
        "id": "yLoIxTUvsGxF",
        "outputId": "31aed902-10b2-4c9d-c65e-867f1c8b61f7"
      },
      "execution_count": 67,
      "outputs": [
        {
          "output_type": "execute_result",
          "data": {
            "text/plain": [
              "False"
            ]
          },
          "metadata": {},
          "execution_count": 67
        }
      ]
    },
    {
      "cell_type": "code",
      "source": [
        "# Compare predictions\n",
        "model_2_preds = model_2.predict(x_test)\n",
        "loaded_SavedModel_format_preds = loaded_SavedModel_format.predict(x_test)\n",
        "\n",
        "model_2_preds == loaded_SavedModel_format_preds"
      ],
      "metadata": {
        "colab": {
          "base_uri": "https://localhost:8080/"
        },
        "id": "NN4wwIe1sbEY",
        "outputId": "aa959ee7-fc77-4f26-d822-b52167f0c4d9"
      },
      "execution_count": 68,
      "outputs": [
        {
          "output_type": "stream",
          "name": "stdout",
          "text": [
            "1/1 [==============================] - 0s 34ms/step\n",
            "1/1 [==============================] - 0s 55ms/step\n"
          ]
        },
        {
          "output_type": "execute_result",
          "data": {
            "text/plain": [
              "array([[ True],\n",
              "       [ True],\n",
              "       [ True],\n",
              "       [ True],\n",
              "       [ True],\n",
              "       [ True],\n",
              "       [ True],\n",
              "       [ True],\n",
              "       [ True],\n",
              "       [ True]])"
            ]
          },
          "metadata": {},
          "execution_count": 68
        }
      ]
    },
    {
      "cell_type": "code",
      "source": [
        "mae(y_true = y_test, y_pred = model_2_preds) == mae(y_true = y_test, y_pred=loaded_SavedModel_format_preds )"
      ],
      "metadata": {
        "colab": {
          "base_uri": "https://localhost:8080/"
        },
        "id": "4vOzpgEWs4bA",
        "outputId": "9d20ee3b-5dcf-4688-8999-4f5f46cd28a2"
      },
      "execution_count": 69,
      "outputs": [
        {
          "output_type": "execute_result",
          "data": {
            "text/plain": [
              "<tf.Tensor: shape=(), dtype=bool, numpy=True>"
            ]
          },
          "metadata": {},
          "execution_count": 69
        }
      ]
    },
    {
      "cell_type": "code",
      "source": [
        "# Load in a model using the h5 format\n",
        "loaded_h5_model = tf.keras.models.load_model(\"/content/best_model_HDF5_format\")\n",
        "loaded_h5_model.summary()"
      ],
      "metadata": {
        "colab": {
          "base_uri": "https://localhost:8080/"
        },
        "id": "HfBpvyUluB-8",
        "outputId": "24f1e347-388c-4295-ed53-5553f51c759c"
      },
      "execution_count": 70,
      "outputs": [
        {
          "output_type": "stream",
          "name": "stdout",
          "text": [
            "Model: \"sequential_6\"\n",
            "_________________________________________________________________\n",
            " Layer (type)                Output Shape              Param #   \n",
            "=================================================================\n",
            " input_layer (Dense)         (None, 70)                140       \n",
            "                                                                 \n",
            " Output_layer (Dense)        (None, 1)                 71        \n",
            "                                                                 \n",
            "=================================================================\n",
            "Total params: 211 (844.00 Byte)\n",
            "Trainable params: 211 (844.00 Byte)\n",
            "Non-trainable params: 0 (0.00 Byte)\n",
            "_________________________________________________________________\n"
          ]
        }
      ]
    },
    {
      "cell_type": "code",
      "source": [
        "# Compare\n",
        "\n",
        "loaded_h5_model_preds = loaded_h5_model.predict(x_test)\n",
        "\n",
        "model_2_preds == loaded_h5_model_preds"
      ],
      "metadata": {
        "colab": {
          "base_uri": "https://localhost:8080/"
        },
        "id": "IBlZi3BwucUl",
        "outputId": "0fdca2fb-c085-461a-bd9e-e7c67343de50"
      },
      "execution_count": 71,
      "outputs": [
        {
          "output_type": "stream",
          "name": "stdout",
          "text": [
            "1/1 [==============================] - 0s 53ms/step\n"
          ]
        },
        {
          "output_type": "execute_result",
          "data": {
            "text/plain": [
              "array([[ True],\n",
              "       [ True],\n",
              "       [ True],\n",
              "       [ True],\n",
              "       [ True],\n",
              "       [ True],\n",
              "       [ True],\n",
              "       [ True],\n",
              "       [ True],\n",
              "       [ True]])"
            ]
          },
          "metadata": {},
          "execution_count": 71
        }
      ]
    },
    {
      "cell_type": "code",
      "source": [
        "mae(y_true = y_test, y_pred = model_2_preds) == mae(y_true=y_test, y_pred=loaded_h5_model_preds)"
      ],
      "metadata": {
        "colab": {
          "base_uri": "https://localhost:8080/"
        },
        "id": "915O3jbSuuKI",
        "outputId": "30783d99-b692-49c8-d2a4-c10ab78800c5"
      },
      "execution_count": 72,
      "outputs": [
        {
          "output_type": "execute_result",
          "data": {
            "text/plain": [
              "<tf.Tensor: shape=(), dtype=bool, numpy=True>"
            ]
          },
          "metadata": {},
          "execution_count": 72
        }
      ]
    },
    {
      "cell_type": "markdown",
      "source": [
        "## Download a model (or any other file) from Google Colab\n",
        "\n",
        "If you want to download your file from Google Colab :\n",
        "1. You can go to the \"files\" tab and right click on the file youre after and click \"upload\".\n",
        "\n",
        "2. Use code\n",
        "\n",
        "3. Save it to Google Drive by connecting Google Drive and copying it there (see 2nd code cell)"
      ],
      "metadata": {
        "id": "QUSC31vrxNpn"
      }
    },
    {
      "cell_type": "code",
      "source": [
        "# Download a file from Google Colab\n",
        "\n",
        "# from google.colab import files\n",
        "# files.download(\"/content/best_model_HDF5_format\")"
      ],
      "metadata": {
        "id": "8TcUW_yr1w_p"
      },
      "execution_count": 73,
      "outputs": []
    },
    {
      "cell_type": "code",
      "source": [
        "# Save a file from Google colab to Google Drive\n",
        "# !cp /content/best_model_HDF5_format(our model path) _____(our folder file aim)"
      ],
      "metadata": {
        "id": "WSgD3o4e7f7p"
      },
      "execution_count": 74,
      "outputs": []
    },
    {
      "cell_type": "markdown",
      "source": [
        "## A Larger Example"
      ],
      "metadata": {
        "id": "CCRi9SjcjVKV"
      }
    },
    {
      "cell_type": "code",
      "source": [
        "# Import requaired libraries\n",
        "import tensorflow as tf\n",
        "import pandas as pd\n",
        "import matplotlib.pyplot as plt"
      ],
      "metadata": {
        "id": "k9TQZSDtjf7m"
      },
      "execution_count": 78,
      "outputs": []
    },
    {
      "cell_type": "code",
      "source": [
        "# Read in the insurance datatset\n",
        "\n",
        "insurance = pd.read_csv(\"https://raw.githubusercontent.com/stedy/Machine-Learning-with-R-datasets/master/insurance.csv\")"
      ],
      "metadata": {
        "id": "BuTf-1pqko1F"
      },
      "execution_count": 79,
      "outputs": []
    }
  ]
}