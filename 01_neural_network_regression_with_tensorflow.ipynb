{
  "nbformat": 4,
  "nbformat_minor": 0,
  "metadata": {
    "colab": {
      "provenance": [],
      "authorship_tag": "ABX9TyMnJBojBuVgR3FOJ9MBdH9a",
      "include_colab_link": true
    },
    "kernelspec": {
      "name": "python3",
      "display_name": "Python 3"
    },
    "language_info": {
      "name": "python"
    }
  },
  "cells": [
    {
      "cell_type": "markdown",
      "metadata": {
        "id": "view-in-github",
        "colab_type": "text"
      },
      "source": [
        "<a href=\"https://colab.research.google.com/github/GabrielBatavia/Learn_TensorFlow/blob/main/01_neural_network_regression_with_tensorflow.ipynb\" target=\"_parent\"><img src=\"https://colab.research.google.com/assets/colab-badge.svg\" alt=\"Open In Colab\"/></a>"
      ]
    },
    {
      "cell_type": "markdown",
      "source": [
        "# Introduction to Regression with Neural Networks in TensorFlow\n",
        "\n",
        "There are many definition for a regression problem but in our case, we're going to simplify it : predicting a numerical variable based on some other combination of variables, even shorter...predicting a number."
      ],
      "metadata": {
        "id": "eANshE7nr2zb"
      }
    },
    {
      "cell_type": "code",
      "execution_count": 1,
      "metadata": {
        "colab": {
          "base_uri": "https://localhost:8080/"
        },
        "id": "UmVJP_eWrO59",
        "outputId": "6e66dfde-1bb8-4bff-a83e-670d3c4f3627"
      },
      "outputs": [
        {
          "output_type": "stream",
          "name": "stdout",
          "text": [
            "2.15.0\n"
          ]
        }
      ],
      "source": [
        "# Import TensorFlow\n",
        "\n",
        "import tensorflow as tf\n",
        "print(tf.__version__)"
      ]
    },
    {
      "cell_type": "markdown",
      "source": [
        "## Creating data to view and fit"
      ],
      "metadata": {
        "id": "vbbwMFoqskyN"
      }
    },
    {
      "cell_type": "code",
      "source": [
        "import numpy as np\n",
        "import matplotlib.pyplot as plt"
      ],
      "metadata": {
        "id": "DXOtRA60shEW"
      },
      "execution_count": 2,
      "outputs": []
    },
    {
      "cell_type": "code",
      "source": [
        "# Creating features\n",
        "\n",
        "x = np.array([-7., -4., -1., 2., 5., 8., 11., 14.])\n",
        "\n",
        "# Create labels\n",
        "y = np.array([3., 6., 9., 12., 15., 18., 21., 24.])\n",
        "\n",
        "# Visualize it\n",
        "plt.scatter(x, y);"
      ],
      "metadata": {
        "colab": {
          "base_uri": "https://localhost:8080/",
          "height": 435
        },
        "id": "SX4eHtEts4GD",
        "outputId": "09a631b6-c5c3-46c3-8e00-5e1ebf10d879"
      },
      "execution_count": 3,
      "outputs": [
        {
          "output_type": "display_data",
          "data": {
            "text/plain": [
              "<Figure size 640x480 with 1 Axes>"
            ],
            "image/png": "[encoded data removed]"
          },
          "metadata": {}
        }
      ]
    },
    {
      "cell_type": "code",
      "source": [
        "y == x + 10"
      ],
      "metadata": {
        "id": "qaf2FE-utbQ-",
        "colab": {
          "base_uri": "https://localhost:8080/"
        },
        "outputId": "f00db71f-5f60-4cb5-b7b1-845407ccba16"
      },
      "execution_count": 4,
      "outputs": [
        {
          "output_type": "execute_result",
          "data": {
            "text/plain": [
              "array([ True,  True,  True,  True,  True,  True,  True,  True])"
            ]
          },
          "metadata": {},
          "execution_count": 4
        }
      ]
    },
    {
      "cell_type": "markdown",
      "source": [
        "## Input and Output shapes"
      ],
      "metadata": {
        "id": "hHex_79OxmAn"
      }
    },
    {
      "cell_type": "code",
      "source": [
        "# Create a demo tensor for out housing price prediction problem\n",
        "\n",
        "house_info = tf.constant([\"bedroom\", \"bathroom\", \"garage\"])\n",
        "house_price = tf.constant([939700])\n",
        "\n",
        "house_info, house_price"
      ],
      "metadata": {
        "colab": {
          "base_uri": "https://localhost:8080/"
        },
        "id": "EKNlltO3xrVe",
        "outputId": "908c3f5c-666e-4140-dcc8-a444a3413eb2"
      },
      "execution_count": 5,
      "outputs": [
        {
          "output_type": "execute_result",
          "data": {
            "text/plain": [
              "(<tf.Tensor: shape=(3,), dtype=string, numpy=array([b'bedroom', b'bathroom', b'garage'], dtype=object)>,\n",
              " <tf.Tensor: shape=(1,), dtype=int32, numpy=array([939700], dtype=int32)>)"
            ]
          },
          "metadata": {},
          "execution_count": 5
        }
      ]
    },
    {
      "cell_type": "code",
      "source": [
        "x[0], y[0]"
      ],
      "metadata": {
        "colab": {
          "base_uri": "https://localhost:8080/"
        },
        "id": "-tWt-gYSzm66",
        "outputId": "3a6d13ab-00db-4e35-f4bb-8fa5eedfd09b"
      },
      "execution_count": 6,
      "outputs": [
        {
          "output_type": "execute_result",
          "data": {
            "text/plain": [
              "(-7.0, 3.0)"
            ]
          },
          "metadata": {},
          "execution_count": 6
        }
      ]
    },
    {
      "cell_type": "code",
      "source": [
        "input_shape = x[0].shape\n",
        "output_shape = y[0].shape\n",
        "\n",
        "input_shape, output_shape"
      ],
      "metadata": {
        "colab": {
          "base_uri": "https://localhost:8080/"
        },
        "id": "sGSz7U-vzY4m",
        "outputId": "48c89be5-b4f0-47be-bfee-ddd4a20a1b05"
      },
      "execution_count": 7,
      "outputs": [
        {
          "output_type": "execute_result",
          "data": {
            "text/plain": [
              "((), ())"
            ]
          },
          "metadata": {},
          "execution_count": 7
        }
      ]
    },
    {
      "cell_type": "code",
      "source": [
        "x[0].ndim"
      ],
      "metadata": {
        "colab": {
          "base_uri": "https://localhost:8080/"
        },
        "id": "VCL4zHK5z8RR",
        "outputId": "56ef7a61-e4e9-48f6-df8f-05515de486a0"
      },
      "execution_count": 8,
      "outputs": [
        {
          "output_type": "execute_result",
          "data": {
            "text/plain": [
              "0"
            ]
          },
          "metadata": {},
          "execution_count": 8
        }
      ]
    },
    {
      "cell_type": "code",
      "source": [
        "# Turn our Numpy arrays into tensors with dtype 32\n",
        "\n",
        "X = tf.constant(x, dtype=tf.float32)\n",
        "Y = tf.constant(y, dtype=tf.float32)\n",
        "\n",
        "X, Y"
      ],
      "metadata": {
        "colab": {
          "base_uri": "https://localhost:8080/"
        },
        "id": "QL2Ofdwmz-sQ",
        "outputId": "d055d758-1153-4003-df22-e1c3f690eae8"
      },
      "execution_count": 9,
      "outputs": [
        {
          "output_type": "execute_result",
          "data": {
            "text/plain": [
              "(<tf.Tensor: shape=(8,), dtype=float32, numpy=array([-7., -4., -1.,  2.,  5.,  8., 11., 14.], dtype=float32)>,\n",
              " <tf.Tensor: shape=(8,), dtype=float32, numpy=array([ 3.,  6.,  9., 12., 15., 18., 21., 24.], dtype=float32)>)"
            ]
          },
          "metadata": {},
          "execution_count": 9
        }
      ]
    },
    {
      "cell_type": "code",
      "source": [
        "input_shape = X[0].shape\n",
        "output_shape = y[0].shape\n",
        "\n",
        "input_shape, output_shape"
      ],
      "metadata": {
        "colab": {
          "base_uri": "https://localhost:8080/"
        },
        "id": "R6m8i44s1t3S",
        "outputId": "619c9538-7328-4539-b258-c56fe6a2e84a"
      },
      "execution_count": 10,
      "outputs": [
        {
          "output_type": "execute_result",
          "data": {
            "text/plain": [
              "(TensorShape([]), ())"
            ]
          },
          "metadata": {},
          "execution_count": 10
        }
      ]
    },
    {
      "cell_type": "markdown",
      "source": [
        "## Steps in modelling with TensorFlow\n",
        "\n",
        "1. **Creating a model** - define the input and output layers, as well as the hidden layers of a deep learning model.\n",
        "\n",
        "2. **Compiling a model** - define the loss function (in other words, the function wich tells our model how wrong it is) and the optimizer (tells our model how to improve the patterns its learning) and evaluation metrics (what we can use to interpret the preformance of our model)\n",
        "\n",
        "3. Fitting a model - letting the model try to find patters between X & y (features and labels)"
      ],
      "metadata": {
        "id": "T9heq-y318BJ"
      }
    },
    {
      "cell_type": "code",
      "source": [
        "# Opetionally, the first layer can receive an 'input_shape' argument :\n",
        "# model = tf.keras.Sequential()\n",
        "# model.add(tf.keras.layers.Dense(8, input_shape=(16,)))\n",
        "\n",
        "# Afterwards, we do automatic shape inference :\n",
        "# model.add(tf.keras.layers.Dense(4))\n",
        "\n",
        "# model = tf.keras.Sequential()\n",
        "# model.add(tf.keras.layers.Dense(1))\n",
        "# ..."
      ],
      "metadata": {
        "id": "nEAWuhvc6w4g"
      },
      "execution_count": 11,
      "outputs": []
    },
    {
      "cell_type": "code",
      "source": [
        "# Set random seed\n",
        "\n",
        "tf.random.set_seed(42)\n",
        "\n",
        "# 1. Create a model using the Sequential API\n",
        "model = tf.keras.Sequential([\n",
        "    tf.keras.layers.Dense(1)\n",
        "])\n",
        "\n",
        "# 2. Compile the model\n",
        "model.compile(loss = tf.keras.losses.mae, # mae is short for mean absolute error\n",
        "              optimizer = tf.keras.optimizers.SGD(), # sgd is short for stochasitc gradient decent\n",
        "              metrics = [\"mae\"])\n",
        "\n",
        "# 3. Fit the model\n",
        "# model.fit(X, Y, epochs=5) # BREAK IN UPDATED TENSOR VERSION\n",
        "model.fit(tf.expand_dims(X, axis=-1), Y, epochs=5)"
      ],
      "metadata": {
        "colab": {
          "base_uri": "https://localhost:8080/"
        },
        "id": "ubX_9SYR149W",
        "outputId": "b6b1c074-57df-4a0e-f20b-7e6c98f33a4c"
      },
      "execution_count": 12,
      "outputs": [
        {
          "output_type": "stream",
          "name": "stdout",
          "text": [
            "Epoch 1/5\n",
            "1/1 [==============================] - 1s 867ms/step - loss: 12.1269 - mae: 12.1269\n",
            "Epoch 2/5\n",
            "1/1 [==============================] - 0s 16ms/step - loss: 11.9944 - mae: 11.9944\n",
            "Epoch 3/5\n",
            "1/1 [==============================] - 0s 15ms/step - loss: 11.8619 - mae: 11.8619\n",
            "Epoch 4/5\n",
            "1/1 [==============================] - 0s 12ms/step - loss: 11.7294 - mae: 11.7294\n",
            "Epoch 5/5\n",
            "1/1 [==============================] - 0s 9ms/step - loss: 11.5969 - mae: 11.5969\n"
          ]
        },
        {
          "output_type": "execute_result",
          "data": {
            "text/plain": [
              "<keras.src.callbacks.History at 0x7faace733d00>"
            ]
          },
          "metadata": {},
          "execution_count": 12
        }
      ]
    },
    {
      "cell_type": "code",
      "source": [
        "# Check our X and Y\n",
        "x, y"
      ],
      "metadata": {
        "colab": {
          "base_uri": "https://localhost:8080/"
        },
        "id": "1B1DsBlo9jYC",
        "outputId": "b07ed5f2-df71-4921-ea76-5c231fc9e183"
      },
      "execution_count": 13,
      "outputs": [
        {
          "output_type": "execute_result",
          "data": {
            "text/plain": [
              "(array([-7., -4., -1.,  2.,  5.,  8., 11., 14.]),\n",
              " array([ 3.,  6.,  9., 12., 15., 18., 21., 24.]))"
            ]
          },
          "metadata": {},
          "execution_count": 13
        }
      ]
    },
    {
      "cell_type": "code",
      "source": [
        "# Try make prediction\n",
        "model.predict([17.0])"
      ],
      "metadata": {
        "colab": {
          "base_uri": "https://localhost:8080/"
        },
        "id": "L4S19GPP9pXG",
        "outputId": "b0b12f32-2189-4d08-af2f-9abb185e7e32"
      },
      "execution_count": 14,
      "outputs": [
        {
          "output_type": "stream",
          "name": "stdout",
          "text": [
            "1/1 [==============================] - 0s 205ms/step\n"
          ]
        },
        {
          "output_type": "execute_result",
          "data": {
            "text/plain": [
              "array([[9.694473]], dtype=float32)"
            ]
          },
          "metadata": {},
          "execution_count": 14
        }
      ]
    },
    {
      "cell_type": "markdown",
      "source": [
        "## Improving our model\n",
        "\n",
        "We can improve our model, by altering the steps we took to create a model.\n",
        "\n",
        "1. **Creating a model** - ere we might add more layers, increse the number of hidden units (all called neurons) within each of the hidden layers, change the activation function of each layer.\n",
        "\n",
        "2. **Compiling a model** - here we might chang ethe optimization function or perhaps the **learning rate** of the optimization function.\n",
        "\n",
        "3. **Fitting a model** - here we might fit a model for more **epochs** (leave it training for longer) or on more data (give the model more examples to learn form)"
      ],
      "metadata": {
        "id": "Nq6KqLEo-HP4"
      }
    },
    {
      "cell_type": "code",
      "source": [
        "# Let's rebuild our model\n",
        "\n",
        "# 1. Create the model\n",
        "model1 = tf.keras.Sequential([\n",
        "    tf.keras.layers.Dense(1)\n",
        "])\n",
        "\n",
        "# 2. Compile the model\n",
        "model1.compile(loss = tf.keras.losses.mae,\n",
        "              optimizer = tf.keras.optimizers.SGD(),\n",
        "              metrics = [\"mae\"])\n",
        "\n",
        "# 3. Fit the model\n",
        "# model.fit(X, Y, epochs=5) # BREAK IN UPDATED TENSOR VERSION\n",
        "model1.fit(tf.expand_dims(X, axis=-1), Y, epochs=100)"
      ],
      "metadata": {
        "colab": {
          "base_uri": "https://localhost:8080/"
        },
        "id": "GPGzIvb2DLc2",
        "outputId": "9de62fee-c488-4f6a-895d-411d227c18ba"
      },
      "execution_count": 15,
      "outputs": [
        {
          "output_type": "stream",
          "name": "stdout",
          "text": [
            "Epoch 1/100\n",
            "1/1 [==============================] - 1s 584ms/step - loss: 13.3259 - mae: 13.3259\n",
            "Epoch 2/100\n",
            "1/1 [==============================] - 0s 23ms/step - loss: 13.1934 - mae: 13.1934\n",
            "Epoch 3/100\n",
            "1/1 [==============================] - 0s 20ms/step - loss: 13.0609 - mae: 13.0609\n",
            "Epoch 4/100\n",
            "1/1 [==============================] - 0s 21ms/step - loss: 12.9284 - mae: 12.9284\n",
            "Epoch 5/100\n",
            "1/1 [==============================] - 0s 15ms/step - loss: 12.7959 - mae: 12.7959\n",
            "Epoch 6/100\n",
            "1/1 [==============================] - 0s 15ms/step - loss: 12.6634 - mae: 12.6634\n",
            "Epoch 7/100\n",
            "1/1 [==============================] - 0s 15ms/step - loss: 12.5309 - mae: 12.5309\n",
            "Epoch 8/100\n",
            "1/1 [==============================] - 0s 12ms/step - loss: 12.3984 - mae: 12.3984\n",
            "Epoch 9/100\n",
            "1/1 [==============================] - 0s 14ms/step - loss: 12.2659 - mae: 12.2659\n",
            "Epoch 10/100\n",
            "1/1 [==============================] - 0s 11ms/step - loss: 12.1334 - mae: 12.1334\n",
            "Epoch 11/100\n",
            "1/1 [==============================] - 0s 11ms/step - loss: 12.0009 - mae: 12.0009\n",
            "Epoch 12/100\n",
            "1/1 [==============================] - 0s 14ms/step - loss: 11.8684 - mae: 11.8684\n",
            "Epoch 13/100\n",
            "1/1 [==============================] - 0s 11ms/step - loss: 11.7359 - mae: 11.7359\n",
            "Epoch 14/100\n",
            "1/1 [==============================] - 0s 11ms/step - loss: 11.6034 - mae: 11.6034\n",
            "Epoch 15/100\n",
            "1/1 [==============================] - 0s 12ms/step - loss: 11.4709 - mae: 11.4709\n",
            "Epoch 16/100\n",
            "1/1 [==============================] - 0s 20ms/step - loss: 11.3384 - mae: 11.3384\n",
            "Epoch 17/100\n",
            "1/1 [==============================] - 0s 16ms/step - loss: 11.2059 - mae: 11.2059\n",
            "Epoch 18/100\n",
            "1/1 [==============================] - 0s 16ms/step - loss: 11.0734 - mae: 11.0734\n",
            "Epoch 19/100\n",
            "1/1 [==============================] - 0s 14ms/step - loss: 10.9409 - mae: 10.9409\n",
            "Epoch 20/100\n",
            "1/1 [==============================] - 0s 17ms/step - loss: 10.8084 - mae: 10.8084\n",
            "Epoch 21/100\n",
            "1/1 [==============================] - 0s 15ms/step - loss: 10.6759 - mae: 10.6759\n",
            "Epoch 22/100\n",
            "1/1 [==============================] - 0s 14ms/step - loss: 10.5434 - mae: 10.5434\n",
            "Epoch 23/100\n",
            "1/1 [==============================] - 0s 17ms/step - loss: 10.4109 - mae: 10.4109\n",
            "Epoch 24/100\n",
            "1/1 [==============================] - 0s 16ms/step - loss: 10.2784 - mae: 10.2784\n",
            "Epoch 25/100\n",
            "1/1 [==============================] - 0s 19ms/step - loss: 10.1459 - mae: 10.1459\n",
            "Epoch 26/100\n",
            "1/1 [==============================] - 0s 15ms/step - loss: 10.0134 - mae: 10.0134\n",
            "Epoch 27/100\n",
            "1/1 [==============================] - 0s 18ms/step - loss: 9.8809 - mae: 9.8809\n",
            "Epoch 28/100\n",
            "1/1 [==============================] - 0s 15ms/step - loss: 9.7484 - mae: 9.7484\n",
            "Epoch 29/100\n",
            "1/1 [==============================] - 0s 18ms/step - loss: 9.6159 - mae: 9.6159\n",
            "Epoch 30/100\n",
            "1/1 [==============================] - 0s 16ms/step - loss: 9.4834 - mae: 9.4834\n",
            "Epoch 31/100\n",
            "1/1 [==============================] - 0s 12ms/step - loss: 9.3509 - mae: 9.3509\n",
            "Epoch 32/100\n",
            "1/1 [==============================] - 0s 13ms/step - loss: 9.2184 - mae: 9.2184\n",
            "Epoch 33/100\n",
            "1/1 [==============================] - 0s 15ms/step - loss: 9.0859 - mae: 9.0859\n",
            "Epoch 34/100\n",
            "1/1 [==============================] - 0s 12ms/step - loss: 8.9534 - mae: 8.9534\n",
            "Epoch 35/100\n",
            "1/1 [==============================] - 0s 13ms/step - loss: 8.8209 - mae: 8.8209\n",
            "Epoch 36/100\n",
            "1/1 [==============================] - 0s 13ms/step - loss: 8.6884 - mae: 8.6884\n",
            "Epoch 37/100\n",
            "1/1 [==============================] - 0s 15ms/step - loss: 8.5559 - mae: 8.5559\n",
            "Epoch 38/100\n",
            "1/1 [==============================] - 0s 15ms/step - loss: 8.4234 - mae: 8.4234\n",
            "Epoch 39/100\n",
            "1/1 [==============================] - 0s 11ms/step - loss: 8.2909 - mae: 8.2909\n",
            "Epoch 40/100\n",
            "1/1 [==============================] - 0s 11ms/step - loss: 8.1584 - mae: 8.1584\n",
            "Epoch 41/100\n",
            "1/1 [==============================] - 0s 11ms/step - loss: 8.0259 - mae: 8.0259\n",
            "Epoch 42/100\n",
            "1/1 [==============================] - 0s 19ms/step - loss: 7.8934 - mae: 7.8934\n",
            "Epoch 43/100\n",
            "1/1 [==============================] - 0s 14ms/step - loss: 7.7609 - mae: 7.7609\n",
            "Epoch 44/100\n",
            "1/1 [==============================] - 0s 10ms/step - loss: 7.6284 - mae: 7.6284\n",
            "Epoch 45/100\n",
            "1/1 [==============================] - 0s 11ms/step - loss: 7.4959 - mae: 7.4959\n",
            "Epoch 46/100\n",
            "1/1 [==============================] - 0s 12ms/step - loss: 7.3634 - mae: 7.3634\n",
            "Epoch 47/100\n",
            "1/1 [==============================] - 0s 14ms/step - loss: 7.2309 - mae: 7.2309\n",
            "Epoch 48/100\n",
            "1/1 [==============================] - 0s 18ms/step - loss: 7.1475 - mae: 7.1475\n",
            "Epoch 49/100\n",
            "1/1 [==============================] - 0s 12ms/step - loss: 7.1419 - mae: 7.1419\n",
            "Epoch 50/100\n",
            "1/1 [==============================] - 0s 15ms/step - loss: 7.1363 - mae: 7.1363\n",
            "Epoch 51/100\n",
            "1/1 [==============================] - 0s 12ms/step - loss: 7.1306 - mae: 7.1306\n",
            "Epoch 52/100\n",
            "1/1 [==============================] - 0s 17ms/step - loss: 7.1250 - mae: 7.1250\n",
            "Epoch 53/100\n",
            "1/1 [==============================] - 0s 11ms/step - loss: 7.1194 - mae: 7.1194\n",
            "Epoch 54/100\n",
            "1/1 [==============================] - 0s 10ms/step - loss: 7.1138 - mae: 7.1138\n",
            "Epoch 55/100\n",
            "1/1 [==============================] - 0s 10ms/step - loss: 7.1081 - mae: 7.1081\n",
            "Epoch 56/100\n",
            "1/1 [==============================] - 0s 11ms/step - loss: 7.1025 - mae: 7.1025\n",
            "Epoch 57/100\n",
            "1/1 [==============================] - 0s 11ms/step - loss: 7.0969 - mae: 7.0969\n",
            "Epoch 58/100\n",
            "1/1 [==============================] - 0s 11ms/step - loss: 7.0913 - mae: 7.0913\n",
            "Epoch 59/100\n",
            "1/1 [==============================] - 0s 14ms/step - loss: 7.0856 - mae: 7.0856\n",
            "Epoch 60/100\n",
            "1/1 [==============================] - 0s 12ms/step - loss: 7.0800 - mae: 7.0800\n",
            "Epoch 61/100\n",
            "1/1 [==============================] - 0s 12ms/step - loss: 7.0744 - mae: 7.0744\n",
            "Epoch 62/100\n",
            "1/1 [==============================] - 0s 11ms/step - loss: 7.0688 - mae: 7.0688\n",
            "Epoch 63/100\n",
            "1/1 [==============================] - 0s 14ms/step - loss: 7.0631 - mae: 7.0631\n",
            "Epoch 64/100\n",
            "1/1 [==============================] - 0s 12ms/step - loss: 7.0575 - mae: 7.0575\n",
            "Epoch 65/100\n",
            "1/1 [==============================] - 0s 13ms/step - loss: 7.0519 - mae: 7.0519\n",
            "Epoch 66/100\n",
            "1/1 [==============================] - 0s 15ms/step - loss: 7.0463 - mae: 7.0463\n",
            "Epoch 67/100\n",
            "1/1 [==============================] - 0s 16ms/step - loss: 7.0406 - mae: 7.0406\n",
            "Epoch 68/100\n",
            "1/1 [==============================] - 0s 14ms/step - loss: 7.0350 - mae: 7.0350\n",
            "Epoch 69/100\n",
            "1/1 [==============================] - 0s 14ms/step - loss: 7.0294 - mae: 7.0294\n",
            "Epoch 70/100\n",
            "1/1 [==============================] - 0s 17ms/step - loss: 7.0238 - mae: 7.0238\n",
            "Epoch 71/100\n",
            "1/1 [==============================] - 0s 14ms/step - loss: 7.0181 - mae: 7.0181\n",
            "Epoch 72/100\n",
            "1/1 [==============================] - 0s 14ms/step - loss: 7.0125 - mae: 7.0125\n",
            "Epoch 73/100\n",
            "1/1 [==============================] - 0s 18ms/step - loss: 7.0069 - mae: 7.0069\n",
            "Epoch 74/100\n",
            "1/1 [==============================] - 0s 15ms/step - loss: 7.0013 - mae: 7.0013\n",
            "Epoch 75/100\n",
            "1/1 [==============================] - 0s 12ms/step - loss: 6.9956 - mae: 6.9956\n",
            "Epoch 76/100\n",
            "1/1 [==============================] - 0s 12ms/step - loss: 6.9900 - mae: 6.9900\n",
            "Epoch 77/100\n",
            "1/1 [==============================] - 0s 12ms/step - loss: 6.9844 - mae: 6.9844\n",
            "Epoch 78/100\n",
            "1/1 [==============================] - 0s 11ms/step - loss: 6.9788 - mae: 6.9788\n",
            "Epoch 79/100\n",
            "1/1 [==============================] - 0s 20ms/step - loss: 6.9731 - mae: 6.9731\n",
            "Epoch 80/100\n",
            "1/1 [==============================] - 0s 15ms/step - loss: 6.9675 - mae: 6.9675\n",
            "Epoch 81/100\n",
            "1/1 [==============================] - 0s 13ms/step - loss: 6.9619 - mae: 6.9619\n",
            "Epoch 82/100\n",
            "1/1 [==============================] - 0s 12ms/step - loss: 6.9563 - mae: 6.9563\n",
            "Epoch 83/100\n",
            "1/1 [==============================] - 0s 14ms/step - loss: 6.9506 - mae: 6.9506\n",
            "Epoch 84/100\n",
            "1/1 [==============================] - 0s 13ms/step - loss: 6.9450 - mae: 6.9450\n",
            "Epoch 85/100\n",
            "1/1 [==============================] - 0s 14ms/step - loss: 6.9394 - mae: 6.9394\n",
            "Epoch 86/100\n",
            "1/1 [==============================] - 0s 16ms/step - loss: 6.9338 - mae: 6.9338\n",
            "Epoch 87/100\n",
            "1/1 [==============================] - 0s 17ms/step - loss: 6.9281 - mae: 6.9281\n",
            "Epoch 88/100\n",
            "1/1 [==============================] - 0s 13ms/step - loss: 6.9225 - mae: 6.9225\n",
            "Epoch 89/100\n",
            "1/1 [==============================] - 0s 15ms/step - loss: 6.9169 - mae: 6.9169\n",
            "Epoch 90/100\n",
            "1/1 [==============================] - 0s 12ms/step - loss: 6.9113 - mae: 6.9113\n",
            "Epoch 91/100\n",
            "1/1 [==============================] - 0s 17ms/step - loss: 6.9056 - mae: 6.9056\n",
            "Epoch 92/100\n",
            "1/1 [==============================] - 0s 16ms/step - loss: 6.9000 - mae: 6.9000\n",
            "Epoch 93/100\n",
            "1/1 [==============================] - 0s 10ms/step - loss: 6.8944 - mae: 6.8944\n",
            "Epoch 94/100\n",
            "1/1 [==============================] - 0s 15ms/step - loss: 6.8888 - mae: 6.8888\n",
            "Epoch 95/100\n",
            "1/1 [==============================] - 0s 27ms/step - loss: 6.8831 - mae: 6.8831\n",
            "Epoch 96/100\n",
            "1/1 [==============================] - 0s 40ms/step - loss: 6.8775 - mae: 6.8775\n",
            "Epoch 97/100\n",
            "1/1 [==============================] - 0s 35ms/step - loss: 6.8719 - mae: 6.8719\n",
            "Epoch 98/100\n",
            "1/1 [==============================] - 0s 48ms/step - loss: 6.8663 - mae: 6.8663\n",
            "Epoch 99/100\n",
            "1/1 [==============================] - 0s 44ms/step - loss: 6.8606 - mae: 6.8606\n",
            "Epoch 100/100\n",
            "1/1 [==============================] - 0s 33ms/step - loss: 6.8550 - mae: 6.8550\n"
          ]
        },
        {
          "output_type": "execute_result",
          "data": {
            "text/plain": [
              "<keras.src.callbacks.History at 0x7faacdc3ce80>"
            ]
          },
          "metadata": {},
          "execution_count": 15
        }
      ]
    },
    {
      "cell_type": "code",
      "source": [
        "# Try make prediction\n",
        "model1.predict([17.0])"
      ],
      "metadata": {
        "colab": {
          "base_uri": "https://localhost:8080/"
        },
        "id": "4kMA7oidBuHG",
        "outputId": "7a0a4b02-585c-4e4e-cbb7-1743be379ad7"
      },
      "execution_count": 16,
      "outputs": [
        {
          "output_type": "stream",
          "name": "stdout",
          "text": [
            "1/1 [==============================] - 0s 370ms/step\n"
          ]
        },
        {
          "output_type": "execute_result",
          "data": {
            "text/plain": [
              "array([[29.678156]], dtype=float32)"
            ]
          },
          "metadata": {},
          "execution_count": 16
        }
      ]
    },
    {
      "cell_type": "code",
      "source": [
        "# re-write the model by my self and improve one thing to get better\n",
        "\n",
        "# 1. Create the model\n",
        "model2 = tf.keras.Sequential([\n",
        "    tf.keras.layers.Dense(1)\n",
        "])\n",
        "\n",
        "# 2. Compile the model\n",
        "model2.compile(loss = tf.keras.losses.mae,\n",
        "              optimizer = tf.keras.optimizers.Adam(learning_rate=0.001), # chang the optimizers from SGD to adam\n",
        "              metrics = [\"mae\"])\n",
        "\n",
        "# 3. Fit the model\n",
        "# model.fit(X, Y, epochs=5) # BREAK IN UPDATED TENSOR VERSION\n",
        "model2.fit(tf.expand_dims(X, axis=-1), Y, epochs=100)"
      ],
      "metadata": {
        "colab": {
          "base_uri": "https://localhost:8080/"
        },
        "id": "gdwbhbhmJVPx",
        "outputId": "a546dc96-ffbe-4d87-e97e-a0d5b4ed3ad6"
      },
      "execution_count": 17,
      "outputs": [
        {
          "output_type": "stream",
          "name": "stdout",
          "text": [
            "Epoch 1/100\n",
            "1/1 [==============================] - 2s 2s/step - loss: 17.9903 - mae: 17.9903\n",
            "Epoch 2/100\n",
            "1/1 [==============================] - 0s 22ms/step - loss: 17.9843 - mae: 17.9843\n",
            "Epoch 3/100\n",
            "1/1 [==============================] - 0s 20ms/step - loss: 17.9783 - mae: 17.9783\n",
            "Epoch 4/100\n",
            "1/1 [==============================] - 0s 21ms/step - loss: 17.9723 - mae: 17.9723\n",
            "Epoch 5/100\n",
            "1/1 [==============================] - 0s 33ms/step - loss: 17.9663 - mae: 17.9663\n",
            "Epoch 6/100\n",
            "1/1 [==============================] - 0s 18ms/step - loss: 17.9603 - mae: 17.9603\n",
            "Epoch 7/100\n",
            "1/1 [==============================] - 0s 31ms/step - loss: 17.9543 - mae: 17.9543\n",
            "Epoch 8/100\n",
            "1/1 [==============================] - 0s 50ms/step - loss: 17.9483 - mae: 17.9483\n",
            "Epoch 9/100\n",
            "1/1 [==============================] - 0s 17ms/step - loss: 17.9423 - mae: 17.9423\n",
            "Epoch 10/100\n",
            "1/1 [==============================] - 0s 25ms/step - loss: 17.9363 - mae: 17.9363\n",
            "Epoch 11/100\n",
            "1/1 [==============================] - 0s 52ms/step - loss: 17.9303 - mae: 17.9303\n",
            "Epoch 12/100\n",
            "1/1 [==============================] - 0s 59ms/step - loss: 17.9243 - mae: 17.9243\n",
            "Epoch 13/100\n",
            "1/1 [==============================] - 0s 17ms/step - loss: 17.9183 - mae: 17.9183\n",
            "Epoch 14/100\n",
            "1/1 [==============================] - 0s 21ms/step - loss: 17.9123 - mae: 17.9123\n",
            "Epoch 15/100\n",
            "1/1 [==============================] - 0s 24ms/step - loss: 17.9063 - mae: 17.9063\n",
            "Epoch 16/100\n",
            "1/1 [==============================] - 0s 24ms/step - loss: 17.9003 - mae: 17.9003\n",
            "Epoch 17/100\n",
            "1/1 [==============================] - 0s 27ms/step - loss: 17.8943 - mae: 17.8943\n",
            "Epoch 18/100\n",
            "1/1 [==============================] - 0s 15ms/step - loss: 17.8883 - mae: 17.8883\n",
            "Epoch 19/100\n",
            "1/1 [==============================] - 0s 19ms/step - loss: 17.8823 - mae: 17.8823\n",
            "Epoch 20/100\n",
            "1/1 [==============================] - 0s 21ms/step - loss: 17.8763 - mae: 17.8763\n",
            "Epoch 21/100\n",
            "1/1 [==============================] - 0s 19ms/step - loss: 17.8703 - mae: 17.8703\n",
            "Epoch 22/100\n",
            "1/1 [==============================] - 0s 20ms/step - loss: 17.8643 - mae: 17.8643\n",
            "Epoch 23/100\n",
            "1/1 [==============================] - 0s 49ms/step - loss: 17.8583 - mae: 17.8583\n",
            "Epoch 24/100\n",
            "1/1 [==============================] - 0s 35ms/step - loss: 17.8523 - mae: 17.8523\n",
            "Epoch 25/100\n",
            "1/1 [==============================] - 0s 40ms/step - loss: 17.8463 - mae: 17.8463\n",
            "Epoch 26/100\n",
            "1/1 [==============================] - 0s 22ms/step - loss: 17.8403 - mae: 17.8403\n",
            "Epoch 27/100\n",
            "1/1 [==============================] - 0s 20ms/step - loss: 17.8343 - mae: 17.8343\n",
            "Epoch 28/100\n",
            "1/1 [==============================] - 0s 25ms/step - loss: 17.8283 - mae: 17.8283\n",
            "Epoch 29/100\n",
            "1/1 [==============================] - 0s 21ms/step - loss: 17.8223 - mae: 17.8223\n",
            "Epoch 30/100\n",
            "1/1 [==============================] - 0s 22ms/step - loss: 17.8163 - mae: 17.8163\n",
            "Epoch 31/100\n",
            "1/1 [==============================] - 0s 25ms/step - loss: 17.8103 - mae: 17.8103\n",
            "Epoch 32/100\n",
            "1/1 [==============================] - 0s 24ms/step - loss: 17.8043 - mae: 17.8043\n",
            "Epoch 33/100\n",
            "1/1 [==============================] - 0s 51ms/step - loss: 17.7983 - mae: 17.7983\n",
            "Epoch 34/100\n",
            "1/1 [==============================] - 0s 26ms/step - loss: 17.7923 - mae: 17.7923\n",
            "Epoch 35/100\n",
            "1/1 [==============================] - 0s 24ms/step - loss: 17.7863 - mae: 17.7863\n",
            "Epoch 36/100\n",
            "1/1 [==============================] - 0s 18ms/step - loss: 17.7803 - mae: 17.7803\n",
            "Epoch 37/100\n",
            "1/1 [==============================] - 0s 15ms/step - loss: 17.7743 - mae: 17.7743\n",
            "Epoch 38/100\n",
            "1/1 [==============================] - 0s 21ms/step - loss: 17.7683 - mae: 17.7683\n",
            "Epoch 39/100\n",
            "1/1 [==============================] - 0s 21ms/step - loss: 17.7623 - mae: 17.7623\n",
            "Epoch 40/100\n",
            "1/1 [==============================] - 0s 24ms/step - loss: 17.7563 - mae: 17.7563\n",
            "Epoch 41/100\n",
            "1/1 [==============================] - 0s 20ms/step - loss: 17.7503 - mae: 17.7503\n",
            "Epoch 42/100\n",
            "1/1 [==============================] - 0s 28ms/step - loss: 17.7443 - mae: 17.7443\n",
            "Epoch 43/100\n",
            "1/1 [==============================] - 0s 23ms/step - loss: 17.7383 - mae: 17.7383\n",
            "Epoch 44/100\n",
            "1/1 [==============================] - 0s 28ms/step - loss: 17.7323 - mae: 17.7323\n",
            "Epoch 45/100\n",
            "1/1 [==============================] - 0s 21ms/step - loss: 17.7263 - mae: 17.7263\n",
            "Epoch 46/100\n",
            "1/1 [==============================] - 0s 21ms/step - loss: 17.7203 - mae: 17.7203\n",
            "Epoch 47/100\n",
            "1/1 [==============================] - 0s 17ms/step - loss: 17.7143 - mae: 17.7143\n",
            "Epoch 48/100\n",
            "1/1 [==============================] - 0s 26ms/step - loss: 17.7083 - mae: 17.7083\n",
            "Epoch 49/100\n",
            "1/1 [==============================] - 0s 16ms/step - loss: 17.7023 - mae: 17.7023\n",
            "Epoch 50/100\n",
            "1/1 [==============================] - 0s 19ms/step - loss: 17.6963 - mae: 17.6963\n",
            "Epoch 51/100\n",
            "1/1 [==============================] - 0s 24ms/step - loss: 17.6903 - mae: 17.6903\n",
            "Epoch 52/100\n",
            "1/1 [==============================] - 0s 33ms/step - loss: 17.6843 - mae: 17.6843\n",
            "Epoch 53/100\n",
            "1/1 [==============================] - 0s 19ms/step - loss: 17.6783 - mae: 17.6783\n",
            "Epoch 54/100\n",
            "1/1 [==============================] - 0s 33ms/step - loss: 17.6723 - mae: 17.6723\n",
            "Epoch 55/100\n",
            "1/1 [==============================] - 0s 15ms/step - loss: 17.6663 - mae: 17.6663\n",
            "Epoch 56/100\n",
            "1/1 [==============================] - 0s 13ms/step - loss: 17.6603 - mae: 17.6603\n",
            "Epoch 57/100\n",
            "1/1 [==============================] - 0s 12ms/step - loss: 17.6543 - mae: 17.6543\n",
            "Epoch 58/100\n",
            "1/1 [==============================] - 0s 13ms/step - loss: 17.6483 - mae: 17.6483\n",
            "Epoch 59/100\n",
            "1/1 [==============================] - 0s 13ms/step - loss: 17.6423 - mae: 17.6423\n",
            "Epoch 60/100\n",
            "1/1 [==============================] - 0s 15ms/step - loss: 17.6363 - mae: 17.6363\n",
            "Epoch 61/100\n",
            "1/1 [==============================] - 0s 13ms/step - loss: 17.6303 - mae: 17.6303\n",
            "Epoch 62/100\n",
            "1/1 [==============================] - 0s 13ms/step - loss: 17.6243 - mae: 17.6243\n",
            "Epoch 63/100\n",
            "1/1 [==============================] - 0s 17ms/step - loss: 17.6183 - mae: 17.6183\n",
            "Epoch 64/100\n",
            "1/1 [==============================] - 0s 13ms/step - loss: 17.6123 - mae: 17.6123\n",
            "Epoch 65/100\n",
            "1/1 [==============================] - 0s 15ms/step - loss: 17.6063 - mae: 17.6063\n",
            "Epoch 66/100\n",
            "1/1 [==============================] - 0s 14ms/step - loss: 17.6003 - mae: 17.6003\n",
            "Epoch 67/100\n",
            "1/1 [==============================] - 0s 19ms/step - loss: 17.5943 - mae: 17.5943\n",
            "Epoch 68/100\n",
            "1/1 [==============================] - 0s 23ms/step - loss: 17.5883 - mae: 17.5883\n",
            "Epoch 69/100\n",
            "1/1 [==============================] - 0s 17ms/step - loss: 17.5823 - mae: 17.5823\n",
            "Epoch 70/100\n",
            "1/1 [==============================] - 0s 13ms/step - loss: 17.5763 - mae: 17.5763\n",
            "Epoch 71/100\n",
            "1/1 [==============================] - 0s 13ms/step - loss: 17.5703 - mae: 17.5703\n",
            "Epoch 72/100\n",
            "1/1 [==============================] - 0s 14ms/step - loss: 17.5643 - mae: 17.5643\n",
            "Epoch 73/100\n",
            "1/1 [==============================] - 0s 14ms/step - loss: 17.5583 - mae: 17.5583\n",
            "Epoch 74/100\n",
            "1/1 [==============================] - 0s 15ms/step - loss: 17.5523 - mae: 17.5523\n",
            "Epoch 75/100\n",
            "1/1 [==============================] - 0s 19ms/step - loss: 17.5463 - mae: 17.5463\n",
            "Epoch 76/100\n",
            "1/1 [==============================] - 0s 14ms/step - loss: 17.5403 - mae: 17.5403\n",
            "Epoch 77/100\n",
            "1/1 [==============================] - 0s 18ms/step - loss: 17.5343 - mae: 17.5343\n",
            "Epoch 78/100\n",
            "1/1 [==============================] - 0s 30ms/step - loss: 17.5283 - mae: 17.5283\n",
            "Epoch 79/100\n",
            "1/1 [==============================] - 0s 43ms/step - loss: 17.5223 - mae: 17.5223\n",
            "Epoch 80/100\n",
            "1/1 [==============================] - 0s 75ms/step - loss: 17.5163 - mae: 17.5163\n",
            "Epoch 81/100\n",
            "1/1 [==============================] - 0s 37ms/step - loss: 17.5103 - mae: 17.5103\n",
            "Epoch 82/100\n",
            "1/1 [==============================] - 0s 28ms/step - loss: 17.5043 - mae: 17.5043\n",
            "Epoch 83/100\n",
            "1/1 [==============================] - 0s 25ms/step - loss: 17.4983 - mae: 17.4983\n",
            "Epoch 84/100\n",
            "1/1 [==============================] - 0s 18ms/step - loss: 17.4923 - mae: 17.4923\n",
            "Epoch 85/100\n",
            "1/1 [==============================] - 0s 19ms/step - loss: 17.4863 - mae: 17.4863\n",
            "Epoch 86/100\n",
            "1/1 [==============================] - 0s 23ms/step - loss: 17.4803 - mae: 17.4803\n",
            "Epoch 87/100\n",
            "1/1 [==============================] - 0s 24ms/step - loss: 17.4743 - mae: 17.4743\n",
            "Epoch 88/100\n",
            "1/1 [==============================] - 0s 22ms/step - loss: 17.4683 - mae: 17.4683\n",
            "Epoch 89/100\n",
            "1/1 [==============================] - 0s 28ms/step - loss: 17.4623 - mae: 17.4623\n",
            "Epoch 90/100\n",
            "1/1 [==============================] - 0s 22ms/step - loss: 17.4563 - mae: 17.4563\n",
            "Epoch 91/100\n",
            "1/1 [==============================] - 0s 22ms/step - loss: 17.4503 - mae: 17.4503\n",
            "Epoch 92/100\n",
            "1/1 [==============================] - 0s 22ms/step - loss: 17.4443 - mae: 17.4443\n",
            "Epoch 93/100\n",
            "1/1 [==============================] - 0s 26ms/step - loss: 17.4383 - mae: 17.4383\n",
            "Epoch 94/100\n",
            "1/1 [==============================] - 0s 36ms/step - loss: 17.4323 - mae: 17.4323\n",
            "Epoch 95/100\n",
            "1/1 [==============================] - 0s 34ms/step - loss: 17.4263 - mae: 17.4263\n",
            "Epoch 96/100\n",
            "1/1 [==============================] - 0s 58ms/step - loss: 17.4203 - mae: 17.4203\n",
            "Epoch 97/100\n",
            "1/1 [==============================] - 0s 33ms/step - loss: 17.4143 - mae: 17.4143\n",
            "Epoch 98/100\n",
            "1/1 [==============================] - 0s 35ms/step - loss: 17.4083 - mae: 17.4083\n",
            "Epoch 99/100\n",
            "1/1 [==============================] - 0s 32ms/step - loss: 17.4023 - mae: 17.4023\n",
            "Epoch 100/100\n",
            "1/1 [==============================] - 0s 40ms/step - loss: 17.3963 - mae: 17.3963\n"
          ]
        },
        {
          "output_type": "execute_result",
          "data": {
            "text/plain": [
              "<keras.src.callbacks.History at 0x7faacd2e76a0>"
            ]
          },
          "metadata": {},
          "execution_count": 17
        }
      ]
    },
    {
      "cell_type": "code",
      "source": [
        "# Try make prediction\n",
        "model2.predict([17.0])"
      ],
      "metadata": {
        "colab": {
          "base_uri": "https://localhost:8080/"
        },
        "id": "QeWEo95_J5Gg",
        "outputId": "063cb52a-d0ab-4c14-b68a-a86e1d239d1e"
      },
      "execution_count": 18,
      "outputs": [
        {
          "output_type": "stream",
          "name": "stdout",
          "text": [
            "1/1 [==============================] - 0s 334ms/step\n"
          ]
        },
        {
          "output_type": "execute_result",
          "data": {
            "text/plain": [
              "array([[-15.168708]], dtype=float32)"
            ]
          },
          "metadata": {},
          "execution_count": 18
        }
      ]
    },
    {
      "cell_type": "code",
      "source": [
        "# re-write the model\n",
        "\n",
        "# 1. Create the model (with 100 hidden units )\n",
        "model3 = tf.keras.Sequential([\n",
        "    tf.keras.layers.Dense(50, activation=None),\n",
        "    tf.keras.layers.Dense(1)\n",
        "])\n",
        "\n",
        "# 2. Compile the model\n",
        "model3.compile(loss = \"mae\",\n",
        "              optimizer = tf.keras.optimizers.Adam(learning_rate = 0.01),\n",
        "              metrics = [\"mae\"])\n",
        "\n",
        "# 3. Fit the model\n",
        "# model.fit(X, Y, epochs=5) # BREAK IN UPDATED TENSOR VERSION\n",
        "model3.fit(tf.expand_dims(X, axis=-1), Y, epochs=100)"
      ],
      "metadata": {
        "colab": {
          "base_uri": "https://localhost:8080/"
        },
        "id": "KI1XF166hgOa",
        "outputId": "77cacd1f-e114-45a6-f5df-66335d02bc1c"
      },
      "execution_count": 19,
      "outputs": [
        {
          "output_type": "stream",
          "name": "stdout",
          "text": [
            "Epoch 1/100\n",
            "1/1 [==============================] - 2s 2s/step - loss: 15.8942 - mae: 15.8942\n",
            "Epoch 2/100\n",
            "1/1 [==============================] - 0s 48ms/step - loss: 14.9160 - mae: 14.9160\n",
            "Epoch 3/100\n",
            "1/1 [==============================] - 0s 25ms/step - loss: 14.2106 - mae: 14.2106\n",
            "Epoch 4/100\n",
            "1/1 [==============================] - 0s 26ms/step - loss: 13.5541 - mae: 13.5541\n",
            "Epoch 5/100\n",
            "1/1 [==============================] - 0s 23ms/step - loss: 12.9122 - mae: 12.9122\n",
            "Epoch 6/100\n",
            "1/1 [==============================] - 0s 24ms/step - loss: 12.2780 - mae: 12.2780\n",
            "Epoch 7/100\n",
            "1/1 [==============================] - 0s 21ms/step - loss: 11.6471 - mae: 11.6471\n",
            "Epoch 8/100\n",
            "1/1 [==============================] - 0s 15ms/step - loss: 11.0154 - mae: 11.0154\n",
            "Epoch 9/100\n",
            "1/1 [==============================] - 0s 17ms/step - loss: 10.3795 - mae: 10.3795\n",
            "Epoch 10/100\n",
            "1/1 [==============================] - 0s 25ms/step - loss: 9.7361 - mae: 9.7361\n",
            "Epoch 11/100\n",
            "1/1 [==============================] - 0s 21ms/step - loss: 9.0824 - mae: 9.0824\n",
            "Epoch 12/100\n",
            "1/1 [==============================] - 0s 31ms/step - loss: 8.4153 - mae: 8.4153\n",
            "Epoch 13/100\n",
            "1/1 [==============================] - 0s 23ms/step - loss: 7.7322 - mae: 7.7322\n",
            "Epoch 14/100\n",
            "1/1 [==============================] - 0s 23ms/step - loss: 7.0302 - mae: 7.0302\n",
            "Epoch 15/100\n",
            "1/1 [==============================] - 0s 28ms/step - loss: 6.4638 - mae: 6.4638\n",
            "Epoch 16/100\n",
            "1/1 [==============================] - 0s 35ms/step - loss: 6.5057 - mae: 6.5057\n",
            "Epoch 17/100\n",
            "1/1 [==============================] - 0s 102ms/step - loss: 6.7855 - mae: 6.7855\n",
            "Epoch 18/100\n",
            "1/1 [==============================] - 0s 41ms/step - loss: 6.9740 - mae: 6.9740\n",
            "Epoch 19/100\n",
            "1/1 [==============================] - 0s 39ms/step - loss: 7.2240 - mae: 7.2240\n",
            "Epoch 20/100\n",
            "1/1 [==============================] - 0s 21ms/step - loss: 7.2702 - mae: 7.2702\n",
            "Epoch 21/100\n",
            "1/1 [==============================] - 0s 28ms/step - loss: 7.1566 - mae: 7.1566\n",
            "Epoch 22/100\n",
            "1/1 [==============================] - 0s 35ms/step - loss: 6.9180 - mae: 6.9180\n",
            "Epoch 23/100\n",
            "1/1 [==============================] - 0s 26ms/step - loss: 6.6033 - mae: 6.6033\n",
            "Epoch 24/100\n",
            "1/1 [==============================] - 0s 13ms/step - loss: 6.3706 - mae: 6.3706\n",
            "Epoch 25/100\n",
            "1/1 [==============================] - 0s 26ms/step - loss: 6.1240 - mae: 6.1240\n",
            "Epoch 26/100\n",
            "1/1 [==============================] - 0s 26ms/step - loss: 5.8669 - mae: 5.8669\n",
            "Epoch 27/100\n",
            "1/1 [==============================] - 0s 30ms/step - loss: 5.7401 - mae: 5.7401\n",
            "Epoch 28/100\n",
            "1/1 [==============================] - 0s 27ms/step - loss: 5.6981 - mae: 5.6981\n",
            "Epoch 29/100\n",
            "1/1 [==============================] - 0s 35ms/step - loss: 5.7760 - mae: 5.7760\n",
            "Epoch 30/100\n",
            "1/1 [==============================] - 0s 23ms/step - loss: 5.8360 - mae: 5.8360\n",
            "Epoch 31/100\n",
            "1/1 [==============================] - 0s 20ms/step - loss: 5.8005 - mae: 5.8005\n",
            "Epoch 32/100\n",
            "1/1 [==============================] - 0s 19ms/step - loss: 5.6807 - mae: 5.6807\n",
            "Epoch 33/100\n",
            "1/1 [==============================] - 0s 23ms/step - loss: 5.4844 - mae: 5.4844\n",
            "Epoch 34/100\n",
            "1/1 [==============================] - 0s 28ms/step - loss: 5.2238 - mae: 5.2238\n",
            "Epoch 35/100\n",
            "1/1 [==============================] - 0s 34ms/step - loss: 5.1118 - mae: 5.1118\n",
            "Epoch 36/100\n",
            "1/1 [==============================] - 0s 35ms/step - loss: 4.9961 - mae: 4.9961\n",
            "Epoch 37/100\n",
            "1/1 [==============================] - 0s 47ms/step - loss: 4.8951 - mae: 4.8951\n",
            "Epoch 38/100\n",
            "1/1 [==============================] - 0s 29ms/step - loss: 4.8626 - mae: 4.8626\n",
            "Epoch 39/100\n",
            "1/1 [==============================] - 0s 30ms/step - loss: 4.7923 - mae: 4.7923\n",
            "Epoch 40/100\n",
            "1/1 [==============================] - 0s 27ms/step - loss: 4.6868 - mae: 4.6868\n",
            "Epoch 41/100\n",
            "1/1 [==============================] - 0s 24ms/step - loss: 4.5488 - mae: 4.5488\n",
            "Epoch 42/100\n",
            "1/1 [==============================] - 0s 42ms/step - loss: 4.3808 - mae: 4.3808\n",
            "Epoch 43/100\n",
            "1/1 [==============================] - 0s 25ms/step - loss: 4.2452 - mae: 4.2452\n",
            "Epoch 44/100\n",
            "1/1 [==============================] - 0s 27ms/step - loss: 4.1396 - mae: 4.1396\n",
            "Epoch 45/100\n",
            "1/1 [==============================] - 0s 33ms/step - loss: 4.0253 - mae: 4.0253\n",
            "Epoch 46/100\n",
            "1/1 [==============================] - 0s 27ms/step - loss: 3.9025 - mae: 3.9025\n",
            "Epoch 47/100\n",
            "1/1 [==============================] - 0s 30ms/step - loss: 3.7921 - mae: 3.7921\n",
            "Epoch 48/100\n",
            "1/1 [==============================] - 0s 29ms/step - loss: 3.6196 - mae: 3.6196\n",
            "Epoch 49/100\n",
            "1/1 [==============================] - 0s 50ms/step - loss: 3.4601 - mae: 3.4601\n",
            "Epoch 50/100\n",
            "1/1 [==============================] - 0s 32ms/step - loss: 3.2923 - mae: 3.2923\n",
            "Epoch 51/100\n",
            "1/1 [==============================] - 0s 37ms/step - loss: 3.1159 - mae: 3.1159\n",
            "Epoch 52/100\n",
            "1/1 [==============================] - 0s 31ms/step - loss: 2.9306 - mae: 2.9306\n",
            "Epoch 53/100\n",
            "1/1 [==============================] - 0s 38ms/step - loss: 2.8115 - mae: 2.8115\n",
            "Epoch 54/100\n",
            "1/1 [==============================] - 0s 43ms/step - loss: 2.6416 - mae: 2.6416\n",
            "Epoch 55/100\n",
            "1/1 [==============================] - 0s 32ms/step - loss: 2.4209 - mae: 2.4209\n",
            "Epoch 56/100\n",
            "1/1 [==============================] - 0s 29ms/step - loss: 2.1686 - mae: 2.1686\n",
            "Epoch 57/100\n",
            "1/1 [==============================] - 0s 27ms/step - loss: 1.9683 - mae: 1.9683\n",
            "Epoch 58/100\n",
            "1/1 [==============================] - 0s 28ms/step - loss: 1.7611 - mae: 1.7611\n",
            "Epoch 59/100\n",
            "1/1 [==============================] - 0s 28ms/step - loss: 1.5166 - mae: 1.5166\n",
            "Epoch 60/100\n",
            "1/1 [==============================] - 0s 38ms/step - loss: 1.2661 - mae: 1.2661\n",
            "Epoch 61/100\n",
            "1/1 [==============================] - 0s 35ms/step - loss: 1.0725 - mae: 1.0725\n",
            "Epoch 62/100\n",
            "1/1 [==============================] - 0s 42ms/step - loss: 0.8147 - mae: 0.8147\n",
            "Epoch 63/100\n",
            "1/1 [==============================] - 0s 39ms/step - loss: 0.4899 - mae: 0.4899\n",
            "Epoch 64/100\n",
            "1/1 [==============================] - 0s 25ms/step - loss: 0.3526 - mae: 0.3526\n",
            "Epoch 65/100\n",
            "1/1 [==============================] - 0s 29ms/step - loss: 0.3056 - mae: 0.3056\n",
            "Epoch 66/100\n",
            "1/1 [==============================] - 0s 29ms/step - loss: 0.4248 - mae: 0.4248\n",
            "Epoch 67/100\n",
            "1/1 [==============================] - 0s 34ms/step - loss: 0.6749 - mae: 0.6749\n",
            "Epoch 68/100\n",
            "1/1 [==============================] - 0s 23ms/step - loss: 0.6921 - mae: 0.6921\n",
            "Epoch 69/100\n",
            "1/1 [==============================] - 0s 35ms/step - loss: 0.8603 - mae: 0.8603\n",
            "Epoch 70/100\n",
            "1/1 [==============================] - 0s 32ms/step - loss: 0.9508 - mae: 0.9508\n",
            "Epoch 71/100\n",
            "1/1 [==============================] - 0s 30ms/step - loss: 0.8359 - mae: 0.8359\n",
            "Epoch 72/100\n",
            "1/1 [==============================] - 0s 28ms/step - loss: 0.7815 - mae: 0.7815\n",
            "Epoch 73/100\n",
            "1/1 [==============================] - 0s 28ms/step - loss: 0.7373 - mae: 0.7373\n",
            "Epoch 74/100\n",
            "1/1 [==============================] - 0s 24ms/step - loss: 0.5884 - mae: 0.5884\n",
            "Epoch 75/100\n",
            "1/1 [==============================] - 0s 24ms/step - loss: 0.4909 - mae: 0.4909\n",
            "Epoch 76/100\n",
            "1/1 [==============================] - 0s 26ms/step - loss: 0.3251 - mae: 0.3251\n",
            "Epoch 77/100\n",
            "1/1 [==============================] - 0s 37ms/step - loss: 0.2458 - mae: 0.2458\n",
            "Epoch 78/100\n",
            "1/1 [==============================] - 0s 43ms/step - loss: 0.0988 - mae: 0.0988\n",
            "Epoch 79/100\n",
            "1/1 [==============================] - 0s 28ms/step - loss: 0.3357 - mae: 0.3357\n",
            "Epoch 80/100\n",
            "1/1 [==============================] - 0s 21ms/step - loss: 0.5096 - mae: 0.5096\n",
            "Epoch 81/100\n",
            "1/1 [==============================] - 0s 27ms/step - loss: 0.5052 - mae: 0.5052\n",
            "Epoch 82/100\n",
            "1/1 [==============================] - 0s 36ms/step - loss: 0.3444 - mae: 0.3444\n",
            "Epoch 83/100\n",
            "1/1 [==============================] - 0s 27ms/step - loss: 0.5644 - mae: 0.5644\n",
            "Epoch 84/100\n",
            "1/1 [==============================] - 0s 37ms/step - loss: 0.6570 - mae: 0.6570\n",
            "Epoch 85/100\n",
            "1/1 [==============================] - 0s 22ms/step - loss: 0.4837 - mae: 0.4837\n",
            "Epoch 86/100\n",
            "1/1 [==============================] - 0s 29ms/step - loss: 0.2064 - mae: 0.2064\n",
            "Epoch 87/100\n",
            "1/1 [==============================] - 0s 32ms/step - loss: 0.2416 - mae: 0.2416\n",
            "Epoch 88/100\n",
            "1/1 [==============================] - 0s 46ms/step - loss: 0.1884 - mae: 0.1884\n",
            "Epoch 89/100\n",
            "1/1 [==============================] - 0s 46ms/step - loss: 0.1687 - mae: 0.1687\n",
            "Epoch 90/100\n",
            "1/1 [==============================] - 0s 34ms/step - loss: 0.2758 - mae: 0.2758\n",
            "Epoch 91/100\n",
            "1/1 [==============================] - 0s 26ms/step - loss: 0.2176 - mae: 0.2176\n",
            "Epoch 92/100\n",
            "1/1 [==============================] - 0s 26ms/step - loss: 0.2038 - mae: 0.2038\n",
            "Epoch 93/100\n",
            "1/1 [==============================] - 0s 31ms/step - loss: 0.1700 - mae: 0.1700\n",
            "Epoch 94/100\n",
            "1/1 [==============================] - 0s 41ms/step - loss: 0.1220 - mae: 0.1220\n",
            "Epoch 95/100\n",
            "1/1 [==============================] - 0s 42ms/step - loss: 0.0887 - mae: 0.0887\n",
            "Epoch 96/100\n",
            "1/1 [==============================] - 0s 28ms/step - loss: 0.2124 - mae: 0.2124\n",
            "Epoch 97/100\n",
            "1/1 [==============================] - 0s 29ms/step - loss: 0.2331 - mae: 0.2331\n",
            "Epoch 98/100\n",
            "1/1 [==============================] - 0s 33ms/step - loss: 0.0725 - mae: 0.0725\n",
            "Epoch 99/100\n",
            "1/1 [==============================] - 0s 34ms/step - loss: 0.3707 - mae: 0.3707\n",
            "Epoch 100/100\n",
            "1/1 [==============================] - 0s 34ms/step - loss: 0.4219 - mae: 0.4219\n"
          ]
        },
        {
          "output_type": "execute_result",
          "data": {
            "text/plain": [
              "<keras.src.callbacks.History at 0x7faacd1e1f90>"
            ]
          },
          "metadata": {},
          "execution_count": 19
        }
      ]
    },
    {
      "cell_type": "code",
      "source": [
        "# Try make prediction\n",
        "model3.predict([17.0])"
      ],
      "metadata": {
        "colab": {
          "base_uri": "https://localhost:8080/"
        },
        "id": "iZcXS1vmiusq",
        "outputId": "45a00487-da2a-4310-9347-8e6694e55cb8"
      },
      "execution_count": 20,
      "outputs": [
        {
          "output_type": "stream",
          "name": "stdout",
          "text": [
            "1/1 [==============================] - 0s 120ms/step\n"
          ]
        },
        {
          "output_type": "execute_result",
          "data": {
            "text/plain": [
              "array([[27.558558]], dtype=float32)"
            ]
          },
          "metadata": {},
          "execution_count": 20
        }
      ]
    },
    {
      "cell_type": "markdown",
      "source": [
        "## Evaluating Model\n",
        "\n",
        "Build a model -> fit it -> evaluate it -> tweak a model -> fit it -> evaluate it...\n",
        "\n",
        "Evaluation = visualize\n",
        "\n",
        "it's good idea to visualize :\n",
        "* The data - what data we working with? what does it look like?\n",
        "* The model = what does our model look like?\n",
        "* The training of a model - how does a model perform while it learns?\n",
        "* The predictions of the model - how do the predictions of a model line up against the ground truth (the origin label)"
      ],
      "metadata": {
        "id": "ggu1CbXFlSbl"
      }
    },
    {
      "cell_type": "code",
      "source": [
        "# Make a bigger dataset\n",
        "\n",
        "x = tf.range(-100, 100, 4)\n",
        "x"
      ],
      "metadata": {
        "colab": {
          "base_uri": "https://localhost:8080/"
        },
        "id": "O5yDk0J9lV5n",
        "outputId": "d41b81a8-71df-4bd2-8794-b5f80a5e113c"
      },
      "execution_count": 21,
      "outputs": [
        {
          "output_type": "execute_result",
          "data": {
            "text/plain": [
              "<tf.Tensor: shape=(50,), dtype=int32, numpy=\n",
              "array([-100,  -96,  -92,  -88,  -84,  -80,  -76,  -72,  -68,  -64,  -60,\n",
              "        -56,  -52,  -48,  -44,  -40,  -36,  -32,  -28,  -24,  -20,  -16,\n",
              "        -12,   -8,   -4,    0,    4,    8,   12,   16,   20,   24,   28,\n",
              "         32,   36,   40,   44,   48,   52,   56,   60,   64,   68,   72,\n",
              "         76,   80,   84,   88,   92,   96], dtype=int32)>"
            ]
          },
          "metadata": {},
          "execution_count": 21
        }
      ]
    },
    {
      "cell_type": "code",
      "source": [
        "# Make labels for the dataset\n",
        "\n",
        "y = x + 10\n",
        "y"
      ],
      "metadata": {
        "colab": {
          "base_uri": "https://localhost:8080/"
        },
        "id": "_VnV5iodqYP8",
        "outputId": "34fdea09-fb60-4938-9c00-0a776b9f3a31"
      },
      "execution_count": 22,
      "outputs": [
        {
          "output_type": "execute_result",
          "data": {
            "text/plain": [
              "<tf.Tensor: shape=(50,), dtype=int32, numpy=\n",
              "array([-90, -86, -82, -78, -74, -70, -66, -62, -58, -54, -50, -46, -42,\n",
              "       -38, -34, -30, -26, -22, -18, -14, -10,  -6,  -2,   2,   6,  10,\n",
              "        14,  18,  22,  26,  30,  34,  38,  42,  46,  50,  54,  58,  62,\n",
              "        66,  70,  74,  78,  82,  86,  90,  94,  98, 102, 106], dtype=int32)>"
            ]
          },
          "metadata": {},
          "execution_count": 22
        }
      ]
    },
    {
      "cell_type": "code",
      "source": [
        "# Visualize the data\n",
        "\n",
        "import matplotlib.pyplot as plt\n",
        "\n",
        "plt.scatter(x, y)"
      ],
      "metadata": {
        "colab": {
          "base_uri": "https://localhost:8080/",
          "height": 447
        },
        "id": "wqnieOnpqiby",
        "outputId": "55273285-34c0-4e40-b5e8-8f3c9a517f35"
      },
      "execution_count": 23,
      "outputs": [
        {
          "output_type": "execute_result",
          "data": {
            "text/plain": [
              "<matplotlib.collections.PathCollection at 0x7faacd129780>"
            ]
          },
          "metadata": {},
          "execution_count": 23
        },
        {
          "output_type": "display_data",
          "data": {
            "text/plain": [
              "<Figure size 640x480 with 1 Axes>"
            ],
            "image/png": "[encoded data removed]"
          },
          "metadata": {}
        }
      ]
    },
    {
      "cell_type": "markdown",
      "source": [
        "### The 3 sets\n",
        "\n",
        "* **Training set** - the model learn from this data, 70-80%\n",
        "* **Validation set** - set model gets tuned on this data, 10-15%\n",
        "* **Test set** - the model gets evaluated on this data, 10-15%"
      ],
      "metadata": {
        "id": "CCtd3h36q0Xk"
      }
    },
    {
      "cell_type": "code",
      "source": [
        "# Check the length of the data\n",
        "len(x)"
      ],
      "metadata": {
        "colab": {
          "base_uri": "https://localhost:8080/"
        },
        "id": "2_ITjQWjFQsM",
        "outputId": "a03afce8-6c2c-4e91-97da-ec87fe4206c0"
      },
      "execution_count": 24,
      "outputs": [
        {
          "output_type": "execute_result",
          "data": {
            "text/plain": [
              "50"
            ]
          },
          "metadata": {},
          "execution_count": 24
        }
      ]
    },
    {
      "cell_type": "code",
      "source": [
        "# Split the data into train and test sets\n",
        "x_train = x[:40] # first to 40 data will be the training sample\n",
        "y_train = y[:40]\n",
        "\n",
        "x_test = x[40:] # 20% will be test\n",
        "y_test = y[40:]\n",
        "\n",
        "len(x_train), len(x_test), len(y_train), len(y_test)"
      ],
      "metadata": {
        "colab": {
          "base_uri": "https://localhost:8080/"
        },
        "id": "4fkIFEl_HAu3",
        "outputId": "6df89e9c-6d1a-4747-ac0e-8d6588a70de1"
      },
      "execution_count": 25,
      "outputs": [
        {
          "output_type": "execute_result",
          "data": {
            "text/plain": [
              "(40, 10, 40, 10)"
            ]
          },
          "metadata": {},
          "execution_count": 25
        }
      ]
    },
    {
      "cell_type": "markdown",
      "source": [
        "### Visualing the data\n",
        "\n",
        "Now we've got out data in training and test sets...lets visualize it"
      ],
      "metadata": {
        "id": "9WJ9AtA0KgLL"
      }
    },
    {
      "cell_type": "code",
      "source": [
        "plt.figure(figsize=(10,7))\n",
        "\n",
        "# Plot training data in blue\n",
        "plt.scatter(x_train, y_train, c=\"b\", label=\"Training data\")\n",
        "\n",
        "# Plot test data in green\n",
        "plt.scatter(x_test, y_test, c=\"g\", label=\"Testing data\")\n",
        "\n",
        "# Show a legend\n",
        "plt.legend();"
      ],
      "metadata": {
        "colab": {
          "base_uri": "https://localhost:8080/",
          "height": 599
        },
        "id": "OQGu_de6G_li",
        "outputId": "05f477f4-a070-4770-c3d5-59683016b011"
      },
      "execution_count": 26,
      "outputs": [
        {
          "output_type": "display_data",
          "data": {
            "text/plain": [
              "<Figure size 1000x700 with 1 Axes>"
            ],
            "image/png": "[encoded data removed]"
          },
          "metadata": {}
        }
      ]
    },
    {
      "cell_type": "code",
      "source": [
        "# Lets have a look at how to build a neural network for our data\n",
        "\n",
        "# 1. Create the model\n",
        "model = tf.keras.Sequential([\n",
        "    tf.keras.layers.Dense(1)\n",
        "])\n",
        "\n",
        "# 2. Compile the model\n",
        "model.compile(loss = tf.keras.losses.mae,\n",
        "              optimizer = tf.keras.optimizers.SGD(),\n",
        "              metrics = [\"mae\"])\n",
        "\n",
        "# 3. Fit the model\n",
        "#model.fit(tf.expand_dims(x_train, axis=-1), y_train, epochs=100)"
      ],
      "metadata": {
        "id": "TtdWZXKHSSN-"
      },
      "execution_count": 27,
      "outputs": []
    },
    {
      "cell_type": "markdown",
      "source": [
        "### Visualizing the model"
      ],
      "metadata": {
        "id": "F7d7P08yTScA"
      }
    },
    {
      "cell_type": "code",
      "source": [
        "# Lets create  model wich builds automatically by defining the input_shape arguments\n",
        "\n",
        "tf.random.set_seed(42)\n",
        "\n",
        "# 1. Create the model\n",
        "model_1 = tf.keras.Sequential([\n",
        "    tf.keras.layers.Dense(100, input_shape=[1], name=\"input_layer\"),\n",
        "    tf.keras.layers.Dense(1, name=\"output_layer\")\n",
        "], name=\"model_one\")\n",
        "\n",
        "# 2. Compile the model\n",
        "model_1.compile(loss = tf.keras.losses.mae,\n",
        "              optimizer = tf.keras.optimizers.SGD(),\n",
        "              metrics = [\"mae\"])"
      ],
      "metadata": {
        "id": "MpSA6LxwTzZK"
      },
      "execution_count": 28,
      "outputs": []
    },
    {
      "cell_type": "code",
      "source": [
        "model_1.summary()"
      ],
      "metadata": {
        "colab": {
          "base_uri": "https://localhost:8080/"
        },
        "id": "-jMC9-6WUyLw",
        "outputId": "1e46d389-acbe-430d-cc1f-9f941df3789e"
      },
      "execution_count": 29,
      "outputs": [
        {
          "output_type": "stream",
          "name": "stdout",
          "text": [
            "Model: \"model_one\"\n",
            "_________________________________________________________________\n",
            " Layer (type)                Output Shape              Param #   \n",
            "=================================================================\n",
            " input_layer (Dense)         (None, 100)               200       \n",
            "                                                                 \n",
            " output_layer (Dense)        (None, 1)                 101       \n",
            "                                                                 \n",
            "=================================================================\n",
            "Total params: 301 (1.18 KB)\n",
            "Trainable params: 301 (1.18 KB)\n",
            "Non-trainable params: 0 (0.00 Byte)\n",
            "_________________________________________________________________\n"
          ]
        }
      ]
    },
    {
      "cell_type": "markdown",
      "source": [
        "* Total params - total number of parameters that we have\n",
        "\n",
        "* Trainable parameters - the parameters (patterns) the model can update as it trains\n",
        "\n",
        "* Non-trainable params - parameters cant updated during training (allready learn in models during **transfer learning**)\n",
        "\n",
        "📚 **Resource** : For a more in depth overview of the trainable parameters within a layer, check ouy MIT's intorduction to deep learning video\n",
        "\n",
        "⚡**Exercise :** Try playing around with the number of hidden units in the dense layer, see how that effect the number of parameters"
      ],
      "metadata": {
        "id": "fkeG27Fm3_t1"
      }
    },
    {
      "cell_type": "code",
      "source": [
        "# 3. Fit the model\n",
        "model_1.fit(tf.expand_dims(x_train, axis=-1), y_train, epochs=60, verbose=0)"
      ],
      "metadata": {
        "colab": {
          "base_uri": "https://localhost:8080/"
        },
        "id": "e-cgkHtW6914",
        "outputId": "aad00568-5ebd-4f4a-fff4-8c3e2f3431e1"
      },
      "execution_count": 30,
      "outputs": [
        {
          "output_type": "execute_result",
          "data": {
            "text/plain": [
              "<keras.src.callbacks.History at 0x7faaccfec970>"
            ]
          },
          "metadata": {},
          "execution_count": 30
        }
      ]
    },
    {
      "cell_type": "code",
      "source": [
        "# Get a summary of our model\n",
        "model_1.summary()"
      ],
      "metadata": {
        "colab": {
          "base_uri": "https://localhost:8080/"
        },
        "id": "IYam8Kl-M2o7",
        "outputId": "380e12e1-69b8-446c-ac19-a40e87df06fc"
      },
      "execution_count": 31,
      "outputs": [
        {
          "output_type": "stream",
          "name": "stdout",
          "text": [
            "Model: \"model_one\"\n",
            "_________________________________________________________________\n",
            " Layer (type)                Output Shape              Param #   \n",
            "=================================================================\n",
            " input_layer (Dense)         (None, 100)               200       \n",
            "                                                                 \n",
            " output_layer (Dense)        (None, 1)                 101       \n",
            "                                                                 \n",
            "=================================================================\n",
            "Total params: 301 (1.18 KB)\n",
            "Trainable params: 301 (1.18 KB)\n",
            "Non-trainable params: 0 (0.00 Byte)\n",
            "_________________________________________________________________\n"
          ]
        }
      ]
    },
    {
      "cell_type": "code",
      "source": [
        "from tensorflow.keras.utils import plot_model\n",
        "\n",
        "plot_model(model=model_1, show_shapes=True)"
      ],
      "metadata": {
        "colab": {
          "base_uri": "https://localhost:8080/",
          "height": 312
        },
        "id": "EMxErQE0NVSc",
        "outputId": "3a8e6d67-9647-4f85-f9c7-89138cb82c39"
      },
      "execution_count": 32,
      "outputs": [
        {
          "output_type": "execute_result",
          "data": {
            "image/png": "[encoded data removed]",
            "text/plain": [
              "<IPython.core.display.Image object>"
            ]
          },
          "metadata": {},
          "execution_count": 32
        }
      ]
    },
    {
      "cell_type": "markdown",
      "source": [
        "### Visualizing our models predictions\n",
        "\n",
        "To visualize predictions, it's a good idea to plot them against the ground truth labels.\n",
        "\n",
        "Often you'll see this in the form of 'y_test' or 'y_true' versus 'y_pred' (ground truth versus your model prediction)"
      ],
      "metadata": {
        "id": "XXOFpjXFOyH9"
      }
    },
    {
      "cell_type": "code",
      "source": [
        "# Make some predictions\n",
        "\n",
        "y_pred = model_1.predict(x_test)\n",
        "y_pred"
      ],
      "metadata": {
        "colab": {
          "base_uri": "https://localhost:8080/"
        },
        "id": "943XbXEayJf3",
        "outputId": "30e86a11-7adb-4749-a54b-6e96801bc021"
      },
      "execution_count": 33,
      "outputs": [
        {
          "output_type": "stream",
          "name": "stderr",
          "text": [
            "WARNING:tensorflow:5 out of the last 5 calls to <function Model.make_predict_function.<locals>.predict_function at 0x7faacdab4280> triggered tf.function retracing. Tracing is expensive and the excessive number of tracings could be due to (1) creating @tf.function repeatedly in a loop, (2) passing tensors with different shapes, (3) passing Python objects instead of tensors. For (1), please define your @tf.function outside of the loop. For (2), @tf.function has reduce_retracing=True option that can avoid unnecessary retracing. For (3), please refer to https://www.tensorflow.org/guide/function#controlling_retracing and https://www.tensorflow.org/api_docs/python/tf/function for  more details.\n"
          ]
        },
        {
          "output_type": "stream",
          "name": "stdout",
          "text": [
            "1/1 [==============================] - 0s 95ms/step\n"
          ]
        },
        {
          "output_type": "execute_result",
          "data": {
            "text/plain": [
              "array([[ 71.59729 ],\n",
              "       [ 76.300674],\n",
              "       [ 81.00404 ],\n",
              "       [ 85.707436],\n",
              "       [ 90.410805],\n",
              "       [ 95.1142  ],\n",
              "       [ 99.817604],\n",
              "       [104.520966],\n",
              "       [109.22436 ],\n",
              "       [113.92774 ]], dtype=float32)"
            ]
          },
          "metadata": {},
          "execution_count": 33
        }
      ]
    },
    {
      "cell_type": "code",
      "source": [
        "y_test"
      ],
      "metadata": {
        "colab": {
          "base_uri": "https://localhost:8080/"
        },
        "id": "Ke-R5lq9zVa3",
        "outputId": "498d5dfe-d1be-4fdd-c257-7b491834dee3"
      },
      "execution_count": 34,
      "outputs": [
        {
          "output_type": "execute_result",
          "data": {
            "text/plain": [
              "<tf.Tensor: shape=(10,), dtype=int32, numpy=array([ 70,  74,  78,  82,  86,  90,  94,  98, 102, 106], dtype=int32)>"
            ]
          },
          "metadata": {},
          "execution_count": 34
        }
      ]
    },
    {
      "cell_type": "markdown",
      "source": [
        "🔑 **Note : ** if you feel like you're going to reuse some functionality in the future, its good idea to turn it into a fucntion"
      ],
      "metadata": {
        "id": "nSO6jWAR09Jt"
      }
    },
    {
      "cell_type": "code",
      "source": [
        "# Lets create a plotting function\n",
        "\n",
        "def plot_predictions(train_data=x_train,\n",
        "                     train_labels=y_train,\n",
        "                     test_data=x_test,\n",
        "                     test_labels=y_test,\n",
        "                     predictions=y_pred):\n",
        "  \"\"\"\n",
        "  Plots training data, test data and compares predictions to ground truth labels\n",
        "  \"\"\"\n",
        "  plt.figure(figsize=(10,7))\n",
        "  # Plot training data in blue\n",
        "  plt.scatter(train_data, train_labels, c=\"b\", label=\"Training data\")\n",
        "\n",
        "  # Plot testing data in green\n",
        "  plt.scatter(test_data, test_labels, c=\"g\", label=\"Test data\")\n",
        "\n",
        "  # Plot models predictions in red\n",
        "  plt.scatter(test_data, predictions, c=\"r\", label=\"Predictions\")\n",
        "\n",
        "  # Show the legend\n",
        "  plt.legend()\n",
        "\n"
      ],
      "metadata": {
        "id": "Wt-qJvPk1MAh"
      },
      "execution_count": 35,
      "outputs": []
    },
    {
      "cell_type": "code",
      "source": [
        "plot_predictions()"
      ],
      "metadata": {
        "colab": {
          "base_uri": "https://localhost:8080/",
          "height": 599
        },
        "id": "7ZFYZPV5200S",
        "outputId": "bbc504fb-30a9-4263-98d9-41cfe21442ba"
      },
      "execution_count": 36,
      "outputs": [
        {
          "output_type": "display_data",
          "data": {
            "text/plain": [
              "<Figure size 1000x700 with 1 Axes>"
            ],
            "image/png": "[encoded data removed]"
          },
          "metadata": {}
        }
      ]
    },
    {
      "cell_type": "markdown",
      "source": [
        "### Evaluating our models predictions with regression evaluation metrics\n",
        "\n",
        "The evaluation metrics is depending to the model we working on\n",
        "\n",
        "since we're working on a regression, two of the main matrics:\n",
        "* MAE - mean absolute error, \"on average, how wrong is each of my model predictions\"\n",
        "\n",
        "* MSE - mean square error, \"square the average errors\""
      ],
      "metadata": {
        "id": "xWQ92ZRr4V_K"
      }
    },
    {
      "cell_type": "code",
      "source": [
        " # Evaluate the model on the test\n",
        " model_1.evaluate(x_test, y_test)"
      ],
      "metadata": {
        "id": "y3-bYOHr0p-A",
        "colab": {
          "base_uri": "https://localhost:8080/"
        },
        "outputId": "4c1d59c1-643a-4212-d1c1-e068ea419687"
      },
      "execution_count": 37,
      "outputs": [
        {
          "output_type": "stream",
          "name": "stdout",
          "text": [
            "1/1 [==============================] - 0s 272ms/step - loss: 4.7625 - mae: 4.7625\n"
          ]
        },
        {
          "output_type": "execute_result",
          "data": {
            "text/plain": [
              "[4.762511253356934, 4.762511253356934]"
            ]
          },
          "metadata": {},
          "execution_count": 37
        }
      ]
    },
    {
      "cell_type": "code",
      "source": [
        "# Calculate the mean absolute error\n",
        "mae = tf.metrics.mean_absolute_error(y_true=y_test, y_pred=tf.constant(y_pred))\n",
        "mae"
      ],
      "metadata": {
        "colab": {
          "base_uri": "https://localhost:8080/"
        },
        "id": "bAwZ_yTfPV4C",
        "outputId": "4ef62502-5e10-444f-9cc7-35882e33ccab"
      },
      "execution_count": 38,
      "outputs": [
        {
          "output_type": "execute_result",
          "data": {
            "text/plain": [
              "<tf.Tensor: shape=(10,), dtype=float32, numpy=\n",
              "array([16.722168, 13.419596, 11.198382, 10.058513, 10.082161, 11.245679,\n",
              "       13.490562, 16.816772, 21.224358, 25.92774 ], dtype=float32)>"
            ]
          },
          "metadata": {},
          "execution_count": 38
        }
      ]
    },
    {
      "cell_type": "code",
      "source": [
        "tf.constant(y_pred)"
      ],
      "metadata": {
        "colab": {
          "base_uri": "https://localhost:8080/"
        },
        "id": "v6CpJX1IPiwj",
        "outputId": "17e3c87d-0708-4c42-8b1c-ea0baf736653"
      },
      "execution_count": 39,
      "outputs": [
        {
          "output_type": "execute_result",
          "data": {
            "text/plain": [
              "<tf.Tensor: shape=(10, 1), dtype=float32, numpy=\n",
              "array([[ 71.59729 ],\n",
              "       [ 76.300674],\n",
              "       [ 81.00404 ],\n",
              "       [ 85.707436],\n",
              "       [ 90.410805],\n",
              "       [ 95.1142  ],\n",
              "       [ 99.817604],\n",
              "       [104.520966],\n",
              "       [109.22436 ],\n",
              "       [113.92774 ]], dtype=float32)>"
            ]
          },
          "metadata": {},
          "execution_count": 39
        }
      ]
    },
    {
      "cell_type": "code",
      "source": [
        "y_test"
      ],
      "metadata": {
        "colab": {
          "base_uri": "https://localhost:8080/"
        },
        "id": "JusnDI5oPlKR",
        "outputId": "26e654c6-d818-49f3-d331-c233c11308bf"
      },
      "execution_count": 40,
      "outputs": [
        {
          "output_type": "execute_result",
          "data": {
            "text/plain": [
              "<tf.Tensor: shape=(10,), dtype=int32, numpy=array([ 70,  74,  78,  82,  86,  90,  94,  98, 102, 106], dtype=int32)>"
            ]
          },
          "metadata": {},
          "execution_count": 40
        }
      ]
    },
    {
      "cell_type": "code",
      "source": [
        "tf.squeeze(y_pred)"
      ],
      "metadata": {
        "colab": {
          "base_uri": "https://localhost:8080/"
        },
        "id": "WqQJPNiwyi56",
        "outputId": "0d1a3b29-b22c-4400-f5f7-960d0268e503"
      },
      "execution_count": 41,
      "outputs": [
        {
          "output_type": "execute_result",
          "data": {
            "text/plain": [
              "<tf.Tensor: shape=(10,), dtype=float32, numpy=\n",
              "array([ 71.59729 ,  76.300674,  81.00404 ,  85.707436,  90.410805,\n",
              "        95.1142  ,  99.817604, 104.520966, 109.22436 , 113.92774 ],\n",
              "      dtype=float32)>"
            ]
          },
          "metadata": {},
          "execution_count": 41
        }
      ]
    },
    {
      "cell_type": "code",
      "source": [
        "# Calculate the mean absolute error\n",
        "\n",
        "mae = tf.metrics.mean_absolute_error(y_true=y_test, y_pred=tf.squeeze(y_pred))\n",
        "\n",
        "mae"
      ],
      "metadata": {
        "colab": {
          "base_uri": "https://localhost:8080/"
        },
        "id": "uUT4LV7uypPs",
        "outputId": "6d64e40c-1997-4b18-e807-f05303baffd6"
      },
      "execution_count": 42,
      "outputs": [
        {
          "output_type": "execute_result",
          "data": {
            "text/plain": [
              "<tf.Tensor: shape=(), dtype=float32, numpy=4.7625113>"
            ]
          },
          "metadata": {},
          "execution_count": 42
        }
      ]
    },
    {
      "cell_type": "code",
      "source": [
        "# Calculate the mean square error\n",
        "\n",
        "mse = tf.metrics.mean_squared_error(y_true=y_test, y_pred=tf.squeeze(y_pred))\n",
        "mse"
      ],
      "metadata": {
        "id": "QpelDvIC2Nvg",
        "colab": {
          "base_uri": "https://localhost:8080/"
        },
        "outputId": "388423bc-1d76-401b-b6a9-0ef65cc3d141"
      },
      "execution_count": 43,
      "outputs": [
        {
          "output_type": "execute_result",
          "data": {
            "text/plain": [
              "<tf.Tensor: shape=(), dtype=float32, numpy=26.763195>"
            ]
          },
          "metadata": {},
          "execution_count": 43
        }
      ]
    },
    {
      "cell_type": "code",
      "source": [
        "# Make fucntion to reuse MAE and MSE\n",
        "def mae(y_true, y_pred):\n",
        "  return tf.metrics.mean_absolute_error(y_true=y_true,\n",
        "                                      y_pred=tf.squeeze(y_pred))\n",
        "\n",
        "def mse(y_true,y_pred):\n",
        "  return tf.metrics.mean_squared_error(y_true=y_true,\n",
        "                                       y_pred=tf.squeeze(y_pred))"
      ],
      "metadata": {
        "id": "oCsUvdVW2yQL"
      },
      "execution_count": 44,
      "outputs": []
    },
    {
      "cell_type": "markdown",
      "source": [
        "### Running experiments to improve our model\n",
        "\n",
        "1. Get more data - get more example for model\n",
        "\n",
        "2. Make your model larger (using a more complex model) - matbe more layers or hidden units\n",
        "\n",
        "3. Train for longer - give model more chance to find patterns in data\n",
        "\n",
        "Let's do 3 modelling experiment L\n",
        "\n",
        "1. 'model_1' - same as the origin, 1 layer, trained for 100 epochs\n",
        "\n",
        "2. 'model_2' - 2 layers, trained for 100 epochs\n",
        "\n",
        "3. 'model_3' - 2 layers, rained for 500 epochs"
      ],
      "metadata": {
        "id": "U73RgqjhN1Gb"
      }
    },
    {
      "cell_type": "code",
      "source": [
        "x_train, y_train"
      ],
      "metadata": {
        "colab": {
          "base_uri": "https://localhost:8080/"
        },
        "id": "ZRYFc01nOexa",
        "outputId": "35e34752-d14f-45f6-fb4e-2e8a82c9bda9"
      },
      "execution_count": 45,
      "outputs": [
        {
          "output_type": "execute_result",
          "data": {
            "text/plain": [
              "(<tf.Tensor: shape=(40,), dtype=int32, numpy=\n",
              " array([-100,  -96,  -92,  -88,  -84,  -80,  -76,  -72,  -68,  -64,  -60,\n",
              "         -56,  -52,  -48,  -44,  -40,  -36,  -32,  -28,  -24,  -20,  -16,\n",
              "         -12,   -8,   -4,    0,    4,    8,   12,   16,   20,   24,   28,\n",
              "          32,   36,   40,   44,   48,   52,   56], dtype=int32)>,\n",
              " <tf.Tensor: shape=(40,), dtype=int32, numpy=\n",
              " array([-90, -86, -82, -78, -74, -70, -66, -62, -58, -54, -50, -46, -42,\n",
              "        -38, -34, -30, -26, -22, -18, -14, -10,  -6,  -2,   2,   6,  10,\n",
              "         14,  18,  22,  26,  30,  34,  38,  42,  46,  50,  54,  58,  62,\n",
              "         66], dtype=int32)>)"
            ]
          },
          "metadata": {},
          "execution_count": 45
        }
      ]
    },
    {
      "cell_type": "code",
      "source": [
        "# First build model_1\n",
        "\n",
        "# Ser random seed\n",
        "tf.random.set_seed(42)\n",
        "\n",
        "# 1. Create the model\n",
        "model_1 = tf.keras.Sequential([\n",
        "    tf.keras.layers.Dense(1)\n",
        "])\n",
        "\n",
        "# 2. Compile the model\n",
        "model_1.compile(loss=tf.keras.losses.mae,\n",
        "                optimizer=tf.keras.optimizers.SGD(),\n",
        "                metrics=[\"mae\"],\n",
        "                run_eagerly=True)\n",
        "\n",
        "# 3. FIt the model\n",
        "model_1.fit(tf.expand_dims(x_train, axis=-1), y_train, epochs=100, verbose=0)"
      ],
      "metadata": {
        "colab": {
          "base_uri": "https://localhost:8080/"
        },
        "id": "Bm7GqWOpN77n",
        "outputId": "dc1eec69-291e-47d7-e781-b96405674017"
      },
      "execution_count": 46,
      "outputs": [
        {
          "output_type": "execute_result",
          "data": {
            "text/plain": [
              "<keras.src.callbacks.History at 0x7faacd9844c0>"
            ]
          },
          "metadata": {},
          "execution_count": 46
        }
      ]
    },
    {
      "cell_type": "code",
      "source": [
        "model_1.predict(tf.reshape(x_test, shape=(-1,1)))"
      ],
      "metadata": {
        "colab": {
          "base_uri": "https://localhost:8080/"
        },
        "id": "vvrhWzRwTr-8",
        "outputId": "ee821626-9c4c-4721-8eca-6b5948e4a990"
      },
      "execution_count": 47,
      "outputs": [
        {
          "output_type": "stream",
          "name": "stdout",
          "text": [
            "1/1 [==============================] - 0s 73ms/step\n"
          ]
        },
        {
          "output_type": "execute_result",
          "data": {
            "text/plain": [
              "array([[44.58026 ],\n",
              "       [47.467113],\n",
              "       [50.353966],\n",
              "       [53.240814],\n",
              "       [56.127666],\n",
              "       [59.014515],\n",
              "       [61.901367],\n",
              "       [64.788216],\n",
              "       [67.675064],\n",
              "       [70.56192 ]], dtype=float32)"
            ]
          },
          "metadata": {},
          "execution_count": 47
        }
      ]
    },
    {
      "cell_type": "code",
      "source": [
        "# Make a plot predictions for model_1\n",
        "\n",
        "# x_test = tf.reshape(x_test, shape=(-1,1))\n",
        "\n",
        "y_preds_1 = model_1.predict(tf.reshape(x_test, shape=(-1,1)))\n",
        "plot_predictions(predictions=y_preds_1)"
      ],
      "metadata": {
        "colab": {
          "base_uri": "https://localhost:8080/",
          "height": 616
        },
        "id": "-VTt2FvCQK0C",
        "outputId": "43ce4e4e-0874-4536-a0fd-0409de8e68af"
      },
      "execution_count": 48,
      "outputs": [
        {
          "output_type": "stream",
          "name": "stdout",
          "text": [
            "1/1 [==============================] - 0s 49ms/step\n"
          ]
        },
        {
          "output_type": "display_data",
          "data": {
            "text/plain": [
              "<Figure size 1000x700 with 1 Axes>"
            ],
            "image/png": "[encoded data removed]"
          },
          "metadata": {}
        }
      ]
    },
    {
      "cell_type": "code",
      "source": [
        "# Calculate model_1 evaluation metrics\n",
        "\n",
        "mae_1 = mae(y_test, y_preds_1)\n",
        "mse_1 = mse(y_test, y_preds_1)\n",
        "\n",
        "mae_1, mse_1"
      ],
      "metadata": {
        "colab": {
          "base_uri": "https://localhost:8080/"
        },
        "id": "3u6Og5EaqZEp",
        "outputId": "821ea25f-43d7-4b7a-ad14-4e2e93fddcf6"
      },
      "execution_count": 49,
      "outputs": [
        {
          "output_type": "execute_result",
          "data": {
            "text/plain": [
              "(<tf.Tensor: shape=(), dtype=float32, numpy=30.428913>,\n",
              " <tf.Tensor: shape=(), dtype=float32, numpy=936.1411>)"
            ]
          },
          "metadata": {},
          "execution_count": 49
        }
      ]
    },
    {
      "cell_type": "markdown",
      "source": [
        "**Build model_2**\n",
        "\n",
        "* 2 dense layers, trained for 100 epochs"
      ],
      "metadata": {
        "id": "3IG91oWhsu7n"
      }
    },
    {
      "cell_type": "code",
      "source": [
        "# Build model_2\n",
        "\n",
        "# Set the random seed\n",
        "tf.random.set_seed(42)\n",
        "\n",
        "# 1. Create model\n",
        "model_2 = tf.keras.Sequential([\n",
        "    tf.keras.layers.Dense(70, name=\"input_layer\"),\n",
        "    tf.keras.layers.Dense(1, name=\"Output_layer\")\n",
        "])\n",
        "\n",
        "# 2. Compile the model\n",
        "\n",
        "model_2.compile(loss = mae,\n",
        "              optimizer = tf.keras.optimizers.SGD(),\n",
        "              metrics = [\"mae\"])"
      ],
      "metadata": {
        "id": "F9HBFkiUvO0E"
      },
      "execution_count": 50,
      "outputs": []
    },
    {
      "cell_type": "code",
      "source": [
        "# 3. Make Train the model\n",
        "model_2.fit(tf.expand_dims(x_train, axis=-1), y_train, epochs=54)"
      ],
      "metadata": {
        "colab": {
          "base_uri": "https://localhost:8080/"
        },
        "id": "xCwKGotyzj8h",
        "outputId": "645f284e-eedb-40c5-a2d3-c07e3b96f805"
      },
      "execution_count": 51,
      "outputs": [
        {
          "output_type": "stream",
          "name": "stdout",
          "text": [
            "Epoch 1/54\n",
            "2/2 [==============================] - 2s 20ms/step - loss: 40.7889 - mae: 38.3718\n",
            "Epoch 2/54\n",
            "2/2 [==============================] - 0s 13ms/step - loss: 40.8679 - mae: 40.6619\n",
            "Epoch 3/54\n",
            "2/2 [==============================] - 0s 14ms/step - loss: 52.3915 - mae: 18.0136\n",
            "Epoch 4/54\n",
            "2/2 [==============================] - 0s 11ms/step - loss: 40.6781 - mae: 35.9936\n",
            "Epoch 5/54\n",
            "2/2 [==============================] - 0s 12ms/step - loss: 40.6699 - mae: 38.1263\n",
            "Epoch 6/54\n",
            "2/2 [==============================] - 0s 11ms/step - loss: 40.9441 - mae: 32.0456\n",
            "Epoch 7/54\n",
            "2/2 [==============================] - 0s 11ms/step - loss: 40.7365 - mae: 38.3905\n",
            "Epoch 8/54\n",
            "2/2 [==============================] - 0s 12ms/step - loss: 40.8223 - mae: 32.3186\n",
            "Epoch 9/54\n",
            "2/2 [==============================] - 0s 14ms/step - loss: 46.6357 - mae: 15.2447\n",
            "Epoch 10/54\n",
            "2/2 [==============================] - 0s 24ms/step - loss: 40.5772 - mae: 36.3639\n",
            "Epoch 11/54\n",
            "2/2 [==============================] - 0s 37ms/step - loss: 40.9517 - mae: 39.2305\n",
            "Epoch 12/54\n",
            "2/2 [==============================] - 0s 14ms/step - loss: 51.4849 - mae: 15.3806\n",
            "Epoch 13/54\n",
            "2/2 [==============================] - 0s 12ms/step - loss: 40.7207 - mae: 36.1917\n",
            "Epoch 14/54\n",
            "2/2 [==============================] - 0s 20ms/step - loss: 41.1090 - mae: 30.3055\n",
            "Epoch 15/54\n",
            "2/2 [==============================] - 0s 24ms/step - loss: 40.8571 - mae: 38.4676\n",
            "Epoch 16/54\n",
            "2/2 [==============================] - 0s 17ms/step - loss: 40.8542 - mae: 40.8801\n",
            "Epoch 17/54\n",
            "2/2 [==============================] - 0s 15ms/step - loss: 40.3262 - mae: 34.1441\n",
            "Epoch 18/54\n",
            "2/2 [==============================] - 0s 20ms/step - loss: 40.8375 - mae: 33.4745\n",
            "Epoch 19/54\n",
            "2/2 [==============================] - 0s 11ms/step - loss: 43.1321 - mae: 18.6094\n",
            "Epoch 20/54\n",
            "2/2 [==============================] - 0s 16ms/step - loss: 40.9524 - mae: 32.2114\n",
            "Epoch 21/54\n",
            "2/2 [==============================] - 0s 11ms/step - loss: 40.7348 - mae: 35.4947\n",
            "Epoch 22/54\n",
            "2/2 [==============================] - 0s 14ms/step - loss: 40.6427 - mae: 37.5120\n",
            "Epoch 23/54\n",
            "2/2 [==============================] - 0s 12ms/step - loss: 40.6485 - mae: 38.1757\n",
            "Epoch 24/54\n",
            "2/2 [==============================] - 0s 13ms/step - loss: 40.9921 - mae: 30.6476\n",
            "Epoch 25/54\n",
            "2/2 [==============================] - 0s 13ms/step - loss: 40.9006 - mae: 41.5296\n",
            "Epoch 26/54\n",
            "2/2 [==============================] - 0s 15ms/step - loss: 41.8918 - mae: 26.3855\n",
            "Epoch 27/54\n",
            "2/2 [==============================] - 0s 12ms/step - loss: 40.7380 - mae: 34.8117\n",
            "Epoch 28/54\n",
            "2/2 [==============================] - 0s 13ms/step - loss: 42.1209 - mae: 24.4977\n",
            "Epoch 29/54\n",
            "2/2 [==============================] - 0s 14ms/step - loss: 40.6930 - mae: 33.9476\n",
            "Epoch 30/54\n",
            "2/2 [==============================] - 0s 14ms/step - loss: 45.0909 - mae: 14.3183\n",
            "Epoch 31/54\n",
            "2/2 [==============================] - 0s 14ms/step - loss: 57.2706 - mae: 15.6775\n",
            "Epoch 32/54\n",
            "2/2 [==============================] - 0s 22ms/step - loss: 41.2274 - mae: 26.7262\n",
            "Epoch 33/54\n",
            "2/2 [==============================] - 0s 9ms/step - loss: 41.1806 - mae: 30.1401\n",
            "Epoch 34/54\n",
            "2/2 [==============================] - 0s 10ms/step - loss: 40.8260 - mae: 32.4761\n",
            "Epoch 35/54\n",
            "2/2 [==============================] - 0s 12ms/step - loss: 40.6170 - mae: 35.0555\n",
            "Epoch 36/54\n",
            "2/2 [==============================] - 0s 9ms/step - loss: 41.6392 - mae: 23.9755\n",
            "Epoch 37/54\n",
            "2/2 [==============================] - 0s 10ms/step - loss: 40.8565 - mae: 32.4192\n",
            "Epoch 38/54\n",
            "2/2 [==============================] - 0s 10ms/step - loss: 40.6566 - mae: 34.5245\n",
            "Epoch 39/54\n",
            "2/2 [==============================] - 0s 9ms/step - loss: 40.7278 - mae: 34.1012\n",
            "Epoch 40/54\n",
            "2/2 [==============================] - 0s 9ms/step - loss: 40.8641 - mae: 32.8539\n",
            "Epoch 41/54\n",
            "2/2 [==============================] - 0s 13ms/step - loss: 40.3742 - mae: 33.7816\n",
            "Epoch 42/54\n",
            "2/2 [==============================] - 0s 10ms/step - loss: 40.7184 - mae: 34.7222\n",
            "Epoch 43/54\n",
            "2/2 [==============================] - 0s 10ms/step - loss: 40.5567 - mae: 36.8071\n",
            "Epoch 44/54\n",
            "2/2 [==============================] - 0s 9ms/step - loss: 41.0257 - mae: 30.0432\n",
            "Epoch 45/54\n",
            "2/2 [==============================] - 0s 9ms/step - loss: 41.0515 - mae: 30.9190\n",
            "Epoch 46/54\n",
            "2/2 [==============================] - 0s 9ms/step - loss: 40.6973 - mae: 33.3926\n",
            "Epoch 47/54\n",
            "2/2 [==============================] - 0s 9ms/step - loss: 40.7106 - mae: 34.6794\n",
            "Epoch 48/54\n",
            "2/2 [==============================] - 0s 10ms/step - loss: 40.6688 - mae: 37.3438\n",
            "Epoch 49/54\n",
            "2/2 [==============================] - 0s 14ms/step - loss: 40.6602 - mae: 37.1236\n",
            "Epoch 50/54\n",
            "2/2 [==============================] - 0s 12ms/step - loss: 40.5703 - mae: 35.1989\n",
            "Epoch 51/54\n",
            "2/2 [==============================] - 0s 10ms/step - loss: 40.6742 - mae: 37.2858\n",
            "Epoch 52/54\n",
            "2/2 [==============================] - 0s 10ms/step - loss: 40.5896 - mae: 35.2926\n",
            "Epoch 53/54\n",
            "2/2 [==============================] - 0s 12ms/step - loss: 40.4002 - mae: 27.9752\n",
            "Epoch 54/54\n",
            "2/2 [==============================] - 0s 9ms/step - loss: 43.6120 - mae: 18.0372\n"
          ]
        },
        {
          "output_type": "execute_result",
          "data": {
            "text/plain": [
              "<keras.src.callbacks.History at 0x7faaccfec940>"
            ]
          },
          "metadata": {},
          "execution_count": 51
        }
      ]
    },
    {
      "cell_type": "code",
      "source": [
        "x_test"
      ],
      "metadata": {
        "colab": {
          "base_uri": "https://localhost:8080/"
        },
        "id": "F4p4SDzi3EAL",
        "outputId": "8b72e9fa-6170-438c-fdd6-f03d2f1187de"
      },
      "execution_count": 52,
      "outputs": [
        {
          "output_type": "execute_result",
          "data": {
            "text/plain": [
              "<tf.Tensor: shape=(10,), dtype=int32, numpy=array([60, 64, 68, 72, 76, 80, 84, 88, 92, 96], dtype=int32)>"
            ]
          },
          "metadata": {},
          "execution_count": 52
        }
      ]
    },
    {
      "cell_type": "code",
      "source": [
        "y_test"
      ],
      "metadata": {
        "colab": {
          "base_uri": "https://localhost:8080/"
        },
        "id": "pg4Syr7r3HES",
        "outputId": "3d1a075c-6413-46c9-bd1b-6806e9cdba28"
      },
      "execution_count": 53,
      "outputs": [
        {
          "output_type": "execute_result",
          "data": {
            "text/plain": [
              "<tf.Tensor: shape=(10,), dtype=int32, numpy=array([ 70,  74,  78,  82,  86,  90,  94,  98, 102, 106], dtype=int32)>"
            ]
          },
          "metadata": {},
          "execution_count": 53
        }
      ]
    },
    {
      "cell_type": "code",
      "source": [
        "model_2.predict(x_test)"
      ],
      "metadata": {
        "colab": {
          "base_uri": "https://localhost:8080/"
        },
        "id": "bvtvcNO03KN2",
        "outputId": "23328b9a-0762-42a7-cd88-7333f78520d3"
      },
      "execution_count": 54,
      "outputs": [
        {
          "output_type": "stream",
          "name": "stderr",
          "text": [
            "WARNING:tensorflow:6 out of the last 6 calls to <function Model.make_predict_function.<locals>.predict_function at 0x7faacda4e170> triggered tf.function retracing. Tracing is expensive and the excessive number of tracings could be due to (1) creating @tf.function repeatedly in a loop, (2) passing tensors with different shapes, (3) passing Python objects instead of tensors. For (1), please define your @tf.function outside of the loop. For (2), @tf.function has reduce_retracing=True option that can avoid unnecessary retracing. For (3), please refer to https://www.tensorflow.org/guide/function#controlling_retracing and https://www.tensorflow.org/api_docs/python/tf/function for  more details.\n"
          ]
        },
        {
          "output_type": "stream",
          "name": "stdout",
          "text": [
            "1/1 [==============================] - 0s 84ms/step\n"
          ]
        },
        {
          "output_type": "execute_result",
          "data": {
            "text/plain": [
              "array([[32.392807],\n",
              "       [34.566586],\n",
              "       [36.740364],\n",
              "       [38.914146],\n",
              "       [41.087933],\n",
              "       [43.261707],\n",
              "       [45.435493],\n",
              "       [47.60928 ],\n",
              "       [49.783054],\n",
              "       [51.956833]], dtype=float32)"
            ]
          },
          "metadata": {},
          "execution_count": 54
        }
      ]
    },
    {
      "cell_type": "code",
      "source": [
        "# Make and plot predictions of model_2\n",
        "\n",
        "y_preds_2 = model_2.predict(x_test)\n",
        "plot_predictions(predictions=y_preds_2)"
      ],
      "metadata": {
        "colab": {
          "base_uri": "https://localhost:8080/",
          "height": 616
        },
        "id": "qYq7itP01-ur",
        "outputId": "e8760576-484f-4f77-d83f-d57b7b254f98"
      },
      "execution_count": 55,
      "outputs": [
        {
          "output_type": "stream",
          "name": "stdout",
          "text": [
            "1/1 [==============================] - 0s 33ms/step\n"
          ]
        },
        {
          "output_type": "display_data",
          "data": {
            "text/plain": [
              "<Figure size 1000x700 with 1 Axes>"
            ],
            "image/png": "[encoded data removed]"
          },
          "metadata": {}
        }
      ]
    },
    {
      "cell_type": "code",
      "source": [
        "model_2.summary()"
      ],
      "metadata": {
        "colab": {
          "base_uri": "https://localhost:8080/"
        },
        "id": "nrRhl6kf1o_c",
        "outputId": "668317b7-c6fe-4e53-c7c1-94ea4e6782c0"
      },
      "execution_count": 56,
      "outputs": [
        {
          "output_type": "stream",
          "name": "stdout",
          "text": [
            "Model: \"sequential_6\"\n",
            "_________________________________________________________________\n",
            " Layer (type)                Output Shape              Param #   \n",
            "=================================================================\n",
            " input_layer (Dense)         (None, 70)                140       \n",
            "                                                                 \n",
            " Output_layer (Dense)        (None, 1)                 71        \n",
            "                                                                 \n",
            "=================================================================\n",
            "Total params: 211 (844.00 Byte)\n",
            "Trainable params: 211 (844.00 Byte)\n",
            "Non-trainable params: 0 (0.00 Byte)\n",
            "_________________________________________________________________\n"
          ]
        }
      ]
    },
    {
      "cell_type": "code",
      "source": [
        "# Calculate model_2 evaluation metrics\n",
        "\n",
        "mae_2 = mae(y_test, y_preds_2)\n",
        "mse_2 = mse(y_test, y_preds_2)\n",
        "\n",
        "mae_2, mse_2"
      ],
      "metadata": {
        "colab": {
          "base_uri": "https://localhost:8080/"
        },
        "id": "C54KgBhY6klJ",
        "outputId": "48d5b672-8d65-48f2-864c-3050e9e90c31"
      },
      "execution_count": 57,
      "outputs": [
        {
          "output_type": "execute_result",
          "data": {
            "text/plain": [
              "(<tf.Tensor: shape=(), dtype=float32, numpy=45.825184>,\n",
              " <tf.Tensor: shape=(), dtype=float32, numpy=2127.4614>)"
            ]
          },
          "metadata": {},
          "execution_count": 57
        }
      ]
    },
    {
      "cell_type": "markdown",
      "source": [
        "**Build model_3**\n",
        "\n",
        "* 2 layers, trained for 500 epochs"
      ],
      "metadata": {
        "id": "UgQW0Vw_Eigq"
      }
    },
    {
      "cell_type": "code",
      "source": [
        "# Build mdoel 3\n",
        "\n",
        "# set random seed\n",
        "tf.random.set_seed(42)\n",
        "\n",
        "# Build the model\n",
        "model_3 = tf.keras.Sequential([\n",
        "    tf.keras.layers.Dense(10),\n",
        "    tf.keras.layers.Dense(1)\n",
        "])\n",
        "\n",
        "# Compile the model\n",
        "model_3.compile(loss=mae,\n",
        "                optimizer = tf.keras.optimizers.SGD(),\n",
        "                metrics=[\"mae\"])"
      ],
      "metadata": {
        "id": "ZDmoG_8fEdZp"
      },
      "execution_count": 58,
      "outputs": []
    },
    {
      "cell_type": "code",
      "source": [
        "# 3. FIt the model\n",
        "model_3.fit(tf.expand_dims(x_train, axis=-1), y_train, epochs=500)\n"
      ],
      "metadata": {
        "colab": {
          "base_uri": "https://localhost:8080/"
        },
        "id": "Xw5ZEQwjFTQF",
        "outputId": "90e6b9a8-7923-4566-f8c1-bba520535621"
      },
      "execution_count": 59,
      "outputs": [
        {
          "output_type": "stream",
          "name": "stdout",
          "text": [
            "Epoch 1/500\n",
            "2/2 [==============================] - 0s 15ms/step - loss: 49.3407 - mae: 14.9302\n",
            "Epoch 2/500\n",
            "2/2 [==============================] - 0s 9ms/step - loss: 40.9548 - mae: 37.2849\n",
            "Epoch 3/500\n",
            "2/2 [==============================] - 0s 10ms/step - loss: 50.1589 - mae: 15.5908\n",
            "Epoch 4/500\n",
            "2/2 [==============================] - 0s 9ms/step - loss: 40.9273 - mae: 39.7238\n",
            "Epoch 5/500\n",
            "2/2 [==============================] - 0s 7ms/step - loss: 40.6193 - mae: 37.7769\n",
            "Epoch 6/500\n",
            "2/2 [==============================] - 0s 8ms/step - loss: 40.8892 - mae: 32.5825\n",
            "Epoch 7/500\n",
            "2/2 [==============================] - 0s 12ms/step - loss: 40.7492 - mae: 37.8940\n",
            "Epoch 8/500\n",
            "2/2 [==============================] - 0s 10ms/step - loss: 40.7019 - mae: 32.9919\n",
            "Epoch 9/500\n",
            "2/2 [==============================] - 0s 13ms/step - loss: 44.3937 - mae: 17.7872\n",
            "Epoch 10/500\n",
            "2/2 [==============================] - 0s 9ms/step - loss: 40.3597 - mae: 34.2194\n",
            "Epoch 11/500\n",
            "2/2 [==============================] - 0s 9ms/step - loss: 40.9224 - mae: 39.1110\n",
            "Epoch 12/500\n",
            "2/2 [==============================] - 0s 10ms/step - loss: 50.6615 - mae: 14.4955\n",
            "Epoch 13/500\n",
            "2/2 [==============================] - 0s 10ms/step - loss: 40.7550 - mae: 35.2029\n",
            "Epoch 14/500\n",
            "2/2 [==============================] - 0s 13ms/step - loss: 41.1344 - mae: 30.1201\n",
            "Epoch 15/500\n",
            "2/2 [==============================] - 0s 12ms/step - loss: 40.8312 - mae: 38.1506\n",
            "Epoch 16/500\n",
            "2/2 [==============================] - 0s 9ms/step - loss: 40.8352 - mae: 40.5987\n",
            "Epoch 17/500\n",
            "2/2 [==============================] - 0s 8ms/step - loss: 40.3259 - mae: 34.1020\n",
            "Epoch 18/500\n",
            "2/2 [==============================] - 0s 9ms/step - loss: 40.8174 - mae: 33.4558\n",
            "Epoch 19/500\n",
            "2/2 [==============================] - 0s 9ms/step - loss: 42.9832 - mae: 19.0175\n",
            "Epoch 20/500\n",
            "2/2 [==============================] - 0s 16ms/step - loss: 40.9903 - mae: 31.8452\n",
            "Epoch 21/500\n",
            "2/2 [==============================] - 0s 8ms/step - loss: 40.7410 - mae: 35.2380\n",
            "Epoch 22/500\n",
            "2/2 [==============================] - 0s 9ms/step - loss: 40.6247 - mae: 37.3006\n",
            "Epoch 23/500\n",
            "2/2 [==============================] - 0s 9ms/step - loss: 40.6489 - mae: 38.1595\n",
            "Epoch 24/500\n",
            "2/2 [==============================] - 0s 9ms/step - loss: 40.9713 - mae: 30.8736\n",
            "Epoch 25/500\n",
            "2/2 [==============================] - 0s 9ms/step - loss: 40.8812 - mae: 41.3390\n",
            "Epoch 26/500\n",
            "2/2 [==============================] - 0s 8ms/step - loss: 41.8192 - mae: 26.6125\n",
            "Epoch 27/500\n",
            "2/2 [==============================] - 0s 9ms/step - loss: 40.7196 - mae: 35.1188\n",
            "Epoch 28/500\n",
            "2/2 [==============================] - 0s 9ms/step - loss: 42.0057 - mae: 24.9198\n",
            "Epoch 29/500\n",
            "2/2 [==============================] - 0s 8ms/step - loss: 40.6523 - mae: 33.7680\n",
            "Epoch 30/500\n",
            "2/2 [==============================] - 0s 12ms/step - loss: 44.8485 - mae: 14.4626\n",
            "Epoch 31/500\n",
            "2/2 [==============================] - 0s 10ms/step - loss: 56.7116 - mae: 15.2173\n",
            "Epoch 32/500\n",
            "2/2 [==============================] - 0s 10ms/step - loss: 41.2294 - mae: 26.6988\n",
            "Epoch 33/500\n",
            "2/2 [==============================] - 0s 10ms/step - loss: 41.1907 - mae: 30.0636\n",
            "Epoch 34/500\n",
            "2/2 [==============================] - 0s 9ms/step - loss: 40.8295 - mae: 32.4232\n",
            "Epoch 35/500\n",
            "2/2 [==============================] - 0s 9ms/step - loss: 40.6160 - mae: 35.0101\n",
            "Epoch 36/500\n",
            "2/2 [==============================] - 0s 9ms/step - loss: 41.5818 - mae: 24.2663\n",
            "Epoch 37/500\n",
            "2/2 [==============================] - 0s 12ms/step - loss: 40.8619 - mae: 32.3506\n",
            "Epoch 38/500\n",
            "2/2 [==============================] - 0s 10ms/step - loss: 40.6602 - mae: 34.4149\n",
            "Epoch 39/500\n",
            "2/2 [==============================] - 0s 9ms/step - loss: 40.7291 - mae: 34.0310\n",
            "Epoch 40/500\n",
            "2/2 [==============================] - 0s 10ms/step - loss: 40.8667 - mae: 32.8144\n",
            "Epoch 41/500\n",
            "2/2 [==============================] - 0s 8ms/step - loss: 40.3723 - mae: 33.7317\n",
            "Epoch 42/500\n",
            "2/2 [==============================] - 0s 10ms/step - loss: 40.7192 - mae: 34.6981\n",
            "Epoch 43/500\n",
            "2/2 [==============================] - 0s 9ms/step - loss: 40.5514 - mae: 36.7507\n",
            "Epoch 44/500\n",
            "2/2 [==============================] - 0s 8ms/step - loss: 41.0088 - mae: 30.1531\n",
            "Epoch 45/500\n",
            "2/2 [==============================] - 0s 10ms/step - loss: 41.0473 - mae: 30.9528\n",
            "Epoch 46/500\n",
            "2/2 [==============================] - 0s 9ms/step - loss: 40.6984 - mae: 33.3712\n",
            "Epoch 47/500\n",
            "2/2 [==============================] - 0s 8ms/step - loss: 40.7127 - mae: 34.6272\n",
            "Epoch 48/500\n",
            "2/2 [==============================] - 0s 10ms/step - loss: 40.6669 - mae: 37.2257\n",
            "Epoch 49/500\n",
            "2/2 [==============================] - 0s 11ms/step - loss: 40.6598 - mae: 37.0180\n",
            "Epoch 50/500\n",
            "2/2 [==============================] - 0s 12ms/step - loss: 40.5705 - mae: 35.1760\n",
            "Epoch 51/500\n",
            "2/2 [==============================] - 0s 9ms/step - loss: 40.6724 - mae: 37.2093\n",
            "Epoch 52/500\n",
            "2/2 [==============================] - 0s 9ms/step - loss: 40.5827 - mae: 35.2692\n",
            "Epoch 53/500\n",
            "2/2 [==============================] - 0s 9ms/step - loss: 40.3819 - mae: 28.1363\n",
            "Epoch 54/500\n",
            "2/2 [==============================] - 0s 9ms/step - loss: 43.4713 - mae: 18.3408\n",
            "Epoch 55/500\n",
            "2/2 [==============================] - 0s 9ms/step - loss: 43.7360 - mae: 18.6917\n",
            "Epoch 56/500\n",
            "2/2 [==============================] - 0s 8ms/step - loss: 40.8486 - mae: 29.7977\n",
            "Epoch 57/500\n",
            "2/2 [==============================] - 0s 9ms/step - loss: 40.4308 - mae: 33.6211\n",
            "Epoch 58/500\n",
            "2/2 [==============================] - 0s 9ms/step - loss: 40.6553 - mae: 35.4053\n",
            "Epoch 59/500\n",
            "2/2 [==============================] - 0s 10ms/step - loss: 40.7654 - mae: 35.5203\n",
            "Epoch 60/500\n",
            "2/2 [==============================] - 0s 10ms/step - loss: 40.7063 - mae: 35.2049\n",
            "Epoch 61/500\n",
            "2/2 [==============================] - 0s 10ms/step - loss: 40.7001 - mae: 35.6283\n",
            "Epoch 62/500\n",
            "2/2 [==============================] - 0s 9ms/step - loss: 40.7241 - mae: 36.2244\n",
            "Epoch 63/500\n",
            "2/2 [==============================] - 0s 11ms/step - loss: 40.6357 - mae: 35.5602\n",
            "Epoch 64/500\n",
            "2/2 [==============================] - 0s 9ms/step - loss: 40.7643 - mae: 33.8843\n",
            "Epoch 65/500\n",
            "2/2 [==============================] - 0s 10ms/step - loss: 40.6803 - mae: 34.9670\n",
            "Epoch 66/500\n",
            "2/2 [==============================] - 0s 11ms/step - loss: 40.7990 - mae: 33.5553\n",
            "Epoch 67/500\n",
            "2/2 [==============================] - 0s 10ms/step - loss: 40.7263 - mae: 34.5326\n",
            "Epoch 68/500\n",
            "2/2 [==============================] - 0s 9ms/step - loss: 40.6659 - mae: 34.9975\n",
            "Epoch 69/500\n",
            "2/2 [==============================] - 0s 9ms/step - loss: 40.7258 - mae: 35.0045\n",
            "Epoch 70/500\n",
            "2/2 [==============================] - 0s 10ms/step - loss: 40.6341 - mae: 35.2960\n",
            "Epoch 71/500\n",
            "2/2 [==============================] - 0s 10ms/step - loss: 40.6535 - mae: 36.4364\n",
            "Epoch 72/500\n",
            "2/2 [==============================] - 0s 11ms/step - loss: 40.7007 - mae: 36.3169\n",
            "Epoch 73/500\n",
            "2/2 [==============================] - 0s 10ms/step - loss: 40.6787 - mae: 37.4336\n",
            "Epoch 74/500\n",
            "2/2 [==============================] - 0s 12ms/step - loss: 40.6937 - mae: 37.2025\n",
            "Epoch 75/500\n",
            "2/2 [==============================] - 0s 9ms/step - loss: 40.7122 - mae: 37.5980\n",
            "Epoch 76/500\n",
            "2/2 [==============================] - 0s 11ms/step - loss: 40.6623 - mae: 37.1778\n",
            "Epoch 77/500\n",
            "2/2 [==============================] - 0s 8ms/step - loss: 40.7193 - mae: 38.1443\n",
            "Epoch 78/500\n",
            "2/2 [==============================] - 0s 11ms/step - loss: 40.4568 - mae: 37.8112\n",
            "Epoch 79/500\n",
            "2/2 [==============================] - 0s 8ms/step - loss: 40.5090 - mae: 33.1103\n",
            "Epoch 80/500\n",
            "2/2 [==============================] - 0s 9ms/step - loss: 41.1590 - mae: 29.3339\n",
            "Epoch 81/500\n",
            "2/2 [==============================] - 0s 8ms/step - loss: 39.9472 - mae: 32.6008\n",
            "Epoch 82/500\n",
            "2/2 [==============================] - 0s 8ms/step - loss: 40.6467 - mae: 33.1119\n",
            "Epoch 83/500\n",
            "2/2 [==============================] - 0s 8ms/step - loss: 40.6609 - mae: 35.3221\n",
            "Epoch 84/500\n",
            "2/2 [==============================] - 0s 9ms/step - loss: 40.6871 - mae: 35.5298\n",
            "Epoch 85/500\n",
            "2/2 [==============================] - 0s 9ms/step - loss: 40.7113 - mae: 35.9395\n",
            "Epoch 86/500\n",
            "2/2 [==============================] - 0s 9ms/step - loss: 40.7229 - mae: 36.4107\n",
            "Epoch 87/500\n",
            "2/2 [==============================] - 0s 9ms/step - loss: 40.6891 - mae: 36.4247\n",
            "Epoch 88/500\n",
            "2/2 [==============================] - 0s 9ms/step - loss: 40.7122 - mae: 36.3504\n",
            "Epoch 89/500\n",
            "2/2 [==============================] - 0s 13ms/step - loss: 40.7092 - mae: 37.3627\n",
            "Epoch 90/500\n",
            "2/2 [==============================] - 0s 11ms/step - loss: 40.6939 - mae: 37.5221\n",
            "Epoch 91/500\n",
            "2/2 [==============================] - 0s 11ms/step - loss: 40.6726 - mae: 37.3851\n",
            "Epoch 92/500\n",
            "2/2 [==============================] - 0s 9ms/step - loss: 40.6915 - mae: 37.2156\n",
            "Epoch 93/500\n",
            "2/2 [==============================] - 0s 9ms/step - loss: 40.6432 - mae: 37.1643\n",
            "Epoch 94/500\n",
            "2/2 [==============================] - 0s 8ms/step - loss: 40.6933 - mae: 36.2058\n",
            "Epoch 95/500\n",
            "2/2 [==============================] - 0s 9ms/step - loss: 40.7463 - mae: 35.4705\n",
            "Epoch 96/500\n",
            "2/2 [==============================] - 0s 9ms/step - loss: 40.5851 - mae: 34.9676\n",
            "Epoch 97/500\n",
            "2/2 [==============================] - 0s 14ms/step - loss: 40.7053 - mae: 35.8179\n",
            "Epoch 98/500\n",
            "2/2 [==============================] - 0s 13ms/step - loss: 40.6644 - mae: 36.4614\n",
            "Epoch 99/500\n",
            "2/2 [==============================] - 0s 10ms/step - loss: 40.6697 - mae: 36.4909\n",
            "Epoch 100/500\n",
            "2/2 [==============================] - 0s 9ms/step - loss: 40.7158 - mae: 35.3936\n",
            "Epoch 101/500\n",
            "2/2 [==============================] - 0s 9ms/step - loss: 40.6925 - mae: 36.0203\n",
            "Epoch 102/500\n",
            "2/2 [==============================] - 0s 11ms/step - loss: 40.5078 - mae: 36.6082\n",
            "Epoch 103/500\n",
            "2/2 [==============================] - 0s 9ms/step - loss: 40.5923 - mae: 36.9917\n",
            "Epoch 104/500\n",
            "2/2 [==============================] - 0s 9ms/step - loss: 40.7002 - mae: 35.4245\n",
            "Epoch 105/500\n",
            "2/2 [==============================] - 0s 9ms/step - loss: 40.6519 - mae: 36.1778\n",
            "Epoch 106/500\n",
            "2/2 [==============================] - 0s 9ms/step - loss: 40.6406 - mae: 36.2719\n",
            "Epoch 107/500\n",
            "2/2 [==============================] - 0s 9ms/step - loss: 40.6911 - mae: 34.9426\n",
            "Epoch 108/500\n",
            "2/2 [==============================] - 0s 11ms/step - loss: 40.7282 - mae: 34.3429\n",
            "Epoch 109/500\n",
            "2/2 [==============================] - 0s 9ms/step - loss: 40.6473 - mae: 33.3843\n",
            "Epoch 110/500\n",
            "2/2 [==============================] - 0s 9ms/step - loss: 40.6952 - mae: 34.6944\n",
            "Epoch 111/500\n",
            "2/2 [==============================] - 0s 9ms/step - loss: 40.6224 - mae: 34.9978\n",
            "Epoch 112/500\n",
            "2/2 [==============================] - 0s 9ms/step - loss: 40.4492 - mae: 35.2775\n",
            "Epoch 113/500\n",
            "2/2 [==============================] - 0s 9ms/step - loss: 40.4920 - mae: 32.4283\n",
            "Epoch 114/500\n",
            "2/2 [==============================] - 0s 9ms/step - loss: 41.0412 - mae: 31.0519\n",
            "Epoch 115/500\n",
            "2/2 [==============================] - 0s 10ms/step - loss: 40.9218 - mae: 31.7431\n",
            "Epoch 116/500\n",
            "2/2 [==============================] - 0s 10ms/step - loss: 40.6542 - mae: 33.0849\n",
            "Epoch 117/500\n",
            "2/2 [==============================] - 0s 9ms/step - loss: 40.5787 - mae: 34.5377\n",
            "Epoch 118/500\n",
            "2/2 [==============================] - 0s 9ms/step - loss: 40.5588 - mae: 35.0917\n",
            "Epoch 119/500\n",
            "2/2 [==============================] - 0s 10ms/step - loss: 40.0684 - mae: 35.9258\n",
            "Epoch 120/500\n",
            "2/2 [==============================] - 0s 9ms/step - loss: 41.3093 - mae: 28.0952\n",
            "Epoch 121/500\n",
            "2/2 [==============================] - 0s 10ms/step - loss: 39.9526 - mae: 32.1033\n",
            "Epoch 122/500\n",
            "2/2 [==============================] - 0s 10ms/step - loss: 41.2282 - mae: 25.0146\n",
            "Epoch 123/500\n",
            "2/2 [==============================] - 0s 13ms/step - loss: 41.9660 - mae: 24.5357\n",
            "Epoch 124/500\n",
            "2/2 [==============================] - 0s 9ms/step - loss: 41.3588 - mae: 27.8544\n",
            "Epoch 125/500\n",
            "2/2 [==============================] - 0s 9ms/step - loss: 40.6465 - mae: 30.5729\n",
            "Epoch 126/500\n",
            "2/2 [==============================] - 0s 12ms/step - loss: 40.8379 - mae: 32.6340\n",
            "Epoch 127/500\n",
            "2/2 [==============================] - 0s 9ms/step - loss: 40.2800 - mae: 33.4386\n",
            "Epoch 128/500\n",
            "2/2 [==============================] - 0s 9ms/step - loss: 41.3249 - mae: 28.5266\n",
            "Epoch 129/500\n",
            "2/2 [==============================] - 0s 10ms/step - loss: 40.4055 - mae: 30.3120\n",
            "Epoch 130/500\n",
            "2/2 [==============================] - 0s 10ms/step - loss: 41.2426 - mae: 28.8965\n",
            "Epoch 131/500\n",
            "2/2 [==============================] - 0s 10ms/step - loss: 40.8180 - mae: 30.8345\n",
            "Epoch 132/500\n",
            "2/2 [==============================] - 0s 9ms/step - loss: 40.8539 - mae: 31.5192\n",
            "Epoch 133/500\n",
            "2/2 [==============================] - 0s 10ms/step - loss: 40.5278 - mae: 32.8939\n",
            "Epoch 134/500\n",
            "2/2 [==============================] - 0s 9ms/step - loss: 41.0522 - mae: 30.1082\n",
            "Epoch 135/500\n",
            "2/2 [==============================] - 0s 15ms/step - loss: 40.7482 - mae: 32.7189\n",
            "Epoch 136/500\n",
            "2/2 [==============================] - 0s 9ms/step - loss: 40.7208 - mae: 33.2852\n",
            "Epoch 137/500\n",
            "2/2 [==============================] - 0s 10ms/step - loss: 40.0179 - mae: 32.6098\n",
            "Epoch 138/500\n",
            "2/2 [==============================] - 0s 9ms/step - loss: 40.4347 - mae: 32.2000\n",
            "Epoch 139/500\n",
            "2/2 [==============================] - 0s 10ms/step - loss: 40.8334 - mae: 32.5561\n",
            "Epoch 140/500\n",
            "2/2 [==============================] - 0s 12ms/step - loss: 40.7380 - mae: 33.4337\n",
            "Epoch 141/500\n",
            "2/2 [==============================] - 0s 9ms/step - loss: 40.1672 - mae: 33.9300\n",
            "Epoch 142/500\n",
            "2/2 [==============================] - 0s 14ms/step - loss: 40.6912 - mae: 30.3773\n",
            "Epoch 143/500\n",
            "2/2 [==============================] - 0s 10ms/step - loss: 40.5124 - mae: 28.1683\n",
            "Epoch 144/500\n",
            "2/2 [==============================] - 0s 10ms/step - loss: 40.6094 - mae: 30.9967\n",
            "Epoch 145/500\n",
            "2/2 [==============================] - 0s 12ms/step - loss: 41.4444 - mae: 26.5984\n",
            "Epoch 146/500\n",
            "2/2 [==============================] - 0s 9ms/step - loss: 39.9576 - mae: 31.6883\n",
            "Epoch 147/500\n",
            "2/2 [==============================] - 0s 9ms/step - loss: 40.2737 - mae: 32.5359\n",
            "Epoch 148/500\n",
            "2/2 [==============================] - 0s 9ms/step - loss: 40.6210 - mae: 30.5836\n",
            "Epoch 149/500\n",
            "2/2 [==============================] - 0s 10ms/step - loss: 40.7243 - mae: 32.4168\n",
            "Epoch 150/500\n",
            "2/2 [==============================] - 0s 10ms/step - loss: 40.0008 - mae: 33.5474\n",
            "Epoch 151/500\n",
            "2/2 [==============================] - 0s 10ms/step - loss: 41.0258 - mae: 30.6710\n",
            "Epoch 152/500\n",
            "2/2 [==============================] - 0s 10ms/step - loss: 40.8160 - mae: 32.3457\n",
            "Epoch 153/500\n",
            "2/2 [==============================] - 0s 10ms/step - loss: 40.3782 - mae: 31.9478\n",
            "Epoch 154/500\n",
            "2/2 [==============================] - 0s 10ms/step - loss: 40.8285 - mae: 32.4397\n",
            "Epoch 155/500\n",
            "2/2 [==============================] - 0s 10ms/step - loss: 40.6884 - mae: 33.6075\n",
            "Epoch 156/500\n",
            "2/2 [==============================] - 0s 10ms/step - loss: 40.4358 - mae: 33.0588\n",
            "Epoch 157/500\n",
            "2/2 [==============================] - 0s 11ms/step - loss: 40.7125 - mae: 31.5016\n",
            "Epoch 158/500\n",
            "2/2 [==============================] - 0s 12ms/step - loss: 40.4236 - mae: 32.3394\n",
            "Epoch 159/500\n",
            "2/2 [==============================] - 0s 10ms/step - loss: 40.6243 - mae: 34.1003\n",
            "Epoch 160/500\n",
            "2/2 [==============================] - 0s 12ms/step - loss: 40.7302 - mae: 33.9085\n",
            "Epoch 161/500\n",
            "2/2 [==============================] - 0s 10ms/step - loss: 40.6829 - mae: 33.8644\n",
            "Epoch 162/500\n",
            "2/2 [==============================] - 0s 11ms/step - loss: 40.6208 - mae: 34.4277\n",
            "Epoch 163/500\n",
            "2/2 [==============================] - 0s 13ms/step - loss: 40.7290 - mae: 33.5044\n",
            "Epoch 164/500\n",
            "2/2 [==============================] - 0s 10ms/step - loss: 40.4772 - mae: 34.1440\n",
            "Epoch 165/500\n",
            "2/2 [==============================] - 0s 9ms/step - loss: 40.6463 - mae: 35.3561\n",
            "Epoch 166/500\n",
            "2/2 [==============================] - 0s 9ms/step - loss: 40.5847 - mae: 35.4727\n",
            "Epoch 167/500\n",
            "2/2 [==============================] - 0s 12ms/step - loss: 40.7189 - mae: 34.5436\n",
            "Epoch 168/500\n",
            "2/2 [==============================] - 0s 11ms/step - loss: 40.6897 - mae: 35.2857\n",
            "Epoch 169/500\n",
            "2/2 [==============================] - 0s 11ms/step - loss: 40.6668 - mae: 35.5757\n",
            "Epoch 170/500\n",
            "2/2 [==============================] - 0s 10ms/step - loss: 40.6580 - mae: 35.5515\n",
            "Epoch 171/500\n",
            "2/2 [==============================] - 0s 10ms/step - loss: 40.6378 - mae: 35.4993\n",
            "Epoch 172/500\n",
            "2/2 [==============================] - 0s 10ms/step - loss: 40.5045 - mae: 35.6439\n",
            "Epoch 173/500\n",
            "2/2 [==============================] - 0s 10ms/step - loss: 40.7023 - mae: 33.5775\n",
            "Epoch 174/500\n",
            "2/2 [==============================] - 0s 10ms/step - loss: 40.5928 - mae: 35.0123\n",
            "Epoch 175/500\n",
            "2/2 [==============================] - 0s 9ms/step - loss: 40.5456 - mae: 34.6096\n",
            "Epoch 176/500\n",
            "2/2 [==============================] - 0s 9ms/step - loss: 40.7978 - mae: 33.4567\n",
            "Epoch 177/500\n",
            "2/2 [==============================] - 0s 10ms/step - loss: 40.7607 - mae: 33.3995\n",
            "Epoch 178/500\n",
            "2/2 [==============================] - 0s 11ms/step - loss: 40.6147 - mae: 33.8669\n",
            "Epoch 179/500\n",
            "2/2 [==============================] - 0s 9ms/step - loss: 40.0439 - mae: 34.5613\n",
            "Epoch 180/500\n",
            "2/2 [==============================] - 0s 10ms/step - loss: 40.6727 - mae: 34.0083\n",
            "Epoch 181/500\n",
            "2/2 [==============================] - 0s 10ms/step - loss: 40.7268 - mae: 33.3777\n",
            "Epoch 182/500\n",
            "2/2 [==============================] - 0s 12ms/step - loss: 40.5141 - mae: 32.6837\n",
            "Epoch 183/500\n",
            "2/2 [==============================] - 0s 13ms/step - loss: 39.8293 - mae: 33.7463\n",
            "Epoch 184/500\n",
            "2/2 [==============================] - 0s 10ms/step - loss: 41.4175 - mae: 27.1024\n",
            "Epoch 185/500\n",
            "2/2 [==============================] - 0s 10ms/step - loss: 40.7832 - mae: 31.3942\n",
            "Epoch 186/500\n",
            "2/2 [==============================] - 0s 9ms/step - loss: 40.4777 - mae: 30.9947\n",
            "Epoch 187/500\n",
            "2/2 [==============================] - 0s 12ms/step - loss: 40.6855 - mae: 33.0529\n",
            "Epoch 188/500\n",
            "2/2 [==============================] - 0s 10ms/step - loss: 40.2968 - mae: 32.0928\n",
            "Epoch 189/500\n",
            "2/2 [==============================] - 0s 14ms/step - loss: 40.7954 - mae: 32.8311\n",
            "Epoch 190/500\n",
            "2/2 [==============================] - 0s 13ms/step - loss: 40.7047 - mae: 34.6209\n",
            "Epoch 191/500\n",
            "2/2 [==============================] - 0s 13ms/step - loss: 40.5959 - mae: 34.8587\n",
            "Epoch 192/500\n",
            "2/2 [==============================] - 0s 12ms/step - loss: 40.3071 - mae: 35.4302\n",
            "Epoch 193/500\n",
            "2/2 [==============================] - 0s 9ms/step - loss: 40.5678 - mae: 33.0680\n",
            "Epoch 194/500\n",
            "2/2 [==============================] - 0s 9ms/step - loss: 40.6488 - mae: 34.2471\n",
            "Epoch 195/500\n",
            "2/2 [==============================] - 0s 10ms/step - loss: 40.5982 - mae: 34.9597\n",
            "Epoch 196/500\n",
            "2/2 [==============================] - 0s 10ms/step - loss: 39.4563 - mae: 33.9702\n",
            "Epoch 197/500\n",
            "2/2 [==============================] - 0s 10ms/step - loss: 40.9036 - mae: 32.0964\n",
            "Epoch 198/500\n",
            "2/2 [==============================] - 0s 9ms/step - loss: 40.4731 - mae: 32.3547\n",
            "Epoch 199/500\n",
            "2/2 [==============================] - 0s 10ms/step - loss: 40.9326 - mae: 30.9057\n",
            "Epoch 200/500\n",
            "2/2 [==============================] - 0s 9ms/step - loss: 40.8657 - mae: 32.0089\n",
            "Epoch 201/500\n",
            "2/2 [==============================] - 0s 9ms/step - loss: 40.1650 - mae: 33.4299\n",
            "Epoch 202/500\n",
            "2/2 [==============================] - 0s 9ms/step - loss: 41.0739 - mae: 29.7133\n",
            "Epoch 203/500\n",
            "2/2 [==============================] - 0s 9ms/step - loss: 40.7510 - mae: 32.5566\n",
            "Epoch 204/500\n",
            "2/2 [==============================] - 0s 9ms/step - loss: 40.7964 - mae: 33.0310\n",
            "Epoch 205/500\n",
            "2/2 [==============================] - 0s 10ms/step - loss: 40.6240 - mae: 33.9836\n",
            "Epoch 206/500\n",
            "2/2 [==============================] - 0s 10ms/step - loss: 40.6997 - mae: 34.8742\n",
            "Epoch 207/500\n",
            "2/2 [==============================] - 0s 10ms/step - loss: 40.4820 - mae: 35.4818\n",
            "Epoch 208/500\n",
            "2/2 [==============================] - 0s 9ms/step - loss: 40.6655 - mae: 33.5513\n",
            "Epoch 209/500\n",
            "2/2 [==============================] - 0s 14ms/step - loss: 40.0537 - mae: 33.9446\n",
            "Epoch 210/500\n",
            "2/2 [==============================] - 0s 10ms/step - loss: 41.0515 - mae: 30.5182\n",
            "Epoch 211/500\n",
            "2/2 [==============================] - 0s 10ms/step - loss: 40.8547 - mae: 31.0995\n",
            "Epoch 212/500\n",
            "2/2 [==============================] - 0s 9ms/step - loss: 40.6486 - mae: 33.0116\n",
            "Epoch 213/500\n",
            "2/2 [==============================] - 0s 9ms/step - loss: 40.6810 - mae: 34.4907\n",
            "Epoch 214/500\n",
            "2/2 [==============================] - 0s 11ms/step - loss: 40.6610 - mae: 34.5578\n",
            "Epoch 215/500\n",
            "2/2 [==============================] - 0s 13ms/step - loss: 40.6789 - mae: 33.9431\n",
            "Epoch 216/500\n",
            "2/2 [==============================] - 0s 9ms/step - loss: 40.5569 - mae: 34.8976\n",
            "Epoch 217/500\n",
            "2/2 [==============================] - 0s 11ms/step - loss: 39.8872 - mae: 34.0626\n",
            "Epoch 218/500\n",
            "2/2 [==============================] - 0s 9ms/step - loss: 40.3920 - mae: 33.4853\n",
            "Epoch 219/500\n",
            "2/2 [==============================] - 0s 9ms/step - loss: 40.7169 - mae: 34.4035\n",
            "Epoch 220/500\n",
            "2/2 [==============================] - 0s 9ms/step - loss: 39.9616 - mae: 34.2652\n",
            "Epoch 221/500\n",
            "2/2 [==============================] - 0s 9ms/step - loss: 40.9833 - mae: 30.2988\n",
            "Epoch 222/500\n",
            "2/2 [==============================] - 0s 9ms/step - loss: 40.7671 - mae: 30.0171\n",
            "Epoch 223/500\n",
            "2/2 [==============================] - 0s 10ms/step - loss: 40.0490 - mae: 32.0423\n",
            "Epoch 224/500\n",
            "2/2 [==============================] - 0s 9ms/step - loss: 40.7419 - mae: 32.6264\n",
            "Epoch 225/500\n",
            "2/2 [==============================] - 0s 9ms/step - loss: 40.6610 - mae: 32.2777\n",
            "Epoch 226/500\n",
            "2/2 [==============================] - 0s 9ms/step - loss: 40.8482 - mae: 32.1773\n",
            "Epoch 227/500\n",
            "2/2 [==============================] - 0s 9ms/step - loss: 40.7626 - mae: 31.8395\n",
            "Epoch 228/500\n",
            "2/2 [==============================] - 0s 10ms/step - loss: 40.4180 - mae: 33.6722\n",
            "Epoch 229/500\n",
            "2/2 [==============================] - 0s 10ms/step - loss: 40.6854 - mae: 34.1363\n",
            "Epoch 230/500\n",
            "2/2 [==============================] - 0s 10ms/step - loss: 40.3982 - mae: 34.9740\n",
            "Epoch 231/500\n",
            "2/2 [==============================] - 0s 10ms/step - loss: 40.8022 - mae: 32.6936\n",
            "Epoch 232/500\n",
            "2/2 [==============================] - 0s 10ms/step - loss: 40.7360 - mae: 33.6232\n",
            "Epoch 233/500\n",
            "2/2 [==============================] - 0s 10ms/step - loss: 40.7198 - mae: 34.1625\n",
            "Epoch 234/500\n",
            "2/2 [==============================] - 0s 10ms/step - loss: 40.4239 - mae: 34.6764\n",
            "Epoch 235/500\n",
            "2/2 [==============================] - 0s 9ms/step - loss: 40.6623 - mae: 33.9614\n",
            "Epoch 236/500\n",
            "2/2 [==============================] - 0s 10ms/step - loss: 40.6241 - mae: 34.2225\n",
            "Epoch 237/500\n",
            "2/2 [==============================] - 0s 10ms/step - loss: 40.4033 - mae: 34.9104\n",
            "Epoch 238/500\n",
            "2/2 [==============================] - 0s 9ms/step - loss: 40.6689 - mae: 34.8700\n",
            "Epoch 239/500\n",
            "2/2 [==============================] - 0s 10ms/step - loss: 40.6615 - mae: 35.3595\n",
            "Epoch 240/500\n",
            "2/2 [==============================] - 0s 10ms/step - loss: 40.6182 - mae: 35.4510\n",
            "Epoch 241/500\n",
            "2/2 [==============================] - 0s 10ms/step - loss: 40.6436 - mae: 35.4958\n",
            "Epoch 242/500\n",
            "2/2 [==============================] - 0s 10ms/step - loss: 40.6133 - mae: 36.2172\n",
            "Epoch 243/500\n",
            "2/2 [==============================] - 0s 10ms/step - loss: 40.4301 - mae: 35.9367\n",
            "Epoch 244/500\n",
            "2/2 [==============================] - 0s 14ms/step - loss: 40.6516 - mae: 36.1902\n",
            "Epoch 245/500\n",
            "2/2 [==============================] - 0s 9ms/step - loss: 40.6371 - mae: 35.6784\n",
            "Epoch 246/500\n",
            "2/2 [==============================] - 0s 18ms/step - loss: 40.5958 - mae: 36.3486\n",
            "Epoch 247/500\n",
            "2/2 [==============================] - 0s 11ms/step - loss: 40.6426 - mae: 35.1749\n",
            "Epoch 248/500\n",
            "2/2 [==============================] - 0s 13ms/step - loss: 40.6629 - mae: 35.3548\n",
            "Epoch 249/500\n",
            "2/2 [==============================] - 0s 12ms/step - loss: 40.5497 - mae: 35.4873\n",
            "Epoch 250/500\n",
            "2/2 [==============================] - 0s 9ms/step - loss: 40.6103 - mae: 33.9592\n",
            "Epoch 251/500\n",
            "2/2 [==============================] - 0s 9ms/step - loss: 40.2275 - mae: 34.3607\n",
            "Epoch 252/500\n",
            "2/2 [==============================] - 0s 9ms/step - loss: 40.9466 - mae: 31.1811\n",
            "Epoch 253/500\n",
            "2/2 [==============================] - 0s 10ms/step - loss: 40.8184 - mae: 31.1555\n",
            "Epoch 254/500\n",
            "2/2 [==============================] - 0s 9ms/step - loss: 40.5343 - mae: 33.1755\n",
            "Epoch 255/500\n",
            "2/2 [==============================] - 0s 10ms/step - loss: 40.9178 - mae: 31.0503\n",
            "Epoch 256/500\n",
            "2/2 [==============================] - 0s 10ms/step - loss: 40.5068 - mae: 32.0024\n",
            "Epoch 257/500\n",
            "2/2 [==============================] - 0s 10ms/step - loss: 40.7375 - mae: 32.6017\n",
            "Epoch 258/500\n",
            "2/2 [==============================] - 0s 18ms/step - loss: 40.6402 - mae: 33.7969\n",
            "Epoch 259/500\n",
            "2/2 [==============================] - 0s 9ms/step - loss: 40.4065 - mae: 33.5805\n",
            "Epoch 260/500\n",
            "2/2 [==============================] - 0s 10ms/step - loss: 40.8570 - mae: 31.1666\n",
            "Epoch 261/500\n",
            "2/2 [==============================] - 0s 11ms/step - loss: 40.1154 - mae: 30.4386\n",
            "Epoch 262/500\n",
            "2/2 [==============================] - 0s 11ms/step - loss: 40.1666 - mae: 30.8579\n",
            "Epoch 263/500\n",
            "2/2 [==============================] - 0s 8ms/step - loss: 40.8874 - mae: 31.6079\n",
            "Epoch 264/500\n",
            "2/2 [==============================] - 0s 10ms/step - loss: 39.9891 - mae: 32.2841\n",
            "Epoch 265/500\n",
            "2/2 [==============================] - 0s 8ms/step - loss: 40.4212 - mae: 32.5210\n",
            "Epoch 266/500\n",
            "2/2 [==============================] - 0s 9ms/step - loss: 40.6217 - mae: 33.4565\n",
            "Epoch 267/500\n",
            "2/2 [==============================] - 0s 11ms/step - loss: 40.6458 - mae: 35.1094\n",
            "Epoch 268/500\n",
            "2/2 [==============================] - 0s 9ms/step - loss: 40.4172 - mae: 34.7184\n",
            "Epoch 269/500\n",
            "2/2 [==============================] - 0s 10ms/step - loss: 40.7931 - mae: 32.4927\n",
            "Epoch 270/500\n",
            "2/2 [==============================] - 0s 12ms/step - loss: 40.0018 - mae: 33.3304\n",
            "Epoch 271/500\n",
            "2/2 [==============================] - 0s 9ms/step - loss: 40.4199 - mae: 33.7347\n",
            "Epoch 272/500\n",
            "2/2 [==============================] - 0s 8ms/step - loss: 40.7304 - mae: 32.7414\n",
            "Epoch 273/500\n",
            "2/2 [==============================] - 0s 13ms/step - loss: 40.5819 - mae: 34.4309\n",
            "Epoch 274/500\n",
            "2/2 [==============================] - 0s 13ms/step - loss: 39.9022 - mae: 35.0259\n",
            "Epoch 275/500\n",
            "2/2 [==============================] - 0s 9ms/step - loss: 41.1276 - mae: 29.6823\n",
            "Epoch 276/500\n",
            "2/2 [==============================] - 0s 10ms/step - loss: 40.9453 - mae: 31.0103\n",
            "Epoch 277/500\n",
            "2/2 [==============================] - 0s 9ms/step - loss: 40.2287 - mae: 32.6366\n",
            "Epoch 278/500\n",
            "2/2 [==============================] - 0s 9ms/step - loss: 40.7949 - mae: 33.0404\n",
            "Epoch 279/500\n",
            "2/2 [==============================] - 0s 8ms/step - loss: 40.6673 - mae: 32.8723\n",
            "Epoch 280/500\n",
            "2/2 [==============================] - 0s 8ms/step - loss: 40.8551 - mae: 32.0607\n",
            "Epoch 281/500\n",
            "2/2 [==============================] - 0s 9ms/step - loss: 40.7105 - mae: 33.1124\n",
            "Epoch 282/500\n",
            "2/2 [==============================] - 0s 9ms/step - loss: 40.6970 - mae: 33.3498\n",
            "Epoch 283/500\n",
            "2/2 [==============================] - 0s 9ms/step - loss: 40.5541 - mae: 34.7772\n",
            "Epoch 284/500\n",
            "2/2 [==============================] - 0s 10ms/step - loss: 40.6061 - mae: 34.3099\n",
            "Epoch 285/500\n",
            "2/2 [==============================] - 0s 10ms/step - loss: 40.5251 - mae: 34.2707\n",
            "Epoch 286/500\n",
            "2/2 [==============================] - 0s 9ms/step - loss: 40.4892 - mae: 33.0685\n",
            "Epoch 287/500\n",
            "2/2 [==============================] - 0s 11ms/step - loss: 40.8960 - mae: 31.4549\n",
            "Epoch 288/500\n",
            "2/2 [==============================] - 0s 14ms/step - loss: 40.6870 - mae: 32.6649\n",
            "Epoch 289/500\n",
            "2/2 [==============================] - 0s 18ms/step - loss: 40.7030 - mae: 33.9673\n",
            "Epoch 290/500\n",
            "2/2 [==============================] - 0s 9ms/step - loss: 40.6526 - mae: 34.8033\n",
            "Epoch 291/500\n",
            "2/2 [==============================] - 0s 9ms/step - loss: 40.5856 - mae: 34.9115\n",
            "Epoch 292/500\n",
            "2/2 [==============================] - 0s 10ms/step - loss: 40.3996 - mae: 35.9611\n",
            "Epoch 293/500\n",
            "2/2 [==============================] - 0s 10ms/step - loss: 40.4571 - mae: 33.6937\n",
            "Epoch 294/500\n",
            "2/2 [==============================] - 0s 9ms/step - loss: 40.8132 - mae: 32.6102\n",
            "Epoch 295/500\n",
            "2/2 [==============================] - 0s 9ms/step - loss: 40.7250 - mae: 33.5356\n",
            "Epoch 296/500\n",
            "2/2 [==============================] - 0s 9ms/step - loss: 40.5310 - mae: 33.5464\n",
            "Epoch 297/500\n",
            "2/2 [==============================] - 0s 11ms/step - loss: 40.6525 - mae: 34.2322\n",
            "Epoch 298/500\n",
            "2/2 [==============================] - 0s 13ms/step - loss: 40.6775 - mae: 33.7434\n",
            "Epoch 299/500\n",
            "2/2 [==============================] - 0s 16ms/step - loss: 40.4076 - mae: 34.3465\n",
            "Epoch 300/500\n",
            "2/2 [==============================] - 0s 10ms/step - loss: 40.4882 - mae: 32.2961\n",
            "Epoch 301/500\n",
            "2/2 [==============================] - 0s 15ms/step - loss: 40.5437 - mae: 29.7469\n",
            "Epoch 302/500\n",
            "2/2 [==============================] - 0s 10ms/step - loss: 40.8467 - mae: 31.5861\n",
            "Epoch 303/500\n",
            "2/2 [==============================] - 0s 11ms/step - loss: 40.9679 - mae: 30.8917\n",
            "Epoch 304/500\n",
            "2/2 [==============================] - 0s 9ms/step - loss: 39.9304 - mae: 31.4816\n",
            "Epoch 305/500\n",
            "2/2 [==============================] - 0s 12ms/step - loss: 40.8828 - mae: 31.2938\n",
            "Epoch 306/500\n",
            "2/2 [==============================] - 0s 9ms/step - loss: 40.7477 - mae: 32.2157\n",
            "Epoch 307/500\n",
            "2/2 [==============================] - 0s 13ms/step - loss: 40.6560 - mae: 33.6098\n",
            "Epoch 308/500\n",
            "2/2 [==============================] - 0s 11ms/step - loss: 40.7003 - mae: 33.9624\n",
            "Epoch 309/500\n",
            "2/2 [==============================] - 0s 9ms/step - loss: 40.6737 - mae: 34.6128\n",
            "Epoch 310/500\n",
            "2/2 [==============================] - 0s 7ms/step - loss: 40.5861 - mae: 35.0469\n",
            "Epoch 311/500\n",
            "2/2 [==============================] - 0s 9ms/step - loss: 40.1165 - mae: 35.7460\n",
            "Epoch 312/500\n",
            "2/2 [==============================] - 0s 8ms/step - loss: 40.8049 - mae: 31.7749\n",
            "Epoch 313/500\n",
            "2/2 [==============================] - 0s 11ms/step - loss: 39.7235 - mae: 31.1630\n",
            "Epoch 314/500\n",
            "2/2 [==============================] - 0s 7ms/step - loss: 40.8500 - mae: 31.5019\n",
            "Epoch 315/500\n",
            "2/2 [==============================] - 0s 10ms/step - loss: 40.7723 - mae: 32.4696\n",
            "Epoch 316/500\n",
            "2/2 [==============================] - 0s 13ms/step - loss: 40.0641 - mae: 34.1976\n",
            "Epoch 317/500\n",
            "2/2 [==============================] - 0s 8ms/step - loss: 40.8807 - mae: 29.9238\n",
            "Epoch 318/500\n",
            "2/2 [==============================] - 0s 10ms/step - loss: 40.9464 - mae: 31.7954\n",
            "Epoch 319/500\n",
            "2/2 [==============================] - 0s 9ms/step - loss: 40.8682 - mae: 31.8950\n",
            "Epoch 320/500\n",
            "2/2 [==============================] - 0s 8ms/step - loss: 40.7116 - mae: 33.5950\n",
            "Epoch 321/500\n",
            "2/2 [==============================] - 0s 9ms/step - loss: 40.2134 - mae: 34.8570\n",
            "Epoch 322/500\n",
            "2/2 [==============================] - 0s 9ms/step - loss: 40.6598 - mae: 34.9388\n",
            "Epoch 323/500\n",
            "2/2 [==============================] - 0s 10ms/step - loss: 40.6593 - mae: 35.2570\n",
            "Epoch 324/500\n",
            "2/2 [==============================] - 0s 10ms/step - loss: 40.5709 - mae: 35.4359\n",
            "Epoch 325/500\n",
            "2/2 [==============================] - 0s 9ms/step - loss: 40.6085 - mae: 34.9295\n",
            "Epoch 326/500\n",
            "2/2 [==============================] - 0s 8ms/step - loss: 40.6050 - mae: 35.0777\n",
            "Epoch 327/500\n",
            "2/2 [==============================] - 0s 11ms/step - loss: 40.3188 - mae: 35.1934\n",
            "Epoch 328/500\n",
            "2/2 [==============================] - 0s 7ms/step - loss: 40.5870 - mae: 35.4425\n",
            "Epoch 329/500\n",
            "2/2 [==============================] - 0s 8ms/step - loss: 40.5440 - mae: 35.8571\n",
            "Epoch 330/500\n",
            "2/2 [==============================] - 0s 9ms/step - loss: 40.5814 - mae: 36.1727\n",
            "Epoch 331/500\n",
            "2/2 [==============================] - 0s 10ms/step - loss: 40.3669 - mae: 35.5593\n",
            "Epoch 332/500\n",
            "2/2 [==============================] - 0s 9ms/step - loss: 40.6602 - mae: 33.9547\n",
            "Epoch 333/500\n",
            "2/2 [==============================] - 0s 8ms/step - loss: 40.6601 - mae: 34.2310\n",
            "Epoch 334/500\n",
            "2/2 [==============================] - 0s 10ms/step - loss: 40.4775 - mae: 34.5988\n",
            "Epoch 335/500\n",
            "2/2 [==============================] - 0s 10ms/step - loss: 40.0123 - mae: 35.1949\n",
            "Epoch 336/500\n",
            "2/2 [==============================] - 0s 9ms/step - loss: 40.8206 - mae: 31.8974\n",
            "Epoch 337/500\n",
            "2/2 [==============================] - 0s 10ms/step - loss: 40.3065 - mae: 33.0687\n",
            "Epoch 338/500\n",
            "2/2 [==============================] - 0s 10ms/step - loss: 40.4681 - mae: 33.0990\n",
            "Epoch 339/500\n",
            "2/2 [==============================] - 0s 10ms/step - loss: 40.4868 - mae: 33.5440\n",
            "Epoch 340/500\n",
            "2/2 [==============================] - 0s 13ms/step - loss: 40.7126 - mae: 33.9673\n",
            "Epoch 341/500\n",
            "2/2 [==============================] - 0s 14ms/step - loss: 40.4528 - mae: 34.6063\n",
            "Epoch 342/500\n",
            "2/2 [==============================] - 0s 12ms/step - loss: 40.1313 - mae: 35.3339\n",
            "Epoch 343/500\n",
            "2/2 [==============================] - 0s 12ms/step - loss: 40.1574 - mae: 34.8901\n",
            "Epoch 344/500\n",
            "2/2 [==============================] - 0s 9ms/step - loss: 39.6011 - mae: 35.2089\n",
            "Epoch 345/500\n",
            "2/2 [==============================] - 0s 8ms/step - loss: 41.3969 - mae: 27.5518\n",
            "Epoch 346/500\n",
            "2/2 [==============================] - 0s 9ms/step - loss: 40.9175 - mae: 30.4109\n",
            "Epoch 347/500\n",
            "2/2 [==============================] - 0s 15ms/step - loss: 40.9455 - mae: 30.6851\n",
            "Epoch 348/500\n",
            "2/2 [==============================] - 0s 8ms/step - loss: 40.6516 - mae: 32.9720\n",
            "Epoch 349/500\n",
            "2/2 [==============================] - 0s 8ms/step - loss: 40.6849 - mae: 34.3039\n",
            "Epoch 350/500\n",
            "2/2 [==============================] - 0s 13ms/step - loss: 39.7836 - mae: 34.5415\n",
            "Epoch 351/500\n",
            "2/2 [==============================] - 0s 8ms/step - loss: 40.8916 - mae: 29.6081\n",
            "Epoch 352/500\n",
            "2/2 [==============================] - 0s 8ms/step - loss: 40.9913 - mae: 30.4866\n",
            "Epoch 353/500\n",
            "2/2 [==============================] - 0s 17ms/step - loss: 40.7701 - mae: 32.2340\n",
            "Epoch 354/500\n",
            "2/2 [==============================] - 0s 12ms/step - loss: 40.6371 - mae: 33.5494\n",
            "Epoch 355/500\n",
            "2/2 [==============================] - 0s 11ms/step - loss: 40.5579 - mae: 34.4609\n",
            "Epoch 356/500\n",
            "2/2 [==============================] - 0s 10ms/step - loss: 40.3163 - mae: 35.1271\n",
            "Epoch 357/500\n",
            "2/2 [==============================] - 0s 12ms/step - loss: 40.2484 - mae: 32.4331\n",
            "Epoch 358/500\n",
            "2/2 [==============================] - 0s 10ms/step - loss: 40.9768 - mae: 30.7280\n",
            "Epoch 359/500\n",
            "2/2 [==============================] - 0s 10ms/step - loss: 40.4106 - mae: 32.2308\n",
            "Epoch 360/500\n",
            "2/2 [==============================] - 0s 13ms/step - loss: 40.7745 - mae: 30.8441\n",
            "Epoch 361/500\n",
            "2/2 [==============================] - 0s 13ms/step - loss: 40.6538 - mae: 33.0225\n",
            "Epoch 362/500\n",
            "2/2 [==============================] - 0s 9ms/step - loss: 40.6181 - mae: 33.0661\n",
            "Epoch 363/500\n",
            "2/2 [==============================] - 0s 11ms/step - loss: 40.3233 - mae: 32.3563\n",
            "Epoch 364/500\n",
            "2/2 [==============================] - 0s 10ms/step - loss: 40.9925 - mae: 29.0996\n",
            "Epoch 365/500\n",
            "2/2 [==============================] - 0s 10ms/step - loss: 40.4137 - mae: 31.6736\n",
            "Epoch 366/500\n",
            "2/2 [==============================] - 0s 10ms/step - loss: 40.0213 - mae: 33.3335\n",
            "Epoch 367/500\n",
            "2/2 [==============================] - 0s 11ms/step - loss: 41.0390 - mae: 29.7496\n",
            "Epoch 368/500\n",
            "2/2 [==============================] - 0s 11ms/step - loss: 40.7410 - mae: 30.9822\n",
            "Epoch 369/500\n",
            "2/2 [==============================] - 0s 9ms/step - loss: 40.7334 - mae: 33.3616\n",
            "Epoch 370/500\n",
            "2/2 [==============================] - 0s 8ms/step - loss: 40.6769 - mae: 33.8663\n",
            "Epoch 371/500\n",
            "2/2 [==============================] - 0s 9ms/step - loss: 40.5047 - mae: 34.1271\n",
            "Epoch 372/500\n",
            "2/2 [==============================] - 0s 9ms/step - loss: 40.5490 - mae: 35.0801\n",
            "Epoch 373/500\n",
            "2/2 [==============================] - 0s 9ms/step - loss: 40.6672 - mae: 34.3800\n",
            "Epoch 374/500\n",
            "2/2 [==============================] - 0s 12ms/step - loss: 40.5672 - mae: 34.7040\n",
            "Epoch 375/500\n",
            "2/2 [==============================] - 0s 9ms/step - loss: 40.5106 - mae: 35.3951\n",
            "Epoch 376/500\n",
            "2/2 [==============================] - 0s 9ms/step - loss: 40.2291 - mae: 35.8063\n",
            "Epoch 377/500\n",
            "2/2 [==============================] - 0s 9ms/step - loss: 40.4532 - mae: 35.8113\n",
            "Epoch 378/500\n",
            "2/2 [==============================] - 0s 8ms/step - loss: 40.5321 - mae: 35.4102\n",
            "Epoch 379/500\n",
            "2/2 [==============================] - 0s 11ms/step - loss: 40.5318 - mae: 34.8637\n",
            "Epoch 380/500\n",
            "2/2 [==============================] - 0s 9ms/step - loss: 40.6878 - mae: 33.8359\n",
            "Epoch 381/500\n",
            "2/2 [==============================] - 0s 12ms/step - loss: 40.5955 - mae: 35.4755\n",
            "Epoch 382/500\n",
            "2/2 [==============================] - 0s 12ms/step - loss: 40.5382 - mae: 35.5895\n",
            "Epoch 383/500\n",
            "2/2 [==============================] - 0s 12ms/step - loss: 40.4315 - mae: 35.1293\n",
            "Epoch 384/500\n",
            "2/2 [==============================] - 0s 11ms/step - loss: 40.1051 - mae: 35.1551\n",
            "Epoch 385/500\n",
            "2/2 [==============================] - 0s 12ms/step - loss: 40.6376 - mae: 34.9350\n",
            "Epoch 386/500\n",
            "2/2 [==============================] - 0s 8ms/step - loss: 40.6183 - mae: 35.0653\n",
            "Epoch 387/500\n",
            "2/2 [==============================] - 0s 8ms/step - loss: 40.6018 - mae: 35.8649\n",
            "Epoch 388/500\n",
            "2/2 [==============================] - 0s 9ms/step - loss: 40.6570 - mae: 35.6205\n",
            "Epoch 389/500\n",
            "2/2 [==============================] - 0s 9ms/step - loss: 40.3112 - mae: 35.4942\n",
            "Epoch 390/500\n",
            "2/2 [==============================] - 0s 9ms/step - loss: 40.8027 - mae: 32.3767\n",
            "Epoch 391/500\n",
            "2/2 [==============================] - 0s 10ms/step - loss: 40.7548 - mae: 33.2664\n",
            "Epoch 392/500\n",
            "2/2 [==============================] - 0s 11ms/step - loss: 40.4619 - mae: 34.5935\n",
            "Epoch 393/500\n",
            "2/2 [==============================] - 0s 10ms/step - loss: 40.6398 - mae: 34.8788\n",
            "Epoch 394/500\n",
            "2/2 [==============================] - 0s 9ms/step - loss: 40.4763 - mae: 35.5906\n",
            "Epoch 395/500\n",
            "2/2 [==============================] - 0s 9ms/step - loss: 40.6688 - mae: 34.2409\n",
            "Epoch 396/500\n",
            "2/2 [==============================] - 0s 9ms/step - loss: 40.4322 - mae: 34.7893\n",
            "Epoch 397/500\n",
            "2/2 [==============================] - 0s 8ms/step - loss: 40.5840 - mae: 35.0244\n",
            "Epoch 398/500\n",
            "2/2 [==============================] - 0s 8ms/step - loss: 40.6487 - mae: 34.4755\n",
            "Epoch 399/500\n",
            "2/2 [==============================] - 0s 9ms/step - loss: 40.4933 - mae: 35.1188\n",
            "Epoch 400/500\n",
            "2/2 [==============================] - 0s 9ms/step - loss: 40.7315 - mae: 33.4680\n",
            "Epoch 401/500\n",
            "2/2 [==============================] - 0s 9ms/step - loss: 39.9373 - mae: 34.2042\n",
            "Epoch 402/500\n",
            "2/2 [==============================] - 0s 8ms/step - loss: 40.4546 - mae: 29.2773\n",
            "Epoch 403/500\n",
            "2/2 [==============================] - 0s 9ms/step - loss: 40.1600 - mae: 31.6388\n",
            "Epoch 404/500\n",
            "2/2 [==============================] - 0s 8ms/step - loss: 41.3406 - mae: 27.6522\n",
            "Epoch 405/500\n",
            "2/2 [==============================] - 0s 9ms/step - loss: 40.7637 - mae: 31.5646\n",
            "Epoch 406/500\n",
            "2/2 [==============================] - 0s 9ms/step - loss: 40.7644 - mae: 32.7880\n",
            "Epoch 407/500\n",
            "2/2 [==============================] - 0s 11ms/step - loss: 40.6600 - mae: 33.9262\n",
            "Epoch 408/500\n",
            "2/2 [==============================] - 0s 9ms/step - loss: 40.1241 - mae: 34.6308\n",
            "Epoch 409/500\n",
            "2/2 [==============================] - 0s 12ms/step - loss: 40.8385 - mae: 30.3091\n",
            "Epoch 410/500\n",
            "2/2 [==============================] - 0s 9ms/step - loss: 40.8790 - mae: 31.2836\n",
            "Epoch 411/500\n",
            "2/2 [==============================] - 0s 13ms/step - loss: 40.6678 - mae: 32.3501\n",
            "Epoch 412/500\n",
            "2/2 [==============================] - 0s 9ms/step - loss: 40.7685 - mae: 32.1719\n",
            "Epoch 413/500\n",
            "2/2 [==============================] - 0s 11ms/step - loss: 40.8381 - mae: 32.4551\n",
            "Epoch 414/500\n",
            "2/2 [==============================] - 0s 8ms/step - loss: 40.6976 - mae: 32.3684\n",
            "Epoch 415/500\n",
            "2/2 [==============================] - 0s 9ms/step - loss: 40.6359 - mae: 33.9383\n",
            "Epoch 416/500\n",
            "2/2 [==============================] - 0s 9ms/step - loss: 40.6393 - mae: 35.0566\n",
            "Epoch 417/500\n",
            "2/2 [==============================] - 0s 8ms/step - loss: 40.6167 - mae: 35.4746\n",
            "Epoch 418/500\n",
            "2/2 [==============================] - 0s 8ms/step - loss: 40.6224 - mae: 35.2383\n",
            "Epoch 419/500\n",
            "2/2 [==============================] - 0s 9ms/step - loss: 40.3710 - mae: 35.4743\n",
            "Epoch 420/500\n",
            "2/2 [==============================] - 0s 9ms/step - loss: 40.6374 - mae: 33.2885\n",
            "Epoch 421/500\n",
            "2/2 [==============================] - 0s 9ms/step - loss: 40.5783 - mae: 34.6219\n",
            "Epoch 422/500\n",
            "2/2 [==============================] - 0s 10ms/step - loss: 40.4856 - mae: 35.0610\n",
            "Epoch 423/500\n",
            "2/2 [==============================] - 0s 9ms/step - loss: 40.6707 - mae: 34.4728\n",
            "Epoch 424/500\n",
            "2/2 [==============================] - 0s 9ms/step - loss: 40.5262 - mae: 35.0910\n",
            "Epoch 425/500\n",
            "2/2 [==============================] - 0s 10ms/step - loss: 40.6554 - mae: 34.7355\n",
            "Epoch 426/500\n",
            "2/2 [==============================] - 0s 10ms/step - loss: 40.3872 - mae: 34.4009\n",
            "Epoch 427/500\n",
            "2/2 [==============================] - 0s 9ms/step - loss: 40.6588 - mae: 34.5598\n",
            "Epoch 428/500\n",
            "2/2 [==============================] - 0s 9ms/step - loss: 40.4458 - mae: 34.9036\n",
            "Epoch 429/500\n",
            "2/2 [==============================] - 0s 8ms/step - loss: 40.2405 - mae: 34.0750\n",
            "Epoch 430/500\n",
            "2/2 [==============================] - 0s 8ms/step - loss: 40.8196 - mae: 30.2174\n",
            "Epoch 431/500\n",
            "2/2 [==============================] - 0s 9ms/step - loss: 40.6380 - mae: 31.4902\n",
            "Epoch 432/500\n",
            "2/2 [==============================] - 0s 9ms/step - loss: 40.7378 - mae: 31.7997\n",
            "Epoch 433/500\n",
            "2/2 [==============================] - 0s 15ms/step - loss: 40.1697 - mae: 33.2330\n",
            "Epoch 434/500\n",
            "2/2 [==============================] - 0s 10ms/step - loss: 41.0410 - mae: 30.2156\n",
            "Epoch 435/500\n",
            "2/2 [==============================] - 0s 15ms/step - loss: 39.8153 - mae: 32.4033\n",
            "Epoch 436/500\n",
            "2/2 [==============================] - 0s 15ms/step - loss: 41.3935 - mae: 26.2865\n",
            "Epoch 437/500\n",
            "2/2 [==============================] - 0s 10ms/step - loss: 41.1380 - mae: 28.0747\n",
            "Epoch 438/500\n",
            "2/2 [==============================] - 0s 10ms/step - loss: 39.7042 - mae: 32.5614\n",
            "Epoch 439/500\n",
            "2/2 [==============================] - 0s 9ms/step - loss: 41.1231 - mae: 25.9051\n",
            "Epoch 440/500\n",
            "2/2 [==============================] - 0s 10ms/step - loss: 41.0614 - mae: 26.2097\n",
            "Epoch 441/500\n",
            "2/2 [==============================] - 0s 10ms/step - loss: 41.1572 - mae: 27.1129\n",
            "Epoch 442/500\n",
            "2/2 [==============================] - 0s 11ms/step - loss: 41.1412 - mae: 28.9636\n",
            "Epoch 443/500\n",
            "2/2 [==============================] - 0s 11ms/step - loss: 40.8979 - mae: 31.0173\n",
            "Epoch 444/500\n",
            "2/2 [==============================] - 0s 9ms/step - loss: 40.2325 - mae: 31.9411\n",
            "Epoch 445/500\n",
            "2/2 [==============================] - 0s 10ms/step - loss: 40.7268 - mae: 33.5699\n",
            "Epoch 446/500\n",
            "2/2 [==============================] - 0s 10ms/step - loss: 40.3395 - mae: 33.2193\n",
            "Epoch 447/500\n",
            "2/2 [==============================] - 0s 9ms/step - loss: 40.3122 - mae: 34.2334\n",
            "Epoch 448/500\n",
            "2/2 [==============================] - 0s 11ms/step - loss: 40.6535 - mae: 34.8603\n",
            "Epoch 449/500\n",
            "2/2 [==============================] - 0s 10ms/step - loss: 40.6143 - mae: 34.8813\n",
            "Epoch 450/500\n",
            "2/2 [==============================] - 0s 9ms/step - loss: 40.5994 - mae: 35.1980\n",
            "Epoch 451/500\n",
            "2/2 [==============================] - 0s 9ms/step - loss: 39.9837 - mae: 35.5647\n",
            "Epoch 452/500\n",
            "2/2 [==============================] - 0s 11ms/step - loss: 40.8125 - mae: 31.1027\n",
            "Epoch 453/500\n",
            "2/2 [==============================] - 0s 10ms/step - loss: 40.9058 - mae: 29.6378\n",
            "Epoch 454/500\n",
            "2/2 [==============================] - 0s 9ms/step - loss: 40.8875 - mae: 30.6712\n",
            "Epoch 455/500\n",
            "2/2 [==============================] - 0s 9ms/step - loss: 40.7110 - mae: 31.9638\n",
            "Epoch 456/500\n",
            "2/2 [==============================] - 0s 10ms/step - loss: 40.6422 - mae: 33.7162\n",
            "Epoch 457/500\n",
            "2/2 [==============================] - 0s 11ms/step - loss: 40.5790 - mae: 33.9545\n",
            "Epoch 458/500\n",
            "2/2 [==============================] - 0s 10ms/step - loss: 40.1857 - mae: 34.7601\n",
            "Epoch 459/500\n",
            "2/2 [==============================] - 0s 16ms/step - loss: 40.7557 - mae: 32.1931\n",
            "Epoch 460/500\n",
            "2/2 [==============================] - 0s 11ms/step - loss: 40.7487 - mae: 32.8909\n",
            "Epoch 461/500\n",
            "2/2 [==============================] - 0s 8ms/step - loss: 40.6500 - mae: 33.7468\n",
            "Epoch 462/500\n",
            "2/2 [==============================] - 0s 8ms/step - loss: 40.6547 - mae: 34.3225\n",
            "Epoch 463/500\n",
            "2/2 [==============================] - 0s 9ms/step - loss: 40.5916 - mae: 34.8252\n",
            "Epoch 464/500\n",
            "2/2 [==============================] - 0s 8ms/step - loss: 40.4282 - mae: 35.4261\n",
            "Epoch 465/500\n",
            "2/2 [==============================] - 0s 10ms/step - loss: 40.4101 - mae: 35.5201\n",
            "Epoch 466/500\n",
            "2/2 [==============================] - 0s 8ms/step - loss: 40.5694 - mae: 35.6460\n",
            "Epoch 467/500\n",
            "2/2 [==============================] - 0s 13ms/step - loss: 40.6479 - mae: 35.1150\n",
            "Epoch 468/500\n",
            "2/2 [==============================] - 0s 13ms/step - loss: 40.5385 - mae: 34.9535\n",
            "Epoch 469/500\n",
            "2/2 [==============================] - 0s 12ms/step - loss: 40.6373 - mae: 34.2275\n",
            "Epoch 470/500\n",
            "2/2 [==============================] - 0s 9ms/step - loss: 40.6316 - mae: 34.4151\n",
            "Epoch 471/500\n",
            "2/2 [==============================] - 0s 12ms/step - loss: 40.5356 - mae: 34.8396\n",
            "Epoch 472/500\n",
            "2/2 [==============================] - 0s 8ms/step - loss: 40.6019 - mae: 35.3720\n",
            "Epoch 473/500\n",
            "2/2 [==============================] - 0s 8ms/step - loss: 40.4688 - mae: 36.0400\n",
            "Epoch 474/500\n",
            "2/2 [==============================] - 0s 10ms/step - loss: 40.5683 - mae: 34.5890\n",
            "Epoch 475/500\n",
            "2/2 [==============================] - 0s 11ms/step - loss: 40.2347 - mae: 34.4814\n",
            "Epoch 476/500\n",
            "2/2 [==============================] - 0s 10ms/step - loss: 40.4589 - mae: 35.1236\n",
            "Epoch 477/500\n",
            "2/2 [==============================] - 0s 13ms/step - loss: 40.6635 - mae: 33.4779\n",
            "Epoch 478/500\n",
            "2/2 [==============================] - 0s 12ms/step - loss: 40.2777 - mae: 32.8531\n",
            "Epoch 479/500\n",
            "2/2 [==============================] - 0s 12ms/step - loss: 40.6680 - mae: 33.4819\n",
            "Epoch 480/500\n",
            "2/2 [==============================] - 0s 13ms/step - loss: 40.7009 - mae: 32.9804\n",
            "Epoch 481/500\n",
            "2/2 [==============================] - 0s 8ms/step - loss: 40.6086 - mae: 33.6632\n",
            "Epoch 482/500\n",
            "2/2 [==============================] - 0s 8ms/step - loss: 40.6363 - mae: 33.3497\n",
            "Epoch 483/500\n",
            "2/2 [==============================] - 0s 9ms/step - loss: 40.3568 - mae: 33.9191\n",
            "Epoch 484/500\n",
            "2/2 [==============================] - 0s 12ms/step - loss: 39.9436 - mae: 31.2827\n",
            "Epoch 485/500\n",
            "2/2 [==============================] - 0s 18ms/step - loss: 40.7050 - mae: 31.8022\n",
            "Epoch 486/500\n",
            "2/2 [==============================] - 0s 12ms/step - loss: 39.9154 - mae: 32.3428\n",
            "Epoch 487/500\n",
            "2/2 [==============================] - 0s 9ms/step - loss: 40.6160 - mae: 32.9167\n",
            "Epoch 488/500\n",
            "2/2 [==============================] - 0s 13ms/step - loss: 39.8385 - mae: 31.9982\n",
            "Epoch 489/500\n",
            "2/2 [==============================] - 0s 12ms/step - loss: 40.4874 - mae: 32.0712\n",
            "Epoch 490/500\n",
            "2/2 [==============================] - 0s 8ms/step - loss: 40.6551 - mae: 34.0443\n",
            "Epoch 491/500\n",
            "2/2 [==============================] - 0s 12ms/step - loss: 40.6448 - mae: 34.5939\n",
            "Epoch 492/500\n",
            "2/2 [==============================] - 0s 9ms/step - loss: 40.6226 - mae: 34.2697\n",
            "Epoch 493/500\n",
            "2/2 [==============================] - 0s 8ms/step - loss: 40.5246 - mae: 34.5392\n",
            "Epoch 494/500\n",
            "2/2 [==============================] - 0s 8ms/step - loss: 40.1774 - mae: 34.8998\n",
            "Epoch 495/500\n",
            "2/2 [==============================] - 0s 8ms/step - loss: 40.5472 - mae: 35.0762\n",
            "Epoch 496/500\n",
            "2/2 [==============================] - 0s 12ms/step - loss: 40.5752 - mae: 35.1398\n",
            "Epoch 497/500\n",
            "2/2 [==============================] - 0s 11ms/step - loss: 40.2590 - mae: 35.3702\n",
            "Epoch 498/500\n",
            "2/2 [==============================] - 0s 9ms/step - loss: 40.8567 - mae: 32.2047\n",
            "Epoch 499/500\n",
            "2/2 [==============================] - 0s 11ms/step - loss: 40.6096 - mae: 32.3245\n",
            "Epoch 500/500\n",
            "2/2 [==============================] - 0s 8ms/step - loss: 39.7466 - mae: 32.3469\n"
          ]
        },
        {
          "output_type": "execute_result",
          "data": {
            "text/plain": [
              "<keras.src.callbacks.History at 0x7faacda5ce80>"
            ]
          },
          "metadata": {},
          "execution_count": 59
        }
      ]
    },
    {
      "cell_type": "code",
      "source": [
        "# Make and plot some predictions\n",
        "\n",
        "y_preds_3 = model_3.predict(x_test)\n",
        "plot_predictions(predictions = y_preds_3)"
      ],
      "metadata": {
        "colab": {
          "base_uri": "https://localhost:8080/",
          "height": 616
        },
        "id": "uKfdkv17FlEB",
        "outputId": "600e7586-7a01-4f30-8475-99c741d0d5b4"
      },
      "execution_count": 60,
      "outputs": [
        {
          "output_type": "stream",
          "name": "stdout",
          "text": [
            "1/1 [==============================] - 0s 58ms/step\n"
          ]
        },
        {
          "output_type": "display_data",
          "data": {
            "text/plain": [
              "<Figure size 1000x700 with 1 Axes>"
            ],
            "image/png": "[encoded data removed]"
          },
          "metadata": {}
        }
      ]
    },
    {
      "cell_type": "code",
      "source": [
        "# Calculate model_3 evaluation metrics\n",
        "\n",
        "mae_3 = mae(y_test, y_preds_3)\n",
        "mse_3 = mse(y_test, y_preds_3)\n",
        "mae_3, mse_3"
      ],
      "metadata": {
        "colab": {
          "base_uri": "https://localhost:8080/"
        },
        "id": "AZTlLn1rGIGp",
        "outputId": "02ebbd0b-b19e-4227-d640-7f9bc6fd899a"
      },
      "execution_count": 61,
      "outputs": [
        {
          "output_type": "execute_result",
          "data": {
            "text/plain": [
              "(<tf.Tensor: shape=(), dtype=float32, numpy=63.98525>,\n",
              " <tf.Tensor: shape=(), dtype=float32, numpy=4154.178>)"
            ]
          },
          "metadata": {},
          "execution_count": 61
        }
      ]
    },
    {
      "cell_type": "markdown",
      "source": [
        "## Comparing the results of out experiments\n",
        "\n"
      ],
      "metadata": {
        "id": "AAy24eLdG11d"
      }
    },
    {
      "cell_type": "code",
      "source": [
        "# Lets compare our models result using a pandas DataFrame\n",
        "\n",
        "import pandas as pd\n",
        "\n",
        "model_results = [[\"model_1\", mae_1.numpy(), mse_1.numpy()],\n",
        "                [\"model_2\", mae_2.numpy(), mse_2.numpy()],\n",
        "                [\"model_3\", mae_3.numpy(), mse_3]]\n",
        "\n",
        "all_results = pd.DataFrame(model_results, columns=[\"model\", \"mae\", \"mse\"])\n",
        "all_results\n"
      ],
      "metadata": {
        "colab": {
          "base_uri": "https://localhost:8080/",
          "height": 144
        },
        "id": "Eyz6kizfeNiv",
        "outputId": "cfa32150-3a41-41cf-b58f-b9e79caa512f"
      },
      "execution_count": 62,
      "outputs": [
        {
          "output_type": "execute_result",
          "data": {
            "text/plain": [
              "     model        mae                                           mse\n",
              "0  model_1  30.428913                                    936.141113\n",
              "1  model_2  45.825184                                   2127.461426\n",
              "2  model_3  63.985249  tf.Tensor(4154.178, shape=(), dtype=float32)"
            ],
            "text/html": [
              "\n",
              "  <div id=\"df-534a8e10-1686-408c-8059-59c55920eeb1\" class=\"colab-df-container\">\n",
              "    <div>\n",
              "<style scoped>\n",
              "    .dataframe tbody tr th:only-of-type {\n",
              "        vertical-align: middle;\n",
              "    }\n",
              "\n",
              "    .dataframe tbody tr th {\n",
              "        vertical-align: top;\n",
              "    }\n",
              "\n",
              "    .dataframe thead th {\n",
              "        text-align: right;\n",
              "    }\n",
              "</style>\n",
              "<table border=\"1\" class=\"dataframe\">\n",
              "  <thead>\n",
              "    <tr style=\"text-align: right;\">\n",
              "      <th></th>\n",
              "      <th>model</th>\n",
              "      <th>mae</th>\n",
              "      <th>mse</th>\n",
              "    </tr>\n",
              "  </thead>\n",
              "  <tbody>\n",
              "    <tr>\n",
              "      <th>0</th>\n",
              "      <td>model_1</td>\n",
              "      <td>30.428913</td>\n",
              "      <td>936.141113</td>\n",
              "    </tr>\n",
              "    <tr>\n",
              "      <th>1</th>\n",
              "      <td>model_2</td>\n",
              "      <td>45.825184</td>\n",
              "      <td>2127.461426</td>\n",
              "    </tr>\n",
              "    <tr>\n",
              "      <th>2</th>\n",
              "      <td>model_3</td>\n",
              "      <td>63.985249</td>\n",
              "      <td>tf.Tensor(4154.178, shape=(), dtype=float32)</td>\n",
              "    </tr>\n",
              "  </tbody>\n",
              "</table>\n",
              "</div>\n",
              "    <div class=\"colab-df-buttons\">\n",
              "\n",
              "  <div class=\"colab-df-container\">\n",
              "    <button class=\"colab-df-convert\" onclick=\"convertToInteractive('df-534a8e10-1686-408c-8059-59c55920eeb1')\"\n",
              "            title=\"Convert this dataframe to an interactive table.\"\n",
              "            style=\"display:none;\">\n",
              "\n",
              "  <svg xmlns=\"http://www.w3.org/2000/svg\" height=\"24px\" viewBox=\"0 -960 960 960\">\n",
              "    <path d=\"M120-120v-720h720v720H120Zm60-500h600v-160H180v160Zm220 220h160v-160H400v160Zm0 220h160v-160H400v160ZM180-400h160v-160H180v160Zm440 0h160v-160H620v160ZM180-180h160v-160H180v160Zm440 0h160v-160H620v160Z\"/>\n",
              "  </svg>\n",
              "    </button>\n",
              "\n",
              "  <style>\n",
              "    .colab-df-container {\n",
              "      display:flex;\n",
              "      gap: 12px;\n",
              "    }\n",
              "\n",
              "    .colab-df-convert {\n",
              "      background-color: #E8F0FE;\n",
              "      border: none;\n",
              "      border-radius: 50%;\n",
              "      cursor: pointer;\n",
              "      display: none;\n",
              "      fill: #1967D2;\n",
              "      height: 32px;\n",
              "      padding: 0 0 0 0;\n",
              "      width: 32px;\n",
              "    }\n",
              "\n",
              "    .colab-df-convert:hover {\n",
              "      background-color: #E2EBFA;\n",
              "      box-shadow: 0px 1px 2px rgba(60, 64, 67, 0.3), 0px 1px 3px 1px rgba(60, 64, 67, 0.15);\n",
              "      fill: #174EA6;\n",
              "    }\n",
              "\n",
              "    .colab-df-buttons div {\n",
              "      margin-bottom: 4px;\n",
              "    }\n",
              "\n",
              "    [theme=dark] .colab-df-convert {\n",
              "      background-color: #3B4455;\n",
              "      fill: #D2E3FC;\n",
              "    }\n",
              "\n",
              "    [theme=dark] .colab-df-convert:hover {\n",
              "      background-color: #434B5C;\n",
              "      box-shadow: 0px 1px 3px 1px rgba(0, 0, 0, 0.15);\n",
              "      filter: drop-shadow(0px 1px 2px rgba(0, 0, 0, 0.3));\n",
              "      fill: #FFFFFF;\n",
              "    }\n",
              "  </style>\n",
              "\n",
              "    <script>\n",
              "      const buttonEl =\n",
              "        document.querySelector('#df-534a8e10-1686-408c-8059-59c55920eeb1 button.colab-df-convert');\n",
              "      buttonEl.style.display =\n",
              "        google.colab.kernel.accessAllowed ? 'block' : 'none';\n",
              "\n",
              "      async function convertToInteractive(key) {\n",
              "        const element = document.querySelector('#df-534a8e10-1686-408c-8059-59c55920eeb1');\n",
              "        const dataTable =\n",
              "          await google.colab.kernel.invokeFunction('convertToInteractive',\n",
              "                                                    [key], {});\n",
              "        if (!dataTable) return;\n",
              "\n",
              "        const docLinkHtml = 'Like what you see? Visit the ' +\n",
              "          '<a target=\"_blank\" href=https://colab.research.google.com/notebooks/data_table.ipynb>data table notebook</a>'\n",
              "          + ' to learn more about interactive tables.';\n",
              "        element.innerHTML = '';\n",
              "        dataTable['output_type'] = 'display_data';\n",
              "        await google.colab.output.renderOutput(dataTable, element);\n",
              "        const docLink = document.createElement('div');\n",
              "        docLink.innerHTML = docLinkHtml;\n",
              "        element.appendChild(docLink);\n",
              "      }\n",
              "    </script>\n",
              "  </div>\n",
              "\n",
              "\n",
              "<div id=\"df-bad3f32f-da56-4c9b-b083-872dd7159643\">\n",
              "  <button class=\"colab-df-quickchart\" onclick=\"quickchart('df-bad3f32f-da56-4c9b-b083-872dd7159643')\"\n",
              "            title=\"Suggest charts\"\n",
              "            style=\"display:none;\">\n",
              "\n",
              "<svg xmlns=\"http://www.w3.org/2000/svg\" height=\"24px\"viewBox=\"0 0 24 24\"\n",
              "     width=\"24px\">\n",
              "    <g>\n",
              "        <path d=\"M19 3H5c-1.1 0-2 .9-2 2v14c0 1.1.9 2 2 2h14c1.1 0 2-.9 2-2V5c0-1.1-.9-2-2-2zM9 17H7v-7h2v7zm4 0h-2V7h2v10zm4 0h-2v-4h2v4z\"/>\n",
              "    </g>\n",
              "</svg>\n",
              "  </button>\n",
              "\n",
              "<style>\n",
              "  .colab-df-quickchart {\n",
              "      --bg-color: #E8F0FE;\n",
              "      --fill-color: #1967D2;\n",
              "      --hover-bg-color: #E2EBFA;\n",
              "      --hover-fill-color: #174EA6;\n",
              "      --disabled-fill-color: #AAA;\n",
              "      --disabled-bg-color: #DDD;\n",
              "  }\n",
              "\n",
              "  [theme=dark] .colab-df-quickchart {\n",
              "      --bg-color: #3B4455;\n",
              "      --fill-color: #D2E3FC;\n",
              "      --hover-bg-color: #434B5C;\n",
              "      --hover-fill-color: #FFFFFF;\n",
              "      --disabled-bg-color: #3B4455;\n",
              "      --disabled-fill-color: #666;\n",
              "  }\n",
              "\n",
              "  .colab-df-quickchart {\n",
              "    background-color: var(--bg-color);\n",
              "    border: none;\n",
              "    border-radius: 50%;\n",
              "    cursor: pointer;\n",
              "    display: none;\n",
              "    fill: var(--fill-color);\n",
              "    height: 32px;\n",
              "    padding: 0;\n",
              "    width: 32px;\n",
              "  }\n",
              "\n",
              "  .colab-df-quickchart:hover {\n",
              "    background-color: var(--hover-bg-color);\n",
              "    box-shadow: 0 1px 2px rgba(60, 64, 67, 0.3), 0 1px 3px 1px rgba(60, 64, 67, 0.15);\n",
              "    fill: var(--button-hover-fill-color);\n",
              "  }\n",
              "\n",
              "  .colab-df-quickchart-complete:disabled,\n",
              "  .colab-df-quickchart-complete:disabled:hover {\n",
              "    background-color: var(--disabled-bg-color);\n",
              "    fill: var(--disabled-fill-color);\n",
              "    box-shadow: none;\n",
              "  }\n",
              "\n",
              "  .colab-df-spinner {\n",
              "    border: 2px solid var(--fill-color);\n",
              "    border-color: transparent;\n",
              "    border-bottom-color: var(--fill-color);\n",
              "    animation:\n",
              "      spin 1s steps(1) infinite;\n",
              "  }\n",
              "\n",
              "  @keyframes spin {\n",
              "    0% {\n",
              "      border-color: transparent;\n",
              "      border-bottom-color: var(--fill-color);\n",
              "      border-left-color: var(--fill-color);\n",
              "    }\n",
              "    20% {\n",
              "      border-color: transparent;\n",
              "      border-left-color: var(--fill-color);\n",
              "      border-top-color: var(--fill-color);\n",
              "    }\n",
              "    30% {\n",
              "      border-color: transparent;\n",
              "      border-left-color: var(--fill-color);\n",
              "      border-top-color: var(--fill-color);\n",
              "      border-right-color: var(--fill-color);\n",
              "    }\n",
              "    40% {\n",
              "      border-color: transparent;\n",
              "      border-right-color: var(--fill-color);\n",
              "      border-top-color: var(--fill-color);\n",
              "    }\n",
              "    60% {\n",
              "      border-color: transparent;\n",
              "      border-right-color: var(--fill-color);\n",
              "    }\n",
              "    80% {\n",
              "      border-color: transparent;\n",
              "      border-right-color: var(--fill-color);\n",
              "      border-bottom-color: var(--fill-color);\n",
              "    }\n",
              "    90% {\n",
              "      border-color: transparent;\n",
              "      border-bottom-color: var(--fill-color);\n",
              "    }\n",
              "  }\n",
              "</style>\n",
              "\n",
              "  <script>\n",
              "    async function quickchart(key) {\n",
              "      const quickchartButtonEl =\n",
              "        document.querySelector('#' + key + ' button');\n",
              "      quickchartButtonEl.disabled = true;  // To prevent multiple clicks.\n",
              "      quickchartButtonEl.classList.add('colab-df-spinner');\n",
              "      try {\n",
              "        const charts = await google.colab.kernel.invokeFunction(\n",
              "            'suggestCharts', [key], {});\n",
              "      } catch (error) {\n",
              "        console.error('Error during call to suggestCharts:', error);\n",
              "      }\n",
              "      quickchartButtonEl.classList.remove('colab-df-spinner');\n",
              "      quickchartButtonEl.classList.add('colab-df-quickchart-complete');\n",
              "    }\n",
              "    (() => {\n",
              "      let quickchartButtonEl =\n",
              "        document.querySelector('#df-bad3f32f-da56-4c9b-b083-872dd7159643 button');\n",
              "      quickchartButtonEl.style.display =\n",
              "        google.colab.kernel.accessAllowed ? 'block' : 'none';\n",
              "    })();\n",
              "  </script>\n",
              "</div>\n",
              "    </div>\n",
              "  </div>\n"
            ],
            "application/vnd.google.colaboratory.intrinsic+json": {
              "type": "dataframe",
              "variable_name": "all_results",
              "summary": "{\n  \"name\": \"all_results\",\n  \"rows\": 3,\n  \"fields\": [\n    {\n      \"column\": \"model\",\n      \"properties\": {\n        \"dtype\": \"string\",\n        \"num_unique_values\": 3,\n        \"samples\": [\n          \"model_1\",\n          \"model_2\",\n          \"model_3\"\n        ],\n        \"semantic_type\": \"\",\n        \"description\": \"\"\n      }\n    },\n    {\n      \"column\": \"mae\",\n      \"properties\": {\n        \"dtype\": \"float32\",\n        \"num_unique_values\": 3,\n        \"samples\": [\n          30.428913116455078,\n          45.8251838684082,\n          63.98524856567383\n        ],\n        \"semantic_type\": \"\",\n        \"description\": \"\"\n      }\n    },\n    {\n      \"column\": \"mse\",\n      \"properties\": {\n        \"dtype\": \"object\",\n        \"semantic_type\": \"\",\n        \"description\": \"\"\n      }\n    }\n  ]\n}"
            }
          },
          "metadata": {},
          "execution_count": 62
        }
      ]
    },
    {
      "source": [
        "# @title mae\n",
        "# Got Recommendation from gcollab\n",
        "\n",
        "from matplotlib import pyplot as plt\n",
        "all_results['mae'].plot(kind='hist', bins=20, title='mae')\n",
        "plt.gca().spines[['top', 'right',]].set_visible(False)"
      ],
      "cell_type": "code",
      "execution_count": 63,
      "outputs": [
        {
          "output_type": "display_data",
          "data": {
            "text/plain": [
              "<Figure size 640x480 with 1 Axes>"
            ],
            "image/png": "[encoded data removed]"
          },
          "metadata": {}
        }
      ],
      "metadata": {
        "colab": {
          "base_uri": "https://localhost:8080/",
          "height": 452
        },
        "id": "AK8lqoT2f7R1",
        "outputId": "9d897300-d1aa-4187-d7e7-e4acdfb54a35"
      }
    },
    {
      "cell_type": "markdown",
      "source": [
        "🔑**Note :** One of our main goals should be to minimize the time between our experiments. We must try and error"
      ],
      "metadata": {
        "id": "6mam0ajKgXEC"
      }
    },
    {
      "cell_type": "markdown",
      "source": [
        "## Tracking your experiments\n",
        "\n",
        "One really good habit in ml modelling is to track the result of your experiments.\n",
        "\n",
        "Luckly, there are tools to help us!\n",
        "\n",
        "📖**Resource:** As we build more models, we will want to look into using :\n",
        "\n",
        "* TensorBoard - a component of the TensorFlow library to help track modelling experiments\n",
        "* Weights & Biases - a tool for tracking all of kinds of machine learning experiments\n",
        "\n"
      ],
      "metadata": {
        "id": "jCyUYIJrhEbi"
      }
    },
    {
      "cell_type": "markdown",
      "source": [
        "## Saving Our model\n",
        "\n",
        "Saving our model allows us to use them outside of Google collab\n",
        "\n",
        "There are two main formats we can save our model too :\n",
        "1. The SavedModel format\n",
        "2. The HDF5 format"
      ],
      "metadata": {
        "id": "DCh5Gw9x2cEL"
      }
    },
    {
      "cell_type": "code",
      "source": [
        "# Save model using the SavedModel format\n",
        "model_2.save(\"best_model_SavedModel_format\")"
      ],
      "metadata": {
        "id": "GgNAjual2aAU"
      },
      "execution_count": 64,
      "outputs": []
    },
    {
      "cell_type": "code",
      "source": [
        "# Save model using the HDF5 format\n",
        "model_2.save(\"best_model_HDF5_format\")"
      ],
      "metadata": {
        "id": "WUEQU6AH4UiF"
      },
      "execution_count": 65,
      "outputs": []
    },
    {
      "cell_type": "markdown",
      "source": [
        "## Loading in a saved model"
      ],
      "metadata": {
        "id": "JlWRZHYjreP_"
      }
    },
    {
      "cell_type": "code",
      "source": [
        "# Load in the SavedModel format\n",
        "\n",
        "loaded_SavedModel_format = tf.keras.models.load_model(\"/content/best_model_SavedModel_format\")\n",
        "loaded_SavedModel_format.summary()"
      ],
      "metadata": {
        "colab": {
          "base_uri": "https://localhost:8080/"
        },
        "id": "2ZCWOR4Wrosv",
        "outputId": "5d83b083-e9e1-4793-b584-3c7c560834b6"
      },
      "execution_count": 66,
      "outputs": [
        {
          "output_type": "stream",
          "name": "stdout",
          "text": [
            "Model: \"sequential_6\"\n",
            "_________________________________________________________________\n",
            " Layer (type)                Output Shape              Param #   \n",
            "=================================================================\n",
            " input_layer (Dense)         (None, 70)                140       \n",
            "                                                                 \n",
            " Output_layer (Dense)        (None, 1)                 71        \n",
            "                                                                 \n",
            "=================================================================\n",
            "Total params: 211 (844.00 Byte)\n",
            "Trainable params: 211 (844.00 Byte)\n",
            "Non-trainable params: 0 (0.00 Byte)\n",
            "_________________________________________________________________\n"
          ]
        }
      ]
    },
    {
      "cell_type": "code",
      "source": [
        "model_2 == loaded_SavedModel_format"
      ],
      "metadata": {
        "colab": {
          "base_uri": "https://localhost:8080/"
        },
        "id": "yLoIxTUvsGxF",
        "outputId": "c691553f-c746-44e3-8fd2-793ce63e51c4"
      },
      "execution_count": 67,
      "outputs": [
        {
          "output_type": "execute_result",
          "data": {
            "text/plain": [
              "False"
            ]
          },
          "metadata": {},
          "execution_count": 67
        }
      ]
    },
    {
      "cell_type": "code",
      "source": [
        "# Compare predictions\n",
        "model_2_preds = model_2.predict(x_test)\n",
        "loaded_SavedModel_format_preds = loaded_SavedModel_format.predict(x_test)\n",
        "\n",
        "model_2_preds == loaded_SavedModel_format_preds"
      ],
      "metadata": {
        "colab": {
          "base_uri": "https://localhost:8080/"
        },
        "id": "NN4wwIe1sbEY",
        "outputId": "b6554969-b2b8-4f69-95e6-2b8bf0e66c82"
      },
      "execution_count": 68,
      "outputs": [
        {
          "output_type": "stream",
          "name": "stdout",
          "text": [
            "1/1 [==============================] - 0s 54ms/step\n",
            "1/1 [==============================] - 0s 89ms/step\n"
          ]
        },
        {
          "output_type": "execute_result",
          "data": {
            "text/plain": [
              "array([[ True],\n",
              "       [ True],\n",
              "       [ True],\n",
              "       [ True],\n",
              "       [ True],\n",
              "       [ True],\n",
              "       [ True],\n",
              "       [ True],\n",
              "       [ True],\n",
              "       [ True]])"
            ]
          },
          "metadata": {},
          "execution_count": 68
        }
      ]
    },
    {
      "cell_type": "code",
      "source": [
        "mae(y_true = y_test, y_pred = model_2_preds) == mae(y_true = y_test, y_pred=loaded_SavedModel_format_preds )"
      ],
      "metadata": {
        "colab": {
          "base_uri": "https://localhost:8080/"
        },
        "id": "4vOzpgEWs4bA",
        "outputId": "12c81375-9981-4f49-ed94-9a78b24ef415"
      },
      "execution_count": 69,
      "outputs": [
        {
          "output_type": "execute_result",
          "data": {
            "text/plain": [
              "<tf.Tensor: shape=(), dtype=bool, numpy=True>"
            ]
          },
          "metadata": {},
          "execution_count": 69
        }
      ]
    },
    {
      "cell_type": "code",
      "source": [
        "# Load in a model using the h5 format\n",
        "loaded_h5_model = tf.keras.models.load_model(\"/content/best_model_HDF5_format\")\n",
        "loaded_h5_model.summary()"
      ],
      "metadata": {
        "colab": {
          "base_uri": "https://localhost:8080/"
        },
        "id": "HfBpvyUluB-8",
        "outputId": "23fd4f3e-7e4e-4472-c027-3a3728dcc826"
      },
      "execution_count": 70,
      "outputs": [
        {
          "output_type": "stream",
          "name": "stdout",
          "text": [
            "Model: \"sequential_6\"\n",
            "_________________________________________________________________\n",
            " Layer (type)                Output Shape              Param #   \n",
            "=================================================================\n",
            " input_layer (Dense)         (None, 70)                140       \n",
            "                                                                 \n",
            " Output_layer (Dense)        (None, 1)                 71        \n",
            "                                                                 \n",
            "=================================================================\n",
            "Total params: 211 (844.00 Byte)\n",
            "Trainable params: 211 (844.00 Byte)\n",
            "Non-trainable params: 0 (0.00 Byte)\n",
            "_________________________________________________________________\n"
          ]
        }
      ]
    },
    {
      "cell_type": "code",
      "source": [
        "# Compare\n",
        "\n",
        "loaded_h5_model_preds = loaded_h5_model.predict(x_test)\n",
        "\n",
        "model_2_preds == loaded_h5_model_preds"
      ],
      "metadata": {
        "colab": {
          "base_uri": "https://localhost:8080/"
        },
        "id": "IBlZi3BwucUl",
        "outputId": "9e04ee80-ef43-4e47-8937-a9a07d286936"
      },
      "execution_count": 71,
      "outputs": [
        {
          "output_type": "stream",
          "name": "stdout",
          "text": [
            "1/1 [==============================] - 0s 88ms/step\n"
          ]
        },
        {
          "output_type": "execute_result",
          "data": {
            "text/plain": [
              "array([[ True],\n",
              "       [ True],\n",
              "       [ True],\n",
              "       [ True],\n",
              "       [ True],\n",
              "       [ True],\n",
              "       [ True],\n",
              "       [ True],\n",
              "       [ True],\n",
              "       [ True]])"
            ]
          },
          "metadata": {},
          "execution_count": 71
        }
      ]
    },
    {
      "cell_type": "code",
      "source": [
        "mae(y_true = y_test, y_pred = model_2_preds) == mae(y_true=y_test, y_pred=loaded_h5_model_preds)"
      ],
      "metadata": {
        "colab": {
          "base_uri": "https://localhost:8080/"
        },
        "id": "915O3jbSuuKI",
        "outputId": "376ff033-ff25-4613-e460-ad03b6899aa7"
      },
      "execution_count": 72,
      "outputs": [
        {
          "output_type": "execute_result",
          "data": {
            "text/plain": [
              "<tf.Tensor: shape=(), dtype=bool, numpy=True>"
            ]
          },
          "metadata": {},
          "execution_count": 72
        }
      ]
    },
    {
      "cell_type": "markdown",
      "source": [
        "## Download a model (or any other file) from Google Colab\n",
        "\n",
        "If you want to download your file from Google Colab :\n",
        "1. You can go to the \"files\" tab and right click on the file youre after and click \"upload\".\n",
        "\n",
        "2. Use code\n",
        "\n",
        "3. Save it to Google Drive by connecting Google Drive and copying it there (see 2nd code cell)"
      ],
      "metadata": {
        "id": "QUSC31vrxNpn"
      }
    },
    {
      "cell_type": "code",
      "source": [
        "# Download a file from Google Colab\n",
        "\n",
        "# from google.colab import files\n",
        "# files.download(\"/content/best_model_HDF5_format\")"
      ],
      "metadata": {
        "id": "8TcUW_yr1w_p"
      },
      "execution_count": 73,
      "outputs": []
    },
    {
      "cell_type": "code",
      "source": [
        "# Save a file from Google colab to Google Drive\n",
        "# !cp /content/best_model_HDF5_format(our model path) _____(our folder file aim)"
      ],
      "metadata": {
        "id": "WSgD3o4e7f7p"
      },
      "execution_count": 74,
      "outputs": []
    },
    {
      "cell_type": "markdown",
      "source": [
        "## A Larger Example"
      ],
      "metadata": {
        "id": "CCRi9SjcjVKV"
      }
    },
    {
      "cell_type": "code",
      "source": [
        "# Import requaired libraries\n",
        "import tensorflow as tf\n",
        "import pandas as pd\n",
        "import matplotlib.pyplot as plt"
      ],
      "metadata": {
        "id": "k9TQZSDtjf7m"
      },
      "execution_count": 75,
      "outputs": []
    },
    {
      "cell_type": "code",
      "source": [
        "# Read in the insurance datatset\n",
        "\n",
        "insurance = pd.read_csv(\"https://raw.githubusercontent.com/stedy/Machine-Learning-with-R-datasets/master/insurance.csv\")"
      ],
      "metadata": {
        "id": "BuTf-1pqko1F"
      },
      "execution_count": 76,
      "outputs": []
    },
    {
      "cell_type": "code",
      "source": [
        "insurance.head(10)"
      ],
      "metadata": {
        "colab": {
          "base_uri": "https://localhost:8080/",
          "height": 363
        },
        "id": "7vygpJnClKsv",
        "outputId": "02a15039-8411-4de7-9324-dac925de2ca6"
      },
      "execution_count": 77,
      "outputs": [
        {
          "output_type": "execute_result",
          "data": {
            "text/plain": [
              "   age     sex     bmi  children smoker     region      charges\n",
              "0   19  female  27.900         0    yes  southwest  16884.92400\n",
              "1   18    male  33.770         1     no  southeast   1725.55230\n",
              "2   28    male  33.000         3     no  southeast   4449.46200\n",
              "3   33    male  22.705         0     no  northwest  21984.47061\n",
              "4   32    male  28.880         0     no  northwest   3866.85520\n",
              "5   31  female  25.740         0     no  southeast   3756.62160\n",
              "6   46  female  33.440         1     no  southeast   8240.58960\n",
              "7   37  female  27.740         3     no  northwest   7281.50560\n",
              "8   37    male  29.830         2     no  northeast   6406.41070\n",
              "9   60  female  25.840         0     no  northwest  28923.13692"
            ],
            "text/html": [
              "\n",
              "  <div id=\"df-c7a102cc-ee09-4f9b-8f27-149c1bfe248d\" class=\"colab-df-container\">\n",
              "    <div>\n",
              "<style scoped>\n",
              "    .dataframe tbody tr th:only-of-type {\n",
              "        vertical-align: middle;\n",
              "    }\n",
              "\n",
              "    .dataframe tbody tr th {\n",
              "        vertical-align: top;\n",
              "    }\n",
              "\n",
              "    .dataframe thead th {\n",
              "        text-align: right;\n",
              "    }\n",
              "</style>\n",
              "<table border=\"1\" class=\"dataframe\">\n",
              "  <thead>\n",
              "    <tr style=\"text-align: right;\">\n",
              "      <th></th>\n",
              "      <th>age</th>\n",
              "      <th>sex</th>\n",
              "      <th>bmi</th>\n",
              "      <th>children</th>\n",
              "      <th>smoker</th>\n",
              "      <th>region</th>\n",
              "      <th>charges</th>\n",
              "    </tr>\n",
              "  </thead>\n",
              "  <tbody>\n",
              "    <tr>\n",
              "      <th>0</th>\n",
              "      <td>19</td>\n",
              "      <td>female</td>\n",
              "      <td>27.900</td>\n",
              "      <td>0</td>\n",
              "      <td>yes</td>\n",
              "      <td>southwest</td>\n",
              "      <td>16884.92400</td>\n",
              "    </tr>\n",
              "    <tr>\n",
              "      <th>1</th>\n",
              "      <td>18</td>\n",
              "      <td>male</td>\n",
              "      <td>33.770</td>\n",
              "      <td>1</td>\n",
              "      <td>no</td>\n",
              "      <td>southeast</td>\n",
              "      <td>1725.55230</td>\n",
              "    </tr>\n",
              "    <tr>\n",
              "      <th>2</th>\n",
              "      <td>28</td>\n",
              "      <td>male</td>\n",
              "      <td>33.000</td>\n",
              "      <td>3</td>\n",
              "      <td>no</td>\n",
              "      <td>southeast</td>\n",
              "      <td>4449.46200</td>\n",
              "    </tr>\n",
              "    <tr>\n",
              "      <th>3</th>\n",
              "      <td>33</td>\n",
              "      <td>male</td>\n",
              "      <td>22.705</td>\n",
              "      <td>0</td>\n",
              "      <td>no</td>\n",
              "      <td>northwest</td>\n",
              "      <td>21984.47061</td>\n",
              "    </tr>\n",
              "    <tr>\n",
              "      <th>4</th>\n",
              "      <td>32</td>\n",
              "      <td>male</td>\n",
              "      <td>28.880</td>\n",
              "      <td>0</td>\n",
              "      <td>no</td>\n",
              "      <td>northwest</td>\n",
              "      <td>3866.85520</td>\n",
              "    </tr>\n",
              "    <tr>\n",
              "      <th>5</th>\n",
              "      <td>31</td>\n",
              "      <td>female</td>\n",
              "      <td>25.740</td>\n",
              "      <td>0</td>\n",
              "      <td>no</td>\n",
              "      <td>southeast</td>\n",
              "      <td>3756.62160</td>\n",
              "    </tr>\n",
              "    <tr>\n",
              "      <th>6</th>\n",
              "      <td>46</td>\n",
              "      <td>female</td>\n",
              "      <td>33.440</td>\n",
              "      <td>1</td>\n",
              "      <td>no</td>\n",
              "      <td>southeast</td>\n",
              "      <td>8240.58960</td>\n",
              "    </tr>\n",
              "    <tr>\n",
              "      <th>7</th>\n",
              "      <td>37</td>\n",
              "      <td>female</td>\n",
              "      <td>27.740</td>\n",
              "      <td>3</td>\n",
              "      <td>no</td>\n",
              "      <td>northwest</td>\n",
              "      <td>7281.50560</td>\n",
              "    </tr>\n",
              "    <tr>\n",
              "      <th>8</th>\n",
              "      <td>37</td>\n",
              "      <td>male</td>\n",
              "      <td>29.830</td>\n",
              "      <td>2</td>\n",
              "      <td>no</td>\n",
              "      <td>northeast</td>\n",
              "      <td>6406.41070</td>\n",
              "    </tr>\n",
              "    <tr>\n",
              "      <th>9</th>\n",
              "      <td>60</td>\n",
              "      <td>female</td>\n",
              "      <td>25.840</td>\n",
              "      <td>0</td>\n",
              "      <td>no</td>\n",
              "      <td>northwest</td>\n",
              "      <td>28923.13692</td>\n",
              "    </tr>\n",
              "  </tbody>\n",
              "</table>\n",
              "</div>\n",
              "    <div class=\"colab-df-buttons\">\n",
              "\n",
              "  <div class=\"colab-df-container\">\n",
              "    <button class=\"colab-df-convert\" onclick=\"convertToInteractive('df-c7a102cc-ee09-4f9b-8f27-149c1bfe248d')\"\n",
              "            title=\"Convert this dataframe to an interactive table.\"\n",
              "            style=\"display:none;\">\n",
              "\n",
              "  <svg xmlns=\"http://www.w3.org/2000/svg\" height=\"24px\" viewBox=\"0 -960 960 960\">\n",
              "    <path d=\"M120-120v-720h720v720H120Zm60-500h600v-160H180v160Zm220 220h160v-160H400v160Zm0 220h160v-160H400v160ZM180-400h160v-160H180v160Zm440 0h160v-160H620v160ZM180-180h160v-160H180v160Zm440 0h160v-160H620v160Z\"/>\n",
              "  </svg>\n",
              "    </button>\n",
              "\n",
              "  <style>\n",
              "    .colab-df-container {\n",
              "      display:flex;\n",
              "      gap: 12px;\n",
              "    }\n",
              "\n",
              "    .colab-df-convert {\n",
              "      background-color: #E8F0FE;\n",
              "      border: none;\n",
              "      border-radius: 50%;\n",
              "      cursor: pointer;\n",
              "      display: none;\n",
              "      fill: #1967D2;\n",
              "      height: 32px;\n",
              "      padding: 0 0 0 0;\n",
              "      width: 32px;\n",
              "    }\n",
              "\n",
              "    .colab-df-convert:hover {\n",
              "      background-color: #E2EBFA;\n",
              "      box-shadow: 0px 1px 2px rgba(60, 64, 67, 0.3), 0px 1px 3px 1px rgba(60, 64, 67, 0.15);\n",
              "      fill: #174EA6;\n",
              "    }\n",
              "\n",
              "    .colab-df-buttons div {\n",
              "      margin-bottom: 4px;\n",
              "    }\n",
              "\n",
              "    [theme=dark] .colab-df-convert {\n",
              "      background-color: #3B4455;\n",
              "      fill: #D2E3FC;\n",
              "    }\n",
              "\n",
              "    [theme=dark] .colab-df-convert:hover {\n",
              "      background-color: #434B5C;\n",
              "      box-shadow: 0px 1px 3px 1px rgba(0, 0, 0, 0.15);\n",
              "      filter: drop-shadow(0px 1px 2px rgba(0, 0, 0, 0.3));\n",
              "      fill: #FFFFFF;\n",
              "    }\n",
              "  </style>\n",
              "\n",
              "    <script>\n",
              "      const buttonEl =\n",
              "        document.querySelector('#df-c7a102cc-ee09-4f9b-8f27-149c1bfe248d button.colab-df-convert');\n",
              "      buttonEl.style.display =\n",
              "        google.colab.kernel.accessAllowed ? 'block' : 'none';\n",
              "\n",
              "      async function convertToInteractive(key) {\n",
              "        const element = document.querySelector('#df-c7a102cc-ee09-4f9b-8f27-149c1bfe248d');\n",
              "        const dataTable =\n",
              "          await google.colab.kernel.invokeFunction('convertToInteractive',\n",
              "                                                    [key], {});\n",
              "        if (!dataTable) return;\n",
              "\n",
              "        const docLinkHtml = 'Like what you see? Visit the ' +\n",
              "          '<a target=\"_blank\" href=https://colab.research.google.com/notebooks/data_table.ipynb>data table notebook</a>'\n",
              "          + ' to learn more about interactive tables.';\n",
              "        element.innerHTML = '';\n",
              "        dataTable['output_type'] = 'display_data';\n",
              "        await google.colab.output.renderOutput(dataTable, element);\n",
              "        const docLink = document.createElement('div');\n",
              "        docLink.innerHTML = docLinkHtml;\n",
              "        element.appendChild(docLink);\n",
              "      }\n",
              "    </script>\n",
              "  </div>\n",
              "\n",
              "\n",
              "<div id=\"df-521483e8-47c1-4615-890e-a557b7208a6f\">\n",
              "  <button class=\"colab-df-quickchart\" onclick=\"quickchart('df-521483e8-47c1-4615-890e-a557b7208a6f')\"\n",
              "            title=\"Suggest charts\"\n",
              "            style=\"display:none;\">\n",
              "\n",
              "<svg xmlns=\"http://www.w3.org/2000/svg\" height=\"24px\"viewBox=\"0 0 24 24\"\n",
              "     width=\"24px\">\n",
              "    <g>\n",
              "        <path d=\"M19 3H5c-1.1 0-2 .9-2 2v14c0 1.1.9 2 2 2h14c1.1 0 2-.9 2-2V5c0-1.1-.9-2-2-2zM9 17H7v-7h2v7zm4 0h-2V7h2v10zm4 0h-2v-4h2v4z\"/>\n",
              "    </g>\n",
              "</svg>\n",
              "  </button>\n",
              "\n",
              "<style>\n",
              "  .colab-df-quickchart {\n",
              "      --bg-color: #E8F0FE;\n",
              "      --fill-color: #1967D2;\n",
              "      --hover-bg-color: #E2EBFA;\n",
              "      --hover-fill-color: #174EA6;\n",
              "      --disabled-fill-color: #AAA;\n",
              "      --disabled-bg-color: #DDD;\n",
              "  }\n",
              "\n",
              "  [theme=dark] .colab-df-quickchart {\n",
              "      --bg-color: #3B4455;\n",
              "      --fill-color: #D2E3FC;\n",
              "      --hover-bg-color: #434B5C;\n",
              "      --hover-fill-color: #FFFFFF;\n",
              "      --disabled-bg-color: #3B4455;\n",
              "      --disabled-fill-color: #666;\n",
              "  }\n",
              "\n",
              "  .colab-df-quickchart {\n",
              "    background-color: var(--bg-color);\n",
              "    border: none;\n",
              "    border-radius: 50%;\n",
              "    cursor: pointer;\n",
              "    display: none;\n",
              "    fill: var(--fill-color);\n",
              "    height: 32px;\n",
              "    padding: 0;\n",
              "    width: 32px;\n",
              "  }\n",
              "\n",
              "  .colab-df-quickchart:hover {\n",
              "    background-color: var(--hover-bg-color);\n",
              "    box-shadow: 0 1px 2px rgba(60, 64, 67, 0.3), 0 1px 3px 1px rgba(60, 64, 67, 0.15);\n",
              "    fill: var(--button-hover-fill-color);\n",
              "  }\n",
              "\n",
              "  .colab-df-quickchart-complete:disabled,\n",
              "  .colab-df-quickchart-complete:disabled:hover {\n",
              "    background-color: var(--disabled-bg-color);\n",
              "    fill: var(--disabled-fill-color);\n",
              "    box-shadow: none;\n",
              "  }\n",
              "\n",
              "  .colab-df-spinner {\n",
              "    border: 2px solid var(--fill-color);\n",
              "    border-color: transparent;\n",
              "    border-bottom-color: var(--fill-color);\n",
              "    animation:\n",
              "      spin 1s steps(1) infinite;\n",
              "  }\n",
              "\n",
              "  @keyframes spin {\n",
              "    0% {\n",
              "      border-color: transparent;\n",
              "      border-bottom-color: var(--fill-color);\n",
              "      border-left-color: var(--fill-color);\n",
              "    }\n",
              "    20% {\n",
              "      border-color: transparent;\n",
              "      border-left-color: var(--fill-color);\n",
              "      border-top-color: var(--fill-color);\n",
              "    }\n",
              "    30% {\n",
              "      border-color: transparent;\n",
              "      border-left-color: var(--fill-color);\n",
              "      border-top-color: var(--fill-color);\n",
              "      border-right-color: var(--fill-color);\n",
              "    }\n",
              "    40% {\n",
              "      border-color: transparent;\n",
              "      border-right-color: var(--fill-color);\n",
              "      border-top-color: var(--fill-color);\n",
              "    }\n",
              "    60% {\n",
              "      border-color: transparent;\n",
              "      border-right-color: var(--fill-color);\n",
              "    }\n",
              "    80% {\n",
              "      border-color: transparent;\n",
              "      border-right-color: var(--fill-color);\n",
              "      border-bottom-color: var(--fill-color);\n",
              "    }\n",
              "    90% {\n",
              "      border-color: transparent;\n",
              "      border-bottom-color: var(--fill-color);\n",
              "    }\n",
              "  }\n",
              "</style>\n",
              "\n",
              "  <script>\n",
              "    async function quickchart(key) {\n",
              "      const quickchartButtonEl =\n",
              "        document.querySelector('#' + key + ' button');\n",
              "      quickchartButtonEl.disabled = true;  // To prevent multiple clicks.\n",
              "      quickchartButtonEl.classList.add('colab-df-spinner');\n",
              "      try {\n",
              "        const charts = await google.colab.kernel.invokeFunction(\n",
              "            'suggestCharts', [key], {});\n",
              "      } catch (error) {\n",
              "        console.error('Error during call to suggestCharts:', error);\n",
              "      }\n",
              "      quickchartButtonEl.classList.remove('colab-df-spinner');\n",
              "      quickchartButtonEl.classList.add('colab-df-quickchart-complete');\n",
              "    }\n",
              "    (() => {\n",
              "      let quickchartButtonEl =\n",
              "        document.querySelector('#df-521483e8-47c1-4615-890e-a557b7208a6f button');\n",
              "      quickchartButtonEl.style.display =\n",
              "        google.colab.kernel.accessAllowed ? 'block' : 'none';\n",
              "    })();\n",
              "  </script>\n",
              "</div>\n",
              "    </div>\n",
              "  </div>\n"
            ],
            "application/vnd.google.colaboratory.intrinsic+json": {
              "type": "dataframe",
              "variable_name": "insurance",
              "summary": "{\n  \"name\": \"insurance\",\n  \"rows\": 1338,\n  \"fields\": [\n    {\n      \"column\": \"age\",\n      \"properties\": {\n        \"dtype\": \"number\",\n        \"std\": 14,\n        \"min\": 18,\n        \"max\": 64,\n        \"num_unique_values\": 47,\n        \"samples\": [\n          21,\n          45,\n          36\n        ],\n        \"semantic_type\": \"\",\n        \"description\": \"\"\n      }\n    },\n    {\n      \"column\": \"sex\",\n      \"properties\": {\n        \"dtype\": \"category\",\n        \"num_unique_values\": 2,\n        \"samples\": [\n          \"male\",\n          \"female\"\n        ],\n        \"semantic_type\": \"\",\n        \"description\": \"\"\n      }\n    },\n    {\n      \"column\": \"bmi\",\n      \"properties\": {\n        \"dtype\": \"number\",\n        \"std\": 6.098186911679014,\n        \"min\": 15.96,\n        \"max\": 53.13,\n        \"num_unique_values\": 548,\n        \"samples\": [\n          23.18,\n          26.885\n        ],\n        \"semantic_type\": \"\",\n        \"description\": \"\"\n      }\n    },\n    {\n      \"column\": \"children\",\n      \"properties\": {\n        \"dtype\": \"number\",\n        \"std\": 1,\n        \"min\": 0,\n        \"max\": 5,\n        \"num_unique_values\": 6,\n        \"samples\": [\n          0,\n          1\n        ],\n        \"semantic_type\": \"\",\n        \"description\": \"\"\n      }\n    },\n    {\n      \"column\": \"smoker\",\n      \"properties\": {\n        \"dtype\": \"category\",\n        \"num_unique_values\": 2,\n        \"samples\": [\n          \"no\",\n          \"yes\"\n        ],\n        \"semantic_type\": \"\",\n        \"description\": \"\"\n      }\n    },\n    {\n      \"column\": \"region\",\n      \"properties\": {\n        \"dtype\": \"category\",\n        \"num_unique_values\": 4,\n        \"samples\": [\n          \"southeast\",\n          \"northeast\"\n        ],\n        \"semantic_type\": \"\",\n        \"description\": \"\"\n      }\n    },\n    {\n      \"column\": \"charges\",\n      \"properties\": {\n        \"dtype\": \"number\",\n        \"std\": 12110.011236694001,\n        \"min\": 1121.8739,\n        \"max\": 63770.42801,\n        \"num_unique_values\": 1337,\n        \"samples\": [\n          8688.85885,\n          5708.867\n        ],\n        \"semantic_type\": \"\",\n        \"description\": \"\"\n      }\n    }\n  ]\n}"
            }
          },
          "metadata": {},
          "execution_count": 77
        }
      ]
    },
    {
      "cell_type": "code",
      "source": [
        "insurance[\"sex\"]"
      ],
      "metadata": {
        "colab": {
          "base_uri": "https://localhost:8080/"
        },
        "id": "7AGioTdJneGl",
        "outputId": "d3ff6bf1-8f59-4826-bd84-3245ce2a2542"
      },
      "execution_count": 78,
      "outputs": [
        {
          "output_type": "execute_result",
          "data": {
            "text/plain": [
              "0       female\n",
              "1         male\n",
              "2         male\n",
              "3         male\n",
              "4         male\n",
              "         ...  \n",
              "1333      male\n",
              "1334    female\n",
              "1335    female\n",
              "1336    female\n",
              "1337    female\n",
              "Name: sex, Length: 1338, dtype: object"
            ]
          },
          "metadata": {},
          "execution_count": 78
        }
      ]
    },
    {
      "cell_type": "code",
      "source": [
        "insurance[\"age\"]"
      ],
      "metadata": {
        "colab": {
          "base_uri": "https://localhost:8080/"
        },
        "id": "VeNCha2CnqMZ",
        "outputId": "7a3ae917-0abc-4add-c197-af95079b7d69"
      },
      "execution_count": 79,
      "outputs": [
        {
          "output_type": "execute_result",
          "data": {
            "text/plain": [
              "0       19\n",
              "1       18\n",
              "2       28\n",
              "3       33\n",
              "4       32\n",
              "        ..\n",
              "1333    50\n",
              "1334    18\n",
              "1335    18\n",
              "1336    21\n",
              "1337    61\n",
              "Name: age, Length: 1338, dtype: int64"
            ]
          },
          "metadata": {},
          "execution_count": 79
        }
      ]
    },
    {
      "cell_type": "code",
      "source": [
        "# OneHot endcode for our non numerical type but using pandas(automaticly)\n",
        "insurance_one_hot = pd.get_dummies(insurance)\n",
        "insurance_one_hot.head()"
      ],
      "metadata": {
        "colab": {
          "base_uri": "https://localhost:8080/",
          "height": 206
        },
        "id": "bGJOoiQ6ns9m",
        "outputId": "33a0893b-705a-433b-e74c-9afc0ce84234"
      },
      "execution_count": 80,
      "outputs": [
        {
          "output_type": "execute_result",
          "data": {
            "text/plain": [
              "   age     bmi  children      charges  sex_female  sex_male  smoker_no  \\\n",
              "0   19  27.900         0  16884.92400           1         0          0   \n",
              "1   18  33.770         1   1725.55230           0         1          1   \n",
              "2   28  33.000         3   4449.46200           0         1          1   \n",
              "3   33  22.705         0  21984.47061           0         1          1   \n",
              "4   32  28.880         0   3866.85520           0         1          1   \n",
              "\n",
              "   smoker_yes  region_northeast  region_northwest  region_southeast  \\\n",
              "0           1                 0                 0                 0   \n",
              "1           0                 0                 0                 1   \n",
              "2           0                 0                 0                 1   \n",
              "3           0                 0                 1                 0   \n",
              "4           0                 0                 1                 0   \n",
              "\n",
              "   region_southwest  \n",
              "0                 1  \n",
              "1                 0  \n",
              "2                 0  \n",
              "3                 0  \n",
              "4                 0  "
            ],
            "text/html": [
              "\n",
              "  <div id=\"df-e627f91c-2718-4dc7-a718-4042c3e1165d\" class=\"colab-df-container\">\n",
              "    <div>\n",
              "<style scoped>\n",
              "    .dataframe tbody tr th:only-of-type {\n",
              "        vertical-align: middle;\n",
              "    }\n",
              "\n",
              "    .dataframe tbody tr th {\n",
              "        vertical-align: top;\n",
              "    }\n",
              "\n",
              "    .dataframe thead th {\n",
              "        text-align: right;\n",
              "    }\n",
              "</style>\n",
              "<table border=\"1\" class=\"dataframe\">\n",
              "  <thead>\n",
              "    <tr style=\"text-align: right;\">\n",
              "      <th></th>\n",
              "      <th>age</th>\n",
              "      <th>bmi</th>\n",
              "      <th>children</th>\n",
              "      <th>charges</th>\n",
              "      <th>sex_female</th>\n",
              "      <th>sex_male</th>\n",
              "      <th>smoker_no</th>\n",
              "      <th>smoker_yes</th>\n",
              "      <th>region_northeast</th>\n",
              "      <th>region_northwest</th>\n",
              "      <th>region_southeast</th>\n",
              "      <th>region_southwest</th>\n",
              "    </tr>\n",
              "  </thead>\n",
              "  <tbody>\n",
              "    <tr>\n",
              "      <th>0</th>\n",
              "      <td>19</td>\n",
              "      <td>27.900</td>\n",
              "      <td>0</td>\n",
              "      <td>16884.92400</td>\n",
              "      <td>1</td>\n",
              "      <td>0</td>\n",
              "      <td>0</td>\n",
              "      <td>1</td>\n",
              "      <td>0</td>\n",
              "      <td>0</td>\n",
              "      <td>0</td>\n",
              "      <td>1</td>\n",
              "    </tr>\n",
              "    <tr>\n",
              "      <th>1</th>\n",
              "      <td>18</td>\n",
              "      <td>33.770</td>\n",
              "      <td>1</td>\n",
              "      <td>1725.55230</td>\n",
              "      <td>0</td>\n",
              "      <td>1</td>\n",
              "      <td>1</td>\n",
              "      <td>0</td>\n",
              "      <td>0</td>\n",
              "      <td>0</td>\n",
              "      <td>1</td>\n",
              "      <td>0</td>\n",
              "    </tr>\n",
              "    <tr>\n",
              "      <th>2</th>\n",
              "      <td>28</td>\n",
              "      <td>33.000</td>\n",
              "      <td>3</td>\n",
              "      <td>4449.46200</td>\n",
              "      <td>0</td>\n",
              "      <td>1</td>\n",
              "      <td>1</td>\n",
              "      <td>0</td>\n",
              "      <td>0</td>\n",
              "      <td>0</td>\n",
              "      <td>1</td>\n",
              "      <td>0</td>\n",
              "    </tr>\n",
              "    <tr>\n",
              "      <th>3</th>\n",
              "      <td>33</td>\n",
              "      <td>22.705</td>\n",
              "      <td>0</td>\n",
              "      <td>21984.47061</td>\n",
              "      <td>0</td>\n",
              "      <td>1</td>\n",
              "      <td>1</td>\n",
              "      <td>0</td>\n",
              "      <td>0</td>\n",
              "      <td>1</td>\n",
              "      <td>0</td>\n",
              "      <td>0</td>\n",
              "    </tr>\n",
              "    <tr>\n",
              "      <th>4</th>\n",
              "      <td>32</td>\n",
              "      <td>28.880</td>\n",
              "      <td>0</td>\n",
              "      <td>3866.85520</td>\n",
              "      <td>0</td>\n",
              "      <td>1</td>\n",
              "      <td>1</td>\n",
              "      <td>0</td>\n",
              "      <td>0</td>\n",
              "      <td>1</td>\n",
              "      <td>0</td>\n",
              "      <td>0</td>\n",
              "    </tr>\n",
              "  </tbody>\n",
              "</table>\n",
              "</div>\n",
              "    <div class=\"colab-df-buttons\">\n",
              "\n",
              "  <div class=\"colab-df-container\">\n",
              "    <button class=\"colab-df-convert\" onclick=\"convertToInteractive('df-e627f91c-2718-4dc7-a718-4042c3e1165d')\"\n",
              "            title=\"Convert this dataframe to an interactive table.\"\n",
              "            style=\"display:none;\">\n",
              "\n",
              "  <svg xmlns=\"http://www.w3.org/2000/svg\" height=\"24px\" viewBox=\"0 -960 960 960\">\n",
              "    <path d=\"M120-120v-720h720v720H120Zm60-500h600v-160H180v160Zm220 220h160v-160H400v160Zm0 220h160v-160H400v160ZM180-400h160v-160H180v160Zm440 0h160v-160H620v160ZM180-180h160v-160H180v160Zm440 0h160v-160H620v160Z\"/>\n",
              "  </svg>\n",
              "    </button>\n",
              "\n",
              "  <style>\n",
              "    .colab-df-container {\n",
              "      display:flex;\n",
              "      gap: 12px;\n",
              "    }\n",
              "\n",
              "    .colab-df-convert {\n",
              "      background-color: #E8F0FE;\n",
              "      border: none;\n",
              "      border-radius: 50%;\n",
              "      cursor: pointer;\n",
              "      display: none;\n",
              "      fill: #1967D2;\n",
              "      height: 32px;\n",
              "      padding: 0 0 0 0;\n",
              "      width: 32px;\n",
              "    }\n",
              "\n",
              "    .colab-df-convert:hover {\n",
              "      background-color: #E2EBFA;\n",
              "      box-shadow: 0px 1px 2px rgba(60, 64, 67, 0.3), 0px 1px 3px 1px rgba(60, 64, 67, 0.15);\n",
              "      fill: #174EA6;\n",
              "    }\n",
              "\n",
              "    .colab-df-buttons div {\n",
              "      margin-bottom: 4px;\n",
              "    }\n",
              "\n",
              "    [theme=dark] .colab-df-convert {\n",
              "      background-color: #3B4455;\n",
              "      fill: #D2E3FC;\n",
              "    }\n",
              "\n",
              "    [theme=dark] .colab-df-convert:hover {\n",
              "      background-color: #434B5C;\n",
              "      box-shadow: 0px 1px 3px 1px rgba(0, 0, 0, 0.15);\n",
              "      filter: drop-shadow(0px 1px 2px rgba(0, 0, 0, 0.3));\n",
              "      fill: #FFFFFF;\n",
              "    }\n",
              "  </style>\n",
              "\n",
              "    <script>\n",
              "      const buttonEl =\n",
              "        document.querySelector('#df-e627f91c-2718-4dc7-a718-4042c3e1165d button.colab-df-convert');\n",
              "      buttonEl.style.display =\n",
              "        google.colab.kernel.accessAllowed ? 'block' : 'none';\n",
              "\n",
              "      async function convertToInteractive(key) {\n",
              "        const element = document.querySelector('#df-e627f91c-2718-4dc7-a718-4042c3e1165d');\n",
              "        const dataTable =\n",
              "          await google.colab.kernel.invokeFunction('convertToInteractive',\n",
              "                                                    [key], {});\n",
              "        if (!dataTable) return;\n",
              "\n",
              "        const docLinkHtml = 'Like what you see? Visit the ' +\n",
              "          '<a target=\"_blank\" href=https://colab.research.google.com/notebooks/data_table.ipynb>data table notebook</a>'\n",
              "          + ' to learn more about interactive tables.';\n",
              "        element.innerHTML = '';\n",
              "        dataTable['output_type'] = 'display_data';\n",
              "        await google.colab.output.renderOutput(dataTable, element);\n",
              "        const docLink = document.createElement('div');\n",
              "        docLink.innerHTML = docLinkHtml;\n",
              "        element.appendChild(docLink);\n",
              "      }\n",
              "    </script>\n",
              "  </div>\n",
              "\n",
              "\n",
              "<div id=\"df-8349bb9d-7cd0-4cd4-b749-3fdb939341f7\">\n",
              "  <button class=\"colab-df-quickchart\" onclick=\"quickchart('df-8349bb9d-7cd0-4cd4-b749-3fdb939341f7')\"\n",
              "            title=\"Suggest charts\"\n",
              "            style=\"display:none;\">\n",
              "\n",
              "<svg xmlns=\"http://www.w3.org/2000/svg\" height=\"24px\"viewBox=\"0 0 24 24\"\n",
              "     width=\"24px\">\n",
              "    <g>\n",
              "        <path d=\"M19 3H5c-1.1 0-2 .9-2 2v14c0 1.1.9 2 2 2h14c1.1 0 2-.9 2-2V5c0-1.1-.9-2-2-2zM9 17H7v-7h2v7zm4 0h-2V7h2v10zm4 0h-2v-4h2v4z\"/>\n",
              "    </g>\n",
              "</svg>\n",
              "  </button>\n",
              "\n",
              "<style>\n",
              "  .colab-df-quickchart {\n",
              "      --bg-color: #E8F0FE;\n",
              "      --fill-color: #1967D2;\n",
              "      --hover-bg-color: #E2EBFA;\n",
              "      --hover-fill-color: #174EA6;\n",
              "      --disabled-fill-color: #AAA;\n",
              "      --disabled-bg-color: #DDD;\n",
              "  }\n",
              "\n",
              "  [theme=dark] .colab-df-quickchart {\n",
              "      --bg-color: #3B4455;\n",
              "      --fill-color: #D2E3FC;\n",
              "      --hover-bg-color: #434B5C;\n",
              "      --hover-fill-color: #FFFFFF;\n",
              "      --disabled-bg-color: #3B4455;\n",
              "      --disabled-fill-color: #666;\n",
              "  }\n",
              "\n",
              "  .colab-df-quickchart {\n",
              "    background-color: var(--bg-color);\n",
              "    border: none;\n",
              "    border-radius: 50%;\n",
              "    cursor: pointer;\n",
              "    display: none;\n",
              "    fill: var(--fill-color);\n",
              "    height: 32px;\n",
              "    padding: 0;\n",
              "    width: 32px;\n",
              "  }\n",
              "\n",
              "  .colab-df-quickchart:hover {\n",
              "    background-color: var(--hover-bg-color);\n",
              "    box-shadow: 0 1px 2px rgba(60, 64, 67, 0.3), 0 1px 3px 1px rgba(60, 64, 67, 0.15);\n",
              "    fill: var(--button-hover-fill-color);\n",
              "  }\n",
              "\n",
              "  .colab-df-quickchart-complete:disabled,\n",
              "  .colab-df-quickchart-complete:disabled:hover {\n",
              "    background-color: var(--disabled-bg-color);\n",
              "    fill: var(--disabled-fill-color);\n",
              "    box-shadow: none;\n",
              "  }\n",
              "\n",
              "  .colab-df-spinner {\n",
              "    border: 2px solid var(--fill-color);\n",
              "    border-color: transparent;\n",
              "    border-bottom-color: var(--fill-color);\n",
              "    animation:\n",
              "      spin 1s steps(1) infinite;\n",
              "  }\n",
              "\n",
              "  @keyframes spin {\n",
              "    0% {\n",
              "      border-color: transparent;\n",
              "      border-bottom-color: var(--fill-color);\n",
              "      border-left-color: var(--fill-color);\n",
              "    }\n",
              "    20% {\n",
              "      border-color: transparent;\n",
              "      border-left-color: var(--fill-color);\n",
              "      border-top-color: var(--fill-color);\n",
              "    }\n",
              "    30% {\n",
              "      border-color: transparent;\n",
              "      border-left-color: var(--fill-color);\n",
              "      border-top-color: var(--fill-color);\n",
              "      border-right-color: var(--fill-color);\n",
              "    }\n",
              "    40% {\n",
              "      border-color: transparent;\n",
              "      border-right-color: var(--fill-color);\n",
              "      border-top-color: var(--fill-color);\n",
              "    }\n",
              "    60% {\n",
              "      border-color: transparent;\n",
              "      border-right-color: var(--fill-color);\n",
              "    }\n",
              "    80% {\n",
              "      border-color: transparent;\n",
              "      border-right-color: var(--fill-color);\n",
              "      border-bottom-color: var(--fill-color);\n",
              "    }\n",
              "    90% {\n",
              "      border-color: transparent;\n",
              "      border-bottom-color: var(--fill-color);\n",
              "    }\n",
              "  }\n",
              "</style>\n",
              "\n",
              "  <script>\n",
              "    async function quickchart(key) {\n",
              "      const quickchartButtonEl =\n",
              "        document.querySelector('#' + key + ' button');\n",
              "      quickchartButtonEl.disabled = true;  // To prevent multiple clicks.\n",
              "      quickchartButtonEl.classList.add('colab-df-spinner');\n",
              "      try {\n",
              "        const charts = await google.colab.kernel.invokeFunction(\n",
              "            'suggestCharts', [key], {});\n",
              "      } catch (error) {\n",
              "        console.error('Error during call to suggestCharts:', error);\n",
              "      }\n",
              "      quickchartButtonEl.classList.remove('colab-df-spinner');\n",
              "      quickchartButtonEl.classList.add('colab-df-quickchart-complete');\n",
              "    }\n",
              "    (() => {\n",
              "      let quickchartButtonEl =\n",
              "        document.querySelector('#df-8349bb9d-7cd0-4cd4-b749-3fdb939341f7 button');\n",
              "      quickchartButtonEl.style.display =\n",
              "        google.colab.kernel.accessAllowed ? 'block' : 'none';\n",
              "    })();\n",
              "  </script>\n",
              "</div>\n",
              "    </div>\n",
              "  </div>\n"
            ],
            "application/vnd.google.colaboratory.intrinsic+json": {
              "type": "dataframe",
              "variable_name": "insurance_one_hot",
              "summary": "{\n  \"name\": \"insurance_one_hot\",\n  \"rows\": 1338,\n  \"fields\": [\n    {\n      \"column\": \"age\",\n      \"properties\": {\n        \"dtype\": \"number\",\n        \"std\": 14,\n        \"min\": 18,\n        \"max\": 64,\n        \"num_unique_values\": 47,\n        \"samples\": [\n          21,\n          45,\n          36\n        ],\n        \"semantic_type\": \"\",\n        \"description\": \"\"\n      }\n    },\n    {\n      \"column\": \"bmi\",\n      \"properties\": {\n        \"dtype\": \"number\",\n        \"std\": 6.098186911679014,\n        \"min\": 15.96,\n        \"max\": 53.13,\n        \"num_unique_values\": 548,\n        \"samples\": [\n          23.18,\n          26.885,\n          29.26\n        ],\n        \"semantic_type\": \"\",\n        \"description\": \"\"\n      }\n    },\n    {\n      \"column\": \"children\",\n      \"properties\": {\n        \"dtype\": \"number\",\n        \"std\": 1,\n        \"min\": 0,\n        \"max\": 5,\n        \"num_unique_values\": 6,\n        \"samples\": [\n          0,\n          1,\n          4\n        ],\n        \"semantic_type\": \"\",\n        \"description\": \"\"\n      }\n    },\n    {\n      \"column\": \"charges\",\n      \"properties\": {\n        \"dtype\": \"number\",\n        \"std\": 12110.011236694001,\n        \"min\": 1121.8739,\n        \"max\": 63770.42801,\n        \"num_unique_values\": 1337,\n        \"samples\": [\n          8688.85885,\n          5708.867,\n          11436.73815\n        ],\n        \"semantic_type\": \"\",\n        \"description\": \"\"\n      }\n    },\n    {\n      \"column\": \"sex_female\",\n      \"properties\": {\n        \"dtype\": \"uint8\",\n        \"num_unique_values\": 2,\n        \"samples\": [\n          0,\n          1\n        ],\n        \"semantic_type\": \"\",\n        \"description\": \"\"\n      }\n    },\n    {\n      \"column\": \"sex_male\",\n      \"properties\": {\n        \"dtype\": \"uint8\",\n        \"num_unique_values\": 2,\n        \"samples\": [\n          1,\n          0\n        ],\n        \"semantic_type\": \"\",\n        \"description\": \"\"\n      }\n    },\n    {\n      \"column\": \"smoker_no\",\n      \"properties\": {\n        \"dtype\": \"uint8\",\n        \"num_unique_values\": 2,\n        \"samples\": [\n          1,\n          0\n        ],\n        \"semantic_type\": \"\",\n        \"description\": \"\"\n      }\n    },\n    {\n      \"column\": \"smoker_yes\",\n      \"properties\": {\n        \"dtype\": \"uint8\",\n        \"num_unique_values\": 2,\n        \"samples\": [\n          0,\n          1\n        ],\n        \"semantic_type\": \"\",\n        \"description\": \"\"\n      }\n    },\n    {\n      \"column\": \"region_northeast\",\n      \"properties\": {\n        \"dtype\": \"uint8\",\n        \"num_unique_values\": 2,\n        \"samples\": [\n          1,\n          0\n        ],\n        \"semantic_type\": \"\",\n        \"description\": \"\"\n      }\n    },\n    {\n      \"column\": \"region_northwest\",\n      \"properties\": {\n        \"dtype\": \"uint8\",\n        \"num_unique_values\": 2,\n        \"samples\": [\n          1,\n          0\n        ],\n        \"semantic_type\": \"\",\n        \"description\": \"\"\n      }\n    },\n    {\n      \"column\": \"region_southeast\",\n      \"properties\": {\n        \"dtype\": \"uint8\",\n        \"num_unique_values\": 2,\n        \"samples\": [\n          1,\n          0\n        ],\n        \"semantic_type\": \"\",\n        \"description\": \"\"\n      }\n    },\n    {\n      \"column\": \"region_southwest\",\n      \"properties\": {\n        \"dtype\": \"uint8\",\n        \"num_unique_values\": 2,\n        \"samples\": [\n          0,\n          1\n        ],\n        \"semantic_type\": \"\",\n        \"description\": \"\"\n      }\n    }\n  ]\n}"
            }
          },
          "metadata": {},
          "execution_count": 80
        }
      ]
    },
    {
      "cell_type": "markdown",
      "source": [
        "### Create X & Y Values (Features and labels)"
      ],
      "metadata": {
        "id": "O2wYeWe3p51_"
      }
    },
    {
      "cell_type": "code",
      "source": [
        "# Create X and Y\n",
        "x = insurance_one_hot.drop(\"charges\", axis=1)\n",
        "y = insurance_one_hot[\"charges\"]"
      ],
      "metadata": {
        "id": "lL96lpLTpqds"
      },
      "execution_count": 81,
      "outputs": []
    },
    {
      "cell_type": "code",
      "source": [
        "# view x\n",
        "x.head()"
      ],
      "metadata": {
        "colab": {
          "base_uri": "https://localhost:8080/",
          "height": 206
        },
        "id": "kg7Hm_PdRVv-",
        "outputId": "4de46485-47ca-4e4e-8715-b0c965f5dead"
      },
      "execution_count": 82,
      "outputs": [
        {
          "output_type": "execute_result",
          "data": {
            "text/plain": [
              "   age     bmi  children  sex_female  sex_male  smoker_no  smoker_yes  \\\n",
              "0   19  27.900         0           1         0          0           1   \n",
              "1   18  33.770         1           0         1          1           0   \n",
              "2   28  33.000         3           0         1          1           0   \n",
              "3   33  22.705         0           0         1          1           0   \n",
              "4   32  28.880         0           0         1          1           0   \n",
              "\n",
              "   region_northeast  region_northwest  region_southeast  region_southwest  \n",
              "0                 0                 0                 0                 1  \n",
              "1                 0                 0                 1                 0  \n",
              "2                 0                 0                 1                 0  \n",
              "3                 0                 1                 0                 0  \n",
              "4                 0                 1                 0                 0  "
            ],
            "text/html": [
              "\n",
              "  <div id=\"df-d2344284-5c6c-4564-853e-f8f922a0f7be\" class=\"colab-df-container\">\n",
              "    <div>\n",
              "<style scoped>\n",
              "    .dataframe tbody tr th:only-of-type {\n",
              "        vertical-align: middle;\n",
              "    }\n",
              "\n",
              "    .dataframe tbody tr th {\n",
              "        vertical-align: top;\n",
              "    }\n",
              "\n",
              "    .dataframe thead th {\n",
              "        text-align: right;\n",
              "    }\n",
              "</style>\n",
              "<table border=\"1\" class=\"dataframe\">\n",
              "  <thead>\n",
              "    <tr style=\"text-align: right;\">\n",
              "      <th></th>\n",
              "      <th>age</th>\n",
              "      <th>bmi</th>\n",
              "      <th>children</th>\n",
              "      <th>sex_female</th>\n",
              "      <th>sex_male</th>\n",
              "      <th>smoker_no</th>\n",
              "      <th>smoker_yes</th>\n",
              "      <th>region_northeast</th>\n",
              "      <th>region_northwest</th>\n",
              "      <th>region_southeast</th>\n",
              "      <th>region_southwest</th>\n",
              "    </tr>\n",
              "  </thead>\n",
              "  <tbody>\n",
              "    <tr>\n",
              "      <th>0</th>\n",
              "      <td>19</td>\n",
              "      <td>27.900</td>\n",
              "      <td>0</td>\n",
              "      <td>1</td>\n",
              "      <td>0</td>\n",
              "      <td>0</td>\n",
              "      <td>1</td>\n",
              "      <td>0</td>\n",
              "      <td>0</td>\n",
              "      <td>0</td>\n",
              "      <td>1</td>\n",
              "    </tr>\n",
              "    <tr>\n",
              "      <th>1</th>\n",
              "      <td>18</td>\n",
              "      <td>33.770</td>\n",
              "      <td>1</td>\n",
              "      <td>0</td>\n",
              "      <td>1</td>\n",
              "      <td>1</td>\n",
              "      <td>0</td>\n",
              "      <td>0</td>\n",
              "      <td>0</td>\n",
              "      <td>1</td>\n",
              "      <td>0</td>\n",
              "    </tr>\n",
              "    <tr>\n",
              "      <th>2</th>\n",
              "      <td>28</td>\n",
              "      <td>33.000</td>\n",
              "      <td>3</td>\n",
              "      <td>0</td>\n",
              "      <td>1</td>\n",
              "      <td>1</td>\n",
              "      <td>0</td>\n",
              "      <td>0</td>\n",
              "      <td>0</td>\n",
              "      <td>1</td>\n",
              "      <td>0</td>\n",
              "    </tr>\n",
              "    <tr>\n",
              "      <th>3</th>\n",
              "      <td>33</td>\n",
              "      <td>22.705</td>\n",
              "      <td>0</td>\n",
              "      <td>0</td>\n",
              "      <td>1</td>\n",
              "      <td>1</td>\n",
              "      <td>0</td>\n",
              "      <td>0</td>\n",
              "      <td>1</td>\n",
              "      <td>0</td>\n",
              "      <td>0</td>\n",
              "    </tr>\n",
              "    <tr>\n",
              "      <th>4</th>\n",
              "      <td>32</td>\n",
              "      <td>28.880</td>\n",
              "      <td>0</td>\n",
              "      <td>0</td>\n",
              "      <td>1</td>\n",
              "      <td>1</td>\n",
              "      <td>0</td>\n",
              "      <td>0</td>\n",
              "      <td>1</td>\n",
              "      <td>0</td>\n",
              "      <td>0</td>\n",
              "    </tr>\n",
              "  </tbody>\n",
              "</table>\n",
              "</div>\n",
              "    <div class=\"colab-df-buttons\">\n",
              "\n",
              "  <div class=\"colab-df-container\">\n",
              "    <button class=\"colab-df-convert\" onclick=\"convertToInteractive('df-d2344284-5c6c-4564-853e-f8f922a0f7be')\"\n",
              "            title=\"Convert this dataframe to an interactive table.\"\n",
              "            style=\"display:none;\">\n",
              "\n",
              "  <svg xmlns=\"http://www.w3.org/2000/svg\" height=\"24px\" viewBox=\"0 -960 960 960\">\n",
              "    <path d=\"M120-120v-720h720v720H120Zm60-500h600v-160H180v160Zm220 220h160v-160H400v160Zm0 220h160v-160H400v160ZM180-400h160v-160H180v160Zm440 0h160v-160H620v160ZM180-180h160v-160H180v160Zm440 0h160v-160H620v160Z\"/>\n",
              "  </svg>\n",
              "    </button>\n",
              "\n",
              "  <style>\n",
              "    .colab-df-container {\n",
              "      display:flex;\n",
              "      gap: 12px;\n",
              "    }\n",
              "\n",
              "    .colab-df-convert {\n",
              "      background-color: #E8F0FE;\n",
              "      border: none;\n",
              "      border-radius: 50%;\n",
              "      cursor: pointer;\n",
              "      display: none;\n",
              "      fill: #1967D2;\n",
              "      height: 32px;\n",
              "      padding: 0 0 0 0;\n",
              "      width: 32px;\n",
              "    }\n",
              "\n",
              "    .colab-df-convert:hover {\n",
              "      background-color: #E2EBFA;\n",
              "      box-shadow: 0px 1px 2px rgba(60, 64, 67, 0.3), 0px 1px 3px 1px rgba(60, 64, 67, 0.15);\n",
              "      fill: #174EA6;\n",
              "    }\n",
              "\n",
              "    .colab-df-buttons div {\n",
              "      margin-bottom: 4px;\n",
              "    }\n",
              "\n",
              "    [theme=dark] .colab-df-convert {\n",
              "      background-color: #3B4455;\n",
              "      fill: #D2E3FC;\n",
              "    }\n",
              "\n",
              "    [theme=dark] .colab-df-convert:hover {\n",
              "      background-color: #434B5C;\n",
              "      box-shadow: 0px 1px 3px 1px rgba(0, 0, 0, 0.15);\n",
              "      filter: drop-shadow(0px 1px 2px rgba(0, 0, 0, 0.3));\n",
              "      fill: #FFFFFF;\n",
              "    }\n",
              "  </style>\n",
              "\n",
              "    <script>\n",
              "      const buttonEl =\n",
              "        document.querySelector('#df-d2344284-5c6c-4564-853e-f8f922a0f7be button.colab-df-convert');\n",
              "      buttonEl.style.display =\n",
              "        google.colab.kernel.accessAllowed ? 'block' : 'none';\n",
              "\n",
              "      async function convertToInteractive(key) {\n",
              "        const element = document.querySelector('#df-d2344284-5c6c-4564-853e-f8f922a0f7be');\n",
              "        const dataTable =\n",
              "          await google.colab.kernel.invokeFunction('convertToInteractive',\n",
              "                                                    [key], {});\n",
              "        if (!dataTable) return;\n",
              "\n",
              "        const docLinkHtml = 'Like what you see? Visit the ' +\n",
              "          '<a target=\"_blank\" href=https://colab.research.google.com/notebooks/data_table.ipynb>data table notebook</a>'\n",
              "          + ' to learn more about interactive tables.';\n",
              "        element.innerHTML = '';\n",
              "        dataTable['output_type'] = 'display_data';\n",
              "        await google.colab.output.renderOutput(dataTable, element);\n",
              "        const docLink = document.createElement('div');\n",
              "        docLink.innerHTML = docLinkHtml;\n",
              "        element.appendChild(docLink);\n",
              "      }\n",
              "    </script>\n",
              "  </div>\n",
              "\n",
              "\n",
              "<div id=\"df-f3d2e395-4ccd-4ac4-a9b6-62174b76f754\">\n",
              "  <button class=\"colab-df-quickchart\" onclick=\"quickchart('df-f3d2e395-4ccd-4ac4-a9b6-62174b76f754')\"\n",
              "            title=\"Suggest charts\"\n",
              "            style=\"display:none;\">\n",
              "\n",
              "<svg xmlns=\"http://www.w3.org/2000/svg\" height=\"24px\"viewBox=\"0 0 24 24\"\n",
              "     width=\"24px\">\n",
              "    <g>\n",
              "        <path d=\"M19 3H5c-1.1 0-2 .9-2 2v14c0 1.1.9 2 2 2h14c1.1 0 2-.9 2-2V5c0-1.1-.9-2-2-2zM9 17H7v-7h2v7zm4 0h-2V7h2v10zm4 0h-2v-4h2v4z\"/>\n",
              "    </g>\n",
              "</svg>\n",
              "  </button>\n",
              "\n",
              "<style>\n",
              "  .colab-df-quickchart {\n",
              "      --bg-color: #E8F0FE;\n",
              "      --fill-color: #1967D2;\n",
              "      --hover-bg-color: #E2EBFA;\n",
              "      --hover-fill-color: #174EA6;\n",
              "      --disabled-fill-color: #AAA;\n",
              "      --disabled-bg-color: #DDD;\n",
              "  }\n",
              "\n",
              "  [theme=dark] .colab-df-quickchart {\n",
              "      --bg-color: #3B4455;\n",
              "      --fill-color: #D2E3FC;\n",
              "      --hover-bg-color: #434B5C;\n",
              "      --hover-fill-color: #FFFFFF;\n",
              "      --disabled-bg-color: #3B4455;\n",
              "      --disabled-fill-color: #666;\n",
              "  }\n",
              "\n",
              "  .colab-df-quickchart {\n",
              "    background-color: var(--bg-color);\n",
              "    border: none;\n",
              "    border-radius: 50%;\n",
              "    cursor: pointer;\n",
              "    display: none;\n",
              "    fill: var(--fill-color);\n",
              "    height: 32px;\n",
              "    padding: 0;\n",
              "    width: 32px;\n",
              "  }\n",
              "\n",
              "  .colab-df-quickchart:hover {\n",
              "    background-color: var(--hover-bg-color);\n",
              "    box-shadow: 0 1px 2px rgba(60, 64, 67, 0.3), 0 1px 3px 1px rgba(60, 64, 67, 0.15);\n",
              "    fill: var(--button-hover-fill-color);\n",
              "  }\n",
              "\n",
              "  .colab-df-quickchart-complete:disabled,\n",
              "  .colab-df-quickchart-complete:disabled:hover {\n",
              "    background-color: var(--disabled-bg-color);\n",
              "    fill: var(--disabled-fill-color);\n",
              "    box-shadow: none;\n",
              "  }\n",
              "\n",
              "  .colab-df-spinner {\n",
              "    border: 2px solid var(--fill-color);\n",
              "    border-color: transparent;\n",
              "    border-bottom-color: var(--fill-color);\n",
              "    animation:\n",
              "      spin 1s steps(1) infinite;\n",
              "  }\n",
              "\n",
              "  @keyframes spin {\n",
              "    0% {\n",
              "      border-color: transparent;\n",
              "      border-bottom-color: var(--fill-color);\n",
              "      border-left-color: var(--fill-color);\n",
              "    }\n",
              "    20% {\n",
              "      border-color: transparent;\n",
              "      border-left-color: var(--fill-color);\n",
              "      border-top-color: var(--fill-color);\n",
              "    }\n",
              "    30% {\n",
              "      border-color: transparent;\n",
              "      border-left-color: var(--fill-color);\n",
              "      border-top-color: var(--fill-color);\n",
              "      border-right-color: var(--fill-color);\n",
              "    }\n",
              "    40% {\n",
              "      border-color: transparent;\n",
              "      border-right-color: var(--fill-color);\n",
              "      border-top-color: var(--fill-color);\n",
              "    }\n",
              "    60% {\n",
              "      border-color: transparent;\n",
              "      border-right-color: var(--fill-color);\n",
              "    }\n",
              "    80% {\n",
              "      border-color: transparent;\n",
              "      border-right-color: var(--fill-color);\n",
              "      border-bottom-color: var(--fill-color);\n",
              "    }\n",
              "    90% {\n",
              "      border-color: transparent;\n",
              "      border-bottom-color: var(--fill-color);\n",
              "    }\n",
              "  }\n",
              "</style>\n",
              "\n",
              "  <script>\n",
              "    async function quickchart(key) {\n",
              "      const quickchartButtonEl =\n",
              "        document.querySelector('#' + key + ' button');\n",
              "      quickchartButtonEl.disabled = true;  // To prevent multiple clicks.\n",
              "      quickchartButtonEl.classList.add('colab-df-spinner');\n",
              "      try {\n",
              "        const charts = await google.colab.kernel.invokeFunction(\n",
              "            'suggestCharts', [key], {});\n",
              "      } catch (error) {\n",
              "        console.error('Error during call to suggestCharts:', error);\n",
              "      }\n",
              "      quickchartButtonEl.classList.remove('colab-df-spinner');\n",
              "      quickchartButtonEl.classList.add('colab-df-quickchart-complete');\n",
              "    }\n",
              "    (() => {\n",
              "      let quickchartButtonEl =\n",
              "        document.querySelector('#df-f3d2e395-4ccd-4ac4-a9b6-62174b76f754 button');\n",
              "      quickchartButtonEl.style.display =\n",
              "        google.colab.kernel.accessAllowed ? 'block' : 'none';\n",
              "    })();\n",
              "  </script>\n",
              "</div>\n",
              "    </div>\n",
              "  </div>\n"
            ],
            "application/vnd.google.colaboratory.intrinsic+json": {
              "type": "dataframe",
              "variable_name": "x",
              "summary": "{\n  \"name\": \"x\",\n  \"rows\": 1338,\n  \"fields\": [\n    {\n      \"column\": \"age\",\n      \"properties\": {\n        \"dtype\": \"number\",\n        \"std\": 14,\n        \"min\": 18,\n        \"max\": 64,\n        \"num_unique_values\": 47,\n        \"samples\": [\n          21,\n          45,\n          36\n        ],\n        \"semantic_type\": \"\",\n        \"description\": \"\"\n      }\n    },\n    {\n      \"column\": \"bmi\",\n      \"properties\": {\n        \"dtype\": \"number\",\n        \"std\": 6.098186911679014,\n        \"min\": 15.96,\n        \"max\": 53.13,\n        \"num_unique_values\": 548,\n        \"samples\": [\n          23.18,\n          26.885,\n          29.26\n        ],\n        \"semantic_type\": \"\",\n        \"description\": \"\"\n      }\n    },\n    {\n      \"column\": \"children\",\n      \"properties\": {\n        \"dtype\": \"number\",\n        \"std\": 1,\n        \"min\": 0,\n        \"max\": 5,\n        \"num_unique_values\": 6,\n        \"samples\": [\n          0,\n          1,\n          4\n        ],\n        \"semantic_type\": \"\",\n        \"description\": \"\"\n      }\n    },\n    {\n      \"column\": \"sex_female\",\n      \"properties\": {\n        \"dtype\": \"uint8\",\n        \"num_unique_values\": 2,\n        \"samples\": [\n          0,\n          1\n        ],\n        \"semantic_type\": \"\",\n        \"description\": \"\"\n      }\n    },\n    {\n      \"column\": \"sex_male\",\n      \"properties\": {\n        \"dtype\": \"uint8\",\n        \"num_unique_values\": 2,\n        \"samples\": [\n          1,\n          0\n        ],\n        \"semantic_type\": \"\",\n        \"description\": \"\"\n      }\n    },\n    {\n      \"column\": \"smoker_no\",\n      \"properties\": {\n        \"dtype\": \"uint8\",\n        \"num_unique_values\": 2,\n        \"samples\": [\n          1,\n          0\n        ],\n        \"semantic_type\": \"\",\n        \"description\": \"\"\n      }\n    },\n    {\n      \"column\": \"smoker_yes\",\n      \"properties\": {\n        \"dtype\": \"uint8\",\n        \"num_unique_values\": 2,\n        \"samples\": [\n          0,\n          1\n        ],\n        \"semantic_type\": \"\",\n        \"description\": \"\"\n      }\n    },\n    {\n      \"column\": \"region_northeast\",\n      \"properties\": {\n        \"dtype\": \"uint8\",\n        \"num_unique_values\": 2,\n        \"samples\": [\n          1,\n          0\n        ],\n        \"semantic_type\": \"\",\n        \"description\": \"\"\n      }\n    },\n    {\n      \"column\": \"region_northwest\",\n      \"properties\": {\n        \"dtype\": \"uint8\",\n        \"num_unique_values\": 2,\n        \"samples\": [\n          1,\n          0\n        ],\n        \"semantic_type\": \"\",\n        \"description\": \"\"\n      }\n    },\n    {\n      \"column\": \"region_southeast\",\n      \"properties\": {\n        \"dtype\": \"uint8\",\n        \"num_unique_values\": 2,\n        \"samples\": [\n          1,\n          0\n        ],\n        \"semantic_type\": \"\",\n        \"description\": \"\"\n      }\n    },\n    {\n      \"column\": \"region_southwest\",\n      \"properties\": {\n        \"dtype\": \"uint8\",\n        \"num_unique_values\": 2,\n        \"samples\": [\n          0,\n          1\n        ],\n        \"semantic_type\": \"\",\n        \"description\": \"\"\n      }\n    }\n  ]\n}"
            }
          },
          "metadata": {},
          "execution_count": 82
        }
      ]
    },
    {
      "cell_type": "code",
      "source": [
        "# view y\n",
        "y.head()"
      ],
      "metadata": {
        "colab": {
          "base_uri": "https://localhost:8080/"
        },
        "id": "sU6fprWLRol2",
        "outputId": "7013ff68-ae74-4a28-d0ab-add86d520902"
      },
      "execution_count": 83,
      "outputs": [
        {
          "output_type": "execute_result",
          "data": {
            "text/plain": [
              "0    16884.92400\n",
              "1     1725.55230\n",
              "2     4449.46200\n",
              "3    21984.47061\n",
              "4     3866.85520\n",
              "Name: charges, dtype: float64"
            ]
          },
          "metadata": {},
          "execution_count": 83
        }
      ]
    },
    {
      "cell_type": "code",
      "source": [
        "# Create training and test sets\n",
        "\n",
        "from sklearn.model_selection import train_test_split\n",
        "\n",
        "x_train, x_test, y_train, y_test = train_test_split(x, y,test_size=0.2, random_state=42)\n",
        "len(x), len(x_train), len(x_test)\n"
      ],
      "metadata": {
        "colab": {
          "base_uri": "https://localhost:8080/"
        },
        "id": "S1784bQaXLGY",
        "outputId": "b9349352-8bec-4157-9589-54fef51f63f8"
      },
      "execution_count": 84,
      "outputs": [
        {
          "output_type": "execute_result",
          "data": {
            "text/plain": [
              "(1338, 1070, 268)"
            ]
          },
          "metadata": {},
          "execution_count": 84
        }
      ]
    },
    {
      "cell_type": "code",
      "source": [
        "x_train"
      ],
      "metadata": {
        "colab": {
          "base_uri": "https://localhost:8080/",
          "height": 424
        },
        "id": "d5gYWBwAYb9E",
        "outputId": "a90417d5-49d6-4cb9-a65d-53b81302adbb"
      },
      "execution_count": 85,
      "outputs": [
        {
          "output_type": "execute_result",
          "data": {
            "text/plain": [
              "      age     bmi  children  sex_female  sex_male  smoker_no  smoker_yes  \\\n",
              "560    46  19.950         2           1         0          1           0   \n",
              "1285   47  24.320         0           1         0          1           0   \n",
              "1142   52  24.860         0           1         0          1           0   \n",
              "969    39  34.320         5           1         0          1           0   \n",
              "486    54  21.470         3           1         0          1           0   \n",
              "...   ...     ...       ...         ...       ...        ...         ...   \n",
              "1095   18  31.350         4           1         0          1           0   \n",
              "1130   39  23.870         5           1         0          1           0   \n",
              "1294   58  25.175         0           0         1          1           0   \n",
              "860    37  47.600         2           1         0          0           1   \n",
              "1126   55  29.900         0           0         1          1           0   \n",
              "\n",
              "      region_northeast  region_northwest  region_southeast  region_southwest  \n",
              "560                  0                 1                 0                 0  \n",
              "1285                 1                 0                 0                 0  \n",
              "1142                 0                 0                 1                 0  \n",
              "969                  0                 0                 1                 0  \n",
              "486                  0                 1                 0                 0  \n",
              "...                ...               ...               ...               ...  \n",
              "1095                 1                 0                 0                 0  \n",
              "1130                 0                 0                 1                 0  \n",
              "1294                 1                 0                 0                 0  \n",
              "860                  0                 0                 0                 1  \n",
              "1126                 0                 0                 0                 1  \n",
              "\n",
              "[1070 rows x 11 columns]"
            ],
            "text/html": [
              "\n",
              "  <div id=\"df-a3528d63-726d-4a4a-a65f-26569d967cac\" class=\"colab-df-container\">\n",
              "    <div>\n",
              "<style scoped>\n",
              "    .dataframe tbody tr th:only-of-type {\n",
              "        vertical-align: middle;\n",
              "    }\n",
              "\n",
              "    .dataframe tbody tr th {\n",
              "        vertical-align: top;\n",
              "    }\n",
              "\n",
              "    .dataframe thead th {\n",
              "        text-align: right;\n",
              "    }\n",
              "</style>\n",
              "<table border=\"1\" class=\"dataframe\">\n",
              "  <thead>\n",
              "    <tr style=\"text-align: right;\">\n",
              "      <th></th>\n",
              "      <th>age</th>\n",
              "      <th>bmi</th>\n",
              "      <th>children</th>\n",
              "      <th>sex_female</th>\n",
              "      <th>sex_male</th>\n",
              "      <th>smoker_no</th>\n",
              "      <th>smoker_yes</th>\n",
              "      <th>region_northeast</th>\n",
              "      <th>region_northwest</th>\n",
              "      <th>region_southeast</th>\n",
              "      <th>region_southwest</th>\n",
              "    </tr>\n",
              "  </thead>\n",
              "  <tbody>\n",
              "    <tr>\n",
              "      <th>560</th>\n",
              "      <td>46</td>\n",
              "      <td>19.950</td>\n",
              "      <td>2</td>\n",
              "      <td>1</td>\n",
              "      <td>0</td>\n",
              "      <td>1</td>\n",
              "      <td>0</td>\n",
              "      <td>0</td>\n",
              "      <td>1</td>\n",
              "      <td>0</td>\n",
              "      <td>0</td>\n",
              "    </tr>\n",
              "    <tr>\n",
              "      <th>1285</th>\n",
              "      <td>47</td>\n",
              "      <td>24.320</td>\n",
              "      <td>0</td>\n",
              "      <td>1</td>\n",
              "      <td>0</td>\n",
              "      <td>1</td>\n",
              "      <td>0</td>\n",
              "      <td>1</td>\n",
              "      <td>0</td>\n",
              "      <td>0</td>\n",
              "      <td>0</td>\n",
              "    </tr>\n",
              "    <tr>\n",
              "      <th>1142</th>\n",
              "      <td>52</td>\n",
              "      <td>24.860</td>\n",
              "      <td>0</td>\n",
              "      <td>1</td>\n",
              "      <td>0</td>\n",
              "      <td>1</td>\n",
              "      <td>0</td>\n",
              "      <td>0</td>\n",
              "      <td>0</td>\n",
              "      <td>1</td>\n",
              "      <td>0</td>\n",
              "    </tr>\n",
              "    <tr>\n",
              "      <th>969</th>\n",
              "      <td>39</td>\n",
              "      <td>34.320</td>\n",
              "      <td>5</td>\n",
              "      <td>1</td>\n",
              "      <td>0</td>\n",
              "      <td>1</td>\n",
              "      <td>0</td>\n",
              "      <td>0</td>\n",
              "      <td>0</td>\n",
              "      <td>1</td>\n",
              "      <td>0</td>\n",
              "    </tr>\n",
              "    <tr>\n",
              "      <th>486</th>\n",
              "      <td>54</td>\n",
              "      <td>21.470</td>\n",
              "      <td>3</td>\n",
              "      <td>1</td>\n",
              "      <td>0</td>\n",
              "      <td>1</td>\n",
              "      <td>0</td>\n",
              "      <td>0</td>\n",
              "      <td>1</td>\n",
              "      <td>0</td>\n",
              "      <td>0</td>\n",
              "    </tr>\n",
              "    <tr>\n",
              "      <th>...</th>\n",
              "      <td>...</td>\n",
              "      <td>...</td>\n",
              "      <td>...</td>\n",
              "      <td>...</td>\n",
              "      <td>...</td>\n",
              "      <td>...</td>\n",
              "      <td>...</td>\n",
              "      <td>...</td>\n",
              "      <td>...</td>\n",
              "      <td>...</td>\n",
              "      <td>...</td>\n",
              "    </tr>\n",
              "    <tr>\n",
              "      <th>1095</th>\n",
              "      <td>18</td>\n",
              "      <td>31.350</td>\n",
              "      <td>4</td>\n",
              "      <td>1</td>\n",
              "      <td>0</td>\n",
              "      <td>1</td>\n",
              "      <td>0</td>\n",
              "      <td>1</td>\n",
              "      <td>0</td>\n",
              "      <td>0</td>\n",
              "      <td>0</td>\n",
              "    </tr>\n",
              "    <tr>\n",
              "      <th>1130</th>\n",
              "      <td>39</td>\n",
              "      <td>23.870</td>\n",
              "      <td>5</td>\n",
              "      <td>1</td>\n",
              "      <td>0</td>\n",
              "      <td>1</td>\n",
              "      <td>0</td>\n",
              "      <td>0</td>\n",
              "      <td>0</td>\n",
              "      <td>1</td>\n",
              "      <td>0</td>\n",
              "    </tr>\n",
              "    <tr>\n",
              "      <th>1294</th>\n",
              "      <td>58</td>\n",
              "      <td>25.175</td>\n",
              "      <td>0</td>\n",
              "      <td>0</td>\n",
              "      <td>1</td>\n",
              "      <td>1</td>\n",
              "      <td>0</td>\n",
              "      <td>1</td>\n",
              "      <td>0</td>\n",
              "      <td>0</td>\n",
              "      <td>0</td>\n",
              "    </tr>\n",
              "    <tr>\n",
              "      <th>860</th>\n",
              "      <td>37</td>\n",
              "      <td>47.600</td>\n",
              "      <td>2</td>\n",
              "      <td>1</td>\n",
              "      <td>0</td>\n",
              "      <td>0</td>\n",
              "      <td>1</td>\n",
              "      <td>0</td>\n",
              "      <td>0</td>\n",
              "      <td>0</td>\n",
              "      <td>1</td>\n",
              "    </tr>\n",
              "    <tr>\n",
              "      <th>1126</th>\n",
              "      <td>55</td>\n",
              "      <td>29.900</td>\n",
              "      <td>0</td>\n",
              "      <td>0</td>\n",
              "      <td>1</td>\n",
              "      <td>1</td>\n",
              "      <td>0</td>\n",
              "      <td>0</td>\n",
              "      <td>0</td>\n",
              "      <td>0</td>\n",
              "      <td>1</td>\n",
              "    </tr>\n",
              "  </tbody>\n",
              "</table>\n",
              "<p>1070 rows × 11 columns</p>\n",
              "</div>\n",
              "    <div class=\"colab-df-buttons\">\n",
              "\n",
              "  <div class=\"colab-df-container\">\n",
              "    <button class=\"colab-df-convert\" onclick=\"convertToInteractive('df-a3528d63-726d-4a4a-a65f-26569d967cac')\"\n",
              "            title=\"Convert this dataframe to an interactive table.\"\n",
              "            style=\"display:none;\">\n",
              "\n",
              "  <svg xmlns=\"http://www.w3.org/2000/svg\" height=\"24px\" viewBox=\"0 -960 960 960\">\n",
              "    <path d=\"M120-120v-720h720v720H120Zm60-500h600v-160H180v160Zm220 220h160v-160H400v160Zm0 220h160v-160H400v160ZM180-400h160v-160H180v160Zm440 0h160v-160H620v160ZM180-180h160v-160H180v160Zm440 0h160v-160H620v160Z\"/>\n",
              "  </svg>\n",
              "    </button>\n",
              "\n",
              "  <style>\n",
              "    .colab-df-container {\n",
              "      display:flex;\n",
              "      gap: 12px;\n",
              "    }\n",
              "\n",
              "    .colab-df-convert {\n",
              "      background-color: #E8F0FE;\n",
              "      border: none;\n",
              "      border-radius: 50%;\n",
              "      cursor: pointer;\n",
              "      display: none;\n",
              "      fill: #1967D2;\n",
              "      height: 32px;\n",
              "      padding: 0 0 0 0;\n",
              "      width: 32px;\n",
              "    }\n",
              "\n",
              "    .colab-df-convert:hover {\n",
              "      background-color: #E2EBFA;\n",
              "      box-shadow: 0px 1px 2px rgba(60, 64, 67, 0.3), 0px 1px 3px 1px rgba(60, 64, 67, 0.15);\n",
              "      fill: #174EA6;\n",
              "    }\n",
              "\n",
              "    .colab-df-buttons div {\n",
              "      margin-bottom: 4px;\n",
              "    }\n",
              "\n",
              "    [theme=dark] .colab-df-convert {\n",
              "      background-color: #3B4455;\n",
              "      fill: #D2E3FC;\n",
              "    }\n",
              "\n",
              "    [theme=dark] .colab-df-convert:hover {\n",
              "      background-color: #434B5C;\n",
              "      box-shadow: 0px 1px 3px 1px rgba(0, 0, 0, 0.15);\n",
              "      filter: drop-shadow(0px 1px 2px rgba(0, 0, 0, 0.3));\n",
              "      fill: #FFFFFF;\n",
              "    }\n",
              "  </style>\n",
              "\n",
              "    <script>\n",
              "      const buttonEl =\n",
              "        document.querySelector('#df-a3528d63-726d-4a4a-a65f-26569d967cac button.colab-df-convert');\n",
              "      buttonEl.style.display =\n",
              "        google.colab.kernel.accessAllowed ? 'block' : 'none';\n",
              "\n",
              "      async function convertToInteractive(key) {\n",
              "        const element = document.querySelector('#df-a3528d63-726d-4a4a-a65f-26569d967cac');\n",
              "        const dataTable =\n",
              "          await google.colab.kernel.invokeFunction('convertToInteractive',\n",
              "                                                    [key], {});\n",
              "        if (!dataTable) return;\n",
              "\n",
              "        const docLinkHtml = 'Like what you see? Visit the ' +\n",
              "          '<a target=\"_blank\" href=https://colab.research.google.com/notebooks/data_table.ipynb>data table notebook</a>'\n",
              "          + ' to learn more about interactive tables.';\n",
              "        element.innerHTML = '';\n",
              "        dataTable['output_type'] = 'display_data';\n",
              "        await google.colab.output.renderOutput(dataTable, element);\n",
              "        const docLink = document.createElement('div');\n",
              "        docLink.innerHTML = docLinkHtml;\n",
              "        element.appendChild(docLink);\n",
              "      }\n",
              "    </script>\n",
              "  </div>\n",
              "\n",
              "\n",
              "<div id=\"df-959b5f94-7170-405d-aa34-39e5780ffe1e\">\n",
              "  <button class=\"colab-df-quickchart\" onclick=\"quickchart('df-959b5f94-7170-405d-aa34-39e5780ffe1e')\"\n",
              "            title=\"Suggest charts\"\n",
              "            style=\"display:none;\">\n",
              "\n",
              "<svg xmlns=\"http://www.w3.org/2000/svg\" height=\"24px\"viewBox=\"0 0 24 24\"\n",
              "     width=\"24px\">\n",
              "    <g>\n",
              "        <path d=\"M19 3H5c-1.1 0-2 .9-2 2v14c0 1.1.9 2 2 2h14c1.1 0 2-.9 2-2V5c0-1.1-.9-2-2-2zM9 17H7v-7h2v7zm4 0h-2V7h2v10zm4 0h-2v-4h2v4z\"/>\n",
              "    </g>\n",
              "</svg>\n",
              "  </button>\n",
              "\n",
              "<style>\n",
              "  .colab-df-quickchart {\n",
              "      --bg-color: #E8F0FE;\n",
              "      --fill-color: #1967D2;\n",
              "      --hover-bg-color: #E2EBFA;\n",
              "      --hover-fill-color: #174EA6;\n",
              "      --disabled-fill-color: #AAA;\n",
              "      --disabled-bg-color: #DDD;\n",
              "  }\n",
              "\n",
              "  [theme=dark] .colab-df-quickchart {\n",
              "      --bg-color: #3B4455;\n",
              "      --fill-color: #D2E3FC;\n",
              "      --hover-bg-color: #434B5C;\n",
              "      --hover-fill-color: #FFFFFF;\n",
              "      --disabled-bg-color: #3B4455;\n",
              "      --disabled-fill-color: #666;\n",
              "  }\n",
              "\n",
              "  .colab-df-quickchart {\n",
              "    background-color: var(--bg-color);\n",
              "    border: none;\n",
              "    border-radius: 50%;\n",
              "    cursor: pointer;\n",
              "    display: none;\n",
              "    fill: var(--fill-color);\n",
              "    height: 32px;\n",
              "    padding: 0;\n",
              "    width: 32px;\n",
              "  }\n",
              "\n",
              "  .colab-df-quickchart:hover {\n",
              "    background-color: var(--hover-bg-color);\n",
              "    box-shadow: 0 1px 2px rgba(60, 64, 67, 0.3), 0 1px 3px 1px rgba(60, 64, 67, 0.15);\n",
              "    fill: var(--button-hover-fill-color);\n",
              "  }\n",
              "\n",
              "  .colab-df-quickchart-complete:disabled,\n",
              "  .colab-df-quickchart-complete:disabled:hover {\n",
              "    background-color: var(--disabled-bg-color);\n",
              "    fill: var(--disabled-fill-color);\n",
              "    box-shadow: none;\n",
              "  }\n",
              "\n",
              "  .colab-df-spinner {\n",
              "    border: 2px solid var(--fill-color);\n",
              "    border-color: transparent;\n",
              "    border-bottom-color: var(--fill-color);\n",
              "    animation:\n",
              "      spin 1s steps(1) infinite;\n",
              "  }\n",
              "\n",
              "  @keyframes spin {\n",
              "    0% {\n",
              "      border-color: transparent;\n",
              "      border-bottom-color: var(--fill-color);\n",
              "      border-left-color: var(--fill-color);\n",
              "    }\n",
              "    20% {\n",
              "      border-color: transparent;\n",
              "      border-left-color: var(--fill-color);\n",
              "      border-top-color: var(--fill-color);\n",
              "    }\n",
              "    30% {\n",
              "      border-color: transparent;\n",
              "      border-left-color: var(--fill-color);\n",
              "      border-top-color: var(--fill-color);\n",
              "      border-right-color: var(--fill-color);\n",
              "    }\n",
              "    40% {\n",
              "      border-color: transparent;\n",
              "      border-right-color: var(--fill-color);\n",
              "      border-top-color: var(--fill-color);\n",
              "    }\n",
              "    60% {\n",
              "      border-color: transparent;\n",
              "      border-right-color: var(--fill-color);\n",
              "    }\n",
              "    80% {\n",
              "      border-color: transparent;\n",
              "      border-right-color: var(--fill-color);\n",
              "      border-bottom-color: var(--fill-color);\n",
              "    }\n",
              "    90% {\n",
              "      border-color: transparent;\n",
              "      border-bottom-color: var(--fill-color);\n",
              "    }\n",
              "  }\n",
              "</style>\n",
              "\n",
              "  <script>\n",
              "    async function quickchart(key) {\n",
              "      const quickchartButtonEl =\n",
              "        document.querySelector('#' + key + ' button');\n",
              "      quickchartButtonEl.disabled = true;  // To prevent multiple clicks.\n",
              "      quickchartButtonEl.classList.add('colab-df-spinner');\n",
              "      try {\n",
              "        const charts = await google.colab.kernel.invokeFunction(\n",
              "            'suggestCharts', [key], {});\n",
              "      } catch (error) {\n",
              "        console.error('Error during call to suggestCharts:', error);\n",
              "      }\n",
              "      quickchartButtonEl.classList.remove('colab-df-spinner');\n",
              "      quickchartButtonEl.classList.add('colab-df-quickchart-complete');\n",
              "    }\n",
              "    (() => {\n",
              "      let quickchartButtonEl =\n",
              "        document.querySelector('#df-959b5f94-7170-405d-aa34-39e5780ffe1e button');\n",
              "      quickchartButtonEl.style.display =\n",
              "        google.colab.kernel.accessAllowed ? 'block' : 'none';\n",
              "    })();\n",
              "  </script>\n",
              "</div>\n",
              "    </div>\n",
              "  </div>\n"
            ],
            "application/vnd.google.colaboratory.intrinsic+json": {
              "type": "dataframe",
              "variable_name": "x_train",
              "summary": "{\n  \"name\": \"x_train\",\n  \"rows\": 1070,\n  \"fields\": [\n    {\n      \"column\": \"age\",\n      \"properties\": {\n        \"dtype\": \"number\",\n        \"std\": 14,\n        \"min\": 18,\n        \"max\": 64,\n        \"num_unique_values\": 47,\n        \"samples\": [\n          35,\n          33,\n          20\n        ],\n        \"semantic_type\": \"\",\n        \"description\": \"\"\n      }\n    },\n    {\n      \"column\": \"bmi\",\n      \"properties\": {\n        \"dtype\": \"number\",\n        \"std\": 6.043385672727495,\n        \"min\": 15.96,\n        \"max\": 53.13,\n        \"num_unique_values\": 494,\n        \"samples\": [\n          27.3,\n          31.35,\n          21.66\n        ],\n        \"semantic_type\": \"\",\n        \"description\": \"\"\n      }\n    },\n    {\n      \"column\": \"children\",\n      \"properties\": {\n        \"dtype\": \"number\",\n        \"std\": 1,\n        \"min\": 0,\n        \"max\": 5,\n        \"num_unique_values\": 6,\n        \"samples\": [\n          2,\n          0,\n          4\n        ],\n        \"semantic_type\": \"\",\n        \"description\": \"\"\n      }\n    },\n    {\n      \"column\": \"sex_female\",\n      \"properties\": {\n        \"dtype\": \"uint8\",\n        \"num_unique_values\": 2,\n        \"samples\": [\n          0,\n          1\n        ],\n        \"semantic_type\": \"\",\n        \"description\": \"\"\n      }\n    },\n    {\n      \"column\": \"sex_male\",\n      \"properties\": {\n        \"dtype\": \"uint8\",\n        \"num_unique_values\": 2,\n        \"samples\": [\n          1,\n          0\n        ],\n        \"semantic_type\": \"\",\n        \"description\": \"\"\n      }\n    },\n    {\n      \"column\": \"smoker_no\",\n      \"properties\": {\n        \"dtype\": \"uint8\",\n        \"num_unique_values\": 2,\n        \"samples\": [\n          0,\n          1\n        ],\n        \"semantic_type\": \"\",\n        \"description\": \"\"\n      }\n    },\n    {\n      \"column\": \"smoker_yes\",\n      \"properties\": {\n        \"dtype\": \"uint8\",\n        \"num_unique_values\": 2,\n        \"samples\": [\n          1,\n          0\n        ],\n        \"semantic_type\": \"\",\n        \"description\": \"\"\n      }\n    },\n    {\n      \"column\": \"region_northeast\",\n      \"properties\": {\n        \"dtype\": \"uint8\",\n        \"num_unique_values\": 2,\n        \"samples\": [\n          1,\n          0\n        ],\n        \"semantic_type\": \"\",\n        \"description\": \"\"\n      }\n    },\n    {\n      \"column\": \"region_northwest\",\n      \"properties\": {\n        \"dtype\": \"uint8\",\n        \"num_unique_values\": 2,\n        \"samples\": [\n          0,\n          1\n        ],\n        \"semantic_type\": \"\",\n        \"description\": \"\"\n      }\n    },\n    {\n      \"column\": \"region_southeast\",\n      \"properties\": {\n        \"dtype\": \"uint8\",\n        \"num_unique_values\": 2,\n        \"samples\": [\n          1,\n          0\n        ],\n        \"semantic_type\": \"\",\n        \"description\": \"\"\n      }\n    },\n    {\n      \"column\": \"region_southwest\",\n      \"properties\": {\n        \"dtype\": \"uint8\",\n        \"num_unique_values\": 2,\n        \"samples\": [\n          1,\n          0\n        ],\n        \"semantic_type\": \"\",\n        \"description\": \"\"\n      }\n    }\n  ]\n}"
            }
          },
          "metadata": {},
          "execution_count": 85
        }
      ]
    },
    {
      "cell_type": "code",
      "source": [
        "# Build a neural network (sort of like model_2 above)\n",
        "tf.random.set_seed(42)\n",
        "\n",
        "# 1. Create the model\n",
        "insurance_model = tf.keras.Sequential([\n",
        "    tf.keras.layers.Dense(100, activation=\"relu\"),\n",
        "    tf.keras.layers.Dense(100),\n",
        "    tf.keras.layers.Dense(10)\n",
        "])\n",
        "\n",
        "# 2. Compile the model\n",
        "insurance_model.compile(loss=mae,\n",
        "                        optimizer = tf.keras.optimizers.Adam(lr = 0.01),\n",
        "                        metrics=[\"mae\"])\n",
        "\n",
        "# 3. Fit the model\n",
        "history_insurance = insurance_model.fit(x_train, y_train, epochs=500, verbose=0)"
      ],
      "metadata": {
        "colab": {
          "base_uri": "https://localhost:8080/"
        },
        "id": "5XLrX5IaYl92",
        "outputId": "264b32bd-f536-4eea-eccd-20db24d7c1ca"
      },
      "execution_count": 86,
      "outputs": [
        {
          "output_type": "stream",
          "name": "stderr",
          "text": [
            "WARNING:absl:`lr` is deprecated in Keras optimizer, please use `learning_rate` or use the legacy optimizer, e.g.,tf.keras.optimizers.legacy.Adam.\n"
          ]
        }
      ]
    },
    {
      "cell_type": "code",
      "source": [
        "# Check the result on test data\n",
        "insurance_model.evaluate(x_test, y_test)"
      ],
      "metadata": {
        "colab": {
          "base_uri": "https://localhost:8080/"
        },
        "id": "phMxyV6adIEN",
        "outputId": "21fa0573-5ce3-4623-cccd-29ca70642505"
      },
      "execution_count": 87,
      "outputs": [
        {
          "output_type": "stream",
          "name": "stdout",
          "text": [
            "9/9 [==============================] - 0s 2ms/step - loss: 1770.6240 - mae: 1770.6240\n"
          ]
        },
        {
          "output_type": "execute_result",
          "data": {
            "text/plain": [
              "[1770.6240234375, 1770.6240234375]"
            ]
          },
          "metadata": {},
          "execution_count": 87
        }
      ]
    },
    {
      "cell_type": "code",
      "source": [
        "y_train.median(), y_train.mean()"
      ],
      "metadata": {
        "colab": {
          "base_uri": "https://localhost:8080/"
        },
        "id": "LMjdD18adchB",
        "outputId": "33d1c7d1-a569-42fb-8cc7-8a03e37e6afa"
      },
      "execution_count": 88,
      "outputs": [
        {
          "output_type": "execute_result",
          "data": {
            "text/plain": [
              "(9575.4421, 13346.089736364485)"
            ]
          },
          "metadata": {},
          "execution_count": 88
        }
      ]
    },
    {
      "cell_type": "code",
      "source": [
        "# Plot history (loss curve a or training curve)\n",
        "pd.DataFrame(history_insurance.history).plot()\n",
        "plt.title(\"model accuracy\")\n",
        "plt.ylabel(\"loss\")\n",
        "plt.xlabel(\"epochs\")"
      ],
      "metadata": {
        "colab": {
          "base_uri": "https://localhost:8080/",
          "height": 489
        },
        "id": "PJFfUJr5lhOC",
        "outputId": "f9d83cc6-8faf-4a6d-a136-48b248b3f59a"
      },
      "execution_count": 89,
      "outputs": [
        {
          "output_type": "execute_result",
          "data": {
            "text/plain": [
              "Text(0.5, 0, 'epochs')"
            ]
          },
          "metadata": {},
          "execution_count": 89
        },
        {
          "output_type": "display_data",
          "data": {
            "text/plain": [
              "<Figure size 640x480 with 1 Axes>"
            ],
            "image/png": "[encoded data removed]"
          },
          "metadata": {}
        }
      ]
    },
    {
      "cell_type": "markdown",
      "source": [
        "### EarlyStopping Callback\n",
        "\n",
        "The beautiful answer from TensorFlow to ml engginer for how long we should train or model"
      ],
      "metadata": {
        "id": "PeKm1dz8v7xS"
      }
    },
    {
      "cell_type": "markdown",
      "source": [
        "## Preprocessing data (normalization and standardization)\n",
        "\n",
        "In term of scalling values, neural networks tend to prefer normalization.\n",
        "\n"
      ],
      "metadata": {
        "id": "-zpaI6r4BZEq"
      }
    },
    {
      "cell_type": "code",
      "source": [
        "x[\"age\"].plot(kind=\"hist\")"
      ],
      "metadata": {
        "id": "QnPtSmjFvtkz",
        "colab": {
          "base_uri": "https://localhost:8080/",
          "height": 447
        },
        "outputId": "d0b52fb9-89ec-4760-aa31-426fac5da633"
      },
      "execution_count": 90,
      "outputs": [
        {
          "output_type": "execute_result",
          "data": {
            "text/plain": [
              "<Axes: ylabel='Frequency'>"
            ]
          },
          "metadata": {},
          "execution_count": 90
        },
        {
          "output_type": "display_data",
          "data": {
            "text/plain": [
              "<Figure size 640x480 with 1 Axes>"
            ],
            "image/png": "[encoded data removed]"
          },
          "metadata": {}
        }
      ]
    },
    {
      "cell_type": "code",
      "source": [
        "x[\"bmi\"].plot(kind=\"hist\")"
      ],
      "metadata": {
        "colab": {
          "base_uri": "https://localhost:8080/",
          "height": 447
        },
        "id": "rBSz4yk0AfqQ",
        "outputId": "09c2c09a-fb50-48ed-8070-ef3e8e29ca5f"
      },
      "execution_count": 91,
      "outputs": [
        {
          "output_type": "execute_result",
          "data": {
            "text/plain": [
              "<Axes: ylabel='Frequency'>"
            ]
          },
          "metadata": {},
          "execution_count": 91
        },
        {
          "output_type": "display_data",
          "data": {
            "text/plain": [
              "<Figure size 640x480 with 1 Axes>"
            ],
            "image/png": "[encoded data removed]"
          },
          "metadata": {}
        }
      ]
    },
    {
      "cell_type": "code",
      "source": [
        "import pandas as pd\n",
        "import matplotlib.pyplot as plt\n",
        "import tensorflow as tf\n",
        "\n",
        "# Read in the insurance dataframe\n",
        "insurance = pd.read_csv(\"https://raw.githubusercontent.com/stedy/Machine-Learning-with-R-datasets/master/insurance.csv\")\n",
        "insurance"
      ],
      "metadata": {
        "colab": {
          "base_uri": "https://localhost:8080/",
          "height": 424
        },
        "id": "s8H0ZQaKFTe7",
        "outputId": "000bf126-0285-42cf-de0a-a37b1c61f6c4"
      },
      "execution_count": 92,
      "outputs": [
        {
          "output_type": "execute_result",
          "data": {
            "text/plain": [
              "      age     sex     bmi  children smoker     region      charges\n",
              "0      19  female  27.900         0    yes  southwest  16884.92400\n",
              "1      18    male  33.770         1     no  southeast   1725.55230\n",
              "2      28    male  33.000         3     no  southeast   4449.46200\n",
              "3      33    male  22.705         0     no  northwest  21984.47061\n",
              "4      32    male  28.880         0     no  northwest   3866.85520\n",
              "...   ...     ...     ...       ...    ...        ...          ...\n",
              "1333   50    male  30.970         3     no  northwest  10600.54830\n",
              "1334   18  female  31.920         0     no  northeast   2205.98080\n",
              "1335   18  female  36.850         0     no  southeast   1629.83350\n",
              "1336   21  female  25.800         0     no  southwest   2007.94500\n",
              "1337   61  female  29.070         0    yes  northwest  29141.36030\n",
              "\n",
              "[1338 rows x 7 columns]"
            ],
            "text/html": [
              "\n",
              "  <div id=\"df-b844e344-ab37-4290-9058-81ada53b1c78\" class=\"colab-df-container\">\n",
              "    <div>\n",
              "<style scoped>\n",
              "    .dataframe tbody tr th:only-of-type {\n",
              "        vertical-align: middle;\n",
              "    }\n",
              "\n",
              "    .dataframe tbody tr th {\n",
              "        vertical-align: top;\n",
              "    }\n",
              "\n",
              "    .dataframe thead th {\n",
              "        text-align: right;\n",
              "    }\n",
              "</style>\n",
              "<table border=\"1\" class=\"dataframe\">\n",
              "  <thead>\n",
              "    <tr style=\"text-align: right;\">\n",
              "      <th></th>\n",
              "      <th>age</th>\n",
              "      <th>sex</th>\n",
              "      <th>bmi</th>\n",
              "      <th>children</th>\n",
              "      <th>smoker</th>\n",
              "      <th>region</th>\n",
              "      <th>charges</th>\n",
              "    </tr>\n",
              "  </thead>\n",
              "  <tbody>\n",
              "    <tr>\n",
              "      <th>0</th>\n",
              "      <td>19</td>\n",
              "      <td>female</td>\n",
              "      <td>27.900</td>\n",
              "      <td>0</td>\n",
              "      <td>yes</td>\n",
              "      <td>southwest</td>\n",
              "      <td>16884.92400</td>\n",
              "    </tr>\n",
              "    <tr>\n",
              "      <th>1</th>\n",
              "      <td>18</td>\n",
              "      <td>male</td>\n",
              "      <td>33.770</td>\n",
              "      <td>1</td>\n",
              "      <td>no</td>\n",
              "      <td>southeast</td>\n",
              "      <td>1725.55230</td>\n",
              "    </tr>\n",
              "    <tr>\n",
              "      <th>2</th>\n",
              "      <td>28</td>\n",
              "      <td>male</td>\n",
              "      <td>33.000</td>\n",
              "      <td>3</td>\n",
              "      <td>no</td>\n",
              "      <td>southeast</td>\n",
              "      <td>4449.46200</td>\n",
              "    </tr>\n",
              "    <tr>\n",
              "      <th>3</th>\n",
              "      <td>33</td>\n",
              "      <td>male</td>\n",
              "      <td>22.705</td>\n",
              "      <td>0</td>\n",
              "      <td>no</td>\n",
              "      <td>northwest</td>\n",
              "      <td>21984.47061</td>\n",
              "    </tr>\n",
              "    <tr>\n",
              "      <th>4</th>\n",
              "      <td>32</td>\n",
              "      <td>male</td>\n",
              "      <td>28.880</td>\n",
              "      <td>0</td>\n",
              "      <td>no</td>\n",
              "      <td>northwest</td>\n",
              "      <td>3866.85520</td>\n",
              "    </tr>\n",
              "    <tr>\n",
              "      <th>...</th>\n",
              "      <td>...</td>\n",
              "      <td>...</td>\n",
              "      <td>...</td>\n",
              "      <td>...</td>\n",
              "      <td>...</td>\n",
              "      <td>...</td>\n",
              "      <td>...</td>\n",
              "    </tr>\n",
              "    <tr>\n",
              "      <th>1333</th>\n",
              "      <td>50</td>\n",
              "      <td>male</td>\n",
              "      <td>30.970</td>\n",
              "      <td>3</td>\n",
              "      <td>no</td>\n",
              "      <td>northwest</td>\n",
              "      <td>10600.54830</td>\n",
              "    </tr>\n",
              "    <tr>\n",
              "      <th>1334</th>\n",
              "      <td>18</td>\n",
              "      <td>female</td>\n",
              "      <td>31.920</td>\n",
              "      <td>0</td>\n",
              "      <td>no</td>\n",
              "      <td>northeast</td>\n",
              "      <td>2205.98080</td>\n",
              "    </tr>\n",
              "    <tr>\n",
              "      <th>1335</th>\n",
              "      <td>18</td>\n",
              "      <td>female</td>\n",
              "      <td>36.850</td>\n",
              "      <td>0</td>\n",
              "      <td>no</td>\n",
              "      <td>southeast</td>\n",
              "      <td>1629.83350</td>\n",
              "    </tr>\n",
              "    <tr>\n",
              "      <th>1336</th>\n",
              "      <td>21</td>\n",
              "      <td>female</td>\n",
              "      <td>25.800</td>\n",
              "      <td>0</td>\n",
              "      <td>no</td>\n",
              "      <td>southwest</td>\n",
              "      <td>2007.94500</td>\n",
              "    </tr>\n",
              "    <tr>\n",
              "      <th>1337</th>\n",
              "      <td>61</td>\n",
              "      <td>female</td>\n",
              "      <td>29.070</td>\n",
              "      <td>0</td>\n",
              "      <td>yes</td>\n",
              "      <td>northwest</td>\n",
              "      <td>29141.36030</td>\n",
              "    </tr>\n",
              "  </tbody>\n",
              "</table>\n",
              "<p>1338 rows × 7 columns</p>\n",
              "</div>\n",
              "    <div class=\"colab-df-buttons\">\n",
              "\n",
              "  <div class=\"colab-df-container\">\n",
              "    <button class=\"colab-df-convert\" onclick=\"convertToInteractive('df-b844e344-ab37-4290-9058-81ada53b1c78')\"\n",
              "            title=\"Convert this dataframe to an interactive table.\"\n",
              "            style=\"display:none;\">\n",
              "\n",
              "  <svg xmlns=\"http://www.w3.org/2000/svg\" height=\"24px\" viewBox=\"0 -960 960 960\">\n",
              "    <path d=\"M120-120v-720h720v720H120Zm60-500h600v-160H180v160Zm220 220h160v-160H400v160Zm0 220h160v-160H400v160ZM180-400h160v-160H180v160Zm440 0h160v-160H620v160ZM180-180h160v-160H180v160Zm440 0h160v-160H620v160Z\"/>\n",
              "  </svg>\n",
              "    </button>\n",
              "\n",
              "  <style>\n",
              "    .colab-df-container {\n",
              "      display:flex;\n",
              "      gap: 12px;\n",
              "    }\n",
              "\n",
              "    .colab-df-convert {\n",
              "      background-color: #E8F0FE;\n",
              "      border: none;\n",
              "      border-radius: 50%;\n",
              "      cursor: pointer;\n",
              "      display: none;\n",
              "      fill: #1967D2;\n",
              "      height: 32px;\n",
              "      padding: 0 0 0 0;\n",
              "      width: 32px;\n",
              "    }\n",
              "\n",
              "    .colab-df-convert:hover {\n",
              "      background-color: #E2EBFA;\n",
              "      box-shadow: 0px 1px 2px rgba(60, 64, 67, 0.3), 0px 1px 3px 1px rgba(60, 64, 67, 0.15);\n",
              "      fill: #174EA6;\n",
              "    }\n",
              "\n",
              "    .colab-df-buttons div {\n",
              "      margin-bottom: 4px;\n",
              "    }\n",
              "\n",
              "    [theme=dark] .colab-df-convert {\n",
              "      background-color: #3B4455;\n",
              "      fill: #D2E3FC;\n",
              "    }\n",
              "\n",
              "    [theme=dark] .colab-df-convert:hover {\n",
              "      background-color: #434B5C;\n",
              "      box-shadow: 0px 1px 3px 1px rgba(0, 0, 0, 0.15);\n",
              "      filter: drop-shadow(0px 1px 2px rgba(0, 0, 0, 0.3));\n",
              "      fill: #FFFFFF;\n",
              "    }\n",
              "  </style>\n",
              "\n",
              "    <script>\n",
              "      const buttonEl =\n",
              "        document.querySelector('#df-b844e344-ab37-4290-9058-81ada53b1c78 button.colab-df-convert');\n",
              "      buttonEl.style.display =\n",
              "        google.colab.kernel.accessAllowed ? 'block' : 'none';\n",
              "\n",
              "      async function convertToInteractive(key) {\n",
              "        const element = document.querySelector('#df-b844e344-ab37-4290-9058-81ada53b1c78');\n",
              "        const dataTable =\n",
              "          await google.colab.kernel.invokeFunction('convertToInteractive',\n",
              "                                                    [key], {});\n",
              "        if (!dataTable) return;\n",
              "\n",
              "        const docLinkHtml = 'Like what you see? Visit the ' +\n",
              "          '<a target=\"_blank\" href=https://colab.research.google.com/notebooks/data_table.ipynb>data table notebook</a>'\n",
              "          + ' to learn more about interactive tables.';\n",
              "        element.innerHTML = '';\n",
              "        dataTable['output_type'] = 'display_data';\n",
              "        await google.colab.output.renderOutput(dataTable, element);\n",
              "        const docLink = document.createElement('div');\n",
              "        docLink.innerHTML = docLinkHtml;\n",
              "        element.appendChild(docLink);\n",
              "      }\n",
              "    </script>\n",
              "  </div>\n",
              "\n",
              "\n",
              "<div id=\"df-68028f2e-3944-4bd3-8d92-b5b84e14ca30\">\n",
              "  <button class=\"colab-df-quickchart\" onclick=\"quickchart('df-68028f2e-3944-4bd3-8d92-b5b84e14ca30')\"\n",
              "            title=\"Suggest charts\"\n",
              "            style=\"display:none;\">\n",
              "\n",
              "<svg xmlns=\"http://www.w3.org/2000/svg\" height=\"24px\"viewBox=\"0 0 24 24\"\n",
              "     width=\"24px\">\n",
              "    <g>\n",
              "        <path d=\"M19 3H5c-1.1 0-2 .9-2 2v14c0 1.1.9 2 2 2h14c1.1 0 2-.9 2-2V5c0-1.1-.9-2-2-2zM9 17H7v-7h2v7zm4 0h-2V7h2v10zm4 0h-2v-4h2v4z\"/>\n",
              "    </g>\n",
              "</svg>\n",
              "  </button>\n",
              "\n",
              "<style>\n",
              "  .colab-df-quickchart {\n",
              "      --bg-color: #E8F0FE;\n",
              "      --fill-color: #1967D2;\n",
              "      --hover-bg-color: #E2EBFA;\n",
              "      --hover-fill-color: #174EA6;\n",
              "      --disabled-fill-color: #AAA;\n",
              "      --disabled-bg-color: #DDD;\n",
              "  }\n",
              "\n",
              "  [theme=dark] .colab-df-quickchart {\n",
              "      --bg-color: #3B4455;\n",
              "      --fill-color: #D2E3FC;\n",
              "      --hover-bg-color: #434B5C;\n",
              "      --hover-fill-color: #FFFFFF;\n",
              "      --disabled-bg-color: #3B4455;\n",
              "      --disabled-fill-color: #666;\n",
              "  }\n",
              "\n",
              "  .colab-df-quickchart {\n",
              "    background-color: var(--bg-color);\n",
              "    border: none;\n",
              "    border-radius: 50%;\n",
              "    cursor: pointer;\n",
              "    display: none;\n",
              "    fill: var(--fill-color);\n",
              "    height: 32px;\n",
              "    padding: 0;\n",
              "    width: 32px;\n",
              "  }\n",
              "\n",
              "  .colab-df-quickchart:hover {\n",
              "    background-color: var(--hover-bg-color);\n",
              "    box-shadow: 0 1px 2px rgba(60, 64, 67, 0.3), 0 1px 3px 1px rgba(60, 64, 67, 0.15);\n",
              "    fill: var(--button-hover-fill-color);\n",
              "  }\n",
              "\n",
              "  .colab-df-quickchart-complete:disabled,\n",
              "  .colab-df-quickchart-complete:disabled:hover {\n",
              "    background-color: var(--disabled-bg-color);\n",
              "    fill: var(--disabled-fill-color);\n",
              "    box-shadow: none;\n",
              "  }\n",
              "\n",
              "  .colab-df-spinner {\n",
              "    border: 2px solid var(--fill-color);\n",
              "    border-color: transparent;\n",
              "    border-bottom-color: var(--fill-color);\n",
              "    animation:\n",
              "      spin 1s steps(1) infinite;\n",
              "  }\n",
              "\n",
              "  @keyframes spin {\n",
              "    0% {\n",
              "      border-color: transparent;\n",
              "      border-bottom-color: var(--fill-color);\n",
              "      border-left-color: var(--fill-color);\n",
              "    }\n",
              "    20% {\n",
              "      border-color: transparent;\n",
              "      border-left-color: var(--fill-color);\n",
              "      border-top-color: var(--fill-color);\n",
              "    }\n",
              "    30% {\n",
              "      border-color: transparent;\n",
              "      border-left-color: var(--fill-color);\n",
              "      border-top-color: var(--fill-color);\n",
              "      border-right-color: var(--fill-color);\n",
              "    }\n",
              "    40% {\n",
              "      border-color: transparent;\n",
              "      border-right-color: var(--fill-color);\n",
              "      border-top-color: var(--fill-color);\n",
              "    }\n",
              "    60% {\n",
              "      border-color: transparent;\n",
              "      border-right-color: var(--fill-color);\n",
              "    }\n",
              "    80% {\n",
              "      border-color: transparent;\n",
              "      border-right-color: var(--fill-color);\n",
              "      border-bottom-color: var(--fill-color);\n",
              "    }\n",
              "    90% {\n",
              "      border-color: transparent;\n",
              "      border-bottom-color: var(--fill-color);\n",
              "    }\n",
              "  }\n",
              "</style>\n",
              "\n",
              "  <script>\n",
              "    async function quickchart(key) {\n",
              "      const quickchartButtonEl =\n",
              "        document.querySelector('#' + key + ' button');\n",
              "      quickchartButtonEl.disabled = true;  // To prevent multiple clicks.\n",
              "      quickchartButtonEl.classList.add('colab-df-spinner');\n",
              "      try {\n",
              "        const charts = await google.colab.kernel.invokeFunction(\n",
              "            'suggestCharts', [key], {});\n",
              "      } catch (error) {\n",
              "        console.error('Error during call to suggestCharts:', error);\n",
              "      }\n",
              "      quickchartButtonEl.classList.remove('colab-df-spinner');\n",
              "      quickchartButtonEl.classList.add('colab-df-quickchart-complete');\n",
              "    }\n",
              "    (() => {\n",
              "      let quickchartButtonEl =\n",
              "        document.querySelector('#df-68028f2e-3944-4bd3-8d92-b5b84e14ca30 button');\n",
              "      quickchartButtonEl.style.display =\n",
              "        google.colab.kernel.accessAllowed ? 'block' : 'none';\n",
              "    })();\n",
              "  </script>\n",
              "</div>\n",
              "    </div>\n",
              "  </div>\n"
            ],
            "application/vnd.google.colaboratory.intrinsic+json": {
              "type": "dataframe",
              "variable_name": "insurance",
              "summary": "{\n  \"name\": \"insurance\",\n  \"rows\": 1338,\n  \"fields\": [\n    {\n      \"column\": \"age\",\n      \"properties\": {\n        \"dtype\": \"number\",\n        \"std\": 14,\n        \"min\": 18,\n        \"max\": 64,\n        \"num_unique_values\": 47,\n        \"samples\": [\n          21,\n          45,\n          36\n        ],\n        \"semantic_type\": \"\",\n        \"description\": \"\"\n      }\n    },\n    {\n      \"column\": \"sex\",\n      \"properties\": {\n        \"dtype\": \"category\",\n        \"num_unique_values\": 2,\n        \"samples\": [\n          \"male\",\n          \"female\"\n        ],\n        \"semantic_type\": \"\",\n        \"description\": \"\"\n      }\n    },\n    {\n      \"column\": \"bmi\",\n      \"properties\": {\n        \"dtype\": \"number\",\n        \"std\": 6.098186911679014,\n        \"min\": 15.96,\n        \"max\": 53.13,\n        \"num_unique_values\": 548,\n        \"samples\": [\n          23.18,\n          26.885\n        ],\n        \"semantic_type\": \"\",\n        \"description\": \"\"\n      }\n    },\n    {\n      \"column\": \"children\",\n      \"properties\": {\n        \"dtype\": \"number\",\n        \"std\": 1,\n        \"min\": 0,\n        \"max\": 5,\n        \"num_unique_values\": 6,\n        \"samples\": [\n          0,\n          1\n        ],\n        \"semantic_type\": \"\",\n        \"description\": \"\"\n      }\n    },\n    {\n      \"column\": \"smoker\",\n      \"properties\": {\n        \"dtype\": \"category\",\n        \"num_unique_values\": 2,\n        \"samples\": [\n          \"no\",\n          \"yes\"\n        ],\n        \"semantic_type\": \"\",\n        \"description\": \"\"\n      }\n    },\n    {\n      \"column\": \"region\",\n      \"properties\": {\n        \"dtype\": \"category\",\n        \"num_unique_values\": 4,\n        \"samples\": [\n          \"southeast\",\n          \"northeast\"\n        ],\n        \"semantic_type\": \"\",\n        \"description\": \"\"\n      }\n    },\n    {\n      \"column\": \"charges\",\n      \"properties\": {\n        \"dtype\": \"number\",\n        \"std\": 12110.011236694001,\n        \"min\": 1121.8739,\n        \"max\": 63770.42801,\n        \"num_unique_values\": 1337,\n        \"samples\": [\n          8688.85885,\n          5708.867\n        ],\n        \"semantic_type\": \"\",\n        \"description\": \"\"\n      }\n    }\n  ]\n}"
            }
          },
          "metadata": {},
          "execution_count": 92
        }
      ]
    },
    {
      "cell_type": "code",
      "source": [
        "from sklearn.compose import make_column_transformer\n",
        "from sklearn.preprocessing import MinMaxScaler, OneHotEncoder\n",
        "from sklearn.model_selection import train_test_split"
      ],
      "metadata": {
        "id": "NBDm23OCMkKI"
      },
      "execution_count": 93,
      "outputs": []
    },
    {
      "cell_type": "code",
      "source": [
        "# Create a column transformer\n",
        "ct = make_column_transformer(\n",
        "    (MinMaxScaler(), [\"age\", \"bmi\", \"children\"]), # turn all values in these columns to between 0 and 1\n",
        "    (OneHotEncoder(handle_unknown=\"ignore\"), [\"sex\", \"smoker\", \"region\"])\n",
        ")"
      ],
      "metadata": {
        "id": "Rrg8G2CJM0s1"
      },
      "execution_count": 94,
      "outputs": []
    },
    {
      "cell_type": "code",
      "source": [
        "# Create our X and Y values\n",
        "x = insurance.drop(\"charges\", axis=1)\n",
        "y = insurance[\"charges\"]"
      ],
      "metadata": {
        "id": "9QN509EkNrFg"
      },
      "execution_count": 95,
      "outputs": []
    },
    {
      "cell_type": "code",
      "source": [
        "# Build our train and test sets\n",
        "x_train, x_test, y_train, y_test = train_test_split(x, y, test_size=0.2, random_state=42)"
      ],
      "metadata": {
        "id": "CgLEhqHON0g2"
      },
      "execution_count": 96,
      "outputs": []
    },
    {
      "cell_type": "code",
      "source": [
        "# Fit the column transformer to out training data\n",
        "ct.fit(x_train)\n",
        "\n",
        "# Transform training and test data with normalization (MinMaxScaler) and OneHotEncode\n",
        "x_train_normal = ct.transform(x_train)\n",
        "x_test_normal = ct.transform(x_test)"
      ],
      "metadata": {
        "id": "45FGyPzKObWO"
      },
      "execution_count": 97,
      "outputs": []
    },
    {
      "cell_type": "code",
      "source": [
        "# What does our data look like now\n",
        "x_train.loc[0]"
      ],
      "metadata": {
        "colab": {
          "base_uri": "https://localhost:8080/"
        },
        "id": "4LaTEsHOQFx6",
        "outputId": "59690d36-19ee-441c-e87f-ca3b9afaace7"
      },
      "execution_count": 98,
      "outputs": [
        {
          "output_type": "execute_result",
          "data": {
            "text/plain": [
              "age                19\n",
              "sex            female\n",
              "bmi              27.9\n",
              "children            0\n",
              "smoker            yes\n",
              "region      southwest\n",
              "Name: 0, dtype: object"
            ]
          },
          "metadata": {},
          "execution_count": 98
        }
      ]
    },
    {
      "cell_type": "code",
      "source": [
        "x_train_normal[0]"
      ],
      "metadata": {
        "colab": {
          "base_uri": "https://localhost:8080/"
        },
        "id": "qUXY9b1tQLM3",
        "outputId": "81fa1dff-f393-4f06-f72a-cc29d3f4c79b"
      },
      "execution_count": 99,
      "outputs": [
        {
          "output_type": "execute_result",
          "data": {
            "text/plain": [
              "array([0.60869565, 0.10734463, 0.4       , 1.        , 0.        ,\n",
              "       1.        , 0.        , 0.        , 1.        , 0.        ,\n",
              "       0.        ])"
            ]
          },
          "metadata": {},
          "execution_count": 99
        }
      ]
    },
    {
      "cell_type": "code",
      "source": [
        "x_train.shape, x_train_normal.shape"
      ],
      "metadata": {
        "colab": {
          "base_uri": "https://localhost:8080/"
        },
        "id": "NfLbA-9wQedh",
        "outputId": "846f3a8c-07bc-4a91-8bda-41d85c5bd4a4"
      },
      "execution_count": 100,
      "outputs": [
        {
          "output_type": "execute_result",
          "data": {
            "text/plain": [
              "((1070, 6), (1070, 11))"
            ]
          },
          "metadata": {},
          "execution_count": 100
        }
      ]
    },
    {
      "cell_type": "markdown",
      "source": [
        "Our Data has been normalized and one hot encoded\n",
        "Now build the model!"
      ],
      "metadata": {
        "id": "xlbVZP7RQrqr"
      }
    },
    {
      "cell_type": "code",
      "source": [
        "# build the model\n",
        "tf.random.set_seed(42)\n",
        "\n",
        "# 1. Create the model\n",
        "insurance_model_2 = tf.keras.Sequential([\n",
        "    tf.keras.layers.Dense(100, activation=\"relu\"),\n",
        "    tf.keras.layers.Dense(100),\n",
        "    tf.keras.layers.Dense(10)\n",
        "])\n",
        "\n",
        "# 2. Compile the model\n",
        "insurance_model_2.compile(loss=mae,\n",
        "                        optimizer = tf.keras.optimizers.Adam(lr = 0.01),\n",
        "                        metrics=[\"mae\"])\n",
        "\n",
        "# 3. Fit the model\n",
        "history_insurance_2 = insurance_model.fit(x_train_normal, y_train, epochs=500, verbose=0)\n",
        "\n"
      ],
      "metadata": {
        "id": "1eHeWThtQxaT",
        "colab": {
          "base_uri": "https://localhost:8080/"
        },
        "outputId": "19b36c0a-d3bc-4d8b-c12e-1b26ed7da075"
      },
      "execution_count": 101,
      "outputs": [
        {
          "output_type": "stream",
          "name": "stderr",
          "text": [
            "WARNING:absl:`lr` is deprecated in Keras optimizer, please use `learning_rate` or use the legacy optimizer, e.g.,tf.keras.optimizers.legacy.Adam.\n"
          ]
        }
      ]
    },
    {
      "cell_type": "code",
      "source": [
        "# Check the result on test data\n",
        "insurance_model_2.evaluate(x_test_normal, y_test)"
      ],
      "metadata": {
        "colab": {
          "base_uri": "https://localhost:8080/"
        },
        "id": "X-CVLl6mklAo",
        "outputId": "5116c5f0-3646-464c-f7c0-c4f3f03384f9"
      },
      "execution_count": 102,
      "outputs": [
        {
          "output_type": "stream",
          "name": "stdout",
          "text": [
            "9/9 [==============================] - 0s 5ms/step - loss: 12968.1768 - mae: 12968.1768\n"
          ]
        },
        {
          "output_type": "execute_result",
          "data": {
            "text/plain": [
              "[12968.1767578125, 12968.1767578125]"
            ]
          },
          "metadata": {},
          "execution_count": 102
        }
      ]
    },
    {
      "cell_type": "code",
      "source": [
        "# Plot history (loss curve a or training curve)\n",
        "pd.DataFrame(history_insurance_2.history).plot()\n",
        "plt.title(\"model accuracy normal\")\n",
        "plt.ylabel(\"loss\")\n",
        "plt.xlabel(\"epochs\")"
      ],
      "metadata": {
        "colab": {
          "base_uri": "https://localhost:8080/",
          "height": 489
        },
        "id": "3FseLJ1pk_O-",
        "outputId": "a14bf9f0-9487-4da9-db6a-bbc0bd6c64aa"
      },
      "execution_count": 103,
      "outputs": [
        {
          "output_type": "execute_result",
          "data": {
            "text/plain": [
              "Text(0.5, 0, 'epochs')"
            ]
          },
          "metadata": {},
          "execution_count": 103
        },
        {
          "output_type": "display_data",
          "data": {
            "text/plain": [
              "<Figure size 640x480 with 1 Axes>"
            ],
            "image/png": "[encoded data removed]"
          },
          "metadata": {}
        }
      ]
    },
    {
      "cell_type": "markdown",
      "source": [
        "## 🛠 01. Neural network regression with TensorFlow Exercises\n",
        "\n",
        "1. Create your own regression dataset (or make the one we created in \"Create data to view and fit\" bigger) and build fit a model to it.\n",
        "2. Try building a neural network with 4 Dense layers and fitting it to your own regression dataset, how does it perform?\n",
        "3. Try and improve the results we got on the insurance dataset, some things you might want to try include:\n",
        "  * Building a larger model (how does one with 4 dense layers go?).\n",
        "  * Increasing the number of units in each layer.\n",
        "  * Lookup the documentation of Adam and find out what the first parameter is, what happens if you increase it by 10x?\n",
        "  * What happens if you train for longer (say 300 epochs instead of 200)?\n",
        "4. Import the Boston pricing dataset from TensorFlow tf.keras.datasets and model it."
      ],
      "metadata": {
        "id": "ydfRzL43_x6x"
      }
    },
    {
      "cell_type": "markdown",
      "source": [
        "### Make the model"
      ],
      "metadata": {
        "id": "jKBgv4RRCgsW"
      }
    },
    {
      "cell_type": "code",
      "source": [
        "# Import dataset\n",
        "salary = pd.read_csv(\"https://raw.githubusercontent.com/GabrielBatavia/Dataset_Ml/master/Salary%20Data.csv\")"
      ],
      "metadata": {
        "id": "hr02_qayAdka"
      },
      "execution_count": 104,
      "outputs": []
    }
  ]
}