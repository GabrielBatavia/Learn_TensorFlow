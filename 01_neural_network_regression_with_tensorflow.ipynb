{
  "nbformat": 4,
  "nbformat_minor": 0,
  "metadata": {
    "colab": {
      "provenance": [],
      "authorship_tag": "ABX9TyPVP/aMc17WFBk4t1gPNcCV",
      "include_colab_link": true
    },
    "kernelspec": {
      "name": "python3",
      "display_name": "Python 3"
    },
    "language_info": {
      "name": "python"
    }
  },
  "cells": [
    {
      "cell_type": "markdown",
      "metadata": {
        "id": "view-in-github",
        "colab_type": "text"
      },
      "source": [
        "<a href=\"https://colab.research.google.com/github/GabrielBatavia/Learn_TensorFlow/blob/main/01_neural_network_regression_with_tensorflow.ipynb\" target=\"_parent\"><img src=\"https://colab.research.google.com/assets/colab-badge.svg\" alt=\"Open In Colab\"/></a>"
      ]
    },
    {
      "cell_type": "markdown",
      "source": [
        "# Introduction to Regression with Neural Networks in TensorFlow\n",
        "\n",
        "There are many definition for a regression problem but in our case, we're going to simplify it : predicting a numerical variable based on some other combination of variables, even shorter...predicting a number."
      ],
      "metadata": {
        "id": "eANshE7nr2zb"
      }
    },
    {
      "cell_type": "code",
      "execution_count": 2,
      "metadata": {
        "colab": {
          "base_uri": "https://localhost:8080/"
        },
        "id": "UmVJP_eWrO59",
        "outputId": "bb24e5a2-7606-4b30-d401-99d3b004de42"
      },
      "outputs": [
        {
          "output_type": "stream",
          "name": "stdout",
          "text": [
            "2.15.0\n"
          ]
        }
      ],
      "source": [
        "# Import TensorFlow\n",
        "\n",
        "import tensorflow as tf\n",
        "print(tf.__version__)"
      ]
    },
    {
      "cell_type": "markdown",
      "source": [
        "## Creating data to view and fit"
      ],
      "metadata": {
        "id": "vbbwMFoqskyN"
      }
    },
    {
      "cell_type": "code",
      "source": [
        "import numpy as np\n",
        "import matplotlib.pyplot as plt"
      ],
      "metadata": {
        "id": "DXOtRA60shEW"
      },
      "execution_count": 3,
      "outputs": []
    },
    {
      "cell_type": "code",
      "source": [
        "# Creating features\n",
        "\n",
        "x = np.array([-7., -4., -1., 2., 5., 8., 11., 14.])\n",
        "\n",
        "# Create labels\n",
        "y = np.array([3., 6., 9., 12., 15., 18., 21., 24.])\n",
        "\n",
        "# Visualize it\n",
        "plt.scatter(x, y);"
      ],
      "metadata": {
        "colab": {
          "base_uri": "https://localhost:8080/",
          "height": 435
        },
        "id": "SX4eHtEts4GD",
        "outputId": "8f8d4fb3-986e-496e-bd23-4eb4e5e91676"
      },
      "execution_count": 4,
      "outputs": [
        {
          "output_type": "display_data",
          "data": {
            "text/plain": [
              "<Figure size 640x480 with 1 Axes>"
            ],
            "image/png": "[encoded data removed]"
          },
          "metadata": {}
        }
      ]
    },
    {
      "cell_type": "code",
      "source": [
        "y == x + 10"
      ],
      "metadata": {
        "id": "qaf2FE-utbQ-",
        "colab": {
          "base_uri": "https://localhost:8080/"
        },
        "outputId": "944b30f7-227a-4684-dd14-5603032779b2"
      },
      "execution_count": 5,
      "outputs": [
        {
          "output_type": "execute_result",
          "data": {
            "text/plain": [
              "array([ True,  True,  True,  True,  True,  True,  True,  True])"
            ]
          },
          "metadata": {},
          "execution_count": 5
        }
      ]
    },
    {
      "cell_type": "markdown",
      "source": [
        "## Input and Output shapes"
      ],
      "metadata": {
        "id": "hHex_79OxmAn"
      }
    },
    {
      "cell_type": "code",
      "source": [
        "# Create a demo tensor for out housing price prediction problem\n",
        "\n",
        "house_info = tf.constant([\"bedroom\", \"bathroom\", \"garage\"])\n",
        "house_price = tf.constant([939700])\n",
        "\n",
        "house_info, house_price"
      ],
      "metadata": {
        "colab": {
          "base_uri": "https://localhost:8080/"
        },
        "id": "EKNlltO3xrVe",
        "outputId": "8550ac9e-dbe3-4777-cc17-a20da378623f"
      },
      "execution_count": 6,
      "outputs": [
        {
          "output_type": "execute_result",
          "data": {
            "text/plain": [
              "(<tf.Tensor: shape=(3,), dtype=string, numpy=array([b'bedroom', b'bathroom', b'garage'], dtype=object)>,\n",
              " <tf.Tensor: shape=(1,), dtype=int32, numpy=array([939700], dtype=int32)>)"
            ]
          },
          "metadata": {},
          "execution_count": 6
        }
      ]
    },
    {
      "cell_type": "code",
      "source": [
        "x[0], y[0]"
      ],
      "metadata": {
        "colab": {
          "base_uri": "https://localhost:8080/"
        },
        "id": "-tWt-gYSzm66",
        "outputId": "13a6a6ec-e97a-4c6e-bbff-74f55c52d499"
      },
      "execution_count": 7,
      "outputs": [
        {
          "output_type": "execute_result",
          "data": {
            "text/plain": [
              "(-7.0, 3.0)"
            ]
          },
          "metadata": {},
          "execution_count": 7
        }
      ]
    },
    {
      "cell_type": "code",
      "source": [
        "input_shape = x[0].shape\n",
        "output_shape = y[0].shape\n",
        "\n",
        "input_shape, output_shape"
      ],
      "metadata": {
        "colab": {
          "base_uri": "https://localhost:8080/"
        },
        "id": "sGSz7U-vzY4m",
        "outputId": "c1115e1e-ff81-4491-929c-717b700c3074"
      },
      "execution_count": 8,
      "outputs": [
        {
          "output_type": "execute_result",
          "data": {
            "text/plain": [
              "((), ())"
            ]
          },
          "metadata": {},
          "execution_count": 8
        }
      ]
    },
    {
      "cell_type": "code",
      "source": [
        "x[0].ndim"
      ],
      "metadata": {
        "colab": {
          "base_uri": "https://localhost:8080/"
        },
        "id": "VCL4zHK5z8RR",
        "outputId": "fb6a070b-8e0c-4796-ae96-ddf8cf0c28c3"
      },
      "execution_count": 9,
      "outputs": [
        {
          "output_type": "execute_result",
          "data": {
            "text/plain": [
              "0"
            ]
          },
          "metadata": {},
          "execution_count": 9
        }
      ]
    },
    {
      "cell_type": "code",
      "source": [
        "# Turn our Numpy arrays into tensors with dtype 32\n",
        "\n",
        "X = tf.constant(x, dtype=tf.float32)\n",
        "Y = tf.constant(y, dtype=tf.float32)\n",
        "\n",
        "X, Y"
      ],
      "metadata": {
        "colab": {
          "base_uri": "https://localhost:8080/"
        },
        "id": "QL2Ofdwmz-sQ",
        "outputId": "c7f402e6-02c3-4ade-ad63-ce4b6f1826c8"
      },
      "execution_count": 10,
      "outputs": [
        {
          "output_type": "execute_result",
          "data": {
            "text/plain": [
              "(<tf.Tensor: shape=(8,), dtype=float32, numpy=array([-7., -4., -1.,  2.,  5.,  8., 11., 14.], dtype=float32)>,\n",
              " <tf.Tensor: shape=(8,), dtype=float32, numpy=array([ 3.,  6.,  9., 12., 15., 18., 21., 24.], dtype=float32)>)"
            ]
          },
          "metadata": {},
          "execution_count": 10
        }
      ]
    },
    {
      "cell_type": "code",
      "source": [
        "input_shape = X[0].shape\n",
        "output_shape = y[0].shape\n",
        "\n",
        "input_shape, output_shape"
      ],
      "metadata": {
        "colab": {
          "base_uri": "https://localhost:8080/"
        },
        "id": "R6m8i44s1t3S",
        "outputId": "c09f89c0-a80c-4642-cee8-324cd390fdae"
      },
      "execution_count": 11,
      "outputs": [
        {
          "output_type": "execute_result",
          "data": {
            "text/plain": [
              "(TensorShape([]), ())"
            ]
          },
          "metadata": {},
          "execution_count": 11
        }
      ]
    },
    {
      "cell_type": "markdown",
      "source": [
        "## Steps in modelling with TensorFlow\n",
        "\n",
        "1. **Creating a model** - define the input and output layers, as well as the hidden layers of a deep learning model.\n",
        "\n",
        "2. **Compiling a model** - define the loss function (in other words, the function wich tells our model how wrong it is) and the optimizer (tells our model how to improve the patterns its learning) and evaluation metrics (what we can use to interpret the preformance of our model)\n",
        "\n",
        "3. Fitting a model - letting the model try to find patters between X & y (features and labels)"
      ],
      "metadata": {
        "id": "T9heq-y318BJ"
      }
    },
    {
      "cell_type": "code",
      "source": [
        "# Opetionally, the first layer can receive an 'input_shape' argument :\n",
        "# model = tf.keras.Sequential()\n",
        "# model.add(tf.keras.layers.Dense(8, input_shape=(16,)))\n",
        "\n",
        "# Afterwards, we do automatic shape inference :\n",
        "# model.add(tf.keras.layers.Dense(4))\n",
        "\n",
        "# model = tf.keras.Sequential()\n",
        "# model.add(tf.keras.layers.Dense(1))\n",
        "# ..."
      ],
      "metadata": {
        "id": "nEAWuhvc6w4g"
      },
      "execution_count": 12,
      "outputs": []
    },
    {
      "cell_type": "code",
      "source": [
        "# Set random seed\n",
        "\n",
        "tf.random.set_seed(42)\n",
        "\n",
        "# 1. Create a model using the Sequential API\n",
        "model = tf.keras.Sequential([\n",
        "    tf.keras.layers.Dense(1)\n",
        "])\n",
        "\n",
        "# 2. Compile the model\n",
        "model.compile(loss = tf.keras.losses.mae, # mae is short for mean absolute error\n",
        "              optimizer = tf.keras.optimizers.SGD(), # sgd is short for stochasitc gradient decent\n",
        "              metrics = [\"mae\"])\n",
        "\n",
        "# 3. Fit the model\n",
        "# model.fit(X, Y, epochs=5) # BREAK IN UPDATED TENSOR VERSION\n",
        "model.fit(tf.expand_dims(X, axis=-1), Y, epochs=5)"
      ],
      "metadata": {
        "colab": {
          "base_uri": "https://localhost:8080/"
        },
        "id": "ubX_9SYR149W",
        "outputId": "87f05cf2-3b5f-492e-b9f3-087ddcf7c2d8"
      },
      "execution_count": 13,
      "outputs": [
        {
          "output_type": "stream",
          "name": "stdout",
          "text": [
            "Epoch 1/5\n",
            "1/1 [==============================] - 1s 1s/step - loss: 19.7265 - mae: 19.7265\n",
            "Epoch 2/5\n",
            "1/1 [==============================] - 0s 28ms/step - loss: 19.4452 - mae: 19.4452\n",
            "Epoch 3/5\n",
            "1/1 [==============================] - 0s 18ms/step - loss: 19.1640 - mae: 19.1640\n",
            "Epoch 4/5\n",
            "1/1 [==============================] - 0s 12ms/step - loss: 18.8827 - mae: 18.8827\n",
            "Epoch 5/5\n",
            "1/1 [==============================] - 0s 19ms/step - loss: 18.6015 - mae: 18.6015\n"
          ]
        },
        {
          "output_type": "execute_result",
          "data": {
            "text/plain": [
              "<keras.src.callbacks.History at 0x783abd16a200>"
            ]
          },
          "metadata": {},
          "execution_count": 13
        }
      ]
    },
    {
      "cell_type": "code",
      "source": [
        "# Check our X and Y\n",
        "x, y"
      ],
      "metadata": {
        "colab": {
          "base_uri": "https://localhost:8080/"
        },
        "id": "1B1DsBlo9jYC",
        "outputId": "6c90dac8-d20c-4a00-805c-f999c6232cf7"
      },
      "execution_count": 14,
      "outputs": [
        {
          "output_type": "execute_result",
          "data": {
            "text/plain": [
              "(array([-7., -4., -1.,  2.,  5.,  8., 11., 14.]),\n",
              " array([ 3.,  6.,  9., 12., 15., 18., 21., 24.]))"
            ]
          },
          "metadata": {},
          "execution_count": 14
        }
      ]
    },
    {
      "cell_type": "code",
      "source": [
        "# Try make prediction\n",
        "model.predict([17.0])"
      ],
      "metadata": {
        "colab": {
          "base_uri": "https://localhost:8080/"
        },
        "id": "L4S19GPP9pXG",
        "outputId": "92c1a955-d247-44b4-f949-f6d89c42a986"
      },
      "execution_count": 15,
      "outputs": [
        {
          "output_type": "stream",
          "name": "stdout",
          "text": [
            "1/1 [==============================] - 0s 304ms/step\n"
          ]
        },
        {
          "output_type": "execute_result",
          "data": {
            "text/plain": [
              "array([[-18.09054]], dtype=float32)"
            ]
          },
          "metadata": {},
          "execution_count": 15
        }
      ]
    },
    {
      "cell_type": "markdown",
      "source": [
        "## Improving our model\n",
        "\n",
        "We can improve our model, by altering the steps we took to create a model.\n",
        "\n",
        "1. **Creating a model** - ere we might add more layers, increse the number of hidden units (all called neurons) within each of the hidden layers, change the activation function of each layer.\n",
        "\n",
        "2. **Compiling a model** - here we might chang ethe optimization function or perhaps the **learning rate** of the optimization function.\n",
        "\n",
        "3. **Fitting a model** - here we might fit a model for more **epochs** (leave it training for longer) or on more data (give the model more examples to learn form)"
      ],
      "metadata": {
        "id": "Nq6KqLEo-HP4"
      }
    },
    {
      "cell_type": "code",
      "source": [
        "# Let's rebuild our model\n",
        "\n",
        "# 1. Create the model\n",
        "model1 = tf.keras.Sequential([\n",
        "    tf.keras.layers.Dense(1)\n",
        "])\n",
        "\n",
        "# 2. Compile the model\n",
        "model1.compile(loss = tf.keras.losses.mae,\n",
        "              optimizer = tf.keras.optimizers.SGD(),\n",
        "              metrics = [\"mae\"])\n",
        "\n",
        "# 3. Fit the model\n",
        "# model.fit(X, Y, epochs=5) # BREAK IN UPDATED TENSOR VERSION\n",
        "model1.fit(tf.expand_dims(X, axis=-1), Y, epochs=100)"
      ],
      "metadata": {
        "colab": {
          "base_uri": "https://localhost:8080/"
        },
        "id": "GPGzIvb2DLc2",
        "outputId": "b44be4f5-2dcf-48d8-bdb4-4f15798c0832"
      },
      "execution_count": 16,
      "outputs": [
        {
          "output_type": "stream",
          "name": "stdout",
          "text": [
            "Epoch 1/100\n",
            "1/1 [==============================] - 1s 640ms/step - loss: 8.8788 - mae: 8.8788\n",
            "Epoch 2/100\n",
            "1/1 [==============================] - 0s 13ms/step - loss: 8.7463 - mae: 8.7463\n",
            "Epoch 3/100\n",
            "1/1 [==============================] - 0s 10ms/step - loss: 8.6138 - mae: 8.6138\n",
            "Epoch 4/100\n",
            "1/1 [==============================] - 0s 10ms/step - loss: 8.4813 - mae: 8.4813\n",
            "Epoch 5/100\n",
            "1/1 [==============================] - 0s 20ms/step - loss: 8.3488 - mae: 8.3488\n",
            "Epoch 6/100\n",
            "1/1 [==============================] - 0s 11ms/step - loss: 8.2163 - mae: 8.2163\n",
            "Epoch 7/100\n",
            "1/1 [==============================] - 0s 10ms/step - loss: 8.0838 - mae: 8.0838\n",
            "Epoch 8/100\n",
            "1/1 [==============================] - 0s 9ms/step - loss: 7.9513 - mae: 7.9513\n",
            "Epoch 9/100\n",
            "1/1 [==============================] - 0s 11ms/step - loss: 7.8188 - mae: 7.8188\n",
            "Epoch 10/100\n",
            "1/1 [==============================] - 0s 10ms/step - loss: 7.6863 - mae: 7.6863\n",
            "Epoch 11/100\n",
            "1/1 [==============================] - 0s 16ms/step - loss: 7.5538 - mae: 7.5538\n",
            "Epoch 12/100\n",
            "1/1 [==============================] - 0s 22ms/step - loss: 7.4213 - mae: 7.4213\n",
            "Epoch 13/100\n",
            "1/1 [==============================] - 0s 32ms/step - loss: 7.4100 - mae: 7.4100\n",
            "Epoch 14/100\n",
            "1/1 [==============================] - 0s 27ms/step - loss: 7.4044 - mae: 7.4044\n",
            "Epoch 15/100\n",
            "1/1 [==============================] - 0s 15ms/step - loss: 7.3987 - mae: 7.3987\n",
            "Epoch 16/100\n",
            "1/1 [==============================] - 0s 15ms/step - loss: 7.3931 - mae: 7.3931\n",
            "Epoch 17/100\n",
            "1/1 [==============================] - 0s 12ms/step - loss: 7.3875 - mae: 7.3875\n",
            "Epoch 18/100\n",
            "1/1 [==============================] - 0s 13ms/step - loss: 7.3819 - mae: 7.3819\n",
            "Epoch 19/100\n",
            "1/1 [==============================] - 0s 12ms/step - loss: 7.3763 - mae: 7.3763\n",
            "Epoch 20/100\n",
            "1/1 [==============================] - 0s 29ms/step - loss: 7.3706 - mae: 7.3706\n",
            "Epoch 21/100\n",
            "1/1 [==============================] - 0s 16ms/step - loss: 7.3650 - mae: 7.3650\n",
            "Epoch 22/100\n",
            "1/1 [==============================] - 0s 15ms/step - loss: 7.3594 - mae: 7.3594\n",
            "Epoch 23/100\n",
            "1/1 [==============================] - 0s 14ms/step - loss: 7.3538 - mae: 7.3538\n",
            "Epoch 24/100\n",
            "1/1 [==============================] - 0s 13ms/step - loss: 7.3481 - mae: 7.3481\n",
            "Epoch 25/100\n",
            "1/1 [==============================] - 0s 18ms/step - loss: 7.3425 - mae: 7.3425\n",
            "Epoch 26/100\n",
            "1/1 [==============================] - 0s 17ms/step - loss: 7.3369 - mae: 7.3369\n",
            "Epoch 27/100\n",
            "1/1 [==============================] - 0s 12ms/step - loss: 7.3313 - mae: 7.3313\n",
            "Epoch 28/100\n",
            "1/1 [==============================] - 0s 11ms/step - loss: 7.3256 - mae: 7.3256\n",
            "Epoch 29/100\n",
            "1/1 [==============================] - 0s 40ms/step - loss: 7.3200 - mae: 7.3200\n",
            "Epoch 30/100\n",
            "1/1 [==============================] - 0s 27ms/step - loss: 7.3144 - mae: 7.3144\n",
            "Epoch 31/100\n",
            "1/1 [==============================] - 0s 15ms/step - loss: 7.3088 - mae: 7.3088\n",
            "Epoch 32/100\n",
            "1/1 [==============================] - 0s 20ms/step - loss: 7.3031 - mae: 7.3031\n",
            "Epoch 33/100\n",
            "1/1 [==============================] - 0s 28ms/step - loss: 7.2975 - mae: 7.2975\n",
            "Epoch 34/100\n",
            "1/1 [==============================] - 0s 19ms/step - loss: 7.2919 - mae: 7.2919\n",
            "Epoch 35/100\n",
            "1/1 [==============================] - 0s 18ms/step - loss: 7.2863 - mae: 7.2863\n",
            "Epoch 36/100\n",
            "1/1 [==============================] - 0s 28ms/step - loss: 7.2806 - mae: 7.2806\n",
            "Epoch 37/100\n",
            "1/1 [==============================] - 0s 13ms/step - loss: 7.2750 - mae: 7.2750\n",
            "Epoch 38/100\n",
            "1/1 [==============================] - 0s 34ms/step - loss: 7.2694 - mae: 7.2694\n",
            "Epoch 39/100\n",
            "1/1 [==============================] - 0s 36ms/step - loss: 7.2638 - mae: 7.2638\n",
            "Epoch 40/100\n",
            "1/1 [==============================] - 0s 34ms/step - loss: 7.2581 - mae: 7.2581\n",
            "Epoch 41/100\n",
            "1/1 [==============================] - 0s 18ms/step - loss: 7.2525 - mae: 7.2525\n",
            "Epoch 42/100\n",
            "1/1 [==============================] - 0s 24ms/step - loss: 7.2469 - mae: 7.2469\n",
            "Epoch 43/100\n",
            "1/1 [==============================] - 0s 19ms/step - loss: 7.2413 - mae: 7.2413\n",
            "Epoch 44/100\n",
            "1/1 [==============================] - 0s 24ms/step - loss: 7.2356 - mae: 7.2356\n",
            "Epoch 45/100\n",
            "1/1 [==============================] - 0s 18ms/step - loss: 7.2300 - mae: 7.2300\n",
            "Epoch 46/100\n",
            "1/1 [==============================] - 0s 15ms/step - loss: 7.2244 - mae: 7.2244\n",
            "Epoch 47/100\n",
            "1/1 [==============================] - 0s 20ms/step - loss: 7.2188 - mae: 7.2188\n",
            "Epoch 48/100\n",
            "1/1 [==============================] - 0s 12ms/step - loss: 7.2131 - mae: 7.2131\n",
            "Epoch 49/100\n",
            "1/1 [==============================] - 0s 21ms/step - loss: 7.2075 - mae: 7.2075\n",
            "Epoch 50/100\n",
            "1/1 [==============================] - 0s 13ms/step - loss: 7.2019 - mae: 7.2019\n",
            "Epoch 51/100\n",
            "1/1 [==============================] - 0s 17ms/step - loss: 7.1963 - mae: 7.1963\n",
            "Epoch 52/100\n",
            "1/1 [==============================] - 0s 12ms/step - loss: 7.1906 - mae: 7.1906\n",
            "Epoch 53/100\n",
            "1/1 [==============================] - 0s 29ms/step - loss: 7.1850 - mae: 7.1850\n",
            "Epoch 54/100\n",
            "1/1 [==============================] - 0s 22ms/step - loss: 7.1794 - mae: 7.1794\n",
            "Epoch 55/100\n",
            "1/1 [==============================] - 0s 23ms/step - loss: 7.1738 - mae: 7.1738\n",
            "Epoch 56/100\n",
            "1/1 [==============================] - 0s 15ms/step - loss: 7.1681 - mae: 7.1681\n",
            "Epoch 57/100\n",
            "1/1 [==============================] - 0s 17ms/step - loss: 7.1625 - mae: 7.1625\n",
            "Epoch 58/100\n",
            "1/1 [==============================] - 0s 24ms/step - loss: 7.1569 - mae: 7.1569\n",
            "Epoch 59/100\n",
            "1/1 [==============================] - 0s 10ms/step - loss: 7.1513 - mae: 7.1513\n",
            "Epoch 60/100\n",
            "1/1 [==============================] - 0s 18ms/step - loss: 7.1456 - mae: 7.1456\n",
            "Epoch 61/100\n",
            "1/1 [==============================] - 0s 16ms/step - loss: 7.1400 - mae: 7.1400\n",
            "Epoch 62/100\n",
            "1/1 [==============================] - 0s 18ms/step - loss: 7.1344 - mae: 7.1344\n",
            "Epoch 63/100\n",
            "1/1 [==============================] - 0s 10ms/step - loss: 7.1288 - mae: 7.1288\n",
            "Epoch 64/100\n",
            "1/1 [==============================] - 0s 23ms/step - loss: 7.1231 - mae: 7.1231\n",
            "Epoch 65/100\n",
            "1/1 [==============================] - 0s 23ms/step - loss: 7.1175 - mae: 7.1175\n",
            "Epoch 66/100\n",
            "1/1 [==============================] - 0s 15ms/step - loss: 7.1119 - mae: 7.1119\n",
            "Epoch 67/100\n",
            "1/1 [==============================] - 0s 15ms/step - loss: 7.1062 - mae: 7.1062\n",
            "Epoch 68/100\n",
            "1/1 [==============================] - 0s 16ms/step - loss: 7.1006 - mae: 7.1006\n",
            "Epoch 69/100\n",
            "1/1 [==============================] - 0s 13ms/step - loss: 7.0950 - mae: 7.0950\n",
            "Epoch 70/100\n",
            "1/1 [==============================] - 0s 43ms/step - loss: 7.0894 - mae: 7.0894\n",
            "Epoch 71/100\n",
            "1/1 [==============================] - 0s 28ms/step - loss: 7.0838 - mae: 7.0838\n",
            "Epoch 72/100\n",
            "1/1 [==============================] - 0s 34ms/step - loss: 7.0781 - mae: 7.0781\n",
            "Epoch 73/100\n",
            "1/1 [==============================] - 0s 39ms/step - loss: 7.0725 - mae: 7.0725\n",
            "Epoch 74/100\n",
            "1/1 [==============================] - 0s 30ms/step - loss: 7.0669 - mae: 7.0669\n",
            "Epoch 75/100\n",
            "1/1 [==============================] - 0s 30ms/step - loss: 7.0612 - mae: 7.0612\n",
            "Epoch 76/100\n",
            "1/1 [==============================] - 0s 19ms/step - loss: 7.0556 - mae: 7.0556\n",
            "Epoch 77/100\n",
            "1/1 [==============================] - 0s 19ms/step - loss: 7.0500 - mae: 7.0500\n",
            "Epoch 78/100\n",
            "1/1 [==============================] - 0s 15ms/step - loss: 7.0444 - mae: 7.0444\n",
            "Epoch 79/100\n",
            "1/1 [==============================] - 0s 14ms/step - loss: 7.0388 - mae: 7.0388\n",
            "Epoch 80/100\n",
            "1/1 [==============================] - 0s 17ms/step - loss: 7.0331 - mae: 7.0331\n",
            "Epoch 81/100\n",
            "1/1 [==============================] - 0s 16ms/step - loss: 7.0275 - mae: 7.0275\n",
            "Epoch 82/100\n",
            "1/1 [==============================] - 0s 26ms/step - loss: 7.0219 - mae: 7.0219\n",
            "Epoch 83/100\n",
            "1/1 [==============================] - 0s 24ms/step - loss: 7.0163 - mae: 7.0163\n",
            "Epoch 84/100\n",
            "1/1 [==============================] - 0s 17ms/step - loss: 7.0106 - mae: 7.0106\n",
            "Epoch 85/100\n",
            "1/1 [==============================] - 0s 21ms/step - loss: 7.0050 - mae: 7.0050\n",
            "Epoch 86/100\n",
            "1/1 [==============================] - 0s 14ms/step - loss: 6.9994 - mae: 6.9994\n",
            "Epoch 87/100\n",
            "1/1 [==============================] - 0s 13ms/step - loss: 6.9938 - mae: 6.9938\n",
            "Epoch 88/100\n",
            "1/1 [==============================] - 0s 24ms/step - loss: 6.9881 - mae: 6.9881\n",
            "Epoch 89/100\n",
            "1/1 [==============================] - 0s 15ms/step - loss: 6.9825 - mae: 6.9825\n",
            "Epoch 90/100\n",
            "1/1 [==============================] - 0s 18ms/step - loss: 6.9769 - mae: 6.9769\n",
            "Epoch 91/100\n",
            "1/1 [==============================] - 0s 15ms/step - loss: 6.9713 - mae: 6.9713\n",
            "Epoch 92/100\n",
            "1/1 [==============================] - 0s 17ms/step - loss: 6.9656 - mae: 6.9656\n",
            "Epoch 93/100\n",
            "1/1 [==============================] - 0s 15ms/step - loss: 6.9600 - mae: 6.9600\n",
            "Epoch 94/100\n",
            "1/1 [==============================] - 0s 16ms/step - loss: 6.9544 - mae: 6.9544\n",
            "Epoch 95/100\n",
            "1/1 [==============================] - 0s 12ms/step - loss: 6.9488 - mae: 6.9488\n",
            "Epoch 96/100\n",
            "1/1 [==============================] - 0s 15ms/step - loss: 6.9431 - mae: 6.9431\n",
            "Epoch 97/100\n",
            "1/1 [==============================] - 0s 13ms/step - loss: 6.9375 - mae: 6.9375\n",
            "Epoch 98/100\n",
            "1/1 [==============================] - 0s 12ms/step - loss: 6.9319 - mae: 6.9319\n",
            "Epoch 99/100\n",
            "1/1 [==============================] - 0s 22ms/step - loss: 6.9263 - mae: 6.9263\n",
            "Epoch 100/100\n",
            "1/1 [==============================] - 0s 32ms/step - loss: 6.9206 - mae: 6.9206\n"
          ]
        },
        {
          "output_type": "execute_result",
          "data": {
            "text/plain": [
              "<keras.src.callbacks.History at 0x783abc5e1e10>"
            ]
          },
          "metadata": {},
          "execution_count": 16
        }
      ]
    },
    {
      "cell_type": "code",
      "source": [
        "# Try make prediction\n",
        "model1.predict([17.0])"
      ],
      "metadata": {
        "colab": {
          "base_uri": "https://localhost:8080/"
        },
        "id": "4kMA7oidBuHG",
        "outputId": "d88f616a-b6dd-429a-924d-b6be65b92699"
      },
      "execution_count": 17,
      "outputs": [
        {
          "output_type": "stream",
          "name": "stdout",
          "text": [
            "1/1 [==============================] - 0s 139ms/step\n"
          ]
        },
        {
          "output_type": "execute_result",
          "data": {
            "text/plain": [
              "array([[30.366028]], dtype=float32)"
            ]
          },
          "metadata": {},
          "execution_count": 17
        }
      ]
    },
    {
      "cell_type": "code",
      "source": [
        "# re-write the model by my self and improve one thing to get better\n",
        "\n",
        "# 1. Create the model\n",
        "model2 = tf.keras.Sequential([\n",
        "    tf.keras.layers.Dense(1)\n",
        "])\n",
        "\n",
        "# 2. Compile the model\n",
        "model2.compile(loss = tf.keras.losses.mae,\n",
        "              optimizer = tf.keras.optimizers.Adam(learning_rate=0.001), # chang the optimizers from SGD to adam\n",
        "              metrics = [\"mae\"])\n",
        "\n",
        "# 3. Fit the model\n",
        "# model.fit(X, Y, epochs=5) # BREAK IN UPDATED TENSOR VERSION\n",
        "model2.fit(tf.expand_dims(X, axis=-1), Y, epochs=100)"
      ],
      "metadata": {
        "colab": {
          "base_uri": "https://localhost:8080/"
        },
        "id": "gdwbhbhmJVPx",
        "outputId": "2209b172-793f-4586-b459-9b80fa4ff5b4"
      },
      "execution_count": 18,
      "outputs": [
        {
          "output_type": "stream",
          "name": "stdout",
          "text": [
            "Epoch 1/100\n",
            "1/1 [==============================] - 1s 861ms/step - loss: 14.4644 - mae: 14.4644\n",
            "Epoch 2/100\n",
            "1/1 [==============================] - 0s 19ms/step - loss: 14.4599 - mae: 14.4599\n",
            "Epoch 3/100\n",
            "1/1 [==============================] - 0s 10ms/step - loss: 14.4554 - mae: 14.4554\n",
            "Epoch 4/100\n",
            "1/1 [==============================] - 0s 11ms/step - loss: 14.4509 - mae: 14.4509\n",
            "Epoch 5/100\n",
            "1/1 [==============================] - 0s 9ms/step - loss: 14.4464 - mae: 14.4464\n",
            "Epoch 6/100\n",
            "1/1 [==============================] - 0s 10ms/step - loss: 14.4419 - mae: 14.4419\n",
            "Epoch 7/100\n",
            "1/1 [==============================] - 0s 13ms/step - loss: 14.4374 - mae: 14.4374\n",
            "Epoch 8/100\n",
            "1/1 [==============================] - 0s 10ms/step - loss: 14.4329 - mae: 14.4329\n",
            "Epoch 9/100\n",
            "1/1 [==============================] - 0s 10ms/step - loss: 14.4284 - mae: 14.4284\n",
            "Epoch 10/100\n",
            "1/1 [==============================] - 0s 10ms/step - loss: 14.4239 - mae: 14.4239\n",
            "Epoch 11/100\n",
            "1/1 [==============================] - 0s 10ms/step - loss: 14.4194 - mae: 14.4194\n",
            "Epoch 12/100\n",
            "1/1 [==============================] - 0s 10ms/step - loss: 14.4149 - mae: 14.4149\n",
            "Epoch 13/100\n",
            "1/1 [==============================] - 0s 10ms/step - loss: 14.4104 - mae: 14.4104\n",
            "Epoch 14/100\n",
            "1/1 [==============================] - 0s 15ms/step - loss: 14.4059 - mae: 14.4059\n",
            "Epoch 15/100\n",
            "1/1 [==============================] - 0s 13ms/step - loss: 14.4014 - mae: 14.4014\n",
            "Epoch 16/100\n",
            "1/1 [==============================] - 0s 20ms/step - loss: 14.3969 - mae: 14.3969\n",
            "Epoch 17/100\n",
            "1/1 [==============================] - 0s 16ms/step - loss: 14.3924 - mae: 14.3924\n",
            "Epoch 18/100\n",
            "1/1 [==============================] - 0s 27ms/step - loss: 14.3879 - mae: 14.3879\n",
            "Epoch 19/100\n",
            "1/1 [==============================] - 0s 13ms/step - loss: 14.3834 - mae: 14.3834\n",
            "Epoch 20/100\n",
            "1/1 [==============================] - 0s 22ms/step - loss: 14.3789 - mae: 14.3789\n",
            "Epoch 21/100\n",
            "1/1 [==============================] - 0s 12ms/step - loss: 14.3744 - mae: 14.3744\n",
            "Epoch 22/100\n",
            "1/1 [==============================] - 0s 12ms/step - loss: 14.3699 - mae: 14.3699\n",
            "Epoch 23/100\n",
            "1/1 [==============================] - 0s 14ms/step - loss: 14.3654 - mae: 14.3654\n",
            "Epoch 24/100\n",
            "1/1 [==============================] - 0s 14ms/step - loss: 14.3609 - mae: 14.3609\n",
            "Epoch 25/100\n",
            "1/1 [==============================] - 0s 15ms/step - loss: 14.3564 - mae: 14.3564\n",
            "Epoch 26/100\n",
            "1/1 [==============================] - 0s 22ms/step - loss: 14.3519 - mae: 14.3519\n",
            "Epoch 27/100\n",
            "1/1 [==============================] - 0s 20ms/step - loss: 14.3474 - mae: 14.3474\n",
            "Epoch 28/100\n",
            "1/1 [==============================] - 0s 32ms/step - loss: 14.3429 - mae: 14.3429\n",
            "Epoch 29/100\n",
            "1/1 [==============================] - 0s 15ms/step - loss: 14.3384 - mae: 14.3384\n",
            "Epoch 30/100\n",
            "1/1 [==============================] - 0s 18ms/step - loss: 14.3339 - mae: 14.3339\n",
            "Epoch 31/100\n",
            "1/1 [==============================] - 0s 17ms/step - loss: 14.3294 - mae: 14.3294\n",
            "Epoch 32/100\n",
            "1/1 [==============================] - 0s 17ms/step - loss: 14.3249 - mae: 14.3249\n",
            "Epoch 33/100\n",
            "1/1 [==============================] - 0s 19ms/step - loss: 14.3204 - mae: 14.3204\n",
            "Epoch 34/100\n",
            "1/1 [==============================] - 0s 12ms/step - loss: 14.3159 - mae: 14.3159\n",
            "Epoch 35/100\n",
            "1/1 [==============================] - 0s 14ms/step - loss: 14.3114 - mae: 14.3114\n",
            "Epoch 36/100\n",
            "1/1 [==============================] - 0s 15ms/step - loss: 14.3069 - mae: 14.3069\n",
            "Epoch 37/100\n",
            "1/1 [==============================] - 0s 12ms/step - loss: 14.3024 - mae: 14.3024\n",
            "Epoch 38/100\n",
            "1/1 [==============================] - 0s 11ms/step - loss: 14.2979 - mae: 14.2979\n",
            "Epoch 39/100\n",
            "1/1 [==============================] - 0s 13ms/step - loss: 14.2934 - mae: 14.2934\n",
            "Epoch 40/100\n",
            "1/1 [==============================] - 0s 11ms/step - loss: 14.2889 - mae: 14.2889\n",
            "Epoch 41/100\n",
            "1/1 [==============================] - 0s 12ms/step - loss: 14.2844 - mae: 14.2844\n",
            "Epoch 42/100\n",
            "1/1 [==============================] - 0s 24ms/step - loss: 14.2799 - mae: 14.2799\n",
            "Epoch 43/100\n",
            "1/1 [==============================] - 0s 14ms/step - loss: 14.2754 - mae: 14.2754\n",
            "Epoch 44/100\n",
            "1/1 [==============================] - 0s 16ms/step - loss: 14.2709 - mae: 14.2709\n",
            "Epoch 45/100\n",
            "1/1 [==============================] - 0s 27ms/step - loss: 14.2664 - mae: 14.2664\n",
            "Epoch 46/100\n",
            "1/1 [==============================] - 0s 20ms/step - loss: 14.2619 - mae: 14.2619\n",
            "Epoch 47/100\n",
            "1/1 [==============================] - 0s 26ms/step - loss: 14.2574 - mae: 14.2574\n",
            "Epoch 48/100\n",
            "1/1 [==============================] - 0s 18ms/step - loss: 14.2529 - mae: 14.2529\n",
            "Epoch 49/100\n",
            "1/1 [==============================] - 0s 29ms/step - loss: 14.2484 - mae: 14.2484\n",
            "Epoch 50/100\n",
            "1/1 [==============================] - 0s 24ms/step - loss: 14.2439 - mae: 14.2439\n",
            "Epoch 51/100\n",
            "1/1 [==============================] - 0s 14ms/step - loss: 14.2394 - mae: 14.2394\n",
            "Epoch 52/100\n",
            "1/1 [==============================] - 0s 15ms/step - loss: 14.2349 - mae: 14.2349\n",
            "Epoch 53/100\n",
            "1/1 [==============================] - 0s 15ms/step - loss: 14.2304 - mae: 14.2304\n",
            "Epoch 54/100\n",
            "1/1 [==============================] - 0s 25ms/step - loss: 14.2259 - mae: 14.2259\n",
            "Epoch 55/100\n",
            "1/1 [==============================] - 0s 12ms/step - loss: 14.2214 - mae: 14.2214\n",
            "Epoch 56/100\n",
            "1/1 [==============================] - 0s 12ms/step - loss: 14.2169 - mae: 14.2169\n",
            "Epoch 57/100\n",
            "1/1 [==============================] - 0s 13ms/step - loss: 14.2124 - mae: 14.2124\n",
            "Epoch 58/100\n",
            "1/1 [==============================] - 0s 13ms/step - loss: 14.2079 - mae: 14.2079\n",
            "Epoch 59/100\n",
            "1/1 [==============================] - 0s 21ms/step - loss: 14.2034 - mae: 14.2034\n",
            "Epoch 60/100\n",
            "1/1 [==============================] - 0s 27ms/step - loss: 14.1989 - mae: 14.1989\n",
            "Epoch 61/100\n",
            "1/1 [==============================] - 0s 16ms/step - loss: 14.1944 - mae: 14.1944\n",
            "Epoch 62/100\n",
            "1/1 [==============================] - 0s 14ms/step - loss: 14.1899 - mae: 14.1899\n",
            "Epoch 63/100\n",
            "1/1 [==============================] - 0s 15ms/step - loss: 14.1854 - mae: 14.1854\n",
            "Epoch 64/100\n",
            "1/1 [==============================] - 0s 17ms/step - loss: 14.1809 - mae: 14.1809\n",
            "Epoch 65/100\n",
            "1/1 [==============================] - 0s 16ms/step - loss: 14.1764 - mae: 14.1764\n",
            "Epoch 66/100\n",
            "1/1 [==============================] - 0s 13ms/step - loss: 14.1719 - mae: 14.1719\n",
            "Epoch 67/100\n",
            "1/1 [==============================] - 0s 12ms/step - loss: 14.1674 - mae: 14.1674\n",
            "Epoch 68/100\n",
            "1/1 [==============================] - 0s 15ms/step - loss: 14.1629 - mae: 14.1629\n",
            "Epoch 69/100\n",
            "1/1 [==============================] - 0s 20ms/step - loss: 14.1584 - mae: 14.1584\n",
            "Epoch 70/100\n",
            "1/1 [==============================] - 0s 29ms/step - loss: 14.1539 - mae: 14.1539\n",
            "Epoch 71/100\n",
            "1/1 [==============================] - 0s 23ms/step - loss: 14.1494 - mae: 14.1494\n",
            "Epoch 72/100\n",
            "1/1 [==============================] - 0s 20ms/step - loss: 14.1449 - mae: 14.1449\n",
            "Epoch 73/100\n",
            "1/1 [==============================] - 0s 18ms/step - loss: 14.1404 - mae: 14.1404\n",
            "Epoch 74/100\n",
            "1/1 [==============================] - 0s 23ms/step - loss: 14.1359 - mae: 14.1359\n",
            "Epoch 75/100\n",
            "1/1 [==============================] - 0s 24ms/step - loss: 14.1314 - mae: 14.1314\n",
            "Epoch 76/100\n",
            "1/1 [==============================] - 0s 15ms/step - loss: 14.1269 - mae: 14.1269\n",
            "Epoch 77/100\n",
            "1/1 [==============================] - 0s 13ms/step - loss: 14.1224 - mae: 14.1224\n",
            "Epoch 78/100\n",
            "1/1 [==============================] - 0s 13ms/step - loss: 14.1179 - mae: 14.1179\n",
            "Epoch 79/100\n",
            "1/1 [==============================] - 0s 17ms/step - loss: 14.1134 - mae: 14.1134\n",
            "Epoch 80/100\n",
            "1/1 [==============================] - 0s 15ms/step - loss: 14.1089 - mae: 14.1089\n",
            "Epoch 81/100\n",
            "1/1 [==============================] - 0s 18ms/step - loss: 14.1044 - mae: 14.1044\n",
            "Epoch 82/100\n",
            "1/1 [==============================] - 0s 16ms/step - loss: 14.0999 - mae: 14.0999\n",
            "Epoch 83/100\n",
            "1/1 [==============================] - 0s 18ms/step - loss: 14.0954 - mae: 14.0954\n",
            "Epoch 84/100\n",
            "1/1 [==============================] - 0s 20ms/step - loss: 14.0909 - mae: 14.0909\n",
            "Epoch 85/100\n",
            "1/1 [==============================] - 0s 25ms/step - loss: 14.0864 - mae: 14.0864\n",
            "Epoch 86/100\n",
            "1/1 [==============================] - 0s 20ms/step - loss: 14.0819 - mae: 14.0819\n",
            "Epoch 87/100\n",
            "1/1 [==============================] - 0s 22ms/step - loss: 14.0774 - mae: 14.0774\n",
            "Epoch 88/100\n",
            "1/1 [==============================] - 0s 14ms/step - loss: 14.0729 - mae: 14.0729\n",
            "Epoch 89/100\n",
            "1/1 [==============================] - 0s 12ms/step - loss: 14.0684 - mae: 14.0684\n",
            "Epoch 90/100\n",
            "1/1 [==============================] - 0s 22ms/step - loss: 14.0639 - mae: 14.0639\n",
            "Epoch 91/100\n",
            "1/1 [==============================] - 0s 12ms/step - loss: 14.0594 - mae: 14.0594\n",
            "Epoch 92/100\n",
            "1/1 [==============================] - 0s 18ms/step - loss: 14.0549 - mae: 14.0549\n",
            "Epoch 93/100\n",
            "1/1 [==============================] - 0s 15ms/step - loss: 14.0504 - mae: 14.0504\n",
            "Epoch 94/100\n",
            "1/1 [==============================] - 0s 21ms/step - loss: 14.0459 - mae: 14.0459\n",
            "Epoch 95/100\n",
            "1/1 [==============================] - 0s 14ms/step - loss: 14.0414 - mae: 14.0414\n",
            "Epoch 96/100\n",
            "1/1 [==============================] - 0s 17ms/step - loss: 14.0369 - mae: 14.0369\n",
            "Epoch 97/100\n",
            "1/1 [==============================] - 0s 16ms/step - loss: 14.0324 - mae: 14.0324\n",
            "Epoch 98/100\n",
            "1/1 [==============================] - 0s 18ms/step - loss: 14.0279 - mae: 14.0279\n",
            "Epoch 99/100\n",
            "1/1 [==============================] - 0s 16ms/step - loss: 14.0234 - mae: 14.0234\n",
            "Epoch 100/100\n",
            "1/1 [==============================] - 0s 31ms/step - loss: 14.0189 - mae: 14.0189\n"
          ]
        },
        {
          "output_type": "execute_result",
          "data": {
            "text/plain": [
              "<keras.src.callbacks.History at 0x783abc42df90>"
            ]
          },
          "metadata": {},
          "execution_count": 18
        }
      ]
    },
    {
      "cell_type": "code",
      "source": [
        "# Try make prediction\n",
        "model2.predict([17.0])"
      ],
      "metadata": {
        "colab": {
          "base_uri": "https://localhost:8080/"
        },
        "id": "QeWEo95_J5Gg",
        "outputId": "78ecbcba-8b21-4fea-d3be-20f95d052820"
      },
      "execution_count": 19,
      "outputs": [
        {
          "output_type": "stream",
          "name": "stdout",
          "text": [
            "1/1 [==============================] - 0s 135ms/step\n"
          ]
        },
        {
          "output_type": "execute_result",
          "data": {
            "text/plain": [
              "array([[-2.884316]], dtype=float32)"
            ]
          },
          "metadata": {},
          "execution_count": 19
        }
      ]
    },
    {
      "cell_type": "code",
      "source": [
        "# re-write the model\n",
        "\n",
        "# 1. Create the model (with 100 hidden units )\n",
        "model3 = tf.keras.Sequential([\n",
        "    tf.keras.layers.Dense(50, activation=None),\n",
        "    tf.keras.layers.Dense(1)\n",
        "])\n",
        "\n",
        "# 2. Compile the model\n",
        "model3.compile(loss = \"mae\",\n",
        "              optimizer = tf.keras.optimizers.Adam(learning_rate = 0.01),\n",
        "              metrics = [\"mae\"])\n",
        "\n",
        "# 3. Fit the model\n",
        "# model.fit(X, Y, epochs=5) # BREAK IN UPDATED TENSOR VERSION\n",
        "model3.fit(tf.expand_dims(X, axis=-1), Y, epochs=100)"
      ],
      "metadata": {
        "colab": {
          "base_uri": "https://localhost:8080/"
        },
        "id": "KI1XF166hgOa",
        "outputId": "2298cf1d-6bc5-404d-ecf8-805650b61faf"
      },
      "execution_count": 27,
      "outputs": [
        {
          "output_type": "stream",
          "name": "stdout",
          "text": [
            "Epoch 1/100\n",
            "1/1 [==============================] - 1s 798ms/step - loss: 15.6017 - mae: 15.6017\n",
            "Epoch 2/100\n",
            "1/1 [==============================] - 0s 17ms/step - loss: 14.5655 - mae: 14.5655\n",
            "Epoch 3/100\n",
            "1/1 [==============================] - 0s 13ms/step - loss: 13.7506 - mae: 13.7506\n",
            "Epoch 4/100\n",
            "1/1 [==============================] - 0s 11ms/step - loss: 12.9360 - mae: 12.9360\n",
            "Epoch 5/100\n",
            "1/1 [==============================] - 0s 14ms/step - loss: 12.1178 - mae: 12.1178\n",
            "Epoch 6/100\n",
            "1/1 [==============================] - 0s 11ms/step - loss: 11.2941 - mae: 11.2941\n",
            "Epoch 7/100\n",
            "1/1 [==============================] - 0s 12ms/step - loss: 10.4637 - mae: 10.4637\n",
            "Epoch 8/100\n",
            "1/1 [==============================] - 0s 10ms/step - loss: 9.6252 - mae: 9.6252\n",
            "Epoch 9/100\n",
            "1/1 [==============================] - 0s 10ms/step - loss: 8.7767 - mae: 8.7767\n",
            "Epoch 10/100\n",
            "1/1 [==============================] - 0s 10ms/step - loss: 7.9167 - mae: 7.9167\n",
            "Epoch 11/100\n",
            "1/1 [==============================] - 0s 11ms/step - loss: 7.0434 - mae: 7.0434\n",
            "Epoch 12/100\n",
            "1/1 [==============================] - 0s 13ms/step - loss: 6.4659 - mae: 6.4659\n",
            "Epoch 13/100\n",
            "1/1 [==============================] - 0s 11ms/step - loss: 6.7170 - mae: 6.7170\n",
            "Epoch 14/100\n",
            "1/1 [==============================] - 0s 13ms/step - loss: 7.0610 - mae: 7.0610\n",
            "Epoch 15/100\n",
            "1/1 [==============================] - 0s 11ms/step - loss: 7.4065 - mae: 7.4065\n",
            "Epoch 16/100\n",
            "1/1 [==============================] - 0s 14ms/step - loss: 7.5061 - mae: 7.5061\n",
            "Epoch 17/100\n",
            "1/1 [==============================] - 0s 12ms/step - loss: 7.4134 - mae: 7.4134\n",
            "Epoch 18/100\n",
            "1/1 [==============================] - 0s 18ms/step - loss: 7.1693 - mae: 7.1693\n",
            "Epoch 19/100\n",
            "1/1 [==============================] - 0s 11ms/step - loss: 6.8055 - mae: 6.8055\n",
            "Epoch 20/100\n",
            "1/1 [==============================] - 0s 10ms/step - loss: 6.4444 - mae: 6.4444\n",
            "Epoch 21/100\n",
            "1/1 [==============================] - 0s 10ms/step - loss: 6.1380 - mae: 6.1380\n",
            "Epoch 22/100\n",
            "1/1 [==============================] - 0s 10ms/step - loss: 5.8181 - mae: 5.8181\n",
            "Epoch 23/100\n",
            "1/1 [==============================] - 0s 10ms/step - loss: 5.6961 - mae: 5.6961\n",
            "Epoch 24/100\n",
            "1/1 [==============================] - 0s 16ms/step - loss: 5.7082 - mae: 5.7082\n",
            "Epoch 25/100\n",
            "1/1 [==============================] - 0s 10ms/step - loss: 5.8432 - mae: 5.8432\n",
            "Epoch 26/100\n",
            "1/1 [==============================] - 0s 10ms/step - loss: 5.8671 - mae: 5.8671\n",
            "Epoch 27/100\n",
            "1/1 [==============================] - 0s 10ms/step - loss: 5.7934 - mae: 5.7934\n",
            "Epoch 28/100\n",
            "1/1 [==============================] - 0s 11ms/step - loss: 5.6326 - mae: 5.6326\n",
            "Epoch 29/100\n",
            "1/1 [==============================] - 0s 13ms/step - loss: 5.3928 - mae: 5.3928\n",
            "Epoch 30/100\n",
            "1/1 [==============================] - 0s 11ms/step - loss: 5.1090 - mae: 5.1090\n",
            "Epoch 31/100\n",
            "1/1 [==============================] - 0s 10ms/step - loss: 4.9962 - mae: 4.9962\n",
            "Epoch 32/100\n",
            "1/1 [==============================] - 0s 10ms/step - loss: 4.8805 - mae: 4.8805\n",
            "Epoch 33/100\n",
            "1/1 [==============================] - 0s 10ms/step - loss: 4.8782 - mae: 4.8782\n",
            "Epoch 34/100\n",
            "1/1 [==============================] - 0s 10ms/step - loss: 4.8547 - mae: 4.8547\n",
            "Epoch 35/100\n",
            "1/1 [==============================] - 0s 10ms/step - loss: 4.7836 - mae: 4.7836\n",
            "Epoch 36/100\n",
            "1/1 [==============================] - 0s 11ms/step - loss: 4.6684 - mae: 4.6684\n",
            "Epoch 37/100\n",
            "1/1 [==============================] - 0s 12ms/step - loss: 4.5126 - mae: 4.5126\n",
            "Epoch 38/100\n",
            "1/1 [==============================] - 0s 12ms/step - loss: 4.3196 - mae: 4.3196\n",
            "Epoch 39/100\n",
            "1/1 [==============================] - 0s 11ms/step - loss: 4.1085 - mae: 4.1085\n",
            "Epoch 40/100\n",
            "1/1 [==============================] - 0s 11ms/step - loss: 3.9983 - mae: 3.9983\n",
            "Epoch 41/100\n",
            "1/1 [==============================] - 0s 9ms/step - loss: 3.8811 - mae: 3.8811\n",
            "Epoch 42/100\n",
            "1/1 [==============================] - 0s 11ms/step - loss: 3.7769 - mae: 3.7769\n",
            "Epoch 43/100\n",
            "1/1 [==============================] - 0s 13ms/step - loss: 3.6359 - mae: 3.6359\n",
            "Epoch 44/100\n",
            "1/1 [==============================] - 0s 10ms/step - loss: 3.4638 - mae: 3.4638\n",
            "Epoch 45/100\n",
            "1/1 [==============================] - 0s 10ms/step - loss: 3.3039 - mae: 3.3039\n",
            "Epoch 46/100\n",
            "1/1 [==============================] - 0s 9ms/step - loss: 3.1378 - mae: 3.1378\n",
            "Epoch 47/100\n",
            "1/1 [==============================] - 0s 9ms/step - loss: 3.0581 - mae: 3.0581\n",
            "Epoch 48/100\n",
            "1/1 [==============================] - 0s 11ms/step - loss: 2.9225 - mae: 2.9225\n",
            "Epoch 49/100\n",
            "1/1 [==============================] - 0s 11ms/step - loss: 2.7327 - mae: 2.7327\n",
            "Epoch 50/100\n",
            "1/1 [==============================] - 0s 10ms/step - loss: 2.4917 - mae: 2.4917\n",
            "Epoch 51/100\n",
            "1/1 [==============================] - 0s 9ms/step - loss: 2.2960 - mae: 2.2960\n",
            "Epoch 52/100\n",
            "1/1 [==============================] - 0s 9ms/step - loss: 2.1803 - mae: 2.1803\n",
            "Epoch 53/100\n",
            "1/1 [==============================] - 0s 9ms/step - loss: 2.0017 - mae: 2.0017\n",
            "Epoch 54/100\n",
            "1/1 [==============================] - 0s 9ms/step - loss: 1.7110 - mae: 1.7110\n",
            "Epoch 55/100\n",
            "1/1 [==============================] - 0s 10ms/step - loss: 1.4891 - mae: 1.4891\n",
            "Epoch 56/100\n",
            "1/1 [==============================] - 0s 9ms/step - loss: 1.2990 - mae: 1.2990\n",
            "Epoch 57/100\n",
            "1/1 [==============================] - 0s 9ms/step - loss: 1.0470 - mae: 1.0470\n",
            "Epoch 58/100\n",
            "1/1 [==============================] - 0s 8ms/step - loss: 0.8160 - mae: 0.8160\n",
            "Epoch 59/100\n",
            "1/1 [==============================] - 0s 9ms/step - loss: 0.5740 - mae: 0.5740\n",
            "Epoch 60/100\n",
            "1/1 [==============================] - 0s 9ms/step - loss: 0.3308 - mae: 0.3308\n",
            "Epoch 61/100\n",
            "1/1 [==============================] - 0s 9ms/step - loss: 0.2300 - mae: 0.2300\n",
            "Epoch 62/100\n",
            "1/1 [==============================] - 0s 9ms/step - loss: 0.1905 - mae: 0.1905\n",
            "Epoch 63/100\n",
            "1/1 [==============================] - 0s 9ms/step - loss: 0.4699 - mae: 0.4699\n",
            "Epoch 64/100\n",
            "1/1 [==============================] - 0s 9ms/step - loss: 0.5455 - mae: 0.5455\n",
            "Epoch 65/100\n",
            "1/1 [==============================] - 0s 9ms/step - loss: 0.7033 - mae: 0.7033\n",
            "Epoch 66/100\n",
            "1/1 [==============================] - 0s 9ms/step - loss: 0.7360 - mae: 0.7360\n",
            "Epoch 67/100\n",
            "1/1 [==============================] - 0s 9ms/step - loss: 0.7284 - mae: 0.7284\n",
            "Epoch 68/100\n",
            "1/1 [==============================] - 0s 9ms/step - loss: 0.7505 - mae: 0.7505\n",
            "Epoch 69/100\n",
            "1/1 [==============================] - 0s 9ms/step - loss: 0.6281 - mae: 0.6281\n",
            "Epoch 70/100\n",
            "1/1 [==============================] - 0s 8ms/step - loss: 0.7001 - mae: 0.7001\n",
            "Epoch 71/100\n",
            "1/1 [==============================] - 0s 9ms/step - loss: 0.6319 - mae: 0.6319\n",
            "Epoch 72/100\n",
            "1/1 [==============================] - 0s 9ms/step - loss: 0.3906 - mae: 0.3906\n",
            "Epoch 73/100\n",
            "1/1 [==============================] - 0s 9ms/step - loss: 0.4212 - mae: 0.4212\n",
            "Epoch 74/100\n",
            "1/1 [==============================] - 0s 9ms/step - loss: 0.3752 - mae: 0.3752\n",
            "Epoch 75/100\n",
            "1/1 [==============================] - 0s 9ms/step - loss: 0.0772 - mae: 0.0772\n",
            "Epoch 76/100\n",
            "1/1 [==============================] - 0s 9ms/step - loss: 0.5440 - mae: 0.5440\n",
            "Epoch 77/100\n",
            "1/1 [==============================] - 0s 9ms/step - loss: 0.6763 - mae: 0.6763\n",
            "Epoch 78/100\n",
            "1/1 [==============================] - 0s 9ms/step - loss: 0.5133 - mae: 0.5133\n",
            "Epoch 79/100\n",
            "1/1 [==============================] - 0s 9ms/step - loss: 0.3600 - mae: 0.3600\n",
            "Epoch 80/100\n",
            "1/1 [==============================] - 0s 12ms/step - loss: 0.4986 - mae: 0.4986\n",
            "Epoch 81/100\n",
            "1/1 [==============================] - 0s 9ms/step - loss: 0.4734 - mae: 0.4734\n",
            "Epoch 82/100\n",
            "1/1 [==============================] - 0s 10ms/step - loss: 0.3018 - mae: 0.3018\n",
            "Epoch 83/100\n",
            "1/1 [==============================] - 0s 9ms/step - loss: 0.2880 - mae: 0.2880\n",
            "Epoch 84/100\n",
            "1/1 [==============================] - 0s 10ms/step - loss: 0.2854 - mae: 0.2854\n",
            "Epoch 85/100\n",
            "1/1 [==============================] - 0s 11ms/step - loss: 0.0359 - mae: 0.0359\n",
            "Epoch 86/100\n",
            "1/1 [==============================] - 0s 11ms/step - loss: 0.1853 - mae: 0.1853\n",
            "Epoch 87/100\n",
            "1/1 [==============================] - 0s 9ms/step - loss: 0.1208 - mae: 0.1208\n",
            "Epoch 88/100\n",
            "1/1 [==============================] - 0s 9ms/step - loss: 0.1153 - mae: 0.1153\n",
            "Epoch 89/100\n",
            "1/1 [==============================] - 0s 9ms/step - loss: 0.1029 - mae: 0.1029\n",
            "Epoch 90/100\n",
            "1/1 [==============================] - 0s 10ms/step - loss: 0.0981 - mae: 0.0981\n",
            "Epoch 91/100\n",
            "1/1 [==============================] - 0s 10ms/step - loss: 0.1137 - mae: 0.1137\n",
            "Epoch 92/100\n",
            "1/1 [==============================] - 0s 13ms/step - loss: 0.0955 - mae: 0.0955\n",
            "Epoch 93/100\n",
            "1/1 [==============================] - 0s 10ms/step - loss: 0.0988 - mae: 0.0988\n",
            "Epoch 94/100\n",
            "1/1 [==============================] - 0s 10ms/step - loss: 0.1432 - mae: 0.1432\n",
            "Epoch 95/100\n",
            "1/1 [==============================] - 0s 9ms/step - loss: 0.0716 - mae: 0.0716\n",
            "Epoch 96/100\n",
            "1/1 [==============================] - 0s 10ms/step - loss: 0.1818 - mae: 0.1818\n",
            "Epoch 97/100\n",
            "1/1 [==============================] - 0s 9ms/step - loss: 0.1364 - mae: 0.1364\n",
            "Epoch 98/100\n",
            "1/1 [==============================] - 0s 10ms/step - loss: 0.2056 - mae: 0.2056\n",
            "Epoch 99/100\n",
            "1/1 [==============================] - 0s 8ms/step - loss: 0.1763 - mae: 0.1763\n",
            "Epoch 100/100\n",
            "1/1 [==============================] - 0s 9ms/step - loss: 0.1853 - mae: 0.1853\n"
          ]
        },
        {
          "output_type": "execute_result",
          "data": {
            "text/plain": [
              "<keras.src.callbacks.History at 0x783aaaa16e00>"
            ]
          },
          "metadata": {},
          "execution_count": 27
        }
      ]
    },
    {
      "cell_type": "code",
      "source": [
        "# Try make prediction\n",
        "model3.predict([17.0])"
      ],
      "metadata": {
        "colab": {
          "base_uri": "https://localhost:8080/"
        },
        "id": "iZcXS1vmiusq",
        "outputId": "5ee1f63d-6542-4b44-efff-29a5a027412f"
      },
      "execution_count": 29,
      "outputs": [
        {
          "output_type": "stream",
          "name": "stdout",
          "text": [
            "1/1 [==============================] - 0s 115ms/step\n"
          ]
        },
        {
          "output_type": "execute_result",
          "data": {
            "text/plain": [
              "array([[27.640278]], dtype=float32)"
            ]
          },
          "metadata": {},
          "execution_count": 29
        }
      ]
    },
    {
      "cell_type": "markdown",
      "source": [
        "## Evaluating Model\n",
        "\n",
        "Build a model -> fit it -> evaluate it -> tweak a model -> fit it -> evaluate it...\n",
        "\n",
        "Evaluation = visualize\n",
        "\n",
        "it's good idea to visualize :\n",
        "* The data - what data we working with? what does it look like?\n",
        "* The model = what does our model look like?\n",
        "* The training of a model - how does a model perform while it learns?\n",
        "* The predictions of the model - how do the predictions of a model line up against the ground truth (the origin label)"
      ],
      "metadata": {
        "id": "ggu1CbXFlSbl"
      }
    },
    {
      "cell_type": "code",
      "source": [
        "# Make a bigger dataset\n",
        "\n",
        "x = tf.range(-100, 100, 4)\n",
        "x"
      ],
      "metadata": {
        "colab": {
          "base_uri": "https://localhost:8080/"
        },
        "id": "O5yDk0J9lV5n",
        "outputId": "52598405-1940-425a-8a39-637f75029bd9"
      },
      "execution_count": 30,
      "outputs": [
        {
          "output_type": "execute_result",
          "data": {
            "text/plain": [
              "<tf.Tensor: shape=(50,), dtype=int32, numpy=\n",
              "array([-100,  -96,  -92,  -88,  -84,  -80,  -76,  -72,  -68,  -64,  -60,\n",
              "        -56,  -52,  -48,  -44,  -40,  -36,  -32,  -28,  -24,  -20,  -16,\n",
              "        -12,   -8,   -4,    0,    4,    8,   12,   16,   20,   24,   28,\n",
              "         32,   36,   40,   44,   48,   52,   56,   60,   64,   68,   72,\n",
              "         76,   80,   84,   88,   92,   96], dtype=int32)>"
            ]
          },
          "metadata": {},
          "execution_count": 30
        }
      ]
    },
    {
      "cell_type": "code",
      "source": [
        "# Make labels for the dataset\n",
        "\n",
        "y = x + 10\n",
        "y"
      ],
      "metadata": {
        "colab": {
          "base_uri": "https://localhost:8080/"
        },
        "id": "_VnV5iodqYP8",
        "outputId": "ec9225f2-2cf6-4c82-8fe3-bd1eb32d0f6d"
      },
      "execution_count": 31,
      "outputs": [
        {
          "output_type": "execute_result",
          "data": {
            "text/plain": [
              "<tf.Tensor: shape=(50,), dtype=int32, numpy=\n",
              "array([-90, -86, -82, -78, -74, -70, -66, -62, -58, -54, -50, -46, -42,\n",
              "       -38, -34, -30, -26, -22, -18, -14, -10,  -6,  -2,   2,   6,  10,\n",
              "        14,  18,  22,  26,  30,  34,  38,  42,  46,  50,  54,  58,  62,\n",
              "        66,  70,  74,  78,  82,  86,  90,  94,  98, 102, 106], dtype=int32)>"
            ]
          },
          "metadata": {},
          "execution_count": 31
        }
      ]
    },
    {
      "cell_type": "code",
      "source": [
        "# Visualize the data\n",
        "\n",
        "import matplotlib.pyplot as plt\n",
        "\n",
        "plt.scatter(x, y)"
      ],
      "metadata": {
        "colab": {
          "base_uri": "https://localhost:8080/",
          "height": 447
        },
        "id": "wqnieOnpqiby",
        "outputId": "a345b05c-84d4-4b4b-cc5e-3875a931a124"
      },
      "execution_count": 32,
      "outputs": [
        {
          "output_type": "execute_result",
          "data": {
            "text/plain": [
              "<matplotlib.collections.PathCollection at 0x783aab28e650>"
            ]
          },
          "metadata": {},
          "execution_count": 32
        },
        {
          "output_type": "display_data",
          "data": {
            "text/plain": [
              "<Figure size 640x480 with 1 Axes>"
            ],
            "image/png": "[encoded data removed]"
          },
          "metadata": {}
        }
      ]
    },
    {
      "cell_type": "markdown",
      "source": [
        "### The 3 sets"
      ],
      "metadata": {
        "id": "CCtd3h36q0Xk"
      }
    }
  ]
}