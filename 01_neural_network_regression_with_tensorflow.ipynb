{
  "nbformat": 4,
  "nbformat_minor": 0,
  "metadata": {
    "colab": {
      "provenance": [],
      "authorship_tag": "ABX9TyP65W+JZQzipiyl5z5bYPnr",
      "include_colab_link": true
    },
    "kernelspec": {
      "name": "python3",
      "display_name": "Python 3"
    },
    "language_info": {
      "name": "python"
    }
  },
  "cells": [
    {
      "cell_type": "markdown",
      "metadata": {
        "id": "view-in-github",
        "colab_type": "text"
      },
      "source": [
        "<a href=\"https://colab.research.google.com/github/GabrielBatavia/Learn_TensorFlow/blob/main/01_neural_network_regression_with_tensorflow.ipynb\" target=\"_parent\"><img src=\"https://colab.research.google.com/assets/colab-badge.svg\" alt=\"Open In Colab\"/></a>"
      ]
    },
    {
      "cell_type": "markdown",
      "source": [
        "# Introduction to Regression with Neural Networks in TensorFlow\n",
        "\n",
        "There are many definition for a regression problem but in our case, we're going to simplify it : predicting a numerical variable based on some other combination of variables, even shorter...predicting a number."
      ],
      "metadata": {
        "id": "eANshE7nr2zb"
      }
    },
    {
      "cell_type": "code",
      "execution_count": 1,
      "metadata": {
        "colab": {
          "base_uri": "https://localhost:8080/"
        },
        "id": "UmVJP_eWrO59",
        "outputId": "0e6abdd1-3e88-4bb6-ac6a-14434c382817"
      },
      "outputs": [
        {
          "output_type": "stream",
          "name": "stdout",
          "text": [
            "2.15.0\n"
          ]
        }
      ],
      "source": [
        "# Import TensorFlow\n",
        "\n",
        "import tensorflow as tf\n",
        "print(tf.__version__)"
      ]
    },
    {
      "cell_type": "markdown",
      "source": [
        "## Creating data to view and fit"
      ],
      "metadata": {
        "id": "vbbwMFoqskyN"
      }
    },
    {
      "cell_type": "code",
      "source": [
        "import numpy as np\n",
        "import matplotlib.pyplot as plt"
      ],
      "metadata": {
        "id": "DXOtRA60shEW"
      },
      "execution_count": 2,
      "outputs": []
    },
    {
      "cell_type": "code",
      "source": [
        "# Creating features\n",
        "\n",
        "x = np.array([-7., -4., -1., 2., 5., 8., 11., 14.])\n",
        "\n",
        "# Create labels\n",
        "y = np.array([3., 6., 9., 12., 15., 18., 21., 24.])\n",
        "\n",
        "# Visualize it\n",
        "plt.scatter(x, y);"
      ],
      "metadata": {
        "colab": {
          "base_uri": "https://localhost:8080/",
          "height": 435
        },
        "id": "SX4eHtEts4GD",
        "outputId": "3e959be9-9589-4fad-c3a6-b080d52aaa23"
      },
      "execution_count": 3,
      "outputs": [
        {
          "output_type": "display_data",
          "data": {
            "text/plain": [
              "<Figure size 640x480 with 1 Axes>"
            ],
            "image/png": "[encoded data removed]"
          },
          "metadata": {}
        }
      ]
    },
    {
      "cell_type": "code",
      "source": [
        "y == x + 10"
      ],
      "metadata": {
        "id": "qaf2FE-utbQ-",
        "colab": {
          "base_uri": "https://localhost:8080/"
        },
        "outputId": "6ac696cf-861f-4e02-dee5-ba1a043447bd"
      },
      "execution_count": 4,
      "outputs": [
        {
          "output_type": "execute_result",
          "data": {
            "text/plain": [
              "array([ True,  True,  True,  True,  True,  True,  True,  True])"
            ]
          },
          "metadata": {},
          "execution_count": 4
        }
      ]
    },
    {
      "cell_type": "markdown",
      "source": [
        "## Input and Output shapes"
      ],
      "metadata": {
        "id": "hHex_79OxmAn"
      }
    },
    {
      "cell_type": "code",
      "source": [
        "# Create a demo tensor for out housing price prediction problem\n",
        "\n",
        "house_info = tf.constant([\"bedroom\", \"bathroom\", \"garage\"])\n",
        "house_price = tf.constant([939700])\n",
        "\n",
        "house_info, house_price"
      ],
      "metadata": {
        "colab": {
          "base_uri": "https://localhost:8080/"
        },
        "id": "EKNlltO3xrVe",
        "outputId": "97117a8a-622f-4bc9-b705-a04d90663cfa"
      },
      "execution_count": 5,
      "outputs": [
        {
          "output_type": "execute_result",
          "data": {
            "text/plain": [
              "(<tf.Tensor: shape=(3,), dtype=string, numpy=array([b'bedroom', b'bathroom', b'garage'], dtype=object)>,\n",
              " <tf.Tensor: shape=(1,), dtype=int32, numpy=array([939700], dtype=int32)>)"
            ]
          },
          "metadata": {},
          "execution_count": 5
        }
      ]
    },
    {
      "cell_type": "code",
      "source": [
        "x[0], y[0]"
      ],
      "metadata": {
        "colab": {
          "base_uri": "https://localhost:8080/"
        },
        "id": "-tWt-gYSzm66",
        "outputId": "055c0081-5e8d-415b-c982-a23d9309192e"
      },
      "execution_count": 6,
      "outputs": [
        {
          "output_type": "execute_result",
          "data": {
            "text/plain": [
              "(-7.0, 3.0)"
            ]
          },
          "metadata": {},
          "execution_count": 6
        }
      ]
    },
    {
      "cell_type": "code",
      "source": [
        "input_shape = x[0].shape\n",
        "output_shape = y[0].shape\n",
        "\n",
        "input_shape, output_shape"
      ],
      "metadata": {
        "colab": {
          "base_uri": "https://localhost:8080/"
        },
        "id": "sGSz7U-vzY4m",
        "outputId": "e234062c-ea60-403b-a387-54817a9e2a34"
      },
      "execution_count": 7,
      "outputs": [
        {
          "output_type": "execute_result",
          "data": {
            "text/plain": [
              "((), ())"
            ]
          },
          "metadata": {},
          "execution_count": 7
        }
      ]
    },
    {
      "cell_type": "code",
      "source": [
        "x[0].ndim"
      ],
      "metadata": {
        "colab": {
          "base_uri": "https://localhost:8080/"
        },
        "id": "VCL4zHK5z8RR",
        "outputId": "e524f89d-4d80-4eed-f0cd-a3fe84368ff6"
      },
      "execution_count": 8,
      "outputs": [
        {
          "output_type": "execute_result",
          "data": {
            "text/plain": [
              "0"
            ]
          },
          "metadata": {},
          "execution_count": 8
        }
      ]
    },
    {
      "cell_type": "code",
      "source": [
        "# Turn our Numpy arrays into tensors with dtype 32\n",
        "\n",
        "X = tf.constant(x, dtype=tf.float32)\n",
        "Y = tf.constant(y, dtype=tf.float32)\n",
        "\n",
        "X, Y"
      ],
      "metadata": {
        "colab": {
          "base_uri": "https://localhost:8080/"
        },
        "id": "QL2Ofdwmz-sQ",
        "outputId": "3204beb0-9a50-4003-f322-b0ce5e948587"
      },
      "execution_count": 9,
      "outputs": [
        {
          "output_type": "execute_result",
          "data": {
            "text/plain": [
              "(<tf.Tensor: shape=(8,), dtype=float32, numpy=array([-7., -4., -1.,  2.,  5.,  8., 11., 14.], dtype=float32)>,\n",
              " <tf.Tensor: shape=(8,), dtype=float32, numpy=array([ 3.,  6.,  9., 12., 15., 18., 21., 24.], dtype=float32)>)"
            ]
          },
          "metadata": {},
          "execution_count": 9
        }
      ]
    },
    {
      "cell_type": "code",
      "source": [
        "input_shape = X[0].shape\n",
        "output_shape = y[0].shape\n",
        "\n",
        "input_shape, output_shape"
      ],
      "metadata": {
        "colab": {
          "base_uri": "https://localhost:8080/"
        },
        "id": "R6m8i44s1t3S",
        "outputId": "457777c2-4081-45f2-9d0a-63972c32cfe4"
      },
      "execution_count": 10,
      "outputs": [
        {
          "output_type": "execute_result",
          "data": {
            "text/plain": [
              "(TensorShape([]), ())"
            ]
          },
          "metadata": {},
          "execution_count": 10
        }
      ]
    },
    {
      "cell_type": "markdown",
      "source": [
        "## Steps in modelling with TensorFlow\n",
        "\n",
        "1. **Creating a model** - define the input and output layers, as well as the hidden layers of a deep learning model.\n",
        "\n",
        "2. **Compiling a model** - define the loss function (in other words, the function wich tells our model how wrong it is) and the optimizer (tells our model how to improve the patterns its learning) and evaluation metrics (what we can use to interpret the preformance of our model)\n",
        "\n",
        "3. Fitting a model - letting the model try to find patters between X & y (features and labels)"
      ],
      "metadata": {
        "id": "T9heq-y318BJ"
      }
    },
    {
      "cell_type": "code",
      "source": [
        "# Opetionally, the first layer can receive an 'input_shape' argument :\n",
        "# model = tf.keras.Sequential()\n",
        "# model.add(tf.keras.layers.Dense(8, input_shape=(16,)))\n",
        "\n",
        "# Afterwards, we do automatic shape inference :\n",
        "# model.add(tf.keras.layers.Dense(4))\n",
        "\n",
        "# model = tf.keras.Sequential()\n",
        "# model.add(tf.keras.layers.Dense(1))\n",
        "# ..."
      ],
      "metadata": {
        "id": "nEAWuhvc6w4g"
      },
      "execution_count": 11,
      "outputs": []
    },
    {
      "cell_type": "code",
      "source": [
        "# Set random seed\n",
        "\n",
        "tf.random.set_seed(42)\n",
        "\n",
        "# 1. Create a model using the Sequential API\n",
        "model = tf.keras.Sequential([\n",
        "    tf.keras.layers.Dense(1)\n",
        "])\n",
        "\n",
        "# 2. Compile the model\n",
        "model.compile(loss = tf.keras.losses.mae, # mae is short for mean absolute error\n",
        "              optimizer = tf.keras.optimizers.SGD(), # sgd is short for stochasitc gradient decent\n",
        "              metrics = [\"mae\"])\n",
        "\n",
        "# 3. Fit the model\n",
        "# model.fit(X, Y, epochs=5) # BREAK IN UPDATED TENSOR VERSION\n",
        "model.fit(tf.expand_dims(X, axis=-1), Y, epochs=5)"
      ],
      "metadata": {
        "colab": {
          "base_uri": "https://localhost:8080/"
        },
        "id": "ubX_9SYR149W",
        "outputId": "57fe59f8-4198-4af7-a163-92f4d66e0ef7"
      },
      "execution_count": 12,
      "outputs": [
        {
          "output_type": "stream",
          "name": "stdout",
          "text": [
            "Epoch 1/5\n",
            "1/1 [==============================] - 3s 3s/step - loss: 14.0501 - mae: 14.0501\n",
            "Epoch 2/5\n",
            "1/1 [==============================] - 0s 32ms/step - loss: 13.9176 - mae: 13.9176\n",
            "Epoch 3/5\n",
            "1/1 [==============================] - 0s 44ms/step - loss: 13.7851 - mae: 13.7851\n",
            "Epoch 4/5\n",
            "1/1 [==============================] - 0s 36ms/step - loss: 13.6526 - mae: 13.6526\n",
            "Epoch 5/5\n",
            "1/1 [==============================] - 0s 32ms/step - loss: 13.5201 - mae: 13.5201\n"
          ]
        },
        {
          "output_type": "execute_result",
          "data": {
            "text/plain": [
              "<keras.src.callbacks.History at 0x7939307616c0>"
            ]
          },
          "metadata": {},
          "execution_count": 12
        }
      ]
    },
    {
      "cell_type": "code",
      "source": [
        "# Check our X and Y\n",
        "x, y"
      ],
      "metadata": {
        "colab": {
          "base_uri": "https://localhost:8080/"
        },
        "id": "1B1DsBlo9jYC",
        "outputId": "d9ba29c4-4c58-40d4-90a1-39dde74a4da8"
      },
      "execution_count": 13,
      "outputs": [
        {
          "output_type": "execute_result",
          "data": {
            "text/plain": [
              "(array([-7., -4., -1.,  2.,  5.,  8., 11., 14.]),\n",
              " array([ 3.,  6.,  9., 12., 15., 18., 21., 24.]))"
            ]
          },
          "metadata": {},
          "execution_count": 13
        }
      ]
    },
    {
      "cell_type": "code",
      "source": [
        "# Try make prediction\n",
        "model.predict([17.0])"
      ],
      "metadata": {
        "colab": {
          "base_uri": "https://localhost:8080/"
        },
        "id": "L4S19GPP9pXG",
        "outputId": "bc5c2a18-1529-4f19-efdc-51e782f507d5"
      },
      "execution_count": 14,
      "outputs": [
        {
          "output_type": "stream",
          "name": "stdout",
          "text": [
            "1/1 [==============================] - 0s 458ms/step\n"
          ]
        },
        {
          "output_type": "execute_result",
          "data": {
            "text/plain": [
              "array([[0.3532933]], dtype=float32)"
            ]
          },
          "metadata": {},
          "execution_count": 14
        }
      ]
    },
    {
      "cell_type": "markdown",
      "source": [
        "## Improving our model\n",
        "\n",
        "We can improve our model, by altering the steps we took to create a model.\n",
        "\n",
        "1. **Creating a model** - ere we might add more layers, increse the number of hidden units (all called neurons) within each of the hidden layers, change the activation function of each layer.\n",
        "\n",
        "2. **Compiling a model** - here we might chang ethe optimization function or perhaps the **learning rate** of the optimization function.\n",
        "\n",
        "3. **Fitting a model** - here we might fit a model for more **epochs** (leave it training for longer) or on more data (give the model more examples to learn form)"
      ],
      "metadata": {
        "id": "Nq6KqLEo-HP4"
      }
    },
    {
      "cell_type": "code",
      "source": [
        "# Let's rebuild our model\n",
        "\n",
        "# 1. Create the model\n",
        "model1 = tf.keras.Sequential([\n",
        "    tf.keras.layers.Dense(1)\n",
        "])\n",
        "\n",
        "# 2. Compile the model\n",
        "model1.compile(loss = tf.keras.losses.mae,\n",
        "              optimizer = tf.keras.optimizers.SGD(),\n",
        "              metrics = [\"mae\"])\n",
        "\n",
        "# 3. Fit the model\n",
        "# model.fit(X, Y, epochs=5) # BREAK IN UPDATED TENSOR VERSION\n",
        "model1.fit(tf.expand_dims(X, axis=-1), Y, epochs=100)"
      ],
      "metadata": {
        "colab": {
          "base_uri": "https://localhost:8080/"
        },
        "id": "GPGzIvb2DLc2",
        "outputId": "fd9e36c1-0e6b-4ad0-ca5c-266ec0542cdf"
      },
      "execution_count": 15,
      "outputs": [
        {
          "output_type": "stream",
          "name": "stdout",
          "text": [
            "Epoch 1/100\n",
            "1/1 [==============================] - 1s 1s/step - loss: 8.7776 - mae: 8.7776\n",
            "Epoch 2/100\n",
            "1/1 [==============================] - 0s 35ms/step - loss: 8.6451 - mae: 8.6451\n",
            "Epoch 3/100\n",
            "1/1 [==============================] - 0s 80ms/step - loss: 8.5126 - mae: 8.5126\n",
            "Epoch 4/100\n",
            "1/1 [==============================] - 0s 37ms/step - loss: 8.3801 - mae: 8.3801\n",
            "Epoch 5/100\n",
            "1/1 [==============================] - 0s 47ms/step - loss: 8.2476 - mae: 8.2476\n",
            "Epoch 6/100\n",
            "1/1 [==============================] - 0s 42ms/step - loss: 8.1151 - mae: 8.1151\n",
            "Epoch 7/100\n",
            "1/1 [==============================] - 0s 30ms/step - loss: 7.9826 - mae: 7.9826\n",
            "Epoch 8/100\n",
            "1/1 [==============================] - 0s 34ms/step - loss: 7.8501 - mae: 7.8501\n",
            "Epoch 9/100\n",
            "1/1 [==============================] - 0s 32ms/step - loss: 7.7176 - mae: 7.7176\n",
            "Epoch 10/100\n",
            "1/1 [==============================] - 0s 19ms/step - loss: 7.5851 - mae: 7.5851\n",
            "Epoch 11/100\n",
            "1/1 [==============================] - 0s 26ms/step - loss: 7.4526 - mae: 7.4526\n",
            "Epoch 12/100\n",
            "1/1 [==============================] - 0s 19ms/step - loss: 7.4175 - mae: 7.4175\n",
            "Epoch 13/100\n",
            "1/1 [==============================] - 0s 25ms/step - loss: 7.4119 - mae: 7.4119\n",
            "Epoch 14/100\n",
            "1/1 [==============================] - 0s 25ms/step - loss: 7.4062 - mae: 7.4062\n",
            "Epoch 15/100\n",
            "1/1 [==============================] - 0s 27ms/step - loss: 7.4006 - mae: 7.4006\n",
            "Epoch 16/100\n",
            "1/1 [==============================] - 0s 23ms/step - loss: 7.3950 - mae: 7.3950\n",
            "Epoch 17/100\n",
            "1/1 [==============================] - 0s 30ms/step - loss: 7.3894 - mae: 7.3894\n",
            "Epoch 18/100\n",
            "1/1 [==============================] - 0s 30ms/step - loss: 7.3837 - mae: 7.3837\n",
            "Epoch 19/100\n",
            "1/1 [==============================] - 0s 44ms/step - loss: 7.3781 - mae: 7.3781\n",
            "Epoch 20/100\n",
            "1/1 [==============================] - 0s 41ms/step - loss: 7.3725 - mae: 7.3725\n",
            "Epoch 21/100\n",
            "1/1 [==============================] - 0s 35ms/step - loss: 7.3669 - mae: 7.3669\n",
            "Epoch 22/100\n",
            "1/1 [==============================] - 0s 36ms/step - loss: 7.3613 - mae: 7.3613\n",
            "Epoch 23/100\n",
            "1/1 [==============================] - 0s 28ms/step - loss: 7.3556 - mae: 7.3556\n",
            "Epoch 24/100\n",
            "1/1 [==============================] - 0s 63ms/step - loss: 7.3500 - mae: 7.3500\n",
            "Epoch 25/100\n",
            "1/1 [==============================] - 0s 67ms/step - loss: 7.3444 - mae: 7.3444\n",
            "Epoch 26/100\n",
            "1/1 [==============================] - 0s 63ms/step - loss: 7.3387 - mae: 7.3387\n",
            "Epoch 27/100\n",
            "1/1 [==============================] - 0s 57ms/step - loss: 7.3331 - mae: 7.3331\n",
            "Epoch 28/100\n",
            "1/1 [==============================] - 0s 24ms/step - loss: 7.3275 - mae: 7.3275\n",
            "Epoch 29/100\n",
            "1/1 [==============================] - 0s 21ms/step - loss: 7.3219 - mae: 7.3219\n",
            "Epoch 30/100\n",
            "1/1 [==============================] - 0s 13ms/step - loss: 7.3162 - mae: 7.3162\n",
            "Epoch 31/100\n",
            "1/1 [==============================] - 0s 20ms/step - loss: 7.3106 - mae: 7.3106\n",
            "Epoch 32/100\n",
            "1/1 [==============================] - 0s 27ms/step - loss: 7.3050 - mae: 7.3050\n",
            "Epoch 33/100\n",
            "1/1 [==============================] - 0s 28ms/step - loss: 7.2994 - mae: 7.2994\n",
            "Epoch 34/100\n",
            "1/1 [==============================] - 0s 16ms/step - loss: 7.2938 - mae: 7.2938\n",
            "Epoch 35/100\n",
            "1/1 [==============================] - 0s 17ms/step - loss: 7.2881 - mae: 7.2881\n",
            "Epoch 36/100\n",
            "1/1 [==============================] - 0s 24ms/step - loss: 7.2825 - mae: 7.2825\n",
            "Epoch 37/100\n",
            "1/1 [==============================] - 0s 26ms/step - loss: 7.2769 - mae: 7.2769\n",
            "Epoch 38/100\n",
            "1/1 [==============================] - 0s 16ms/step - loss: 7.2712 - mae: 7.2712\n",
            "Epoch 39/100\n",
            "1/1 [==============================] - 0s 19ms/step - loss: 7.2656 - mae: 7.2656\n",
            "Epoch 40/100\n",
            "1/1 [==============================] - 0s 50ms/step - loss: 7.2600 - mae: 7.2600\n",
            "Epoch 41/100\n",
            "1/1 [==============================] - 0s 43ms/step - loss: 7.2544 - mae: 7.2544\n",
            "Epoch 42/100\n",
            "1/1 [==============================] - 0s 34ms/step - loss: 7.2488 - mae: 7.2488\n",
            "Epoch 43/100\n",
            "1/1 [==============================] - 0s 34ms/step - loss: 7.2431 - mae: 7.2431\n",
            "Epoch 44/100\n",
            "1/1 [==============================] - 0s 39ms/step - loss: 7.2375 - mae: 7.2375\n",
            "Epoch 45/100\n",
            "1/1 [==============================] - 0s 41ms/step - loss: 7.2319 - mae: 7.2319\n",
            "Epoch 46/100\n",
            "1/1 [==============================] - 0s 50ms/step - loss: 7.2263 - mae: 7.2263\n",
            "Epoch 47/100\n",
            "1/1 [==============================] - 0s 48ms/step - loss: 7.2206 - mae: 7.2206\n",
            "Epoch 48/100\n",
            "1/1 [==============================] - 0s 30ms/step - loss: 7.2150 - mae: 7.2150\n",
            "Epoch 49/100\n",
            "1/1 [==============================] - 0s 28ms/step - loss: 7.2094 - mae: 7.2094\n",
            "Epoch 50/100\n",
            "1/1 [==============================] - 0s 24ms/step - loss: 7.2038 - mae: 7.2038\n",
            "Epoch 51/100\n",
            "1/1 [==============================] - 0s 38ms/step - loss: 7.1981 - mae: 7.1981\n",
            "Epoch 52/100\n",
            "1/1 [==============================] - 0s 26ms/step - loss: 7.1925 - mae: 7.1925\n",
            "Epoch 53/100\n",
            "1/1 [==============================] - 0s 35ms/step - loss: 7.1869 - mae: 7.1869\n",
            "Epoch 54/100\n",
            "1/1 [==============================] - 0s 41ms/step - loss: 7.1813 - mae: 7.1813\n",
            "Epoch 55/100\n",
            "1/1 [==============================] - 0s 31ms/step - loss: 7.1756 - mae: 7.1756\n",
            "Epoch 56/100\n",
            "1/1 [==============================] - 0s 27ms/step - loss: 7.1700 - mae: 7.1700\n",
            "Epoch 57/100\n",
            "1/1 [==============================] - 0s 29ms/step - loss: 7.1644 - mae: 7.1644\n",
            "Epoch 58/100\n",
            "1/1 [==============================] - 0s 24ms/step - loss: 7.1588 - mae: 7.1588\n",
            "Epoch 59/100\n",
            "1/1 [==============================] - 0s 42ms/step - loss: 7.1531 - mae: 7.1531\n",
            "Epoch 60/100\n",
            "1/1 [==============================] - 0s 30ms/step - loss: 7.1475 - mae: 7.1475\n",
            "Epoch 61/100\n",
            "1/1 [==============================] - 0s 38ms/step - loss: 7.1419 - mae: 7.1419\n",
            "Epoch 62/100\n",
            "1/1 [==============================] - 0s 48ms/step - loss: 7.1363 - mae: 7.1363\n",
            "Epoch 63/100\n",
            "1/1 [==============================] - 0s 51ms/step - loss: 7.1306 - mae: 7.1306\n",
            "Epoch 64/100\n",
            "1/1 [==============================] - 0s 44ms/step - loss: 7.1250 - mae: 7.1250\n",
            "Epoch 65/100\n",
            "1/1 [==============================] - 0s 31ms/step - loss: 7.1194 - mae: 7.1194\n",
            "Epoch 66/100\n",
            "1/1 [==============================] - 0s 31ms/step - loss: 7.1138 - mae: 7.1138\n",
            "Epoch 67/100\n",
            "1/1 [==============================] - 0s 32ms/step - loss: 7.1081 - mae: 7.1081\n",
            "Epoch 68/100\n",
            "1/1 [==============================] - 0s 36ms/step - loss: 7.1025 - mae: 7.1025\n",
            "Epoch 69/100\n",
            "1/1 [==============================] - 0s 31ms/step - loss: 7.0969 - mae: 7.0969\n",
            "Epoch 70/100\n",
            "1/1 [==============================] - 0s 36ms/step - loss: 7.0913 - mae: 7.0913\n",
            "Epoch 71/100\n",
            "1/1 [==============================] - 0s 29ms/step - loss: 7.0856 - mae: 7.0856\n",
            "Epoch 72/100\n",
            "1/1 [==============================] - 0s 34ms/step - loss: 7.0800 - mae: 7.0800\n",
            "Epoch 73/100\n",
            "1/1 [==============================] - 0s 45ms/step - loss: 7.0744 - mae: 7.0744\n",
            "Epoch 74/100\n",
            "1/1 [==============================] - 0s 21ms/step - loss: 7.0688 - mae: 7.0688\n",
            "Epoch 75/100\n",
            "1/1 [==============================] - 0s 26ms/step - loss: 7.0631 - mae: 7.0631\n",
            "Epoch 76/100\n",
            "1/1 [==============================] - 0s 30ms/step - loss: 7.0575 - mae: 7.0575\n",
            "Epoch 77/100\n",
            "1/1 [==============================] - 0s 45ms/step - loss: 7.0519 - mae: 7.0519\n",
            "Epoch 78/100\n",
            "1/1 [==============================] - 0s 15ms/step - loss: 7.0463 - mae: 7.0463\n",
            "Epoch 79/100\n",
            "1/1 [==============================] - 0s 26ms/step - loss: 7.0406 - mae: 7.0406\n",
            "Epoch 80/100\n",
            "1/1 [==============================] - 0s 24ms/step - loss: 7.0350 - mae: 7.0350\n",
            "Epoch 81/100\n",
            "1/1 [==============================] - 0s 58ms/step - loss: 7.0294 - mae: 7.0294\n",
            "Epoch 82/100\n",
            "1/1 [==============================] - 0s 33ms/step - loss: 7.0238 - mae: 7.0238\n",
            "Epoch 83/100\n",
            "1/1 [==============================] - 0s 16ms/step - loss: 7.0181 - mae: 7.0181\n",
            "Epoch 84/100\n",
            "1/1 [==============================] - 0s 14ms/step - loss: 7.0125 - mae: 7.0125\n",
            "Epoch 85/100\n",
            "1/1 [==============================] - 0s 13ms/step - loss: 7.0069 - mae: 7.0069\n",
            "Epoch 86/100\n",
            "1/1 [==============================] - 0s 38ms/step - loss: 7.0013 - mae: 7.0013\n",
            "Epoch 87/100\n",
            "1/1 [==============================] - 0s 31ms/step - loss: 6.9956 - mae: 6.9956\n",
            "Epoch 88/100\n",
            "1/1 [==============================] - 0s 18ms/step - loss: 6.9900 - mae: 6.9900\n",
            "Epoch 89/100\n",
            "1/1 [==============================] - 0s 16ms/step - loss: 6.9844 - mae: 6.9844\n",
            "Epoch 90/100\n",
            "1/1 [==============================] - 0s 17ms/step - loss: 6.9788 - mae: 6.9788\n",
            "Epoch 91/100\n",
            "1/1 [==============================] - 0s 24ms/step - loss: 6.9731 - mae: 6.9731\n",
            "Epoch 92/100\n",
            "1/1 [==============================] - 0s 22ms/step - loss: 6.9675 - mae: 6.9675\n",
            "Epoch 93/100\n",
            "1/1 [==============================] - 0s 43ms/step - loss: 6.9619 - mae: 6.9619\n",
            "Epoch 94/100\n",
            "1/1 [==============================] - 0s 49ms/step - loss: 6.9563 - mae: 6.9563\n",
            "Epoch 95/100\n",
            "1/1 [==============================] - 0s 58ms/step - loss: 6.9506 - mae: 6.9506\n",
            "Epoch 96/100\n",
            "1/1 [==============================] - 0s 29ms/step - loss: 6.9450 - mae: 6.9450\n",
            "Epoch 97/100\n",
            "1/1 [==============================] - 0s 25ms/step - loss: 6.9394 - mae: 6.9394\n",
            "Epoch 98/100\n",
            "1/1 [==============================] - 0s 41ms/step - loss: 6.9338 - mae: 6.9338\n",
            "Epoch 99/100\n",
            "1/1 [==============================] - 0s 21ms/step - loss: 6.9281 - mae: 6.9281\n",
            "Epoch 100/100\n",
            "1/1 [==============================] - 0s 56ms/step - loss: 6.9225 - mae: 6.9225\n"
          ]
        },
        {
          "output_type": "execute_result",
          "data": {
            "text/plain": [
              "<keras.src.callbacks.History at 0x79392ccf0e20>"
            ]
          },
          "metadata": {},
          "execution_count": 15
        }
      ]
    },
    {
      "cell_type": "code",
      "source": [
        "# Try make prediction\n",
        "model1.predict([17.0])"
      ],
      "metadata": {
        "colab": {
          "base_uri": "https://localhost:8080/"
        },
        "id": "4kMA7oidBuHG",
        "outputId": "9beb4d71-6b7f-4bd6-ab23-0a14621e5221"
      },
      "execution_count": 16,
      "outputs": [
        {
          "output_type": "stream",
          "name": "stdout",
          "text": [
            "1/1 [==============================] - 0s 192ms/step\n"
          ]
        },
        {
          "output_type": "execute_result",
          "data": {
            "text/plain": [
              "array([[30.260044]], dtype=float32)"
            ]
          },
          "metadata": {},
          "execution_count": 16
        }
      ]
    },
    {
      "cell_type": "code",
      "source": [
        "# re-write the model by my self and improve one thing to get better\n",
        "\n",
        "# 1. Create the model\n",
        "model2 = tf.keras.Sequential([\n",
        "    tf.keras.layers.Dense(1)\n",
        "])\n",
        "\n",
        "# 2. Compile the model\n",
        "model2.compile(loss = tf.keras.losses.mae,\n",
        "              optimizer = tf.keras.optimizers.Adam(learning_rate=0.001), # chang the optimizers from SGD to adam\n",
        "              metrics = [\"mae\"])\n",
        "\n",
        "# 3. Fit the model\n",
        "# model.fit(X, Y, epochs=5) # BREAK IN UPDATED TENSOR VERSION\n",
        "model2.fit(tf.expand_dims(X, axis=-1), Y, epochs=100)"
      ],
      "metadata": {
        "colab": {
          "base_uri": "https://localhost:8080/"
        },
        "id": "gdwbhbhmJVPx",
        "outputId": "bcc4e78d-9b98-41b3-9466-7d1ebf1c5f3f"
      },
      "execution_count": 17,
      "outputs": [
        {
          "output_type": "stream",
          "name": "stdout",
          "text": [
            "Epoch 1/100\n",
            "1/1 [==============================] - 2s 2s/step - loss: 11.2519 - mae: 11.2519\n",
            "Epoch 2/100\n",
            "1/1 [==============================] - 0s 24ms/step - loss: 11.2474 - mae: 11.2474\n",
            "Epoch 3/100\n",
            "1/1 [==============================] - 0s 27ms/step - loss: 11.2429 - mae: 11.2429\n",
            "Epoch 4/100\n",
            "1/1 [==============================] - 0s 32ms/step - loss: 11.2384 - mae: 11.2384\n",
            "Epoch 5/100\n",
            "1/1 [==============================] - 0s 29ms/step - loss: 11.2339 - mae: 11.2339\n",
            "Epoch 6/100\n",
            "1/1 [==============================] - 0s 33ms/step - loss: 11.2294 - mae: 11.2294\n",
            "Epoch 7/100\n",
            "1/1 [==============================] - 0s 66ms/step - loss: 11.2249 - mae: 11.2249\n",
            "Epoch 8/100\n",
            "1/1 [==============================] - 0s 23ms/step - loss: 11.2204 - mae: 11.2204\n",
            "Epoch 9/100\n",
            "1/1 [==============================] - 0s 33ms/step - loss: 11.2159 - mae: 11.2159\n",
            "Epoch 10/100\n",
            "1/1 [==============================] - 0s 19ms/step - loss: 11.2114 - mae: 11.2114\n",
            "Epoch 11/100\n",
            "1/1 [==============================] - 0s 28ms/step - loss: 11.2069 - mae: 11.2069\n",
            "Epoch 12/100\n",
            "1/1 [==============================] - 0s 27ms/step - loss: 11.2024 - mae: 11.2024\n",
            "Epoch 13/100\n",
            "1/1 [==============================] - 0s 16ms/step - loss: 11.1979 - mae: 11.1979\n",
            "Epoch 14/100\n",
            "1/1 [==============================] - 0s 41ms/step - loss: 11.1934 - mae: 11.1934\n",
            "Epoch 15/100\n",
            "1/1 [==============================] - 0s 29ms/step - loss: 11.1889 - mae: 11.1889\n",
            "Epoch 16/100\n",
            "1/1 [==============================] - 0s 41ms/step - loss: 11.1844 - mae: 11.1844\n",
            "Epoch 17/100\n",
            "1/1 [==============================] - 0s 24ms/step - loss: 11.1799 - mae: 11.1799\n",
            "Epoch 18/100\n",
            "1/1 [==============================] - 0s 19ms/step - loss: 11.1754 - mae: 11.1754\n",
            "Epoch 19/100\n",
            "1/1 [==============================] - 0s 37ms/step - loss: 11.1709 - mae: 11.1709\n",
            "Epoch 20/100\n",
            "1/1 [==============================] - 0s 62ms/step - loss: 11.1664 - mae: 11.1664\n",
            "Epoch 21/100\n",
            "1/1 [==============================] - 0s 66ms/step - loss: 11.1619 - mae: 11.1619\n",
            "Epoch 22/100\n",
            "1/1 [==============================] - 0s 53ms/step - loss: 11.1574 - mae: 11.1574\n",
            "Epoch 23/100\n",
            "1/1 [==============================] - 0s 40ms/step - loss: 11.1529 - mae: 11.1529\n",
            "Epoch 24/100\n",
            "1/1 [==============================] - 0s 41ms/step - loss: 11.1484 - mae: 11.1484\n",
            "Epoch 25/100\n",
            "1/1 [==============================] - 0s 33ms/step - loss: 11.1439 - mae: 11.1439\n",
            "Epoch 26/100\n",
            "1/1 [==============================] - 0s 40ms/step - loss: 11.1394 - mae: 11.1394\n",
            "Epoch 27/100\n",
            "1/1 [==============================] - 0s 54ms/step - loss: 11.1349 - mae: 11.1349\n",
            "Epoch 28/100\n",
            "1/1 [==============================] - 0s 59ms/step - loss: 11.1304 - mae: 11.1304\n",
            "Epoch 29/100\n",
            "1/1 [==============================] - 0s 62ms/step - loss: 11.1259 - mae: 11.1259\n",
            "Epoch 30/100\n",
            "1/1 [==============================] - 0s 45ms/step - loss: 11.1214 - mae: 11.1214\n",
            "Epoch 31/100\n",
            "1/1 [==============================] - 0s 54ms/step - loss: 11.1169 - mae: 11.1169\n",
            "Epoch 32/100\n",
            "1/1 [==============================] - 0s 53ms/step - loss: 11.1124 - mae: 11.1124\n",
            "Epoch 33/100\n",
            "1/1 [==============================] - 0s 61ms/step - loss: 11.1079 - mae: 11.1079\n",
            "Epoch 34/100\n",
            "1/1 [==============================] - 0s 44ms/step - loss: 11.1034 - mae: 11.1034\n",
            "Epoch 35/100\n",
            "1/1 [==============================] - 0s 45ms/step - loss: 11.0989 - mae: 11.0989\n",
            "Epoch 36/100\n",
            "1/1 [==============================] - 0s 48ms/step - loss: 11.0944 - mae: 11.0944\n",
            "Epoch 37/100\n",
            "1/1 [==============================] - 0s 44ms/step - loss: 11.0899 - mae: 11.0899\n",
            "Epoch 38/100\n",
            "1/1 [==============================] - 0s 50ms/step - loss: 11.0854 - mae: 11.0854\n",
            "Epoch 39/100\n",
            "1/1 [==============================] - 0s 30ms/step - loss: 11.0809 - mae: 11.0809\n",
            "Epoch 40/100\n",
            "1/1 [==============================] - 0s 16ms/step - loss: 11.0764 - mae: 11.0764\n",
            "Epoch 41/100\n",
            "1/1 [==============================] - 0s 24ms/step - loss: 11.0719 - mae: 11.0719\n",
            "Epoch 42/100\n",
            "1/1 [==============================] - 0s 68ms/step - loss: 11.0674 - mae: 11.0674\n",
            "Epoch 43/100\n",
            "1/1 [==============================] - 0s 81ms/step - loss: 11.0629 - mae: 11.0629\n",
            "Epoch 44/100\n",
            "1/1 [==============================] - 0s 52ms/step - loss: 11.0584 - mae: 11.0584\n",
            "Epoch 45/100\n",
            "1/1 [==============================] - 0s 52ms/step - loss: 11.0539 - mae: 11.0539\n",
            "Epoch 46/100\n",
            "1/1 [==============================] - 0s 41ms/step - loss: 11.0494 - mae: 11.0494\n",
            "Epoch 47/100\n",
            "1/1 [==============================] - 0s 36ms/step - loss: 11.0449 - mae: 11.0449\n",
            "Epoch 48/100\n",
            "1/1 [==============================] - 0s 88ms/step - loss: 11.0404 - mae: 11.0404\n",
            "Epoch 49/100\n",
            "1/1 [==============================] - 0s 46ms/step - loss: 11.0359 - mae: 11.0359\n",
            "Epoch 50/100\n",
            "1/1 [==============================] - 0s 49ms/step - loss: 11.0314 - mae: 11.0314\n",
            "Epoch 51/100\n",
            "1/1 [==============================] - 0s 40ms/step - loss: 11.0269 - mae: 11.0269\n",
            "Epoch 52/100\n",
            "1/1 [==============================] - 0s 41ms/step - loss: 11.0224 - mae: 11.0224\n",
            "Epoch 53/100\n",
            "1/1 [==============================] - 0s 33ms/step - loss: 11.0179 - mae: 11.0179\n",
            "Epoch 54/100\n",
            "1/1 [==============================] - 0s 27ms/step - loss: 11.0134 - mae: 11.0134\n",
            "Epoch 55/100\n",
            "1/1 [==============================] - 0s 27ms/step - loss: 11.0089 - mae: 11.0089\n",
            "Epoch 56/100\n",
            "1/1 [==============================] - 0s 21ms/step - loss: 11.0044 - mae: 11.0044\n",
            "Epoch 57/100\n",
            "1/1 [==============================] - 0s 31ms/step - loss: 10.9999 - mae: 10.9999\n",
            "Epoch 58/100\n",
            "1/1 [==============================] - 0s 41ms/step - loss: 10.9954 - mae: 10.9954\n",
            "Epoch 59/100\n",
            "1/1 [==============================] - 0s 37ms/step - loss: 10.9909 - mae: 10.9909\n",
            "Epoch 60/100\n",
            "1/1 [==============================] - 0s 34ms/step - loss: 10.9864 - mae: 10.9864\n",
            "Epoch 61/100\n",
            "1/1 [==============================] - 0s 30ms/step - loss: 10.9819 - mae: 10.9819\n",
            "Epoch 62/100\n",
            "1/1 [==============================] - 0s 27ms/step - loss: 10.9774 - mae: 10.9774\n",
            "Epoch 63/100\n",
            "1/1 [==============================] - 0s 31ms/step - loss: 10.9729 - mae: 10.9729\n",
            "Epoch 64/100\n",
            "1/1 [==============================] - 0s 26ms/step - loss: 10.9684 - mae: 10.9684\n",
            "Epoch 65/100\n",
            "1/1 [==============================] - 0s 36ms/step - loss: 10.9639 - mae: 10.9639\n",
            "Epoch 66/100\n",
            "1/1 [==============================] - 0s 37ms/step - loss: 10.9594 - mae: 10.9594\n",
            "Epoch 67/100\n",
            "1/1 [==============================] - 0s 40ms/step - loss: 10.9549 - mae: 10.9549\n",
            "Epoch 68/100\n",
            "1/1 [==============================] - 0s 38ms/step - loss: 10.9504 - mae: 10.9504\n",
            "Epoch 69/100\n",
            "1/1 [==============================] - 0s 33ms/step - loss: 10.9459 - mae: 10.9459\n",
            "Epoch 70/100\n",
            "1/1 [==============================] - 0s 26ms/step - loss: 10.9414 - mae: 10.9414\n",
            "Epoch 71/100\n",
            "1/1 [==============================] - 0s 32ms/step - loss: 10.9369 - mae: 10.9369\n",
            "Epoch 72/100\n",
            "1/1 [==============================] - 0s 23ms/step - loss: 10.9324 - mae: 10.9324\n",
            "Epoch 73/100\n",
            "1/1 [==============================] - 0s 23ms/step - loss: 10.9279 - mae: 10.9279\n",
            "Epoch 74/100\n",
            "1/1 [==============================] - 0s 26ms/step - loss: 10.9234 - mae: 10.9234\n",
            "Epoch 75/100\n",
            "1/1 [==============================] - 0s 41ms/step - loss: 10.9189 - mae: 10.9189\n",
            "Epoch 76/100\n",
            "1/1 [==============================] - 0s 33ms/step - loss: 10.9144 - mae: 10.9144\n",
            "Epoch 77/100\n",
            "1/1 [==============================] - 0s 47ms/step - loss: 10.9099 - mae: 10.9099\n",
            "Epoch 78/100\n",
            "1/1 [==============================] - 0s 24ms/step - loss: 10.9054 - mae: 10.9054\n",
            "Epoch 79/100\n",
            "1/1 [==============================] - 0s 20ms/step - loss: 10.9009 - mae: 10.9009\n",
            "Epoch 80/100\n",
            "1/1 [==============================] - 0s 30ms/step - loss: 10.8964 - mae: 10.8964\n",
            "Epoch 81/100\n",
            "1/1 [==============================] - 0s 45ms/step - loss: 10.8919 - mae: 10.8919\n",
            "Epoch 82/100\n",
            "1/1 [==============================] - 0s 84ms/step - loss: 10.8874 - mae: 10.8874\n",
            "Epoch 83/100\n",
            "1/1 [==============================] - 0s 40ms/step - loss: 10.8829 - mae: 10.8829\n",
            "Epoch 84/100\n",
            "1/1 [==============================] - 0s 46ms/step - loss: 10.8784 - mae: 10.8784\n",
            "Epoch 85/100\n",
            "1/1 [==============================] - 0s 42ms/step - loss: 10.8739 - mae: 10.8739\n",
            "Epoch 86/100\n",
            "1/1 [==============================] - 0s 40ms/step - loss: 10.8694 - mae: 10.8694\n",
            "Epoch 87/100\n",
            "1/1 [==============================] - 0s 35ms/step - loss: 10.8649 - mae: 10.8649\n",
            "Epoch 88/100\n",
            "1/1 [==============================] - 0s 49ms/step - loss: 10.8604 - mae: 10.8604\n",
            "Epoch 89/100\n",
            "1/1 [==============================] - 0s 19ms/step - loss: 10.8559 - mae: 10.8559\n",
            "Epoch 90/100\n",
            "1/1 [==============================] - 0s 42ms/step - loss: 10.8514 - mae: 10.8514\n",
            "Epoch 91/100\n",
            "1/1 [==============================] - 0s 43ms/step - loss: 10.8469 - mae: 10.8469\n",
            "Epoch 92/100\n",
            "1/1 [==============================] - 0s 23ms/step - loss: 10.8424 - mae: 10.8424\n",
            "Epoch 93/100\n",
            "1/1 [==============================] - 0s 22ms/step - loss: 10.8379 - mae: 10.8379\n",
            "Epoch 94/100\n",
            "1/1 [==============================] - 0s 28ms/step - loss: 10.8334 - mae: 10.8334\n",
            "Epoch 95/100\n",
            "1/1 [==============================] - 0s 58ms/step - loss: 10.8289 - mae: 10.8289\n",
            "Epoch 96/100\n",
            "1/1 [==============================] - 0s 60ms/step - loss: 10.8244 - mae: 10.8244\n",
            "Epoch 97/100\n",
            "1/1 [==============================] - 0s 36ms/step - loss: 10.8199 - mae: 10.8199\n",
            "Epoch 98/100\n",
            "1/1 [==============================] - 0s 45ms/step - loss: 10.8154 - mae: 10.8154\n",
            "Epoch 99/100\n",
            "1/1 [==============================] - 0s 49ms/step - loss: 10.8109 - mae: 10.8109\n",
            "Epoch 100/100\n",
            "1/1 [==============================] - 0s 35ms/step - loss: 10.8064 - mae: 10.8064\n"
          ]
        },
        {
          "output_type": "execute_result",
          "data": {
            "text/plain": [
              "<keras.src.callbacks.History at 0x79392c34d420>"
            ]
          },
          "metadata": {},
          "execution_count": 17
        }
      ]
    },
    {
      "cell_type": "code",
      "source": [
        "# Try make prediction\n",
        "model2.predict([17.0])"
      ],
      "metadata": {
        "colab": {
          "base_uri": "https://localhost:8080/"
        },
        "id": "QeWEo95_J5Gg",
        "outputId": "59dd7789-37d8-401a-c584-94b04ed56d7f"
      },
      "execution_count": 18,
      "outputs": [
        {
          "output_type": "stream",
          "name": "stdout",
          "text": [
            "1/1 [==============================] - 0s 107ms/step\n"
          ]
        },
        {
          "output_type": "execute_result",
          "data": {
            "text/plain": [
              "array([[12.719228]], dtype=float32)"
            ]
          },
          "metadata": {},
          "execution_count": 18
        }
      ]
    },
    {
      "cell_type": "code",
      "source": [
        "# re-write the model\n",
        "\n",
        "# 1. Create the model (with 100 hidden units )\n",
        "model3 = tf.keras.Sequential([\n",
        "    tf.keras.layers.Dense(50, activation=None),\n",
        "    tf.keras.layers.Dense(1)\n",
        "])\n",
        "\n",
        "# 2. Compile the model\n",
        "model3.compile(loss = \"mae\",\n",
        "              optimizer = tf.keras.optimizers.Adam(learning_rate = 0.01),\n",
        "              metrics = [\"mae\"])\n",
        "\n",
        "# 3. Fit the model\n",
        "# model.fit(X, Y, epochs=5) # BREAK IN UPDATED TENSOR VERSION\n",
        "model3.fit(tf.expand_dims(X, axis=-1), Y, epochs=100)"
      ],
      "metadata": {
        "colab": {
          "base_uri": "https://localhost:8080/"
        },
        "id": "KI1XF166hgOa",
        "outputId": "07e48863-525d-47f9-8138-83b27d67b533"
      },
      "execution_count": 19,
      "outputs": [
        {
          "output_type": "stream",
          "name": "stdout",
          "text": [
            "Epoch 1/100\n",
            "1/1 [==============================] - 1s 1s/step - loss: 11.7882 - mae: 11.7882\n",
            "Epoch 2/100\n",
            "1/1 [==============================] - 0s 54ms/step - loss: 11.0370 - mae: 11.0370\n",
            "Epoch 3/100\n",
            "1/1 [==============================] - 0s 28ms/step - loss: 10.2711 - mae: 10.2711\n",
            "Epoch 4/100\n",
            "1/1 [==============================] - 0s 45ms/step - loss: 9.4888 - mae: 9.4888\n",
            "Epoch 5/100\n",
            "1/1 [==============================] - 0s 39ms/step - loss: 8.6881 - mae: 8.6881\n",
            "Epoch 6/100\n",
            "1/1 [==============================] - 0s 35ms/step - loss: 7.8666 - mae: 7.8666\n",
            "Epoch 7/100\n",
            "1/1 [==============================] - 0s 35ms/step - loss: 7.0226 - mae: 7.0226\n",
            "Epoch 8/100\n",
            "1/1 [==============================] - 0s 22ms/step - loss: 7.0166 - mae: 7.0166\n",
            "Epoch 9/100\n",
            "1/1 [==============================] - 0s 47ms/step - loss: 7.3636 - mae: 7.3636\n",
            "Epoch 10/100\n",
            "1/1 [==============================] - 0s 19ms/step - loss: 7.5667 - mae: 7.5667\n",
            "Epoch 11/100\n",
            "1/1 [==============================] - 0s 16ms/step - loss: 7.7718 - mae: 7.7718\n",
            "Epoch 12/100\n",
            "1/1 [==============================] - 0s 15ms/step - loss: 7.7145 - mae: 7.7145\n",
            "Epoch 13/100\n",
            "1/1 [==============================] - 0s 21ms/step - loss: 7.4650 - mae: 7.4650\n",
            "Epoch 14/100\n",
            "1/1 [==============================] - 0s 24ms/step - loss: 7.1561 - mae: 7.1561\n",
            "Epoch 15/100\n",
            "1/1 [==============================] - 0s 29ms/step - loss: 6.8760 - mae: 6.8760\n",
            "Epoch 16/100\n",
            "1/1 [==============================] - 0s 45ms/step - loss: 6.5741 - mae: 6.5741\n",
            "Epoch 17/100\n",
            "1/1 [==============================] - 0s 20ms/step - loss: 6.3024 - mae: 6.3024\n",
            "Epoch 18/100\n",
            "1/1 [==============================] - 0s 19ms/step - loss: 6.2490 - mae: 6.2490\n",
            "Epoch 19/100\n",
            "1/1 [==============================] - 0s 22ms/step - loss: 6.2445 - mae: 6.2445\n",
            "Epoch 20/100\n",
            "1/1 [==============================] - 0s 22ms/step - loss: 6.3167 - mae: 6.3167\n",
            "Epoch 21/100\n",
            "1/1 [==============================] - 0s 39ms/step - loss: 6.2750 - mae: 6.2750\n",
            "Epoch 22/100\n",
            "1/1 [==============================] - 0s 30ms/step - loss: 6.1340 - mae: 6.1340\n",
            "Epoch 23/100\n",
            "1/1 [==============================] - 0s 28ms/step - loss: 5.9045 - mae: 5.9045\n",
            "Epoch 24/100\n",
            "1/1 [==============================] - 0s 25ms/step - loss: 5.7728 - mae: 5.7728\n",
            "Epoch 25/100\n",
            "1/1 [==============================] - 0s 26ms/step - loss: 5.6692 - mae: 5.6692\n",
            "Epoch 26/100\n",
            "1/1 [==============================] - 0s 29ms/step - loss: 5.6134 - mae: 5.6134\n",
            "Epoch 27/100\n",
            "1/1 [==============================] - 0s 20ms/step - loss: 5.6100 - mae: 5.6100\n",
            "Epoch 28/100\n",
            "1/1 [==============================] - 0s 21ms/step - loss: 5.5556 - mae: 5.5556\n",
            "Epoch 29/100\n",
            "1/1 [==============================] - 0s 44ms/step - loss: 5.4550 - mae: 5.4550\n",
            "Epoch 30/100\n",
            "1/1 [==============================] - 0s 29ms/step - loss: 5.3125 - mae: 5.3125\n",
            "Epoch 31/100\n",
            "1/1 [==============================] - 0s 16ms/step - loss: 5.1323 - mae: 5.1323\n",
            "Epoch 32/100\n",
            "1/1 [==============================] - 0s 26ms/step - loss: 5.0109 - mae: 5.0109\n",
            "Epoch 33/100\n",
            "1/1 [==============================] - 0s 28ms/step - loss: 4.9216 - mae: 4.9216\n",
            "Epoch 34/100\n",
            "1/1 [==============================] - 0s 38ms/step - loss: 4.8261 - mae: 4.8261\n",
            "Epoch 35/100\n",
            "1/1 [==============================] - 0s 43ms/step - loss: 4.7682 - mae: 4.7682\n",
            "Epoch 36/100\n",
            "1/1 [==============================] - 0s 59ms/step - loss: 4.6446 - mae: 4.6446\n",
            "Epoch 37/100\n",
            "1/1 [==============================] - 0s 48ms/step - loss: 4.4732 - mae: 4.4732\n",
            "Epoch 38/100\n",
            "1/1 [==============================] - 0s 40ms/step - loss: 4.3346 - mae: 4.3346\n",
            "Epoch 39/100\n",
            "1/1 [==============================] - 0s 36ms/step - loss: 4.1902 - mae: 4.1902\n",
            "Epoch 40/100\n",
            "1/1 [==============================] - 0s 30ms/step - loss: 4.0671 - mae: 4.0671\n",
            "Epoch 41/100\n",
            "1/1 [==============================] - 0s 28ms/step - loss: 3.9605 - mae: 3.9605\n",
            "Epoch 42/100\n",
            "1/1 [==============================] - 0s 26ms/step - loss: 3.8005 - mae: 3.8005\n",
            "Epoch 43/100\n",
            "1/1 [==============================] - 0s 41ms/step - loss: 3.6134 - mae: 3.6134\n",
            "Epoch 44/100\n",
            "1/1 [==============================] - 0s 37ms/step - loss: 3.4660 - mae: 3.4660\n",
            "Epoch 45/100\n",
            "1/1 [==============================] - 0s 33ms/step - loss: 3.3097 - mae: 3.3097\n",
            "Epoch 46/100\n",
            "1/1 [==============================] - 0s 28ms/step - loss: 3.1442 - mae: 3.1442\n",
            "Epoch 47/100\n",
            "1/1 [==============================] - 0s 24ms/step - loss: 2.9695 - mae: 2.9695\n",
            "Epoch 48/100\n",
            "1/1 [==============================] - 0s 38ms/step - loss: 2.7853 - mae: 2.7853\n",
            "Epoch 49/100\n",
            "1/1 [==============================] - 0s 20ms/step - loss: 2.5916 - mae: 2.5916\n",
            "Epoch 50/100\n",
            "1/1 [==============================] - 0s 43ms/step - loss: 2.3881 - mae: 2.3881\n",
            "Epoch 51/100\n",
            "1/1 [==============================] - 0s 15ms/step - loss: 2.1747 - mae: 2.1747\n",
            "Epoch 52/100\n",
            "1/1 [==============================] - 0s 16ms/step - loss: 1.9511 - mae: 1.9511\n",
            "Epoch 53/100\n",
            "1/1 [==============================] - 0s 13ms/step - loss: 1.7299 - mae: 1.7299\n",
            "Epoch 54/100\n",
            "1/1 [==============================] - 0s 33ms/step - loss: 1.4869 - mae: 1.4869\n",
            "Epoch 55/100\n",
            "1/1 [==============================] - 0s 25ms/step - loss: 1.2449 - mae: 1.2449\n",
            "Epoch 56/100\n",
            "1/1 [==============================] - 0s 25ms/step - loss: 0.9909 - mae: 0.9909\n",
            "Epoch 57/100\n",
            "1/1 [==============================] - 0s 22ms/step - loss: 0.7248 - mae: 0.7248\n",
            "Epoch 58/100\n",
            "1/1 [==============================] - 0s 39ms/step - loss: 0.4537 - mae: 0.4537\n",
            "Epoch 59/100\n",
            "1/1 [==============================] - 0s 44ms/step - loss: 0.2350 - mae: 0.2350\n",
            "Epoch 60/100\n",
            "1/1 [==============================] - 0s 37ms/step - loss: 0.1586 - mae: 0.1586\n",
            "Epoch 61/100\n",
            "1/1 [==============================] - 0s 14ms/step - loss: 0.3886 - mae: 0.3886\n",
            "Epoch 62/100\n",
            "1/1 [==============================] - 0s 15ms/step - loss: 0.5327 - mae: 0.5327\n",
            "Epoch 63/100\n",
            "1/1 [==============================] - 0s 23ms/step - loss: 0.7295 - mae: 0.7295\n",
            "Epoch 64/100\n",
            "1/1 [==============================] - 0s 36ms/step - loss: 0.7244 - mae: 0.7244\n",
            "Epoch 65/100\n",
            "1/1 [==============================] - 0s 28ms/step - loss: 0.8685 - mae: 0.8685\n",
            "Epoch 66/100\n",
            "1/1 [==============================] - 0s 41ms/step - loss: 0.8680 - mae: 0.8680\n",
            "Epoch 67/100\n",
            "1/1 [==============================] - 0s 15ms/step - loss: 0.6812 - mae: 0.6812\n",
            "Epoch 68/100\n",
            "1/1 [==============================] - 0s 25ms/step - loss: 0.7260 - mae: 0.7260\n",
            "Epoch 69/100\n",
            "1/1 [==============================] - 0s 28ms/step - loss: 0.5884 - mae: 0.5884\n",
            "Epoch 70/100\n",
            "1/1 [==============================] - 0s 26ms/step - loss: 0.4685 - mae: 0.4685\n",
            "Epoch 71/100\n",
            "1/1 [==============================] - 0s 34ms/step - loss: 0.3543 - mae: 0.3543\n",
            "Epoch 72/100\n",
            "1/1 [==============================] - 0s 27ms/step - loss: 0.1689 - mae: 0.1689\n",
            "Epoch 73/100\n",
            "1/1 [==============================] - 0s 24ms/step - loss: 0.1129 - mae: 0.1129\n",
            "Epoch 74/100\n",
            "1/1 [==============================] - 0s 24ms/step - loss: 0.3436 - mae: 0.3436\n",
            "Epoch 75/100\n",
            "1/1 [==============================] - 0s 25ms/step - loss: 0.4718 - mae: 0.4718\n",
            "Epoch 76/100\n",
            "1/1 [==============================] - 0s 22ms/step - loss: 0.4049 - mae: 0.4049\n",
            "Epoch 77/100\n",
            "1/1 [==============================] - 0s 20ms/step - loss: 0.3916 - mae: 0.3916\n",
            "Epoch 78/100\n",
            "1/1 [==============================] - 0s 37ms/step - loss: 0.4442 - mae: 0.4442\n",
            "Epoch 79/100\n",
            "1/1 [==============================] - 0s 36ms/step - loss: 0.2587 - mae: 0.2587\n",
            "Epoch 80/100\n",
            "1/1 [==============================] - 0s 29ms/step - loss: 0.4023 - mae: 0.4023\n",
            "Epoch 81/100\n",
            "1/1 [==============================] - 0s 34ms/step - loss: 0.4214 - mae: 0.4214\n",
            "Epoch 82/100\n",
            "1/1 [==============================] - 0s 35ms/step - loss: 0.1864 - mae: 0.1864\n",
            "Epoch 83/100\n",
            "1/1 [==============================] - 0s 23ms/step - loss: 0.3765 - mae: 0.3765\n",
            "Epoch 84/100\n",
            "1/1 [==============================] - 0s 36ms/step - loss: 0.5247 - mae: 0.5247\n",
            "Epoch 85/100\n",
            "1/1 [==============================] - 0s 24ms/step - loss: 0.3548 - mae: 0.3548\n",
            "Epoch 86/100\n",
            "1/1 [==============================] - 0s 35ms/step - loss: 0.2293 - mae: 0.2293\n",
            "Epoch 87/100\n",
            "1/1 [==============================] - 0s 23ms/step - loss: 0.3348 - mae: 0.3348\n",
            "Epoch 88/100\n",
            "1/1 [==============================] - 0s 16ms/step - loss: 0.1757 - mae: 0.1757\n",
            "Epoch 89/100\n",
            "1/1 [==============================] - 0s 23ms/step - loss: 0.2520 - mae: 0.2520\n",
            "Epoch 90/100\n",
            "1/1 [==============================] - 0s 24ms/step - loss: 0.2614 - mae: 0.2614\n",
            "Epoch 91/100\n",
            "1/1 [==============================] - 0s 21ms/step - loss: 0.0438 - mae: 0.0438\n",
            "Epoch 92/100\n",
            "1/1 [==============================] - 0s 22ms/step - loss: 0.1073 - mae: 0.1073\n",
            "Epoch 93/100\n",
            "1/1 [==============================] - 0s 25ms/step - loss: 0.1018 - mae: 0.1018\n",
            "Epoch 94/100\n",
            "1/1 [==============================] - 0s 20ms/step - loss: 0.0814 - mae: 0.0814\n",
            "Epoch 95/100\n",
            "1/1 [==============================] - 0s 18ms/step - loss: 0.0073 - mae: 0.0073\n",
            "Epoch 96/100\n",
            "1/1 [==============================] - 0s 20ms/step - loss: 0.1435 - mae: 0.1435\n",
            "Epoch 97/100\n",
            "1/1 [==============================] - 0s 18ms/step - loss: 0.0560 - mae: 0.0560\n",
            "Epoch 98/100\n",
            "1/1 [==============================] - 0s 23ms/step - loss: 0.0490 - mae: 0.0490\n",
            "Epoch 99/100\n",
            "1/1 [==============================] - 0s 19ms/step - loss: 0.1755 - mae: 0.1755\n",
            "Epoch 100/100\n",
            "1/1 [==============================] - 0s 16ms/step - loss: 0.0685 - mae: 0.0685\n"
          ]
        },
        {
          "output_type": "execute_result",
          "data": {
            "text/plain": [
              "<keras.src.callbacks.History at 0x79392c32a860>"
            ]
          },
          "metadata": {},
          "execution_count": 19
        }
      ]
    },
    {
      "cell_type": "code",
      "source": [
        "# Try make prediction\n",
        "model3.predict([17.0])"
      ],
      "metadata": {
        "colab": {
          "base_uri": "https://localhost:8080/"
        },
        "id": "iZcXS1vmiusq",
        "outputId": "c877d9c7-0fe6-404a-de62-501a11539fb6"
      },
      "execution_count": 20,
      "outputs": [
        {
          "output_type": "stream",
          "name": "stdout",
          "text": [
            "1/1 [==============================] - 0s 122ms/step\n"
          ]
        },
        {
          "output_type": "execute_result",
          "data": {
            "text/plain": [
              "array([[26.192522]], dtype=float32)"
            ]
          },
          "metadata": {},
          "execution_count": 20
        }
      ]
    },
    {
      "cell_type": "markdown",
      "source": [
        "## Evaluating Model\n",
        "\n",
        "Build a model -> fit it -> evaluate it -> tweak a model -> fit it -> evaluate it...\n",
        "\n",
        "Evaluation = visualize\n",
        "\n",
        "it's good idea to visualize :\n",
        "* The data - what data we working with? what does it look like?\n",
        "* The model = what does our model look like?\n",
        "* The training of a model - how does a model perform while it learns?\n",
        "* The predictions of the model - how do the predictions of a model line up against the ground truth (the origin label)"
      ],
      "metadata": {
        "id": "ggu1CbXFlSbl"
      }
    },
    {
      "cell_type": "code",
      "source": [
        "# Make a bigger dataset\n",
        "\n",
        "x = tf.range(-100, 100, 4)\n",
        "x"
      ],
      "metadata": {
        "colab": {
          "base_uri": "https://localhost:8080/"
        },
        "id": "O5yDk0J9lV5n",
        "outputId": "29d913c5-9103-45a3-b5dd-3d10980ef86f"
      },
      "execution_count": 21,
      "outputs": [
        {
          "output_type": "execute_result",
          "data": {
            "text/plain": [
              "<tf.Tensor: shape=(50,), dtype=int32, numpy=\n",
              "array([-100,  -96,  -92,  -88,  -84,  -80,  -76,  -72,  -68,  -64,  -60,\n",
              "        -56,  -52,  -48,  -44,  -40,  -36,  -32,  -28,  -24,  -20,  -16,\n",
              "        -12,   -8,   -4,    0,    4,    8,   12,   16,   20,   24,   28,\n",
              "         32,   36,   40,   44,   48,   52,   56,   60,   64,   68,   72,\n",
              "         76,   80,   84,   88,   92,   96], dtype=int32)>"
            ]
          },
          "metadata": {},
          "execution_count": 21
        }
      ]
    },
    {
      "cell_type": "code",
      "source": [
        "# Make labels for the dataset\n",
        "\n",
        "y = x + 10\n",
        "y"
      ],
      "metadata": {
        "colab": {
          "base_uri": "https://localhost:8080/"
        },
        "id": "_VnV5iodqYP8",
        "outputId": "8aab3007-c445-4293-c888-207f13358b51"
      },
      "execution_count": 22,
      "outputs": [
        {
          "output_type": "execute_result",
          "data": {
            "text/plain": [
              "<tf.Tensor: shape=(50,), dtype=int32, numpy=\n",
              "array([-90, -86, -82, -78, -74, -70, -66, -62, -58, -54, -50, -46, -42,\n",
              "       -38, -34, -30, -26, -22, -18, -14, -10,  -6,  -2,   2,   6,  10,\n",
              "        14,  18,  22,  26,  30,  34,  38,  42,  46,  50,  54,  58,  62,\n",
              "        66,  70,  74,  78,  82,  86,  90,  94,  98, 102, 106], dtype=int32)>"
            ]
          },
          "metadata": {},
          "execution_count": 22
        }
      ]
    },
    {
      "cell_type": "code",
      "source": [
        "# Visualize the data\n",
        "\n",
        "import matplotlib.pyplot as plt\n",
        "\n",
        "plt.scatter(x, y)"
      ],
      "metadata": {
        "colab": {
          "base_uri": "https://localhost:8080/",
          "height": 447
        },
        "id": "wqnieOnpqiby",
        "outputId": "89eb2f1b-b6f6-4d38-c71c-ee733a35c9df"
      },
      "execution_count": 23,
      "outputs": [
        {
          "output_type": "execute_result",
          "data": {
            "text/plain": [
              "<matplotlib.collections.PathCollection at 0x79392c225540>"
            ]
          },
          "metadata": {},
          "execution_count": 23
        },
        {
          "output_type": "display_data",
          "data": {
            "text/plain": [
              "<Figure size 640x480 with 1 Axes>"
            ],
            "image/png": "[encoded data removed]"
          },
          "metadata": {}
        }
      ]
    },
    {
      "cell_type": "markdown",
      "source": [
        "### The 3 sets\n",
        "\n",
        "* **Training set** - the model learn from this data, 70-80%\n",
        "* **Validation set** - set model gets tuned on this data, 10-15%\n",
        "* **Test set** - the model gets evaluated on this data, 10-15%"
      ],
      "metadata": {
        "id": "CCtd3h36q0Xk"
      }
    },
    {
      "cell_type": "code",
      "source": [
        "# Check the length of the data\n",
        "len(x)"
      ],
      "metadata": {
        "colab": {
          "base_uri": "https://localhost:8080/"
        },
        "id": "2_ITjQWjFQsM",
        "outputId": "d2eff17e-0e1f-4413-fd9c-cae89c15808c"
      },
      "execution_count": 24,
      "outputs": [
        {
          "output_type": "execute_result",
          "data": {
            "text/plain": [
              "50"
            ]
          },
          "metadata": {},
          "execution_count": 24
        }
      ]
    },
    {
      "cell_type": "code",
      "source": [
        "# Split the data into train and test sets\n",
        "x_train = x[:40] # first to 40 data will be the training sample\n",
        "y_train = y[:40]\n",
        "\n",
        "x_test = x[40:] # 20% will be test\n",
        "y_test = y[40:]\n",
        "\n",
        "len(x_train), len(x_test), len(y_train), len(y_test)"
      ],
      "metadata": {
        "colab": {
          "base_uri": "https://localhost:8080/"
        },
        "id": "4fkIFEl_HAu3",
        "outputId": "08f65327-a25b-4f73-bf92-c16db7d2c695"
      },
      "execution_count": 25,
      "outputs": [
        {
          "output_type": "execute_result",
          "data": {
            "text/plain": [
              "(40, 10, 40, 10)"
            ]
          },
          "metadata": {},
          "execution_count": 25
        }
      ]
    },
    {
      "cell_type": "markdown",
      "source": [
        "### Visualing the data\n",
        "\n",
        "Now we've got out data in training and test sets...lets visualize it"
      ],
      "metadata": {
        "id": "9WJ9AtA0KgLL"
      }
    },
    {
      "cell_type": "code",
      "source": [
        "plt.figure(figsize=(10,7))\n",
        "\n",
        "# Plot training data in blue\n",
        "plt.scatter(x_train, y_train, c=\"b\", label=\"Training data\")\n",
        "\n",
        "# Plot test data in green\n",
        "plt.scatter(x_test, y_test, c=\"g\", label=\"Testing data\")\n",
        "\n",
        "# Show a legend\n",
        "plt.legend();"
      ],
      "metadata": {
        "colab": {
          "base_uri": "https://localhost:8080/",
          "height": 486
        },
        "id": "OQGu_de6G_li",
        "outputId": "c9d460c1-c7fa-4187-d058-90c1650d827e"
      },
      "execution_count": 26,
      "outputs": [
        {
          "output_type": "display_data",
          "data": {
            "text/plain": [
              "<Figure size 1000x700 with 1 Axes>"
            ],
            "image/png": "[encoded data removed]"
          },
          "metadata": {}
        }
      ]
    },
    {
      "cell_type": "code",
      "source": [
        "# Lets have a look at how to build a neural network for our data\n",
        "\n",
        "# 1. Create the model\n",
        "model = tf.keras.Sequential([\n",
        "    tf.keras.layers.Dense(1)\n",
        "])\n",
        "\n",
        "# 2. Compile the model\n",
        "model.compile(loss = tf.keras.losses.mae,\n",
        "              optimizer = tf.keras.optimizers.SGD(),\n",
        "              metrics = [\"mae\"])\n",
        "\n",
        "# 3. Fit the model\n",
        "#model.fit(tf.expand_dims(x_train, axis=-1), y_train, epochs=100)"
      ],
      "metadata": {
        "id": "TtdWZXKHSSN-"
      },
      "execution_count": 27,
      "outputs": []
    },
    {
      "cell_type": "markdown",
      "source": [
        "### Visualizing the model"
      ],
      "metadata": {
        "id": "F7d7P08yTScA"
      }
    },
    {
      "cell_type": "code",
      "source": [
        "# Lets create  model wich builds automatically by defining the input_shape arguments\n",
        "\n",
        "tf.random.set_seed(42)\n",
        "\n",
        "# 1. Create the model\n",
        "model_1 = tf.keras.Sequential([\n",
        "    tf.keras.layers.Dense(100, input_shape=[1], name=\"input_layer\"),\n",
        "    tf.keras.layers.Dense(1, name=\"output_layer\")\n",
        "], name=\"model_one\")\n",
        "\n",
        "# 2. Compile the model\n",
        "model_1.compile(loss = tf.keras.losses.mae,\n",
        "              optimizer = tf.keras.optimizers.SGD(),\n",
        "              metrics = [\"mae\"])"
      ],
      "metadata": {
        "id": "MpSA6LxwTzZK"
      },
      "execution_count": 28,
      "outputs": []
    },
    {
      "cell_type": "code",
      "source": [
        "model_1.summary()"
      ],
      "metadata": {
        "colab": {
          "base_uri": "https://localhost:8080/"
        },
        "id": "-jMC9-6WUyLw",
        "outputId": "e846ef40-6cb6-4be3-f8f7-5f441696d1e8"
      },
      "execution_count": 29,
      "outputs": [
        {
          "output_type": "stream",
          "name": "stdout",
          "text": [
            "Model: \"model_one\"\n",
            "_________________________________________________________________\n",
            " Layer (type)                Output Shape              Param #   \n",
            "=================================================================\n",
            " input_layer (Dense)         (None, 100)               200       \n",
            "                                                                 \n",
            " output_layer (Dense)        (None, 1)                 101       \n",
            "                                                                 \n",
            "=================================================================\n",
            "Total params: 301 (1.18 KB)\n",
            "Trainable params: 301 (1.18 KB)\n",
            "Non-trainable params: 0 (0.00 Byte)\n",
            "_________________________________________________________________\n"
          ]
        }
      ]
    },
    {
      "cell_type": "markdown",
      "source": [
        "* Total params - total number of parameters that we have\n",
        "\n",
        "* Trainable parameters - the parameters (patterns) the model can update as it trains\n",
        "\n",
        "* Non-trainable params - parameters cant updated during training (allready learn in models during **transfer learning**)\n",
        "\n",
        "📚 **Resource** : For a more in depth overview of the trainable parameters within a layer, check ouy MIT's intorduction to deep learning video\n",
        "\n",
        "⚡**Exercise :** Try playing around with the number of hidden units in the dense layer, see how that effect the number of parameters"
      ],
      "metadata": {
        "id": "fkeG27Fm3_t1"
      }
    },
    {
      "cell_type": "code",
      "source": [
        "# 3. Fit the model\n",
        "model_1.fit(tf.expand_dims(x_train, axis=-1), y_train, epochs=60, verbose=0)"
      ],
      "metadata": {
        "colab": {
          "base_uri": "https://localhost:8080/"
        },
        "id": "e-cgkHtW6914",
        "outputId": "92fe9d83-d5f6-45f5-a283-3e09187d2fcb"
      },
      "execution_count": 30,
      "outputs": [
        {
          "output_type": "execute_result",
          "data": {
            "text/plain": [
              "<keras.src.callbacks.History at 0x79391ffe4490>"
            ]
          },
          "metadata": {},
          "execution_count": 30
        }
      ]
    },
    {
      "cell_type": "code",
      "source": [
        "# Get a summary of our model\n",
        "model_1.summary()"
      ],
      "metadata": {
        "colab": {
          "base_uri": "https://localhost:8080/"
        },
        "id": "IYam8Kl-M2o7",
        "outputId": "ff18acf8-367a-4b61-9af6-50a3be70905a"
      },
      "execution_count": 31,
      "outputs": [
        {
          "output_type": "stream",
          "name": "stdout",
          "text": [
            "Model: \"model_one\"\n",
            "_________________________________________________________________\n",
            " Layer (type)                Output Shape              Param #   \n",
            "=================================================================\n",
            " input_layer (Dense)         (None, 100)               200       \n",
            "                                                                 \n",
            " output_layer (Dense)        (None, 1)                 101       \n",
            "                                                                 \n",
            "=================================================================\n",
            "Total params: 301 (1.18 KB)\n",
            "Trainable params: 301 (1.18 KB)\n",
            "Non-trainable params: 0 (0.00 Byte)\n",
            "_________________________________________________________________\n"
          ]
        }
      ]
    },
    {
      "cell_type": "code",
      "source": [
        "from tensorflow.keras.utils import plot_model\n",
        "\n",
        "plot_model(model=model_1, show_shapes=True)"
      ],
      "metadata": {
        "colab": {
          "base_uri": "https://localhost:8080/",
          "height": 312
        },
        "id": "EMxErQE0NVSc",
        "outputId": "8f012f11-1ba1-4e70-b60a-77abe2e6b88f"
      },
      "execution_count": 32,
      "outputs": [
        {
          "output_type": "execute_result",
          "data": {
            "image/png": "[encoded data removed]",
            "text/plain": [
              "<IPython.core.display.Image object>"
            ]
          },
          "metadata": {},
          "execution_count": 32
        }
      ]
    },
    {
      "cell_type": "markdown",
      "source": [
        "### Visualizing our models predictions\n",
        "\n",
        "To visualize predictions, it's a good idea to plot them against the ground truth labels.\n",
        "\n",
        "Often you'll see this in the form of 'y_test' or 'y_true' versus 'y_pred' (ground truth versus your model prediction)"
      ],
      "metadata": {
        "id": "XXOFpjXFOyH9"
      }
    },
    {
      "cell_type": "code",
      "source": [
        "# Make some predictions\n",
        "\n",
        "y_pred = model_1.predict(x_test)\n",
        "y_pred"
      ],
      "metadata": {
        "colab": {
          "base_uri": "https://localhost:8080/"
        },
        "id": "943XbXEayJf3",
        "outputId": "f92aca41-d0e4-457c-8e9f-3a983979238a"
      },
      "execution_count": 33,
      "outputs": [
        {
          "output_type": "stream",
          "name": "stderr",
          "text": [
            "WARNING:tensorflow:5 out of the last 5 calls to <function Model.make_predict_function.<locals>.predict_function at 0x79392cbd7b50> triggered tf.function retracing. Tracing is expensive and the excessive number of tracings could be due to (1) creating @tf.function repeatedly in a loop, (2) passing tensors with different shapes, (3) passing Python objects instead of tensors. For (1), please define your @tf.function outside of the loop. For (2), @tf.function has reduce_retracing=True option that can avoid unnecessary retracing. For (3), please refer to https://www.tensorflow.org/guide/function#controlling_retracing and https://www.tensorflow.org/api_docs/python/tf/function for  more details.\n"
          ]
        },
        {
          "output_type": "stream",
          "name": "stdout",
          "text": [
            "1/1 [==============================] - 0s 68ms/step\n"
          ]
        },
        {
          "output_type": "execute_result",
          "data": {
            "text/plain": [
              "array([[ 71.77132 ],\n",
              "       [ 76.48849 ],\n",
              "       [ 81.20566 ],\n",
              "       [ 85.922844],\n",
              "       [ 90.64002 ],\n",
              "       [ 95.357185],\n",
              "       [100.07437 ],\n",
              "       [104.791534],\n",
              "       [109.50871 ],\n",
              "       [114.22589 ]], dtype=float32)"
            ]
          },
          "metadata": {},
          "execution_count": 33
        }
      ]
    },
    {
      "cell_type": "code",
      "source": [
        "y_test"
      ],
      "metadata": {
        "colab": {
          "base_uri": "https://localhost:8080/"
        },
        "id": "Ke-R5lq9zVa3",
        "outputId": "981bedfd-3471-4fba-f3c7-8555766759f6"
      },
      "execution_count": 34,
      "outputs": [
        {
          "output_type": "execute_result",
          "data": {
            "text/plain": [
              "<tf.Tensor: shape=(10,), dtype=int32, numpy=array([ 70,  74,  78,  82,  86,  90,  94,  98, 102, 106], dtype=int32)>"
            ]
          },
          "metadata": {},
          "execution_count": 34
        }
      ]
    },
    {
      "cell_type": "markdown",
      "source": [
        "🔑 **Note : ** if you feel like you're going to reuse some functionality in the future, its good idea to turn it into a fucntion"
      ],
      "metadata": {
        "id": "nSO6jWAR09Jt"
      }
    },
    {
      "cell_type": "code",
      "source": [
        "# Lets create a plotting function\n",
        "\n",
        "def plot_predictions(train_data=x_train,\n",
        "                     train_labels=y_train,\n",
        "                     test_data=x_test,\n",
        "                     test_labels=y_test,\n",
        "                     predictions=y_pred):\n",
        "  \"\"\"\n",
        "  Plots training data, test data and compares predictions to ground truth labels\n",
        "  \"\"\"\n",
        "  plt.figure(figsize=(10,7))\n",
        "  # Plot training data in blue\n",
        "  plt.scatter(train_data, train_labels, c=\"b\", label=\"Training data\")\n",
        "\n",
        "  # Plot testing data in green\n",
        "  plt.scatter(test_data, test_labels, c=\"g\", label=\"Test data\")\n",
        "\n",
        "  # Plot models predictions in red\n",
        "  plt.scatter(test_data, predictions, c=\"r\", label=\"Predictions\")\n",
        "\n",
        "  # Show the legend\n",
        "  plt.legend()\n",
        "\n"
      ],
      "metadata": {
        "id": "Wt-qJvPk1MAh"
      },
      "execution_count": 35,
      "outputs": []
    },
    {
      "cell_type": "code",
      "source": [
        "plot_predictions()"
      ],
      "metadata": {
        "colab": {
          "base_uri": "https://localhost:8080/",
          "height": 481
        },
        "id": "7ZFYZPV5200S",
        "outputId": "da9dda77-f1d5-42a3-bff8-090c64853ead"
      },
      "execution_count": 36,
      "outputs": [
        {
          "output_type": "display_data",
          "data": {
            "text/plain": [
              "<Figure size 1000x700 with 1 Axes>"
            ],
            "image/png": "[encoded data removed]"
          },
          "metadata": {}
        }
      ]
    },
    {
      "cell_type": "markdown",
      "source": [
        "### Evaluating our models predictions with regression evaluation metrics\n",
        "\n",
        "The evaluation metrics is depending to the model we working on\n",
        "\n",
        "since we're working on a regression, two of the main matrics:\n",
        "* MAE - mean absolute error, \"on average, how wrong is each of my model predictions\"\n",
        "\n",
        "* MSE - mean square error, \"square the average errors\""
      ],
      "metadata": {
        "id": "xWQ92ZRr4V_K"
      }
    },
    {
      "cell_type": "code",
      "source": [
        " # Evaluate the model on the test\n",
        " model_1.evaluate(x_test, y_test)"
      ],
      "metadata": {
        "id": "y3-bYOHr0p-A",
        "colab": {
          "base_uri": "https://localhost:8080/"
        },
        "outputId": "2af0e4d4-2eab-4650-8ff5-379bb072e095"
      },
      "execution_count": 37,
      "outputs": [
        {
          "output_type": "stream",
          "name": "stdout",
          "text": [
            "1/1 [==============================] - 0s 170ms/step - loss: 4.9986 - mae: 4.9986\n"
          ]
        },
        {
          "output_type": "execute_result",
          "data": {
            "text/plain": [
              "[4.998597145080566, 4.998597145080566]"
            ]
          },
          "metadata": {},
          "execution_count": 37
        }
      ]
    },
    {
      "cell_type": "code",
      "source": [
        "# Calculate the mean absolute error\n",
        "mae = tf.metrics.mean_absolute_error(y_true=y_test, y_pred=tf.constant(y_pred))\n",
        "mae"
      ],
      "metadata": {
        "colab": {
          "base_uri": "https://localhost:8080/"
        },
        "id": "bAwZ_yTfPV4C",
        "outputId": "cb23a19d-6381-4b43-daf8-81900f1b2218"
      },
      "execution_count": 38,
      "outputs": [
        {
          "output_type": "execute_result",
          "data": {
            "text/plain": [
              "<tf.Tensor: shape=(10,), dtype=float32, numpy=\n",
              "array([16.582947, 13.306908, 11.117737, 10.015431, 10.128004, 11.342875,\n",
              "       13.644623, 17.033228, 21.508713, 26.225891], dtype=float32)>"
            ]
          },
          "metadata": {},
          "execution_count": 38
        }
      ]
    },
    {
      "cell_type": "code",
      "source": [
        "tf.constant(y_pred)"
      ],
      "metadata": {
        "colab": {
          "base_uri": "https://localhost:8080/"
        },
        "id": "v6CpJX1IPiwj",
        "outputId": "bb5c4ee1-0a0c-41a6-d39d-9072f41eebfb"
      },
      "execution_count": 39,
      "outputs": [
        {
          "output_type": "execute_result",
          "data": {
            "text/plain": [
              "<tf.Tensor: shape=(10, 1), dtype=float32, numpy=\n",
              "array([[ 71.77132 ],\n",
              "       [ 76.48849 ],\n",
              "       [ 81.20566 ],\n",
              "       [ 85.922844],\n",
              "       [ 90.64002 ],\n",
              "       [ 95.357185],\n",
              "       [100.07437 ],\n",
              "       [104.791534],\n",
              "       [109.50871 ],\n",
              "       [114.22589 ]], dtype=float32)>"
            ]
          },
          "metadata": {},
          "execution_count": 39
        }
      ]
    },
    {
      "cell_type": "code",
      "source": [
        "y_test"
      ],
      "metadata": {
        "colab": {
          "base_uri": "https://localhost:8080/"
        },
        "id": "JusnDI5oPlKR",
        "outputId": "3f7baa76-0417-4309-f5ec-439987aa33e5"
      },
      "execution_count": 40,
      "outputs": [
        {
          "output_type": "execute_result",
          "data": {
            "text/plain": [
              "<tf.Tensor: shape=(10,), dtype=int32, numpy=array([ 70,  74,  78,  82,  86,  90,  94,  98, 102, 106], dtype=int32)>"
            ]
          },
          "metadata": {},
          "execution_count": 40
        }
      ]
    },
    {
      "cell_type": "code",
      "source": [
        "tf.squeeze(y_pred)"
      ],
      "metadata": {
        "colab": {
          "base_uri": "https://localhost:8080/"
        },
        "id": "WqQJPNiwyi56",
        "outputId": "fb992256-1598-4348-f2e1-afcaf021d7a5"
      },
      "execution_count": 41,
      "outputs": [
        {
          "output_type": "execute_result",
          "data": {
            "text/plain": [
              "<tf.Tensor: shape=(10,), dtype=float32, numpy=\n",
              "array([ 71.77132 ,  76.48849 ,  81.20566 ,  85.922844,  90.64002 ,\n",
              "        95.357185, 100.07437 , 104.791534, 109.50871 , 114.22589 ],\n",
              "      dtype=float32)>"
            ]
          },
          "metadata": {},
          "execution_count": 41
        }
      ]
    },
    {
      "cell_type": "code",
      "source": [
        "# Calculate the mean absolute error\n",
        "\n",
        "mae = tf.metrics.mean_absolute_error(y_true=y_test, y_pred=tf.squeeze(y_pred))\n",
        "\n",
        "mae"
      ],
      "metadata": {
        "colab": {
          "base_uri": "https://localhost:8080/"
        },
        "id": "uUT4LV7uypPs",
        "outputId": "cb36db26-0a91-4131-fede-554f523187bb"
      },
      "execution_count": 42,
      "outputs": [
        {
          "output_type": "execute_result",
          "data": {
            "text/plain": [
              "<tf.Tensor: shape=(), dtype=float32, numpy=4.9986024>"
            ]
          },
          "metadata": {},
          "execution_count": 42
        }
      ]
    },
    {
      "cell_type": "code",
      "source": [
        "# Calculate the mean square error\n",
        "\n",
        "mse = tf.metrics.mean_squared_error(y_true=y_test, y_pred=tf.squeeze(y_pred))\n",
        "mse"
      ],
      "metadata": {
        "id": "QpelDvIC2Nvg",
        "colab": {
          "base_uri": "https://localhost:8080/"
        },
        "outputId": "b8393817-763a-4a9b-a30d-4899c86a25a3"
      },
      "execution_count": 43,
      "outputs": [
        {
          "output_type": "execute_result",
          "data": {
            "text/plain": [
              "<tf.Tensor: shape=(), dtype=float32, numpy=29.229328>"
            ]
          },
          "metadata": {},
          "execution_count": 43
        }
      ]
    },
    {
      "cell_type": "code",
      "source": [
        "# Make fucntion to reuse MAE and MSE\n",
        "def mae(y_true, y_pred):\n",
        "  return tf.metrics.mean_absolute_error(y_true=y_true,\n",
        "                                      y_pred=tf.squeeze(y_pred))\n",
        "\n",
        "def mse(y_true,y_pred):\n",
        "  return tf.metrics.mean_squared_error(y_true=y_true,\n",
        "                                       y_pred=tf.squeeze(y_pred))"
      ],
      "metadata": {
        "id": "oCsUvdVW2yQL"
      },
      "execution_count": 44,
      "outputs": []
    },
    {
      "cell_type": "markdown",
      "source": [
        "### Running experiments to improve our model\n",
        "\n",
        "1. Get more data - get more example for model\n",
        "\n",
        "2. Make your model larger (using a more complex model) - matbe more layers or hidden units\n",
        "\n",
        "3. Train for longer - give model more chance to find patterns in data\n",
        "\n",
        "Let's do 3 modelling experiment L\n",
        "\n",
        "1. 'model_1' - same as the origin, 1 layer, trained for 100 epochs\n",
        "\n",
        "2. 'model_2' - 2 layers, trained for 100 epochs\n",
        "\n",
        "3. 'model_3' - 2 layers, rained for 500 epochs"
      ],
      "metadata": {
        "id": "U73RgqjhN1Gb"
      }
    },
    {
      "cell_type": "code",
      "source": [
        "x_train, y_train"
      ],
      "metadata": {
        "colab": {
          "base_uri": "https://localhost:8080/"
        },
        "id": "ZRYFc01nOexa",
        "outputId": "b4d0a5cd-e3a4-4eae-fbef-c1d0a69cdeac"
      },
      "execution_count": 45,
      "outputs": [
        {
          "output_type": "execute_result",
          "data": {
            "text/plain": [
              "(<tf.Tensor: shape=(40,), dtype=int32, numpy=\n",
              " array([-100,  -96,  -92,  -88,  -84,  -80,  -76,  -72,  -68,  -64,  -60,\n",
              "         -56,  -52,  -48,  -44,  -40,  -36,  -32,  -28,  -24,  -20,  -16,\n",
              "         -12,   -8,   -4,    0,    4,    8,   12,   16,   20,   24,   28,\n",
              "          32,   36,   40,   44,   48,   52,   56], dtype=int32)>,\n",
              " <tf.Tensor: shape=(40,), dtype=int32, numpy=\n",
              " array([-90, -86, -82, -78, -74, -70, -66, -62, -58, -54, -50, -46, -42,\n",
              "        -38, -34, -30, -26, -22, -18, -14, -10,  -6,  -2,   2,   6,  10,\n",
              "         14,  18,  22,  26,  30,  34,  38,  42,  46,  50,  54,  58,  62,\n",
              "         66], dtype=int32)>)"
            ]
          },
          "metadata": {},
          "execution_count": 45
        }
      ]
    },
    {
      "cell_type": "code",
      "source": [
        "# First build model_1\n",
        "\n",
        "# Ser random seed\n",
        "tf.random.set_seed(42)\n",
        "\n",
        "# 1. Create the model\n",
        "model_1 = tf.keras.Sequential([\n",
        "    tf.keras.layers.Dense(1)\n",
        "])\n",
        "\n",
        "# 2. Compile the model\n",
        "model_1.compile(loss=tf.keras.losses.mae,\n",
        "                optimizer=tf.keras.optimizers.SGD(),\n",
        "                metrics=[\"mae\"],\n",
        "                run_eagerly=True)\n",
        "\n",
        "# 3. FIt the model\n",
        "model_1.fit(tf.expand_dims(x_train, axis=-1), y_train, epochs=100, verbose=0)"
      ],
      "metadata": {
        "colab": {
          "base_uri": "https://localhost:8080/"
        },
        "id": "Bm7GqWOpN77n",
        "outputId": "3dbb51bc-1984-4921-aecd-08b7e91bfd2e"
      },
      "execution_count": 46,
      "outputs": [
        {
          "output_type": "execute_result",
          "data": {
            "text/plain": [
              "<keras.src.callbacks.History at 0x79392cb83a30>"
            ]
          },
          "metadata": {},
          "execution_count": 46
        }
      ]
    },
    {
      "cell_type": "code",
      "source": [
        "model_1.predict(tf.reshape(x_test, shape=(-1,1)))"
      ],
      "metadata": {
        "colab": {
          "base_uri": "https://localhost:8080/"
        },
        "id": "vvrhWzRwTr-8",
        "outputId": "a004d3fd-0d77-4270-b7d6-12946b243ceb"
      },
      "execution_count": 47,
      "outputs": [
        {
          "output_type": "stream",
          "name": "stdout",
          "text": [
            "1/1 [==============================] - 0s 31ms/step\n"
          ]
        },
        {
          "output_type": "execute_result",
          "data": {
            "text/plain": [
              "array([[ 74.377075],\n",
              "       [ 79.25038 ],\n",
              "       [ 84.12369 ],\n",
              "       [ 88.996994],\n",
              "       [ 93.8703  ],\n",
              "       [ 98.74361 ],\n",
              "       [103.616905],\n",
              "       [108.49021 ],\n",
              "       [113.36352 ],\n",
              "       [118.236824]], dtype=float32)"
            ]
          },
          "metadata": {},
          "execution_count": 47
        }
      ]
    },
    {
      "cell_type": "code",
      "source": [
        "# Make a plot predictions for model_1\n",
        "\n",
        "# x_test = tf.reshape(x_test, shape=(-1,1))\n",
        "\n",
        "y_preds_1 = model_1.predict(tf.reshape(x_test, shape=(-1,1)))\n",
        "plot_predictions(predictions=y_preds_1)"
      ],
      "metadata": {
        "colab": {
          "base_uri": "https://localhost:8080/",
          "height": 498
        },
        "id": "-VTt2FvCQK0C",
        "outputId": "61dbb86e-379f-4617-ebc0-6c213850bba2"
      },
      "execution_count": 48,
      "outputs": [
        {
          "output_type": "stream",
          "name": "stdout",
          "text": [
            "1/1 [==============================] - 0s 33ms/step\n"
          ]
        },
        {
          "output_type": "display_data",
          "data": {
            "text/plain": [
              "<Figure size 1000x700 with 1 Axes>"
            ],
            "image/png": "[encoded data removed]"
          },
          "metadata": {}
        }
      ]
    },
    {
      "cell_type": "code",
      "source": [
        "# Calculate model_1 evaluation metrics\n",
        "\n",
        "mae_1 = mae(y_test, y_preds_1)\n",
        "mse_1 = mse(y_test, y_preds_1)\n",
        "\n",
        "mae_1, mse_1"
      ],
      "metadata": {
        "colab": {
          "base_uri": "https://localhost:8080/"
        },
        "id": "3u6Og5EaqZEp",
        "outputId": "6854c1d3-4a0f-4184-8801-7925acf28df1"
      },
      "execution_count": 49,
      "outputs": [
        {
          "output_type": "execute_result",
          "data": {
            "text/plain": [
              "(<tf.Tensor: shape=(), dtype=float32, numpy=8.306951>,\n",
              " <tf.Tensor: shape=(), dtype=float32, numpy=75.29738>)"
            ]
          },
          "metadata": {},
          "execution_count": 49
        }
      ]
    },
    {
      "cell_type": "markdown",
      "source": [
        "**Build model_2**\n",
        "\n",
        "* 2 dense layers, trained for 100 epochs"
      ],
      "metadata": {
        "id": "3IG91oWhsu7n"
      }
    },
    {
      "cell_type": "code",
      "source": [
        "# Build model_2\n",
        "\n",
        "# Set the random seed\n",
        "tf.random.set_seed(42)\n",
        "\n",
        "# 1. Create model\n",
        "model_2 = tf.keras.Sequential([\n",
        "    tf.keras.layers.Dense(70, name=\"input_layer\"),\n",
        "    tf.keras.layers.Dense(1, name=\"Output_layer\")\n",
        "])\n",
        "\n",
        "# 2. Compile the model\n",
        "\n",
        "model_2.compile(loss = mae,\n",
        "              optimizer = tf.keras.optimizers.SGD(),\n",
        "              metrics = [\"mae\"])"
      ],
      "metadata": {
        "id": "F9HBFkiUvO0E"
      },
      "execution_count": 50,
      "outputs": []
    },
    {
      "cell_type": "code",
      "source": [
        "# 3. Make Train the model\n",
        "model_2.fit(tf.expand_dims(x_train, axis=-1), y_train, epochs=54)"
      ],
      "metadata": {
        "colab": {
          "base_uri": "https://localhost:8080/"
        },
        "id": "xCwKGotyzj8h",
        "outputId": "f081f11e-5bbc-4cce-9560-20f51a020d7e"
      },
      "execution_count": 51,
      "outputs": [
        {
          "output_type": "stream",
          "name": "stdout",
          "text": [
            "Epoch 1/54\n",
            "2/2 [==============================] - 1s 20ms/step - loss: 41.4145 - mae: 28.1298\n",
            "Epoch 2/54\n",
            "2/2 [==============================] - 0s 10ms/step - loss: 41.0974 - mae: 39.6453\n",
            "Epoch 3/54\n",
            "2/2 [==============================] - 0s 9ms/step - loss: 52.3714 - mae: 18.2149\n",
            "Epoch 4/54\n",
            "2/2 [==============================] - 0s 10ms/step - loss: 40.6786 - mae: 36.1446\n",
            "Epoch 5/54\n",
            "2/2 [==============================] - 0s 13ms/step - loss: 40.6960 - mae: 38.2932\n",
            "Epoch 6/54\n",
            "2/2 [==============================] - 0s 9ms/step - loss: 40.9718 - mae: 31.8100\n",
            "Epoch 7/54\n",
            "2/2 [==============================] - 0s 9ms/step - loss: 40.7399 - mae: 38.6484\n",
            "Epoch 8/54\n",
            "2/2 [==============================] - 0s 9ms/step - loss: 40.9268 - mae: 32.3438\n",
            "Epoch 9/54\n",
            "2/2 [==============================] - 0s 9ms/step - loss: 46.7258 - mae: 15.3168\n",
            "Epoch 10/54\n",
            "2/2 [==============================] - 0s 9ms/step - loss: 40.6677 - mae: 36.8534\n",
            "Epoch 11/54\n",
            "2/2 [==============================] - 0s 10ms/step - loss: 40.9407 - mae: 38.9792\n",
            "Epoch 12/54\n",
            "2/2 [==============================] - 0s 9ms/step - loss: 52.2797 - mae: 15.9721\n",
            "Epoch 13/54\n",
            "2/2 [==============================] - 0s 9ms/step - loss: 40.7222 - mae: 36.2546\n",
            "Epoch 14/54\n",
            "2/2 [==============================] - 0s 9ms/step - loss: 41.1232 - mae: 30.2163\n",
            "Epoch 15/54\n",
            "2/2 [==============================] - 0s 11ms/step - loss: 40.8820 - mae: 38.7089\n",
            "Epoch 16/54\n",
            "2/2 [==============================] - 0s 11ms/step - loss: 40.8644 - mae: 41.0258\n",
            "Epoch 17/54\n",
            "2/2 [==============================] - 0s 16ms/step - loss: 40.3253 - mae: 34.0956\n",
            "Epoch 18/54\n",
            "2/2 [==============================] - 0s 13ms/step - loss: 40.8723 - mae: 33.4422\n",
            "Epoch 19/54\n",
            "2/2 [==============================] - 0s 13ms/step - loss: 43.2321 - mae: 18.3614\n",
            "Epoch 20/54\n",
            "2/2 [==============================] - 0s 10ms/step - loss: 40.9233 - mae: 32.4850\n",
            "Epoch 21/54\n",
            "2/2 [==============================] - 0s 12ms/step - loss: 40.7334 - mae: 35.5577\n",
            "Epoch 22/54\n",
            "2/2 [==============================] - 0s 10ms/step - loss: 40.6535 - mae: 37.6080\n",
            "Epoch 23/54\n",
            "2/2 [==============================] - 0s 11ms/step - loss: 40.6475 - mae: 38.1658\n",
            "Epoch 24/54\n",
            "2/2 [==============================] - 0s 10ms/step - loss: 41.0067 - mae: 30.4657\n",
            "Epoch 25/54\n",
            "2/2 [==============================] - 0s 11ms/step - loss: 40.8856 - mae: 41.6642\n",
            "Epoch 26/54\n",
            "2/2 [==============================] - 0s 8ms/step - loss: 42.0317 - mae: 25.8779\n",
            "Epoch 27/54\n",
            "2/2 [==============================] - 0s 8ms/step - loss: 40.7346 - mae: 34.9143\n",
            "Epoch 28/54\n",
            "2/2 [==============================] - 0s 9ms/step - loss: 42.1878 - mae: 24.2342\n",
            "Epoch 29/54\n",
            "2/2 [==============================] - 0s 9ms/step - loss: 40.7137 - mae: 33.9194\n",
            "Epoch 30/54\n",
            "2/2 [==============================] - 0s 10ms/step - loss: 45.4161 - mae: 14.2166\n",
            "Epoch 31/54\n",
            "2/2 [==============================] - 0s 9ms/step - loss: 57.5207 - mae: 15.8775\n",
            "Epoch 32/54\n",
            "2/2 [==============================] - 0s 10ms/step - loss: 41.2255 - mae: 26.7516\n",
            "Epoch 33/54\n",
            "2/2 [==============================] - 0s 10ms/step - loss: 41.1724 - mae: 30.2176\n",
            "Epoch 34/54\n",
            "2/2 [==============================] - 0s 14ms/step - loss: 40.8190 - mae: 32.5928\n",
            "Epoch 35/54\n",
            "2/2 [==============================] - 0s 9ms/step - loss: 40.6317 - mae: 35.2225\n",
            "Epoch 36/54\n",
            "2/2 [==============================] - 0s 10ms/step - loss: 41.6473 - mae: 23.9343\n",
            "Epoch 37/54\n",
            "2/2 [==============================] - 0s 10ms/step - loss: 40.8512 - mae: 32.4926\n",
            "Epoch 38/54\n",
            "2/2 [==============================] - 0s 8ms/step - loss: 40.6549 - mae: 34.6089\n",
            "Epoch 39/54\n",
            "2/2 [==============================] - 0s 9ms/step - loss: 40.7232 - mae: 34.1568\n",
            "Epoch 40/54\n",
            "2/2 [==============================] - 0s 12ms/step - loss: 40.8683 - mae: 32.7988\n",
            "Epoch 41/54\n",
            "2/2 [==============================] - 0s 9ms/step - loss: 40.3729 - mae: 33.7574\n",
            "Epoch 42/54\n",
            "2/2 [==============================] - 0s 9ms/step - loss: 40.7170 - mae: 34.7647\n",
            "Epoch 43/54\n",
            "2/2 [==============================] - 0s 9ms/step - loss: 40.5638 - mae: 36.8927\n",
            "Epoch 44/54\n",
            "2/2 [==============================] - 0s 9ms/step - loss: 41.0340 - mae: 29.9886\n",
            "Epoch 45/54\n",
            "2/2 [==============================] - 0s 12ms/step - loss: 41.0558 - mae: 30.8900\n",
            "Epoch 46/54\n",
            "2/2 [==============================] - 0s 9ms/step - loss: 40.6963 - mae: 33.4311\n",
            "Epoch 47/54\n",
            "2/2 [==============================] - 0s 10ms/step - loss: 40.7104 - mae: 34.7353\n",
            "Epoch 48/54\n",
            "2/2 [==============================] - 0s 9ms/step - loss: 40.6703 - mae: 37.4096\n",
            "Epoch 49/54\n",
            "2/2 [==============================] - 0s 9ms/step - loss: 40.6609 - mae: 37.1466\n",
            "Epoch 50/54\n",
            "2/2 [==============================] - 0s 13ms/step - loss: 40.5710 - mae: 35.1797\n",
            "Epoch 51/54\n",
            "2/2 [==============================] - 0s 9ms/step - loss: 40.6735 - mae: 37.2996\n",
            "Epoch 52/54\n",
            "2/2 [==============================] - 0s 8ms/step - loss: 40.5929 - mae: 35.2304\n",
            "Epoch 53/54\n",
            "2/2 [==============================] - 0s 10ms/step - loss: 40.4335 - mae: 27.7728\n",
            "Epoch 54/54\n",
            "2/2 [==============================] - 0s 12ms/step - loss: 43.7346 - mae: 17.7851\n"
          ]
        },
        {
          "output_type": "execute_result",
          "data": {
            "text/plain": [
              "<keras.src.callbacks.History at 0x79392c98f400>"
            ]
          },
          "metadata": {},
          "execution_count": 51
        }
      ]
    },
    {
      "cell_type": "code",
      "source": [
        "x_test"
      ],
      "metadata": {
        "colab": {
          "base_uri": "https://localhost:8080/"
        },
        "id": "F4p4SDzi3EAL",
        "outputId": "e5b90826-ee37-47e9-a0c6-c5bb14d8ed5a"
      },
      "execution_count": 52,
      "outputs": [
        {
          "output_type": "execute_result",
          "data": {
            "text/plain": [
              "<tf.Tensor: shape=(10,), dtype=int32, numpy=array([60, 64, 68, 72, 76, 80, 84, 88, 92, 96], dtype=int32)>"
            ]
          },
          "metadata": {},
          "execution_count": 52
        }
      ]
    },
    {
      "cell_type": "code",
      "source": [
        "y_test"
      ],
      "metadata": {
        "colab": {
          "base_uri": "https://localhost:8080/"
        },
        "id": "pg4Syr7r3HES",
        "outputId": "332266c5-5748-4437-e197-41f82388fdf9"
      },
      "execution_count": 53,
      "outputs": [
        {
          "output_type": "execute_result",
          "data": {
            "text/plain": [
              "<tf.Tensor: shape=(10,), dtype=int32, numpy=array([ 70,  74,  78,  82,  86,  90,  94,  98, 102, 106], dtype=int32)>"
            ]
          },
          "metadata": {},
          "execution_count": 53
        }
      ]
    },
    {
      "cell_type": "code",
      "source": [
        "model_2.predict(x_test)"
      ],
      "metadata": {
        "colab": {
          "base_uri": "https://localhost:8080/"
        },
        "id": "bvtvcNO03KN2",
        "outputId": "6739a3d6-8066-4b88-bbdd-f1199744d33c"
      },
      "execution_count": 54,
      "outputs": [
        {
          "output_type": "stream",
          "name": "stderr",
          "text": [
            "WARNING:tensorflow:6 out of the last 6 calls to <function Model.make_predict_function.<locals>.predict_function at 0x79392c9c9090> triggered tf.function retracing. Tracing is expensive and the excessive number of tracings could be due to (1) creating @tf.function repeatedly in a loop, (2) passing tensors with different shapes, (3) passing Python objects instead of tensors. For (1), please define your @tf.function outside of the loop. For (2), @tf.function has reduce_retracing=True option that can avoid unnecessary retracing. For (3), please refer to https://www.tensorflow.org/guide/function#controlling_retracing and https://www.tensorflow.org/api_docs/python/tf/function for  more details.\n"
          ]
        },
        {
          "output_type": "stream",
          "name": "stdout",
          "text": [
            "1/1 [==============================] - 0s 71ms/step\n"
          ]
        },
        {
          "output_type": "execute_result",
          "data": {
            "text/plain": [
              "array([[32.546383],\n",
              "       [34.730297],\n",
              "       [36.91422 ],\n",
              "       [39.098133],\n",
              "       [41.28205 ],\n",
              "       [43.465958],\n",
              "       [45.649883],\n",
              "       [47.833794],\n",
              "       [50.01771 ],\n",
              "       [52.201633]], dtype=float32)"
            ]
          },
          "metadata": {},
          "execution_count": 54
        }
      ]
    },
    {
      "cell_type": "code",
      "source": [
        "# Make and plot predictions of model_2\n",
        "\n",
        "y_preds_2 = model_2.predict(x_test)\n",
        "plot_predictions(predictions=y_preds_2)"
      ],
      "metadata": {
        "colab": {
          "base_uri": "https://localhost:8080/",
          "height": 503
        },
        "id": "qYq7itP01-ur",
        "outputId": "8ef539a0-a963-4807-a876-606ab480af8a"
      },
      "execution_count": 55,
      "outputs": [
        {
          "output_type": "stream",
          "name": "stdout",
          "text": [
            "1/1 [==============================] - 0s 24ms/step\n"
          ]
        },
        {
          "output_type": "display_data",
          "data": {
            "text/plain": [
              "<Figure size 1000x700 with 1 Axes>"
            ],
            "image/png": "[encoded data removed]"
          },
          "metadata": {}
        }
      ]
    },
    {
      "cell_type": "code",
      "source": [
        "model_2.summary()"
      ],
      "metadata": {
        "colab": {
          "base_uri": "https://localhost:8080/"
        },
        "id": "nrRhl6kf1o_c",
        "outputId": "1224136c-110c-41a4-d564-8382cb574d28"
      },
      "execution_count": 56,
      "outputs": [
        {
          "output_type": "stream",
          "name": "stdout",
          "text": [
            "Model: \"sequential_6\"\n",
            "_________________________________________________________________\n",
            " Layer (type)                Output Shape              Param #   \n",
            "=================================================================\n",
            " input_layer (Dense)         (None, 70)                140       \n",
            "                                                                 \n",
            " Output_layer (Dense)        (None, 1)                 71        \n",
            "                                                                 \n",
            "=================================================================\n",
            "Total params: 211 (844.00 Byte)\n",
            "Trainable params: 211 (844.00 Byte)\n",
            "Non-trainable params: 0 (0.00 Byte)\n",
            "_________________________________________________________________\n"
          ]
        }
      ]
    },
    {
      "cell_type": "code",
      "source": [
        "# Calculate model_2 evaluation metrics\n",
        "\n",
        "mae_2 = mae(y_test, y_preds_2)\n",
        "mse_2 = mse(y_test, y_preds_2)\n",
        "\n",
        "mae_2, mse_2"
      ],
      "metadata": {
        "colab": {
          "base_uri": "https://localhost:8080/"
        },
        "id": "C54KgBhY6klJ",
        "outputId": "a3f6d164-68ee-4638-d0ab-09e237629975"
      },
      "execution_count": 57,
      "outputs": [
        {
          "output_type": "execute_result",
          "data": {
            "text/plain": [
              "(<tf.Tensor: shape=(), dtype=float32, numpy=45.625996>,\n",
              " <tf.Tensor: shape=(), dtype=float32, numpy=2108.941>)"
            ]
          },
          "metadata": {},
          "execution_count": 57
        }
      ]
    },
    {
      "cell_type": "markdown",
      "source": [
        "**Build model_3**\n",
        "\n",
        "* 2 layers, trained for 500 epochs"
      ],
      "metadata": {
        "id": "UgQW0Vw_Eigq"
      }
    },
    {
      "cell_type": "code",
      "source": [
        "# Build mdoel 3\n",
        "\n",
        "# set random seed\n",
        "tf.random.set_seed(42)\n",
        "\n",
        "# Build the model\n",
        "model_3 = tf.keras.Sequential([\n",
        "    tf.keras.layers.Dense(10),\n",
        "    tf.keras.layers.Dense(1)\n",
        "])\n",
        "\n",
        "# Compile the model\n",
        "model_3.compile(loss=mae,\n",
        "                optimizer = tf.keras.optimizers.SGD(),\n",
        "                metrics=[\"mae\"])"
      ],
      "metadata": {
        "id": "ZDmoG_8fEdZp"
      },
      "execution_count": 58,
      "outputs": []
    },
    {
      "cell_type": "code",
      "source": [
        "# 3. FIt the model\n",
        "model_3.fit(tf.expand_dims(x_train, axis=-1), y_train, epochs=500)\n"
      ],
      "metadata": {
        "colab": {
          "base_uri": "https://localhost:8080/"
        },
        "id": "Xw5ZEQwjFTQF",
        "outputId": "61654828-7b09-4dcb-b5cb-8339e3cd3171"
      },
      "execution_count": 59,
      "outputs": [
        {
          "output_type": "stream",
          "name": "stdout",
          "text": [
            "Epoch 1/500\n",
            "2/2 [==============================] - 1s 14ms/step - loss: 41.4878 - mae: 44.2176\n",
            "Epoch 2/500\n",
            "2/2 [==============================] - 0s 16ms/step - loss: 40.8401 - mae: 40.0770\n",
            "Epoch 3/500\n",
            "2/2 [==============================] - 0s 13ms/step - loss: 48.2273 - mae: 13.3935\n",
            "Epoch 4/500\n",
            "2/2 [==============================] - 0s 14ms/step - loss: 40.8962 - mae: 39.5069\n",
            "Epoch 5/500\n",
            "2/2 [==============================] - 0s 10ms/step - loss: 40.6066 - mae: 37.7060\n",
            "Epoch 6/500\n",
            "2/2 [==============================] - 0s 11ms/step - loss: 40.8639 - mae: 32.8633\n",
            "Epoch 7/500\n",
            "2/2 [==============================] - 0s 19ms/step - loss: 40.7524 - mae: 37.6683\n",
            "Epoch 8/500\n",
            "2/2 [==============================] - 0s 9ms/step - loss: 40.6505 - mae: 33.3300\n",
            "Epoch 9/500\n",
            "2/2 [==============================] - 0s 10ms/step - loss: 42.8707 - mae: 21.1044\n",
            "Epoch 10/500\n",
            "2/2 [==============================] - 0s 11ms/step - loss: 40.3241 - mae: 33.6431\n",
            "Epoch 11/500\n",
            "2/2 [==============================] - 0s 10ms/step - loss: 40.9370 - mae: 38.7887\n",
            "Epoch 12/500\n",
            "2/2 [==============================] - 0s 14ms/step - loss: 49.6056 - mae: 13.5141\n",
            "Epoch 13/500\n",
            "2/2 [==============================] - 0s 9ms/step - loss: 40.7902 - mae: 34.6486\n",
            "Epoch 14/500\n",
            "2/2 [==============================] - 0s 11ms/step - loss: 41.1163 - mae: 30.2343\n",
            "Epoch 15/500\n",
            "2/2 [==============================] - 0s 11ms/step - loss: 40.8057 - mae: 37.7922\n",
            "Epoch 16/500\n",
            "2/2 [==============================] - 0s 11ms/step - loss: 40.8054 - mae: 40.1784\n",
            "Epoch 17/500\n",
            "2/2 [==============================] - 0s 12ms/step - loss: 40.3236 - mae: 33.9816\n",
            "Epoch 18/500\n",
            "2/2 [==============================] - 0s 16ms/step - loss: 40.7914 - mae: 33.3645\n",
            "Epoch 19/500\n",
            "2/2 [==============================] - 0s 12ms/step - loss: 42.8185 - mae: 19.5070\n",
            "Epoch 20/500\n",
            "2/2 [==============================] - 0s 10ms/step - loss: 41.0208 - mae: 31.4989\n",
            "Epoch 21/500\n",
            "2/2 [==============================] - 0s 10ms/step - loss: 40.7503 - mae: 34.8680\n",
            "Epoch 22/500\n",
            "2/2 [==============================] - 0s 12ms/step - loss: 40.6191 - mae: 37.2324\n",
            "Epoch 23/500\n",
            "2/2 [==============================] - 0s 11ms/step - loss: 40.6438 - mae: 38.0530\n",
            "Epoch 24/500\n",
            "2/2 [==============================] - 0s 17ms/step - loss: 40.9713 - mae: 31.0131\n",
            "Epoch 25/500\n",
            "2/2 [==============================] - 0s 14ms/step - loss: 40.8121 - mae: 40.7187\n",
            "Epoch 26/500\n",
            "2/2 [==============================] - 0s 13ms/step - loss: 41.8034 - mae: 26.6321\n",
            "Epoch 27/500\n",
            "2/2 [==============================] - 0s 19ms/step - loss: 40.7202 - mae: 34.7863\n",
            "Epoch 28/500\n",
            "2/2 [==============================] - 0s 10ms/step - loss: 41.9405 - mae: 25.1222\n",
            "Epoch 29/500\n",
            "2/2 [==============================] - 0s 19ms/step - loss: 40.6386 - mae: 33.4499\n",
            "Epoch 30/500\n",
            "2/2 [==============================] - 0s 12ms/step - loss: 44.4161 - mae: 14.6321\n",
            "Epoch 31/500\n",
            "2/2 [==============================] - 0s 13ms/step - loss: 56.3168 - mae: 14.9083\n",
            "Epoch 32/500\n",
            "2/2 [==============================] - 0s 10ms/step - loss: 41.2443 - mae: 26.5840\n",
            "Epoch 33/500\n",
            "2/2 [==============================] - 0s 9ms/step - loss: 41.2133 - mae: 29.8749\n",
            "Epoch 34/500\n",
            "2/2 [==============================] - 0s 11ms/step - loss: 40.8442 - mae: 32.1999\n",
            "Epoch 35/500\n",
            "2/2 [==============================] - 0s 10ms/step - loss: 40.6067 - mae: 34.7529\n",
            "Epoch 36/500\n",
            "2/2 [==============================] - 0s 10ms/step - loss: 41.5509 - mae: 24.4309\n",
            "Epoch 37/500\n",
            "2/2 [==============================] - 0s 10ms/step - loss: 40.8715 - mae: 32.2254\n",
            "Epoch 38/500\n",
            "2/2 [==============================] - 0s 10ms/step - loss: 40.6649 - mae: 34.2276\n",
            "Epoch 39/500\n",
            "2/2 [==============================] - 0s 9ms/step - loss: 40.7335 - mae: 33.8564\n",
            "Epoch 40/500\n",
            "2/2 [==============================] - 0s 10ms/step - loss: 40.8758 - mae: 32.6790\n",
            "Epoch 41/500\n",
            "2/2 [==============================] - 0s 8ms/step - loss: 40.3702 - mae: 33.5691\n",
            "Epoch 42/500\n",
            "2/2 [==============================] - 0s 15ms/step - loss: 40.7251 - mae: 34.5120\n",
            "Epoch 43/500\n",
            "2/2 [==============================] - 0s 10ms/step - loss: 40.5473 - mae: 36.5711\n",
            "Epoch 44/500\n",
            "2/2 [==============================] - 0s 13ms/step - loss: 40.9919 - mae: 30.2844\n",
            "Epoch 45/500\n",
            "2/2 [==============================] - 0s 11ms/step - loss: 41.0344 - mae: 31.0597\n",
            "Epoch 46/500\n",
            "2/2 [==============================] - 0s 9ms/step - loss: 40.6981 - mae: 33.3984\n",
            "Epoch 47/500\n",
            "2/2 [==============================] - 0s 9ms/step - loss: 40.7135 - mae: 34.6108\n",
            "Epoch 48/500\n",
            "2/2 [==============================] - 0s 11ms/step - loss: 40.6653 - mae: 37.1160\n",
            "Epoch 49/500\n",
            "2/2 [==============================] - 0s 13ms/step - loss: 40.6585 - mae: 36.9161\n",
            "Epoch 50/500\n",
            "2/2 [==============================] - 0s 16ms/step - loss: 40.5706 - mae: 35.1427\n",
            "Epoch 51/500\n",
            "2/2 [==============================] - 0s 12ms/step - loss: 40.6699 - mae: 37.1023\n",
            "Epoch 52/500\n",
            "2/2 [==============================] - 0s 11ms/step - loss: 40.5731 - mae: 35.2353\n",
            "Epoch 53/500\n",
            "2/2 [==============================] - 0s 10ms/step - loss: 40.3493 - mae: 28.3455\n",
            "Epoch 54/500\n",
            "2/2 [==============================] - 0s 12ms/step - loss: 43.3115 - mae: 18.7411\n",
            "Epoch 55/500\n",
            "2/2 [==============================] - 0s 8ms/step - loss: 43.6316 - mae: 18.9774\n",
            "Epoch 56/500\n",
            "2/2 [==============================] - 0s 10ms/step - loss: 40.9337 - mae: 29.0479\n",
            "Epoch 57/500\n",
            "2/2 [==============================] - 0s 9ms/step - loss: 40.4288 - mae: 33.1037\n",
            "Epoch 58/500\n",
            "2/2 [==============================] - 0s 14ms/step - loss: 40.6583 - mae: 35.0613\n",
            "Epoch 59/500\n",
            "2/2 [==============================] - 0s 11ms/step - loss: 40.7709 - mae: 35.2460\n",
            "Epoch 60/500\n",
            "2/2 [==============================] - 0s 10ms/step - loss: 40.7113 - mae: 34.9579\n",
            "Epoch 61/500\n",
            "2/2 [==============================] - 0s 11ms/step - loss: 40.7065 - mae: 35.3997\n",
            "Epoch 62/500\n",
            "2/2 [==============================] - 0s 12ms/step - loss: 40.7292 - mae: 35.9973\n",
            "Epoch 63/500\n",
            "2/2 [==============================] - 0s 10ms/step - loss: 40.6375 - mae: 35.4075\n",
            "Epoch 64/500\n",
            "2/2 [==============================] - 0s 12ms/step - loss: 40.7684 - mae: 33.8106\n",
            "Epoch 65/500\n",
            "2/2 [==============================] - 0s 16ms/step - loss: 40.6843 - mae: 34.8839\n",
            "Epoch 66/500\n",
            "2/2 [==============================] - 0s 14ms/step - loss: 40.7996 - mae: 33.5521\n",
            "Epoch 67/500\n",
            "2/2 [==============================] - 0s 10ms/step - loss: 40.7275 - mae: 34.5079\n",
            "Epoch 68/500\n",
            "2/2 [==============================] - 0s 11ms/step - loss: 40.6672 - mae: 34.9619\n",
            "Epoch 69/500\n",
            "2/2 [==============================] - 0s 9ms/step - loss: 40.7274 - mae: 34.9688\n",
            "Epoch 70/500\n",
            "2/2 [==============================] - 0s 12ms/step - loss: 40.6347 - mae: 35.2535\n",
            "Epoch 71/500\n",
            "2/2 [==============================] - 0s 11ms/step - loss: 40.6613 - mae: 36.9889\n",
            "Epoch 72/500\n",
            "2/2 [==============================] - 0s 11ms/step - loss: 40.7000 - mae: 36.7973\n",
            "Epoch 73/500\n",
            "2/2 [==============================] - 0s 10ms/step - loss: 40.6900 - mae: 37.8073\n",
            "Epoch 74/500\n",
            "2/2 [==============================] - 0s 9ms/step - loss: 40.6989 - mae: 37.5289\n",
            "Epoch 75/500\n",
            "2/2 [==============================] - 0s 10ms/step - loss: 40.7184 - mae: 37.8537\n",
            "Epoch 76/500\n",
            "2/2 [==============================] - 0s 10ms/step - loss: 40.6577 - mae: 36.9959\n",
            "Epoch 77/500\n",
            "2/2 [==============================] - 0s 9ms/step - loss: 40.7168 - mae: 37.9473\n",
            "Epoch 78/500\n",
            "2/2 [==============================] - 0s 11ms/step - loss: 40.4404 - mae: 37.6500\n",
            "Epoch 79/500\n",
            "2/2 [==============================] - 0s 11ms/step - loss: 40.5067 - mae: 33.0899\n",
            "Epoch 80/500\n",
            "2/2 [==============================] - 0s 9ms/step - loss: 41.1534 - mae: 29.3850\n",
            "Epoch 81/500\n",
            "2/2 [==============================] - 0s 8ms/step - loss: 39.9463 - mae: 32.5599\n",
            "Epoch 82/500\n",
            "2/2 [==============================] - 0s 12ms/step - loss: 40.6477 - mae: 33.0663\n",
            "Epoch 83/500\n",
            "2/2 [==============================] - 0s 10ms/step - loss: 40.6616 - mae: 35.2518\n",
            "Epoch 84/500\n",
            "2/2 [==============================] - 0s 12ms/step - loss: 40.6886 - mae: 35.4685\n",
            "Epoch 85/500\n",
            "2/2 [==============================] - 0s 8ms/step - loss: 40.7131 - mae: 35.8677\n",
            "Epoch 86/500\n",
            "2/2 [==============================] - 0s 9ms/step - loss: 40.7235 - mae: 36.3263\n",
            "Epoch 87/500\n",
            "2/2 [==============================] - 0s 12ms/step - loss: 40.6895 - mae: 36.3398\n",
            "Epoch 88/500\n",
            "2/2 [==============================] - 0s 12ms/step - loss: 40.7113 - mae: 36.2734\n",
            "Epoch 89/500\n",
            "2/2 [==============================] - 0s 8ms/step - loss: 40.7087 - mae: 37.2819\n",
            "Epoch 90/500\n",
            "2/2 [==============================] - 0s 57ms/step - loss: 40.6934 - mae: 37.4363\n",
            "Epoch 91/500\n",
            "2/2 [==============================] - 0s 9ms/step - loss: 40.6714 - mae: 37.3057\n",
            "Epoch 92/500\n",
            "2/2 [==============================] - 0s 9ms/step - loss: 40.6915 - mae: 37.1497\n",
            "Epoch 93/500\n",
            "2/2 [==============================] - 0s 9ms/step - loss: 40.6424 - mae: 37.1054\n",
            "Epoch 94/500\n",
            "2/2 [==============================] - 0s 8ms/step - loss: 40.6944 - mae: 36.1814\n",
            "Epoch 95/500\n",
            "2/2 [==============================] - 0s 9ms/step - loss: 40.7459 - mae: 35.4844\n",
            "Epoch 96/500\n",
            "2/2 [==============================] - 0s 9ms/step - loss: 40.5853 - mae: 34.9967\n",
            "Epoch 97/500\n",
            "2/2 [==============================] - 0s 9ms/step - loss: 40.7057 - mae: 35.8220\n",
            "Epoch 98/500\n",
            "2/2 [==============================] - 0s 9ms/step - loss: 40.6649 - mae: 36.4457\n",
            "Epoch 99/500\n",
            "2/2 [==============================] - 0s 9ms/step - loss: 40.6699 - mae: 36.4742\n",
            "Epoch 100/500\n",
            "2/2 [==============================] - 0s 8ms/step - loss: 40.7160 - mae: 35.4115\n",
            "Epoch 101/500\n",
            "2/2 [==============================] - 0s 8ms/step - loss: 40.6931 - mae: 36.0192\n",
            "Epoch 102/500\n",
            "2/2 [==============================] - 0s 8ms/step - loss: 40.5066 - mae: 36.5886\n",
            "Epoch 103/500\n",
            "2/2 [==============================] - 0s 8ms/step - loss: 40.5917 - mae: 36.9604\n",
            "Epoch 104/500\n",
            "2/2 [==============================] - 0s 8ms/step - loss: 40.7004 - mae: 35.4436\n",
            "Epoch 105/500\n",
            "2/2 [==============================] - 0s 8ms/step - loss: 40.6525 - mae: 36.1740\n",
            "Epoch 106/500\n",
            "2/2 [==============================] - 0s 9ms/step - loss: 40.6408 - mae: 36.2650\n",
            "Epoch 107/500\n",
            "2/2 [==============================] - 0s 11ms/step - loss: 40.6902 - mae: 34.9767\n",
            "Epoch 108/500\n",
            "2/2 [==============================] - 0s 9ms/step - loss: 40.7261 - mae: 34.3951\n",
            "Epoch 109/500\n",
            "2/2 [==============================] - 0s 11ms/step - loss: 40.6448 - mae: 33.4645\n",
            "Epoch 110/500\n",
            "2/2 [==============================] - 0s 14ms/step - loss: 40.6942 - mae: 34.7379\n",
            "Epoch 111/500\n",
            "2/2 [==============================] - 0s 10ms/step - loss: 40.6224 - mae: 35.0332\n",
            "Epoch 112/500\n",
            "2/2 [==============================] - 0s 10ms/step - loss: 40.4487 - mae: 35.3045\n",
            "Epoch 113/500\n",
            "2/2 [==============================] - 0s 8ms/step - loss: 40.4846 - mae: 32.5386\n",
            "Epoch 114/500\n",
            "2/2 [==============================] - 0s 13ms/step - loss: 41.0242 - mae: 31.1968\n",
            "Epoch 115/500\n",
            "2/2 [==============================] - 0s 12ms/step - loss: 40.9108 - mae: 31.8587\n",
            "Epoch 116/500\n",
            "2/2 [==============================] - 0s 8ms/step - loss: 40.6539 - mae: 33.1205\n",
            "Epoch 117/500\n",
            "2/2 [==============================] - 0s 11ms/step - loss: 40.5798 - mae: 34.5110\n",
            "Epoch 118/500\n",
            "2/2 [==============================] - 0s 79ms/step - loss: 40.5597 - mae: 35.0519\n",
            "Epoch 119/500\n",
            "2/2 [==============================] - 0s 11ms/step - loss: 40.0610 - mae: 35.8708\n",
            "Epoch 120/500\n",
            "2/2 [==============================] - 0s 12ms/step - loss: 41.2889 - mae: 28.2388\n",
            "Epoch 121/500\n",
            "2/2 [==============================] - 0s 10ms/step - loss: 39.9484 - mae: 32.1723\n",
            "Epoch 122/500\n",
            "2/2 [==============================] - 0s 10ms/step - loss: 41.1884 - mae: 25.1434\n",
            "Epoch 123/500\n",
            "2/2 [==============================] - 0s 11ms/step - loss: 41.9620 - mae: 24.5544\n",
            "Epoch 124/500\n",
            "2/2 [==============================] - 0s 10ms/step - loss: 41.3583 - mae: 27.8599\n",
            "Epoch 125/500\n",
            "2/2 [==============================] - 0s 11ms/step - loss: 40.6475 - mae: 30.5648\n",
            "Epoch 126/500\n",
            "2/2 [==============================] - 0s 12ms/step - loss: 40.8398 - mae: 32.6126\n",
            "Epoch 127/500\n",
            "2/2 [==============================] - 0s 10ms/step - loss: 40.2779 - mae: 33.4112\n",
            "Epoch 128/500\n",
            "2/2 [==============================] - 0s 14ms/step - loss: 41.3235 - mae: 28.5376\n",
            "Epoch 129/500\n",
            "2/2 [==============================] - 0s 10ms/step - loss: 40.4050 - mae: 30.3147\n",
            "Epoch 130/500\n",
            "2/2 [==============================] - 0s 10ms/step - loss: 41.2411 - mae: 28.9080\n",
            "Epoch 131/500\n",
            "2/2 [==============================] - 0s 11ms/step - loss: 40.8181 - mae: 30.8366\n",
            "Epoch 132/500\n",
            "2/2 [==============================] - 0s 12ms/step - loss: 40.8543 - mae: 31.5177\n",
            "Epoch 133/500\n",
            "2/2 [==============================] - 0s 11ms/step - loss: 40.5275 - mae: 32.8839\n",
            "Epoch 134/500\n",
            "2/2 [==============================] - 0s 17ms/step - loss: 41.0513 - mae: 30.1182\n",
            "Epoch 135/500\n",
            "2/2 [==============================] - 0s 11ms/step - loss: 40.7488 - mae: 32.7142\n",
            "Epoch 136/500\n",
            "2/2 [==============================] - 0s 13ms/step - loss: 40.7213 - mae: 33.2768\n",
            "Epoch 137/500\n",
            "2/2 [==============================] - 0s 9ms/step - loss: 40.0181 - mae: 32.6068\n",
            "Epoch 138/500\n",
            "2/2 [==============================] - 0s 11ms/step - loss: 40.4350 - mae: 32.1994\n",
            "Epoch 139/500\n",
            "2/2 [==============================] - 0s 13ms/step - loss: 40.8340 - mae: 32.5531\n",
            "Epoch 140/500\n",
            "2/2 [==============================] - 0s 10ms/step - loss: 40.7388 - mae: 33.4250\n",
            "Epoch 141/500\n",
            "2/2 [==============================] - 0s 11ms/step - loss: 40.1663 - mae: 33.9176\n",
            "Epoch 142/500\n",
            "2/2 [==============================] - 0s 9ms/step - loss: 40.6871 - mae: 30.3825\n",
            "Epoch 143/500\n",
            "2/2 [==============================] - 0s 11ms/step - loss: 40.5156 - mae: 28.1418\n",
            "Epoch 144/500\n",
            "2/2 [==============================] - 0s 10ms/step - loss: 40.6103 - mae: 30.9669\n",
            "Epoch 145/500\n",
            "2/2 [==============================] - 0s 12ms/step - loss: 41.4483 - mae: 26.5765\n",
            "Epoch 146/500\n",
            "2/2 [==============================] - 0s 11ms/step - loss: 39.9576 - mae: 31.6635\n",
            "Epoch 147/500\n",
            "2/2 [==============================] - 0s 15ms/step - loss: 40.2762 - mae: 32.5146\n",
            "Epoch 148/500\n",
            "2/2 [==============================] - 0s 10ms/step - loss: 40.6204 - mae: 30.5974\n",
            "Epoch 149/500\n",
            "2/2 [==============================] - 0s 11ms/step - loss: 40.7242 - mae: 32.4222\n",
            "Epoch 150/500\n",
            "2/2 [==============================] - 0s 11ms/step - loss: 40.0007 - mae: 33.5468\n",
            "Epoch 151/500\n",
            "2/2 [==============================] - 0s 10ms/step - loss: 41.0240 - mae: 30.6868\n",
            "Epoch 152/500\n",
            "2/2 [==============================] - 0s 10ms/step - loss: 40.8154 - mae: 32.3541\n",
            "Epoch 153/500\n",
            "2/2 [==============================] - 0s 11ms/step - loss: 40.3782 - mae: 31.9589\n",
            "Epoch 154/500\n",
            "2/2 [==============================] - 0s 10ms/step - loss: 40.8282 - mae: 32.4482\n",
            "Epoch 155/500\n",
            "2/2 [==============================] - 0s 10ms/step - loss: 40.6884 - mae: 33.6100\n",
            "Epoch 156/500\n",
            "2/2 [==============================] - 0s 9ms/step - loss: 40.4357 - mae: 33.0650\n",
            "Epoch 157/500\n",
            "2/2 [==============================] - 0s 15ms/step - loss: 40.7115 - mae: 31.5171\n",
            "Epoch 158/500\n",
            "2/2 [==============================] - 0s 9ms/step - loss: 40.4233 - mae: 32.3511\n",
            "Epoch 159/500\n",
            "2/2 [==============================] - 0s 10ms/step - loss: 40.6245 - mae: 34.1021\n",
            "Epoch 160/500\n",
            "2/2 [==============================] - 0s 10ms/step - loss: 40.7303 - mae: 33.9119\n",
            "Epoch 161/500\n",
            "2/2 [==============================] - 0s 12ms/step - loss: 40.6830 - mae: 33.8685\n",
            "Epoch 162/500\n",
            "2/2 [==============================] - 0s 12ms/step - loss: 40.6210 - mae: 34.4284\n",
            "Epoch 163/500\n",
            "2/2 [==============================] - 0s 9ms/step - loss: 40.7289 - mae: 33.5118\n",
            "Epoch 164/500\n",
            "2/2 [==============================] - 0s 10ms/step - loss: 40.4775 - mae: 34.1475\n",
            "Epoch 165/500\n",
            "2/2 [==============================] - 0s 11ms/step - loss: 40.6467 - mae: 35.3516\n",
            "Epoch 166/500\n",
            "2/2 [==============================] - 0s 10ms/step - loss: 40.5849 - mae: 35.4674\n",
            "Epoch 167/500\n",
            "2/2 [==============================] - 0s 14ms/step - loss: 40.7192 - mae: 34.5459\n",
            "Epoch 168/500\n",
            "2/2 [==============================] - 0s 12ms/step - loss: 40.6902 - mae: 35.2828\n",
            "Epoch 169/500\n",
            "2/2 [==============================] - 0s 17ms/step - loss: 40.6672 - mae: 35.5706\n",
            "Epoch 170/500\n",
            "2/2 [==============================] - 0s 10ms/step - loss: 40.6584 - mae: 35.5469\n",
            "Epoch 171/500\n",
            "2/2 [==============================] - 0s 10ms/step - loss: 40.6382 - mae: 35.4953\n",
            "Epoch 172/500\n",
            "2/2 [==============================] - 0s 13ms/step - loss: 40.5044 - mae: 35.6387\n",
            "Epoch 173/500\n",
            "2/2 [==============================] - 0s 12ms/step - loss: 40.7021 - mae: 33.5903\n",
            "Epoch 174/500\n",
            "2/2 [==============================] - 0s 11ms/step - loss: 40.5929 - mae: 35.0152\n",
            "Epoch 175/500\n",
            "2/2 [==============================] - 0s 12ms/step - loss: 40.5457 - mae: 34.6161\n",
            "Epoch 176/500\n",
            "2/2 [==============================] - 0s 10ms/step - loss: 40.7973 - mae: 33.4727\n",
            "Epoch 177/500\n",
            "2/2 [==============================] - 0s 12ms/step - loss: 40.7603 - mae: 33.4116\n",
            "Epoch 178/500\n",
            "2/2 [==============================] - 0s 13ms/step - loss: 40.6154 - mae: 33.8588\n",
            "Epoch 179/500\n",
            "2/2 [==============================] - 0s 11ms/step - loss: 40.0432 - mae: 34.5498\n",
            "Epoch 180/500\n",
            "2/2 [==============================] - 0s 14ms/step - loss: 40.6732 - mae: 33.9995\n",
            "Epoch 181/500\n",
            "2/2 [==============================] - 0s 13ms/step - loss: 40.7273 - mae: 33.3723\n",
            "Epoch 182/500\n",
            "2/2 [==============================] - 0s 9ms/step - loss: 40.5144 - mae: 32.6818\n",
            "Epoch 183/500\n",
            "2/2 [==============================] - 0s 13ms/step - loss: 39.8283 - mae: 33.7398\n",
            "Epoch 184/500\n",
            "2/2 [==============================] - 0s 9ms/step - loss: 41.4145 - mae: 27.1227\n",
            "Epoch 185/500\n",
            "2/2 [==============================] - 0s 11ms/step - loss: 40.7827 - mae: 31.4033\n",
            "Epoch 186/500\n",
            "2/2 [==============================] - 0s 10ms/step - loss: 40.4773 - mae: 31.0058\n",
            "Epoch 187/500\n",
            "2/2 [==============================] - 0s 9ms/step - loss: 40.6855 - mae: 33.0574\n",
            "Epoch 188/500\n",
            "2/2 [==============================] - 0s 10ms/step - loss: 40.2969 - mae: 32.1012\n",
            "Epoch 189/500\n",
            "2/2 [==============================] - 0s 9ms/step - loss: 40.7953 - mae: 32.8368\n",
            "Epoch 190/500\n",
            "2/2 [==============================] - 0s 12ms/step - loss: 40.7050 - mae: 34.6203\n",
            "Epoch 191/500\n",
            "2/2 [==============================] - 0s 11ms/step - loss: 40.5962 - mae: 34.8572\n",
            "Epoch 192/500\n",
            "2/2 [==============================] - 0s 13ms/step - loss: 40.3070 - mae: 35.4260\n",
            "Epoch 193/500\n",
            "2/2 [==============================] - 0s 9ms/step - loss: 40.5679 - mae: 33.0753\n",
            "Epoch 194/500\n",
            "2/2 [==============================] - 0s 12ms/step - loss: 40.6490 - mae: 34.2481\n",
            "Epoch 195/500\n",
            "2/2 [==============================] - 0s 11ms/step - loss: 40.5985 - mae: 34.9580\n",
            "Epoch 196/500\n",
            "2/2 [==============================] - 0s 13ms/step - loss: 39.4570 - mae: 33.9733\n",
            "Epoch 197/500\n",
            "2/2 [==============================] - 0s 12ms/step - loss: 40.9029 - mae: 32.1056\n",
            "Epoch 198/500\n",
            "2/2 [==============================] - 0s 10ms/step - loss: 40.4728 - mae: 32.3636\n",
            "Epoch 199/500\n",
            "2/2 [==============================] - 0s 8ms/step - loss: 40.9313 - mae: 30.9201\n",
            "Epoch 200/500\n",
            "2/2 [==============================] - 0s 9ms/step - loss: 40.8649 - mae: 32.0204\n",
            "Epoch 201/500\n",
            "2/2 [==============================] - 0s 12ms/step - loss: 40.1651 - mae: 33.4367\n",
            "Epoch 202/500\n",
            "2/2 [==============================] - 0s 10ms/step - loss: 41.0732 - mae: 29.7285\n",
            "Epoch 203/500\n",
            "2/2 [==============================] - 0s 13ms/step - loss: 40.7522 - mae: 32.5419\n",
            "Epoch 204/500\n",
            "2/2 [==============================] - 0s 11ms/step - loss: 40.7976 - mae: 33.0163\n",
            "Epoch 205/500\n",
            "2/2 [==============================] - 0s 10ms/step - loss: 40.6248 - mae: 33.9688\n",
            "Epoch 206/500\n",
            "2/2 [==============================] - 0s 12ms/step - loss: 40.7006 - mae: 34.8585\n",
            "Epoch 207/500\n",
            "2/2 [==============================] - 0s 9ms/step - loss: 40.4818 - mae: 35.4655\n",
            "Epoch 208/500\n",
            "2/2 [==============================] - 0s 11ms/step - loss: 40.6663 - mae: 33.5388\n",
            "Epoch 209/500\n",
            "2/2 [==============================] - 0s 11ms/step - loss: 40.0532 - mae: 33.9319\n",
            "Epoch 210/500\n",
            "2/2 [==============================] - 0s 9ms/step - loss: 41.0529 - mae: 30.5094\n",
            "Epoch 211/500\n",
            "2/2 [==============================] - 0s 12ms/step - loss: 40.8558 - mae: 31.0911\n",
            "Epoch 212/500\n",
            "2/2 [==============================] - 0s 10ms/step - loss: 40.6493 - mae: 33.0022\n",
            "Epoch 213/500\n",
            "2/2 [==============================] - 0s 11ms/step - loss: 40.6818 - mae: 34.4800\n",
            "Epoch 214/500\n",
            "2/2 [==============================] - 0s 12ms/step - loss: 40.6616 - mae: 34.5474\n",
            "Epoch 215/500\n",
            "2/2 [==============================] - 0s 13ms/step - loss: 40.6796 - mae: 33.9341\n",
            "Epoch 216/500\n",
            "2/2 [==============================] - 0s 12ms/step - loss: 40.5573 - mae: 34.8875\n",
            "Epoch 217/500\n",
            "2/2 [==============================] - 0s 10ms/step - loss: 39.8867 - mae: 34.0545\n",
            "Epoch 218/500\n",
            "2/2 [==============================] - 0s 11ms/step - loss: 40.3923 - mae: 33.4778\n",
            "Epoch 219/500\n",
            "2/2 [==============================] - 0s 12ms/step - loss: 40.7174 - mae: 34.3948\n",
            "Epoch 220/500\n",
            "2/2 [==============================] - 0s 10ms/step - loss: 39.9610 - mae: 34.2573\n",
            "Epoch 221/500\n",
            "2/2 [==============================] - 0s 9ms/step - loss: 40.9837 - mae: 30.2972\n",
            "Epoch 222/500\n",
            "2/2 [==============================] - 0s 11ms/step - loss: 40.7675 - mae: 30.0164\n",
            "Epoch 223/500\n",
            "2/2 [==============================] - 0s 17ms/step - loss: 40.0493 - mae: 32.0403\n",
            "Epoch 224/500\n",
            "2/2 [==============================] - 0s 11ms/step - loss: 40.7423 - mae: 32.6235\n",
            "Epoch 225/500\n",
            "2/2 [==============================] - 0s 12ms/step - loss: 40.6613 - mae: 32.2757\n",
            "Epoch 226/500\n",
            "2/2 [==============================] - 0s 9ms/step - loss: 40.8485 - mae: 32.1761\n",
            "Epoch 227/500\n",
            "2/2 [==============================] - 0s 10ms/step - loss: 40.7630 - mae: 31.8393\n",
            "Epoch 228/500\n",
            "2/2 [==============================] - 0s 9ms/step - loss: 40.4183 - mae: 33.6695\n",
            "Epoch 229/500\n",
            "2/2 [==============================] - 0s 9ms/step - loss: 40.6858 - mae: 34.1327\n",
            "Epoch 230/500\n",
            "2/2 [==============================] - 0s 9ms/step - loss: 40.3982 - mae: 34.9690\n",
            "Epoch 231/500\n",
            "2/2 [==============================] - 0s 9ms/step - loss: 40.8025 - mae: 32.6941\n",
            "Epoch 232/500\n",
            "2/2 [==============================] - 0s 9ms/step - loss: 40.7363 - mae: 33.6224\n",
            "Epoch 233/500\n",
            "2/2 [==============================] - 0s 10ms/step - loss: 40.7201 - mae: 34.1611\n",
            "Epoch 234/500\n",
            "2/2 [==============================] - 0s 13ms/step - loss: 40.4241 - mae: 34.6741\n",
            "Epoch 235/500\n",
            "2/2 [==============================] - 0s 14ms/step - loss: 40.6626 - mae: 33.9614\n",
            "Epoch 236/500\n",
            "2/2 [==============================] - 0s 11ms/step - loss: 40.6244 - mae: 34.2221\n",
            "Epoch 237/500\n",
            "2/2 [==============================] - 0s 12ms/step - loss: 40.4035 - mae: 34.9088\n",
            "Epoch 238/500\n",
            "2/2 [==============================] - 0s 11ms/step - loss: 40.6692 - mae: 34.8684\n",
            "Epoch 239/500\n",
            "2/2 [==============================] - 0s 11ms/step - loss: 40.6618 - mae: 35.3568\n",
            "Epoch 240/500\n",
            "2/2 [==============================] - 0s 13ms/step - loss: 40.6185 - mae: 35.4483\n",
            "Epoch 241/500\n",
            "2/2 [==============================] - 0s 12ms/step - loss: 40.6438 - mae: 35.4932\n",
            "Epoch 242/500\n",
            "2/2 [==============================] - 0s 14ms/step - loss: 40.6135 - mae: 36.2123\n",
            "Epoch 243/500\n",
            "2/2 [==============================] - 0s 11ms/step - loss: 40.4301 - mae: 35.9332\n",
            "Epoch 244/500\n",
            "2/2 [==============================] - 0s 12ms/step - loss: 40.6520 - mae: 36.1866\n",
            "Epoch 245/500\n",
            "2/2 [==============================] - 0s 12ms/step - loss: 40.6373 - mae: 35.6812\n",
            "Epoch 246/500\n",
            "2/2 [==============================] - 0s 9ms/step - loss: 40.5959 - mae: 36.3485\n",
            "Epoch 247/500\n",
            "2/2 [==============================] - 0s 9ms/step - loss: 40.6428 - mae: 35.1813\n",
            "Epoch 248/500\n",
            "2/2 [==============================] - 0s 9ms/step - loss: 40.6631 - mae: 35.3607\n",
            "Epoch 249/500\n",
            "2/2 [==============================] - 0s 9ms/step - loss: 40.5499 - mae: 35.4929\n",
            "Epoch 250/500\n",
            "2/2 [==============================] - 0s 9ms/step - loss: 40.6101 - mae: 33.9729\n",
            "Epoch 251/500\n",
            "2/2 [==============================] - 0s 10ms/step - loss: 40.2282 - mae: 34.3730\n",
            "Epoch 252/500\n",
            "2/2 [==============================] - 0s 16ms/step - loss: 40.9443 - mae: 31.2084\n",
            "Epoch 253/500\n",
            "2/2 [==============================] - 0s 20ms/step - loss: 40.8172 - mae: 31.1772\n",
            "Epoch 254/500\n",
            "2/2 [==============================] - 0s 16ms/step - loss: 40.5347 - mae: 33.1667\n",
            "Epoch 255/500\n",
            "2/2 [==============================] - 0s 12ms/step - loss: 40.9188 - mae: 31.0438\n",
            "Epoch 256/500\n",
            "2/2 [==============================] - 0s 11ms/step - loss: 40.5074 - mae: 31.9958\n",
            "Epoch 257/500\n",
            "2/2 [==============================] - 0s 13ms/step - loss: 40.7382 - mae: 32.5946\n",
            "Epoch 258/500\n",
            "2/2 [==============================] - 0s 11ms/step - loss: 40.6407 - mae: 33.7890\n",
            "Epoch 259/500\n",
            "2/2 [==============================] - 0s 10ms/step - loss: 40.4067 - mae: 33.5735\n",
            "Epoch 260/500\n",
            "2/2 [==============================] - 0s 14ms/step - loss: 40.8576 - mae: 31.1626\n",
            "Epoch 261/500\n",
            "2/2 [==============================] - 0s 13ms/step - loss: 40.1157 - mae: 30.4359\n",
            "Epoch 262/500\n",
            "2/2 [==============================] - 0s 9ms/step - loss: 40.1670 - mae: 30.8546\n",
            "Epoch 263/500\n",
            "2/2 [==============================] - 0s 10ms/step - loss: 40.8882 - mae: 31.6072\n",
            "Epoch 264/500\n",
            "2/2 [==============================] - 0s 10ms/step - loss: 39.9897 - mae: 32.2962\n",
            "Epoch 265/500\n",
            "2/2 [==============================] - 0s 10ms/step - loss: 40.4212 - mae: 32.5322\n",
            "Epoch 266/500\n",
            "2/2 [==============================] - 0s 18ms/step - loss: 40.6215 - mae: 33.4651\n",
            "Epoch 267/500\n",
            "2/2 [==============================] - 0s 12ms/step - loss: 40.6459 - mae: 35.1130\n",
            "Epoch 268/500\n",
            "2/2 [==============================] - 0s 12ms/step - loss: 40.4166 - mae: 34.7212\n",
            "Epoch 269/500\n",
            "2/2 [==============================] - 0s 10ms/step - loss: 40.7933 - mae: 32.4937\n",
            "Epoch 270/500\n",
            "2/2 [==============================] - 0s 12ms/step - loss: 40.0021 - mae: 33.3305\n",
            "Epoch 271/500\n",
            "2/2 [==============================] - 0s 10ms/step - loss: 40.4201 - mae: 33.7338\n",
            "Epoch 272/500\n",
            "2/2 [==============================] - 0s 13ms/step - loss: 40.7307 - mae: 32.7427\n",
            "Epoch 273/500\n",
            "2/2 [==============================] - 0s 10ms/step - loss: 40.5822 - mae: 34.4298\n",
            "Epoch 274/500\n",
            "2/2 [==============================] - 0s 9ms/step - loss: 39.9018 - mae: 35.0234\n",
            "Epoch 275/500\n",
            "2/2 [==============================] - 0s 12ms/step - loss: 41.1269 - mae: 29.6903\n",
            "Epoch 276/500\n",
            "2/2 [==============================] - 0s 8ms/step - loss: 40.9450 - mae: 31.0169\n",
            "Epoch 277/500\n",
            "2/2 [==============================] - 0s 12ms/step - loss: 40.2288 - mae: 32.6414\n",
            "Epoch 278/500\n",
            "2/2 [==============================] - 0s 17ms/step - loss: 40.7948 - mae: 33.0441\n",
            "Epoch 279/500\n",
            "2/2 [==============================] - 0s 9ms/step - loss: 40.6674 - mae: 32.8769\n",
            "Epoch 280/500\n",
            "2/2 [==============================] - 0s 13ms/step - loss: 40.8548 - mae: 32.0671\n",
            "Epoch 281/500\n",
            "2/2 [==============================] - 0s 13ms/step - loss: 40.7106 - mae: 33.1174\n",
            "Epoch 282/500\n",
            "2/2 [==============================] - 0s 9ms/step - loss: 40.6969 - mae: 33.3551\n",
            "Epoch 283/500\n",
            "2/2 [==============================] - 0s 10ms/step - loss: 40.5542 - mae: 34.7800\n",
            "Epoch 284/500\n",
            "2/2 [==============================] - 0s 12ms/step - loss: 40.6061 - mae: 34.3143\n",
            "Epoch 285/500\n",
            "2/2 [==============================] - 0s 11ms/step - loss: 40.5253 - mae: 34.2756\n",
            "Epoch 286/500\n",
            "2/2 [==============================] - 0s 11ms/step - loss: 40.4892 - mae: 33.0773\n",
            "Epoch 287/500\n",
            "2/2 [==============================] - 0s 12ms/step - loss: 40.8952 - mae: 31.4618\n",
            "Epoch 288/500\n",
            "2/2 [==============================] - 0s 11ms/step - loss: 40.6881 - mae: 32.6505\n",
            "Epoch 289/500\n",
            "2/2 [==============================] - 0s 10ms/step - loss: 40.7040 - mae: 33.9539\n",
            "Epoch 290/500\n",
            "2/2 [==============================] - 0s 25ms/step - loss: 40.6532 - mae: 34.7905\n",
            "Epoch 291/500\n",
            "2/2 [==============================] - 0s 9ms/step - loss: 40.5862 - mae: 34.8991\n",
            "Epoch 292/500\n",
            "2/2 [==============================] - 0s 10ms/step - loss: 40.3992 - mae: 35.9488\n",
            "Epoch 293/500\n",
            "2/2 [==============================] - 0s 15ms/step - loss: 40.4576 - mae: 33.6830\n",
            "Epoch 294/500\n",
            "2/2 [==============================] - 0s 13ms/step - loss: 40.8144 - mae: 32.6001\n",
            "Epoch 295/500\n",
            "2/2 [==============================] - 0s 11ms/step - loss: 40.7258 - mae: 33.5262\n",
            "Epoch 296/500\n",
            "2/2 [==============================] - 0s 13ms/step - loss: 40.5313 - mae: 33.5376\n",
            "Epoch 297/500\n",
            "2/2 [==============================] - 0s 16ms/step - loss: 40.6531 - mae: 34.2232\n",
            "Epoch 298/500\n",
            "2/2 [==============================] - 0s 10ms/step - loss: 40.6783 - mae: 33.7351\n",
            "Epoch 299/500\n",
            "2/2 [==============================] - 0s 12ms/step - loss: 40.4077 - mae: 34.3383\n",
            "Epoch 300/500\n",
            "2/2 [==============================] - 0s 13ms/step - loss: 40.4886 - mae: 32.2897\n",
            "Epoch 301/500\n",
            "2/2 [==============================] - 0s 11ms/step - loss: 40.5443 - mae: 29.7423\n",
            "Epoch 302/500\n",
            "2/2 [==============================] - 0s 16ms/step - loss: 40.8473 - mae: 31.5807\n",
            "Epoch 303/500\n",
            "2/2 [==============================] - 0s 11ms/step - loss: 40.9687 - mae: 30.8875\n",
            "Epoch 304/500\n",
            "2/2 [==============================] - 0s 13ms/step - loss: 39.9306 - mae: 31.4779\n",
            "Epoch 305/500\n",
            "2/2 [==============================] - 0s 14ms/step - loss: 40.8835 - mae: 31.2895\n",
            "Epoch 306/500\n",
            "2/2 [==============================] - 0s 13ms/step - loss: 40.7483 - mae: 32.2116\n",
            "Epoch 307/500\n",
            "2/2 [==============================] - 0s 13ms/step - loss: 40.6565 - mae: 33.6051\n",
            "Epoch 308/500\n",
            "2/2 [==============================] - 0s 14ms/step - loss: 40.7008 - mae: 33.9576\n",
            "Epoch 309/500\n",
            "2/2 [==============================] - 0s 11ms/step - loss: 40.6742 - mae: 34.6079\n",
            "Epoch 310/500\n",
            "2/2 [==============================] - 0s 15ms/step - loss: 40.5864 - mae: 35.0418\n",
            "Epoch 311/500\n",
            "2/2 [==============================] - 0s 12ms/step - loss: 40.1160 - mae: 35.7401\n",
            "Epoch 312/500\n",
            "2/2 [==============================] - 0s 12ms/step - loss: 40.8051 - mae: 31.7752\n",
            "Epoch 313/500\n",
            "2/2 [==============================] - 0s 12ms/step - loss: 39.7238 - mae: 31.1645\n",
            "Epoch 314/500\n",
            "2/2 [==============================] - 0s 14ms/step - loss: 40.8502 - mae: 31.5028\n",
            "Epoch 315/500\n",
            "2/2 [==============================] - 0s 9ms/step - loss: 40.7725 - mae: 32.4701\n",
            "Epoch 316/500\n",
            "2/2 [==============================] - 0s 10ms/step - loss: 40.0641 - mae: 34.1968\n",
            "Epoch 317/500\n",
            "2/2 [==============================] - 0s 14ms/step - loss: 40.8805 - mae: 29.9288\n",
            "Epoch 318/500\n",
            "2/2 [==============================] - 0s 10ms/step - loss: 40.9457 - mae: 31.7945\n",
            "Epoch 319/500\n",
            "2/2 [==============================] - 0s 10ms/step - loss: 40.8697 - mae: 31.8788\n",
            "Epoch 320/500\n",
            "2/2 [==============================] - 0s 11ms/step - loss: 40.7122 - mae: 33.5882\n",
            "Epoch 321/500\n",
            "2/2 [==============================] - 0s 10ms/step - loss: 40.2133 - mae: 34.8504\n",
            "Epoch 322/500\n",
            "2/2 [==============================] - 0s 10ms/step - loss: 40.6603 - mae: 34.9319\n",
            "Epoch 323/500\n",
            "2/2 [==============================] - 0s 9ms/step - loss: 40.6597 - mae: 35.2505\n",
            "Epoch 324/500\n",
            "2/2 [==============================] - 0s 10ms/step - loss: 40.5711 - mae: 35.4297\n",
            "Epoch 325/500\n",
            "2/2 [==============================] - 0s 10ms/step - loss: 40.6089 - mae: 34.9241\n",
            "Epoch 326/500\n",
            "2/2 [==============================] - 0s 10ms/step - loss: 40.6054 - mae: 35.0724\n",
            "Epoch 327/500\n",
            "2/2 [==============================] - 0s 9ms/step - loss: 40.3188 - mae: 35.1885\n",
            "Epoch 328/500\n",
            "2/2 [==============================] - 0s 9ms/step - loss: 40.5872 - mae: 35.4371\n",
            "Epoch 329/500\n",
            "2/2 [==============================] - 0s 10ms/step - loss: 40.5442 - mae: 35.8516\n",
            "Epoch 330/500\n",
            "2/2 [==============================] - 0s 11ms/step - loss: 40.5816 - mae: 36.1669\n",
            "Epoch 331/500\n",
            "2/2 [==============================] - 0s 10ms/step - loss: 40.3669 - mae: 35.5546\n",
            "Epoch 332/500\n",
            "2/2 [==============================] - 0s 10ms/step - loss: 40.6606 - mae: 33.9524\n",
            "Epoch 333/500\n",
            "2/2 [==============================] - 0s 12ms/step - loss: 40.6605 - mae: 34.2288\n",
            "Epoch 334/500\n",
            "2/2 [==============================] - 0s 12ms/step - loss: 40.4777 - mae: 34.5964\n",
            "Epoch 335/500\n",
            "2/2 [==============================] - 0s 13ms/step - loss: 40.0122 - mae: 35.1917\n",
            "Epoch 336/500\n",
            "2/2 [==============================] - 0s 10ms/step - loss: 40.8207 - mae: 31.8985\n",
            "Epoch 337/500\n",
            "2/2 [==============================] - 0s 14ms/step - loss: 40.3067 - mae: 33.0695\n",
            "Epoch 338/500\n",
            "2/2 [==============================] - 0s 17ms/step - loss: 40.4683 - mae: 33.0996\n",
            "Epoch 339/500\n",
            "2/2 [==============================] - 0s 14ms/step - loss: 40.4871 - mae: 33.5440\n",
            "Epoch 340/500\n",
            "2/2 [==============================] - 0s 9ms/step - loss: 40.7129 - mae: 33.9667\n",
            "Epoch 341/500\n",
            "2/2 [==============================] - 0s 10ms/step - loss: 40.4531 - mae: 34.6054\n",
            "Epoch 342/500\n",
            "2/2 [==============================] - 0s 9ms/step - loss: 40.1313 - mae: 35.3320\n",
            "Epoch 343/500\n",
            "2/2 [==============================] - 0s 10ms/step - loss: 40.1576 - mae: 34.8886\n",
            "Epoch 344/500\n",
            "2/2 [==============================] - 0s 10ms/step - loss: 39.6006 - mae: 35.2066\n",
            "Epoch 345/500\n",
            "2/2 [==============================] - 0s 10ms/step - loss: 41.3962 - mae: 27.5574\n",
            "Epoch 346/500\n",
            "2/2 [==============================] - 0s 11ms/step - loss: 40.9172 - mae: 30.4156\n",
            "Epoch 347/500\n",
            "2/2 [==============================] - 0s 11ms/step - loss: 40.9452 - mae: 30.6903\n",
            "Epoch 348/500\n",
            "2/2 [==============================] - 0s 11ms/step - loss: 40.6517 - mae: 32.9756\n",
            "Epoch 349/500\n",
            "2/2 [==============================] - 0s 12ms/step - loss: 40.6850 - mae: 34.3065\n",
            "Epoch 350/500\n",
            "2/2 [==============================] - 0s 14ms/step - loss: 39.7839 - mae: 34.5443\n",
            "Epoch 351/500\n",
            "2/2 [==============================] - 0s 11ms/step - loss: 40.8910 - mae: 29.6172\n",
            "Epoch 352/500\n",
            "2/2 [==============================] - 0s 12ms/step - loss: 40.9905 - mae: 30.4958\n",
            "Epoch 353/500\n",
            "2/2 [==============================] - 0s 9ms/step - loss: 40.7698 - mae: 32.2415\n",
            "Epoch 354/500\n",
            "2/2 [==============================] - 0s 10ms/step - loss: 40.6370 - mae: 33.5556\n",
            "Epoch 355/500\n",
            "2/2 [==============================] - 0s 12ms/step - loss: 40.5580 - mae: 34.4660\n",
            "Epoch 356/500\n",
            "2/2 [==============================] - 0s 12ms/step - loss: 40.3139 - mae: 35.1260\n",
            "Epoch 357/500\n",
            "2/2 [==============================] - 0s 13ms/step - loss: 40.2491 - mae: 32.4098\n",
            "Epoch 358/500\n",
            "2/2 [==============================] - 0s 11ms/step - loss: 40.9802 - mae: 30.7017\n",
            "Epoch 359/500\n",
            "2/2 [==============================] - 0s 10ms/step - loss: 40.4121 - mae: 32.2083\n",
            "Epoch 360/500\n",
            "2/2 [==============================] - 0s 11ms/step - loss: 40.7773 - mae: 30.8195\n",
            "Epoch 361/500\n",
            "2/2 [==============================] - 0s 12ms/step - loss: 40.6553 - mae: 33.0028\n",
            "Epoch 362/500\n",
            "2/2 [==============================] - 0s 11ms/step - loss: 40.6192 - mae: 33.0471\n",
            "Epoch 363/500\n",
            "2/2 [==============================] - 0s 11ms/step - loss: 40.3238 - mae: 32.3365\n",
            "Epoch 364/500\n",
            "2/2 [==============================] - 0s 13ms/step - loss: 40.9959 - mae: 29.0747\n",
            "Epoch 365/500\n",
            "2/2 [==============================] - 0s 13ms/step - loss: 40.4145 - mae: 31.6536\n",
            "Epoch 366/500\n",
            "2/2 [==============================] - 0s 11ms/step - loss: 40.0210 - mae: 33.3165\n",
            "Epoch 367/500\n",
            "2/2 [==============================] - 0s 9ms/step - loss: 41.0422 - mae: 29.7272\n",
            "Epoch 368/500\n",
            "2/2 [==============================] - 0s 8ms/step - loss: 40.7430 - mae: 30.9626\n",
            "Epoch 369/500\n",
            "2/2 [==============================] - 0s 11ms/step - loss: 40.7347 - mae: 33.3461\n",
            "Epoch 370/500\n",
            "2/2 [==============================] - 0s 9ms/step - loss: 40.6779 - mae: 33.8518\n",
            "Epoch 371/500\n",
            "2/2 [==============================] - 0s 14ms/step - loss: 40.5051 - mae: 34.1133\n",
            "Epoch 372/500\n",
            "2/2 [==============================] - 0s 14ms/step - loss: 40.5493 - mae: 35.0678\n",
            "Epoch 373/500\n",
            "2/2 [==============================] - 0s 13ms/step - loss: 40.6679 - mae: 34.3672\n",
            "Epoch 374/500\n",
            "2/2 [==============================] - 0s 12ms/step - loss: 40.5676 - mae: 34.6919\n",
            "Epoch 375/500\n",
            "2/2 [==============================] - 0s 11ms/step - loss: 40.5109 - mae: 35.3841\n",
            "Epoch 376/500\n",
            "2/2 [==============================] - 0s 14ms/step - loss: 40.2287 - mae: 35.7957\n",
            "Epoch 377/500\n",
            "2/2 [==============================] - 0s 10ms/step - loss: 40.4532 - mae: 35.8005\n",
            "Epoch 378/500\n",
            "2/2 [==============================] - 0s 14ms/step - loss: 40.5323 - mae: 35.3994\n",
            "Epoch 379/500\n",
            "2/2 [==============================] - 0s 11ms/step - loss: 40.5321 - mae: 34.8529\n",
            "Epoch 380/500\n",
            "2/2 [==============================] - 0s 9ms/step - loss: 40.6885 - mae: 33.8246\n",
            "Epoch 381/500\n",
            "2/2 [==============================] - 0s 13ms/step - loss: 40.5959 - mae: 35.4688\n",
            "Epoch 382/500\n",
            "2/2 [==============================] - 0s 10ms/step - loss: 40.5383 - mae: 35.5951\n",
            "Epoch 383/500\n",
            "2/2 [==============================] - 0s 12ms/step - loss: 40.4316 - mae: 35.1366\n",
            "Epoch 384/500\n",
            "2/2 [==============================] - 0s 11ms/step - loss: 40.1057 - mae: 35.1622\n",
            "Epoch 385/500\n",
            "2/2 [==============================] - 0s 10ms/step - loss: 40.6376 - mae: 34.9422\n",
            "Epoch 386/500\n",
            "2/2 [==============================] - 0s 10ms/step - loss: 40.6183 - mae: 35.0727\n",
            "Epoch 387/500\n",
            "2/2 [==============================] - 0s 11ms/step - loss: 40.6020 - mae: 35.8707\n",
            "Epoch 388/500\n",
            "2/2 [==============================] - 0s 10ms/step - loss: 40.6570 - mae: 35.6273\n",
            "Epoch 389/500\n",
            "2/2 [==============================] - 0s 13ms/step - loss: 40.3115 - mae: 35.5018\n",
            "Epoch 390/500\n",
            "2/2 [==============================] - 0s 10ms/step - loss: 40.8016 - mae: 32.3933\n",
            "Epoch 391/500\n",
            "2/2 [==============================] - 0s 9ms/step - loss: 40.7540 - mae: 33.2812\n",
            "Epoch 392/500\n",
            "2/2 [==============================] - 0s 15ms/step - loss: 40.4620 - mae: 34.6054\n",
            "Epoch 393/500\n",
            "2/2 [==============================] - 0s 13ms/step - loss: 40.6395 - mae: 34.8897\n",
            "Epoch 394/500\n",
            "2/2 [==============================] - 0s 11ms/step - loss: 40.4767 - mae: 35.5996\n",
            "Epoch 395/500\n",
            "2/2 [==============================] - 0s 11ms/step - loss: 40.6685 - mae: 34.2546\n",
            "Epoch 396/500\n",
            "2/2 [==============================] - 0s 13ms/step - loss: 40.4325 - mae: 34.7980\n",
            "Epoch 397/500\n",
            "2/2 [==============================] - 0s 12ms/step - loss: 40.5844 - mae: 35.0153\n",
            "Epoch 398/500\n",
            "2/2 [==============================] - 0s 12ms/step - loss: 40.6491 - mae: 34.4706\n",
            "Epoch 399/500\n",
            "2/2 [==============================] - 0s 10ms/step - loss: 40.4934 - mae: 35.1285\n",
            "Epoch 400/500\n",
            "2/2 [==============================] - 0s 12ms/step - loss: 40.7307 - mae: 33.4829\n",
            "Epoch 401/500\n",
            "2/2 [==============================] - 0s 10ms/step - loss: 39.9384 - mae: 34.2174\n",
            "Epoch 402/500\n",
            "2/2 [==============================] - 0s 10ms/step - loss: 40.4523 - mae: 29.3053\n",
            "Epoch 403/500\n",
            "2/2 [==============================] - 0s 9ms/step - loss: 40.1595 - mae: 31.6600\n",
            "Epoch 404/500\n",
            "2/2 [==============================] - 0s 8ms/step - loss: 41.3362 - mae: 27.6828\n",
            "Epoch 405/500\n",
            "2/2 [==============================] - 0s 11ms/step - loss: 40.7630 - mae: 31.5768\n",
            "Epoch 406/500\n",
            "2/2 [==============================] - 0s 15ms/step - loss: 40.7638 - mae: 32.7987\n",
            "Epoch 407/500\n",
            "2/2 [==============================] - 0s 15ms/step - loss: 40.6597 - mae: 33.9353\n",
            "Epoch 408/500\n",
            "2/2 [==============================] - 0s 9ms/step - loss: 40.1246 - mae: 34.6389\n",
            "Epoch 409/500\n",
            "2/2 [==============================] - 0s 13ms/step - loss: 40.8367 - mae: 30.3274\n",
            "Epoch 410/500\n",
            "2/2 [==============================] - 0s 10ms/step - loss: 40.8773 - mae: 31.3006\n",
            "Epoch 411/500\n",
            "2/2 [==============================] - 0s 9ms/step - loss: 40.6670 - mae: 32.3652\n",
            "Epoch 412/500\n",
            "2/2 [==============================] - 0s 10ms/step - loss: 40.7678 - mae: 32.1884\n",
            "Epoch 413/500\n",
            "2/2 [==============================] - 0s 10ms/step - loss: 40.8368 - mae: 32.4715\n",
            "Epoch 414/500\n",
            "2/2 [==============================] - 0s 12ms/step - loss: 40.6968 - mae: 32.3857\n",
            "Epoch 415/500\n",
            "2/2 [==============================] - 0s 9ms/step - loss: 40.6353 - mae: 33.9519\n",
            "Epoch 416/500\n",
            "2/2 [==============================] - 0s 10ms/step - loss: 40.6391 - mae: 35.0673\n",
            "Epoch 417/500\n",
            "2/2 [==============================] - 0s 9ms/step - loss: 40.6167 - mae: 35.4844\n",
            "Epoch 418/500\n",
            "2/2 [==============================] - 0s 9ms/step - loss: 40.6223 - mae: 35.2492\n",
            "Epoch 419/500\n",
            "2/2 [==============================] - 0s 13ms/step - loss: 40.3709 - mae: 35.4834\n",
            "Epoch 420/500\n",
            "2/2 [==============================] - 0s 9ms/step - loss: 40.6371 - mae: 33.2994\n",
            "Epoch 421/500\n",
            "2/2 [==============================] - 0s 11ms/step - loss: 40.5784 - mae: 34.6300\n",
            "Epoch 422/500\n",
            "2/2 [==============================] - 0s 9ms/step - loss: 40.4858 - mae: 35.0683\n",
            "Epoch 423/500\n",
            "2/2 [==============================] - 0s 9ms/step - loss: 40.6704 - mae: 34.4820\n",
            "Epoch 424/500\n",
            "2/2 [==============================] - 0s 9ms/step - loss: 40.5263 - mae: 35.0989\n",
            "Epoch 425/500\n",
            "2/2 [==============================] - 0s 9ms/step - loss: 40.6552 - mae: 34.7448\n",
            "Epoch 426/500\n",
            "2/2 [==============================] - 0s 10ms/step - loss: 40.3873 - mae: 34.4116\n",
            "Epoch 427/500\n",
            "2/2 [==============================] - 0s 11ms/step - loss: 40.6588 - mae: 34.5675\n",
            "Epoch 428/500\n",
            "2/2 [==============================] - 0s 10ms/step - loss: 40.4460 - mae: 34.9022\n",
            "Epoch 429/500\n",
            "2/2 [==============================] - 0s 10ms/step - loss: 40.2406 - mae: 34.0749\n",
            "Epoch 430/500\n",
            "2/2 [==============================] - 0s 8ms/step - loss: 40.8194 - mae: 30.2221\n",
            "Epoch 431/500\n",
            "2/2 [==============================] - 0s 10ms/step - loss: 40.6378 - mae: 31.4943\n",
            "Epoch 432/500\n",
            "2/2 [==============================] - 0s 10ms/step - loss: 40.7377 - mae: 31.8041\n",
            "Epoch 433/500\n",
            "2/2 [==============================] - 0s 11ms/step - loss: 40.1699 - mae: 33.2345\n",
            "Epoch 434/500\n",
            "2/2 [==============================] - 0s 12ms/step - loss: 41.0406 - mae: 30.2209\n",
            "Epoch 435/500\n",
            "2/2 [==============================] - 0s 14ms/step - loss: 39.8156 - mae: 32.4070\n",
            "Epoch 436/500\n",
            "2/2 [==============================] - 0s 10ms/step - loss: 41.3925 - mae: 26.2972\n",
            "Epoch 437/500\n",
            "2/2 [==============================] - 0s 9ms/step - loss: 41.1366 - mae: 28.0845\n",
            "Epoch 438/500\n",
            "2/2 [==============================] - 0s 8ms/step - loss: 39.7047 - mae: 32.5670\n",
            "Epoch 439/500\n",
            "2/2 [==============================] - 0s 9ms/step - loss: 41.1206 - mae: 25.9198\n",
            "Epoch 440/500\n",
            "2/2 [==============================] - 0s 9ms/step - loss: 41.0594 - mae: 26.2246\n",
            "Epoch 441/500\n",
            "2/2 [==============================] - 0s 9ms/step - loss: 41.1548 - mae: 27.1279\n",
            "Epoch 442/500\n",
            "2/2 [==============================] - 0s 9ms/step - loss: 41.1394 - mae: 28.9775\n",
            "Epoch 443/500\n",
            "2/2 [==============================] - 0s 11ms/step - loss: 40.8970 - mae: 31.0284\n",
            "Epoch 444/500\n",
            "2/2 [==============================] - 0s 8ms/step - loss: 40.2343 - mae: 31.9474\n",
            "Epoch 445/500\n",
            "2/2 [==============================] - 0s 11ms/step - loss: 40.7284 - mae: 33.5495\n",
            "Epoch 446/500\n",
            "2/2 [==============================] - 0s 10ms/step - loss: 40.3403 - mae: 33.1988\n",
            "Epoch 447/500\n",
            "2/2 [==============================] - 0s 9ms/step - loss: 40.3124 - mae: 34.2149\n",
            "Epoch 448/500\n",
            "2/2 [==============================] - 0s 10ms/step - loss: 40.6543 - mae: 34.8431\n",
            "Epoch 449/500\n",
            "2/2 [==============================] - 0s 8ms/step - loss: 40.6152 - mae: 34.8647\n",
            "Epoch 450/500\n",
            "2/2 [==============================] - 0s 9ms/step - loss: 40.6002 - mae: 35.1823\n",
            "Epoch 451/500\n",
            "2/2 [==============================] - 0s 9ms/step - loss: 39.9822 - mae: 35.5500\n",
            "Epoch 452/500\n",
            "2/2 [==============================] - 0s 9ms/step - loss: 40.8147 - mae: 31.0815\n",
            "Epoch 453/500\n",
            "2/2 [==============================] - 0s 10ms/step - loss: 40.9089 - mae: 29.6152\n",
            "Epoch 454/500\n",
            "2/2 [==============================] - 0s 11ms/step - loss: 40.8900 - mae: 30.6510\n",
            "Epoch 455/500\n",
            "2/2 [==============================] - 0s 11ms/step - loss: 40.7127 - mae: 31.9464\n",
            "Epoch 456/500\n",
            "2/2 [==============================] - 0s 11ms/step - loss: 40.6391 - mae: 33.7664\n",
            "Epoch 457/500\n",
            "2/2 [==============================] - 0s 10ms/step - loss: 40.5788 - mae: 33.9639\n",
            "Epoch 458/500\n",
            "2/2 [==============================] - 0s 11ms/step - loss: 40.1860 - mae: 34.7677\n",
            "Epoch 459/500\n",
            "2/2 [==============================] - 0s 12ms/step - loss: 40.7548 - mae: 32.2068\n",
            "Epoch 460/500\n",
            "2/2 [==============================] - 0s 11ms/step - loss: 40.7479 - mae: 32.9035\n",
            "Epoch 461/500\n",
            "2/2 [==============================] - 0s 12ms/step - loss: 40.6498 - mae: 33.7580\n",
            "Epoch 462/500\n",
            "2/2 [==============================] - 0s 10ms/step - loss: 40.6544 - mae: 34.3330\n",
            "Epoch 463/500\n",
            "2/2 [==============================] - 0s 9ms/step - loss: 40.5915 - mae: 34.8348\n",
            "Epoch 464/500\n",
            "2/2 [==============================] - 0s 10ms/step - loss: 40.4284 - mae: 35.4344\n",
            "Epoch 465/500\n",
            "2/2 [==============================] - 0s 10ms/step - loss: 40.4104 - mae: 35.5281\n",
            "Epoch 466/500\n",
            "2/2 [==============================] - 0s 10ms/step - loss: 40.5695 - mae: 35.6535\n",
            "Epoch 467/500\n",
            "2/2 [==============================] - 0s 10ms/step - loss: 40.6477 - mae: 35.1243\n",
            "Epoch 468/500\n",
            "2/2 [==============================] - 0s 10ms/step - loss: 40.5384 - mae: 34.9638\n",
            "Epoch 469/500\n",
            "2/2 [==============================] - 0s 11ms/step - loss: 40.6369 - mae: 34.2401\n",
            "Epoch 470/500\n",
            "2/2 [==============================] - 0s 10ms/step - loss: 40.6311 - mae: 34.4277\n",
            "Epoch 471/500\n",
            "2/2 [==============================] - 0s 13ms/step - loss: 40.5356 - mae: 34.8514\n",
            "Epoch 472/500\n",
            "2/2 [==============================] - 0s 11ms/step - loss: 40.6018 - mae: 35.3825\n",
            "Epoch 473/500\n",
            "2/2 [==============================] - 0s 11ms/step - loss: 40.4691 - mae: 36.0486\n",
            "Epoch 474/500\n",
            "2/2 [==============================] - 0s 9ms/step - loss: 40.5681 - mae: 34.6031\n",
            "Epoch 475/500\n",
            "2/2 [==============================] - 0s 9ms/step - loss: 40.2351 - mae: 34.4963\n",
            "Epoch 476/500\n",
            "2/2 [==============================] - 0s 10ms/step - loss: 40.4590 - mae: 35.1362\n",
            "Epoch 477/500\n",
            "2/2 [==============================] - 0s 9ms/step - loss: 40.6628 - mae: 33.4967\n",
            "Epoch 478/500\n",
            "2/2 [==============================] - 0s 8ms/step - loss: 40.2778 - mae: 32.8744\n",
            "Epoch 479/500\n",
            "2/2 [==============================] - 0s 10ms/step - loss: 40.6673 - mae: 33.4998\n",
            "Epoch 480/500\n",
            "2/2 [==============================] - 0s 10ms/step - loss: 40.6999 - mae: 33.0004\n",
            "Epoch 481/500\n",
            "2/2 [==============================] - 0s 10ms/step - loss: 40.6079 - mae: 33.6814\n",
            "Epoch 482/500\n",
            "2/2 [==============================] - 0s 11ms/step - loss: 40.6353 - mae: 33.3697\n",
            "Epoch 483/500\n",
            "2/2 [==============================] - 0s 9ms/step - loss: 40.3569 - mae: 33.9372\n",
            "Epoch 484/500\n",
            "2/2 [==============================] - 0s 9ms/step - loss: 39.9433 - mae: 31.3111\n",
            "Epoch 485/500\n",
            "2/2 [==============================] - 0s 10ms/step - loss: 40.7029 - mae: 31.8216\n",
            "Epoch 486/500\n",
            "2/2 [==============================] - 0s 10ms/step - loss: 39.9154 - mae: 32.3343\n",
            "Epoch 487/500\n",
            "2/2 [==============================] - 0s 11ms/step - loss: 40.6166 - mae: 32.9082\n",
            "Epoch 488/500\n",
            "2/2 [==============================] - 0s 11ms/step - loss: 39.8386 - mae: 31.9899\n",
            "Epoch 489/500\n",
            "2/2 [==============================] - 0s 10ms/step - loss: 40.4881 - mae: 32.0626\n",
            "Epoch 490/500\n",
            "2/2 [==============================] - 0s 10ms/step - loss: 40.6557 - mae: 34.0365\n",
            "Epoch 491/500\n",
            "2/2 [==============================] - 0s 10ms/step - loss: 40.6453 - mae: 34.5867\n",
            "Epoch 492/500\n",
            "2/2 [==============================] - 0s 9ms/step - loss: 40.6231 - mae: 34.2630\n",
            "Epoch 493/500\n",
            "2/2 [==============================] - 0s 11ms/step - loss: 40.5250 - mae: 34.5327\n",
            "Epoch 494/500\n",
            "2/2 [==============================] - 0s 12ms/step - loss: 40.1774 - mae: 34.8937\n",
            "Epoch 495/500\n",
            "2/2 [==============================] - 0s 10ms/step - loss: 40.5474 - mae: 35.0698\n",
            "Epoch 496/500\n",
            "2/2 [==============================] - 0s 11ms/step - loss: 40.5755 - mae: 35.1336\n",
            "Epoch 497/500\n",
            "2/2 [==============================] - 0s 11ms/step - loss: 40.2588 - mae: 35.3640\n",
            "Epoch 498/500\n",
            "2/2 [==============================] - 0s 11ms/step - loss: 40.8573 - mae: 32.2005\n",
            "Epoch 499/500\n",
            "2/2 [==============================] - 0s 9ms/step - loss: 40.6101 - mae: 32.3210\n",
            "Epoch 500/500\n",
            "2/2 [==============================] - 0s 11ms/step - loss: 39.7466 - mae: 32.3440\n"
          ]
        },
        {
          "output_type": "execute_result",
          "data": {
            "text/plain": [
              "<keras.src.callbacks.History at 0x79392cac84f0>"
            ]
          },
          "metadata": {},
          "execution_count": 59
        }
      ]
    },
    {
      "cell_type": "code",
      "source": [
        "# Make and plot some predictions\n",
        "\n",
        "y_preds_3 = model_3.predict(x_test)\n",
        "plot_predictions(predictions = y_preds_3)"
      ],
      "metadata": {
        "colab": {
          "base_uri": "https://localhost:8080/",
          "height": 503
        },
        "id": "uKfdkv17FlEB",
        "outputId": "fd9a7cef-fe47-448f-ef10-c4068ac08b64"
      },
      "execution_count": 60,
      "outputs": [
        {
          "output_type": "stream",
          "name": "stdout",
          "text": [
            "1/1 [==============================] - 0s 118ms/step\n"
          ]
        },
        {
          "output_type": "display_data",
          "data": {
            "text/plain": [
              "<Figure size 1000x700 with 1 Axes>"
            ],
            "image/png": "[encoded data removed]"
          },
          "metadata": {}
        }
      ]
    },
    {
      "cell_type": "code",
      "source": [
        "# Calculate model_3 evaluation metrics\n",
        "\n",
        "mae_3 = mae(y_test, y_preds_3)\n",
        "mse_3 = mse(y_test, y_preds_3)\n",
        "mae_3, mse_3"
      ],
      "metadata": {
        "colab": {
          "base_uri": "https://localhost:8080/"
        },
        "id": "AZTlLn1rGIGp",
        "outputId": "dc19087d-a9af-4996-f561-28c19c75dd9b"
      },
      "execution_count": 61,
      "outputs": [
        {
          "output_type": "execute_result",
          "data": {
            "text/plain": [
              "(<tf.Tensor: shape=(), dtype=float32, numpy=63.98008>,\n",
              " <tf.Tensor: shape=(), dtype=float32, numpy=4153.513>)"
            ]
          },
          "metadata": {},
          "execution_count": 61
        }
      ]
    },
    {
      "cell_type": "markdown",
      "source": [
        "## Comparing the results of out experiments\n",
        "\n"
      ],
      "metadata": {
        "id": "AAy24eLdG11d"
      }
    },
    {
      "cell_type": "code",
      "source": [
        "# Lets compare our models result using a pandas DataFrame\n",
        "\n",
        "import pandas as pd\n",
        "\n",
        "model_results = [[\"model_1\", mae_1.numpy(), mse_1.numpy()],\n",
        "                [\"model_2\", mae_2.numpy(), mse_2.numpy()],\n",
        "                [\"model_3\", mae_3.numpy(), mse_3]]\n",
        "\n",
        "all_results = pd.DataFrame(model_results, columns=[\"model\", \"mae\", \"mse\"])\n",
        "all_results\n"
      ],
      "metadata": {
        "colab": {
          "base_uri": "https://localhost:8080/",
          "height": 144
        },
        "id": "Eyz6kizfeNiv",
        "outputId": "25934193-dd0d-439f-face-c3445c7a7e96"
      },
      "execution_count": 62,
      "outputs": [
        {
          "output_type": "execute_result",
          "data": {
            "text/plain": [
              "     model        mae                                           mse\n",
              "0  model_1   8.306951                                     75.297379\n",
              "1  model_2  45.625996                                   2108.940918\n",
              "2  model_3  63.980080  tf.Tensor(4153.513, shape=(), dtype=float32)"
            ],
            "text/html": [
              "\n",
              "  <div id=\"df-7331a109-4106-41d8-b93d-7c8fa6d85e0f\" class=\"colab-df-container\">\n",
              "    <div>\n",
              "<style scoped>\n",
              "    .dataframe tbody tr th:only-of-type {\n",
              "        vertical-align: middle;\n",
              "    }\n",
              "\n",
              "    .dataframe tbody tr th {\n",
              "        vertical-align: top;\n",
              "    }\n",
              "\n",
              "    .dataframe thead th {\n",
              "        text-align: right;\n",
              "    }\n",
              "</style>\n",
              "<table border=\"1\" class=\"dataframe\">\n",
              "  <thead>\n",
              "    <tr style=\"text-align: right;\">\n",
              "      <th></th>\n",
              "      <th>model</th>\n",
              "      <th>mae</th>\n",
              "      <th>mse</th>\n",
              "    </tr>\n",
              "  </thead>\n",
              "  <tbody>\n",
              "    <tr>\n",
              "      <th>0</th>\n",
              "      <td>model_1</td>\n",
              "      <td>8.306951</td>\n",
              "      <td>75.297379</td>\n",
              "    </tr>\n",
              "    <tr>\n",
              "      <th>1</th>\n",
              "      <td>model_2</td>\n",
              "      <td>45.625996</td>\n",
              "      <td>2108.940918</td>\n",
              "    </tr>\n",
              "    <tr>\n",
              "      <th>2</th>\n",
              "      <td>model_3</td>\n",
              "      <td>63.980080</td>\n",
              "      <td>tf.Tensor(4153.513, shape=(), dtype=float32)</td>\n",
              "    </tr>\n",
              "  </tbody>\n",
              "</table>\n",
              "</div>\n",
              "    <div class=\"colab-df-buttons\">\n",
              "\n",
              "  <div class=\"colab-df-container\">\n",
              "    <button class=\"colab-df-convert\" onclick=\"convertToInteractive('df-7331a109-4106-41d8-b93d-7c8fa6d85e0f')\"\n",
              "            title=\"Convert this dataframe to an interactive table.\"\n",
              "            style=\"display:none;\">\n",
              "\n",
              "  <svg xmlns=\"http://www.w3.org/2000/svg\" height=\"24px\" viewBox=\"0 -960 960 960\">\n",
              "    <path d=\"M120-120v-720h720v720H120Zm60-500h600v-160H180v160Zm220 220h160v-160H400v160Zm0 220h160v-160H400v160ZM180-400h160v-160H180v160Zm440 0h160v-160H620v160ZM180-180h160v-160H180v160Zm440 0h160v-160H620v160Z\"/>\n",
              "  </svg>\n",
              "    </button>\n",
              "\n",
              "  <style>\n",
              "    .colab-df-container {\n",
              "      display:flex;\n",
              "      gap: 12px;\n",
              "    }\n",
              "\n",
              "    .colab-df-convert {\n",
              "      background-color: #E8F0FE;\n",
              "      border: none;\n",
              "      border-radius: 50%;\n",
              "      cursor: pointer;\n",
              "      display: none;\n",
              "      fill: #1967D2;\n",
              "      height: 32px;\n",
              "      padding: 0 0 0 0;\n",
              "      width: 32px;\n",
              "    }\n",
              "\n",
              "    .colab-df-convert:hover {\n",
              "      background-color: #E2EBFA;\n",
              "      box-shadow: 0px 1px 2px rgba(60, 64, 67, 0.3), 0px 1px 3px 1px rgba(60, 64, 67, 0.15);\n",
              "      fill: #174EA6;\n",
              "    }\n",
              "\n",
              "    .colab-df-buttons div {\n",
              "      margin-bottom: 4px;\n",
              "    }\n",
              "\n",
              "    [theme=dark] .colab-df-convert {\n",
              "      background-color: #3B4455;\n",
              "      fill: #D2E3FC;\n",
              "    }\n",
              "\n",
              "    [theme=dark] .colab-df-convert:hover {\n",
              "      background-color: #434B5C;\n",
              "      box-shadow: 0px 1px 3px 1px rgba(0, 0, 0, 0.15);\n",
              "      filter: drop-shadow(0px 1px 2px rgba(0, 0, 0, 0.3));\n",
              "      fill: #FFFFFF;\n",
              "    }\n",
              "  </style>\n",
              "\n",
              "    <script>\n",
              "      const buttonEl =\n",
              "        document.querySelector('#df-7331a109-4106-41d8-b93d-7c8fa6d85e0f button.colab-df-convert');\n",
              "      buttonEl.style.display =\n",
              "        google.colab.kernel.accessAllowed ? 'block' : 'none';\n",
              "\n",
              "      async function convertToInteractive(key) {\n",
              "        const element = document.querySelector('#df-7331a109-4106-41d8-b93d-7c8fa6d85e0f');\n",
              "        const dataTable =\n",
              "          await google.colab.kernel.invokeFunction('convertToInteractive',\n",
              "                                                    [key], {});\n",
              "        if (!dataTable) return;\n",
              "\n",
              "        const docLinkHtml = 'Like what you see? Visit the ' +\n",
              "          '<a target=\"_blank\" href=https://colab.research.google.com/notebooks/data_table.ipynb>data table notebook</a>'\n",
              "          + ' to learn more about interactive tables.';\n",
              "        element.innerHTML = '';\n",
              "        dataTable['output_type'] = 'display_data';\n",
              "        await google.colab.output.renderOutput(dataTable, element);\n",
              "        const docLink = document.createElement('div');\n",
              "        docLink.innerHTML = docLinkHtml;\n",
              "        element.appendChild(docLink);\n",
              "      }\n",
              "    </script>\n",
              "  </div>\n",
              "\n",
              "\n",
              "<div id=\"df-111852a7-823e-4f5c-b482-a8fd890670e8\">\n",
              "  <button class=\"colab-df-quickchart\" onclick=\"quickchart('df-111852a7-823e-4f5c-b482-a8fd890670e8')\"\n",
              "            title=\"Suggest charts\"\n",
              "            style=\"display:none;\">\n",
              "\n",
              "<svg xmlns=\"http://www.w3.org/2000/svg\" height=\"24px\"viewBox=\"0 0 24 24\"\n",
              "     width=\"24px\">\n",
              "    <g>\n",
              "        <path d=\"M19 3H5c-1.1 0-2 .9-2 2v14c0 1.1.9 2 2 2h14c1.1 0 2-.9 2-2V5c0-1.1-.9-2-2-2zM9 17H7v-7h2v7zm4 0h-2V7h2v10zm4 0h-2v-4h2v4z\"/>\n",
              "    </g>\n",
              "</svg>\n",
              "  </button>\n",
              "\n",
              "<style>\n",
              "  .colab-df-quickchart {\n",
              "      --bg-color: #E8F0FE;\n",
              "      --fill-color: #1967D2;\n",
              "      --hover-bg-color: #E2EBFA;\n",
              "      --hover-fill-color: #174EA6;\n",
              "      --disabled-fill-color: #AAA;\n",
              "      --disabled-bg-color: #DDD;\n",
              "  }\n",
              "\n",
              "  [theme=dark] .colab-df-quickchart {\n",
              "      --bg-color: #3B4455;\n",
              "      --fill-color: #D2E3FC;\n",
              "      --hover-bg-color: #434B5C;\n",
              "      --hover-fill-color: #FFFFFF;\n",
              "      --disabled-bg-color: #3B4455;\n",
              "      --disabled-fill-color: #666;\n",
              "  }\n",
              "\n",
              "  .colab-df-quickchart {\n",
              "    background-color: var(--bg-color);\n",
              "    border: none;\n",
              "    border-radius: 50%;\n",
              "    cursor: pointer;\n",
              "    display: none;\n",
              "    fill: var(--fill-color);\n",
              "    height: 32px;\n",
              "    padding: 0;\n",
              "    width: 32px;\n",
              "  }\n",
              "\n",
              "  .colab-df-quickchart:hover {\n",
              "    background-color: var(--hover-bg-color);\n",
              "    box-shadow: 0 1px 2px rgba(60, 64, 67, 0.3), 0 1px 3px 1px rgba(60, 64, 67, 0.15);\n",
              "    fill: var(--button-hover-fill-color);\n",
              "  }\n",
              "\n",
              "  .colab-df-quickchart-complete:disabled,\n",
              "  .colab-df-quickchart-complete:disabled:hover {\n",
              "    background-color: var(--disabled-bg-color);\n",
              "    fill: var(--disabled-fill-color);\n",
              "    box-shadow: none;\n",
              "  }\n",
              "\n",
              "  .colab-df-spinner {\n",
              "    border: 2px solid var(--fill-color);\n",
              "    border-color: transparent;\n",
              "    border-bottom-color: var(--fill-color);\n",
              "    animation:\n",
              "      spin 1s steps(1) infinite;\n",
              "  }\n",
              "\n",
              "  @keyframes spin {\n",
              "    0% {\n",
              "      border-color: transparent;\n",
              "      border-bottom-color: var(--fill-color);\n",
              "      border-left-color: var(--fill-color);\n",
              "    }\n",
              "    20% {\n",
              "      border-color: transparent;\n",
              "      border-left-color: var(--fill-color);\n",
              "      border-top-color: var(--fill-color);\n",
              "    }\n",
              "    30% {\n",
              "      border-color: transparent;\n",
              "      border-left-color: var(--fill-color);\n",
              "      border-top-color: var(--fill-color);\n",
              "      border-right-color: var(--fill-color);\n",
              "    }\n",
              "    40% {\n",
              "      border-color: transparent;\n",
              "      border-right-color: var(--fill-color);\n",
              "      border-top-color: var(--fill-color);\n",
              "    }\n",
              "    60% {\n",
              "      border-color: transparent;\n",
              "      border-right-color: var(--fill-color);\n",
              "    }\n",
              "    80% {\n",
              "      border-color: transparent;\n",
              "      border-right-color: var(--fill-color);\n",
              "      border-bottom-color: var(--fill-color);\n",
              "    }\n",
              "    90% {\n",
              "      border-color: transparent;\n",
              "      border-bottom-color: var(--fill-color);\n",
              "    }\n",
              "  }\n",
              "</style>\n",
              "\n",
              "  <script>\n",
              "    async function quickchart(key) {\n",
              "      const quickchartButtonEl =\n",
              "        document.querySelector('#' + key + ' button');\n",
              "      quickchartButtonEl.disabled = true;  // To prevent multiple clicks.\n",
              "      quickchartButtonEl.classList.add('colab-df-spinner');\n",
              "      try {\n",
              "        const charts = await google.colab.kernel.invokeFunction(\n",
              "            'suggestCharts', [key], {});\n",
              "      } catch (error) {\n",
              "        console.error('Error during call to suggestCharts:', error);\n",
              "      }\n",
              "      quickchartButtonEl.classList.remove('colab-df-spinner');\n",
              "      quickchartButtonEl.classList.add('colab-df-quickchart-complete');\n",
              "    }\n",
              "    (() => {\n",
              "      let quickchartButtonEl =\n",
              "        document.querySelector('#df-111852a7-823e-4f5c-b482-a8fd890670e8 button');\n",
              "      quickchartButtonEl.style.display =\n",
              "        google.colab.kernel.accessAllowed ? 'block' : 'none';\n",
              "    })();\n",
              "  </script>\n",
              "</div>\n",
              "    </div>\n",
              "  </div>\n"
            ],
            "application/vnd.google.colaboratory.intrinsic+json": {
              "type": "dataframe",
              "variable_name": "all_results",
              "summary": "{\n  \"name\": \"all_results\",\n  \"rows\": 3,\n  \"fields\": [\n    {\n      \"column\": \"model\",\n      \"properties\": {\n        \"dtype\": \"string\",\n        \"num_unique_values\": 3,\n        \"samples\": [\n          \"model_1\",\n          \"model_2\",\n          \"model_3\"\n        ],\n        \"semantic_type\": \"\",\n        \"description\": \"\"\n      }\n    },\n    {\n      \"column\": \"mae\",\n      \"properties\": {\n        \"dtype\": \"float32\",\n        \"num_unique_values\": 3,\n        \"samples\": [\n          8.306950569152832,\n          45.62599563598633,\n          63.980079650878906\n        ],\n        \"semantic_type\": \"\",\n        \"description\": \"\"\n      }\n    },\n    {\n      \"column\": \"mse\",\n      \"properties\": {\n        \"dtype\": \"object\",\n        \"semantic_type\": \"\",\n        \"description\": \"\"\n      }\n    }\n  ]\n}"
            }
          },
          "metadata": {},
          "execution_count": 62
        }
      ]
    },
    {
      "source": [
        "# @title mae\n",
        "# Got Recommendation from gcollab\n",
        "\n",
        "from matplotlib import pyplot as plt\n",
        "all_results['mae'].plot(kind='hist', bins=20, title='mae')\n",
        "plt.gca().spines[['top', 'right',]].set_visible(False)"
      ],
      "cell_type": "code",
      "execution_count": 63,
      "outputs": [
        {
          "output_type": "display_data",
          "data": {
            "text/plain": [
              "<Figure size 640x480 with 1 Axes>"
            ],
            "image/png": "[encoded data removed]"
          },
          "metadata": {}
        }
      ],
      "metadata": {
        "colab": {
          "base_uri": "https://localhost:8080/",
          "height": 452
        },
        "id": "AK8lqoT2f7R1",
        "outputId": "2a3a4e5d-19a7-4722-b28a-7957ae1d4bcf"
      }
    },
    {
      "cell_type": "markdown",
      "source": [
        "🔑**Note :** One of our main goals should be to minimize the time between our experiments. We must try and error"
      ],
      "metadata": {
        "id": "6mam0ajKgXEC"
      }
    },
    {
      "cell_type": "markdown",
      "source": [
        "## Tracking your experiments\n",
        "\n",
        "One really good habit in ml modelling is to track the result of your experiments.\n",
        "\n",
        "Luckly, there are tools to help us!\n",
        "\n",
        "📖**Resource:** As we build more models, we will want to look into using :\n",
        "\n",
        "* TensorBoard - a component of the TensorFlow library to help track modelling experiments\n",
        "* Weights & Biases - a tool for tracking all of kinds of machine learning experiments\n",
        "\n"
      ],
      "metadata": {
        "id": "jCyUYIJrhEbi"
      }
    },
    {
      "cell_type": "markdown",
      "source": [
        "## Saving Our model\n",
        "\n",
        "Saving our model allows us to use them outside of Google collab\n",
        "\n",
        "There are two main formats we can save our model too :\n",
        "1. The SavedModel format\n",
        "2. The HDF5 format"
      ],
      "metadata": {
        "id": "DCh5Gw9x2cEL"
      }
    },
    {
      "cell_type": "code",
      "source": [
        "# Save model using the SavedModel format\n",
        "model_2.save(\"best_model_SavedModel_format\")"
      ],
      "metadata": {
        "id": "GgNAjual2aAU"
      },
      "execution_count": 64,
      "outputs": []
    },
    {
      "cell_type": "code",
      "source": [
        "# Save model using the HDF5 format\n",
        "model_2.save(\"best_model_HDF5_format\")"
      ],
      "metadata": {
        "id": "WUEQU6AH4UiF"
      },
      "execution_count": 65,
      "outputs": []
    },
    {
      "cell_type": "markdown",
      "source": [
        "## Loading in a saved model"
      ],
      "metadata": {
        "id": "JlWRZHYjreP_"
      }
    },
    {
      "cell_type": "code",
      "source": [
        "# Load in the SavedModel format\n",
        "\n",
        "loaded_SavedModel_format = tf.keras.models.load_model(\"/content/best_model_SavedModel_format\")\n",
        "loaded_SavedModel_format.summary()"
      ],
      "metadata": {
        "colab": {
          "base_uri": "https://localhost:8080/"
        },
        "id": "2ZCWOR4Wrosv",
        "outputId": "0f0b67d6-f695-4918-8a91-90ba10d0294a"
      },
      "execution_count": 66,
      "outputs": [
        {
          "output_type": "stream",
          "name": "stdout",
          "text": [
            "Model: \"sequential_6\"\n",
            "_________________________________________________________________\n",
            " Layer (type)                Output Shape              Param #   \n",
            "=================================================================\n",
            " input_layer (Dense)         (None, 70)                140       \n",
            "                                                                 \n",
            " Output_layer (Dense)        (None, 1)                 71        \n",
            "                                                                 \n",
            "=================================================================\n",
            "Total params: 211 (844.00 Byte)\n",
            "Trainable params: 211 (844.00 Byte)\n",
            "Non-trainable params: 0 (0.00 Byte)\n",
            "_________________________________________________________________\n"
          ]
        }
      ]
    },
    {
      "cell_type": "code",
      "source": [
        "model_2 == loaded_SavedModel_format"
      ],
      "metadata": {
        "colab": {
          "base_uri": "https://localhost:8080/"
        },
        "id": "yLoIxTUvsGxF",
        "outputId": "d3fa3937-cff9-45f2-c92b-b0a6d5ce1d5f"
      },
      "execution_count": 67,
      "outputs": [
        {
          "output_type": "execute_result",
          "data": {
            "text/plain": [
              "False"
            ]
          },
          "metadata": {},
          "execution_count": 67
        }
      ]
    },
    {
      "cell_type": "code",
      "source": [
        "# Compare predictions\n",
        "model_2_preds = model_2.predict(x_test)\n",
        "loaded_SavedModel_format_preds = loaded_SavedModel_format.predict(x_test)\n",
        "\n",
        "model_2_preds == loaded_SavedModel_format_preds"
      ],
      "metadata": {
        "colab": {
          "base_uri": "https://localhost:8080/"
        },
        "id": "NN4wwIe1sbEY",
        "outputId": "263a05d2-5b5d-4b89-ddca-e3f8309947d8"
      },
      "execution_count": 68,
      "outputs": [
        {
          "output_type": "stream",
          "name": "stdout",
          "text": [
            "1/1 [==============================] - 0s 56ms/step\n",
            "1/1 [==============================] - 0s 85ms/step\n"
          ]
        },
        {
          "output_type": "execute_result",
          "data": {
            "text/plain": [
              "array([[ True],\n",
              "       [ True],\n",
              "       [ True],\n",
              "       [ True],\n",
              "       [ True],\n",
              "       [ True],\n",
              "       [ True],\n",
              "       [ True],\n",
              "       [ True],\n",
              "       [ True]])"
            ]
          },
          "metadata": {},
          "execution_count": 68
        }
      ]
    },
    {
      "cell_type": "code",
      "source": [
        "mae(y_true = y_test, y_pred = model_2_preds) == mae(y_true = y_test, y_pred=loaded_SavedModel_format_preds )"
      ],
      "metadata": {
        "colab": {
          "base_uri": "https://localhost:8080/"
        },
        "id": "4vOzpgEWs4bA",
        "outputId": "c22ebd2a-c067-4d19-a292-4a96210c4800"
      },
      "execution_count": 69,
      "outputs": [
        {
          "output_type": "execute_result",
          "data": {
            "text/plain": [
              "<tf.Tensor: shape=(), dtype=bool, numpy=True>"
            ]
          },
          "metadata": {},
          "execution_count": 69
        }
      ]
    },
    {
      "cell_type": "code",
      "source": [
        "# Load in a model using the h5 format\n",
        "loaded_h5_model = tf.keras.models.load_model(\"/content/best_model_HDF5_format\")\n",
        "loaded_h5_model.summary()"
      ],
      "metadata": {
        "colab": {
          "base_uri": "https://localhost:8080/"
        },
        "id": "HfBpvyUluB-8",
        "outputId": "175de099-bfd9-4dfb-9c2d-2e1c7c564179"
      },
      "execution_count": 70,
      "outputs": [
        {
          "output_type": "stream",
          "name": "stdout",
          "text": [
            "Model: \"sequential_6\"\n",
            "_________________________________________________________________\n",
            " Layer (type)                Output Shape              Param #   \n",
            "=================================================================\n",
            " input_layer (Dense)         (None, 70)                140       \n",
            "                                                                 \n",
            " Output_layer (Dense)        (None, 1)                 71        \n",
            "                                                                 \n",
            "=================================================================\n",
            "Total params: 211 (844.00 Byte)\n",
            "Trainable params: 211 (844.00 Byte)\n",
            "Non-trainable params: 0 (0.00 Byte)\n",
            "_________________________________________________________________\n"
          ]
        }
      ]
    },
    {
      "cell_type": "code",
      "source": [
        "# Compare\n",
        "\n",
        "loaded_h5_model_preds = loaded_h5_model.predict(x_test)\n",
        "\n",
        "model_2_preds == loaded_h5_model_preds"
      ],
      "metadata": {
        "colab": {
          "base_uri": "https://localhost:8080/"
        },
        "id": "IBlZi3BwucUl",
        "outputId": "1bc65d7e-87fc-4f27-9f7d-5292d6a89431"
      },
      "execution_count": 71,
      "outputs": [
        {
          "output_type": "stream",
          "name": "stdout",
          "text": [
            "1/1 [==============================] - 0s 95ms/step\n"
          ]
        },
        {
          "output_type": "execute_result",
          "data": {
            "text/plain": [
              "array([[ True],\n",
              "       [ True],\n",
              "       [ True],\n",
              "       [ True],\n",
              "       [ True],\n",
              "       [ True],\n",
              "       [ True],\n",
              "       [ True],\n",
              "       [ True],\n",
              "       [ True]])"
            ]
          },
          "metadata": {},
          "execution_count": 71
        }
      ]
    },
    {
      "cell_type": "code",
      "source": [
        "mae(y_true = y_test, y_pred = model_2_preds) == mae(y_true=y_test, y_pred=loaded_h5_model_preds)"
      ],
      "metadata": {
        "colab": {
          "base_uri": "https://localhost:8080/"
        },
        "id": "915O3jbSuuKI",
        "outputId": "3248a446-7fd2-4fe0-d96e-7befc2012510"
      },
      "execution_count": 72,
      "outputs": [
        {
          "output_type": "execute_result",
          "data": {
            "text/plain": [
              "<tf.Tensor: shape=(), dtype=bool, numpy=True>"
            ]
          },
          "metadata": {},
          "execution_count": 72
        }
      ]
    },
    {
      "cell_type": "markdown",
      "source": [
        "## Download a model (or any other file) from Google Colab\n",
        "\n",
        "If you want to download your file from Google Colab :\n",
        "1. You can go to the \"files\" tab and right click on the file youre after and click \"upload\".\n",
        "\n",
        "2. Use code\n",
        "\n",
        "3. Save it to Google Drive by connecting Google Drive and copying it there (see 2nd code cell)"
      ],
      "metadata": {
        "id": "QUSC31vrxNpn"
      }
    },
    {
      "cell_type": "code",
      "source": [
        "# Download a file from Google Colab\n",
        "\n",
        "# from google.colab import files\n",
        "# files.download(\"/content/best_model_HDF5_format\")"
      ],
      "metadata": {
        "id": "8TcUW_yr1w_p"
      },
      "execution_count": 73,
      "outputs": []
    },
    {
      "cell_type": "code",
      "source": [
        "# Save a file from Google colab to Google Drive\n",
        "# !cp /content/best_model_HDF5_format(our model path) _____(our folder file aim)"
      ],
      "metadata": {
        "id": "WSgD3o4e7f7p"
      },
      "execution_count": 74,
      "outputs": []
    },
    {
      "cell_type": "markdown",
      "source": [
        "## A Larger Example"
      ],
      "metadata": {
        "id": "CCRi9SjcjVKV"
      }
    },
    {
      "cell_type": "code",
      "source": [
        "# Import requaired libraries\n",
        "import tensorflow as tf\n",
        "import pandas as pd\n",
        "import matplotlib.pyplot as plt"
      ],
      "metadata": {
        "id": "k9TQZSDtjf7m"
      },
      "execution_count": 75,
      "outputs": []
    },
    {
      "cell_type": "code",
      "source": [
        "# Read in the insurance datatset\n",
        "\n",
        "insurance = pd.read_csv(\"https://raw.githubusercontent.com/stedy/Machine-Learning-with-R-datasets/master/insurance.csv\")"
      ],
      "metadata": {
        "id": "BuTf-1pqko1F"
      },
      "execution_count": 76,
      "outputs": []
    },
    {
      "cell_type": "code",
      "source": [
        "insurance.head(10)"
      ],
      "metadata": {
        "colab": {
          "base_uri": "https://localhost:8080/",
          "height": 363
        },
        "id": "7vygpJnClKsv",
        "outputId": "c7506989-583e-4ac5-8907-e004b0c4aeed"
      },
      "execution_count": 77,
      "outputs": [
        {
          "output_type": "execute_result",
          "data": {
            "text/plain": [
              "   age     sex     bmi  children smoker     region      charges\n",
              "0   19  female  27.900         0    yes  southwest  16884.92400\n",
              "1   18    male  33.770         1     no  southeast   1725.55230\n",
              "2   28    male  33.000         3     no  southeast   4449.46200\n",
              "3   33    male  22.705         0     no  northwest  21984.47061\n",
              "4   32    male  28.880         0     no  northwest   3866.85520\n",
              "5   31  female  25.740         0     no  southeast   3756.62160\n",
              "6   46  female  33.440         1     no  southeast   8240.58960\n",
              "7   37  female  27.740         3     no  northwest   7281.50560\n",
              "8   37    male  29.830         2     no  northeast   6406.41070\n",
              "9   60  female  25.840         0     no  northwest  28923.13692"
            ],
            "text/html": [
              "\n",
              "  <div id=\"df-045c4d7c-9a1d-4550-9b4f-cad716a77a6a\" class=\"colab-df-container\">\n",
              "    <div>\n",
              "<style scoped>\n",
              "    .dataframe tbody tr th:only-of-type {\n",
              "        vertical-align: middle;\n",
              "    }\n",
              "\n",
              "    .dataframe tbody tr th {\n",
              "        vertical-align: top;\n",
              "    }\n",
              "\n",
              "    .dataframe thead th {\n",
              "        text-align: right;\n",
              "    }\n",
              "</style>\n",
              "<table border=\"1\" class=\"dataframe\">\n",
              "  <thead>\n",
              "    <tr style=\"text-align: right;\">\n",
              "      <th></th>\n",
              "      <th>age</th>\n",
              "      <th>sex</th>\n",
              "      <th>bmi</th>\n",
              "      <th>children</th>\n",
              "      <th>smoker</th>\n",
              "      <th>region</th>\n",
              "      <th>charges</th>\n",
              "    </tr>\n",
              "  </thead>\n",
              "  <tbody>\n",
              "    <tr>\n",
              "      <th>0</th>\n",
              "      <td>19</td>\n",
              "      <td>female</td>\n",
              "      <td>27.900</td>\n",
              "      <td>0</td>\n",
              "      <td>yes</td>\n",
              "      <td>southwest</td>\n",
              "      <td>16884.92400</td>\n",
              "    </tr>\n",
              "    <tr>\n",
              "      <th>1</th>\n",
              "      <td>18</td>\n",
              "      <td>male</td>\n",
              "      <td>33.770</td>\n",
              "      <td>1</td>\n",
              "      <td>no</td>\n",
              "      <td>southeast</td>\n",
              "      <td>1725.55230</td>\n",
              "    </tr>\n",
              "    <tr>\n",
              "      <th>2</th>\n",
              "      <td>28</td>\n",
              "      <td>male</td>\n",
              "      <td>33.000</td>\n",
              "      <td>3</td>\n",
              "      <td>no</td>\n",
              "      <td>southeast</td>\n",
              "      <td>4449.46200</td>\n",
              "    </tr>\n",
              "    <tr>\n",
              "      <th>3</th>\n",
              "      <td>33</td>\n",
              "      <td>male</td>\n",
              "      <td>22.705</td>\n",
              "      <td>0</td>\n",
              "      <td>no</td>\n",
              "      <td>northwest</td>\n",
              "      <td>21984.47061</td>\n",
              "    </tr>\n",
              "    <tr>\n",
              "      <th>4</th>\n",
              "      <td>32</td>\n",
              "      <td>male</td>\n",
              "      <td>28.880</td>\n",
              "      <td>0</td>\n",
              "      <td>no</td>\n",
              "      <td>northwest</td>\n",
              "      <td>3866.85520</td>\n",
              "    </tr>\n",
              "    <tr>\n",
              "      <th>5</th>\n",
              "      <td>31</td>\n",
              "      <td>female</td>\n",
              "      <td>25.740</td>\n",
              "      <td>0</td>\n",
              "      <td>no</td>\n",
              "      <td>southeast</td>\n",
              "      <td>3756.62160</td>\n",
              "    </tr>\n",
              "    <tr>\n",
              "      <th>6</th>\n",
              "      <td>46</td>\n",
              "      <td>female</td>\n",
              "      <td>33.440</td>\n",
              "      <td>1</td>\n",
              "      <td>no</td>\n",
              "      <td>southeast</td>\n",
              "      <td>8240.58960</td>\n",
              "    </tr>\n",
              "    <tr>\n",
              "      <th>7</th>\n",
              "      <td>37</td>\n",
              "      <td>female</td>\n",
              "      <td>27.740</td>\n",
              "      <td>3</td>\n",
              "      <td>no</td>\n",
              "      <td>northwest</td>\n",
              "      <td>7281.50560</td>\n",
              "    </tr>\n",
              "    <tr>\n",
              "      <th>8</th>\n",
              "      <td>37</td>\n",
              "      <td>male</td>\n",
              "      <td>29.830</td>\n",
              "      <td>2</td>\n",
              "      <td>no</td>\n",
              "      <td>northeast</td>\n",
              "      <td>6406.41070</td>\n",
              "    </tr>\n",
              "    <tr>\n",
              "      <th>9</th>\n",
              "      <td>60</td>\n",
              "      <td>female</td>\n",
              "      <td>25.840</td>\n",
              "      <td>0</td>\n",
              "      <td>no</td>\n",
              "      <td>northwest</td>\n",
              "      <td>28923.13692</td>\n",
              "    </tr>\n",
              "  </tbody>\n",
              "</table>\n",
              "</div>\n",
              "    <div class=\"colab-df-buttons\">\n",
              "\n",
              "  <div class=\"colab-df-container\">\n",
              "    <button class=\"colab-df-convert\" onclick=\"convertToInteractive('df-045c4d7c-9a1d-4550-9b4f-cad716a77a6a')\"\n",
              "            title=\"Convert this dataframe to an interactive table.\"\n",
              "            style=\"display:none;\">\n",
              "\n",
              "  <svg xmlns=\"http://www.w3.org/2000/svg\" height=\"24px\" viewBox=\"0 -960 960 960\">\n",
              "    <path d=\"M120-120v-720h720v720H120Zm60-500h600v-160H180v160Zm220 220h160v-160H400v160Zm0 220h160v-160H400v160ZM180-400h160v-160H180v160Zm440 0h160v-160H620v160ZM180-180h160v-160H180v160Zm440 0h160v-160H620v160Z\"/>\n",
              "  </svg>\n",
              "    </button>\n",
              "\n",
              "  <style>\n",
              "    .colab-df-container {\n",
              "      display:flex;\n",
              "      gap: 12px;\n",
              "    }\n",
              "\n",
              "    .colab-df-convert {\n",
              "      background-color: #E8F0FE;\n",
              "      border: none;\n",
              "      border-radius: 50%;\n",
              "      cursor: pointer;\n",
              "      display: none;\n",
              "      fill: #1967D2;\n",
              "      height: 32px;\n",
              "      padding: 0 0 0 0;\n",
              "      width: 32px;\n",
              "    }\n",
              "\n",
              "    .colab-df-convert:hover {\n",
              "      background-color: #E2EBFA;\n",
              "      box-shadow: 0px 1px 2px rgba(60, 64, 67, 0.3), 0px 1px 3px 1px rgba(60, 64, 67, 0.15);\n",
              "      fill: #174EA6;\n",
              "    }\n",
              "\n",
              "    .colab-df-buttons div {\n",
              "      margin-bottom: 4px;\n",
              "    }\n",
              "\n",
              "    [theme=dark] .colab-df-convert {\n",
              "      background-color: #3B4455;\n",
              "      fill: #D2E3FC;\n",
              "    }\n",
              "\n",
              "    [theme=dark] .colab-df-convert:hover {\n",
              "      background-color: #434B5C;\n",
              "      box-shadow: 0px 1px 3px 1px rgba(0, 0, 0, 0.15);\n",
              "      filter: drop-shadow(0px 1px 2px rgba(0, 0, 0, 0.3));\n",
              "      fill: #FFFFFF;\n",
              "    }\n",
              "  </style>\n",
              "\n",
              "    <script>\n",
              "      const buttonEl =\n",
              "        document.querySelector('#df-045c4d7c-9a1d-4550-9b4f-cad716a77a6a button.colab-df-convert');\n",
              "      buttonEl.style.display =\n",
              "        google.colab.kernel.accessAllowed ? 'block' : 'none';\n",
              "\n",
              "      async function convertToInteractive(key) {\n",
              "        const element = document.querySelector('#df-045c4d7c-9a1d-4550-9b4f-cad716a77a6a');\n",
              "        const dataTable =\n",
              "          await google.colab.kernel.invokeFunction('convertToInteractive',\n",
              "                                                    [key], {});\n",
              "        if (!dataTable) return;\n",
              "\n",
              "        const docLinkHtml = 'Like what you see? Visit the ' +\n",
              "          '<a target=\"_blank\" href=https://colab.research.google.com/notebooks/data_table.ipynb>data table notebook</a>'\n",
              "          + ' to learn more about interactive tables.';\n",
              "        element.innerHTML = '';\n",
              "        dataTable['output_type'] = 'display_data';\n",
              "        await google.colab.output.renderOutput(dataTable, element);\n",
              "        const docLink = document.createElement('div');\n",
              "        docLink.innerHTML = docLinkHtml;\n",
              "        element.appendChild(docLink);\n",
              "      }\n",
              "    </script>\n",
              "  </div>\n",
              "\n",
              "\n",
              "<div id=\"df-a3718757-6d8a-4aa4-998c-cbf6ff27459c\">\n",
              "  <button class=\"colab-df-quickchart\" onclick=\"quickchart('df-a3718757-6d8a-4aa4-998c-cbf6ff27459c')\"\n",
              "            title=\"Suggest charts\"\n",
              "            style=\"display:none;\">\n",
              "\n",
              "<svg xmlns=\"http://www.w3.org/2000/svg\" height=\"24px\"viewBox=\"0 0 24 24\"\n",
              "     width=\"24px\">\n",
              "    <g>\n",
              "        <path d=\"M19 3H5c-1.1 0-2 .9-2 2v14c0 1.1.9 2 2 2h14c1.1 0 2-.9 2-2V5c0-1.1-.9-2-2-2zM9 17H7v-7h2v7zm4 0h-2V7h2v10zm4 0h-2v-4h2v4z\"/>\n",
              "    </g>\n",
              "</svg>\n",
              "  </button>\n",
              "\n",
              "<style>\n",
              "  .colab-df-quickchart {\n",
              "      --bg-color: #E8F0FE;\n",
              "      --fill-color: #1967D2;\n",
              "      --hover-bg-color: #E2EBFA;\n",
              "      --hover-fill-color: #174EA6;\n",
              "      --disabled-fill-color: #AAA;\n",
              "      --disabled-bg-color: #DDD;\n",
              "  }\n",
              "\n",
              "  [theme=dark] .colab-df-quickchart {\n",
              "      --bg-color: #3B4455;\n",
              "      --fill-color: #D2E3FC;\n",
              "      --hover-bg-color: #434B5C;\n",
              "      --hover-fill-color: #FFFFFF;\n",
              "      --disabled-bg-color: #3B4455;\n",
              "      --disabled-fill-color: #666;\n",
              "  }\n",
              "\n",
              "  .colab-df-quickchart {\n",
              "    background-color: var(--bg-color);\n",
              "    border: none;\n",
              "    border-radius: 50%;\n",
              "    cursor: pointer;\n",
              "    display: none;\n",
              "    fill: var(--fill-color);\n",
              "    height: 32px;\n",
              "    padding: 0;\n",
              "    width: 32px;\n",
              "  }\n",
              "\n",
              "  .colab-df-quickchart:hover {\n",
              "    background-color: var(--hover-bg-color);\n",
              "    box-shadow: 0 1px 2px rgba(60, 64, 67, 0.3), 0 1px 3px 1px rgba(60, 64, 67, 0.15);\n",
              "    fill: var(--button-hover-fill-color);\n",
              "  }\n",
              "\n",
              "  .colab-df-quickchart-complete:disabled,\n",
              "  .colab-df-quickchart-complete:disabled:hover {\n",
              "    background-color: var(--disabled-bg-color);\n",
              "    fill: var(--disabled-fill-color);\n",
              "    box-shadow: none;\n",
              "  }\n",
              "\n",
              "  .colab-df-spinner {\n",
              "    border: 2px solid var(--fill-color);\n",
              "    border-color: transparent;\n",
              "    border-bottom-color: var(--fill-color);\n",
              "    animation:\n",
              "      spin 1s steps(1) infinite;\n",
              "  }\n",
              "\n",
              "  @keyframes spin {\n",
              "    0% {\n",
              "      border-color: transparent;\n",
              "      border-bottom-color: var(--fill-color);\n",
              "      border-left-color: var(--fill-color);\n",
              "    }\n",
              "    20% {\n",
              "      border-color: transparent;\n",
              "      border-left-color: var(--fill-color);\n",
              "      border-top-color: var(--fill-color);\n",
              "    }\n",
              "    30% {\n",
              "      border-color: transparent;\n",
              "      border-left-color: var(--fill-color);\n",
              "      border-top-color: var(--fill-color);\n",
              "      border-right-color: var(--fill-color);\n",
              "    }\n",
              "    40% {\n",
              "      border-color: transparent;\n",
              "      border-right-color: var(--fill-color);\n",
              "      border-top-color: var(--fill-color);\n",
              "    }\n",
              "    60% {\n",
              "      border-color: transparent;\n",
              "      border-right-color: var(--fill-color);\n",
              "    }\n",
              "    80% {\n",
              "      border-color: transparent;\n",
              "      border-right-color: var(--fill-color);\n",
              "      border-bottom-color: var(--fill-color);\n",
              "    }\n",
              "    90% {\n",
              "      border-color: transparent;\n",
              "      border-bottom-color: var(--fill-color);\n",
              "    }\n",
              "  }\n",
              "</style>\n",
              "\n",
              "  <script>\n",
              "    async function quickchart(key) {\n",
              "      const quickchartButtonEl =\n",
              "        document.querySelector('#' + key + ' button');\n",
              "      quickchartButtonEl.disabled = true;  // To prevent multiple clicks.\n",
              "      quickchartButtonEl.classList.add('colab-df-spinner');\n",
              "      try {\n",
              "        const charts = await google.colab.kernel.invokeFunction(\n",
              "            'suggestCharts', [key], {});\n",
              "      } catch (error) {\n",
              "        console.error('Error during call to suggestCharts:', error);\n",
              "      }\n",
              "      quickchartButtonEl.classList.remove('colab-df-spinner');\n",
              "      quickchartButtonEl.classList.add('colab-df-quickchart-complete');\n",
              "    }\n",
              "    (() => {\n",
              "      let quickchartButtonEl =\n",
              "        document.querySelector('#df-a3718757-6d8a-4aa4-998c-cbf6ff27459c button');\n",
              "      quickchartButtonEl.style.display =\n",
              "        google.colab.kernel.accessAllowed ? 'block' : 'none';\n",
              "    })();\n",
              "  </script>\n",
              "</div>\n",
              "    </div>\n",
              "  </div>\n"
            ],
            "application/vnd.google.colaboratory.intrinsic+json": {
              "type": "dataframe",
              "variable_name": "insurance",
              "summary": "{\n  \"name\": \"insurance\",\n  \"rows\": 1338,\n  \"fields\": [\n    {\n      \"column\": \"age\",\n      \"properties\": {\n        \"dtype\": \"number\",\n        \"std\": 14,\n        \"min\": 18,\n        \"max\": 64,\n        \"num_unique_values\": 47,\n        \"samples\": [\n          21,\n          45,\n          36\n        ],\n        \"semantic_type\": \"\",\n        \"description\": \"\"\n      }\n    },\n    {\n      \"column\": \"sex\",\n      \"properties\": {\n        \"dtype\": \"category\",\n        \"num_unique_values\": 2,\n        \"samples\": [\n          \"male\",\n          \"female\"\n        ],\n        \"semantic_type\": \"\",\n        \"description\": \"\"\n      }\n    },\n    {\n      \"column\": \"bmi\",\n      \"properties\": {\n        \"dtype\": \"number\",\n        \"std\": 6.098186911679014,\n        \"min\": 15.96,\n        \"max\": 53.13,\n        \"num_unique_values\": 548,\n        \"samples\": [\n          23.18,\n          26.885\n        ],\n        \"semantic_type\": \"\",\n        \"description\": \"\"\n      }\n    },\n    {\n      \"column\": \"children\",\n      \"properties\": {\n        \"dtype\": \"number\",\n        \"std\": 1,\n        \"min\": 0,\n        \"max\": 5,\n        \"num_unique_values\": 6,\n        \"samples\": [\n          0,\n          1\n        ],\n        \"semantic_type\": \"\",\n        \"description\": \"\"\n      }\n    },\n    {\n      \"column\": \"smoker\",\n      \"properties\": {\n        \"dtype\": \"category\",\n        \"num_unique_values\": 2,\n        \"samples\": [\n          \"no\",\n          \"yes\"\n        ],\n        \"semantic_type\": \"\",\n        \"description\": \"\"\n      }\n    },\n    {\n      \"column\": \"region\",\n      \"properties\": {\n        \"dtype\": \"category\",\n        \"num_unique_values\": 4,\n        \"samples\": [\n          \"southeast\",\n          \"northeast\"\n        ],\n        \"semantic_type\": \"\",\n        \"description\": \"\"\n      }\n    },\n    {\n      \"column\": \"charges\",\n      \"properties\": {\n        \"dtype\": \"number\",\n        \"std\": 12110.011236694001,\n        \"min\": 1121.8739,\n        \"max\": 63770.42801,\n        \"num_unique_values\": 1337,\n        \"samples\": [\n          8688.85885,\n          5708.867\n        ],\n        \"semantic_type\": \"\",\n        \"description\": \"\"\n      }\n    }\n  ]\n}"
            }
          },
          "metadata": {},
          "execution_count": 77
        }
      ]
    },
    {
      "cell_type": "code",
      "source": [
        "insurance[\"sex\"]"
      ],
      "metadata": {
        "colab": {
          "base_uri": "https://localhost:8080/"
        },
        "id": "7AGioTdJneGl",
        "outputId": "f044557d-e38f-4cf1-8017-2cf4cbc4e771"
      },
      "execution_count": 78,
      "outputs": [
        {
          "output_type": "execute_result",
          "data": {
            "text/plain": [
              "0       female\n",
              "1         male\n",
              "2         male\n",
              "3         male\n",
              "4         male\n",
              "         ...  \n",
              "1333      male\n",
              "1334    female\n",
              "1335    female\n",
              "1336    female\n",
              "1337    female\n",
              "Name: sex, Length: 1338, dtype: object"
            ]
          },
          "metadata": {},
          "execution_count": 78
        }
      ]
    },
    {
      "cell_type": "code",
      "source": [
        "insurance[\"age\"]"
      ],
      "metadata": {
        "colab": {
          "base_uri": "https://localhost:8080/"
        },
        "id": "VeNCha2CnqMZ",
        "outputId": "b71a9f1e-d614-4ad5-a711-f9015c4b71d2"
      },
      "execution_count": 79,
      "outputs": [
        {
          "output_type": "execute_result",
          "data": {
            "text/plain": [
              "0       19\n",
              "1       18\n",
              "2       28\n",
              "3       33\n",
              "4       32\n",
              "        ..\n",
              "1333    50\n",
              "1334    18\n",
              "1335    18\n",
              "1336    21\n",
              "1337    61\n",
              "Name: age, Length: 1338, dtype: int64"
            ]
          },
          "metadata": {},
          "execution_count": 79
        }
      ]
    },
    {
      "cell_type": "code",
      "source": [
        "# OneHot endcode for our non numerical type but using pandas(automaticly)\n",
        "insurance_one_hot = pd.get_dummies(insurance)\n",
        "insurance_one_hot.head()"
      ],
      "metadata": {
        "colab": {
          "base_uri": "https://localhost:8080/",
          "height": 226
        },
        "id": "bGJOoiQ6ns9m",
        "outputId": "420666d9-a5a6-46e7-d67d-d1f5d92d6ef2"
      },
      "execution_count": 80,
      "outputs": [
        {
          "output_type": "execute_result",
          "data": {
            "text/plain": [
              "   age     bmi  children      charges  sex_female  sex_male  smoker_no  \\\n",
              "0   19  27.900         0  16884.92400           1         0          0   \n",
              "1   18  33.770         1   1725.55230           0         1          1   \n",
              "2   28  33.000         3   4449.46200           0         1          1   \n",
              "3   33  22.705         0  21984.47061           0         1          1   \n",
              "4   32  28.880         0   3866.85520           0         1          1   \n",
              "\n",
              "   smoker_yes  region_northeast  region_northwest  region_southeast  \\\n",
              "0           1                 0                 0                 0   \n",
              "1           0                 0                 0                 1   \n",
              "2           0                 0                 0                 1   \n",
              "3           0                 0                 1                 0   \n",
              "4           0                 0                 1                 0   \n",
              "\n",
              "   region_southwest  \n",
              "0                 1  \n",
              "1                 0  \n",
              "2                 0  \n",
              "3                 0  \n",
              "4                 0  "
            ],
            "text/html": [
              "\n",
              "  <div id=\"df-446e32d3-2480-4a3b-938b-b32b51da630a\" class=\"colab-df-container\">\n",
              "    <div>\n",
              "<style scoped>\n",
              "    .dataframe tbody tr th:only-of-type {\n",
              "        vertical-align: middle;\n",
              "    }\n",
              "\n",
              "    .dataframe tbody tr th {\n",
              "        vertical-align: top;\n",
              "    }\n",
              "\n",
              "    .dataframe thead th {\n",
              "        text-align: right;\n",
              "    }\n",
              "</style>\n",
              "<table border=\"1\" class=\"dataframe\">\n",
              "  <thead>\n",
              "    <tr style=\"text-align: right;\">\n",
              "      <th></th>\n",
              "      <th>age</th>\n",
              "      <th>bmi</th>\n",
              "      <th>children</th>\n",
              "      <th>charges</th>\n",
              "      <th>sex_female</th>\n",
              "      <th>sex_male</th>\n",
              "      <th>smoker_no</th>\n",
              "      <th>smoker_yes</th>\n",
              "      <th>region_northeast</th>\n",
              "      <th>region_northwest</th>\n",
              "      <th>region_southeast</th>\n",
              "      <th>region_southwest</th>\n",
              "    </tr>\n",
              "  </thead>\n",
              "  <tbody>\n",
              "    <tr>\n",
              "      <th>0</th>\n",
              "      <td>19</td>\n",
              "      <td>27.900</td>\n",
              "      <td>0</td>\n",
              "      <td>16884.92400</td>\n",
              "      <td>1</td>\n",
              "      <td>0</td>\n",
              "      <td>0</td>\n",
              "      <td>1</td>\n",
              "      <td>0</td>\n",
              "      <td>0</td>\n",
              "      <td>0</td>\n",
              "      <td>1</td>\n",
              "    </tr>\n",
              "    <tr>\n",
              "      <th>1</th>\n",
              "      <td>18</td>\n",
              "      <td>33.770</td>\n",
              "      <td>1</td>\n",
              "      <td>1725.55230</td>\n",
              "      <td>0</td>\n",
              "      <td>1</td>\n",
              "      <td>1</td>\n",
              "      <td>0</td>\n",
              "      <td>0</td>\n",
              "      <td>0</td>\n",
              "      <td>1</td>\n",
              "      <td>0</td>\n",
              "    </tr>\n",
              "    <tr>\n",
              "      <th>2</th>\n",
              "      <td>28</td>\n",
              "      <td>33.000</td>\n",
              "      <td>3</td>\n",
              "      <td>4449.46200</td>\n",
              "      <td>0</td>\n",
              "      <td>1</td>\n",
              "      <td>1</td>\n",
              "      <td>0</td>\n",
              "      <td>0</td>\n",
              "      <td>0</td>\n",
              "      <td>1</td>\n",
              "      <td>0</td>\n",
              "    </tr>\n",
              "    <tr>\n",
              "      <th>3</th>\n",
              "      <td>33</td>\n",
              "      <td>22.705</td>\n",
              "      <td>0</td>\n",
              "      <td>21984.47061</td>\n",
              "      <td>0</td>\n",
              "      <td>1</td>\n",
              "      <td>1</td>\n",
              "      <td>0</td>\n",
              "      <td>0</td>\n",
              "      <td>1</td>\n",
              "      <td>0</td>\n",
              "      <td>0</td>\n",
              "    </tr>\n",
              "    <tr>\n",
              "      <th>4</th>\n",
              "      <td>32</td>\n",
              "      <td>28.880</td>\n",
              "      <td>0</td>\n",
              "      <td>3866.85520</td>\n",
              "      <td>0</td>\n",
              "      <td>1</td>\n",
              "      <td>1</td>\n",
              "      <td>0</td>\n",
              "      <td>0</td>\n",
              "      <td>1</td>\n",
              "      <td>0</td>\n",
              "      <td>0</td>\n",
              "    </tr>\n",
              "  </tbody>\n",
              "</table>\n",
              "</div>\n",
              "    <div class=\"colab-df-buttons\">\n",
              "\n",
              "  <div class=\"colab-df-container\">\n",
              "    <button class=\"colab-df-convert\" onclick=\"convertToInteractive('df-446e32d3-2480-4a3b-938b-b32b51da630a')\"\n",
              "            title=\"Convert this dataframe to an interactive table.\"\n",
              "            style=\"display:none;\">\n",
              "\n",
              "  <svg xmlns=\"http://www.w3.org/2000/svg\" height=\"24px\" viewBox=\"0 -960 960 960\">\n",
              "    <path d=\"M120-120v-720h720v720H120Zm60-500h600v-160H180v160Zm220 220h160v-160H400v160Zm0 220h160v-160H400v160ZM180-400h160v-160H180v160Zm440 0h160v-160H620v160ZM180-180h160v-160H180v160Zm440 0h160v-160H620v160Z\"/>\n",
              "  </svg>\n",
              "    </button>\n",
              "\n",
              "  <style>\n",
              "    .colab-df-container {\n",
              "      display:flex;\n",
              "      gap: 12px;\n",
              "    }\n",
              "\n",
              "    .colab-df-convert {\n",
              "      background-color: #E8F0FE;\n",
              "      border: none;\n",
              "      border-radius: 50%;\n",
              "      cursor: pointer;\n",
              "      display: none;\n",
              "      fill: #1967D2;\n",
              "      height: 32px;\n",
              "      padding: 0 0 0 0;\n",
              "      width: 32px;\n",
              "    }\n",
              "\n",
              "    .colab-df-convert:hover {\n",
              "      background-color: #E2EBFA;\n",
              "      box-shadow: 0px 1px 2px rgba(60, 64, 67, 0.3), 0px 1px 3px 1px rgba(60, 64, 67, 0.15);\n",
              "      fill: #174EA6;\n",
              "    }\n",
              "\n",
              "    .colab-df-buttons div {\n",
              "      margin-bottom: 4px;\n",
              "    }\n",
              "\n",
              "    [theme=dark] .colab-df-convert {\n",
              "      background-color: #3B4455;\n",
              "      fill: #D2E3FC;\n",
              "    }\n",
              "\n",
              "    [theme=dark] .colab-df-convert:hover {\n",
              "      background-color: #434B5C;\n",
              "      box-shadow: 0px 1px 3px 1px rgba(0, 0, 0, 0.15);\n",
              "      filter: drop-shadow(0px 1px 2px rgba(0, 0, 0, 0.3));\n",
              "      fill: #FFFFFF;\n",
              "    }\n",
              "  </style>\n",
              "\n",
              "    <script>\n",
              "      const buttonEl =\n",
              "        document.querySelector('#df-446e32d3-2480-4a3b-938b-b32b51da630a button.colab-df-convert');\n",
              "      buttonEl.style.display =\n",
              "        google.colab.kernel.accessAllowed ? 'block' : 'none';\n",
              "\n",
              "      async function convertToInteractive(key) {\n",
              "        const element = document.querySelector('#df-446e32d3-2480-4a3b-938b-b32b51da630a');\n",
              "        const dataTable =\n",
              "          await google.colab.kernel.invokeFunction('convertToInteractive',\n",
              "                                                    [key], {});\n",
              "        if (!dataTable) return;\n",
              "\n",
              "        const docLinkHtml = 'Like what you see? Visit the ' +\n",
              "          '<a target=\"_blank\" href=https://colab.research.google.com/notebooks/data_table.ipynb>data table notebook</a>'\n",
              "          + ' to learn more about interactive tables.';\n",
              "        element.innerHTML = '';\n",
              "        dataTable['output_type'] = 'display_data';\n",
              "        await google.colab.output.renderOutput(dataTable, element);\n",
              "        const docLink = document.createElement('div');\n",
              "        docLink.innerHTML = docLinkHtml;\n",
              "        element.appendChild(docLink);\n",
              "      }\n",
              "    </script>\n",
              "  </div>\n",
              "\n",
              "\n",
              "<div id=\"df-aed6e845-d05c-4b43-95e1-8c670b584027\">\n",
              "  <button class=\"colab-df-quickchart\" onclick=\"quickchart('df-aed6e845-d05c-4b43-95e1-8c670b584027')\"\n",
              "            title=\"Suggest charts\"\n",
              "            style=\"display:none;\">\n",
              "\n",
              "<svg xmlns=\"http://www.w3.org/2000/svg\" height=\"24px\"viewBox=\"0 0 24 24\"\n",
              "     width=\"24px\">\n",
              "    <g>\n",
              "        <path d=\"M19 3H5c-1.1 0-2 .9-2 2v14c0 1.1.9 2 2 2h14c1.1 0 2-.9 2-2V5c0-1.1-.9-2-2-2zM9 17H7v-7h2v7zm4 0h-2V7h2v10zm4 0h-2v-4h2v4z\"/>\n",
              "    </g>\n",
              "</svg>\n",
              "  </button>\n",
              "\n",
              "<style>\n",
              "  .colab-df-quickchart {\n",
              "      --bg-color: #E8F0FE;\n",
              "      --fill-color: #1967D2;\n",
              "      --hover-bg-color: #E2EBFA;\n",
              "      --hover-fill-color: #174EA6;\n",
              "      --disabled-fill-color: #AAA;\n",
              "      --disabled-bg-color: #DDD;\n",
              "  }\n",
              "\n",
              "  [theme=dark] .colab-df-quickchart {\n",
              "      --bg-color: #3B4455;\n",
              "      --fill-color: #D2E3FC;\n",
              "      --hover-bg-color: #434B5C;\n",
              "      --hover-fill-color: #FFFFFF;\n",
              "      --disabled-bg-color: #3B4455;\n",
              "      --disabled-fill-color: #666;\n",
              "  }\n",
              "\n",
              "  .colab-df-quickchart {\n",
              "    background-color: var(--bg-color);\n",
              "    border: none;\n",
              "    border-radius: 50%;\n",
              "    cursor: pointer;\n",
              "    display: none;\n",
              "    fill: var(--fill-color);\n",
              "    height: 32px;\n",
              "    padding: 0;\n",
              "    width: 32px;\n",
              "  }\n",
              "\n",
              "  .colab-df-quickchart:hover {\n",
              "    background-color: var(--hover-bg-color);\n",
              "    box-shadow: 0 1px 2px rgba(60, 64, 67, 0.3), 0 1px 3px 1px rgba(60, 64, 67, 0.15);\n",
              "    fill: var(--button-hover-fill-color);\n",
              "  }\n",
              "\n",
              "  .colab-df-quickchart-complete:disabled,\n",
              "  .colab-df-quickchart-complete:disabled:hover {\n",
              "    background-color: var(--disabled-bg-color);\n",
              "    fill: var(--disabled-fill-color);\n",
              "    box-shadow: none;\n",
              "  }\n",
              "\n",
              "  .colab-df-spinner {\n",
              "    border: 2px solid var(--fill-color);\n",
              "    border-color: transparent;\n",
              "    border-bottom-color: var(--fill-color);\n",
              "    animation:\n",
              "      spin 1s steps(1) infinite;\n",
              "  }\n",
              "\n",
              "  @keyframes spin {\n",
              "    0% {\n",
              "      border-color: transparent;\n",
              "      border-bottom-color: var(--fill-color);\n",
              "      border-left-color: var(--fill-color);\n",
              "    }\n",
              "    20% {\n",
              "      border-color: transparent;\n",
              "      border-left-color: var(--fill-color);\n",
              "      border-top-color: var(--fill-color);\n",
              "    }\n",
              "    30% {\n",
              "      border-color: transparent;\n",
              "      border-left-color: var(--fill-color);\n",
              "      border-top-color: var(--fill-color);\n",
              "      border-right-color: var(--fill-color);\n",
              "    }\n",
              "    40% {\n",
              "      border-color: transparent;\n",
              "      border-right-color: var(--fill-color);\n",
              "      border-top-color: var(--fill-color);\n",
              "    }\n",
              "    60% {\n",
              "      border-color: transparent;\n",
              "      border-right-color: var(--fill-color);\n",
              "    }\n",
              "    80% {\n",
              "      border-color: transparent;\n",
              "      border-right-color: var(--fill-color);\n",
              "      border-bottom-color: var(--fill-color);\n",
              "    }\n",
              "    90% {\n",
              "      border-color: transparent;\n",
              "      border-bottom-color: var(--fill-color);\n",
              "    }\n",
              "  }\n",
              "</style>\n",
              "\n",
              "  <script>\n",
              "    async function quickchart(key) {\n",
              "      const quickchartButtonEl =\n",
              "        document.querySelector('#' + key + ' button');\n",
              "      quickchartButtonEl.disabled = true;  // To prevent multiple clicks.\n",
              "      quickchartButtonEl.classList.add('colab-df-spinner');\n",
              "      try {\n",
              "        const charts = await google.colab.kernel.invokeFunction(\n",
              "            'suggestCharts', [key], {});\n",
              "      } catch (error) {\n",
              "        console.error('Error during call to suggestCharts:', error);\n",
              "      }\n",
              "      quickchartButtonEl.classList.remove('colab-df-spinner');\n",
              "      quickchartButtonEl.classList.add('colab-df-quickchart-complete');\n",
              "    }\n",
              "    (() => {\n",
              "      let quickchartButtonEl =\n",
              "        document.querySelector('#df-aed6e845-d05c-4b43-95e1-8c670b584027 button');\n",
              "      quickchartButtonEl.style.display =\n",
              "        google.colab.kernel.accessAllowed ? 'block' : 'none';\n",
              "    })();\n",
              "  </script>\n",
              "</div>\n",
              "    </div>\n",
              "  </div>\n"
            ],
            "application/vnd.google.colaboratory.intrinsic+json": {
              "type": "dataframe",
              "variable_name": "insurance_one_hot",
              "summary": "{\n  \"name\": \"insurance_one_hot\",\n  \"rows\": 1338,\n  \"fields\": [\n    {\n      \"column\": \"age\",\n      \"properties\": {\n        \"dtype\": \"number\",\n        \"std\": 14,\n        \"min\": 18,\n        \"max\": 64,\n        \"num_unique_values\": 47,\n        \"samples\": [\n          21,\n          45,\n          36\n        ],\n        \"semantic_type\": \"\",\n        \"description\": \"\"\n      }\n    },\n    {\n      \"column\": \"bmi\",\n      \"properties\": {\n        \"dtype\": \"number\",\n        \"std\": 6.098186911679014,\n        \"min\": 15.96,\n        \"max\": 53.13,\n        \"num_unique_values\": 548,\n        \"samples\": [\n          23.18,\n          26.885,\n          29.26\n        ],\n        \"semantic_type\": \"\",\n        \"description\": \"\"\n      }\n    },\n    {\n      \"column\": \"children\",\n      \"properties\": {\n        \"dtype\": \"number\",\n        \"std\": 1,\n        \"min\": 0,\n        \"max\": 5,\n        \"num_unique_values\": 6,\n        \"samples\": [\n          0,\n          1,\n          4\n        ],\n        \"semantic_type\": \"\",\n        \"description\": \"\"\n      }\n    },\n    {\n      \"column\": \"charges\",\n      \"properties\": {\n        \"dtype\": \"number\",\n        \"std\": 12110.011236694001,\n        \"min\": 1121.8739,\n        \"max\": 63770.42801,\n        \"num_unique_values\": 1337,\n        \"samples\": [\n          8688.85885,\n          5708.867,\n          11436.73815\n        ],\n        \"semantic_type\": \"\",\n        \"description\": \"\"\n      }\n    },\n    {\n      \"column\": \"sex_female\",\n      \"properties\": {\n        \"dtype\": \"uint8\",\n        \"num_unique_values\": 2,\n        \"samples\": [\n          0,\n          1\n        ],\n        \"semantic_type\": \"\",\n        \"description\": \"\"\n      }\n    },\n    {\n      \"column\": \"sex_male\",\n      \"properties\": {\n        \"dtype\": \"uint8\",\n        \"num_unique_values\": 2,\n        \"samples\": [\n          1,\n          0\n        ],\n        \"semantic_type\": \"\",\n        \"description\": \"\"\n      }\n    },\n    {\n      \"column\": \"smoker_no\",\n      \"properties\": {\n        \"dtype\": \"uint8\",\n        \"num_unique_values\": 2,\n        \"samples\": [\n          1,\n          0\n        ],\n        \"semantic_type\": \"\",\n        \"description\": \"\"\n      }\n    },\n    {\n      \"column\": \"smoker_yes\",\n      \"properties\": {\n        \"dtype\": \"uint8\",\n        \"num_unique_values\": 2,\n        \"samples\": [\n          0,\n          1\n        ],\n        \"semantic_type\": \"\",\n        \"description\": \"\"\n      }\n    },\n    {\n      \"column\": \"region_northeast\",\n      \"properties\": {\n        \"dtype\": \"uint8\",\n        \"num_unique_values\": 2,\n        \"samples\": [\n          1,\n          0\n        ],\n        \"semantic_type\": \"\",\n        \"description\": \"\"\n      }\n    },\n    {\n      \"column\": \"region_northwest\",\n      \"properties\": {\n        \"dtype\": \"uint8\",\n        \"num_unique_values\": 2,\n        \"samples\": [\n          1,\n          0\n        ],\n        \"semantic_type\": \"\",\n        \"description\": \"\"\n      }\n    },\n    {\n      \"column\": \"region_southeast\",\n      \"properties\": {\n        \"dtype\": \"uint8\",\n        \"num_unique_values\": 2,\n        \"samples\": [\n          1,\n          0\n        ],\n        \"semantic_type\": \"\",\n        \"description\": \"\"\n      }\n    },\n    {\n      \"column\": \"region_southwest\",\n      \"properties\": {\n        \"dtype\": \"uint8\",\n        \"num_unique_values\": 2,\n        \"samples\": [\n          0,\n          1\n        ],\n        \"semantic_type\": \"\",\n        \"description\": \"\"\n      }\n    }\n  ]\n}"
            }
          },
          "metadata": {},
          "execution_count": 80
        }
      ]
    },
    {
      "cell_type": "markdown",
      "source": [
        "### Create X & Y Values (Features and labels)"
      ],
      "metadata": {
        "id": "O2wYeWe3p51_"
      }
    },
    {
      "cell_type": "code",
      "source": [
        "# Create X and Y\n",
        "x = insurance_one_hot.drop(\"charges\", axis=1)\n",
        "y = insurance_one_hot[\"charges\"]"
      ],
      "metadata": {
        "id": "lL96lpLTpqds"
      },
      "execution_count": 81,
      "outputs": []
    },
    {
      "cell_type": "code",
      "source": [
        "# view x\n",
        "x.head()"
      ],
      "metadata": {
        "colab": {
          "base_uri": "https://localhost:8080/",
          "height": 226
        },
        "id": "kg7Hm_PdRVv-",
        "outputId": "409e1286-6cc9-4243-c353-eb635b9f86ae"
      },
      "execution_count": 82,
      "outputs": [
        {
          "output_type": "execute_result",
          "data": {
            "text/plain": [
              "   age     bmi  children  sex_female  sex_male  smoker_no  smoker_yes  \\\n",
              "0   19  27.900         0           1         0          0           1   \n",
              "1   18  33.770         1           0         1          1           0   \n",
              "2   28  33.000         3           0         1          1           0   \n",
              "3   33  22.705         0           0         1          1           0   \n",
              "4   32  28.880         0           0         1          1           0   \n",
              "\n",
              "   region_northeast  region_northwest  region_southeast  region_southwest  \n",
              "0                 0                 0                 0                 1  \n",
              "1                 0                 0                 1                 0  \n",
              "2                 0                 0                 1                 0  \n",
              "3                 0                 1                 0                 0  \n",
              "4                 0                 1                 0                 0  "
            ],
            "text/html": [
              "\n",
              "  <div id=\"df-71703412-89c3-434c-81ef-f72321a7977c\" class=\"colab-df-container\">\n",
              "    <div>\n",
              "<style scoped>\n",
              "    .dataframe tbody tr th:only-of-type {\n",
              "        vertical-align: middle;\n",
              "    }\n",
              "\n",
              "    .dataframe tbody tr th {\n",
              "        vertical-align: top;\n",
              "    }\n",
              "\n",
              "    .dataframe thead th {\n",
              "        text-align: right;\n",
              "    }\n",
              "</style>\n",
              "<table border=\"1\" class=\"dataframe\">\n",
              "  <thead>\n",
              "    <tr style=\"text-align: right;\">\n",
              "      <th></th>\n",
              "      <th>age</th>\n",
              "      <th>bmi</th>\n",
              "      <th>children</th>\n",
              "      <th>sex_female</th>\n",
              "      <th>sex_male</th>\n",
              "      <th>smoker_no</th>\n",
              "      <th>smoker_yes</th>\n",
              "      <th>region_northeast</th>\n",
              "      <th>region_northwest</th>\n",
              "      <th>region_southeast</th>\n",
              "      <th>region_southwest</th>\n",
              "    </tr>\n",
              "  </thead>\n",
              "  <tbody>\n",
              "    <tr>\n",
              "      <th>0</th>\n",
              "      <td>19</td>\n",
              "      <td>27.900</td>\n",
              "      <td>0</td>\n",
              "      <td>1</td>\n",
              "      <td>0</td>\n",
              "      <td>0</td>\n",
              "      <td>1</td>\n",
              "      <td>0</td>\n",
              "      <td>0</td>\n",
              "      <td>0</td>\n",
              "      <td>1</td>\n",
              "    </tr>\n",
              "    <tr>\n",
              "      <th>1</th>\n",
              "      <td>18</td>\n",
              "      <td>33.770</td>\n",
              "      <td>1</td>\n",
              "      <td>0</td>\n",
              "      <td>1</td>\n",
              "      <td>1</td>\n",
              "      <td>0</td>\n",
              "      <td>0</td>\n",
              "      <td>0</td>\n",
              "      <td>1</td>\n",
              "      <td>0</td>\n",
              "    </tr>\n",
              "    <tr>\n",
              "      <th>2</th>\n",
              "      <td>28</td>\n",
              "      <td>33.000</td>\n",
              "      <td>3</td>\n",
              "      <td>0</td>\n",
              "      <td>1</td>\n",
              "      <td>1</td>\n",
              "      <td>0</td>\n",
              "      <td>0</td>\n",
              "      <td>0</td>\n",
              "      <td>1</td>\n",
              "      <td>0</td>\n",
              "    </tr>\n",
              "    <tr>\n",
              "      <th>3</th>\n",
              "      <td>33</td>\n",
              "      <td>22.705</td>\n",
              "      <td>0</td>\n",
              "      <td>0</td>\n",
              "      <td>1</td>\n",
              "      <td>1</td>\n",
              "      <td>0</td>\n",
              "      <td>0</td>\n",
              "      <td>1</td>\n",
              "      <td>0</td>\n",
              "      <td>0</td>\n",
              "    </tr>\n",
              "    <tr>\n",
              "      <th>4</th>\n",
              "      <td>32</td>\n",
              "      <td>28.880</td>\n",
              "      <td>0</td>\n",
              "      <td>0</td>\n",
              "      <td>1</td>\n",
              "      <td>1</td>\n",
              "      <td>0</td>\n",
              "      <td>0</td>\n",
              "      <td>1</td>\n",
              "      <td>0</td>\n",
              "      <td>0</td>\n",
              "    </tr>\n",
              "  </tbody>\n",
              "</table>\n",
              "</div>\n",
              "    <div class=\"colab-df-buttons\">\n",
              "\n",
              "  <div class=\"colab-df-container\">\n",
              "    <button class=\"colab-df-convert\" onclick=\"convertToInteractive('df-71703412-89c3-434c-81ef-f72321a7977c')\"\n",
              "            title=\"Convert this dataframe to an interactive table.\"\n",
              "            style=\"display:none;\">\n",
              "\n",
              "  <svg xmlns=\"http://www.w3.org/2000/svg\" height=\"24px\" viewBox=\"0 -960 960 960\">\n",
              "    <path d=\"M120-120v-720h720v720H120Zm60-500h600v-160H180v160Zm220 220h160v-160H400v160Zm0 220h160v-160H400v160ZM180-400h160v-160H180v160Zm440 0h160v-160H620v160ZM180-180h160v-160H180v160Zm440 0h160v-160H620v160Z\"/>\n",
              "  </svg>\n",
              "    </button>\n",
              "\n",
              "  <style>\n",
              "    .colab-df-container {\n",
              "      display:flex;\n",
              "      gap: 12px;\n",
              "    }\n",
              "\n",
              "    .colab-df-convert {\n",
              "      background-color: #E8F0FE;\n",
              "      border: none;\n",
              "      border-radius: 50%;\n",
              "      cursor: pointer;\n",
              "      display: none;\n",
              "      fill: #1967D2;\n",
              "      height: 32px;\n",
              "      padding: 0 0 0 0;\n",
              "      width: 32px;\n",
              "    }\n",
              "\n",
              "    .colab-df-convert:hover {\n",
              "      background-color: #E2EBFA;\n",
              "      box-shadow: 0px 1px 2px rgba(60, 64, 67, 0.3), 0px 1px 3px 1px rgba(60, 64, 67, 0.15);\n",
              "      fill: #174EA6;\n",
              "    }\n",
              "\n",
              "    .colab-df-buttons div {\n",
              "      margin-bottom: 4px;\n",
              "    }\n",
              "\n",
              "    [theme=dark] .colab-df-convert {\n",
              "      background-color: #3B4455;\n",
              "      fill: #D2E3FC;\n",
              "    }\n",
              "\n",
              "    [theme=dark] .colab-df-convert:hover {\n",
              "      background-color: #434B5C;\n",
              "      box-shadow: 0px 1px 3px 1px rgba(0, 0, 0, 0.15);\n",
              "      filter: drop-shadow(0px 1px 2px rgba(0, 0, 0, 0.3));\n",
              "      fill: #FFFFFF;\n",
              "    }\n",
              "  </style>\n",
              "\n",
              "    <script>\n",
              "      const buttonEl =\n",
              "        document.querySelector('#df-71703412-89c3-434c-81ef-f72321a7977c button.colab-df-convert');\n",
              "      buttonEl.style.display =\n",
              "        google.colab.kernel.accessAllowed ? 'block' : 'none';\n",
              "\n",
              "      async function convertToInteractive(key) {\n",
              "        const element = document.querySelector('#df-71703412-89c3-434c-81ef-f72321a7977c');\n",
              "        const dataTable =\n",
              "          await google.colab.kernel.invokeFunction('convertToInteractive',\n",
              "                                                    [key], {});\n",
              "        if (!dataTable) return;\n",
              "\n",
              "        const docLinkHtml = 'Like what you see? Visit the ' +\n",
              "          '<a target=\"_blank\" href=https://colab.research.google.com/notebooks/data_table.ipynb>data table notebook</a>'\n",
              "          + ' to learn more about interactive tables.';\n",
              "        element.innerHTML = '';\n",
              "        dataTable['output_type'] = 'display_data';\n",
              "        await google.colab.output.renderOutput(dataTable, element);\n",
              "        const docLink = document.createElement('div');\n",
              "        docLink.innerHTML = docLinkHtml;\n",
              "        element.appendChild(docLink);\n",
              "      }\n",
              "    </script>\n",
              "  </div>\n",
              "\n",
              "\n",
              "<div id=\"df-9582abfe-091e-461e-8bf3-2a29cbd8804d\">\n",
              "  <button class=\"colab-df-quickchart\" onclick=\"quickchart('df-9582abfe-091e-461e-8bf3-2a29cbd8804d')\"\n",
              "            title=\"Suggest charts\"\n",
              "            style=\"display:none;\">\n",
              "\n",
              "<svg xmlns=\"http://www.w3.org/2000/svg\" height=\"24px\"viewBox=\"0 0 24 24\"\n",
              "     width=\"24px\">\n",
              "    <g>\n",
              "        <path d=\"M19 3H5c-1.1 0-2 .9-2 2v14c0 1.1.9 2 2 2h14c1.1 0 2-.9 2-2V5c0-1.1-.9-2-2-2zM9 17H7v-7h2v7zm4 0h-2V7h2v10zm4 0h-2v-4h2v4z\"/>\n",
              "    </g>\n",
              "</svg>\n",
              "  </button>\n",
              "\n",
              "<style>\n",
              "  .colab-df-quickchart {\n",
              "      --bg-color: #E8F0FE;\n",
              "      --fill-color: #1967D2;\n",
              "      --hover-bg-color: #E2EBFA;\n",
              "      --hover-fill-color: #174EA6;\n",
              "      --disabled-fill-color: #AAA;\n",
              "      --disabled-bg-color: #DDD;\n",
              "  }\n",
              "\n",
              "  [theme=dark] .colab-df-quickchart {\n",
              "      --bg-color: #3B4455;\n",
              "      --fill-color: #D2E3FC;\n",
              "      --hover-bg-color: #434B5C;\n",
              "      --hover-fill-color: #FFFFFF;\n",
              "      --disabled-bg-color: #3B4455;\n",
              "      --disabled-fill-color: #666;\n",
              "  }\n",
              "\n",
              "  .colab-df-quickchart {\n",
              "    background-color: var(--bg-color);\n",
              "    border: none;\n",
              "    border-radius: 50%;\n",
              "    cursor: pointer;\n",
              "    display: none;\n",
              "    fill: var(--fill-color);\n",
              "    height: 32px;\n",
              "    padding: 0;\n",
              "    width: 32px;\n",
              "  }\n",
              "\n",
              "  .colab-df-quickchart:hover {\n",
              "    background-color: var(--hover-bg-color);\n",
              "    box-shadow: 0 1px 2px rgba(60, 64, 67, 0.3), 0 1px 3px 1px rgba(60, 64, 67, 0.15);\n",
              "    fill: var(--button-hover-fill-color);\n",
              "  }\n",
              "\n",
              "  .colab-df-quickchart-complete:disabled,\n",
              "  .colab-df-quickchart-complete:disabled:hover {\n",
              "    background-color: var(--disabled-bg-color);\n",
              "    fill: var(--disabled-fill-color);\n",
              "    box-shadow: none;\n",
              "  }\n",
              "\n",
              "  .colab-df-spinner {\n",
              "    border: 2px solid var(--fill-color);\n",
              "    border-color: transparent;\n",
              "    border-bottom-color: var(--fill-color);\n",
              "    animation:\n",
              "      spin 1s steps(1) infinite;\n",
              "  }\n",
              "\n",
              "  @keyframes spin {\n",
              "    0% {\n",
              "      border-color: transparent;\n",
              "      border-bottom-color: var(--fill-color);\n",
              "      border-left-color: var(--fill-color);\n",
              "    }\n",
              "    20% {\n",
              "      border-color: transparent;\n",
              "      border-left-color: var(--fill-color);\n",
              "      border-top-color: var(--fill-color);\n",
              "    }\n",
              "    30% {\n",
              "      border-color: transparent;\n",
              "      border-left-color: var(--fill-color);\n",
              "      border-top-color: var(--fill-color);\n",
              "      border-right-color: var(--fill-color);\n",
              "    }\n",
              "    40% {\n",
              "      border-color: transparent;\n",
              "      border-right-color: var(--fill-color);\n",
              "      border-top-color: var(--fill-color);\n",
              "    }\n",
              "    60% {\n",
              "      border-color: transparent;\n",
              "      border-right-color: var(--fill-color);\n",
              "    }\n",
              "    80% {\n",
              "      border-color: transparent;\n",
              "      border-right-color: var(--fill-color);\n",
              "      border-bottom-color: var(--fill-color);\n",
              "    }\n",
              "    90% {\n",
              "      border-color: transparent;\n",
              "      border-bottom-color: var(--fill-color);\n",
              "    }\n",
              "  }\n",
              "</style>\n",
              "\n",
              "  <script>\n",
              "    async function quickchart(key) {\n",
              "      const quickchartButtonEl =\n",
              "        document.querySelector('#' + key + ' button');\n",
              "      quickchartButtonEl.disabled = true;  // To prevent multiple clicks.\n",
              "      quickchartButtonEl.classList.add('colab-df-spinner');\n",
              "      try {\n",
              "        const charts = await google.colab.kernel.invokeFunction(\n",
              "            'suggestCharts', [key], {});\n",
              "      } catch (error) {\n",
              "        console.error('Error during call to suggestCharts:', error);\n",
              "      }\n",
              "      quickchartButtonEl.classList.remove('colab-df-spinner');\n",
              "      quickchartButtonEl.classList.add('colab-df-quickchart-complete');\n",
              "    }\n",
              "    (() => {\n",
              "      let quickchartButtonEl =\n",
              "        document.querySelector('#df-9582abfe-091e-461e-8bf3-2a29cbd8804d button');\n",
              "      quickchartButtonEl.style.display =\n",
              "        google.colab.kernel.accessAllowed ? 'block' : 'none';\n",
              "    })();\n",
              "  </script>\n",
              "</div>\n",
              "    </div>\n",
              "  </div>\n"
            ],
            "application/vnd.google.colaboratory.intrinsic+json": {
              "type": "dataframe",
              "variable_name": "x",
              "summary": "{\n  \"name\": \"x\",\n  \"rows\": 1338,\n  \"fields\": [\n    {\n      \"column\": \"age\",\n      \"properties\": {\n        \"dtype\": \"number\",\n        \"std\": 14,\n        \"min\": 18,\n        \"max\": 64,\n        \"num_unique_values\": 47,\n        \"samples\": [\n          21,\n          45,\n          36\n        ],\n        \"semantic_type\": \"\",\n        \"description\": \"\"\n      }\n    },\n    {\n      \"column\": \"bmi\",\n      \"properties\": {\n        \"dtype\": \"number\",\n        \"std\": 6.098186911679014,\n        \"min\": 15.96,\n        \"max\": 53.13,\n        \"num_unique_values\": 548,\n        \"samples\": [\n          23.18,\n          26.885,\n          29.26\n        ],\n        \"semantic_type\": \"\",\n        \"description\": \"\"\n      }\n    },\n    {\n      \"column\": \"children\",\n      \"properties\": {\n        \"dtype\": \"number\",\n        \"std\": 1,\n        \"min\": 0,\n        \"max\": 5,\n        \"num_unique_values\": 6,\n        \"samples\": [\n          0,\n          1,\n          4\n        ],\n        \"semantic_type\": \"\",\n        \"description\": \"\"\n      }\n    },\n    {\n      \"column\": \"sex_female\",\n      \"properties\": {\n        \"dtype\": \"uint8\",\n        \"num_unique_values\": 2,\n        \"samples\": [\n          0,\n          1\n        ],\n        \"semantic_type\": \"\",\n        \"description\": \"\"\n      }\n    },\n    {\n      \"column\": \"sex_male\",\n      \"properties\": {\n        \"dtype\": \"uint8\",\n        \"num_unique_values\": 2,\n        \"samples\": [\n          1,\n          0\n        ],\n        \"semantic_type\": \"\",\n        \"description\": \"\"\n      }\n    },\n    {\n      \"column\": \"smoker_no\",\n      \"properties\": {\n        \"dtype\": \"uint8\",\n        \"num_unique_values\": 2,\n        \"samples\": [\n          1,\n          0\n        ],\n        \"semantic_type\": \"\",\n        \"description\": \"\"\n      }\n    },\n    {\n      \"column\": \"smoker_yes\",\n      \"properties\": {\n        \"dtype\": \"uint8\",\n        \"num_unique_values\": 2,\n        \"samples\": [\n          0,\n          1\n        ],\n        \"semantic_type\": \"\",\n        \"description\": \"\"\n      }\n    },\n    {\n      \"column\": \"region_northeast\",\n      \"properties\": {\n        \"dtype\": \"uint8\",\n        \"num_unique_values\": 2,\n        \"samples\": [\n          1,\n          0\n        ],\n        \"semantic_type\": \"\",\n        \"description\": \"\"\n      }\n    },\n    {\n      \"column\": \"region_northwest\",\n      \"properties\": {\n        \"dtype\": \"uint8\",\n        \"num_unique_values\": 2,\n        \"samples\": [\n          1,\n          0\n        ],\n        \"semantic_type\": \"\",\n        \"description\": \"\"\n      }\n    },\n    {\n      \"column\": \"region_southeast\",\n      \"properties\": {\n        \"dtype\": \"uint8\",\n        \"num_unique_values\": 2,\n        \"samples\": [\n          1,\n          0\n        ],\n        \"semantic_type\": \"\",\n        \"description\": \"\"\n      }\n    },\n    {\n      \"column\": \"region_southwest\",\n      \"properties\": {\n        \"dtype\": \"uint8\",\n        \"num_unique_values\": 2,\n        \"samples\": [\n          0,\n          1\n        ],\n        \"semantic_type\": \"\",\n        \"description\": \"\"\n      }\n    }\n  ]\n}"
            }
          },
          "metadata": {},
          "execution_count": 82
        }
      ]
    },
    {
      "cell_type": "code",
      "source": [
        "# view y\n",
        "y.head()"
      ],
      "metadata": {
        "colab": {
          "base_uri": "https://localhost:8080/"
        },
        "id": "sU6fprWLRol2",
        "outputId": "27f58329-f401-4744-fb9b-13c97a2ca191"
      },
      "execution_count": 83,
      "outputs": [
        {
          "output_type": "execute_result",
          "data": {
            "text/plain": [
              "0    16884.92400\n",
              "1     1725.55230\n",
              "2     4449.46200\n",
              "3    21984.47061\n",
              "4     3866.85520\n",
              "Name: charges, dtype: float64"
            ]
          },
          "metadata": {},
          "execution_count": 83
        }
      ]
    },
    {
      "cell_type": "code",
      "source": [
        "# Create training and test sets\n",
        "\n",
        "from sklearn.model_selection import train_test_split\n",
        "\n",
        "x_train, x_test, y_train, y_test = train_test_split(x, y,test_size=0.2, random_state=42)\n",
        "len(x), len(x_train), len(x_test)\n"
      ],
      "metadata": {
        "colab": {
          "base_uri": "https://localhost:8080/"
        },
        "id": "S1784bQaXLGY",
        "outputId": "0f70efce-a08d-4c76-8ade-7c3b9e69795d"
      },
      "execution_count": 84,
      "outputs": [
        {
          "output_type": "execute_result",
          "data": {
            "text/plain": [
              "(1338, 1070, 268)"
            ]
          },
          "metadata": {},
          "execution_count": 84
        }
      ]
    },
    {
      "cell_type": "code",
      "source": [
        "x_train"
      ],
      "metadata": {
        "colab": {
          "base_uri": "https://localhost:8080/",
          "height": 444
        },
        "id": "d5gYWBwAYb9E",
        "outputId": "435f5de9-79d9-4456-fc78-88da194b480e"
      },
      "execution_count": 85,
      "outputs": [
        {
          "output_type": "execute_result",
          "data": {
            "text/plain": [
              "      age     bmi  children  sex_female  sex_male  smoker_no  smoker_yes  \\\n",
              "560    46  19.950         2           1         0          1           0   \n",
              "1285   47  24.320         0           1         0          1           0   \n",
              "1142   52  24.860         0           1         0          1           0   \n",
              "969    39  34.320         5           1         0          1           0   \n",
              "486    54  21.470         3           1         0          1           0   \n",
              "...   ...     ...       ...         ...       ...        ...         ...   \n",
              "1095   18  31.350         4           1         0          1           0   \n",
              "1130   39  23.870         5           1         0          1           0   \n",
              "1294   58  25.175         0           0         1          1           0   \n",
              "860    37  47.600         2           1         0          0           1   \n",
              "1126   55  29.900         0           0         1          1           0   \n",
              "\n",
              "      region_northeast  region_northwest  region_southeast  region_southwest  \n",
              "560                  0                 1                 0                 0  \n",
              "1285                 1                 0                 0                 0  \n",
              "1142                 0                 0                 1                 0  \n",
              "969                  0                 0                 1                 0  \n",
              "486                  0                 1                 0                 0  \n",
              "...                ...               ...               ...               ...  \n",
              "1095                 1                 0                 0                 0  \n",
              "1130                 0                 0                 1                 0  \n",
              "1294                 1                 0                 0                 0  \n",
              "860                  0                 0                 0                 1  \n",
              "1126                 0                 0                 0                 1  \n",
              "\n",
              "[1070 rows x 11 columns]"
            ],
            "text/html": [
              "\n",
              "  <div id=\"df-b288bf7f-d4b4-401a-b77b-2eb6f601fc4b\" class=\"colab-df-container\">\n",
              "    <div>\n",
              "<style scoped>\n",
              "    .dataframe tbody tr th:only-of-type {\n",
              "        vertical-align: middle;\n",
              "    }\n",
              "\n",
              "    .dataframe tbody tr th {\n",
              "        vertical-align: top;\n",
              "    }\n",
              "\n",
              "    .dataframe thead th {\n",
              "        text-align: right;\n",
              "    }\n",
              "</style>\n",
              "<table border=\"1\" class=\"dataframe\">\n",
              "  <thead>\n",
              "    <tr style=\"text-align: right;\">\n",
              "      <th></th>\n",
              "      <th>age</th>\n",
              "      <th>bmi</th>\n",
              "      <th>children</th>\n",
              "      <th>sex_female</th>\n",
              "      <th>sex_male</th>\n",
              "      <th>smoker_no</th>\n",
              "      <th>smoker_yes</th>\n",
              "      <th>region_northeast</th>\n",
              "      <th>region_northwest</th>\n",
              "      <th>region_southeast</th>\n",
              "      <th>region_southwest</th>\n",
              "    </tr>\n",
              "  </thead>\n",
              "  <tbody>\n",
              "    <tr>\n",
              "      <th>560</th>\n",
              "      <td>46</td>\n",
              "      <td>19.950</td>\n",
              "      <td>2</td>\n",
              "      <td>1</td>\n",
              "      <td>0</td>\n",
              "      <td>1</td>\n",
              "      <td>0</td>\n",
              "      <td>0</td>\n",
              "      <td>1</td>\n",
              "      <td>0</td>\n",
              "      <td>0</td>\n",
              "    </tr>\n",
              "    <tr>\n",
              "      <th>1285</th>\n",
              "      <td>47</td>\n",
              "      <td>24.320</td>\n",
              "      <td>0</td>\n",
              "      <td>1</td>\n",
              "      <td>0</td>\n",
              "      <td>1</td>\n",
              "      <td>0</td>\n",
              "      <td>1</td>\n",
              "      <td>0</td>\n",
              "      <td>0</td>\n",
              "      <td>0</td>\n",
              "    </tr>\n",
              "    <tr>\n",
              "      <th>1142</th>\n",
              "      <td>52</td>\n",
              "      <td>24.860</td>\n",
              "      <td>0</td>\n",
              "      <td>1</td>\n",
              "      <td>0</td>\n",
              "      <td>1</td>\n",
              "      <td>0</td>\n",
              "      <td>0</td>\n",
              "      <td>0</td>\n",
              "      <td>1</td>\n",
              "      <td>0</td>\n",
              "    </tr>\n",
              "    <tr>\n",
              "      <th>969</th>\n",
              "      <td>39</td>\n",
              "      <td>34.320</td>\n",
              "      <td>5</td>\n",
              "      <td>1</td>\n",
              "      <td>0</td>\n",
              "      <td>1</td>\n",
              "      <td>0</td>\n",
              "      <td>0</td>\n",
              "      <td>0</td>\n",
              "      <td>1</td>\n",
              "      <td>0</td>\n",
              "    </tr>\n",
              "    <tr>\n",
              "      <th>486</th>\n",
              "      <td>54</td>\n",
              "      <td>21.470</td>\n",
              "      <td>3</td>\n",
              "      <td>1</td>\n",
              "      <td>0</td>\n",
              "      <td>1</td>\n",
              "      <td>0</td>\n",
              "      <td>0</td>\n",
              "      <td>1</td>\n",
              "      <td>0</td>\n",
              "      <td>0</td>\n",
              "    </tr>\n",
              "    <tr>\n",
              "      <th>...</th>\n",
              "      <td>...</td>\n",
              "      <td>...</td>\n",
              "      <td>...</td>\n",
              "      <td>...</td>\n",
              "      <td>...</td>\n",
              "      <td>...</td>\n",
              "      <td>...</td>\n",
              "      <td>...</td>\n",
              "      <td>...</td>\n",
              "      <td>...</td>\n",
              "      <td>...</td>\n",
              "    </tr>\n",
              "    <tr>\n",
              "      <th>1095</th>\n",
              "      <td>18</td>\n",
              "      <td>31.350</td>\n",
              "      <td>4</td>\n",
              "      <td>1</td>\n",
              "      <td>0</td>\n",
              "      <td>1</td>\n",
              "      <td>0</td>\n",
              "      <td>1</td>\n",
              "      <td>0</td>\n",
              "      <td>0</td>\n",
              "      <td>0</td>\n",
              "    </tr>\n",
              "    <tr>\n",
              "      <th>1130</th>\n",
              "      <td>39</td>\n",
              "      <td>23.870</td>\n",
              "      <td>5</td>\n",
              "      <td>1</td>\n",
              "      <td>0</td>\n",
              "      <td>1</td>\n",
              "      <td>0</td>\n",
              "      <td>0</td>\n",
              "      <td>0</td>\n",
              "      <td>1</td>\n",
              "      <td>0</td>\n",
              "    </tr>\n",
              "    <tr>\n",
              "      <th>1294</th>\n",
              "      <td>58</td>\n",
              "      <td>25.175</td>\n",
              "      <td>0</td>\n",
              "      <td>0</td>\n",
              "      <td>1</td>\n",
              "      <td>1</td>\n",
              "      <td>0</td>\n",
              "      <td>1</td>\n",
              "      <td>0</td>\n",
              "      <td>0</td>\n",
              "      <td>0</td>\n",
              "    </tr>\n",
              "    <tr>\n",
              "      <th>860</th>\n",
              "      <td>37</td>\n",
              "      <td>47.600</td>\n",
              "      <td>2</td>\n",
              "      <td>1</td>\n",
              "      <td>0</td>\n",
              "      <td>0</td>\n",
              "      <td>1</td>\n",
              "      <td>0</td>\n",
              "      <td>0</td>\n",
              "      <td>0</td>\n",
              "      <td>1</td>\n",
              "    </tr>\n",
              "    <tr>\n",
              "      <th>1126</th>\n",
              "      <td>55</td>\n",
              "      <td>29.900</td>\n",
              "      <td>0</td>\n",
              "      <td>0</td>\n",
              "      <td>1</td>\n",
              "      <td>1</td>\n",
              "      <td>0</td>\n",
              "      <td>0</td>\n",
              "      <td>0</td>\n",
              "      <td>0</td>\n",
              "      <td>1</td>\n",
              "    </tr>\n",
              "  </tbody>\n",
              "</table>\n",
              "<p>1070 rows × 11 columns</p>\n",
              "</div>\n",
              "    <div class=\"colab-df-buttons\">\n",
              "\n",
              "  <div class=\"colab-df-container\">\n",
              "    <button class=\"colab-df-convert\" onclick=\"convertToInteractive('df-b288bf7f-d4b4-401a-b77b-2eb6f601fc4b')\"\n",
              "            title=\"Convert this dataframe to an interactive table.\"\n",
              "            style=\"display:none;\">\n",
              "\n",
              "  <svg xmlns=\"http://www.w3.org/2000/svg\" height=\"24px\" viewBox=\"0 -960 960 960\">\n",
              "    <path d=\"M120-120v-720h720v720H120Zm60-500h600v-160H180v160Zm220 220h160v-160H400v160Zm0 220h160v-160H400v160ZM180-400h160v-160H180v160Zm440 0h160v-160H620v160ZM180-180h160v-160H180v160Zm440 0h160v-160H620v160Z\"/>\n",
              "  </svg>\n",
              "    </button>\n",
              "\n",
              "  <style>\n",
              "    .colab-df-container {\n",
              "      display:flex;\n",
              "      gap: 12px;\n",
              "    }\n",
              "\n",
              "    .colab-df-convert {\n",
              "      background-color: #E8F0FE;\n",
              "      border: none;\n",
              "      border-radius: 50%;\n",
              "      cursor: pointer;\n",
              "      display: none;\n",
              "      fill: #1967D2;\n",
              "      height: 32px;\n",
              "      padding: 0 0 0 0;\n",
              "      width: 32px;\n",
              "    }\n",
              "\n",
              "    .colab-df-convert:hover {\n",
              "      background-color: #E2EBFA;\n",
              "      box-shadow: 0px 1px 2px rgba(60, 64, 67, 0.3), 0px 1px 3px 1px rgba(60, 64, 67, 0.15);\n",
              "      fill: #174EA6;\n",
              "    }\n",
              "\n",
              "    .colab-df-buttons div {\n",
              "      margin-bottom: 4px;\n",
              "    }\n",
              "\n",
              "    [theme=dark] .colab-df-convert {\n",
              "      background-color: #3B4455;\n",
              "      fill: #D2E3FC;\n",
              "    }\n",
              "\n",
              "    [theme=dark] .colab-df-convert:hover {\n",
              "      background-color: #434B5C;\n",
              "      box-shadow: 0px 1px 3px 1px rgba(0, 0, 0, 0.15);\n",
              "      filter: drop-shadow(0px 1px 2px rgba(0, 0, 0, 0.3));\n",
              "      fill: #FFFFFF;\n",
              "    }\n",
              "  </style>\n",
              "\n",
              "    <script>\n",
              "      const buttonEl =\n",
              "        document.querySelector('#df-b288bf7f-d4b4-401a-b77b-2eb6f601fc4b button.colab-df-convert');\n",
              "      buttonEl.style.display =\n",
              "        google.colab.kernel.accessAllowed ? 'block' : 'none';\n",
              "\n",
              "      async function convertToInteractive(key) {\n",
              "        const element = document.querySelector('#df-b288bf7f-d4b4-401a-b77b-2eb6f601fc4b');\n",
              "        const dataTable =\n",
              "          await google.colab.kernel.invokeFunction('convertToInteractive',\n",
              "                                                    [key], {});\n",
              "        if (!dataTable) return;\n",
              "\n",
              "        const docLinkHtml = 'Like what you see? Visit the ' +\n",
              "          '<a target=\"_blank\" href=https://colab.research.google.com/notebooks/data_table.ipynb>data table notebook</a>'\n",
              "          + ' to learn more about interactive tables.';\n",
              "        element.innerHTML = '';\n",
              "        dataTable['output_type'] = 'display_data';\n",
              "        await google.colab.output.renderOutput(dataTable, element);\n",
              "        const docLink = document.createElement('div');\n",
              "        docLink.innerHTML = docLinkHtml;\n",
              "        element.appendChild(docLink);\n",
              "      }\n",
              "    </script>\n",
              "  </div>\n",
              "\n",
              "\n",
              "<div id=\"df-9f340a35-96da-4d49-98ec-6cceaa0b4542\">\n",
              "  <button class=\"colab-df-quickchart\" onclick=\"quickchart('df-9f340a35-96da-4d49-98ec-6cceaa0b4542')\"\n",
              "            title=\"Suggest charts\"\n",
              "            style=\"display:none;\">\n",
              "\n",
              "<svg xmlns=\"http://www.w3.org/2000/svg\" height=\"24px\"viewBox=\"0 0 24 24\"\n",
              "     width=\"24px\">\n",
              "    <g>\n",
              "        <path d=\"M19 3H5c-1.1 0-2 .9-2 2v14c0 1.1.9 2 2 2h14c1.1 0 2-.9 2-2V5c0-1.1-.9-2-2-2zM9 17H7v-7h2v7zm4 0h-2V7h2v10zm4 0h-2v-4h2v4z\"/>\n",
              "    </g>\n",
              "</svg>\n",
              "  </button>\n",
              "\n",
              "<style>\n",
              "  .colab-df-quickchart {\n",
              "      --bg-color: #E8F0FE;\n",
              "      --fill-color: #1967D2;\n",
              "      --hover-bg-color: #E2EBFA;\n",
              "      --hover-fill-color: #174EA6;\n",
              "      --disabled-fill-color: #AAA;\n",
              "      --disabled-bg-color: #DDD;\n",
              "  }\n",
              "\n",
              "  [theme=dark] .colab-df-quickchart {\n",
              "      --bg-color: #3B4455;\n",
              "      --fill-color: #D2E3FC;\n",
              "      --hover-bg-color: #434B5C;\n",
              "      --hover-fill-color: #FFFFFF;\n",
              "      --disabled-bg-color: #3B4455;\n",
              "      --disabled-fill-color: #666;\n",
              "  }\n",
              "\n",
              "  .colab-df-quickchart {\n",
              "    background-color: var(--bg-color);\n",
              "    border: none;\n",
              "    border-radius: 50%;\n",
              "    cursor: pointer;\n",
              "    display: none;\n",
              "    fill: var(--fill-color);\n",
              "    height: 32px;\n",
              "    padding: 0;\n",
              "    width: 32px;\n",
              "  }\n",
              "\n",
              "  .colab-df-quickchart:hover {\n",
              "    background-color: var(--hover-bg-color);\n",
              "    box-shadow: 0 1px 2px rgba(60, 64, 67, 0.3), 0 1px 3px 1px rgba(60, 64, 67, 0.15);\n",
              "    fill: var(--button-hover-fill-color);\n",
              "  }\n",
              "\n",
              "  .colab-df-quickchart-complete:disabled,\n",
              "  .colab-df-quickchart-complete:disabled:hover {\n",
              "    background-color: var(--disabled-bg-color);\n",
              "    fill: var(--disabled-fill-color);\n",
              "    box-shadow: none;\n",
              "  }\n",
              "\n",
              "  .colab-df-spinner {\n",
              "    border: 2px solid var(--fill-color);\n",
              "    border-color: transparent;\n",
              "    border-bottom-color: var(--fill-color);\n",
              "    animation:\n",
              "      spin 1s steps(1) infinite;\n",
              "  }\n",
              "\n",
              "  @keyframes spin {\n",
              "    0% {\n",
              "      border-color: transparent;\n",
              "      border-bottom-color: var(--fill-color);\n",
              "      border-left-color: var(--fill-color);\n",
              "    }\n",
              "    20% {\n",
              "      border-color: transparent;\n",
              "      border-left-color: var(--fill-color);\n",
              "      border-top-color: var(--fill-color);\n",
              "    }\n",
              "    30% {\n",
              "      border-color: transparent;\n",
              "      border-left-color: var(--fill-color);\n",
              "      border-top-color: var(--fill-color);\n",
              "      border-right-color: var(--fill-color);\n",
              "    }\n",
              "    40% {\n",
              "      border-color: transparent;\n",
              "      border-right-color: var(--fill-color);\n",
              "      border-top-color: var(--fill-color);\n",
              "    }\n",
              "    60% {\n",
              "      border-color: transparent;\n",
              "      border-right-color: var(--fill-color);\n",
              "    }\n",
              "    80% {\n",
              "      border-color: transparent;\n",
              "      border-right-color: var(--fill-color);\n",
              "      border-bottom-color: var(--fill-color);\n",
              "    }\n",
              "    90% {\n",
              "      border-color: transparent;\n",
              "      border-bottom-color: var(--fill-color);\n",
              "    }\n",
              "  }\n",
              "</style>\n",
              "\n",
              "  <script>\n",
              "    async function quickchart(key) {\n",
              "      const quickchartButtonEl =\n",
              "        document.querySelector('#' + key + ' button');\n",
              "      quickchartButtonEl.disabled = true;  // To prevent multiple clicks.\n",
              "      quickchartButtonEl.classList.add('colab-df-spinner');\n",
              "      try {\n",
              "        const charts = await google.colab.kernel.invokeFunction(\n",
              "            'suggestCharts', [key], {});\n",
              "      } catch (error) {\n",
              "        console.error('Error during call to suggestCharts:', error);\n",
              "      }\n",
              "      quickchartButtonEl.classList.remove('colab-df-spinner');\n",
              "      quickchartButtonEl.classList.add('colab-df-quickchart-complete');\n",
              "    }\n",
              "    (() => {\n",
              "      let quickchartButtonEl =\n",
              "        document.querySelector('#df-9f340a35-96da-4d49-98ec-6cceaa0b4542 button');\n",
              "      quickchartButtonEl.style.display =\n",
              "        google.colab.kernel.accessAllowed ? 'block' : 'none';\n",
              "    })();\n",
              "  </script>\n",
              "</div>\n",
              "    </div>\n",
              "  </div>\n"
            ],
            "application/vnd.google.colaboratory.intrinsic+json": {
              "type": "dataframe",
              "variable_name": "x_train",
              "summary": "{\n  \"name\": \"x_train\",\n  \"rows\": 1070,\n  \"fields\": [\n    {\n      \"column\": \"age\",\n      \"properties\": {\n        \"dtype\": \"number\",\n        \"std\": 14,\n        \"min\": 18,\n        \"max\": 64,\n        \"num_unique_values\": 47,\n        \"samples\": [\n          35,\n          33,\n          20\n        ],\n        \"semantic_type\": \"\",\n        \"description\": \"\"\n      }\n    },\n    {\n      \"column\": \"bmi\",\n      \"properties\": {\n        \"dtype\": \"number\",\n        \"std\": 6.043385672727495,\n        \"min\": 15.96,\n        \"max\": 53.13,\n        \"num_unique_values\": 494,\n        \"samples\": [\n          27.3,\n          31.35,\n          21.66\n        ],\n        \"semantic_type\": \"\",\n        \"description\": \"\"\n      }\n    },\n    {\n      \"column\": \"children\",\n      \"properties\": {\n        \"dtype\": \"number\",\n        \"std\": 1,\n        \"min\": 0,\n        \"max\": 5,\n        \"num_unique_values\": 6,\n        \"samples\": [\n          2,\n          0,\n          4\n        ],\n        \"semantic_type\": \"\",\n        \"description\": \"\"\n      }\n    },\n    {\n      \"column\": \"sex_female\",\n      \"properties\": {\n        \"dtype\": \"uint8\",\n        \"num_unique_values\": 2,\n        \"samples\": [\n          0,\n          1\n        ],\n        \"semantic_type\": \"\",\n        \"description\": \"\"\n      }\n    },\n    {\n      \"column\": \"sex_male\",\n      \"properties\": {\n        \"dtype\": \"uint8\",\n        \"num_unique_values\": 2,\n        \"samples\": [\n          1,\n          0\n        ],\n        \"semantic_type\": \"\",\n        \"description\": \"\"\n      }\n    },\n    {\n      \"column\": \"smoker_no\",\n      \"properties\": {\n        \"dtype\": \"uint8\",\n        \"num_unique_values\": 2,\n        \"samples\": [\n          0,\n          1\n        ],\n        \"semantic_type\": \"\",\n        \"description\": \"\"\n      }\n    },\n    {\n      \"column\": \"smoker_yes\",\n      \"properties\": {\n        \"dtype\": \"uint8\",\n        \"num_unique_values\": 2,\n        \"samples\": [\n          1,\n          0\n        ],\n        \"semantic_type\": \"\",\n        \"description\": \"\"\n      }\n    },\n    {\n      \"column\": \"region_northeast\",\n      \"properties\": {\n        \"dtype\": \"uint8\",\n        \"num_unique_values\": 2,\n        \"samples\": [\n          1,\n          0\n        ],\n        \"semantic_type\": \"\",\n        \"description\": \"\"\n      }\n    },\n    {\n      \"column\": \"region_northwest\",\n      \"properties\": {\n        \"dtype\": \"uint8\",\n        \"num_unique_values\": 2,\n        \"samples\": [\n          0,\n          1\n        ],\n        \"semantic_type\": \"\",\n        \"description\": \"\"\n      }\n    },\n    {\n      \"column\": \"region_southeast\",\n      \"properties\": {\n        \"dtype\": \"uint8\",\n        \"num_unique_values\": 2,\n        \"samples\": [\n          1,\n          0\n        ],\n        \"semantic_type\": \"\",\n        \"description\": \"\"\n      }\n    },\n    {\n      \"column\": \"region_southwest\",\n      \"properties\": {\n        \"dtype\": \"uint8\",\n        \"num_unique_values\": 2,\n        \"samples\": [\n          1,\n          0\n        ],\n        \"semantic_type\": \"\",\n        \"description\": \"\"\n      }\n    }\n  ]\n}"
            }
          },
          "metadata": {},
          "execution_count": 85
        }
      ]
    },
    {
      "cell_type": "code",
      "source": [
        "# Build a neural network (sort of like model_2 above)\n",
        "tf.random.set_seed(42)\n",
        "\n",
        "# 1. Create the model\n",
        "insurance_model = tf.keras.Sequential([\n",
        "    tf.keras.layers.Dense(100, activation=\"relu\"),\n",
        "    tf.keras.layers.Dense(100),\n",
        "    tf.keras.layers.Dense(10)\n",
        "])\n",
        "\n",
        "# 2. Compile the model\n",
        "insurance_model.compile(loss=mae,\n",
        "                        optimizer = tf.keras.optimizers.Adam(lr = 0.01),\n",
        "                        metrics=[\"mae\"])\n",
        "\n",
        "# 3. Fit the model\n",
        "insurance_model.fit(x_train, y_train, epochs=500)"
      ],
      "metadata": {
        "colab": {
          "base_uri": "https://localhost:8080/"
        },
        "id": "5XLrX5IaYl92",
        "outputId": "db1821ee-1e36-4e3c-bde7-4e8344fd197f"
      },
      "execution_count": 94,
      "outputs": [
        {
          "output_type": "stream",
          "name": "stderr",
          "text": [
            "WARNING:absl:`lr` is deprecated in Keras optimizer, please use `learning_rate` or use the legacy optimizer, e.g.,tf.keras.optimizers.legacy.Adam.\n"
          ]
        },
        {
          "output_type": "stream",
          "name": "stdout",
          "text": [
            "Epoch 1/500\n",
            "34/34 [==============================] - 1s 3ms/step - loss: 13312.6777 - mae: 13312.6777\n",
            "Epoch 2/500\n",
            "34/34 [==============================] - 0s 3ms/step - loss: 13083.0742 - mae: 13083.0742\n",
            "Epoch 3/500\n",
            "34/34 [==============================] - 0s 3ms/step - loss: 12153.8945 - mae: 12153.8945\n",
            "Epoch 4/500\n",
            "34/34 [==============================] - 0s 2ms/step - loss: 9903.6426 - mae: 9903.6426\n",
            "Epoch 5/500\n",
            "34/34 [==============================] - 0s 2ms/step - loss: 7768.8071 - mae: 7768.8071\n",
            "Epoch 6/500\n",
            "34/34 [==============================] - 0s 3ms/step - loss: 7455.4502 - mae: 7455.4502\n",
            "Epoch 7/500\n",
            "34/34 [==============================] - 0s 3ms/step - loss: 7416.0122 - mae: 7416.0122\n",
            "Epoch 8/500\n",
            "34/34 [==============================] - 0s 3ms/step - loss: 7378.9336 - mae: 7378.9336\n",
            "Epoch 9/500\n",
            "34/34 [==============================] - 0s 2ms/step - loss: 7339.7212 - mae: 7339.7212\n",
            "Epoch 10/500\n",
            "34/34 [==============================] - 0s 3ms/step - loss: 7302.3027 - mae: 7302.3027\n",
            "Epoch 11/500\n",
            "34/34 [==============================] - 0s 3ms/step - loss: 7267.9360 - mae: 7267.9360\n",
            "Epoch 12/500\n",
            "34/34 [==============================] - 0s 3ms/step - loss: 7223.0283 - mae: 7223.0283\n",
            "Epoch 13/500\n",
            "34/34 [==============================] - 0s 3ms/step - loss: 7181.5347 - mae: 7181.5347\n",
            "Epoch 14/500\n",
            "34/34 [==============================] - 0s 3ms/step - loss: 7135.7588 - mae: 7135.7588\n",
            "Epoch 15/500\n",
            "34/34 [==============================] - 0s 3ms/step - loss: 7094.2393 - mae: 7094.2393\n",
            "Epoch 16/500\n",
            "34/34 [==============================] - 0s 3ms/step - loss: 7045.8911 - mae: 7045.8911\n",
            "Epoch 17/500\n",
            "34/34 [==============================] - 0s 4ms/step - loss: 7002.3555 - mae: 7002.3555\n",
            "Epoch 18/500\n",
            "34/34 [==============================] - 0s 3ms/step - loss: 6945.7051 - mae: 6945.7051\n",
            "Epoch 19/500\n",
            "34/34 [==============================] - 0s 3ms/step - loss: 6893.8901 - mae: 6893.8901\n",
            "Epoch 20/500\n",
            "34/34 [==============================] - 0s 3ms/step - loss: 6839.7495 - mae: 6839.7495\n",
            "Epoch 21/500\n",
            "34/34 [==============================] - 0s 3ms/step - loss: 6787.0449 - mae: 6787.0449\n",
            "Epoch 22/500\n",
            "34/34 [==============================] - 0s 3ms/step - loss: 6737.6416 - mae: 6737.6416\n",
            "Epoch 23/500\n",
            "34/34 [==============================] - 0s 3ms/step - loss: 6676.3750 - mae: 6676.3750\n",
            "Epoch 24/500\n",
            "34/34 [==============================] - 0s 3ms/step - loss: 6624.5811 - mae: 6624.5811\n",
            "Epoch 25/500\n",
            "34/34 [==============================] - 0s 2ms/step - loss: 6576.6479 - mae: 6576.6479\n",
            "Epoch 26/500\n",
            "34/34 [==============================] - 0s 3ms/step - loss: 6535.5874 - mae: 6535.5874\n",
            "Epoch 27/500\n",
            "34/34 [==============================] - 0s 4ms/step - loss: 6500.2119 - mae: 6500.2119\n",
            "Epoch 28/500\n",
            "34/34 [==============================] - 0s 2ms/step - loss: 6472.2104 - mae: 6472.2104\n",
            "Epoch 29/500\n",
            "34/34 [==============================] - 0s 3ms/step - loss: 6445.0767 - mae: 6445.0767\n",
            "Epoch 30/500\n",
            "34/34 [==============================] - 0s 3ms/step - loss: 6429.3101 - mae: 6429.3101\n",
            "Epoch 31/500\n",
            "34/34 [==============================] - 0s 3ms/step - loss: 6401.7837 - mae: 6401.7837\n",
            "Epoch 32/500\n",
            "34/34 [==============================] - 0s 2ms/step - loss: 6378.5259 - mae: 6378.5259\n",
            "Epoch 33/500\n",
            "34/34 [==============================] - 0s 3ms/step - loss: 6354.6533 - mae: 6354.6533\n",
            "Epoch 34/500\n",
            "34/34 [==============================] - 0s 2ms/step - loss: 6332.1855 - mae: 6332.1855\n",
            "Epoch 35/500\n",
            "34/34 [==============================] - 0s 2ms/step - loss: 6303.1655 - mae: 6303.1655\n",
            "Epoch 36/500\n",
            "34/34 [==============================] - 0s 2ms/step - loss: 6279.3442 - mae: 6279.3442\n",
            "Epoch 37/500\n",
            "34/34 [==============================] - 0s 2ms/step - loss: 6252.8760 - mae: 6252.8760\n",
            "Epoch 38/500\n",
            "34/34 [==============================] - 0s 3ms/step - loss: 6226.5601 - mae: 6226.5601\n",
            "Epoch 39/500\n",
            "34/34 [==============================] - 0s 3ms/step - loss: 6200.3413 - mae: 6200.3413\n",
            "Epoch 40/500\n",
            "34/34 [==============================] - 0s 2ms/step - loss: 6163.0039 - mae: 6163.0039\n",
            "Epoch 41/500\n",
            "34/34 [==============================] - 0s 2ms/step - loss: 6134.1704 - mae: 6134.1704\n",
            "Epoch 42/500\n",
            "34/34 [==============================] - 0s 3ms/step - loss: 6094.2446 - mae: 6094.2446\n",
            "Epoch 43/500\n",
            "34/34 [==============================] - 0s 3ms/step - loss: 6060.3589 - mae: 6060.3589\n",
            "Epoch 44/500\n",
            "34/34 [==============================] - 0s 3ms/step - loss: 6018.0557 - mae: 6018.0557\n",
            "Epoch 45/500\n",
            "34/34 [==============================] - 0s 3ms/step - loss: 5976.0723 - mae: 5976.0723\n",
            "Epoch 46/500\n",
            "34/34 [==============================] - 0s 2ms/step - loss: 5951.5044 - mae: 5951.5044\n",
            "Epoch 47/500\n",
            "34/34 [==============================] - 0s 2ms/step - loss: 5901.9155 - mae: 5901.9155\n",
            "Epoch 48/500\n",
            "34/34 [==============================] - 0s 3ms/step - loss: 5842.4121 - mae: 5842.4121\n",
            "Epoch 49/500\n",
            "34/34 [==============================] - 0s 3ms/step - loss: 5788.3506 - mae: 5788.3506\n",
            "Epoch 50/500\n",
            "34/34 [==============================] - 0s 3ms/step - loss: 5731.5381 - mae: 5731.5381\n",
            "Epoch 51/500\n",
            "34/34 [==============================] - 0s 2ms/step - loss: 5676.2979 - mae: 5676.2979\n",
            "Epoch 52/500\n",
            "34/34 [==============================] - 0s 3ms/step - loss: 5620.7080 - mae: 5620.7080\n",
            "Epoch 53/500\n",
            "34/34 [==============================] - 0s 3ms/step - loss: 5542.4863 - mae: 5542.4863\n",
            "Epoch 54/500\n",
            "34/34 [==============================] - 0s 3ms/step - loss: 5476.1006 - mae: 5476.1006\n",
            "Epoch 55/500\n",
            "34/34 [==============================] - 0s 3ms/step - loss: 5398.4263 - mae: 5398.4263\n",
            "Epoch 56/500\n",
            "34/34 [==============================] - 0s 3ms/step - loss: 5319.7817 - mae: 5319.7817\n",
            "Epoch 57/500\n",
            "34/34 [==============================] - 0s 3ms/step - loss: 5211.4790 - mae: 5211.4790\n",
            "Epoch 58/500\n",
            "34/34 [==============================] - 0s 3ms/step - loss: 5115.8164 - mae: 5115.8164\n",
            "Epoch 59/500\n",
            "34/34 [==============================] - 0s 3ms/step - loss: 4994.2319 - mae: 4994.2319\n",
            "Epoch 60/500\n",
            "34/34 [==============================] - 0s 3ms/step - loss: 4897.2485 - mae: 4897.2485\n",
            "Epoch 61/500\n",
            "34/34 [==============================] - 0s 3ms/step - loss: 4766.2881 - mae: 4766.2881\n",
            "Epoch 62/500\n",
            "34/34 [==============================] - 0s 3ms/step - loss: 4614.8003 - mae: 4614.8003\n",
            "Epoch 63/500\n",
            "34/34 [==============================] - 0s 4ms/step - loss: 4473.7036 - mae: 4473.7036\n",
            "Epoch 64/500\n",
            "34/34 [==============================] - 0s 4ms/step - loss: 4335.7275 - mae: 4335.7275\n",
            "Epoch 65/500\n",
            "34/34 [==============================] - 0s 6ms/step - loss: 4186.9224 - mae: 4186.9224\n",
            "Epoch 66/500\n",
            "34/34 [==============================] - 0s 5ms/step - loss: 4038.7317 - mae: 4038.7317\n",
            "Epoch 67/500\n",
            "34/34 [==============================] - 0s 4ms/step - loss: 3931.2373 - mae: 3931.2373\n",
            "Epoch 68/500\n",
            "34/34 [==============================] - 0s 4ms/step - loss: 3829.2639 - mae: 3829.2639\n",
            "Epoch 69/500\n",
            "34/34 [==============================] - 0s 5ms/step - loss: 3764.8525 - mae: 3764.8525\n",
            "Epoch 70/500\n",
            "34/34 [==============================] - 0s 4ms/step - loss: 3703.7114 - mae: 3703.7114\n",
            "Epoch 71/500\n",
            "34/34 [==============================] - 0s 4ms/step - loss: 3685.1284 - mae: 3685.1284\n",
            "Epoch 72/500\n",
            "34/34 [==============================] - 0s 5ms/step - loss: 3644.0588 - mae: 3644.0588\n",
            "Epoch 73/500\n",
            "34/34 [==============================] - 0s 4ms/step - loss: 3627.4548 - mae: 3627.4548\n",
            "Epoch 74/500\n",
            "34/34 [==============================] - 0s 4ms/step - loss: 3606.9412 - mae: 3606.9412\n",
            "Epoch 75/500\n",
            "34/34 [==============================] - 0s 4ms/step - loss: 3580.1648 - mae: 3580.1648\n",
            "Epoch 76/500\n",
            "34/34 [==============================] - 0s 5ms/step - loss: 3574.2061 - mae: 3574.2061\n",
            "Epoch 77/500\n",
            "34/34 [==============================] - 0s 5ms/step - loss: 3548.4734 - mae: 3548.4734\n",
            "Epoch 78/500\n",
            "34/34 [==============================] - 0s 6ms/step - loss: 3546.2239 - mae: 3546.2239\n",
            "Epoch 79/500\n",
            "34/34 [==============================] - 0s 5ms/step - loss: 3532.5051 - mae: 3532.5051\n",
            "Epoch 80/500\n",
            "34/34 [==============================] - 0s 3ms/step - loss: 3521.2908 - mae: 3521.2908\n",
            "Epoch 81/500\n",
            "34/34 [==============================] - 0s 3ms/step - loss: 3513.0842 - mae: 3513.0842\n",
            "Epoch 82/500\n",
            "34/34 [==============================] - 0s 3ms/step - loss: 3503.0989 - mae: 3503.0989\n",
            "Epoch 83/500\n",
            "34/34 [==============================] - 0s 2ms/step - loss: 3504.8044 - mae: 3504.8044\n",
            "Epoch 84/500\n",
            "34/34 [==============================] - 0s 2ms/step - loss: 3510.3467 - mae: 3510.3467\n",
            "Epoch 85/500\n",
            "34/34 [==============================] - 0s 2ms/step - loss: 3471.7485 - mae: 3471.7485\n",
            "Epoch 86/500\n",
            "34/34 [==============================] - 0s 3ms/step - loss: 3470.8140 - mae: 3470.8140\n",
            "Epoch 87/500\n",
            "34/34 [==============================] - 0s 3ms/step - loss: 3467.6267 - mae: 3467.6267\n",
            "Epoch 88/500\n",
            "34/34 [==============================] - 0s 3ms/step - loss: 3456.5686 - mae: 3456.5686\n",
            "Epoch 89/500\n",
            "34/34 [==============================] - 0s 3ms/step - loss: 3437.0803 - mae: 3437.0803\n",
            "Epoch 90/500\n",
            "34/34 [==============================] - 0s 3ms/step - loss: 3441.1921 - mae: 3441.1921\n",
            "Epoch 91/500\n",
            "34/34 [==============================] - 0s 3ms/step - loss: 3435.0461 - mae: 3435.0461\n",
            "Epoch 92/500\n",
            "34/34 [==============================] - 0s 2ms/step - loss: 3430.0386 - mae: 3430.0386\n",
            "Epoch 93/500\n",
            "34/34 [==============================] - 0s 3ms/step - loss: 3415.5803 - mae: 3415.5803\n",
            "Epoch 94/500\n",
            "34/34 [==============================] - 0s 2ms/step - loss: 3396.9541 - mae: 3396.9541\n",
            "Epoch 95/500\n",
            "34/34 [==============================] - 0s 3ms/step - loss: 3389.5298 - mae: 3389.5298\n",
            "Epoch 96/500\n",
            "34/34 [==============================] - 0s 3ms/step - loss: 3379.9380 - mae: 3379.9380\n",
            "Epoch 97/500\n",
            "34/34 [==============================] - 0s 2ms/step - loss: 3372.7656 - mae: 3372.7656\n",
            "Epoch 98/500\n",
            "34/34 [==============================] - 0s 3ms/step - loss: 3357.8015 - mae: 3357.8015\n",
            "Epoch 99/500\n",
            "34/34 [==============================] - 0s 4ms/step - loss: 3355.9004 - mae: 3355.9004\n",
            "Epoch 100/500\n",
            "34/34 [==============================] - 0s 3ms/step - loss: 3340.9351 - mae: 3340.9351\n",
            "Epoch 101/500\n",
            "34/34 [==============================] - 0s 3ms/step - loss: 3330.8293 - mae: 3330.8293\n",
            "Epoch 102/500\n",
            "34/34 [==============================] - 0s 3ms/step - loss: 3322.5903 - mae: 3322.5903\n",
            "Epoch 103/500\n",
            "34/34 [==============================] - 0s 3ms/step - loss: 3319.6533 - mae: 3319.6533\n",
            "Epoch 104/500\n",
            "34/34 [==============================] - 0s 3ms/step - loss: 3311.8650 - mae: 3311.8650\n",
            "Epoch 105/500\n",
            "34/34 [==============================] - 0s 2ms/step - loss: 3287.6157 - mae: 3287.6157\n",
            "Epoch 106/500\n",
            "34/34 [==============================] - 0s 3ms/step - loss: 3283.0325 - mae: 3283.0325\n",
            "Epoch 107/500\n",
            "34/34 [==============================] - 0s 3ms/step - loss: 3263.9585 - mae: 3263.9585\n",
            "Epoch 108/500\n",
            "34/34 [==============================] - 0s 3ms/step - loss: 3257.2749 - mae: 3257.2749\n",
            "Epoch 109/500\n",
            "34/34 [==============================] - 0s 3ms/step - loss: 3255.2329 - mae: 3255.2329\n",
            "Epoch 110/500\n",
            "34/34 [==============================] - 0s 3ms/step - loss: 3230.2732 - mae: 3230.2732\n",
            "Epoch 111/500\n",
            "34/34 [==============================] - 0s 3ms/step - loss: 3230.5515 - mae: 3230.5515\n",
            "Epoch 112/500\n",
            "34/34 [==============================] - 0s 3ms/step - loss: 3219.5747 - mae: 3219.5747\n",
            "Epoch 113/500\n",
            "34/34 [==============================] - 0s 2ms/step - loss: 3228.6814 - mae: 3228.6814\n",
            "Epoch 114/500\n",
            "34/34 [==============================] - 0s 3ms/step - loss: 3196.4717 - mae: 3196.4717\n",
            "Epoch 115/500\n",
            "34/34 [==============================] - 0s 3ms/step - loss: 3181.5281 - mae: 3181.5281\n",
            "Epoch 116/500\n",
            "34/34 [==============================] - 0s 2ms/step - loss: 3163.5977 - mae: 3163.5977\n",
            "Epoch 117/500\n",
            "34/34 [==============================] - 0s 3ms/step - loss: 3150.2090 - mae: 3150.2090\n",
            "Epoch 118/500\n",
            "34/34 [==============================] - 0s 3ms/step - loss: 3156.0054 - mae: 3156.0054\n",
            "Epoch 119/500\n",
            "34/34 [==============================] - 0s 4ms/step - loss: 3116.9363 - mae: 3116.9363\n",
            "Epoch 120/500\n",
            "34/34 [==============================] - 0s 4ms/step - loss: 3107.9565 - mae: 3107.9565\n",
            "Epoch 121/500\n",
            "34/34 [==============================] - 0s 4ms/step - loss: 3086.4683 - mae: 3086.4683\n",
            "Epoch 122/500\n",
            "34/34 [==============================] - 0s 3ms/step - loss: 3074.0786 - mae: 3074.0786\n",
            "Epoch 123/500\n",
            "34/34 [==============================] - 0s 3ms/step - loss: 3060.9182 - mae: 3060.9182\n",
            "Epoch 124/500\n",
            "34/34 [==============================] - 0s 4ms/step - loss: 3062.1475 - mae: 3062.1475\n",
            "Epoch 125/500\n",
            "34/34 [==============================] - 0s 3ms/step - loss: 3030.5625 - mae: 3030.5625\n",
            "Epoch 126/500\n",
            "34/34 [==============================] - 0s 3ms/step - loss: 3016.8596 - mae: 3016.8596\n",
            "Epoch 127/500\n",
            "34/34 [==============================] - 0s 4ms/step - loss: 3013.1646 - mae: 3013.1646\n",
            "Epoch 128/500\n",
            "34/34 [==============================] - 0s 3ms/step - loss: 2991.7366 - mae: 2991.7366\n",
            "Epoch 129/500\n",
            "34/34 [==============================] - 0s 3ms/step - loss: 2978.8718 - mae: 2978.8718\n",
            "Epoch 130/500\n",
            "34/34 [==============================] - 0s 3ms/step - loss: 2950.4180 - mae: 2950.4180\n",
            "Epoch 131/500\n",
            "34/34 [==============================] - 0s 3ms/step - loss: 2933.5129 - mae: 2933.5129\n",
            "Epoch 132/500\n",
            "34/34 [==============================] - 0s 3ms/step - loss: 2930.1978 - mae: 2930.1978\n",
            "Epoch 133/500\n",
            "34/34 [==============================] - 0s 3ms/step - loss: 2925.3303 - mae: 2925.3303\n",
            "Epoch 134/500\n",
            "34/34 [==============================] - 0s 3ms/step - loss: 2912.8672 - mae: 2912.8672\n",
            "Epoch 135/500\n",
            "34/34 [==============================] - 0s 3ms/step - loss: 2909.4600 - mae: 2909.4600\n",
            "Epoch 136/500\n",
            "34/34 [==============================] - 0s 3ms/step - loss: 2893.6460 - mae: 2893.6460\n",
            "Epoch 137/500\n",
            "34/34 [==============================] - 0s 4ms/step - loss: 2890.2505 - mae: 2890.2505\n",
            "Epoch 138/500\n",
            "34/34 [==============================] - 0s 3ms/step - loss: 2882.3035 - mae: 2882.3035\n",
            "Epoch 139/500\n",
            "34/34 [==============================] - 0s 3ms/step - loss: 2904.5640 - mae: 2904.5640\n",
            "Epoch 140/500\n",
            "34/34 [==============================] - 0s 3ms/step - loss: 2893.1538 - mae: 2893.1538\n",
            "Epoch 141/500\n",
            "34/34 [==============================] - 0s 3ms/step - loss: 2872.5952 - mae: 2872.5952\n",
            "Epoch 142/500\n",
            "34/34 [==============================] - 0s 3ms/step - loss: 2860.8821 - mae: 2860.8821\n",
            "Epoch 143/500\n",
            "34/34 [==============================] - 0s 3ms/step - loss: 2865.3416 - mae: 2865.3416\n",
            "Epoch 144/500\n",
            "34/34 [==============================] - 0s 2ms/step - loss: 2856.7261 - mae: 2856.7261\n",
            "Epoch 145/500\n",
            "34/34 [==============================] - 0s 4ms/step - loss: 2855.1680 - mae: 2855.1680\n",
            "Epoch 146/500\n",
            "34/34 [==============================] - 0s 3ms/step - loss: 2858.8806 - mae: 2858.8806\n",
            "Epoch 147/500\n",
            "34/34 [==============================] - 0s 3ms/step - loss: 2853.2712 - mae: 2853.2712\n",
            "Epoch 148/500\n",
            "34/34 [==============================] - 0s 3ms/step - loss: 2845.5198 - mae: 2845.5198\n",
            "Epoch 149/500\n",
            "34/34 [==============================] - 0s 3ms/step - loss: 2834.2742 - mae: 2834.2742\n",
            "Epoch 150/500\n",
            "34/34 [==============================] - 0s 4ms/step - loss: 2828.5327 - mae: 2828.5327\n",
            "Epoch 151/500\n",
            "34/34 [==============================] - 0s 3ms/step - loss: 2827.5513 - mae: 2827.5513\n",
            "Epoch 152/500\n",
            "34/34 [==============================] - 0s 3ms/step - loss: 2815.1729 - mae: 2815.1729\n",
            "Epoch 153/500\n",
            "34/34 [==============================] - 0s 3ms/step - loss: 2835.1294 - mae: 2835.1294\n",
            "Epoch 154/500\n",
            "34/34 [==============================] - 0s 3ms/step - loss: 2827.9497 - mae: 2827.9497\n",
            "Epoch 155/500\n",
            "34/34 [==============================] - 0s 4ms/step - loss: 2814.3657 - mae: 2814.3657\n",
            "Epoch 156/500\n",
            "34/34 [==============================] - 0s 3ms/step - loss: 2799.4553 - mae: 2799.4553\n",
            "Epoch 157/500\n",
            "34/34 [==============================] - 0s 3ms/step - loss: 2808.7744 - mae: 2808.7744\n",
            "Epoch 158/500\n",
            "34/34 [==============================] - 0s 3ms/step - loss: 2795.8879 - mae: 2795.8879\n",
            "Epoch 159/500\n",
            "34/34 [==============================] - 0s 3ms/step - loss: 2791.7188 - mae: 2791.7188\n",
            "Epoch 160/500\n",
            "34/34 [==============================] - 0s 4ms/step - loss: 2824.4741 - mae: 2824.4741\n",
            "Epoch 161/500\n",
            "34/34 [==============================] - 0s 3ms/step - loss: 2785.2563 - mae: 2785.2563\n",
            "Epoch 162/500\n",
            "34/34 [==============================] - 0s 2ms/step - loss: 2777.7727 - mae: 2777.7727\n",
            "Epoch 163/500\n",
            "34/34 [==============================] - 0s 3ms/step - loss: 2776.3604 - mae: 2776.3604\n",
            "Epoch 164/500\n",
            "34/34 [==============================] - 0s 3ms/step - loss: 2772.7017 - mae: 2772.7017\n",
            "Epoch 165/500\n",
            "34/34 [==============================] - 0s 3ms/step - loss: 2765.9299 - mae: 2765.9299\n",
            "Epoch 166/500\n",
            "34/34 [==============================] - 0s 3ms/step - loss: 2758.5659 - mae: 2758.5659\n",
            "Epoch 167/500\n",
            "34/34 [==============================] - 0s 3ms/step - loss: 2762.9158 - mae: 2762.9158\n",
            "Epoch 168/500\n",
            "34/34 [==============================] - 0s 3ms/step - loss: 2754.5972 - mae: 2754.5972\n",
            "Epoch 169/500\n",
            "34/34 [==============================] - 0s 3ms/step - loss: 2751.4963 - mae: 2751.4963\n",
            "Epoch 170/500\n",
            "34/34 [==============================] - 0s 3ms/step - loss: 2746.9375 - mae: 2746.9375\n",
            "Epoch 171/500\n",
            "34/34 [==============================] - 0s 5ms/step - loss: 2761.5110 - mae: 2761.5110\n",
            "Epoch 172/500\n",
            "34/34 [==============================] - 0s 5ms/step - loss: 2741.2893 - mae: 2741.2893\n",
            "Epoch 173/500\n",
            "34/34 [==============================] - 0s 6ms/step - loss: 2736.5786 - mae: 2736.5786\n",
            "Epoch 174/500\n",
            "34/34 [==============================] - 0s 4ms/step - loss: 2732.1743 - mae: 2732.1743\n",
            "Epoch 175/500\n",
            "34/34 [==============================] - 0s 5ms/step - loss: 2729.3137 - mae: 2729.3137\n",
            "Epoch 176/500\n",
            "34/34 [==============================] - 0s 5ms/step - loss: 2731.7058 - mae: 2731.7058\n",
            "Epoch 177/500\n",
            "34/34 [==============================] - 0s 5ms/step - loss: 2741.7129 - mae: 2741.7129\n",
            "Epoch 178/500\n",
            "34/34 [==============================] - 0s 4ms/step - loss: 2738.8289 - mae: 2738.8289\n",
            "Epoch 179/500\n",
            "34/34 [==============================] - 0s 4ms/step - loss: 2722.8882 - mae: 2722.8882\n",
            "Epoch 180/500\n",
            "34/34 [==============================] - 0s 4ms/step - loss: 2712.1218 - mae: 2712.1218\n",
            "Epoch 181/500\n",
            "34/34 [==============================] - 0s 5ms/step - loss: 2720.5190 - mae: 2720.5190\n",
            "Epoch 182/500\n",
            "34/34 [==============================] - 0s 5ms/step - loss: 2707.7205 - mae: 2707.7205\n",
            "Epoch 183/500\n",
            "34/34 [==============================] - 0s 4ms/step - loss: 2696.3218 - mae: 2696.3218\n",
            "Epoch 184/500\n",
            "34/34 [==============================] - 0s 6ms/step - loss: 2703.9905 - mae: 2703.9905\n",
            "Epoch 185/500\n",
            "34/34 [==============================] - 0s 6ms/step - loss: 2695.6006 - mae: 2695.6006\n",
            "Epoch 186/500\n",
            "34/34 [==============================] - 0s 6ms/step - loss: 2687.9299 - mae: 2687.9299\n",
            "Epoch 187/500\n",
            "34/34 [==============================] - 0s 6ms/step - loss: 2693.9443 - mae: 2693.9443\n",
            "Epoch 188/500\n",
            "34/34 [==============================] - 0s 3ms/step - loss: 2685.6965 - mae: 2685.6965\n",
            "Epoch 189/500\n",
            "34/34 [==============================] - 0s 4ms/step - loss: 2676.7686 - mae: 2676.7686\n",
            "Epoch 190/500\n",
            "34/34 [==============================] - 0s 3ms/step - loss: 2679.4717 - mae: 2679.4717\n",
            "Epoch 191/500\n",
            "34/34 [==============================] - 0s 3ms/step - loss: 2690.6060 - mae: 2690.6060\n",
            "Epoch 192/500\n",
            "34/34 [==============================] - 0s 4ms/step - loss: 2672.7720 - mae: 2672.7720\n",
            "Epoch 193/500\n",
            "34/34 [==============================] - 0s 3ms/step - loss: 2676.2830 - mae: 2676.2830\n",
            "Epoch 194/500\n",
            "34/34 [==============================] - 0s 2ms/step - loss: 2668.4883 - mae: 2668.4883\n",
            "Epoch 195/500\n",
            "34/34 [==============================] - 0s 3ms/step - loss: 2658.0251 - mae: 2658.0251\n",
            "Epoch 196/500\n",
            "34/34 [==============================] - 0s 3ms/step - loss: 2680.8086 - mae: 2680.8086\n",
            "Epoch 197/500\n",
            "34/34 [==============================] - 0s 3ms/step - loss: 2649.5967 - mae: 2649.5967\n",
            "Epoch 198/500\n",
            "34/34 [==============================] - 0s 3ms/step - loss: 2648.2117 - mae: 2648.2117\n",
            "Epoch 199/500\n",
            "34/34 [==============================] - 0s 3ms/step - loss: 2646.9561 - mae: 2646.9561\n",
            "Epoch 200/500\n",
            "34/34 [==============================] - 0s 3ms/step - loss: 2646.0317 - mae: 2646.0317\n",
            "Epoch 201/500\n",
            "34/34 [==============================] - 0s 4ms/step - loss: 2639.4600 - mae: 2639.4600\n",
            "Epoch 202/500\n",
            "34/34 [==============================] - 0s 3ms/step - loss: 2627.1816 - mae: 2627.1816\n",
            "Epoch 203/500\n",
            "34/34 [==============================] - 0s 3ms/step - loss: 2631.9126 - mae: 2631.9126\n",
            "Epoch 204/500\n",
            "34/34 [==============================] - 0s 3ms/step - loss: 2645.0769 - mae: 2645.0769\n",
            "Epoch 205/500\n",
            "34/34 [==============================] - 0s 3ms/step - loss: 2614.5740 - mae: 2614.5740\n",
            "Epoch 206/500\n",
            "34/34 [==============================] - 0s 3ms/step - loss: 2620.2515 - mae: 2620.2515\n",
            "Epoch 207/500\n",
            "34/34 [==============================] - 0s 3ms/step - loss: 2609.7366 - mae: 2609.7366\n",
            "Epoch 208/500\n",
            "34/34 [==============================] - 0s 3ms/step - loss: 2615.3396 - mae: 2615.3396\n",
            "Epoch 209/500\n",
            "34/34 [==============================] - 0s 3ms/step - loss: 2616.7688 - mae: 2616.7688\n",
            "Epoch 210/500\n",
            "34/34 [==============================] - 0s 3ms/step - loss: 2609.2468 - mae: 2609.2468\n",
            "Epoch 211/500\n",
            "34/34 [==============================] - 0s 3ms/step - loss: 2604.4211 - mae: 2604.4211\n",
            "Epoch 212/500\n",
            "34/34 [==============================] - 0s 3ms/step - loss: 2597.9868 - mae: 2597.9868\n",
            "Epoch 213/500\n",
            "34/34 [==============================] - 0s 3ms/step - loss: 2595.2278 - mae: 2595.2278\n",
            "Epoch 214/500\n",
            "34/34 [==============================] - 0s 3ms/step - loss: 2590.1265 - mae: 2590.1265\n",
            "Epoch 215/500\n",
            "34/34 [==============================] - 0s 8ms/step - loss: 2592.2698 - mae: 2592.2698\n",
            "Epoch 216/500\n",
            "34/34 [==============================] - 0s 12ms/step - loss: 2584.9099 - mae: 2584.9099\n",
            "Epoch 217/500\n",
            "34/34 [==============================] - 0s 7ms/step - loss: 2578.5942 - mae: 2578.5942\n",
            "Epoch 218/500\n",
            "34/34 [==============================] - 0s 3ms/step - loss: 2584.9922 - mae: 2584.9922\n",
            "Epoch 219/500\n",
            "34/34 [==============================] - 0s 2ms/step - loss: 2569.1199 - mae: 2569.1199\n",
            "Epoch 220/500\n",
            "34/34 [==============================] - 0s 2ms/step - loss: 2562.3237 - mae: 2562.3237\n",
            "Epoch 221/500\n",
            "34/34 [==============================] - 0s 3ms/step - loss: 2578.3501 - mae: 2578.3501\n",
            "Epoch 222/500\n",
            "34/34 [==============================] - 0s 2ms/step - loss: 2575.1887 - mae: 2575.1887\n",
            "Epoch 223/500\n",
            "34/34 [==============================] - 0s 3ms/step - loss: 2555.3647 - mae: 2555.3647\n",
            "Epoch 224/500\n",
            "34/34 [==============================] - 0s 3ms/step - loss: 2558.4045 - mae: 2558.4045\n",
            "Epoch 225/500\n",
            "34/34 [==============================] - 0s 3ms/step - loss: 2549.7891 - mae: 2549.7891\n",
            "Epoch 226/500\n",
            "34/34 [==============================] - 0s 2ms/step - loss: 2542.5125 - mae: 2542.5125\n",
            "Epoch 227/500\n",
            "34/34 [==============================] - 0s 3ms/step - loss: 2544.4146 - mae: 2544.4146\n",
            "Epoch 228/500\n",
            "34/34 [==============================] - 0s 3ms/step - loss: 2539.0728 - mae: 2539.0728\n",
            "Epoch 229/500\n",
            "34/34 [==============================] - 0s 3ms/step - loss: 2529.5647 - mae: 2529.5647\n",
            "Epoch 230/500\n",
            "34/34 [==============================] - 0s 3ms/step - loss: 2532.2173 - mae: 2532.2173\n",
            "Epoch 231/500\n",
            "34/34 [==============================] - 0s 3ms/step - loss: 2530.8943 - mae: 2530.8943\n",
            "Epoch 232/500\n",
            "34/34 [==============================] - 0s 3ms/step - loss: 2525.8577 - mae: 2525.8577\n",
            "Epoch 233/500\n",
            "34/34 [==============================] - 0s 3ms/step - loss: 2538.4541 - mae: 2538.4541\n",
            "Epoch 234/500\n",
            "34/34 [==============================] - 0s 3ms/step - loss: 2524.3210 - mae: 2524.3210\n",
            "Epoch 235/500\n",
            "34/34 [==============================] - 0s 3ms/step - loss: 2513.8284 - mae: 2513.8284\n",
            "Epoch 236/500\n",
            "34/34 [==============================] - 0s 3ms/step - loss: 2512.5623 - mae: 2512.5623\n",
            "Epoch 237/500\n",
            "34/34 [==============================] - 0s 3ms/step - loss: 2517.9436 - mae: 2517.9436\n",
            "Epoch 238/500\n",
            "34/34 [==============================] - 0s 3ms/step - loss: 2513.2078 - mae: 2513.2078\n",
            "Epoch 239/500\n",
            "34/34 [==============================] - 0s 3ms/step - loss: 2497.3325 - mae: 2497.3325\n",
            "Epoch 240/500\n",
            "34/34 [==============================] - 0s 3ms/step - loss: 2517.3433 - mae: 2517.3433\n",
            "Epoch 241/500\n",
            "34/34 [==============================] - 0s 3ms/step - loss: 2499.6057 - mae: 2499.6057\n",
            "Epoch 242/500\n",
            "34/34 [==============================] - 0s 3ms/step - loss: 2484.9529 - mae: 2484.9529\n",
            "Epoch 243/500\n",
            "34/34 [==============================] - 0s 3ms/step - loss: 2490.9431 - mae: 2490.9431\n",
            "Epoch 244/500\n",
            "34/34 [==============================] - 0s 3ms/step - loss: 2485.9963 - mae: 2485.9963\n",
            "Epoch 245/500\n",
            "34/34 [==============================] - 0s 3ms/step - loss: 2483.1714 - mae: 2483.1714\n",
            "Epoch 246/500\n",
            "34/34 [==============================] - 0s 3ms/step - loss: 2472.1428 - mae: 2472.1428\n",
            "Epoch 247/500\n",
            "34/34 [==============================] - 0s 3ms/step - loss: 2473.8284 - mae: 2473.8284\n",
            "Epoch 248/500\n",
            "34/34 [==============================] - 0s 2ms/step - loss: 2466.7188 - mae: 2466.7188\n",
            "Epoch 249/500\n",
            "34/34 [==============================] - 0s 3ms/step - loss: 2466.8328 - mae: 2466.8328\n",
            "Epoch 250/500\n",
            "34/34 [==============================] - 0s 3ms/step - loss: 2460.4531 - mae: 2460.4531\n",
            "Epoch 251/500\n",
            "34/34 [==============================] - 0s 3ms/step - loss: 2461.7080 - mae: 2461.7080\n",
            "Epoch 252/500\n",
            "34/34 [==============================] - 0s 2ms/step - loss: 2456.9985 - mae: 2456.9985\n",
            "Epoch 253/500\n",
            "34/34 [==============================] - 0s 3ms/step - loss: 2465.8850 - mae: 2465.8850\n",
            "Epoch 254/500\n",
            "34/34 [==============================] - 0s 3ms/step - loss: 2457.2930 - mae: 2457.2930\n",
            "Epoch 255/500\n",
            "34/34 [==============================] - 0s 3ms/step - loss: 2440.4990 - mae: 2440.4990\n",
            "Epoch 256/500\n",
            "34/34 [==============================] - 0s 3ms/step - loss: 2445.9146 - mae: 2445.9146\n",
            "Epoch 257/500\n",
            "34/34 [==============================] - 0s 3ms/step - loss: 2434.1169 - mae: 2434.1169\n",
            "Epoch 258/500\n",
            "34/34 [==============================] - 0s 3ms/step - loss: 2437.0872 - mae: 2437.0872\n",
            "Epoch 259/500\n",
            "34/34 [==============================] - 0s 3ms/step - loss: 2427.3413 - mae: 2427.3413\n",
            "Epoch 260/500\n",
            "34/34 [==============================] - 0s 3ms/step - loss: 2426.8015 - mae: 2426.8015\n",
            "Epoch 261/500\n",
            "34/34 [==============================] - 0s 3ms/step - loss: 2430.9380 - mae: 2430.9380\n",
            "Epoch 262/500\n",
            "34/34 [==============================] - 0s 3ms/step - loss: 2433.2017 - mae: 2433.2017\n",
            "Epoch 263/500\n",
            "34/34 [==============================] - 0s 3ms/step - loss: 2424.2727 - mae: 2424.2727\n",
            "Epoch 264/500\n",
            "34/34 [==============================] - 0s 3ms/step - loss: 2417.2979 - mae: 2417.2979\n",
            "Epoch 265/500\n",
            "34/34 [==============================] - 0s 3ms/step - loss: 2405.3423 - mae: 2405.3423\n",
            "Epoch 266/500\n",
            "34/34 [==============================] - 0s 3ms/step - loss: 2419.4644 - mae: 2419.4644\n",
            "Epoch 267/500\n",
            "34/34 [==============================] - 0s 3ms/step - loss: 2420.2039 - mae: 2420.2039\n",
            "Epoch 268/500\n",
            "34/34 [==============================] - 0s 3ms/step - loss: 2408.9768 - mae: 2408.9768\n",
            "Epoch 269/500\n",
            "34/34 [==============================] - 0s 3ms/step - loss: 2408.4705 - mae: 2408.4705\n",
            "Epoch 270/500\n",
            "34/34 [==============================] - 0s 3ms/step - loss: 2395.2073 - mae: 2395.2073\n",
            "Epoch 271/500\n",
            "34/34 [==============================] - 0s 3ms/step - loss: 2390.8381 - mae: 2390.8381\n",
            "Epoch 272/500\n",
            "34/34 [==============================] - 0s 3ms/step - loss: 2388.9053 - mae: 2388.9053\n",
            "Epoch 273/500\n",
            "34/34 [==============================] - 0s 3ms/step - loss: 2388.7063 - mae: 2388.7063\n",
            "Epoch 274/500\n",
            "34/34 [==============================] - 0s 3ms/step - loss: 2390.7908 - mae: 2390.7908\n",
            "Epoch 275/500\n",
            "34/34 [==============================] - 0s 5ms/step - loss: 2377.0217 - mae: 2377.0217\n",
            "Epoch 276/500\n",
            "34/34 [==============================] - 0s 5ms/step - loss: 2376.1802 - mae: 2376.1802\n",
            "Epoch 277/500\n",
            "34/34 [==============================] - 0s 5ms/step - loss: 2379.6208 - mae: 2379.6208\n",
            "Epoch 278/500\n",
            "34/34 [==============================] - 0s 4ms/step - loss: 2369.3308 - mae: 2369.3308\n",
            "Epoch 279/500\n",
            "34/34 [==============================] - 0s 5ms/step - loss: 2363.7612 - mae: 2363.7612\n",
            "Epoch 280/500\n",
            "34/34 [==============================] - 0s 5ms/step - loss: 2356.6013 - mae: 2356.6013\n",
            "Epoch 281/500\n",
            "34/34 [==============================] - 0s 4ms/step - loss: 2362.4373 - mae: 2362.4373\n",
            "Epoch 282/500\n",
            "34/34 [==============================] - 0s 4ms/step - loss: 2352.9863 - mae: 2352.9863\n",
            "Epoch 283/500\n",
            "34/34 [==============================] - 0s 4ms/step - loss: 2364.9226 - mae: 2364.9226\n",
            "Epoch 284/500\n",
            "34/34 [==============================] - 0s 4ms/step - loss: 2346.3142 - mae: 2346.3142\n",
            "Epoch 285/500\n",
            "34/34 [==============================] - 0s 5ms/step - loss: 2352.0784 - mae: 2352.0784\n",
            "Epoch 286/500\n",
            "34/34 [==============================] - 0s 5ms/step - loss: 2354.8784 - mae: 2354.8784\n",
            "Epoch 287/500\n",
            "34/34 [==============================] - 0s 5ms/step - loss: 2347.1699 - mae: 2347.1699\n",
            "Epoch 288/500\n",
            "34/34 [==============================] - 1s 17ms/step - loss: 2339.6104 - mae: 2339.6104\n",
            "Epoch 289/500\n",
            "34/34 [==============================] - 1s 21ms/step - loss: 2334.0303 - mae: 2334.0303\n",
            "Epoch 290/500\n",
            "34/34 [==============================] - 0s 4ms/step - loss: 2333.0801 - mae: 2333.0801\n",
            "Epoch 291/500\n",
            "34/34 [==============================] - 0s 3ms/step - loss: 2327.4258 - mae: 2327.4258\n",
            "Epoch 292/500\n",
            "34/34 [==============================] - 0s 3ms/step - loss: 2331.1814 - mae: 2331.1814\n",
            "Epoch 293/500\n",
            "34/34 [==============================] - 0s 3ms/step - loss: 2326.1929 - mae: 2326.1929\n",
            "Epoch 294/500\n",
            "34/34 [==============================] - 0s 4ms/step - loss: 2327.9392 - mae: 2327.9392\n",
            "Epoch 295/500\n",
            "34/34 [==============================] - 0s 4ms/step - loss: 2314.6658 - mae: 2314.6658\n",
            "Epoch 296/500\n",
            "34/34 [==============================] - 0s 3ms/step - loss: 2338.0942 - mae: 2338.0942\n",
            "Epoch 297/500\n",
            "34/34 [==============================] - 0s 3ms/step - loss: 2328.4004 - mae: 2328.4004\n",
            "Epoch 298/500\n",
            "34/34 [==============================] - 0s 3ms/step - loss: 2303.4646 - mae: 2303.4646\n",
            "Epoch 299/500\n",
            "34/34 [==============================] - 0s 4ms/step - loss: 2318.1980 - mae: 2318.1980\n",
            "Epoch 300/500\n",
            "34/34 [==============================] - 0s 3ms/step - loss: 2299.9519 - mae: 2299.9519\n",
            "Epoch 301/500\n",
            "34/34 [==============================] - 0s 3ms/step - loss: 2298.6035 - mae: 2298.6035\n",
            "Epoch 302/500\n",
            "34/34 [==============================] - 0s 3ms/step - loss: 2293.9609 - mae: 2293.9609\n",
            "Epoch 303/500\n",
            "34/34 [==============================] - 0s 4ms/step - loss: 2286.7061 - mae: 2286.7061\n",
            "Epoch 304/500\n",
            "34/34 [==============================] - 0s 4ms/step - loss: 2291.7493 - mae: 2291.7493\n",
            "Epoch 305/500\n",
            "34/34 [==============================] - 0s 3ms/step - loss: 2282.4028 - mae: 2282.4028\n",
            "Epoch 306/500\n",
            "34/34 [==============================] - 0s 3ms/step - loss: 2281.6357 - mae: 2281.6357\n",
            "Epoch 307/500\n",
            "34/34 [==============================] - 0s 3ms/step - loss: 2284.3071 - mae: 2284.3071\n",
            "Epoch 308/500\n",
            "34/34 [==============================] - 0s 3ms/step - loss: 2286.8845 - mae: 2286.8845\n",
            "Epoch 309/500\n",
            "34/34 [==============================] - 0s 2ms/step - loss: 2284.9758 - mae: 2284.9758\n",
            "Epoch 310/500\n",
            "34/34 [==============================] - 0s 2ms/step - loss: 2275.4702 - mae: 2275.4702\n",
            "Epoch 311/500\n",
            "34/34 [==============================] - 0s 3ms/step - loss: 2263.4343 - mae: 2263.4343\n",
            "Epoch 312/500\n",
            "34/34 [==============================] - 0s 3ms/step - loss: 2262.7651 - mae: 2262.7651\n",
            "Epoch 313/500\n",
            "34/34 [==============================] - 0s 3ms/step - loss: 2266.2900 - mae: 2266.2900\n",
            "Epoch 314/500\n",
            "34/34 [==============================] - 0s 3ms/step - loss: 2258.3503 - mae: 2258.3503\n",
            "Epoch 315/500\n",
            "34/34 [==============================] - 0s 3ms/step - loss: 2253.1118 - mae: 2253.1118\n",
            "Epoch 316/500\n",
            "34/34 [==============================] - 0s 3ms/step - loss: 2259.5913 - mae: 2259.5913\n",
            "Epoch 317/500\n",
            "34/34 [==============================] - 0s 3ms/step - loss: 2251.5151 - mae: 2251.5151\n",
            "Epoch 318/500\n",
            "34/34 [==============================] - 0s 3ms/step - loss: 2251.3127 - mae: 2251.3127\n",
            "Epoch 319/500\n",
            "34/34 [==============================] - 0s 3ms/step - loss: 2249.8262 - mae: 2249.8262\n",
            "Epoch 320/500\n",
            "34/34 [==============================] - 0s 3ms/step - loss: 2255.3474 - mae: 2255.3474\n",
            "Epoch 321/500\n",
            "34/34 [==============================] - 0s 4ms/step - loss: 2244.3879 - mae: 2244.3879\n",
            "Epoch 322/500\n",
            "34/34 [==============================] - 0s 3ms/step - loss: 2242.0212 - mae: 2242.0212\n",
            "Epoch 323/500\n",
            "34/34 [==============================] - 0s 3ms/step - loss: 2239.3997 - mae: 2239.3997\n",
            "Epoch 324/500\n",
            "34/34 [==============================] - 0s 3ms/step - loss: 2235.9448 - mae: 2235.9448\n",
            "Epoch 325/500\n",
            "34/34 [==============================] - 0s 3ms/step - loss: 2243.0364 - mae: 2243.0364\n",
            "Epoch 326/500\n",
            "34/34 [==============================] - 0s 3ms/step - loss: 2237.1218 - mae: 2237.1218\n",
            "Epoch 327/500\n",
            "34/34 [==============================] - 0s 3ms/step - loss: 2229.2810 - mae: 2229.2810\n",
            "Epoch 328/500\n",
            "34/34 [==============================] - 0s 3ms/step - loss: 2225.9512 - mae: 2225.9512\n",
            "Epoch 329/500\n",
            "34/34 [==============================] - 0s 3ms/step - loss: 2229.0469 - mae: 2229.0469\n",
            "Epoch 330/500\n",
            "34/34 [==============================] - 0s 4ms/step - loss: 2226.8313 - mae: 2226.8313\n",
            "Epoch 331/500\n",
            "34/34 [==============================] - 0s 3ms/step - loss: 2213.9963 - mae: 2213.9963\n",
            "Epoch 332/500\n",
            "34/34 [==============================] - 0s 3ms/step - loss: 2228.7725 - mae: 2228.7725\n",
            "Epoch 333/500\n",
            "34/34 [==============================] - 0s 3ms/step - loss: 2232.7871 - mae: 2232.7871\n",
            "Epoch 334/500\n",
            "34/34 [==============================] - 0s 3ms/step - loss: 2234.0361 - mae: 2234.0361\n",
            "Epoch 335/500\n",
            "34/34 [==============================] - 0s 4ms/step - loss: 2234.9045 - mae: 2234.9045\n",
            "Epoch 336/500\n",
            "34/34 [==============================] - 0s 3ms/step - loss: 2212.0996 - mae: 2212.0996\n",
            "Epoch 337/500\n",
            "34/34 [==============================] - 0s 3ms/step - loss: 2207.7290 - mae: 2207.7290\n",
            "Epoch 338/500\n",
            "34/34 [==============================] - 0s 4ms/step - loss: 2211.5806 - mae: 2211.5806\n",
            "Epoch 339/500\n",
            "34/34 [==============================] - 0s 3ms/step - loss: 2207.6257 - mae: 2207.6257\n",
            "Epoch 340/500\n",
            "34/34 [==============================] - 0s 3ms/step - loss: 2210.1653 - mae: 2210.1653\n",
            "Epoch 341/500\n",
            "34/34 [==============================] - 0s 3ms/step - loss: 2208.7849 - mae: 2208.7849\n",
            "Epoch 342/500\n",
            "34/34 [==============================] - 0s 3ms/step - loss: 2201.3582 - mae: 2201.3582\n",
            "Epoch 343/500\n",
            "34/34 [==============================] - 0s 3ms/step - loss: 2209.7505 - mae: 2209.7505\n",
            "Epoch 344/500\n",
            "34/34 [==============================] - 0s 3ms/step - loss: 2200.3625 - mae: 2200.3625\n",
            "Epoch 345/500\n",
            "34/34 [==============================] - 0s 3ms/step - loss: 2203.8965 - mae: 2203.8965\n",
            "Epoch 346/500\n",
            "34/34 [==============================] - 0s 2ms/step - loss: 2203.4480 - mae: 2203.4480\n",
            "Epoch 347/500\n",
            "34/34 [==============================] - 0s 3ms/step - loss: 2200.4692 - mae: 2200.4692\n",
            "Epoch 348/500\n",
            "34/34 [==============================] - 0s 3ms/step - loss: 2199.5569 - mae: 2199.5569\n",
            "Epoch 349/500\n",
            "34/34 [==============================] - 0s 3ms/step - loss: 2186.8860 - mae: 2186.8860\n",
            "Epoch 350/500\n",
            "34/34 [==============================] - 0s 3ms/step - loss: 2209.9819 - mae: 2209.9819\n",
            "Epoch 351/500\n",
            "34/34 [==============================] - 0s 3ms/step - loss: 2191.5508 - mae: 2191.5508\n",
            "Epoch 352/500\n",
            "34/34 [==============================] - 0s 3ms/step - loss: 2191.5112 - mae: 2191.5112\n",
            "Epoch 353/500\n",
            "34/34 [==============================] - 0s 3ms/step - loss: 2197.1677 - mae: 2197.1677\n",
            "Epoch 354/500\n",
            "34/34 [==============================] - 0s 3ms/step - loss: 2188.3003 - mae: 2188.3003\n",
            "Epoch 355/500\n",
            "34/34 [==============================] - 0s 3ms/step - loss: 2177.2615 - mae: 2177.2615\n",
            "Epoch 356/500\n",
            "34/34 [==============================] - 0s 3ms/step - loss: 2179.5735 - mae: 2179.5735\n",
            "Epoch 357/500\n",
            "34/34 [==============================] - 0s 3ms/step - loss: 2182.5608 - mae: 2182.5608\n",
            "Epoch 358/500\n",
            "34/34 [==============================] - 0s 4ms/step - loss: 2197.5107 - mae: 2197.5107\n",
            "Epoch 359/500\n",
            "34/34 [==============================] - 0s 3ms/step - loss: 2180.8689 - mae: 2180.8689\n",
            "Epoch 360/500\n",
            "34/34 [==============================] - 0s 3ms/step - loss: 2180.5569 - mae: 2180.5569\n",
            "Epoch 361/500\n",
            "34/34 [==============================] - 0s 3ms/step - loss: 2170.4836 - mae: 2170.4836\n",
            "Epoch 362/500\n",
            "34/34 [==============================] - 0s 3ms/step - loss: 2192.0969 - mae: 2192.0969\n",
            "Epoch 363/500\n",
            "34/34 [==============================] - 0s 3ms/step - loss: 2171.3386 - mae: 2171.3386\n",
            "Epoch 364/500\n",
            "34/34 [==============================] - 0s 3ms/step - loss: 2161.6875 - mae: 2161.6875\n",
            "Epoch 365/500\n",
            "34/34 [==============================] - 0s 3ms/step - loss: 2157.4114 - mae: 2157.4114\n",
            "Epoch 366/500\n",
            "34/34 [==============================] - 0s 3ms/step - loss: 2159.5222 - mae: 2159.5222\n",
            "Epoch 367/500\n",
            "34/34 [==============================] - 0s 4ms/step - loss: 2160.4702 - mae: 2160.4702\n",
            "Epoch 368/500\n",
            "34/34 [==============================] - 0s 3ms/step - loss: 2213.7681 - mae: 2213.7681\n",
            "Epoch 369/500\n",
            "34/34 [==============================] - 0s 3ms/step - loss: 2170.2644 - mae: 2170.2644\n",
            "Epoch 370/500\n",
            "34/34 [==============================] - 0s 3ms/step - loss: 2152.5449 - mae: 2152.5449\n",
            "Epoch 371/500\n",
            "34/34 [==============================] - 0s 4ms/step - loss: 2150.9902 - mae: 2150.9902\n",
            "Epoch 372/500\n",
            "34/34 [==============================] - 0s 4ms/step - loss: 2151.9746 - mae: 2151.9746\n",
            "Epoch 373/500\n",
            "34/34 [==============================] - 0s 3ms/step - loss: 2144.9897 - mae: 2144.9897\n",
            "Epoch 374/500\n",
            "34/34 [==============================] - 0s 3ms/step - loss: 2147.6145 - mae: 2147.6145\n",
            "Epoch 375/500\n",
            "34/34 [==============================] - 0s 3ms/step - loss: 2149.6045 - mae: 2149.6045\n",
            "Epoch 376/500\n",
            "34/34 [==============================] - 0s 5ms/step - loss: 2145.7292 - mae: 2145.7292\n",
            "Epoch 377/500\n",
            "34/34 [==============================] - 0s 4ms/step - loss: 2168.5342 - mae: 2168.5342\n",
            "Epoch 378/500\n",
            "34/34 [==============================] - 0s 5ms/step - loss: 2155.6160 - mae: 2155.6160\n",
            "Epoch 379/500\n",
            "34/34 [==============================] - 0s 5ms/step - loss: 2158.7686 - mae: 2158.7686\n",
            "Epoch 380/500\n",
            "34/34 [==============================] - 0s 6ms/step - loss: 2144.2961 - mae: 2144.2961\n",
            "Epoch 381/500\n",
            "34/34 [==============================] - 0s 4ms/step - loss: 2160.1628 - mae: 2160.1628\n",
            "Epoch 382/500\n",
            "34/34 [==============================] - 0s 5ms/step - loss: 2137.5537 - mae: 2137.5537\n",
            "Epoch 383/500\n",
            "34/34 [==============================] - 0s 4ms/step - loss: 2145.3921 - mae: 2145.3921\n",
            "Epoch 384/500\n",
            "34/34 [==============================] - 0s 4ms/step - loss: 2133.6614 - mae: 2133.6614\n",
            "Epoch 385/500\n",
            "34/34 [==============================] - 0s 4ms/step - loss: 2136.6091 - mae: 2136.6091\n",
            "Epoch 386/500\n",
            "34/34 [==============================] - 0s 4ms/step - loss: 2142.6191 - mae: 2142.6191\n",
            "Epoch 387/500\n",
            "34/34 [==============================] - 0s 4ms/step - loss: 2142.4878 - mae: 2142.4878\n",
            "Epoch 388/500\n",
            "34/34 [==============================] - 0s 5ms/step - loss: 2123.2290 - mae: 2123.2290\n",
            "Epoch 389/500\n",
            "34/34 [==============================] - 0s 6ms/step - loss: 2131.6033 - mae: 2131.6033\n",
            "Epoch 390/500\n",
            "34/34 [==============================] - 0s 6ms/step - loss: 2133.7961 - mae: 2133.7961\n",
            "Epoch 391/500\n",
            "34/34 [==============================] - 0s 5ms/step - loss: 2120.0098 - mae: 2120.0098\n",
            "Epoch 392/500\n",
            "34/34 [==============================] - 0s 5ms/step - loss: 2119.3171 - mae: 2119.3171\n",
            "Epoch 393/500\n",
            "34/34 [==============================] - 0s 5ms/step - loss: 2121.7112 - mae: 2121.7112\n",
            "Epoch 394/500\n",
            "34/34 [==============================] - 0s 5ms/step - loss: 2127.7524 - mae: 2127.7524\n",
            "Epoch 395/500\n",
            "34/34 [==============================] - 0s 5ms/step - loss: 2130.5613 - mae: 2130.5613\n",
            "Epoch 396/500\n",
            "34/34 [==============================] - 0s 6ms/step - loss: 2116.8677 - mae: 2116.8677\n",
            "Epoch 397/500\n",
            "34/34 [==============================] - 0s 3ms/step - loss: 2128.5815 - mae: 2128.5815\n",
            "Epoch 398/500\n",
            "34/34 [==============================] - 0s 3ms/step - loss: 2110.7148 - mae: 2110.7148\n",
            "Epoch 399/500\n",
            "34/34 [==============================] - 0s 3ms/step - loss: 2111.1223 - mae: 2111.1223\n",
            "Epoch 400/500\n",
            "34/34 [==============================] - 0s 3ms/step - loss: 2109.1045 - mae: 2109.1045\n",
            "Epoch 401/500\n",
            "34/34 [==============================] - 0s 3ms/step - loss: 2116.9395 - mae: 2116.9395\n",
            "Epoch 402/500\n",
            "34/34 [==============================] - 0s 3ms/step - loss: 2118.0293 - mae: 2118.0293\n",
            "Epoch 403/500\n",
            "34/34 [==============================] - 0s 3ms/step - loss: 2122.6716 - mae: 2122.6716\n",
            "Epoch 404/500\n",
            "34/34 [==============================] - 0s 3ms/step - loss: 2113.5852 - mae: 2113.5852\n",
            "Epoch 405/500\n",
            "34/34 [==============================] - 0s 3ms/step - loss: 2114.7451 - mae: 2114.7451\n",
            "Epoch 406/500\n",
            "34/34 [==============================] - 0s 3ms/step - loss: 2105.1982 - mae: 2105.1982\n",
            "Epoch 407/500\n",
            "34/34 [==============================] - 0s 4ms/step - loss: 2103.2498 - mae: 2103.2498\n",
            "Epoch 408/500\n",
            "34/34 [==============================] - 0s 4ms/step - loss: 2100.4060 - mae: 2100.4060\n",
            "Epoch 409/500\n",
            "34/34 [==============================] - 0s 3ms/step - loss: 2110.5906 - mae: 2110.5906\n",
            "Epoch 410/500\n",
            "34/34 [==============================] - 0s 13ms/step - loss: 2093.6714 - mae: 2093.6714\n",
            "Epoch 411/500\n",
            "34/34 [==============================] - 0s 9ms/step - loss: 2111.5276 - mae: 2111.5276\n",
            "Epoch 412/500\n",
            "34/34 [==============================] - 0s 5ms/step - loss: 2100.3374 - mae: 2100.3374\n",
            "Epoch 413/500\n",
            "34/34 [==============================] - 0s 3ms/step - loss: 2100.5342 - mae: 2100.5342\n",
            "Epoch 414/500\n",
            "34/34 [==============================] - 0s 3ms/step - loss: 2100.7646 - mae: 2100.7646\n",
            "Epoch 415/500\n",
            "34/34 [==============================] - 0s 7ms/step - loss: 2106.1638 - mae: 2106.1638\n",
            "Epoch 416/500\n",
            "34/34 [==============================] - 1s 16ms/step - loss: 2100.3794 - mae: 2100.3794\n",
            "Epoch 417/500\n",
            "34/34 [==============================] - 0s 6ms/step - loss: 2090.2627 - mae: 2090.2627\n",
            "Epoch 418/500\n",
            "34/34 [==============================] - 0s 4ms/step - loss: 2097.2544 - mae: 2097.2544\n",
            "Epoch 419/500\n",
            "34/34 [==============================] - 0s 4ms/step - loss: 2093.4075 - mae: 2093.4075\n",
            "Epoch 420/500\n",
            "34/34 [==============================] - 0s 4ms/step - loss: 2099.8037 - mae: 2099.8037\n",
            "Epoch 421/500\n",
            "34/34 [==============================] - 0s 3ms/step - loss: 2098.4700 - mae: 2098.4700\n",
            "Epoch 422/500\n",
            "34/34 [==============================] - 0s 3ms/step - loss: 2087.4197 - mae: 2087.4197\n",
            "Epoch 423/500\n",
            "34/34 [==============================] - 0s 3ms/step - loss: 2080.8342 - mae: 2080.8342\n",
            "Epoch 424/500\n",
            "34/34 [==============================] - 0s 3ms/step - loss: 2099.0356 - mae: 2099.0356\n",
            "Epoch 425/500\n",
            "34/34 [==============================] - 0s 3ms/step - loss: 2093.3860 - mae: 2093.3860\n",
            "Epoch 426/500\n",
            "34/34 [==============================] - 0s 3ms/step - loss: 2088.5110 - mae: 2088.5110\n",
            "Epoch 427/500\n",
            "34/34 [==============================] - 0s 4ms/step - loss: 2087.5403 - mae: 2087.5403\n",
            "Epoch 428/500\n",
            "34/34 [==============================] - 0s 4ms/step - loss: 2078.5095 - mae: 2078.5095\n",
            "Epoch 429/500\n",
            "34/34 [==============================] - 0s 3ms/step - loss: 2087.5977 - mae: 2087.5977\n",
            "Epoch 430/500\n",
            "34/34 [==============================] - 0s 3ms/step - loss: 2072.5452 - mae: 2072.5452\n",
            "Epoch 431/500\n",
            "34/34 [==============================] - 0s 3ms/step - loss: 2089.0007 - mae: 2089.0007\n",
            "Epoch 432/500\n",
            "34/34 [==============================] - 0s 3ms/step - loss: 2074.2527 - mae: 2074.2527\n",
            "Epoch 433/500\n",
            "34/34 [==============================] - 0s 3ms/step - loss: 2073.5522 - mae: 2073.5522\n",
            "Epoch 434/500\n",
            "34/34 [==============================] - 0s 3ms/step - loss: 2074.7109 - mae: 2074.7109\n",
            "Epoch 435/500\n",
            "34/34 [==============================] - 0s 3ms/step - loss: 2075.4910 - mae: 2075.4910\n",
            "Epoch 436/500\n",
            "34/34 [==============================] - 0s 3ms/step - loss: 2073.9292 - mae: 2073.9292\n",
            "Epoch 437/500\n",
            "34/34 [==============================] - 0s 3ms/step - loss: 2070.3677 - mae: 2070.3677\n",
            "Epoch 438/500\n",
            "34/34 [==============================] - 0s 3ms/step - loss: 2065.5518 - mae: 2065.5518\n",
            "Epoch 439/500\n",
            "34/34 [==============================] - 0s 4ms/step - loss: 2075.5220 - mae: 2075.5220\n",
            "Epoch 440/500\n",
            "34/34 [==============================] - 0s 4ms/step - loss: 2065.2812 - mae: 2065.2812\n",
            "Epoch 441/500\n",
            "34/34 [==============================] - 0s 3ms/step - loss: 2074.8115 - mae: 2074.8115\n",
            "Epoch 442/500\n",
            "34/34 [==============================] - 0s 3ms/step - loss: 2061.0039 - mae: 2061.0039\n",
            "Epoch 443/500\n",
            "34/34 [==============================] - 0s 3ms/step - loss: 2076.0161 - mae: 2076.0161\n",
            "Epoch 444/500\n",
            "34/34 [==============================] - 0s 4ms/step - loss: 2068.0676 - mae: 2068.0676\n",
            "Epoch 445/500\n",
            "34/34 [==============================] - 0s 3ms/step - loss: 2063.3318 - mae: 2063.3318\n",
            "Epoch 446/500\n",
            "34/34 [==============================] - 0s 3ms/step - loss: 2082.7939 - mae: 2082.7939\n",
            "Epoch 447/500\n",
            "34/34 [==============================] - 0s 4ms/step - loss: 2057.0508 - mae: 2057.0508\n",
            "Epoch 448/500\n",
            "34/34 [==============================] - 0s 4ms/step - loss: 2083.7749 - mae: 2083.7749\n",
            "Epoch 449/500\n",
            "34/34 [==============================] - 0s 3ms/step - loss: 2053.7822 - mae: 2053.7822\n",
            "Epoch 450/500\n",
            "34/34 [==============================] - 0s 4ms/step - loss: 2075.7581 - mae: 2075.7581\n",
            "Epoch 451/500\n",
            "34/34 [==============================] - 0s 3ms/step - loss: 2049.5493 - mae: 2049.5493\n",
            "Epoch 452/500\n",
            "34/34 [==============================] - 0s 4ms/step - loss: 2051.7949 - mae: 2051.7949\n",
            "Epoch 453/500\n",
            "34/34 [==============================] - 0s 4ms/step - loss: 2064.9578 - mae: 2064.9578\n",
            "Epoch 454/500\n",
            "34/34 [==============================] - 0s 3ms/step - loss: 2054.2266 - mae: 2054.2266\n",
            "Epoch 455/500\n",
            "34/34 [==============================] - 0s 3ms/step - loss: 2050.6736 - mae: 2050.6736\n",
            "Epoch 456/500\n",
            "34/34 [==============================] - 0s 4ms/step - loss: 2049.5752 - mae: 2049.5752\n",
            "Epoch 457/500\n",
            "34/34 [==============================] - 0s 3ms/step - loss: 2053.3374 - mae: 2053.3374\n",
            "Epoch 458/500\n",
            "34/34 [==============================] - 0s 3ms/step - loss: 2054.6221 - mae: 2054.6221\n",
            "Epoch 459/500\n",
            "34/34 [==============================] - 0s 3ms/step - loss: 2041.8962 - mae: 2041.8962\n",
            "Epoch 460/500\n",
            "34/34 [==============================] - 0s 3ms/step - loss: 2042.8285 - mae: 2042.8285\n",
            "Epoch 461/500\n",
            "34/34 [==============================] - 0s 4ms/step - loss: 2037.7559 - mae: 2037.7559\n",
            "Epoch 462/500\n",
            "34/34 [==============================] - 0s 3ms/step - loss: 2061.0176 - mae: 2061.0176\n",
            "Epoch 463/500\n",
            "34/34 [==============================] - 0s 3ms/step - loss: 2054.1018 - mae: 2054.1018\n",
            "Epoch 464/500\n",
            "34/34 [==============================] - 0s 3ms/step - loss: 2044.9962 - mae: 2044.9962\n",
            "Epoch 465/500\n",
            "34/34 [==============================] - 0s 3ms/step - loss: 2055.3372 - mae: 2055.3372\n",
            "Epoch 466/500\n",
            "34/34 [==============================] - 0s 3ms/step - loss: 2050.2693 - mae: 2050.2693\n",
            "Epoch 467/500\n",
            "34/34 [==============================] - 0s 3ms/step - loss: 2048.8367 - mae: 2048.8367\n",
            "Epoch 468/500\n",
            "34/34 [==============================] - 0s 3ms/step - loss: 2051.1157 - mae: 2051.1157\n",
            "Epoch 469/500\n",
            "34/34 [==============================] - 0s 3ms/step - loss: 2044.0806 - mae: 2044.0806\n",
            "Epoch 470/500\n",
            "34/34 [==============================] - 0s 4ms/step - loss: 2039.6401 - mae: 2039.6401\n",
            "Epoch 471/500\n",
            "34/34 [==============================] - 0s 6ms/step - loss: 2074.2192 - mae: 2074.2192\n",
            "Epoch 472/500\n",
            "34/34 [==============================] - 0s 5ms/step - loss: 2053.1804 - mae: 2053.1804\n",
            "Epoch 473/500\n",
            "34/34 [==============================] - 0s 5ms/step - loss: 2051.3792 - mae: 2051.3792\n",
            "Epoch 474/500\n",
            "34/34 [==============================] - 0s 5ms/step - loss: 2052.1318 - mae: 2052.1318\n",
            "Epoch 475/500\n",
            "34/34 [==============================] - 0s 4ms/step - loss: 2036.9803 - mae: 2036.9803\n",
            "Epoch 476/500\n",
            "34/34 [==============================] - 0s 5ms/step - loss: 2050.5908 - mae: 2050.5908\n",
            "Epoch 477/500\n",
            "34/34 [==============================] - 0s 4ms/step - loss: 2042.5302 - mae: 2042.5302\n",
            "Epoch 478/500\n",
            "34/34 [==============================] - 0s 6ms/step - loss: 2037.3430 - mae: 2037.3430\n",
            "Epoch 479/500\n",
            "34/34 [==============================] - 0s 4ms/step - loss: 2031.7806 - mae: 2031.7806\n",
            "Epoch 480/500\n",
            "34/34 [==============================] - 0s 4ms/step - loss: 2037.6542 - mae: 2037.6542\n",
            "Epoch 481/500\n",
            "34/34 [==============================] - 0s 5ms/step - loss: 2038.8481 - mae: 2038.8481\n",
            "Epoch 482/500\n",
            "34/34 [==============================] - 0s 5ms/step - loss: 2037.2893 - mae: 2037.2893\n",
            "Epoch 483/500\n",
            "34/34 [==============================] - 0s 5ms/step - loss: 2041.9528 - mae: 2041.9528\n",
            "Epoch 484/500\n",
            "34/34 [==============================] - 0s 5ms/step - loss: 2035.5281 - mae: 2035.5281\n",
            "Epoch 485/500\n",
            "34/34 [==============================] - 0s 4ms/step - loss: 2030.9390 - mae: 2030.9390\n",
            "Epoch 486/500\n",
            "34/34 [==============================] - 0s 4ms/step - loss: 2055.9509 - mae: 2055.9509\n",
            "Epoch 487/500\n",
            "34/34 [==============================] - 0s 5ms/step - loss: 2042.8088 - mae: 2042.8088\n",
            "Epoch 488/500\n",
            "34/34 [==============================] - 0s 5ms/step - loss: 2046.6836 - mae: 2046.6836\n",
            "Epoch 489/500\n",
            "34/34 [==============================] - 0s 5ms/step - loss: 2034.9512 - mae: 2034.9512\n",
            "Epoch 490/500\n",
            "34/34 [==============================] - 0s 6ms/step - loss: 2030.4512 - mae: 2030.4512\n",
            "Epoch 491/500\n",
            "34/34 [==============================] - 0s 5ms/step - loss: 2033.2472 - mae: 2033.2472\n",
            "Epoch 492/500\n",
            "34/34 [==============================] - 0s 5ms/step - loss: 2030.9271 - mae: 2030.9271\n",
            "Epoch 493/500\n",
            "34/34 [==============================] - 0s 4ms/step - loss: 2030.8052 - mae: 2030.8052\n",
            "Epoch 494/500\n",
            "34/34 [==============================] - 0s 3ms/step - loss: 2037.3635 - mae: 2037.3635\n",
            "Epoch 495/500\n",
            "34/34 [==============================] - 0s 3ms/step - loss: 2029.7958 - mae: 2029.7958\n",
            "Epoch 496/500\n",
            "34/34 [==============================] - 0s 4ms/step - loss: 2027.7236 - mae: 2027.7236\n",
            "Epoch 497/500\n",
            "34/34 [==============================] - 0s 3ms/step - loss: 2027.3472 - mae: 2027.3472\n",
            "Epoch 498/500\n",
            "34/34 [==============================] - 0s 3ms/step - loss: 2034.1879 - mae: 2034.1879\n",
            "Epoch 499/500\n",
            "34/34 [==============================] - 0s 3ms/step - loss: 2038.5828 - mae: 2038.5828\n",
            "Epoch 500/500\n",
            "34/34 [==============================] - 0s 3ms/step - loss: 2034.7183 - mae: 2034.7183\n"
          ]
        },
        {
          "output_type": "execute_result",
          "data": {
            "text/plain": [
              "<keras.src.callbacks.History at 0x79392d2262c0>"
            ]
          },
          "metadata": {},
          "execution_count": 94
        }
      ]
    },
    {
      "cell_type": "code",
      "source": [
        "# Check the result on test data\n",
        "insurance_model.evaluate(x_test, y_test)"
      ],
      "metadata": {
        "colab": {
          "base_uri": "https://localhost:8080/"
        },
        "id": "phMxyV6adIEN",
        "outputId": "029c79e2-ecbb-4ebf-971d-e682ad3d922a"
      },
      "execution_count": 95,
      "outputs": [
        {
          "output_type": "stream",
          "name": "stdout",
          "text": [
            "9/9 [==============================] - 0s 2ms/step - loss: 1804.9448 - mae: 1804.9448\n"
          ]
        },
        {
          "output_type": "execute_result",
          "data": {
            "text/plain": [
              "[1804.94482421875, 1804.94482421875]"
            ]
          },
          "metadata": {},
          "execution_count": 95
        }
      ]
    },
    {
      "cell_type": "code",
      "source": [
        "y_train.median(), y_train.mean()"
      ],
      "metadata": {
        "colab": {
          "base_uri": "https://localhost:8080/"
        },
        "id": "LMjdD18adchB",
        "outputId": "4054a05a-96ec-4a16-eb28-e979874b0f0d"
      },
      "execution_count": 96,
      "outputs": [
        {
          "output_type": "execute_result",
          "data": {
            "text/plain": [
              "(9575.4421, 13346.089736364485)"
            ]
          },
          "metadata": {},
          "execution_count": 96
        }
      ]
    }
  ]
}