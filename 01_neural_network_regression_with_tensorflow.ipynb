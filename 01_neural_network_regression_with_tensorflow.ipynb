{
  "nbformat": 4,
  "nbformat_minor": 0,
  "metadata": {
    "colab": {
      "provenance": [],
      "authorship_tag": "ABX9TyMZ3/+8fUm/WQ9d5hbK2ndg",
      "include_colab_link": true
    },
    "kernelspec": {
      "name": "python3",
      "display_name": "Python 3"
    },
    "language_info": {
      "name": "python"
    }
  },
  "cells": [
    {
      "cell_type": "markdown",
      "metadata": {
        "id": "view-in-github",
        "colab_type": "text"
      },
      "source": [
        "<a href=\"https://colab.research.google.com/github/GabrielBatavia/Learn_TensorFlow/blob/main/01_neural_network_regression_with_tensorflow.ipynb\" target=\"_parent\"><img src=\"https://colab.research.google.com/assets/colab-badge.svg\" alt=\"Open In Colab\"/></a>"
      ]
    },
    {
      "cell_type": "markdown",
      "source": [
        "# Introduction to Regression with Neural Networks in TensorFlow\n",
        "\n",
        "There are many definition for a regression problem but in our case, we're going to simplify it : predicting a numerical variable based on some other combination of variables, even shorter...predicting a number."
      ],
      "metadata": {
        "id": "eANshE7nr2zb"
      }
    },
    {
      "cell_type": "code",
      "execution_count": 1,
      "metadata": {
        "colab": {
          "base_uri": "https://localhost:8080/"
        },
        "id": "UmVJP_eWrO59",
        "outputId": "dc0e8199-50b8-466e-d13f-75c82f95f26c"
      },
      "outputs": [
        {
          "output_type": "stream",
          "name": "stdout",
          "text": [
            "2.15.0\n"
          ]
        }
      ],
      "source": [
        "# Import TensorFlow\n",
        "\n",
        "import tensorflow as tf\n",
        "print(tf.__version__)"
      ]
    },
    {
      "cell_type": "markdown",
      "source": [
        "## Creating data to view and fit"
      ],
      "metadata": {
        "id": "vbbwMFoqskyN"
      }
    },
    {
      "cell_type": "code",
      "source": [
        "import numpy as np\n",
        "import matplotlib.pyplot as plt"
      ],
      "metadata": {
        "id": "DXOtRA60shEW"
      },
      "execution_count": 2,
      "outputs": []
    },
    {
      "cell_type": "code",
      "source": [
        "# Creating features\n",
        "\n",
        "x = np.array([-7., -4., -1., 2., 5., 8., 11., 14.])\n",
        "\n",
        "# Create labels\n",
        "y = np.array([3., 6., 9., 12., 15., 18., 21., 24.])\n",
        "\n",
        "# Visualize it\n",
        "plt.scatter(x, y);"
      ],
      "metadata": {
        "colab": {
          "base_uri": "https://localhost:8080/",
          "height": 435
        },
        "id": "SX4eHtEts4GD",
        "outputId": "7ff95eb9-46f1-4a7b-f719-b712db45523e"
      },
      "execution_count": 3,
      "outputs": [
        {
          "output_type": "display_data",
          "data": {
            "text/plain": [
              "<Figure size 640x480 with 1 Axes>"
            ],
            "image/png": "[encoded data removed]"
          },
          "metadata": {}
        }
      ]
    },
    {
      "cell_type": "code",
      "source": [
        "y == x + 10"
      ],
      "metadata": {
        "id": "qaf2FE-utbQ-",
        "colab": {
          "base_uri": "https://localhost:8080/"
        },
        "outputId": "af8ff2d8-2470-494c-f2e3-97dfe5010a4c"
      },
      "execution_count": 4,
      "outputs": [
        {
          "output_type": "execute_result",
          "data": {
            "text/plain": [
              "array([ True,  True,  True,  True,  True,  True,  True,  True])"
            ]
          },
          "metadata": {},
          "execution_count": 4
        }
      ]
    },
    {
      "cell_type": "markdown",
      "source": [
        "## Input and Output shapes"
      ],
      "metadata": {
        "id": "hHex_79OxmAn"
      }
    },
    {
      "cell_type": "code",
      "source": [
        "# Create a demo tensor for out housing price prediction problem\n",
        "\n",
        "house_info = tf.constant([\"bedroom\", \"bathroom\", \"garage\"])\n",
        "house_price = tf.constant([939700])\n",
        "\n",
        "house_info, house_price"
      ],
      "metadata": {
        "colab": {
          "base_uri": "https://localhost:8080/"
        },
        "id": "EKNlltO3xrVe",
        "outputId": "95ec153d-a3ce-4595-f50e-3b78b4937a8d"
      },
      "execution_count": 5,
      "outputs": [
        {
          "output_type": "execute_result",
          "data": {
            "text/plain": [
              "(<tf.Tensor: shape=(3,), dtype=string, numpy=array([b'bedroom', b'bathroom', b'garage'], dtype=object)>,\n",
              " <tf.Tensor: shape=(1,), dtype=int32, numpy=array([939700], dtype=int32)>)"
            ]
          },
          "metadata": {},
          "execution_count": 5
        }
      ]
    },
    {
      "cell_type": "code",
      "source": [
        "x[0], y[0]"
      ],
      "metadata": {
        "colab": {
          "base_uri": "https://localhost:8080/"
        },
        "id": "-tWt-gYSzm66",
        "outputId": "f1a1d3ab-d849-43f4-e485-3af77d14094e"
      },
      "execution_count": 6,
      "outputs": [
        {
          "output_type": "execute_result",
          "data": {
            "text/plain": [
              "(-7.0, 3.0)"
            ]
          },
          "metadata": {},
          "execution_count": 6
        }
      ]
    },
    {
      "cell_type": "code",
      "source": [
        "input_shape = x[0].shape\n",
        "output_shape = y[0].shape\n",
        "\n",
        "input_shape, output_shape"
      ],
      "metadata": {
        "colab": {
          "base_uri": "https://localhost:8080/"
        },
        "id": "sGSz7U-vzY4m",
        "outputId": "c91c3bf8-5170-4452-eeef-86c80ea735a7"
      },
      "execution_count": 7,
      "outputs": [
        {
          "output_type": "execute_result",
          "data": {
            "text/plain": [
              "((), ())"
            ]
          },
          "metadata": {},
          "execution_count": 7
        }
      ]
    },
    {
      "cell_type": "code",
      "source": [
        "x[0].ndim"
      ],
      "metadata": {
        "colab": {
          "base_uri": "https://localhost:8080/"
        },
        "id": "VCL4zHK5z8RR",
        "outputId": "d43ab0ba-093f-4b0f-ed51-a5700e02d284"
      },
      "execution_count": 8,
      "outputs": [
        {
          "output_type": "execute_result",
          "data": {
            "text/plain": [
              "0"
            ]
          },
          "metadata": {},
          "execution_count": 8
        }
      ]
    },
    {
      "cell_type": "code",
      "source": [
        "# Turn our Numpy arrays into tensors with dtype 32\n",
        "\n",
        "X = tf.constant(x, dtype=tf.float32)\n",
        "Y = tf.constant(y, dtype=tf.float32)\n",
        "\n",
        "X, Y"
      ],
      "metadata": {
        "colab": {
          "base_uri": "https://localhost:8080/"
        },
        "id": "QL2Ofdwmz-sQ",
        "outputId": "f2e41111-8a9e-4fdb-efb6-4648c186fd13"
      },
      "execution_count": 9,
      "outputs": [
        {
          "output_type": "execute_result",
          "data": {
            "text/plain": [
              "(<tf.Tensor: shape=(8,), dtype=float32, numpy=array([-7., -4., -1.,  2.,  5.,  8., 11., 14.], dtype=float32)>,\n",
              " <tf.Tensor: shape=(8,), dtype=float32, numpy=array([ 3.,  6.,  9., 12., 15., 18., 21., 24.], dtype=float32)>)"
            ]
          },
          "metadata": {},
          "execution_count": 9
        }
      ]
    },
    {
      "cell_type": "code",
      "source": [
        "input_shape = X[0].shape\n",
        "output_shape = y[0].shape\n",
        "\n",
        "input_shape, output_shape"
      ],
      "metadata": {
        "colab": {
          "base_uri": "https://localhost:8080/"
        },
        "id": "R6m8i44s1t3S",
        "outputId": "a7c8bee2-41dc-4245-b798-db9255dc7611"
      },
      "execution_count": 10,
      "outputs": [
        {
          "output_type": "execute_result",
          "data": {
            "text/plain": [
              "(TensorShape([]), ())"
            ]
          },
          "metadata": {},
          "execution_count": 10
        }
      ]
    },
    {
      "cell_type": "markdown",
      "source": [
        "## Steps in modelling with TensorFlow\n",
        "\n",
        "1. **Creating a model** - define the input and output layers, as well as the hidden layers of a deep learning model.\n",
        "\n",
        "2. **Compiling a model** - define the loss function (in other words, the function wich tells our model how wrong it is) and the optimizer (tells our model how to improve the patterns its learning) and evaluation metrics (what we can use to interpret the preformance of our model)\n",
        "\n",
        "3. Fitting a model - letting the model try to find patters between X & y (features and labels)"
      ],
      "metadata": {
        "id": "T9heq-y318BJ"
      }
    },
    {
      "cell_type": "code",
      "source": [
        "# Opetionally, the first layer can receive an 'input_shape' argument :\n",
        "# model = tf.keras.Sequential()\n",
        "# model.add(tf.keras.layers.Dense(8, input_shape=(16,)))\n",
        "\n",
        "# Afterwards, we do automatic shape inference :\n",
        "# model.add(tf.keras.layers.Dense(4))\n",
        "\n",
        "# model = tf.keras.Sequential()\n",
        "# model.add(tf.keras.layers.Dense(1))\n",
        "# ..."
      ],
      "metadata": {
        "id": "nEAWuhvc6w4g"
      },
      "execution_count": 11,
      "outputs": []
    },
    {
      "cell_type": "code",
      "source": [
        "# Set random seed\n",
        "\n",
        "tf.random.set_seed(42)\n",
        "\n",
        "# 1. Create a model using the Sequential API\n",
        "model = tf.keras.Sequential([\n",
        "    tf.keras.layers.Dense(1)\n",
        "])\n",
        "\n",
        "# 2. Compile the model\n",
        "model.compile(loss = tf.keras.losses.mae, # mae is short for mean absolute error\n",
        "              optimizer = tf.keras.optimizers.SGD(), # sgd is short for stochasitc gradient decent\n",
        "              metrics = [\"mae\"])\n",
        "\n",
        "# 3. Fit the model\n",
        "# model.fit(X, Y, epochs=5) # BREAK IN UPDATED TENSOR VERSION\n",
        "model.fit(tf.expand_dims(X, axis=-1), Y, epochs=5)"
      ],
      "metadata": {
        "colab": {
          "base_uri": "https://localhost:8080/"
        },
        "id": "ubX_9SYR149W",
        "outputId": "d9a4fa2f-3c00-4351-d61c-133350aceec6"
      },
      "execution_count": 12,
      "outputs": [
        {
          "output_type": "stream",
          "name": "stdout",
          "text": [
            "Epoch 1/5\n",
            "1/1 [==============================] - 1s 772ms/step - loss: 9.1446 - mae: 9.1446\n",
            "Epoch 2/5\n",
            "1/1 [==============================] - 0s 27ms/step - loss: 9.0121 - mae: 9.0121\n",
            "Epoch 3/5\n",
            "1/1 [==============================] - 0s 21ms/step - loss: 8.8796 - mae: 8.8796\n",
            "Epoch 4/5\n",
            "1/1 [==============================] - 0s 19ms/step - loss: 8.7471 - mae: 8.7471\n",
            "Epoch 5/5\n",
            "1/1 [==============================] - 0s 23ms/step - loss: 8.6146 - mae: 8.6146\n"
          ]
        },
        {
          "output_type": "execute_result",
          "data": {
            "text/plain": [
              "<keras.src.callbacks.History at 0x78dd07fb8d90>"
            ]
          },
          "metadata": {},
          "execution_count": 12
        }
      ]
    },
    {
      "cell_type": "code",
      "source": [
        "# Check our X and Y\n",
        "x, y"
      ],
      "metadata": {
        "colab": {
          "base_uri": "https://localhost:8080/"
        },
        "id": "1B1DsBlo9jYC",
        "outputId": "d2b58ae0-4685-4a30-cce7-71f6c6b83052"
      },
      "execution_count": 13,
      "outputs": [
        {
          "output_type": "execute_result",
          "data": {
            "text/plain": [
              "(array([-7., -4., -1.,  2.,  5.,  8., 11., 14.]),\n",
              " array([ 3.,  6.,  9., 12., 15., 18., 21., 24.]))"
            ]
          },
          "metadata": {},
          "execution_count": 13
        }
      ]
    },
    {
      "cell_type": "code",
      "source": [
        "# Try make prediction\n",
        "model.predict([17.0])"
      ],
      "metadata": {
        "colab": {
          "base_uri": "https://localhost:8080/"
        },
        "id": "L4S19GPP9pXG",
        "outputId": "304f555a-fd52-48c4-8f49-a3542a0f6cec"
      },
      "execution_count": 14,
      "outputs": [
        {
          "output_type": "stream",
          "name": "stdout",
          "text": [
            "1/1 [==============================] - 0s 201ms/step\n"
          ]
        },
        {
          "output_type": "execute_result",
          "data": {
            "text/plain": [
              "array([[24.179577]], dtype=float32)"
            ]
          },
          "metadata": {},
          "execution_count": 14
        }
      ]
    },
    {
      "cell_type": "markdown",
      "source": [
        "## Improving our model\n",
        "\n",
        "We can improve our model, by altering the steps we took to create a model.\n",
        "\n",
        "1. **Creating a model** - ere we might add more layers, increse the number of hidden units (all called neurons) within each of the hidden layers, change the activation function of each layer.\n",
        "\n",
        "2. **Compiling a model** - here we might chang ethe optimization function or perhaps the **learning rate** of the optimization function.\n",
        "\n",
        "3. **Fitting a model** - here we might fit a model for more **epochs** (leave it training for longer) or on more data (give the model more examples to learn form)"
      ],
      "metadata": {
        "id": "Nq6KqLEo-HP4"
      }
    },
    {
      "cell_type": "code",
      "source": [
        "# Let's rebuild our model\n",
        "\n",
        "# 1. Create the model\n",
        "model1 = tf.keras.Sequential([\n",
        "    tf.keras.layers.Dense(1)\n",
        "])\n",
        "\n",
        "# 2. Compile the model\n",
        "model1.compile(loss = tf.keras.losses.mae,\n",
        "              optimizer = tf.keras.optimizers.SGD(),\n",
        "              metrics = [\"mae\"])\n",
        "\n",
        "# 3. Fit the model\n",
        "# model.fit(X, Y, epochs=5) # BREAK IN UPDATED TENSOR VERSION\n",
        "model1.fit(tf.expand_dims(X, axis=-1), Y, epochs=100)"
      ],
      "metadata": {
        "colab": {
          "base_uri": "https://localhost:8080/"
        },
        "id": "GPGzIvb2DLc2",
        "outputId": "35b4577d-75db-4871-84d9-d4330d006ea3"
      },
      "execution_count": 15,
      "outputs": [
        {
          "output_type": "stream",
          "name": "stdout",
          "text": [
            "Epoch 1/100\n",
            "1/1 [==============================] - 1s 622ms/step - loss: 20.6940 - mae: 20.6940\n",
            "Epoch 2/100\n",
            "1/1 [==============================] - 0s 18ms/step - loss: 20.3511 - mae: 20.3511\n",
            "Epoch 3/100\n",
            "1/1 [==============================] - 0s 21ms/step - loss: 20.0698 - mae: 20.0698\n",
            "Epoch 4/100\n",
            "1/1 [==============================] - 0s 21ms/step - loss: 19.7886 - mae: 19.7886\n",
            "Epoch 5/100\n",
            "1/1 [==============================] - 0s 18ms/step - loss: 19.5073 - mae: 19.5073\n",
            "Epoch 6/100\n",
            "1/1 [==============================] - 0s 24ms/step - loss: 19.2261 - mae: 19.2261\n",
            "Epoch 7/100\n",
            "1/1 [==============================] - 0s 20ms/step - loss: 18.9448 - mae: 18.9448\n",
            "Epoch 8/100\n",
            "1/1 [==============================] - 0s 19ms/step - loss: 18.6636 - mae: 18.6636\n",
            "Epoch 9/100\n",
            "1/1 [==============================] - 0s 13ms/step - loss: 18.3823 - mae: 18.3823\n",
            "Epoch 10/100\n",
            "1/1 [==============================] - 0s 17ms/step - loss: 18.1011 - mae: 18.1011\n",
            "Epoch 11/100\n",
            "1/1 [==============================] - 0s 17ms/step - loss: 17.8198 - mae: 17.8198\n",
            "Epoch 12/100\n",
            "1/1 [==============================] - 0s 21ms/step - loss: 17.5386 - mae: 17.5386\n",
            "Epoch 13/100\n",
            "1/1 [==============================] - 0s 16ms/step - loss: 17.2573 - mae: 17.2573\n",
            "Epoch 14/100\n",
            "1/1 [==============================] - 0s 15ms/step - loss: 16.9761 - mae: 16.9761\n",
            "Epoch 15/100\n",
            "1/1 [==============================] - 0s 15ms/step - loss: 16.6948 - mae: 16.6948\n",
            "Epoch 16/100\n",
            "1/1 [==============================] - 0s 17ms/step - loss: 16.4136 - mae: 16.4136\n",
            "Epoch 17/100\n",
            "1/1 [==============================] - 0s 16ms/step - loss: 16.1323 - mae: 16.1323\n",
            "Epoch 18/100\n",
            "1/1 [==============================] - 0s 15ms/step - loss: 15.8511 - mae: 15.8511\n",
            "Epoch 19/100\n",
            "1/1 [==============================] - 0s 15ms/step - loss: 15.5698 - mae: 15.5698\n",
            "Epoch 20/100\n",
            "1/1 [==============================] - 0s 17ms/step - loss: 15.2886 - mae: 15.2886\n",
            "Epoch 21/100\n",
            "1/1 [==============================] - 0s 13ms/step - loss: 15.0073 - mae: 15.0073\n",
            "Epoch 22/100\n",
            "1/1 [==============================] - 0s 15ms/step - loss: 14.7399 - mae: 14.7399\n",
            "Epoch 23/100\n",
            "1/1 [==============================] - 0s 14ms/step - loss: 14.6074 - mae: 14.6074\n",
            "Epoch 24/100\n",
            "1/1 [==============================] - 0s 15ms/step - loss: 14.4749 - mae: 14.4749\n",
            "Epoch 25/100\n",
            "1/1 [==============================] - 0s 17ms/step - loss: 14.3424 - mae: 14.3424\n",
            "Epoch 26/100\n",
            "1/1 [==============================] - 0s 11ms/step - loss: 14.2099 - mae: 14.2099\n",
            "Epoch 27/100\n",
            "1/1 [==============================] - 0s 13ms/step - loss: 14.0774 - mae: 14.0774\n",
            "Epoch 28/100\n",
            "1/1 [==============================] - 0s 14ms/step - loss: 13.9449 - mae: 13.9449\n",
            "Epoch 29/100\n",
            "1/1 [==============================] - 0s 15ms/step - loss: 13.8124 - mae: 13.8124\n",
            "Epoch 30/100\n",
            "1/1 [==============================] - 0s 22ms/step - loss: 13.6799 - mae: 13.6799\n",
            "Epoch 31/100\n",
            "1/1 [==============================] - 0s 11ms/step - loss: 13.5474 - mae: 13.5474\n",
            "Epoch 32/100\n",
            "1/1 [==============================] - 0s 18ms/step - loss: 13.4149 - mae: 13.4149\n",
            "Epoch 33/100\n",
            "1/1 [==============================] - 0s 14ms/step - loss: 13.2824 - mae: 13.2824\n",
            "Epoch 34/100\n",
            "1/1 [==============================] - 0s 15ms/step - loss: 13.1499 - mae: 13.1499\n",
            "Epoch 35/100\n",
            "1/1 [==============================] - 0s 14ms/step - loss: 13.0174 - mae: 13.0174\n",
            "Epoch 36/100\n",
            "1/1 [==============================] - 0s 12ms/step - loss: 12.8849 - mae: 12.8849\n",
            "Epoch 37/100\n",
            "1/1 [==============================] - 0s 16ms/step - loss: 12.7524 - mae: 12.7524\n",
            "Epoch 38/100\n",
            "1/1 [==============================] - 0s 11ms/step - loss: 12.6199 - mae: 12.6199\n",
            "Epoch 39/100\n",
            "1/1 [==============================] - 0s 13ms/step - loss: 12.4874 - mae: 12.4874\n",
            "Epoch 40/100\n",
            "1/1 [==============================] - 0s 16ms/step - loss: 12.3549 - mae: 12.3549\n",
            "Epoch 41/100\n",
            "1/1 [==============================] - 0s 13ms/step - loss: 12.2224 - mae: 12.2224\n",
            "Epoch 42/100\n",
            "1/1 [==============================] - 0s 38ms/step - loss: 12.0899 - mae: 12.0899\n",
            "Epoch 43/100\n",
            "1/1 [==============================] - 0s 44ms/step - loss: 11.9574 - mae: 11.9574\n",
            "Epoch 44/100\n",
            "1/1 [==============================] - 0s 32ms/step - loss: 11.8249 - mae: 11.8249\n",
            "Epoch 45/100\n",
            "1/1 [==============================] - 0s 30ms/step - loss: 11.6924 - mae: 11.6924\n",
            "Epoch 46/100\n",
            "1/1 [==============================] - 0s 24ms/step - loss: 11.5599 - mae: 11.5599\n",
            "Epoch 47/100\n",
            "1/1 [==============================] - 0s 30ms/step - loss: 11.4274 - mae: 11.4274\n",
            "Epoch 48/100\n",
            "1/1 [==============================] - 0s 37ms/step - loss: 11.2949 - mae: 11.2949\n",
            "Epoch 49/100\n",
            "1/1 [==============================] - 0s 38ms/step - loss: 11.1624 - mae: 11.1624\n",
            "Epoch 50/100\n",
            "1/1 [==============================] - 0s 36ms/step - loss: 11.0299 - mae: 11.0299\n",
            "Epoch 51/100\n",
            "1/1 [==============================] - 0s 70ms/step - loss: 10.8974 - mae: 10.8974\n",
            "Epoch 52/100\n",
            "1/1 [==============================] - 0s 54ms/step - loss: 10.7649 - mae: 10.7649\n",
            "Epoch 53/100\n",
            "1/1 [==============================] - 0s 27ms/step - loss: 10.6324 - mae: 10.6324\n",
            "Epoch 54/100\n",
            "1/1 [==============================] - 0s 44ms/step - loss: 10.4999 - mae: 10.4999\n",
            "Epoch 55/100\n",
            "1/1 [==============================] - 0s 29ms/step - loss: 10.3674 - mae: 10.3674\n",
            "Epoch 56/100\n",
            "1/1 [==============================] - 0s 40ms/step - loss: 10.2349 - mae: 10.2349\n",
            "Epoch 57/100\n",
            "1/1 [==============================] - 0s 26ms/step - loss: 10.1024 - mae: 10.1024\n",
            "Epoch 58/100\n",
            "1/1 [==============================] - 0s 25ms/step - loss: 9.9699 - mae: 9.9699\n",
            "Epoch 59/100\n",
            "1/1 [==============================] - 0s 27ms/step - loss: 9.8374 - mae: 9.8374\n",
            "Epoch 60/100\n",
            "1/1 [==============================] - 0s 44ms/step - loss: 9.7049 - mae: 9.7049\n",
            "Epoch 61/100\n",
            "1/1 [==============================] - 0s 32ms/step - loss: 9.5724 - mae: 9.5724\n",
            "Epoch 62/100\n",
            "1/1 [==============================] - 0s 59ms/step - loss: 9.4399 - mae: 9.4399\n",
            "Epoch 63/100\n",
            "1/1 [==============================] - 0s 27ms/step - loss: 9.3074 - mae: 9.3074\n",
            "Epoch 64/100\n",
            "1/1 [==============================] - 0s 24ms/step - loss: 9.1749 - mae: 9.1749\n",
            "Epoch 65/100\n",
            "1/1 [==============================] - 0s 39ms/step - loss: 9.0424 - mae: 9.0424\n",
            "Epoch 66/100\n",
            "1/1 [==============================] - 0s 24ms/step - loss: 8.9099 - mae: 8.9099\n",
            "Epoch 67/100\n",
            "1/1 [==============================] - 0s 34ms/step - loss: 8.7774 - mae: 8.7774\n",
            "Epoch 68/100\n",
            "1/1 [==============================] - 0s 33ms/step - loss: 8.6449 - mae: 8.6449\n",
            "Epoch 69/100\n",
            "1/1 [==============================] - 0s 31ms/step - loss: 8.5124 - mae: 8.5124\n",
            "Epoch 70/100\n",
            "1/1 [==============================] - 0s 24ms/step - loss: 8.3799 - mae: 8.3799\n",
            "Epoch 71/100\n",
            "1/1 [==============================] - 0s 27ms/step - loss: 8.2474 - mae: 8.2474\n",
            "Epoch 72/100\n",
            "1/1 [==============================] - 0s 14ms/step - loss: 8.1149 - mae: 8.1149\n",
            "Epoch 73/100\n",
            "1/1 [==============================] - 0s 41ms/step - loss: 7.9824 - mae: 7.9824\n",
            "Epoch 74/100\n",
            "1/1 [==============================] - 0s 44ms/step - loss: 7.8499 - mae: 7.8499\n",
            "Epoch 75/100\n",
            "1/1 [==============================] - 0s 32ms/step - loss: 7.7174 - mae: 7.7174\n",
            "Epoch 76/100\n",
            "1/1 [==============================] - 0s 14ms/step - loss: 7.5849 - mae: 7.5849\n",
            "Epoch 77/100\n",
            "1/1 [==============================] - 0s 70ms/step - loss: 7.4524 - mae: 7.4524\n",
            "Epoch 78/100\n",
            "1/1 [==============================] - 0s 37ms/step - loss: 7.3199 - mae: 7.3199\n",
            "Epoch 79/100\n",
            "1/1 [==============================] - 0s 21ms/step - loss: 7.1874 - mae: 7.1874\n",
            "Epoch 80/100\n",
            "1/1 [==============================] - 0s 34ms/step - loss: 7.0549 - mae: 7.0549\n",
            "Epoch 81/100\n",
            "1/1 [==============================] - 0s 20ms/step - loss: 6.9412 - mae: 6.9412\n",
            "Epoch 82/100\n",
            "1/1 [==============================] - 0s 27ms/step - loss: 6.9356 - mae: 6.9356\n",
            "Epoch 83/100\n",
            "1/1 [==============================] - 0s 27ms/step - loss: 6.9300 - mae: 6.9300\n",
            "Epoch 84/100\n",
            "1/1 [==============================] - 0s 28ms/step - loss: 6.9244 - mae: 6.9244\n",
            "Epoch 85/100\n",
            "1/1 [==============================] - 0s 24ms/step - loss: 6.9188 - mae: 6.9188\n",
            "Epoch 86/100\n",
            "1/1 [==============================] - 0s 21ms/step - loss: 6.9131 - mae: 6.9131\n",
            "Epoch 87/100\n",
            "1/1 [==============================] - 0s 20ms/step - loss: 6.9075 - mae: 6.9075\n",
            "Epoch 88/100\n",
            "1/1 [==============================] - 0s 25ms/step - loss: 6.9019 - mae: 6.9019\n",
            "Epoch 89/100\n",
            "1/1 [==============================] - 0s 34ms/step - loss: 6.8963 - mae: 6.8963\n",
            "Epoch 90/100\n",
            "1/1 [==============================] - 0s 32ms/step - loss: 6.8906 - mae: 6.8906\n",
            "Epoch 91/100\n",
            "1/1 [==============================] - 0s 30ms/step - loss: 6.8850 - mae: 6.8850\n",
            "Epoch 92/100\n",
            "1/1 [==============================] - 0s 51ms/step - loss: 6.8794 - mae: 6.8794\n",
            "Epoch 93/100\n",
            "1/1 [==============================] - 0s 86ms/step - loss: 6.8738 - mae: 6.8738\n",
            "Epoch 94/100\n",
            "1/1 [==============================] - 0s 61ms/step - loss: 6.8681 - mae: 6.8681\n",
            "Epoch 95/100\n",
            "1/1 [==============================] - 0s 56ms/step - loss: 6.8625 - mae: 6.8625\n",
            "Epoch 96/100\n",
            "1/1 [==============================] - 0s 34ms/step - loss: 6.8569 - mae: 6.8569\n",
            "Epoch 97/100\n",
            "1/1 [==============================] - 0s 33ms/step - loss: 6.8513 - mae: 6.8513\n",
            "Epoch 98/100\n",
            "1/1 [==============================] - 0s 26ms/step - loss: 6.8456 - mae: 6.8456\n",
            "Epoch 99/100\n",
            "1/1 [==============================] - 0s 30ms/step - loss: 6.8400 - mae: 6.8400\n",
            "Epoch 100/100\n",
            "1/1 [==============================] - 0s 30ms/step - loss: 6.8344 - mae: 6.8344\n"
          ]
        },
        {
          "output_type": "execute_result",
          "data": {
            "text/plain": [
              "<keras.src.callbacks.History at 0x78dd075d4940>"
            ]
          },
          "metadata": {},
          "execution_count": 15
        }
      ]
    },
    {
      "cell_type": "code",
      "source": [
        "# Try make prediction\n",
        "model1.predict([17.0])"
      ],
      "metadata": {
        "colab": {
          "base_uri": "https://localhost:8080/"
        },
        "id": "4kMA7oidBuHG",
        "outputId": "159419be-d9cd-4ed3-cc85-1a63b85209e1"
      },
      "execution_count": 16,
      "outputs": [
        {
          "output_type": "stream",
          "name": "stdout",
          "text": [
            "1/1 [==============================] - 0s 170ms/step\n"
          ]
        },
        {
          "output_type": "execute_result",
          "data": {
            "text/plain": [
              "array([[29.224846]], dtype=float32)"
            ]
          },
          "metadata": {},
          "execution_count": 16
        }
      ]
    },
    {
      "cell_type": "code",
      "source": [
        "# re-write the model by my self and improve one thing to get better\n",
        "\n",
        "# 1. Create the model\n",
        "model2 = tf.keras.Sequential([\n",
        "    tf.keras.layers.Dense(1)\n",
        "])\n",
        "\n",
        "# 2. Compile the model\n",
        "model2.compile(loss = tf.keras.losses.mae,\n",
        "              optimizer = tf.keras.optimizers.Adam(learning_rate=0.001), # chang the optimizers from SGD to adam\n",
        "              metrics = [\"mae\"])\n",
        "\n",
        "# 3. Fit the model\n",
        "# model.fit(X, Y, epochs=5) # BREAK IN UPDATED TENSOR VERSION\n",
        "model2.fit(tf.expand_dims(X, axis=-1), Y, epochs=100)"
      ],
      "metadata": {
        "colab": {
          "base_uri": "https://localhost:8080/"
        },
        "id": "gdwbhbhmJVPx",
        "outputId": "22aa4ead-2b40-40bc-cd54-7d25f12f6c98"
      },
      "execution_count": 17,
      "outputs": [
        {
          "output_type": "stream",
          "name": "stdout",
          "text": [
            "Epoch 1/100\n",
            "1/1 [==============================] - 1s 1s/step - loss: 19.9271 - mae: 19.9271\n",
            "Epoch 2/100\n",
            "1/1 [==============================] - 0s 33ms/step - loss: 19.9211 - mae: 19.9211\n",
            "Epoch 3/100\n",
            "1/1 [==============================] - 0s 33ms/step - loss: 19.9151 - mae: 19.9151\n",
            "Epoch 4/100\n",
            "1/1 [==============================] - 0s 23ms/step - loss: 19.9091 - mae: 19.9091\n",
            "Epoch 5/100\n",
            "1/1 [==============================] - 0s 18ms/step - loss: 19.9031 - mae: 19.9031\n",
            "Epoch 6/100\n",
            "1/1 [==============================] - 0s 30ms/step - loss: 19.8971 - mae: 19.8971\n",
            "Epoch 7/100\n",
            "1/1 [==============================] - 0s 28ms/step - loss: 19.8911 - mae: 19.8911\n",
            "Epoch 8/100\n",
            "1/1 [==============================] - 0s 28ms/step - loss: 19.8851 - mae: 19.8851\n",
            "Epoch 9/100\n",
            "1/1 [==============================] - 0s 26ms/step - loss: 19.8791 - mae: 19.8791\n",
            "Epoch 10/100\n",
            "1/1 [==============================] - 0s 33ms/step - loss: 19.8731 - mae: 19.8731\n",
            "Epoch 11/100\n",
            "1/1 [==============================] - 0s 31ms/step - loss: 19.8671 - mae: 19.8671\n",
            "Epoch 12/100\n",
            "1/1 [==============================] - 0s 19ms/step - loss: 19.8611 - mae: 19.8611\n",
            "Epoch 13/100\n",
            "1/1 [==============================] - 0s 24ms/step - loss: 19.8551 - mae: 19.8551\n",
            "Epoch 14/100\n",
            "1/1 [==============================] - 0s 34ms/step - loss: 19.8491 - mae: 19.8491\n",
            "Epoch 15/100\n",
            "1/1 [==============================] - 0s 24ms/step - loss: 19.8431 - mae: 19.8431\n",
            "Epoch 16/100\n",
            "1/1 [==============================] - 0s 31ms/step - loss: 19.8371 - mae: 19.8371\n",
            "Epoch 17/100\n",
            "1/1 [==============================] - 0s 36ms/step - loss: 19.8311 - mae: 19.8311\n",
            "Epoch 18/100\n",
            "1/1 [==============================] - 0s 37ms/step - loss: 19.8251 - mae: 19.8251\n",
            "Epoch 19/100\n",
            "1/1 [==============================] - 0s 65ms/step - loss: 19.8190 - mae: 19.8190\n",
            "Epoch 20/100\n",
            "1/1 [==============================] - 0s 39ms/step - loss: 19.8130 - mae: 19.8130\n",
            "Epoch 21/100\n",
            "1/1 [==============================] - 0s 48ms/step - loss: 19.8070 - mae: 19.8070\n",
            "Epoch 22/100\n",
            "1/1 [==============================] - 0s 27ms/step - loss: 19.8010 - mae: 19.8010\n",
            "Epoch 23/100\n",
            "1/1 [==============================] - 0s 44ms/step - loss: 19.7950 - mae: 19.7950\n",
            "Epoch 24/100\n",
            "1/1 [==============================] - 0s 20ms/step - loss: 19.7890 - mae: 19.7890\n",
            "Epoch 25/100\n",
            "1/1 [==============================] - 0s 18ms/step - loss: 19.7830 - mae: 19.7830\n",
            "Epoch 26/100\n",
            "1/1 [==============================] - 0s 38ms/step - loss: 19.7770 - mae: 19.7770\n",
            "Epoch 27/100\n",
            "1/1 [==============================] - 0s 43ms/step - loss: 19.7710 - mae: 19.7710\n",
            "Epoch 28/100\n",
            "1/1 [==============================] - 0s 27ms/step - loss: 19.7650 - mae: 19.7650\n",
            "Epoch 29/100\n",
            "1/1 [==============================] - 0s 34ms/step - loss: 19.7590 - mae: 19.7590\n",
            "Epoch 30/100\n",
            "1/1 [==============================] - 0s 137ms/step - loss: 19.7530 - mae: 19.7530\n",
            "Epoch 31/100\n",
            "1/1 [==============================] - 0s 28ms/step - loss: 19.7470 - mae: 19.7470\n",
            "Epoch 32/100\n",
            "1/1 [==============================] - 0s 24ms/step - loss: 19.7410 - mae: 19.7410\n",
            "Epoch 33/100\n",
            "1/1 [==============================] - 0s 24ms/step - loss: 19.7350 - mae: 19.7350\n",
            "Epoch 34/100\n",
            "1/1 [==============================] - 0s 23ms/step - loss: 19.7290 - mae: 19.7290\n",
            "Epoch 35/100\n",
            "1/1 [==============================] - 0s 24ms/step - loss: 19.7230 - mae: 19.7230\n",
            "Epoch 36/100\n",
            "1/1 [==============================] - 0s 26ms/step - loss: 19.7170 - mae: 19.7170\n",
            "Epoch 37/100\n",
            "1/1 [==============================] - 0s 28ms/step - loss: 19.7110 - mae: 19.7110\n",
            "Epoch 38/100\n",
            "1/1 [==============================] - 0s 24ms/step - loss: 19.7050 - mae: 19.7050\n",
            "Epoch 39/100\n",
            "1/1 [==============================] - 0s 19ms/step - loss: 19.6990 - mae: 19.6990\n",
            "Epoch 40/100\n",
            "1/1 [==============================] - 0s 23ms/step - loss: 19.6930 - mae: 19.6930\n",
            "Epoch 41/100\n",
            "1/1 [==============================] - 0s 37ms/step - loss: 19.6870 - mae: 19.6870\n",
            "Epoch 42/100\n",
            "1/1 [==============================] - 0s 20ms/step - loss: 19.6810 - mae: 19.6810\n",
            "Epoch 43/100\n",
            "1/1 [==============================] - 0s 25ms/step - loss: 19.6750 - mae: 19.6750\n",
            "Epoch 44/100\n",
            "1/1 [==============================] - 0s 20ms/step - loss: 19.6690 - mae: 19.6690\n",
            "Epoch 45/100\n",
            "1/1 [==============================] - 0s 27ms/step - loss: 19.6630 - mae: 19.6630\n",
            "Epoch 46/100\n",
            "1/1 [==============================] - 0s 19ms/step - loss: 19.6570 - mae: 19.6570\n",
            "Epoch 47/100\n",
            "1/1 [==============================] - 0s 29ms/step - loss: 19.6510 - mae: 19.6510\n",
            "Epoch 48/100\n",
            "1/1 [==============================] - 0s 24ms/step - loss: 19.6450 - mae: 19.6450\n",
            "Epoch 49/100\n",
            "1/1 [==============================] - 0s 24ms/step - loss: 19.6390 - mae: 19.6390\n",
            "Epoch 50/100\n",
            "1/1 [==============================] - 0s 23ms/step - loss: 19.6330 - mae: 19.6330\n",
            "Epoch 51/100\n",
            "1/1 [==============================] - 0s 24ms/step - loss: 19.6270 - mae: 19.6270\n",
            "Epoch 52/100\n",
            "1/1 [==============================] - 0s 22ms/step - loss: 19.6210 - mae: 19.6210\n",
            "Epoch 53/100\n",
            "1/1 [==============================] - 0s 19ms/step - loss: 19.6150 - mae: 19.6150\n",
            "Epoch 54/100\n",
            "1/1 [==============================] - 0s 33ms/step - loss: 19.6090 - mae: 19.6090\n",
            "Epoch 55/100\n",
            "1/1 [==============================] - 0s 42ms/step - loss: 19.6030 - mae: 19.6030\n",
            "Epoch 56/100\n",
            "1/1 [==============================] - 0s 30ms/step - loss: 19.5970 - mae: 19.5970\n",
            "Epoch 57/100\n",
            "1/1 [==============================] - 0s 38ms/step - loss: 19.5910 - mae: 19.5910\n",
            "Epoch 58/100\n",
            "1/1 [==============================] - 0s 74ms/step - loss: 19.5850 - mae: 19.5850\n",
            "Epoch 59/100\n",
            "1/1 [==============================] - 0s 37ms/step - loss: 19.5790 - mae: 19.5790\n",
            "Epoch 60/100\n",
            "1/1 [==============================] - 0s 32ms/step - loss: 19.5730 - mae: 19.5730\n",
            "Epoch 61/100\n",
            "1/1 [==============================] - 0s 24ms/step - loss: 19.5670 - mae: 19.5670\n",
            "Epoch 62/100\n",
            "1/1 [==============================] - 0s 37ms/step - loss: 19.5610 - mae: 19.5610\n",
            "Epoch 63/100\n",
            "1/1 [==============================] - 0s 38ms/step - loss: 19.5550 - mae: 19.5550\n",
            "Epoch 64/100\n",
            "1/1 [==============================] - 0s 25ms/step - loss: 19.5490 - mae: 19.5490\n",
            "Epoch 65/100\n",
            "1/1 [==============================] - 0s 43ms/step - loss: 19.5430 - mae: 19.5430\n",
            "Epoch 66/100\n",
            "1/1 [==============================] - 0s 44ms/step - loss: 19.5370 - mae: 19.5370\n",
            "Epoch 67/100\n",
            "1/1 [==============================] - 0s 40ms/step - loss: 19.5310 - mae: 19.5310\n",
            "Epoch 68/100\n",
            "1/1 [==============================] - 0s 47ms/step - loss: 19.5250 - mae: 19.5250\n",
            "Epoch 69/100\n",
            "1/1 [==============================] - 0s 17ms/step - loss: 19.5190 - mae: 19.5190\n",
            "Epoch 70/100\n",
            "1/1 [==============================] - 0s 21ms/step - loss: 19.5130 - mae: 19.5130\n",
            "Epoch 71/100\n",
            "1/1 [==============================] - 0s 24ms/step - loss: 19.5070 - mae: 19.5070\n",
            "Epoch 72/100\n",
            "1/1 [==============================] - 0s 28ms/step - loss: 19.5010 - mae: 19.5010\n",
            "Epoch 73/100\n",
            "1/1 [==============================] - 0s 23ms/step - loss: 19.4950 - mae: 19.4950\n",
            "Epoch 74/100\n",
            "1/1 [==============================] - 0s 21ms/step - loss: 19.4890 - mae: 19.4890\n",
            "Epoch 75/100\n",
            "1/1 [==============================] - 0s 19ms/step - loss: 19.4830 - mae: 19.4830\n",
            "Epoch 76/100\n",
            "1/1 [==============================] - 0s 20ms/step - loss: 19.4770 - mae: 19.4770\n",
            "Epoch 77/100\n",
            "1/1 [==============================] - 0s 42ms/step - loss: 19.4710 - mae: 19.4710\n",
            "Epoch 78/100\n",
            "1/1 [==============================] - 0s 40ms/step - loss: 19.4650 - mae: 19.4650\n",
            "Epoch 79/100\n",
            "1/1 [==============================] - 0s 58ms/step - loss: 19.4590 - mae: 19.4590\n",
            "Epoch 80/100\n",
            "1/1 [==============================] - 0s 44ms/step - loss: 19.4530 - mae: 19.4530\n",
            "Epoch 81/100\n",
            "1/1 [==============================] - 0s 33ms/step - loss: 19.4470 - mae: 19.4470\n",
            "Epoch 82/100\n",
            "1/1 [==============================] - 0s 50ms/step - loss: 19.4410 - mae: 19.4410\n",
            "Epoch 83/100\n",
            "1/1 [==============================] - 0s 64ms/step - loss: 19.4350 - mae: 19.4350\n",
            "Epoch 84/100\n",
            "1/1 [==============================] - 0s 23ms/step - loss: 19.4290 - mae: 19.4290\n",
            "Epoch 85/100\n",
            "1/1 [==============================] - 0s 24ms/step - loss: 19.4230 - mae: 19.4230\n",
            "Epoch 86/100\n",
            "1/1 [==============================] - 0s 45ms/step - loss: 19.4170 - mae: 19.4170\n",
            "Epoch 87/100\n",
            "1/1 [==============================] - 0s 35ms/step - loss: 19.4110 - mae: 19.4110\n",
            "Epoch 88/100\n",
            "1/1 [==============================] - 0s 30ms/step - loss: 19.4050 - mae: 19.4050\n",
            "Epoch 89/100\n",
            "1/1 [==============================] - 0s 35ms/step - loss: 19.3990 - mae: 19.3990\n",
            "Epoch 90/100\n",
            "1/1 [==============================] - 0s 28ms/step - loss: 19.3930 - mae: 19.3930\n",
            "Epoch 91/100\n",
            "1/1 [==============================] - 0s 28ms/step - loss: 19.3870 - mae: 19.3870\n",
            "Epoch 92/100\n",
            "1/1 [==============================] - 0s 23ms/step - loss: 19.3810 - mae: 19.3810\n",
            "Epoch 93/100\n",
            "1/1 [==============================] - 0s 30ms/step - loss: 19.3750 - mae: 19.3750\n",
            "Epoch 94/100\n",
            "1/1 [==============================] - 0s 32ms/step - loss: 19.3690 - mae: 19.3690\n",
            "Epoch 95/100\n",
            "1/1 [==============================] - 0s 84ms/step - loss: 19.3630 - mae: 19.3630\n",
            "Epoch 96/100\n",
            "1/1 [==============================] - 0s 32ms/step - loss: 19.3570 - mae: 19.3570\n",
            "Epoch 97/100\n",
            "1/1 [==============================] - 0s 62ms/step - loss: 19.3510 - mae: 19.3510\n",
            "Epoch 98/100\n",
            "1/1 [==============================] - 0s 23ms/step - loss: 19.3450 - mae: 19.3450\n",
            "Epoch 99/100\n",
            "1/1 [==============================] - 0s 66ms/step - loss: 19.3390 - mae: 19.3390\n",
            "Epoch 100/100\n",
            "1/1 [==============================] - 0s 58ms/step - loss: 19.3330 - mae: 19.3330\n"
          ]
        },
        {
          "output_type": "execute_result",
          "data": {
            "text/plain": [
              "<keras.src.callbacks.History at 0x78dd14854ac0>"
            ]
          },
          "metadata": {},
          "execution_count": 17
        }
      ]
    },
    {
      "cell_type": "code",
      "source": [
        "# Try make prediction\n",
        "model2.predict([17.0])"
      ],
      "metadata": {
        "colab": {
          "base_uri": "https://localhost:8080/"
        },
        "id": "QeWEo95_J5Gg",
        "outputId": "1d2986a1-2711-45df-b313-17e60b3eef0b"
      },
      "execution_count": 18,
      "outputs": [
        {
          "output_type": "stream",
          "name": "stdout",
          "text": [
            "1/1 [==============================] - 0s 269ms/step\n"
          ]
        },
        {
          "output_type": "execute_result",
          "data": {
            "text/plain": [
              "array([[-21.439909]], dtype=float32)"
            ]
          },
          "metadata": {},
          "execution_count": 18
        }
      ]
    },
    {
      "cell_type": "code",
      "source": [
        "# re-write the model\n",
        "\n",
        "# 1. Create the model (with 100 hidden units )\n",
        "model3 = tf.keras.Sequential([\n",
        "    tf.keras.layers.Dense(50, activation=None),\n",
        "    tf.keras.layers.Dense(1)\n",
        "])\n",
        "\n",
        "# 2. Compile the model\n",
        "model3.compile(loss = \"mae\",\n",
        "              optimizer = tf.keras.optimizers.Adam(learning_rate = 0.01),\n",
        "              metrics = [\"mae\"])\n",
        "\n",
        "# 3. Fit the model\n",
        "# model.fit(X, Y, epochs=5) # BREAK IN UPDATED TENSOR VERSION\n",
        "model3.fit(tf.expand_dims(X, axis=-1), Y, epochs=100)"
      ],
      "metadata": {
        "colab": {
          "base_uri": "https://localhost:8080/"
        },
        "id": "KI1XF166hgOa",
        "outputId": "02045306-1533-43b5-b099-9784ec877258"
      },
      "execution_count": 19,
      "outputs": [
        {
          "output_type": "stream",
          "name": "stdout",
          "text": [
            "Epoch 1/100\n",
            "1/1 [==============================] - 4s 4s/step - loss: 12.0812 - mae: 12.0812\n",
            "Epoch 2/100\n",
            "1/1 [==============================] - 0s 43ms/step - loss: 11.3663 - mae: 11.3663\n",
            "Epoch 3/100\n",
            "1/1 [==============================] - 0s 40ms/step - loss: 10.6370 - mae: 10.6370\n",
            "Epoch 4/100\n",
            "1/1 [==============================] - 0s 25ms/step - loss: 9.8921 - mae: 9.8921\n",
            "Epoch 5/100\n",
            "1/1 [==============================] - 0s 47ms/step - loss: 9.1306 - mae: 9.1306\n",
            "Epoch 6/100\n",
            "1/1 [==============================] - 0s 43ms/step - loss: 8.3510 - mae: 8.3510\n",
            "Epoch 7/100\n",
            "1/1 [==============================] - 0s 38ms/step - loss: 7.5517 - mae: 7.5517\n",
            "Epoch 8/100\n",
            "1/1 [==============================] - 0s 26ms/step - loss: 6.9515 - mae: 6.9515\n",
            "Epoch 9/100\n",
            "1/1 [==============================] - 0s 26ms/step - loss: 7.0683 - mae: 7.0683\n",
            "Epoch 10/100\n",
            "1/1 [==============================] - 0s 29ms/step - loss: 7.3495 - mae: 7.3495\n",
            "Epoch 11/100\n",
            "1/1 [==============================] - 0s 29ms/step - loss: 7.4985 - mae: 7.4985\n",
            "Epoch 12/100\n",
            "1/1 [==============================] - 0s 26ms/step - loss: 7.6073 - mae: 7.6073\n",
            "Epoch 13/100\n",
            "1/1 [==============================] - 0s 17ms/step - loss: 7.4914 - mae: 7.4914\n",
            "Epoch 14/100\n",
            "1/1 [==============================] - 0s 41ms/step - loss: 7.2441 - mae: 7.2441\n",
            "Epoch 15/100\n",
            "1/1 [==============================] - 0s 59ms/step - loss: 7.0100 - mae: 7.0100\n",
            "Epoch 16/100\n",
            "1/1 [==============================] - 0s 46ms/step - loss: 6.7459 - mae: 6.7459\n",
            "Epoch 17/100\n",
            "1/1 [==============================] - 0s 35ms/step - loss: 6.4587 - mae: 6.4587\n",
            "Epoch 18/100\n",
            "1/1 [==============================] - 0s 68ms/step - loss: 6.2874 - mae: 6.2874\n",
            "Epoch 19/100\n",
            "1/1 [==============================] - 0s 59ms/step - loss: 6.2370 - mae: 6.2370\n",
            "Epoch 20/100\n",
            "1/1 [==============================] - 0s 44ms/step - loss: 6.3198 - mae: 6.3198\n",
            "Epoch 21/100\n",
            "1/1 [==============================] - 0s 42ms/step - loss: 6.3804 - mae: 6.3804\n",
            "Epoch 22/100\n",
            "1/1 [==============================] - 0s 25ms/step - loss: 6.3267 - mae: 6.3267\n",
            "Epoch 23/100\n",
            "1/1 [==============================] - 0s 22ms/step - loss: 6.1742 - mae: 6.1742\n",
            "Epoch 24/100\n",
            "1/1 [==============================] - 0s 32ms/step - loss: 5.9338 - mae: 5.9338\n",
            "Epoch 25/100\n",
            "1/1 [==============================] - 0s 30ms/step - loss: 5.7670 - mae: 5.7670\n",
            "Epoch 26/100\n",
            "1/1 [==============================] - 0s 30ms/step - loss: 5.6630 - mae: 5.6630\n",
            "Epoch 27/100\n",
            "1/1 [==============================] - 0s 25ms/step - loss: 5.6037 - mae: 5.6037\n",
            "Epoch 28/100\n",
            "1/1 [==============================] - 0s 28ms/step - loss: 5.6079 - mae: 5.6079\n",
            "Epoch 29/100\n",
            "1/1 [==============================] - 0s 30ms/step - loss: 5.5610 - mae: 5.5610\n",
            "Epoch 30/100\n",
            "1/1 [==============================] - 0s 28ms/step - loss: 5.4675 - mae: 5.4675\n",
            "Epoch 31/100\n",
            "1/1 [==============================] - 0s 23ms/step - loss: 5.3321 - mae: 5.3321\n",
            "Epoch 32/100\n",
            "1/1 [==============================] - 0s 22ms/step - loss: 5.1588 - mae: 5.1588\n",
            "Epoch 33/100\n",
            "1/1 [==============================] - 0s 20ms/step - loss: 5.0131 - mae: 5.0131\n",
            "Epoch 34/100\n",
            "1/1 [==============================] - 0s 37ms/step - loss: 4.9262 - mae: 4.9262\n",
            "Epoch 35/100\n",
            "1/1 [==============================] - 0s 37ms/step - loss: 4.8328 - mae: 4.8328\n",
            "Epoch 36/100\n",
            "1/1 [==============================] - 0s 17ms/step - loss: 4.7331 - mae: 4.7331\n",
            "Epoch 37/100\n",
            "1/1 [==============================] - 0s 22ms/step - loss: 4.6950 - mae: 4.6950\n",
            "Epoch 38/100\n",
            "1/1 [==============================] - 0s 27ms/step - loss: 4.5415 - mae: 4.5415\n",
            "Epoch 39/100\n",
            "1/1 [==============================] - 0s 19ms/step - loss: 4.3646 - mae: 4.3646\n",
            "Epoch 40/100\n",
            "1/1 [==============================] - 0s 31ms/step - loss: 4.2199 - mae: 4.2199\n",
            "Epoch 41/100\n",
            "1/1 [==============================] - 0s 39ms/step - loss: 4.0692 - mae: 4.0692\n",
            "Epoch 42/100\n",
            "1/1 [==============================] - 0s 29ms/step - loss: 4.0242 - mae: 4.0242\n",
            "Epoch 43/100\n",
            "1/1 [==============================] - 0s 24ms/step - loss: 3.9265 - mae: 3.9265\n",
            "Epoch 44/100\n",
            "1/1 [==============================] - 0s 27ms/step - loss: 3.7730 - mae: 3.7730\n",
            "Epoch 45/100\n",
            "1/1 [==============================] - 0s 26ms/step - loss: 3.5676 - mae: 3.5676\n",
            "Epoch 46/100\n",
            "1/1 [==============================] - 0s 16ms/step - loss: 3.3289 - mae: 3.3289\n",
            "Epoch 47/100\n",
            "1/1 [==============================] - 0s 17ms/step - loss: 3.1782 - mae: 3.1782\n",
            "Epoch 48/100\n",
            "1/1 [==============================] - 0s 20ms/step - loss: 3.0172 - mae: 3.0172\n",
            "Epoch 49/100\n",
            "1/1 [==============================] - 0s 41ms/step - loss: 2.8939 - mae: 2.8939\n",
            "Epoch 50/100\n",
            "1/1 [==============================] - 0s 55ms/step - loss: 2.6521 - mae: 2.6521\n",
            "Epoch 51/100\n",
            "1/1 [==============================] - 0s 52ms/step - loss: 2.4488 - mae: 2.4488\n",
            "Epoch 52/100\n",
            "1/1 [==============================] - 0s 49ms/step - loss: 2.2358 - mae: 2.2358\n",
            "Epoch 53/100\n",
            "1/1 [==============================] - 0s 49ms/step - loss: 2.0413 - mae: 2.0413\n",
            "Epoch 54/100\n",
            "1/1 [==============================] - 0s 39ms/step - loss: 1.8230 - mae: 1.8230\n",
            "Epoch 55/100\n",
            "1/1 [==============================] - 0s 29ms/step - loss: 1.5777 - mae: 1.5777\n",
            "Epoch 56/100\n",
            "1/1 [==============================] - 0s 31ms/step - loss: 1.3490 - mae: 1.3490\n",
            "Epoch 57/100\n",
            "1/1 [==============================] - 0s 26ms/step - loss: 1.1771 - mae: 1.1771\n",
            "Epoch 58/100\n",
            "1/1 [==============================] - 0s 28ms/step - loss: 0.8408 - mae: 0.8408\n",
            "Epoch 59/100\n",
            "1/1 [==============================] - 0s 33ms/step - loss: 0.6351 - mae: 0.6351\n",
            "Epoch 60/100\n",
            "1/1 [==============================] - 0s 28ms/step - loss: 0.3222 - mae: 0.3222\n",
            "Epoch 61/100\n",
            "1/1 [==============================] - 0s 26ms/step - loss: 0.2389 - mae: 0.2389\n",
            "Epoch 62/100\n",
            "1/1 [==============================] - 0s 39ms/step - loss: 0.2300 - mae: 0.2300\n",
            "Epoch 63/100\n",
            "1/1 [==============================] - 0s 78ms/step - loss: 0.6229 - mae: 0.6229\n",
            "Epoch 64/100\n",
            "1/1 [==============================] - 0s 31ms/step - loss: 0.7733 - mae: 0.7733\n",
            "Epoch 65/100\n",
            "1/1 [==============================] - 0s 32ms/step - loss: 0.6857 - mae: 0.6857\n",
            "Epoch 66/100\n",
            "1/1 [==============================] - 0s 34ms/step - loss: 0.8733 - mae: 0.8733\n",
            "Epoch 67/100\n",
            "1/1 [==============================] - 0s 32ms/step - loss: 0.9804 - mae: 0.9804\n",
            "Epoch 68/100\n",
            "1/1 [==============================] - 0s 38ms/step - loss: 0.8411 - mae: 0.8411\n",
            "Epoch 69/100\n",
            "1/1 [==============================] - 0s 32ms/step - loss: 0.6113 - mae: 0.6113\n",
            "Epoch 70/100\n",
            "1/1 [==============================] - 0s 45ms/step - loss: 0.7442 - mae: 0.7442\n",
            "Epoch 71/100\n",
            "1/1 [==============================] - 0s 40ms/step - loss: 0.6719 - mae: 0.6719\n",
            "Epoch 72/100\n",
            "1/1 [==============================] - 0s 35ms/step - loss: 0.4147 - mae: 0.4147\n",
            "Epoch 73/100\n",
            "1/1 [==============================] - 0s 26ms/step - loss: 0.2765 - mae: 0.2765\n",
            "Epoch 74/100\n",
            "1/1 [==============================] - 0s 29ms/step - loss: 0.2466 - mae: 0.2466\n",
            "Epoch 75/100\n",
            "1/1 [==============================] - 0s 27ms/step - loss: 0.1638 - mae: 0.1638\n",
            "Epoch 76/100\n",
            "1/1 [==============================] - 0s 34ms/step - loss: 0.2664 - mae: 0.2664\n",
            "Epoch 77/100\n",
            "1/1 [==============================] - 0s 23ms/step - loss: 0.3434 - mae: 0.3434\n",
            "Epoch 78/100\n",
            "1/1 [==============================] - 0s 19ms/step - loss: 0.3419 - mae: 0.3419\n",
            "Epoch 79/100\n",
            "1/1 [==============================] - 0s 20ms/step - loss: 0.3849 - mae: 0.3849\n",
            "Epoch 80/100\n",
            "1/1 [==============================] - 0s 26ms/step - loss: 0.3558 - mae: 0.3558\n",
            "Epoch 81/100\n",
            "1/1 [==============================] - 0s 24ms/step - loss: 0.2478 - mae: 0.2478\n",
            "Epoch 82/100\n",
            "1/1 [==============================] - 0s 33ms/step - loss: 0.1728 - mae: 0.1728\n",
            "Epoch 83/100\n",
            "1/1 [==============================] - 0s 41ms/step - loss: 0.1951 - mae: 0.1951\n",
            "Epoch 84/100\n",
            "1/1 [==============================] - 0s 29ms/step - loss: 0.0632 - mae: 0.0632\n",
            "Epoch 85/100\n",
            "1/1 [==============================] - 0s 59ms/step - loss: 0.3273 - mae: 0.3273\n",
            "Epoch 86/100\n",
            "1/1 [==============================] - 0s 43ms/step - loss: 0.3246 - mae: 0.3246\n",
            "Epoch 87/100\n",
            "1/1 [==============================] - 0s 30ms/step - loss: 0.1789 - mae: 0.1789\n",
            "Epoch 88/100\n",
            "1/1 [==============================] - 0s 23ms/step - loss: 0.2135 - mae: 0.2135\n",
            "Epoch 89/100\n",
            "1/1 [==============================] - 0s 29ms/step - loss: 0.1044 - mae: 0.1044\n",
            "Epoch 90/100\n",
            "1/1 [==============================] - 0s 26ms/step - loss: 0.0537 - mae: 0.0537\n",
            "Epoch 91/100\n",
            "1/1 [==============================] - 0s 16ms/step - loss: 0.1803 - mae: 0.1803\n",
            "Epoch 92/100\n",
            "1/1 [==============================] - 0s 23ms/step - loss: 0.1141 - mae: 0.1141\n",
            "Epoch 93/100\n",
            "1/1 [==============================] - 0s 16ms/step - loss: 0.2532 - mae: 0.2532\n",
            "Epoch 94/100\n",
            "1/1 [==============================] - 0s 20ms/step - loss: 0.2562 - mae: 0.2562\n",
            "Epoch 95/100\n",
            "1/1 [==============================] - 0s 36ms/step - loss: 0.1093 - mae: 0.1093\n",
            "Epoch 96/100\n",
            "1/1 [==============================] - 0s 35ms/step - loss: 0.2123 - mae: 0.2123\n",
            "Epoch 97/100\n",
            "1/1 [==============================] - 0s 44ms/step - loss: 0.0695 - mae: 0.0695\n",
            "Epoch 98/100\n",
            "1/1 [==============================] - 0s 43ms/step - loss: 0.3564 - mae: 0.3564\n",
            "Epoch 99/100\n",
            "1/1 [==============================] - 0s 32ms/step - loss: 0.4400 - mae: 0.4400\n",
            "Epoch 100/100\n",
            "1/1 [==============================] - 0s 30ms/step - loss: 0.2427 - mae: 0.2427\n"
          ]
        },
        {
          "output_type": "execute_result",
          "data": {
            "text/plain": [
              "<keras.src.callbacks.History at 0x78dd1472f730>"
            ]
          },
          "metadata": {},
          "execution_count": 19
        }
      ]
    },
    {
      "cell_type": "code",
      "source": [
        "# Try make prediction\n",
        "model3.predict([17.0])"
      ],
      "metadata": {
        "colab": {
          "base_uri": "https://localhost:8080/"
        },
        "id": "iZcXS1vmiusq",
        "outputId": "8b88d6bb-b4f6-4088-b5a4-5de4a493b08f"
      },
      "execution_count": 20,
      "outputs": [
        {
          "output_type": "stream",
          "name": "stdout",
          "text": [
            "1/1 [==============================] - 0s 197ms/step\n"
          ]
        },
        {
          "output_type": "execute_result",
          "data": {
            "text/plain": [
              "array([[27.69694]], dtype=float32)"
            ]
          },
          "metadata": {},
          "execution_count": 20
        }
      ]
    },
    {
      "cell_type": "markdown",
      "source": [
        "## Evaluating Model\n",
        "\n",
        "Build a model -> fit it -> evaluate it -> tweak a model -> fit it -> evaluate it...\n",
        "\n",
        "Evaluation = visualize\n",
        "\n",
        "it's good idea to visualize :\n",
        "* The data - what data we working with? what does it look like?\n",
        "* The model = what does our model look like?\n",
        "* The training of a model - how does a model perform while it learns?\n",
        "* The predictions of the model - how do the predictions of a model line up against the ground truth (the origin label)"
      ],
      "metadata": {
        "id": "ggu1CbXFlSbl"
      }
    },
    {
      "cell_type": "code",
      "source": [
        "# Make a bigger dataset\n",
        "\n",
        "x = tf.range(-100, 100, 4)\n",
        "x"
      ],
      "metadata": {
        "colab": {
          "base_uri": "https://localhost:8080/"
        },
        "id": "O5yDk0J9lV5n",
        "outputId": "f313ac24-81d1-4a09-ff03-57bec90f143c"
      },
      "execution_count": 21,
      "outputs": [
        {
          "output_type": "execute_result",
          "data": {
            "text/plain": [
              "<tf.Tensor: shape=(50,), dtype=int32, numpy=\n",
              "array([-100,  -96,  -92,  -88,  -84,  -80,  -76,  -72,  -68,  -64,  -60,\n",
              "        -56,  -52,  -48,  -44,  -40,  -36,  -32,  -28,  -24,  -20,  -16,\n",
              "        -12,   -8,   -4,    0,    4,    8,   12,   16,   20,   24,   28,\n",
              "         32,   36,   40,   44,   48,   52,   56,   60,   64,   68,   72,\n",
              "         76,   80,   84,   88,   92,   96], dtype=int32)>"
            ]
          },
          "metadata": {},
          "execution_count": 21
        }
      ]
    },
    {
      "cell_type": "code",
      "source": [
        "# Make labels for the dataset\n",
        "\n",
        "y = x + 10\n",
        "y"
      ],
      "metadata": {
        "colab": {
          "base_uri": "https://localhost:8080/"
        },
        "id": "_VnV5iodqYP8",
        "outputId": "354f0a7f-68e3-4311-a4eb-e1cf347824d9"
      },
      "execution_count": 22,
      "outputs": [
        {
          "output_type": "execute_result",
          "data": {
            "text/plain": [
              "<tf.Tensor: shape=(50,), dtype=int32, numpy=\n",
              "array([-90, -86, -82, -78, -74, -70, -66, -62, -58, -54, -50, -46, -42,\n",
              "       -38, -34, -30, -26, -22, -18, -14, -10,  -6,  -2,   2,   6,  10,\n",
              "        14,  18,  22,  26,  30,  34,  38,  42,  46,  50,  54,  58,  62,\n",
              "        66,  70,  74,  78,  82,  86,  90,  94,  98, 102, 106], dtype=int32)>"
            ]
          },
          "metadata": {},
          "execution_count": 22
        }
      ]
    },
    {
      "cell_type": "code",
      "source": [
        "# Visualize the data\n",
        "\n",
        "import matplotlib.pyplot as plt\n",
        "\n",
        "plt.scatter(x, y)"
      ],
      "metadata": {
        "colab": {
          "base_uri": "https://localhost:8080/",
          "height": 447
        },
        "id": "wqnieOnpqiby",
        "outputId": "8d557596-3f53-45af-e8a4-ac27abcf11b5"
      },
      "execution_count": 23,
      "outputs": [
        {
          "output_type": "execute_result",
          "data": {
            "text/plain": [
              "<matplotlib.collections.PathCollection at 0x78dd14636b00>"
            ]
          },
          "metadata": {},
          "execution_count": 23
        },
        {
          "output_type": "display_data",
          "data": {
            "text/plain": [
              "<Figure size 640x480 with 1 Axes>"
            ],
            "image/png": "[encoded data removed]"
          },
          "metadata": {}
        }
      ]
    },
    {
      "cell_type": "markdown",
      "source": [
        "### The 3 sets\n",
        "\n",
        "* **Training set** - the model learn from this data, 70-80%\n",
        "* **Validation set** - set model gets tuned on this data, 10-15%\n",
        "* **Test set** - the model gets evaluated on this data, 10-15%"
      ],
      "metadata": {
        "id": "CCtd3h36q0Xk"
      }
    },
    {
      "cell_type": "code",
      "source": [
        "# Check the length of the data\n",
        "len(x)"
      ],
      "metadata": {
        "colab": {
          "base_uri": "https://localhost:8080/"
        },
        "id": "2_ITjQWjFQsM",
        "outputId": "17c3122c-5060-49a9-d07d-e996a1bbd674"
      },
      "execution_count": 24,
      "outputs": [
        {
          "output_type": "execute_result",
          "data": {
            "text/plain": [
              "50"
            ]
          },
          "metadata": {},
          "execution_count": 24
        }
      ]
    },
    {
      "cell_type": "code",
      "source": [
        "# Split the data into train and test sets\n",
        "x_train = x[:40] # first to 40 data will be the training sample\n",
        "y_train = y[:40]\n",
        "\n",
        "x_test = x[40:] # 20% will be test\n",
        "y_test = y[40:]\n",
        "\n",
        "len(x_train), len(x_test), len(y_train), len(y_test)"
      ],
      "metadata": {
        "colab": {
          "base_uri": "https://localhost:8080/"
        },
        "id": "4fkIFEl_HAu3",
        "outputId": "6da4e96e-373b-468e-d46c-ebb378575898"
      },
      "execution_count": 25,
      "outputs": [
        {
          "output_type": "execute_result",
          "data": {
            "text/plain": [
              "(40, 10, 40, 10)"
            ]
          },
          "metadata": {},
          "execution_count": 25
        }
      ]
    },
    {
      "cell_type": "markdown",
      "source": [
        "### Visualing the data\n",
        "\n",
        "Now we've got out data in training and test sets...lets visualize it"
      ],
      "metadata": {
        "id": "9WJ9AtA0KgLL"
      }
    },
    {
      "cell_type": "code",
      "source": [
        "plt.figure(figsize=(10,7))\n",
        "\n",
        "# Plot training data in blue\n",
        "plt.scatter(x_train, y_train, c=\"b\", label=\"Training data\")\n",
        "\n",
        "# Plot test data in green\n",
        "plt.scatter(x_test, y_test, c=\"g\", label=\"Testing data\")\n",
        "\n",
        "# Show a legend\n",
        "plt.legend();"
      ],
      "metadata": {
        "colab": {
          "base_uri": "https://localhost:8080/",
          "height": 599
        },
        "id": "OQGu_de6G_li",
        "outputId": "4b903c1c-ed5b-40f1-8d6b-6e92fe8df8ad"
      },
      "execution_count": 26,
      "outputs": [
        {
          "output_type": "display_data",
          "data": {
            "text/plain": [
              "<Figure size 1000x700 with 1 Axes>"
            ],
            "image/png": "[encoded data removed]"
          },
          "metadata": {}
        }
      ]
    },
    {
      "cell_type": "code",
      "source": [
        "# Lets have a look at how to build a neural network for our data\n",
        "\n",
        "# 1. Create the model\n",
        "model = tf.keras.Sequential([\n",
        "    tf.keras.layers.Dense(1)\n",
        "])\n",
        "\n",
        "# 2. Compile the model\n",
        "model.compile(loss = tf.keras.losses.mae,\n",
        "              optimizer = tf.keras.optimizers.SGD(),\n",
        "              metrics = [\"mae\"])\n",
        "\n",
        "# 3. Fit the model\n",
        "#model.fit(tf.expand_dims(x_train, axis=-1), y_train, epochs=100)"
      ],
      "metadata": {
        "id": "TtdWZXKHSSN-"
      },
      "execution_count": 27,
      "outputs": []
    },
    {
      "cell_type": "markdown",
      "source": [
        "### Visualizing the model"
      ],
      "metadata": {
        "id": "F7d7P08yTScA"
      }
    },
    {
      "cell_type": "code",
      "source": [
        "# Lets create  model wich builds automatically by defining the input_shape arguments\n",
        "\n",
        "tf.random.set_seed(42)\n",
        "\n",
        "# 1. Create the model\n",
        "model_1 = tf.keras.Sequential([\n",
        "    tf.keras.layers.Dense(100, input_shape=[1], name=\"input_layer\"),\n",
        "    tf.keras.layers.Dense(1, name=\"output_layer\")\n",
        "], name=\"model_one\")\n",
        "\n",
        "# 2. Compile the model\n",
        "model_1.compile(loss = tf.keras.losses.mae,\n",
        "              optimizer = tf.keras.optimizers.SGD(),\n",
        "              metrics = [\"mae\"])"
      ],
      "metadata": {
        "id": "MpSA6LxwTzZK"
      },
      "execution_count": 28,
      "outputs": []
    },
    {
      "cell_type": "code",
      "source": [
        "model_1.summary()"
      ],
      "metadata": {
        "colab": {
          "base_uri": "https://localhost:8080/"
        },
        "id": "-jMC9-6WUyLw",
        "outputId": "255aed52-c732-4da8-b157-8cfe6fbb9917"
      },
      "execution_count": 29,
      "outputs": [
        {
          "output_type": "stream",
          "name": "stdout",
          "text": [
            "Model: \"model_one\"\n",
            "_________________________________________________________________\n",
            " Layer (type)                Output Shape              Param #   \n",
            "=================================================================\n",
            " input_layer (Dense)         (None, 100)               200       \n",
            "                                                                 \n",
            " output_layer (Dense)        (None, 1)                 101       \n",
            "                                                                 \n",
            "=================================================================\n",
            "Total params: 301 (1.18 KB)\n",
            "Trainable params: 301 (1.18 KB)\n",
            "Non-trainable params: 0 (0.00 Byte)\n",
            "_________________________________________________________________\n"
          ]
        }
      ]
    },
    {
      "cell_type": "markdown",
      "source": [
        "* Total params - total number of parameters that we have\n",
        "\n",
        "* Trainable parameters - the parameters (patterns) the model can update as it trains\n",
        "\n",
        "* Non-trainable params - parameters cant updated during training (allready learn in models during **transfer learning**)\n",
        "\n",
        "📚 **Resource** : For a more in depth overview of the trainable parameters within a layer, check ouy MIT's intorduction to deep learning video\n",
        "\n",
        "⚡**Exercise :** Try playing around with the number of hidden units in the dense layer, see how that effect the number of parameters"
      ],
      "metadata": {
        "id": "fkeG27Fm3_t1"
      }
    },
    {
      "cell_type": "code",
      "source": [
        "# 3. Fit the model\n",
        "model_1.fit(tf.expand_dims(x_train, axis=-1), y_train, epochs=60, verbose=0)"
      ],
      "metadata": {
        "colab": {
          "base_uri": "https://localhost:8080/"
        },
        "id": "e-cgkHtW6914",
        "outputId": "8e1b19bc-835f-45ff-ad7e-be19dafc7d66"
      },
      "execution_count": 30,
      "outputs": [
        {
          "output_type": "execute_result",
          "data": {
            "text/plain": [
              "<keras.src.callbacks.History at 0x78dd06ccfaf0>"
            ]
          },
          "metadata": {},
          "execution_count": 30
        }
      ]
    },
    {
      "cell_type": "code",
      "source": [
        "# Get a summary of our model\n",
        "model_1.summary()"
      ],
      "metadata": {
        "colab": {
          "base_uri": "https://localhost:8080/"
        },
        "id": "IYam8Kl-M2o7",
        "outputId": "6010e068-dfee-4506-8037-5d674aa84934"
      },
      "execution_count": 31,
      "outputs": [
        {
          "output_type": "stream",
          "name": "stdout",
          "text": [
            "Model: \"model_one\"\n",
            "_________________________________________________________________\n",
            " Layer (type)                Output Shape              Param #   \n",
            "=================================================================\n",
            " input_layer (Dense)         (None, 100)               200       \n",
            "                                                                 \n",
            " output_layer (Dense)        (None, 1)                 101       \n",
            "                                                                 \n",
            "=================================================================\n",
            "Total params: 301 (1.18 KB)\n",
            "Trainable params: 301 (1.18 KB)\n",
            "Non-trainable params: 0 (0.00 Byte)\n",
            "_________________________________________________________________\n"
          ]
        }
      ]
    },
    {
      "cell_type": "code",
      "source": [
        "from tensorflow.keras.utils import plot_model\n",
        "\n",
        "plot_model(model=model_1, show_shapes=True)"
      ],
      "metadata": {
        "colab": {
          "base_uri": "https://localhost:8080/",
          "height": 312
        },
        "id": "EMxErQE0NVSc",
        "outputId": "b192b8f7-fba3-4498-8502-65648c518d91"
      },
      "execution_count": 32,
      "outputs": [
        {
          "output_type": "execute_result",
          "data": {
            "image/png": "[encoded data removed]",
            "text/plain": [
              "<IPython.core.display.Image object>"
            ]
          },
          "metadata": {},
          "execution_count": 32
        }
      ]
    },
    {
      "cell_type": "markdown",
      "source": [
        "### Visualizing our models predictions\n",
        "\n",
        "To visualize predictions, it's a good idea to plot them against the ground truth labels.\n",
        "\n",
        "Often you'll see this in the form of 'y_test' or 'y_true' versus 'y_pred' (ground truth versus your model prediction)"
      ],
      "metadata": {
        "id": "XXOFpjXFOyH9"
      }
    },
    {
      "cell_type": "code",
      "source": [
        "# Make some predictions\n",
        "\n",
        "y_pred = model_1.predict(x_test)\n",
        "y_pred"
      ],
      "metadata": {
        "colab": {
          "base_uri": "https://localhost:8080/"
        },
        "id": "943XbXEayJf3",
        "outputId": "aadb7baa-20c5-4c12-aaeb-74f3fb86f2ab"
      },
      "execution_count": 33,
      "outputs": [
        {
          "output_type": "stream",
          "name": "stderr",
          "text": [
            "WARNING:tensorflow:5 out of the last 5 calls to <function Model.make_predict_function.<locals>.predict_function at 0x78dd06be2680> triggered tf.function retracing. Tracing is expensive and the excessive number of tracings could be due to (1) creating @tf.function repeatedly in a loop, (2) passing tensors with different shapes, (3) passing Python objects instead of tensors. For (1), please define your @tf.function outside of the loop. For (2), @tf.function has reduce_retracing=True option that can avoid unnecessary retracing. For (3), please refer to https://www.tensorflow.org/guide/function#controlling_retracing and https://www.tensorflow.org/api_docs/python/tf/function for  more details.\n"
          ]
        },
        {
          "output_type": "stream",
          "name": "stdout",
          "text": [
            "1/1 [==============================] - 0s 151ms/step\n"
          ]
        },
        {
          "output_type": "execute_result",
          "data": {
            "text/plain": [
              "array([[ 71.445305],\n",
              "       [ 76.13992 ],\n",
              "       [ 80.83454 ],\n",
              "       [ 85.52915 ],\n",
              "       [ 90.22377 ],\n",
              "       [ 94.91839 ],\n",
              "       [ 99.61299 ],\n",
              "       [104.307594],\n",
              "       [109.00221 ],\n",
              "       [113.696815]], dtype=float32)"
            ]
          },
          "metadata": {},
          "execution_count": 33
        }
      ]
    },
    {
      "cell_type": "code",
      "source": [
        "y_test"
      ],
      "metadata": {
        "colab": {
          "base_uri": "https://localhost:8080/"
        },
        "id": "Ke-R5lq9zVa3",
        "outputId": "826b6f92-0bc8-4104-ea51-eed8f04d3667"
      },
      "execution_count": 34,
      "outputs": [
        {
          "output_type": "execute_result",
          "data": {
            "text/plain": [
              "<tf.Tensor: shape=(10,), dtype=int32, numpy=array([ 70,  74,  78,  82,  86,  90,  94,  98, 102, 106], dtype=int32)>"
            ]
          },
          "metadata": {},
          "execution_count": 34
        }
      ]
    },
    {
      "cell_type": "markdown",
      "source": [
        "🔑 **Note : ** if you feel like you're going to reuse some functionality in the future, its good idea to turn it into a fucntion"
      ],
      "metadata": {
        "id": "nSO6jWAR09Jt"
      }
    },
    {
      "cell_type": "code",
      "source": [
        "# Lets create a plotting function\n",
        "\n",
        "def plot_predictions(train_data=x_train,\n",
        "                     train_labels=y_train,\n",
        "                     test_data=x_test,\n",
        "                     test_labels=y_test,\n",
        "                     predictions=y_pred):\n",
        "  \"\"\"\n",
        "  Plots training data, test data and compares predictions to ground truth labels\n",
        "  \"\"\"\n",
        "  plt.figure(figsize=(10,7))\n",
        "  # Plot training data in blue\n",
        "  plt.scatter(train_data, train_labels, c=\"b\", label=\"Training data\")\n",
        "\n",
        "  # Plot testing data in green\n",
        "  plt.scatter(test_data, test_labels, c=\"g\", label=\"Test data\")\n",
        "\n",
        "  # Plot models predictions in red\n",
        "  plt.scatter(test_data, predictions, c=\"r\", label=\"Predictions\")\n",
        "\n",
        "  # Show the legend\n",
        "  plt.legend()\n",
        "\n"
      ],
      "metadata": {
        "id": "Wt-qJvPk1MAh"
      },
      "execution_count": 35,
      "outputs": []
    },
    {
      "cell_type": "code",
      "source": [
        "plot_predictions()"
      ],
      "metadata": {
        "colab": {
          "base_uri": "https://localhost:8080/",
          "height": 599
        },
        "id": "7ZFYZPV5200S",
        "outputId": "36f0c5c5-cd90-45e8-a953-72bc628a33e3"
      },
      "execution_count": 36,
      "outputs": [
        {
          "output_type": "display_data",
          "data": {
            "text/plain": [
              "<Figure size 1000x700 with 1 Axes>"
            ],
            "image/png": "[encoded data removed]"
          },
          "metadata": {}
        }
      ]
    },
    {
      "cell_type": "markdown",
      "source": [
        "### Evaluating our models predictions with regression evaluation metrics\n",
        "\n",
        "The evaluation metrics is depending to the model we working on\n",
        "\n",
        "since we're working on a regression, two of the main matrics:\n",
        "* MAE - mean absolute error, \"on average, how wrong is each of my model predictions\"\n",
        "\n",
        "* MSE - mean square error, \"square the average errors\""
      ],
      "metadata": {
        "id": "xWQ92ZRr4V_K"
      }
    },
    {
      "cell_type": "code",
      "source": [
        " # Evaluate the model on the test\n",
        " model_1.evaluate(x_test, y_test)"
      ],
      "metadata": {
        "id": "y3-bYOHr0p-A",
        "colab": {
          "base_uri": "https://localhost:8080/"
        },
        "outputId": "773bd4b0-323e-4ec7-9ca6-b7c5a32a4f68"
      },
      "execution_count": 37,
      "outputs": [
        {
          "output_type": "stream",
          "name": "stdout",
          "text": [
            "1/1 [==============================] - 0s 322ms/step - loss: 4.5711 - mae: 4.5711\n"
          ]
        },
        {
          "output_type": "execute_result",
          "data": {
            "text/plain": [
              "[4.571067810058594, 4.571067810058594]"
            ]
          },
          "metadata": {},
          "execution_count": 37
        }
      ]
    },
    {
      "cell_type": "code",
      "source": [
        "# Calculate the mean absolute error\n",
        "mae = tf.metrics.mean_absolute_error(y_true=y_test, y_pred=tf.constant(y_pred))\n",
        "mae"
      ],
      "metadata": {
        "colab": {
          "base_uri": "https://localhost:8080/"
        },
        "id": "bAwZ_yTfPV4C",
        "outputId": "04e90182-81bb-4d64-ba2f-3464b8b7d469"
      },
      "execution_count": 38,
      "outputs": [
        {
          "output_type": "execute_result",
          "data": {
            "text/plain": [
              "<tf.Tensor: shape=(10,), dtype=float32, numpy=\n",
              "array([16.843756, 13.516047, 11.266184, 10.09417 , 10.044754, 11.167356,\n",
              "       13.367795, 16.646076, 21.002213, 25.696814], dtype=float32)>"
            ]
          },
          "metadata": {},
          "execution_count": 38
        }
      ]
    },
    {
      "cell_type": "code",
      "source": [
        "tf.constant(y_pred)"
      ],
      "metadata": {
        "colab": {
          "base_uri": "https://localhost:8080/"
        },
        "id": "v6CpJX1IPiwj",
        "outputId": "3bd6e5c4-0ea4-4c7c-fd44-fe1a93e02ab7"
      },
      "execution_count": 39,
      "outputs": [
        {
          "output_type": "execute_result",
          "data": {
            "text/plain": [
              "<tf.Tensor: shape=(10, 1), dtype=float32, numpy=\n",
              "array([[ 71.445305],\n",
              "       [ 76.13992 ],\n",
              "       [ 80.83454 ],\n",
              "       [ 85.52915 ],\n",
              "       [ 90.22377 ],\n",
              "       [ 94.91839 ],\n",
              "       [ 99.61299 ],\n",
              "       [104.307594],\n",
              "       [109.00221 ],\n",
              "       [113.696815]], dtype=float32)>"
            ]
          },
          "metadata": {},
          "execution_count": 39
        }
      ]
    },
    {
      "cell_type": "code",
      "source": [
        "y_test"
      ],
      "metadata": {
        "colab": {
          "base_uri": "https://localhost:8080/"
        },
        "id": "JusnDI5oPlKR",
        "outputId": "1cc37cae-2e19-4b2e-e8a1-2aca1f31039d"
      },
      "execution_count": 40,
      "outputs": [
        {
          "output_type": "execute_result",
          "data": {
            "text/plain": [
              "<tf.Tensor: shape=(10,), dtype=int32, numpy=array([ 70,  74,  78,  82,  86,  90,  94,  98, 102, 106], dtype=int32)>"
            ]
          },
          "metadata": {},
          "execution_count": 40
        }
      ]
    },
    {
      "cell_type": "code",
      "source": [
        "tf.squeeze(y_pred)"
      ],
      "metadata": {
        "colab": {
          "base_uri": "https://localhost:8080/"
        },
        "id": "WqQJPNiwyi56",
        "outputId": "8d644ae5-7af2-4ca7-debc-ba675a437285"
      },
      "execution_count": 41,
      "outputs": [
        {
          "output_type": "execute_result",
          "data": {
            "text/plain": [
              "<tf.Tensor: shape=(10,), dtype=float32, numpy=\n",
              "array([ 71.445305,  76.13992 ,  80.83454 ,  85.52915 ,  90.22377 ,\n",
              "        94.91839 ,  99.61299 , 104.307594, 109.00221 , 113.696815],\n",
              "      dtype=float32)>"
            ]
          },
          "metadata": {},
          "execution_count": 41
        }
      ]
    },
    {
      "cell_type": "code",
      "source": [
        "# Calculate the mean absolute error\n",
        "\n",
        "mae = tf.metrics.mean_absolute_error(y_true=y_test, y_pred=tf.squeeze(y_pred))\n",
        "\n",
        "mae"
      ],
      "metadata": {
        "colab": {
          "base_uri": "https://localhost:8080/"
        },
        "id": "uUT4LV7uypPs",
        "outputId": "ef266f54-a989-4142-e31a-d2f4db2abfab"
      },
      "execution_count": 42,
      "outputs": [
        {
          "output_type": "execute_result",
          "data": {
            "text/plain": [
              "<tf.Tensor: shape=(), dtype=float32, numpy=4.5710692>"
            ]
          },
          "metadata": {},
          "execution_count": 42
        }
      ]
    },
    {
      "cell_type": "code",
      "source": [
        "# Calculate the mean square error\n",
        "\n",
        "mse = tf.metrics.mean_squared_error(y_true=y_test, y_pred=tf.squeeze(y_pred))\n",
        "mse"
      ],
      "metadata": {
        "id": "QpelDvIC2Nvg",
        "colab": {
          "base_uri": "https://localhost:8080/"
        },
        "outputId": "3f09594b-dd67-4de4-dc97-0e290ba6d43f"
      },
      "execution_count": 43,
      "outputs": [
        {
          "output_type": "execute_result",
          "data": {
            "text/plain": [
              "<tf.Tensor: shape=(), dtype=float32, numpy=24.875187>"
            ]
          },
          "metadata": {},
          "execution_count": 43
        }
      ]
    },
    {
      "cell_type": "code",
      "source": [
        "# Make fucntion to reuse MAE and MSE\n",
        "def mae(y_true, y_pred):\n",
        "  return tf.metrics.mean_absolute_error(y_true=y_true,\n",
        "                                      y_pred=tf.squeeze(y_pred))\n",
        "\n",
        "def mse(y_true,y_pred):\n",
        "  return tf.metrics.mean_squared_error(y_true=y_true,\n",
        "                                       y_pred=tf.squeeze(y_pred))"
      ],
      "metadata": {
        "id": "oCsUvdVW2yQL"
      },
      "execution_count": 44,
      "outputs": []
    },
    {
      "cell_type": "markdown",
      "source": [
        "### Running experiments to improve our model\n",
        "\n",
        "1. Get more data - get more example for model\n",
        "\n",
        "2. Make your model larger (using a more complex model) - matbe more layers or hidden units\n",
        "\n",
        "3. Train for longer - give model more chance to find patterns in data\n",
        "\n",
        "Let's do 3 modelling experiment L\n",
        "\n",
        "1. 'model_1' - same as the origin, 1 layer, trained for 100 epochs\n",
        "\n",
        "2. 'model_2' - 2 layers, trained for 100 epochs\n",
        "\n",
        "3. 'model_3' - 2 layers, rained for 500 epochs"
      ],
      "metadata": {
        "id": "U73RgqjhN1Gb"
      }
    },
    {
      "cell_type": "code",
      "source": [
        "x_train, y_train"
      ],
      "metadata": {
        "colab": {
          "base_uri": "https://localhost:8080/"
        },
        "id": "ZRYFc01nOexa",
        "outputId": "a3fdb234-e1a3-4239-9477-7aaa5f27405d"
      },
      "execution_count": 45,
      "outputs": [
        {
          "output_type": "execute_result",
          "data": {
            "text/plain": [
              "(<tf.Tensor: shape=(40,), dtype=int32, numpy=\n",
              " array([-100,  -96,  -92,  -88,  -84,  -80,  -76,  -72,  -68,  -64,  -60,\n",
              "         -56,  -52,  -48,  -44,  -40,  -36,  -32,  -28,  -24,  -20,  -16,\n",
              "         -12,   -8,   -4,    0,    4,    8,   12,   16,   20,   24,   28,\n",
              "          32,   36,   40,   44,   48,   52,   56], dtype=int32)>,\n",
              " <tf.Tensor: shape=(40,), dtype=int32, numpy=\n",
              " array([-90, -86, -82, -78, -74, -70, -66, -62, -58, -54, -50, -46, -42,\n",
              "        -38, -34, -30, -26, -22, -18, -14, -10,  -6,  -2,   2,   6,  10,\n",
              "         14,  18,  22,  26,  30,  34,  38,  42,  46,  50,  54,  58,  62,\n",
              "         66], dtype=int32)>)"
            ]
          },
          "metadata": {},
          "execution_count": 45
        }
      ]
    },
    {
      "cell_type": "code",
      "source": [
        "# First build model_1\n",
        "\n",
        "# Ser random seed\n",
        "tf.random.set_seed(42)\n",
        "\n",
        "# 1. Create the model\n",
        "model_1 = tf.keras.Sequential([\n",
        "    tf.keras.layers.Dense(1)\n",
        "])\n",
        "\n",
        "# 2. Compile the model\n",
        "model_1.compile(loss=tf.keras.losses.mae,\n",
        "                optimizer=tf.keras.optimizers.SGD(),\n",
        "                metrics=[\"mae\"],\n",
        "                run_eagerly=True)\n",
        "\n",
        "# 3. FIt the model\n",
        "model_1.fit(tf.expand_dims(x_train, axis=-1), y_train, epochs=100, verbose=0)"
      ],
      "metadata": {
        "colab": {
          "base_uri": "https://localhost:8080/"
        },
        "id": "Bm7GqWOpN77n",
        "outputId": "43ac8908-0822-4664-895c-49f1e5c6f590"
      },
      "execution_count": 46,
      "outputs": [
        {
          "output_type": "execute_result",
          "data": {
            "text/plain": [
              "<keras.src.callbacks.History at 0x78dd07dd0580>"
            ]
          },
          "metadata": {},
          "execution_count": 46
        }
      ]
    },
    {
      "cell_type": "code",
      "source": [
        "model_1.predict(tf.reshape(x_test, shape=(-1,1)))"
      ],
      "metadata": {
        "colab": {
          "base_uri": "https://localhost:8080/"
        },
        "id": "vvrhWzRwTr-8",
        "outputId": "ce2e85bc-f305-4c3e-ac1c-4f5f34e3e64c"
      },
      "execution_count": 47,
      "outputs": [
        {
          "output_type": "stream",
          "name": "stdout",
          "text": [
            "1/1 [==============================] - 0s 30ms/step\n"
          ]
        },
        {
          "output_type": "execute_result",
          "data": {
            "text/plain": [
              "array([[ 74.60396 ],\n",
              "       [ 79.49247 ],\n",
              "       [ 84.38098 ],\n",
              "       [ 89.26949 ],\n",
              "       [ 94.15801 ],\n",
              "       [ 99.046524],\n",
              "       [103.935036],\n",
              "       [108.823555],\n",
              "       [113.71207 ],\n",
              "       [118.60058 ]], dtype=float32)"
            ]
          },
          "metadata": {},
          "execution_count": 47
        }
      ]
    },
    {
      "cell_type": "code",
      "source": [
        "# Make a plot predictions for model_1\n",
        "\n",
        "# x_test = tf.reshape(x_test, shape=(-1,1))\n",
        "\n",
        "y_preds_1 = model_1.predict(tf.reshape(x_test, shape=(-1,1)))\n",
        "plot_predictions(predictions=y_preds_1)"
      ],
      "metadata": {
        "colab": {
          "base_uri": "https://localhost:8080/",
          "height": 616
        },
        "id": "-VTt2FvCQK0C",
        "outputId": "884ae8e6-ba62-4f53-dfcc-797e344f9b8a"
      },
      "execution_count": 48,
      "outputs": [
        {
          "output_type": "stream",
          "name": "stdout",
          "text": [
            "1/1 [==============================] - 0s 28ms/step\n"
          ]
        },
        {
          "output_type": "display_data",
          "data": {
            "text/plain": [
              "<Figure size 1000x700 with 1 Axes>"
            ],
            "image/png": "[encoded data removed]"
          },
          "metadata": {}
        }
      ]
    },
    {
      "cell_type": "code",
      "source": [
        "# Calculate model_1 evaluation metrics\n",
        "\n",
        "mae_1 = mae(y_test, y_preds_1)\n",
        "mse_1 = mse(y_test, y_preds_1)\n",
        "\n",
        "mae_1, mse_1"
      ],
      "metadata": {
        "colab": {
          "base_uri": "https://localhost:8080/"
        },
        "id": "3u6Og5EaqZEp",
        "outputId": "77efa05b-5993-4132-e2a8-511792889ba4"
      },
      "execution_count": 49,
      "outputs": [
        {
          "output_type": "execute_result",
          "data": {
            "text/plain": [
              "(<tf.Tensor: shape=(), dtype=float32, numpy=8.602267>,\n",
              " <tf.Tensor: shape=(), dtype=float32, numpy=80.512024>)"
            ]
          },
          "metadata": {},
          "execution_count": 49
        }
      ]
    },
    {
      "cell_type": "markdown",
      "source": [
        "**Build model_2**\n",
        "\n",
        "* 2 dense layers, trained for 100 epochs"
      ],
      "metadata": {
        "id": "3IG91oWhsu7n"
      }
    },
    {
      "cell_type": "code",
      "source": [
        "# Build model_2\n",
        "\n",
        "# Set the random seed\n",
        "tf.random.set_seed(42)\n",
        "\n",
        "# 1. Create model\n",
        "model_2 = tf.keras.Sequential([\n",
        "    tf.keras.layers.Dense(70, name=\"input_layer\"),\n",
        "    tf.keras.layers.Dense(1, name=\"Output_layer\")\n",
        "])\n",
        "\n",
        "# 2. Compile the model\n",
        "\n",
        "model_2.compile(loss = mae,\n",
        "              optimizer = tf.keras.optimizers.SGD(),\n",
        "              metrics = [\"mae\"])"
      ],
      "metadata": {
        "id": "F9HBFkiUvO0E"
      },
      "execution_count": 50,
      "outputs": []
    },
    {
      "cell_type": "code",
      "source": [
        "# 3. Make Train the model\n",
        "model_2.fit(tf.expand_dims(x_train, axis=-1), y_train, epochs=54)"
      ],
      "metadata": {
        "colab": {
          "base_uri": "https://localhost:8080/"
        },
        "id": "xCwKGotyzj8h",
        "outputId": "2f4a45de-282f-46be-cd71-b4f4c8409127"
      },
      "execution_count": 51,
      "outputs": [
        {
          "output_type": "stream",
          "name": "stdout",
          "text": [
            "Epoch 1/54\n",
            "2/2 [==============================] - 1s 22ms/step - loss: 42.2896 - mae: 47.6041\n",
            "Epoch 2/54\n",
            "2/2 [==============================] - 0s 9ms/step - loss: 40.7032 - mae: 42.9196\n",
            "Epoch 3/54\n",
            "2/2 [==============================] - 0s 10ms/step - loss: 54.9810 - mae: 20.2136\n",
            "Epoch 4/54\n",
            "2/2 [==============================] - 0s 10ms/step - loss: 40.6842 - mae: 36.4482\n",
            "Epoch 5/54\n",
            "2/2 [==============================] - 0s 11ms/step - loss: 40.6969 - mae: 38.3064\n",
            "Epoch 6/54\n",
            "2/2 [==============================] - 0s 9ms/step - loss: 40.9696 - mae: 31.8283\n",
            "Epoch 7/54\n",
            "2/2 [==============================] - 0s 9ms/step - loss: 40.7399 - mae: 38.6613\n",
            "Epoch 8/54\n",
            "2/2 [==============================] - 0s 10ms/step - loss: 40.9259 - mae: 32.3616\n",
            "Epoch 9/54\n",
            "2/2 [==============================] - 0s 11ms/step - loss: 46.7092 - mae: 15.3353\n",
            "Epoch 10/54\n",
            "2/2 [==============================] - 0s 15ms/step - loss: 40.6681 - mae: 36.8667\n",
            "Epoch 11/54\n",
            "2/2 [==============================] - 0s 11ms/step - loss: 40.9415 - mae: 38.9907\n",
            "Epoch 12/54\n",
            "2/2 [==============================] - 0s 12ms/step - loss: 52.2574 - mae: 15.9265\n",
            "Epoch 13/54\n",
            "2/2 [==============================] - 0s 11ms/step - loss: 40.7326 - mae: 36.1910\n",
            "Epoch 14/54\n",
            "2/2 [==============================] - 0s 10ms/step - loss: 41.1095 - mae: 30.3069\n",
            "Epoch 15/54\n",
            "2/2 [==============================] - 0s 10ms/step - loss: 40.8760 - mae: 38.6849\n",
            "Epoch 16/54\n",
            "2/2 [==============================] - 0s 11ms/step - loss: 40.8683 - mae: 41.0874\n",
            "Epoch 17/54\n",
            "2/2 [==============================] - 0s 9ms/step - loss: 40.3262 - mae: 34.1554\n",
            "Epoch 18/54\n",
            "2/2 [==============================] - 0s 10ms/step - loss: 40.8541 - mae: 33.4667\n",
            "Epoch 19/54\n",
            "2/2 [==============================] - 0s 11ms/step - loss: 43.2660 - mae: 18.2892\n",
            "Epoch 20/54\n",
            "2/2 [==============================] - 0s 9ms/step - loss: 41.1973 - mae: 30.3487\n",
            "Epoch 21/54\n",
            "2/2 [==============================] - 0s 9ms/step - loss: 40.7411 - mae: 35.1356\n",
            "Epoch 22/54\n",
            "2/2 [==============================] - 0s 8ms/step - loss: 40.6440 - mae: 37.5061\n",
            "Epoch 23/54\n",
            "2/2 [==============================] - 0s 9ms/step - loss: 40.6483 - mae: 38.1864\n",
            "Epoch 24/54\n",
            "2/2 [==============================] - 0s 9ms/step - loss: 41.0019 - mae: 30.5054\n",
            "Epoch 25/54\n",
            "2/2 [==============================] - 0s 11ms/step - loss: 40.8745 - mae: 41.6443\n",
            "Epoch 26/54\n",
            "2/2 [==============================] - 0s 7ms/step - loss: 42.0478 - mae: 25.8209\n",
            "Epoch 27/54\n",
            "2/2 [==============================] - 0s 10ms/step - loss: 40.7337 - mae: 34.9205\n",
            "Epoch 28/54\n",
            "2/2 [==============================] - 0s 9ms/step - loss: 42.1787 - mae: 24.2697\n",
            "Epoch 29/54\n",
            "2/2 [==============================] - 0s 9ms/step - loss: 40.7116 - mae: 33.9289\n",
            "Epoch 30/54\n",
            "2/2 [==============================] - 0s 10ms/step - loss: 45.3303 - mae: 14.1559\n",
            "Epoch 31/54\n",
            "2/2 [==============================] - 0s 13ms/step - loss: 57.7507 - mae: 16.0812\n",
            "Epoch 32/54\n",
            "2/2 [==============================] - 0s 13ms/step - loss: 41.2275 - mae: 26.7359\n",
            "Epoch 33/54\n",
            "2/2 [==============================] - 0s 10ms/step - loss: 41.1746 - mae: 30.1964\n",
            "Epoch 34/54\n",
            "2/2 [==============================] - 0s 11ms/step - loss: 40.8202 - mae: 32.5674\n",
            "Epoch 35/54\n",
            "2/2 [==============================] - 0s 16ms/step - loss: 40.6292 - mae: 35.1910\n",
            "Epoch 36/54\n",
            "2/2 [==============================] - 0s 9ms/step - loss: 41.6490 - mae: 23.9264\n",
            "Epoch 37/54\n",
            "2/2 [==============================] - 0s 11ms/step - loss: 40.8523 - mae: 32.4729\n",
            "Epoch 38/54\n",
            "2/2 [==============================] - 0s 10ms/step - loss: 40.6551 - mae: 34.5847\n",
            "Epoch 39/54\n",
            "2/2 [==============================] - 0s 10ms/step - loss: 40.7248 - mae: 34.1421\n",
            "Epoch 40/54\n",
            "2/2 [==============================] - 0s 10ms/step - loss: 40.8664 - mae: 32.8227\n",
            "Epoch 41/54\n",
            "2/2 [==============================] - 0s 10ms/step - loss: 40.3729 - mae: 33.7786\n",
            "Epoch 42/54\n",
            "2/2 [==============================] - 0s 10ms/step - loss: 40.7172 - mae: 34.7762\n",
            "Epoch 43/54\n",
            "2/2 [==============================] - 0s 9ms/step - loss: 40.5611 - mae: 36.8590\n",
            "Epoch 44/54\n",
            "2/2 [==============================] - 0s 9ms/step - loss: 41.0357 - mae: 29.9697\n",
            "Epoch 45/54\n",
            "2/2 [==============================] - 0s 12ms/step - loss: 41.0574 - mae: 30.8781\n",
            "Epoch 46/54\n",
            "2/2 [==============================] - 0s 10ms/step - loss: 40.6955 - mae: 33.4459\n",
            "Epoch 47/54\n",
            "2/2 [==============================] - 0s 8ms/step - loss: 40.7123 - mae: 34.7359\n",
            "Epoch 48/54\n",
            "2/2 [==============================] - 0s 12ms/step - loss: 40.6689 - mae: 37.3606\n",
            "Epoch 49/54\n",
            "2/2 [==============================] - 0s 10ms/step - loss: 40.6603 - mae: 37.1361\n",
            "Epoch 50/54\n",
            "2/2 [==============================] - 0s 9ms/step - loss: 40.5706 - mae: 35.1741\n",
            "Epoch 51/54\n",
            "2/2 [==============================] - 0s 10ms/step - loss: 40.6744 - mae: 37.3008\n",
            "Epoch 52/54\n",
            "2/2 [==============================] - 0s 11ms/step - loss: 40.5932 - mae: 35.2687\n",
            "Epoch 53/54\n",
            "2/2 [==============================] - 0s 12ms/step - loss: 40.4293 - mae: 27.8353\n",
            "Epoch 54/54\n",
            "2/2 [==============================] - 0s 9ms/step - loss: 43.6955 - mae: 17.8581\n"
          ]
        },
        {
          "output_type": "execute_result",
          "data": {
            "text/plain": [
              "<keras.src.callbacks.History at 0x78dd07c7f670>"
            ]
          },
          "metadata": {},
          "execution_count": 51
        }
      ]
    },
    {
      "cell_type": "code",
      "source": [
        "x_test"
      ],
      "metadata": {
        "colab": {
          "base_uri": "https://localhost:8080/"
        },
        "id": "F4p4SDzi3EAL",
        "outputId": "b5b0d483-8bbe-46bd-c8cf-aa228ee67da8"
      },
      "execution_count": 52,
      "outputs": [
        {
          "output_type": "execute_result",
          "data": {
            "text/plain": [
              "<tf.Tensor: shape=(10,), dtype=int32, numpy=array([60, 64, 68, 72, 76, 80, 84, 88, 92, 96], dtype=int32)>"
            ]
          },
          "metadata": {},
          "execution_count": 52
        }
      ]
    },
    {
      "cell_type": "code",
      "source": [
        "y_test"
      ],
      "metadata": {
        "colab": {
          "base_uri": "https://localhost:8080/"
        },
        "id": "pg4Syr7r3HES",
        "outputId": "cc1fa355-f3f1-47ec-9206-e6d7e52b7306"
      },
      "execution_count": 53,
      "outputs": [
        {
          "output_type": "execute_result",
          "data": {
            "text/plain": [
              "<tf.Tensor: shape=(10,), dtype=int32, numpy=array([ 70,  74,  78,  82,  86,  90,  94,  98, 102, 106], dtype=int32)>"
            ]
          },
          "metadata": {},
          "execution_count": 53
        }
      ]
    },
    {
      "cell_type": "code",
      "source": [
        "model_2.predict(x_test)"
      ],
      "metadata": {
        "colab": {
          "base_uri": "https://localhost:8080/"
        },
        "id": "bvtvcNO03KN2",
        "outputId": "b17178c4-9d1c-4a6e-8846-d81ae4de96ae"
      },
      "execution_count": 54,
      "outputs": [
        {
          "output_type": "stream",
          "name": "stderr",
          "text": [
            "WARNING:tensorflow:6 out of the last 6 calls to <function Model.make_predict_function.<locals>.predict_function at 0x78dd06bc2cb0> triggered tf.function retracing. Tracing is expensive and the excessive number of tracings could be due to (1) creating @tf.function repeatedly in a loop, (2) passing tensors with different shapes, (3) passing Python objects instead of tensors. For (1), please define your @tf.function outside of the loop. For (2), @tf.function has reduce_retracing=True option that can avoid unnecessary retracing. For (3), please refer to https://www.tensorflow.org/guide/function#controlling_retracing and https://www.tensorflow.org/api_docs/python/tf/function for  more details.\n"
          ]
        },
        {
          "output_type": "stream",
          "name": "stdout",
          "text": [
            "1/1 [==============================] - 0s 69ms/step\n"
          ]
        },
        {
          "output_type": "execute_result",
          "data": {
            "text/plain": [
              "array([[32.537827],\n",
              "       [34.721386],\n",
              "       [36.904953],\n",
              "       [39.088512],\n",
              "       [41.27208 ],\n",
              "       [43.455635],\n",
              "       [45.639206],\n",
              "       [47.82276 ],\n",
              "       [50.00633 ],\n",
              "       [52.189888]], dtype=float32)"
            ]
          },
          "metadata": {},
          "execution_count": 54
        }
      ]
    },
    {
      "cell_type": "code",
      "source": [
        "# Make and plot predictions of model_2\n",
        "\n",
        "y_preds_2 = model_2.predict(x_test)\n",
        "plot_predictions(predictions=y_preds_2)"
      ],
      "metadata": {
        "colab": {
          "base_uri": "https://localhost:8080/",
          "height": 616
        },
        "id": "qYq7itP01-ur",
        "outputId": "84a250ff-3154-4fe8-d9eb-fdc3baee1a76"
      },
      "execution_count": 55,
      "outputs": [
        {
          "output_type": "stream",
          "name": "stdout",
          "text": [
            "1/1 [==============================] - 0s 24ms/step\n"
          ]
        },
        {
          "output_type": "display_data",
          "data": {
            "text/plain": [
              "<Figure size 1000x700 with 1 Axes>"
            ],
            "image/png": "[encoded data removed]"
          },
          "metadata": {}
        }
      ]
    },
    {
      "cell_type": "code",
      "source": [
        "model_2.summary()"
      ],
      "metadata": {
        "colab": {
          "base_uri": "https://localhost:8080/"
        },
        "id": "nrRhl6kf1o_c",
        "outputId": "2e001a1b-fdfa-43e5-b9bc-c61eb0ea9766"
      },
      "execution_count": 56,
      "outputs": [
        {
          "output_type": "stream",
          "name": "stdout",
          "text": [
            "Model: \"sequential_6\"\n",
            "_________________________________________________________________\n",
            " Layer (type)                Output Shape              Param #   \n",
            "=================================================================\n",
            " input_layer (Dense)         (None, 70)                140       \n",
            "                                                                 \n",
            " Output_layer (Dense)        (None, 1)                 71        \n",
            "                                                                 \n",
            "=================================================================\n",
            "Total params: 211 (844.00 Byte)\n",
            "Trainable params: 211 (844.00 Byte)\n",
            "Non-trainable params: 0 (0.00 Byte)\n",
            "_________________________________________________________________\n"
          ]
        }
      ]
    },
    {
      "cell_type": "code",
      "source": [
        "# Calculate model_2 evaluation metrics\n",
        "\n",
        "mae_2 = mae(y_test, y_preds_2)\n",
        "mse_2 = mse(y_test, y_preds_2)\n",
        "\n",
        "mae_2, mse_2"
      ],
      "metadata": {
        "colab": {
          "base_uri": "https://localhost:8080/"
        },
        "id": "C54KgBhY6klJ",
        "outputId": "7a096dd8-5b21-40a2-d6b2-cecad11b8ce4"
      },
      "execution_count": 57,
      "outputs": [
        {
          "output_type": "execute_result",
          "data": {
            "text/plain": [
              "(<tf.Tensor: shape=(), dtype=float32, numpy=45.636147>,\n",
              " <tf.Tensor: shape=(), dtype=float32, numpy=2109.8782>)"
            ]
          },
          "metadata": {},
          "execution_count": 57
        }
      ]
    },
    {
      "cell_type": "markdown",
      "source": [
        "**Build model_3**\n",
        "\n",
        "* 2 layers, trained for 500 epochs"
      ],
      "metadata": {
        "id": "UgQW0Vw_Eigq"
      }
    },
    {
      "cell_type": "code",
      "source": [
        "# Build mdoel 3\n",
        "\n",
        "# set random seed\n",
        "tf.random.set_seed(42)\n",
        "\n",
        "# Build the model\n",
        "model_3 = tf.keras.Sequential([\n",
        "    tf.keras.layers.Dense(10),\n",
        "    tf.keras.layers.Dense(1)\n",
        "])\n",
        "\n",
        "# Compile the model\n",
        "model_3.compile(loss=mae,\n",
        "                optimizer = tf.keras.optimizers.SGD(),\n",
        "                metrics=[\"mae\"])"
      ],
      "metadata": {
        "id": "ZDmoG_8fEdZp"
      },
      "execution_count": 58,
      "outputs": []
    },
    {
      "cell_type": "code",
      "source": [
        "# 3. FIt the model\n",
        "model_3.fit(tf.expand_dims(x_train, axis=-1), y_train, epochs=500)\n"
      ],
      "metadata": {
        "colab": {
          "base_uri": "https://localhost:8080/"
        },
        "id": "Xw5ZEQwjFTQF",
        "outputId": "feb627a6-c1be-4dc6-c854-1772f3d1f9d8"
      },
      "execution_count": 59,
      "outputs": [
        {
          "output_type": "stream",
          "name": "stdout",
          "text": [
            "Epoch 1/500\n",
            "2/2 [==============================] - 1s 14ms/step - loss: 49.3465 - mae: 64.5714\n",
            "Epoch 2/500\n",
            "2/2 [==============================] - 0s 9ms/step - loss: 40.8478 - mae: 42.3235\n",
            "Epoch 3/500\n",
            "2/2 [==============================] - 0s 9ms/step - loss: 48.3055 - mae: 13.3907\n",
            "Epoch 4/500\n",
            "2/2 [==============================] - 0s 9ms/step - loss: 40.8856 - mae: 39.3788\n",
            "Epoch 5/500\n",
            "2/2 [==============================] - 0s 8ms/step - loss: 40.5943 - mae: 37.5921\n",
            "Epoch 6/500\n",
            "2/2 [==============================] - 0s 10ms/step - loss: 40.8669 - mae: 32.8146\n",
            "Epoch 7/500\n",
            "2/2 [==============================] - 0s 10ms/step - loss: 40.7511 - mae: 37.6201\n",
            "Epoch 8/500\n",
            "2/2 [==============================] - 0s 10ms/step - loss: 40.6496 - mae: 33.2825\n",
            "Epoch 9/500\n",
            "2/2 [==============================] - 0s 10ms/step - loss: 42.8843 - mae: 21.0584\n",
            "Epoch 10/500\n",
            "2/2 [==============================] - 0s 10ms/step - loss: 40.3225 - mae: 33.5973\n",
            "Epoch 11/500\n",
            "2/2 [==============================] - 0s 10ms/step - loss: 40.9307 - mae: 38.7435\n",
            "Epoch 12/500\n",
            "2/2 [==============================] - 0s 8ms/step - loss: 49.6317 - mae: 13.5327\n",
            "Epoch 13/500\n",
            "2/2 [==============================] - 0s 9ms/step - loss: 40.7904 - mae: 34.6129\n",
            "Epoch 14/500\n",
            "2/2 [==============================] - 0s 10ms/step - loss: 41.1205 - mae: 30.1980\n",
            "Epoch 15/500\n",
            "2/2 [==============================] - 0s 9ms/step - loss: 40.7979 - mae: 37.7846\n",
            "Epoch 16/500\n",
            "2/2 [==============================] - 0s 9ms/step - loss: 40.8135 - mae: 40.3061\n",
            "Epoch 17/500\n",
            "2/2 [==============================] - 0s 9ms/step - loss: 40.3254 - mae: 34.1091\n",
            "Epoch 18/500\n",
            "2/2 [==============================] - 0s 10ms/step - loss: 40.7907 - mae: 33.4922\n",
            "Epoch 19/500\n",
            "2/2 [==============================] - 0s 9ms/step - loss: 42.7856 - mae: 19.6040\n",
            "Epoch 20/500\n",
            "2/2 [==============================] - 0s 9ms/step - loss: 41.0268 - mae: 31.4316\n",
            "Epoch 21/500\n",
            "2/2 [==============================] - 0s 12ms/step - loss: 40.7510 - mae: 34.8171\n",
            "Epoch 22/500\n",
            "2/2 [==============================] - 0s 8ms/step - loss: 40.6180 - mae: 37.2308\n",
            "Epoch 23/500\n",
            "2/2 [==============================] - 0s 10ms/step - loss: 40.6426 - mae: 38.0521\n",
            "Epoch 24/500\n",
            "2/2 [==============================] - 0s 9ms/step - loss: 40.9709 - mae: 31.0062\n",
            "Epoch 25/500\n",
            "2/2 [==============================] - 0s 9ms/step - loss: 40.8109 - mae: 40.7205\n",
            "Epoch 26/500\n",
            "2/2 [==============================] - 0s 9ms/step - loss: 41.8053 - mae: 26.6214\n",
            "Epoch 27/500\n",
            "2/2 [==============================] - 0s 11ms/step - loss: 40.7192 - mae: 34.7829\n",
            "Epoch 28/500\n",
            "2/2 [==============================] - 0s 10ms/step - loss: 41.9427 - mae: 25.1087\n",
            "Epoch 29/500\n",
            "2/2 [==============================] - 0s 10ms/step - loss: 40.6381 - mae: 33.4452\n",
            "Epoch 30/500\n",
            "2/2 [==============================] - 0s 11ms/step - loss: 44.4254 - mae: 14.6209\n",
            "Epoch 31/500\n",
            "2/2 [==============================] - 0s 9ms/step - loss: 56.3529 - mae: 14.9396\n",
            "Epoch 32/500\n",
            "2/2 [==============================] - 0s 9ms/step - loss: 41.2459 - mae: 26.5704\n",
            "Epoch 33/500\n",
            "2/2 [==============================] - 0s 10ms/step - loss: 41.2138 - mae: 29.8651\n",
            "Epoch 34/500\n",
            "2/2 [==============================] - 0s 9ms/step - loss: 40.8434 - mae: 32.1963\n",
            "Epoch 35/500\n",
            "2/2 [==============================] - 0s 13ms/step - loss: 40.6067 - mae: 34.7702\n",
            "Epoch 36/500\n",
            "2/2 [==============================] - 0s 9ms/step - loss: 41.5487 - mae: 24.4376\n",
            "Epoch 37/500\n",
            "2/2 [==============================] - 0s 9ms/step - loss: 40.8696 - mae: 32.2374\n",
            "Epoch 38/500\n",
            "2/2 [==============================] - 0s 13ms/step - loss: 40.6635 - mae: 34.2415\n",
            "Epoch 39/500\n",
            "2/2 [==============================] - 0s 13ms/step - loss: 40.7322 - mae: 33.8696\n",
            "Epoch 40/500\n",
            "2/2 [==============================] - 0s 11ms/step - loss: 40.8741 - mae: 32.6906\n",
            "Epoch 41/500\n",
            "2/2 [==============================] - 0s 10ms/step - loss: 40.3694 - mae: 33.5817\n",
            "Epoch 42/500\n",
            "2/2 [==============================] - 0s 10ms/step - loss: 40.7236 - mae: 34.5255\n",
            "Epoch 43/500\n",
            "2/2 [==============================] - 0s 13ms/step - loss: 40.5472 - mae: 36.5874\n",
            "Epoch 44/500\n",
            "2/2 [==============================] - 0s 12ms/step - loss: 40.9902 - mae: 30.2922\n",
            "Epoch 45/500\n",
            "2/2 [==============================] - 0s 16ms/step - loss: 41.0325 - mae: 31.0679\n",
            "Epoch 46/500\n",
            "2/2 [==============================] - 0s 9ms/step - loss: 40.6966 - mae: 33.4092\n",
            "Epoch 47/500\n",
            "2/2 [==============================] - 0s 13ms/step - loss: 40.7120 - mae: 34.6230\n",
            "Epoch 48/500\n",
            "2/2 [==============================] - 0s 10ms/step - loss: 40.6644 - mae: 37.1320\n",
            "Epoch 49/500\n",
            "2/2 [==============================] - 0s 11ms/step - loss: 40.6575 - mae: 36.9319\n",
            "Epoch 50/500\n",
            "2/2 [==============================] - 0s 10ms/step - loss: 40.5692 - mae: 35.1551\n",
            "Epoch 51/500\n",
            "2/2 [==============================] - 0s 11ms/step - loss: 40.6691 - mae: 37.1182\n",
            "Epoch 52/500\n",
            "2/2 [==============================] - 0s 11ms/step - loss: 40.5728 - mae: 35.2475\n",
            "Epoch 53/500\n",
            "2/2 [==============================] - 0s 9ms/step - loss: 40.3494 - mae: 28.3450\n",
            "Epoch 54/500\n",
            "2/2 [==============================] - 0s 11ms/step - loss: 43.3163 - mae: 18.7285\n",
            "Epoch 55/500\n",
            "2/2 [==============================] - 0s 11ms/step - loss: 43.6369 - mae: 18.9625\n",
            "Epoch 56/500\n",
            "2/2 [==============================] - 0s 9ms/step - loss: 40.9334 - mae: 29.0436\n",
            "Epoch 57/500\n",
            "2/2 [==============================] - 0s 10ms/step - loss: 40.4277 - mae: 33.1059\n",
            "Epoch 58/500\n",
            "2/2 [==============================] - 0s 11ms/step - loss: 40.6573 - mae: 35.0666\n",
            "Epoch 59/500\n",
            "2/2 [==============================] - 0s 13ms/step - loss: 40.7697 - mae: 35.2516\n",
            "Epoch 60/500\n",
            "2/2 [==============================] - 0s 9ms/step - loss: 40.7101 - mae: 34.9626\n",
            "Epoch 61/500\n",
            "2/2 [==============================] - 0s 14ms/step - loss: 40.7052 - mae: 35.4053\n",
            "Epoch 62/500\n",
            "2/2 [==============================] - 0s 10ms/step - loss: 40.7280 - mae: 36.0043\n",
            "Epoch 63/500\n",
            "2/2 [==============================] - 0s 12ms/step - loss: 40.6365 - mae: 35.4128\n",
            "Epoch 64/500\n",
            "2/2 [==============================] - 0s 12ms/step - loss: 40.7672 - mae: 33.8121\n",
            "Epoch 65/500\n",
            "2/2 [==============================] - 0s 11ms/step - loss: 40.6831 - mae: 34.8874\n",
            "Epoch 66/500\n",
            "2/2 [==============================] - 0s 13ms/step - loss: 40.7985 - mae: 33.5523\n",
            "Epoch 67/500\n",
            "2/2 [==============================] - 0s 17ms/step - loss: 40.7264 - mae: 34.5104\n",
            "Epoch 68/500\n",
            "2/2 [==============================] - 0s 16ms/step - loss: 40.6660 - mae: 34.9649\n",
            "Epoch 69/500\n",
            "2/2 [==============================] - 0s 12ms/step - loss: 40.7261 - mae: 34.9717\n",
            "Epoch 70/500\n",
            "2/2 [==============================] - 0s 18ms/step - loss: 40.6335 - mae: 35.2571\n",
            "Epoch 71/500\n",
            "2/2 [==============================] - 0s 20ms/step - loss: 40.6602 - mae: 36.9980\n",
            "Epoch 72/500\n",
            "2/2 [==============================] - 0s 10ms/step - loss: 40.6989 - mae: 36.8058\n",
            "Epoch 73/500\n",
            "2/2 [==============================] - 0s 10ms/step - loss: 40.6891 - mae: 37.8160\n",
            "Epoch 74/500\n",
            "2/2 [==============================] - 0s 9ms/step - loss: 40.6977 - mae: 37.5281\n",
            "Epoch 75/500\n",
            "2/2 [==============================] - 0s 9ms/step - loss: 40.7170 - mae: 37.8542\n",
            "Epoch 76/500\n",
            "2/2 [==============================] - 0s 11ms/step - loss: 40.6564 - mae: 36.9926\n",
            "Epoch 77/500\n",
            "2/2 [==============================] - 0s 10ms/step - loss: 40.7155 - mae: 37.9482\n",
            "Epoch 78/500\n",
            "2/2 [==============================] - 0s 10ms/step - loss: 40.4393 - mae: 37.6495\n",
            "Epoch 79/500\n",
            "2/2 [==============================] - 0s 14ms/step - loss: 40.5102 - mae: 33.0805\n",
            "Epoch 80/500\n",
            "2/2 [==============================] - 0s 9ms/step - loss: 41.1505 - mae: 29.4000\n",
            "Epoch 81/500\n",
            "2/2 [==============================] - 0s 14ms/step - loss: 39.9458 - mae: 32.5780\n",
            "Epoch 82/500\n",
            "2/2 [==============================] - 0s 10ms/step - loss: 40.6457 - mae: 33.0853\n",
            "Epoch 83/500\n",
            "2/2 [==============================] - 0s 10ms/step - loss: 40.6602 - mae: 35.2741\n",
            "Epoch 84/500\n",
            "2/2 [==============================] - 0s 11ms/step - loss: 40.6870 - mae: 35.4911\n",
            "Epoch 85/500\n",
            "2/2 [==============================] - 0s 12ms/step - loss: 40.7114 - mae: 35.8913\n",
            "Epoch 86/500\n",
            "2/2 [==============================] - 0s 12ms/step - loss: 40.7223 - mae: 36.3510\n",
            "Epoch 87/500\n",
            "2/2 [==============================] - 0s 16ms/step - loss: 40.6883 - mae: 36.3645\n",
            "Epoch 88/500\n",
            "2/2 [==============================] - 0s 15ms/step - loss: 40.7099 - mae: 36.2979\n",
            "Epoch 89/500\n",
            "2/2 [==============================] - 0s 14ms/step - loss: 40.7077 - mae: 37.3095\n",
            "Epoch 90/500\n",
            "2/2 [==============================] - 0s 14ms/step - loss: 40.6924 - mae: 37.4644\n",
            "Epoch 91/500\n",
            "2/2 [==============================] - 0s 11ms/step - loss: 40.6706 - mae: 37.3334\n",
            "Epoch 92/500\n",
            "2/2 [==============================] - 0s 9ms/step - loss: 40.6904 - mae: 37.1766\n",
            "Epoch 93/500\n",
            "2/2 [==============================] - 0s 11ms/step - loss: 40.6417 - mae: 37.1322\n",
            "Epoch 94/500\n",
            "2/2 [==============================] - 0s 16ms/step - loss: 40.6923 - mae: 36.2000\n",
            "Epoch 95/500\n",
            "2/2 [==============================] - 0s 12ms/step - loss: 40.7447 - mae: 35.4840\n",
            "Epoch 96/500\n",
            "2/2 [==============================] - 0s 12ms/step - loss: 40.5841 - mae: 34.9937\n",
            "Epoch 97/500\n",
            "2/2 [==============================] - 0s 9ms/step - loss: 40.7044 - mae: 35.8230\n",
            "Epoch 98/500\n",
            "2/2 [==============================] - 0s 13ms/step - loss: 40.6636 - mae: 36.4497\n",
            "Epoch 99/500\n",
            "2/2 [==============================] - 0s 15ms/step - loss: 40.6686 - mae: 36.4783\n",
            "Epoch 100/500\n",
            "2/2 [==============================] - 0s 12ms/step - loss: 40.7148 - mae: 35.4097\n",
            "Epoch 101/500\n",
            "2/2 [==============================] - 0s 10ms/step - loss: 40.6917 - mae: 36.0205\n",
            "Epoch 102/500\n",
            "2/2 [==============================] - 0s 11ms/step - loss: 40.5057 - mae: 36.5929\n",
            "Epoch 103/500\n",
            "2/2 [==============================] - 0s 10ms/step - loss: 40.5906 - mae: 36.9668\n",
            "Epoch 104/500\n",
            "2/2 [==============================] - 0s 11ms/step - loss: 40.6990 - mae: 35.4410\n",
            "Epoch 105/500\n",
            "2/2 [==============================] - 0s 10ms/step - loss: 40.6511 - mae: 36.1810\n",
            "Epoch 106/500\n",
            "2/2 [==============================] - 0s 9ms/step - loss: 40.6397 - mae: 36.2967\n",
            "Epoch 107/500\n",
            "2/2 [==============================] - 0s 11ms/step - loss: 40.6884 - mae: 35.0030\n",
            "Epoch 108/500\n",
            "2/2 [==============================] - 0s 12ms/step - loss: 40.7241 - mae: 34.4188\n",
            "Epoch 109/500\n",
            "2/2 [==============================] - 0s 11ms/step - loss: 40.6429 - mae: 33.4845\n",
            "Epoch 110/500\n",
            "2/2 [==============================] - 0s 14ms/step - loss: 40.6922 - mae: 34.7608\n",
            "Epoch 111/500\n",
            "2/2 [==============================] - 0s 14ms/step - loss: 40.6208 - mae: 35.0523\n",
            "Epoch 112/500\n",
            "2/2 [==============================] - 0s 12ms/step - loss: 40.4459 - mae: 35.3187\n",
            "Epoch 113/500\n",
            "2/2 [==============================] - 0s 11ms/step - loss: 40.4851 - mae: 32.5150\n",
            "Epoch 114/500\n",
            "2/2 [==============================] - 0s 9ms/step - loss: 41.0269 - mae: 31.1646\n",
            "Epoch 115/500\n",
            "2/2 [==============================] - 0s 10ms/step - loss: 40.9123 - mae: 31.8296\n",
            "Epoch 116/500\n",
            "2/2 [==============================] - 0s 11ms/step - loss: 40.6526 - mae: 33.1055\n",
            "Epoch 117/500\n",
            "2/2 [==============================] - 0s 11ms/step - loss: 40.5781 - mae: 34.5329\n",
            "Epoch 118/500\n",
            "2/2 [==============================] - 0s 11ms/step - loss: 40.5582 - mae: 35.0759\n",
            "Epoch 119/500\n",
            "2/2 [==============================] - 0s 11ms/step - loss: 40.0606 - mae: 35.8935\n",
            "Epoch 120/500\n",
            "2/2 [==============================] - 0s 10ms/step - loss: 41.2926 - mae: 28.2065\n",
            "Epoch 121/500\n",
            "2/2 [==============================] - 0s 14ms/step - loss: 39.9513 - mae: 32.1613\n",
            "Epoch 122/500\n",
            "2/2 [==============================] - 0s 11ms/step - loss: 41.1987 - mae: 25.1676\n",
            "Epoch 123/500\n",
            "2/2 [==============================] - 0s 12ms/step - loss: 41.9326 - mae: 24.6923\n",
            "Epoch 124/500\n",
            "2/2 [==============================] - 0s 11ms/step - loss: 41.3406 - mae: 27.9751\n",
            "Epoch 125/500\n",
            "2/2 [==============================] - 0s 14ms/step - loss: 40.6409 - mae: 30.6553\n",
            "Epoch 126/500\n",
            "2/2 [==============================] - 0s 11ms/step - loss: 40.8344 - mae: 32.6696\n",
            "Epoch 127/500\n",
            "2/2 [==============================] - 0s 12ms/step - loss: 40.2786 - mae: 33.4624\n",
            "Epoch 128/500\n",
            "2/2 [==============================] - 0s 11ms/step - loss: 41.3136 - mae: 28.6000\n",
            "Epoch 129/500\n",
            "2/2 [==============================] - 0s 12ms/step - loss: 40.3968 - mae: 30.3574\n",
            "Epoch 130/500\n",
            "2/2 [==============================] - 0s 12ms/step - loss: 41.2421 - mae: 28.8948\n",
            "Epoch 131/500\n",
            "2/2 [==============================] - 0s 11ms/step - loss: 40.8180 - mae: 30.8273\n",
            "Epoch 132/500\n",
            "2/2 [==============================] - 0s 12ms/step - loss: 40.8537 - mae: 31.5164\n",
            "Epoch 133/500\n",
            "2/2 [==============================] - 0s 12ms/step - loss: 40.5262 - mae: 32.9129\n",
            "Epoch 134/500\n",
            "2/2 [==============================] - 0s 13ms/step - loss: 41.0480 - mae: 30.1418\n",
            "Epoch 135/500\n",
            "2/2 [==============================] - 0s 12ms/step - loss: 40.7476 - mae: 32.7167\n",
            "Epoch 136/500\n",
            "2/2 [==============================] - 0s 12ms/step - loss: 40.7202 - mae: 33.2803\n",
            "Epoch 137/500\n",
            "2/2 [==============================] - 0s 8ms/step - loss: 40.0173 - mae: 32.6080\n",
            "Epoch 138/500\n",
            "2/2 [==============================] - 0s 9ms/step - loss: 40.4341 - mae: 32.2003\n",
            "Epoch 139/500\n",
            "2/2 [==============================] - 0s 10ms/step - loss: 40.8328 - mae: 32.5550\n",
            "Epoch 140/500\n",
            "2/2 [==============================] - 0s 10ms/step - loss: 40.7376 - mae: 33.4283\n",
            "Epoch 141/500\n",
            "2/2 [==============================] - 0s 9ms/step - loss: 40.1658 - mae: 33.9220\n",
            "Epoch 142/500\n",
            "2/2 [==============================] - 0s 11ms/step - loss: 40.6866 - mae: 30.3769\n",
            "Epoch 143/500\n",
            "2/2 [==============================] - 0s 11ms/step - loss: 40.5161 - mae: 28.1302\n",
            "Epoch 144/500\n",
            "2/2 [==============================] - 0s 9ms/step - loss: 40.6101 - mae: 30.9615\n",
            "Epoch 145/500\n",
            "2/2 [==============================] - 0s 8ms/step - loss: 41.4503 - mae: 26.5598\n",
            "Epoch 146/500\n",
            "2/2 [==============================] - 0s 8ms/step - loss: 39.9566 - mae: 31.6564\n",
            "Epoch 147/500\n",
            "2/2 [==============================] - 0s 9ms/step - loss: 40.2756 - mae: 32.5098\n",
            "Epoch 148/500\n",
            "2/2 [==============================] - 0s 9ms/step - loss: 40.6201 - mae: 30.5868\n",
            "Epoch 149/500\n",
            "2/2 [==============================] - 0s 9ms/step - loss: 40.7237 - mae: 32.4159\n",
            "Epoch 150/500\n",
            "2/2 [==============================] - 0s 11ms/step - loss: 40.0000 - mae: 33.5434\n",
            "Epoch 151/500\n",
            "2/2 [==============================] - 0s 12ms/step - loss: 41.0247 - mae: 30.6745\n",
            "Epoch 152/500\n",
            "2/2 [==============================] - 0s 10ms/step - loss: 40.8152 - mae: 32.3454\n",
            "Epoch 153/500\n",
            "2/2 [==============================] - 0s 10ms/step - loss: 40.3775 - mae: 31.9483\n",
            "Epoch 154/500\n",
            "2/2 [==============================] - 0s 11ms/step - loss: 40.8278 - mae: 32.4392\n",
            "Epoch 155/500\n",
            "2/2 [==============================] - 0s 16ms/step - loss: 40.6877 - mae: 33.6039\n",
            "Epoch 156/500\n",
            "2/2 [==============================] - 0s 12ms/step - loss: 40.4351 - mae: 33.0565\n",
            "Epoch 157/500\n",
            "2/2 [==============================] - 0s 11ms/step - loss: 40.7119 - mae: 31.5026\n",
            "Epoch 158/500\n",
            "2/2 [==============================] - 0s 14ms/step - loss: 40.4230 - mae: 32.3386\n",
            "Epoch 159/500\n",
            "2/2 [==============================] - 0s 9ms/step - loss: 40.6237 - mae: 34.0958\n",
            "Epoch 160/500\n",
            "2/2 [==============================] - 0s 12ms/step - loss: 40.7296 - mae: 33.9041\n",
            "Epoch 161/500\n",
            "2/2 [==============================] - 0s 9ms/step - loss: 40.6826 - mae: 33.8599\n",
            "Epoch 162/500\n",
            "2/2 [==============================] - 0s 17ms/step - loss: 40.6216 - mae: 34.4301\n",
            "Epoch 163/500\n",
            "2/2 [==============================] - 0s 18ms/step - loss: 40.7263 - mae: 33.5385\n",
            "Epoch 164/500\n",
            "2/2 [==============================] - 0s 11ms/step - loss: 40.4766 - mae: 34.1735\n",
            "Epoch 165/500\n",
            "2/2 [==============================] - 0s 11ms/step - loss: 40.6453 - mae: 35.3770\n",
            "Epoch 166/500\n",
            "2/2 [==============================] - 0s 12ms/step - loss: 40.5840 - mae: 35.4926\n",
            "Epoch 167/500\n",
            "2/2 [==============================] - 0s 10ms/step - loss: 40.7174 - mae: 34.5701\n",
            "Epoch 168/500\n",
            "2/2 [==============================] - 0s 12ms/step - loss: 40.6884 - mae: 35.3067\n",
            "Epoch 169/500\n",
            "2/2 [==============================] - 0s 13ms/step - loss: 40.6658 - mae: 35.5945\n",
            "Epoch 170/500\n",
            "2/2 [==============================] - 0s 10ms/step - loss: 40.6568 - mae: 35.5703\n",
            "Epoch 171/500\n",
            "2/2 [==============================] - 0s 16ms/step - loss: 40.6369 - mae: 35.5181\n",
            "Epoch 172/500\n",
            "2/2 [==============================] - 0s 11ms/step - loss: 40.5028 - mae: 35.6591\n",
            "Epoch 173/500\n",
            "2/2 [==============================] - 0s 10ms/step - loss: 40.7009 - mae: 33.5939\n",
            "Epoch 174/500\n",
            "2/2 [==============================] - 0s 12ms/step - loss: 40.5919 - mae: 35.0220\n",
            "Epoch 175/500\n",
            "2/2 [==============================] - 0s 14ms/step - loss: 40.5446 - mae: 34.6210\n",
            "Epoch 176/500\n",
            "2/2 [==============================] - 0s 14ms/step - loss: 40.7961 - mae: 33.4728\n",
            "Epoch 177/500\n",
            "2/2 [==============================] - 0s 8ms/step - loss: 40.7592 - mae: 33.4108\n",
            "Epoch 178/500\n",
            "2/2 [==============================] - 0s 12ms/step - loss: 40.6143 - mae: 33.8588\n",
            "Epoch 179/500\n",
            "2/2 [==============================] - 0s 9ms/step - loss: 40.0423 - mae: 34.5523\n",
            "Epoch 180/500\n",
            "2/2 [==============================] - 0s 8ms/step - loss: 40.6723 - mae: 34.0003\n",
            "Epoch 181/500\n",
            "2/2 [==============================] - 0s 13ms/step - loss: 40.7264 - mae: 33.3703\n",
            "Epoch 182/500\n",
            "2/2 [==============================] - 0s 10ms/step - loss: 40.5137 - mae: 32.6767\n",
            "Epoch 183/500\n",
            "2/2 [==============================] - 0s 9ms/step - loss: 39.8276 - mae: 33.7384\n",
            "Epoch 184/500\n",
            "2/2 [==============================] - 0s 9ms/step - loss: 41.4174 - mae: 27.0992\n",
            "Epoch 185/500\n",
            "2/2 [==============================] - 0s 9ms/step - loss: 40.7839 - mae: 31.3961\n",
            "Epoch 186/500\n",
            "2/2 [==============================] - 0s 10ms/step - loss: 40.4754 - mae: 31.0216\n",
            "Epoch 187/500\n",
            "2/2 [==============================] - 0s 10ms/step - loss: 40.6837 - mae: 33.0729\n",
            "Epoch 188/500\n",
            "2/2 [==============================] - 0s 10ms/step - loss: 40.2956 - mae: 32.1159\n",
            "Epoch 189/500\n",
            "2/2 [==============================] - 0s 11ms/step - loss: 40.7932 - mae: 32.8518\n",
            "Epoch 190/500\n",
            "2/2 [==============================] - 0s 14ms/step - loss: 40.7018 - mae: 34.6712\n",
            "Epoch 191/500\n",
            "2/2 [==============================] - 0s 12ms/step - loss: 40.5949 - mae: 34.9029\n",
            "Epoch 192/500\n",
            "2/2 [==============================] - 0s 9ms/step - loss: 40.3072 - mae: 35.4520\n",
            "Epoch 193/500\n",
            "2/2 [==============================] - 0s 11ms/step - loss: 40.5658 - mae: 33.1026\n",
            "Epoch 194/500\n",
            "2/2 [==============================] - 0s 11ms/step - loss: 40.6472 - mae: 34.2757\n",
            "Epoch 195/500\n",
            "2/2 [==============================] - 0s 9ms/step - loss: 40.5973 - mae: 34.9842\n",
            "Epoch 196/500\n",
            "2/2 [==============================] - 0s 9ms/step - loss: 39.4236 - mae: 33.7138\n",
            "Epoch 197/500\n",
            "2/2 [==============================] - 0s 10ms/step - loss: 40.9317 - mae: 31.8099\n",
            "Epoch 198/500\n",
            "2/2 [==============================] - 0s 10ms/step - loss: 40.4850 - mae: 32.1188\n",
            "Epoch 199/500\n",
            "2/2 [==============================] - 0s 9ms/step - loss: 40.9598 - mae: 30.6676\n",
            "Epoch 200/500\n",
            "2/2 [==============================] - 0s 11ms/step - loss: 40.8827 - mae: 31.8239\n",
            "Epoch 201/500\n",
            "2/2 [==============================] - 0s 10ms/step - loss: 40.1632 - mae: 33.2870\n",
            "Epoch 202/500\n",
            "2/2 [==============================] - 0s 14ms/step - loss: 41.0960 - mae: 29.5271\n",
            "Epoch 203/500\n",
            "2/2 [==============================] - 0s 13ms/step - loss: 40.7578 - mae: 32.4402\n",
            "Epoch 204/500\n",
            "2/2 [==============================] - 0s 13ms/step - loss: 40.8024 - mae: 32.9250\n",
            "Epoch 205/500\n",
            "2/2 [==============================] - 0s 12ms/step - loss: 40.6261 - mae: 33.9057\n",
            "Epoch 206/500\n",
            "2/2 [==============================] - 0s 13ms/step - loss: 40.7020 - mae: 34.8050\n",
            "Epoch 207/500\n",
            "2/2 [==============================] - 0s 14ms/step - loss: 40.4800 - mae: 35.4183\n",
            "Epoch 208/500\n",
            "2/2 [==============================] - 0s 10ms/step - loss: 40.6682 - mae: 33.4688\n",
            "Epoch 209/500\n",
            "2/2 [==============================] - 0s 10ms/step - loss: 40.0544 - mae: 33.8767\n",
            "Epoch 210/500\n",
            "2/2 [==============================] - 0s 11ms/step - loss: 41.0578 - mae: 30.4622\n",
            "Epoch 211/500\n",
            "2/2 [==============================] - 0s 15ms/step - loss: 40.8586 - mae: 31.0460\n",
            "Epoch 212/500\n",
            "2/2 [==============================] - 0s 14ms/step - loss: 40.6500 - mae: 32.9677\n",
            "Epoch 213/500\n",
            "2/2 [==============================] - 0s 11ms/step - loss: 40.6819 - mae: 34.4540\n",
            "Epoch 214/500\n",
            "2/2 [==============================] - 0s 14ms/step - loss: 40.6618 - mae: 34.5234\n",
            "Epoch 215/500\n",
            "2/2 [==============================] - 0s 13ms/step - loss: 40.6794 - mae: 33.9136\n",
            "Epoch 216/500\n",
            "2/2 [==============================] - 0s 11ms/step - loss: 40.5567 - mae: 34.8712\n",
            "Epoch 217/500\n",
            "2/2 [==============================] - 0s 11ms/step - loss: 39.8833 - mae: 34.0330\n",
            "Epoch 218/500\n",
            "2/2 [==============================] - 0s 13ms/step - loss: 40.3914 - mae: 33.4538\n",
            "Epoch 219/500\n",
            "2/2 [==============================] - 0s 11ms/step - loss: 40.7173 - mae: 34.3752\n",
            "Epoch 220/500\n",
            "2/2 [==============================] - 0s 14ms/step - loss: 39.9586 - mae: 34.2362\n",
            "Epoch 221/500\n",
            "2/2 [==============================] - 0s 14ms/step - loss: 40.9881 - mae: 30.2589\n",
            "Epoch 222/500\n",
            "2/2 [==============================] - 0s 12ms/step - loss: 40.7681 - mae: 29.9884\n",
            "Epoch 223/500\n",
            "2/2 [==============================] - 0s 16ms/step - loss: 40.0486 - mae: 32.0182\n",
            "Epoch 224/500\n",
            "2/2 [==============================] - 0s 14ms/step - loss: 40.7426 - mae: 32.6039\n",
            "Epoch 225/500\n",
            "2/2 [==============================] - 0s 10ms/step - loss: 40.6616 - mae: 32.2541\n",
            "Epoch 226/500\n",
            "2/2 [==============================] - 0s 11ms/step - loss: 40.8496 - mae: 32.1532\n",
            "Epoch 227/500\n",
            "2/2 [==============================] - 0s 10ms/step - loss: 40.7642 - mae: 31.8142\n",
            "Epoch 228/500\n",
            "2/2 [==============================] - 0s 9ms/step - loss: 40.4176 - mae: 33.6514\n",
            "Epoch 229/500\n",
            "2/2 [==============================] - 0s 12ms/step - loss: 40.6856 - mae: 34.1167\n",
            "Epoch 230/500\n",
            "2/2 [==============================] - 0s 12ms/step - loss: 40.3972 - mae: 34.9563\n",
            "Epoch 231/500\n",
            "2/2 [==============================] - 0s 12ms/step - loss: 40.8032 - mae: 32.6731\n",
            "Epoch 232/500\n",
            "2/2 [==============================] - 0s 12ms/step - loss: 40.7357 - mae: 33.6166\n",
            "Epoch 233/500\n",
            "2/2 [==============================] - 0s 11ms/step - loss: 40.7193 - mae: 34.1577\n",
            "Epoch 234/500\n",
            "2/2 [==============================] - 0s 11ms/step - loss: 40.4233 - mae: 34.6716\n",
            "Epoch 235/500\n",
            "2/2 [==============================] - 0s 13ms/step - loss: 40.6620 - mae: 33.9559\n",
            "Epoch 236/500\n",
            "2/2 [==============================] - 0s 10ms/step - loss: 40.6236 - mae: 34.2171\n",
            "Epoch 237/500\n",
            "2/2 [==============================] - 0s 13ms/step - loss: 40.4026 - mae: 34.9051\n",
            "Epoch 238/500\n",
            "2/2 [==============================] - 0s 11ms/step - loss: 40.6685 - mae: 34.8647\n",
            "Epoch 239/500\n",
            "2/2 [==============================] - 0s 10ms/step - loss: 40.6610 - mae: 35.3542\n",
            "Epoch 240/500\n",
            "2/2 [==============================] - 0s 9ms/step - loss: 40.6176 - mae: 35.4455\n",
            "Epoch 241/500\n",
            "2/2 [==============================] - 0s 9ms/step - loss: 40.6430 - mae: 35.4903\n",
            "Epoch 242/500\n",
            "2/2 [==============================] - 0s 10ms/step - loss: 40.6126 - mae: 36.2116\n",
            "Epoch 243/500\n",
            "2/2 [==============================] - 0s 9ms/step - loss: 40.4291 - mae: 35.9310\n",
            "Epoch 244/500\n",
            "2/2 [==============================] - 0s 10ms/step - loss: 40.6509 - mae: 36.1842\n",
            "Epoch 245/500\n",
            "2/2 [==============================] - 0s 11ms/step - loss: 40.6365 - mae: 35.6723\n",
            "Epoch 246/500\n",
            "2/2 [==============================] - 0s 10ms/step - loss: 40.5949 - mae: 36.3424\n",
            "Epoch 247/500\n",
            "2/2 [==============================] - 0s 11ms/step - loss: 40.6419 - mae: 35.1680\n",
            "Epoch 248/500\n",
            "2/2 [==============================] - 0s 12ms/step - loss: 40.6623 - mae: 35.3478\n",
            "Epoch 249/500\n",
            "2/2 [==============================] - 0s 8ms/step - loss: 40.5498 - mae: 35.4830\n",
            "Epoch 250/500\n",
            "2/2 [==============================] - 0s 9ms/step - loss: 40.6094 - mae: 33.9649\n",
            "Epoch 251/500\n",
            "2/2 [==============================] - 0s 10ms/step - loss: 40.2270 - mae: 34.3657\n",
            "Epoch 252/500\n",
            "2/2 [==============================] - 0s 10ms/step - loss: 40.9452 - mae: 31.1887\n",
            "Epoch 253/500\n",
            "2/2 [==============================] - 0s 11ms/step - loss: 40.8170 - mae: 31.1627\n",
            "Epoch 254/500\n",
            "2/2 [==============================] - 0s 12ms/step - loss: 40.5334 - mae: 33.1810\n",
            "Epoch 255/500\n",
            "2/2 [==============================] - 0s 11ms/step - loss: 40.9165 - mae: 31.0571\n",
            "Epoch 256/500\n",
            "2/2 [==============================] - 0s 10ms/step - loss: 40.5059 - mae: 32.0084\n",
            "Epoch 257/500\n",
            "2/2 [==============================] - 0s 11ms/step - loss: 40.7365 - mae: 32.6073\n",
            "Epoch 258/500\n",
            "2/2 [==============================] - 0s 15ms/step - loss: 40.6392 - mae: 33.8005\n",
            "Epoch 259/500\n",
            "2/2 [==============================] - 0s 11ms/step - loss: 40.4058 - mae: 33.5804\n",
            "Epoch 260/500\n",
            "2/2 [==============================] - 0s 13ms/step - loss: 40.8565 - mae: 31.1662\n",
            "Epoch 261/500\n",
            "2/2 [==============================] - 0s 13ms/step - loss: 40.1149 - mae: 30.4378\n",
            "Epoch 262/500\n",
            "2/2 [==============================] - 0s 9ms/step - loss: 40.1662 - mae: 30.8573\n",
            "Epoch 263/500\n",
            "2/2 [==============================] - 0s 11ms/step - loss: 40.8868 - mae: 31.6076\n",
            "Epoch 264/500\n",
            "2/2 [==============================] - 0s 11ms/step - loss: 39.9885 - mae: 32.2837\n",
            "Epoch 265/500\n",
            "2/2 [==============================] - 0s 11ms/step - loss: 40.4205 - mae: 32.5207\n",
            "Epoch 266/500\n",
            "2/2 [==============================] - 0s 12ms/step - loss: 40.6212 - mae: 33.4563\n",
            "Epoch 267/500\n",
            "2/2 [==============================] - 0s 11ms/step - loss: 40.6451 - mae: 35.1091\n",
            "Epoch 268/500\n",
            "2/2 [==============================] - 0s 15ms/step - loss: 40.4165 - mae: 34.7179\n",
            "Epoch 269/500\n",
            "2/2 [==============================] - 0s 10ms/step - loss: 40.7925 - mae: 32.4918\n",
            "Epoch 270/500\n",
            "2/2 [==============================] - 0s 11ms/step - loss: 40.0012 - mae: 33.3293\n",
            "Epoch 271/500\n",
            "2/2 [==============================] - 0s 10ms/step - loss: 40.4193 - mae: 33.7339\n",
            "Epoch 272/500\n",
            "2/2 [==============================] - 0s 10ms/step - loss: 40.7298 - mae: 32.7401\n",
            "Epoch 273/500\n",
            "2/2 [==============================] - 0s 9ms/step - loss: 40.5813 - mae: 34.4298\n",
            "Epoch 274/500\n",
            "2/2 [==============================] - 0s 9ms/step - loss: 39.8992 - mae: 35.0220\n",
            "Epoch 275/500\n",
            "2/2 [==============================] - 0s 10ms/step - loss: 41.1299 - mae: 29.6585\n",
            "Epoch 276/500\n",
            "2/2 [==============================] - 0s 11ms/step - loss: 40.9460 - mae: 30.9947\n",
            "Epoch 277/500\n",
            "2/2 [==============================] - 0s 9ms/step - loss: 40.2282 - mae: 32.6372\n",
            "Epoch 278/500\n",
            "2/2 [==============================] - 0s 10ms/step - loss: 40.7941 - mae: 33.0413\n",
            "Epoch 279/500\n",
            "2/2 [==============================] - 0s 9ms/step - loss: 40.6667 - mae: 32.8730\n",
            "Epoch 280/500\n",
            "2/2 [==============================] - 0s 14ms/step - loss: 40.8544 - mae: 32.0611\n",
            "Epoch 281/500\n",
            "2/2 [==============================] - 0s 11ms/step - loss: 40.7098 - mae: 33.1126\n",
            "Epoch 282/500\n",
            "2/2 [==============================] - 0s 10ms/step - loss: 40.6963 - mae: 33.3496\n",
            "Epoch 283/500\n",
            "2/2 [==============================] - 0s 10ms/step - loss: 40.5535 - mae: 34.7770\n",
            "Epoch 284/500\n",
            "2/2 [==============================] - 0s 9ms/step - loss: 40.6055 - mae: 34.3093\n",
            "Epoch 285/500\n",
            "2/2 [==============================] - 0s 12ms/step - loss: 40.5244 - mae: 34.2698\n",
            "Epoch 286/500\n",
            "2/2 [==============================] - 0s 9ms/step - loss: 40.4886 - mae: 33.0669\n",
            "Epoch 287/500\n",
            "2/2 [==============================] - 0s 10ms/step - loss: 40.8957 - mae: 31.4524\n",
            "Epoch 288/500\n",
            "2/2 [==============================] - 0s 11ms/step - loss: 40.6865 - mae: 32.6625\n",
            "Epoch 289/500\n",
            "2/2 [==============================] - 0s 10ms/step - loss: 40.7025 - mae: 33.9652\n",
            "Epoch 290/500\n",
            "2/2 [==============================] - 0s 10ms/step - loss: 40.6520 - mae: 34.8015\n",
            "Epoch 291/500\n",
            "2/2 [==============================] - 0s 10ms/step - loss: 40.5849 - mae: 34.9096\n",
            "Epoch 292/500\n",
            "2/2 [==============================] - 0s 9ms/step - loss: 40.3989 - mae: 35.9596\n",
            "Epoch 293/500\n",
            "2/2 [==============================] - 0s 10ms/step - loss: 40.4566 - mae: 33.6904\n",
            "Epoch 294/500\n",
            "2/2 [==============================] - 0s 11ms/step - loss: 40.8129 - mae: 32.6059\n",
            "Epoch 295/500\n",
            "2/2 [==============================] - 0s 15ms/step - loss: 40.7245 - mae: 33.5316\n",
            "Epoch 296/500\n",
            "2/2 [==============================] - 0s 10ms/step - loss: 40.5304 - mae: 33.5422\n",
            "Epoch 297/500\n",
            "2/2 [==============================] - 0s 12ms/step - loss: 40.6520 - mae: 34.2285\n",
            "Epoch 298/500\n",
            "2/2 [==============================] - 0s 15ms/step - loss: 40.6772 - mae: 33.7391\n",
            "Epoch 299/500\n",
            "2/2 [==============================] - 0s 12ms/step - loss: 40.4069 - mae: 34.3425\n",
            "Epoch 300/500\n",
            "2/2 [==============================] - 0s 12ms/step - loss: 40.4879 - mae: 32.2899\n",
            "Epoch 301/500\n",
            "2/2 [==============================] - 0s 12ms/step - loss: 40.5440 - mae: 29.7382\n",
            "Epoch 302/500\n",
            "2/2 [==============================] - 0s 15ms/step - loss: 40.8464 - mae: 31.5791\n",
            "Epoch 303/500\n",
            "2/2 [==============================] - 0s 11ms/step - loss: 40.9682 - mae: 30.8836\n",
            "Epoch 304/500\n",
            "2/2 [==============================] - 0s 13ms/step - loss: 39.9300 - mae: 31.4737\n",
            "Epoch 305/500\n",
            "2/2 [==============================] - 0s 12ms/step - loss: 40.8829 - mae: 31.2861\n",
            "Epoch 306/500\n",
            "2/2 [==============================] - 0s 13ms/step - loss: 40.7477 - mae: 32.2085\n",
            "Epoch 307/500\n",
            "2/2 [==============================] - 0s 14ms/step - loss: 40.6557 - mae: 33.6040\n",
            "Epoch 308/500\n",
            "2/2 [==============================] - 0s 11ms/step - loss: 40.7000 - mae: 33.9568\n",
            "Epoch 309/500\n",
            "2/2 [==============================] - 0s 9ms/step - loss: 40.6733 - mae: 34.6077\n",
            "Epoch 310/500\n",
            "2/2 [==============================] - 0s 12ms/step - loss: 40.5854 - mae: 35.0421\n",
            "Epoch 311/500\n",
            "2/2 [==============================] - 0s 13ms/step - loss: 40.1154 - mae: 35.7419\n",
            "Epoch 312/500\n",
            "2/2 [==============================] - 0s 9ms/step - loss: 40.8051 - mae: 31.7656\n",
            "Epoch 313/500\n",
            "2/2 [==============================] - 0s 11ms/step - loss: 39.7227 - mae: 31.1526\n",
            "Epoch 314/500\n",
            "2/2 [==============================] - 0s 11ms/step - loss: 40.8501 - mae: 31.4992\n",
            "Epoch 315/500\n",
            "2/2 [==============================] - 0s 8ms/step - loss: 40.7703 - mae: 32.4867\n",
            "Epoch 316/500\n",
            "2/2 [==============================] - 0s 10ms/step - loss: 40.0642 - mae: 34.2113\n",
            "Epoch 317/500\n",
            "2/2 [==============================] - 0s 12ms/step - loss: 40.8780 - mae: 29.9447\n",
            "Epoch 318/500\n",
            "2/2 [==============================] - 0s 12ms/step - loss: 40.9433 - mae: 31.8090\n",
            "Epoch 319/500\n",
            "2/2 [==============================] - 0s 10ms/step - loss: 40.8681 - mae: 31.8896\n",
            "Epoch 320/500\n",
            "2/2 [==============================] - 0s 11ms/step - loss: 40.7112 - mae: 33.5906\n",
            "Epoch 321/500\n",
            "2/2 [==============================] - 0s 11ms/step - loss: 40.2126 - mae: 34.8535\n",
            "Epoch 322/500\n",
            "2/2 [==============================] - 0s 10ms/step - loss: 40.6593 - mae: 34.9354\n",
            "Epoch 323/500\n",
            "2/2 [==============================] - 0s 12ms/step - loss: 40.6587 - mae: 35.2537\n",
            "Epoch 324/500\n",
            "2/2 [==============================] - 0s 9ms/step - loss: 40.5703 - mae: 35.4326\n",
            "Epoch 325/500\n",
            "2/2 [==============================] - 0s 9ms/step - loss: 40.6080 - mae: 34.9254\n",
            "Epoch 326/500\n",
            "2/2 [==============================] - 0s 8ms/step - loss: 40.6045 - mae: 35.0737\n",
            "Epoch 327/500\n",
            "2/2 [==============================] - 0s 10ms/step - loss: 40.3181 - mae: 35.1893\n",
            "Epoch 328/500\n",
            "2/2 [==============================] - 0s 9ms/step - loss: 40.5863 - mae: 35.4387\n",
            "Epoch 329/500\n",
            "2/2 [==============================] - 0s 10ms/step - loss: 40.5433 - mae: 35.8538\n",
            "Epoch 330/500\n",
            "2/2 [==============================] - 0s 10ms/step - loss: 40.5807 - mae: 36.1696\n",
            "Epoch 331/500\n",
            "2/2 [==============================] - 0s 13ms/step - loss: 40.3661 - mae: 35.5553\n",
            "Epoch 332/500\n",
            "2/2 [==============================] - 0s 11ms/step - loss: 40.6599 - mae: 33.9484\n",
            "Epoch 333/500\n",
            "2/2 [==============================] - 0s 10ms/step - loss: 40.6597 - mae: 34.2250\n",
            "Epoch 334/500\n",
            "2/2 [==============================] - 0s 11ms/step - loss: 40.4768 - mae: 34.5930\n",
            "Epoch 335/500\n",
            "2/2 [==============================] - 0s 12ms/step - loss: 40.0114 - mae: 35.1900\n",
            "Epoch 336/500\n",
            "2/2 [==============================] - 0s 12ms/step - loss: 40.8209 - mae: 31.8881\n",
            "Epoch 337/500\n",
            "2/2 [==============================] - 0s 10ms/step - loss: 40.3062 - mae: 33.0605\n",
            "Epoch 338/500\n",
            "2/2 [==============================] - 0s 18ms/step - loss: 40.4677 - mae: 33.0909\n",
            "Epoch 339/500\n",
            "2/2 [==============================] - 0s 13ms/step - loss: 40.4865 - mae: 33.5365\n",
            "Epoch 340/500\n",
            "2/2 [==============================] - 0s 14ms/step - loss: 40.7123 - mae: 33.9604\n",
            "Epoch 341/500\n",
            "2/2 [==============================] - 0s 9ms/step - loss: 40.4522 - mae: 34.6000\n",
            "Epoch 342/500\n",
            "2/2 [==============================] - 0s 10ms/step - loss: 40.1301 - mae: 35.3286\n",
            "Epoch 343/500\n",
            "2/2 [==============================] - 0s 11ms/step - loss: 40.1566 - mae: 34.8844\n",
            "Epoch 344/500\n",
            "2/2 [==============================] - 0s 10ms/step - loss: 39.5996 - mae: 35.2037\n",
            "Epoch 345/500\n",
            "2/2 [==============================] - 0s 10ms/step - loss: 41.3988 - mae: 27.5375\n",
            "Epoch 346/500\n",
            "2/2 [==============================] - 0s 10ms/step - loss: 40.9183 - mae: 30.3990\n",
            "Epoch 347/500\n",
            "2/2 [==============================] - 0s 16ms/step - loss: 40.9464 - mae: 30.6724\n",
            "Epoch 348/500\n",
            "2/2 [==============================] - 0s 13ms/step - loss: 40.6509 - mae: 32.9629\n",
            "Epoch 349/500\n",
            "2/2 [==============================] - 0s 11ms/step - loss: 40.6835 - mae: 34.3169\n",
            "Epoch 350/500\n",
            "2/2 [==============================] - 0s 14ms/step - loss: 39.7842 - mae: 34.5537\n",
            "Epoch 351/500\n",
            "2/2 [==============================] - 0s 11ms/step - loss: 40.8887 - mae: 29.6289\n",
            "Epoch 352/500\n",
            "2/2 [==============================] - 0s 11ms/step - loss: 40.9886 - mae: 30.5053\n",
            "Epoch 353/500\n",
            "2/2 [==============================] - 0s 9ms/step - loss: 40.7683 - mae: 32.2494\n",
            "Epoch 354/500\n",
            "2/2 [==============================] - 0s 10ms/step - loss: 40.6359 - mae: 33.5624\n",
            "Epoch 355/500\n",
            "2/2 [==============================] - 0s 10ms/step - loss: 40.5570 - mae: 34.4722\n",
            "Epoch 356/500\n",
            "2/2 [==============================] - 0s 11ms/step - loss: 40.3133 - mae: 35.1319\n",
            "Epoch 357/500\n",
            "2/2 [==============================] - 0s 11ms/step - loss: 40.2483 - mae: 32.4145\n",
            "Epoch 358/500\n",
            "2/2 [==============================] - 0s 11ms/step - loss: 40.9790 - mae: 30.7050\n",
            "Epoch 359/500\n",
            "2/2 [==============================] - 0s 11ms/step - loss: 40.4112 - mae: 32.2111\n",
            "Epoch 360/500\n",
            "2/2 [==============================] - 0s 9ms/step - loss: 40.7763 - mae: 30.8208\n",
            "Epoch 361/500\n",
            "2/2 [==============================] - 0s 9ms/step - loss: 40.6544 - mae: 33.0044\n",
            "Epoch 362/500\n",
            "2/2 [==============================] - 0s 12ms/step - loss: 40.6182 - mae: 33.0478\n",
            "Epoch 363/500\n",
            "2/2 [==============================] - 0s 12ms/step - loss: 40.3230 - mae: 32.3360\n",
            "Epoch 364/500\n",
            "2/2 [==============================] - 0s 12ms/step - loss: 40.9955 - mae: 29.0707\n",
            "Epoch 365/500\n",
            "2/2 [==============================] - 0s 11ms/step - loss: 40.4137 - mae: 31.6511\n",
            "Epoch 366/500\n",
            "2/2 [==============================] - 0s 10ms/step - loss: 40.0203 - mae: 33.3153\n",
            "Epoch 367/500\n",
            "2/2 [==============================] - 0s 10ms/step - loss: 41.0421 - mae: 29.7217\n",
            "Epoch 368/500\n",
            "2/2 [==============================] - 0s 11ms/step - loss: 40.7426 - mae: 30.9573\n",
            "Epoch 369/500\n",
            "2/2 [==============================] - 0s 10ms/step - loss: 40.7341 - mae: 33.3428\n",
            "Epoch 370/500\n",
            "2/2 [==============================] - 0s 9ms/step - loss: 40.6772 - mae: 33.8487\n",
            "Epoch 371/500\n",
            "2/2 [==============================] - 0s 9ms/step - loss: 40.5042 - mae: 34.1101\n",
            "Epoch 372/500\n",
            "2/2 [==============================] - 0s 11ms/step - loss: 40.5485 - mae: 35.0657\n",
            "Epoch 373/500\n",
            "2/2 [==============================] - 0s 10ms/step - loss: 40.6673 - mae: 34.3634\n",
            "Epoch 374/500\n",
            "2/2 [==============================] - 0s 11ms/step - loss: 40.5667 - mae: 34.6882\n",
            "Epoch 375/500\n",
            "2/2 [==============================] - 0s 9ms/step - loss: 40.5101 - mae: 35.3811\n",
            "Epoch 376/500\n",
            "2/2 [==============================] - 0s 10ms/step - loss: 40.2278 - mae: 35.7935\n",
            "Epoch 377/500\n",
            "2/2 [==============================] - 0s 9ms/step - loss: 40.4525 - mae: 35.7987\n",
            "Epoch 378/500\n",
            "2/2 [==============================] - 0s 10ms/step - loss: 40.5315 - mae: 35.3962\n",
            "Epoch 379/500\n",
            "2/2 [==============================] - 0s 10ms/step - loss: 40.5312 - mae: 34.8479\n",
            "Epoch 380/500\n",
            "2/2 [==============================] - 0s 9ms/step - loss: 40.6879 - mae: 33.8168\n",
            "Epoch 381/500\n",
            "2/2 [==============================] - 0s 10ms/step - loss: 40.5951 - mae: 35.4640\n",
            "Epoch 382/500\n",
            "2/2 [==============================] - 0s 13ms/step - loss: 40.5376 - mae: 35.5903\n",
            "Epoch 383/500\n",
            "2/2 [==============================] - 0s 11ms/step - loss: 40.4309 - mae: 35.1297\n",
            "Epoch 384/500\n",
            "2/2 [==============================] - 0s 9ms/step - loss: 40.1046 - mae: 35.1556\n",
            "Epoch 385/500\n",
            "2/2 [==============================] - 0s 10ms/step - loss: 40.6369 - mae: 34.9355\n",
            "Epoch 386/500\n",
            "2/2 [==============================] - 0s 9ms/step - loss: 40.6177 - mae: 35.0656\n",
            "Epoch 387/500\n",
            "2/2 [==============================] - 0s 9ms/step - loss: 40.6012 - mae: 35.8653\n",
            "Epoch 388/500\n",
            "2/2 [==============================] - 0s 9ms/step - loss: 40.6563 - mae: 35.6206\n",
            "Epoch 389/500\n",
            "2/2 [==============================] - 0s 9ms/step - loss: 40.3105 - mae: 35.4941\n",
            "Epoch 390/500\n",
            "2/2 [==============================] - 0s 9ms/step - loss: 40.8023 - mae: 32.3749\n",
            "Epoch 391/500\n",
            "2/2 [==============================] - 0s 12ms/step - loss: 40.7542 - mae: 33.2646\n",
            "Epoch 392/500\n",
            "2/2 [==============================] - 0s 13ms/step - loss: 40.4613 - mae: 34.5921\n",
            "Epoch 393/500\n",
            "2/2 [==============================] - 0s 10ms/step - loss: 40.6392 - mae: 34.8776\n",
            "Epoch 394/500\n",
            "2/2 [==============================] - 0s 9ms/step - loss: 40.4756 - mae: 35.5896\n",
            "Epoch 395/500\n",
            "2/2 [==============================] - 0s 9ms/step - loss: 40.6682 - mae: 34.2389\n",
            "Epoch 396/500\n",
            "2/2 [==============================] - 0s 9ms/step - loss: 40.4317 - mae: 34.7875\n",
            "Epoch 397/500\n",
            "2/2 [==============================] - 0s 9ms/step - loss: 40.5834 - mae: 35.0227\n",
            "Epoch 398/500\n",
            "2/2 [==============================] - 0s 9ms/step - loss: 40.6480 - mae: 34.4761\n",
            "Epoch 399/500\n",
            "2/2 [==============================] - 0s 10ms/step - loss: 40.4926 - mae: 35.1305\n",
            "Epoch 400/500\n",
            "2/2 [==============================] - 0s 9ms/step - loss: 40.7299 - mae: 33.4820\n",
            "Epoch 401/500\n",
            "2/2 [==============================] - 0s 8ms/step - loss: 39.9378 - mae: 34.2169\n",
            "Epoch 402/500\n",
            "2/2 [==============================] - 0s 12ms/step - loss: 40.4522 - mae: 29.2976\n",
            "Epoch 403/500\n",
            "2/2 [==============================] - 0s 9ms/step - loss: 40.1589 - mae: 31.6553\n",
            "Epoch 404/500\n",
            "2/2 [==============================] - 0s 10ms/step - loss: 41.3363 - mae: 27.6748\n",
            "Epoch 405/500\n",
            "2/2 [==============================] - 0s 9ms/step - loss: 40.7619 - mae: 31.5804\n",
            "Epoch 406/500\n",
            "2/2 [==============================] - 0s 9ms/step - loss: 40.7628 - mae: 32.8015\n",
            "Epoch 407/500\n",
            "2/2 [==============================] - 0s 9ms/step - loss: 40.6587 - mae: 33.9377\n",
            "Epoch 408/500\n",
            "2/2 [==============================] - 0s 9ms/step - loss: 40.1239 - mae: 34.6411\n",
            "Epoch 409/500\n",
            "2/2 [==============================] - 0s 9ms/step - loss: 40.8363 - mae: 30.3248\n",
            "Epoch 410/500\n",
            "2/2 [==============================] - 0s 9ms/step - loss: 40.8768 - mae: 31.2980\n",
            "Epoch 411/500\n",
            "2/2 [==============================] - 0s 12ms/step - loss: 40.6662 - mae: 32.3640\n",
            "Epoch 412/500\n",
            "2/2 [==============================] - 0s 10ms/step - loss: 40.7671 - mae: 32.1856\n",
            "Epoch 413/500\n",
            "2/2 [==============================] - 0s 9ms/step - loss: 40.8362 - mae: 32.4680\n",
            "Epoch 414/500\n",
            "2/2 [==============================] - 0s 9ms/step - loss: 40.6962 - mae: 32.3811\n",
            "Epoch 415/500\n",
            "2/2 [==============================] - 0s 12ms/step - loss: 40.6347 - mae: 33.9487\n",
            "Epoch 416/500\n",
            "2/2 [==============================] - 0s 12ms/step - loss: 40.6383 - mae: 35.0655\n",
            "Epoch 417/500\n",
            "2/2 [==============================] - 0s 9ms/step - loss: 40.6158 - mae: 35.4829\n",
            "Epoch 418/500\n",
            "2/2 [==============================] - 0s 10ms/step - loss: 40.6215 - mae: 35.2466\n",
            "Epoch 419/500\n",
            "2/2 [==============================] - 0s 11ms/step - loss: 40.3701 - mae: 35.4810\n",
            "Epoch 420/500\n",
            "2/2 [==============================] - 0s 9ms/step - loss: 40.6367 - mae: 33.2913\n",
            "Epoch 421/500\n",
            "2/2 [==============================] - 0s 10ms/step - loss: 40.5776 - mae: 34.6245\n",
            "Epoch 422/500\n",
            "2/2 [==============================] - 0s 12ms/step - loss: 40.4851 - mae: 35.0634\n",
            "Epoch 423/500\n",
            "2/2 [==============================] - 0s 11ms/step - loss: 40.6699 - mae: 34.4750\n",
            "Epoch 424/500\n",
            "2/2 [==============================] - 0s 13ms/step - loss: 40.5256 - mae: 35.0931\n",
            "Epoch 425/500\n",
            "2/2 [==============================] - 0s 10ms/step - loss: 40.6547 - mae: 34.7374\n",
            "Epoch 426/500\n",
            "2/2 [==============================] - 0s 10ms/step - loss: 40.3866 - mae: 34.4025\n",
            "Epoch 427/500\n",
            "2/2 [==============================] - 0s 13ms/step - loss: 40.6581 - mae: 34.5591\n",
            "Epoch 428/500\n",
            "2/2 [==============================] - 0s 11ms/step - loss: 40.4453 - mae: 34.8940\n",
            "Epoch 429/500\n",
            "2/2 [==============================] - 0s 10ms/step - loss: 40.2398 - mae: 34.0635\n",
            "Epoch 430/500\n",
            "2/2 [==============================] - 0s 8ms/step - loss: 40.8211 - mae: 30.1977\n",
            "Epoch 431/500\n",
            "2/2 [==============================] - 0s 8ms/step - loss: 40.6389 - mae: 31.4727\n",
            "Epoch 432/500\n",
            "2/2 [==============================] - 0s 9ms/step - loss: 40.7387 - mae: 31.7825\n",
            "Epoch 433/500\n",
            "2/2 [==============================] - 0s 10ms/step - loss: 40.1690 - mae: 33.2188\n",
            "Epoch 434/500\n",
            "2/2 [==============================] - 0s 12ms/step - loss: 41.0434 - mae: 30.1948\n",
            "Epoch 435/500\n",
            "2/2 [==============================] - 0s 9ms/step - loss: 39.8141 - mae: 32.3869\n",
            "Epoch 436/500\n",
            "2/2 [==============================] - 0s 13ms/step - loss: 41.3969 - mae: 26.2574\n",
            "Epoch 437/500\n",
            "2/2 [==============================] - 0s 9ms/step - loss: 41.1416 - mae: 28.0490\n",
            "Epoch 438/500\n",
            "2/2 [==============================] - 0s 10ms/step - loss: 39.7026 - mae: 32.5444\n",
            "Epoch 439/500\n",
            "2/2 [==============================] - 0s 10ms/step - loss: 41.1285 - mae: 25.8729\n",
            "Epoch 440/500\n",
            "2/2 [==============================] - 0s 9ms/step - loss: 41.0670 - mae: 26.1870\n",
            "Epoch 441/500\n",
            "2/2 [==============================] - 0s 10ms/step - loss: 41.1541 - mae: 27.1292\n",
            "Epoch 442/500\n",
            "2/2 [==============================] - 0s 9ms/step - loss: 41.1386 - mae: 28.9774\n",
            "Epoch 443/500\n",
            "2/2 [==============================] - 0s 9ms/step - loss: 40.8961 - mae: 31.0287\n",
            "Epoch 444/500\n",
            "2/2 [==============================] - 0s 11ms/step - loss: 40.2334 - mae: 31.9476\n",
            "Epoch 445/500\n",
            "2/2 [==============================] - 0s 10ms/step - loss: 40.7275 - mae: 33.5508\n",
            "Epoch 446/500\n",
            "2/2 [==============================] - 0s 11ms/step - loss: 40.3395 - mae: 33.1990\n",
            "Epoch 447/500\n",
            "2/2 [==============================] - 0s 10ms/step - loss: 40.3115 - mae: 34.2160\n",
            "Epoch 448/500\n",
            "2/2 [==============================] - 0s 9ms/step - loss: 40.6534 - mae: 34.8447\n",
            "Epoch 449/500\n",
            "2/2 [==============================] - 0s 10ms/step - loss: 40.6143 - mae: 34.8655\n",
            "Epoch 450/500\n",
            "2/2 [==============================] - 0s 9ms/step - loss: 40.5993 - mae: 35.1830\n",
            "Epoch 451/500\n",
            "2/2 [==============================] - 0s 9ms/step - loss: 39.9816 - mae: 35.5506\n",
            "Epoch 452/500\n",
            "2/2 [==============================] - 0s 10ms/step - loss: 40.8145 - mae: 31.0747\n",
            "Epoch 453/500\n",
            "2/2 [==============================] - 0s 12ms/step - loss: 40.9093 - mae: 29.6050\n",
            "Epoch 454/500\n",
            "2/2 [==============================] - 0s 10ms/step - loss: 40.8903 - mae: 30.6412\n",
            "Epoch 455/500\n",
            "2/2 [==============================] - 0s 9ms/step - loss: 40.7127 - mae: 31.9376\n",
            "Epoch 456/500\n",
            "2/2 [==============================] - 0s 9ms/step - loss: 40.6428 - mae: 33.6954\n",
            "Epoch 457/500\n",
            "2/2 [==============================] - 0s 10ms/step - loss: 40.5792 - mae: 33.9342\n",
            "Epoch 458/500\n",
            "2/2 [==============================] - 0s 10ms/step - loss: 40.1846 - mae: 34.7425\n",
            "Epoch 459/500\n",
            "2/2 [==============================] - 0s 12ms/step - loss: 40.7574 - mae: 32.1669\n",
            "Epoch 460/500\n",
            "2/2 [==============================] - 0s 9ms/step - loss: 40.7500 - mae: 32.8669\n",
            "Epoch 461/500\n",
            "2/2 [==============================] - 0s 9ms/step - loss: 40.6503 - mae: 33.7253\n",
            "Epoch 462/500\n",
            "2/2 [==============================] - 0s 9ms/step - loss: 40.6549 - mae: 34.3027\n",
            "Epoch 463/500\n",
            "2/2 [==============================] - 0s 9ms/step - loss: 40.5914 - mae: 34.8069\n",
            "Epoch 464/500\n",
            "2/2 [==============================] - 0s 10ms/step - loss: 40.4273 - mae: 35.4097\n",
            "Epoch 465/500\n",
            "2/2 [==============================] - 0s 10ms/step - loss: 40.4094 - mae: 35.5041\n",
            "Epoch 466/500\n",
            "2/2 [==============================] - 0s 10ms/step - loss: 40.5689 - mae: 35.6304\n",
            "Epoch 467/500\n",
            "2/2 [==============================] - 0s 9ms/step - loss: 40.6479 - mae: 35.0974\n",
            "Epoch 468/500\n",
            "2/2 [==============================] - 0s 9ms/step - loss: 40.5382 - mae: 34.9352\n",
            "Epoch 469/500\n",
            "2/2 [==============================] - 0s 13ms/step - loss: 40.6376 - mae: 34.2064\n",
            "Epoch 470/500\n",
            "2/2 [==============================] - 0s 9ms/step - loss: 40.6320 - mae: 34.3945\n",
            "Epoch 471/500\n",
            "2/2 [==============================] - 0s 12ms/step - loss: 40.5353 - mae: 34.8203\n",
            "Epoch 472/500\n",
            "2/2 [==============================] - 0s 13ms/step - loss: 40.6015 - mae: 35.3546\n",
            "Epoch 473/500\n",
            "2/2 [==============================] - 0s 10ms/step - loss: 40.4679 - mae: 36.0248\n",
            "Epoch 474/500\n",
            "2/2 [==============================] - 0s 12ms/step - loss: 40.5682 - mae: 34.5682\n",
            "Epoch 475/500\n",
            "2/2 [==============================] - 0s 12ms/step - loss: 40.2339 - mae: 34.4599\n",
            "Epoch 476/500\n",
            "2/2 [==============================] - 0s 11ms/step - loss: 40.4582 - mae: 35.1047\n",
            "Epoch 477/500\n",
            "2/2 [==============================] - 0s 9ms/step - loss: 40.6642 - mae: 33.4524\n",
            "Epoch 478/500\n",
            "2/2 [==============================] - 0s 10ms/step - loss: 40.2768 - mae: 32.8282\n",
            "Epoch 479/500\n",
            "2/2 [==============================] - 0s 11ms/step - loss: 40.6677 - mae: 33.4758\n",
            "Epoch 480/500\n",
            "2/2 [==============================] - 0s 9ms/step - loss: 40.7008 - mae: 32.9734\n",
            "Epoch 481/500\n",
            "2/2 [==============================] - 0s 12ms/step - loss: 40.6083 - mae: 33.6569\n",
            "Epoch 482/500\n",
            "2/2 [==============================] - 0s 11ms/step - loss: 40.6362 - mae: 33.3427\n",
            "Epoch 483/500\n",
            "2/2 [==============================] - 0s 10ms/step - loss: 40.3561 - mae: 33.9127\n",
            "Epoch 484/500\n",
            "2/2 [==============================] - 0s 9ms/step - loss: 39.9431 - mae: 31.2792\n",
            "Epoch 485/500\n",
            "2/2 [==============================] - 0s 12ms/step - loss: 40.7024 - mae: 31.8188\n",
            "Epoch 486/500\n",
            "2/2 [==============================] - 0s 11ms/step - loss: 39.9145 - mae: 32.3313\n",
            "Epoch 487/500\n",
            "2/2 [==============================] - 0s 13ms/step - loss: 40.6159 - mae: 32.9063\n",
            "Epoch 488/500\n",
            "2/2 [==============================] - 0s 10ms/step - loss: 39.8375 - mae: 31.9861\n",
            "Epoch 489/500\n",
            "2/2 [==============================] - 0s 11ms/step - loss: 40.4874 - mae: 32.0593\n",
            "Epoch 490/500\n",
            "2/2 [==============================] - 0s 15ms/step - loss: 40.6550 - mae: 34.0355\n",
            "Epoch 491/500\n",
            "2/2 [==============================] - 0s 10ms/step - loss: 40.6445 - mae: 34.5859\n",
            "Epoch 492/500\n",
            "2/2 [==============================] - 0s 15ms/step - loss: 40.6224 - mae: 34.2609\n",
            "Epoch 493/500\n",
            "2/2 [==============================] - 0s 11ms/step - loss: 40.5242 - mae: 34.5308\n",
            "Epoch 494/500\n",
            "2/2 [==============================] - 0s 11ms/step - loss: 40.1766 - mae: 34.8918\n",
            "Epoch 495/500\n",
            "2/2 [==============================] - 0s 9ms/step - loss: 40.5466 - mae: 35.0687\n",
            "Epoch 496/500\n",
            "2/2 [==============================] - 0s 13ms/step - loss: 40.5747 - mae: 35.1323\n",
            "Epoch 497/500\n",
            "2/2 [==============================] - 0s 11ms/step - loss: 40.2581 - mae: 35.3630\n",
            "Epoch 498/500\n",
            "2/2 [==============================] - 0s 10ms/step - loss: 40.8574 - mae: 32.1911\n",
            "Epoch 499/500\n",
            "2/2 [==============================] - 0s 10ms/step - loss: 40.6096 - mae: 32.3109\n",
            "Epoch 500/500\n",
            "2/2 [==============================] - 0s 9ms/step - loss: 39.7457 - mae: 32.3329\n"
          ]
        },
        {
          "output_type": "execute_result",
          "data": {
            "text/plain": [
              "<keras.src.callbacks.History at 0x78dd14827640>"
            ]
          },
          "metadata": {},
          "execution_count": 59
        }
      ]
    },
    {
      "cell_type": "code",
      "source": [
        "# Make and plot some predictions\n",
        "\n",
        "y_preds_3 = model_3.predict(x_test)\n",
        "plot_predictions(predictions = y_preds_3)"
      ],
      "metadata": {
        "colab": {
          "base_uri": "https://localhost:8080/",
          "height": 616
        },
        "id": "uKfdkv17FlEB",
        "outputId": "5c9d1b52-c412-4a36-a6e3-628abf62b031"
      },
      "execution_count": 60,
      "outputs": [
        {
          "output_type": "stream",
          "name": "stdout",
          "text": [
            "1/1 [==============================] - 0s 64ms/step\n"
          ]
        },
        {
          "output_type": "display_data",
          "data": {
            "text/plain": [
              "<Figure size 1000x700 with 1 Axes>"
            ],
            "image/png": "[encoded data removed]"
          },
          "metadata": {}
        }
      ]
    },
    {
      "cell_type": "code",
      "source": [
        "# Calculate model_3 evaluation metrics\n",
        "\n",
        "mae_3 = mae(y_test, y_preds_3)\n",
        "mse_3 = mse(y_test, y_preds_3)\n",
        "mae_3, mse_3"
      ],
      "metadata": {
        "colab": {
          "base_uri": "https://localhost:8080/"
        },
        "id": "AZTlLn1rGIGp",
        "outputId": "f5505ca6-5588-4cd7-a97f-498623d29712"
      },
      "execution_count": 61,
      "outputs": [
        {
          "output_type": "execute_result",
          "data": {
            "text/plain": [
              "(<tf.Tensor: shape=(), dtype=float32, numpy=63.949097>,\n",
              " <tf.Tensor: shape=(), dtype=float32, numpy=4149.453>)"
            ]
          },
          "metadata": {},
          "execution_count": 61
        }
      ]
    },
    {
      "cell_type": "markdown",
      "source": [
        "## Comparing the results of out experiments\n",
        "\n"
      ],
      "metadata": {
        "id": "AAy24eLdG11d"
      }
    },
    {
      "cell_type": "code",
      "source": [
        "# Lets compare our models result using a pandas DataFrame\n",
        "\n",
        "import pandas as pd\n",
        "\n",
        "model_results = [[\"model_1\", mae_1.numpy(), mse_1.numpy()],\n",
        "                [\"model_2\", mae_2.numpy(), mse_2.numpy()],\n",
        "                [\"model_3\", mae_3.numpy(), mse_3]]\n",
        "\n",
        "all_results = pd.DataFrame(model_results, columns=[\"model\", \"mae\", \"mse\"])\n",
        "all_results\n"
      ],
      "metadata": {
        "colab": {
          "base_uri": "https://localhost:8080/",
          "height": 144
        },
        "id": "Eyz6kizfeNiv",
        "outputId": "39edb58e-a750-4cab-f29d-a56a055e56b2"
      },
      "execution_count": 62,
      "outputs": [
        {
          "output_type": "execute_result",
          "data": {
            "text/plain": [
              "     model        mae                                           mse\n",
              "0  model_1   8.602267                                     80.512024\n",
              "1  model_2  45.636147                                   2109.878174\n",
              "2  model_3  63.949097  tf.Tensor(4149.453, shape=(), dtype=float32)"
            ],
            "text/html": [
              "\n",
              "  <div id=\"df-3a4f4761-8ac2-49e4-a0fa-a50673e63cbe\" class=\"colab-df-container\">\n",
              "    <div>\n",
              "<style scoped>\n",
              "    .dataframe tbody tr th:only-of-type {\n",
              "        vertical-align: middle;\n",
              "    }\n",
              "\n",
              "    .dataframe tbody tr th {\n",
              "        vertical-align: top;\n",
              "    }\n",
              "\n",
              "    .dataframe thead th {\n",
              "        text-align: right;\n",
              "    }\n",
              "</style>\n",
              "<table border=\"1\" class=\"dataframe\">\n",
              "  <thead>\n",
              "    <tr style=\"text-align: right;\">\n",
              "      <th></th>\n",
              "      <th>model</th>\n",
              "      <th>mae</th>\n",
              "      <th>mse</th>\n",
              "    </tr>\n",
              "  </thead>\n",
              "  <tbody>\n",
              "    <tr>\n",
              "      <th>0</th>\n",
              "      <td>model_1</td>\n",
              "      <td>8.602267</td>\n",
              "      <td>80.512024</td>\n",
              "    </tr>\n",
              "    <tr>\n",
              "      <th>1</th>\n",
              "      <td>model_2</td>\n",
              "      <td>45.636147</td>\n",
              "      <td>2109.878174</td>\n",
              "    </tr>\n",
              "    <tr>\n",
              "      <th>2</th>\n",
              "      <td>model_3</td>\n",
              "      <td>63.949097</td>\n",
              "      <td>tf.Tensor(4149.453, shape=(), dtype=float32)</td>\n",
              "    </tr>\n",
              "  </tbody>\n",
              "</table>\n",
              "</div>\n",
              "    <div class=\"colab-df-buttons\">\n",
              "\n",
              "  <div class=\"colab-df-container\">\n",
              "    <button class=\"colab-df-convert\" onclick=\"convertToInteractive('df-3a4f4761-8ac2-49e4-a0fa-a50673e63cbe')\"\n",
              "            title=\"Convert this dataframe to an interactive table.\"\n",
              "            style=\"display:none;\">\n",
              "\n",
              "  <svg xmlns=\"http://www.w3.org/2000/svg\" height=\"24px\" viewBox=\"0 -960 960 960\">\n",
              "    <path d=\"M120-120v-720h720v720H120Zm60-500h600v-160H180v160Zm220 220h160v-160H400v160Zm0 220h160v-160H400v160ZM180-400h160v-160H180v160Zm440 0h160v-160H620v160ZM180-180h160v-160H180v160Zm440 0h160v-160H620v160Z\"/>\n",
              "  </svg>\n",
              "    </button>\n",
              "\n",
              "  <style>\n",
              "    .colab-df-container {\n",
              "      display:flex;\n",
              "      gap: 12px;\n",
              "    }\n",
              "\n",
              "    .colab-df-convert {\n",
              "      background-color: #E8F0FE;\n",
              "      border: none;\n",
              "      border-radius: 50%;\n",
              "      cursor: pointer;\n",
              "      display: none;\n",
              "      fill: #1967D2;\n",
              "      height: 32px;\n",
              "      padding: 0 0 0 0;\n",
              "      width: 32px;\n",
              "    }\n",
              "\n",
              "    .colab-df-convert:hover {\n",
              "      background-color: #E2EBFA;\n",
              "      box-shadow: 0px 1px 2px rgba(60, 64, 67, 0.3), 0px 1px 3px 1px rgba(60, 64, 67, 0.15);\n",
              "      fill: #174EA6;\n",
              "    }\n",
              "\n",
              "    .colab-df-buttons div {\n",
              "      margin-bottom: 4px;\n",
              "    }\n",
              "\n",
              "    [theme=dark] .colab-df-convert {\n",
              "      background-color: #3B4455;\n",
              "      fill: #D2E3FC;\n",
              "    }\n",
              "\n",
              "    [theme=dark] .colab-df-convert:hover {\n",
              "      background-color: #434B5C;\n",
              "      box-shadow: 0px 1px 3px 1px rgba(0, 0, 0, 0.15);\n",
              "      filter: drop-shadow(0px 1px 2px rgba(0, 0, 0, 0.3));\n",
              "      fill: #FFFFFF;\n",
              "    }\n",
              "  </style>\n",
              "\n",
              "    <script>\n",
              "      const buttonEl =\n",
              "        document.querySelector('#df-3a4f4761-8ac2-49e4-a0fa-a50673e63cbe button.colab-df-convert');\n",
              "      buttonEl.style.display =\n",
              "        google.colab.kernel.accessAllowed ? 'block' : 'none';\n",
              "\n",
              "      async function convertToInteractive(key) {\n",
              "        const element = document.querySelector('#df-3a4f4761-8ac2-49e4-a0fa-a50673e63cbe');\n",
              "        const dataTable =\n",
              "          await google.colab.kernel.invokeFunction('convertToInteractive',\n",
              "                                                    [key], {});\n",
              "        if (!dataTable) return;\n",
              "\n",
              "        const docLinkHtml = 'Like what you see? Visit the ' +\n",
              "          '<a target=\"_blank\" href=https://colab.research.google.com/notebooks/data_table.ipynb>data table notebook</a>'\n",
              "          + ' to learn more about interactive tables.';\n",
              "        element.innerHTML = '';\n",
              "        dataTable['output_type'] = 'display_data';\n",
              "        await google.colab.output.renderOutput(dataTable, element);\n",
              "        const docLink = document.createElement('div');\n",
              "        docLink.innerHTML = docLinkHtml;\n",
              "        element.appendChild(docLink);\n",
              "      }\n",
              "    </script>\n",
              "  </div>\n",
              "\n",
              "\n",
              "<div id=\"df-eb2aa953-7be6-4933-ac01-31893edf71e6\">\n",
              "  <button class=\"colab-df-quickchart\" onclick=\"quickchart('df-eb2aa953-7be6-4933-ac01-31893edf71e6')\"\n",
              "            title=\"Suggest charts\"\n",
              "            style=\"display:none;\">\n",
              "\n",
              "<svg xmlns=\"http://www.w3.org/2000/svg\" height=\"24px\"viewBox=\"0 0 24 24\"\n",
              "     width=\"24px\">\n",
              "    <g>\n",
              "        <path d=\"M19 3H5c-1.1 0-2 .9-2 2v14c0 1.1.9 2 2 2h14c1.1 0 2-.9 2-2V5c0-1.1-.9-2-2-2zM9 17H7v-7h2v7zm4 0h-2V7h2v10zm4 0h-2v-4h2v4z\"/>\n",
              "    </g>\n",
              "</svg>\n",
              "  </button>\n",
              "\n",
              "<style>\n",
              "  .colab-df-quickchart {\n",
              "      --bg-color: #E8F0FE;\n",
              "      --fill-color: #1967D2;\n",
              "      --hover-bg-color: #E2EBFA;\n",
              "      --hover-fill-color: #174EA6;\n",
              "      --disabled-fill-color: #AAA;\n",
              "      --disabled-bg-color: #DDD;\n",
              "  }\n",
              "\n",
              "  [theme=dark] .colab-df-quickchart {\n",
              "      --bg-color: #3B4455;\n",
              "      --fill-color: #D2E3FC;\n",
              "      --hover-bg-color: #434B5C;\n",
              "      --hover-fill-color: #FFFFFF;\n",
              "      --disabled-bg-color: #3B4455;\n",
              "      --disabled-fill-color: #666;\n",
              "  }\n",
              "\n",
              "  .colab-df-quickchart {\n",
              "    background-color: var(--bg-color);\n",
              "    border: none;\n",
              "    border-radius: 50%;\n",
              "    cursor: pointer;\n",
              "    display: none;\n",
              "    fill: var(--fill-color);\n",
              "    height: 32px;\n",
              "    padding: 0;\n",
              "    width: 32px;\n",
              "  }\n",
              "\n",
              "  .colab-df-quickchart:hover {\n",
              "    background-color: var(--hover-bg-color);\n",
              "    box-shadow: 0 1px 2px rgba(60, 64, 67, 0.3), 0 1px 3px 1px rgba(60, 64, 67, 0.15);\n",
              "    fill: var(--button-hover-fill-color);\n",
              "  }\n",
              "\n",
              "  .colab-df-quickchart-complete:disabled,\n",
              "  .colab-df-quickchart-complete:disabled:hover {\n",
              "    background-color: var(--disabled-bg-color);\n",
              "    fill: var(--disabled-fill-color);\n",
              "    box-shadow: none;\n",
              "  }\n",
              "\n",
              "  .colab-df-spinner {\n",
              "    border: 2px solid var(--fill-color);\n",
              "    border-color: transparent;\n",
              "    border-bottom-color: var(--fill-color);\n",
              "    animation:\n",
              "      spin 1s steps(1) infinite;\n",
              "  }\n",
              "\n",
              "  @keyframes spin {\n",
              "    0% {\n",
              "      border-color: transparent;\n",
              "      border-bottom-color: var(--fill-color);\n",
              "      border-left-color: var(--fill-color);\n",
              "    }\n",
              "    20% {\n",
              "      border-color: transparent;\n",
              "      border-left-color: var(--fill-color);\n",
              "      border-top-color: var(--fill-color);\n",
              "    }\n",
              "    30% {\n",
              "      border-color: transparent;\n",
              "      border-left-color: var(--fill-color);\n",
              "      border-top-color: var(--fill-color);\n",
              "      border-right-color: var(--fill-color);\n",
              "    }\n",
              "    40% {\n",
              "      border-color: transparent;\n",
              "      border-right-color: var(--fill-color);\n",
              "      border-top-color: var(--fill-color);\n",
              "    }\n",
              "    60% {\n",
              "      border-color: transparent;\n",
              "      border-right-color: var(--fill-color);\n",
              "    }\n",
              "    80% {\n",
              "      border-color: transparent;\n",
              "      border-right-color: var(--fill-color);\n",
              "      border-bottom-color: var(--fill-color);\n",
              "    }\n",
              "    90% {\n",
              "      border-color: transparent;\n",
              "      border-bottom-color: var(--fill-color);\n",
              "    }\n",
              "  }\n",
              "</style>\n",
              "\n",
              "  <script>\n",
              "    async function quickchart(key) {\n",
              "      const quickchartButtonEl =\n",
              "        document.querySelector('#' + key + ' button');\n",
              "      quickchartButtonEl.disabled = true;  // To prevent multiple clicks.\n",
              "      quickchartButtonEl.classList.add('colab-df-spinner');\n",
              "      try {\n",
              "        const charts = await google.colab.kernel.invokeFunction(\n",
              "            'suggestCharts', [key], {});\n",
              "      } catch (error) {\n",
              "        console.error('Error during call to suggestCharts:', error);\n",
              "      }\n",
              "      quickchartButtonEl.classList.remove('colab-df-spinner');\n",
              "      quickchartButtonEl.classList.add('colab-df-quickchart-complete');\n",
              "    }\n",
              "    (() => {\n",
              "      let quickchartButtonEl =\n",
              "        document.querySelector('#df-eb2aa953-7be6-4933-ac01-31893edf71e6 button');\n",
              "      quickchartButtonEl.style.display =\n",
              "        google.colab.kernel.accessAllowed ? 'block' : 'none';\n",
              "    })();\n",
              "  </script>\n",
              "</div>\n",
              "    </div>\n",
              "  </div>\n"
            ],
            "application/vnd.google.colaboratory.intrinsic+json": {
              "type": "dataframe",
              "variable_name": "all_results",
              "summary": "{\n  \"name\": \"all_results\",\n  \"rows\": 3,\n  \"fields\": [\n    {\n      \"column\": \"model\",\n      \"properties\": {\n        \"dtype\": \"string\",\n        \"num_unique_values\": 3,\n        \"samples\": [\n          \"model_1\",\n          \"model_2\",\n          \"model_3\"\n        ],\n        \"semantic_type\": \"\",\n        \"description\": \"\"\n      }\n    },\n    {\n      \"column\": \"mae\",\n      \"properties\": {\n        \"dtype\": \"float32\",\n        \"num_unique_values\": 3,\n        \"samples\": [\n          8.602267265319824,\n          45.636146545410156,\n          63.9490966796875\n        ],\n        \"semantic_type\": \"\",\n        \"description\": \"\"\n      }\n    },\n    {\n      \"column\": \"mse\",\n      \"properties\": {\n        \"dtype\": \"object\",\n        \"semantic_type\": \"\",\n        \"description\": \"\"\n      }\n    }\n  ]\n}"
            }
          },
          "metadata": {},
          "execution_count": 62
        }
      ]
    },
    {
      "source": [
        "# @title mae\n",
        "# Got Recommendation from gcollab\n",
        "\n",
        "from matplotlib import pyplot as plt\n",
        "all_results['mae'].plot(kind='hist', bins=20, title='mae')\n",
        "plt.gca().spines[['top', 'right',]].set_visible(False)"
      ],
      "cell_type": "code",
      "execution_count": 63,
      "outputs": [
        {
          "output_type": "display_data",
          "data": {
            "text/plain": [
              "<Figure size 640x480 with 1 Axes>"
            ],
            "image/png": "[encoded data removed]"
          },
          "metadata": {}
        }
      ],
      "metadata": {
        "colab": {
          "base_uri": "https://localhost:8080/",
          "height": 452
        },
        "id": "AK8lqoT2f7R1",
        "outputId": "34b74515-3164-4a83-802c-2c21a26fdc3c"
      }
    },
    {
      "cell_type": "markdown",
      "source": [
        "🔑**Note :** One of our main goals should be to minimize the time between our experiments. We must try and error"
      ],
      "metadata": {
        "id": "6mam0ajKgXEC"
      }
    },
    {
      "cell_type": "markdown",
      "source": [
        "## Tracking your experiments\n",
        "\n",
        "One really good habit in ml modelling is to track the result of your experiments.\n",
        "\n",
        "Luckly, there are tools to help us!\n",
        "\n",
        "📖**Resource:** As we build more models, we will want to look into using :\n",
        "\n",
        "* TensorBoard - a component of the TensorFlow library to help track modelling experiments\n",
        "* Weights & Biases - a tool for tracking all of kinds of machine learning experiments\n",
        "\n"
      ],
      "metadata": {
        "id": "jCyUYIJrhEbi"
      }
    },
    {
      "cell_type": "markdown",
      "source": [
        "## Saving Our model\n",
        "\n",
        "Saving our model allows us to use them outside of Google collab\n",
        "\n",
        "There are two main formats we can save our model too :\n",
        "1. The SavedModel format\n",
        "2. The HDF5 format"
      ],
      "metadata": {
        "id": "DCh5Gw9x2cEL"
      }
    },
    {
      "cell_type": "code",
      "source": [
        "# Save model using the SavedModel format\n",
        "model_2.save(\"best_model_SavedModel_format\")"
      ],
      "metadata": {
        "id": "GgNAjual2aAU"
      },
      "execution_count": 64,
      "outputs": []
    },
    {
      "cell_type": "code",
      "source": [
        "# Save model using the HDF5 format\n",
        "model_2.save(\"best_model_HDF5_format\")"
      ],
      "metadata": {
        "id": "WUEQU6AH4UiF"
      },
      "execution_count": 65,
      "outputs": []
    },
    {
      "cell_type": "markdown",
      "source": [
        "## Loading in a saved model"
      ],
      "metadata": {
        "id": "JlWRZHYjreP_"
      }
    },
    {
      "cell_type": "code",
      "source": [
        "# Load in the SavedModel format\n",
        "\n",
        "loaded_SavedModel_format = tf.keras.models.load_model(\"/content/best_model_SavedModel_format\")\n",
        "loaded_SavedModel_format.summary()"
      ],
      "metadata": {
        "colab": {
          "base_uri": "https://localhost:8080/"
        },
        "id": "2ZCWOR4Wrosv",
        "outputId": "82e0e8bb-d8c7-4d5d-db58-4179de2589b4"
      },
      "execution_count": 66,
      "outputs": [
        {
          "output_type": "stream",
          "name": "stdout",
          "text": [
            "Model: \"sequential_6\"\n",
            "_________________________________________________________________\n",
            " Layer (type)                Output Shape              Param #   \n",
            "=================================================================\n",
            " input_layer (Dense)         (None, 70)                140       \n",
            "                                                                 \n",
            " Output_layer (Dense)        (None, 1)                 71        \n",
            "                                                                 \n",
            "=================================================================\n",
            "Total params: 211 (844.00 Byte)\n",
            "Trainable params: 211 (844.00 Byte)\n",
            "Non-trainable params: 0 (0.00 Byte)\n",
            "_________________________________________________________________\n"
          ]
        }
      ]
    },
    {
      "cell_type": "code",
      "source": [
        "model_2 == loaded_SavedModel_format"
      ],
      "metadata": {
        "colab": {
          "base_uri": "https://localhost:8080/"
        },
        "id": "yLoIxTUvsGxF",
        "outputId": "6c7d29af-1297-448f-fbb8-8b5caeb4eee5"
      },
      "execution_count": 67,
      "outputs": [
        {
          "output_type": "execute_result",
          "data": {
            "text/plain": [
              "False"
            ]
          },
          "metadata": {},
          "execution_count": 67
        }
      ]
    },
    {
      "cell_type": "code",
      "source": [
        "# Compare predictions\n",
        "model_2_preds = model_2.predict(x_test)\n",
        "loaded_SavedModel_format_preds = loaded_SavedModel_format.predict(x_test)\n",
        "\n",
        "model_2_preds == loaded_SavedModel_format_preds"
      ],
      "metadata": {
        "colab": {
          "base_uri": "https://localhost:8080/"
        },
        "id": "NN4wwIe1sbEY",
        "outputId": "e921e5df-e49d-485a-b9f8-17aede0eb4fb"
      },
      "execution_count": 68,
      "outputs": [
        {
          "output_type": "stream",
          "name": "stdout",
          "text": [
            "1/1 [==============================] - 0s 36ms/step\n",
            "1/1 [==============================] - 0s 66ms/step\n"
          ]
        },
        {
          "output_type": "execute_result",
          "data": {
            "text/plain": [
              "array([[ True],\n",
              "       [ True],\n",
              "       [ True],\n",
              "       [ True],\n",
              "       [ True],\n",
              "       [ True],\n",
              "       [ True],\n",
              "       [ True],\n",
              "       [ True],\n",
              "       [ True]])"
            ]
          },
          "metadata": {},
          "execution_count": 68
        }
      ]
    },
    {
      "cell_type": "code",
      "source": [
        "mae(y_true = y_test, y_pred = model_2_preds) == mae(y_true = y_test, y_pred=loaded_SavedModel_format_preds )"
      ],
      "metadata": {
        "colab": {
          "base_uri": "https://localhost:8080/"
        },
        "id": "4vOzpgEWs4bA",
        "outputId": "61f37020-73c5-4269-82c4-98031006adcd"
      },
      "execution_count": 69,
      "outputs": [
        {
          "output_type": "execute_result",
          "data": {
            "text/plain": [
              "<tf.Tensor: shape=(), dtype=bool, numpy=True>"
            ]
          },
          "metadata": {},
          "execution_count": 69
        }
      ]
    },
    {
      "cell_type": "code",
      "source": [
        "# Load in a model using the h5 format\n",
        "loaded_h5_model = tf.keras.models.load_model(\"/content/best_model_HDF5_format\")\n",
        "loaded_h5_model.summary()"
      ],
      "metadata": {
        "colab": {
          "base_uri": "https://localhost:8080/"
        },
        "id": "HfBpvyUluB-8",
        "outputId": "865370f6-a180-4614-9ad7-1e77e6ba56d3"
      },
      "execution_count": 70,
      "outputs": [
        {
          "output_type": "stream",
          "name": "stdout",
          "text": [
            "Model: \"sequential_6\"\n",
            "_________________________________________________________________\n",
            " Layer (type)                Output Shape              Param #   \n",
            "=================================================================\n",
            " input_layer (Dense)         (None, 70)                140       \n",
            "                                                                 \n",
            " Output_layer (Dense)        (None, 1)                 71        \n",
            "                                                                 \n",
            "=================================================================\n",
            "Total params: 211 (844.00 Byte)\n",
            "Trainable params: 211 (844.00 Byte)\n",
            "Non-trainable params: 0 (0.00 Byte)\n",
            "_________________________________________________________________\n"
          ]
        }
      ]
    },
    {
      "cell_type": "code",
      "source": [
        "# Compare\n",
        "\n",
        "loaded_h5_model_preds = loaded_h5_model.predict(x_test)\n",
        "\n",
        "model_2_preds == loaded_h5_model_preds"
      ],
      "metadata": {
        "colab": {
          "base_uri": "https://localhost:8080/"
        },
        "id": "IBlZi3BwucUl",
        "outputId": "6130f885-b07d-4169-a685-c366545d8136"
      },
      "execution_count": 71,
      "outputs": [
        {
          "output_type": "stream",
          "name": "stdout",
          "text": [
            "1/1 [==============================] - 0s 58ms/step\n"
          ]
        },
        {
          "output_type": "execute_result",
          "data": {
            "text/plain": [
              "array([[ True],\n",
              "       [ True],\n",
              "       [ True],\n",
              "       [ True],\n",
              "       [ True],\n",
              "       [ True],\n",
              "       [ True],\n",
              "       [ True],\n",
              "       [ True],\n",
              "       [ True]])"
            ]
          },
          "metadata": {},
          "execution_count": 71
        }
      ]
    },
    {
      "cell_type": "code",
      "source": [
        "mae(y_true = y_test, y_pred = model_2_preds) == mae(y_true=y_test, y_pred=loaded_h5_model_preds)"
      ],
      "metadata": {
        "colab": {
          "base_uri": "https://localhost:8080/"
        },
        "id": "915O3jbSuuKI",
        "outputId": "70346d6a-6baa-4ca8-b082-c9745ecb1e53"
      },
      "execution_count": 72,
      "outputs": [
        {
          "output_type": "execute_result",
          "data": {
            "text/plain": [
              "<tf.Tensor: shape=(), dtype=bool, numpy=True>"
            ]
          },
          "metadata": {},
          "execution_count": 72
        }
      ]
    },
    {
      "cell_type": "markdown",
      "source": [
        "## Download a model (or any other file) from Google Colab\n",
        "\n",
        "If you want to download your file from Google Colab :\n",
        "1. You can go to the \"files\" tab and right click on the file youre after and click \"upload\".\n",
        "\n",
        "2. Use code\n",
        "\n",
        "3. Save it to Google Drive by connecting Google Drive and copying it there (see 2nd code cell)"
      ],
      "metadata": {
        "id": "QUSC31vrxNpn"
      }
    },
    {
      "cell_type": "code",
      "source": [
        "# Download a file from Google Colab\n",
        "\n",
        "# from google.colab import files\n",
        "# files.download(\"/content/best_model_HDF5_format\")"
      ],
      "metadata": {
        "id": "8TcUW_yr1w_p"
      },
      "execution_count": 73,
      "outputs": []
    },
    {
      "cell_type": "code",
      "source": [
        "# Save a file from Google colab to Google Drive\n",
        "# !cp /content/best_model_HDF5_format(our model path) _____(our folder file aim)"
      ],
      "metadata": {
        "id": "WSgD3o4e7f7p"
      },
      "execution_count": 74,
      "outputs": []
    },
    {
      "cell_type": "markdown",
      "source": [
        "## A Larger Example"
      ],
      "metadata": {
        "id": "CCRi9SjcjVKV"
      }
    },
    {
      "cell_type": "code",
      "source": [
        "# Import requaired libraries\n",
        "import tensorflow as tf\n",
        "import pandas as pd\n",
        "import matplotlib.pyplot as plt"
      ],
      "metadata": {
        "id": "k9TQZSDtjf7m"
      },
      "execution_count": 75,
      "outputs": []
    },
    {
      "cell_type": "code",
      "source": [
        "# Read in the insurance datatset\n",
        "\n",
        "insurance = pd.read_csv(\"https://raw.githubusercontent.com/stedy/Machine-Learning-with-R-datasets/master/insurance.csv\")"
      ],
      "metadata": {
        "id": "BuTf-1pqko1F"
      },
      "execution_count": 76,
      "outputs": []
    },
    {
      "cell_type": "code",
      "source": [
        "insurance.head(10)"
      ],
      "metadata": {
        "colab": {
          "base_uri": "https://localhost:8080/",
          "height": 363
        },
        "id": "7vygpJnClKsv",
        "outputId": "c99b1287-db45-4b0e-8650-7d49c9b6df73"
      },
      "execution_count": 77,
      "outputs": [
        {
          "output_type": "execute_result",
          "data": {
            "text/plain": [
              "   age     sex     bmi  children smoker     region      charges\n",
              "0   19  female  27.900         0    yes  southwest  16884.92400\n",
              "1   18    male  33.770         1     no  southeast   1725.55230\n",
              "2   28    male  33.000         3     no  southeast   4449.46200\n",
              "3   33    male  22.705         0     no  northwest  21984.47061\n",
              "4   32    male  28.880         0     no  northwest   3866.85520\n",
              "5   31  female  25.740         0     no  southeast   3756.62160\n",
              "6   46  female  33.440         1     no  southeast   8240.58960\n",
              "7   37  female  27.740         3     no  northwest   7281.50560\n",
              "8   37    male  29.830         2     no  northeast   6406.41070\n",
              "9   60  female  25.840         0     no  northwest  28923.13692"
            ],
            "text/html": [
              "\n",
              "  <div id=\"df-c8fb24c5-b104-4fa3-b061-add85d10a406\" class=\"colab-df-container\">\n",
              "    <div>\n",
              "<style scoped>\n",
              "    .dataframe tbody tr th:only-of-type {\n",
              "        vertical-align: middle;\n",
              "    }\n",
              "\n",
              "    .dataframe tbody tr th {\n",
              "        vertical-align: top;\n",
              "    }\n",
              "\n",
              "    .dataframe thead th {\n",
              "        text-align: right;\n",
              "    }\n",
              "</style>\n",
              "<table border=\"1\" class=\"dataframe\">\n",
              "  <thead>\n",
              "    <tr style=\"text-align: right;\">\n",
              "      <th></th>\n",
              "      <th>age</th>\n",
              "      <th>sex</th>\n",
              "      <th>bmi</th>\n",
              "      <th>children</th>\n",
              "      <th>smoker</th>\n",
              "      <th>region</th>\n",
              "      <th>charges</th>\n",
              "    </tr>\n",
              "  </thead>\n",
              "  <tbody>\n",
              "    <tr>\n",
              "      <th>0</th>\n",
              "      <td>19</td>\n",
              "      <td>female</td>\n",
              "      <td>27.900</td>\n",
              "      <td>0</td>\n",
              "      <td>yes</td>\n",
              "      <td>southwest</td>\n",
              "      <td>16884.92400</td>\n",
              "    </tr>\n",
              "    <tr>\n",
              "      <th>1</th>\n",
              "      <td>18</td>\n",
              "      <td>male</td>\n",
              "      <td>33.770</td>\n",
              "      <td>1</td>\n",
              "      <td>no</td>\n",
              "      <td>southeast</td>\n",
              "      <td>1725.55230</td>\n",
              "    </tr>\n",
              "    <tr>\n",
              "      <th>2</th>\n",
              "      <td>28</td>\n",
              "      <td>male</td>\n",
              "      <td>33.000</td>\n",
              "      <td>3</td>\n",
              "      <td>no</td>\n",
              "      <td>southeast</td>\n",
              "      <td>4449.46200</td>\n",
              "    </tr>\n",
              "    <tr>\n",
              "      <th>3</th>\n",
              "      <td>33</td>\n",
              "      <td>male</td>\n",
              "      <td>22.705</td>\n",
              "      <td>0</td>\n",
              "      <td>no</td>\n",
              "      <td>northwest</td>\n",
              "      <td>21984.47061</td>\n",
              "    </tr>\n",
              "    <tr>\n",
              "      <th>4</th>\n",
              "      <td>32</td>\n",
              "      <td>male</td>\n",
              "      <td>28.880</td>\n",
              "      <td>0</td>\n",
              "      <td>no</td>\n",
              "      <td>northwest</td>\n",
              "      <td>3866.85520</td>\n",
              "    </tr>\n",
              "    <tr>\n",
              "      <th>5</th>\n",
              "      <td>31</td>\n",
              "      <td>female</td>\n",
              "      <td>25.740</td>\n",
              "      <td>0</td>\n",
              "      <td>no</td>\n",
              "      <td>southeast</td>\n",
              "      <td>3756.62160</td>\n",
              "    </tr>\n",
              "    <tr>\n",
              "      <th>6</th>\n",
              "      <td>46</td>\n",
              "      <td>female</td>\n",
              "      <td>33.440</td>\n",
              "      <td>1</td>\n",
              "      <td>no</td>\n",
              "      <td>southeast</td>\n",
              "      <td>8240.58960</td>\n",
              "    </tr>\n",
              "    <tr>\n",
              "      <th>7</th>\n",
              "      <td>37</td>\n",
              "      <td>female</td>\n",
              "      <td>27.740</td>\n",
              "      <td>3</td>\n",
              "      <td>no</td>\n",
              "      <td>northwest</td>\n",
              "      <td>7281.50560</td>\n",
              "    </tr>\n",
              "    <tr>\n",
              "      <th>8</th>\n",
              "      <td>37</td>\n",
              "      <td>male</td>\n",
              "      <td>29.830</td>\n",
              "      <td>2</td>\n",
              "      <td>no</td>\n",
              "      <td>northeast</td>\n",
              "      <td>6406.41070</td>\n",
              "    </tr>\n",
              "    <tr>\n",
              "      <th>9</th>\n",
              "      <td>60</td>\n",
              "      <td>female</td>\n",
              "      <td>25.840</td>\n",
              "      <td>0</td>\n",
              "      <td>no</td>\n",
              "      <td>northwest</td>\n",
              "      <td>28923.13692</td>\n",
              "    </tr>\n",
              "  </tbody>\n",
              "</table>\n",
              "</div>\n",
              "    <div class=\"colab-df-buttons\">\n",
              "\n",
              "  <div class=\"colab-df-container\">\n",
              "    <button class=\"colab-df-convert\" onclick=\"convertToInteractive('df-c8fb24c5-b104-4fa3-b061-add85d10a406')\"\n",
              "            title=\"Convert this dataframe to an interactive table.\"\n",
              "            style=\"display:none;\">\n",
              "\n",
              "  <svg xmlns=\"http://www.w3.org/2000/svg\" height=\"24px\" viewBox=\"0 -960 960 960\">\n",
              "    <path d=\"M120-120v-720h720v720H120Zm60-500h600v-160H180v160Zm220 220h160v-160H400v160Zm0 220h160v-160H400v160ZM180-400h160v-160H180v160Zm440 0h160v-160H620v160ZM180-180h160v-160H180v160Zm440 0h160v-160H620v160Z\"/>\n",
              "  </svg>\n",
              "    </button>\n",
              "\n",
              "  <style>\n",
              "    .colab-df-container {\n",
              "      display:flex;\n",
              "      gap: 12px;\n",
              "    }\n",
              "\n",
              "    .colab-df-convert {\n",
              "      background-color: #E8F0FE;\n",
              "      border: none;\n",
              "      border-radius: 50%;\n",
              "      cursor: pointer;\n",
              "      display: none;\n",
              "      fill: #1967D2;\n",
              "      height: 32px;\n",
              "      padding: 0 0 0 0;\n",
              "      width: 32px;\n",
              "    }\n",
              "\n",
              "    .colab-df-convert:hover {\n",
              "      background-color: #E2EBFA;\n",
              "      box-shadow: 0px 1px 2px rgba(60, 64, 67, 0.3), 0px 1px 3px 1px rgba(60, 64, 67, 0.15);\n",
              "      fill: #174EA6;\n",
              "    }\n",
              "\n",
              "    .colab-df-buttons div {\n",
              "      margin-bottom: 4px;\n",
              "    }\n",
              "\n",
              "    [theme=dark] .colab-df-convert {\n",
              "      background-color: #3B4455;\n",
              "      fill: #D2E3FC;\n",
              "    }\n",
              "\n",
              "    [theme=dark] .colab-df-convert:hover {\n",
              "      background-color: #434B5C;\n",
              "      box-shadow: 0px 1px 3px 1px rgba(0, 0, 0, 0.15);\n",
              "      filter: drop-shadow(0px 1px 2px rgba(0, 0, 0, 0.3));\n",
              "      fill: #FFFFFF;\n",
              "    }\n",
              "  </style>\n",
              "\n",
              "    <script>\n",
              "      const buttonEl =\n",
              "        document.querySelector('#df-c8fb24c5-b104-4fa3-b061-add85d10a406 button.colab-df-convert');\n",
              "      buttonEl.style.display =\n",
              "        google.colab.kernel.accessAllowed ? 'block' : 'none';\n",
              "\n",
              "      async function convertToInteractive(key) {\n",
              "        const element = document.querySelector('#df-c8fb24c5-b104-4fa3-b061-add85d10a406');\n",
              "        const dataTable =\n",
              "          await google.colab.kernel.invokeFunction('convertToInteractive',\n",
              "                                                    [key], {});\n",
              "        if (!dataTable) return;\n",
              "\n",
              "        const docLinkHtml = 'Like what you see? Visit the ' +\n",
              "          '<a target=\"_blank\" href=https://colab.research.google.com/notebooks/data_table.ipynb>data table notebook</a>'\n",
              "          + ' to learn more about interactive tables.';\n",
              "        element.innerHTML = '';\n",
              "        dataTable['output_type'] = 'display_data';\n",
              "        await google.colab.output.renderOutput(dataTable, element);\n",
              "        const docLink = document.createElement('div');\n",
              "        docLink.innerHTML = docLinkHtml;\n",
              "        element.appendChild(docLink);\n",
              "      }\n",
              "    </script>\n",
              "  </div>\n",
              "\n",
              "\n",
              "<div id=\"df-60590fff-e7c9-44cd-84e1-63a07b11c1f0\">\n",
              "  <button class=\"colab-df-quickchart\" onclick=\"quickchart('df-60590fff-e7c9-44cd-84e1-63a07b11c1f0')\"\n",
              "            title=\"Suggest charts\"\n",
              "            style=\"display:none;\">\n",
              "\n",
              "<svg xmlns=\"http://www.w3.org/2000/svg\" height=\"24px\"viewBox=\"0 0 24 24\"\n",
              "     width=\"24px\">\n",
              "    <g>\n",
              "        <path d=\"M19 3H5c-1.1 0-2 .9-2 2v14c0 1.1.9 2 2 2h14c1.1 0 2-.9 2-2V5c0-1.1-.9-2-2-2zM9 17H7v-7h2v7zm4 0h-2V7h2v10zm4 0h-2v-4h2v4z\"/>\n",
              "    </g>\n",
              "</svg>\n",
              "  </button>\n",
              "\n",
              "<style>\n",
              "  .colab-df-quickchart {\n",
              "      --bg-color: #E8F0FE;\n",
              "      --fill-color: #1967D2;\n",
              "      --hover-bg-color: #E2EBFA;\n",
              "      --hover-fill-color: #174EA6;\n",
              "      --disabled-fill-color: #AAA;\n",
              "      --disabled-bg-color: #DDD;\n",
              "  }\n",
              "\n",
              "  [theme=dark] .colab-df-quickchart {\n",
              "      --bg-color: #3B4455;\n",
              "      --fill-color: #D2E3FC;\n",
              "      --hover-bg-color: #434B5C;\n",
              "      --hover-fill-color: #FFFFFF;\n",
              "      --disabled-bg-color: #3B4455;\n",
              "      --disabled-fill-color: #666;\n",
              "  }\n",
              "\n",
              "  .colab-df-quickchart {\n",
              "    background-color: var(--bg-color);\n",
              "    border: none;\n",
              "    border-radius: 50%;\n",
              "    cursor: pointer;\n",
              "    display: none;\n",
              "    fill: var(--fill-color);\n",
              "    height: 32px;\n",
              "    padding: 0;\n",
              "    width: 32px;\n",
              "  }\n",
              "\n",
              "  .colab-df-quickchart:hover {\n",
              "    background-color: var(--hover-bg-color);\n",
              "    box-shadow: 0 1px 2px rgba(60, 64, 67, 0.3), 0 1px 3px 1px rgba(60, 64, 67, 0.15);\n",
              "    fill: var(--button-hover-fill-color);\n",
              "  }\n",
              "\n",
              "  .colab-df-quickchart-complete:disabled,\n",
              "  .colab-df-quickchart-complete:disabled:hover {\n",
              "    background-color: var(--disabled-bg-color);\n",
              "    fill: var(--disabled-fill-color);\n",
              "    box-shadow: none;\n",
              "  }\n",
              "\n",
              "  .colab-df-spinner {\n",
              "    border: 2px solid var(--fill-color);\n",
              "    border-color: transparent;\n",
              "    border-bottom-color: var(--fill-color);\n",
              "    animation:\n",
              "      spin 1s steps(1) infinite;\n",
              "  }\n",
              "\n",
              "  @keyframes spin {\n",
              "    0% {\n",
              "      border-color: transparent;\n",
              "      border-bottom-color: var(--fill-color);\n",
              "      border-left-color: var(--fill-color);\n",
              "    }\n",
              "    20% {\n",
              "      border-color: transparent;\n",
              "      border-left-color: var(--fill-color);\n",
              "      border-top-color: var(--fill-color);\n",
              "    }\n",
              "    30% {\n",
              "      border-color: transparent;\n",
              "      border-left-color: var(--fill-color);\n",
              "      border-top-color: var(--fill-color);\n",
              "      border-right-color: var(--fill-color);\n",
              "    }\n",
              "    40% {\n",
              "      border-color: transparent;\n",
              "      border-right-color: var(--fill-color);\n",
              "      border-top-color: var(--fill-color);\n",
              "    }\n",
              "    60% {\n",
              "      border-color: transparent;\n",
              "      border-right-color: var(--fill-color);\n",
              "    }\n",
              "    80% {\n",
              "      border-color: transparent;\n",
              "      border-right-color: var(--fill-color);\n",
              "      border-bottom-color: var(--fill-color);\n",
              "    }\n",
              "    90% {\n",
              "      border-color: transparent;\n",
              "      border-bottom-color: var(--fill-color);\n",
              "    }\n",
              "  }\n",
              "</style>\n",
              "\n",
              "  <script>\n",
              "    async function quickchart(key) {\n",
              "      const quickchartButtonEl =\n",
              "        document.querySelector('#' + key + ' button');\n",
              "      quickchartButtonEl.disabled = true;  // To prevent multiple clicks.\n",
              "      quickchartButtonEl.classList.add('colab-df-spinner');\n",
              "      try {\n",
              "        const charts = await google.colab.kernel.invokeFunction(\n",
              "            'suggestCharts', [key], {});\n",
              "      } catch (error) {\n",
              "        console.error('Error during call to suggestCharts:', error);\n",
              "      }\n",
              "      quickchartButtonEl.classList.remove('colab-df-spinner');\n",
              "      quickchartButtonEl.classList.add('colab-df-quickchart-complete');\n",
              "    }\n",
              "    (() => {\n",
              "      let quickchartButtonEl =\n",
              "        document.querySelector('#df-60590fff-e7c9-44cd-84e1-63a07b11c1f0 button');\n",
              "      quickchartButtonEl.style.display =\n",
              "        google.colab.kernel.accessAllowed ? 'block' : 'none';\n",
              "    })();\n",
              "  </script>\n",
              "</div>\n",
              "    </div>\n",
              "  </div>\n"
            ],
            "application/vnd.google.colaboratory.intrinsic+json": {
              "type": "dataframe",
              "variable_name": "insurance",
              "summary": "{\n  \"name\": \"insurance\",\n  \"rows\": 1338,\n  \"fields\": [\n    {\n      \"column\": \"age\",\n      \"properties\": {\n        \"dtype\": \"number\",\n        \"std\": 14,\n        \"min\": 18,\n        \"max\": 64,\n        \"num_unique_values\": 47,\n        \"samples\": [\n          21,\n          45,\n          36\n        ],\n        \"semantic_type\": \"\",\n        \"description\": \"\"\n      }\n    },\n    {\n      \"column\": \"sex\",\n      \"properties\": {\n        \"dtype\": \"category\",\n        \"num_unique_values\": 2,\n        \"samples\": [\n          \"male\",\n          \"female\"\n        ],\n        \"semantic_type\": \"\",\n        \"description\": \"\"\n      }\n    },\n    {\n      \"column\": \"bmi\",\n      \"properties\": {\n        \"dtype\": \"number\",\n        \"std\": 6.098186911679014,\n        \"min\": 15.96,\n        \"max\": 53.13,\n        \"num_unique_values\": 548,\n        \"samples\": [\n          23.18,\n          26.885\n        ],\n        \"semantic_type\": \"\",\n        \"description\": \"\"\n      }\n    },\n    {\n      \"column\": \"children\",\n      \"properties\": {\n        \"dtype\": \"number\",\n        \"std\": 1,\n        \"min\": 0,\n        \"max\": 5,\n        \"num_unique_values\": 6,\n        \"samples\": [\n          0,\n          1\n        ],\n        \"semantic_type\": \"\",\n        \"description\": \"\"\n      }\n    },\n    {\n      \"column\": \"smoker\",\n      \"properties\": {\n        \"dtype\": \"category\",\n        \"num_unique_values\": 2,\n        \"samples\": [\n          \"no\",\n          \"yes\"\n        ],\n        \"semantic_type\": \"\",\n        \"description\": \"\"\n      }\n    },\n    {\n      \"column\": \"region\",\n      \"properties\": {\n        \"dtype\": \"category\",\n        \"num_unique_values\": 4,\n        \"samples\": [\n          \"southeast\",\n          \"northeast\"\n        ],\n        \"semantic_type\": \"\",\n        \"description\": \"\"\n      }\n    },\n    {\n      \"column\": \"charges\",\n      \"properties\": {\n        \"dtype\": \"number\",\n        \"std\": 12110.011236694001,\n        \"min\": 1121.8739,\n        \"max\": 63770.42801,\n        \"num_unique_values\": 1337,\n        \"samples\": [\n          8688.85885,\n          5708.867\n        ],\n        \"semantic_type\": \"\",\n        \"description\": \"\"\n      }\n    }\n  ]\n}"
            }
          },
          "metadata": {},
          "execution_count": 77
        }
      ]
    },
    {
      "cell_type": "code",
      "source": [
        "insurance[\"sex\"]"
      ],
      "metadata": {
        "colab": {
          "base_uri": "https://localhost:8080/"
        },
        "id": "7AGioTdJneGl",
        "outputId": "91c92f89-3b02-4171-ff74-e72d98f029b3"
      },
      "execution_count": 78,
      "outputs": [
        {
          "output_type": "execute_result",
          "data": {
            "text/plain": [
              "0       female\n",
              "1         male\n",
              "2         male\n",
              "3         male\n",
              "4         male\n",
              "         ...  \n",
              "1333      male\n",
              "1334    female\n",
              "1335    female\n",
              "1336    female\n",
              "1337    female\n",
              "Name: sex, Length: 1338, dtype: object"
            ]
          },
          "metadata": {},
          "execution_count": 78
        }
      ]
    },
    {
      "cell_type": "code",
      "source": [
        "insurance[\"age\"]"
      ],
      "metadata": {
        "colab": {
          "base_uri": "https://localhost:8080/"
        },
        "id": "VeNCha2CnqMZ",
        "outputId": "d46a9138-8661-49fc-8ee0-1be84737dc2b"
      },
      "execution_count": 79,
      "outputs": [
        {
          "output_type": "execute_result",
          "data": {
            "text/plain": [
              "0       19\n",
              "1       18\n",
              "2       28\n",
              "3       33\n",
              "4       32\n",
              "        ..\n",
              "1333    50\n",
              "1334    18\n",
              "1335    18\n",
              "1336    21\n",
              "1337    61\n",
              "Name: age, Length: 1338, dtype: int64"
            ]
          },
          "metadata": {},
          "execution_count": 79
        }
      ]
    },
    {
      "cell_type": "code",
      "source": [
        "# OneHot endcode for our non numerical type but using pandas(automaticly)\n",
        "insurance_one_hot = pd.get_dummies(insurance)\n",
        "insurance_one_hot.head()"
      ],
      "metadata": {
        "colab": {
          "base_uri": "https://localhost:8080/",
          "height": 206
        },
        "id": "bGJOoiQ6ns9m",
        "outputId": "a77f91e3-b02a-4c89-d47a-7759a4ae6ee4"
      },
      "execution_count": 80,
      "outputs": [
        {
          "output_type": "execute_result",
          "data": {
            "text/plain": [
              "   age     bmi  children      charges  sex_female  sex_male  smoker_no  \\\n",
              "0   19  27.900         0  16884.92400           1         0          0   \n",
              "1   18  33.770         1   1725.55230           0         1          1   \n",
              "2   28  33.000         3   4449.46200           0         1          1   \n",
              "3   33  22.705         0  21984.47061           0         1          1   \n",
              "4   32  28.880         0   3866.85520           0         1          1   \n",
              "\n",
              "   smoker_yes  region_northeast  region_northwest  region_southeast  \\\n",
              "0           1                 0                 0                 0   \n",
              "1           0                 0                 0                 1   \n",
              "2           0                 0                 0                 1   \n",
              "3           0                 0                 1                 0   \n",
              "4           0                 0                 1                 0   \n",
              "\n",
              "   region_southwest  \n",
              "0                 1  \n",
              "1                 0  \n",
              "2                 0  \n",
              "3                 0  \n",
              "4                 0  "
            ],
            "text/html": [
              "\n",
              "  <div id=\"df-928036cd-3133-4657-a13f-de2b6f381931\" class=\"colab-df-container\">\n",
              "    <div>\n",
              "<style scoped>\n",
              "    .dataframe tbody tr th:only-of-type {\n",
              "        vertical-align: middle;\n",
              "    }\n",
              "\n",
              "    .dataframe tbody tr th {\n",
              "        vertical-align: top;\n",
              "    }\n",
              "\n",
              "    .dataframe thead th {\n",
              "        text-align: right;\n",
              "    }\n",
              "</style>\n",
              "<table border=\"1\" class=\"dataframe\">\n",
              "  <thead>\n",
              "    <tr style=\"text-align: right;\">\n",
              "      <th></th>\n",
              "      <th>age</th>\n",
              "      <th>bmi</th>\n",
              "      <th>children</th>\n",
              "      <th>charges</th>\n",
              "      <th>sex_female</th>\n",
              "      <th>sex_male</th>\n",
              "      <th>smoker_no</th>\n",
              "      <th>smoker_yes</th>\n",
              "      <th>region_northeast</th>\n",
              "      <th>region_northwest</th>\n",
              "      <th>region_southeast</th>\n",
              "      <th>region_southwest</th>\n",
              "    </tr>\n",
              "  </thead>\n",
              "  <tbody>\n",
              "    <tr>\n",
              "      <th>0</th>\n",
              "      <td>19</td>\n",
              "      <td>27.900</td>\n",
              "      <td>0</td>\n",
              "      <td>16884.92400</td>\n",
              "      <td>1</td>\n",
              "      <td>0</td>\n",
              "      <td>0</td>\n",
              "      <td>1</td>\n",
              "      <td>0</td>\n",
              "      <td>0</td>\n",
              "      <td>0</td>\n",
              "      <td>1</td>\n",
              "    </tr>\n",
              "    <tr>\n",
              "      <th>1</th>\n",
              "      <td>18</td>\n",
              "      <td>33.770</td>\n",
              "      <td>1</td>\n",
              "      <td>1725.55230</td>\n",
              "      <td>0</td>\n",
              "      <td>1</td>\n",
              "      <td>1</td>\n",
              "      <td>0</td>\n",
              "      <td>0</td>\n",
              "      <td>0</td>\n",
              "      <td>1</td>\n",
              "      <td>0</td>\n",
              "    </tr>\n",
              "    <tr>\n",
              "      <th>2</th>\n",
              "      <td>28</td>\n",
              "      <td>33.000</td>\n",
              "      <td>3</td>\n",
              "      <td>4449.46200</td>\n",
              "      <td>0</td>\n",
              "      <td>1</td>\n",
              "      <td>1</td>\n",
              "      <td>0</td>\n",
              "      <td>0</td>\n",
              "      <td>0</td>\n",
              "      <td>1</td>\n",
              "      <td>0</td>\n",
              "    </tr>\n",
              "    <tr>\n",
              "      <th>3</th>\n",
              "      <td>33</td>\n",
              "      <td>22.705</td>\n",
              "      <td>0</td>\n",
              "      <td>21984.47061</td>\n",
              "      <td>0</td>\n",
              "      <td>1</td>\n",
              "      <td>1</td>\n",
              "      <td>0</td>\n",
              "      <td>0</td>\n",
              "      <td>1</td>\n",
              "      <td>0</td>\n",
              "      <td>0</td>\n",
              "    </tr>\n",
              "    <tr>\n",
              "      <th>4</th>\n",
              "      <td>32</td>\n",
              "      <td>28.880</td>\n",
              "      <td>0</td>\n",
              "      <td>3866.85520</td>\n",
              "      <td>0</td>\n",
              "      <td>1</td>\n",
              "      <td>1</td>\n",
              "      <td>0</td>\n",
              "      <td>0</td>\n",
              "      <td>1</td>\n",
              "      <td>0</td>\n",
              "      <td>0</td>\n",
              "    </tr>\n",
              "  </tbody>\n",
              "</table>\n",
              "</div>\n",
              "    <div class=\"colab-df-buttons\">\n",
              "\n",
              "  <div class=\"colab-df-container\">\n",
              "    <button class=\"colab-df-convert\" onclick=\"convertToInteractive('df-928036cd-3133-4657-a13f-de2b6f381931')\"\n",
              "            title=\"Convert this dataframe to an interactive table.\"\n",
              "            style=\"display:none;\">\n",
              "\n",
              "  <svg xmlns=\"http://www.w3.org/2000/svg\" height=\"24px\" viewBox=\"0 -960 960 960\">\n",
              "    <path d=\"M120-120v-720h720v720H120Zm60-500h600v-160H180v160Zm220 220h160v-160H400v160Zm0 220h160v-160H400v160ZM180-400h160v-160H180v160Zm440 0h160v-160H620v160ZM180-180h160v-160H180v160Zm440 0h160v-160H620v160Z\"/>\n",
              "  </svg>\n",
              "    </button>\n",
              "\n",
              "  <style>\n",
              "    .colab-df-container {\n",
              "      display:flex;\n",
              "      gap: 12px;\n",
              "    }\n",
              "\n",
              "    .colab-df-convert {\n",
              "      background-color: #E8F0FE;\n",
              "      border: none;\n",
              "      border-radius: 50%;\n",
              "      cursor: pointer;\n",
              "      display: none;\n",
              "      fill: #1967D2;\n",
              "      height: 32px;\n",
              "      padding: 0 0 0 0;\n",
              "      width: 32px;\n",
              "    }\n",
              "\n",
              "    .colab-df-convert:hover {\n",
              "      background-color: #E2EBFA;\n",
              "      box-shadow: 0px 1px 2px rgba(60, 64, 67, 0.3), 0px 1px 3px 1px rgba(60, 64, 67, 0.15);\n",
              "      fill: #174EA6;\n",
              "    }\n",
              "\n",
              "    .colab-df-buttons div {\n",
              "      margin-bottom: 4px;\n",
              "    }\n",
              "\n",
              "    [theme=dark] .colab-df-convert {\n",
              "      background-color: #3B4455;\n",
              "      fill: #D2E3FC;\n",
              "    }\n",
              "\n",
              "    [theme=dark] .colab-df-convert:hover {\n",
              "      background-color: #434B5C;\n",
              "      box-shadow: 0px 1px 3px 1px rgba(0, 0, 0, 0.15);\n",
              "      filter: drop-shadow(0px 1px 2px rgba(0, 0, 0, 0.3));\n",
              "      fill: #FFFFFF;\n",
              "    }\n",
              "  </style>\n",
              "\n",
              "    <script>\n",
              "      const buttonEl =\n",
              "        document.querySelector('#df-928036cd-3133-4657-a13f-de2b6f381931 button.colab-df-convert');\n",
              "      buttonEl.style.display =\n",
              "        google.colab.kernel.accessAllowed ? 'block' : 'none';\n",
              "\n",
              "      async function convertToInteractive(key) {\n",
              "        const element = document.querySelector('#df-928036cd-3133-4657-a13f-de2b6f381931');\n",
              "        const dataTable =\n",
              "          await google.colab.kernel.invokeFunction('convertToInteractive',\n",
              "                                                    [key], {});\n",
              "        if (!dataTable) return;\n",
              "\n",
              "        const docLinkHtml = 'Like what you see? Visit the ' +\n",
              "          '<a target=\"_blank\" href=https://colab.research.google.com/notebooks/data_table.ipynb>data table notebook</a>'\n",
              "          + ' to learn more about interactive tables.';\n",
              "        element.innerHTML = '';\n",
              "        dataTable['output_type'] = 'display_data';\n",
              "        await google.colab.output.renderOutput(dataTable, element);\n",
              "        const docLink = document.createElement('div');\n",
              "        docLink.innerHTML = docLinkHtml;\n",
              "        element.appendChild(docLink);\n",
              "      }\n",
              "    </script>\n",
              "  </div>\n",
              "\n",
              "\n",
              "<div id=\"df-d2a1a6e1-36df-4061-9ac8-7d2535fd5059\">\n",
              "  <button class=\"colab-df-quickchart\" onclick=\"quickchart('df-d2a1a6e1-36df-4061-9ac8-7d2535fd5059')\"\n",
              "            title=\"Suggest charts\"\n",
              "            style=\"display:none;\">\n",
              "\n",
              "<svg xmlns=\"http://www.w3.org/2000/svg\" height=\"24px\"viewBox=\"0 0 24 24\"\n",
              "     width=\"24px\">\n",
              "    <g>\n",
              "        <path d=\"M19 3H5c-1.1 0-2 .9-2 2v14c0 1.1.9 2 2 2h14c1.1 0 2-.9 2-2V5c0-1.1-.9-2-2-2zM9 17H7v-7h2v7zm4 0h-2V7h2v10zm4 0h-2v-4h2v4z\"/>\n",
              "    </g>\n",
              "</svg>\n",
              "  </button>\n",
              "\n",
              "<style>\n",
              "  .colab-df-quickchart {\n",
              "      --bg-color: #E8F0FE;\n",
              "      --fill-color: #1967D2;\n",
              "      --hover-bg-color: #E2EBFA;\n",
              "      --hover-fill-color: #174EA6;\n",
              "      --disabled-fill-color: #AAA;\n",
              "      --disabled-bg-color: #DDD;\n",
              "  }\n",
              "\n",
              "  [theme=dark] .colab-df-quickchart {\n",
              "      --bg-color: #3B4455;\n",
              "      --fill-color: #D2E3FC;\n",
              "      --hover-bg-color: #434B5C;\n",
              "      --hover-fill-color: #FFFFFF;\n",
              "      --disabled-bg-color: #3B4455;\n",
              "      --disabled-fill-color: #666;\n",
              "  }\n",
              "\n",
              "  .colab-df-quickchart {\n",
              "    background-color: var(--bg-color);\n",
              "    border: none;\n",
              "    border-radius: 50%;\n",
              "    cursor: pointer;\n",
              "    display: none;\n",
              "    fill: var(--fill-color);\n",
              "    height: 32px;\n",
              "    padding: 0;\n",
              "    width: 32px;\n",
              "  }\n",
              "\n",
              "  .colab-df-quickchart:hover {\n",
              "    background-color: var(--hover-bg-color);\n",
              "    box-shadow: 0 1px 2px rgba(60, 64, 67, 0.3), 0 1px 3px 1px rgba(60, 64, 67, 0.15);\n",
              "    fill: var(--button-hover-fill-color);\n",
              "  }\n",
              "\n",
              "  .colab-df-quickchart-complete:disabled,\n",
              "  .colab-df-quickchart-complete:disabled:hover {\n",
              "    background-color: var(--disabled-bg-color);\n",
              "    fill: var(--disabled-fill-color);\n",
              "    box-shadow: none;\n",
              "  }\n",
              "\n",
              "  .colab-df-spinner {\n",
              "    border: 2px solid var(--fill-color);\n",
              "    border-color: transparent;\n",
              "    border-bottom-color: var(--fill-color);\n",
              "    animation:\n",
              "      spin 1s steps(1) infinite;\n",
              "  }\n",
              "\n",
              "  @keyframes spin {\n",
              "    0% {\n",
              "      border-color: transparent;\n",
              "      border-bottom-color: var(--fill-color);\n",
              "      border-left-color: var(--fill-color);\n",
              "    }\n",
              "    20% {\n",
              "      border-color: transparent;\n",
              "      border-left-color: var(--fill-color);\n",
              "      border-top-color: var(--fill-color);\n",
              "    }\n",
              "    30% {\n",
              "      border-color: transparent;\n",
              "      border-left-color: var(--fill-color);\n",
              "      border-top-color: var(--fill-color);\n",
              "      border-right-color: var(--fill-color);\n",
              "    }\n",
              "    40% {\n",
              "      border-color: transparent;\n",
              "      border-right-color: var(--fill-color);\n",
              "      border-top-color: var(--fill-color);\n",
              "    }\n",
              "    60% {\n",
              "      border-color: transparent;\n",
              "      border-right-color: var(--fill-color);\n",
              "    }\n",
              "    80% {\n",
              "      border-color: transparent;\n",
              "      border-right-color: var(--fill-color);\n",
              "      border-bottom-color: var(--fill-color);\n",
              "    }\n",
              "    90% {\n",
              "      border-color: transparent;\n",
              "      border-bottom-color: var(--fill-color);\n",
              "    }\n",
              "  }\n",
              "</style>\n",
              "\n",
              "  <script>\n",
              "    async function quickchart(key) {\n",
              "      const quickchartButtonEl =\n",
              "        document.querySelector('#' + key + ' button');\n",
              "      quickchartButtonEl.disabled = true;  // To prevent multiple clicks.\n",
              "      quickchartButtonEl.classList.add('colab-df-spinner');\n",
              "      try {\n",
              "        const charts = await google.colab.kernel.invokeFunction(\n",
              "            'suggestCharts', [key], {});\n",
              "      } catch (error) {\n",
              "        console.error('Error during call to suggestCharts:', error);\n",
              "      }\n",
              "      quickchartButtonEl.classList.remove('colab-df-spinner');\n",
              "      quickchartButtonEl.classList.add('colab-df-quickchart-complete');\n",
              "    }\n",
              "    (() => {\n",
              "      let quickchartButtonEl =\n",
              "        document.querySelector('#df-d2a1a6e1-36df-4061-9ac8-7d2535fd5059 button');\n",
              "      quickchartButtonEl.style.display =\n",
              "        google.colab.kernel.accessAllowed ? 'block' : 'none';\n",
              "    })();\n",
              "  </script>\n",
              "</div>\n",
              "    </div>\n",
              "  </div>\n"
            ],
            "application/vnd.google.colaboratory.intrinsic+json": {
              "type": "dataframe",
              "variable_name": "insurance_one_hot",
              "summary": "{\n  \"name\": \"insurance_one_hot\",\n  \"rows\": 1338,\n  \"fields\": [\n    {\n      \"column\": \"age\",\n      \"properties\": {\n        \"dtype\": \"number\",\n        \"std\": 14,\n        \"min\": 18,\n        \"max\": 64,\n        \"num_unique_values\": 47,\n        \"samples\": [\n          21,\n          45,\n          36\n        ],\n        \"semantic_type\": \"\",\n        \"description\": \"\"\n      }\n    },\n    {\n      \"column\": \"bmi\",\n      \"properties\": {\n        \"dtype\": \"number\",\n        \"std\": 6.098186911679014,\n        \"min\": 15.96,\n        \"max\": 53.13,\n        \"num_unique_values\": 548,\n        \"samples\": [\n          23.18,\n          26.885,\n          29.26\n        ],\n        \"semantic_type\": \"\",\n        \"description\": \"\"\n      }\n    },\n    {\n      \"column\": \"children\",\n      \"properties\": {\n        \"dtype\": \"number\",\n        \"std\": 1,\n        \"min\": 0,\n        \"max\": 5,\n        \"num_unique_values\": 6,\n        \"samples\": [\n          0,\n          1,\n          4\n        ],\n        \"semantic_type\": \"\",\n        \"description\": \"\"\n      }\n    },\n    {\n      \"column\": \"charges\",\n      \"properties\": {\n        \"dtype\": \"number\",\n        \"std\": 12110.011236694001,\n        \"min\": 1121.8739,\n        \"max\": 63770.42801,\n        \"num_unique_values\": 1337,\n        \"samples\": [\n          8688.85885,\n          5708.867,\n          11436.73815\n        ],\n        \"semantic_type\": \"\",\n        \"description\": \"\"\n      }\n    },\n    {\n      \"column\": \"sex_female\",\n      \"properties\": {\n        \"dtype\": \"uint8\",\n        \"num_unique_values\": 2,\n        \"samples\": [\n          0,\n          1\n        ],\n        \"semantic_type\": \"\",\n        \"description\": \"\"\n      }\n    },\n    {\n      \"column\": \"sex_male\",\n      \"properties\": {\n        \"dtype\": \"uint8\",\n        \"num_unique_values\": 2,\n        \"samples\": [\n          1,\n          0\n        ],\n        \"semantic_type\": \"\",\n        \"description\": \"\"\n      }\n    },\n    {\n      \"column\": \"smoker_no\",\n      \"properties\": {\n        \"dtype\": \"uint8\",\n        \"num_unique_values\": 2,\n        \"samples\": [\n          1,\n          0\n        ],\n        \"semantic_type\": \"\",\n        \"description\": \"\"\n      }\n    },\n    {\n      \"column\": \"smoker_yes\",\n      \"properties\": {\n        \"dtype\": \"uint8\",\n        \"num_unique_values\": 2,\n        \"samples\": [\n          0,\n          1\n        ],\n        \"semantic_type\": \"\",\n        \"description\": \"\"\n      }\n    },\n    {\n      \"column\": \"region_northeast\",\n      \"properties\": {\n        \"dtype\": \"uint8\",\n        \"num_unique_values\": 2,\n        \"samples\": [\n          1,\n          0\n        ],\n        \"semantic_type\": \"\",\n        \"description\": \"\"\n      }\n    },\n    {\n      \"column\": \"region_northwest\",\n      \"properties\": {\n        \"dtype\": \"uint8\",\n        \"num_unique_values\": 2,\n        \"samples\": [\n          1,\n          0\n        ],\n        \"semantic_type\": \"\",\n        \"description\": \"\"\n      }\n    },\n    {\n      \"column\": \"region_southeast\",\n      \"properties\": {\n        \"dtype\": \"uint8\",\n        \"num_unique_values\": 2,\n        \"samples\": [\n          1,\n          0\n        ],\n        \"semantic_type\": \"\",\n        \"description\": \"\"\n      }\n    },\n    {\n      \"column\": \"region_southwest\",\n      \"properties\": {\n        \"dtype\": \"uint8\",\n        \"num_unique_values\": 2,\n        \"samples\": [\n          0,\n          1\n        ],\n        \"semantic_type\": \"\",\n        \"description\": \"\"\n      }\n    }\n  ]\n}"
            }
          },
          "metadata": {},
          "execution_count": 80
        }
      ]
    },
    {
      "cell_type": "markdown",
      "source": [
        "### Create X & Y Values (Features and labels)"
      ],
      "metadata": {
        "id": "O2wYeWe3p51_"
      }
    },
    {
      "cell_type": "code",
      "source": [
        "# Create X and Y\n",
        "x = insurance_one_hot.drop(\"charges\", axis=1)\n",
        "y = insurance_one_hot[\"charges\"]"
      ],
      "metadata": {
        "id": "lL96lpLTpqds"
      },
      "execution_count": 81,
      "outputs": []
    },
    {
      "cell_type": "code",
      "source": [
        "# view x\n",
        "x.head()"
      ],
      "metadata": {
        "colab": {
          "base_uri": "https://localhost:8080/",
          "height": 206
        },
        "id": "kg7Hm_PdRVv-",
        "outputId": "cc69441e-cac0-436a-a635-5562e5cb238e"
      },
      "execution_count": 82,
      "outputs": [
        {
          "output_type": "execute_result",
          "data": {
            "text/plain": [
              "   age     bmi  children  sex_female  sex_male  smoker_no  smoker_yes  \\\n",
              "0   19  27.900         0           1         0          0           1   \n",
              "1   18  33.770         1           0         1          1           0   \n",
              "2   28  33.000         3           0         1          1           0   \n",
              "3   33  22.705         0           0         1          1           0   \n",
              "4   32  28.880         0           0         1          1           0   \n",
              "\n",
              "   region_northeast  region_northwest  region_southeast  region_southwest  \n",
              "0                 0                 0                 0                 1  \n",
              "1                 0                 0                 1                 0  \n",
              "2                 0                 0                 1                 0  \n",
              "3                 0                 1                 0                 0  \n",
              "4                 0                 1                 0                 0  "
            ],
            "text/html": [
              "\n",
              "  <div id=\"df-4190968f-4854-4a79-902c-72f5cfd5b08d\" class=\"colab-df-container\">\n",
              "    <div>\n",
              "<style scoped>\n",
              "    .dataframe tbody tr th:only-of-type {\n",
              "        vertical-align: middle;\n",
              "    }\n",
              "\n",
              "    .dataframe tbody tr th {\n",
              "        vertical-align: top;\n",
              "    }\n",
              "\n",
              "    .dataframe thead th {\n",
              "        text-align: right;\n",
              "    }\n",
              "</style>\n",
              "<table border=\"1\" class=\"dataframe\">\n",
              "  <thead>\n",
              "    <tr style=\"text-align: right;\">\n",
              "      <th></th>\n",
              "      <th>age</th>\n",
              "      <th>bmi</th>\n",
              "      <th>children</th>\n",
              "      <th>sex_female</th>\n",
              "      <th>sex_male</th>\n",
              "      <th>smoker_no</th>\n",
              "      <th>smoker_yes</th>\n",
              "      <th>region_northeast</th>\n",
              "      <th>region_northwest</th>\n",
              "      <th>region_southeast</th>\n",
              "      <th>region_southwest</th>\n",
              "    </tr>\n",
              "  </thead>\n",
              "  <tbody>\n",
              "    <tr>\n",
              "      <th>0</th>\n",
              "      <td>19</td>\n",
              "      <td>27.900</td>\n",
              "      <td>0</td>\n",
              "      <td>1</td>\n",
              "      <td>0</td>\n",
              "      <td>0</td>\n",
              "      <td>1</td>\n",
              "      <td>0</td>\n",
              "      <td>0</td>\n",
              "      <td>0</td>\n",
              "      <td>1</td>\n",
              "    </tr>\n",
              "    <tr>\n",
              "      <th>1</th>\n",
              "      <td>18</td>\n",
              "      <td>33.770</td>\n",
              "      <td>1</td>\n",
              "      <td>0</td>\n",
              "      <td>1</td>\n",
              "      <td>1</td>\n",
              "      <td>0</td>\n",
              "      <td>0</td>\n",
              "      <td>0</td>\n",
              "      <td>1</td>\n",
              "      <td>0</td>\n",
              "    </tr>\n",
              "    <tr>\n",
              "      <th>2</th>\n",
              "      <td>28</td>\n",
              "      <td>33.000</td>\n",
              "      <td>3</td>\n",
              "      <td>0</td>\n",
              "      <td>1</td>\n",
              "      <td>1</td>\n",
              "      <td>0</td>\n",
              "      <td>0</td>\n",
              "      <td>0</td>\n",
              "      <td>1</td>\n",
              "      <td>0</td>\n",
              "    </tr>\n",
              "    <tr>\n",
              "      <th>3</th>\n",
              "      <td>33</td>\n",
              "      <td>22.705</td>\n",
              "      <td>0</td>\n",
              "      <td>0</td>\n",
              "      <td>1</td>\n",
              "      <td>1</td>\n",
              "      <td>0</td>\n",
              "      <td>0</td>\n",
              "      <td>1</td>\n",
              "      <td>0</td>\n",
              "      <td>0</td>\n",
              "    </tr>\n",
              "    <tr>\n",
              "      <th>4</th>\n",
              "      <td>32</td>\n",
              "      <td>28.880</td>\n",
              "      <td>0</td>\n",
              "      <td>0</td>\n",
              "      <td>1</td>\n",
              "      <td>1</td>\n",
              "      <td>0</td>\n",
              "      <td>0</td>\n",
              "      <td>1</td>\n",
              "      <td>0</td>\n",
              "      <td>0</td>\n",
              "    </tr>\n",
              "  </tbody>\n",
              "</table>\n",
              "</div>\n",
              "    <div class=\"colab-df-buttons\">\n",
              "\n",
              "  <div class=\"colab-df-container\">\n",
              "    <button class=\"colab-df-convert\" onclick=\"convertToInteractive('df-4190968f-4854-4a79-902c-72f5cfd5b08d')\"\n",
              "            title=\"Convert this dataframe to an interactive table.\"\n",
              "            style=\"display:none;\">\n",
              "\n",
              "  <svg xmlns=\"http://www.w3.org/2000/svg\" height=\"24px\" viewBox=\"0 -960 960 960\">\n",
              "    <path d=\"M120-120v-720h720v720H120Zm60-500h600v-160H180v160Zm220 220h160v-160H400v160Zm0 220h160v-160H400v160ZM180-400h160v-160H180v160Zm440 0h160v-160H620v160ZM180-180h160v-160H180v160Zm440 0h160v-160H620v160Z\"/>\n",
              "  </svg>\n",
              "    </button>\n",
              "\n",
              "  <style>\n",
              "    .colab-df-container {\n",
              "      display:flex;\n",
              "      gap: 12px;\n",
              "    }\n",
              "\n",
              "    .colab-df-convert {\n",
              "      background-color: #E8F0FE;\n",
              "      border: none;\n",
              "      border-radius: 50%;\n",
              "      cursor: pointer;\n",
              "      display: none;\n",
              "      fill: #1967D2;\n",
              "      height: 32px;\n",
              "      padding: 0 0 0 0;\n",
              "      width: 32px;\n",
              "    }\n",
              "\n",
              "    .colab-df-convert:hover {\n",
              "      background-color: #E2EBFA;\n",
              "      box-shadow: 0px 1px 2px rgba(60, 64, 67, 0.3), 0px 1px 3px 1px rgba(60, 64, 67, 0.15);\n",
              "      fill: #174EA6;\n",
              "    }\n",
              "\n",
              "    .colab-df-buttons div {\n",
              "      margin-bottom: 4px;\n",
              "    }\n",
              "\n",
              "    [theme=dark] .colab-df-convert {\n",
              "      background-color: #3B4455;\n",
              "      fill: #D2E3FC;\n",
              "    }\n",
              "\n",
              "    [theme=dark] .colab-df-convert:hover {\n",
              "      background-color: #434B5C;\n",
              "      box-shadow: 0px 1px 3px 1px rgba(0, 0, 0, 0.15);\n",
              "      filter: drop-shadow(0px 1px 2px rgba(0, 0, 0, 0.3));\n",
              "      fill: #FFFFFF;\n",
              "    }\n",
              "  </style>\n",
              "\n",
              "    <script>\n",
              "      const buttonEl =\n",
              "        document.querySelector('#df-4190968f-4854-4a79-902c-72f5cfd5b08d button.colab-df-convert');\n",
              "      buttonEl.style.display =\n",
              "        google.colab.kernel.accessAllowed ? 'block' : 'none';\n",
              "\n",
              "      async function convertToInteractive(key) {\n",
              "        const element = document.querySelector('#df-4190968f-4854-4a79-902c-72f5cfd5b08d');\n",
              "        const dataTable =\n",
              "          await google.colab.kernel.invokeFunction('convertToInteractive',\n",
              "                                                    [key], {});\n",
              "        if (!dataTable) return;\n",
              "\n",
              "        const docLinkHtml = 'Like what you see? Visit the ' +\n",
              "          '<a target=\"_blank\" href=https://colab.research.google.com/notebooks/data_table.ipynb>data table notebook</a>'\n",
              "          + ' to learn more about interactive tables.';\n",
              "        element.innerHTML = '';\n",
              "        dataTable['output_type'] = 'display_data';\n",
              "        await google.colab.output.renderOutput(dataTable, element);\n",
              "        const docLink = document.createElement('div');\n",
              "        docLink.innerHTML = docLinkHtml;\n",
              "        element.appendChild(docLink);\n",
              "      }\n",
              "    </script>\n",
              "  </div>\n",
              "\n",
              "\n",
              "<div id=\"df-8373f634-4e5a-49d9-8961-ab2e51f0e41a\">\n",
              "  <button class=\"colab-df-quickchart\" onclick=\"quickchart('df-8373f634-4e5a-49d9-8961-ab2e51f0e41a')\"\n",
              "            title=\"Suggest charts\"\n",
              "            style=\"display:none;\">\n",
              "\n",
              "<svg xmlns=\"http://www.w3.org/2000/svg\" height=\"24px\"viewBox=\"0 0 24 24\"\n",
              "     width=\"24px\">\n",
              "    <g>\n",
              "        <path d=\"M19 3H5c-1.1 0-2 .9-2 2v14c0 1.1.9 2 2 2h14c1.1 0 2-.9 2-2V5c0-1.1-.9-2-2-2zM9 17H7v-7h2v7zm4 0h-2V7h2v10zm4 0h-2v-4h2v4z\"/>\n",
              "    </g>\n",
              "</svg>\n",
              "  </button>\n",
              "\n",
              "<style>\n",
              "  .colab-df-quickchart {\n",
              "      --bg-color: #E8F0FE;\n",
              "      --fill-color: #1967D2;\n",
              "      --hover-bg-color: #E2EBFA;\n",
              "      --hover-fill-color: #174EA6;\n",
              "      --disabled-fill-color: #AAA;\n",
              "      --disabled-bg-color: #DDD;\n",
              "  }\n",
              "\n",
              "  [theme=dark] .colab-df-quickchart {\n",
              "      --bg-color: #3B4455;\n",
              "      --fill-color: #D2E3FC;\n",
              "      --hover-bg-color: #434B5C;\n",
              "      --hover-fill-color: #FFFFFF;\n",
              "      --disabled-bg-color: #3B4455;\n",
              "      --disabled-fill-color: #666;\n",
              "  }\n",
              "\n",
              "  .colab-df-quickchart {\n",
              "    background-color: var(--bg-color);\n",
              "    border: none;\n",
              "    border-radius: 50%;\n",
              "    cursor: pointer;\n",
              "    display: none;\n",
              "    fill: var(--fill-color);\n",
              "    height: 32px;\n",
              "    padding: 0;\n",
              "    width: 32px;\n",
              "  }\n",
              "\n",
              "  .colab-df-quickchart:hover {\n",
              "    background-color: var(--hover-bg-color);\n",
              "    box-shadow: 0 1px 2px rgba(60, 64, 67, 0.3), 0 1px 3px 1px rgba(60, 64, 67, 0.15);\n",
              "    fill: var(--button-hover-fill-color);\n",
              "  }\n",
              "\n",
              "  .colab-df-quickchart-complete:disabled,\n",
              "  .colab-df-quickchart-complete:disabled:hover {\n",
              "    background-color: var(--disabled-bg-color);\n",
              "    fill: var(--disabled-fill-color);\n",
              "    box-shadow: none;\n",
              "  }\n",
              "\n",
              "  .colab-df-spinner {\n",
              "    border: 2px solid var(--fill-color);\n",
              "    border-color: transparent;\n",
              "    border-bottom-color: var(--fill-color);\n",
              "    animation:\n",
              "      spin 1s steps(1) infinite;\n",
              "  }\n",
              "\n",
              "  @keyframes spin {\n",
              "    0% {\n",
              "      border-color: transparent;\n",
              "      border-bottom-color: var(--fill-color);\n",
              "      border-left-color: var(--fill-color);\n",
              "    }\n",
              "    20% {\n",
              "      border-color: transparent;\n",
              "      border-left-color: var(--fill-color);\n",
              "      border-top-color: var(--fill-color);\n",
              "    }\n",
              "    30% {\n",
              "      border-color: transparent;\n",
              "      border-left-color: var(--fill-color);\n",
              "      border-top-color: var(--fill-color);\n",
              "      border-right-color: var(--fill-color);\n",
              "    }\n",
              "    40% {\n",
              "      border-color: transparent;\n",
              "      border-right-color: var(--fill-color);\n",
              "      border-top-color: var(--fill-color);\n",
              "    }\n",
              "    60% {\n",
              "      border-color: transparent;\n",
              "      border-right-color: var(--fill-color);\n",
              "    }\n",
              "    80% {\n",
              "      border-color: transparent;\n",
              "      border-right-color: var(--fill-color);\n",
              "      border-bottom-color: var(--fill-color);\n",
              "    }\n",
              "    90% {\n",
              "      border-color: transparent;\n",
              "      border-bottom-color: var(--fill-color);\n",
              "    }\n",
              "  }\n",
              "</style>\n",
              "\n",
              "  <script>\n",
              "    async function quickchart(key) {\n",
              "      const quickchartButtonEl =\n",
              "        document.querySelector('#' + key + ' button');\n",
              "      quickchartButtonEl.disabled = true;  // To prevent multiple clicks.\n",
              "      quickchartButtonEl.classList.add('colab-df-spinner');\n",
              "      try {\n",
              "        const charts = await google.colab.kernel.invokeFunction(\n",
              "            'suggestCharts', [key], {});\n",
              "      } catch (error) {\n",
              "        console.error('Error during call to suggestCharts:', error);\n",
              "      }\n",
              "      quickchartButtonEl.classList.remove('colab-df-spinner');\n",
              "      quickchartButtonEl.classList.add('colab-df-quickchart-complete');\n",
              "    }\n",
              "    (() => {\n",
              "      let quickchartButtonEl =\n",
              "        document.querySelector('#df-8373f634-4e5a-49d9-8961-ab2e51f0e41a button');\n",
              "      quickchartButtonEl.style.display =\n",
              "        google.colab.kernel.accessAllowed ? 'block' : 'none';\n",
              "    })();\n",
              "  </script>\n",
              "</div>\n",
              "    </div>\n",
              "  </div>\n"
            ],
            "application/vnd.google.colaboratory.intrinsic+json": {
              "type": "dataframe",
              "variable_name": "x",
              "summary": "{\n  \"name\": \"x\",\n  \"rows\": 1338,\n  \"fields\": [\n    {\n      \"column\": \"age\",\n      \"properties\": {\n        \"dtype\": \"number\",\n        \"std\": 14,\n        \"min\": 18,\n        \"max\": 64,\n        \"num_unique_values\": 47,\n        \"samples\": [\n          21,\n          45,\n          36\n        ],\n        \"semantic_type\": \"\",\n        \"description\": \"\"\n      }\n    },\n    {\n      \"column\": \"bmi\",\n      \"properties\": {\n        \"dtype\": \"number\",\n        \"std\": 6.098186911679014,\n        \"min\": 15.96,\n        \"max\": 53.13,\n        \"num_unique_values\": 548,\n        \"samples\": [\n          23.18,\n          26.885,\n          29.26\n        ],\n        \"semantic_type\": \"\",\n        \"description\": \"\"\n      }\n    },\n    {\n      \"column\": \"children\",\n      \"properties\": {\n        \"dtype\": \"number\",\n        \"std\": 1,\n        \"min\": 0,\n        \"max\": 5,\n        \"num_unique_values\": 6,\n        \"samples\": [\n          0,\n          1,\n          4\n        ],\n        \"semantic_type\": \"\",\n        \"description\": \"\"\n      }\n    },\n    {\n      \"column\": \"sex_female\",\n      \"properties\": {\n        \"dtype\": \"uint8\",\n        \"num_unique_values\": 2,\n        \"samples\": [\n          0,\n          1\n        ],\n        \"semantic_type\": \"\",\n        \"description\": \"\"\n      }\n    },\n    {\n      \"column\": \"sex_male\",\n      \"properties\": {\n        \"dtype\": \"uint8\",\n        \"num_unique_values\": 2,\n        \"samples\": [\n          1,\n          0\n        ],\n        \"semantic_type\": \"\",\n        \"description\": \"\"\n      }\n    },\n    {\n      \"column\": \"smoker_no\",\n      \"properties\": {\n        \"dtype\": \"uint8\",\n        \"num_unique_values\": 2,\n        \"samples\": [\n          1,\n          0\n        ],\n        \"semantic_type\": \"\",\n        \"description\": \"\"\n      }\n    },\n    {\n      \"column\": \"smoker_yes\",\n      \"properties\": {\n        \"dtype\": \"uint8\",\n        \"num_unique_values\": 2,\n        \"samples\": [\n          0,\n          1\n        ],\n        \"semantic_type\": \"\",\n        \"description\": \"\"\n      }\n    },\n    {\n      \"column\": \"region_northeast\",\n      \"properties\": {\n        \"dtype\": \"uint8\",\n        \"num_unique_values\": 2,\n        \"samples\": [\n          1,\n          0\n        ],\n        \"semantic_type\": \"\",\n        \"description\": \"\"\n      }\n    },\n    {\n      \"column\": \"region_northwest\",\n      \"properties\": {\n        \"dtype\": \"uint8\",\n        \"num_unique_values\": 2,\n        \"samples\": [\n          1,\n          0\n        ],\n        \"semantic_type\": \"\",\n        \"description\": \"\"\n      }\n    },\n    {\n      \"column\": \"region_southeast\",\n      \"properties\": {\n        \"dtype\": \"uint8\",\n        \"num_unique_values\": 2,\n        \"samples\": [\n          1,\n          0\n        ],\n        \"semantic_type\": \"\",\n        \"description\": \"\"\n      }\n    },\n    {\n      \"column\": \"region_southwest\",\n      \"properties\": {\n        \"dtype\": \"uint8\",\n        \"num_unique_values\": 2,\n        \"samples\": [\n          0,\n          1\n        ],\n        \"semantic_type\": \"\",\n        \"description\": \"\"\n      }\n    }\n  ]\n}"
            }
          },
          "metadata": {},
          "execution_count": 82
        }
      ]
    },
    {
      "cell_type": "code",
      "source": [
        "# view y\n",
        "y.head()"
      ],
      "metadata": {
        "colab": {
          "base_uri": "https://localhost:8080/"
        },
        "id": "sU6fprWLRol2",
        "outputId": "1c506bbb-a751-49c2-9a23-b87a431ddfba"
      },
      "execution_count": 83,
      "outputs": [
        {
          "output_type": "execute_result",
          "data": {
            "text/plain": [
              "0    16884.92400\n",
              "1     1725.55230\n",
              "2     4449.46200\n",
              "3    21984.47061\n",
              "4     3866.85520\n",
              "Name: charges, dtype: float64"
            ]
          },
          "metadata": {},
          "execution_count": 83
        }
      ]
    },
    {
      "cell_type": "code",
      "source": [
        "# Create training and test sets\n",
        "\n",
        "from sklearn.model_selection import train_test_split\n",
        "\n",
        "x_train, x_test, y_train, y_test = train_test_split(x, y,test_size=0.2, random_state=42)\n",
        "len(x), len(x_train), len(x_test)\n"
      ],
      "metadata": {
        "colab": {
          "base_uri": "https://localhost:8080/"
        },
        "id": "S1784bQaXLGY",
        "outputId": "353768fa-3f10-4a4f-9ed7-04b8482af332"
      },
      "execution_count": 84,
      "outputs": [
        {
          "output_type": "execute_result",
          "data": {
            "text/plain": [
              "(1338, 1070, 268)"
            ]
          },
          "metadata": {},
          "execution_count": 84
        }
      ]
    },
    {
      "cell_type": "code",
      "source": [
        "x_train"
      ],
      "metadata": {
        "colab": {
          "base_uri": "https://localhost:8080/",
          "height": 424
        },
        "id": "d5gYWBwAYb9E",
        "outputId": "430fc359-a1fe-4f61-87ac-5d0f48daf03f"
      },
      "execution_count": 85,
      "outputs": [
        {
          "output_type": "execute_result",
          "data": {
            "text/plain": [
              "      age     bmi  children  sex_female  sex_male  smoker_no  smoker_yes  \\\n",
              "560    46  19.950         2           1         0          1           0   \n",
              "1285   47  24.320         0           1         0          1           0   \n",
              "1142   52  24.860         0           1         0          1           0   \n",
              "969    39  34.320         5           1         0          1           0   \n",
              "486    54  21.470         3           1         0          1           0   \n",
              "...   ...     ...       ...         ...       ...        ...         ...   \n",
              "1095   18  31.350         4           1         0          1           0   \n",
              "1130   39  23.870         5           1         0          1           0   \n",
              "1294   58  25.175         0           0         1          1           0   \n",
              "860    37  47.600         2           1         0          0           1   \n",
              "1126   55  29.900         0           0         1          1           0   \n",
              "\n",
              "      region_northeast  region_northwest  region_southeast  region_southwest  \n",
              "560                  0                 1                 0                 0  \n",
              "1285                 1                 0                 0                 0  \n",
              "1142                 0                 0                 1                 0  \n",
              "969                  0                 0                 1                 0  \n",
              "486                  0                 1                 0                 0  \n",
              "...                ...               ...               ...               ...  \n",
              "1095                 1                 0                 0                 0  \n",
              "1130                 0                 0                 1                 0  \n",
              "1294                 1                 0                 0                 0  \n",
              "860                  0                 0                 0                 1  \n",
              "1126                 0                 0                 0                 1  \n",
              "\n",
              "[1070 rows x 11 columns]"
            ],
            "text/html": [
              "\n",
              "  <div id=\"df-357feee6-2e1e-4daa-aec0-8be1d6bcb8a6\" class=\"colab-df-container\">\n",
              "    <div>\n",
              "<style scoped>\n",
              "    .dataframe tbody tr th:only-of-type {\n",
              "        vertical-align: middle;\n",
              "    }\n",
              "\n",
              "    .dataframe tbody tr th {\n",
              "        vertical-align: top;\n",
              "    }\n",
              "\n",
              "    .dataframe thead th {\n",
              "        text-align: right;\n",
              "    }\n",
              "</style>\n",
              "<table border=\"1\" class=\"dataframe\">\n",
              "  <thead>\n",
              "    <tr style=\"text-align: right;\">\n",
              "      <th></th>\n",
              "      <th>age</th>\n",
              "      <th>bmi</th>\n",
              "      <th>children</th>\n",
              "      <th>sex_female</th>\n",
              "      <th>sex_male</th>\n",
              "      <th>smoker_no</th>\n",
              "      <th>smoker_yes</th>\n",
              "      <th>region_northeast</th>\n",
              "      <th>region_northwest</th>\n",
              "      <th>region_southeast</th>\n",
              "      <th>region_southwest</th>\n",
              "    </tr>\n",
              "  </thead>\n",
              "  <tbody>\n",
              "    <tr>\n",
              "      <th>560</th>\n",
              "      <td>46</td>\n",
              "      <td>19.950</td>\n",
              "      <td>2</td>\n",
              "      <td>1</td>\n",
              "      <td>0</td>\n",
              "      <td>1</td>\n",
              "      <td>0</td>\n",
              "      <td>0</td>\n",
              "      <td>1</td>\n",
              "      <td>0</td>\n",
              "      <td>0</td>\n",
              "    </tr>\n",
              "    <tr>\n",
              "      <th>1285</th>\n",
              "      <td>47</td>\n",
              "      <td>24.320</td>\n",
              "      <td>0</td>\n",
              "      <td>1</td>\n",
              "      <td>0</td>\n",
              "      <td>1</td>\n",
              "      <td>0</td>\n",
              "      <td>1</td>\n",
              "      <td>0</td>\n",
              "      <td>0</td>\n",
              "      <td>0</td>\n",
              "    </tr>\n",
              "    <tr>\n",
              "      <th>1142</th>\n",
              "      <td>52</td>\n",
              "      <td>24.860</td>\n",
              "      <td>0</td>\n",
              "      <td>1</td>\n",
              "      <td>0</td>\n",
              "      <td>1</td>\n",
              "      <td>0</td>\n",
              "      <td>0</td>\n",
              "      <td>0</td>\n",
              "      <td>1</td>\n",
              "      <td>0</td>\n",
              "    </tr>\n",
              "    <tr>\n",
              "      <th>969</th>\n",
              "      <td>39</td>\n",
              "      <td>34.320</td>\n",
              "      <td>5</td>\n",
              "      <td>1</td>\n",
              "      <td>0</td>\n",
              "      <td>1</td>\n",
              "      <td>0</td>\n",
              "      <td>0</td>\n",
              "      <td>0</td>\n",
              "      <td>1</td>\n",
              "      <td>0</td>\n",
              "    </tr>\n",
              "    <tr>\n",
              "      <th>486</th>\n",
              "      <td>54</td>\n",
              "      <td>21.470</td>\n",
              "      <td>3</td>\n",
              "      <td>1</td>\n",
              "      <td>0</td>\n",
              "      <td>1</td>\n",
              "      <td>0</td>\n",
              "      <td>0</td>\n",
              "      <td>1</td>\n",
              "      <td>0</td>\n",
              "      <td>0</td>\n",
              "    </tr>\n",
              "    <tr>\n",
              "      <th>...</th>\n",
              "      <td>...</td>\n",
              "      <td>...</td>\n",
              "      <td>...</td>\n",
              "      <td>...</td>\n",
              "      <td>...</td>\n",
              "      <td>...</td>\n",
              "      <td>...</td>\n",
              "      <td>...</td>\n",
              "      <td>...</td>\n",
              "      <td>...</td>\n",
              "      <td>...</td>\n",
              "    </tr>\n",
              "    <tr>\n",
              "      <th>1095</th>\n",
              "      <td>18</td>\n",
              "      <td>31.350</td>\n",
              "      <td>4</td>\n",
              "      <td>1</td>\n",
              "      <td>0</td>\n",
              "      <td>1</td>\n",
              "      <td>0</td>\n",
              "      <td>1</td>\n",
              "      <td>0</td>\n",
              "      <td>0</td>\n",
              "      <td>0</td>\n",
              "    </tr>\n",
              "    <tr>\n",
              "      <th>1130</th>\n",
              "      <td>39</td>\n",
              "      <td>23.870</td>\n",
              "      <td>5</td>\n",
              "      <td>1</td>\n",
              "      <td>0</td>\n",
              "      <td>1</td>\n",
              "      <td>0</td>\n",
              "      <td>0</td>\n",
              "      <td>0</td>\n",
              "      <td>1</td>\n",
              "      <td>0</td>\n",
              "    </tr>\n",
              "    <tr>\n",
              "      <th>1294</th>\n",
              "      <td>58</td>\n",
              "      <td>25.175</td>\n",
              "      <td>0</td>\n",
              "      <td>0</td>\n",
              "      <td>1</td>\n",
              "      <td>1</td>\n",
              "      <td>0</td>\n",
              "      <td>1</td>\n",
              "      <td>0</td>\n",
              "      <td>0</td>\n",
              "      <td>0</td>\n",
              "    </tr>\n",
              "    <tr>\n",
              "      <th>860</th>\n",
              "      <td>37</td>\n",
              "      <td>47.600</td>\n",
              "      <td>2</td>\n",
              "      <td>1</td>\n",
              "      <td>0</td>\n",
              "      <td>0</td>\n",
              "      <td>1</td>\n",
              "      <td>0</td>\n",
              "      <td>0</td>\n",
              "      <td>0</td>\n",
              "      <td>1</td>\n",
              "    </tr>\n",
              "    <tr>\n",
              "      <th>1126</th>\n",
              "      <td>55</td>\n",
              "      <td>29.900</td>\n",
              "      <td>0</td>\n",
              "      <td>0</td>\n",
              "      <td>1</td>\n",
              "      <td>1</td>\n",
              "      <td>0</td>\n",
              "      <td>0</td>\n",
              "      <td>0</td>\n",
              "      <td>0</td>\n",
              "      <td>1</td>\n",
              "    </tr>\n",
              "  </tbody>\n",
              "</table>\n",
              "<p>1070 rows × 11 columns</p>\n",
              "</div>\n",
              "    <div class=\"colab-df-buttons\">\n",
              "\n",
              "  <div class=\"colab-df-container\">\n",
              "    <button class=\"colab-df-convert\" onclick=\"convertToInteractive('df-357feee6-2e1e-4daa-aec0-8be1d6bcb8a6')\"\n",
              "            title=\"Convert this dataframe to an interactive table.\"\n",
              "            style=\"display:none;\">\n",
              "\n",
              "  <svg xmlns=\"http://www.w3.org/2000/svg\" height=\"24px\" viewBox=\"0 -960 960 960\">\n",
              "    <path d=\"M120-120v-720h720v720H120Zm60-500h600v-160H180v160Zm220 220h160v-160H400v160Zm0 220h160v-160H400v160ZM180-400h160v-160H180v160Zm440 0h160v-160H620v160ZM180-180h160v-160H180v160Zm440 0h160v-160H620v160Z\"/>\n",
              "  </svg>\n",
              "    </button>\n",
              "\n",
              "  <style>\n",
              "    .colab-df-container {\n",
              "      display:flex;\n",
              "      gap: 12px;\n",
              "    }\n",
              "\n",
              "    .colab-df-convert {\n",
              "      background-color: #E8F0FE;\n",
              "      border: none;\n",
              "      border-radius: 50%;\n",
              "      cursor: pointer;\n",
              "      display: none;\n",
              "      fill: #1967D2;\n",
              "      height: 32px;\n",
              "      padding: 0 0 0 0;\n",
              "      width: 32px;\n",
              "    }\n",
              "\n",
              "    .colab-df-convert:hover {\n",
              "      background-color: #E2EBFA;\n",
              "      box-shadow: 0px 1px 2px rgba(60, 64, 67, 0.3), 0px 1px 3px 1px rgba(60, 64, 67, 0.15);\n",
              "      fill: #174EA6;\n",
              "    }\n",
              "\n",
              "    .colab-df-buttons div {\n",
              "      margin-bottom: 4px;\n",
              "    }\n",
              "\n",
              "    [theme=dark] .colab-df-convert {\n",
              "      background-color: #3B4455;\n",
              "      fill: #D2E3FC;\n",
              "    }\n",
              "\n",
              "    [theme=dark] .colab-df-convert:hover {\n",
              "      background-color: #434B5C;\n",
              "      box-shadow: 0px 1px 3px 1px rgba(0, 0, 0, 0.15);\n",
              "      filter: drop-shadow(0px 1px 2px rgba(0, 0, 0, 0.3));\n",
              "      fill: #FFFFFF;\n",
              "    }\n",
              "  </style>\n",
              "\n",
              "    <script>\n",
              "      const buttonEl =\n",
              "        document.querySelector('#df-357feee6-2e1e-4daa-aec0-8be1d6bcb8a6 button.colab-df-convert');\n",
              "      buttonEl.style.display =\n",
              "        google.colab.kernel.accessAllowed ? 'block' : 'none';\n",
              "\n",
              "      async function convertToInteractive(key) {\n",
              "        const element = document.querySelector('#df-357feee6-2e1e-4daa-aec0-8be1d6bcb8a6');\n",
              "        const dataTable =\n",
              "          await google.colab.kernel.invokeFunction('convertToInteractive',\n",
              "                                                    [key], {});\n",
              "        if (!dataTable) return;\n",
              "\n",
              "        const docLinkHtml = 'Like what you see? Visit the ' +\n",
              "          '<a target=\"_blank\" href=https://colab.research.google.com/notebooks/data_table.ipynb>data table notebook</a>'\n",
              "          + ' to learn more about interactive tables.';\n",
              "        element.innerHTML = '';\n",
              "        dataTable['output_type'] = 'display_data';\n",
              "        await google.colab.output.renderOutput(dataTable, element);\n",
              "        const docLink = document.createElement('div');\n",
              "        docLink.innerHTML = docLinkHtml;\n",
              "        element.appendChild(docLink);\n",
              "      }\n",
              "    </script>\n",
              "  </div>\n",
              "\n",
              "\n",
              "<div id=\"df-fe982bdd-8176-4d0e-aaa6-e2f5cbc767a8\">\n",
              "  <button class=\"colab-df-quickchart\" onclick=\"quickchart('df-fe982bdd-8176-4d0e-aaa6-e2f5cbc767a8')\"\n",
              "            title=\"Suggest charts\"\n",
              "            style=\"display:none;\">\n",
              "\n",
              "<svg xmlns=\"http://www.w3.org/2000/svg\" height=\"24px\"viewBox=\"0 0 24 24\"\n",
              "     width=\"24px\">\n",
              "    <g>\n",
              "        <path d=\"M19 3H5c-1.1 0-2 .9-2 2v14c0 1.1.9 2 2 2h14c1.1 0 2-.9 2-2V5c0-1.1-.9-2-2-2zM9 17H7v-7h2v7zm4 0h-2V7h2v10zm4 0h-2v-4h2v4z\"/>\n",
              "    </g>\n",
              "</svg>\n",
              "  </button>\n",
              "\n",
              "<style>\n",
              "  .colab-df-quickchart {\n",
              "      --bg-color: #E8F0FE;\n",
              "      --fill-color: #1967D2;\n",
              "      --hover-bg-color: #E2EBFA;\n",
              "      --hover-fill-color: #174EA6;\n",
              "      --disabled-fill-color: #AAA;\n",
              "      --disabled-bg-color: #DDD;\n",
              "  }\n",
              "\n",
              "  [theme=dark] .colab-df-quickchart {\n",
              "      --bg-color: #3B4455;\n",
              "      --fill-color: #D2E3FC;\n",
              "      --hover-bg-color: #434B5C;\n",
              "      --hover-fill-color: #FFFFFF;\n",
              "      --disabled-bg-color: #3B4455;\n",
              "      --disabled-fill-color: #666;\n",
              "  }\n",
              "\n",
              "  .colab-df-quickchart {\n",
              "    background-color: var(--bg-color);\n",
              "    border: none;\n",
              "    border-radius: 50%;\n",
              "    cursor: pointer;\n",
              "    display: none;\n",
              "    fill: var(--fill-color);\n",
              "    height: 32px;\n",
              "    padding: 0;\n",
              "    width: 32px;\n",
              "  }\n",
              "\n",
              "  .colab-df-quickchart:hover {\n",
              "    background-color: var(--hover-bg-color);\n",
              "    box-shadow: 0 1px 2px rgba(60, 64, 67, 0.3), 0 1px 3px 1px rgba(60, 64, 67, 0.15);\n",
              "    fill: var(--button-hover-fill-color);\n",
              "  }\n",
              "\n",
              "  .colab-df-quickchart-complete:disabled,\n",
              "  .colab-df-quickchart-complete:disabled:hover {\n",
              "    background-color: var(--disabled-bg-color);\n",
              "    fill: var(--disabled-fill-color);\n",
              "    box-shadow: none;\n",
              "  }\n",
              "\n",
              "  .colab-df-spinner {\n",
              "    border: 2px solid var(--fill-color);\n",
              "    border-color: transparent;\n",
              "    border-bottom-color: var(--fill-color);\n",
              "    animation:\n",
              "      spin 1s steps(1) infinite;\n",
              "  }\n",
              "\n",
              "  @keyframes spin {\n",
              "    0% {\n",
              "      border-color: transparent;\n",
              "      border-bottom-color: var(--fill-color);\n",
              "      border-left-color: var(--fill-color);\n",
              "    }\n",
              "    20% {\n",
              "      border-color: transparent;\n",
              "      border-left-color: var(--fill-color);\n",
              "      border-top-color: var(--fill-color);\n",
              "    }\n",
              "    30% {\n",
              "      border-color: transparent;\n",
              "      border-left-color: var(--fill-color);\n",
              "      border-top-color: var(--fill-color);\n",
              "      border-right-color: var(--fill-color);\n",
              "    }\n",
              "    40% {\n",
              "      border-color: transparent;\n",
              "      border-right-color: var(--fill-color);\n",
              "      border-top-color: var(--fill-color);\n",
              "    }\n",
              "    60% {\n",
              "      border-color: transparent;\n",
              "      border-right-color: var(--fill-color);\n",
              "    }\n",
              "    80% {\n",
              "      border-color: transparent;\n",
              "      border-right-color: var(--fill-color);\n",
              "      border-bottom-color: var(--fill-color);\n",
              "    }\n",
              "    90% {\n",
              "      border-color: transparent;\n",
              "      border-bottom-color: var(--fill-color);\n",
              "    }\n",
              "  }\n",
              "</style>\n",
              "\n",
              "  <script>\n",
              "    async function quickchart(key) {\n",
              "      const quickchartButtonEl =\n",
              "        document.querySelector('#' + key + ' button');\n",
              "      quickchartButtonEl.disabled = true;  // To prevent multiple clicks.\n",
              "      quickchartButtonEl.classList.add('colab-df-spinner');\n",
              "      try {\n",
              "        const charts = await google.colab.kernel.invokeFunction(\n",
              "            'suggestCharts', [key], {});\n",
              "      } catch (error) {\n",
              "        console.error('Error during call to suggestCharts:', error);\n",
              "      }\n",
              "      quickchartButtonEl.classList.remove('colab-df-spinner');\n",
              "      quickchartButtonEl.classList.add('colab-df-quickchart-complete');\n",
              "    }\n",
              "    (() => {\n",
              "      let quickchartButtonEl =\n",
              "        document.querySelector('#df-fe982bdd-8176-4d0e-aaa6-e2f5cbc767a8 button');\n",
              "      quickchartButtonEl.style.display =\n",
              "        google.colab.kernel.accessAllowed ? 'block' : 'none';\n",
              "    })();\n",
              "  </script>\n",
              "</div>\n",
              "    </div>\n",
              "  </div>\n"
            ],
            "application/vnd.google.colaboratory.intrinsic+json": {
              "type": "dataframe",
              "variable_name": "x_train",
              "summary": "{\n  \"name\": \"x_train\",\n  \"rows\": 1070,\n  \"fields\": [\n    {\n      \"column\": \"age\",\n      \"properties\": {\n        \"dtype\": \"number\",\n        \"std\": 14,\n        \"min\": 18,\n        \"max\": 64,\n        \"num_unique_values\": 47,\n        \"samples\": [\n          35,\n          33,\n          20\n        ],\n        \"semantic_type\": \"\",\n        \"description\": \"\"\n      }\n    },\n    {\n      \"column\": \"bmi\",\n      \"properties\": {\n        \"dtype\": \"number\",\n        \"std\": 6.043385672727495,\n        \"min\": 15.96,\n        \"max\": 53.13,\n        \"num_unique_values\": 494,\n        \"samples\": [\n          27.3,\n          31.35,\n          21.66\n        ],\n        \"semantic_type\": \"\",\n        \"description\": \"\"\n      }\n    },\n    {\n      \"column\": \"children\",\n      \"properties\": {\n        \"dtype\": \"number\",\n        \"std\": 1,\n        \"min\": 0,\n        \"max\": 5,\n        \"num_unique_values\": 6,\n        \"samples\": [\n          2,\n          0,\n          4\n        ],\n        \"semantic_type\": \"\",\n        \"description\": \"\"\n      }\n    },\n    {\n      \"column\": \"sex_female\",\n      \"properties\": {\n        \"dtype\": \"uint8\",\n        \"num_unique_values\": 2,\n        \"samples\": [\n          0,\n          1\n        ],\n        \"semantic_type\": \"\",\n        \"description\": \"\"\n      }\n    },\n    {\n      \"column\": \"sex_male\",\n      \"properties\": {\n        \"dtype\": \"uint8\",\n        \"num_unique_values\": 2,\n        \"samples\": [\n          1,\n          0\n        ],\n        \"semantic_type\": \"\",\n        \"description\": \"\"\n      }\n    },\n    {\n      \"column\": \"smoker_no\",\n      \"properties\": {\n        \"dtype\": \"uint8\",\n        \"num_unique_values\": 2,\n        \"samples\": [\n          0,\n          1\n        ],\n        \"semantic_type\": \"\",\n        \"description\": \"\"\n      }\n    },\n    {\n      \"column\": \"smoker_yes\",\n      \"properties\": {\n        \"dtype\": \"uint8\",\n        \"num_unique_values\": 2,\n        \"samples\": [\n          1,\n          0\n        ],\n        \"semantic_type\": \"\",\n        \"description\": \"\"\n      }\n    },\n    {\n      \"column\": \"region_northeast\",\n      \"properties\": {\n        \"dtype\": \"uint8\",\n        \"num_unique_values\": 2,\n        \"samples\": [\n          1,\n          0\n        ],\n        \"semantic_type\": \"\",\n        \"description\": \"\"\n      }\n    },\n    {\n      \"column\": \"region_northwest\",\n      \"properties\": {\n        \"dtype\": \"uint8\",\n        \"num_unique_values\": 2,\n        \"samples\": [\n          0,\n          1\n        ],\n        \"semantic_type\": \"\",\n        \"description\": \"\"\n      }\n    },\n    {\n      \"column\": \"region_southeast\",\n      \"properties\": {\n        \"dtype\": \"uint8\",\n        \"num_unique_values\": 2,\n        \"samples\": [\n          1,\n          0\n        ],\n        \"semantic_type\": \"\",\n        \"description\": \"\"\n      }\n    },\n    {\n      \"column\": \"region_southwest\",\n      \"properties\": {\n        \"dtype\": \"uint8\",\n        \"num_unique_values\": 2,\n        \"samples\": [\n          1,\n          0\n        ],\n        \"semantic_type\": \"\",\n        \"description\": \"\"\n      }\n    }\n  ]\n}"
            }
          },
          "metadata": {},
          "execution_count": 85
        }
      ]
    },
    {
      "cell_type": "code",
      "source": [
        "# Build a neural network (sort of like model_2 above)\n",
        "tf.random.set_seed(42)\n",
        "\n",
        "# 1. Create the model\n",
        "insurance_model = tf.keras.Sequential([\n",
        "    tf.keras.layers.Dense(100, activation=\"relu\"),\n",
        "    tf.keras.layers.Dense(100),\n",
        "    tf.keras.layers.Dense(10)\n",
        "])\n",
        "\n",
        "# 2. Compile the model\n",
        "insurance_model.compile(loss=mae,\n",
        "                        optimizer = tf.keras.optimizers.Adam(lr = 0.01),\n",
        "                        metrics=[\"mae\"])\n",
        "\n",
        "# 3. Fit the model\n",
        "history_insurance = insurance_model.fit(x_train, y_train, epochs=500, verbose=0)"
      ],
      "metadata": {
        "colab": {
          "base_uri": "https://localhost:8080/"
        },
        "id": "5XLrX5IaYl92",
        "outputId": "fb7671c7-75da-4c93-f781-94985f3a49f5"
      },
      "execution_count": 86,
      "outputs": [
        {
          "output_type": "stream",
          "name": "stderr",
          "text": [
            "WARNING:absl:`lr` is deprecated in Keras optimizer, please use `learning_rate` or use the legacy optimizer, e.g.,tf.keras.optimizers.legacy.Adam.\n"
          ]
        }
      ]
    },
    {
      "cell_type": "code",
      "source": [
        "# Check the result on test data\n",
        "insurance_model.evaluate(x_test, y_test)"
      ],
      "metadata": {
        "colab": {
          "base_uri": "https://localhost:8080/"
        },
        "id": "phMxyV6adIEN",
        "outputId": "67ac6d18-5adb-41c4-a58c-da4ac634b215"
      },
      "execution_count": 87,
      "outputs": [
        {
          "output_type": "stream",
          "name": "stdout",
          "text": [
            "9/9 [==============================] - 0s 3ms/step - loss: 1811.2147 - mae: 1811.2147\n"
          ]
        },
        {
          "output_type": "execute_result",
          "data": {
            "text/plain": [
              "[1811.2147216796875, 1811.2147216796875]"
            ]
          },
          "metadata": {},
          "execution_count": 87
        }
      ]
    },
    {
      "cell_type": "code",
      "source": [
        "y_train.median(), y_train.mean()"
      ],
      "metadata": {
        "colab": {
          "base_uri": "https://localhost:8080/"
        },
        "id": "LMjdD18adchB",
        "outputId": "ffbcab9c-4a19-4554-c58a-1d7ea3b36128"
      },
      "execution_count": 88,
      "outputs": [
        {
          "output_type": "execute_result",
          "data": {
            "text/plain": [
              "(9575.4421, 13346.089736364485)"
            ]
          },
          "metadata": {},
          "execution_count": 88
        }
      ]
    },
    {
      "cell_type": "code",
      "source": [
        "# Plot history (loss curve a or training curve)\n",
        "pd.DataFrame(history_insurance.history).plot()\n",
        "plt.title(\"model accuracy\")\n",
        "plt.ylabel(\"loss\")\n",
        "plt.xlabel(\"epochs\")"
      ],
      "metadata": {
        "colab": {
          "base_uri": "https://localhost:8080/",
          "height": 489
        },
        "id": "PJFfUJr5lhOC",
        "outputId": "947782df-3a54-45f1-80d8-53347f5281f5"
      },
      "execution_count": 89,
      "outputs": [
        {
          "output_type": "execute_result",
          "data": {
            "text/plain": [
              "Text(0.5, 0, 'epochs')"
            ]
          },
          "metadata": {},
          "execution_count": 89
        },
        {
          "output_type": "display_data",
          "data": {
            "text/plain": [
              "<Figure size 640x480 with 1 Axes>"
            ],
            "image/png": "[encoded data removed]"
          },
          "metadata": {}
        }
      ]
    },
    {
      "cell_type": "markdown",
      "source": [
        "### EarlyStopping Callback\n",
        "\n",
        "The beautiful answer from TensorFlow to ml engginer for how long we should train or model"
      ],
      "metadata": {
        "id": "PeKm1dz8v7xS"
      }
    },
    {
      "cell_type": "markdown",
      "source": [
        "## Preprocessing data (normalization and standardization)\n",
        "\n",
        "In term of scalling values, neural networks tend to prefer normalization.\n",
        "\n"
      ],
      "metadata": {
        "id": "-zpaI6r4BZEq"
      }
    },
    {
      "cell_type": "code",
      "source": [
        "x[\"age\"].plot(kind=\"hist\")"
      ],
      "metadata": {
        "id": "QnPtSmjFvtkz",
        "colab": {
          "base_uri": "https://localhost:8080/",
          "height": 447
        },
        "outputId": "2423f385-c639-46f0-af02-975adc906c29"
      },
      "execution_count": 90,
      "outputs": [
        {
          "output_type": "execute_result",
          "data": {
            "text/plain": [
              "<Axes: ylabel='Frequency'>"
            ]
          },
          "metadata": {},
          "execution_count": 90
        },
        {
          "output_type": "display_data",
          "data": {
            "text/plain": [
              "<Figure size 640x480 with 1 Axes>"
            ],
            "image/png": "[encoded data removed]"
          },
          "metadata": {}
        }
      ]
    },
    {
      "cell_type": "code",
      "source": [
        "x[\"bmi\"].plot(kind=\"hist\")"
      ],
      "metadata": {
        "colab": {
          "base_uri": "https://localhost:8080/",
          "height": 447
        },
        "id": "rBSz4yk0AfqQ",
        "outputId": "e3102791-8e01-42e9-a04f-3f505c00c71e"
      },
      "execution_count": 91,
      "outputs": [
        {
          "output_type": "execute_result",
          "data": {
            "text/plain": [
              "<Axes: ylabel='Frequency'>"
            ]
          },
          "metadata": {},
          "execution_count": 91
        },
        {
          "output_type": "display_data",
          "data": {
            "text/plain": [
              "<Figure size 640x480 with 1 Axes>"
            ],
            "image/png": "[encoded data removed]"
          },
          "metadata": {}
        }
      ]
    },
    {
      "cell_type": "code",
      "source": [
        "import pandas as pd\n",
        "import matplotlib.pyplot as plt\n",
        "import tensorflow as tf\n",
        "\n",
        "# Read in the insurance dataframe\n",
        "insurance = pd.read_csv(\"https://raw.githubusercontent.com/stedy/Machine-Learning-with-R-datasets/master/insurance.csv\")\n",
        "insurance"
      ],
      "metadata": {
        "colab": {
          "base_uri": "https://localhost:8080/",
          "height": 424
        },
        "id": "s8H0ZQaKFTe7",
        "outputId": "87e4b667-4c08-48db-81fa-3630fb286595"
      },
      "execution_count": 92,
      "outputs": [
        {
          "output_type": "execute_result",
          "data": {
            "text/plain": [
              "      age     sex     bmi  children smoker     region      charges\n",
              "0      19  female  27.900         0    yes  southwest  16884.92400\n",
              "1      18    male  33.770         1     no  southeast   1725.55230\n",
              "2      28    male  33.000         3     no  southeast   4449.46200\n",
              "3      33    male  22.705         0     no  northwest  21984.47061\n",
              "4      32    male  28.880         0     no  northwest   3866.85520\n",
              "...   ...     ...     ...       ...    ...        ...          ...\n",
              "1333   50    male  30.970         3     no  northwest  10600.54830\n",
              "1334   18  female  31.920         0     no  northeast   2205.98080\n",
              "1335   18  female  36.850         0     no  southeast   1629.83350\n",
              "1336   21  female  25.800         0     no  southwest   2007.94500\n",
              "1337   61  female  29.070         0    yes  northwest  29141.36030\n",
              "\n",
              "[1338 rows x 7 columns]"
            ],
            "text/html": [
              "\n",
              "  <div id=\"df-2ed614fa-0385-481a-8377-b06e89b6b66e\" class=\"colab-df-container\">\n",
              "    <div>\n",
              "<style scoped>\n",
              "    .dataframe tbody tr th:only-of-type {\n",
              "        vertical-align: middle;\n",
              "    }\n",
              "\n",
              "    .dataframe tbody tr th {\n",
              "        vertical-align: top;\n",
              "    }\n",
              "\n",
              "    .dataframe thead th {\n",
              "        text-align: right;\n",
              "    }\n",
              "</style>\n",
              "<table border=\"1\" class=\"dataframe\">\n",
              "  <thead>\n",
              "    <tr style=\"text-align: right;\">\n",
              "      <th></th>\n",
              "      <th>age</th>\n",
              "      <th>sex</th>\n",
              "      <th>bmi</th>\n",
              "      <th>children</th>\n",
              "      <th>smoker</th>\n",
              "      <th>region</th>\n",
              "      <th>charges</th>\n",
              "    </tr>\n",
              "  </thead>\n",
              "  <tbody>\n",
              "    <tr>\n",
              "      <th>0</th>\n",
              "      <td>19</td>\n",
              "      <td>female</td>\n",
              "      <td>27.900</td>\n",
              "      <td>0</td>\n",
              "      <td>yes</td>\n",
              "      <td>southwest</td>\n",
              "      <td>16884.92400</td>\n",
              "    </tr>\n",
              "    <tr>\n",
              "      <th>1</th>\n",
              "      <td>18</td>\n",
              "      <td>male</td>\n",
              "      <td>33.770</td>\n",
              "      <td>1</td>\n",
              "      <td>no</td>\n",
              "      <td>southeast</td>\n",
              "      <td>1725.55230</td>\n",
              "    </tr>\n",
              "    <tr>\n",
              "      <th>2</th>\n",
              "      <td>28</td>\n",
              "      <td>male</td>\n",
              "      <td>33.000</td>\n",
              "      <td>3</td>\n",
              "      <td>no</td>\n",
              "      <td>southeast</td>\n",
              "      <td>4449.46200</td>\n",
              "    </tr>\n",
              "    <tr>\n",
              "      <th>3</th>\n",
              "      <td>33</td>\n",
              "      <td>male</td>\n",
              "      <td>22.705</td>\n",
              "      <td>0</td>\n",
              "      <td>no</td>\n",
              "      <td>northwest</td>\n",
              "      <td>21984.47061</td>\n",
              "    </tr>\n",
              "    <tr>\n",
              "      <th>4</th>\n",
              "      <td>32</td>\n",
              "      <td>male</td>\n",
              "      <td>28.880</td>\n",
              "      <td>0</td>\n",
              "      <td>no</td>\n",
              "      <td>northwest</td>\n",
              "      <td>3866.85520</td>\n",
              "    </tr>\n",
              "    <tr>\n",
              "      <th>...</th>\n",
              "      <td>...</td>\n",
              "      <td>...</td>\n",
              "      <td>...</td>\n",
              "      <td>...</td>\n",
              "      <td>...</td>\n",
              "      <td>...</td>\n",
              "      <td>...</td>\n",
              "    </tr>\n",
              "    <tr>\n",
              "      <th>1333</th>\n",
              "      <td>50</td>\n",
              "      <td>male</td>\n",
              "      <td>30.970</td>\n",
              "      <td>3</td>\n",
              "      <td>no</td>\n",
              "      <td>northwest</td>\n",
              "      <td>10600.54830</td>\n",
              "    </tr>\n",
              "    <tr>\n",
              "      <th>1334</th>\n",
              "      <td>18</td>\n",
              "      <td>female</td>\n",
              "      <td>31.920</td>\n",
              "      <td>0</td>\n",
              "      <td>no</td>\n",
              "      <td>northeast</td>\n",
              "      <td>2205.98080</td>\n",
              "    </tr>\n",
              "    <tr>\n",
              "      <th>1335</th>\n",
              "      <td>18</td>\n",
              "      <td>female</td>\n",
              "      <td>36.850</td>\n",
              "      <td>0</td>\n",
              "      <td>no</td>\n",
              "      <td>southeast</td>\n",
              "      <td>1629.83350</td>\n",
              "    </tr>\n",
              "    <tr>\n",
              "      <th>1336</th>\n",
              "      <td>21</td>\n",
              "      <td>female</td>\n",
              "      <td>25.800</td>\n",
              "      <td>0</td>\n",
              "      <td>no</td>\n",
              "      <td>southwest</td>\n",
              "      <td>2007.94500</td>\n",
              "    </tr>\n",
              "    <tr>\n",
              "      <th>1337</th>\n",
              "      <td>61</td>\n",
              "      <td>female</td>\n",
              "      <td>29.070</td>\n",
              "      <td>0</td>\n",
              "      <td>yes</td>\n",
              "      <td>northwest</td>\n",
              "      <td>29141.36030</td>\n",
              "    </tr>\n",
              "  </tbody>\n",
              "</table>\n",
              "<p>1338 rows × 7 columns</p>\n",
              "</div>\n",
              "    <div class=\"colab-df-buttons\">\n",
              "\n",
              "  <div class=\"colab-df-container\">\n",
              "    <button class=\"colab-df-convert\" onclick=\"convertToInteractive('df-2ed614fa-0385-481a-8377-b06e89b6b66e')\"\n",
              "            title=\"Convert this dataframe to an interactive table.\"\n",
              "            style=\"display:none;\">\n",
              "\n",
              "  <svg xmlns=\"http://www.w3.org/2000/svg\" height=\"24px\" viewBox=\"0 -960 960 960\">\n",
              "    <path d=\"M120-120v-720h720v720H120Zm60-500h600v-160H180v160Zm220 220h160v-160H400v160Zm0 220h160v-160H400v160ZM180-400h160v-160H180v160Zm440 0h160v-160H620v160ZM180-180h160v-160H180v160Zm440 0h160v-160H620v160Z\"/>\n",
              "  </svg>\n",
              "    </button>\n",
              "\n",
              "  <style>\n",
              "    .colab-df-container {\n",
              "      display:flex;\n",
              "      gap: 12px;\n",
              "    }\n",
              "\n",
              "    .colab-df-convert {\n",
              "      background-color: #E8F0FE;\n",
              "      border: none;\n",
              "      border-radius: 50%;\n",
              "      cursor: pointer;\n",
              "      display: none;\n",
              "      fill: #1967D2;\n",
              "      height: 32px;\n",
              "      padding: 0 0 0 0;\n",
              "      width: 32px;\n",
              "    }\n",
              "\n",
              "    .colab-df-convert:hover {\n",
              "      background-color: #E2EBFA;\n",
              "      box-shadow: 0px 1px 2px rgba(60, 64, 67, 0.3), 0px 1px 3px 1px rgba(60, 64, 67, 0.15);\n",
              "      fill: #174EA6;\n",
              "    }\n",
              "\n",
              "    .colab-df-buttons div {\n",
              "      margin-bottom: 4px;\n",
              "    }\n",
              "\n",
              "    [theme=dark] .colab-df-convert {\n",
              "      background-color: #3B4455;\n",
              "      fill: #D2E3FC;\n",
              "    }\n",
              "\n",
              "    [theme=dark] .colab-df-convert:hover {\n",
              "      background-color: #434B5C;\n",
              "      box-shadow: 0px 1px 3px 1px rgba(0, 0, 0, 0.15);\n",
              "      filter: drop-shadow(0px 1px 2px rgba(0, 0, 0, 0.3));\n",
              "      fill: #FFFFFF;\n",
              "    }\n",
              "  </style>\n",
              "\n",
              "    <script>\n",
              "      const buttonEl =\n",
              "        document.querySelector('#df-2ed614fa-0385-481a-8377-b06e89b6b66e button.colab-df-convert');\n",
              "      buttonEl.style.display =\n",
              "        google.colab.kernel.accessAllowed ? 'block' : 'none';\n",
              "\n",
              "      async function convertToInteractive(key) {\n",
              "        const element = document.querySelector('#df-2ed614fa-0385-481a-8377-b06e89b6b66e');\n",
              "        const dataTable =\n",
              "          await google.colab.kernel.invokeFunction('convertToInteractive',\n",
              "                                                    [key], {});\n",
              "        if (!dataTable) return;\n",
              "\n",
              "        const docLinkHtml = 'Like what you see? Visit the ' +\n",
              "          '<a target=\"_blank\" href=https://colab.research.google.com/notebooks/data_table.ipynb>data table notebook</a>'\n",
              "          + ' to learn more about interactive tables.';\n",
              "        element.innerHTML = '';\n",
              "        dataTable['output_type'] = 'display_data';\n",
              "        await google.colab.output.renderOutput(dataTable, element);\n",
              "        const docLink = document.createElement('div');\n",
              "        docLink.innerHTML = docLinkHtml;\n",
              "        element.appendChild(docLink);\n",
              "      }\n",
              "    </script>\n",
              "  </div>\n",
              "\n",
              "\n",
              "<div id=\"df-3ff62504-34d8-4833-82f3-d1527b114d51\">\n",
              "  <button class=\"colab-df-quickchart\" onclick=\"quickchart('df-3ff62504-34d8-4833-82f3-d1527b114d51')\"\n",
              "            title=\"Suggest charts\"\n",
              "            style=\"display:none;\">\n",
              "\n",
              "<svg xmlns=\"http://www.w3.org/2000/svg\" height=\"24px\"viewBox=\"0 0 24 24\"\n",
              "     width=\"24px\">\n",
              "    <g>\n",
              "        <path d=\"M19 3H5c-1.1 0-2 .9-2 2v14c0 1.1.9 2 2 2h14c1.1 0 2-.9 2-2V5c0-1.1-.9-2-2-2zM9 17H7v-7h2v7zm4 0h-2V7h2v10zm4 0h-2v-4h2v4z\"/>\n",
              "    </g>\n",
              "</svg>\n",
              "  </button>\n",
              "\n",
              "<style>\n",
              "  .colab-df-quickchart {\n",
              "      --bg-color: #E8F0FE;\n",
              "      --fill-color: #1967D2;\n",
              "      --hover-bg-color: #E2EBFA;\n",
              "      --hover-fill-color: #174EA6;\n",
              "      --disabled-fill-color: #AAA;\n",
              "      --disabled-bg-color: #DDD;\n",
              "  }\n",
              "\n",
              "  [theme=dark] .colab-df-quickchart {\n",
              "      --bg-color: #3B4455;\n",
              "      --fill-color: #D2E3FC;\n",
              "      --hover-bg-color: #434B5C;\n",
              "      --hover-fill-color: #FFFFFF;\n",
              "      --disabled-bg-color: #3B4455;\n",
              "      --disabled-fill-color: #666;\n",
              "  }\n",
              "\n",
              "  .colab-df-quickchart {\n",
              "    background-color: var(--bg-color);\n",
              "    border: none;\n",
              "    border-radius: 50%;\n",
              "    cursor: pointer;\n",
              "    display: none;\n",
              "    fill: var(--fill-color);\n",
              "    height: 32px;\n",
              "    padding: 0;\n",
              "    width: 32px;\n",
              "  }\n",
              "\n",
              "  .colab-df-quickchart:hover {\n",
              "    background-color: var(--hover-bg-color);\n",
              "    box-shadow: 0 1px 2px rgba(60, 64, 67, 0.3), 0 1px 3px 1px rgba(60, 64, 67, 0.15);\n",
              "    fill: var(--button-hover-fill-color);\n",
              "  }\n",
              "\n",
              "  .colab-df-quickchart-complete:disabled,\n",
              "  .colab-df-quickchart-complete:disabled:hover {\n",
              "    background-color: var(--disabled-bg-color);\n",
              "    fill: var(--disabled-fill-color);\n",
              "    box-shadow: none;\n",
              "  }\n",
              "\n",
              "  .colab-df-spinner {\n",
              "    border: 2px solid var(--fill-color);\n",
              "    border-color: transparent;\n",
              "    border-bottom-color: var(--fill-color);\n",
              "    animation:\n",
              "      spin 1s steps(1) infinite;\n",
              "  }\n",
              "\n",
              "  @keyframes spin {\n",
              "    0% {\n",
              "      border-color: transparent;\n",
              "      border-bottom-color: var(--fill-color);\n",
              "      border-left-color: var(--fill-color);\n",
              "    }\n",
              "    20% {\n",
              "      border-color: transparent;\n",
              "      border-left-color: var(--fill-color);\n",
              "      border-top-color: var(--fill-color);\n",
              "    }\n",
              "    30% {\n",
              "      border-color: transparent;\n",
              "      border-left-color: var(--fill-color);\n",
              "      border-top-color: var(--fill-color);\n",
              "      border-right-color: var(--fill-color);\n",
              "    }\n",
              "    40% {\n",
              "      border-color: transparent;\n",
              "      border-right-color: var(--fill-color);\n",
              "      border-top-color: var(--fill-color);\n",
              "    }\n",
              "    60% {\n",
              "      border-color: transparent;\n",
              "      border-right-color: var(--fill-color);\n",
              "    }\n",
              "    80% {\n",
              "      border-color: transparent;\n",
              "      border-right-color: var(--fill-color);\n",
              "      border-bottom-color: var(--fill-color);\n",
              "    }\n",
              "    90% {\n",
              "      border-color: transparent;\n",
              "      border-bottom-color: var(--fill-color);\n",
              "    }\n",
              "  }\n",
              "</style>\n",
              "\n",
              "  <script>\n",
              "    async function quickchart(key) {\n",
              "      const quickchartButtonEl =\n",
              "        document.querySelector('#' + key + ' button');\n",
              "      quickchartButtonEl.disabled = true;  // To prevent multiple clicks.\n",
              "      quickchartButtonEl.classList.add('colab-df-spinner');\n",
              "      try {\n",
              "        const charts = await google.colab.kernel.invokeFunction(\n",
              "            'suggestCharts', [key], {});\n",
              "      } catch (error) {\n",
              "        console.error('Error during call to suggestCharts:', error);\n",
              "      }\n",
              "      quickchartButtonEl.classList.remove('colab-df-spinner');\n",
              "      quickchartButtonEl.classList.add('colab-df-quickchart-complete');\n",
              "    }\n",
              "    (() => {\n",
              "      let quickchartButtonEl =\n",
              "        document.querySelector('#df-3ff62504-34d8-4833-82f3-d1527b114d51 button');\n",
              "      quickchartButtonEl.style.display =\n",
              "        google.colab.kernel.accessAllowed ? 'block' : 'none';\n",
              "    })();\n",
              "  </script>\n",
              "</div>\n",
              "    </div>\n",
              "  </div>\n"
            ],
            "application/vnd.google.colaboratory.intrinsic+json": {
              "type": "dataframe",
              "variable_name": "insurance",
              "summary": "{\n  \"name\": \"insurance\",\n  \"rows\": 1338,\n  \"fields\": [\n    {\n      \"column\": \"age\",\n      \"properties\": {\n        \"dtype\": \"number\",\n        \"std\": 14,\n        \"min\": 18,\n        \"max\": 64,\n        \"num_unique_values\": 47,\n        \"samples\": [\n          21,\n          45,\n          36\n        ],\n        \"semantic_type\": \"\",\n        \"description\": \"\"\n      }\n    },\n    {\n      \"column\": \"sex\",\n      \"properties\": {\n        \"dtype\": \"category\",\n        \"num_unique_values\": 2,\n        \"samples\": [\n          \"male\",\n          \"female\"\n        ],\n        \"semantic_type\": \"\",\n        \"description\": \"\"\n      }\n    },\n    {\n      \"column\": \"bmi\",\n      \"properties\": {\n        \"dtype\": \"number\",\n        \"std\": 6.098186911679014,\n        \"min\": 15.96,\n        \"max\": 53.13,\n        \"num_unique_values\": 548,\n        \"samples\": [\n          23.18,\n          26.885\n        ],\n        \"semantic_type\": \"\",\n        \"description\": \"\"\n      }\n    },\n    {\n      \"column\": \"children\",\n      \"properties\": {\n        \"dtype\": \"number\",\n        \"std\": 1,\n        \"min\": 0,\n        \"max\": 5,\n        \"num_unique_values\": 6,\n        \"samples\": [\n          0,\n          1\n        ],\n        \"semantic_type\": \"\",\n        \"description\": \"\"\n      }\n    },\n    {\n      \"column\": \"smoker\",\n      \"properties\": {\n        \"dtype\": \"category\",\n        \"num_unique_values\": 2,\n        \"samples\": [\n          \"no\",\n          \"yes\"\n        ],\n        \"semantic_type\": \"\",\n        \"description\": \"\"\n      }\n    },\n    {\n      \"column\": \"region\",\n      \"properties\": {\n        \"dtype\": \"category\",\n        \"num_unique_values\": 4,\n        \"samples\": [\n          \"southeast\",\n          \"northeast\"\n        ],\n        \"semantic_type\": \"\",\n        \"description\": \"\"\n      }\n    },\n    {\n      \"column\": \"charges\",\n      \"properties\": {\n        \"dtype\": \"number\",\n        \"std\": 12110.011236694001,\n        \"min\": 1121.8739,\n        \"max\": 63770.42801,\n        \"num_unique_values\": 1337,\n        \"samples\": [\n          8688.85885,\n          5708.867\n        ],\n        \"semantic_type\": \"\",\n        \"description\": \"\"\n      }\n    }\n  ]\n}"
            }
          },
          "metadata": {},
          "execution_count": 92
        }
      ]
    },
    {
      "cell_type": "code",
      "source": [
        "from sklearn.compose import make_column_transformer\n",
        "from sklearn.preprocessing import MinMaxScaler, OneHotEncoder\n",
        "from sklearn.model_selection import train_test_split"
      ],
      "metadata": {
        "id": "NBDm23OCMkKI"
      },
      "execution_count": 93,
      "outputs": []
    },
    {
      "cell_type": "code",
      "source": [
        "# Create a column transformer\n",
        "ct = make_column_transformer(\n",
        "    (MinMaxScaler(), [\"age\", \"bmi\", \"children\"]), # turn all values in these columns to between 0 and 1\n",
        "    (OneHotEncoder(handle_unknown=\"ignore\"), [\"sex\", \"smoker\", \"region\"])\n",
        ")"
      ],
      "metadata": {
        "id": "Rrg8G2CJM0s1"
      },
      "execution_count": 94,
      "outputs": []
    },
    {
      "cell_type": "code",
      "source": [
        "# Create our X and Y values\n",
        "x = insurance.drop(\"charges\", axis=1)\n",
        "y = insurance[\"charges\"]"
      ],
      "metadata": {
        "id": "9QN509EkNrFg"
      },
      "execution_count": 95,
      "outputs": []
    },
    {
      "cell_type": "code",
      "source": [
        "# Build our train and test sets\n",
        "x_train, x_test, y_train, y_test = train_test_split(x, y, test_size=0.2, random_state=42)"
      ],
      "metadata": {
        "id": "CgLEhqHON0g2"
      },
      "execution_count": 96,
      "outputs": []
    },
    {
      "cell_type": "code",
      "source": [
        "# Fit the column transformer to out training data\n",
        "ct.fit(x_train)\n",
        "\n",
        "# Transform training and test data with normalization (MinMaxScaler) and OneHotEncode\n",
        "x_train_normal = ct.transform(x_train)\n",
        "x_test_normal = ct.transform(x_test)"
      ],
      "metadata": {
        "id": "45FGyPzKObWO"
      },
      "execution_count": 97,
      "outputs": []
    },
    {
      "cell_type": "code",
      "source": [
        "# What does our data look like now\n",
        "x_train.loc[0]"
      ],
      "metadata": {
        "colab": {
          "base_uri": "https://localhost:8080/"
        },
        "id": "4LaTEsHOQFx6",
        "outputId": "a8bc687e-4990-4fca-f9a2-9f20cb5ce08c"
      },
      "execution_count": 98,
      "outputs": [
        {
          "output_type": "execute_result",
          "data": {
            "text/plain": [
              "age                19\n",
              "sex            female\n",
              "bmi              27.9\n",
              "children            0\n",
              "smoker            yes\n",
              "region      southwest\n",
              "Name: 0, dtype: object"
            ]
          },
          "metadata": {},
          "execution_count": 98
        }
      ]
    },
    {
      "cell_type": "code",
      "source": [
        "x_train_normal[0]"
      ],
      "metadata": {
        "colab": {
          "base_uri": "https://localhost:8080/"
        },
        "id": "qUXY9b1tQLM3",
        "outputId": "0238e9fc-6ac4-418c-ae31-4548b46799b0"
      },
      "execution_count": 99,
      "outputs": [
        {
          "output_type": "execute_result",
          "data": {
            "text/plain": [
              "array([0.60869565, 0.10734463, 0.4       , 1.        , 0.        ,\n",
              "       1.        , 0.        , 0.        , 1.        , 0.        ,\n",
              "       0.        ])"
            ]
          },
          "metadata": {},
          "execution_count": 99
        }
      ]
    },
    {
      "cell_type": "code",
      "source": [
        "x_train.shape, x_train_normal.shape"
      ],
      "metadata": {
        "colab": {
          "base_uri": "https://localhost:8080/"
        },
        "id": "NfLbA-9wQedh",
        "outputId": "c117b1a4-06b7-4860-c8e2-a98a664ef175"
      },
      "execution_count": 100,
      "outputs": [
        {
          "output_type": "execute_result",
          "data": {
            "text/plain": [
              "((1070, 6), (1070, 11))"
            ]
          },
          "metadata": {},
          "execution_count": 100
        }
      ]
    },
    {
      "cell_type": "markdown",
      "source": [
        "Our Data has been normalized and one hot encoded\n",
        "Now build the model!"
      ],
      "metadata": {
        "id": "xlbVZP7RQrqr"
      }
    },
    {
      "cell_type": "code",
      "source": [
        "# build the model\n",
        "tf.random.set_seed(42)\n",
        "\n",
        "# 1. Create the model\n",
        "insurance_model_2 = tf.keras.Sequential([\n",
        "    tf.keras.layers.Dense(100, activation=\"relu\"),\n",
        "    tf.keras.layers.Dense(100),\n",
        "    tf.keras.layers.Dense(10)\n",
        "])\n",
        "\n",
        "# 2. Compile the model\n",
        "insurance_model_2.compile(loss=mae,\n",
        "                        optimizer = tf.keras.optimizers.Adam(lr = 0.01),\n",
        "                        metrics=[\"mae\"])\n",
        "\n",
        "# 3. Fit the model\n",
        "history_insurance_2 = insurance_model.fit(x_train_normal, y_train, epochs=500, verbose=1)\n",
        "\n"
      ],
      "metadata": {
        "id": "1eHeWThtQxaT",
        "colab": {
          "base_uri": "https://localhost:8080/"
        },
        "outputId": "5aa1e4a3-be7d-4efa-e9b8-d3ba066189e5"
      },
      "execution_count": 102,
      "outputs": [
        {
          "output_type": "stream",
          "name": "stderr",
          "text": [
            "WARNING:absl:`lr` is deprecated in Keras optimizer, please use `learning_rate` or use the legacy optimizer, e.g.,tf.keras.optimizers.legacy.Adam.\n"
          ]
        },
        {
          "output_type": "stream",
          "name": "stdout",
          "text": [
            "Epoch 1/500\n",
            "34/34 [==============================] - 1s 6ms/step - loss: 12774.0215 - mae: 12774.0215\n",
            "Epoch 2/500\n",
            "34/34 [==============================] - 0s 5ms/step - loss: 11149.6719 - mae: 11149.6719\n",
            "Epoch 3/500\n",
            "34/34 [==============================] - 0s 6ms/step - loss: 9018.5186 - mae: 9018.5186\n",
            "Epoch 4/500\n",
            "34/34 [==============================] - 0s 5ms/step - loss: 7795.5063 - mae: 7795.5063\n",
            "Epoch 5/500\n",
            "34/34 [==============================] - 0s 5ms/step - loss: 7395.1372 - mae: 7395.1372\n",
            "Epoch 6/500\n",
            "34/34 [==============================] - 0s 5ms/step - loss: 7183.2954 - mae: 7183.2954\n",
            "Epoch 7/500\n",
            "34/34 [==============================] - 0s 7ms/step - loss: 6985.0342 - mae: 6985.0342\n",
            "Epoch 8/500\n",
            "34/34 [==============================] - 0s 5ms/step - loss: 6790.7500 - mae: 6790.7500\n",
            "Epoch 9/500\n",
            "34/34 [==============================] - 0s 5ms/step - loss: 6596.9023 - mae: 6596.9023\n",
            "Epoch 10/500\n",
            "34/34 [==============================] - 0s 5ms/step - loss: 6400.1079 - mae: 6400.1079\n",
            "Epoch 11/500\n",
            "34/34 [==============================] - 0s 6ms/step - loss: 6208.2407 - mae: 6208.2407\n",
            "Epoch 12/500\n",
            "34/34 [==============================] - 0s 6ms/step - loss: 6007.7319 - mae: 6007.7319\n",
            "Epoch 13/500\n",
            "34/34 [==============================] - 0s 6ms/step - loss: 5814.8813 - mae: 5814.8813\n",
            "Epoch 14/500\n",
            "34/34 [==============================] - 0s 6ms/step - loss: 5616.6035 - mae: 5616.6035\n",
            "Epoch 15/500\n",
            "34/34 [==============================] - 0s 8ms/step - loss: 5437.5835 - mae: 5437.5835\n",
            "Epoch 16/500\n",
            "34/34 [==============================] - 0s 7ms/step - loss: 5285.1392 - mae: 5285.1392\n",
            "Epoch 17/500\n",
            "34/34 [==============================] - 0s 6ms/step - loss: 5155.7446 - mae: 5155.7446\n",
            "Epoch 18/500\n",
            "34/34 [==============================] - 0s 7ms/step - loss: 5033.9556 - mae: 5033.9556\n",
            "Epoch 19/500\n",
            "34/34 [==============================] - 0s 3ms/step - loss: 4922.7368 - mae: 4922.7368\n",
            "Epoch 20/500\n",
            "34/34 [==============================] - 0s 3ms/step - loss: 4812.3750 - mae: 4812.3750\n",
            "Epoch 21/500\n",
            "34/34 [==============================] - 0s 3ms/step - loss: 4707.3613 - mae: 4707.3613\n",
            "Epoch 22/500\n",
            "34/34 [==============================] - 0s 3ms/step - loss: 4605.3643 - mae: 4605.3643\n",
            "Epoch 23/500\n",
            "34/34 [==============================] - 0s 4ms/step - loss: 4508.6084 - mae: 4508.6084\n",
            "Epoch 24/500\n",
            "34/34 [==============================] - 0s 4ms/step - loss: 4409.1758 - mae: 4409.1758\n",
            "Epoch 25/500\n",
            "34/34 [==============================] - 0s 4ms/step - loss: 4320.3096 - mae: 4320.3096\n",
            "Epoch 26/500\n",
            "34/34 [==============================] - 0s 3ms/step - loss: 4223.6050 - mae: 4223.6050\n",
            "Epoch 27/500\n",
            "34/34 [==============================] - 0s 4ms/step - loss: 4132.2935 - mae: 4132.2935\n",
            "Epoch 28/500\n",
            "34/34 [==============================] - 0s 3ms/step - loss: 4040.7898 - mae: 4040.7898\n",
            "Epoch 29/500\n",
            "34/34 [==============================] - 0s 4ms/step - loss: 3948.5425 - mae: 3948.5425\n",
            "Epoch 30/500\n",
            "34/34 [==============================] - 0s 4ms/step - loss: 3862.9387 - mae: 3862.9387\n",
            "Epoch 31/500\n",
            "34/34 [==============================] - 0s 4ms/step - loss: 3785.0813 - mae: 3785.0813\n",
            "Epoch 32/500\n",
            "34/34 [==============================] - 0s 3ms/step - loss: 3711.3315 - mae: 3711.3315\n",
            "Epoch 33/500\n",
            "34/34 [==============================] - 0s 3ms/step - loss: 3656.8335 - mae: 3656.8335\n",
            "Epoch 34/500\n",
            "34/34 [==============================] - 0s 3ms/step - loss: 3609.2979 - mae: 3609.2979\n",
            "Epoch 35/500\n",
            "34/34 [==============================] - 0s 3ms/step - loss: 3575.0464 - mae: 3575.0464\n",
            "Epoch 36/500\n",
            "34/34 [==============================] - 0s 3ms/step - loss: 3545.1221 - mae: 3545.1221\n",
            "Epoch 37/500\n",
            "34/34 [==============================] - 0s 5ms/step - loss: 3521.4397 - mae: 3521.4397\n",
            "Epoch 38/500\n",
            "34/34 [==============================] - 0s 5ms/step - loss: 3500.4485 - mae: 3500.4485\n",
            "Epoch 39/500\n",
            "34/34 [==============================] - 0s 5ms/step - loss: 3476.9045 - mae: 3476.9045\n",
            "Epoch 40/500\n",
            "34/34 [==============================] - 0s 5ms/step - loss: 3456.4058 - mae: 3456.4058\n",
            "Epoch 41/500\n",
            "34/34 [==============================] - 0s 5ms/step - loss: 3437.6392 - mae: 3437.6392\n",
            "Epoch 42/500\n",
            "34/34 [==============================] - 0s 5ms/step - loss: 3423.6797 - mae: 3423.6797\n",
            "Epoch 43/500\n",
            "34/34 [==============================] - 0s 5ms/step - loss: 3404.7996 - mae: 3404.7996\n",
            "Epoch 44/500\n",
            "34/34 [==============================] - 0s 4ms/step - loss: 3386.2373 - mae: 3386.2373\n",
            "Epoch 45/500\n",
            "34/34 [==============================] - 0s 5ms/step - loss: 3368.9917 - mae: 3368.9917\n",
            "Epoch 46/500\n",
            "34/34 [==============================] - 0s 4ms/step - loss: 3356.3625 - mae: 3356.3625\n",
            "Epoch 47/500\n",
            "34/34 [==============================] - 0s 5ms/step - loss: 3342.3594 - mae: 3342.3594\n",
            "Epoch 48/500\n",
            "34/34 [==============================] - 0s 6ms/step - loss: 3322.7971 - mae: 3322.7971\n",
            "Epoch 49/500\n",
            "34/34 [==============================] - 0s 5ms/step - loss: 3310.3103 - mae: 3310.3103\n",
            "Epoch 50/500\n",
            "34/34 [==============================] - 0s 4ms/step - loss: 3292.6001 - mae: 3292.6001\n",
            "Epoch 51/500\n",
            "34/34 [==============================] - 0s 6ms/step - loss: 3277.8303 - mae: 3277.8303\n",
            "Epoch 52/500\n",
            "34/34 [==============================] - 0s 5ms/step - loss: 3264.0959 - mae: 3264.0959\n",
            "Epoch 53/500\n",
            "34/34 [==============================] - 0s 5ms/step - loss: 3249.6465 - mae: 3249.6465\n",
            "Epoch 54/500\n",
            "34/34 [==============================] - 0s 5ms/step - loss: 3242.0842 - mae: 3242.0842\n",
            "Epoch 55/500\n",
            "34/34 [==============================] - 0s 3ms/step - loss: 3238.4819 - mae: 3238.4819\n",
            "Epoch 56/500\n",
            "34/34 [==============================] - 0s 3ms/step - loss: 3227.3706 - mae: 3227.3706\n",
            "Epoch 57/500\n",
            "34/34 [==============================] - 0s 4ms/step - loss: 3219.0720 - mae: 3219.0720\n",
            "Epoch 58/500\n",
            "34/34 [==============================] - 0s 3ms/step - loss: 3212.9126 - mae: 3212.9126\n",
            "Epoch 59/500\n",
            "34/34 [==============================] - 0s 3ms/step - loss: 3208.8127 - mae: 3208.8127\n",
            "Epoch 60/500\n",
            "34/34 [==============================] - 0s 3ms/step - loss: 3201.7419 - mae: 3201.7419\n",
            "Epoch 61/500\n",
            "34/34 [==============================] - 0s 3ms/step - loss: 3197.6292 - mae: 3197.6292\n",
            "Epoch 62/500\n",
            "34/34 [==============================] - 0s 3ms/step - loss: 3194.2627 - mae: 3194.2627\n",
            "Epoch 63/500\n",
            "34/34 [==============================] - 0s 3ms/step - loss: 3187.2654 - mae: 3187.2654\n",
            "Epoch 64/500\n",
            "34/34 [==============================] - 0s 3ms/step - loss: 3184.8311 - mae: 3184.8311\n",
            "Epoch 65/500\n",
            "34/34 [==============================] - 0s 3ms/step - loss: 3179.3174 - mae: 3179.3174\n",
            "Epoch 66/500\n",
            "34/34 [==============================] - 0s 3ms/step - loss: 3179.6750 - mae: 3179.6750\n",
            "Epoch 67/500\n",
            "34/34 [==============================] - 0s 4ms/step - loss: 3175.0454 - mae: 3175.0454\n",
            "Epoch 68/500\n",
            "34/34 [==============================] - 0s 4ms/step - loss: 3172.4814 - mae: 3172.4814\n",
            "Epoch 69/500\n",
            "34/34 [==============================] - 0s 3ms/step - loss: 3168.4836 - mae: 3168.4836\n",
            "Epoch 70/500\n",
            "34/34 [==============================] - 0s 3ms/step - loss: 3166.4526 - mae: 3166.4526\n",
            "Epoch 71/500\n",
            "34/34 [==============================] - 0s 3ms/step - loss: 3164.7737 - mae: 3164.7737\n",
            "Epoch 72/500\n",
            "34/34 [==============================] - 0s 3ms/step - loss: 3163.5625 - mae: 3163.5625\n",
            "Epoch 73/500\n",
            "34/34 [==============================] - 0s 3ms/step - loss: 3161.6926 - mae: 3161.6926\n",
            "Epoch 74/500\n",
            "34/34 [==============================] - 0s 3ms/step - loss: 3156.6775 - mae: 3156.6775\n",
            "Epoch 75/500\n",
            "34/34 [==============================] - 0s 4ms/step - loss: 3156.1763 - mae: 3156.1763\n",
            "Epoch 76/500\n",
            "34/34 [==============================] - 0s 4ms/step - loss: 3152.7156 - mae: 3152.7156\n",
            "Epoch 77/500\n",
            "34/34 [==============================] - 0s 4ms/step - loss: 3150.5315 - mae: 3150.5315\n",
            "Epoch 78/500\n",
            "34/34 [==============================] - 0s 4ms/step - loss: 3149.8667 - mae: 3149.8667\n",
            "Epoch 79/500\n",
            "34/34 [==============================] - 0s 3ms/step - loss: 3148.9407 - mae: 3148.9407\n",
            "Epoch 80/500\n",
            "34/34 [==============================] - 0s 3ms/step - loss: 3148.3896 - mae: 3148.3896\n",
            "Epoch 81/500\n",
            "34/34 [==============================] - 0s 3ms/step - loss: 3147.5537 - mae: 3147.5537\n",
            "Epoch 82/500\n",
            "34/34 [==============================] - 0s 3ms/step - loss: 3146.2427 - mae: 3146.2427\n",
            "Epoch 83/500\n",
            "34/34 [==============================] - 0s 3ms/step - loss: 3141.1016 - mae: 3141.1016\n",
            "Epoch 84/500\n",
            "34/34 [==============================] - 0s 4ms/step - loss: 3139.4006 - mae: 3139.4006\n",
            "Epoch 85/500\n",
            "34/34 [==============================] - 0s 3ms/step - loss: 3138.0676 - mae: 3138.0676\n",
            "Epoch 86/500\n",
            "34/34 [==============================] - 0s 3ms/step - loss: 3134.6257 - mae: 3134.6257\n",
            "Epoch 87/500\n",
            "34/34 [==============================] - 0s 2ms/step - loss: 3134.9104 - mae: 3134.9104\n",
            "Epoch 88/500\n",
            "34/34 [==============================] - 0s 3ms/step - loss: 3133.4907 - mae: 3133.4907\n",
            "Epoch 89/500\n",
            "34/34 [==============================] - 0s 3ms/step - loss: 3132.6514 - mae: 3132.6514\n",
            "Epoch 90/500\n",
            "34/34 [==============================] - 0s 3ms/step - loss: 3129.4478 - mae: 3129.4478\n",
            "Epoch 91/500\n",
            "34/34 [==============================] - 0s 3ms/step - loss: 3128.1909 - mae: 3128.1909\n",
            "Epoch 92/500\n",
            "34/34 [==============================] - 0s 3ms/step - loss: 3133.1655 - mae: 3133.1655\n",
            "Epoch 93/500\n",
            "34/34 [==============================] - 0s 3ms/step - loss: 3125.6511 - mae: 3125.6511\n",
            "Epoch 94/500\n",
            "34/34 [==============================] - 0s 4ms/step - loss: 3125.3462 - mae: 3125.3462\n",
            "Epoch 95/500\n",
            "34/34 [==============================] - 0s 3ms/step - loss: 3122.2798 - mae: 3122.2798\n",
            "Epoch 96/500\n",
            "34/34 [==============================] - 0s 3ms/step - loss: 3124.3354 - mae: 3124.3354\n",
            "Epoch 97/500\n",
            "34/34 [==============================] - 0s 2ms/step - loss: 3120.6558 - mae: 3120.6558\n",
            "Epoch 98/500\n",
            "34/34 [==============================] - 0s 3ms/step - loss: 3117.9419 - mae: 3117.9419\n",
            "Epoch 99/500\n",
            "34/34 [==============================] - 0s 4ms/step - loss: 3117.5806 - mae: 3117.5806\n",
            "Epoch 100/500\n",
            "34/34 [==============================] - 0s 3ms/step - loss: 3115.3132 - mae: 3115.3132\n",
            "Epoch 101/500\n",
            "34/34 [==============================] - 0s 3ms/step - loss: 3114.5635 - mae: 3114.5635\n",
            "Epoch 102/500\n",
            "34/34 [==============================] - 0s 3ms/step - loss: 3115.0461 - mae: 3115.0461\n",
            "Epoch 103/500\n",
            "34/34 [==============================] - 0s 4ms/step - loss: 3110.8423 - mae: 3110.8423\n",
            "Epoch 104/500\n",
            "34/34 [==============================] - 0s 3ms/step - loss: 3112.1384 - mae: 3112.1384\n",
            "Epoch 105/500\n",
            "34/34 [==============================] - 0s 3ms/step - loss: 3109.6321 - mae: 3109.6321\n",
            "Epoch 106/500\n",
            "34/34 [==============================] - 0s 3ms/step - loss: 3107.0046 - mae: 3107.0046\n",
            "Epoch 107/500\n",
            "34/34 [==============================] - 0s 3ms/step - loss: 3104.8237 - mae: 3104.8237\n",
            "Epoch 108/500\n",
            "34/34 [==============================] - 0s 3ms/step - loss: 3102.8120 - mae: 3102.8120\n",
            "Epoch 109/500\n",
            "34/34 [==============================] - 0s 3ms/step - loss: 3101.7192 - mae: 3101.7192\n",
            "Epoch 110/500\n",
            "34/34 [==============================] - 0s 3ms/step - loss: 3102.1697 - mae: 3102.1697\n",
            "Epoch 111/500\n",
            "34/34 [==============================] - 0s 3ms/step - loss: 3099.9507 - mae: 3099.9507\n",
            "Epoch 112/500\n",
            "34/34 [==============================] - 0s 3ms/step - loss: 3096.7117 - mae: 3096.7117\n",
            "Epoch 113/500\n",
            "34/34 [==============================] - 0s 3ms/step - loss: 3097.7971 - mae: 3097.7971\n",
            "Epoch 114/500\n",
            "34/34 [==============================] - 0s 3ms/step - loss: 3095.2852 - mae: 3095.2852\n",
            "Epoch 115/500\n",
            "34/34 [==============================] - 0s 3ms/step - loss: 3092.7983 - mae: 3092.7983\n",
            "Epoch 116/500\n",
            "34/34 [==============================] - 0s 3ms/step - loss: 3093.9448 - mae: 3093.9448\n",
            "Epoch 117/500\n",
            "34/34 [==============================] - 0s 3ms/step - loss: 3089.3130 - mae: 3089.3130\n",
            "Epoch 118/500\n",
            "34/34 [==============================] - 0s 3ms/step - loss: 3089.8062 - mae: 3089.8062\n",
            "Epoch 119/500\n",
            "34/34 [==============================] - 0s 3ms/step - loss: 3087.2600 - mae: 3087.2600\n",
            "Epoch 120/500\n",
            "34/34 [==============================] - 0s 3ms/step - loss: 3084.2588 - mae: 3084.2588\n",
            "Epoch 121/500\n",
            "34/34 [==============================] - 0s 4ms/step - loss: 3084.5103 - mae: 3084.5103\n",
            "Epoch 122/500\n",
            "34/34 [==============================] - 0s 3ms/step - loss: 3081.9812 - mae: 3081.9812\n",
            "Epoch 123/500\n",
            "34/34 [==============================] - 0s 3ms/step - loss: 3081.0908 - mae: 3081.0908\n",
            "Epoch 124/500\n",
            "34/34 [==============================] - 0s 3ms/step - loss: 3081.8789 - mae: 3081.8789\n",
            "Epoch 125/500\n",
            "34/34 [==============================] - 0s 3ms/step - loss: 3078.2080 - mae: 3078.2080\n",
            "Epoch 126/500\n",
            "34/34 [==============================] - 0s 3ms/step - loss: 3075.9106 - mae: 3075.9106\n",
            "Epoch 127/500\n",
            "34/34 [==============================] - 0s 3ms/step - loss: 3078.7312 - mae: 3078.7312\n",
            "Epoch 128/500\n",
            "34/34 [==============================] - 0s 3ms/step - loss: 3075.2922 - mae: 3075.2922\n",
            "Epoch 129/500\n",
            "34/34 [==============================] - 0s 3ms/step - loss: 3071.9631 - mae: 3071.9631\n",
            "Epoch 130/500\n",
            "34/34 [==============================] - 0s 4ms/step - loss: 3069.8545 - mae: 3069.8545\n",
            "Epoch 131/500\n",
            "34/34 [==============================] - 0s 4ms/step - loss: 3068.0188 - mae: 3068.0188\n",
            "Epoch 132/500\n",
            "34/34 [==============================] - 0s 3ms/step - loss: 3067.4553 - mae: 3067.4553\n",
            "Epoch 133/500\n",
            "34/34 [==============================] - 0s 3ms/step - loss: 3065.2195 - mae: 3065.2195\n",
            "Epoch 134/500\n",
            "34/34 [==============================] - 0s 3ms/step - loss: 3064.3630 - mae: 3064.3630\n",
            "Epoch 135/500\n",
            "34/34 [==============================] - 0s 3ms/step - loss: 3063.4897 - mae: 3063.4897\n",
            "Epoch 136/500\n",
            "34/34 [==============================] - 0s 4ms/step - loss: 3061.4563 - mae: 3061.4563\n",
            "Epoch 137/500\n",
            "34/34 [==============================] - 0s 3ms/step - loss: 3061.3796 - mae: 3061.3796\n",
            "Epoch 138/500\n",
            "34/34 [==============================] - 0s 3ms/step - loss: 3059.2126 - mae: 3059.2126\n",
            "Epoch 139/500\n",
            "34/34 [==============================] - 0s 4ms/step - loss: 3056.2634 - mae: 3056.2634\n",
            "Epoch 140/500\n",
            "34/34 [==============================] - 0s 3ms/step - loss: 3056.0818 - mae: 3056.0818\n",
            "Epoch 141/500\n",
            "34/34 [==============================] - 0s 3ms/step - loss: 3053.8157 - mae: 3053.8157\n",
            "Epoch 142/500\n",
            "34/34 [==============================] - 0s 4ms/step - loss: 3052.5154 - mae: 3052.5154\n",
            "Epoch 143/500\n",
            "34/34 [==============================] - 0s 5ms/step - loss: 3048.9619 - mae: 3048.9619\n",
            "Epoch 144/500\n",
            "34/34 [==============================] - 0s 4ms/step - loss: 3047.2356 - mae: 3047.2356\n",
            "Epoch 145/500\n",
            "34/34 [==============================] - 0s 4ms/step - loss: 3045.7783 - mae: 3045.7783\n",
            "Epoch 146/500\n",
            "34/34 [==============================] - 0s 4ms/step - loss: 3045.5046 - mae: 3045.5046\n",
            "Epoch 147/500\n",
            "34/34 [==============================] - 0s 4ms/step - loss: 3043.5403 - mae: 3043.5403\n",
            "Epoch 148/500\n",
            "34/34 [==============================] - 0s 5ms/step - loss: 3042.9104 - mae: 3042.9104\n",
            "Epoch 149/500\n",
            "34/34 [==============================] - 0s 4ms/step - loss: 3038.9827 - mae: 3038.9827\n",
            "Epoch 150/500\n",
            "34/34 [==============================] - 0s 4ms/step - loss: 3036.3550 - mae: 3036.3550\n",
            "Epoch 151/500\n",
            "34/34 [==============================] - 0s 5ms/step - loss: 3033.8728 - mae: 3033.8728\n",
            "Epoch 152/500\n",
            "34/34 [==============================] - 0s 6ms/step - loss: 3033.0046 - mae: 3033.0046\n",
            "Epoch 153/500\n",
            "34/34 [==============================] - 0s 5ms/step - loss: 3032.9243 - mae: 3032.9243\n",
            "Epoch 154/500\n",
            "34/34 [==============================] - 0s 5ms/step - loss: 3030.9990 - mae: 3030.9990\n",
            "Epoch 155/500\n",
            "34/34 [==============================] - 0s 5ms/step - loss: 3028.8381 - mae: 3028.8381\n",
            "Epoch 156/500\n",
            "34/34 [==============================] - 0s 5ms/step - loss: 3026.1875 - mae: 3026.1875\n",
            "Epoch 157/500\n",
            "34/34 [==============================] - 0s 5ms/step - loss: 3022.5154 - mae: 3022.5154\n",
            "Epoch 158/500\n",
            "34/34 [==============================] - 0s 6ms/step - loss: 3021.9421 - mae: 3021.9421\n",
            "Epoch 159/500\n",
            "34/34 [==============================] - 0s 3ms/step - loss: 3020.7202 - mae: 3020.7202\n",
            "Epoch 160/500\n",
            "34/34 [==============================] - 0s 3ms/step - loss: 3019.8667 - mae: 3019.8667\n",
            "Epoch 161/500\n",
            "34/34 [==============================] - 0s 3ms/step - loss: 3016.1545 - mae: 3016.1545\n",
            "Epoch 162/500\n",
            "34/34 [==============================] - 0s 3ms/step - loss: 3015.2163 - mae: 3015.2163\n",
            "Epoch 163/500\n",
            "34/34 [==============================] - 0s 3ms/step - loss: 3011.9756 - mae: 3011.9756\n",
            "Epoch 164/500\n",
            "34/34 [==============================] - 0s 3ms/step - loss: 3012.8613 - mae: 3012.8613\n",
            "Epoch 165/500\n",
            "34/34 [==============================] - 0s 3ms/step - loss: 3010.0583 - mae: 3010.0583\n",
            "Epoch 166/500\n",
            "34/34 [==============================] - 0s 3ms/step - loss: 3005.4158 - mae: 3005.4158\n",
            "Epoch 167/500\n",
            "34/34 [==============================] - 0s 4ms/step - loss: 3005.9392 - mae: 3005.9392\n",
            "Epoch 168/500\n",
            "34/34 [==============================] - 0s 4ms/step - loss: 3002.8452 - mae: 3002.8452\n",
            "Epoch 169/500\n",
            "34/34 [==============================] - 0s 3ms/step - loss: 2999.7527 - mae: 2999.7527\n",
            "Epoch 170/500\n",
            "34/34 [==============================] - 0s 3ms/step - loss: 2998.2131 - mae: 2998.2131\n",
            "Epoch 171/500\n",
            "34/34 [==============================] - 0s 3ms/step - loss: 2995.4292 - mae: 2995.4292\n",
            "Epoch 172/500\n",
            "34/34 [==============================] - 0s 3ms/step - loss: 2995.4834 - mae: 2995.4834\n",
            "Epoch 173/500\n",
            "34/34 [==============================] - 0s 3ms/step - loss: 2993.0984 - mae: 2993.0984\n",
            "Epoch 174/500\n",
            "34/34 [==============================] - 0s 3ms/step - loss: 2990.3950 - mae: 2990.3950\n",
            "Epoch 175/500\n",
            "34/34 [==============================] - 0s 3ms/step - loss: 2986.9673 - mae: 2986.9673\n",
            "Epoch 176/500\n",
            "34/34 [==============================] - 0s 2ms/step - loss: 2986.8210 - mae: 2986.8210\n",
            "Epoch 177/500\n",
            "34/34 [==============================] - 0s 3ms/step - loss: 2985.3691 - mae: 2985.3691\n",
            "Epoch 178/500\n",
            "34/34 [==============================] - 0s 2ms/step - loss: 2982.0852 - mae: 2982.0852\n",
            "Epoch 179/500\n",
            "34/34 [==============================] - 0s 3ms/step - loss: 2982.2993 - mae: 2982.2993\n",
            "Epoch 180/500\n",
            "34/34 [==============================] - 0s 3ms/step - loss: 2978.0530 - mae: 2978.0530\n",
            "Epoch 181/500\n",
            "34/34 [==============================] - 0s 3ms/step - loss: 2975.2644 - mae: 2975.2644\n",
            "Epoch 182/500\n",
            "34/34 [==============================] - 0s 3ms/step - loss: 2972.9773 - mae: 2972.9773\n",
            "Epoch 183/500\n",
            "34/34 [==============================] - 0s 3ms/step - loss: 2969.2415 - mae: 2969.2415\n",
            "Epoch 184/500\n",
            "34/34 [==============================] - 0s 3ms/step - loss: 2969.2051 - mae: 2969.2051\n",
            "Epoch 185/500\n",
            "34/34 [==============================] - 0s 3ms/step - loss: 2965.5400 - mae: 2965.5400\n",
            "Epoch 186/500\n",
            "34/34 [==============================] - 0s 3ms/step - loss: 2963.1096 - mae: 2963.1096\n",
            "Epoch 187/500\n",
            "34/34 [==============================] - 0s 4ms/step - loss: 2961.9355 - mae: 2961.9355\n",
            "Epoch 188/500\n",
            "34/34 [==============================] - 0s 3ms/step - loss: 2960.2937 - mae: 2960.2937\n",
            "Epoch 189/500\n",
            "34/34 [==============================] - 0s 3ms/step - loss: 2956.7666 - mae: 2956.7666\n",
            "Epoch 190/500\n",
            "34/34 [==============================] - 0s 3ms/step - loss: 2954.0698 - mae: 2954.0698\n",
            "Epoch 191/500\n",
            "34/34 [==============================] - 0s 3ms/step - loss: 2958.1221 - mae: 2958.1221\n",
            "Epoch 192/500\n",
            "34/34 [==============================] - 0s 3ms/step - loss: 2950.7246 - mae: 2950.7246\n",
            "Epoch 193/500\n",
            "34/34 [==============================] - 0s 3ms/step - loss: 2948.5269 - mae: 2948.5269\n",
            "Epoch 194/500\n",
            "34/34 [==============================] - 0s 4ms/step - loss: 2945.7788 - mae: 2945.7788\n",
            "Epoch 195/500\n",
            "34/34 [==============================] - 0s 3ms/step - loss: 2943.3025 - mae: 2943.3025\n",
            "Epoch 196/500\n",
            "34/34 [==============================] - 0s 3ms/step - loss: 2942.2266 - mae: 2942.2266\n",
            "Epoch 197/500\n",
            "34/34 [==============================] - 0s 3ms/step - loss: 2937.4739 - mae: 2937.4739\n",
            "Epoch 198/500\n",
            "34/34 [==============================] - 0s 3ms/step - loss: 2936.9741 - mae: 2936.9741\n",
            "Epoch 199/500\n",
            "34/34 [==============================] - 0s 3ms/step - loss: 2934.0078 - mae: 2934.0078\n",
            "Epoch 200/500\n",
            "34/34 [==============================] - 0s 3ms/step - loss: 2930.5737 - mae: 2930.5737\n",
            "Epoch 201/500\n",
            "34/34 [==============================] - 0s 3ms/step - loss: 2932.1868 - mae: 2932.1868\n",
            "Epoch 202/500\n",
            "34/34 [==============================] - 0s 3ms/step - loss: 2928.7661 - mae: 2928.7661\n",
            "Epoch 203/500\n",
            "34/34 [==============================] - 0s 4ms/step - loss: 2923.9077 - mae: 2923.9077\n",
            "Epoch 204/500\n",
            "34/34 [==============================] - 0s 3ms/step - loss: 2920.9722 - mae: 2920.9722\n",
            "Epoch 205/500\n",
            "34/34 [==============================] - 0s 3ms/step - loss: 2917.1765 - mae: 2917.1765\n",
            "Epoch 206/500\n",
            "34/34 [==============================] - 0s 3ms/step - loss: 2916.9136 - mae: 2916.9136\n",
            "Epoch 207/500\n",
            "34/34 [==============================] - 0s 3ms/step - loss: 2912.9849 - mae: 2912.9849\n",
            "Epoch 208/500\n",
            "34/34 [==============================] - 0s 2ms/step - loss: 2911.7693 - mae: 2911.7693\n",
            "Epoch 209/500\n",
            "34/34 [==============================] - 0s 2ms/step - loss: 2908.1853 - mae: 2908.1853\n",
            "Epoch 210/500\n",
            "34/34 [==============================] - 0s 2ms/step - loss: 2905.3276 - mae: 2905.3276\n",
            "Epoch 211/500\n",
            "34/34 [==============================] - 0s 2ms/step - loss: 2907.9597 - mae: 2907.9597\n",
            "Epoch 212/500\n",
            "34/34 [==============================] - 0s 2ms/step - loss: 2901.8022 - mae: 2901.8022\n",
            "Epoch 213/500\n",
            "34/34 [==============================] - 0s 2ms/step - loss: 2897.2405 - mae: 2897.2405\n",
            "Epoch 214/500\n",
            "34/34 [==============================] - 0s 2ms/step - loss: 2896.4148 - mae: 2896.4148\n",
            "Epoch 215/500\n",
            "34/34 [==============================] - 0s 2ms/step - loss: 2894.4902 - mae: 2894.4902\n",
            "Epoch 216/500\n",
            "34/34 [==============================] - 0s 2ms/step - loss: 2892.0801 - mae: 2892.0801\n",
            "Epoch 217/500\n",
            "34/34 [==============================] - 0s 2ms/step - loss: 2888.8640 - mae: 2888.8640\n",
            "Epoch 218/500\n",
            "34/34 [==============================] - 0s 2ms/step - loss: 2886.9829 - mae: 2886.9829\n",
            "Epoch 219/500\n",
            "34/34 [==============================] - 0s 2ms/step - loss: 2885.6360 - mae: 2885.6360\n",
            "Epoch 220/500\n",
            "34/34 [==============================] - 0s 3ms/step - loss: 2881.5828 - mae: 2881.5828\n",
            "Epoch 221/500\n",
            "34/34 [==============================] - 0s 3ms/step - loss: 2880.8071 - mae: 2880.8071\n",
            "Epoch 222/500\n",
            "34/34 [==============================] - 0s 3ms/step - loss: 2876.9714 - mae: 2876.9714\n",
            "Epoch 223/500\n",
            "34/34 [==============================] - 0s 3ms/step - loss: 2874.3262 - mae: 2874.3262\n",
            "Epoch 224/500\n",
            "34/34 [==============================] - 0s 3ms/step - loss: 2870.9519 - mae: 2870.9519\n",
            "Epoch 225/500\n",
            "34/34 [==============================] - 0s 4ms/step - loss: 2868.7908 - mae: 2868.7908\n",
            "Epoch 226/500\n",
            "34/34 [==============================] - 0s 3ms/step - loss: 2864.8501 - mae: 2864.8501\n",
            "Epoch 227/500\n",
            "34/34 [==============================] - 0s 3ms/step - loss: 2863.0701 - mae: 2863.0701\n",
            "Epoch 228/500\n",
            "34/34 [==============================] - 0s 3ms/step - loss: 2860.3804 - mae: 2860.3804\n",
            "Epoch 229/500\n",
            "34/34 [==============================] - 0s 3ms/step - loss: 2861.3357 - mae: 2861.3357\n",
            "Epoch 230/500\n",
            "34/34 [==============================] - 0s 3ms/step - loss: 2858.5662 - mae: 2858.5662\n",
            "Epoch 231/500\n",
            "34/34 [==============================] - 0s 3ms/step - loss: 2854.0767 - mae: 2854.0767\n",
            "Epoch 232/500\n",
            "34/34 [==============================] - 0s 3ms/step - loss: 2850.9607 - mae: 2850.9607\n",
            "Epoch 233/500\n",
            "34/34 [==============================] - 0s 4ms/step - loss: 2848.9673 - mae: 2848.9673\n",
            "Epoch 234/500\n",
            "34/34 [==============================] - 0s 4ms/step - loss: 2849.2256 - mae: 2849.2256\n",
            "Epoch 235/500\n",
            "34/34 [==============================] - 0s 4ms/step - loss: 2846.7097 - mae: 2846.7097\n",
            "Epoch 236/500\n",
            "34/34 [==============================] - 0s 3ms/step - loss: 2846.3982 - mae: 2846.3982\n",
            "Epoch 237/500\n",
            "34/34 [==============================] - 0s 4ms/step - loss: 2841.7092 - mae: 2841.7092\n",
            "Epoch 238/500\n",
            "34/34 [==============================] - 0s 3ms/step - loss: 2837.7798 - mae: 2837.7798\n",
            "Epoch 239/500\n",
            "34/34 [==============================] - 0s 3ms/step - loss: 2836.0066 - mae: 2836.0066\n",
            "Epoch 240/500\n",
            "34/34 [==============================] - 0s 3ms/step - loss: 2833.6316 - mae: 2833.6316\n",
            "Epoch 241/500\n",
            "34/34 [==============================] - 0s 3ms/step - loss: 2830.3691 - mae: 2830.3691\n",
            "Epoch 242/500\n",
            "34/34 [==============================] - 0s 3ms/step - loss: 2827.5300 - mae: 2827.5300\n",
            "Epoch 243/500\n",
            "34/34 [==============================] - 0s 3ms/step - loss: 2828.0557 - mae: 2828.0557\n",
            "Epoch 244/500\n",
            "34/34 [==============================] - 0s 4ms/step - loss: 2825.4263 - mae: 2825.4263\n",
            "Epoch 245/500\n",
            "34/34 [==============================] - 0s 3ms/step - loss: 2820.7729 - mae: 2820.7729\n",
            "Epoch 246/500\n",
            "34/34 [==============================] - 0s 4ms/step - loss: 2819.0115 - mae: 2819.0115\n",
            "Epoch 247/500\n",
            "34/34 [==============================] - 0s 3ms/step - loss: 2817.3477 - mae: 2817.3477\n",
            "Epoch 248/500\n",
            "34/34 [==============================] - 0s 4ms/step - loss: 2813.8599 - mae: 2813.8599\n",
            "Epoch 249/500\n",
            "34/34 [==============================] - 0s 5ms/step - loss: 2812.9387 - mae: 2812.9387\n",
            "Epoch 250/500\n",
            "34/34 [==============================] - 0s 6ms/step - loss: 2809.6074 - mae: 2809.6074\n",
            "Epoch 251/500\n",
            "34/34 [==============================] - 0s 6ms/step - loss: 2806.0105 - mae: 2806.0105\n",
            "Epoch 252/500\n",
            "34/34 [==============================] - 0s 5ms/step - loss: 2804.8091 - mae: 2804.8091\n",
            "Epoch 253/500\n",
            "34/34 [==============================] - 0s 5ms/step - loss: 2804.8960 - mae: 2804.8960\n",
            "Epoch 254/500\n",
            "34/34 [==============================] - 0s 5ms/step - loss: 2799.8381 - mae: 2799.8381\n",
            "Epoch 255/500\n",
            "34/34 [==============================] - 0s 5ms/step - loss: 2798.8396 - mae: 2798.8396\n",
            "Epoch 256/500\n",
            "34/34 [==============================] - 0s 5ms/step - loss: 2796.6045 - mae: 2796.6045\n",
            "Epoch 257/500\n",
            "34/34 [==============================] - 0s 4ms/step - loss: 2792.3335 - mae: 2792.3335\n",
            "Epoch 258/500\n",
            "34/34 [==============================] - 0s 5ms/step - loss: 2790.3284 - mae: 2790.3284\n",
            "Epoch 259/500\n",
            "34/34 [==============================] - 0s 6ms/step - loss: 2789.0632 - mae: 2789.0632\n",
            "Epoch 260/500\n",
            "34/34 [==============================] - 0s 5ms/step - loss: 2785.7781 - mae: 2785.7781\n",
            "Epoch 261/500\n",
            "34/34 [==============================] - 0s 6ms/step - loss: 2783.3660 - mae: 2783.3660\n",
            "Epoch 262/500\n",
            "34/34 [==============================] - 0s 5ms/step - loss: 2781.6196 - mae: 2781.6196\n",
            "Epoch 263/500\n",
            "34/34 [==============================] - 0s 5ms/step - loss: 2779.4165 - mae: 2779.4165\n",
            "Epoch 264/500\n",
            "34/34 [==============================] - 0s 6ms/step - loss: 2777.6335 - mae: 2777.6335\n",
            "Epoch 265/500\n",
            "34/34 [==============================] - 0s 6ms/step - loss: 2776.1565 - mae: 2776.1565\n",
            "Epoch 266/500\n",
            "34/34 [==============================] - 0s 3ms/step - loss: 2774.8999 - mae: 2774.8999\n",
            "Epoch 267/500\n",
            "34/34 [==============================] - 0s 4ms/step - loss: 2768.8757 - mae: 2768.8757\n",
            "Epoch 268/500\n",
            "34/34 [==============================] - 0s 4ms/step - loss: 2764.5305 - mae: 2764.5305\n",
            "Epoch 269/500\n",
            "34/34 [==============================] - 0s 4ms/step - loss: 2764.4089 - mae: 2764.4089\n",
            "Epoch 270/500\n",
            "34/34 [==============================] - 0s 4ms/step - loss: 2760.8582 - mae: 2760.8582\n",
            "Epoch 271/500\n",
            "34/34 [==============================] - 0s 3ms/step - loss: 2757.4656 - mae: 2757.4656\n",
            "Epoch 272/500\n",
            "34/34 [==============================] - 0s 3ms/step - loss: 2756.7744 - mae: 2756.7744\n",
            "Epoch 273/500\n",
            "34/34 [==============================] - 0s 4ms/step - loss: 2753.9106 - mae: 2753.9106\n",
            "Epoch 274/500\n",
            "34/34 [==============================] - 0s 4ms/step - loss: 2749.4756 - mae: 2749.4756\n",
            "Epoch 275/500\n",
            "34/34 [==============================] - 0s 3ms/step - loss: 2747.4080 - mae: 2747.4080\n",
            "Epoch 276/500\n",
            "34/34 [==============================] - 0s 4ms/step - loss: 2744.4712 - mae: 2744.4712\n",
            "Epoch 277/500\n",
            "34/34 [==============================] - 0s 3ms/step - loss: 2743.2832 - mae: 2743.2832\n",
            "Epoch 278/500\n",
            "34/34 [==============================] - 0s 2ms/step - loss: 2740.5732 - mae: 2740.5732\n",
            "Epoch 279/500\n",
            "34/34 [==============================] - 0s 3ms/step - loss: 2739.4258 - mae: 2739.4258\n",
            "Epoch 280/500\n",
            "34/34 [==============================] - 0s 2ms/step - loss: 2736.5522 - mae: 2736.5522\n",
            "Epoch 281/500\n",
            "34/34 [==============================] - 0s 2ms/step - loss: 2733.5703 - mae: 2733.5703\n",
            "Epoch 282/500\n",
            "34/34 [==============================] - 0s 2ms/step - loss: 2730.4138 - mae: 2730.4138\n",
            "Epoch 283/500\n",
            "34/34 [==============================] - 0s 2ms/step - loss: 2727.3904 - mae: 2727.3904\n",
            "Epoch 284/500\n",
            "34/34 [==============================] - 0s 2ms/step - loss: 2725.6008 - mae: 2725.6008\n",
            "Epoch 285/500\n",
            "34/34 [==============================] - 0s 2ms/step - loss: 2724.0303 - mae: 2724.0303\n",
            "Epoch 286/500\n",
            "34/34 [==============================] - 0s 2ms/step - loss: 2720.6106 - mae: 2720.6106\n",
            "Epoch 287/500\n",
            "34/34 [==============================] - 0s 3ms/step - loss: 2718.5381 - mae: 2718.5381\n",
            "Epoch 288/500\n",
            "34/34 [==============================] - 0s 2ms/step - loss: 2712.1780 - mae: 2712.1780\n",
            "Epoch 289/500\n",
            "34/34 [==============================] - 0s 3ms/step - loss: 2710.0095 - mae: 2710.0095\n",
            "Epoch 290/500\n",
            "34/34 [==============================] - 0s 3ms/step - loss: 2709.5469 - mae: 2709.5469\n",
            "Epoch 291/500\n",
            "34/34 [==============================] - 0s 2ms/step - loss: 2705.3103 - mae: 2705.3103\n",
            "Epoch 292/500\n",
            "34/34 [==============================] - 0s 2ms/step - loss: 2703.9202 - mae: 2703.9202\n",
            "Epoch 293/500\n",
            "34/34 [==============================] - 0s 2ms/step - loss: 2701.0962 - mae: 2701.0962\n",
            "Epoch 294/500\n",
            "34/34 [==============================] - 0s 2ms/step - loss: 2698.2686 - mae: 2698.2686\n",
            "Epoch 295/500\n",
            "34/34 [==============================] - 0s 2ms/step - loss: 2696.2241 - mae: 2696.2241\n",
            "Epoch 296/500\n",
            "34/34 [==============================] - 0s 2ms/step - loss: 2694.0457 - mae: 2694.0457\n",
            "Epoch 297/500\n",
            "34/34 [==============================] - 0s 2ms/step - loss: 2690.2903 - mae: 2690.2903\n",
            "Epoch 298/500\n",
            "34/34 [==============================] - 0s 3ms/step - loss: 2689.6709 - mae: 2689.6709\n",
            "Epoch 299/500\n",
            "34/34 [==============================] - 0s 2ms/step - loss: 2684.8215 - mae: 2684.8215\n",
            "Epoch 300/500\n",
            "34/34 [==============================] - 0s 2ms/step - loss: 2685.3875 - mae: 2685.3875\n",
            "Epoch 301/500\n",
            "34/34 [==============================] - 0s 2ms/step - loss: 2679.0835 - mae: 2679.0835\n",
            "Epoch 302/500\n",
            "34/34 [==============================] - 0s 2ms/step - loss: 2677.2095 - mae: 2677.2095\n",
            "Epoch 303/500\n",
            "34/34 [==============================] - 0s 2ms/step - loss: 2675.0081 - mae: 2675.0081\n",
            "Epoch 304/500\n",
            "34/34 [==============================] - 0s 2ms/step - loss: 2670.2979 - mae: 2670.2979\n",
            "Epoch 305/500\n",
            "34/34 [==============================] - 0s 2ms/step - loss: 2668.1450 - mae: 2668.1450\n",
            "Epoch 306/500\n",
            "34/34 [==============================] - 0s 2ms/step - loss: 2663.6543 - mae: 2663.6543\n",
            "Epoch 307/500\n",
            "34/34 [==============================] - 0s 2ms/step - loss: 2661.3079 - mae: 2661.3079\n",
            "Epoch 308/500\n",
            "34/34 [==============================] - 0s 2ms/step - loss: 2658.9543 - mae: 2658.9543\n",
            "Epoch 309/500\n",
            "34/34 [==============================] - 0s 2ms/step - loss: 2657.2588 - mae: 2657.2588\n",
            "Epoch 310/500\n",
            "34/34 [==============================] - 0s 3ms/step - loss: 2653.0510 - mae: 2653.0510\n",
            "Epoch 311/500\n",
            "34/34 [==============================] - 0s 3ms/step - loss: 2649.7295 - mae: 2649.7295\n",
            "Epoch 312/500\n",
            "34/34 [==============================] - 0s 3ms/step - loss: 2648.9419 - mae: 2648.9419\n",
            "Epoch 313/500\n",
            "34/34 [==============================] - 0s 3ms/step - loss: 2644.5964 - mae: 2644.5964\n",
            "Epoch 314/500\n",
            "34/34 [==============================] - 0s 4ms/step - loss: 2642.3818 - mae: 2642.3818\n",
            "Epoch 315/500\n",
            "34/34 [==============================] - 0s 3ms/step - loss: 2640.6187 - mae: 2640.6187\n",
            "Epoch 316/500\n",
            "34/34 [==============================] - 0s 3ms/step - loss: 2637.1687 - mae: 2637.1687\n",
            "Epoch 317/500\n",
            "34/34 [==============================] - 0s 4ms/step - loss: 2633.3765 - mae: 2633.3765\n",
            "Epoch 318/500\n",
            "34/34 [==============================] - 0s 3ms/step - loss: 2629.3179 - mae: 2629.3179\n",
            "Epoch 319/500\n",
            "34/34 [==============================] - 0s 4ms/step - loss: 2628.2336 - mae: 2628.2336\n",
            "Epoch 320/500\n",
            "34/34 [==============================] - 0s 4ms/step - loss: 2624.8042 - mae: 2624.8042\n",
            "Epoch 321/500\n",
            "34/34 [==============================] - 0s 3ms/step - loss: 2620.7183 - mae: 2620.7183\n",
            "Epoch 322/500\n",
            "34/34 [==============================] - 0s 4ms/step - loss: 2618.6694 - mae: 2618.6694\n",
            "Epoch 323/500\n",
            "34/34 [==============================] - 0s 4ms/step - loss: 2614.4766 - mae: 2614.4766\n",
            "Epoch 324/500\n",
            "34/34 [==============================] - 0s 3ms/step - loss: 2612.0530 - mae: 2612.0530\n",
            "Epoch 325/500\n",
            "34/34 [==============================] - 0s 3ms/step - loss: 2608.2432 - mae: 2608.2432\n",
            "Epoch 326/500\n",
            "34/34 [==============================] - 0s 4ms/step - loss: 2604.2327 - mae: 2604.2327\n",
            "Epoch 327/500\n",
            "34/34 [==============================] - 0s 4ms/step - loss: 2601.3093 - mae: 2601.3093\n",
            "Epoch 328/500\n",
            "34/34 [==============================] - 0s 3ms/step - loss: 2598.7756 - mae: 2598.7756\n",
            "Epoch 329/500\n",
            "34/34 [==============================] - 0s 3ms/step - loss: 2595.4211 - mae: 2595.4211\n",
            "Epoch 330/500\n",
            "34/34 [==============================] - 0s 3ms/step - loss: 2594.5217 - mae: 2594.5217\n",
            "Epoch 331/500\n",
            "34/34 [==============================] - 0s 3ms/step - loss: 2592.5242 - mae: 2592.5242\n",
            "Epoch 332/500\n",
            "34/34 [==============================] - 0s 3ms/step - loss: 2587.2686 - mae: 2587.2686\n",
            "Epoch 333/500\n",
            "34/34 [==============================] - 0s 3ms/step - loss: 2584.7600 - mae: 2584.7600\n",
            "Epoch 334/500\n",
            "34/34 [==============================] - 0s 3ms/step - loss: 2580.5579 - mae: 2580.5579\n",
            "Epoch 335/500\n",
            "34/34 [==============================] - 0s 4ms/step - loss: 2581.7798 - mae: 2581.7798\n",
            "Epoch 336/500\n",
            "34/34 [==============================] - 0s 4ms/step - loss: 2573.3813 - mae: 2573.3813\n",
            "Epoch 337/500\n",
            "34/34 [==============================] - 0s 4ms/step - loss: 2570.2888 - mae: 2570.2888\n",
            "Epoch 338/500\n",
            "34/34 [==============================] - 0s 4ms/step - loss: 2567.5469 - mae: 2567.5469\n",
            "Epoch 339/500\n",
            "34/34 [==============================] - 0s 3ms/step - loss: 2564.4836 - mae: 2564.4836\n",
            "Epoch 340/500\n",
            "34/34 [==============================] - 0s 3ms/step - loss: 2561.9773 - mae: 2561.9773\n",
            "Epoch 341/500\n",
            "34/34 [==============================] - 0s 3ms/step - loss: 2557.8882 - mae: 2557.8882\n",
            "Epoch 342/500\n",
            "34/34 [==============================] - 0s 3ms/step - loss: 2556.7400 - mae: 2556.7400\n",
            "Epoch 343/500\n",
            "34/34 [==============================] - 0s 3ms/step - loss: 2551.4114 - mae: 2551.4114\n",
            "Epoch 344/500\n",
            "34/34 [==============================] - 0s 4ms/step - loss: 2546.8376 - mae: 2546.8376\n",
            "Epoch 345/500\n",
            "34/34 [==============================] - 0s 3ms/step - loss: 2543.6816 - mae: 2543.6816\n",
            "Epoch 346/500\n",
            "34/34 [==============================] - 0s 3ms/step - loss: 2542.6704 - mae: 2542.6704\n",
            "Epoch 347/500\n",
            "34/34 [==============================] - 0s 3ms/step - loss: 2540.6548 - mae: 2540.6548\n",
            "Epoch 348/500\n",
            "34/34 [==============================] - 0s 4ms/step - loss: 2538.8452 - mae: 2538.8452\n",
            "Epoch 349/500\n",
            "34/34 [==============================] - 0s 3ms/step - loss: 2530.3501 - mae: 2530.3501\n",
            "Epoch 350/500\n",
            "34/34 [==============================] - 0s 3ms/step - loss: 2528.2266 - mae: 2528.2266\n",
            "Epoch 351/500\n",
            "34/34 [==============================] - 0s 4ms/step - loss: 2525.5488 - mae: 2525.5488\n",
            "Epoch 352/500\n",
            "34/34 [==============================] - 0s 4ms/step - loss: 2521.8831 - mae: 2521.8831\n",
            "Epoch 353/500\n",
            "34/34 [==============================] - 0s 3ms/step - loss: 2518.7612 - mae: 2518.7612\n",
            "Epoch 354/500\n",
            "34/34 [==============================] - 0s 3ms/step - loss: 2513.5781 - mae: 2513.5781\n",
            "Epoch 355/500\n",
            "34/34 [==============================] - 0s 4ms/step - loss: 2510.8494 - mae: 2510.8494\n",
            "Epoch 356/500\n",
            "34/34 [==============================] - 0s 5ms/step - loss: 2509.0554 - mae: 2509.0554\n",
            "Epoch 357/500\n",
            "34/34 [==============================] - 0s 5ms/step - loss: 2504.7878 - mae: 2504.7878\n",
            "Epoch 358/500\n",
            "34/34 [==============================] - 0s 4ms/step - loss: 2511.9097 - mae: 2511.9097\n",
            "Epoch 359/500\n",
            "34/34 [==============================] - 0s 4ms/step - loss: 2500.7026 - mae: 2500.7026\n",
            "Epoch 360/500\n",
            "34/34 [==============================] - 0s 5ms/step - loss: 2495.0215 - mae: 2495.0215\n",
            "Epoch 361/500\n",
            "34/34 [==============================] - 0s 4ms/step - loss: 2491.5947 - mae: 2491.5947\n",
            "Epoch 362/500\n",
            "34/34 [==============================] - 0s 4ms/step - loss: 2488.1704 - mae: 2488.1704\n",
            "Epoch 363/500\n",
            "34/34 [==============================] - 0s 4ms/step - loss: 2484.0344 - mae: 2484.0344\n",
            "Epoch 364/500\n",
            "34/34 [==============================] - 0s 5ms/step - loss: 2481.6648 - mae: 2481.6648\n",
            "Epoch 365/500\n",
            "34/34 [==============================] - 0s 5ms/step - loss: 2478.6865 - mae: 2478.6865\n",
            "Epoch 366/500\n",
            "34/34 [==============================] - 0s 4ms/step - loss: 2475.3945 - mae: 2475.3945\n",
            "Epoch 367/500\n",
            "34/34 [==============================] - 0s 4ms/step - loss: 2471.7014 - mae: 2471.7014\n",
            "Epoch 368/500\n",
            "34/34 [==============================] - 0s 5ms/step - loss: 2472.8953 - mae: 2472.8953\n",
            "Epoch 369/500\n",
            "34/34 [==============================] - 0s 5ms/step - loss: 2466.4758 - mae: 2466.4758\n",
            "Epoch 370/500\n",
            "34/34 [==============================] - 0s 5ms/step - loss: 2463.9082 - mae: 2463.9082\n",
            "Epoch 371/500\n",
            "34/34 [==============================] - 0s 5ms/step - loss: 2462.9165 - mae: 2462.9165\n",
            "Epoch 372/500\n",
            "34/34 [==============================] - 0s 6ms/step - loss: 2457.8125 - mae: 2457.8125\n",
            "Epoch 373/500\n",
            "34/34 [==============================] - 0s 5ms/step - loss: 2455.1421 - mae: 2455.1421\n",
            "Epoch 374/500\n",
            "34/34 [==============================] - 0s 5ms/step - loss: 2453.7610 - mae: 2453.7610\n",
            "Epoch 375/500\n",
            "34/34 [==============================] - 0s 5ms/step - loss: 2451.4592 - mae: 2451.4592\n",
            "Epoch 376/500\n",
            "34/34 [==============================] - 0s 5ms/step - loss: 2447.9431 - mae: 2447.9431\n",
            "Epoch 377/500\n",
            "34/34 [==============================] - 0s 3ms/step - loss: 2445.6997 - mae: 2445.6997\n",
            "Epoch 378/500\n",
            "34/34 [==============================] - 0s 4ms/step - loss: 2442.5098 - mae: 2442.5098\n",
            "Epoch 379/500\n",
            "34/34 [==============================] - 0s 3ms/step - loss: 2440.5830 - mae: 2440.5830\n",
            "Epoch 380/500\n",
            "34/34 [==============================] - 0s 3ms/step - loss: 2441.2256 - mae: 2441.2256\n",
            "Epoch 381/500\n",
            "34/34 [==============================] - 0s 3ms/step - loss: 2436.8789 - mae: 2436.8789\n",
            "Epoch 382/500\n",
            "34/34 [==============================] - 0s 3ms/step - loss: 2432.4333 - mae: 2432.4333\n",
            "Epoch 383/500\n",
            "34/34 [==============================] - 0s 3ms/step - loss: 2430.7473 - mae: 2430.7473\n",
            "Epoch 384/500\n",
            "34/34 [==============================] - 0s 3ms/step - loss: 2430.8098 - mae: 2430.8098\n",
            "Epoch 385/500\n",
            "34/34 [==============================] - 0s 3ms/step - loss: 2432.2349 - mae: 2432.2349\n",
            "Epoch 386/500\n",
            "34/34 [==============================] - 0s 3ms/step - loss: 2425.9756 - mae: 2425.9756\n",
            "Epoch 387/500\n",
            "34/34 [==============================] - 0s 4ms/step - loss: 2420.9250 - mae: 2420.9250\n",
            "Epoch 388/500\n",
            "34/34 [==============================] - 0s 3ms/step - loss: 2420.0979 - mae: 2420.0979\n",
            "Epoch 389/500\n",
            "34/34 [==============================] - 0s 3ms/step - loss: 2422.4011 - mae: 2422.4011\n",
            "Epoch 390/500\n",
            "34/34 [==============================] - 0s 3ms/step - loss: 2417.1201 - mae: 2417.1201\n",
            "Epoch 391/500\n",
            "34/34 [==============================] - 0s 3ms/step - loss: 2415.4233 - mae: 2415.4233\n",
            "Epoch 392/500\n",
            "34/34 [==============================] - 0s 3ms/step - loss: 2412.8083 - mae: 2412.8083\n",
            "Epoch 393/500\n",
            "34/34 [==============================] - 0s 3ms/step - loss: 2411.0503 - mae: 2411.0503\n",
            "Epoch 394/500\n",
            "34/34 [==============================] - 0s 3ms/step - loss: 2408.3982 - mae: 2408.3982\n",
            "Epoch 395/500\n",
            "34/34 [==============================] - 0s 3ms/step - loss: 2410.1445 - mae: 2410.1445\n",
            "Epoch 396/500\n",
            "34/34 [==============================] - 0s 4ms/step - loss: 2405.6531 - mae: 2405.6531\n",
            "Epoch 397/500\n",
            "34/34 [==============================] - 0s 3ms/step - loss: 2408.7363 - mae: 2408.7363\n",
            "Epoch 398/500\n",
            "34/34 [==============================] - 0s 3ms/step - loss: 2403.7156 - mae: 2403.7156\n",
            "Epoch 399/500\n",
            "34/34 [==============================] - 0s 3ms/step - loss: 2399.3662 - mae: 2399.3662\n",
            "Epoch 400/500\n",
            "34/34 [==============================] - 0s 3ms/step - loss: 2398.8372 - mae: 2398.8372\n",
            "Epoch 401/500\n",
            "34/34 [==============================] - 0s 3ms/step - loss: 2395.3232 - mae: 2395.3232\n",
            "Epoch 402/500\n",
            "34/34 [==============================] - 0s 3ms/step - loss: 2397.1782 - mae: 2397.1782\n",
            "Epoch 403/500\n",
            "34/34 [==============================] - 0s 3ms/step - loss: 2391.5510 - mae: 2391.5510\n",
            "Epoch 404/500\n",
            "34/34 [==============================] - 0s 3ms/step - loss: 2392.3164 - mae: 2392.3164\n",
            "Epoch 405/500\n",
            "34/34 [==============================] - 0s 3ms/step - loss: 2388.7861 - mae: 2388.7861\n",
            "Epoch 406/500\n",
            "34/34 [==============================] - 0s 3ms/step - loss: 2388.6670 - mae: 2388.6670\n",
            "Epoch 407/500\n",
            "34/34 [==============================] - 0s 4ms/step - loss: 2386.3784 - mae: 2386.3784\n",
            "Epoch 408/500\n",
            "34/34 [==============================] - 0s 4ms/step - loss: 2384.3445 - mae: 2384.3445\n",
            "Epoch 409/500\n",
            "34/34 [==============================] - 0s 3ms/step - loss: 2382.8853 - mae: 2382.8853\n",
            "Epoch 410/500\n",
            "34/34 [==============================] - 0s 4ms/step - loss: 2382.8789 - mae: 2382.8789\n",
            "Epoch 411/500\n",
            "34/34 [==============================] - 0s 4ms/step - loss: 2379.7856 - mae: 2379.7856\n",
            "Epoch 412/500\n",
            "34/34 [==============================] - 0s 4ms/step - loss: 2377.1243 - mae: 2377.1243\n",
            "Epoch 413/500\n",
            "34/34 [==============================] - 0s 4ms/step - loss: 2379.2341 - mae: 2379.2341\n",
            "Epoch 414/500\n",
            "34/34 [==============================] - 0s 4ms/step - loss: 2376.8455 - mae: 2376.8455\n",
            "Epoch 415/500\n",
            "34/34 [==============================] - 0s 3ms/step - loss: 2373.4160 - mae: 2373.4160\n",
            "Epoch 416/500\n",
            "34/34 [==============================] - 0s 3ms/step - loss: 2370.7734 - mae: 2370.7734\n",
            "Epoch 417/500\n",
            "34/34 [==============================] - 0s 3ms/step - loss: 2370.7336 - mae: 2370.7336\n",
            "Epoch 418/500\n",
            "34/34 [==============================] - 0s 3ms/step - loss: 2369.5378 - mae: 2369.5378\n",
            "Epoch 419/500\n",
            "34/34 [==============================] - 0s 4ms/step - loss: 2371.2285 - mae: 2371.2285\n",
            "Epoch 420/500\n",
            "34/34 [==============================] - 0s 3ms/step - loss: 2365.2812 - mae: 2365.2812\n",
            "Epoch 421/500\n",
            "34/34 [==============================] - 0s 4ms/step - loss: 2364.8396 - mae: 2364.8396\n",
            "Epoch 422/500\n",
            "34/34 [==============================] - 0s 4ms/step - loss: 2363.6311 - mae: 2363.6311\n",
            "Epoch 423/500\n",
            "34/34 [==============================] - 0s 3ms/step - loss: 2360.6228 - mae: 2360.6228\n",
            "Epoch 424/500\n",
            "34/34 [==============================] - 0s 3ms/step - loss: 2359.2256 - mae: 2359.2256\n",
            "Epoch 425/500\n",
            "34/34 [==============================] - 0s 3ms/step - loss: 2359.3147 - mae: 2359.3147\n",
            "Epoch 426/500\n",
            "34/34 [==============================] - 0s 3ms/step - loss: 2356.4231 - mae: 2356.4231\n",
            "Epoch 427/500\n",
            "34/34 [==============================] - 0s 4ms/step - loss: 2357.4236 - mae: 2357.4236\n",
            "Epoch 428/500\n",
            "34/34 [==============================] - 0s 3ms/step - loss: 2353.5537 - mae: 2353.5537\n",
            "Epoch 429/500\n",
            "34/34 [==============================] - 0s 3ms/step - loss: 2353.3369 - mae: 2353.3369\n",
            "Epoch 430/500\n",
            "34/34 [==============================] - 0s 3ms/step - loss: 2350.9446 - mae: 2350.9446\n",
            "Epoch 431/500\n",
            "34/34 [==============================] - 0s 4ms/step - loss: 2348.5273 - mae: 2348.5273\n",
            "Epoch 432/500\n",
            "34/34 [==============================] - 0s 3ms/step - loss: 2349.1113 - mae: 2349.1113\n",
            "Epoch 433/500\n",
            "34/34 [==============================] - 0s 3ms/step - loss: 2352.0962 - mae: 2352.0962\n",
            "Epoch 434/500\n",
            "34/34 [==============================] - 0s 3ms/step - loss: 2345.7192 - mae: 2345.7192\n",
            "Epoch 435/500\n",
            "34/34 [==============================] - 0s 3ms/step - loss: 2344.7983 - mae: 2344.7983\n",
            "Epoch 436/500\n",
            "34/34 [==============================] - 0s 3ms/step - loss: 2342.6399 - mae: 2342.6399\n",
            "Epoch 437/500\n",
            "34/34 [==============================] - 0s 3ms/step - loss: 2340.3020 - mae: 2340.3020\n",
            "Epoch 438/500\n",
            "34/34 [==============================] - 0s 3ms/step - loss: 2339.8899 - mae: 2339.8899\n",
            "Epoch 439/500\n",
            "34/34 [==============================] - 0s 3ms/step - loss: 2341.0293 - mae: 2341.0293\n",
            "Epoch 440/500\n",
            "34/34 [==============================] - 0s 4ms/step - loss: 2337.4160 - mae: 2337.4160\n",
            "Epoch 441/500\n",
            "34/34 [==============================] - 0s 3ms/step - loss: 2336.3687 - mae: 2336.3687\n",
            "Epoch 442/500\n",
            "34/34 [==============================] - 0s 3ms/step - loss: 2336.7097 - mae: 2336.7097\n",
            "Epoch 443/500\n",
            "34/34 [==============================] - 0s 3ms/step - loss: 2331.2749 - mae: 2331.2749\n",
            "Epoch 444/500\n",
            "34/34 [==============================] - 0s 3ms/step - loss: 2330.3445 - mae: 2330.3445\n",
            "Epoch 445/500\n",
            "34/34 [==============================] - 0s 3ms/step - loss: 2331.7812 - mae: 2331.7812\n",
            "Epoch 446/500\n",
            "34/34 [==============================] - 0s 3ms/step - loss: 2335.3789 - mae: 2335.3789\n",
            "Epoch 447/500\n",
            "34/34 [==============================] - 0s 4ms/step - loss: 2325.8674 - mae: 2325.8674\n",
            "Epoch 448/500\n",
            "34/34 [==============================] - 0s 4ms/step - loss: 2328.2183 - mae: 2328.2183\n",
            "Epoch 449/500\n",
            "34/34 [==============================] - 0s 4ms/step - loss: 2324.1321 - mae: 2324.1321\n",
            "Epoch 450/500\n",
            "34/34 [==============================] - 0s 4ms/step - loss: 2322.4045 - mae: 2322.4045\n",
            "Epoch 451/500\n",
            "34/34 [==============================] - 0s 3ms/step - loss: 2320.4768 - mae: 2320.4768\n",
            "Epoch 452/500\n",
            "34/34 [==============================] - 0s 3ms/step - loss: 2321.1011 - mae: 2321.1011\n",
            "Epoch 453/500\n",
            "34/34 [==============================] - 0s 3ms/step - loss: 2319.7957 - mae: 2319.7957\n",
            "Epoch 454/500\n",
            "34/34 [==============================] - 0s 3ms/step - loss: 2316.6189 - mae: 2316.6189\n",
            "Epoch 455/500\n",
            "34/34 [==============================] - 0s 3ms/step - loss: 2315.7307 - mae: 2315.7307\n",
            "Epoch 456/500\n",
            "34/34 [==============================] - 0s 3ms/step - loss: 2313.5903 - mae: 2313.5903\n",
            "Epoch 457/500\n",
            "34/34 [==============================] - 0s 4ms/step - loss: 2312.4763 - mae: 2312.4763\n",
            "Epoch 458/500\n",
            "34/34 [==============================] - 0s 3ms/step - loss: 2311.3174 - mae: 2311.3174\n",
            "Epoch 459/500\n",
            "34/34 [==============================] - 0s 3ms/step - loss: 2311.4871 - mae: 2311.4871\n",
            "Epoch 460/500\n",
            "34/34 [==============================] - 0s 4ms/step - loss: 2308.9407 - mae: 2308.9407\n",
            "Epoch 461/500\n",
            "34/34 [==============================] - 0s 5ms/step - loss: 2307.5103 - mae: 2307.5103\n",
            "Epoch 462/500\n",
            "34/34 [==============================] - 0s 5ms/step - loss: 2307.8408 - mae: 2307.8408\n",
            "Epoch 463/500\n",
            "34/34 [==============================] - 0s 5ms/step - loss: 2304.9756 - mae: 2304.9756\n",
            "Epoch 464/500\n",
            "34/34 [==============================] - 0s 5ms/step - loss: 2303.9485 - mae: 2303.9485\n",
            "Epoch 465/500\n",
            "34/34 [==============================] - 0s 4ms/step - loss: 2303.0127 - mae: 2303.0127\n",
            "Epoch 466/500\n",
            "34/34 [==============================] - 0s 4ms/step - loss: 2302.4429 - mae: 2302.4429\n",
            "Epoch 467/500\n",
            "34/34 [==============================] - 0s 4ms/step - loss: 2301.6731 - mae: 2301.6731\n",
            "Epoch 468/500\n",
            "34/34 [==============================] - 0s 4ms/step - loss: 2302.9927 - mae: 2302.9927\n",
            "Epoch 469/500\n",
            "34/34 [==============================] - 0s 4ms/step - loss: 2297.1548 - mae: 2297.1548\n",
            "Epoch 470/500\n",
            "34/34 [==============================] - 0s 5ms/step - loss: 2296.5415 - mae: 2296.5415\n",
            "Epoch 471/500\n",
            "34/34 [==============================] - 0s 4ms/step - loss: 2293.6174 - mae: 2293.6174\n",
            "Epoch 472/500\n",
            "34/34 [==============================] - 0s 4ms/step - loss: 2292.4578 - mae: 2292.4578\n",
            "Epoch 473/500\n",
            "34/34 [==============================] - 0s 4ms/step - loss: 2293.6875 - mae: 2293.6875\n",
            "Epoch 474/500\n",
            "34/34 [==============================] - 0s 4ms/step - loss: 2290.8799 - mae: 2290.8799\n",
            "Epoch 475/500\n",
            "34/34 [==============================] - 0s 4ms/step - loss: 2288.6667 - mae: 2288.6667\n",
            "Epoch 476/500\n",
            "34/34 [==============================] - 0s 4ms/step - loss: 2287.6509 - mae: 2287.6509\n",
            "Epoch 477/500\n",
            "34/34 [==============================] - 0s 5ms/step - loss: 2289.2222 - mae: 2289.2222\n",
            "Epoch 478/500\n",
            "34/34 [==============================] - 0s 5ms/step - loss: 2289.5566 - mae: 2289.5566\n",
            "Epoch 479/500\n",
            "34/34 [==============================] - 0s 5ms/step - loss: 2283.7419 - mae: 2283.7419\n",
            "Epoch 480/500\n",
            "34/34 [==============================] - 0s 5ms/step - loss: 2281.2983 - mae: 2281.2983\n",
            "Epoch 481/500\n",
            "34/34 [==============================] - 0s 3ms/step - loss: 2282.2952 - mae: 2282.2952\n",
            "Epoch 482/500\n",
            "34/34 [==============================] - 0s 5ms/step - loss: 2282.0017 - mae: 2282.0017\n",
            "Epoch 483/500\n",
            "34/34 [==============================] - 0s 4ms/step - loss: 2278.7295 - mae: 2278.7295\n",
            "Epoch 484/500\n",
            "34/34 [==============================] - 0s 5ms/step - loss: 2276.5100 - mae: 2276.5100\n",
            "Epoch 485/500\n",
            "34/34 [==============================] - 0s 5ms/step - loss: 2276.3716 - mae: 2276.3716\n",
            "Epoch 486/500\n",
            "34/34 [==============================] - 0s 6ms/step - loss: 2279.9983 - mae: 2279.9983\n",
            "Epoch 487/500\n",
            "34/34 [==============================] - 0s 5ms/step - loss: 2273.1831 - mae: 2273.1831\n",
            "Epoch 488/500\n",
            "34/34 [==============================] - 0s 3ms/step - loss: 2271.2793 - mae: 2271.2793\n",
            "Epoch 489/500\n",
            "34/34 [==============================] - 0s 3ms/step - loss: 2270.3906 - mae: 2270.3906\n",
            "Epoch 490/500\n",
            "34/34 [==============================] - 0s 3ms/step - loss: 2269.7852 - mae: 2269.7852\n",
            "Epoch 491/500\n",
            "34/34 [==============================] - 0s 4ms/step - loss: 2268.0469 - mae: 2268.0469\n",
            "Epoch 492/500\n",
            "34/34 [==============================] - 0s 3ms/step - loss: 2267.4966 - mae: 2267.4966\n",
            "Epoch 493/500\n",
            "34/34 [==============================] - 0s 3ms/step - loss: 2265.9165 - mae: 2265.9165\n",
            "Epoch 494/500\n",
            "34/34 [==============================] - 0s 4ms/step - loss: 2263.6833 - mae: 2263.6833\n",
            "Epoch 495/500\n",
            "34/34 [==============================] - 0s 3ms/step - loss: 2263.8630 - mae: 2263.8630\n",
            "Epoch 496/500\n",
            "34/34 [==============================] - 0s 3ms/step - loss: 2264.3752 - mae: 2264.3752\n",
            "Epoch 497/500\n",
            "34/34 [==============================] - 0s 3ms/step - loss: 2260.8931 - mae: 2260.8931\n",
            "Epoch 498/500\n",
            "34/34 [==============================] - 0s 4ms/step - loss: 2259.6033 - mae: 2259.6033\n",
            "Epoch 499/500\n",
            "34/34 [==============================] - 0s 4ms/step - loss: 2262.1487 - mae: 2262.1487\n",
            "Epoch 500/500\n",
            "34/34 [==============================] - 0s 4ms/step - loss: 2259.4348 - mae: 2259.4348\n"
          ]
        }
      ]
    },
    {
      "cell_type": "code",
      "source": [
        "# Check the result on test data\n",
        "insurance_model_2.evaluate(x_test_normal, y_test)"
      ],
      "metadata": {
        "colab": {
          "base_uri": "https://localhost:8080/"
        },
        "id": "X-CVLl6mklAo",
        "outputId": "52c2688b-8658-4516-fc24-faf7bda3f789"
      },
      "execution_count": 105,
      "outputs": [
        {
          "output_type": "stream",
          "name": "stdout",
          "text": [
            "9/9 [==============================] - 1s 9ms/step - loss: 12968.3955 - mae: 12968.3955\n"
          ]
        },
        {
          "output_type": "execute_result",
          "data": {
            "text/plain": [
              "[12968.3955078125, 12968.3955078125]"
            ]
          },
          "metadata": {},
          "execution_count": 105
        }
      ]
    }
  ]
}