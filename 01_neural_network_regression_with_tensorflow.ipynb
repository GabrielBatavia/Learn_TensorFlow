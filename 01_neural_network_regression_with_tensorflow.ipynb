{
  "nbformat": 4,
  "nbformat_minor": 0,
  "metadata": {
    "colab": {
      "provenance": [],
      "authorship_tag": "ABX9TyNXjMvtkXY7aUMW1rGRaLPF",
      "include_colab_link": true
    },
    "kernelspec": {
      "name": "python3",
      "display_name": "Python 3"
    },
    "language_info": {
      "name": "python"
    }
  },
  "cells": [
    {
      "cell_type": "markdown",
      "metadata": {
        "id": "view-in-github",
        "colab_type": "text"
      },
      "source": [
        "<a href=\"https://colab.research.google.com/github/GabrielBatavia/Learn_TensorFlow/blob/main/01_neural_network_regression_with_tensorflow.ipynb\" target=\"_parent\"><img src=\"https://colab.research.google.com/assets/colab-badge.svg\" alt=\"Open In Colab\"/></a>"
      ]
    },
    {
      "cell_type": "markdown",
      "source": [
        "# Introduction to Regression with Neural Networks in TensorFlow\n",
        "\n",
        "There are many definition for a regression problem but in our case, we're going to simplify it : predicting a numerical variable based on some other combination of variables, even shorter...predicting a number."
      ],
      "metadata": {
        "id": "eANshE7nr2zb"
      }
    },
    {
      "cell_type": "code",
      "execution_count": 1,
      "metadata": {
        "colab": {
          "base_uri": "https://localhost:8080/"
        },
        "id": "UmVJP_eWrO59",
        "outputId": "c01abcf1-1ccc-40f3-efc0-df0ae156e141"
      },
      "outputs": [
        {
          "output_type": "stream",
          "name": "stdout",
          "text": [
            "2.15.0\n"
          ]
        }
      ],
      "source": [
        "# Import TensorFlow\n",
        "\n",
        "import tensorflow as tf\n",
        "print(tf.__version__)"
      ]
    },
    {
      "cell_type": "markdown",
      "source": [
        "## Creating data to view and fit"
      ],
      "metadata": {
        "id": "vbbwMFoqskyN"
      }
    },
    {
      "cell_type": "code",
      "source": [
        "import numpy as np\n",
        "import matplotlib.pyplot as plt"
      ],
      "metadata": {
        "id": "DXOtRA60shEW"
      },
      "execution_count": 2,
      "outputs": []
    },
    {
      "cell_type": "code",
      "source": [
        "# Creating features\n",
        "\n",
        "x = np.array([-7., -4., -1., 2., 5., 8., 11., 14.])\n",
        "\n",
        "# Create labels\n",
        "y = np.array([3., 6., 9., 12., 15., 18., 21., 24.])\n",
        "\n",
        "# Visualize it\n",
        "plt.scatter(x, y);"
      ],
      "metadata": {
        "colab": {
          "base_uri": "https://localhost:8080/",
          "height": 435
        },
        "id": "SX4eHtEts4GD",
        "outputId": "1f8fa4e0-9581-4716-c55f-80e5e7c60dc1"
      },
      "execution_count": 3,
      "outputs": [
        {
          "output_type": "display_data",
          "data": {
            "text/plain": [
              "<Figure size 640x480 with 1 Axes>"
            ],
            "image/png": "[encoded data removed]"
          },
          "metadata": {}
        }
      ]
    },
    {
      "cell_type": "code",
      "source": [
        "y == x + 10"
      ],
      "metadata": {
        "id": "qaf2FE-utbQ-",
        "colab": {
          "base_uri": "https://localhost:8080/"
        },
        "outputId": "d623ba57-df35-462d-fb53-6eb350863c85"
      },
      "execution_count": 4,
      "outputs": [
        {
          "output_type": "execute_result",
          "data": {
            "text/plain": [
              "array([ True,  True,  True,  True,  True,  True,  True,  True])"
            ]
          },
          "metadata": {},
          "execution_count": 4
        }
      ]
    },
    {
      "cell_type": "markdown",
      "source": [
        "## Input and Output shapes"
      ],
      "metadata": {
        "id": "hHex_79OxmAn"
      }
    },
    {
      "cell_type": "code",
      "source": [
        "# Create a demo tensor for out housing price prediction problem\n",
        "\n",
        "house_info = tf.constant([\"bedroom\", \"bathroom\", \"garage\"])\n",
        "house_price = tf.constant([939700])\n",
        "\n",
        "house_info, house_price"
      ],
      "metadata": {
        "colab": {
          "base_uri": "https://localhost:8080/"
        },
        "id": "EKNlltO3xrVe",
        "outputId": "cfe04cf8-678a-42f0-f55f-6e4617145914"
      },
      "execution_count": 5,
      "outputs": [
        {
          "output_type": "execute_result",
          "data": {
            "text/plain": [
              "(<tf.Tensor: shape=(3,), dtype=string, numpy=array([b'bedroom', b'bathroom', b'garage'], dtype=object)>,\n",
              " <tf.Tensor: shape=(1,), dtype=int32, numpy=array([939700], dtype=int32)>)"
            ]
          },
          "metadata": {},
          "execution_count": 5
        }
      ]
    },
    {
      "cell_type": "code",
      "source": [
        "x[0], y[0]"
      ],
      "metadata": {
        "colab": {
          "base_uri": "https://localhost:8080/"
        },
        "id": "-tWt-gYSzm66",
        "outputId": "75c6397b-916e-46ca-b325-408af8fe7175"
      },
      "execution_count": 6,
      "outputs": [
        {
          "output_type": "execute_result",
          "data": {
            "text/plain": [
              "(-7.0, 3.0)"
            ]
          },
          "metadata": {},
          "execution_count": 6
        }
      ]
    },
    {
      "cell_type": "code",
      "source": [
        "input_shape = x[0].shape\n",
        "output_shape = y[0].shape\n",
        "\n",
        "input_shape, output_shape"
      ],
      "metadata": {
        "colab": {
          "base_uri": "https://localhost:8080/"
        },
        "id": "sGSz7U-vzY4m",
        "outputId": "8c31dd0e-252a-4be5-fe1f-941e9e7cef37"
      },
      "execution_count": 7,
      "outputs": [
        {
          "output_type": "execute_result",
          "data": {
            "text/plain": [
              "((), ())"
            ]
          },
          "metadata": {},
          "execution_count": 7
        }
      ]
    },
    {
      "cell_type": "code",
      "source": [
        "x[0].ndim"
      ],
      "metadata": {
        "colab": {
          "base_uri": "https://localhost:8080/"
        },
        "id": "VCL4zHK5z8RR",
        "outputId": "f5556303-c9fd-44c0-b3d1-019a8ea4b5ea"
      },
      "execution_count": 8,
      "outputs": [
        {
          "output_type": "execute_result",
          "data": {
            "text/plain": [
              "0"
            ]
          },
          "metadata": {},
          "execution_count": 8
        }
      ]
    },
    {
      "cell_type": "code",
      "source": [
        "# Turn our Numpy arrays into tensors with dtype 32\n",
        "\n",
        "X = tf.constant(x, dtype=tf.float32)\n",
        "Y = tf.constant(y, dtype=tf.float32)\n",
        "\n",
        "X, Y"
      ],
      "metadata": {
        "colab": {
          "base_uri": "https://localhost:8080/"
        },
        "id": "QL2Ofdwmz-sQ",
        "outputId": "95febca6-6b3f-439c-d0b6-baaceb342c9d"
      },
      "execution_count": 9,
      "outputs": [
        {
          "output_type": "execute_result",
          "data": {
            "text/plain": [
              "(<tf.Tensor: shape=(8,), dtype=float32, numpy=array([-7., -4., -1.,  2.,  5.,  8., 11., 14.], dtype=float32)>,\n",
              " <tf.Tensor: shape=(8,), dtype=float32, numpy=array([ 3.,  6.,  9., 12., 15., 18., 21., 24.], dtype=float32)>)"
            ]
          },
          "metadata": {},
          "execution_count": 9
        }
      ]
    },
    {
      "cell_type": "code",
      "source": [
        "input_shape = X[0].shape\n",
        "output_shape = y[0].shape\n",
        "\n",
        "input_shape, output_shape"
      ],
      "metadata": {
        "colab": {
          "base_uri": "https://localhost:8080/"
        },
        "id": "R6m8i44s1t3S",
        "outputId": "9feb9ac0-bf8d-4bc0-caca-57a701a60c99"
      },
      "execution_count": 10,
      "outputs": [
        {
          "output_type": "execute_result",
          "data": {
            "text/plain": [
              "(TensorShape([]), ())"
            ]
          },
          "metadata": {},
          "execution_count": 10
        }
      ]
    },
    {
      "cell_type": "markdown",
      "source": [
        "## Steps in modelling with TensorFlow\n",
        "\n",
        "1. **Creating a model** - define the input and output layers, as well as the hidden layers of a deep learning model.\n",
        "\n",
        "2. **Compiling a model** - define the loss function (in other words, the function wich tells our model how wrong it is) and the optimizer (tells our model how to improve the patterns its learning) and evaluation metrics (what we can use to interpret the preformance of our model)\n",
        "\n",
        "3. Fitting a model - letting the model try to find patters between X & y (features and labels)"
      ],
      "metadata": {
        "id": "T9heq-y318BJ"
      }
    },
    {
      "cell_type": "code",
      "source": [
        "# Opetionally, the first layer can receive an 'input_shape' argument :\n",
        "# model = tf.keras.Sequential()\n",
        "# model.add(tf.keras.layers.Dense(8, input_shape=(16,)))\n",
        "\n",
        "# Afterwards, we do automatic shape inference :\n",
        "# model.add(tf.keras.layers.Dense(4))\n",
        "\n",
        "# model = tf.keras.Sequential()\n",
        "# model.add(tf.keras.layers.Dense(1))\n",
        "# ..."
      ],
      "metadata": {
        "id": "nEAWuhvc6w4g"
      },
      "execution_count": 11,
      "outputs": []
    },
    {
      "cell_type": "code",
      "source": [
        "# Set random seed\n",
        "\n",
        "tf.random.set_seed(42)\n",
        "\n",
        "# 1. Create a model using the Sequential API\n",
        "model = tf.keras.Sequential([\n",
        "    tf.keras.layers.Dense(1)\n",
        "])\n",
        "\n",
        "# 2. Compile the model\n",
        "model.compile(loss = tf.keras.losses.mae, # mae is short for mean absolute error\n",
        "              optimizer = tf.keras.optimizers.SGD(), # sgd is short for stochasitc gradient decent\n",
        "              metrics = [\"mae\"])\n",
        "\n",
        "# 3. Fit the model\n",
        "# model.fit(X, Y, epochs=5) # BREAK IN UPDATED TENSOR VERSION\n",
        "model.fit(tf.expand_dims(X, axis=-1), Y, epochs=5)"
      ],
      "metadata": {
        "colab": {
          "base_uri": "https://localhost:8080/"
        },
        "id": "ubX_9SYR149W",
        "outputId": "8f8d867a-3f31-4c4c-c9a8-b0fc7d051519"
      },
      "execution_count": 12,
      "outputs": [
        {
          "output_type": "stream",
          "name": "stdout",
          "text": [
            "Epoch 1/5\n",
            "1/1 [==============================] - 1s 839ms/step - loss: 9.0209 - mae: 9.0209\n",
            "Epoch 2/5\n",
            "1/1 [==============================] - 0s 14ms/step - loss: 8.8884 - mae: 8.8884\n",
            "Epoch 3/5\n",
            "1/1 [==============================] - 0s 11ms/step - loss: 8.7559 - mae: 8.7559\n",
            "Epoch 4/5\n",
            "1/1 [==============================] - 0s 10ms/step - loss: 8.6234 - mae: 8.6234\n",
            "Epoch 5/5\n",
            "1/1 [==============================] - 0s 11ms/step - loss: 8.4909 - mae: 8.4909\n"
          ]
        },
        {
          "output_type": "execute_result",
          "data": {
            "text/plain": [
              "<keras.src.callbacks.History at 0x7a81a7d3e290>"
            ]
          },
          "metadata": {},
          "execution_count": 12
        }
      ]
    },
    {
      "cell_type": "code",
      "source": [
        "# Check our X and Y\n",
        "x, y"
      ],
      "metadata": {
        "colab": {
          "base_uri": "https://localhost:8080/"
        },
        "id": "1B1DsBlo9jYC",
        "outputId": "5163ef36-be4b-41a4-87f3-bad9201f3ca7"
      },
      "execution_count": 13,
      "outputs": [
        {
          "output_type": "execute_result",
          "data": {
            "text/plain": [
              "(array([-7., -4., -1.,  2.,  5.,  8., 11., 14.]),\n",
              " array([ 3.,  6.,  9., 12., 15., 18., 21., 24.]))"
            ]
          },
          "metadata": {},
          "execution_count": 13
        }
      ]
    },
    {
      "cell_type": "code",
      "source": [
        "# Try make prediction\n",
        "model.predict([17.0])"
      ],
      "metadata": {
        "colab": {
          "base_uri": "https://localhost:8080/"
        },
        "id": "L4S19GPP9pXG",
        "outputId": "9e48a5ab-e2b8-4d9c-fe57-dbd25ce469c0"
      },
      "execution_count": 14,
      "outputs": [
        {
          "output_type": "stream",
          "name": "stdout",
          "text": [
            "1/1 [==============================] - 0s 132ms/step\n"
          ]
        },
        {
          "output_type": "execute_result",
          "data": {
            "text/plain": [
              "array([[24.78069]], dtype=float32)"
            ]
          },
          "metadata": {},
          "execution_count": 14
        }
      ]
    },
    {
      "cell_type": "markdown",
      "source": [
        "## Improving our model\n",
        "\n",
        "We can improve our model, by altering the steps we took to create a model.\n",
        "\n",
        "1. **Creating a model** - ere we might add more layers, increse the number of hidden units (all called neurons) within each of the hidden layers, change the activation function of each layer.\n",
        "\n",
        "2. **Compiling a model** - here we might chang ethe optimization function or perhaps the **learning rate** of the optimization function.\n",
        "\n",
        "3. **Fitting a model** - here we might fit a model for more **epochs** (leave it training for longer) or on more data (give the model more examples to learn form)"
      ],
      "metadata": {
        "id": "Nq6KqLEo-HP4"
      }
    },
    {
      "cell_type": "code",
      "source": [
        "# Let's rebuild our model\n",
        "\n",
        "# 1. Create the model\n",
        "model1 = tf.keras.Sequential([\n",
        "    tf.keras.layers.Dense(1)\n",
        "])\n",
        "\n",
        "# 2. Compile the model\n",
        "model1.compile(loss = tf.keras.losses.mae,\n",
        "              optimizer = tf.keras.optimizers.SGD(),\n",
        "              metrics = [\"mae\"])\n",
        "\n",
        "# 3. Fit the model\n",
        "# model.fit(X, Y, epochs=5) # BREAK IN UPDATED TENSOR VERSION\n",
        "model1.fit(tf.expand_dims(X, axis=-1), Y, epochs=100)"
      ],
      "metadata": {
        "colab": {
          "base_uri": "https://localhost:8080/"
        },
        "id": "GPGzIvb2DLc2",
        "outputId": "05fb2a98-f4df-4aac-a2b1-97248f9ad386"
      },
      "execution_count": 15,
      "outputs": [
        {
          "output_type": "stream",
          "name": "stdout",
          "text": [
            "Epoch 1/100\n",
            "1/1 [==============================] - 1s 586ms/step - loss: 8.4000 - mae: 8.4000\n",
            "Epoch 2/100\n",
            "1/1 [==============================] - 0s 15ms/step - loss: 8.2675 - mae: 8.2675\n",
            "Epoch 3/100\n",
            "1/1 [==============================] - 0s 12ms/step - loss: 8.1350 - mae: 8.1350\n",
            "Epoch 4/100\n",
            "1/1 [==============================] - 0s 14ms/step - loss: 8.0025 - mae: 8.0025\n",
            "Epoch 5/100\n",
            "1/1 [==============================] - 0s 13ms/step - loss: 7.8700 - mae: 7.8700\n",
            "Epoch 6/100\n",
            "1/1 [==============================] - 0s 11ms/step - loss: 7.7375 - mae: 7.7375\n",
            "Epoch 7/100\n",
            "1/1 [==============================] - 0s 17ms/step - loss: 7.6050 - mae: 7.6050\n",
            "Epoch 8/100\n",
            "1/1 [==============================] - 0s 17ms/step - loss: 7.4725 - mae: 7.4725\n",
            "Epoch 9/100\n",
            "1/1 [==============================] - 0s 12ms/step - loss: 7.4400 - mae: 7.4400\n",
            "Epoch 10/100\n",
            "1/1 [==============================] - 0s 11ms/step - loss: 7.4344 - mae: 7.4344\n",
            "Epoch 11/100\n",
            "1/1 [==============================] - 0s 12ms/step - loss: 7.4288 - mae: 7.4288\n",
            "Epoch 12/100\n",
            "1/1 [==============================] - 0s 13ms/step - loss: 7.4231 - mae: 7.4231\n",
            "Epoch 13/100\n",
            "1/1 [==============================] - 0s 15ms/step - loss: 7.4175 - mae: 7.4175\n",
            "Epoch 14/100\n",
            "1/1 [==============================] - 0s 12ms/step - loss: 7.4119 - mae: 7.4119\n",
            "Epoch 15/100\n",
            "1/1 [==============================] - 0s 12ms/step - loss: 7.4062 - mae: 7.4062\n",
            "Epoch 16/100\n",
            "1/1 [==============================] - 0s 14ms/step - loss: 7.4006 - mae: 7.4006\n",
            "Epoch 17/100\n",
            "1/1 [==============================] - 0s 13ms/step - loss: 7.3950 - mae: 7.3950\n",
            "Epoch 18/100\n",
            "1/1 [==============================] - 0s 12ms/step - loss: 7.3894 - mae: 7.3894\n",
            "Epoch 19/100\n",
            "1/1 [==============================] - 0s 13ms/step - loss: 7.3837 - mae: 7.3837\n",
            "Epoch 20/100\n",
            "1/1 [==============================] - 0s 11ms/step - loss: 7.3781 - mae: 7.3781\n",
            "Epoch 21/100\n",
            "1/1 [==============================] - 0s 14ms/step - loss: 7.3725 - mae: 7.3725\n",
            "Epoch 22/100\n",
            "1/1 [==============================] - 0s 15ms/step - loss: 7.3669 - mae: 7.3669\n",
            "Epoch 23/100\n",
            "1/1 [==============================] - 0s 18ms/step - loss: 7.3613 - mae: 7.3613\n",
            "Epoch 24/100\n",
            "1/1 [==============================] - 0s 14ms/step - loss: 7.3556 - mae: 7.3556\n",
            "Epoch 25/100\n",
            "1/1 [==============================] - 0s 18ms/step - loss: 7.3500 - mae: 7.3500\n",
            "Epoch 26/100\n",
            "1/1 [==============================] - 0s 12ms/step - loss: 7.3444 - mae: 7.3444\n",
            "Epoch 27/100\n",
            "1/1 [==============================] - 0s 10ms/step - loss: 7.3387 - mae: 7.3387\n",
            "Epoch 28/100\n",
            "1/1 [==============================] - 0s 11ms/step - loss: 7.3331 - mae: 7.3331\n",
            "Epoch 29/100\n",
            "1/1 [==============================] - 0s 10ms/step - loss: 7.3275 - mae: 7.3275\n",
            "Epoch 30/100\n",
            "1/1 [==============================] - 0s 12ms/step - loss: 7.3219 - mae: 7.3219\n",
            "Epoch 31/100\n",
            "1/1 [==============================] - 0s 12ms/step - loss: 7.3162 - mae: 7.3162\n",
            "Epoch 32/100\n",
            "1/1 [==============================] - 0s 15ms/step - loss: 7.3106 - mae: 7.3106\n",
            "Epoch 33/100\n",
            "1/1 [==============================] - 0s 12ms/step - loss: 7.3050 - mae: 7.3050\n",
            "Epoch 34/100\n",
            "1/1 [==============================] - 0s 12ms/step - loss: 7.2994 - mae: 7.2994\n",
            "Epoch 35/100\n",
            "1/1 [==============================] - 0s 13ms/step - loss: 7.2938 - mae: 7.2938\n",
            "Epoch 36/100\n",
            "1/1 [==============================] - 0s 12ms/step - loss: 7.2881 - mae: 7.2881\n",
            "Epoch 37/100\n",
            "1/1 [==============================] - 0s 15ms/step - loss: 7.2825 - mae: 7.2825\n",
            "Epoch 38/100\n",
            "1/1 [==============================] - 0s 11ms/step - loss: 7.2769 - mae: 7.2769\n",
            "Epoch 39/100\n",
            "1/1 [==============================] - 0s 14ms/step - loss: 7.2712 - mae: 7.2712\n",
            "Epoch 40/100\n",
            "1/1 [==============================] - 0s 15ms/step - loss: 7.2656 - mae: 7.2656\n",
            "Epoch 41/100\n",
            "1/1 [==============================] - 0s 14ms/step - loss: 7.2600 - mae: 7.2600\n",
            "Epoch 42/100\n",
            "1/1 [==============================] - 0s 13ms/step - loss: 7.2544 - mae: 7.2544\n",
            "Epoch 43/100\n",
            "1/1 [==============================] - 0s 16ms/step - loss: 7.2488 - mae: 7.2488\n",
            "Epoch 44/100\n",
            "1/1 [==============================] - 0s 34ms/step - loss: 7.2431 - mae: 7.2431\n",
            "Epoch 45/100\n",
            "1/1 [==============================] - 0s 35ms/step - loss: 7.2375 - mae: 7.2375\n",
            "Epoch 46/100\n",
            "1/1 [==============================] - 0s 43ms/step - loss: 7.2319 - mae: 7.2319\n",
            "Epoch 47/100\n",
            "1/1 [==============================] - 0s 39ms/step - loss: 7.2263 - mae: 7.2263\n",
            "Epoch 48/100\n",
            "1/1 [==============================] - 0s 37ms/step - loss: 7.2206 - mae: 7.2206\n",
            "Epoch 49/100\n",
            "1/1 [==============================] - 0s 33ms/step - loss: 7.2150 - mae: 7.2150\n",
            "Epoch 50/100\n",
            "1/1 [==============================] - 0s 23ms/step - loss: 7.2094 - mae: 7.2094\n",
            "Epoch 51/100\n",
            "1/1 [==============================] - 0s 35ms/step - loss: 7.2038 - mae: 7.2038\n",
            "Epoch 52/100\n",
            "1/1 [==============================] - 0s 32ms/step - loss: 7.1981 - mae: 7.1981\n",
            "Epoch 53/100\n",
            "1/1 [==============================] - 0s 24ms/step - loss: 7.1925 - mae: 7.1925\n",
            "Epoch 54/100\n",
            "1/1 [==============================] - 0s 26ms/step - loss: 7.1869 - mae: 7.1869\n",
            "Epoch 55/100\n",
            "1/1 [==============================] - 0s 29ms/step - loss: 7.1813 - mae: 7.1813\n",
            "Epoch 56/100\n",
            "1/1 [==============================] - 0s 25ms/step - loss: 7.1756 - mae: 7.1756\n",
            "Epoch 57/100\n",
            "1/1 [==============================] - 0s 44ms/step - loss: 7.1700 - mae: 7.1700\n",
            "Epoch 58/100\n",
            "1/1 [==============================] - 0s 68ms/step - loss: 7.1644 - mae: 7.1644\n",
            "Epoch 59/100\n",
            "1/1 [==============================] - 0s 24ms/step - loss: 7.1588 - mae: 7.1588\n",
            "Epoch 60/100\n",
            "1/1 [==============================] - 0s 15ms/step - loss: 7.1531 - mae: 7.1531\n",
            "Epoch 61/100\n",
            "1/1 [==============================] - 0s 15ms/step - loss: 7.1475 - mae: 7.1475\n",
            "Epoch 62/100\n",
            "1/1 [==============================] - 0s 26ms/step - loss: 7.1419 - mae: 7.1419\n",
            "Epoch 63/100\n",
            "1/1 [==============================] - 0s 19ms/step - loss: 7.1363 - mae: 7.1363\n",
            "Epoch 64/100\n",
            "1/1 [==============================] - 0s 30ms/step - loss: 7.1306 - mae: 7.1306\n",
            "Epoch 65/100\n",
            "1/1 [==============================] - 0s 24ms/step - loss: 7.1250 - mae: 7.1250\n",
            "Epoch 66/100\n",
            "1/1 [==============================] - 0s 23ms/step - loss: 7.1194 - mae: 7.1194\n",
            "Epoch 67/100\n",
            "1/1 [==============================] - 0s 27ms/step - loss: 7.1138 - mae: 7.1138\n",
            "Epoch 68/100\n",
            "1/1 [==============================] - 0s 30ms/step - loss: 7.1081 - mae: 7.1081\n",
            "Epoch 69/100\n",
            "1/1 [==============================] - 0s 24ms/step - loss: 7.1025 - mae: 7.1025\n",
            "Epoch 70/100\n",
            "1/1 [==============================] - 0s 23ms/step - loss: 7.0969 - mae: 7.0969\n",
            "Epoch 71/100\n",
            "1/1 [==============================] - 0s 31ms/step - loss: 7.0913 - mae: 7.0913\n",
            "Epoch 72/100\n",
            "1/1 [==============================] - 0s 31ms/step - loss: 7.0856 - mae: 7.0856\n",
            "Epoch 73/100\n",
            "1/1 [==============================] - 0s 25ms/step - loss: 7.0800 - mae: 7.0800\n",
            "Epoch 74/100\n",
            "1/1 [==============================] - 0s 27ms/step - loss: 7.0744 - mae: 7.0744\n",
            "Epoch 75/100\n",
            "1/1 [==============================] - 0s 29ms/step - loss: 7.0688 - mae: 7.0688\n",
            "Epoch 76/100\n",
            "1/1 [==============================] - 0s 34ms/step - loss: 7.0631 - mae: 7.0631\n",
            "Epoch 77/100\n",
            "1/1 [==============================] - 0s 33ms/step - loss: 7.0575 - mae: 7.0575\n",
            "Epoch 78/100\n",
            "1/1 [==============================] - 0s 44ms/step - loss: 7.0519 - mae: 7.0519\n",
            "Epoch 79/100\n",
            "1/1 [==============================] - 0s 39ms/step - loss: 7.0463 - mae: 7.0463\n",
            "Epoch 80/100\n",
            "1/1 [==============================] - 0s 30ms/step - loss: 7.0406 - mae: 7.0406\n",
            "Epoch 81/100\n",
            "1/1 [==============================] - 0s 30ms/step - loss: 7.0350 - mae: 7.0350\n",
            "Epoch 82/100\n",
            "1/1 [==============================] - 0s 25ms/step - loss: 7.0294 - mae: 7.0294\n",
            "Epoch 83/100\n",
            "1/1 [==============================] - 0s 24ms/step - loss: 7.0238 - mae: 7.0238\n",
            "Epoch 84/100\n",
            "1/1 [==============================] - 0s 26ms/step - loss: 7.0181 - mae: 7.0181\n",
            "Epoch 85/100\n",
            "1/1 [==============================] - 0s 30ms/step - loss: 7.0125 - mae: 7.0125\n",
            "Epoch 86/100\n",
            "1/1 [==============================] - 0s 69ms/step - loss: 7.0069 - mae: 7.0069\n",
            "Epoch 87/100\n",
            "1/1 [==============================] - 0s 28ms/step - loss: 7.0013 - mae: 7.0013\n",
            "Epoch 88/100\n",
            "1/1 [==============================] - 0s 37ms/step - loss: 6.9956 - mae: 6.9956\n",
            "Epoch 89/100\n",
            "1/1 [==============================] - 0s 31ms/step - loss: 6.9900 - mae: 6.9900\n",
            "Epoch 90/100\n",
            "1/1 [==============================] - 0s 23ms/step - loss: 6.9844 - mae: 6.9844\n",
            "Epoch 91/100\n",
            "1/1 [==============================] - 0s 21ms/step - loss: 6.9788 - mae: 6.9788\n",
            "Epoch 92/100\n",
            "1/1 [==============================] - 0s 23ms/step - loss: 6.9731 - mae: 6.9731\n",
            "Epoch 93/100\n",
            "1/1 [==============================] - 0s 36ms/step - loss: 6.9675 - mae: 6.9675\n",
            "Epoch 94/100\n",
            "1/1 [==============================] - 0s 28ms/step - loss: 6.9619 - mae: 6.9619\n",
            "Epoch 95/100\n",
            "1/1 [==============================] - 0s 17ms/step - loss: 6.9563 - mae: 6.9563\n",
            "Epoch 96/100\n",
            "1/1 [==============================] - 0s 22ms/step - loss: 6.9506 - mae: 6.9506\n",
            "Epoch 97/100\n",
            "1/1 [==============================] - 0s 31ms/step - loss: 6.9450 - mae: 6.9450\n",
            "Epoch 98/100\n",
            "1/1 [==============================] - 0s 23ms/step - loss: 6.9394 - mae: 6.9394\n",
            "Epoch 99/100\n",
            "1/1 [==============================] - 0s 31ms/step - loss: 6.9338 - mae: 6.9338\n",
            "Epoch 100/100\n",
            "1/1 [==============================] - 0s 27ms/step - loss: 6.9281 - mae: 6.9281\n"
          ]
        },
        {
          "output_type": "execute_result",
          "data": {
            "text/plain": [
              "<keras.src.callbacks.History at 0x7a81a42c5e10>"
            ]
          },
          "metadata": {},
          "execution_count": 15
        }
      ]
    },
    {
      "cell_type": "code",
      "source": [
        "# Try make prediction\n",
        "model1.predict([17.0])"
      ],
      "metadata": {
        "colab": {
          "base_uri": "https://localhost:8080/"
        },
        "id": "4kMA7oidBuHG",
        "outputId": "55e9db8b-399d-47de-dfa5-587c4d604542"
      },
      "execution_count": 16,
      "outputs": [
        {
          "output_type": "stream",
          "name": "stdout",
          "text": [
            "1/1 [==============================] - 0s 177ms/step\n"
          ]
        },
        {
          "output_type": "execute_result",
          "data": {
            "text/plain": [
              "array([[30.301193]], dtype=float32)"
            ]
          },
          "metadata": {},
          "execution_count": 16
        }
      ]
    },
    {
      "cell_type": "code",
      "source": [
        "# re-write the model by my self and improve one thing to get better\n",
        "\n",
        "# 1. Create the model\n",
        "model2 = tf.keras.Sequential([\n",
        "    tf.keras.layers.Dense(1)\n",
        "])\n",
        "\n",
        "# 2. Compile the model\n",
        "model2.compile(loss = tf.keras.losses.mae,\n",
        "              optimizer = tf.keras.optimizers.Adam(learning_rate=0.001), # chang the optimizers from SGD to adam\n",
        "              metrics = [\"mae\"])\n",
        "\n",
        "# 3. Fit the model\n",
        "# model.fit(X, Y, epochs=5) # BREAK IN UPDATED TENSOR VERSION\n",
        "model2.fit(tf.expand_dims(X, axis=-1), Y, epochs=100)"
      ],
      "metadata": {
        "colab": {
          "base_uri": "https://localhost:8080/"
        },
        "id": "gdwbhbhmJVPx",
        "outputId": "c618a1c3-bc5e-44fe-d375-65c4c2292177"
      },
      "execution_count": 17,
      "outputs": [
        {
          "output_type": "stream",
          "name": "stdout",
          "text": [
            "Epoch 1/100\n",
            "1/1 [==============================] - 2s 2s/step - loss: 19.8395 - mae: 19.8395\n",
            "Epoch 2/100\n",
            "1/1 [==============================] - 0s 25ms/step - loss: 19.8335 - mae: 19.8335\n",
            "Epoch 3/100\n",
            "1/1 [==============================] - 0s 22ms/step - loss: 19.8275 - mae: 19.8275\n",
            "Epoch 4/100\n",
            "1/1 [==============================] - 0s 28ms/step - loss: 19.8215 - mae: 19.8215\n",
            "Epoch 5/100\n",
            "1/1 [==============================] - 0s 30ms/step - loss: 19.8155 - mae: 19.8155\n",
            "Epoch 6/100\n",
            "1/1 [==============================] - 0s 26ms/step - loss: 19.8095 - mae: 19.8095\n",
            "Epoch 7/100\n",
            "1/1 [==============================] - 0s 28ms/step - loss: 19.8035 - mae: 19.8035\n",
            "Epoch 8/100\n",
            "1/1 [==============================] - 0s 21ms/step - loss: 19.7975 - mae: 19.7975\n",
            "Epoch 9/100\n",
            "1/1 [==============================] - 0s 36ms/step - loss: 19.7915 - mae: 19.7915\n",
            "Epoch 10/100\n",
            "1/1 [==============================] - 0s 37ms/step - loss: 19.7855 - mae: 19.7855\n",
            "Epoch 11/100\n",
            "1/1 [==============================] - 0s 32ms/step - loss: 19.7795 - mae: 19.7795\n",
            "Epoch 12/100\n",
            "1/1 [==============================] - 0s 37ms/step - loss: 19.7735 - mae: 19.7735\n",
            "Epoch 13/100\n",
            "1/1 [==============================] - 0s 41ms/step - loss: 19.7675 - mae: 19.7675\n",
            "Epoch 14/100\n",
            "1/1 [==============================] - 0s 27ms/step - loss: 19.7615 - mae: 19.7615\n",
            "Epoch 15/100\n",
            "1/1 [==============================] - 0s 35ms/step - loss: 19.7555 - mae: 19.7555\n",
            "Epoch 16/100\n",
            "1/1 [==============================] - 0s 30ms/step - loss: 19.7495 - mae: 19.7495\n",
            "Epoch 17/100\n",
            "1/1 [==============================] - 0s 27ms/step - loss: 19.7435 - mae: 19.7435\n",
            "Epoch 18/100\n",
            "1/1 [==============================] - 0s 29ms/step - loss: 19.7375 - mae: 19.7375\n",
            "Epoch 19/100\n",
            "1/1 [==============================] - 0s 40ms/step - loss: 19.7315 - mae: 19.7315\n",
            "Epoch 20/100\n",
            "1/1 [==============================] - 0s 23ms/step - loss: 19.7255 - mae: 19.7255\n",
            "Epoch 21/100\n",
            "1/1 [==============================] - 0s 29ms/step - loss: 19.7195 - mae: 19.7195\n",
            "Epoch 22/100\n",
            "1/1 [==============================] - 0s 21ms/step - loss: 19.7135 - mae: 19.7135\n",
            "Epoch 23/100\n",
            "1/1 [==============================] - 0s 23ms/step - loss: 19.7075 - mae: 19.7075\n",
            "Epoch 24/100\n",
            "1/1 [==============================] - 0s 28ms/step - loss: 19.7015 - mae: 19.7015\n",
            "Epoch 25/100\n",
            "1/1 [==============================] - 0s 29ms/step - loss: 19.6955 - mae: 19.6955\n",
            "Epoch 26/100\n",
            "1/1 [==============================] - 0s 21ms/step - loss: 19.6895 - mae: 19.6895\n",
            "Epoch 27/100\n",
            "1/1 [==============================] - 0s 24ms/step - loss: 19.6835 - mae: 19.6835\n",
            "Epoch 28/100\n",
            "1/1 [==============================] - 0s 24ms/step - loss: 19.6775 - mae: 19.6775\n",
            "Epoch 29/100\n",
            "1/1 [==============================] - 0s 19ms/step - loss: 19.6715 - mae: 19.6715\n",
            "Epoch 30/100\n",
            "1/1 [==============================] - 0s 26ms/step - loss: 19.6655 - mae: 19.6655\n",
            "Epoch 31/100\n",
            "1/1 [==============================] - 0s 26ms/step - loss: 19.6595 - mae: 19.6595\n",
            "Epoch 32/100\n",
            "1/1 [==============================] - 0s 27ms/step - loss: 19.6535 - mae: 19.6535\n",
            "Epoch 33/100\n",
            "1/1 [==============================] - 0s 21ms/step - loss: 19.6475 - mae: 19.6475\n",
            "Epoch 34/100\n",
            "1/1 [==============================] - 0s 20ms/step - loss: 19.6415 - mae: 19.6415\n",
            "Epoch 35/100\n",
            "1/1 [==============================] - 0s 20ms/step - loss: 19.6355 - mae: 19.6355\n",
            "Epoch 36/100\n",
            "1/1 [==============================] - 0s 25ms/step - loss: 19.6295 - mae: 19.6295\n",
            "Epoch 37/100\n",
            "1/1 [==============================] - 0s 20ms/step - loss: 19.6235 - mae: 19.6235\n",
            "Epoch 38/100\n",
            "1/1 [==============================] - 0s 26ms/step - loss: 19.6175 - mae: 19.6175\n",
            "Epoch 39/100\n",
            "1/1 [==============================] - 0s 22ms/step - loss: 19.6115 - mae: 19.6115\n",
            "Epoch 40/100\n",
            "1/1 [==============================] - 0s 26ms/step - loss: 19.6055 - mae: 19.6055\n",
            "Epoch 41/100\n",
            "1/1 [==============================] - 0s 20ms/step - loss: 19.5995 - mae: 19.5995\n",
            "Epoch 42/100\n",
            "1/1 [==============================] - 0s 20ms/step - loss: 19.5935 - mae: 19.5935\n",
            "Epoch 43/100\n",
            "1/1 [==============================] - 0s 18ms/step - loss: 19.5875 - mae: 19.5875\n",
            "Epoch 44/100\n",
            "1/1 [==============================] - 0s 19ms/step - loss: 19.5815 - mae: 19.5815\n",
            "Epoch 45/100\n",
            "1/1 [==============================] - 0s 34ms/step - loss: 19.5755 - mae: 19.5755\n",
            "Epoch 46/100\n",
            "1/1 [==============================] - 0s 18ms/step - loss: 19.5695 - mae: 19.5695\n",
            "Epoch 47/100\n",
            "1/1 [==============================] - 0s 20ms/step - loss: 19.5635 - mae: 19.5635\n",
            "Epoch 48/100\n",
            "1/1 [==============================] - 0s 29ms/step - loss: 19.5575 - mae: 19.5575\n",
            "Epoch 49/100\n",
            "1/1 [==============================] - 0s 35ms/step - loss: 19.5515 - mae: 19.5515\n",
            "Epoch 50/100\n",
            "1/1 [==============================] - 0s 25ms/step - loss: 19.5455 - mae: 19.5455\n",
            "Epoch 51/100\n",
            "1/1 [==============================] - 0s 32ms/step - loss: 19.5395 - mae: 19.5395\n",
            "Epoch 52/100\n",
            "1/1 [==============================] - 0s 51ms/step - loss: 19.5335 - mae: 19.5335\n",
            "Epoch 53/100\n",
            "1/1 [==============================] - 0s 37ms/step - loss: 19.5275 - mae: 19.5275\n",
            "Epoch 54/100\n",
            "1/1 [==============================] - 0s 44ms/step - loss: 19.5215 - mae: 19.5215\n",
            "Epoch 55/100\n",
            "1/1 [==============================] - 0s 29ms/step - loss: 19.5155 - mae: 19.5155\n",
            "Epoch 56/100\n",
            "1/1 [==============================] - 0s 49ms/step - loss: 19.5095 - mae: 19.5095\n",
            "Epoch 57/100\n",
            "1/1 [==============================] - 0s 27ms/step - loss: 19.5035 - mae: 19.5035\n",
            "Epoch 58/100\n",
            "1/1 [==============================] - 0s 42ms/step - loss: 19.4975 - mae: 19.4975\n",
            "Epoch 59/100\n",
            "1/1 [==============================] - 0s 40ms/step - loss: 19.4915 - mae: 19.4915\n",
            "Epoch 60/100\n",
            "1/1 [==============================] - 0s 39ms/step - loss: 19.4855 - mae: 19.4855\n",
            "Epoch 61/100\n",
            "1/1 [==============================] - 0s 24ms/step - loss: 19.4795 - mae: 19.4795\n",
            "Epoch 62/100\n",
            "1/1 [==============================] - 0s 80ms/step - loss: 19.4735 - mae: 19.4735\n",
            "Epoch 63/100\n",
            "1/1 [==============================] - 0s 76ms/step - loss: 19.4675 - mae: 19.4675\n",
            "Epoch 64/100\n",
            "1/1 [==============================] - 0s 55ms/step - loss: 19.4615 - mae: 19.4615\n",
            "Epoch 65/100\n",
            "1/1 [==============================] - 0s 28ms/step - loss: 19.4555 - mae: 19.4555\n",
            "Epoch 66/100\n",
            "1/1 [==============================] - 0s 22ms/step - loss: 19.4495 - mae: 19.4495\n",
            "Epoch 67/100\n",
            "1/1 [==============================] - 0s 35ms/step - loss: 19.4435 - mae: 19.4435\n",
            "Epoch 68/100\n",
            "1/1 [==============================] - 0s 32ms/step - loss: 19.4375 - mae: 19.4375\n",
            "Epoch 69/100\n",
            "1/1 [==============================] - 0s 19ms/step - loss: 19.4315 - mae: 19.4315\n",
            "Epoch 70/100\n",
            "1/1 [==============================] - 0s 36ms/step - loss: 19.4255 - mae: 19.4255\n",
            "Epoch 71/100\n",
            "1/1 [==============================] - 0s 23ms/step - loss: 19.4195 - mae: 19.4195\n",
            "Epoch 72/100\n",
            "1/1 [==============================] - 0s 24ms/step - loss: 19.4135 - mae: 19.4135\n",
            "Epoch 73/100\n",
            "1/1 [==============================] - 0s 23ms/step - loss: 19.4075 - mae: 19.4075\n",
            "Epoch 74/100\n",
            "1/1 [==============================] - 0s 28ms/step - loss: 19.4015 - mae: 19.4015\n",
            "Epoch 75/100\n",
            "1/1 [==============================] - 0s 30ms/step - loss: 19.3955 - mae: 19.3955\n",
            "Epoch 76/100\n",
            "1/1 [==============================] - 0s 21ms/step - loss: 19.3895 - mae: 19.3895\n",
            "Epoch 77/100\n",
            "1/1 [==============================] - 0s 19ms/step - loss: 19.3835 - mae: 19.3835\n",
            "Epoch 78/100\n",
            "1/1 [==============================] - 0s 29ms/step - loss: 19.3775 - mae: 19.3775\n",
            "Epoch 79/100\n",
            "1/1 [==============================] - 0s 27ms/step - loss: 19.3715 - mae: 19.3715\n",
            "Epoch 80/100\n",
            "1/1 [==============================] - 0s 30ms/step - loss: 19.3655 - mae: 19.3655\n",
            "Epoch 81/100\n",
            "1/1 [==============================] - 0s 43ms/step - loss: 19.3595 - mae: 19.3595\n",
            "Epoch 82/100\n",
            "1/1 [==============================] - 0s 16ms/step - loss: 19.3535 - mae: 19.3535\n",
            "Epoch 83/100\n",
            "1/1 [==============================] - 0s 29ms/step - loss: 19.3475 - mae: 19.3475\n",
            "Epoch 84/100\n",
            "1/1 [==============================] - 0s 24ms/step - loss: 19.3415 - mae: 19.3415\n",
            "Epoch 85/100\n",
            "1/1 [==============================] - 0s 20ms/step - loss: 19.3355 - mae: 19.3355\n",
            "Epoch 86/100\n",
            "1/1 [==============================] - 0s 20ms/step - loss: 19.3295 - mae: 19.3295\n",
            "Epoch 87/100\n",
            "1/1 [==============================] - 0s 16ms/step - loss: 19.3235 - mae: 19.3235\n",
            "Epoch 88/100\n",
            "1/1 [==============================] - 0s 27ms/step - loss: 19.3175 - mae: 19.3175\n",
            "Epoch 89/100\n",
            "1/1 [==============================] - 0s 49ms/step - loss: 19.3115 - mae: 19.3115\n",
            "Epoch 90/100\n",
            "1/1 [==============================] - 0s 35ms/step - loss: 19.3055 - mae: 19.3055\n",
            "Epoch 91/100\n",
            "1/1 [==============================] - 0s 33ms/step - loss: 19.2995 - mae: 19.2995\n",
            "Epoch 92/100\n",
            "1/1 [==============================] - 0s 26ms/step - loss: 19.2935 - mae: 19.2935\n",
            "Epoch 93/100\n",
            "1/1 [==============================] - 0s 36ms/step - loss: 19.2875 - mae: 19.2875\n",
            "Epoch 94/100\n",
            "1/1 [==============================] - 0s 25ms/step - loss: 19.2815 - mae: 19.2815\n",
            "Epoch 95/100\n",
            "1/1 [==============================] - 0s 43ms/step - loss: 19.2755 - mae: 19.2755\n",
            "Epoch 96/100\n",
            "1/1 [==============================] - 0s 55ms/step - loss: 19.2695 - mae: 19.2695\n",
            "Epoch 97/100\n",
            "1/1 [==============================] - 0s 57ms/step - loss: 19.2635 - mae: 19.2635\n",
            "Epoch 98/100\n",
            "1/1 [==============================] - 0s 33ms/step - loss: 19.2575 - mae: 19.2575\n",
            "Epoch 99/100\n",
            "1/1 [==============================] - 0s 27ms/step - loss: 19.2515 - mae: 19.2515\n",
            "Epoch 100/100\n",
            "1/1 [==============================] - 0s 33ms/step - loss: 19.2455 - mae: 19.2455\n"
          ]
        },
        {
          "output_type": "execute_result",
          "data": {
            "text/plain": [
              "<keras.src.callbacks.History at 0x7a81a4122ad0>"
            ]
          },
          "metadata": {},
          "execution_count": 17
        }
      ]
    },
    {
      "cell_type": "code",
      "source": [
        "# Try make prediction\n",
        "model2.predict([17.0])"
      ],
      "metadata": {
        "colab": {
          "base_uri": "https://localhost:8080/"
        },
        "id": "QeWEo95_J5Gg",
        "outputId": "dd26bf9c-d602-463f-e691-0445e4bb055d"
      },
      "execution_count": 18,
      "outputs": [
        {
          "output_type": "stream",
          "name": "stdout",
          "text": [
            "1/1 [==============================] - 0s 360ms/step\n"
          ]
        },
        {
          "output_type": "execute_result",
          "data": {
            "text/plain": [
              "array([[-21.156525]], dtype=float32)"
            ]
          },
          "metadata": {},
          "execution_count": 18
        }
      ]
    },
    {
      "cell_type": "code",
      "source": [
        "# re-write the model\n",
        "\n",
        "# 1. Create the model (with 100 hidden units )\n",
        "model3 = tf.keras.Sequential([\n",
        "    tf.keras.layers.Dense(50, activation=None),\n",
        "    tf.keras.layers.Dense(1)\n",
        "])\n",
        "\n",
        "# 2. Compile the model\n",
        "model3.compile(loss = \"mae\",\n",
        "              optimizer = tf.keras.optimizers.Adam(learning_rate = 0.01),\n",
        "              metrics = [\"mae\"])\n",
        "\n",
        "# 3. Fit the model\n",
        "# model.fit(X, Y, epochs=5) # BREAK IN UPDATED TENSOR VERSION\n",
        "model3.fit(tf.expand_dims(X, axis=-1), Y, epochs=100)"
      ],
      "metadata": {
        "colab": {
          "base_uri": "https://localhost:8080/"
        },
        "id": "KI1XF166hgOa",
        "outputId": "a9639cdf-4d0b-4106-d601-285cb8b251a6"
      },
      "execution_count": 19,
      "outputs": [
        {
          "output_type": "stream",
          "name": "stdout",
          "text": [
            "Epoch 1/100\n",
            "1/1 [==============================] - 2s 2s/step - loss: 13.5545 - mae: 13.5545\n",
            "Epoch 2/100\n",
            "1/1 [==============================] - 0s 30ms/step - loss: 12.9069 - mae: 12.9069\n",
            "Epoch 3/100\n",
            "1/1 [==============================] - 0s 24ms/step - loss: 12.2659 - mae: 12.2659\n",
            "Epoch 4/100\n",
            "1/1 [==============================] - 0s 18ms/step - loss: 11.6278 - mae: 11.6278\n",
            "Epoch 5/100\n",
            "1/1 [==============================] - 0s 18ms/step - loss: 10.9862 - mae: 10.9862\n",
            "Epoch 6/100\n",
            "1/1 [==============================] - 0s 21ms/step - loss: 10.3350 - mae: 10.3350\n",
            "Epoch 7/100\n",
            "1/1 [==============================] - 0s 49ms/step - loss: 9.6694 - mae: 9.6694\n",
            "Epoch 8/100\n",
            "1/1 [==============================] - 0s 31ms/step - loss: 8.9852 - mae: 8.9852\n",
            "Epoch 9/100\n",
            "1/1 [==============================] - 0s 25ms/step - loss: 8.2784 - mae: 8.2784\n",
            "Epoch 10/100\n",
            "1/1 [==============================] - 0s 31ms/step - loss: 7.5455 - mae: 7.5455\n",
            "Epoch 11/100\n",
            "1/1 [==============================] - 0s 30ms/step - loss: 6.8271 - mae: 6.8271\n",
            "Epoch 12/100\n",
            "1/1 [==============================] - 0s 34ms/step - loss: 6.7898 - mae: 6.7898\n",
            "Epoch 13/100\n",
            "1/1 [==============================] - 0s 44ms/step - loss: 7.0768 - mae: 7.0768\n",
            "Epoch 14/100\n",
            "1/1 [==============================] - 0s 31ms/step - loss: 7.2502 - mae: 7.2502\n",
            "Epoch 15/100\n",
            "1/1 [==============================] - 0s 27ms/step - loss: 7.3331 - mae: 7.3331\n",
            "Epoch 16/100\n",
            "1/1 [==============================] - 0s 25ms/step - loss: 7.2910 - mae: 7.2910\n",
            "Epoch 17/100\n",
            "1/1 [==============================] - 0s 25ms/step - loss: 7.1206 - mae: 7.1206\n",
            "Epoch 18/100\n",
            "1/1 [==============================] - 0s 23ms/step - loss: 6.9315 - mae: 6.9315\n",
            "Epoch 19/100\n",
            "1/1 [==============================] - 0s 30ms/step - loss: 6.7114 - mae: 6.7114\n",
            "Epoch 20/100\n",
            "1/1 [==============================] - 0s 28ms/step - loss: 6.4673 - mae: 6.4673\n",
            "Epoch 21/100\n",
            "1/1 [==============================] - 0s 20ms/step - loss: 6.2053 - mae: 6.2053\n",
            "Epoch 22/100\n",
            "1/1 [==============================] - 0s 28ms/step - loss: 6.1598 - mae: 6.1598\n",
            "Epoch 23/100\n",
            "1/1 [==============================] - 0s 27ms/step - loss: 6.1180 - mae: 6.1180\n",
            "Epoch 24/100\n",
            "1/1 [==============================] - 0s 23ms/step - loss: 6.2912 - mae: 6.2912\n",
            "Epoch 25/100\n",
            "1/1 [==============================] - 0s 22ms/step - loss: 6.3447 - mae: 6.3447\n",
            "Epoch 26/100\n",
            "1/1 [==============================] - 0s 21ms/step - loss: 6.2923 - mae: 6.2923\n",
            "Epoch 27/100\n",
            "1/1 [==============================] - 0s 25ms/step - loss: 6.1473 - mae: 6.1473\n",
            "Epoch 28/100\n",
            "1/1 [==============================] - 0s 22ms/step - loss: 5.9190 - mae: 5.9190\n",
            "Epoch 29/100\n",
            "1/1 [==============================] - 0s 23ms/step - loss: 5.6633 - mae: 5.6633\n",
            "Epoch 30/100\n",
            "1/1 [==============================] - 0s 21ms/step - loss: 5.5563 - mae: 5.5563\n",
            "Epoch 31/100\n",
            "1/1 [==============================] - 0s 33ms/step - loss: 5.4459 - mae: 5.4459\n",
            "Epoch 32/100\n",
            "1/1 [==============================] - 0s 38ms/step - loss: 5.4429 - mae: 5.4429\n",
            "Epoch 33/100\n",
            "1/1 [==============================] - 0s 38ms/step - loss: 5.4358 - mae: 5.4358\n",
            "Epoch 34/100\n",
            "1/1 [==============================] - 0s 39ms/step - loss: 5.3831 - mae: 5.3831\n",
            "Epoch 35/100\n",
            "1/1 [==============================] - 0s 45ms/step - loss: 5.2887 - mae: 5.2887\n",
            "Epoch 36/100\n",
            "1/1 [==============================] - 0s 29ms/step - loss: 5.1566 - mae: 5.1566\n",
            "Epoch 37/100\n",
            "1/1 [==============================] - 0s 55ms/step - loss: 4.9907 - mae: 4.9907\n",
            "Epoch 38/100\n",
            "1/1 [==============================] - 0s 47ms/step - loss: 4.7945 - mae: 4.7945\n",
            "Epoch 39/100\n",
            "1/1 [==============================] - 0s 35ms/step - loss: 4.6876 - mae: 4.6876\n",
            "Epoch 40/100\n",
            "1/1 [==============================] - 0s 42ms/step - loss: 4.6005 - mae: 4.6005\n",
            "Epoch 41/100\n",
            "1/1 [==============================] - 0s 41ms/step - loss: 4.5218 - mae: 4.5218\n",
            "Epoch 42/100\n",
            "1/1 [==============================] - 0s 32ms/step - loss: 4.4292 - mae: 4.4292\n",
            "Epoch 43/100\n",
            "1/1 [==============================] - 0s 42ms/step - loss: 4.2520 - mae: 4.2520\n",
            "Epoch 44/100\n",
            "1/1 [==============================] - 0s 42ms/step - loss: 4.1087 - mae: 4.1087\n",
            "Epoch 45/100\n",
            "1/1 [==============================] - 0s 24ms/step - loss: 3.9582 - mae: 3.9582\n",
            "Epoch 46/100\n",
            "1/1 [==============================] - 0s 33ms/step - loss: 3.8001 - mae: 3.8001\n",
            "Epoch 47/100\n",
            "1/1 [==============================] - 0s 31ms/step - loss: 3.6920 - mae: 3.6920\n",
            "Epoch 48/100\n",
            "1/1 [==============================] - 0s 27ms/step - loss: 3.5671 - mae: 3.5671\n",
            "Epoch 49/100\n",
            "1/1 [==============================] - 0s 20ms/step - loss: 3.3933 - mae: 3.3933\n",
            "Epoch 50/100\n",
            "1/1 [==============================] - 0s 20ms/step - loss: 3.1736 - mae: 3.1736\n",
            "Epoch 51/100\n",
            "1/1 [==============================] - 0s 22ms/step - loss: 3.0157 - mae: 3.0157\n",
            "Epoch 52/100\n",
            "1/1 [==============================] - 0s 26ms/step - loss: 2.8540 - mae: 2.8540\n",
            "Epoch 53/100\n",
            "1/1 [==============================] - 0s 56ms/step - loss: 2.7795 - mae: 2.7795\n",
            "Epoch 54/100\n",
            "1/1 [==============================] - 0s 30ms/step - loss: 2.5525 - mae: 2.5525\n",
            "Epoch 55/100\n",
            "1/1 [==============================] - 0s 27ms/step - loss: 2.2547 - mae: 2.2547\n",
            "Epoch 56/100\n",
            "1/1 [==============================] - 0s 25ms/step - loss: 2.0577 - mae: 2.0577\n",
            "Epoch 57/100\n",
            "1/1 [==============================] - 0s 23ms/step - loss: 1.8944 - mae: 1.8944\n",
            "Epoch 58/100\n",
            "1/1 [==============================] - 0s 24ms/step - loss: 1.6677 - mae: 1.6677\n",
            "Epoch 59/100\n",
            "1/1 [==============================] - 0s 23ms/step - loss: 1.3805 - mae: 1.3805\n",
            "Epoch 60/100\n",
            "1/1 [==============================] - 0s 16ms/step - loss: 1.1135 - mae: 1.1135\n",
            "Epoch 61/100\n",
            "1/1 [==============================] - 0s 21ms/step - loss: 1.0202 - mae: 1.0202\n",
            "Epoch 62/100\n",
            "1/1 [==============================] - 0s 34ms/step - loss: 0.7374 - mae: 0.7374\n",
            "Epoch 63/100\n",
            "1/1 [==============================] - 0s 16ms/step - loss: 0.3108 - mae: 0.3108\n",
            "Epoch 64/100\n",
            "1/1 [==============================] - 0s 17ms/step - loss: 0.1697 - mae: 0.1697\n",
            "Epoch 65/100\n",
            "1/1 [==============================] - 0s 20ms/step - loss: 0.3017 - mae: 0.3017\n",
            "Epoch 66/100\n",
            "1/1 [==============================] - 0s 13ms/step - loss: 0.4838 - mae: 0.4838\n",
            "Epoch 67/100\n",
            "1/1 [==============================] - 0s 15ms/step - loss: 0.6231 - mae: 0.6231\n",
            "Epoch 68/100\n",
            "1/1 [==============================] - 0s 15ms/step - loss: 0.7179 - mae: 0.7179\n",
            "Epoch 69/100\n",
            "1/1 [==============================] - 0s 20ms/step - loss: 0.7704 - mae: 0.7704\n",
            "Epoch 70/100\n",
            "1/1 [==============================] - 0s 30ms/step - loss: 0.7784 - mae: 0.7784\n",
            "Epoch 71/100\n",
            "1/1 [==============================] - 0s 26ms/step - loss: 0.7495 - mae: 0.7495\n",
            "Epoch 72/100\n",
            "1/1 [==============================] - 0s 21ms/step - loss: 0.6873 - mae: 0.6873\n",
            "Epoch 73/100\n",
            "1/1 [==============================] - 0s 21ms/step - loss: 0.6233 - mae: 0.6233\n",
            "Epoch 74/100\n",
            "1/1 [==============================] - 0s 21ms/step - loss: 0.4909 - mae: 0.4909\n",
            "Epoch 75/100\n",
            "1/1 [==============================] - 0s 34ms/step - loss: 0.3866 - mae: 0.3866\n",
            "Epoch 76/100\n",
            "1/1 [==============================] - 0s 61ms/step - loss: 0.1969 - mae: 0.1969\n",
            "Epoch 77/100\n",
            "1/1 [==============================] - 0s 45ms/step - loss: 0.0073 - mae: 0.0073\n",
            "Epoch 78/100\n",
            "1/1 [==============================] - 0s 17ms/step - loss: 0.3352 - mae: 0.3352\n",
            "Epoch 79/100\n",
            "1/1 [==============================] - 0s 19ms/step - loss: 0.3669 - mae: 0.3669\n",
            "Epoch 80/100\n",
            "1/1 [==============================] - 0s 16ms/step - loss: 0.4618 - mae: 0.4618\n",
            "Epoch 81/100\n",
            "1/1 [==============================] - 0s 16ms/step - loss: 0.5438 - mae: 0.5438\n",
            "Epoch 82/100\n",
            "1/1 [==============================] - 0s 18ms/step - loss: 0.4619 - mae: 0.4619\n",
            "Epoch 83/100\n",
            "1/1 [==============================] - 0s 21ms/step - loss: 0.4906 - mae: 0.4906\n",
            "Epoch 84/100\n",
            "1/1 [==============================] - 0s 20ms/step - loss: 0.4331 - mae: 0.4331\n",
            "Epoch 85/100\n",
            "1/1 [==============================] - 0s 19ms/step - loss: 0.3475 - mae: 0.3475\n",
            "Epoch 86/100\n",
            "1/1 [==============================] - 0s 27ms/step - loss: 0.2634 - mae: 0.2634\n",
            "Epoch 87/100\n",
            "1/1 [==============================] - 0s 17ms/step - loss: 0.1490 - mae: 0.1490\n",
            "Epoch 88/100\n",
            "1/1 [==============================] - 0s 18ms/step - loss: 0.0207 - mae: 0.0207\n",
            "Epoch 89/100\n",
            "1/1 [==============================] - 0s 30ms/step - loss: 0.1849 - mae: 0.1849\n",
            "Epoch 90/100\n",
            "1/1 [==============================] - 0s 33ms/step - loss: 0.2805 - mae: 0.2805\n",
            "Epoch 91/100\n",
            "1/1 [==============================] - 0s 25ms/step - loss: 0.3158 - mae: 0.3158\n",
            "Epoch 92/100\n",
            "1/1 [==============================] - 0s 20ms/step - loss: 0.4457 - mae: 0.4457\n",
            "Epoch 93/100\n",
            "1/1 [==============================] - 0s 46ms/step - loss: 0.4554 - mae: 0.4554\n",
            "Epoch 94/100\n",
            "1/1 [==============================] - 0s 54ms/step - loss: 0.3180 - mae: 0.3180\n",
            "Epoch 95/100\n",
            "1/1 [==============================] - 0s 35ms/step - loss: 0.4119 - mae: 0.4119\n",
            "Epoch 96/100\n",
            "1/1 [==============================] - 0s 34ms/step - loss: 0.3651 - mae: 0.3651\n",
            "Epoch 97/100\n",
            "1/1 [==============================] - 0s 31ms/step - loss: 0.1549 - mae: 0.1549\n",
            "Epoch 98/100\n",
            "1/1 [==============================] - 0s 41ms/step - loss: 0.2316 - mae: 0.2316\n",
            "Epoch 99/100\n",
            "1/1 [==============================] - 0s 29ms/step - loss: 0.3064 - mae: 0.3064\n",
            "Epoch 100/100\n",
            "1/1 [==============================] - 0s 32ms/step - loss: 0.2481 - mae: 0.2481\n"
          ]
        },
        {
          "output_type": "execute_result",
          "data": {
            "text/plain": [
              "<keras.src.callbacks.History at 0x7a81a4120910>"
            ]
          },
          "metadata": {},
          "execution_count": 19
        }
      ]
    },
    {
      "cell_type": "code",
      "source": [
        "# Try make prediction\n",
        "model3.predict([17.0])"
      ],
      "metadata": {
        "colab": {
          "base_uri": "https://localhost:8080/"
        },
        "id": "iZcXS1vmiusq",
        "outputId": "33344207-e586-4936-c963-156e10c837cd"
      },
      "execution_count": 20,
      "outputs": [
        {
          "output_type": "stream",
          "name": "stdout",
          "text": [
            "1/1 [==============================] - 0s 111ms/step\n"
          ]
        },
        {
          "output_type": "execute_result",
          "data": {
            "text/plain": [
              "array([[27.915936]], dtype=float32)"
            ]
          },
          "metadata": {},
          "execution_count": 20
        }
      ]
    },
    {
      "cell_type": "markdown",
      "source": [
        "## Evaluating Model\n",
        "\n",
        "Build a model -> fit it -> evaluate it -> tweak a model -> fit it -> evaluate it...\n",
        "\n",
        "Evaluation = visualize\n",
        "\n",
        "it's good idea to visualize :\n",
        "* The data - what data we working with? what does it look like?\n",
        "* The model = what does our model look like?\n",
        "* The training of a model - how does a model perform while it learns?\n",
        "* The predictions of the model - how do the predictions of a model line up against the ground truth (the origin label)"
      ],
      "metadata": {
        "id": "ggu1CbXFlSbl"
      }
    },
    {
      "cell_type": "code",
      "source": [
        "# Make a bigger dataset\n",
        "\n",
        "x = tf.range(-100, 100, 4)\n",
        "x"
      ],
      "metadata": {
        "colab": {
          "base_uri": "https://localhost:8080/"
        },
        "id": "O5yDk0J9lV5n",
        "outputId": "3caab3f3-53fd-42a6-ebb1-9626a1b7d1db"
      },
      "execution_count": 21,
      "outputs": [
        {
          "output_type": "execute_result",
          "data": {
            "text/plain": [
              "<tf.Tensor: shape=(50,), dtype=int32, numpy=\n",
              "array([-100,  -96,  -92,  -88,  -84,  -80,  -76,  -72,  -68,  -64,  -60,\n",
              "        -56,  -52,  -48,  -44,  -40,  -36,  -32,  -28,  -24,  -20,  -16,\n",
              "        -12,   -8,   -4,    0,    4,    8,   12,   16,   20,   24,   28,\n",
              "         32,   36,   40,   44,   48,   52,   56,   60,   64,   68,   72,\n",
              "         76,   80,   84,   88,   92,   96], dtype=int32)>"
            ]
          },
          "metadata": {},
          "execution_count": 21
        }
      ]
    },
    {
      "cell_type": "code",
      "source": [
        "# Make labels for the dataset\n",
        "\n",
        "y = x + 10\n",
        "y"
      ],
      "metadata": {
        "colab": {
          "base_uri": "https://localhost:8080/"
        },
        "id": "_VnV5iodqYP8",
        "outputId": "9f99dde7-6d0e-48e5-f362-28ff95697f5f"
      },
      "execution_count": 22,
      "outputs": [
        {
          "output_type": "execute_result",
          "data": {
            "text/plain": [
              "<tf.Tensor: shape=(50,), dtype=int32, numpy=\n",
              "array([-90, -86, -82, -78, -74, -70, -66, -62, -58, -54, -50, -46, -42,\n",
              "       -38, -34, -30, -26, -22, -18, -14, -10,  -6,  -2,   2,   6,  10,\n",
              "        14,  18,  22,  26,  30,  34,  38,  42,  46,  50,  54,  58,  62,\n",
              "        66,  70,  74,  78,  82,  86,  90,  94,  98, 102, 106], dtype=int32)>"
            ]
          },
          "metadata": {},
          "execution_count": 22
        }
      ]
    },
    {
      "cell_type": "code",
      "source": [
        "# Visualize the data\n",
        "\n",
        "import matplotlib.pyplot as plt\n",
        "\n",
        "plt.scatter(x, y)"
      ],
      "metadata": {
        "colab": {
          "base_uri": "https://localhost:8080/",
          "height": 447
        },
        "id": "wqnieOnpqiby",
        "outputId": "3982e023-a8b2-4243-b7c7-d8e920104c05"
      },
      "execution_count": 23,
      "outputs": [
        {
          "output_type": "execute_result",
          "data": {
            "text/plain": [
              "<matplotlib.collections.PathCollection at 0x7a8197680f70>"
            ]
          },
          "metadata": {},
          "execution_count": 23
        },
        {
          "output_type": "display_data",
          "data": {
            "text/plain": [
              "<Figure size 640x480 with 1 Axes>"
            ],
            "image/png": "[encoded data removed]"
          },
          "metadata": {}
        }
      ]
    },
    {
      "cell_type": "markdown",
      "source": [
        "### The 3 sets\n",
        "\n",
        "* **Training set** - the model learn from this data, 70-80%\n",
        "* **Validation set** - set model gets tuned on this data, 10-15%\n",
        "* **Test set** - the model gets evaluated on this data, 10-15%"
      ],
      "metadata": {
        "id": "CCtd3h36q0Xk"
      }
    },
    {
      "cell_type": "code",
      "source": [
        "# Check the length of the data\n",
        "len(x)"
      ],
      "metadata": {
        "colab": {
          "base_uri": "https://localhost:8080/"
        },
        "id": "2_ITjQWjFQsM",
        "outputId": "9aef41ed-5430-48af-cd0b-a03f29c69b4d"
      },
      "execution_count": 24,
      "outputs": [
        {
          "output_type": "execute_result",
          "data": {
            "text/plain": [
              "50"
            ]
          },
          "metadata": {},
          "execution_count": 24
        }
      ]
    },
    {
      "cell_type": "code",
      "source": [
        "# Split the data into train and test sets\n",
        "x_train = x[:40] # first to 40 data will be the training sample\n",
        "y_train = y[:40]\n",
        "\n",
        "x_test = x[40:] # 20% will be test\n",
        "y_test = y[40:]\n",
        "\n",
        "len(x_train), len(x_test), len(y_train), len(y_test)"
      ],
      "metadata": {
        "colab": {
          "base_uri": "https://localhost:8080/"
        },
        "id": "4fkIFEl_HAu3",
        "outputId": "8f78ad39-d302-49fa-8caa-67f0e593837f"
      },
      "execution_count": 25,
      "outputs": [
        {
          "output_type": "execute_result",
          "data": {
            "text/plain": [
              "(40, 10, 40, 10)"
            ]
          },
          "metadata": {},
          "execution_count": 25
        }
      ]
    },
    {
      "cell_type": "markdown",
      "source": [
        "### Visualing the data\n",
        "\n",
        "Now we've got out data in training and test sets...lets visualize it"
      ],
      "metadata": {
        "id": "9WJ9AtA0KgLL"
      }
    },
    {
      "cell_type": "code",
      "source": [
        "plt.figure(figsize=(10,7))\n",
        "\n",
        "# Plot training data in blue\n",
        "plt.scatter(x_train, y_train, c=\"b\", label=\"Training data\")\n",
        "\n",
        "# Plot test data in green\n",
        "plt.scatter(x_test, y_test, c=\"g\", label=\"Testing data\")\n",
        "\n",
        "# Show a legend\n",
        "plt.legend();"
      ],
      "metadata": {
        "colab": {
          "base_uri": "https://localhost:8080/",
          "height": 456
        },
        "id": "OQGu_de6G_li",
        "outputId": "8202b317-7a8f-46aa-e43c-c93577995b0d"
      },
      "execution_count": 26,
      "outputs": [
        {
          "output_type": "display_data",
          "data": {
            "text/plain": [
              "<Figure size 1000x700 with 1 Axes>"
            ],
            "image/png": "[encoded data removed]"
          },
          "metadata": {}
        }
      ]
    },
    {
      "cell_type": "code",
      "source": [
        "# Lets have a look at how to build a neural network for our data\n",
        "\n",
        "# 1. Create the model\n",
        "model = tf.keras.Sequential([\n",
        "    tf.keras.layers.Dense(1)\n",
        "])\n",
        "\n",
        "# 2. Compile the model\n",
        "model.compile(loss = tf.keras.losses.mae,\n",
        "              optimizer = tf.keras.optimizers.SGD(),\n",
        "              metrics = [\"mae\"])\n",
        "\n",
        "# 3. Fit the model\n",
        "#model.fit(tf.expand_dims(x_train, axis=-1), y_train, epochs=100)"
      ],
      "metadata": {
        "id": "TtdWZXKHSSN-"
      },
      "execution_count": 27,
      "outputs": []
    },
    {
      "cell_type": "markdown",
      "source": [
        "### Visualizing the model"
      ],
      "metadata": {
        "id": "F7d7P08yTScA"
      }
    },
    {
      "cell_type": "code",
      "source": [
        "# Lets create  model wich builds automatically by defining the input_shape arguments\n",
        "\n",
        "tf.random.set_seed(42)\n",
        "\n",
        "# 1. Create the model\n",
        "model = tf.keras.Sequential([\n",
        "    tf.keras.layers.Dense(10, input_shape=[1], name=\"input_layer\"),\n",
        "    tf.keras.layers.Dense(1, name=\"output_layer\")\n",
        "], name=\"model_one\")\n",
        "\n",
        "# 2. Compile the model\n",
        "model.compile(loss = tf.keras.losses.mae,\n",
        "              optimizer = tf.keras.optimizers.SGD(),\n",
        "              metrics = [\"mae\"])"
      ],
      "metadata": {
        "id": "MpSA6LxwTzZK"
      },
      "execution_count": 78,
      "outputs": []
    },
    {
      "cell_type": "code",
      "source": [
        "model.summary()"
      ],
      "metadata": {
        "colab": {
          "base_uri": "https://localhost:8080/"
        },
        "id": "-jMC9-6WUyLw",
        "outputId": "8928bd69-518b-4206-cfc0-578244560bef"
      },
      "execution_count": 79,
      "outputs": [
        {
          "output_type": "stream",
          "name": "stdout",
          "text": [
            "Model: \"model_one\"\n",
            "_________________________________________________________________\n",
            " Layer (type)                Output Shape              Param #   \n",
            "=================================================================\n",
            " input_layer (Dense)         (None, 10)                20        \n",
            "                                                                 \n",
            " output_layer (Dense)        (None, 1)                 11        \n",
            "                                                                 \n",
            "=================================================================\n",
            "Total params: 31 (124.00 Byte)\n",
            "Trainable params: 31 (124.00 Byte)\n",
            "Non-trainable params: 0 (0.00 Byte)\n",
            "_________________________________________________________________\n"
          ]
        }
      ]
    },
    {
      "cell_type": "markdown",
      "source": [
        "* Total params - total number of parameters that we have\n",
        "\n",
        "* Trainable parameters - the parameters (patterns) the model can update as it trains\n",
        "\n",
        "* Non-trainable params - parameters cant updated during training (allready learn in models during **transfer learning**)\n",
        "\n",
        "📚 **Resource** : For a more in depth overview of the trainable parameters within a layer, check ouy MIT's intorduction to deep learning video\n",
        "\n",
        "⚡**Exercise :** Try playing around with the number of hidden units in the dense layer, see how that effect the number of parameters"
      ],
      "metadata": {
        "id": "fkeG27Fm3_t1"
      }
    },
    {
      "cell_type": "code",
      "source": [
        "# 3. Fit the model\n",
        "model.fit(tf.expand_dims(x_train, axis=-1), y_train, epochs=100, verbose=0)"
      ],
      "metadata": {
        "colab": {
          "base_uri": "https://localhost:8080/"
        },
        "id": "e-cgkHtW6914",
        "outputId": "04bbdb46-f1df-4d0c-9375-dc7101766b4e"
      },
      "execution_count": 80,
      "outputs": [
        {
          "output_type": "execute_result",
          "data": {
            "text/plain": [
              "<keras.src.callbacks.History at 0x7a8197feed40>"
            ]
          },
          "metadata": {},
          "execution_count": 80
        }
      ]
    },
    {
      "cell_type": "code",
      "source": [
        "# Get a summary of our model\n",
        "model.summary()"
      ],
      "metadata": {
        "colab": {
          "base_uri": "https://localhost:8080/"
        },
        "id": "IYam8Kl-M2o7",
        "outputId": "a203be9b-b414-4893-a8ee-99a01fb27cfc"
      },
      "execution_count": 81,
      "outputs": [
        {
          "output_type": "stream",
          "name": "stdout",
          "text": [
            "Model: \"model_one\"\n",
            "_________________________________________________________________\n",
            " Layer (type)                Output Shape              Param #   \n",
            "=================================================================\n",
            " input_layer (Dense)         (None, 10)                20        \n",
            "                                                                 \n",
            " output_layer (Dense)        (None, 1)                 11        \n",
            "                                                                 \n",
            "=================================================================\n",
            "Total params: 31 (124.00 Byte)\n",
            "Trainable params: 31 (124.00 Byte)\n",
            "Non-trainable params: 0 (0.00 Byte)\n",
            "_________________________________________________________________\n"
          ]
        }
      ]
    },
    {
      "cell_type": "code",
      "source": [
        "from tensorflow.keras.utils import plot_model\n",
        "\n",
        "plot_model(model=model, show_shapes=True)"
      ],
      "metadata": {
        "colab": {
          "base_uri": "https://localhost:8080/",
          "height": 312
        },
        "id": "EMxErQE0NVSc",
        "outputId": "17246893-2c9b-476c-9187-a1f9b2ff1230"
      },
      "execution_count": 82,
      "outputs": [
        {
          "output_type": "execute_result",
          "data": {
            "image/png": "[encoded data removed]",
            "text/plain": [
              "<IPython.core.display.Image object>"
            ]
          },
          "metadata": {},
          "execution_count": 82
        }
      ]
    },
    {
      "cell_type": "markdown",
      "source": [
        "### Visualizing our models predictions"
      ],
      "metadata": {
        "id": "XXOFpjXFOyH9"
      }
    }
  ]
}