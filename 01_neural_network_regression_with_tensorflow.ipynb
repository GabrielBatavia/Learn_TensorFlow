{
  "nbformat": 4,
  "nbformat_minor": 0,
  "metadata": {
    "colab": {
      "provenance": [],
      "authorship_tag": "ABX9TyNNYHzyU6m8w5l/pbMeznCQ",
      "include_colab_link": true
    },
    "kernelspec": {
      "name": "python3",
      "display_name": "Python 3"
    },
    "language_info": {
      "name": "python"
    }
  },
  "cells": [
    {
      "cell_type": "markdown",
      "metadata": {
        "id": "view-in-github",
        "colab_type": "text"
      },
      "source": [
        "<a href=\"https://colab.research.google.com/github/GabrielBatavia/Learn_TensorFlow/blob/main/01_neural_network_regression_with_tensorflow.ipynb\" target=\"_parent\"><img src=\"https://colab.research.google.com/assets/colab-badge.svg\" alt=\"Open In Colab\"/></a>"
      ]
    },
    {
      "cell_type": "markdown",
      "source": [
        "# Introduction to Regression with Neural Networks in TensorFlow\n",
        "\n",
        "There are many definition for a regression problem but in our case, we're going to simplify it : predicting a numerical variable based on some other combination of variables, even shorter...predicting a number."
      ],
      "metadata": {
        "id": "eANshE7nr2zb"
      }
    },
    {
      "cell_type": "code",
      "execution_count": 1,
      "metadata": {
        "colab": {
          "base_uri": "https://localhost:8080/"
        },
        "id": "UmVJP_eWrO59",
        "outputId": "fd9988e8-4901-4523-8552-2e137efee7ff"
      },
      "outputs": [
        {
          "output_type": "stream",
          "name": "stdout",
          "text": [
            "2.15.0\n"
          ]
        }
      ],
      "source": [
        "# Import TensorFlow\n",
        "\n",
        "import tensorflow as tf\n",
        "print(tf.__version__)"
      ]
    },
    {
      "cell_type": "markdown",
      "source": [
        "## Creating data to view and fit"
      ],
      "metadata": {
        "id": "vbbwMFoqskyN"
      }
    },
    {
      "cell_type": "code",
      "source": [
        "import numpy as np\n",
        "import matplotlib.pyplot as plt"
      ],
      "metadata": {
        "id": "DXOtRA60shEW"
      },
      "execution_count": 2,
      "outputs": []
    },
    {
      "cell_type": "code",
      "source": [
        "# Creating features\n",
        "\n",
        "x = np.array([-7., -4., -1., 2., 5., 8., 11., 14.])\n",
        "\n",
        "# Create labels\n",
        "y = np.array([3., 6., 9., 12., 15., 18., 21., 24.])\n",
        "\n",
        "# Visualize it\n",
        "plt.scatter(x, y);"
      ],
      "metadata": {
        "colab": {
          "base_uri": "https://localhost:8080/",
          "height": 435
        },
        "id": "SX4eHtEts4GD",
        "outputId": "04e585da-4fa7-42b9-b667-87fc4878c9f0"
      },
      "execution_count": 3,
      "outputs": [
        {
          "output_type": "display_data",
          "data": {
            "text/plain": [
              "<Figure size 640x480 with 1 Axes>"
            ],
            "image/png": "[encoded data removed]"
          },
          "metadata": {}
        }
      ]
    },
    {
      "cell_type": "code",
      "source": [
        "y == x + 10"
      ],
      "metadata": {
        "id": "qaf2FE-utbQ-",
        "colab": {
          "base_uri": "https://localhost:8080/"
        },
        "outputId": "287f3e95-4216-4cf7-b3bb-661ab9d49b48"
      },
      "execution_count": 4,
      "outputs": [
        {
          "output_type": "execute_result",
          "data": {
            "text/plain": [
              "array([ True,  True,  True,  True,  True,  True,  True,  True])"
            ]
          },
          "metadata": {},
          "execution_count": 4
        }
      ]
    },
    {
      "cell_type": "markdown",
      "source": [
        "## Input and Output shapes"
      ],
      "metadata": {
        "id": "hHex_79OxmAn"
      }
    },
    {
      "cell_type": "code",
      "source": [
        "# Create a demo tensor for out housing price prediction problem\n",
        "\n",
        "house_info = tf.constant([\"bedroom\", \"bathroom\", \"garage\"])\n",
        "house_price = tf.constant([939700])\n",
        "\n",
        "house_info, house_price"
      ],
      "metadata": {
        "colab": {
          "base_uri": "https://localhost:8080/"
        },
        "id": "EKNlltO3xrVe",
        "outputId": "9574eb52-1bb1-4306-edd4-688d55b8ac65"
      },
      "execution_count": 5,
      "outputs": [
        {
          "output_type": "execute_result",
          "data": {
            "text/plain": [
              "(<tf.Tensor: shape=(3,), dtype=string, numpy=array([b'bedroom', b'bathroom', b'garage'], dtype=object)>,\n",
              " <tf.Tensor: shape=(1,), dtype=int32, numpy=array([939700], dtype=int32)>)"
            ]
          },
          "metadata": {},
          "execution_count": 5
        }
      ]
    },
    {
      "cell_type": "code",
      "source": [
        "x[0], y[0]"
      ],
      "metadata": {
        "colab": {
          "base_uri": "https://localhost:8080/"
        },
        "id": "-tWt-gYSzm66",
        "outputId": "20d3336c-107e-4318-f7cd-4fb98a8cff8f"
      },
      "execution_count": 6,
      "outputs": [
        {
          "output_type": "execute_result",
          "data": {
            "text/plain": [
              "(-7.0, 3.0)"
            ]
          },
          "metadata": {},
          "execution_count": 6
        }
      ]
    },
    {
      "cell_type": "code",
      "source": [
        "input_shape = x[0].shape\n",
        "output_shape = y[0].shape\n",
        "\n",
        "input_shape, output_shape"
      ],
      "metadata": {
        "colab": {
          "base_uri": "https://localhost:8080/"
        },
        "id": "sGSz7U-vzY4m",
        "outputId": "9b0f9b26-18b8-49f3-a17d-ec05ce119c9a"
      },
      "execution_count": 7,
      "outputs": [
        {
          "output_type": "execute_result",
          "data": {
            "text/plain": [
              "((), ())"
            ]
          },
          "metadata": {},
          "execution_count": 7
        }
      ]
    },
    {
      "cell_type": "code",
      "source": [
        "x[0].ndim"
      ],
      "metadata": {
        "colab": {
          "base_uri": "https://localhost:8080/"
        },
        "id": "VCL4zHK5z8RR",
        "outputId": "23f4c943-5d20-4cb6-fae8-b1fd2200c69a"
      },
      "execution_count": 8,
      "outputs": [
        {
          "output_type": "execute_result",
          "data": {
            "text/plain": [
              "0"
            ]
          },
          "metadata": {},
          "execution_count": 8
        }
      ]
    },
    {
      "cell_type": "code",
      "source": [
        "# Turn our Numpy arrays into tensors with dtype 32\n",
        "\n",
        "X = tf.constant(x, dtype=tf.float32)\n",
        "Y = tf.constant(y, dtype=tf.float32)\n",
        "\n",
        "X, Y"
      ],
      "metadata": {
        "colab": {
          "base_uri": "https://localhost:8080/"
        },
        "id": "QL2Ofdwmz-sQ",
        "outputId": "96628b02-d0e7-4349-bcb0-a769c92322a1"
      },
      "execution_count": 9,
      "outputs": [
        {
          "output_type": "execute_result",
          "data": {
            "text/plain": [
              "(<tf.Tensor: shape=(8,), dtype=float32, numpy=array([-7., -4., -1.,  2.,  5.,  8., 11., 14.], dtype=float32)>,\n",
              " <tf.Tensor: shape=(8,), dtype=float32, numpy=array([ 3.,  6.,  9., 12., 15., 18., 21., 24.], dtype=float32)>)"
            ]
          },
          "metadata": {},
          "execution_count": 9
        }
      ]
    },
    {
      "cell_type": "code",
      "source": [
        "input_shape = X[0].shape\n",
        "output_shape = y[0].shape\n",
        "\n",
        "input_shape, output_shape"
      ],
      "metadata": {
        "colab": {
          "base_uri": "https://localhost:8080/"
        },
        "id": "R6m8i44s1t3S",
        "outputId": "9e6d83c7-5075-4f5b-caeb-09eefeddf04c"
      },
      "execution_count": 10,
      "outputs": [
        {
          "output_type": "execute_result",
          "data": {
            "text/plain": [
              "(TensorShape([]), ())"
            ]
          },
          "metadata": {},
          "execution_count": 10
        }
      ]
    },
    {
      "cell_type": "markdown",
      "source": [
        "## Steps in modelling with TensorFlow\n",
        "\n",
        "1. **Creating a model** - define the input and output layers, as well as the hidden layers of a deep learning model.\n",
        "\n",
        "2. **Compiling a model** - define the loss function (in other words, the function wich tells our model how wrong it is) and the optimizer (tells our model how to improve the patterns its learning) and evaluation metrics (what we can use to interpret the preformance of our model)\n",
        "\n",
        "3. Fitting a model - letting the model try to find patters between X & y (features and labels)"
      ],
      "metadata": {
        "id": "T9heq-y318BJ"
      }
    },
    {
      "cell_type": "code",
      "source": [
        "# Opetionally, the first layer can receive an 'input_shape' argument :\n",
        "# model = tf.keras.Sequential()\n",
        "# model.add(tf.keras.layers.Dense(8, input_shape=(16,)))\n",
        "\n",
        "# Afterwards, we do automatic shape inference :\n",
        "# model.add(tf.keras.layers.Dense(4))\n",
        "\n",
        "# model = tf.keras.Sequential()\n",
        "# model.add(tf.keras.layers.Dense(1))\n",
        "# ..."
      ],
      "metadata": {
        "id": "nEAWuhvc6w4g"
      },
      "execution_count": 11,
      "outputs": []
    },
    {
      "cell_type": "code",
      "source": [
        "# Set random seed\n",
        "\n",
        "tf.random.set_seed(42)\n",
        "\n",
        "# 1. Create a model using the Sequential API\n",
        "model = tf.keras.Sequential([\n",
        "    tf.keras.layers.Dense(1)\n",
        "])\n",
        "\n",
        "# 2. Compile the model\n",
        "model.compile(loss = tf.keras.losses.mae, # mae is short for mean absolute error\n",
        "              optimizer = tf.keras.optimizers.SGD(), # sgd is short for stochasitc gradient decent\n",
        "              metrics = [\"mae\"])\n",
        "\n",
        "# 3. Fit the model\n",
        "# model.fit(X, Y, epochs=5) # BREAK IN UPDATED TENSOR VERSION\n",
        "model.fit(tf.expand_dims(X, axis=-1), Y, epochs=5)"
      ],
      "metadata": {
        "colab": {
          "base_uri": "https://localhost:8080/"
        },
        "id": "ubX_9SYR149W",
        "outputId": "8d421911-4944-4f24-c177-abe1ec031ede"
      },
      "execution_count": 12,
      "outputs": [
        {
          "output_type": "stream",
          "name": "stdout",
          "text": [
            "Epoch 1/5\n",
            "1/1 [==============================] - 1s 610ms/step - loss: 16.9096 - mae: 16.9096\n",
            "Epoch 2/5\n",
            "1/1 [==============================] - 0s 16ms/step - loss: 16.6284 - mae: 16.6284\n",
            "Epoch 3/5\n",
            "1/1 [==============================] - 0s 11ms/step - loss: 16.3471 - mae: 16.3471\n",
            "Epoch 4/5\n",
            "1/1 [==============================] - 0s 11ms/step - loss: 16.0659 - mae: 16.0659\n",
            "Epoch 5/5\n",
            "1/1 [==============================] - 0s 10ms/step - loss: 15.7846 - mae: 15.7846\n"
          ]
        },
        {
          "output_type": "execute_result",
          "data": {
            "text/plain": [
              "<keras.src.callbacks.History at 0x7c3cb558d660>"
            ]
          },
          "metadata": {},
          "execution_count": 12
        }
      ]
    },
    {
      "cell_type": "code",
      "source": [
        "# Check our X and Y\n",
        "x, y"
      ],
      "metadata": {
        "colab": {
          "base_uri": "https://localhost:8080/"
        },
        "id": "1B1DsBlo9jYC",
        "outputId": "c2effe1c-93ff-418e-aba7-561abdfdec99"
      },
      "execution_count": 13,
      "outputs": [
        {
          "output_type": "execute_result",
          "data": {
            "text/plain": [
              "(array([-7., -4., -1.,  2.,  5.,  8., 11., 14.]),\n",
              " array([ 3.,  6.,  9., 12., 15., 18., 21., 24.]))"
            ]
          },
          "metadata": {},
          "execution_count": 13
        }
      ]
    },
    {
      "cell_type": "code",
      "source": [
        "# Try make prediction\n",
        "model.predict([17.0])"
      ],
      "metadata": {
        "colab": {
          "base_uri": "https://localhost:8080/"
        },
        "id": "L4S19GPP9pXG",
        "outputId": "98bde470-f87f-448f-d24e-36b2973debdf"
      },
      "execution_count": 14,
      "outputs": [
        {
          "output_type": "stream",
          "name": "stdout",
          "text": [
            "1/1 [==============================] - 0s 151ms/step\n"
          ]
        },
        {
          "output_type": "execute_result",
          "data": {
            "text/plain": [
              "array([[-8.969317]], dtype=float32)"
            ]
          },
          "metadata": {},
          "execution_count": 14
        }
      ]
    },
    {
      "cell_type": "markdown",
      "source": [
        "## Improving our model\n",
        "\n",
        "We can improve our model, by altering the steps we took to create a model.\n",
        "\n",
        "1. **Creating a model** - ere we might add more layers, increse the number of hidden units (all called neurons) within each of the hidden layers, change the activation function of each layer.\n",
        "\n",
        "2. **Compiling a model** - here we might chang ethe optimization function or perhaps the **learning rate** of the optimization function.\n",
        "\n",
        "3. **Fitting a model** - here we might fit a model for more **epochs** (leave it training for longer) or on more data (give the model more examples to learn form)"
      ],
      "metadata": {
        "id": "Nq6KqLEo-HP4"
      }
    },
    {
      "cell_type": "code",
      "source": [
        "# Let's rebuild our model\n",
        "\n",
        "# 1. Create the model\n",
        "model1 = tf.keras.Sequential([\n",
        "    tf.keras.layers.Dense(1)\n",
        "])\n",
        "\n",
        "# 2. Compile the model\n",
        "model1.compile(loss = tf.keras.losses.mae,\n",
        "              optimizer = tf.keras.optimizers.SGD(),\n",
        "              metrics = [\"mae\"])\n",
        "\n",
        "# 3. Fit the model\n",
        "# model.fit(X, Y, epochs=5) # BREAK IN UPDATED TENSOR VERSION\n",
        "model1.fit(tf.expand_dims(X, axis=-1), Y, epochs=100)"
      ],
      "metadata": {
        "colab": {
          "base_uri": "https://localhost:8080/"
        },
        "id": "GPGzIvb2DLc2",
        "outputId": "5e298df3-29c9-4a9b-f793-c5ad26fad1d6"
      },
      "execution_count": 15,
      "outputs": [
        {
          "output_type": "stream",
          "name": "stdout",
          "text": [
            "Epoch 1/100\n",
            "1/1 [==============================] - 1s 594ms/step - loss: 11.5074 - mae: 11.5074\n",
            "Epoch 2/100\n",
            "1/1 [==============================] - 0s 14ms/step - loss: 11.3749 - mae: 11.3749\n",
            "Epoch 3/100\n",
            "1/1 [==============================] - 0s 16ms/step - loss: 11.2424 - mae: 11.2424\n",
            "Epoch 4/100\n",
            "1/1 [==============================] - 0s 15ms/step - loss: 11.1099 - mae: 11.1099\n",
            "Epoch 5/100\n",
            "1/1 [==============================] - 0s 14ms/step - loss: 10.9774 - mae: 10.9774\n",
            "Epoch 6/100\n",
            "1/1 [==============================] - 0s 13ms/step - loss: 10.8449 - mae: 10.8449\n",
            "Epoch 7/100\n",
            "1/1 [==============================] - 0s 11ms/step - loss: 10.7124 - mae: 10.7124\n",
            "Epoch 8/100\n",
            "1/1 [==============================] - 0s 10ms/step - loss: 10.5799 - mae: 10.5799\n",
            "Epoch 9/100\n",
            "1/1 [==============================] - 0s 20ms/step - loss: 10.4474 - mae: 10.4474\n",
            "Epoch 10/100\n",
            "1/1 [==============================] - 0s 17ms/step - loss: 10.3149 - mae: 10.3149\n",
            "Epoch 11/100\n",
            "1/1 [==============================] - 0s 22ms/step - loss: 10.1824 - mae: 10.1824\n",
            "Epoch 12/100\n",
            "1/1 [==============================] - 0s 17ms/step - loss: 10.0499 - mae: 10.0499\n",
            "Epoch 13/100\n",
            "1/1 [==============================] - 0s 18ms/step - loss: 9.9174 - mae: 9.9174\n",
            "Epoch 14/100\n",
            "1/1 [==============================] - 0s 17ms/step - loss: 9.7849 - mae: 9.7849\n",
            "Epoch 15/100\n",
            "1/1 [==============================] - 0s 16ms/step - loss: 9.6524 - mae: 9.6524\n",
            "Epoch 16/100\n",
            "1/1 [==============================] - 0s 14ms/step - loss: 9.5199 - mae: 9.5199\n",
            "Epoch 17/100\n",
            "1/1 [==============================] - 0s 17ms/step - loss: 9.3874 - mae: 9.3874\n",
            "Epoch 18/100\n",
            "1/1 [==============================] - 0s 15ms/step - loss: 9.2549 - mae: 9.2549\n",
            "Epoch 19/100\n",
            "1/1 [==============================] - 0s 14ms/step - loss: 9.1224 - mae: 9.1224\n",
            "Epoch 20/100\n",
            "1/1 [==============================] - 0s 13ms/step - loss: 8.9899 - mae: 8.9899\n",
            "Epoch 21/100\n",
            "1/1 [==============================] - 0s 14ms/step - loss: 8.8574 - mae: 8.8574\n",
            "Epoch 22/100\n",
            "1/1 [==============================] - 0s 13ms/step - loss: 8.7249 - mae: 8.7249\n",
            "Epoch 23/100\n",
            "1/1 [==============================] - 0s 14ms/step - loss: 8.5924 - mae: 8.5924\n",
            "Epoch 24/100\n",
            "1/1 [==============================] - 0s 17ms/step - loss: 8.4599 - mae: 8.4599\n",
            "Epoch 25/100\n",
            "1/1 [==============================] - 0s 16ms/step - loss: 8.3274 - mae: 8.3274\n",
            "Epoch 26/100\n",
            "1/1 [==============================] - 0s 14ms/step - loss: 8.1949 - mae: 8.1949\n",
            "Epoch 27/100\n",
            "1/1 [==============================] - 0s 22ms/step - loss: 8.0624 - mae: 8.0624\n",
            "Epoch 28/100\n",
            "1/1 [==============================] - 0s 23ms/step - loss: 7.9299 - mae: 7.9299\n",
            "Epoch 29/100\n",
            "1/1 [==============================] - 0s 14ms/step - loss: 7.7974 - mae: 7.7974\n",
            "Epoch 30/100\n",
            "1/1 [==============================] - 0s 12ms/step - loss: 7.6649 - mae: 7.6649\n",
            "Epoch 31/100\n",
            "1/1 [==============================] - 0s 13ms/step - loss: 7.5324 - mae: 7.5324\n",
            "Epoch 32/100\n",
            "1/1 [==============================] - 0s 12ms/step - loss: 7.3999 - mae: 7.3999\n",
            "Epoch 33/100\n",
            "1/1 [==============================] - 0s 11ms/step - loss: 7.2674 - mae: 7.2674\n",
            "Epoch 34/100\n",
            "1/1 [==============================] - 0s 14ms/step - loss: 7.2525 - mae: 7.2525\n",
            "Epoch 35/100\n",
            "1/1 [==============================] - 0s 21ms/step - loss: 7.2469 - mae: 7.2469\n",
            "Epoch 36/100\n",
            "1/1 [==============================] - 0s 25ms/step - loss: 7.2413 - mae: 7.2413\n",
            "Epoch 37/100\n",
            "1/1 [==============================] - 0s 22ms/step - loss: 7.2356 - mae: 7.2356\n",
            "Epoch 38/100\n",
            "1/1 [==============================] - 0s 14ms/step - loss: 7.2300 - mae: 7.2300\n",
            "Epoch 39/100\n",
            "1/1 [==============================] - 0s 20ms/step - loss: 7.2244 - mae: 7.2244\n",
            "Epoch 40/100\n",
            "1/1 [==============================] - 0s 18ms/step - loss: 7.2188 - mae: 7.2188\n",
            "Epoch 41/100\n",
            "1/1 [==============================] - 0s 15ms/step - loss: 7.2131 - mae: 7.2131\n",
            "Epoch 42/100\n",
            "1/1 [==============================] - 0s 14ms/step - loss: 7.2075 - mae: 7.2075\n",
            "Epoch 43/100\n",
            "1/1 [==============================] - 0s 21ms/step - loss: 7.2019 - mae: 7.2019\n",
            "Epoch 44/100\n",
            "1/1 [==============================] - 0s 15ms/step - loss: 7.1963 - mae: 7.1963\n",
            "Epoch 45/100\n",
            "1/1 [==============================] - 0s 19ms/step - loss: 7.1906 - mae: 7.1906\n",
            "Epoch 46/100\n",
            "1/1 [==============================] - 0s 20ms/step - loss: 7.1850 - mae: 7.1850\n",
            "Epoch 47/100\n",
            "1/1 [==============================] - 0s 15ms/step - loss: 7.1794 - mae: 7.1794\n",
            "Epoch 48/100\n",
            "1/1 [==============================] - 0s 18ms/step - loss: 7.1738 - mae: 7.1738\n",
            "Epoch 49/100\n",
            "1/1 [==============================] - 0s 17ms/step - loss: 7.1681 - mae: 7.1681\n",
            "Epoch 50/100\n",
            "1/1 [==============================] - 0s 15ms/step - loss: 7.1625 - mae: 7.1625\n",
            "Epoch 51/100\n",
            "1/1 [==============================] - 0s 12ms/step - loss: 7.1569 - mae: 7.1569\n",
            "Epoch 52/100\n",
            "1/1 [==============================] - 0s 13ms/step - loss: 7.1512 - mae: 7.1512\n",
            "Epoch 53/100\n",
            "1/1 [==============================] - 0s 12ms/step - loss: 7.1456 - mae: 7.1456\n",
            "Epoch 54/100\n",
            "1/1 [==============================] - 0s 15ms/step - loss: 7.1400 - mae: 7.1400\n",
            "Epoch 55/100\n",
            "1/1 [==============================] - 0s 17ms/step - loss: 7.1344 - mae: 7.1344\n",
            "Epoch 56/100\n",
            "1/1 [==============================] - 0s 18ms/step - loss: 7.1288 - mae: 7.1288\n",
            "Epoch 57/100\n",
            "1/1 [==============================] - 0s 15ms/step - loss: 7.1231 - mae: 7.1231\n",
            "Epoch 58/100\n",
            "1/1 [==============================] - 0s 15ms/step - loss: 7.1175 - mae: 7.1175\n",
            "Epoch 59/100\n",
            "1/1 [==============================] - 0s 10ms/step - loss: 7.1119 - mae: 7.1119\n",
            "Epoch 60/100\n",
            "1/1 [==============================] - 0s 12ms/step - loss: 7.1063 - mae: 7.1063\n",
            "Epoch 61/100\n",
            "1/1 [==============================] - 0s 12ms/step - loss: 7.1006 - mae: 7.1006\n",
            "Epoch 62/100\n",
            "1/1 [==============================] - 0s 10ms/step - loss: 7.0950 - mae: 7.0950\n",
            "Epoch 63/100\n",
            "1/1 [==============================] - 0s 11ms/step - loss: 7.0894 - mae: 7.0894\n",
            "Epoch 64/100\n",
            "1/1 [==============================] - 0s 10ms/step - loss: 7.0838 - mae: 7.0838\n",
            "Epoch 65/100\n",
            "1/1 [==============================] - 0s 9ms/step - loss: 7.0781 - mae: 7.0781\n",
            "Epoch 66/100\n",
            "1/1 [==============================] - 0s 10ms/step - loss: 7.0725 - mae: 7.0725\n",
            "Epoch 67/100\n",
            "1/1 [==============================] - 0s 10ms/step - loss: 7.0669 - mae: 7.0669\n",
            "Epoch 68/100\n",
            "1/1 [==============================] - 0s 9ms/step - loss: 7.0613 - mae: 7.0613\n",
            "Epoch 69/100\n",
            "1/1 [==============================] - 0s 11ms/step - loss: 7.0556 - mae: 7.0556\n",
            "Epoch 70/100\n",
            "1/1 [==============================] - 0s 12ms/step - loss: 7.0500 - mae: 7.0500\n",
            "Epoch 71/100\n",
            "1/1 [==============================] - 0s 10ms/step - loss: 7.0444 - mae: 7.0444\n",
            "Epoch 72/100\n",
            "1/1 [==============================] - 0s 12ms/step - loss: 7.0388 - mae: 7.0388\n",
            "Epoch 73/100\n",
            "1/1 [==============================] - 0s 8ms/step - loss: 7.0331 - mae: 7.0331\n",
            "Epoch 74/100\n",
            "1/1 [==============================] - 0s 10ms/step - loss: 7.0275 - mae: 7.0275\n",
            "Epoch 75/100\n",
            "1/1 [==============================] - 0s 11ms/step - loss: 7.0219 - mae: 7.0219\n",
            "Epoch 76/100\n",
            "1/1 [==============================] - 0s 10ms/step - loss: 7.0163 - mae: 7.0163\n",
            "Epoch 77/100\n",
            "1/1 [==============================] - 0s 10ms/step - loss: 7.0106 - mae: 7.0106\n",
            "Epoch 78/100\n",
            "1/1 [==============================] - 0s 10ms/step - loss: 7.0050 - mae: 7.0050\n",
            "Epoch 79/100\n",
            "1/1 [==============================] - 0s 10ms/step - loss: 6.9994 - mae: 6.9994\n",
            "Epoch 80/100\n",
            "1/1 [==============================] - 0s 10ms/step - loss: 6.9938 - mae: 6.9938\n",
            "Epoch 81/100\n",
            "1/1 [==============================] - 0s 12ms/step - loss: 6.9881 - mae: 6.9881\n",
            "Epoch 82/100\n",
            "1/1 [==============================] - 0s 11ms/step - loss: 6.9825 - mae: 6.9825\n",
            "Epoch 83/100\n",
            "1/1 [==============================] - 0s 12ms/step - loss: 6.9769 - mae: 6.9769\n",
            "Epoch 84/100\n",
            "1/1 [==============================] - 0s 12ms/step - loss: 6.9713 - mae: 6.9713\n",
            "Epoch 85/100\n",
            "1/1 [==============================] - 0s 11ms/step - loss: 6.9656 - mae: 6.9656\n",
            "Epoch 86/100\n",
            "1/1 [==============================] - 0s 12ms/step - loss: 6.9600 - mae: 6.9600\n",
            "Epoch 87/100\n",
            "1/1 [==============================] - 0s 10ms/step - loss: 6.9544 - mae: 6.9544\n",
            "Epoch 88/100\n",
            "1/1 [==============================] - 0s 10ms/step - loss: 6.9488 - mae: 6.9488\n",
            "Epoch 89/100\n",
            "1/1 [==============================] - 0s 9ms/step - loss: 6.9431 - mae: 6.9431\n",
            "Epoch 90/100\n",
            "1/1 [==============================] - 0s 12ms/step - loss: 6.9375 - mae: 6.9375\n",
            "Epoch 91/100\n",
            "1/1 [==============================] - 0s 12ms/step - loss: 6.9319 - mae: 6.9319\n",
            "Epoch 92/100\n",
            "1/1 [==============================] - 0s 10ms/step - loss: 6.9263 - mae: 6.9263\n",
            "Epoch 93/100\n",
            "1/1 [==============================] - 0s 10ms/step - loss: 6.9206 - mae: 6.9206\n",
            "Epoch 94/100\n",
            "1/1 [==============================] - 0s 10ms/step - loss: 6.9150 - mae: 6.9150\n",
            "Epoch 95/100\n",
            "1/1 [==============================] - 0s 13ms/step - loss: 6.9094 - mae: 6.9094\n",
            "Epoch 96/100\n",
            "1/1 [==============================] - 0s 9ms/step - loss: 6.9038 - mae: 6.9038\n",
            "Epoch 97/100\n",
            "1/1 [==============================] - 0s 12ms/step - loss: 6.8981 - mae: 6.8981\n",
            "Epoch 98/100\n",
            "1/1 [==============================] - 0s 9ms/step - loss: 6.8925 - mae: 6.8925\n",
            "Epoch 99/100\n",
            "1/1 [==============================] - 0s 10ms/step - loss: 6.8869 - mae: 6.8869\n",
            "Epoch 100/100\n",
            "1/1 [==============================] - 0s 9ms/step - loss: 6.8813 - mae: 6.8813\n"
          ]
        },
        {
          "output_type": "execute_result",
          "data": {
            "text/plain": [
              "<keras.src.callbacks.History at 0x7c3cb4be40d0>"
            ]
          },
          "metadata": {},
          "execution_count": 15
        }
      ]
    },
    {
      "cell_type": "code",
      "source": [
        "# Try make prediction\n",
        "model1.predict([17.0])"
      ],
      "metadata": {
        "colab": {
          "base_uri": "https://localhost:8080/"
        },
        "id": "4kMA7oidBuHG",
        "outputId": "e755a3e2-e5bb-4807-93fa-9ee41f16b398"
      },
      "execution_count": 16,
      "outputs": [
        {
          "output_type": "stream",
          "name": "stdout",
          "text": [
            "1/1 [==============================] - 0s 139ms/step\n"
          ]
        },
        {
          "output_type": "execute_result",
          "data": {
            "text/plain": [
              "array([[30.14597]], dtype=float32)"
            ]
          },
          "metadata": {},
          "execution_count": 16
        }
      ]
    },
    {
      "cell_type": "code",
      "source": [
        "# re-write the model by my self and improve one thing to get better\n",
        "\n",
        "# 1. Create the model\n",
        "model2 = tf.keras.Sequential([\n",
        "    tf.keras.layers.Dense(1)\n",
        "])\n",
        "\n",
        "# 2. Compile the model\n",
        "model2.compile(loss = tf.keras.losses.mae,\n",
        "              optimizer = tf.keras.optimizers.Adam(learning_rate=0.001), # chang the optimizers from SGD to adam\n",
        "              metrics = [\"mae\"])\n",
        "\n",
        "# 3. Fit the model\n",
        "# model.fit(X, Y, epochs=5) # BREAK IN UPDATED TENSOR VERSION\n",
        "model2.fit(tf.expand_dims(X, axis=-1), Y, epochs=100)"
      ],
      "metadata": {
        "colab": {
          "base_uri": "https://localhost:8080/"
        },
        "id": "gdwbhbhmJVPx",
        "outputId": "507392ed-871e-4ae5-8d4c-97f6ed63af57"
      },
      "execution_count": 17,
      "outputs": [
        {
          "output_type": "stream",
          "name": "stdout",
          "text": [
            "Epoch 1/100\n",
            "1/1 [==============================] - 2s 2s/step - loss: 10.3927 - mae: 10.3927\n",
            "Epoch 2/100\n",
            "1/1 [==============================] - 0s 18ms/step - loss: 10.3882 - mae: 10.3882\n",
            "Epoch 3/100\n",
            "1/1 [==============================] - 0s 13ms/step - loss: 10.3837 - mae: 10.3837\n",
            "Epoch 4/100\n",
            "1/1 [==============================] - 0s 35ms/step - loss: 10.3792 - mae: 10.3792\n",
            "Epoch 5/100\n",
            "1/1 [==============================] - 0s 31ms/step - loss: 10.3747 - mae: 10.3747\n",
            "Epoch 6/100\n",
            "1/1 [==============================] - 0s 20ms/step - loss: 10.3702 - mae: 10.3702\n",
            "Epoch 7/100\n",
            "1/1 [==============================] - 0s 20ms/step - loss: 10.3657 - mae: 10.3657\n",
            "Epoch 8/100\n",
            "1/1 [==============================] - 0s 26ms/step - loss: 10.3612 - mae: 10.3612\n",
            "Epoch 9/100\n",
            "1/1 [==============================] - 0s 19ms/step - loss: 10.3567 - mae: 10.3567\n",
            "Epoch 10/100\n",
            "1/1 [==============================] - 0s 39ms/step - loss: 10.3522 - mae: 10.3522\n",
            "Epoch 11/100\n",
            "1/1 [==============================] - 0s 27ms/step - loss: 10.3477 - mae: 10.3477\n",
            "Epoch 12/100\n",
            "1/1 [==============================] - 0s 30ms/step - loss: 10.3432 - mae: 10.3432\n",
            "Epoch 13/100\n",
            "1/1 [==============================] - 0s 23ms/step - loss: 10.3387 - mae: 10.3387\n",
            "Epoch 14/100\n",
            "1/1 [==============================] - 0s 50ms/step - loss: 10.3342 - mae: 10.3342\n",
            "Epoch 15/100\n",
            "1/1 [==============================] - 0s 30ms/step - loss: 10.3297 - mae: 10.3297\n",
            "Epoch 16/100\n",
            "1/1 [==============================] - 0s 39ms/step - loss: 10.3252 - mae: 10.3252\n",
            "Epoch 17/100\n",
            "1/1 [==============================] - 0s 21ms/step - loss: 10.3207 - mae: 10.3207\n",
            "Epoch 18/100\n",
            "1/1 [==============================] - 0s 19ms/step - loss: 10.3162 - mae: 10.3162\n",
            "Epoch 19/100\n",
            "1/1 [==============================] - 0s 24ms/step - loss: 10.3117 - mae: 10.3117\n",
            "Epoch 20/100\n",
            "1/1 [==============================] - 0s 34ms/step - loss: 10.3072 - mae: 10.3072\n",
            "Epoch 21/100\n",
            "1/1 [==============================] - 0s 44ms/step - loss: 10.3027 - mae: 10.3027\n",
            "Epoch 22/100\n",
            "1/1 [==============================] - 0s 23ms/step - loss: 10.2982 - mae: 10.2982\n",
            "Epoch 23/100\n",
            "1/1 [==============================] - 0s 29ms/step - loss: 10.2937 - mae: 10.2937\n",
            "Epoch 24/100\n",
            "1/1 [==============================] - 0s 31ms/step - loss: 10.2892 - mae: 10.2892\n",
            "Epoch 25/100\n",
            "1/1 [==============================] - 0s 17ms/step - loss: 10.2847 - mae: 10.2847\n",
            "Epoch 26/100\n",
            "1/1 [==============================] - 0s 27ms/step - loss: 10.2802 - mae: 10.2802\n",
            "Epoch 27/100\n",
            "1/1 [==============================] - 0s 17ms/step - loss: 10.2757 - mae: 10.2757\n",
            "Epoch 28/100\n",
            "1/1 [==============================] - 0s 29ms/step - loss: 10.2712 - mae: 10.2712\n",
            "Epoch 29/100\n",
            "1/1 [==============================] - 0s 23ms/step - loss: 10.2667 - mae: 10.2667\n",
            "Epoch 30/100\n",
            "1/1 [==============================] - 0s 42ms/step - loss: 10.2622 - mae: 10.2622\n",
            "Epoch 31/100\n",
            "1/1 [==============================] - 0s 22ms/step - loss: 10.2577 - mae: 10.2577\n",
            "Epoch 32/100\n",
            "1/1 [==============================] - 0s 27ms/step - loss: 10.2532 - mae: 10.2532\n",
            "Epoch 33/100\n",
            "1/1 [==============================] - 0s 22ms/step - loss: 10.2487 - mae: 10.2487\n",
            "Epoch 34/100\n",
            "1/1 [==============================] - 0s 21ms/step - loss: 10.2442 - mae: 10.2442\n",
            "Epoch 35/100\n",
            "1/1 [==============================] - 0s 16ms/step - loss: 10.2397 - mae: 10.2397\n",
            "Epoch 36/100\n",
            "1/1 [==============================] - 0s 22ms/step - loss: 10.2352 - mae: 10.2352\n",
            "Epoch 37/100\n",
            "1/1 [==============================] - 0s 21ms/step - loss: 10.2307 - mae: 10.2307\n",
            "Epoch 38/100\n",
            "1/1 [==============================] - 0s 32ms/step - loss: 10.2262 - mae: 10.2262\n",
            "Epoch 39/100\n",
            "1/1 [==============================] - 0s 22ms/step - loss: 10.2217 - mae: 10.2217\n",
            "Epoch 40/100\n",
            "1/1 [==============================] - 0s 22ms/step - loss: 10.2172 - mae: 10.2172\n",
            "Epoch 41/100\n",
            "1/1 [==============================] - 0s 26ms/step - loss: 10.2127 - mae: 10.2127\n",
            "Epoch 42/100\n",
            "1/1 [==============================] - 0s 31ms/step - loss: 10.2082 - mae: 10.2082\n",
            "Epoch 43/100\n",
            "1/1 [==============================] - 0s 28ms/step - loss: 10.2037 - mae: 10.2037\n",
            "Epoch 44/100\n",
            "1/1 [==============================] - 0s 21ms/step - loss: 10.1992 - mae: 10.1992\n",
            "Epoch 45/100\n",
            "1/1 [==============================] - 0s 40ms/step - loss: 10.1947 - mae: 10.1947\n",
            "Epoch 46/100\n",
            "1/1 [==============================] - 0s 48ms/step - loss: 10.1902 - mae: 10.1902\n",
            "Epoch 47/100\n",
            "1/1 [==============================] - 0s 28ms/step - loss: 10.1857 - mae: 10.1857\n",
            "Epoch 48/100\n",
            "1/1 [==============================] - 0s 35ms/step - loss: 10.1812 - mae: 10.1812\n",
            "Epoch 49/100\n",
            "1/1 [==============================] - 0s 26ms/step - loss: 10.1767 - mae: 10.1767\n",
            "Epoch 50/100\n",
            "1/1 [==============================] - 0s 23ms/step - loss: 10.1722 - mae: 10.1722\n",
            "Epoch 51/100\n",
            "1/1 [==============================] - 0s 20ms/step - loss: 10.1677 - mae: 10.1677\n",
            "Epoch 52/100\n",
            "1/1 [==============================] - 0s 19ms/step - loss: 10.1632 - mae: 10.1632\n",
            "Epoch 53/100\n",
            "1/1 [==============================] - 0s 17ms/step - loss: 10.1587 - mae: 10.1587\n",
            "Epoch 54/100\n",
            "1/1 [==============================] - 0s 18ms/step - loss: 10.1542 - mae: 10.1542\n",
            "Epoch 55/100\n",
            "1/1 [==============================] - 0s 17ms/step - loss: 10.1497 - mae: 10.1497\n",
            "Epoch 56/100\n",
            "1/1 [==============================] - 0s 17ms/step - loss: 10.1452 - mae: 10.1452\n",
            "Epoch 57/100\n",
            "1/1 [==============================] - 0s 26ms/step - loss: 10.1407 - mae: 10.1407\n",
            "Epoch 58/100\n",
            "1/1 [==============================] - 0s 33ms/step - loss: 10.1362 - mae: 10.1362\n",
            "Epoch 59/100\n",
            "1/1 [==============================] - 0s 25ms/step - loss: 10.1317 - mae: 10.1317\n",
            "Epoch 60/100\n",
            "1/1 [==============================] - 0s 32ms/step - loss: 10.1272 - mae: 10.1272\n",
            "Epoch 61/100\n",
            "1/1 [==============================] - 0s 47ms/step - loss: 10.1227 - mae: 10.1227\n",
            "Epoch 62/100\n",
            "1/1 [==============================] - 0s 22ms/step - loss: 10.1182 - mae: 10.1182\n",
            "Epoch 63/100\n",
            "1/1 [==============================] - 0s 24ms/step - loss: 10.1137 - mae: 10.1137\n",
            "Epoch 64/100\n",
            "1/1 [==============================] - 0s 27ms/step - loss: 10.1092 - mae: 10.1092\n",
            "Epoch 65/100\n",
            "1/1 [==============================] - 0s 20ms/step - loss: 10.1047 - mae: 10.1047\n",
            "Epoch 66/100\n",
            "1/1 [==============================] - 0s 34ms/step - loss: 10.1002 - mae: 10.1002\n",
            "Epoch 67/100\n",
            "1/1 [==============================] - 0s 17ms/step - loss: 10.0957 - mae: 10.0957\n",
            "Epoch 68/100\n",
            "1/1 [==============================] - 0s 18ms/step - loss: 10.0912 - mae: 10.0912\n",
            "Epoch 69/100\n",
            "1/1 [==============================] - 0s 19ms/step - loss: 10.0867 - mae: 10.0867\n",
            "Epoch 70/100\n",
            "1/1 [==============================] - 0s 16ms/step - loss: 10.0822 - mae: 10.0822\n",
            "Epoch 71/100\n",
            "1/1 [==============================] - 0s 17ms/step - loss: 10.0777 - mae: 10.0777\n",
            "Epoch 72/100\n",
            "1/1 [==============================] - 0s 16ms/step - loss: 10.0732 - mae: 10.0732\n",
            "Epoch 73/100\n",
            "1/1 [==============================] - 0s 20ms/step - loss: 10.0687 - mae: 10.0687\n",
            "Epoch 74/100\n",
            "1/1 [==============================] - 0s 36ms/step - loss: 10.0642 - mae: 10.0642\n",
            "Epoch 75/100\n",
            "1/1 [==============================] - 0s 41ms/step - loss: 10.0597 - mae: 10.0597\n",
            "Epoch 76/100\n",
            "1/1 [==============================] - 0s 26ms/step - loss: 10.0552 - mae: 10.0552\n",
            "Epoch 77/100\n",
            "1/1 [==============================] - 0s 37ms/step - loss: 10.0507 - mae: 10.0507\n",
            "Epoch 78/100\n",
            "1/1 [==============================] - 0s 49ms/step - loss: 10.0462 - mae: 10.0462\n",
            "Epoch 79/100\n",
            "1/1 [==============================] - 0s 29ms/step - loss: 10.0417 - mae: 10.0417\n",
            "Epoch 80/100\n",
            "1/1 [==============================] - 0s 24ms/step - loss: 10.0372 - mae: 10.0372\n",
            "Epoch 81/100\n",
            "1/1 [==============================] - 0s 20ms/step - loss: 10.0327 - mae: 10.0327\n",
            "Epoch 82/100\n",
            "1/1 [==============================] - 0s 22ms/step - loss: 10.0282 - mae: 10.0282\n",
            "Epoch 83/100\n",
            "1/1 [==============================] - 0s 20ms/step - loss: 10.0237 - mae: 10.0237\n",
            "Epoch 84/100\n",
            "1/1 [==============================] - 0s 30ms/step - loss: 10.0192 - mae: 10.0192\n",
            "Epoch 85/100\n",
            "1/1 [==============================] - 0s 23ms/step - loss: 10.0147 - mae: 10.0147\n",
            "Epoch 86/100\n",
            "1/1 [==============================] - 0s 22ms/step - loss: 10.0102 - mae: 10.0102\n",
            "Epoch 87/100\n",
            "1/1 [==============================] - 0s 23ms/step - loss: 10.0057 - mae: 10.0057\n",
            "Epoch 88/100\n",
            "1/1 [==============================] - 0s 22ms/step - loss: 10.0012 - mae: 10.0012\n",
            "Epoch 89/100\n",
            "1/1 [==============================] - 0s 16ms/step - loss: 9.9967 - mae: 9.9967\n",
            "Epoch 90/100\n",
            "1/1 [==============================] - 0s 21ms/step - loss: 9.9922 - mae: 9.9922\n",
            "Epoch 91/100\n",
            "1/1 [==============================] - 0s 27ms/step - loss: 9.9877 - mae: 9.9877\n",
            "Epoch 92/100\n",
            "1/1 [==============================] - 0s 25ms/step - loss: 9.9832 - mae: 9.9832\n",
            "Epoch 93/100\n",
            "1/1 [==============================] - 0s 19ms/step - loss: 9.9787 - mae: 9.9787\n",
            "Epoch 94/100\n",
            "1/1 [==============================] - 0s 21ms/step - loss: 9.9742 - mae: 9.9742\n",
            "Epoch 95/100\n",
            "1/1 [==============================] - 0s 21ms/step - loss: 9.9697 - mae: 9.9697\n",
            "Epoch 96/100\n",
            "1/1 [==============================] - 0s 29ms/step - loss: 9.9652 - mae: 9.9652\n",
            "Epoch 97/100\n",
            "1/1 [==============================] - 0s 26ms/step - loss: 9.9607 - mae: 9.9607\n",
            "Epoch 98/100\n",
            "1/1 [==============================] - 0s 31ms/step - loss: 9.9562 - mae: 9.9562\n",
            "Epoch 99/100\n",
            "1/1 [==============================] - 0s 23ms/step - loss: 9.9517 - mae: 9.9517\n",
            "Epoch 100/100\n",
            "1/1 [==============================] - 0s 17ms/step - loss: 9.9472 - mae: 9.9472\n"
          ]
        },
        {
          "output_type": "execute_result",
          "data": {
            "text/plain": [
              "<keras.src.callbacks.History at 0x7c3cb4260670>"
            ]
          },
          "metadata": {},
          "execution_count": 17
        }
      ]
    },
    {
      "cell_type": "code",
      "source": [
        "# Try make prediction\n",
        "model2.predict([17.0])"
      ],
      "metadata": {
        "colab": {
          "base_uri": "https://localhost:8080/"
        },
        "id": "QeWEo95_J5Gg",
        "outputId": "b9e86c1f-3847-44bd-a63f-a58a6e7862d1"
      },
      "execution_count": 18,
      "outputs": [
        {
          "output_type": "stream",
          "name": "stdout",
          "text": [
            "1/1 [==============================] - 0s 245ms/step\n"
          ]
        },
        {
          "output_type": "execute_result",
          "data": {
            "text/plain": [
              "array([[16.892733]], dtype=float32)"
            ]
          },
          "metadata": {},
          "execution_count": 18
        }
      ]
    },
    {
      "cell_type": "code",
      "source": [
        "# re-write the model\n",
        "\n",
        "# 1. Create the model (with 100 hidden units )\n",
        "model3 = tf.keras.Sequential([\n",
        "    tf.keras.layers.Dense(50, activation=None),\n",
        "    tf.keras.layers.Dense(1)\n",
        "])\n",
        "\n",
        "# 2. Compile the model\n",
        "model3.compile(loss = \"mae\",\n",
        "              optimizer = tf.keras.optimizers.Adam(learning_rate = 0.01),\n",
        "              metrics = [\"mae\"])\n",
        "\n",
        "# 3. Fit the model\n",
        "# model.fit(X, Y, epochs=5) # BREAK IN UPDATED TENSOR VERSION\n",
        "model3.fit(tf.expand_dims(X, axis=-1), Y, epochs=100)"
      ],
      "metadata": {
        "colab": {
          "base_uri": "https://localhost:8080/"
        },
        "id": "KI1XF166hgOa",
        "outputId": "97ed6444-08ee-4bfd-c642-0e5570dccd49"
      },
      "execution_count": 19,
      "outputs": [
        {
          "output_type": "stream",
          "name": "stdout",
          "text": [
            "Epoch 1/100\n",
            "1/1 [==============================] - 2s 2s/step - loss: 12.2460 - mae: 12.2460\n",
            "Epoch 2/100\n",
            "1/1 [==============================] - 0s 36ms/step - loss: 11.5558 - mae: 11.5558\n",
            "Epoch 3/100\n",
            "1/1 [==============================] - 0s 33ms/step - loss: 10.8578 - mae: 10.8578\n",
            "Epoch 4/100\n",
            "1/1 [==============================] - 0s 26ms/step - loss: 10.1476 - mae: 10.1476\n",
            "Epoch 5/100\n",
            "1/1 [==============================] - 0s 24ms/step - loss: 9.4230 - mae: 9.4230\n",
            "Epoch 6/100\n",
            "1/1 [==============================] - 0s 27ms/step - loss: 8.6826 - mae: 8.6826\n",
            "Epoch 7/100\n",
            "1/1 [==============================] - 0s 28ms/step - loss: 7.9244 - mae: 7.9244\n",
            "Epoch 8/100\n",
            "1/1 [==============================] - 0s 30ms/step - loss: 7.1461 - mae: 7.1461\n",
            "Epoch 9/100\n",
            "1/1 [==============================] - 0s 28ms/step - loss: 6.8645 - mae: 6.8645\n",
            "Epoch 10/100\n",
            "1/1 [==============================] - 0s 17ms/step - loss: 7.2077 - mae: 7.2077\n",
            "Epoch 11/100\n",
            "1/1 [==============================] - 0s 17ms/step - loss: 7.4880 - mae: 7.4880\n",
            "Epoch 12/100\n",
            "1/1 [==============================] - 0s 17ms/step - loss: 7.8058 - mae: 7.8058\n",
            "Epoch 13/100\n",
            "1/1 [==============================] - 0s 27ms/step - loss: 7.8586 - mae: 7.8586\n",
            "Epoch 14/100\n",
            "1/1 [==============================] - 0s 19ms/step - loss: 7.7058 - mae: 7.7058\n",
            "Epoch 15/100\n",
            "1/1 [==============================] - 0s 19ms/step - loss: 7.4024 - mae: 7.4024\n",
            "Epoch 16/100\n",
            "1/1 [==============================] - 0s 46ms/step - loss: 7.0562 - mae: 7.0562\n",
            "Epoch 17/100\n",
            "1/1 [==============================] - 0s 21ms/step - loss: 6.7736 - mae: 6.7736\n",
            "Epoch 18/100\n",
            "1/1 [==============================] - 0s 21ms/step - loss: 6.4760 - mae: 6.4760\n",
            "Epoch 19/100\n",
            "1/1 [==============================] - 0s 21ms/step - loss: 6.2218 - mae: 6.2218\n",
            "Epoch 20/100\n",
            "1/1 [==============================] - 0s 24ms/step - loss: 6.1751 - mae: 6.1751\n",
            "Epoch 21/100\n",
            "1/1 [==============================] - 0s 43ms/step - loss: 6.1848 - mae: 6.1848\n",
            "Epoch 22/100\n",
            "1/1 [==============================] - 0s 30ms/step - loss: 6.2653 - mae: 6.2653\n",
            "Epoch 23/100\n",
            "1/1 [==============================] - 0s 24ms/step - loss: 6.2381 - mae: 6.2381\n",
            "Epoch 24/100\n",
            "1/1 [==============================] - 0s 34ms/step - loss: 6.1175 - mae: 6.1175\n",
            "Epoch 25/100\n",
            "1/1 [==============================] - 0s 24ms/step - loss: 5.9142 - mae: 5.9142\n",
            "Epoch 26/100\n",
            "1/1 [==============================] - 0s 28ms/step - loss: 5.7209 - mae: 5.7209\n",
            "Epoch 27/100\n",
            "1/1 [==============================] - 0s 27ms/step - loss: 5.6196 - mae: 5.6196\n",
            "Epoch 28/100\n",
            "1/1 [==============================] - 0s 31ms/step - loss: 5.5158 - mae: 5.5158\n",
            "Epoch 29/100\n",
            "1/1 [==============================] - 0s 26ms/step - loss: 5.4840 - mae: 5.4840\n",
            "Epoch 30/100\n",
            "1/1 [==============================] - 0s 32ms/step - loss: 5.4648 - mae: 5.4648\n",
            "Epoch 31/100\n",
            "1/1 [==============================] - 0s 34ms/step - loss: 5.4014 - mae: 5.4014\n",
            "Epoch 32/100\n",
            "1/1 [==============================] - 0s 33ms/step - loss: 5.2979 - mae: 5.2979\n",
            "Epoch 33/100\n",
            "1/1 [==============================] - 0s 19ms/step - loss: 5.1578 - mae: 5.1578\n",
            "Epoch 34/100\n",
            "1/1 [==============================] - 0s 22ms/step - loss: 4.9846 - mae: 4.9846\n",
            "Epoch 35/100\n",
            "1/1 [==============================] - 0s 18ms/step - loss: 4.8628 - mae: 4.8628\n",
            "Epoch 36/100\n",
            "1/1 [==============================] - 0s 19ms/step - loss: 4.7742 - mae: 4.7742\n",
            "Epoch 37/100\n",
            "1/1 [==============================] - 0s 17ms/step - loss: 4.6788 - mae: 4.6788\n",
            "Epoch 38/100\n",
            "1/1 [==============================] - 0s 21ms/step - loss: 4.5853 - mae: 4.5853\n",
            "Epoch 39/100\n",
            "1/1 [==============================] - 0s 25ms/step - loss: 4.4583 - mae: 4.4583\n",
            "Epoch 40/100\n",
            "1/1 [==============================] - 0s 23ms/step - loss: 4.3226 - mae: 4.3226\n",
            "Epoch 41/100\n",
            "1/1 [==============================] - 0s 19ms/step - loss: 4.1818 - mae: 4.1818\n",
            "Epoch 42/100\n",
            "1/1 [==============================] - 0s 20ms/step - loss: 4.0349 - mae: 4.0349\n",
            "Epoch 43/100\n",
            "1/1 [==============================] - 0s 21ms/step - loss: 3.9387 - mae: 3.9387\n",
            "Epoch 44/100\n",
            "1/1 [==============================] - 0s 46ms/step - loss: 3.8320 - mae: 3.8320\n",
            "Epoch 45/100\n",
            "1/1 [==============================] - 0s 30ms/step - loss: 3.6759 - mae: 3.6759\n",
            "Epoch 46/100\n",
            "1/1 [==============================] - 0s 65ms/step - loss: 3.4735 - mae: 3.4735\n",
            "Epoch 47/100\n",
            "1/1 [==============================] - 0s 35ms/step - loss: 3.3066 - mae: 3.3066\n",
            "Epoch 48/100\n",
            "1/1 [==============================] - 0s 34ms/step - loss: 3.1569 - mae: 3.1569\n",
            "Epoch 49/100\n",
            "1/1 [==============================] - 0s 50ms/step - loss: 3.0263 - mae: 3.0263\n",
            "Epoch 50/100\n",
            "1/1 [==============================] - 0s 32ms/step - loss: 2.8195 - mae: 2.8195\n",
            "Epoch 51/100\n",
            "1/1 [==============================] - 0s 19ms/step - loss: 2.6112 - mae: 2.6112\n",
            "Epoch 52/100\n",
            "1/1 [==============================] - 0s 31ms/step - loss: 2.4495 - mae: 2.4495\n",
            "Epoch 53/100\n",
            "1/1 [==============================] - 0s 28ms/step - loss: 2.3008 - mae: 2.3008\n",
            "Epoch 54/100\n",
            "1/1 [==============================] - 0s 27ms/step - loss: 2.0898 - mae: 2.0898\n",
            "Epoch 55/100\n",
            "1/1 [==============================] - 0s 22ms/step - loss: 1.8193 - mae: 1.8193\n",
            "Epoch 56/100\n",
            "1/1 [==============================] - 0s 20ms/step - loss: 1.5789 - mae: 1.5789\n",
            "Epoch 57/100\n",
            "1/1 [==============================] - 0s 18ms/step - loss: 1.4810 - mae: 1.4810\n",
            "Epoch 58/100\n",
            "1/1 [==============================] - 0s 25ms/step - loss: 1.2351 - mae: 1.2351\n",
            "Epoch 59/100\n",
            "1/1 [==============================] - 0s 39ms/step - loss: 0.8536 - mae: 0.8536\n",
            "Epoch 60/100\n",
            "1/1 [==============================] - 0s 30ms/step - loss: 0.6960 - mae: 0.6960\n",
            "Epoch 61/100\n",
            "1/1 [==============================] - 0s 25ms/step - loss: 0.4484 - mae: 0.4484\n",
            "Epoch 62/100\n",
            "1/1 [==============================] - 0s 21ms/step - loss: 0.1081 - mae: 0.1081\n",
            "Epoch 63/100\n",
            "1/1 [==============================] - 0s 15ms/step - loss: 0.2555 - mae: 0.2555\n",
            "Epoch 64/100\n",
            "1/1 [==============================] - 0s 35ms/step - loss: 0.5325 - mae: 0.5325\n",
            "Epoch 65/100\n",
            "1/1 [==============================] - 0s 40ms/step - loss: 0.6743 - mae: 0.6743\n",
            "Epoch 66/100\n",
            "1/1 [==============================] - 0s 55ms/step - loss: 0.7338 - mae: 0.7338\n",
            "Epoch 67/100\n",
            "1/1 [==============================] - 0s 23ms/step - loss: 0.8306 - mae: 0.8306\n",
            "Epoch 68/100\n",
            "1/1 [==============================] - 0s 18ms/step - loss: 0.8248 - mae: 0.8248\n",
            "Epoch 69/100\n",
            "1/1 [==============================] - 0s 24ms/step - loss: 0.7716 - mae: 0.7716\n",
            "Epoch 70/100\n",
            "1/1 [==============================] - 0s 41ms/step - loss: 0.8028 - mae: 0.8028\n",
            "Epoch 71/100\n",
            "1/1 [==============================] - 0s 28ms/step - loss: 0.6431 - mae: 0.6431\n",
            "Epoch 72/100\n",
            "1/1 [==============================] - 0s 24ms/step - loss: 0.6488 - mae: 0.6488\n",
            "Epoch 73/100\n",
            "1/1 [==============================] - 0s 30ms/step - loss: 0.5784 - mae: 0.5784\n",
            "Epoch 74/100\n",
            "1/1 [==============================] - 0s 54ms/step - loss: 0.3148 - mae: 0.3148\n",
            "Epoch 75/100\n",
            "1/1 [==============================] - 0s 40ms/step - loss: 0.2982 - mae: 0.2982\n",
            "Epoch 76/100\n",
            "1/1 [==============================] - 0s 21ms/step - loss: 0.3687 - mae: 0.3687\n",
            "Epoch 77/100\n",
            "1/1 [==============================] - 0s 22ms/step - loss: 0.1833 - mae: 0.1833\n",
            "Epoch 78/100\n",
            "1/1 [==============================] - 0s 15ms/step - loss: 0.5100 - mae: 0.5100\n",
            "Epoch 79/100\n",
            "1/1 [==============================] - 0s 29ms/step - loss: 0.6931 - mae: 0.6931\n",
            "Epoch 80/100\n",
            "1/1 [==============================] - 0s 36ms/step - loss: 0.6980 - mae: 0.6980\n",
            "Epoch 81/100\n",
            "1/1 [==============================] - 0s 25ms/step - loss: 0.5456 - mae: 0.5456\n",
            "Epoch 82/100\n",
            "1/1 [==============================] - 0s 26ms/step - loss: 0.2525 - mae: 0.2525\n",
            "Epoch 83/100\n",
            "1/1 [==============================] - 0s 36ms/step - loss: 0.4511 - mae: 0.4511\n",
            "Epoch 84/100\n",
            "1/1 [==============================] - 0s 21ms/step - loss: 0.4698 - mae: 0.4698\n",
            "Epoch 85/100\n",
            "1/1 [==============================] - 0s 32ms/step - loss: 0.1777 - mae: 0.1777\n",
            "Epoch 86/100\n",
            "1/1 [==============================] - 0s 25ms/step - loss: 0.3943 - mae: 0.3943\n",
            "Epoch 87/100\n",
            "1/1 [==============================] - 0s 55ms/step - loss: 0.5922 - mae: 0.5922\n",
            "Epoch 88/100\n",
            "1/1 [==============================] - 0s 27ms/step - loss: 0.4696 - mae: 0.4696\n",
            "Epoch 89/100\n",
            "1/1 [==============================] - 0s 34ms/step - loss: 0.1946 - mae: 0.1946\n",
            "Epoch 90/100\n",
            "1/1 [==============================] - 0s 36ms/step - loss: 0.3862 - mae: 0.3862\n",
            "Epoch 91/100\n",
            "1/1 [==============================] - 0s 34ms/step - loss: 0.4340 - mae: 0.4340\n",
            "Epoch 92/100\n",
            "1/1 [==============================] - 0s 30ms/step - loss: 0.2613 - mae: 0.2613\n",
            "Epoch 93/100\n",
            "1/1 [==============================] - 0s 32ms/step - loss: 0.1689 - mae: 0.1689\n",
            "Epoch 94/100\n",
            "1/1 [==============================] - 0s 15ms/step - loss: 0.2313 - mae: 0.2313\n",
            "Epoch 95/100\n",
            "1/1 [==============================] - 0s 36ms/step - loss: 0.0958 - mae: 0.0958\n",
            "Epoch 96/100\n",
            "1/1 [==============================] - 0s 32ms/step - loss: 0.3759 - mae: 0.3759\n",
            "Epoch 97/100\n",
            "1/1 [==============================] - 0s 23ms/step - loss: 0.4312 - mae: 0.4312\n",
            "Epoch 98/100\n",
            "1/1 [==============================] - 0s 27ms/step - loss: 0.2227 - mae: 0.2227\n",
            "Epoch 99/100\n",
            "1/1 [==============================] - 0s 12ms/step - loss: 0.2775 - mae: 0.2775\n",
            "Epoch 100/100\n",
            "1/1 [==============================] - 0s 22ms/step - loss: 0.4211 - mae: 0.4211\n"
          ]
        },
        {
          "output_type": "execute_result",
          "data": {
            "text/plain": [
              "<keras.src.callbacks.History at 0x7c3cb4143dc0>"
            ]
          },
          "metadata": {},
          "execution_count": 19
        }
      ]
    },
    {
      "cell_type": "code",
      "source": [
        "# Try make prediction\n",
        "model3.predict([17.0])"
      ],
      "metadata": {
        "colab": {
          "base_uri": "https://localhost:8080/"
        },
        "id": "iZcXS1vmiusq",
        "outputId": "46988a30-30c1-4c77-8cdf-106040e3e184"
      },
      "execution_count": 20,
      "outputs": [
        {
          "output_type": "stream",
          "name": "stdout",
          "text": [
            "1/1 [==============================] - 1s 505ms/step\n"
          ]
        },
        {
          "output_type": "execute_result",
          "data": {
            "text/plain": [
              "array([[26.210579]], dtype=float32)"
            ]
          },
          "metadata": {},
          "execution_count": 20
        }
      ]
    },
    {
      "cell_type": "markdown",
      "source": [
        "## Evaluating Model\n",
        "\n",
        "Build a model -> fit it -> evaluate it -> tweak a model -> fit it -> evaluate it...\n",
        "\n",
        "Evaluation = visualize\n",
        "\n",
        "it's good idea to visualize :\n",
        "* The data - what data we working with? what does it look like?\n",
        "* The model = what does our model look like?\n",
        "* The training of a model - how does a model perform while it learns?\n",
        "* The predictions of the model - how do the predictions of a model line up against the ground truth (the origin label)"
      ],
      "metadata": {
        "id": "ggu1CbXFlSbl"
      }
    },
    {
      "cell_type": "code",
      "source": [
        "# Make a bigger dataset\n",
        "\n",
        "x = tf.range(-100, 100, 4)\n",
        "x"
      ],
      "metadata": {
        "colab": {
          "base_uri": "https://localhost:8080/"
        },
        "id": "O5yDk0J9lV5n",
        "outputId": "df1491ea-b4a4-45b5-82d7-1bc17976ebb7"
      },
      "execution_count": 21,
      "outputs": [
        {
          "output_type": "execute_result",
          "data": {
            "text/plain": [
              "<tf.Tensor: shape=(50,), dtype=int32, numpy=\n",
              "array([-100,  -96,  -92,  -88,  -84,  -80,  -76,  -72,  -68,  -64,  -60,\n",
              "        -56,  -52,  -48,  -44,  -40,  -36,  -32,  -28,  -24,  -20,  -16,\n",
              "        -12,   -8,   -4,    0,    4,    8,   12,   16,   20,   24,   28,\n",
              "         32,   36,   40,   44,   48,   52,   56,   60,   64,   68,   72,\n",
              "         76,   80,   84,   88,   92,   96], dtype=int32)>"
            ]
          },
          "metadata": {},
          "execution_count": 21
        }
      ]
    },
    {
      "cell_type": "code",
      "source": [
        "# Make labels for the dataset\n",
        "\n",
        "y = x + 10\n",
        "y"
      ],
      "metadata": {
        "colab": {
          "base_uri": "https://localhost:8080/"
        },
        "id": "_VnV5iodqYP8",
        "outputId": "5c5b2852-0224-458a-c4f5-616b0d5d6747"
      },
      "execution_count": 22,
      "outputs": [
        {
          "output_type": "execute_result",
          "data": {
            "text/plain": [
              "<tf.Tensor: shape=(50,), dtype=int32, numpy=\n",
              "array([-90, -86, -82, -78, -74, -70, -66, -62, -58, -54, -50, -46, -42,\n",
              "       -38, -34, -30, -26, -22, -18, -14, -10,  -6,  -2,   2,   6,  10,\n",
              "        14,  18,  22,  26,  30,  34,  38,  42,  46,  50,  54,  58,  62,\n",
              "        66,  70,  74,  78,  82,  86,  90,  94,  98, 102, 106], dtype=int32)>"
            ]
          },
          "metadata": {},
          "execution_count": 22
        }
      ]
    },
    {
      "cell_type": "code",
      "source": [
        "# Visualize the data\n",
        "\n",
        "import matplotlib.pyplot as plt\n",
        "\n",
        "plt.scatter(x, y)"
      ],
      "metadata": {
        "colab": {
          "base_uri": "https://localhost:8080/",
          "height": 447
        },
        "id": "wqnieOnpqiby",
        "outputId": "8164189b-bdb9-49ea-a376-2b751b636149"
      },
      "execution_count": 23,
      "outputs": [
        {
          "output_type": "execute_result",
          "data": {
            "text/plain": [
              "<matplotlib.collections.PathCollection at 0x7c3ca7f9ba60>"
            ]
          },
          "metadata": {},
          "execution_count": 23
        },
        {
          "output_type": "display_data",
          "data": {
            "text/plain": [
              "<Figure size 640x480 with 1 Axes>"
            ],
            "image/png": "[encoded data removed]"
          },
          "metadata": {}
        }
      ]
    },
    {
      "cell_type": "markdown",
      "source": [
        "### The 3 sets\n",
        "\n",
        "* **Training set** - the model learn from this data, 70-80%\n",
        "* **Validation set** - set model gets tuned on this data, 10-15%\n",
        "* **Test set** - the model gets evaluated on this data, 10-15%"
      ],
      "metadata": {
        "id": "CCtd3h36q0Xk"
      }
    },
    {
      "cell_type": "code",
      "source": [
        "# Check the length of the data\n",
        "len(x)"
      ],
      "metadata": {
        "colab": {
          "base_uri": "https://localhost:8080/"
        },
        "id": "2_ITjQWjFQsM",
        "outputId": "ceb608af-f765-4b77-fa19-629e1b041d18"
      },
      "execution_count": 24,
      "outputs": [
        {
          "output_type": "execute_result",
          "data": {
            "text/plain": [
              "50"
            ]
          },
          "metadata": {},
          "execution_count": 24
        }
      ]
    },
    {
      "cell_type": "code",
      "source": [
        "# Split the data into train and test sets\n",
        "x_train = x[:40] # first to 40 data will be the training sample\n",
        "y_train = y[:40]\n",
        "\n",
        "x_test = x[40:] # 20% will be test\n",
        "y_test = y[40:]\n",
        "\n",
        "len(x_train), len(x_test), len(y_train), len(y_test)"
      ],
      "metadata": {
        "colab": {
          "base_uri": "https://localhost:8080/"
        },
        "id": "4fkIFEl_HAu3",
        "outputId": "c029a04a-adbd-4d23-c2b0-a4c0474b7f9c"
      },
      "execution_count": 25,
      "outputs": [
        {
          "output_type": "execute_result",
          "data": {
            "text/plain": [
              "(40, 10, 40, 10)"
            ]
          },
          "metadata": {},
          "execution_count": 25
        }
      ]
    },
    {
      "cell_type": "markdown",
      "source": [
        "### Visualing the data\n",
        "\n",
        "Now we've got out data in training and test sets...lets visualize it"
      ],
      "metadata": {
        "id": "9WJ9AtA0KgLL"
      }
    },
    {
      "cell_type": "code",
      "source": [
        "plt.figure(figsize=(10,7))\n",
        "\n",
        "# Plot training data in blue\n",
        "plt.scatter(x_train, y_train, c=\"b\", label=\"Training data\")\n",
        "\n",
        "# Plot test data in green\n",
        "plt.scatter(x_test, y_test, c=\"g\", label=\"Testing data\")\n",
        "\n",
        "# Show a legend\n",
        "plt.legend();"
      ],
      "metadata": {
        "colab": {
          "base_uri": "https://localhost:8080/",
          "height": 484
        },
        "id": "OQGu_de6G_li",
        "outputId": "e3458171-1ac2-44e0-e2e3-f1468ee49b6d"
      },
      "execution_count": 26,
      "outputs": [
        {
          "output_type": "display_data",
          "data": {
            "text/plain": [
              "<Figure size 1000x700 with 1 Axes>"
            ],
            "image/png": "[encoded data removed]"
          },
          "metadata": {}
        }
      ]
    },
    {
      "cell_type": "code",
      "source": [
        "# Lets have a look at how to build a neural network for our data\n",
        "\n",
        "# 1. Create the model\n",
        "model = tf.keras.Sequential([\n",
        "    tf.keras.layers.Dense(1)\n",
        "])\n",
        "\n",
        "# 2. Compile the model\n",
        "model.compile(loss = tf.keras.losses.mae,\n",
        "              optimizer = tf.keras.optimizers.SGD(),\n",
        "              metrics = [\"mae\"])\n",
        "\n",
        "# 3. Fit the model\n",
        "#model.fit(tf.expand_dims(x_train, axis=-1), y_train, epochs=100)"
      ],
      "metadata": {
        "id": "TtdWZXKHSSN-"
      },
      "execution_count": 27,
      "outputs": []
    },
    {
      "cell_type": "markdown",
      "source": [
        "### Visualizing the model"
      ],
      "metadata": {
        "id": "F7d7P08yTScA"
      }
    },
    {
      "cell_type": "code",
      "source": [
        "# Lets create  model wich builds automatically by defining the input_shape arguments\n",
        "\n",
        "tf.random.set_seed(42)\n",
        "\n",
        "# 1. Create the model\n",
        "model_1 = tf.keras.Sequential([\n",
        "    tf.keras.layers.Dense(100, input_shape=[1], name=\"input_layer\"),\n",
        "    tf.keras.layers.Dense(1, name=\"output_layer\")\n",
        "], name=\"model_one\")\n",
        "\n",
        "# 2. Compile the model\n",
        "model_1.compile(loss = tf.keras.losses.mae,\n",
        "              optimizer = tf.keras.optimizers.SGD(),\n",
        "              metrics = [\"mae\"])"
      ],
      "metadata": {
        "id": "MpSA6LxwTzZK"
      },
      "execution_count": 28,
      "outputs": []
    },
    {
      "cell_type": "code",
      "source": [
        "model_1.summary()"
      ],
      "metadata": {
        "colab": {
          "base_uri": "https://localhost:8080/"
        },
        "id": "-jMC9-6WUyLw",
        "outputId": "45e5c084-0099-4f30-bb66-85298ff0d0a4"
      },
      "execution_count": 29,
      "outputs": [
        {
          "output_type": "stream",
          "name": "stdout",
          "text": [
            "Model: \"model_one\"\n",
            "_________________________________________________________________\n",
            " Layer (type)                Output Shape              Param #   \n",
            "=================================================================\n",
            " input_layer (Dense)         (None, 100)               200       \n",
            "                                                                 \n",
            " output_layer (Dense)        (None, 1)                 101       \n",
            "                                                                 \n",
            "=================================================================\n",
            "Total params: 301 (1.18 KB)\n",
            "Trainable params: 301 (1.18 KB)\n",
            "Non-trainable params: 0 (0.00 Byte)\n",
            "_________________________________________________________________\n"
          ]
        }
      ]
    },
    {
      "cell_type": "markdown",
      "source": [
        "* Total params - total number of parameters that we have\n",
        "\n",
        "* Trainable parameters - the parameters (patterns) the model can update as it trains\n",
        "\n",
        "* Non-trainable params - parameters cant updated during training (allready learn in models during **transfer learning**)\n",
        "\n",
        "📚 **Resource** : For a more in depth overview of the trainable parameters within a layer, check ouy MIT's intorduction to deep learning video\n",
        "\n",
        "⚡**Exercise :** Try playing around with the number of hidden units in the dense layer, see how that effect the number of parameters"
      ],
      "metadata": {
        "id": "fkeG27Fm3_t1"
      }
    },
    {
      "cell_type": "code",
      "source": [
        "# 3. Fit the model\n",
        "model_1.fit(tf.expand_dims(x_train, axis=-1), y_train, epochs=60, verbose=0)"
      ],
      "metadata": {
        "colab": {
          "base_uri": "https://localhost:8080/"
        },
        "id": "e-cgkHtW6914",
        "outputId": "2251c97d-929e-41e2-f7c1-32f5a41a247a"
      },
      "execution_count": 30,
      "outputs": [
        {
          "output_type": "execute_result",
          "data": {
            "text/plain": [
              "<keras.src.callbacks.History at 0x7c3ca7a90700>"
            ]
          },
          "metadata": {},
          "execution_count": 30
        }
      ]
    },
    {
      "cell_type": "code",
      "source": [
        "# Get a summary of our model\n",
        "model_1.summary()"
      ],
      "metadata": {
        "colab": {
          "base_uri": "https://localhost:8080/"
        },
        "id": "IYam8Kl-M2o7",
        "outputId": "e68d3e3b-d80a-4cd1-96e6-166aaea5bea4"
      },
      "execution_count": 31,
      "outputs": [
        {
          "output_type": "stream",
          "name": "stdout",
          "text": [
            "Model: \"model_one\"\n",
            "_________________________________________________________________\n",
            " Layer (type)                Output Shape              Param #   \n",
            "=================================================================\n",
            " input_layer (Dense)         (None, 100)               200       \n",
            "                                                                 \n",
            " output_layer (Dense)        (None, 1)                 101       \n",
            "                                                                 \n",
            "=================================================================\n",
            "Total params: 301 (1.18 KB)\n",
            "Trainable params: 301 (1.18 KB)\n",
            "Non-trainable params: 0 (0.00 Byte)\n",
            "_________________________________________________________________\n"
          ]
        }
      ]
    },
    {
      "cell_type": "code",
      "source": [
        "from tensorflow.keras.utils import plot_model\n",
        "\n",
        "plot_model(model=model_1, show_shapes=True)"
      ],
      "metadata": {
        "colab": {
          "base_uri": "https://localhost:8080/",
          "height": 312
        },
        "id": "EMxErQE0NVSc",
        "outputId": "13b21e02-a16a-49a8-b487-632f294cbad3"
      },
      "execution_count": 32,
      "outputs": [
        {
          "output_type": "execute_result",
          "data": {
            "image/png": "[encoded data removed]",
            "text/plain": [
              "<IPython.core.display.Image object>"
            ]
          },
          "metadata": {},
          "execution_count": 32
        }
      ]
    },
    {
      "cell_type": "markdown",
      "source": [
        "### Visualizing our models predictions\n",
        "\n",
        "To visualize predictions, it's a good idea to plot them against the ground truth labels.\n",
        "\n",
        "Often you'll see this in the form of 'y_test' or 'y_true' versus 'y_pred' (ground truth versus your model prediction)"
      ],
      "metadata": {
        "id": "XXOFpjXFOyH9"
      }
    },
    {
      "cell_type": "code",
      "source": [
        "# Make some predictions\n",
        "\n",
        "y_pred = model_1.predict(x_test)\n",
        "y_pred"
      ],
      "metadata": {
        "colab": {
          "base_uri": "https://localhost:8080/"
        },
        "id": "943XbXEayJf3",
        "outputId": "dc3384ed-4299-429d-9081-c804763b2322"
      },
      "execution_count": 33,
      "outputs": [
        {
          "output_type": "stream",
          "name": "stderr",
          "text": [
            "WARNING:tensorflow:5 out of the last 5 calls to <function Model.make_predict_function.<locals>.predict_function at 0x7c3cb4ae3d00> triggered tf.function retracing. Tracing is expensive and the excessive number of tracings could be due to (1) creating @tf.function repeatedly in a loop, (2) passing tensors with different shapes, (3) passing Python objects instead of tensors. For (1), please define your @tf.function outside of the loop. For (2), @tf.function has reduce_retracing=True option that can avoid unnecessary retracing. For (3), please refer to https://www.tensorflow.org/guide/function#controlling_retracing and https://www.tensorflow.org/api_docs/python/tf/function for  more details.\n"
          ]
        },
        {
          "output_type": "stream",
          "name": "stdout",
          "text": [
            "1/1 [==============================] - 0s 87ms/step\n"
          ]
        },
        {
          "output_type": "execute_result",
          "data": {
            "text/plain": [
              "array([[ 71.44588 ],\n",
              "       [ 76.140526],\n",
              "       [ 80.83516 ],\n",
              "       [ 85.52979 ],\n",
              "       [ 90.22444 ],\n",
              "       [ 94.91908 ],\n",
              "       [ 99.613716],\n",
              "       [104.308365],\n",
              "       [109.003006],\n",
              "       [113.69765 ]], dtype=float32)"
            ]
          },
          "metadata": {},
          "execution_count": 33
        }
      ]
    },
    {
      "cell_type": "code",
      "source": [
        "y_test"
      ],
      "metadata": {
        "colab": {
          "base_uri": "https://localhost:8080/"
        },
        "id": "Ke-R5lq9zVa3",
        "outputId": "00023399-6d4d-4ad7-e79f-5c6cc4b037d1"
      },
      "execution_count": 34,
      "outputs": [
        {
          "output_type": "execute_result",
          "data": {
            "text/plain": [
              "<tf.Tensor: shape=(10,), dtype=int32, numpy=array([ 70,  74,  78,  82,  86,  90,  94,  98, 102, 106], dtype=int32)>"
            ]
          },
          "metadata": {},
          "execution_count": 34
        }
      ]
    },
    {
      "cell_type": "markdown",
      "source": [
        "🔑 **Note : ** if you feel like you're going to reuse some functionality in the future, its good idea to turn it into a fucntion"
      ],
      "metadata": {
        "id": "nSO6jWAR09Jt"
      }
    },
    {
      "cell_type": "code",
      "source": [
        "# Lets create a plotting function\n",
        "\n",
        "def plot_predictions(train_data=x_train,\n",
        "                     train_labels=y_train,\n",
        "                     test_data=x_test,\n",
        "                     test_labels=y_test,\n",
        "                     predictions=y_pred):\n",
        "  \"\"\"\n",
        "  Plots training data, test data and compares predictions to ground truth labels\n",
        "  \"\"\"\n",
        "  plt.figure(figsize=(10,7))\n",
        "  # Plot training data in blue\n",
        "  plt.scatter(train_data, train_labels, c=\"b\", label=\"Training data\")\n",
        "\n",
        "  # Plot testing data in green\n",
        "  plt.scatter(test_data, test_labels, c=\"g\", label=\"Test data\")\n",
        "\n",
        "  # Plot models predictions in red\n",
        "  plt.scatter(test_data, predictions, c=\"r\", label=\"Predictions\")\n",
        "\n",
        "  # Show the legend\n",
        "  plt.legend()\n",
        "\n"
      ],
      "metadata": {
        "id": "Wt-qJvPk1MAh"
      },
      "execution_count": 35,
      "outputs": []
    },
    {
      "cell_type": "code",
      "source": [
        "plot_predictions()"
      ],
      "metadata": {
        "colab": {
          "base_uri": "https://localhost:8080/",
          "height": 479
        },
        "id": "7ZFYZPV5200S",
        "outputId": "b86fba0c-a91e-4fc5-f856-028d4666dfdd"
      },
      "execution_count": 36,
      "outputs": [
        {
          "output_type": "display_data",
          "data": {
            "text/plain": [
              "<Figure size 1000x700 with 1 Axes>"
            ],
            "image/png": "[encoded data removed]"
          },
          "metadata": {}
        }
      ]
    },
    {
      "cell_type": "markdown",
      "source": [
        "### Evaluating our models predictions with regression evaluation metrics\n",
        "\n",
        "The evaluation metrics is depending to the model we working on\n",
        "\n",
        "since we're working on a regression, two of the main matrics:\n",
        "* MAE - mean absolute error, \"on average, how wrong is each of my model predictions\"\n",
        "\n",
        "* MSE - mean square error, \"square the average errors\""
      ],
      "metadata": {
        "id": "xWQ92ZRr4V_K"
      }
    },
    {
      "cell_type": "code",
      "source": [
        " # Evaluate the model on the test\n",
        " model_1.evaluate(x_test, y_test)"
      ],
      "metadata": {
        "id": "y3-bYOHr0p-A",
        "colab": {
          "base_uri": "https://localhost:8080/"
        },
        "outputId": "15652c34-3ab6-44ed-f849-9dc90df89eea"
      },
      "execution_count": 37,
      "outputs": [
        {
          "output_type": "stream",
          "name": "stdout",
          "text": [
            "1/1 [==============================] - 0s 352ms/step - loss: 4.5718 - mae: 4.5718\n"
          ]
        },
        {
          "output_type": "execute_result",
          "data": {
            "text/plain": [
              "[4.571763515472412, 4.571763515472412]"
            ]
          },
          "metadata": {},
          "execution_count": 37
        }
      ]
    },
    {
      "cell_type": "code",
      "source": [
        "# Calculate the mean absolute error\n",
        "mae = tf.metrics.mean_absolute_error(y_true=y_test, y_pred=tf.constant(y_pred))\n",
        "mae"
      ],
      "metadata": {
        "colab": {
          "base_uri": "https://localhost:8080/"
        },
        "id": "bAwZ_yTfPV4C",
        "outputId": "e7ad55b5-b8a9-4171-982e-6a1295c8afdc"
      },
      "execution_count": 38,
      "outputs": [
        {
          "output_type": "execute_result",
          "data": {
            "text/plain": [
              "<tf.Tensor: shape=(10,), dtype=float32, numpy=\n",
              "array([16.843298 , 13.515684 , 11.265936 , 10.094042 , 10.0448885,\n",
              "       11.167633 , 13.36823  , 16.646692 , 21.003006 , 25.697647 ],\n",
              "      dtype=float32)>"
            ]
          },
          "metadata": {},
          "execution_count": 38
        }
      ]
    },
    {
      "cell_type": "code",
      "source": [
        "tf.constant(y_pred)"
      ],
      "metadata": {
        "colab": {
          "base_uri": "https://localhost:8080/"
        },
        "id": "v6CpJX1IPiwj",
        "outputId": "a1f50434-7422-4e0e-9932-6a45d5016703"
      },
      "execution_count": 39,
      "outputs": [
        {
          "output_type": "execute_result",
          "data": {
            "text/plain": [
              "<tf.Tensor: shape=(10, 1), dtype=float32, numpy=\n",
              "array([[ 71.44588 ],\n",
              "       [ 76.140526],\n",
              "       [ 80.83516 ],\n",
              "       [ 85.52979 ],\n",
              "       [ 90.22444 ],\n",
              "       [ 94.91908 ],\n",
              "       [ 99.613716],\n",
              "       [104.308365],\n",
              "       [109.003006],\n",
              "       [113.69765 ]], dtype=float32)>"
            ]
          },
          "metadata": {},
          "execution_count": 39
        }
      ]
    },
    {
      "cell_type": "code",
      "source": [
        "y_test"
      ],
      "metadata": {
        "colab": {
          "base_uri": "https://localhost:8080/"
        },
        "id": "JusnDI5oPlKR",
        "outputId": "21503d42-04b9-4860-b093-a130a6beff3c"
      },
      "execution_count": 40,
      "outputs": [
        {
          "output_type": "execute_result",
          "data": {
            "text/plain": [
              "<tf.Tensor: shape=(10,), dtype=int32, numpy=array([ 70,  74,  78,  82,  86,  90,  94,  98, 102, 106], dtype=int32)>"
            ]
          },
          "metadata": {},
          "execution_count": 40
        }
      ]
    },
    {
      "cell_type": "code",
      "source": [
        "tf.squeeze(y_pred)"
      ],
      "metadata": {
        "colab": {
          "base_uri": "https://localhost:8080/"
        },
        "id": "WqQJPNiwyi56",
        "outputId": "71762ef4-6487-46f7-bafe-e9d699f0bb75"
      },
      "execution_count": 41,
      "outputs": [
        {
          "output_type": "execute_result",
          "data": {
            "text/plain": [
              "<tf.Tensor: shape=(10,), dtype=float32, numpy=\n",
              "array([ 71.44588 ,  76.140526,  80.83516 ,  85.52979 ,  90.22444 ,\n",
              "        94.91908 ,  99.613716, 104.308365, 109.003006, 113.69765 ],\n",
              "      dtype=float32)>"
            ]
          },
          "metadata": {},
          "execution_count": 41
        }
      ]
    },
    {
      "cell_type": "code",
      "source": [
        "# Calculate the mean absolute error\n",
        "\n",
        "mae = tf.metrics.mean_absolute_error(y_true=y_test, y_pred=tf.squeeze(y_pred))\n",
        "\n",
        "mae"
      ],
      "metadata": {
        "colab": {
          "base_uri": "https://localhost:8080/"
        },
        "id": "uUT4LV7uypPs",
        "outputId": "b532eacd-6805-48c4-8e52-5a5e036ad4d4"
      },
      "execution_count": 42,
      "outputs": [
        {
          "output_type": "execute_result",
          "data": {
            "text/plain": [
              "<tf.Tensor: shape=(), dtype=float32, numpy=4.571761>"
            ]
          },
          "metadata": {},
          "execution_count": 42
        }
      ]
    },
    {
      "cell_type": "code",
      "source": [
        "# Calculate the mean square error\n",
        "\n",
        "mse = tf.metrics.mean_squared_error(y_true=y_test, y_pred=tf.squeeze(y_pred))\n",
        "mse"
      ],
      "metadata": {
        "id": "QpelDvIC2Nvg",
        "colab": {
          "base_uri": "https://localhost:8080/"
        },
        "outputId": "7d35b371-4ace-4755-8482-5d60ce2d5533"
      },
      "execution_count": 43,
      "outputs": [
        {
          "output_type": "execute_result",
          "data": {
            "text/plain": [
              "<tf.Tensor: shape=(), dtype=float32, numpy=24.88184>"
            ]
          },
          "metadata": {},
          "execution_count": 43
        }
      ]
    },
    {
      "cell_type": "code",
      "source": [
        "# Make fucntion to reuse MAE and MSE\n",
        "def mae(y_true, y_pred):\n",
        "  return tf.metrics.mean_absolute_error(y_true=y_true,\n",
        "                                      y_pred=tf.squeeze(y_pred))\n",
        "\n",
        "def mse(y_true,y_pred):\n",
        "  return tf.metrics.mean_squared_error(y_true=y_true,\n",
        "                                       y_pred=tf.squeeze(y_pred))"
      ],
      "metadata": {
        "id": "oCsUvdVW2yQL"
      },
      "execution_count": 44,
      "outputs": []
    },
    {
      "cell_type": "markdown",
      "source": [
        "### Running experiments to improve our model\n",
        "\n",
        "1. Get more data - get more example for model\n",
        "\n",
        "2. Make your model larger (using a more complex model) - matbe more layers or hidden units\n",
        "\n",
        "3. Train for longer - give model more chance to find patterns in data\n",
        "\n",
        "Let's do 3 modelling experiment L\n",
        "\n",
        "1. 'model_1' - same as the origin, 1 layer, trained for 100 epochs\n",
        "\n",
        "2. 'model_2' - 2 layers, trained for 100 epochs\n",
        "\n",
        "3. 'model_3' - 2 layers, rained for 500 epochs"
      ],
      "metadata": {
        "id": "U73RgqjhN1Gb"
      }
    },
    {
      "cell_type": "code",
      "source": [
        "x_train, y_train"
      ],
      "metadata": {
        "colab": {
          "base_uri": "https://localhost:8080/"
        },
        "id": "ZRYFc01nOexa",
        "outputId": "949670e4-8d7d-4ed0-f6b2-0436e348a1b3"
      },
      "execution_count": 45,
      "outputs": [
        {
          "output_type": "execute_result",
          "data": {
            "text/plain": [
              "(<tf.Tensor: shape=(40,), dtype=int32, numpy=\n",
              " array([-100,  -96,  -92,  -88,  -84,  -80,  -76,  -72,  -68,  -64,  -60,\n",
              "         -56,  -52,  -48,  -44,  -40,  -36,  -32,  -28,  -24,  -20,  -16,\n",
              "         -12,   -8,   -4,    0,    4,    8,   12,   16,   20,   24,   28,\n",
              "          32,   36,   40,   44,   48,   52,   56], dtype=int32)>,\n",
              " <tf.Tensor: shape=(40,), dtype=int32, numpy=\n",
              " array([-90, -86, -82, -78, -74, -70, -66, -62, -58, -54, -50, -46, -42,\n",
              "        -38, -34, -30, -26, -22, -18, -14, -10,  -6,  -2,   2,   6,  10,\n",
              "         14,  18,  22,  26,  30,  34,  38,  42,  46,  50,  54,  58,  62,\n",
              "         66], dtype=int32)>)"
            ]
          },
          "metadata": {},
          "execution_count": 45
        }
      ]
    },
    {
      "cell_type": "code",
      "source": [
        "# First build model_1\n",
        "\n",
        "# Ser random seed\n",
        "tf.random.set_seed(42)\n",
        "\n",
        "# 1. Create the model\n",
        "model_1 = tf.keras.Sequential([\n",
        "    tf.keras.layers.Dense(1)\n",
        "])\n",
        "\n",
        "# 2. Compile the model\n",
        "model_1.compile(loss=tf.keras.losses.mae,\n",
        "                optimizer=tf.keras.optimizers.SGD(),\n",
        "                metrics=[\"mae\"],\n",
        "                run_eagerly=True)\n",
        "\n",
        "# 3. FIt the model\n",
        "model_1.fit(tf.expand_dims(x_train, axis=-1), y_train, epochs=100, verbose=0)"
      ],
      "metadata": {
        "colab": {
          "base_uri": "https://localhost:8080/"
        },
        "id": "Bm7GqWOpN77n",
        "outputId": "7e48b34b-da9b-4906-e3ee-2926df178c73"
      },
      "execution_count": 46,
      "outputs": [
        {
          "output_type": "execute_result",
          "data": {
            "text/plain": [
              "<keras.src.callbacks.History at 0x7c3cb496f460>"
            ]
          },
          "metadata": {},
          "execution_count": 46
        }
      ]
    },
    {
      "cell_type": "code",
      "source": [
        "model_1.predict(tf.reshape(x_test, shape=(-1,1)))"
      ],
      "metadata": {
        "colab": {
          "base_uri": "https://localhost:8080/"
        },
        "id": "vvrhWzRwTr-8",
        "outputId": "9aa997e3-0528-4fe5-9538-424911f913cb"
      },
      "execution_count": 47,
      "outputs": [
        {
          "output_type": "stream",
          "name": "stdout",
          "text": [
            "1/1 [==============================] - 0s 26ms/step\n"
          ]
        },
        {
          "output_type": "execute_result",
          "data": {
            "text/plain": [
              "array([[44.423668],\n",
              "       [47.30091 ],\n",
              "       [50.178154],\n",
              "       [53.0554  ],\n",
              "       [55.932644],\n",
              "       [58.80989 ],\n",
              "       [61.687134],\n",
              "       [64.56438 ],\n",
              "       [67.44162 ],\n",
              "       [70.31886 ]], dtype=float32)"
            ]
          },
          "metadata": {},
          "execution_count": 47
        }
      ]
    },
    {
      "cell_type": "code",
      "source": [
        "# Make a plot predictions for model_1\n",
        "\n",
        "# x_test = tf.reshape(x_test, shape=(-1,1))\n",
        "\n",
        "y_preds_1 = model_1.predict(tf.reshape(x_test, shape=(-1,1)))\n",
        "plot_predictions(predictions=y_preds_1)"
      ],
      "metadata": {
        "colab": {
          "base_uri": "https://localhost:8080/",
          "height": 502
        },
        "id": "-VTt2FvCQK0C",
        "outputId": "87a085e2-5192-45d0-dc1d-01ae643c07b8"
      },
      "execution_count": 48,
      "outputs": [
        {
          "output_type": "stream",
          "name": "stdout",
          "text": [
            "1/1 [==============================] - 0s 21ms/step\n"
          ]
        },
        {
          "output_type": "display_data",
          "data": {
            "text/plain": [
              "<Figure size 1000x700 with 1 Axes>"
            ],
            "image/png": "[encoded data removed]"
          },
          "metadata": {}
        }
      ]
    },
    {
      "cell_type": "code",
      "source": [
        "# Calculate model_1 evaluation metrics\n",
        "\n",
        "mae_1 = mae(y_test, y_preds_1)\n",
        "mse_1 = mse(y_test, y_preds_1)\n",
        "\n",
        "mae_1, mse_1"
      ],
      "metadata": {
        "colab": {
          "base_uri": "https://localhost:8080/"
        },
        "id": "3u6Og5EaqZEp",
        "outputId": "c5fdcfca-1d5c-4c38-85a6-498b6f1fe0ae"
      },
      "execution_count": 49,
      "outputs": [
        {
          "output_type": "execute_result",
          "data": {
            "text/plain": [
              "(<tf.Tensor: shape=(), dtype=float32, numpy=30.628735>,\n",
              " <tf.Tensor: shape=(), dtype=float32, numpy=948.51917>)"
            ]
          },
          "metadata": {},
          "execution_count": 49
        }
      ]
    },
    {
      "cell_type": "markdown",
      "source": [
        "**Build model_2**\n",
        "\n",
        "* 2 dense layers, trained for 100 epochs"
      ],
      "metadata": {
        "id": "3IG91oWhsu7n"
      }
    },
    {
      "cell_type": "code",
      "source": [
        "# Build model_2\n",
        "\n",
        "# Set the random seed\n",
        "tf.random.set_seed(42)\n",
        "\n",
        "# 1. Create model\n",
        "model_2 = tf.keras.Sequential([\n",
        "    tf.keras.layers.Dense(70, name=\"input_layer\"),\n",
        "    tf.keras.layers.Dense(1, name=\"Output_layer\")\n",
        "])\n",
        "\n",
        "# 2. Compile the model\n",
        "\n",
        "model_2.compile(loss = mae,\n",
        "              optimizer = tf.keras.optimizers.SGD(),\n",
        "              metrics = [\"mae\"])"
      ],
      "metadata": {
        "id": "F9HBFkiUvO0E"
      },
      "execution_count": 50,
      "outputs": []
    },
    {
      "cell_type": "code",
      "source": [
        "# 3. Make Train the model\n",
        "model_2.fit(tf.expand_dims(x_train, axis=-1), y_train, epochs=54)"
      ],
      "metadata": {
        "colab": {
          "base_uri": "https://localhost:8080/"
        },
        "id": "xCwKGotyzj8h",
        "outputId": "de3fdd14-61b7-43df-a153-77f705f12cfb"
      },
      "execution_count": 51,
      "outputs": [
        {
          "output_type": "stream",
          "name": "stdout",
          "text": [
            "Epoch 1/54\n",
            "2/2 [==============================] - 1s 12ms/step - loss: 40.7844 - mae: 33.2354\n",
            "Epoch 2/54\n",
            "2/2 [==============================] - 0s 7ms/step - loss: 41.0041 - mae: 41.6877\n",
            "Epoch 3/54\n",
            "2/2 [==============================] - 0s 7ms/step - loss: 53.6154 - mae: 19.3863\n",
            "Epoch 4/54\n",
            "2/2 [==============================] - 0s 8ms/step - loss: 40.6990 - mae: 37.1086\n",
            "Epoch 5/54\n",
            "2/2 [==============================] - 0s 10ms/step - loss: 40.7264 - mae: 38.3904\n",
            "Epoch 6/54\n",
            "2/2 [==============================] - 0s 7ms/step - loss: 41.0596 - mae: 31.0696\n",
            "Epoch 7/54\n",
            "2/2 [==============================] - 0s 7ms/step - loss: 40.7433 - mae: 38.9169\n",
            "Epoch 8/54\n",
            "2/2 [==============================] - 0s 11ms/step - loss: 40.9430 - mae: 32.1644\n",
            "Epoch 9/54\n",
            "2/2 [==============================] - 0s 10ms/step - loss: 47.0613 - mae: 15.2948\n",
            "Epoch 10/54\n",
            "2/2 [==============================] - 0s 8ms/step - loss: 40.7928 - mae: 37.7194\n",
            "Epoch 11/54\n",
            "2/2 [==============================] - 0s 8ms/step - loss: 40.9594 - mae: 39.1672\n",
            "Epoch 12/54\n",
            "2/2 [==============================] - 0s 8ms/step - loss: 52.5955 - mae: 16.2913\n",
            "Epoch 13/54\n",
            "2/2 [==============================] - 0s 8ms/step - loss: 40.7157 - mae: 36.5922\n",
            "Epoch 14/54\n",
            "2/2 [==============================] - 0s 8ms/step - loss: 41.1153 - mae: 30.2757\n",
            "Epoch 15/54\n",
            "2/2 [==============================] - 0s 11ms/step - loss: 40.8978 - mae: 38.8741\n",
            "Epoch 16/54\n",
            "2/2 [==============================] - 0s 7ms/step - loss: 40.8708 - mae: 41.1268\n",
            "Epoch 17/54\n",
            "2/2 [==============================] - 0s 8ms/step - loss: 40.3248 - mae: 34.0909\n",
            "Epoch 18/54\n",
            "2/2 [==============================] - 0s 8ms/step - loss: 40.8814 - mae: 33.4277\n",
            "Epoch 19/54\n",
            "2/2 [==============================] - 0s 10ms/step - loss: 43.3103 - mae: 18.1709\n",
            "Epoch 20/54\n",
            "2/2 [==============================] - 0s 8ms/step - loss: 41.1955 - mae: 30.3798\n",
            "Epoch 21/54\n",
            "2/2 [==============================] - 0s 8ms/step - loss: 40.7400 - mae: 35.1960\n",
            "Epoch 22/54\n",
            "2/2 [==============================] - 0s 8ms/step - loss: 40.6433 - mae: 37.4693\n",
            "Epoch 23/54\n",
            "2/2 [==============================] - 0s 8ms/step - loss: 40.6463 - mae: 38.1597\n",
            "Epoch 24/54\n",
            "2/2 [==============================] - 0s 8ms/step - loss: 41.0112 - mae: 30.3904\n",
            "Epoch 25/54\n",
            "2/2 [==============================] - 0s 8ms/step - loss: 40.8788 - mae: 41.7502\n",
            "Epoch 26/54\n",
            "2/2 [==============================] - 0s 8ms/step - loss: 42.1019 - mae: 25.6198\n",
            "Epoch 27/54\n",
            "2/2 [==============================] - 0s 8ms/step - loss: 40.7486 - mae: 34.9397\n",
            "Epoch 28/54\n",
            "2/2 [==============================] - 0s 8ms/step - loss: 42.1880 - mae: 24.2467\n",
            "Epoch 29/54\n",
            "2/2 [==============================] - 0s 8ms/step - loss: 40.7314 - mae: 34.0275\n",
            "Epoch 30/54\n",
            "2/2 [==============================] - 0s 7ms/step - loss: 45.5017 - mae: 14.2150\n",
            "Epoch 31/54\n",
            "2/2 [==============================] - 0s 10ms/step - loss: 57.6443 - mae: 16.0172\n",
            "Epoch 32/54\n",
            "2/2 [==============================] - 0s 10ms/step - loss: 41.2021 - mae: 26.8968\n",
            "Epoch 33/54\n",
            "2/2 [==============================] - 0s 7ms/step - loss: 41.1575 - mae: 30.3327\n",
            "Epoch 34/54\n",
            "2/2 [==============================] - 0s 9ms/step - loss: 40.8132 - mae: 32.6791\n",
            "Epoch 35/54\n",
            "2/2 [==============================] - 0s 10ms/step - loss: 40.6180 - mae: 35.2998\n",
            "Epoch 36/54\n",
            "2/2 [==============================] - 0s 7ms/step - loss: 41.6709 - mae: 23.8131\n",
            "Epoch 37/54\n",
            "2/2 [==============================] - 0s 8ms/step - loss: 40.8463 - mae: 32.5522\n",
            "Epoch 38/54\n",
            "2/2 [==============================] - 0s 8ms/step - loss: 40.6527 - mae: 34.6837\n",
            "Epoch 39/54\n",
            "2/2 [==============================] - 0s 9ms/step - loss: 40.7204 - mae: 34.2224\n",
            "Epoch 40/54\n",
            "2/2 [==============================] - 0s 8ms/step - loss: 40.8657 - mae: 32.8325\n",
            "Epoch 41/54\n",
            "2/2 [==============================] - 0s 8ms/step - loss: 40.3743 - mae: 33.7864\n",
            "Epoch 42/54\n",
            "2/2 [==============================] - 0s 11ms/step - loss: 40.7168 - mae: 34.7541\n",
            "Epoch 43/54\n",
            "2/2 [==============================] - 0s 8ms/step - loss: 40.5645 - mae: 36.9014\n",
            "Epoch 44/54\n",
            "2/2 [==============================] - 0s 8ms/step - loss: 41.0404 - mae: 29.9350\n",
            "Epoch 45/54\n",
            "2/2 [==============================] - 0s 8ms/step - loss: 41.0606 - mae: 30.8518\n",
            "Epoch 46/54\n",
            "2/2 [==============================] - 0s 8ms/step - loss: 40.6953 - mae: 33.4454\n",
            "Epoch 47/54\n",
            "2/2 [==============================] - 0s 8ms/step - loss: 40.7117 - mae: 34.7492\n",
            "Epoch 48/54\n",
            "2/2 [==============================] - 0s 8ms/step - loss: 40.6694 - mae: 37.3954\n",
            "Epoch 49/54\n",
            "2/2 [==============================] - 0s 8ms/step - loss: 40.6600 - mae: 37.1299\n",
            "Epoch 50/54\n",
            "2/2 [==============================] - 0s 8ms/step - loss: 40.5707 - mae: 35.1441\n",
            "Epoch 51/54\n",
            "2/2 [==============================] - 0s 8ms/step - loss: 40.6741 - mae: 37.2962\n",
            "Epoch 52/54\n",
            "2/2 [==============================] - 0s 8ms/step - loss: 40.5949 - mae: 35.2392\n",
            "Epoch 53/54\n",
            "2/2 [==============================] - 0s 8ms/step - loss: 40.4398 - mae: 27.7178\n",
            "Epoch 54/54\n",
            "2/2 [==============================] - 0s 7ms/step - loss: 43.7806 - mae: 17.6644\n"
          ]
        },
        {
          "output_type": "execute_result",
          "data": {
            "text/plain": [
              "<keras.src.callbacks.History at 0x7c3cb489cc10>"
            ]
          },
          "metadata": {},
          "execution_count": 51
        }
      ]
    },
    {
      "cell_type": "code",
      "source": [
        "x_test"
      ],
      "metadata": {
        "colab": {
          "base_uri": "https://localhost:8080/"
        },
        "id": "F4p4SDzi3EAL",
        "outputId": "662c15f9-79e4-44b0-d90e-378c8d90a83a"
      },
      "execution_count": 52,
      "outputs": [
        {
          "output_type": "execute_result",
          "data": {
            "text/plain": [
              "<tf.Tensor: shape=(10,), dtype=int32, numpy=array([60, 64, 68, 72, 76, 80, 84, 88, 92, 96], dtype=int32)>"
            ]
          },
          "metadata": {},
          "execution_count": 52
        }
      ]
    },
    {
      "cell_type": "code",
      "source": [
        "y_test"
      ],
      "metadata": {
        "colab": {
          "base_uri": "https://localhost:8080/"
        },
        "id": "pg4Syr7r3HES",
        "outputId": "ec0104b9-5c40-4725-a10a-12f026a056d0"
      },
      "execution_count": 53,
      "outputs": [
        {
          "output_type": "execute_result",
          "data": {
            "text/plain": [
              "<tf.Tensor: shape=(10,), dtype=int32, numpy=array([ 70,  74,  78,  82,  86,  90,  94,  98, 102, 106], dtype=int32)>"
            ]
          },
          "metadata": {},
          "execution_count": 53
        }
      ]
    },
    {
      "cell_type": "code",
      "source": [
        "model_2.predict(x_test)"
      ],
      "metadata": {
        "colab": {
          "base_uri": "https://localhost:8080/"
        },
        "id": "bvtvcNO03KN2",
        "outputId": "b585e8ef-a6c6-4afa-f7da-7c5651c6723f"
      },
      "execution_count": 54,
      "outputs": [
        {
          "output_type": "stream",
          "name": "stderr",
          "text": [
            "WARNING:tensorflow:6 out of the last 6 calls to <function Model.make_predict_function.<locals>.predict_function at 0x7c3cb4864d30> triggered tf.function retracing. Tracing is expensive and the excessive number of tracings could be due to (1) creating @tf.function repeatedly in a loop, (2) passing tensors with different shapes, (3) passing Python objects instead of tensors. For (1), please define your @tf.function outside of the loop. For (2), @tf.function has reduce_retracing=True option that can avoid unnecessary retracing. For (3), please refer to https://www.tensorflow.org/guide/function#controlling_retracing and https://www.tensorflow.org/api_docs/python/tf/function for  more details.\n"
          ]
        },
        {
          "output_type": "stream",
          "name": "stdout",
          "text": [
            "1/1 [==============================] - 0s 62ms/step\n"
          ]
        },
        {
          "output_type": "execute_result",
          "data": {
            "text/plain": [
              "array([[32.72651 ],\n",
              "       [34.922825],\n",
              "       [37.11914 ],\n",
              "       [39.315456],\n",
              "       [41.511772],\n",
              "       [43.708084],\n",
              "       [45.904404],\n",
              "       [48.10072 ],\n",
              "       [50.29703 ],\n",
              "       [52.49335 ]], dtype=float32)"
            ]
          },
          "metadata": {},
          "execution_count": 54
        }
      ]
    },
    {
      "cell_type": "code",
      "source": [
        "# Make and plot predictions of model_2\n",
        "\n",
        "y_preds_2 = model_2.predict(x_test)\n",
        "plot_predictions(predictions=y_preds_2)"
      ],
      "metadata": {
        "colab": {
          "base_uri": "https://localhost:8080/",
          "height": 502
        },
        "id": "qYq7itP01-ur",
        "outputId": "7adad5e0-0944-4852-9cc8-6aac1f617dcb"
      },
      "execution_count": 55,
      "outputs": [
        {
          "output_type": "stream",
          "name": "stdout",
          "text": [
            "1/1 [==============================] - 0s 22ms/step\n"
          ]
        },
        {
          "output_type": "display_data",
          "data": {
            "text/plain": [
              "<Figure size 1000x700 with 1 Axes>"
            ],
            "image/png": "[encoded data removed]"
          },
          "metadata": {}
        }
      ]
    },
    {
      "cell_type": "code",
      "source": [
        "model_2.summary()"
      ],
      "metadata": {
        "colab": {
          "base_uri": "https://localhost:8080/"
        },
        "id": "nrRhl6kf1o_c",
        "outputId": "6f22f5f2-b18b-466b-c22f-82a65e664b6a"
      },
      "execution_count": 56,
      "outputs": [
        {
          "output_type": "stream",
          "name": "stdout",
          "text": [
            "Model: \"sequential_6\"\n",
            "_________________________________________________________________\n",
            " Layer (type)                Output Shape              Param #   \n",
            "=================================================================\n",
            " input_layer (Dense)         (None, 70)                140       \n",
            "                                                                 \n",
            " Output_layer (Dense)        (None, 1)                 71        \n",
            "                                                                 \n",
            "=================================================================\n",
            "Total params: 211 (844.00 Byte)\n",
            "Trainable params: 211 (844.00 Byte)\n",
            "Non-trainable params: 0 (0.00 Byte)\n",
            "_________________________________________________________________\n"
          ]
        }
      ]
    },
    {
      "cell_type": "code",
      "source": [
        "# Calculate model_2 evaluation metrics\n",
        "\n",
        "mae_2 = mae(y_test, y_preds_2)\n",
        "mse_2 = mse(y_test, y_preds_2)\n",
        "\n",
        "mae_2, mse_2"
      ],
      "metadata": {
        "colab": {
          "base_uri": "https://localhost:8080/"
        },
        "id": "C54KgBhY6klJ",
        "outputId": "9b5522f7-df62-4f19-a205-1b623c5b7c81"
      },
      "execution_count": 57,
      "outputs": [
        {
          "output_type": "execute_result",
          "data": {
            "text/plain": [
              "(<tf.Tensor: shape=(), dtype=float32, numpy=45.39007>,\n",
              " <tf.Tensor: shape=(), dtype=float32, numpy=2087.0981>)"
            ]
          },
          "metadata": {},
          "execution_count": 57
        }
      ]
    },
    {
      "cell_type": "markdown",
      "source": [
        "**Build model_3**\n",
        "\n",
        "* 2 layers, trained for 500 epochs"
      ],
      "metadata": {
        "id": "UgQW0Vw_Eigq"
      }
    },
    {
      "cell_type": "code",
      "source": [
        "# Build mdoel 3\n",
        "\n",
        "# set random seed\n",
        "tf.random.set_seed(42)\n",
        "\n",
        "# Build the model\n",
        "model_3 = tf.keras.Sequential([\n",
        "    tf.keras.layers.Dense(10),\n",
        "    tf.keras.layers.Dense(1)\n",
        "])\n",
        "\n",
        "# Compile the model\n",
        "model_3.compile(loss=mae,\n",
        "                optimizer = tf.keras.optimizers.SGD(),\n",
        "                metrics=[\"mae\"])"
      ],
      "metadata": {
        "id": "ZDmoG_8fEdZp"
      },
      "execution_count": 58,
      "outputs": []
    },
    {
      "cell_type": "code",
      "source": [
        "# 3. FIt the model\n",
        "model_3.fit(tf.expand_dims(x_train, axis=-1), y_train, epochs=500)\n"
      ],
      "metadata": {
        "colab": {
          "base_uri": "https://localhost:8080/"
        },
        "id": "Xw5ZEQwjFTQF",
        "outputId": "d69cacc0-b546-4123-bea5-6575f373ba76"
      },
      "execution_count": 59,
      "outputs": [
        {
          "output_type": "stream",
          "name": "stdout",
          "text": [
            "Epoch 1/500\n",
            "2/2 [==============================] - 0s 12ms/step - loss: 54.0591 - mae: 15.8484\n",
            "Epoch 2/500\n",
            "2/2 [==============================] - 0s 6ms/step - loss: 40.8658 - mae: 39.0126\n",
            "Epoch 3/500\n",
            "2/2 [==============================] - 0s 11ms/step - loss: 43.5020 - mae: 19.6703\n",
            "Epoch 4/500\n",
            "2/2 [==============================] - 0s 7ms/step - loss: 40.6801 - mae: 36.9148\n",
            "Epoch 5/500\n",
            "2/2 [==============================] - 0s 8ms/step - loss: 40.6098 - mae: 37.9590\n",
            "Epoch 6/500\n",
            "2/2 [==============================] - 0s 8ms/step - loss: 40.7516 - mae: 34.5578\n",
            "Epoch 7/500\n",
            "2/2 [==============================] - 0s 7ms/step - loss: 40.7528 - mae: 36.8420\n",
            "Epoch 8/500\n",
            "2/2 [==============================] - 0s 9ms/step - loss: 40.5018 - mae: 34.1377\n",
            "Epoch 9/500\n",
            "2/2 [==============================] - 0s 8ms/step - loss: 41.2176 - mae: 26.3186\n",
            "Epoch 10/500\n",
            "2/2 [==============================] - 0s 7ms/step - loss: 40.2406 - mae: 31.7048\n",
            "Epoch 11/500\n",
            "2/2 [==============================] - 0s 8ms/step - loss: 40.7770 - mae: 36.5136\n",
            "Epoch 12/500\n",
            "2/2 [==============================] - 0s 8ms/step - loss: 45.3041 - mae: 16.8176\n",
            "Epoch 13/500\n",
            "2/2 [==============================] - 0s 8ms/step - loss: 41.0653 - mae: 30.9712\n",
            "Epoch 14/500\n",
            "2/2 [==============================] - 0s 8ms/step - loss: 41.2317 - mae: 29.3439\n",
            "Epoch 15/500\n",
            "2/2 [==============================] - 0s 8ms/step - loss: 40.6761 - mae: 35.1909\n",
            "Epoch 16/500\n",
            "2/2 [==============================] - 0s 9ms/step - loss: 40.7380 - mae: 38.4923\n",
            "Epoch 17/500\n",
            "2/2 [==============================] - 0s 8ms/step - loss: 40.3479 - mae: 34.8010\n",
            "Epoch 18/500\n",
            "2/2 [==============================] - 0s 9ms/step - loss: 40.5861 - mae: 33.8123\n",
            "Epoch 19/500\n",
            "2/2 [==============================] - 0s 8ms/step - loss: 41.8405 - mae: 23.1753\n",
            "Epoch 20/500\n",
            "2/2 [==============================] - 0s 8ms/step - loss: 40.9886 - mae: 31.6151\n",
            "Epoch 21/500\n",
            "2/2 [==============================] - 0s 8ms/step - loss: 40.7870 - mae: 34.0953\n",
            "Epoch 22/500\n",
            "2/2 [==============================] - 0s 8ms/step - loss: 40.5567 - mae: 36.0851\n",
            "Epoch 23/500\n",
            "2/2 [==============================] - 0s 8ms/step - loss: 40.6194 - mae: 37.1520\n",
            "Epoch 24/500\n",
            "2/2 [==============================] - 0s 8ms/step - loss: 40.8097 - mae: 34.3666\n",
            "Epoch 25/500\n",
            "2/2 [==============================] - 0s 9ms/step - loss: 40.7520 - mae: 39.8484\n",
            "Epoch 26/500\n",
            "2/2 [==============================] - 0s 8ms/step - loss: 41.2076 - mae: 29.6569\n",
            "Epoch 27/500\n",
            "2/2 [==============================] - 0s 11ms/step - loss: 40.6745 - mae: 34.1419\n",
            "Epoch 28/500\n",
            "2/2 [==============================] - 0s 7ms/step - loss: 41.1015 - mae: 29.6308\n",
            "Epoch 29/500\n",
            "2/2 [==============================] - 0s 7ms/step - loss: 40.3838 - mae: 33.7386\n",
            "Epoch 30/500\n",
            "2/2 [==============================] - 0s 8ms/step - loss: 42.2592 - mae: 18.1258\n",
            "Epoch 31/500\n",
            "2/2 [==============================] - 0s 8ms/step - loss: 51.7787 - mae: 11.7279\n",
            "Epoch 32/500\n",
            "2/2 [==============================] - 0s 9ms/step - loss: 41.3368 - mae: 25.9614\n",
            "Epoch 33/500\n",
            "2/2 [==============================] - 0s 8ms/step - loss: 41.3170 - mae: 29.0263\n",
            "Epoch 34/500\n",
            "2/2 [==============================] - 0s 7ms/step - loss: 40.9269 - mae: 31.1279\n",
            "Epoch 35/500\n",
            "2/2 [==============================] - 0s 10ms/step - loss: 40.5407 - mae: 33.4914\n",
            "Epoch 36/500\n",
            "2/2 [==============================] - 0s 10ms/step - loss: 41.4140 - mae: 25.1942\n",
            "Epoch 37/500\n",
            "2/2 [==============================] - 0s 8ms/step - loss: 40.9163 - mae: 31.6887\n",
            "Epoch 38/500\n",
            "2/2 [==============================] - 0s 12ms/step - loss: 40.6918 - mae: 33.4565\n",
            "Epoch 39/500\n",
            "2/2 [==============================] - 0s 8ms/step - loss: 40.7561 - mae: 33.2663\n",
            "Epoch 40/500\n",
            "2/2 [==============================] - 0s 8ms/step - loss: 40.8706 - mae: 32.7592\n",
            "Epoch 41/500\n",
            "2/2 [==============================] - 0s 8ms/step - loss: 40.3703 - mae: 33.4850\n",
            "Epoch 42/500\n",
            "2/2 [==============================] - 0s 8ms/step - loss: 40.7392 - mae: 34.2531\n",
            "Epoch 43/500\n",
            "2/2 [==============================] - 0s 10ms/step - loss: 40.5180 - mae: 35.9729\n",
            "Epoch 44/500\n",
            "2/2 [==============================] - 0s 8ms/step - loss: 40.8967 - mae: 31.0359\n",
            "Epoch 45/500\n",
            "2/2 [==============================] - 0s 10ms/step - loss: 40.9907 - mae: 31.4271\n",
            "Epoch 46/500\n",
            "2/2 [==============================] - 0s 8ms/step - loss: 40.7053 - mae: 33.2949\n",
            "Epoch 47/500\n",
            "2/2 [==============================] - 0s 10ms/step - loss: 40.7246 - mae: 34.3392\n",
            "Epoch 48/500\n",
            "2/2 [==============================] - 0s 10ms/step - loss: 40.6588 - mae: 36.4222\n",
            "Epoch 49/500\n",
            "2/2 [==============================] - 0s 8ms/step - loss: 40.6605 - mae: 36.3499\n",
            "Epoch 50/500\n",
            "2/2 [==============================] - 0s 13ms/step - loss: 40.5722 - mae: 35.0871\n",
            "Epoch 51/500\n",
            "2/2 [==============================] - 0s 8ms/step - loss: 40.6664 - mae: 36.6745\n",
            "Epoch 52/500\n",
            "2/2 [==============================] - 0s 9ms/step - loss: 40.5301 - mae: 35.2612\n",
            "Epoch 53/500\n",
            "2/2 [==============================] - 0s 10ms/step - loss: 40.1587 - mae: 29.6582\n",
            "Epoch 54/500\n",
            "2/2 [==============================] - 0s 8ms/step - loss: 42.4909 - mae: 20.9290\n",
            "Epoch 55/500\n",
            "2/2 [==============================] - 0s 9ms/step - loss: 43.1784 - mae: 20.2998\n",
            "Epoch 56/500\n",
            "2/2 [==============================] - 0s 8ms/step - loss: 40.9376 - mae: 29.0619\n",
            "Epoch 57/500\n",
            "2/2 [==============================] - 0s 8ms/step - loss: 40.4373 - mae: 32.7619\n",
            "Epoch 58/500\n",
            "2/2 [==============================] - 0s 9ms/step - loss: 40.6713 - mae: 34.5595\n",
            "Epoch 59/500\n",
            "2/2 [==============================] - 0s 9ms/step - loss: 40.7822 - mae: 34.8996\n",
            "Epoch 60/500\n",
            "2/2 [==============================] - 0s 12ms/step - loss: 40.7202 - mae: 34.7169\n",
            "Epoch 61/500\n",
            "2/2 [==============================] - 0s 8ms/step - loss: 40.7170 - mae: 35.1532\n",
            "Epoch 62/500\n",
            "2/2 [==============================] - 0s 9ms/step - loss: 40.7395 - mae: 35.6698\n",
            "Epoch 63/500\n",
            "2/2 [==============================] - 0s 8ms/step - loss: 40.6380 - mae: 35.2308\n",
            "Epoch 64/500\n",
            "2/2 [==============================] - 0s 8ms/step - loss: 40.7677 - mae: 33.8957\n",
            "Epoch 65/500\n",
            "2/2 [==============================] - 0s 8ms/step - loss: 40.6842 - mae: 34.8122\n",
            "Epoch 66/500\n",
            "2/2 [==============================] - 0s 7ms/step - loss: 40.7963 - mae: 33.6737\n",
            "Epoch 67/500\n",
            "2/2 [==============================] - 0s 9ms/step - loss: 40.7328 - mae: 34.4526\n",
            "Epoch 68/500\n",
            "2/2 [==============================] - 0s 8ms/step - loss: 40.6736 - mae: 34.8403\n",
            "Epoch 69/500\n",
            "2/2 [==============================] - 0s 8ms/step - loss: 40.7356 - mae: 34.8495\n",
            "Epoch 70/500\n",
            "2/2 [==============================] - 0s 8ms/step - loss: 40.6390 - mae: 35.1077\n",
            "Epoch 71/500\n",
            "2/2 [==============================] - 0s 8ms/step - loss: 40.6596 - mae: 36.5868\n",
            "Epoch 72/500\n",
            "2/2 [==============================] - 0s 8ms/step - loss: 40.7023 - mae: 36.4552\n",
            "Epoch 73/500\n",
            "2/2 [==============================] - 0s 8ms/step - loss: 40.6808 - mae: 37.3381\n",
            "Epoch 74/500\n",
            "2/2 [==============================] - 0s 10ms/step - loss: 40.6975 - mae: 37.1803\n",
            "Epoch 75/500\n",
            "2/2 [==============================] - 0s 9ms/step - loss: 40.7154 - mae: 37.4884\n",
            "Epoch 76/500\n",
            "2/2 [==============================] - 0s 9ms/step - loss: 40.6620 - mae: 37.1697\n",
            "Epoch 77/500\n",
            "2/2 [==============================] - 0s 9ms/step - loss: 40.7211 - mae: 37.9314\n",
            "Epoch 78/500\n",
            "2/2 [==============================] - 0s 8ms/step - loss: 40.4464 - mae: 37.7221\n",
            "Epoch 79/500\n",
            "2/2 [==============================] - 0s 12ms/step - loss: 40.4762 - mae: 34.0292\n",
            "Epoch 80/500\n",
            "2/2 [==============================] - 0s 12ms/step - loss: 40.9949 - mae: 30.7737\n",
            "Epoch 81/500\n",
            "2/2 [==============================] - 0s 9ms/step - loss: 39.9746 - mae: 33.2321\n",
            "Epoch 82/500\n",
            "2/2 [==============================] - 0s 10ms/step - loss: 40.6399 - mae: 33.5091\n",
            "Epoch 83/500\n",
            "2/2 [==============================] - 0s 7ms/step - loss: 40.6658 - mae: 35.3226\n",
            "Epoch 84/500\n",
            "2/2 [==============================] - 0s 7ms/step - loss: 40.6925 - mae: 35.4946\n",
            "Epoch 85/500\n",
            "2/2 [==============================] - 0s 8ms/step - loss: 40.7180 - mae: 35.8323\n",
            "Epoch 86/500\n",
            "2/2 [==============================] - 0s 8ms/step - loss: 40.7276 - mae: 36.2182\n",
            "Epoch 87/500\n",
            "2/2 [==============================] - 0s 9ms/step - loss: 40.6937 - mae: 36.2294\n",
            "Epoch 88/500\n",
            "2/2 [==============================] - 0s 10ms/step - loss: 40.7143 - mae: 36.1737\n",
            "Epoch 89/500\n",
            "2/2 [==============================] - 0s 10ms/step - loss: 40.7102 - mae: 37.0228\n",
            "Epoch 90/500\n",
            "2/2 [==============================] - 0s 9ms/step - loss: 40.6949 - mae: 37.1657\n",
            "Epoch 91/500\n",
            "2/2 [==============================] - 0s 9ms/step - loss: 40.6709 - mae: 37.0698\n",
            "Epoch 92/500\n",
            "2/2 [==============================] - 0s 8ms/step - loss: 40.6943 - mae: 36.9589\n",
            "Epoch 93/500\n",
            "2/2 [==============================] - 0s 8ms/step - loss: 40.6436 - mae: 36.9269\n",
            "Epoch 94/500\n",
            "2/2 [==============================] - 0s 8ms/step - loss: 40.6967 - mae: 36.1836\n",
            "Epoch 95/500\n",
            "2/2 [==============================] - 0s 8ms/step - loss: 40.7436 - mae: 35.5995\n",
            "Epoch 96/500\n",
            "2/2 [==============================] - 0s 8ms/step - loss: 40.5893 - mae: 35.1590\n",
            "Epoch 97/500\n",
            "2/2 [==============================] - 0s 10ms/step - loss: 40.7101 - mae: 35.8171\n",
            "Epoch 98/500\n",
            "2/2 [==============================] - 0s 8ms/step - loss: 40.6688 - mae: 36.3462\n",
            "Epoch 99/500\n",
            "2/2 [==============================] - 0s 8ms/step - loss: 40.6735 - mae: 36.3971\n",
            "Epoch 100/500\n",
            "2/2 [==============================] - 0s 9ms/step - loss: 40.7185 - mae: 35.5279\n",
            "Epoch 101/500\n",
            "2/2 [==============================] - 0s 8ms/step - loss: 40.6974 - mae: 36.0205\n",
            "Epoch 102/500\n",
            "2/2 [==============================] - 0s 12ms/step - loss: 40.5023 - mae: 36.4963\n",
            "Epoch 103/500\n",
            "2/2 [==============================] - 0s 12ms/step - loss: 40.5916 - mae: 36.8134\n",
            "Epoch 104/500\n",
            "2/2 [==============================] - 0s 8ms/step - loss: 40.7029 - mae: 35.5691\n",
            "Epoch 105/500\n",
            "2/2 [==============================] - 0s 8ms/step - loss: 40.6569 - mae: 36.1644\n",
            "Epoch 106/500\n",
            "2/2 [==============================] - 0s 8ms/step - loss: 40.6430 - mae: 36.2399\n",
            "Epoch 107/500\n",
            "2/2 [==============================] - 0s 8ms/step - loss: 40.6862 - mae: 35.1591\n",
            "Epoch 108/500\n",
            "2/2 [==============================] - 0s 8ms/step - loss: 40.7167 - mae: 34.6309\n",
            "Epoch 109/500\n",
            "2/2 [==============================] - 0s 10ms/step - loss: 40.6378 - mae: 33.8151\n",
            "Epoch 110/500\n",
            "2/2 [==============================] - 0s 9ms/step - loss: 40.6937 - mae: 34.8653\n",
            "Epoch 111/500\n",
            "2/2 [==============================] - 0s 8ms/step - loss: 40.6255 - mae: 35.0969\n",
            "Epoch 112/500\n",
            "2/2 [==============================] - 0s 9ms/step - loss: 40.4432 - mae: 35.3231\n",
            "Epoch 113/500\n",
            "2/2 [==============================] - 0s 8ms/step - loss: 40.4568 - mae: 32.9217\n",
            "Epoch 114/500\n",
            "2/2 [==============================] - 0s 8ms/step - loss: 41.0191 - mae: 31.2140\n",
            "Epoch 115/500\n",
            "2/2 [==============================] - 0s 8ms/step - loss: 40.9204 - mae: 31.7890\n",
            "Epoch 116/500\n",
            "2/2 [==============================] - 0s 8ms/step - loss: 40.6652 - mae: 32.9587\n",
            "Epoch 117/500\n",
            "2/2 [==============================] - 0s 8ms/step - loss: 40.5888 - mae: 34.2698\n",
            "Epoch 118/500\n",
            "2/2 [==============================] - 0s 9ms/step - loss: 40.5653 - mae: 34.8034\n",
            "Epoch 119/500\n",
            "2/2 [==============================] - 0s 10ms/step - loss: 40.0100 - mae: 35.5902\n",
            "Epoch 120/500\n",
            "2/2 [==============================] - 0s 10ms/step - loss: 41.2179 - mae: 28.8012\n",
            "Epoch 121/500\n",
            "2/2 [==============================] - 0s 8ms/step - loss: 39.9358 - mae: 32.3051\n",
            "Epoch 122/500\n",
            "2/2 [==============================] - 0s 8ms/step - loss: 41.0827 - mae: 25.7121\n",
            "Epoch 123/500\n",
            "2/2 [==============================] - 0s 8ms/step - loss: 41.8517 - mae: 25.0689\n",
            "Epoch 124/500\n",
            "2/2 [==============================] - 0s 8ms/step - loss: 41.3261 - mae: 28.1028\n",
            "Epoch 125/500\n",
            "2/2 [==============================] - 0s 8ms/step - loss: 40.6448 - mae: 30.6758\n",
            "Epoch 126/500\n",
            "2/2 [==============================] - 0s 8ms/step - loss: 40.8440 - mae: 32.6041\n",
            "Epoch 127/500\n",
            "2/2 [==============================] - 0s 10ms/step - loss: 40.2723 - mae: 33.3883\n",
            "Epoch 128/500\n",
            "2/2 [==============================] - 0s 8ms/step - loss: 41.2945 - mae: 28.7495\n",
            "Epoch 129/500\n",
            "2/2 [==============================] - 0s 7ms/step - loss: 40.3896 - mae: 30.4278\n",
            "Epoch 130/500\n",
            "2/2 [==============================] - 0s 11ms/step - loss: 41.2337 - mae: 28.9699\n",
            "Epoch 131/500\n",
            "2/2 [==============================] - 0s 8ms/step - loss: 40.8214 - mae: 30.8226\n",
            "Epoch 132/500\n",
            "2/2 [==============================] - 0s 7ms/step - loss: 40.8595 - mae: 31.4955\n",
            "Epoch 133/500\n",
            "2/2 [==============================] - 0s 8ms/step - loss: 40.5275 - mae: 32.8513\n",
            "Epoch 134/500\n",
            "2/2 [==============================] - 0s 8ms/step - loss: 41.0479 - mae: 30.1776\n",
            "Epoch 135/500\n",
            "2/2 [==============================] - 0s 9ms/step - loss: 40.7535 - mae: 32.6835\n",
            "Epoch 136/500\n",
            "2/2 [==============================] - 0s 8ms/step - loss: 40.7259 - mae: 33.2292\n",
            "Epoch 137/500\n",
            "2/2 [==============================] - 0s 8ms/step - loss: 40.0200 - mae: 32.5838\n",
            "Epoch 138/500\n",
            "2/2 [==============================] - 0s 8ms/step - loss: 40.4380 - mae: 32.1869\n",
            "Epoch 139/500\n",
            "2/2 [==============================] - 0s 8ms/step - loss: 40.8386 - mae: 32.5335\n",
            "Epoch 140/500\n",
            "2/2 [==============================] - 0s 8ms/step - loss: 40.7438 - mae: 33.3901\n",
            "Epoch 141/500\n",
            "2/2 [==============================] - 0s 9ms/step - loss: 40.1642 - mae: 33.8655\n",
            "Epoch 142/500\n",
            "2/2 [==============================] - 0s 9ms/step - loss: 40.6841 - mae: 30.4569\n",
            "Epoch 143/500\n",
            "2/2 [==============================] - 0s 8ms/step - loss: 40.5047 - mae: 28.2721\n",
            "Epoch 144/500\n",
            "2/2 [==============================] - 0s 8ms/step - loss: 40.6020 - mae: 30.9933\n",
            "Epoch 145/500\n",
            "2/2 [==============================] - 0s 8ms/step - loss: 41.4356 - mae: 26.6715\n",
            "Epoch 146/500\n",
            "2/2 [==============================] - 0s 7ms/step - loss: 39.9604 - mae: 31.6801\n",
            "Epoch 147/500\n",
            "2/2 [==============================] - 0s 8ms/step - loss: 40.2769 - mae: 32.5274\n",
            "Epoch 148/500\n",
            "2/2 [==============================] - 0s 8ms/step - loss: 40.6215 - mae: 30.6499\n",
            "Epoch 149/500\n",
            "2/2 [==============================] - 0s 8ms/step - loss: 40.7288 - mae: 32.4010\n",
            "Epoch 150/500\n",
            "2/2 [==============================] - 0s 8ms/step - loss: 40.0032 - mae: 33.5110\n",
            "Epoch 151/500\n",
            "2/2 [==============================] - 0s 9ms/step - loss: 41.0193 - mae: 30.7460\n",
            "Epoch 152/500\n",
            "2/2 [==============================] - 0s 8ms/step - loss: 40.8344 - mae: 32.1381\n",
            "Epoch 153/500\n",
            "2/2 [==============================] - 0s 8ms/step - loss: 40.3873 - mae: 31.7521\n",
            "Epoch 154/500\n",
            "2/2 [==============================] - 0s 12ms/step - loss: 40.8429 - mae: 32.2924\n",
            "Epoch 155/500\n",
            "2/2 [==============================] - 0s 8ms/step - loss: 40.6978 - mae: 33.4587\n",
            "Epoch 156/500\n",
            "2/2 [==============================] - 0s 8ms/step - loss: 40.4422 - mae: 32.9280\n",
            "Epoch 157/500\n",
            "2/2 [==============================] - 0s 8ms/step - loss: 40.7238 - mae: 31.3973\n",
            "Epoch 158/500\n",
            "2/2 [==============================] - 0s 9ms/step - loss: 40.4303 - mae: 32.2589\n",
            "Epoch 159/500\n",
            "2/2 [==============================] - 0s 11ms/step - loss: 40.6312 - mae: 33.9937\n",
            "Epoch 160/500\n",
            "2/2 [==============================] - 0s 10ms/step - loss: 40.7382 - mae: 33.8084\n",
            "Epoch 161/500\n",
            "2/2 [==============================] - 0s 8ms/step - loss: 40.6912 - mae: 33.7674\n",
            "Epoch 162/500\n",
            "2/2 [==============================] - 0s 8ms/step - loss: 40.6272 - mae: 34.3301\n",
            "Epoch 163/500\n",
            "2/2 [==============================] - 0s 8ms/step - loss: 40.7250 - mae: 33.6425\n",
            "Epoch 164/500\n",
            "2/2 [==============================] - 0s 7ms/step - loss: 40.4814 - mae: 34.2465\n",
            "Epoch 165/500\n",
            "2/2 [==============================] - 0s 9ms/step - loss: 40.6493 - mae: 35.4024\n",
            "Epoch 166/500\n",
            "2/2 [==============================] - 0s 14ms/step - loss: 40.5874 - mae: 35.5093\n",
            "Epoch 167/500\n",
            "2/2 [==============================] - 0s 8ms/step - loss: 40.7211 - mae: 34.6162\n",
            "Epoch 168/500\n",
            "2/2 [==============================] - 0s 9ms/step - loss: 40.6930 - mae: 35.3067\n",
            "Epoch 169/500\n",
            "2/2 [==============================] - 0s 8ms/step - loss: 40.6706 - mae: 35.5825\n",
            "Epoch 170/500\n",
            "2/2 [==============================] - 0s 8ms/step - loss: 40.6614 - mae: 35.5609\n",
            "Epoch 171/500\n",
            "2/2 [==============================] - 0s 8ms/step - loss: 40.6414 - mae: 35.5086\n",
            "Epoch 172/500\n",
            "2/2 [==============================] - 0s 9ms/step - loss: 40.5061 - mae: 35.6338\n",
            "Epoch 173/500\n",
            "2/2 [==============================] - 0s 8ms/step - loss: 40.7023 - mae: 33.6693\n",
            "Epoch 174/500\n",
            "2/2 [==============================] - 0s 8ms/step - loss: 40.5950 - mae: 35.0468\n",
            "Epoch 175/500\n",
            "2/2 [==============================] - 0s 11ms/step - loss: 40.5479 - mae: 34.6650\n",
            "Epoch 176/500\n",
            "2/2 [==============================] - 0s 8ms/step - loss: 40.8042 - mae: 33.4012\n",
            "Epoch 177/500\n",
            "2/2 [==============================] - 0s 7ms/step - loss: 40.7672 - mae: 33.3481\n",
            "Epoch 178/500\n",
            "2/2 [==============================] - 0s 7ms/step - loss: 40.6204 - mae: 33.8077\n",
            "Epoch 179/500\n",
            "2/2 [==============================] - 0s 7ms/step - loss: 40.0406 - mae: 34.4859\n",
            "Epoch 180/500\n",
            "2/2 [==============================] - 0s 8ms/step - loss: 40.6775 - mae: 33.9457\n",
            "Epoch 181/500\n",
            "2/2 [==============================] - 0s 8ms/step - loss: 40.7324 - mae: 33.3345\n",
            "Epoch 182/500\n",
            "2/2 [==============================] - 0s 8ms/step - loss: 40.5178 - mae: 32.6677\n",
            "Epoch 183/500\n",
            "2/2 [==============================] - 0s 8ms/step - loss: 39.8251 - mae: 33.7067\n",
            "Epoch 184/500\n",
            "2/2 [==============================] - 0s 8ms/step - loss: 41.4046 - mae: 27.1993\n",
            "Epoch 185/500\n",
            "2/2 [==============================] - 0s 8ms/step - loss: 40.7822 - mae: 31.4357\n",
            "Epoch 186/500\n",
            "2/2 [==============================] - 0s 8ms/step - loss: 40.4795 - mae: 31.0413\n",
            "Epoch 187/500\n",
            "2/2 [==============================] - 0s 7ms/step - loss: 40.6888 - mae: 33.0426\n",
            "Epoch 188/500\n",
            "2/2 [==============================] - 0s 8ms/step - loss: 40.2998 - mae: 32.0972\n",
            "Epoch 189/500\n",
            "2/2 [==============================] - 0s 8ms/step - loss: 40.7991 - mae: 32.8245\n",
            "Epoch 190/500\n",
            "2/2 [==============================] - 0s 8ms/step - loss: 40.7094 - mae: 34.5943\n",
            "Epoch 191/500\n",
            "2/2 [==============================] - 0s 8ms/step - loss: 40.5994 - mae: 34.8498\n",
            "Epoch 192/500\n",
            "2/2 [==============================] - 0s 7ms/step - loss: 40.3082 - mae: 35.4076\n",
            "Epoch 193/500\n",
            "2/2 [==============================] - 0s 7ms/step - loss: 40.5697 - mae: 33.1070\n",
            "Epoch 194/500\n",
            "2/2 [==============================] - 0s 8ms/step - loss: 40.6517 - mae: 34.2603\n",
            "Epoch 195/500\n",
            "2/2 [==============================] - 0s 8ms/step - loss: 40.6012 - mae: 34.9585\n",
            "Epoch 196/500\n",
            "2/2 [==============================] - 0s 13ms/step - loss: 39.4622 - mae: 33.9954\n",
            "Epoch 197/500\n",
            "2/2 [==============================] - 0s 9ms/step - loss: 40.9009 - mae: 32.1551\n",
            "Epoch 198/500\n",
            "2/2 [==============================] - 0s 11ms/step - loss: 40.4730 - mae: 32.4120\n",
            "Epoch 199/500\n",
            "2/2 [==============================] - 0s 8ms/step - loss: 40.9258 - mae: 30.9937\n",
            "Epoch 200/500\n",
            "2/2 [==============================] - 0s 9ms/step - loss: 40.8621 - mae: 32.0801\n",
            "Epoch 201/500\n",
            "2/2 [==============================] - 0s 8ms/step - loss: 40.1675 - mae: 33.4759\n",
            "Epoch 202/500\n",
            "2/2 [==============================] - 0s 8ms/step - loss: 41.0652 - mae: 29.8265\n",
            "Epoch 203/500\n",
            "2/2 [==============================] - 0s 8ms/step - loss: 40.7529 - mae: 32.5744\n",
            "Epoch 204/500\n",
            "2/2 [==============================] - 0s 8ms/step - loss: 40.7988 - mae: 33.0439\n",
            "Epoch 205/500\n",
            "2/2 [==============================] - 0s 8ms/step - loss: 40.6271 - mae: 33.9852\n",
            "Epoch 206/500\n",
            "2/2 [==============================] - 0s 11ms/step - loss: 40.7033 - mae: 34.8620\n",
            "Epoch 207/500\n",
            "2/2 [==============================] - 0s 7ms/step - loss: 40.4839 - mae: 35.4598\n",
            "Epoch 208/500\n",
            "2/2 [==============================] - 0s 8ms/step - loss: 40.6679 - mae: 33.5703\n",
            "Epoch 209/500\n",
            "2/2 [==============================] - 0s 8ms/step - loss: 40.0563 - mae: 33.9581\n",
            "Epoch 210/500\n",
            "2/2 [==============================] - 0s 10ms/step - loss: 41.0455 - mae: 30.5892\n",
            "Epoch 211/500\n",
            "2/2 [==============================] - 0s 8ms/step - loss: 40.8524 - mae: 31.1667\n",
            "Epoch 212/500\n",
            "2/2 [==============================] - 0s 9ms/step - loss: 40.6494 - mae: 33.0525\n",
            "Epoch 213/500\n",
            "2/2 [==============================] - 0s 8ms/step - loss: 40.6834 - mae: 34.5070\n",
            "Epoch 214/500\n",
            "2/2 [==============================] - 0s 9ms/step - loss: 40.6638 - mae: 34.5677\n",
            "Epoch 215/500\n",
            "2/2 [==============================] - 0s 8ms/step - loss: 40.6815 - mae: 33.9659\n",
            "Epoch 216/500\n",
            "2/2 [==============================] - 0s 8ms/step - loss: 40.5597 - mae: 34.9059\n",
            "Epoch 217/500\n",
            "2/2 [==============================] - 0s 11ms/step - loss: 39.8937 - mae: 34.0892\n",
            "Epoch 218/500\n",
            "2/2 [==============================] - 0s 11ms/step - loss: 40.3952 - mae: 33.5207\n",
            "Epoch 219/500\n",
            "2/2 [==============================] - 0s 8ms/step - loss: 40.7204 - mae: 34.3891\n",
            "Epoch 220/500\n",
            "2/2 [==============================] - 0s 7ms/step - loss: 39.9628 - mae: 34.2553\n",
            "Epoch 221/500\n",
            "2/2 [==============================] - 0s 7ms/step - loss: 40.9815 - mae: 30.3384\n",
            "Epoch 222/500\n",
            "2/2 [==============================] - 0s 12ms/step - loss: 40.7683 - mae: 30.0629\n",
            "Epoch 223/500\n",
            "2/2 [==============================] - 0s 11ms/step - loss: 40.0522 - mae: 32.0675\n",
            "Epoch 224/500\n",
            "2/2 [==============================] - 0s 10ms/step - loss: 40.7449 - mae: 32.6224\n",
            "Epoch 225/500\n",
            "2/2 [==============================] - 0s 9ms/step - loss: 40.6636 - mae: 32.2793\n",
            "Epoch 226/500\n",
            "2/2 [==============================] - 0s 8ms/step - loss: 40.8506 - mae: 32.1830\n",
            "Epoch 227/500\n",
            "2/2 [==============================] - 0s 8ms/step - loss: 40.7648 - mae: 31.8515\n",
            "Epoch 228/500\n",
            "2/2 [==============================] - 0s 11ms/step - loss: 40.4210 - mae: 33.6676\n",
            "Epoch 229/500\n",
            "2/2 [==============================] - 0s 7ms/step - loss: 40.6890 - mae: 34.1196\n",
            "Epoch 230/500\n",
            "2/2 [==============================] - 0s 7ms/step - loss: 40.3997 - mae: 34.9505\n",
            "Epoch 231/500\n",
            "2/2 [==============================] - 0s 9ms/step - loss: 40.8052 - mae: 32.6979\n",
            "Epoch 232/500\n",
            "2/2 [==============================] - 0s 9ms/step - loss: 40.7394 - mae: 33.6215\n",
            "Epoch 233/500\n",
            "2/2 [==============================] - 0s 10ms/step - loss: 40.7233 - mae: 34.1576\n",
            "Epoch 234/500\n",
            "2/2 [==============================] - 0s 7ms/step - loss: 40.4265 - mae: 34.6675\n",
            "Epoch 235/500\n",
            "2/2 [==============================] - 0s 9ms/step - loss: 40.6652 - mae: 33.9652\n",
            "Epoch 236/500\n",
            "2/2 [==============================] - 0s 9ms/step - loss: 40.6272 - mae: 34.2276\n",
            "Epoch 237/500\n",
            "2/2 [==============================] - 0s 9ms/step - loss: 40.4061 - mae: 34.9089\n",
            "Epoch 238/500\n",
            "2/2 [==============================] - 0s 9ms/step - loss: 40.6719 - mae: 34.8685\n",
            "Epoch 239/500\n",
            "2/2 [==============================] - 0s 9ms/step - loss: 40.6648 - mae: 35.3526\n",
            "Epoch 240/500\n",
            "2/2 [==============================] - 0s 8ms/step - loss: 40.6213 - mae: 35.4466\n",
            "Epoch 241/500\n",
            "2/2 [==============================] - 0s 9ms/step - loss: 40.6465 - mae: 35.5002\n",
            "Epoch 242/500\n",
            "2/2 [==============================] - 0s 8ms/step - loss: 40.6165 - mae: 36.2099\n",
            "Epoch 243/500\n",
            "2/2 [==============================] - 0s 8ms/step - loss: 40.4333 - mae: 35.9402\n",
            "Epoch 244/500\n",
            "2/2 [==============================] - 0s 7ms/step - loss: 40.6551 - mae: 36.1905\n",
            "Epoch 245/500\n",
            "2/2 [==============================] - 0s 7ms/step - loss: 40.6401 - mae: 35.6955\n",
            "Epoch 246/500\n",
            "2/2 [==============================] - 0s 12ms/step - loss: 40.5988 - mae: 36.3520\n",
            "Epoch 247/500\n",
            "2/2 [==============================] - 0s 11ms/step - loss: 40.6459 - mae: 35.2107\n",
            "Epoch 248/500\n",
            "2/2 [==============================] - 0s 10ms/step - loss: 40.6658 - mae: 35.3881\n",
            "Epoch 249/500\n",
            "2/2 [==============================] - 0s 9ms/step - loss: 40.5525 - mae: 35.5191\n",
            "Epoch 250/500\n",
            "2/2 [==============================] - 0s 9ms/step - loss: 40.6105 - mae: 34.0329\n",
            "Epoch 251/500\n",
            "2/2 [==============================] - 0s 10ms/step - loss: 40.2311 - mae: 34.4227\n",
            "Epoch 252/500\n",
            "2/2 [==============================] - 0s 11ms/step - loss: 40.9371 - mae: 31.2913\n",
            "Epoch 253/500\n",
            "2/2 [==============================] - 0s 11ms/step - loss: 40.8161 - mae: 31.2221\n",
            "Epoch 254/500\n",
            "2/2 [==============================] - 0s 9ms/step - loss: 40.5363 - mae: 33.1925\n",
            "Epoch 255/500\n",
            "2/2 [==============================] - 0s 8ms/step - loss: 40.9156 - mae: 31.0914\n",
            "Epoch 256/500\n",
            "2/2 [==============================] - 0s 8ms/step - loss: 40.5088 - mae: 32.0196\n",
            "Epoch 257/500\n",
            "2/2 [==============================] - 0s 7ms/step - loss: 40.7404 - mae: 32.6086\n",
            "Epoch 258/500\n",
            "2/2 [==============================] - 0s 7ms/step - loss: 40.6438 - mae: 33.7790\n",
            "Epoch 259/500\n",
            "2/2 [==============================] - 0s 8ms/step - loss: 40.4092 - mae: 33.5674\n",
            "Epoch 260/500\n",
            "2/2 [==============================] - 0s 10ms/step - loss: 40.8587 - mae: 31.1763\n",
            "Epoch 261/500\n",
            "2/2 [==============================] - 0s 8ms/step - loss: 40.1174 - mae: 30.4567\n",
            "Epoch 262/500\n",
            "2/2 [==============================] - 0s 11ms/step - loss: 40.1688 - mae: 30.8682\n",
            "Epoch 263/500\n",
            "2/2 [==============================] - 0s 8ms/step - loss: 40.8920 - mae: 31.5974\n",
            "Epoch 264/500\n",
            "2/2 [==============================] - 0s 10ms/step - loss: 39.9922 - mae: 32.2852\n",
            "Epoch 265/500\n",
            "2/2 [==============================] - 0s 12ms/step - loss: 40.4244 - mae: 32.5190\n",
            "Epoch 266/500\n",
            "2/2 [==============================] - 0s 8ms/step - loss: 40.6247 - mae: 33.4481\n",
            "Epoch 267/500\n",
            "2/2 [==============================] - 0s 8ms/step - loss: 40.6494 - mae: 35.0879\n",
            "Epoch 268/500\n",
            "2/2 [==============================] - 0s 8ms/step - loss: 40.4189 - mae: 34.7006\n",
            "Epoch 269/500\n",
            "2/2 [==============================] - 0s 13ms/step - loss: 40.7968 - mae: 32.4891\n",
            "Epoch 270/500\n",
            "2/2 [==============================] - 0s 9ms/step - loss: 40.0046 - mae: 33.3242\n",
            "Epoch 271/500\n",
            "2/2 [==============================] - 0s 8ms/step - loss: 40.4226 - mae: 33.7232\n",
            "Epoch 272/500\n",
            "2/2 [==============================] - 0s 8ms/step - loss: 40.7340 - mae: 32.7405\n",
            "Epoch 273/500\n",
            "2/2 [==============================] - 0s 8ms/step - loss: 40.5851 - mae: 34.4195\n",
            "Epoch 274/500\n",
            "2/2 [==============================] - 0s 8ms/step - loss: 39.9017 - mae: 35.0085\n",
            "Epoch 275/500\n",
            "2/2 [==============================] - 0s 9ms/step - loss: 41.1269 - mae: 29.7119\n",
            "Epoch 276/500\n",
            "2/2 [==============================] - 0s 8ms/step - loss: 40.9461 - mae: 31.0344\n",
            "Epoch 277/500\n",
            "2/2 [==============================] - 0s 8ms/step - loss: 40.2309 - mae: 32.6516\n",
            "Epoch 278/500\n",
            "2/2 [==============================] - 0s 8ms/step - loss: 40.7982 - mae: 33.0374\n",
            "Epoch 279/500\n",
            "2/2 [==============================] - 0s 8ms/step - loss: 40.6701 - mae: 32.8735\n",
            "Epoch 280/500\n",
            "2/2 [==============================] - 0s 7ms/step - loss: 40.8571 - mae: 32.0710\n",
            "Epoch 281/500\n",
            "2/2 [==============================] - 0s 8ms/step - loss: 40.7132 - mae: 33.1270\n",
            "Epoch 282/500\n",
            "2/2 [==============================] - 0s 8ms/step - loss: 40.6991 - mae: 33.3667\n",
            "Epoch 283/500\n",
            "2/2 [==============================] - 0s 8ms/step - loss: 40.5561 - mae: 34.7781\n",
            "Epoch 284/500\n",
            "2/2 [==============================] - 0s 8ms/step - loss: 40.6092 - mae: 34.3002\n",
            "Epoch 285/500\n",
            "2/2 [==============================] - 0s 8ms/step - loss: 40.5283 - mae: 34.2639\n",
            "Epoch 286/500\n",
            "2/2 [==============================] - 0s 11ms/step - loss: 40.4925 - mae: 33.0777\n",
            "Epoch 287/500\n",
            "2/2 [==============================] - 0s 11ms/step - loss: 40.8953 - mae: 31.4847\n",
            "Epoch 288/500\n",
            "2/2 [==============================] - 0s 10ms/step - loss: 40.6897 - mae: 32.6685\n",
            "Epoch 289/500\n",
            "2/2 [==============================] - 0s 7ms/step - loss: 40.7063 - mae: 33.9645\n",
            "Epoch 290/500\n",
            "2/2 [==============================] - 0s 8ms/step - loss: 40.6560 - mae: 34.7957\n",
            "Epoch 291/500\n",
            "2/2 [==============================] - 0s 11ms/step - loss: 40.5891 - mae: 34.9051\n",
            "Epoch 292/500\n",
            "2/2 [==============================] - 0s 8ms/step - loss: 40.4013 - mae: 35.9456\n",
            "Epoch 293/500\n",
            "2/2 [==============================] - 0s 8ms/step - loss: 40.4594 - mae: 33.7076\n",
            "Epoch 294/500\n",
            "2/2 [==============================] - 0s 8ms/step - loss: 40.8142 - mae: 32.6371\n",
            "Epoch 295/500\n",
            "2/2 [==============================] - 0s 7ms/step - loss: 40.7272 - mae: 33.5579\n",
            "Epoch 296/500\n",
            "2/2 [==============================] - 0s 8ms/step - loss: 40.5335 - mae: 33.5716\n",
            "Epoch 297/500\n",
            "2/2 [==============================] - 0s 8ms/step - loss: 40.6548 - mae: 34.2502\n",
            "Epoch 298/500\n",
            "2/2 [==============================] - 0s 8ms/step - loss: 40.6787 - mae: 33.7695\n",
            "Epoch 299/500\n",
            "2/2 [==============================] - 0s 8ms/step - loss: 40.4102 - mae: 34.3678\n",
            "Epoch 300/500\n",
            "2/2 [==============================] - 0s 8ms/step - loss: 40.4864 - mae: 32.3416\n",
            "Epoch 301/500\n",
            "2/2 [==============================] - 0s 8ms/step - loss: 40.5412 - mae: 29.8002\n",
            "Epoch 302/500\n",
            "2/2 [==============================] - 0s 7ms/step - loss: 40.8477 - mae: 31.6230\n",
            "Epoch 303/500\n",
            "2/2 [==============================] - 0s 8ms/step - loss: 40.9658 - mae: 30.9322\n",
            "Epoch 304/500\n",
            "2/2 [==============================] - 0s 7ms/step - loss: 39.9325 - mae: 31.4949\n",
            "Epoch 305/500\n",
            "2/2 [==============================] - 0s 8ms/step - loss: 40.8847 - mae: 31.3043\n",
            "Epoch 306/500\n",
            "2/2 [==============================] - 0s 8ms/step - loss: 40.7500 - mae: 32.2245\n",
            "Epoch 307/500\n",
            "2/2 [==============================] - 0s 8ms/step - loss: 40.6589 - mae: 33.6049\n",
            "Epoch 308/500\n",
            "2/2 [==============================] - 0s 9ms/step - loss: 40.7049 - mae: 33.9350\n",
            "Epoch 309/500\n",
            "2/2 [==============================] - 0s 8ms/step - loss: 40.6781 - mae: 34.5850\n",
            "Epoch 310/500\n",
            "2/2 [==============================] - 0s 8ms/step - loss: 40.5897 - mae: 35.0188\n",
            "Epoch 311/500\n",
            "2/2 [==============================] - 0s 8ms/step - loss: 40.1190 - mae: 35.7765\n",
            "Epoch 312/500\n",
            "2/2 [==============================] - 0s 7ms/step - loss: 40.7991 - mae: 31.8541\n",
            "Epoch 313/500\n",
            "2/2 [==============================] - 0s 7ms/step - loss: 39.7274 - mae: 31.2240\n",
            "Epoch 314/500\n",
            "2/2 [==============================] - 0s 8ms/step - loss: 40.8477 - mae: 31.5573\n",
            "Epoch 315/500\n",
            "2/2 [==============================] - 0s 8ms/step - loss: 40.7717 - mae: 32.5184\n",
            "Epoch 316/500\n",
            "2/2 [==============================] - 0s 7ms/step - loss: 40.0682 - mae: 34.2303\n",
            "Epoch 317/500\n",
            "2/2 [==============================] - 0s 8ms/step - loss: 40.8745 - mae: 30.0096\n",
            "Epoch 318/500\n",
            "2/2 [==============================] - 0s 8ms/step - loss: 40.9417 - mae: 31.8572\n",
            "Epoch 319/500\n",
            "2/2 [==============================] - 0s 8ms/step - loss: 40.8671 - mae: 31.9412\n",
            "Epoch 320/500\n",
            "2/2 [==============================] - 0s 8ms/step - loss: 40.7130 - mae: 33.6290\n",
            "Epoch 321/500\n",
            "2/2 [==============================] - 0s 10ms/step - loss: 40.2173 - mae: 34.8804\n",
            "Epoch 322/500\n",
            "2/2 [==============================] - 0s 12ms/step - loss: 40.6621 - mae: 34.9602\n",
            "Epoch 323/500\n",
            "2/2 [==============================] - 0s 10ms/step - loss: 40.6616 - mae: 35.2772\n",
            "Epoch 324/500\n",
            "2/2 [==============================] - 0s 7ms/step - loss: 40.5733 - mae: 35.4562\n",
            "Epoch 325/500\n",
            "2/2 [==============================] - 0s 9ms/step - loss: 40.6107 - mae: 34.9590\n",
            "Epoch 326/500\n",
            "2/2 [==============================] - 0s 10ms/step - loss: 40.6070 - mae: 35.1063\n",
            "Epoch 327/500\n",
            "2/2 [==============================] - 0s 10ms/step - loss: 40.3221 - mae: 35.2232\n",
            "Epoch 328/500\n",
            "2/2 [==============================] - 0s 10ms/step - loss: 40.5899 - mae: 35.4673\n",
            "Epoch 329/500\n",
            "2/2 [==============================] - 0s 12ms/step - loss: 40.5470 - mae: 35.8771\n",
            "Epoch 330/500\n",
            "2/2 [==============================] - 0s 12ms/step - loss: 40.5843 - mae: 36.1887\n",
            "Epoch 331/500\n",
            "2/2 [==============================] - 0s 10ms/step - loss: 40.3704 - mae: 35.5867\n",
            "Epoch 332/500\n",
            "2/2 [==============================] - 0s 11ms/step - loss: 40.6609 - mae: 34.0065\n",
            "Epoch 333/500\n",
            "2/2 [==============================] - 0s 11ms/step - loss: 40.6619 - mae: 34.2691\n",
            "Epoch 334/500\n",
            "2/2 [==============================] - 0s 8ms/step - loss: 40.4803 - mae: 34.6336\n",
            "Epoch 335/500\n",
            "2/2 [==============================] - 0s 8ms/step - loss: 40.0164 - mae: 35.2196\n",
            "Epoch 336/500\n",
            "2/2 [==============================] - 0s 11ms/step - loss: 40.8174 - mae: 31.9604\n",
            "Epoch 337/500\n",
            "2/2 [==============================] - 0s 7ms/step - loss: 40.3084 - mae: 33.1020\n",
            "Epoch 338/500\n",
            "2/2 [==============================] - 0s 8ms/step - loss: 40.4705 - mae: 33.1173\n",
            "Epoch 339/500\n",
            "2/2 [==============================] - 0s 7ms/step - loss: 40.4898 - mae: 33.5367\n",
            "Epoch 340/500\n",
            "2/2 [==============================] - 0s 8ms/step - loss: 40.7162 - mae: 33.9576\n",
            "Epoch 341/500\n",
            "2/2 [==============================] - 0s 8ms/step - loss: 40.4561 - mae: 34.5960\n",
            "Epoch 342/500\n",
            "2/2 [==============================] - 0s 7ms/step - loss: 40.1329 - mae: 35.3191\n",
            "Epoch 343/500\n",
            "2/2 [==============================] - 0s 7ms/step - loss: 40.1597 - mae: 34.8766\n",
            "Epoch 344/500\n",
            "2/2 [==============================] - 0s 8ms/step - loss: 39.5997 - mae: 35.1921\n",
            "Epoch 345/500\n",
            "2/2 [==============================] - 0s 8ms/step - loss: 41.3971 - mae: 27.5655\n",
            "Epoch 346/500\n",
            "2/2 [==============================] - 0s 8ms/step - loss: 40.9186 - mae: 30.4221\n",
            "Epoch 347/500\n",
            "2/2 [==============================] - 0s 7ms/step - loss: 40.9476 - mae: 30.6929\n",
            "Epoch 348/500\n",
            "2/2 [==============================] - 0s 7ms/step - loss: 40.6543 - mae: 32.9766\n",
            "Epoch 349/500\n",
            "2/2 [==============================] - 0s 8ms/step - loss: 40.6877 - mae: 34.3056\n",
            "Epoch 350/500\n",
            "2/2 [==============================] - 0s 8ms/step - loss: 39.7858 - mae: 34.5452\n",
            "Epoch 351/500\n",
            "2/2 [==============================] - 0s 8ms/step - loss: 40.8921 - mae: 29.6350\n",
            "Epoch 352/500\n",
            "2/2 [==============================] - 0s 8ms/step - loss: 40.9909 - mae: 30.5142\n",
            "Epoch 353/500\n",
            "2/2 [==============================] - 0s 12ms/step - loss: 40.7716 - mae: 32.2564\n",
            "Epoch 354/500\n",
            "2/2 [==============================] - 0s 9ms/step - loss: 40.6385 - mae: 33.5710\n",
            "Epoch 355/500\n",
            "2/2 [==============================] - 0s 12ms/step - loss: 40.5607 - mae: 34.4818\n",
            "Epoch 356/500\n",
            "2/2 [==============================] - 0s 8ms/step - loss: 40.3163 - mae: 35.1231\n",
            "Epoch 357/500\n",
            "2/2 [==============================] - 0s 11ms/step - loss: 40.2512 - mae: 32.4184\n",
            "Epoch 358/500\n",
            "2/2 [==============================] - 0s 10ms/step - loss: 40.9807 - mae: 30.7193\n",
            "Epoch 359/500\n",
            "2/2 [==============================] - 0s 8ms/step - loss: 40.4137 - mae: 32.2232\n",
            "Epoch 360/500\n",
            "2/2 [==============================] - 0s 9ms/step - loss: 40.7776 - mae: 30.8428\n",
            "Epoch 361/500\n",
            "2/2 [==============================] - 0s 8ms/step - loss: 40.6567 - mae: 33.0192\n",
            "Epoch 362/500\n",
            "2/2 [==============================] - 0s 15ms/step - loss: 40.6213 - mae: 33.0661\n",
            "Epoch 363/500\n",
            "2/2 [==============================] - 0s 8ms/step - loss: 40.3261 - mae: 32.3612\n",
            "Epoch 364/500\n",
            "2/2 [==============================] - 0s 7ms/step - loss: 40.9935 - mae: 29.1166\n",
            "Epoch 365/500\n",
            "2/2 [==============================] - 0s 9ms/step - loss: 40.4168 - mae: 31.6743\n",
            "Epoch 366/500\n",
            "2/2 [==============================] - 0s 8ms/step - loss: 40.0235 - mae: 33.3308\n",
            "Epoch 367/500\n",
            "2/2 [==============================] - 0s 9ms/step - loss: 41.0403 - mae: 29.7598\n",
            "Epoch 368/500\n",
            "2/2 [==============================] - 0s 11ms/step - loss: 40.7430 - mae: 30.9929\n",
            "Epoch 369/500\n",
            "2/2 [==============================] - 0s 8ms/step - loss: 40.7360 - mae: 33.3666\n",
            "Epoch 370/500\n",
            "2/2 [==============================] - 0s 10ms/step - loss: 40.6796 - mae: 33.8711\n",
            "Epoch 371/500\n",
            "2/2 [==============================] - 0s 7ms/step - loss: 40.5076 - mae: 34.1324\n",
            "Epoch 372/500\n",
            "2/2 [==============================] - 0s 9ms/step - loss: 40.5509 - mae: 35.0768\n",
            "Epoch 373/500\n",
            "2/2 [==============================] - 0s 9ms/step - loss: 40.6705 - mae: 34.3634\n",
            "Epoch 374/500\n",
            "2/2 [==============================] - 0s 9ms/step - loss: 40.5701 - mae: 34.7610\n",
            "Epoch 375/500\n",
            "2/2 [==============================] - 0s 8ms/step - loss: 40.5133 - mae: 35.4310\n",
            "Epoch 376/500\n",
            "2/2 [==============================] - 0s 8ms/step - loss: 40.2327 - mae: 35.8247\n",
            "Epoch 377/500\n",
            "2/2 [==============================] - 0s 8ms/step - loss: 40.4554 - mae: 35.8211\n",
            "Epoch 378/500\n",
            "2/2 [==============================] - 0s 9ms/step - loss: 40.5346 - mae: 35.4252\n",
            "Epoch 379/500\n",
            "2/2 [==============================] - 0s 9ms/step - loss: 40.5339 - mae: 34.8821\n",
            "Epoch 380/500\n",
            "2/2 [==============================] - 0s 8ms/step - loss: 40.6917 - mae: 33.8476\n",
            "Epoch 381/500\n",
            "2/2 [==============================] - 0s 8ms/step - loss: 40.5985 - mae: 35.4669\n",
            "Epoch 382/500\n",
            "2/2 [==============================] - 0s 7ms/step - loss: 40.5407 - mae: 35.5815\n",
            "Epoch 383/500\n",
            "2/2 [==============================] - 0s 8ms/step - loss: 40.4340 - mae: 35.1281\n",
            "Epoch 384/500\n",
            "2/2 [==============================] - 0s 9ms/step - loss: 40.1081 - mae: 35.1631\n",
            "Epoch 385/500\n",
            "2/2 [==============================] - 0s 7ms/step - loss: 40.6401 - mae: 34.9426\n",
            "Epoch 386/500\n",
            "2/2 [==============================] - 0s 11ms/step - loss: 40.6208 - mae: 35.0746\n",
            "Epoch 387/500\n",
            "2/2 [==============================] - 0s 8ms/step - loss: 40.6046 - mae: 35.8703\n",
            "Epoch 388/500\n",
            "2/2 [==============================] - 0s 7ms/step - loss: 40.6596 - mae: 35.6309\n",
            "Epoch 389/500\n",
            "2/2 [==============================] - 0s 9ms/step - loss: 40.3140 - mae: 35.5121\n",
            "Epoch 390/500\n",
            "2/2 [==============================] - 0s 10ms/step - loss: 40.8012 - mae: 32.4289\n",
            "Epoch 391/500\n",
            "2/2 [==============================] - 0s 10ms/step - loss: 40.7547 - mae: 33.3135\n",
            "Epoch 392/500\n",
            "2/2 [==============================] - 0s 8ms/step - loss: 40.4642 - mae: 34.6306\n",
            "Epoch 393/500\n",
            "2/2 [==============================] - 0s 8ms/step - loss: 40.6415 - mae: 34.9107\n",
            "Epoch 394/500\n",
            "2/2 [==============================] - 0s 8ms/step - loss: 40.4798 - mae: 35.6112\n",
            "Epoch 395/500\n",
            "2/2 [==============================] - 0s 8ms/step - loss: 40.6701 - mae: 34.2834\n",
            "Epoch 396/500\n",
            "2/2 [==============================] - 0s 8ms/step - loss: 40.4350 - mae: 34.8217\n",
            "Epoch 397/500\n",
            "2/2 [==============================] - 0s 9ms/step - loss: 40.5868 - mae: 35.0249\n",
            "Epoch 398/500\n",
            "2/2 [==============================] - 0s 9ms/step - loss: 40.6512 - mae: 34.4830\n",
            "Epoch 399/500\n",
            "2/2 [==============================] - 0s 8ms/step - loss: 40.4960 - mae: 35.1270\n",
            "Epoch 400/500\n",
            "2/2 [==============================] - 0s 7ms/step - loss: 40.7327 - mae: 33.4920\n",
            "Epoch 401/500\n",
            "2/2 [==============================] - 0s 7ms/step - loss: 39.9407 - mae: 34.2244\n",
            "Epoch 402/500\n",
            "2/2 [==============================] - 0s 8ms/step - loss: 40.4530 - mae: 29.3327\n",
            "Epoch 403/500\n",
            "2/2 [==============================] - 0s 8ms/step - loss: 40.1619 - mae: 31.6539\n",
            "Epoch 404/500\n",
            "2/2 [==============================] - 0s 7ms/step - loss: 41.3384 - mae: 27.6867\n",
            "Epoch 405/500\n",
            "2/2 [==============================] - 0s 7ms/step - loss: 40.7654 - mae: 31.5782\n",
            "Epoch 406/500\n",
            "2/2 [==============================] - 0s 10ms/step - loss: 40.7663 - mae: 32.8009\n",
            "Epoch 407/500\n",
            "2/2 [==============================] - 0s 8ms/step - loss: 40.6623 - mae: 33.9375\n",
            "Epoch 408/500\n",
            "2/2 [==============================] - 0s 11ms/step - loss: 40.1269 - mae: 34.6408\n",
            "Epoch 409/500\n",
            "2/2 [==============================] - 0s 10ms/step - loss: 40.8363 - mae: 30.3498\n",
            "Epoch 410/500\n",
            "2/2 [==============================] - 0s 8ms/step - loss: 40.8773 - mae: 31.3228\n",
            "Epoch 411/500\n",
            "2/2 [==============================] - 0s 8ms/step - loss: 40.6677 - mae: 32.3824\n",
            "Epoch 412/500\n",
            "2/2 [==============================] - 0s 8ms/step - loss: 40.7700 - mae: 32.1981\n",
            "Epoch 413/500\n",
            "2/2 [==============================] - 0s 8ms/step - loss: 40.8376 - mae: 32.4780\n",
            "Epoch 414/500\n",
            "2/2 [==============================] - 0s 14ms/step - loss: 40.7005 - mae: 32.3717\n",
            "Epoch 415/500\n",
            "2/2 [==============================] - 0s 11ms/step - loss: 40.6387 - mae: 33.9387\n",
            "Epoch 416/500\n",
            "2/2 [==============================] - 0s 12ms/step - loss: 40.6422 - mae: 35.0563\n",
            "Epoch 417/500\n",
            "2/2 [==============================] - 0s 9ms/step - loss: 40.6194 - mae: 35.4821\n",
            "Epoch 418/500\n",
            "2/2 [==============================] - 0s 8ms/step - loss: 40.6249 - mae: 35.2501\n",
            "Epoch 419/500\n",
            "2/2 [==============================] - 0s 7ms/step - loss: 40.3739 - mae: 35.4852\n",
            "Epoch 420/500\n",
            "2/2 [==============================] - 0s 8ms/step - loss: 40.6385 - mae: 33.3216\n",
            "Epoch 421/500\n",
            "2/2 [==============================] - 0s 9ms/step - loss: 40.5807 - mae: 34.6449\n",
            "Epoch 422/500\n",
            "2/2 [==============================] - 0s 7ms/step - loss: 40.4879 - mae: 35.0811\n",
            "Epoch 423/500\n",
            "2/2 [==============================] - 0s 8ms/step - loss: 40.6722 - mae: 34.5013\n",
            "Epoch 424/500\n",
            "2/2 [==============================] - 0s 9ms/step - loss: 40.5288 - mae: 35.1148\n",
            "Epoch 425/500\n",
            "2/2 [==============================] - 0s 9ms/step - loss: 40.6759 - mae: 34.4150\n",
            "Epoch 426/500\n",
            "2/2 [==============================] - 0s 9ms/step - loss: 40.3918 - mae: 34.1158\n",
            "Epoch 427/500\n",
            "2/2 [==============================] - 0s 10ms/step - loss: 40.6711 - mae: 34.3019\n",
            "Epoch 428/500\n",
            "2/2 [==============================] - 0s 13ms/step - loss: 40.4511 - mae: 34.6645\n",
            "Epoch 429/500\n",
            "2/2 [==============================] - 0s 13ms/step - loss: 40.2441 - mae: 33.8183\n",
            "Epoch 430/500\n",
            "2/2 [==============================] - 0s 8ms/step - loss: 40.8560 - mae: 29.8822\n",
            "Epoch 431/500\n",
            "2/2 [==============================] - 0s 10ms/step - loss: 40.6647 - mae: 31.2290\n",
            "Epoch 432/500\n",
            "2/2 [==============================] - 0s 9ms/step - loss: 40.7585 - mae: 31.5874\n",
            "Epoch 433/500\n",
            "2/2 [==============================] - 0s 8ms/step - loss: 40.1697 - mae: 33.0726\n",
            "Epoch 434/500\n",
            "2/2 [==============================] - 0s 8ms/step - loss: 41.0718 - mae: 30.0226\n",
            "Epoch 435/500\n",
            "2/2 [==============================] - 0s 9ms/step - loss: 39.8140 - mae: 32.3027\n",
            "Epoch 436/500\n",
            "2/2 [==============================] - 0s 10ms/step - loss: 41.4177 - mae: 26.1382\n",
            "Epoch 437/500\n",
            "2/2 [==============================] - 0s 11ms/step - loss: 41.1600 - mae: 27.9482\n",
            "Epoch 438/500\n",
            "2/2 [==============================] - 0s 9ms/step - loss: 39.7015 - mae: 32.4744\n",
            "Epoch 439/500\n",
            "2/2 [==============================] - 0s 9ms/step - loss: 41.1487 - mae: 25.7716\n",
            "Epoch 440/500\n",
            "2/2 [==============================] - 0s 9ms/step - loss: 41.0846 - mae: 26.0956\n",
            "Epoch 441/500\n",
            "2/2 [==============================] - 0s 10ms/step - loss: 41.1680 - mae: 27.0598\n",
            "Epoch 442/500\n",
            "2/2 [==============================] - 0s 9ms/step - loss: 41.1500 - mae: 28.9216\n",
            "Epoch 443/500\n",
            "2/2 [==============================] - 0s 11ms/step - loss: 40.9044 - mae: 30.9886\n",
            "Epoch 444/500\n",
            "2/2 [==============================] - 0s 11ms/step - loss: 40.2372 - mae: 31.9369\n",
            "Epoch 445/500\n",
            "2/2 [==============================] - 0s 9ms/step - loss: 40.7319 - mae: 33.5372\n",
            "Epoch 446/500\n",
            "2/2 [==============================] - 0s 10ms/step - loss: 40.3430 - mae: 33.1897\n",
            "Epoch 447/500\n",
            "2/2 [==============================] - 0s 8ms/step - loss: 40.3151 - mae: 34.2041\n",
            "Epoch 448/500\n",
            "2/2 [==============================] - 0s 9ms/step - loss: 40.6575 - mae: 34.8315\n",
            "Epoch 449/500\n",
            "2/2 [==============================] - 0s 9ms/step - loss: 40.6182 - mae: 34.8555\n",
            "Epoch 450/500\n",
            "2/2 [==============================] - 0s 9ms/step - loss: 40.6030 - mae: 35.1741\n",
            "Epoch 451/500\n",
            "2/2 [==============================] - 0s 9ms/step - loss: 39.9834 - mae: 35.5422\n",
            "Epoch 452/500\n",
            "2/2 [==============================] - 0s 9ms/step - loss: 40.8162 - mae: 31.0917\n",
            "Epoch 453/500\n",
            "2/2 [==============================] - 0s 8ms/step - loss: 40.9090 - mae: 29.6342\n",
            "Epoch 454/500\n",
            "2/2 [==============================] - 0s 9ms/step - loss: 40.8901 - mae: 30.6703\n",
            "Epoch 455/500\n",
            "2/2 [==============================] - 0s 9ms/step - loss: 40.7138 - mae: 31.9641\n",
            "Epoch 456/500\n",
            "2/2 [==============================] - 0s 8ms/step - loss: 40.6647 - mae: 33.3864\n",
            "Epoch 457/500\n",
            "2/2 [==============================] - 0s 8ms/step - loss: 40.5921 - mae: 33.6675\n",
            "Epoch 458/500\n",
            "2/2 [==============================] - 0s 9ms/step - loss: 40.1838 - mae: 34.5095\n",
            "Epoch 459/500\n",
            "2/2 [==============================] - 0s 8ms/step - loss: 40.7859 - mae: 31.8921\n",
            "Epoch 460/500\n",
            "2/2 [==============================] - 0s 8ms/step - loss: 40.7706 - mae: 32.6520\n",
            "Epoch 461/500\n",
            "2/2 [==============================] - 0s 8ms/step - loss: 40.6619 - mae: 33.5420\n",
            "Epoch 462/500\n",
            "2/2 [==============================] - 0s 8ms/step - loss: 40.6645 - mae: 34.1685\n",
            "Epoch 463/500\n",
            "2/2 [==============================] - 0s 10ms/step - loss: 40.5985 - mae: 34.6836\n",
            "Epoch 464/500\n",
            "2/2 [==============================] - 0s 9ms/step - loss: 40.4287 - mae: 35.2997\n",
            "Epoch 465/500\n",
            "2/2 [==============================] - 0s 8ms/step - loss: 40.4112 - mae: 35.4035\n",
            "Epoch 466/500\n",
            "2/2 [==============================] - 0s 9ms/step - loss: 40.5742 - mae: 35.5341\n",
            "Epoch 467/500\n",
            "2/2 [==============================] - 0s 12ms/step - loss: 40.6545 - mae: 35.0104\n",
            "Epoch 468/500\n",
            "2/2 [==============================] - 0s 11ms/step - loss: 40.5434 - mae: 34.8500\n",
            "Epoch 469/500\n",
            "2/2 [==============================] - 0s 10ms/step - loss: 40.6453 - mae: 34.1178\n",
            "Epoch 470/500\n",
            "2/2 [==============================] - 0s 8ms/step - loss: 40.6395 - mae: 34.3106\n",
            "Epoch 471/500\n",
            "2/2 [==============================] - 0s 9ms/step - loss: 40.5403 - mae: 34.7424\n",
            "Epoch 472/500\n",
            "2/2 [==============================] - 0s 8ms/step - loss: 40.6054 - mae: 35.2883\n",
            "Epoch 473/500\n",
            "2/2 [==============================] - 0s 9ms/step - loss: 40.4710 - mae: 35.9886\n",
            "Epoch 474/500\n",
            "2/2 [==============================] - 0s 12ms/step - loss: 40.5723 - mae: 34.5432\n",
            "Epoch 475/500\n",
            "2/2 [==============================] - 0s 12ms/step - loss: 40.2371 - mae: 34.4382\n",
            "Epoch 476/500\n",
            "2/2 [==============================] - 0s 8ms/step - loss: 40.4615 - mae: 35.0803\n",
            "Epoch 477/500\n",
            "2/2 [==============================] - 0s 10ms/step - loss: 40.6684 - mae: 33.4369\n",
            "Epoch 478/500\n",
            "2/2 [==============================] - 0s 9ms/step - loss: 40.2808 - mae: 32.8144\n",
            "Epoch 479/500\n",
            "2/2 [==============================] - 0s 9ms/step - loss: 40.6732 - mae: 33.4417\n",
            "Epoch 480/500\n",
            "2/2 [==============================] - 0s 9ms/step - loss: 40.7060 - mae: 32.9428\n",
            "Epoch 481/500\n",
            "2/2 [==============================] - 0s 8ms/step - loss: 40.6131 - mae: 33.6283\n",
            "Epoch 482/500\n",
            "2/2 [==============================] - 0s 8ms/step - loss: 40.6409 - mae: 33.3191\n",
            "Epoch 483/500\n",
            "2/2 [==============================] - 0s 9ms/step - loss: 40.3596 - mae: 33.8893\n",
            "Epoch 484/500\n",
            "2/2 [==============================] - 0s 9ms/step - loss: 39.9463 - mae: 31.2665\n",
            "Epoch 485/500\n",
            "2/2 [==============================] - 0s 8ms/step - loss: 40.7070 - mae: 31.8022\n",
            "Epoch 486/500\n",
            "2/2 [==============================] - 0s 8ms/step - loss: 39.9177 - mae: 32.3174\n",
            "Epoch 487/500\n",
            "2/2 [==============================] - 0s 10ms/step - loss: 40.6203 - mae: 32.8894\n",
            "Epoch 488/500\n",
            "2/2 [==============================] - 0s 8ms/step - loss: 39.8411 - mae: 31.9745\n",
            "Epoch 489/500\n",
            "2/2 [==============================] - 0s 9ms/step - loss: 40.4917 - mae: 32.0455\n",
            "Epoch 490/500\n",
            "2/2 [==============================] - 0s 9ms/step - loss: 40.6593 - mae: 34.0185\n",
            "Epoch 491/500\n",
            "2/2 [==============================] - 0s 11ms/step - loss: 40.6487 - mae: 34.5699\n",
            "Epoch 492/500\n",
            "2/2 [==============================] - 0s 7ms/step - loss: 40.6264 - mae: 34.2494\n",
            "Epoch 493/500\n",
            "2/2 [==============================] - 0s 8ms/step - loss: 40.5280 - mae: 34.5193\n",
            "Epoch 494/500\n",
            "2/2 [==============================] - 0s 9ms/step - loss: 40.1794 - mae: 34.8815\n",
            "Epoch 495/500\n",
            "2/2 [==============================] - 0s 9ms/step - loss: 40.5504 - mae: 35.0563\n",
            "Epoch 496/500\n",
            "2/2 [==============================] - 0s 8ms/step - loss: 40.5783 - mae: 35.1253\n",
            "Epoch 497/500\n",
            "2/2 [==============================] - 0s 8ms/step - loss: 40.2605 - mae: 35.3551\n",
            "Epoch 498/500\n",
            "2/2 [==============================] - 0s 9ms/step - loss: 40.8587 - mae: 32.2113\n",
            "Epoch 499/500\n",
            "2/2 [==============================] - 0s 9ms/step - loss: 40.6125 - mae: 32.3342\n",
            "Epoch 500/500\n",
            "2/2 [==============================] - 0s 8ms/step - loss: 39.7499 - mae: 32.3619\n"
          ]
        },
        {
          "output_type": "execute_result",
          "data": {
            "text/plain": [
              "<keras.src.callbacks.History at 0x7c3cb4ac3070>"
            ]
          },
          "metadata": {},
          "execution_count": 59
        }
      ]
    },
    {
      "cell_type": "code",
      "source": [
        "# Make and plot some predictions\n",
        "\n",
        "y_preds_3 = model_3.predict(x_test)\n",
        "plot_predictions(predictions = y_preds_3)"
      ],
      "metadata": {
        "colab": {
          "base_uri": "https://localhost:8080/",
          "height": 502
        },
        "id": "uKfdkv17FlEB",
        "outputId": "dd5a26cf-c12d-4e27-a1c9-34211195a03d"
      },
      "execution_count": 60,
      "outputs": [
        {
          "output_type": "stream",
          "name": "stdout",
          "text": [
            "1/1 [==============================] - 0s 93ms/step\n"
          ]
        },
        {
          "output_type": "display_data",
          "data": {
            "text/plain": [
              "<Figure size 1000x700 with 1 Axes>"
            ],
            "image/png": "[encoded data removed]"
          },
          "metadata": {}
        }
      ]
    },
    {
      "cell_type": "code",
      "source": [
        "# Calculate model_3 evaluation metrics\n",
        "\n",
        "mae_3 = mae(y_test, y_preds_3)\n",
        "mse_3 = mse(y_test, y_preds_3)\n",
        "mae_3, mse_3"
      ],
      "metadata": {
        "colab": {
          "base_uri": "https://localhost:8080/"
        },
        "id": "AZTlLn1rGIGp",
        "outputId": "6ab4cf8b-8cd1-4f47-d0e3-0e24e4bf11d5"
      },
      "execution_count": 61,
      "outputs": [
        {
          "output_type": "execute_result",
          "data": {
            "text/plain": [
              "(<tf.Tensor: shape=(), dtype=float32, numpy=64.037415>,\n",
              " <tf.Tensor: shape=(), dtype=float32, numpy=4161.0723>)"
            ]
          },
          "metadata": {},
          "execution_count": 61
        }
      ]
    },
    {
      "cell_type": "markdown",
      "source": [
        "## Comparing the results of out experiments\n",
        "\n"
      ],
      "metadata": {
        "id": "AAy24eLdG11d"
      }
    },
    {
      "cell_type": "code",
      "source": [
        "# Lets compare our models result using a pandas DataFrame\n",
        "\n",
        "import pandas as pd\n",
        "\n",
        "model_results = [[\"model_1\", mae_1.numpy(), mse_1.numpy()],\n",
        "                [\"model_2\", mae_2.numpy(), mse_2.numpy()],\n",
        "                [\"model_3\", mae_3.numpy(), mse_3]]\n",
        "\n",
        "all_results = pd.DataFrame(model_results, columns=[\"model\", \"mae\", \"mse\"])\n",
        "all_results\n"
      ],
      "metadata": {
        "colab": {
          "base_uri": "https://localhost:8080/",
          "height": 144
        },
        "id": "Eyz6kizfeNiv",
        "outputId": "96527b59-45ac-4e31-80d5-4113f6c04a2b"
      },
      "execution_count": 62,
      "outputs": [
        {
          "output_type": "execute_result",
          "data": {
            "text/plain": [
              "     model        mae                                            mse\n",
              "0  model_1  30.628735                                     948.519165\n",
              "1  model_2  45.390072                                    2087.098145\n",
              "2  model_3  64.037415  tf.Tensor(4161.0723, shape=(), dtype=float32)"
            ],
            "text/html": [
              "\n",
              "  <div id=\"df-bfc0eedd-2de4-45b1-836f-05ee2625aa62\" class=\"colab-df-container\">\n",
              "    <div>\n",
              "<style scoped>\n",
              "    .dataframe tbody tr th:only-of-type {\n",
              "        vertical-align: middle;\n",
              "    }\n",
              "\n",
              "    .dataframe tbody tr th {\n",
              "        vertical-align: top;\n",
              "    }\n",
              "\n",
              "    .dataframe thead th {\n",
              "        text-align: right;\n",
              "    }\n",
              "</style>\n",
              "<table border=\"1\" class=\"dataframe\">\n",
              "  <thead>\n",
              "    <tr style=\"text-align: right;\">\n",
              "      <th></th>\n",
              "      <th>model</th>\n",
              "      <th>mae</th>\n",
              "      <th>mse</th>\n",
              "    </tr>\n",
              "  </thead>\n",
              "  <tbody>\n",
              "    <tr>\n",
              "      <th>0</th>\n",
              "      <td>model_1</td>\n",
              "      <td>30.628735</td>\n",
              "      <td>948.519165</td>\n",
              "    </tr>\n",
              "    <tr>\n",
              "      <th>1</th>\n",
              "      <td>model_2</td>\n",
              "      <td>45.390072</td>\n",
              "      <td>2087.098145</td>\n",
              "    </tr>\n",
              "    <tr>\n",
              "      <th>2</th>\n",
              "      <td>model_3</td>\n",
              "      <td>64.037415</td>\n",
              "      <td>tf.Tensor(4161.0723, shape=(), dtype=float32)</td>\n",
              "    </tr>\n",
              "  </tbody>\n",
              "</table>\n",
              "</div>\n",
              "    <div class=\"colab-df-buttons\">\n",
              "\n",
              "  <div class=\"colab-df-container\">\n",
              "    <button class=\"colab-df-convert\" onclick=\"convertToInteractive('df-bfc0eedd-2de4-45b1-836f-05ee2625aa62')\"\n",
              "            title=\"Convert this dataframe to an interactive table.\"\n",
              "            style=\"display:none;\">\n",
              "\n",
              "  <svg xmlns=\"http://www.w3.org/2000/svg\" height=\"24px\" viewBox=\"0 -960 960 960\">\n",
              "    <path d=\"M120-120v-720h720v720H120Zm60-500h600v-160H180v160Zm220 220h160v-160H400v160Zm0 220h160v-160H400v160ZM180-400h160v-160H180v160Zm440 0h160v-160H620v160ZM180-180h160v-160H180v160Zm440 0h160v-160H620v160Z\"/>\n",
              "  </svg>\n",
              "    </button>\n",
              "\n",
              "  <style>\n",
              "    .colab-df-container {\n",
              "      display:flex;\n",
              "      gap: 12px;\n",
              "    }\n",
              "\n",
              "    .colab-df-convert {\n",
              "      background-color: #E8F0FE;\n",
              "      border: none;\n",
              "      border-radius: 50%;\n",
              "      cursor: pointer;\n",
              "      display: none;\n",
              "      fill: #1967D2;\n",
              "      height: 32px;\n",
              "      padding: 0 0 0 0;\n",
              "      width: 32px;\n",
              "    }\n",
              "\n",
              "    .colab-df-convert:hover {\n",
              "      background-color: #E2EBFA;\n",
              "      box-shadow: 0px 1px 2px rgba(60, 64, 67, 0.3), 0px 1px 3px 1px rgba(60, 64, 67, 0.15);\n",
              "      fill: #174EA6;\n",
              "    }\n",
              "\n",
              "    .colab-df-buttons div {\n",
              "      margin-bottom: 4px;\n",
              "    }\n",
              "\n",
              "    [theme=dark] .colab-df-convert {\n",
              "      background-color: #3B4455;\n",
              "      fill: #D2E3FC;\n",
              "    }\n",
              "\n",
              "    [theme=dark] .colab-df-convert:hover {\n",
              "      background-color: #434B5C;\n",
              "      box-shadow: 0px 1px 3px 1px rgba(0, 0, 0, 0.15);\n",
              "      filter: drop-shadow(0px 1px 2px rgba(0, 0, 0, 0.3));\n",
              "      fill: #FFFFFF;\n",
              "    }\n",
              "  </style>\n",
              "\n",
              "    <script>\n",
              "      const buttonEl =\n",
              "        document.querySelector('#df-bfc0eedd-2de4-45b1-836f-05ee2625aa62 button.colab-df-convert');\n",
              "      buttonEl.style.display =\n",
              "        google.colab.kernel.accessAllowed ? 'block' : 'none';\n",
              "\n",
              "      async function convertToInteractive(key) {\n",
              "        const element = document.querySelector('#df-bfc0eedd-2de4-45b1-836f-05ee2625aa62');\n",
              "        const dataTable =\n",
              "          await google.colab.kernel.invokeFunction('convertToInteractive',\n",
              "                                                    [key], {});\n",
              "        if (!dataTable) return;\n",
              "\n",
              "        const docLinkHtml = 'Like what you see? Visit the ' +\n",
              "          '<a target=\"_blank\" href=https://colab.research.google.com/notebooks/data_table.ipynb>data table notebook</a>'\n",
              "          + ' to learn more about interactive tables.';\n",
              "        element.innerHTML = '';\n",
              "        dataTable['output_type'] = 'display_data';\n",
              "        await google.colab.output.renderOutput(dataTable, element);\n",
              "        const docLink = document.createElement('div');\n",
              "        docLink.innerHTML = docLinkHtml;\n",
              "        element.appendChild(docLink);\n",
              "      }\n",
              "    </script>\n",
              "  </div>\n",
              "\n",
              "\n",
              "<div id=\"df-132bedb8-452e-4681-b5c3-d082717d4a73\">\n",
              "  <button class=\"colab-df-quickchart\" onclick=\"quickchart('df-132bedb8-452e-4681-b5c3-d082717d4a73')\"\n",
              "            title=\"Suggest charts\"\n",
              "            style=\"display:none;\">\n",
              "\n",
              "<svg xmlns=\"http://www.w3.org/2000/svg\" height=\"24px\"viewBox=\"0 0 24 24\"\n",
              "     width=\"24px\">\n",
              "    <g>\n",
              "        <path d=\"M19 3H5c-1.1 0-2 .9-2 2v14c0 1.1.9 2 2 2h14c1.1 0 2-.9 2-2V5c0-1.1-.9-2-2-2zM9 17H7v-7h2v7zm4 0h-2V7h2v10zm4 0h-2v-4h2v4z\"/>\n",
              "    </g>\n",
              "</svg>\n",
              "  </button>\n",
              "\n",
              "<style>\n",
              "  .colab-df-quickchart {\n",
              "      --bg-color: #E8F0FE;\n",
              "      --fill-color: #1967D2;\n",
              "      --hover-bg-color: #E2EBFA;\n",
              "      --hover-fill-color: #174EA6;\n",
              "      --disabled-fill-color: #AAA;\n",
              "      --disabled-bg-color: #DDD;\n",
              "  }\n",
              "\n",
              "  [theme=dark] .colab-df-quickchart {\n",
              "      --bg-color: #3B4455;\n",
              "      --fill-color: #D2E3FC;\n",
              "      --hover-bg-color: #434B5C;\n",
              "      --hover-fill-color: #FFFFFF;\n",
              "      --disabled-bg-color: #3B4455;\n",
              "      --disabled-fill-color: #666;\n",
              "  }\n",
              "\n",
              "  .colab-df-quickchart {\n",
              "    background-color: var(--bg-color);\n",
              "    border: none;\n",
              "    border-radius: 50%;\n",
              "    cursor: pointer;\n",
              "    display: none;\n",
              "    fill: var(--fill-color);\n",
              "    height: 32px;\n",
              "    padding: 0;\n",
              "    width: 32px;\n",
              "  }\n",
              "\n",
              "  .colab-df-quickchart:hover {\n",
              "    background-color: var(--hover-bg-color);\n",
              "    box-shadow: 0 1px 2px rgba(60, 64, 67, 0.3), 0 1px 3px 1px rgba(60, 64, 67, 0.15);\n",
              "    fill: var(--button-hover-fill-color);\n",
              "  }\n",
              "\n",
              "  .colab-df-quickchart-complete:disabled,\n",
              "  .colab-df-quickchart-complete:disabled:hover {\n",
              "    background-color: var(--disabled-bg-color);\n",
              "    fill: var(--disabled-fill-color);\n",
              "    box-shadow: none;\n",
              "  }\n",
              "\n",
              "  .colab-df-spinner {\n",
              "    border: 2px solid var(--fill-color);\n",
              "    border-color: transparent;\n",
              "    border-bottom-color: var(--fill-color);\n",
              "    animation:\n",
              "      spin 1s steps(1) infinite;\n",
              "  }\n",
              "\n",
              "  @keyframes spin {\n",
              "    0% {\n",
              "      border-color: transparent;\n",
              "      border-bottom-color: var(--fill-color);\n",
              "      border-left-color: var(--fill-color);\n",
              "    }\n",
              "    20% {\n",
              "      border-color: transparent;\n",
              "      border-left-color: var(--fill-color);\n",
              "      border-top-color: var(--fill-color);\n",
              "    }\n",
              "    30% {\n",
              "      border-color: transparent;\n",
              "      border-left-color: var(--fill-color);\n",
              "      border-top-color: var(--fill-color);\n",
              "      border-right-color: var(--fill-color);\n",
              "    }\n",
              "    40% {\n",
              "      border-color: transparent;\n",
              "      border-right-color: var(--fill-color);\n",
              "      border-top-color: var(--fill-color);\n",
              "    }\n",
              "    60% {\n",
              "      border-color: transparent;\n",
              "      border-right-color: var(--fill-color);\n",
              "    }\n",
              "    80% {\n",
              "      border-color: transparent;\n",
              "      border-right-color: var(--fill-color);\n",
              "      border-bottom-color: var(--fill-color);\n",
              "    }\n",
              "    90% {\n",
              "      border-color: transparent;\n",
              "      border-bottom-color: var(--fill-color);\n",
              "    }\n",
              "  }\n",
              "</style>\n",
              "\n",
              "  <script>\n",
              "    async function quickchart(key) {\n",
              "      const quickchartButtonEl =\n",
              "        document.querySelector('#' + key + ' button');\n",
              "      quickchartButtonEl.disabled = true;  // To prevent multiple clicks.\n",
              "      quickchartButtonEl.classList.add('colab-df-spinner');\n",
              "      try {\n",
              "        const charts = await google.colab.kernel.invokeFunction(\n",
              "            'suggestCharts', [key], {});\n",
              "      } catch (error) {\n",
              "        console.error('Error during call to suggestCharts:', error);\n",
              "      }\n",
              "      quickchartButtonEl.classList.remove('colab-df-spinner');\n",
              "      quickchartButtonEl.classList.add('colab-df-quickchart-complete');\n",
              "    }\n",
              "    (() => {\n",
              "      let quickchartButtonEl =\n",
              "        document.querySelector('#df-132bedb8-452e-4681-b5c3-d082717d4a73 button');\n",
              "      quickchartButtonEl.style.display =\n",
              "        google.colab.kernel.accessAllowed ? 'block' : 'none';\n",
              "    })();\n",
              "  </script>\n",
              "</div>\n",
              "    </div>\n",
              "  </div>\n"
            ],
            "application/vnd.google.colaboratory.intrinsic+json": {
              "type": "dataframe",
              "variable_name": "all_results",
              "summary": "{\n  \"name\": \"all_results\",\n  \"rows\": 3,\n  \"fields\": [\n    {\n      \"column\": \"model\",\n      \"properties\": {\n        \"dtype\": \"string\",\n        \"num_unique_values\": 3,\n        \"samples\": [\n          \"model_1\",\n          \"model_2\",\n          \"model_3\"\n        ],\n        \"semantic_type\": \"\",\n        \"description\": \"\"\n      }\n    },\n    {\n      \"column\": \"mae\",\n      \"properties\": {\n        \"dtype\": \"float32\",\n        \"num_unique_values\": 3,\n        \"samples\": [\n          30.628734588623047,\n          45.390071868896484,\n          64.03741455078125\n        ],\n        \"semantic_type\": \"\",\n        \"description\": \"\"\n      }\n    },\n    {\n      \"column\": \"mse\",\n      \"properties\": {\n        \"dtype\": \"object\",\n        \"semantic_type\": \"\",\n        \"description\": \"\"\n      }\n    }\n  ]\n}"
            }
          },
          "metadata": {},
          "execution_count": 62
        }
      ]
    },
    {
      "source": [
        "# @title mae\n",
        "# Got Recommendation from gcollab\n",
        "\n",
        "from matplotlib import pyplot as plt\n",
        "all_results['mae'].plot(kind='hist', bins=20, title='mae')\n",
        "plt.gca().spines[['top', 'right',]].set_visible(False)"
      ],
      "cell_type": "code",
      "execution_count": 63,
      "outputs": [
        {
          "output_type": "display_data",
          "data": {
            "text/plain": [
              "<Figure size 640x480 with 1 Axes>"
            ],
            "image/png": "[encoded data removed]"
          },
          "metadata": {}
        }
      ],
      "metadata": {
        "colab": {
          "base_uri": "https://localhost:8080/",
          "height": 452
        },
        "id": "AK8lqoT2f7R1",
        "outputId": "5bb75d46-4925-407f-dc1f-834fb3364698"
      }
    },
    {
      "cell_type": "markdown",
      "source": [
        "🔑**Note :** One of our main goals should be to minimize the time between our experiments. We must try and error"
      ],
      "metadata": {
        "id": "6mam0ajKgXEC"
      }
    },
    {
      "cell_type": "markdown",
      "source": [
        "## Tracking your experiments\n",
        "\n",
        "One really good habit in ml modelling is to track the result of your experiments.\n",
        "\n",
        "Luckly, there are tools to help us!\n",
        "\n",
        "📖**Resource:** As we build more models, we will want to look into using :\n",
        "\n",
        "* TensorBoard - a component of the TensorFlow library to help track modelling experiments\n",
        "* Weights & Biases - a tool for tracking all of kinds of machine learning experiments\n",
        "\n"
      ],
      "metadata": {
        "id": "jCyUYIJrhEbi"
      }
    },
    {
      "cell_type": "markdown",
      "source": [
        "## Saving Our model\n",
        "\n",
        "Saving our model allows us to use them outside of Google collab\n",
        "\n",
        "There are two main formats we can save our model too :\n",
        "1. The SavedModel format\n",
        "2. The HDF5 format"
      ],
      "metadata": {
        "id": "DCh5Gw9x2cEL"
      }
    },
    {
      "cell_type": "code",
      "source": [
        "# Save model using the SavedModel format\n",
        "model_2.save(\"best_model_SavedModel_format\")"
      ],
      "metadata": {
        "id": "GgNAjual2aAU"
      },
      "execution_count": 64,
      "outputs": []
    },
    {
      "cell_type": "code",
      "source": [
        "# Save model using the HDF5 format\n",
        "model_2.save(\"best_model_HDF5_format\")"
      ],
      "metadata": {
        "id": "WUEQU6AH4UiF"
      },
      "execution_count": 65,
      "outputs": []
    },
    {
      "cell_type": "markdown",
      "source": [
        "## Loading in a saved model"
      ],
      "metadata": {
        "id": "JlWRZHYjreP_"
      }
    },
    {
      "cell_type": "code",
      "source": [
        "# Load in the SavedModel format\n",
        "\n",
        "loaded_SavedModel_format = tf.keras.models.load_model(\"/content/best_model_SavedModel_format\")\n",
        "loaded_SavedModel_format.summary()"
      ],
      "metadata": {
        "colab": {
          "base_uri": "https://localhost:8080/"
        },
        "id": "2ZCWOR4Wrosv",
        "outputId": "1b8de40a-6966-4198-caf4-7e221ee94d1a"
      },
      "execution_count": 66,
      "outputs": [
        {
          "output_type": "stream",
          "name": "stdout",
          "text": [
            "Model: \"sequential_6\"\n",
            "_________________________________________________________________\n",
            " Layer (type)                Output Shape              Param #   \n",
            "=================================================================\n",
            " input_layer (Dense)         (None, 70)                140       \n",
            "                                                                 \n",
            " Output_layer (Dense)        (None, 1)                 71        \n",
            "                                                                 \n",
            "=================================================================\n",
            "Total params: 211 (844.00 Byte)\n",
            "Trainable params: 211 (844.00 Byte)\n",
            "Non-trainable params: 0 (0.00 Byte)\n",
            "_________________________________________________________________\n"
          ]
        }
      ]
    },
    {
      "cell_type": "code",
      "source": [
        "model_2 == loaded_SavedModel_format"
      ],
      "metadata": {
        "colab": {
          "base_uri": "https://localhost:8080/"
        },
        "id": "yLoIxTUvsGxF",
        "outputId": "fdfa61b3-5f23-49fd-b1cb-ae1f209b1cf4"
      },
      "execution_count": 67,
      "outputs": [
        {
          "output_type": "execute_result",
          "data": {
            "text/plain": [
              "False"
            ]
          },
          "metadata": {},
          "execution_count": 67
        }
      ]
    },
    {
      "cell_type": "code",
      "source": [
        "# Compare predictions\n",
        "model_2_preds = model_2.predict(x_test)\n",
        "loaded_SavedModel_format_preds = loaded_SavedModel_format.predict(x_test)\n",
        "\n",
        "model_2_preds == loaded_SavedModel_format_preds"
      ],
      "metadata": {
        "colab": {
          "base_uri": "https://localhost:8080/"
        },
        "id": "NN4wwIe1sbEY",
        "outputId": "bc25cd4c-a54b-4334-fc68-419c80112fb4"
      },
      "execution_count": 68,
      "outputs": [
        {
          "output_type": "stream",
          "name": "stdout",
          "text": [
            "1/1 [==============================] - 0s 30ms/step\n",
            "1/1 [==============================] - 0s 56ms/step\n"
          ]
        },
        {
          "output_type": "execute_result",
          "data": {
            "text/plain": [
              "array([[ True],\n",
              "       [ True],\n",
              "       [ True],\n",
              "       [ True],\n",
              "       [ True],\n",
              "       [ True],\n",
              "       [ True],\n",
              "       [ True],\n",
              "       [ True],\n",
              "       [ True]])"
            ]
          },
          "metadata": {},
          "execution_count": 68
        }
      ]
    },
    {
      "cell_type": "code",
      "source": [
        "mae(y_true = y_test, y_pred = model_2_preds) == mae(y_true = y_test, y_pred=loaded_SavedModel_format_preds )"
      ],
      "metadata": {
        "colab": {
          "base_uri": "https://localhost:8080/"
        },
        "id": "4vOzpgEWs4bA",
        "outputId": "45efca74-58bf-4897-a527-e06dda5550db"
      },
      "execution_count": 69,
      "outputs": [
        {
          "output_type": "execute_result",
          "data": {
            "text/plain": [
              "<tf.Tensor: shape=(), dtype=bool, numpy=True>"
            ]
          },
          "metadata": {},
          "execution_count": 69
        }
      ]
    },
    {
      "cell_type": "code",
      "source": [
        "# Load in a model using the h5 format\n",
        "loaded_h5_model = tf.keras.models.load_model(\"/content/best_model_HDF5_format\")\n",
        "loaded_h5_model.summary()"
      ],
      "metadata": {
        "colab": {
          "base_uri": "https://localhost:8080/"
        },
        "id": "HfBpvyUluB-8",
        "outputId": "3a2032e5-8fa7-4eaf-b54e-78e009ebf14d"
      },
      "execution_count": 70,
      "outputs": [
        {
          "output_type": "stream",
          "name": "stdout",
          "text": [
            "Model: \"sequential_6\"\n",
            "_________________________________________________________________\n",
            " Layer (type)                Output Shape              Param #   \n",
            "=================================================================\n",
            " input_layer (Dense)         (None, 70)                140       \n",
            "                                                                 \n",
            " Output_layer (Dense)        (None, 1)                 71        \n",
            "                                                                 \n",
            "=================================================================\n",
            "Total params: 211 (844.00 Byte)\n",
            "Trainable params: 211 (844.00 Byte)\n",
            "Non-trainable params: 0 (0.00 Byte)\n",
            "_________________________________________________________________\n"
          ]
        }
      ]
    },
    {
      "cell_type": "code",
      "source": [
        "# Compare\n",
        "\n",
        "loaded_h5_model_preds = loaded_h5_model.predict(x_test)\n",
        "\n",
        "model_2_preds == loaded_h5_model_preds"
      ],
      "metadata": {
        "colab": {
          "base_uri": "https://localhost:8080/"
        },
        "id": "IBlZi3BwucUl",
        "outputId": "367843d1-b914-4378-8ada-c18166e78270"
      },
      "execution_count": 71,
      "outputs": [
        {
          "output_type": "stream",
          "name": "stdout",
          "text": [
            "1/1 [==============================] - 0s 57ms/step\n"
          ]
        },
        {
          "output_type": "execute_result",
          "data": {
            "text/plain": [
              "array([[ True],\n",
              "       [ True],\n",
              "       [ True],\n",
              "       [ True],\n",
              "       [ True],\n",
              "       [ True],\n",
              "       [ True],\n",
              "       [ True],\n",
              "       [ True],\n",
              "       [ True]])"
            ]
          },
          "metadata": {},
          "execution_count": 71
        }
      ]
    },
    {
      "cell_type": "code",
      "source": [
        "mae(y_true = y_test, y_pred = model_2_preds) == mae(y_true=y_test, y_pred=loaded_h5_model_preds)"
      ],
      "metadata": {
        "colab": {
          "base_uri": "https://localhost:8080/"
        },
        "id": "915O3jbSuuKI",
        "outputId": "62f8bb22-52a6-48a2-d625-f90b9710a014"
      },
      "execution_count": 72,
      "outputs": [
        {
          "output_type": "execute_result",
          "data": {
            "text/plain": [
              "<tf.Tensor: shape=(), dtype=bool, numpy=True>"
            ]
          },
          "metadata": {},
          "execution_count": 72
        }
      ]
    },
    {
      "cell_type": "markdown",
      "source": [
        "## Download a model (or any other file) from Google Colab\n",
        "\n",
        "If you want to download your file from Google Colab :\n",
        "1. You can go to the \"files\" tab and right click on the file youre after and click \"upload\".\n",
        "\n",
        "2. Use code\n",
        "\n",
        "3. Save it to Google Drive by connecting Google Drive and copying it there (see 2nd code cell)"
      ],
      "metadata": {
        "id": "QUSC31vrxNpn"
      }
    },
    {
      "cell_type": "code",
      "source": [
        "# Download a file from Google Colab\n",
        "\n",
        "# from google.colab import files\n",
        "# files.download(\"/content/best_model_HDF5_format\")"
      ],
      "metadata": {
        "id": "8TcUW_yr1w_p"
      },
      "execution_count": 73,
      "outputs": []
    },
    {
      "cell_type": "code",
      "source": [
        "# Save a file from Google colab to Google Drive\n",
        "# !cp /content/best_model_HDF5_format(our model path) _____(our folder file aim)"
      ],
      "metadata": {
        "id": "WSgD3o4e7f7p"
      },
      "execution_count": 74,
      "outputs": []
    },
    {
      "cell_type": "markdown",
      "source": [
        "## A Larger Example"
      ],
      "metadata": {
        "id": "CCRi9SjcjVKV"
      }
    },
    {
      "cell_type": "code",
      "source": [
        "# Import requaired libraries\n",
        "import tensorflow as tf\n",
        "import pandas as pd\n",
        "import matplotlib.pyplot as plt"
      ],
      "metadata": {
        "id": "k9TQZSDtjf7m"
      },
      "execution_count": 75,
      "outputs": []
    },
    {
      "cell_type": "code",
      "source": [
        "# Read in the insurance datatset\n",
        "\n",
        "insurance = pd.read_csv(\"https://raw.githubusercontent.com/stedy/Machine-Learning-with-R-datasets/master/insurance.csv\")"
      ],
      "metadata": {
        "id": "BuTf-1pqko1F"
      },
      "execution_count": 76,
      "outputs": []
    },
    {
      "cell_type": "code",
      "source": [
        "insurance.head(10)"
      ],
      "metadata": {
        "colab": {
          "base_uri": "https://localhost:8080/",
          "height": 363
        },
        "id": "7vygpJnClKsv",
        "outputId": "4f5a4fde-0044-4c40-a5f7-76e1da15d9f1"
      },
      "execution_count": 77,
      "outputs": [
        {
          "output_type": "execute_result",
          "data": {
            "text/plain": [
              "   age     sex     bmi  children smoker     region      charges\n",
              "0   19  female  27.900         0    yes  southwest  16884.92400\n",
              "1   18    male  33.770         1     no  southeast   1725.55230\n",
              "2   28    male  33.000         3     no  southeast   4449.46200\n",
              "3   33    male  22.705         0     no  northwest  21984.47061\n",
              "4   32    male  28.880         0     no  northwest   3866.85520\n",
              "5   31  female  25.740         0     no  southeast   3756.62160\n",
              "6   46  female  33.440         1     no  southeast   8240.58960\n",
              "7   37  female  27.740         3     no  northwest   7281.50560\n",
              "8   37    male  29.830         2     no  northeast   6406.41070\n",
              "9   60  female  25.840         0     no  northwest  28923.13692"
            ],
            "text/html": [
              "\n",
              "  <div id=\"df-0917540f-704e-432a-b2c4-485cf423ebbf\" class=\"colab-df-container\">\n",
              "    <div>\n",
              "<style scoped>\n",
              "    .dataframe tbody tr th:only-of-type {\n",
              "        vertical-align: middle;\n",
              "    }\n",
              "\n",
              "    .dataframe tbody tr th {\n",
              "        vertical-align: top;\n",
              "    }\n",
              "\n",
              "    .dataframe thead th {\n",
              "        text-align: right;\n",
              "    }\n",
              "</style>\n",
              "<table border=\"1\" class=\"dataframe\">\n",
              "  <thead>\n",
              "    <tr style=\"text-align: right;\">\n",
              "      <th></th>\n",
              "      <th>age</th>\n",
              "      <th>sex</th>\n",
              "      <th>bmi</th>\n",
              "      <th>children</th>\n",
              "      <th>smoker</th>\n",
              "      <th>region</th>\n",
              "      <th>charges</th>\n",
              "    </tr>\n",
              "  </thead>\n",
              "  <tbody>\n",
              "    <tr>\n",
              "      <th>0</th>\n",
              "      <td>19</td>\n",
              "      <td>female</td>\n",
              "      <td>27.900</td>\n",
              "      <td>0</td>\n",
              "      <td>yes</td>\n",
              "      <td>southwest</td>\n",
              "      <td>16884.92400</td>\n",
              "    </tr>\n",
              "    <tr>\n",
              "      <th>1</th>\n",
              "      <td>18</td>\n",
              "      <td>male</td>\n",
              "      <td>33.770</td>\n",
              "      <td>1</td>\n",
              "      <td>no</td>\n",
              "      <td>southeast</td>\n",
              "      <td>1725.55230</td>\n",
              "    </tr>\n",
              "    <tr>\n",
              "      <th>2</th>\n",
              "      <td>28</td>\n",
              "      <td>male</td>\n",
              "      <td>33.000</td>\n",
              "      <td>3</td>\n",
              "      <td>no</td>\n",
              "      <td>southeast</td>\n",
              "      <td>4449.46200</td>\n",
              "    </tr>\n",
              "    <tr>\n",
              "      <th>3</th>\n",
              "      <td>33</td>\n",
              "      <td>male</td>\n",
              "      <td>22.705</td>\n",
              "      <td>0</td>\n",
              "      <td>no</td>\n",
              "      <td>northwest</td>\n",
              "      <td>21984.47061</td>\n",
              "    </tr>\n",
              "    <tr>\n",
              "      <th>4</th>\n",
              "      <td>32</td>\n",
              "      <td>male</td>\n",
              "      <td>28.880</td>\n",
              "      <td>0</td>\n",
              "      <td>no</td>\n",
              "      <td>northwest</td>\n",
              "      <td>3866.85520</td>\n",
              "    </tr>\n",
              "    <tr>\n",
              "      <th>5</th>\n",
              "      <td>31</td>\n",
              "      <td>female</td>\n",
              "      <td>25.740</td>\n",
              "      <td>0</td>\n",
              "      <td>no</td>\n",
              "      <td>southeast</td>\n",
              "      <td>3756.62160</td>\n",
              "    </tr>\n",
              "    <tr>\n",
              "      <th>6</th>\n",
              "      <td>46</td>\n",
              "      <td>female</td>\n",
              "      <td>33.440</td>\n",
              "      <td>1</td>\n",
              "      <td>no</td>\n",
              "      <td>southeast</td>\n",
              "      <td>8240.58960</td>\n",
              "    </tr>\n",
              "    <tr>\n",
              "      <th>7</th>\n",
              "      <td>37</td>\n",
              "      <td>female</td>\n",
              "      <td>27.740</td>\n",
              "      <td>3</td>\n",
              "      <td>no</td>\n",
              "      <td>northwest</td>\n",
              "      <td>7281.50560</td>\n",
              "    </tr>\n",
              "    <tr>\n",
              "      <th>8</th>\n",
              "      <td>37</td>\n",
              "      <td>male</td>\n",
              "      <td>29.830</td>\n",
              "      <td>2</td>\n",
              "      <td>no</td>\n",
              "      <td>northeast</td>\n",
              "      <td>6406.41070</td>\n",
              "    </tr>\n",
              "    <tr>\n",
              "      <th>9</th>\n",
              "      <td>60</td>\n",
              "      <td>female</td>\n",
              "      <td>25.840</td>\n",
              "      <td>0</td>\n",
              "      <td>no</td>\n",
              "      <td>northwest</td>\n",
              "      <td>28923.13692</td>\n",
              "    </tr>\n",
              "  </tbody>\n",
              "</table>\n",
              "</div>\n",
              "    <div class=\"colab-df-buttons\">\n",
              "\n",
              "  <div class=\"colab-df-container\">\n",
              "    <button class=\"colab-df-convert\" onclick=\"convertToInteractive('df-0917540f-704e-432a-b2c4-485cf423ebbf')\"\n",
              "            title=\"Convert this dataframe to an interactive table.\"\n",
              "            style=\"display:none;\">\n",
              "\n",
              "  <svg xmlns=\"http://www.w3.org/2000/svg\" height=\"24px\" viewBox=\"0 -960 960 960\">\n",
              "    <path d=\"M120-120v-720h720v720H120Zm60-500h600v-160H180v160Zm220 220h160v-160H400v160Zm0 220h160v-160H400v160ZM180-400h160v-160H180v160Zm440 0h160v-160H620v160ZM180-180h160v-160H180v160Zm440 0h160v-160H620v160Z\"/>\n",
              "  </svg>\n",
              "    </button>\n",
              "\n",
              "  <style>\n",
              "    .colab-df-container {\n",
              "      display:flex;\n",
              "      gap: 12px;\n",
              "    }\n",
              "\n",
              "    .colab-df-convert {\n",
              "      background-color: #E8F0FE;\n",
              "      border: none;\n",
              "      border-radius: 50%;\n",
              "      cursor: pointer;\n",
              "      display: none;\n",
              "      fill: #1967D2;\n",
              "      height: 32px;\n",
              "      padding: 0 0 0 0;\n",
              "      width: 32px;\n",
              "    }\n",
              "\n",
              "    .colab-df-convert:hover {\n",
              "      background-color: #E2EBFA;\n",
              "      box-shadow: 0px 1px 2px rgba(60, 64, 67, 0.3), 0px 1px 3px 1px rgba(60, 64, 67, 0.15);\n",
              "      fill: #174EA6;\n",
              "    }\n",
              "\n",
              "    .colab-df-buttons div {\n",
              "      margin-bottom: 4px;\n",
              "    }\n",
              "\n",
              "    [theme=dark] .colab-df-convert {\n",
              "      background-color: #3B4455;\n",
              "      fill: #D2E3FC;\n",
              "    }\n",
              "\n",
              "    [theme=dark] .colab-df-convert:hover {\n",
              "      background-color: #434B5C;\n",
              "      box-shadow: 0px 1px 3px 1px rgba(0, 0, 0, 0.15);\n",
              "      filter: drop-shadow(0px 1px 2px rgba(0, 0, 0, 0.3));\n",
              "      fill: #FFFFFF;\n",
              "    }\n",
              "  </style>\n",
              "\n",
              "    <script>\n",
              "      const buttonEl =\n",
              "        document.querySelector('#df-0917540f-704e-432a-b2c4-485cf423ebbf button.colab-df-convert');\n",
              "      buttonEl.style.display =\n",
              "        google.colab.kernel.accessAllowed ? 'block' : 'none';\n",
              "\n",
              "      async function convertToInteractive(key) {\n",
              "        const element = document.querySelector('#df-0917540f-704e-432a-b2c4-485cf423ebbf');\n",
              "        const dataTable =\n",
              "          await google.colab.kernel.invokeFunction('convertToInteractive',\n",
              "                                                    [key], {});\n",
              "        if (!dataTable) return;\n",
              "\n",
              "        const docLinkHtml = 'Like what you see? Visit the ' +\n",
              "          '<a target=\"_blank\" href=https://colab.research.google.com/notebooks/data_table.ipynb>data table notebook</a>'\n",
              "          + ' to learn more about interactive tables.';\n",
              "        element.innerHTML = '';\n",
              "        dataTable['output_type'] = 'display_data';\n",
              "        await google.colab.output.renderOutput(dataTable, element);\n",
              "        const docLink = document.createElement('div');\n",
              "        docLink.innerHTML = docLinkHtml;\n",
              "        element.appendChild(docLink);\n",
              "      }\n",
              "    </script>\n",
              "  </div>\n",
              "\n",
              "\n",
              "<div id=\"df-9b667be2-9542-4b24-b7e1-5fe6e554fe1e\">\n",
              "  <button class=\"colab-df-quickchart\" onclick=\"quickchart('df-9b667be2-9542-4b24-b7e1-5fe6e554fe1e')\"\n",
              "            title=\"Suggest charts\"\n",
              "            style=\"display:none;\">\n",
              "\n",
              "<svg xmlns=\"http://www.w3.org/2000/svg\" height=\"24px\"viewBox=\"0 0 24 24\"\n",
              "     width=\"24px\">\n",
              "    <g>\n",
              "        <path d=\"M19 3H5c-1.1 0-2 .9-2 2v14c0 1.1.9 2 2 2h14c1.1 0 2-.9 2-2V5c0-1.1-.9-2-2-2zM9 17H7v-7h2v7zm4 0h-2V7h2v10zm4 0h-2v-4h2v4z\"/>\n",
              "    </g>\n",
              "</svg>\n",
              "  </button>\n",
              "\n",
              "<style>\n",
              "  .colab-df-quickchart {\n",
              "      --bg-color: #E8F0FE;\n",
              "      --fill-color: #1967D2;\n",
              "      --hover-bg-color: #E2EBFA;\n",
              "      --hover-fill-color: #174EA6;\n",
              "      --disabled-fill-color: #AAA;\n",
              "      --disabled-bg-color: #DDD;\n",
              "  }\n",
              "\n",
              "  [theme=dark] .colab-df-quickchart {\n",
              "      --bg-color: #3B4455;\n",
              "      --fill-color: #D2E3FC;\n",
              "      --hover-bg-color: #434B5C;\n",
              "      --hover-fill-color: #FFFFFF;\n",
              "      --disabled-bg-color: #3B4455;\n",
              "      --disabled-fill-color: #666;\n",
              "  }\n",
              "\n",
              "  .colab-df-quickchart {\n",
              "    background-color: var(--bg-color);\n",
              "    border: none;\n",
              "    border-radius: 50%;\n",
              "    cursor: pointer;\n",
              "    display: none;\n",
              "    fill: var(--fill-color);\n",
              "    height: 32px;\n",
              "    padding: 0;\n",
              "    width: 32px;\n",
              "  }\n",
              "\n",
              "  .colab-df-quickchart:hover {\n",
              "    background-color: var(--hover-bg-color);\n",
              "    box-shadow: 0 1px 2px rgba(60, 64, 67, 0.3), 0 1px 3px 1px rgba(60, 64, 67, 0.15);\n",
              "    fill: var(--button-hover-fill-color);\n",
              "  }\n",
              "\n",
              "  .colab-df-quickchart-complete:disabled,\n",
              "  .colab-df-quickchart-complete:disabled:hover {\n",
              "    background-color: var(--disabled-bg-color);\n",
              "    fill: var(--disabled-fill-color);\n",
              "    box-shadow: none;\n",
              "  }\n",
              "\n",
              "  .colab-df-spinner {\n",
              "    border: 2px solid var(--fill-color);\n",
              "    border-color: transparent;\n",
              "    border-bottom-color: var(--fill-color);\n",
              "    animation:\n",
              "      spin 1s steps(1) infinite;\n",
              "  }\n",
              "\n",
              "  @keyframes spin {\n",
              "    0% {\n",
              "      border-color: transparent;\n",
              "      border-bottom-color: var(--fill-color);\n",
              "      border-left-color: var(--fill-color);\n",
              "    }\n",
              "    20% {\n",
              "      border-color: transparent;\n",
              "      border-left-color: var(--fill-color);\n",
              "      border-top-color: var(--fill-color);\n",
              "    }\n",
              "    30% {\n",
              "      border-color: transparent;\n",
              "      border-left-color: var(--fill-color);\n",
              "      border-top-color: var(--fill-color);\n",
              "      border-right-color: var(--fill-color);\n",
              "    }\n",
              "    40% {\n",
              "      border-color: transparent;\n",
              "      border-right-color: var(--fill-color);\n",
              "      border-top-color: var(--fill-color);\n",
              "    }\n",
              "    60% {\n",
              "      border-color: transparent;\n",
              "      border-right-color: var(--fill-color);\n",
              "    }\n",
              "    80% {\n",
              "      border-color: transparent;\n",
              "      border-right-color: var(--fill-color);\n",
              "      border-bottom-color: var(--fill-color);\n",
              "    }\n",
              "    90% {\n",
              "      border-color: transparent;\n",
              "      border-bottom-color: var(--fill-color);\n",
              "    }\n",
              "  }\n",
              "</style>\n",
              "\n",
              "  <script>\n",
              "    async function quickchart(key) {\n",
              "      const quickchartButtonEl =\n",
              "        document.querySelector('#' + key + ' button');\n",
              "      quickchartButtonEl.disabled = true;  // To prevent multiple clicks.\n",
              "      quickchartButtonEl.classList.add('colab-df-spinner');\n",
              "      try {\n",
              "        const charts = await google.colab.kernel.invokeFunction(\n",
              "            'suggestCharts', [key], {});\n",
              "      } catch (error) {\n",
              "        console.error('Error during call to suggestCharts:', error);\n",
              "      }\n",
              "      quickchartButtonEl.classList.remove('colab-df-spinner');\n",
              "      quickchartButtonEl.classList.add('colab-df-quickchart-complete');\n",
              "    }\n",
              "    (() => {\n",
              "      let quickchartButtonEl =\n",
              "        document.querySelector('#df-9b667be2-9542-4b24-b7e1-5fe6e554fe1e button');\n",
              "      quickchartButtonEl.style.display =\n",
              "        google.colab.kernel.accessAllowed ? 'block' : 'none';\n",
              "    })();\n",
              "  </script>\n",
              "</div>\n",
              "    </div>\n",
              "  </div>\n"
            ],
            "application/vnd.google.colaboratory.intrinsic+json": {
              "type": "dataframe",
              "variable_name": "insurance",
              "summary": "{\n  \"name\": \"insurance\",\n  \"rows\": 1338,\n  \"fields\": [\n    {\n      \"column\": \"age\",\n      \"properties\": {\n        \"dtype\": \"number\",\n        \"std\": 14,\n        \"min\": 18,\n        \"max\": 64,\n        \"num_unique_values\": 47,\n        \"samples\": [\n          21,\n          45,\n          36\n        ],\n        \"semantic_type\": \"\",\n        \"description\": \"\"\n      }\n    },\n    {\n      \"column\": \"sex\",\n      \"properties\": {\n        \"dtype\": \"category\",\n        \"num_unique_values\": 2,\n        \"samples\": [\n          \"male\",\n          \"female\"\n        ],\n        \"semantic_type\": \"\",\n        \"description\": \"\"\n      }\n    },\n    {\n      \"column\": \"bmi\",\n      \"properties\": {\n        \"dtype\": \"number\",\n        \"std\": 6.098186911679014,\n        \"min\": 15.96,\n        \"max\": 53.13,\n        \"num_unique_values\": 548,\n        \"samples\": [\n          23.18,\n          26.885\n        ],\n        \"semantic_type\": \"\",\n        \"description\": \"\"\n      }\n    },\n    {\n      \"column\": \"children\",\n      \"properties\": {\n        \"dtype\": \"number\",\n        \"std\": 1,\n        \"min\": 0,\n        \"max\": 5,\n        \"num_unique_values\": 6,\n        \"samples\": [\n          0,\n          1\n        ],\n        \"semantic_type\": \"\",\n        \"description\": \"\"\n      }\n    },\n    {\n      \"column\": \"smoker\",\n      \"properties\": {\n        \"dtype\": \"category\",\n        \"num_unique_values\": 2,\n        \"samples\": [\n          \"no\",\n          \"yes\"\n        ],\n        \"semantic_type\": \"\",\n        \"description\": \"\"\n      }\n    },\n    {\n      \"column\": \"region\",\n      \"properties\": {\n        \"dtype\": \"category\",\n        \"num_unique_values\": 4,\n        \"samples\": [\n          \"southeast\",\n          \"northeast\"\n        ],\n        \"semantic_type\": \"\",\n        \"description\": \"\"\n      }\n    },\n    {\n      \"column\": \"charges\",\n      \"properties\": {\n        \"dtype\": \"number\",\n        \"std\": 12110.011236694001,\n        \"min\": 1121.8739,\n        \"max\": 63770.42801,\n        \"num_unique_values\": 1337,\n        \"samples\": [\n          8688.85885,\n          5708.867\n        ],\n        \"semantic_type\": \"\",\n        \"description\": \"\"\n      }\n    }\n  ]\n}"
            }
          },
          "metadata": {},
          "execution_count": 77
        }
      ]
    },
    {
      "cell_type": "code",
      "source": [
        "insurance[\"sex\"]"
      ],
      "metadata": {
        "colab": {
          "base_uri": "https://localhost:8080/"
        },
        "id": "7AGioTdJneGl",
        "outputId": "a080fadf-fd4b-4906-b593-b00e45f6c210"
      },
      "execution_count": 78,
      "outputs": [
        {
          "output_type": "execute_result",
          "data": {
            "text/plain": [
              "0       female\n",
              "1         male\n",
              "2         male\n",
              "3         male\n",
              "4         male\n",
              "         ...  \n",
              "1333      male\n",
              "1334    female\n",
              "1335    female\n",
              "1336    female\n",
              "1337    female\n",
              "Name: sex, Length: 1338, dtype: object"
            ]
          },
          "metadata": {},
          "execution_count": 78
        }
      ]
    },
    {
      "cell_type": "code",
      "source": [
        "insurance[\"age\"]"
      ],
      "metadata": {
        "colab": {
          "base_uri": "https://localhost:8080/"
        },
        "id": "VeNCha2CnqMZ",
        "outputId": "2d2112dd-c62b-4dd7-ccd1-fc2594382ea4"
      },
      "execution_count": 79,
      "outputs": [
        {
          "output_type": "execute_result",
          "data": {
            "text/plain": [
              "0       19\n",
              "1       18\n",
              "2       28\n",
              "3       33\n",
              "4       32\n",
              "        ..\n",
              "1333    50\n",
              "1334    18\n",
              "1335    18\n",
              "1336    21\n",
              "1337    61\n",
              "Name: age, Length: 1338, dtype: int64"
            ]
          },
          "metadata": {},
          "execution_count": 79
        }
      ]
    },
    {
      "cell_type": "code",
      "source": [
        "# OneHot endcode for our non numerical type but using pandas(automaticly)\n",
        "insurance_one_hot = pd.get_dummies(insurance)\n",
        "insurance_one_hot.head()"
      ],
      "metadata": {
        "colab": {
          "base_uri": "https://localhost:8080/",
          "height": 226
        },
        "id": "bGJOoiQ6ns9m",
        "outputId": "dde06de1-a524-4504-ff74-ffb7ec37fed9"
      },
      "execution_count": 80,
      "outputs": [
        {
          "output_type": "execute_result",
          "data": {
            "text/plain": [
              "   age     bmi  children      charges  sex_female  sex_male  smoker_no  \\\n",
              "0   19  27.900         0  16884.92400           1         0          0   \n",
              "1   18  33.770         1   1725.55230           0         1          1   \n",
              "2   28  33.000         3   4449.46200           0         1          1   \n",
              "3   33  22.705         0  21984.47061           0         1          1   \n",
              "4   32  28.880         0   3866.85520           0         1          1   \n",
              "\n",
              "   smoker_yes  region_northeast  region_northwest  region_southeast  \\\n",
              "0           1                 0                 0                 0   \n",
              "1           0                 0                 0                 1   \n",
              "2           0                 0                 0                 1   \n",
              "3           0                 0                 1                 0   \n",
              "4           0                 0                 1                 0   \n",
              "\n",
              "   region_southwest  \n",
              "0                 1  \n",
              "1                 0  \n",
              "2                 0  \n",
              "3                 0  \n",
              "4                 0  "
            ],
            "text/html": [
              "\n",
              "  <div id=\"df-11745af2-ca20-4c60-aa43-e549020eaaa2\" class=\"colab-df-container\">\n",
              "    <div>\n",
              "<style scoped>\n",
              "    .dataframe tbody tr th:only-of-type {\n",
              "        vertical-align: middle;\n",
              "    }\n",
              "\n",
              "    .dataframe tbody tr th {\n",
              "        vertical-align: top;\n",
              "    }\n",
              "\n",
              "    .dataframe thead th {\n",
              "        text-align: right;\n",
              "    }\n",
              "</style>\n",
              "<table border=\"1\" class=\"dataframe\">\n",
              "  <thead>\n",
              "    <tr style=\"text-align: right;\">\n",
              "      <th></th>\n",
              "      <th>age</th>\n",
              "      <th>bmi</th>\n",
              "      <th>children</th>\n",
              "      <th>charges</th>\n",
              "      <th>sex_female</th>\n",
              "      <th>sex_male</th>\n",
              "      <th>smoker_no</th>\n",
              "      <th>smoker_yes</th>\n",
              "      <th>region_northeast</th>\n",
              "      <th>region_northwest</th>\n",
              "      <th>region_southeast</th>\n",
              "      <th>region_southwest</th>\n",
              "    </tr>\n",
              "  </thead>\n",
              "  <tbody>\n",
              "    <tr>\n",
              "      <th>0</th>\n",
              "      <td>19</td>\n",
              "      <td>27.900</td>\n",
              "      <td>0</td>\n",
              "      <td>16884.92400</td>\n",
              "      <td>1</td>\n",
              "      <td>0</td>\n",
              "      <td>0</td>\n",
              "      <td>1</td>\n",
              "      <td>0</td>\n",
              "      <td>0</td>\n",
              "      <td>0</td>\n",
              "      <td>1</td>\n",
              "    </tr>\n",
              "    <tr>\n",
              "      <th>1</th>\n",
              "      <td>18</td>\n",
              "      <td>33.770</td>\n",
              "      <td>1</td>\n",
              "      <td>1725.55230</td>\n",
              "      <td>0</td>\n",
              "      <td>1</td>\n",
              "      <td>1</td>\n",
              "      <td>0</td>\n",
              "      <td>0</td>\n",
              "      <td>0</td>\n",
              "      <td>1</td>\n",
              "      <td>0</td>\n",
              "    </tr>\n",
              "    <tr>\n",
              "      <th>2</th>\n",
              "      <td>28</td>\n",
              "      <td>33.000</td>\n",
              "      <td>3</td>\n",
              "      <td>4449.46200</td>\n",
              "      <td>0</td>\n",
              "      <td>1</td>\n",
              "      <td>1</td>\n",
              "      <td>0</td>\n",
              "      <td>0</td>\n",
              "      <td>0</td>\n",
              "      <td>1</td>\n",
              "      <td>0</td>\n",
              "    </tr>\n",
              "    <tr>\n",
              "      <th>3</th>\n",
              "      <td>33</td>\n",
              "      <td>22.705</td>\n",
              "      <td>0</td>\n",
              "      <td>21984.47061</td>\n",
              "      <td>0</td>\n",
              "      <td>1</td>\n",
              "      <td>1</td>\n",
              "      <td>0</td>\n",
              "      <td>0</td>\n",
              "      <td>1</td>\n",
              "      <td>0</td>\n",
              "      <td>0</td>\n",
              "    </tr>\n",
              "    <tr>\n",
              "      <th>4</th>\n",
              "      <td>32</td>\n",
              "      <td>28.880</td>\n",
              "      <td>0</td>\n",
              "      <td>3866.85520</td>\n",
              "      <td>0</td>\n",
              "      <td>1</td>\n",
              "      <td>1</td>\n",
              "      <td>0</td>\n",
              "      <td>0</td>\n",
              "      <td>1</td>\n",
              "      <td>0</td>\n",
              "      <td>0</td>\n",
              "    </tr>\n",
              "  </tbody>\n",
              "</table>\n",
              "</div>\n",
              "    <div class=\"colab-df-buttons\">\n",
              "\n",
              "  <div class=\"colab-df-container\">\n",
              "    <button class=\"colab-df-convert\" onclick=\"convertToInteractive('df-11745af2-ca20-4c60-aa43-e549020eaaa2')\"\n",
              "            title=\"Convert this dataframe to an interactive table.\"\n",
              "            style=\"display:none;\">\n",
              "\n",
              "  <svg xmlns=\"http://www.w3.org/2000/svg\" height=\"24px\" viewBox=\"0 -960 960 960\">\n",
              "    <path d=\"M120-120v-720h720v720H120Zm60-500h600v-160H180v160Zm220 220h160v-160H400v160Zm0 220h160v-160H400v160ZM180-400h160v-160H180v160Zm440 0h160v-160H620v160ZM180-180h160v-160H180v160Zm440 0h160v-160H620v160Z\"/>\n",
              "  </svg>\n",
              "    </button>\n",
              "\n",
              "  <style>\n",
              "    .colab-df-container {\n",
              "      display:flex;\n",
              "      gap: 12px;\n",
              "    }\n",
              "\n",
              "    .colab-df-convert {\n",
              "      background-color: #E8F0FE;\n",
              "      border: none;\n",
              "      border-radius: 50%;\n",
              "      cursor: pointer;\n",
              "      display: none;\n",
              "      fill: #1967D2;\n",
              "      height: 32px;\n",
              "      padding: 0 0 0 0;\n",
              "      width: 32px;\n",
              "    }\n",
              "\n",
              "    .colab-df-convert:hover {\n",
              "      background-color: #E2EBFA;\n",
              "      box-shadow: 0px 1px 2px rgba(60, 64, 67, 0.3), 0px 1px 3px 1px rgba(60, 64, 67, 0.15);\n",
              "      fill: #174EA6;\n",
              "    }\n",
              "\n",
              "    .colab-df-buttons div {\n",
              "      margin-bottom: 4px;\n",
              "    }\n",
              "\n",
              "    [theme=dark] .colab-df-convert {\n",
              "      background-color: #3B4455;\n",
              "      fill: #D2E3FC;\n",
              "    }\n",
              "\n",
              "    [theme=dark] .colab-df-convert:hover {\n",
              "      background-color: #434B5C;\n",
              "      box-shadow: 0px 1px 3px 1px rgba(0, 0, 0, 0.15);\n",
              "      filter: drop-shadow(0px 1px 2px rgba(0, 0, 0, 0.3));\n",
              "      fill: #FFFFFF;\n",
              "    }\n",
              "  </style>\n",
              "\n",
              "    <script>\n",
              "      const buttonEl =\n",
              "        document.querySelector('#df-11745af2-ca20-4c60-aa43-e549020eaaa2 button.colab-df-convert');\n",
              "      buttonEl.style.display =\n",
              "        google.colab.kernel.accessAllowed ? 'block' : 'none';\n",
              "\n",
              "      async function convertToInteractive(key) {\n",
              "        const element = document.querySelector('#df-11745af2-ca20-4c60-aa43-e549020eaaa2');\n",
              "        const dataTable =\n",
              "          await google.colab.kernel.invokeFunction('convertToInteractive',\n",
              "                                                    [key], {});\n",
              "        if (!dataTable) return;\n",
              "\n",
              "        const docLinkHtml = 'Like what you see? Visit the ' +\n",
              "          '<a target=\"_blank\" href=https://colab.research.google.com/notebooks/data_table.ipynb>data table notebook</a>'\n",
              "          + ' to learn more about interactive tables.';\n",
              "        element.innerHTML = '';\n",
              "        dataTable['output_type'] = 'display_data';\n",
              "        await google.colab.output.renderOutput(dataTable, element);\n",
              "        const docLink = document.createElement('div');\n",
              "        docLink.innerHTML = docLinkHtml;\n",
              "        element.appendChild(docLink);\n",
              "      }\n",
              "    </script>\n",
              "  </div>\n",
              "\n",
              "\n",
              "<div id=\"df-4205611b-b6a4-400e-9390-57c0fd315c29\">\n",
              "  <button class=\"colab-df-quickchart\" onclick=\"quickchart('df-4205611b-b6a4-400e-9390-57c0fd315c29')\"\n",
              "            title=\"Suggest charts\"\n",
              "            style=\"display:none;\">\n",
              "\n",
              "<svg xmlns=\"http://www.w3.org/2000/svg\" height=\"24px\"viewBox=\"0 0 24 24\"\n",
              "     width=\"24px\">\n",
              "    <g>\n",
              "        <path d=\"M19 3H5c-1.1 0-2 .9-2 2v14c0 1.1.9 2 2 2h14c1.1 0 2-.9 2-2V5c0-1.1-.9-2-2-2zM9 17H7v-7h2v7zm4 0h-2V7h2v10zm4 0h-2v-4h2v4z\"/>\n",
              "    </g>\n",
              "</svg>\n",
              "  </button>\n",
              "\n",
              "<style>\n",
              "  .colab-df-quickchart {\n",
              "      --bg-color: #E8F0FE;\n",
              "      --fill-color: #1967D2;\n",
              "      --hover-bg-color: #E2EBFA;\n",
              "      --hover-fill-color: #174EA6;\n",
              "      --disabled-fill-color: #AAA;\n",
              "      --disabled-bg-color: #DDD;\n",
              "  }\n",
              "\n",
              "  [theme=dark] .colab-df-quickchart {\n",
              "      --bg-color: #3B4455;\n",
              "      --fill-color: #D2E3FC;\n",
              "      --hover-bg-color: #434B5C;\n",
              "      --hover-fill-color: #FFFFFF;\n",
              "      --disabled-bg-color: #3B4455;\n",
              "      --disabled-fill-color: #666;\n",
              "  }\n",
              "\n",
              "  .colab-df-quickchart {\n",
              "    background-color: var(--bg-color);\n",
              "    border: none;\n",
              "    border-radius: 50%;\n",
              "    cursor: pointer;\n",
              "    display: none;\n",
              "    fill: var(--fill-color);\n",
              "    height: 32px;\n",
              "    padding: 0;\n",
              "    width: 32px;\n",
              "  }\n",
              "\n",
              "  .colab-df-quickchart:hover {\n",
              "    background-color: var(--hover-bg-color);\n",
              "    box-shadow: 0 1px 2px rgba(60, 64, 67, 0.3), 0 1px 3px 1px rgba(60, 64, 67, 0.15);\n",
              "    fill: var(--button-hover-fill-color);\n",
              "  }\n",
              "\n",
              "  .colab-df-quickchart-complete:disabled,\n",
              "  .colab-df-quickchart-complete:disabled:hover {\n",
              "    background-color: var(--disabled-bg-color);\n",
              "    fill: var(--disabled-fill-color);\n",
              "    box-shadow: none;\n",
              "  }\n",
              "\n",
              "  .colab-df-spinner {\n",
              "    border: 2px solid var(--fill-color);\n",
              "    border-color: transparent;\n",
              "    border-bottom-color: var(--fill-color);\n",
              "    animation:\n",
              "      spin 1s steps(1) infinite;\n",
              "  }\n",
              "\n",
              "  @keyframes spin {\n",
              "    0% {\n",
              "      border-color: transparent;\n",
              "      border-bottom-color: var(--fill-color);\n",
              "      border-left-color: var(--fill-color);\n",
              "    }\n",
              "    20% {\n",
              "      border-color: transparent;\n",
              "      border-left-color: var(--fill-color);\n",
              "      border-top-color: var(--fill-color);\n",
              "    }\n",
              "    30% {\n",
              "      border-color: transparent;\n",
              "      border-left-color: var(--fill-color);\n",
              "      border-top-color: var(--fill-color);\n",
              "      border-right-color: var(--fill-color);\n",
              "    }\n",
              "    40% {\n",
              "      border-color: transparent;\n",
              "      border-right-color: var(--fill-color);\n",
              "      border-top-color: var(--fill-color);\n",
              "    }\n",
              "    60% {\n",
              "      border-color: transparent;\n",
              "      border-right-color: var(--fill-color);\n",
              "    }\n",
              "    80% {\n",
              "      border-color: transparent;\n",
              "      border-right-color: var(--fill-color);\n",
              "      border-bottom-color: var(--fill-color);\n",
              "    }\n",
              "    90% {\n",
              "      border-color: transparent;\n",
              "      border-bottom-color: var(--fill-color);\n",
              "    }\n",
              "  }\n",
              "</style>\n",
              "\n",
              "  <script>\n",
              "    async function quickchart(key) {\n",
              "      const quickchartButtonEl =\n",
              "        document.querySelector('#' + key + ' button');\n",
              "      quickchartButtonEl.disabled = true;  // To prevent multiple clicks.\n",
              "      quickchartButtonEl.classList.add('colab-df-spinner');\n",
              "      try {\n",
              "        const charts = await google.colab.kernel.invokeFunction(\n",
              "            'suggestCharts', [key], {});\n",
              "      } catch (error) {\n",
              "        console.error('Error during call to suggestCharts:', error);\n",
              "      }\n",
              "      quickchartButtonEl.classList.remove('colab-df-spinner');\n",
              "      quickchartButtonEl.classList.add('colab-df-quickchart-complete');\n",
              "    }\n",
              "    (() => {\n",
              "      let quickchartButtonEl =\n",
              "        document.querySelector('#df-4205611b-b6a4-400e-9390-57c0fd315c29 button');\n",
              "      quickchartButtonEl.style.display =\n",
              "        google.colab.kernel.accessAllowed ? 'block' : 'none';\n",
              "    })();\n",
              "  </script>\n",
              "</div>\n",
              "    </div>\n",
              "  </div>\n"
            ],
            "application/vnd.google.colaboratory.intrinsic+json": {
              "type": "dataframe",
              "variable_name": "insurance_one_hot",
              "summary": "{\n  \"name\": \"insurance_one_hot\",\n  \"rows\": 1338,\n  \"fields\": [\n    {\n      \"column\": \"age\",\n      \"properties\": {\n        \"dtype\": \"number\",\n        \"std\": 14,\n        \"min\": 18,\n        \"max\": 64,\n        \"num_unique_values\": 47,\n        \"samples\": [\n          21,\n          45,\n          36\n        ],\n        \"semantic_type\": \"\",\n        \"description\": \"\"\n      }\n    },\n    {\n      \"column\": \"bmi\",\n      \"properties\": {\n        \"dtype\": \"number\",\n        \"std\": 6.098186911679014,\n        \"min\": 15.96,\n        \"max\": 53.13,\n        \"num_unique_values\": 548,\n        \"samples\": [\n          23.18,\n          26.885,\n          29.26\n        ],\n        \"semantic_type\": \"\",\n        \"description\": \"\"\n      }\n    },\n    {\n      \"column\": \"children\",\n      \"properties\": {\n        \"dtype\": \"number\",\n        \"std\": 1,\n        \"min\": 0,\n        \"max\": 5,\n        \"num_unique_values\": 6,\n        \"samples\": [\n          0,\n          1,\n          4\n        ],\n        \"semantic_type\": \"\",\n        \"description\": \"\"\n      }\n    },\n    {\n      \"column\": \"charges\",\n      \"properties\": {\n        \"dtype\": \"number\",\n        \"std\": 12110.011236694001,\n        \"min\": 1121.8739,\n        \"max\": 63770.42801,\n        \"num_unique_values\": 1337,\n        \"samples\": [\n          8688.85885,\n          5708.867,\n          11436.73815\n        ],\n        \"semantic_type\": \"\",\n        \"description\": \"\"\n      }\n    },\n    {\n      \"column\": \"sex_female\",\n      \"properties\": {\n        \"dtype\": \"uint8\",\n        \"num_unique_values\": 2,\n        \"samples\": [\n          0,\n          1\n        ],\n        \"semantic_type\": \"\",\n        \"description\": \"\"\n      }\n    },\n    {\n      \"column\": \"sex_male\",\n      \"properties\": {\n        \"dtype\": \"uint8\",\n        \"num_unique_values\": 2,\n        \"samples\": [\n          1,\n          0\n        ],\n        \"semantic_type\": \"\",\n        \"description\": \"\"\n      }\n    },\n    {\n      \"column\": \"smoker_no\",\n      \"properties\": {\n        \"dtype\": \"uint8\",\n        \"num_unique_values\": 2,\n        \"samples\": [\n          1,\n          0\n        ],\n        \"semantic_type\": \"\",\n        \"description\": \"\"\n      }\n    },\n    {\n      \"column\": \"smoker_yes\",\n      \"properties\": {\n        \"dtype\": \"uint8\",\n        \"num_unique_values\": 2,\n        \"samples\": [\n          0,\n          1\n        ],\n        \"semantic_type\": \"\",\n        \"description\": \"\"\n      }\n    },\n    {\n      \"column\": \"region_northeast\",\n      \"properties\": {\n        \"dtype\": \"uint8\",\n        \"num_unique_values\": 2,\n        \"samples\": [\n          1,\n          0\n        ],\n        \"semantic_type\": \"\",\n        \"description\": \"\"\n      }\n    },\n    {\n      \"column\": \"region_northwest\",\n      \"properties\": {\n        \"dtype\": \"uint8\",\n        \"num_unique_values\": 2,\n        \"samples\": [\n          1,\n          0\n        ],\n        \"semantic_type\": \"\",\n        \"description\": \"\"\n      }\n    },\n    {\n      \"column\": \"region_southeast\",\n      \"properties\": {\n        \"dtype\": \"uint8\",\n        \"num_unique_values\": 2,\n        \"samples\": [\n          1,\n          0\n        ],\n        \"semantic_type\": \"\",\n        \"description\": \"\"\n      }\n    },\n    {\n      \"column\": \"region_southwest\",\n      \"properties\": {\n        \"dtype\": \"uint8\",\n        \"num_unique_values\": 2,\n        \"samples\": [\n          0,\n          1\n        ],\n        \"semantic_type\": \"\",\n        \"description\": \"\"\n      }\n    }\n  ]\n}"
            }
          },
          "metadata": {},
          "execution_count": 80
        }
      ]
    },
    {
      "cell_type": "markdown",
      "source": [
        "### Create X & Y Values (Features and labels)"
      ],
      "metadata": {
        "id": "O2wYeWe3p51_"
      }
    },
    {
      "cell_type": "code",
      "source": [
        "# Create X and Y\n",
        "x = insurance_one_hot.drop(\"charges\", axis=1)\n",
        "y = insurance_one_hot[\"charges\"]"
      ],
      "metadata": {
        "id": "lL96lpLTpqds"
      },
      "execution_count": 83,
      "outputs": []
    },
    {
      "cell_type": "code",
      "source": [
        "# view x\n",
        "x.head()"
      ],
      "metadata": {
        "colab": {
          "base_uri": "https://localhost:8080/",
          "height": 226
        },
        "id": "kg7Hm_PdRVv-",
        "outputId": "ede68420-6b87-44d0-a7b8-21cb349e465e"
      },
      "execution_count": 84,
      "outputs": [
        {
          "output_type": "execute_result",
          "data": {
            "text/plain": [
              "   age     bmi  children  sex_female  sex_male  smoker_no  smoker_yes  \\\n",
              "0   19  27.900         0           1         0          0           1   \n",
              "1   18  33.770         1           0         1          1           0   \n",
              "2   28  33.000         3           0         1          1           0   \n",
              "3   33  22.705         0           0         1          1           0   \n",
              "4   32  28.880         0           0         1          1           0   \n",
              "\n",
              "   region_northeast  region_northwest  region_southeast  region_southwest  \n",
              "0                 0                 0                 0                 1  \n",
              "1                 0                 0                 1                 0  \n",
              "2                 0                 0                 1                 0  \n",
              "3                 0                 1                 0                 0  \n",
              "4                 0                 1                 0                 0  "
            ],
            "text/html": [
              "\n",
              "  <div id=\"df-9aee36a2-bef4-4d02-b5f5-3e49a6c4e2cf\" class=\"colab-df-container\">\n",
              "    <div>\n",
              "<style scoped>\n",
              "    .dataframe tbody tr th:only-of-type {\n",
              "        vertical-align: middle;\n",
              "    }\n",
              "\n",
              "    .dataframe tbody tr th {\n",
              "        vertical-align: top;\n",
              "    }\n",
              "\n",
              "    .dataframe thead th {\n",
              "        text-align: right;\n",
              "    }\n",
              "</style>\n",
              "<table border=\"1\" class=\"dataframe\">\n",
              "  <thead>\n",
              "    <tr style=\"text-align: right;\">\n",
              "      <th></th>\n",
              "      <th>age</th>\n",
              "      <th>bmi</th>\n",
              "      <th>children</th>\n",
              "      <th>sex_female</th>\n",
              "      <th>sex_male</th>\n",
              "      <th>smoker_no</th>\n",
              "      <th>smoker_yes</th>\n",
              "      <th>region_northeast</th>\n",
              "      <th>region_northwest</th>\n",
              "      <th>region_southeast</th>\n",
              "      <th>region_southwest</th>\n",
              "    </tr>\n",
              "  </thead>\n",
              "  <tbody>\n",
              "    <tr>\n",
              "      <th>0</th>\n",
              "      <td>19</td>\n",
              "      <td>27.900</td>\n",
              "      <td>0</td>\n",
              "      <td>1</td>\n",
              "      <td>0</td>\n",
              "      <td>0</td>\n",
              "      <td>1</td>\n",
              "      <td>0</td>\n",
              "      <td>0</td>\n",
              "      <td>0</td>\n",
              "      <td>1</td>\n",
              "    </tr>\n",
              "    <tr>\n",
              "      <th>1</th>\n",
              "      <td>18</td>\n",
              "      <td>33.770</td>\n",
              "      <td>1</td>\n",
              "      <td>0</td>\n",
              "      <td>1</td>\n",
              "      <td>1</td>\n",
              "      <td>0</td>\n",
              "      <td>0</td>\n",
              "      <td>0</td>\n",
              "      <td>1</td>\n",
              "      <td>0</td>\n",
              "    </tr>\n",
              "    <tr>\n",
              "      <th>2</th>\n",
              "      <td>28</td>\n",
              "      <td>33.000</td>\n",
              "      <td>3</td>\n",
              "      <td>0</td>\n",
              "      <td>1</td>\n",
              "      <td>1</td>\n",
              "      <td>0</td>\n",
              "      <td>0</td>\n",
              "      <td>0</td>\n",
              "      <td>1</td>\n",
              "      <td>0</td>\n",
              "    </tr>\n",
              "    <tr>\n",
              "      <th>3</th>\n",
              "      <td>33</td>\n",
              "      <td>22.705</td>\n",
              "      <td>0</td>\n",
              "      <td>0</td>\n",
              "      <td>1</td>\n",
              "      <td>1</td>\n",
              "      <td>0</td>\n",
              "      <td>0</td>\n",
              "      <td>1</td>\n",
              "      <td>0</td>\n",
              "      <td>0</td>\n",
              "    </tr>\n",
              "    <tr>\n",
              "      <th>4</th>\n",
              "      <td>32</td>\n",
              "      <td>28.880</td>\n",
              "      <td>0</td>\n",
              "      <td>0</td>\n",
              "      <td>1</td>\n",
              "      <td>1</td>\n",
              "      <td>0</td>\n",
              "      <td>0</td>\n",
              "      <td>1</td>\n",
              "      <td>0</td>\n",
              "      <td>0</td>\n",
              "    </tr>\n",
              "  </tbody>\n",
              "</table>\n",
              "</div>\n",
              "    <div class=\"colab-df-buttons\">\n",
              "\n",
              "  <div class=\"colab-df-container\">\n",
              "    <button class=\"colab-df-convert\" onclick=\"convertToInteractive('df-9aee36a2-bef4-4d02-b5f5-3e49a6c4e2cf')\"\n",
              "            title=\"Convert this dataframe to an interactive table.\"\n",
              "            style=\"display:none;\">\n",
              "\n",
              "  <svg xmlns=\"http://www.w3.org/2000/svg\" height=\"24px\" viewBox=\"0 -960 960 960\">\n",
              "    <path d=\"M120-120v-720h720v720H120Zm60-500h600v-160H180v160Zm220 220h160v-160H400v160Zm0 220h160v-160H400v160ZM180-400h160v-160H180v160Zm440 0h160v-160H620v160ZM180-180h160v-160H180v160Zm440 0h160v-160H620v160Z\"/>\n",
              "  </svg>\n",
              "    </button>\n",
              "\n",
              "  <style>\n",
              "    .colab-df-container {\n",
              "      display:flex;\n",
              "      gap: 12px;\n",
              "    }\n",
              "\n",
              "    .colab-df-convert {\n",
              "      background-color: #E8F0FE;\n",
              "      border: none;\n",
              "      border-radius: 50%;\n",
              "      cursor: pointer;\n",
              "      display: none;\n",
              "      fill: #1967D2;\n",
              "      height: 32px;\n",
              "      padding: 0 0 0 0;\n",
              "      width: 32px;\n",
              "    }\n",
              "\n",
              "    .colab-df-convert:hover {\n",
              "      background-color: #E2EBFA;\n",
              "      box-shadow: 0px 1px 2px rgba(60, 64, 67, 0.3), 0px 1px 3px 1px rgba(60, 64, 67, 0.15);\n",
              "      fill: #174EA6;\n",
              "    }\n",
              "\n",
              "    .colab-df-buttons div {\n",
              "      margin-bottom: 4px;\n",
              "    }\n",
              "\n",
              "    [theme=dark] .colab-df-convert {\n",
              "      background-color: #3B4455;\n",
              "      fill: #D2E3FC;\n",
              "    }\n",
              "\n",
              "    [theme=dark] .colab-df-convert:hover {\n",
              "      background-color: #434B5C;\n",
              "      box-shadow: 0px 1px 3px 1px rgba(0, 0, 0, 0.15);\n",
              "      filter: drop-shadow(0px 1px 2px rgba(0, 0, 0, 0.3));\n",
              "      fill: #FFFFFF;\n",
              "    }\n",
              "  </style>\n",
              "\n",
              "    <script>\n",
              "      const buttonEl =\n",
              "        document.querySelector('#df-9aee36a2-bef4-4d02-b5f5-3e49a6c4e2cf button.colab-df-convert');\n",
              "      buttonEl.style.display =\n",
              "        google.colab.kernel.accessAllowed ? 'block' : 'none';\n",
              "\n",
              "      async function convertToInteractive(key) {\n",
              "        const element = document.querySelector('#df-9aee36a2-bef4-4d02-b5f5-3e49a6c4e2cf');\n",
              "        const dataTable =\n",
              "          await google.colab.kernel.invokeFunction('convertToInteractive',\n",
              "                                                    [key], {});\n",
              "        if (!dataTable) return;\n",
              "\n",
              "        const docLinkHtml = 'Like what you see? Visit the ' +\n",
              "          '<a target=\"_blank\" href=https://colab.research.google.com/notebooks/data_table.ipynb>data table notebook</a>'\n",
              "          + ' to learn more about interactive tables.';\n",
              "        element.innerHTML = '';\n",
              "        dataTable['output_type'] = 'display_data';\n",
              "        await google.colab.output.renderOutput(dataTable, element);\n",
              "        const docLink = document.createElement('div');\n",
              "        docLink.innerHTML = docLinkHtml;\n",
              "        element.appendChild(docLink);\n",
              "      }\n",
              "    </script>\n",
              "  </div>\n",
              "\n",
              "\n",
              "<div id=\"df-dddb8e5c-c6f4-44be-9156-33c850018e3c\">\n",
              "  <button class=\"colab-df-quickchart\" onclick=\"quickchart('df-dddb8e5c-c6f4-44be-9156-33c850018e3c')\"\n",
              "            title=\"Suggest charts\"\n",
              "            style=\"display:none;\">\n",
              "\n",
              "<svg xmlns=\"http://www.w3.org/2000/svg\" height=\"24px\"viewBox=\"0 0 24 24\"\n",
              "     width=\"24px\">\n",
              "    <g>\n",
              "        <path d=\"M19 3H5c-1.1 0-2 .9-2 2v14c0 1.1.9 2 2 2h14c1.1 0 2-.9 2-2V5c0-1.1-.9-2-2-2zM9 17H7v-7h2v7zm4 0h-2V7h2v10zm4 0h-2v-4h2v4z\"/>\n",
              "    </g>\n",
              "</svg>\n",
              "  </button>\n",
              "\n",
              "<style>\n",
              "  .colab-df-quickchart {\n",
              "      --bg-color: #E8F0FE;\n",
              "      --fill-color: #1967D2;\n",
              "      --hover-bg-color: #E2EBFA;\n",
              "      --hover-fill-color: #174EA6;\n",
              "      --disabled-fill-color: #AAA;\n",
              "      --disabled-bg-color: #DDD;\n",
              "  }\n",
              "\n",
              "  [theme=dark] .colab-df-quickchart {\n",
              "      --bg-color: #3B4455;\n",
              "      --fill-color: #D2E3FC;\n",
              "      --hover-bg-color: #434B5C;\n",
              "      --hover-fill-color: #FFFFFF;\n",
              "      --disabled-bg-color: #3B4455;\n",
              "      --disabled-fill-color: #666;\n",
              "  }\n",
              "\n",
              "  .colab-df-quickchart {\n",
              "    background-color: var(--bg-color);\n",
              "    border: none;\n",
              "    border-radius: 50%;\n",
              "    cursor: pointer;\n",
              "    display: none;\n",
              "    fill: var(--fill-color);\n",
              "    height: 32px;\n",
              "    padding: 0;\n",
              "    width: 32px;\n",
              "  }\n",
              "\n",
              "  .colab-df-quickchart:hover {\n",
              "    background-color: var(--hover-bg-color);\n",
              "    box-shadow: 0 1px 2px rgba(60, 64, 67, 0.3), 0 1px 3px 1px rgba(60, 64, 67, 0.15);\n",
              "    fill: var(--button-hover-fill-color);\n",
              "  }\n",
              "\n",
              "  .colab-df-quickchart-complete:disabled,\n",
              "  .colab-df-quickchart-complete:disabled:hover {\n",
              "    background-color: var(--disabled-bg-color);\n",
              "    fill: var(--disabled-fill-color);\n",
              "    box-shadow: none;\n",
              "  }\n",
              "\n",
              "  .colab-df-spinner {\n",
              "    border: 2px solid var(--fill-color);\n",
              "    border-color: transparent;\n",
              "    border-bottom-color: var(--fill-color);\n",
              "    animation:\n",
              "      spin 1s steps(1) infinite;\n",
              "  }\n",
              "\n",
              "  @keyframes spin {\n",
              "    0% {\n",
              "      border-color: transparent;\n",
              "      border-bottom-color: var(--fill-color);\n",
              "      border-left-color: var(--fill-color);\n",
              "    }\n",
              "    20% {\n",
              "      border-color: transparent;\n",
              "      border-left-color: var(--fill-color);\n",
              "      border-top-color: var(--fill-color);\n",
              "    }\n",
              "    30% {\n",
              "      border-color: transparent;\n",
              "      border-left-color: var(--fill-color);\n",
              "      border-top-color: var(--fill-color);\n",
              "      border-right-color: var(--fill-color);\n",
              "    }\n",
              "    40% {\n",
              "      border-color: transparent;\n",
              "      border-right-color: var(--fill-color);\n",
              "      border-top-color: var(--fill-color);\n",
              "    }\n",
              "    60% {\n",
              "      border-color: transparent;\n",
              "      border-right-color: var(--fill-color);\n",
              "    }\n",
              "    80% {\n",
              "      border-color: transparent;\n",
              "      border-right-color: var(--fill-color);\n",
              "      border-bottom-color: var(--fill-color);\n",
              "    }\n",
              "    90% {\n",
              "      border-color: transparent;\n",
              "      border-bottom-color: var(--fill-color);\n",
              "    }\n",
              "  }\n",
              "</style>\n",
              "\n",
              "  <script>\n",
              "    async function quickchart(key) {\n",
              "      const quickchartButtonEl =\n",
              "        document.querySelector('#' + key + ' button');\n",
              "      quickchartButtonEl.disabled = true;  // To prevent multiple clicks.\n",
              "      quickchartButtonEl.classList.add('colab-df-spinner');\n",
              "      try {\n",
              "        const charts = await google.colab.kernel.invokeFunction(\n",
              "            'suggestCharts', [key], {});\n",
              "      } catch (error) {\n",
              "        console.error('Error during call to suggestCharts:', error);\n",
              "      }\n",
              "      quickchartButtonEl.classList.remove('colab-df-spinner');\n",
              "      quickchartButtonEl.classList.add('colab-df-quickchart-complete');\n",
              "    }\n",
              "    (() => {\n",
              "      let quickchartButtonEl =\n",
              "        document.querySelector('#df-dddb8e5c-c6f4-44be-9156-33c850018e3c button');\n",
              "      quickchartButtonEl.style.display =\n",
              "        google.colab.kernel.accessAllowed ? 'block' : 'none';\n",
              "    })();\n",
              "  </script>\n",
              "</div>\n",
              "    </div>\n",
              "  </div>\n"
            ],
            "application/vnd.google.colaboratory.intrinsic+json": {
              "type": "dataframe",
              "variable_name": "x",
              "summary": "{\n  \"name\": \"x\",\n  \"rows\": 1338,\n  \"fields\": [\n    {\n      \"column\": \"age\",\n      \"properties\": {\n        \"dtype\": \"number\",\n        \"std\": 14,\n        \"min\": 18,\n        \"max\": 64,\n        \"num_unique_values\": 47,\n        \"samples\": [\n          21,\n          45,\n          36\n        ],\n        \"semantic_type\": \"\",\n        \"description\": \"\"\n      }\n    },\n    {\n      \"column\": \"bmi\",\n      \"properties\": {\n        \"dtype\": \"number\",\n        \"std\": 6.098186911679014,\n        \"min\": 15.96,\n        \"max\": 53.13,\n        \"num_unique_values\": 548,\n        \"samples\": [\n          23.18,\n          26.885,\n          29.26\n        ],\n        \"semantic_type\": \"\",\n        \"description\": \"\"\n      }\n    },\n    {\n      \"column\": \"children\",\n      \"properties\": {\n        \"dtype\": \"number\",\n        \"std\": 1,\n        \"min\": 0,\n        \"max\": 5,\n        \"num_unique_values\": 6,\n        \"samples\": [\n          0,\n          1,\n          4\n        ],\n        \"semantic_type\": \"\",\n        \"description\": \"\"\n      }\n    },\n    {\n      \"column\": \"sex_female\",\n      \"properties\": {\n        \"dtype\": \"uint8\",\n        \"num_unique_values\": 2,\n        \"samples\": [\n          0,\n          1\n        ],\n        \"semantic_type\": \"\",\n        \"description\": \"\"\n      }\n    },\n    {\n      \"column\": \"sex_male\",\n      \"properties\": {\n        \"dtype\": \"uint8\",\n        \"num_unique_values\": 2,\n        \"samples\": [\n          1,\n          0\n        ],\n        \"semantic_type\": \"\",\n        \"description\": \"\"\n      }\n    },\n    {\n      \"column\": \"smoker_no\",\n      \"properties\": {\n        \"dtype\": \"uint8\",\n        \"num_unique_values\": 2,\n        \"samples\": [\n          1,\n          0\n        ],\n        \"semantic_type\": \"\",\n        \"description\": \"\"\n      }\n    },\n    {\n      \"column\": \"smoker_yes\",\n      \"properties\": {\n        \"dtype\": \"uint8\",\n        \"num_unique_values\": 2,\n        \"samples\": [\n          0,\n          1\n        ],\n        \"semantic_type\": \"\",\n        \"description\": \"\"\n      }\n    },\n    {\n      \"column\": \"region_northeast\",\n      \"properties\": {\n        \"dtype\": \"uint8\",\n        \"num_unique_values\": 2,\n        \"samples\": [\n          1,\n          0\n        ],\n        \"semantic_type\": \"\",\n        \"description\": \"\"\n      }\n    },\n    {\n      \"column\": \"region_northwest\",\n      \"properties\": {\n        \"dtype\": \"uint8\",\n        \"num_unique_values\": 2,\n        \"samples\": [\n          1,\n          0\n        ],\n        \"semantic_type\": \"\",\n        \"description\": \"\"\n      }\n    },\n    {\n      \"column\": \"region_southeast\",\n      \"properties\": {\n        \"dtype\": \"uint8\",\n        \"num_unique_values\": 2,\n        \"samples\": [\n          1,\n          0\n        ],\n        \"semantic_type\": \"\",\n        \"description\": \"\"\n      }\n    },\n    {\n      \"column\": \"region_southwest\",\n      \"properties\": {\n        \"dtype\": \"uint8\",\n        \"num_unique_values\": 2,\n        \"samples\": [\n          0,\n          1\n        ],\n        \"semantic_type\": \"\",\n        \"description\": \"\"\n      }\n    }\n  ]\n}"
            }
          },
          "metadata": {},
          "execution_count": 84
        }
      ]
    },
    {
      "cell_type": "code",
      "source": [
        "# view y\n",
        "y.head()"
      ],
      "metadata": {
        "colab": {
          "base_uri": "https://localhost:8080/"
        },
        "id": "sU6fprWLRol2",
        "outputId": "e95d90d2-c264-4991-b562-234ac30a1c2a"
      },
      "execution_count": 85,
      "outputs": [
        {
          "output_type": "execute_result",
          "data": {
            "text/plain": [
              "0    16884.92400\n",
              "1     1725.55230\n",
              "2     4449.46200\n",
              "3    21984.47061\n",
              "4     3866.85520\n",
              "Name: charges, dtype: float64"
            ]
          },
          "metadata": {},
          "execution_count": 85
        }
      ]
    },
    {
      "cell_type": "code",
      "source": [
        "# Create training and test sets\n",
        "\n",
        "from sklearn.model_selection import train_test_split\n",
        "\n",
        "x_train, x_test, y_train, y_test = train_test_split(x, y,test_size=0.2, random_state=42)\n",
        "len(x), len(x_train), len(x_test)\n"
      ],
      "metadata": {
        "colab": {
          "base_uri": "https://localhost:8080/"
        },
        "id": "S1784bQaXLGY",
        "outputId": "eac490bf-f459-42d3-e82a-c6e855b532ac"
      },
      "execution_count": 87,
      "outputs": [
        {
          "output_type": "execute_result",
          "data": {
            "text/plain": [
              "(1338, 1070, 268)"
            ]
          },
          "metadata": {},
          "execution_count": 87
        }
      ]
    },
    {
      "cell_type": "code",
      "source": [
        "x_train"
      ],
      "metadata": {
        "colab": {
          "base_uri": "https://localhost:8080/",
          "height": 444
        },
        "id": "d5gYWBwAYb9E",
        "outputId": "ee26180c-4f25-49ff-f69c-9d359e41685c"
      },
      "execution_count": 88,
      "outputs": [
        {
          "output_type": "execute_result",
          "data": {
            "text/plain": [
              "      age     bmi  children  sex_female  sex_male  smoker_no  smoker_yes  \\\n",
              "560    46  19.950         2           1         0          1           0   \n",
              "1285   47  24.320         0           1         0          1           0   \n",
              "1142   52  24.860         0           1         0          1           0   \n",
              "969    39  34.320         5           1         0          1           0   \n",
              "486    54  21.470         3           1         0          1           0   \n",
              "...   ...     ...       ...         ...       ...        ...         ...   \n",
              "1095   18  31.350         4           1         0          1           0   \n",
              "1130   39  23.870         5           1         0          1           0   \n",
              "1294   58  25.175         0           0         1          1           0   \n",
              "860    37  47.600         2           1         0          0           1   \n",
              "1126   55  29.900         0           0         1          1           0   \n",
              "\n",
              "      region_northeast  region_northwest  region_southeast  region_southwest  \n",
              "560                  0                 1                 0                 0  \n",
              "1285                 1                 0                 0                 0  \n",
              "1142                 0                 0                 1                 0  \n",
              "969                  0                 0                 1                 0  \n",
              "486                  0                 1                 0                 0  \n",
              "...                ...               ...               ...               ...  \n",
              "1095                 1                 0                 0                 0  \n",
              "1130                 0                 0                 1                 0  \n",
              "1294                 1                 0                 0                 0  \n",
              "860                  0                 0                 0                 1  \n",
              "1126                 0                 0                 0                 1  \n",
              "\n",
              "[1070 rows x 11 columns]"
            ],
            "text/html": [
              "\n",
              "  <div id=\"df-57e50471-ae86-465d-884d-378d8e671a7c\" class=\"colab-df-container\">\n",
              "    <div>\n",
              "<style scoped>\n",
              "    .dataframe tbody tr th:only-of-type {\n",
              "        vertical-align: middle;\n",
              "    }\n",
              "\n",
              "    .dataframe tbody tr th {\n",
              "        vertical-align: top;\n",
              "    }\n",
              "\n",
              "    .dataframe thead th {\n",
              "        text-align: right;\n",
              "    }\n",
              "</style>\n",
              "<table border=\"1\" class=\"dataframe\">\n",
              "  <thead>\n",
              "    <tr style=\"text-align: right;\">\n",
              "      <th></th>\n",
              "      <th>age</th>\n",
              "      <th>bmi</th>\n",
              "      <th>children</th>\n",
              "      <th>sex_female</th>\n",
              "      <th>sex_male</th>\n",
              "      <th>smoker_no</th>\n",
              "      <th>smoker_yes</th>\n",
              "      <th>region_northeast</th>\n",
              "      <th>region_northwest</th>\n",
              "      <th>region_southeast</th>\n",
              "      <th>region_southwest</th>\n",
              "    </tr>\n",
              "  </thead>\n",
              "  <tbody>\n",
              "    <tr>\n",
              "      <th>560</th>\n",
              "      <td>46</td>\n",
              "      <td>19.950</td>\n",
              "      <td>2</td>\n",
              "      <td>1</td>\n",
              "      <td>0</td>\n",
              "      <td>1</td>\n",
              "      <td>0</td>\n",
              "      <td>0</td>\n",
              "      <td>1</td>\n",
              "      <td>0</td>\n",
              "      <td>0</td>\n",
              "    </tr>\n",
              "    <tr>\n",
              "      <th>1285</th>\n",
              "      <td>47</td>\n",
              "      <td>24.320</td>\n",
              "      <td>0</td>\n",
              "      <td>1</td>\n",
              "      <td>0</td>\n",
              "      <td>1</td>\n",
              "      <td>0</td>\n",
              "      <td>1</td>\n",
              "      <td>0</td>\n",
              "      <td>0</td>\n",
              "      <td>0</td>\n",
              "    </tr>\n",
              "    <tr>\n",
              "      <th>1142</th>\n",
              "      <td>52</td>\n",
              "      <td>24.860</td>\n",
              "      <td>0</td>\n",
              "      <td>1</td>\n",
              "      <td>0</td>\n",
              "      <td>1</td>\n",
              "      <td>0</td>\n",
              "      <td>0</td>\n",
              "      <td>0</td>\n",
              "      <td>1</td>\n",
              "      <td>0</td>\n",
              "    </tr>\n",
              "    <tr>\n",
              "      <th>969</th>\n",
              "      <td>39</td>\n",
              "      <td>34.320</td>\n",
              "      <td>5</td>\n",
              "      <td>1</td>\n",
              "      <td>0</td>\n",
              "      <td>1</td>\n",
              "      <td>0</td>\n",
              "      <td>0</td>\n",
              "      <td>0</td>\n",
              "      <td>1</td>\n",
              "      <td>0</td>\n",
              "    </tr>\n",
              "    <tr>\n",
              "      <th>486</th>\n",
              "      <td>54</td>\n",
              "      <td>21.470</td>\n",
              "      <td>3</td>\n",
              "      <td>1</td>\n",
              "      <td>0</td>\n",
              "      <td>1</td>\n",
              "      <td>0</td>\n",
              "      <td>0</td>\n",
              "      <td>1</td>\n",
              "      <td>0</td>\n",
              "      <td>0</td>\n",
              "    </tr>\n",
              "    <tr>\n",
              "      <th>...</th>\n",
              "      <td>...</td>\n",
              "      <td>...</td>\n",
              "      <td>...</td>\n",
              "      <td>...</td>\n",
              "      <td>...</td>\n",
              "      <td>...</td>\n",
              "      <td>...</td>\n",
              "      <td>...</td>\n",
              "      <td>...</td>\n",
              "      <td>...</td>\n",
              "      <td>...</td>\n",
              "    </tr>\n",
              "    <tr>\n",
              "      <th>1095</th>\n",
              "      <td>18</td>\n",
              "      <td>31.350</td>\n",
              "      <td>4</td>\n",
              "      <td>1</td>\n",
              "      <td>0</td>\n",
              "      <td>1</td>\n",
              "      <td>0</td>\n",
              "      <td>1</td>\n",
              "      <td>0</td>\n",
              "      <td>0</td>\n",
              "      <td>0</td>\n",
              "    </tr>\n",
              "    <tr>\n",
              "      <th>1130</th>\n",
              "      <td>39</td>\n",
              "      <td>23.870</td>\n",
              "      <td>5</td>\n",
              "      <td>1</td>\n",
              "      <td>0</td>\n",
              "      <td>1</td>\n",
              "      <td>0</td>\n",
              "      <td>0</td>\n",
              "      <td>0</td>\n",
              "      <td>1</td>\n",
              "      <td>0</td>\n",
              "    </tr>\n",
              "    <tr>\n",
              "      <th>1294</th>\n",
              "      <td>58</td>\n",
              "      <td>25.175</td>\n",
              "      <td>0</td>\n",
              "      <td>0</td>\n",
              "      <td>1</td>\n",
              "      <td>1</td>\n",
              "      <td>0</td>\n",
              "      <td>1</td>\n",
              "      <td>0</td>\n",
              "      <td>0</td>\n",
              "      <td>0</td>\n",
              "    </tr>\n",
              "    <tr>\n",
              "      <th>860</th>\n",
              "      <td>37</td>\n",
              "      <td>47.600</td>\n",
              "      <td>2</td>\n",
              "      <td>1</td>\n",
              "      <td>0</td>\n",
              "      <td>0</td>\n",
              "      <td>1</td>\n",
              "      <td>0</td>\n",
              "      <td>0</td>\n",
              "      <td>0</td>\n",
              "      <td>1</td>\n",
              "    </tr>\n",
              "    <tr>\n",
              "      <th>1126</th>\n",
              "      <td>55</td>\n",
              "      <td>29.900</td>\n",
              "      <td>0</td>\n",
              "      <td>0</td>\n",
              "      <td>1</td>\n",
              "      <td>1</td>\n",
              "      <td>0</td>\n",
              "      <td>0</td>\n",
              "      <td>0</td>\n",
              "      <td>0</td>\n",
              "      <td>1</td>\n",
              "    </tr>\n",
              "  </tbody>\n",
              "</table>\n",
              "<p>1070 rows × 11 columns</p>\n",
              "</div>\n",
              "    <div class=\"colab-df-buttons\">\n",
              "\n",
              "  <div class=\"colab-df-container\">\n",
              "    <button class=\"colab-df-convert\" onclick=\"convertToInteractive('df-57e50471-ae86-465d-884d-378d8e671a7c')\"\n",
              "            title=\"Convert this dataframe to an interactive table.\"\n",
              "            style=\"display:none;\">\n",
              "\n",
              "  <svg xmlns=\"http://www.w3.org/2000/svg\" height=\"24px\" viewBox=\"0 -960 960 960\">\n",
              "    <path d=\"M120-120v-720h720v720H120Zm60-500h600v-160H180v160Zm220 220h160v-160H400v160Zm0 220h160v-160H400v160ZM180-400h160v-160H180v160Zm440 0h160v-160H620v160ZM180-180h160v-160H180v160Zm440 0h160v-160H620v160Z\"/>\n",
              "  </svg>\n",
              "    </button>\n",
              "\n",
              "  <style>\n",
              "    .colab-df-container {\n",
              "      display:flex;\n",
              "      gap: 12px;\n",
              "    }\n",
              "\n",
              "    .colab-df-convert {\n",
              "      background-color: #E8F0FE;\n",
              "      border: none;\n",
              "      border-radius: 50%;\n",
              "      cursor: pointer;\n",
              "      display: none;\n",
              "      fill: #1967D2;\n",
              "      height: 32px;\n",
              "      padding: 0 0 0 0;\n",
              "      width: 32px;\n",
              "    }\n",
              "\n",
              "    .colab-df-convert:hover {\n",
              "      background-color: #E2EBFA;\n",
              "      box-shadow: 0px 1px 2px rgba(60, 64, 67, 0.3), 0px 1px 3px 1px rgba(60, 64, 67, 0.15);\n",
              "      fill: #174EA6;\n",
              "    }\n",
              "\n",
              "    .colab-df-buttons div {\n",
              "      margin-bottom: 4px;\n",
              "    }\n",
              "\n",
              "    [theme=dark] .colab-df-convert {\n",
              "      background-color: #3B4455;\n",
              "      fill: #D2E3FC;\n",
              "    }\n",
              "\n",
              "    [theme=dark] .colab-df-convert:hover {\n",
              "      background-color: #434B5C;\n",
              "      box-shadow: 0px 1px 3px 1px rgba(0, 0, 0, 0.15);\n",
              "      filter: drop-shadow(0px 1px 2px rgba(0, 0, 0, 0.3));\n",
              "      fill: #FFFFFF;\n",
              "    }\n",
              "  </style>\n",
              "\n",
              "    <script>\n",
              "      const buttonEl =\n",
              "        document.querySelector('#df-57e50471-ae86-465d-884d-378d8e671a7c button.colab-df-convert');\n",
              "      buttonEl.style.display =\n",
              "        google.colab.kernel.accessAllowed ? 'block' : 'none';\n",
              "\n",
              "      async function convertToInteractive(key) {\n",
              "        const element = document.querySelector('#df-57e50471-ae86-465d-884d-378d8e671a7c');\n",
              "        const dataTable =\n",
              "          await google.colab.kernel.invokeFunction('convertToInteractive',\n",
              "                                                    [key], {});\n",
              "        if (!dataTable) return;\n",
              "\n",
              "        const docLinkHtml = 'Like what you see? Visit the ' +\n",
              "          '<a target=\"_blank\" href=https://colab.research.google.com/notebooks/data_table.ipynb>data table notebook</a>'\n",
              "          + ' to learn more about interactive tables.';\n",
              "        element.innerHTML = '';\n",
              "        dataTable['output_type'] = 'display_data';\n",
              "        await google.colab.output.renderOutput(dataTable, element);\n",
              "        const docLink = document.createElement('div');\n",
              "        docLink.innerHTML = docLinkHtml;\n",
              "        element.appendChild(docLink);\n",
              "      }\n",
              "    </script>\n",
              "  </div>\n",
              "\n",
              "\n",
              "<div id=\"df-3d8bfc24-dbd5-4107-934d-9c5fd21754e2\">\n",
              "  <button class=\"colab-df-quickchart\" onclick=\"quickchart('df-3d8bfc24-dbd5-4107-934d-9c5fd21754e2')\"\n",
              "            title=\"Suggest charts\"\n",
              "            style=\"display:none;\">\n",
              "\n",
              "<svg xmlns=\"http://www.w3.org/2000/svg\" height=\"24px\"viewBox=\"0 0 24 24\"\n",
              "     width=\"24px\">\n",
              "    <g>\n",
              "        <path d=\"M19 3H5c-1.1 0-2 .9-2 2v14c0 1.1.9 2 2 2h14c1.1 0 2-.9 2-2V5c0-1.1-.9-2-2-2zM9 17H7v-7h2v7zm4 0h-2V7h2v10zm4 0h-2v-4h2v4z\"/>\n",
              "    </g>\n",
              "</svg>\n",
              "  </button>\n",
              "\n",
              "<style>\n",
              "  .colab-df-quickchart {\n",
              "      --bg-color: #E8F0FE;\n",
              "      --fill-color: #1967D2;\n",
              "      --hover-bg-color: #E2EBFA;\n",
              "      --hover-fill-color: #174EA6;\n",
              "      --disabled-fill-color: #AAA;\n",
              "      --disabled-bg-color: #DDD;\n",
              "  }\n",
              "\n",
              "  [theme=dark] .colab-df-quickchart {\n",
              "      --bg-color: #3B4455;\n",
              "      --fill-color: #D2E3FC;\n",
              "      --hover-bg-color: #434B5C;\n",
              "      --hover-fill-color: #FFFFFF;\n",
              "      --disabled-bg-color: #3B4455;\n",
              "      --disabled-fill-color: #666;\n",
              "  }\n",
              "\n",
              "  .colab-df-quickchart {\n",
              "    background-color: var(--bg-color);\n",
              "    border: none;\n",
              "    border-radius: 50%;\n",
              "    cursor: pointer;\n",
              "    display: none;\n",
              "    fill: var(--fill-color);\n",
              "    height: 32px;\n",
              "    padding: 0;\n",
              "    width: 32px;\n",
              "  }\n",
              "\n",
              "  .colab-df-quickchart:hover {\n",
              "    background-color: var(--hover-bg-color);\n",
              "    box-shadow: 0 1px 2px rgba(60, 64, 67, 0.3), 0 1px 3px 1px rgba(60, 64, 67, 0.15);\n",
              "    fill: var(--button-hover-fill-color);\n",
              "  }\n",
              "\n",
              "  .colab-df-quickchart-complete:disabled,\n",
              "  .colab-df-quickchart-complete:disabled:hover {\n",
              "    background-color: var(--disabled-bg-color);\n",
              "    fill: var(--disabled-fill-color);\n",
              "    box-shadow: none;\n",
              "  }\n",
              "\n",
              "  .colab-df-spinner {\n",
              "    border: 2px solid var(--fill-color);\n",
              "    border-color: transparent;\n",
              "    border-bottom-color: var(--fill-color);\n",
              "    animation:\n",
              "      spin 1s steps(1) infinite;\n",
              "  }\n",
              "\n",
              "  @keyframes spin {\n",
              "    0% {\n",
              "      border-color: transparent;\n",
              "      border-bottom-color: var(--fill-color);\n",
              "      border-left-color: var(--fill-color);\n",
              "    }\n",
              "    20% {\n",
              "      border-color: transparent;\n",
              "      border-left-color: var(--fill-color);\n",
              "      border-top-color: var(--fill-color);\n",
              "    }\n",
              "    30% {\n",
              "      border-color: transparent;\n",
              "      border-left-color: var(--fill-color);\n",
              "      border-top-color: var(--fill-color);\n",
              "      border-right-color: var(--fill-color);\n",
              "    }\n",
              "    40% {\n",
              "      border-color: transparent;\n",
              "      border-right-color: var(--fill-color);\n",
              "      border-top-color: var(--fill-color);\n",
              "    }\n",
              "    60% {\n",
              "      border-color: transparent;\n",
              "      border-right-color: var(--fill-color);\n",
              "    }\n",
              "    80% {\n",
              "      border-color: transparent;\n",
              "      border-right-color: var(--fill-color);\n",
              "      border-bottom-color: var(--fill-color);\n",
              "    }\n",
              "    90% {\n",
              "      border-color: transparent;\n",
              "      border-bottom-color: var(--fill-color);\n",
              "    }\n",
              "  }\n",
              "</style>\n",
              "\n",
              "  <script>\n",
              "    async function quickchart(key) {\n",
              "      const quickchartButtonEl =\n",
              "        document.querySelector('#' + key + ' button');\n",
              "      quickchartButtonEl.disabled = true;  // To prevent multiple clicks.\n",
              "      quickchartButtonEl.classList.add('colab-df-spinner');\n",
              "      try {\n",
              "        const charts = await google.colab.kernel.invokeFunction(\n",
              "            'suggestCharts', [key], {});\n",
              "      } catch (error) {\n",
              "        console.error('Error during call to suggestCharts:', error);\n",
              "      }\n",
              "      quickchartButtonEl.classList.remove('colab-df-spinner');\n",
              "      quickchartButtonEl.classList.add('colab-df-quickchart-complete');\n",
              "    }\n",
              "    (() => {\n",
              "      let quickchartButtonEl =\n",
              "        document.querySelector('#df-3d8bfc24-dbd5-4107-934d-9c5fd21754e2 button');\n",
              "      quickchartButtonEl.style.display =\n",
              "        google.colab.kernel.accessAllowed ? 'block' : 'none';\n",
              "    })();\n",
              "  </script>\n",
              "</div>\n",
              "    </div>\n",
              "  </div>\n"
            ],
            "application/vnd.google.colaboratory.intrinsic+json": {
              "type": "dataframe",
              "variable_name": "x_train",
              "summary": "{\n  \"name\": \"x_train\",\n  \"rows\": 1070,\n  \"fields\": [\n    {\n      \"column\": \"age\",\n      \"properties\": {\n        \"dtype\": \"number\",\n        \"std\": 14,\n        \"min\": 18,\n        \"max\": 64,\n        \"num_unique_values\": 47,\n        \"samples\": [\n          35,\n          33,\n          20\n        ],\n        \"semantic_type\": \"\",\n        \"description\": \"\"\n      }\n    },\n    {\n      \"column\": \"bmi\",\n      \"properties\": {\n        \"dtype\": \"number\",\n        \"std\": 6.043385672727495,\n        \"min\": 15.96,\n        \"max\": 53.13,\n        \"num_unique_values\": 494,\n        \"samples\": [\n          27.3,\n          31.35,\n          21.66\n        ],\n        \"semantic_type\": \"\",\n        \"description\": \"\"\n      }\n    },\n    {\n      \"column\": \"children\",\n      \"properties\": {\n        \"dtype\": \"number\",\n        \"std\": 1,\n        \"min\": 0,\n        \"max\": 5,\n        \"num_unique_values\": 6,\n        \"samples\": [\n          2,\n          0,\n          4\n        ],\n        \"semantic_type\": \"\",\n        \"description\": \"\"\n      }\n    },\n    {\n      \"column\": \"sex_female\",\n      \"properties\": {\n        \"dtype\": \"uint8\",\n        \"num_unique_values\": 2,\n        \"samples\": [\n          0,\n          1\n        ],\n        \"semantic_type\": \"\",\n        \"description\": \"\"\n      }\n    },\n    {\n      \"column\": \"sex_male\",\n      \"properties\": {\n        \"dtype\": \"uint8\",\n        \"num_unique_values\": 2,\n        \"samples\": [\n          1,\n          0\n        ],\n        \"semantic_type\": \"\",\n        \"description\": \"\"\n      }\n    },\n    {\n      \"column\": \"smoker_no\",\n      \"properties\": {\n        \"dtype\": \"uint8\",\n        \"num_unique_values\": 2,\n        \"samples\": [\n          0,\n          1\n        ],\n        \"semantic_type\": \"\",\n        \"description\": \"\"\n      }\n    },\n    {\n      \"column\": \"smoker_yes\",\n      \"properties\": {\n        \"dtype\": \"uint8\",\n        \"num_unique_values\": 2,\n        \"samples\": [\n          1,\n          0\n        ],\n        \"semantic_type\": \"\",\n        \"description\": \"\"\n      }\n    },\n    {\n      \"column\": \"region_northeast\",\n      \"properties\": {\n        \"dtype\": \"uint8\",\n        \"num_unique_values\": 2,\n        \"samples\": [\n          1,\n          0\n        ],\n        \"semantic_type\": \"\",\n        \"description\": \"\"\n      }\n    },\n    {\n      \"column\": \"region_northwest\",\n      \"properties\": {\n        \"dtype\": \"uint8\",\n        \"num_unique_values\": 2,\n        \"samples\": [\n          0,\n          1\n        ],\n        \"semantic_type\": \"\",\n        \"description\": \"\"\n      }\n    },\n    {\n      \"column\": \"region_southeast\",\n      \"properties\": {\n        \"dtype\": \"uint8\",\n        \"num_unique_values\": 2,\n        \"samples\": [\n          1,\n          0\n        ],\n        \"semantic_type\": \"\",\n        \"description\": \"\"\n      }\n    },\n    {\n      \"column\": \"region_southwest\",\n      \"properties\": {\n        \"dtype\": \"uint8\",\n        \"num_unique_values\": 2,\n        \"samples\": [\n          1,\n          0\n        ],\n        \"semantic_type\": \"\",\n        \"description\": \"\"\n      }\n    }\n  ]\n}"
            }
          },
          "metadata": {},
          "execution_count": 88
        }
      ]
    }
  ]
}