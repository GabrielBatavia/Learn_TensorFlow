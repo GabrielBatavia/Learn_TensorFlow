{
  "nbformat": 4,
  "nbformat_minor": 0,
  "metadata": {
    "colab": {
      "provenance": [],
      "authorship_tag": "ABX9TyMzT94wIpvKBuNN3vs7xJ27",
      "include_colab_link": true
    },
    "kernelspec": {
      "name": "python3",
      "display_name": "Python 3"
    },
    "language_info": {
      "name": "python"
    }
  },
  "cells": [
    {
      "cell_type": "markdown",
      "metadata": {
        "id": "view-in-github",
        "colab_type": "text"
      },
      "source": [
        "<a href=\"https://colab.research.google.com/github/GabrielBatavia/Learn_TensorFlow/blob/main/01_neural_network_regression_with_tensorflow.ipynb\" target=\"_parent\"><img src=\"https://colab.research.google.com/assets/colab-badge.svg\" alt=\"Open In Colab\"/></a>"
      ]
    },
    {
      "cell_type": "markdown",
      "source": [
        "# Introduction to Regression with Neural Networks in TensorFlow\n",
        "\n",
        "There are many definition for a regression problem but in our case, we're going to simplify it : predicting a numerical variable based on some other combination of variables, even shorter...predicting a number."
      ],
      "metadata": {
        "id": "eANshE7nr2zb"
      }
    },
    {
      "cell_type": "code",
      "execution_count": 12,
      "metadata": {
        "colab": {
          "base_uri": "https://localhost:8080/"
        },
        "id": "UmVJP_eWrO59",
        "outputId": "36bf4412-4719-40de-e259-0d6e632ff7ed"
      },
      "outputs": [
        {
          "output_type": "stream",
          "name": "stdout",
          "text": [
            "2.15.0\n"
          ]
        }
      ],
      "source": [
        "# Import TensorFlow\n",
        "\n",
        "import tensorflow as tf\n",
        "print(tf.__version__)"
      ]
    },
    {
      "cell_type": "markdown",
      "source": [
        "## Creating data to view and fit"
      ],
      "metadata": {
        "id": "vbbwMFoqskyN"
      }
    },
    {
      "cell_type": "code",
      "source": [
        "import numpy as np\n",
        "import matplotlib.pyplot as plt"
      ],
      "metadata": {
        "id": "DXOtRA60shEW"
      },
      "execution_count": 13,
      "outputs": []
    },
    {
      "cell_type": "code",
      "source": [
        "# Creating features\n",
        "\n",
        "x = np.array([-7., -4., -1., 2., 5., 8., 11., 14.])\n",
        "\n",
        "# Create labels\n",
        "y = np.array([3., 6., 9., 12., 15., 18., 21., 24.])\n",
        "\n",
        "# Visualize it\n",
        "plt.scatter(x, y);"
      ],
      "metadata": {
        "colab": {
          "base_uri": "https://localhost:8080/",
          "height": 435
        },
        "id": "SX4eHtEts4GD",
        "outputId": "96fcec2d-2207-465c-f8fb-80af1a7ef26e"
      },
      "execution_count": 14,
      "outputs": [
        {
          "output_type": "display_data",
          "data": {
            "text/plain": [
              "<Figure size 640x480 with 1 Axes>"
            ],
            "image/png": "[encoded data removed]"
          },
          "metadata": {}
        }
      ]
    },
    {
      "cell_type": "code",
      "source": [
        "y == x + 10"
      ],
      "metadata": {
        "id": "qaf2FE-utbQ-",
        "colab": {
          "base_uri": "https://localhost:8080/"
        },
        "outputId": "330913d7-f46b-417c-8d65-f61045d25e9b"
      },
      "execution_count": 15,
      "outputs": [
        {
          "output_type": "execute_result",
          "data": {
            "text/plain": [
              "array([ True,  True,  True,  True,  True,  True,  True,  True])"
            ]
          },
          "metadata": {},
          "execution_count": 15
        }
      ]
    },
    {
      "cell_type": "markdown",
      "source": [
        "## Input and Output shapes"
      ],
      "metadata": {
        "id": "hHex_79OxmAn"
      }
    },
    {
      "cell_type": "code",
      "source": [
        "# Create a demo tensor for out housing price prediction problem\n",
        "\n",
        "house_info = tf.constant([\"bedroom\", \"bathroom\", \"garage\"])\n",
        "house_price = tf.constant([939700])\n",
        "\n",
        "house_info, house_price"
      ],
      "metadata": {
        "colab": {
          "base_uri": "https://localhost:8080/"
        },
        "id": "EKNlltO3xrVe",
        "outputId": "013b2077-6213-4cde-fc91-5b76f5d70db7"
      },
      "execution_count": 16,
      "outputs": [
        {
          "output_type": "execute_result",
          "data": {
            "text/plain": [
              "(<tf.Tensor: shape=(3,), dtype=string, numpy=array([b'bedroom', b'bathroom', b'garage'], dtype=object)>,\n",
              " <tf.Tensor: shape=(1,), dtype=int32, numpy=array([939700], dtype=int32)>)"
            ]
          },
          "metadata": {},
          "execution_count": 16
        }
      ]
    },
    {
      "cell_type": "code",
      "source": [
        "x[0], y[0]"
      ],
      "metadata": {
        "colab": {
          "base_uri": "https://localhost:8080/"
        },
        "id": "-tWt-gYSzm66",
        "outputId": "81ad89ef-5827-4c0b-f490-54ddfb8be94d"
      },
      "execution_count": 17,
      "outputs": [
        {
          "output_type": "execute_result",
          "data": {
            "text/plain": [
              "(-7.0, 3.0)"
            ]
          },
          "metadata": {},
          "execution_count": 17
        }
      ]
    },
    {
      "cell_type": "code",
      "source": [
        "input_shape = x[0].shape\n",
        "output_shape = y[0].shape\n",
        "\n",
        "input_shape, output_shape"
      ],
      "metadata": {
        "colab": {
          "base_uri": "https://localhost:8080/"
        },
        "id": "sGSz7U-vzY4m",
        "outputId": "55f8499a-d328-4af7-f096-28e1500c0f9e"
      },
      "execution_count": 18,
      "outputs": [
        {
          "output_type": "execute_result",
          "data": {
            "text/plain": [
              "((), ())"
            ]
          },
          "metadata": {},
          "execution_count": 18
        }
      ]
    },
    {
      "cell_type": "code",
      "source": [
        "x[0].ndim"
      ],
      "metadata": {
        "colab": {
          "base_uri": "https://localhost:8080/"
        },
        "id": "VCL4zHK5z8RR",
        "outputId": "6890f941-92a4-4eae-fa5d-cc4da1855ada"
      },
      "execution_count": 19,
      "outputs": [
        {
          "output_type": "execute_result",
          "data": {
            "text/plain": [
              "0"
            ]
          },
          "metadata": {},
          "execution_count": 19
        }
      ]
    },
    {
      "cell_type": "code",
      "source": [
        "# Turn our Numpy arrays into tensors with dtype 32\n",
        "\n",
        "X = tf.constant(x, dtype=tf.float32)\n",
        "Y = tf.constant(y, dtype=tf.float32)\n",
        "\n",
        "X, Y"
      ],
      "metadata": {
        "colab": {
          "base_uri": "https://localhost:8080/"
        },
        "id": "QL2Ofdwmz-sQ",
        "outputId": "bb8157f6-c48f-456a-eab5-2f7137a571c1"
      },
      "execution_count": 20,
      "outputs": [
        {
          "output_type": "execute_result",
          "data": {
            "text/plain": [
              "(<tf.Tensor: shape=(8,), dtype=float32, numpy=array([-7., -4., -1.,  2.,  5.,  8., 11., 14.], dtype=float32)>,\n",
              " <tf.Tensor: shape=(8,), dtype=float32, numpy=array([ 3.,  6.,  9., 12., 15., 18., 21., 24.], dtype=float32)>)"
            ]
          },
          "metadata": {},
          "execution_count": 20
        }
      ]
    },
    {
      "cell_type": "code",
      "source": [
        "input_shape = X[0].shape\n",
        "output_shape = y[0].shape\n",
        "\n",
        "input_shape, output_shape"
      ],
      "metadata": {
        "colab": {
          "base_uri": "https://localhost:8080/"
        },
        "id": "R6m8i44s1t3S",
        "outputId": "96da66f7-b613-47eb-d490-8e5300a7f2d6"
      },
      "execution_count": 21,
      "outputs": [
        {
          "output_type": "execute_result",
          "data": {
            "text/plain": [
              "(TensorShape([]), ())"
            ]
          },
          "metadata": {},
          "execution_count": 21
        }
      ]
    },
    {
      "cell_type": "markdown",
      "source": [
        "## Steps in modelling with TensorFlow\n",
        "\n",
        "1. **Creating a model** - define the input and output layers, as well as the hidden layers of a deep learning model.\n",
        "\n",
        "2. **Compiling a model** - define the loss function (in other words, the function wich tells our model how wrong it is) and the optimizer (tells our model how to improve the patterns its learning) and evaluation metrics (what we can use to interpret the preformance of our model)\n",
        "\n",
        "3. Fitting a model - letting the model try to find patters between X & y (features and labels)"
      ],
      "metadata": {
        "id": "T9heq-y318BJ"
      }
    },
    {
      "cell_type": "code",
      "source": [
        "# Opetionally, the first layer can receive an 'input_shape' argument :\n",
        "# model = tf.keras.Sequential()\n",
        "# model.add(tf.keras.layers.Dense(8, input_shape=(16,)))\n",
        "\n",
        "# Afterwards, we do automatic shape inference :\n",
        "# model.add(tf.keras.layers.Dense(4))\n",
        "\n",
        "# model = tf.keras.Sequential()\n",
        "# model.add(tf.keras.layers.Dense(1))\n",
        "# ..."
      ],
      "metadata": {
        "id": "nEAWuhvc6w4g"
      },
      "execution_count": 22,
      "outputs": []
    },
    {
      "cell_type": "code",
      "source": [
        "# Set random seed\n",
        "\n",
        "tf.random.set_seed(42)\n",
        "\n",
        "# 1. Create a model using the Sequential API\n",
        "model = tf.keras.Sequential([\n",
        "    tf.keras.layers.Dense(1)\n",
        "])\n",
        "\n",
        "# 2. Compile the model\n",
        "model.compile(loss = tf.keras.losses.mae, # mae is short for mean absolute error\n",
        "              optimizer = tf.keras.optimizers.SGD(), # sgd is short for stochasitc gradient decent\n",
        "              metrics = [\"mae\"])\n",
        "\n",
        "# 3. Fit the model\n",
        "# model.fit(X, Y, epochs=5) # BREAK IN UPDATED TENSOR VERSION\n",
        "model.fit(tf.expand_dims(X, axis=-1), Y, epochs=5)"
      ],
      "metadata": {
        "colab": {
          "base_uri": "https://localhost:8080/"
        },
        "id": "ubX_9SYR149W",
        "outputId": "b9ab6ede-bce2-45e2-e619-3f809ff724f1"
      },
      "execution_count": 23,
      "outputs": [
        {
          "output_type": "stream",
          "name": "stdout",
          "text": [
            "Epoch 1/5\n",
            "1/1 [==============================] - 1s 917ms/step - loss: 16.2801 - mae: 16.2801\n",
            "Epoch 2/5\n",
            "1/1 [==============================] - 0s 20ms/step - loss: 15.9988 - mae: 15.9988\n",
            "Epoch 3/5\n",
            "1/1 [==============================] - 0s 15ms/step - loss: 15.7176 - mae: 15.7176\n",
            "Epoch 4/5\n",
            "1/1 [==============================] - 0s 12ms/step - loss: 15.4363 - mae: 15.4363\n",
            "Epoch 5/5\n",
            "1/1 [==============================] - 0s 20ms/step - loss: 15.1551 - mae: 15.1551\n"
          ]
        },
        {
          "output_type": "execute_result",
          "data": {
            "text/plain": [
              "<keras.src.callbacks.History at 0x7f4292e77a00>"
            ]
          },
          "metadata": {},
          "execution_count": 23
        }
      ]
    },
    {
      "cell_type": "code",
      "source": [
        "# Check our X and Y\n",
        "x, y"
      ],
      "metadata": {
        "colab": {
          "base_uri": "https://localhost:8080/"
        },
        "id": "1B1DsBlo9jYC",
        "outputId": "4ff38964-0eb3-4943-b83f-6759c4896427"
      },
      "execution_count": 24,
      "outputs": [
        {
          "output_type": "execute_result",
          "data": {
            "text/plain": [
              "(array([-7., -4., -1.,  2.,  5.,  8., 11., 14.]),\n",
              " array([ 3.,  6.,  9., 12., 15., 18., 21., 24.]))"
            ]
          },
          "metadata": {},
          "execution_count": 24
        }
      ]
    },
    {
      "cell_type": "code",
      "source": [
        "# Try make prediction\n",
        "model.predict([17.0])"
      ],
      "metadata": {
        "colab": {
          "base_uri": "https://localhost:8080/"
        },
        "id": "L4S19GPP9pXG",
        "outputId": "7bfcbd32-0efc-460f-cdc3-25a84b94bf0c"
      },
      "execution_count": 25,
      "outputs": [
        {
          "output_type": "stream",
          "name": "stdout",
          "text": [
            "1/1 [==============================] - 0s 231ms/step\n"
          ]
        },
        {
          "output_type": "execute_result",
          "data": {
            "text/plain": [
              "array([[-6.9307203]], dtype=float32)"
            ]
          },
          "metadata": {},
          "execution_count": 25
        }
      ]
    },
    {
      "cell_type": "markdown",
      "source": [
        "## Improving our model\n",
        "\n",
        "We can improve our model, by altering the steps we took to create a model.\n",
        "\n",
        "1. **Creating a model** - ere we might add more layers, increse the number of hidden units (all called neurons) within each of the hidden layers, change the activation function of each layer.\n",
        "\n",
        "2. **Compiling a model** - here we might chang ethe optimization function or perhaps the **learning rate** of the optimization function.\n",
        "\n",
        "3. **Fitting a model** - here we might fit a model for more **epochs** (leave it training for longer) or on more data (give the model more examples to learn form)"
      ],
      "metadata": {
        "id": "Nq6KqLEo-HP4"
      }
    },
    {
      "cell_type": "code",
      "source": [
        "# Let's rebuild our model\n",
        "\n",
        "# 1. Create the model\n",
        "model1 = tf.keras.Sequential([\n",
        "    tf.keras.layers.Dense(1)\n",
        "])\n",
        "\n",
        "# 2. Compile the model\n",
        "model1.compile(loss = tf.keras.losses.mae,\n",
        "              optimizer = tf.keras.optimizers.SGD(),\n",
        "              metrics = [\"mae\"])\n",
        "\n",
        "# 3. Fit the model\n",
        "# model.fit(X, Y, epochs=5) # BREAK IN UPDATED TENSOR VERSION\n",
        "model1.fit(tf.expand_dims(X, axis=-1), Y, epochs=100)"
      ],
      "metadata": {
        "colab": {
          "base_uri": "https://localhost:8080/"
        },
        "id": "GPGzIvb2DLc2",
        "outputId": "2f0034ff-f78f-4ae2-ad34-619f018dad9d"
      },
      "execution_count": 26,
      "outputs": [
        {
          "output_type": "stream",
          "name": "stdout",
          "text": [
            "Epoch 1/100\n",
            "1/1 [==============================] - 1s 897ms/step - loss: 11.7251 - mae: 11.7251\n",
            "Epoch 2/100\n",
            "1/1 [==============================] - 0s 34ms/step - loss: 11.5926 - mae: 11.5926\n",
            "Epoch 3/100\n",
            "1/1 [==============================] - 0s 28ms/step - loss: 11.4601 - mae: 11.4601\n",
            "Epoch 4/100\n",
            "1/1 [==============================] - 0s 30ms/step - loss: 11.3276 - mae: 11.3276\n",
            "Epoch 5/100\n",
            "1/1 [==============================] - 0s 20ms/step - loss: 11.1951 - mae: 11.1951\n",
            "Epoch 6/100\n",
            "1/1 [==============================] - 0s 19ms/step - loss: 11.0626 - mae: 11.0626\n",
            "Epoch 7/100\n",
            "1/1 [==============================] - 0s 20ms/step - loss: 10.9301 - mae: 10.9301\n",
            "Epoch 8/100\n",
            "1/1 [==============================] - 0s 22ms/step - loss: 10.7976 - mae: 10.7976\n",
            "Epoch 9/100\n",
            "1/1 [==============================] - 0s 17ms/step - loss: 10.6651 - mae: 10.6651\n",
            "Epoch 10/100\n",
            "1/1 [==============================] - 0s 19ms/step - loss: 10.5326 - mae: 10.5326\n",
            "Epoch 11/100\n",
            "1/1 [==============================] - 0s 39ms/step - loss: 10.4001 - mae: 10.4001\n",
            "Epoch 12/100\n",
            "1/1 [==============================] - 0s 31ms/step - loss: 10.2676 - mae: 10.2676\n",
            "Epoch 13/100\n",
            "1/1 [==============================] - 0s 53ms/step - loss: 10.1351 - mae: 10.1351\n",
            "Epoch 14/100\n",
            "1/1 [==============================] - 0s 42ms/step - loss: 10.0026 - mae: 10.0026\n",
            "Epoch 15/100\n",
            "1/1 [==============================] - 0s 25ms/step - loss: 9.8701 - mae: 9.8701\n",
            "Epoch 16/100\n",
            "1/1 [==============================] - 0s 25ms/step - loss: 9.7376 - mae: 9.7376\n",
            "Epoch 17/100\n",
            "1/1 [==============================] - 0s 35ms/step - loss: 9.6051 - mae: 9.6051\n",
            "Epoch 18/100\n",
            "1/1 [==============================] - 0s 23ms/step - loss: 9.4726 - mae: 9.4726\n",
            "Epoch 19/100\n",
            "1/1 [==============================] - 0s 23ms/step - loss: 9.3401 - mae: 9.3401\n",
            "Epoch 20/100\n",
            "1/1 [==============================] - 0s 23ms/step - loss: 9.2076 - mae: 9.2076\n",
            "Epoch 21/100\n",
            "1/1 [==============================] - 0s 20ms/step - loss: 9.0751 - mae: 9.0751\n",
            "Epoch 22/100\n",
            "1/1 [==============================] - 0s 20ms/step - loss: 8.9426 - mae: 8.9426\n",
            "Epoch 23/100\n",
            "1/1 [==============================] - 0s 25ms/step - loss: 8.8101 - mae: 8.8101\n",
            "Epoch 24/100\n",
            "1/1 [==============================] - 0s 27ms/step - loss: 8.6776 - mae: 8.6776\n",
            "Epoch 25/100\n",
            "1/1 [==============================] - 0s 16ms/step - loss: 8.5451 - mae: 8.5451\n",
            "Epoch 26/100\n",
            "1/1 [==============================] - 0s 16ms/step - loss: 8.4126 - mae: 8.4126\n",
            "Epoch 27/100\n",
            "1/1 [==============================] - 0s 26ms/step - loss: 8.2801 - mae: 8.2801\n",
            "Epoch 28/100\n",
            "1/1 [==============================] - 0s 24ms/step - loss: 8.1476 - mae: 8.1476\n",
            "Epoch 29/100\n",
            "1/1 [==============================] - 0s 40ms/step - loss: 8.0151 - mae: 8.0151\n",
            "Epoch 30/100\n",
            "1/1 [==============================] - 0s 23ms/step - loss: 7.8826 - mae: 7.8826\n",
            "Epoch 31/100\n",
            "1/1 [==============================] - 0s 19ms/step - loss: 7.7501 - mae: 7.7501\n",
            "Epoch 32/100\n",
            "1/1 [==============================] - 0s 36ms/step - loss: 7.6176 - mae: 7.6176\n",
            "Epoch 33/100\n",
            "1/1 [==============================] - 0s 43ms/step - loss: 7.4851 - mae: 7.4851\n",
            "Epoch 34/100\n",
            "1/1 [==============================] - 0s 27ms/step - loss: 7.3526 - mae: 7.3526\n",
            "Epoch 35/100\n",
            "1/1 [==============================] - 0s 25ms/step - loss: 7.2450 - mae: 7.2450\n",
            "Epoch 36/100\n",
            "1/1 [==============================] - 0s 31ms/step - loss: 7.2394 - mae: 7.2394\n",
            "Epoch 37/100\n",
            "1/1 [==============================] - 0s 33ms/step - loss: 7.2338 - mae: 7.2338\n",
            "Epoch 38/100\n",
            "1/1 [==============================] - 0s 24ms/step - loss: 7.2281 - mae: 7.2281\n",
            "Epoch 39/100\n",
            "1/1 [==============================] - 0s 22ms/step - loss: 7.2225 - mae: 7.2225\n",
            "Epoch 40/100\n",
            "1/1 [==============================] - 0s 21ms/step - loss: 7.2169 - mae: 7.2169\n",
            "Epoch 41/100\n",
            "1/1 [==============================] - 0s 27ms/step - loss: 7.2112 - mae: 7.2112\n",
            "Epoch 42/100\n",
            "1/1 [==============================] - 0s 18ms/step - loss: 7.2056 - mae: 7.2056\n",
            "Epoch 43/100\n",
            "1/1 [==============================] - 0s 16ms/step - loss: 7.2000 - mae: 7.2000\n",
            "Epoch 44/100\n",
            "1/1 [==============================] - 0s 25ms/step - loss: 7.1944 - mae: 7.1944\n",
            "Epoch 45/100\n",
            "1/1 [==============================] - 0s 19ms/step - loss: 7.1887 - mae: 7.1887\n",
            "Epoch 46/100\n",
            "1/1 [==============================] - 0s 21ms/step - loss: 7.1831 - mae: 7.1831\n",
            "Epoch 47/100\n",
            "1/1 [==============================] - 0s 24ms/step - loss: 7.1775 - mae: 7.1775\n",
            "Epoch 48/100\n",
            "1/1 [==============================] - 0s 22ms/step - loss: 7.1719 - mae: 7.1719\n",
            "Epoch 49/100\n",
            "1/1 [==============================] - 0s 23ms/step - loss: 7.1663 - mae: 7.1663\n",
            "Epoch 50/100\n",
            "1/1 [==============================] - 0s 21ms/step - loss: 7.1606 - mae: 7.1606\n",
            "Epoch 51/100\n",
            "1/1 [==============================] - 0s 27ms/step - loss: 7.1550 - mae: 7.1550\n",
            "Epoch 52/100\n",
            "1/1 [==============================] - 0s 23ms/step - loss: 7.1494 - mae: 7.1494\n",
            "Epoch 53/100\n",
            "1/1 [==============================] - 0s 27ms/step - loss: 7.1438 - mae: 7.1438\n",
            "Epoch 54/100\n",
            "1/1 [==============================] - 0s 29ms/step - loss: 7.1381 - mae: 7.1381\n",
            "Epoch 55/100\n",
            "1/1 [==============================] - 0s 32ms/step - loss: 7.1325 - mae: 7.1325\n",
            "Epoch 56/100\n",
            "1/1 [==============================] - 0s 21ms/step - loss: 7.1269 - mae: 7.1269\n",
            "Epoch 57/100\n",
            "1/1 [==============================] - 0s 35ms/step - loss: 7.1212 - mae: 7.1212\n",
            "Epoch 58/100\n",
            "1/1 [==============================] - 0s 28ms/step - loss: 7.1156 - mae: 7.1156\n",
            "Epoch 59/100\n",
            "1/1 [==============================] - 0s 23ms/step - loss: 7.1100 - mae: 7.1100\n",
            "Epoch 60/100\n",
            "1/1 [==============================] - 0s 22ms/step - loss: 7.1044 - mae: 7.1044\n",
            "Epoch 61/100\n",
            "1/1 [==============================] - 0s 28ms/step - loss: 7.0988 - mae: 7.0988\n",
            "Epoch 62/100\n",
            "1/1 [==============================] - 0s 32ms/step - loss: 7.0931 - mae: 7.0931\n",
            "Epoch 63/100\n",
            "1/1 [==============================] - 0s 25ms/step - loss: 7.0875 - mae: 7.0875\n",
            "Epoch 64/100\n",
            "1/1 [==============================] - 0s 33ms/step - loss: 7.0819 - mae: 7.0819\n",
            "Epoch 65/100\n",
            "1/1 [==============================] - 0s 32ms/step - loss: 7.0763 - mae: 7.0763\n",
            "Epoch 66/100\n",
            "1/1 [==============================] - 0s 32ms/step - loss: 7.0706 - mae: 7.0706\n",
            "Epoch 67/100\n",
            "1/1 [==============================] - 0s 35ms/step - loss: 7.0650 - mae: 7.0650\n",
            "Epoch 68/100\n",
            "1/1 [==============================] - 0s 28ms/step - loss: 7.0594 - mae: 7.0594\n",
            "Epoch 69/100\n",
            "1/1 [==============================] - 0s 44ms/step - loss: 7.0538 - mae: 7.0538\n",
            "Epoch 70/100\n",
            "1/1 [==============================] - 0s 31ms/step - loss: 7.0481 - mae: 7.0481\n",
            "Epoch 71/100\n",
            "1/1 [==============================] - 0s 31ms/step - loss: 7.0425 - mae: 7.0425\n",
            "Epoch 72/100\n",
            "1/1 [==============================] - 0s 28ms/step - loss: 7.0369 - mae: 7.0369\n",
            "Epoch 73/100\n",
            "1/1 [==============================] - 0s 23ms/step - loss: 7.0312 - mae: 7.0312\n",
            "Epoch 74/100\n",
            "1/1 [==============================] - 0s 28ms/step - loss: 7.0256 - mae: 7.0256\n",
            "Epoch 75/100\n",
            "1/1 [==============================] - 0s 28ms/step - loss: 7.0200 - mae: 7.0200\n",
            "Epoch 76/100\n",
            "1/1 [==============================] - 0s 28ms/step - loss: 7.0144 - mae: 7.0144\n",
            "Epoch 77/100\n",
            "1/1 [==============================] - 0s 20ms/step - loss: 7.0087 - mae: 7.0087\n",
            "Epoch 78/100\n",
            "1/1 [==============================] - 0s 21ms/step - loss: 7.0031 - mae: 7.0031\n",
            "Epoch 79/100\n",
            "1/1 [==============================] - 0s 23ms/step - loss: 6.9975 - mae: 6.9975\n",
            "Epoch 80/100\n",
            "1/1 [==============================] - 0s 21ms/step - loss: 6.9919 - mae: 6.9919\n",
            "Epoch 81/100\n",
            "1/1 [==============================] - 0s 28ms/step - loss: 6.9863 - mae: 6.9863\n",
            "Epoch 82/100\n",
            "1/1 [==============================] - 0s 23ms/step - loss: 6.9806 - mae: 6.9806\n",
            "Epoch 83/100\n",
            "1/1 [==============================] - 0s 26ms/step - loss: 6.9750 - mae: 6.9750\n",
            "Epoch 84/100\n",
            "1/1 [==============================] - 0s 24ms/step - loss: 6.9694 - mae: 6.9694\n",
            "Epoch 85/100\n",
            "1/1 [==============================] - 0s 20ms/step - loss: 6.9638 - mae: 6.9638\n",
            "Epoch 86/100\n",
            "1/1 [==============================] - 0s 19ms/step - loss: 6.9581 - mae: 6.9581\n",
            "Epoch 87/100\n",
            "1/1 [==============================] - 0s 15ms/step - loss: 6.9525 - mae: 6.9525\n",
            "Epoch 88/100\n",
            "1/1 [==============================] - 0s 13ms/step - loss: 6.9469 - mae: 6.9469\n",
            "Epoch 89/100\n",
            "1/1 [==============================] - 0s 14ms/step - loss: 6.9413 - mae: 6.9413\n",
            "Epoch 90/100\n",
            "1/1 [==============================] - 0s 28ms/step - loss: 6.9356 - mae: 6.9356\n",
            "Epoch 91/100\n",
            "1/1 [==============================] - 0s 23ms/step - loss: 6.9300 - mae: 6.9300\n",
            "Epoch 92/100\n",
            "1/1 [==============================] - 0s 15ms/step - loss: 6.9244 - mae: 6.9244\n",
            "Epoch 93/100\n",
            "1/1 [==============================] - 0s 20ms/step - loss: 6.9188 - mae: 6.9188\n",
            "Epoch 94/100\n",
            "1/1 [==============================] - 0s 21ms/step - loss: 6.9131 - mae: 6.9131\n",
            "Epoch 95/100\n",
            "1/1 [==============================] - 0s 21ms/step - loss: 6.9075 - mae: 6.9075\n",
            "Epoch 96/100\n",
            "1/1 [==============================] - 0s 27ms/step - loss: 6.9019 - mae: 6.9019\n",
            "Epoch 97/100\n",
            "1/1 [==============================] - 0s 27ms/step - loss: 6.8963 - mae: 6.8963\n",
            "Epoch 98/100\n",
            "1/1 [==============================] - 0s 31ms/step - loss: 6.8906 - mae: 6.8906\n",
            "Epoch 99/100\n",
            "1/1 [==============================] - 0s 32ms/step - loss: 6.8850 - mae: 6.8850\n",
            "Epoch 100/100\n",
            "1/1 [==============================] - 0s 22ms/step - loss: 6.8794 - mae: 6.8794\n"
          ]
        },
        {
          "output_type": "execute_result",
          "data": {
            "text/plain": [
              "<keras.src.callbacks.History at 0x7f429250b370>"
            ]
          },
          "metadata": {},
          "execution_count": 26
        }
      ]
    },
    {
      "cell_type": "code",
      "source": [
        "# Try make prediction\n",
        "model1.predict([17.0])"
      ],
      "metadata": {
        "colab": {
          "base_uri": "https://localhost:8080/"
        },
        "id": "4kMA7oidBuHG",
        "outputId": "3d2b79a1-97b2-4771-8c67-158fb90dbfbe"
      },
      "execution_count": 27,
      "outputs": [
        {
          "output_type": "stream",
          "name": "stdout",
          "text": [
            "1/1 [==============================] - 0s 348ms/step\n"
          ]
        },
        {
          "output_type": "execute_result",
          "data": {
            "text/plain": [
              "array([[29.686104]], dtype=float32)"
            ]
          },
          "metadata": {},
          "execution_count": 27
        }
      ]
    },
    {
      "cell_type": "code",
      "source": [
        "# re-write the model by my self and improve one thing to get better\n",
        "\n",
        "# 1. Create the model\n",
        "model2 = tf.keras.Sequential([\n",
        "    tf.keras.layers.Dense(1)\n",
        "])\n",
        "\n",
        "# 2. Compile the model\n",
        "model2.compile(loss = tf.keras.losses.mae,\n",
        "              optimizer = tf.keras.optimizers.Adam(learning_rate=0.001), # chang the optimizers from SGD to adam\n",
        "              metrics = [\"mae\"])\n",
        "\n",
        "# 3. Fit the model\n",
        "# model.fit(X, Y, epochs=5) # BREAK IN UPDATED TENSOR VERSION\n",
        "model2.fit(tf.expand_dims(X, axis=-1), Y, epochs=100)"
      ],
      "metadata": {
        "colab": {
          "base_uri": "https://localhost:8080/"
        },
        "id": "gdwbhbhmJVPx",
        "outputId": "cb3e6a64-95fc-4fcf-d96d-51ebce313ed2"
      },
      "execution_count": 28,
      "outputs": [
        {
          "output_type": "stream",
          "name": "stdout",
          "text": [
            "Epoch 1/100\n",
            "1/1 [==============================] - 2s 2s/step - loss: 13.8695 - mae: 13.8695\n",
            "Epoch 2/100\n",
            "1/1 [==============================] - 0s 14ms/step - loss: 13.8650 - mae: 13.8650\n",
            "Epoch 3/100\n",
            "1/1 [==============================] - 0s 22ms/step - loss: 13.8605 - mae: 13.8605\n",
            "Epoch 4/100\n",
            "1/1 [==============================] - 0s 12ms/step - loss: 13.8560 - mae: 13.8560\n",
            "Epoch 5/100\n",
            "1/1 [==============================] - 0s 11ms/step - loss: 13.8515 - mae: 13.8515\n",
            "Epoch 6/100\n",
            "1/1 [==============================] - 0s 18ms/step - loss: 13.8470 - mae: 13.8470\n",
            "Epoch 7/100\n",
            "1/1 [==============================] - 0s 20ms/step - loss: 13.8425 - mae: 13.8425\n",
            "Epoch 8/100\n",
            "1/1 [==============================] - 0s 18ms/step - loss: 13.8380 - mae: 13.8380\n",
            "Epoch 9/100\n",
            "1/1 [==============================] - 0s 19ms/step - loss: 13.8335 - mae: 13.8335\n",
            "Epoch 10/100\n",
            "1/1 [==============================] - 0s 21ms/step - loss: 13.8290 - mae: 13.8290\n",
            "Epoch 11/100\n",
            "1/1 [==============================] - 0s 20ms/step - loss: 13.8245 - mae: 13.8245\n",
            "Epoch 12/100\n",
            "1/1 [==============================] - 0s 16ms/step - loss: 13.8200 - mae: 13.8200\n",
            "Epoch 13/100\n",
            "1/1 [==============================] - 0s 29ms/step - loss: 13.8155 - mae: 13.8155\n",
            "Epoch 14/100\n",
            "1/1 [==============================] - 0s 18ms/step - loss: 13.8110 - mae: 13.8110\n",
            "Epoch 15/100\n",
            "1/1 [==============================] - 0s 25ms/step - loss: 13.8065 - mae: 13.8065\n",
            "Epoch 16/100\n",
            "1/1 [==============================] - 0s 27ms/step - loss: 13.8020 - mae: 13.8020\n",
            "Epoch 17/100\n",
            "1/1 [==============================] - 0s 27ms/step - loss: 13.7975 - mae: 13.7975\n",
            "Epoch 18/100\n",
            "1/1 [==============================] - 0s 30ms/step - loss: 13.7930 - mae: 13.7930\n",
            "Epoch 19/100\n",
            "1/1 [==============================] - 0s 25ms/step - loss: 13.7885 - mae: 13.7885\n",
            "Epoch 20/100\n",
            "1/1 [==============================] - 0s 25ms/step - loss: 13.7840 - mae: 13.7840\n",
            "Epoch 21/100\n",
            "1/1 [==============================] - 0s 23ms/step - loss: 13.7795 - mae: 13.7795\n",
            "Epoch 22/100\n",
            "1/1 [==============================] - 0s 22ms/step - loss: 13.7750 - mae: 13.7750\n",
            "Epoch 23/100\n",
            "1/1 [==============================] - 0s 23ms/step - loss: 13.7705 - mae: 13.7705\n",
            "Epoch 24/100\n",
            "1/1 [==============================] - 0s 24ms/step - loss: 13.7660 - mae: 13.7660\n",
            "Epoch 25/100\n",
            "1/1 [==============================] - 0s 26ms/step - loss: 13.7615 - mae: 13.7615\n",
            "Epoch 26/100\n",
            "1/1 [==============================] - 0s 32ms/step - loss: 13.7570 - mae: 13.7570\n",
            "Epoch 27/100\n",
            "1/1 [==============================] - 0s 34ms/step - loss: 13.7525 - mae: 13.7525\n",
            "Epoch 28/100\n",
            "1/1 [==============================] - 0s 27ms/step - loss: 13.7480 - mae: 13.7480\n",
            "Epoch 29/100\n",
            "1/1 [==============================] - 0s 28ms/step - loss: 13.7435 - mae: 13.7435\n",
            "Epoch 30/100\n",
            "1/1 [==============================] - 0s 24ms/step - loss: 13.7390 - mae: 13.7390\n",
            "Epoch 31/100\n",
            "1/1 [==============================] - 0s 20ms/step - loss: 13.7345 - mae: 13.7345\n",
            "Epoch 32/100\n",
            "1/1 [==============================] - 0s 27ms/step - loss: 13.7300 - mae: 13.7300\n",
            "Epoch 33/100\n",
            "1/1 [==============================] - 0s 28ms/step - loss: 13.7255 - mae: 13.7255\n",
            "Epoch 34/100\n",
            "1/1 [==============================] - 0s 36ms/step - loss: 13.7210 - mae: 13.7210\n",
            "Epoch 35/100\n",
            "1/1 [==============================] - 0s 41ms/step - loss: 13.7165 - mae: 13.7165\n",
            "Epoch 36/100\n",
            "1/1 [==============================] - 0s 52ms/step - loss: 13.7120 - mae: 13.7120\n",
            "Epoch 37/100\n",
            "1/1 [==============================] - 0s 28ms/step - loss: 13.7075 - mae: 13.7075\n",
            "Epoch 38/100\n",
            "1/1 [==============================] - 0s 31ms/step - loss: 13.7030 - mae: 13.7030\n",
            "Epoch 39/100\n",
            "1/1 [==============================] - 0s 27ms/step - loss: 13.6985 - mae: 13.6985\n",
            "Epoch 40/100\n",
            "1/1 [==============================] - 0s 28ms/step - loss: 13.6940 - mae: 13.6940\n",
            "Epoch 41/100\n",
            "1/1 [==============================] - 0s 40ms/step - loss: 13.6895 - mae: 13.6895\n",
            "Epoch 42/100\n",
            "1/1 [==============================] - 0s 39ms/step - loss: 13.6850 - mae: 13.6850\n",
            "Epoch 43/100\n",
            "1/1 [==============================] - 0s 27ms/step - loss: 13.6805 - mae: 13.6805\n",
            "Epoch 44/100\n",
            "1/1 [==============================] - 0s 20ms/step - loss: 13.6760 - mae: 13.6760\n",
            "Epoch 45/100\n",
            "1/1 [==============================] - 0s 32ms/step - loss: 13.6715 - mae: 13.6715\n",
            "Epoch 46/100\n",
            "1/1 [==============================] - 0s 37ms/step - loss: 13.6670 - mae: 13.6670\n",
            "Epoch 47/100\n",
            "1/1 [==============================] - 0s 21ms/step - loss: 13.6625 - mae: 13.6625\n",
            "Epoch 48/100\n",
            "1/1 [==============================] - 0s 16ms/step - loss: 13.6580 - mae: 13.6580\n",
            "Epoch 49/100\n",
            "1/1 [==============================] - 0s 17ms/step - loss: 13.6535 - mae: 13.6535\n",
            "Epoch 50/100\n",
            "1/1 [==============================] - 0s 17ms/step - loss: 13.6490 - mae: 13.6490\n",
            "Epoch 51/100\n",
            "1/1 [==============================] - 0s 17ms/step - loss: 13.6445 - mae: 13.6445\n",
            "Epoch 52/100\n",
            "1/1 [==============================] - 0s 22ms/step - loss: 13.6400 - mae: 13.6400\n",
            "Epoch 53/100\n",
            "1/1 [==============================] - 0s 18ms/step - loss: 13.6355 - mae: 13.6355\n",
            "Epoch 54/100\n",
            "1/1 [==============================] - 0s 23ms/step - loss: 13.6310 - mae: 13.6310\n",
            "Epoch 55/100\n",
            "1/1 [==============================] - 0s 18ms/step - loss: 13.6265 - mae: 13.6265\n",
            "Epoch 56/100\n",
            "1/1 [==============================] - 0s 19ms/step - loss: 13.6220 - mae: 13.6220\n",
            "Epoch 57/100\n",
            "1/1 [==============================] - 0s 19ms/step - loss: 13.6175 - mae: 13.6175\n",
            "Epoch 58/100\n",
            "1/1 [==============================] - 0s 22ms/step - loss: 13.6130 - mae: 13.6130\n",
            "Epoch 59/100\n",
            "1/1 [==============================] - 0s 33ms/step - loss: 13.6085 - mae: 13.6085\n",
            "Epoch 60/100\n",
            "1/1 [==============================] - 0s 37ms/step - loss: 13.6040 - mae: 13.6040\n",
            "Epoch 61/100\n",
            "1/1 [==============================] - 0s 34ms/step - loss: 13.5995 - mae: 13.5995\n",
            "Epoch 62/100\n",
            "1/1 [==============================] - 0s 32ms/step - loss: 13.5950 - mae: 13.5950\n",
            "Epoch 63/100\n",
            "1/1 [==============================] - 0s 31ms/step - loss: 13.5905 - mae: 13.5905\n",
            "Epoch 64/100\n",
            "1/1 [==============================] - 0s 35ms/step - loss: 13.5860 - mae: 13.5860\n",
            "Epoch 65/100\n",
            "1/1 [==============================] - 0s 22ms/step - loss: 13.5815 - mae: 13.5815\n",
            "Epoch 66/100\n",
            "1/1 [==============================] - 0s 17ms/step - loss: 13.5770 - mae: 13.5770\n",
            "Epoch 67/100\n",
            "1/1 [==============================] - 0s 17ms/step - loss: 13.5725 - mae: 13.5725\n",
            "Epoch 68/100\n",
            "1/1 [==============================] - 0s 24ms/step - loss: 13.5680 - mae: 13.5680\n",
            "Epoch 69/100\n",
            "1/1 [==============================] - 0s 25ms/step - loss: 13.5635 - mae: 13.5635\n",
            "Epoch 70/100\n",
            "1/1 [==============================] - 0s 24ms/step - loss: 13.5590 - mae: 13.5590\n",
            "Epoch 71/100\n",
            "1/1 [==============================] - 0s 22ms/step - loss: 13.5545 - mae: 13.5545\n",
            "Epoch 72/100\n",
            "1/1 [==============================] - 0s 17ms/step - loss: 13.5500 - mae: 13.5500\n",
            "Epoch 73/100\n",
            "1/1 [==============================] - 0s 22ms/step - loss: 13.5455 - mae: 13.5455\n",
            "Epoch 74/100\n",
            "1/1 [==============================] - 0s 27ms/step - loss: 13.5410 - mae: 13.5410\n",
            "Epoch 75/100\n",
            "1/1 [==============================] - 0s 16ms/step - loss: 13.5365 - mae: 13.5365\n",
            "Epoch 76/100\n",
            "1/1 [==============================] - 0s 21ms/step - loss: 13.5320 - mae: 13.5320\n",
            "Epoch 77/100\n",
            "1/1 [==============================] - 0s 17ms/step - loss: 13.5275 - mae: 13.5275\n",
            "Epoch 78/100\n",
            "1/1 [==============================] - 0s 17ms/step - loss: 13.5230 - mae: 13.5230\n",
            "Epoch 79/100\n",
            "1/1 [==============================] - 0s 16ms/step - loss: 13.5185 - mae: 13.5185\n",
            "Epoch 80/100\n",
            "1/1 [==============================] - 0s 15ms/step - loss: 13.5140 - mae: 13.5140\n",
            "Epoch 81/100\n",
            "1/1 [==============================] - 0s 17ms/step - loss: 13.5095 - mae: 13.5095\n",
            "Epoch 82/100\n",
            "1/1 [==============================] - 0s 15ms/step - loss: 13.5050 - mae: 13.5050\n",
            "Epoch 83/100\n",
            "1/1 [==============================] - 0s 27ms/step - loss: 13.5005 - mae: 13.5005\n",
            "Epoch 84/100\n",
            "1/1 [==============================] - 0s 18ms/step - loss: 13.4960 - mae: 13.4960\n",
            "Epoch 85/100\n",
            "1/1 [==============================] - 0s 22ms/step - loss: 13.4915 - mae: 13.4915\n",
            "Epoch 86/100\n",
            "1/1 [==============================] - 0s 17ms/step - loss: 13.4870 - mae: 13.4870\n",
            "Epoch 87/100\n",
            "1/1 [==============================] - 0s 19ms/step - loss: 13.4825 - mae: 13.4825\n",
            "Epoch 88/100\n",
            "1/1 [==============================] - 0s 24ms/step - loss: 13.4780 - mae: 13.4780\n",
            "Epoch 89/100\n",
            "1/1 [==============================] - 0s 25ms/step - loss: 13.4735 - mae: 13.4735\n",
            "Epoch 90/100\n",
            "1/1 [==============================] - 0s 24ms/step - loss: 13.4690 - mae: 13.4690\n",
            "Epoch 91/100\n",
            "1/1 [==============================] - 0s 26ms/step - loss: 13.4645 - mae: 13.4645\n",
            "Epoch 92/100\n",
            "1/1 [==============================] - 0s 25ms/step - loss: 13.4600 - mae: 13.4600\n",
            "Epoch 93/100\n",
            "1/1 [==============================] - 0s 19ms/step - loss: 13.4555 - mae: 13.4555\n",
            "Epoch 94/100\n",
            "1/1 [==============================] - 0s 20ms/step - loss: 13.4510 - mae: 13.4510\n",
            "Epoch 95/100\n",
            "1/1 [==============================] - 0s 21ms/step - loss: 13.4465 - mae: 13.4465\n",
            "Epoch 96/100\n",
            "1/1 [==============================] - 0s 20ms/step - loss: 13.4420 - mae: 13.4420\n",
            "Epoch 97/100\n",
            "1/1 [==============================] - 0s 26ms/step - loss: 13.4375 - mae: 13.4375\n",
            "Epoch 98/100\n",
            "1/1 [==============================] - 0s 37ms/step - loss: 13.4330 - mae: 13.4330\n",
            "Epoch 99/100\n",
            "1/1 [==============================] - 0s 17ms/step - loss: 13.4285 - mae: 13.4285\n",
            "Epoch 100/100\n",
            "1/1 [==============================] - 0s 23ms/step - loss: 13.4240 - mae: 13.4240\n"
          ]
        },
        {
          "output_type": "execute_result",
          "data": {
            "text/plain": [
              "<keras.src.callbacks.History at 0x7f4298149a80>"
            ]
          },
          "metadata": {},
          "execution_count": 28
        }
      ]
    },
    {
      "cell_type": "code",
      "source": [
        "# Try make prediction\n",
        "model2.predict([17.0])"
      ],
      "metadata": {
        "colab": {
          "base_uri": "https://localhost:8080/"
        },
        "id": "QeWEo95_J5Gg",
        "outputId": "f8542142-b995-46cd-82c7-804d5b7309d8"
      },
      "execution_count": 29,
      "outputs": [
        {
          "output_type": "stream",
          "name": "stdout",
          "text": [
            "1/1 [==============================] - 0s 136ms/step\n"
          ]
        },
        {
          "output_type": "execute_result",
          "data": {
            "text/plain": [
              "array([[0.00542994]], dtype=float32)"
            ]
          },
          "metadata": {},
          "execution_count": 29
        }
      ]
    },
    {
      "cell_type": "code",
      "source": [
        "# re-write the model\n",
        "\n",
        "# 1. Create the model (with 100 hidden units )\n",
        "model3 = tf.keras.Sequential([\n",
        "    tf.keras.layers.Dense(50, activation=None),\n",
        "    tf.keras.layers.Dense(1)\n",
        "])\n",
        "\n",
        "# 2. Compile the model\n",
        "model3.compile(loss = \"mae\",\n",
        "              optimizer = tf.keras.optimizers.Adam(learning_rate = 0.01),\n",
        "              metrics = [\"mae\"])\n",
        "\n",
        "# 3. Fit the model\n",
        "# model.fit(X, Y, epochs=5) # BREAK IN UPDATED TENSOR VERSION\n",
        "model3.fit(tf.expand_dims(X, axis=-1), Y, epochs=100)"
      ],
      "metadata": {
        "colab": {
          "base_uri": "https://localhost:8080/"
        },
        "id": "KI1XF166hgOa",
        "outputId": "9ea4a4f7-21ba-4275-e6cd-fbba8c0ea21a"
      },
      "execution_count": 30,
      "outputs": [
        {
          "output_type": "stream",
          "name": "stdout",
          "text": [
            "Epoch 1/100\n",
            "1/1 [==============================] - 1s 1s/step - loss: 12.1965 - mae: 12.1965\n",
            "Epoch 2/100\n",
            "1/1 [==============================] - 0s 25ms/step - loss: 11.5570 - mae: 11.5570\n",
            "Epoch 3/100\n",
            "1/1 [==============================] - 0s 17ms/step - loss: 10.9086 - mae: 10.9086\n",
            "Epoch 4/100\n",
            "1/1 [==============================] - 0s 18ms/step - loss: 10.2494 - mae: 10.2494\n",
            "Epoch 5/100\n",
            "1/1 [==============================] - 0s 22ms/step - loss: 9.5776 - mae: 9.5776\n",
            "Epoch 6/100\n",
            "1/1 [==============================] - 0s 17ms/step - loss: 8.8903 - mae: 8.8903\n",
            "Epoch 7/100\n",
            "1/1 [==============================] - 0s 27ms/step - loss: 8.1848 - mae: 8.1848\n",
            "Epoch 8/100\n",
            "1/1 [==============================] - 0s 24ms/step - loss: 7.4578 - mae: 7.4578\n",
            "Epoch 9/100\n",
            "1/1 [==============================] - 0s 23ms/step - loss: 6.8938 - mae: 6.8938\n",
            "Epoch 10/100\n",
            "1/1 [==============================] - 0s 20ms/step - loss: 6.9447 - mae: 6.9447\n",
            "Epoch 11/100\n",
            "1/1 [==============================] - 0s 22ms/step - loss: 7.2053 - mae: 7.2053\n",
            "Epoch 12/100\n",
            "1/1 [==============================] - 0s 30ms/step - loss: 7.3503 - mae: 7.3503\n",
            "Epoch 13/100\n",
            "1/1 [==============================] - 0s 20ms/step - loss: 7.4106 - mae: 7.4106\n",
            "Epoch 14/100\n",
            "1/1 [==============================] - 0s 21ms/step - loss: 7.3279 - mae: 7.3279\n",
            "Epoch 15/100\n",
            "1/1 [==============================] - 0s 30ms/step - loss: 7.1516 - mae: 7.1516\n",
            "Epoch 16/100\n",
            "1/1 [==============================] - 0s 23ms/step - loss: 6.9483 - mae: 6.9483\n",
            "Epoch 17/100\n",
            "1/1 [==============================] - 0s 20ms/step - loss: 6.7172 - mae: 6.7172\n",
            "Epoch 18/100\n",
            "1/1 [==============================] - 0s 22ms/step - loss: 6.4647 - mae: 6.4647\n",
            "Epoch 19/100\n",
            "1/1 [==============================] - 0s 28ms/step - loss: 6.2539 - mae: 6.2539\n",
            "Epoch 20/100\n",
            "1/1 [==============================] - 0s 35ms/step - loss: 6.2076 - mae: 6.2076\n",
            "Epoch 21/100\n",
            "1/1 [==============================] - 0s 19ms/step - loss: 6.1571 - mae: 6.1571\n",
            "Epoch 22/100\n",
            "1/1 [==============================] - 0s 13ms/step - loss: 6.2612 - mae: 6.2612\n",
            "Epoch 23/100\n",
            "1/1 [==============================] - 0s 31ms/step - loss: 6.2692 - mae: 6.2692\n",
            "Epoch 24/100\n",
            "1/1 [==============================] - 0s 24ms/step - loss: 6.1728 - mae: 6.1728\n",
            "Epoch 25/100\n",
            "1/1 [==============================] - 0s 14ms/step - loss: 5.9845 - mae: 5.9845\n",
            "Epoch 26/100\n",
            "1/1 [==============================] - 0s 30ms/step - loss: 5.7619 - mae: 5.7619\n",
            "Epoch 27/100\n",
            "1/1 [==============================] - 0s 25ms/step - loss: 5.6565 - mae: 5.6565\n",
            "Epoch 28/100\n",
            "1/1 [==============================] - 0s 22ms/step - loss: 5.5473 - mae: 5.5473\n",
            "Epoch 29/100\n",
            "1/1 [==============================] - 0s 22ms/step - loss: 5.4706 - mae: 5.4706\n",
            "Epoch 30/100\n",
            "1/1 [==============================] - 0s 20ms/step - loss: 5.4422 - mae: 5.4422\n",
            "Epoch 31/100\n",
            "1/1 [==============================] - 0s 26ms/step - loss: 5.3671 - mae: 5.3671\n",
            "Epoch 32/100\n",
            "1/1 [==============================] - 0s 15ms/step - loss: 5.2490 - mae: 5.2490\n",
            "Epoch 33/100\n",
            "1/1 [==============================] - 0s 17ms/step - loss: 5.0915 - mae: 5.0915\n",
            "Epoch 34/100\n",
            "1/1 [==============================] - 0s 19ms/step - loss: 4.9360 - mae: 4.9360\n",
            "Epoch 35/100\n",
            "1/1 [==============================] - 0s 21ms/step - loss: 4.8359 - mae: 4.8359\n",
            "Epoch 36/100\n",
            "1/1 [==============================] - 0s 14ms/step - loss: 4.7277 - mae: 4.7277\n",
            "Epoch 37/100\n",
            "1/1 [==============================] - 0s 13ms/step - loss: 4.6113 - mae: 4.6113\n",
            "Epoch 38/100\n",
            "1/1 [==============================] - 0s 14ms/step - loss: 4.4865 - mae: 4.4865\n",
            "Epoch 39/100\n",
            "1/1 [==============================] - 0s 21ms/step - loss: 4.3532 - mae: 4.3532\n",
            "Epoch 40/100\n",
            "1/1 [==============================] - 0s 24ms/step - loss: 4.2251 - mae: 4.2251\n",
            "Epoch 41/100\n",
            "1/1 [==============================] - 0s 16ms/step - loss: 4.0485 - mae: 4.0485\n",
            "Epoch 42/100\n",
            "1/1 [==============================] - 0s 19ms/step - loss: 3.8776 - mae: 3.8776\n",
            "Epoch 43/100\n",
            "1/1 [==============================] - 0s 15ms/step - loss: 3.6979 - mae: 3.6979\n",
            "Epoch 44/100\n",
            "1/1 [==============================] - 0s 23ms/step - loss: 3.5614 - mae: 3.5614\n",
            "Epoch 45/100\n",
            "1/1 [==============================] - 0s 21ms/step - loss: 3.4055 - mae: 3.4055\n",
            "Epoch 46/100\n",
            "1/1 [==============================] - 0s 13ms/step - loss: 3.1868 - mae: 3.1868\n",
            "Epoch 47/100\n",
            "1/1 [==============================] - 0s 24ms/step - loss: 2.9618 - mae: 2.9618\n",
            "Epoch 48/100\n",
            "1/1 [==============================] - 0s 18ms/step - loss: 2.7690 - mae: 2.7690\n",
            "Epoch 49/100\n",
            "1/1 [==============================] - 0s 13ms/step - loss: 2.5781 - mae: 2.5781\n",
            "Epoch 50/100\n",
            "1/1 [==============================] - 0s 22ms/step - loss: 2.3318 - mae: 2.3318\n",
            "Epoch 51/100\n",
            "1/1 [==============================] - 0s 26ms/step - loss: 2.0883 - mae: 2.0883\n",
            "Epoch 52/100\n",
            "1/1 [==============================] - 0s 23ms/step - loss: 1.8586 - mae: 1.8586\n",
            "Epoch 53/100\n",
            "1/1 [==============================] - 0s 19ms/step - loss: 1.6015 - mae: 1.6015\n",
            "Epoch 54/100\n",
            "1/1 [==============================] - 0s 17ms/step - loss: 1.3269 - mae: 1.3269\n",
            "Epoch 55/100\n",
            "1/1 [==============================] - 0s 22ms/step - loss: 1.1241 - mae: 1.1241\n",
            "Epoch 56/100\n",
            "1/1 [==============================] - 0s 26ms/step - loss: 0.7637 - mae: 0.7637\n",
            "Epoch 57/100\n",
            "1/1 [==============================] - 0s 22ms/step - loss: 0.5045 - mae: 0.5045\n",
            "Epoch 58/100\n",
            "1/1 [==============================] - 0s 31ms/step - loss: 0.2116 - mae: 0.2116\n",
            "Epoch 59/100\n",
            "1/1 [==============================] - 0s 30ms/step - loss: 0.3558 - mae: 0.3558\n",
            "Epoch 60/100\n",
            "1/1 [==============================] - 0s 53ms/step - loss: 0.4604 - mae: 0.4604\n",
            "Epoch 61/100\n",
            "1/1 [==============================] - 0s 47ms/step - loss: 0.7150 - mae: 0.7150\n",
            "Epoch 62/100\n",
            "1/1 [==============================] - 0s 34ms/step - loss: 0.8164 - mae: 0.8164\n",
            "Epoch 63/100\n",
            "1/1 [==============================] - 0s 32ms/step - loss: 0.8686 - mae: 0.8686\n",
            "Epoch 64/100\n",
            "1/1 [==============================] - 0s 28ms/step - loss: 0.9436 - mae: 0.9436\n",
            "Epoch 65/100\n",
            "1/1 [==============================] - 0s 26ms/step - loss: 0.8444 - mae: 0.8444\n",
            "Epoch 66/100\n",
            "1/1 [==============================] - 0s 31ms/step - loss: 0.9078 - mae: 0.9078\n",
            "Epoch 67/100\n",
            "1/1 [==============================] - 0s 31ms/step - loss: 0.8397 - mae: 0.8397\n",
            "Epoch 68/100\n",
            "1/1 [==============================] - 0s 24ms/step - loss: 0.5779 - mae: 0.5779\n",
            "Epoch 69/100\n",
            "1/1 [==============================] - 0s 18ms/step - loss: 0.5367 - mae: 0.5367\n",
            "Epoch 70/100\n",
            "1/1 [==============================] - 0s 30ms/step - loss: 0.3657 - mae: 0.3657\n",
            "Epoch 71/100\n",
            "1/1 [==============================] - 0s 33ms/step - loss: 0.1844 - mae: 0.1844\n",
            "Epoch 72/100\n",
            "1/1 [==============================] - 0s 37ms/step - loss: 0.1894 - mae: 0.1894\n",
            "Epoch 73/100\n",
            "1/1 [==============================] - 0s 41ms/step - loss: 0.3150 - mae: 0.3150\n",
            "Epoch 74/100\n",
            "1/1 [==============================] - 0s 28ms/step - loss: 0.4333 - mae: 0.4333\n",
            "Epoch 75/100\n",
            "1/1 [==============================] - 0s 33ms/step - loss: 0.3640 - mae: 0.3640\n",
            "Epoch 76/100\n",
            "1/1 [==============================] - 0s 41ms/step - loss: 0.4400 - mae: 0.4400\n",
            "Epoch 77/100\n",
            "1/1 [==============================] - 0s 28ms/step - loss: 0.3889 - mae: 0.3889\n",
            "Epoch 78/100\n",
            "1/1 [==============================] - 0s 23ms/step - loss: 0.3429 - mae: 0.3429\n",
            "Epoch 79/100\n",
            "1/1 [==============================] - 0s 38ms/step - loss: 0.2463 - mae: 0.2463\n",
            "Epoch 80/100\n",
            "1/1 [==============================] - 0s 26ms/step - loss: 0.1926 - mae: 0.1926\n",
            "Epoch 81/100\n",
            "1/1 [==============================] - 0s 46ms/step - loss: 0.0774 - mae: 0.0774\n",
            "Epoch 82/100\n",
            "1/1 [==============================] - 0s 24ms/step - loss: 0.1057 - mae: 0.1057\n",
            "Epoch 83/100\n",
            "1/1 [==============================] - 0s 25ms/step - loss: 0.2523 - mae: 0.2523\n",
            "Epoch 84/100\n",
            "1/1 [==============================] - 0s 30ms/step - loss: 0.2412 - mae: 0.2412\n",
            "Epoch 85/100\n",
            "1/1 [==============================] - 0s 23ms/step - loss: 0.3628 - mae: 0.3628\n",
            "Epoch 86/100\n",
            "1/1 [==============================] - 0s 22ms/step - loss: 0.3223 - mae: 0.3223\n",
            "Epoch 87/100\n",
            "1/1 [==============================] - 0s 19ms/step - loss: 0.2246 - mae: 0.2246\n",
            "Epoch 88/100\n",
            "1/1 [==============================] - 0s 18ms/step - loss: 0.1579 - mae: 0.1579\n",
            "Epoch 89/100\n",
            "1/1 [==============================] - 0s 24ms/step - loss: 0.1430 - mae: 0.1430\n",
            "Epoch 90/100\n",
            "1/1 [==============================] - 0s 21ms/step - loss: 0.0688 - mae: 0.0688\n",
            "Epoch 91/100\n",
            "1/1 [==============================] - 0s 29ms/step - loss: 0.2381 - mae: 0.2381\n",
            "Epoch 92/100\n",
            "1/1 [==============================] - 0s 23ms/step - loss: 0.2407 - mae: 0.2407\n",
            "Epoch 93/100\n",
            "1/1 [==============================] - 0s 24ms/step - loss: 0.0993 - mae: 0.0993\n",
            "Epoch 94/100\n",
            "1/1 [==============================] - 0s 30ms/step - loss: 0.1235 - mae: 0.1235\n",
            "Epoch 95/100\n",
            "1/1 [==============================] - 0s 19ms/step - loss: 0.1182 - mae: 0.1182\n",
            "Epoch 96/100\n",
            "1/1 [==============================] - 0s 18ms/step - loss: 0.0739 - mae: 0.0739\n",
            "Epoch 97/100\n",
            "1/1 [==============================] - 0s 30ms/step - loss: 0.1151 - mae: 0.1151\n",
            "Epoch 98/100\n",
            "1/1 [==============================] - 0s 21ms/step - loss: 0.1463 - mae: 0.1463\n",
            "Epoch 99/100\n",
            "1/1 [==============================] - 0s 17ms/step - loss: 0.1018 - mae: 0.1018\n",
            "Epoch 100/100\n",
            "1/1 [==============================] - 0s 23ms/step - loss: 0.1908 - mae: 0.1908\n"
          ]
        },
        {
          "output_type": "execute_result",
          "data": {
            "text/plain": [
              "<keras.src.callbacks.History at 0x7f42935e5f90>"
            ]
          },
          "metadata": {},
          "execution_count": 30
        }
      ]
    },
    {
      "cell_type": "code",
      "source": [
        "# Try make prediction\n",
        "model3.predict([17.0])"
      ],
      "metadata": {
        "colab": {
          "base_uri": "https://localhost:8080/"
        },
        "id": "iZcXS1vmiusq",
        "outputId": "fabae8ec-11c8-4aab-b88f-e5192cf79edb"
      },
      "execution_count": 31,
      "outputs": [
        {
          "output_type": "stream",
          "name": "stdout",
          "text": [
            "1/1 [==============================] - 0s 231ms/step\n"
          ]
        },
        {
          "output_type": "execute_result",
          "data": {
            "text/plain": [
              "array([[26.630869]], dtype=float32)"
            ]
          },
          "metadata": {},
          "execution_count": 31
        }
      ]
    },
    {
      "cell_type": "markdown",
      "source": [
        "## Evaluating Model\n",
        "\n",
        "Build a model -> fit it -> evaluate it -> tweak a model -> fit it -> evaluate it...\n",
        "\n",
        "Evaluation = visualize\n",
        "\n",
        "it's good idea to visualize :\n",
        "* The data - what data we working with? what does it look like?\n",
        "* The model = what does our model look like?\n",
        "* The training of a model - how does a model perform while it learns?\n",
        "* The predictions of the model - how do the predictions of a model line up against the ground truth (the origin label)"
      ],
      "metadata": {
        "id": "ggu1CbXFlSbl"
      }
    },
    {
      "cell_type": "code",
      "source": [
        "# Make a bigger dataset\n",
        "\n",
        "x = tf.range(-100, 100, 4)\n",
        "x"
      ],
      "metadata": {
        "colab": {
          "base_uri": "https://localhost:8080/"
        },
        "id": "O5yDk0J9lV5n",
        "outputId": "7c2bc911-3ecb-45f0-8a7f-38a21e62c4fb"
      },
      "execution_count": 32,
      "outputs": [
        {
          "output_type": "execute_result",
          "data": {
            "text/plain": [
              "<tf.Tensor: shape=(50,), dtype=int32, numpy=\n",
              "array([-100,  -96,  -92,  -88,  -84,  -80,  -76,  -72,  -68,  -64,  -60,\n",
              "        -56,  -52,  -48,  -44,  -40,  -36,  -32,  -28,  -24,  -20,  -16,\n",
              "        -12,   -8,   -4,    0,    4,    8,   12,   16,   20,   24,   28,\n",
              "         32,   36,   40,   44,   48,   52,   56,   60,   64,   68,   72,\n",
              "         76,   80,   84,   88,   92,   96], dtype=int32)>"
            ]
          },
          "metadata": {},
          "execution_count": 32
        }
      ]
    },
    {
      "cell_type": "code",
      "source": [
        "# Make labels for the dataset\n",
        "\n",
        "y = x + 10\n",
        "y"
      ],
      "metadata": {
        "colab": {
          "base_uri": "https://localhost:8080/"
        },
        "id": "_VnV5iodqYP8",
        "outputId": "5451469a-df38-4b6d-e495-5f84386990c8"
      },
      "execution_count": 33,
      "outputs": [
        {
          "output_type": "execute_result",
          "data": {
            "text/plain": [
              "<tf.Tensor: shape=(50,), dtype=int32, numpy=\n",
              "array([-90, -86, -82, -78, -74, -70, -66, -62, -58, -54, -50, -46, -42,\n",
              "       -38, -34, -30, -26, -22, -18, -14, -10,  -6,  -2,   2,   6,  10,\n",
              "        14,  18,  22,  26,  30,  34,  38,  42,  46,  50,  54,  58,  62,\n",
              "        66,  70,  74,  78,  82,  86,  90,  94,  98, 102, 106], dtype=int32)>"
            ]
          },
          "metadata": {},
          "execution_count": 33
        }
      ]
    },
    {
      "cell_type": "code",
      "source": [
        "# Visualize the data\n",
        "\n",
        "import matplotlib.pyplot as plt\n",
        "\n",
        "plt.scatter(x, y)"
      ],
      "metadata": {
        "colab": {
          "base_uri": "https://localhost:8080/",
          "height": 447
        },
        "id": "wqnieOnpqiby",
        "outputId": "ed5cc85f-8fd5-4c11-edc0-aaae3cae5d4a"
      },
      "execution_count": 34,
      "outputs": [
        {
          "output_type": "execute_result",
          "data": {
            "text/plain": [
              "<matplotlib.collections.PathCollection at 0x7f42935262f0>"
            ]
          },
          "metadata": {},
          "execution_count": 34
        },
        {
          "output_type": "display_data",
          "data": {
            "text/plain": [
              "<Figure size 640x480 with 1 Axes>"
            ],
            "image/png": "[encoded data removed]"
          },
          "metadata": {}
        }
      ]
    },
    {
      "cell_type": "markdown",
      "source": [
        "### The 3 sets\n",
        "\n",
        "* **Training set** - the model learn from this data, 70-80%\n",
        "* **Validation set** - set model gets tuned on this data, 10-15%\n",
        "* **Test set** - the model gets evaluated on this data, 10-15%"
      ],
      "metadata": {
        "id": "CCtd3h36q0Xk"
      }
    },
    {
      "cell_type": "code",
      "source": [
        "# Check the length of the data\n",
        "len(x)"
      ],
      "metadata": {
        "colab": {
          "base_uri": "https://localhost:8080/"
        },
        "id": "2_ITjQWjFQsM",
        "outputId": "d213e0a1-59d1-48b3-e63f-5178fd9a672c"
      },
      "execution_count": 35,
      "outputs": [
        {
          "output_type": "execute_result",
          "data": {
            "text/plain": [
              "50"
            ]
          },
          "metadata": {},
          "execution_count": 35
        }
      ]
    },
    {
      "cell_type": "code",
      "source": [
        "# Split the data into train and test sets\n",
        "x_train = x[:40] # first to 40 data will be the training sample\n",
        "y_train = y[:40]\n",
        "\n",
        "x_test = x[40:] # 20% will be test\n",
        "y_test = y[40:]\n",
        "\n",
        "len(x_train), len(x_test), len(y_train), len(y_test)"
      ],
      "metadata": {
        "colab": {
          "base_uri": "https://localhost:8080/"
        },
        "id": "4fkIFEl_HAu3",
        "outputId": "b8f62ca1-84e8-43d4-cdf9-1eb79555bbd9"
      },
      "execution_count": 36,
      "outputs": [
        {
          "output_type": "execute_result",
          "data": {
            "text/plain": [
              "(40, 10, 40, 10)"
            ]
          },
          "metadata": {},
          "execution_count": 36
        }
      ]
    },
    {
      "cell_type": "markdown",
      "source": [
        "### Visualing the data\n",
        "\n",
        "Now we've got out data in training and test sets...lets visualize it"
      ],
      "metadata": {
        "id": "9WJ9AtA0KgLL"
      }
    },
    {
      "cell_type": "code",
      "source": [
        "plt.figure(figsize=(10,7))\n",
        "\n",
        "# Plot training data in blue\n",
        "plt.scatter(x_train, y_train, c=\"b\", label=\"Training data\")\n",
        "\n",
        "# Plot test data in green\n",
        "plt.scatter(x_test, y_test, c=\"g\", label=\"Testing data\")\n",
        "\n",
        "# Show a legend\n",
        "plt.legend();"
      ],
      "metadata": {
        "colab": {
          "base_uri": "https://localhost:8080/",
          "height": 599
        },
        "id": "OQGu_de6G_li",
        "outputId": "a6792f09-8832-40a4-b0b4-59b2d3de675c"
      },
      "execution_count": 37,
      "outputs": [
        {
          "output_type": "display_data",
          "data": {
            "text/plain": [
              "<Figure size 1000x700 with 1 Axes>"
            ],
            "image/png": "[encoded data removed]"
          },
          "metadata": {}
        }
      ]
    },
    {
      "cell_type": "code",
      "source": [
        "# Lets have a look at how to build a neural network for our data\n",
        "\n",
        "# 1. Create the model\n",
        "model = tf.keras.Sequential([\n",
        "    tf.keras.layers.Dense(1)\n",
        "])\n",
        "\n",
        "# 2. Compile the model\n",
        "model.compile(loss = tf.keras.losses.mae,\n",
        "              optimizer = tf.keras.optimizers.SGD(),\n",
        "              metrics = [\"mae\"])\n",
        "\n",
        "# 3. Fit the model\n",
        "#model.fit(tf.expand_dims(x_train, axis=-1), y_train, epochs=100)"
      ],
      "metadata": {
        "id": "TtdWZXKHSSN-"
      },
      "execution_count": 38,
      "outputs": []
    },
    {
      "cell_type": "markdown",
      "source": [
        "### Visualizing the model"
      ],
      "metadata": {
        "id": "F7d7P08yTScA"
      }
    },
    {
      "cell_type": "code",
      "source": [
        "# Lets create  model wich builds automatically by defining the input_shape arguments\n",
        "\n",
        "tf.random.set_seed(42)\n",
        "\n",
        "# 1. Create the model\n",
        "model_1 = tf.keras.Sequential([\n",
        "    tf.keras.layers.Dense(100, input_shape=[1], name=\"input_layer\"),\n",
        "    tf.keras.layers.Dense(1, name=\"output_layer\")\n",
        "], name=\"model_one\")\n",
        "\n",
        "# 2. Compile the model\n",
        "model_1.compile(loss = tf.keras.losses.mae,\n",
        "              optimizer = tf.keras.optimizers.SGD(),\n",
        "              metrics = [\"mae\"])"
      ],
      "metadata": {
        "id": "MpSA6LxwTzZK"
      },
      "execution_count": 39,
      "outputs": []
    },
    {
      "cell_type": "code",
      "source": [
        "model_1.summary()"
      ],
      "metadata": {
        "colab": {
          "base_uri": "https://localhost:8080/"
        },
        "id": "-jMC9-6WUyLw",
        "outputId": "9ab34afa-3045-4f45-a614-c80b62fc1f45"
      },
      "execution_count": 40,
      "outputs": [
        {
          "output_type": "stream",
          "name": "stdout",
          "text": [
            "Model: \"model_one\"\n",
            "_________________________________________________________________\n",
            " Layer (type)                Output Shape              Param #   \n",
            "=================================================================\n",
            " input_layer (Dense)         (None, 100)               200       \n",
            "                                                                 \n",
            " output_layer (Dense)        (None, 1)                 101       \n",
            "                                                                 \n",
            "=================================================================\n",
            "Total params: 301 (1.18 KB)\n",
            "Trainable params: 301 (1.18 KB)\n",
            "Non-trainable params: 0 (0.00 Byte)\n",
            "_________________________________________________________________\n"
          ]
        }
      ]
    },
    {
      "cell_type": "markdown",
      "source": [
        "* Total params - total number of parameters that we have\n",
        "\n",
        "* Trainable parameters - the parameters (patterns) the model can update as it trains\n",
        "\n",
        "* Non-trainable params - parameters cant updated during training (allready learn in models during **transfer learning**)\n",
        "\n",
        "📚 **Resource** : For a more in depth overview of the trainable parameters within a layer, check ouy MIT's intorduction to deep learning video\n",
        "\n",
        "⚡**Exercise :** Try playing around with the number of hidden units in the dense layer, see how that effect the number of parameters"
      ],
      "metadata": {
        "id": "fkeG27Fm3_t1"
      }
    },
    {
      "cell_type": "code",
      "source": [
        "# 3. Fit the model\n",
        "model_1.fit(tf.expand_dims(x_train, axis=-1), y_train, epochs=60, verbose=0)"
      ],
      "metadata": {
        "colab": {
          "base_uri": "https://localhost:8080/"
        },
        "id": "e-cgkHtW6914",
        "outputId": "7ba63210-1f31-4116-fe33-e6aa9bad503e"
      },
      "execution_count": 41,
      "outputs": [
        {
          "output_type": "execute_result",
          "data": {
            "text/plain": [
              "<keras.src.callbacks.History at 0x7f4291c3a590>"
            ]
          },
          "metadata": {},
          "execution_count": 41
        }
      ]
    },
    {
      "cell_type": "code",
      "source": [
        "# Get a summary of our model\n",
        "model_1.summary()"
      ],
      "metadata": {
        "colab": {
          "base_uri": "https://localhost:8080/"
        },
        "id": "IYam8Kl-M2o7",
        "outputId": "945a8954-a4ba-4450-caf3-f4d2f3600a09"
      },
      "execution_count": 42,
      "outputs": [
        {
          "output_type": "stream",
          "name": "stdout",
          "text": [
            "Model: \"model_one\"\n",
            "_________________________________________________________________\n",
            " Layer (type)                Output Shape              Param #   \n",
            "=================================================================\n",
            " input_layer (Dense)         (None, 100)               200       \n",
            "                                                                 \n",
            " output_layer (Dense)        (None, 1)                 101       \n",
            "                                                                 \n",
            "=================================================================\n",
            "Total params: 301 (1.18 KB)\n",
            "Trainable params: 301 (1.18 KB)\n",
            "Non-trainable params: 0 (0.00 Byte)\n",
            "_________________________________________________________________\n"
          ]
        }
      ]
    },
    {
      "cell_type": "code",
      "source": [
        "from tensorflow.keras.utils import plot_model\n",
        "\n",
        "plot_model(model=model_1, show_shapes=True)"
      ],
      "metadata": {
        "colab": {
          "base_uri": "https://localhost:8080/",
          "height": 312
        },
        "id": "EMxErQE0NVSc",
        "outputId": "9f0360b5-93ff-4330-ed60-ba4a299b4e21"
      },
      "execution_count": 43,
      "outputs": [
        {
          "output_type": "execute_result",
          "data": {
            "image/png": "[encoded data removed]",
            "text/plain": [
              "<IPython.core.display.Image object>"
            ]
          },
          "metadata": {},
          "execution_count": 43
        }
      ]
    },
    {
      "cell_type": "markdown",
      "source": [
        "### Visualizing our models predictions\n",
        "\n",
        "To visualize predictions, it's a good idea to plot them against the ground truth labels.\n",
        "\n",
        "Often you'll see this in the form of 'y_test' or 'y_true' versus 'y_pred' (ground truth versus your model prediction)"
      ],
      "metadata": {
        "id": "XXOFpjXFOyH9"
      }
    },
    {
      "cell_type": "code",
      "source": [
        "# Make some predictions\n",
        "\n",
        "y_pred = model_1.predict(x_test)\n",
        "y_pred"
      ],
      "metadata": {
        "colab": {
          "base_uri": "https://localhost:8080/"
        },
        "id": "943XbXEayJf3",
        "outputId": "e32e5533-8df4-4be0-ca73-1d0c1d40c90c"
      },
      "execution_count": 44,
      "outputs": [
        {
          "output_type": "stream",
          "name": "stderr",
          "text": [
            "WARNING:tensorflow:5 out of the last 5 calls to <function Model.make_predict_function.<locals>.predict_function at 0x7f4292427b50> triggered tf.function retracing. Tracing is expensive and the excessive number of tracings could be due to (1) creating @tf.function repeatedly in a loop, (2) passing tensors with different shapes, (3) passing Python objects instead of tensors. For (1), please define your @tf.function outside of the loop. For (2), @tf.function has reduce_retracing=True option that can avoid unnecessary retracing. For (3), please refer to https://www.tensorflow.org/guide/function#controlling_retracing and https://www.tensorflow.org/api_docs/python/tf/function for  more details.\n"
          ]
        },
        {
          "output_type": "stream",
          "name": "stdout",
          "text": [
            "1/1 [==============================] - 0s 57ms/step\n"
          ]
        },
        {
          "output_type": "execute_result",
          "data": {
            "text/plain": [
              "array([[ 70.63634 ],\n",
              "       [ 75.27715 ],\n",
              "       [ 79.917946],\n",
              "       [ 84.55874 ],\n",
              "       [ 89.19956 ],\n",
              "       [ 93.840355],\n",
              "       [ 98.481155],\n",
              "       [103.121956],\n",
              "       [107.76275 ],\n",
              "       [112.403564]], dtype=float32)"
            ]
          },
          "metadata": {},
          "execution_count": 44
        }
      ]
    },
    {
      "cell_type": "code",
      "source": [
        "y_test"
      ],
      "metadata": {
        "colab": {
          "base_uri": "https://localhost:8080/"
        },
        "id": "Ke-R5lq9zVa3",
        "outputId": "ad1d6bce-7278-4c4a-a526-244aa9100e0e"
      },
      "execution_count": 45,
      "outputs": [
        {
          "output_type": "execute_result",
          "data": {
            "text/plain": [
              "<tf.Tensor: shape=(10,), dtype=int32, numpy=array([ 70,  74,  78,  82,  86,  90,  94,  98, 102, 106], dtype=int32)>"
            ]
          },
          "metadata": {},
          "execution_count": 45
        }
      ]
    },
    {
      "cell_type": "markdown",
      "source": [
        "🔑 **Note : ** if you feel like you're going to reuse some functionality in the future, its good idea to turn it into a fucntion"
      ],
      "metadata": {
        "id": "nSO6jWAR09Jt"
      }
    },
    {
      "cell_type": "code",
      "source": [
        "# Lets create a plotting function\n",
        "\n",
        "def plot_predictions(train_data=x_train,\n",
        "                     train_labels=y_train,\n",
        "                     test_data=x_test,\n",
        "                     test_labels=y_test,\n",
        "                     predictions=y_pred):\n",
        "  \"\"\"\n",
        "  Plots training data, test data and compares predictions to ground truth labels\n",
        "  \"\"\"\n",
        "  plt.figure(figsize=(10,7))\n",
        "  # Plot training data in blue\n",
        "  plt.scatter(train_data, train_labels, c=\"b\", label=\"Training data\")\n",
        "\n",
        "  # Plot testing data in green\n",
        "  plt.scatter(test_data, test_labels, c=\"g\", label=\"Test data\")\n",
        "\n",
        "  # Plot models predictions in red\n",
        "  plt.scatter(test_data, predictions, c=\"r\", label=\"Predictions\")\n",
        "\n",
        "  # Show the legend\n",
        "  plt.legend()\n",
        "\n"
      ],
      "metadata": {
        "id": "Wt-qJvPk1MAh"
      },
      "execution_count": 46,
      "outputs": []
    },
    {
      "cell_type": "code",
      "source": [
        "plot_predictions()"
      ],
      "metadata": {
        "colab": {
          "base_uri": "https://localhost:8080/",
          "height": 599
        },
        "id": "7ZFYZPV5200S",
        "outputId": "8c71caab-fff9-4116-dfeb-21fc1a4258b8"
      },
      "execution_count": 47,
      "outputs": [
        {
          "output_type": "display_data",
          "data": {
            "text/plain": [
              "<Figure size 1000x700 with 1 Axes>"
            ],
            "image/png": "[encoded data removed]"
          },
          "metadata": {}
        }
      ]
    },
    {
      "cell_type": "markdown",
      "source": [
        "### Evaluating our models predictions with regression evaluation metrics\n",
        "\n",
        "The evaluation metrics is depending to the model we working on\n",
        "\n",
        "since we're working on a regression, two of the main matrics:\n",
        "* MAE - mean absolute error, \"on average, how wrong is each of my model predictions\"\n",
        "\n",
        "* MSE - mean square error, \"square the average errors\""
      ],
      "metadata": {
        "id": "xWQ92ZRr4V_K"
      }
    },
    {
      "cell_type": "code",
      "source": [
        " # Evaluate the model on the test\n",
        " model_1.evaluate(x_test, y_test)"
      ],
      "metadata": {
        "id": "y3-bYOHr0p-A",
        "colab": {
          "base_uri": "https://localhost:8080/"
        },
        "outputId": "6228cf62-e93d-4307-f8c3-48b2436515c9"
      },
      "execution_count": 48,
      "outputs": [
        {
          "output_type": "stream",
          "name": "stdout",
          "text": [
            "1/1 [==============================] - 0s 168ms/step - loss: 3.5200 - mae: 3.5200\n"
          ]
        },
        {
          "output_type": "execute_result",
          "data": {
            "text/plain": [
              "[3.519953966140747, 3.519953966140747]"
            ]
          },
          "metadata": {},
          "execution_count": 48
        }
      ]
    },
    {
      "cell_type": "code",
      "source": [
        "# Calculate the mean absolute error\n",
        "mae = tf.metrics.mean_absolute_error(y_true=y_test, y_pred=tf.constant(y_pred))\n",
        "mae"
      ],
      "metadata": {
        "colab": {
          "base_uri": "https://localhost:8080/"
        },
        "id": "bAwZ_yTfPV4C",
        "outputId": "02a1f625-38b7-4f25-d328-97d28a19b836"
      },
      "execution_count": 49,
      "outputs": [
        {
          "output_type": "execute_result",
          "data": {
            "text/plain": [
              "<tf.Tensor: shape=(10,), dtype=float32, numpy=\n",
              "array([17.49093 , 14.033709, 11.632822, 10.288252, 10.      , 10.768071,\n",
              "       12.688693, 15.697565, 19.762749, 24.403564], dtype=float32)>"
            ]
          },
          "metadata": {},
          "execution_count": 49
        }
      ]
    },
    {
      "cell_type": "code",
      "source": [
        "tf.constant(y_pred)"
      ],
      "metadata": {
        "colab": {
          "base_uri": "https://localhost:8080/"
        },
        "id": "v6CpJX1IPiwj",
        "outputId": "050c6ce7-256f-40a0-8e0c-cb882aea6b1f"
      },
      "execution_count": 50,
      "outputs": [
        {
          "output_type": "execute_result",
          "data": {
            "text/plain": [
              "<tf.Tensor: shape=(10, 1), dtype=float32, numpy=\n",
              "array([[ 70.63634 ],\n",
              "       [ 75.27715 ],\n",
              "       [ 79.917946],\n",
              "       [ 84.55874 ],\n",
              "       [ 89.19956 ],\n",
              "       [ 93.840355],\n",
              "       [ 98.481155],\n",
              "       [103.121956],\n",
              "       [107.76275 ],\n",
              "       [112.403564]], dtype=float32)>"
            ]
          },
          "metadata": {},
          "execution_count": 50
        }
      ]
    },
    {
      "cell_type": "code",
      "source": [
        "y_test"
      ],
      "metadata": {
        "colab": {
          "base_uri": "https://localhost:8080/"
        },
        "id": "JusnDI5oPlKR",
        "outputId": "9052d66b-e02a-48f5-bde6-3061cc1980e3"
      },
      "execution_count": 51,
      "outputs": [
        {
          "output_type": "execute_result",
          "data": {
            "text/plain": [
              "<tf.Tensor: shape=(10,), dtype=int32, numpy=array([ 70,  74,  78,  82,  86,  90,  94,  98, 102, 106], dtype=int32)>"
            ]
          },
          "metadata": {},
          "execution_count": 51
        }
      ]
    },
    {
      "cell_type": "code",
      "source": [
        "tf.squeeze(y_pred)"
      ],
      "metadata": {
        "colab": {
          "base_uri": "https://localhost:8080/"
        },
        "id": "WqQJPNiwyi56",
        "outputId": "7f752d40-803f-497e-8d43-97b6df3bf2a7"
      },
      "execution_count": 52,
      "outputs": [
        {
          "output_type": "execute_result",
          "data": {
            "text/plain": [
              "<tf.Tensor: shape=(10,), dtype=float32, numpy=\n",
              "array([ 70.63634 ,  75.27715 ,  79.917946,  84.55874 ,  89.19956 ,\n",
              "        93.840355,  98.481155, 103.121956, 107.76275 , 112.403564],\n",
              "      dtype=float32)>"
            ]
          },
          "metadata": {},
          "execution_count": 52
        }
      ]
    },
    {
      "cell_type": "code",
      "source": [
        "# Calculate the mean absolute error\n",
        "\n",
        "mae = tf.metrics.mean_absolute_error(y_true=y_test, y_pred=tf.squeeze(y_pred))\n",
        "\n",
        "mae"
      ],
      "metadata": {
        "colab": {
          "base_uri": "https://localhost:8080/"
        },
        "id": "uUT4LV7uypPs",
        "outputId": "afba2895-0310-4e2d-d24f-bbc2f48f7a94"
      },
      "execution_count": 53,
      "outputs": [
        {
          "output_type": "execute_result",
          "data": {
            "text/plain": [
              "<tf.Tensor: shape=(), dtype=float32, numpy=3.5199516>"
            ]
          },
          "metadata": {},
          "execution_count": 53
        }
      ]
    },
    {
      "cell_type": "code",
      "source": [
        "# Calculate the mean square error\n",
        "\n",
        "mse = tf.metrics.mean_squared_error(y_true=y_test, y_pred=tf.squeeze(y_pred))\n",
        "mse"
      ],
      "metadata": {
        "id": "QpelDvIC2Nvg",
        "colab": {
          "base_uri": "https://localhost:8080/"
        },
        "outputId": "741fc2b8-61d4-42c6-c7a3-ea68420f1710"
      },
      "execution_count": 54,
      "outputs": [
        {
          "output_type": "execute_result",
          "data": {
            "text/plain": [
              "<tf.Tensor: shape=(), dtype=float32, numpy=15.777735>"
            ]
          },
          "metadata": {},
          "execution_count": 54
        }
      ]
    },
    {
      "cell_type": "code",
      "source": [
        "# Make fucntion to reuse MAE and MSE\n",
        "def mae(y_true, y_pred):\n",
        "  return tf.metrics.mean_absolute_error(y_true=y_true,\n",
        "                                      y_pred=tf.squeeze(y_pred))\n",
        "\n",
        "def mse(y_true,y_pred):\n",
        "  return tf.metrics.mean_squared_error(y_true=y_true,\n",
        "                                       y_pred=tf.squeeze(y_pred))"
      ],
      "metadata": {
        "id": "oCsUvdVW2yQL"
      },
      "execution_count": 55,
      "outputs": []
    },
    {
      "cell_type": "markdown",
      "source": [
        "### Running experiments to improve our model\n",
        "\n",
        "1. Get more data - get more example for model\n",
        "\n",
        "2. Make your model larger (using a more complex model) - matbe more layers or hidden units\n",
        "\n",
        "3. Train for longer - give model more chance to find patterns in data\n",
        "\n",
        "Let's do 3 modelling experiment L\n",
        "\n",
        "1. 'model_1' - same as the origin, 1 layer, trained for 100 epochs\n",
        "\n",
        "2. 'model_2' - 2 layers, trained for 100 epochs\n",
        "\n",
        "3. 'model_3' - 2 layers, rained for 500 epochs"
      ],
      "metadata": {
        "id": "U73RgqjhN1Gb"
      }
    },
    {
      "cell_type": "code",
      "source": [
        "x_train, y_train"
      ],
      "metadata": {
        "colab": {
          "base_uri": "https://localhost:8080/"
        },
        "id": "ZRYFc01nOexa",
        "outputId": "88e46e6b-0703-4642-ddcd-d31f8ce07226"
      },
      "execution_count": 56,
      "outputs": [
        {
          "output_type": "execute_result",
          "data": {
            "text/plain": [
              "(<tf.Tensor: shape=(40,), dtype=int32, numpy=\n",
              " array([-100,  -96,  -92,  -88,  -84,  -80,  -76,  -72,  -68,  -64,  -60,\n",
              "         -56,  -52,  -48,  -44,  -40,  -36,  -32,  -28,  -24,  -20,  -16,\n",
              "         -12,   -8,   -4,    0,    4,    8,   12,   16,   20,   24,   28,\n",
              "          32,   36,   40,   44,   48,   52,   56], dtype=int32)>,\n",
              " <tf.Tensor: shape=(40,), dtype=int32, numpy=\n",
              " array([-90, -86, -82, -78, -74, -70, -66, -62, -58, -54, -50, -46, -42,\n",
              "        -38, -34, -30, -26, -22, -18, -14, -10,  -6,  -2,   2,   6,  10,\n",
              "         14,  18,  22,  26,  30,  34,  38,  42,  46,  50,  54,  58,  62,\n",
              "         66], dtype=int32)>)"
            ]
          },
          "metadata": {},
          "execution_count": 56
        }
      ]
    },
    {
      "cell_type": "code",
      "source": [
        "# First build model_1\n",
        "\n",
        "# Ser random seed\n",
        "tf.random.set_seed(42)\n",
        "\n",
        "# 1. Create the model\n",
        "model_1 = tf.keras.Sequential([\n",
        "    tf.keras.layers.Dense(1)\n",
        "])\n",
        "\n",
        "# 2. Compile the model\n",
        "model_1.compile(loss=tf.keras.losses.mae,\n",
        "                optimizer=tf.keras.optimizers.SGD(),\n",
        "                metrics=[\"mae\"],\n",
        "                run_eagerly=True)\n",
        "\n",
        "# 3. FIt the model\n",
        "model_1.fit(tf.expand_dims(x_train, axis=-1), y_train, epochs=100, verbose=0)"
      ],
      "metadata": {
        "colab": {
          "base_uri": "https://localhost:8080/"
        },
        "id": "Bm7GqWOpN77n",
        "outputId": "f5855daf-520c-44ba-f0ba-56552b6caa97"
      },
      "execution_count": 57,
      "outputs": [
        {
          "output_type": "execute_result",
          "data": {
            "text/plain": [
              "<keras.src.callbacks.History at 0x7f4292305e70>"
            ]
          },
          "metadata": {},
          "execution_count": 57
        }
      ]
    },
    {
      "cell_type": "code",
      "source": [
        "model_1.predict(tf.reshape(x_test, shape=(-1,1)))"
      ],
      "metadata": {
        "colab": {
          "base_uri": "https://localhost:8080/"
        },
        "id": "vvrhWzRwTr-8",
        "outputId": "04b81a6b-4e7c-4db8-e688-8b09be006716"
      },
      "execution_count": 58,
      "outputs": [
        {
          "output_type": "stream",
          "name": "stdout",
          "text": [
            "1/1 [==============================] - 0s 26ms/step\n"
          ]
        },
        {
          "output_type": "execute_result",
          "data": {
            "text/plain": [
              "array([[ 74.62938 ],\n",
              "       [ 79.517426],\n",
              "       [ 84.40547 ],\n",
              "       [ 89.29351 ],\n",
              "       [ 94.18155 ],\n",
              "       [ 99.069595],\n",
              "       [103.95764 ],\n",
              "       [108.84568 ],\n",
              "       [113.73372 ],\n",
              "       [118.621765]], dtype=float32)"
            ]
          },
          "metadata": {},
          "execution_count": 58
        }
      ]
    },
    {
      "cell_type": "code",
      "source": [
        "# Make a plot predictions for model_1\n",
        "\n",
        "# x_test = tf.reshape(x_test, shape=(-1,1))\n",
        "\n",
        "y_preds_1 = model_1.predict(tf.reshape(x_test, shape=(-1,1)))\n",
        "plot_predictions(predictions=y_preds_1)"
      ],
      "metadata": {
        "colab": {
          "base_uri": "https://localhost:8080/",
          "height": 616
        },
        "id": "-VTt2FvCQK0C",
        "outputId": "6cef92ce-e419-470d-b5e1-efc46fb2c7d8"
      },
      "execution_count": 59,
      "outputs": [
        {
          "output_type": "stream",
          "name": "stdout",
          "text": [
            "1/1 [==============================] - 0s 26ms/step\n"
          ]
        },
        {
          "output_type": "display_data",
          "data": {
            "text/plain": [
              "<Figure size 1000x700 with 1 Axes>"
            ],
            "image/png": "[encoded data removed]"
          },
          "metadata": {}
        }
      ]
    },
    {
      "cell_type": "code",
      "source": [
        "# Calculate model_1 evaluation metrics\n",
        "\n",
        "mae_1 = mae(y_test, y_preds_1)\n",
        "mse_1 = mse(y_test, y_preds_1)\n",
        "\n",
        "mae_1, mse_1"
      ],
      "metadata": {
        "colab": {
          "base_uri": "https://localhost:8080/"
        },
        "id": "3u6Og5EaqZEp",
        "outputId": "e4045752-58bb-4646-b38c-cff9dcab7bef"
      },
      "execution_count": 60,
      "outputs": [
        {
          "output_type": "execute_result",
          "data": {
            "text/plain": [
              "(<tf.Tensor: shape=(), dtype=float32, numpy=8.625574>,\n",
              " <tf.Tensor: shape=(), dtype=float32, numpy=80.90663>)"
            ]
          },
          "metadata": {},
          "execution_count": 60
        }
      ]
    },
    {
      "cell_type": "markdown",
      "source": [
        "**Build model_2**\n",
        "\n",
        "* 2 dense layers, trained for 100 epochs"
      ],
      "metadata": {
        "id": "3IG91oWhsu7n"
      }
    },
    {
      "cell_type": "code",
      "source": [
        "# Build model_2\n",
        "\n",
        "# Set the random seed\n",
        "tf.random.set_seed(42)\n",
        "\n",
        "# 1. Create model\n",
        "model_2 = tf.keras.Sequential([\n",
        "    tf.keras.layers.Dense(70, name=\"input_layer\"),\n",
        "    tf.keras.layers.Dense(1, name=\"Output_layer\")\n",
        "])\n",
        "\n",
        "# 2. Compile the model\n",
        "\n",
        "model_2.compile(loss = mae,\n",
        "              optimizer = tf.keras.optimizers.SGD(),\n",
        "              metrics = [\"mae\"])"
      ],
      "metadata": {
        "id": "F9HBFkiUvO0E"
      },
      "execution_count": 61,
      "outputs": []
    },
    {
      "cell_type": "code",
      "source": [
        "# 3. Make Train the model\n",
        "model_2.fit(tf.expand_dims(x_train, axis=-1), y_train, epochs=54)"
      ],
      "metadata": {
        "colab": {
          "base_uri": "https://localhost:8080/"
        },
        "id": "xCwKGotyzj8h",
        "outputId": "11b49ae2-1264-4386-f6ad-2a6c9746bf56"
      },
      "execution_count": 62,
      "outputs": [
        {
          "output_type": "stream",
          "name": "stdout",
          "text": [
            "Epoch 1/54\n",
            "2/2 [==============================] - 1s 18ms/step - loss: 40.7442 - mae: 37.5933\n",
            "Epoch 2/54\n",
            "2/2 [==============================] - 0s 9ms/step - loss: 40.9940 - mae: 41.6124\n",
            "Epoch 3/54\n",
            "2/2 [==============================] - 0s 10ms/step - loss: 53.2299 - mae: 19.0153\n",
            "Epoch 4/54\n",
            "2/2 [==============================] - 0s 13ms/step - loss: 40.6893 - mae: 36.8096\n",
            "Epoch 5/54\n",
            "2/2 [==============================] - 0s 13ms/step - loss: 40.7235 - mae: 38.4146\n",
            "Epoch 6/54\n",
            "2/2 [==============================] - 0s 11ms/step - loss: 41.0290 - mae: 31.2941\n",
            "Epoch 7/54\n",
            "2/2 [==============================] - 0s 11ms/step - loss: 40.7412 - mae: 38.6961\n",
            "Epoch 8/54\n",
            "2/2 [==============================] - 0s 9ms/step - loss: 40.9343 - mae: 32.3288\n",
            "Epoch 9/54\n",
            "2/2 [==============================] - 0s 11ms/step - loss: 46.8446 - mae: 15.2977\n",
            "Epoch 10/54\n",
            "2/2 [==============================] - 0s 10ms/step - loss: 40.7162 - mae: 37.1005\n",
            "Epoch 11/54\n",
            "2/2 [==============================] - 0s 10ms/step - loss: 40.9723 - mae: 38.8774\n",
            "Epoch 12/54\n",
            "2/2 [==============================] - 0s 11ms/step - loss: 52.3848 - mae: 16.0958\n",
            "Epoch 13/54\n",
            "2/2 [==============================] - 0s 15ms/step - loss: 40.7171 - mae: 36.4203\n",
            "Epoch 14/54\n",
            "2/2 [==============================] - 0s 13ms/step - loss: 41.1222 - mae: 30.2235\n",
            "Epoch 15/54\n",
            "2/2 [==============================] - 0s 10ms/step - loss: 40.8864 - mae: 38.7773\n",
            "Epoch 16/54\n",
            "2/2 [==============================] - 0s 12ms/step - loss: 40.8699 - mae: 41.1109\n",
            "Epoch 17/54\n",
            "2/2 [==============================] - 0s 10ms/step - loss: 40.3256 - mae: 34.1294\n",
            "Epoch 18/54\n",
            "2/2 [==============================] - 0s 10ms/step - loss: 40.8765 - mae: 33.4713\n",
            "Epoch 19/54\n",
            "2/2 [==============================] - 0s 14ms/step - loss: 43.2600 - mae: 18.3229\n",
            "Epoch 20/54\n",
            "2/2 [==============================] - 0s 16ms/step - loss: 41.1856 - mae: 30.4474\n",
            "Epoch 21/54\n",
            "2/2 [==============================] - 0s 11ms/step - loss: 40.7407 - mae: 35.1999\n",
            "Epoch 22/54\n",
            "2/2 [==============================] - 0s 11ms/step - loss: 40.6352 - mae: 37.3836\n",
            "Epoch 23/54\n",
            "2/2 [==============================] - 0s 11ms/step - loss: 40.6481 - mae: 38.1879\n",
            "Epoch 24/54\n",
            "2/2 [==============================] - 0s 11ms/step - loss: 41.0075 - mae: 30.4528\n",
            "Epoch 25/54\n",
            "2/2 [==============================] - 0s 9ms/step - loss: 40.8770 - mae: 41.6700\n",
            "Epoch 26/54\n",
            "2/2 [==============================] - 0s 13ms/step - loss: 42.0692 - mae: 25.7509\n",
            "Epoch 27/54\n",
            "2/2 [==============================] - 0s 9ms/step - loss: 40.7344 - mae: 34.9631\n",
            "Epoch 28/54\n",
            "2/2 [==============================] - 0s 14ms/step - loss: 42.1898 - mae: 24.2476\n",
            "Epoch 29/54\n",
            "2/2 [==============================] - 0s 9ms/step - loss: 40.7264 - mae: 34.0513\n",
            "Epoch 30/54\n",
            "2/2 [==============================] - 0s 10ms/step - loss: 45.3504 - mae: 14.1630\n",
            "Epoch 31/54\n",
            "2/2 [==============================] - 0s 10ms/step - loss: 57.8126 - mae: 16.1376\n",
            "Epoch 32/54\n",
            "2/2 [==============================] - 0s 11ms/step - loss: 41.2257 - mae: 26.7503\n",
            "Epoch 33/54\n",
            "2/2 [==============================] - 0s 10ms/step - loss: 41.1714 - mae: 30.2238\n",
            "Epoch 34/54\n",
            "2/2 [==============================] - 0s 9ms/step - loss: 40.8181 - mae: 32.6003\n",
            "Epoch 35/54\n",
            "2/2 [==============================] - 0s 9ms/step - loss: 40.6332 - mae: 35.2384\n",
            "Epoch 36/54\n",
            "2/2 [==============================] - 0s 10ms/step - loss: 41.6516 - mae: 23.9133\n",
            "Epoch 37/54\n",
            "2/2 [==============================] - 0s 11ms/step - loss: 40.8505 - mae: 32.4953\n",
            "Epoch 38/54\n",
            "2/2 [==============================] - 0s 12ms/step - loss: 40.6543 - mae: 34.6182\n",
            "Epoch 39/54\n",
            "2/2 [==============================] - 0s 10ms/step - loss: 40.7227 - mae: 34.1646\n",
            "Epoch 40/54\n",
            "2/2 [==============================] - 0s 12ms/step - loss: 40.8678 - mae: 32.8019\n",
            "Epoch 41/54\n",
            "2/2 [==============================] - 0s 12ms/step - loss: 40.3726 - mae: 33.7636\n",
            "Epoch 42/54\n",
            "2/2 [==============================] - 0s 11ms/step - loss: 40.7174 - mae: 34.7672\n",
            "Epoch 43/54\n",
            "2/2 [==============================] - 0s 13ms/step - loss: 40.5617 - mae: 36.8631\n",
            "Epoch 44/54\n",
            "2/2 [==============================] - 0s 12ms/step - loss: 41.0405 - mae: 29.9303\n",
            "Epoch 45/54\n",
            "2/2 [==============================] - 0s 9ms/step - loss: 41.0615 - mae: 30.8439\n",
            "Epoch 46/54\n",
            "2/2 [==============================] - 0s 14ms/step - loss: 40.6959 - mae: 33.4270\n",
            "Epoch 47/54\n",
            "2/2 [==============================] - 0s 10ms/step - loss: 40.7100 - mae: 34.7354\n",
            "Epoch 48/54\n",
            "2/2 [==============================] - 0s 12ms/step - loss: 40.6700 - mae: 37.4191\n",
            "Epoch 49/54\n",
            "2/2 [==============================] - 0s 9ms/step - loss: 40.6605 - mae: 37.1551\n",
            "Epoch 50/54\n",
            "2/2 [==============================] - 0s 11ms/step - loss: 40.5705 - mae: 35.1810\n",
            "Epoch 51/54\n",
            "2/2 [==============================] - 0s 13ms/step - loss: 40.6732 - mae: 37.3085\n",
            "Epoch 52/54\n",
            "2/2 [==============================] - 0s 10ms/step - loss: 40.5934 - mae: 35.2316\n",
            "Epoch 53/54\n",
            "2/2 [==============================] - 0s 9ms/step - loss: 40.4360 - mae: 27.7474\n",
            "Epoch 54/54\n",
            "2/2 [==============================] - 0s 9ms/step - loss: 43.7548 - mae: 17.7319\n"
          ]
        },
        {
          "output_type": "execute_result",
          "data": {
            "text/plain": [
              "<keras.src.callbacks.History at 0x7f429229d2a0>"
            ]
          },
          "metadata": {},
          "execution_count": 62
        }
      ]
    },
    {
      "cell_type": "code",
      "source": [
        "x_test"
      ],
      "metadata": {
        "colab": {
          "base_uri": "https://localhost:8080/"
        },
        "id": "F4p4SDzi3EAL",
        "outputId": "f29dac1d-7697-4b06-e61e-f0ff5ad19e03"
      },
      "execution_count": 63,
      "outputs": [
        {
          "output_type": "execute_result",
          "data": {
            "text/plain": [
              "<tf.Tensor: shape=(10,), dtype=int32, numpy=array([60, 64, 68, 72, 76, 80, 84, 88, 92, 96], dtype=int32)>"
            ]
          },
          "metadata": {},
          "execution_count": 63
        }
      ]
    },
    {
      "cell_type": "code",
      "source": [
        "y_test"
      ],
      "metadata": {
        "colab": {
          "base_uri": "https://localhost:8080/"
        },
        "id": "pg4Syr7r3HES",
        "outputId": "c5a84c91-6178-4867-aa72-d28a63fa641e"
      },
      "execution_count": 64,
      "outputs": [
        {
          "output_type": "execute_result",
          "data": {
            "text/plain": [
              "<tf.Tensor: shape=(10,), dtype=int32, numpy=array([ 70,  74,  78,  82,  86,  90,  94,  98, 102, 106], dtype=int32)>"
            ]
          },
          "metadata": {},
          "execution_count": 64
        }
      ]
    },
    {
      "cell_type": "code",
      "source": [
        "model_2.predict(x_test)"
      ],
      "metadata": {
        "colab": {
          "base_uri": "https://localhost:8080/"
        },
        "id": "bvtvcNO03KN2",
        "outputId": "c598821d-512c-4d85-dfb3-64bd089d855d"
      },
      "execution_count": 65,
      "outputs": [
        {
          "output_type": "stream",
          "name": "stderr",
          "text": [
            "WARNING:tensorflow:6 out of the last 6 calls to <function Model.make_predict_function.<locals>.predict_function at 0x7f429241b6d0> triggered tf.function retracing. Tracing is expensive and the excessive number of tracings could be due to (1) creating @tf.function repeatedly in a loop, (2) passing tensors with different shapes, (3) passing Python objects instead of tensors. For (1), please define your @tf.function outside of the loop. For (2), @tf.function has reduce_retracing=True option that can avoid unnecessary retracing. For (3), please refer to https://www.tensorflow.org/guide/function#controlling_retracing and https://www.tensorflow.org/api_docs/python/tf/function for  more details.\n"
          ]
        },
        {
          "output_type": "stream",
          "name": "stdout",
          "text": [
            "1/1 [==============================] - 0s 58ms/step\n"
          ]
        },
        {
          "output_type": "execute_result",
          "data": {
            "text/plain": [
              "array([[32.623756],\n",
              "       [34.81316 ],\n",
              "       [37.002563],\n",
              "       [39.19196 ],\n",
              "       [41.38136 ],\n",
              "       [43.570766],\n",
              "       [45.76016 ],\n",
              "       [47.949566],\n",
              "       [50.138958],\n",
              "       [52.32836 ]], dtype=float32)"
            ]
          },
          "metadata": {},
          "execution_count": 65
        }
      ]
    },
    {
      "cell_type": "code",
      "source": [
        "# Make and plot predictions of model_2\n",
        "\n",
        "y_preds_2 = model_2.predict(x_test)\n",
        "plot_predictions(predictions=y_preds_2)"
      ],
      "metadata": {
        "colab": {
          "base_uri": "https://localhost:8080/",
          "height": 616
        },
        "id": "qYq7itP01-ur",
        "outputId": "957ab12f-e37b-4d10-84c8-bac3bfa46eb2"
      },
      "execution_count": 66,
      "outputs": [
        {
          "output_type": "stream",
          "name": "stdout",
          "text": [
            "1/1 [==============================] - 0s 23ms/step\n"
          ]
        },
        {
          "output_type": "display_data",
          "data": {
            "text/plain": [
              "<Figure size 1000x700 with 1 Axes>"
            ],
            "image/png": "[encoded data removed]"
          },
          "metadata": {}
        }
      ]
    },
    {
      "cell_type": "code",
      "source": [
        "model_2.summary()"
      ],
      "metadata": {
        "colab": {
          "base_uri": "https://localhost:8080/"
        },
        "id": "nrRhl6kf1o_c",
        "outputId": "b62d8ead-5de8-4624-872f-7e7feb15b8b8"
      },
      "execution_count": 67,
      "outputs": [
        {
          "output_type": "stream",
          "name": "stdout",
          "text": [
            "Model: \"sequential_6\"\n",
            "_________________________________________________________________\n",
            " Layer (type)                Output Shape              Param #   \n",
            "=================================================================\n",
            " input_layer (Dense)         (None, 70)                140       \n",
            "                                                                 \n",
            " Output_layer (Dense)        (None, 1)                 71        \n",
            "                                                                 \n",
            "=================================================================\n",
            "Total params: 211 (844.00 Byte)\n",
            "Trainable params: 211 (844.00 Byte)\n",
            "Non-trainable params: 0 (0.00 Byte)\n",
            "_________________________________________________________________\n"
          ]
        }
      ]
    },
    {
      "cell_type": "code",
      "source": [
        "# Calculate model_2 evaluation metrics\n",
        "\n",
        "mae_2 = mae(y_test, y_preds_2)\n",
        "mse_2 = mse(y_test, y_preds_2)\n",
        "\n",
        "mae_2, mse_2"
      ],
      "metadata": {
        "colab": {
          "base_uri": "https://localhost:8080/"
        },
        "id": "C54KgBhY6klJ",
        "outputId": "8ff9bc96-e0fb-48db-b51b-ff23286d64c4"
      },
      "execution_count": 68,
      "outputs": [
        {
          "output_type": "execute_result",
          "data": {
            "text/plain": [
              "(<tf.Tensor: shape=(), dtype=float32, numpy=45.52394>,\n",
              " <tf.Tensor: shape=(), dtype=float32, numpy=2099.4749>)"
            ]
          },
          "metadata": {},
          "execution_count": 68
        }
      ]
    },
    {
      "cell_type": "markdown",
      "source": [
        "**Build model_3**\n",
        "\n",
        "* 2 layers, trained for 500 epochs"
      ],
      "metadata": {
        "id": "UgQW0Vw_Eigq"
      }
    },
    {
      "cell_type": "code",
      "source": [
        "# Build mdoel 3\n",
        "\n",
        "# set random seed\n",
        "tf.random.set_seed(42)\n",
        "\n",
        "# Build the model\n",
        "model_3 = tf.keras.Sequential([\n",
        "    tf.keras.layers.Dense(10),\n",
        "    tf.keras.layers.Dense(1)\n",
        "])\n",
        "\n",
        "# Compile the model\n",
        "model_3.compile(loss=mae,\n",
        "                optimizer = tf.keras.optimizers.SGD(),\n",
        "                metrics=[\"mae\"])"
      ],
      "metadata": {
        "id": "ZDmoG_8fEdZp"
      },
      "execution_count": 69,
      "outputs": []
    },
    {
      "cell_type": "code",
      "source": [
        "# 3. FIt the model\n",
        "model_3.fit(tf.expand_dims(x_train, axis=-1), y_train, epochs=500)\n"
      ],
      "metadata": {
        "colab": {
          "base_uri": "https://localhost:8080/"
        },
        "id": "Xw5ZEQwjFTQF",
        "outputId": "a9825753-a7ee-483f-85b6-a38fd4a451ba"
      },
      "execution_count": 70,
      "outputs": [
        {
          "output_type": "stream",
          "name": "stdout",
          "text": [
            "Epoch 1/500\n",
            "2/2 [==============================] - 0s 14ms/step - loss: 71.0425 - mae: 96.6237\n",
            "Epoch 2/500\n",
            "2/2 [==============================] - 0s 8ms/step - loss: 40.9000 - mae: 40.9112\n",
            "Epoch 3/500\n",
            "2/2 [==============================] - 0s 8ms/step - loss: 43.0592 - mae: 20.9776\n",
            "Epoch 4/500\n",
            "2/2 [==============================] - 0s 9ms/step - loss: 40.6750 - mae: 36.6931\n",
            "Epoch 5/500\n",
            "2/2 [==============================] - 0s 8ms/step - loss: 40.5890 - mae: 37.8074\n",
            "Epoch 6/500\n",
            "2/2 [==============================] - 0s 8ms/step - loss: 40.7426 - mae: 34.7151\n",
            "Epoch 7/500\n",
            "2/2 [==============================] - 0s 9ms/step - loss: 40.7502 - mae: 36.7555\n",
            "Epoch 8/500\n",
            "2/2 [==============================] - 0s 9ms/step - loss: 40.4865 - mae: 34.1526\n",
            "Epoch 9/500\n",
            "2/2 [==============================] - 0s 9ms/step - loss: 41.1688 - mae: 26.5585\n",
            "Epoch 10/500\n",
            "2/2 [==============================] - 0s 8ms/step - loss: 40.2410 - mae: 31.7269\n",
            "Epoch 11/500\n",
            "2/2 [==============================] - 0s 8ms/step - loss: 40.7777 - mae: 36.3143\n",
            "Epoch 12/500\n",
            "2/2 [==============================] - 0s 9ms/step - loss: 44.9636 - mae: 17.4201\n",
            "Epoch 13/500\n",
            "2/2 [==============================] - 0s 8ms/step - loss: 41.0824 - mae: 30.7166\n",
            "Epoch 14/500\n",
            "2/2 [==============================] - 0s 8ms/step - loss: 41.2455 - mae: 29.2315\n",
            "Epoch 15/500\n",
            "2/2 [==============================] - 0s 12ms/step - loss: 40.6737 - mae: 34.9667\n",
            "Epoch 16/500\n",
            "2/2 [==============================] - 0s 8ms/step - loss: 40.7511 - mae: 38.8879\n",
            "Epoch 17/500\n",
            "2/2 [==============================] - 0s 7ms/step - loss: 40.3663 - mae: 35.2524\n",
            "Epoch 18/500\n",
            "2/2 [==============================] - 0s 10ms/step - loss: 40.5687 - mae: 34.0752\n",
            "Epoch 19/500\n",
            "2/2 [==============================] - 0s 7ms/step - loss: 41.7172 - mae: 23.7683\n",
            "Epoch 20/500\n",
            "2/2 [==============================] - 0s 8ms/step - loss: 40.9790 - mae: 31.6680\n",
            "Epoch 21/500\n",
            "2/2 [==============================] - 0s 8ms/step - loss: 40.7853 - mae: 34.0709\n",
            "Epoch 22/500\n",
            "2/2 [==============================] - 0s 11ms/step - loss: 40.5518 - mae: 36.0347\n",
            "Epoch 23/500\n",
            "2/2 [==============================] - 0s 8ms/step - loss: 40.6136 - mae: 37.0614\n",
            "Epoch 24/500\n",
            "2/2 [==============================] - 0s 9ms/step - loss: 40.8056 - mae: 34.3818\n",
            "Epoch 25/500\n",
            "2/2 [==============================] - 0s 11ms/step - loss: 40.7445 - mae: 39.6945\n",
            "Epoch 26/500\n",
            "2/2 [==============================] - 0s 12ms/step - loss: 41.1563 - mae: 29.9951\n",
            "Epoch 27/500\n",
            "2/2 [==============================] - 0s 9ms/step - loss: 40.6633 - mae: 34.2218\n",
            "Epoch 28/500\n",
            "2/2 [==============================] - 0s 8ms/step - loss: 41.0723 - mae: 29.8127\n",
            "Epoch 29/500\n",
            "2/2 [==============================] - 0s 9ms/step - loss: 40.3652 - mae: 33.6442\n",
            "Epoch 30/500\n",
            "2/2 [==============================] - 0s 9ms/step - loss: 42.0561 - mae: 18.4927\n",
            "Epoch 31/500\n",
            "2/2 [==============================] - 0s 9ms/step - loss: 51.4543 - mae: 11.5522\n",
            "Epoch 32/500\n",
            "2/2 [==============================] - 0s 12ms/step - loss: 41.3157 - mae: 26.0498\n",
            "Epoch 33/500\n",
            "2/2 [==============================] - 0s 9ms/step - loss: 41.3173 - mae: 29.0001\n",
            "Epoch 34/500\n",
            "2/2 [==============================] - 0s 8ms/step - loss: 40.9280 - mae: 31.0789\n",
            "Epoch 35/500\n",
            "2/2 [==============================] - 0s 8ms/step - loss: 40.5275 - mae: 33.4277\n",
            "Epoch 36/500\n",
            "2/2 [==============================] - 0s 10ms/step - loss: 41.3887 - mae: 25.3230\n",
            "Epoch 37/500\n",
            "2/2 [==============================] - 0s 9ms/step - loss: 40.9158 - mae: 31.6583\n",
            "Epoch 38/500\n",
            "2/2 [==============================] - 0s 9ms/step - loss: 40.6905 - mae: 33.3894\n",
            "Epoch 39/500\n",
            "2/2 [==============================] - 0s 8ms/step - loss: 40.7556 - mae: 33.2030\n",
            "Epoch 40/500\n",
            "2/2 [==============================] - 0s 9ms/step - loss: 40.8712 - mae: 32.7070\n",
            "Epoch 41/500\n",
            "2/2 [==============================] - 0s 8ms/step - loss: 40.3657 - mae: 33.4257\n",
            "Epoch 42/500\n",
            "2/2 [==============================] - 0s 9ms/step - loss: 40.7381 - mae: 34.2107\n",
            "Epoch 43/500\n",
            "2/2 [==============================] - 0s 9ms/step - loss: 40.5114 - mae: 35.8975\n",
            "Epoch 44/500\n",
            "2/2 [==============================] - 0s 9ms/step - loss: 40.8863 - mae: 31.1067\n",
            "Epoch 45/500\n",
            "2/2 [==============================] - 0s 8ms/step - loss: 40.9811 - mae: 31.4844\n",
            "Epoch 46/500\n",
            "2/2 [==============================] - 0s 8ms/step - loss: 40.7020 - mae: 33.2925\n",
            "Epoch 47/500\n",
            "2/2 [==============================] - 0s 9ms/step - loss: 40.7223 - mae: 34.3133\n",
            "Epoch 48/500\n",
            "2/2 [==============================] - 0s 9ms/step - loss: 40.6547 - mae: 36.3551\n",
            "Epoch 49/500\n",
            "2/2 [==============================] - 0s 9ms/step - loss: 40.6569 - mae: 36.3055\n",
            "Epoch 50/500\n",
            "2/2 [==============================] - 0s 10ms/step - loss: 40.5683 - mae: 35.0749\n",
            "Epoch 51/500\n",
            "2/2 [==============================] - 0s 9ms/step - loss: 40.6616 - mae: 36.6230\n",
            "Epoch 52/500\n",
            "2/2 [==============================] - 0s 8ms/step - loss: 40.5187 - mae: 35.2414\n",
            "Epoch 53/500\n",
            "2/2 [==============================] - 0s 8ms/step - loss: 40.1480 - mae: 29.7501\n",
            "Epoch 54/500\n",
            "2/2 [==============================] - 0s 8ms/step - loss: 42.4192 - mae: 21.1468\n",
            "Epoch 55/500\n",
            "2/2 [==============================] - 0s 9ms/step - loss: 43.1259 - mae: 20.4603\n",
            "Epoch 56/500\n",
            "2/2 [==============================] - 0s 8ms/step - loss: 40.9277 - mae: 29.1243\n",
            "Epoch 57/500\n",
            "2/2 [==============================] - 0s 8ms/step - loss: 40.4335 - mae: 32.7801\n",
            "Epoch 58/500\n",
            "2/2 [==============================] - 0s 12ms/step - loss: 40.6685 - mae: 34.5515\n",
            "Epoch 59/500\n",
            "2/2 [==============================] - 0s 8ms/step - loss: 40.7790 - mae: 34.8858\n",
            "Epoch 60/500\n",
            "2/2 [==============================] - 0s 8ms/step - loss: 40.7174 - mae: 34.7052\n",
            "Epoch 61/500\n",
            "2/2 [==============================] - 0s 9ms/step - loss: 40.7142 - mae: 35.1345\n",
            "Epoch 62/500\n",
            "2/2 [==============================] - 0s 8ms/step - loss: 40.7367 - mae: 35.6429\n",
            "Epoch 63/500\n",
            "2/2 [==============================] - 0s 8ms/step - loss: 40.6347 - mae: 35.2103\n",
            "Epoch 64/500\n",
            "2/2 [==============================] - 0s 8ms/step - loss: 40.7647 - mae: 33.8956\n",
            "Epoch 65/500\n",
            "2/2 [==============================] - 0s 9ms/step - loss: 40.6805 - mae: 34.7980\n",
            "Epoch 66/500\n",
            "2/2 [==============================] - 0s 8ms/step - loss: 40.7931 - mae: 33.6730\n",
            "Epoch 67/500\n",
            "2/2 [==============================] - 0s 8ms/step - loss: 40.7304 - mae: 34.4358\n",
            "Epoch 68/500\n",
            "2/2 [==============================] - 0s 8ms/step - loss: 40.6705 - mae: 34.8351\n",
            "Epoch 69/500\n",
            "2/2 [==============================] - 0s 8ms/step - loss: 40.7324 - mae: 34.8437\n",
            "Epoch 70/500\n",
            "2/2 [==============================] - 0s 10ms/step - loss: 40.6357 - mae: 35.0981\n",
            "Epoch 71/500\n",
            "2/2 [==============================] - 0s 9ms/step - loss: 40.6558 - mae: 36.5569\n",
            "Epoch 72/500\n",
            "2/2 [==============================] - 0s 8ms/step - loss: 40.6990 - mae: 36.4271\n",
            "Epoch 73/500\n",
            "2/2 [==============================] - 0s 8ms/step - loss: 40.6763 - mae: 37.2968\n",
            "Epoch 74/500\n",
            "2/2 [==============================] - 0s 8ms/step - loss: 40.6936 - mae: 37.1414\n",
            "Epoch 75/500\n",
            "2/2 [==============================] - 0s 7ms/step - loss: 40.7110 - mae: 37.4446\n",
            "Epoch 76/500\n",
            "2/2 [==============================] - 0s 7ms/step - loss: 40.6570 - mae: 37.1305\n",
            "Epoch 77/500\n",
            "2/2 [==============================] - 0s 8ms/step - loss: 40.7171 - mae: 37.8811\n",
            "Epoch 78/500\n",
            "2/2 [==============================] - 0s 9ms/step - loss: 40.4383 - mae: 37.6749\n",
            "Epoch 79/500\n",
            "2/2 [==============================] - 0s 9ms/step - loss: 40.4720 - mae: 34.0340\n",
            "Epoch 80/500\n",
            "2/2 [==============================] - 0s 8ms/step - loss: 40.9886 - mae: 30.8079\n",
            "Epoch 81/500\n",
            "2/2 [==============================] - 0s 10ms/step - loss: 39.9719 - mae: 33.2464\n",
            "Epoch 82/500\n",
            "2/2 [==============================] - 0s 9ms/step - loss: 40.6359 - mae: 33.5217\n",
            "Epoch 83/500\n",
            "2/2 [==============================] - 0s 8ms/step - loss: 40.6620 - mae: 35.3173\n",
            "Epoch 84/500\n",
            "2/2 [==============================] - 0s 9ms/step - loss: 40.6890 - mae: 35.4869\n",
            "Epoch 85/500\n",
            "2/2 [==============================] - 0s 12ms/step - loss: 40.7146 - mae: 35.8209\n",
            "Epoch 86/500\n",
            "2/2 [==============================] - 0s 8ms/step - loss: 40.7244 - mae: 36.2035\n",
            "Epoch 87/500\n",
            "2/2 [==============================] - 0s 14ms/step - loss: 40.6901 - mae: 36.2192\n",
            "Epoch 88/500\n",
            "2/2 [==============================] - 0s 9ms/step - loss: 40.7104 - mae: 36.1672\n",
            "Epoch 89/500\n",
            "2/2 [==============================] - 0s 8ms/step - loss: 40.7062 - mae: 37.0115\n",
            "Epoch 90/500\n",
            "2/2 [==============================] - 0s 9ms/step - loss: 40.6912 - mae: 37.1653\n",
            "Epoch 91/500\n",
            "2/2 [==============================] - 0s 8ms/step - loss: 40.6673 - mae: 37.0704\n",
            "Epoch 92/500\n",
            "2/2 [==============================] - 0s 9ms/step - loss: 40.6907 - mae: 36.9607\n",
            "Epoch 93/500\n",
            "2/2 [==============================] - 0s 9ms/step - loss: 40.6399 - mae: 36.9276\n",
            "Epoch 94/500\n",
            "2/2 [==============================] - 0s 9ms/step - loss: 40.6925 - mae: 36.1828\n",
            "Epoch 95/500\n",
            "2/2 [==============================] - 0s 9ms/step - loss: 40.7401 - mae: 35.5903\n",
            "Epoch 96/500\n",
            "2/2 [==============================] - 0s 8ms/step - loss: 40.5859 - mae: 35.1523\n",
            "Epoch 97/500\n",
            "2/2 [==============================] - 0s 9ms/step - loss: 40.7065 - mae: 35.8061\n",
            "Epoch 98/500\n",
            "2/2 [==============================] - 0s 9ms/step - loss: 40.6652 - mae: 36.3308\n",
            "Epoch 99/500\n",
            "2/2 [==============================] - 0s 8ms/step - loss: 40.6697 - mae: 36.3811\n",
            "Epoch 100/500\n",
            "2/2 [==============================] - 0s 8ms/step - loss: 40.7150 - mae: 35.5173\n",
            "Epoch 101/500\n",
            "2/2 [==============================] - 0s 8ms/step - loss: 40.6937 - mae: 36.0065\n",
            "Epoch 102/500\n",
            "2/2 [==============================] - 0s 8ms/step - loss: 40.4979 - mae: 36.4789\n",
            "Epoch 103/500\n",
            "2/2 [==============================] - 0s 8ms/step - loss: 40.5874 - mae: 36.7945\n",
            "Epoch 104/500\n",
            "2/2 [==============================] - 0s 9ms/step - loss: 40.6992 - mae: 35.5570\n",
            "Epoch 105/500\n",
            "2/2 [==============================] - 0s 9ms/step - loss: 40.6532 - mae: 36.1535\n",
            "Epoch 106/500\n",
            "2/2 [==============================] - 0s 9ms/step - loss: 40.6391 - mae: 36.2481\n",
            "Epoch 107/500\n",
            "2/2 [==============================] - 0s 9ms/step - loss: 40.6823 - mae: 35.1736\n",
            "Epoch 108/500\n",
            "2/2 [==============================] - 0s 9ms/step - loss: 40.7125 - mae: 34.6489\n",
            "Epoch 109/500\n",
            "2/2 [==============================] - 0s 8ms/step - loss: 40.6338 - mae: 33.8364\n",
            "Epoch 110/500\n",
            "2/2 [==============================] - 0s 8ms/step - loss: 40.6896 - mae: 34.8819\n",
            "Epoch 111/500\n",
            "2/2 [==============================] - 0s 8ms/step - loss: 40.6218 - mae: 35.1139\n",
            "Epoch 112/500\n",
            "2/2 [==============================] - 0s 8ms/step - loss: 40.4401 - mae: 35.3388\n",
            "Epoch 113/500\n",
            "2/2 [==============================] - 0s 9ms/step - loss: 40.4523 - mae: 32.9487\n",
            "Epoch 114/500\n",
            "2/2 [==============================] - 0s 8ms/step - loss: 41.0120 - mae: 31.2422\n",
            "Epoch 115/500\n",
            "2/2 [==============================] - 0s 8ms/step - loss: 40.9161 - mae: 31.7987\n",
            "Epoch 116/500\n",
            "2/2 [==============================] - 0s 10ms/step - loss: 40.6615 - mae: 32.9655\n",
            "Epoch 117/500\n",
            "2/2 [==============================] - 0s 12ms/step - loss: 40.5853 - mae: 34.2747\n",
            "Epoch 118/500\n",
            "2/2 [==============================] - 0s 12ms/step - loss: 40.5617 - mae: 34.8078\n",
            "Epoch 119/500\n",
            "2/2 [==============================] - 0s 16ms/step - loss: 40.0065 - mae: 35.5920\n",
            "Epoch 120/500\n",
            "2/2 [==============================] - 0s 9ms/step - loss: 41.2140 - mae: 28.8103\n",
            "Epoch 121/500\n",
            "2/2 [==============================] - 0s 8ms/step - loss: 39.9326 - mae: 32.3091\n",
            "Epoch 122/500\n",
            "2/2 [==============================] - 0s 9ms/step - loss: 41.0799 - mae: 25.7159\n",
            "Epoch 123/500\n",
            "2/2 [==============================] - 0s 8ms/step - loss: 41.8497 - mae: 25.0694\n",
            "Epoch 124/500\n",
            "2/2 [==============================] - 0s 9ms/step - loss: 41.3228 - mae: 28.1054\n",
            "Epoch 125/500\n",
            "2/2 [==============================] - 0s 12ms/step - loss: 40.6405 - mae: 30.6934\n",
            "Epoch 126/500\n",
            "2/2 [==============================] - 0s 9ms/step - loss: 40.8395 - mae: 32.6149\n",
            "Epoch 127/500\n",
            "2/2 [==============================] - 0s 9ms/step - loss: 40.2687 - mae: 33.3766\n",
            "Epoch 128/500\n",
            "2/2 [==============================] - 0s 9ms/step - loss: 41.2956 - mae: 28.7210\n",
            "Epoch 129/500\n",
            "2/2 [==============================] - 0s 10ms/step - loss: 40.3892 - mae: 30.3998\n",
            "Epoch 130/500\n",
            "2/2 [==============================] - 0s 10ms/step - loss: 41.2355 - mae: 28.9425\n",
            "Epoch 131/500\n",
            "2/2 [==============================] - 0s 11ms/step - loss: 40.8183 - mae: 30.8302\n",
            "Epoch 132/500\n",
            "2/2 [==============================] - 0s 9ms/step - loss: 40.8562 - mae: 31.5018\n",
            "Epoch 133/500\n",
            "2/2 [==============================] - 0s 9ms/step - loss: 40.5245 - mae: 32.8573\n",
            "Epoch 134/500\n",
            "2/2 [==============================] - 0s 10ms/step - loss: 41.0451 - mae: 30.1772\n",
            "Epoch 135/500\n",
            "2/2 [==============================] - 0s 12ms/step - loss: 40.7503 - mae: 32.6854\n",
            "Epoch 136/500\n",
            "2/2 [==============================] - 0s 14ms/step - loss: 40.7226 - mae: 33.2315\n",
            "Epoch 137/500\n",
            "2/2 [==============================] - 0s 9ms/step - loss: 40.0177 - mae: 32.5828\n",
            "Epoch 138/500\n",
            "2/2 [==============================] - 0s 9ms/step - loss: 40.4355 - mae: 32.1869\n",
            "Epoch 139/500\n",
            "2/2 [==============================] - 0s 9ms/step - loss: 40.8355 - mae: 32.5321\n",
            "Epoch 140/500\n",
            "2/2 [==============================] - 0s 9ms/step - loss: 40.7411 - mae: 33.3814\n",
            "Epoch 141/500\n",
            "2/2 [==============================] - 0s 12ms/step - loss: 40.1612 - mae: 33.8581\n",
            "Epoch 142/500\n",
            "2/2 [==============================] - 0s 9ms/step - loss: 40.6825 - mae: 30.4342\n",
            "Epoch 143/500\n",
            "2/2 [==============================] - 0s 9ms/step - loss: 40.5061 - mae: 28.2377\n",
            "Epoch 144/500\n",
            "2/2 [==============================] - 0s 9ms/step - loss: 40.6046 - mae: 30.9774\n",
            "Epoch 145/500\n",
            "2/2 [==============================] - 0s 11ms/step - loss: 41.4335 - mae: 26.6713\n",
            "Epoch 146/500\n",
            "2/2 [==============================] - 0s 9ms/step - loss: 39.9578 - mae: 31.6818\n",
            "Epoch 147/500\n",
            "2/2 [==============================] - 0s 10ms/step - loss: 40.2750 - mae: 32.5171\n",
            "Epoch 148/500\n",
            "2/2 [==============================] - 0s 8ms/step - loss: 40.6190 - mae: 30.6338\n",
            "Epoch 149/500\n",
            "2/2 [==============================] - 0s 10ms/step - loss: 40.7255 - mae: 32.4067\n",
            "Epoch 150/500\n",
            "2/2 [==============================] - 0s 9ms/step - loss: 40.0015 - mae: 33.5181\n",
            "Epoch 151/500\n",
            "2/2 [==============================] - 0s 10ms/step - loss: 41.0166 - mae: 30.7454\n",
            "Epoch 152/500\n",
            "2/2 [==============================] - 0s 10ms/step - loss: 40.8321 - mae: 32.1437\n",
            "Epoch 153/500\n",
            "2/2 [==============================] - 0s 9ms/step - loss: 40.3838 - mae: 31.7735\n",
            "Epoch 154/500\n",
            "2/2 [==============================] - 0s 10ms/step - loss: 40.8382 - mae: 32.3143\n",
            "Epoch 155/500\n",
            "2/2 [==============================] - 0s 9ms/step - loss: 40.6934 - mae: 33.4762\n",
            "Epoch 156/500\n",
            "2/2 [==============================] - 0s 10ms/step - loss: 40.4392 - mae: 32.9346\n",
            "Epoch 157/500\n",
            "2/2 [==============================] - 0s 9ms/step - loss: 40.7214 - mae: 31.3983\n",
            "Epoch 158/500\n",
            "2/2 [==============================] - 0s 9ms/step - loss: 40.4275 - mae: 32.2598\n",
            "Epoch 159/500\n",
            "2/2 [==============================] - 0s 9ms/step - loss: 40.6278 - mae: 33.9998\n",
            "Epoch 160/500\n",
            "2/2 [==============================] - 0s 10ms/step - loss: 40.7348 - mae: 33.8117\n",
            "Epoch 161/500\n",
            "2/2 [==============================] - 0s 10ms/step - loss: 40.6884 - mae: 33.7690\n",
            "Epoch 162/500\n",
            "2/2 [==============================] - 0s 10ms/step - loss: 40.6240 - mae: 34.3320\n",
            "Epoch 163/500\n",
            "2/2 [==============================] - 0s 9ms/step - loss: 40.7320 - mae: 33.4613\n",
            "Epoch 164/500\n",
            "2/2 [==============================] - 0s 10ms/step - loss: 40.4765 - mae: 34.1096\n",
            "Epoch 165/500\n",
            "2/2 [==============================] - 0s 8ms/step - loss: 40.6476 - mae: 35.2917\n",
            "Epoch 166/500\n",
            "2/2 [==============================] - 0s 8ms/step - loss: 40.5844 - mae: 35.4039\n",
            "Epoch 167/500\n",
            "2/2 [==============================] - 0s 9ms/step - loss: 40.7206 - mae: 34.5043\n",
            "Epoch 168/500\n",
            "2/2 [==============================] - 0s 8ms/step - loss: 40.6916 - mae: 35.2301\n",
            "Epoch 169/500\n",
            "2/2 [==============================] - 0s 9ms/step - loss: 40.6678 - mae: 35.5226\n",
            "Epoch 170/500\n",
            "2/2 [==============================] - 0s 10ms/step - loss: 40.6597 - mae: 35.5014\n",
            "Epoch 171/500\n",
            "2/2 [==============================] - 0s 10ms/step - loss: 40.6387 - mae: 35.4589\n",
            "Epoch 172/500\n",
            "2/2 [==============================] - 0s 9ms/step - loss: 40.5039 - mae: 35.6018\n",
            "Epoch 173/500\n",
            "2/2 [==============================] - 0s 8ms/step - loss: 40.7007 - mae: 33.6286\n",
            "Epoch 174/500\n",
            "2/2 [==============================] - 0s 9ms/step - loss: 40.5927 - mae: 35.0187\n",
            "Epoch 175/500\n",
            "2/2 [==============================] - 0s 8ms/step - loss: 40.5450 - mae: 34.6308\n",
            "Epoch 176/500\n",
            "2/2 [==============================] - 0s 8ms/step - loss: 40.8039 - mae: 33.3525\n",
            "Epoch 177/500\n",
            "2/2 [==============================] - 0s 8ms/step - loss: 40.7655 - mae: 33.3170\n",
            "Epoch 178/500\n",
            "2/2 [==============================] - 0s 9ms/step - loss: 40.6185 - mae: 33.7791\n",
            "Epoch 179/500\n",
            "2/2 [==============================] - 0s 9ms/step - loss: 40.0353 - mae: 34.4639\n",
            "Epoch 180/500\n",
            "2/2 [==============================] - 0s 9ms/step - loss: 40.6755 - mae: 33.9192\n",
            "Epoch 181/500\n",
            "2/2 [==============================] - 0s 8ms/step - loss: 40.7311 - mae: 33.3005\n",
            "Epoch 182/500\n",
            "2/2 [==============================] - 0s 9ms/step - loss: 40.5164 - mae: 32.6255\n",
            "Epoch 183/500\n",
            "2/2 [==============================] - 0s 9ms/step - loss: 39.8199 - mae: 33.6749\n",
            "Epoch 184/500\n",
            "2/2 [==============================] - 0s 8ms/step - loss: 41.4177 - mae: 27.1048\n",
            "Epoch 185/500\n",
            "2/2 [==============================] - 0s 13ms/step - loss: 40.7857 - mae: 31.3809\n",
            "Epoch 186/500\n",
            "2/2 [==============================] - 0s 8ms/step - loss: 40.4771 - mae: 31.0107\n",
            "Epoch 187/500\n",
            "2/2 [==============================] - 0s 9ms/step - loss: 40.6856 - mae: 33.0477\n",
            "Epoch 188/500\n",
            "2/2 [==============================] - 0s 8ms/step - loss: 40.2969 - mae: 32.0999\n",
            "Epoch 189/500\n",
            "2/2 [==============================] - 0s 11ms/step - loss: 40.7959 - mae: 32.8299\n",
            "Epoch 190/500\n",
            "2/2 [==============================] - 0s 8ms/step - loss: 40.7060 - mae: 34.6029\n",
            "Epoch 191/500\n",
            "2/2 [==============================] - 0s 11ms/step - loss: 40.5962 - mae: 34.8585\n",
            "Epoch 192/500\n",
            "2/2 [==============================] - 0s 9ms/step - loss: 40.3061 - mae: 35.4183\n",
            "Epoch 193/500\n",
            "2/2 [==============================] - 0s 9ms/step - loss: 40.5668 - mae: 33.1047\n",
            "Epoch 194/500\n",
            "2/2 [==============================] - 0s 9ms/step - loss: 40.6486 - mae: 34.2628\n",
            "Epoch 195/500\n",
            "2/2 [==============================] - 0s 9ms/step - loss: 40.5981 - mae: 34.9628\n",
            "Epoch 196/500\n",
            "2/2 [==============================] - 0s 9ms/step - loss: 39.4597 - mae: 33.9926\n",
            "Epoch 197/500\n",
            "2/2 [==============================] - 0s 17ms/step - loss: 40.8988 - mae: 32.1481\n",
            "Epoch 198/500\n",
            "2/2 [==============================] - 0s 11ms/step - loss: 40.4707 - mae: 32.4037\n",
            "Epoch 199/500\n",
            "2/2 [==============================] - 0s 9ms/step - loss: 40.9249 - mae: 30.9771\n",
            "Epoch 200/500\n",
            "2/2 [==============================] - 0s 9ms/step - loss: 40.8607 - mae: 32.0658\n",
            "Epoch 201/500\n",
            "2/2 [==============================] - 0s 9ms/step - loss: 40.1648 - mae: 33.4660\n",
            "Epoch 202/500\n",
            "2/2 [==============================] - 0s 11ms/step - loss: 41.0642 - mae: 29.8021\n",
            "Epoch 203/500\n",
            "2/2 [==============================] - 0s 10ms/step - loss: 40.7493 - mae: 32.5868\n",
            "Epoch 204/500\n",
            "2/2 [==============================] - 0s 13ms/step - loss: 40.7951 - mae: 33.0560\n",
            "Epoch 205/500\n",
            "2/2 [==============================] - 0s 9ms/step - loss: 40.6237 - mae: 33.9974\n",
            "Epoch 206/500\n",
            "2/2 [==============================] - 0s 10ms/step - loss: 40.6999 - mae: 34.8759\n",
            "Epoch 207/500\n",
            "2/2 [==============================] - 0s 10ms/step - loss: 40.4814 - mae: 35.4744\n",
            "Epoch 208/500\n",
            "2/2 [==============================] - 0s 9ms/step - loss: 40.6648 - mae: 33.5753\n",
            "Epoch 209/500\n",
            "2/2 [==============================] - 0s 9ms/step - loss: 40.0541 - mae: 33.9637\n",
            "Epoch 210/500\n",
            "2/2 [==============================] - 0s 9ms/step - loss: 41.0437 - mae: 30.5815\n",
            "Epoch 211/500\n",
            "2/2 [==============================] - 0s 10ms/step - loss: 40.8502 - mae: 31.1578\n",
            "Epoch 212/500\n",
            "2/2 [==============================] - 0s 9ms/step - loss: 40.6472 - mae: 33.0490\n",
            "Epoch 213/500\n",
            "2/2 [==============================] - 0s 9ms/step - loss: 40.6802 - mae: 34.5085\n",
            "Epoch 214/500\n",
            "2/2 [==============================] - 0s 10ms/step - loss: 40.6607 - mae: 34.5678\n",
            "Epoch 215/500\n",
            "2/2 [==============================] - 0s 9ms/step - loss: 40.6785 - mae: 33.9613\n",
            "Epoch 216/500\n",
            "2/2 [==============================] - 0s 9ms/step - loss: 40.5568 - mae: 34.9046\n",
            "Epoch 217/500\n",
            "2/2 [==============================] - 0s 9ms/step - loss: 39.8894 - mae: 34.0812\n",
            "Epoch 218/500\n",
            "2/2 [==============================] - 0s 10ms/step - loss: 40.3921 - mae: 33.5105\n",
            "Epoch 219/500\n",
            "2/2 [==============================] - 0s 9ms/step - loss: 40.7164 - mae: 34.4184\n",
            "Epoch 220/500\n",
            "2/2 [==============================] - 0s 10ms/step - loss: 39.9626 - mae: 34.2826\n",
            "Epoch 221/500\n",
            "2/2 [==============================] - 0s 9ms/step - loss: 40.9761 - mae: 30.3629\n",
            "Epoch 222/500\n",
            "2/2 [==============================] - 0s 9ms/step - loss: 40.7633 - mae: 30.0850\n",
            "Epoch 223/500\n",
            "2/2 [==============================] - 0s 8ms/step - loss: 40.0493 - mae: 32.0866\n",
            "Epoch 224/500\n",
            "2/2 [==============================] - 0s 8ms/step - loss: 40.7410 - mae: 32.6427\n",
            "Epoch 225/500\n",
            "2/2 [==============================] - 0s 9ms/step - loss: 40.6601 - mae: 32.2973\n",
            "Epoch 226/500\n",
            "2/2 [==============================] - 0s 9ms/step - loss: 40.8464 - mae: 32.1986\n",
            "Epoch 227/500\n",
            "2/2 [==============================] - 0s 9ms/step - loss: 40.7609 - mae: 31.8644\n",
            "Epoch 228/500\n",
            "2/2 [==============================] - 0s 10ms/step - loss: 40.4181 - mae: 33.6836\n",
            "Epoch 229/500\n",
            "2/2 [==============================] - 0s 10ms/step - loss: 40.6853 - mae: 34.1436\n",
            "Epoch 230/500\n",
            "2/2 [==============================] - 0s 10ms/step - loss: 40.3979 - mae: 34.9739\n",
            "Epoch 231/500\n",
            "2/2 [==============================] - 0s 9ms/step - loss: 40.8007 - mae: 32.7162\n",
            "Epoch 232/500\n",
            "2/2 [==============================] - 0s 9ms/step - loss: 40.7354 - mae: 33.6389\n",
            "Epoch 233/500\n",
            "2/2 [==============================] - 0s 9ms/step - loss: 40.7195 - mae: 34.1741\n",
            "Epoch 234/500\n",
            "2/2 [==============================] - 0s 16ms/step - loss: 40.4240 - mae: 34.6836\n",
            "Epoch 235/500\n",
            "2/2 [==============================] - 0s 9ms/step - loss: 40.6619 - mae: 33.9763\n",
            "Epoch 236/500\n",
            "2/2 [==============================] - 0s 12ms/step - loss: 40.6240 - mae: 34.2353\n",
            "Epoch 237/500\n",
            "2/2 [==============================] - 0s 8ms/step - loss: 40.4036 - mae: 34.9171\n",
            "Epoch 238/500\n",
            "2/2 [==============================] - 0s 8ms/step - loss: 40.6689 - mae: 34.8770\n",
            "Epoch 239/500\n",
            "2/2 [==============================] - 0s 15ms/step - loss: 40.6616 - mae: 35.3617\n",
            "Epoch 240/500\n",
            "2/2 [==============================] - 0s 14ms/step - loss: 40.6184 - mae: 35.4525\n",
            "Epoch 241/500\n",
            "2/2 [==============================] - 0s 10ms/step - loss: 40.6437 - mae: 35.4970\n",
            "Epoch 242/500\n",
            "2/2 [==============================] - 0s 9ms/step - loss: 40.6135 - mae: 36.2097\n",
            "Epoch 243/500\n",
            "2/2 [==============================] - 0s 10ms/step - loss: 40.4300 - mae: 35.9334\n",
            "Epoch 244/500\n",
            "2/2 [==============================] - 0s 8ms/step - loss: 40.6519 - mae: 36.1846\n",
            "Epoch 245/500\n",
            "2/2 [==============================] - 0s 9ms/step - loss: 40.6372 - mae: 35.6842\n",
            "Epoch 246/500\n",
            "2/2 [==============================] - 0s 8ms/step - loss: 40.5957 - mae: 36.3453\n",
            "Epoch 247/500\n",
            "2/2 [==============================] - 0s 16ms/step - loss: 40.6427 - mae: 35.1899\n",
            "Epoch 248/500\n",
            "2/2 [==============================] - 0s 10ms/step - loss: 40.6629 - mae: 35.3678\n",
            "Epoch 249/500\n",
            "2/2 [==============================] - 0s 11ms/step - loss: 40.5496 - mae: 35.4989\n",
            "Epoch 250/500\n",
            "2/2 [==============================] - 0s 7ms/step - loss: 40.6092 - mae: 33.9926\n",
            "Epoch 251/500\n",
            "2/2 [==============================] - 0s 9ms/step - loss: 40.2285 - mae: 34.3897\n",
            "Epoch 252/500\n",
            "2/2 [==============================] - 0s 9ms/step - loss: 40.9403 - mae: 31.2495\n",
            "Epoch 253/500\n",
            "2/2 [==============================] - 0s 9ms/step - loss: 40.8134 - mae: 31.2190\n",
            "Epoch 254/500\n",
            "2/2 [==============================] - 0s 9ms/step - loss: 40.5335 - mae: 33.1952\n",
            "Epoch 255/500\n",
            "2/2 [==============================] - 0s 8ms/step - loss: 40.9139 - mae: 31.0832\n",
            "Epoch 256/500\n",
            "2/2 [==============================] - 0s 8ms/step - loss: 40.5065 - mae: 32.0133\n",
            "Epoch 257/500\n",
            "2/2 [==============================] - 0s 12ms/step - loss: 40.7372 - mae: 32.6094\n",
            "Epoch 258/500\n",
            "2/2 [==============================] - 0s 11ms/step - loss: 40.6402 - mae: 33.7982\n",
            "Epoch 259/500\n",
            "2/2 [==============================] - 0s 8ms/step - loss: 40.4064 - mae: 33.5841\n",
            "Epoch 260/500\n",
            "2/2 [==============================] - 0s 8ms/step - loss: 40.8555 - mae: 31.1854\n",
            "Epoch 261/500\n",
            "2/2 [==============================] - 0s 8ms/step - loss: 40.1149 - mae: 30.4622\n",
            "Epoch 262/500\n",
            "2/2 [==============================] - 0s 8ms/step - loss: 40.1662 - mae: 30.8755\n",
            "Epoch 263/500\n",
            "2/2 [==============================] - 0s 8ms/step - loss: 40.8880 - mae: 31.6078\n",
            "Epoch 264/500\n",
            "2/2 [==============================] - 0s 13ms/step - loss: 39.9896 - mae: 32.2955\n",
            "Epoch 265/500\n",
            "2/2 [==============================] - 0s 11ms/step - loss: 40.4212 - mae: 32.5308\n",
            "Epoch 266/500\n",
            "2/2 [==============================] - 0s 10ms/step - loss: 40.6216 - mae: 33.4615\n",
            "Epoch 267/500\n",
            "2/2 [==============================] - 0s 12ms/step - loss: 40.6460 - mae: 35.1049\n",
            "Epoch 268/500\n",
            "2/2 [==============================] - 0s 11ms/step - loss: 40.4171 - mae: 34.7172\n",
            "Epoch 269/500\n",
            "2/2 [==============================] - 0s 14ms/step - loss: 40.7923 - mae: 32.5065\n",
            "Epoch 270/500\n",
            "2/2 [==============================] - 0s 11ms/step - loss: 40.0023 - mae: 33.3404\n",
            "Epoch 271/500\n",
            "2/2 [==============================] - 0s 10ms/step - loss: 40.4199 - mae: 33.7418\n",
            "Epoch 272/500\n",
            "2/2 [==============================] - 0s 10ms/step - loss: 40.7298 - mae: 32.7551\n",
            "Epoch 273/500\n",
            "2/2 [==============================] - 0s 9ms/step - loss: 40.5820 - mae: 34.4355\n",
            "Epoch 274/500\n",
            "2/2 [==============================] - 0s 9ms/step - loss: 39.9017 - mae: 35.0264\n",
            "Epoch 275/500\n",
            "2/2 [==============================] - 0s 9ms/step - loss: 41.1236 - mae: 29.7165\n",
            "Epoch 276/500\n",
            "2/2 [==============================] - 0s 12ms/step - loss: 40.9430 - mae: 31.0389\n",
            "Epoch 277/500\n",
            "2/2 [==============================] - 0s 9ms/step - loss: 40.2285 - mae: 32.6582\n",
            "Epoch 278/500\n",
            "2/2 [==============================] - 0s 8ms/step - loss: 40.7936 - mae: 33.0592\n",
            "Epoch 279/500\n",
            "2/2 [==============================] - 0s 10ms/step - loss: 40.6665 - mae: 32.8929\n",
            "Epoch 280/500\n",
            "2/2 [==============================] - 0s 8ms/step - loss: 40.8530 - mae: 32.0865\n",
            "Epoch 281/500\n",
            "2/2 [==============================] - 0s 14ms/step - loss: 40.7097 - mae: 33.1331\n",
            "Epoch 282/500\n",
            "2/2 [==============================] - 0s 9ms/step - loss: 40.6960 - mae: 33.3703\n",
            "Epoch 283/500\n",
            "2/2 [==============================] - 0s 10ms/step - loss: 40.5532 - mae: 34.7841\n",
            "Epoch 284/500\n",
            "2/2 [==============================] - 0s 9ms/step - loss: 40.6065 - mae: 34.3023\n",
            "Epoch 285/500\n",
            "2/2 [==============================] - 0s 10ms/step - loss: 40.5253 - mae: 34.2639\n",
            "Epoch 286/500\n",
            "2/2 [==============================] - 0s 9ms/step - loss: 40.4893 - mae: 33.0669\n",
            "Epoch 287/500\n",
            "2/2 [==============================] - 0s 8ms/step - loss: 40.8958 - mae: 31.4592\n",
            "Epoch 288/500\n",
            "2/2 [==============================] - 0s 9ms/step - loss: 40.6871 - mae: 32.6667\n",
            "Epoch 289/500\n",
            "2/2 [==============================] - 0s 12ms/step - loss: 40.7034 - mae: 33.9655\n",
            "Epoch 290/500\n",
            "2/2 [==============================] - 0s 10ms/step - loss: 40.6529 - mae: 34.7988\n",
            "Epoch 291/500\n",
            "2/2 [==============================] - 0s 9ms/step - loss: 40.5859 - mae: 34.9071\n",
            "Epoch 292/500\n",
            "2/2 [==============================] - 0s 8ms/step - loss: 40.3990 - mae: 35.9521\n",
            "Epoch 293/500\n",
            "2/2 [==============================] - 0s 9ms/step - loss: 40.4571 - mae: 33.6978\n",
            "Epoch 294/500\n",
            "2/2 [==============================] - 0s 12ms/step - loss: 40.8127 - mae: 32.6195\n",
            "Epoch 295/500\n",
            "2/2 [==============================] - 0s 10ms/step - loss: 40.7249 - mae: 33.5424\n",
            "Epoch 296/500\n",
            "2/2 [==============================] - 0s 9ms/step - loss: 40.5310 - mae: 33.5540\n",
            "Epoch 297/500\n",
            "2/2 [==============================] - 0s 9ms/step - loss: 40.6525 - mae: 34.2367\n",
            "Epoch 298/500\n",
            "2/2 [==============================] - 0s 9ms/step - loss: 40.6772 - mae: 33.7510\n",
            "Epoch 299/500\n",
            "2/2 [==============================] - 0s 10ms/step - loss: 40.4075 - mae: 34.3518\n",
            "Epoch 300/500\n",
            "2/2 [==============================] - 0s 8ms/step - loss: 40.4875 - mae: 32.3126\n",
            "Epoch 301/500\n",
            "2/2 [==============================] - 0s 9ms/step - loss: 40.5413 - mae: 29.7761\n",
            "Epoch 302/500\n",
            "2/2 [==============================] - 0s 12ms/step - loss: 40.8455 - mae: 31.6072\n",
            "Epoch 303/500\n",
            "2/2 [==============================] - 0s 12ms/step - loss: 40.9655 - mae: 30.9174\n",
            "Epoch 304/500\n",
            "2/2 [==============================] - 0s 9ms/step - loss: 39.9307 - mae: 31.5058\n",
            "Epoch 305/500\n",
            "2/2 [==============================] - 0s 9ms/step - loss: 40.8805 - mae: 31.3178\n",
            "Epoch 306/500\n",
            "2/2 [==============================] - 0s 9ms/step - loss: 40.7463 - mae: 32.2365\n",
            "Epoch 307/500\n",
            "2/2 [==============================] - 0s 10ms/step - loss: 40.6555 - mae: 33.6180\n",
            "Epoch 308/500\n",
            "2/2 [==============================] - 0s 9ms/step - loss: 40.7013 - mae: 33.9478\n",
            "Epoch 309/500\n",
            "2/2 [==============================] - 0s 9ms/step - loss: 40.6746 - mae: 34.5978\n",
            "Epoch 310/500\n",
            "2/2 [==============================] - 0s 12ms/step - loss: 40.5864 - mae: 35.0315\n",
            "Epoch 311/500\n",
            "2/2 [==============================] - 0s 9ms/step - loss: 40.1146 - mae: 35.7292\n",
            "Epoch 312/500\n",
            "2/2 [==============================] - 0s 10ms/step - loss: 40.8056 - mae: 31.7692\n",
            "Epoch 313/500\n",
            "2/2 [==============================] - 0s 12ms/step - loss: 39.7237 - mae: 31.1591\n",
            "Epoch 314/500\n",
            "2/2 [==============================] - 0s 10ms/step - loss: 40.8507 - mae: 31.4970\n",
            "Epoch 315/500\n",
            "2/2 [==============================] - 0s 9ms/step - loss: 40.7729 - mae: 32.4644\n",
            "Epoch 316/500\n",
            "2/2 [==============================] - 0s 9ms/step - loss: 40.0635 - mae: 34.1904\n",
            "Epoch 317/500\n",
            "2/2 [==============================] - 0s 8ms/step - loss: 40.8809 - mae: 29.9256\n",
            "Epoch 318/500\n",
            "2/2 [==============================] - 0s 15ms/step - loss: 40.9466 - mae: 31.7946\n",
            "Epoch 319/500\n",
            "2/2 [==============================] - 0s 10ms/step - loss: 40.8685 - mae: 31.8952\n",
            "Epoch 320/500\n",
            "2/2 [==============================] - 0s 12ms/step - loss: 40.7119 - mae: 33.5932\n",
            "Epoch 321/500\n",
            "2/2 [==============================] - 0s 12ms/step - loss: 40.2133 - mae: 34.8531\n",
            "Epoch 322/500\n",
            "2/2 [==============================] - 0s 9ms/step - loss: 40.6601 - mae: 34.9344\n",
            "Epoch 323/500\n",
            "2/2 [==============================] - 0s 13ms/step - loss: 40.6596 - mae: 35.2524\n",
            "Epoch 324/500\n",
            "2/2 [==============================] - 0s 15ms/step - loss: 40.5710 - mae: 35.4314\n",
            "Epoch 325/500\n",
            "2/2 [==============================] - 0s 11ms/step - loss: 40.6087 - mae: 34.9274\n",
            "Epoch 326/500\n",
            "2/2 [==============================] - 0s 8ms/step - loss: 40.6052 - mae: 35.0755\n",
            "Epoch 327/500\n",
            "2/2 [==============================] - 0s 8ms/step - loss: 40.3188 - mae: 35.1915\n",
            "Epoch 328/500\n",
            "2/2 [==============================] - 0s 8ms/step - loss: 40.5871 - mae: 35.4393\n",
            "Epoch 329/500\n",
            "2/2 [==============================] - 0s 8ms/step - loss: 40.5441 - mae: 35.8527\n",
            "Epoch 330/500\n",
            "2/2 [==============================] - 0s 8ms/step - loss: 40.5814 - mae: 36.1673\n",
            "Epoch 331/500\n",
            "2/2 [==============================] - 0s 11ms/step - loss: 40.3668 - mae: 35.5570\n",
            "Epoch 332/500\n",
            "2/2 [==============================] - 0s 18ms/step - loss: 40.6602 - mae: 33.9597\n",
            "Epoch 333/500\n",
            "2/2 [==============================] - 0s 10ms/step - loss: 40.6602 - mae: 34.2354\n",
            "Epoch 334/500\n",
            "2/2 [==============================] - 0s 9ms/step - loss: 40.4776 - mae: 34.6023\n",
            "Epoch 335/500\n",
            "2/2 [==============================] - 0s 12ms/step - loss: 40.0124 - mae: 35.1959\n",
            "Epoch 336/500\n",
            "2/2 [==============================] - 0s 12ms/step - loss: 40.8194 - mae: 31.9118\n",
            "Epoch 337/500\n",
            "2/2 [==============================] - 0s 10ms/step - loss: 40.3065 - mae: 33.0805\n",
            "Epoch 338/500\n",
            "2/2 [==============================] - 0s 10ms/step - loss: 40.4681 - mae: 33.1085\n",
            "Epoch 339/500\n",
            "2/2 [==============================] - 0s 9ms/step - loss: 40.4870 - mae: 33.5456\n",
            "Epoch 340/500\n",
            "2/2 [==============================] - 0s 9ms/step - loss: 40.7128 - mae: 33.9677\n",
            "Epoch 341/500\n",
            "2/2 [==============================] - 0s 9ms/step - loss: 40.4530 - mae: 34.6057\n",
            "Epoch 342/500\n",
            "2/2 [==============================] - 0s 9ms/step - loss: 40.1311 - mae: 35.3310\n",
            "Epoch 343/500\n",
            "2/2 [==============================] - 0s 10ms/step - loss: 40.1574 - mae: 34.8882\n",
            "Epoch 344/500\n",
            "2/2 [==============================] - 0s 11ms/step - loss: 39.6001 - mae: 35.2056\n",
            "Epoch 345/500\n",
            "2/2 [==============================] - 0s 10ms/step - loss: 41.3946 - mae: 27.5671\n",
            "Epoch 346/500\n",
            "2/2 [==============================] - 0s 9ms/step - loss: 40.9163 - mae: 30.4231\n",
            "Epoch 347/500\n",
            "2/2 [==============================] - 0s 13ms/step - loss: 40.9444 - mae: 30.6979\n",
            "Epoch 348/500\n",
            "2/2 [==============================] - 0s 8ms/step - loss: 40.6513 - mae: 32.9810\n",
            "Epoch 349/500\n",
            "2/2 [==============================] - 0s 8ms/step - loss: 40.6847 - mae: 34.3103\n",
            "Epoch 350/500\n",
            "2/2 [==============================] - 0s 8ms/step - loss: 39.7841 - mae: 34.5481\n",
            "Epoch 351/500\n",
            "2/2 [==============================] - 0s 9ms/step - loss: 40.8898 - mae: 29.6282\n",
            "Epoch 352/500\n",
            "2/2 [==============================] - 0s 10ms/step - loss: 40.9893 - mae: 30.5063\n",
            "Epoch 353/500\n",
            "2/2 [==============================] - 0s 12ms/step - loss: 40.7691 - mae: 32.2498\n",
            "Epoch 354/500\n",
            "2/2 [==============================] - 0s 14ms/step - loss: 40.6366 - mae: 33.5624\n",
            "Epoch 355/500\n",
            "2/2 [==============================] - 0s 10ms/step - loss: 40.5578 - mae: 34.4715\n",
            "Epoch 356/500\n",
            "2/2 [==============================] - 0s 11ms/step - loss: 40.3139 - mae: 35.1305\n",
            "Epoch 357/500\n",
            "2/2 [==============================] - 0s 11ms/step - loss: 40.2488 - mae: 32.4194\n",
            "Epoch 358/500\n",
            "2/2 [==============================] - 0s 11ms/step - loss: 40.9787 - mae: 30.7147\n",
            "Epoch 359/500\n",
            "2/2 [==============================] - 0s 9ms/step - loss: 40.4114 - mae: 32.2191\n",
            "Epoch 360/500\n",
            "2/2 [==============================] - 0s 11ms/step - loss: 40.7759 - mae: 30.8332\n",
            "Epoch 361/500\n",
            "2/2 [==============================] - 0s 10ms/step - loss: 40.6546 - mae: 33.0128\n",
            "Epoch 362/500\n",
            "2/2 [==============================] - 0s 10ms/step - loss: 40.6186 - mae: 33.0575\n",
            "Epoch 363/500\n",
            "2/2 [==============================] - 0s 9ms/step - loss: 40.3235 - mae: 32.3485\n",
            "Epoch 364/500\n",
            "2/2 [==============================] - 0s 11ms/step - loss: 40.9935 - mae: 29.0935\n",
            "Epoch 365/500\n",
            "2/2 [==============================] - 0s 8ms/step - loss: 40.4141 - mae: 31.6677\n",
            "Epoch 366/500\n",
            "2/2 [==============================] - 0s 9ms/step - loss: 40.0212 - mae: 33.3273\n",
            "Epoch 367/500\n",
            "2/2 [==============================] - 0s 9ms/step - loss: 41.0398 - mae: 29.7457\n",
            "Epoch 368/500\n",
            "2/2 [==============================] - 0s 9ms/step - loss: 40.7415 - mae: 30.9791\n",
            "Epoch 369/500\n",
            "2/2 [==============================] - 0s 12ms/step - loss: 40.7338 - mae: 33.3578\n",
            "Epoch 370/500\n",
            "2/2 [==============================] - 0s 11ms/step - loss: 40.6773 - mae: 33.8626\n",
            "Epoch 371/500\n",
            "2/2 [==============================] - 0s 12ms/step - loss: 40.5048 - mae: 34.1237\n",
            "Epoch 372/500\n",
            "2/2 [==============================] - 0s 8ms/step - loss: 40.5491 - mae: 35.0761\n",
            "Epoch 373/500\n",
            "2/2 [==============================] - 0s 8ms/step - loss: 40.6674 - mae: 34.3775\n",
            "Epoch 374/500\n",
            "2/2 [==============================] - 0s 8ms/step - loss: 40.5674 - mae: 34.7016\n",
            "Epoch 375/500\n",
            "2/2 [==============================] - 0s 7ms/step - loss: 40.5107 - mae: 35.3923\n",
            "Epoch 376/500\n",
            "2/2 [==============================] - 0s 8ms/step - loss: 40.2289 - mae: 35.8029\n",
            "Epoch 377/500\n",
            "2/2 [==============================] - 0s 9ms/step - loss: 40.4532 - mae: 35.8075\n",
            "Epoch 378/500\n",
            "2/2 [==============================] - 0s 10ms/step - loss: 40.5322 - mae: 35.4076\n",
            "Epoch 379/500\n",
            "2/2 [==============================] - 0s 8ms/step - loss: 40.5319 - mae: 34.8628\n",
            "Epoch 380/500\n",
            "2/2 [==============================] - 0s 8ms/step - loss: 40.6879 - mae: 33.8375\n",
            "Epoch 381/500\n",
            "2/2 [==============================] - 0s 9ms/step - loss: 40.5956 - mae: 35.4748\n",
            "Epoch 382/500\n",
            "2/2 [==============================] - 0s 9ms/step - loss: 40.5383 - mae: 35.5889\n",
            "Epoch 383/500\n",
            "2/2 [==============================] - 0s 10ms/step - loss: 40.4316 - mae: 35.1308\n",
            "Epoch 384/500\n",
            "2/2 [==============================] - 0s 12ms/step - loss: 40.1053 - mae: 35.1563\n",
            "Epoch 385/500\n",
            "2/2 [==============================] - 0s 9ms/step - loss: 40.6377 - mae: 34.9362\n",
            "Epoch 386/500\n",
            "2/2 [==============================] - 0s 13ms/step - loss: 40.6184 - mae: 35.0669\n",
            "Epoch 387/500\n",
            "2/2 [==============================] - 0s 12ms/step - loss: 40.6019 - mae: 35.8651\n",
            "Epoch 388/500\n",
            "2/2 [==============================] - 0s 9ms/step - loss: 40.6570 - mae: 35.6220\n",
            "Epoch 389/500\n",
            "2/2 [==============================] - 0s 9ms/step - loss: 40.3111 - mae: 35.4968\n",
            "Epoch 390/500\n",
            "2/2 [==============================] - 0s 11ms/step - loss: 40.8019 - mae: 32.3898\n",
            "Epoch 391/500\n",
            "2/2 [==============================] - 0s 18ms/step - loss: 40.7542 - mae: 33.2779\n",
            "Epoch 392/500\n",
            "2/2 [==============================] - 0s 11ms/step - loss: 40.4620 - mae: 34.6021\n",
            "Epoch 393/500\n",
            "2/2 [==============================] - 0s 11ms/step - loss: 40.6396 - mae: 34.8863\n",
            "Epoch 394/500\n",
            "2/2 [==============================] - 0s 14ms/step - loss: 40.4765 - mae: 35.5960\n",
            "Epoch 395/500\n",
            "2/2 [==============================] - 0s 16ms/step - loss: 40.6685 - mae: 34.2521\n",
            "Epoch 396/500\n",
            "2/2 [==============================] - 0s 10ms/step - loss: 40.4325 - mae: 34.7955\n",
            "Epoch 397/500\n",
            "2/2 [==============================] - 0s 11ms/step - loss: 40.5843 - mae: 35.0126\n",
            "Epoch 398/500\n",
            "2/2 [==============================] - 0s 10ms/step - loss: 40.6491 - mae: 34.4685\n",
            "Epoch 399/500\n",
            "2/2 [==============================] - 0s 9ms/step - loss: 40.4933 - mae: 35.1261\n",
            "Epoch 400/500\n",
            "2/2 [==============================] - 0s 8ms/step - loss: 40.7307 - mae: 33.4823\n",
            "Epoch 401/500\n",
            "2/2 [==============================] - 0s 11ms/step - loss: 39.9382 - mae: 34.2164\n",
            "Epoch 402/500\n",
            "2/2 [==============================] - 0s 9ms/step - loss: 40.4532 - mae: 29.3023\n",
            "Epoch 403/500\n",
            "2/2 [==============================] - 0s 10ms/step - loss: 40.1602 - mae: 31.6334\n",
            "Epoch 404/500\n",
            "2/2 [==============================] - 0s 10ms/step - loss: 41.3413 - mae: 27.6499\n",
            "Epoch 405/500\n",
            "2/2 [==============================] - 0s 10ms/step - loss: 40.7642 - mae: 31.5620\n",
            "Epoch 406/500\n",
            "2/2 [==============================] - 0s 11ms/step - loss: 40.7647 - mae: 32.7858\n",
            "Epoch 407/500\n",
            "2/2 [==============================] - 0s 9ms/step - loss: 40.6603 - mae: 33.9241\n",
            "Epoch 408/500\n",
            "2/2 [==============================] - 0s 9ms/step - loss: 40.1239 - mae: 34.6286\n",
            "Epoch 409/500\n",
            "2/2 [==============================] - 0s 9ms/step - loss: 40.8382 - mae: 30.3142\n",
            "Epoch 410/500\n",
            "2/2 [==============================] - 0s 9ms/step - loss: 40.8786 - mae: 31.2888\n",
            "Epoch 411/500\n",
            "2/2 [==============================] - 0s 8ms/step - loss: 40.6677 - mae: 32.3546\n",
            "Epoch 412/500\n",
            "2/2 [==============================] - 0s 8ms/step - loss: 40.7684 - mae: 32.1783\n",
            "Epoch 413/500\n",
            "2/2 [==============================] - 0s 10ms/step - loss: 40.8376 - mae: 32.4621\n",
            "Epoch 414/500\n",
            "2/2 [==============================] - 0s 8ms/step - loss: 40.6973 - mae: 32.3767\n",
            "Epoch 415/500\n",
            "2/2 [==============================] - 0s 12ms/step - loss: 40.6358 - mae: 33.9440\n",
            "Epoch 416/500\n",
            "2/2 [==============================] - 0s 9ms/step - loss: 40.6393 - mae: 35.0599\n",
            "Epoch 417/500\n",
            "2/2 [==============================] - 0s 10ms/step - loss: 40.6167 - mae: 35.4773\n",
            "Epoch 418/500\n",
            "2/2 [==============================] - 0s 8ms/step - loss: 40.6224 - mae: 35.2424\n",
            "Epoch 419/500\n",
            "2/2 [==============================] - 0s 9ms/step - loss: 40.3706 - mae: 35.4768\n",
            "Epoch 420/500\n",
            "2/2 [==============================] - 0s 9ms/step - loss: 40.6374 - mae: 33.2932\n",
            "Epoch 421/500\n",
            "2/2 [==============================] - 0s 10ms/step - loss: 40.5784 - mae: 34.6240\n",
            "Epoch 422/500\n",
            "2/2 [==============================] - 0s 12ms/step - loss: 40.4857 - mae: 35.0624\n",
            "Epoch 423/500\n",
            "2/2 [==============================] - 0s 10ms/step - loss: 40.6707 - mae: 34.4766\n",
            "Epoch 424/500\n",
            "2/2 [==============================] - 0s 11ms/step - loss: 40.5263 - mae: 35.0936\n",
            "Epoch 425/500\n",
            "2/2 [==============================] - 0s 9ms/step - loss: 40.6554 - mae: 34.7398\n",
            "Epoch 426/500\n",
            "2/2 [==============================] - 0s 10ms/step - loss: 40.3873 - mae: 34.4071\n",
            "Epoch 427/500\n",
            "2/2 [==============================] - 0s 9ms/step - loss: 40.6588 - mae: 34.5653\n",
            "Epoch 428/500\n",
            "2/2 [==============================] - 0s 9ms/step - loss: 40.4459 - mae: 34.9087\n",
            "Epoch 429/500\n",
            "2/2 [==============================] - 0s 9ms/step - loss: 40.2405 - mae: 34.0838\n",
            "Epoch 430/500\n",
            "2/2 [==============================] - 0s 10ms/step - loss: 40.8176 - mae: 30.2403\n",
            "Epoch 431/500\n",
            "2/2 [==============================] - 0s 9ms/step - loss: 40.6365 - mae: 31.5102\n",
            "Epoch 432/500\n",
            "2/2 [==============================] - 0s 11ms/step - loss: 40.7364 - mae: 31.8198\n",
            "Epoch 433/500\n",
            "2/2 [==============================] - 0s 8ms/step - loss: 40.1700 - mae: 33.2468\n",
            "Epoch 434/500\n",
            "2/2 [==============================] - 0s 8ms/step - loss: 41.0379 - mae: 30.2408\n",
            "Epoch 435/500\n",
            "2/2 [==============================] - 0s 9ms/step - loss: 39.8160 - mae: 32.4221\n",
            "Epoch 436/500\n",
            "2/2 [==============================] - 0s 8ms/step - loss: 41.3884 - mae: 26.3270\n",
            "Epoch 437/500\n",
            "2/2 [==============================] - 0s 9ms/step - loss: 41.1325 - mae: 28.1109\n",
            "Epoch 438/500\n",
            "2/2 [==============================] - 0s 8ms/step - loss: 39.7055 - mae: 32.5833\n",
            "Epoch 439/500\n",
            "2/2 [==============================] - 0s 10ms/step - loss: 41.1130 - mae: 25.9463\n",
            "Epoch 440/500\n",
            "2/2 [==============================] - 0s 11ms/step - loss: 41.0597 - mae: 26.2225\n",
            "Epoch 441/500\n",
            "2/2 [==============================] - 0s 10ms/step - loss: 41.1550 - mae: 27.1266\n",
            "Epoch 442/500\n",
            "2/2 [==============================] - 0s 11ms/step - loss: 41.1396 - mae: 28.9766\n",
            "Epoch 443/500\n",
            "2/2 [==============================] - 0s 8ms/step - loss: 40.8971 - mae: 31.0274\n",
            "Epoch 444/500\n",
            "2/2 [==============================] - 0s 9ms/step - loss: 40.2343 - mae: 31.9464\n",
            "Epoch 445/500\n",
            "2/2 [==============================] - 0s 11ms/step - loss: 40.7285 - mae: 33.5478\n",
            "Epoch 446/500\n",
            "2/2 [==============================] - 0s 10ms/step - loss: 40.3403 - mae: 33.1977\n",
            "Epoch 447/500\n",
            "2/2 [==============================] - 0s 11ms/step - loss: 40.3123 - mae: 34.2132\n",
            "Epoch 448/500\n",
            "2/2 [==============================] - 0s 11ms/step - loss: 40.6543 - mae: 34.8412\n",
            "Epoch 449/500\n",
            "2/2 [==============================] - 0s 11ms/step - loss: 40.6152 - mae: 34.8631\n",
            "Epoch 450/500\n",
            "2/2 [==============================] - 0s 13ms/step - loss: 40.6002 - mae: 35.1808\n",
            "Epoch 451/500\n",
            "2/2 [==============================] - 0s 11ms/step - loss: 39.9819 - mae: 35.5484\n",
            "Epoch 452/500\n",
            "2/2 [==============================] - 0s 12ms/step - loss: 40.8144 - mae: 31.0840\n",
            "Epoch 453/500\n",
            "2/2 [==============================] - 0s 8ms/step - loss: 40.9084 - mae: 29.6194\n",
            "Epoch 454/500\n",
            "2/2 [==============================] - 0s 12ms/step - loss: 40.8895 - mae: 30.6551\n",
            "Epoch 455/500\n",
            "2/2 [==============================] - 0s 11ms/step - loss: 40.7124 - mae: 31.9499\n",
            "Epoch 456/500\n",
            "2/2 [==============================] - 0s 10ms/step - loss: 40.6390 - mae: 33.7683\n",
            "Epoch 457/500\n",
            "2/2 [==============================] - 0s 12ms/step - loss: 40.5787 - mae: 33.9661\n",
            "Epoch 458/500\n",
            "2/2 [==============================] - 0s 9ms/step - loss: 40.1860 - mae: 34.7690\n",
            "Epoch 459/500\n",
            "2/2 [==============================] - 0s 10ms/step - loss: 40.7544 - mae: 32.2113\n",
            "Epoch 460/500\n",
            "2/2 [==============================] - 0s 11ms/step - loss: 40.7476 - mae: 32.9074\n",
            "Epoch 461/500\n",
            "2/2 [==============================] - 0s 12ms/step - loss: 40.6496 - mae: 33.7615\n",
            "Epoch 462/500\n",
            "2/2 [==============================] - 0s 10ms/step - loss: 40.6543 - mae: 34.3360\n",
            "Epoch 463/500\n",
            "2/2 [==============================] - 0s 13ms/step - loss: 40.5914 - mae: 34.8376\n",
            "Epoch 464/500\n",
            "2/2 [==============================] - 0s 9ms/step - loss: 40.4284 - mae: 35.4364\n",
            "Epoch 465/500\n",
            "2/2 [==============================] - 0s 17ms/step - loss: 40.4103 - mae: 35.5299\n",
            "Epoch 466/500\n",
            "2/2 [==============================] - 0s 9ms/step - loss: 40.5694 - mae: 35.6550\n",
            "Epoch 467/500\n",
            "2/2 [==============================] - 0s 9ms/step - loss: 40.6476 - mae: 35.1269\n",
            "Epoch 468/500\n",
            "2/2 [==============================] - 0s 8ms/step - loss: 40.5374 - mae: 34.9613\n",
            "Epoch 469/500\n",
            "2/2 [==============================] - 0s 9ms/step - loss: 40.6378 - mae: 34.2205\n",
            "Epoch 470/500\n",
            "2/2 [==============================] - 0s 10ms/step - loss: 40.6320 - mae: 34.4089\n",
            "Epoch 471/500\n",
            "2/2 [==============================] - 0s 10ms/step - loss: 40.5359 - mae: 34.8337\n",
            "Epoch 472/500\n",
            "2/2 [==============================] - 0s 10ms/step - loss: 40.6021 - mae: 35.3660\n",
            "Epoch 473/500\n",
            "2/2 [==============================] - 0s 13ms/step - loss: 40.4687 - mae: 36.0334\n",
            "Epoch 474/500\n",
            "2/2 [==============================] - 0s 15ms/step - loss: 40.5685 - mae: 34.5862\n",
            "Epoch 475/500\n",
            "2/2 [==============================] - 0s 13ms/step - loss: 40.2349 - mae: 34.4796\n",
            "Epoch 476/500\n",
            "2/2 [==============================] - 0s 16ms/step - loss: 40.4589 - mae: 35.1204\n",
            "Epoch 477/500\n",
            "2/2 [==============================] - 0s 9ms/step - loss: 40.6636 - mae: 33.4790\n",
            "Epoch 478/500\n",
            "2/2 [==============================] - 0s 8ms/step - loss: 40.2779 - mae: 32.8560\n",
            "Epoch 479/500\n",
            "2/2 [==============================] - 0s 9ms/step - loss: 40.6682 - mae: 33.4823\n",
            "Epoch 480/500\n",
            "2/2 [==============================] - 0s 14ms/step - loss: 40.7010 - mae: 32.9826\n",
            "Epoch 481/500\n",
            "2/2 [==============================] - 0s 9ms/step - loss: 40.6087 - mae: 33.6648\n",
            "Epoch 482/500\n",
            "2/2 [==============================] - 0s 12ms/step - loss: 40.6363 - mae: 33.3533\n",
            "Epoch 483/500\n",
            "2/2 [==============================] - 0s 9ms/step - loss: 40.3568 - mae: 33.9217\n",
            "Epoch 484/500\n",
            "2/2 [==============================] - 0s 10ms/step - loss: 39.9437 - mae: 31.2929\n",
            "Epoch 485/500\n",
            "2/2 [==============================] - 0s 9ms/step - loss: 40.7045 - mae: 31.8104\n",
            "Epoch 486/500\n",
            "2/2 [==============================] - 0s 9ms/step - loss: 39.9158 - mae: 32.3508\n",
            "Epoch 487/500\n",
            "2/2 [==============================] - 0s 9ms/step - loss: 40.6158 - mae: 32.9229\n",
            "Epoch 488/500\n",
            "2/2 [==============================] - 0s 11ms/step - loss: 39.8391 - mae: 32.0074\n",
            "Epoch 489/500\n",
            "2/2 [==============================] - 0s 11ms/step - loss: 40.4873 - mae: 32.0797\n",
            "Epoch 490/500\n",
            "2/2 [==============================] - 0s 11ms/step - loss: 40.6550 - mae: 34.0486\n",
            "Epoch 491/500\n",
            "2/2 [==============================] - 0s 8ms/step - loss: 40.6449 - mae: 34.5975\n",
            "Epoch 492/500\n",
            "2/2 [==============================] - 0s 9ms/step - loss: 40.6226 - mae: 34.2752\n",
            "Epoch 493/500\n",
            "2/2 [==============================] - 0s 10ms/step - loss: 40.5246 - mae: 34.5442\n",
            "Epoch 494/500\n",
            "2/2 [==============================] - 0s 12ms/step - loss: 40.1776 - mae: 34.9045\n",
            "Epoch 495/500\n",
            "2/2 [==============================] - 0s 9ms/step - loss: 40.5473 - mae: 35.0798\n",
            "Epoch 496/500\n",
            "2/2 [==============================] - 0s 8ms/step - loss: 40.5753 - mae: 35.1435\n",
            "Epoch 497/500\n",
            "2/2 [==============================] - 0s 9ms/step - loss: 40.2590 - mae: 35.3733\n",
            "Epoch 498/500\n",
            "2/2 [==============================] - 0s 9ms/step - loss: 40.8553 - mae: 32.2204\n",
            "Epoch 499/500\n",
            "2/2 [==============================] - 0s 9ms/step - loss: 40.6092 - mae: 32.3410\n",
            "Epoch 500/500\n",
            "2/2 [==============================] - 0s 8ms/step - loss: 39.7471 - mae: 32.3644\n"
          ]
        },
        {
          "output_type": "execute_result",
          "data": {
            "text/plain": [
              "<keras.src.callbacks.History at 0x7f4295f8bf70>"
            ]
          },
          "metadata": {},
          "execution_count": 70
        }
      ]
    },
    {
      "cell_type": "code",
      "source": [
        "# Make and plot some predictions\n",
        "\n",
        "y_preds_3 = model_3.predict(x_test)\n",
        "plot_predictions(predictions = y_preds_3)"
      ],
      "metadata": {
        "colab": {
          "base_uri": "https://localhost:8080/",
          "height": 616
        },
        "id": "uKfdkv17FlEB",
        "outputId": "757de639-6c18-474f-daa4-fe252c9fb3ac"
      },
      "execution_count": 71,
      "outputs": [
        {
          "output_type": "stream",
          "name": "stdout",
          "text": [
            "1/1 [==============================] - 0s 55ms/step\n"
          ]
        },
        {
          "output_type": "display_data",
          "data": {
            "text/plain": [
              "<Figure size 1000x700 with 1 Axes>"
            ],
            "image/png": "[encoded data removed]"
          },
          "metadata": {}
        }
      ]
    },
    {
      "cell_type": "code",
      "source": [
        "# Calculate model_3 evaluation metrics\n",
        "\n",
        "mae_3 = mae(y_test, y_preds_3)\n",
        "mse_3 = mse(y_test, y_preds_3)\n",
        "mae_3, mse_3"
      ],
      "metadata": {
        "colab": {
          "base_uri": "https://localhost:8080/"
        },
        "id": "AZTlLn1rGIGp",
        "outputId": "fc1ffba4-60af-4a60-83c5-653eb55f4c44"
      },
      "execution_count": 72,
      "outputs": [
        {
          "output_type": "execute_result",
          "data": {
            "text/plain": [
              "(<tf.Tensor: shape=(), dtype=float32, numpy=64.04756>,\n",
              " <tf.Tensor: shape=(), dtype=float32, numpy=4162.313>)"
            ]
          },
          "metadata": {},
          "execution_count": 72
        }
      ]
    },
    {
      "cell_type": "markdown",
      "source": [
        "## Comparing the results of out experiments\n",
        "\n"
      ],
      "metadata": {
        "id": "AAy24eLdG11d"
      }
    },
    {
      "cell_type": "code",
      "source": [
        "# Lets compare our models result using a pandas DataFrame\n",
        "\n",
        "import pandas as pd\n",
        "\n",
        "model_results = [[\"model_1\", mae_1.numpy(), mse_1.numpy()],\n",
        "                [\"model_2\", mae_2.numpy(), mse_2.numpy()],\n",
        "                [\"model_3\", mae_3.numpy(), mse_3]]\n",
        "\n",
        "all_results = pd.DataFrame(model_results, columns=[\"model\", \"mae\", \"mse\"])\n",
        "all_results\n"
      ],
      "metadata": {
        "colab": {
          "base_uri": "https://localhost:8080/",
          "height": 144
        },
        "id": "Eyz6kizfeNiv",
        "outputId": "d66f42e5-2716-44ca-bffb-9c7c2cbd19bb"
      },
      "execution_count": 73,
      "outputs": [
        {
          "output_type": "execute_result",
          "data": {
            "text/plain": [
              "     model        mae                                           mse\n",
              "0  model_1   8.625574                                     80.906631\n",
              "1  model_2  45.523941                                   2099.474854\n",
              "2  model_3  64.047562  tf.Tensor(4162.313, shape=(), dtype=float32)"
            ],
            "text/html": [
              "\n",
              "  <div id=\"df-157e209a-54af-41a8-a1c0-b1f3be21b87d\" class=\"colab-df-container\">\n",
              "    <div>\n",
              "<style scoped>\n",
              "    .dataframe tbody tr th:only-of-type {\n",
              "        vertical-align: middle;\n",
              "    }\n",
              "\n",
              "    .dataframe tbody tr th {\n",
              "        vertical-align: top;\n",
              "    }\n",
              "\n",
              "    .dataframe thead th {\n",
              "        text-align: right;\n",
              "    }\n",
              "</style>\n",
              "<table border=\"1\" class=\"dataframe\">\n",
              "  <thead>\n",
              "    <tr style=\"text-align: right;\">\n",
              "      <th></th>\n",
              "      <th>model</th>\n",
              "      <th>mae</th>\n",
              "      <th>mse</th>\n",
              "    </tr>\n",
              "  </thead>\n",
              "  <tbody>\n",
              "    <tr>\n",
              "      <th>0</th>\n",
              "      <td>model_1</td>\n",
              "      <td>8.625574</td>\n",
              "      <td>80.906631</td>\n",
              "    </tr>\n",
              "    <tr>\n",
              "      <th>1</th>\n",
              "      <td>model_2</td>\n",
              "      <td>45.523941</td>\n",
              "      <td>2099.474854</td>\n",
              "    </tr>\n",
              "    <tr>\n",
              "      <th>2</th>\n",
              "      <td>model_3</td>\n",
              "      <td>64.047562</td>\n",
              "      <td>tf.Tensor(4162.313, shape=(), dtype=float32)</td>\n",
              "    </tr>\n",
              "  </tbody>\n",
              "</table>\n",
              "</div>\n",
              "    <div class=\"colab-df-buttons\">\n",
              "\n",
              "  <div class=\"colab-df-container\">\n",
              "    <button class=\"colab-df-convert\" onclick=\"convertToInteractive('df-157e209a-54af-41a8-a1c0-b1f3be21b87d')\"\n",
              "            title=\"Convert this dataframe to an interactive table.\"\n",
              "            style=\"display:none;\">\n",
              "\n",
              "  <svg xmlns=\"http://www.w3.org/2000/svg\" height=\"24px\" viewBox=\"0 -960 960 960\">\n",
              "    <path d=\"M120-120v-720h720v720H120Zm60-500h600v-160H180v160Zm220 220h160v-160H400v160Zm0 220h160v-160H400v160ZM180-400h160v-160H180v160Zm440 0h160v-160H620v160ZM180-180h160v-160H180v160Zm440 0h160v-160H620v160Z\"/>\n",
              "  </svg>\n",
              "    </button>\n",
              "\n",
              "  <style>\n",
              "    .colab-df-container {\n",
              "      display:flex;\n",
              "      gap: 12px;\n",
              "    }\n",
              "\n",
              "    .colab-df-convert {\n",
              "      background-color: #E8F0FE;\n",
              "      border: none;\n",
              "      border-radius: 50%;\n",
              "      cursor: pointer;\n",
              "      display: none;\n",
              "      fill: #1967D2;\n",
              "      height: 32px;\n",
              "      padding: 0 0 0 0;\n",
              "      width: 32px;\n",
              "    }\n",
              "\n",
              "    .colab-df-convert:hover {\n",
              "      background-color: #E2EBFA;\n",
              "      box-shadow: 0px 1px 2px rgba(60, 64, 67, 0.3), 0px 1px 3px 1px rgba(60, 64, 67, 0.15);\n",
              "      fill: #174EA6;\n",
              "    }\n",
              "\n",
              "    .colab-df-buttons div {\n",
              "      margin-bottom: 4px;\n",
              "    }\n",
              "\n",
              "    [theme=dark] .colab-df-convert {\n",
              "      background-color: #3B4455;\n",
              "      fill: #D2E3FC;\n",
              "    }\n",
              "\n",
              "    [theme=dark] .colab-df-convert:hover {\n",
              "      background-color: #434B5C;\n",
              "      box-shadow: 0px 1px 3px 1px rgba(0, 0, 0, 0.15);\n",
              "      filter: drop-shadow(0px 1px 2px rgba(0, 0, 0, 0.3));\n",
              "      fill: #FFFFFF;\n",
              "    }\n",
              "  </style>\n",
              "\n",
              "    <script>\n",
              "      const buttonEl =\n",
              "        document.querySelector('#df-157e209a-54af-41a8-a1c0-b1f3be21b87d button.colab-df-convert');\n",
              "      buttonEl.style.display =\n",
              "        google.colab.kernel.accessAllowed ? 'block' : 'none';\n",
              "\n",
              "      async function convertToInteractive(key) {\n",
              "        const element = document.querySelector('#df-157e209a-54af-41a8-a1c0-b1f3be21b87d');\n",
              "        const dataTable =\n",
              "          await google.colab.kernel.invokeFunction('convertToInteractive',\n",
              "                                                    [key], {});\n",
              "        if (!dataTable) return;\n",
              "\n",
              "        const docLinkHtml = 'Like what you see? Visit the ' +\n",
              "          '<a target=\"_blank\" href=https://colab.research.google.com/notebooks/data_table.ipynb>data table notebook</a>'\n",
              "          + ' to learn more about interactive tables.';\n",
              "        element.innerHTML = '';\n",
              "        dataTable['output_type'] = 'display_data';\n",
              "        await google.colab.output.renderOutput(dataTable, element);\n",
              "        const docLink = document.createElement('div');\n",
              "        docLink.innerHTML = docLinkHtml;\n",
              "        element.appendChild(docLink);\n",
              "      }\n",
              "    </script>\n",
              "  </div>\n",
              "\n",
              "\n",
              "<div id=\"df-c8b1d6a6-fc98-4c1a-820c-d721ff44d3fa\">\n",
              "  <button class=\"colab-df-quickchart\" onclick=\"quickchart('df-c8b1d6a6-fc98-4c1a-820c-d721ff44d3fa')\"\n",
              "            title=\"Suggest charts\"\n",
              "            style=\"display:none;\">\n",
              "\n",
              "<svg xmlns=\"http://www.w3.org/2000/svg\" height=\"24px\"viewBox=\"0 0 24 24\"\n",
              "     width=\"24px\">\n",
              "    <g>\n",
              "        <path d=\"M19 3H5c-1.1 0-2 .9-2 2v14c0 1.1.9 2 2 2h14c1.1 0 2-.9 2-2V5c0-1.1-.9-2-2-2zM9 17H7v-7h2v7zm4 0h-2V7h2v10zm4 0h-2v-4h2v4z\"/>\n",
              "    </g>\n",
              "</svg>\n",
              "  </button>\n",
              "\n",
              "<style>\n",
              "  .colab-df-quickchart {\n",
              "      --bg-color: #E8F0FE;\n",
              "      --fill-color: #1967D2;\n",
              "      --hover-bg-color: #E2EBFA;\n",
              "      --hover-fill-color: #174EA6;\n",
              "      --disabled-fill-color: #AAA;\n",
              "      --disabled-bg-color: #DDD;\n",
              "  }\n",
              "\n",
              "  [theme=dark] .colab-df-quickchart {\n",
              "      --bg-color: #3B4455;\n",
              "      --fill-color: #D2E3FC;\n",
              "      --hover-bg-color: #434B5C;\n",
              "      --hover-fill-color: #FFFFFF;\n",
              "      --disabled-bg-color: #3B4455;\n",
              "      --disabled-fill-color: #666;\n",
              "  }\n",
              "\n",
              "  .colab-df-quickchart {\n",
              "    background-color: var(--bg-color);\n",
              "    border: none;\n",
              "    border-radius: 50%;\n",
              "    cursor: pointer;\n",
              "    display: none;\n",
              "    fill: var(--fill-color);\n",
              "    height: 32px;\n",
              "    padding: 0;\n",
              "    width: 32px;\n",
              "  }\n",
              "\n",
              "  .colab-df-quickchart:hover {\n",
              "    background-color: var(--hover-bg-color);\n",
              "    box-shadow: 0 1px 2px rgba(60, 64, 67, 0.3), 0 1px 3px 1px rgba(60, 64, 67, 0.15);\n",
              "    fill: var(--button-hover-fill-color);\n",
              "  }\n",
              "\n",
              "  .colab-df-quickchart-complete:disabled,\n",
              "  .colab-df-quickchart-complete:disabled:hover {\n",
              "    background-color: var(--disabled-bg-color);\n",
              "    fill: var(--disabled-fill-color);\n",
              "    box-shadow: none;\n",
              "  }\n",
              "\n",
              "  .colab-df-spinner {\n",
              "    border: 2px solid var(--fill-color);\n",
              "    border-color: transparent;\n",
              "    border-bottom-color: var(--fill-color);\n",
              "    animation:\n",
              "      spin 1s steps(1) infinite;\n",
              "  }\n",
              "\n",
              "  @keyframes spin {\n",
              "    0% {\n",
              "      border-color: transparent;\n",
              "      border-bottom-color: var(--fill-color);\n",
              "      border-left-color: var(--fill-color);\n",
              "    }\n",
              "    20% {\n",
              "      border-color: transparent;\n",
              "      border-left-color: var(--fill-color);\n",
              "      border-top-color: var(--fill-color);\n",
              "    }\n",
              "    30% {\n",
              "      border-color: transparent;\n",
              "      border-left-color: var(--fill-color);\n",
              "      border-top-color: var(--fill-color);\n",
              "      border-right-color: var(--fill-color);\n",
              "    }\n",
              "    40% {\n",
              "      border-color: transparent;\n",
              "      border-right-color: var(--fill-color);\n",
              "      border-top-color: var(--fill-color);\n",
              "    }\n",
              "    60% {\n",
              "      border-color: transparent;\n",
              "      border-right-color: var(--fill-color);\n",
              "    }\n",
              "    80% {\n",
              "      border-color: transparent;\n",
              "      border-right-color: var(--fill-color);\n",
              "      border-bottom-color: var(--fill-color);\n",
              "    }\n",
              "    90% {\n",
              "      border-color: transparent;\n",
              "      border-bottom-color: var(--fill-color);\n",
              "    }\n",
              "  }\n",
              "</style>\n",
              "\n",
              "  <script>\n",
              "    async function quickchart(key) {\n",
              "      const quickchartButtonEl =\n",
              "        document.querySelector('#' + key + ' button');\n",
              "      quickchartButtonEl.disabled = true;  // To prevent multiple clicks.\n",
              "      quickchartButtonEl.classList.add('colab-df-spinner');\n",
              "      try {\n",
              "        const charts = await google.colab.kernel.invokeFunction(\n",
              "            'suggestCharts', [key], {});\n",
              "      } catch (error) {\n",
              "        console.error('Error during call to suggestCharts:', error);\n",
              "      }\n",
              "      quickchartButtonEl.classList.remove('colab-df-spinner');\n",
              "      quickchartButtonEl.classList.add('colab-df-quickchart-complete');\n",
              "    }\n",
              "    (() => {\n",
              "      let quickchartButtonEl =\n",
              "        document.querySelector('#df-c8b1d6a6-fc98-4c1a-820c-d721ff44d3fa button');\n",
              "      quickchartButtonEl.style.display =\n",
              "        google.colab.kernel.accessAllowed ? 'block' : 'none';\n",
              "    })();\n",
              "  </script>\n",
              "</div>\n",
              "    </div>\n",
              "  </div>\n"
            ],
            "application/vnd.google.colaboratory.intrinsic+json": {
              "type": "dataframe",
              "variable_name": "all_results",
              "summary": "{\n  \"name\": \"all_results\",\n  \"rows\": 3,\n  \"fields\": [\n    {\n      \"column\": \"model\",\n      \"properties\": {\n        \"dtype\": \"string\",\n        \"num_unique_values\": 3,\n        \"samples\": [\n          \"model_1\",\n          \"model_2\",\n          \"model_3\"\n        ],\n        \"semantic_type\": \"\",\n        \"description\": \"\"\n      }\n    },\n    {\n      \"column\": \"mae\",\n      \"properties\": {\n        \"dtype\": \"float32\",\n        \"num_unique_values\": 3,\n        \"samples\": [\n          8.625574111938477,\n          45.52394104003906,\n          64.04756164550781\n        ],\n        \"semantic_type\": \"\",\n        \"description\": \"\"\n      }\n    },\n    {\n      \"column\": \"mse\",\n      \"properties\": {\n        \"dtype\": \"object\",\n        \"semantic_type\": \"\",\n        \"description\": \"\"\n      }\n    }\n  ]\n}"
            }
          },
          "metadata": {},
          "execution_count": 73
        }
      ]
    },
    {
      "source": [
        "# @title mae\n",
        "# Got Recommendation from gcollab\n",
        "\n",
        "from matplotlib import pyplot as plt\n",
        "all_results['mae'].plot(kind='hist', bins=20, title='mae')\n",
        "plt.gca().spines[['top', 'right',]].set_visible(False)"
      ],
      "cell_type": "code",
      "execution_count": 74,
      "outputs": [
        {
          "output_type": "display_data",
          "data": {
            "text/plain": [
              "<Figure size 640x480 with 1 Axes>"
            ],
            "image/png": "[encoded data removed]"
          },
          "metadata": {}
        }
      ],
      "metadata": {
        "colab": {
          "base_uri": "https://localhost:8080/",
          "height": 452
        },
        "id": "AK8lqoT2f7R1",
        "outputId": "ec45ce72-29da-41e8-a458-a0e54a4348cc"
      }
    },
    {
      "cell_type": "markdown",
      "source": [
        "🔑**Note :** One of our main goals should be to minimize the time between our experiments. We must try and error"
      ],
      "metadata": {
        "id": "6mam0ajKgXEC"
      }
    },
    {
      "cell_type": "markdown",
      "source": [
        "## Tracking your experiments\n",
        "\n",
        "One really good habit in ml modelling is to track the result of your experiments.\n",
        "\n",
        "Luckly, there are tools to help us!\n",
        "\n",
        "📖**Resource:** As we build more models, we will want to look into using :\n",
        "\n",
        "* TensorBoard - a component of the TensorFlow library to help track modelling experiments\n",
        "* Weights & Biases - a tool for tracking all of kinds of machine learning experiments\n",
        "\n"
      ],
      "metadata": {
        "id": "jCyUYIJrhEbi"
      }
    },
    {
      "cell_type": "markdown",
      "source": [
        "## Saving Our model\n",
        "\n",
        "Saving our model allows us to use them outside of Google collab\n",
        "\n",
        "There are two main formats we can save our model too :\n",
        "1. The SavedModel format\n",
        "2. The HDF5 format"
      ],
      "metadata": {
        "id": "DCh5Gw9x2cEL"
      }
    },
    {
      "cell_type": "code",
      "source": [
        "# Save model using the SavedModel format\n",
        "model_2.save(\"best_model_SavedModel_format\")"
      ],
      "metadata": {
        "id": "GgNAjual2aAU"
      },
      "execution_count": 75,
      "outputs": []
    },
    {
      "cell_type": "code",
      "source": [
        "# Save model using the HDF5 format\n",
        "model_2.save(\"best_model_HDF5_format\")"
      ],
      "metadata": {
        "id": "WUEQU6AH4UiF"
      },
      "execution_count": 76,
      "outputs": []
    },
    {
      "cell_type": "markdown",
      "source": [
        "## Loading in a saved model"
      ],
      "metadata": {
        "id": "JlWRZHYjreP_"
      }
    },
    {
      "cell_type": "code",
      "source": [
        "# Load in the SavedModel format\n",
        "\n",
        "loaded_SavedModel_format = tf.keras.models.load_model(\"/content/best_model_SavedModel_format\")\n",
        "loaded_SavedModel_format.summary()"
      ],
      "metadata": {
        "colab": {
          "base_uri": "https://localhost:8080/"
        },
        "id": "2ZCWOR4Wrosv",
        "outputId": "76d323fa-6d0e-41fc-e002-7523daf41f27"
      },
      "execution_count": 77,
      "outputs": [
        {
          "output_type": "stream",
          "name": "stdout",
          "text": [
            "Model: \"sequential_6\"\n",
            "_________________________________________________________________\n",
            " Layer (type)                Output Shape              Param #   \n",
            "=================================================================\n",
            " input_layer (Dense)         (None, 70)                140       \n",
            "                                                                 \n",
            " Output_layer (Dense)        (None, 1)                 71        \n",
            "                                                                 \n",
            "=================================================================\n",
            "Total params: 211 (844.00 Byte)\n",
            "Trainable params: 211 (844.00 Byte)\n",
            "Non-trainable params: 0 (0.00 Byte)\n",
            "_________________________________________________________________\n"
          ]
        }
      ]
    },
    {
      "cell_type": "code",
      "source": [
        "model_2 == loaded_SavedModel_format"
      ],
      "metadata": {
        "colab": {
          "base_uri": "https://localhost:8080/"
        },
        "id": "yLoIxTUvsGxF",
        "outputId": "1d28cd0c-c3d8-4ef5-d9fd-b60a74624107"
      },
      "execution_count": 78,
      "outputs": [
        {
          "output_type": "execute_result",
          "data": {
            "text/plain": [
              "False"
            ]
          },
          "metadata": {},
          "execution_count": 78
        }
      ]
    },
    {
      "cell_type": "code",
      "source": [
        "# Compare predictions\n",
        "model_2_preds = model_2.predict(x_test)\n",
        "loaded_SavedModel_format_preds = loaded_SavedModel_format.predict(x_test)\n",
        "\n",
        "model_2_preds == loaded_SavedModel_format_preds"
      ],
      "metadata": {
        "colab": {
          "base_uri": "https://localhost:8080/"
        },
        "id": "NN4wwIe1sbEY",
        "outputId": "3eef1147-1133-4c3e-e25c-2a0878a3afcf"
      },
      "execution_count": 79,
      "outputs": [
        {
          "output_type": "stream",
          "name": "stdout",
          "text": [
            "1/1 [==============================] - 0s 49ms/step\n",
            "1/1 [==============================] - 0s 79ms/step\n"
          ]
        },
        {
          "output_type": "execute_result",
          "data": {
            "text/plain": [
              "array([[ True],\n",
              "       [ True],\n",
              "       [ True],\n",
              "       [ True],\n",
              "       [ True],\n",
              "       [ True],\n",
              "       [ True],\n",
              "       [ True],\n",
              "       [ True],\n",
              "       [ True]])"
            ]
          },
          "metadata": {},
          "execution_count": 79
        }
      ]
    },
    {
      "cell_type": "code",
      "source": [
        "mae(y_true = y_test, y_pred = model_2_preds) == mae(y_true = y_test, y_pred=loaded_SavedModel_format_preds )"
      ],
      "metadata": {
        "colab": {
          "base_uri": "https://localhost:8080/"
        },
        "id": "4vOzpgEWs4bA",
        "outputId": "868b4561-d0e8-461b-cccc-f03112c0d5c7"
      },
      "execution_count": 80,
      "outputs": [
        {
          "output_type": "execute_result",
          "data": {
            "text/plain": [
              "<tf.Tensor: shape=(), dtype=bool, numpy=True>"
            ]
          },
          "metadata": {},
          "execution_count": 80
        }
      ]
    },
    {
      "cell_type": "code",
      "source": [
        "# Load in a model using the h5 format\n",
        "loaded_h5_model = tf.keras.models.load_model(\"/content/best_model_HDF5_format\")\n",
        "loaded_h5_model.summary()"
      ],
      "metadata": {
        "colab": {
          "base_uri": "https://localhost:8080/"
        },
        "id": "HfBpvyUluB-8",
        "outputId": "bb3fc674-6871-4cc5-edaa-1a0d69397f9c"
      },
      "execution_count": 81,
      "outputs": [
        {
          "output_type": "stream",
          "name": "stdout",
          "text": [
            "Model: \"sequential_6\"\n",
            "_________________________________________________________________\n",
            " Layer (type)                Output Shape              Param #   \n",
            "=================================================================\n",
            " input_layer (Dense)         (None, 70)                140       \n",
            "                                                                 \n",
            " Output_layer (Dense)        (None, 1)                 71        \n",
            "                                                                 \n",
            "=================================================================\n",
            "Total params: 211 (844.00 Byte)\n",
            "Trainable params: 211 (844.00 Byte)\n",
            "Non-trainable params: 0 (0.00 Byte)\n",
            "_________________________________________________________________\n"
          ]
        }
      ]
    },
    {
      "cell_type": "code",
      "source": [
        "# Compare\n",
        "\n",
        "loaded_h5_model_preds = loaded_h5_model.predict(x_test)\n",
        "\n",
        "model_2_preds == loaded_h5_model_preds"
      ],
      "metadata": {
        "colab": {
          "base_uri": "https://localhost:8080/"
        },
        "id": "IBlZi3BwucUl",
        "outputId": "a7736896-66a2-456d-afbb-7b58b1cb4083"
      },
      "execution_count": 82,
      "outputs": [
        {
          "output_type": "stream",
          "name": "stdout",
          "text": [
            "1/1 [==============================] - 0s 95ms/step\n"
          ]
        },
        {
          "output_type": "execute_result",
          "data": {
            "text/plain": [
              "array([[ True],\n",
              "       [ True],\n",
              "       [ True],\n",
              "       [ True],\n",
              "       [ True],\n",
              "       [ True],\n",
              "       [ True],\n",
              "       [ True],\n",
              "       [ True],\n",
              "       [ True]])"
            ]
          },
          "metadata": {},
          "execution_count": 82
        }
      ]
    },
    {
      "cell_type": "code",
      "source": [
        "mae(y_true = y_test, y_pred = model_2_preds) == mae(y_true=y_test, y_pred=loaded_h5_model_preds)"
      ],
      "metadata": {
        "colab": {
          "base_uri": "https://localhost:8080/"
        },
        "id": "915O3jbSuuKI",
        "outputId": "32894b0e-95c7-4c2f-ce19-b01210633be9"
      },
      "execution_count": 83,
      "outputs": [
        {
          "output_type": "execute_result",
          "data": {
            "text/plain": [
              "<tf.Tensor: shape=(), dtype=bool, numpy=True>"
            ]
          },
          "metadata": {},
          "execution_count": 83
        }
      ]
    },
    {
      "cell_type": "markdown",
      "source": [
        "## Download a model (or any other file) from Google Colab\n",
        "\n",
        "If you want to download your file from Google Colab :\n",
        "1. You can go to the \"files\" tab and right click on the file youre after and click \"upload\".\n",
        "\n",
        "2. Use code\n",
        "\n",
        "3. Save it to Google Drive by connecting Google Drive and copying it there (see 2nd code cell)"
      ],
      "metadata": {
        "id": "QUSC31vrxNpn"
      }
    },
    {
      "cell_type": "code",
      "source": [
        "# Download a file from Google Colab\n",
        "\n",
        "# from google.colab import files\n",
        "# files.download(\"/content/best_model_HDF5_format\")"
      ],
      "metadata": {
        "id": "8TcUW_yr1w_p"
      },
      "execution_count": 84,
      "outputs": []
    },
    {
      "cell_type": "code",
      "source": [
        "# Save a file from Google colab to Google Drive\n",
        "# !cp /content/best_model_HDF5_format(our model path) _____(our folder file aim)"
      ],
      "metadata": {
        "id": "WSgD3o4e7f7p"
      },
      "execution_count": 85,
      "outputs": []
    },
    {
      "cell_type": "markdown",
      "source": [
        "## A Larger Example"
      ],
      "metadata": {
        "id": "CCRi9SjcjVKV"
      }
    },
    {
      "cell_type": "code",
      "source": [
        "# Import requaired libraries\n",
        "import tensorflow as tf\n",
        "import pandas as pd\n",
        "import matplotlib.pyplot as plt"
      ],
      "metadata": {
        "id": "k9TQZSDtjf7m"
      },
      "execution_count": 86,
      "outputs": []
    },
    {
      "cell_type": "code",
      "source": [
        "# Read in the insurance datatset\n",
        "\n",
        "insurance = pd.read_csv(\"https://raw.githubusercontent.com/stedy/Machine-Learning-with-R-datasets/master/insurance.csv\")"
      ],
      "metadata": {
        "id": "BuTf-1pqko1F"
      },
      "execution_count": 87,
      "outputs": []
    },
    {
      "cell_type": "code",
      "source": [
        "insurance.head(10)"
      ],
      "metadata": {
        "colab": {
          "base_uri": "https://localhost:8080/",
          "height": 363
        },
        "id": "7vygpJnClKsv",
        "outputId": "e427f577-08ea-4302-b630-e436b38f766b"
      },
      "execution_count": 88,
      "outputs": [
        {
          "output_type": "execute_result",
          "data": {
            "text/plain": [
              "   age     sex     bmi  children smoker     region      charges\n",
              "0   19  female  27.900         0    yes  southwest  16884.92400\n",
              "1   18    male  33.770         1     no  southeast   1725.55230\n",
              "2   28    male  33.000         3     no  southeast   4449.46200\n",
              "3   33    male  22.705         0     no  northwest  21984.47061\n",
              "4   32    male  28.880         0     no  northwest   3866.85520\n",
              "5   31  female  25.740         0     no  southeast   3756.62160\n",
              "6   46  female  33.440         1     no  southeast   8240.58960\n",
              "7   37  female  27.740         3     no  northwest   7281.50560\n",
              "8   37    male  29.830         2     no  northeast   6406.41070\n",
              "9   60  female  25.840         0     no  northwest  28923.13692"
            ],
            "text/html": [
              "\n",
              "  <div id=\"df-1b16114f-3d22-4210-9d73-3ac27aee2efb\" class=\"colab-df-container\">\n",
              "    <div>\n",
              "<style scoped>\n",
              "    .dataframe tbody tr th:only-of-type {\n",
              "        vertical-align: middle;\n",
              "    }\n",
              "\n",
              "    .dataframe tbody tr th {\n",
              "        vertical-align: top;\n",
              "    }\n",
              "\n",
              "    .dataframe thead th {\n",
              "        text-align: right;\n",
              "    }\n",
              "</style>\n",
              "<table border=\"1\" class=\"dataframe\">\n",
              "  <thead>\n",
              "    <tr style=\"text-align: right;\">\n",
              "      <th></th>\n",
              "      <th>age</th>\n",
              "      <th>sex</th>\n",
              "      <th>bmi</th>\n",
              "      <th>children</th>\n",
              "      <th>smoker</th>\n",
              "      <th>region</th>\n",
              "      <th>charges</th>\n",
              "    </tr>\n",
              "  </thead>\n",
              "  <tbody>\n",
              "    <tr>\n",
              "      <th>0</th>\n",
              "      <td>19</td>\n",
              "      <td>female</td>\n",
              "      <td>27.900</td>\n",
              "      <td>0</td>\n",
              "      <td>yes</td>\n",
              "      <td>southwest</td>\n",
              "      <td>16884.92400</td>\n",
              "    </tr>\n",
              "    <tr>\n",
              "      <th>1</th>\n",
              "      <td>18</td>\n",
              "      <td>male</td>\n",
              "      <td>33.770</td>\n",
              "      <td>1</td>\n",
              "      <td>no</td>\n",
              "      <td>southeast</td>\n",
              "      <td>1725.55230</td>\n",
              "    </tr>\n",
              "    <tr>\n",
              "      <th>2</th>\n",
              "      <td>28</td>\n",
              "      <td>male</td>\n",
              "      <td>33.000</td>\n",
              "      <td>3</td>\n",
              "      <td>no</td>\n",
              "      <td>southeast</td>\n",
              "      <td>4449.46200</td>\n",
              "    </tr>\n",
              "    <tr>\n",
              "      <th>3</th>\n",
              "      <td>33</td>\n",
              "      <td>male</td>\n",
              "      <td>22.705</td>\n",
              "      <td>0</td>\n",
              "      <td>no</td>\n",
              "      <td>northwest</td>\n",
              "      <td>21984.47061</td>\n",
              "    </tr>\n",
              "    <tr>\n",
              "      <th>4</th>\n",
              "      <td>32</td>\n",
              "      <td>male</td>\n",
              "      <td>28.880</td>\n",
              "      <td>0</td>\n",
              "      <td>no</td>\n",
              "      <td>northwest</td>\n",
              "      <td>3866.85520</td>\n",
              "    </tr>\n",
              "    <tr>\n",
              "      <th>5</th>\n",
              "      <td>31</td>\n",
              "      <td>female</td>\n",
              "      <td>25.740</td>\n",
              "      <td>0</td>\n",
              "      <td>no</td>\n",
              "      <td>southeast</td>\n",
              "      <td>3756.62160</td>\n",
              "    </tr>\n",
              "    <tr>\n",
              "      <th>6</th>\n",
              "      <td>46</td>\n",
              "      <td>female</td>\n",
              "      <td>33.440</td>\n",
              "      <td>1</td>\n",
              "      <td>no</td>\n",
              "      <td>southeast</td>\n",
              "      <td>8240.58960</td>\n",
              "    </tr>\n",
              "    <tr>\n",
              "      <th>7</th>\n",
              "      <td>37</td>\n",
              "      <td>female</td>\n",
              "      <td>27.740</td>\n",
              "      <td>3</td>\n",
              "      <td>no</td>\n",
              "      <td>northwest</td>\n",
              "      <td>7281.50560</td>\n",
              "    </tr>\n",
              "    <tr>\n",
              "      <th>8</th>\n",
              "      <td>37</td>\n",
              "      <td>male</td>\n",
              "      <td>29.830</td>\n",
              "      <td>2</td>\n",
              "      <td>no</td>\n",
              "      <td>northeast</td>\n",
              "      <td>6406.41070</td>\n",
              "    </tr>\n",
              "    <tr>\n",
              "      <th>9</th>\n",
              "      <td>60</td>\n",
              "      <td>female</td>\n",
              "      <td>25.840</td>\n",
              "      <td>0</td>\n",
              "      <td>no</td>\n",
              "      <td>northwest</td>\n",
              "      <td>28923.13692</td>\n",
              "    </tr>\n",
              "  </tbody>\n",
              "</table>\n",
              "</div>\n",
              "    <div class=\"colab-df-buttons\">\n",
              "\n",
              "  <div class=\"colab-df-container\">\n",
              "    <button class=\"colab-df-convert\" onclick=\"convertToInteractive('df-1b16114f-3d22-4210-9d73-3ac27aee2efb')\"\n",
              "            title=\"Convert this dataframe to an interactive table.\"\n",
              "            style=\"display:none;\">\n",
              "\n",
              "  <svg xmlns=\"http://www.w3.org/2000/svg\" height=\"24px\" viewBox=\"0 -960 960 960\">\n",
              "    <path d=\"M120-120v-720h720v720H120Zm60-500h600v-160H180v160Zm220 220h160v-160H400v160Zm0 220h160v-160H400v160ZM180-400h160v-160H180v160Zm440 0h160v-160H620v160ZM180-180h160v-160H180v160Zm440 0h160v-160H620v160Z\"/>\n",
              "  </svg>\n",
              "    </button>\n",
              "\n",
              "  <style>\n",
              "    .colab-df-container {\n",
              "      display:flex;\n",
              "      gap: 12px;\n",
              "    }\n",
              "\n",
              "    .colab-df-convert {\n",
              "      background-color: #E8F0FE;\n",
              "      border: none;\n",
              "      border-radius: 50%;\n",
              "      cursor: pointer;\n",
              "      display: none;\n",
              "      fill: #1967D2;\n",
              "      height: 32px;\n",
              "      padding: 0 0 0 0;\n",
              "      width: 32px;\n",
              "    }\n",
              "\n",
              "    .colab-df-convert:hover {\n",
              "      background-color: #E2EBFA;\n",
              "      box-shadow: 0px 1px 2px rgba(60, 64, 67, 0.3), 0px 1px 3px 1px rgba(60, 64, 67, 0.15);\n",
              "      fill: #174EA6;\n",
              "    }\n",
              "\n",
              "    .colab-df-buttons div {\n",
              "      margin-bottom: 4px;\n",
              "    }\n",
              "\n",
              "    [theme=dark] .colab-df-convert {\n",
              "      background-color: #3B4455;\n",
              "      fill: #D2E3FC;\n",
              "    }\n",
              "\n",
              "    [theme=dark] .colab-df-convert:hover {\n",
              "      background-color: #434B5C;\n",
              "      box-shadow: 0px 1px 3px 1px rgba(0, 0, 0, 0.15);\n",
              "      filter: drop-shadow(0px 1px 2px rgba(0, 0, 0, 0.3));\n",
              "      fill: #FFFFFF;\n",
              "    }\n",
              "  </style>\n",
              "\n",
              "    <script>\n",
              "      const buttonEl =\n",
              "        document.querySelector('#df-1b16114f-3d22-4210-9d73-3ac27aee2efb button.colab-df-convert');\n",
              "      buttonEl.style.display =\n",
              "        google.colab.kernel.accessAllowed ? 'block' : 'none';\n",
              "\n",
              "      async function convertToInteractive(key) {\n",
              "        const element = document.querySelector('#df-1b16114f-3d22-4210-9d73-3ac27aee2efb');\n",
              "        const dataTable =\n",
              "          await google.colab.kernel.invokeFunction('convertToInteractive',\n",
              "                                                    [key], {});\n",
              "        if (!dataTable) return;\n",
              "\n",
              "        const docLinkHtml = 'Like what you see? Visit the ' +\n",
              "          '<a target=\"_blank\" href=https://colab.research.google.com/notebooks/data_table.ipynb>data table notebook</a>'\n",
              "          + ' to learn more about interactive tables.';\n",
              "        element.innerHTML = '';\n",
              "        dataTable['output_type'] = 'display_data';\n",
              "        await google.colab.output.renderOutput(dataTable, element);\n",
              "        const docLink = document.createElement('div');\n",
              "        docLink.innerHTML = docLinkHtml;\n",
              "        element.appendChild(docLink);\n",
              "      }\n",
              "    </script>\n",
              "  </div>\n",
              "\n",
              "\n",
              "<div id=\"df-ab75912a-8598-408c-8ccf-77942bde3374\">\n",
              "  <button class=\"colab-df-quickchart\" onclick=\"quickchart('df-ab75912a-8598-408c-8ccf-77942bde3374')\"\n",
              "            title=\"Suggest charts\"\n",
              "            style=\"display:none;\">\n",
              "\n",
              "<svg xmlns=\"http://www.w3.org/2000/svg\" height=\"24px\"viewBox=\"0 0 24 24\"\n",
              "     width=\"24px\">\n",
              "    <g>\n",
              "        <path d=\"M19 3H5c-1.1 0-2 .9-2 2v14c0 1.1.9 2 2 2h14c1.1 0 2-.9 2-2V5c0-1.1-.9-2-2-2zM9 17H7v-7h2v7zm4 0h-2V7h2v10zm4 0h-2v-4h2v4z\"/>\n",
              "    </g>\n",
              "</svg>\n",
              "  </button>\n",
              "\n",
              "<style>\n",
              "  .colab-df-quickchart {\n",
              "      --bg-color: #E8F0FE;\n",
              "      --fill-color: #1967D2;\n",
              "      --hover-bg-color: #E2EBFA;\n",
              "      --hover-fill-color: #174EA6;\n",
              "      --disabled-fill-color: #AAA;\n",
              "      --disabled-bg-color: #DDD;\n",
              "  }\n",
              "\n",
              "  [theme=dark] .colab-df-quickchart {\n",
              "      --bg-color: #3B4455;\n",
              "      --fill-color: #D2E3FC;\n",
              "      --hover-bg-color: #434B5C;\n",
              "      --hover-fill-color: #FFFFFF;\n",
              "      --disabled-bg-color: #3B4455;\n",
              "      --disabled-fill-color: #666;\n",
              "  }\n",
              "\n",
              "  .colab-df-quickchart {\n",
              "    background-color: var(--bg-color);\n",
              "    border: none;\n",
              "    border-radius: 50%;\n",
              "    cursor: pointer;\n",
              "    display: none;\n",
              "    fill: var(--fill-color);\n",
              "    height: 32px;\n",
              "    padding: 0;\n",
              "    width: 32px;\n",
              "  }\n",
              "\n",
              "  .colab-df-quickchart:hover {\n",
              "    background-color: var(--hover-bg-color);\n",
              "    box-shadow: 0 1px 2px rgba(60, 64, 67, 0.3), 0 1px 3px 1px rgba(60, 64, 67, 0.15);\n",
              "    fill: var(--button-hover-fill-color);\n",
              "  }\n",
              "\n",
              "  .colab-df-quickchart-complete:disabled,\n",
              "  .colab-df-quickchart-complete:disabled:hover {\n",
              "    background-color: var(--disabled-bg-color);\n",
              "    fill: var(--disabled-fill-color);\n",
              "    box-shadow: none;\n",
              "  }\n",
              "\n",
              "  .colab-df-spinner {\n",
              "    border: 2px solid var(--fill-color);\n",
              "    border-color: transparent;\n",
              "    border-bottom-color: var(--fill-color);\n",
              "    animation:\n",
              "      spin 1s steps(1) infinite;\n",
              "  }\n",
              "\n",
              "  @keyframes spin {\n",
              "    0% {\n",
              "      border-color: transparent;\n",
              "      border-bottom-color: var(--fill-color);\n",
              "      border-left-color: var(--fill-color);\n",
              "    }\n",
              "    20% {\n",
              "      border-color: transparent;\n",
              "      border-left-color: var(--fill-color);\n",
              "      border-top-color: var(--fill-color);\n",
              "    }\n",
              "    30% {\n",
              "      border-color: transparent;\n",
              "      border-left-color: var(--fill-color);\n",
              "      border-top-color: var(--fill-color);\n",
              "      border-right-color: var(--fill-color);\n",
              "    }\n",
              "    40% {\n",
              "      border-color: transparent;\n",
              "      border-right-color: var(--fill-color);\n",
              "      border-top-color: var(--fill-color);\n",
              "    }\n",
              "    60% {\n",
              "      border-color: transparent;\n",
              "      border-right-color: var(--fill-color);\n",
              "    }\n",
              "    80% {\n",
              "      border-color: transparent;\n",
              "      border-right-color: var(--fill-color);\n",
              "      border-bottom-color: var(--fill-color);\n",
              "    }\n",
              "    90% {\n",
              "      border-color: transparent;\n",
              "      border-bottom-color: var(--fill-color);\n",
              "    }\n",
              "  }\n",
              "</style>\n",
              "\n",
              "  <script>\n",
              "    async function quickchart(key) {\n",
              "      const quickchartButtonEl =\n",
              "        document.querySelector('#' + key + ' button');\n",
              "      quickchartButtonEl.disabled = true;  // To prevent multiple clicks.\n",
              "      quickchartButtonEl.classList.add('colab-df-spinner');\n",
              "      try {\n",
              "        const charts = await google.colab.kernel.invokeFunction(\n",
              "            'suggestCharts', [key], {});\n",
              "      } catch (error) {\n",
              "        console.error('Error during call to suggestCharts:', error);\n",
              "      }\n",
              "      quickchartButtonEl.classList.remove('colab-df-spinner');\n",
              "      quickchartButtonEl.classList.add('colab-df-quickchart-complete');\n",
              "    }\n",
              "    (() => {\n",
              "      let quickchartButtonEl =\n",
              "        document.querySelector('#df-ab75912a-8598-408c-8ccf-77942bde3374 button');\n",
              "      quickchartButtonEl.style.display =\n",
              "        google.colab.kernel.accessAllowed ? 'block' : 'none';\n",
              "    })();\n",
              "  </script>\n",
              "</div>\n",
              "    </div>\n",
              "  </div>\n"
            ],
            "application/vnd.google.colaboratory.intrinsic+json": {
              "type": "dataframe",
              "variable_name": "insurance",
              "summary": "{\n  \"name\": \"insurance\",\n  \"rows\": 1338,\n  \"fields\": [\n    {\n      \"column\": \"age\",\n      \"properties\": {\n        \"dtype\": \"number\",\n        \"std\": 14,\n        \"min\": 18,\n        \"max\": 64,\n        \"num_unique_values\": 47,\n        \"samples\": [\n          21,\n          45,\n          36\n        ],\n        \"semantic_type\": \"\",\n        \"description\": \"\"\n      }\n    },\n    {\n      \"column\": \"sex\",\n      \"properties\": {\n        \"dtype\": \"category\",\n        \"num_unique_values\": 2,\n        \"samples\": [\n          \"male\",\n          \"female\"\n        ],\n        \"semantic_type\": \"\",\n        \"description\": \"\"\n      }\n    },\n    {\n      \"column\": \"bmi\",\n      \"properties\": {\n        \"dtype\": \"number\",\n        \"std\": 6.098186911679014,\n        \"min\": 15.96,\n        \"max\": 53.13,\n        \"num_unique_values\": 548,\n        \"samples\": [\n          23.18,\n          26.885\n        ],\n        \"semantic_type\": \"\",\n        \"description\": \"\"\n      }\n    },\n    {\n      \"column\": \"children\",\n      \"properties\": {\n        \"dtype\": \"number\",\n        \"std\": 1,\n        \"min\": 0,\n        \"max\": 5,\n        \"num_unique_values\": 6,\n        \"samples\": [\n          0,\n          1\n        ],\n        \"semantic_type\": \"\",\n        \"description\": \"\"\n      }\n    },\n    {\n      \"column\": \"smoker\",\n      \"properties\": {\n        \"dtype\": \"category\",\n        \"num_unique_values\": 2,\n        \"samples\": [\n          \"no\",\n          \"yes\"\n        ],\n        \"semantic_type\": \"\",\n        \"description\": \"\"\n      }\n    },\n    {\n      \"column\": \"region\",\n      \"properties\": {\n        \"dtype\": \"category\",\n        \"num_unique_values\": 4,\n        \"samples\": [\n          \"southeast\",\n          \"northeast\"\n        ],\n        \"semantic_type\": \"\",\n        \"description\": \"\"\n      }\n    },\n    {\n      \"column\": \"charges\",\n      \"properties\": {\n        \"dtype\": \"number\",\n        \"std\": 12110.011236694001,\n        \"min\": 1121.8739,\n        \"max\": 63770.42801,\n        \"num_unique_values\": 1337,\n        \"samples\": [\n          8688.85885,\n          5708.867\n        ],\n        \"semantic_type\": \"\",\n        \"description\": \"\"\n      }\n    }\n  ]\n}"
            }
          },
          "metadata": {},
          "execution_count": 88
        }
      ]
    },
    {
      "cell_type": "code",
      "source": [
        "insurance[\"sex\"]"
      ],
      "metadata": {
        "colab": {
          "base_uri": "https://localhost:8080/"
        },
        "id": "7AGioTdJneGl",
        "outputId": "88d4b41d-9a14-4702-8751-62e5189e72d9"
      },
      "execution_count": 89,
      "outputs": [
        {
          "output_type": "execute_result",
          "data": {
            "text/plain": [
              "0       female\n",
              "1         male\n",
              "2         male\n",
              "3         male\n",
              "4         male\n",
              "         ...  \n",
              "1333      male\n",
              "1334    female\n",
              "1335    female\n",
              "1336    female\n",
              "1337    female\n",
              "Name: sex, Length: 1338, dtype: object"
            ]
          },
          "metadata": {},
          "execution_count": 89
        }
      ]
    },
    {
      "cell_type": "code",
      "source": [
        "insurance[\"age\"]"
      ],
      "metadata": {
        "colab": {
          "base_uri": "https://localhost:8080/"
        },
        "id": "VeNCha2CnqMZ",
        "outputId": "194b1146-c9ea-4615-a311-52c5cd0f5020"
      },
      "execution_count": 90,
      "outputs": [
        {
          "output_type": "execute_result",
          "data": {
            "text/plain": [
              "0       19\n",
              "1       18\n",
              "2       28\n",
              "3       33\n",
              "4       32\n",
              "        ..\n",
              "1333    50\n",
              "1334    18\n",
              "1335    18\n",
              "1336    21\n",
              "1337    61\n",
              "Name: age, Length: 1338, dtype: int64"
            ]
          },
          "metadata": {},
          "execution_count": 90
        }
      ]
    },
    {
      "cell_type": "code",
      "source": [
        "# OneHot endcode for our non numerical type but using pandas(automaticly)\n",
        "insurance_one_hot = pd.get_dummies(insurance)\n",
        "insurance_one_hot.head()"
      ],
      "metadata": {
        "colab": {
          "base_uri": "https://localhost:8080/",
          "height": 206
        },
        "id": "bGJOoiQ6ns9m",
        "outputId": "3e507f91-7e8c-43a8-9707-3f3789e86b62"
      },
      "execution_count": 91,
      "outputs": [
        {
          "output_type": "execute_result",
          "data": {
            "text/plain": [
              "   age     bmi  children      charges  sex_female  sex_male  smoker_no  \\\n",
              "0   19  27.900         0  16884.92400           1         0          0   \n",
              "1   18  33.770         1   1725.55230           0         1          1   \n",
              "2   28  33.000         3   4449.46200           0         1          1   \n",
              "3   33  22.705         0  21984.47061           0         1          1   \n",
              "4   32  28.880         0   3866.85520           0         1          1   \n",
              "\n",
              "   smoker_yes  region_northeast  region_northwest  region_southeast  \\\n",
              "0           1                 0                 0                 0   \n",
              "1           0                 0                 0                 1   \n",
              "2           0                 0                 0                 1   \n",
              "3           0                 0                 1                 0   \n",
              "4           0                 0                 1                 0   \n",
              "\n",
              "   region_southwest  \n",
              "0                 1  \n",
              "1                 0  \n",
              "2                 0  \n",
              "3                 0  \n",
              "4                 0  "
            ],
            "text/html": [
              "\n",
              "  <div id=\"df-f741a940-66dd-44d3-9819-4198c86a5e6b\" class=\"colab-df-container\">\n",
              "    <div>\n",
              "<style scoped>\n",
              "    .dataframe tbody tr th:only-of-type {\n",
              "        vertical-align: middle;\n",
              "    }\n",
              "\n",
              "    .dataframe tbody tr th {\n",
              "        vertical-align: top;\n",
              "    }\n",
              "\n",
              "    .dataframe thead th {\n",
              "        text-align: right;\n",
              "    }\n",
              "</style>\n",
              "<table border=\"1\" class=\"dataframe\">\n",
              "  <thead>\n",
              "    <tr style=\"text-align: right;\">\n",
              "      <th></th>\n",
              "      <th>age</th>\n",
              "      <th>bmi</th>\n",
              "      <th>children</th>\n",
              "      <th>charges</th>\n",
              "      <th>sex_female</th>\n",
              "      <th>sex_male</th>\n",
              "      <th>smoker_no</th>\n",
              "      <th>smoker_yes</th>\n",
              "      <th>region_northeast</th>\n",
              "      <th>region_northwest</th>\n",
              "      <th>region_southeast</th>\n",
              "      <th>region_southwest</th>\n",
              "    </tr>\n",
              "  </thead>\n",
              "  <tbody>\n",
              "    <tr>\n",
              "      <th>0</th>\n",
              "      <td>19</td>\n",
              "      <td>27.900</td>\n",
              "      <td>0</td>\n",
              "      <td>16884.92400</td>\n",
              "      <td>1</td>\n",
              "      <td>0</td>\n",
              "      <td>0</td>\n",
              "      <td>1</td>\n",
              "      <td>0</td>\n",
              "      <td>0</td>\n",
              "      <td>0</td>\n",
              "      <td>1</td>\n",
              "    </tr>\n",
              "    <tr>\n",
              "      <th>1</th>\n",
              "      <td>18</td>\n",
              "      <td>33.770</td>\n",
              "      <td>1</td>\n",
              "      <td>1725.55230</td>\n",
              "      <td>0</td>\n",
              "      <td>1</td>\n",
              "      <td>1</td>\n",
              "      <td>0</td>\n",
              "      <td>0</td>\n",
              "      <td>0</td>\n",
              "      <td>1</td>\n",
              "      <td>0</td>\n",
              "    </tr>\n",
              "    <tr>\n",
              "      <th>2</th>\n",
              "      <td>28</td>\n",
              "      <td>33.000</td>\n",
              "      <td>3</td>\n",
              "      <td>4449.46200</td>\n",
              "      <td>0</td>\n",
              "      <td>1</td>\n",
              "      <td>1</td>\n",
              "      <td>0</td>\n",
              "      <td>0</td>\n",
              "      <td>0</td>\n",
              "      <td>1</td>\n",
              "      <td>0</td>\n",
              "    </tr>\n",
              "    <tr>\n",
              "      <th>3</th>\n",
              "      <td>33</td>\n",
              "      <td>22.705</td>\n",
              "      <td>0</td>\n",
              "      <td>21984.47061</td>\n",
              "      <td>0</td>\n",
              "      <td>1</td>\n",
              "      <td>1</td>\n",
              "      <td>0</td>\n",
              "      <td>0</td>\n",
              "      <td>1</td>\n",
              "      <td>0</td>\n",
              "      <td>0</td>\n",
              "    </tr>\n",
              "    <tr>\n",
              "      <th>4</th>\n",
              "      <td>32</td>\n",
              "      <td>28.880</td>\n",
              "      <td>0</td>\n",
              "      <td>3866.85520</td>\n",
              "      <td>0</td>\n",
              "      <td>1</td>\n",
              "      <td>1</td>\n",
              "      <td>0</td>\n",
              "      <td>0</td>\n",
              "      <td>1</td>\n",
              "      <td>0</td>\n",
              "      <td>0</td>\n",
              "    </tr>\n",
              "  </tbody>\n",
              "</table>\n",
              "</div>\n",
              "    <div class=\"colab-df-buttons\">\n",
              "\n",
              "  <div class=\"colab-df-container\">\n",
              "    <button class=\"colab-df-convert\" onclick=\"convertToInteractive('df-f741a940-66dd-44d3-9819-4198c86a5e6b')\"\n",
              "            title=\"Convert this dataframe to an interactive table.\"\n",
              "            style=\"display:none;\">\n",
              "\n",
              "  <svg xmlns=\"http://www.w3.org/2000/svg\" height=\"24px\" viewBox=\"0 -960 960 960\">\n",
              "    <path d=\"M120-120v-720h720v720H120Zm60-500h600v-160H180v160Zm220 220h160v-160H400v160Zm0 220h160v-160H400v160ZM180-400h160v-160H180v160Zm440 0h160v-160H620v160ZM180-180h160v-160H180v160Zm440 0h160v-160H620v160Z\"/>\n",
              "  </svg>\n",
              "    </button>\n",
              "\n",
              "  <style>\n",
              "    .colab-df-container {\n",
              "      display:flex;\n",
              "      gap: 12px;\n",
              "    }\n",
              "\n",
              "    .colab-df-convert {\n",
              "      background-color: #E8F0FE;\n",
              "      border: none;\n",
              "      border-radius: 50%;\n",
              "      cursor: pointer;\n",
              "      display: none;\n",
              "      fill: #1967D2;\n",
              "      height: 32px;\n",
              "      padding: 0 0 0 0;\n",
              "      width: 32px;\n",
              "    }\n",
              "\n",
              "    .colab-df-convert:hover {\n",
              "      background-color: #E2EBFA;\n",
              "      box-shadow: 0px 1px 2px rgba(60, 64, 67, 0.3), 0px 1px 3px 1px rgba(60, 64, 67, 0.15);\n",
              "      fill: #174EA6;\n",
              "    }\n",
              "\n",
              "    .colab-df-buttons div {\n",
              "      margin-bottom: 4px;\n",
              "    }\n",
              "\n",
              "    [theme=dark] .colab-df-convert {\n",
              "      background-color: #3B4455;\n",
              "      fill: #D2E3FC;\n",
              "    }\n",
              "\n",
              "    [theme=dark] .colab-df-convert:hover {\n",
              "      background-color: #434B5C;\n",
              "      box-shadow: 0px 1px 3px 1px rgba(0, 0, 0, 0.15);\n",
              "      filter: drop-shadow(0px 1px 2px rgba(0, 0, 0, 0.3));\n",
              "      fill: #FFFFFF;\n",
              "    }\n",
              "  </style>\n",
              "\n",
              "    <script>\n",
              "      const buttonEl =\n",
              "        document.querySelector('#df-f741a940-66dd-44d3-9819-4198c86a5e6b button.colab-df-convert');\n",
              "      buttonEl.style.display =\n",
              "        google.colab.kernel.accessAllowed ? 'block' : 'none';\n",
              "\n",
              "      async function convertToInteractive(key) {\n",
              "        const element = document.querySelector('#df-f741a940-66dd-44d3-9819-4198c86a5e6b');\n",
              "        const dataTable =\n",
              "          await google.colab.kernel.invokeFunction('convertToInteractive',\n",
              "                                                    [key], {});\n",
              "        if (!dataTable) return;\n",
              "\n",
              "        const docLinkHtml = 'Like what you see? Visit the ' +\n",
              "          '<a target=\"_blank\" href=https://colab.research.google.com/notebooks/data_table.ipynb>data table notebook</a>'\n",
              "          + ' to learn more about interactive tables.';\n",
              "        element.innerHTML = '';\n",
              "        dataTable['output_type'] = 'display_data';\n",
              "        await google.colab.output.renderOutput(dataTable, element);\n",
              "        const docLink = document.createElement('div');\n",
              "        docLink.innerHTML = docLinkHtml;\n",
              "        element.appendChild(docLink);\n",
              "      }\n",
              "    </script>\n",
              "  </div>\n",
              "\n",
              "\n",
              "<div id=\"df-2d0cfc6e-8bd5-4ac4-a642-e41d186f5796\">\n",
              "  <button class=\"colab-df-quickchart\" onclick=\"quickchart('df-2d0cfc6e-8bd5-4ac4-a642-e41d186f5796')\"\n",
              "            title=\"Suggest charts\"\n",
              "            style=\"display:none;\">\n",
              "\n",
              "<svg xmlns=\"http://www.w3.org/2000/svg\" height=\"24px\"viewBox=\"0 0 24 24\"\n",
              "     width=\"24px\">\n",
              "    <g>\n",
              "        <path d=\"M19 3H5c-1.1 0-2 .9-2 2v14c0 1.1.9 2 2 2h14c1.1 0 2-.9 2-2V5c0-1.1-.9-2-2-2zM9 17H7v-7h2v7zm4 0h-2V7h2v10zm4 0h-2v-4h2v4z\"/>\n",
              "    </g>\n",
              "</svg>\n",
              "  </button>\n",
              "\n",
              "<style>\n",
              "  .colab-df-quickchart {\n",
              "      --bg-color: #E8F0FE;\n",
              "      --fill-color: #1967D2;\n",
              "      --hover-bg-color: #E2EBFA;\n",
              "      --hover-fill-color: #174EA6;\n",
              "      --disabled-fill-color: #AAA;\n",
              "      --disabled-bg-color: #DDD;\n",
              "  }\n",
              "\n",
              "  [theme=dark] .colab-df-quickchart {\n",
              "      --bg-color: #3B4455;\n",
              "      --fill-color: #D2E3FC;\n",
              "      --hover-bg-color: #434B5C;\n",
              "      --hover-fill-color: #FFFFFF;\n",
              "      --disabled-bg-color: #3B4455;\n",
              "      --disabled-fill-color: #666;\n",
              "  }\n",
              "\n",
              "  .colab-df-quickchart {\n",
              "    background-color: var(--bg-color);\n",
              "    border: none;\n",
              "    border-radius: 50%;\n",
              "    cursor: pointer;\n",
              "    display: none;\n",
              "    fill: var(--fill-color);\n",
              "    height: 32px;\n",
              "    padding: 0;\n",
              "    width: 32px;\n",
              "  }\n",
              "\n",
              "  .colab-df-quickchart:hover {\n",
              "    background-color: var(--hover-bg-color);\n",
              "    box-shadow: 0 1px 2px rgba(60, 64, 67, 0.3), 0 1px 3px 1px rgba(60, 64, 67, 0.15);\n",
              "    fill: var(--button-hover-fill-color);\n",
              "  }\n",
              "\n",
              "  .colab-df-quickchart-complete:disabled,\n",
              "  .colab-df-quickchart-complete:disabled:hover {\n",
              "    background-color: var(--disabled-bg-color);\n",
              "    fill: var(--disabled-fill-color);\n",
              "    box-shadow: none;\n",
              "  }\n",
              "\n",
              "  .colab-df-spinner {\n",
              "    border: 2px solid var(--fill-color);\n",
              "    border-color: transparent;\n",
              "    border-bottom-color: var(--fill-color);\n",
              "    animation:\n",
              "      spin 1s steps(1) infinite;\n",
              "  }\n",
              "\n",
              "  @keyframes spin {\n",
              "    0% {\n",
              "      border-color: transparent;\n",
              "      border-bottom-color: var(--fill-color);\n",
              "      border-left-color: var(--fill-color);\n",
              "    }\n",
              "    20% {\n",
              "      border-color: transparent;\n",
              "      border-left-color: var(--fill-color);\n",
              "      border-top-color: var(--fill-color);\n",
              "    }\n",
              "    30% {\n",
              "      border-color: transparent;\n",
              "      border-left-color: var(--fill-color);\n",
              "      border-top-color: var(--fill-color);\n",
              "      border-right-color: var(--fill-color);\n",
              "    }\n",
              "    40% {\n",
              "      border-color: transparent;\n",
              "      border-right-color: var(--fill-color);\n",
              "      border-top-color: var(--fill-color);\n",
              "    }\n",
              "    60% {\n",
              "      border-color: transparent;\n",
              "      border-right-color: var(--fill-color);\n",
              "    }\n",
              "    80% {\n",
              "      border-color: transparent;\n",
              "      border-right-color: var(--fill-color);\n",
              "      border-bottom-color: var(--fill-color);\n",
              "    }\n",
              "    90% {\n",
              "      border-color: transparent;\n",
              "      border-bottom-color: var(--fill-color);\n",
              "    }\n",
              "  }\n",
              "</style>\n",
              "\n",
              "  <script>\n",
              "    async function quickchart(key) {\n",
              "      const quickchartButtonEl =\n",
              "        document.querySelector('#' + key + ' button');\n",
              "      quickchartButtonEl.disabled = true;  // To prevent multiple clicks.\n",
              "      quickchartButtonEl.classList.add('colab-df-spinner');\n",
              "      try {\n",
              "        const charts = await google.colab.kernel.invokeFunction(\n",
              "            'suggestCharts', [key], {});\n",
              "      } catch (error) {\n",
              "        console.error('Error during call to suggestCharts:', error);\n",
              "      }\n",
              "      quickchartButtonEl.classList.remove('colab-df-spinner');\n",
              "      quickchartButtonEl.classList.add('colab-df-quickchart-complete');\n",
              "    }\n",
              "    (() => {\n",
              "      let quickchartButtonEl =\n",
              "        document.querySelector('#df-2d0cfc6e-8bd5-4ac4-a642-e41d186f5796 button');\n",
              "      quickchartButtonEl.style.display =\n",
              "        google.colab.kernel.accessAllowed ? 'block' : 'none';\n",
              "    })();\n",
              "  </script>\n",
              "</div>\n",
              "    </div>\n",
              "  </div>\n"
            ],
            "application/vnd.google.colaboratory.intrinsic+json": {
              "type": "dataframe",
              "variable_name": "insurance_one_hot",
              "summary": "{\n  \"name\": \"insurance_one_hot\",\n  \"rows\": 1338,\n  \"fields\": [\n    {\n      \"column\": \"age\",\n      \"properties\": {\n        \"dtype\": \"number\",\n        \"std\": 14,\n        \"min\": 18,\n        \"max\": 64,\n        \"num_unique_values\": 47,\n        \"samples\": [\n          21,\n          45,\n          36\n        ],\n        \"semantic_type\": \"\",\n        \"description\": \"\"\n      }\n    },\n    {\n      \"column\": \"bmi\",\n      \"properties\": {\n        \"dtype\": \"number\",\n        \"std\": 6.098186911679014,\n        \"min\": 15.96,\n        \"max\": 53.13,\n        \"num_unique_values\": 548,\n        \"samples\": [\n          23.18,\n          26.885,\n          29.26\n        ],\n        \"semantic_type\": \"\",\n        \"description\": \"\"\n      }\n    },\n    {\n      \"column\": \"children\",\n      \"properties\": {\n        \"dtype\": \"number\",\n        \"std\": 1,\n        \"min\": 0,\n        \"max\": 5,\n        \"num_unique_values\": 6,\n        \"samples\": [\n          0,\n          1,\n          4\n        ],\n        \"semantic_type\": \"\",\n        \"description\": \"\"\n      }\n    },\n    {\n      \"column\": \"charges\",\n      \"properties\": {\n        \"dtype\": \"number\",\n        \"std\": 12110.011236694001,\n        \"min\": 1121.8739,\n        \"max\": 63770.42801,\n        \"num_unique_values\": 1337,\n        \"samples\": [\n          8688.85885,\n          5708.867,\n          11436.73815\n        ],\n        \"semantic_type\": \"\",\n        \"description\": \"\"\n      }\n    },\n    {\n      \"column\": \"sex_female\",\n      \"properties\": {\n        \"dtype\": \"uint8\",\n        \"num_unique_values\": 2,\n        \"samples\": [\n          0,\n          1\n        ],\n        \"semantic_type\": \"\",\n        \"description\": \"\"\n      }\n    },\n    {\n      \"column\": \"sex_male\",\n      \"properties\": {\n        \"dtype\": \"uint8\",\n        \"num_unique_values\": 2,\n        \"samples\": [\n          1,\n          0\n        ],\n        \"semantic_type\": \"\",\n        \"description\": \"\"\n      }\n    },\n    {\n      \"column\": \"smoker_no\",\n      \"properties\": {\n        \"dtype\": \"uint8\",\n        \"num_unique_values\": 2,\n        \"samples\": [\n          1,\n          0\n        ],\n        \"semantic_type\": \"\",\n        \"description\": \"\"\n      }\n    },\n    {\n      \"column\": \"smoker_yes\",\n      \"properties\": {\n        \"dtype\": \"uint8\",\n        \"num_unique_values\": 2,\n        \"samples\": [\n          0,\n          1\n        ],\n        \"semantic_type\": \"\",\n        \"description\": \"\"\n      }\n    },\n    {\n      \"column\": \"region_northeast\",\n      \"properties\": {\n        \"dtype\": \"uint8\",\n        \"num_unique_values\": 2,\n        \"samples\": [\n          1,\n          0\n        ],\n        \"semantic_type\": \"\",\n        \"description\": \"\"\n      }\n    },\n    {\n      \"column\": \"region_northwest\",\n      \"properties\": {\n        \"dtype\": \"uint8\",\n        \"num_unique_values\": 2,\n        \"samples\": [\n          1,\n          0\n        ],\n        \"semantic_type\": \"\",\n        \"description\": \"\"\n      }\n    },\n    {\n      \"column\": \"region_southeast\",\n      \"properties\": {\n        \"dtype\": \"uint8\",\n        \"num_unique_values\": 2,\n        \"samples\": [\n          1,\n          0\n        ],\n        \"semantic_type\": \"\",\n        \"description\": \"\"\n      }\n    },\n    {\n      \"column\": \"region_southwest\",\n      \"properties\": {\n        \"dtype\": \"uint8\",\n        \"num_unique_values\": 2,\n        \"samples\": [\n          0,\n          1\n        ],\n        \"semantic_type\": \"\",\n        \"description\": \"\"\n      }\n    }\n  ]\n}"
            }
          },
          "metadata": {},
          "execution_count": 91
        }
      ]
    },
    {
      "cell_type": "markdown",
      "source": [
        "### Create X & Y Values (Features and labels)"
      ],
      "metadata": {
        "id": "O2wYeWe3p51_"
      }
    },
    {
      "cell_type": "code",
      "source": [
        "# Create X and Y\n",
        "x = insurance_one_hot.drop(\"charges\", axis=1)\n",
        "y = insurance_one_hot[\"charges\"]"
      ],
      "metadata": {
        "id": "lL96lpLTpqds"
      },
      "execution_count": 92,
      "outputs": []
    },
    {
      "cell_type": "code",
      "source": [
        "# view x\n",
        "x.head()"
      ],
      "metadata": {
        "colab": {
          "base_uri": "https://localhost:8080/",
          "height": 206
        },
        "id": "kg7Hm_PdRVv-",
        "outputId": "51b35e54-f5b6-4382-f696-bd106f04c7ba"
      },
      "execution_count": 93,
      "outputs": [
        {
          "output_type": "execute_result",
          "data": {
            "text/plain": [
              "   age     bmi  children  sex_female  sex_male  smoker_no  smoker_yes  \\\n",
              "0   19  27.900         0           1         0          0           1   \n",
              "1   18  33.770         1           0         1          1           0   \n",
              "2   28  33.000         3           0         1          1           0   \n",
              "3   33  22.705         0           0         1          1           0   \n",
              "4   32  28.880         0           0         1          1           0   \n",
              "\n",
              "   region_northeast  region_northwest  region_southeast  region_southwest  \n",
              "0                 0                 0                 0                 1  \n",
              "1                 0                 0                 1                 0  \n",
              "2                 0                 0                 1                 0  \n",
              "3                 0                 1                 0                 0  \n",
              "4                 0                 1                 0                 0  "
            ],
            "text/html": [
              "\n",
              "  <div id=\"df-8f785536-9e77-4577-b04b-f986a4a7e35a\" class=\"colab-df-container\">\n",
              "    <div>\n",
              "<style scoped>\n",
              "    .dataframe tbody tr th:only-of-type {\n",
              "        vertical-align: middle;\n",
              "    }\n",
              "\n",
              "    .dataframe tbody tr th {\n",
              "        vertical-align: top;\n",
              "    }\n",
              "\n",
              "    .dataframe thead th {\n",
              "        text-align: right;\n",
              "    }\n",
              "</style>\n",
              "<table border=\"1\" class=\"dataframe\">\n",
              "  <thead>\n",
              "    <tr style=\"text-align: right;\">\n",
              "      <th></th>\n",
              "      <th>age</th>\n",
              "      <th>bmi</th>\n",
              "      <th>children</th>\n",
              "      <th>sex_female</th>\n",
              "      <th>sex_male</th>\n",
              "      <th>smoker_no</th>\n",
              "      <th>smoker_yes</th>\n",
              "      <th>region_northeast</th>\n",
              "      <th>region_northwest</th>\n",
              "      <th>region_southeast</th>\n",
              "      <th>region_southwest</th>\n",
              "    </tr>\n",
              "  </thead>\n",
              "  <tbody>\n",
              "    <tr>\n",
              "      <th>0</th>\n",
              "      <td>19</td>\n",
              "      <td>27.900</td>\n",
              "      <td>0</td>\n",
              "      <td>1</td>\n",
              "      <td>0</td>\n",
              "      <td>0</td>\n",
              "      <td>1</td>\n",
              "      <td>0</td>\n",
              "      <td>0</td>\n",
              "      <td>0</td>\n",
              "      <td>1</td>\n",
              "    </tr>\n",
              "    <tr>\n",
              "      <th>1</th>\n",
              "      <td>18</td>\n",
              "      <td>33.770</td>\n",
              "      <td>1</td>\n",
              "      <td>0</td>\n",
              "      <td>1</td>\n",
              "      <td>1</td>\n",
              "      <td>0</td>\n",
              "      <td>0</td>\n",
              "      <td>0</td>\n",
              "      <td>1</td>\n",
              "      <td>0</td>\n",
              "    </tr>\n",
              "    <tr>\n",
              "      <th>2</th>\n",
              "      <td>28</td>\n",
              "      <td>33.000</td>\n",
              "      <td>3</td>\n",
              "      <td>0</td>\n",
              "      <td>1</td>\n",
              "      <td>1</td>\n",
              "      <td>0</td>\n",
              "      <td>0</td>\n",
              "      <td>0</td>\n",
              "      <td>1</td>\n",
              "      <td>0</td>\n",
              "    </tr>\n",
              "    <tr>\n",
              "      <th>3</th>\n",
              "      <td>33</td>\n",
              "      <td>22.705</td>\n",
              "      <td>0</td>\n",
              "      <td>0</td>\n",
              "      <td>1</td>\n",
              "      <td>1</td>\n",
              "      <td>0</td>\n",
              "      <td>0</td>\n",
              "      <td>1</td>\n",
              "      <td>0</td>\n",
              "      <td>0</td>\n",
              "    </tr>\n",
              "    <tr>\n",
              "      <th>4</th>\n",
              "      <td>32</td>\n",
              "      <td>28.880</td>\n",
              "      <td>0</td>\n",
              "      <td>0</td>\n",
              "      <td>1</td>\n",
              "      <td>1</td>\n",
              "      <td>0</td>\n",
              "      <td>0</td>\n",
              "      <td>1</td>\n",
              "      <td>0</td>\n",
              "      <td>0</td>\n",
              "    </tr>\n",
              "  </tbody>\n",
              "</table>\n",
              "</div>\n",
              "    <div class=\"colab-df-buttons\">\n",
              "\n",
              "  <div class=\"colab-df-container\">\n",
              "    <button class=\"colab-df-convert\" onclick=\"convertToInteractive('df-8f785536-9e77-4577-b04b-f986a4a7e35a')\"\n",
              "            title=\"Convert this dataframe to an interactive table.\"\n",
              "            style=\"display:none;\">\n",
              "\n",
              "  <svg xmlns=\"http://www.w3.org/2000/svg\" height=\"24px\" viewBox=\"0 -960 960 960\">\n",
              "    <path d=\"M120-120v-720h720v720H120Zm60-500h600v-160H180v160Zm220 220h160v-160H400v160Zm0 220h160v-160H400v160ZM180-400h160v-160H180v160Zm440 0h160v-160H620v160ZM180-180h160v-160H180v160Zm440 0h160v-160H620v160Z\"/>\n",
              "  </svg>\n",
              "    </button>\n",
              "\n",
              "  <style>\n",
              "    .colab-df-container {\n",
              "      display:flex;\n",
              "      gap: 12px;\n",
              "    }\n",
              "\n",
              "    .colab-df-convert {\n",
              "      background-color: #E8F0FE;\n",
              "      border: none;\n",
              "      border-radius: 50%;\n",
              "      cursor: pointer;\n",
              "      display: none;\n",
              "      fill: #1967D2;\n",
              "      height: 32px;\n",
              "      padding: 0 0 0 0;\n",
              "      width: 32px;\n",
              "    }\n",
              "\n",
              "    .colab-df-convert:hover {\n",
              "      background-color: #E2EBFA;\n",
              "      box-shadow: 0px 1px 2px rgba(60, 64, 67, 0.3), 0px 1px 3px 1px rgba(60, 64, 67, 0.15);\n",
              "      fill: #174EA6;\n",
              "    }\n",
              "\n",
              "    .colab-df-buttons div {\n",
              "      margin-bottom: 4px;\n",
              "    }\n",
              "\n",
              "    [theme=dark] .colab-df-convert {\n",
              "      background-color: #3B4455;\n",
              "      fill: #D2E3FC;\n",
              "    }\n",
              "\n",
              "    [theme=dark] .colab-df-convert:hover {\n",
              "      background-color: #434B5C;\n",
              "      box-shadow: 0px 1px 3px 1px rgba(0, 0, 0, 0.15);\n",
              "      filter: drop-shadow(0px 1px 2px rgba(0, 0, 0, 0.3));\n",
              "      fill: #FFFFFF;\n",
              "    }\n",
              "  </style>\n",
              "\n",
              "    <script>\n",
              "      const buttonEl =\n",
              "        document.querySelector('#df-8f785536-9e77-4577-b04b-f986a4a7e35a button.colab-df-convert');\n",
              "      buttonEl.style.display =\n",
              "        google.colab.kernel.accessAllowed ? 'block' : 'none';\n",
              "\n",
              "      async function convertToInteractive(key) {\n",
              "        const element = document.querySelector('#df-8f785536-9e77-4577-b04b-f986a4a7e35a');\n",
              "        const dataTable =\n",
              "          await google.colab.kernel.invokeFunction('convertToInteractive',\n",
              "                                                    [key], {});\n",
              "        if (!dataTable) return;\n",
              "\n",
              "        const docLinkHtml = 'Like what you see? Visit the ' +\n",
              "          '<a target=\"_blank\" href=https://colab.research.google.com/notebooks/data_table.ipynb>data table notebook</a>'\n",
              "          + ' to learn more about interactive tables.';\n",
              "        element.innerHTML = '';\n",
              "        dataTable['output_type'] = 'display_data';\n",
              "        await google.colab.output.renderOutput(dataTable, element);\n",
              "        const docLink = document.createElement('div');\n",
              "        docLink.innerHTML = docLinkHtml;\n",
              "        element.appendChild(docLink);\n",
              "      }\n",
              "    </script>\n",
              "  </div>\n",
              "\n",
              "\n",
              "<div id=\"df-f6931ec6-e862-415d-bccb-c0276c9e2236\">\n",
              "  <button class=\"colab-df-quickchart\" onclick=\"quickchart('df-f6931ec6-e862-415d-bccb-c0276c9e2236')\"\n",
              "            title=\"Suggest charts\"\n",
              "            style=\"display:none;\">\n",
              "\n",
              "<svg xmlns=\"http://www.w3.org/2000/svg\" height=\"24px\"viewBox=\"0 0 24 24\"\n",
              "     width=\"24px\">\n",
              "    <g>\n",
              "        <path d=\"M19 3H5c-1.1 0-2 .9-2 2v14c0 1.1.9 2 2 2h14c1.1 0 2-.9 2-2V5c0-1.1-.9-2-2-2zM9 17H7v-7h2v7zm4 0h-2V7h2v10zm4 0h-2v-4h2v4z\"/>\n",
              "    </g>\n",
              "</svg>\n",
              "  </button>\n",
              "\n",
              "<style>\n",
              "  .colab-df-quickchart {\n",
              "      --bg-color: #E8F0FE;\n",
              "      --fill-color: #1967D2;\n",
              "      --hover-bg-color: #E2EBFA;\n",
              "      --hover-fill-color: #174EA6;\n",
              "      --disabled-fill-color: #AAA;\n",
              "      --disabled-bg-color: #DDD;\n",
              "  }\n",
              "\n",
              "  [theme=dark] .colab-df-quickchart {\n",
              "      --bg-color: #3B4455;\n",
              "      --fill-color: #D2E3FC;\n",
              "      --hover-bg-color: #434B5C;\n",
              "      --hover-fill-color: #FFFFFF;\n",
              "      --disabled-bg-color: #3B4455;\n",
              "      --disabled-fill-color: #666;\n",
              "  }\n",
              "\n",
              "  .colab-df-quickchart {\n",
              "    background-color: var(--bg-color);\n",
              "    border: none;\n",
              "    border-radius: 50%;\n",
              "    cursor: pointer;\n",
              "    display: none;\n",
              "    fill: var(--fill-color);\n",
              "    height: 32px;\n",
              "    padding: 0;\n",
              "    width: 32px;\n",
              "  }\n",
              "\n",
              "  .colab-df-quickchart:hover {\n",
              "    background-color: var(--hover-bg-color);\n",
              "    box-shadow: 0 1px 2px rgba(60, 64, 67, 0.3), 0 1px 3px 1px rgba(60, 64, 67, 0.15);\n",
              "    fill: var(--button-hover-fill-color);\n",
              "  }\n",
              "\n",
              "  .colab-df-quickchart-complete:disabled,\n",
              "  .colab-df-quickchart-complete:disabled:hover {\n",
              "    background-color: var(--disabled-bg-color);\n",
              "    fill: var(--disabled-fill-color);\n",
              "    box-shadow: none;\n",
              "  }\n",
              "\n",
              "  .colab-df-spinner {\n",
              "    border: 2px solid var(--fill-color);\n",
              "    border-color: transparent;\n",
              "    border-bottom-color: var(--fill-color);\n",
              "    animation:\n",
              "      spin 1s steps(1) infinite;\n",
              "  }\n",
              "\n",
              "  @keyframes spin {\n",
              "    0% {\n",
              "      border-color: transparent;\n",
              "      border-bottom-color: var(--fill-color);\n",
              "      border-left-color: var(--fill-color);\n",
              "    }\n",
              "    20% {\n",
              "      border-color: transparent;\n",
              "      border-left-color: var(--fill-color);\n",
              "      border-top-color: var(--fill-color);\n",
              "    }\n",
              "    30% {\n",
              "      border-color: transparent;\n",
              "      border-left-color: var(--fill-color);\n",
              "      border-top-color: var(--fill-color);\n",
              "      border-right-color: var(--fill-color);\n",
              "    }\n",
              "    40% {\n",
              "      border-color: transparent;\n",
              "      border-right-color: var(--fill-color);\n",
              "      border-top-color: var(--fill-color);\n",
              "    }\n",
              "    60% {\n",
              "      border-color: transparent;\n",
              "      border-right-color: var(--fill-color);\n",
              "    }\n",
              "    80% {\n",
              "      border-color: transparent;\n",
              "      border-right-color: var(--fill-color);\n",
              "      border-bottom-color: var(--fill-color);\n",
              "    }\n",
              "    90% {\n",
              "      border-color: transparent;\n",
              "      border-bottom-color: var(--fill-color);\n",
              "    }\n",
              "  }\n",
              "</style>\n",
              "\n",
              "  <script>\n",
              "    async function quickchart(key) {\n",
              "      const quickchartButtonEl =\n",
              "        document.querySelector('#' + key + ' button');\n",
              "      quickchartButtonEl.disabled = true;  // To prevent multiple clicks.\n",
              "      quickchartButtonEl.classList.add('colab-df-spinner');\n",
              "      try {\n",
              "        const charts = await google.colab.kernel.invokeFunction(\n",
              "            'suggestCharts', [key], {});\n",
              "      } catch (error) {\n",
              "        console.error('Error during call to suggestCharts:', error);\n",
              "      }\n",
              "      quickchartButtonEl.classList.remove('colab-df-spinner');\n",
              "      quickchartButtonEl.classList.add('colab-df-quickchart-complete');\n",
              "    }\n",
              "    (() => {\n",
              "      let quickchartButtonEl =\n",
              "        document.querySelector('#df-f6931ec6-e862-415d-bccb-c0276c9e2236 button');\n",
              "      quickchartButtonEl.style.display =\n",
              "        google.colab.kernel.accessAllowed ? 'block' : 'none';\n",
              "    })();\n",
              "  </script>\n",
              "</div>\n",
              "    </div>\n",
              "  </div>\n"
            ],
            "application/vnd.google.colaboratory.intrinsic+json": {
              "type": "dataframe",
              "variable_name": "x",
              "summary": "{\n  \"name\": \"x\",\n  \"rows\": 1338,\n  \"fields\": [\n    {\n      \"column\": \"age\",\n      \"properties\": {\n        \"dtype\": \"number\",\n        \"std\": 14,\n        \"min\": 18,\n        \"max\": 64,\n        \"num_unique_values\": 47,\n        \"samples\": [\n          21,\n          45,\n          36\n        ],\n        \"semantic_type\": \"\",\n        \"description\": \"\"\n      }\n    },\n    {\n      \"column\": \"bmi\",\n      \"properties\": {\n        \"dtype\": \"number\",\n        \"std\": 6.098186911679014,\n        \"min\": 15.96,\n        \"max\": 53.13,\n        \"num_unique_values\": 548,\n        \"samples\": [\n          23.18,\n          26.885,\n          29.26\n        ],\n        \"semantic_type\": \"\",\n        \"description\": \"\"\n      }\n    },\n    {\n      \"column\": \"children\",\n      \"properties\": {\n        \"dtype\": \"number\",\n        \"std\": 1,\n        \"min\": 0,\n        \"max\": 5,\n        \"num_unique_values\": 6,\n        \"samples\": [\n          0,\n          1,\n          4\n        ],\n        \"semantic_type\": \"\",\n        \"description\": \"\"\n      }\n    },\n    {\n      \"column\": \"sex_female\",\n      \"properties\": {\n        \"dtype\": \"uint8\",\n        \"num_unique_values\": 2,\n        \"samples\": [\n          0,\n          1\n        ],\n        \"semantic_type\": \"\",\n        \"description\": \"\"\n      }\n    },\n    {\n      \"column\": \"sex_male\",\n      \"properties\": {\n        \"dtype\": \"uint8\",\n        \"num_unique_values\": 2,\n        \"samples\": [\n          1,\n          0\n        ],\n        \"semantic_type\": \"\",\n        \"description\": \"\"\n      }\n    },\n    {\n      \"column\": \"smoker_no\",\n      \"properties\": {\n        \"dtype\": \"uint8\",\n        \"num_unique_values\": 2,\n        \"samples\": [\n          1,\n          0\n        ],\n        \"semantic_type\": \"\",\n        \"description\": \"\"\n      }\n    },\n    {\n      \"column\": \"smoker_yes\",\n      \"properties\": {\n        \"dtype\": \"uint8\",\n        \"num_unique_values\": 2,\n        \"samples\": [\n          0,\n          1\n        ],\n        \"semantic_type\": \"\",\n        \"description\": \"\"\n      }\n    },\n    {\n      \"column\": \"region_northeast\",\n      \"properties\": {\n        \"dtype\": \"uint8\",\n        \"num_unique_values\": 2,\n        \"samples\": [\n          1,\n          0\n        ],\n        \"semantic_type\": \"\",\n        \"description\": \"\"\n      }\n    },\n    {\n      \"column\": \"region_northwest\",\n      \"properties\": {\n        \"dtype\": \"uint8\",\n        \"num_unique_values\": 2,\n        \"samples\": [\n          1,\n          0\n        ],\n        \"semantic_type\": \"\",\n        \"description\": \"\"\n      }\n    },\n    {\n      \"column\": \"region_southeast\",\n      \"properties\": {\n        \"dtype\": \"uint8\",\n        \"num_unique_values\": 2,\n        \"samples\": [\n          1,\n          0\n        ],\n        \"semantic_type\": \"\",\n        \"description\": \"\"\n      }\n    },\n    {\n      \"column\": \"region_southwest\",\n      \"properties\": {\n        \"dtype\": \"uint8\",\n        \"num_unique_values\": 2,\n        \"samples\": [\n          0,\n          1\n        ],\n        \"semantic_type\": \"\",\n        \"description\": \"\"\n      }\n    }\n  ]\n}"
            }
          },
          "metadata": {},
          "execution_count": 93
        }
      ]
    },
    {
      "cell_type": "code",
      "source": [
        "# view y\n",
        "y.head()"
      ],
      "metadata": {
        "colab": {
          "base_uri": "https://localhost:8080/"
        },
        "id": "sU6fprWLRol2",
        "outputId": "943ebc6d-4268-4cc0-e9b2-b14fb44ec937"
      },
      "execution_count": 94,
      "outputs": [
        {
          "output_type": "execute_result",
          "data": {
            "text/plain": [
              "0    16884.92400\n",
              "1     1725.55230\n",
              "2     4449.46200\n",
              "3    21984.47061\n",
              "4     3866.85520\n",
              "Name: charges, dtype: float64"
            ]
          },
          "metadata": {},
          "execution_count": 94
        }
      ]
    },
    {
      "cell_type": "code",
      "source": [
        "# Create training and test sets\n",
        "\n",
        "from sklearn.model_selection import train_test_split\n",
        "\n",
        "x_train, x_test, y_train, y_test = train_test_split(x, y,test_size=0.2, random_state=42)\n",
        "len(x), len(x_train), len(x_test)\n"
      ],
      "metadata": {
        "colab": {
          "base_uri": "https://localhost:8080/"
        },
        "id": "S1784bQaXLGY",
        "outputId": "d36fd7dd-b807-4d9f-c36b-4284075fcebf"
      },
      "execution_count": 95,
      "outputs": [
        {
          "output_type": "execute_result",
          "data": {
            "text/plain": [
              "(1338, 1070, 268)"
            ]
          },
          "metadata": {},
          "execution_count": 95
        }
      ]
    },
    {
      "cell_type": "code",
      "source": [
        "x_train"
      ],
      "metadata": {
        "colab": {
          "base_uri": "https://localhost:8080/",
          "height": 424
        },
        "id": "d5gYWBwAYb9E",
        "outputId": "fa51c3b8-29af-4918-c7d4-0cb84db2ffc3"
      },
      "execution_count": 96,
      "outputs": [
        {
          "output_type": "execute_result",
          "data": {
            "text/plain": [
              "      age     bmi  children  sex_female  sex_male  smoker_no  smoker_yes  \\\n",
              "560    46  19.950         2           1         0          1           0   \n",
              "1285   47  24.320         0           1         0          1           0   \n",
              "1142   52  24.860         0           1         0          1           0   \n",
              "969    39  34.320         5           1         0          1           0   \n",
              "486    54  21.470         3           1         0          1           0   \n",
              "...   ...     ...       ...         ...       ...        ...         ...   \n",
              "1095   18  31.350         4           1         0          1           0   \n",
              "1130   39  23.870         5           1         0          1           0   \n",
              "1294   58  25.175         0           0         1          1           0   \n",
              "860    37  47.600         2           1         0          0           1   \n",
              "1126   55  29.900         0           0         1          1           0   \n",
              "\n",
              "      region_northeast  region_northwest  region_southeast  region_southwest  \n",
              "560                  0                 1                 0                 0  \n",
              "1285                 1                 0                 0                 0  \n",
              "1142                 0                 0                 1                 0  \n",
              "969                  0                 0                 1                 0  \n",
              "486                  0                 1                 0                 0  \n",
              "...                ...               ...               ...               ...  \n",
              "1095                 1                 0                 0                 0  \n",
              "1130                 0                 0                 1                 0  \n",
              "1294                 1                 0                 0                 0  \n",
              "860                  0                 0                 0                 1  \n",
              "1126                 0                 0                 0                 1  \n",
              "\n",
              "[1070 rows x 11 columns]"
            ],
            "text/html": [
              "\n",
              "  <div id=\"df-1387c3b8-8d5f-4a2b-a6d3-57ad5ae74ac5\" class=\"colab-df-container\">\n",
              "    <div>\n",
              "<style scoped>\n",
              "    .dataframe tbody tr th:only-of-type {\n",
              "        vertical-align: middle;\n",
              "    }\n",
              "\n",
              "    .dataframe tbody tr th {\n",
              "        vertical-align: top;\n",
              "    }\n",
              "\n",
              "    .dataframe thead th {\n",
              "        text-align: right;\n",
              "    }\n",
              "</style>\n",
              "<table border=\"1\" class=\"dataframe\">\n",
              "  <thead>\n",
              "    <tr style=\"text-align: right;\">\n",
              "      <th></th>\n",
              "      <th>age</th>\n",
              "      <th>bmi</th>\n",
              "      <th>children</th>\n",
              "      <th>sex_female</th>\n",
              "      <th>sex_male</th>\n",
              "      <th>smoker_no</th>\n",
              "      <th>smoker_yes</th>\n",
              "      <th>region_northeast</th>\n",
              "      <th>region_northwest</th>\n",
              "      <th>region_southeast</th>\n",
              "      <th>region_southwest</th>\n",
              "    </tr>\n",
              "  </thead>\n",
              "  <tbody>\n",
              "    <tr>\n",
              "      <th>560</th>\n",
              "      <td>46</td>\n",
              "      <td>19.950</td>\n",
              "      <td>2</td>\n",
              "      <td>1</td>\n",
              "      <td>0</td>\n",
              "      <td>1</td>\n",
              "      <td>0</td>\n",
              "      <td>0</td>\n",
              "      <td>1</td>\n",
              "      <td>0</td>\n",
              "      <td>0</td>\n",
              "    </tr>\n",
              "    <tr>\n",
              "      <th>1285</th>\n",
              "      <td>47</td>\n",
              "      <td>24.320</td>\n",
              "      <td>0</td>\n",
              "      <td>1</td>\n",
              "      <td>0</td>\n",
              "      <td>1</td>\n",
              "      <td>0</td>\n",
              "      <td>1</td>\n",
              "      <td>0</td>\n",
              "      <td>0</td>\n",
              "      <td>0</td>\n",
              "    </tr>\n",
              "    <tr>\n",
              "      <th>1142</th>\n",
              "      <td>52</td>\n",
              "      <td>24.860</td>\n",
              "      <td>0</td>\n",
              "      <td>1</td>\n",
              "      <td>0</td>\n",
              "      <td>1</td>\n",
              "      <td>0</td>\n",
              "      <td>0</td>\n",
              "      <td>0</td>\n",
              "      <td>1</td>\n",
              "      <td>0</td>\n",
              "    </tr>\n",
              "    <tr>\n",
              "      <th>969</th>\n",
              "      <td>39</td>\n",
              "      <td>34.320</td>\n",
              "      <td>5</td>\n",
              "      <td>1</td>\n",
              "      <td>0</td>\n",
              "      <td>1</td>\n",
              "      <td>0</td>\n",
              "      <td>0</td>\n",
              "      <td>0</td>\n",
              "      <td>1</td>\n",
              "      <td>0</td>\n",
              "    </tr>\n",
              "    <tr>\n",
              "      <th>486</th>\n",
              "      <td>54</td>\n",
              "      <td>21.470</td>\n",
              "      <td>3</td>\n",
              "      <td>1</td>\n",
              "      <td>0</td>\n",
              "      <td>1</td>\n",
              "      <td>0</td>\n",
              "      <td>0</td>\n",
              "      <td>1</td>\n",
              "      <td>0</td>\n",
              "      <td>0</td>\n",
              "    </tr>\n",
              "    <tr>\n",
              "      <th>...</th>\n",
              "      <td>...</td>\n",
              "      <td>...</td>\n",
              "      <td>...</td>\n",
              "      <td>...</td>\n",
              "      <td>...</td>\n",
              "      <td>...</td>\n",
              "      <td>...</td>\n",
              "      <td>...</td>\n",
              "      <td>...</td>\n",
              "      <td>...</td>\n",
              "      <td>...</td>\n",
              "    </tr>\n",
              "    <tr>\n",
              "      <th>1095</th>\n",
              "      <td>18</td>\n",
              "      <td>31.350</td>\n",
              "      <td>4</td>\n",
              "      <td>1</td>\n",
              "      <td>0</td>\n",
              "      <td>1</td>\n",
              "      <td>0</td>\n",
              "      <td>1</td>\n",
              "      <td>0</td>\n",
              "      <td>0</td>\n",
              "      <td>0</td>\n",
              "    </tr>\n",
              "    <tr>\n",
              "      <th>1130</th>\n",
              "      <td>39</td>\n",
              "      <td>23.870</td>\n",
              "      <td>5</td>\n",
              "      <td>1</td>\n",
              "      <td>0</td>\n",
              "      <td>1</td>\n",
              "      <td>0</td>\n",
              "      <td>0</td>\n",
              "      <td>0</td>\n",
              "      <td>1</td>\n",
              "      <td>0</td>\n",
              "    </tr>\n",
              "    <tr>\n",
              "      <th>1294</th>\n",
              "      <td>58</td>\n",
              "      <td>25.175</td>\n",
              "      <td>0</td>\n",
              "      <td>0</td>\n",
              "      <td>1</td>\n",
              "      <td>1</td>\n",
              "      <td>0</td>\n",
              "      <td>1</td>\n",
              "      <td>0</td>\n",
              "      <td>0</td>\n",
              "      <td>0</td>\n",
              "    </tr>\n",
              "    <tr>\n",
              "      <th>860</th>\n",
              "      <td>37</td>\n",
              "      <td>47.600</td>\n",
              "      <td>2</td>\n",
              "      <td>1</td>\n",
              "      <td>0</td>\n",
              "      <td>0</td>\n",
              "      <td>1</td>\n",
              "      <td>0</td>\n",
              "      <td>0</td>\n",
              "      <td>0</td>\n",
              "      <td>1</td>\n",
              "    </tr>\n",
              "    <tr>\n",
              "      <th>1126</th>\n",
              "      <td>55</td>\n",
              "      <td>29.900</td>\n",
              "      <td>0</td>\n",
              "      <td>0</td>\n",
              "      <td>1</td>\n",
              "      <td>1</td>\n",
              "      <td>0</td>\n",
              "      <td>0</td>\n",
              "      <td>0</td>\n",
              "      <td>0</td>\n",
              "      <td>1</td>\n",
              "    </tr>\n",
              "  </tbody>\n",
              "</table>\n",
              "<p>1070 rows × 11 columns</p>\n",
              "</div>\n",
              "    <div class=\"colab-df-buttons\">\n",
              "\n",
              "  <div class=\"colab-df-container\">\n",
              "    <button class=\"colab-df-convert\" onclick=\"convertToInteractive('df-1387c3b8-8d5f-4a2b-a6d3-57ad5ae74ac5')\"\n",
              "            title=\"Convert this dataframe to an interactive table.\"\n",
              "            style=\"display:none;\">\n",
              "\n",
              "  <svg xmlns=\"http://www.w3.org/2000/svg\" height=\"24px\" viewBox=\"0 -960 960 960\">\n",
              "    <path d=\"M120-120v-720h720v720H120Zm60-500h600v-160H180v160Zm220 220h160v-160H400v160Zm0 220h160v-160H400v160ZM180-400h160v-160H180v160Zm440 0h160v-160H620v160ZM180-180h160v-160H180v160Zm440 0h160v-160H620v160Z\"/>\n",
              "  </svg>\n",
              "    </button>\n",
              "\n",
              "  <style>\n",
              "    .colab-df-container {\n",
              "      display:flex;\n",
              "      gap: 12px;\n",
              "    }\n",
              "\n",
              "    .colab-df-convert {\n",
              "      background-color: #E8F0FE;\n",
              "      border: none;\n",
              "      border-radius: 50%;\n",
              "      cursor: pointer;\n",
              "      display: none;\n",
              "      fill: #1967D2;\n",
              "      height: 32px;\n",
              "      padding: 0 0 0 0;\n",
              "      width: 32px;\n",
              "    }\n",
              "\n",
              "    .colab-df-convert:hover {\n",
              "      background-color: #E2EBFA;\n",
              "      box-shadow: 0px 1px 2px rgba(60, 64, 67, 0.3), 0px 1px 3px 1px rgba(60, 64, 67, 0.15);\n",
              "      fill: #174EA6;\n",
              "    }\n",
              "\n",
              "    .colab-df-buttons div {\n",
              "      margin-bottom: 4px;\n",
              "    }\n",
              "\n",
              "    [theme=dark] .colab-df-convert {\n",
              "      background-color: #3B4455;\n",
              "      fill: #D2E3FC;\n",
              "    }\n",
              "\n",
              "    [theme=dark] .colab-df-convert:hover {\n",
              "      background-color: #434B5C;\n",
              "      box-shadow: 0px 1px 3px 1px rgba(0, 0, 0, 0.15);\n",
              "      filter: drop-shadow(0px 1px 2px rgba(0, 0, 0, 0.3));\n",
              "      fill: #FFFFFF;\n",
              "    }\n",
              "  </style>\n",
              "\n",
              "    <script>\n",
              "      const buttonEl =\n",
              "        document.querySelector('#df-1387c3b8-8d5f-4a2b-a6d3-57ad5ae74ac5 button.colab-df-convert');\n",
              "      buttonEl.style.display =\n",
              "        google.colab.kernel.accessAllowed ? 'block' : 'none';\n",
              "\n",
              "      async function convertToInteractive(key) {\n",
              "        const element = document.querySelector('#df-1387c3b8-8d5f-4a2b-a6d3-57ad5ae74ac5');\n",
              "        const dataTable =\n",
              "          await google.colab.kernel.invokeFunction('convertToInteractive',\n",
              "                                                    [key], {});\n",
              "        if (!dataTable) return;\n",
              "\n",
              "        const docLinkHtml = 'Like what you see? Visit the ' +\n",
              "          '<a target=\"_blank\" href=https://colab.research.google.com/notebooks/data_table.ipynb>data table notebook</a>'\n",
              "          + ' to learn more about interactive tables.';\n",
              "        element.innerHTML = '';\n",
              "        dataTable['output_type'] = 'display_data';\n",
              "        await google.colab.output.renderOutput(dataTable, element);\n",
              "        const docLink = document.createElement('div');\n",
              "        docLink.innerHTML = docLinkHtml;\n",
              "        element.appendChild(docLink);\n",
              "      }\n",
              "    </script>\n",
              "  </div>\n",
              "\n",
              "\n",
              "<div id=\"df-78603833-25dc-467b-9757-229854427d28\">\n",
              "  <button class=\"colab-df-quickchart\" onclick=\"quickchart('df-78603833-25dc-467b-9757-229854427d28')\"\n",
              "            title=\"Suggest charts\"\n",
              "            style=\"display:none;\">\n",
              "\n",
              "<svg xmlns=\"http://www.w3.org/2000/svg\" height=\"24px\"viewBox=\"0 0 24 24\"\n",
              "     width=\"24px\">\n",
              "    <g>\n",
              "        <path d=\"M19 3H5c-1.1 0-2 .9-2 2v14c0 1.1.9 2 2 2h14c1.1 0 2-.9 2-2V5c0-1.1-.9-2-2-2zM9 17H7v-7h2v7zm4 0h-2V7h2v10zm4 0h-2v-4h2v4z\"/>\n",
              "    </g>\n",
              "</svg>\n",
              "  </button>\n",
              "\n",
              "<style>\n",
              "  .colab-df-quickchart {\n",
              "      --bg-color: #E8F0FE;\n",
              "      --fill-color: #1967D2;\n",
              "      --hover-bg-color: #E2EBFA;\n",
              "      --hover-fill-color: #174EA6;\n",
              "      --disabled-fill-color: #AAA;\n",
              "      --disabled-bg-color: #DDD;\n",
              "  }\n",
              "\n",
              "  [theme=dark] .colab-df-quickchart {\n",
              "      --bg-color: #3B4455;\n",
              "      --fill-color: #D2E3FC;\n",
              "      --hover-bg-color: #434B5C;\n",
              "      --hover-fill-color: #FFFFFF;\n",
              "      --disabled-bg-color: #3B4455;\n",
              "      --disabled-fill-color: #666;\n",
              "  }\n",
              "\n",
              "  .colab-df-quickchart {\n",
              "    background-color: var(--bg-color);\n",
              "    border: none;\n",
              "    border-radius: 50%;\n",
              "    cursor: pointer;\n",
              "    display: none;\n",
              "    fill: var(--fill-color);\n",
              "    height: 32px;\n",
              "    padding: 0;\n",
              "    width: 32px;\n",
              "  }\n",
              "\n",
              "  .colab-df-quickchart:hover {\n",
              "    background-color: var(--hover-bg-color);\n",
              "    box-shadow: 0 1px 2px rgba(60, 64, 67, 0.3), 0 1px 3px 1px rgba(60, 64, 67, 0.15);\n",
              "    fill: var(--button-hover-fill-color);\n",
              "  }\n",
              "\n",
              "  .colab-df-quickchart-complete:disabled,\n",
              "  .colab-df-quickchart-complete:disabled:hover {\n",
              "    background-color: var(--disabled-bg-color);\n",
              "    fill: var(--disabled-fill-color);\n",
              "    box-shadow: none;\n",
              "  }\n",
              "\n",
              "  .colab-df-spinner {\n",
              "    border: 2px solid var(--fill-color);\n",
              "    border-color: transparent;\n",
              "    border-bottom-color: var(--fill-color);\n",
              "    animation:\n",
              "      spin 1s steps(1) infinite;\n",
              "  }\n",
              "\n",
              "  @keyframes spin {\n",
              "    0% {\n",
              "      border-color: transparent;\n",
              "      border-bottom-color: var(--fill-color);\n",
              "      border-left-color: var(--fill-color);\n",
              "    }\n",
              "    20% {\n",
              "      border-color: transparent;\n",
              "      border-left-color: var(--fill-color);\n",
              "      border-top-color: var(--fill-color);\n",
              "    }\n",
              "    30% {\n",
              "      border-color: transparent;\n",
              "      border-left-color: var(--fill-color);\n",
              "      border-top-color: var(--fill-color);\n",
              "      border-right-color: var(--fill-color);\n",
              "    }\n",
              "    40% {\n",
              "      border-color: transparent;\n",
              "      border-right-color: var(--fill-color);\n",
              "      border-top-color: var(--fill-color);\n",
              "    }\n",
              "    60% {\n",
              "      border-color: transparent;\n",
              "      border-right-color: var(--fill-color);\n",
              "    }\n",
              "    80% {\n",
              "      border-color: transparent;\n",
              "      border-right-color: var(--fill-color);\n",
              "      border-bottom-color: var(--fill-color);\n",
              "    }\n",
              "    90% {\n",
              "      border-color: transparent;\n",
              "      border-bottom-color: var(--fill-color);\n",
              "    }\n",
              "  }\n",
              "</style>\n",
              "\n",
              "  <script>\n",
              "    async function quickchart(key) {\n",
              "      const quickchartButtonEl =\n",
              "        document.querySelector('#' + key + ' button');\n",
              "      quickchartButtonEl.disabled = true;  // To prevent multiple clicks.\n",
              "      quickchartButtonEl.classList.add('colab-df-spinner');\n",
              "      try {\n",
              "        const charts = await google.colab.kernel.invokeFunction(\n",
              "            'suggestCharts', [key], {});\n",
              "      } catch (error) {\n",
              "        console.error('Error during call to suggestCharts:', error);\n",
              "      }\n",
              "      quickchartButtonEl.classList.remove('colab-df-spinner');\n",
              "      quickchartButtonEl.classList.add('colab-df-quickchart-complete');\n",
              "    }\n",
              "    (() => {\n",
              "      let quickchartButtonEl =\n",
              "        document.querySelector('#df-78603833-25dc-467b-9757-229854427d28 button');\n",
              "      quickchartButtonEl.style.display =\n",
              "        google.colab.kernel.accessAllowed ? 'block' : 'none';\n",
              "    })();\n",
              "  </script>\n",
              "</div>\n",
              "    </div>\n",
              "  </div>\n"
            ],
            "application/vnd.google.colaboratory.intrinsic+json": {
              "type": "dataframe",
              "variable_name": "x_train",
              "summary": "{\n  \"name\": \"x_train\",\n  \"rows\": 1070,\n  \"fields\": [\n    {\n      \"column\": \"age\",\n      \"properties\": {\n        \"dtype\": \"number\",\n        \"std\": 14,\n        \"min\": 18,\n        \"max\": 64,\n        \"num_unique_values\": 47,\n        \"samples\": [\n          35,\n          33,\n          20\n        ],\n        \"semantic_type\": \"\",\n        \"description\": \"\"\n      }\n    },\n    {\n      \"column\": \"bmi\",\n      \"properties\": {\n        \"dtype\": \"number\",\n        \"std\": 6.043385672727495,\n        \"min\": 15.96,\n        \"max\": 53.13,\n        \"num_unique_values\": 494,\n        \"samples\": [\n          27.3,\n          31.35,\n          21.66\n        ],\n        \"semantic_type\": \"\",\n        \"description\": \"\"\n      }\n    },\n    {\n      \"column\": \"children\",\n      \"properties\": {\n        \"dtype\": \"number\",\n        \"std\": 1,\n        \"min\": 0,\n        \"max\": 5,\n        \"num_unique_values\": 6,\n        \"samples\": [\n          2,\n          0,\n          4\n        ],\n        \"semantic_type\": \"\",\n        \"description\": \"\"\n      }\n    },\n    {\n      \"column\": \"sex_female\",\n      \"properties\": {\n        \"dtype\": \"uint8\",\n        \"num_unique_values\": 2,\n        \"samples\": [\n          0,\n          1\n        ],\n        \"semantic_type\": \"\",\n        \"description\": \"\"\n      }\n    },\n    {\n      \"column\": \"sex_male\",\n      \"properties\": {\n        \"dtype\": \"uint8\",\n        \"num_unique_values\": 2,\n        \"samples\": [\n          1,\n          0\n        ],\n        \"semantic_type\": \"\",\n        \"description\": \"\"\n      }\n    },\n    {\n      \"column\": \"smoker_no\",\n      \"properties\": {\n        \"dtype\": \"uint8\",\n        \"num_unique_values\": 2,\n        \"samples\": [\n          0,\n          1\n        ],\n        \"semantic_type\": \"\",\n        \"description\": \"\"\n      }\n    },\n    {\n      \"column\": \"smoker_yes\",\n      \"properties\": {\n        \"dtype\": \"uint8\",\n        \"num_unique_values\": 2,\n        \"samples\": [\n          1,\n          0\n        ],\n        \"semantic_type\": \"\",\n        \"description\": \"\"\n      }\n    },\n    {\n      \"column\": \"region_northeast\",\n      \"properties\": {\n        \"dtype\": \"uint8\",\n        \"num_unique_values\": 2,\n        \"samples\": [\n          1,\n          0\n        ],\n        \"semantic_type\": \"\",\n        \"description\": \"\"\n      }\n    },\n    {\n      \"column\": \"region_northwest\",\n      \"properties\": {\n        \"dtype\": \"uint8\",\n        \"num_unique_values\": 2,\n        \"samples\": [\n          0,\n          1\n        ],\n        \"semantic_type\": \"\",\n        \"description\": \"\"\n      }\n    },\n    {\n      \"column\": \"region_southeast\",\n      \"properties\": {\n        \"dtype\": \"uint8\",\n        \"num_unique_values\": 2,\n        \"samples\": [\n          1,\n          0\n        ],\n        \"semantic_type\": \"\",\n        \"description\": \"\"\n      }\n    },\n    {\n      \"column\": \"region_southwest\",\n      \"properties\": {\n        \"dtype\": \"uint8\",\n        \"num_unique_values\": 2,\n        \"samples\": [\n          1,\n          0\n        ],\n        \"semantic_type\": \"\",\n        \"description\": \"\"\n      }\n    }\n  ]\n}"
            }
          },
          "metadata": {},
          "execution_count": 96
        }
      ]
    },
    {
      "cell_type": "code",
      "source": [
        "# Build a neural network (sort of like model_2 above)\n",
        "tf.random.set_seed(42)\n",
        "\n",
        "# 1. Create the model\n",
        "insurance_model = tf.keras.Sequential([\n",
        "    tf.keras.layers.Dense(100, activation=\"relu\"),\n",
        "    tf.keras.layers.Dense(100),\n",
        "    tf.keras.layers.Dense(10)\n",
        "])\n",
        "\n",
        "# 2. Compile the model\n",
        "insurance_model.compile(loss=mae,\n",
        "                        optimizer = tf.keras.optimizers.Adam(lr = 0.01),\n",
        "                        metrics=[\"mae\"])\n",
        "\n",
        "# 3. Fit the model\n",
        "history_insurance = insurance_model.fit(x_train, y_train, epochs=500, verbose=0)"
      ],
      "metadata": {
        "colab": {
          "base_uri": "https://localhost:8080/"
        },
        "id": "5XLrX5IaYl92",
        "outputId": "53542e45-ad51-43bb-9653-0ed59b259fe3"
      },
      "execution_count": 97,
      "outputs": [
        {
          "output_type": "stream",
          "name": "stderr",
          "text": [
            "WARNING:absl:`lr` is deprecated in Keras optimizer, please use `learning_rate` or use the legacy optimizer, e.g.,tf.keras.optimizers.legacy.Adam.\n"
          ]
        }
      ]
    },
    {
      "cell_type": "code",
      "source": [
        "# Check the result on test data\n",
        "insurance_model.evaluate(x_test, y_test)"
      ],
      "metadata": {
        "colab": {
          "base_uri": "https://localhost:8080/"
        },
        "id": "phMxyV6adIEN",
        "outputId": "3f0b020b-db90-4192-cf5c-9deffa848914"
      },
      "execution_count": 98,
      "outputs": [
        {
          "output_type": "stream",
          "name": "stdout",
          "text": [
            "9/9 [==============================] - 0s 2ms/step - loss: 1779.7366 - mae: 1779.7366\n"
          ]
        },
        {
          "output_type": "execute_result",
          "data": {
            "text/plain": [
              "[1779.736572265625, 1779.736572265625]"
            ]
          },
          "metadata": {},
          "execution_count": 98
        }
      ]
    },
    {
      "cell_type": "code",
      "source": [
        "y_train.median(), y_train.mean()"
      ],
      "metadata": {
        "colab": {
          "base_uri": "https://localhost:8080/"
        },
        "id": "LMjdD18adchB",
        "outputId": "a9164245-69a4-4961-b2a1-3fad9fe667dd"
      },
      "execution_count": 99,
      "outputs": [
        {
          "output_type": "execute_result",
          "data": {
            "text/plain": [
              "(9575.4421, 13346.089736364485)"
            ]
          },
          "metadata": {},
          "execution_count": 99
        }
      ]
    },
    {
      "cell_type": "code",
      "source": [
        "# Plot history (loss curve a or training curve)\n",
        "pd.DataFrame(history_insurance.history).plot()\n",
        "plt.title(\"model accuracy\")\n",
        "plt.ylabel(\"loss\")\n",
        "plt.xlabel(\"epochs\")"
      ],
      "metadata": {
        "colab": {
          "base_uri": "https://localhost:8080/",
          "height": 489
        },
        "id": "PJFfUJr5lhOC",
        "outputId": "68499cd0-fc41-4338-ffa8-e40fa1ab6310"
      },
      "execution_count": 100,
      "outputs": [
        {
          "output_type": "execute_result",
          "data": {
            "text/plain": [
              "Text(0.5, 0, 'epochs')"
            ]
          },
          "metadata": {},
          "execution_count": 100
        },
        {
          "output_type": "display_data",
          "data": {
            "text/plain": [
              "<Figure size 640x480 with 1 Axes>"
            ],
            "image/png": "[encoded data removed]"
          },
          "metadata": {}
        }
      ]
    },
    {
      "cell_type": "markdown",
      "source": [
        "### EarlyStopping Callback\n",
        "\n",
        "The beautiful answer from TensorFlow to ml engginer for how long we should train or model"
      ],
      "metadata": {
        "id": "PeKm1dz8v7xS"
      }
    },
    {
      "cell_type": "markdown",
      "source": [
        "## Preprocessing data (normalization and standardization)\n",
        "\n",
        "In term of scalling values, neural networks tend to prefer normalization.\n",
        "\n"
      ],
      "metadata": {
        "id": "-zpaI6r4BZEq"
      }
    },
    {
      "cell_type": "code",
      "source": [
        "x[\"age\"].plot(kind=\"hist\")"
      ],
      "metadata": {
        "id": "QnPtSmjFvtkz",
        "colab": {
          "base_uri": "https://localhost:8080/",
          "height": 447
        },
        "outputId": "c41fb73a-8519-444d-ff19-6797251135e1"
      },
      "execution_count": 101,
      "outputs": [
        {
          "output_type": "execute_result",
          "data": {
            "text/plain": [
              "<Axes: ylabel='Frequency'>"
            ]
          },
          "metadata": {},
          "execution_count": 101
        },
        {
          "output_type": "display_data",
          "data": {
            "text/plain": [
              "<Figure size 640x480 with 1 Axes>"
            ],
            "image/png": "[encoded data removed]"
          },
          "metadata": {}
        }
      ]
    },
    {
      "cell_type": "code",
      "source": [
        "x[\"bmi\"].plot(kind=\"hist\")"
      ],
      "metadata": {
        "colab": {
          "base_uri": "https://localhost:8080/",
          "height": 447
        },
        "id": "rBSz4yk0AfqQ",
        "outputId": "5832f08f-a787-49f4-eb2d-1e76928982ab"
      },
      "execution_count": 102,
      "outputs": [
        {
          "output_type": "execute_result",
          "data": {
            "text/plain": [
              "<Axes: ylabel='Frequency'>"
            ]
          },
          "metadata": {},
          "execution_count": 102
        },
        {
          "output_type": "display_data",
          "data": {
            "text/plain": [
              "<Figure size 640x480 with 1 Axes>"
            ],
            "image/png": "[encoded data removed]"
          },
          "metadata": {}
        }
      ]
    },
    {
      "cell_type": "code",
      "source": [
        "import pandas as pd\n",
        "import matplotlib.pyplot as plt\n",
        "import tensorflow as tf\n",
        "\n",
        "# Read in the insurance dataframe\n",
        "insurance = pd.read_csv(\"https://raw.githubusercontent.com/stedy/Machine-Learning-with-R-datasets/master/insurance.csv\")\n",
        "insurance"
      ],
      "metadata": {
        "colab": {
          "base_uri": "https://localhost:8080/",
          "height": 424
        },
        "id": "s8H0ZQaKFTe7",
        "outputId": "a3b8459c-4931-4523-b6e9-0aa60454043a"
      },
      "execution_count": 103,
      "outputs": [
        {
          "output_type": "execute_result",
          "data": {
            "text/plain": [
              "      age     sex     bmi  children smoker     region      charges\n",
              "0      19  female  27.900         0    yes  southwest  16884.92400\n",
              "1      18    male  33.770         1     no  southeast   1725.55230\n",
              "2      28    male  33.000         3     no  southeast   4449.46200\n",
              "3      33    male  22.705         0     no  northwest  21984.47061\n",
              "4      32    male  28.880         0     no  northwest   3866.85520\n",
              "...   ...     ...     ...       ...    ...        ...          ...\n",
              "1333   50    male  30.970         3     no  northwest  10600.54830\n",
              "1334   18  female  31.920         0     no  northeast   2205.98080\n",
              "1335   18  female  36.850         0     no  southeast   1629.83350\n",
              "1336   21  female  25.800         0     no  southwest   2007.94500\n",
              "1337   61  female  29.070         0    yes  northwest  29141.36030\n",
              "\n",
              "[1338 rows x 7 columns]"
            ],
            "text/html": [
              "\n",
              "  <div id=\"df-f414faf1-9003-4973-aa3a-af8411e77694\" class=\"colab-df-container\">\n",
              "    <div>\n",
              "<style scoped>\n",
              "    .dataframe tbody tr th:only-of-type {\n",
              "        vertical-align: middle;\n",
              "    }\n",
              "\n",
              "    .dataframe tbody tr th {\n",
              "        vertical-align: top;\n",
              "    }\n",
              "\n",
              "    .dataframe thead th {\n",
              "        text-align: right;\n",
              "    }\n",
              "</style>\n",
              "<table border=\"1\" class=\"dataframe\">\n",
              "  <thead>\n",
              "    <tr style=\"text-align: right;\">\n",
              "      <th></th>\n",
              "      <th>age</th>\n",
              "      <th>sex</th>\n",
              "      <th>bmi</th>\n",
              "      <th>children</th>\n",
              "      <th>smoker</th>\n",
              "      <th>region</th>\n",
              "      <th>charges</th>\n",
              "    </tr>\n",
              "  </thead>\n",
              "  <tbody>\n",
              "    <tr>\n",
              "      <th>0</th>\n",
              "      <td>19</td>\n",
              "      <td>female</td>\n",
              "      <td>27.900</td>\n",
              "      <td>0</td>\n",
              "      <td>yes</td>\n",
              "      <td>southwest</td>\n",
              "      <td>16884.92400</td>\n",
              "    </tr>\n",
              "    <tr>\n",
              "      <th>1</th>\n",
              "      <td>18</td>\n",
              "      <td>male</td>\n",
              "      <td>33.770</td>\n",
              "      <td>1</td>\n",
              "      <td>no</td>\n",
              "      <td>southeast</td>\n",
              "      <td>1725.55230</td>\n",
              "    </tr>\n",
              "    <tr>\n",
              "      <th>2</th>\n",
              "      <td>28</td>\n",
              "      <td>male</td>\n",
              "      <td>33.000</td>\n",
              "      <td>3</td>\n",
              "      <td>no</td>\n",
              "      <td>southeast</td>\n",
              "      <td>4449.46200</td>\n",
              "    </tr>\n",
              "    <tr>\n",
              "      <th>3</th>\n",
              "      <td>33</td>\n",
              "      <td>male</td>\n",
              "      <td>22.705</td>\n",
              "      <td>0</td>\n",
              "      <td>no</td>\n",
              "      <td>northwest</td>\n",
              "      <td>21984.47061</td>\n",
              "    </tr>\n",
              "    <tr>\n",
              "      <th>4</th>\n",
              "      <td>32</td>\n",
              "      <td>male</td>\n",
              "      <td>28.880</td>\n",
              "      <td>0</td>\n",
              "      <td>no</td>\n",
              "      <td>northwest</td>\n",
              "      <td>3866.85520</td>\n",
              "    </tr>\n",
              "    <tr>\n",
              "      <th>...</th>\n",
              "      <td>...</td>\n",
              "      <td>...</td>\n",
              "      <td>...</td>\n",
              "      <td>...</td>\n",
              "      <td>...</td>\n",
              "      <td>...</td>\n",
              "      <td>...</td>\n",
              "    </tr>\n",
              "    <tr>\n",
              "      <th>1333</th>\n",
              "      <td>50</td>\n",
              "      <td>male</td>\n",
              "      <td>30.970</td>\n",
              "      <td>3</td>\n",
              "      <td>no</td>\n",
              "      <td>northwest</td>\n",
              "      <td>10600.54830</td>\n",
              "    </tr>\n",
              "    <tr>\n",
              "      <th>1334</th>\n",
              "      <td>18</td>\n",
              "      <td>female</td>\n",
              "      <td>31.920</td>\n",
              "      <td>0</td>\n",
              "      <td>no</td>\n",
              "      <td>northeast</td>\n",
              "      <td>2205.98080</td>\n",
              "    </tr>\n",
              "    <tr>\n",
              "      <th>1335</th>\n",
              "      <td>18</td>\n",
              "      <td>female</td>\n",
              "      <td>36.850</td>\n",
              "      <td>0</td>\n",
              "      <td>no</td>\n",
              "      <td>southeast</td>\n",
              "      <td>1629.83350</td>\n",
              "    </tr>\n",
              "    <tr>\n",
              "      <th>1336</th>\n",
              "      <td>21</td>\n",
              "      <td>female</td>\n",
              "      <td>25.800</td>\n",
              "      <td>0</td>\n",
              "      <td>no</td>\n",
              "      <td>southwest</td>\n",
              "      <td>2007.94500</td>\n",
              "    </tr>\n",
              "    <tr>\n",
              "      <th>1337</th>\n",
              "      <td>61</td>\n",
              "      <td>female</td>\n",
              "      <td>29.070</td>\n",
              "      <td>0</td>\n",
              "      <td>yes</td>\n",
              "      <td>northwest</td>\n",
              "      <td>29141.36030</td>\n",
              "    </tr>\n",
              "  </tbody>\n",
              "</table>\n",
              "<p>1338 rows × 7 columns</p>\n",
              "</div>\n",
              "    <div class=\"colab-df-buttons\">\n",
              "\n",
              "  <div class=\"colab-df-container\">\n",
              "    <button class=\"colab-df-convert\" onclick=\"convertToInteractive('df-f414faf1-9003-4973-aa3a-af8411e77694')\"\n",
              "            title=\"Convert this dataframe to an interactive table.\"\n",
              "            style=\"display:none;\">\n",
              "\n",
              "  <svg xmlns=\"http://www.w3.org/2000/svg\" height=\"24px\" viewBox=\"0 -960 960 960\">\n",
              "    <path d=\"M120-120v-720h720v720H120Zm60-500h600v-160H180v160Zm220 220h160v-160H400v160Zm0 220h160v-160H400v160ZM180-400h160v-160H180v160Zm440 0h160v-160H620v160ZM180-180h160v-160H180v160Zm440 0h160v-160H620v160Z\"/>\n",
              "  </svg>\n",
              "    </button>\n",
              "\n",
              "  <style>\n",
              "    .colab-df-container {\n",
              "      display:flex;\n",
              "      gap: 12px;\n",
              "    }\n",
              "\n",
              "    .colab-df-convert {\n",
              "      background-color: #E8F0FE;\n",
              "      border: none;\n",
              "      border-radius: 50%;\n",
              "      cursor: pointer;\n",
              "      display: none;\n",
              "      fill: #1967D2;\n",
              "      height: 32px;\n",
              "      padding: 0 0 0 0;\n",
              "      width: 32px;\n",
              "    }\n",
              "\n",
              "    .colab-df-convert:hover {\n",
              "      background-color: #E2EBFA;\n",
              "      box-shadow: 0px 1px 2px rgba(60, 64, 67, 0.3), 0px 1px 3px 1px rgba(60, 64, 67, 0.15);\n",
              "      fill: #174EA6;\n",
              "    }\n",
              "\n",
              "    .colab-df-buttons div {\n",
              "      margin-bottom: 4px;\n",
              "    }\n",
              "\n",
              "    [theme=dark] .colab-df-convert {\n",
              "      background-color: #3B4455;\n",
              "      fill: #D2E3FC;\n",
              "    }\n",
              "\n",
              "    [theme=dark] .colab-df-convert:hover {\n",
              "      background-color: #434B5C;\n",
              "      box-shadow: 0px 1px 3px 1px rgba(0, 0, 0, 0.15);\n",
              "      filter: drop-shadow(0px 1px 2px rgba(0, 0, 0, 0.3));\n",
              "      fill: #FFFFFF;\n",
              "    }\n",
              "  </style>\n",
              "\n",
              "    <script>\n",
              "      const buttonEl =\n",
              "        document.querySelector('#df-f414faf1-9003-4973-aa3a-af8411e77694 button.colab-df-convert');\n",
              "      buttonEl.style.display =\n",
              "        google.colab.kernel.accessAllowed ? 'block' : 'none';\n",
              "\n",
              "      async function convertToInteractive(key) {\n",
              "        const element = document.querySelector('#df-f414faf1-9003-4973-aa3a-af8411e77694');\n",
              "        const dataTable =\n",
              "          await google.colab.kernel.invokeFunction('convertToInteractive',\n",
              "                                                    [key], {});\n",
              "        if (!dataTable) return;\n",
              "\n",
              "        const docLinkHtml = 'Like what you see? Visit the ' +\n",
              "          '<a target=\"_blank\" href=https://colab.research.google.com/notebooks/data_table.ipynb>data table notebook</a>'\n",
              "          + ' to learn more about interactive tables.';\n",
              "        element.innerHTML = '';\n",
              "        dataTable['output_type'] = 'display_data';\n",
              "        await google.colab.output.renderOutput(dataTable, element);\n",
              "        const docLink = document.createElement('div');\n",
              "        docLink.innerHTML = docLinkHtml;\n",
              "        element.appendChild(docLink);\n",
              "      }\n",
              "    </script>\n",
              "  </div>\n",
              "\n",
              "\n",
              "<div id=\"df-46b4f03f-17dd-4b32-9f8d-d4afbbc2061b\">\n",
              "  <button class=\"colab-df-quickchart\" onclick=\"quickchart('df-46b4f03f-17dd-4b32-9f8d-d4afbbc2061b')\"\n",
              "            title=\"Suggest charts\"\n",
              "            style=\"display:none;\">\n",
              "\n",
              "<svg xmlns=\"http://www.w3.org/2000/svg\" height=\"24px\"viewBox=\"0 0 24 24\"\n",
              "     width=\"24px\">\n",
              "    <g>\n",
              "        <path d=\"M19 3H5c-1.1 0-2 .9-2 2v14c0 1.1.9 2 2 2h14c1.1 0 2-.9 2-2V5c0-1.1-.9-2-2-2zM9 17H7v-7h2v7zm4 0h-2V7h2v10zm4 0h-2v-4h2v4z\"/>\n",
              "    </g>\n",
              "</svg>\n",
              "  </button>\n",
              "\n",
              "<style>\n",
              "  .colab-df-quickchart {\n",
              "      --bg-color: #E8F0FE;\n",
              "      --fill-color: #1967D2;\n",
              "      --hover-bg-color: #E2EBFA;\n",
              "      --hover-fill-color: #174EA6;\n",
              "      --disabled-fill-color: #AAA;\n",
              "      --disabled-bg-color: #DDD;\n",
              "  }\n",
              "\n",
              "  [theme=dark] .colab-df-quickchart {\n",
              "      --bg-color: #3B4455;\n",
              "      --fill-color: #D2E3FC;\n",
              "      --hover-bg-color: #434B5C;\n",
              "      --hover-fill-color: #FFFFFF;\n",
              "      --disabled-bg-color: #3B4455;\n",
              "      --disabled-fill-color: #666;\n",
              "  }\n",
              "\n",
              "  .colab-df-quickchart {\n",
              "    background-color: var(--bg-color);\n",
              "    border: none;\n",
              "    border-radius: 50%;\n",
              "    cursor: pointer;\n",
              "    display: none;\n",
              "    fill: var(--fill-color);\n",
              "    height: 32px;\n",
              "    padding: 0;\n",
              "    width: 32px;\n",
              "  }\n",
              "\n",
              "  .colab-df-quickchart:hover {\n",
              "    background-color: var(--hover-bg-color);\n",
              "    box-shadow: 0 1px 2px rgba(60, 64, 67, 0.3), 0 1px 3px 1px rgba(60, 64, 67, 0.15);\n",
              "    fill: var(--button-hover-fill-color);\n",
              "  }\n",
              "\n",
              "  .colab-df-quickchart-complete:disabled,\n",
              "  .colab-df-quickchart-complete:disabled:hover {\n",
              "    background-color: var(--disabled-bg-color);\n",
              "    fill: var(--disabled-fill-color);\n",
              "    box-shadow: none;\n",
              "  }\n",
              "\n",
              "  .colab-df-spinner {\n",
              "    border: 2px solid var(--fill-color);\n",
              "    border-color: transparent;\n",
              "    border-bottom-color: var(--fill-color);\n",
              "    animation:\n",
              "      spin 1s steps(1) infinite;\n",
              "  }\n",
              "\n",
              "  @keyframes spin {\n",
              "    0% {\n",
              "      border-color: transparent;\n",
              "      border-bottom-color: var(--fill-color);\n",
              "      border-left-color: var(--fill-color);\n",
              "    }\n",
              "    20% {\n",
              "      border-color: transparent;\n",
              "      border-left-color: var(--fill-color);\n",
              "      border-top-color: var(--fill-color);\n",
              "    }\n",
              "    30% {\n",
              "      border-color: transparent;\n",
              "      border-left-color: var(--fill-color);\n",
              "      border-top-color: var(--fill-color);\n",
              "      border-right-color: var(--fill-color);\n",
              "    }\n",
              "    40% {\n",
              "      border-color: transparent;\n",
              "      border-right-color: var(--fill-color);\n",
              "      border-top-color: var(--fill-color);\n",
              "    }\n",
              "    60% {\n",
              "      border-color: transparent;\n",
              "      border-right-color: var(--fill-color);\n",
              "    }\n",
              "    80% {\n",
              "      border-color: transparent;\n",
              "      border-right-color: var(--fill-color);\n",
              "      border-bottom-color: var(--fill-color);\n",
              "    }\n",
              "    90% {\n",
              "      border-color: transparent;\n",
              "      border-bottom-color: var(--fill-color);\n",
              "    }\n",
              "  }\n",
              "</style>\n",
              "\n",
              "  <script>\n",
              "    async function quickchart(key) {\n",
              "      const quickchartButtonEl =\n",
              "        document.querySelector('#' + key + ' button');\n",
              "      quickchartButtonEl.disabled = true;  // To prevent multiple clicks.\n",
              "      quickchartButtonEl.classList.add('colab-df-spinner');\n",
              "      try {\n",
              "        const charts = await google.colab.kernel.invokeFunction(\n",
              "            'suggestCharts', [key], {});\n",
              "      } catch (error) {\n",
              "        console.error('Error during call to suggestCharts:', error);\n",
              "      }\n",
              "      quickchartButtonEl.classList.remove('colab-df-spinner');\n",
              "      quickchartButtonEl.classList.add('colab-df-quickchart-complete');\n",
              "    }\n",
              "    (() => {\n",
              "      let quickchartButtonEl =\n",
              "        document.querySelector('#df-46b4f03f-17dd-4b32-9f8d-d4afbbc2061b button');\n",
              "      quickchartButtonEl.style.display =\n",
              "        google.colab.kernel.accessAllowed ? 'block' : 'none';\n",
              "    })();\n",
              "  </script>\n",
              "</div>\n",
              "    </div>\n",
              "  </div>\n"
            ],
            "application/vnd.google.colaboratory.intrinsic+json": {
              "type": "dataframe",
              "variable_name": "insurance",
              "summary": "{\n  \"name\": \"insurance\",\n  \"rows\": 1338,\n  \"fields\": [\n    {\n      \"column\": \"age\",\n      \"properties\": {\n        \"dtype\": \"number\",\n        \"std\": 14,\n        \"min\": 18,\n        \"max\": 64,\n        \"num_unique_values\": 47,\n        \"samples\": [\n          21,\n          45,\n          36\n        ],\n        \"semantic_type\": \"\",\n        \"description\": \"\"\n      }\n    },\n    {\n      \"column\": \"sex\",\n      \"properties\": {\n        \"dtype\": \"category\",\n        \"num_unique_values\": 2,\n        \"samples\": [\n          \"male\",\n          \"female\"\n        ],\n        \"semantic_type\": \"\",\n        \"description\": \"\"\n      }\n    },\n    {\n      \"column\": \"bmi\",\n      \"properties\": {\n        \"dtype\": \"number\",\n        \"std\": 6.098186911679014,\n        \"min\": 15.96,\n        \"max\": 53.13,\n        \"num_unique_values\": 548,\n        \"samples\": [\n          23.18,\n          26.885\n        ],\n        \"semantic_type\": \"\",\n        \"description\": \"\"\n      }\n    },\n    {\n      \"column\": \"children\",\n      \"properties\": {\n        \"dtype\": \"number\",\n        \"std\": 1,\n        \"min\": 0,\n        \"max\": 5,\n        \"num_unique_values\": 6,\n        \"samples\": [\n          0,\n          1\n        ],\n        \"semantic_type\": \"\",\n        \"description\": \"\"\n      }\n    },\n    {\n      \"column\": \"smoker\",\n      \"properties\": {\n        \"dtype\": \"category\",\n        \"num_unique_values\": 2,\n        \"samples\": [\n          \"no\",\n          \"yes\"\n        ],\n        \"semantic_type\": \"\",\n        \"description\": \"\"\n      }\n    },\n    {\n      \"column\": \"region\",\n      \"properties\": {\n        \"dtype\": \"category\",\n        \"num_unique_values\": 4,\n        \"samples\": [\n          \"southeast\",\n          \"northeast\"\n        ],\n        \"semantic_type\": \"\",\n        \"description\": \"\"\n      }\n    },\n    {\n      \"column\": \"charges\",\n      \"properties\": {\n        \"dtype\": \"number\",\n        \"std\": 12110.011236694001,\n        \"min\": 1121.8739,\n        \"max\": 63770.42801,\n        \"num_unique_values\": 1337,\n        \"samples\": [\n          8688.85885,\n          5708.867\n        ],\n        \"semantic_type\": \"\",\n        \"description\": \"\"\n      }\n    }\n  ]\n}"
            }
          },
          "metadata": {},
          "execution_count": 103
        }
      ]
    },
    {
      "cell_type": "code",
      "source": [
        "from sklearn.compose import make_column_transformer\n",
        "from sklearn.preprocessing import MinMaxScaler, OneHotEncoder\n",
        "from sklearn.model_selection import train_test_split"
      ],
      "metadata": {
        "id": "NBDm23OCMkKI"
      },
      "execution_count": 104,
      "outputs": []
    },
    {
      "cell_type": "code",
      "source": [
        "# Create a column transformer\n",
        "ct = make_column_transformer(\n",
        "    (MinMaxScaler(), [\"age\", \"bmi\", \"children\"]), # turn all values in these columns to between 0 and 1\n",
        "    (OneHotEncoder(handle_unknown=\"ignore\"), [\"sex\", \"smoker\", \"region\"])\n",
        ")"
      ],
      "metadata": {
        "id": "Rrg8G2CJM0s1"
      },
      "execution_count": 105,
      "outputs": []
    },
    {
      "cell_type": "code",
      "source": [
        "# Create our X and Y values\n",
        "x = insurance.drop(\"charges\", axis=1)\n",
        "y = insurance[\"charges\"]"
      ],
      "metadata": {
        "id": "9QN509EkNrFg"
      },
      "execution_count": 106,
      "outputs": []
    },
    {
      "cell_type": "code",
      "source": [
        "# Build our train and test sets\n",
        "x_train, x_test, y_train, y_test = train_test_split(x, y, test_size=0.2, random_state=42)"
      ],
      "metadata": {
        "id": "CgLEhqHON0g2"
      },
      "execution_count": 107,
      "outputs": []
    },
    {
      "cell_type": "code",
      "source": [
        "# Fit the column transformer to out training data\n",
        "ct.fit(x_train)\n",
        "\n",
        "# Transform training and test data with normalization (MinMaxScaler) and OneHotEncode\n",
        "x_train_normal = ct.transform(x_train)\n",
        "x_test_normal = ct.transform(x_test)"
      ],
      "metadata": {
        "id": "45FGyPzKObWO"
      },
      "execution_count": 108,
      "outputs": []
    },
    {
      "cell_type": "code",
      "source": [
        "# What does our data look like now\n",
        "x_train.loc[0]"
      ],
      "metadata": {
        "colab": {
          "base_uri": "https://localhost:8080/"
        },
        "id": "4LaTEsHOQFx6",
        "outputId": "0e06b5ca-1a58-4969-c53a-771620dd20e0"
      },
      "execution_count": 109,
      "outputs": [
        {
          "output_type": "execute_result",
          "data": {
            "text/plain": [
              "age                19\n",
              "sex            female\n",
              "bmi              27.9\n",
              "children            0\n",
              "smoker            yes\n",
              "region      southwest\n",
              "Name: 0, dtype: object"
            ]
          },
          "metadata": {},
          "execution_count": 109
        }
      ]
    },
    {
      "cell_type": "code",
      "source": [
        "x_train_normal[0]"
      ],
      "metadata": {
        "colab": {
          "base_uri": "https://localhost:8080/"
        },
        "id": "qUXY9b1tQLM3",
        "outputId": "0916cf45-5787-403a-be5e-03a51a9773cc"
      },
      "execution_count": 110,
      "outputs": [
        {
          "output_type": "execute_result",
          "data": {
            "text/plain": [
              "array([0.60869565, 0.10734463, 0.4       , 1.        , 0.        ,\n",
              "       1.        , 0.        , 0.        , 1.        , 0.        ,\n",
              "       0.        ])"
            ]
          },
          "metadata": {},
          "execution_count": 110
        }
      ]
    },
    {
      "cell_type": "code",
      "source": [
        "x_train.shape, x_train_normal.shape"
      ],
      "metadata": {
        "colab": {
          "base_uri": "https://localhost:8080/"
        },
        "id": "NfLbA-9wQedh",
        "outputId": "ee99f3fd-32f9-4f1e-87bc-ffc6e103b295"
      },
      "execution_count": 111,
      "outputs": [
        {
          "output_type": "execute_result",
          "data": {
            "text/plain": [
              "((1070, 6), (1070, 11))"
            ]
          },
          "metadata": {},
          "execution_count": 111
        }
      ]
    },
    {
      "cell_type": "markdown",
      "source": [
        "Our Data has been normalized and one hot encoded\n",
        "Now build the model!"
      ],
      "metadata": {
        "id": "xlbVZP7RQrqr"
      }
    },
    {
      "cell_type": "code",
      "source": [
        "# build the model\n",
        "tf.random.set_seed(42)\n",
        "\n",
        "# 1. Create the model\n",
        "insurance_model_2 = tf.keras.Sequential([\n",
        "    tf.keras.layers.Dense(100, activation=\"relu\"),\n",
        "    tf.keras.layers.Dense(100),\n",
        "    tf.keras.layers.Dense(10)\n",
        "])\n",
        "\n",
        "# 2. Compile the model\n",
        "insurance_model_2.compile(loss=mae,\n",
        "                        optimizer = tf.keras.optimizers.Adam(lr = 0.01),\n",
        "                        metrics=[\"mae\"])\n",
        "\n",
        "# 3. Fit the model\n",
        "history_insurance_2 = insurance_model.fit(x_train_normal, y_train, epochs=500, verbose=0)\n",
        "\n"
      ],
      "metadata": {
        "id": "1eHeWThtQxaT",
        "colab": {
          "base_uri": "https://localhost:8080/"
        },
        "outputId": "1dcc5707-4da2-43c3-dc95-72d881263156"
      },
      "execution_count": 112,
      "outputs": [
        {
          "output_type": "stream",
          "name": "stderr",
          "text": [
            "WARNING:absl:`lr` is deprecated in Keras optimizer, please use `learning_rate` or use the legacy optimizer, e.g.,tf.keras.optimizers.legacy.Adam.\n"
          ]
        }
      ]
    },
    {
      "cell_type": "code",
      "source": [
        "# Check the result on test data\n",
        "insurance_model_2.evaluate(x_test_normal, y_test)"
      ],
      "metadata": {
        "colab": {
          "base_uri": "https://localhost:8080/"
        },
        "id": "X-CVLl6mklAo",
        "outputId": "86413dca-ab77-4f42-b3fa-c5105d26d51c"
      },
      "execution_count": 113,
      "outputs": [
        {
          "output_type": "stream",
          "name": "stdout",
          "text": [
            "9/9 [==============================] - 1s 4ms/step - loss: 12968.3652 - mae: 12968.3652\n"
          ]
        },
        {
          "output_type": "execute_result",
          "data": {
            "text/plain": [
              "[12968.365234375, 12968.365234375]"
            ]
          },
          "metadata": {},
          "execution_count": 113
        }
      ]
    },
    {
      "cell_type": "code",
      "source": [
        "# Plot history (loss curve a or training curve)\n",
        "pd.DataFrame(history_insurance_2.history).plot()\n",
        "plt.title(\"model accuracy normal\")\n",
        "plt.ylabel(\"loss\")\n",
        "plt.xlabel(\"epochs\")"
      ],
      "metadata": {
        "colab": {
          "base_uri": "https://localhost:8080/",
          "height": 489
        },
        "id": "3FseLJ1pk_O-",
        "outputId": "68f1640b-26c2-4bfd-9df9-04a0e3e78caf"
      },
      "execution_count": 114,
      "outputs": [
        {
          "output_type": "execute_result",
          "data": {
            "text/plain": [
              "Text(0.5, 0, 'epochs')"
            ]
          },
          "metadata": {},
          "execution_count": 114
        },
        {
          "output_type": "display_data",
          "data": {
            "text/plain": [
              "<Figure size 640x480 with 1 Axes>"
            ],
            "image/png": "[encoded data removed]"
          },
          "metadata": {}
        }
      ]
    },
    {
      "cell_type": "markdown",
      "source": [
        "## 🛠 01. Neural network regression with TensorFlow Exercises\n",
        "\n",
        "1. Create your own regression dataset (or make the one we created in \"Create data to view and fit\" bigger) and build fit a model to it.\n",
        "2. Try building a neural network with 4 Dense layers and fitting it to your own regression dataset, how does it perform?\n",
        "3. Try and improve the results we got on the insurance dataset, some things you might want to try include:\n",
        "  * Building a larger model (how does one with 4 dense layers go?).\n",
        "  * Increasing the number of units in each layer.\n",
        "  * Lookup the documentation of Adam and find out what the first parameter is, what happens if you increase it by 10x?\n",
        "  * What happens if you train for longer (say 300 epochs instead of 200)?\n",
        "4. Import the Boston pricing dataset from TensorFlow tf.keras.datasets and model it."
      ],
      "metadata": {
        "id": "ydfRzL43_x6x"
      }
    },
    {
      "cell_type": "markdown",
      "source": [
        "### Make the model"
      ],
      "metadata": {
        "id": "jKBgv4RRCgsW"
      }
    },
    {
      "cell_type": "code",
      "source": [
        "# Import dataset\n",
        "salary = pd.read_csv(\"https://raw.githubusercontent.com/GabrielBatavia/Dataset_Ml/master/Salary%20Data.csv\")"
      ],
      "metadata": {
        "id": "hr02_qayAdka"
      },
      "execution_count": 160,
      "outputs": []
    },
    {
      "cell_type": "code",
      "source": [
        "salary.head()"
      ],
      "metadata": {
        "colab": {
          "base_uri": "https://localhost:8080/",
          "height": 206
        },
        "id": "aUrKADbjE96B",
        "outputId": "241755e1-f433-411e-9986-84961e4fbb0f"
      },
      "execution_count": 161,
      "outputs": [
        {
          "output_type": "execute_result",
          "data": {
            "text/plain": [
              "    Age  Gender Education Level          Job Title  Years of Experience  \\\n",
              "0  32.0    Male      Bachelor's  Software Engineer                  5.0   \n",
              "1  28.0  Female        Master's       Data Analyst                  3.0   \n",
              "2  45.0    Male             PhD     Senior Manager                 15.0   \n",
              "3  36.0  Female      Bachelor's    Sales Associate                  7.0   \n",
              "4  52.0    Male        Master's           Director                 20.0   \n",
              "\n",
              "     Salary  \n",
              "0   90000.0  \n",
              "1   65000.0  \n",
              "2  150000.0  \n",
              "3   60000.0  \n",
              "4  200000.0  "
            ],
            "text/html": [
              "\n",
              "  <div id=\"df-b089e9a8-278d-430c-932e-1f0a598dc693\" class=\"colab-df-container\">\n",
              "    <div>\n",
              "<style scoped>\n",
              "    .dataframe tbody tr th:only-of-type {\n",
              "        vertical-align: middle;\n",
              "    }\n",
              "\n",
              "    .dataframe tbody tr th {\n",
              "        vertical-align: top;\n",
              "    }\n",
              "\n",
              "    .dataframe thead th {\n",
              "        text-align: right;\n",
              "    }\n",
              "</style>\n",
              "<table border=\"1\" class=\"dataframe\">\n",
              "  <thead>\n",
              "    <tr style=\"text-align: right;\">\n",
              "      <th></th>\n",
              "      <th>Age</th>\n",
              "      <th>Gender</th>\n",
              "      <th>Education Level</th>\n",
              "      <th>Job Title</th>\n",
              "      <th>Years of Experience</th>\n",
              "      <th>Salary</th>\n",
              "    </tr>\n",
              "  </thead>\n",
              "  <tbody>\n",
              "    <tr>\n",
              "      <th>0</th>\n",
              "      <td>32.0</td>\n",
              "      <td>Male</td>\n",
              "      <td>Bachelor's</td>\n",
              "      <td>Software Engineer</td>\n",
              "      <td>5.0</td>\n",
              "      <td>90000.0</td>\n",
              "    </tr>\n",
              "    <tr>\n",
              "      <th>1</th>\n",
              "      <td>28.0</td>\n",
              "      <td>Female</td>\n",
              "      <td>Master's</td>\n",
              "      <td>Data Analyst</td>\n",
              "      <td>3.0</td>\n",
              "      <td>65000.0</td>\n",
              "    </tr>\n",
              "    <tr>\n",
              "      <th>2</th>\n",
              "      <td>45.0</td>\n",
              "      <td>Male</td>\n",
              "      <td>PhD</td>\n",
              "      <td>Senior Manager</td>\n",
              "      <td>15.0</td>\n",
              "      <td>150000.0</td>\n",
              "    </tr>\n",
              "    <tr>\n",
              "      <th>3</th>\n",
              "      <td>36.0</td>\n",
              "      <td>Female</td>\n",
              "      <td>Bachelor's</td>\n",
              "      <td>Sales Associate</td>\n",
              "      <td>7.0</td>\n",
              "      <td>60000.0</td>\n",
              "    </tr>\n",
              "    <tr>\n",
              "      <th>4</th>\n",
              "      <td>52.0</td>\n",
              "      <td>Male</td>\n",
              "      <td>Master's</td>\n",
              "      <td>Director</td>\n",
              "      <td>20.0</td>\n",
              "      <td>200000.0</td>\n",
              "    </tr>\n",
              "  </tbody>\n",
              "</table>\n",
              "</div>\n",
              "    <div class=\"colab-df-buttons\">\n",
              "\n",
              "  <div class=\"colab-df-container\">\n",
              "    <button class=\"colab-df-convert\" onclick=\"convertToInteractive('df-b089e9a8-278d-430c-932e-1f0a598dc693')\"\n",
              "            title=\"Convert this dataframe to an interactive table.\"\n",
              "            style=\"display:none;\">\n",
              "\n",
              "  <svg xmlns=\"http://www.w3.org/2000/svg\" height=\"24px\" viewBox=\"0 -960 960 960\">\n",
              "    <path d=\"M120-120v-720h720v720H120Zm60-500h600v-160H180v160Zm220 220h160v-160H400v160Zm0 220h160v-160H400v160ZM180-400h160v-160H180v160Zm440 0h160v-160H620v160ZM180-180h160v-160H180v160Zm440 0h160v-160H620v160Z\"/>\n",
              "  </svg>\n",
              "    </button>\n",
              "\n",
              "  <style>\n",
              "    .colab-df-container {\n",
              "      display:flex;\n",
              "      gap: 12px;\n",
              "    }\n",
              "\n",
              "    .colab-df-convert {\n",
              "      background-color: #E8F0FE;\n",
              "      border: none;\n",
              "      border-radius: 50%;\n",
              "      cursor: pointer;\n",
              "      display: none;\n",
              "      fill: #1967D2;\n",
              "      height: 32px;\n",
              "      padding: 0 0 0 0;\n",
              "      width: 32px;\n",
              "    }\n",
              "\n",
              "    .colab-df-convert:hover {\n",
              "      background-color: #E2EBFA;\n",
              "      box-shadow: 0px 1px 2px rgba(60, 64, 67, 0.3), 0px 1px 3px 1px rgba(60, 64, 67, 0.15);\n",
              "      fill: #174EA6;\n",
              "    }\n",
              "\n",
              "    .colab-df-buttons div {\n",
              "      margin-bottom: 4px;\n",
              "    }\n",
              "\n",
              "    [theme=dark] .colab-df-convert {\n",
              "      background-color: #3B4455;\n",
              "      fill: #D2E3FC;\n",
              "    }\n",
              "\n",
              "    [theme=dark] .colab-df-convert:hover {\n",
              "      background-color: #434B5C;\n",
              "      box-shadow: 0px 1px 3px 1px rgba(0, 0, 0, 0.15);\n",
              "      filter: drop-shadow(0px 1px 2px rgba(0, 0, 0, 0.3));\n",
              "      fill: #FFFFFF;\n",
              "    }\n",
              "  </style>\n",
              "\n",
              "    <script>\n",
              "      const buttonEl =\n",
              "        document.querySelector('#df-b089e9a8-278d-430c-932e-1f0a598dc693 button.colab-df-convert');\n",
              "      buttonEl.style.display =\n",
              "        google.colab.kernel.accessAllowed ? 'block' : 'none';\n",
              "\n",
              "      async function convertToInteractive(key) {\n",
              "        const element = document.querySelector('#df-b089e9a8-278d-430c-932e-1f0a598dc693');\n",
              "        const dataTable =\n",
              "          await google.colab.kernel.invokeFunction('convertToInteractive',\n",
              "                                                    [key], {});\n",
              "        if (!dataTable) return;\n",
              "\n",
              "        const docLinkHtml = 'Like what you see? Visit the ' +\n",
              "          '<a target=\"_blank\" href=https://colab.research.google.com/notebooks/data_table.ipynb>data table notebook</a>'\n",
              "          + ' to learn more about interactive tables.';\n",
              "        element.innerHTML = '';\n",
              "        dataTable['output_type'] = 'display_data';\n",
              "        await google.colab.output.renderOutput(dataTable, element);\n",
              "        const docLink = document.createElement('div');\n",
              "        docLink.innerHTML = docLinkHtml;\n",
              "        element.appendChild(docLink);\n",
              "      }\n",
              "    </script>\n",
              "  </div>\n",
              "\n",
              "\n",
              "<div id=\"df-a99e7e9d-2c2c-4b11-8870-bbf0cc9e9479\">\n",
              "  <button class=\"colab-df-quickchart\" onclick=\"quickchart('df-a99e7e9d-2c2c-4b11-8870-bbf0cc9e9479')\"\n",
              "            title=\"Suggest charts\"\n",
              "            style=\"display:none;\">\n",
              "\n",
              "<svg xmlns=\"http://www.w3.org/2000/svg\" height=\"24px\"viewBox=\"0 0 24 24\"\n",
              "     width=\"24px\">\n",
              "    <g>\n",
              "        <path d=\"M19 3H5c-1.1 0-2 .9-2 2v14c0 1.1.9 2 2 2h14c1.1 0 2-.9 2-2V5c0-1.1-.9-2-2-2zM9 17H7v-7h2v7zm4 0h-2V7h2v10zm4 0h-2v-4h2v4z\"/>\n",
              "    </g>\n",
              "</svg>\n",
              "  </button>\n",
              "\n",
              "<style>\n",
              "  .colab-df-quickchart {\n",
              "      --bg-color: #E8F0FE;\n",
              "      --fill-color: #1967D2;\n",
              "      --hover-bg-color: #E2EBFA;\n",
              "      --hover-fill-color: #174EA6;\n",
              "      --disabled-fill-color: #AAA;\n",
              "      --disabled-bg-color: #DDD;\n",
              "  }\n",
              "\n",
              "  [theme=dark] .colab-df-quickchart {\n",
              "      --bg-color: #3B4455;\n",
              "      --fill-color: #D2E3FC;\n",
              "      --hover-bg-color: #434B5C;\n",
              "      --hover-fill-color: #FFFFFF;\n",
              "      --disabled-bg-color: #3B4455;\n",
              "      --disabled-fill-color: #666;\n",
              "  }\n",
              "\n",
              "  .colab-df-quickchart {\n",
              "    background-color: var(--bg-color);\n",
              "    border: none;\n",
              "    border-radius: 50%;\n",
              "    cursor: pointer;\n",
              "    display: none;\n",
              "    fill: var(--fill-color);\n",
              "    height: 32px;\n",
              "    padding: 0;\n",
              "    width: 32px;\n",
              "  }\n",
              "\n",
              "  .colab-df-quickchart:hover {\n",
              "    background-color: var(--hover-bg-color);\n",
              "    box-shadow: 0 1px 2px rgba(60, 64, 67, 0.3), 0 1px 3px 1px rgba(60, 64, 67, 0.15);\n",
              "    fill: var(--button-hover-fill-color);\n",
              "  }\n",
              "\n",
              "  .colab-df-quickchart-complete:disabled,\n",
              "  .colab-df-quickchart-complete:disabled:hover {\n",
              "    background-color: var(--disabled-bg-color);\n",
              "    fill: var(--disabled-fill-color);\n",
              "    box-shadow: none;\n",
              "  }\n",
              "\n",
              "  .colab-df-spinner {\n",
              "    border: 2px solid var(--fill-color);\n",
              "    border-color: transparent;\n",
              "    border-bottom-color: var(--fill-color);\n",
              "    animation:\n",
              "      spin 1s steps(1) infinite;\n",
              "  }\n",
              "\n",
              "  @keyframes spin {\n",
              "    0% {\n",
              "      border-color: transparent;\n",
              "      border-bottom-color: var(--fill-color);\n",
              "      border-left-color: var(--fill-color);\n",
              "    }\n",
              "    20% {\n",
              "      border-color: transparent;\n",
              "      border-left-color: var(--fill-color);\n",
              "      border-top-color: var(--fill-color);\n",
              "    }\n",
              "    30% {\n",
              "      border-color: transparent;\n",
              "      border-left-color: var(--fill-color);\n",
              "      border-top-color: var(--fill-color);\n",
              "      border-right-color: var(--fill-color);\n",
              "    }\n",
              "    40% {\n",
              "      border-color: transparent;\n",
              "      border-right-color: var(--fill-color);\n",
              "      border-top-color: var(--fill-color);\n",
              "    }\n",
              "    60% {\n",
              "      border-color: transparent;\n",
              "      border-right-color: var(--fill-color);\n",
              "    }\n",
              "    80% {\n",
              "      border-color: transparent;\n",
              "      border-right-color: var(--fill-color);\n",
              "      border-bottom-color: var(--fill-color);\n",
              "    }\n",
              "    90% {\n",
              "      border-color: transparent;\n",
              "      border-bottom-color: var(--fill-color);\n",
              "    }\n",
              "  }\n",
              "</style>\n",
              "\n",
              "  <script>\n",
              "    async function quickchart(key) {\n",
              "      const quickchartButtonEl =\n",
              "        document.querySelector('#' + key + ' button');\n",
              "      quickchartButtonEl.disabled = true;  // To prevent multiple clicks.\n",
              "      quickchartButtonEl.classList.add('colab-df-spinner');\n",
              "      try {\n",
              "        const charts = await google.colab.kernel.invokeFunction(\n",
              "            'suggestCharts', [key], {});\n",
              "      } catch (error) {\n",
              "        console.error('Error during call to suggestCharts:', error);\n",
              "      }\n",
              "      quickchartButtonEl.classList.remove('colab-df-spinner');\n",
              "      quickchartButtonEl.classList.add('colab-df-quickchart-complete');\n",
              "    }\n",
              "    (() => {\n",
              "      let quickchartButtonEl =\n",
              "        document.querySelector('#df-a99e7e9d-2c2c-4b11-8870-bbf0cc9e9479 button');\n",
              "      quickchartButtonEl.style.display =\n",
              "        google.colab.kernel.accessAllowed ? 'block' : 'none';\n",
              "    })();\n",
              "  </script>\n",
              "</div>\n",
              "    </div>\n",
              "  </div>\n"
            ],
            "application/vnd.google.colaboratory.intrinsic+json": {
              "type": "dataframe",
              "variable_name": "salary",
              "summary": "{\n  \"name\": \"salary\",\n  \"rows\": 375,\n  \"fields\": [\n    {\n      \"column\": \"Age\",\n      \"properties\": {\n        \"dtype\": \"number\",\n        \"std\": 7.069072938567494,\n        \"min\": 23.0,\n        \"max\": 53.0,\n        \"num_unique_values\": 31,\n        \"samples\": [\n          46.0,\n          33.0,\n          37.0\n        ],\n        \"semantic_type\": \"\",\n        \"description\": \"\"\n      }\n    },\n    {\n      \"column\": \"Gender\",\n      \"properties\": {\n        \"dtype\": \"category\",\n        \"num_unique_values\": 2,\n        \"samples\": [\n          \"Female\",\n          \"Male\"\n        ],\n        \"semantic_type\": \"\",\n        \"description\": \"\"\n      }\n    },\n    {\n      \"column\": \"Education Level\",\n      \"properties\": {\n        \"dtype\": \"category\",\n        \"num_unique_values\": 3,\n        \"samples\": [\n          \"Bachelor's\",\n          \"Master's\"\n        ],\n        \"semantic_type\": \"\",\n        \"description\": \"\"\n      }\n    },\n    {\n      \"column\": \"Job Title\",\n      \"properties\": {\n        \"dtype\": \"category\",\n        \"num_unique_values\": 174,\n        \"samples\": [\n          \"Junior Advertising Coordinator\",\n          \"Junior Product Manager\"\n        ],\n        \"semantic_type\": \"\",\n        \"description\": \"\"\n      }\n    },\n    {\n      \"column\": \"Years of Experience\",\n      \"properties\": {\n        \"dtype\": \"number\",\n        \"std\": 6.557007136414237,\n        \"min\": 0.0,\n        \"max\": 25.0,\n        \"num_unique_values\": 28,\n        \"samples\": [\n          10.0,\n          24.0\n        ],\n        \"semantic_type\": \"\",\n        \"description\": \"\"\n      }\n    },\n    {\n      \"column\": \"Salary\",\n      \"properties\": {\n        \"dtype\": \"number\",\n        \"std\": 48240.013481882655,\n        \"min\": 350.0,\n        \"max\": 250000.0,\n        \"num_unique_values\": 36,\n        \"samples\": [\n          350.0,\n          40000.0\n        ],\n        \"semantic_type\": \"\",\n        \"description\": \"\"\n      }\n    }\n  ]\n}"
            }
          },
          "metadata": {},
          "execution_count": 161
        }
      ]
    },
    {
      "cell_type": "code",
      "source": [
        "# Import\n",
        "from sklearn.compose import make_column_transformer\n",
        "from sklearn.preprocessing import MinMaxScaler, OneHotEncoder\n",
        "from sklearn.model_selection import train_test_split\n",
        "from sklearn.preprocessing import StandardScaler"
      ],
      "metadata": {
        "id": "KJMGr7S6FBvK"
      },
      "execution_count": 117,
      "outputs": []
    },
    {
      "cell_type": "code",
      "source": [
        "salary = salary.drop([\"Job Title\", \"Education Level\"], axis=1)"
      ],
      "metadata": {
        "id": "2oTtvjK2JGI7"
      },
      "execution_count": 162,
      "outputs": []
    },
    {
      "cell_type": "code",
      "source": [
        "salary.head()"
      ],
      "metadata": {
        "colab": {
          "base_uri": "https://localhost:8080/",
          "height": 206
        },
        "id": "v0eTImrBKbJp",
        "outputId": "f329ad40-b9db-4a7a-f6f2-ea36dd5bbd98"
      },
      "execution_count": 163,
      "outputs": [
        {
          "output_type": "execute_result",
          "data": {
            "text/plain": [
              "    Age  Gender  Years of Experience    Salary\n",
              "0  32.0    Male                  5.0   90000.0\n",
              "1  28.0  Female                  3.0   65000.0\n",
              "2  45.0    Male                 15.0  150000.0\n",
              "3  36.0  Female                  7.0   60000.0\n",
              "4  52.0    Male                 20.0  200000.0"
            ],
            "text/html": [
              "\n",
              "  <div id=\"df-544ada14-03f1-46ba-8232-7815fa940338\" class=\"colab-df-container\">\n",
              "    <div>\n",
              "<style scoped>\n",
              "    .dataframe tbody tr th:only-of-type {\n",
              "        vertical-align: middle;\n",
              "    }\n",
              "\n",
              "    .dataframe tbody tr th {\n",
              "        vertical-align: top;\n",
              "    }\n",
              "\n",
              "    .dataframe thead th {\n",
              "        text-align: right;\n",
              "    }\n",
              "</style>\n",
              "<table border=\"1\" class=\"dataframe\">\n",
              "  <thead>\n",
              "    <tr style=\"text-align: right;\">\n",
              "      <th></th>\n",
              "      <th>Age</th>\n",
              "      <th>Gender</th>\n",
              "      <th>Years of Experience</th>\n",
              "      <th>Salary</th>\n",
              "    </tr>\n",
              "  </thead>\n",
              "  <tbody>\n",
              "    <tr>\n",
              "      <th>0</th>\n",
              "      <td>32.0</td>\n",
              "      <td>Male</td>\n",
              "      <td>5.0</td>\n",
              "      <td>90000.0</td>\n",
              "    </tr>\n",
              "    <tr>\n",
              "      <th>1</th>\n",
              "      <td>28.0</td>\n",
              "      <td>Female</td>\n",
              "      <td>3.0</td>\n",
              "      <td>65000.0</td>\n",
              "    </tr>\n",
              "    <tr>\n",
              "      <th>2</th>\n",
              "      <td>45.0</td>\n",
              "      <td>Male</td>\n",
              "      <td>15.0</td>\n",
              "      <td>150000.0</td>\n",
              "    </tr>\n",
              "    <tr>\n",
              "      <th>3</th>\n",
              "      <td>36.0</td>\n",
              "      <td>Female</td>\n",
              "      <td>7.0</td>\n",
              "      <td>60000.0</td>\n",
              "    </tr>\n",
              "    <tr>\n",
              "      <th>4</th>\n",
              "      <td>52.0</td>\n",
              "      <td>Male</td>\n",
              "      <td>20.0</td>\n",
              "      <td>200000.0</td>\n",
              "    </tr>\n",
              "  </tbody>\n",
              "</table>\n",
              "</div>\n",
              "    <div class=\"colab-df-buttons\">\n",
              "\n",
              "  <div class=\"colab-df-container\">\n",
              "    <button class=\"colab-df-convert\" onclick=\"convertToInteractive('df-544ada14-03f1-46ba-8232-7815fa940338')\"\n",
              "            title=\"Convert this dataframe to an interactive table.\"\n",
              "            style=\"display:none;\">\n",
              "\n",
              "  <svg xmlns=\"http://www.w3.org/2000/svg\" height=\"24px\" viewBox=\"0 -960 960 960\">\n",
              "    <path d=\"M120-120v-720h720v720H120Zm60-500h600v-160H180v160Zm220 220h160v-160H400v160Zm0 220h160v-160H400v160ZM180-400h160v-160H180v160Zm440 0h160v-160H620v160ZM180-180h160v-160H180v160Zm440 0h160v-160H620v160Z\"/>\n",
              "  </svg>\n",
              "    </button>\n",
              "\n",
              "  <style>\n",
              "    .colab-df-container {\n",
              "      display:flex;\n",
              "      gap: 12px;\n",
              "    }\n",
              "\n",
              "    .colab-df-convert {\n",
              "      background-color: #E8F0FE;\n",
              "      border: none;\n",
              "      border-radius: 50%;\n",
              "      cursor: pointer;\n",
              "      display: none;\n",
              "      fill: #1967D2;\n",
              "      height: 32px;\n",
              "      padding: 0 0 0 0;\n",
              "      width: 32px;\n",
              "    }\n",
              "\n",
              "    .colab-df-convert:hover {\n",
              "      background-color: #E2EBFA;\n",
              "      box-shadow: 0px 1px 2px rgba(60, 64, 67, 0.3), 0px 1px 3px 1px rgba(60, 64, 67, 0.15);\n",
              "      fill: #174EA6;\n",
              "    }\n",
              "\n",
              "    .colab-df-buttons div {\n",
              "      margin-bottom: 4px;\n",
              "    }\n",
              "\n",
              "    [theme=dark] .colab-df-convert {\n",
              "      background-color: #3B4455;\n",
              "      fill: #D2E3FC;\n",
              "    }\n",
              "\n",
              "    [theme=dark] .colab-df-convert:hover {\n",
              "      background-color: #434B5C;\n",
              "      box-shadow: 0px 1px 3px 1px rgba(0, 0, 0, 0.15);\n",
              "      filter: drop-shadow(0px 1px 2px rgba(0, 0, 0, 0.3));\n",
              "      fill: #FFFFFF;\n",
              "    }\n",
              "  </style>\n",
              "\n",
              "    <script>\n",
              "      const buttonEl =\n",
              "        document.querySelector('#df-544ada14-03f1-46ba-8232-7815fa940338 button.colab-df-convert');\n",
              "      buttonEl.style.display =\n",
              "        google.colab.kernel.accessAllowed ? 'block' : 'none';\n",
              "\n",
              "      async function convertToInteractive(key) {\n",
              "        const element = document.querySelector('#df-544ada14-03f1-46ba-8232-7815fa940338');\n",
              "        const dataTable =\n",
              "          await google.colab.kernel.invokeFunction('convertToInteractive',\n",
              "                                                    [key], {});\n",
              "        if (!dataTable) return;\n",
              "\n",
              "        const docLinkHtml = 'Like what you see? Visit the ' +\n",
              "          '<a target=\"_blank\" href=https://colab.research.google.com/notebooks/data_table.ipynb>data table notebook</a>'\n",
              "          + ' to learn more about interactive tables.';\n",
              "        element.innerHTML = '';\n",
              "        dataTable['output_type'] = 'display_data';\n",
              "        await google.colab.output.renderOutput(dataTable, element);\n",
              "        const docLink = document.createElement('div');\n",
              "        docLink.innerHTML = docLinkHtml;\n",
              "        element.appendChild(docLink);\n",
              "      }\n",
              "    </script>\n",
              "  </div>\n",
              "\n",
              "\n",
              "<div id=\"df-4128ee86-512d-4693-97e6-5ac5399d63ba\">\n",
              "  <button class=\"colab-df-quickchart\" onclick=\"quickchart('df-4128ee86-512d-4693-97e6-5ac5399d63ba')\"\n",
              "            title=\"Suggest charts\"\n",
              "            style=\"display:none;\">\n",
              "\n",
              "<svg xmlns=\"http://www.w3.org/2000/svg\" height=\"24px\"viewBox=\"0 0 24 24\"\n",
              "     width=\"24px\">\n",
              "    <g>\n",
              "        <path d=\"M19 3H5c-1.1 0-2 .9-2 2v14c0 1.1.9 2 2 2h14c1.1 0 2-.9 2-2V5c0-1.1-.9-2-2-2zM9 17H7v-7h2v7zm4 0h-2V7h2v10zm4 0h-2v-4h2v4z\"/>\n",
              "    </g>\n",
              "</svg>\n",
              "  </button>\n",
              "\n",
              "<style>\n",
              "  .colab-df-quickchart {\n",
              "      --bg-color: #E8F0FE;\n",
              "      --fill-color: #1967D2;\n",
              "      --hover-bg-color: #E2EBFA;\n",
              "      --hover-fill-color: #174EA6;\n",
              "      --disabled-fill-color: #AAA;\n",
              "      --disabled-bg-color: #DDD;\n",
              "  }\n",
              "\n",
              "  [theme=dark] .colab-df-quickchart {\n",
              "      --bg-color: #3B4455;\n",
              "      --fill-color: #D2E3FC;\n",
              "      --hover-bg-color: #434B5C;\n",
              "      --hover-fill-color: #FFFFFF;\n",
              "      --disabled-bg-color: #3B4455;\n",
              "      --disabled-fill-color: #666;\n",
              "  }\n",
              "\n",
              "  .colab-df-quickchart {\n",
              "    background-color: var(--bg-color);\n",
              "    border: none;\n",
              "    border-radius: 50%;\n",
              "    cursor: pointer;\n",
              "    display: none;\n",
              "    fill: var(--fill-color);\n",
              "    height: 32px;\n",
              "    padding: 0;\n",
              "    width: 32px;\n",
              "  }\n",
              "\n",
              "  .colab-df-quickchart:hover {\n",
              "    background-color: var(--hover-bg-color);\n",
              "    box-shadow: 0 1px 2px rgba(60, 64, 67, 0.3), 0 1px 3px 1px rgba(60, 64, 67, 0.15);\n",
              "    fill: var(--button-hover-fill-color);\n",
              "  }\n",
              "\n",
              "  .colab-df-quickchart-complete:disabled,\n",
              "  .colab-df-quickchart-complete:disabled:hover {\n",
              "    background-color: var(--disabled-bg-color);\n",
              "    fill: var(--disabled-fill-color);\n",
              "    box-shadow: none;\n",
              "  }\n",
              "\n",
              "  .colab-df-spinner {\n",
              "    border: 2px solid var(--fill-color);\n",
              "    border-color: transparent;\n",
              "    border-bottom-color: var(--fill-color);\n",
              "    animation:\n",
              "      spin 1s steps(1) infinite;\n",
              "  }\n",
              "\n",
              "  @keyframes spin {\n",
              "    0% {\n",
              "      border-color: transparent;\n",
              "      border-bottom-color: var(--fill-color);\n",
              "      border-left-color: var(--fill-color);\n",
              "    }\n",
              "    20% {\n",
              "      border-color: transparent;\n",
              "      border-left-color: var(--fill-color);\n",
              "      border-top-color: var(--fill-color);\n",
              "    }\n",
              "    30% {\n",
              "      border-color: transparent;\n",
              "      border-left-color: var(--fill-color);\n",
              "      border-top-color: var(--fill-color);\n",
              "      border-right-color: var(--fill-color);\n",
              "    }\n",
              "    40% {\n",
              "      border-color: transparent;\n",
              "      border-right-color: var(--fill-color);\n",
              "      border-top-color: var(--fill-color);\n",
              "    }\n",
              "    60% {\n",
              "      border-color: transparent;\n",
              "      border-right-color: var(--fill-color);\n",
              "    }\n",
              "    80% {\n",
              "      border-color: transparent;\n",
              "      border-right-color: var(--fill-color);\n",
              "      border-bottom-color: var(--fill-color);\n",
              "    }\n",
              "    90% {\n",
              "      border-color: transparent;\n",
              "      border-bottom-color: var(--fill-color);\n",
              "    }\n",
              "  }\n",
              "</style>\n",
              "\n",
              "  <script>\n",
              "    async function quickchart(key) {\n",
              "      const quickchartButtonEl =\n",
              "        document.querySelector('#' + key + ' button');\n",
              "      quickchartButtonEl.disabled = true;  // To prevent multiple clicks.\n",
              "      quickchartButtonEl.classList.add('colab-df-spinner');\n",
              "      try {\n",
              "        const charts = await google.colab.kernel.invokeFunction(\n",
              "            'suggestCharts', [key], {});\n",
              "      } catch (error) {\n",
              "        console.error('Error during call to suggestCharts:', error);\n",
              "      }\n",
              "      quickchartButtonEl.classList.remove('colab-df-spinner');\n",
              "      quickchartButtonEl.classList.add('colab-df-quickchart-complete');\n",
              "    }\n",
              "    (() => {\n",
              "      let quickchartButtonEl =\n",
              "        document.querySelector('#df-4128ee86-512d-4693-97e6-5ac5399d63ba button');\n",
              "      quickchartButtonEl.style.display =\n",
              "        google.colab.kernel.accessAllowed ? 'block' : 'none';\n",
              "    })();\n",
              "  </script>\n",
              "</div>\n",
              "    </div>\n",
              "  </div>\n"
            ],
            "application/vnd.google.colaboratory.intrinsic+json": {
              "type": "dataframe",
              "variable_name": "salary",
              "summary": "{\n  \"name\": \"salary\",\n  \"rows\": 375,\n  \"fields\": [\n    {\n      \"column\": \"Age\",\n      \"properties\": {\n        \"dtype\": \"number\",\n        \"std\": 7.069072938567494,\n        \"min\": 23.0,\n        \"max\": 53.0,\n        \"num_unique_values\": 31,\n        \"samples\": [\n          46.0,\n          33.0,\n          37.0\n        ],\n        \"semantic_type\": \"\",\n        \"description\": \"\"\n      }\n    },\n    {\n      \"column\": \"Gender\",\n      \"properties\": {\n        \"dtype\": \"category\",\n        \"num_unique_values\": 2,\n        \"samples\": [\n          \"Female\",\n          \"Male\"\n        ],\n        \"semantic_type\": \"\",\n        \"description\": \"\"\n      }\n    },\n    {\n      \"column\": \"Years of Experience\",\n      \"properties\": {\n        \"dtype\": \"number\",\n        \"std\": 6.557007136414237,\n        \"min\": 0.0,\n        \"max\": 25.0,\n        \"num_unique_values\": 28,\n        \"samples\": [\n          10.0,\n          24.0\n        ],\n        \"semantic_type\": \"\",\n        \"description\": \"\"\n      }\n    },\n    {\n      \"column\": \"Salary\",\n      \"properties\": {\n        \"dtype\": \"number\",\n        \"std\": 48240.013481882655,\n        \"min\": 350.0,\n        \"max\": 250000.0,\n        \"num_unique_values\": 36,\n        \"samples\": [\n          350.0,\n          40000.0\n        ],\n        \"semantic_type\": \"\",\n        \"description\": \"\"\n      }\n    }\n  ]\n}"
            }
          },
          "metadata": {},
          "execution_count": 163
        }
      ]
    },
    {
      "cell_type": "code",
      "source": [
        "# OneHot our dataset using pandas\n",
        "salary_one_hot = pd.get_dummies(salary)\n",
        "salary_one_hot.head()\n"
      ],
      "metadata": {
        "colab": {
          "base_uri": "https://localhost:8080/",
          "height": 206
        },
        "id": "shy4t5ATFfFW",
        "outputId": "ff7b38af-3139-49b4-f124-27fbe6be4d8a"
      },
      "execution_count": 164,
      "outputs": [
        {
          "output_type": "execute_result",
          "data": {
            "text/plain": [
              "    Age  Years of Experience    Salary  Gender_Female  Gender_Male\n",
              "0  32.0                  5.0   90000.0              0            1\n",
              "1  28.0                  3.0   65000.0              1            0\n",
              "2  45.0                 15.0  150000.0              0            1\n",
              "3  36.0                  7.0   60000.0              1            0\n",
              "4  52.0                 20.0  200000.0              0            1"
            ],
            "text/html": [
              "\n",
              "  <div id=\"df-3eb0205c-d047-4941-a42a-2eeefd05c8a5\" class=\"colab-df-container\">\n",
              "    <div>\n",
              "<style scoped>\n",
              "    .dataframe tbody tr th:only-of-type {\n",
              "        vertical-align: middle;\n",
              "    }\n",
              "\n",
              "    .dataframe tbody tr th {\n",
              "        vertical-align: top;\n",
              "    }\n",
              "\n",
              "    .dataframe thead th {\n",
              "        text-align: right;\n",
              "    }\n",
              "</style>\n",
              "<table border=\"1\" class=\"dataframe\">\n",
              "  <thead>\n",
              "    <tr style=\"text-align: right;\">\n",
              "      <th></th>\n",
              "      <th>Age</th>\n",
              "      <th>Years of Experience</th>\n",
              "      <th>Salary</th>\n",
              "      <th>Gender_Female</th>\n",
              "      <th>Gender_Male</th>\n",
              "    </tr>\n",
              "  </thead>\n",
              "  <tbody>\n",
              "    <tr>\n",
              "      <th>0</th>\n",
              "      <td>32.0</td>\n",
              "      <td>5.0</td>\n",
              "      <td>90000.0</td>\n",
              "      <td>0</td>\n",
              "      <td>1</td>\n",
              "    </tr>\n",
              "    <tr>\n",
              "      <th>1</th>\n",
              "      <td>28.0</td>\n",
              "      <td>3.0</td>\n",
              "      <td>65000.0</td>\n",
              "      <td>1</td>\n",
              "      <td>0</td>\n",
              "    </tr>\n",
              "    <tr>\n",
              "      <th>2</th>\n",
              "      <td>45.0</td>\n",
              "      <td>15.0</td>\n",
              "      <td>150000.0</td>\n",
              "      <td>0</td>\n",
              "      <td>1</td>\n",
              "    </tr>\n",
              "    <tr>\n",
              "      <th>3</th>\n",
              "      <td>36.0</td>\n",
              "      <td>7.0</td>\n",
              "      <td>60000.0</td>\n",
              "      <td>1</td>\n",
              "      <td>0</td>\n",
              "    </tr>\n",
              "    <tr>\n",
              "      <th>4</th>\n",
              "      <td>52.0</td>\n",
              "      <td>20.0</td>\n",
              "      <td>200000.0</td>\n",
              "      <td>0</td>\n",
              "      <td>1</td>\n",
              "    </tr>\n",
              "  </tbody>\n",
              "</table>\n",
              "</div>\n",
              "    <div class=\"colab-df-buttons\">\n",
              "\n",
              "  <div class=\"colab-df-container\">\n",
              "    <button class=\"colab-df-convert\" onclick=\"convertToInteractive('df-3eb0205c-d047-4941-a42a-2eeefd05c8a5')\"\n",
              "            title=\"Convert this dataframe to an interactive table.\"\n",
              "            style=\"display:none;\">\n",
              "\n",
              "  <svg xmlns=\"http://www.w3.org/2000/svg\" height=\"24px\" viewBox=\"0 -960 960 960\">\n",
              "    <path d=\"M120-120v-720h720v720H120Zm60-500h600v-160H180v160Zm220 220h160v-160H400v160Zm0 220h160v-160H400v160ZM180-400h160v-160H180v160Zm440 0h160v-160H620v160ZM180-180h160v-160H180v160Zm440 0h160v-160H620v160Z\"/>\n",
              "  </svg>\n",
              "    </button>\n",
              "\n",
              "  <style>\n",
              "    .colab-df-container {\n",
              "      display:flex;\n",
              "      gap: 12px;\n",
              "    }\n",
              "\n",
              "    .colab-df-convert {\n",
              "      background-color: #E8F0FE;\n",
              "      border: none;\n",
              "      border-radius: 50%;\n",
              "      cursor: pointer;\n",
              "      display: none;\n",
              "      fill: #1967D2;\n",
              "      height: 32px;\n",
              "      padding: 0 0 0 0;\n",
              "      width: 32px;\n",
              "    }\n",
              "\n",
              "    .colab-df-convert:hover {\n",
              "      background-color: #E2EBFA;\n",
              "      box-shadow: 0px 1px 2px rgba(60, 64, 67, 0.3), 0px 1px 3px 1px rgba(60, 64, 67, 0.15);\n",
              "      fill: #174EA6;\n",
              "    }\n",
              "\n",
              "    .colab-df-buttons div {\n",
              "      margin-bottom: 4px;\n",
              "    }\n",
              "\n",
              "    [theme=dark] .colab-df-convert {\n",
              "      background-color: #3B4455;\n",
              "      fill: #D2E3FC;\n",
              "    }\n",
              "\n",
              "    [theme=dark] .colab-df-convert:hover {\n",
              "      background-color: #434B5C;\n",
              "      box-shadow: 0px 1px 3px 1px rgba(0, 0, 0, 0.15);\n",
              "      filter: drop-shadow(0px 1px 2px rgba(0, 0, 0, 0.3));\n",
              "      fill: #FFFFFF;\n",
              "    }\n",
              "  </style>\n",
              "\n",
              "    <script>\n",
              "      const buttonEl =\n",
              "        document.querySelector('#df-3eb0205c-d047-4941-a42a-2eeefd05c8a5 button.colab-df-convert');\n",
              "      buttonEl.style.display =\n",
              "        google.colab.kernel.accessAllowed ? 'block' : 'none';\n",
              "\n",
              "      async function convertToInteractive(key) {\n",
              "        const element = document.querySelector('#df-3eb0205c-d047-4941-a42a-2eeefd05c8a5');\n",
              "        const dataTable =\n",
              "          await google.colab.kernel.invokeFunction('convertToInteractive',\n",
              "                                                    [key], {});\n",
              "        if (!dataTable) return;\n",
              "\n",
              "        const docLinkHtml = 'Like what you see? Visit the ' +\n",
              "          '<a target=\"_blank\" href=https://colab.research.google.com/notebooks/data_table.ipynb>data table notebook</a>'\n",
              "          + ' to learn more about interactive tables.';\n",
              "        element.innerHTML = '';\n",
              "        dataTable['output_type'] = 'display_data';\n",
              "        await google.colab.output.renderOutput(dataTable, element);\n",
              "        const docLink = document.createElement('div');\n",
              "        docLink.innerHTML = docLinkHtml;\n",
              "        element.appendChild(docLink);\n",
              "      }\n",
              "    </script>\n",
              "  </div>\n",
              "\n",
              "\n",
              "<div id=\"df-f9ff33e6-2fba-44c0-b3b5-4135f5f889b2\">\n",
              "  <button class=\"colab-df-quickchart\" onclick=\"quickchart('df-f9ff33e6-2fba-44c0-b3b5-4135f5f889b2')\"\n",
              "            title=\"Suggest charts\"\n",
              "            style=\"display:none;\">\n",
              "\n",
              "<svg xmlns=\"http://www.w3.org/2000/svg\" height=\"24px\"viewBox=\"0 0 24 24\"\n",
              "     width=\"24px\">\n",
              "    <g>\n",
              "        <path d=\"M19 3H5c-1.1 0-2 .9-2 2v14c0 1.1.9 2 2 2h14c1.1 0 2-.9 2-2V5c0-1.1-.9-2-2-2zM9 17H7v-7h2v7zm4 0h-2V7h2v10zm4 0h-2v-4h2v4z\"/>\n",
              "    </g>\n",
              "</svg>\n",
              "  </button>\n",
              "\n",
              "<style>\n",
              "  .colab-df-quickchart {\n",
              "      --bg-color: #E8F0FE;\n",
              "      --fill-color: #1967D2;\n",
              "      --hover-bg-color: #E2EBFA;\n",
              "      --hover-fill-color: #174EA6;\n",
              "      --disabled-fill-color: #AAA;\n",
              "      --disabled-bg-color: #DDD;\n",
              "  }\n",
              "\n",
              "  [theme=dark] .colab-df-quickchart {\n",
              "      --bg-color: #3B4455;\n",
              "      --fill-color: #D2E3FC;\n",
              "      --hover-bg-color: #434B5C;\n",
              "      --hover-fill-color: #FFFFFF;\n",
              "      --disabled-bg-color: #3B4455;\n",
              "      --disabled-fill-color: #666;\n",
              "  }\n",
              "\n",
              "  .colab-df-quickchart {\n",
              "    background-color: var(--bg-color);\n",
              "    border: none;\n",
              "    border-radius: 50%;\n",
              "    cursor: pointer;\n",
              "    display: none;\n",
              "    fill: var(--fill-color);\n",
              "    height: 32px;\n",
              "    padding: 0;\n",
              "    width: 32px;\n",
              "  }\n",
              "\n",
              "  .colab-df-quickchart:hover {\n",
              "    background-color: var(--hover-bg-color);\n",
              "    box-shadow: 0 1px 2px rgba(60, 64, 67, 0.3), 0 1px 3px 1px rgba(60, 64, 67, 0.15);\n",
              "    fill: var(--button-hover-fill-color);\n",
              "  }\n",
              "\n",
              "  .colab-df-quickchart-complete:disabled,\n",
              "  .colab-df-quickchart-complete:disabled:hover {\n",
              "    background-color: var(--disabled-bg-color);\n",
              "    fill: var(--disabled-fill-color);\n",
              "    box-shadow: none;\n",
              "  }\n",
              "\n",
              "  .colab-df-spinner {\n",
              "    border: 2px solid var(--fill-color);\n",
              "    border-color: transparent;\n",
              "    border-bottom-color: var(--fill-color);\n",
              "    animation:\n",
              "      spin 1s steps(1) infinite;\n",
              "  }\n",
              "\n",
              "  @keyframes spin {\n",
              "    0% {\n",
              "      border-color: transparent;\n",
              "      border-bottom-color: var(--fill-color);\n",
              "      border-left-color: var(--fill-color);\n",
              "    }\n",
              "    20% {\n",
              "      border-color: transparent;\n",
              "      border-left-color: var(--fill-color);\n",
              "      border-top-color: var(--fill-color);\n",
              "    }\n",
              "    30% {\n",
              "      border-color: transparent;\n",
              "      border-left-color: var(--fill-color);\n",
              "      border-top-color: var(--fill-color);\n",
              "      border-right-color: var(--fill-color);\n",
              "    }\n",
              "    40% {\n",
              "      border-color: transparent;\n",
              "      border-right-color: var(--fill-color);\n",
              "      border-top-color: var(--fill-color);\n",
              "    }\n",
              "    60% {\n",
              "      border-color: transparent;\n",
              "      border-right-color: var(--fill-color);\n",
              "    }\n",
              "    80% {\n",
              "      border-color: transparent;\n",
              "      border-right-color: var(--fill-color);\n",
              "      border-bottom-color: var(--fill-color);\n",
              "    }\n",
              "    90% {\n",
              "      border-color: transparent;\n",
              "      border-bottom-color: var(--fill-color);\n",
              "    }\n",
              "  }\n",
              "</style>\n",
              "\n",
              "  <script>\n",
              "    async function quickchart(key) {\n",
              "      const quickchartButtonEl =\n",
              "        document.querySelector('#' + key + ' button');\n",
              "      quickchartButtonEl.disabled = true;  // To prevent multiple clicks.\n",
              "      quickchartButtonEl.classList.add('colab-df-spinner');\n",
              "      try {\n",
              "        const charts = await google.colab.kernel.invokeFunction(\n",
              "            'suggestCharts', [key], {});\n",
              "      } catch (error) {\n",
              "        console.error('Error during call to suggestCharts:', error);\n",
              "      }\n",
              "      quickchartButtonEl.classList.remove('colab-df-spinner');\n",
              "      quickchartButtonEl.classList.add('colab-df-quickchart-complete');\n",
              "    }\n",
              "    (() => {\n",
              "      let quickchartButtonEl =\n",
              "        document.querySelector('#df-f9ff33e6-2fba-44c0-b3b5-4135f5f889b2 button');\n",
              "      quickchartButtonEl.style.display =\n",
              "        google.colab.kernel.accessAllowed ? 'block' : 'none';\n",
              "    })();\n",
              "  </script>\n",
              "</div>\n",
              "    </div>\n",
              "  </div>\n"
            ],
            "application/vnd.google.colaboratory.intrinsic+json": {
              "type": "dataframe",
              "variable_name": "salary_one_hot",
              "summary": "{\n  \"name\": \"salary_one_hot\",\n  \"rows\": 375,\n  \"fields\": [\n    {\n      \"column\": \"Age\",\n      \"properties\": {\n        \"dtype\": \"number\",\n        \"std\": 7.069072938567494,\n        \"min\": 23.0,\n        \"max\": 53.0,\n        \"num_unique_values\": 31,\n        \"samples\": [\n          46.0,\n          33.0,\n          37.0\n        ],\n        \"semantic_type\": \"\",\n        \"description\": \"\"\n      }\n    },\n    {\n      \"column\": \"Years of Experience\",\n      \"properties\": {\n        \"dtype\": \"number\",\n        \"std\": 6.557007136414237,\n        \"min\": 0.0,\n        \"max\": 25.0,\n        \"num_unique_values\": 28,\n        \"samples\": [\n          10.0,\n          24.0,\n          1.0\n        ],\n        \"semantic_type\": \"\",\n        \"description\": \"\"\n      }\n    },\n    {\n      \"column\": \"Salary\",\n      \"properties\": {\n        \"dtype\": \"number\",\n        \"std\": 48240.013481882655,\n        \"min\": 350.0,\n        \"max\": 250000.0,\n        \"num_unique_values\": 36,\n        \"samples\": [\n          350.0,\n          40000.0,\n          70000.0\n        ],\n        \"semantic_type\": \"\",\n        \"description\": \"\"\n      }\n    },\n    {\n      \"column\": \"Gender_Female\",\n      \"properties\": {\n        \"dtype\": \"uint8\",\n        \"num_unique_values\": 2,\n        \"samples\": [\n          1,\n          0\n        ],\n        \"semantic_type\": \"\",\n        \"description\": \"\"\n      }\n    },\n    {\n      \"column\": \"Gender_Male\",\n      \"properties\": {\n        \"dtype\": \"uint8\",\n        \"num_unique_values\": 2,\n        \"samples\": [\n          0,\n          1\n        ],\n        \"semantic_type\": \"\",\n        \"description\": \"\"\n      }\n    }\n  ]\n}"
            }
          },
          "metadata": {},
          "execution_count": 164
        }
      ]
    },
    {
      "cell_type": "code",
      "source": [
        "# Create X and Y\n",
        "x = salary_one_hot.drop(\"Salary\", axis=1)\n",
        "y = salary_one_hot[\"Salary\"]"
      ],
      "metadata": {
        "id": "QWmPC1mqGuPO"
      },
      "execution_count": 165,
      "outputs": []
    },
    {
      "cell_type": "code",
      "source": [
        "# view x\n",
        "x.head()"
      ],
      "metadata": {
        "colab": {
          "base_uri": "https://localhost:8080/",
          "height": 206
        },
        "id": "eH5Fmqk8MJgc",
        "outputId": "f5d6fcbd-7b91-4472-c797-695398e946a6"
      },
      "execution_count": 166,
      "outputs": [
        {
          "output_type": "execute_result",
          "data": {
            "text/plain": [
              "    Age  Years of Experience  Gender_Female  Gender_Male\n",
              "0  32.0                  5.0              0            1\n",
              "1  28.0                  3.0              1            0\n",
              "2  45.0                 15.0              0            1\n",
              "3  36.0                  7.0              1            0\n",
              "4  52.0                 20.0              0            1"
            ],
            "text/html": [
              "\n",
              "  <div id=\"df-1557bfa2-8ffa-4e5d-947f-5a1745243466\" class=\"colab-df-container\">\n",
              "    <div>\n",
              "<style scoped>\n",
              "    .dataframe tbody tr th:only-of-type {\n",
              "        vertical-align: middle;\n",
              "    }\n",
              "\n",
              "    .dataframe tbody tr th {\n",
              "        vertical-align: top;\n",
              "    }\n",
              "\n",
              "    .dataframe thead th {\n",
              "        text-align: right;\n",
              "    }\n",
              "</style>\n",
              "<table border=\"1\" class=\"dataframe\">\n",
              "  <thead>\n",
              "    <tr style=\"text-align: right;\">\n",
              "      <th></th>\n",
              "      <th>Age</th>\n",
              "      <th>Years of Experience</th>\n",
              "      <th>Gender_Female</th>\n",
              "      <th>Gender_Male</th>\n",
              "    </tr>\n",
              "  </thead>\n",
              "  <tbody>\n",
              "    <tr>\n",
              "      <th>0</th>\n",
              "      <td>32.0</td>\n",
              "      <td>5.0</td>\n",
              "      <td>0</td>\n",
              "      <td>1</td>\n",
              "    </tr>\n",
              "    <tr>\n",
              "      <th>1</th>\n",
              "      <td>28.0</td>\n",
              "      <td>3.0</td>\n",
              "      <td>1</td>\n",
              "      <td>0</td>\n",
              "    </tr>\n",
              "    <tr>\n",
              "      <th>2</th>\n",
              "      <td>45.0</td>\n",
              "      <td>15.0</td>\n",
              "      <td>0</td>\n",
              "      <td>1</td>\n",
              "    </tr>\n",
              "    <tr>\n",
              "      <th>3</th>\n",
              "      <td>36.0</td>\n",
              "      <td>7.0</td>\n",
              "      <td>1</td>\n",
              "      <td>0</td>\n",
              "    </tr>\n",
              "    <tr>\n",
              "      <th>4</th>\n",
              "      <td>52.0</td>\n",
              "      <td>20.0</td>\n",
              "      <td>0</td>\n",
              "      <td>1</td>\n",
              "    </tr>\n",
              "  </tbody>\n",
              "</table>\n",
              "</div>\n",
              "    <div class=\"colab-df-buttons\">\n",
              "\n",
              "  <div class=\"colab-df-container\">\n",
              "    <button class=\"colab-df-convert\" onclick=\"convertToInteractive('df-1557bfa2-8ffa-4e5d-947f-5a1745243466')\"\n",
              "            title=\"Convert this dataframe to an interactive table.\"\n",
              "            style=\"display:none;\">\n",
              "\n",
              "  <svg xmlns=\"http://www.w3.org/2000/svg\" height=\"24px\" viewBox=\"0 -960 960 960\">\n",
              "    <path d=\"M120-120v-720h720v720H120Zm60-500h600v-160H180v160Zm220 220h160v-160H400v160Zm0 220h160v-160H400v160ZM180-400h160v-160H180v160Zm440 0h160v-160H620v160ZM180-180h160v-160H180v160Zm440 0h160v-160H620v160Z\"/>\n",
              "  </svg>\n",
              "    </button>\n",
              "\n",
              "  <style>\n",
              "    .colab-df-container {\n",
              "      display:flex;\n",
              "      gap: 12px;\n",
              "    }\n",
              "\n",
              "    .colab-df-convert {\n",
              "      background-color: #E8F0FE;\n",
              "      border: none;\n",
              "      border-radius: 50%;\n",
              "      cursor: pointer;\n",
              "      display: none;\n",
              "      fill: #1967D2;\n",
              "      height: 32px;\n",
              "      padding: 0 0 0 0;\n",
              "      width: 32px;\n",
              "    }\n",
              "\n",
              "    .colab-df-convert:hover {\n",
              "      background-color: #E2EBFA;\n",
              "      box-shadow: 0px 1px 2px rgba(60, 64, 67, 0.3), 0px 1px 3px 1px rgba(60, 64, 67, 0.15);\n",
              "      fill: #174EA6;\n",
              "    }\n",
              "\n",
              "    .colab-df-buttons div {\n",
              "      margin-bottom: 4px;\n",
              "    }\n",
              "\n",
              "    [theme=dark] .colab-df-convert {\n",
              "      background-color: #3B4455;\n",
              "      fill: #D2E3FC;\n",
              "    }\n",
              "\n",
              "    [theme=dark] .colab-df-convert:hover {\n",
              "      background-color: #434B5C;\n",
              "      box-shadow: 0px 1px 3px 1px rgba(0, 0, 0, 0.15);\n",
              "      filter: drop-shadow(0px 1px 2px rgba(0, 0, 0, 0.3));\n",
              "      fill: #FFFFFF;\n",
              "    }\n",
              "  </style>\n",
              "\n",
              "    <script>\n",
              "      const buttonEl =\n",
              "        document.querySelector('#df-1557bfa2-8ffa-4e5d-947f-5a1745243466 button.colab-df-convert');\n",
              "      buttonEl.style.display =\n",
              "        google.colab.kernel.accessAllowed ? 'block' : 'none';\n",
              "\n",
              "      async function convertToInteractive(key) {\n",
              "        const element = document.querySelector('#df-1557bfa2-8ffa-4e5d-947f-5a1745243466');\n",
              "        const dataTable =\n",
              "          await google.colab.kernel.invokeFunction('convertToInteractive',\n",
              "                                                    [key], {});\n",
              "        if (!dataTable) return;\n",
              "\n",
              "        const docLinkHtml = 'Like what you see? Visit the ' +\n",
              "          '<a target=\"_blank\" href=https://colab.research.google.com/notebooks/data_table.ipynb>data table notebook</a>'\n",
              "          + ' to learn more about interactive tables.';\n",
              "        element.innerHTML = '';\n",
              "        dataTable['output_type'] = 'display_data';\n",
              "        await google.colab.output.renderOutput(dataTable, element);\n",
              "        const docLink = document.createElement('div');\n",
              "        docLink.innerHTML = docLinkHtml;\n",
              "        element.appendChild(docLink);\n",
              "      }\n",
              "    </script>\n",
              "  </div>\n",
              "\n",
              "\n",
              "<div id=\"df-ab02a4a8-2504-4630-8a87-3946e0180b88\">\n",
              "  <button class=\"colab-df-quickchart\" onclick=\"quickchart('df-ab02a4a8-2504-4630-8a87-3946e0180b88')\"\n",
              "            title=\"Suggest charts\"\n",
              "            style=\"display:none;\">\n",
              "\n",
              "<svg xmlns=\"http://www.w3.org/2000/svg\" height=\"24px\"viewBox=\"0 0 24 24\"\n",
              "     width=\"24px\">\n",
              "    <g>\n",
              "        <path d=\"M19 3H5c-1.1 0-2 .9-2 2v14c0 1.1.9 2 2 2h14c1.1 0 2-.9 2-2V5c0-1.1-.9-2-2-2zM9 17H7v-7h2v7zm4 0h-2V7h2v10zm4 0h-2v-4h2v4z\"/>\n",
              "    </g>\n",
              "</svg>\n",
              "  </button>\n",
              "\n",
              "<style>\n",
              "  .colab-df-quickchart {\n",
              "      --bg-color: #E8F0FE;\n",
              "      --fill-color: #1967D2;\n",
              "      --hover-bg-color: #E2EBFA;\n",
              "      --hover-fill-color: #174EA6;\n",
              "      --disabled-fill-color: #AAA;\n",
              "      --disabled-bg-color: #DDD;\n",
              "  }\n",
              "\n",
              "  [theme=dark] .colab-df-quickchart {\n",
              "      --bg-color: #3B4455;\n",
              "      --fill-color: #D2E3FC;\n",
              "      --hover-bg-color: #434B5C;\n",
              "      --hover-fill-color: #FFFFFF;\n",
              "      --disabled-bg-color: #3B4455;\n",
              "      --disabled-fill-color: #666;\n",
              "  }\n",
              "\n",
              "  .colab-df-quickchart {\n",
              "    background-color: var(--bg-color);\n",
              "    border: none;\n",
              "    border-radius: 50%;\n",
              "    cursor: pointer;\n",
              "    display: none;\n",
              "    fill: var(--fill-color);\n",
              "    height: 32px;\n",
              "    padding: 0;\n",
              "    width: 32px;\n",
              "  }\n",
              "\n",
              "  .colab-df-quickchart:hover {\n",
              "    background-color: var(--hover-bg-color);\n",
              "    box-shadow: 0 1px 2px rgba(60, 64, 67, 0.3), 0 1px 3px 1px rgba(60, 64, 67, 0.15);\n",
              "    fill: var(--button-hover-fill-color);\n",
              "  }\n",
              "\n",
              "  .colab-df-quickchart-complete:disabled,\n",
              "  .colab-df-quickchart-complete:disabled:hover {\n",
              "    background-color: var(--disabled-bg-color);\n",
              "    fill: var(--disabled-fill-color);\n",
              "    box-shadow: none;\n",
              "  }\n",
              "\n",
              "  .colab-df-spinner {\n",
              "    border: 2px solid var(--fill-color);\n",
              "    border-color: transparent;\n",
              "    border-bottom-color: var(--fill-color);\n",
              "    animation:\n",
              "      spin 1s steps(1) infinite;\n",
              "  }\n",
              "\n",
              "  @keyframes spin {\n",
              "    0% {\n",
              "      border-color: transparent;\n",
              "      border-bottom-color: var(--fill-color);\n",
              "      border-left-color: var(--fill-color);\n",
              "    }\n",
              "    20% {\n",
              "      border-color: transparent;\n",
              "      border-left-color: var(--fill-color);\n",
              "      border-top-color: var(--fill-color);\n",
              "    }\n",
              "    30% {\n",
              "      border-color: transparent;\n",
              "      border-left-color: var(--fill-color);\n",
              "      border-top-color: var(--fill-color);\n",
              "      border-right-color: var(--fill-color);\n",
              "    }\n",
              "    40% {\n",
              "      border-color: transparent;\n",
              "      border-right-color: var(--fill-color);\n",
              "      border-top-color: var(--fill-color);\n",
              "    }\n",
              "    60% {\n",
              "      border-color: transparent;\n",
              "      border-right-color: var(--fill-color);\n",
              "    }\n",
              "    80% {\n",
              "      border-color: transparent;\n",
              "      border-right-color: var(--fill-color);\n",
              "      border-bottom-color: var(--fill-color);\n",
              "    }\n",
              "    90% {\n",
              "      border-color: transparent;\n",
              "      border-bottom-color: var(--fill-color);\n",
              "    }\n",
              "  }\n",
              "</style>\n",
              "\n",
              "  <script>\n",
              "    async function quickchart(key) {\n",
              "      const quickchartButtonEl =\n",
              "        document.querySelector('#' + key + ' button');\n",
              "      quickchartButtonEl.disabled = true;  // To prevent multiple clicks.\n",
              "      quickchartButtonEl.classList.add('colab-df-spinner');\n",
              "      try {\n",
              "        const charts = await google.colab.kernel.invokeFunction(\n",
              "            'suggestCharts', [key], {});\n",
              "      } catch (error) {\n",
              "        console.error('Error during call to suggestCharts:', error);\n",
              "      }\n",
              "      quickchartButtonEl.classList.remove('colab-df-spinner');\n",
              "      quickchartButtonEl.classList.add('colab-df-quickchart-complete');\n",
              "    }\n",
              "    (() => {\n",
              "      let quickchartButtonEl =\n",
              "        document.querySelector('#df-ab02a4a8-2504-4630-8a87-3946e0180b88 button');\n",
              "      quickchartButtonEl.style.display =\n",
              "        google.colab.kernel.accessAllowed ? 'block' : 'none';\n",
              "    })();\n",
              "  </script>\n",
              "</div>\n",
              "    </div>\n",
              "  </div>\n"
            ],
            "application/vnd.google.colaboratory.intrinsic+json": {
              "type": "dataframe",
              "variable_name": "x",
              "summary": "{\n  \"name\": \"x\",\n  \"rows\": 375,\n  \"fields\": [\n    {\n      \"column\": \"Age\",\n      \"properties\": {\n        \"dtype\": \"number\",\n        \"std\": 7.069072938567494,\n        \"min\": 23.0,\n        \"max\": 53.0,\n        \"num_unique_values\": 31,\n        \"samples\": [\n          46.0,\n          33.0,\n          37.0\n        ],\n        \"semantic_type\": \"\",\n        \"description\": \"\"\n      }\n    },\n    {\n      \"column\": \"Years of Experience\",\n      \"properties\": {\n        \"dtype\": \"number\",\n        \"std\": 6.557007136414237,\n        \"min\": 0.0,\n        \"max\": 25.0,\n        \"num_unique_values\": 28,\n        \"samples\": [\n          10.0,\n          24.0,\n          1.0\n        ],\n        \"semantic_type\": \"\",\n        \"description\": \"\"\n      }\n    },\n    {\n      \"column\": \"Gender_Female\",\n      \"properties\": {\n        \"dtype\": \"uint8\",\n        \"num_unique_values\": 2,\n        \"samples\": [\n          1,\n          0\n        ],\n        \"semantic_type\": \"\",\n        \"description\": \"\"\n      }\n    },\n    {\n      \"column\": \"Gender_Male\",\n      \"properties\": {\n        \"dtype\": \"uint8\",\n        \"num_unique_values\": 2,\n        \"samples\": [\n          0,\n          1\n        ],\n        \"semantic_type\": \"\",\n        \"description\": \"\"\n      }\n    }\n  ]\n}"
            }
          },
          "metadata": {},
          "execution_count": 166
        }
      ]
    },
    {
      "cell_type": "code",
      "source": [
        "# view y\n",
        "y.head()"
      ],
      "metadata": {
        "colab": {
          "base_uri": "https://localhost:8080/"
        },
        "id": "8z3PFv1kMJ49",
        "outputId": "c4cef5d2-8ee7-41d9-e004-1f7872d27dfd"
      },
      "execution_count": 167,
      "outputs": [
        {
          "output_type": "execute_result",
          "data": {
            "text/plain": [
              "0     90000.0\n",
              "1     65000.0\n",
              "2    150000.0\n",
              "3     60000.0\n",
              "4    200000.0\n",
              "Name: Salary, dtype: float64"
            ]
          },
          "metadata": {},
          "execution_count": 167
        }
      ]
    },
    {
      "cell_type": "code",
      "source": [
        "# Build our train and test sets\n",
        "x_train, x_test, y_train, y_test = train_test_split(x, y, test_size=0.2, random_state=42)"
      ],
      "metadata": {
        "id": "PYUj9WWPMYEI"
      },
      "execution_count": 168,
      "outputs": []
    },
    {
      "cell_type": "code",
      "source": [
        "len(x), len(x_train), len(x_test)"
      ],
      "metadata": {
        "colab": {
          "base_uri": "https://localhost:8080/"
        },
        "id": "wMEwTX0ZNZi4",
        "outputId": "0537f5a3-9830-4b28-eccb-bb69a69e3ed0"
      },
      "execution_count": 169,
      "outputs": [
        {
          "output_type": "execute_result",
          "data": {
            "text/plain": [
              "(375, 300, 75)"
            ]
          },
          "metadata": {},
          "execution_count": 169
        }
      ]
    },
    {
      "cell_type": "code",
      "source": [
        "# Normalize x_train data\n",
        "\n",
        "scaler = StandardScaler()\n",
        "x_train_scaled = scaler.fit_transform(x_train)"
      ],
      "metadata": {
        "id": "e1EtHuqxQ7Sy"
      },
      "execution_count": 170,
      "outputs": []
    },
    {
      "cell_type": "code",
      "source": [
        "# Build a neural network for salary\n",
        "\n",
        "tf.random.set_seed(42)\n",
        "\n",
        "# 1. Create the model\n",
        "salary_model = tf.keras.Sequential([\n",
        "    tf.keras.layers.Dense(10, activation=\"relu\")\n",
        "])\n",
        "\n",
        "# 2. Compile the model\n",
        "salary_model.compile(loss=mse,\n",
        "                     optimizer = tf.keras.optimizers.Adam(learning_rate=0.0001),\n",
        "                     metrics=[\"mse\"])\n",
        "\n",
        "# 3. fit the model\n",
        "history_salary = salary_model.fit(x_train, y_train, epochs=32, verbose=1)"
      ],
      "metadata": {
        "colab": {
          "base_uri": "https://localhost:8080/"
        },
        "id": "EI7RSrCUNsz2",
        "outputId": "3cff2539-c931-4204-aea4-be070ac74b02"
      },
      "execution_count": 174,
      "outputs": [
        {
          "output_type": "stream",
          "name": "stdout",
          "text": [
            "Epoch 1/32\n",
            "10/10 [==============================] - 2s 5ms/step - loss: nan - mse: nan                       \n",
            "Epoch 2/32\n",
            "10/10 [==============================] - 0s 5ms/step - loss: nan - mse: nan\n",
            "Epoch 3/32\n",
            "10/10 [==============================] - 0s 4ms/step - loss: nan - mse: nan\n",
            "Epoch 4/32\n",
            "10/10 [==============================] - 0s 4ms/step - loss: nan - mse: nan\n",
            "Epoch 5/32\n",
            "10/10 [==============================] - 0s 5ms/step - loss: nan - mse: nan\n",
            "Epoch 6/32\n",
            "10/10 [==============================] - 0s 5ms/step - loss: nan - mse: nan\n",
            "Epoch 7/32\n",
            "10/10 [==============================] - 0s 4ms/step - loss: nan - mse: nan\n",
            "Epoch 8/32\n",
            "10/10 [==============================] - 0s 4ms/step - loss: nan - mse: nan\n",
            "Epoch 9/32\n",
            "10/10 [==============================] - 0s 5ms/step - loss: nan - mse: nan\n",
            "Epoch 10/32\n",
            "10/10 [==============================] - 0s 5ms/step - loss: nan - mse: nan\n",
            "Epoch 11/32\n",
            "10/10 [==============================] - 0s 5ms/step - loss: nan - mse: nan\n",
            "Epoch 12/32\n",
            "10/10 [==============================] - 0s 4ms/step - loss: nan - mse: nan\n",
            "Epoch 13/32\n",
            "10/10 [==============================] - 0s 4ms/step - loss: nan - mse: nan\n",
            "Epoch 14/32\n",
            "10/10 [==============================] - 0s 4ms/step - loss: nan - mse: nan\n",
            "Epoch 15/32\n",
            "10/10 [==============================] - 0s 4ms/step - loss: nan - mse: nan\n",
            "Epoch 16/32\n",
            "10/10 [==============================] - 0s 4ms/step - loss: nan - mse: nan\n",
            "Epoch 17/32\n",
            "10/10 [==============================] - 0s 5ms/step - loss: nan - mse: nan\n",
            "Epoch 18/32\n",
            "10/10 [==============================] - 0s 4ms/step - loss: nan - mse: nan\n",
            "Epoch 19/32\n",
            "10/10 [==============================] - 0s 4ms/step - loss: nan - mse: nan\n",
            "Epoch 20/32\n",
            "10/10 [==============================] - 0s 4ms/step - loss: nan - mse: nan\n",
            "Epoch 21/32\n",
            "10/10 [==============================] - 0s 4ms/step - loss: nan - mse: nan\n",
            "Epoch 22/32\n",
            "10/10 [==============================] - 0s 4ms/step - loss: nan - mse: nan\n",
            "Epoch 23/32\n",
            "10/10 [==============================] - 0s 5ms/step - loss: nan - mse: nan\n",
            "Epoch 24/32\n",
            "10/10 [==============================] - 0s 6ms/step - loss: nan - mse: nan\n",
            "Epoch 25/32\n",
            "10/10 [==============================] - 0s 7ms/step - loss: nan - mse: nan\n",
            "Epoch 26/32\n",
            "10/10 [==============================] - 0s 4ms/step - loss: nan - mse: nan\n",
            "Epoch 27/32\n",
            "10/10 [==============================] - 0s 4ms/step - loss: nan - mse: nan\n",
            "Epoch 28/32\n",
            "10/10 [==============================] - 0s 4ms/step - loss: nan - mse: nan\n",
            "Epoch 29/32\n",
            "10/10 [==============================] - 0s 5ms/step - loss: nan - mse: nan\n",
            "Epoch 30/32\n",
            "10/10 [==============================] - 0s 4ms/step - loss: nan - mse: nan\n",
            "Epoch 31/32\n",
            "10/10 [==============================] - 0s 5ms/step - loss: nan - mse: nan\n",
            "Epoch 32/32\n",
            "10/10 [==============================] - 0s 4ms/step - loss: nan - mse: nan\n"
          ]
        }
      ]
    }
  ]
}