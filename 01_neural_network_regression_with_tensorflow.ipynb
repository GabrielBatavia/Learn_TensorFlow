{
  "nbformat": 4,
  "nbformat_minor": 0,
  "metadata": {
    "colab": {
      "provenance": [],
      "authorship_tag": "ABX9TyNDF9kbbCLgIAOhRAEe6THM",
      "include_colab_link": true
    },
    "kernelspec": {
      "name": "python3",
      "display_name": "Python 3"
    },
    "language_info": {
      "name": "python"
    }
  },
  "cells": [
    {
      "cell_type": "markdown",
      "metadata": {
        "id": "view-in-github",
        "colab_type": "text"
      },
      "source": [
        "<a href=\"https://colab.research.google.com/github/GabrielBatavia/Learn_TensorFlow/blob/main/01_neural_network_regression_with_tensorflow.ipynb\" target=\"_parent\"><img src=\"https://colab.research.google.com/assets/colab-badge.svg\" alt=\"Open In Colab\"/></a>"
      ]
    },
    {
      "cell_type": "markdown",
      "source": [
        "# Introduction to Regression with Neural Networks in TensorFlow\n",
        "\n",
        "There are many definition for a regression problem but in our case, we're going to simplify it : predicting a numerical variable based on some other combination of variables, even shorter...predicting a number."
      ],
      "metadata": {
        "id": "eANshE7nr2zb"
      }
    },
    {
      "cell_type": "code",
      "execution_count": 1,
      "metadata": {
        "colab": {
          "base_uri": "https://localhost:8080/"
        },
        "id": "UmVJP_eWrO59",
        "outputId": "65298fa1-a51a-4d35-f346-789b55500cbd"
      },
      "outputs": [
        {
          "output_type": "stream",
          "name": "stdout",
          "text": [
            "2.15.0\n"
          ]
        }
      ],
      "source": [
        "# Import TensorFlow\n",
        "\n",
        "import tensorflow as tf\n",
        "print(tf.__version__)"
      ]
    },
    {
      "cell_type": "markdown",
      "source": [
        "## Creating data to view and fit"
      ],
      "metadata": {
        "id": "vbbwMFoqskyN"
      }
    },
    {
      "cell_type": "code",
      "source": [
        "import numpy as np\n",
        "import matplotlib.pyplot as plt"
      ],
      "metadata": {
        "id": "DXOtRA60shEW"
      },
      "execution_count": 2,
      "outputs": []
    },
    {
      "cell_type": "code",
      "source": [
        "# Creating features\n",
        "\n",
        "x = np.array([-7., -4., -1., 2., 5., 8., 11., 14.])\n",
        "\n",
        "# Create labels\n",
        "y = np.array([3., 6., 9., 12., 15., 18., 21., 24.])\n",
        "\n",
        "# Visualize it\n",
        "plt.scatter(x, y);"
      ],
      "metadata": {
        "colab": {
          "base_uri": "https://localhost:8080/",
          "height": 435
        },
        "id": "SX4eHtEts4GD",
        "outputId": "363912cf-2637-4a32-e92a-85987d0959df"
      },
      "execution_count": 3,
      "outputs": [
        {
          "output_type": "display_data",
          "data": {
            "text/plain": [
              "<Figure size 640x480 with 1 Axes>"
            ],
            "image/png": "[encoded data removed]"
          },
          "metadata": {}
        }
      ]
    },
    {
      "cell_type": "code",
      "source": [
        "y == x + 10"
      ],
      "metadata": {
        "id": "qaf2FE-utbQ-",
        "colab": {
          "base_uri": "https://localhost:8080/"
        },
        "outputId": "3611f274-686d-4f2f-a4d0-30225c448493"
      },
      "execution_count": 4,
      "outputs": [
        {
          "output_type": "execute_result",
          "data": {
            "text/plain": [
              "array([ True,  True,  True,  True,  True,  True,  True,  True])"
            ]
          },
          "metadata": {},
          "execution_count": 4
        }
      ]
    },
    {
      "cell_type": "markdown",
      "source": [
        "## Input and Output shapes"
      ],
      "metadata": {
        "id": "hHex_79OxmAn"
      }
    },
    {
      "cell_type": "code",
      "source": [
        "# Create a demo tensor for out housing price prediction problem\n",
        "\n",
        "house_info = tf.constant([\"bedroom\", \"bathroom\", \"garage\"])\n",
        "house_price = tf.constant([939700])\n",
        "\n",
        "house_info, house_price"
      ],
      "metadata": {
        "colab": {
          "base_uri": "https://localhost:8080/"
        },
        "id": "EKNlltO3xrVe",
        "outputId": "e72a694e-fc6d-438b-f872-7e632ef77171"
      },
      "execution_count": 5,
      "outputs": [
        {
          "output_type": "execute_result",
          "data": {
            "text/plain": [
              "(<tf.Tensor: shape=(3,), dtype=string, numpy=array([b'bedroom', b'bathroom', b'garage'], dtype=object)>,\n",
              " <tf.Tensor: shape=(1,), dtype=int32, numpy=array([939700], dtype=int32)>)"
            ]
          },
          "metadata": {},
          "execution_count": 5
        }
      ]
    },
    {
      "cell_type": "code",
      "source": [
        "x[0], y[0]"
      ],
      "metadata": {
        "colab": {
          "base_uri": "https://localhost:8080/"
        },
        "id": "-tWt-gYSzm66",
        "outputId": "f4106c3c-4aa3-4a87-a56c-4f8005ac2920"
      },
      "execution_count": 6,
      "outputs": [
        {
          "output_type": "execute_result",
          "data": {
            "text/plain": [
              "(-7.0, 3.0)"
            ]
          },
          "metadata": {},
          "execution_count": 6
        }
      ]
    },
    {
      "cell_type": "code",
      "source": [
        "input_shape = x[0].shape\n",
        "output_shape = y[0].shape\n",
        "\n",
        "input_shape, output_shape"
      ],
      "metadata": {
        "colab": {
          "base_uri": "https://localhost:8080/"
        },
        "id": "sGSz7U-vzY4m",
        "outputId": "8db1f257-419f-4773-c104-4b4102951ca0"
      },
      "execution_count": 7,
      "outputs": [
        {
          "output_type": "execute_result",
          "data": {
            "text/plain": [
              "((), ())"
            ]
          },
          "metadata": {},
          "execution_count": 7
        }
      ]
    },
    {
      "cell_type": "code",
      "source": [
        "x[0].ndim"
      ],
      "metadata": {
        "colab": {
          "base_uri": "https://localhost:8080/"
        },
        "id": "VCL4zHK5z8RR",
        "outputId": "77b0c64f-b0d8-43c4-f1f2-95f9fa4ed6e2"
      },
      "execution_count": 8,
      "outputs": [
        {
          "output_type": "execute_result",
          "data": {
            "text/plain": [
              "0"
            ]
          },
          "metadata": {},
          "execution_count": 8
        }
      ]
    },
    {
      "cell_type": "code",
      "source": [
        "# Turn our Numpy arrays into tensors with dtype 32\n",
        "\n",
        "X = tf.constant(x, dtype=tf.float32)\n",
        "Y = tf.constant(y, dtype=tf.float32)\n",
        "\n",
        "X, Y"
      ],
      "metadata": {
        "colab": {
          "base_uri": "https://localhost:8080/"
        },
        "id": "QL2Ofdwmz-sQ",
        "outputId": "433445e9-7d94-4c9d-929c-168f9feb2a53"
      },
      "execution_count": 9,
      "outputs": [
        {
          "output_type": "execute_result",
          "data": {
            "text/plain": [
              "(<tf.Tensor: shape=(8,), dtype=float32, numpy=array([-7., -4., -1.,  2.,  5.,  8., 11., 14.], dtype=float32)>,\n",
              " <tf.Tensor: shape=(8,), dtype=float32, numpy=array([ 3.,  6.,  9., 12., 15., 18., 21., 24.], dtype=float32)>)"
            ]
          },
          "metadata": {},
          "execution_count": 9
        }
      ]
    },
    {
      "cell_type": "code",
      "source": [
        "input_shape = X[0].shape\n",
        "output_shape = y[0].shape\n",
        "\n",
        "input_shape, output_shape"
      ],
      "metadata": {
        "colab": {
          "base_uri": "https://localhost:8080/"
        },
        "id": "R6m8i44s1t3S",
        "outputId": "23099a9b-1024-4f43-a7ac-31987a63fe27"
      },
      "execution_count": 10,
      "outputs": [
        {
          "output_type": "execute_result",
          "data": {
            "text/plain": [
              "(TensorShape([]), ())"
            ]
          },
          "metadata": {},
          "execution_count": 10
        }
      ]
    },
    {
      "cell_type": "markdown",
      "source": [
        "## Steps in modelling with TensorFlow\n",
        "\n",
        "1. **Creating a model** - define the input and output layers, as well as the hidden layers of a deep learning model.\n",
        "\n",
        "2. **Compiling a model** - define the loss function (in other words, the function wich tells our model how wrong it is) and the optimizer (tells our model how to improve the patterns its learning) and evaluation metrics (what we can use to interpret the preformance of our model)\n",
        "\n",
        "3. Fitting a model - letting the model try to find patters between X & y (features and labels)"
      ],
      "metadata": {
        "id": "T9heq-y318BJ"
      }
    },
    {
      "cell_type": "code",
      "source": [
        "# Opetionally, the first layer can receive an 'input_shape' argument :\n",
        "# model = tf.keras.Sequential()\n",
        "# model.add(tf.keras.layers.Dense(8, input_shape=(16,)))\n",
        "\n",
        "# Afterwards, we do automatic shape inference :\n",
        "# model.add(tf.keras.layers.Dense(4))\n",
        "\n",
        "# model = tf.keras.Sequential()\n",
        "# model.add(tf.keras.layers.Dense(1))\n",
        "# ..."
      ],
      "metadata": {
        "id": "nEAWuhvc6w4g"
      },
      "execution_count": 11,
      "outputs": []
    },
    {
      "cell_type": "code",
      "source": [
        "# Set random seed\n",
        "\n",
        "tf.random.set_seed(42)\n",
        "\n",
        "# 1. Create a model using the Sequential API\n",
        "model = tf.keras.Sequential([\n",
        "    tf.keras.layers.Dense(1)\n",
        "])\n",
        "\n",
        "# 2. Compile the model\n",
        "model.compile(loss = tf.keras.losses.mae, # mae is short for mean absolute error\n",
        "              optimizer = tf.keras.optimizers.SGD(), # sgd is short for stochasitc gradient decent\n",
        "              metrics = [\"mae\"])\n",
        "\n",
        "# 3. Fit the model\n",
        "# model.fit(X, Y, epochs=5) # BREAK IN UPDATED TENSOR VERSION\n",
        "model.fit(tf.expand_dims(X, axis=-1), Y, epochs=5)"
      ],
      "metadata": {
        "colab": {
          "base_uri": "https://localhost:8080/"
        },
        "id": "ubX_9SYR149W",
        "outputId": "e9d8338d-3148-4476-9499-408b7520d21f"
      },
      "execution_count": 12,
      "outputs": [
        {
          "output_type": "stream",
          "name": "stdout",
          "text": [
            "Epoch 1/5\n",
            "1/1 [==============================] - 1s 629ms/step - loss: 16.0739 - mae: 16.0739\n",
            "Epoch 2/5\n",
            "1/1 [==============================] - 0s 13ms/step - loss: 15.7926 - mae: 15.7926\n",
            "Epoch 3/5\n",
            "1/1 [==============================] - 0s 16ms/step - loss: 15.5114 - mae: 15.5114\n",
            "Epoch 4/5\n",
            "1/1 [==============================] - 0s 12ms/step - loss: 15.2301 - mae: 15.2301\n",
            "Epoch 5/5\n",
            "1/1 [==============================] - 0s 14ms/step - loss: 14.9509 - mae: 14.9509\n"
          ]
        },
        {
          "output_type": "execute_result",
          "data": {
            "text/plain": [
              "<keras.src.callbacks.History at 0x7b6818550f10>"
            ]
          },
          "metadata": {},
          "execution_count": 12
        }
      ]
    },
    {
      "cell_type": "code",
      "source": [
        "# Check our X and Y\n",
        "x, y"
      ],
      "metadata": {
        "colab": {
          "base_uri": "https://localhost:8080/"
        },
        "id": "1B1DsBlo9jYC",
        "outputId": "479c80ae-66b7-43db-da08-5d00c0d6245f"
      },
      "execution_count": 13,
      "outputs": [
        {
          "output_type": "execute_result",
          "data": {
            "text/plain": [
              "(array([-7., -4., -1.,  2.,  5.,  8., 11., 14.]),\n",
              " array([ 3.,  6.,  9., 12., 15., 18., 21., 24.]))"
            ]
          },
          "metadata": {},
          "execution_count": 13
        }
      ]
    },
    {
      "cell_type": "code",
      "source": [
        "# Try make prediction\n",
        "model.predict([17.0])"
      ],
      "metadata": {
        "colab": {
          "base_uri": "https://localhost:8080/"
        },
        "id": "L4S19GPP9pXG",
        "outputId": "d1f6854a-eacc-45b4-e0bf-01ee8668b609"
      },
      "execution_count": 14,
      "outputs": [
        {
          "output_type": "stream",
          "name": "stdout",
          "text": [
            "1/1 [==============================] - 0s 128ms/step\n"
          ]
        },
        {
          "output_type": "execute_result",
          "data": {
            "text/plain": [
              "array([[-6.5580587]], dtype=float32)"
            ]
          },
          "metadata": {},
          "execution_count": 14
        }
      ]
    },
    {
      "cell_type": "markdown",
      "source": [
        "## Improving our model\n",
        "\n",
        "We can improve our model, by altering the steps we took to create a model.\n",
        "\n",
        "1. **Creating a model** - ere we might add more layers, increse the number of hidden units (all called neurons) within each of the hidden layers, change the activation function of each layer.\n",
        "\n",
        "2. **Compiling a model** - here we might chang ethe optimization function or perhaps the **learning rate** of the optimization function.\n",
        "\n",
        "3. **Fitting a model** - here we might fit a model for more **epochs** (leave it training for longer) or on more data (give the model more examples to learn form)"
      ],
      "metadata": {
        "id": "Nq6KqLEo-HP4"
      }
    },
    {
      "cell_type": "code",
      "source": [
        "# Let's rebuild our model\n",
        "\n",
        "# 1. Create the model\n",
        "model1 = tf.keras.Sequential([\n",
        "    tf.keras.layers.Dense(1)\n",
        "])\n",
        "\n",
        "# 2. Compile the model\n",
        "model1.compile(loss = tf.keras.losses.mae,\n",
        "              optimizer = tf.keras.optimizers.SGD(),\n",
        "              metrics = [\"mae\"])\n",
        "\n",
        "# 3. Fit the model\n",
        "# model.fit(X, Y, epochs=5) # BREAK IN UPDATED TENSOR VERSION\n",
        "model1.fit(tf.expand_dims(X, axis=-1), Y, epochs=100)"
      ],
      "metadata": {
        "colab": {
          "base_uri": "https://localhost:8080/"
        },
        "id": "GPGzIvb2DLc2",
        "outputId": "5663b8fe-bce0-4d66-e6f8-8943c6bec137"
      },
      "execution_count": 15,
      "outputs": [
        {
          "output_type": "stream",
          "name": "stdout",
          "text": [
            "Epoch 1/100\n",
            "1/1 [==============================] - 1s 534ms/step - loss: 15.1545 - mae: 15.1545\n",
            "Epoch 2/100\n",
            "1/1 [==============================] - 0s 16ms/step - loss: 14.9117 - mae: 14.9117\n",
            "Epoch 3/100\n",
            "1/1 [==============================] - 0s 22ms/step - loss: 14.7792 - mae: 14.7792\n",
            "Epoch 4/100\n",
            "1/1 [==============================] - 0s 11ms/step - loss: 14.6467 - mae: 14.6467\n",
            "Epoch 5/100\n",
            "1/1 [==============================] - 0s 14ms/step - loss: 14.5142 - mae: 14.5142\n",
            "Epoch 6/100\n",
            "1/1 [==============================] - 0s 11ms/step - loss: 14.3817 - mae: 14.3817\n",
            "Epoch 7/100\n",
            "1/1 [==============================] - 0s 13ms/step - loss: 14.2492 - mae: 14.2492\n",
            "Epoch 8/100\n",
            "1/1 [==============================] - 0s 12ms/step - loss: 14.1167 - mae: 14.1167\n",
            "Epoch 9/100\n",
            "1/1 [==============================] - 0s 11ms/step - loss: 13.9842 - mae: 13.9842\n",
            "Epoch 10/100\n",
            "1/1 [==============================] - 0s 10ms/step - loss: 13.8517 - mae: 13.8517\n",
            "Epoch 11/100\n",
            "1/1 [==============================] - 0s 11ms/step - loss: 13.7192 - mae: 13.7192\n",
            "Epoch 12/100\n",
            "1/1 [==============================] - 0s 15ms/step - loss: 13.5867 - mae: 13.5867\n",
            "Epoch 13/100\n",
            "1/1 [==============================] - 0s 11ms/step - loss: 13.4542 - mae: 13.4542\n",
            "Epoch 14/100\n",
            "1/1 [==============================] - 0s 10ms/step - loss: 13.3217 - mae: 13.3217\n",
            "Epoch 15/100\n",
            "1/1 [==============================] - 0s 10ms/step - loss: 13.1892 - mae: 13.1892\n",
            "Epoch 16/100\n",
            "1/1 [==============================] - 0s 20ms/step - loss: 13.0567 - mae: 13.0567\n",
            "Epoch 17/100\n",
            "1/1 [==============================] - 0s 10ms/step - loss: 12.9242 - mae: 12.9242\n",
            "Epoch 18/100\n",
            "1/1 [==============================] - 0s 11ms/step - loss: 12.7917 - mae: 12.7917\n",
            "Epoch 19/100\n",
            "1/1 [==============================] - 0s 11ms/step - loss: 12.6592 - mae: 12.6592\n",
            "Epoch 20/100\n",
            "1/1 [==============================] - 0s 13ms/step - loss: 12.5267 - mae: 12.5267\n",
            "Epoch 21/100\n",
            "1/1 [==============================] - 0s 12ms/step - loss: 12.3942 - mae: 12.3942\n",
            "Epoch 22/100\n",
            "1/1 [==============================] - 0s 13ms/step - loss: 12.2617 - mae: 12.2617\n",
            "Epoch 23/100\n",
            "1/1 [==============================] - 0s 10ms/step - loss: 12.1292 - mae: 12.1292\n",
            "Epoch 24/100\n",
            "1/1 [==============================] - 0s 13ms/step - loss: 11.9967 - mae: 11.9967\n",
            "Epoch 25/100\n",
            "1/1 [==============================] - 0s 13ms/step - loss: 11.8642 - mae: 11.8642\n",
            "Epoch 26/100\n",
            "1/1 [==============================] - 0s 15ms/step - loss: 11.7317 - mae: 11.7317\n",
            "Epoch 27/100\n",
            "1/1 [==============================] - 0s 40ms/step - loss: 11.5992 - mae: 11.5992\n",
            "Epoch 28/100\n",
            "1/1 [==============================] - 0s 11ms/step - loss: 11.4667 - mae: 11.4667\n",
            "Epoch 29/100\n",
            "1/1 [==============================] - 0s 10ms/step - loss: 11.3342 - mae: 11.3342\n",
            "Epoch 30/100\n",
            "1/1 [==============================] - 0s 13ms/step - loss: 11.2017 - mae: 11.2017\n",
            "Epoch 31/100\n",
            "1/1 [==============================] - 0s 16ms/step - loss: 11.0692 - mae: 11.0692\n",
            "Epoch 32/100\n",
            "1/1 [==============================] - 0s 19ms/step - loss: 10.9367 - mae: 10.9367\n",
            "Epoch 33/100\n",
            "1/1 [==============================] - 0s 14ms/step - loss: 10.8042 - mae: 10.8042\n",
            "Epoch 34/100\n",
            "1/1 [==============================] - 0s 13ms/step - loss: 10.6717 - mae: 10.6717\n",
            "Epoch 35/100\n",
            "1/1 [==============================] - 0s 13ms/step - loss: 10.5392 - mae: 10.5392\n",
            "Epoch 36/100\n",
            "1/1 [==============================] - 0s 12ms/step - loss: 10.4067 - mae: 10.4067\n",
            "Epoch 37/100\n",
            "1/1 [==============================] - 0s 14ms/step - loss: 10.2742 - mae: 10.2742\n",
            "Epoch 38/100\n",
            "1/1 [==============================] - 0s 11ms/step - loss: 10.1417 - mae: 10.1417\n",
            "Epoch 39/100\n",
            "1/1 [==============================] - 0s 17ms/step - loss: 10.0092 - mae: 10.0092\n",
            "Epoch 40/100\n",
            "1/1 [==============================] - 0s 10ms/step - loss: 9.8767 - mae: 9.8767\n",
            "Epoch 41/100\n",
            "1/1 [==============================] - 0s 13ms/step - loss: 9.7442 - mae: 9.7442\n",
            "Epoch 42/100\n",
            "1/1 [==============================] - 0s 12ms/step - loss: 9.6117 - mae: 9.6117\n",
            "Epoch 43/100\n",
            "1/1 [==============================] - 0s 13ms/step - loss: 9.4792 - mae: 9.4792\n",
            "Epoch 44/100\n",
            "1/1 [==============================] - 0s 16ms/step - loss: 9.3467 - mae: 9.3467\n",
            "Epoch 45/100\n",
            "1/1 [==============================] - 0s 14ms/step - loss: 9.2142 - mae: 9.2142\n",
            "Epoch 46/100\n",
            "1/1 [==============================] - 0s 15ms/step - loss: 9.0817 - mae: 9.0817\n",
            "Epoch 47/100\n",
            "1/1 [==============================] - 0s 10ms/step - loss: 8.9492 - mae: 8.9492\n",
            "Epoch 48/100\n",
            "1/1 [==============================] - 0s 17ms/step - loss: 8.8167 - mae: 8.8167\n",
            "Epoch 49/100\n",
            "1/1 [==============================] - 0s 10ms/step - loss: 8.6842 - mae: 8.6842\n",
            "Epoch 50/100\n",
            "1/1 [==============================] - 0s 11ms/step - loss: 8.5517 - mae: 8.5517\n",
            "Epoch 51/100\n",
            "1/1 [==============================] - 0s 12ms/step - loss: 8.4192 - mae: 8.4192\n",
            "Epoch 52/100\n",
            "1/1 [==============================] - 0s 10ms/step - loss: 8.2867 - mae: 8.2867\n",
            "Epoch 53/100\n",
            "1/1 [==============================] - 0s 15ms/step - loss: 8.1542 - mae: 8.1542\n",
            "Epoch 54/100\n",
            "1/1 [==============================] - 0s 12ms/step - loss: 8.0217 - mae: 8.0217\n",
            "Epoch 55/100\n",
            "1/1 [==============================] - 0s 12ms/step - loss: 7.8892 - mae: 7.8892\n",
            "Epoch 56/100\n",
            "1/1 [==============================] - 0s 15ms/step - loss: 7.7567 - mae: 7.7567\n",
            "Epoch 57/100\n",
            "1/1 [==============================] - 0s 16ms/step - loss: 7.6242 - mae: 7.6242\n",
            "Epoch 58/100\n",
            "1/1 [==============================] - 0s 12ms/step - loss: 7.4917 - mae: 7.4917\n",
            "Epoch 59/100\n",
            "1/1 [==============================] - 0s 11ms/step - loss: 7.3592 - mae: 7.3592\n",
            "Epoch 60/100\n",
            "1/1 [==============================] - 0s 13ms/step - loss: 7.2267 - mae: 7.2267\n",
            "Epoch 61/100\n",
            "1/1 [==============================] - 0s 13ms/step - loss: 7.0942 - mae: 7.0942\n",
            "Epoch 62/100\n",
            "1/1 [==============================] - 0s 14ms/step - loss: 7.0444 - mae: 7.0444\n",
            "Epoch 63/100\n",
            "1/1 [==============================] - 0s 11ms/step - loss: 7.0388 - mae: 7.0388\n",
            "Epoch 64/100\n",
            "1/1 [==============================] - 0s 10ms/step - loss: 7.0331 - mae: 7.0331\n",
            "Epoch 65/100\n",
            "1/1 [==============================] - 0s 22ms/step - loss: 7.0275 - mae: 7.0275\n",
            "Epoch 66/100\n",
            "1/1 [==============================] - 0s 21ms/step - loss: 7.0219 - mae: 7.0219\n",
            "Epoch 67/100\n",
            "1/1 [==============================] - 0s 17ms/step - loss: 7.0163 - mae: 7.0163\n",
            "Epoch 68/100\n",
            "1/1 [==============================] - 0s 15ms/step - loss: 7.0106 - mae: 7.0106\n",
            "Epoch 69/100\n",
            "1/1 [==============================] - 0s 18ms/step - loss: 7.0050 - mae: 7.0050\n",
            "Epoch 70/100\n",
            "1/1 [==============================] - 0s 17ms/step - loss: 6.9994 - mae: 6.9994\n",
            "Epoch 71/100\n",
            "1/1 [==============================] - 0s 16ms/step - loss: 6.9938 - mae: 6.9938\n",
            "Epoch 72/100\n",
            "1/1 [==============================] - 0s 15ms/step - loss: 6.9881 - mae: 6.9881\n",
            "Epoch 73/100\n",
            "1/1 [==============================] - 0s 17ms/step - loss: 6.9825 - mae: 6.9825\n",
            "Epoch 74/100\n",
            "1/1 [==============================] - 0s 14ms/step - loss: 6.9769 - mae: 6.9769\n",
            "Epoch 75/100\n",
            "1/1 [==============================] - 0s 15ms/step - loss: 6.9713 - mae: 6.9713\n",
            "Epoch 76/100\n",
            "1/1 [==============================] - 0s 15ms/step - loss: 6.9656 - mae: 6.9656\n",
            "Epoch 77/100\n",
            "1/1 [==============================] - 0s 16ms/step - loss: 6.9600 - mae: 6.9600\n",
            "Epoch 78/100\n",
            "1/1 [==============================] - 0s 13ms/step - loss: 6.9544 - mae: 6.9544\n",
            "Epoch 79/100\n",
            "1/1 [==============================] - 0s 15ms/step - loss: 6.9488 - mae: 6.9488\n",
            "Epoch 80/100\n",
            "1/1 [==============================] - 0s 15ms/step - loss: 6.9431 - mae: 6.9431\n",
            "Epoch 81/100\n",
            "1/1 [==============================] - 0s 17ms/step - loss: 6.9375 - mae: 6.9375\n",
            "Epoch 82/100\n",
            "1/1 [==============================] - 0s 15ms/step - loss: 6.9319 - mae: 6.9319\n",
            "Epoch 83/100\n",
            "1/1 [==============================] - 0s 14ms/step - loss: 6.9263 - mae: 6.9263\n",
            "Epoch 84/100\n",
            "1/1 [==============================] - 0s 14ms/step - loss: 6.9206 - mae: 6.9206\n",
            "Epoch 85/100\n",
            "1/1 [==============================] - 0s 14ms/step - loss: 6.9150 - mae: 6.9150\n",
            "Epoch 86/100\n",
            "1/1 [==============================] - 0s 14ms/step - loss: 6.9094 - mae: 6.9094\n",
            "Epoch 87/100\n",
            "1/1 [==============================] - 0s 14ms/step - loss: 6.9038 - mae: 6.9038\n",
            "Epoch 88/100\n",
            "1/1 [==============================] - 0s 14ms/step - loss: 6.8981 - mae: 6.8981\n",
            "Epoch 89/100\n",
            "1/1 [==============================] - 0s 22ms/step - loss: 6.8925 - mae: 6.8925\n",
            "Epoch 90/100\n",
            "1/1 [==============================] - 0s 18ms/step - loss: 6.8869 - mae: 6.8869\n",
            "Epoch 91/100\n",
            "1/1 [==============================] - 0s 24ms/step - loss: 6.8813 - mae: 6.8813\n",
            "Epoch 92/100\n",
            "1/1 [==============================] - 0s 19ms/step - loss: 6.8756 - mae: 6.8756\n",
            "Epoch 93/100\n",
            "1/1 [==============================] - 0s 20ms/step - loss: 6.8700 - mae: 6.8700\n",
            "Epoch 94/100\n",
            "1/1 [==============================] - 0s 20ms/step - loss: 6.8644 - mae: 6.8644\n",
            "Epoch 95/100\n",
            "1/1 [==============================] - 0s 16ms/step - loss: 6.8588 - mae: 6.8588\n",
            "Epoch 96/100\n",
            "1/1 [==============================] - 0s 25ms/step - loss: 6.8531 - mae: 6.8531\n",
            "Epoch 97/100\n",
            "1/1 [==============================] - 0s 19ms/step - loss: 6.8475 - mae: 6.8475\n",
            "Epoch 98/100\n",
            "1/1 [==============================] - 0s 12ms/step - loss: 6.8419 - mae: 6.8419\n",
            "Epoch 99/100\n",
            "1/1 [==============================] - 0s 11ms/step - loss: 6.8363 - mae: 6.8363\n",
            "Epoch 100/100\n",
            "1/1 [==============================] - 0s 10ms/step - loss: 6.8306 - mae: 6.8306\n"
          ]
        },
        {
          "output_type": "execute_result",
          "data": {
            "text/plain": [
              "<keras.src.callbacks.History at 0x7b6818361e70>"
            ]
          },
          "metadata": {},
          "execution_count": 15
        }
      ]
    },
    {
      "cell_type": "code",
      "source": [
        "# Try make prediction\n",
        "model1.predict([17.0])"
      ],
      "metadata": {
        "colab": {
          "base_uri": "https://localhost:8080/"
        },
        "id": "4kMA7oidBuHG",
        "outputId": "ab2b5630-9c1f-4485-f52d-cc214510546e"
      },
      "execution_count": 16,
      "outputs": [
        {
          "output_type": "stream",
          "name": "stdout",
          "text": [
            "1/1 [==============================] - 0s 140ms/step\n"
          ]
        },
        {
          "output_type": "execute_result",
          "data": {
            "text/plain": [
              "array([[29.70655]], dtype=float32)"
            ]
          },
          "metadata": {},
          "execution_count": 16
        }
      ]
    },
    {
      "cell_type": "code",
      "source": [
        "# re-write the model by my self and improve one thing to get better\n",
        "\n",
        "# 1. Create the model\n",
        "model2 = tf.keras.Sequential([\n",
        "    tf.keras.layers.Dense(1)\n",
        "])\n",
        "\n",
        "# 2. Compile the model\n",
        "model2.compile(loss = tf.keras.losses.mae,\n",
        "              optimizer = tf.keras.optimizers.Adam(learning_rate=0.001), # chang the optimizers from SGD to adam\n",
        "              metrics = [\"mae\"])\n",
        "\n",
        "# 3. Fit the model\n",
        "# model.fit(X, Y, epochs=5) # BREAK IN UPDATED TENSOR VERSION\n",
        "model2.fit(tf.expand_dims(X, axis=-1), Y, epochs=100)"
      ],
      "metadata": {
        "colab": {
          "base_uri": "https://localhost:8080/"
        },
        "id": "gdwbhbhmJVPx",
        "outputId": "9d0b03eb-d8b7-4f1c-edbd-27a7b5a8096a"
      },
      "execution_count": 17,
      "outputs": [
        {
          "output_type": "stream",
          "name": "stdout",
          "text": [
            "Epoch 1/100\n",
            "1/1 [==============================] - 2s 2s/step - loss: 17.1877 - mae: 17.1877\n",
            "Epoch 2/100\n",
            "1/1 [==============================] - 0s 34ms/step - loss: 17.1817 - mae: 17.1817\n",
            "Epoch 3/100\n",
            "1/1 [==============================] - 0s 31ms/step - loss: 17.1757 - mae: 17.1757\n",
            "Epoch 4/100\n",
            "1/1 [==============================] - 0s 24ms/step - loss: 17.1697 - mae: 17.1697\n",
            "Epoch 5/100\n",
            "1/1 [==============================] - 0s 33ms/step - loss: 17.1637 - mae: 17.1637\n",
            "Epoch 6/100\n",
            "1/1 [==============================] - 0s 24ms/step - loss: 17.1577 - mae: 17.1577\n",
            "Epoch 7/100\n",
            "1/1 [==============================] - 0s 16ms/step - loss: 17.1517 - mae: 17.1517\n",
            "Epoch 8/100\n",
            "1/1 [==============================] - 0s 39ms/step - loss: 17.1457 - mae: 17.1457\n",
            "Epoch 9/100\n",
            "1/1 [==============================] - 0s 21ms/step - loss: 17.1397 - mae: 17.1397\n",
            "Epoch 10/100\n",
            "1/1 [==============================] - 0s 29ms/step - loss: 17.1337 - mae: 17.1337\n",
            "Epoch 11/100\n",
            "1/1 [==============================] - 0s 75ms/step - loss: 17.1277 - mae: 17.1277\n",
            "Epoch 12/100\n",
            "1/1 [==============================] - 0s 45ms/step - loss: 17.1217 - mae: 17.1217\n",
            "Epoch 13/100\n",
            "1/1 [==============================] - 0s 30ms/step - loss: 17.1157 - mae: 17.1157\n",
            "Epoch 14/100\n",
            "1/1 [==============================] - 0s 28ms/step - loss: 17.1097 - mae: 17.1097\n",
            "Epoch 15/100\n",
            "1/1 [==============================] - 0s 26ms/step - loss: 17.1037 - mae: 17.1037\n",
            "Epoch 16/100\n",
            "1/1 [==============================] - 0s 27ms/step - loss: 17.0977 - mae: 17.0977\n",
            "Epoch 17/100\n",
            "1/1 [==============================] - 0s 22ms/step - loss: 17.0917 - mae: 17.0917\n",
            "Epoch 18/100\n",
            "1/1 [==============================] - 0s 25ms/step - loss: 17.0857 - mae: 17.0857\n",
            "Epoch 19/100\n",
            "1/1 [==============================] - 0s 25ms/step - loss: 17.0797 - mae: 17.0797\n",
            "Epoch 20/100\n",
            "1/1 [==============================] - 0s 30ms/step - loss: 17.0737 - mae: 17.0737\n",
            "Epoch 21/100\n",
            "1/1 [==============================] - 0s 22ms/step - loss: 17.0677 - mae: 17.0677\n",
            "Epoch 22/100\n",
            "1/1 [==============================] - 0s 23ms/step - loss: 17.0617 - mae: 17.0617\n",
            "Epoch 23/100\n",
            "1/1 [==============================] - 0s 21ms/step - loss: 17.0557 - mae: 17.0557\n",
            "Epoch 24/100\n",
            "1/1 [==============================] - 0s 26ms/step - loss: 17.0497 - mae: 17.0497\n",
            "Epoch 25/100\n",
            "1/1 [==============================] - 0s 21ms/step - loss: 17.0437 - mae: 17.0437\n",
            "Epoch 26/100\n",
            "1/1 [==============================] - 0s 27ms/step - loss: 17.0377 - mae: 17.0377\n",
            "Epoch 27/100\n",
            "1/1 [==============================] - 0s 25ms/step - loss: 17.0317 - mae: 17.0317\n",
            "Epoch 28/100\n",
            "1/1 [==============================] - 0s 20ms/step - loss: 17.0257 - mae: 17.0257\n",
            "Epoch 29/100\n",
            "1/1 [==============================] - 0s 27ms/step - loss: 17.0197 - mae: 17.0197\n",
            "Epoch 30/100\n",
            "1/1 [==============================] - 0s 29ms/step - loss: 17.0137 - mae: 17.0137\n",
            "Epoch 31/100\n",
            "1/1 [==============================] - 0s 25ms/step - loss: 17.0077 - mae: 17.0077\n",
            "Epoch 32/100\n",
            "1/1 [==============================] - 0s 20ms/step - loss: 17.0017 - mae: 17.0017\n",
            "Epoch 33/100\n",
            "1/1 [==============================] - 0s 21ms/step - loss: 16.9957 - mae: 16.9957\n",
            "Epoch 34/100\n",
            "1/1 [==============================] - 0s 19ms/step - loss: 16.9897 - mae: 16.9897\n",
            "Epoch 35/100\n",
            "1/1 [==============================] - 0s 24ms/step - loss: 16.9837 - mae: 16.9837\n",
            "Epoch 36/100\n",
            "1/1 [==============================] - 0s 25ms/step - loss: 16.9777 - mae: 16.9777\n",
            "Epoch 37/100\n",
            "1/1 [==============================] - 0s 39ms/step - loss: 16.9717 - mae: 16.9717\n",
            "Epoch 38/100\n",
            "1/1 [==============================] - 0s 22ms/step - loss: 16.9657 - mae: 16.9657\n",
            "Epoch 39/100\n",
            "1/1 [==============================] - 0s 23ms/step - loss: 16.9597 - mae: 16.9597\n",
            "Epoch 40/100\n",
            "1/1 [==============================] - 0s 29ms/step - loss: 16.9537 - mae: 16.9537\n",
            "Epoch 41/100\n",
            "1/1 [==============================] - 0s 18ms/step - loss: 16.9477 - mae: 16.9477\n",
            "Epoch 42/100\n",
            "1/1 [==============================] - 0s 20ms/step - loss: 16.9417 - mae: 16.9417\n",
            "Epoch 43/100\n",
            "1/1 [==============================] - 0s 20ms/step - loss: 16.9357 - mae: 16.9357\n",
            "Epoch 44/100\n",
            "1/1 [==============================] - 0s 33ms/step - loss: 16.9297 - mae: 16.9297\n",
            "Epoch 45/100\n",
            "1/1 [==============================] - 0s 14ms/step - loss: 16.9237 - mae: 16.9237\n",
            "Epoch 46/100\n",
            "1/1 [==============================] - 0s 76ms/step - loss: 16.9177 - mae: 16.9177\n",
            "Epoch 47/100\n",
            "1/1 [==============================] - 0s 43ms/step - loss: 16.9117 - mae: 16.9117\n",
            "Epoch 48/100\n",
            "1/1 [==============================] - 0s 36ms/step - loss: 16.9057 - mae: 16.9057\n",
            "Epoch 49/100\n",
            "1/1 [==============================] - 0s 27ms/step - loss: 16.8997 - mae: 16.8997\n",
            "Epoch 50/100\n",
            "1/1 [==============================] - 0s 21ms/step - loss: 16.8937 - mae: 16.8937\n",
            "Epoch 51/100\n",
            "1/1 [==============================] - 0s 24ms/step - loss: 16.8877 - mae: 16.8877\n",
            "Epoch 52/100\n",
            "1/1 [==============================] - 0s 23ms/step - loss: 16.8817 - mae: 16.8817\n",
            "Epoch 53/100\n",
            "1/1 [==============================] - 0s 33ms/step - loss: 16.8757 - mae: 16.8757\n",
            "Epoch 54/100\n",
            "1/1 [==============================] - 0s 26ms/step - loss: 16.8697 - mae: 16.8697\n",
            "Epoch 55/100\n",
            "1/1 [==============================] - 0s 22ms/step - loss: 16.8637 - mae: 16.8637\n",
            "Epoch 56/100\n",
            "1/1 [==============================] - 0s 19ms/step - loss: 16.8577 - mae: 16.8577\n",
            "Epoch 57/100\n",
            "1/1 [==============================] - 0s 22ms/step - loss: 16.8517 - mae: 16.8517\n",
            "Epoch 58/100\n",
            "1/1 [==============================] - 0s 21ms/step - loss: 16.8457 - mae: 16.8457\n",
            "Epoch 59/100\n",
            "1/1 [==============================] - 0s 19ms/step - loss: 16.8397 - mae: 16.8397\n",
            "Epoch 60/100\n",
            "1/1 [==============================] - 0s 24ms/step - loss: 16.8337 - mae: 16.8337\n",
            "Epoch 61/100\n",
            "1/1 [==============================] - 0s 21ms/step - loss: 16.8277 - mae: 16.8277\n",
            "Epoch 62/100\n",
            "1/1 [==============================] - 0s 24ms/step - loss: 16.8217 - mae: 16.8217\n",
            "Epoch 63/100\n",
            "1/1 [==============================] - 0s 48ms/step - loss: 16.8157 - mae: 16.8157\n",
            "Epoch 64/100\n",
            "1/1 [==============================] - 0s 27ms/step - loss: 16.8097 - mae: 16.8097\n",
            "Epoch 65/100\n",
            "1/1 [==============================] - 0s 23ms/step - loss: 16.8037 - mae: 16.8037\n",
            "Epoch 66/100\n",
            "1/1 [==============================] - 0s 21ms/step - loss: 16.7977 - mae: 16.7977\n",
            "Epoch 67/100\n",
            "1/1 [==============================] - 0s 22ms/step - loss: 16.7917 - mae: 16.7917\n",
            "Epoch 68/100\n",
            "1/1 [==============================] - 0s 20ms/step - loss: 16.7857 - mae: 16.7857\n",
            "Epoch 69/100\n",
            "1/1 [==============================] - 0s 44ms/step - loss: 16.7797 - mae: 16.7797\n",
            "Epoch 70/100\n",
            "1/1 [==============================] - 0s 27ms/step - loss: 16.7737 - mae: 16.7737\n",
            "Epoch 71/100\n",
            "1/1 [==============================] - 0s 26ms/step - loss: 16.7677 - mae: 16.7677\n",
            "Epoch 72/100\n",
            "1/1 [==============================] - 0s 22ms/step - loss: 16.7617 - mae: 16.7617\n",
            "Epoch 73/100\n",
            "1/1 [==============================] - 0s 21ms/step - loss: 16.7557 - mae: 16.7557\n",
            "Epoch 74/100\n",
            "1/1 [==============================] - 0s 19ms/step - loss: 16.7497 - mae: 16.7497\n",
            "Epoch 75/100\n",
            "1/1 [==============================] - 0s 24ms/step - loss: 16.7437 - mae: 16.7437\n",
            "Epoch 76/100\n",
            "1/1 [==============================] - 0s 19ms/step - loss: 16.7377 - mae: 16.7377\n",
            "Epoch 77/100\n",
            "1/1 [==============================] - 0s 23ms/step - loss: 16.7317 - mae: 16.7317\n",
            "Epoch 78/100\n",
            "1/1 [==============================] - 0s 27ms/step - loss: 16.7257 - mae: 16.7257\n",
            "Epoch 79/100\n",
            "1/1 [==============================] - 0s 19ms/step - loss: 16.7197 - mae: 16.7197\n",
            "Epoch 80/100\n",
            "1/1 [==============================] - 0s 32ms/step - loss: 16.7137 - mae: 16.7137\n",
            "Epoch 81/100\n",
            "1/1 [==============================] - 0s 27ms/step - loss: 16.7077 - mae: 16.7077\n",
            "Epoch 82/100\n",
            "1/1 [==============================] - 0s 20ms/step - loss: 16.7017 - mae: 16.7017\n",
            "Epoch 83/100\n",
            "1/1 [==============================] - 0s 20ms/step - loss: 16.6957 - mae: 16.6957\n",
            "Epoch 84/100\n",
            "1/1 [==============================] - 0s 24ms/step - loss: 16.6897 - mae: 16.6897\n",
            "Epoch 85/100\n",
            "1/1 [==============================] - 0s 18ms/step - loss: 16.6837 - mae: 16.6837\n",
            "Epoch 86/100\n",
            "1/1 [==============================] - 0s 20ms/step - loss: 16.6777 - mae: 16.6777\n",
            "Epoch 87/100\n",
            "1/1 [==============================] - 0s 23ms/step - loss: 16.6717 - mae: 16.6717\n",
            "Epoch 88/100\n",
            "1/1 [==============================] - 0s 19ms/step - loss: 16.6657 - mae: 16.6657\n",
            "Epoch 89/100\n",
            "1/1 [==============================] - 0s 18ms/step - loss: 16.6597 - mae: 16.6597\n",
            "Epoch 90/100\n",
            "1/1 [==============================] - 0s 17ms/step - loss: 16.6537 - mae: 16.6537\n",
            "Epoch 91/100\n",
            "1/1 [==============================] - 0s 39ms/step - loss: 16.6477 - mae: 16.6477\n",
            "Epoch 92/100\n",
            "1/1 [==============================] - 0s 21ms/step - loss: 16.6417 - mae: 16.6417\n",
            "Epoch 93/100\n",
            "1/1 [==============================] - 0s 14ms/step - loss: 16.6357 - mae: 16.6357\n",
            "Epoch 94/100\n",
            "1/1 [==============================] - 0s 15ms/step - loss: 16.6297 - mae: 16.6297\n",
            "Epoch 95/100\n",
            "1/1 [==============================] - 0s 29ms/step - loss: 16.6237 - mae: 16.6237\n",
            "Epoch 96/100\n",
            "1/1 [==============================] - 0s 18ms/step - loss: 16.6177 - mae: 16.6177\n",
            "Epoch 97/100\n",
            "1/1 [==============================] - 0s 17ms/step - loss: 16.6117 - mae: 16.6117\n",
            "Epoch 98/100\n",
            "1/1 [==============================] - 0s 23ms/step - loss: 16.6057 - mae: 16.6057\n",
            "Epoch 99/100\n",
            "1/1 [==============================] - 0s 20ms/step - loss: 16.5997 - mae: 16.5997\n",
            "Epoch 100/100\n",
            "1/1 [==============================] - 0s 20ms/step - loss: 16.5937 - mae: 16.5937\n"
          ]
        },
        {
          "output_type": "execute_result",
          "data": {
            "text/plain": [
              "<keras.src.callbacks.History at 0x7b6818d64be0>"
            ]
          },
          "metadata": {},
          "execution_count": 17
        }
      ]
    },
    {
      "cell_type": "code",
      "source": [
        "# Try make prediction\n",
        "model2.predict([17.0])"
      ],
      "metadata": {
        "colab": {
          "base_uri": "https://localhost:8080/"
        },
        "id": "QeWEo95_J5Gg",
        "outputId": "520d6139-623c-4fc6-b9e0-3ba09f04a89b"
      },
      "execution_count": 18,
      "outputs": [
        {
          "output_type": "stream",
          "name": "stdout",
          "text": [
            "1/1 [==============================] - 0s 262ms/step\n"
          ]
        },
        {
          "output_type": "execute_result",
          "data": {
            "text/plain": [
              "array([[-12.569829]], dtype=float32)"
            ]
          },
          "metadata": {},
          "execution_count": 18
        }
      ]
    },
    {
      "cell_type": "code",
      "source": [
        "# re-write the model\n",
        "\n",
        "# 1. Create the model (with 100 hidden units )\n",
        "model3 = tf.keras.Sequential([\n",
        "    tf.keras.layers.Dense(50, activation=None),\n",
        "    tf.keras.layers.Dense(1)\n",
        "])\n",
        "\n",
        "# 2. Compile the model\n",
        "model3.compile(loss = \"mae\",\n",
        "              optimizer = tf.keras.optimizers.Adam(learning_rate = 0.01),\n",
        "              metrics = [\"mae\"])\n",
        "\n",
        "# 3. Fit the model\n",
        "# model.fit(X, Y, epochs=5) # BREAK IN UPDATED TENSOR VERSION\n",
        "model3.fit(tf.expand_dims(X, axis=-1), Y, epochs=100)"
      ],
      "metadata": {
        "colab": {
          "base_uri": "https://localhost:8080/"
        },
        "id": "KI1XF166hgOa",
        "outputId": "83cfb40a-dd28-4723-c37c-153c1b34fe30"
      },
      "execution_count": 19,
      "outputs": [
        {
          "output_type": "stream",
          "name": "stdout",
          "text": [
            "Epoch 1/100\n",
            "1/1 [==============================] - 2s 2s/step - loss: 13.8371 - mae: 13.8371\n",
            "Epoch 2/100\n",
            "1/1 [==============================] - 0s 38ms/step - loss: 13.1939 - mae: 13.1939\n",
            "Epoch 3/100\n",
            "1/1 [==============================] - 0s 30ms/step - loss: 12.5484 - mae: 12.5484\n",
            "Epoch 4/100\n",
            "1/1 [==============================] - 0s 29ms/step - loss: 11.8971 - mae: 11.8971\n",
            "Epoch 5/100\n",
            "1/1 [==============================] - 0s 38ms/step - loss: 11.2377 - mae: 11.2377\n",
            "Epoch 6/100\n",
            "1/1 [==============================] - 0s 34ms/step - loss: 10.5679 - mae: 10.5679\n",
            "Epoch 7/100\n",
            "1/1 [==============================] - 0s 41ms/step - loss: 9.8850 - mae: 9.8850\n",
            "Epoch 8/100\n",
            "1/1 [==============================] - 0s 44ms/step - loss: 9.1857 - mae: 9.1857\n",
            "Epoch 9/100\n",
            "1/1 [==============================] - 0s 18ms/step - loss: 8.4662 - mae: 8.4662\n",
            "Epoch 10/100\n",
            "1/1 [==============================] - 0s 20ms/step - loss: 7.7231 - mae: 7.7231\n",
            "Epoch 11/100\n",
            "1/1 [==============================] - 0s 20ms/step - loss: 6.9531 - mae: 6.9531\n",
            "Epoch 12/100\n",
            "1/1 [==============================] - 0s 18ms/step - loss: 6.6786 - mae: 6.6786\n",
            "Epoch 13/100\n",
            "1/1 [==============================] - 0s 24ms/step - loss: 7.0428 - mae: 7.0428\n",
            "Epoch 14/100\n",
            "1/1 [==============================] - 0s 99ms/step - loss: 7.3757 - mae: 7.3757\n",
            "Epoch 15/100\n",
            "1/1 [==============================] - 0s 19ms/step - loss: 7.6565 - mae: 7.6565\n",
            "Epoch 16/100\n",
            "1/1 [==============================] - 0s 20ms/step - loss: 7.6987 - mae: 7.6987\n",
            "Epoch 17/100\n",
            "1/1 [==============================] - 0s 15ms/step - loss: 7.5591 - mae: 7.5591\n",
            "Epoch 18/100\n",
            "1/1 [==============================] - 0s 26ms/step - loss: 7.2807 - mae: 7.2807\n",
            "Epoch 19/100\n",
            "1/1 [==============================] - 0s 21ms/step - loss: 6.9213 - mae: 6.9213\n",
            "Epoch 20/100\n",
            "1/1 [==============================] - 0s 18ms/step - loss: 6.6599 - mae: 6.6599\n",
            "Epoch 21/100\n",
            "1/1 [==============================] - 0s 19ms/step - loss: 6.3848 - mae: 6.3848\n",
            "Epoch 22/100\n",
            "1/1 [==============================] - 0s 18ms/step - loss: 6.0998 - mae: 6.0998\n",
            "Epoch 23/100\n",
            "1/1 [==============================] - 0s 18ms/step - loss: 6.0274 - mae: 6.0274\n",
            "Epoch 24/100\n",
            "1/1 [==============================] - 0s 31ms/step - loss: 6.0042 - mae: 6.0042\n",
            "Epoch 25/100\n",
            "1/1 [==============================] - 0s 28ms/step - loss: 6.1253 - mae: 6.1253\n",
            "Epoch 26/100\n",
            "1/1 [==============================] - 0s 30ms/step - loss: 6.1407 - mae: 6.1407\n",
            "Epoch 27/100\n",
            "1/1 [==============================] - 0s 40ms/step - loss: 6.0642 - mae: 6.0642\n",
            "Epoch 28/100\n",
            "1/1 [==============================] - 0s 32ms/step - loss: 5.9058 - mae: 5.9058\n",
            "Epoch 29/100\n",
            "1/1 [==============================] - 0s 61ms/step - loss: 5.6729 - mae: 5.6729\n",
            "Epoch 30/100\n",
            "1/1 [==============================] - 0s 51ms/step - loss: 5.5171 - mae: 5.5171\n",
            "Epoch 31/100\n",
            "1/1 [==============================] - 0s 35ms/step - loss: 5.4109 - mae: 5.4109\n",
            "Epoch 32/100\n",
            "1/1 [==============================] - 0s 46ms/step - loss: 5.3351 - mae: 5.3351\n",
            "Epoch 33/100\n",
            "1/1 [==============================] - 0s 17ms/step - loss: 5.3353 - mae: 5.3353\n",
            "Epoch 34/100\n",
            "1/1 [==============================] - 0s 22ms/step - loss: 5.2941 - mae: 5.2941\n",
            "Epoch 35/100\n",
            "1/1 [==============================] - 0s 54ms/step - loss: 5.2147 - mae: 5.2147\n",
            "Epoch 36/100\n",
            "1/1 [==============================] - 0s 19ms/step - loss: 5.1004 - mae: 5.1004\n",
            "Epoch 37/100\n",
            "1/1 [==============================] - 0s 16ms/step - loss: 4.9543 - mae: 4.9543\n",
            "Epoch 38/100\n",
            "1/1 [==============================] - 0s 27ms/step - loss: 4.7794 - mae: 4.7794\n",
            "Epoch 39/100\n",
            "1/1 [==============================] - 0s 31ms/step - loss: 4.6654 - mae: 4.6654\n",
            "Epoch 40/100\n",
            "1/1 [==============================] - 0s 24ms/step - loss: 4.5781 - mae: 4.5781\n",
            "Epoch 41/100\n",
            "1/1 [==============================] - 0s 54ms/step - loss: 4.4831 - mae: 4.4831\n",
            "Epoch 42/100\n",
            "1/1 [==============================] - 0s 39ms/step - loss: 4.4103 - mae: 4.4103\n",
            "Epoch 43/100\n",
            "1/1 [==============================] - 0s 32ms/step - loss: 4.2851 - mae: 4.2851\n",
            "Epoch 44/100\n",
            "1/1 [==============================] - 0s 19ms/step - loss: 4.1213 - mae: 4.1213\n",
            "Epoch 45/100\n",
            "1/1 [==============================] - 0s 20ms/step - loss: 3.9765 - mae: 3.9765\n",
            "Epoch 46/100\n",
            "1/1 [==============================] - 0s 19ms/step - loss: 3.8250 - mae: 3.8250\n",
            "Epoch 47/100\n",
            "1/1 [==============================] - 0s 22ms/step - loss: 3.6988 - mae: 3.6988\n",
            "Epoch 48/100\n",
            "1/1 [==============================] - 0s 22ms/step - loss: 3.5873 - mae: 3.5873\n",
            "Epoch 49/100\n",
            "1/1 [==============================] - 0s 31ms/step - loss: 3.4299 - mae: 3.4299\n",
            "Epoch 50/100\n",
            "1/1 [==============================] - 0s 23ms/step - loss: 3.2291 - mae: 3.2291\n",
            "Epoch 51/100\n",
            "1/1 [==============================] - 0s 24ms/step - loss: 3.0680 - mae: 3.0680\n",
            "Epoch 52/100\n",
            "1/1 [==============================] - 0s 22ms/step - loss: 2.9111 - mae: 2.9111\n",
            "Epoch 53/100\n",
            "1/1 [==============================] - 0s 32ms/step - loss: 2.7735 - mae: 2.7735\n",
            "Epoch 54/100\n",
            "1/1 [==============================] - 0s 41ms/step - loss: 2.5514 - mae: 2.5514\n",
            "Epoch 55/100\n",
            "1/1 [==============================] - 0s 20ms/step - loss: 2.3362 - mae: 2.3362\n",
            "Epoch 56/100\n",
            "1/1 [==============================] - 0s 12ms/step - loss: 2.1889 - mae: 2.1889\n",
            "Epoch 57/100\n",
            "1/1 [==============================] - 0s 14ms/step - loss: 2.0331 - mae: 2.0331\n",
            "Epoch 58/100\n",
            "1/1 [==============================] - 0s 45ms/step - loss: 1.8167 - mae: 1.8167\n",
            "Epoch 59/100\n",
            "1/1 [==============================] - 0s 31ms/step - loss: 1.5422 - mae: 1.5422\n",
            "Epoch 60/100\n",
            "1/1 [==============================] - 0s 31ms/step - loss: 1.2393 - mae: 1.2393\n",
            "Epoch 61/100\n",
            "1/1 [==============================] - 0s 31ms/step - loss: 1.0711 - mae: 1.0711\n",
            "Epoch 62/100\n",
            "1/1 [==============================] - 0s 33ms/step - loss: 0.8005 - mae: 0.8005\n",
            "Epoch 63/100\n",
            "1/1 [==============================] - 0s 44ms/step - loss: 0.5095 - mae: 0.5095\n",
            "Epoch 64/100\n",
            "1/1 [==============================] - 0s 40ms/step - loss: 0.3650 - mae: 0.3650\n",
            "Epoch 65/100\n",
            "1/1 [==============================] - 0s 42ms/step - loss: 0.0729 - mae: 0.0729\n",
            "Epoch 66/100\n",
            "1/1 [==============================] - 0s 37ms/step - loss: 0.4374 - mae: 0.4374\n",
            "Epoch 67/100\n",
            "1/1 [==============================] - 0s 16ms/step - loss: 0.4881 - mae: 0.4881\n",
            "Epoch 68/100\n",
            "1/1 [==============================] - 0s 23ms/step - loss: 0.6198 - mae: 0.6198\n",
            "Epoch 69/100\n",
            "1/1 [==============================] - 0s 23ms/step - loss: 0.6659 - mae: 0.6659\n",
            "Epoch 70/100\n",
            "1/1 [==============================] - 0s 16ms/step - loss: 0.6885 - mae: 0.6885\n",
            "Epoch 71/100\n",
            "1/1 [==============================] - 0s 21ms/step - loss: 0.7264 - mae: 0.7264\n",
            "Epoch 72/100\n",
            "1/1 [==============================] - 0s 17ms/step - loss: 0.5970 - mae: 0.5970\n",
            "Epoch 73/100\n",
            "1/1 [==============================] - 0s 24ms/step - loss: 0.5957 - mae: 0.5957\n",
            "Epoch 74/100\n",
            "1/1 [==============================] - 0s 32ms/step - loss: 0.5032 - mae: 0.5032\n",
            "Epoch 75/100\n",
            "1/1 [==============================] - 0s 55ms/step - loss: 0.2671 - mae: 0.2671\n",
            "Epoch 76/100\n",
            "1/1 [==============================] - 0s 61ms/step - loss: 0.1723 - mae: 0.1723\n",
            "Epoch 77/100\n",
            "1/1 [==============================] - 0s 70ms/step - loss: 0.0845 - mae: 0.0845\n",
            "Epoch 78/100\n",
            "1/1 [==============================] - 0s 18ms/step - loss: 0.2078 - mae: 0.2078\n",
            "Epoch 79/100\n",
            "1/1 [==============================] - 0s 19ms/step - loss: 0.2319 - mae: 0.2319\n",
            "Epoch 80/100\n",
            "1/1 [==============================] - 0s 27ms/step - loss: 0.2836 - mae: 0.2836\n",
            "Epoch 81/100\n",
            "1/1 [==============================] - 0s 20ms/step - loss: 0.2764 - mae: 0.2764\n",
            "Epoch 82/100\n",
            "1/1 [==============================] - 0s 18ms/step - loss: 0.2841 - mae: 0.2841\n",
            "Epoch 83/100\n",
            "1/1 [==============================] - 0s 18ms/step - loss: 0.1849 - mae: 0.1849\n",
            "Epoch 84/100\n",
            "1/1 [==============================] - 0s 47ms/step - loss: 0.1732 - mae: 0.1732\n",
            "Epoch 85/100\n",
            "1/1 [==============================] - 0s 23ms/step - loss: 0.0751 - mae: 0.0751\n",
            "Epoch 86/100\n",
            "1/1 [==============================] - 0s 54ms/step - loss: 0.1185 - mae: 0.1185\n",
            "Epoch 87/100\n",
            "1/1 [==============================] - 0s 24ms/step - loss: 0.1162 - mae: 0.1162\n",
            "Epoch 88/100\n",
            "1/1 [==============================] - 0s 20ms/step - loss: 0.1711 - mae: 0.1711\n",
            "Epoch 89/100\n",
            "1/1 [==============================] - 0s 31ms/step - loss: 0.1198 - mae: 0.1198\n",
            "Epoch 90/100\n",
            "1/1 [==============================] - 0s 36ms/step - loss: 0.0911 - mae: 0.0911\n",
            "Epoch 91/100\n",
            "1/1 [==============================] - 0s 28ms/step - loss: 0.1380 - mae: 0.1380\n",
            "Epoch 92/100\n",
            "1/1 [==============================] - 0s 22ms/step - loss: 0.0538 - mae: 0.0538\n",
            "Epoch 93/100\n",
            "1/1 [==============================] - 0s 22ms/step - loss: 0.1195 - mae: 0.1195\n",
            "Epoch 94/100\n",
            "1/1 [==============================] - 0s 17ms/step - loss: 0.0570 - mae: 0.0570\n",
            "Epoch 95/100\n",
            "1/1 [==============================] - 0s 26ms/step - loss: 0.0683 - mae: 0.0683\n",
            "Epoch 96/100\n",
            "1/1 [==============================] - 0s 30ms/step - loss: 0.1434 - mae: 0.1434\n",
            "Epoch 97/100\n",
            "1/1 [==============================] - 0s 28ms/step - loss: 0.0762 - mae: 0.0762\n",
            "Epoch 98/100\n",
            "1/1 [==============================] - 0s 19ms/step - loss: 0.2663 - mae: 0.2663\n",
            "Epoch 99/100\n",
            "1/1 [==============================] - 0s 32ms/step - loss: 0.2268 - mae: 0.2268\n",
            "Epoch 100/100\n",
            "1/1 [==============================] - 0s 28ms/step - loss: 0.0953 - mae: 0.0953\n"
          ]
        },
        {
          "output_type": "execute_result",
          "data": {
            "text/plain": [
              "<keras.src.callbacks.History at 0x7b6818c37940>"
            ]
          },
          "metadata": {},
          "execution_count": 19
        }
      ]
    },
    {
      "cell_type": "code",
      "source": [
        "# Try make prediction\n",
        "model3.predict([17.0])"
      ],
      "metadata": {
        "colab": {
          "base_uri": "https://localhost:8080/"
        },
        "id": "iZcXS1vmiusq",
        "outputId": "435325e1-4a72-4313-f8ef-6634f12c932c"
      },
      "execution_count": 20,
      "outputs": [
        {
          "output_type": "stream",
          "name": "stdout",
          "text": [
            "1/1 [==============================] - 0s 202ms/step\n"
          ]
        },
        {
          "output_type": "execute_result",
          "data": {
            "text/plain": [
              "array([[27.258652]], dtype=float32)"
            ]
          },
          "metadata": {},
          "execution_count": 20
        }
      ]
    },
    {
      "cell_type": "markdown",
      "source": [
        "## Evaluating Model\n",
        "\n",
        "Build a model -> fit it -> evaluate it -> tweak a model -> fit it -> evaluate it...\n",
        "\n",
        "Evaluation = visualize\n",
        "\n",
        "it's good idea to visualize :\n",
        "* The data - what data we working with? what does it look like?\n",
        "* The model = what does our model look like?\n",
        "* The training of a model - how does a model perform while it learns?\n",
        "* The predictions of the model - how do the predictions of a model line up against the ground truth (the origin label)"
      ],
      "metadata": {
        "id": "ggu1CbXFlSbl"
      }
    },
    {
      "cell_type": "code",
      "source": [
        "# Make a bigger dataset\n",
        "\n",
        "x = tf.range(-100, 100, 4)\n",
        "x"
      ],
      "metadata": {
        "colab": {
          "base_uri": "https://localhost:8080/"
        },
        "id": "O5yDk0J9lV5n",
        "outputId": "deef244f-d8ec-4d8b-e492-fe9fe9532915"
      },
      "execution_count": 21,
      "outputs": [
        {
          "output_type": "execute_result",
          "data": {
            "text/plain": [
              "<tf.Tensor: shape=(50,), dtype=int32, numpy=\n",
              "array([-100,  -96,  -92,  -88,  -84,  -80,  -76,  -72,  -68,  -64,  -60,\n",
              "        -56,  -52,  -48,  -44,  -40,  -36,  -32,  -28,  -24,  -20,  -16,\n",
              "        -12,   -8,   -4,    0,    4,    8,   12,   16,   20,   24,   28,\n",
              "         32,   36,   40,   44,   48,   52,   56,   60,   64,   68,   72,\n",
              "         76,   80,   84,   88,   92,   96], dtype=int32)>"
            ]
          },
          "metadata": {},
          "execution_count": 21
        }
      ]
    },
    {
      "cell_type": "code",
      "source": [
        "# Make labels for the dataset\n",
        "\n",
        "y = x + 10\n",
        "y"
      ],
      "metadata": {
        "colab": {
          "base_uri": "https://localhost:8080/"
        },
        "id": "_VnV5iodqYP8",
        "outputId": "bf69e5d4-01f2-48b7-f395-2696a1549111"
      },
      "execution_count": 22,
      "outputs": [
        {
          "output_type": "execute_result",
          "data": {
            "text/plain": [
              "<tf.Tensor: shape=(50,), dtype=int32, numpy=\n",
              "array([-90, -86, -82, -78, -74, -70, -66, -62, -58, -54, -50, -46, -42,\n",
              "       -38, -34, -30, -26, -22, -18, -14, -10,  -6,  -2,   2,   6,  10,\n",
              "        14,  18,  22,  26,  30,  34,  38,  42,  46,  50,  54,  58,  62,\n",
              "        66,  70,  74,  78,  82,  86,  90,  94,  98, 102, 106], dtype=int32)>"
            ]
          },
          "metadata": {},
          "execution_count": 22
        }
      ]
    },
    {
      "cell_type": "code",
      "source": [
        "# Visualize the data\n",
        "\n",
        "import matplotlib.pyplot as plt\n",
        "\n",
        "plt.scatter(x, y)"
      ],
      "metadata": {
        "colab": {
          "base_uri": "https://localhost:8080/",
          "height": 447
        },
        "id": "wqnieOnpqiby",
        "outputId": "bcd72601-20e1-4961-c26f-a364d816f338"
      },
      "execution_count": 23,
      "outputs": [
        {
          "output_type": "execute_result",
          "data": {
            "text/plain": [
              "<matplotlib.collections.PathCollection at 0x7b6818131450>"
            ]
          },
          "metadata": {},
          "execution_count": 23
        },
        {
          "output_type": "display_data",
          "data": {
            "text/plain": [
              "<Figure size 640x480 with 1 Axes>"
            ],
            "image/png": "[encoded data removed]"
          },
          "metadata": {}
        }
      ]
    },
    {
      "cell_type": "markdown",
      "source": [
        "### The 3 sets\n",
        "\n",
        "* **Training set** - the model learn from this data, 70-80%\n",
        "* **Validation set** - set model gets tuned on this data, 10-15%\n",
        "* **Test set** - the model gets evaluated on this data, 10-15%"
      ],
      "metadata": {
        "id": "CCtd3h36q0Xk"
      }
    },
    {
      "cell_type": "code",
      "source": [
        "# Check the length of the data\n",
        "len(x)"
      ],
      "metadata": {
        "colab": {
          "base_uri": "https://localhost:8080/"
        },
        "id": "2_ITjQWjFQsM",
        "outputId": "7940981c-b8fe-4194-dde6-6773933b35b8"
      },
      "execution_count": 24,
      "outputs": [
        {
          "output_type": "execute_result",
          "data": {
            "text/plain": [
              "50"
            ]
          },
          "metadata": {},
          "execution_count": 24
        }
      ]
    },
    {
      "cell_type": "code",
      "source": [
        "# Split the data into train and test sets\n",
        "x_train = x[:40] # first to 40 data will be the training sample\n",
        "y_train = y[:40]\n",
        "\n",
        "x_test = x[40:] # 20% will be test\n",
        "y_test = y[40:]\n",
        "\n",
        "len(x_train), len(x_test), len(y_train), len(y_test)"
      ],
      "metadata": {
        "colab": {
          "base_uri": "https://localhost:8080/"
        },
        "id": "4fkIFEl_HAu3",
        "outputId": "c3b50d56-66c6-400a-ee42-d2a6c9ac2ad6"
      },
      "execution_count": 25,
      "outputs": [
        {
          "output_type": "execute_result",
          "data": {
            "text/plain": [
              "(40, 10, 40, 10)"
            ]
          },
          "metadata": {},
          "execution_count": 25
        }
      ]
    },
    {
      "cell_type": "markdown",
      "source": [
        "### Visualing the data\n",
        "\n",
        "Now we've got out data in training and test sets...lets visualize it"
      ],
      "metadata": {
        "id": "9WJ9AtA0KgLL"
      }
    },
    {
      "cell_type": "code",
      "source": [
        "plt.figure(figsize=(10,7))\n",
        "\n",
        "# Plot training data in blue\n",
        "plt.scatter(x_train, y_train, c=\"b\", label=\"Training data\")\n",
        "\n",
        "# Plot test data in green\n",
        "plt.scatter(x_test, y_test, c=\"g\", label=\"Testing data\")\n",
        "\n",
        "# Show a legend\n",
        "plt.legend();"
      ],
      "metadata": {
        "colab": {
          "base_uri": "https://localhost:8080/",
          "height": 486
        },
        "id": "OQGu_de6G_li",
        "outputId": "29101c03-728d-43d3-ed15-d21dc263c646"
      },
      "execution_count": 26,
      "outputs": [
        {
          "output_type": "display_data",
          "data": {
            "text/plain": [
              "<Figure size 1000x700 with 1 Axes>"
            ],
            "image/png": "[encoded data removed]"
          },
          "metadata": {}
        }
      ]
    },
    {
      "cell_type": "code",
      "source": [
        "# Lets have a look at how to build a neural network for our data\n",
        "\n",
        "# 1. Create the model\n",
        "model = tf.keras.Sequential([\n",
        "    tf.keras.layers.Dense(1)\n",
        "])\n",
        "\n",
        "# 2. Compile the model\n",
        "model.compile(loss = tf.keras.losses.mae,\n",
        "              optimizer = tf.keras.optimizers.SGD(),\n",
        "              metrics = [\"mae\"])\n",
        "\n",
        "# 3. Fit the model\n",
        "#model.fit(tf.expand_dims(x_train, axis=-1), y_train, epochs=100)"
      ],
      "metadata": {
        "id": "TtdWZXKHSSN-"
      },
      "execution_count": 27,
      "outputs": []
    },
    {
      "cell_type": "markdown",
      "source": [
        "### Visualizing the model"
      ],
      "metadata": {
        "id": "F7d7P08yTScA"
      }
    },
    {
      "cell_type": "code",
      "source": [
        "# Lets create  model wich builds automatically by defining the input_shape arguments\n",
        "\n",
        "tf.random.set_seed(42)\n",
        "\n",
        "# 1. Create the model\n",
        "model_1 = tf.keras.Sequential([\n",
        "    tf.keras.layers.Dense(100, input_shape=[1], name=\"input_layer\"),\n",
        "    tf.keras.layers.Dense(1, name=\"output_layer\")\n",
        "], name=\"model_one\")\n",
        "\n",
        "# 2. Compile the model\n",
        "model_1.compile(loss = tf.keras.losses.mae,\n",
        "              optimizer = tf.keras.optimizers.SGD(),\n",
        "              metrics = [\"mae\"])"
      ],
      "metadata": {
        "id": "MpSA6LxwTzZK"
      },
      "execution_count": 28,
      "outputs": []
    },
    {
      "cell_type": "code",
      "source": [
        "model_1.summary()"
      ],
      "metadata": {
        "colab": {
          "base_uri": "https://localhost:8080/"
        },
        "id": "-jMC9-6WUyLw",
        "outputId": "b953a682-7735-41ba-dcc4-7aab53c883ed"
      },
      "execution_count": 29,
      "outputs": [
        {
          "output_type": "stream",
          "name": "stdout",
          "text": [
            "Model: \"model_one\"\n",
            "_________________________________________________________________\n",
            " Layer (type)                Output Shape              Param #   \n",
            "=================================================================\n",
            " input_layer (Dense)         (None, 100)               200       \n",
            "                                                                 \n",
            " output_layer (Dense)        (None, 1)                 101       \n",
            "                                                                 \n",
            "=================================================================\n",
            "Total params: 301 (1.18 KB)\n",
            "Trainable params: 301 (1.18 KB)\n",
            "Non-trainable params: 0 (0.00 Byte)\n",
            "_________________________________________________________________\n"
          ]
        }
      ]
    },
    {
      "cell_type": "markdown",
      "source": [
        "* Total params - total number of parameters that we have\n",
        "\n",
        "* Trainable parameters - the parameters (patterns) the model can update as it trains\n",
        "\n",
        "* Non-trainable params - parameters cant updated during training (allready learn in models during **transfer learning**)\n",
        "\n",
        "📚 **Resource** : For a more in depth overview of the trainable parameters within a layer, check ouy MIT's intorduction to deep learning video\n",
        "\n",
        "⚡**Exercise :** Try playing around with the number of hidden units in the dense layer, see how that effect the number of parameters"
      ],
      "metadata": {
        "id": "fkeG27Fm3_t1"
      }
    },
    {
      "cell_type": "code",
      "source": [
        "# 3. Fit the model\n",
        "model_1.fit(tf.expand_dims(x_train, axis=-1), y_train, epochs=60, verbose=0)"
      ],
      "metadata": {
        "colab": {
          "base_uri": "https://localhost:8080/"
        },
        "id": "e-cgkHtW6914",
        "outputId": "0502e454-f2ec-4cc0-84f4-48f8a9c92045"
      },
      "execution_count": 30,
      "outputs": [
        {
          "output_type": "execute_result",
          "data": {
            "text/plain": [
              "<keras.src.callbacks.History at 0x7b6818033190>"
            ]
          },
          "metadata": {},
          "execution_count": 30
        }
      ]
    },
    {
      "cell_type": "code",
      "source": [
        "# Get a summary of our model\n",
        "model_1.summary()"
      ],
      "metadata": {
        "colab": {
          "base_uri": "https://localhost:8080/"
        },
        "id": "IYam8Kl-M2o7",
        "outputId": "322dcae4-7307-4752-8598-24a95dcf5426"
      },
      "execution_count": 31,
      "outputs": [
        {
          "output_type": "stream",
          "name": "stdout",
          "text": [
            "Model: \"model_one\"\n",
            "_________________________________________________________________\n",
            " Layer (type)                Output Shape              Param #   \n",
            "=================================================================\n",
            " input_layer (Dense)         (None, 100)               200       \n",
            "                                                                 \n",
            " output_layer (Dense)        (None, 1)                 101       \n",
            "                                                                 \n",
            "=================================================================\n",
            "Total params: 301 (1.18 KB)\n",
            "Trainable params: 301 (1.18 KB)\n",
            "Non-trainable params: 0 (0.00 Byte)\n",
            "_________________________________________________________________\n"
          ]
        }
      ]
    },
    {
      "cell_type": "code",
      "source": [
        "from tensorflow.keras.utils import plot_model\n",
        "\n",
        "plot_model(model=model_1, show_shapes=True)"
      ],
      "metadata": {
        "colab": {
          "base_uri": "https://localhost:8080/",
          "height": 312
        },
        "id": "EMxErQE0NVSc",
        "outputId": "2baf14ea-0de6-41fc-9bc0-ded92f2129bb"
      },
      "execution_count": 32,
      "outputs": [
        {
          "output_type": "execute_result",
          "data": {
            "image/png": "[encoded data removed]",
            "text/plain": [
              "<IPython.core.display.Image object>"
            ]
          },
          "metadata": {},
          "execution_count": 32
        }
      ]
    },
    {
      "cell_type": "markdown",
      "source": [
        "### Visualizing our models predictions\n",
        "\n",
        "To visualize predictions, it's a good idea to plot them against the ground truth labels.\n",
        "\n",
        "Often you'll see this in the form of 'y_test' or 'y_true' versus 'y_pred' (ground truth versus your model prediction)"
      ],
      "metadata": {
        "id": "XXOFpjXFOyH9"
      }
    },
    {
      "cell_type": "code",
      "source": [
        "# Make some predictions\n",
        "\n",
        "y_pred = model_1.predict(x_test)\n",
        "y_pred"
      ],
      "metadata": {
        "colab": {
          "base_uri": "https://localhost:8080/"
        },
        "id": "943XbXEayJf3",
        "outputId": "93c99736-ce0e-4a69-de6d-ae1a09dd1ec5"
      },
      "execution_count": 33,
      "outputs": [
        {
          "output_type": "stream",
          "name": "stderr",
          "text": [
            "WARNING:tensorflow:5 out of the last 5 calls to <function Model.make_predict_function.<locals>.predict_function at 0x7b680b721e10> triggered tf.function retracing. Tracing is expensive and the excessive number of tracings could be due to (1) creating @tf.function repeatedly in a loop, (2) passing tensors with different shapes, (3) passing Python objects instead of tensors. For (1), please define your @tf.function outside of the loop. For (2), @tf.function has reduce_retracing=True option that can avoid unnecessary retracing. For (3), please refer to https://www.tensorflow.org/guide/function#controlling_retracing and https://www.tensorflow.org/api_docs/python/tf/function for  more details.\n"
          ]
        },
        {
          "output_type": "stream",
          "name": "stdout",
          "text": [
            "1/1 [==============================] - 0s 108ms/step\n"
          ]
        },
        {
          "output_type": "execute_result",
          "data": {
            "text/plain": [
              "array([[ 71.47628 ],\n",
              "       [ 76.173164],\n",
              "       [ 80.87004 ],\n",
              "       [ 85.566925],\n",
              "       [ 90.263794],\n",
              "       [ 94.96068 ],\n",
              "       [ 99.65757 ],\n",
              "       [104.35444 ],\n",
              "       [109.051315],\n",
              "       [113.748184]], dtype=float32)"
            ]
          },
          "metadata": {},
          "execution_count": 33
        }
      ]
    },
    {
      "cell_type": "code",
      "source": [
        "y_test"
      ],
      "metadata": {
        "colab": {
          "base_uri": "https://localhost:8080/"
        },
        "id": "Ke-R5lq9zVa3",
        "outputId": "25108deb-9ec0-48b8-905a-f567ec8ca458"
      },
      "execution_count": 34,
      "outputs": [
        {
          "output_type": "execute_result",
          "data": {
            "text/plain": [
              "<tf.Tensor: shape=(10,), dtype=int32, numpy=array([ 70,  74,  78,  82,  86,  90,  94,  98, 102, 106], dtype=int32)>"
            ]
          },
          "metadata": {},
          "execution_count": 34
        }
      ]
    },
    {
      "cell_type": "markdown",
      "source": [
        "🔑 **Note : ** if you feel like you're going to reuse some functionality in the future, its good idea to turn it into a fucntion"
      ],
      "metadata": {
        "id": "nSO6jWAR09Jt"
      }
    },
    {
      "cell_type": "code",
      "source": [
        "# Lets create a plotting function\n",
        "\n",
        "def plot_predictions(train_data=x_train,\n",
        "                     train_labels=y_train,\n",
        "                     test_data=x_test,\n",
        "                     test_labels=y_test,\n",
        "                     predictions=y_pred):\n",
        "  \"\"\"\n",
        "  Plots training data, test data and compares predictions to ground truth labels\n",
        "  \"\"\"\n",
        "  plt.figure(figsize=(10,7))\n",
        "  # Plot training data in blue\n",
        "  plt.scatter(train_data, train_labels, c=\"b\", label=\"Training data\")\n",
        "\n",
        "  # Plot testing data in green\n",
        "  plt.scatter(test_data, test_labels, c=\"g\", label=\"Test data\")\n",
        "\n",
        "  # Plot models predictions in red\n",
        "  plt.scatter(test_data, predictions, c=\"r\", label=\"Predictions\")\n",
        "\n",
        "  # Show the legend\n",
        "  plt.legend()\n",
        "\n"
      ],
      "metadata": {
        "id": "Wt-qJvPk1MAh"
      },
      "execution_count": 35,
      "outputs": []
    },
    {
      "cell_type": "code",
      "source": [
        "plot_predictions()"
      ],
      "metadata": {
        "colab": {
          "base_uri": "https://localhost:8080/",
          "height": 481
        },
        "id": "7ZFYZPV5200S",
        "outputId": "c2912837-5d73-4881-c20c-86d472ab5f05"
      },
      "execution_count": 36,
      "outputs": [
        {
          "output_type": "display_data",
          "data": {
            "text/plain": [
              "<Figure size 1000x700 with 1 Axes>"
            ],
            "image/png": "[encoded data removed]"
          },
          "metadata": {}
        }
      ]
    },
    {
      "cell_type": "markdown",
      "source": [
        "### Evaluating our models predictions with regression evaluation metrics\n",
        "\n",
        "The evaluation metrics is depending to the model we working on\n",
        "\n",
        "since we're working on a regression, two of the main matrics:\n",
        "* MAE - mean absolute error, \"on average, how wrong is each of my model predictions\"\n",
        "\n",
        "* MSE - mean square error, \"square the average errors\""
      ],
      "metadata": {
        "id": "xWQ92ZRr4V_K"
      }
    },
    {
      "cell_type": "code",
      "source": [
        " # Evaluate the model on the test\n",
        " model_1.evaluate(x_test, y_test)"
      ],
      "metadata": {
        "id": "y3-bYOHr0p-A",
        "colab": {
          "base_uri": "https://localhost:8080/"
        },
        "outputId": "95f453aa-f31f-4ee3-c68b-82a5b5076430"
      },
      "execution_count": 37,
      "outputs": [
        {
          "output_type": "stream",
          "name": "stdout",
          "text": [
            "1/1 [==============================] - 0s 302ms/step - loss: 4.6122 - mae: 4.6122\n"
          ]
        },
        {
          "output_type": "execute_result",
          "data": {
            "text/plain": [
              "[4.612242698669434, 4.612242698669434]"
            ]
          },
          "metadata": {},
          "execution_count": 37
        }
      ]
    },
    {
      "cell_type": "code",
      "source": [
        "# Calculate the mean absolute error\n",
        "mae = tf.metrics.mean_absolute_error(y_true=y_test, y_pred=tf.constant(y_pred))\n",
        "mae"
      ],
      "metadata": {
        "colab": {
          "base_uri": "https://localhost:8080/"
        },
        "id": "bAwZ_yTfPV4C",
        "outputId": "bd535aca-603c-49e8-9d9d-3ffdb860f3e0"
      },
      "execution_count": 38,
      "outputs": [
        {
          "output_type": "execute_result",
          "data": {
            "text/plain": [
              "<tf.Tensor: shape=(10,), dtype=float32, numpy=\n",
              "array([16.818975, 13.496101, 11.251984, 10.086615, 10.052759, 11.184271,\n",
              "       13.394542, 16.683552, 21.051315, 25.748184], dtype=float32)>"
            ]
          },
          "metadata": {},
          "execution_count": 38
        }
      ]
    },
    {
      "cell_type": "code",
      "source": [
        "tf.constant(y_pred)"
      ],
      "metadata": {
        "colab": {
          "base_uri": "https://localhost:8080/"
        },
        "id": "v6CpJX1IPiwj",
        "outputId": "d11f068d-bba7-4d55-ca6d-96071434971a"
      },
      "execution_count": 39,
      "outputs": [
        {
          "output_type": "execute_result",
          "data": {
            "text/plain": [
              "<tf.Tensor: shape=(10, 1), dtype=float32, numpy=\n",
              "array([[ 71.47628 ],\n",
              "       [ 76.173164],\n",
              "       [ 80.87004 ],\n",
              "       [ 85.566925],\n",
              "       [ 90.263794],\n",
              "       [ 94.96068 ],\n",
              "       [ 99.65757 ],\n",
              "       [104.35444 ],\n",
              "       [109.051315],\n",
              "       [113.748184]], dtype=float32)>"
            ]
          },
          "metadata": {},
          "execution_count": 39
        }
      ]
    },
    {
      "cell_type": "code",
      "source": [
        "y_test"
      ],
      "metadata": {
        "colab": {
          "base_uri": "https://localhost:8080/"
        },
        "id": "JusnDI5oPlKR",
        "outputId": "eb67b0c9-4795-4252-c69e-720bca547953"
      },
      "execution_count": 40,
      "outputs": [
        {
          "output_type": "execute_result",
          "data": {
            "text/plain": [
              "<tf.Tensor: shape=(10,), dtype=int32, numpy=array([ 70,  74,  78,  82,  86,  90,  94,  98, 102, 106], dtype=int32)>"
            ]
          },
          "metadata": {},
          "execution_count": 40
        }
      ]
    },
    {
      "cell_type": "code",
      "source": [
        "tf.squeeze(y_pred)"
      ],
      "metadata": {
        "colab": {
          "base_uri": "https://localhost:8080/"
        },
        "id": "WqQJPNiwyi56",
        "outputId": "eaa6fbea-f165-4f20-e062-5a7394957966"
      },
      "execution_count": 41,
      "outputs": [
        {
          "output_type": "execute_result",
          "data": {
            "text/plain": [
              "<tf.Tensor: shape=(10,), dtype=float32, numpy=\n",
              "array([ 71.47628 ,  76.173164,  80.87004 ,  85.566925,  90.263794,\n",
              "        94.96068 ,  99.65757 , 104.35444 , 109.051315, 113.748184],\n",
              "      dtype=float32)>"
            ]
          },
          "metadata": {},
          "execution_count": 41
        }
      ]
    },
    {
      "cell_type": "code",
      "source": [
        "# Calculate the mean absolute error\n",
        "\n",
        "mae = tf.metrics.mean_absolute_error(y_true=y_test, y_pred=tf.squeeze(y_pred))\n",
        "\n",
        "mae"
      ],
      "metadata": {
        "colab": {
          "base_uri": "https://localhost:8080/"
        },
        "id": "uUT4LV7uypPs",
        "outputId": "5f05d790-17b0-41bf-e2cf-01b5380f42c9"
      },
      "execution_count": 42,
      "outputs": [
        {
          "output_type": "execute_result",
          "data": {
            "text/plain": [
              "<tf.Tensor: shape=(), dtype=float32, numpy=4.612239>"
            ]
          },
          "metadata": {},
          "execution_count": 42
        }
      ]
    },
    {
      "cell_type": "code",
      "source": [
        "# Calculate the mean square error\n",
        "\n",
        "mse = tf.metrics.mean_squared_error(y_true=y_test, y_pred=tf.squeeze(y_pred))\n",
        "mse"
      ],
      "metadata": {
        "id": "QpelDvIC2Nvg",
        "colab": {
          "base_uri": "https://localhost:8080/"
        },
        "outputId": "b6b05b9f-f005-4bbd-d009-61189e28358b"
      },
      "execution_count": 43,
      "outputs": [
        {
          "output_type": "execute_result",
          "data": {
            "text/plain": [
              "<tf.Tensor: shape=(), dtype=float32, numpy=25.279278>"
            ]
          },
          "metadata": {},
          "execution_count": 43
        }
      ]
    },
    {
      "cell_type": "code",
      "source": [
        "# Make fucntion to reuse MAE and MSE\n",
        "def mae(y_true, y_pred):\n",
        "  return tf.metrics.mean_absolute_error(y_true=y_true,\n",
        "                                      y_pred=tf.squeeze(y_pred))\n",
        "\n",
        "def mse(y_true,y_pred):\n",
        "  return tf.metrics.mean_squared_error(y_true=y_true,\n",
        "                                       y_pred=tf.squeeze(y_pred))"
      ],
      "metadata": {
        "id": "oCsUvdVW2yQL"
      },
      "execution_count": 44,
      "outputs": []
    },
    {
      "cell_type": "markdown",
      "source": [
        "### Running experiments to improve our model\n",
        "\n",
        "1. Get more data - get more example for model\n",
        "\n",
        "2. Make your model larger (using a more complex model) - matbe more layers or hidden units\n",
        "\n",
        "3. Train for longer - give model more chance to find patterns in data\n",
        "\n",
        "Let's do 3 modelling experiment L\n",
        "\n",
        "1. 'model_1' - same as the origin, 1 layer, trained for 100 epochs\n",
        "\n",
        "2. 'model_2' - 2 layers, trained for 100 epochs\n",
        "\n",
        "3. 'model_3' - 2 layers, rained for 500 epochs"
      ],
      "metadata": {
        "id": "U73RgqjhN1Gb"
      }
    },
    {
      "cell_type": "code",
      "source": [
        "x_train, y_train"
      ],
      "metadata": {
        "colab": {
          "base_uri": "https://localhost:8080/"
        },
        "id": "ZRYFc01nOexa",
        "outputId": "8e7e22fc-e378-4011-e572-56fad0ecf3e1"
      },
      "execution_count": 45,
      "outputs": [
        {
          "output_type": "execute_result",
          "data": {
            "text/plain": [
              "(<tf.Tensor: shape=(40,), dtype=int32, numpy=\n",
              " array([-100,  -96,  -92,  -88,  -84,  -80,  -76,  -72,  -68,  -64,  -60,\n",
              "         -56,  -52,  -48,  -44,  -40,  -36,  -32,  -28,  -24,  -20,  -16,\n",
              "         -12,   -8,   -4,    0,    4,    8,   12,   16,   20,   24,   28,\n",
              "          32,   36,   40,   44,   48,   52,   56], dtype=int32)>,\n",
              " <tf.Tensor: shape=(40,), dtype=int32, numpy=\n",
              " array([-90, -86, -82, -78, -74, -70, -66, -62, -58, -54, -50, -46, -42,\n",
              "        -38, -34, -30, -26, -22, -18, -14, -10,  -6,  -2,   2,   6,  10,\n",
              "         14,  18,  22,  26,  30,  34,  38,  42,  46,  50,  54,  58,  62,\n",
              "         66], dtype=int32)>)"
            ]
          },
          "metadata": {},
          "execution_count": 45
        }
      ]
    },
    {
      "cell_type": "code",
      "source": [
        "# First build model_1\n",
        "\n",
        "# Ser random seed\n",
        "tf.random.set_seed(42)\n",
        "\n",
        "# 1. Create the model\n",
        "model_1 = tf.keras.Sequential([\n",
        "    tf.keras.layers.Dense(1)\n",
        "])\n",
        "\n",
        "# 2. Compile the model\n",
        "model_1.compile(loss=tf.keras.losses.mae,\n",
        "                optimizer=tf.keras.optimizers.SGD(),\n",
        "                metrics=[\"mae\"],\n",
        "                run_eagerly=True)\n",
        "\n",
        "# 3. FIt the model\n",
        "model_1.fit(tf.expand_dims(x_train, axis=-1), y_train, epochs=100, verbose=0)"
      ],
      "metadata": {
        "colab": {
          "base_uri": "https://localhost:8080/"
        },
        "id": "Bm7GqWOpN77n",
        "outputId": "459a5e16-b84c-450a-eb7b-11ae8dc16638"
      },
      "execution_count": 46,
      "outputs": [
        {
          "output_type": "execute_result",
          "data": {
            "text/plain": [
              "<keras.src.callbacks.History at 0x7b680b775870>"
            ]
          },
          "metadata": {},
          "execution_count": 46
        }
      ]
    },
    {
      "cell_type": "code",
      "source": [
        "model_1.predict(tf.reshape(x_test, shape=(-1,1)))"
      ],
      "metadata": {
        "colab": {
          "base_uri": "https://localhost:8080/"
        },
        "id": "vvrhWzRwTr-8",
        "outputId": "f17d8e56-4aeb-448f-d609-b719aefbe744"
      },
      "execution_count": 47,
      "outputs": [
        {
          "output_type": "stream",
          "name": "stdout",
          "text": [
            "1/1 [==============================] - 0s 25ms/step\n"
          ]
        },
        {
          "output_type": "execute_result",
          "data": {
            "text/plain": [
              "array([[51.634243],\n",
              "       [54.98961 ],\n",
              "       [58.344975],\n",
              "       [61.70034 ],\n",
              "       [65.05571 ],\n",
              "       [68.41107 ],\n",
              "       [71.76644 ],\n",
              "       [75.1218  ],\n",
              "       [78.47717 ],\n",
              "       [81.83254 ]], dtype=float32)"
            ]
          },
          "metadata": {},
          "execution_count": 47
        }
      ]
    },
    {
      "cell_type": "code",
      "source": [
        "# Make a plot predictions for model_1\n",
        "\n",
        "# x_test = tf.reshape(x_test, shape=(-1,1))\n",
        "\n",
        "y_preds_1 = model_1.predict(tf.reshape(x_test, shape=(-1,1)))\n",
        "plot_predictions(predictions=y_preds_1)"
      ],
      "metadata": {
        "colab": {
          "base_uri": "https://localhost:8080/",
          "height": 503
        },
        "id": "-VTt2FvCQK0C",
        "outputId": "daffb93a-b797-478c-d444-5949980683b8"
      },
      "execution_count": 48,
      "outputs": [
        {
          "output_type": "stream",
          "name": "stdout",
          "text": [
            "1/1 [==============================] - 0s 23ms/step\n"
          ]
        },
        {
          "output_type": "display_data",
          "data": {
            "text/plain": [
              "<Figure size 1000x700 with 1 Axes>"
            ],
            "image/png": "[encoded data removed]"
          },
          "metadata": {}
        }
      ]
    },
    {
      "cell_type": "code",
      "source": [
        "# Calculate model_1 evaluation metrics\n",
        "\n",
        "mae_1 = mae(y_test, y_preds_1)\n",
        "mse_1 = mse(y_test, y_preds_1)\n",
        "\n",
        "mae_1, mse_1"
      ],
      "metadata": {
        "colab": {
          "base_uri": "https://localhost:8080/"
        },
        "id": "3u6Og5EaqZEp",
        "outputId": "c6894d78-39b8-48cd-b599-cd59cc9bf998"
      },
      "execution_count": 49,
      "outputs": [
        {
          "output_type": "execute_result",
          "data": {
            "text/plain": [
              "(<tf.Tensor: shape=(), dtype=float32, numpy=21.266607>,\n",
              " <tf.Tensor: shape=(), dtype=float32, numpy=455.69696>)"
            ]
          },
          "metadata": {},
          "execution_count": 49
        }
      ]
    },
    {
      "cell_type": "markdown",
      "source": [
        "**Build model_2**\n",
        "\n",
        "* 2 dense layers, trained for 100 epochs"
      ],
      "metadata": {
        "id": "3IG91oWhsu7n"
      }
    },
    {
      "cell_type": "code",
      "source": [
        "# Build model_2\n",
        "\n",
        "# Set the random seed\n",
        "tf.random.set_seed(42)\n",
        "\n",
        "# 1. Create model\n",
        "model_2 = tf.keras.Sequential([\n",
        "    tf.keras.layers.Dense(70, name=\"input_layer\"),\n",
        "    tf.keras.layers.Dense(1, name=\"Output_layer\")\n",
        "])\n",
        "\n",
        "# 2. Compile the model\n",
        "\n",
        "model_2.compile(loss = mae,\n",
        "              optimizer = tf.keras.optimizers.SGD(),\n",
        "              metrics = [\"mae\"])"
      ],
      "metadata": {
        "id": "F9HBFkiUvO0E"
      },
      "execution_count": 50,
      "outputs": []
    },
    {
      "cell_type": "code",
      "source": [
        "# 3. Make Train the model\n",
        "model_2.fit(tf.expand_dims(x_train, axis=-1), y_train, epochs=54)"
      ],
      "metadata": {
        "colab": {
          "base_uri": "https://localhost:8080/"
        },
        "id": "xCwKGotyzj8h",
        "outputId": "b2a3ec6b-2966-4092-f82f-f7998ffe1e83"
      },
      "execution_count": 51,
      "outputs": [
        {
          "output_type": "stream",
          "name": "stdout",
          "text": [
            "Epoch 1/54\n",
            "2/2 [==============================] - 1s 11ms/step - loss: 40.9520 - mae: 31.0207\n",
            "Epoch 2/54\n",
            "2/2 [==============================] - 0s 9ms/step - loss: 40.9534 - mae: 37.4973\n",
            "Epoch 3/54\n",
            "2/2 [==============================] - 0s 9ms/step - loss: 51.5454 - mae: 17.1173\n",
            "Epoch 4/54\n",
            "2/2 [==============================] - 0s 10ms/step - loss: 40.6764 - mae: 34.9829\n",
            "Epoch 5/54\n",
            "2/2 [==============================] - 0s 8ms/step - loss: 41.1320 - mae: 40.7645\n",
            "Epoch 6/54\n",
            "2/2 [==============================] - 0s 7ms/step - loss: 41.0377 - mae: 31.1483\n",
            "Epoch 7/54\n",
            "2/2 [==============================] - 0s 12ms/step - loss: 40.7435 - mae: 38.1415\n",
            "Epoch 8/54\n",
            "2/2 [==============================] - 0s 8ms/step - loss: 40.7446 - mae: 32.7352\n",
            "Epoch 9/54\n",
            "2/2 [==============================] - 0s 9ms/step - loss: 46.1872 - mae: 15.3700\n",
            "Epoch 10/54\n",
            "2/2 [==============================] - 0s 8ms/step - loss: 40.4353 - mae: 35.1549\n",
            "Epoch 11/54\n",
            "2/2 [==============================] - 0s 8ms/step - loss: 40.9265 - mae: 39.1289\n",
            "Epoch 12/54\n",
            "2/2 [==============================] - 0s 9ms/step - loss: 50.7988 - mae: 14.6401\n",
            "Epoch 13/54\n",
            "2/2 [==============================] - 0s 8ms/step - loss: 40.7505 - mae: 35.3476\n",
            "Epoch 14/54\n",
            "2/2 [==============================] - 0s 10ms/step - loss: 41.1258 - mae: 30.1811\n",
            "Epoch 15/54\n",
            "2/2 [==============================] - 0s 9ms/step - loss: 40.8388 - mae: 38.2487\n",
            "Epoch 16/54\n",
            "2/2 [==============================] - 0s 8ms/step - loss: 40.8385 - mae: 40.6547\n",
            "Epoch 17/54\n",
            "2/2 [==============================] - 0s 8ms/step - loss: 40.3258 - mae: 34.1165\n",
            "Epoch 18/54\n",
            "2/2 [==============================] - 0s 11ms/step - loss: 40.8204 - mae: 33.4663\n",
            "Epoch 19/54\n",
            "2/2 [==============================] - 0s 14ms/step - loss: 43.0071 - mae: 18.9398\n",
            "Epoch 20/54\n",
            "2/2 [==============================] - 0s 8ms/step - loss: 40.9907 - mae: 31.8414\n",
            "Epoch 21/54\n",
            "2/2 [==============================] - 0s 12ms/step - loss: 40.7399 - mae: 35.2551\n",
            "Epoch 22/54\n",
            "2/2 [==============================] - 0s 8ms/step - loss: 40.6258 - mae: 37.3307\n",
            "Epoch 23/54\n",
            "2/2 [==============================] - 0s 9ms/step - loss: 40.6501 - mae: 38.1949\n",
            "Epoch 24/54\n",
            "2/2 [==============================] - 0s 8ms/step - loss: 40.9715 - mae: 30.8628\n",
            "Epoch 25/54\n",
            "2/2 [==============================] - 0s 7ms/step - loss: 40.8865 - mae: 41.3939\n",
            "Epoch 26/54\n",
            "2/2 [==============================] - 0s 8ms/step - loss: 41.8273 - mae: 26.6056\n",
            "Epoch 27/54\n",
            "2/2 [==============================] - 0s 8ms/step - loss: 40.7326 - mae: 34.5947\n",
            "Epoch 28/54\n",
            "2/2 [==============================] - 0s 8ms/step - loss: 42.0942 - mae: 24.5446\n",
            "Epoch 29/54\n",
            "2/2 [==============================] - 0s 8ms/step - loss: 40.6893 - mae: 33.6595\n",
            "Epoch 30/54\n",
            "2/2 [==============================] - 0s 8ms/step - loss: 44.8772 - mae: 14.4458\n",
            "Epoch 31/54\n",
            "2/2 [==============================] - 0s 8ms/step - loss: 56.8041 - mae: 15.2904\n",
            "Epoch 32/54\n",
            "2/2 [==============================] - 0s 8ms/step - loss: 41.2326 - mae: 26.6792\n",
            "Epoch 33/54\n",
            "2/2 [==============================] - 0s 11ms/step - loss: 41.1915 - mae: 30.0574\n",
            "Epoch 34/54\n",
            "2/2 [==============================] - 0s 8ms/step - loss: 40.8288 - mae: 32.4271\n",
            "Epoch 35/54\n",
            "2/2 [==============================] - 0s 8ms/step - loss: 40.6180 - mae: 35.0258\n",
            "Epoch 36/54\n",
            "2/2 [==============================] - 0s 8ms/step - loss: 41.5886 - mae: 24.2323\n",
            "Epoch 37/54\n",
            "2/2 [==============================] - 0s 8ms/step - loss: 40.8617 - mae: 32.3486\n",
            "Epoch 38/54\n",
            "2/2 [==============================] - 0s 9ms/step - loss: 40.6596 - mae: 34.4220\n",
            "Epoch 39/54\n",
            "2/2 [==============================] - 0s 9ms/step - loss: 40.7288 - mae: 34.0362\n",
            "Epoch 40/54\n",
            "2/2 [==============================] - 0s 8ms/step - loss: 40.8665 - mae: 32.8138\n",
            "Epoch 41/54\n",
            "2/2 [==============================] - 0s 8ms/step - loss: 40.3720 - mae: 33.7352\n",
            "Epoch 42/54\n",
            "2/2 [==============================] - 0s 8ms/step - loss: 40.7185 - mae: 34.7059\n",
            "Epoch 43/54\n",
            "2/2 [==============================] - 0s 10ms/step - loss: 40.5525 - mae: 36.7683\n",
            "Epoch 44/54\n",
            "2/2 [==============================] - 0s 8ms/step - loss: 41.0104 - mae: 30.1391\n",
            "Epoch 45/54\n",
            "2/2 [==============================] - 0s 8ms/step - loss: 41.0483 - mae: 30.9418\n",
            "Epoch 46/54\n",
            "2/2 [==============================] - 0s 8ms/step - loss: 40.6979 - mae: 33.3706\n",
            "Epoch 47/54\n",
            "2/2 [==============================] - 0s 8ms/step - loss: 40.7121 - mae: 34.6321\n",
            "Epoch 48/54\n",
            "2/2 [==============================] - 0s 8ms/step - loss: 40.6668 - mae: 37.2430\n",
            "Epoch 49/54\n",
            "2/2 [==============================] - 0s 8ms/step - loss: 40.6596 - mae: 37.0343\n",
            "Epoch 50/54\n",
            "2/2 [==============================] - 0s 9ms/step - loss: 40.5700 - mae: 35.1831\n",
            "Epoch 51/54\n",
            "2/2 [==============================] - 0s 8ms/step - loss: 40.6724 - mae: 37.2261\n",
            "Epoch 52/54\n",
            "2/2 [==============================] - 0s 8ms/step - loss: 40.5837 - mae: 35.2762\n",
            "Epoch 53/54\n",
            "2/2 [==============================] - 0s 8ms/step - loss: 40.3849 - mae: 28.1093\n",
            "Epoch 54/54\n",
            "2/2 [==============================] - 0s 7ms/step - loss: 43.4959 - mae: 18.2877\n"
          ]
        },
        {
          "output_type": "execute_result",
          "data": {
            "text/plain": [
              "<keras.src.callbacks.History at 0x7b680aef4f40>"
            ]
          },
          "metadata": {},
          "execution_count": 51
        }
      ]
    },
    {
      "cell_type": "code",
      "source": [
        "x_test"
      ],
      "metadata": {
        "colab": {
          "base_uri": "https://localhost:8080/"
        },
        "id": "F4p4SDzi3EAL",
        "outputId": "16151e41-2f95-4fbd-e389-bc1af53f8804"
      },
      "execution_count": 52,
      "outputs": [
        {
          "output_type": "execute_result",
          "data": {
            "text/plain": [
              "<tf.Tensor: shape=(10,), dtype=int32, numpy=array([60, 64, 68, 72, 76, 80, 84, 88, 92, 96], dtype=int32)>"
            ]
          },
          "metadata": {},
          "execution_count": 52
        }
      ]
    },
    {
      "cell_type": "code",
      "source": [
        "y_test"
      ],
      "metadata": {
        "colab": {
          "base_uri": "https://localhost:8080/"
        },
        "id": "pg4Syr7r3HES",
        "outputId": "efc56bbc-e3cb-4b49-d71c-3b109c3e36c6"
      },
      "execution_count": 53,
      "outputs": [
        {
          "output_type": "execute_result",
          "data": {
            "text/plain": [
              "<tf.Tensor: shape=(10,), dtype=int32, numpy=array([ 70,  74,  78,  82,  86,  90,  94,  98, 102, 106], dtype=int32)>"
            ]
          },
          "metadata": {},
          "execution_count": 53
        }
      ]
    },
    {
      "cell_type": "code",
      "source": [
        "model_2.predict(x_test)"
      ],
      "metadata": {
        "colab": {
          "base_uri": "https://localhost:8080/"
        },
        "id": "bvtvcNO03KN2",
        "outputId": "ddfc3791-6e92-4732-9211-a123fbe348b2"
      },
      "execution_count": 54,
      "outputs": [
        {
          "output_type": "stream",
          "name": "stderr",
          "text": [
            "WARNING:tensorflow:6 out of the last 6 calls to <function Model.make_predict_function.<locals>.predict_function at 0x7b680b711120> triggered tf.function retracing. Tracing is expensive and the excessive number of tracings could be due to (1) creating @tf.function repeatedly in a loop, (2) passing tensors with different shapes, (3) passing Python objects instead of tensors. For (1), please define your @tf.function outside of the loop. For (2), @tf.function has reduce_retracing=True option that can avoid unnecessary retracing. For (3), please refer to https://www.tensorflow.org/guide/function#controlling_retracing and https://www.tensorflow.org/api_docs/python/tf/function for  more details.\n"
          ]
        },
        {
          "output_type": "stream",
          "name": "stdout",
          "text": [
            "1/1 [==============================] - 0s 57ms/step\n"
          ]
        },
        {
          "output_type": "execute_result",
          "data": {
            "text/plain": [
              "array([[32.20963 ],\n",
              "       [34.371296],\n",
              "       [36.53295 ],\n",
              "       [38.69462 ],\n",
              "       [40.856274],\n",
              "       [43.01794 ],\n",
              "       [45.179604],\n",
              "       [47.341267],\n",
              "       [49.502937],\n",
              "       [51.66459 ]], dtype=float32)"
            ]
          },
          "metadata": {},
          "execution_count": 54
        }
      ]
    },
    {
      "cell_type": "code",
      "source": [
        "# Make and plot predictions of model_2\n",
        "\n",
        "y_preds_2 = model_2.predict(x_test)\n",
        "plot_predictions(predictions=y_preds_2)"
      ],
      "metadata": {
        "colab": {
          "base_uri": "https://localhost:8080/",
          "height": 503
        },
        "id": "qYq7itP01-ur",
        "outputId": "71f092a9-979d-4cdb-a869-c54c232454ab"
      },
      "execution_count": 55,
      "outputs": [
        {
          "output_type": "stream",
          "name": "stdout",
          "text": [
            "1/1 [==============================] - 0s 23ms/step\n"
          ]
        },
        {
          "output_type": "display_data",
          "data": {
            "text/plain": [
              "<Figure size 1000x700 with 1 Axes>"
            ],
            "image/png": "[encoded data removed]"
          },
          "metadata": {}
        }
      ]
    },
    {
      "cell_type": "code",
      "source": [
        "model_2.summary()"
      ],
      "metadata": {
        "colab": {
          "base_uri": "https://localhost:8080/"
        },
        "id": "nrRhl6kf1o_c",
        "outputId": "be5697de-81c6-47d8-d592-db86b9172de6"
      },
      "execution_count": 56,
      "outputs": [
        {
          "output_type": "stream",
          "name": "stdout",
          "text": [
            "Model: \"sequential_6\"\n",
            "_________________________________________________________________\n",
            " Layer (type)                Output Shape              Param #   \n",
            "=================================================================\n",
            " input_layer (Dense)         (None, 70)                140       \n",
            "                                                                 \n",
            " Output_layer (Dense)        (None, 1)                 71        \n",
            "                                                                 \n",
            "=================================================================\n",
            "Total params: 211 (844.00 Byte)\n",
            "Trainable params: 211 (844.00 Byte)\n",
            "Non-trainable params: 0 (0.00 Byte)\n",
            "_________________________________________________________________\n"
          ]
        }
      ]
    },
    {
      "cell_type": "code",
      "source": [
        "# Calculate model_2 evaluation metrics\n",
        "\n",
        "mae_2 = mae(y_test, y_preds_2)\n",
        "mse_2 = mse(y_test, y_preds_2)\n",
        "\n",
        "mae_2, mse_2"
      ],
      "metadata": {
        "colab": {
          "base_uri": "https://localhost:8080/"
        },
        "id": "C54KgBhY6klJ",
        "outputId": "870f60e9-2df2-4263-c20b-2c7c00f54fe8"
      },
      "execution_count": 57,
      "outputs": [
        {
          "output_type": "execute_result",
          "data": {
            "text/plain": [
              "(<tf.Tensor: shape=(), dtype=float32, numpy=46.06289>,\n",
              " <tf.Tensor: shape=(), dtype=float32, numpy=2149.6707>)"
            ]
          },
          "metadata": {},
          "execution_count": 57
        }
      ]
    },
    {
      "cell_type": "markdown",
      "source": [
        "**Build model_3**\n",
        "\n",
        "* 2 layers, trained for 500 epochs"
      ],
      "metadata": {
        "id": "UgQW0Vw_Eigq"
      }
    },
    {
      "cell_type": "code",
      "source": [
        "# Build mdoel 3\n",
        "\n",
        "# set random seed\n",
        "tf.random.set_seed(42)\n",
        "\n",
        "# Build the model\n",
        "model_3 = tf.keras.Sequential([\n",
        "    tf.keras.layers.Dense(10),\n",
        "    tf.keras.layers.Dense(1)\n",
        "])\n",
        "\n",
        "# Compile the model\n",
        "model_3.compile(loss=mae,\n",
        "                optimizer = tf.keras.optimizers.SGD(),\n",
        "                metrics=[\"mae\"])"
      ],
      "metadata": {
        "id": "ZDmoG_8fEdZp"
      },
      "execution_count": 58,
      "outputs": []
    },
    {
      "cell_type": "code",
      "source": [
        "# 3. FIt the model\n",
        "model_3.fit(tf.expand_dims(x_train, axis=-1), y_train, epochs=500)\n"
      ],
      "metadata": {
        "colab": {
          "base_uri": "https://localhost:8080/"
        },
        "id": "Xw5ZEQwjFTQF",
        "outputId": "08d78466-12af-44a8-ca84-aae9a61b3512"
      },
      "execution_count": 59,
      "outputs": [
        {
          "output_type": "stream",
          "name": "stdout",
          "text": [
            "Epoch 1/500\n",
            "2/2 [==============================] - 0s 11ms/step - loss: 43.1218 - mae: 52.1391\n",
            "Epoch 2/500\n",
            "2/2 [==============================] - 0s 12ms/step - loss: 40.8355 - mae: 40.4186\n",
            "Epoch 3/500\n",
            "2/2 [==============================] - 0s 11ms/step - loss: 45.0033 - mae: 16.2068\n",
            "Epoch 4/500\n",
            "2/2 [==============================] - 0s 9ms/step - loss: 40.8159 - mae: 39.0966\n",
            "Epoch 5/500\n",
            "2/2 [==============================] - 0s 8ms/step - loss: 40.6261 - mae: 38.0508\n",
            "Epoch 6/500\n",
            "2/2 [==============================] - 0s 7ms/step - loss: 40.7768 - mae: 34.0782\n",
            "Epoch 7/500\n",
            "2/2 [==============================] - 0s 8ms/step - loss: 40.7523 - mae: 37.3267\n",
            "Epoch 8/500\n",
            "2/2 [==============================] - 0s 8ms/step - loss: 40.5478 - mae: 33.9507\n",
            "Epoch 9/500\n",
            "2/2 [==============================] - 0s 9ms/step - loss: 42.0197 - mae: 23.2224\n",
            "Epoch 10/500\n",
            "2/2 [==============================] - 0s 8ms/step - loss: 40.2514 - mae: 31.8761\n",
            "Epoch 11/500\n",
            "2/2 [==============================] - 0s 8ms/step - loss: 40.8362 - mae: 37.1616\n",
            "Epoch 12/500\n",
            "2/2 [==============================] - 0s 7ms/step - loss: 46.8313 - mae: 14.5119\n",
            "Epoch 13/500\n",
            "2/2 [==============================] - 0s 8ms/step - loss: 40.9951 - mae: 31.8643\n",
            "Epoch 14/500\n",
            "2/2 [==============================] - 0s 8ms/step - loss: 41.2094 - mae: 29.5240\n",
            "Epoch 15/500\n",
            "2/2 [==============================] - 0s 9ms/step - loss: 40.7009 - mae: 36.1475\n",
            "Epoch 16/500\n",
            "2/2 [==============================] - 0s 8ms/step - loss: 40.7692 - mae: 39.3472\n",
            "Epoch 17/500\n",
            "2/2 [==============================] - 0s 7ms/step - loss: 40.3496 - mae: 34.8635\n",
            "Epoch 18/500\n",
            "2/2 [==============================] - 0s 7ms/step - loss: 40.6651 - mae: 33.6518\n",
            "Epoch 19/500\n",
            "2/2 [==============================] - 0s 7ms/step - loss: 42.1898 - mae: 21.6694\n",
            "Epoch 20/500\n",
            "2/2 [==============================] - 0s 9ms/step - loss: 40.9502 - mae: 32.0411\n",
            "Epoch 21/500\n",
            "2/2 [==============================] - 0s 8ms/step - loss: 40.7597 - mae: 34.6638\n",
            "Epoch 22/500\n",
            "2/2 [==============================] - 0s 8ms/step - loss: 40.5865 - mae: 36.7966\n",
            "Epoch 23/500\n",
            "2/2 [==============================] - 0s 8ms/step - loss: 40.6352 - mae: 37.7565\n",
            "Epoch 24/500\n",
            "2/2 [==============================] - 0s 8ms/step - loss: 40.8462 - mae: 33.1837\n",
            "Epoch 25/500\n",
            "2/2 [==============================] - 0s 9ms/step - loss: 40.7617 - mae: 40.1876\n",
            "Epoch 26/500\n",
            "2/2 [==============================] - 0s 8ms/step - loss: 41.4358 - mae: 28.3276\n",
            "Epoch 27/500\n",
            "2/2 [==============================] - 0s 7ms/step - loss: 40.6882 - mae: 34.4010\n",
            "Epoch 28/500\n",
            "2/2 [==============================] - 0s 8ms/step - loss: 41.3757 - mae: 27.7953\n",
            "Epoch 29/500\n",
            "2/2 [==============================] - 0s 8ms/step - loss: 40.4942 - mae: 33.3451\n",
            "Epoch 30/500\n",
            "2/2 [==============================] - 0s 8ms/step - loss: 43.1672 - mae: 16.4003\n",
            "Epoch 31/500\n",
            "2/2 [==============================] - 0s 15ms/step - loss: 53.5715 - mae: 13.0612\n",
            "Epoch 32/500\n",
            "2/2 [==============================] - 0s 8ms/step - loss: 41.2791 - mae: 26.3222\n",
            "Epoch 33/500\n",
            "2/2 [==============================] - 0s 6ms/step - loss: 41.2657 - mae: 29.4288\n",
            "Epoch 34/500\n",
            "2/2 [==============================] - 0s 11ms/step - loss: 40.8872 - mae: 31.6091\n",
            "Epoch 35/500\n",
            "2/2 [==============================] - 0s 7ms/step - loss: 40.5688 - mae: 34.0832\n",
            "Epoch 36/500\n",
            "2/2 [==============================] - 0s 9ms/step - loss: 41.4394 - mae: 25.0282\n",
            "Epoch 37/500\n",
            "2/2 [==============================] - 0s 7ms/step - loss: 40.8917 - mae: 31.9722\n",
            "Epoch 38/500\n",
            "2/2 [==============================] - 0s 8ms/step - loss: 40.6789 - mae: 33.7840\n",
            "Epoch 39/500\n",
            "2/2 [==============================] - 0s 9ms/step - loss: 40.7430 - mae: 33.5200\n",
            "Epoch 40/500\n",
            "2/2 [==============================] - 0s 8ms/step - loss: 40.8611 - mae: 32.8751\n",
            "Epoch 41/500\n",
            "2/2 [==============================] - 0s 8ms/step - loss: 40.3707 - mae: 33.6183\n",
            "Epoch 42/500\n",
            "2/2 [==============================] - 0s 9ms/step - loss: 40.7293 - mae: 34.4523\n",
            "Epoch 43/500\n",
            "2/2 [==============================] - 0s 8ms/step - loss: 40.5314 - mae: 36.2867\n",
            "Epoch 44/500\n",
            "2/2 [==============================] - 0s 7ms/step - loss: 40.9228 - mae: 30.7880\n",
            "Epoch 45/500\n",
            "2/2 [==============================] - 0s 7ms/step - loss: 41.0120 - mae: 31.2380\n",
            "Epoch 46/500\n",
            "2/2 [==============================] - 0s 8ms/step - loss: 40.7023 - mae: 33.2998\n",
            "Epoch 47/500\n",
            "2/2 [==============================] - 0s 9ms/step - loss: 40.7192 - mae: 34.4365\n",
            "Epoch 48/500\n",
            "2/2 [==============================] - 0s 8ms/step - loss: 40.6600 - mae: 36.7052\n",
            "Epoch 49/500\n",
            "2/2 [==============================] - 0s 8ms/step - loss: 40.6566 - mae: 36.6016\n",
            "Epoch 50/500\n",
            "2/2 [==============================] - 0s 8ms/step - loss: 40.5706 - mae: 35.0907\n",
            "Epoch 51/500\n",
            "2/2 [==============================] - 0s 8ms/step - loss: 40.6667 - mae: 36.8364\n",
            "Epoch 52/500\n",
            "2/2 [==============================] - 0s 7ms/step - loss: 40.5466 - mae: 35.2442\n",
            "Epoch 53/500\n",
            "2/2 [==============================] - 0s 8ms/step - loss: 40.2263 - mae: 29.1079\n",
            "Epoch 54/500\n",
            "2/2 [==============================] - 0s 8ms/step - loss: 42.8268 - mae: 19.9905\n",
            "Epoch 55/500\n",
            "2/2 [==============================] - 0s 10ms/step - loss: 43.3662 - mae: 19.7337\n",
            "Epoch 56/500\n",
            "2/2 [==============================] - 0s 8ms/step - loss: 40.9405 - mae: 29.0152\n",
            "Epoch 57/500\n",
            "2/2 [==============================] - 0s 8ms/step - loss: 40.4334 - mae: 32.8664\n",
            "Epoch 58/500\n",
            "2/2 [==============================] - 0s 9ms/step - loss: 40.6651 - mae: 34.7390\n",
            "Epoch 59/500\n",
            "2/2 [==============================] - 0s 9ms/step - loss: 40.7750 - mae: 35.0774\n",
            "Epoch 60/500\n",
            "2/2 [==============================] - 0s 10ms/step - loss: 40.7154 - mae: 34.8199\n",
            "Epoch 61/500\n",
            "2/2 [==============================] - 0s 8ms/step - loss: 40.7127 - mae: 35.2232\n",
            "Epoch 62/500\n",
            "2/2 [==============================] - 0s 8ms/step - loss: 40.7348 - mae: 35.7736\n",
            "Epoch 63/500\n",
            "2/2 [==============================] - 0s 8ms/step - loss: 40.6374 - mae: 35.2739\n",
            "Epoch 64/500\n",
            "2/2 [==============================] - 0s 8ms/step - loss: 40.7684 - mae: 33.8368\n",
            "Epoch 65/500\n",
            "2/2 [==============================] - 0s 8ms/step - loss: 40.6838 - mae: 34.8179\n",
            "Epoch 66/500\n",
            "2/2 [==============================] - 0s 8ms/step - loss: 40.7980 - mae: 33.6010\n",
            "Epoch 67/500\n",
            "2/2 [==============================] - 0s 8ms/step - loss: 40.7304 - mae: 34.4592\n",
            "Epoch 68/500\n",
            "2/2 [==============================] - 0s 8ms/step - loss: 40.6707 - mae: 34.8736\n",
            "Epoch 69/500\n",
            "2/2 [==============================] - 0s 8ms/step - loss: 40.7320 - mae: 34.8829\n",
            "Epoch 70/500\n",
            "2/2 [==============================] - 0s 7ms/step - loss: 40.6362 - mae: 35.1600\n",
            "Epoch 71/500\n",
            "2/2 [==============================] - 0s 8ms/step - loss: 40.6591 - mae: 36.7524\n",
            "Epoch 72/500\n",
            "2/2 [==============================] - 0s 8ms/step - loss: 40.6997 - mae: 36.6097\n",
            "Epoch 73/500\n",
            "2/2 [==============================] - 0s 8ms/step - loss: 40.6837 - mae: 37.5585\n",
            "Epoch 74/500\n",
            "2/2 [==============================] - 0s 8ms/step - loss: 40.6973 - mae: 37.3588\n",
            "Epoch 75/500\n",
            "2/2 [==============================] - 0s 8ms/step - loss: 40.7158 - mae: 37.6756\n",
            "Epoch 76/500\n",
            "2/2 [==============================] - 0s 8ms/step - loss: 40.6643 - mae: 37.3195\n",
            "Epoch 77/500\n",
            "2/2 [==============================] - 0s 9ms/step - loss: 40.7214 - mae: 38.1390\n",
            "Epoch 78/500\n",
            "2/2 [==============================] - 0s 7ms/step - loss: 40.4595 - mae: 37.8575\n",
            "Epoch 79/500\n",
            "2/2 [==============================] - 0s 8ms/step - loss: 40.4805 - mae: 33.8185\n",
            "Epoch 80/500\n",
            "2/2 [==============================] - 0s 8ms/step - loss: 41.0384 - mae: 30.3517\n",
            "Epoch 81/500\n",
            "2/2 [==============================] - 0s 7ms/step - loss: 39.9640 - mae: 33.0216\n",
            "Epoch 82/500\n",
            "2/2 [==============================] - 0s 8ms/step - loss: 40.6426 - mae: 33.3555\n",
            "Epoch 83/500\n",
            "2/2 [==============================] - 0s 8ms/step - loss: 40.6631 - mae: 35.2912\n",
            "Epoch 84/500\n",
            "2/2 [==============================] - 0s 8ms/step - loss: 40.6899 - mae: 35.4885\n",
            "Epoch 85/500\n",
            "2/2 [==============================] - 0s 8ms/step - loss: 40.7150 - mae: 35.8516\n",
            "Epoch 86/500\n",
            "2/2 [==============================] - 0s 8ms/step - loss: 40.7251 - mae: 36.2675\n",
            "Epoch 87/500\n",
            "2/2 [==============================] - 0s 8ms/step - loss: 40.6911 - mae: 36.2796\n",
            "Epoch 88/500\n",
            "2/2 [==============================] - 0s 8ms/step - loss: 40.7121 - mae: 36.2194\n",
            "Epoch 89/500\n",
            "2/2 [==============================] - 0s 7ms/step - loss: 40.7086 - mae: 37.1368\n",
            "Epoch 90/500\n",
            "2/2 [==============================] - 0s 9ms/step - loss: 40.6935 - mae: 37.2921\n",
            "Epoch 91/500\n",
            "2/2 [==============================] - 0s 8ms/step - loss: 40.6705 - mae: 37.1863\n",
            "Epoch 92/500\n",
            "2/2 [==============================] - 0s 8ms/step - loss: 40.6924 - mae: 37.0613\n",
            "Epoch 93/500\n",
            "2/2 [==============================] - 0s 8ms/step - loss: 40.6428 - mae: 37.0252\n",
            "Epoch 94/500\n",
            "2/2 [==============================] - 0s 8ms/step - loss: 40.6940 - mae: 36.2077\n",
            "Epoch 95/500\n",
            "2/2 [==============================] - 0s 8ms/step - loss: 40.7430 - mae: 35.5607\n",
            "Epoch 96/500\n",
            "2/2 [==============================] - 0s 8ms/step - loss: 40.5867 - mae: 35.0900\n",
            "Epoch 97/500\n",
            "2/2 [==============================] - 0s 8ms/step - loss: 40.7074 - mae: 35.8165\n",
            "Epoch 98/500\n",
            "2/2 [==============================] - 0s 15ms/step - loss: 40.6663 - mae: 36.3822\n",
            "Epoch 99/500\n",
            "2/2 [==============================] - 0s 8ms/step - loss: 40.6715 - mae: 36.4148\n",
            "Epoch 100/500\n",
            "2/2 [==============================] - 0s 8ms/step - loss: 40.7168 - mae: 35.4713\n",
            "Epoch 101/500\n",
            "2/2 [==============================] - 0s 8ms/step - loss: 40.6949 - mae: 36.0038\n",
            "Epoch 102/500\n",
            "2/2 [==============================] - 0s 7ms/step - loss: 40.5026 - mae: 36.5194\n",
            "Epoch 103/500\n",
            "2/2 [==============================] - 0s 8ms/step - loss: 40.5896 - mae: 36.8567\n",
            "Epoch 104/500\n",
            "2/2 [==============================] - 0s 7ms/step - loss: 40.7018 - mae: 35.4821\n",
            "Epoch 105/500\n",
            "2/2 [==============================] - 0s 12ms/step - loss: 40.6541 - mae: 36.1325\n",
            "Epoch 106/500\n",
            "2/2 [==============================] - 0s 9ms/step - loss: 40.6410 - mae: 36.2365\n",
            "Epoch 107/500\n",
            "2/2 [==============================] - 0s 9ms/step - loss: 40.6879 - mae: 35.0696\n",
            "Epoch 108/500\n",
            "2/2 [==============================] - 0s 7ms/step - loss: 40.7201 - mae: 34.5350\n",
            "Epoch 109/500\n",
            "2/2 [==============================] - 0s 7ms/step - loss: 40.6398 - mae: 33.6785\n",
            "Epoch 110/500\n",
            "2/2 [==============================] - 0s 7ms/step - loss: 40.6933 - mae: 34.8059\n",
            "Epoch 111/500\n",
            "2/2 [==============================] - 0s 8ms/step - loss: 40.6233 - mae: 35.0736\n",
            "Epoch 112/500\n",
            "2/2 [==============================] - 0s 8ms/step - loss: 40.4438 - mae: 35.3161\n",
            "Epoch 113/500\n",
            "2/2 [==============================] - 0s 7ms/step - loss: 40.4678 - mae: 32.7530\n",
            "Epoch 114/500\n",
            "2/2 [==============================] - 0s 8ms/step - loss: 40.9900 - mae: 31.4631\n",
            "Epoch 115/500\n",
            "2/2 [==============================] - 0s 8ms/step - loss: 40.8998 - mae: 31.9887\n",
            "Epoch 116/500\n",
            "2/2 [==============================] - 0s 8ms/step - loss: 40.6551 - mae: 33.1313\n",
            "Epoch 117/500\n",
            "2/2 [==============================] - 0s 8ms/step - loss: 40.5827 - mae: 34.4411\n",
            "Epoch 118/500\n",
            "2/2 [==============================] - 0s 11ms/step - loss: 40.5616 - mae: 34.9673\n",
            "Epoch 119/500\n",
            "2/2 [==============================] - 0s 11ms/step - loss: 40.0365 - mae: 35.7519\n",
            "Epoch 120/500\n",
            "2/2 [==============================] - 0s 10ms/step - loss: 41.2376 - mae: 28.6272\n",
            "Epoch 121/500\n",
            "2/2 [==============================] - 0s 9ms/step - loss: 39.9399 - mae: 32.2874\n",
            "Epoch 122/500\n",
            "2/2 [==============================] - 0s 8ms/step - loss: 41.1174 - mae: 25.5096\n",
            "Epoch 123/500\n",
            "2/2 [==============================] - 0s 8ms/step - loss: 41.8944 - mae: 24.8489\n",
            "Epoch 124/500\n",
            "2/2 [==============================] - 0s 7ms/step - loss: 41.3474 - mae: 27.9428\n",
            "Epoch 125/500\n",
            "2/2 [==============================] - 0s 9ms/step - loss: 40.6476 - mae: 30.5917\n",
            "Epoch 126/500\n",
            "2/2 [==============================] - 0s 10ms/step - loss: 40.8438 - mae: 32.5801\n",
            "Epoch 127/500\n",
            "2/2 [==============================] - 0s 9ms/step - loss: 40.2735 - mae: 33.3824\n",
            "Epoch 128/500\n",
            "2/2 [==============================] - 0s 8ms/step - loss: 41.3097 - mae: 28.6369\n",
            "Epoch 129/500\n",
            "2/2 [==============================] - 0s 8ms/step - loss: 40.3933 - mae: 30.3605\n",
            "Epoch 130/500\n",
            "2/2 [==============================] - 0s 8ms/step - loss: 41.2454 - mae: 28.8841\n",
            "Epoch 131/500\n",
            "2/2 [==============================] - 0s 7ms/step - loss: 40.8221 - mae: 30.7954\n",
            "Epoch 132/500\n",
            "2/2 [==============================] - 0s 7ms/step - loss: 40.8596 - mae: 31.4765\n",
            "Epoch 133/500\n",
            "2/2 [==============================] - 0s 8ms/step - loss: 40.5271 - mae: 32.8522\n",
            "Epoch 134/500\n",
            "2/2 [==============================] - 0s 8ms/step - loss: 41.0514 - mae: 30.1320\n",
            "Epoch 135/500\n",
            "2/2 [==============================] - 0s 9ms/step - loss: 40.7521 - mae: 32.6724\n",
            "Epoch 136/500\n",
            "2/2 [==============================] - 0s 8ms/step - loss: 40.7243 - mae: 33.2268\n",
            "Epoch 137/500\n",
            "2/2 [==============================] - 0s 8ms/step - loss: 40.0181 - mae: 32.5687\n",
            "Epoch 138/500\n",
            "2/2 [==============================] - 0s 9ms/step - loss: 40.4372 - mae: 32.1665\n",
            "Epoch 139/500\n",
            "2/2 [==============================] - 0s 9ms/step - loss: 40.8375 - mae: 32.5187\n",
            "Epoch 140/500\n",
            "2/2 [==============================] - 0s 14ms/step - loss: 40.7418 - mae: 33.3885\n",
            "Epoch 141/500\n",
            "2/2 [==============================] - 0s 8ms/step - loss: 40.1638 - mae: 33.8722\n",
            "Epoch 142/500\n",
            "2/2 [==============================] - 0s 8ms/step - loss: 40.6860 - mae: 30.4016\n",
            "Epoch 143/500\n",
            "2/2 [==============================] - 0s 12ms/step - loss: 40.5112 - mae: 28.1910\n",
            "Epoch 144/500\n",
            "2/2 [==============================] - 0s 8ms/step - loss: 40.6072 - mae: 30.9830\n",
            "Epoch 145/500\n",
            "2/2 [==============================] - 0s 11ms/step - loss: 41.4374 - mae: 26.6506\n",
            "Epoch 146/500\n",
            "2/2 [==============================] - 0s 8ms/step - loss: 39.9589 - mae: 31.6851\n",
            "Epoch 147/500\n",
            "2/2 [==============================] - 0s 9ms/step - loss: 40.2760 - mae: 32.5251\n",
            "Epoch 148/500\n",
            "2/2 [==============================] - 0s 8ms/step - loss: 40.6201 - mae: 30.6305\n",
            "Epoch 149/500\n",
            "2/2 [==============================] - 0s 8ms/step - loss: 40.7259 - mae: 32.4130\n",
            "Epoch 150/500\n",
            "2/2 [==============================] - 0s 9ms/step - loss: 40.0000 - mae: 33.5253\n",
            "Epoch 151/500\n",
            "2/2 [==============================] - 0s 9ms/step - loss: 41.0233 - mae: 30.6997\n",
            "Epoch 152/500\n",
            "2/2 [==============================] - 0s 8ms/step - loss: 40.8162 - mae: 32.3523\n",
            "Epoch 153/500\n",
            "2/2 [==============================] - 0s 9ms/step - loss: 40.3791 - mae: 31.9625\n",
            "Epoch 154/500\n",
            "2/2 [==============================] - 0s 7ms/step - loss: 40.8294 - mae: 32.4465\n",
            "Epoch 155/500\n",
            "2/2 [==============================] - 0s 8ms/step - loss: 40.6898 - mae: 33.5961\n",
            "Epoch 156/500\n",
            "2/2 [==============================] - 0s 8ms/step - loss: 40.4362 - mae: 33.0589\n",
            "Epoch 157/500\n",
            "2/2 [==============================] - 0s 8ms/step - loss: 40.7113 - mae: 31.5299\n",
            "Epoch 158/500\n",
            "2/2 [==============================] - 0s 8ms/step - loss: 40.4241 - mae: 32.3563\n",
            "Epoch 159/500\n",
            "2/2 [==============================] - 0s 8ms/step - loss: 40.6260 - mae: 34.0873\n",
            "Epoch 160/500\n",
            "2/2 [==============================] - 0s 11ms/step - loss: 40.7318 - mae: 33.9006\n",
            "Epoch 161/500\n",
            "2/2 [==============================] - 0s 12ms/step - loss: 40.6845 - mae: 33.8585\n",
            "Epoch 162/500\n",
            "2/2 [==============================] - 0s 9ms/step - loss: 40.6231 - mae: 34.4174\n",
            "Epoch 163/500\n",
            "2/2 [==============================] - 0s 10ms/step - loss: 40.7288 - mae: 33.5354\n",
            "Epoch 164/500\n",
            "2/2 [==============================] - 0s 9ms/step - loss: 40.4785 - mae: 34.1610\n",
            "Epoch 165/500\n",
            "2/2 [==============================] - 0s 9ms/step - loss: 40.6480 - mae: 35.3439\n",
            "Epoch 166/500\n",
            "2/2 [==============================] - 0s 13ms/step - loss: 40.5857 - mae: 35.4556\n",
            "Epoch 167/500\n",
            "2/2 [==============================] - 0s 8ms/step - loss: 40.7203 - mae: 34.5528\n",
            "Epoch 168/500\n",
            "2/2 [==============================] - 0s 9ms/step - loss: 40.6916 - mae: 35.2764\n",
            "Epoch 169/500\n",
            "2/2 [==============================] - 0s 8ms/step - loss: 40.6686 - mae: 35.5590\n",
            "Epoch 170/500\n",
            "2/2 [==============================] - 0s 8ms/step - loss: 40.6598 - mae: 35.5361\n",
            "Epoch 171/500\n",
            "2/2 [==============================] - 0s 10ms/step - loss: 40.6395 - mae: 35.4861\n",
            "Epoch 172/500\n",
            "2/2 [==============================] - 0s 12ms/step - loss: 40.5044 - mae: 35.6265\n",
            "Epoch 173/500\n",
            "2/2 [==============================] - 0s 9ms/step - loss: 40.7021 - mae: 33.6215\n",
            "Epoch 174/500\n",
            "2/2 [==============================] - 0s 15ms/step - loss: 40.5937 - mae: 35.0222\n",
            "Epoch 175/500\n",
            "2/2 [==============================] - 0s 13ms/step - loss: 40.5463 - mae: 34.6318\n",
            "Epoch 176/500\n",
            "2/2 [==============================] - 0s 12ms/step - loss: 40.8055 - mae: 33.3453\n",
            "Epoch 177/500\n",
            "2/2 [==============================] - 0s 12ms/step - loss: 40.7670 - mae: 33.3103\n",
            "Epoch 178/500\n",
            "2/2 [==============================] - 0s 9ms/step - loss: 40.6196 - mae: 33.7757\n",
            "Epoch 179/500\n",
            "2/2 [==============================] - 0s 8ms/step - loss: 40.0365 - mae: 34.4646\n",
            "Epoch 180/500\n",
            "2/2 [==============================] - 0s 8ms/step - loss: 40.6767 - mae: 33.9161\n",
            "Epoch 181/500\n",
            "2/2 [==============================] - 0s 9ms/step - loss: 40.7327 - mae: 33.2941\n",
            "Epoch 182/500\n",
            "2/2 [==============================] - 0s 8ms/step - loss: 40.5176 - mae: 32.6159\n",
            "Epoch 183/500\n",
            "2/2 [==============================] - 0s 12ms/step - loss: 39.8213 - mae: 33.6706\n",
            "Epoch 184/500\n",
            "2/2 [==============================] - 0s 8ms/step - loss: 41.4248 - mae: 27.0688\n",
            "Epoch 185/500\n",
            "2/2 [==============================] - 0s 11ms/step - loss: 40.7886 - mae: 31.3607\n",
            "Epoch 186/500\n",
            "2/2 [==============================] - 0s 12ms/step - loss: 40.4794 - mae: 30.9901\n",
            "Epoch 187/500\n",
            "2/2 [==============================] - 0s 12ms/step - loss: 40.6875 - mae: 33.0346\n",
            "Epoch 188/500\n",
            "2/2 [==============================] - 0s 12ms/step - loss: 40.2983 - mae: 32.0836\n",
            "Epoch 189/500\n",
            "2/2 [==============================] - 0s 12ms/step - loss: 40.7979 - mae: 32.8160\n",
            "Epoch 190/500\n",
            "2/2 [==============================] - 0s 8ms/step - loss: 40.7073 - mae: 34.5970\n",
            "Epoch 191/500\n",
            "2/2 [==============================] - 0s 7ms/step - loss: 40.5973 - mae: 34.8541\n",
            "Epoch 192/500\n",
            "2/2 [==============================] - 0s 11ms/step - loss: 40.3071 - mae: 35.4167\n",
            "Epoch 193/500\n",
            "2/2 [==============================] - 0s 8ms/step - loss: 40.5683 - mae: 33.0934\n",
            "Epoch 194/500\n",
            "2/2 [==============================] - 0s 10ms/step - loss: 40.6499 - mae: 34.2554\n",
            "Epoch 195/500\n",
            "2/2 [==============================] - 0s 9ms/step - loss: 40.5993 - mae: 34.9587\n",
            "Epoch 196/500\n",
            "2/2 [==============================] - 0s 11ms/step - loss: 39.4594 - mae: 33.9855\n",
            "Epoch 197/500\n",
            "2/2 [==============================] - 0s 14ms/step - loss: 40.9012 - mae: 32.1334\n",
            "Epoch 198/500\n",
            "2/2 [==============================] - 0s 14ms/step - loss: 40.4724 - mae: 32.3904\n",
            "Epoch 199/500\n",
            "2/2 [==============================] - 0s 11ms/step - loss: 40.9278 - mae: 30.9603\n",
            "Epoch 200/500\n",
            "2/2 [==============================] - 0s 10ms/step - loss: 40.8629 - mae: 32.0528\n",
            "Epoch 201/500\n",
            "2/2 [==============================] - 0s 7ms/step - loss: 40.1658 - mae: 33.4577\n",
            "Epoch 202/500\n",
            "2/2 [==============================] - 0s 9ms/step - loss: 41.0674 - mae: 29.7846\n",
            "Epoch 203/500\n",
            "2/2 [==============================] - 0s 7ms/step - loss: 40.7509 - mae: 32.5761\n",
            "Epoch 204/500\n",
            "2/2 [==============================] - 0s 10ms/step - loss: 40.7967 - mae: 33.0468\n",
            "Epoch 205/500\n",
            "2/2 [==============================] - 0s 6ms/step - loss: 40.6250 - mae: 33.9911\n",
            "Epoch 206/500\n",
            "2/2 [==============================] - 0s 8ms/step - loss: 40.7010 - mae: 34.8721\n",
            "Epoch 207/500\n",
            "2/2 [==============================] - 0s 8ms/step - loss: 40.4825 - mae: 35.4728\n",
            "Epoch 208/500\n",
            "2/2 [==============================] - 0s 8ms/step - loss: 40.6660 - mae: 33.5693\n",
            "Epoch 209/500\n",
            "2/2 [==============================] - 0s 8ms/step - loss: 40.0549 - mae: 33.9588\n",
            "Epoch 210/500\n",
            "2/2 [==============================] - 0s 7ms/step - loss: 41.0461 - mae: 30.5708\n",
            "Epoch 211/500\n",
            "2/2 [==============================] - 0s 8ms/step - loss: 40.8520 - mae: 31.1488\n",
            "Epoch 212/500\n",
            "2/2 [==============================] - 0s 8ms/step - loss: 40.6483 - mae: 33.0430\n",
            "Epoch 213/500\n",
            "2/2 [==============================] - 0s 8ms/step - loss: 40.6815 - mae: 34.5050\n",
            "Epoch 214/500\n",
            "2/2 [==============================] - 0s 7ms/step - loss: 40.6620 - mae: 34.5650\n",
            "Epoch 215/500\n",
            "2/2 [==============================] - 0s 7ms/step - loss: 40.6797 - mae: 33.9581\n",
            "Epoch 216/500\n",
            "2/2 [==============================] - 0s 7ms/step - loss: 40.5579 - mae: 34.9033\n",
            "Epoch 217/500\n",
            "2/2 [==============================] - 0s 8ms/step - loss: 39.8904 - mae: 34.0794\n",
            "Epoch 218/500\n",
            "2/2 [==============================] - 0s 8ms/step - loss: 40.3932 - mae: 33.5077\n",
            "Epoch 219/500\n",
            "2/2 [==============================] - 0s 7ms/step - loss: 40.7175 - mae: 34.4168\n",
            "Epoch 220/500\n",
            "2/2 [==============================] - 0s 9ms/step - loss: 39.9635 - mae: 34.2815\n",
            "Epoch 221/500\n",
            "2/2 [==============================] - 0s 7ms/step - loss: 40.9776 - mae: 30.3588\n",
            "Epoch 222/500\n",
            "2/2 [==============================] - 0s 10ms/step - loss: 40.7648 - mae: 30.0816\n",
            "Epoch 223/500\n",
            "2/2 [==============================] - 0s 9ms/step - loss: 40.0503 - mae: 32.0850\n",
            "Epoch 224/500\n",
            "2/2 [==============================] - 0s 11ms/step - loss: 40.7421 - mae: 32.6410\n",
            "Epoch 225/500\n",
            "2/2 [==============================] - 0s 10ms/step - loss: 40.6611 - mae: 32.2962\n",
            "Epoch 226/500\n",
            "2/2 [==============================] - 0s 9ms/step - loss: 40.8475 - mae: 32.1982\n",
            "Epoch 227/500\n",
            "2/2 [==============================] - 0s 7ms/step - loss: 40.7619 - mae: 31.8646\n",
            "Epoch 228/500\n",
            "2/2 [==============================] - 0s 9ms/step - loss: 40.4191 - mae: 33.6827\n",
            "Epoch 229/500\n",
            "2/2 [==============================] - 0s 9ms/step - loss: 40.6866 - mae: 34.1359\n",
            "Epoch 230/500\n",
            "2/2 [==============================] - 0s 9ms/step - loss: 40.3987 - mae: 34.9680\n",
            "Epoch 231/500\n",
            "2/2 [==============================] - 0s 8ms/step - loss: 40.8025 - mae: 32.7078\n",
            "Epoch 232/500\n",
            "2/2 [==============================] - 0s 8ms/step - loss: 40.7368 - mae: 33.6321\n",
            "Epoch 233/500\n",
            "2/2 [==============================] - 0s 8ms/step - loss: 40.7208 - mae: 34.1685\n",
            "Epoch 234/500\n",
            "2/2 [==============================] - 0s 9ms/step - loss: 40.4249 - mae: 34.6790\n",
            "Epoch 235/500\n",
            "2/2 [==============================] - 0s 8ms/step - loss: 40.6631 - mae: 33.9719\n",
            "Epoch 236/500\n",
            "2/2 [==============================] - 0s 11ms/step - loss: 40.6251 - mae: 34.2314\n",
            "Epoch 237/500\n",
            "2/2 [==============================] - 0s 8ms/step - loss: 40.4045 - mae: 34.9144\n",
            "Epoch 238/500\n",
            "2/2 [==============================] - 0s 8ms/step - loss: 40.6700 - mae: 34.8741\n",
            "Epoch 239/500\n",
            "2/2 [==============================] - 0s 8ms/step - loss: 40.6627 - mae: 35.3596\n",
            "Epoch 240/500\n",
            "2/2 [==============================] - 0s 8ms/step - loss: 40.6194 - mae: 35.4510\n",
            "Epoch 241/500\n",
            "2/2 [==============================] - 0s 8ms/step - loss: 40.6447 - mae: 35.4958\n",
            "Epoch 242/500\n",
            "2/2 [==============================] - 0s 7ms/step - loss: 40.6146 - mae: 36.2104\n",
            "Epoch 243/500\n",
            "2/2 [==============================] - 0s 8ms/step - loss: 40.4313 - mae: 35.9378\n",
            "Epoch 244/500\n",
            "2/2 [==============================] - 0s 8ms/step - loss: 40.6530 - mae: 36.1894\n",
            "Epoch 245/500\n",
            "2/2 [==============================] - 0s 8ms/step - loss: 40.6382 - mae: 35.6895\n",
            "Epoch 246/500\n",
            "2/2 [==============================] - 0s 8ms/step - loss: 40.5969 - mae: 36.3508\n",
            "Epoch 247/500\n",
            "2/2 [==============================] - 0s 7ms/step - loss: 40.6438 - mae: 35.1969\n",
            "Epoch 248/500\n",
            "2/2 [==============================] - 0s 8ms/step - loss: 40.6639 - mae: 35.3751\n",
            "Epoch 249/500\n",
            "2/2 [==============================] - 0s 8ms/step - loss: 40.5507 - mae: 35.5065\n",
            "Epoch 250/500\n",
            "2/2 [==============================] - 0s 7ms/step - loss: 40.6098 - mae: 34.0035\n",
            "Epoch 251/500\n",
            "2/2 [==============================] - 0s 8ms/step - loss: 40.2282 - mae: 34.3959\n",
            "Epoch 252/500\n",
            "2/2 [==============================] - 0s 8ms/step - loss: 40.9419 - mae: 31.2439\n",
            "Epoch 253/500\n",
            "2/2 [==============================] - 0s 8ms/step - loss: 40.8148 - mae: 31.2143\n",
            "Epoch 254/500\n",
            "2/2 [==============================] - 0s 8ms/step - loss: 40.5346 - mae: 33.1912\n",
            "Epoch 255/500\n",
            "2/2 [==============================] - 0s 13ms/step - loss: 40.9152 - mae: 31.0799\n",
            "Epoch 256/500\n",
            "2/2 [==============================] - 0s 10ms/step - loss: 40.5076 - mae: 32.0104\n",
            "Epoch 257/500\n",
            "2/2 [==============================] - 0s 7ms/step - loss: 40.7385 - mae: 32.6064\n",
            "Epoch 258/500\n",
            "2/2 [==============================] - 0s 8ms/step - loss: 40.6413 - mae: 33.7956\n",
            "Epoch 259/500\n",
            "2/2 [==============================] - 0s 8ms/step - loss: 40.4074 - mae: 33.5822\n",
            "Epoch 260/500\n",
            "2/2 [==============================] - 0s 8ms/step - loss: 40.8564 - mae: 31.1848\n",
            "Epoch 261/500\n",
            "2/2 [==============================] - 0s 7ms/step - loss: 40.1157 - mae: 30.4626\n",
            "Epoch 262/500\n",
            "2/2 [==============================] - 0s 9ms/step - loss: 40.1670 - mae: 30.8753\n",
            "Epoch 263/500\n",
            "2/2 [==============================] - 0s 8ms/step - loss: 40.8892 - mae: 31.6068\n",
            "Epoch 264/500\n",
            "2/2 [==============================] - 0s 9ms/step - loss: 39.9906 - mae: 32.2948\n",
            "Epoch 265/500\n",
            "2/2 [==============================] - 0s 8ms/step - loss: 40.4222 - mae: 32.5296\n",
            "Epoch 266/500\n",
            "2/2 [==============================] - 0s 10ms/step - loss: 40.6225 - mae: 33.4602\n",
            "Epoch 267/500\n",
            "2/2 [==============================] - 0s 8ms/step - loss: 40.6471 - mae: 35.1032\n",
            "Epoch 268/500\n",
            "2/2 [==============================] - 0s 7ms/step - loss: 40.4173 - mae: 34.7136\n",
            "Epoch 269/500\n",
            "2/2 [==============================] - 0s 9ms/step - loss: 40.7943 - mae: 32.4950\n",
            "Epoch 270/500\n",
            "2/2 [==============================] - 0s 8ms/step - loss: 40.0030 - mae: 33.3304\n",
            "Epoch 271/500\n",
            "2/2 [==============================] - 0s 8ms/step - loss: 40.4209 - mae: 33.7315\n",
            "Epoch 272/500\n",
            "2/2 [==============================] - 0s 7ms/step - loss: 40.7316 - mae: 32.7448\n",
            "Epoch 273/500\n",
            "2/2 [==============================] - 0s 8ms/step - loss: 40.5832 - mae: 34.4271\n",
            "Epoch 274/500\n",
            "2/2 [==============================] - 0s 9ms/step - loss: 39.9016 - mae: 35.0182\n",
            "Epoch 275/500\n",
            "2/2 [==============================] - 0s 8ms/step - loss: 41.1260 - mae: 29.7051\n",
            "Epoch 276/500\n",
            "2/2 [==============================] - 0s 7ms/step - loss: 40.9449 - mae: 31.0290\n",
            "Epoch 277/500\n",
            "2/2 [==============================] - 0s 8ms/step - loss: 40.2295 - mae: 32.6503\n",
            "Epoch 278/500\n",
            "2/2 [==============================] - 0s 8ms/step - loss: 40.7953 - mae: 33.0508\n",
            "Epoch 279/500\n",
            "2/2 [==============================] - 0s 7ms/step - loss: 40.6678 - mae: 32.8852\n",
            "Epoch 280/500\n",
            "2/2 [==============================] - 0s 7ms/step - loss: 40.8546 - mae: 32.0790\n",
            "Epoch 281/500\n",
            "2/2 [==============================] - 0s 8ms/step - loss: 40.7112 - mae: 33.1267\n",
            "Epoch 282/500\n",
            "2/2 [==============================] - 0s 7ms/step - loss: 40.6974 - mae: 33.3650\n",
            "Epoch 283/500\n",
            "2/2 [==============================] - 0s 8ms/step - loss: 40.5543 - mae: 34.7795\n",
            "Epoch 284/500\n",
            "2/2 [==============================] - 0s 10ms/step - loss: 40.6076 - mae: 34.2984\n",
            "Epoch 285/500\n",
            "2/2 [==============================] - 0s 8ms/step - loss: 40.5264 - mae: 34.2607\n",
            "Epoch 286/500\n",
            "2/2 [==============================] - 0s 8ms/step - loss: 40.4903 - mae: 33.0652\n",
            "Epoch 287/500\n",
            "2/2 [==============================] - 0s 9ms/step - loss: 40.8967 - mae: 31.4592\n",
            "Epoch 288/500\n",
            "2/2 [==============================] - 0s 8ms/step - loss: 40.6880 - mae: 32.6668\n",
            "Epoch 289/500\n",
            "2/2 [==============================] - 0s 9ms/step - loss: 40.7044 - mae: 33.9653\n",
            "Epoch 290/500\n",
            "2/2 [==============================] - 0s 7ms/step - loss: 40.6540 - mae: 34.7984\n",
            "Epoch 291/500\n",
            "2/2 [==============================] - 0s 8ms/step - loss: 40.5870 - mae: 34.9072\n",
            "Epoch 292/500\n",
            "2/2 [==============================] - 0s 8ms/step - loss: 40.4000 - mae: 35.9513\n",
            "Epoch 293/500\n",
            "2/2 [==============================] - 0s 11ms/step - loss: 40.4579 - mae: 33.7008\n",
            "Epoch 294/500\n",
            "2/2 [==============================] - 0s 8ms/step - loss: 40.8133 - mae: 32.6246\n",
            "Epoch 295/500\n",
            "2/2 [==============================] - 0s 8ms/step - loss: 40.7258 - mae: 33.5472\n",
            "Epoch 296/500\n",
            "2/2 [==============================] - 0s 8ms/step - loss: 40.5319 - mae: 33.5595\n",
            "Epoch 297/500\n",
            "2/2 [==============================] - 0s 7ms/step - loss: 40.6533 - mae: 34.2412\n",
            "Epoch 298/500\n",
            "2/2 [==============================] - 0s 7ms/step - loss: 40.6778 - mae: 33.7569\n",
            "Epoch 299/500\n",
            "2/2 [==============================] - 0s 7ms/step - loss: 40.4085 - mae: 34.3572\n",
            "Epoch 300/500\n",
            "2/2 [==============================] - 0s 8ms/step - loss: 40.4879 - mae: 32.3226\n",
            "Epoch 301/500\n",
            "2/2 [==============================] - 0s 7ms/step - loss: 40.5407 - mae: 29.7917\n",
            "Epoch 302/500\n",
            "2/2 [==============================] - 0s 9ms/step - loss: 40.8459 - mae: 31.6191\n",
            "Epoch 303/500\n",
            "2/2 [==============================] - 0s 7ms/step - loss: 40.9648 - mae: 30.9241\n",
            "Epoch 304/500\n",
            "2/2 [==============================] - 0s 8ms/step - loss: 39.9313 - mae: 31.4863\n",
            "Epoch 305/500\n",
            "2/2 [==============================] - 0s 8ms/step - loss: 40.8837 - mae: 31.2970\n",
            "Epoch 306/500\n",
            "2/2 [==============================] - 0s 9ms/step - loss: 40.7487 - mae: 32.2180\n",
            "Epoch 307/500\n",
            "2/2 [==============================] - 0s 10ms/step - loss: 40.6573 - mae: 33.6081\n",
            "Epoch 308/500\n",
            "2/2 [==============================] - 0s 8ms/step - loss: 40.7017 - mae: 33.9599\n",
            "Epoch 309/500\n",
            "2/2 [==============================] - 0s 10ms/step - loss: 40.6751 - mae: 34.6087\n",
            "Epoch 310/500\n",
            "2/2 [==============================] - 0s 10ms/step - loss: 40.5874 - mae: 35.0416\n",
            "Epoch 311/500\n",
            "2/2 [==============================] - 0s 8ms/step - loss: 40.1163 - mae: 35.7375\n",
            "Epoch 312/500\n",
            "2/2 [==============================] - 0s 8ms/step - loss: 40.8034 - mae: 31.7826\n",
            "Epoch 313/500\n",
            "2/2 [==============================] - 0s 7ms/step - loss: 39.7245 - mae: 31.1449\n",
            "Epoch 314/500\n",
            "2/2 [==============================] - 0s 11ms/step - loss: 40.8527 - mae: 31.4937\n",
            "Epoch 315/500\n",
            "2/2 [==============================] - 0s 10ms/step - loss: 40.7717 - mae: 32.4936\n",
            "Epoch 316/500\n",
            "2/2 [==============================] - 0s 8ms/step - loss: 40.0657 - mae: 34.2130\n",
            "Epoch 317/500\n",
            "2/2 [==============================] - 0s 9ms/step - loss: 40.8773 - mae: 29.9675\n",
            "Epoch 318/500\n",
            "2/2 [==============================] - 0s 9ms/step - loss: 40.9434 - mae: 31.8246\n",
            "Epoch 319/500\n",
            "2/2 [==============================] - 0s 7ms/step - loss: 40.8683 - mae: 31.9072\n",
            "Epoch 320/500\n",
            "2/2 [==============================] - 0s 9ms/step - loss: 40.7125 - mae: 33.6028\n",
            "Epoch 321/500\n",
            "2/2 [==============================] - 0s 9ms/step - loss: 40.2146 - mae: 34.8606\n",
            "Epoch 322/500\n",
            "2/2 [==============================] - 0s 8ms/step - loss: 40.6609 - mae: 34.9414\n",
            "Epoch 323/500\n",
            "2/2 [==============================] - 0s 7ms/step - loss: 40.6604 - mae: 35.2593\n",
            "Epoch 324/500\n",
            "2/2 [==============================] - 0s 13ms/step - loss: 40.5719 - mae: 35.4384\n",
            "Epoch 325/500\n",
            "2/2 [==============================] - 0s 8ms/step - loss: 40.6095 - mae: 34.9363\n",
            "Epoch 326/500\n",
            "2/2 [==============================] - 0s 9ms/step - loss: 40.6059 - mae: 35.0843\n",
            "Epoch 327/500\n",
            "2/2 [==============================] - 0s 8ms/step - loss: 40.3199 - mae: 35.2007\n",
            "Epoch 328/500\n",
            "2/2 [==============================] - 0s 7ms/step - loss: 40.5881 - mae: 35.4474\n",
            "Epoch 329/500\n",
            "2/2 [==============================] - 0s 7ms/step - loss: 40.5451 - mae: 35.8599\n",
            "Epoch 330/500\n",
            "2/2 [==============================] - 0s 9ms/step - loss: 40.5825 - mae: 36.1737\n",
            "Epoch 331/500\n",
            "2/2 [==============================] - 0s 8ms/step - loss: 40.3681 - mae: 35.5657\n",
            "Epoch 332/500\n",
            "2/2 [==============================] - 0s 7ms/step - loss: 40.6606 - mae: 33.9706\n",
            "Epoch 333/500\n",
            "2/2 [==============================] - 0s 7ms/step - loss: 40.6613 - mae: 34.2348\n",
            "Epoch 334/500\n",
            "2/2 [==============================] - 0s 11ms/step - loss: 40.4786 - mae: 34.6017\n",
            "Epoch 335/500\n",
            "2/2 [==============================] - 0s 9ms/step - loss: 40.0131 - mae: 35.1945\n",
            "Epoch 336/500\n",
            "2/2 [==============================] - 0s 7ms/step - loss: 40.8201 - mae: 31.9143\n",
            "Epoch 337/500\n",
            "2/2 [==============================] - 0s 9ms/step - loss: 40.3073 - mae: 33.0830\n",
            "Epoch 338/500\n",
            "2/2 [==============================] - 0s 7ms/step - loss: 40.4689 - mae: 33.1107\n",
            "Epoch 339/500\n",
            "2/2 [==============================] - 0s 9ms/step - loss: 40.4879 - mae: 33.5472\n",
            "Epoch 340/500\n",
            "2/2 [==============================] - 0s 9ms/step - loss: 40.7138 - mae: 33.9688\n",
            "Epoch 341/500\n",
            "2/2 [==============================] - 0s 9ms/step - loss: 40.4541 - mae: 34.6066\n",
            "Epoch 342/500\n",
            "2/2 [==============================] - 0s 8ms/step - loss: 40.1321 - mae: 35.3309\n",
            "Epoch 343/500\n",
            "2/2 [==============================] - 0s 7ms/step - loss: 40.1584 - mae: 34.8884\n",
            "Epoch 344/500\n",
            "2/2 [==============================] - 0s 7ms/step - loss: 39.6007 - mae: 35.2050\n",
            "Epoch 345/500\n",
            "2/2 [==============================] - 0s 8ms/step - loss: 41.3944 - mae: 27.5735\n",
            "Epoch 346/500\n",
            "2/2 [==============================] - 0s 8ms/step - loss: 40.9164 - mae: 30.4271\n",
            "Epoch 347/500\n",
            "2/2 [==============================] - 0s 9ms/step - loss: 40.9455 - mae: 30.6960\n",
            "Epoch 348/500\n",
            "2/2 [==============================] - 0s 8ms/step - loss: 40.6524 - mae: 32.9795\n",
            "Epoch 349/500\n",
            "2/2 [==============================] - 0s 9ms/step - loss: 40.6858 - mae: 34.3088\n",
            "Epoch 350/500\n",
            "2/2 [==============================] - 0s 8ms/step - loss: 39.7848 - mae: 34.5472\n",
            "Epoch 351/500\n",
            "2/2 [==============================] - 0s 10ms/step - loss: 40.8907 - mae: 29.6298\n",
            "Epoch 352/500\n",
            "2/2 [==============================] - 0s 9ms/step - loss: 40.9900 - mae: 30.5073\n",
            "Epoch 353/500\n",
            "2/2 [==============================] - 0s 11ms/step - loss: 40.7701 - mae: 32.2508\n",
            "Epoch 354/500\n",
            "2/2 [==============================] - 0s 10ms/step - loss: 40.6374 - mae: 33.5633\n",
            "Epoch 355/500\n",
            "2/2 [==============================] - 0s 9ms/step - loss: 40.5588 - mae: 34.4722\n",
            "Epoch 356/500\n",
            "2/2 [==============================] - 0s 9ms/step - loss: 40.3150 - mae: 35.1309\n",
            "Epoch 357/500\n",
            "2/2 [==============================] - 0s 8ms/step - loss: 40.2496 - mae: 32.4230\n",
            "Epoch 358/500\n",
            "2/2 [==============================] - 0s 8ms/step - loss: 40.9789 - mae: 30.7207\n",
            "Epoch 359/500\n",
            "2/2 [==============================] - 0s 8ms/step - loss: 40.4120 - mae: 32.2244\n",
            "Epoch 360/500\n",
            "2/2 [==============================] - 0s 10ms/step - loss: 40.7761 - mae: 30.8408\n",
            "Epoch 361/500\n",
            "2/2 [==============================] - 0s 9ms/step - loss: 40.6551 - mae: 33.0185\n",
            "Epoch 362/500\n",
            "2/2 [==============================] - 0s 9ms/step - loss: 40.6194 - mae: 33.0639\n",
            "Epoch 363/500\n",
            "2/2 [==============================] - 0s 9ms/step - loss: 40.3244 - mae: 32.3565\n",
            "Epoch 364/500\n",
            "2/2 [==============================] - 0s 8ms/step - loss: 40.9934 - mae: 29.1045\n",
            "Epoch 365/500\n",
            "2/2 [==============================] - 0s 8ms/step - loss: 40.4152 - mae: 31.6659\n",
            "Epoch 366/500\n",
            "2/2 [==============================] - 0s 10ms/step - loss: 40.0219 - mae: 33.3253\n",
            "Epoch 367/500\n",
            "2/2 [==============================] - 0s 10ms/step - loss: 41.0407 - mae: 29.7454\n",
            "Epoch 368/500\n",
            "2/2 [==============================] - 0s 8ms/step - loss: 40.7425 - mae: 30.9792\n",
            "Epoch 369/500\n",
            "2/2 [==============================] - 0s 8ms/step - loss: 40.7348 - mae: 33.3575\n",
            "Epoch 370/500\n",
            "2/2 [==============================] - 0s 8ms/step - loss: 40.6782 - mae: 33.8625\n",
            "Epoch 371/500\n",
            "2/2 [==============================] - 0s 8ms/step - loss: 40.5059 - mae: 34.1237\n",
            "Epoch 372/500\n",
            "2/2 [==============================] - 0s 8ms/step - loss: 40.5501 - mae: 35.0757\n",
            "Epoch 373/500\n",
            "2/2 [==============================] - 0s 8ms/step - loss: 40.6682 - mae: 34.3783\n",
            "Epoch 374/500\n",
            "2/2 [==============================] - 0s 8ms/step - loss: 40.5684 - mae: 34.7024\n",
            "Epoch 375/500\n",
            "2/2 [==============================] - 0s 12ms/step - loss: 40.5116 - mae: 35.3930\n",
            "Epoch 376/500\n",
            "2/2 [==============================] - 0s 8ms/step - loss: 40.2299 - mae: 35.8032\n",
            "Epoch 377/500\n",
            "2/2 [==============================] - 0s 8ms/step - loss: 40.4540 - mae: 35.8074\n",
            "Epoch 378/500\n",
            "2/2 [==============================] - 0s 8ms/step - loss: 40.5331 - mae: 35.4084\n",
            "Epoch 379/500\n",
            "2/2 [==============================] - 0s 9ms/step - loss: 40.5329 - mae: 34.8649\n",
            "Epoch 380/500\n",
            "2/2 [==============================] - 0s 8ms/step - loss: 40.6889 - mae: 33.8413\n",
            "Epoch 381/500\n",
            "2/2 [==============================] - 0s 8ms/step - loss: 40.5966 - mae: 35.4772\n",
            "Epoch 382/500\n",
            "2/2 [==============================] - 0s 11ms/step - loss: 40.5391 - mae: 35.5913\n",
            "Epoch 383/500\n",
            "2/2 [==============================] - 0s 8ms/step - loss: 40.4324 - mae: 35.1347\n",
            "Epoch 384/500\n",
            "2/2 [==============================] - 0s 8ms/step - loss: 40.1064 - mae: 35.1600\n",
            "Epoch 385/500\n",
            "2/2 [==============================] - 0s 9ms/step - loss: 40.6385 - mae: 34.9398\n",
            "Epoch 386/500\n",
            "2/2 [==============================] - 0s 8ms/step - loss: 40.6193 - mae: 35.0709\n",
            "Epoch 387/500\n",
            "2/2 [==============================] - 0s 7ms/step - loss: 40.6029 - mae: 35.8682\n",
            "Epoch 388/500\n",
            "2/2 [==============================] - 0s 8ms/step - loss: 40.6579 - mae: 35.6260\n",
            "Epoch 389/500\n",
            "2/2 [==============================] - 0s 8ms/step - loss: 40.3122 - mae: 35.5016\n",
            "Epoch 390/500\n",
            "2/2 [==============================] - 0s 8ms/step - loss: 40.8018 - mae: 32.4018\n",
            "Epoch 391/500\n",
            "2/2 [==============================] - 0s 8ms/step - loss: 40.7545 - mae: 33.2889\n",
            "Epoch 392/500\n",
            "2/2 [==============================] - 0s 11ms/step - loss: 40.4628 - mae: 34.6110\n",
            "Epoch 393/500\n",
            "2/2 [==============================] - 0s 8ms/step - loss: 40.6405 - mae: 34.8929\n",
            "Epoch 394/500\n",
            "2/2 [==============================] - 0s 8ms/step - loss: 40.4778 - mae: 35.5966\n",
            "Epoch 395/500\n",
            "2/2 [==============================] - 0s 8ms/step - loss: 40.6693 - mae: 34.2597\n",
            "Epoch 396/500\n",
            "2/2 [==============================] - 0s 8ms/step - loss: 40.4333 - mae: 34.8026\n",
            "Epoch 397/500\n",
            "2/2 [==============================] - 0s 8ms/step - loss: 40.5852 - mae: 35.0191\n",
            "Epoch 398/500\n",
            "2/2 [==============================] - 0s 11ms/step - loss: 40.6499 - mae: 34.4739\n",
            "Epoch 399/500\n",
            "2/2 [==============================] - 0s 9ms/step - loss: 40.4943 - mae: 35.1197\n",
            "Epoch 400/500\n",
            "2/2 [==============================] - 0s 8ms/step - loss: 40.7321 - mae: 33.4765\n",
            "Epoch 401/500\n",
            "2/2 [==============================] - 0s 8ms/step - loss: 39.9385 - mae: 34.2111\n",
            "Epoch 402/500\n",
            "2/2 [==============================] - 0s 10ms/step - loss: 40.4545 - mae: 29.2979\n",
            "Epoch 403/500\n",
            "2/2 [==============================] - 0s 8ms/step - loss: 40.1612 - mae: 31.6287\n",
            "Epoch 404/500\n",
            "2/2 [==============================] - 0s 8ms/step - loss: 41.3429 - mae: 27.6463\n",
            "Epoch 405/500\n",
            "2/2 [==============================] - 0s 11ms/step - loss: 40.7653 - mae: 31.5593\n",
            "Epoch 406/500\n",
            "2/2 [==============================] - 0s 8ms/step - loss: 40.7658 - mae: 32.7839\n",
            "Epoch 407/500\n",
            "2/2 [==============================] - 0s 11ms/step - loss: 40.6614 - mae: 33.9227\n",
            "Epoch 408/500\n",
            "2/2 [==============================] - 0s 10ms/step - loss: 40.1247 - mae: 34.6275\n",
            "Epoch 409/500\n",
            "2/2 [==============================] - 0s 10ms/step - loss: 40.8387 - mae: 30.3167\n",
            "Epoch 410/500\n",
            "2/2 [==============================] - 0s 9ms/step - loss: 40.8792 - mae: 31.2916\n",
            "Epoch 411/500\n",
            "2/2 [==============================] - 0s 8ms/step - loss: 40.6684 - mae: 32.3574\n",
            "Epoch 412/500\n",
            "2/2 [==============================] - 0s 9ms/step - loss: 40.7692 - mae: 32.1824\n",
            "Epoch 413/500\n",
            "2/2 [==============================] - 0s 9ms/step - loss: 40.8381 - mae: 32.4667\n",
            "Epoch 414/500\n",
            "2/2 [==============================] - 0s 9ms/step - loss: 40.6980 - mae: 32.3823\n",
            "Epoch 415/500\n",
            "2/2 [==============================] - 0s 11ms/step - loss: 40.6365 - mae: 33.9482\n",
            "Epoch 416/500\n",
            "2/2 [==============================] - 0s 11ms/step - loss: 40.6402 - mae: 35.0630\n",
            "Epoch 417/500\n",
            "2/2 [==============================] - 0s 10ms/step - loss: 40.6177 - mae: 35.4802\n",
            "Epoch 418/500\n",
            "2/2 [==============================] - 0s 10ms/step - loss: 40.6233 - mae: 35.2462\n",
            "Epoch 419/500\n",
            "2/2 [==============================] - 0s 10ms/step - loss: 40.3722 - mae: 35.4816\n",
            "Epoch 420/500\n",
            "2/2 [==============================] - 0s 17ms/step - loss: 40.6375 - mae: 33.3087\n",
            "Epoch 421/500\n",
            "2/2 [==============================] - 0s 9ms/step - loss: 40.5792 - mae: 34.6361\n",
            "Epoch 422/500\n",
            "2/2 [==============================] - 0s 8ms/step - loss: 40.4865 - mae: 35.0734\n",
            "Epoch 423/500\n",
            "2/2 [==============================] - 0s 13ms/step - loss: 40.6710 - mae: 34.4900\n",
            "Epoch 424/500\n",
            "2/2 [==============================] - 0s 9ms/step - loss: 40.5271 - mae: 35.1054\n",
            "Epoch 425/500\n",
            "2/2 [==============================] - 0s 10ms/step - loss: 40.6749 - mae: 34.4014\n",
            "Epoch 426/500\n",
            "2/2 [==============================] - 0s 9ms/step - loss: 40.3904 - mae: 34.0993\n",
            "Epoch 427/500\n",
            "2/2 [==============================] - 0s 12ms/step - loss: 40.6697 - mae: 34.2883\n",
            "Epoch 428/500\n",
            "2/2 [==============================] - 0s 12ms/step - loss: 40.4506 - mae: 34.6631\n",
            "Epoch 429/500\n",
            "2/2 [==============================] - 0s 10ms/step - loss: 40.2427 - mae: 33.8314\n",
            "Epoch 430/500\n",
            "2/2 [==============================] - 0s 10ms/step - loss: 40.8535 - mae: 29.8918\n",
            "Epoch 431/500\n",
            "2/2 [==============================] - 0s 10ms/step - loss: 40.6625 - mae: 31.2370\n",
            "Epoch 432/500\n",
            "2/2 [==============================] - 0s 10ms/step - loss: 40.7563 - mae: 31.5937\n",
            "Epoch 433/500\n",
            "2/2 [==============================] - 0s 9ms/step - loss: 40.1684 - mae: 33.0812\n",
            "Epoch 434/500\n",
            "2/2 [==============================] - 0s 7ms/step - loss: 41.0695 - mae: 30.0266\n",
            "Epoch 435/500\n",
            "2/2 [==============================] - 0s 8ms/step - loss: 39.8125 - mae: 32.3034\n",
            "Epoch 436/500\n",
            "2/2 [==============================] - 0s 7ms/step - loss: 41.4168 - mae: 26.1298\n",
            "Epoch 437/500\n",
            "2/2 [==============================] - 0s 10ms/step - loss: 41.1602 - mae: 27.9394\n",
            "Epoch 438/500\n",
            "2/2 [==============================] - 0s 12ms/step - loss: 39.6997 - mae: 32.4699\n",
            "Epoch 439/500\n",
            "2/2 [==============================] - 0s 11ms/step - loss: 41.1511 - mae: 25.7530\n",
            "Epoch 440/500\n",
            "2/2 [==============================] - 0s 11ms/step - loss: 41.0863 - mae: 26.0761\n",
            "Epoch 441/500\n",
            "2/2 [==============================] - 0s 10ms/step - loss: 41.1708 - mae: 27.0388\n",
            "Epoch 442/500\n",
            "2/2 [==============================] - 0s 10ms/step - loss: 41.1516 - mae: 28.9006\n",
            "Epoch 443/500\n",
            "2/2 [==============================] - 0s 8ms/step - loss: 40.9045 - mae: 30.9718\n",
            "Epoch 444/500\n",
            "2/2 [==============================] - 0s 13ms/step - loss: 40.2340 - mae: 31.9254\n",
            "Epoch 445/500\n",
            "2/2 [==============================] - 0s 13ms/step - loss: 40.7290 - mae: 33.5545\n",
            "Epoch 446/500\n",
            "2/2 [==============================] - 0s 11ms/step - loss: 40.3410 - mae: 33.2057\n",
            "Epoch 447/500\n",
            "2/2 [==============================] - 0s 12ms/step - loss: 40.3133 - mae: 34.2195\n",
            "Epoch 448/500\n",
            "2/2 [==============================] - 0s 10ms/step - loss: 40.6552 - mae: 34.8465\n",
            "Epoch 449/500\n",
            "2/2 [==============================] - 0s 9ms/step - loss: 40.6159 - mae: 34.8690\n",
            "Epoch 450/500\n",
            "2/2 [==============================] - 0s 12ms/step - loss: 40.6009 - mae: 35.1866\n",
            "Epoch 451/500\n",
            "2/2 [==============================] - 0s 10ms/step - loss: 39.9833 - mae: 35.5539\n",
            "Epoch 452/500\n",
            "2/2 [==============================] - 0s 10ms/step - loss: 40.8138 - mae: 31.0996\n",
            "Epoch 453/500\n",
            "2/2 [==============================] - 0s 11ms/step - loss: 40.9067 - mae: 29.6392\n",
            "Epoch 454/500\n",
            "2/2 [==============================] - 0s 9ms/step - loss: 40.8883 - mae: 30.6736\n",
            "Epoch 455/500\n",
            "2/2 [==============================] - 0s 9ms/step - loss: 40.7120 - mae: 31.9664\n",
            "Epoch 456/500\n",
            "2/2 [==============================] - 0s 8ms/step - loss: 40.6629 - mae: 33.3897\n",
            "Epoch 457/500\n",
            "2/2 [==============================] - 0s 8ms/step - loss: 40.5905 - mae: 33.6697\n",
            "Epoch 458/500\n",
            "2/2 [==============================] - 0s 8ms/step - loss: 40.1825 - mae: 34.5132\n",
            "Epoch 459/500\n",
            "2/2 [==============================] - 0s 9ms/step - loss: 40.7845 - mae: 31.8902\n",
            "Epoch 460/500\n",
            "2/2 [==============================] - 0s 11ms/step - loss: 40.7689 - mae: 32.6503\n",
            "Epoch 461/500\n",
            "2/2 [==============================] - 0s 11ms/step - loss: 40.6602 - mae: 33.5402\n",
            "Epoch 462/500\n",
            "2/2 [==============================] - 0s 9ms/step - loss: 40.6628 - mae: 34.1665\n",
            "Epoch 463/500\n",
            "2/2 [==============================] - 0s 17ms/step - loss: 40.5967 - mae: 34.6815\n",
            "Epoch 464/500\n",
            "2/2 [==============================] - 0s 13ms/step - loss: 40.4271 - mae: 35.2986\n",
            "Epoch 465/500\n",
            "2/2 [==============================] - 0s 14ms/step - loss: 40.4097 - mae: 35.4030\n",
            "Epoch 466/500\n",
            "2/2 [==============================] - 0s 11ms/step - loss: 40.5725 - mae: 35.5343\n",
            "Epoch 467/500\n",
            "2/2 [==============================] - 0s 10ms/step - loss: 40.6529 - mae: 35.0080\n",
            "Epoch 468/500\n",
            "2/2 [==============================] - 0s 12ms/step - loss: 40.5418 - mae: 34.8457\n",
            "Epoch 469/500\n",
            "2/2 [==============================] - 0s 9ms/step - loss: 40.6439 - mae: 34.1100\n",
            "Epoch 470/500\n",
            "2/2 [==============================] - 0s 8ms/step - loss: 40.6383 - mae: 34.3020\n",
            "Epoch 471/500\n",
            "2/2 [==============================] - 0s 9ms/step - loss: 40.5386 - mae: 34.7342\n",
            "Epoch 472/500\n",
            "2/2 [==============================] - 0s 11ms/step - loss: 40.6039 - mae: 35.2814\n",
            "Epoch 473/500\n",
            "2/2 [==============================] - 0s 9ms/step - loss: 40.4713 - mae: 36.1944\n",
            "Epoch 474/500\n",
            "2/2 [==============================] - 0s 11ms/step - loss: 40.5644 - mae: 34.7838\n",
            "Epoch 475/500\n",
            "2/2 [==============================] - 0s 10ms/step - loss: 40.2396 - mae: 34.6765\n",
            "Epoch 476/500\n",
            "2/2 [==============================] - 0s 12ms/step - loss: 40.4569 - mae: 35.2603\n",
            "Epoch 477/500\n",
            "2/2 [==============================] - 0s 10ms/step - loss: 40.6569 - mae: 33.6279\n",
            "Epoch 478/500\n",
            "2/2 [==============================] - 0s 10ms/step - loss: 40.2780 - mae: 33.0186\n",
            "Epoch 479/500\n",
            "2/2 [==============================] - 0s 8ms/step - loss: 40.6612 - mae: 33.6315\n",
            "Epoch 480/500\n",
            "2/2 [==============================] - 0s 7ms/step - loss: 40.6919 - mae: 33.1428\n",
            "Epoch 481/500\n",
            "2/2 [==============================] - 0s 12ms/step - loss: 40.6026 - mae: 33.8110\n",
            "Epoch 482/500\n",
            "2/2 [==============================] - 0s 8ms/step - loss: 40.6282 - mae: 33.4965\n",
            "Epoch 483/500\n",
            "2/2 [==============================] - 0s 9ms/step - loss: 40.3563 - mae: 34.0143\n",
            "Epoch 484/500\n",
            "2/2 [==============================] - 0s 10ms/step - loss: 39.9424 - mae: 31.4114\n",
            "Epoch 485/500\n",
            "2/2 [==============================] - 0s 9ms/step - loss: 40.6959 - mae: 31.9151\n",
            "Epoch 486/500\n",
            "2/2 [==============================] - 0s 10ms/step - loss: 39.9184 - mae: 32.4222\n",
            "Epoch 487/500\n",
            "2/2 [==============================] - 0s 9ms/step - loss: 40.6127 - mae: 32.9751\n",
            "Epoch 488/500\n",
            "2/2 [==============================] - 0s 8ms/step - loss: 39.8410 - mae: 32.0435\n",
            "Epoch 489/500\n",
            "2/2 [==============================] - 0s 9ms/step - loss: 40.4865 - mae: 32.1150\n",
            "Epoch 490/500\n",
            "2/2 [==============================] - 0s 8ms/step - loss: 40.6545 - mae: 34.0749\n",
            "Epoch 491/500\n",
            "2/2 [==============================] - 0s 10ms/step - loss: 40.6450 - mae: 34.6217\n",
            "Epoch 492/500\n",
            "2/2 [==============================] - 0s 8ms/step - loss: 40.6223 - mae: 34.3016\n",
            "Epoch 493/500\n",
            "2/2 [==============================] - 0s 10ms/step - loss: 40.5247 - mae: 34.5695\n",
            "Epoch 494/500\n",
            "2/2 [==============================] - 0s 9ms/step - loss: 40.1795 - mae: 34.9263\n",
            "Epoch 495/500\n",
            "2/2 [==============================] - 0s 10ms/step - loss: 40.5483 - mae: 35.0885\n",
            "Epoch 496/500\n",
            "2/2 [==============================] - 0s 9ms/step - loss: 40.5761 - mae: 35.1523\n",
            "Epoch 497/500\n",
            "2/2 [==============================] - 0s 10ms/step - loss: 40.2602 - mae: 35.3815\n",
            "Epoch 498/500\n",
            "2/2 [==============================] - 0s 10ms/step - loss: 40.8544 - mae: 32.2391\n",
            "Epoch 499/500\n",
            "2/2 [==============================] - 0s 11ms/step - loss: 40.6093 - mae: 32.3600\n",
            "Epoch 500/500\n",
            "2/2 [==============================] - 0s 10ms/step - loss: 39.7484 - mae: 32.3843\n"
          ]
        },
        {
          "output_type": "execute_result",
          "data": {
            "text/plain": [
              "<keras.src.callbacks.History at 0x7b680b775e10>"
            ]
          },
          "metadata": {},
          "execution_count": 59
        }
      ]
    },
    {
      "cell_type": "code",
      "source": [
        "# Make and plot some predictions\n",
        "\n",
        "y_preds_3 = model_3.predict(x_test)\n",
        "plot_predictions(predictions = y_preds_3)"
      ],
      "metadata": {
        "colab": {
          "base_uri": "https://localhost:8080/",
          "height": 503
        },
        "id": "uKfdkv17FlEB",
        "outputId": "1049991b-709b-423c-e38b-61003ff324ef"
      },
      "execution_count": 60,
      "outputs": [
        {
          "output_type": "stream",
          "name": "stdout",
          "text": [
            "1/1 [==============================] - 0s 107ms/step\n"
          ]
        },
        {
          "output_type": "display_data",
          "data": {
            "text/plain": [
              "<Figure size 1000x700 with 1 Axes>"
            ],
            "image/png": "[encoded data removed]"
          },
          "metadata": {}
        }
      ]
    },
    {
      "cell_type": "code",
      "source": [
        "# Calculate model_3 evaluation metrics\n",
        "\n",
        "mae_3 = mae(y_test, y_preds_3)\n",
        "mse_3 = mse(y_test, y_preds_3)\n",
        "mae_3, mse_3"
      ],
      "metadata": {
        "colab": {
          "base_uri": "https://localhost:8080/"
        },
        "id": "AZTlLn1rGIGp",
        "outputId": "a2b9d4ae-8523-409b-c259-5b4730da8524"
      },
      "execution_count": 61,
      "outputs": [
        {
          "output_type": "execute_result",
          "data": {
            "text/plain": [
              "(<tf.Tensor: shape=(), dtype=float32, numpy=64.10081>,\n",
              " <tf.Tensor: shape=(), dtype=float32, numpy=4169.286>)"
            ]
          },
          "metadata": {},
          "execution_count": 61
        }
      ]
    },
    {
      "cell_type": "markdown",
      "source": [
        "## Comparing the results of out experiments\n",
        "\n"
      ],
      "metadata": {
        "id": "AAy24eLdG11d"
      }
    },
    {
      "cell_type": "code",
      "source": [
        "# Lets compare our models result using a pandas DataFrame\n",
        "\n",
        "import pandas as pd\n",
        "\n",
        "model_results = [[\"model_1\", mae_1.numpy(), mse_1.numpy()],\n",
        "                [\"model_2\", mae_2.numpy(), mse_2.numpy()],\n",
        "                [\"model_3\", mae_3.numpy(), mse_3]]\n",
        "\n",
        "all_results = pd.DataFrame(model_results, columns=[\"model\", \"mae\", \"mse\"])\n",
        "all_results\n"
      ],
      "metadata": {
        "colab": {
          "base_uri": "https://localhost:8080/",
          "height": 144
        },
        "id": "Eyz6kizfeNiv",
        "outputId": "a3ccf59f-4a2a-4095-8197-74cb5be0b7b9"
      },
      "execution_count": 68,
      "outputs": [
        {
          "output_type": "execute_result",
          "data": {
            "text/plain": [
              "     model        mae                                           mse\n",
              "0  model_1  21.266607                                     455.69696\n",
              "1  model_2  46.062889                                   2149.670654\n",
              "2  model_3  64.100807  tf.Tensor(4169.286, shape=(), dtype=float32)"
            ],
            "text/html": [
              "\n",
              "  <div id=\"df-bacd63d6-2aac-4b00-b8e7-30fbab3c8bda\" class=\"colab-df-container\">\n",
              "    <div>\n",
              "<style scoped>\n",
              "    .dataframe tbody tr th:only-of-type {\n",
              "        vertical-align: middle;\n",
              "    }\n",
              "\n",
              "    .dataframe tbody tr th {\n",
              "        vertical-align: top;\n",
              "    }\n",
              "\n",
              "    .dataframe thead th {\n",
              "        text-align: right;\n",
              "    }\n",
              "</style>\n",
              "<table border=\"1\" class=\"dataframe\">\n",
              "  <thead>\n",
              "    <tr style=\"text-align: right;\">\n",
              "      <th></th>\n",
              "      <th>model</th>\n",
              "      <th>mae</th>\n",
              "      <th>mse</th>\n",
              "    </tr>\n",
              "  </thead>\n",
              "  <tbody>\n",
              "    <tr>\n",
              "      <th>0</th>\n",
              "      <td>model_1</td>\n",
              "      <td>21.266607</td>\n",
              "      <td>455.69696</td>\n",
              "    </tr>\n",
              "    <tr>\n",
              "      <th>1</th>\n",
              "      <td>model_2</td>\n",
              "      <td>46.062889</td>\n",
              "      <td>2149.670654</td>\n",
              "    </tr>\n",
              "    <tr>\n",
              "      <th>2</th>\n",
              "      <td>model_3</td>\n",
              "      <td>64.100807</td>\n",
              "      <td>tf.Tensor(4169.286, shape=(), dtype=float32)</td>\n",
              "    </tr>\n",
              "  </tbody>\n",
              "</table>\n",
              "</div>\n",
              "    <div class=\"colab-df-buttons\">\n",
              "\n",
              "  <div class=\"colab-df-container\">\n",
              "    <button class=\"colab-df-convert\" onclick=\"convertToInteractive('df-bacd63d6-2aac-4b00-b8e7-30fbab3c8bda')\"\n",
              "            title=\"Convert this dataframe to an interactive table.\"\n",
              "            style=\"display:none;\">\n",
              "\n",
              "  <svg xmlns=\"http://www.w3.org/2000/svg\" height=\"24px\" viewBox=\"0 -960 960 960\">\n",
              "    <path d=\"M120-120v-720h720v720H120Zm60-500h600v-160H180v160Zm220 220h160v-160H400v160Zm0 220h160v-160H400v160ZM180-400h160v-160H180v160Zm440 0h160v-160H620v160ZM180-180h160v-160H180v160Zm440 0h160v-160H620v160Z\"/>\n",
              "  </svg>\n",
              "    </button>\n",
              "\n",
              "  <style>\n",
              "    .colab-df-container {\n",
              "      display:flex;\n",
              "      gap: 12px;\n",
              "    }\n",
              "\n",
              "    .colab-df-convert {\n",
              "      background-color: #E8F0FE;\n",
              "      border: none;\n",
              "      border-radius: 50%;\n",
              "      cursor: pointer;\n",
              "      display: none;\n",
              "      fill: #1967D2;\n",
              "      height: 32px;\n",
              "      padding: 0 0 0 0;\n",
              "      width: 32px;\n",
              "    }\n",
              "\n",
              "    .colab-df-convert:hover {\n",
              "      background-color: #E2EBFA;\n",
              "      box-shadow: 0px 1px 2px rgba(60, 64, 67, 0.3), 0px 1px 3px 1px rgba(60, 64, 67, 0.15);\n",
              "      fill: #174EA6;\n",
              "    }\n",
              "\n",
              "    .colab-df-buttons div {\n",
              "      margin-bottom: 4px;\n",
              "    }\n",
              "\n",
              "    [theme=dark] .colab-df-convert {\n",
              "      background-color: #3B4455;\n",
              "      fill: #D2E3FC;\n",
              "    }\n",
              "\n",
              "    [theme=dark] .colab-df-convert:hover {\n",
              "      background-color: #434B5C;\n",
              "      box-shadow: 0px 1px 3px 1px rgba(0, 0, 0, 0.15);\n",
              "      filter: drop-shadow(0px 1px 2px rgba(0, 0, 0, 0.3));\n",
              "      fill: #FFFFFF;\n",
              "    }\n",
              "  </style>\n",
              "\n",
              "    <script>\n",
              "      const buttonEl =\n",
              "        document.querySelector('#df-bacd63d6-2aac-4b00-b8e7-30fbab3c8bda button.colab-df-convert');\n",
              "      buttonEl.style.display =\n",
              "        google.colab.kernel.accessAllowed ? 'block' : 'none';\n",
              "\n",
              "      async function convertToInteractive(key) {\n",
              "        const element = document.querySelector('#df-bacd63d6-2aac-4b00-b8e7-30fbab3c8bda');\n",
              "        const dataTable =\n",
              "          await google.colab.kernel.invokeFunction('convertToInteractive',\n",
              "                                                    [key], {});\n",
              "        if (!dataTable) return;\n",
              "\n",
              "        const docLinkHtml = 'Like what you see? Visit the ' +\n",
              "          '<a target=\"_blank\" href=https://colab.research.google.com/notebooks/data_table.ipynb>data table notebook</a>'\n",
              "          + ' to learn more about interactive tables.';\n",
              "        element.innerHTML = '';\n",
              "        dataTable['output_type'] = 'display_data';\n",
              "        await google.colab.output.renderOutput(dataTable, element);\n",
              "        const docLink = document.createElement('div');\n",
              "        docLink.innerHTML = docLinkHtml;\n",
              "        element.appendChild(docLink);\n",
              "      }\n",
              "    </script>\n",
              "  </div>\n",
              "\n",
              "\n",
              "<div id=\"df-7eac4e69-d79b-49d9-8669-3d1891415b58\">\n",
              "  <button class=\"colab-df-quickchart\" onclick=\"quickchart('df-7eac4e69-d79b-49d9-8669-3d1891415b58')\"\n",
              "            title=\"Suggest charts\"\n",
              "            style=\"display:none;\">\n",
              "\n",
              "<svg xmlns=\"http://www.w3.org/2000/svg\" height=\"24px\"viewBox=\"0 0 24 24\"\n",
              "     width=\"24px\">\n",
              "    <g>\n",
              "        <path d=\"M19 3H5c-1.1 0-2 .9-2 2v14c0 1.1.9 2 2 2h14c1.1 0 2-.9 2-2V5c0-1.1-.9-2-2-2zM9 17H7v-7h2v7zm4 0h-2V7h2v10zm4 0h-2v-4h2v4z\"/>\n",
              "    </g>\n",
              "</svg>\n",
              "  </button>\n",
              "\n",
              "<style>\n",
              "  .colab-df-quickchart {\n",
              "      --bg-color: #E8F0FE;\n",
              "      --fill-color: #1967D2;\n",
              "      --hover-bg-color: #E2EBFA;\n",
              "      --hover-fill-color: #174EA6;\n",
              "      --disabled-fill-color: #AAA;\n",
              "      --disabled-bg-color: #DDD;\n",
              "  }\n",
              "\n",
              "  [theme=dark] .colab-df-quickchart {\n",
              "      --bg-color: #3B4455;\n",
              "      --fill-color: #D2E3FC;\n",
              "      --hover-bg-color: #434B5C;\n",
              "      --hover-fill-color: #FFFFFF;\n",
              "      --disabled-bg-color: #3B4455;\n",
              "      --disabled-fill-color: #666;\n",
              "  }\n",
              "\n",
              "  .colab-df-quickchart {\n",
              "    background-color: var(--bg-color);\n",
              "    border: none;\n",
              "    border-radius: 50%;\n",
              "    cursor: pointer;\n",
              "    display: none;\n",
              "    fill: var(--fill-color);\n",
              "    height: 32px;\n",
              "    padding: 0;\n",
              "    width: 32px;\n",
              "  }\n",
              "\n",
              "  .colab-df-quickchart:hover {\n",
              "    background-color: var(--hover-bg-color);\n",
              "    box-shadow: 0 1px 2px rgba(60, 64, 67, 0.3), 0 1px 3px 1px rgba(60, 64, 67, 0.15);\n",
              "    fill: var(--button-hover-fill-color);\n",
              "  }\n",
              "\n",
              "  .colab-df-quickchart-complete:disabled,\n",
              "  .colab-df-quickchart-complete:disabled:hover {\n",
              "    background-color: var(--disabled-bg-color);\n",
              "    fill: var(--disabled-fill-color);\n",
              "    box-shadow: none;\n",
              "  }\n",
              "\n",
              "  .colab-df-spinner {\n",
              "    border: 2px solid var(--fill-color);\n",
              "    border-color: transparent;\n",
              "    border-bottom-color: var(--fill-color);\n",
              "    animation:\n",
              "      spin 1s steps(1) infinite;\n",
              "  }\n",
              "\n",
              "  @keyframes spin {\n",
              "    0% {\n",
              "      border-color: transparent;\n",
              "      border-bottom-color: var(--fill-color);\n",
              "      border-left-color: var(--fill-color);\n",
              "    }\n",
              "    20% {\n",
              "      border-color: transparent;\n",
              "      border-left-color: var(--fill-color);\n",
              "      border-top-color: var(--fill-color);\n",
              "    }\n",
              "    30% {\n",
              "      border-color: transparent;\n",
              "      border-left-color: var(--fill-color);\n",
              "      border-top-color: var(--fill-color);\n",
              "      border-right-color: var(--fill-color);\n",
              "    }\n",
              "    40% {\n",
              "      border-color: transparent;\n",
              "      border-right-color: var(--fill-color);\n",
              "      border-top-color: var(--fill-color);\n",
              "    }\n",
              "    60% {\n",
              "      border-color: transparent;\n",
              "      border-right-color: var(--fill-color);\n",
              "    }\n",
              "    80% {\n",
              "      border-color: transparent;\n",
              "      border-right-color: var(--fill-color);\n",
              "      border-bottom-color: var(--fill-color);\n",
              "    }\n",
              "    90% {\n",
              "      border-color: transparent;\n",
              "      border-bottom-color: var(--fill-color);\n",
              "    }\n",
              "  }\n",
              "</style>\n",
              "\n",
              "  <script>\n",
              "    async function quickchart(key) {\n",
              "      const quickchartButtonEl =\n",
              "        document.querySelector('#' + key + ' button');\n",
              "      quickchartButtonEl.disabled = true;  // To prevent multiple clicks.\n",
              "      quickchartButtonEl.classList.add('colab-df-spinner');\n",
              "      try {\n",
              "        const charts = await google.colab.kernel.invokeFunction(\n",
              "            'suggestCharts', [key], {});\n",
              "      } catch (error) {\n",
              "        console.error('Error during call to suggestCharts:', error);\n",
              "      }\n",
              "      quickchartButtonEl.classList.remove('colab-df-spinner');\n",
              "      quickchartButtonEl.classList.add('colab-df-quickchart-complete');\n",
              "    }\n",
              "    (() => {\n",
              "      let quickchartButtonEl =\n",
              "        document.querySelector('#df-7eac4e69-d79b-49d9-8669-3d1891415b58 button');\n",
              "      quickchartButtonEl.style.display =\n",
              "        google.colab.kernel.accessAllowed ? 'block' : 'none';\n",
              "    })();\n",
              "  </script>\n",
              "</div>\n",
              "    </div>\n",
              "  </div>\n"
            ],
            "application/vnd.google.colaboratory.intrinsic+json": {
              "type": "dataframe",
              "variable_name": "all_results",
              "summary": "{\n  \"name\": \"all_results\",\n  \"rows\": 3,\n  \"fields\": [\n    {\n      \"column\": \"model\",\n      \"properties\": {\n        \"dtype\": \"string\",\n        \"num_unique_values\": 3,\n        \"samples\": [\n          \"model_1\",\n          \"model_2\",\n          \"model_3\"\n        ],\n        \"semantic_type\": \"\",\n        \"description\": \"\"\n      }\n    },\n    {\n      \"column\": \"mae\",\n      \"properties\": {\n        \"dtype\": \"float32\",\n        \"num_unique_values\": 3,\n        \"samples\": [\n          21.2666072845459,\n          46.062889099121094,\n          64.1008071899414\n        ],\n        \"semantic_type\": \"\",\n        \"description\": \"\"\n      }\n    },\n    {\n      \"column\": \"mse\",\n      \"properties\": {\n        \"dtype\": \"object\",\n        \"semantic_type\": \"\",\n        \"description\": \"\"\n      }\n    }\n  ]\n}"
            }
          },
          "metadata": {},
          "execution_count": 68
        }
      ]
    },
    {
      "source": [
        "# @title mae\n",
        "# Got Recommendation from gcollab\n",
        "\n",
        "from matplotlib import pyplot as plt\n",
        "all_results['mae'].plot(kind='hist', bins=20, title='mae')\n",
        "plt.gca().spines[['top', 'right',]].set_visible(False)"
      ],
      "cell_type": "code",
      "execution_count": 69,
      "outputs": [
        {
          "output_type": "display_data",
          "data": {
            "text/plain": [
              "<Figure size 640x480 with 1 Axes>"
            ],
            "image/png": "[encoded data removed]"
          },
          "metadata": {}
        }
      ],
      "metadata": {
        "colab": {
          "base_uri": "https://localhost:8080/",
          "height": 452
        },
        "id": "AK8lqoT2f7R1",
        "outputId": "763b83ae-b27e-4665-b4e9-65baa7568be3"
      }
    },
    {
      "cell_type": "code",
      "source": [],
      "metadata": {
        "id": "EXnDVud3f2I-"
      },
      "execution_count": null,
      "outputs": []
    }
  ]
}