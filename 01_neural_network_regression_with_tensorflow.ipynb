{
  "nbformat": 4,
  "nbformat_minor": 0,
  "metadata": {
    "colab": {
      "provenance": [],
      "authorship_tag": "ABX9TyOMWKbGgYyMlCBWSghanJiD",
      "include_colab_link": true
    },
    "kernelspec": {
      "name": "python3",
      "display_name": "Python 3"
    },
    "language_info": {
      "name": "python"
    }
  },
  "cells": [
    {
      "cell_type": "markdown",
      "metadata": {
        "id": "view-in-github",
        "colab_type": "text"
      },
      "source": [
        "<a href=\"https://colab.research.google.com/github/GabrielBatavia/Learn_TensorFlow/blob/main/01_neural_network_regression_with_tensorflow.ipynb\" target=\"_parent\"><img src=\"https://colab.research.google.com/assets/colab-badge.svg\" alt=\"Open In Colab\"/></a>"
      ]
    },
    {
      "cell_type": "markdown",
      "source": [
        "# Introduction to Regression with Neural Networks in TensorFlow\n",
        "\n",
        "There are many definition for a regression problem but in our case, we're going to simplify it : predicting a numerical variable based on some other combination of variables, even shorter...predicting a number."
      ],
      "metadata": {
        "id": "eANshE7nr2zb"
      }
    },
    {
      "cell_type": "code",
      "execution_count": 1,
      "metadata": {
        "colab": {
          "base_uri": "https://localhost:8080/"
        },
        "id": "UmVJP_eWrO59",
        "outputId": "52e32623-a878-49c5-84bc-a36387f5e1ad"
      },
      "outputs": [
        {
          "output_type": "stream",
          "name": "stdout",
          "text": [
            "2.15.0\n"
          ]
        }
      ],
      "source": [
        "# Import TensorFlow\n",
        "\n",
        "import tensorflow as tf\n",
        "print(tf.__version__)"
      ]
    },
    {
      "cell_type": "markdown",
      "source": [
        "## Creating data to view and fit"
      ],
      "metadata": {
        "id": "vbbwMFoqskyN"
      }
    },
    {
      "cell_type": "code",
      "source": [
        "import numpy as np\n",
        "import matplotlib.pyplot as plt"
      ],
      "metadata": {
        "id": "DXOtRA60shEW"
      },
      "execution_count": 2,
      "outputs": []
    },
    {
      "cell_type": "code",
      "source": [
        "# Creating features\n",
        "\n",
        "x = np.array([-7., -4., -1., 2., 5., 8., 11., 14.])\n",
        "\n",
        "# Create labels\n",
        "y = np.array([3., 6., 9., 12., 15., 18., 21., 24.])\n",
        "\n",
        "# Visualize it\n",
        "plt.scatter(x, y);"
      ],
      "metadata": {
        "colab": {
          "base_uri": "https://localhost:8080/",
          "height": 435
        },
        "id": "SX4eHtEts4GD",
        "outputId": "992512ef-61ab-43ce-a3d2-a2830c67a4d6"
      },
      "execution_count": 3,
      "outputs": [
        {
          "output_type": "display_data",
          "data": {
            "text/plain": [
              "<Figure size 640x480 with 1 Axes>"
            ],
            "image/png": "[encoded data removed]"
          },
          "metadata": {}
        }
      ]
    },
    {
      "cell_type": "code",
      "source": [
        "y == x + 10"
      ],
      "metadata": {
        "id": "qaf2FE-utbQ-",
        "colab": {
          "base_uri": "https://localhost:8080/"
        },
        "outputId": "5c60aaa0-5c2e-4d97-bb02-372465c72896"
      },
      "execution_count": 4,
      "outputs": [
        {
          "output_type": "execute_result",
          "data": {
            "text/plain": [
              "array([ True,  True,  True,  True,  True,  True,  True,  True])"
            ]
          },
          "metadata": {},
          "execution_count": 4
        }
      ]
    },
    {
      "cell_type": "markdown",
      "source": [
        "## Input and Output shapes"
      ],
      "metadata": {
        "id": "hHex_79OxmAn"
      }
    },
    {
      "cell_type": "code",
      "source": [
        "# Create a demo tensor for out housing price prediction problem\n",
        "\n",
        "house_info = tf.constant([\"bedroom\", \"bathroom\", \"garage\"])\n",
        "house_price = tf.constant([939700])\n",
        "\n",
        "house_info, house_price"
      ],
      "metadata": {
        "colab": {
          "base_uri": "https://localhost:8080/"
        },
        "id": "EKNlltO3xrVe",
        "outputId": "2c286fb4-dfbc-4954-9f4a-f096ffd5b025"
      },
      "execution_count": 5,
      "outputs": [
        {
          "output_type": "execute_result",
          "data": {
            "text/plain": [
              "(<tf.Tensor: shape=(3,), dtype=string, numpy=array([b'bedroom', b'bathroom', b'garage'], dtype=object)>,\n",
              " <tf.Tensor: shape=(1,), dtype=int32, numpy=array([939700], dtype=int32)>)"
            ]
          },
          "metadata": {},
          "execution_count": 5
        }
      ]
    },
    {
      "cell_type": "code",
      "source": [
        "x[0], y[0]"
      ],
      "metadata": {
        "colab": {
          "base_uri": "https://localhost:8080/"
        },
        "id": "-tWt-gYSzm66",
        "outputId": "eb8d7dbc-f668-4768-8a66-08784a30ad5c"
      },
      "execution_count": 6,
      "outputs": [
        {
          "output_type": "execute_result",
          "data": {
            "text/plain": [
              "(-7.0, 3.0)"
            ]
          },
          "metadata": {},
          "execution_count": 6
        }
      ]
    },
    {
      "cell_type": "code",
      "source": [
        "input_shape = x[0].shape\n",
        "output_shape = y[0].shape\n",
        "\n",
        "input_shape, output_shape"
      ],
      "metadata": {
        "colab": {
          "base_uri": "https://localhost:8080/"
        },
        "id": "sGSz7U-vzY4m",
        "outputId": "0524fd9f-833b-4d99-806a-37591d8d1c38"
      },
      "execution_count": 7,
      "outputs": [
        {
          "output_type": "execute_result",
          "data": {
            "text/plain": [
              "((), ())"
            ]
          },
          "metadata": {},
          "execution_count": 7
        }
      ]
    },
    {
      "cell_type": "code",
      "source": [
        "x[0].ndim"
      ],
      "metadata": {
        "colab": {
          "base_uri": "https://localhost:8080/"
        },
        "id": "VCL4zHK5z8RR",
        "outputId": "5f50b8a0-7539-49d6-ac41-a91aa85a0345"
      },
      "execution_count": 8,
      "outputs": [
        {
          "output_type": "execute_result",
          "data": {
            "text/plain": [
              "0"
            ]
          },
          "metadata": {},
          "execution_count": 8
        }
      ]
    },
    {
      "cell_type": "code",
      "source": [
        "# Turn our Numpy arrays into tensors with dtype 32\n",
        "\n",
        "X = tf.constant(x, dtype=tf.float32)\n",
        "Y = tf.constant(y, dtype=tf.float32)\n",
        "\n",
        "X, Y"
      ],
      "metadata": {
        "colab": {
          "base_uri": "https://localhost:8080/"
        },
        "id": "QL2Ofdwmz-sQ",
        "outputId": "7a1d095a-0aa5-4c31-fcaf-914e35218c2a"
      },
      "execution_count": 9,
      "outputs": [
        {
          "output_type": "execute_result",
          "data": {
            "text/plain": [
              "(<tf.Tensor: shape=(8,), dtype=float32, numpy=array([-7., -4., -1.,  2.,  5.,  8., 11., 14.], dtype=float32)>,\n",
              " <tf.Tensor: shape=(8,), dtype=float32, numpy=array([ 3.,  6.,  9., 12., 15., 18., 21., 24.], dtype=float32)>)"
            ]
          },
          "metadata": {},
          "execution_count": 9
        }
      ]
    },
    {
      "cell_type": "code",
      "source": [
        "input_shape = X[0].shape\n",
        "output_shape = y[0].shape\n",
        "\n",
        "input_shape, output_shape"
      ],
      "metadata": {
        "colab": {
          "base_uri": "https://localhost:8080/"
        },
        "id": "R6m8i44s1t3S",
        "outputId": "c28ab07d-8612-4826-b7f3-b61b2329b6ff"
      },
      "execution_count": 10,
      "outputs": [
        {
          "output_type": "execute_result",
          "data": {
            "text/plain": [
              "(TensorShape([]), ())"
            ]
          },
          "metadata": {},
          "execution_count": 10
        }
      ]
    },
    {
      "cell_type": "markdown",
      "source": [
        "## Steps in modelling with TensorFlow\n",
        "\n",
        "1. **Creating a model** - define the input and output layers, as well as the hidden layers of a deep learning model.\n",
        "\n",
        "2. **Compiling a model** - define the loss function (in other words, the function wich tells our model how wrong it is) and the optimizer (tells our model how to improve the patterns its learning) and evaluation metrics (what we can use to interpret the preformance of our model)\n",
        "\n",
        "3. Fitting a model - letting the model try to find patters between X & y (features and labels)"
      ],
      "metadata": {
        "id": "T9heq-y318BJ"
      }
    },
    {
      "cell_type": "code",
      "source": [
        "# Opetionally, the first layer can receive an 'input_shape' argument :\n",
        "# model = tf.keras.Sequential()\n",
        "# model.add(tf.keras.layers.Dense(8, input_shape=(16,)))\n",
        "\n",
        "# Afterwards, we do automatic shape inference :\n",
        "# model.add(tf.keras.layers.Dense(4))\n",
        "\n",
        "# model = tf.keras.Sequential()\n",
        "# model.add(tf.keras.layers.Dense(1))\n",
        "# ..."
      ],
      "metadata": {
        "id": "nEAWuhvc6w4g"
      },
      "execution_count": 11,
      "outputs": []
    },
    {
      "cell_type": "code",
      "source": [
        "# Set random seed\n",
        "\n",
        "tf.random.set_seed(42)\n",
        "\n",
        "# 1. Create a model using the Sequential API\n",
        "model = tf.keras.Sequential([\n",
        "    tf.keras.layers.Dense(1)\n",
        "])\n",
        "\n",
        "# 2. Compile the model\n",
        "model.compile(loss = tf.keras.losses.mae, # mae is short for mean absolute error\n",
        "              optimizer = tf.keras.optimizers.SGD(), # sgd is short for stochasitc gradient decent\n",
        "              metrics = [\"mae\"])\n",
        "\n",
        "# 3. Fit the model\n",
        "# model.fit(X, Y, epochs=5) # BREAK IN UPDATED TENSOR VERSION\n",
        "model.fit(tf.expand_dims(X, axis=-1), Y, epochs=5)"
      ],
      "metadata": {
        "colab": {
          "base_uri": "https://localhost:8080/"
        },
        "id": "ubX_9SYR149W",
        "outputId": "1df19efb-0e03-4562-f4a4-751126fb0588"
      },
      "execution_count": 12,
      "outputs": [
        {
          "output_type": "stream",
          "name": "stdout",
          "text": [
            "Epoch 1/5\n",
            "1/1 [==============================] - 1s 655ms/step - loss: 19.8927 - mae: 19.8927\n",
            "Epoch 2/5\n",
            "1/1 [==============================] - 0s 14ms/step - loss: 19.6114 - mae: 19.6114\n",
            "Epoch 3/5\n",
            "1/1 [==============================] - 0s 13ms/step - loss: 19.3302 - mae: 19.3302\n",
            "Epoch 4/5\n",
            "1/1 [==============================] - 0s 12ms/step - loss: 19.0489 - mae: 19.0489\n",
            "Epoch 5/5\n",
            "1/1 [==============================] - 0s 15ms/step - loss: 18.7677 - mae: 18.7677\n"
          ]
        },
        {
          "output_type": "execute_result",
          "data": {
            "text/plain": [
              "<keras.src.callbacks.History at 0x7c95f457d960>"
            ]
          },
          "metadata": {},
          "execution_count": 12
        }
      ]
    },
    {
      "cell_type": "code",
      "source": [
        "# Check our X and Y\n",
        "x, y"
      ],
      "metadata": {
        "colab": {
          "base_uri": "https://localhost:8080/"
        },
        "id": "1B1DsBlo9jYC",
        "outputId": "05fe5998-98bf-43b7-bf57-d6e41500e2cd"
      },
      "execution_count": 13,
      "outputs": [
        {
          "output_type": "execute_result",
          "data": {
            "text/plain": [
              "(array([-7., -4., -1.,  2.,  5.,  8., 11., 14.]),\n",
              " array([ 3.,  6.,  9., 12., 15., 18., 21., 24.]))"
            ]
          },
          "metadata": {},
          "execution_count": 13
        }
      ]
    },
    {
      "cell_type": "code",
      "source": [
        "# Try make prediction\n",
        "model.predict([17.0])"
      ],
      "metadata": {
        "colab": {
          "base_uri": "https://localhost:8080/"
        },
        "id": "L4S19GPP9pXG",
        "outputId": "c9ed2302-2cb1-4029-8478-49ed6876b2f8"
      },
      "execution_count": 14,
      "outputs": [
        {
          "output_type": "stream",
          "name": "stdout",
          "text": [
            "1/1 [==============================] - 0s 112ms/step\n"
          ]
        },
        {
          "output_type": "execute_result",
          "data": {
            "text/plain": [
              "array([[-18.628675]], dtype=float32)"
            ]
          },
          "metadata": {},
          "execution_count": 14
        }
      ]
    },
    {
      "cell_type": "markdown",
      "source": [
        "## Improving our model\n",
        "\n",
        "We can improve our model, by altering the steps we took to create a model.\n",
        "\n",
        "1. **Creating a model** - ere we might add more layers, increse the number of hidden units (all called neurons) within each of the hidden layers, change the activation function of each layer.\n",
        "\n",
        "2. **Compiling a model** - here we might chang ethe optimization function or perhaps the **learning rate** of the optimization function.\n",
        "\n",
        "3. **Fitting a model** - here we might fit a model for more **epochs** (leave it training for longer) or on more data (give the model more examples to learn form)"
      ],
      "metadata": {
        "id": "Nq6KqLEo-HP4"
      }
    },
    {
      "cell_type": "code",
      "source": [
        "# Let's rebuild our model\n",
        "\n",
        "# 1. Create the model\n",
        "model1 = tf.keras.Sequential([\n",
        "    tf.keras.layers.Dense(1)\n",
        "])\n",
        "\n",
        "# 2. Compile the model\n",
        "model1.compile(loss = tf.keras.losses.mae,\n",
        "              optimizer = tf.keras.optimizers.SGD(),\n",
        "              metrics = [\"mae\"])\n",
        "\n",
        "# 3. Fit the model\n",
        "# model.fit(X, Y, epochs=5) # BREAK IN UPDATED TENSOR VERSION\n",
        "model1.fit(tf.expand_dims(X, axis=-1), Y, epochs=100)"
      ],
      "metadata": {
        "colab": {
          "base_uri": "https://localhost:8080/"
        },
        "id": "GPGzIvb2DLc2",
        "outputId": "1689d805-283e-4488-a422-4d7c0c3d9517"
      },
      "execution_count": 15,
      "outputs": [
        {
          "output_type": "stream",
          "name": "stdout",
          "text": [
            "Epoch 1/100\n",
            "1/1 [==============================] - 0s 445ms/step - loss: 8.9173 - mae: 8.9173\n",
            "Epoch 2/100\n",
            "1/1 [==============================] - 0s 16ms/step - loss: 8.7848 - mae: 8.7848\n",
            "Epoch 3/100\n",
            "1/1 [==============================] - 0s 17ms/step - loss: 8.6523 - mae: 8.6523\n",
            "Epoch 4/100\n",
            "1/1 [==============================] - 0s 24ms/step - loss: 8.5198 - mae: 8.5198\n",
            "Epoch 5/100\n",
            "1/1 [==============================] - 0s 14ms/step - loss: 8.3873 - mae: 8.3873\n",
            "Epoch 6/100\n",
            "1/1 [==============================] - 0s 17ms/step - loss: 8.2548 - mae: 8.2548\n",
            "Epoch 7/100\n",
            "1/1 [==============================] - 0s 11ms/step - loss: 8.1223 - mae: 8.1223\n",
            "Epoch 8/100\n",
            "1/1 [==============================] - 0s 12ms/step - loss: 7.9898 - mae: 7.9898\n",
            "Epoch 9/100\n",
            "1/1 [==============================] - 0s 13ms/step - loss: 7.8573 - mae: 7.8573\n",
            "Epoch 10/100\n",
            "1/1 [==============================] - 0s 11ms/step - loss: 7.7248 - mae: 7.7248\n",
            "Epoch 11/100\n",
            "1/1 [==============================] - 0s 11ms/step - loss: 7.5923 - mae: 7.5923\n",
            "Epoch 12/100\n",
            "1/1 [==============================] - 0s 11ms/step - loss: 7.4598 - mae: 7.4598\n",
            "Epoch 13/100\n",
            "1/1 [==============================] - 0s 10ms/step - loss: 7.4100 - mae: 7.4100\n",
            "Epoch 14/100\n",
            "1/1 [==============================] - 0s 11ms/step - loss: 7.4044 - mae: 7.4044\n",
            "Epoch 15/100\n",
            "1/1 [==============================] - 0s 11ms/step - loss: 7.3988 - mae: 7.3988\n",
            "Epoch 16/100\n",
            "1/1 [==============================] - 0s 10ms/step - loss: 7.3931 - mae: 7.3931\n",
            "Epoch 17/100\n",
            "1/1 [==============================] - 0s 11ms/step - loss: 7.3875 - mae: 7.3875\n",
            "Epoch 18/100\n",
            "1/1 [==============================] - 0s 11ms/step - loss: 7.3819 - mae: 7.3819\n",
            "Epoch 19/100\n",
            "1/1 [==============================] - 0s 9ms/step - loss: 7.3762 - mae: 7.3762\n",
            "Epoch 20/100\n",
            "1/1 [==============================] - 0s 11ms/step - loss: 7.3706 - mae: 7.3706\n",
            "Epoch 21/100\n",
            "1/1 [==============================] - 0s 11ms/step - loss: 7.3650 - mae: 7.3650\n",
            "Epoch 22/100\n",
            "1/1 [==============================] - 0s 11ms/step - loss: 7.3594 - mae: 7.3594\n",
            "Epoch 23/100\n",
            "1/1 [==============================] - 0s 11ms/step - loss: 7.3538 - mae: 7.3538\n",
            "Epoch 24/100\n",
            "1/1 [==============================] - 0s 11ms/step - loss: 7.3481 - mae: 7.3481\n",
            "Epoch 25/100\n",
            "1/1 [==============================] - 0s 11ms/step - loss: 7.3425 - mae: 7.3425\n",
            "Epoch 26/100\n",
            "1/1 [==============================] - 0s 20ms/step - loss: 7.3369 - mae: 7.3369\n",
            "Epoch 27/100\n",
            "1/1 [==============================] - 0s 12ms/step - loss: 7.3312 - mae: 7.3312\n",
            "Epoch 28/100\n",
            "1/1 [==============================] - 0s 12ms/step - loss: 7.3256 - mae: 7.3256\n",
            "Epoch 29/100\n",
            "1/1 [==============================] - 0s 18ms/step - loss: 7.3200 - mae: 7.3200\n",
            "Epoch 30/100\n",
            "1/1 [==============================] - 0s 12ms/step - loss: 7.3144 - mae: 7.3144\n",
            "Epoch 31/100\n",
            "1/1 [==============================] - 0s 12ms/step - loss: 7.3088 - mae: 7.3088\n",
            "Epoch 32/100\n",
            "1/1 [==============================] - 0s 13ms/step - loss: 7.3031 - mae: 7.3031\n",
            "Epoch 33/100\n",
            "1/1 [==============================] - 0s 62ms/step - loss: 7.2975 - mae: 7.2975\n",
            "Epoch 34/100\n",
            "1/1 [==============================] - 0s 10ms/step - loss: 7.2919 - mae: 7.2919\n",
            "Epoch 35/100\n",
            "1/1 [==============================] - 0s 11ms/step - loss: 7.2862 - mae: 7.2862\n",
            "Epoch 36/100\n",
            "1/1 [==============================] - 0s 10ms/step - loss: 7.2806 - mae: 7.2806\n",
            "Epoch 37/100\n",
            "1/1 [==============================] - 0s 12ms/step - loss: 7.2750 - mae: 7.2750\n",
            "Epoch 38/100\n",
            "1/1 [==============================] - 0s 14ms/step - loss: 7.2694 - mae: 7.2694\n",
            "Epoch 39/100\n",
            "1/1 [==============================] - 0s 10ms/step - loss: 7.2638 - mae: 7.2638\n",
            "Epoch 40/100\n",
            "1/1 [==============================] - 0s 9ms/step - loss: 7.2581 - mae: 7.2581\n",
            "Epoch 41/100\n",
            "1/1 [==============================] - 0s 10ms/step - loss: 7.2525 - mae: 7.2525\n",
            "Epoch 42/100\n",
            "1/1 [==============================] - 0s 23ms/step - loss: 7.2469 - mae: 7.2469\n",
            "Epoch 43/100\n",
            "1/1 [==============================] - 0s 13ms/step - loss: 7.2413 - mae: 7.2413\n",
            "Epoch 44/100\n",
            "1/1 [==============================] - 0s 12ms/step - loss: 7.2356 - mae: 7.2356\n",
            "Epoch 45/100\n",
            "1/1 [==============================] - 0s 11ms/step - loss: 7.2300 - mae: 7.2300\n",
            "Epoch 46/100\n",
            "1/1 [==============================] - 0s 10ms/step - loss: 7.2244 - mae: 7.2244\n",
            "Epoch 47/100\n",
            "1/1 [==============================] - 0s 11ms/step - loss: 7.2188 - mae: 7.2188\n",
            "Epoch 48/100\n",
            "1/1 [==============================] - 0s 15ms/step - loss: 7.2131 - mae: 7.2131\n",
            "Epoch 49/100\n",
            "1/1 [==============================] - 0s 14ms/step - loss: 7.2075 - mae: 7.2075\n",
            "Epoch 50/100\n",
            "1/1 [==============================] - 0s 23ms/step - loss: 7.2019 - mae: 7.2019\n",
            "Epoch 51/100\n",
            "1/1 [==============================] - 0s 16ms/step - loss: 7.1963 - mae: 7.1963\n",
            "Epoch 52/100\n",
            "1/1 [==============================] - 0s 14ms/step - loss: 7.1906 - mae: 7.1906\n",
            "Epoch 53/100\n",
            "1/1 [==============================] - 0s 17ms/step - loss: 7.1850 - mae: 7.1850\n",
            "Epoch 54/100\n",
            "1/1 [==============================] - 0s 14ms/step - loss: 7.1794 - mae: 7.1794\n",
            "Epoch 55/100\n",
            "1/1 [==============================] - 0s 11ms/step - loss: 7.1737 - mae: 7.1737\n",
            "Epoch 56/100\n",
            "1/1 [==============================] - 0s 12ms/step - loss: 7.1681 - mae: 7.1681\n",
            "Epoch 57/100\n",
            "1/1 [==============================] - 0s 19ms/step - loss: 7.1625 - mae: 7.1625\n",
            "Epoch 58/100\n",
            "1/1 [==============================] - 0s 18ms/step - loss: 7.1569 - mae: 7.1569\n",
            "Epoch 59/100\n",
            "1/1 [==============================] - 0s 11ms/step - loss: 7.1512 - mae: 7.1512\n",
            "Epoch 60/100\n",
            "1/1 [==============================] - 0s 11ms/step - loss: 7.1456 - mae: 7.1456\n",
            "Epoch 61/100\n",
            "1/1 [==============================] - 0s 12ms/step - loss: 7.1400 - mae: 7.1400\n",
            "Epoch 62/100\n",
            "1/1 [==============================] - 0s 12ms/step - loss: 7.1344 - mae: 7.1344\n",
            "Epoch 63/100\n",
            "1/1 [==============================] - 0s 11ms/step - loss: 7.1287 - mae: 7.1287\n",
            "Epoch 64/100\n",
            "1/1 [==============================] - 0s 12ms/step - loss: 7.1231 - mae: 7.1231\n",
            "Epoch 65/100\n",
            "1/1 [==============================] - 0s 15ms/step - loss: 7.1175 - mae: 7.1175\n",
            "Epoch 66/100\n",
            "1/1 [==============================] - 0s 12ms/step - loss: 7.1119 - mae: 7.1119\n",
            "Epoch 67/100\n",
            "1/1 [==============================] - 0s 14ms/step - loss: 7.1062 - mae: 7.1062\n",
            "Epoch 68/100\n",
            "1/1 [==============================] - 0s 15ms/step - loss: 7.1006 - mae: 7.1006\n",
            "Epoch 69/100\n",
            "1/1 [==============================] - 0s 20ms/step - loss: 7.0950 - mae: 7.0950\n",
            "Epoch 70/100\n",
            "1/1 [==============================] - 0s 16ms/step - loss: 7.0894 - mae: 7.0894\n",
            "Epoch 71/100\n",
            "1/1 [==============================] - 0s 14ms/step - loss: 7.0838 - mae: 7.0838\n",
            "Epoch 72/100\n",
            "1/1 [==============================] - 0s 15ms/step - loss: 7.0781 - mae: 7.0781\n",
            "Epoch 73/100\n",
            "1/1 [==============================] - 0s 13ms/step - loss: 7.0725 - mae: 7.0725\n",
            "Epoch 74/100\n",
            "1/1 [==============================] - 0s 13ms/step - loss: 7.0669 - mae: 7.0669\n",
            "Epoch 75/100\n",
            "1/1 [==============================] - 0s 13ms/step - loss: 7.0613 - mae: 7.0613\n",
            "Epoch 76/100\n",
            "1/1 [==============================] - 0s 13ms/step - loss: 7.0556 - mae: 7.0556\n",
            "Epoch 77/100\n",
            "1/1 [==============================] - 0s 14ms/step - loss: 7.0500 - mae: 7.0500\n",
            "Epoch 78/100\n",
            "1/1 [==============================] - 0s 14ms/step - loss: 7.0444 - mae: 7.0444\n",
            "Epoch 79/100\n",
            "1/1 [==============================] - 0s 14ms/step - loss: 7.0388 - mae: 7.0388\n",
            "Epoch 80/100\n",
            "1/1 [==============================] - 0s 18ms/step - loss: 7.0331 - mae: 7.0331\n",
            "Epoch 81/100\n",
            "1/1 [==============================] - 0s 19ms/step - loss: 7.0275 - mae: 7.0275\n",
            "Epoch 82/100\n",
            "1/1 [==============================] - 0s 13ms/step - loss: 7.0219 - mae: 7.0219\n",
            "Epoch 83/100\n",
            "1/1 [==============================] - 0s 11ms/step - loss: 7.0163 - mae: 7.0163\n",
            "Epoch 84/100\n",
            "1/1 [==============================] - 0s 12ms/step - loss: 7.0106 - mae: 7.0106\n",
            "Epoch 85/100\n",
            "1/1 [==============================] - 0s 12ms/step - loss: 7.0050 - mae: 7.0050\n",
            "Epoch 86/100\n",
            "1/1 [==============================] - 0s 12ms/step - loss: 6.9994 - mae: 6.9994\n",
            "Epoch 87/100\n",
            "1/1 [==============================] - 0s 11ms/step - loss: 6.9938 - mae: 6.9938\n",
            "Epoch 88/100\n",
            "1/1 [==============================] - 0s 11ms/step - loss: 6.9881 - mae: 6.9881\n",
            "Epoch 89/100\n",
            "1/1 [==============================] - 0s 16ms/step - loss: 6.9825 - mae: 6.9825\n",
            "Epoch 90/100\n",
            "1/1 [==============================] - 0s 13ms/step - loss: 6.9769 - mae: 6.9769\n",
            "Epoch 91/100\n",
            "1/1 [==============================] - 0s 10ms/step - loss: 6.9713 - mae: 6.9713\n",
            "Epoch 92/100\n",
            "1/1 [==============================] - 0s 20ms/step - loss: 6.9656 - mae: 6.9656\n",
            "Epoch 93/100\n",
            "1/1 [==============================] - 0s 18ms/step - loss: 6.9600 - mae: 6.9600\n",
            "Epoch 94/100\n",
            "1/1 [==============================] - 0s 17ms/step - loss: 6.9544 - mae: 6.9544\n",
            "Epoch 95/100\n",
            "1/1 [==============================] - 0s 13ms/step - loss: 6.9488 - mae: 6.9488\n",
            "Epoch 96/100\n",
            "1/1 [==============================] - 0s 20ms/step - loss: 6.9431 - mae: 6.9431\n",
            "Epoch 97/100\n",
            "1/1 [==============================] - 0s 11ms/step - loss: 6.9375 - mae: 6.9375\n",
            "Epoch 98/100\n",
            "1/1 [==============================] - 0s 10ms/step - loss: 6.9319 - mae: 6.9319\n",
            "Epoch 99/100\n",
            "1/1 [==============================] - 0s 10ms/step - loss: 6.9263 - mae: 6.9263\n",
            "Epoch 100/100\n",
            "1/1 [==============================] - 0s 10ms/step - loss: 6.9206 - mae: 6.9206\n"
          ]
        },
        {
          "output_type": "execute_result",
          "data": {
            "text/plain": [
              "<keras.src.callbacks.History at 0x7c95f4ce4eb0>"
            ]
          },
          "metadata": {},
          "execution_count": 15
        }
      ]
    },
    {
      "cell_type": "code",
      "source": [
        "# Try make prediction\n",
        "model1.predict([17.0])"
      ],
      "metadata": {
        "colab": {
          "base_uri": "https://localhost:8080/"
        },
        "id": "4kMA7oidBuHG",
        "outputId": "b044cb0e-6a7d-439f-f25d-3ad8bf8a7aff"
      },
      "execution_count": 16,
      "outputs": [
        {
          "output_type": "stream",
          "name": "stdout",
          "text": [
            "1/1 [==============================] - 0s 93ms/step\n"
          ]
        },
        {
          "output_type": "execute_result",
          "data": {
            "text/plain": [
              "array([[30.178604]], dtype=float32)"
            ]
          },
          "metadata": {},
          "execution_count": 16
        }
      ]
    },
    {
      "cell_type": "code",
      "source": [
        "# re-write the model by my self and improve one thing to get better\n",
        "\n",
        "# 1. Create the model\n",
        "model2 = tf.keras.Sequential([\n",
        "    tf.keras.layers.Dense(1)\n",
        "])\n",
        "\n",
        "# 2. Compile the model\n",
        "model2.compile(loss = tf.keras.losses.mae,\n",
        "              optimizer = tf.keras.optimizers.Adam(learning_rate=0.001), # chang the optimizers from SGD to adam\n",
        "              metrics = [\"mae\"])\n",
        "\n",
        "# 3. Fit the model\n",
        "# model.fit(X, Y, epochs=5) # BREAK IN UPDATED TENSOR VERSION\n",
        "model2.fit(tf.expand_dims(X, axis=-1), Y, epochs=100)"
      ],
      "metadata": {
        "colab": {
          "base_uri": "https://localhost:8080/"
        },
        "id": "gdwbhbhmJVPx",
        "outputId": "d817cc1c-83e4-4f1d-f8bf-251e24456cd9"
      },
      "execution_count": 17,
      "outputs": [
        {
          "output_type": "stream",
          "name": "stdout",
          "text": [
            "Epoch 1/100\n",
            "1/1 [==============================] - 1s 601ms/step - loss: 12.8971 - mae: 12.8971\n",
            "Epoch 2/100\n",
            "1/1 [==============================] - 0s 34ms/step - loss: 12.8926 - mae: 12.8926\n",
            "Epoch 3/100\n",
            "1/1 [==============================] - 0s 22ms/step - loss: 12.8881 - mae: 12.8881\n",
            "Epoch 4/100\n",
            "1/1 [==============================] - 0s 34ms/step - loss: 12.8836 - mae: 12.8836\n",
            "Epoch 5/100\n",
            "1/1 [==============================] - 0s 32ms/step - loss: 12.8791 - mae: 12.8791\n",
            "Epoch 6/100\n",
            "1/1 [==============================] - 0s 29ms/step - loss: 12.8746 - mae: 12.8746\n",
            "Epoch 7/100\n",
            "1/1 [==============================] - 0s 28ms/step - loss: 12.8701 - mae: 12.8701\n",
            "Epoch 8/100\n",
            "1/1 [==============================] - 0s 22ms/step - loss: 12.8656 - mae: 12.8656\n",
            "Epoch 9/100\n",
            "1/1 [==============================] - 0s 25ms/step - loss: 12.8611 - mae: 12.8611\n",
            "Epoch 10/100\n",
            "1/1 [==============================] - 0s 19ms/step - loss: 12.8566 - mae: 12.8566\n",
            "Epoch 11/100\n",
            "1/1 [==============================] - 0s 21ms/step - loss: 12.8521 - mae: 12.8521\n",
            "Epoch 12/100\n",
            "1/1 [==============================] - 0s 33ms/step - loss: 12.8476 - mae: 12.8476\n",
            "Epoch 13/100\n",
            "1/1 [==============================] - 0s 21ms/step - loss: 12.8431 - mae: 12.8431\n",
            "Epoch 14/100\n",
            "1/1 [==============================] - 0s 29ms/step - loss: 12.8386 - mae: 12.8386\n",
            "Epoch 15/100\n",
            "1/1 [==============================] - 0s 37ms/step - loss: 12.8341 - mae: 12.8341\n",
            "Epoch 16/100\n",
            "1/1 [==============================] - 0s 14ms/step - loss: 12.8296 - mae: 12.8296\n",
            "Epoch 17/100\n",
            "1/1 [==============================] - 0s 22ms/step - loss: 12.8251 - mae: 12.8251\n",
            "Epoch 18/100\n",
            "1/1 [==============================] - 0s 15ms/step - loss: 12.8206 - mae: 12.8206\n",
            "Epoch 19/100\n",
            "1/1 [==============================] - 0s 23ms/step - loss: 12.8161 - mae: 12.8161\n",
            "Epoch 20/100\n",
            "1/1 [==============================] - 0s 16ms/step - loss: 12.8116 - mae: 12.8116\n",
            "Epoch 21/100\n",
            "1/1 [==============================] - 0s 24ms/step - loss: 12.8071 - mae: 12.8071\n",
            "Epoch 22/100\n",
            "1/1 [==============================] - 0s 20ms/step - loss: 12.8026 - mae: 12.8026\n",
            "Epoch 23/100\n",
            "1/1 [==============================] - 0s 19ms/step - loss: 12.7981 - mae: 12.7981\n",
            "Epoch 24/100\n",
            "1/1 [==============================] - 0s 25ms/step - loss: 12.7936 - mae: 12.7936\n",
            "Epoch 25/100\n",
            "1/1 [==============================] - 0s 28ms/step - loss: 12.7891 - mae: 12.7891\n",
            "Epoch 26/100\n",
            "1/1 [==============================] - 0s 21ms/step - loss: 12.7846 - mae: 12.7846\n",
            "Epoch 27/100\n",
            "1/1 [==============================] - 0s 35ms/step - loss: 12.7801 - mae: 12.7801\n",
            "Epoch 28/100\n",
            "1/1 [==============================] - 0s 24ms/step - loss: 12.7756 - mae: 12.7756\n",
            "Epoch 29/100\n",
            "1/1 [==============================] - 0s 34ms/step - loss: 12.7711 - mae: 12.7711\n",
            "Epoch 30/100\n",
            "1/1 [==============================] - 0s 18ms/step - loss: 12.7666 - mae: 12.7666\n",
            "Epoch 31/100\n",
            "1/1 [==============================] - 0s 14ms/step - loss: 12.7621 - mae: 12.7621\n",
            "Epoch 32/100\n",
            "1/1 [==============================] - 0s 13ms/step - loss: 12.7576 - mae: 12.7576\n",
            "Epoch 33/100\n",
            "1/1 [==============================] - 0s 32ms/step - loss: 12.7531 - mae: 12.7531\n",
            "Epoch 34/100\n",
            "1/1 [==============================] - 0s 21ms/step - loss: 12.7486 - mae: 12.7486\n",
            "Epoch 35/100\n",
            "1/1 [==============================] - 0s 16ms/step - loss: 12.7441 - mae: 12.7441\n",
            "Epoch 36/100\n",
            "1/1 [==============================] - 0s 22ms/step - loss: 12.7396 - mae: 12.7396\n",
            "Epoch 37/100\n",
            "1/1 [==============================] - 0s 16ms/step - loss: 12.7351 - mae: 12.7351\n",
            "Epoch 38/100\n",
            "1/1 [==============================] - 0s 18ms/step - loss: 12.7306 - mae: 12.7306\n",
            "Epoch 39/100\n",
            "1/1 [==============================] - 0s 26ms/step - loss: 12.7261 - mae: 12.7261\n",
            "Epoch 40/100\n",
            "1/1 [==============================] - 0s 26ms/step - loss: 12.7216 - mae: 12.7216\n",
            "Epoch 41/100\n",
            "1/1 [==============================] - 0s 27ms/step - loss: 12.7171 - mae: 12.7171\n",
            "Epoch 42/100\n",
            "1/1 [==============================] - 0s 30ms/step - loss: 12.7126 - mae: 12.7126\n",
            "Epoch 43/100\n",
            "1/1 [==============================] - 0s 25ms/step - loss: 12.7081 - mae: 12.7081\n",
            "Epoch 44/100\n",
            "1/1 [==============================] - 0s 18ms/step - loss: 12.7036 - mae: 12.7036\n",
            "Epoch 45/100\n",
            "1/1 [==============================] - 0s 19ms/step - loss: 12.6991 - mae: 12.6991\n",
            "Epoch 46/100\n",
            "1/1 [==============================] - 0s 17ms/step - loss: 12.6946 - mae: 12.6946\n",
            "Epoch 47/100\n",
            "1/1 [==============================] - 0s 13ms/step - loss: 12.6901 - mae: 12.6901\n",
            "Epoch 48/100\n",
            "1/1 [==============================] - 0s 18ms/step - loss: 12.6856 - mae: 12.6856\n",
            "Epoch 49/100\n",
            "1/1 [==============================] - 0s 11ms/step - loss: 12.6811 - mae: 12.6811\n",
            "Epoch 50/100\n",
            "1/1 [==============================] - 0s 25ms/step - loss: 12.6766 - mae: 12.6766\n",
            "Epoch 51/100\n",
            "1/1 [==============================] - 0s 28ms/step - loss: 12.6721 - mae: 12.6721\n",
            "Epoch 52/100\n",
            "1/1 [==============================] - 0s 22ms/step - loss: 12.6676 - mae: 12.6676\n",
            "Epoch 53/100\n",
            "1/1 [==============================] - 0s 16ms/step - loss: 12.6631 - mae: 12.6631\n",
            "Epoch 54/100\n",
            "1/1 [==============================] - 0s 25ms/step - loss: 12.6586 - mae: 12.6586\n",
            "Epoch 55/100\n",
            "1/1 [==============================] - 0s 26ms/step - loss: 12.6542 - mae: 12.6542\n",
            "Epoch 56/100\n",
            "1/1 [==============================] - 0s 25ms/step - loss: 12.6496 - mae: 12.6496\n",
            "Epoch 57/100\n",
            "1/1 [==============================] - 0s 15ms/step - loss: 12.6451 - mae: 12.6451\n",
            "Epoch 58/100\n",
            "1/1 [==============================] - 0s 18ms/step - loss: 12.6406 - mae: 12.6406\n",
            "Epoch 59/100\n",
            "1/1 [==============================] - 0s 16ms/step - loss: 12.6361 - mae: 12.6361\n",
            "Epoch 60/100\n",
            "1/1 [==============================] - 0s 25ms/step - loss: 12.6316 - mae: 12.6316\n",
            "Epoch 61/100\n",
            "1/1 [==============================] - 0s 27ms/step - loss: 12.6271 - mae: 12.6271\n",
            "Epoch 62/100\n",
            "1/1 [==============================] - 0s 25ms/step - loss: 12.6227 - mae: 12.6227\n",
            "Epoch 63/100\n",
            "1/1 [==============================] - 0s 16ms/step - loss: 12.6181 - mae: 12.6181\n",
            "Epoch 64/100\n",
            "1/1 [==============================] - 0s 25ms/step - loss: 12.6136 - mae: 12.6136\n",
            "Epoch 65/100\n",
            "1/1 [==============================] - 0s 23ms/step - loss: 12.6091 - mae: 12.6091\n",
            "Epoch 66/100\n",
            "1/1 [==============================] - 0s 16ms/step - loss: 12.6046 - mae: 12.6046\n",
            "Epoch 67/100\n",
            "1/1 [==============================] - 0s 17ms/step - loss: 12.6001 - mae: 12.6001\n",
            "Epoch 68/100\n",
            "1/1 [==============================] - 0s 16ms/step - loss: 12.5956 - mae: 12.5956\n",
            "Epoch 69/100\n",
            "1/1 [==============================] - 0s 33ms/step - loss: 12.5911 - mae: 12.5911\n",
            "Epoch 70/100\n",
            "1/1 [==============================] - 0s 41ms/step - loss: 12.5866 - mae: 12.5866\n",
            "Epoch 71/100\n",
            "1/1 [==============================] - 0s 24ms/step - loss: 12.5821 - mae: 12.5821\n",
            "Epoch 72/100\n",
            "1/1 [==============================] - 0s 16ms/step - loss: 12.5777 - mae: 12.5777\n",
            "Epoch 73/100\n",
            "1/1 [==============================] - 0s 19ms/step - loss: 12.5731 - mae: 12.5731\n",
            "Epoch 74/100\n",
            "1/1 [==============================] - 0s 22ms/step - loss: 12.5686 - mae: 12.5686\n",
            "Epoch 75/100\n",
            "1/1 [==============================] - 0s 22ms/step - loss: 12.5641 - mae: 12.5641\n",
            "Epoch 76/100\n",
            "1/1 [==============================] - 0s 24ms/step - loss: 12.5597 - mae: 12.5597\n",
            "Epoch 77/100\n",
            "1/1 [==============================] - 0s 19ms/step - loss: 12.5552 - mae: 12.5552\n",
            "Epoch 78/100\n",
            "1/1 [==============================] - 0s 22ms/step - loss: 12.5506 - mae: 12.5506\n",
            "Epoch 79/100\n",
            "1/1 [==============================] - 0s 24ms/step - loss: 12.5462 - mae: 12.5462\n",
            "Epoch 80/100\n",
            "1/1 [==============================] - 0s 25ms/step - loss: 12.5416 - mae: 12.5416\n",
            "Epoch 81/100\n",
            "1/1 [==============================] - 0s 21ms/step - loss: 12.5372 - mae: 12.5372\n",
            "Epoch 82/100\n",
            "1/1 [==============================] - 0s 17ms/step - loss: 12.5326 - mae: 12.5326\n",
            "Epoch 83/100\n",
            "1/1 [==============================] - 0s 19ms/step - loss: 12.5281 - mae: 12.5281\n",
            "Epoch 84/100\n",
            "1/1 [==============================] - 0s 16ms/step - loss: 12.5237 - mae: 12.5237\n",
            "Epoch 85/100\n",
            "1/1 [==============================] - 0s 22ms/step - loss: 12.5191 - mae: 12.5191\n",
            "Epoch 86/100\n",
            "1/1 [==============================] - 0s 21ms/step - loss: 12.5147 - mae: 12.5147\n",
            "Epoch 87/100\n",
            "1/1 [==============================] - 0s 29ms/step - loss: 12.5102 - mae: 12.5102\n",
            "Epoch 88/100\n",
            "1/1 [==============================] - 0s 22ms/step - loss: 12.5057 - mae: 12.5057\n",
            "Epoch 89/100\n",
            "1/1 [==============================] - 0s 17ms/step - loss: 12.5012 - mae: 12.5012\n",
            "Epoch 90/100\n",
            "1/1 [==============================] - 0s 15ms/step - loss: 12.4967 - mae: 12.4967\n",
            "Epoch 91/100\n",
            "1/1 [==============================] - 0s 19ms/step - loss: 12.4922 - mae: 12.4922\n",
            "Epoch 92/100\n",
            "1/1 [==============================] - 0s 20ms/step - loss: 12.4877 - mae: 12.4877\n",
            "Epoch 93/100\n",
            "1/1 [==============================] - 0s 21ms/step - loss: 12.4832 - mae: 12.4832\n",
            "Epoch 94/100\n",
            "1/1 [==============================] - 0s 15ms/step - loss: 12.4787 - mae: 12.4787\n",
            "Epoch 95/100\n",
            "1/1 [==============================] - 0s 15ms/step - loss: 12.4742 - mae: 12.4742\n",
            "Epoch 96/100\n",
            "1/1 [==============================] - 0s 18ms/step - loss: 12.4697 - mae: 12.4697\n",
            "Epoch 97/100\n",
            "1/1 [==============================] - 0s 17ms/step - loss: 12.4652 - mae: 12.4652\n",
            "Epoch 98/100\n",
            "1/1 [==============================] - 0s 15ms/step - loss: 12.4607 - mae: 12.4607\n",
            "Epoch 99/100\n",
            "1/1 [==============================] - 0s 20ms/step - loss: 12.4562 - mae: 12.4562\n",
            "Epoch 100/100\n",
            "1/1 [==============================] - 0s 36ms/step - loss: 12.4517 - mae: 12.4517\n"
          ]
        },
        {
          "output_type": "execute_result",
          "data": {
            "text/plain": [
              "<keras.src.callbacks.History at 0x7c95f4d9b700>"
            ]
          },
          "metadata": {},
          "execution_count": 17
        }
      ]
    },
    {
      "cell_type": "code",
      "source": [
        "# Try make prediction\n",
        "model2.predict([17.0])"
      ],
      "metadata": {
        "colab": {
          "base_uri": "https://localhost:8080/"
        },
        "id": "QeWEo95_J5Gg",
        "outputId": "93f09999-22aa-425c-a960-726cd7fe9624"
      },
      "execution_count": 18,
      "outputs": [
        {
          "output_type": "stream",
          "name": "stdout",
          "text": [
            "1/1 [==============================] - 0s 189ms/step\n"
          ]
        },
        {
          "output_type": "execute_result",
          "data": {
            "text/plain": [
              "array([[4.728125]], dtype=float32)"
            ]
          },
          "metadata": {},
          "execution_count": 18
        }
      ]
    },
    {
      "cell_type": "code",
      "source": [
        "# re-write the model\n",
        "\n",
        "# 1. Create the model (with 100 hidden units )\n",
        "model3 = tf.keras.Sequential([\n",
        "    tf.keras.layers.Dense(50, activation=None),\n",
        "    tf.keras.layers.Dense(1)\n",
        "])\n",
        "\n",
        "# 2. Compile the model\n",
        "model3.compile(loss = \"mae\",\n",
        "              optimizer = tf.keras.optimizers.Adam(learning_rate = 0.01),\n",
        "              metrics = [\"mae\"])\n",
        "\n",
        "# 3. Fit the model\n",
        "# model.fit(X, Y, epochs=5) # BREAK IN UPDATED TENSOR VERSION\n",
        "model3.fit(tf.expand_dims(X, axis=-1), Y, epochs=100)"
      ],
      "metadata": {
        "colab": {
          "base_uri": "https://localhost:8080/"
        },
        "id": "KI1XF166hgOa",
        "outputId": "736bffc7-813b-4d87-dc60-87b95c62f1c9"
      },
      "execution_count": 19,
      "outputs": [
        {
          "output_type": "stream",
          "name": "stdout",
          "text": [
            "Epoch 1/100\n",
            "1/1 [==============================] - 2s 2s/step - loss: 14.5695 - mae: 14.5695\n",
            "Epoch 2/100\n",
            "1/1 [==============================] - 0s 26ms/step - loss: 13.8980 - mae: 13.8980\n",
            "Epoch 3/100\n",
            "1/1 [==============================] - 0s 24ms/step - loss: 13.2342 - mae: 13.2342\n",
            "Epoch 4/100\n",
            "1/1 [==============================] - 0s 22ms/step - loss: 12.5762 - mae: 12.5762\n",
            "Epoch 5/100\n",
            "1/1 [==============================] - 0s 20ms/step - loss: 11.9197 - mae: 11.9197\n",
            "Epoch 6/100\n",
            "1/1 [==============================] - 0s 19ms/step - loss: 11.2611 - mae: 11.2611\n",
            "Epoch 7/100\n",
            "1/1 [==============================] - 0s 19ms/step - loss: 10.5968 - mae: 10.5968\n",
            "Epoch 8/100\n",
            "1/1 [==============================] - 0s 19ms/step - loss: 9.9241 - mae: 9.9241\n",
            "Epoch 9/100\n",
            "1/1 [==============================] - 0s 23ms/step - loss: 9.2400 - mae: 9.2400\n",
            "Epoch 10/100\n",
            "1/1 [==============================] - 0s 22ms/step - loss: 8.5417 - mae: 8.5417\n",
            "Epoch 11/100\n",
            "1/1 [==============================] - 0s 18ms/step - loss: 7.8264 - mae: 7.8264\n",
            "Epoch 12/100\n",
            "1/1 [==============================] - 0s 18ms/step - loss: 7.0909 - mae: 7.0909\n",
            "Epoch 13/100\n",
            "1/1 [==============================] - 0s 13ms/step - loss: 6.5453 - mae: 6.5453\n",
            "Epoch 14/100\n",
            "1/1 [==============================] - 0s 19ms/step - loss: 6.6407 - mae: 6.6407\n",
            "Epoch 15/100\n",
            "1/1 [==============================] - 0s 31ms/step - loss: 6.9225 - mae: 6.9225\n",
            "Epoch 16/100\n",
            "1/1 [==============================] - 0s 39ms/step - loss: 7.1411 - mae: 7.1411\n",
            "Epoch 17/100\n",
            "1/1 [==============================] - 0s 23ms/step - loss: 7.2727 - mae: 7.2727\n",
            "Epoch 18/100\n",
            "1/1 [==============================] - 0s 47ms/step - loss: 7.2122 - mae: 7.2122\n",
            "Epoch 19/100\n",
            "1/1 [==============================] - 0s 31ms/step - loss: 7.0042 - mae: 7.0042\n",
            "Epoch 20/100\n",
            "1/1 [==============================] - 0s 37ms/step - loss: 6.7174 - mae: 6.7174\n",
            "Epoch 21/100\n",
            "1/1 [==============================] - 0s 23ms/step - loss: 6.4857 - mae: 6.4857\n",
            "Epoch 22/100\n",
            "1/1 [==============================] - 0s 43ms/step - loss: 6.2365 - mae: 6.2365\n",
            "Epoch 23/100\n",
            "1/1 [==============================] - 0s 59ms/step - loss: 5.9740 - mae: 5.9740\n",
            "Epoch 24/100\n",
            "1/1 [==============================] - 0s 37ms/step - loss: 5.8343 - mae: 5.8343\n",
            "Epoch 25/100\n",
            "1/1 [==============================] - 0s 47ms/step - loss: 5.7876 - mae: 5.7876\n",
            "Epoch 26/100\n",
            "1/1 [==============================] - 0s 17ms/step - loss: 5.8525 - mae: 5.8525\n",
            "Epoch 27/100\n",
            "1/1 [==============================] - 0s 37ms/step - loss: 5.9054 - mae: 5.9054\n",
            "Epoch 28/100\n",
            "1/1 [==============================] - 0s 27ms/step - loss: 5.8582 - mae: 5.8582\n",
            "Epoch 29/100\n",
            "1/1 [==============================] - 0s 23ms/step - loss: 5.7228 - mae: 5.7228\n",
            "Epoch 30/100\n",
            "1/1 [==============================] - 0s 18ms/step - loss: 5.5077 - mae: 5.5077\n",
            "Epoch 31/100\n",
            "1/1 [==============================] - 0s 21ms/step - loss: 5.2933 - mae: 5.2933\n",
            "Epoch 32/100\n",
            "1/1 [==============================] - 0s 24ms/step - loss: 5.1792 - mae: 5.1792\n",
            "Epoch 33/100\n",
            "1/1 [==============================] - 0s 32ms/step - loss: 5.0618 - mae: 5.0618\n",
            "Epoch 34/100\n",
            "1/1 [==============================] - 0s 32ms/step - loss: 5.0487 - mae: 5.0487\n",
            "Epoch 35/100\n",
            "1/1 [==============================] - 0s 33ms/step - loss: 5.0239 - mae: 5.0239\n",
            "Epoch 36/100\n",
            "1/1 [==============================] - 0s 22ms/step - loss: 4.9577 - mae: 4.9577\n",
            "Epoch 37/100\n",
            "1/1 [==============================] - 0s 24ms/step - loss: 4.8534 - mae: 4.8534\n",
            "Epoch 38/100\n",
            "1/1 [==============================] - 0s 31ms/step - loss: 4.7140 - mae: 4.7140\n",
            "Epoch 39/100\n",
            "1/1 [==============================] - 0s 19ms/step - loss: 4.5429 - mae: 4.5429\n",
            "Epoch 40/100\n",
            "1/1 [==============================] - 0s 20ms/step - loss: 4.3427 - mae: 4.3427\n",
            "Epoch 41/100\n",
            "1/1 [==============================] - 0s 40ms/step - loss: 4.2233 - mae: 4.2233\n",
            "Epoch 42/100\n",
            "1/1 [==============================] - 0s 44ms/step - loss: 4.1227 - mae: 4.1227\n",
            "Epoch 43/100\n",
            "1/1 [==============================] - 0s 19ms/step - loss: 4.0465 - mae: 4.0465\n",
            "Epoch 44/100\n",
            "1/1 [==============================] - 0s 35ms/step - loss: 3.9410 - mae: 3.9410\n",
            "Epoch 45/100\n",
            "1/1 [==============================] - 0s 37ms/step - loss: 3.7343 - mae: 3.7343\n",
            "Epoch 46/100\n",
            "1/1 [==============================] - 0s 23ms/step - loss: 3.5778 - mae: 3.5778\n",
            "Epoch 47/100\n",
            "1/1 [==============================] - 0s 24ms/step - loss: 3.4136 - mae: 3.4136\n",
            "Epoch 48/100\n",
            "1/1 [==============================] - 0s 27ms/step - loss: 3.2412 - mae: 3.2412\n",
            "Epoch 49/100\n",
            "1/1 [==============================] - 0s 25ms/step - loss: 3.1220 - mae: 3.1220\n",
            "Epoch 50/100\n",
            "1/1 [==============================] - 0s 24ms/step - loss: 2.9775 - mae: 2.9775\n",
            "Epoch 51/100\n",
            "1/1 [==============================] - 0s 63ms/step - loss: 2.7835 - mae: 2.7835\n",
            "Epoch 52/100\n",
            "1/1 [==============================] - 0s 18ms/step - loss: 2.5420 - mae: 2.5420\n",
            "Epoch 53/100\n",
            "1/1 [==============================] - 0s 19ms/step - loss: 2.3662 - mae: 2.3662\n",
            "Epoch 54/100\n",
            "1/1 [==============================] - 0s 15ms/step - loss: 2.2477 - mae: 2.2477\n",
            "Epoch 55/100\n",
            "1/1 [==============================] - 0s 21ms/step - loss: 2.0442 - mae: 2.0442\n",
            "Epoch 56/100\n",
            "1/1 [==============================] - 0s 21ms/step - loss: 1.7383 - mae: 1.7383\n",
            "Epoch 57/100\n",
            "1/1 [==============================] - 0s 19ms/step - loss: 1.5172 - mae: 1.5172\n",
            "Epoch 58/100\n",
            "1/1 [==============================] - 0s 21ms/step - loss: 1.3186 - mae: 1.3186\n",
            "Epoch 59/100\n",
            "1/1 [==============================] - 0s 15ms/step - loss: 1.0559 - mae: 1.0559\n",
            "Epoch 60/100\n",
            "1/1 [==============================] - 0s 21ms/step - loss: 0.7663 - mae: 0.7663\n",
            "Epoch 61/100\n",
            "1/1 [==============================] - 0s 19ms/step - loss: 0.5908 - mae: 0.5908\n",
            "Epoch 62/100\n",
            "1/1 [==============================] - 0s 22ms/step - loss: 0.2575 - mae: 0.2575\n",
            "Epoch 63/100\n",
            "1/1 [==============================] - 0s 22ms/step - loss: 0.2879 - mae: 0.2879\n",
            "Epoch 64/100\n",
            "1/1 [==============================] - 0s 21ms/step - loss: 0.4378 - mae: 0.4378\n",
            "Epoch 65/100\n",
            "1/1 [==============================] - 0s 19ms/step - loss: 0.5538 - mae: 0.5538\n",
            "Epoch 66/100\n",
            "1/1 [==============================] - 0s 23ms/step - loss: 0.7707 - mae: 0.7707\n",
            "Epoch 67/100\n",
            "1/1 [==============================] - 0s 22ms/step - loss: 0.7836 - mae: 0.7836\n",
            "Epoch 68/100\n",
            "1/1 [==============================] - 0s 19ms/step - loss: 0.8368 - mae: 0.8368\n",
            "Epoch 69/100\n",
            "1/1 [==============================] - 0s 51ms/step - loss: 0.8315 - mae: 0.8315\n",
            "Epoch 70/100\n",
            "1/1 [==============================] - 0s 19ms/step - loss: 0.7933 - mae: 0.7933\n",
            "Epoch 71/100\n",
            "1/1 [==============================] - 0s 15ms/step - loss: 0.7625 - mae: 0.7625\n",
            "Epoch 72/100\n",
            "1/1 [==============================] - 0s 19ms/step - loss: 0.6081 - mae: 0.6081\n",
            "Epoch 73/100\n",
            "1/1 [==============================] - 0s 20ms/step - loss: 0.6051 - mae: 0.6051\n",
            "Epoch 74/100\n",
            "1/1 [==============================] - 0s 18ms/step - loss: 0.4855 - mae: 0.4855\n",
            "Epoch 75/100\n",
            "1/1 [==============================] - 0s 19ms/step - loss: 0.2011 - mae: 0.2011\n",
            "Epoch 76/100\n",
            "1/1 [==============================] - 0s 21ms/step - loss: 0.3967 - mae: 0.3967\n",
            "Epoch 77/100\n",
            "1/1 [==============================] - 0s 28ms/step - loss: 0.4175 - mae: 0.4175\n",
            "Epoch 78/100\n",
            "1/1 [==============================] - 0s 26ms/step - loss: 0.3517 - mae: 0.3517\n",
            "Epoch 79/100\n",
            "1/1 [==============================] - 0s 27ms/step - loss: 0.4678 - mae: 0.4678\n",
            "Epoch 80/100\n",
            "1/1 [==============================] - 0s 26ms/step - loss: 0.6369 - mae: 0.6369\n",
            "Epoch 81/100\n",
            "1/1 [==============================] - 0s 15ms/step - loss: 0.5623 - mae: 0.5623\n",
            "Epoch 82/100\n",
            "1/1 [==============================] - 0s 25ms/step - loss: 0.4260 - mae: 0.4260\n",
            "Epoch 83/100\n",
            "1/1 [==============================] - 0s 26ms/step - loss: 0.5464 - mae: 0.5464\n",
            "Epoch 84/100\n",
            "1/1 [==============================] - 0s 48ms/step - loss: 0.5170 - mae: 0.5170\n",
            "Epoch 85/100\n",
            "1/1 [==============================] - 0s 46ms/step - loss: 0.3402 - mae: 0.3402\n",
            "Epoch 86/100\n",
            "1/1 [==============================] - 0s 30ms/step - loss: 0.2945 - mae: 0.2945\n",
            "Epoch 87/100\n",
            "1/1 [==============================] - 0s 32ms/step - loss: 0.2675 - mae: 0.2675\n",
            "Epoch 88/100\n",
            "1/1 [==============================] - 0s 52ms/step - loss: 0.0480 - mae: 0.0480\n",
            "Epoch 89/100\n",
            "1/1 [==============================] - 0s 19ms/step - loss: 0.2061 - mae: 0.2061\n",
            "Epoch 90/100\n",
            "1/1 [==============================] - 0s 23ms/step - loss: 0.1522 - mae: 0.1522\n",
            "Epoch 91/100\n",
            "1/1 [==============================] - 0s 55ms/step - loss: 0.2123 - mae: 0.2123\n",
            "Epoch 92/100\n",
            "1/1 [==============================] - 0s 31ms/step - loss: 0.1318 - mae: 0.1318\n",
            "Epoch 93/100\n",
            "1/1 [==============================] - 0s 25ms/step - loss: 0.1674 - mae: 0.1674\n",
            "Epoch 94/100\n",
            "1/1 [==============================] - 0s 17ms/step - loss: 0.0227 - mae: 0.0227\n",
            "Epoch 95/100\n",
            "1/1 [==============================] - 0s 21ms/step - loss: 0.0979 - mae: 0.0979\n",
            "Epoch 96/100\n",
            "1/1 [==============================] - 0s 28ms/step - loss: 0.1770 - mae: 0.1770\n",
            "Epoch 97/100\n",
            "1/1 [==============================] - 0s 17ms/step - loss: 0.1568 - mae: 0.1568\n",
            "Epoch 98/100\n",
            "1/1 [==============================] - 0s 23ms/step - loss: 0.2146 - mae: 0.2146\n",
            "Epoch 99/100\n",
            "1/1 [==============================] - 0s 24ms/step - loss: 0.1525 - mae: 0.1525\n",
            "Epoch 100/100\n",
            "1/1 [==============================] - 0s 26ms/step - loss: 0.1594 - mae: 0.1594\n"
          ]
        },
        {
          "output_type": "execute_result",
          "data": {
            "text/plain": [
              "<keras.src.callbacks.History at 0x7c95f4c89f90>"
            ]
          },
          "metadata": {},
          "execution_count": 19
        }
      ]
    },
    {
      "cell_type": "code",
      "source": [
        "# Try make prediction\n",
        "model3.predict([17.0])"
      ],
      "metadata": {
        "colab": {
          "base_uri": "https://localhost:8080/"
        },
        "id": "iZcXS1vmiusq",
        "outputId": "30422b1f-f7a0-4954-e28b-fd42e7010a0c"
      },
      "execution_count": 20,
      "outputs": [
        {
          "output_type": "stream",
          "name": "stdout",
          "text": [
            "1/1 [==============================] - 0s 338ms/step\n"
          ]
        },
        {
          "output_type": "execute_result",
          "data": {
            "text/plain": [
              "array([[27.157541]], dtype=float32)"
            ]
          },
          "metadata": {},
          "execution_count": 20
        }
      ]
    },
    {
      "cell_type": "markdown",
      "source": [
        "## Evaluating Model\n",
        "\n",
        "Build a model -> fit it -> evaluate it -> tweak a model -> fit it -> evaluate it...\n",
        "\n",
        "Evaluation = visualize\n",
        "\n",
        "it's good idea to visualize :\n",
        "* The data - what data we working with? what does it look like?\n",
        "* The model = what does our model look like?\n",
        "* The training of a model - how does a model perform while it learns?\n",
        "* The predictions of the model - how do the predictions of a model line up against the ground truth (the origin label)"
      ],
      "metadata": {
        "id": "ggu1CbXFlSbl"
      }
    },
    {
      "cell_type": "code",
      "source": [
        "# Make a bigger dataset\n",
        "\n",
        "x = tf.range(-100, 100, 4)\n",
        "x"
      ],
      "metadata": {
        "colab": {
          "base_uri": "https://localhost:8080/"
        },
        "id": "O5yDk0J9lV5n",
        "outputId": "c04961c0-830c-4d22-e06e-342ad1936ee7"
      },
      "execution_count": 21,
      "outputs": [
        {
          "output_type": "execute_result",
          "data": {
            "text/plain": [
              "<tf.Tensor: shape=(50,), dtype=int32, numpy=\n",
              "array([-100,  -96,  -92,  -88,  -84,  -80,  -76,  -72,  -68,  -64,  -60,\n",
              "        -56,  -52,  -48,  -44,  -40,  -36,  -32,  -28,  -24,  -20,  -16,\n",
              "        -12,   -8,   -4,    0,    4,    8,   12,   16,   20,   24,   28,\n",
              "         32,   36,   40,   44,   48,   52,   56,   60,   64,   68,   72,\n",
              "         76,   80,   84,   88,   92,   96], dtype=int32)>"
            ]
          },
          "metadata": {},
          "execution_count": 21
        }
      ]
    },
    {
      "cell_type": "code",
      "source": [
        "# Make labels for the dataset\n",
        "\n",
        "y = x + 10\n",
        "y"
      ],
      "metadata": {
        "colab": {
          "base_uri": "https://localhost:8080/"
        },
        "id": "_VnV5iodqYP8",
        "outputId": "46da3805-7dde-46e1-a42f-8fd0e164eb10"
      },
      "execution_count": 22,
      "outputs": [
        {
          "output_type": "execute_result",
          "data": {
            "text/plain": [
              "<tf.Tensor: shape=(50,), dtype=int32, numpy=\n",
              "array([-90, -86, -82, -78, -74, -70, -66, -62, -58, -54, -50, -46, -42,\n",
              "       -38, -34, -30, -26, -22, -18, -14, -10,  -6,  -2,   2,   6,  10,\n",
              "        14,  18,  22,  26,  30,  34,  38,  42,  46,  50,  54,  58,  62,\n",
              "        66,  70,  74,  78,  82,  86,  90,  94,  98, 102, 106], dtype=int32)>"
            ]
          },
          "metadata": {},
          "execution_count": 22
        }
      ]
    },
    {
      "cell_type": "code",
      "source": [
        "# Visualize the data\n",
        "\n",
        "import matplotlib.pyplot as plt\n",
        "\n",
        "plt.scatter(x, y)"
      ],
      "metadata": {
        "colab": {
          "base_uri": "https://localhost:8080/",
          "height": 447
        },
        "id": "wqnieOnpqiby",
        "outputId": "439b4b94-9b72-4ae7-88a1-96a9749756b7"
      },
      "execution_count": 23,
      "outputs": [
        {
          "output_type": "execute_result",
          "data": {
            "text/plain": [
              "<matplotlib.collections.PathCollection at 0x7c95f418d060>"
            ]
          },
          "metadata": {},
          "execution_count": 23
        },
        {
          "output_type": "display_data",
          "data": {
            "text/plain": [
              "<Figure size 640x480 with 1 Axes>"
            ],
            "image/png": "[encoded data removed]"
          },
          "metadata": {}
        }
      ]
    },
    {
      "cell_type": "markdown",
      "source": [
        "### The 3 sets\n",
        "\n",
        "* **Training set** - the model learn from this data, 70-80%\n",
        "* **Validation set** - set model gets tuned on this data, 10-15%\n",
        "* **Test set** - the model gets evaluated on this data, 10-15%"
      ],
      "metadata": {
        "id": "CCtd3h36q0Xk"
      }
    },
    {
      "cell_type": "code",
      "source": [
        "# Check the length of the data\n",
        "len(x)"
      ],
      "metadata": {
        "colab": {
          "base_uri": "https://localhost:8080/"
        },
        "id": "2_ITjQWjFQsM",
        "outputId": "c8eb649d-34dd-4f66-da45-c5ca8df1a03f"
      },
      "execution_count": 24,
      "outputs": [
        {
          "output_type": "execute_result",
          "data": {
            "text/plain": [
              "50"
            ]
          },
          "metadata": {},
          "execution_count": 24
        }
      ]
    },
    {
      "cell_type": "code",
      "source": [
        "# Split the data into train and test sets\n",
        "x_train = x[:40] # first to 40 data will be the training sample\n",
        "y_train = y[:40]\n",
        "\n",
        "x_test = x[40:] # 20% will be test\n",
        "y_test = y[40:]\n",
        "\n",
        "len(x_train), len(x_test), len(y_train), len(y_test)"
      ],
      "metadata": {
        "colab": {
          "base_uri": "https://localhost:8080/"
        },
        "id": "4fkIFEl_HAu3",
        "outputId": "17d8c238-689b-41f9-f20b-7fdb337213f8"
      },
      "execution_count": 25,
      "outputs": [
        {
          "output_type": "execute_result",
          "data": {
            "text/plain": [
              "(40, 10, 40, 10)"
            ]
          },
          "metadata": {},
          "execution_count": 25
        }
      ]
    },
    {
      "cell_type": "markdown",
      "source": [
        "### Visualing the data\n",
        "\n",
        "Now we've got out data in training and test sets...lets visualize it"
      ],
      "metadata": {
        "id": "9WJ9AtA0KgLL"
      }
    },
    {
      "cell_type": "code",
      "source": [
        "plt.figure(figsize=(10,7))\n",
        "\n",
        "# Plot training data in blue\n",
        "plt.scatter(x_train, y_train, c=\"b\", label=\"Training data\")\n",
        "\n",
        "# Plot test data in green\n",
        "plt.scatter(x_test, y_test, c=\"g\", label=\"Testing data\")\n",
        "\n",
        "# Show a legend\n",
        "plt.legend();"
      ],
      "metadata": {
        "colab": {
          "base_uri": "https://localhost:8080/",
          "height": 457
        },
        "id": "OQGu_de6G_li",
        "outputId": "87f1cbc1-9ecc-4861-ea38-3168f0eeabb0"
      },
      "execution_count": 26,
      "outputs": [
        {
          "output_type": "display_data",
          "data": {
            "text/plain": [
              "<Figure size 1000x700 with 1 Axes>"
            ],
            "image/png": "[encoded data removed]"
          },
          "metadata": {}
        }
      ]
    },
    {
      "cell_type": "code",
      "source": [
        "# Lets have a look at how to build a neural network for our data\n",
        "\n",
        "# 1. Create the model\n",
        "model = tf.keras.Sequential([\n",
        "    tf.keras.layers.Dense(1)\n",
        "])\n",
        "\n",
        "# 2. Compile the model\n",
        "model.compile(loss = tf.keras.losses.mae,\n",
        "              optimizer = tf.keras.optimizers.SGD(),\n",
        "              metrics = [\"mae\"])\n",
        "\n",
        "# 3. Fit the model\n",
        "#model.fit(tf.expand_dims(x_train, axis=-1), y_train, epochs=100)"
      ],
      "metadata": {
        "id": "TtdWZXKHSSN-"
      },
      "execution_count": 27,
      "outputs": []
    },
    {
      "cell_type": "markdown",
      "source": [
        "### Visualizing the model"
      ],
      "metadata": {
        "id": "F7d7P08yTScA"
      }
    },
    {
      "cell_type": "code",
      "source": [
        "# Lets create  model wich builds automatically by defining the input_shape arguments\n",
        "\n",
        "tf.random.set_seed(42)\n",
        "\n",
        "# 1. Create the model\n",
        "model = tf.keras.Sequential([\n",
        "    tf.keras.layers.Dense(100, input_shape=[1], name=\"input_layer\"),\n",
        "    tf.keras.layers.Dense(1, name=\"output_layer\")\n",
        "], name=\"model_one\")\n",
        "\n",
        "# 2. Compile the model\n",
        "model.compile(loss = tf.keras.losses.mae,\n",
        "              optimizer = tf.keras.optimizers.SGD(),\n",
        "              metrics = [\"mae\"])"
      ],
      "metadata": {
        "id": "MpSA6LxwTzZK"
      },
      "execution_count": 28,
      "outputs": []
    },
    {
      "cell_type": "code",
      "source": [
        "model.summary()"
      ],
      "metadata": {
        "colab": {
          "base_uri": "https://localhost:8080/"
        },
        "id": "-jMC9-6WUyLw",
        "outputId": "b28cb482-27c8-47f4-b3a2-8384d2050491"
      },
      "execution_count": 29,
      "outputs": [
        {
          "output_type": "stream",
          "name": "stdout",
          "text": [
            "Model: \"model_one\"\n",
            "_________________________________________________________________\n",
            " Layer (type)                Output Shape              Param #   \n",
            "=================================================================\n",
            " input_layer (Dense)         (None, 100)               200       \n",
            "                                                                 \n",
            " output_layer (Dense)        (None, 1)                 101       \n",
            "                                                                 \n",
            "=================================================================\n",
            "Total params: 301 (1.18 KB)\n",
            "Trainable params: 301 (1.18 KB)\n",
            "Non-trainable params: 0 (0.00 Byte)\n",
            "_________________________________________________________________\n"
          ]
        }
      ]
    },
    {
      "cell_type": "markdown",
      "source": [
        "* Total params - total number of parameters that we have\n",
        "\n",
        "* Trainable parameters - the parameters (patterns) the model can update as it trains\n",
        "\n",
        "* Non-trainable params - parameters cant updated during training (allready learn in models during **transfer learning**)\n",
        "\n",
        "📚 **Resource** : For a more in depth overview of the trainable parameters within a layer, check ouy MIT's intorduction to deep learning video\n",
        "\n",
        "⚡**Exercise :** Try playing around with the number of hidden units in the dense layer, see how that effect the number of parameters"
      ],
      "metadata": {
        "id": "fkeG27Fm3_t1"
      }
    },
    {
      "cell_type": "code",
      "source": [
        "# 3. Fit the model\n",
        "model.fit(tf.expand_dims(x_train, axis=-1), y_train, epochs=60, verbose=0)"
      ],
      "metadata": {
        "colab": {
          "base_uri": "https://localhost:8080/"
        },
        "id": "e-cgkHtW6914",
        "outputId": "82c6f546-23cc-4069-bbb7-5b2da7458ddb"
      },
      "execution_count": 30,
      "outputs": [
        {
          "output_type": "execute_result",
          "data": {
            "text/plain": [
              "<keras.src.callbacks.History at 0x7c95f4229d20>"
            ]
          },
          "metadata": {},
          "execution_count": 30
        }
      ]
    },
    {
      "cell_type": "code",
      "source": [
        "# Get a summary of our model\n",
        "model.summary()"
      ],
      "metadata": {
        "colab": {
          "base_uri": "https://localhost:8080/"
        },
        "id": "IYam8Kl-M2o7",
        "outputId": "6a593dd6-a3aa-4635-9c28-5dc00f9b6c34"
      },
      "execution_count": 31,
      "outputs": [
        {
          "output_type": "stream",
          "name": "stdout",
          "text": [
            "Model: \"model_one\"\n",
            "_________________________________________________________________\n",
            " Layer (type)                Output Shape              Param #   \n",
            "=================================================================\n",
            " input_layer (Dense)         (None, 100)               200       \n",
            "                                                                 \n",
            " output_layer (Dense)        (None, 1)                 101       \n",
            "                                                                 \n",
            "=================================================================\n",
            "Total params: 301 (1.18 KB)\n",
            "Trainable params: 301 (1.18 KB)\n",
            "Non-trainable params: 0 (0.00 Byte)\n",
            "_________________________________________________________________\n"
          ]
        }
      ]
    },
    {
      "cell_type": "code",
      "source": [
        "from tensorflow.keras.utils import plot_model\n",
        "\n",
        "plot_model(model=model, show_shapes=True)"
      ],
      "metadata": {
        "colab": {
          "base_uri": "https://localhost:8080/",
          "height": 312
        },
        "id": "EMxErQE0NVSc",
        "outputId": "99d15525-b707-4e19-9f44-c54d9d9e3aa6"
      },
      "execution_count": 32,
      "outputs": [
        {
          "output_type": "execute_result",
          "data": {
            "image/png": "[encoded data removed]",
            "text/plain": [
              "<IPython.core.display.Image object>"
            ]
          },
          "metadata": {},
          "execution_count": 32
        }
      ]
    },
    {
      "cell_type": "markdown",
      "source": [
        "### Visualizing our models predictions\n",
        "\n",
        "To visualize predictions, it's a good idea to plot them against the ground truth labels.\n",
        "\n",
        "Often you'll see this in the form of 'y_test' or 'y_true' versus 'y_pred' (ground truth versus your model prediction)"
      ],
      "metadata": {
        "id": "XXOFpjXFOyH9"
      }
    },
    {
      "cell_type": "code",
      "source": [
        "# Make some predictions\n",
        "\n",
        "y_pred = model.predict(x_test)\n",
        "y_pred"
      ],
      "metadata": {
        "colab": {
          "base_uri": "https://localhost:8080/"
        },
        "id": "943XbXEayJf3",
        "outputId": "73e8d372-8b67-4168-bf24-dee84f601451"
      },
      "execution_count": 33,
      "outputs": [
        {
          "output_type": "stream",
          "name": "stderr",
          "text": [
            "WARNING:tensorflow:5 out of the last 5 calls to <function Model.make_predict_function.<locals>.predict_function at 0x7c95f4cbd900> triggered tf.function retracing. Tracing is expensive and the excessive number of tracings could be due to (1) creating @tf.function repeatedly in a loop, (2) passing tensors with different shapes, (3) passing Python objects instead of tensors. For (1), please define your @tf.function outside of the loop. For (2), @tf.function has reduce_retracing=True option that can avoid unnecessary retracing. For (3), please refer to https://www.tensorflow.org/guide/function#controlling_retracing and https://www.tensorflow.org/api_docs/python/tf/function for  more details.\n"
          ]
        },
        {
          "output_type": "stream",
          "name": "stdout",
          "text": [
            "1/1 [==============================] - 0s 110ms/step\n"
          ]
        },
        {
          "output_type": "execute_result",
          "data": {
            "text/plain": [
              "array([[ 71.33716 ],\n",
              "       [ 76.0252  ],\n",
              "       [ 80.713234],\n",
              "       [ 85.40126 ],\n",
              "       [ 90.08931 ],\n",
              "       [ 94.77733 ],\n",
              "       [ 99.46537 ],\n",
              "       [104.15341 ],\n",
              "       [108.841446],\n",
              "       [113.529465]], dtype=float32)"
            ]
          },
          "metadata": {},
          "execution_count": 33
        }
      ]
    },
    {
      "cell_type": "code",
      "source": [
        "y_test"
      ],
      "metadata": {
        "colab": {
          "base_uri": "https://localhost:8080/"
        },
        "id": "Ke-R5lq9zVa3",
        "outputId": "db337b3e-5347-45ea-f4da-1e452dc49b99"
      },
      "execution_count": 34,
      "outputs": [
        {
          "output_type": "execute_result",
          "data": {
            "text/plain": [
              "<tf.Tensor: shape=(10,), dtype=int32, numpy=array([ 70,  74,  78,  82,  86,  90,  94,  98, 102, 106], dtype=int32)>"
            ]
          },
          "metadata": {},
          "execution_count": 34
        }
      ]
    },
    {
      "cell_type": "markdown",
      "source": [
        "🔑 **Note : ** if you feel like you're going to reuse some functionality in the future, its good idea to turn it into a fucntion"
      ],
      "metadata": {
        "id": "nSO6jWAR09Jt"
      }
    },
    {
      "cell_type": "code",
      "source": [
        "# Lets create a plotting function\n",
        "\n",
        "def plot_predictions(train_data=x_train,\n",
        "                     train_labels=y_train,\n",
        "                     test_data=x_test,\n",
        "                     test_labels=y_test,\n",
        "                     predictions=y_pred):\n",
        "  \"\"\"\n",
        "  Plots training data, test data and compares predictions to ground truth labels\n",
        "  \"\"\"\n",
        "  plt.figure(figsize=(10,7))\n",
        "  # Plot training data in blue\n",
        "  plt.scatter(train_data, train_labels, c=\"b\", label=\"Training data\")\n",
        "\n",
        "  # Plot testing data in green\n",
        "  plt.scatter(test_data, test_labels, c=\"g\", label=\"Test data\")\n",
        "\n",
        "  # Plot models predictions in red\n",
        "  plt.scatter(test_data, predictions, c=\"r\", label=\"Predictions\")\n",
        "\n",
        "  # Show the legend\n",
        "  plt.legend();\n",
        "\n"
      ],
      "metadata": {
        "id": "Wt-qJvPk1MAh"
      },
      "execution_count": 35,
      "outputs": []
    },
    {
      "cell_type": "code",
      "source": [
        "plot_predictions()"
      ],
      "metadata": {
        "colab": {
          "base_uri": "https://localhost:8080/",
          "height": 452
        },
        "id": "7ZFYZPV5200S",
        "outputId": "5f5ff584-05dc-49e4-bf1d-4fac8a03b823"
      },
      "execution_count": 36,
      "outputs": [
        {
          "output_type": "display_data",
          "data": {
            "text/plain": [
              "<Figure size 1000x700 with 1 Axes>"
            ],
            "image/png": "[encoded data removed]"
          },
          "metadata": {}
        }
      ]
    },
    {
      "cell_type": "markdown",
      "source": [
        "### Evaluating our models predictions with regression evaluation metrics\n",
        "\n",
        "The evaluation metrics is depending to the model we working on\n",
        "\n",
        "since we're working on a regression, two of the main matrics:\n",
        "* MAE - mean absolute error, \"on average, how wrong is each of my model predictions\"\n",
        "\n",
        "* MSE - mean square error, \"square the average errors\""
      ],
      "metadata": {
        "id": "xWQ92ZRr4V_K"
      }
    },
    {
      "cell_type": "code",
      "source": [
        " # Evaluate the model on the test\n",
        " model.evaluate(x_test, y_test)"
      ],
      "metadata": {
        "id": "y3-bYOHr0p-A",
        "colab": {
          "base_uri": "https://localhost:8080/"
        },
        "outputId": "b6f955b3-87df-46d0-bfdb-594b0167fd73"
      },
      "execution_count": 37,
      "outputs": [
        {
          "output_type": "stream",
          "name": "stdout",
          "text": [
            "1/1 [==============================] - 0s 398ms/step - loss: 4.4333 - mae: 4.4333\n"
          ]
        },
        {
          "output_type": "execute_result",
          "data": {
            "text/plain": [
              "[4.433320045471191, 4.433320045471191]"
            ]
          },
          "metadata": {},
          "execution_count": 37
        }
      ]
    },
    {
      "cell_type": "code",
      "source": [
        "# Calculate the mean absolute error\n",
        "mae = tf.metrics.mean_absolute_error(y_true=y_test, y_pred=tf.constant(y_pred))\n",
        "mae"
      ],
      "metadata": {
        "colab": {
          "base_uri": "https://localhost:8080/"
        },
        "id": "bAwZ_yTfPV4C",
        "outputId": "8a58863a-c9f3-44f9-a77f-9edff6054f14"
      },
      "execution_count": 38,
      "outputs": [
        {
          "output_type": "execute_result",
          "data": {
            "text/plain": [
              "<tf.Tensor: shape=(10,), dtype=float32, numpy=\n",
              "array([16.930273 , 13.58488  , 11.314707 , 10.119748 , 10.017862 ,\n",
              "       11.110931 , 13.2792225, 16.52273  , 20.841446 , 25.529465 ],\n",
              "      dtype=float32)>"
            ]
          },
          "metadata": {},
          "execution_count": 38
        }
      ]
    },
    {
      "cell_type": "code",
      "source": [
        "tf.constant(y_pred)"
      ],
      "metadata": {
        "colab": {
          "base_uri": "https://localhost:8080/"
        },
        "id": "v6CpJX1IPiwj",
        "outputId": "e8209cf6-fd2c-4b20-cd23-7bc1745ca690"
      },
      "execution_count": 39,
      "outputs": [
        {
          "output_type": "execute_result",
          "data": {
            "text/plain": [
              "<tf.Tensor: shape=(10, 1), dtype=float32, numpy=\n",
              "array([[ 71.33716 ],\n",
              "       [ 76.0252  ],\n",
              "       [ 80.713234],\n",
              "       [ 85.40126 ],\n",
              "       [ 90.08931 ],\n",
              "       [ 94.77733 ],\n",
              "       [ 99.46537 ],\n",
              "       [104.15341 ],\n",
              "       [108.841446],\n",
              "       [113.529465]], dtype=float32)>"
            ]
          },
          "metadata": {},
          "execution_count": 39
        }
      ]
    },
    {
      "cell_type": "code",
      "source": [
        "y_test"
      ],
      "metadata": {
        "colab": {
          "base_uri": "https://localhost:8080/"
        },
        "id": "JusnDI5oPlKR",
        "outputId": "dd30596e-56bd-4f22-f8e8-e03449b59f7e"
      },
      "execution_count": 40,
      "outputs": [
        {
          "output_type": "execute_result",
          "data": {
            "text/plain": [
              "<tf.Tensor: shape=(10,), dtype=int32, numpy=array([ 70,  74,  78,  82,  86,  90,  94,  98, 102, 106], dtype=int32)>"
            ]
          },
          "metadata": {},
          "execution_count": 40
        }
      ]
    },
    {
      "cell_type": "code",
      "source": [
        "tf.squeeze(y_pred)"
      ],
      "metadata": {
        "colab": {
          "base_uri": "https://localhost:8080/"
        },
        "id": "WqQJPNiwyi56",
        "outputId": "7752c88d-b1a3-45aa-c26f-e2c676cec9ee"
      },
      "execution_count": 41,
      "outputs": [
        {
          "output_type": "execute_result",
          "data": {
            "text/plain": [
              "<tf.Tensor: shape=(10,), dtype=float32, numpy=\n",
              "array([ 71.33716 ,  76.0252  ,  80.713234,  85.40126 ,  90.08931 ,\n",
              "        94.77733 ,  99.46537 , 104.15341 , 108.841446, 113.529465],\n",
              "      dtype=float32)>"
            ]
          },
          "metadata": {},
          "execution_count": 41
        }
      ]
    },
    {
      "cell_type": "code",
      "source": [
        "# Calculate the mean absolute error\n",
        "\n",
        "mae = tf.metrics.mean_absolute_error(y_true=y_test, y_pred=tf.squeeze(y_pred))\n",
        "\n",
        "mae"
      ],
      "metadata": {
        "colab": {
          "base_uri": "https://localhost:8080/"
        },
        "id": "uUT4LV7uypPs",
        "outputId": "d1309e20-7aa1-4473-f52c-85c033bd2489"
      },
      "execution_count": 42,
      "outputs": [
        {
          "output_type": "execute_result",
          "data": {
            "text/plain": [
              "<tf.Tensor: shape=(), dtype=float32, numpy=4.433318>"
            ]
          },
          "metadata": {},
          "execution_count": 42
        }
      ]
    },
    {
      "cell_type": "code",
      "source": [
        "# Calculate the mean square error\n",
        "\n",
        "mse = tf.metrics.mean_squared_error(y_true=y_test, y_pred=tf.squeeze(y_pred))\n",
        "mse"
      ],
      "metadata": {
        "id": "QpelDvIC2Nvg",
        "colab": {
          "base_uri": "https://localhost:8080/"
        },
        "outputId": "ee85d20c-010f-4705-cb72-678b8f48646f"
      },
      "execution_count": 45,
      "outputs": [
        {
          "output_type": "execute_result",
          "data": {
            "text/plain": [
              "<tf.Tensor: shape=(), dtype=float32, numpy=23.559793>"
            ]
          },
          "metadata": {},
          "execution_count": 45
        }
      ]
    },
    {
      "cell_type": "code",
      "source": [
        "# Make fucntion to reuse MAE and MSE\n",
        "def mae(y_true, y_pred):\n",
        "  return tf.metrics.mean_absolute_error(y_true=y_true,\n",
        "                                      y_pred=y_pred)\n",
        "\n",
        "def mse(y_true,y_pred):\n",
        "  return tf.metrics.mean_squared_error(y_true=y_true,\n",
        "                                       y_pred=y_pred)"
      ],
      "metadata": {
        "id": "oCsUvdVW2yQL"
      },
      "execution_count": 46,
      "outputs": []
    }
  ]
}