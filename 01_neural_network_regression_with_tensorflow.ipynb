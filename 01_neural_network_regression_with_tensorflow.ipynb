{
  "nbformat": 4,
  "nbformat_minor": 0,
  "metadata": {
    "colab": {
      "provenance": [],
      "authorship_tag": "ABX9TyNuu7ei1vb91Esxw14PNY1O",
      "include_colab_link": true
    },
    "kernelspec": {
      "name": "python3",
      "display_name": "Python 3"
    },
    "language_info": {
      "name": "python"
    }
  },
  "cells": [
    {
      "cell_type": "markdown",
      "metadata": {
        "id": "view-in-github",
        "colab_type": "text"
      },
      "source": [
        "<a href=\"https://colab.research.google.com/github/GabrielBatavia/Learn_TensorFlow/blob/main/01_neural_network_regression_with_tensorflow.ipynb\" target=\"_parent\"><img src=\"https://colab.research.google.com/assets/colab-badge.svg\" alt=\"Open In Colab\"/></a>"
      ]
    },
    {
      "cell_type": "markdown",
      "source": [
        "# Introduction to Regression with Neural Networks in TensorFlow\n",
        "\n",
        "There are many definition for a regression problem but in our case, we're going to simplify it : predicting a numerical variable based on some other combination of variables, even shorter...predicting a number."
      ],
      "metadata": {
        "id": "eANshE7nr2zb"
      }
    },
    {
      "cell_type": "code",
      "execution_count": 1,
      "metadata": {
        "colab": {
          "base_uri": "https://localhost:8080/"
        },
        "id": "UmVJP_eWrO59",
        "outputId": "a129ad19-e233-408c-f519-8c35fbe8a381"
      },
      "outputs": [
        {
          "output_type": "stream",
          "name": "stdout",
          "text": [
            "2.15.0\n"
          ]
        }
      ],
      "source": [
        "# Import TensorFlow\n",
        "\n",
        "import tensorflow as tf\n",
        "print(tf.__version__)"
      ]
    },
    {
      "cell_type": "markdown",
      "source": [
        "## Creating data to view and fit"
      ],
      "metadata": {
        "id": "vbbwMFoqskyN"
      }
    },
    {
      "cell_type": "code",
      "source": [
        "import numpy as np\n",
        "import matplotlib.pyplot as plt"
      ],
      "metadata": {
        "id": "DXOtRA60shEW"
      },
      "execution_count": 2,
      "outputs": []
    },
    {
      "cell_type": "code",
      "source": [
        "# Creating features\n",
        "\n",
        "x = np.array([-7., -4., -1., 2., 5., 8., 11., 14.])\n",
        "\n",
        "# Create labels\n",
        "y = np.array([3., 6., 9., 12., 15., 18., 21., 24.])\n",
        "\n",
        "# Visualize it\n",
        "plt.scatter(x, y);"
      ],
      "metadata": {
        "colab": {
          "base_uri": "https://localhost:8080/",
          "height": 435
        },
        "id": "SX4eHtEts4GD",
        "outputId": "2574cdd5-ba69-4aa4-a81b-0c04a548a943"
      },
      "execution_count": 3,
      "outputs": [
        {
          "output_type": "display_data",
          "data": {
            "text/plain": [
              "<Figure size 640x480 with 1 Axes>"
            ],
            "image/png": "[encoded data removed]"
          },
          "metadata": {}
        }
      ]
    },
    {
      "cell_type": "code",
      "source": [
        "y == x + 10"
      ],
      "metadata": {
        "id": "qaf2FE-utbQ-",
        "colab": {
          "base_uri": "https://localhost:8080/"
        },
        "outputId": "4490e8f4-fd32-4f7c-9a38-f2e5d85fea6d"
      },
      "execution_count": 4,
      "outputs": [
        {
          "output_type": "execute_result",
          "data": {
            "text/plain": [
              "array([ True,  True,  True,  True,  True,  True,  True,  True])"
            ]
          },
          "metadata": {},
          "execution_count": 4
        }
      ]
    },
    {
      "cell_type": "markdown",
      "source": [
        "## Input and Output shapes"
      ],
      "metadata": {
        "id": "hHex_79OxmAn"
      }
    },
    {
      "cell_type": "code",
      "source": [
        "# Create a demo tensor for out housing price prediction problem\n",
        "\n",
        "house_info = tf.constant([\"bedroom\", \"bathroom\", \"garage\"])\n",
        "house_price = tf.constant([939700])\n",
        "\n",
        "house_info, house_price"
      ],
      "metadata": {
        "colab": {
          "base_uri": "https://localhost:8080/"
        },
        "id": "EKNlltO3xrVe",
        "outputId": "9d3164c7-f7ba-470c-ade1-cf48c4ce2fa2"
      },
      "execution_count": 5,
      "outputs": [
        {
          "output_type": "execute_result",
          "data": {
            "text/plain": [
              "(<tf.Tensor: shape=(3,), dtype=string, numpy=array([b'bedroom', b'bathroom', b'garage'], dtype=object)>,\n",
              " <tf.Tensor: shape=(1,), dtype=int32, numpy=array([939700], dtype=int32)>)"
            ]
          },
          "metadata": {},
          "execution_count": 5
        }
      ]
    },
    {
      "cell_type": "code",
      "source": [
        "x[0], y[0]"
      ],
      "metadata": {
        "colab": {
          "base_uri": "https://localhost:8080/"
        },
        "id": "-tWt-gYSzm66",
        "outputId": "54a6d507-7ada-4571-ec24-49adea254a65"
      },
      "execution_count": 6,
      "outputs": [
        {
          "output_type": "execute_result",
          "data": {
            "text/plain": [
              "(-7.0, 3.0)"
            ]
          },
          "metadata": {},
          "execution_count": 6
        }
      ]
    },
    {
      "cell_type": "code",
      "source": [
        "input_shape = x[0].shape\n",
        "output_shape = y[0].shape\n",
        "\n",
        "input_shape, output_shape"
      ],
      "metadata": {
        "colab": {
          "base_uri": "https://localhost:8080/"
        },
        "id": "sGSz7U-vzY4m",
        "outputId": "7a4e3d1c-521c-494c-d27d-44d389910aab"
      },
      "execution_count": 7,
      "outputs": [
        {
          "output_type": "execute_result",
          "data": {
            "text/plain": [
              "((), ())"
            ]
          },
          "metadata": {},
          "execution_count": 7
        }
      ]
    },
    {
      "cell_type": "code",
      "source": [
        "x[0].ndim"
      ],
      "metadata": {
        "colab": {
          "base_uri": "https://localhost:8080/"
        },
        "id": "VCL4zHK5z8RR",
        "outputId": "87fa7863-35d6-4a08-d0ea-304fb631592d"
      },
      "execution_count": 8,
      "outputs": [
        {
          "output_type": "execute_result",
          "data": {
            "text/plain": [
              "0"
            ]
          },
          "metadata": {},
          "execution_count": 8
        }
      ]
    },
    {
      "cell_type": "code",
      "source": [
        "# Turn our Numpy arrays into tensors with dtype 32\n",
        "\n",
        "X = tf.constant(x, dtype=tf.float32)\n",
        "Y = tf.constant(y, dtype=tf.float32)\n",
        "\n",
        "X, Y"
      ],
      "metadata": {
        "colab": {
          "base_uri": "https://localhost:8080/"
        },
        "id": "QL2Ofdwmz-sQ",
        "outputId": "64f9432f-acef-445d-9731-1a58f4197735"
      },
      "execution_count": 9,
      "outputs": [
        {
          "output_type": "execute_result",
          "data": {
            "text/plain": [
              "(<tf.Tensor: shape=(8,), dtype=float32, numpy=array([-7., -4., -1.,  2.,  5.,  8., 11., 14.], dtype=float32)>,\n",
              " <tf.Tensor: shape=(8,), dtype=float32, numpy=array([ 3.,  6.,  9., 12., 15., 18., 21., 24.], dtype=float32)>)"
            ]
          },
          "metadata": {},
          "execution_count": 9
        }
      ]
    },
    {
      "cell_type": "code",
      "source": [
        "input_shape = X[0].shape\n",
        "output_shape = y[0].shape\n",
        "\n",
        "input_shape, output_shape"
      ],
      "metadata": {
        "colab": {
          "base_uri": "https://localhost:8080/"
        },
        "id": "R6m8i44s1t3S",
        "outputId": "142e0b00-7dab-44fb-8ca9-cebecd00c643"
      },
      "execution_count": 10,
      "outputs": [
        {
          "output_type": "execute_result",
          "data": {
            "text/plain": [
              "(TensorShape([]), ())"
            ]
          },
          "metadata": {},
          "execution_count": 10
        }
      ]
    },
    {
      "cell_type": "markdown",
      "source": [
        "## Steps in modelling with TensorFlow\n",
        "\n",
        "1. **Creating a model** - define the input and output layers, as well as the hidden layers of a deep learning model.\n",
        "\n",
        "2. **Compiling a model** - define the loss function (in other words, the function wich tells our model how wrong it is) and the optimizer (tells our model how to improve the patterns its learning) and evaluation metrics (what we can use to interpret the preformance of our model)\n",
        "\n",
        "3. Fitting a model - letting the model try to find patters between X & y (features and labels)"
      ],
      "metadata": {
        "id": "T9heq-y318BJ"
      }
    },
    {
      "cell_type": "code",
      "source": [
        "# Opetionally, the first layer can receive an 'input_shape' argument :\n",
        "# model = tf.keras.Sequential()\n",
        "# model.add(tf.keras.layers.Dense(8, input_shape=(16,)))\n",
        "\n",
        "# Afterwards, we do automatic shape inference :\n",
        "# model.add(tf.keras.layers.Dense(4))\n",
        "\n",
        "# model = tf.keras.Sequential()\n",
        "# model.add(tf.keras.layers.Dense(1))\n",
        "# ..."
      ],
      "metadata": {
        "id": "nEAWuhvc6w4g"
      },
      "execution_count": 11,
      "outputs": []
    },
    {
      "cell_type": "code",
      "source": [
        "# Set random seed\n",
        "\n",
        "tf.random.set_seed(42)\n",
        "\n",
        "# 1. Create a model using the Sequential API\n",
        "model = tf.keras.Sequential([\n",
        "    tf.keras.layers.Dense(1)\n",
        "])\n",
        "\n",
        "# 2. Compile the model\n",
        "model.compile(loss = tf.keras.losses.mae, # mae is short for mean absolute error\n",
        "              optimizer = tf.keras.optimizers.SGD(), # sgd is short for stochasitc gradient decent\n",
        "              metrics = [\"mae\"])\n",
        "\n",
        "# 3. Fit the model\n",
        "# model.fit(X, Y, epochs=5) # BREAK IN UPDATED TENSOR VERSION\n",
        "model.fit(tf.expand_dims(X, axis=-1), Y, epochs=5)"
      ],
      "metadata": {
        "colab": {
          "base_uri": "https://localhost:8080/"
        },
        "id": "ubX_9SYR149W",
        "outputId": "0e3f605f-0b7f-41cb-abea-faeaf50cfc25"
      },
      "execution_count": 12,
      "outputs": [
        {
          "output_type": "stream",
          "name": "stdout",
          "text": [
            "Epoch 1/5\n",
            "1/1 [==============================] - 1s 602ms/step - loss: 9.8234 - mae: 9.8234\n",
            "Epoch 2/5\n",
            "1/1 [==============================] - 0s 17ms/step - loss: 9.6909 - mae: 9.6909\n",
            "Epoch 3/5\n",
            "1/1 [==============================] - 0s 12ms/step - loss: 9.5584 - mae: 9.5584\n",
            "Epoch 4/5\n",
            "1/1 [==============================] - 0s 10ms/step - loss: 9.4259 - mae: 9.4259\n",
            "Epoch 5/5\n",
            "1/1 [==============================] - 0s 11ms/step - loss: 9.2934 - mae: 9.2934\n"
          ]
        },
        {
          "output_type": "execute_result",
          "data": {
            "text/plain": [
              "<keras.src.callbacks.History at 0x7a6c7c1658d0>"
            ]
          },
          "metadata": {},
          "execution_count": 12
        }
      ]
    },
    {
      "cell_type": "code",
      "source": [
        "# Check our X and Y\n",
        "x, y"
      ],
      "metadata": {
        "colab": {
          "base_uri": "https://localhost:8080/"
        },
        "id": "1B1DsBlo9jYC",
        "outputId": "6734b7d0-7d8b-4871-894a-9b72e6b016a7"
      },
      "execution_count": 13,
      "outputs": [
        {
          "output_type": "execute_result",
          "data": {
            "text/plain": [
              "(array([-7., -4., -1.,  2.,  5.,  8., 11., 14.]),\n",
              " array([ 3.,  6.,  9., 12., 15., 18., 21., 24.]))"
            ]
          },
          "metadata": {},
          "execution_count": 13
        }
      ]
    },
    {
      "cell_type": "code",
      "source": [
        "# Try make prediction\n",
        "model.predict([17.0])"
      ],
      "metadata": {
        "colab": {
          "base_uri": "https://localhost:8080/"
        },
        "id": "L4S19GPP9pXG",
        "outputId": "e3717104-c5bc-4045-db4a-0c941d1fa782"
      },
      "execution_count": 14,
      "outputs": [
        {
          "output_type": "stream",
          "name": "stdout",
          "text": [
            "1/1 [==============================] - 0s 133ms/step\n"
          ]
        },
        {
          "output_type": "execute_result",
          "data": {
            "text/plain": [
              "array([[20.882565]], dtype=float32)"
            ]
          },
          "metadata": {},
          "execution_count": 14
        }
      ]
    },
    {
      "cell_type": "markdown",
      "source": [
        "## Improving our model\n",
        "\n",
        "We can improve our model, by altering the steps we took to create a model.\n",
        "\n",
        "1. **Creating a model** - ere we might add more layers, increse the number of hidden units (all called neurons) within each of the hidden layers, change the activation function of each layer.\n",
        "\n",
        "2. **Compiling a model** - here we might chang ethe optimization function or perhaps the **learning rate** of the optimization function.\n",
        "\n",
        "3. **Fitting a model** - here we might fit a model for more **epochs** (leave it training for longer) or on more data (give the model more examples to learn form)"
      ],
      "metadata": {
        "id": "Nq6KqLEo-HP4"
      }
    },
    {
      "cell_type": "code",
      "source": [
        "# Let's rebuild our model\n",
        "\n",
        "# 1. Create the model\n",
        "model1 = tf.keras.Sequential([\n",
        "    tf.keras.layers.Dense(1)\n",
        "])\n",
        "\n",
        "# 2. Compile the model\n",
        "model1.compile(loss = tf.keras.losses.mae,\n",
        "              optimizer = tf.keras.optimizers.SGD(),\n",
        "              metrics = [\"mae\"])\n",
        "\n",
        "# 3. Fit the model\n",
        "# model.fit(X, Y, epochs=5) # BREAK IN UPDATED TENSOR VERSION\n",
        "model1.fit(tf.expand_dims(X, axis=-1), Y, epochs=100)"
      ],
      "metadata": {
        "colab": {
          "base_uri": "https://localhost:8080/"
        },
        "id": "GPGzIvb2DLc2",
        "outputId": "1ae75356-f059-4a71-e6e5-642a674501e3"
      },
      "execution_count": 15,
      "outputs": [
        {
          "output_type": "stream",
          "name": "stdout",
          "text": [
            "Epoch 1/100\n",
            "1/1 [==============================] - 0s 410ms/step - loss: 12.6113 - mae: 12.6113\n",
            "Epoch 2/100\n",
            "1/1 [==============================] - 0s 13ms/step - loss: 12.4788 - mae: 12.4788\n",
            "Epoch 3/100\n",
            "1/1 [==============================] - 0s 13ms/step - loss: 12.3463 - mae: 12.3463\n",
            "Epoch 4/100\n",
            "1/1 [==============================] - 0s 11ms/step - loss: 12.2138 - mae: 12.2138\n",
            "Epoch 5/100\n",
            "1/1 [==============================] - 0s 13ms/step - loss: 12.0813 - mae: 12.0813\n",
            "Epoch 6/100\n",
            "1/1 [==============================] - 0s 14ms/step - loss: 11.9488 - mae: 11.9488\n",
            "Epoch 7/100\n",
            "1/1 [==============================] - 0s 13ms/step - loss: 11.8163 - mae: 11.8163\n",
            "Epoch 8/100\n",
            "1/1 [==============================] - 0s 12ms/step - loss: 11.6838 - mae: 11.6838\n",
            "Epoch 9/100\n",
            "1/1 [==============================] - 0s 13ms/step - loss: 11.5513 - mae: 11.5513\n",
            "Epoch 10/100\n",
            "1/1 [==============================] - 0s 13ms/step - loss: 11.4188 - mae: 11.4188\n",
            "Epoch 11/100\n",
            "1/1 [==============================] - 0s 12ms/step - loss: 11.2863 - mae: 11.2863\n",
            "Epoch 12/100\n",
            "1/1 [==============================] - 0s 14ms/step - loss: 11.1538 - mae: 11.1538\n",
            "Epoch 13/100\n",
            "1/1 [==============================] - 0s 23ms/step - loss: 11.0213 - mae: 11.0213\n",
            "Epoch 14/100\n",
            "1/1 [==============================] - 0s 16ms/step - loss: 10.8888 - mae: 10.8888\n",
            "Epoch 15/100\n",
            "1/1 [==============================] - 0s 15ms/step - loss: 10.7563 - mae: 10.7563\n",
            "Epoch 16/100\n",
            "1/1 [==============================] - 0s 15ms/step - loss: 10.6238 - mae: 10.6238\n",
            "Epoch 17/100\n",
            "1/1 [==============================] - 0s 13ms/step - loss: 10.4913 - mae: 10.4913\n",
            "Epoch 18/100\n",
            "1/1 [==============================] - 0s 17ms/step - loss: 10.3588 - mae: 10.3588\n",
            "Epoch 19/100\n",
            "1/1 [==============================] - 0s 15ms/step - loss: 10.2263 - mae: 10.2263\n",
            "Epoch 20/100\n",
            "1/1 [==============================] - 0s 16ms/step - loss: 10.0938 - mae: 10.0938\n",
            "Epoch 21/100\n",
            "1/1 [==============================] - 0s 16ms/step - loss: 9.9613 - mae: 9.9613\n",
            "Epoch 22/100\n",
            "1/1 [==============================] - 0s 11ms/step - loss: 9.8288 - mae: 9.8288\n",
            "Epoch 23/100\n",
            "1/1 [==============================] - 0s 10ms/step - loss: 9.6963 - mae: 9.6963\n",
            "Epoch 24/100\n",
            "1/1 [==============================] - 0s 12ms/step - loss: 9.5638 - mae: 9.5638\n",
            "Epoch 25/100\n",
            "1/1 [==============================] - 0s 10ms/step - loss: 9.4313 - mae: 9.4313\n",
            "Epoch 26/100\n",
            "1/1 [==============================] - 0s 10ms/step - loss: 9.2988 - mae: 9.2988\n",
            "Epoch 27/100\n",
            "1/1 [==============================] - 0s 13ms/step - loss: 9.1663 - mae: 9.1663\n",
            "Epoch 28/100\n",
            "1/1 [==============================] - 0s 13ms/step - loss: 9.0338 - mae: 9.0338\n",
            "Epoch 29/100\n",
            "1/1 [==============================] - 0s 14ms/step - loss: 8.9013 - mae: 8.9013\n",
            "Epoch 30/100\n",
            "1/1 [==============================] - 0s 11ms/step - loss: 8.7688 - mae: 8.7688\n",
            "Epoch 31/100\n",
            "1/1 [==============================] - 0s 12ms/step - loss: 8.6363 - mae: 8.6363\n",
            "Epoch 32/100\n",
            "1/1 [==============================] - 0s 12ms/step - loss: 8.5038 - mae: 8.5038\n",
            "Epoch 33/100\n",
            "1/1 [==============================] - 0s 9ms/step - loss: 8.3713 - mae: 8.3713\n",
            "Epoch 34/100\n",
            "1/1 [==============================] - 0s 14ms/step - loss: 8.2388 - mae: 8.2388\n",
            "Epoch 35/100\n",
            "1/1 [==============================] - 0s 18ms/step - loss: 8.1063 - mae: 8.1063\n",
            "Epoch 36/100\n",
            "1/1 [==============================] - 0s 14ms/step - loss: 7.9738 - mae: 7.9738\n",
            "Epoch 37/100\n",
            "1/1 [==============================] - 0s 14ms/step - loss: 7.8413 - mae: 7.8413\n",
            "Epoch 38/100\n",
            "1/1 [==============================] - 0s 9ms/step - loss: 7.7088 - mae: 7.7088\n",
            "Epoch 39/100\n",
            "1/1 [==============================] - 0s 30ms/step - loss: 7.5763 - mae: 7.5763\n",
            "Epoch 40/100\n",
            "1/1 [==============================] - 0s 20ms/step - loss: 7.4438 - mae: 7.4438\n",
            "Epoch 41/100\n",
            "1/1 [==============================] - 0s 17ms/step - loss: 7.3113 - mae: 7.3113\n",
            "Epoch 42/100\n",
            "1/1 [==============================] - 0s 18ms/step - loss: 7.1925 - mae: 7.1925\n",
            "Epoch 43/100\n",
            "1/1 [==============================] - 0s 21ms/step - loss: 7.1869 - mae: 7.1869\n",
            "Epoch 44/100\n",
            "1/1 [==============================] - 0s 15ms/step - loss: 7.1813 - mae: 7.1813\n",
            "Epoch 45/100\n",
            "1/1 [==============================] - 0s 14ms/step - loss: 7.1756 - mae: 7.1756\n",
            "Epoch 46/100\n",
            "1/1 [==============================] - 0s 15ms/step - loss: 7.1700 - mae: 7.1700\n",
            "Epoch 47/100\n",
            "1/1 [==============================] - 0s 12ms/step - loss: 7.1644 - mae: 7.1644\n",
            "Epoch 48/100\n",
            "1/1 [==============================] - 0s 13ms/step - loss: 7.1587 - mae: 7.1587\n",
            "Epoch 49/100\n",
            "1/1 [==============================] - 0s 14ms/step - loss: 7.1531 - mae: 7.1531\n",
            "Epoch 50/100\n",
            "1/1 [==============================] - 0s 12ms/step - loss: 7.1475 - mae: 7.1475\n",
            "Epoch 51/100\n",
            "1/1 [==============================] - 0s 15ms/step - loss: 7.1419 - mae: 7.1419\n",
            "Epoch 52/100\n",
            "1/1 [==============================] - 0s 12ms/step - loss: 7.1363 - mae: 7.1363\n",
            "Epoch 53/100\n",
            "1/1 [==============================] - 0s 13ms/step - loss: 7.1306 - mae: 7.1306\n",
            "Epoch 54/100\n",
            "1/1 [==============================] - 0s 17ms/step - loss: 7.1250 - mae: 7.1250\n",
            "Epoch 55/100\n",
            "1/1 [==============================] - 0s 12ms/step - loss: 7.1194 - mae: 7.1194\n",
            "Epoch 56/100\n",
            "1/1 [==============================] - 0s 11ms/step - loss: 7.1137 - mae: 7.1137\n",
            "Epoch 57/100\n",
            "1/1 [==============================] - 0s 11ms/step - loss: 7.1081 - mae: 7.1081\n",
            "Epoch 58/100\n",
            "1/1 [==============================] - 0s 11ms/step - loss: 7.1025 - mae: 7.1025\n",
            "Epoch 59/100\n",
            "1/1 [==============================] - 0s 21ms/step - loss: 7.0969 - mae: 7.0969\n",
            "Epoch 60/100\n",
            "1/1 [==============================] - 0s 15ms/step - loss: 7.0912 - mae: 7.0912\n",
            "Epoch 61/100\n",
            "1/1 [==============================] - 0s 14ms/step - loss: 7.0856 - mae: 7.0856\n",
            "Epoch 62/100\n",
            "1/1 [==============================] - 0s 12ms/step - loss: 7.0800 - mae: 7.0800\n",
            "Epoch 63/100\n",
            "1/1 [==============================] - 0s 11ms/step - loss: 7.0744 - mae: 7.0744\n",
            "Epoch 64/100\n",
            "1/1 [==============================] - 0s 16ms/step - loss: 7.0688 - mae: 7.0688\n",
            "Epoch 65/100\n",
            "1/1 [==============================] - 0s 13ms/step - loss: 7.0631 - mae: 7.0631\n",
            "Epoch 66/100\n",
            "1/1 [==============================] - 0s 12ms/step - loss: 7.0575 - mae: 7.0575\n",
            "Epoch 67/100\n",
            "1/1 [==============================] - 0s 13ms/step - loss: 7.0519 - mae: 7.0519\n",
            "Epoch 68/100\n",
            "1/1 [==============================] - 0s 13ms/step - loss: 7.0462 - mae: 7.0462\n",
            "Epoch 69/100\n",
            "1/1 [==============================] - 0s 44ms/step - loss: 7.0406 - mae: 7.0406\n",
            "Epoch 70/100\n",
            "1/1 [==============================] - 0s 16ms/step - loss: 7.0350 - mae: 7.0350\n",
            "Epoch 71/100\n",
            "1/1 [==============================] - 0s 16ms/step - loss: 7.0294 - mae: 7.0294\n",
            "Epoch 72/100\n",
            "1/1 [==============================] - 0s 13ms/step - loss: 7.0238 - mae: 7.0238\n",
            "Epoch 73/100\n",
            "1/1 [==============================] - 0s 12ms/step - loss: 7.0181 - mae: 7.0181\n",
            "Epoch 74/100\n",
            "1/1 [==============================] - 0s 14ms/step - loss: 7.0125 - mae: 7.0125\n",
            "Epoch 75/100\n",
            "1/1 [==============================] - 0s 12ms/step - loss: 7.0069 - mae: 7.0069\n",
            "Epoch 76/100\n",
            "1/1 [==============================] - 0s 12ms/step - loss: 7.0013 - mae: 7.0013\n",
            "Epoch 77/100\n",
            "1/1 [==============================] - 0s 12ms/step - loss: 6.9956 - mae: 6.9956\n",
            "Epoch 78/100\n",
            "1/1 [==============================] - 0s 15ms/step - loss: 6.9900 - mae: 6.9900\n",
            "Epoch 79/100\n",
            "1/1 [==============================] - 0s 9ms/step - loss: 6.9844 - mae: 6.9844\n",
            "Epoch 80/100\n",
            "1/1 [==============================] - 0s 9ms/step - loss: 6.9788 - mae: 6.9788\n",
            "Epoch 81/100\n",
            "1/1 [==============================] - 0s 11ms/step - loss: 6.9731 - mae: 6.9731\n",
            "Epoch 82/100\n",
            "1/1 [==============================] - 0s 9ms/step - loss: 6.9675 - mae: 6.9675\n",
            "Epoch 83/100\n",
            "1/1 [==============================] - 0s 9ms/step - loss: 6.9619 - mae: 6.9619\n",
            "Epoch 84/100\n",
            "1/1 [==============================] - 0s 11ms/step - loss: 6.9563 - mae: 6.9563\n",
            "Epoch 85/100\n",
            "1/1 [==============================] - 0s 10ms/step - loss: 6.9506 - mae: 6.9506\n",
            "Epoch 86/100\n",
            "1/1 [==============================] - 0s 9ms/step - loss: 6.9450 - mae: 6.9450\n",
            "Epoch 87/100\n",
            "1/1 [==============================] - 0s 11ms/step - loss: 6.9394 - mae: 6.9394\n",
            "Epoch 88/100\n",
            "1/1 [==============================] - 0s 9ms/step - loss: 6.9338 - mae: 6.9338\n",
            "Epoch 89/100\n",
            "1/1 [==============================] - 0s 9ms/step - loss: 6.9281 - mae: 6.9281\n",
            "Epoch 90/100\n",
            "1/1 [==============================] - 0s 10ms/step - loss: 6.9225 - mae: 6.9225\n",
            "Epoch 91/100\n",
            "1/1 [==============================] - 0s 9ms/step - loss: 6.9169 - mae: 6.9169\n",
            "Epoch 92/100\n",
            "1/1 [==============================] - 0s 9ms/step - loss: 6.9113 - mae: 6.9113\n",
            "Epoch 93/100\n",
            "1/1 [==============================] - 0s 9ms/step - loss: 6.9056 - mae: 6.9056\n",
            "Epoch 94/100\n",
            "1/1 [==============================] - 0s 9ms/step - loss: 6.9000 - mae: 6.9000\n",
            "Epoch 95/100\n",
            "1/1 [==============================] - 0s 9ms/step - loss: 6.8944 - mae: 6.8944\n",
            "Epoch 96/100\n",
            "1/1 [==============================] - 0s 9ms/step - loss: 6.8888 - mae: 6.8888\n",
            "Epoch 97/100\n",
            "1/1 [==============================] - 0s 10ms/step - loss: 6.8831 - mae: 6.8831\n",
            "Epoch 98/100\n",
            "1/1 [==============================] - 0s 10ms/step - loss: 6.8775 - mae: 6.8775\n",
            "Epoch 99/100\n",
            "1/1 [==============================] - 0s 10ms/step - loss: 6.8719 - mae: 6.8719\n",
            "Epoch 100/100\n",
            "1/1 [==============================] - 0s 9ms/step - loss: 6.8663 - mae: 6.8663\n"
          ]
        },
        {
          "output_type": "execute_result",
          "data": {
            "text/plain": [
              "<keras.src.callbacks.History at 0x7a6c76ee0b20>"
            ]
          },
          "metadata": {},
          "execution_count": 15
        }
      ]
    },
    {
      "cell_type": "code",
      "source": [
        "# Try make prediction\n",
        "model1.predict([17.0])"
      ],
      "metadata": {
        "colab": {
          "base_uri": "https://localhost:8080/"
        },
        "id": "4kMA7oidBuHG",
        "outputId": "dfd422bc-b41d-4227-d54b-ed39a9ead693"
      },
      "execution_count": 16,
      "outputs": [
        {
          "output_type": "stream",
          "name": "stdout",
          "text": [
            "1/1 [==============================] - 0s 110ms/step\n"
          ]
        },
        {
          "output_type": "execute_result",
          "data": {
            "text/plain": [
              "array([[29.564167]], dtype=float32)"
            ]
          },
          "metadata": {},
          "execution_count": 16
        }
      ]
    },
    {
      "cell_type": "code",
      "source": [
        "# re-write the model by my self and improve one thing to get better\n",
        "\n",
        "# 1. Create the model\n",
        "model2 = tf.keras.Sequential([\n",
        "    tf.keras.layers.Dense(1)\n",
        "])\n",
        "\n",
        "# 2. Compile the model\n",
        "model2.compile(loss = tf.keras.losses.mae,\n",
        "              optimizer = tf.keras.optimizers.Adam(learning_rate=0.001), # chang the optimizers from SGD to adam\n",
        "              metrics = [\"mae\"])\n",
        "\n",
        "# 3. Fit the model\n",
        "# model.fit(X, Y, epochs=5) # BREAK IN UPDATED TENSOR VERSION\n",
        "model2.fit(tf.expand_dims(X, axis=-1), Y, epochs=100)"
      ],
      "metadata": {
        "colab": {
          "base_uri": "https://localhost:8080/"
        },
        "id": "gdwbhbhmJVPx",
        "outputId": "c25ac9ba-c74c-4e63-89fb-9f03c478997c"
      },
      "execution_count": 17,
      "outputs": [
        {
          "output_type": "stream",
          "name": "stdout",
          "text": [
            "Epoch 1/100\n",
            "1/1 [==============================] - 1s 645ms/step - loss: 10.3531 - mae: 10.3531\n",
            "Epoch 2/100\n",
            "1/1 [==============================] - 0s 16ms/step - loss: 10.3486 - mae: 10.3486\n",
            "Epoch 3/100\n",
            "1/1 [==============================] - 0s 16ms/step - loss: 10.3441 - mae: 10.3441\n",
            "Epoch 4/100\n",
            "1/1 [==============================] - 0s 12ms/step - loss: 10.3396 - mae: 10.3396\n",
            "Epoch 5/100\n",
            "1/1 [==============================] - 0s 14ms/step - loss: 10.3351 - mae: 10.3351\n",
            "Epoch 6/100\n",
            "1/1 [==============================] - 0s 11ms/step - loss: 10.3306 - mae: 10.3306\n",
            "Epoch 7/100\n",
            "1/1 [==============================] - 0s 16ms/step - loss: 10.3261 - mae: 10.3261\n",
            "Epoch 8/100\n",
            "1/1 [==============================] - 0s 11ms/step - loss: 10.3216 - mae: 10.3216\n",
            "Epoch 9/100\n",
            "1/1 [==============================] - 0s 15ms/step - loss: 10.3171 - mae: 10.3171\n",
            "Epoch 10/100\n",
            "1/1 [==============================] - 0s 15ms/step - loss: 10.3126 - mae: 10.3126\n",
            "Epoch 11/100\n",
            "1/1 [==============================] - 0s 13ms/step - loss: 10.3081 - mae: 10.3081\n",
            "Epoch 12/100\n",
            "1/1 [==============================] - 0s 10ms/step - loss: 10.3036 - mae: 10.3036\n",
            "Epoch 13/100\n",
            "1/1 [==============================] - 0s 13ms/step - loss: 10.2991 - mae: 10.2991\n",
            "Epoch 14/100\n",
            "1/1 [==============================] - 0s 10ms/step - loss: 10.2946 - mae: 10.2946\n",
            "Epoch 15/100\n",
            "1/1 [==============================] - 0s 12ms/step - loss: 10.2901 - mae: 10.2901\n",
            "Epoch 16/100\n",
            "1/1 [==============================] - 0s 13ms/step - loss: 10.2856 - mae: 10.2856\n",
            "Epoch 17/100\n",
            "1/1 [==============================] - 0s 13ms/step - loss: 10.2811 - mae: 10.2811\n",
            "Epoch 18/100\n",
            "1/1 [==============================] - 0s 10ms/step - loss: 10.2766 - mae: 10.2766\n",
            "Epoch 19/100\n",
            "1/1 [==============================] - 0s 13ms/step - loss: 10.2721 - mae: 10.2721\n",
            "Epoch 20/100\n",
            "1/1 [==============================] - 0s 12ms/step - loss: 10.2676 - mae: 10.2676\n",
            "Epoch 21/100\n",
            "1/1 [==============================] - 0s 12ms/step - loss: 10.2631 - mae: 10.2631\n",
            "Epoch 22/100\n",
            "1/1 [==============================] - 0s 12ms/step - loss: 10.2586 - mae: 10.2586\n",
            "Epoch 23/100\n",
            "1/1 [==============================] - 0s 13ms/step - loss: 10.2541 - mae: 10.2541\n",
            "Epoch 24/100\n",
            "1/1 [==============================] - 0s 12ms/step - loss: 10.2496 - mae: 10.2496\n",
            "Epoch 25/100\n",
            "1/1 [==============================] - 0s 14ms/step - loss: 10.2451 - mae: 10.2451\n",
            "Epoch 26/100\n",
            "1/1 [==============================] - 0s 10ms/step - loss: 10.2406 - mae: 10.2406\n",
            "Epoch 27/100\n",
            "1/1 [==============================] - 0s 10ms/step - loss: 10.2361 - mae: 10.2361\n",
            "Epoch 28/100\n",
            "1/1 [==============================] - 0s 11ms/step - loss: 10.2316 - mae: 10.2316\n",
            "Epoch 29/100\n",
            "1/1 [==============================] - 0s 14ms/step - loss: 10.2271 - mae: 10.2271\n",
            "Epoch 30/100\n",
            "1/1 [==============================] - 0s 12ms/step - loss: 10.2226 - mae: 10.2226\n",
            "Epoch 31/100\n",
            "1/1 [==============================] - 0s 11ms/step - loss: 10.2181 - mae: 10.2181\n",
            "Epoch 32/100\n",
            "1/1 [==============================] - 0s 13ms/step - loss: 10.2136 - mae: 10.2136\n",
            "Epoch 33/100\n",
            "1/1 [==============================] - 0s 11ms/step - loss: 10.2091 - mae: 10.2091\n",
            "Epoch 34/100\n",
            "1/1 [==============================] - 0s 12ms/step - loss: 10.2046 - mae: 10.2046\n",
            "Epoch 35/100\n",
            "1/1 [==============================] - 0s 12ms/step - loss: 10.2001 - mae: 10.2001\n",
            "Epoch 36/100\n",
            "1/1 [==============================] - 0s 14ms/step - loss: 10.1956 - mae: 10.1956\n",
            "Epoch 37/100\n",
            "1/1 [==============================] - 0s 11ms/step - loss: 10.1911 - mae: 10.1911\n",
            "Epoch 38/100\n",
            "1/1 [==============================] - 0s 16ms/step - loss: 10.1866 - mae: 10.1866\n",
            "Epoch 39/100\n",
            "1/1 [==============================] - 0s 11ms/step - loss: 10.1821 - mae: 10.1821\n",
            "Epoch 40/100\n",
            "1/1 [==============================] - 0s 12ms/step - loss: 10.1776 - mae: 10.1776\n",
            "Epoch 41/100\n",
            "1/1 [==============================] - 0s 15ms/step - loss: 10.1731 - mae: 10.1731\n",
            "Epoch 42/100\n",
            "1/1 [==============================] - 0s 15ms/step - loss: 10.1686 - mae: 10.1686\n",
            "Epoch 43/100\n",
            "1/1 [==============================] - 0s 16ms/step - loss: 10.1641 - mae: 10.1641\n",
            "Epoch 44/100\n",
            "1/1 [==============================] - 0s 13ms/step - loss: 10.1596 - mae: 10.1596\n",
            "Epoch 45/100\n",
            "1/1 [==============================] - 0s 12ms/step - loss: 10.1551 - mae: 10.1551\n",
            "Epoch 46/100\n",
            "1/1 [==============================] - 0s 12ms/step - loss: 10.1506 - mae: 10.1506\n",
            "Epoch 47/100\n",
            "1/1 [==============================] - 0s 20ms/step - loss: 10.1461 - mae: 10.1461\n",
            "Epoch 48/100\n",
            "1/1 [==============================] - 0s 20ms/step - loss: 10.1416 - mae: 10.1416\n",
            "Epoch 49/100\n",
            "1/1 [==============================] - 0s 19ms/step - loss: 10.1371 - mae: 10.1371\n",
            "Epoch 50/100\n",
            "1/1 [==============================] - 0s 14ms/step - loss: 10.1326 - mae: 10.1326\n",
            "Epoch 51/100\n",
            "1/1 [==============================] - 0s 14ms/step - loss: 10.1281 - mae: 10.1281\n",
            "Epoch 52/100\n",
            "1/1 [==============================] - 0s 14ms/step - loss: 10.1236 - mae: 10.1236\n",
            "Epoch 53/100\n",
            "1/1 [==============================] - 0s 13ms/step - loss: 10.1191 - mae: 10.1191\n",
            "Epoch 54/100\n",
            "1/1 [==============================] - 0s 12ms/step - loss: 10.1146 - mae: 10.1146\n",
            "Epoch 55/100\n",
            "1/1 [==============================] - 0s 10ms/step - loss: 10.1101 - mae: 10.1101\n",
            "Epoch 56/100\n",
            "1/1 [==============================] - 0s 10ms/step - loss: 10.1056 - mae: 10.1056\n",
            "Epoch 57/100\n",
            "1/1 [==============================] - 0s 14ms/step - loss: 10.1011 - mae: 10.1011\n",
            "Epoch 58/100\n",
            "1/1 [==============================] - 0s 13ms/step - loss: 10.0966 - mae: 10.0966\n",
            "Epoch 59/100\n",
            "1/1 [==============================] - 0s 14ms/step - loss: 10.0921 - mae: 10.0921\n",
            "Epoch 60/100\n",
            "1/1 [==============================] - 0s 11ms/step - loss: 10.0876 - mae: 10.0876\n",
            "Epoch 61/100\n",
            "1/1 [==============================] - 0s 11ms/step - loss: 10.0831 - mae: 10.0831\n",
            "Epoch 62/100\n",
            "1/1 [==============================] - 0s 12ms/step - loss: 10.0786 - mae: 10.0786\n",
            "Epoch 63/100\n",
            "1/1 [==============================] - 0s 11ms/step - loss: 10.0741 - mae: 10.0741\n",
            "Epoch 64/100\n",
            "1/1 [==============================] - 0s 11ms/step - loss: 10.0696 - mae: 10.0696\n",
            "Epoch 65/100\n",
            "1/1 [==============================] - 0s 17ms/step - loss: 10.0651 - mae: 10.0651\n",
            "Epoch 66/100\n",
            "1/1 [==============================] - 0s 13ms/step - loss: 10.0606 - mae: 10.0606\n",
            "Epoch 67/100\n",
            "1/1 [==============================] - 0s 15ms/step - loss: 10.0561 - mae: 10.0561\n",
            "Epoch 68/100\n",
            "1/1 [==============================] - 0s 13ms/step - loss: 10.0516 - mae: 10.0516\n",
            "Epoch 69/100\n",
            "1/1 [==============================] - 0s 15ms/step - loss: 10.0471 - mae: 10.0471\n",
            "Epoch 70/100\n",
            "1/1 [==============================] - 0s 16ms/step - loss: 10.0426 - mae: 10.0426\n",
            "Epoch 71/100\n",
            "1/1 [==============================] - 0s 13ms/step - loss: 10.0381 - mae: 10.0381\n",
            "Epoch 72/100\n",
            "1/1 [==============================] - 0s 11ms/step - loss: 10.0336 - mae: 10.0336\n",
            "Epoch 73/100\n",
            "1/1 [==============================] - 0s 16ms/step - loss: 10.0291 - mae: 10.0291\n",
            "Epoch 74/100\n",
            "1/1 [==============================] - 0s 12ms/step - loss: 10.0246 - mae: 10.0246\n",
            "Epoch 75/100\n",
            "1/1 [==============================] - 0s 27ms/step - loss: 10.0201 - mae: 10.0201\n",
            "Epoch 76/100\n",
            "1/1 [==============================] - 0s 23ms/step - loss: 10.0156 - mae: 10.0156\n",
            "Epoch 77/100\n",
            "1/1 [==============================] - 0s 27ms/step - loss: 10.0111 - mae: 10.0111\n",
            "Epoch 78/100\n",
            "1/1 [==============================] - 0s 28ms/step - loss: 10.0066 - mae: 10.0066\n",
            "Epoch 79/100\n",
            "1/1 [==============================] - 0s 23ms/step - loss: 10.0021 - mae: 10.0021\n",
            "Epoch 80/100\n",
            "1/1 [==============================] - 0s 23ms/step - loss: 9.9976 - mae: 9.9976\n",
            "Epoch 81/100\n",
            "1/1 [==============================] - 0s 23ms/step - loss: 9.9931 - mae: 9.9931\n",
            "Epoch 82/100\n",
            "1/1 [==============================] - 0s 22ms/step - loss: 9.9886 - mae: 9.9886\n",
            "Epoch 83/100\n",
            "1/1 [==============================] - 0s 56ms/step - loss: 9.9841 - mae: 9.9841\n",
            "Epoch 84/100\n",
            "1/1 [==============================] - 0s 35ms/step - loss: 9.9796 - mae: 9.9796\n",
            "Epoch 85/100\n",
            "1/1 [==============================] - 0s 57ms/step - loss: 9.9751 - mae: 9.9751\n",
            "Epoch 86/100\n",
            "1/1 [==============================] - 0s 58ms/step - loss: 9.9706 - mae: 9.9706\n",
            "Epoch 87/100\n",
            "1/1 [==============================] - 0s 29ms/step - loss: 9.9661 - mae: 9.9661\n",
            "Epoch 88/100\n",
            "1/1 [==============================] - 0s 19ms/step - loss: 9.9616 - mae: 9.9616\n",
            "Epoch 89/100\n",
            "1/1 [==============================] - 0s 14ms/step - loss: 9.9571 - mae: 9.9571\n",
            "Epoch 90/100\n",
            "1/1 [==============================] - 0s 17ms/step - loss: 9.9526 - mae: 9.9526\n",
            "Epoch 91/100\n",
            "1/1 [==============================] - 0s 19ms/step - loss: 9.9481 - mae: 9.9481\n",
            "Epoch 92/100\n",
            "1/1 [==============================] - 0s 30ms/step - loss: 9.9436 - mae: 9.9436\n",
            "Epoch 93/100\n",
            "1/1 [==============================] - 0s 17ms/step - loss: 9.9391 - mae: 9.9391\n",
            "Epoch 94/100\n",
            "1/1 [==============================] - 0s 19ms/step - loss: 9.9346 - mae: 9.9346\n",
            "Epoch 95/100\n",
            "1/1 [==============================] - 0s 17ms/step - loss: 9.9301 - mae: 9.9301\n",
            "Epoch 96/100\n",
            "1/1 [==============================] - 0s 13ms/step - loss: 9.9256 - mae: 9.9256\n",
            "Epoch 97/100\n",
            "1/1 [==============================] - 0s 14ms/step - loss: 9.9211 - mae: 9.9211\n",
            "Epoch 98/100\n",
            "1/1 [==============================] - 0s 11ms/step - loss: 9.9166 - mae: 9.9166\n",
            "Epoch 99/100\n",
            "1/1 [==============================] - 0s 13ms/step - loss: 9.9121 - mae: 9.9121\n",
            "Epoch 100/100\n",
            "1/1 [==============================] - 0s 13ms/step - loss: 9.9076 - mae: 9.9076\n"
          ]
        },
        {
          "output_type": "execute_result",
          "data": {
            "text/plain": [
              "<keras.src.callbacks.History at 0x7a6c7ca6b9d0>"
            ]
          },
          "metadata": {},
          "execution_count": 17
        }
      ]
    },
    {
      "cell_type": "code",
      "source": [
        "# Try make prediction\n",
        "model2.predict([17.0])"
      ],
      "metadata": {
        "colab": {
          "base_uri": "https://localhost:8080/"
        },
        "id": "QeWEo95_J5Gg",
        "outputId": "001bd063-1e43-45ff-ea60-7f23f45bb5f5"
      },
      "execution_count": 18,
      "outputs": [
        {
          "output_type": "stream",
          "name": "stdout",
          "text": [
            "1/1 [==============================] - 0s 199ms/step\n"
          ]
        },
        {
          "output_type": "execute_result",
          "data": {
            "text/plain": [
              "array([[17.085154]], dtype=float32)"
            ]
          },
          "metadata": {},
          "execution_count": 18
        }
      ]
    },
    {
      "cell_type": "code",
      "source": [
        "# re-write the model\n",
        "\n",
        "# 1. Create the model (with 100 hidden units )\n",
        "model3 = tf.keras.Sequential([\n",
        "    tf.keras.layers.Dense(50, activation=None),\n",
        "    tf.keras.layers.Dense(1)\n",
        "])\n",
        "\n",
        "# 2. Compile the model\n",
        "model3.compile(loss = \"mae\",\n",
        "              optimizer = tf.keras.optimizers.Adam(learning_rate = 0.01),\n",
        "              metrics = [\"mae\"])\n",
        "\n",
        "# 3. Fit the model\n",
        "# model.fit(X, Y, epochs=5) # BREAK IN UPDATED TENSOR VERSION\n",
        "model3.fit(tf.expand_dims(X, axis=-1), Y, epochs=100)"
      ],
      "metadata": {
        "colab": {
          "base_uri": "https://localhost:8080/"
        },
        "id": "KI1XF166hgOa",
        "outputId": "e43c794f-6c71-4e59-dd1c-2d911a0d0025"
      },
      "execution_count": 19,
      "outputs": [
        {
          "output_type": "stream",
          "name": "stdout",
          "text": [
            "Epoch 1/100\n",
            "1/1 [==============================] - 3s 3s/step - loss: 14.7605 - mae: 14.7605\n",
            "Epoch 2/100\n",
            "1/1 [==============================] - 0s 44ms/step - loss: 14.0371 - mae: 14.0371\n",
            "Epoch 3/100\n",
            "1/1 [==============================] - 0s 22ms/step - loss: 13.3179 - mae: 13.3179\n",
            "Epoch 4/100\n",
            "1/1 [==============================] - 0s 16ms/step - loss: 12.5989 - mae: 12.5989\n",
            "Epoch 5/100\n",
            "1/1 [==============================] - 0s 25ms/step - loss: 11.8776 - mae: 11.8776\n",
            "Epoch 6/100\n",
            "1/1 [==============================] - 0s 41ms/step - loss: 11.1526 - mae: 11.1526\n",
            "Epoch 7/100\n",
            "1/1 [==============================] - 0s 39ms/step - loss: 10.4223 - mae: 10.4223\n",
            "Epoch 8/100\n",
            "1/1 [==============================] - 0s 21ms/step - loss: 9.6849 - mae: 9.6849\n",
            "Epoch 9/100\n",
            "1/1 [==============================] - 0s 21ms/step - loss: 8.9377 - mae: 8.9377\n",
            "Epoch 10/100\n",
            "1/1 [==============================] - 0s 34ms/step - loss: 8.1781 - mae: 8.1781\n",
            "Epoch 11/100\n",
            "1/1 [==============================] - 0s 42ms/step - loss: 7.4032 - mae: 7.4032\n",
            "Epoch 12/100\n",
            "1/1 [==============================] - 0s 32ms/step - loss: 6.6693 - mae: 6.6693\n",
            "Epoch 13/100\n",
            "1/1 [==============================] - 0s 31ms/step - loss: 6.6693 - mae: 6.6693\n",
            "Epoch 14/100\n",
            "1/1 [==============================] - 0s 19ms/step - loss: 6.9743 - mae: 6.9743\n",
            "Epoch 15/100\n",
            "1/1 [==============================] - 0s 37ms/step - loss: 7.1690 - mae: 7.1690\n",
            "Epoch 16/100\n",
            "1/1 [==============================] - 0s 23ms/step - loss: 7.3673 - mae: 7.3673\n",
            "Epoch 17/100\n",
            "1/1 [==============================] - 0s 22ms/step - loss: 7.3715 - mae: 7.3715\n",
            "Epoch 18/100\n",
            "1/1 [==============================] - 0s 19ms/step - loss: 7.2026 - mae: 7.2026\n",
            "Epoch 19/100\n",
            "1/1 [==============================] - 0s 26ms/step - loss: 6.9151 - mae: 6.9151\n",
            "Epoch 20/100\n",
            "1/1 [==============================] - 0s 22ms/step - loss: 6.6888 - mae: 6.6888\n",
            "Epoch 21/100\n",
            "1/1 [==============================] - 0s 18ms/step - loss: 6.4397 - mae: 6.4397\n",
            "Epoch 22/100\n",
            "1/1 [==============================] - 0s 24ms/step - loss: 6.1727 - mae: 6.1727\n",
            "Epoch 23/100\n",
            "1/1 [==============================] - 0s 26ms/step - loss: 5.9796 - mae: 5.9796\n",
            "Epoch 24/100\n",
            "1/1 [==============================] - 0s 25ms/step - loss: 5.9326 - mae: 5.9326\n",
            "Epoch 25/100\n",
            "1/1 [==============================] - 0s 25ms/step - loss: 5.9475 - mae: 5.9475\n",
            "Epoch 26/100\n",
            "1/1 [==============================] - 0s 23ms/step - loss: 6.0071 - mae: 6.0071\n",
            "Epoch 27/100\n",
            "1/1 [==============================] - 0s 18ms/step - loss: 5.9636 - mae: 5.9636\n",
            "Epoch 28/100\n",
            "1/1 [==============================] - 0s 44ms/step - loss: 5.8298 - mae: 5.8298\n",
            "Epoch 29/100\n",
            "1/1 [==============================] - 0s 34ms/step - loss: 5.6148 - mae: 5.6148\n",
            "Epoch 30/100\n",
            "1/1 [==============================] - 0s 19ms/step - loss: 5.4677 - mae: 5.4677\n",
            "Epoch 31/100\n",
            "1/1 [==============================] - 0s 25ms/step - loss: 5.3628 - mae: 5.3628\n",
            "Epoch 32/100\n",
            "1/1 [==============================] - 0s 20ms/step - loss: 5.2715 - mae: 5.2715\n",
            "Epoch 33/100\n",
            "1/1 [==============================] - 0s 36ms/step - loss: 5.2607 - mae: 5.2607\n",
            "Epoch 34/100\n",
            "1/1 [==============================] - 0s 43ms/step - loss: 5.2055 - mae: 5.2055\n",
            "Epoch 35/100\n",
            "1/1 [==============================] - 0s 27ms/step - loss: 5.1093 - mae: 5.1093\n",
            "Epoch 36/100\n",
            "1/1 [==============================] - 0s 27ms/step - loss: 4.9758 - mae: 4.9758\n",
            "Epoch 37/100\n",
            "1/1 [==============================] - 0s 52ms/step - loss: 4.8083 - mae: 4.8083\n",
            "Epoch 38/100\n",
            "1/1 [==============================] - 0s 27ms/step - loss: 4.6886 - mae: 4.6886\n",
            "Epoch 39/100\n",
            "1/1 [==============================] - 0s 19ms/step - loss: 4.5957 - mae: 4.5957\n",
            "Epoch 40/100\n",
            "1/1 [==============================] - 0s 23ms/step - loss: 4.4959 - mae: 4.4959\n",
            "Epoch 41/100\n",
            "1/1 [==============================] - 0s 23ms/step - loss: 4.3891 - mae: 4.3891\n",
            "Epoch 42/100\n",
            "1/1 [==============================] - 0s 22ms/step - loss: 4.3416 - mae: 4.3416\n",
            "Epoch 43/100\n",
            "1/1 [==============================] - 0s 34ms/step - loss: 4.1792 - mae: 4.1792\n",
            "Epoch 44/100\n",
            "1/1 [==============================] - 0s 25ms/step - loss: 3.9972 - mae: 3.9972\n",
            "Epoch 45/100\n",
            "1/1 [==============================] - 0s 23ms/step - loss: 3.8439 - mae: 3.8439\n",
            "Epoch 46/100\n",
            "1/1 [==============================] - 0s 28ms/step - loss: 3.6914 - mae: 3.6914\n",
            "Epoch 47/100\n",
            "1/1 [==============================] - 0s 33ms/step - loss: 3.5903 - mae: 3.5903\n",
            "Epoch 48/100\n",
            "1/1 [==============================] - 0s 24ms/step - loss: 3.4386 - mae: 3.4386\n",
            "Epoch 49/100\n",
            "1/1 [==============================] - 0s 23ms/step - loss: 3.2389 - mae: 3.2389\n",
            "Epoch 50/100\n",
            "1/1 [==============================] - 0s 20ms/step - loss: 3.0796 - mae: 3.0796\n",
            "Epoch 51/100\n",
            "1/1 [==============================] - 0s 39ms/step - loss: 2.9218 - mae: 2.9218\n",
            "Epoch 52/100\n",
            "1/1 [==============================] - 0s 52ms/step - loss: 2.7933 - mae: 2.7933\n",
            "Epoch 53/100\n",
            "1/1 [==============================] - 0s 21ms/step - loss: 2.5707 - mae: 2.5707\n",
            "Epoch 54/100\n",
            "1/1 [==============================] - 0s 15ms/step - loss: 2.3517 - mae: 2.3517\n",
            "Epoch 55/100\n",
            "1/1 [==============================] - 0s 17ms/step - loss: 2.2097 - mae: 2.2097\n",
            "Epoch 56/100\n",
            "1/1 [==============================] - 0s 18ms/step - loss: 2.0569 - mae: 2.0569\n",
            "Epoch 57/100\n",
            "1/1 [==============================] - 0s 24ms/step - loss: 1.8399 - mae: 1.8399\n",
            "Epoch 58/100\n",
            "1/1 [==============================] - 0s 11ms/step - loss: 1.5618 - mae: 1.5618\n",
            "Epoch 59/100\n",
            "1/1 [==============================] - 0s 32ms/step - loss: 1.2737 - mae: 1.2737\n",
            "Epoch 60/100\n",
            "1/1 [==============================] - 0s 20ms/step - loss: 1.1453 - mae: 1.1453\n",
            "Epoch 61/100\n",
            "1/1 [==============================] - 0s 18ms/step - loss: 0.8883 - mae: 0.8883\n",
            "Epoch 62/100\n",
            "1/1 [==============================] - 0s 12ms/step - loss: 0.5227 - mae: 0.5227\n",
            "Epoch 63/100\n",
            "1/1 [==============================] - 0s 11ms/step - loss: 0.3243 - mae: 0.3243\n",
            "Epoch 64/100\n",
            "1/1 [==============================] - 0s 32ms/step - loss: 0.0556 - mae: 0.0556\n",
            "Epoch 65/100\n",
            "1/1 [==============================] - 0s 23ms/step - loss: 0.3464 - mae: 0.3464\n",
            "Epoch 66/100\n",
            "1/1 [==============================] - 0s 19ms/step - loss: 0.4590 - mae: 0.4590\n",
            "Epoch 67/100\n",
            "1/1 [==============================] - 0s 19ms/step - loss: 0.6242 - mae: 0.6242\n",
            "Epoch 68/100\n",
            "1/1 [==============================] - 0s 23ms/step - loss: 0.6913 - mae: 0.6913\n",
            "Epoch 69/100\n",
            "1/1 [==============================] - 0s 24ms/step - loss: 0.6432 - mae: 0.6432\n",
            "Epoch 70/100\n",
            "1/1 [==============================] - 0s 36ms/step - loss: 0.7537 - mae: 0.7537\n",
            "Epoch 71/100\n",
            "1/1 [==============================] - 0s 32ms/step - loss: 0.6725 - mae: 0.6725\n",
            "Epoch 72/100\n",
            "1/1 [==============================] - 0s 28ms/step - loss: 0.5502 - mae: 0.5502\n",
            "Epoch 73/100\n",
            "1/1 [==============================] - 0s 31ms/step - loss: 0.5419 - mae: 0.5419\n",
            "Epoch 74/100\n",
            "1/1 [==============================] - 0s 29ms/step - loss: 0.3447 - mae: 0.3447\n",
            "Epoch 75/100\n",
            "1/1 [==============================] - 0s 21ms/step - loss: 0.3213 - mae: 0.3213\n",
            "Epoch 76/100\n",
            "1/1 [==============================] - 0s 26ms/step - loss: 0.3439 - mae: 0.3439\n",
            "Epoch 77/100\n",
            "1/1 [==============================] - 0s 25ms/step - loss: 0.1525 - mae: 0.1525\n",
            "Epoch 78/100\n",
            "1/1 [==============================] - 0s 21ms/step - loss: 0.4324 - mae: 0.4324\n",
            "Epoch 79/100\n",
            "1/1 [==============================] - 0s 25ms/step - loss: 0.6076 - mae: 0.6076\n",
            "Epoch 80/100\n",
            "1/1 [==============================] - 0s 22ms/step - loss: 0.6045 - mae: 0.6045\n",
            "Epoch 81/100\n",
            "1/1 [==============================] - 0s 26ms/step - loss: 0.4440 - mae: 0.4440\n",
            "Epoch 82/100\n",
            "1/1 [==============================] - 0s 23ms/step - loss: 0.2646 - mae: 0.2646\n",
            "Epoch 83/100\n",
            "1/1 [==============================] - 0s 24ms/step - loss: 0.3427 - mae: 0.3427\n",
            "Epoch 84/100\n",
            "1/1 [==============================] - 0s 27ms/step - loss: 0.1609 - mae: 0.1609\n",
            "Epoch 85/100\n",
            "1/1 [==============================] - 0s 27ms/step - loss: 0.2985 - mae: 0.2985\n",
            "Epoch 86/100\n",
            "1/1 [==============================] - 0s 28ms/step - loss: 0.3794 - mae: 0.3794\n",
            "Epoch 87/100\n",
            "1/1 [==============================] - 0s 36ms/step - loss: 0.1620 - mae: 0.1620\n",
            "Epoch 88/100\n",
            "1/1 [==============================] - 0s 34ms/step - loss: 0.3503 - mae: 0.3503\n",
            "Epoch 89/100\n",
            "1/1 [==============================] - 0s 30ms/step - loss: 0.4588 - mae: 0.4588\n",
            "Epoch 90/100\n",
            "1/1 [==============================] - 0s 25ms/step - loss: 0.3185 - mae: 0.3185\n",
            "Epoch 91/100\n",
            "1/1 [==============================] - 0s 22ms/step - loss: 0.1363 - mae: 0.1363\n",
            "Epoch 92/100\n",
            "1/1 [==============================] - 0s 19ms/step - loss: 0.1960 - mae: 0.1960\n",
            "Epoch 93/100\n",
            "1/1 [==============================] - 0s 24ms/step - loss: 0.0240 - mae: 0.0240\n",
            "Epoch 94/100\n",
            "1/1 [==============================] - 0s 26ms/step - loss: 0.0873 - mae: 0.0873\n",
            "Epoch 95/100\n",
            "1/1 [==============================] - 0s 23ms/step - loss: 0.0430 - mae: 0.0430\n",
            "Epoch 96/100\n",
            "1/1 [==============================] - 0s 26ms/step - loss: 0.0132 - mae: 0.0132\n",
            "Epoch 97/100\n",
            "1/1 [==============================] - 0s 26ms/step - loss: 0.1654 - mae: 0.1654\n",
            "Epoch 98/100\n",
            "1/1 [==============================] - 0s 27ms/step - loss: 0.1114 - mae: 0.1114\n",
            "Epoch 99/100\n",
            "1/1 [==============================] - 0s 28ms/step - loss: 0.2898 - mae: 0.2898\n",
            "Epoch 100/100\n",
            "1/1 [==============================] - 0s 27ms/step - loss: 0.3019 - mae: 0.3019\n"
          ]
        },
        {
          "output_type": "execute_result",
          "data": {
            "text/plain": [
              "<keras.src.callbacks.History at 0x7a6c7c971f90>"
            ]
          },
          "metadata": {},
          "execution_count": 19
        }
      ]
    },
    {
      "cell_type": "code",
      "source": [
        "# Try make prediction\n",
        "model3.predict([17.0])"
      ],
      "metadata": {
        "colab": {
          "base_uri": "https://localhost:8080/"
        },
        "id": "iZcXS1vmiusq",
        "outputId": "97912327-48f2-476e-e4a4-6dd637c53412"
      },
      "execution_count": 20,
      "outputs": [
        {
          "output_type": "stream",
          "name": "stdout",
          "text": [
            "1/1 [==============================] - 0s 292ms/step\n"
          ]
        },
        {
          "output_type": "execute_result",
          "data": {
            "text/plain": [
              "array([[26.927517]], dtype=float32)"
            ]
          },
          "metadata": {},
          "execution_count": 20
        }
      ]
    },
    {
      "cell_type": "markdown",
      "source": [
        "## Evaluating Model\n",
        "\n",
        "Build a model -> fit it -> evaluate it -> tweak a model -> fit it -> evaluate it...\n",
        "\n",
        "Evaluation = visualize\n",
        "\n",
        "it's good idea to visualize :\n",
        "* The data - what data we working with? what does it look like?\n",
        "* The model = what does our model look like?\n",
        "* The training of a model - how does a model perform while it learns?\n",
        "* The predictions of the model - how do the predictions of a model line up against the ground truth (the origin label)"
      ],
      "metadata": {
        "id": "ggu1CbXFlSbl"
      }
    },
    {
      "cell_type": "code",
      "source": [
        "# Make a bigger dataset\n",
        "\n",
        "x = tf.range(-100, 100, 4)\n",
        "x"
      ],
      "metadata": {
        "colab": {
          "base_uri": "https://localhost:8080/"
        },
        "id": "O5yDk0J9lV5n",
        "outputId": "c66da652-4027-43f3-e423-820286d5b8d8"
      },
      "execution_count": 21,
      "outputs": [
        {
          "output_type": "execute_result",
          "data": {
            "text/plain": [
              "<tf.Tensor: shape=(50,), dtype=int32, numpy=\n",
              "array([-100,  -96,  -92,  -88,  -84,  -80,  -76,  -72,  -68,  -64,  -60,\n",
              "        -56,  -52,  -48,  -44,  -40,  -36,  -32,  -28,  -24,  -20,  -16,\n",
              "        -12,   -8,   -4,    0,    4,    8,   12,   16,   20,   24,   28,\n",
              "         32,   36,   40,   44,   48,   52,   56,   60,   64,   68,   72,\n",
              "         76,   80,   84,   88,   92,   96], dtype=int32)>"
            ]
          },
          "metadata": {},
          "execution_count": 21
        }
      ]
    },
    {
      "cell_type": "code",
      "source": [
        "# Make labels for the dataset\n",
        "\n",
        "y = x + 10\n",
        "y"
      ],
      "metadata": {
        "colab": {
          "base_uri": "https://localhost:8080/"
        },
        "id": "_VnV5iodqYP8",
        "outputId": "5db791f2-f453-4548-8425-038b371d9845"
      },
      "execution_count": 22,
      "outputs": [
        {
          "output_type": "execute_result",
          "data": {
            "text/plain": [
              "<tf.Tensor: shape=(50,), dtype=int32, numpy=\n",
              "array([-90, -86, -82, -78, -74, -70, -66, -62, -58, -54, -50, -46, -42,\n",
              "       -38, -34, -30, -26, -22, -18, -14, -10,  -6,  -2,   2,   6,  10,\n",
              "        14,  18,  22,  26,  30,  34,  38,  42,  46,  50,  54,  58,  62,\n",
              "        66,  70,  74,  78,  82,  86,  90,  94,  98, 102, 106], dtype=int32)>"
            ]
          },
          "metadata": {},
          "execution_count": 22
        }
      ]
    },
    {
      "cell_type": "code",
      "source": [
        "# Visualize the data\n",
        "\n",
        "import matplotlib.pyplot as plt\n",
        "\n",
        "plt.scatter(x, y)"
      ],
      "metadata": {
        "colab": {
          "base_uri": "https://localhost:8080/",
          "height": 447
        },
        "id": "wqnieOnpqiby",
        "outputId": "b6725d76-9ee0-42d8-f8ad-5d6aa6f90e84"
      },
      "execution_count": 23,
      "outputs": [
        {
          "output_type": "execute_result",
          "data": {
            "text/plain": [
              "<matplotlib.collections.PathCollection at 0x7a6c7c8ae4d0>"
            ]
          },
          "metadata": {},
          "execution_count": 23
        },
        {
          "output_type": "display_data",
          "data": {
            "text/plain": [
              "<Figure size 640x480 with 1 Axes>"
            ],
            "image/png": "[encoded data removed]"
          },
          "metadata": {}
        }
      ]
    },
    {
      "cell_type": "markdown",
      "source": [
        "### The 3 sets\n",
        "\n",
        "* **Training set** - the model learn from this data, 70-80%\n",
        "* **Validation set** - set model gets tuned on this data, 10-15%\n",
        "* **Test set** - the model gets evaluated on this data, 10-15%"
      ],
      "metadata": {
        "id": "CCtd3h36q0Xk"
      }
    },
    {
      "cell_type": "code",
      "source": [
        "# Check the length of the data\n",
        "len(x)"
      ],
      "metadata": {
        "colab": {
          "base_uri": "https://localhost:8080/"
        },
        "id": "2_ITjQWjFQsM",
        "outputId": "541e8e84-b1b7-4fd6-8494-fe74d598cf30"
      },
      "execution_count": 24,
      "outputs": [
        {
          "output_type": "execute_result",
          "data": {
            "text/plain": [
              "50"
            ]
          },
          "metadata": {},
          "execution_count": 24
        }
      ]
    },
    {
      "cell_type": "code",
      "source": [
        "# Split the data into train and test sets\n",
        "x_train = x[:40] # first to 40 data will be the training sample\n",
        "y_train = y[:40]\n",
        "\n",
        "x_test = x[40:] # 20% will be test\n",
        "y_test = y[40:]\n",
        "\n",
        "len(x_train), len(x_test), len(y_train), len(y_test)"
      ],
      "metadata": {
        "colab": {
          "base_uri": "https://localhost:8080/"
        },
        "id": "4fkIFEl_HAu3",
        "outputId": "16f1f47c-1550-4486-c021-dff8e1426621"
      },
      "execution_count": 25,
      "outputs": [
        {
          "output_type": "execute_result",
          "data": {
            "text/plain": [
              "(40, 10, 40, 10)"
            ]
          },
          "metadata": {},
          "execution_count": 25
        }
      ]
    },
    {
      "cell_type": "markdown",
      "source": [
        "### Visualing the data\n",
        "\n",
        "Now we've got out data in training and test sets...lets visualize it"
      ],
      "metadata": {
        "id": "9WJ9AtA0KgLL"
      }
    },
    {
      "cell_type": "code",
      "source": [
        "plt.figure(figsize=(10,7))\n",
        "\n",
        "# Plot training data in blue\n",
        "plt.scatter(x_train, y_train, c=\"b\", label=\"Training data\")\n",
        "\n",
        "# Plot test data in green\n",
        "plt.scatter(x_test, y_test, c=\"g\", label=\"Testing data\")\n",
        "\n",
        "# Show a legend\n",
        "plt.legend();"
      ],
      "metadata": {
        "colab": {
          "base_uri": "https://localhost:8080/",
          "height": 599
        },
        "id": "OQGu_de6G_li",
        "outputId": "cc4b558a-60de-4f00-d69b-b0ecf6519303"
      },
      "execution_count": 26,
      "outputs": [
        {
          "output_type": "display_data",
          "data": {
            "text/plain": [
              "<Figure size 1000x700 with 1 Axes>"
            ],
            "image/png": "[encoded data removed]"
          },
          "metadata": {}
        }
      ]
    },
    {
      "cell_type": "code",
      "source": [
        "# Lets have a look at how to build a neural network for our data\n",
        "\n",
        "# 1. Create the model\n",
        "model = tf.keras.Sequential([\n",
        "    tf.keras.layers.Dense(1)\n",
        "])\n",
        "\n",
        "# 2. Compile the model\n",
        "model.compile(loss = tf.keras.losses.mae,\n",
        "              optimizer = tf.keras.optimizers.SGD(),\n",
        "              metrics = [\"mae\"])\n",
        "\n",
        "# 3. Fit the model\n",
        "#model.fit(tf.expand_dims(x_train, axis=-1), y_train, epochs=100)"
      ],
      "metadata": {
        "id": "TtdWZXKHSSN-"
      },
      "execution_count": 27,
      "outputs": []
    },
    {
      "cell_type": "markdown",
      "source": [
        "### Visualizing the model"
      ],
      "metadata": {
        "id": "F7d7P08yTScA"
      }
    },
    {
      "cell_type": "code",
      "source": [
        "# Lets create  model wich builds automatically by defining the input_shape arguments\n",
        "\n",
        "tf.random.set_seed(42)\n",
        "\n",
        "# 1. Create the model\n",
        "model = tf.keras.Sequential([\n",
        "    tf.keras.layers.Dense(100, input_shape=[1], name=\"input_layer\"),\n",
        "    tf.keras.layers.Dense(1, name=\"output_layer\")\n",
        "], name=\"model_one\")\n",
        "\n",
        "# 2. Compile the model\n",
        "model.compile(loss = tf.keras.losses.mae,\n",
        "              optimizer = tf.keras.optimizers.SGD(),\n",
        "              metrics = [\"mae\"])"
      ],
      "metadata": {
        "id": "MpSA6LxwTzZK"
      },
      "execution_count": 53,
      "outputs": []
    },
    {
      "cell_type": "code",
      "source": [
        "model.summary()"
      ],
      "metadata": {
        "colab": {
          "base_uri": "https://localhost:8080/"
        },
        "id": "-jMC9-6WUyLw",
        "outputId": "1e4ca2c3-1ba4-427f-e706-279dc6ae4487"
      },
      "execution_count": 54,
      "outputs": [
        {
          "output_type": "stream",
          "name": "stdout",
          "text": [
            "Model: \"model_one\"\n",
            "_________________________________________________________________\n",
            " Layer (type)                Output Shape              Param #   \n",
            "=================================================================\n",
            " input_layer (Dense)         (None, 100)               200       \n",
            "                                                                 \n",
            " output_layer (Dense)        (None, 1)                 101       \n",
            "                                                                 \n",
            "=================================================================\n",
            "Total params: 301 (1.18 KB)\n",
            "Trainable params: 301 (1.18 KB)\n",
            "Non-trainable params: 0 (0.00 Byte)\n",
            "_________________________________________________________________\n"
          ]
        }
      ]
    },
    {
      "cell_type": "markdown",
      "source": [
        "* Total params - total number of parameters that we have\n",
        "\n",
        "* Trainable parameters - the parameters (patterns) the model can update as it trains\n",
        "\n",
        "* Non-trainable params - parameters cant updated during training (allready learn in models during **transfer learning**)\n",
        "\n",
        "📚 **Resource** : For a more in depth overview of the trainable parameters within a layer, check ouy MIT's intorduction to deep learning video\n",
        "\n",
        "⚡**Exercise :** Try playing around with the number of hidden units in the dense layer, see how that effect the number of parameters"
      ],
      "metadata": {
        "id": "fkeG27Fm3_t1"
      }
    },
    {
      "cell_type": "code",
      "source": [
        "# 3. Fit the model\n",
        "model.fit(tf.expand_dims(x_train, axis=-1), y_train, epochs=60, verbose=0)"
      ],
      "metadata": {
        "colab": {
          "base_uri": "https://localhost:8080/"
        },
        "id": "e-cgkHtW6914",
        "outputId": "385d9205-fc58-4744-ad97-3b7c8ec0e037"
      },
      "execution_count": 55,
      "outputs": [
        {
          "output_type": "execute_result",
          "data": {
            "text/plain": [
              "<keras.src.callbacks.History at 0x7a6c80db1b70>"
            ]
          },
          "metadata": {},
          "execution_count": 55
        }
      ]
    },
    {
      "cell_type": "code",
      "source": [
        "# Get a summary of our model\n",
        "model.summary()"
      ],
      "metadata": {
        "colab": {
          "base_uri": "https://localhost:8080/"
        },
        "id": "IYam8Kl-M2o7",
        "outputId": "43fecd0b-1177-451a-f6af-95ab68fd3b27"
      },
      "execution_count": 56,
      "outputs": [
        {
          "output_type": "stream",
          "name": "stdout",
          "text": [
            "Model: \"model_one\"\n",
            "_________________________________________________________________\n",
            " Layer (type)                Output Shape              Param #   \n",
            "=================================================================\n",
            " input_layer (Dense)         (None, 100)               200       \n",
            "                                                                 \n",
            " output_layer (Dense)        (None, 1)                 101       \n",
            "                                                                 \n",
            "=================================================================\n",
            "Total params: 301 (1.18 KB)\n",
            "Trainable params: 301 (1.18 KB)\n",
            "Non-trainable params: 0 (0.00 Byte)\n",
            "_________________________________________________________________\n"
          ]
        }
      ]
    },
    {
      "cell_type": "code",
      "source": [
        "from tensorflow.keras.utils import plot_model\n",
        "\n",
        "plot_model(model=model, show_shapes=True)"
      ],
      "metadata": {
        "colab": {
          "base_uri": "https://localhost:8080/",
          "height": 312
        },
        "id": "EMxErQE0NVSc",
        "outputId": "3a560129-86d6-4310-adb1-3eca3a3701ba"
      },
      "execution_count": 32,
      "outputs": [
        {
          "output_type": "execute_result",
          "data": {
            "image/png": "[encoded data removed]",
            "text/plain": [
              "<IPython.core.display.Image object>"
            ]
          },
          "metadata": {},
          "execution_count": 32
        }
      ]
    },
    {
      "cell_type": "markdown",
      "source": [
        "### Visualizing our models predictions\n",
        "\n",
        "To visualize predictions, it's a good idea to plot them against the ground truth labels.\n",
        "\n",
        "Often you'll see this in the form of 'y_test' or 'y_true' versus 'y_pred' (ground truth versus your model prediction)"
      ],
      "metadata": {
        "id": "XXOFpjXFOyH9"
      }
    },
    {
      "cell_type": "code",
      "source": [
        "# Make some predictions\n",
        "\n",
        "y_pred = model.predict(x_test)\n",
        "y_pred"
      ],
      "metadata": {
        "colab": {
          "base_uri": "https://localhost:8080/"
        },
        "id": "943XbXEayJf3",
        "outputId": "9f7bd292-7d70-49f1-cc7e-f38bf44536cd"
      },
      "execution_count": 57,
      "outputs": [
        {
          "output_type": "stream",
          "name": "stdout",
          "text": [
            "1/1 [==============================] - 0s 67ms/step\n"
          ]
        },
        {
          "output_type": "execute_result",
          "data": {
            "text/plain": [
              "array([[ 71.13697 ],\n",
              "       [ 75.81197 ],\n",
              "       [ 80.48698 ],\n",
              "       [ 85.161995],\n",
              "       [ 89.83699 ],\n",
              "       [ 94.51201 ],\n",
              "       [ 99.18701 ],\n",
              "       [103.862015],\n",
              "       [108.537025],\n",
              "       [113.212036]], dtype=float32)"
            ]
          },
          "metadata": {},
          "execution_count": 57
        }
      ]
    },
    {
      "cell_type": "code",
      "source": [
        "y_test"
      ],
      "metadata": {
        "colab": {
          "base_uri": "https://localhost:8080/"
        },
        "id": "Ke-R5lq9zVa3",
        "outputId": "59dc5c26-0f10-4282-fec2-d0971f9291bc"
      },
      "execution_count": 58,
      "outputs": [
        {
          "output_type": "execute_result",
          "data": {
            "text/plain": [
              "<tf.Tensor: shape=(10,), dtype=int32, numpy=array([ 70,  74,  78,  82,  86,  90,  94,  98, 102, 106], dtype=int32)>"
            ]
          },
          "metadata": {},
          "execution_count": 58
        }
      ]
    },
    {
      "cell_type": "markdown",
      "source": [
        "🔑 **Note : ** if you feel like you're going to reuse some functionality in the future, its good idea to turn it into a fucntion"
      ],
      "metadata": {
        "id": "nSO6jWAR09Jt"
      }
    },
    {
      "cell_type": "code",
      "source": [
        "# Lets create a plotting function\n",
        "\n",
        "def plot_predictions(train_data=x_train,\n",
        "                     train_labels=y_train,\n",
        "                     test_data=x_test,\n",
        "                     test_labels=y_test,\n",
        "                     predictions=y_pred):\n",
        "  \"\"\"\n",
        "  Plots training data, test data and compares predictions to ground truth labels\n",
        "  \"\"\"\n",
        "  plt.figure(figsize=(10,7))\n",
        "  # Plot training data in blue\n",
        "  plt.scatter(train_data, train_labels, c=\"b\", label=\"Training data\")\n",
        "\n",
        "  # Plot testing data in green\n",
        "  plt.scatter(test_data, test_labels, c=\"g\", label=\"Test data\")\n",
        "\n",
        "  # Plot models predictions in red\n",
        "  plt.scatter(test_data, predictions, c=\"r\", label=\"Predictions\")\n",
        "\n",
        "  # Show the legend\n",
        "  plt.legend();\n",
        "\n"
      ],
      "metadata": {
        "id": "Wt-qJvPk1MAh"
      },
      "execution_count": 59,
      "outputs": []
    },
    {
      "cell_type": "code",
      "source": [
        "plot_predictions()"
      ],
      "metadata": {
        "colab": {
          "base_uri": "https://localhost:8080/",
          "height": 599
        },
        "id": "7ZFYZPV5200S",
        "outputId": "0da11ef9-b071-46ad-f88c-41a38b6e0714"
      },
      "execution_count": 60,
      "outputs": [
        {
          "output_type": "display_data",
          "data": {
            "text/plain": [
              "<Figure size 1000x700 with 1 Axes>"
            ],
            "image/png": "[encoded data removed]"
          },
          "metadata": {}
        }
      ]
    },
    {
      "cell_type": "markdown",
      "source": [
        "### Evaluating our models predictions with regression evaluation metrics\n",
        "\n",
        "The evaluation metrics is depending to the model we working on\n",
        "\n",
        "since we're working on a regression, two of the main matrics:\n",
        "* MAE - mean absolute error, \"on average, how wrong is each of my model predictions\"\n",
        "\n",
        "* MSE - mean square error, \"square the average errors\""
      ],
      "metadata": {
        "id": "xWQ92ZRr4V_K"
      }
    },
    {
      "cell_type": "code",
      "source": [
        " # Evaluate the model on the test\n",
        " model.evaluate(x_test, y_test)"
      ],
      "metadata": {
        "id": "y3-bYOHr0p-A",
        "colab": {
          "base_uri": "https://localhost:8080/"
        },
        "outputId": "bf4e6f3b-d1c2-4796-8aa4-2d39cd77df4d"
      },
      "execution_count": 61,
      "outputs": [
        {
          "output_type": "stream",
          "name": "stdout",
          "text": [
            "1/1 [==============================] - 0s 124ms/step - loss: 4.1745 - mae: 4.1745\n"
          ]
        },
        {
          "output_type": "execute_result",
          "data": {
            "text/plain": [
              "[4.174497127532959, 4.174497127532959]"
            ]
          },
          "metadata": {},
          "execution_count": 61
        }
      ]
    },
    {
      "cell_type": "code",
      "source": [
        "# Calculate the mean absolute error\n",
        "val_mae = model.evaluate(x_test, y_test, verbose=0)\n",
        "val_mae"
      ],
      "metadata": {
        "colab": {
          "base_uri": "https://localhost:8080/"
        },
        "id": "bAwZ_yTfPV4C",
        "outputId": "d488b36b-948d-4c57-ed69-f865a023c6f3"
      },
      "execution_count": 62,
      "outputs": [
        {
          "output_type": "execute_result",
          "data": {
            "text/plain": [
              "[4.174497127532959, 4.174497127532959]"
            ]
          },
          "metadata": {},
          "execution_count": 62
        }
      ]
    },
    {
      "cell_type": "code",
      "source": [
        "y_pred"
      ],
      "metadata": {
        "colab": {
          "base_uri": "https://localhost:8080/"
        },
        "id": "v6CpJX1IPiwj",
        "outputId": "b5fdff16-31f6-472a-9ae2-f80285212e2c"
      },
      "execution_count": 43,
      "outputs": [
        {
          "output_type": "execute_result",
          "data": {
            "text/plain": [
              "array([[57.453957],\n",
              "       [61.242134],\n",
              "       [65.03031 ],\n",
              "       [68.81848 ],\n",
              "       [72.60667 ],\n",
              "       [76.394844],\n",
              "       [80.18301 ],\n",
              "       [83.9712  ],\n",
              "       [87.75937 ],\n",
              "       [91.54754 ]], dtype=float32)"
            ]
          },
          "metadata": {},
          "execution_count": 43
        }
      ]
    },
    {
      "cell_type": "code",
      "source": [
        "y_test"
      ],
      "metadata": {
        "colab": {
          "base_uri": "https://localhost:8080/"
        },
        "id": "JusnDI5oPlKR",
        "outputId": "18f8a5b8-0e7d-49d3-9f21-570a4a6c5ab4"
      },
      "execution_count": 44,
      "outputs": [
        {
          "output_type": "execute_result",
          "data": {
            "text/plain": [
              "<tf.Tensor: shape=(10,), dtype=int32, numpy=array([ 70,  74,  78,  82,  86,  90,  94,  98, 102, 106], dtype=int32)>"
            ]
          },
          "metadata": {},
          "execution_count": 44
        }
      ]
    }
  ]
}