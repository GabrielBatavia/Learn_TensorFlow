{
  "nbformat": 4,
  "nbformat_minor": 0,
  "metadata": {
    "colab": {
      "provenance": [],
      "authorship_tag": "ABX9TyM8z9v6gDB2ilTG5symajD1",
      "include_colab_link": true
    },
    "kernelspec": {
      "name": "python3",
      "display_name": "Python 3"
    },
    "language_info": {
      "name": "python"
    }
  },
  "cells": [
    {
      "cell_type": "markdown",
      "metadata": {
        "id": "view-in-github",
        "colab_type": "text"
      },
      "source": [
        "<a href=\"https://colab.research.google.com/github/GabrielBatavia/Learn_TensorFlow/blob/main/01_neural_network_regression_with_tensorflow.ipynb\" target=\"_parent\"><img src=\"https://colab.research.google.com/assets/colab-badge.svg\" alt=\"Open In Colab\"/></a>"
      ]
    },
    {
      "cell_type": "markdown",
      "source": [
        "# Introduction to Regression with Neural Networks in TensorFlow\n",
        "\n",
        "There are many definition for a regression problem but in our case, we're going to simplify it : predicting a numerical variable based on some other combination of variables, even shorter...predicting a number."
      ],
      "metadata": {
        "id": "eANshE7nr2zb"
      }
    },
    {
      "cell_type": "code",
      "execution_count": 1,
      "metadata": {
        "colab": {
          "base_uri": "https://localhost:8080/"
        },
        "id": "UmVJP_eWrO59",
        "outputId": "d087d656-e5f4-4a36-c75b-4983fe26cec4"
      },
      "outputs": [
        {
          "output_type": "stream",
          "name": "stdout",
          "text": [
            "2.15.0\n"
          ]
        }
      ],
      "source": [
        "# Import TensorFlow\n",
        "\n",
        "import tensorflow as tf\n",
        "print(tf.__version__)"
      ]
    },
    {
      "cell_type": "markdown",
      "source": [
        "## Creating data to view and fit"
      ],
      "metadata": {
        "id": "vbbwMFoqskyN"
      }
    },
    {
      "cell_type": "code",
      "source": [
        "import numpy as np\n",
        "import matplotlib.pyplot as plt"
      ],
      "metadata": {
        "id": "DXOtRA60shEW"
      },
      "execution_count": 2,
      "outputs": []
    },
    {
      "cell_type": "code",
      "source": [
        "# Creating features\n",
        "\n",
        "x = np.array([-7., -4., -1., 2., 5., 8., 11., 14.])\n",
        "\n",
        "# Create labels\n",
        "y = np.array([3., 6., 9., 12., 15., 18., 21., 24.])\n",
        "\n",
        "# Visualize it\n",
        "plt.scatter(x, y);"
      ],
      "metadata": {
        "colab": {
          "base_uri": "https://localhost:8080/",
          "height": 435
        },
        "id": "SX4eHtEts4GD",
        "outputId": "dc5b42d7-d60d-4f69-d568-4f9f1af1ac50"
      },
      "execution_count": 3,
      "outputs": [
        {
          "output_type": "display_data",
          "data": {
            "text/plain": [
              "<Figure size 640x480 with 1 Axes>"
            ],
            "image/png": "[encoded data removed]"
          },
          "metadata": {}
        }
      ]
    },
    {
      "cell_type": "code",
      "source": [
        "y == x + 10"
      ],
      "metadata": {
        "id": "qaf2FE-utbQ-",
        "colab": {
          "base_uri": "https://localhost:8080/"
        },
        "outputId": "f96cd057-e8c1-4433-c0cd-5c6f965a87d4"
      },
      "execution_count": 4,
      "outputs": [
        {
          "output_type": "execute_result",
          "data": {
            "text/plain": [
              "array([ True,  True,  True,  True,  True,  True,  True,  True])"
            ]
          },
          "metadata": {},
          "execution_count": 4
        }
      ]
    },
    {
      "cell_type": "markdown",
      "source": [
        "## Input and Output shapes"
      ],
      "metadata": {
        "id": "hHex_79OxmAn"
      }
    },
    {
      "cell_type": "code",
      "source": [
        "# Create a demo tensor for out housing price prediction problem\n",
        "\n",
        "house_info = tf.constant([\"bedroom\", \"bathroom\", \"garage\"])\n",
        "house_price = tf.constant([939700])\n",
        "\n",
        "house_info, house_price"
      ],
      "metadata": {
        "colab": {
          "base_uri": "https://localhost:8080/"
        },
        "id": "EKNlltO3xrVe",
        "outputId": "b446d24f-8ae4-4610-8729-a477a157c90d"
      },
      "execution_count": 5,
      "outputs": [
        {
          "output_type": "execute_result",
          "data": {
            "text/plain": [
              "(<tf.Tensor: shape=(3,), dtype=string, numpy=array([b'bedroom', b'bathroom', b'garage'], dtype=object)>,\n",
              " <tf.Tensor: shape=(1,), dtype=int32, numpy=array([939700], dtype=int32)>)"
            ]
          },
          "metadata": {},
          "execution_count": 5
        }
      ]
    },
    {
      "cell_type": "code",
      "source": [
        "x[0], y[0]"
      ],
      "metadata": {
        "colab": {
          "base_uri": "https://localhost:8080/"
        },
        "id": "-tWt-gYSzm66",
        "outputId": "b3f865ec-f395-48ff-e2c0-f4b9eb7908db"
      },
      "execution_count": 6,
      "outputs": [
        {
          "output_type": "execute_result",
          "data": {
            "text/plain": [
              "(-7.0, 3.0)"
            ]
          },
          "metadata": {},
          "execution_count": 6
        }
      ]
    },
    {
      "cell_type": "code",
      "source": [
        "input_shape = x[0].shape\n",
        "output_shape = y[0].shape\n",
        "\n",
        "input_shape, output_shape"
      ],
      "metadata": {
        "colab": {
          "base_uri": "https://localhost:8080/"
        },
        "id": "sGSz7U-vzY4m",
        "outputId": "9c639265-5837-4bf6-ee1b-5212ead005db"
      },
      "execution_count": 7,
      "outputs": [
        {
          "output_type": "execute_result",
          "data": {
            "text/plain": [
              "((), ())"
            ]
          },
          "metadata": {},
          "execution_count": 7
        }
      ]
    },
    {
      "cell_type": "code",
      "source": [
        "x[0].ndim"
      ],
      "metadata": {
        "colab": {
          "base_uri": "https://localhost:8080/"
        },
        "id": "VCL4zHK5z8RR",
        "outputId": "e66ce1c2-338b-4d1f-a599-0f8621360abb"
      },
      "execution_count": 8,
      "outputs": [
        {
          "output_type": "execute_result",
          "data": {
            "text/plain": [
              "0"
            ]
          },
          "metadata": {},
          "execution_count": 8
        }
      ]
    },
    {
      "cell_type": "code",
      "source": [
        "# Turn our Numpy arrays into tensors with dtype 32\n",
        "\n",
        "X = tf.constant(x, dtype=tf.float32)\n",
        "Y = tf.constant(y, dtype=tf.float32)\n",
        "\n",
        "X, Y"
      ],
      "metadata": {
        "colab": {
          "base_uri": "https://localhost:8080/"
        },
        "id": "QL2Ofdwmz-sQ",
        "outputId": "67348700-3412-42e8-97ed-b61d66c63153"
      },
      "execution_count": 9,
      "outputs": [
        {
          "output_type": "execute_result",
          "data": {
            "text/plain": [
              "(<tf.Tensor: shape=(8,), dtype=float32, numpy=array([-7., -4., -1.,  2.,  5.,  8., 11., 14.], dtype=float32)>,\n",
              " <tf.Tensor: shape=(8,), dtype=float32, numpy=array([ 3.,  6.,  9., 12., 15., 18., 21., 24.], dtype=float32)>)"
            ]
          },
          "metadata": {},
          "execution_count": 9
        }
      ]
    },
    {
      "cell_type": "code",
      "source": [
        "input_shape = X[0].shape\n",
        "output_shape = y[0].shape\n",
        "\n",
        "input_shape, output_shape"
      ],
      "metadata": {
        "colab": {
          "base_uri": "https://localhost:8080/"
        },
        "id": "R6m8i44s1t3S",
        "outputId": "766e63fa-7208-4f6d-df5b-3832c9900592"
      },
      "execution_count": 10,
      "outputs": [
        {
          "output_type": "execute_result",
          "data": {
            "text/plain": [
              "(TensorShape([]), ())"
            ]
          },
          "metadata": {},
          "execution_count": 10
        }
      ]
    },
    {
      "cell_type": "markdown",
      "source": [
        "## Steps in modelling with TensorFlow\n",
        "\n",
        "1. **Creating a model** - define the input and output layers, as well as the hidden layers of a deep learning model.\n",
        "\n",
        "2. **Compiling a model** - define the loss function (in other words, the function wich tells our model how wrong it is) and the optimizer (tells our model how to improve the patterns its learning) and evaluation metrics (what we can use to interpret the preformance of our model)\n",
        "\n",
        "3. Fitting a model - letting the model try to find patters between X & y (features and labels)"
      ],
      "metadata": {
        "id": "T9heq-y318BJ"
      }
    },
    {
      "cell_type": "code",
      "source": [
        "# Opetionally, the first layer can receive an 'input_shape' argument :\n",
        "# model = tf.keras.Sequential()\n",
        "# model.add(tf.keras.layers.Dense(8, input_shape=(16,)))\n",
        "\n",
        "# Afterwards, we do automatic shape inference :\n",
        "# model.add(tf.keras.layers.Dense(4))\n",
        "\n",
        "# model = tf.keras.Sequential()\n",
        "# model.add(tf.keras.layers.Dense(1))\n",
        "# ..."
      ],
      "metadata": {
        "id": "nEAWuhvc6w4g"
      },
      "execution_count": 11,
      "outputs": []
    },
    {
      "cell_type": "code",
      "source": [
        "# Set random seed\n",
        "\n",
        "tf.random.set_seed(42)\n",
        "\n",
        "# 1. Create a model using the Sequential API\n",
        "model = tf.keras.Sequential([\n",
        "    tf.keras.layers.Dense(1)\n",
        "])\n",
        "\n",
        "# 2. Compile the model\n",
        "model.compile(loss = tf.keras.losses.mae, # mae is short for mean absolute error\n",
        "              optimizer = tf.keras.optimizers.SGD(), # sgd is short for stochasitc gradient decent\n",
        "              metrics = [\"mae\"])\n",
        "\n",
        "# 3. Fit the model\n",
        "# model.fit(X, Y, epochs=5) # BREAK IN UPDATED TENSOR VERSION\n",
        "model.fit(tf.expand_dims(X, axis=-1), Y, epochs=5)"
      ],
      "metadata": {
        "colab": {
          "base_uri": "https://localhost:8080/"
        },
        "id": "ubX_9SYR149W",
        "outputId": "a1eed5e9-a62a-4c47-8826-c7a591209e66"
      },
      "execution_count": 12,
      "outputs": [
        {
          "output_type": "stream",
          "name": "stdout",
          "text": [
            "Epoch 1/5\n",
            "1/1 [==============================] - 1s 630ms/step - loss: 12.0909 - mae: 12.0909\n",
            "Epoch 2/5\n",
            "1/1 [==============================] - 0s 13ms/step - loss: 11.9584 - mae: 11.9584\n",
            "Epoch 3/5\n",
            "1/1 [==============================] - 0s 14ms/step - loss: 11.8259 - mae: 11.8259\n",
            "Epoch 4/5\n",
            "1/1 [==============================] - 0s 15ms/step - loss: 11.6934 - mae: 11.6934\n",
            "Epoch 5/5\n",
            "1/1 [==============================] - 0s 10ms/step - loss: 11.5609 - mae: 11.5609\n"
          ]
        },
        {
          "output_type": "execute_result",
          "data": {
            "text/plain": [
              "<keras.src.callbacks.History at 0x7b08c00fb640>"
            ]
          },
          "metadata": {},
          "execution_count": 12
        }
      ]
    },
    {
      "cell_type": "code",
      "source": [
        "# Check our X and Y\n",
        "x, y"
      ],
      "metadata": {
        "colab": {
          "base_uri": "https://localhost:8080/"
        },
        "id": "1B1DsBlo9jYC",
        "outputId": "4f5367fa-ae37-45c1-e6e2-da827c9ec1ef"
      },
      "execution_count": 13,
      "outputs": [
        {
          "output_type": "execute_result",
          "data": {
            "text/plain": [
              "(array([-7., -4., -1.,  2.,  5.,  8., 11., 14.]),\n",
              " array([ 3.,  6.,  9., 12., 15., 18., 21., 24.]))"
            ]
          },
          "metadata": {},
          "execution_count": 13
        }
      ]
    },
    {
      "cell_type": "code",
      "source": [
        "# Try make prediction\n",
        "model.predict([17.0])"
      ],
      "metadata": {
        "colab": {
          "base_uri": "https://localhost:8080/"
        },
        "id": "L4S19GPP9pXG",
        "outputId": "d5a6e8fb-f669-4fc3-8c22-9760a75b8702"
      },
      "execution_count": 14,
      "outputs": [
        {
          "output_type": "stream",
          "name": "stdout",
          "text": [
            "1/1 [==============================] - 0s 126ms/step\n"
          ]
        },
        {
          "output_type": "execute_result",
          "data": {
            "text/plain": [
              "array([[9.869286]], dtype=float32)"
            ]
          },
          "metadata": {},
          "execution_count": 14
        }
      ]
    },
    {
      "cell_type": "markdown",
      "source": [
        "## Improving our model\n",
        "\n",
        "We can improve our model, by altering the steps we took to create a model.\n",
        "\n",
        "1. **Creating a model** - ere we might add more layers, increse the number of hidden units (all called neurons) within each of the hidden layers, change the activation function of each layer.\n",
        "\n",
        "2. **Compiling a model** - here we might chang ethe optimization function or perhaps the **learning rate** of the optimization function.\n",
        "\n",
        "3. **Fitting a model** - here we might fit a model for more **epochs** (leave it training for longer) or on more data (give the model more examples to learn form)"
      ],
      "metadata": {
        "id": "Nq6KqLEo-HP4"
      }
    },
    {
      "cell_type": "code",
      "source": [
        "# Let's rebuild our model\n",
        "\n",
        "# 1. Create the model\n",
        "model1 = tf.keras.Sequential([\n",
        "    tf.keras.layers.Dense(1)\n",
        "])\n",
        "\n",
        "# 2. Compile the model\n",
        "model1.compile(loss = tf.keras.losses.mae,\n",
        "              optimizer = tf.keras.optimizers.SGD(),\n",
        "              metrics = [\"mae\"])\n",
        "\n",
        "# 3. Fit the model\n",
        "# model.fit(X, Y, epochs=5) # BREAK IN UPDATED TENSOR VERSION\n",
        "model1.fit(tf.expand_dims(X, axis=-1), Y, epochs=100)"
      ],
      "metadata": {
        "colab": {
          "base_uri": "https://localhost:8080/"
        },
        "id": "GPGzIvb2DLc2",
        "outputId": "42886d92-ad36-4a28-c941-136a8e8feff1"
      },
      "execution_count": 15,
      "outputs": [
        {
          "output_type": "stream",
          "name": "stdout",
          "text": [
            "Epoch 1/100\n",
            "1/1 [==============================] - 0s 467ms/step - loss: 10.3926 - mae: 10.3926\n",
            "Epoch 2/100\n",
            "1/1 [==============================] - 0s 11ms/step - loss: 10.2601 - mae: 10.2601\n",
            "Epoch 3/100\n",
            "1/1 [==============================] - 0s 12ms/step - loss: 10.1276 - mae: 10.1276\n",
            "Epoch 4/100\n",
            "1/1 [==============================] - 0s 10ms/step - loss: 9.9951 - mae: 9.9951\n",
            "Epoch 5/100\n",
            "1/1 [==============================] - 0s 10ms/step - loss: 9.8626 - mae: 9.8626\n",
            "Epoch 6/100\n",
            "1/1 [==============================] - 0s 12ms/step - loss: 9.7301 - mae: 9.7301\n",
            "Epoch 7/100\n",
            "1/1 [==============================] - 0s 14ms/step - loss: 9.5976 - mae: 9.5976\n",
            "Epoch 8/100\n",
            "1/1 [==============================] - 0s 10ms/step - loss: 9.4651 - mae: 9.4651\n",
            "Epoch 9/100\n",
            "1/1 [==============================] - 0s 11ms/step - loss: 9.3326 - mae: 9.3326\n",
            "Epoch 10/100\n",
            "1/1 [==============================] - 0s 10ms/step - loss: 9.2001 - mae: 9.2001\n",
            "Epoch 11/100\n",
            "1/1 [==============================] - 0s 10ms/step - loss: 9.0676 - mae: 9.0676\n",
            "Epoch 12/100\n",
            "1/1 [==============================] - 0s 12ms/step - loss: 8.9351 - mae: 8.9351\n",
            "Epoch 13/100\n",
            "1/1 [==============================] - 0s 10ms/step - loss: 8.8026 - mae: 8.8026\n",
            "Epoch 14/100\n",
            "1/1 [==============================] - 0s 13ms/step - loss: 8.6701 - mae: 8.6701\n",
            "Epoch 15/100\n",
            "1/1 [==============================] - 0s 10ms/step - loss: 8.5376 - mae: 8.5376\n",
            "Epoch 16/100\n",
            "1/1 [==============================] - 0s 12ms/step - loss: 8.4051 - mae: 8.4051\n",
            "Epoch 17/100\n",
            "1/1 [==============================] - 0s 17ms/step - loss: 8.2726 - mae: 8.2726\n",
            "Epoch 18/100\n",
            "1/1 [==============================] - 0s 11ms/step - loss: 8.1401 - mae: 8.1401\n",
            "Epoch 19/100\n",
            "1/1 [==============================] - 0s 12ms/step - loss: 8.0076 - mae: 8.0076\n",
            "Epoch 20/100\n",
            "1/1 [==============================] - 0s 12ms/step - loss: 7.8751 - mae: 7.8751\n",
            "Epoch 21/100\n",
            "1/1 [==============================] - 0s 11ms/step - loss: 7.7426 - mae: 7.7426\n",
            "Epoch 22/100\n",
            "1/1 [==============================] - 0s 10ms/step - loss: 7.6101 - mae: 7.6101\n",
            "Epoch 23/100\n",
            "1/1 [==============================] - 0s 10ms/step - loss: 7.4776 - mae: 7.4776\n",
            "Epoch 24/100\n",
            "1/1 [==============================] - 0s 13ms/step - loss: 7.3451 - mae: 7.3451\n",
            "Epoch 25/100\n",
            "1/1 [==============================] - 0s 11ms/step - loss: 7.3200 - mae: 7.3200\n",
            "Epoch 26/100\n",
            "1/1 [==============================] - 0s 11ms/step - loss: 7.3144 - mae: 7.3144\n",
            "Epoch 27/100\n",
            "1/1 [==============================] - 0s 9ms/step - loss: 7.3088 - mae: 7.3088\n",
            "Epoch 28/100\n",
            "1/1 [==============================] - 0s 10ms/step - loss: 7.3031 - mae: 7.3031\n",
            "Epoch 29/100\n",
            "1/1 [==============================] - 0s 40ms/step - loss: 7.2975 - mae: 7.2975\n",
            "Epoch 30/100\n",
            "1/1 [==============================] - 0s 10ms/step - loss: 7.2919 - mae: 7.2919\n",
            "Epoch 31/100\n",
            "1/1 [==============================] - 0s 10ms/step - loss: 7.2863 - mae: 7.2863\n",
            "Epoch 32/100\n",
            "1/1 [==============================] - 0s 10ms/step - loss: 7.2806 - mae: 7.2806\n",
            "Epoch 33/100\n",
            "1/1 [==============================] - 0s 10ms/step - loss: 7.2750 - mae: 7.2750\n",
            "Epoch 34/100\n",
            "1/1 [==============================] - 0s 10ms/step - loss: 7.2694 - mae: 7.2694\n",
            "Epoch 35/100\n",
            "1/1 [==============================] - 0s 10ms/step - loss: 7.2638 - mae: 7.2638\n",
            "Epoch 36/100\n",
            "1/1 [==============================] - 0s 17ms/step - loss: 7.2581 - mae: 7.2581\n",
            "Epoch 37/100\n",
            "1/1 [==============================] - 0s 14ms/step - loss: 7.2525 - mae: 7.2525\n",
            "Epoch 38/100\n",
            "1/1 [==============================] - 0s 12ms/step - loss: 7.2469 - mae: 7.2469\n",
            "Epoch 39/100\n",
            "1/1 [==============================] - 0s 15ms/step - loss: 7.2413 - mae: 7.2413\n",
            "Epoch 40/100\n",
            "1/1 [==============================] - 0s 10ms/step - loss: 7.2356 - mae: 7.2356\n",
            "Epoch 41/100\n",
            "1/1 [==============================] - 0s 15ms/step - loss: 7.2300 - mae: 7.2300\n",
            "Epoch 42/100\n",
            "1/1 [==============================] - 0s 12ms/step - loss: 7.2244 - mae: 7.2244\n",
            "Epoch 43/100\n",
            "1/1 [==============================] - 0s 17ms/step - loss: 7.2187 - mae: 7.2187\n",
            "Epoch 44/100\n",
            "1/1 [==============================] - 0s 11ms/step - loss: 7.2131 - mae: 7.2131\n",
            "Epoch 45/100\n",
            "1/1 [==============================] - 0s 12ms/step - loss: 7.2075 - mae: 7.2075\n",
            "Epoch 46/100\n",
            "1/1 [==============================] - 0s 12ms/step - loss: 7.2019 - mae: 7.2019\n",
            "Epoch 47/100\n",
            "1/1 [==============================] - 0s 10ms/step - loss: 7.1963 - mae: 7.1963\n",
            "Epoch 48/100\n",
            "1/1 [==============================] - 0s 11ms/step - loss: 7.1906 - mae: 7.1906\n",
            "Epoch 49/100\n",
            "1/1 [==============================] - 0s 10ms/step - loss: 7.1850 - mae: 7.1850\n",
            "Epoch 50/100\n",
            "1/1 [==============================] - 0s 10ms/step - loss: 7.1794 - mae: 7.1794\n",
            "Epoch 51/100\n",
            "1/1 [==============================] - 0s 10ms/step - loss: 7.1737 - mae: 7.1737\n",
            "Epoch 52/100\n",
            "1/1 [==============================] - 0s 10ms/step - loss: 7.1681 - mae: 7.1681\n",
            "Epoch 53/100\n",
            "1/1 [==============================] - 0s 11ms/step - loss: 7.1625 - mae: 7.1625\n",
            "Epoch 54/100\n",
            "1/1 [==============================] - 0s 9ms/step - loss: 7.1569 - mae: 7.1569\n",
            "Epoch 55/100\n",
            "1/1 [==============================] - 0s 10ms/step - loss: 7.1512 - mae: 7.1512\n",
            "Epoch 56/100\n",
            "1/1 [==============================] - 0s 11ms/step - loss: 7.1456 - mae: 7.1456\n",
            "Epoch 57/100\n",
            "1/1 [==============================] - 0s 10ms/step - loss: 7.1400 - mae: 7.1400\n",
            "Epoch 58/100\n",
            "1/1 [==============================] - 0s 10ms/step - loss: 7.1344 - mae: 7.1344\n",
            "Epoch 59/100\n",
            "1/1 [==============================] - 0s 10ms/step - loss: 7.1287 - mae: 7.1287\n",
            "Epoch 60/100\n",
            "1/1 [==============================] - 0s 11ms/step - loss: 7.1231 - mae: 7.1231\n",
            "Epoch 61/100\n",
            "1/1 [==============================] - 0s 12ms/step - loss: 7.1175 - mae: 7.1175\n",
            "Epoch 62/100\n",
            "1/1 [==============================] - 0s 14ms/step - loss: 7.1119 - mae: 7.1119\n",
            "Epoch 63/100\n",
            "1/1 [==============================] - 0s 12ms/step - loss: 7.1063 - mae: 7.1063\n",
            "Epoch 64/100\n",
            "1/1 [==============================] - 0s 13ms/step - loss: 7.1006 - mae: 7.1006\n",
            "Epoch 65/100\n",
            "1/1 [==============================] - 0s 11ms/step - loss: 7.0950 - mae: 7.0950\n",
            "Epoch 66/100\n",
            "1/1 [==============================] - 0s 9ms/step - loss: 7.0894 - mae: 7.0894\n",
            "Epoch 67/100\n",
            "1/1 [==============================] - 0s 11ms/step - loss: 7.0838 - mae: 7.0838\n",
            "Epoch 68/100\n",
            "1/1 [==============================] - 0s 13ms/step - loss: 7.0781 - mae: 7.0781\n",
            "Epoch 69/100\n",
            "1/1 [==============================] - 0s 15ms/step - loss: 7.0725 - mae: 7.0725\n",
            "Epoch 70/100\n",
            "1/1 [==============================] - 0s 20ms/step - loss: 7.0669 - mae: 7.0669\n",
            "Epoch 71/100\n",
            "1/1 [==============================] - 0s 9ms/step - loss: 7.0613 - mae: 7.0613\n",
            "Epoch 72/100\n",
            "1/1 [==============================] - 0s 9ms/step - loss: 7.0556 - mae: 7.0556\n",
            "Epoch 73/100\n",
            "1/1 [==============================] - 0s 16ms/step - loss: 7.0500 - mae: 7.0500\n",
            "Epoch 74/100\n",
            "1/1 [==============================] - 0s 10ms/step - loss: 7.0444 - mae: 7.0444\n",
            "Epoch 75/100\n",
            "1/1 [==============================] - 0s 9ms/step - loss: 7.0388 - mae: 7.0388\n",
            "Epoch 76/100\n",
            "1/1 [==============================] - 0s 12ms/step - loss: 7.0331 - mae: 7.0331\n",
            "Epoch 77/100\n",
            "1/1 [==============================] - 0s 10ms/step - loss: 7.0275 - mae: 7.0275\n",
            "Epoch 78/100\n",
            "1/1 [==============================] - 0s 10ms/step - loss: 7.0219 - mae: 7.0219\n",
            "Epoch 79/100\n",
            "1/1 [==============================] - 0s 10ms/step - loss: 7.0163 - mae: 7.0163\n",
            "Epoch 80/100\n",
            "1/1 [==============================] - 0s 10ms/step - loss: 7.0106 - mae: 7.0106\n",
            "Epoch 81/100\n",
            "1/1 [==============================] - 0s 10ms/step - loss: 7.0050 - mae: 7.0050\n",
            "Epoch 82/100\n",
            "1/1 [==============================] - 0s 12ms/step - loss: 6.9994 - mae: 6.9994\n",
            "Epoch 83/100\n",
            "1/1 [==============================] - 0s 10ms/step - loss: 6.9938 - mae: 6.9938\n",
            "Epoch 84/100\n",
            "1/1 [==============================] - 0s 8ms/step - loss: 6.9881 - mae: 6.9881\n",
            "Epoch 85/100\n",
            "1/1 [==============================] - 0s 12ms/step - loss: 6.9825 - mae: 6.9825\n",
            "Epoch 86/100\n",
            "1/1 [==============================] - 0s 11ms/step - loss: 6.9769 - mae: 6.9769\n",
            "Epoch 87/100\n",
            "1/1 [==============================] - 0s 15ms/step - loss: 6.9713 - mae: 6.9713\n",
            "Epoch 88/100\n",
            "1/1 [==============================] - 0s 11ms/step - loss: 6.9656 - mae: 6.9656\n",
            "Epoch 89/100\n",
            "1/1 [==============================] - 0s 14ms/step - loss: 6.9600 - mae: 6.9600\n",
            "Epoch 90/100\n",
            "1/1 [==============================] - 0s 17ms/step - loss: 6.9544 - mae: 6.9544\n",
            "Epoch 91/100\n",
            "1/1 [==============================] - 0s 19ms/step - loss: 6.9488 - mae: 6.9488\n",
            "Epoch 92/100\n",
            "1/1 [==============================] - 0s 12ms/step - loss: 6.9431 - mae: 6.9431\n",
            "Epoch 93/100\n",
            "1/1 [==============================] - 0s 19ms/step - loss: 6.9375 - mae: 6.9375\n",
            "Epoch 94/100\n",
            "1/1 [==============================] - 0s 22ms/step - loss: 6.9319 - mae: 6.9319\n",
            "Epoch 95/100\n",
            "1/1 [==============================] - 0s 12ms/step - loss: 6.9262 - mae: 6.9262\n",
            "Epoch 96/100\n",
            "1/1 [==============================] - 0s 10ms/step - loss: 6.9206 - mae: 6.9206\n",
            "Epoch 97/100\n",
            "1/1 [==============================] - 0s 13ms/step - loss: 6.9150 - mae: 6.9150\n",
            "Epoch 98/100\n",
            "1/1 [==============================] - 0s 9ms/step - loss: 6.9094 - mae: 6.9094\n",
            "Epoch 99/100\n",
            "1/1 [==============================] - 0s 10ms/step - loss: 6.9038 - mae: 6.9038\n",
            "Epoch 100/100\n",
            "1/1 [==============================] - 0s 10ms/step - loss: 6.8981 - mae: 6.8981\n"
          ]
        },
        {
          "output_type": "execute_result",
          "data": {
            "text/plain": [
              "<keras.src.callbacks.History at 0x7b08b9d235e0>"
            ]
          },
          "metadata": {},
          "execution_count": 15
        }
      ]
    },
    {
      "cell_type": "code",
      "source": [
        "# Try make prediction\n",
        "model1.predict([17.0])"
      ],
      "metadata": {
        "colab": {
          "base_uri": "https://localhost:8080/"
        },
        "id": "4kMA7oidBuHG",
        "outputId": "04241a1f-3120-40af-d32d-a1fafd62264f"
      },
      "execution_count": 16,
      "outputs": [
        {
          "output_type": "stream",
          "name": "stdout",
          "text": [
            "1/1 [==============================] - 0s 153ms/step\n"
          ]
        },
        {
          "output_type": "execute_result",
          "data": {
            "text/plain": [
              "array([[30.18294]], dtype=float32)"
            ]
          },
          "metadata": {},
          "execution_count": 16
        }
      ]
    },
    {
      "cell_type": "code",
      "source": [
        "# re-write the model by my self and improve one thing to get better\n",
        "\n",
        "# 1. Create the model\n",
        "model2 = tf.keras.Sequential([\n",
        "    tf.keras.layers.Dense(1)\n",
        "])\n",
        "\n",
        "# 2. Compile the model\n",
        "model2.compile(loss = tf.keras.losses.mae,\n",
        "              optimizer = tf.keras.optimizers.Adam(learning_rate=0.001), # chang the optimizers from SGD to adam\n",
        "              metrics = [\"mae\"])\n",
        "\n",
        "# 3. Fit the model\n",
        "# model.fit(X, Y, epochs=5) # BREAK IN UPDATED TENSOR VERSION\n",
        "model2.fit(tf.expand_dims(X, axis=-1), Y, epochs=100)"
      ],
      "metadata": {
        "colab": {
          "base_uri": "https://localhost:8080/"
        },
        "id": "gdwbhbhmJVPx",
        "outputId": "68493717-5ca3-4a43-b9a8-8930345d0da5"
      },
      "execution_count": 17,
      "outputs": [
        {
          "output_type": "stream",
          "name": "stdout",
          "text": [
            "Epoch 1/100\n",
            "1/1 [==============================] - 1s 1s/step - loss: 8.4748 - mae: 8.4748\n",
            "Epoch 2/100\n",
            "1/1 [==============================] - 0s 35ms/step - loss: 8.4703 - mae: 8.4703\n",
            "Epoch 3/100\n",
            "1/1 [==============================] - 0s 20ms/step - loss: 8.4658 - mae: 8.4658\n",
            "Epoch 4/100\n",
            "1/1 [==============================] - 0s 12ms/step - loss: 8.4613 - mae: 8.4613\n",
            "Epoch 5/100\n",
            "1/1 [==============================] - 0s 11ms/step - loss: 8.4568 - mae: 8.4568\n",
            "Epoch 6/100\n",
            "1/1 [==============================] - 0s 20ms/step - loss: 8.4523 - mae: 8.4523\n",
            "Epoch 7/100\n",
            "1/1 [==============================] - 0s 14ms/step - loss: 8.4478 - mae: 8.4478\n",
            "Epoch 8/100\n",
            "1/1 [==============================] - 0s 15ms/step - loss: 8.4433 - mae: 8.4433\n",
            "Epoch 9/100\n",
            "1/1 [==============================] - 0s 18ms/step - loss: 8.4388 - mae: 8.4388\n",
            "Epoch 10/100\n",
            "1/1 [==============================] - 0s 18ms/step - loss: 8.4343 - mae: 8.4343\n",
            "Epoch 11/100\n",
            "1/1 [==============================] - 0s 13ms/step - loss: 8.4298 - mae: 8.4298\n",
            "Epoch 12/100\n",
            "1/1 [==============================] - 0s 21ms/step - loss: 8.4253 - mae: 8.4253\n",
            "Epoch 13/100\n",
            "1/1 [==============================] - 0s 29ms/step - loss: 8.4208 - mae: 8.4208\n",
            "Epoch 14/100\n",
            "1/1 [==============================] - 0s 39ms/step - loss: 8.4163 - mae: 8.4163\n",
            "Epoch 15/100\n",
            "1/1 [==============================] - 0s 27ms/step - loss: 8.4118 - mae: 8.4118\n",
            "Epoch 16/100\n",
            "1/1 [==============================] - 0s 34ms/step - loss: 8.4073 - mae: 8.4073\n",
            "Epoch 17/100\n",
            "1/1 [==============================] - 0s 31ms/step - loss: 8.4028 - mae: 8.4028\n",
            "Epoch 18/100\n",
            "1/1 [==============================] - 0s 44ms/step - loss: 8.3983 - mae: 8.3983\n",
            "Epoch 19/100\n",
            "1/1 [==============================] - 0s 40ms/step - loss: 8.3938 - mae: 8.3938\n",
            "Epoch 20/100\n",
            "1/1 [==============================] - 0s 18ms/step - loss: 8.3893 - mae: 8.3893\n",
            "Epoch 21/100\n",
            "1/1 [==============================] - 0s 13ms/step - loss: 8.3848 - mae: 8.3848\n",
            "Epoch 22/100\n",
            "1/1 [==============================] - 0s 27ms/step - loss: 8.3803 - mae: 8.3803\n",
            "Epoch 23/100\n",
            "1/1 [==============================] - 0s 26ms/step - loss: 8.3758 - mae: 8.3758\n",
            "Epoch 24/100\n",
            "1/1 [==============================] - 0s 15ms/step - loss: 8.3713 - mae: 8.3713\n",
            "Epoch 25/100\n",
            "1/1 [==============================] - 0s 20ms/step - loss: 8.3668 - mae: 8.3668\n",
            "Epoch 26/100\n",
            "1/1 [==============================] - 0s 22ms/step - loss: 8.3623 - mae: 8.3623\n",
            "Epoch 27/100\n",
            "1/1 [==============================] - 0s 20ms/step - loss: 8.3578 - mae: 8.3578\n",
            "Epoch 28/100\n",
            "1/1 [==============================] - 0s 18ms/step - loss: 8.3533 - mae: 8.3533\n",
            "Epoch 29/100\n",
            "1/1 [==============================] - 0s 19ms/step - loss: 8.3488 - mae: 8.3488\n",
            "Epoch 30/100\n",
            "1/1 [==============================] - 0s 16ms/step - loss: 8.3443 - mae: 8.3443\n",
            "Epoch 31/100\n",
            "1/1 [==============================] - 0s 19ms/step - loss: 8.3398 - mae: 8.3398\n",
            "Epoch 32/100\n",
            "1/1 [==============================] - 0s 20ms/step - loss: 8.3353 - mae: 8.3353\n",
            "Epoch 33/100\n",
            "1/1 [==============================] - 0s 24ms/step - loss: 8.3308 - mae: 8.3308\n",
            "Epoch 34/100\n",
            "1/1 [==============================] - 0s 33ms/step - loss: 8.3263 - mae: 8.3263\n",
            "Epoch 35/100\n",
            "1/1 [==============================] - 0s 22ms/step - loss: 8.3218 - mae: 8.3218\n",
            "Epoch 36/100\n",
            "1/1 [==============================] - 0s 13ms/step - loss: 8.3173 - mae: 8.3173\n",
            "Epoch 37/100\n",
            "1/1 [==============================] - 0s 21ms/step - loss: 8.3128 - mae: 8.3128\n",
            "Epoch 38/100\n",
            "1/1 [==============================] - 0s 20ms/step - loss: 8.3083 - mae: 8.3083\n",
            "Epoch 39/100\n",
            "1/1 [==============================] - 0s 25ms/step - loss: 8.3038 - mae: 8.3038\n",
            "Epoch 40/100\n",
            "1/1 [==============================] - 0s 18ms/step - loss: 8.2993 - mae: 8.2993\n",
            "Epoch 41/100\n",
            "1/1 [==============================] - 0s 18ms/step - loss: 8.2948 - mae: 8.2948\n",
            "Epoch 42/100\n",
            "1/1 [==============================] - 0s 17ms/step - loss: 8.2903 - mae: 8.2903\n",
            "Epoch 43/100\n",
            "1/1 [==============================] - 0s 24ms/step - loss: 8.2858 - mae: 8.2858\n",
            "Epoch 44/100\n",
            "1/1 [==============================] - 0s 18ms/step - loss: 8.2813 - mae: 8.2813\n",
            "Epoch 45/100\n",
            "1/1 [==============================] - 0s 24ms/step - loss: 8.2768 - mae: 8.2768\n",
            "Epoch 46/100\n",
            "1/1 [==============================] - 0s 17ms/step - loss: 8.2723 - mae: 8.2723\n",
            "Epoch 47/100\n",
            "1/1 [==============================] - 0s 36ms/step - loss: 8.2678 - mae: 8.2678\n",
            "Epoch 48/100\n",
            "1/1 [==============================] - 0s 21ms/step - loss: 8.2633 - mae: 8.2633\n",
            "Epoch 49/100\n",
            "1/1 [==============================] - 0s 19ms/step - loss: 8.2588 - mae: 8.2588\n",
            "Epoch 50/100\n",
            "1/1 [==============================] - 0s 17ms/step - loss: 8.2543 - mae: 8.2543\n",
            "Epoch 51/100\n",
            "1/1 [==============================] - 0s 29ms/step - loss: 8.2498 - mae: 8.2498\n",
            "Epoch 52/100\n",
            "1/1 [==============================] - 0s 14ms/step - loss: 8.2453 - mae: 8.2453\n",
            "Epoch 53/100\n",
            "1/1 [==============================] - 0s 10ms/step - loss: 8.2408 - mae: 8.2408\n",
            "Epoch 54/100\n",
            "1/1 [==============================] - 0s 11ms/step - loss: 8.2363 - mae: 8.2363\n",
            "Epoch 55/100\n",
            "1/1 [==============================] - 0s 17ms/step - loss: 8.2318 - mae: 8.2318\n",
            "Epoch 56/100\n",
            "1/1 [==============================] - 0s 18ms/step - loss: 8.2273 - mae: 8.2273\n",
            "Epoch 57/100\n",
            "1/1 [==============================] - 0s 12ms/step - loss: 8.2228 - mae: 8.2228\n",
            "Epoch 58/100\n",
            "1/1 [==============================] - 0s 30ms/step - loss: 8.2183 - mae: 8.2183\n",
            "Epoch 59/100\n",
            "1/1 [==============================] - 0s 18ms/step - loss: 8.2138 - mae: 8.2138\n",
            "Epoch 60/100\n",
            "1/1 [==============================] - 0s 19ms/step - loss: 8.2093 - mae: 8.2093\n",
            "Epoch 61/100\n",
            "1/1 [==============================] - 0s 19ms/step - loss: 8.2048 - mae: 8.2048\n",
            "Epoch 62/100\n",
            "1/1 [==============================] - 0s 17ms/step - loss: 8.2003 - mae: 8.2003\n",
            "Epoch 63/100\n",
            "1/1 [==============================] - 0s 18ms/step - loss: 8.1958 - mae: 8.1958\n",
            "Epoch 64/100\n",
            "1/1 [==============================] - 0s 13ms/step - loss: 8.1913 - mae: 8.1913\n",
            "Epoch 65/100\n",
            "1/1 [==============================] - 0s 12ms/step - loss: 8.1868 - mae: 8.1868\n",
            "Epoch 66/100\n",
            "1/1 [==============================] - 0s 12ms/step - loss: 8.1823 - mae: 8.1823\n",
            "Epoch 67/100\n",
            "1/1 [==============================] - 0s 13ms/step - loss: 8.1778 - mae: 8.1778\n",
            "Epoch 68/100\n",
            "1/1 [==============================] - 0s 22ms/step - loss: 8.1733 - mae: 8.1733\n",
            "Epoch 69/100\n",
            "1/1 [==============================] - 0s 33ms/step - loss: 8.1688 - mae: 8.1688\n",
            "Epoch 70/100\n",
            "1/1 [==============================] - 0s 15ms/step - loss: 8.1643 - mae: 8.1643\n",
            "Epoch 71/100\n",
            "1/1 [==============================] - 0s 13ms/step - loss: 8.1598 - mae: 8.1598\n",
            "Epoch 72/100\n",
            "1/1 [==============================] - 0s 18ms/step - loss: 8.1553 - mae: 8.1553\n",
            "Epoch 73/100\n",
            "1/1 [==============================] - 0s 14ms/step - loss: 8.1508 - mae: 8.1508\n",
            "Epoch 74/100\n",
            "1/1 [==============================] - 0s 12ms/step - loss: 8.1463 - mae: 8.1463\n",
            "Epoch 75/100\n",
            "1/1 [==============================] - 0s 18ms/step - loss: 8.1418 - mae: 8.1418\n",
            "Epoch 76/100\n",
            "1/1 [==============================] - 0s 13ms/step - loss: 8.1373 - mae: 8.1373\n",
            "Epoch 77/100\n",
            "1/1 [==============================] - 0s 17ms/step - loss: 8.1328 - mae: 8.1328\n",
            "Epoch 78/100\n",
            "1/1 [==============================] - 0s 11ms/step - loss: 8.1283 - mae: 8.1283\n",
            "Epoch 79/100\n",
            "1/1 [==============================] - 0s 20ms/step - loss: 8.1238 - mae: 8.1238\n",
            "Epoch 80/100\n",
            "1/1 [==============================] - 0s 23ms/step - loss: 8.1193 - mae: 8.1193\n",
            "Epoch 81/100\n",
            "1/1 [==============================] - 0s 19ms/step - loss: 8.1148 - mae: 8.1148\n",
            "Epoch 82/100\n",
            "1/1 [==============================] - 0s 18ms/step - loss: 8.1103 - mae: 8.1103\n",
            "Epoch 83/100\n",
            "1/1 [==============================] - 0s 18ms/step - loss: 8.1058 - mae: 8.1058\n",
            "Epoch 84/100\n",
            "1/1 [==============================] - 0s 11ms/step - loss: 8.1013 - mae: 8.1013\n",
            "Epoch 85/100\n",
            "1/1 [==============================] - 0s 24ms/step - loss: 8.0968 - mae: 8.0968\n",
            "Epoch 86/100\n",
            "1/1 [==============================] - 0s 27ms/step - loss: 8.0923 - mae: 8.0923\n",
            "Epoch 87/100\n",
            "1/1 [==============================] - 0s 32ms/step - loss: 8.0878 - mae: 8.0878\n",
            "Epoch 88/100\n",
            "1/1 [==============================] - 0s 23ms/step - loss: 8.0833 - mae: 8.0833\n",
            "Epoch 89/100\n",
            "1/1 [==============================] - 0s 19ms/step - loss: 8.0788 - mae: 8.0788\n",
            "Epoch 90/100\n",
            "1/1 [==============================] - 0s 21ms/step - loss: 8.0743 - mae: 8.0743\n",
            "Epoch 91/100\n",
            "1/1 [==============================] - 0s 17ms/step - loss: 8.0698 - mae: 8.0698\n",
            "Epoch 92/100\n",
            "1/1 [==============================] - 0s 19ms/step - loss: 8.0653 - mae: 8.0653\n",
            "Epoch 93/100\n",
            "1/1 [==============================] - 0s 13ms/step - loss: 8.0608 - mae: 8.0608\n",
            "Epoch 94/100\n",
            "1/1 [==============================] - 0s 24ms/step - loss: 8.0563 - mae: 8.0563\n",
            "Epoch 95/100\n",
            "1/1 [==============================] - 0s 12ms/step - loss: 8.0518 - mae: 8.0518\n",
            "Epoch 96/100\n",
            "1/1 [==============================] - 0s 29ms/step - loss: 8.0473 - mae: 8.0473\n",
            "Epoch 97/100\n",
            "1/1 [==============================] - 0s 8ms/step - loss: 8.0428 - mae: 8.0428\n",
            "Epoch 98/100\n",
            "1/1 [==============================] - 0s 12ms/step - loss: 8.0383 - mae: 8.0383\n",
            "Epoch 99/100\n",
            "1/1 [==============================] - 0s 15ms/step - loss: 8.0338 - mae: 8.0338\n",
            "Epoch 100/100\n",
            "1/1 [==============================] - 0s 12ms/step - loss: 8.0293 - mae: 8.0293\n"
          ]
        },
        {
          "output_type": "execute_result",
          "data": {
            "text/plain": [
              "<keras.src.callbacks.History at 0x7b08ba620280>"
            ]
          },
          "metadata": {},
          "execution_count": 17
        }
      ]
    },
    {
      "cell_type": "code",
      "source": [
        "# Try make prediction\n",
        "model2.predict([17.0])"
      ],
      "metadata": {
        "colab": {
          "base_uri": "https://localhost:8080/"
        },
        "id": "QeWEo95_J5Gg",
        "outputId": "20cd6a84-58c9-4700-c37d-d7ffa1a451e8"
      },
      "execution_count": 18,
      "outputs": [
        {
          "output_type": "stream",
          "name": "stdout",
          "text": [
            "1/1 [==============================] - 0s 121ms/step\n"
          ]
        },
        {
          "output_type": "execute_result",
          "data": {
            "text/plain": [
              "array([[26.20813]], dtype=float32)"
            ]
          },
          "metadata": {},
          "execution_count": 18
        }
      ]
    },
    {
      "cell_type": "code",
      "source": [
        "# re-write the model\n",
        "\n",
        "# 1. Create the model (with 100 hidden units )\n",
        "model3 = tf.keras.Sequential([\n",
        "    tf.keras.layers.Dense(50, activation=None),\n",
        "    tf.keras.layers.Dense(1)\n",
        "])\n",
        "\n",
        "# 2. Compile the model\n",
        "model3.compile(loss = \"mae\",\n",
        "              optimizer = tf.keras.optimizers.Adam(learning_rate = 0.01),\n",
        "              metrics = [\"mae\"])\n",
        "\n",
        "# 3. Fit the model\n",
        "# model.fit(X, Y, epochs=5) # BREAK IN UPDATED TENSOR VERSION\n",
        "model3.fit(tf.expand_dims(X, axis=-1), Y, epochs=100)"
      ],
      "metadata": {
        "colab": {
          "base_uri": "https://localhost:8080/"
        },
        "id": "KI1XF166hgOa",
        "outputId": "79d9243b-fd61-42f4-d59a-34996ab6b0c9"
      },
      "execution_count": 19,
      "outputs": [
        {
          "output_type": "stream",
          "name": "stdout",
          "text": [
            "Epoch 1/100\n",
            "1/1 [==============================] - 1s 1s/step - loss: 14.0005 - mae: 14.0005\n",
            "Epoch 2/100\n",
            "1/1 [==============================] - 0s 15ms/step - loss: 13.2671 - mae: 13.2671\n",
            "Epoch 3/100\n",
            "1/1 [==============================] - 0s 21ms/step - loss: 12.5343 - mae: 12.5343\n",
            "Epoch 4/100\n",
            "1/1 [==============================] - 0s 16ms/step - loss: 11.7992 - mae: 11.7992\n",
            "Epoch 5/100\n",
            "1/1 [==============================] - 0s 20ms/step - loss: 11.0599 - mae: 11.0599\n",
            "Epoch 6/100\n",
            "1/1 [==============================] - 0s 31ms/step - loss: 10.3149 - mae: 10.3149\n",
            "Epoch 7/100\n",
            "1/1 [==============================] - 0s 15ms/step - loss: 9.5621 - mae: 9.5621\n",
            "Epoch 8/100\n",
            "1/1 [==============================] - 0s 15ms/step - loss: 8.7994 - mae: 8.7994\n",
            "Epoch 9/100\n",
            "1/1 [==============================] - 0s 19ms/step - loss: 8.0242 - mae: 8.0242\n",
            "Epoch 10/100\n",
            "1/1 [==============================] - 0s 19ms/step - loss: 7.2339 - mae: 7.2339\n",
            "Epoch 11/100\n",
            "1/1 [==============================] - 0s 19ms/step - loss: 6.6762 - mae: 6.6762\n",
            "Epoch 12/100\n",
            "1/1 [==============================] - 0s 16ms/step - loss: 6.8255 - mae: 6.8255\n",
            "Epoch 13/100\n",
            "1/1 [==============================] - 0s 21ms/step - loss: 7.1236 - mae: 7.1236\n",
            "Epoch 14/100\n",
            "1/1 [==============================] - 0s 25ms/step - loss: 7.3809 - mae: 7.3809\n",
            "Epoch 15/100\n",
            "1/1 [==============================] - 0s 14ms/step - loss: 7.4983 - mae: 7.4983\n",
            "Epoch 16/100\n",
            "1/1 [==============================] - 0s 14ms/step - loss: 7.4143 - mae: 7.4143\n",
            "Epoch 17/100\n",
            "1/1 [==============================] - 0s 15ms/step - loss: 7.1780 - mae: 7.1780\n",
            "Epoch 18/100\n",
            "1/1 [==============================] - 0s 24ms/step - loss: 6.8655 - mae: 6.8655\n",
            "Epoch 19/100\n",
            "1/1 [==============================] - 0s 21ms/step - loss: 6.6141 - mae: 6.6141\n",
            "Epoch 20/100\n",
            "1/1 [==============================] - 0s 15ms/step - loss: 6.3446 - mae: 6.3446\n",
            "Epoch 21/100\n",
            "1/1 [==============================] - 0s 13ms/step - loss: 6.0608 - mae: 6.0608\n",
            "Epoch 22/100\n",
            "1/1 [==============================] - 0s 19ms/step - loss: 5.9585 - mae: 5.9585\n",
            "Epoch 23/100\n",
            "1/1 [==============================] - 0s 18ms/step - loss: 5.9084 - mae: 5.9084\n",
            "Epoch 24/100\n",
            "1/1 [==============================] - 0s 25ms/step - loss: 6.0800 - mae: 6.0800\n",
            "Epoch 25/100\n",
            "1/1 [==============================] - 0s 31ms/step - loss: 6.1513 - mae: 6.1513\n",
            "Epoch 26/100\n",
            "1/1 [==============================] - 0s 19ms/step - loss: 6.1215 - mae: 6.1215\n",
            "Epoch 27/100\n",
            "1/1 [==============================] - 0s 23ms/step - loss: 6.0028 - mae: 6.0028\n",
            "Epoch 28/100\n",
            "1/1 [==============================] - 0s 24ms/step - loss: 5.8040 - mae: 5.8040\n",
            "Epoch 29/100\n",
            "1/1 [==============================] - 0s 17ms/step - loss: 5.5316 - mae: 5.5316\n",
            "Epoch 30/100\n",
            "1/1 [==============================] - 0s 17ms/step - loss: 5.3151 - mae: 5.3151\n",
            "Epoch 31/100\n",
            "1/1 [==============================] - 0s 17ms/step - loss: 5.1985 - mae: 5.1985\n",
            "Epoch 32/100\n",
            "1/1 [==============================] - 0s 30ms/step - loss: 5.1508 - mae: 5.1508\n",
            "Epoch 33/100\n",
            "1/1 [==============================] - 0s 22ms/step - loss: 5.1547 - mae: 5.1547\n",
            "Epoch 34/100\n",
            "1/1 [==============================] - 0s 17ms/step - loss: 5.1121 - mae: 5.1121\n",
            "Epoch 35/100\n",
            "1/1 [==============================] - 0s 12ms/step - loss: 5.0263 - mae: 5.0263\n",
            "Epoch 36/100\n",
            "1/1 [==============================] - 0s 17ms/step - loss: 4.9006 - mae: 4.9006\n",
            "Epoch 37/100\n",
            "1/1 [==============================] - 0s 12ms/step - loss: 4.7383 - mae: 4.7383\n",
            "Epoch 38/100\n",
            "1/1 [==============================] - 0s 28ms/step - loss: 4.5422 - mae: 4.5422\n",
            "Epoch 39/100\n",
            "1/1 [==============================] - 0s 16ms/step - loss: 4.3363 - mae: 4.3363\n",
            "Epoch 40/100\n",
            "1/1 [==============================] - 0s 14ms/step - loss: 4.2301 - mae: 4.2301\n",
            "Epoch 41/100\n",
            "1/1 [==============================] - 0s 12ms/step - loss: 4.1158 - mae: 4.1158\n",
            "Epoch 42/100\n",
            "1/1 [==============================] - 0s 12ms/step - loss: 4.0076 - mae: 4.0076\n",
            "Epoch 43/100\n",
            "1/1 [==============================] - 0s 16ms/step - loss: 3.8680 - mae: 3.8680\n",
            "Epoch 44/100\n",
            "1/1 [==============================] - 0s 13ms/step - loss: 3.6955 - mae: 3.6955\n",
            "Epoch 45/100\n",
            "1/1 [==============================] - 0s 53ms/step - loss: 3.5310 - mae: 3.5310\n",
            "Epoch 46/100\n",
            "1/1 [==============================] - 0s 31ms/step - loss: 3.3590 - mae: 3.3590\n",
            "Epoch 47/100\n",
            "1/1 [==============================] - 0s 15ms/step - loss: 3.2591 - mae: 3.2591\n",
            "Epoch 48/100\n",
            "1/1 [==============================] - 0s 19ms/step - loss: 3.1204 - mae: 3.1204\n",
            "Epoch 49/100\n",
            "1/1 [==============================] - 0s 22ms/step - loss: 2.9284 - mae: 2.9284\n",
            "Epoch 50/100\n",
            "1/1 [==============================] - 0s 28ms/step - loss: 2.6856 - mae: 2.6856\n",
            "Epoch 51/100\n",
            "1/1 [==============================] - 0s 33ms/step - loss: 2.4835 - mae: 2.4835\n",
            "Epoch 52/100\n",
            "1/1 [==============================] - 0s 29ms/step - loss: 2.3311 - mae: 2.3311\n",
            "Epoch 53/100\n",
            "1/1 [==============================] - 0s 21ms/step - loss: 2.1331 - mae: 2.1331\n",
            "Epoch 54/100\n",
            "1/1 [==============================] - 0s 19ms/step - loss: 1.8643 - mae: 1.8643\n",
            "Epoch 55/100\n",
            "1/1 [==============================] - 0s 19ms/step - loss: 1.6625 - mae: 1.6625\n",
            "Epoch 56/100\n",
            "1/1 [==============================] - 0s 18ms/step - loss: 1.4658 - mae: 1.4658\n",
            "Epoch 57/100\n",
            "1/1 [==============================] - 0s 13ms/step - loss: 1.2032 - mae: 1.2032\n",
            "Epoch 58/100\n",
            "1/1 [==============================] - 0s 32ms/step - loss: 0.9170 - mae: 0.9170\n",
            "Epoch 59/100\n",
            "1/1 [==============================] - 0s 36ms/step - loss: 0.7494 - mae: 0.7494\n",
            "Epoch 60/100\n",
            "1/1 [==============================] - 0s 34ms/step - loss: 0.4341 - mae: 0.4341\n",
            "Epoch 61/100\n",
            "1/1 [==============================] - 0s 28ms/step - loss: 0.2959 - mae: 0.2959\n",
            "Epoch 62/100\n",
            "1/1 [==============================] - 0s 20ms/step - loss: 0.2700 - mae: 0.2700\n",
            "Epoch 63/100\n",
            "1/1 [==============================] - 0s 21ms/step - loss: 0.4220 - mae: 0.4220\n",
            "Epoch 64/100\n",
            "1/1 [==============================] - 0s 16ms/step - loss: 0.5711 - mae: 0.5711\n",
            "Epoch 65/100\n",
            "1/1 [==============================] - 0s 15ms/step - loss: 0.6462 - mae: 0.6462\n",
            "Epoch 66/100\n",
            "1/1 [==============================] - 0s 16ms/step - loss: 0.7510 - mae: 0.7510\n",
            "Epoch 67/100\n",
            "1/1 [==============================] - 0s 22ms/step - loss: 0.7170 - mae: 0.7170\n",
            "Epoch 68/100\n",
            "1/1 [==============================] - 0s 25ms/step - loss: 0.7534 - mae: 0.7534\n",
            "Epoch 69/100\n",
            "1/1 [==============================] - 0s 18ms/step - loss: 0.7008 - mae: 0.7008\n",
            "Epoch 70/100\n",
            "1/1 [==============================] - 0s 15ms/step - loss: 0.5637 - mae: 0.5637\n",
            "Epoch 71/100\n",
            "1/1 [==============================] - 0s 23ms/step - loss: 0.5444 - mae: 0.5444\n",
            "Epoch 72/100\n",
            "1/1 [==============================] - 0s 22ms/step - loss: 0.4127 - mae: 0.4127\n",
            "Epoch 73/100\n",
            "1/1 [==============================] - 0s 26ms/step - loss: 0.1804 - mae: 0.1804\n",
            "Epoch 74/100\n",
            "1/1 [==============================] - 0s 22ms/step - loss: 0.0302 - mae: 0.0302\n",
            "Epoch 75/100\n",
            "1/1 [==============================] - 0s 19ms/step - loss: 0.4164 - mae: 0.4164\n",
            "Epoch 76/100\n",
            "1/1 [==============================] - 0s 32ms/step - loss: 0.5080 - mae: 0.5080\n",
            "Epoch 77/100\n",
            "1/1 [==============================] - 0s 11ms/step - loss: 0.3760 - mae: 0.3760\n",
            "Epoch 78/100\n",
            "1/1 [==============================] - 0s 28ms/step - loss: 0.5707 - mae: 0.5707\n",
            "Epoch 79/100\n",
            "1/1 [==============================] - 0s 15ms/step - loss: 0.6618 - mae: 0.6618\n",
            "Epoch 80/100\n",
            "1/1 [==============================] - 0s 16ms/step - loss: 0.5866 - mae: 0.5866\n",
            "Epoch 81/100\n",
            "1/1 [==============================] - 0s 18ms/step - loss: 0.3639 - mae: 0.3639\n",
            "Epoch 82/100\n",
            "1/1 [==============================] - 0s 18ms/step - loss: 0.4276 - mae: 0.4276\n",
            "Epoch 83/100\n",
            "1/1 [==============================] - 0s 18ms/step - loss: 0.4050 - mae: 0.4050\n",
            "Epoch 84/100\n",
            "1/1 [==============================] - 0s 24ms/step - loss: 0.1260 - mae: 0.1260\n",
            "Epoch 85/100\n",
            "1/1 [==============================] - 0s 32ms/step - loss: 0.3974 - mae: 0.3974\n",
            "Epoch 86/100\n",
            "1/1 [==============================] - 0s 22ms/step - loss: 0.5088 - mae: 0.5088\n",
            "Epoch 87/100\n",
            "1/1 [==============================] - 0s 23ms/step - loss: 0.3147 - mae: 0.3147\n",
            "Epoch 88/100\n",
            "1/1 [==============================] - 0s 15ms/step - loss: 0.3757 - mae: 0.3757\n",
            "Epoch 89/100\n",
            "1/1 [==============================] - 0s 16ms/step - loss: 0.5435 - mae: 0.5435\n",
            "Epoch 90/100\n",
            "1/1 [==============================] - 0s 15ms/step - loss: 0.4993 - mae: 0.4993\n",
            "Epoch 91/100\n",
            "1/1 [==============================] - 0s 15ms/step - loss: 0.3057 - mae: 0.3057\n",
            "Epoch 92/100\n",
            "1/1 [==============================] - 0s 25ms/step - loss: 0.2479 - mae: 0.2479\n",
            "Epoch 93/100\n",
            "1/1 [==============================] - 0s 34ms/step - loss: 0.3091 - mae: 0.3091\n",
            "Epoch 94/100\n",
            "1/1 [==============================] - 0s 17ms/step - loss: 0.1079 - mae: 0.1079\n",
            "Epoch 95/100\n",
            "1/1 [==============================] - 0s 16ms/step - loss: 0.2948 - mae: 0.2948\n",
            "Epoch 96/100\n",
            "1/1 [==============================] - 0s 21ms/step - loss: 0.3444 - mae: 0.3444\n",
            "Epoch 97/100\n",
            "1/1 [==============================] - 0s 33ms/step - loss: 0.1637 - mae: 0.1637\n",
            "Epoch 98/100\n",
            "1/1 [==============================] - 0s 18ms/step - loss: 0.3015 - mae: 0.3015\n",
            "Epoch 99/100\n",
            "1/1 [==============================] - 0s 17ms/step - loss: 0.3860 - mae: 0.3860\n",
            "Epoch 100/100\n",
            "1/1 [==============================] - 0s 16ms/step - loss: 0.2067 - mae: 0.2067\n"
          ]
        },
        {
          "output_type": "execute_result",
          "data": {
            "text/plain": [
              "<keras.src.callbacks.History at 0x7b08ba6f6620>"
            ]
          },
          "metadata": {},
          "execution_count": 19
        }
      ]
    },
    {
      "cell_type": "code",
      "source": [
        "# Try make prediction\n",
        "model3.predict([17.0])"
      ],
      "metadata": {
        "colab": {
          "base_uri": "https://localhost:8080/"
        },
        "id": "iZcXS1vmiusq",
        "outputId": "09b8bcdf-5f59-4c40-de08-b572d9ab1c8d"
      },
      "execution_count": 20,
      "outputs": [
        {
          "output_type": "stream",
          "name": "stdout",
          "text": [
            "1/1 [==============================] - 0s 250ms/step\n"
          ]
        },
        {
          "output_type": "execute_result",
          "data": {
            "text/plain": [
              "array([[27.598753]], dtype=float32)"
            ]
          },
          "metadata": {},
          "execution_count": 20
        }
      ]
    },
    {
      "cell_type": "markdown",
      "source": [
        "## Evaluating Model\n",
        "\n",
        "Build a model -> fit it -> evaluate it -> tweak a model -> fit it -> evaluate it...\n",
        "\n",
        "Evaluation = visualize\n",
        "\n",
        "it's good idea to visualize :\n",
        "* The data - what data we working with? what does it look like?\n",
        "* The model = what does our model look like?\n",
        "* The training of a model - how does a model perform while it learns?\n",
        "* The predictions of the model - how do the predictions of a model line up against the ground truth (the origin label)"
      ],
      "metadata": {
        "id": "ggu1CbXFlSbl"
      }
    },
    {
      "cell_type": "code",
      "source": [
        "# Make a bigger dataset\n",
        "\n",
        "x = tf.range(-100, 100, 4)\n",
        "x"
      ],
      "metadata": {
        "colab": {
          "base_uri": "https://localhost:8080/"
        },
        "id": "O5yDk0J9lV5n",
        "outputId": "79d40fd4-1569-4c02-9762-6406cf3ebdc5"
      },
      "execution_count": 21,
      "outputs": [
        {
          "output_type": "execute_result",
          "data": {
            "text/plain": [
              "<tf.Tensor: shape=(50,), dtype=int32, numpy=\n",
              "array([-100,  -96,  -92,  -88,  -84,  -80,  -76,  -72,  -68,  -64,  -60,\n",
              "        -56,  -52,  -48,  -44,  -40,  -36,  -32,  -28,  -24,  -20,  -16,\n",
              "        -12,   -8,   -4,    0,    4,    8,   12,   16,   20,   24,   28,\n",
              "         32,   36,   40,   44,   48,   52,   56,   60,   64,   68,   72,\n",
              "         76,   80,   84,   88,   92,   96], dtype=int32)>"
            ]
          },
          "metadata": {},
          "execution_count": 21
        }
      ]
    },
    {
      "cell_type": "code",
      "source": [
        "# Make labels for the dataset\n",
        "\n",
        "y = x + 10\n",
        "y"
      ],
      "metadata": {
        "colab": {
          "base_uri": "https://localhost:8080/"
        },
        "id": "_VnV5iodqYP8",
        "outputId": "bf0f846e-7a59-4e88-edc0-a248c10eee5a"
      },
      "execution_count": 22,
      "outputs": [
        {
          "output_type": "execute_result",
          "data": {
            "text/plain": [
              "<tf.Tensor: shape=(50,), dtype=int32, numpy=\n",
              "array([-90, -86, -82, -78, -74, -70, -66, -62, -58, -54, -50, -46, -42,\n",
              "       -38, -34, -30, -26, -22, -18, -14, -10,  -6,  -2,   2,   6,  10,\n",
              "        14,  18,  22,  26,  30,  34,  38,  42,  46,  50,  54,  58,  62,\n",
              "        66,  70,  74,  78,  82,  86,  90,  94,  98, 102, 106], dtype=int32)>"
            ]
          },
          "metadata": {},
          "execution_count": 22
        }
      ]
    },
    {
      "cell_type": "code",
      "source": [
        "# Visualize the data\n",
        "\n",
        "import matplotlib.pyplot as plt\n",
        "\n",
        "plt.scatter(x, y)"
      ],
      "metadata": {
        "colab": {
          "base_uri": "https://localhost:8080/",
          "height": 447
        },
        "id": "wqnieOnpqiby",
        "outputId": "b03fd24f-6466-48f6-8af6-e32ab4726fc9"
      },
      "execution_count": 23,
      "outputs": [
        {
          "output_type": "execute_result",
          "data": {
            "text/plain": [
              "<matplotlib.collections.PathCollection at 0x7b08ba44af50>"
            ]
          },
          "metadata": {},
          "execution_count": 23
        },
        {
          "output_type": "display_data",
          "data": {
            "text/plain": [
              "<Figure size 640x480 with 1 Axes>"
            ],
            "image/png": "[encoded data removed]"
          },
          "metadata": {}
        }
      ]
    },
    {
      "cell_type": "markdown",
      "source": [
        "### The 3 sets\n",
        "\n",
        "* **Training set** - the model learn from this data, 70-80%\n",
        "* **Validation set** - set model gets tuned on this data, 10-15%\n",
        "* **Test set** - the model gets evaluated on this data, 10-15%"
      ],
      "metadata": {
        "id": "CCtd3h36q0Xk"
      }
    },
    {
      "cell_type": "code",
      "source": [
        "# Check the length of the data\n",
        "len(x)"
      ],
      "metadata": {
        "colab": {
          "base_uri": "https://localhost:8080/"
        },
        "id": "2_ITjQWjFQsM",
        "outputId": "9cd7fc05-948f-443d-b3e3-49941cab0984"
      },
      "execution_count": 24,
      "outputs": [
        {
          "output_type": "execute_result",
          "data": {
            "text/plain": [
              "50"
            ]
          },
          "metadata": {},
          "execution_count": 24
        }
      ]
    },
    {
      "cell_type": "code",
      "source": [
        "# Split the data into train and test sets\n",
        "x_train = x[:40] # first to 40 data will be the training sample\n",
        "y_train = y[:40]\n",
        "\n",
        "x_test = x[40:] # 20% will be test\n",
        "y_test = y[40:]\n",
        "\n",
        "len(x_train), len(x_test), len(y_train), len(y_test)"
      ],
      "metadata": {
        "colab": {
          "base_uri": "https://localhost:8080/"
        },
        "id": "4fkIFEl_HAu3",
        "outputId": "dd304253-915d-4c6c-a718-aabb6b3ce941"
      },
      "execution_count": 25,
      "outputs": [
        {
          "output_type": "execute_result",
          "data": {
            "text/plain": [
              "(40, 10, 40, 10)"
            ]
          },
          "metadata": {},
          "execution_count": 25
        }
      ]
    },
    {
      "cell_type": "markdown",
      "source": [
        "### Visualing the data\n",
        "\n",
        "Now we've got out data in training and test sets...lets visualize it"
      ],
      "metadata": {
        "id": "9WJ9AtA0KgLL"
      }
    },
    {
      "cell_type": "code",
      "source": [
        "plt.figure(figsize=(10,7))\n",
        "\n",
        "# Plot training data in blue\n",
        "plt.scatter(x_train, y_train, c=\"b\", label=\"Training data\")\n",
        "\n",
        "# Plot test data in green\n",
        "plt.scatter(x_test, y_test, c=\"g\", label=\"Testing data\")\n",
        "\n",
        "# Show a legend\n",
        "plt.legend();"
      ],
      "metadata": {
        "colab": {
          "base_uri": "https://localhost:8080/",
          "height": 599
        },
        "id": "OQGu_de6G_li",
        "outputId": "24275994-2cc2-4661-88ce-e5f1cba83c76"
      },
      "execution_count": 26,
      "outputs": [
        {
          "output_type": "display_data",
          "data": {
            "text/plain": [
              "<Figure size 1000x700 with 1 Axes>"
            ],
            "image/png": "[encoded data removed]"
          },
          "metadata": {}
        }
      ]
    },
    {
      "cell_type": "code",
      "source": [
        "# Lets have a look at how to build a neural network for our data\n",
        "\n",
        "# 1. Create the model\n",
        "model = tf.keras.Sequential([\n",
        "    tf.keras.layers.Dense(1)\n",
        "])\n",
        "\n",
        "# 2. Compile the model\n",
        "model.compile(loss = tf.keras.losses.mae,\n",
        "              optimizer = tf.keras.optimizers.SGD(),\n",
        "              metrics = [\"mae\"])\n",
        "\n",
        "# 3. Fit the model\n",
        "#model.fit(tf.expand_dims(x_train, axis=-1), y_train, epochs=100)"
      ],
      "metadata": {
        "id": "TtdWZXKHSSN-"
      },
      "execution_count": 27,
      "outputs": []
    },
    {
      "cell_type": "markdown",
      "source": [
        "### Visualizing the model"
      ],
      "metadata": {
        "id": "F7d7P08yTScA"
      }
    },
    {
      "cell_type": "code",
      "source": [
        "# Lets create  model wich builds automatically by defining the input_shape arguments\n",
        "\n",
        "tf.random.set_seed(42)\n",
        "\n",
        "# 1. Create the model\n",
        "model_1 = tf.keras.Sequential([\n",
        "    tf.keras.layers.Dense(100, input_shape=[1], name=\"input_layer\"),\n",
        "    tf.keras.layers.Dense(1, name=\"output_layer\")\n",
        "], name=\"model_one\")\n",
        "\n",
        "# 2. Compile the model\n",
        "model_1.compile(loss = tf.keras.losses.mae,\n",
        "              optimizer = tf.keras.optimizers.SGD(),\n",
        "              metrics = [\"mae\"])"
      ],
      "metadata": {
        "id": "MpSA6LxwTzZK"
      },
      "execution_count": 28,
      "outputs": []
    },
    {
      "cell_type": "code",
      "source": [
        "model_1.summary()"
      ],
      "metadata": {
        "colab": {
          "base_uri": "https://localhost:8080/"
        },
        "id": "-jMC9-6WUyLw",
        "outputId": "d0cf14d8-535a-45ac-f3ab-15e131ac04f5"
      },
      "execution_count": 29,
      "outputs": [
        {
          "output_type": "stream",
          "name": "stdout",
          "text": [
            "Model: \"model_one\"\n",
            "_________________________________________________________________\n",
            " Layer (type)                Output Shape              Param #   \n",
            "=================================================================\n",
            " input_layer (Dense)         (None, 100)               200       \n",
            "                                                                 \n",
            " output_layer (Dense)        (None, 1)                 101       \n",
            "                                                                 \n",
            "=================================================================\n",
            "Total params: 301 (1.18 KB)\n",
            "Trainable params: 301 (1.18 KB)\n",
            "Non-trainable params: 0 (0.00 Byte)\n",
            "_________________________________________________________________\n"
          ]
        }
      ]
    },
    {
      "cell_type": "markdown",
      "source": [
        "* Total params - total number of parameters that we have\n",
        "\n",
        "* Trainable parameters - the parameters (patterns) the model can update as it trains\n",
        "\n",
        "* Non-trainable params - parameters cant updated during training (allready learn in models during **transfer learning**)\n",
        "\n",
        "📚 **Resource** : For a more in depth overview of the trainable parameters within a layer, check ouy MIT's intorduction to deep learning video\n",
        "\n",
        "⚡**Exercise :** Try playing around with the number of hidden units in the dense layer, see how that effect the number of parameters"
      ],
      "metadata": {
        "id": "fkeG27Fm3_t1"
      }
    },
    {
      "cell_type": "code",
      "source": [
        "# 3. Fit the model\n",
        "model_1.fit(tf.expand_dims(x_train, axis=-1), y_train, epochs=60, verbose=0)"
      ],
      "metadata": {
        "colab": {
          "base_uri": "https://localhost:8080/"
        },
        "id": "e-cgkHtW6914",
        "outputId": "45637fa0-3c0a-40a3-dbcf-5ef13a91e60a"
      },
      "execution_count": 30,
      "outputs": [
        {
          "output_type": "execute_result",
          "data": {
            "text/plain": [
              "<keras.src.callbacks.History at 0x7b08b9466c80>"
            ]
          },
          "metadata": {},
          "execution_count": 30
        }
      ]
    },
    {
      "cell_type": "code",
      "source": [
        "# Get a summary of our model\n",
        "model_1.summary()"
      ],
      "metadata": {
        "colab": {
          "base_uri": "https://localhost:8080/"
        },
        "id": "IYam8Kl-M2o7",
        "outputId": "4eb8146b-3562-45dd-a3bc-732d59bc9b6b"
      },
      "execution_count": 31,
      "outputs": [
        {
          "output_type": "stream",
          "name": "stdout",
          "text": [
            "Model: \"model_one\"\n",
            "_________________________________________________________________\n",
            " Layer (type)                Output Shape              Param #   \n",
            "=================================================================\n",
            " input_layer (Dense)         (None, 100)               200       \n",
            "                                                                 \n",
            " output_layer (Dense)        (None, 1)                 101       \n",
            "                                                                 \n",
            "=================================================================\n",
            "Total params: 301 (1.18 KB)\n",
            "Trainable params: 301 (1.18 KB)\n",
            "Non-trainable params: 0 (0.00 Byte)\n",
            "_________________________________________________________________\n"
          ]
        }
      ]
    },
    {
      "cell_type": "code",
      "source": [
        "from tensorflow.keras.utils import plot_model\n",
        "\n",
        "plot_model(model=model_1, show_shapes=True)"
      ],
      "metadata": {
        "colab": {
          "base_uri": "https://localhost:8080/",
          "height": 312
        },
        "id": "EMxErQE0NVSc",
        "outputId": "3803c0f1-f498-466c-8efd-0731f6b49efb"
      },
      "execution_count": 32,
      "outputs": [
        {
          "output_type": "execute_result",
          "data": {
            "image/png": "[encoded data removed]",
            "text/plain": [
              "<IPython.core.display.Image object>"
            ]
          },
          "metadata": {},
          "execution_count": 32
        }
      ]
    },
    {
      "cell_type": "markdown",
      "source": [
        "### Visualizing our models predictions\n",
        "\n",
        "To visualize predictions, it's a good idea to plot them against the ground truth labels.\n",
        "\n",
        "Often you'll see this in the form of 'y_test' or 'y_true' versus 'y_pred' (ground truth versus your model prediction)"
      ],
      "metadata": {
        "id": "XXOFpjXFOyH9"
      }
    },
    {
      "cell_type": "code",
      "source": [
        "# Make some predictions\n",
        "\n",
        "y_pred = model_1.predict(x_test)\n",
        "y_pred"
      ],
      "metadata": {
        "colab": {
          "base_uri": "https://localhost:8080/"
        },
        "id": "943XbXEayJf3",
        "outputId": "a5cd4e28-077d-4d06-ce57-be1162b96ac1"
      },
      "execution_count": 33,
      "outputs": [
        {
          "output_type": "stream",
          "name": "stderr",
          "text": [
            "WARNING:tensorflow:5 out of the last 5 calls to <function Model.make_predict_function.<locals>.predict_function at 0x7b08b9481630> triggered tf.function retracing. Tracing is expensive and the excessive number of tracings could be due to (1) creating @tf.function repeatedly in a loop, (2) passing tensors with different shapes, (3) passing Python objects instead of tensors. For (1), please define your @tf.function outside of the loop. For (2), @tf.function has reduce_retracing=True option that can avoid unnecessary retracing. For (3), please refer to https://www.tensorflow.org/guide/function#controlling_retracing and https://www.tensorflow.org/api_docs/python/tf/function for  more details.\n"
          ]
        },
        {
          "output_type": "stream",
          "name": "stdout",
          "text": [
            "1/1 [==============================] - 0s 132ms/step\n"
          ]
        },
        {
          "output_type": "execute_result",
          "data": {
            "text/plain": [
              "array([[ 71.27126 ],\n",
              "       [ 75.95492 ],\n",
              "       [ 80.63857 ],\n",
              "       [ 85.32225 ],\n",
              "       [ 90.005905],\n",
              "       [ 94.68955 ],\n",
              "       [ 99.37322 ],\n",
              "       [104.05688 ],\n",
              "       [108.74055 ],\n",
              "       [113.4242  ]], dtype=float32)"
            ]
          },
          "metadata": {},
          "execution_count": 33
        }
      ]
    },
    {
      "cell_type": "code",
      "source": [
        "y_test"
      ],
      "metadata": {
        "colab": {
          "base_uri": "https://localhost:8080/"
        },
        "id": "Ke-R5lq9zVa3",
        "outputId": "cfcfcd15-38b8-4809-d89d-3f5dfd6a84e3"
      },
      "execution_count": 34,
      "outputs": [
        {
          "output_type": "execute_result",
          "data": {
            "text/plain": [
              "<tf.Tensor: shape=(10,), dtype=int32, numpy=array([ 70,  74,  78,  82,  86,  90,  94,  98, 102, 106], dtype=int32)>"
            ]
          },
          "metadata": {},
          "execution_count": 34
        }
      ]
    },
    {
      "cell_type": "markdown",
      "source": [
        "🔑 **Note : ** if you feel like you're going to reuse some functionality in the future, its good idea to turn it into a fucntion"
      ],
      "metadata": {
        "id": "nSO6jWAR09Jt"
      }
    },
    {
      "cell_type": "code",
      "source": [
        "# Lets create a plotting function\n",
        "\n",
        "def plot_predictions(train_data=x_train,\n",
        "                     train_labels=y_train,\n",
        "                     test_data=x_test,\n",
        "                     test_labels=y_test,\n",
        "                     predictions=y_pred):\n",
        "  \"\"\"\n",
        "  Plots training data, test data and compares predictions to ground truth labels\n",
        "  \"\"\"\n",
        "  plt.figure(figsize=(10,7))\n",
        "  # Plot training data in blue\n",
        "  plt.scatter(train_data, train_labels, c=\"b\", label=\"Training data\")\n",
        "\n",
        "  # Plot testing data in green\n",
        "  plt.scatter(test_data, test_labels, c=\"g\", label=\"Test data\")\n",
        "\n",
        "  # Plot models predictions in red\n",
        "  plt.scatter(test_data, predictions, c=\"r\", label=\"Predictions\")\n",
        "\n",
        "  # Show the legend\n",
        "  plt.legend()\n",
        "\n"
      ],
      "metadata": {
        "id": "Wt-qJvPk1MAh"
      },
      "execution_count": 35,
      "outputs": []
    },
    {
      "cell_type": "code",
      "source": [
        "plot_predictions()"
      ],
      "metadata": {
        "colab": {
          "base_uri": "https://localhost:8080/",
          "height": 599
        },
        "id": "7ZFYZPV5200S",
        "outputId": "fb38b871-dd7c-4bf1-a1c7-affe00c9016a"
      },
      "execution_count": 36,
      "outputs": [
        {
          "output_type": "display_data",
          "data": {
            "text/plain": [
              "<Figure size 1000x700 with 1 Axes>"
            ],
            "image/png": "[encoded data removed]"
          },
          "metadata": {}
        }
      ]
    },
    {
      "cell_type": "markdown",
      "source": [
        "### Evaluating our models predictions with regression evaluation metrics\n",
        "\n",
        "The evaluation metrics is depending to the model we working on\n",
        "\n",
        "since we're working on a regression, two of the main matrics:\n",
        "* MAE - mean absolute error, \"on average, how wrong is each of my model predictions\"\n",
        "\n",
        "* MSE - mean square error, \"square the average errors\""
      ],
      "metadata": {
        "id": "xWQ92ZRr4V_K"
      }
    },
    {
      "cell_type": "code",
      "source": [
        " # Evaluate the model on the test\n",
        " model_1.evaluate(x_test, y_test)"
      ],
      "metadata": {
        "id": "y3-bYOHr0p-A",
        "colab": {
          "base_uri": "https://localhost:8080/"
        },
        "outputId": "9f5dd24a-eb00-445e-da86-8966d2dee1b7"
      },
      "execution_count": 37,
      "outputs": [
        {
          "output_type": "stream",
          "name": "stdout",
          "text": [
            "1/1 [==============================] - 0s 479ms/step - loss: 4.3477 - mae: 4.3477\n"
          ]
        },
        {
          "output_type": "execute_result",
          "data": {
            "text/plain": [
              "[4.3477301597595215, 4.3477301597595215]"
            ]
          },
          "metadata": {},
          "execution_count": 37
        }
      ]
    },
    {
      "cell_type": "code",
      "source": [
        "# Calculate the mean absolute error\n",
        "mae = tf.metrics.mean_absolute_error(y_true=y_test, y_pred=tf.constant(y_pred))\n",
        "mae"
      ],
      "metadata": {
        "colab": {
          "base_uri": "https://localhost:8080/"
        },
        "id": "bAwZ_yTfPV4C",
        "outputId": "5a00484a-bb37-45c9-ed8e-0716df72a73d"
      },
      "execution_count": 38,
      "outputs": [
        {
          "output_type": "execute_result",
          "data": {
            "text/plain": [
              "<tf.Tensor: shape=(10,), dtype=float32, numpy=\n",
              "array([16.98299 , 13.627049, 11.344571, 10.13555 , 10.001181, 11.075821,\n",
              "       13.223933, 16.445501, 20.740547, 25.424202], dtype=float32)>"
            ]
          },
          "metadata": {},
          "execution_count": 38
        }
      ]
    },
    {
      "cell_type": "code",
      "source": [
        "tf.constant(y_pred)"
      ],
      "metadata": {
        "colab": {
          "base_uri": "https://localhost:8080/"
        },
        "id": "v6CpJX1IPiwj",
        "outputId": "736a8693-94c2-496c-8206-2f6844b075f2"
      },
      "execution_count": 39,
      "outputs": [
        {
          "output_type": "execute_result",
          "data": {
            "text/plain": [
              "<tf.Tensor: shape=(10, 1), dtype=float32, numpy=\n",
              "array([[ 71.27126 ],\n",
              "       [ 75.95492 ],\n",
              "       [ 80.63857 ],\n",
              "       [ 85.32225 ],\n",
              "       [ 90.005905],\n",
              "       [ 94.68955 ],\n",
              "       [ 99.37322 ],\n",
              "       [104.05688 ],\n",
              "       [108.74055 ],\n",
              "       [113.4242  ]], dtype=float32)>"
            ]
          },
          "metadata": {},
          "execution_count": 39
        }
      ]
    },
    {
      "cell_type": "code",
      "source": [
        "y_test"
      ],
      "metadata": {
        "colab": {
          "base_uri": "https://localhost:8080/"
        },
        "id": "JusnDI5oPlKR",
        "outputId": "5e8cd103-23b7-495d-f05d-4750cfa2db4f"
      },
      "execution_count": 40,
      "outputs": [
        {
          "output_type": "execute_result",
          "data": {
            "text/plain": [
              "<tf.Tensor: shape=(10,), dtype=int32, numpy=array([ 70,  74,  78,  82,  86,  90,  94,  98, 102, 106], dtype=int32)>"
            ]
          },
          "metadata": {},
          "execution_count": 40
        }
      ]
    },
    {
      "cell_type": "code",
      "source": [
        "tf.squeeze(y_pred)"
      ],
      "metadata": {
        "colab": {
          "base_uri": "https://localhost:8080/"
        },
        "id": "WqQJPNiwyi56",
        "outputId": "6530601d-9c44-4e37-9e45-fa981b26e46c"
      },
      "execution_count": 41,
      "outputs": [
        {
          "output_type": "execute_result",
          "data": {
            "text/plain": [
              "<tf.Tensor: shape=(10,), dtype=float32, numpy=\n",
              "array([ 71.27126 ,  75.95492 ,  80.63857 ,  85.32225 ,  90.005905,\n",
              "        94.68955 ,  99.37322 , 104.05688 , 108.74055 , 113.4242  ],\n",
              "      dtype=float32)>"
            ]
          },
          "metadata": {},
          "execution_count": 41
        }
      ]
    },
    {
      "cell_type": "code",
      "source": [
        "# Calculate the mean absolute error\n",
        "\n",
        "mae = tf.metrics.mean_absolute_error(y_true=y_test, y_pred=tf.squeeze(y_pred))\n",
        "\n",
        "mae"
      ],
      "metadata": {
        "colab": {
          "base_uri": "https://localhost:8080/"
        },
        "id": "uUT4LV7uypPs",
        "outputId": "9ff423e6-8c5f-4e2d-8e86-0624ea21bf20"
      },
      "execution_count": 42,
      "outputs": [
        {
          "output_type": "execute_result",
          "data": {
            "text/plain": [
              "<tf.Tensor: shape=(), dtype=float32, numpy=4.347731>"
            ]
          },
          "metadata": {},
          "execution_count": 42
        }
      ]
    },
    {
      "cell_type": "code",
      "source": [
        "# Calculate the mean square error\n",
        "\n",
        "mse = tf.metrics.mean_squared_error(y_true=y_test, y_pred=tf.squeeze(y_pred))\n",
        "mse"
      ],
      "metadata": {
        "id": "QpelDvIC2Nvg",
        "colab": {
          "base_uri": "https://localhost:8080/"
        },
        "outputId": "4c8bc7a5-3a59-44ae-c152-75a800f2c6aa"
      },
      "execution_count": 43,
      "outputs": [
        {
          "output_type": "execute_result",
          "data": {
            "text/plain": [
              "<tf.Tensor: shape=(), dtype=float32, numpy=22.758743>"
            ]
          },
          "metadata": {},
          "execution_count": 43
        }
      ]
    },
    {
      "cell_type": "code",
      "source": [
        "# Make fucntion to reuse MAE and MSE\n",
        "def mae(y_true, y_pred):\n",
        "  return tf.metrics.mean_absolute_error(y_true=y_true,\n",
        "                                      y_pred=tf.squeeze(y_pred))\n",
        "\n",
        "def mse(y_true,y_pred):\n",
        "  return tf.metrics.mean_squared_error(y_true=y_true,\n",
        "                                       y_pred=tf.squeeze(y_pred))"
      ],
      "metadata": {
        "id": "oCsUvdVW2yQL"
      },
      "execution_count": 44,
      "outputs": []
    },
    {
      "cell_type": "markdown",
      "source": [
        "### Running experiments to improve our model\n",
        "\n",
        "1. Get more data - get more example for model\n",
        "\n",
        "2. Make your model larger (using a more complex model) - matbe more layers or hidden units\n",
        "\n",
        "3. Train for longer - give model more chance to find patterns in data\n",
        "\n",
        "Let's do 3 modelling experiment L\n",
        "\n",
        "1. 'model_1' - same as the origin, 1 layer, trained for 100 epochs\n",
        "\n",
        "2. 'model_2' - 2 layers, trained for 100 epochs\n",
        "\n",
        "3. 'model_3' - 2 layers, rained for 500 epochs"
      ],
      "metadata": {
        "id": "U73RgqjhN1Gb"
      }
    },
    {
      "cell_type": "code",
      "source": [
        "x_train, y_train"
      ],
      "metadata": {
        "colab": {
          "base_uri": "https://localhost:8080/"
        },
        "id": "ZRYFc01nOexa",
        "outputId": "8eda1813-c1e7-48db-dfe7-b58818e9cb08"
      },
      "execution_count": 45,
      "outputs": [
        {
          "output_type": "execute_result",
          "data": {
            "text/plain": [
              "(<tf.Tensor: shape=(40,), dtype=int32, numpy=\n",
              " array([-100,  -96,  -92,  -88,  -84,  -80,  -76,  -72,  -68,  -64,  -60,\n",
              "         -56,  -52,  -48,  -44,  -40,  -36,  -32,  -28,  -24,  -20,  -16,\n",
              "         -12,   -8,   -4,    0,    4,    8,   12,   16,   20,   24,   28,\n",
              "          32,   36,   40,   44,   48,   52,   56], dtype=int32)>,\n",
              " <tf.Tensor: shape=(40,), dtype=int32, numpy=\n",
              " array([-90, -86, -82, -78, -74, -70, -66, -62, -58, -54, -50, -46, -42,\n",
              "        -38, -34, -30, -26, -22, -18, -14, -10,  -6,  -2,   2,   6,  10,\n",
              "         14,  18,  22,  26,  30,  34,  38,  42,  46,  50,  54,  58,  62,\n",
              "         66], dtype=int32)>)"
            ]
          },
          "metadata": {},
          "execution_count": 45
        }
      ]
    },
    {
      "cell_type": "code",
      "source": [
        "# First build model_1\n",
        "\n",
        "# Ser random seed\n",
        "tf.random.set_seed(42)\n",
        "\n",
        "# 1. Create the model\n",
        "model_1 = tf.keras.Sequential([\n",
        "    tf.keras.layers.Dense(1)\n",
        "])\n",
        "\n",
        "# 2. Compile the model\n",
        "model_1.compile(loss=tf.keras.losses.mae,\n",
        "                optimizer=tf.keras.optimizers.SGD(),\n",
        "                metrics=[\"mae\"],\n",
        "                run_eagerly=True)\n",
        "\n",
        "# 3. FIt the model\n",
        "model_1.fit(tf.expand_dims(x_train, axis=-1), y_train, epochs=100, verbose=0)"
      ],
      "metadata": {
        "colab": {
          "base_uri": "https://localhost:8080/"
        },
        "id": "Bm7GqWOpN77n",
        "outputId": "0db591d9-6ecf-42d5-c24d-6111edd414f9"
      },
      "execution_count": 46,
      "outputs": [
        {
          "output_type": "execute_result",
          "data": {
            "text/plain": [
              "<keras.src.callbacks.History at 0x7b08b9b18040>"
            ]
          },
          "metadata": {},
          "execution_count": 46
        }
      ]
    },
    {
      "cell_type": "code",
      "source": [
        "model_1.predict(tf.reshape(x_test, shape=(-1,1)))"
      ],
      "metadata": {
        "colab": {
          "base_uri": "https://localhost:8080/"
        },
        "id": "vvrhWzRwTr-8",
        "outputId": "fa5bbb54-1f3f-42d7-bdd0-56a44bf1dda2"
      },
      "execution_count": 47,
      "outputs": [
        {
          "output_type": "stream",
          "name": "stdout",
          "text": [
            "1/1 [==============================] - 0s 40ms/step\n"
          ]
        },
        {
          "output_type": "execute_result",
          "data": {
            "text/plain": [
              "array([[ 74.417366],\n",
              "       [ 79.292564],\n",
              "       [ 84.16776 ],\n",
              "       [ 89.04296 ],\n",
              "       [ 93.91816 ],\n",
              "       [ 98.79336 ],\n",
              "       [103.668564],\n",
              "       [108.54376 ],\n",
              "       [113.41896 ],\n",
              "       [118.29416 ]], dtype=float32)"
            ]
          },
          "metadata": {},
          "execution_count": 47
        }
      ]
    },
    {
      "cell_type": "code",
      "source": [
        "# Make a plot predictions for model_1\n",
        "\n",
        "# x_test = tf.reshape(x_test, shape=(-1,1))\n",
        "\n",
        "y_preds_1 = model_1.predict(tf.reshape(x_test, shape=(-1,1)))\n",
        "plot_predictions(predictions=y_preds_1)"
      ],
      "metadata": {
        "colab": {
          "base_uri": "https://localhost:8080/",
          "height": 616
        },
        "id": "-VTt2FvCQK0C",
        "outputId": "774279f2-8e7e-4add-e39a-d240d419af69"
      },
      "execution_count": 48,
      "outputs": [
        {
          "output_type": "stream",
          "name": "stdout",
          "text": [
            "1/1 [==============================] - 0s 30ms/step\n"
          ]
        },
        {
          "output_type": "display_data",
          "data": {
            "text/plain": [
              "<Figure size 1000x700 with 1 Axes>"
            ],
            "image/png": "[encoded data removed]"
          },
          "metadata": {}
        }
      ]
    },
    {
      "cell_type": "code",
      "source": [
        "# Calculate model_1 evaluation metrics\n",
        "\n",
        "mae_1 = mae(y_test, y_preds_1)\n",
        "mse_1 = mse(y_test, y_preds_1)\n",
        "\n",
        "mae_1, mse_1"
      ],
      "metadata": {
        "colab": {
          "base_uri": "https://localhost:8080/"
        },
        "id": "3u6Og5EaqZEp",
        "outputId": "96f82a0e-ed3e-40ec-d29d-9a7b29bc131b"
      },
      "execution_count": 49,
      "outputs": [
        {
          "output_type": "execute_result",
          "data": {
            "text/plain": [
              "(<tf.Tensor: shape=(), dtype=float32, numpy=8.355762>,\n",
              " <tf.Tensor: shape=(), dtype=float32, numpy=76.13805>)"
            ]
          },
          "metadata": {},
          "execution_count": 49
        }
      ]
    },
    {
      "cell_type": "markdown",
      "source": [
        "**Build model_2**\n",
        "\n",
        "* 2 dense layers, trained for 100 epochs"
      ],
      "metadata": {
        "id": "3IG91oWhsu7n"
      }
    },
    {
      "cell_type": "code",
      "source": [
        "# Build model_2\n",
        "\n",
        "# Set the random seed\n",
        "tf.random.set_seed(42)\n",
        "\n",
        "# 1. Create model\n",
        "model_2 = tf.keras.Sequential([\n",
        "    tf.keras.layers.Dense(70, name=\"input_layer\"),\n",
        "    tf.keras.layers.Dense(1, name=\"Output_layer\")\n",
        "])\n",
        "\n",
        "# 2. Compile the model\n",
        "\n",
        "model_2.compile(loss = mae,\n",
        "              optimizer = tf.keras.optimizers.SGD(),\n",
        "              metrics = [\"mae\"])"
      ],
      "metadata": {
        "id": "F9HBFkiUvO0E"
      },
      "execution_count": 50,
      "outputs": []
    },
    {
      "cell_type": "code",
      "source": [
        "# 3. Make Train the model\n",
        "model_2.fit(tf.expand_dims(x_train, axis=-1), y_train, epochs=54)"
      ],
      "metadata": {
        "colab": {
          "base_uri": "https://localhost:8080/"
        },
        "id": "xCwKGotyzj8h",
        "outputId": "28058d7c-a202-4116-e156-69ed79b137a3"
      },
      "execution_count": 51,
      "outputs": [
        {
          "output_type": "stream",
          "name": "stdout",
          "text": [
            "Epoch 1/54\n",
            "2/2 [==============================] - 1s 17ms/step - loss: 43.3490 - mae: 51.0104\n",
            "Epoch 2/54\n",
            "2/2 [==============================] - 0s 19ms/step - loss: 40.7269 - mae: 43.3401\n",
            "Epoch 3/54\n",
            "2/2 [==============================] - 0s 12ms/step - loss: 54.0788 - mae: 19.3696\n",
            "Epoch 4/54\n",
            "2/2 [==============================] - 0s 14ms/step - loss: 40.6762 - mae: 35.6902\n",
            "Epoch 5/54\n",
            "2/2 [==============================] - 0s 15ms/step - loss: 40.6515 - mae: 37.9854\n",
            "Epoch 6/54\n",
            "2/2 [==============================] - 0s 11ms/step - loss: 40.9387 - mae: 32.1036\n",
            "Epoch 7/54\n",
            "2/2 [==============================] - 0s 11ms/step - loss: 40.7365 - mae: 38.4562\n",
            "Epoch 8/54\n",
            "2/2 [==============================] - 0s 11ms/step - loss: 40.8240 - mae: 32.2845\n",
            "Epoch 9/54\n",
            "2/2 [==============================] - 0s 17ms/step - loss: 46.6973 - mae: 15.1930\n",
            "Epoch 10/54\n",
            "2/2 [==============================] - 0s 18ms/step - loss: 40.5766 - mae: 36.3459\n",
            "Epoch 11/54\n",
            "2/2 [==============================] - 0s 17ms/step - loss: 40.9517 - mae: 39.2242\n",
            "Epoch 12/54\n",
            "2/2 [==============================] - 0s 12ms/step - loss: 51.5781 - mae: 15.4467\n",
            "Epoch 13/54\n",
            "2/2 [==============================] - 0s 10ms/step - loss: 40.7204 - mae: 36.1730\n",
            "Epoch 14/54\n",
            "2/2 [==============================] - 0s 20ms/step - loss: 41.1144 - mae: 30.2632\n",
            "Epoch 15/54\n",
            "2/2 [==============================] - 0s 13ms/step - loss: 40.8567 - mae: 38.4583\n",
            "Epoch 16/54\n",
            "2/2 [==============================] - 0s 11ms/step - loss: 40.8536 - mae: 40.8809\n",
            "Epoch 17/54\n",
            "2/2 [==============================] - 0s 12ms/step - loss: 40.3253 - mae: 34.1169\n",
            "Epoch 18/54\n",
            "2/2 [==============================] - 0s 12ms/step - loss: 40.8395 - mae: 33.4446\n",
            "Epoch 19/54\n",
            "2/2 [==============================] - 0s 11ms/step - loss: 43.1580 - mae: 18.5498\n",
            "Epoch 20/54\n",
            "2/2 [==============================] - 0s 14ms/step - loss: 40.9410 - mae: 32.2920\n",
            "Epoch 21/54\n",
            "2/2 [==============================] - 0s 18ms/step - loss: 40.7355 - mae: 35.4308\n",
            "Epoch 22/54\n",
            "2/2 [==============================] - 0s 12ms/step - loss: 40.6408 - mae: 37.4764\n",
            "Epoch 23/54\n",
            "2/2 [==============================] - 0s 10ms/step - loss: 40.6460 - mae: 38.1429\n",
            "Epoch 24/54\n",
            "2/2 [==============================] - 0s 11ms/step - loss: 40.9983 - mae: 30.5860\n",
            "Epoch 25/54\n",
            "2/2 [==============================] - 0s 10ms/step - loss: 40.8975 - mae: 41.5104\n",
            "Epoch 26/54\n",
            "2/2 [==============================] - 0s 10ms/step - loss: 41.9089 - mae: 26.3094\n",
            "Epoch 27/54\n",
            "2/2 [==============================] - 0s 11ms/step - loss: 40.7376 - mae: 34.7682\n",
            "Epoch 28/54\n",
            "2/2 [==============================] - 0s 11ms/step - loss: 42.1407 - mae: 24.4127\n",
            "Epoch 29/54\n",
            "2/2 [==============================] - 0s 10ms/step - loss: 40.6924 - mae: 33.9015\n",
            "Epoch 30/54\n",
            "2/2 [==============================] - 0s 10ms/step - loss: 45.1433 - mae: 14.2688\n",
            "Epoch 31/54\n",
            "2/2 [==============================] - 0s 10ms/step - loss: 57.4040 - mae: 15.7776\n",
            "Epoch 32/54\n",
            "2/2 [==============================] - 0s 12ms/step - loss: 41.2360 - mae: 26.6715\n",
            "Epoch 33/54\n",
            "2/2 [==============================] - 0s 15ms/step - loss: 41.1855 - mae: 30.1155\n",
            "Epoch 34/54\n",
            "2/2 [==============================] - 0s 11ms/step - loss: 40.8226 - mae: 32.5245\n",
            "Epoch 35/54\n",
            "2/2 [==============================] - 0s 21ms/step - loss: 40.6199 - mae: 35.1106\n",
            "Epoch 36/54\n",
            "2/2 [==============================] - 0s 14ms/step - loss: 41.6325 - mae: 24.0031\n",
            "Epoch 37/54\n",
            "2/2 [==============================] - 0s 12ms/step - loss: 40.8535 - mae: 32.4518\n",
            "Epoch 38/54\n",
            "2/2 [==============================] - 0s 14ms/step - loss: 40.6558 - mae: 34.5349\n",
            "Epoch 39/54\n",
            "2/2 [==============================] - 0s 13ms/step - loss: 40.7272 - mae: 34.1102\n",
            "Epoch 40/54\n",
            "2/2 [==============================] - 0s 18ms/step - loss: 40.8634 - mae: 32.8587\n",
            "Epoch 41/54\n",
            "2/2 [==============================] - 0s 8ms/step - loss: 40.3739 - mae: 33.7893\n",
            "Epoch 42/54\n",
            "2/2 [==============================] - 0s 13ms/step - loss: 40.7176 - mae: 34.7328\n",
            "Epoch 43/54\n",
            "2/2 [==============================] - 0s 15ms/step - loss: 40.5575 - mae: 36.8246\n",
            "Epoch 44/54\n",
            "2/2 [==============================] - 0s 5ms/step - loss: 41.0261 - mae: 30.0381\n",
            "Epoch 45/54\n",
            "2/2 [==============================] - 0s 14ms/step - loss: 41.0511 - mae: 30.9217\n",
            "Epoch 46/54\n",
            "2/2 [==============================] - 0s 15ms/step - loss: 40.6958 - mae: 33.4243\n",
            "Epoch 47/54\n",
            "2/2 [==============================] - 0s 11ms/step - loss: 40.7089 - mae: 34.7146\n",
            "Epoch 48/54\n",
            "2/2 [==============================] - 0s 10ms/step - loss: 40.6690 - mae: 37.3863\n",
            "Epoch 49/54\n",
            "2/2 [==============================] - 0s 13ms/step - loss: 40.6604 - mae: 37.1654\n",
            "Epoch 50/54\n",
            "2/2 [==============================] - 0s 11ms/step - loss: 40.5695 - mae: 35.2348\n",
            "Epoch 51/54\n",
            "2/2 [==============================] - 0s 9ms/step - loss: 40.6731 - mae: 37.3159\n",
            "Epoch 52/54\n",
            "2/2 [==============================] - 0s 11ms/step - loss: 40.5897 - mae: 35.2849\n",
            "Epoch 53/54\n",
            "2/2 [==============================] - 0s 9ms/step - loss: 40.4028 - mae: 27.9402\n",
            "Epoch 54/54\n",
            "2/2 [==============================] - 0s 18ms/step - loss: 43.6358 - mae: 17.9721\n"
          ]
        },
        {
          "output_type": "execute_result",
          "data": {
            "text/plain": [
              "<keras.src.callbacks.History at 0x7b08b9a19f30>"
            ]
          },
          "metadata": {},
          "execution_count": 51
        }
      ]
    },
    {
      "cell_type": "code",
      "source": [
        "x_test"
      ],
      "metadata": {
        "colab": {
          "base_uri": "https://localhost:8080/"
        },
        "id": "F4p4SDzi3EAL",
        "outputId": "beeb9eac-3ae9-498a-fc43-afc8125f3669"
      },
      "execution_count": 52,
      "outputs": [
        {
          "output_type": "execute_result",
          "data": {
            "text/plain": [
              "<tf.Tensor: shape=(10,), dtype=int32, numpy=array([60, 64, 68, 72, 76, 80, 84, 88, 92, 96], dtype=int32)>"
            ]
          },
          "metadata": {},
          "execution_count": 52
        }
      ]
    },
    {
      "cell_type": "code",
      "source": [
        "y_test"
      ],
      "metadata": {
        "colab": {
          "base_uri": "https://localhost:8080/"
        },
        "id": "pg4Syr7r3HES",
        "outputId": "ba1c756a-a830-41a5-e88b-38f5195a6e85"
      },
      "execution_count": 53,
      "outputs": [
        {
          "output_type": "execute_result",
          "data": {
            "text/plain": [
              "<tf.Tensor: shape=(10,), dtype=int32, numpy=array([ 70,  74,  78,  82,  86,  90,  94,  98, 102, 106], dtype=int32)>"
            ]
          },
          "metadata": {},
          "execution_count": 53
        }
      ]
    },
    {
      "cell_type": "code",
      "source": [
        "model_2.predict(x_test)"
      ],
      "metadata": {
        "colab": {
          "base_uri": "https://localhost:8080/"
        },
        "id": "bvtvcNO03KN2",
        "outputId": "585d46bc-98a0-45d9-aa1f-20ab88a3bfc9"
      },
      "execution_count": 54,
      "outputs": [
        {
          "output_type": "stream",
          "name": "stderr",
          "text": [
            "WARNING:tensorflow:6 out of the last 6 calls to <function Model.make_predict_function.<locals>.predict_function at 0x7b08b9c370a0> triggered tf.function retracing. Tracing is expensive and the excessive number of tracings could be due to (1) creating @tf.function repeatedly in a loop, (2) passing tensors with different shapes, (3) passing Python objects instead of tensors. For (1), please define your @tf.function outside of the loop. For (2), @tf.function has reduce_retracing=True option that can avoid unnecessary retracing. For (3), please refer to https://www.tensorflow.org/guide/function#controlling_retracing and https://www.tensorflow.org/api_docs/python/tf/function for  more details.\n"
          ]
        },
        {
          "output_type": "stream",
          "name": "stdout",
          "text": [
            "1/1 [==============================] - 0s 189ms/step\n"
          ]
        },
        {
          "output_type": "execute_result",
          "data": {
            "text/plain": [
              "array([[32.48843 ],\n",
              "       [34.668945],\n",
              "       [36.849464],\n",
              "       [39.02998 ],\n",
              "       [41.21049 ],\n",
              "       [43.391006],\n",
              "       [45.57152 ],\n",
              "       [47.752033],\n",
              "       [49.93255 ],\n",
              "       [52.11306 ]], dtype=float32)"
            ]
          },
          "metadata": {},
          "execution_count": 54
        }
      ]
    },
    {
      "cell_type": "code",
      "source": [
        "# Make and plot predictions of model_2\n",
        "\n",
        "y_preds_2 = model_2.predict(x_test)\n",
        "plot_predictions(predictions=y_preds_2)"
      ],
      "metadata": {
        "colab": {
          "base_uri": "https://localhost:8080/",
          "height": 616
        },
        "id": "qYq7itP01-ur",
        "outputId": "3297c475-1e61-45c6-881b-eb1b68aaf2b2"
      },
      "execution_count": 55,
      "outputs": [
        {
          "output_type": "stream",
          "name": "stdout",
          "text": [
            "1/1 [==============================] - 0s 136ms/step\n"
          ]
        },
        {
          "output_type": "display_data",
          "data": {
            "text/plain": [
              "<Figure size 1000x700 with 1 Axes>"
            ],
            "image/png": "[encoded data removed]"
          },
          "metadata": {}
        }
      ]
    },
    {
      "cell_type": "code",
      "source": [
        "model_2.summary()"
      ],
      "metadata": {
        "colab": {
          "base_uri": "https://localhost:8080/"
        },
        "id": "nrRhl6kf1o_c",
        "outputId": "b6560097-580a-4d14-8022-58b77ab88ac0"
      },
      "execution_count": 56,
      "outputs": [
        {
          "output_type": "stream",
          "name": "stdout",
          "text": [
            "Model: \"sequential_6\"\n",
            "_________________________________________________________________\n",
            " Layer (type)                Output Shape              Param #   \n",
            "=================================================================\n",
            " input_layer (Dense)         (None, 70)                140       \n",
            "                                                                 \n",
            " Output_layer (Dense)        (None, 1)                 71        \n",
            "                                                                 \n",
            "=================================================================\n",
            "Total params: 211 (844.00 Byte)\n",
            "Trainable params: 211 (844.00 Byte)\n",
            "Non-trainable params: 0 (0.00 Byte)\n",
            "_________________________________________________________________\n"
          ]
        }
      ]
    },
    {
      "cell_type": "code",
      "source": [
        "# Calculate model_2 evaluation metrics\n",
        "\n",
        "mae_2 = mae(y_test, y_preds_2)\n",
        "mse_2 = mse(y_test, y_preds_2)\n",
        "\n",
        "mae_2, mse_2"
      ],
      "metadata": {
        "colab": {
          "base_uri": "https://localhost:8080/"
        },
        "id": "C54KgBhY6klJ",
        "outputId": "8fa87152-30e1-4b8c-f916-813c1ac96b3f"
      },
      "execution_count": 57,
      "outputs": [
        {
          "output_type": "execute_result",
          "data": {
            "text/plain": [
              "(<tf.Tensor: shape=(), dtype=float32, numpy=45.699257>,\n",
              " <tf.Tensor: shape=(), dtype=float32, numpy=2115.7336>)"
            ]
          },
          "metadata": {},
          "execution_count": 57
        }
      ]
    },
    {
      "cell_type": "markdown",
      "source": [
        "**Build model_3**\n",
        "\n",
        "* 2 layers, trained for 500 epochs"
      ],
      "metadata": {
        "id": "UgQW0Vw_Eigq"
      }
    },
    {
      "cell_type": "code",
      "source": [
        "# Build mdoel 3\n",
        "\n",
        "# set random seed\n",
        "tf.random.set_seed(42)\n",
        "\n",
        "# Build the model\n",
        "model_3 = tf.keras.Sequential([\n",
        "    tf.keras.layers.Dense(10),\n",
        "    tf.keras.layers.Dense(1)\n",
        "])\n",
        "\n",
        "# Compile the model\n",
        "model_3.compile(loss=mae,\n",
        "                optimizer = tf.keras.optimizers.SGD(),\n",
        "                metrics=[\"mae\"])"
      ],
      "metadata": {
        "id": "ZDmoG_8fEdZp"
      },
      "execution_count": 58,
      "outputs": []
    },
    {
      "cell_type": "code",
      "source": [
        "# 3. FIt the model\n",
        "model_3.fit(tf.expand_dims(x_train, axis=-1), y_train, epochs=500)\n"
      ],
      "metadata": {
        "colab": {
          "base_uri": "https://localhost:8080/"
        },
        "id": "Xw5ZEQwjFTQF",
        "outputId": "8486f331-09f3-4e11-8d34-39a1c518ad80"
      },
      "execution_count": 59,
      "outputs": [
        {
          "output_type": "stream",
          "name": "stdout",
          "text": [
            "Epoch 1/500\n",
            "2/2 [==============================] - 0s 11ms/step - loss: 41.9816 - mae: 46.5304\n",
            "Epoch 2/500\n",
            "2/2 [==============================] - 0s 9ms/step - loss: 40.9792 - mae: 40.1044\n",
            "Epoch 3/500\n",
            "2/2 [==============================] - 0s 8ms/step - loss: 50.9414 - mae: 16.6186\n",
            "Epoch 4/500\n",
            "2/2 [==============================] - 0s 7ms/step - loss: 40.6803 - mae: 34.8045\n",
            "Epoch 5/500\n",
            "2/2 [==============================] - 0s 8ms/step - loss: 41.1102 - mae: 40.6301\n",
            "Epoch 6/500\n",
            "2/2 [==============================] - 0s 8ms/step - loss: 40.8560 - mae: 33.0086\n",
            "Epoch 7/500\n",
            "2/2 [==============================] - 0s 7ms/step - loss: 40.7320 - mae: 38.1769\n",
            "Epoch 8/500\n",
            "2/2 [==============================] - 0s 6ms/step - loss: 40.8014 - mae: 32.4435\n",
            "Epoch 9/500\n",
            "2/2 [==============================] - 0s 7ms/step - loss: 46.2239 - mae: 15.3577\n",
            "Epoch 10/500\n",
            "2/2 [==============================] - 0s 7ms/step - loss: 40.4450 - mae: 35.2527\n",
            "Epoch 11/500\n",
            "2/2 [==============================] - 0s 6ms/step - loss: 40.9325 - mae: 39.1618\n",
            "Epoch 12/500\n",
            "2/2 [==============================] - 0s 8ms/step - loss: 50.9438 - mae: 14.8601\n",
            "Epoch 13/500\n",
            "2/2 [==============================] - 0s 8ms/step - loss: 40.7313 - mae: 35.6877\n",
            "Epoch 14/500\n",
            "2/2 [==============================] - 0s 7ms/step - loss: 41.1199 - mae: 30.2187\n",
            "Epoch 15/500\n",
            "2/2 [==============================] - 0s 9ms/step - loss: 40.8419 - mae: 38.3314\n",
            "Epoch 16/500\n",
            "2/2 [==============================] - 0s 7ms/step - loss: 40.8435 - mae: 40.7510\n",
            "Epoch 17/500\n",
            "2/2 [==============================] - 0s 7ms/step - loss: 40.3257 - mae: 34.1740\n",
            "Epoch 18/500\n",
            "2/2 [==============================] - 0s 8ms/step - loss: 40.8225 - mae: 33.5201\n",
            "Epoch 19/500\n",
            "2/2 [==============================] - 0s 8ms/step - loss: 43.0169 - mae: 18.9117\n",
            "Epoch 20/500\n",
            "2/2 [==============================] - 0s 8ms/step - loss: 40.9862 - mae: 31.8785\n",
            "Epoch 21/500\n",
            "2/2 [==============================] - 0s 7ms/step - loss: 40.7366 - mae: 35.3114\n",
            "Epoch 22/500\n",
            "2/2 [==============================] - 0s 7ms/step - loss: 40.6298 - mae: 37.3796\n",
            "Epoch 23/500\n",
            "2/2 [==============================] - 0s 7ms/step - loss: 40.6450 - mae: 38.1418\n",
            "Epoch 24/500\n",
            "2/2 [==============================] - 0s 8ms/step - loss: 40.9770 - mae: 30.7793\n",
            "Epoch 25/500\n",
            "2/2 [==============================] - 0s 6ms/step - loss: 40.8873 - mae: 41.4231\n",
            "Epoch 26/500\n",
            "2/2 [==============================] - 0s 6ms/step - loss: 41.8393 - mae: 26.5693\n",
            "Epoch 27/500\n",
            "2/2 [==============================] - 0s 10ms/step - loss: 40.7331 - mae: 34.6848\n",
            "Epoch 28/500\n",
            "2/2 [==============================] - 0s 7ms/step - loss: 42.0865 - mae: 24.5801\n",
            "Epoch 29/500\n",
            "2/2 [==============================] - 0s 7ms/step - loss: 40.6979 - mae: 33.7387\n",
            "Epoch 30/500\n",
            "2/2 [==============================] - 0s 6ms/step - loss: 44.9138 - mae: 14.4665\n",
            "Epoch 31/500\n",
            "2/2 [==============================] - 0s 7ms/step - loss: 56.8242 - mae: 15.3258\n",
            "Epoch 32/500\n",
            "2/2 [==============================] - 0s 9ms/step - loss: 41.2267 - mae: 26.7125\n",
            "Epoch 33/500\n",
            "2/2 [==============================] - 0s 7ms/step - loss: 41.1849 - mae: 30.1011\n",
            "Epoch 34/500\n",
            "2/2 [==============================] - 0s 7ms/step - loss: 40.8246 - mae: 32.4691\n",
            "Epoch 35/500\n",
            "2/2 [==============================] - 0s 8ms/step - loss: 40.6181 - mae: 35.0213\n",
            "Epoch 36/500\n",
            "2/2 [==============================] - 0s 7ms/step - loss: 41.6010 - mae: 24.1657\n",
            "Epoch 37/500\n",
            "2/2 [==============================] - 0s 8ms/step - loss: 40.8602 - mae: 32.3432\n",
            "Epoch 38/500\n",
            "2/2 [==============================] - 0s 7ms/step - loss: 40.6575 - mae: 34.4280\n",
            "Epoch 39/500\n",
            "2/2 [==============================] - 0s 7ms/step - loss: 40.7273 - mae: 34.0394\n",
            "Epoch 40/500\n",
            "2/2 [==============================] - 0s 7ms/step - loss: 40.8652 - mae: 32.8092\n",
            "Epoch 41/500\n",
            "2/2 [==============================] - 0s 7ms/step - loss: 40.3702 - mae: 33.7358\n",
            "Epoch 42/500\n",
            "2/2 [==============================] - 0s 7ms/step - loss: 40.7164 - mae: 34.7116\n",
            "Epoch 43/500\n",
            "2/2 [==============================] - 0s 6ms/step - loss: 40.5519 - mae: 36.7870\n",
            "Epoch 44/500\n",
            "2/2 [==============================] - 0s 6ms/step - loss: 41.0116 - mae: 30.1163\n",
            "Epoch 45/500\n",
            "2/2 [==============================] - 0s 6ms/step - loss: 41.0486 - mae: 30.9282\n",
            "Epoch 46/500\n",
            "2/2 [==============================] - 0s 6ms/step - loss: 40.6950 - mae: 33.3925\n",
            "Epoch 47/500\n",
            "2/2 [==============================] - 0s 7ms/step - loss: 40.7090 - mae: 34.6605\n",
            "Epoch 48/500\n",
            "2/2 [==============================] - 0s 7ms/step - loss: 40.6654 - mae: 37.2871\n",
            "Epoch 49/500\n",
            "2/2 [==============================] - 0s 8ms/step - loss: 40.6569 - mae: 37.0701\n",
            "Epoch 50/500\n",
            "2/2 [==============================] - 0s 7ms/step - loss: 40.5677 - mae: 35.1728\n",
            "Epoch 51/500\n",
            "2/2 [==============================] - 0s 6ms/step - loss: 40.6702 - mae: 37.2307\n",
            "Epoch 52/500\n",
            "2/2 [==============================] - 0s 6ms/step - loss: 40.5828 - mae: 35.2658\n",
            "Epoch 53/500\n",
            "2/2 [==============================] - 0s 7ms/step - loss: 40.3889 - mae: 28.0454\n",
            "Epoch 54/500\n",
            "2/2 [==============================] - 0s 7ms/step - loss: 43.5403 - mae: 18.1646\n",
            "Epoch 55/500\n",
            "2/2 [==============================] - 0s 7ms/step - loss: 43.4643 - mae: 19.4489\n",
            "Epoch 56/500\n",
            "2/2 [==============================] - 0s 7ms/step - loss: 40.8913 - mae: 29.3742\n",
            "Epoch 57/500\n",
            "2/2 [==============================] - 0s 7ms/step - loss: 40.4276 - mae: 33.4491\n",
            "Epoch 58/500\n",
            "2/2 [==============================] - 0s 7ms/step - loss: 40.6535 - mae: 35.3311\n",
            "Epoch 59/500\n",
            "2/2 [==============================] - 0s 7ms/step - loss: 40.7637 - mae: 35.4767\n",
            "Epoch 60/500\n",
            "2/2 [==============================] - 0s 7ms/step - loss: 40.7046 - mae: 35.1523\n",
            "Epoch 61/500\n",
            "2/2 [==============================] - 0s 7ms/step - loss: 40.6985 - mae: 35.5867\n",
            "Epoch 62/500\n",
            "2/2 [==============================] - 0s 8ms/step - loss: 40.7228 - mae: 36.2041\n",
            "Epoch 63/500\n",
            "2/2 [==============================] - 0s 7ms/step - loss: 40.6337 - mae: 35.5457\n",
            "Epoch 64/500\n",
            "2/2 [==============================] - 0s 7ms/step - loss: 40.7647 - mae: 33.8277\n",
            "Epoch 65/500\n",
            "2/2 [==============================] - 0s 7ms/step - loss: 40.6808 - mae: 34.9445\n",
            "Epoch 66/500\n",
            "2/2 [==============================] - 0s 7ms/step - loss: 40.7977 - mae: 33.5341\n",
            "Epoch 67/500\n",
            "2/2 [==============================] - 0s 7ms/step - loss: 40.7239 - mae: 34.5329\n",
            "Epoch 68/500\n",
            "2/2 [==============================] - 0s 6ms/step - loss: 40.6631 - mae: 35.0058\n",
            "Epoch 69/500\n",
            "2/2 [==============================] - 0s 6ms/step - loss: 40.7230 - mae: 35.0056\n",
            "Epoch 70/500\n",
            "2/2 [==============================] - 0s 7ms/step - loss: 40.6323 - mae: 35.2939\n",
            "Epoch 71/500\n",
            "2/2 [==============================] - 0s 7ms/step - loss: 40.6601 - mae: 37.0986\n",
            "Epoch 72/500\n",
            "2/2 [==============================] - 0s 6ms/step - loss: 40.6977 - mae: 36.8738\n",
            "Epoch 73/500\n",
            "2/2 [==============================] - 0s 7ms/step - loss: 40.6912 - mae: 37.9220\n",
            "Epoch 74/500\n",
            "2/2 [==============================] - 0s 7ms/step - loss: 40.6968 - mae: 37.5940\n",
            "Epoch 75/500\n",
            "2/2 [==============================] - 0s 8ms/step - loss: 40.7170 - mae: 37.9361\n",
            "Epoch 76/500\n",
            "2/2 [==============================] - 0s 7ms/step - loss: 40.6559 - mae: 37.0147\n",
            "Epoch 77/500\n",
            "2/2 [==============================] - 0s 8ms/step - loss: 40.7145 - mae: 38.0245\n",
            "Epoch 78/500\n",
            "2/2 [==============================] - 0s 9ms/step - loss: 40.4447 - mae: 37.7081\n",
            "Epoch 79/500\n",
            "2/2 [==============================] - 0s 7ms/step - loss: 40.5179 - mae: 32.8861\n",
            "Epoch 80/500\n",
            "2/2 [==============================] - 0s 7ms/step - loss: 41.1927 - mae: 29.0646\n",
            "Epoch 81/500\n",
            "2/2 [==============================] - 0s 7ms/step - loss: 39.9417 - mae: 32.4699\n",
            "Epoch 82/500\n",
            "2/2 [==============================] - 0s 7ms/step - loss: 40.6452 - mae: 33.0044\n",
            "Epoch 83/500\n",
            "2/2 [==============================] - 0s 7ms/step - loss: 40.6579 - mae: 35.3105\n",
            "Epoch 84/500\n",
            "2/2 [==============================] - 0s 7ms/step - loss: 40.6843 - mae: 35.5208\n",
            "Epoch 85/500\n",
            "2/2 [==============================] - 0s 7ms/step - loss: 40.7084 - mae: 35.9392\n",
            "Epoch 86/500\n",
            "2/2 [==============================] - 0s 8ms/step - loss: 40.7202 - mae: 36.4206\n",
            "Epoch 87/500\n",
            "2/2 [==============================] - 0s 7ms/step - loss: 40.6862 - mae: 36.4348\n",
            "Epoch 88/500\n",
            "2/2 [==============================] - 0s 8ms/step - loss: 40.7094 - mae: 36.3586\n",
            "Epoch 89/500\n",
            "2/2 [==============================] - 0s 9ms/step - loss: 40.7066 - mae: 37.3921\n",
            "Epoch 90/500\n",
            "2/2 [==============================] - 0s 7ms/step - loss: 40.6912 - mae: 37.5481\n",
            "Epoch 91/500\n",
            "2/2 [==============================] - 0s 9ms/step - loss: 40.6702 - mae: 37.4074\n",
            "Epoch 92/500\n",
            "2/2 [==============================] - 0s 6ms/step - loss: 40.6886 - mae: 37.2334\n",
            "Epoch 93/500\n",
            "2/2 [==============================] - 0s 7ms/step - loss: 40.6407 - mae: 37.1808\n",
            "Epoch 94/500\n",
            "2/2 [==============================] - 0s 7ms/step - loss: 40.6908 - mae: 36.1974\n",
            "Epoch 95/500\n",
            "2/2 [==============================] - 0s 7ms/step - loss: 40.7446 - mae: 35.4434\n",
            "Epoch 96/500\n",
            "2/2 [==============================] - 0s 6ms/step - loss: 40.5828 - mae: 34.9275\n",
            "Epoch 97/500\n",
            "2/2 [==============================] - 0s 8ms/step - loss: 40.7024 - mae: 35.7983\n",
            "Epoch 98/500\n",
            "2/2 [==============================] - 0s 8ms/step - loss: 40.6614 - mae: 36.4576\n",
            "Epoch 99/500\n",
            "2/2 [==============================] - 0s 8ms/step - loss: 40.6668 - mae: 36.4877\n",
            "Epoch 100/500\n",
            "2/2 [==============================] - 0s 8ms/step - loss: 40.7135 - mae: 35.3614\n",
            "Epoch 101/500\n",
            "2/2 [==============================] - 0s 7ms/step - loss: 40.6896 - mae: 36.0037\n",
            "Epoch 102/500\n",
            "2/2 [==============================] - 0s 7ms/step - loss: 40.5057 - mae: 36.6049\n",
            "Epoch 103/500\n",
            "2/2 [==============================] - 0s 6ms/step - loss: 40.5894 - mae: 36.9920\n",
            "Epoch 104/500\n",
            "2/2 [==============================] - 0s 7ms/step - loss: 40.6977 - mae: 35.3848\n",
            "Epoch 105/500\n",
            "2/2 [==============================] - 0s 7ms/step - loss: 40.6488 - mae: 36.1761\n",
            "Epoch 106/500\n",
            "2/2 [==============================] - 0s 7ms/step - loss: 40.6380 - mae: 36.2979\n",
            "Epoch 107/500\n",
            "2/2 [==============================] - 0s 7ms/step - loss: 40.6888 - mae: 34.9360\n",
            "Epoch 108/500\n",
            "2/2 [==============================] - 0s 7ms/step - loss: 40.7274 - mae: 34.3238\n",
            "Epoch 109/500\n",
            "2/2 [==============================] - 0s 7ms/step - loss: 40.6455 - mae: 33.3567\n",
            "Epoch 110/500\n",
            "2/2 [==============================] - 0s 7ms/step - loss: 40.6919 - mae: 34.7042\n",
            "Epoch 111/500\n",
            "2/2 [==============================] - 0s 7ms/step - loss: 40.6194 - mae: 35.0101\n",
            "Epoch 112/500\n",
            "2/2 [==============================] - 0s 7ms/step - loss: 40.4483 - mae: 35.2987\n",
            "Epoch 113/500\n",
            "2/2 [==============================] - 0s 7ms/step - loss: 40.4934 - mae: 32.3841\n",
            "Epoch 114/500\n",
            "2/2 [==============================] - 0s 8ms/step - loss: 41.0479 - mae: 30.9782\n",
            "Epoch 115/500\n",
            "2/2 [==============================] - 0s 8ms/step - loss: 40.9253 - mae: 31.6805\n",
            "Epoch 116/500\n",
            "2/2 [==============================] - 0s 7ms/step - loss: 40.6526 - mae: 33.0522\n",
            "Epoch 117/500\n",
            "2/2 [==============================] - 0s 8ms/step - loss: 40.5755 - mae: 34.5521\n",
            "Epoch 118/500\n",
            "2/2 [==============================] - 0s 7ms/step - loss: 40.5556 - mae: 35.1173\n",
            "Epoch 119/500\n",
            "2/2 [==============================] - 0s 7ms/step - loss: 40.0748 - mae: 35.9708\n",
            "Epoch 120/500\n",
            "2/2 [==============================] - 0s 7ms/step - loss: 41.3249 - mae: 27.9724\n",
            "Epoch 121/500\n",
            "2/2 [==============================] - 0s 7ms/step - loss: 39.9547 - mae: 32.0474\n",
            "Epoch 122/500\n",
            "2/2 [==============================] - 0s 7ms/step - loss: 41.2544 - mae: 24.8683\n",
            "Epoch 123/500\n",
            "2/2 [==============================] - 0s 7ms/step - loss: 41.9974 - mae: 24.3928\n",
            "Epoch 124/500\n",
            "2/2 [==============================] - 0s 7ms/step - loss: 41.3652 - mae: 27.7959\n",
            "Epoch 125/500\n",
            "2/2 [==============================] - 0s 7ms/step - loss: 40.6434 - mae: 30.5704\n",
            "Epoch 126/500\n",
            "2/2 [==============================] - 0s 7ms/step - loss: 40.8325 - mae: 32.6731\n",
            "Epoch 127/500\n",
            "2/2 [==============================] - 0s 7ms/step - loss: 40.2804 - mae: 33.4791\n",
            "Epoch 128/500\n",
            "2/2 [==============================] - 0s 9ms/step - loss: 41.3223 - mae: 28.5306\n",
            "Epoch 129/500\n",
            "2/2 [==============================] - 0s 9ms/step - loss: 40.4038 - mae: 30.3218\n",
            "Epoch 130/500\n",
            "2/2 [==============================] - 0s 9ms/step - loss: 41.2402 - mae: 28.9024\n",
            "Epoch 131/500\n",
            "2/2 [==============================] - 0s 7ms/step - loss: 40.8135 - mae: 30.8690\n",
            "Epoch 132/500\n",
            "2/2 [==============================] - 0s 7ms/step - loss: 40.8484 - mae: 31.5544\n",
            "Epoch 133/500\n",
            "2/2 [==============================] - 0s 7ms/step - loss: 40.5257 - mae: 32.9335\n",
            "Epoch 134/500\n",
            "2/2 [==============================] - 0s 7ms/step - loss: 41.0471 - mae: 30.1314\n",
            "Epoch 135/500\n",
            "2/2 [==============================] - 0s 7ms/step - loss: 40.7441 - mae: 32.7509\n",
            "Epoch 136/500\n",
            "2/2 [==============================] - 0s 7ms/step - loss: 40.7160 - mae: 33.3111\n",
            "Epoch 137/500\n",
            "2/2 [==============================] - 0s 7ms/step - loss: 40.0160 - mae: 32.6039\n",
            "Epoch 138/500\n",
            "2/2 [==============================] - 0s 7ms/step - loss: 40.4331 - mae: 32.1919\n",
            "Epoch 139/500\n",
            "2/2 [==============================] - 0s 7ms/step - loss: 40.8314 - mae: 32.5522\n",
            "Epoch 140/500\n",
            "2/2 [==============================] - 0s 7ms/step - loss: 40.7354 - mae: 33.4383\n",
            "Epoch 141/500\n",
            "2/2 [==============================] - 0s 7ms/step - loss: 40.1661 - mae: 33.9389\n",
            "Epoch 142/500\n",
            "2/2 [==============================] - 0s 7ms/step - loss: 40.6911 - mae: 30.3504\n",
            "Epoch 143/500\n",
            "2/2 [==============================] - 0s 8ms/step - loss: 40.5157 - mae: 28.1214\n",
            "Epoch 144/500\n",
            "2/2 [==============================] - 0s 7ms/step - loss: 40.6102 - mae: 30.9716\n",
            "Epoch 145/500\n",
            "2/2 [==============================] - 0s 7ms/step - loss: 41.4529 - mae: 26.5349\n",
            "Epoch 146/500\n",
            "2/2 [==============================] - 0s 7ms/step - loss: 39.9550 - mae: 31.6595\n",
            "Epoch 147/500\n",
            "2/2 [==============================] - 0s 7ms/step - loss: 40.2728 - mae: 32.5147\n",
            "Epoch 148/500\n",
            "2/2 [==============================] - 0s 7ms/step - loss: 40.6202 - mae: 30.5489\n",
            "Epoch 149/500\n",
            "2/2 [==============================] - 0s 7ms/step - loss: 40.7218 - mae: 32.4205\n",
            "Epoch 150/500\n",
            "2/2 [==============================] - 0s 7ms/step - loss: 39.9996 - mae: 33.5491\n",
            "Epoch 151/500\n",
            "2/2 [==============================] - 0s 7ms/step - loss: 41.0265 - mae: 30.6497\n",
            "Epoch 152/500\n",
            "2/2 [==============================] - 0s 7ms/step - loss: 40.8148 - mae: 32.3336\n",
            "Epoch 153/500\n",
            "2/2 [==============================] - 0s 7ms/step - loss: 40.3764 - mae: 31.9341\n",
            "Epoch 154/500\n",
            "2/2 [==============================] - 0s 7ms/step - loss: 40.8257 - mae: 32.4470\n",
            "Epoch 155/500\n",
            "2/2 [==============================] - 0s 7ms/step - loss: 40.6860 - mae: 33.6118\n",
            "Epoch 156/500\n",
            "2/2 [==============================] - 0s 8ms/step - loss: 40.4341 - mae: 33.0576\n",
            "Epoch 157/500\n",
            "2/2 [==============================] - 0s 8ms/step - loss: 40.7117 - mae: 31.4936\n",
            "Epoch 158/500\n",
            "2/2 [==============================] - 0s 7ms/step - loss: 40.4204 - mae: 32.3634\n",
            "Epoch 159/500\n",
            "2/2 [==============================] - 0s 7ms/step - loss: 40.6210 - mae: 34.1311\n",
            "Epoch 160/500\n",
            "2/2 [==============================] - 0s 7ms/step - loss: 40.7266 - mae: 33.9366\n",
            "Epoch 161/500\n",
            "2/2 [==============================] - 0s 8ms/step - loss: 40.6795 - mae: 33.8908\n",
            "Epoch 162/500\n",
            "2/2 [==============================] - 0s 8ms/step - loss: 40.6180 - mae: 34.4547\n",
            "Epoch 163/500\n",
            "2/2 [==============================] - 0s 7ms/step - loss: 40.7256 - mae: 33.5205\n",
            "Epoch 164/500\n",
            "2/2 [==============================] - 0s 8ms/step - loss: 40.4750 - mae: 34.1632\n",
            "Epoch 165/500\n",
            "2/2 [==============================] - 0s 7ms/step - loss: 40.6436 - mae: 35.3833\n",
            "Epoch 166/500\n",
            "2/2 [==============================] - 0s 7ms/step - loss: 40.5825 - mae: 35.4998\n",
            "Epoch 167/500\n",
            "2/2 [==============================] - 0s 7ms/step - loss: 40.7159 - mae: 34.5617\n",
            "Epoch 168/500\n",
            "2/2 [==============================] - 0s 8ms/step - loss: 40.6866 - mae: 35.3089\n",
            "Epoch 169/500\n",
            "2/2 [==============================] - 0s 8ms/step - loss: 40.6640 - mae: 35.5998\n",
            "Epoch 170/500\n",
            "2/2 [==============================] - 0s 7ms/step - loss: 40.6551 - mae: 35.5705\n",
            "Epoch 171/500\n",
            "2/2 [==============================] - 0s 8ms/step - loss: 40.6352 - mae: 35.5166\n",
            "Epoch 172/500\n",
            "2/2 [==============================] - 0s 7ms/step - loss: 40.5014 - mae: 35.6591\n",
            "Epoch 173/500\n",
            "2/2 [==============================] - 0s 7ms/step - loss: 40.7009 - mae: 33.5490\n",
            "Epoch 174/500\n",
            "2/2 [==============================] - 0s 7ms/step - loss: 40.5909 - mae: 35.0004\n",
            "Epoch 175/500\n",
            "2/2 [==============================] - 0s 7ms/step - loss: 40.5437 - mae: 34.5906\n",
            "Epoch 176/500\n",
            "2/2 [==============================] - 0s 8ms/step - loss: 40.7970 - mae: 33.4190\n",
            "Epoch 177/500\n",
            "2/2 [==============================] - 0s 9ms/step - loss: 40.7603 - mae: 33.3594\n",
            "Epoch 178/500\n",
            "2/2 [==============================] - 0s 7ms/step - loss: 40.6137 - mae: 33.8319\n",
            "Epoch 179/500\n",
            "2/2 [==============================] - 0s 7ms/step - loss: 40.0391 - mae: 34.5364\n",
            "Epoch 180/500\n",
            "2/2 [==============================] - 0s 9ms/step - loss: 40.6717 - mae: 33.9758\n",
            "Epoch 181/500\n",
            "2/2 [==============================] - 0s 6ms/step - loss: 40.7269 - mae: 33.3347\n",
            "Epoch 182/500\n",
            "2/2 [==============================] - 0s 11ms/step - loss: 40.5137 - mae: 32.6292\n",
            "Epoch 183/500\n",
            "2/2 [==============================] - 0s 6ms/step - loss: 39.8247 - mae: 33.7071\n",
            "Epoch 184/500\n",
            "2/2 [==============================] - 0s 6ms/step - loss: 41.4286 - mae: 26.9997\n",
            "Epoch 185/500\n",
            "2/2 [==============================] - 0s 7ms/step - loss: 40.7765 - mae: 31.4499\n",
            "Epoch 186/500\n",
            "2/2 [==============================] - 0s 7ms/step - loss: 40.4738 - mae: 31.0427\n",
            "Epoch 187/500\n",
            "2/2 [==============================] - 0s 7ms/step - loss: 40.6814 - mae: 33.0709\n",
            "Epoch 188/500\n",
            "2/2 [==============================] - 0s 11ms/step - loss: 40.2947 - mae: 32.0902\n",
            "Epoch 189/500\n",
            "2/2 [==============================] - 0s 7ms/step - loss: 40.7933 - mae: 32.8327\n",
            "Epoch 190/500\n",
            "2/2 [==============================] - 0s 7ms/step - loss: 40.7004 - mae: 34.6672\n",
            "Epoch 191/500\n",
            "2/2 [==============================] - 0s 7ms/step - loss: 40.5933 - mae: 34.9008\n",
            "Epoch 192/500\n",
            "2/2 [==============================] - 0s 10ms/step - loss: 40.3064 - mae: 35.4558\n",
            "Epoch 193/500\n",
            "2/2 [==============================] - 0s 7ms/step - loss: 40.5652 - mae: 33.0782\n",
            "Epoch 194/500\n",
            "2/2 [==============================] - 0s 7ms/step - loss: 40.6460 - mae: 34.2625\n",
            "Epoch 195/500\n",
            "2/2 [==============================] - 0s 6ms/step - loss: 40.5959 - mae: 34.9777\n",
            "Epoch 196/500\n",
            "2/2 [==============================] - 0s 7ms/step - loss: 39.4196 - mae: 33.6915\n",
            "Epoch 197/500\n",
            "2/2 [==============================] - 0s 7ms/step - loss: 40.9341 - mae: 31.7721\n",
            "Epoch 198/500\n",
            "2/2 [==============================] - 0s 7ms/step - loss: 40.4855 - mae: 32.0819\n",
            "Epoch 199/500\n",
            "2/2 [==============================] - 0s 7ms/step - loss: 40.9643 - mae: 30.6157\n",
            "Epoch 200/500\n",
            "2/2 [==============================] - 0s 6ms/step - loss: 40.8853 - mae: 31.7806\n",
            "Epoch 201/500\n",
            "2/2 [==============================] - 0s 7ms/step - loss: 40.1618 - mae: 33.2560\n",
            "Epoch 202/500\n",
            "2/2 [==============================] - 0s 6ms/step - loss: 41.1036 - mae: 29.4563\n",
            "Epoch 203/500\n",
            "2/2 [==============================] - 0s 7ms/step - loss: 40.7593 - mae: 32.3950\n",
            "Epoch 204/500\n",
            "2/2 [==============================] - 0s 7ms/step - loss: 40.8036 - mae: 32.8840\n",
            "Epoch 205/500\n",
            "2/2 [==============================] - 0s 6ms/step - loss: 40.6258 - mae: 33.8736\n",
            "Epoch 206/500\n",
            "2/2 [==============================] - 0s 7ms/step - loss: 40.7014 - mae: 34.7826\n",
            "Epoch 207/500\n",
            "2/2 [==============================] - 0s 7ms/step - loss: 40.4786 - mae: 35.4026\n",
            "Epoch 208/500\n",
            "2/2 [==============================] - 0s 7ms/step - loss: 40.6685 - mae: 33.4330\n",
            "Epoch 209/500\n",
            "2/2 [==============================] - 0s 7ms/step - loss: 40.0530 - mae: 33.8626\n",
            "Epoch 210/500\n",
            "2/2 [==============================] - 0s 7ms/step - loss: 41.0618 - mae: 30.4189\n",
            "Epoch 211/500\n",
            "2/2 [==============================] - 0s 8ms/step - loss: 40.8599 - mae: 31.0084\n",
            "Epoch 212/500\n",
            "2/2 [==============================] - 0s 7ms/step - loss: 40.6494 - mae: 32.9530\n",
            "Epoch 213/500\n",
            "2/2 [==============================] - 0s 6ms/step - loss: 40.6806 - mae: 34.4489\n",
            "Epoch 214/500\n",
            "2/2 [==============================] - 0s 9ms/step - loss: 40.6605 - mae: 34.5176\n",
            "Epoch 215/500\n",
            "2/2 [==============================] - 0s 7ms/step - loss: 40.6782 - mae: 33.9017\n",
            "Epoch 216/500\n",
            "2/2 [==============================] - 0s 7ms/step - loss: 40.5554 - mae: 34.8658\n",
            "Epoch 217/500\n",
            "2/2 [==============================] - 0s 7ms/step - loss: 39.8800 - mae: 34.0190\n",
            "Epoch 218/500\n",
            "2/2 [==============================] - 0s 6ms/step - loss: 40.3900 - mae: 33.4357\n",
            "Epoch 219/500\n",
            "2/2 [==============================] - 0s 6ms/step - loss: 40.7164 - mae: 34.3639\n",
            "Epoch 220/500\n",
            "2/2 [==============================] - 0s 6ms/step - loss: 39.9564 - mae: 34.2223\n",
            "Epoch 221/500\n",
            "2/2 [==============================] - 0s 6ms/step - loss: 40.9931 - mae: 30.2173\n",
            "Epoch 222/500\n",
            "2/2 [==============================] - 0s 6ms/step - loss: 40.7678 - mae: 29.9623\n",
            "Epoch 223/500\n",
            "2/2 [==============================] - 0s 6ms/step - loss: 40.0470 - mae: 32.0040\n",
            "Epoch 224/500\n",
            "2/2 [==============================] - 0s 7ms/step - loss: 40.7408 - mae: 32.6104\n",
            "Epoch 225/500\n",
            "2/2 [==============================] - 0s 7ms/step - loss: 40.6601 - mae: 32.2580\n",
            "Epoch 226/500\n",
            "2/2 [==============================] - 0s 6ms/step - loss: 40.8481 - mae: 32.1550\n",
            "Epoch 227/500\n",
            "2/2 [==============================] - 0s 7ms/step - loss: 40.7627 - mae: 31.8129\n",
            "Epoch 228/500\n",
            "2/2 [==============================] - 0s 7ms/step - loss: 40.4163 - mae: 33.6563\n",
            "Epoch 229/500\n",
            "2/2 [==============================] - 0s 7ms/step - loss: 40.6840 - mae: 34.1240\n",
            "Epoch 230/500\n",
            "2/2 [==============================] - 0s 7ms/step - loss: 40.3965 - mae: 34.9668\n",
            "Epoch 231/500\n",
            "2/2 [==============================] - 0s 7ms/step - loss: 40.8019 - mae: 32.6699\n",
            "Epoch 232/500\n",
            "2/2 [==============================] - 0s 7ms/step - loss: 40.7341 - mae: 33.6164\n",
            "Epoch 233/500\n",
            "2/2 [==============================] - 0s 10ms/step - loss: 40.7177 - mae: 34.1589\n",
            "Epoch 234/500\n",
            "2/2 [==============================] - 0s 7ms/step - loss: 40.4221 - mae: 34.6747\n",
            "Epoch 235/500\n",
            "2/2 [==============================] - 0s 7ms/step - loss: 40.6607 - mae: 33.9531\n",
            "Epoch 236/500\n",
            "2/2 [==============================] - 0s 8ms/step - loss: 40.6221 - mae: 34.2152\n",
            "Epoch 237/500\n",
            "2/2 [==============================] - 0s 10ms/step - loss: 40.4013 - mae: 34.9100\n",
            "Epoch 238/500\n",
            "2/2 [==============================] - 0s 10ms/step - loss: 40.6663 - mae: 34.8884\n",
            "Epoch 239/500\n",
            "2/2 [==============================] - 0s 9ms/step - loss: 40.6588 - mae: 35.3787\n",
            "Epoch 240/500\n",
            "2/2 [==============================] - 0s 7ms/step - loss: 40.6159 - mae: 35.4693\n",
            "Epoch 241/500\n",
            "2/2 [==============================] - 0s 7ms/step - loss: 40.6412 - mae: 35.5137\n",
            "Epoch 242/500\n",
            "2/2 [==============================] - 0s 7ms/step - loss: 40.6110 - mae: 36.2383\n",
            "Epoch 243/500\n",
            "2/2 [==============================] - 0s 7ms/step - loss: 40.4287 - mae: 35.9549\n",
            "Epoch 244/500\n",
            "2/2 [==============================] - 0s 7ms/step - loss: 40.6494 - mae: 36.2092\n",
            "Epoch 245/500\n",
            "2/2 [==============================] - 0s 11ms/step - loss: 40.6346 - mae: 35.6930\n",
            "Epoch 246/500\n",
            "2/2 [==============================] - 0s 8ms/step - loss: 40.5940 - mae: 36.3666\n",
            "Epoch 247/500\n",
            "2/2 [==============================] - 0s 9ms/step - loss: 40.6401 - mae: 35.1814\n",
            "Epoch 248/500\n",
            "2/2 [==============================] - 0s 7ms/step - loss: 40.6604 - mae: 35.3576\n",
            "Epoch 249/500\n",
            "2/2 [==============================] - 0s 7ms/step - loss: 40.5478 - mae: 35.4901\n",
            "Epoch 250/500\n",
            "2/2 [==============================] - 0s 7ms/step - loss: 40.6087 - mae: 33.9464\n",
            "Epoch 251/500\n",
            "2/2 [==============================] - 0s 7ms/step - loss: 40.2251 - mae: 34.3495\n",
            "Epoch 252/500\n",
            "2/2 [==============================] - 0s 7ms/step - loss: 40.9481 - mae: 31.1420\n",
            "Epoch 253/500\n",
            "2/2 [==============================] - 0s 7ms/step - loss: 40.8197 - mae: 31.1166\n",
            "Epoch 254/500\n",
            "2/2 [==============================] - 0s 7ms/step - loss: 40.5329 - mae: 33.1612\n",
            "Epoch 255/500\n",
            "2/2 [==============================] - 0s 8ms/step - loss: 40.9194 - mae: 31.0194\n",
            "Epoch 256/500\n",
            "2/2 [==============================] - 0s 11ms/step - loss: 40.5062 - mae: 31.9795\n",
            "Epoch 257/500\n",
            "2/2 [==============================] - 0s 10ms/step - loss: 40.7358 - mae: 32.5945\n",
            "Epoch 258/500\n",
            "2/2 [==============================] - 0s 7ms/step - loss: 40.6381 - mae: 33.7939\n",
            "Epoch 259/500\n",
            "2/2 [==============================] - 0s 8ms/step - loss: 40.4046 - mae: 33.5708\n",
            "Epoch 260/500\n",
            "2/2 [==============================] - 0s 10ms/step - loss: 40.8576 - mae: 31.1394\n",
            "Epoch 261/500\n",
            "2/2 [==============================] - 0s 9ms/step - loss: 40.1147 - mae: 30.4050\n",
            "Epoch 262/500\n",
            "2/2 [==============================] - 0s 7ms/step - loss: 40.1662 - mae: 30.8276\n",
            "Epoch 263/500\n",
            "2/2 [==============================] - 0s 7ms/step - loss: 40.8878 - mae: 31.5836\n",
            "Epoch 264/500\n",
            "2/2 [==============================] - 0s 7ms/step - loss: 39.9866 - mae: 32.2626\n",
            "Epoch 265/500\n",
            "2/2 [==============================] - 0s 7ms/step - loss: 40.4188 - mae: 32.5064\n",
            "Epoch 266/500\n",
            "2/2 [==============================] - 0s 7ms/step - loss: 40.6193 - mae: 33.4686\n",
            "Epoch 267/500\n",
            "2/2 [==============================] - 0s 7ms/step - loss: 40.6432 - mae: 35.1264\n",
            "Epoch 268/500\n",
            "2/2 [==============================] - 0s 8ms/step - loss: 40.4155 - mae: 34.7324\n",
            "Epoch 269/500\n",
            "2/2 [==============================] - 0s 7ms/step - loss: 40.7906 - mae: 32.4962\n",
            "Epoch 270/500\n",
            "2/2 [==============================] - 0s 7ms/step - loss: 40.0000 - mae: 33.3348\n",
            "Epoch 271/500\n",
            "2/2 [==============================] - 0s 7ms/step - loss: 40.4179 - mae: 33.7410\n",
            "Epoch 272/500\n",
            "2/2 [==============================] - 0s 7ms/step - loss: 40.7283 - mae: 32.7379\n",
            "Epoch 273/500\n",
            "2/2 [==============================] - 0s 7ms/step - loss: 40.5799 - mae: 34.4336\n",
            "Epoch 274/500\n",
            "2/2 [==============================] - 0s 7ms/step - loss: 39.8994 - mae: 35.0292\n",
            "Epoch 275/500\n",
            "2/2 [==============================] - 0s 7ms/step - loss: 41.1309 - mae: 29.6392\n",
            "Epoch 276/500\n",
            "2/2 [==============================] - 0s 7ms/step - loss: 40.9461 - mae: 30.9787\n",
            "Epoch 277/500\n",
            "2/2 [==============================] - 0s 9ms/step - loss: 40.2272 - mae: 32.6254\n",
            "Epoch 278/500\n",
            "2/2 [==============================] - 0s 8ms/step - loss: 40.7937 - mae: 33.0344\n",
            "Epoch 279/500\n",
            "2/2 [==============================] - 0s 7ms/step - loss: 40.6654 - mae: 32.8712\n",
            "Epoch 280/500\n",
            "2/2 [==============================] - 0s 7ms/step - loss: 40.8534 - mae: 32.0580\n",
            "Epoch 281/500\n",
            "2/2 [==============================] - 0s 7ms/step - loss: 40.7077 - mae: 33.1228\n",
            "Epoch 282/500\n",
            "2/2 [==============================] - 0s 7ms/step - loss: 40.6944 - mae: 33.3580\n",
            "Epoch 283/500\n",
            "2/2 [==============================] - 0s 9ms/step - loss: 40.5519 - mae: 34.7877\n",
            "Epoch 284/500\n",
            "2/2 [==============================] - 0s 7ms/step - loss: 40.6039 - mae: 34.3170\n",
            "Epoch 285/500\n",
            "2/2 [==============================] - 0s 7ms/step - loss: 40.5230 - mae: 34.2763\n",
            "Epoch 286/500\n",
            "2/2 [==============================] - 0s 10ms/step - loss: 40.4880 - mae: 33.0707\n",
            "Epoch 287/500\n",
            "2/2 [==============================] - 0s 7ms/step - loss: 40.8939 - mae: 31.4578\n",
            "Epoch 288/500\n",
            "2/2 [==============================] - 0s 9ms/step - loss: 40.6848 - mae: 32.6687\n",
            "Epoch 289/500\n",
            "2/2 [==============================] - 0s 7ms/step - loss: 40.7006 - mae: 33.9735\n",
            "Epoch 290/500\n",
            "2/2 [==============================] - 0s 10ms/step - loss: 40.6502 - mae: 34.8116\n",
            "Epoch 291/500\n",
            "2/2 [==============================] - 0s 8ms/step - loss: 40.5832 - mae: 34.9189\n",
            "Epoch 292/500\n",
            "2/2 [==============================] - 0s 7ms/step - loss: 40.3984 - mae: 35.9729\n",
            "Epoch 293/500\n",
            "2/2 [==============================] - 0s 7ms/step - loss: 40.4553 - mae: 33.6901\n",
            "Epoch 294/500\n",
            "2/2 [==============================] - 0s 7ms/step - loss: 40.8120 - mae: 32.5997\n",
            "Epoch 295/500\n",
            "2/2 [==============================] - 0s 13ms/step - loss: 40.7233 - mae: 33.5270\n",
            "Epoch 296/500\n",
            "2/2 [==============================] - 0s 11ms/step - loss: 40.5292 - mae: 33.5360\n",
            "Epoch 297/500\n",
            "2/2 [==============================] - 0s 8ms/step - loss: 40.6507 - mae: 34.2255\n",
            "Epoch 298/500\n",
            "2/2 [==============================] - 0s 7ms/step - loss: 40.6763 - mae: 33.7321\n",
            "Epoch 299/500\n",
            "2/2 [==============================] - 0s 6ms/step - loss: 40.4057 - mae: 34.3376\n",
            "Epoch 300/500\n",
            "2/2 [==============================] - 0s 6ms/step - loss: 40.4877 - mae: 32.2718\n",
            "Epoch 301/500\n",
            "2/2 [==============================] - 0s 6ms/step - loss: 40.5459 - mae: 29.7048\n",
            "Epoch 302/500\n",
            "2/2 [==============================] - 0s 7ms/step - loss: 40.8464 - mae: 31.5553\n",
            "Epoch 303/500\n",
            "2/2 [==============================] - 0s 7ms/step - loss: 40.9699 - mae: 30.8535\n",
            "Epoch 304/500\n",
            "2/2 [==============================] - 0s 6ms/step - loss: 39.9289 - mae: 31.4445\n",
            "Epoch 305/500\n",
            "2/2 [==============================] - 0s 6ms/step - loss: 40.8844 - mae: 31.2579\n",
            "Epoch 306/500\n",
            "2/2 [==============================] - 0s 7ms/step - loss: 40.7477 - mae: 32.1874\n",
            "Epoch 307/500\n",
            "2/2 [==============================] - 0s 6ms/step - loss: 40.6543 - mae: 33.6051\n",
            "Epoch 308/500\n",
            "2/2 [==============================] - 0s 6ms/step - loss: 40.6985 - mae: 33.9585\n",
            "Epoch 309/500\n",
            "2/2 [==============================] - 0s 6ms/step - loss: 40.6717 - mae: 34.6110\n",
            "Epoch 310/500\n",
            "2/2 [==============================] - 0s 7ms/step - loss: 40.5838 - mae: 35.0464\n",
            "Epoch 311/500\n",
            "2/2 [==============================] - 0s 7ms/step - loss: 40.1153 - mae: 35.7492\n",
            "Epoch 312/500\n",
            "2/2 [==============================] - 0s 7ms/step - loss: 40.8052 - mae: 31.7494\n",
            "Epoch 313/500\n",
            "2/2 [==============================] - 0s 7ms/step - loss: 39.7209 - mae: 31.1343\n",
            "Epoch 314/500\n",
            "2/2 [==============================] - 0s 7ms/step - loss: 40.8490 - mae: 31.4959\n",
            "Epoch 315/500\n",
            "2/2 [==============================] - 0s 8ms/step - loss: 40.7690 - mae: 32.4843\n",
            "Epoch 316/500\n",
            "2/2 [==============================] - 0s 7ms/step - loss: 40.0632 - mae: 34.2127\n",
            "Epoch 317/500\n",
            "2/2 [==============================] - 0s 8ms/step - loss: 40.8783 - mae: 29.9294\n",
            "Epoch 318/500\n",
            "2/2 [==============================] - 0s 8ms/step - loss: 40.9435 - mae: 31.8033\n",
            "Epoch 319/500\n",
            "2/2 [==============================] - 0s 7ms/step - loss: 40.8658 - mae: 31.9006\n",
            "Epoch 320/500\n",
            "2/2 [==============================] - 0s 7ms/step - loss: 40.7092 - mae: 33.6014\n",
            "Epoch 321/500\n",
            "2/2 [==============================] - 0s 7ms/step - loss: 40.2118 - mae: 34.8650\n",
            "Epoch 322/500\n",
            "2/2 [==============================] - 0s 7ms/step - loss: 40.6575 - mae: 34.9477\n",
            "Epoch 323/500\n",
            "2/2 [==============================] - 0s 9ms/step - loss: 40.6570 - mae: 35.2632\n",
            "Epoch 324/500\n",
            "2/2 [==============================] - 0s 8ms/step - loss: 40.5691 - mae: 35.4325\n",
            "Epoch 325/500\n",
            "2/2 [==============================] - 0s 7ms/step - loss: 40.6068 - mae: 34.9213\n",
            "Epoch 326/500\n",
            "2/2 [==============================] - 0s 9ms/step - loss: 40.6033 - mae: 35.0699\n",
            "Epoch 327/500\n",
            "2/2 [==============================] - 0s 7ms/step - loss: 40.3168 - mae: 35.1847\n",
            "Epoch 328/500\n",
            "2/2 [==============================] - 0s 8ms/step - loss: 40.5849 - mae: 35.4362\n",
            "Epoch 329/500\n",
            "2/2 [==============================] - 0s 8ms/step - loss: 40.5420 - mae: 35.8531\n",
            "Epoch 330/500\n",
            "2/2 [==============================] - 0s 7ms/step - loss: 40.5794 - mae: 36.1706\n",
            "Epoch 331/500\n",
            "2/2 [==============================] - 0s 9ms/step - loss: 40.3647 - mae: 35.5512\n",
            "Epoch 332/500\n",
            "2/2 [==============================] - 0s 7ms/step - loss: 40.6592 - mae: 33.9323\n",
            "Epoch 333/500\n",
            "2/2 [==============================] - 0s 9ms/step - loss: 40.6588 - mae: 34.2099\n",
            "Epoch 334/500\n",
            "2/2 [==============================] - 0s 7ms/step - loss: 40.4755 - mae: 34.5793\n",
            "Epoch 335/500\n",
            "2/2 [==============================] - 0s 8ms/step - loss: 40.0097 - mae: 35.1804\n",
            "Epoch 336/500\n",
            "2/2 [==============================] - 0s 7ms/step - loss: 40.8226 - mae: 31.8561\n",
            "Epoch 337/500\n",
            "2/2 [==============================] - 0s 7ms/step - loss: 40.3055 - mae: 33.0331\n",
            "Epoch 338/500\n",
            "2/2 [==============================] - 0s 7ms/step - loss: 40.4672 - mae: 33.0642\n",
            "Epoch 339/500\n",
            "2/2 [==============================] - 0s 8ms/step - loss: 40.4857 - mae: 33.5166\n",
            "Epoch 340/500\n",
            "2/2 [==============================] - 0s 7ms/step - loss: 40.7107 - mae: 33.9636\n",
            "Epoch 341/500\n",
            "2/2 [==============================] - 0s 7ms/step - loss: 40.4506 - mae: 34.6147\n",
            "Epoch 342/500\n",
            "2/2 [==============================] - 0s 9ms/step - loss: 40.1302 - mae: 35.3448\n",
            "Epoch 343/500\n",
            "2/2 [==============================] - 0s 7ms/step - loss: 40.1559 - mae: 34.9005\n",
            "Epoch 344/500\n",
            "2/2 [==============================] - 0s 10ms/step - loss: 39.6020 - mae: 35.2211\n",
            "Epoch 345/500\n",
            "2/2 [==============================] - 0s 8ms/step - loss: 41.3958 - mae: 27.5484\n",
            "Epoch 346/500\n",
            "2/2 [==============================] - 0s 10ms/step - loss: 40.9161 - mae: 30.4067\n",
            "Epoch 347/500\n",
            "2/2 [==============================] - 0s 7ms/step - loss: 40.9444 - mae: 30.6781\n",
            "Epoch 348/500\n",
            "2/2 [==============================] - 0s 7ms/step - loss: 40.6492 - mae: 32.9682\n",
            "Epoch 349/500\n",
            "2/2 [==============================] - 0s 8ms/step - loss: 40.6819 - mae: 34.3225\n",
            "Epoch 350/500\n",
            "2/2 [==============================] - 0s 7ms/step - loss: 39.7839 - mae: 34.5581\n",
            "Epoch 351/500\n",
            "2/2 [==============================] - 0s 11ms/step - loss: 40.8876 - mae: 29.6252\n",
            "Epoch 352/500\n",
            "2/2 [==============================] - 0s 8ms/step - loss: 40.9883 - mae: 30.4963\n",
            "Epoch 353/500\n",
            "2/2 [==============================] - 0s 7ms/step - loss: 40.7683 - mae: 32.2299\n",
            "Epoch 354/500\n",
            "2/2 [==============================] - 0s 7ms/step - loss: 40.6355 - mae: 33.5461\n",
            "Epoch 355/500\n",
            "2/2 [==============================] - 0s 7ms/step - loss: 40.5560 - mae: 34.4588\n",
            "Epoch 356/500\n",
            "2/2 [==============================] - 0s 7ms/step - loss: 40.3147 - mae: 35.1266\n",
            "Epoch 357/500\n",
            "2/2 [==============================] - 0s 7ms/step - loss: 40.2469 - mae: 32.4249\n",
            "Epoch 358/500\n",
            "2/2 [==============================] - 0s 10ms/step - loss: 40.9768 - mae: 30.7126\n",
            "Epoch 359/500\n",
            "2/2 [==============================] - 0s 9ms/step - loss: 40.4096 - mae: 32.2178\n",
            "Epoch 360/500\n",
            "2/2 [==============================] - 0s 7ms/step - loss: 40.7745 - mae: 30.8246\n",
            "Epoch 361/500\n",
            "2/2 [==============================] - 0s 7ms/step - loss: 40.6529 - mae: 33.0086\n",
            "Epoch 362/500\n",
            "2/2 [==============================] - 0s 8ms/step - loss: 40.6166 - mae: 33.0503\n",
            "Epoch 363/500\n",
            "2/2 [==============================] - 0s 8ms/step - loss: 40.3217 - mae: 32.3361\n",
            "Epoch 364/500\n",
            "2/2 [==============================] - 0s 8ms/step - loss: 40.9950 - mae: 29.0639\n",
            "Epoch 365/500\n",
            "2/2 [==============================] - 0s 8ms/step - loss: 40.4123 - mae: 31.6472\n",
            "Epoch 366/500\n",
            "2/2 [==============================] - 0s 7ms/step - loss: 40.0192 - mae: 33.3140\n",
            "Epoch 367/500\n",
            "2/2 [==============================] - 0s 13ms/step - loss: 41.0422 - mae: 29.7120\n",
            "Epoch 368/500\n",
            "2/2 [==============================] - 0s 10ms/step - loss: 40.7420 - mae: 30.9480\n",
            "Epoch 369/500\n",
            "2/2 [==============================] - 0s 8ms/step - loss: 40.7331 - mae: 33.3375\n",
            "Epoch 370/500\n",
            "2/2 [==============================] - 0s 9ms/step - loss: 40.6761 - mae: 33.8436\n",
            "Epoch 371/500\n",
            "2/2 [==============================] - 0s 7ms/step - loss: 40.5030 - mae: 34.1050\n",
            "Epoch 372/500\n",
            "2/2 [==============================] - 0s 8ms/step - loss: 40.5473 - mae: 35.0628\n",
            "Epoch 373/500\n",
            "2/2 [==============================] - 0s 7ms/step - loss: 40.6664 - mae: 34.3570\n",
            "Epoch 374/500\n",
            "2/2 [==============================] - 0s 7ms/step - loss: 40.5654 - mae: 34.6819\n",
            "Epoch 375/500\n",
            "2/2 [==============================] - 0s 7ms/step - loss: 40.5089 - mae: 35.3762\n",
            "Epoch 376/500\n",
            "2/2 [==============================] - 0s 7ms/step - loss: 40.2265 - mae: 35.7901\n",
            "Epoch 377/500\n",
            "2/2 [==============================] - 0s 8ms/step - loss: 40.4515 - mae: 35.7961\n",
            "Epoch 378/500\n",
            "2/2 [==============================] - 0s 9ms/step - loss: 40.5303 - mae: 35.3910\n",
            "Epoch 379/500\n",
            "2/2 [==============================] - 0s 6ms/step - loss: 40.5300 - mae: 34.8391\n",
            "Epoch 380/500\n",
            "2/2 [==============================] - 0s 10ms/step - loss: 40.6870 - mae: 33.8027\n",
            "Epoch 381/500\n",
            "2/2 [==============================] - 0s 7ms/step - loss: 40.5941 - mae: 35.4571\n",
            "Epoch 382/500\n",
            "2/2 [==============================] - 0s 8ms/step - loss: 40.5365 - mae: 35.5902\n",
            "Epoch 383/500\n",
            "2/2 [==============================] - 0s 7ms/step - loss: 40.4298 - mae: 35.1262\n",
            "Epoch 384/500\n",
            "2/2 [==============================] - 0s 9ms/step - loss: 40.1032 - mae: 35.1526\n",
            "Epoch 385/500\n",
            "2/2 [==============================] - 0s 7ms/step - loss: 40.6358 - mae: 34.9327\n",
            "Epoch 386/500\n",
            "2/2 [==============================] - 0s 9ms/step - loss: 40.6165 - mae: 35.0619\n",
            "Epoch 387/500\n",
            "2/2 [==============================] - 0s 7ms/step - loss: 40.5999 - mae: 35.8637\n",
            "Epoch 388/500\n",
            "2/2 [==============================] - 0s 12ms/step - loss: 40.6552 - mae: 35.6167\n",
            "Epoch 389/500\n",
            "2/2 [==============================] - 0s 7ms/step - loss: 40.3097 - mae: 35.4889\n",
            "Epoch 390/500\n",
            "2/2 [==============================] - 0s 10ms/step - loss: 40.8023 - mae: 32.3610\n",
            "Epoch 391/500\n",
            "2/2 [==============================] - 0s 8ms/step - loss: 40.7522 - mae: 33.2732\n",
            "Epoch 392/500\n",
            "2/2 [==============================] - 0s 7ms/step - loss: 40.4602 - mae: 34.5978\n",
            "Epoch 393/500\n",
            "2/2 [==============================] - 0s 7ms/step - loss: 40.6380 - mae: 34.8755\n",
            "Epoch 394/500\n",
            "2/2 [==============================] - 0s 7ms/step - loss: 40.4744 - mae: 35.5893\n",
            "Epoch 395/500\n",
            "2/2 [==============================] - 0s 7ms/step - loss: 40.6670 - mae: 34.2338\n",
            "Epoch 396/500\n",
            "2/2 [==============================] - 0s 7ms/step - loss: 40.4310 - mae: 34.7134\n",
            "Epoch 397/500\n",
            "2/2 [==============================] - 0s 6ms/step - loss: 40.5836 - mae: 34.9543\n",
            "Epoch 398/500\n",
            "2/2 [==============================] - 0s 7ms/step - loss: 40.6501 - mae: 34.4066\n",
            "Epoch 399/500\n",
            "2/2 [==============================] - 0s 7ms/step - loss: 40.4917 - mae: 35.0729\n",
            "Epoch 400/500\n",
            "2/2 [==============================] - 0s 8ms/step - loss: 40.7343 - mae: 33.4007\n",
            "Epoch 401/500\n",
            "2/2 [==============================] - 0s 8ms/step - loss: 39.9362 - mae: 34.1503\n",
            "Epoch 402/500\n",
            "2/2 [==============================] - 0s 7ms/step - loss: 40.4589 - mae: 29.2081\n",
            "Epoch 403/500\n",
            "2/2 [==============================] - 0s 9ms/step - loss: 40.1596 - mae: 31.5994\n",
            "Epoch 404/500\n",
            "2/2 [==============================] - 0s 6ms/step - loss: 41.3493 - mae: 27.5862\n",
            "Epoch 405/500\n",
            "2/2 [==============================] - 0s 8ms/step - loss: 40.7656 - mae: 31.5194\n",
            "Epoch 406/500\n",
            "2/2 [==============================] - 0s 7ms/step - loss: 40.7653 - mae: 32.7481\n",
            "Epoch 407/500\n",
            "2/2 [==============================] - 0s 7ms/step - loss: 40.6600 - mae: 33.8919\n",
            "Epoch 408/500\n",
            "2/2 [==============================] - 0s 6ms/step - loss: 40.1236 - mae: 34.6036\n",
            "Epoch 409/500\n",
            "2/2 [==============================] - 0s 7ms/step - loss: 40.8415 - mae: 30.2689\n",
            "Epoch 410/500\n",
            "2/2 [==============================] - 0s 7ms/step - loss: 40.8814 - mae: 31.2499\n",
            "Epoch 411/500\n",
            "2/2 [==============================] - 0s 7ms/step - loss: 40.6669 - mae: 32.3375\n",
            "Epoch 412/500\n",
            "2/2 [==============================] - 0s 7ms/step - loss: 40.7675 - mae: 32.1556\n",
            "Epoch 413/500\n",
            "2/2 [==============================] - 0s 7ms/step - loss: 40.8378 - mae: 32.4375\n",
            "Epoch 414/500\n",
            "2/2 [==============================] - 0s 7ms/step - loss: 40.6968 - mae: 32.3483\n",
            "Epoch 415/500\n",
            "2/2 [==============================] - 0s 7ms/step - loss: 40.6350 - mae: 33.9234\n",
            "Epoch 416/500\n",
            "2/2 [==============================] - 0s 7ms/step - loss: 40.6376 - mae: 35.0460\n",
            "Epoch 417/500\n",
            "2/2 [==============================] - 0s 6ms/step - loss: 40.6149 - mae: 35.4652\n",
            "Epoch 418/500\n",
            "2/2 [==============================] - 0s 6ms/step - loss: 40.6209 - mae: 35.2288\n",
            "Epoch 419/500\n",
            "2/2 [==============================] - 0s 10ms/step - loss: 40.3688 - mae: 35.4761\n",
            "Epoch 420/500\n",
            "2/2 [==============================] - 0s 7ms/step - loss: 40.6363 - mae: 33.2748\n",
            "Epoch 421/500\n",
            "2/2 [==============================] - 0s 7ms/step - loss: 40.5765 - mae: 34.6132\n",
            "Epoch 422/500\n",
            "2/2 [==============================] - 0s 7ms/step - loss: 40.4841 - mae: 35.0536\n",
            "Epoch 423/500\n",
            "2/2 [==============================] - 0s 7ms/step - loss: 40.6693 - mae: 34.4609\n",
            "Epoch 424/500\n",
            "2/2 [==============================] - 0s 7ms/step - loss: 40.5246 - mae: 35.0815\n",
            "Epoch 425/500\n",
            "2/2 [==============================] - 0s 8ms/step - loss: 40.6541 - mae: 34.7226\n",
            "Epoch 426/500\n",
            "2/2 [==============================] - 0s 9ms/step - loss: 40.3855 - mae: 34.3843\n",
            "Epoch 427/500\n",
            "2/2 [==============================] - 0s 7ms/step - loss: 40.6573 - mae: 34.5446\n",
            "Epoch 428/500\n",
            "2/2 [==============================] - 0s 7ms/step - loss: 40.4442 - mae: 34.8889\n",
            "Epoch 429/500\n",
            "2/2 [==============================] - 0s 7ms/step - loss: 40.2387 - mae: 34.0532\n",
            "Epoch 430/500\n",
            "2/2 [==============================] - 0s 9ms/step - loss: 40.8228 - mae: 30.1682\n",
            "Epoch 431/500\n",
            "2/2 [==============================] - 0s 10ms/step - loss: 40.6400 - mae: 31.4465\n",
            "Epoch 432/500\n",
            "2/2 [==============================] - 0s 8ms/step - loss: 40.7396 - mae: 31.7555\n",
            "Epoch 433/500\n",
            "2/2 [==============================] - 0s 7ms/step - loss: 40.1677 - mae: 33.1988\n",
            "Epoch 434/500\n",
            "2/2 [==============================] - 0s 8ms/step - loss: 41.0471 - mae: 30.1582\n",
            "Epoch 435/500\n",
            "2/2 [==============================] - 0s 7ms/step - loss: 39.8121 - mae: 32.3593\n",
            "Epoch 436/500\n",
            "2/2 [==============================] - 0s 9ms/step - loss: 41.4033 - mae: 26.1985\n",
            "Epoch 437/500\n",
            "2/2 [==============================] - 0s 9ms/step - loss: 41.1490 - mae: 27.9961\n",
            "Epoch 438/500\n",
            "2/2 [==============================] - 0s 8ms/step - loss: 39.6997 - mae: 32.5116\n",
            "Epoch 439/500\n",
            "2/2 [==============================] - 0s 7ms/step - loss: 41.1408 - mae: 25.8010\n",
            "Epoch 440/500\n",
            "2/2 [==============================] - 0s 6ms/step - loss: 41.0770 - mae: 26.1159\n",
            "Epoch 441/500\n",
            "2/2 [==============================] - 0s 7ms/step - loss: 41.1655 - mae: 27.0598\n",
            "Epoch 442/500\n",
            "2/2 [==============================] - 0s 8ms/step - loss: 41.1467 - mae: 28.9142\n",
            "Epoch 443/500\n",
            "2/2 [==============================] - 0s 5ms/step - loss: 40.9000 - mae: 30.9847\n",
            "Epoch 444/500\n",
            "2/2 [==============================] - 0s 8ms/step - loss: 40.2307 - mae: 31.9370\n",
            "Epoch 445/500\n",
            "2/2 [==============================] - 0s 7ms/step - loss: 40.7249 - mae: 33.5694\n",
            "Epoch 446/500\n",
            "2/2 [==============================] - 0s 7ms/step - loss: 40.3378 - mae: 33.2159\n",
            "Epoch 447/500\n",
            "2/2 [==============================] - 0s 8ms/step - loss: 40.3103 - mae: 34.2326\n",
            "Epoch 448/500\n",
            "2/2 [==============================] - 0s 9ms/step - loss: 40.6515 - mae: 34.8610\n",
            "Epoch 449/500\n",
            "2/2 [==============================] - 0s 11ms/step - loss: 40.6125 - mae: 34.8804\n",
            "Epoch 450/500\n",
            "2/2 [==============================] - 0s 7ms/step - loss: 40.5976 - mae: 35.1968\n",
            "Epoch 451/500\n",
            "2/2 [==============================] - 0s 8ms/step - loss: 39.9821 - mae: 35.5637\n",
            "Epoch 452/500\n",
            "2/2 [==============================] - 0s 9ms/step - loss: 40.8126 - mae: 31.0823\n",
            "Epoch 453/500\n",
            "2/2 [==============================] - 0s 10ms/step - loss: 40.9076 - mae: 29.6090\n",
            "Epoch 454/500\n",
            "2/2 [==============================] - 0s 6ms/step - loss: 40.8889 - mae: 30.6436\n",
            "Epoch 455/500\n",
            "2/2 [==============================] - 0s 7ms/step - loss: 40.7114 - mae: 31.9392\n",
            "Epoch 456/500\n",
            "2/2 [==============================] - 0s 15ms/step - loss: 40.6414 - mae: 33.6992\n",
            "Epoch 457/500\n",
            "2/2 [==============================] - 0s 10ms/step - loss: 40.5779 - mae: 33.9370\n",
            "Epoch 458/500\n",
            "2/2 [==============================] - 0s 11ms/step - loss: 40.1838 - mae: 34.7469\n",
            "Epoch 459/500\n",
            "2/2 [==============================] - 0s 6ms/step - loss: 40.7564 - mae: 32.1647\n",
            "Epoch 460/500\n",
            "2/2 [==============================] - 0s 8ms/step - loss: 40.7488 - mae: 32.8650\n",
            "Epoch 461/500\n",
            "2/2 [==============================] - 0s 6ms/step - loss: 40.6490 - mae: 33.7234\n",
            "Epoch 462/500\n",
            "2/2 [==============================] - 0s 6ms/step - loss: 40.6537 - mae: 34.3008\n",
            "Epoch 463/500\n",
            "2/2 [==============================] - 0s 10ms/step - loss: 40.5901 - mae: 34.8051\n",
            "Epoch 464/500\n",
            "2/2 [==============================] - 0s 6ms/step - loss: 40.4262 - mae: 35.4091\n",
            "Epoch 465/500\n",
            "2/2 [==============================] - 0s 8ms/step - loss: 40.4083 - mae: 35.5041\n",
            "Epoch 466/500\n",
            "2/2 [==============================] - 0s 8ms/step - loss: 40.5677 - mae: 35.6313\n",
            "Epoch 467/500\n",
            "2/2 [==============================] - 0s 8ms/step - loss: 40.6467 - mae: 35.0952\n",
            "Epoch 468/500\n",
            "2/2 [==============================] - 0s 11ms/step - loss: 40.5370 - mae: 34.9310\n",
            "Epoch 469/500\n",
            "2/2 [==============================] - 0s 7ms/step - loss: 40.6367 - mae: 34.1982\n",
            "Epoch 470/500\n",
            "2/2 [==============================] - 0s 8ms/step - loss: 40.6312 - mae: 34.3856\n",
            "Epoch 471/500\n",
            "2/2 [==============================] - 0s 8ms/step - loss: 40.5341 - mae: 34.8120\n",
            "Epoch 472/500\n",
            "2/2 [==============================] - 0s 7ms/step - loss: 40.6003 - mae: 35.3478\n",
            "Epoch 473/500\n",
            "2/2 [==============================] - 0s 9ms/step - loss: 40.4667 - mae: 36.0207\n",
            "Epoch 474/500\n",
            "2/2 [==============================] - 0s 8ms/step - loss: 40.5672 - mae: 34.5541\n",
            "Epoch 475/500\n",
            "2/2 [==============================] - 0s 6ms/step - loss: 40.2324 - mae: 34.4439\n",
            "Epoch 476/500\n",
            "2/2 [==============================] - 0s 7ms/step - loss: 40.4571 - mae: 35.0927\n",
            "Epoch 477/500\n",
            "2/2 [==============================] - 0s 7ms/step - loss: 40.6641 - mae: 33.4291\n",
            "Epoch 478/500\n",
            "2/2 [==============================] - 0s 9ms/step - loss: 40.2757 - mae: 32.7998\n",
            "Epoch 479/500\n",
            "2/2 [==============================] - 0s 9ms/step - loss: 40.6677 - mae: 33.4516\n",
            "Epoch 480/500\n",
            "2/2 [==============================] - 0s 7ms/step - loss: 40.7013 - mae: 32.9448\n",
            "Epoch 481/500\n",
            "2/2 [==============================] - 0s 9ms/step - loss: 40.6082 - mae: 33.6313\n",
            "Epoch 482/500\n",
            "2/2 [==============================] - 0s 8ms/step - loss: 40.6368 - mae: 33.3129\n",
            "Epoch 483/500\n",
            "2/2 [==============================] - 0s 7ms/step - loss: 40.3550 - mae: 33.8862\n",
            "Epoch 484/500\n",
            "2/2 [==============================] - 0s 8ms/step - loss: 39.9429 - mae: 31.2327\n",
            "Epoch 485/500\n",
            "2/2 [==============================] - 0s 8ms/step - loss: 40.7049 - mae: 31.7839\n",
            "Epoch 486/500\n",
            "2/2 [==============================] - 0s 10ms/step - loss: 39.9127 - mae: 32.3269\n",
            "Epoch 487/500\n",
            "2/2 [==============================] - 0s 9ms/step - loss: 40.6137 - mae: 32.9217\n",
            "Epoch 488/500\n",
            "2/2 [==============================] - 0s 6ms/step - loss: 39.8364 - mae: 31.9995\n",
            "Epoch 489/500\n",
            "2/2 [==============================] - 0s 8ms/step - loss: 40.4854 - mae: 32.0737\n",
            "Epoch 490/500\n",
            "2/2 [==============================] - 0s 9ms/step - loss: 40.6529 - mae: 34.0501\n",
            "Epoch 491/500\n",
            "2/2 [==============================] - 0s 9ms/step - loss: 40.6426 - mae: 34.5996\n",
            "Epoch 492/500\n",
            "2/2 [==============================] - 0s 7ms/step - loss: 40.6206 - mae: 34.2727\n",
            "Epoch 493/500\n",
            "2/2 [==============================] - 0s 7ms/step - loss: 40.5226 - mae: 34.5424\n",
            "Epoch 494/500\n",
            "2/2 [==============================] - 0s 10ms/step - loss: 40.1757 - mae: 34.9027\n",
            "Epoch 495/500\n",
            "2/2 [==============================] - 0s 9ms/step - loss: 40.5451 - mae: 35.0808\n",
            "Epoch 496/500\n",
            "2/2 [==============================] - 0s 10ms/step - loss: 40.5732 - mae: 35.1439\n",
            "Epoch 497/500\n",
            "2/2 [==============================] - 0s 9ms/step - loss: 40.2577 - mae: 35.3748\n",
            "Epoch 498/500\n",
            "2/2 [==============================] - 0s 9ms/step - loss: 40.8560 - mae: 32.1928\n",
            "Epoch 499/500\n",
            "2/2 [==============================] - 0s 8ms/step - loss: 40.6081 - mae: 32.3111\n",
            "Epoch 500/500\n",
            "2/2 [==============================] - 0s 9ms/step - loss: 39.7447 - mae: 32.3311\n"
          ]
        },
        {
          "output_type": "execute_result",
          "data": {
            "text/plain": [
              "<keras.src.callbacks.History at 0x7b08b9427580>"
            ]
          },
          "metadata": {},
          "execution_count": 59
        }
      ]
    },
    {
      "cell_type": "code",
      "source": [
        "# Make and plot some predictions\n",
        "\n",
        "y_preds_3 = model_3.predict(x_test)\n",
        "plot_predictions(predictions = y_preds_3)"
      ],
      "metadata": {
        "colab": {
          "base_uri": "https://localhost:8080/",
          "height": 616
        },
        "id": "uKfdkv17FlEB",
        "outputId": "c5bc8079-70a2-4a0f-e38c-828ce92dfd04"
      },
      "execution_count": 60,
      "outputs": [
        {
          "output_type": "stream",
          "name": "stdout",
          "text": [
            "1/1 [==============================] - 0s 81ms/step\n"
          ]
        },
        {
          "output_type": "display_data",
          "data": {
            "text/plain": [
              "<Figure size 1000x700 with 1 Axes>"
            ],
            "image/png": "[encoded data removed]"
          },
          "metadata": {}
        }
      ]
    },
    {
      "cell_type": "code",
      "source": [
        "# Calculate model_3 evaluation metrics\n",
        "\n",
        "mae_3 = mae(y_test, y_preds_3)\n",
        "mse_3 = mse(y_test, y_preds_3)\n",
        "mae_3, mse_3"
      ],
      "metadata": {
        "colab": {
          "base_uri": "https://localhost:8080/"
        },
        "id": "AZTlLn1rGIGp",
        "outputId": "5758ef83-7f5b-45f9-d2bf-c18b36158959"
      },
      "execution_count": 61,
      "outputs": [
        {
          "output_type": "execute_result",
          "data": {
            "text/plain": [
              "(<tf.Tensor: shape=(), dtype=float32, numpy=63.942516>,\n",
              " <tf.Tensor: shape=(), dtype=float32, numpy=4148.5513>)"
            ]
          },
          "metadata": {},
          "execution_count": 61
        }
      ]
    },
    {
      "cell_type": "markdown",
      "source": [
        "## Comparing the results of out experiments\n",
        "\n"
      ],
      "metadata": {
        "id": "AAy24eLdG11d"
      }
    },
    {
      "cell_type": "code",
      "source": [
        "# Lets compare our models result using a pandas DataFrame\n",
        "\n",
        "import pandas as pd\n",
        "\n",
        "model_results = [[\"model_1\", mae_1.numpy(), mse_1.numpy()],\n",
        "                [\"model_2\", mae_2.numpy(), mse_2.numpy()],\n",
        "                [\"model_3\", mae_3.numpy(), mse_3]]\n",
        "\n",
        "all_results = pd.DataFrame(model_results, columns=[\"model\", \"mae\", \"mse\"])\n",
        "all_results\n"
      ],
      "metadata": {
        "colab": {
          "base_uri": "https://localhost:8080/",
          "height": 144
        },
        "id": "Eyz6kizfeNiv",
        "outputId": "a0d6ef6c-69e4-4107-8670-39c28c5e06df"
      },
      "execution_count": 62,
      "outputs": [
        {
          "output_type": "execute_result",
          "data": {
            "text/plain": [
              "     model        mae                                            mse\n",
              "0  model_1   8.355762                                      76.138046\n",
              "1  model_2  45.699257                                    2115.733643\n",
              "2  model_3  63.942516  tf.Tensor(4148.5513, shape=(), dtype=float32)"
            ],
            "text/html": [
              "\n",
              "  <div id=\"df-2d65a558-ef81-48c5-81a0-aea115d59888\" class=\"colab-df-container\">\n",
              "    <div>\n",
              "<style scoped>\n",
              "    .dataframe tbody tr th:only-of-type {\n",
              "        vertical-align: middle;\n",
              "    }\n",
              "\n",
              "    .dataframe tbody tr th {\n",
              "        vertical-align: top;\n",
              "    }\n",
              "\n",
              "    .dataframe thead th {\n",
              "        text-align: right;\n",
              "    }\n",
              "</style>\n",
              "<table border=\"1\" class=\"dataframe\">\n",
              "  <thead>\n",
              "    <tr style=\"text-align: right;\">\n",
              "      <th></th>\n",
              "      <th>model</th>\n",
              "      <th>mae</th>\n",
              "      <th>mse</th>\n",
              "    </tr>\n",
              "  </thead>\n",
              "  <tbody>\n",
              "    <tr>\n",
              "      <th>0</th>\n",
              "      <td>model_1</td>\n",
              "      <td>8.355762</td>\n",
              "      <td>76.138046</td>\n",
              "    </tr>\n",
              "    <tr>\n",
              "      <th>1</th>\n",
              "      <td>model_2</td>\n",
              "      <td>45.699257</td>\n",
              "      <td>2115.733643</td>\n",
              "    </tr>\n",
              "    <tr>\n",
              "      <th>2</th>\n",
              "      <td>model_3</td>\n",
              "      <td>63.942516</td>\n",
              "      <td>tf.Tensor(4148.5513, shape=(), dtype=float32)</td>\n",
              "    </tr>\n",
              "  </tbody>\n",
              "</table>\n",
              "</div>\n",
              "    <div class=\"colab-df-buttons\">\n",
              "\n",
              "  <div class=\"colab-df-container\">\n",
              "    <button class=\"colab-df-convert\" onclick=\"convertToInteractive('df-2d65a558-ef81-48c5-81a0-aea115d59888')\"\n",
              "            title=\"Convert this dataframe to an interactive table.\"\n",
              "            style=\"display:none;\">\n",
              "\n",
              "  <svg xmlns=\"http://www.w3.org/2000/svg\" height=\"24px\" viewBox=\"0 -960 960 960\">\n",
              "    <path d=\"M120-120v-720h720v720H120Zm60-500h600v-160H180v160Zm220 220h160v-160H400v160Zm0 220h160v-160H400v160ZM180-400h160v-160H180v160Zm440 0h160v-160H620v160ZM180-180h160v-160H180v160Zm440 0h160v-160H620v160Z\"/>\n",
              "  </svg>\n",
              "    </button>\n",
              "\n",
              "  <style>\n",
              "    .colab-df-container {\n",
              "      display:flex;\n",
              "      gap: 12px;\n",
              "    }\n",
              "\n",
              "    .colab-df-convert {\n",
              "      background-color: #E8F0FE;\n",
              "      border: none;\n",
              "      border-radius: 50%;\n",
              "      cursor: pointer;\n",
              "      display: none;\n",
              "      fill: #1967D2;\n",
              "      height: 32px;\n",
              "      padding: 0 0 0 0;\n",
              "      width: 32px;\n",
              "    }\n",
              "\n",
              "    .colab-df-convert:hover {\n",
              "      background-color: #E2EBFA;\n",
              "      box-shadow: 0px 1px 2px rgba(60, 64, 67, 0.3), 0px 1px 3px 1px rgba(60, 64, 67, 0.15);\n",
              "      fill: #174EA6;\n",
              "    }\n",
              "\n",
              "    .colab-df-buttons div {\n",
              "      margin-bottom: 4px;\n",
              "    }\n",
              "\n",
              "    [theme=dark] .colab-df-convert {\n",
              "      background-color: #3B4455;\n",
              "      fill: #D2E3FC;\n",
              "    }\n",
              "\n",
              "    [theme=dark] .colab-df-convert:hover {\n",
              "      background-color: #434B5C;\n",
              "      box-shadow: 0px 1px 3px 1px rgba(0, 0, 0, 0.15);\n",
              "      filter: drop-shadow(0px 1px 2px rgba(0, 0, 0, 0.3));\n",
              "      fill: #FFFFFF;\n",
              "    }\n",
              "  </style>\n",
              "\n",
              "    <script>\n",
              "      const buttonEl =\n",
              "        document.querySelector('#df-2d65a558-ef81-48c5-81a0-aea115d59888 button.colab-df-convert');\n",
              "      buttonEl.style.display =\n",
              "        google.colab.kernel.accessAllowed ? 'block' : 'none';\n",
              "\n",
              "      async function convertToInteractive(key) {\n",
              "        const element = document.querySelector('#df-2d65a558-ef81-48c5-81a0-aea115d59888');\n",
              "        const dataTable =\n",
              "          await google.colab.kernel.invokeFunction('convertToInteractive',\n",
              "                                                    [key], {});\n",
              "        if (!dataTable) return;\n",
              "\n",
              "        const docLinkHtml = 'Like what you see? Visit the ' +\n",
              "          '<a target=\"_blank\" href=https://colab.research.google.com/notebooks/data_table.ipynb>data table notebook</a>'\n",
              "          + ' to learn more about interactive tables.';\n",
              "        element.innerHTML = '';\n",
              "        dataTable['output_type'] = 'display_data';\n",
              "        await google.colab.output.renderOutput(dataTable, element);\n",
              "        const docLink = document.createElement('div');\n",
              "        docLink.innerHTML = docLinkHtml;\n",
              "        element.appendChild(docLink);\n",
              "      }\n",
              "    </script>\n",
              "  </div>\n",
              "\n",
              "\n",
              "<div id=\"df-19ca2e45-1929-42e9-8653-3f58939f05c6\">\n",
              "  <button class=\"colab-df-quickchart\" onclick=\"quickchart('df-19ca2e45-1929-42e9-8653-3f58939f05c6')\"\n",
              "            title=\"Suggest charts\"\n",
              "            style=\"display:none;\">\n",
              "\n",
              "<svg xmlns=\"http://www.w3.org/2000/svg\" height=\"24px\"viewBox=\"0 0 24 24\"\n",
              "     width=\"24px\">\n",
              "    <g>\n",
              "        <path d=\"M19 3H5c-1.1 0-2 .9-2 2v14c0 1.1.9 2 2 2h14c1.1 0 2-.9 2-2V5c0-1.1-.9-2-2-2zM9 17H7v-7h2v7zm4 0h-2V7h2v10zm4 0h-2v-4h2v4z\"/>\n",
              "    </g>\n",
              "</svg>\n",
              "  </button>\n",
              "\n",
              "<style>\n",
              "  .colab-df-quickchart {\n",
              "      --bg-color: #E8F0FE;\n",
              "      --fill-color: #1967D2;\n",
              "      --hover-bg-color: #E2EBFA;\n",
              "      --hover-fill-color: #174EA6;\n",
              "      --disabled-fill-color: #AAA;\n",
              "      --disabled-bg-color: #DDD;\n",
              "  }\n",
              "\n",
              "  [theme=dark] .colab-df-quickchart {\n",
              "      --bg-color: #3B4455;\n",
              "      --fill-color: #D2E3FC;\n",
              "      --hover-bg-color: #434B5C;\n",
              "      --hover-fill-color: #FFFFFF;\n",
              "      --disabled-bg-color: #3B4455;\n",
              "      --disabled-fill-color: #666;\n",
              "  }\n",
              "\n",
              "  .colab-df-quickchart {\n",
              "    background-color: var(--bg-color);\n",
              "    border: none;\n",
              "    border-radius: 50%;\n",
              "    cursor: pointer;\n",
              "    display: none;\n",
              "    fill: var(--fill-color);\n",
              "    height: 32px;\n",
              "    padding: 0;\n",
              "    width: 32px;\n",
              "  }\n",
              "\n",
              "  .colab-df-quickchart:hover {\n",
              "    background-color: var(--hover-bg-color);\n",
              "    box-shadow: 0 1px 2px rgba(60, 64, 67, 0.3), 0 1px 3px 1px rgba(60, 64, 67, 0.15);\n",
              "    fill: var(--button-hover-fill-color);\n",
              "  }\n",
              "\n",
              "  .colab-df-quickchart-complete:disabled,\n",
              "  .colab-df-quickchart-complete:disabled:hover {\n",
              "    background-color: var(--disabled-bg-color);\n",
              "    fill: var(--disabled-fill-color);\n",
              "    box-shadow: none;\n",
              "  }\n",
              "\n",
              "  .colab-df-spinner {\n",
              "    border: 2px solid var(--fill-color);\n",
              "    border-color: transparent;\n",
              "    border-bottom-color: var(--fill-color);\n",
              "    animation:\n",
              "      spin 1s steps(1) infinite;\n",
              "  }\n",
              "\n",
              "  @keyframes spin {\n",
              "    0% {\n",
              "      border-color: transparent;\n",
              "      border-bottom-color: var(--fill-color);\n",
              "      border-left-color: var(--fill-color);\n",
              "    }\n",
              "    20% {\n",
              "      border-color: transparent;\n",
              "      border-left-color: var(--fill-color);\n",
              "      border-top-color: var(--fill-color);\n",
              "    }\n",
              "    30% {\n",
              "      border-color: transparent;\n",
              "      border-left-color: var(--fill-color);\n",
              "      border-top-color: var(--fill-color);\n",
              "      border-right-color: var(--fill-color);\n",
              "    }\n",
              "    40% {\n",
              "      border-color: transparent;\n",
              "      border-right-color: var(--fill-color);\n",
              "      border-top-color: var(--fill-color);\n",
              "    }\n",
              "    60% {\n",
              "      border-color: transparent;\n",
              "      border-right-color: var(--fill-color);\n",
              "    }\n",
              "    80% {\n",
              "      border-color: transparent;\n",
              "      border-right-color: var(--fill-color);\n",
              "      border-bottom-color: var(--fill-color);\n",
              "    }\n",
              "    90% {\n",
              "      border-color: transparent;\n",
              "      border-bottom-color: var(--fill-color);\n",
              "    }\n",
              "  }\n",
              "</style>\n",
              "\n",
              "  <script>\n",
              "    async function quickchart(key) {\n",
              "      const quickchartButtonEl =\n",
              "        document.querySelector('#' + key + ' button');\n",
              "      quickchartButtonEl.disabled = true;  // To prevent multiple clicks.\n",
              "      quickchartButtonEl.classList.add('colab-df-spinner');\n",
              "      try {\n",
              "        const charts = await google.colab.kernel.invokeFunction(\n",
              "            'suggestCharts', [key], {});\n",
              "      } catch (error) {\n",
              "        console.error('Error during call to suggestCharts:', error);\n",
              "      }\n",
              "      quickchartButtonEl.classList.remove('colab-df-spinner');\n",
              "      quickchartButtonEl.classList.add('colab-df-quickchart-complete');\n",
              "    }\n",
              "    (() => {\n",
              "      let quickchartButtonEl =\n",
              "        document.querySelector('#df-19ca2e45-1929-42e9-8653-3f58939f05c6 button');\n",
              "      quickchartButtonEl.style.display =\n",
              "        google.colab.kernel.accessAllowed ? 'block' : 'none';\n",
              "    })();\n",
              "  </script>\n",
              "</div>\n",
              "    </div>\n",
              "  </div>\n"
            ],
            "application/vnd.google.colaboratory.intrinsic+json": {
              "type": "dataframe",
              "variable_name": "all_results",
              "summary": "{\n  \"name\": \"all_results\",\n  \"rows\": 3,\n  \"fields\": [\n    {\n      \"column\": \"model\",\n      \"properties\": {\n        \"dtype\": \"string\",\n        \"num_unique_values\": 3,\n        \"samples\": [\n          \"model_1\",\n          \"model_2\",\n          \"model_3\"\n        ],\n        \"semantic_type\": \"\",\n        \"description\": \"\"\n      }\n    },\n    {\n      \"column\": \"mae\",\n      \"properties\": {\n        \"dtype\": \"float32\",\n        \"num_unique_values\": 3,\n        \"samples\": [\n          8.355761528015137,\n          45.699256896972656,\n          63.9425163269043\n        ],\n        \"semantic_type\": \"\",\n        \"description\": \"\"\n      }\n    },\n    {\n      \"column\": \"mse\",\n      \"properties\": {\n        \"dtype\": \"object\",\n        \"semantic_type\": \"\",\n        \"description\": \"\"\n      }\n    }\n  ]\n}"
            }
          },
          "metadata": {},
          "execution_count": 62
        }
      ]
    },
    {
      "source": [
        "# @title mae\n",
        "# Got Recommendation from gcollab\n",
        "\n",
        "from matplotlib import pyplot as plt\n",
        "all_results['mae'].plot(kind='hist', bins=20, title='mae')\n",
        "plt.gca().spines[['top', 'right',]].set_visible(False)"
      ],
      "cell_type": "code",
      "execution_count": 63,
      "outputs": [
        {
          "output_type": "display_data",
          "data": {
            "text/plain": [
              "<Figure size 640x480 with 1 Axes>"
            ],
            "image/png": "[encoded data removed]"
          },
          "metadata": {}
        }
      ],
      "metadata": {
        "colab": {
          "base_uri": "https://localhost:8080/",
          "height": 452
        },
        "id": "AK8lqoT2f7R1",
        "outputId": "d0a105aa-150f-4148-b3cf-435ed5fc8c55"
      }
    },
    {
      "cell_type": "markdown",
      "source": [
        "🔑**Note :** One of our main goals should be to minimize the time between our experiments. We must try and error"
      ],
      "metadata": {
        "id": "6mam0ajKgXEC"
      }
    },
    {
      "cell_type": "markdown",
      "source": [
        "## Tracking your experiments\n",
        "\n",
        "One really good habit in ml modelling is to track the result of your experiments.\n",
        "\n",
        "Luckly, there are tools to help us!\n",
        "\n",
        "📖**Resource:** As we build more models, we will want to look into using :\n",
        "\n",
        "* TensorBoard - a component of the TensorFlow library to help track modelling experiments\n",
        "* Weights & Biases - a tool for tracking all of kinds of machine learning experiments\n",
        "\n"
      ],
      "metadata": {
        "id": "jCyUYIJrhEbi"
      }
    },
    {
      "cell_type": "markdown",
      "source": [
        "## Saving Our model\n",
        "\n",
        "Saving our model allows us to use them outside of Google collab\n",
        "\n",
        "There are two main formats we can save our model too :\n",
        "1. The SavedModel format\n",
        "2. The HDF5 format"
      ],
      "metadata": {
        "id": "DCh5Gw9x2cEL"
      }
    },
    {
      "cell_type": "code",
      "source": [
        "# Save model using the SavedModel format\n",
        "model_2.save(\"best_model_SavedModel_format\")"
      ],
      "metadata": {
        "id": "GgNAjual2aAU"
      },
      "execution_count": 64,
      "outputs": []
    },
    {
      "cell_type": "code",
      "source": [
        "# Save model using the HDF5 format\n",
        "model_2.save(\"best_model_HDF5_format\")"
      ],
      "metadata": {
        "id": "WUEQU6AH4UiF"
      },
      "execution_count": 65,
      "outputs": []
    },
    {
      "cell_type": "markdown",
      "source": [
        "## Loading in a saved model"
      ],
      "metadata": {
        "id": "JlWRZHYjreP_"
      }
    },
    {
      "cell_type": "code",
      "source": [
        "# Load in the SavedModel format\n",
        "\n",
        "loaded_SavedModel_format = tf.keras.models.load_model(\"/content/best_model_SavedModel_format\")\n",
        "loaded_SavedModel_format.summary()"
      ],
      "metadata": {
        "colab": {
          "base_uri": "https://localhost:8080/"
        },
        "id": "2ZCWOR4Wrosv",
        "outputId": "ee833571-5e3a-47a1-b320-dccbf8afcbcd"
      },
      "execution_count": 66,
      "outputs": [
        {
          "output_type": "stream",
          "name": "stdout",
          "text": [
            "Model: \"sequential_6\"\n",
            "_________________________________________________________________\n",
            " Layer (type)                Output Shape              Param #   \n",
            "=================================================================\n",
            " input_layer (Dense)         (None, 70)                140       \n",
            "                                                                 \n",
            " Output_layer (Dense)        (None, 1)                 71        \n",
            "                                                                 \n",
            "=================================================================\n",
            "Total params: 211 (844.00 Byte)\n",
            "Trainable params: 211 (844.00 Byte)\n",
            "Non-trainable params: 0 (0.00 Byte)\n",
            "_________________________________________________________________\n"
          ]
        }
      ]
    },
    {
      "cell_type": "code",
      "source": [
        "model_2 == loaded_SavedModel_format"
      ],
      "metadata": {
        "colab": {
          "base_uri": "https://localhost:8080/"
        },
        "id": "yLoIxTUvsGxF",
        "outputId": "7156b5a4-223c-41d5-aa9b-f05f8a46b7e7"
      },
      "execution_count": 67,
      "outputs": [
        {
          "output_type": "execute_result",
          "data": {
            "text/plain": [
              "False"
            ]
          },
          "metadata": {},
          "execution_count": 67
        }
      ]
    },
    {
      "cell_type": "code",
      "source": [
        "# Compare predictions\n",
        "model_2_preds = model_2.predict(x_test)\n",
        "loaded_SavedModel_format_preds = loaded_SavedModel_format.predict(x_test)\n",
        "\n",
        "model_2_preds == loaded_SavedModel_format_preds"
      ],
      "metadata": {
        "colab": {
          "base_uri": "https://localhost:8080/"
        },
        "id": "NN4wwIe1sbEY",
        "outputId": "f76b0cb2-ba39-4a8d-8085-4acd6ac1e24e"
      },
      "execution_count": 68,
      "outputs": [
        {
          "output_type": "stream",
          "name": "stdout",
          "text": [
            "1/1 [==============================] - 0s 58ms/step\n",
            "1/1 [==============================] - 0s 72ms/step\n"
          ]
        },
        {
          "output_type": "execute_result",
          "data": {
            "text/plain": [
              "array([[ True],\n",
              "       [ True],\n",
              "       [ True],\n",
              "       [ True],\n",
              "       [ True],\n",
              "       [ True],\n",
              "       [ True],\n",
              "       [ True],\n",
              "       [ True],\n",
              "       [ True]])"
            ]
          },
          "metadata": {},
          "execution_count": 68
        }
      ]
    },
    {
      "cell_type": "code",
      "source": [
        "mae(y_true = y_test, y_pred = model_2_preds) == mae(y_true = y_test, y_pred=loaded_SavedModel_format_preds )"
      ],
      "metadata": {
        "colab": {
          "base_uri": "https://localhost:8080/"
        },
        "id": "4vOzpgEWs4bA",
        "outputId": "b73fb94c-7fb6-459c-b409-4121235ddeff"
      },
      "execution_count": 69,
      "outputs": [
        {
          "output_type": "execute_result",
          "data": {
            "text/plain": [
              "<tf.Tensor: shape=(), dtype=bool, numpy=True>"
            ]
          },
          "metadata": {},
          "execution_count": 69
        }
      ]
    },
    {
      "cell_type": "code",
      "source": [
        "# Load in a model using the h5 format\n",
        "loaded_h5_model = tf.keras.models.load_model(\"/content/best_model_HDF5_format\")\n",
        "loaded_h5_model.summary()"
      ],
      "metadata": {
        "colab": {
          "base_uri": "https://localhost:8080/"
        },
        "id": "HfBpvyUluB-8",
        "outputId": "549f77c2-6027-49e6-ddd2-aeb8904a5828"
      },
      "execution_count": 70,
      "outputs": [
        {
          "output_type": "stream",
          "name": "stdout",
          "text": [
            "Model: \"sequential_6\"\n",
            "_________________________________________________________________\n",
            " Layer (type)                Output Shape              Param #   \n",
            "=================================================================\n",
            " input_layer (Dense)         (None, 70)                140       \n",
            "                                                                 \n",
            " Output_layer (Dense)        (None, 1)                 71        \n",
            "                                                                 \n",
            "=================================================================\n",
            "Total params: 211 (844.00 Byte)\n",
            "Trainable params: 211 (844.00 Byte)\n",
            "Non-trainable params: 0 (0.00 Byte)\n",
            "_________________________________________________________________\n"
          ]
        }
      ]
    },
    {
      "cell_type": "code",
      "source": [
        "# Compare\n",
        "\n",
        "loaded_h5_model_preds = loaded_h5_model.predict(x_test)\n",
        "\n",
        "model_2_preds == loaded_h5_model_preds"
      ],
      "metadata": {
        "colab": {
          "base_uri": "https://localhost:8080/"
        },
        "id": "IBlZi3BwucUl",
        "outputId": "f45869a0-3aae-4159-fae5-d1e4f5af316d"
      },
      "execution_count": 71,
      "outputs": [
        {
          "output_type": "stream",
          "name": "stdout",
          "text": [
            "1/1 [==============================] - 0s 83ms/step\n"
          ]
        },
        {
          "output_type": "execute_result",
          "data": {
            "text/plain": [
              "array([[ True],\n",
              "       [ True],\n",
              "       [ True],\n",
              "       [ True],\n",
              "       [ True],\n",
              "       [ True],\n",
              "       [ True],\n",
              "       [ True],\n",
              "       [ True],\n",
              "       [ True]])"
            ]
          },
          "metadata": {},
          "execution_count": 71
        }
      ]
    },
    {
      "cell_type": "code",
      "source": [
        "mae(y_true = y_test, y_pred = model_2_preds) == mae(y_true=y_test, y_pred=loaded_h5_model_preds)"
      ],
      "metadata": {
        "colab": {
          "base_uri": "https://localhost:8080/"
        },
        "id": "915O3jbSuuKI",
        "outputId": "c6000aa6-4edc-4dc9-a544-6170fe0b0eda"
      },
      "execution_count": 72,
      "outputs": [
        {
          "output_type": "execute_result",
          "data": {
            "text/plain": [
              "<tf.Tensor: shape=(), dtype=bool, numpy=True>"
            ]
          },
          "metadata": {},
          "execution_count": 72
        }
      ]
    },
    {
      "cell_type": "markdown",
      "source": [
        "## Download a model (or any other file) from Google Colab\n",
        "\n",
        "If you want to download your file from Google Colab :\n",
        "1. You can go to the \"files\" tab and right click on the file youre after and click \"upload\".\n",
        "\n",
        "2. Use code\n",
        "\n",
        "3. Save it to Google Drive by connecting Google Drive and copying it there (see 2nd code cell)"
      ],
      "metadata": {
        "id": "QUSC31vrxNpn"
      }
    },
    {
      "cell_type": "code",
      "source": [
        "# Download a file from Google Colab\n",
        "\n",
        "# from google.colab import files\n",
        "# files.download(\"/content/best_model_HDF5_format\")"
      ],
      "metadata": {
        "id": "8TcUW_yr1w_p"
      },
      "execution_count": 73,
      "outputs": []
    },
    {
      "cell_type": "code",
      "source": [
        "# Save a file from Google colab to Google Drive\n",
        "# !cp /content/best_model_HDF5_format(our model path) _____(our folder file aim)"
      ],
      "metadata": {
        "id": "WSgD3o4e7f7p"
      },
      "execution_count": 74,
      "outputs": []
    },
    {
      "cell_type": "markdown",
      "source": [
        "## A Larger Example"
      ],
      "metadata": {
        "id": "CCRi9SjcjVKV"
      }
    },
    {
      "cell_type": "code",
      "source": [
        "# Import requaired libraries\n",
        "import tensorflow as tf\n",
        "import pandas as pd\n",
        "import matplotlib.pyplot as plt"
      ],
      "metadata": {
        "id": "k9TQZSDtjf7m"
      },
      "execution_count": 75,
      "outputs": []
    },
    {
      "cell_type": "code",
      "source": [
        "# Read in the insurance datatset\n",
        "\n",
        "insurance = pd.read_csv(\"https://raw.githubusercontent.com/stedy/Machine-Learning-with-R-datasets/master/insurance.csv\")"
      ],
      "metadata": {
        "id": "BuTf-1pqko1F"
      },
      "execution_count": 76,
      "outputs": []
    },
    {
      "cell_type": "code",
      "source": [
        "insurance.head(10)"
      ],
      "metadata": {
        "colab": {
          "base_uri": "https://localhost:8080/",
          "height": 363
        },
        "id": "7vygpJnClKsv",
        "outputId": "d73d0820-2f58-4b9c-8a60-680c89f10d46"
      },
      "execution_count": 77,
      "outputs": [
        {
          "output_type": "execute_result",
          "data": {
            "text/plain": [
              "   age     sex     bmi  children smoker     region      charges\n",
              "0   19  female  27.900         0    yes  southwest  16884.92400\n",
              "1   18    male  33.770         1     no  southeast   1725.55230\n",
              "2   28    male  33.000         3     no  southeast   4449.46200\n",
              "3   33    male  22.705         0     no  northwest  21984.47061\n",
              "4   32    male  28.880         0     no  northwest   3866.85520\n",
              "5   31  female  25.740         0     no  southeast   3756.62160\n",
              "6   46  female  33.440         1     no  southeast   8240.58960\n",
              "7   37  female  27.740         3     no  northwest   7281.50560\n",
              "8   37    male  29.830         2     no  northeast   6406.41070\n",
              "9   60  female  25.840         0     no  northwest  28923.13692"
            ],
            "text/html": [
              "\n",
              "  <div id=\"df-2aaa6e89-d5a9-416d-b5f5-02cf4f8782d3\" class=\"colab-df-container\">\n",
              "    <div>\n",
              "<style scoped>\n",
              "    .dataframe tbody tr th:only-of-type {\n",
              "        vertical-align: middle;\n",
              "    }\n",
              "\n",
              "    .dataframe tbody tr th {\n",
              "        vertical-align: top;\n",
              "    }\n",
              "\n",
              "    .dataframe thead th {\n",
              "        text-align: right;\n",
              "    }\n",
              "</style>\n",
              "<table border=\"1\" class=\"dataframe\">\n",
              "  <thead>\n",
              "    <tr style=\"text-align: right;\">\n",
              "      <th></th>\n",
              "      <th>age</th>\n",
              "      <th>sex</th>\n",
              "      <th>bmi</th>\n",
              "      <th>children</th>\n",
              "      <th>smoker</th>\n",
              "      <th>region</th>\n",
              "      <th>charges</th>\n",
              "    </tr>\n",
              "  </thead>\n",
              "  <tbody>\n",
              "    <tr>\n",
              "      <th>0</th>\n",
              "      <td>19</td>\n",
              "      <td>female</td>\n",
              "      <td>27.900</td>\n",
              "      <td>0</td>\n",
              "      <td>yes</td>\n",
              "      <td>southwest</td>\n",
              "      <td>16884.92400</td>\n",
              "    </tr>\n",
              "    <tr>\n",
              "      <th>1</th>\n",
              "      <td>18</td>\n",
              "      <td>male</td>\n",
              "      <td>33.770</td>\n",
              "      <td>1</td>\n",
              "      <td>no</td>\n",
              "      <td>southeast</td>\n",
              "      <td>1725.55230</td>\n",
              "    </tr>\n",
              "    <tr>\n",
              "      <th>2</th>\n",
              "      <td>28</td>\n",
              "      <td>male</td>\n",
              "      <td>33.000</td>\n",
              "      <td>3</td>\n",
              "      <td>no</td>\n",
              "      <td>southeast</td>\n",
              "      <td>4449.46200</td>\n",
              "    </tr>\n",
              "    <tr>\n",
              "      <th>3</th>\n",
              "      <td>33</td>\n",
              "      <td>male</td>\n",
              "      <td>22.705</td>\n",
              "      <td>0</td>\n",
              "      <td>no</td>\n",
              "      <td>northwest</td>\n",
              "      <td>21984.47061</td>\n",
              "    </tr>\n",
              "    <tr>\n",
              "      <th>4</th>\n",
              "      <td>32</td>\n",
              "      <td>male</td>\n",
              "      <td>28.880</td>\n",
              "      <td>0</td>\n",
              "      <td>no</td>\n",
              "      <td>northwest</td>\n",
              "      <td>3866.85520</td>\n",
              "    </tr>\n",
              "    <tr>\n",
              "      <th>5</th>\n",
              "      <td>31</td>\n",
              "      <td>female</td>\n",
              "      <td>25.740</td>\n",
              "      <td>0</td>\n",
              "      <td>no</td>\n",
              "      <td>southeast</td>\n",
              "      <td>3756.62160</td>\n",
              "    </tr>\n",
              "    <tr>\n",
              "      <th>6</th>\n",
              "      <td>46</td>\n",
              "      <td>female</td>\n",
              "      <td>33.440</td>\n",
              "      <td>1</td>\n",
              "      <td>no</td>\n",
              "      <td>southeast</td>\n",
              "      <td>8240.58960</td>\n",
              "    </tr>\n",
              "    <tr>\n",
              "      <th>7</th>\n",
              "      <td>37</td>\n",
              "      <td>female</td>\n",
              "      <td>27.740</td>\n",
              "      <td>3</td>\n",
              "      <td>no</td>\n",
              "      <td>northwest</td>\n",
              "      <td>7281.50560</td>\n",
              "    </tr>\n",
              "    <tr>\n",
              "      <th>8</th>\n",
              "      <td>37</td>\n",
              "      <td>male</td>\n",
              "      <td>29.830</td>\n",
              "      <td>2</td>\n",
              "      <td>no</td>\n",
              "      <td>northeast</td>\n",
              "      <td>6406.41070</td>\n",
              "    </tr>\n",
              "    <tr>\n",
              "      <th>9</th>\n",
              "      <td>60</td>\n",
              "      <td>female</td>\n",
              "      <td>25.840</td>\n",
              "      <td>0</td>\n",
              "      <td>no</td>\n",
              "      <td>northwest</td>\n",
              "      <td>28923.13692</td>\n",
              "    </tr>\n",
              "  </tbody>\n",
              "</table>\n",
              "</div>\n",
              "    <div class=\"colab-df-buttons\">\n",
              "\n",
              "  <div class=\"colab-df-container\">\n",
              "    <button class=\"colab-df-convert\" onclick=\"convertToInteractive('df-2aaa6e89-d5a9-416d-b5f5-02cf4f8782d3')\"\n",
              "            title=\"Convert this dataframe to an interactive table.\"\n",
              "            style=\"display:none;\">\n",
              "\n",
              "  <svg xmlns=\"http://www.w3.org/2000/svg\" height=\"24px\" viewBox=\"0 -960 960 960\">\n",
              "    <path d=\"M120-120v-720h720v720H120Zm60-500h600v-160H180v160Zm220 220h160v-160H400v160Zm0 220h160v-160H400v160ZM180-400h160v-160H180v160Zm440 0h160v-160H620v160ZM180-180h160v-160H180v160Zm440 0h160v-160H620v160Z\"/>\n",
              "  </svg>\n",
              "    </button>\n",
              "\n",
              "  <style>\n",
              "    .colab-df-container {\n",
              "      display:flex;\n",
              "      gap: 12px;\n",
              "    }\n",
              "\n",
              "    .colab-df-convert {\n",
              "      background-color: #E8F0FE;\n",
              "      border: none;\n",
              "      border-radius: 50%;\n",
              "      cursor: pointer;\n",
              "      display: none;\n",
              "      fill: #1967D2;\n",
              "      height: 32px;\n",
              "      padding: 0 0 0 0;\n",
              "      width: 32px;\n",
              "    }\n",
              "\n",
              "    .colab-df-convert:hover {\n",
              "      background-color: #E2EBFA;\n",
              "      box-shadow: 0px 1px 2px rgba(60, 64, 67, 0.3), 0px 1px 3px 1px rgba(60, 64, 67, 0.15);\n",
              "      fill: #174EA6;\n",
              "    }\n",
              "\n",
              "    .colab-df-buttons div {\n",
              "      margin-bottom: 4px;\n",
              "    }\n",
              "\n",
              "    [theme=dark] .colab-df-convert {\n",
              "      background-color: #3B4455;\n",
              "      fill: #D2E3FC;\n",
              "    }\n",
              "\n",
              "    [theme=dark] .colab-df-convert:hover {\n",
              "      background-color: #434B5C;\n",
              "      box-shadow: 0px 1px 3px 1px rgba(0, 0, 0, 0.15);\n",
              "      filter: drop-shadow(0px 1px 2px rgba(0, 0, 0, 0.3));\n",
              "      fill: #FFFFFF;\n",
              "    }\n",
              "  </style>\n",
              "\n",
              "    <script>\n",
              "      const buttonEl =\n",
              "        document.querySelector('#df-2aaa6e89-d5a9-416d-b5f5-02cf4f8782d3 button.colab-df-convert');\n",
              "      buttonEl.style.display =\n",
              "        google.colab.kernel.accessAllowed ? 'block' : 'none';\n",
              "\n",
              "      async function convertToInteractive(key) {\n",
              "        const element = document.querySelector('#df-2aaa6e89-d5a9-416d-b5f5-02cf4f8782d3');\n",
              "        const dataTable =\n",
              "          await google.colab.kernel.invokeFunction('convertToInteractive',\n",
              "                                                    [key], {});\n",
              "        if (!dataTable) return;\n",
              "\n",
              "        const docLinkHtml = 'Like what you see? Visit the ' +\n",
              "          '<a target=\"_blank\" href=https://colab.research.google.com/notebooks/data_table.ipynb>data table notebook</a>'\n",
              "          + ' to learn more about interactive tables.';\n",
              "        element.innerHTML = '';\n",
              "        dataTable['output_type'] = 'display_data';\n",
              "        await google.colab.output.renderOutput(dataTable, element);\n",
              "        const docLink = document.createElement('div');\n",
              "        docLink.innerHTML = docLinkHtml;\n",
              "        element.appendChild(docLink);\n",
              "      }\n",
              "    </script>\n",
              "  </div>\n",
              "\n",
              "\n",
              "<div id=\"df-0f7a8c8c-cfd2-4137-8d15-041c3cfa04b8\">\n",
              "  <button class=\"colab-df-quickchart\" onclick=\"quickchart('df-0f7a8c8c-cfd2-4137-8d15-041c3cfa04b8')\"\n",
              "            title=\"Suggest charts\"\n",
              "            style=\"display:none;\">\n",
              "\n",
              "<svg xmlns=\"http://www.w3.org/2000/svg\" height=\"24px\"viewBox=\"0 0 24 24\"\n",
              "     width=\"24px\">\n",
              "    <g>\n",
              "        <path d=\"M19 3H5c-1.1 0-2 .9-2 2v14c0 1.1.9 2 2 2h14c1.1 0 2-.9 2-2V5c0-1.1-.9-2-2-2zM9 17H7v-7h2v7zm4 0h-2V7h2v10zm4 0h-2v-4h2v4z\"/>\n",
              "    </g>\n",
              "</svg>\n",
              "  </button>\n",
              "\n",
              "<style>\n",
              "  .colab-df-quickchart {\n",
              "      --bg-color: #E8F0FE;\n",
              "      --fill-color: #1967D2;\n",
              "      --hover-bg-color: #E2EBFA;\n",
              "      --hover-fill-color: #174EA6;\n",
              "      --disabled-fill-color: #AAA;\n",
              "      --disabled-bg-color: #DDD;\n",
              "  }\n",
              "\n",
              "  [theme=dark] .colab-df-quickchart {\n",
              "      --bg-color: #3B4455;\n",
              "      --fill-color: #D2E3FC;\n",
              "      --hover-bg-color: #434B5C;\n",
              "      --hover-fill-color: #FFFFFF;\n",
              "      --disabled-bg-color: #3B4455;\n",
              "      --disabled-fill-color: #666;\n",
              "  }\n",
              "\n",
              "  .colab-df-quickchart {\n",
              "    background-color: var(--bg-color);\n",
              "    border: none;\n",
              "    border-radius: 50%;\n",
              "    cursor: pointer;\n",
              "    display: none;\n",
              "    fill: var(--fill-color);\n",
              "    height: 32px;\n",
              "    padding: 0;\n",
              "    width: 32px;\n",
              "  }\n",
              "\n",
              "  .colab-df-quickchart:hover {\n",
              "    background-color: var(--hover-bg-color);\n",
              "    box-shadow: 0 1px 2px rgba(60, 64, 67, 0.3), 0 1px 3px 1px rgba(60, 64, 67, 0.15);\n",
              "    fill: var(--button-hover-fill-color);\n",
              "  }\n",
              "\n",
              "  .colab-df-quickchart-complete:disabled,\n",
              "  .colab-df-quickchart-complete:disabled:hover {\n",
              "    background-color: var(--disabled-bg-color);\n",
              "    fill: var(--disabled-fill-color);\n",
              "    box-shadow: none;\n",
              "  }\n",
              "\n",
              "  .colab-df-spinner {\n",
              "    border: 2px solid var(--fill-color);\n",
              "    border-color: transparent;\n",
              "    border-bottom-color: var(--fill-color);\n",
              "    animation:\n",
              "      spin 1s steps(1) infinite;\n",
              "  }\n",
              "\n",
              "  @keyframes spin {\n",
              "    0% {\n",
              "      border-color: transparent;\n",
              "      border-bottom-color: var(--fill-color);\n",
              "      border-left-color: var(--fill-color);\n",
              "    }\n",
              "    20% {\n",
              "      border-color: transparent;\n",
              "      border-left-color: var(--fill-color);\n",
              "      border-top-color: var(--fill-color);\n",
              "    }\n",
              "    30% {\n",
              "      border-color: transparent;\n",
              "      border-left-color: var(--fill-color);\n",
              "      border-top-color: var(--fill-color);\n",
              "      border-right-color: var(--fill-color);\n",
              "    }\n",
              "    40% {\n",
              "      border-color: transparent;\n",
              "      border-right-color: var(--fill-color);\n",
              "      border-top-color: var(--fill-color);\n",
              "    }\n",
              "    60% {\n",
              "      border-color: transparent;\n",
              "      border-right-color: var(--fill-color);\n",
              "    }\n",
              "    80% {\n",
              "      border-color: transparent;\n",
              "      border-right-color: var(--fill-color);\n",
              "      border-bottom-color: var(--fill-color);\n",
              "    }\n",
              "    90% {\n",
              "      border-color: transparent;\n",
              "      border-bottom-color: var(--fill-color);\n",
              "    }\n",
              "  }\n",
              "</style>\n",
              "\n",
              "  <script>\n",
              "    async function quickchart(key) {\n",
              "      const quickchartButtonEl =\n",
              "        document.querySelector('#' + key + ' button');\n",
              "      quickchartButtonEl.disabled = true;  // To prevent multiple clicks.\n",
              "      quickchartButtonEl.classList.add('colab-df-spinner');\n",
              "      try {\n",
              "        const charts = await google.colab.kernel.invokeFunction(\n",
              "            'suggestCharts', [key], {});\n",
              "      } catch (error) {\n",
              "        console.error('Error during call to suggestCharts:', error);\n",
              "      }\n",
              "      quickchartButtonEl.classList.remove('colab-df-spinner');\n",
              "      quickchartButtonEl.classList.add('colab-df-quickchart-complete');\n",
              "    }\n",
              "    (() => {\n",
              "      let quickchartButtonEl =\n",
              "        document.querySelector('#df-0f7a8c8c-cfd2-4137-8d15-041c3cfa04b8 button');\n",
              "      quickchartButtonEl.style.display =\n",
              "        google.colab.kernel.accessAllowed ? 'block' : 'none';\n",
              "    })();\n",
              "  </script>\n",
              "</div>\n",
              "    </div>\n",
              "  </div>\n"
            ],
            "application/vnd.google.colaboratory.intrinsic+json": {
              "type": "dataframe",
              "variable_name": "insurance",
              "summary": "{\n  \"name\": \"insurance\",\n  \"rows\": 1338,\n  \"fields\": [\n    {\n      \"column\": \"age\",\n      \"properties\": {\n        \"dtype\": \"number\",\n        \"std\": 14,\n        \"min\": 18,\n        \"max\": 64,\n        \"num_unique_values\": 47,\n        \"samples\": [\n          21,\n          45,\n          36\n        ],\n        \"semantic_type\": \"\",\n        \"description\": \"\"\n      }\n    },\n    {\n      \"column\": \"sex\",\n      \"properties\": {\n        \"dtype\": \"category\",\n        \"num_unique_values\": 2,\n        \"samples\": [\n          \"male\",\n          \"female\"\n        ],\n        \"semantic_type\": \"\",\n        \"description\": \"\"\n      }\n    },\n    {\n      \"column\": \"bmi\",\n      \"properties\": {\n        \"dtype\": \"number\",\n        \"std\": 6.098186911679014,\n        \"min\": 15.96,\n        \"max\": 53.13,\n        \"num_unique_values\": 548,\n        \"samples\": [\n          23.18,\n          26.885\n        ],\n        \"semantic_type\": \"\",\n        \"description\": \"\"\n      }\n    },\n    {\n      \"column\": \"children\",\n      \"properties\": {\n        \"dtype\": \"number\",\n        \"std\": 1,\n        \"min\": 0,\n        \"max\": 5,\n        \"num_unique_values\": 6,\n        \"samples\": [\n          0,\n          1\n        ],\n        \"semantic_type\": \"\",\n        \"description\": \"\"\n      }\n    },\n    {\n      \"column\": \"smoker\",\n      \"properties\": {\n        \"dtype\": \"category\",\n        \"num_unique_values\": 2,\n        \"samples\": [\n          \"no\",\n          \"yes\"\n        ],\n        \"semantic_type\": \"\",\n        \"description\": \"\"\n      }\n    },\n    {\n      \"column\": \"region\",\n      \"properties\": {\n        \"dtype\": \"category\",\n        \"num_unique_values\": 4,\n        \"samples\": [\n          \"southeast\",\n          \"northeast\"\n        ],\n        \"semantic_type\": \"\",\n        \"description\": \"\"\n      }\n    },\n    {\n      \"column\": \"charges\",\n      \"properties\": {\n        \"dtype\": \"number\",\n        \"std\": 12110.011236694001,\n        \"min\": 1121.8739,\n        \"max\": 63770.42801,\n        \"num_unique_values\": 1337,\n        \"samples\": [\n          8688.85885,\n          5708.867\n        ],\n        \"semantic_type\": \"\",\n        \"description\": \"\"\n      }\n    }\n  ]\n}"
            }
          },
          "metadata": {},
          "execution_count": 77
        }
      ]
    },
    {
      "cell_type": "code",
      "source": [
        "insurance[\"sex\"]"
      ],
      "metadata": {
        "colab": {
          "base_uri": "https://localhost:8080/"
        },
        "id": "7AGioTdJneGl",
        "outputId": "d9f7de11-596c-4892-da05-98d78bb47f74"
      },
      "execution_count": 78,
      "outputs": [
        {
          "output_type": "execute_result",
          "data": {
            "text/plain": [
              "0       female\n",
              "1         male\n",
              "2         male\n",
              "3         male\n",
              "4         male\n",
              "         ...  \n",
              "1333      male\n",
              "1334    female\n",
              "1335    female\n",
              "1336    female\n",
              "1337    female\n",
              "Name: sex, Length: 1338, dtype: object"
            ]
          },
          "metadata": {},
          "execution_count": 78
        }
      ]
    },
    {
      "cell_type": "code",
      "source": [
        "insurance[\"age\"]"
      ],
      "metadata": {
        "colab": {
          "base_uri": "https://localhost:8080/"
        },
        "id": "VeNCha2CnqMZ",
        "outputId": "ff0942c5-26c5-4532-988a-3b50d69b14ab"
      },
      "execution_count": 79,
      "outputs": [
        {
          "output_type": "execute_result",
          "data": {
            "text/plain": [
              "0       19\n",
              "1       18\n",
              "2       28\n",
              "3       33\n",
              "4       32\n",
              "        ..\n",
              "1333    50\n",
              "1334    18\n",
              "1335    18\n",
              "1336    21\n",
              "1337    61\n",
              "Name: age, Length: 1338, dtype: int64"
            ]
          },
          "metadata": {},
          "execution_count": 79
        }
      ]
    },
    {
      "cell_type": "code",
      "source": [
        "# OneHot endcode for our non numerical type but using pandas(automaticly)\n",
        "insurance_one_hot = pd.get_dummies(insurance)\n",
        "insurance_one_hot.head()"
      ],
      "metadata": {
        "colab": {
          "base_uri": "https://localhost:8080/",
          "height": 206
        },
        "id": "bGJOoiQ6ns9m",
        "outputId": "0f6ef02d-662e-40f7-a6de-64ddcdb8dee8"
      },
      "execution_count": 80,
      "outputs": [
        {
          "output_type": "execute_result",
          "data": {
            "text/plain": [
              "   age     bmi  children      charges  sex_female  sex_male  smoker_no  \\\n",
              "0   19  27.900         0  16884.92400           1         0          0   \n",
              "1   18  33.770         1   1725.55230           0         1          1   \n",
              "2   28  33.000         3   4449.46200           0         1          1   \n",
              "3   33  22.705         0  21984.47061           0         1          1   \n",
              "4   32  28.880         0   3866.85520           0         1          1   \n",
              "\n",
              "   smoker_yes  region_northeast  region_northwest  region_southeast  \\\n",
              "0           1                 0                 0                 0   \n",
              "1           0                 0                 0                 1   \n",
              "2           0                 0                 0                 1   \n",
              "3           0                 0                 1                 0   \n",
              "4           0                 0                 1                 0   \n",
              "\n",
              "   region_southwest  \n",
              "0                 1  \n",
              "1                 0  \n",
              "2                 0  \n",
              "3                 0  \n",
              "4                 0  "
            ],
            "text/html": [
              "\n",
              "  <div id=\"df-66f4018e-82e0-4084-a06d-cafd760c0c71\" class=\"colab-df-container\">\n",
              "    <div>\n",
              "<style scoped>\n",
              "    .dataframe tbody tr th:only-of-type {\n",
              "        vertical-align: middle;\n",
              "    }\n",
              "\n",
              "    .dataframe tbody tr th {\n",
              "        vertical-align: top;\n",
              "    }\n",
              "\n",
              "    .dataframe thead th {\n",
              "        text-align: right;\n",
              "    }\n",
              "</style>\n",
              "<table border=\"1\" class=\"dataframe\">\n",
              "  <thead>\n",
              "    <tr style=\"text-align: right;\">\n",
              "      <th></th>\n",
              "      <th>age</th>\n",
              "      <th>bmi</th>\n",
              "      <th>children</th>\n",
              "      <th>charges</th>\n",
              "      <th>sex_female</th>\n",
              "      <th>sex_male</th>\n",
              "      <th>smoker_no</th>\n",
              "      <th>smoker_yes</th>\n",
              "      <th>region_northeast</th>\n",
              "      <th>region_northwest</th>\n",
              "      <th>region_southeast</th>\n",
              "      <th>region_southwest</th>\n",
              "    </tr>\n",
              "  </thead>\n",
              "  <tbody>\n",
              "    <tr>\n",
              "      <th>0</th>\n",
              "      <td>19</td>\n",
              "      <td>27.900</td>\n",
              "      <td>0</td>\n",
              "      <td>16884.92400</td>\n",
              "      <td>1</td>\n",
              "      <td>0</td>\n",
              "      <td>0</td>\n",
              "      <td>1</td>\n",
              "      <td>0</td>\n",
              "      <td>0</td>\n",
              "      <td>0</td>\n",
              "      <td>1</td>\n",
              "    </tr>\n",
              "    <tr>\n",
              "      <th>1</th>\n",
              "      <td>18</td>\n",
              "      <td>33.770</td>\n",
              "      <td>1</td>\n",
              "      <td>1725.55230</td>\n",
              "      <td>0</td>\n",
              "      <td>1</td>\n",
              "      <td>1</td>\n",
              "      <td>0</td>\n",
              "      <td>0</td>\n",
              "      <td>0</td>\n",
              "      <td>1</td>\n",
              "      <td>0</td>\n",
              "    </tr>\n",
              "    <tr>\n",
              "      <th>2</th>\n",
              "      <td>28</td>\n",
              "      <td>33.000</td>\n",
              "      <td>3</td>\n",
              "      <td>4449.46200</td>\n",
              "      <td>0</td>\n",
              "      <td>1</td>\n",
              "      <td>1</td>\n",
              "      <td>0</td>\n",
              "      <td>0</td>\n",
              "      <td>0</td>\n",
              "      <td>1</td>\n",
              "      <td>0</td>\n",
              "    </tr>\n",
              "    <tr>\n",
              "      <th>3</th>\n",
              "      <td>33</td>\n",
              "      <td>22.705</td>\n",
              "      <td>0</td>\n",
              "      <td>21984.47061</td>\n",
              "      <td>0</td>\n",
              "      <td>1</td>\n",
              "      <td>1</td>\n",
              "      <td>0</td>\n",
              "      <td>0</td>\n",
              "      <td>1</td>\n",
              "      <td>0</td>\n",
              "      <td>0</td>\n",
              "    </tr>\n",
              "    <tr>\n",
              "      <th>4</th>\n",
              "      <td>32</td>\n",
              "      <td>28.880</td>\n",
              "      <td>0</td>\n",
              "      <td>3866.85520</td>\n",
              "      <td>0</td>\n",
              "      <td>1</td>\n",
              "      <td>1</td>\n",
              "      <td>0</td>\n",
              "      <td>0</td>\n",
              "      <td>1</td>\n",
              "      <td>0</td>\n",
              "      <td>0</td>\n",
              "    </tr>\n",
              "  </tbody>\n",
              "</table>\n",
              "</div>\n",
              "    <div class=\"colab-df-buttons\">\n",
              "\n",
              "  <div class=\"colab-df-container\">\n",
              "    <button class=\"colab-df-convert\" onclick=\"convertToInteractive('df-66f4018e-82e0-4084-a06d-cafd760c0c71')\"\n",
              "            title=\"Convert this dataframe to an interactive table.\"\n",
              "            style=\"display:none;\">\n",
              "\n",
              "  <svg xmlns=\"http://www.w3.org/2000/svg\" height=\"24px\" viewBox=\"0 -960 960 960\">\n",
              "    <path d=\"M120-120v-720h720v720H120Zm60-500h600v-160H180v160Zm220 220h160v-160H400v160Zm0 220h160v-160H400v160ZM180-400h160v-160H180v160Zm440 0h160v-160H620v160ZM180-180h160v-160H180v160Zm440 0h160v-160H620v160Z\"/>\n",
              "  </svg>\n",
              "    </button>\n",
              "\n",
              "  <style>\n",
              "    .colab-df-container {\n",
              "      display:flex;\n",
              "      gap: 12px;\n",
              "    }\n",
              "\n",
              "    .colab-df-convert {\n",
              "      background-color: #E8F0FE;\n",
              "      border: none;\n",
              "      border-radius: 50%;\n",
              "      cursor: pointer;\n",
              "      display: none;\n",
              "      fill: #1967D2;\n",
              "      height: 32px;\n",
              "      padding: 0 0 0 0;\n",
              "      width: 32px;\n",
              "    }\n",
              "\n",
              "    .colab-df-convert:hover {\n",
              "      background-color: #E2EBFA;\n",
              "      box-shadow: 0px 1px 2px rgba(60, 64, 67, 0.3), 0px 1px 3px 1px rgba(60, 64, 67, 0.15);\n",
              "      fill: #174EA6;\n",
              "    }\n",
              "\n",
              "    .colab-df-buttons div {\n",
              "      margin-bottom: 4px;\n",
              "    }\n",
              "\n",
              "    [theme=dark] .colab-df-convert {\n",
              "      background-color: #3B4455;\n",
              "      fill: #D2E3FC;\n",
              "    }\n",
              "\n",
              "    [theme=dark] .colab-df-convert:hover {\n",
              "      background-color: #434B5C;\n",
              "      box-shadow: 0px 1px 3px 1px rgba(0, 0, 0, 0.15);\n",
              "      filter: drop-shadow(0px 1px 2px rgba(0, 0, 0, 0.3));\n",
              "      fill: #FFFFFF;\n",
              "    }\n",
              "  </style>\n",
              "\n",
              "    <script>\n",
              "      const buttonEl =\n",
              "        document.querySelector('#df-66f4018e-82e0-4084-a06d-cafd760c0c71 button.colab-df-convert');\n",
              "      buttonEl.style.display =\n",
              "        google.colab.kernel.accessAllowed ? 'block' : 'none';\n",
              "\n",
              "      async function convertToInteractive(key) {\n",
              "        const element = document.querySelector('#df-66f4018e-82e0-4084-a06d-cafd760c0c71');\n",
              "        const dataTable =\n",
              "          await google.colab.kernel.invokeFunction('convertToInteractive',\n",
              "                                                    [key], {});\n",
              "        if (!dataTable) return;\n",
              "\n",
              "        const docLinkHtml = 'Like what you see? Visit the ' +\n",
              "          '<a target=\"_blank\" href=https://colab.research.google.com/notebooks/data_table.ipynb>data table notebook</a>'\n",
              "          + ' to learn more about interactive tables.';\n",
              "        element.innerHTML = '';\n",
              "        dataTable['output_type'] = 'display_data';\n",
              "        await google.colab.output.renderOutput(dataTable, element);\n",
              "        const docLink = document.createElement('div');\n",
              "        docLink.innerHTML = docLinkHtml;\n",
              "        element.appendChild(docLink);\n",
              "      }\n",
              "    </script>\n",
              "  </div>\n",
              "\n",
              "\n",
              "<div id=\"df-571ce8f0-a126-4acb-a262-8e2b622dc029\">\n",
              "  <button class=\"colab-df-quickchart\" onclick=\"quickchart('df-571ce8f0-a126-4acb-a262-8e2b622dc029')\"\n",
              "            title=\"Suggest charts\"\n",
              "            style=\"display:none;\">\n",
              "\n",
              "<svg xmlns=\"http://www.w3.org/2000/svg\" height=\"24px\"viewBox=\"0 0 24 24\"\n",
              "     width=\"24px\">\n",
              "    <g>\n",
              "        <path d=\"M19 3H5c-1.1 0-2 .9-2 2v14c0 1.1.9 2 2 2h14c1.1 0 2-.9 2-2V5c0-1.1-.9-2-2-2zM9 17H7v-7h2v7zm4 0h-2V7h2v10zm4 0h-2v-4h2v4z\"/>\n",
              "    </g>\n",
              "</svg>\n",
              "  </button>\n",
              "\n",
              "<style>\n",
              "  .colab-df-quickchart {\n",
              "      --bg-color: #E8F0FE;\n",
              "      --fill-color: #1967D2;\n",
              "      --hover-bg-color: #E2EBFA;\n",
              "      --hover-fill-color: #174EA6;\n",
              "      --disabled-fill-color: #AAA;\n",
              "      --disabled-bg-color: #DDD;\n",
              "  }\n",
              "\n",
              "  [theme=dark] .colab-df-quickchart {\n",
              "      --bg-color: #3B4455;\n",
              "      --fill-color: #D2E3FC;\n",
              "      --hover-bg-color: #434B5C;\n",
              "      --hover-fill-color: #FFFFFF;\n",
              "      --disabled-bg-color: #3B4455;\n",
              "      --disabled-fill-color: #666;\n",
              "  }\n",
              "\n",
              "  .colab-df-quickchart {\n",
              "    background-color: var(--bg-color);\n",
              "    border: none;\n",
              "    border-radius: 50%;\n",
              "    cursor: pointer;\n",
              "    display: none;\n",
              "    fill: var(--fill-color);\n",
              "    height: 32px;\n",
              "    padding: 0;\n",
              "    width: 32px;\n",
              "  }\n",
              "\n",
              "  .colab-df-quickchart:hover {\n",
              "    background-color: var(--hover-bg-color);\n",
              "    box-shadow: 0 1px 2px rgba(60, 64, 67, 0.3), 0 1px 3px 1px rgba(60, 64, 67, 0.15);\n",
              "    fill: var(--button-hover-fill-color);\n",
              "  }\n",
              "\n",
              "  .colab-df-quickchart-complete:disabled,\n",
              "  .colab-df-quickchart-complete:disabled:hover {\n",
              "    background-color: var(--disabled-bg-color);\n",
              "    fill: var(--disabled-fill-color);\n",
              "    box-shadow: none;\n",
              "  }\n",
              "\n",
              "  .colab-df-spinner {\n",
              "    border: 2px solid var(--fill-color);\n",
              "    border-color: transparent;\n",
              "    border-bottom-color: var(--fill-color);\n",
              "    animation:\n",
              "      spin 1s steps(1) infinite;\n",
              "  }\n",
              "\n",
              "  @keyframes spin {\n",
              "    0% {\n",
              "      border-color: transparent;\n",
              "      border-bottom-color: var(--fill-color);\n",
              "      border-left-color: var(--fill-color);\n",
              "    }\n",
              "    20% {\n",
              "      border-color: transparent;\n",
              "      border-left-color: var(--fill-color);\n",
              "      border-top-color: var(--fill-color);\n",
              "    }\n",
              "    30% {\n",
              "      border-color: transparent;\n",
              "      border-left-color: var(--fill-color);\n",
              "      border-top-color: var(--fill-color);\n",
              "      border-right-color: var(--fill-color);\n",
              "    }\n",
              "    40% {\n",
              "      border-color: transparent;\n",
              "      border-right-color: var(--fill-color);\n",
              "      border-top-color: var(--fill-color);\n",
              "    }\n",
              "    60% {\n",
              "      border-color: transparent;\n",
              "      border-right-color: var(--fill-color);\n",
              "    }\n",
              "    80% {\n",
              "      border-color: transparent;\n",
              "      border-right-color: var(--fill-color);\n",
              "      border-bottom-color: var(--fill-color);\n",
              "    }\n",
              "    90% {\n",
              "      border-color: transparent;\n",
              "      border-bottom-color: var(--fill-color);\n",
              "    }\n",
              "  }\n",
              "</style>\n",
              "\n",
              "  <script>\n",
              "    async function quickchart(key) {\n",
              "      const quickchartButtonEl =\n",
              "        document.querySelector('#' + key + ' button');\n",
              "      quickchartButtonEl.disabled = true;  // To prevent multiple clicks.\n",
              "      quickchartButtonEl.classList.add('colab-df-spinner');\n",
              "      try {\n",
              "        const charts = await google.colab.kernel.invokeFunction(\n",
              "            'suggestCharts', [key], {});\n",
              "      } catch (error) {\n",
              "        console.error('Error during call to suggestCharts:', error);\n",
              "      }\n",
              "      quickchartButtonEl.classList.remove('colab-df-spinner');\n",
              "      quickchartButtonEl.classList.add('colab-df-quickchart-complete');\n",
              "    }\n",
              "    (() => {\n",
              "      let quickchartButtonEl =\n",
              "        document.querySelector('#df-571ce8f0-a126-4acb-a262-8e2b622dc029 button');\n",
              "      quickchartButtonEl.style.display =\n",
              "        google.colab.kernel.accessAllowed ? 'block' : 'none';\n",
              "    })();\n",
              "  </script>\n",
              "</div>\n",
              "    </div>\n",
              "  </div>\n"
            ],
            "application/vnd.google.colaboratory.intrinsic+json": {
              "type": "dataframe",
              "variable_name": "insurance_one_hot",
              "summary": "{\n  \"name\": \"insurance_one_hot\",\n  \"rows\": 1338,\n  \"fields\": [\n    {\n      \"column\": \"age\",\n      \"properties\": {\n        \"dtype\": \"number\",\n        \"std\": 14,\n        \"min\": 18,\n        \"max\": 64,\n        \"num_unique_values\": 47,\n        \"samples\": [\n          21,\n          45,\n          36\n        ],\n        \"semantic_type\": \"\",\n        \"description\": \"\"\n      }\n    },\n    {\n      \"column\": \"bmi\",\n      \"properties\": {\n        \"dtype\": \"number\",\n        \"std\": 6.098186911679014,\n        \"min\": 15.96,\n        \"max\": 53.13,\n        \"num_unique_values\": 548,\n        \"samples\": [\n          23.18,\n          26.885,\n          29.26\n        ],\n        \"semantic_type\": \"\",\n        \"description\": \"\"\n      }\n    },\n    {\n      \"column\": \"children\",\n      \"properties\": {\n        \"dtype\": \"number\",\n        \"std\": 1,\n        \"min\": 0,\n        \"max\": 5,\n        \"num_unique_values\": 6,\n        \"samples\": [\n          0,\n          1,\n          4\n        ],\n        \"semantic_type\": \"\",\n        \"description\": \"\"\n      }\n    },\n    {\n      \"column\": \"charges\",\n      \"properties\": {\n        \"dtype\": \"number\",\n        \"std\": 12110.011236694001,\n        \"min\": 1121.8739,\n        \"max\": 63770.42801,\n        \"num_unique_values\": 1337,\n        \"samples\": [\n          8688.85885,\n          5708.867,\n          11436.73815\n        ],\n        \"semantic_type\": \"\",\n        \"description\": \"\"\n      }\n    },\n    {\n      \"column\": \"sex_female\",\n      \"properties\": {\n        \"dtype\": \"uint8\",\n        \"num_unique_values\": 2,\n        \"samples\": [\n          0,\n          1\n        ],\n        \"semantic_type\": \"\",\n        \"description\": \"\"\n      }\n    },\n    {\n      \"column\": \"sex_male\",\n      \"properties\": {\n        \"dtype\": \"uint8\",\n        \"num_unique_values\": 2,\n        \"samples\": [\n          1,\n          0\n        ],\n        \"semantic_type\": \"\",\n        \"description\": \"\"\n      }\n    },\n    {\n      \"column\": \"smoker_no\",\n      \"properties\": {\n        \"dtype\": \"uint8\",\n        \"num_unique_values\": 2,\n        \"samples\": [\n          1,\n          0\n        ],\n        \"semantic_type\": \"\",\n        \"description\": \"\"\n      }\n    },\n    {\n      \"column\": \"smoker_yes\",\n      \"properties\": {\n        \"dtype\": \"uint8\",\n        \"num_unique_values\": 2,\n        \"samples\": [\n          0,\n          1\n        ],\n        \"semantic_type\": \"\",\n        \"description\": \"\"\n      }\n    },\n    {\n      \"column\": \"region_northeast\",\n      \"properties\": {\n        \"dtype\": \"uint8\",\n        \"num_unique_values\": 2,\n        \"samples\": [\n          1,\n          0\n        ],\n        \"semantic_type\": \"\",\n        \"description\": \"\"\n      }\n    },\n    {\n      \"column\": \"region_northwest\",\n      \"properties\": {\n        \"dtype\": \"uint8\",\n        \"num_unique_values\": 2,\n        \"samples\": [\n          1,\n          0\n        ],\n        \"semantic_type\": \"\",\n        \"description\": \"\"\n      }\n    },\n    {\n      \"column\": \"region_southeast\",\n      \"properties\": {\n        \"dtype\": \"uint8\",\n        \"num_unique_values\": 2,\n        \"samples\": [\n          1,\n          0\n        ],\n        \"semantic_type\": \"\",\n        \"description\": \"\"\n      }\n    },\n    {\n      \"column\": \"region_southwest\",\n      \"properties\": {\n        \"dtype\": \"uint8\",\n        \"num_unique_values\": 2,\n        \"samples\": [\n          0,\n          1\n        ],\n        \"semantic_type\": \"\",\n        \"description\": \"\"\n      }\n    }\n  ]\n}"
            }
          },
          "metadata": {},
          "execution_count": 80
        }
      ]
    },
    {
      "cell_type": "markdown",
      "source": [
        "### Create X & Y Values (Features and labels)"
      ],
      "metadata": {
        "id": "O2wYeWe3p51_"
      }
    },
    {
      "cell_type": "code",
      "source": [
        "# Create X and Y\n",
        "x = insurance_one_hot.drop(\"charges\", axis=1)\n",
        "y = insurance_one_hot[\"charges\"]"
      ],
      "metadata": {
        "id": "lL96lpLTpqds"
      },
      "execution_count": 81,
      "outputs": []
    },
    {
      "cell_type": "code",
      "source": [
        "# view x\n",
        "x.head()"
      ],
      "metadata": {
        "colab": {
          "base_uri": "https://localhost:8080/",
          "height": 206
        },
        "id": "kg7Hm_PdRVv-",
        "outputId": "df86aa8b-687d-4a4c-971d-5db459437c2b"
      },
      "execution_count": 82,
      "outputs": [
        {
          "output_type": "execute_result",
          "data": {
            "text/plain": [
              "   age     bmi  children  sex_female  sex_male  smoker_no  smoker_yes  \\\n",
              "0   19  27.900         0           1         0          0           1   \n",
              "1   18  33.770         1           0         1          1           0   \n",
              "2   28  33.000         3           0         1          1           0   \n",
              "3   33  22.705         0           0         1          1           0   \n",
              "4   32  28.880         0           0         1          1           0   \n",
              "\n",
              "   region_northeast  region_northwest  region_southeast  region_southwest  \n",
              "0                 0                 0                 0                 1  \n",
              "1                 0                 0                 1                 0  \n",
              "2                 0                 0                 1                 0  \n",
              "3                 0                 1                 0                 0  \n",
              "4                 0                 1                 0                 0  "
            ],
            "text/html": [
              "\n",
              "  <div id=\"df-e40ce882-db7d-442c-96ae-287d170499fd\" class=\"colab-df-container\">\n",
              "    <div>\n",
              "<style scoped>\n",
              "    .dataframe tbody tr th:only-of-type {\n",
              "        vertical-align: middle;\n",
              "    }\n",
              "\n",
              "    .dataframe tbody tr th {\n",
              "        vertical-align: top;\n",
              "    }\n",
              "\n",
              "    .dataframe thead th {\n",
              "        text-align: right;\n",
              "    }\n",
              "</style>\n",
              "<table border=\"1\" class=\"dataframe\">\n",
              "  <thead>\n",
              "    <tr style=\"text-align: right;\">\n",
              "      <th></th>\n",
              "      <th>age</th>\n",
              "      <th>bmi</th>\n",
              "      <th>children</th>\n",
              "      <th>sex_female</th>\n",
              "      <th>sex_male</th>\n",
              "      <th>smoker_no</th>\n",
              "      <th>smoker_yes</th>\n",
              "      <th>region_northeast</th>\n",
              "      <th>region_northwest</th>\n",
              "      <th>region_southeast</th>\n",
              "      <th>region_southwest</th>\n",
              "    </tr>\n",
              "  </thead>\n",
              "  <tbody>\n",
              "    <tr>\n",
              "      <th>0</th>\n",
              "      <td>19</td>\n",
              "      <td>27.900</td>\n",
              "      <td>0</td>\n",
              "      <td>1</td>\n",
              "      <td>0</td>\n",
              "      <td>0</td>\n",
              "      <td>1</td>\n",
              "      <td>0</td>\n",
              "      <td>0</td>\n",
              "      <td>0</td>\n",
              "      <td>1</td>\n",
              "    </tr>\n",
              "    <tr>\n",
              "      <th>1</th>\n",
              "      <td>18</td>\n",
              "      <td>33.770</td>\n",
              "      <td>1</td>\n",
              "      <td>0</td>\n",
              "      <td>1</td>\n",
              "      <td>1</td>\n",
              "      <td>0</td>\n",
              "      <td>0</td>\n",
              "      <td>0</td>\n",
              "      <td>1</td>\n",
              "      <td>0</td>\n",
              "    </tr>\n",
              "    <tr>\n",
              "      <th>2</th>\n",
              "      <td>28</td>\n",
              "      <td>33.000</td>\n",
              "      <td>3</td>\n",
              "      <td>0</td>\n",
              "      <td>1</td>\n",
              "      <td>1</td>\n",
              "      <td>0</td>\n",
              "      <td>0</td>\n",
              "      <td>0</td>\n",
              "      <td>1</td>\n",
              "      <td>0</td>\n",
              "    </tr>\n",
              "    <tr>\n",
              "      <th>3</th>\n",
              "      <td>33</td>\n",
              "      <td>22.705</td>\n",
              "      <td>0</td>\n",
              "      <td>0</td>\n",
              "      <td>1</td>\n",
              "      <td>1</td>\n",
              "      <td>0</td>\n",
              "      <td>0</td>\n",
              "      <td>1</td>\n",
              "      <td>0</td>\n",
              "      <td>0</td>\n",
              "    </tr>\n",
              "    <tr>\n",
              "      <th>4</th>\n",
              "      <td>32</td>\n",
              "      <td>28.880</td>\n",
              "      <td>0</td>\n",
              "      <td>0</td>\n",
              "      <td>1</td>\n",
              "      <td>1</td>\n",
              "      <td>0</td>\n",
              "      <td>0</td>\n",
              "      <td>1</td>\n",
              "      <td>0</td>\n",
              "      <td>0</td>\n",
              "    </tr>\n",
              "  </tbody>\n",
              "</table>\n",
              "</div>\n",
              "    <div class=\"colab-df-buttons\">\n",
              "\n",
              "  <div class=\"colab-df-container\">\n",
              "    <button class=\"colab-df-convert\" onclick=\"convertToInteractive('df-e40ce882-db7d-442c-96ae-287d170499fd')\"\n",
              "            title=\"Convert this dataframe to an interactive table.\"\n",
              "            style=\"display:none;\">\n",
              "\n",
              "  <svg xmlns=\"http://www.w3.org/2000/svg\" height=\"24px\" viewBox=\"0 -960 960 960\">\n",
              "    <path d=\"M120-120v-720h720v720H120Zm60-500h600v-160H180v160Zm220 220h160v-160H400v160Zm0 220h160v-160H400v160ZM180-400h160v-160H180v160Zm440 0h160v-160H620v160ZM180-180h160v-160H180v160Zm440 0h160v-160H620v160Z\"/>\n",
              "  </svg>\n",
              "    </button>\n",
              "\n",
              "  <style>\n",
              "    .colab-df-container {\n",
              "      display:flex;\n",
              "      gap: 12px;\n",
              "    }\n",
              "\n",
              "    .colab-df-convert {\n",
              "      background-color: #E8F0FE;\n",
              "      border: none;\n",
              "      border-radius: 50%;\n",
              "      cursor: pointer;\n",
              "      display: none;\n",
              "      fill: #1967D2;\n",
              "      height: 32px;\n",
              "      padding: 0 0 0 0;\n",
              "      width: 32px;\n",
              "    }\n",
              "\n",
              "    .colab-df-convert:hover {\n",
              "      background-color: #E2EBFA;\n",
              "      box-shadow: 0px 1px 2px rgba(60, 64, 67, 0.3), 0px 1px 3px 1px rgba(60, 64, 67, 0.15);\n",
              "      fill: #174EA6;\n",
              "    }\n",
              "\n",
              "    .colab-df-buttons div {\n",
              "      margin-bottom: 4px;\n",
              "    }\n",
              "\n",
              "    [theme=dark] .colab-df-convert {\n",
              "      background-color: #3B4455;\n",
              "      fill: #D2E3FC;\n",
              "    }\n",
              "\n",
              "    [theme=dark] .colab-df-convert:hover {\n",
              "      background-color: #434B5C;\n",
              "      box-shadow: 0px 1px 3px 1px rgba(0, 0, 0, 0.15);\n",
              "      filter: drop-shadow(0px 1px 2px rgba(0, 0, 0, 0.3));\n",
              "      fill: #FFFFFF;\n",
              "    }\n",
              "  </style>\n",
              "\n",
              "    <script>\n",
              "      const buttonEl =\n",
              "        document.querySelector('#df-e40ce882-db7d-442c-96ae-287d170499fd button.colab-df-convert');\n",
              "      buttonEl.style.display =\n",
              "        google.colab.kernel.accessAllowed ? 'block' : 'none';\n",
              "\n",
              "      async function convertToInteractive(key) {\n",
              "        const element = document.querySelector('#df-e40ce882-db7d-442c-96ae-287d170499fd');\n",
              "        const dataTable =\n",
              "          await google.colab.kernel.invokeFunction('convertToInteractive',\n",
              "                                                    [key], {});\n",
              "        if (!dataTable) return;\n",
              "\n",
              "        const docLinkHtml = 'Like what you see? Visit the ' +\n",
              "          '<a target=\"_blank\" href=https://colab.research.google.com/notebooks/data_table.ipynb>data table notebook</a>'\n",
              "          + ' to learn more about interactive tables.';\n",
              "        element.innerHTML = '';\n",
              "        dataTable['output_type'] = 'display_data';\n",
              "        await google.colab.output.renderOutput(dataTable, element);\n",
              "        const docLink = document.createElement('div');\n",
              "        docLink.innerHTML = docLinkHtml;\n",
              "        element.appendChild(docLink);\n",
              "      }\n",
              "    </script>\n",
              "  </div>\n",
              "\n",
              "\n",
              "<div id=\"df-63a47613-aec0-4f94-b1f5-0362688b39f9\">\n",
              "  <button class=\"colab-df-quickchart\" onclick=\"quickchart('df-63a47613-aec0-4f94-b1f5-0362688b39f9')\"\n",
              "            title=\"Suggest charts\"\n",
              "            style=\"display:none;\">\n",
              "\n",
              "<svg xmlns=\"http://www.w3.org/2000/svg\" height=\"24px\"viewBox=\"0 0 24 24\"\n",
              "     width=\"24px\">\n",
              "    <g>\n",
              "        <path d=\"M19 3H5c-1.1 0-2 .9-2 2v14c0 1.1.9 2 2 2h14c1.1 0 2-.9 2-2V5c0-1.1-.9-2-2-2zM9 17H7v-7h2v7zm4 0h-2V7h2v10zm4 0h-2v-4h2v4z\"/>\n",
              "    </g>\n",
              "</svg>\n",
              "  </button>\n",
              "\n",
              "<style>\n",
              "  .colab-df-quickchart {\n",
              "      --bg-color: #E8F0FE;\n",
              "      --fill-color: #1967D2;\n",
              "      --hover-bg-color: #E2EBFA;\n",
              "      --hover-fill-color: #174EA6;\n",
              "      --disabled-fill-color: #AAA;\n",
              "      --disabled-bg-color: #DDD;\n",
              "  }\n",
              "\n",
              "  [theme=dark] .colab-df-quickchart {\n",
              "      --bg-color: #3B4455;\n",
              "      --fill-color: #D2E3FC;\n",
              "      --hover-bg-color: #434B5C;\n",
              "      --hover-fill-color: #FFFFFF;\n",
              "      --disabled-bg-color: #3B4455;\n",
              "      --disabled-fill-color: #666;\n",
              "  }\n",
              "\n",
              "  .colab-df-quickchart {\n",
              "    background-color: var(--bg-color);\n",
              "    border: none;\n",
              "    border-radius: 50%;\n",
              "    cursor: pointer;\n",
              "    display: none;\n",
              "    fill: var(--fill-color);\n",
              "    height: 32px;\n",
              "    padding: 0;\n",
              "    width: 32px;\n",
              "  }\n",
              "\n",
              "  .colab-df-quickchart:hover {\n",
              "    background-color: var(--hover-bg-color);\n",
              "    box-shadow: 0 1px 2px rgba(60, 64, 67, 0.3), 0 1px 3px 1px rgba(60, 64, 67, 0.15);\n",
              "    fill: var(--button-hover-fill-color);\n",
              "  }\n",
              "\n",
              "  .colab-df-quickchart-complete:disabled,\n",
              "  .colab-df-quickchart-complete:disabled:hover {\n",
              "    background-color: var(--disabled-bg-color);\n",
              "    fill: var(--disabled-fill-color);\n",
              "    box-shadow: none;\n",
              "  }\n",
              "\n",
              "  .colab-df-spinner {\n",
              "    border: 2px solid var(--fill-color);\n",
              "    border-color: transparent;\n",
              "    border-bottom-color: var(--fill-color);\n",
              "    animation:\n",
              "      spin 1s steps(1) infinite;\n",
              "  }\n",
              "\n",
              "  @keyframes spin {\n",
              "    0% {\n",
              "      border-color: transparent;\n",
              "      border-bottom-color: var(--fill-color);\n",
              "      border-left-color: var(--fill-color);\n",
              "    }\n",
              "    20% {\n",
              "      border-color: transparent;\n",
              "      border-left-color: var(--fill-color);\n",
              "      border-top-color: var(--fill-color);\n",
              "    }\n",
              "    30% {\n",
              "      border-color: transparent;\n",
              "      border-left-color: var(--fill-color);\n",
              "      border-top-color: var(--fill-color);\n",
              "      border-right-color: var(--fill-color);\n",
              "    }\n",
              "    40% {\n",
              "      border-color: transparent;\n",
              "      border-right-color: var(--fill-color);\n",
              "      border-top-color: var(--fill-color);\n",
              "    }\n",
              "    60% {\n",
              "      border-color: transparent;\n",
              "      border-right-color: var(--fill-color);\n",
              "    }\n",
              "    80% {\n",
              "      border-color: transparent;\n",
              "      border-right-color: var(--fill-color);\n",
              "      border-bottom-color: var(--fill-color);\n",
              "    }\n",
              "    90% {\n",
              "      border-color: transparent;\n",
              "      border-bottom-color: var(--fill-color);\n",
              "    }\n",
              "  }\n",
              "</style>\n",
              "\n",
              "  <script>\n",
              "    async function quickchart(key) {\n",
              "      const quickchartButtonEl =\n",
              "        document.querySelector('#' + key + ' button');\n",
              "      quickchartButtonEl.disabled = true;  // To prevent multiple clicks.\n",
              "      quickchartButtonEl.classList.add('colab-df-spinner');\n",
              "      try {\n",
              "        const charts = await google.colab.kernel.invokeFunction(\n",
              "            'suggestCharts', [key], {});\n",
              "      } catch (error) {\n",
              "        console.error('Error during call to suggestCharts:', error);\n",
              "      }\n",
              "      quickchartButtonEl.classList.remove('colab-df-spinner');\n",
              "      quickchartButtonEl.classList.add('colab-df-quickchart-complete');\n",
              "    }\n",
              "    (() => {\n",
              "      let quickchartButtonEl =\n",
              "        document.querySelector('#df-63a47613-aec0-4f94-b1f5-0362688b39f9 button');\n",
              "      quickchartButtonEl.style.display =\n",
              "        google.colab.kernel.accessAllowed ? 'block' : 'none';\n",
              "    })();\n",
              "  </script>\n",
              "</div>\n",
              "    </div>\n",
              "  </div>\n"
            ],
            "application/vnd.google.colaboratory.intrinsic+json": {
              "type": "dataframe",
              "variable_name": "x",
              "summary": "{\n  \"name\": \"x\",\n  \"rows\": 1338,\n  \"fields\": [\n    {\n      \"column\": \"age\",\n      \"properties\": {\n        \"dtype\": \"number\",\n        \"std\": 14,\n        \"min\": 18,\n        \"max\": 64,\n        \"num_unique_values\": 47,\n        \"samples\": [\n          21,\n          45,\n          36\n        ],\n        \"semantic_type\": \"\",\n        \"description\": \"\"\n      }\n    },\n    {\n      \"column\": \"bmi\",\n      \"properties\": {\n        \"dtype\": \"number\",\n        \"std\": 6.098186911679014,\n        \"min\": 15.96,\n        \"max\": 53.13,\n        \"num_unique_values\": 548,\n        \"samples\": [\n          23.18,\n          26.885,\n          29.26\n        ],\n        \"semantic_type\": \"\",\n        \"description\": \"\"\n      }\n    },\n    {\n      \"column\": \"children\",\n      \"properties\": {\n        \"dtype\": \"number\",\n        \"std\": 1,\n        \"min\": 0,\n        \"max\": 5,\n        \"num_unique_values\": 6,\n        \"samples\": [\n          0,\n          1,\n          4\n        ],\n        \"semantic_type\": \"\",\n        \"description\": \"\"\n      }\n    },\n    {\n      \"column\": \"sex_female\",\n      \"properties\": {\n        \"dtype\": \"uint8\",\n        \"num_unique_values\": 2,\n        \"samples\": [\n          0,\n          1\n        ],\n        \"semantic_type\": \"\",\n        \"description\": \"\"\n      }\n    },\n    {\n      \"column\": \"sex_male\",\n      \"properties\": {\n        \"dtype\": \"uint8\",\n        \"num_unique_values\": 2,\n        \"samples\": [\n          1,\n          0\n        ],\n        \"semantic_type\": \"\",\n        \"description\": \"\"\n      }\n    },\n    {\n      \"column\": \"smoker_no\",\n      \"properties\": {\n        \"dtype\": \"uint8\",\n        \"num_unique_values\": 2,\n        \"samples\": [\n          1,\n          0\n        ],\n        \"semantic_type\": \"\",\n        \"description\": \"\"\n      }\n    },\n    {\n      \"column\": \"smoker_yes\",\n      \"properties\": {\n        \"dtype\": \"uint8\",\n        \"num_unique_values\": 2,\n        \"samples\": [\n          0,\n          1\n        ],\n        \"semantic_type\": \"\",\n        \"description\": \"\"\n      }\n    },\n    {\n      \"column\": \"region_northeast\",\n      \"properties\": {\n        \"dtype\": \"uint8\",\n        \"num_unique_values\": 2,\n        \"samples\": [\n          1,\n          0\n        ],\n        \"semantic_type\": \"\",\n        \"description\": \"\"\n      }\n    },\n    {\n      \"column\": \"region_northwest\",\n      \"properties\": {\n        \"dtype\": \"uint8\",\n        \"num_unique_values\": 2,\n        \"samples\": [\n          1,\n          0\n        ],\n        \"semantic_type\": \"\",\n        \"description\": \"\"\n      }\n    },\n    {\n      \"column\": \"region_southeast\",\n      \"properties\": {\n        \"dtype\": \"uint8\",\n        \"num_unique_values\": 2,\n        \"samples\": [\n          1,\n          0\n        ],\n        \"semantic_type\": \"\",\n        \"description\": \"\"\n      }\n    },\n    {\n      \"column\": \"region_southwest\",\n      \"properties\": {\n        \"dtype\": \"uint8\",\n        \"num_unique_values\": 2,\n        \"samples\": [\n          0,\n          1\n        ],\n        \"semantic_type\": \"\",\n        \"description\": \"\"\n      }\n    }\n  ]\n}"
            }
          },
          "metadata": {},
          "execution_count": 82
        }
      ]
    },
    {
      "cell_type": "code",
      "source": [
        "# view y\n",
        "y.head()"
      ],
      "metadata": {
        "colab": {
          "base_uri": "https://localhost:8080/"
        },
        "id": "sU6fprWLRol2",
        "outputId": "2e952569-bc2a-4b4c-af31-5b5c34dae9ab"
      },
      "execution_count": 83,
      "outputs": [
        {
          "output_type": "execute_result",
          "data": {
            "text/plain": [
              "0    16884.92400\n",
              "1     1725.55230\n",
              "2     4449.46200\n",
              "3    21984.47061\n",
              "4     3866.85520\n",
              "Name: charges, dtype: float64"
            ]
          },
          "metadata": {},
          "execution_count": 83
        }
      ]
    },
    {
      "cell_type": "code",
      "source": [
        "# Create training and test sets\n",
        "\n",
        "from sklearn.model_selection import train_test_split\n",
        "\n",
        "x_train, x_test, y_train, y_test = train_test_split(x, y,test_size=0.2, random_state=42)\n",
        "len(x), len(x_train), len(x_test)\n"
      ],
      "metadata": {
        "colab": {
          "base_uri": "https://localhost:8080/"
        },
        "id": "S1784bQaXLGY",
        "outputId": "ab779ad9-cc2e-41ea-859c-45976379f0bf"
      },
      "execution_count": 84,
      "outputs": [
        {
          "output_type": "execute_result",
          "data": {
            "text/plain": [
              "(1338, 1070, 268)"
            ]
          },
          "metadata": {},
          "execution_count": 84
        }
      ]
    },
    {
      "cell_type": "code",
      "source": [
        "x_train"
      ],
      "metadata": {
        "colab": {
          "base_uri": "https://localhost:8080/",
          "height": 424
        },
        "id": "d5gYWBwAYb9E",
        "outputId": "47103eff-9cb1-40bd-bf96-39ddbf177ce6"
      },
      "execution_count": 85,
      "outputs": [
        {
          "output_type": "execute_result",
          "data": {
            "text/plain": [
              "      age     bmi  children  sex_female  sex_male  smoker_no  smoker_yes  \\\n",
              "560    46  19.950         2           1         0          1           0   \n",
              "1285   47  24.320         0           1         0          1           0   \n",
              "1142   52  24.860         0           1         0          1           0   \n",
              "969    39  34.320         5           1         0          1           0   \n",
              "486    54  21.470         3           1         0          1           0   \n",
              "...   ...     ...       ...         ...       ...        ...         ...   \n",
              "1095   18  31.350         4           1         0          1           0   \n",
              "1130   39  23.870         5           1         0          1           0   \n",
              "1294   58  25.175         0           0         1          1           0   \n",
              "860    37  47.600         2           1         0          0           1   \n",
              "1126   55  29.900         0           0         1          1           0   \n",
              "\n",
              "      region_northeast  region_northwest  region_southeast  region_southwest  \n",
              "560                  0                 1                 0                 0  \n",
              "1285                 1                 0                 0                 0  \n",
              "1142                 0                 0                 1                 0  \n",
              "969                  0                 0                 1                 0  \n",
              "486                  0                 1                 0                 0  \n",
              "...                ...               ...               ...               ...  \n",
              "1095                 1                 0                 0                 0  \n",
              "1130                 0                 0                 1                 0  \n",
              "1294                 1                 0                 0                 0  \n",
              "860                  0                 0                 0                 1  \n",
              "1126                 0                 0                 0                 1  \n",
              "\n",
              "[1070 rows x 11 columns]"
            ],
            "text/html": [
              "\n",
              "  <div id=\"df-65bca05f-70c0-4ec4-886c-69a9f5e5f84d\" class=\"colab-df-container\">\n",
              "    <div>\n",
              "<style scoped>\n",
              "    .dataframe tbody tr th:only-of-type {\n",
              "        vertical-align: middle;\n",
              "    }\n",
              "\n",
              "    .dataframe tbody tr th {\n",
              "        vertical-align: top;\n",
              "    }\n",
              "\n",
              "    .dataframe thead th {\n",
              "        text-align: right;\n",
              "    }\n",
              "</style>\n",
              "<table border=\"1\" class=\"dataframe\">\n",
              "  <thead>\n",
              "    <tr style=\"text-align: right;\">\n",
              "      <th></th>\n",
              "      <th>age</th>\n",
              "      <th>bmi</th>\n",
              "      <th>children</th>\n",
              "      <th>sex_female</th>\n",
              "      <th>sex_male</th>\n",
              "      <th>smoker_no</th>\n",
              "      <th>smoker_yes</th>\n",
              "      <th>region_northeast</th>\n",
              "      <th>region_northwest</th>\n",
              "      <th>region_southeast</th>\n",
              "      <th>region_southwest</th>\n",
              "    </tr>\n",
              "  </thead>\n",
              "  <tbody>\n",
              "    <tr>\n",
              "      <th>560</th>\n",
              "      <td>46</td>\n",
              "      <td>19.950</td>\n",
              "      <td>2</td>\n",
              "      <td>1</td>\n",
              "      <td>0</td>\n",
              "      <td>1</td>\n",
              "      <td>0</td>\n",
              "      <td>0</td>\n",
              "      <td>1</td>\n",
              "      <td>0</td>\n",
              "      <td>0</td>\n",
              "    </tr>\n",
              "    <tr>\n",
              "      <th>1285</th>\n",
              "      <td>47</td>\n",
              "      <td>24.320</td>\n",
              "      <td>0</td>\n",
              "      <td>1</td>\n",
              "      <td>0</td>\n",
              "      <td>1</td>\n",
              "      <td>0</td>\n",
              "      <td>1</td>\n",
              "      <td>0</td>\n",
              "      <td>0</td>\n",
              "      <td>0</td>\n",
              "    </tr>\n",
              "    <tr>\n",
              "      <th>1142</th>\n",
              "      <td>52</td>\n",
              "      <td>24.860</td>\n",
              "      <td>0</td>\n",
              "      <td>1</td>\n",
              "      <td>0</td>\n",
              "      <td>1</td>\n",
              "      <td>0</td>\n",
              "      <td>0</td>\n",
              "      <td>0</td>\n",
              "      <td>1</td>\n",
              "      <td>0</td>\n",
              "    </tr>\n",
              "    <tr>\n",
              "      <th>969</th>\n",
              "      <td>39</td>\n",
              "      <td>34.320</td>\n",
              "      <td>5</td>\n",
              "      <td>1</td>\n",
              "      <td>0</td>\n",
              "      <td>1</td>\n",
              "      <td>0</td>\n",
              "      <td>0</td>\n",
              "      <td>0</td>\n",
              "      <td>1</td>\n",
              "      <td>0</td>\n",
              "    </tr>\n",
              "    <tr>\n",
              "      <th>486</th>\n",
              "      <td>54</td>\n",
              "      <td>21.470</td>\n",
              "      <td>3</td>\n",
              "      <td>1</td>\n",
              "      <td>0</td>\n",
              "      <td>1</td>\n",
              "      <td>0</td>\n",
              "      <td>0</td>\n",
              "      <td>1</td>\n",
              "      <td>0</td>\n",
              "      <td>0</td>\n",
              "    </tr>\n",
              "    <tr>\n",
              "      <th>...</th>\n",
              "      <td>...</td>\n",
              "      <td>...</td>\n",
              "      <td>...</td>\n",
              "      <td>...</td>\n",
              "      <td>...</td>\n",
              "      <td>...</td>\n",
              "      <td>...</td>\n",
              "      <td>...</td>\n",
              "      <td>...</td>\n",
              "      <td>...</td>\n",
              "      <td>...</td>\n",
              "    </tr>\n",
              "    <tr>\n",
              "      <th>1095</th>\n",
              "      <td>18</td>\n",
              "      <td>31.350</td>\n",
              "      <td>4</td>\n",
              "      <td>1</td>\n",
              "      <td>0</td>\n",
              "      <td>1</td>\n",
              "      <td>0</td>\n",
              "      <td>1</td>\n",
              "      <td>0</td>\n",
              "      <td>0</td>\n",
              "      <td>0</td>\n",
              "    </tr>\n",
              "    <tr>\n",
              "      <th>1130</th>\n",
              "      <td>39</td>\n",
              "      <td>23.870</td>\n",
              "      <td>5</td>\n",
              "      <td>1</td>\n",
              "      <td>0</td>\n",
              "      <td>1</td>\n",
              "      <td>0</td>\n",
              "      <td>0</td>\n",
              "      <td>0</td>\n",
              "      <td>1</td>\n",
              "      <td>0</td>\n",
              "    </tr>\n",
              "    <tr>\n",
              "      <th>1294</th>\n",
              "      <td>58</td>\n",
              "      <td>25.175</td>\n",
              "      <td>0</td>\n",
              "      <td>0</td>\n",
              "      <td>1</td>\n",
              "      <td>1</td>\n",
              "      <td>0</td>\n",
              "      <td>1</td>\n",
              "      <td>0</td>\n",
              "      <td>0</td>\n",
              "      <td>0</td>\n",
              "    </tr>\n",
              "    <tr>\n",
              "      <th>860</th>\n",
              "      <td>37</td>\n",
              "      <td>47.600</td>\n",
              "      <td>2</td>\n",
              "      <td>1</td>\n",
              "      <td>0</td>\n",
              "      <td>0</td>\n",
              "      <td>1</td>\n",
              "      <td>0</td>\n",
              "      <td>0</td>\n",
              "      <td>0</td>\n",
              "      <td>1</td>\n",
              "    </tr>\n",
              "    <tr>\n",
              "      <th>1126</th>\n",
              "      <td>55</td>\n",
              "      <td>29.900</td>\n",
              "      <td>0</td>\n",
              "      <td>0</td>\n",
              "      <td>1</td>\n",
              "      <td>1</td>\n",
              "      <td>0</td>\n",
              "      <td>0</td>\n",
              "      <td>0</td>\n",
              "      <td>0</td>\n",
              "      <td>1</td>\n",
              "    </tr>\n",
              "  </tbody>\n",
              "</table>\n",
              "<p>1070 rows × 11 columns</p>\n",
              "</div>\n",
              "    <div class=\"colab-df-buttons\">\n",
              "\n",
              "  <div class=\"colab-df-container\">\n",
              "    <button class=\"colab-df-convert\" onclick=\"convertToInteractive('df-65bca05f-70c0-4ec4-886c-69a9f5e5f84d')\"\n",
              "            title=\"Convert this dataframe to an interactive table.\"\n",
              "            style=\"display:none;\">\n",
              "\n",
              "  <svg xmlns=\"http://www.w3.org/2000/svg\" height=\"24px\" viewBox=\"0 -960 960 960\">\n",
              "    <path d=\"M120-120v-720h720v720H120Zm60-500h600v-160H180v160Zm220 220h160v-160H400v160Zm0 220h160v-160H400v160ZM180-400h160v-160H180v160Zm440 0h160v-160H620v160ZM180-180h160v-160H180v160Zm440 0h160v-160H620v160Z\"/>\n",
              "  </svg>\n",
              "    </button>\n",
              "\n",
              "  <style>\n",
              "    .colab-df-container {\n",
              "      display:flex;\n",
              "      gap: 12px;\n",
              "    }\n",
              "\n",
              "    .colab-df-convert {\n",
              "      background-color: #E8F0FE;\n",
              "      border: none;\n",
              "      border-radius: 50%;\n",
              "      cursor: pointer;\n",
              "      display: none;\n",
              "      fill: #1967D2;\n",
              "      height: 32px;\n",
              "      padding: 0 0 0 0;\n",
              "      width: 32px;\n",
              "    }\n",
              "\n",
              "    .colab-df-convert:hover {\n",
              "      background-color: #E2EBFA;\n",
              "      box-shadow: 0px 1px 2px rgba(60, 64, 67, 0.3), 0px 1px 3px 1px rgba(60, 64, 67, 0.15);\n",
              "      fill: #174EA6;\n",
              "    }\n",
              "\n",
              "    .colab-df-buttons div {\n",
              "      margin-bottom: 4px;\n",
              "    }\n",
              "\n",
              "    [theme=dark] .colab-df-convert {\n",
              "      background-color: #3B4455;\n",
              "      fill: #D2E3FC;\n",
              "    }\n",
              "\n",
              "    [theme=dark] .colab-df-convert:hover {\n",
              "      background-color: #434B5C;\n",
              "      box-shadow: 0px 1px 3px 1px rgba(0, 0, 0, 0.15);\n",
              "      filter: drop-shadow(0px 1px 2px rgba(0, 0, 0, 0.3));\n",
              "      fill: #FFFFFF;\n",
              "    }\n",
              "  </style>\n",
              "\n",
              "    <script>\n",
              "      const buttonEl =\n",
              "        document.querySelector('#df-65bca05f-70c0-4ec4-886c-69a9f5e5f84d button.colab-df-convert');\n",
              "      buttonEl.style.display =\n",
              "        google.colab.kernel.accessAllowed ? 'block' : 'none';\n",
              "\n",
              "      async function convertToInteractive(key) {\n",
              "        const element = document.querySelector('#df-65bca05f-70c0-4ec4-886c-69a9f5e5f84d');\n",
              "        const dataTable =\n",
              "          await google.colab.kernel.invokeFunction('convertToInteractive',\n",
              "                                                    [key], {});\n",
              "        if (!dataTable) return;\n",
              "\n",
              "        const docLinkHtml = 'Like what you see? Visit the ' +\n",
              "          '<a target=\"_blank\" href=https://colab.research.google.com/notebooks/data_table.ipynb>data table notebook</a>'\n",
              "          + ' to learn more about interactive tables.';\n",
              "        element.innerHTML = '';\n",
              "        dataTable['output_type'] = 'display_data';\n",
              "        await google.colab.output.renderOutput(dataTable, element);\n",
              "        const docLink = document.createElement('div');\n",
              "        docLink.innerHTML = docLinkHtml;\n",
              "        element.appendChild(docLink);\n",
              "      }\n",
              "    </script>\n",
              "  </div>\n",
              "\n",
              "\n",
              "<div id=\"df-5686e82c-1cf8-4829-8403-86f2e72bec0b\">\n",
              "  <button class=\"colab-df-quickchart\" onclick=\"quickchart('df-5686e82c-1cf8-4829-8403-86f2e72bec0b')\"\n",
              "            title=\"Suggest charts\"\n",
              "            style=\"display:none;\">\n",
              "\n",
              "<svg xmlns=\"http://www.w3.org/2000/svg\" height=\"24px\"viewBox=\"0 0 24 24\"\n",
              "     width=\"24px\">\n",
              "    <g>\n",
              "        <path d=\"M19 3H5c-1.1 0-2 .9-2 2v14c0 1.1.9 2 2 2h14c1.1 0 2-.9 2-2V5c0-1.1-.9-2-2-2zM9 17H7v-7h2v7zm4 0h-2V7h2v10zm4 0h-2v-4h2v4z\"/>\n",
              "    </g>\n",
              "</svg>\n",
              "  </button>\n",
              "\n",
              "<style>\n",
              "  .colab-df-quickchart {\n",
              "      --bg-color: #E8F0FE;\n",
              "      --fill-color: #1967D2;\n",
              "      --hover-bg-color: #E2EBFA;\n",
              "      --hover-fill-color: #174EA6;\n",
              "      --disabled-fill-color: #AAA;\n",
              "      --disabled-bg-color: #DDD;\n",
              "  }\n",
              "\n",
              "  [theme=dark] .colab-df-quickchart {\n",
              "      --bg-color: #3B4455;\n",
              "      --fill-color: #D2E3FC;\n",
              "      --hover-bg-color: #434B5C;\n",
              "      --hover-fill-color: #FFFFFF;\n",
              "      --disabled-bg-color: #3B4455;\n",
              "      --disabled-fill-color: #666;\n",
              "  }\n",
              "\n",
              "  .colab-df-quickchart {\n",
              "    background-color: var(--bg-color);\n",
              "    border: none;\n",
              "    border-radius: 50%;\n",
              "    cursor: pointer;\n",
              "    display: none;\n",
              "    fill: var(--fill-color);\n",
              "    height: 32px;\n",
              "    padding: 0;\n",
              "    width: 32px;\n",
              "  }\n",
              "\n",
              "  .colab-df-quickchart:hover {\n",
              "    background-color: var(--hover-bg-color);\n",
              "    box-shadow: 0 1px 2px rgba(60, 64, 67, 0.3), 0 1px 3px 1px rgba(60, 64, 67, 0.15);\n",
              "    fill: var(--button-hover-fill-color);\n",
              "  }\n",
              "\n",
              "  .colab-df-quickchart-complete:disabled,\n",
              "  .colab-df-quickchart-complete:disabled:hover {\n",
              "    background-color: var(--disabled-bg-color);\n",
              "    fill: var(--disabled-fill-color);\n",
              "    box-shadow: none;\n",
              "  }\n",
              "\n",
              "  .colab-df-spinner {\n",
              "    border: 2px solid var(--fill-color);\n",
              "    border-color: transparent;\n",
              "    border-bottom-color: var(--fill-color);\n",
              "    animation:\n",
              "      spin 1s steps(1) infinite;\n",
              "  }\n",
              "\n",
              "  @keyframes spin {\n",
              "    0% {\n",
              "      border-color: transparent;\n",
              "      border-bottom-color: var(--fill-color);\n",
              "      border-left-color: var(--fill-color);\n",
              "    }\n",
              "    20% {\n",
              "      border-color: transparent;\n",
              "      border-left-color: var(--fill-color);\n",
              "      border-top-color: var(--fill-color);\n",
              "    }\n",
              "    30% {\n",
              "      border-color: transparent;\n",
              "      border-left-color: var(--fill-color);\n",
              "      border-top-color: var(--fill-color);\n",
              "      border-right-color: var(--fill-color);\n",
              "    }\n",
              "    40% {\n",
              "      border-color: transparent;\n",
              "      border-right-color: var(--fill-color);\n",
              "      border-top-color: var(--fill-color);\n",
              "    }\n",
              "    60% {\n",
              "      border-color: transparent;\n",
              "      border-right-color: var(--fill-color);\n",
              "    }\n",
              "    80% {\n",
              "      border-color: transparent;\n",
              "      border-right-color: var(--fill-color);\n",
              "      border-bottom-color: var(--fill-color);\n",
              "    }\n",
              "    90% {\n",
              "      border-color: transparent;\n",
              "      border-bottom-color: var(--fill-color);\n",
              "    }\n",
              "  }\n",
              "</style>\n",
              "\n",
              "  <script>\n",
              "    async function quickchart(key) {\n",
              "      const quickchartButtonEl =\n",
              "        document.querySelector('#' + key + ' button');\n",
              "      quickchartButtonEl.disabled = true;  // To prevent multiple clicks.\n",
              "      quickchartButtonEl.classList.add('colab-df-spinner');\n",
              "      try {\n",
              "        const charts = await google.colab.kernel.invokeFunction(\n",
              "            'suggestCharts', [key], {});\n",
              "      } catch (error) {\n",
              "        console.error('Error during call to suggestCharts:', error);\n",
              "      }\n",
              "      quickchartButtonEl.classList.remove('colab-df-spinner');\n",
              "      quickchartButtonEl.classList.add('colab-df-quickchart-complete');\n",
              "    }\n",
              "    (() => {\n",
              "      let quickchartButtonEl =\n",
              "        document.querySelector('#df-5686e82c-1cf8-4829-8403-86f2e72bec0b button');\n",
              "      quickchartButtonEl.style.display =\n",
              "        google.colab.kernel.accessAllowed ? 'block' : 'none';\n",
              "    })();\n",
              "  </script>\n",
              "</div>\n",
              "    </div>\n",
              "  </div>\n"
            ],
            "application/vnd.google.colaboratory.intrinsic+json": {
              "type": "dataframe",
              "variable_name": "x_train",
              "summary": "{\n  \"name\": \"x_train\",\n  \"rows\": 1070,\n  \"fields\": [\n    {\n      \"column\": \"age\",\n      \"properties\": {\n        \"dtype\": \"number\",\n        \"std\": 14,\n        \"min\": 18,\n        \"max\": 64,\n        \"num_unique_values\": 47,\n        \"samples\": [\n          35,\n          33,\n          20\n        ],\n        \"semantic_type\": \"\",\n        \"description\": \"\"\n      }\n    },\n    {\n      \"column\": \"bmi\",\n      \"properties\": {\n        \"dtype\": \"number\",\n        \"std\": 6.043385672727495,\n        \"min\": 15.96,\n        \"max\": 53.13,\n        \"num_unique_values\": 494,\n        \"samples\": [\n          27.3,\n          31.35,\n          21.66\n        ],\n        \"semantic_type\": \"\",\n        \"description\": \"\"\n      }\n    },\n    {\n      \"column\": \"children\",\n      \"properties\": {\n        \"dtype\": \"number\",\n        \"std\": 1,\n        \"min\": 0,\n        \"max\": 5,\n        \"num_unique_values\": 6,\n        \"samples\": [\n          2,\n          0,\n          4\n        ],\n        \"semantic_type\": \"\",\n        \"description\": \"\"\n      }\n    },\n    {\n      \"column\": \"sex_female\",\n      \"properties\": {\n        \"dtype\": \"uint8\",\n        \"num_unique_values\": 2,\n        \"samples\": [\n          0,\n          1\n        ],\n        \"semantic_type\": \"\",\n        \"description\": \"\"\n      }\n    },\n    {\n      \"column\": \"sex_male\",\n      \"properties\": {\n        \"dtype\": \"uint8\",\n        \"num_unique_values\": 2,\n        \"samples\": [\n          1,\n          0\n        ],\n        \"semantic_type\": \"\",\n        \"description\": \"\"\n      }\n    },\n    {\n      \"column\": \"smoker_no\",\n      \"properties\": {\n        \"dtype\": \"uint8\",\n        \"num_unique_values\": 2,\n        \"samples\": [\n          0,\n          1\n        ],\n        \"semantic_type\": \"\",\n        \"description\": \"\"\n      }\n    },\n    {\n      \"column\": \"smoker_yes\",\n      \"properties\": {\n        \"dtype\": \"uint8\",\n        \"num_unique_values\": 2,\n        \"samples\": [\n          1,\n          0\n        ],\n        \"semantic_type\": \"\",\n        \"description\": \"\"\n      }\n    },\n    {\n      \"column\": \"region_northeast\",\n      \"properties\": {\n        \"dtype\": \"uint8\",\n        \"num_unique_values\": 2,\n        \"samples\": [\n          1,\n          0\n        ],\n        \"semantic_type\": \"\",\n        \"description\": \"\"\n      }\n    },\n    {\n      \"column\": \"region_northwest\",\n      \"properties\": {\n        \"dtype\": \"uint8\",\n        \"num_unique_values\": 2,\n        \"samples\": [\n          0,\n          1\n        ],\n        \"semantic_type\": \"\",\n        \"description\": \"\"\n      }\n    },\n    {\n      \"column\": \"region_southeast\",\n      \"properties\": {\n        \"dtype\": \"uint8\",\n        \"num_unique_values\": 2,\n        \"samples\": [\n          1,\n          0\n        ],\n        \"semantic_type\": \"\",\n        \"description\": \"\"\n      }\n    },\n    {\n      \"column\": \"region_southwest\",\n      \"properties\": {\n        \"dtype\": \"uint8\",\n        \"num_unique_values\": 2,\n        \"samples\": [\n          1,\n          0\n        ],\n        \"semantic_type\": \"\",\n        \"description\": \"\"\n      }\n    }\n  ]\n}"
            }
          },
          "metadata": {},
          "execution_count": 85
        }
      ]
    },
    {
      "cell_type": "code",
      "source": [
        "# Build a neural network (sort of like model_2 above)\n",
        "tf.random.set_seed(42)\n",
        "\n",
        "# 1. Create the model\n",
        "insurance_model = tf.keras.Sequential([\n",
        "    tf.keras.layers.Dense(100, activation=\"relu\"),\n",
        "    tf.keras.layers.Dense(100),\n",
        "    tf.keras.layers.Dense(10)\n",
        "])\n",
        "\n",
        "# 2. Compile the model\n",
        "insurance_model.compile(loss=mae,\n",
        "                        optimizer = tf.keras.optimizers.Adam(lr = 0.01),\n",
        "                        metrics=[\"mae\"])\n",
        "\n",
        "# 3. Fit the model\n",
        "history_insurance = insurance_model.fit(x_train, y_train, epochs=500, verbose=0)"
      ],
      "metadata": {
        "colab": {
          "base_uri": "https://localhost:8080/"
        },
        "id": "5XLrX5IaYl92",
        "outputId": "315d53db-69a8-42c3-d11b-467904aec30f"
      },
      "execution_count": 86,
      "outputs": [
        {
          "output_type": "stream",
          "name": "stderr",
          "text": [
            "WARNING:absl:`lr` is deprecated in Keras optimizer, please use `learning_rate` or use the legacy optimizer, e.g.,tf.keras.optimizers.legacy.Adam.\n"
          ]
        }
      ]
    },
    {
      "cell_type": "code",
      "source": [
        "# Check the result on test data\n",
        "insurance_model.evaluate(x_test, y_test)"
      ],
      "metadata": {
        "colab": {
          "base_uri": "https://localhost:8080/"
        },
        "id": "phMxyV6adIEN",
        "outputId": "9185f645-ef7e-4aa9-e85d-4398ee664b0a"
      },
      "execution_count": 87,
      "outputs": [
        {
          "output_type": "stream",
          "name": "stdout",
          "text": [
            "9/9 [==============================] - 0s 2ms/step - loss: 1790.5837 - mae: 1790.5837\n"
          ]
        },
        {
          "output_type": "execute_result",
          "data": {
            "text/plain": [
              "[1790.583740234375, 1790.583740234375]"
            ]
          },
          "metadata": {},
          "execution_count": 87
        }
      ]
    },
    {
      "cell_type": "code",
      "source": [
        "y_train.median(), y_train.mean()"
      ],
      "metadata": {
        "colab": {
          "base_uri": "https://localhost:8080/"
        },
        "id": "LMjdD18adchB",
        "outputId": "3ffc5ee9-49d9-4b19-ae55-c2326b1e6c51"
      },
      "execution_count": 88,
      "outputs": [
        {
          "output_type": "execute_result",
          "data": {
            "text/plain": [
              "(9575.4421, 13346.089736364485)"
            ]
          },
          "metadata": {},
          "execution_count": 88
        }
      ]
    },
    {
      "cell_type": "code",
      "source": [
        "# Plot history (loss curve a or training curve)\n",
        "pd.DataFrame(history_insurance.history).plot()\n",
        "plt.title(\"model accuracy\")\n",
        "plt.ylabel(\"loss\")\n",
        "plt.xlabel(\"epochs\")"
      ],
      "metadata": {
        "colab": {
          "base_uri": "https://localhost:8080/",
          "height": 489
        },
        "id": "PJFfUJr5lhOC",
        "outputId": "7830c7f9-11bf-4c42-9288-3a5372a34861"
      },
      "execution_count": 89,
      "outputs": [
        {
          "output_type": "execute_result",
          "data": {
            "text/plain": [
              "Text(0.5, 0, 'epochs')"
            ]
          },
          "metadata": {},
          "execution_count": 89
        },
        {
          "output_type": "display_data",
          "data": {
            "text/plain": [
              "<Figure size 640x480 with 1 Axes>"
            ],
            "image/png": "[encoded data removed]"
          },
          "metadata": {}
        }
      ]
    },
    {
      "cell_type": "markdown",
      "source": [
        "### EarlyStopping Callback\n",
        "\n",
        "The beautiful answer from TensorFlow to ml engginer for how long we should train or model"
      ],
      "metadata": {
        "id": "PeKm1dz8v7xS"
      }
    },
    {
      "cell_type": "markdown",
      "source": [
        "## Preprocessing data (normalization and standardization)\n",
        "\n",
        "In term of scalling values, neural networks tend to prefer normalization.\n",
        "\n"
      ],
      "metadata": {
        "id": "-zpaI6r4BZEq"
      }
    },
    {
      "cell_type": "code",
      "source": [
        "x[\"age\"].plot(kind=\"hist\")"
      ],
      "metadata": {
        "id": "QnPtSmjFvtkz",
        "colab": {
          "base_uri": "https://localhost:8080/",
          "height": 447
        },
        "outputId": "6dcef7d1-3d93-4861-bc4c-6597bdc69ebc"
      },
      "execution_count": 90,
      "outputs": [
        {
          "output_type": "execute_result",
          "data": {
            "text/plain": [
              "<Axes: ylabel='Frequency'>"
            ]
          },
          "metadata": {},
          "execution_count": 90
        },
        {
          "output_type": "display_data",
          "data": {
            "text/plain": [
              "<Figure size 640x480 with 1 Axes>"
            ],
            "image/png": "[encoded data removed]"
          },
          "metadata": {}
        }
      ]
    },
    {
      "cell_type": "code",
      "source": [
        "x[\"bmi\"].plot(kind=\"hist\")"
      ],
      "metadata": {
        "colab": {
          "base_uri": "https://localhost:8080/",
          "height": 447
        },
        "id": "rBSz4yk0AfqQ",
        "outputId": "60c90dae-504d-4869-c6b1-1475567f5961"
      },
      "execution_count": 91,
      "outputs": [
        {
          "output_type": "execute_result",
          "data": {
            "text/plain": [
              "<Axes: ylabel='Frequency'>"
            ]
          },
          "metadata": {},
          "execution_count": 91
        },
        {
          "output_type": "display_data",
          "data": {
            "text/plain": [
              "<Figure size 640x480 with 1 Axes>"
            ],
            "image/png": "[encoded data removed]"
          },
          "metadata": {}
        }
      ]
    },
    {
      "cell_type": "code",
      "source": [
        "import pandas as pd\n",
        "import matplotlib.pyplot as plt\n",
        "import tensorflow as tf\n",
        "\n",
        "# Read in the insurance dataframe\n",
        "insurance = pd.read_csv(\"https://raw.githubusercontent.com/stedy/Machine-Learning-with-R-datasets/master/insurance.csv\")\n",
        "insurance"
      ],
      "metadata": {
        "colab": {
          "base_uri": "https://localhost:8080/",
          "height": 424
        },
        "id": "s8H0ZQaKFTe7",
        "outputId": "3e30ad35-e462-490f-f699-6915552a113e"
      },
      "execution_count": 92,
      "outputs": [
        {
          "output_type": "execute_result",
          "data": {
            "text/plain": [
              "      age     sex     bmi  children smoker     region      charges\n",
              "0      19  female  27.900         0    yes  southwest  16884.92400\n",
              "1      18    male  33.770         1     no  southeast   1725.55230\n",
              "2      28    male  33.000         3     no  southeast   4449.46200\n",
              "3      33    male  22.705         0     no  northwest  21984.47061\n",
              "4      32    male  28.880         0     no  northwest   3866.85520\n",
              "...   ...     ...     ...       ...    ...        ...          ...\n",
              "1333   50    male  30.970         3     no  northwest  10600.54830\n",
              "1334   18  female  31.920         0     no  northeast   2205.98080\n",
              "1335   18  female  36.850         0     no  southeast   1629.83350\n",
              "1336   21  female  25.800         0     no  southwest   2007.94500\n",
              "1337   61  female  29.070         0    yes  northwest  29141.36030\n",
              "\n",
              "[1338 rows x 7 columns]"
            ],
            "text/html": [
              "\n",
              "  <div id=\"df-7d6731f3-8778-410d-a659-4cdce290fade\" class=\"colab-df-container\">\n",
              "    <div>\n",
              "<style scoped>\n",
              "    .dataframe tbody tr th:only-of-type {\n",
              "        vertical-align: middle;\n",
              "    }\n",
              "\n",
              "    .dataframe tbody tr th {\n",
              "        vertical-align: top;\n",
              "    }\n",
              "\n",
              "    .dataframe thead th {\n",
              "        text-align: right;\n",
              "    }\n",
              "</style>\n",
              "<table border=\"1\" class=\"dataframe\">\n",
              "  <thead>\n",
              "    <tr style=\"text-align: right;\">\n",
              "      <th></th>\n",
              "      <th>age</th>\n",
              "      <th>sex</th>\n",
              "      <th>bmi</th>\n",
              "      <th>children</th>\n",
              "      <th>smoker</th>\n",
              "      <th>region</th>\n",
              "      <th>charges</th>\n",
              "    </tr>\n",
              "  </thead>\n",
              "  <tbody>\n",
              "    <tr>\n",
              "      <th>0</th>\n",
              "      <td>19</td>\n",
              "      <td>female</td>\n",
              "      <td>27.900</td>\n",
              "      <td>0</td>\n",
              "      <td>yes</td>\n",
              "      <td>southwest</td>\n",
              "      <td>16884.92400</td>\n",
              "    </tr>\n",
              "    <tr>\n",
              "      <th>1</th>\n",
              "      <td>18</td>\n",
              "      <td>male</td>\n",
              "      <td>33.770</td>\n",
              "      <td>1</td>\n",
              "      <td>no</td>\n",
              "      <td>southeast</td>\n",
              "      <td>1725.55230</td>\n",
              "    </tr>\n",
              "    <tr>\n",
              "      <th>2</th>\n",
              "      <td>28</td>\n",
              "      <td>male</td>\n",
              "      <td>33.000</td>\n",
              "      <td>3</td>\n",
              "      <td>no</td>\n",
              "      <td>southeast</td>\n",
              "      <td>4449.46200</td>\n",
              "    </tr>\n",
              "    <tr>\n",
              "      <th>3</th>\n",
              "      <td>33</td>\n",
              "      <td>male</td>\n",
              "      <td>22.705</td>\n",
              "      <td>0</td>\n",
              "      <td>no</td>\n",
              "      <td>northwest</td>\n",
              "      <td>21984.47061</td>\n",
              "    </tr>\n",
              "    <tr>\n",
              "      <th>4</th>\n",
              "      <td>32</td>\n",
              "      <td>male</td>\n",
              "      <td>28.880</td>\n",
              "      <td>0</td>\n",
              "      <td>no</td>\n",
              "      <td>northwest</td>\n",
              "      <td>3866.85520</td>\n",
              "    </tr>\n",
              "    <tr>\n",
              "      <th>...</th>\n",
              "      <td>...</td>\n",
              "      <td>...</td>\n",
              "      <td>...</td>\n",
              "      <td>...</td>\n",
              "      <td>...</td>\n",
              "      <td>...</td>\n",
              "      <td>...</td>\n",
              "    </tr>\n",
              "    <tr>\n",
              "      <th>1333</th>\n",
              "      <td>50</td>\n",
              "      <td>male</td>\n",
              "      <td>30.970</td>\n",
              "      <td>3</td>\n",
              "      <td>no</td>\n",
              "      <td>northwest</td>\n",
              "      <td>10600.54830</td>\n",
              "    </tr>\n",
              "    <tr>\n",
              "      <th>1334</th>\n",
              "      <td>18</td>\n",
              "      <td>female</td>\n",
              "      <td>31.920</td>\n",
              "      <td>0</td>\n",
              "      <td>no</td>\n",
              "      <td>northeast</td>\n",
              "      <td>2205.98080</td>\n",
              "    </tr>\n",
              "    <tr>\n",
              "      <th>1335</th>\n",
              "      <td>18</td>\n",
              "      <td>female</td>\n",
              "      <td>36.850</td>\n",
              "      <td>0</td>\n",
              "      <td>no</td>\n",
              "      <td>southeast</td>\n",
              "      <td>1629.83350</td>\n",
              "    </tr>\n",
              "    <tr>\n",
              "      <th>1336</th>\n",
              "      <td>21</td>\n",
              "      <td>female</td>\n",
              "      <td>25.800</td>\n",
              "      <td>0</td>\n",
              "      <td>no</td>\n",
              "      <td>southwest</td>\n",
              "      <td>2007.94500</td>\n",
              "    </tr>\n",
              "    <tr>\n",
              "      <th>1337</th>\n",
              "      <td>61</td>\n",
              "      <td>female</td>\n",
              "      <td>29.070</td>\n",
              "      <td>0</td>\n",
              "      <td>yes</td>\n",
              "      <td>northwest</td>\n",
              "      <td>29141.36030</td>\n",
              "    </tr>\n",
              "  </tbody>\n",
              "</table>\n",
              "<p>1338 rows × 7 columns</p>\n",
              "</div>\n",
              "    <div class=\"colab-df-buttons\">\n",
              "\n",
              "  <div class=\"colab-df-container\">\n",
              "    <button class=\"colab-df-convert\" onclick=\"convertToInteractive('df-7d6731f3-8778-410d-a659-4cdce290fade')\"\n",
              "            title=\"Convert this dataframe to an interactive table.\"\n",
              "            style=\"display:none;\">\n",
              "\n",
              "  <svg xmlns=\"http://www.w3.org/2000/svg\" height=\"24px\" viewBox=\"0 -960 960 960\">\n",
              "    <path d=\"M120-120v-720h720v720H120Zm60-500h600v-160H180v160Zm220 220h160v-160H400v160Zm0 220h160v-160H400v160ZM180-400h160v-160H180v160Zm440 0h160v-160H620v160ZM180-180h160v-160H180v160Zm440 0h160v-160H620v160Z\"/>\n",
              "  </svg>\n",
              "    </button>\n",
              "\n",
              "  <style>\n",
              "    .colab-df-container {\n",
              "      display:flex;\n",
              "      gap: 12px;\n",
              "    }\n",
              "\n",
              "    .colab-df-convert {\n",
              "      background-color: #E8F0FE;\n",
              "      border: none;\n",
              "      border-radius: 50%;\n",
              "      cursor: pointer;\n",
              "      display: none;\n",
              "      fill: #1967D2;\n",
              "      height: 32px;\n",
              "      padding: 0 0 0 0;\n",
              "      width: 32px;\n",
              "    }\n",
              "\n",
              "    .colab-df-convert:hover {\n",
              "      background-color: #E2EBFA;\n",
              "      box-shadow: 0px 1px 2px rgba(60, 64, 67, 0.3), 0px 1px 3px 1px rgba(60, 64, 67, 0.15);\n",
              "      fill: #174EA6;\n",
              "    }\n",
              "\n",
              "    .colab-df-buttons div {\n",
              "      margin-bottom: 4px;\n",
              "    }\n",
              "\n",
              "    [theme=dark] .colab-df-convert {\n",
              "      background-color: #3B4455;\n",
              "      fill: #D2E3FC;\n",
              "    }\n",
              "\n",
              "    [theme=dark] .colab-df-convert:hover {\n",
              "      background-color: #434B5C;\n",
              "      box-shadow: 0px 1px 3px 1px rgba(0, 0, 0, 0.15);\n",
              "      filter: drop-shadow(0px 1px 2px rgba(0, 0, 0, 0.3));\n",
              "      fill: #FFFFFF;\n",
              "    }\n",
              "  </style>\n",
              "\n",
              "    <script>\n",
              "      const buttonEl =\n",
              "        document.querySelector('#df-7d6731f3-8778-410d-a659-4cdce290fade button.colab-df-convert');\n",
              "      buttonEl.style.display =\n",
              "        google.colab.kernel.accessAllowed ? 'block' : 'none';\n",
              "\n",
              "      async function convertToInteractive(key) {\n",
              "        const element = document.querySelector('#df-7d6731f3-8778-410d-a659-4cdce290fade');\n",
              "        const dataTable =\n",
              "          await google.colab.kernel.invokeFunction('convertToInteractive',\n",
              "                                                    [key], {});\n",
              "        if (!dataTable) return;\n",
              "\n",
              "        const docLinkHtml = 'Like what you see? Visit the ' +\n",
              "          '<a target=\"_blank\" href=https://colab.research.google.com/notebooks/data_table.ipynb>data table notebook</a>'\n",
              "          + ' to learn more about interactive tables.';\n",
              "        element.innerHTML = '';\n",
              "        dataTable['output_type'] = 'display_data';\n",
              "        await google.colab.output.renderOutput(dataTable, element);\n",
              "        const docLink = document.createElement('div');\n",
              "        docLink.innerHTML = docLinkHtml;\n",
              "        element.appendChild(docLink);\n",
              "      }\n",
              "    </script>\n",
              "  </div>\n",
              "\n",
              "\n",
              "<div id=\"df-8f374986-0032-4acb-af66-42361db2cb7f\">\n",
              "  <button class=\"colab-df-quickchart\" onclick=\"quickchart('df-8f374986-0032-4acb-af66-42361db2cb7f')\"\n",
              "            title=\"Suggest charts\"\n",
              "            style=\"display:none;\">\n",
              "\n",
              "<svg xmlns=\"http://www.w3.org/2000/svg\" height=\"24px\"viewBox=\"0 0 24 24\"\n",
              "     width=\"24px\">\n",
              "    <g>\n",
              "        <path d=\"M19 3H5c-1.1 0-2 .9-2 2v14c0 1.1.9 2 2 2h14c1.1 0 2-.9 2-2V5c0-1.1-.9-2-2-2zM9 17H7v-7h2v7zm4 0h-2V7h2v10zm4 0h-2v-4h2v4z\"/>\n",
              "    </g>\n",
              "</svg>\n",
              "  </button>\n",
              "\n",
              "<style>\n",
              "  .colab-df-quickchart {\n",
              "      --bg-color: #E8F0FE;\n",
              "      --fill-color: #1967D2;\n",
              "      --hover-bg-color: #E2EBFA;\n",
              "      --hover-fill-color: #174EA6;\n",
              "      --disabled-fill-color: #AAA;\n",
              "      --disabled-bg-color: #DDD;\n",
              "  }\n",
              "\n",
              "  [theme=dark] .colab-df-quickchart {\n",
              "      --bg-color: #3B4455;\n",
              "      --fill-color: #D2E3FC;\n",
              "      --hover-bg-color: #434B5C;\n",
              "      --hover-fill-color: #FFFFFF;\n",
              "      --disabled-bg-color: #3B4455;\n",
              "      --disabled-fill-color: #666;\n",
              "  }\n",
              "\n",
              "  .colab-df-quickchart {\n",
              "    background-color: var(--bg-color);\n",
              "    border: none;\n",
              "    border-radius: 50%;\n",
              "    cursor: pointer;\n",
              "    display: none;\n",
              "    fill: var(--fill-color);\n",
              "    height: 32px;\n",
              "    padding: 0;\n",
              "    width: 32px;\n",
              "  }\n",
              "\n",
              "  .colab-df-quickchart:hover {\n",
              "    background-color: var(--hover-bg-color);\n",
              "    box-shadow: 0 1px 2px rgba(60, 64, 67, 0.3), 0 1px 3px 1px rgba(60, 64, 67, 0.15);\n",
              "    fill: var(--button-hover-fill-color);\n",
              "  }\n",
              "\n",
              "  .colab-df-quickchart-complete:disabled,\n",
              "  .colab-df-quickchart-complete:disabled:hover {\n",
              "    background-color: var(--disabled-bg-color);\n",
              "    fill: var(--disabled-fill-color);\n",
              "    box-shadow: none;\n",
              "  }\n",
              "\n",
              "  .colab-df-spinner {\n",
              "    border: 2px solid var(--fill-color);\n",
              "    border-color: transparent;\n",
              "    border-bottom-color: var(--fill-color);\n",
              "    animation:\n",
              "      spin 1s steps(1) infinite;\n",
              "  }\n",
              "\n",
              "  @keyframes spin {\n",
              "    0% {\n",
              "      border-color: transparent;\n",
              "      border-bottom-color: var(--fill-color);\n",
              "      border-left-color: var(--fill-color);\n",
              "    }\n",
              "    20% {\n",
              "      border-color: transparent;\n",
              "      border-left-color: var(--fill-color);\n",
              "      border-top-color: var(--fill-color);\n",
              "    }\n",
              "    30% {\n",
              "      border-color: transparent;\n",
              "      border-left-color: var(--fill-color);\n",
              "      border-top-color: var(--fill-color);\n",
              "      border-right-color: var(--fill-color);\n",
              "    }\n",
              "    40% {\n",
              "      border-color: transparent;\n",
              "      border-right-color: var(--fill-color);\n",
              "      border-top-color: var(--fill-color);\n",
              "    }\n",
              "    60% {\n",
              "      border-color: transparent;\n",
              "      border-right-color: var(--fill-color);\n",
              "    }\n",
              "    80% {\n",
              "      border-color: transparent;\n",
              "      border-right-color: var(--fill-color);\n",
              "      border-bottom-color: var(--fill-color);\n",
              "    }\n",
              "    90% {\n",
              "      border-color: transparent;\n",
              "      border-bottom-color: var(--fill-color);\n",
              "    }\n",
              "  }\n",
              "</style>\n",
              "\n",
              "  <script>\n",
              "    async function quickchart(key) {\n",
              "      const quickchartButtonEl =\n",
              "        document.querySelector('#' + key + ' button');\n",
              "      quickchartButtonEl.disabled = true;  // To prevent multiple clicks.\n",
              "      quickchartButtonEl.classList.add('colab-df-spinner');\n",
              "      try {\n",
              "        const charts = await google.colab.kernel.invokeFunction(\n",
              "            'suggestCharts', [key], {});\n",
              "      } catch (error) {\n",
              "        console.error('Error during call to suggestCharts:', error);\n",
              "      }\n",
              "      quickchartButtonEl.classList.remove('colab-df-spinner');\n",
              "      quickchartButtonEl.classList.add('colab-df-quickchart-complete');\n",
              "    }\n",
              "    (() => {\n",
              "      let quickchartButtonEl =\n",
              "        document.querySelector('#df-8f374986-0032-4acb-af66-42361db2cb7f button');\n",
              "      quickchartButtonEl.style.display =\n",
              "        google.colab.kernel.accessAllowed ? 'block' : 'none';\n",
              "    })();\n",
              "  </script>\n",
              "</div>\n",
              "    </div>\n",
              "  </div>\n"
            ],
            "application/vnd.google.colaboratory.intrinsic+json": {
              "type": "dataframe",
              "variable_name": "insurance",
              "summary": "{\n  \"name\": \"insurance\",\n  \"rows\": 1338,\n  \"fields\": [\n    {\n      \"column\": \"age\",\n      \"properties\": {\n        \"dtype\": \"number\",\n        \"std\": 14,\n        \"min\": 18,\n        \"max\": 64,\n        \"num_unique_values\": 47,\n        \"samples\": [\n          21,\n          45,\n          36\n        ],\n        \"semantic_type\": \"\",\n        \"description\": \"\"\n      }\n    },\n    {\n      \"column\": \"sex\",\n      \"properties\": {\n        \"dtype\": \"category\",\n        \"num_unique_values\": 2,\n        \"samples\": [\n          \"male\",\n          \"female\"\n        ],\n        \"semantic_type\": \"\",\n        \"description\": \"\"\n      }\n    },\n    {\n      \"column\": \"bmi\",\n      \"properties\": {\n        \"dtype\": \"number\",\n        \"std\": 6.098186911679014,\n        \"min\": 15.96,\n        \"max\": 53.13,\n        \"num_unique_values\": 548,\n        \"samples\": [\n          23.18,\n          26.885\n        ],\n        \"semantic_type\": \"\",\n        \"description\": \"\"\n      }\n    },\n    {\n      \"column\": \"children\",\n      \"properties\": {\n        \"dtype\": \"number\",\n        \"std\": 1,\n        \"min\": 0,\n        \"max\": 5,\n        \"num_unique_values\": 6,\n        \"samples\": [\n          0,\n          1\n        ],\n        \"semantic_type\": \"\",\n        \"description\": \"\"\n      }\n    },\n    {\n      \"column\": \"smoker\",\n      \"properties\": {\n        \"dtype\": \"category\",\n        \"num_unique_values\": 2,\n        \"samples\": [\n          \"no\",\n          \"yes\"\n        ],\n        \"semantic_type\": \"\",\n        \"description\": \"\"\n      }\n    },\n    {\n      \"column\": \"region\",\n      \"properties\": {\n        \"dtype\": \"category\",\n        \"num_unique_values\": 4,\n        \"samples\": [\n          \"southeast\",\n          \"northeast\"\n        ],\n        \"semantic_type\": \"\",\n        \"description\": \"\"\n      }\n    },\n    {\n      \"column\": \"charges\",\n      \"properties\": {\n        \"dtype\": \"number\",\n        \"std\": 12110.011236694001,\n        \"min\": 1121.8739,\n        \"max\": 63770.42801,\n        \"num_unique_values\": 1337,\n        \"samples\": [\n          8688.85885,\n          5708.867\n        ],\n        \"semantic_type\": \"\",\n        \"description\": \"\"\n      }\n    }\n  ]\n}"
            }
          },
          "metadata": {},
          "execution_count": 92
        }
      ]
    },
    {
      "cell_type": "code",
      "source": [
        "from sklearn.compose import make_column_transformer\n",
        "from sklearn.preprocessing import MinMaxScaler, OneHotEncoder\n",
        "from sklearn.model_selection import train_test_split"
      ],
      "metadata": {
        "id": "NBDm23OCMkKI"
      },
      "execution_count": 93,
      "outputs": []
    },
    {
      "cell_type": "code",
      "source": [
        "# Create a column transformer\n",
        "ct = make_column_transformer(\n",
        "    (MinMaxScaler(), [\"age\", \"bmi\", \"children\"]), # turn all values in these columns to between 0 and 1\n",
        "    (OneHotEncoder(handle_unknown=\"ignore\"), [\"sex\", \"smoker\", \"region\"])\n",
        ")"
      ],
      "metadata": {
        "id": "Rrg8G2CJM0s1"
      },
      "execution_count": 94,
      "outputs": []
    },
    {
      "cell_type": "code",
      "source": [
        "# Create our X and Y values\n",
        "x = insurance.drop(\"charges\", axis=1)\n",
        "y = insurance[\"charges\"]"
      ],
      "metadata": {
        "id": "9QN509EkNrFg"
      },
      "execution_count": 95,
      "outputs": []
    },
    {
      "cell_type": "code",
      "source": [
        "# Build our train and test sets\n",
        "x_train, x_test, y_train, y_test = train_test_split(x, y, test_size=0.2, random_state=42)"
      ],
      "metadata": {
        "id": "CgLEhqHON0g2"
      },
      "execution_count": 96,
      "outputs": []
    },
    {
      "cell_type": "code",
      "source": [
        "# Fit the column transformer to out training data\n",
        "ct.fit(x_train)\n",
        "\n",
        "# Transform training and test data with normalization (MinMaxScaler) and OneHotEncode\n",
        "x_train_normal = ct.transform(x_train)\n",
        "x_test_normal = ct.transform(x_test)"
      ],
      "metadata": {
        "id": "45FGyPzKObWO"
      },
      "execution_count": 97,
      "outputs": []
    },
    {
      "cell_type": "code",
      "source": [
        "# What does our data look like now\n",
        "x_train.loc[0]"
      ],
      "metadata": {
        "colab": {
          "base_uri": "https://localhost:8080/"
        },
        "id": "4LaTEsHOQFx6",
        "outputId": "7fb14347-79f7-49f1-b9b3-48473b6331bc"
      },
      "execution_count": 98,
      "outputs": [
        {
          "output_type": "execute_result",
          "data": {
            "text/plain": [
              "age                19\n",
              "sex            female\n",
              "bmi              27.9\n",
              "children            0\n",
              "smoker            yes\n",
              "region      southwest\n",
              "Name: 0, dtype: object"
            ]
          },
          "metadata": {},
          "execution_count": 98
        }
      ]
    },
    {
      "cell_type": "code",
      "source": [
        "x_train_normal[0]"
      ],
      "metadata": {
        "colab": {
          "base_uri": "https://localhost:8080/"
        },
        "id": "qUXY9b1tQLM3",
        "outputId": "718fc56e-65aa-440c-a50b-e8ccf0d0ed55"
      },
      "execution_count": 99,
      "outputs": [
        {
          "output_type": "execute_result",
          "data": {
            "text/plain": [
              "array([0.60869565, 0.10734463, 0.4       , 1.        , 0.        ,\n",
              "       1.        , 0.        , 0.        , 1.        , 0.        ,\n",
              "       0.        ])"
            ]
          },
          "metadata": {},
          "execution_count": 99
        }
      ]
    },
    {
      "cell_type": "code",
      "source": [
        "x_train.shape, x_train_normal.shape"
      ],
      "metadata": {
        "colab": {
          "base_uri": "https://localhost:8080/"
        },
        "id": "NfLbA-9wQedh",
        "outputId": "68b2c27f-2726-4505-aa4e-a0930b6c358f"
      },
      "execution_count": 100,
      "outputs": [
        {
          "output_type": "execute_result",
          "data": {
            "text/plain": [
              "((1070, 6), (1070, 11))"
            ]
          },
          "metadata": {},
          "execution_count": 100
        }
      ]
    },
    {
      "cell_type": "markdown",
      "source": [
        "Our Data has been normalized and one hot encoded\n",
        "Now build the model!"
      ],
      "metadata": {
        "id": "xlbVZP7RQrqr"
      }
    },
    {
      "cell_type": "code",
      "source": [
        "# build the model\n",
        "tf.random.set_seed(42)\n",
        "\n",
        "# 1. Create the model\n",
        "insurance_model_2 = tf.keras.Sequential([\n",
        "    tf.keras.layers.Dense(100, activation=\"relu\"),\n",
        "    tf.keras.layers.Dense(100),\n",
        "    tf.keras.layers.Dense(10)\n",
        "])\n",
        "\n",
        "# 2. Compile the model\n",
        "insurance_model_2.compile(loss=mae,\n",
        "                        optimizer = tf.keras.optimizers.Adam(lr = 0.01),\n",
        "                        metrics=[\"mae\"])\n",
        "\n",
        "# 3. Fit the model\n",
        "history_insurance_2 = insurance_model.fit(x_train_normal, y_train, epochs=500, verbose=0)\n",
        "\n"
      ],
      "metadata": {
        "id": "1eHeWThtQxaT",
        "colab": {
          "base_uri": "https://localhost:8080/"
        },
        "outputId": "1403b7a4-6fdc-476c-c09d-ccb604457db0"
      },
      "execution_count": 101,
      "outputs": [
        {
          "output_type": "stream",
          "name": "stderr",
          "text": [
            "WARNING:absl:`lr` is deprecated in Keras optimizer, please use `learning_rate` or use the legacy optimizer, e.g.,tf.keras.optimizers.legacy.Adam.\n"
          ]
        }
      ]
    },
    {
      "cell_type": "code",
      "source": [
        "# Check the result on test data\n",
        "insurance_model_2.evaluate(x_test_normal, y_test)"
      ],
      "metadata": {
        "colab": {
          "base_uri": "https://localhost:8080/"
        },
        "id": "X-CVLl6mklAo",
        "outputId": "d8e9b62a-998e-4641-e9b0-9805ffa076a7"
      },
      "execution_count": 102,
      "outputs": [
        {
          "output_type": "stream",
          "name": "stdout",
          "text": [
            "9/9 [==============================] - 0s 3ms/step - loss: 12968.3105 - mae: 12968.3105\n"
          ]
        },
        {
          "output_type": "execute_result",
          "data": {
            "text/plain": [
              "[12968.310546875, 12968.310546875]"
            ]
          },
          "metadata": {},
          "execution_count": 102
        }
      ]
    },
    {
      "cell_type": "code",
      "source": [
        "# Plot history (loss curve a or training curve)\n",
        "pd.DataFrame(history_insurance_2.history).plot()\n",
        "plt.title(\"model accuracy normal\")\n",
        "plt.ylabel(\"loss\")\n",
        "plt.xlabel(\"epochs\")"
      ],
      "metadata": {
        "colab": {
          "base_uri": "https://localhost:8080/",
          "height": 489
        },
        "id": "3FseLJ1pk_O-",
        "outputId": "b6499c43-7038-4fdf-9bb5-b08c1328512b"
      },
      "execution_count": 103,
      "outputs": [
        {
          "output_type": "execute_result",
          "data": {
            "text/plain": [
              "Text(0.5, 0, 'epochs')"
            ]
          },
          "metadata": {},
          "execution_count": 103
        },
        {
          "output_type": "display_data",
          "data": {
            "text/plain": [
              "<Figure size 640x480 with 1 Axes>"
            ],
            "image/png": "[encoded data removed]"
          },
          "metadata": {}
        }
      ]
    },
    {
      "cell_type": "markdown",
      "source": [
        "## 🛠 01. Neural network regression with TensorFlow Exercises\n",
        "\n",
        "1. Create your own regression dataset (or make the one we created in \"Create data to view and fit\" bigger) and build fit a model to it.\n",
        "2. Try building a neural network with 4 Dense layers and fitting it to your own regression dataset, how does it perform?\n",
        "3. Try and improve the results we got on the insurance dataset, some things you might want to try include:\n",
        "  * Building a larger model (how does one with 4 dense layers go?).\n",
        "  * Increasing the number of units in each layer.\n",
        "  * Lookup the documentation of Adam and find out what the first parameter is, what happens if you increase it by 10x?\n",
        "  * What happens if you train for longer (say 300 epochs instead of 200)?\n",
        "4. Import the Boston pricing dataset from TensorFlow tf.keras.datasets and model it."
      ],
      "metadata": {
        "id": "ydfRzL43_x6x"
      }
    },
    {
      "cell_type": "markdown",
      "source": [
        "### Make the model"
      ],
      "metadata": {
        "id": "jKBgv4RRCgsW"
      }
    },
    {
      "cell_type": "code",
      "source": [
        "# Import dataset\n",
        "salary = pd.read_csv(\"https://raw.githubusercontent.com/GabrielBatavia/Dataset_Ml/master/Salary%20Data.csv\")"
      ],
      "metadata": {
        "id": "hr02_qayAdka"
      },
      "execution_count": 104,
      "outputs": []
    },
    {
      "cell_type": "code",
      "source": [
        "salary.head()"
      ],
      "metadata": {
        "colab": {
          "base_uri": "https://localhost:8080/",
          "height": 206
        },
        "id": "aUrKADbjE96B",
        "outputId": "06928026-5f94-42a4-da66-5209267acd06"
      },
      "execution_count": 105,
      "outputs": [
        {
          "output_type": "execute_result",
          "data": {
            "text/plain": [
              "    Age  Gender Education Level          Job Title  Years of Experience  \\\n",
              "0  32.0    Male      Bachelor's  Software Engineer                  5.0   \n",
              "1  28.0  Female        Master's       Data Analyst                  3.0   \n",
              "2  45.0    Male             PhD     Senior Manager                 15.0   \n",
              "3  36.0  Female      Bachelor's    Sales Associate                  7.0   \n",
              "4  52.0    Male        Master's           Director                 20.0   \n",
              "\n",
              "     Salary  \n",
              "0   90000.0  \n",
              "1   65000.0  \n",
              "2  150000.0  \n",
              "3   60000.0  \n",
              "4  200000.0  "
            ],
            "text/html": [
              "\n",
              "  <div id=\"df-35dc7e94-9676-4836-95b4-04efe2bb1f9b\" class=\"colab-df-container\">\n",
              "    <div>\n",
              "<style scoped>\n",
              "    .dataframe tbody tr th:only-of-type {\n",
              "        vertical-align: middle;\n",
              "    }\n",
              "\n",
              "    .dataframe tbody tr th {\n",
              "        vertical-align: top;\n",
              "    }\n",
              "\n",
              "    .dataframe thead th {\n",
              "        text-align: right;\n",
              "    }\n",
              "</style>\n",
              "<table border=\"1\" class=\"dataframe\">\n",
              "  <thead>\n",
              "    <tr style=\"text-align: right;\">\n",
              "      <th></th>\n",
              "      <th>Age</th>\n",
              "      <th>Gender</th>\n",
              "      <th>Education Level</th>\n",
              "      <th>Job Title</th>\n",
              "      <th>Years of Experience</th>\n",
              "      <th>Salary</th>\n",
              "    </tr>\n",
              "  </thead>\n",
              "  <tbody>\n",
              "    <tr>\n",
              "      <th>0</th>\n",
              "      <td>32.0</td>\n",
              "      <td>Male</td>\n",
              "      <td>Bachelor's</td>\n",
              "      <td>Software Engineer</td>\n",
              "      <td>5.0</td>\n",
              "      <td>90000.0</td>\n",
              "    </tr>\n",
              "    <tr>\n",
              "      <th>1</th>\n",
              "      <td>28.0</td>\n",
              "      <td>Female</td>\n",
              "      <td>Master's</td>\n",
              "      <td>Data Analyst</td>\n",
              "      <td>3.0</td>\n",
              "      <td>65000.0</td>\n",
              "    </tr>\n",
              "    <tr>\n",
              "      <th>2</th>\n",
              "      <td>45.0</td>\n",
              "      <td>Male</td>\n",
              "      <td>PhD</td>\n",
              "      <td>Senior Manager</td>\n",
              "      <td>15.0</td>\n",
              "      <td>150000.0</td>\n",
              "    </tr>\n",
              "    <tr>\n",
              "      <th>3</th>\n",
              "      <td>36.0</td>\n",
              "      <td>Female</td>\n",
              "      <td>Bachelor's</td>\n",
              "      <td>Sales Associate</td>\n",
              "      <td>7.0</td>\n",
              "      <td>60000.0</td>\n",
              "    </tr>\n",
              "    <tr>\n",
              "      <th>4</th>\n",
              "      <td>52.0</td>\n",
              "      <td>Male</td>\n",
              "      <td>Master's</td>\n",
              "      <td>Director</td>\n",
              "      <td>20.0</td>\n",
              "      <td>200000.0</td>\n",
              "    </tr>\n",
              "  </tbody>\n",
              "</table>\n",
              "</div>\n",
              "    <div class=\"colab-df-buttons\">\n",
              "\n",
              "  <div class=\"colab-df-container\">\n",
              "    <button class=\"colab-df-convert\" onclick=\"convertToInteractive('df-35dc7e94-9676-4836-95b4-04efe2bb1f9b')\"\n",
              "            title=\"Convert this dataframe to an interactive table.\"\n",
              "            style=\"display:none;\">\n",
              "\n",
              "  <svg xmlns=\"http://www.w3.org/2000/svg\" height=\"24px\" viewBox=\"0 -960 960 960\">\n",
              "    <path d=\"M120-120v-720h720v720H120Zm60-500h600v-160H180v160Zm220 220h160v-160H400v160Zm0 220h160v-160H400v160ZM180-400h160v-160H180v160Zm440 0h160v-160H620v160ZM180-180h160v-160H180v160Zm440 0h160v-160H620v160Z\"/>\n",
              "  </svg>\n",
              "    </button>\n",
              "\n",
              "  <style>\n",
              "    .colab-df-container {\n",
              "      display:flex;\n",
              "      gap: 12px;\n",
              "    }\n",
              "\n",
              "    .colab-df-convert {\n",
              "      background-color: #E8F0FE;\n",
              "      border: none;\n",
              "      border-radius: 50%;\n",
              "      cursor: pointer;\n",
              "      display: none;\n",
              "      fill: #1967D2;\n",
              "      height: 32px;\n",
              "      padding: 0 0 0 0;\n",
              "      width: 32px;\n",
              "    }\n",
              "\n",
              "    .colab-df-convert:hover {\n",
              "      background-color: #E2EBFA;\n",
              "      box-shadow: 0px 1px 2px rgba(60, 64, 67, 0.3), 0px 1px 3px 1px rgba(60, 64, 67, 0.15);\n",
              "      fill: #174EA6;\n",
              "    }\n",
              "\n",
              "    .colab-df-buttons div {\n",
              "      margin-bottom: 4px;\n",
              "    }\n",
              "\n",
              "    [theme=dark] .colab-df-convert {\n",
              "      background-color: #3B4455;\n",
              "      fill: #D2E3FC;\n",
              "    }\n",
              "\n",
              "    [theme=dark] .colab-df-convert:hover {\n",
              "      background-color: #434B5C;\n",
              "      box-shadow: 0px 1px 3px 1px rgba(0, 0, 0, 0.15);\n",
              "      filter: drop-shadow(0px 1px 2px rgba(0, 0, 0, 0.3));\n",
              "      fill: #FFFFFF;\n",
              "    }\n",
              "  </style>\n",
              "\n",
              "    <script>\n",
              "      const buttonEl =\n",
              "        document.querySelector('#df-35dc7e94-9676-4836-95b4-04efe2bb1f9b button.colab-df-convert');\n",
              "      buttonEl.style.display =\n",
              "        google.colab.kernel.accessAllowed ? 'block' : 'none';\n",
              "\n",
              "      async function convertToInteractive(key) {\n",
              "        const element = document.querySelector('#df-35dc7e94-9676-4836-95b4-04efe2bb1f9b');\n",
              "        const dataTable =\n",
              "          await google.colab.kernel.invokeFunction('convertToInteractive',\n",
              "                                                    [key], {});\n",
              "        if (!dataTable) return;\n",
              "\n",
              "        const docLinkHtml = 'Like what you see? Visit the ' +\n",
              "          '<a target=\"_blank\" href=https://colab.research.google.com/notebooks/data_table.ipynb>data table notebook</a>'\n",
              "          + ' to learn more about interactive tables.';\n",
              "        element.innerHTML = '';\n",
              "        dataTable['output_type'] = 'display_data';\n",
              "        await google.colab.output.renderOutput(dataTable, element);\n",
              "        const docLink = document.createElement('div');\n",
              "        docLink.innerHTML = docLinkHtml;\n",
              "        element.appendChild(docLink);\n",
              "      }\n",
              "    </script>\n",
              "  </div>\n",
              "\n",
              "\n",
              "<div id=\"df-5de9d6f3-0177-4078-8e08-9216afe00564\">\n",
              "  <button class=\"colab-df-quickchart\" onclick=\"quickchart('df-5de9d6f3-0177-4078-8e08-9216afe00564')\"\n",
              "            title=\"Suggest charts\"\n",
              "            style=\"display:none;\">\n",
              "\n",
              "<svg xmlns=\"http://www.w3.org/2000/svg\" height=\"24px\"viewBox=\"0 0 24 24\"\n",
              "     width=\"24px\">\n",
              "    <g>\n",
              "        <path d=\"M19 3H5c-1.1 0-2 .9-2 2v14c0 1.1.9 2 2 2h14c1.1 0 2-.9 2-2V5c0-1.1-.9-2-2-2zM9 17H7v-7h2v7zm4 0h-2V7h2v10zm4 0h-2v-4h2v4z\"/>\n",
              "    </g>\n",
              "</svg>\n",
              "  </button>\n",
              "\n",
              "<style>\n",
              "  .colab-df-quickchart {\n",
              "      --bg-color: #E8F0FE;\n",
              "      --fill-color: #1967D2;\n",
              "      --hover-bg-color: #E2EBFA;\n",
              "      --hover-fill-color: #174EA6;\n",
              "      --disabled-fill-color: #AAA;\n",
              "      --disabled-bg-color: #DDD;\n",
              "  }\n",
              "\n",
              "  [theme=dark] .colab-df-quickchart {\n",
              "      --bg-color: #3B4455;\n",
              "      --fill-color: #D2E3FC;\n",
              "      --hover-bg-color: #434B5C;\n",
              "      --hover-fill-color: #FFFFFF;\n",
              "      --disabled-bg-color: #3B4455;\n",
              "      --disabled-fill-color: #666;\n",
              "  }\n",
              "\n",
              "  .colab-df-quickchart {\n",
              "    background-color: var(--bg-color);\n",
              "    border: none;\n",
              "    border-radius: 50%;\n",
              "    cursor: pointer;\n",
              "    display: none;\n",
              "    fill: var(--fill-color);\n",
              "    height: 32px;\n",
              "    padding: 0;\n",
              "    width: 32px;\n",
              "  }\n",
              "\n",
              "  .colab-df-quickchart:hover {\n",
              "    background-color: var(--hover-bg-color);\n",
              "    box-shadow: 0 1px 2px rgba(60, 64, 67, 0.3), 0 1px 3px 1px rgba(60, 64, 67, 0.15);\n",
              "    fill: var(--button-hover-fill-color);\n",
              "  }\n",
              "\n",
              "  .colab-df-quickchart-complete:disabled,\n",
              "  .colab-df-quickchart-complete:disabled:hover {\n",
              "    background-color: var(--disabled-bg-color);\n",
              "    fill: var(--disabled-fill-color);\n",
              "    box-shadow: none;\n",
              "  }\n",
              "\n",
              "  .colab-df-spinner {\n",
              "    border: 2px solid var(--fill-color);\n",
              "    border-color: transparent;\n",
              "    border-bottom-color: var(--fill-color);\n",
              "    animation:\n",
              "      spin 1s steps(1) infinite;\n",
              "  }\n",
              "\n",
              "  @keyframes spin {\n",
              "    0% {\n",
              "      border-color: transparent;\n",
              "      border-bottom-color: var(--fill-color);\n",
              "      border-left-color: var(--fill-color);\n",
              "    }\n",
              "    20% {\n",
              "      border-color: transparent;\n",
              "      border-left-color: var(--fill-color);\n",
              "      border-top-color: var(--fill-color);\n",
              "    }\n",
              "    30% {\n",
              "      border-color: transparent;\n",
              "      border-left-color: var(--fill-color);\n",
              "      border-top-color: var(--fill-color);\n",
              "      border-right-color: var(--fill-color);\n",
              "    }\n",
              "    40% {\n",
              "      border-color: transparent;\n",
              "      border-right-color: var(--fill-color);\n",
              "      border-top-color: var(--fill-color);\n",
              "    }\n",
              "    60% {\n",
              "      border-color: transparent;\n",
              "      border-right-color: var(--fill-color);\n",
              "    }\n",
              "    80% {\n",
              "      border-color: transparent;\n",
              "      border-right-color: var(--fill-color);\n",
              "      border-bottom-color: var(--fill-color);\n",
              "    }\n",
              "    90% {\n",
              "      border-color: transparent;\n",
              "      border-bottom-color: var(--fill-color);\n",
              "    }\n",
              "  }\n",
              "</style>\n",
              "\n",
              "  <script>\n",
              "    async function quickchart(key) {\n",
              "      const quickchartButtonEl =\n",
              "        document.querySelector('#' + key + ' button');\n",
              "      quickchartButtonEl.disabled = true;  // To prevent multiple clicks.\n",
              "      quickchartButtonEl.classList.add('colab-df-spinner');\n",
              "      try {\n",
              "        const charts = await google.colab.kernel.invokeFunction(\n",
              "            'suggestCharts', [key], {});\n",
              "      } catch (error) {\n",
              "        console.error('Error during call to suggestCharts:', error);\n",
              "      }\n",
              "      quickchartButtonEl.classList.remove('colab-df-spinner');\n",
              "      quickchartButtonEl.classList.add('colab-df-quickchart-complete');\n",
              "    }\n",
              "    (() => {\n",
              "      let quickchartButtonEl =\n",
              "        document.querySelector('#df-5de9d6f3-0177-4078-8e08-9216afe00564 button');\n",
              "      quickchartButtonEl.style.display =\n",
              "        google.colab.kernel.accessAllowed ? 'block' : 'none';\n",
              "    })();\n",
              "  </script>\n",
              "</div>\n",
              "    </div>\n",
              "  </div>\n"
            ],
            "application/vnd.google.colaboratory.intrinsic+json": {
              "type": "dataframe",
              "variable_name": "salary",
              "summary": "{\n  \"name\": \"salary\",\n  \"rows\": 375,\n  \"fields\": [\n    {\n      \"column\": \"Age\",\n      \"properties\": {\n        \"dtype\": \"number\",\n        \"std\": 7.069072938567494,\n        \"min\": 23.0,\n        \"max\": 53.0,\n        \"num_unique_values\": 31,\n        \"samples\": [\n          46.0,\n          33.0,\n          37.0\n        ],\n        \"semantic_type\": \"\",\n        \"description\": \"\"\n      }\n    },\n    {\n      \"column\": \"Gender\",\n      \"properties\": {\n        \"dtype\": \"category\",\n        \"num_unique_values\": 2,\n        \"samples\": [\n          \"Female\",\n          \"Male\"\n        ],\n        \"semantic_type\": \"\",\n        \"description\": \"\"\n      }\n    },\n    {\n      \"column\": \"Education Level\",\n      \"properties\": {\n        \"dtype\": \"category\",\n        \"num_unique_values\": 3,\n        \"samples\": [\n          \"Bachelor's\",\n          \"Master's\"\n        ],\n        \"semantic_type\": \"\",\n        \"description\": \"\"\n      }\n    },\n    {\n      \"column\": \"Job Title\",\n      \"properties\": {\n        \"dtype\": \"category\",\n        \"num_unique_values\": 174,\n        \"samples\": [\n          \"Junior Advertising Coordinator\",\n          \"Junior Product Manager\"\n        ],\n        \"semantic_type\": \"\",\n        \"description\": \"\"\n      }\n    },\n    {\n      \"column\": \"Years of Experience\",\n      \"properties\": {\n        \"dtype\": \"number\",\n        \"std\": 6.557007136414237,\n        \"min\": 0.0,\n        \"max\": 25.0,\n        \"num_unique_values\": 28,\n        \"samples\": [\n          10.0,\n          24.0\n        ],\n        \"semantic_type\": \"\",\n        \"description\": \"\"\n      }\n    },\n    {\n      \"column\": \"Salary\",\n      \"properties\": {\n        \"dtype\": \"number\",\n        \"std\": 48240.013481882655,\n        \"min\": 350.0,\n        \"max\": 250000.0,\n        \"num_unique_values\": 36,\n        \"samples\": [\n          350.0,\n          40000.0\n        ],\n        \"semantic_type\": \"\",\n        \"description\": \"\"\n      }\n    }\n  ]\n}"
            }
          },
          "metadata": {},
          "execution_count": 105
        }
      ]
    },
    {
      "cell_type": "code",
      "source": [
        "# Import\n",
        "from sklearn.compose import make_column_transformer\n",
        "from sklearn.preprocessing import MinMaxScaler, OneHotEncoder\n",
        "from sklearn.model_selection import train_test_split\n",
        "from sklearn.preprocessing import StandardScaler"
      ],
      "metadata": {
        "id": "KJMGr7S6FBvK"
      },
      "execution_count": 106,
      "outputs": []
    },
    {
      "cell_type": "code",
      "source": [
        "# OneHot our dataset using pandas\n",
        "salary_one_hot = pd.get_dummies(salary)\n",
        "salary_one_hot.head()\n"
      ],
      "metadata": {
        "colab": {
          "base_uri": "https://localhost:8080/",
          "height": 308
        },
        "id": "shy4t5ATFfFW",
        "outputId": "352c7109-6c9c-4f26-8919-95175e40dccd"
      },
      "execution_count": 107,
      "outputs": [
        {
          "output_type": "execute_result",
          "data": {
            "text/plain": [
              "    Age  Years of Experience    Salary  Gender_Female  Gender_Male  \\\n",
              "0  32.0                  5.0   90000.0              0            1   \n",
              "1  28.0                  3.0   65000.0              1            0   \n",
              "2  45.0                 15.0  150000.0              0            1   \n",
              "3  36.0                  7.0   60000.0              1            0   \n",
              "4  52.0                 20.0  200000.0              0            1   \n",
              "\n",
              "   Education Level_Bachelor's  Education Level_Master's  Education Level_PhD  \\\n",
              "0                           1                         0                    0   \n",
              "1                           0                         1                    0   \n",
              "2                           0                         0                    1   \n",
              "3                           1                         0                    0   \n",
              "4                           0                         1                    0   \n",
              "\n",
              "   Job Title_Account Manager  Job Title_Accountant  ...  \\\n",
              "0                          0                     0  ...   \n",
              "1                          0                     0  ...   \n",
              "2                          0                     0  ...   \n",
              "3                          0                     0  ...   \n",
              "4                          0                     0  ...   \n",
              "\n",
              "   Job Title_Supply Chain Manager  Job Title_Technical Recruiter  \\\n",
              "0                               0                              0   \n",
              "1                               0                              0   \n",
              "2                               0                              0   \n",
              "3                               0                              0   \n",
              "4                               0                              0   \n",
              "\n",
              "   Job Title_Technical Support Specialist  Job Title_Technical Writer  \\\n",
              "0                                       0                           0   \n",
              "1                                       0                           0   \n",
              "2                                       0                           0   \n",
              "3                                       0                           0   \n",
              "4                                       0                           0   \n",
              "\n",
              "   Job Title_Training Specialist  Job Title_UX Designer  \\\n",
              "0                              0                      0   \n",
              "1                              0                      0   \n",
              "2                              0                      0   \n",
              "3                              0                      0   \n",
              "4                              0                      0   \n",
              "\n",
              "   Job Title_UX Researcher  Job Title_VP of Finance  \\\n",
              "0                        0                        0   \n",
              "1                        0                        0   \n",
              "2                        0                        0   \n",
              "3                        0                        0   \n",
              "4                        0                        0   \n",
              "\n",
              "   Job Title_VP of Operations  Job Title_Web Developer  \n",
              "0                           0                        0  \n",
              "1                           0                        0  \n",
              "2                           0                        0  \n",
              "3                           0                        0  \n",
              "4                           0                        0  \n",
              "\n",
              "[5 rows x 182 columns]"
            ],
            "text/html": [
              "\n",
              "  <div id=\"df-42d75f95-3ac1-440d-b2bb-2f8846b44d77\" class=\"colab-df-container\">\n",
              "    <div>\n",
              "<style scoped>\n",
              "    .dataframe tbody tr th:only-of-type {\n",
              "        vertical-align: middle;\n",
              "    }\n",
              "\n",
              "    .dataframe tbody tr th {\n",
              "        vertical-align: top;\n",
              "    }\n",
              "\n",
              "    .dataframe thead th {\n",
              "        text-align: right;\n",
              "    }\n",
              "</style>\n",
              "<table border=\"1\" class=\"dataframe\">\n",
              "  <thead>\n",
              "    <tr style=\"text-align: right;\">\n",
              "      <th></th>\n",
              "      <th>Age</th>\n",
              "      <th>Years of Experience</th>\n",
              "      <th>Salary</th>\n",
              "      <th>Gender_Female</th>\n",
              "      <th>Gender_Male</th>\n",
              "      <th>Education Level_Bachelor's</th>\n",
              "      <th>Education Level_Master's</th>\n",
              "      <th>Education Level_PhD</th>\n",
              "      <th>Job Title_Account Manager</th>\n",
              "      <th>Job Title_Accountant</th>\n",
              "      <th>...</th>\n",
              "      <th>Job Title_Supply Chain Manager</th>\n",
              "      <th>Job Title_Technical Recruiter</th>\n",
              "      <th>Job Title_Technical Support Specialist</th>\n",
              "      <th>Job Title_Technical Writer</th>\n",
              "      <th>Job Title_Training Specialist</th>\n",
              "      <th>Job Title_UX Designer</th>\n",
              "      <th>Job Title_UX Researcher</th>\n",
              "      <th>Job Title_VP of Finance</th>\n",
              "      <th>Job Title_VP of Operations</th>\n",
              "      <th>Job Title_Web Developer</th>\n",
              "    </tr>\n",
              "  </thead>\n",
              "  <tbody>\n",
              "    <tr>\n",
              "      <th>0</th>\n",
              "      <td>32.0</td>\n",
              "      <td>5.0</td>\n",
              "      <td>90000.0</td>\n",
              "      <td>0</td>\n",
              "      <td>1</td>\n",
              "      <td>1</td>\n",
              "      <td>0</td>\n",
              "      <td>0</td>\n",
              "      <td>0</td>\n",
              "      <td>0</td>\n",
              "      <td>...</td>\n",
              "      <td>0</td>\n",
              "      <td>0</td>\n",
              "      <td>0</td>\n",
              "      <td>0</td>\n",
              "      <td>0</td>\n",
              "      <td>0</td>\n",
              "      <td>0</td>\n",
              "      <td>0</td>\n",
              "      <td>0</td>\n",
              "      <td>0</td>\n",
              "    </tr>\n",
              "    <tr>\n",
              "      <th>1</th>\n",
              "      <td>28.0</td>\n",
              "      <td>3.0</td>\n",
              "      <td>65000.0</td>\n",
              "      <td>1</td>\n",
              "      <td>0</td>\n",
              "      <td>0</td>\n",
              "      <td>1</td>\n",
              "      <td>0</td>\n",
              "      <td>0</td>\n",
              "      <td>0</td>\n",
              "      <td>...</td>\n",
              "      <td>0</td>\n",
              "      <td>0</td>\n",
              "      <td>0</td>\n",
              "      <td>0</td>\n",
              "      <td>0</td>\n",
              "      <td>0</td>\n",
              "      <td>0</td>\n",
              "      <td>0</td>\n",
              "      <td>0</td>\n",
              "      <td>0</td>\n",
              "    </tr>\n",
              "    <tr>\n",
              "      <th>2</th>\n",
              "      <td>45.0</td>\n",
              "      <td>15.0</td>\n",
              "      <td>150000.0</td>\n",
              "      <td>0</td>\n",
              "      <td>1</td>\n",
              "      <td>0</td>\n",
              "      <td>0</td>\n",
              "      <td>1</td>\n",
              "      <td>0</td>\n",
              "      <td>0</td>\n",
              "      <td>...</td>\n",
              "      <td>0</td>\n",
              "      <td>0</td>\n",
              "      <td>0</td>\n",
              "      <td>0</td>\n",
              "      <td>0</td>\n",
              "      <td>0</td>\n",
              "      <td>0</td>\n",
              "      <td>0</td>\n",
              "      <td>0</td>\n",
              "      <td>0</td>\n",
              "    </tr>\n",
              "    <tr>\n",
              "      <th>3</th>\n",
              "      <td>36.0</td>\n",
              "      <td>7.0</td>\n",
              "      <td>60000.0</td>\n",
              "      <td>1</td>\n",
              "      <td>0</td>\n",
              "      <td>1</td>\n",
              "      <td>0</td>\n",
              "      <td>0</td>\n",
              "      <td>0</td>\n",
              "      <td>0</td>\n",
              "      <td>...</td>\n",
              "      <td>0</td>\n",
              "      <td>0</td>\n",
              "      <td>0</td>\n",
              "      <td>0</td>\n",
              "      <td>0</td>\n",
              "      <td>0</td>\n",
              "      <td>0</td>\n",
              "      <td>0</td>\n",
              "      <td>0</td>\n",
              "      <td>0</td>\n",
              "    </tr>\n",
              "    <tr>\n",
              "      <th>4</th>\n",
              "      <td>52.0</td>\n",
              "      <td>20.0</td>\n",
              "      <td>200000.0</td>\n",
              "      <td>0</td>\n",
              "      <td>1</td>\n",
              "      <td>0</td>\n",
              "      <td>1</td>\n",
              "      <td>0</td>\n",
              "      <td>0</td>\n",
              "      <td>0</td>\n",
              "      <td>...</td>\n",
              "      <td>0</td>\n",
              "      <td>0</td>\n",
              "      <td>0</td>\n",
              "      <td>0</td>\n",
              "      <td>0</td>\n",
              "      <td>0</td>\n",
              "      <td>0</td>\n",
              "      <td>0</td>\n",
              "      <td>0</td>\n",
              "      <td>0</td>\n",
              "    </tr>\n",
              "  </tbody>\n",
              "</table>\n",
              "<p>5 rows × 182 columns</p>\n",
              "</div>\n",
              "    <div class=\"colab-df-buttons\">\n",
              "\n",
              "  <div class=\"colab-df-container\">\n",
              "    <button class=\"colab-df-convert\" onclick=\"convertToInteractive('df-42d75f95-3ac1-440d-b2bb-2f8846b44d77')\"\n",
              "            title=\"Convert this dataframe to an interactive table.\"\n",
              "            style=\"display:none;\">\n",
              "\n",
              "  <svg xmlns=\"http://www.w3.org/2000/svg\" height=\"24px\" viewBox=\"0 -960 960 960\">\n",
              "    <path d=\"M120-120v-720h720v720H120Zm60-500h600v-160H180v160Zm220 220h160v-160H400v160Zm0 220h160v-160H400v160ZM180-400h160v-160H180v160Zm440 0h160v-160H620v160ZM180-180h160v-160H180v160Zm440 0h160v-160H620v160Z\"/>\n",
              "  </svg>\n",
              "    </button>\n",
              "\n",
              "  <style>\n",
              "    .colab-df-container {\n",
              "      display:flex;\n",
              "      gap: 12px;\n",
              "    }\n",
              "\n",
              "    .colab-df-convert {\n",
              "      background-color: #E8F0FE;\n",
              "      border: none;\n",
              "      border-radius: 50%;\n",
              "      cursor: pointer;\n",
              "      display: none;\n",
              "      fill: #1967D2;\n",
              "      height: 32px;\n",
              "      padding: 0 0 0 0;\n",
              "      width: 32px;\n",
              "    }\n",
              "\n",
              "    .colab-df-convert:hover {\n",
              "      background-color: #E2EBFA;\n",
              "      box-shadow: 0px 1px 2px rgba(60, 64, 67, 0.3), 0px 1px 3px 1px rgba(60, 64, 67, 0.15);\n",
              "      fill: #174EA6;\n",
              "    }\n",
              "\n",
              "    .colab-df-buttons div {\n",
              "      margin-bottom: 4px;\n",
              "    }\n",
              "\n",
              "    [theme=dark] .colab-df-convert {\n",
              "      background-color: #3B4455;\n",
              "      fill: #D2E3FC;\n",
              "    }\n",
              "\n",
              "    [theme=dark] .colab-df-convert:hover {\n",
              "      background-color: #434B5C;\n",
              "      box-shadow: 0px 1px 3px 1px rgba(0, 0, 0, 0.15);\n",
              "      filter: drop-shadow(0px 1px 2px rgba(0, 0, 0, 0.3));\n",
              "      fill: #FFFFFF;\n",
              "    }\n",
              "  </style>\n",
              "\n",
              "    <script>\n",
              "      const buttonEl =\n",
              "        document.querySelector('#df-42d75f95-3ac1-440d-b2bb-2f8846b44d77 button.colab-df-convert');\n",
              "      buttonEl.style.display =\n",
              "        google.colab.kernel.accessAllowed ? 'block' : 'none';\n",
              "\n",
              "      async function convertToInteractive(key) {\n",
              "        const element = document.querySelector('#df-42d75f95-3ac1-440d-b2bb-2f8846b44d77');\n",
              "        const dataTable =\n",
              "          await google.colab.kernel.invokeFunction('convertToInteractive',\n",
              "                                                    [key], {});\n",
              "        if (!dataTable) return;\n",
              "\n",
              "        const docLinkHtml = 'Like what you see? Visit the ' +\n",
              "          '<a target=\"_blank\" href=https://colab.research.google.com/notebooks/data_table.ipynb>data table notebook</a>'\n",
              "          + ' to learn more about interactive tables.';\n",
              "        element.innerHTML = '';\n",
              "        dataTable['output_type'] = 'display_data';\n",
              "        await google.colab.output.renderOutput(dataTable, element);\n",
              "        const docLink = document.createElement('div');\n",
              "        docLink.innerHTML = docLinkHtml;\n",
              "        element.appendChild(docLink);\n",
              "      }\n",
              "    </script>\n",
              "  </div>\n",
              "\n",
              "\n",
              "<div id=\"df-71e7926d-2919-4611-b959-74322f1eca63\">\n",
              "  <button class=\"colab-df-quickchart\" onclick=\"quickchart('df-71e7926d-2919-4611-b959-74322f1eca63')\"\n",
              "            title=\"Suggest charts\"\n",
              "            style=\"display:none;\">\n",
              "\n",
              "<svg xmlns=\"http://www.w3.org/2000/svg\" height=\"24px\"viewBox=\"0 0 24 24\"\n",
              "     width=\"24px\">\n",
              "    <g>\n",
              "        <path d=\"M19 3H5c-1.1 0-2 .9-2 2v14c0 1.1.9 2 2 2h14c1.1 0 2-.9 2-2V5c0-1.1-.9-2-2-2zM9 17H7v-7h2v7zm4 0h-2V7h2v10zm4 0h-2v-4h2v4z\"/>\n",
              "    </g>\n",
              "</svg>\n",
              "  </button>\n",
              "\n",
              "<style>\n",
              "  .colab-df-quickchart {\n",
              "      --bg-color: #E8F0FE;\n",
              "      --fill-color: #1967D2;\n",
              "      --hover-bg-color: #E2EBFA;\n",
              "      --hover-fill-color: #174EA6;\n",
              "      --disabled-fill-color: #AAA;\n",
              "      --disabled-bg-color: #DDD;\n",
              "  }\n",
              "\n",
              "  [theme=dark] .colab-df-quickchart {\n",
              "      --bg-color: #3B4455;\n",
              "      --fill-color: #D2E3FC;\n",
              "      --hover-bg-color: #434B5C;\n",
              "      --hover-fill-color: #FFFFFF;\n",
              "      --disabled-bg-color: #3B4455;\n",
              "      --disabled-fill-color: #666;\n",
              "  }\n",
              "\n",
              "  .colab-df-quickchart {\n",
              "    background-color: var(--bg-color);\n",
              "    border: none;\n",
              "    border-radius: 50%;\n",
              "    cursor: pointer;\n",
              "    display: none;\n",
              "    fill: var(--fill-color);\n",
              "    height: 32px;\n",
              "    padding: 0;\n",
              "    width: 32px;\n",
              "  }\n",
              "\n",
              "  .colab-df-quickchart:hover {\n",
              "    background-color: var(--hover-bg-color);\n",
              "    box-shadow: 0 1px 2px rgba(60, 64, 67, 0.3), 0 1px 3px 1px rgba(60, 64, 67, 0.15);\n",
              "    fill: var(--button-hover-fill-color);\n",
              "  }\n",
              "\n",
              "  .colab-df-quickchart-complete:disabled,\n",
              "  .colab-df-quickchart-complete:disabled:hover {\n",
              "    background-color: var(--disabled-bg-color);\n",
              "    fill: var(--disabled-fill-color);\n",
              "    box-shadow: none;\n",
              "  }\n",
              "\n",
              "  .colab-df-spinner {\n",
              "    border: 2px solid var(--fill-color);\n",
              "    border-color: transparent;\n",
              "    border-bottom-color: var(--fill-color);\n",
              "    animation:\n",
              "      spin 1s steps(1) infinite;\n",
              "  }\n",
              "\n",
              "  @keyframes spin {\n",
              "    0% {\n",
              "      border-color: transparent;\n",
              "      border-bottom-color: var(--fill-color);\n",
              "      border-left-color: var(--fill-color);\n",
              "    }\n",
              "    20% {\n",
              "      border-color: transparent;\n",
              "      border-left-color: var(--fill-color);\n",
              "      border-top-color: var(--fill-color);\n",
              "    }\n",
              "    30% {\n",
              "      border-color: transparent;\n",
              "      border-left-color: var(--fill-color);\n",
              "      border-top-color: var(--fill-color);\n",
              "      border-right-color: var(--fill-color);\n",
              "    }\n",
              "    40% {\n",
              "      border-color: transparent;\n",
              "      border-right-color: var(--fill-color);\n",
              "      border-top-color: var(--fill-color);\n",
              "    }\n",
              "    60% {\n",
              "      border-color: transparent;\n",
              "      border-right-color: var(--fill-color);\n",
              "    }\n",
              "    80% {\n",
              "      border-color: transparent;\n",
              "      border-right-color: var(--fill-color);\n",
              "      border-bottom-color: var(--fill-color);\n",
              "    }\n",
              "    90% {\n",
              "      border-color: transparent;\n",
              "      border-bottom-color: var(--fill-color);\n",
              "    }\n",
              "  }\n",
              "</style>\n",
              "\n",
              "  <script>\n",
              "    async function quickchart(key) {\n",
              "      const quickchartButtonEl =\n",
              "        document.querySelector('#' + key + ' button');\n",
              "      quickchartButtonEl.disabled = true;  // To prevent multiple clicks.\n",
              "      quickchartButtonEl.classList.add('colab-df-spinner');\n",
              "      try {\n",
              "        const charts = await google.colab.kernel.invokeFunction(\n",
              "            'suggestCharts', [key], {});\n",
              "      } catch (error) {\n",
              "        console.error('Error during call to suggestCharts:', error);\n",
              "      }\n",
              "      quickchartButtonEl.classList.remove('colab-df-spinner');\n",
              "      quickchartButtonEl.classList.add('colab-df-quickchart-complete');\n",
              "    }\n",
              "    (() => {\n",
              "      let quickchartButtonEl =\n",
              "        document.querySelector('#df-71e7926d-2919-4611-b959-74322f1eca63 button');\n",
              "      quickchartButtonEl.style.display =\n",
              "        google.colab.kernel.accessAllowed ? 'block' : 'none';\n",
              "    })();\n",
              "  </script>\n",
              "</div>\n",
              "    </div>\n",
              "  </div>\n"
            ],
            "application/vnd.google.colaboratory.intrinsic+json": {
              "type": "dataframe",
              "variable_name": "salary_one_hot"
            }
          },
          "metadata": {},
          "execution_count": 107
        }
      ]
    },
    {
      "cell_type": "code",
      "source": [
        "# Create X and Y\n",
        "x = salary_one_hot.drop(\"Salary\", axis=1)\n",
        "y = salary_one_hot[\"Salary\"]"
      ],
      "metadata": {
        "id": "QWmPC1mqGuPO"
      },
      "execution_count": 108,
      "outputs": []
    },
    {
      "cell_type": "code",
      "source": [
        "# view x\n",
        "x.head()"
      ],
      "metadata": {
        "colab": {
          "base_uri": "https://localhost:8080/",
          "height": 308
        },
        "id": "eH5Fmqk8MJgc",
        "outputId": "31c4988d-e9aa-477c-8c17-a0e07f1cadfa"
      },
      "execution_count": 109,
      "outputs": [
        {
          "output_type": "execute_result",
          "data": {
            "text/plain": [
              "    Age  Years of Experience  Gender_Female  Gender_Male  \\\n",
              "0  32.0                  5.0              0            1   \n",
              "1  28.0                  3.0              1            0   \n",
              "2  45.0                 15.0              0            1   \n",
              "3  36.0                  7.0              1            0   \n",
              "4  52.0                 20.0              0            1   \n",
              "\n",
              "   Education Level_Bachelor's  Education Level_Master's  Education Level_PhD  \\\n",
              "0                           1                         0                    0   \n",
              "1                           0                         1                    0   \n",
              "2                           0                         0                    1   \n",
              "3                           1                         0                    0   \n",
              "4                           0                         1                    0   \n",
              "\n",
              "   Job Title_Account Manager  Job Title_Accountant  \\\n",
              "0                          0                     0   \n",
              "1                          0                     0   \n",
              "2                          0                     0   \n",
              "3                          0                     0   \n",
              "4                          0                     0   \n",
              "\n",
              "   Job Title_Administrative Assistant  ...  Job Title_Supply Chain Manager  \\\n",
              "0                                   0  ...                               0   \n",
              "1                                   0  ...                               0   \n",
              "2                                   0  ...                               0   \n",
              "3                                   0  ...                               0   \n",
              "4                                   0  ...                               0   \n",
              "\n",
              "   Job Title_Technical Recruiter  Job Title_Technical Support Specialist  \\\n",
              "0                              0                                       0   \n",
              "1                              0                                       0   \n",
              "2                              0                                       0   \n",
              "3                              0                                       0   \n",
              "4                              0                                       0   \n",
              "\n",
              "   Job Title_Technical Writer  Job Title_Training Specialist  \\\n",
              "0                           0                              0   \n",
              "1                           0                              0   \n",
              "2                           0                              0   \n",
              "3                           0                              0   \n",
              "4                           0                              0   \n",
              "\n",
              "   Job Title_UX Designer  Job Title_UX Researcher  Job Title_VP of Finance  \\\n",
              "0                      0                        0                        0   \n",
              "1                      0                        0                        0   \n",
              "2                      0                        0                        0   \n",
              "3                      0                        0                        0   \n",
              "4                      0                        0                        0   \n",
              "\n",
              "   Job Title_VP of Operations  Job Title_Web Developer  \n",
              "0                           0                        0  \n",
              "1                           0                        0  \n",
              "2                           0                        0  \n",
              "3                           0                        0  \n",
              "4                           0                        0  \n",
              "\n",
              "[5 rows x 181 columns]"
            ],
            "text/html": [
              "\n",
              "  <div id=\"df-bb809c8a-bfea-4f6d-9f03-dc8b92fa825b\" class=\"colab-df-container\">\n",
              "    <div>\n",
              "<style scoped>\n",
              "    .dataframe tbody tr th:only-of-type {\n",
              "        vertical-align: middle;\n",
              "    }\n",
              "\n",
              "    .dataframe tbody tr th {\n",
              "        vertical-align: top;\n",
              "    }\n",
              "\n",
              "    .dataframe thead th {\n",
              "        text-align: right;\n",
              "    }\n",
              "</style>\n",
              "<table border=\"1\" class=\"dataframe\">\n",
              "  <thead>\n",
              "    <tr style=\"text-align: right;\">\n",
              "      <th></th>\n",
              "      <th>Age</th>\n",
              "      <th>Years of Experience</th>\n",
              "      <th>Gender_Female</th>\n",
              "      <th>Gender_Male</th>\n",
              "      <th>Education Level_Bachelor's</th>\n",
              "      <th>Education Level_Master's</th>\n",
              "      <th>Education Level_PhD</th>\n",
              "      <th>Job Title_Account Manager</th>\n",
              "      <th>Job Title_Accountant</th>\n",
              "      <th>Job Title_Administrative Assistant</th>\n",
              "      <th>...</th>\n",
              "      <th>Job Title_Supply Chain Manager</th>\n",
              "      <th>Job Title_Technical Recruiter</th>\n",
              "      <th>Job Title_Technical Support Specialist</th>\n",
              "      <th>Job Title_Technical Writer</th>\n",
              "      <th>Job Title_Training Specialist</th>\n",
              "      <th>Job Title_UX Designer</th>\n",
              "      <th>Job Title_UX Researcher</th>\n",
              "      <th>Job Title_VP of Finance</th>\n",
              "      <th>Job Title_VP of Operations</th>\n",
              "      <th>Job Title_Web Developer</th>\n",
              "    </tr>\n",
              "  </thead>\n",
              "  <tbody>\n",
              "    <tr>\n",
              "      <th>0</th>\n",
              "      <td>32.0</td>\n",
              "      <td>5.0</td>\n",
              "      <td>0</td>\n",
              "      <td>1</td>\n",
              "      <td>1</td>\n",
              "      <td>0</td>\n",
              "      <td>0</td>\n",
              "      <td>0</td>\n",
              "      <td>0</td>\n",
              "      <td>0</td>\n",
              "      <td>...</td>\n",
              "      <td>0</td>\n",
              "      <td>0</td>\n",
              "      <td>0</td>\n",
              "      <td>0</td>\n",
              "      <td>0</td>\n",
              "      <td>0</td>\n",
              "      <td>0</td>\n",
              "      <td>0</td>\n",
              "      <td>0</td>\n",
              "      <td>0</td>\n",
              "    </tr>\n",
              "    <tr>\n",
              "      <th>1</th>\n",
              "      <td>28.0</td>\n",
              "      <td>3.0</td>\n",
              "      <td>1</td>\n",
              "      <td>0</td>\n",
              "      <td>0</td>\n",
              "      <td>1</td>\n",
              "      <td>0</td>\n",
              "      <td>0</td>\n",
              "      <td>0</td>\n",
              "      <td>0</td>\n",
              "      <td>...</td>\n",
              "      <td>0</td>\n",
              "      <td>0</td>\n",
              "      <td>0</td>\n",
              "      <td>0</td>\n",
              "      <td>0</td>\n",
              "      <td>0</td>\n",
              "      <td>0</td>\n",
              "      <td>0</td>\n",
              "      <td>0</td>\n",
              "      <td>0</td>\n",
              "    </tr>\n",
              "    <tr>\n",
              "      <th>2</th>\n",
              "      <td>45.0</td>\n",
              "      <td>15.0</td>\n",
              "      <td>0</td>\n",
              "      <td>1</td>\n",
              "      <td>0</td>\n",
              "      <td>0</td>\n",
              "      <td>1</td>\n",
              "      <td>0</td>\n",
              "      <td>0</td>\n",
              "      <td>0</td>\n",
              "      <td>...</td>\n",
              "      <td>0</td>\n",
              "      <td>0</td>\n",
              "      <td>0</td>\n",
              "      <td>0</td>\n",
              "      <td>0</td>\n",
              "      <td>0</td>\n",
              "      <td>0</td>\n",
              "      <td>0</td>\n",
              "      <td>0</td>\n",
              "      <td>0</td>\n",
              "    </tr>\n",
              "    <tr>\n",
              "      <th>3</th>\n",
              "      <td>36.0</td>\n",
              "      <td>7.0</td>\n",
              "      <td>1</td>\n",
              "      <td>0</td>\n",
              "      <td>1</td>\n",
              "      <td>0</td>\n",
              "      <td>0</td>\n",
              "      <td>0</td>\n",
              "      <td>0</td>\n",
              "      <td>0</td>\n",
              "      <td>...</td>\n",
              "      <td>0</td>\n",
              "      <td>0</td>\n",
              "      <td>0</td>\n",
              "      <td>0</td>\n",
              "      <td>0</td>\n",
              "      <td>0</td>\n",
              "      <td>0</td>\n",
              "      <td>0</td>\n",
              "      <td>0</td>\n",
              "      <td>0</td>\n",
              "    </tr>\n",
              "    <tr>\n",
              "      <th>4</th>\n",
              "      <td>52.0</td>\n",
              "      <td>20.0</td>\n",
              "      <td>0</td>\n",
              "      <td>1</td>\n",
              "      <td>0</td>\n",
              "      <td>1</td>\n",
              "      <td>0</td>\n",
              "      <td>0</td>\n",
              "      <td>0</td>\n",
              "      <td>0</td>\n",
              "      <td>...</td>\n",
              "      <td>0</td>\n",
              "      <td>0</td>\n",
              "      <td>0</td>\n",
              "      <td>0</td>\n",
              "      <td>0</td>\n",
              "      <td>0</td>\n",
              "      <td>0</td>\n",
              "      <td>0</td>\n",
              "      <td>0</td>\n",
              "      <td>0</td>\n",
              "    </tr>\n",
              "  </tbody>\n",
              "</table>\n",
              "<p>5 rows × 181 columns</p>\n",
              "</div>\n",
              "    <div class=\"colab-df-buttons\">\n",
              "\n",
              "  <div class=\"colab-df-container\">\n",
              "    <button class=\"colab-df-convert\" onclick=\"convertToInteractive('df-bb809c8a-bfea-4f6d-9f03-dc8b92fa825b')\"\n",
              "            title=\"Convert this dataframe to an interactive table.\"\n",
              "            style=\"display:none;\">\n",
              "\n",
              "  <svg xmlns=\"http://www.w3.org/2000/svg\" height=\"24px\" viewBox=\"0 -960 960 960\">\n",
              "    <path d=\"M120-120v-720h720v720H120Zm60-500h600v-160H180v160Zm220 220h160v-160H400v160Zm0 220h160v-160H400v160ZM180-400h160v-160H180v160Zm440 0h160v-160H620v160ZM180-180h160v-160H180v160Zm440 0h160v-160H620v160Z\"/>\n",
              "  </svg>\n",
              "    </button>\n",
              "\n",
              "  <style>\n",
              "    .colab-df-container {\n",
              "      display:flex;\n",
              "      gap: 12px;\n",
              "    }\n",
              "\n",
              "    .colab-df-convert {\n",
              "      background-color: #E8F0FE;\n",
              "      border: none;\n",
              "      border-radius: 50%;\n",
              "      cursor: pointer;\n",
              "      display: none;\n",
              "      fill: #1967D2;\n",
              "      height: 32px;\n",
              "      padding: 0 0 0 0;\n",
              "      width: 32px;\n",
              "    }\n",
              "\n",
              "    .colab-df-convert:hover {\n",
              "      background-color: #E2EBFA;\n",
              "      box-shadow: 0px 1px 2px rgba(60, 64, 67, 0.3), 0px 1px 3px 1px rgba(60, 64, 67, 0.15);\n",
              "      fill: #174EA6;\n",
              "    }\n",
              "\n",
              "    .colab-df-buttons div {\n",
              "      margin-bottom: 4px;\n",
              "    }\n",
              "\n",
              "    [theme=dark] .colab-df-convert {\n",
              "      background-color: #3B4455;\n",
              "      fill: #D2E3FC;\n",
              "    }\n",
              "\n",
              "    [theme=dark] .colab-df-convert:hover {\n",
              "      background-color: #434B5C;\n",
              "      box-shadow: 0px 1px 3px 1px rgba(0, 0, 0, 0.15);\n",
              "      filter: drop-shadow(0px 1px 2px rgba(0, 0, 0, 0.3));\n",
              "      fill: #FFFFFF;\n",
              "    }\n",
              "  </style>\n",
              "\n",
              "    <script>\n",
              "      const buttonEl =\n",
              "        document.querySelector('#df-bb809c8a-bfea-4f6d-9f03-dc8b92fa825b button.colab-df-convert');\n",
              "      buttonEl.style.display =\n",
              "        google.colab.kernel.accessAllowed ? 'block' : 'none';\n",
              "\n",
              "      async function convertToInteractive(key) {\n",
              "        const element = document.querySelector('#df-bb809c8a-bfea-4f6d-9f03-dc8b92fa825b');\n",
              "        const dataTable =\n",
              "          await google.colab.kernel.invokeFunction('convertToInteractive',\n",
              "                                                    [key], {});\n",
              "        if (!dataTable) return;\n",
              "\n",
              "        const docLinkHtml = 'Like what you see? Visit the ' +\n",
              "          '<a target=\"_blank\" href=https://colab.research.google.com/notebooks/data_table.ipynb>data table notebook</a>'\n",
              "          + ' to learn more about interactive tables.';\n",
              "        element.innerHTML = '';\n",
              "        dataTable['output_type'] = 'display_data';\n",
              "        await google.colab.output.renderOutput(dataTable, element);\n",
              "        const docLink = document.createElement('div');\n",
              "        docLink.innerHTML = docLinkHtml;\n",
              "        element.appendChild(docLink);\n",
              "      }\n",
              "    </script>\n",
              "  </div>\n",
              "\n",
              "\n",
              "<div id=\"df-c837679d-ce24-4d6b-8e00-fc78a9d10ac3\">\n",
              "  <button class=\"colab-df-quickchart\" onclick=\"quickchart('df-c837679d-ce24-4d6b-8e00-fc78a9d10ac3')\"\n",
              "            title=\"Suggest charts\"\n",
              "            style=\"display:none;\">\n",
              "\n",
              "<svg xmlns=\"http://www.w3.org/2000/svg\" height=\"24px\"viewBox=\"0 0 24 24\"\n",
              "     width=\"24px\">\n",
              "    <g>\n",
              "        <path d=\"M19 3H5c-1.1 0-2 .9-2 2v14c0 1.1.9 2 2 2h14c1.1 0 2-.9 2-2V5c0-1.1-.9-2-2-2zM9 17H7v-7h2v7zm4 0h-2V7h2v10zm4 0h-2v-4h2v4z\"/>\n",
              "    </g>\n",
              "</svg>\n",
              "  </button>\n",
              "\n",
              "<style>\n",
              "  .colab-df-quickchart {\n",
              "      --bg-color: #E8F0FE;\n",
              "      --fill-color: #1967D2;\n",
              "      --hover-bg-color: #E2EBFA;\n",
              "      --hover-fill-color: #174EA6;\n",
              "      --disabled-fill-color: #AAA;\n",
              "      --disabled-bg-color: #DDD;\n",
              "  }\n",
              "\n",
              "  [theme=dark] .colab-df-quickchart {\n",
              "      --bg-color: #3B4455;\n",
              "      --fill-color: #D2E3FC;\n",
              "      --hover-bg-color: #434B5C;\n",
              "      --hover-fill-color: #FFFFFF;\n",
              "      --disabled-bg-color: #3B4455;\n",
              "      --disabled-fill-color: #666;\n",
              "  }\n",
              "\n",
              "  .colab-df-quickchart {\n",
              "    background-color: var(--bg-color);\n",
              "    border: none;\n",
              "    border-radius: 50%;\n",
              "    cursor: pointer;\n",
              "    display: none;\n",
              "    fill: var(--fill-color);\n",
              "    height: 32px;\n",
              "    padding: 0;\n",
              "    width: 32px;\n",
              "  }\n",
              "\n",
              "  .colab-df-quickchart:hover {\n",
              "    background-color: var(--hover-bg-color);\n",
              "    box-shadow: 0 1px 2px rgba(60, 64, 67, 0.3), 0 1px 3px 1px rgba(60, 64, 67, 0.15);\n",
              "    fill: var(--button-hover-fill-color);\n",
              "  }\n",
              "\n",
              "  .colab-df-quickchart-complete:disabled,\n",
              "  .colab-df-quickchart-complete:disabled:hover {\n",
              "    background-color: var(--disabled-bg-color);\n",
              "    fill: var(--disabled-fill-color);\n",
              "    box-shadow: none;\n",
              "  }\n",
              "\n",
              "  .colab-df-spinner {\n",
              "    border: 2px solid var(--fill-color);\n",
              "    border-color: transparent;\n",
              "    border-bottom-color: var(--fill-color);\n",
              "    animation:\n",
              "      spin 1s steps(1) infinite;\n",
              "  }\n",
              "\n",
              "  @keyframes spin {\n",
              "    0% {\n",
              "      border-color: transparent;\n",
              "      border-bottom-color: var(--fill-color);\n",
              "      border-left-color: var(--fill-color);\n",
              "    }\n",
              "    20% {\n",
              "      border-color: transparent;\n",
              "      border-left-color: var(--fill-color);\n",
              "      border-top-color: var(--fill-color);\n",
              "    }\n",
              "    30% {\n",
              "      border-color: transparent;\n",
              "      border-left-color: var(--fill-color);\n",
              "      border-top-color: var(--fill-color);\n",
              "      border-right-color: var(--fill-color);\n",
              "    }\n",
              "    40% {\n",
              "      border-color: transparent;\n",
              "      border-right-color: var(--fill-color);\n",
              "      border-top-color: var(--fill-color);\n",
              "    }\n",
              "    60% {\n",
              "      border-color: transparent;\n",
              "      border-right-color: var(--fill-color);\n",
              "    }\n",
              "    80% {\n",
              "      border-color: transparent;\n",
              "      border-right-color: var(--fill-color);\n",
              "      border-bottom-color: var(--fill-color);\n",
              "    }\n",
              "    90% {\n",
              "      border-color: transparent;\n",
              "      border-bottom-color: var(--fill-color);\n",
              "    }\n",
              "  }\n",
              "</style>\n",
              "\n",
              "  <script>\n",
              "    async function quickchart(key) {\n",
              "      const quickchartButtonEl =\n",
              "        document.querySelector('#' + key + ' button');\n",
              "      quickchartButtonEl.disabled = true;  // To prevent multiple clicks.\n",
              "      quickchartButtonEl.classList.add('colab-df-spinner');\n",
              "      try {\n",
              "        const charts = await google.colab.kernel.invokeFunction(\n",
              "            'suggestCharts', [key], {});\n",
              "      } catch (error) {\n",
              "        console.error('Error during call to suggestCharts:', error);\n",
              "      }\n",
              "      quickchartButtonEl.classList.remove('colab-df-spinner');\n",
              "      quickchartButtonEl.classList.add('colab-df-quickchart-complete');\n",
              "    }\n",
              "    (() => {\n",
              "      let quickchartButtonEl =\n",
              "        document.querySelector('#df-c837679d-ce24-4d6b-8e00-fc78a9d10ac3 button');\n",
              "      quickchartButtonEl.style.display =\n",
              "        google.colab.kernel.accessAllowed ? 'block' : 'none';\n",
              "    })();\n",
              "  </script>\n",
              "</div>\n",
              "    </div>\n",
              "  </div>\n"
            ],
            "application/vnd.google.colaboratory.intrinsic+json": {
              "type": "dataframe",
              "variable_name": "x"
            }
          },
          "metadata": {},
          "execution_count": 109
        }
      ]
    },
    {
      "cell_type": "code",
      "source": [
        "# view y\n",
        "y.head()"
      ],
      "metadata": {
        "colab": {
          "base_uri": "https://localhost:8080/"
        },
        "id": "8z3PFv1kMJ49",
        "outputId": "cb8bdace-578c-424c-98e6-b54981255447"
      },
      "execution_count": 110,
      "outputs": [
        {
          "output_type": "execute_result",
          "data": {
            "text/plain": [
              "0     90000.0\n",
              "1     65000.0\n",
              "2    150000.0\n",
              "3     60000.0\n",
              "4    200000.0\n",
              "Name: Salary, dtype: float64"
            ]
          },
          "metadata": {},
          "execution_count": 110
        }
      ]
    },
    {
      "cell_type": "code",
      "source": [
        "# Build our train and test sets\n",
        "x_train, x_test, y_train, y_test = train_test_split(x, y, test_size=0.3, random_state=42)"
      ],
      "metadata": {
        "id": "PYUj9WWPMYEI"
      },
      "execution_count": 111,
      "outputs": []
    },
    {
      "cell_type": "code",
      "source": [
        "len(x), len(x_train), len(x_test)"
      ],
      "metadata": {
        "colab": {
          "base_uri": "https://localhost:8080/"
        },
        "id": "wMEwTX0ZNZi4",
        "outputId": "3f6756ce-7e4f-4117-d3c5-1555b12406fc"
      },
      "execution_count": 112,
      "outputs": [
        {
          "output_type": "execute_result",
          "data": {
            "text/plain": [
              "(375, 262, 113)"
            ]
          },
          "metadata": {},
          "execution_count": 112
        }
      ]
    },
    {
      "cell_type": "code",
      "source": [
        "# Normalize x_train data\n",
        "\n",
        "scaler = StandardScaler()\n",
        "x_train_scaled = scaler.fit_transform(x_train)"
      ],
      "metadata": {
        "id": "e1EtHuqxQ7Sy"
      },
      "execution_count": 113,
      "outputs": []
    },
    {
      "cell_type": "code",
      "source": [
        "# Build a neural network for salary\n",
        "\n",
        "tf.random.set_seed(42)\n",
        "\n",
        "# 1. Create the model\n",
        "salary_model = tf.keras.Sequential([\n",
        "    tf.keras.layers.Dense(1, kernel_initializer='he_normal', activation=\"relu\")\n",
        "])\n",
        "\n",
        "# 2. Compile the model\n",
        "salary_model.compile(loss=mae,\n",
        "                     optimizer = tf.keras.optimizers.SGD(learning_rate=0.001),\n",
        "                     metrics=[\"mae\"])\n",
        "\n",
        "# 3. fit the model\n",
        "history_salary = salary_model.fit(x_train, y_train, epochs=32, verbose=1)"
      ],
      "metadata": {
        "colab": {
          "base_uri": "https://localhost:8080/"
        },
        "id": "EI7RSrCUNsz2",
        "outputId": "5f0e024c-acdb-4ac6-ff2c-70f5c693e1ab"
      },
      "execution_count": 114,
      "outputs": [
        {
          "output_type": "stream",
          "name": "stdout",
          "text": [
            "Epoch 1/32\n",
            "9/9 [==============================] - 1s 4ms/step - loss: nan - mae: nan          \n",
            "Epoch 2/32\n",
            "9/9 [==============================] - 0s 4ms/step - loss: nan - mae: nan\n",
            "Epoch 3/32\n",
            "9/9 [==============================] - 0s 3ms/step - loss: nan - mae: nan\n",
            "Epoch 4/32\n",
            "9/9 [==============================] - 0s 4ms/step - loss: nan - mae: nan\n",
            "Epoch 5/32\n",
            "9/9 [==============================] - 0s 4ms/step - loss: nan - mae: nan\n",
            "Epoch 6/32\n",
            "9/9 [==============================] - 0s 3ms/step - loss: nan - mae: nan\n",
            "Epoch 7/32\n",
            "9/9 [==============================] - 0s 3ms/step - loss: nan - mae: nan\n",
            "Epoch 8/32\n",
            "9/9 [==============================] - 0s 4ms/step - loss: nan - mae: nan\n",
            "Epoch 9/32\n",
            "9/9 [==============================] - 0s 4ms/step - loss: nan - mae: nan\n",
            "Epoch 10/32\n",
            "9/9 [==============================] - 0s 3ms/step - loss: nan - mae: nan\n",
            "Epoch 11/32\n",
            "9/9 [==============================] - 0s 3ms/step - loss: nan - mae: nan\n",
            "Epoch 12/32\n",
            "9/9 [==============================] - 0s 3ms/step - loss: nan - mae: nan\n",
            "Epoch 13/32\n",
            "9/9 [==============================] - 0s 3ms/step - loss: nan - mae: nan\n",
            "Epoch 14/32\n",
            "9/9 [==============================] - 0s 3ms/step - loss: nan - mae: nan\n",
            "Epoch 15/32\n",
            "9/9 [==============================] - 0s 3ms/step - loss: nan - mae: nan\n",
            "Epoch 16/32\n",
            "9/9 [==============================] - 0s 3ms/step - loss: nan - mae: nan\n",
            "Epoch 17/32\n",
            "9/9 [==============================] - 0s 4ms/step - loss: nan - mae: nan\n",
            "Epoch 18/32\n",
            "9/9 [==============================] - 0s 4ms/step - loss: nan - mae: nan\n",
            "Epoch 19/32\n",
            "9/9 [==============================] - 0s 4ms/step - loss: nan - mae: nan\n",
            "Epoch 20/32\n",
            "9/9 [==============================] - 0s 3ms/step - loss: nan - mae: nan\n",
            "Epoch 21/32\n",
            "9/9 [==============================] - 0s 3ms/step - loss: nan - mae: nan\n",
            "Epoch 22/32\n",
            "9/9 [==============================] - 0s 3ms/step - loss: nan - mae: nan\n",
            "Epoch 23/32\n",
            "9/9 [==============================] - 0s 3ms/step - loss: nan - mae: nan\n",
            "Epoch 24/32\n",
            "9/9 [==============================] - 0s 3ms/step - loss: nan - mae: nan\n",
            "Epoch 25/32\n",
            "9/9 [==============================] - 0s 2ms/step - loss: nan - mae: nan\n",
            "Epoch 26/32\n",
            "9/9 [==============================] - 0s 3ms/step - loss: nan - mae: nan\n",
            "Epoch 27/32\n",
            "9/9 [==============================] - 0s 3ms/step - loss: nan - mae: nan\n",
            "Epoch 28/32\n",
            "9/9 [==============================] - 0s 3ms/step - loss: nan - mae: nan\n",
            "Epoch 29/32\n",
            "9/9 [==============================] - 0s 3ms/step - loss: nan - mae: nan\n",
            "Epoch 30/32\n",
            "9/9 [==============================] - 0s 3ms/step - loss: nan - mae: nan\n",
            "Epoch 31/32\n",
            "9/9 [==============================] - 0s 3ms/step - loss: nan - mae: nan\n",
            "Epoch 32/32\n",
            "9/9 [==============================] - 0s 3ms/step - loss: nan - mae: nan\n"
          ]
        }
      ]
    }
  ]
}