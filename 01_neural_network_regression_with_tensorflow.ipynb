{
  "nbformat": 4,
  "nbformat_minor": 0,
  "metadata": {
    "colab": {
      "provenance": [],
      "authorship_tag": "ABX9TyN4klkkhtZ7SuDhqz3SFFWw",
      "include_colab_link": true
    },
    "kernelspec": {
      "name": "python3",
      "display_name": "Python 3"
    },
    "language_info": {
      "name": "python"
    }
  },
  "cells": [
    {
      "cell_type": "markdown",
      "metadata": {
        "id": "view-in-github",
        "colab_type": "text"
      },
      "source": [
        "<a href=\"https://colab.research.google.com/github/GabrielBatavia/Learn_TensorFlow/blob/main/01_neural_network_regression_with_tensorflow.ipynb\" target=\"_parent\"><img src=\"https://colab.research.google.com/assets/colab-badge.svg\" alt=\"Open In Colab\"/></a>"
      ]
    },
    {
      "cell_type": "markdown",
      "source": [
        "# Introduction to Regression with Neural Networks in TensorFlow\n",
        "\n",
        "There are many definition for a regression problem but in our case, we're going to simplify it : predicting a numerical variable based on some other combination of variables, even shorter...predicting a number."
      ],
      "metadata": {
        "id": "eANshE7nr2zb"
      }
    },
    {
      "cell_type": "code",
      "execution_count": 1,
      "metadata": {
        "colab": {
          "base_uri": "https://localhost:8080/"
        },
        "id": "UmVJP_eWrO59",
        "outputId": "0bdf9462-5382-43dd-dd8c-7fbbe9b6c4a1"
      },
      "outputs": [
        {
          "output_type": "stream",
          "name": "stdout",
          "text": [
            "2.15.0\n"
          ]
        }
      ],
      "source": [
        "# Import TensorFlow\n",
        "\n",
        "import tensorflow as tf\n",
        "print(tf.__version__)"
      ]
    },
    {
      "cell_type": "markdown",
      "source": [
        "## Creating data to view and fit"
      ],
      "metadata": {
        "id": "vbbwMFoqskyN"
      }
    },
    {
      "cell_type": "code",
      "source": [
        "import numpy as np\n",
        "import matplotlib.pyplot as plt"
      ],
      "metadata": {
        "id": "DXOtRA60shEW"
      },
      "execution_count": 2,
      "outputs": []
    },
    {
      "cell_type": "code",
      "source": [
        "# Creating features\n",
        "\n",
        "x = np.array([-7., -4., -1., 2., 5., 8., 11., 14.])\n",
        "\n",
        "# Create labels\n",
        "y = np.array([3., 6., 9., 12., 15., 18., 21., 24.])\n",
        "\n",
        "# Visualize it\n",
        "plt.scatter(x, y);"
      ],
      "metadata": {
        "colab": {
          "base_uri": "https://localhost:8080/",
          "height": 435
        },
        "id": "SX4eHtEts4GD",
        "outputId": "08c5d6d9-ae5f-4c8c-c6f8-89778bdbd1e3"
      },
      "execution_count": 3,
      "outputs": [
        {
          "output_type": "display_data",
          "data": {
            "text/plain": [
              "<Figure size 640x480 with 1 Axes>"
            ],
            "image/png": "[encoded data removed]"
          },
          "metadata": {}
        }
      ]
    },
    {
      "cell_type": "code",
      "source": [
        "y == x + 10"
      ],
      "metadata": {
        "id": "qaf2FE-utbQ-",
        "colab": {
          "base_uri": "https://localhost:8080/"
        },
        "outputId": "4a2ad224-493a-439f-8346-faebca3ba420"
      },
      "execution_count": 4,
      "outputs": [
        {
          "output_type": "execute_result",
          "data": {
            "text/plain": [
              "array([ True,  True,  True,  True,  True,  True,  True,  True])"
            ]
          },
          "metadata": {},
          "execution_count": 4
        }
      ]
    },
    {
      "cell_type": "markdown",
      "source": [
        "## Input and Output shapes"
      ],
      "metadata": {
        "id": "hHex_79OxmAn"
      }
    },
    {
      "cell_type": "code",
      "source": [
        "# Create a demo tensor for out housing price prediction problem\n",
        "\n",
        "house_info = tf.constant([\"bedroom\", \"bathroom\", \"garage\"])\n",
        "house_price = tf.constant([939700])\n",
        "\n",
        "house_info, house_price"
      ],
      "metadata": {
        "colab": {
          "base_uri": "https://localhost:8080/"
        },
        "id": "EKNlltO3xrVe",
        "outputId": "823b4b3d-9a02-44f6-d63a-ed4f1e6d2b47"
      },
      "execution_count": 5,
      "outputs": [
        {
          "output_type": "execute_result",
          "data": {
            "text/plain": [
              "(<tf.Tensor: shape=(3,), dtype=string, numpy=array([b'bedroom', b'bathroom', b'garage'], dtype=object)>,\n",
              " <tf.Tensor: shape=(1,), dtype=int32, numpy=array([939700], dtype=int32)>)"
            ]
          },
          "metadata": {},
          "execution_count": 5
        }
      ]
    },
    {
      "cell_type": "code",
      "source": [
        "x[0], y[0]"
      ],
      "metadata": {
        "colab": {
          "base_uri": "https://localhost:8080/"
        },
        "id": "-tWt-gYSzm66",
        "outputId": "c6ed2fbb-b23b-4e92-831d-5573bf7b31d5"
      },
      "execution_count": 6,
      "outputs": [
        {
          "output_type": "execute_result",
          "data": {
            "text/plain": [
              "(-7.0, 3.0)"
            ]
          },
          "metadata": {},
          "execution_count": 6
        }
      ]
    },
    {
      "cell_type": "code",
      "source": [
        "input_shape = x[0].shape\n",
        "output_shape = y[0].shape\n",
        "\n",
        "input_shape, output_shape"
      ],
      "metadata": {
        "colab": {
          "base_uri": "https://localhost:8080/"
        },
        "id": "sGSz7U-vzY4m",
        "outputId": "2c995ccf-042f-411d-dc32-813400831d9d"
      },
      "execution_count": 7,
      "outputs": [
        {
          "output_type": "execute_result",
          "data": {
            "text/plain": [
              "((), ())"
            ]
          },
          "metadata": {},
          "execution_count": 7
        }
      ]
    },
    {
      "cell_type": "code",
      "source": [
        "x[0].ndim"
      ],
      "metadata": {
        "colab": {
          "base_uri": "https://localhost:8080/"
        },
        "id": "VCL4zHK5z8RR",
        "outputId": "519dea9d-cf75-4bc9-d88c-afeb169f0e84"
      },
      "execution_count": 8,
      "outputs": [
        {
          "output_type": "execute_result",
          "data": {
            "text/plain": [
              "0"
            ]
          },
          "metadata": {},
          "execution_count": 8
        }
      ]
    },
    {
      "cell_type": "code",
      "source": [
        "# Turn our Numpy arrays into tensors with dtype 32\n",
        "\n",
        "X = tf.constant(x, dtype=tf.float32)\n",
        "Y = tf.constant(y, dtype=tf.float32)\n",
        "\n",
        "X, Y"
      ],
      "metadata": {
        "colab": {
          "base_uri": "https://localhost:8080/"
        },
        "id": "QL2Ofdwmz-sQ",
        "outputId": "36616036-5a2f-4a8b-8b27-2842883605c8"
      },
      "execution_count": 9,
      "outputs": [
        {
          "output_type": "execute_result",
          "data": {
            "text/plain": [
              "(<tf.Tensor: shape=(8,), dtype=float32, numpy=array([-7., -4., -1.,  2.,  5.,  8., 11., 14.], dtype=float32)>,\n",
              " <tf.Tensor: shape=(8,), dtype=float32, numpy=array([ 3.,  6.,  9., 12., 15., 18., 21., 24.], dtype=float32)>)"
            ]
          },
          "metadata": {},
          "execution_count": 9
        }
      ]
    },
    {
      "cell_type": "code",
      "source": [
        "input_shape = X[0].shape\n",
        "output_shape = y[0].shape\n",
        "\n",
        "input_shape, output_shape"
      ],
      "metadata": {
        "colab": {
          "base_uri": "https://localhost:8080/"
        },
        "id": "R6m8i44s1t3S",
        "outputId": "32214209-fb6f-41f0-8225-194487fce4dc"
      },
      "execution_count": 10,
      "outputs": [
        {
          "output_type": "execute_result",
          "data": {
            "text/plain": [
              "(TensorShape([]), ())"
            ]
          },
          "metadata": {},
          "execution_count": 10
        }
      ]
    },
    {
      "cell_type": "markdown",
      "source": [
        "## Steps in modelling with TensorFlow\n",
        "\n",
        "1. **Creating a model** - define the input and output layers, as well as the hidden layers of a deep learning model.\n",
        "\n",
        "2. **Compiling a model** - define the loss function (in other words, the function wich tells our model how wrong it is) and the optimizer (tells our model how to improve the patterns its learning) and evaluation metrics (what we can use to interpret the preformance of our model)\n",
        "\n",
        "3. Fitting a model - letting the model try to find patters between X & y (features and labels)"
      ],
      "metadata": {
        "id": "T9heq-y318BJ"
      }
    },
    {
      "cell_type": "code",
      "source": [
        "# Opetionally, the first layer can receive an 'input_shape' argument :\n",
        "# model = tf.keras.Sequential()\n",
        "# model.add(tf.keras.layers.Dense(8, input_shape=(16,)))\n",
        "\n",
        "# Afterwards, we do automatic shape inference :\n",
        "# model.add(tf.keras.layers.Dense(4))\n",
        "\n",
        "# model = tf.keras.Sequential()\n",
        "# model.add(tf.keras.layers.Dense(1))\n",
        "# ..."
      ],
      "metadata": {
        "id": "nEAWuhvc6w4g"
      },
      "execution_count": 11,
      "outputs": []
    },
    {
      "cell_type": "code",
      "source": [
        "# Set random seed\n",
        "\n",
        "tf.random.set_seed(42)\n",
        "\n",
        "# 1. Create a model using the Sequential API\n",
        "model = tf.keras.Sequential([\n",
        "    tf.keras.layers.Dense(1)\n",
        "])\n",
        "\n",
        "# 2. Compile the model\n",
        "model.compile(loss = tf.keras.losses.mae, # mae is short for mean absolute error\n",
        "              optimizer = tf.keras.optimizers.SGD(), # sgd is short for stochasitc gradient decent\n",
        "              metrics = [\"mae\"])\n",
        "\n",
        "# 3. Fit the model\n",
        "# model.fit(X, Y, epochs=5) # BREAK IN UPDATED TENSOR VERSION\n",
        "model.fit(tf.expand_dims(X, axis=-1), Y, epochs=5)"
      ],
      "metadata": {
        "colab": {
          "base_uri": "https://localhost:8080/"
        },
        "id": "ubX_9SYR149W",
        "outputId": "92070e03-6c3c-49fa-f1d9-340137efc51e"
      },
      "execution_count": 12,
      "outputs": [
        {
          "output_type": "stream",
          "name": "stdout",
          "text": [
            "Epoch 1/5\n",
            "1/1 [==============================] - 1s 777ms/step - loss: 19.9077 - mae: 19.9077\n",
            "Epoch 2/5\n",
            "1/1 [==============================] - 0s 11ms/step - loss: 19.6265 - mae: 19.6265\n",
            "Epoch 3/5\n",
            "1/1 [==============================] - 0s 11ms/step - loss: 19.3452 - mae: 19.3452\n",
            "Epoch 4/5\n",
            "1/1 [==============================] - 0s 18ms/step - loss: 19.0640 - mae: 19.0640\n",
            "Epoch 5/5\n",
            "1/1 [==============================] - 0s 17ms/step - loss: 18.7827 - mae: 18.7827\n"
          ]
        },
        {
          "output_type": "execute_result",
          "data": {
            "text/plain": [
              "<keras.src.callbacks.History at 0x7de563716140>"
            ]
          },
          "metadata": {},
          "execution_count": 12
        }
      ]
    },
    {
      "cell_type": "code",
      "source": [
        "# Check our X and Y\n",
        "x, y"
      ],
      "metadata": {
        "colab": {
          "base_uri": "https://localhost:8080/"
        },
        "id": "1B1DsBlo9jYC",
        "outputId": "619390f9-923e-4863-fccd-0b237bbacfd3"
      },
      "execution_count": 13,
      "outputs": [
        {
          "output_type": "execute_result",
          "data": {
            "text/plain": [
              "(array([-7., -4., -1.,  2.,  5.,  8., 11., 14.]),\n",
              " array([ 3.,  6.,  9., 12., 15., 18., 21., 24.]))"
            ]
          },
          "metadata": {},
          "execution_count": 13
        }
      ]
    },
    {
      "cell_type": "code",
      "source": [
        "# Try make prediction\n",
        "model.predict([17.0])"
      ],
      "metadata": {
        "colab": {
          "base_uri": "https://localhost:8080/"
        },
        "id": "L4S19GPP9pXG",
        "outputId": "1ba4af8f-2b3e-486e-96b9-19d7b163d6fc"
      },
      "execution_count": 14,
      "outputs": [
        {
          "output_type": "stream",
          "name": "stdout",
          "text": [
            "1/1 [==============================] - 0s 189ms/step\n"
          ]
        },
        {
          "output_type": "execute_result",
          "data": {
            "text/plain": [
              "array([[-18.677422]], dtype=float32)"
            ]
          },
          "metadata": {},
          "execution_count": 14
        }
      ]
    },
    {
      "cell_type": "markdown",
      "source": [
        "## Improving our model\n",
        "\n",
        "We can improve our model, by altering the steps we took to create a model.\n",
        "\n",
        "1. **Creating a model** - ere we might add more layers, increse the number of hidden units (all called neurons) within each of the hidden layers, change the activation function of each layer.\n",
        "\n",
        "2. **Compiling a model** - here we might chang ethe optimization function or perhaps the **learning rate** of the optimization function.\n",
        "\n",
        "3. **Fitting a model** - here we might fit a model for more **epochs** (leave it training for longer) or on more data (give the model more examples to learn form)"
      ],
      "metadata": {
        "id": "Nq6KqLEo-HP4"
      }
    },
    {
      "cell_type": "code",
      "source": [
        "# Let's rebuild our model\n",
        "\n",
        "# 1. Create the model\n",
        "model1 = tf.keras.Sequential([\n",
        "    tf.keras.layers.Dense(1)\n",
        "])\n",
        "\n",
        "# 2. Compile the model\n",
        "model1.compile(loss = tf.keras.losses.mae,\n",
        "              optimizer = tf.keras.optimizers.SGD(),\n",
        "              metrics = [\"mae\"])\n",
        "\n",
        "# 3. Fit the model\n",
        "# model.fit(X, Y, epochs=5) # BREAK IN UPDATED TENSOR VERSION\n",
        "model1.fit(tf.expand_dims(X, axis=-1), Y, epochs=100)"
      ],
      "metadata": {
        "colab": {
          "base_uri": "https://localhost:8080/"
        },
        "id": "GPGzIvb2DLc2",
        "outputId": "6ffac746-adaa-4d13-9075-08a5099ae4b1"
      },
      "execution_count": 15,
      "outputs": [
        {
          "output_type": "stream",
          "name": "stdout",
          "text": [
            "Epoch 1/100\n",
            "1/1 [==============================] - 1s 680ms/step - loss: 16.8930 - mae: 16.8930\n",
            "Epoch 2/100\n",
            "1/1 [==============================] - 0s 15ms/step - loss: 16.6118 - mae: 16.6118\n",
            "Epoch 3/100\n",
            "1/1 [==============================] - 0s 15ms/step - loss: 16.3305 - mae: 16.3305\n",
            "Epoch 4/100\n",
            "1/1 [==============================] - 0s 17ms/step - loss: 16.0493 - mae: 16.0493\n",
            "Epoch 5/100\n",
            "1/1 [==============================] - 0s 12ms/step - loss: 15.7680 - mae: 15.7680\n",
            "Epoch 6/100\n",
            "1/1 [==============================] - 0s 17ms/step - loss: 15.4868 - mae: 15.4868\n",
            "Epoch 7/100\n",
            "1/1 [==============================] - 0s 18ms/step - loss: 15.2055 - mae: 15.2055\n",
            "Epoch 8/100\n",
            "1/1 [==============================] - 0s 10ms/step - loss: 14.9243 - mae: 14.9243\n",
            "Epoch 9/100\n",
            "1/1 [==============================] - 0s 12ms/step - loss: 14.7320 - mae: 14.7320\n",
            "Epoch 10/100\n",
            "1/1 [==============================] - 0s 10ms/step - loss: 14.5995 - mae: 14.5995\n",
            "Epoch 11/100\n",
            "1/1 [==============================] - 0s 11ms/step - loss: 14.4670 - mae: 14.4670\n",
            "Epoch 12/100\n",
            "1/1 [==============================] - 0s 15ms/step - loss: 14.3345 - mae: 14.3345\n",
            "Epoch 13/100\n",
            "1/1 [==============================] - 0s 14ms/step - loss: 14.2020 - mae: 14.2020\n",
            "Epoch 14/100\n",
            "1/1 [==============================] - 0s 15ms/step - loss: 14.0695 - mae: 14.0695\n",
            "Epoch 15/100\n",
            "1/1 [==============================] - 0s 13ms/step - loss: 13.9370 - mae: 13.9370\n",
            "Epoch 16/100\n",
            "1/1 [==============================] - 0s 11ms/step - loss: 13.8045 - mae: 13.8045\n",
            "Epoch 17/100\n",
            "1/1 [==============================] - 0s 10ms/step - loss: 13.6720 - mae: 13.6720\n",
            "Epoch 18/100\n",
            "1/1 [==============================] - 0s 10ms/step - loss: 13.5395 - mae: 13.5395\n",
            "Epoch 19/100\n",
            "1/1 [==============================] - 0s 10ms/step - loss: 13.4070 - mae: 13.4070\n",
            "Epoch 20/100\n",
            "1/1 [==============================] - 0s 11ms/step - loss: 13.2745 - mae: 13.2745\n",
            "Epoch 21/100\n",
            "1/1 [==============================] - 0s 12ms/step - loss: 13.1420 - mae: 13.1420\n",
            "Epoch 22/100\n",
            "1/1 [==============================] - 0s 11ms/step - loss: 13.0095 - mae: 13.0095\n",
            "Epoch 23/100\n",
            "1/1 [==============================] - 0s 14ms/step - loss: 12.8770 - mae: 12.8770\n",
            "Epoch 24/100\n",
            "1/1 [==============================] - 0s 10ms/step - loss: 12.7445 - mae: 12.7445\n",
            "Epoch 25/100\n",
            "1/1 [==============================] - 0s 12ms/step - loss: 12.6120 - mae: 12.6120\n",
            "Epoch 26/100\n",
            "1/1 [==============================] - 0s 14ms/step - loss: 12.4795 - mae: 12.4795\n",
            "Epoch 27/100\n",
            "1/1 [==============================] - 0s 11ms/step - loss: 12.3470 - mae: 12.3470\n",
            "Epoch 28/100\n",
            "1/1 [==============================] - 0s 19ms/step - loss: 12.2145 - mae: 12.2145\n",
            "Epoch 29/100\n",
            "1/1 [==============================] - 0s 16ms/step - loss: 12.0820 - mae: 12.0820\n",
            "Epoch 30/100\n",
            "1/1 [==============================] - 0s 16ms/step - loss: 11.9495 - mae: 11.9495\n",
            "Epoch 31/100\n",
            "1/1 [==============================] - 0s 13ms/step - loss: 11.8170 - mae: 11.8170\n",
            "Epoch 32/100\n",
            "1/1 [==============================] - 0s 15ms/step - loss: 11.6845 - mae: 11.6845\n",
            "Epoch 33/100\n",
            "1/1 [==============================] - 0s 14ms/step - loss: 11.5520 - mae: 11.5520\n",
            "Epoch 34/100\n",
            "1/1 [==============================] - 0s 15ms/step - loss: 11.4195 - mae: 11.4195\n",
            "Epoch 35/100\n",
            "1/1 [==============================] - 0s 12ms/step - loss: 11.2870 - mae: 11.2870\n",
            "Epoch 36/100\n",
            "1/1 [==============================] - 0s 17ms/step - loss: 11.1545 - mae: 11.1545\n",
            "Epoch 37/100\n",
            "1/1 [==============================] - 0s 12ms/step - loss: 11.0220 - mae: 11.0220\n",
            "Epoch 38/100\n",
            "1/1 [==============================] - 0s 10ms/step - loss: 10.8895 - mae: 10.8895\n",
            "Epoch 39/100\n",
            "1/1 [==============================] - 0s 12ms/step - loss: 10.7570 - mae: 10.7570\n",
            "Epoch 40/100\n",
            "1/1 [==============================] - 0s 12ms/step - loss: 10.6245 - mae: 10.6245\n",
            "Epoch 41/100\n",
            "1/1 [==============================] - 0s 13ms/step - loss: 10.4920 - mae: 10.4920\n",
            "Epoch 42/100\n",
            "1/1 [==============================] - 0s 13ms/step - loss: 10.3595 - mae: 10.3595\n",
            "Epoch 43/100\n",
            "1/1 [==============================] - 0s 16ms/step - loss: 10.2270 - mae: 10.2270\n",
            "Epoch 44/100\n",
            "1/1 [==============================] - 0s 12ms/step - loss: 10.0945 - mae: 10.0945\n",
            "Epoch 45/100\n",
            "1/1 [==============================] - 0s 12ms/step - loss: 9.9620 - mae: 9.9620\n",
            "Epoch 46/100\n",
            "1/1 [==============================] - 0s 15ms/step - loss: 9.8295 - mae: 9.8295\n",
            "Epoch 47/100\n",
            "1/1 [==============================] - 0s 13ms/step - loss: 9.6970 - mae: 9.6970\n",
            "Epoch 48/100\n",
            "1/1 [==============================] - 0s 21ms/step - loss: 9.5645 - mae: 9.5645\n",
            "Epoch 49/100\n",
            "1/1 [==============================] - 0s 14ms/step - loss: 9.4320 - mae: 9.4320\n",
            "Epoch 50/100\n",
            "1/1 [==============================] - 0s 13ms/step - loss: 9.2995 - mae: 9.2995\n",
            "Epoch 51/100\n",
            "1/1 [==============================] - 0s 13ms/step - loss: 9.1670 - mae: 9.1670\n",
            "Epoch 52/100\n",
            "1/1 [==============================] - 0s 13ms/step - loss: 9.0345 - mae: 9.0345\n",
            "Epoch 53/100\n",
            "1/1 [==============================] - 0s 16ms/step - loss: 8.9020 - mae: 8.9020\n",
            "Epoch 54/100\n",
            "1/1 [==============================] - 0s 12ms/step - loss: 8.7695 - mae: 8.7695\n",
            "Epoch 55/100\n",
            "1/1 [==============================] - 0s 10ms/step - loss: 8.6370 - mae: 8.6370\n",
            "Epoch 56/100\n",
            "1/1 [==============================] - 0s 11ms/step - loss: 8.5045 - mae: 8.5045\n",
            "Epoch 57/100\n",
            "1/1 [==============================] - 0s 10ms/step - loss: 8.3720 - mae: 8.3720\n",
            "Epoch 58/100\n",
            "1/1 [==============================] - 0s 15ms/step - loss: 8.2395 - mae: 8.2395\n",
            "Epoch 59/100\n",
            "1/1 [==============================] - 0s 14ms/step - loss: 8.1070 - mae: 8.1070\n",
            "Epoch 60/100\n",
            "1/1 [==============================] - 0s 12ms/step - loss: 7.9745 - mae: 7.9745\n",
            "Epoch 61/100\n",
            "1/1 [==============================] - 0s 12ms/step - loss: 7.8420 - mae: 7.8420\n",
            "Epoch 62/100\n",
            "1/1 [==============================] - 0s 12ms/step - loss: 7.7095 - mae: 7.7095\n",
            "Epoch 63/100\n",
            "1/1 [==============================] - 0s 10ms/step - loss: 7.5770 - mae: 7.5770\n",
            "Epoch 64/100\n",
            "1/1 [==============================] - 0s 18ms/step - loss: 7.4445 - mae: 7.4445\n",
            "Epoch 65/100\n",
            "1/1 [==============================] - 0s 11ms/step - loss: 7.3120 - mae: 7.3120\n",
            "Epoch 66/100\n",
            "1/1 [==============================] - 0s 12ms/step - loss: 7.1795 - mae: 7.1795\n",
            "Epoch 67/100\n",
            "1/1 [==============================] - 0s 11ms/step - loss: 7.0470 - mae: 7.0470\n",
            "Epoch 68/100\n",
            "1/1 [==============================] - 0s 11ms/step - loss: 7.0125 - mae: 7.0125\n",
            "Epoch 69/100\n",
            "1/1 [==============================] - 0s 13ms/step - loss: 7.0069 - mae: 7.0069\n",
            "Epoch 70/100\n",
            "1/1 [==============================] - 0s 13ms/step - loss: 7.0013 - mae: 7.0013\n",
            "Epoch 71/100\n",
            "1/1 [==============================] - 0s 11ms/step - loss: 6.9956 - mae: 6.9956\n",
            "Epoch 72/100\n",
            "1/1 [==============================] - 0s 11ms/step - loss: 6.9900 - mae: 6.9900\n",
            "Epoch 73/100\n",
            "1/1 [==============================] - 0s 11ms/step - loss: 6.9844 - mae: 6.9844\n",
            "Epoch 74/100\n",
            "1/1 [==============================] - 0s 12ms/step - loss: 6.9788 - mae: 6.9788\n",
            "Epoch 75/100\n",
            "1/1 [==============================] - 0s 19ms/step - loss: 6.9731 - mae: 6.9731\n",
            "Epoch 76/100\n",
            "1/1 [==============================] - 0s 13ms/step - loss: 6.9675 - mae: 6.9675\n",
            "Epoch 77/100\n",
            "1/1 [==============================] - 0s 12ms/step - loss: 6.9619 - mae: 6.9619\n",
            "Epoch 78/100\n",
            "1/1 [==============================] - 0s 11ms/step - loss: 6.9563 - mae: 6.9563\n",
            "Epoch 79/100\n",
            "1/1 [==============================] - 0s 12ms/step - loss: 6.9506 - mae: 6.9506\n",
            "Epoch 80/100\n",
            "1/1 [==============================] - 0s 16ms/step - loss: 6.9450 - mae: 6.9450\n",
            "Epoch 81/100\n",
            "1/1 [==============================] - 0s 17ms/step - loss: 6.9394 - mae: 6.9394\n",
            "Epoch 82/100\n",
            "1/1 [==============================] - 0s 11ms/step - loss: 6.9338 - mae: 6.9338\n",
            "Epoch 83/100\n",
            "1/1 [==============================] - 0s 11ms/step - loss: 6.9281 - mae: 6.9281\n",
            "Epoch 84/100\n",
            "1/1 [==============================] - 0s 10ms/step - loss: 6.9225 - mae: 6.9225\n",
            "Epoch 85/100\n",
            "1/1 [==============================] - 0s 12ms/step - loss: 6.9169 - mae: 6.9169\n",
            "Epoch 86/100\n",
            "1/1 [==============================] - 0s 17ms/step - loss: 6.9113 - mae: 6.9113\n",
            "Epoch 87/100\n",
            "1/1 [==============================] - 0s 13ms/step - loss: 6.9056 - mae: 6.9056\n",
            "Epoch 88/100\n",
            "1/1 [==============================] - 0s 10ms/step - loss: 6.9000 - mae: 6.9000\n",
            "Epoch 89/100\n",
            "1/1 [==============================] - 0s 22ms/step - loss: 6.8944 - mae: 6.8944\n",
            "Epoch 90/100\n",
            "1/1 [==============================] - 0s 17ms/step - loss: 6.8888 - mae: 6.8888\n",
            "Epoch 91/100\n",
            "1/1 [==============================] - 0s 15ms/step - loss: 6.8831 - mae: 6.8831\n",
            "Epoch 92/100\n",
            "1/1 [==============================] - 0s 16ms/step - loss: 6.8775 - mae: 6.8775\n",
            "Epoch 93/100\n",
            "1/1 [==============================] - 0s 11ms/step - loss: 6.8719 - mae: 6.8719\n",
            "Epoch 94/100\n",
            "1/1 [==============================] - 0s 10ms/step - loss: 6.8663 - mae: 6.8663\n",
            "Epoch 95/100\n",
            "1/1 [==============================] - 0s 11ms/step - loss: 6.8606 - mae: 6.8606\n",
            "Epoch 96/100\n",
            "1/1 [==============================] - 0s 10ms/step - loss: 6.8550 - mae: 6.8550\n",
            "Epoch 97/100\n",
            "1/1 [==============================] - 0s 10ms/step - loss: 6.8494 - mae: 6.8494\n",
            "Epoch 98/100\n",
            "1/1 [==============================] - 0s 9ms/step - loss: 6.8438 - mae: 6.8438\n",
            "Epoch 99/100\n",
            "1/1 [==============================] - 0s 9ms/step - loss: 6.8381 - mae: 6.8381\n",
            "Epoch 100/100\n",
            "1/1 [==============================] - 0s 9ms/step - loss: 6.8325 - mae: 6.8325\n"
          ]
        },
        {
          "output_type": "execute_result",
          "data": {
            "text/plain": [
              "<keras.src.callbacks.History at 0x7de5602c4550>"
            ]
          },
          "metadata": {},
          "execution_count": 15
        }
      ]
    },
    {
      "cell_type": "code",
      "source": [
        "# Try make prediction\n",
        "model1.predict([17.0])"
      ],
      "metadata": {
        "colab": {
          "base_uri": "https://localhost:8080/"
        },
        "id": "4kMA7oidBuHG",
        "outputId": "5167bbdb-9fa7-4ff4-b396-d00b903f2905"
      },
      "execution_count": 16,
      "outputs": [
        {
          "output_type": "stream",
          "name": "stdout",
          "text": [
            "1/1 [==============================] - 0s 89ms/step\n"
          ]
        },
        {
          "output_type": "execute_result",
          "data": {
            "text/plain": [
              "array([[29.726944]], dtype=float32)"
            ]
          },
          "metadata": {},
          "execution_count": 16
        }
      ]
    },
    {
      "cell_type": "code",
      "source": [
        "# re-write the model by my self and improve one thing to get better\n",
        "\n",
        "# 1. Create the model\n",
        "model2 = tf.keras.Sequential([\n",
        "    tf.keras.layers.Dense(1)\n",
        "])\n",
        "\n",
        "# 2. Compile the model\n",
        "model2.compile(loss = tf.keras.losses.mae,\n",
        "              optimizer = tf.keras.optimizers.Adam(learning_rate=0.001), # chang the optimizers from SGD to adam\n",
        "              metrics = [\"mae\"])\n",
        "\n",
        "# 3. Fit the model\n",
        "# model.fit(X, Y, epochs=5) # BREAK IN UPDATED TENSOR VERSION\n",
        "model2.fit(tf.expand_dims(X, axis=-1), Y, epochs=100)"
      ],
      "metadata": {
        "colab": {
          "base_uri": "https://localhost:8080/"
        },
        "id": "gdwbhbhmJVPx",
        "outputId": "8316536a-8827-479f-9dfe-eeebbf79755a"
      },
      "execution_count": 17,
      "outputs": [
        {
          "output_type": "stream",
          "name": "stdout",
          "text": [
            "Epoch 1/100\n",
            "1/1 [==============================] - 1s 902ms/step - loss: 14.5743 - mae: 14.5743\n",
            "Epoch 2/100\n",
            "1/1 [==============================] - 0s 12ms/step - loss: 14.5698 - mae: 14.5698\n",
            "Epoch 3/100\n",
            "1/1 [==============================] - 0s 12ms/step - loss: 14.5653 - mae: 14.5653\n",
            "Epoch 4/100\n",
            "1/1 [==============================] - 0s 18ms/step - loss: 14.5608 - mae: 14.5608\n",
            "Epoch 5/100\n",
            "1/1 [==============================] - 0s 21ms/step - loss: 14.5563 - mae: 14.5563\n",
            "Epoch 6/100\n",
            "1/1 [==============================] - 0s 38ms/step - loss: 14.5518 - mae: 14.5518\n",
            "Epoch 7/100\n",
            "1/1 [==============================] - 0s 31ms/step - loss: 14.5473 - mae: 14.5473\n",
            "Epoch 8/100\n",
            "1/1 [==============================] - 0s 58ms/step - loss: 14.5428 - mae: 14.5428\n",
            "Epoch 9/100\n",
            "1/1 [==============================] - 0s 29ms/step - loss: 14.5383 - mae: 14.5383\n",
            "Epoch 10/100\n",
            "1/1 [==============================] - 0s 26ms/step - loss: 14.5338 - mae: 14.5338\n",
            "Epoch 11/100\n",
            "1/1 [==============================] - 0s 22ms/step - loss: 14.5293 - mae: 14.5293\n",
            "Epoch 12/100\n",
            "1/1 [==============================] - 0s 25ms/step - loss: 14.5248 - mae: 14.5248\n",
            "Epoch 13/100\n",
            "1/1 [==============================] - 0s 27ms/step - loss: 14.5203 - mae: 14.5203\n",
            "Epoch 14/100\n",
            "1/1 [==============================] - 0s 25ms/step - loss: 14.5158 - mae: 14.5158\n",
            "Epoch 15/100\n",
            "1/1 [==============================] - 0s 30ms/step - loss: 14.5113 - mae: 14.5113\n",
            "Epoch 16/100\n",
            "1/1 [==============================] - 0s 25ms/step - loss: 14.5068 - mae: 14.5068\n",
            "Epoch 17/100\n",
            "1/1 [==============================] - 0s 43ms/step - loss: 14.5023 - mae: 14.5023\n",
            "Epoch 18/100\n",
            "1/1 [==============================] - 0s 19ms/step - loss: 14.4978 - mae: 14.4978\n",
            "Epoch 19/100\n",
            "1/1 [==============================] - 0s 23ms/step - loss: 14.4933 - mae: 14.4933\n",
            "Epoch 20/100\n",
            "1/1 [==============================] - 0s 30ms/step - loss: 14.4888 - mae: 14.4888\n",
            "Epoch 21/100\n",
            "1/1 [==============================] - 0s 20ms/step - loss: 14.4843 - mae: 14.4843\n",
            "Epoch 22/100\n",
            "1/1 [==============================] - 0s 25ms/step - loss: 14.4798 - mae: 14.4798\n",
            "Epoch 23/100\n",
            "1/1 [==============================] - 0s 26ms/step - loss: 14.4753 - mae: 14.4753\n",
            "Epoch 24/100\n",
            "1/1 [==============================] - 0s 18ms/step - loss: 14.4708 - mae: 14.4708\n",
            "Epoch 25/100\n",
            "1/1 [==============================] - 0s 17ms/step - loss: 14.4663 - mae: 14.4663\n",
            "Epoch 26/100\n",
            "1/1 [==============================] - 0s 26ms/step - loss: 14.4618 - mae: 14.4618\n",
            "Epoch 27/100\n",
            "1/1 [==============================] - 0s 18ms/step - loss: 14.4573 - mae: 14.4573\n",
            "Epoch 28/100\n",
            "1/1 [==============================] - 0s 21ms/step - loss: 14.4528 - mae: 14.4528\n",
            "Epoch 29/100\n",
            "1/1 [==============================] - 0s 18ms/step - loss: 14.4483 - mae: 14.4483\n",
            "Epoch 30/100\n",
            "1/1 [==============================] - 0s 19ms/step - loss: 14.4438 - mae: 14.4438\n",
            "Epoch 31/100\n",
            "1/1 [==============================] - 0s 17ms/step - loss: 14.4393 - mae: 14.4393\n",
            "Epoch 32/100\n",
            "1/1 [==============================] - 0s 19ms/step - loss: 14.4348 - mae: 14.4348\n",
            "Epoch 33/100\n",
            "1/1 [==============================] - 0s 25ms/step - loss: 14.4303 - mae: 14.4303\n",
            "Epoch 34/100\n",
            "1/1 [==============================] - 0s 27ms/step - loss: 14.4258 - mae: 14.4258\n",
            "Epoch 35/100\n",
            "1/1 [==============================] - 0s 25ms/step - loss: 14.4213 - mae: 14.4213\n",
            "Epoch 36/100\n",
            "1/1 [==============================] - 0s 32ms/step - loss: 14.4168 - mae: 14.4168\n",
            "Epoch 37/100\n",
            "1/1 [==============================] - 0s 23ms/step - loss: 14.4123 - mae: 14.4123\n",
            "Epoch 38/100\n",
            "1/1 [==============================] - 0s 32ms/step - loss: 14.4078 - mae: 14.4078\n",
            "Epoch 39/100\n",
            "1/1 [==============================] - 0s 23ms/step - loss: 14.4033 - mae: 14.4033\n",
            "Epoch 40/100\n",
            "1/1 [==============================] - 0s 26ms/step - loss: 14.3988 - mae: 14.3988\n",
            "Epoch 41/100\n",
            "1/1 [==============================] - 0s 21ms/step - loss: 14.3943 - mae: 14.3943\n",
            "Epoch 42/100\n",
            "1/1 [==============================] - 0s 31ms/step - loss: 14.3898 - mae: 14.3898\n",
            "Epoch 43/100\n",
            "1/1 [==============================] - 0s 20ms/step - loss: 14.3853 - mae: 14.3853\n",
            "Epoch 44/100\n",
            "1/1 [==============================] - 0s 15ms/step - loss: 14.3808 - mae: 14.3808\n",
            "Epoch 45/100\n",
            "1/1 [==============================] - 0s 25ms/step - loss: 14.3763 - mae: 14.3763\n",
            "Epoch 46/100\n",
            "1/1 [==============================] - 0s 19ms/step - loss: 14.3718 - mae: 14.3718\n",
            "Epoch 47/100\n",
            "1/1 [==============================] - 0s 27ms/step - loss: 14.3673 - mae: 14.3673\n",
            "Epoch 48/100\n",
            "1/1 [==============================] - 0s 30ms/step - loss: 14.3628 - mae: 14.3628\n",
            "Epoch 49/100\n",
            "1/1 [==============================] - 0s 76ms/step - loss: 14.3583 - mae: 14.3583\n",
            "Epoch 50/100\n",
            "1/1 [==============================] - 0s 31ms/step - loss: 14.3538 - mae: 14.3538\n",
            "Epoch 51/100\n",
            "1/1 [==============================] - 0s 22ms/step - loss: 14.3493 - mae: 14.3493\n",
            "Epoch 52/100\n",
            "1/1 [==============================] - 0s 33ms/step - loss: 14.3448 - mae: 14.3448\n",
            "Epoch 53/100\n",
            "1/1 [==============================] - 0s 21ms/step - loss: 14.3403 - mae: 14.3403\n",
            "Epoch 54/100\n",
            "1/1 [==============================] - 0s 29ms/step - loss: 14.3358 - mae: 14.3358\n",
            "Epoch 55/100\n",
            "1/1 [==============================] - 0s 10ms/step - loss: 14.3313 - mae: 14.3313\n",
            "Epoch 56/100\n",
            "1/1 [==============================] - 0s 48ms/step - loss: 14.3268 - mae: 14.3268\n",
            "Epoch 57/100\n",
            "1/1 [==============================] - 0s 32ms/step - loss: 14.3223 - mae: 14.3223\n",
            "Epoch 58/100\n",
            "1/1 [==============================] - 0s 19ms/step - loss: 14.3178 - mae: 14.3178\n",
            "Epoch 59/100\n",
            "1/1 [==============================] - 0s 25ms/step - loss: 14.3133 - mae: 14.3133\n",
            "Epoch 60/100\n",
            "1/1 [==============================] - 0s 25ms/step - loss: 14.3088 - mae: 14.3088\n",
            "Epoch 61/100\n",
            "1/1 [==============================] - 0s 32ms/step - loss: 14.3043 - mae: 14.3043\n",
            "Epoch 62/100\n",
            "1/1 [==============================] - 0s 19ms/step - loss: 14.2998 - mae: 14.2998\n",
            "Epoch 63/100\n",
            "1/1 [==============================] - 0s 17ms/step - loss: 14.2953 - mae: 14.2953\n",
            "Epoch 64/100\n",
            "1/1 [==============================] - 0s 20ms/step - loss: 14.2908 - mae: 14.2908\n",
            "Epoch 65/100\n",
            "1/1 [==============================] - 0s 26ms/step - loss: 14.2863 - mae: 14.2863\n",
            "Epoch 66/100\n",
            "1/1 [==============================] - 0s 17ms/step - loss: 14.2818 - mae: 14.2818\n",
            "Epoch 67/100\n",
            "1/1 [==============================] - 0s 33ms/step - loss: 14.2773 - mae: 14.2773\n",
            "Epoch 68/100\n",
            "1/1 [==============================] - 0s 12ms/step - loss: 14.2728 - mae: 14.2728\n",
            "Epoch 69/100\n",
            "1/1 [==============================] - 0s 11ms/step - loss: 14.2683 - mae: 14.2683\n",
            "Epoch 70/100\n",
            "1/1 [==============================] - 0s 12ms/step - loss: 14.2638 - mae: 14.2638\n",
            "Epoch 71/100\n",
            "1/1 [==============================] - 0s 12ms/step - loss: 14.2593 - mae: 14.2593\n",
            "Epoch 72/100\n",
            "1/1 [==============================] - 0s 11ms/step - loss: 14.2548 - mae: 14.2548\n",
            "Epoch 73/100\n",
            "1/1 [==============================] - 0s 10ms/step - loss: 14.2503 - mae: 14.2503\n",
            "Epoch 74/100\n",
            "1/1 [==============================] - 0s 17ms/step - loss: 14.2458 - mae: 14.2458\n",
            "Epoch 75/100\n",
            "1/1 [==============================] - 0s 48ms/step - loss: 14.2413 - mae: 14.2413\n",
            "Epoch 76/100\n",
            "1/1 [==============================] - 0s 15ms/step - loss: 14.2368 - mae: 14.2368\n",
            "Epoch 77/100\n",
            "1/1 [==============================] - 0s 23ms/step - loss: 14.2323 - mae: 14.2323\n",
            "Epoch 78/100\n",
            "1/1 [==============================] - 0s 16ms/step - loss: 14.2278 - mae: 14.2278\n",
            "Epoch 79/100\n",
            "1/1 [==============================] - 0s 24ms/step - loss: 14.2233 - mae: 14.2233\n",
            "Epoch 80/100\n",
            "1/1 [==============================] - 0s 16ms/step - loss: 14.2188 - mae: 14.2188\n",
            "Epoch 81/100\n",
            "1/1 [==============================] - 0s 16ms/step - loss: 14.2143 - mae: 14.2143\n",
            "Epoch 82/100\n",
            "1/1 [==============================] - 0s 15ms/step - loss: 14.2098 - mae: 14.2098\n",
            "Epoch 83/100\n",
            "1/1 [==============================] - 0s 17ms/step - loss: 14.2053 - mae: 14.2053\n",
            "Epoch 84/100\n",
            "1/1 [==============================] - 0s 34ms/step - loss: 14.2008 - mae: 14.2008\n",
            "Epoch 85/100\n",
            "1/1 [==============================] - 0s 24ms/step - loss: 14.1963 - mae: 14.1963\n",
            "Epoch 86/100\n",
            "1/1 [==============================] - 0s 22ms/step - loss: 14.1918 - mae: 14.1918\n",
            "Epoch 87/100\n",
            "1/1 [==============================] - 0s 24ms/step - loss: 14.1873 - mae: 14.1873\n",
            "Epoch 88/100\n",
            "1/1 [==============================] - 0s 30ms/step - loss: 14.1828 - mae: 14.1828\n",
            "Epoch 89/100\n",
            "1/1 [==============================] - 0s 30ms/step - loss: 14.1783 - mae: 14.1783\n",
            "Epoch 90/100\n",
            "1/1 [==============================] - 0s 14ms/step - loss: 14.1738 - mae: 14.1738\n",
            "Epoch 91/100\n",
            "1/1 [==============================] - 0s 47ms/step - loss: 14.1693 - mae: 14.1693\n",
            "Epoch 92/100\n",
            "1/1 [==============================] - 0s 22ms/step - loss: 14.1648 - mae: 14.1648\n",
            "Epoch 93/100\n",
            "1/1 [==============================] - 0s 34ms/step - loss: 14.1603 - mae: 14.1603\n",
            "Epoch 94/100\n",
            "1/1 [==============================] - 0s 51ms/step - loss: 14.1558 - mae: 14.1558\n",
            "Epoch 95/100\n",
            "1/1 [==============================] - 0s 26ms/step - loss: 14.1513 - mae: 14.1513\n",
            "Epoch 96/100\n",
            "1/1 [==============================] - 0s 14ms/step - loss: 14.1468 - mae: 14.1468\n",
            "Epoch 97/100\n",
            "1/1 [==============================] - 0s 32ms/step - loss: 14.1423 - mae: 14.1423\n",
            "Epoch 98/100\n",
            "1/1 [==============================] - 0s 32ms/step - loss: 14.1378 - mae: 14.1378\n",
            "Epoch 99/100\n",
            "1/1 [==============================] - 0s 16ms/step - loss: 14.1333 - mae: 14.1333\n",
            "Epoch 100/100\n",
            "1/1 [==============================] - 0s 11ms/step - loss: 14.1288 - mae: 14.1288\n"
          ]
        },
        {
          "output_type": "execute_result",
          "data": {
            "text/plain": [
              "<keras.src.callbacks.History at 0x7de56011aa70>"
            ]
          },
          "metadata": {},
          "execution_count": 17
        }
      ]
    },
    {
      "cell_type": "code",
      "source": [
        "# Try make prediction\n",
        "model2.predict([17.0])"
      ],
      "metadata": {
        "colab": {
          "base_uri": "https://localhost:8080/"
        },
        "id": "QeWEo95_J5Gg",
        "outputId": "19f92177-0516-4231-c2d1-5dca05256586"
      },
      "execution_count": 18,
      "outputs": [
        {
          "output_type": "stream",
          "name": "stdout",
          "text": [
            "1/1 [==============================] - 0s 230ms/step\n"
          ]
        },
        {
          "output_type": "execute_result",
          "data": {
            "text/plain": [
              "array([[-3.4181113]], dtype=float32)"
            ]
          },
          "metadata": {},
          "execution_count": 18
        }
      ]
    },
    {
      "cell_type": "code",
      "source": [
        "# re-write the model\n",
        "\n",
        "# 1. Create the model (with 100 hidden units )\n",
        "model3 = tf.keras.Sequential([\n",
        "    tf.keras.layers.Dense(50, activation=None),\n",
        "    tf.keras.layers.Dense(1)\n",
        "])\n",
        "\n",
        "# 2. Compile the model\n",
        "model3.compile(loss = \"mae\",\n",
        "              optimizer = tf.keras.optimizers.Adam(learning_rate = 0.01),\n",
        "              metrics = [\"mae\"])\n",
        "\n",
        "# 3. Fit the model\n",
        "# model.fit(X, Y, epochs=5) # BREAK IN UPDATED TENSOR VERSION\n",
        "model3.fit(tf.expand_dims(X, axis=-1), Y, epochs=100)"
      ],
      "metadata": {
        "colab": {
          "base_uri": "https://localhost:8080/"
        },
        "id": "KI1XF166hgOa",
        "outputId": "7ea72eea-75e4-4649-9a42-5d2780dd87e2"
      },
      "execution_count": 19,
      "outputs": [
        {
          "output_type": "stream",
          "name": "stdout",
          "text": [
            "Epoch 1/100\n",
            "1/1 [==============================] - 2s 2s/step - loss: 13.3066 - mae: 13.3066\n",
            "Epoch 2/100\n",
            "1/1 [==============================] - 0s 18ms/step - loss: 12.6272 - mae: 12.6272\n",
            "Epoch 3/100\n",
            "1/1 [==============================] - 0s 15ms/step - loss: 11.9382 - mae: 11.9382\n",
            "Epoch 4/100\n",
            "1/1 [==============================] - 0s 20ms/step - loss: 11.2388 - mae: 11.2388\n",
            "Epoch 5/100\n",
            "1/1 [==============================] - 0s 14ms/step - loss: 10.5279 - mae: 10.5279\n",
            "Epoch 6/100\n",
            "1/1 [==============================] - 0s 11ms/step - loss: 9.8042 - mae: 9.8042\n",
            "Epoch 7/100\n",
            "1/1 [==============================] - 0s 14ms/step - loss: 9.0663 - mae: 9.0663\n",
            "Epoch 8/100\n",
            "1/1 [==============================] - 0s 14ms/step - loss: 8.3126 - mae: 8.3126\n",
            "Epoch 9/100\n",
            "1/1 [==============================] - 0s 26ms/step - loss: 7.5410 - mae: 7.5410\n",
            "Epoch 10/100\n",
            "1/1 [==============================] - 0s 27ms/step - loss: 6.7988 - mae: 6.7988\n",
            "Epoch 11/100\n",
            "1/1 [==============================] - 0s 31ms/step - loss: 6.7748 - mae: 6.7748\n",
            "Epoch 12/100\n",
            "1/1 [==============================] - 0s 26ms/step - loss: 7.0618 - mae: 7.0618\n",
            "Epoch 13/100\n",
            "1/1 [==============================] - 0s 30ms/step - loss: 7.2316 - mae: 7.2316\n",
            "Epoch 14/100\n",
            "1/1 [==============================] - 0s 24ms/step - loss: 7.3271 - mae: 7.3271\n",
            "Epoch 15/100\n",
            "1/1 [==============================] - 0s 23ms/step - loss: 7.2771 - mae: 7.2771\n",
            "Epoch 16/100\n",
            "1/1 [==============================] - 0s 18ms/step - loss: 7.0842 - mae: 7.0842\n",
            "Epoch 17/100\n",
            "1/1 [==============================] - 0s 23ms/step - loss: 6.8882 - mae: 6.8882\n",
            "Epoch 18/100\n",
            "1/1 [==============================] - 0s 25ms/step - loss: 6.6604 - mae: 6.6604\n",
            "Epoch 19/100\n",
            "1/1 [==============================] - 0s 20ms/step - loss: 6.4073 - mae: 6.4073\n",
            "Epoch 20/100\n",
            "1/1 [==============================] - 0s 23ms/step - loss: 6.1344 - mae: 6.1344\n",
            "Epoch 21/100\n",
            "1/1 [==============================] - 0s 26ms/step - loss: 6.0798 - mae: 6.0798\n",
            "Epoch 22/100\n",
            "1/1 [==============================] - 0s 29ms/step - loss: 6.0469 - mae: 6.0469\n",
            "Epoch 23/100\n",
            "1/1 [==============================] - 0s 27ms/step - loss: 6.1346 - mae: 6.1346\n",
            "Epoch 24/100\n",
            "1/1 [==============================] - 0s 31ms/step - loss: 6.1088 - mae: 6.1088\n",
            "Epoch 25/100\n",
            "1/1 [==============================] - 0s 19ms/step - loss: 5.9849 - mae: 5.9849\n",
            "Epoch 26/100\n",
            "1/1 [==============================] - 0s 22ms/step - loss: 5.7738 - mae: 5.7738\n",
            "Epoch 27/100\n",
            "1/1 [==============================] - 0s 20ms/step - loss: 5.6196 - mae: 5.6196\n",
            "Epoch 28/100\n",
            "1/1 [==============================] - 0s 26ms/step - loss: 5.5144 - mae: 5.5144\n",
            "Epoch 29/100\n",
            "1/1 [==============================] - 0s 25ms/step - loss: 5.4088 - mae: 5.4088\n",
            "Epoch 30/100\n",
            "1/1 [==============================] - 0s 31ms/step - loss: 5.3974 - mae: 5.3974\n",
            "Epoch 31/100\n",
            "1/1 [==============================] - 0s 33ms/step - loss: 5.3401 - mae: 5.3401\n",
            "Epoch 32/100\n",
            "1/1 [==============================] - 0s 26ms/step - loss: 5.2409 - mae: 5.2409\n",
            "Epoch 33/100\n",
            "1/1 [==============================] - 0s 25ms/step - loss: 5.1038 - mae: 5.1038\n",
            "Epoch 34/100\n",
            "1/1 [==============================] - 0s 22ms/step - loss: 4.9354 - mae: 4.9354\n",
            "Epoch 35/100\n",
            "1/1 [==============================] - 0s 30ms/step - loss: 4.8432 - mae: 4.8432\n",
            "Epoch 36/100\n",
            "1/1 [==============================] - 0s 28ms/step - loss: 4.7447 - mae: 4.7447\n",
            "Epoch 37/100\n",
            "1/1 [==============================] - 0s 31ms/step - loss: 4.6398 - mae: 4.6398\n",
            "Epoch 38/100\n",
            "1/1 [==============================] - 0s 19ms/step - loss: 4.5283 - mae: 4.5283\n",
            "Epoch 39/100\n",
            "1/1 [==============================] - 0s 21ms/step - loss: 4.4100 - mae: 4.4100\n",
            "Epoch 40/100\n",
            "1/1 [==============================] - 0s 20ms/step - loss: 4.2848 - mae: 4.2848\n",
            "Epoch 41/100\n",
            "1/1 [==============================] - 0s 25ms/step - loss: 4.1525 - mae: 4.1525\n",
            "Epoch 42/100\n",
            "1/1 [==============================] - 0s 24ms/step - loss: 4.0128 - mae: 4.0128\n",
            "Epoch 43/100\n",
            "1/1 [==============================] - 0s 30ms/step - loss: 3.8656 - mae: 3.8656\n",
            "Epoch 44/100\n",
            "1/1 [==============================] - 0s 20ms/step - loss: 3.7106 - mae: 3.7106\n",
            "Epoch 45/100\n",
            "1/1 [==============================] - 0s 24ms/step - loss: 3.5476 - mae: 3.5476\n",
            "Epoch 46/100\n",
            "1/1 [==============================] - 0s 19ms/step - loss: 3.3763 - mae: 3.3763\n",
            "Epoch 47/100\n",
            "1/1 [==============================] - 0s 32ms/step - loss: 3.2408 - mae: 3.2408\n",
            "Epoch 48/100\n",
            "1/1 [==============================] - 0s 29ms/step - loss: 3.0610 - mae: 3.0610\n",
            "Epoch 49/100\n",
            "1/1 [==============================] - 0s 24ms/step - loss: 2.8490 - mae: 2.8490\n",
            "Epoch 50/100\n",
            "1/1 [==============================] - 0s 21ms/step - loss: 2.6660 - mae: 2.6660\n",
            "Epoch 51/100\n",
            "1/1 [==============================] - 0s 22ms/step - loss: 2.4719 - mae: 2.4719\n",
            "Epoch 52/100\n",
            "1/1 [==============================] - 0s 23ms/step - loss: 2.2665 - mae: 2.2665\n",
            "Epoch 53/100\n",
            "1/1 [==============================] - 0s 26ms/step - loss: 2.0495 - mae: 2.0495\n",
            "Epoch 54/100\n",
            "1/1 [==============================] - 0s 24ms/step - loss: 1.8209 - mae: 1.8209\n",
            "Epoch 55/100\n",
            "1/1 [==============================] - 0s 62ms/step - loss: 1.5804 - mae: 1.5804\n",
            "Epoch 56/100\n",
            "1/1 [==============================] - 0s 14ms/step - loss: 1.3278 - mae: 1.3278\n",
            "Epoch 57/100\n",
            "1/1 [==============================] - 0s 24ms/step - loss: 1.0629 - mae: 1.0629\n",
            "Epoch 58/100\n",
            "1/1 [==============================] - 0s 18ms/step - loss: 0.8086 - mae: 0.8086\n",
            "Epoch 59/100\n",
            "1/1 [==============================] - 0s 26ms/step - loss: 0.5108 - mae: 0.5108\n",
            "Epoch 60/100\n",
            "1/1 [==============================] - 0s 15ms/step - loss: 0.2614 - mae: 0.2614\n",
            "Epoch 61/100\n",
            "1/1 [==============================] - 0s 40ms/step - loss: 0.2041 - mae: 0.2041\n",
            "Epoch 62/100\n",
            "1/1 [==============================] - 0s 15ms/step - loss: 0.3351 - mae: 0.3351\n",
            "Epoch 63/100\n",
            "1/1 [==============================] - 0s 28ms/step - loss: 0.6389 - mae: 0.6389\n",
            "Epoch 64/100\n",
            "1/1 [==============================] - 0s 28ms/step - loss: 0.6804 - mae: 0.6804\n",
            "Epoch 65/100\n",
            "1/1 [==============================] - 0s 14ms/step - loss: 0.8797 - mae: 0.8797\n",
            "Epoch 66/100\n",
            "1/1 [==============================] - 0s 43ms/step - loss: 0.9070 - mae: 0.9070\n",
            "Epoch 67/100\n",
            "1/1 [==============================] - 0s 45ms/step - loss: 0.7909 - mae: 0.7909\n",
            "Epoch 68/100\n",
            "1/1 [==============================] - 0s 10ms/step - loss: 0.7907 - mae: 0.7907\n",
            "Epoch 69/100\n",
            "1/1 [==============================] - 0s 19ms/step - loss: 0.6870 - mae: 0.6870\n",
            "Epoch 70/100\n",
            "1/1 [==============================] - 0s 11ms/step - loss: 0.6341 - mae: 0.6341\n",
            "Epoch 71/100\n",
            "1/1 [==============================] - 0s 21ms/step - loss: 0.4672 - mae: 0.4672\n",
            "Epoch 72/100\n",
            "1/1 [==============================] - 0s 23ms/step - loss: 0.4491 - mae: 0.4491\n",
            "Epoch 73/100\n",
            "1/1 [==============================] - 0s 20ms/step - loss: 0.2780 - mae: 0.2780\n",
            "Epoch 74/100\n",
            "1/1 [==============================] - 0s 24ms/step - loss: 0.2285 - mae: 0.2285\n",
            "Epoch 75/100\n",
            "1/1 [==============================] - 0s 23ms/step - loss: 0.2641 - mae: 0.2641\n",
            "Epoch 76/100\n",
            "1/1 [==============================] - 0s 20ms/step - loss: 0.3121 - mae: 0.3121\n",
            "Epoch 77/100\n",
            "1/1 [==============================] - 0s 30ms/step - loss: 0.4147 - mae: 0.4147\n",
            "Epoch 78/100\n",
            "1/1 [==============================] - 0s 13ms/step - loss: 0.3330 - mae: 0.3330\n",
            "Epoch 79/100\n",
            "1/1 [==============================] - 0s 19ms/step - loss: 0.4257 - mae: 0.4257\n",
            "Epoch 80/100\n",
            "1/1 [==============================] - 0s 37ms/step - loss: 0.4131 - mae: 0.4131\n",
            "Epoch 81/100\n",
            "1/1 [==============================] - 0s 15ms/step - loss: 0.1985 - mae: 0.1985\n",
            "Epoch 82/100\n",
            "1/1 [==============================] - 0s 24ms/step - loss: 0.2782 - mae: 0.2782\n",
            "Epoch 83/100\n",
            "1/1 [==============================] - 0s 31ms/step - loss: 0.2427 - mae: 0.2427\n",
            "Epoch 84/100\n",
            "1/1 [==============================] - 0s 26ms/step - loss: 0.1150 - mae: 0.1150\n",
            "Epoch 85/100\n",
            "1/1 [==============================] - 0s 28ms/step - loss: 0.2158 - mae: 0.2158\n",
            "Epoch 86/100\n",
            "1/1 [==============================] - 0s 31ms/step - loss: 0.1381 - mae: 0.1381\n",
            "Epoch 87/100\n",
            "1/1 [==============================] - 0s 28ms/step - loss: 0.3327 - mae: 0.3327\n",
            "Epoch 88/100\n",
            "1/1 [==============================] - 0s 30ms/step - loss: 0.2943 - mae: 0.2943\n",
            "Epoch 89/100\n",
            "1/1 [==============================] - 0s 24ms/step - loss: 0.0788 - mae: 0.0788\n",
            "Epoch 90/100\n",
            "1/1 [==============================] - 0s 23ms/step - loss: 0.1854 - mae: 0.1854\n",
            "Epoch 91/100\n",
            "1/1 [==============================] - 0s 29ms/step - loss: 0.0996 - mae: 0.0996\n",
            "Epoch 92/100\n",
            "1/1 [==============================] - 0s 37ms/step - loss: 0.1104 - mae: 0.1104\n",
            "Epoch 93/100\n",
            "1/1 [==============================] - 0s 24ms/step - loss: 0.1806 - mae: 0.1806\n",
            "Epoch 94/100\n",
            "1/1 [==============================] - 0s 22ms/step - loss: 0.0743 - mae: 0.0743\n",
            "Epoch 95/100\n",
            "1/1 [==============================] - 0s 25ms/step - loss: 0.2971 - mae: 0.2971\n",
            "Epoch 96/100\n",
            "1/1 [==============================] - 0s 19ms/step - loss: 0.3264 - mae: 0.3264\n",
            "Epoch 97/100\n",
            "1/1 [==============================] - 0s 25ms/step - loss: 0.0804 - mae: 0.0804\n",
            "Epoch 98/100\n",
            "1/1 [==============================] - 0s 24ms/step - loss: 0.4067 - mae: 0.4067\n",
            "Epoch 99/100\n",
            "1/1 [==============================] - 0s 26ms/step - loss: 0.5134 - mae: 0.5134\n",
            "Epoch 100/100\n",
            "1/1 [==============================] - 0s 25ms/step - loss: 0.3266 - mae: 0.3266\n"
          ]
        },
        {
          "output_type": "execute_result",
          "data": {
            "text/plain": [
              "<keras.src.callbacks.History at 0x7de5587388b0>"
            ]
          },
          "metadata": {},
          "execution_count": 19
        }
      ]
    },
    {
      "cell_type": "code",
      "source": [
        "# Try make prediction\n",
        "model3.predict([17.0])"
      ],
      "metadata": {
        "colab": {
          "base_uri": "https://localhost:8080/"
        },
        "id": "iZcXS1vmiusq",
        "outputId": "8596580c-0574-4727-a96f-700ef304c0c0"
      },
      "execution_count": 20,
      "outputs": [
        {
          "output_type": "stream",
          "name": "stdout",
          "text": [
            "1/1 [==============================] - 0s 102ms/step\n"
          ]
        },
        {
          "output_type": "execute_result",
          "data": {
            "text/plain": [
              "array([[26.67374]], dtype=float32)"
            ]
          },
          "metadata": {},
          "execution_count": 20
        }
      ]
    },
    {
      "cell_type": "markdown",
      "source": [
        "## Evaluating Model\n",
        "\n",
        "Build a model -> fit it -> evaluate it -> tweak a model -> fit it -> evaluate it...\n",
        "\n",
        "Evaluation = visualize\n",
        "\n",
        "it's good idea to visualize :\n",
        "* The data - what data we working with? what does it look like?\n",
        "* The model = what does our model look like?\n",
        "* The training of a model - how does a model perform while it learns?\n",
        "* The predictions of the model - how do the predictions of a model line up against the ground truth (the origin label)"
      ],
      "metadata": {
        "id": "ggu1CbXFlSbl"
      }
    },
    {
      "cell_type": "code",
      "source": [
        "# Make a bigger dataset\n",
        "\n",
        "x = tf.range(-100, 100, 4)\n",
        "x"
      ],
      "metadata": {
        "colab": {
          "base_uri": "https://localhost:8080/"
        },
        "id": "O5yDk0J9lV5n",
        "outputId": "13aa15cf-894f-41ea-aba5-350032728e11"
      },
      "execution_count": 21,
      "outputs": [
        {
          "output_type": "execute_result",
          "data": {
            "text/plain": [
              "<tf.Tensor: shape=(50,), dtype=int32, numpy=\n",
              "array([-100,  -96,  -92,  -88,  -84,  -80,  -76,  -72,  -68,  -64,  -60,\n",
              "        -56,  -52,  -48,  -44,  -40,  -36,  -32,  -28,  -24,  -20,  -16,\n",
              "        -12,   -8,   -4,    0,    4,    8,   12,   16,   20,   24,   28,\n",
              "         32,   36,   40,   44,   48,   52,   56,   60,   64,   68,   72,\n",
              "         76,   80,   84,   88,   92,   96], dtype=int32)>"
            ]
          },
          "metadata": {},
          "execution_count": 21
        }
      ]
    },
    {
      "cell_type": "code",
      "source": [
        "# Make labels for the dataset\n",
        "\n",
        "y = x + 10\n",
        "y"
      ],
      "metadata": {
        "colab": {
          "base_uri": "https://localhost:8080/"
        },
        "id": "_VnV5iodqYP8",
        "outputId": "4ba6d8e4-c3fd-4d3e-cbd5-f54eb32996d1"
      },
      "execution_count": 22,
      "outputs": [
        {
          "output_type": "execute_result",
          "data": {
            "text/plain": [
              "<tf.Tensor: shape=(50,), dtype=int32, numpy=\n",
              "array([-90, -86, -82, -78, -74, -70, -66, -62, -58, -54, -50, -46, -42,\n",
              "       -38, -34, -30, -26, -22, -18, -14, -10,  -6,  -2,   2,   6,  10,\n",
              "        14,  18,  22,  26,  30,  34,  38,  42,  46,  50,  54,  58,  62,\n",
              "        66,  70,  74,  78,  82,  86,  90,  94,  98, 102, 106], dtype=int32)>"
            ]
          },
          "metadata": {},
          "execution_count": 22
        }
      ]
    },
    {
      "cell_type": "code",
      "source": [
        "# Visualize the data\n",
        "\n",
        "import matplotlib.pyplot as plt\n",
        "\n",
        "plt.scatter(x, y)"
      ],
      "metadata": {
        "colab": {
          "base_uri": "https://localhost:8080/",
          "height": 447
        },
        "id": "wqnieOnpqiby",
        "outputId": "008e77a7-2e60-4291-c8e5-107ef1551ed0"
      },
      "execution_count": 23,
      "outputs": [
        {
          "output_type": "execute_result",
          "data": {
            "text/plain": [
              "<matplotlib.collections.PathCollection at 0x7de558f78c40>"
            ]
          },
          "metadata": {},
          "execution_count": 23
        },
        {
          "output_type": "display_data",
          "data": {
            "text/plain": [
              "<Figure size 640x480 with 1 Axes>"
            ],
            "image/png": "[encoded data removed]"
          },
          "metadata": {}
        }
      ]
    },
    {
      "cell_type": "markdown",
      "source": [
        "### The 3 sets\n",
        "\n",
        "* **Training set** - the model learn from this data, 70-80%\n",
        "* **Validation set** - set model gets tuned on this data, 10-15%\n",
        "* **Test set** - the model gets evaluated on this data, 10-15%"
      ],
      "metadata": {
        "id": "CCtd3h36q0Xk"
      }
    },
    {
      "cell_type": "code",
      "source": [
        "# Check the length of the data\n",
        "len(x)"
      ],
      "metadata": {
        "colab": {
          "base_uri": "https://localhost:8080/"
        },
        "id": "2_ITjQWjFQsM",
        "outputId": "e63e92b6-c943-44a6-b60e-8104d821f4d1"
      },
      "execution_count": 24,
      "outputs": [
        {
          "output_type": "execute_result",
          "data": {
            "text/plain": [
              "50"
            ]
          },
          "metadata": {},
          "execution_count": 24
        }
      ]
    },
    {
      "cell_type": "code",
      "source": [
        "# Split the data into train and test sets\n",
        "x_train = x[:40] # first to 40 data will be the training sample\n",
        "y_train = y[:40]\n",
        "\n",
        "x_test = x[40:] # 20% will be test\n",
        "y_test = y[40:]\n",
        "\n",
        "len(x_train), len(x_test), len(y_train), len(y_test)"
      ],
      "metadata": {
        "colab": {
          "base_uri": "https://localhost:8080/"
        },
        "id": "4fkIFEl_HAu3",
        "outputId": "1345b608-fdb1-42c9-f244-a7c426cfeeb0"
      },
      "execution_count": 25,
      "outputs": [
        {
          "output_type": "execute_result",
          "data": {
            "text/plain": [
              "(40, 10, 40, 10)"
            ]
          },
          "metadata": {},
          "execution_count": 25
        }
      ]
    },
    {
      "cell_type": "markdown",
      "source": [
        "### Visualing the data\n",
        "\n",
        "Now we've got out data in training and test sets...lets visualize it"
      ],
      "metadata": {
        "id": "9WJ9AtA0KgLL"
      }
    },
    {
      "cell_type": "code",
      "source": [
        "plt.figure(figsize=(10,7))\n",
        "\n",
        "# Plot training data in blue\n",
        "plt.scatter(x_train, y_train, c=\"b\", label=\"Training data\")\n",
        "\n",
        "# Plot test data in green\n",
        "plt.scatter(x_test, y_test, c=\"g\", label=\"Testing data\")\n",
        "\n",
        "# Show a legend\n",
        "plt.legend();"
      ],
      "metadata": {
        "colab": {
          "base_uri": "https://localhost:8080/",
          "height": 486
        },
        "id": "OQGu_de6G_li",
        "outputId": "f10e8682-cbab-4846-8716-98e5a81a5517"
      },
      "execution_count": 26,
      "outputs": [
        {
          "output_type": "display_data",
          "data": {
            "text/plain": [
              "<Figure size 1000x700 with 1 Axes>"
            ],
            "image/png": "[encoded data removed]"
          },
          "metadata": {}
        }
      ]
    },
    {
      "cell_type": "code",
      "source": [
        "# Lets have a look at how to build a neural network for our data\n",
        "\n",
        "# 1. Create the model\n",
        "model = tf.keras.Sequential([\n",
        "    tf.keras.layers.Dense(1)\n",
        "])\n",
        "\n",
        "# 2. Compile the model\n",
        "model.compile(loss = tf.keras.losses.mae,\n",
        "              optimizer = tf.keras.optimizers.SGD(),\n",
        "              metrics = [\"mae\"])\n",
        "\n",
        "# 3. Fit the model\n",
        "#model.fit(tf.expand_dims(x_train, axis=-1), y_train, epochs=100)"
      ],
      "metadata": {
        "id": "TtdWZXKHSSN-"
      },
      "execution_count": 27,
      "outputs": []
    },
    {
      "cell_type": "markdown",
      "source": [
        "### Visualizing the model"
      ],
      "metadata": {
        "id": "F7d7P08yTScA"
      }
    },
    {
      "cell_type": "code",
      "source": [
        "# Lets create  model wich builds automatically by defining the input_shape arguments\n",
        "\n",
        "tf.random.set_seed(42)\n",
        "\n",
        "# 1. Create the model\n",
        "model_1 = tf.keras.Sequential([\n",
        "    tf.keras.layers.Dense(100, input_shape=[1], name=\"input_layer\"),\n",
        "    tf.keras.layers.Dense(1, name=\"output_layer\")\n",
        "], name=\"model_one\")\n",
        "\n",
        "# 2. Compile the model\n",
        "model_1.compile(loss = tf.keras.losses.mae,\n",
        "              optimizer = tf.keras.optimizers.SGD(),\n",
        "              metrics = [\"mae\"])"
      ],
      "metadata": {
        "id": "MpSA6LxwTzZK"
      },
      "execution_count": 28,
      "outputs": []
    },
    {
      "cell_type": "code",
      "source": [
        "model_1.summary()"
      ],
      "metadata": {
        "colab": {
          "base_uri": "https://localhost:8080/"
        },
        "id": "-jMC9-6WUyLw",
        "outputId": "eb448101-f215-4f8b-ba30-32f3c65a2fa5"
      },
      "execution_count": 29,
      "outputs": [
        {
          "output_type": "stream",
          "name": "stdout",
          "text": [
            "Model: \"model_one\"\n",
            "_________________________________________________________________\n",
            " Layer (type)                Output Shape              Param #   \n",
            "=================================================================\n",
            " input_layer (Dense)         (None, 100)               200       \n",
            "                                                                 \n",
            " output_layer (Dense)        (None, 1)                 101       \n",
            "                                                                 \n",
            "=================================================================\n",
            "Total params: 301 (1.18 KB)\n",
            "Trainable params: 301 (1.18 KB)\n",
            "Non-trainable params: 0 (0.00 Byte)\n",
            "_________________________________________________________________\n"
          ]
        }
      ]
    },
    {
      "cell_type": "markdown",
      "source": [
        "* Total params - total number of parameters that we have\n",
        "\n",
        "* Trainable parameters - the parameters (patterns) the model can update as it trains\n",
        "\n",
        "* Non-trainable params - parameters cant updated during training (allready learn in models during **transfer learning**)\n",
        "\n",
        "📚 **Resource** : For a more in depth overview of the trainable parameters within a layer, check ouy MIT's intorduction to deep learning video\n",
        "\n",
        "⚡**Exercise :** Try playing around with the number of hidden units in the dense layer, see how that effect the number of parameters"
      ],
      "metadata": {
        "id": "fkeG27Fm3_t1"
      }
    },
    {
      "cell_type": "code",
      "source": [
        "# 3. Fit the model\n",
        "model_1.fit(tf.expand_dims(x_train, axis=-1), y_train, epochs=60, verbose=0)"
      ],
      "metadata": {
        "colab": {
          "base_uri": "https://localhost:8080/"
        },
        "id": "e-cgkHtW6914",
        "outputId": "42026efe-a7d9-4f3e-be2a-9e96562d444a"
      },
      "execution_count": 30,
      "outputs": [
        {
          "output_type": "execute_result",
          "data": {
            "text/plain": [
              "<keras.src.callbacks.History at 0x7de558a44940>"
            ]
          },
          "metadata": {},
          "execution_count": 30
        }
      ]
    },
    {
      "cell_type": "code",
      "source": [
        "# Get a summary of our model\n",
        "model_1.summary()"
      ],
      "metadata": {
        "colab": {
          "base_uri": "https://localhost:8080/"
        },
        "id": "IYam8Kl-M2o7",
        "outputId": "7041d9ab-7f46-41b1-b845-bd859f25c463"
      },
      "execution_count": 31,
      "outputs": [
        {
          "output_type": "stream",
          "name": "stdout",
          "text": [
            "Model: \"model_one\"\n",
            "_________________________________________________________________\n",
            " Layer (type)                Output Shape              Param #   \n",
            "=================================================================\n",
            " input_layer (Dense)         (None, 100)               200       \n",
            "                                                                 \n",
            " output_layer (Dense)        (None, 1)                 101       \n",
            "                                                                 \n",
            "=================================================================\n",
            "Total params: 301 (1.18 KB)\n",
            "Trainable params: 301 (1.18 KB)\n",
            "Non-trainable params: 0 (0.00 Byte)\n",
            "_________________________________________________________________\n"
          ]
        }
      ]
    },
    {
      "cell_type": "code",
      "source": [
        "from tensorflow.keras.utils import plot_model\n",
        "\n",
        "plot_model(model=model_1, show_shapes=True)"
      ],
      "metadata": {
        "colab": {
          "base_uri": "https://localhost:8080/",
          "height": 312
        },
        "id": "EMxErQE0NVSc",
        "outputId": "44d151de-94a1-42b9-9b41-be0f4c360e2b"
      },
      "execution_count": 32,
      "outputs": [
        {
          "output_type": "execute_result",
          "data": {
            "image/png": "[encoded data removed]",
            "text/plain": [
              "<IPython.core.display.Image object>"
            ]
          },
          "metadata": {},
          "execution_count": 32
        }
      ]
    },
    {
      "cell_type": "markdown",
      "source": [
        "### Visualizing our models predictions\n",
        "\n",
        "To visualize predictions, it's a good idea to plot them against the ground truth labels.\n",
        "\n",
        "Often you'll see this in the form of 'y_test' or 'y_true' versus 'y_pred' (ground truth versus your model prediction)"
      ],
      "metadata": {
        "id": "XXOFpjXFOyH9"
      }
    },
    {
      "cell_type": "code",
      "source": [
        "# Make some predictions\n",
        "\n",
        "y_pred = model_1.predict(x_test)\n",
        "y_pred"
      ],
      "metadata": {
        "colab": {
          "base_uri": "https://localhost:8080/"
        },
        "id": "943XbXEayJf3",
        "outputId": "50b7f288-64bf-4a1d-c773-e566b5bc07ca"
      },
      "execution_count": 33,
      "outputs": [
        {
          "output_type": "stream",
          "name": "stderr",
          "text": [
            "WARNING:tensorflow:5 out of the last 5 calls to <function Model.make_predict_function.<locals>.predict_function at 0x7de559758310> triggered tf.function retracing. Tracing is expensive and the excessive number of tracings could be due to (1) creating @tf.function repeatedly in a loop, (2) passing tensors with different shapes, (3) passing Python objects instead of tensors. For (1), please define your @tf.function outside of the loop. For (2), @tf.function has reduce_retracing=True option that can avoid unnecessary retracing. For (3), please refer to https://www.tensorflow.org/guide/function#controlling_retracing and https://www.tensorflow.org/api_docs/python/tf/function for  more details.\n"
          ]
        },
        {
          "output_type": "stream",
          "name": "stdout",
          "text": [
            "1/1 [==============================] - 0s 171ms/step\n"
          ]
        },
        {
          "output_type": "execute_result",
          "data": {
            "text/plain": [
              "array([[ 73.6277 ],\n",
              "       [ 78.46896],\n",
              "       [ 83.31023],\n",
              "       [ 88.15149],\n",
              "       [ 92.99276],\n",
              "       [ 97.83404],\n",
              "       [102.67529],\n",
              "       [107.51658],\n",
              "       [112.35784],\n",
              "       [117.1991 ]], dtype=float32)"
            ]
          },
          "metadata": {},
          "execution_count": 33
        }
      ]
    },
    {
      "cell_type": "code",
      "source": [
        "y_test"
      ],
      "metadata": {
        "colab": {
          "base_uri": "https://localhost:8080/"
        },
        "id": "Ke-R5lq9zVa3",
        "outputId": "44ca0fea-836e-4010-9b65-7eac27ccb11f"
      },
      "execution_count": 34,
      "outputs": [
        {
          "output_type": "execute_result",
          "data": {
            "text/plain": [
              "<tf.Tensor: shape=(10,), dtype=int32, numpy=array([ 70,  74,  78,  82,  86,  90,  94,  98, 102, 106], dtype=int32)>"
            ]
          },
          "metadata": {},
          "execution_count": 34
        }
      ]
    },
    {
      "cell_type": "markdown",
      "source": [
        "🔑 **Note : ** if you feel like you're going to reuse some functionality in the future, its good idea to turn it into a fucntion"
      ],
      "metadata": {
        "id": "nSO6jWAR09Jt"
      }
    },
    {
      "cell_type": "code",
      "source": [
        "# Lets create a plotting function\n",
        "\n",
        "def plot_predictions(train_data=x_train,\n",
        "                     train_labels=y_train,\n",
        "                     test_data=x_test,\n",
        "                     test_labels=y_test,\n",
        "                     predictions=y_pred):\n",
        "  \"\"\"\n",
        "  Plots training data, test data and compares predictions to ground truth labels\n",
        "  \"\"\"\n",
        "  plt.figure(figsize=(10,7))\n",
        "  # Plot training data in blue\n",
        "  plt.scatter(train_data, train_labels, c=\"b\", label=\"Training data\")\n",
        "\n",
        "  # Plot testing data in green\n",
        "  plt.scatter(test_data, test_labels, c=\"g\", label=\"Test data\")\n",
        "\n",
        "  # Plot models predictions in red\n",
        "  plt.scatter(test_data, predictions, c=\"r\", label=\"Predictions\")\n",
        "\n",
        "  # Show the legend\n",
        "  plt.legend()\n",
        "\n"
      ],
      "metadata": {
        "id": "Wt-qJvPk1MAh"
      },
      "execution_count": 35,
      "outputs": []
    },
    {
      "cell_type": "code",
      "source": [
        "plot_predictions()"
      ],
      "metadata": {
        "colab": {
          "base_uri": "https://localhost:8080/",
          "height": 481
        },
        "id": "7ZFYZPV5200S",
        "outputId": "1bbd1cec-cba0-40b7-f090-4f732d91f920"
      },
      "execution_count": 36,
      "outputs": [
        {
          "output_type": "display_data",
          "data": {
            "text/plain": [
              "<Figure size 1000x700 with 1 Axes>"
            ],
            "image/png": "[encoded data removed]"
          },
          "metadata": {}
        }
      ]
    },
    {
      "cell_type": "markdown",
      "source": [
        "### Evaluating our models predictions with regression evaluation metrics\n",
        "\n",
        "The evaluation metrics is depending to the model we working on\n",
        "\n",
        "since we're working on a regression, two of the main matrics:\n",
        "* MAE - mean absolute error, \"on average, how wrong is each of my model predictions\"\n",
        "\n",
        "* MSE - mean square error, \"square the average errors\""
      ],
      "metadata": {
        "id": "xWQ92ZRr4V_K"
      }
    },
    {
      "cell_type": "code",
      "source": [
        " # Evaluate the model on the test\n",
        " model_1.evaluate(x_test, y_test)"
      ],
      "metadata": {
        "id": "y3-bYOHr0p-A",
        "colab": {
          "base_uri": "https://localhost:8080/"
        },
        "outputId": "8ff1bfd0-9fd9-44e2-f2d7-9682fbbd2e15"
      },
      "execution_count": 37,
      "outputs": [
        {
          "output_type": "stream",
          "name": "stdout",
          "text": [
            "1/1 [==============================] - 0s 356ms/step - loss: 7.4134 - mae: 7.4134\n"
          ]
        },
        {
          "output_type": "execute_result",
          "data": {
            "text/plain": [
              "[7.413393497467041, 7.413393497467041]"
            ]
          },
          "metadata": {},
          "execution_count": 37
        }
      ]
    },
    {
      "cell_type": "code",
      "source": [
        "# Calculate the mean absolute error\n",
        "mae = tf.metrics.mean_absolute_error(y_true=y_test, y_pred=tf.constant(y_pred))\n",
        "mae"
      ],
      "metadata": {
        "colab": {
          "base_uri": "https://localhost:8080/"
        },
        "id": "bAwZ_yTfPV4C",
        "outputId": "3fda99cb-3ac9-4a5b-c275-095fc5ae105b"
      },
      "execution_count": 38,
      "outputs": [
        {
          "output_type": "execute_result",
          "data": {
            "text/plain": [
              "<tf.Tensor: shape=(10,), dtype=float32, numpy=\n",
              "array([15.097839, 12.212415, 10.537954, 10.      , 10.598552, 12.333615,\n",
              "       15.340235, 19.516579, 24.357841, 29.199097], dtype=float32)>"
            ]
          },
          "metadata": {},
          "execution_count": 38
        }
      ]
    },
    {
      "cell_type": "code",
      "source": [
        "tf.constant(y_pred)"
      ],
      "metadata": {
        "colab": {
          "base_uri": "https://localhost:8080/"
        },
        "id": "v6CpJX1IPiwj",
        "outputId": "88a9bd5b-2001-453b-bb4a-7fa4315dc9d8"
      },
      "execution_count": 39,
      "outputs": [
        {
          "output_type": "execute_result",
          "data": {
            "text/plain": [
              "<tf.Tensor: shape=(10, 1), dtype=float32, numpy=\n",
              "array([[ 73.6277 ],\n",
              "       [ 78.46896],\n",
              "       [ 83.31023],\n",
              "       [ 88.15149],\n",
              "       [ 92.99276],\n",
              "       [ 97.83404],\n",
              "       [102.67529],\n",
              "       [107.51658],\n",
              "       [112.35784],\n",
              "       [117.1991 ]], dtype=float32)>"
            ]
          },
          "metadata": {},
          "execution_count": 39
        }
      ]
    },
    {
      "cell_type": "code",
      "source": [
        "y_test"
      ],
      "metadata": {
        "colab": {
          "base_uri": "https://localhost:8080/"
        },
        "id": "JusnDI5oPlKR",
        "outputId": "28718eff-96ef-4bf7-9e63-8a0ec766dd22"
      },
      "execution_count": 40,
      "outputs": [
        {
          "output_type": "execute_result",
          "data": {
            "text/plain": [
              "<tf.Tensor: shape=(10,), dtype=int32, numpy=array([ 70,  74,  78,  82,  86,  90,  94,  98, 102, 106], dtype=int32)>"
            ]
          },
          "metadata": {},
          "execution_count": 40
        }
      ]
    },
    {
      "cell_type": "code",
      "source": [
        "tf.squeeze(y_pred)"
      ],
      "metadata": {
        "colab": {
          "base_uri": "https://localhost:8080/"
        },
        "id": "WqQJPNiwyi56",
        "outputId": "7ef999dd-0045-47dd-965d-dafa39700f6c"
      },
      "execution_count": 41,
      "outputs": [
        {
          "output_type": "execute_result",
          "data": {
            "text/plain": [
              "<tf.Tensor: shape=(10,), dtype=float32, numpy=\n",
              "array([ 73.6277 ,  78.46896,  83.31023,  88.15149,  92.99276,  97.83404,\n",
              "       102.67529, 107.51658, 112.35784, 117.1991 ], dtype=float32)>"
            ]
          },
          "metadata": {},
          "execution_count": 41
        }
      ]
    },
    {
      "cell_type": "code",
      "source": [
        "# Calculate the mean absolute error\n",
        "\n",
        "mae = tf.metrics.mean_absolute_error(y_true=y_test, y_pred=tf.squeeze(y_pred))\n",
        "\n",
        "mae"
      ],
      "metadata": {
        "colab": {
          "base_uri": "https://localhost:8080/"
        },
        "id": "uUT4LV7uypPs",
        "outputId": "dc354907-25aa-492e-f53d-17d42097db47"
      },
      "execution_count": 42,
      "outputs": [
        {
          "output_type": "execute_result",
          "data": {
            "text/plain": [
              "<tf.Tensor: shape=(), dtype=float32, numpy=7.4133987>"
            ]
          },
          "metadata": {},
          "execution_count": 42
        }
      ]
    },
    {
      "cell_type": "code",
      "source": [
        "# Calculate the mean square error\n",
        "\n",
        "mse = tf.metrics.mean_squared_error(y_true=y_test, y_pred=tf.squeeze(y_pred))\n",
        "mse"
      ],
      "metadata": {
        "id": "QpelDvIC2Nvg",
        "colab": {
          "base_uri": "https://localhost:8080/"
        },
        "outputId": "ca87ce3b-2484-4e35-830b-da57904ab671"
      },
      "execution_count": 43,
      "outputs": [
        {
          "output_type": "execute_result",
          "data": {
            "text/plain": [
              "<tf.Tensor: shape=(), dtype=float32, numpy=60.797264>"
            ]
          },
          "metadata": {},
          "execution_count": 43
        }
      ]
    },
    {
      "cell_type": "code",
      "source": [
        "# Make fucntion to reuse MAE and MSE\n",
        "def mae(y_true, y_pred):\n",
        "  return tf.metrics.mean_absolute_error(y_true=y_true,\n",
        "                                      y_pred=tf.squeeze(y_pred))\n",
        "\n",
        "def mse(y_true,y_pred):\n",
        "  return tf.metrics.mean_squared_error(y_true=y_true,\n",
        "                                       y_pred=tf.squeeze(y_pred))"
      ],
      "metadata": {
        "id": "oCsUvdVW2yQL"
      },
      "execution_count": 44,
      "outputs": []
    },
    {
      "cell_type": "markdown",
      "source": [
        "### Running experiments to improve our model\n",
        "\n",
        "1. Get more data - get more example for model\n",
        "\n",
        "2. Make your model larger (using a more complex model) - matbe more layers or hidden units\n",
        "\n",
        "3. Train for longer - give model more chance to find patterns in data\n",
        "\n",
        "Let's do 3 modelling experiment L\n",
        "\n",
        "1. 'model_1' - same as the origin, 1 layer, trained for 100 epochs\n",
        "\n",
        "2. 'model_2' - 2 layers, trained for 100 epochs\n",
        "\n",
        "3. 'model_3' - 2 layers, rained for 500 epochs"
      ],
      "metadata": {
        "id": "U73RgqjhN1Gb"
      }
    },
    {
      "cell_type": "code",
      "source": [
        "x_train, y_train"
      ],
      "metadata": {
        "colab": {
          "base_uri": "https://localhost:8080/"
        },
        "id": "ZRYFc01nOexa",
        "outputId": "3672b54c-3d14-4255-956a-afa931fc8ebd"
      },
      "execution_count": 45,
      "outputs": [
        {
          "output_type": "execute_result",
          "data": {
            "text/plain": [
              "(<tf.Tensor: shape=(40,), dtype=int32, numpy=\n",
              " array([-100,  -96,  -92,  -88,  -84,  -80,  -76,  -72,  -68,  -64,  -60,\n",
              "         -56,  -52,  -48,  -44,  -40,  -36,  -32,  -28,  -24,  -20,  -16,\n",
              "         -12,   -8,   -4,    0,    4,    8,   12,   16,   20,   24,   28,\n",
              "          32,   36,   40,   44,   48,   52,   56], dtype=int32)>,\n",
              " <tf.Tensor: shape=(40,), dtype=int32, numpy=\n",
              " array([-90, -86, -82, -78, -74, -70, -66, -62, -58, -54, -50, -46, -42,\n",
              "        -38, -34, -30, -26, -22, -18, -14, -10,  -6,  -2,   2,   6,  10,\n",
              "         14,  18,  22,  26,  30,  34,  38,  42,  46,  50,  54,  58,  62,\n",
              "         66], dtype=int32)>)"
            ]
          },
          "metadata": {},
          "execution_count": 45
        }
      ]
    },
    {
      "cell_type": "code",
      "source": [
        "# First build model_1\n",
        "\n",
        "# Ser random seed\n",
        "tf.random.set_seed(42)\n",
        "\n",
        "# 1. Create the model\n",
        "model_1 = tf.keras.Sequential([\n",
        "    tf.keras.layers.Dense(1)\n",
        "])\n",
        "\n",
        "# 2. Compile the model\n",
        "model_1.compile(loss=tf.keras.losses.mae,\n",
        "                optimizer=tf.keras.optimizers.SGD(),\n",
        "                metrics=[\"mae\"],\n",
        "                run_eagerly=True)\n",
        "\n",
        "# 3. FIt the model\n",
        "model_1.fit(tf.expand_dims(x_train, axis=-1), y_train, epochs=100, verbose=0)"
      ],
      "metadata": {
        "colab": {
          "base_uri": "https://localhost:8080/"
        },
        "id": "Bm7GqWOpN77n",
        "outputId": "e2351fbd-f261-49f9-ab11-67230cbb49ea"
      },
      "execution_count": 46,
      "outputs": [
        {
          "output_type": "execute_result",
          "data": {
            "text/plain": [
              "<keras.src.callbacks.History at 0x7de5597eeda0>"
            ]
          },
          "metadata": {},
          "execution_count": 46
        }
      ]
    },
    {
      "cell_type": "code",
      "source": [
        "model_1.predict(tf.reshape(x_test, shape=(-1,1)))"
      ],
      "metadata": {
        "colab": {
          "base_uri": "https://localhost:8080/"
        },
        "id": "vvrhWzRwTr-8",
        "outputId": "2a255b66-2f0e-4b3c-d36f-9c2dae246ded"
      },
      "execution_count": 47,
      "outputs": [
        {
          "output_type": "stream",
          "name": "stdout",
          "text": [
            "1/1 [==============================] - 0s 53ms/step\n"
          ]
        },
        {
          "output_type": "execute_result",
          "data": {
            "text/plain": [
              "array([[44.430534],\n",
              "       [47.30607 ],\n",
              "       [50.181602],\n",
              "       [53.05714 ],\n",
              "       [55.932674],\n",
              "       [58.808212],\n",
              "       [61.683746],\n",
              "       [64.55928 ],\n",
              "       [67.434814],\n",
              "       [70.31035 ]], dtype=float32)"
            ]
          },
          "metadata": {},
          "execution_count": 47
        }
      ]
    },
    {
      "cell_type": "code",
      "source": [
        "# Make a plot predictions for model_1\n",
        "\n",
        "# x_test = tf.reshape(x_test, shape=(-1,1))\n",
        "\n",
        "y_preds_1 = model_1.predict(tf.reshape(x_test, shape=(-1,1)))\n",
        "plot_predictions(predictions=y_preds_1)"
      ],
      "metadata": {
        "colab": {
          "base_uri": "https://localhost:8080/",
          "height": 503
        },
        "id": "-VTt2FvCQK0C",
        "outputId": "056dd6f2-0f84-4aea-8b83-20b56b26e7c7"
      },
      "execution_count": 48,
      "outputs": [
        {
          "output_type": "stream",
          "name": "stdout",
          "text": [
            "1/1 [==============================] - 0s 21ms/step\n"
          ]
        },
        {
          "output_type": "display_data",
          "data": {
            "text/plain": [
              "<Figure size 1000x700 with 1 Axes>"
            ],
            "image/png": "[encoded data removed]"
          },
          "metadata": {}
        }
      ]
    },
    {
      "cell_type": "code",
      "source": [
        "# Calculate model_1 evaluation metrics\n",
        "\n",
        "mae_1 = mae(y_test, y_preds_1)\n",
        "mse_1 = mse(y_test, y_preds_1)\n",
        "\n",
        "mae_1, mse_1"
      ],
      "metadata": {
        "colab": {
          "base_uri": "https://localhost:8080/"
        },
        "id": "3u6Og5EaqZEp",
        "outputId": "a58fea0d-35b5-4063-82ed-34a2a0647de0"
      },
      "execution_count": 49,
      "outputs": [
        {
          "output_type": "execute_result",
          "data": {
            "text/plain": [
              "(<tf.Tensor: shape=(), dtype=float32, numpy=30.629559>,\n",
              " <tf.Tensor: shape=(), dtype=float32, numpy=948.6014>)"
            ]
          },
          "metadata": {},
          "execution_count": 49
        }
      ]
    },
    {
      "cell_type": "markdown",
      "source": [
        "**Build model_2**\n",
        "\n",
        "* 2 dense layers, trained for 100 epochs"
      ],
      "metadata": {
        "id": "3IG91oWhsu7n"
      }
    },
    {
      "cell_type": "code",
      "source": [
        "# Build model_2\n",
        "\n",
        "# Set the random seed\n",
        "tf.random.set_seed(42)\n",
        "\n",
        "# 1. Create model\n",
        "model_2 = tf.keras.Sequential([\n",
        "    tf.keras.layers.Dense(70, name=\"input_layer\"),\n",
        "    tf.keras.layers.Dense(1, name=\"Output_layer\")\n",
        "])\n",
        "\n",
        "# 2. Compile the model\n",
        "\n",
        "model_2.compile(loss = mae,\n",
        "              optimizer = tf.keras.optimizers.SGD(),\n",
        "              metrics = [\"mae\"])"
      ],
      "metadata": {
        "id": "F9HBFkiUvO0E"
      },
      "execution_count": 50,
      "outputs": []
    },
    {
      "cell_type": "code",
      "source": [
        "# 3. Make Train the model\n",
        "model_2.fit(tf.expand_dims(x_train, axis=-1), y_train, epochs=54)"
      ],
      "metadata": {
        "colab": {
          "base_uri": "https://localhost:8080/"
        },
        "id": "xCwKGotyzj8h",
        "outputId": "ca724eb1-6467-4ac5-be63-5b160166f1c8"
      },
      "execution_count": 51,
      "outputs": [
        {
          "output_type": "stream",
          "name": "stdout",
          "text": [
            "Epoch 1/54\n",
            "2/2 [==============================] - 1s 19ms/step - loss: 40.7317 - mae: 37.0417\n",
            "Epoch 2/54\n",
            "2/2 [==============================] - 0s 27ms/step - loss: 40.7844 - mae: 41.7541\n",
            "Epoch 3/54\n",
            "2/2 [==============================] - 0s 9ms/step - loss: 56.4396 - mae: 21.8353\n",
            "Epoch 4/54\n",
            "2/2 [==============================] - 0s 14ms/step - loss: 40.6819 - mae: 36.3312\n",
            "Epoch 5/54\n",
            "2/2 [==============================] - 0s 13ms/step - loss: 40.7233 - mae: 38.3434\n",
            "Epoch 6/54\n",
            "2/2 [==============================] - 0s 12ms/step - loss: 40.8466 - mae: 33.2012\n",
            "Epoch 7/54\n",
            "2/2 [==============================] - 0s 8ms/step - loss: 40.7413 - mae: 38.8961\n",
            "Epoch 8/54\n",
            "2/2 [==============================] - 0s 8ms/step - loss: 40.9732 - mae: 31.8770\n",
            "Epoch 9/54\n",
            "2/2 [==============================] - 0s 11ms/step - loss: 47.6816 - mae: 15.4880\n",
            "Epoch 10/54\n",
            "2/2 [==============================] - 0s 15ms/step - loss: 41.0369 - mae: 38.7048\n",
            "Epoch 11/54\n",
            "2/2 [==============================] - 0s 26ms/step - loss: 41.0371 - mae: 38.7627\n",
            "Epoch 12/54\n",
            "2/2 [==============================] - 0s 14ms/step - loss: 53.1654 - mae: 16.8230\n",
            "Epoch 13/54\n",
            "2/2 [==============================] - 0s 19ms/step - loss: 40.6955 - mae: 36.9751\n",
            "Epoch 14/54\n",
            "2/2 [==============================] - 0s 25ms/step - loss: 41.1614 - mae: 29.9452\n",
            "Epoch 15/54\n",
            "2/2 [==============================] - 0s 14ms/step - loss: 40.8939 - mae: 38.8035\n",
            "Epoch 16/54\n",
            "2/2 [==============================] - 0s 8ms/step - loss: 40.8769 - mae: 41.2209\n",
            "Epoch 17/54\n",
            "2/2 [==============================] - 0s 8ms/step - loss: 40.3227 - mae: 33.9873\n",
            "Epoch 18/54\n",
            "2/2 [==============================] - 0s 8ms/step - loss: 40.9097 - mae: 33.3256\n",
            "Epoch 19/54\n",
            "2/2 [==============================] - 0s 7ms/step - loss: 43.4593 - mae: 17.8145\n",
            "Epoch 20/54\n",
            "2/2 [==============================] - 0s 7ms/step - loss: 41.1609 - mae: 30.6362\n",
            "Epoch 21/54\n",
            "2/2 [==============================] - 0s 7ms/step - loss: 40.7368 - mae: 35.3655\n",
            "Epoch 22/54\n",
            "2/2 [==============================] - 0s 7ms/step - loss: 40.6487 - mae: 37.5419\n",
            "Epoch 23/54\n",
            "2/2 [==============================] - 0s 9ms/step - loss: 40.6507 - mae: 38.2502\n",
            "Epoch 24/54\n",
            "2/2 [==============================] - 0s 7ms/step - loss: 41.0182 - mae: 30.2937\n",
            "Epoch 25/54\n",
            "2/2 [==============================] - 0s 7ms/step - loss: 40.8729 - mae: 41.9202\n",
            "Epoch 26/54\n",
            "2/2 [==============================] - 0s 8ms/step - loss: 42.2420 - mae: 25.1468\n",
            "Epoch 27/54\n",
            "2/2 [==============================] - 0s 7ms/step - loss: 40.7430 - mae: 35.0287\n",
            "Epoch 28/54\n",
            "2/2 [==============================] - 0s 14ms/step - loss: 42.2627 - mae: 24.0150\n",
            "Epoch 29/54\n",
            "2/2 [==============================] - 0s 14ms/step - loss: 40.7581 - mae: 34.2841\n",
            "Epoch 30/54\n",
            "2/2 [==============================] - 0s 10ms/step - loss: 45.7156 - mae: 14.2467\n",
            "Epoch 31/54\n",
            "2/2 [==============================] - 0s 25ms/step - loss: 57.8667 - mae: 16.2176\n",
            "Epoch 32/54\n",
            "2/2 [==============================] - 0s 12ms/step - loss: 41.1961 - mae: 26.9476\n",
            "Epoch 33/54\n",
            "2/2 [==============================] - 0s 8ms/step - loss: 41.1464 - mae: 30.4346\n",
            "Epoch 34/54\n",
            "2/2 [==============================] - 0s 8ms/step - loss: 40.8045 - mae: 32.8195\n",
            "Epoch 35/54\n",
            "2/2 [==============================] - 0s 8ms/step - loss: 40.6344 - mae: 35.4906\n",
            "Epoch 36/54\n",
            "2/2 [==============================] - 0s 7ms/step - loss: 41.6746 - mae: 23.7919\n",
            "Epoch 37/54\n",
            "2/2 [==============================] - 0s 8ms/step - loss: 40.8389 - mae: 32.6525\n",
            "Epoch 38/54\n",
            "2/2 [==============================] - 0s 7ms/step - loss: 40.6495 - mae: 34.8227\n",
            "Epoch 39/54\n",
            "2/2 [==============================] - 0s 7ms/step - loss: 40.7178 - mae: 34.3509\n",
            "Epoch 40/54\n",
            "2/2 [==============================] - 0s 7ms/step - loss: 40.8589 - mae: 32.9229\n",
            "Epoch 41/54\n",
            "2/2 [==============================] - 0s 7ms/step - loss: 40.3762 - mae: 33.8293\n",
            "Epoch 42/54\n",
            "2/2 [==============================] - 0s 9ms/step - loss: 40.7169 - mae: 34.7743\n",
            "Epoch 43/54\n",
            "2/2 [==============================] - 0s 14ms/step - loss: 40.5676 - mae: 36.9254\n",
            "Epoch 44/54\n",
            "2/2 [==============================] - 0s 17ms/step - loss: 41.0597 - mae: 29.8351\n",
            "Epoch 45/54\n",
            "2/2 [==============================] - 0s 16ms/step - loss: 41.0583 - mae: 30.8741\n",
            "Epoch 46/54\n",
            "2/2 [==============================] - 0s 13ms/step - loss: 40.6939 - mae: 33.5059\n",
            "Epoch 47/54\n",
            "2/2 [==============================] - 0s 10ms/step - loss: 40.7103 - mae: 34.7997\n",
            "Epoch 48/54\n",
            "2/2 [==============================] - 0s 12ms/step - loss: 40.6715 - mae: 37.4972\n",
            "Epoch 49/54\n",
            "2/2 [==============================] - 0s 14ms/step - loss: 40.6617 - mae: 37.2262\n",
            "Epoch 50/54\n",
            "2/2 [==============================] - 0s 17ms/step - loss: 40.5705 - mae: 35.2005\n",
            "Epoch 51/54\n",
            "2/2 [==============================] - 0s 13ms/step - loss: 40.6752 - mae: 37.3821\n",
            "Epoch 52/54\n",
            "2/2 [==============================] - 0s 14ms/step - loss: 40.6004 - mae: 35.2504\n",
            "Epoch 53/54\n",
            "2/2 [==============================] - 0s 14ms/step - loss: 40.4697 - mae: 27.5989\n",
            "Epoch 54/54\n",
            "2/2 [==============================] - 0s 19ms/step - loss: 43.8645 - mae: 17.4968\n"
          ]
        },
        {
          "output_type": "execute_result",
          "data": {
            "text/plain": [
              "<keras.src.callbacks.History at 0x7de559f2f6a0>"
            ]
          },
          "metadata": {},
          "execution_count": 51
        }
      ]
    },
    {
      "cell_type": "code",
      "source": [
        "x_test"
      ],
      "metadata": {
        "colab": {
          "base_uri": "https://localhost:8080/"
        },
        "id": "F4p4SDzi3EAL",
        "outputId": "e62f13ff-3ed5-4bc6-947b-37d9a51fd4b6"
      },
      "execution_count": 52,
      "outputs": [
        {
          "output_type": "execute_result",
          "data": {
            "text/plain": [
              "<tf.Tensor: shape=(10,), dtype=int32, numpy=array([60, 64, 68, 72, 76, 80, 84, 88, 92, 96], dtype=int32)>"
            ]
          },
          "metadata": {},
          "execution_count": 52
        }
      ]
    },
    {
      "cell_type": "code",
      "source": [
        "y_test"
      ],
      "metadata": {
        "colab": {
          "base_uri": "https://localhost:8080/"
        },
        "id": "pg4Syr7r3HES",
        "outputId": "e6e82f94-2610-4d06-cbf1-b2fd887f1a17"
      },
      "execution_count": 53,
      "outputs": [
        {
          "output_type": "execute_result",
          "data": {
            "text/plain": [
              "<tf.Tensor: shape=(10,), dtype=int32, numpy=array([ 70,  74,  78,  82,  86,  90,  94,  98, 102, 106], dtype=int32)>"
            ]
          },
          "metadata": {},
          "execution_count": 53
        }
      ]
    },
    {
      "cell_type": "code",
      "source": [
        "model_2.predict(x_test)"
      ],
      "metadata": {
        "colab": {
          "base_uri": "https://localhost:8080/"
        },
        "id": "bvtvcNO03KN2",
        "outputId": "06470623-7bfd-4674-c823-a41ba5a3b6ab"
      },
      "execution_count": 54,
      "outputs": [
        {
          "output_type": "stream",
          "name": "stderr",
          "text": [
            "WARNING:tensorflow:6 out of the last 6 calls to <function Model.make_predict_function.<locals>.predict_function at 0x7de559f48f70> triggered tf.function retracing. Tracing is expensive and the excessive number of tracings could be due to (1) creating @tf.function repeatedly in a loop, (2) passing tensors with different shapes, (3) passing Python objects instead of tensors. For (1), please define your @tf.function outside of the loop. For (2), @tf.function has reduce_retracing=True option that can avoid unnecessary retracing. For (3), please refer to https://www.tensorflow.org/guide/function#controlling_retracing and https://www.tensorflow.org/api_docs/python/tf/function for  more details.\n"
          ]
        },
        {
          "output_type": "stream",
          "name": "stdout",
          "text": [
            "1/1 [==============================] - 0s 60ms/step\n"
          ]
        },
        {
          "output_type": "execute_result",
          "data": {
            "text/plain": [
              "array([[32.840492],\n",
              "       [35.044445],\n",
              "       [37.24839 ],\n",
              "       [39.452343],\n",
              "       [41.656296],\n",
              "       [43.860245],\n",
              "       [46.064194],\n",
              "       [48.268143],\n",
              "       [50.47209 ],\n",
              "       [52.676044]], dtype=float32)"
            ]
          },
          "metadata": {},
          "execution_count": 54
        }
      ]
    },
    {
      "cell_type": "code",
      "source": [
        "# Make and plot predictions of model_2\n",
        "\n",
        "y_preds_2 = model_2.predict(x_test)\n",
        "plot_predictions(predictions=y_preds_2)"
      ],
      "metadata": {
        "colab": {
          "base_uri": "https://localhost:8080/",
          "height": 503
        },
        "id": "qYq7itP01-ur",
        "outputId": "a0951167-0f5c-4ccf-8cdb-8926be51751b"
      },
      "execution_count": 55,
      "outputs": [
        {
          "output_type": "stream",
          "name": "stdout",
          "text": [
            "1/1 [==============================] - 0s 30ms/step\n"
          ]
        },
        {
          "output_type": "display_data",
          "data": {
            "text/plain": [
              "<Figure size 1000x700 with 1 Axes>"
            ],
            "image/png": "[encoded data removed]"
          },
          "metadata": {}
        }
      ]
    },
    {
      "cell_type": "code",
      "source": [
        "model_2.summary()"
      ],
      "metadata": {
        "colab": {
          "base_uri": "https://localhost:8080/"
        },
        "id": "nrRhl6kf1o_c",
        "outputId": "30c734e5-ec1f-4d4c-967f-6b548509fe55"
      },
      "execution_count": 56,
      "outputs": [
        {
          "output_type": "stream",
          "name": "stdout",
          "text": [
            "Model: \"sequential_6\"\n",
            "_________________________________________________________________\n",
            " Layer (type)                Output Shape              Param #   \n",
            "=================================================================\n",
            " input_layer (Dense)         (None, 70)                140       \n",
            "                                                                 \n",
            " Output_layer (Dense)        (None, 1)                 71        \n",
            "                                                                 \n",
            "=================================================================\n",
            "Total params: 211 (844.00 Byte)\n",
            "Trainable params: 211 (844.00 Byte)\n",
            "Non-trainable params: 0 (0.00 Byte)\n",
            "_________________________________________________________________\n"
          ]
        }
      ]
    },
    {
      "cell_type": "code",
      "source": [
        "# Calculate model_2 evaluation metrics\n",
        "\n",
        "mae_2 = mae(y_test, y_preds_2)\n",
        "mse_2 = mse(y_test, y_preds_2)\n",
        "\n",
        "mae_2, mse_2"
      ],
      "metadata": {
        "colab": {
          "base_uri": "https://localhost:8080/"
        },
        "id": "C54KgBhY6klJ",
        "outputId": "541120e6-7891-477d-aa42-c3e89907ef4d"
      },
      "execution_count": 57,
      "outputs": [
        {
          "output_type": "execute_result",
          "data": {
            "text/plain": [
              "(<tf.Tensor: shape=(), dtype=float32, numpy=45.24173>,\n",
              " <tf.Tensor: shape=(), dtype=float32, numpy=2073.427>)"
            ]
          },
          "metadata": {},
          "execution_count": 57
        }
      ]
    },
    {
      "cell_type": "markdown",
      "source": [
        "**Build model_3**\n",
        "\n",
        "* 2 layers, trained for 500 epochs"
      ],
      "metadata": {
        "id": "UgQW0Vw_Eigq"
      }
    },
    {
      "cell_type": "code",
      "source": [
        "# Build mdoel 3\n",
        "\n",
        "# set random seed\n",
        "tf.random.set_seed(42)\n",
        "\n",
        "# Build the model\n",
        "model_3 = tf.keras.Sequential([\n",
        "    tf.keras.layers.Dense(10),\n",
        "    tf.keras.layers.Dense(1)\n",
        "])\n",
        "\n",
        "# Compile the model\n",
        "model_3.compile(loss=mae,\n",
        "                optimizer = tf.keras.optimizers.SGD(),\n",
        "                metrics=[\"mae\"])"
      ],
      "metadata": {
        "id": "ZDmoG_8fEdZp"
      },
      "execution_count": 58,
      "outputs": []
    },
    {
      "cell_type": "code",
      "source": [
        "# 3. FIt the model\n",
        "model_3.fit(tf.expand_dims(x_train, axis=-1), y_train, epochs=500)\n"
      ],
      "metadata": {
        "colab": {
          "base_uri": "https://localhost:8080/"
        },
        "id": "Xw5ZEQwjFTQF",
        "outputId": "78eac050-43b5-4a78-894d-b242d32aa2d8"
      },
      "execution_count": 59,
      "outputs": [
        {
          "output_type": "stream",
          "name": "stdout",
          "text": [
            "Epoch 1/500\n",
            "2/2 [==============================] - 1s 16ms/step - loss: 41.7482 - mae: 45.5992\n",
            "Epoch 2/500\n",
            "2/2 [==============================] - 0s 13ms/step - loss: 40.7969 - mae: 40.1292\n",
            "Epoch 3/500\n",
            "2/2 [==============================] - 0s 11ms/step - loss: 49.1605 - mae: 14.4086\n",
            "Epoch 4/500\n",
            "2/2 [==============================] - 0s 7ms/step - loss: 40.9280 - mae: 39.8582\n",
            "Epoch 5/500\n",
            "2/2 [==============================] - 0s 7ms/step - loss: 40.6350 - mae: 37.9633\n",
            "Epoch 6/500\n",
            "2/2 [==============================] - 0s 9ms/step - loss: 40.8681 - mae: 32.8028\n",
            "Epoch 7/500\n",
            "2/2 [==============================] - 0s 10ms/step - loss: 40.7483 - mae: 37.7330\n",
            "Epoch 8/500\n",
            "2/2 [==============================] - 0s 7ms/step - loss: 40.6645 - mae: 33.1314\n",
            "Epoch 9/500\n",
            "2/2 [==============================] - 0s 6ms/step - loss: 43.0570 - mae: 20.6518\n",
            "Epoch 10/500\n",
            "2/2 [==============================] - 0s 9ms/step - loss: 40.3341 - mae: 33.8210\n",
            "Epoch 11/500\n",
            "2/2 [==============================] - 0s 8ms/step - loss: 40.8958 - mae: 38.8972\n",
            "Epoch 12/500\n",
            "2/2 [==============================] - 0s 7ms/step - loss: 50.3265 - mae: 14.2074\n",
            "Epoch 13/500\n",
            "2/2 [==============================] - 0s 7ms/step - loss: 40.7684 - mae: 35.0479\n",
            "Epoch 14/500\n",
            "2/2 [==============================] - 0s 8ms/step - loss: 41.1113 - mae: 30.2616\n",
            "Epoch 15/500\n",
            "2/2 [==============================] - 0s 9ms/step - loss: 40.8143 - mae: 37.9725\n",
            "Epoch 16/500\n",
            "2/2 [==============================] - 0s 7ms/step - loss: 40.8192 - mae: 40.4230\n",
            "Epoch 17/500\n",
            "2/2 [==============================] - 0s 43ms/step - loss: 40.3227 - mae: 34.0547\n",
            "Epoch 18/500\n",
            "2/2 [==============================] - 0s 9ms/step - loss: 40.8038 - mae: 33.4212\n",
            "Epoch 19/500\n",
            "2/2 [==============================] - 0s 30ms/step - loss: 42.9086 - mae: 19.2504\n",
            "Epoch 20/500\n",
            "2/2 [==============================] - 0s 11ms/step - loss: 40.9901 - mae: 31.8041\n",
            "Epoch 21/500\n",
            "2/2 [==============================] - 0s 8ms/step - loss: 40.7390 - mae: 35.1560\n",
            "Epoch 22/500\n",
            "2/2 [==============================] - 0s 7ms/step - loss: 40.6187 - mae: 37.2651\n",
            "Epoch 23/500\n",
            "2/2 [==============================] - 0s 7ms/step - loss: 40.6425 - mae: 38.1076\n",
            "Epoch 24/500\n",
            "2/2 [==============================] - 0s 7ms/step - loss: 40.9767 - mae: 30.8922\n",
            "Epoch 25/500\n",
            "2/2 [==============================] - 0s 7ms/step - loss: 40.8274 - mae: 40.9036\n",
            "Epoch 26/500\n",
            "2/2 [==============================] - 0s 7ms/step - loss: 41.8433 - mae: 26.5083\n",
            "Epoch 27/500\n",
            "2/2 [==============================] - 0s 7ms/step - loss: 40.7101 - mae: 35.0675\n",
            "Epoch 28/500\n",
            "2/2 [==============================] - 0s 8ms/step - loss: 41.9677 - mae: 25.0417\n",
            "Epoch 29/500\n",
            "2/2 [==============================] - 0s 8ms/step - loss: 40.6676 - mae: 33.7136\n",
            "Epoch 30/500\n",
            "2/2 [==============================] - 0s 8ms/step - loss: 44.5866 - mae: 14.6014\n",
            "Epoch 31/500\n",
            "2/2 [==============================] - 0s 11ms/step - loss: 56.5239 - mae: 15.0935\n",
            "Epoch 32/500\n",
            "2/2 [==============================] - 0s 8ms/step - loss: 41.2357 - mae: 26.6356\n",
            "Epoch 33/500\n",
            "2/2 [==============================] - 0s 8ms/step - loss: 41.1989 - mae: 29.9702\n",
            "Epoch 34/500\n",
            "2/2 [==============================] - 0s 8ms/step - loss: 40.8330 - mae: 32.3124\n",
            "Epoch 35/500\n",
            "2/2 [==============================] - 0s 9ms/step - loss: 40.6122 - mae: 34.9110\n",
            "Epoch 36/500\n",
            "2/2 [==============================] - 0s 8ms/step - loss: 41.5618 - mae: 24.3513\n",
            "Epoch 37/500\n",
            "2/2 [==============================] - 0s 14ms/step - loss: 40.8583 - mae: 32.3503\n",
            "Epoch 38/500\n",
            "2/2 [==============================] - 0s 16ms/step - loss: 40.6567 - mae: 34.3894\n",
            "Epoch 39/500\n",
            "2/2 [==============================] - 0s 8ms/step - loss: 40.7261 - mae: 34.0093\n",
            "Epoch 40/500\n",
            "2/2 [==============================] - 0s 8ms/step - loss: 40.8638 - mae: 32.8064\n",
            "Epoch 41/500\n",
            "2/2 [==============================] - 0s 8ms/step - loss: 40.3684 - mae: 33.7131\n",
            "Epoch 42/500\n",
            "2/2 [==============================] - 0s 8ms/step - loss: 40.7167 - mae: 34.6668\n",
            "Epoch 43/500\n",
            "2/2 [==============================] - 0s 8ms/step - loss: 40.5496 - mae: 36.7113\n",
            "Epoch 44/500\n",
            "2/2 [==============================] - 0s 7ms/step - loss: 40.9941 - mae: 30.2469\n",
            "Epoch 45/500\n",
            "2/2 [==============================] - 0s 7ms/step - loss: 41.0341 - mae: 31.0354\n",
            "Epoch 46/500\n",
            "2/2 [==============================] - 0s 7ms/step - loss: 40.6926 - mae: 33.4239\n",
            "Epoch 47/500\n",
            "2/2 [==============================] - 0s 7ms/step - loss: 40.7074 - mae: 34.6631\n",
            "Epoch 48/500\n",
            "2/2 [==============================] - 0s 7ms/step - loss: 40.6627 - mae: 37.2295\n",
            "Epoch 49/500\n",
            "2/2 [==============================] - 0s 8ms/step - loss: 40.6556 - mae: 37.0243\n",
            "Epoch 50/500\n",
            "2/2 [==============================] - 0s 8ms/step - loss: 40.5654 - mae: 35.2038\n",
            "Epoch 51/500\n",
            "2/2 [==============================] - 0s 8ms/step - loss: 40.6679 - mae: 37.2132\n",
            "Epoch 52/500\n",
            "2/2 [==============================] - 0s 9ms/step - loss: 40.5728 - mae: 35.2894\n",
            "Epoch 53/500\n",
            "2/2 [==============================] - 0s 7ms/step - loss: 40.3708 - mae: 28.2083\n",
            "Epoch 54/500\n",
            "2/2 [==============================] - 0s 7ms/step - loss: 43.4164 - mae: 18.4748\n",
            "Epoch 55/500\n",
            "2/2 [==============================] - 0s 9ms/step - loss: 43.7049 - mae: 18.7754\n",
            "Epoch 56/500\n",
            "2/2 [==============================] - 0s 10ms/step - loss: 40.8426 - mae: 29.8258\n",
            "Epoch 57/500\n",
            "2/2 [==============================] - 0s 7ms/step - loss: 40.4266 - mae: 33.6286\n",
            "Epoch 58/500\n",
            "2/2 [==============================] - 0s 8ms/step - loss: 40.6518 - mae: 35.4024\n",
            "Epoch 59/500\n",
            "2/2 [==============================] - 0s 10ms/step - loss: 40.7612 - mae: 35.5259\n",
            "Epoch 60/500\n",
            "2/2 [==============================] - 0s 7ms/step - loss: 40.7022 - mae: 35.2116\n",
            "Epoch 61/500\n",
            "2/2 [==============================] - 0s 7ms/step - loss: 40.6961 - mae: 35.6316\n",
            "Epoch 62/500\n",
            "2/2 [==============================] - 0s 8ms/step - loss: 40.7270 - mae: 35.8900\n",
            "Epoch 63/500\n",
            "2/2 [==============================] - 0s 10ms/step - loss: 40.6350 - mae: 35.2870\n",
            "Epoch 64/500\n",
            "2/2 [==============================] - 0s 8ms/step - loss: 40.7711 - mae: 33.6736\n",
            "Epoch 65/500\n",
            "2/2 [==============================] - 0s 10ms/step - loss: 40.6825 - mae: 34.8003\n",
            "Epoch 66/500\n",
            "2/2 [==============================] - 0s 8ms/step - loss: 40.8016 - mae: 33.4409\n",
            "Epoch 67/500\n",
            "2/2 [==============================] - 0s 8ms/step - loss: 40.7266 - mae: 34.4246\n",
            "Epoch 68/500\n",
            "2/2 [==============================] - 0s 8ms/step - loss: 40.6647 - mae: 34.9085\n",
            "Epoch 69/500\n",
            "2/2 [==============================] - 0s 7ms/step - loss: 40.7248 - mae: 34.9147\n",
            "Epoch 70/500\n",
            "2/2 [==============================] - 0s 8ms/step - loss: 40.6305 - mae: 35.2099\n",
            "Epoch 71/500\n",
            "2/2 [==============================] - 0s 10ms/step - loss: 40.6569 - mae: 37.0030\n",
            "Epoch 72/500\n",
            "2/2 [==============================] - 0s 8ms/step - loss: 40.6960 - mae: 36.8043\n",
            "Epoch 73/500\n",
            "2/2 [==============================] - 0s 11ms/step - loss: 40.6861 - mae: 37.8307\n",
            "Epoch 74/500\n",
            "2/2 [==============================] - 0s 14ms/step - loss: 40.6943 - mae: 37.5356\n",
            "Epoch 75/500\n",
            "2/2 [==============================] - 0s 20ms/step - loss: 40.7133 - mae: 37.8668\n",
            "Epoch 76/500\n",
            "2/2 [==============================] - 0s 23ms/step - loss: 40.6526 - mae: 36.9738\n",
            "Epoch 77/500\n",
            "2/2 [==============================] - 0s 14ms/step - loss: 40.7123 - mae: 37.9599\n",
            "Epoch 78/500\n",
            "2/2 [==============================] - 0s 9ms/step - loss: 40.4396 - mae: 37.6782\n",
            "Epoch 79/500\n",
            "2/2 [==============================] - 0s 7ms/step - loss: 40.5103 - mae: 32.9997\n",
            "Epoch 80/500\n",
            "2/2 [==============================] - 0s 7ms/step - loss: 41.1674 - mae: 29.2487\n",
            "Epoch 81/500\n",
            "2/2 [==============================] - 0s 11ms/step - loss: 39.9415 - mae: 32.5230\n",
            "Epoch 82/500\n",
            "2/2 [==============================] - 0s 7ms/step - loss: 40.6440 - mae: 33.0403\n",
            "Epoch 83/500\n",
            "2/2 [==============================] - 0s 10ms/step - loss: 40.6564 - mae: 35.2687\n",
            "Epoch 84/500\n",
            "2/2 [==============================] - 0s 9ms/step - loss: 40.6833 - mae: 35.4896\n",
            "Epoch 85/500\n",
            "2/2 [==============================] - 0s 8ms/step - loss: 40.7076 - mae: 35.8981\n",
            "Epoch 86/500\n",
            "2/2 [==============================] - 0s 8ms/step - loss: 40.7189 - mae: 36.3677\n",
            "Epoch 87/500\n",
            "2/2 [==============================] - 0s 10ms/step - loss: 40.6846 - mae: 36.3812\n",
            "Epoch 88/500\n",
            "2/2 [==============================] - 0s 9ms/step - loss: 40.7062 - mae: 36.3127\n",
            "Epoch 89/500\n",
            "2/2 [==============================] - 0s 10ms/step - loss: 40.7043 - mae: 37.3463\n",
            "Epoch 90/500\n",
            "2/2 [==============================] - 0s 10ms/step - loss: 40.6890 - mae: 37.4978\n",
            "Epoch 91/500\n",
            "2/2 [==============================] - 0s 13ms/step - loss: 40.6675 - mae: 37.3607\n",
            "Epoch 92/500\n",
            "2/2 [==============================] - 0s 18ms/step - loss: 40.6867 - mae: 37.1925\n",
            "Epoch 93/500\n",
            "2/2 [==============================] - 0s 9ms/step - loss: 40.6384 - mae: 37.1467\n",
            "Epoch 94/500\n",
            "2/2 [==============================] - 0s 8ms/step - loss: 40.6890 - mae: 36.1885\n",
            "Epoch 95/500\n",
            "2/2 [==============================] - 0s 7ms/step - loss: 40.7423 - mae: 35.4527\n",
            "Epoch 96/500\n",
            "2/2 [==============================] - 0s 7ms/step - loss: 40.5810 - mae: 34.9483\n",
            "Epoch 97/500\n",
            "2/2 [==============================] - 0s 7ms/step - loss: 40.7007 - mae: 35.7994\n",
            "Epoch 98/500\n",
            "2/2 [==============================] - 0s 7ms/step - loss: 40.6598 - mae: 36.4425\n",
            "Epoch 99/500\n",
            "2/2 [==============================] - 0s 7ms/step - loss: 40.6650 - mae: 36.4731\n",
            "Epoch 100/500\n",
            "2/2 [==============================] - 0s 9ms/step - loss: 40.7115 - mae: 35.3780\n",
            "Epoch 101/500\n",
            "2/2 [==============================] - 0s 9ms/step - loss: 40.6878 - mae: 36.0051\n",
            "Epoch 102/500\n",
            "2/2 [==============================] - 0s 9ms/step - loss: 40.5030 - mae: 36.5916\n",
            "Epoch 103/500\n",
            "2/2 [==============================] - 0s 9ms/step - loss: 40.5870 - mae: 36.9700\n",
            "Epoch 104/500\n",
            "2/2 [==============================] - 0s 7ms/step - loss: 40.6955 - mae: 35.4011\n",
            "Epoch 105/500\n",
            "2/2 [==============================] - 0s 8ms/step - loss: 40.6471 - mae: 36.1740\n",
            "Epoch 106/500\n",
            "2/2 [==============================] - 0s 20ms/step - loss: 40.6360 - mae: 36.2924\n",
            "Epoch 107/500\n",
            "2/2 [==============================] - 0s 14ms/step - loss: 40.6862 - mae: 34.9614\n",
            "Epoch 108/500\n",
            "2/2 [==============================] - 0s 9ms/step - loss: 40.7238 - mae: 34.3616\n",
            "Epoch 109/500\n",
            "2/2 [==============================] - 0s 8ms/step - loss: 40.6419 - mae: 33.4137\n",
            "Epoch 110/500\n",
            "2/2 [==============================] - 0s 31ms/step - loss: 40.6893 - mae: 34.7348\n",
            "Epoch 111/500\n",
            "2/2 [==============================] - 0s 16ms/step - loss: 40.6174 - mae: 35.0341\n",
            "Epoch 112/500\n",
            "2/2 [==============================] - 0s 7ms/step - loss: 40.4460 - mae: 35.3162\n",
            "Epoch 113/500\n",
            "2/2 [==============================] - 0s 9ms/step - loss: 40.4866 - mae: 32.4604\n",
            "Epoch 114/500\n",
            "2/2 [==============================] - 0s 9ms/step - loss: 41.0342 - mae: 31.0790\n",
            "Epoch 115/500\n",
            "2/2 [==============================] - 0s 8ms/step - loss: 40.9151 - mae: 31.7686\n",
            "Epoch 116/500\n",
            "2/2 [==============================] - 0s 8ms/step - loss: 40.6485 - mae: 33.1124\n",
            "Epoch 117/500\n",
            "2/2 [==============================] - 0s 8ms/step - loss: 40.5737 - mae: 34.5689\n",
            "Epoch 118/500\n",
            "2/2 [==============================] - 0s 8ms/step - loss: 40.5538 - mae: 35.1201\n",
            "Epoch 119/500\n",
            "2/2 [==============================] - 0s 13ms/step - loss: 40.0696 - mae: 35.9617\n",
            "Epoch 120/500\n",
            "2/2 [==============================] - 0s 7ms/step - loss: 41.3054 - mae: 28.0972\n",
            "Epoch 121/500\n",
            "2/2 [==============================] - 0s 9ms/step - loss: 39.9499 - mae: 32.1145\n",
            "Epoch 122/500\n",
            "2/2 [==============================] - 0s 8ms/step - loss: 41.2284 - mae: 25.0017\n",
            "Epoch 123/500\n",
            "2/2 [==============================] - 0s 8ms/step - loss: 41.9678 - mae: 24.5164\n",
            "Epoch 124/500\n",
            "2/2 [==============================] - 0s 9ms/step - loss: 41.3573 - mae: 27.8394\n",
            "Epoch 125/500\n",
            "2/2 [==============================] - 0s 9ms/step - loss: 40.6420 - mae: 30.5717\n",
            "Epoch 126/500\n",
            "2/2 [==============================] - 0s 12ms/step - loss: 40.8315 - mae: 32.6663\n",
            "Epoch 127/500\n",
            "2/2 [==============================] - 0s 17ms/step - loss: 40.2775 - mae: 33.4682\n",
            "Epoch 128/500\n",
            "2/2 [==============================] - 0s 11ms/step - loss: 41.3195 - mae: 28.5393\n",
            "Epoch 129/500\n",
            "2/2 [==============================] - 0s 10ms/step - loss: 40.4010 - mae: 30.3166\n",
            "Epoch 130/500\n",
            "2/2 [==============================] - 0s 11ms/step - loss: 41.2427 - mae: 28.8755\n",
            "Epoch 131/500\n",
            "2/2 [==============================] - 0s 13ms/step - loss: 40.8145 - mae: 30.8417\n",
            "Epoch 132/500\n",
            "2/2 [==============================] - 0s 13ms/step - loss: 40.8494 - mae: 31.5330\n",
            "Epoch 133/500\n",
            "2/2 [==============================] - 0s 10ms/step - loss: 40.5238 - mae: 32.9380\n",
            "Epoch 134/500\n",
            "2/2 [==============================] - 0s 22ms/step - loss: 41.0442 - mae: 30.1450\n",
            "Epoch 135/500\n",
            "2/2 [==============================] - 0s 24ms/step - loss: 40.7425 - mae: 32.7558\n",
            "Epoch 136/500\n",
            "2/2 [==============================] - 0s 18ms/step - loss: 40.7143 - mae: 33.3137\n",
            "Epoch 137/500\n",
            "2/2 [==============================] - 0s 8ms/step - loss: 40.0150 - mae: 32.6079\n",
            "Epoch 138/500\n",
            "2/2 [==============================] - 0s 13ms/step - loss: 40.4317 - mae: 32.1982\n",
            "Epoch 139/500\n",
            "2/2 [==============================] - 0s 10ms/step - loss: 40.8297 - mae: 32.5577\n",
            "Epoch 140/500\n",
            "2/2 [==============================] - 0s 15ms/step - loss: 40.7339 - mae: 33.4400\n",
            "Epoch 141/500\n",
            "2/2 [==============================] - 0s 11ms/step - loss: 40.1646 - mae: 33.9385\n",
            "Epoch 142/500\n",
            "2/2 [==============================] - 0s 9ms/step - loss: 40.6891 - mae: 30.3601\n",
            "Epoch 143/500\n",
            "2/2 [==============================] - 0s 14ms/step - loss: 40.5134 - mae: 28.1337\n",
            "Epoch 144/500\n",
            "2/2 [==============================] - 0s 14ms/step - loss: 40.6079 - mae: 30.9796\n",
            "Epoch 145/500\n",
            "2/2 [==============================] - 0s 9ms/step - loss: 41.4490 - mae: 26.5503\n",
            "Epoch 146/500\n",
            "2/2 [==============================] - 0s 10ms/step - loss: 39.9537 - mae: 31.6717\n",
            "Epoch 147/500\n",
            "2/2 [==============================] - 0s 12ms/step - loss: 40.2716 - mae: 32.5254\n",
            "Epoch 148/500\n",
            "2/2 [==============================] - 0s 7ms/step - loss: 40.6181 - mae: 30.5623\n",
            "Epoch 149/500\n",
            "2/2 [==============================] - 0s 10ms/step - loss: 40.7202 - mae: 32.4275\n",
            "Epoch 150/500\n",
            "2/2 [==============================] - 0s 10ms/step - loss: 39.9983 - mae: 33.5404\n",
            "Epoch 151/500\n",
            "2/2 [==============================] - 0s 9ms/step - loss: 41.0266 - mae: 30.6397\n",
            "Epoch 152/500\n",
            "2/2 [==============================] - 0s 12ms/step - loss: 40.8142 - mae: 32.3233\n",
            "Epoch 153/500\n",
            "2/2 [==============================] - 0s 9ms/step - loss: 40.3755 - mae: 31.9225\n",
            "Epoch 154/500\n",
            "2/2 [==============================] - 0s 10ms/step - loss: 40.8252 - mae: 32.4361\n",
            "Epoch 155/500\n",
            "2/2 [==============================] - 0s 19ms/step - loss: 40.6851 - mae: 33.6006\n",
            "Epoch 156/500\n",
            "2/2 [==============================] - 0s 13ms/step - loss: 40.4331 - mae: 33.0452\n",
            "Epoch 157/500\n",
            "2/2 [==============================] - 0s 20ms/step - loss: 40.7119 - mae: 31.4783\n",
            "Epoch 158/500\n",
            "2/2 [==============================] - 0s 17ms/step - loss: 40.4199 - mae: 32.3481\n",
            "Epoch 159/500\n",
            "2/2 [==============================] - 0s 9ms/step - loss: 40.6200 - mae: 34.1186\n",
            "Epoch 160/500\n",
            "2/2 [==============================] - 0s 16ms/step - loss: 40.7258 - mae: 33.9225\n",
            "Epoch 161/500\n",
            "2/2 [==============================] - 0s 11ms/step - loss: 40.6790 - mae: 33.8758\n",
            "Epoch 162/500\n",
            "2/2 [==============================] - 0s 22ms/step - loss: 40.6173 - mae: 34.4421\n",
            "Epoch 163/500\n",
            "2/2 [==============================] - 0s 9ms/step - loss: 40.7245 - mae: 33.5139\n",
            "Epoch 164/500\n",
            "2/2 [==============================] - 0s 8ms/step - loss: 40.4733 - mae: 34.1565\n",
            "Epoch 165/500\n",
            "2/2 [==============================] - 0s 8ms/step - loss: 40.6423 - mae: 35.3773\n",
            "Epoch 166/500\n",
            "2/2 [==============================] - 0s 8ms/step - loss: 40.5813 - mae: 35.4940\n",
            "Epoch 167/500\n",
            "2/2 [==============================] - 0s 7ms/step - loss: 40.7145 - mae: 34.5569\n",
            "Epoch 168/500\n",
            "2/2 [==============================] - 0s 12ms/step - loss: 40.6852 - mae: 35.3040\n",
            "Epoch 169/500\n",
            "2/2 [==============================] - 0s 9ms/step - loss: 40.6625 - mae: 35.5942\n",
            "Epoch 170/500\n",
            "2/2 [==============================] - 0s 11ms/step - loss: 40.6538 - mae: 35.5663\n",
            "Epoch 171/500\n",
            "2/2 [==============================] - 0s 10ms/step - loss: 40.6338 - mae: 35.5208\n",
            "Epoch 172/500\n",
            "2/2 [==============================] - 0s 7ms/step - loss: 40.5001 - mae: 35.6647\n",
            "Epoch 173/500\n",
            "2/2 [==============================] - 0s 10ms/step - loss: 40.6993 - mae: 33.5541\n",
            "Epoch 174/500\n",
            "2/2 [==============================] - 0s 14ms/step - loss: 40.5895 - mae: 35.0047\n",
            "Epoch 175/500\n",
            "2/2 [==============================] - 0s 12ms/step - loss: 40.5422 - mae: 34.5937\n",
            "Epoch 176/500\n",
            "2/2 [==============================] - 0s 37ms/step - loss: 40.7958 - mae: 33.4229\n",
            "Epoch 177/500\n",
            "2/2 [==============================] - 0s 9ms/step - loss: 40.7576 - mae: 33.3827\n",
            "Epoch 178/500\n",
            "2/2 [==============================] - 0s 14ms/step - loss: 40.6115 - mae: 33.8534\n",
            "Epoch 179/500\n",
            "2/2 [==============================] - 0s 11ms/step - loss: 40.0396 - mae: 34.5570\n",
            "Epoch 180/500\n",
            "2/2 [==============================] - 0s 7ms/step - loss: 40.6697 - mae: 33.9977\n",
            "Epoch 181/500\n",
            "2/2 [==============================] - 0s 16ms/step - loss: 40.7243 - mae: 33.3565\n",
            "Epoch 182/500\n",
            "2/2 [==============================] - 0s 11ms/step - loss: 40.5117 - mae: 32.6509\n",
            "Epoch 183/500\n",
            "2/2 [==============================] - 0s 11ms/step - loss: 39.8254 - mae: 33.7277\n",
            "Epoch 184/500\n",
            "2/2 [==============================] - 0s 11ms/step - loss: 41.4222 - mae: 27.0275\n",
            "Epoch 185/500\n",
            "2/2 [==============================] - 0s 9ms/step - loss: 40.7735 - mae: 31.4702\n",
            "Epoch 186/500\n",
            "2/2 [==============================] - 0s 13ms/step - loss: 40.4714 - mae: 31.0617\n",
            "Epoch 187/500\n",
            "2/2 [==============================] - 0s 16ms/step - loss: 40.6791 - mae: 33.0879\n",
            "Epoch 188/500\n",
            "2/2 [==============================] - 0s 7ms/step - loss: 40.2930 - mae: 32.1069\n",
            "Epoch 189/500\n",
            "2/2 [==============================] - 0s 8ms/step - loss: 40.7908 - mae: 32.8493\n",
            "Epoch 190/500\n",
            "2/2 [==============================] - 0s 10ms/step - loss: 40.6985 - mae: 34.6815\n",
            "Epoch 191/500\n",
            "2/2 [==============================] - 0s 8ms/step - loss: 40.5918 - mae: 34.9145\n",
            "Epoch 192/500\n",
            "2/2 [==============================] - 0s 11ms/step - loss: 40.3057 - mae: 35.4691\n",
            "Epoch 193/500\n",
            "2/2 [==============================] - 0s 11ms/step - loss: 40.5634 - mae: 33.0902\n",
            "Epoch 194/500\n",
            "2/2 [==============================] - 0s 9ms/step - loss: 40.6443 - mae: 34.2745\n",
            "Epoch 195/500\n",
            "2/2 [==============================] - 0s 8ms/step - loss: 40.5944 - mae: 34.9891\n",
            "Epoch 196/500\n",
            "2/2 [==============================] - 0s 9ms/step - loss: 39.4199 - mae: 33.7010\n",
            "Epoch 197/500\n",
            "2/2 [==============================] - 0s 7ms/step - loss: 40.9317 - mae: 31.7836\n",
            "Epoch 198/500\n",
            "2/2 [==============================] - 0s 9ms/step - loss: 40.4838 - mae: 32.0920\n",
            "Epoch 199/500\n",
            "2/2 [==============================] - 0s 30ms/step - loss: 40.9620 - mae: 30.6243\n",
            "Epoch 200/500\n",
            "2/2 [==============================] - 0s 18ms/step - loss: 40.8833 - mae: 31.7880\n",
            "Epoch 201/500\n",
            "2/2 [==============================] - 0s 15ms/step - loss: 40.1607 - mae: 33.2628\n",
            "Epoch 202/500\n",
            "2/2 [==============================] - 0s 8ms/step - loss: 41.1019 - mae: 29.4587\n",
            "Epoch 203/500\n",
            "2/2 [==============================] - 0s 8ms/step - loss: 40.7578 - mae: 32.3984\n",
            "Epoch 204/500\n",
            "2/2 [==============================] - 0s 7ms/step - loss: 40.8021 - mae: 32.8873\n",
            "Epoch 205/500\n",
            "2/2 [==============================] - 0s 9ms/step - loss: 40.6244 - mae: 33.8770\n",
            "Epoch 206/500\n",
            "2/2 [==============================] - 0s 7ms/step - loss: 40.7000 - mae: 34.7869\n",
            "Epoch 207/500\n",
            "2/2 [==============================] - 0s 9ms/step - loss: 40.4774 - mae: 35.4072\n",
            "Epoch 208/500\n",
            "2/2 [==============================] - 0s 10ms/step - loss: 40.6673 - mae: 33.4324\n",
            "Epoch 209/500\n",
            "2/2 [==============================] - 0s 7ms/step - loss: 40.0519 - mae: 33.8624\n",
            "Epoch 210/500\n",
            "2/2 [==============================] - 0s 11ms/step - loss: 41.0615 - mae: 30.4108\n",
            "Epoch 211/500\n",
            "2/2 [==============================] - 0s 9ms/step - loss: 40.8594 - mae: 30.9998\n",
            "Epoch 212/500\n",
            "2/2 [==============================] - 0s 7ms/step - loss: 40.6486 - mae: 32.9478\n",
            "Epoch 213/500\n",
            "2/2 [==============================] - 0s 7ms/step - loss: 40.6793 - mae: 34.4468\n",
            "Epoch 214/500\n",
            "2/2 [==============================] - 0s 19ms/step - loss: 40.6593 - mae: 34.5146\n",
            "Epoch 215/500\n",
            "2/2 [==============================] - 0s 10ms/step - loss: 40.6770 - mae: 33.8961\n",
            "Epoch 216/500\n",
            "2/2 [==============================] - 0s 12ms/step - loss: 40.5542 - mae: 34.8622\n",
            "Epoch 217/500\n",
            "2/2 [==============================] - 0s 8ms/step - loss: 39.8775 - mae: 34.0132\n",
            "Epoch 218/500\n",
            "2/2 [==============================] - 0s 10ms/step - loss: 40.3886 - mae: 33.4501\n",
            "Epoch 219/500\n",
            "2/2 [==============================] - 0s 14ms/step - loss: 40.7145 - mae: 34.3780\n",
            "Epoch 220/500\n",
            "2/2 [==============================] - 0s 13ms/step - loss: 39.9564 - mae: 34.2352\n",
            "Epoch 221/500\n",
            "2/2 [==============================] - 0s 12ms/step - loss: 40.9899 - mae: 30.2217\n",
            "Epoch 222/500\n",
            "2/2 [==============================] - 0s 8ms/step - loss: 40.7671 - mae: 29.9458\n",
            "Epoch 223/500\n",
            "2/2 [==============================] - 0s 12ms/step - loss: 40.0459 - mae: 31.9911\n",
            "Epoch 224/500\n",
            "2/2 [==============================] - 0s 7ms/step - loss: 40.7402 - mae: 32.5997\n",
            "Epoch 225/500\n",
            "2/2 [==============================] - 0s 9ms/step - loss: 40.6596 - mae: 32.2452\n",
            "Epoch 226/500\n",
            "2/2 [==============================] - 0s 9ms/step - loss: 40.8480 - mae: 32.1405\n",
            "Epoch 227/500\n",
            "2/2 [==============================] - 0s 10ms/step - loss: 40.7628 - mae: 31.7960\n",
            "Epoch 228/500\n",
            "2/2 [==============================] - 0s 7ms/step - loss: 40.4152 - mae: 33.6454\n",
            "Epoch 229/500\n",
            "2/2 [==============================] - 0s 8ms/step - loss: 40.6831 - mae: 34.1169\n",
            "Epoch 230/500\n",
            "2/2 [==============================] - 0s 8ms/step - loss: 40.3954 - mae: 34.9618\n",
            "Epoch 231/500\n",
            "2/2 [==============================] - 0s 7ms/step - loss: 40.8018 - mae: 32.6553\n",
            "Epoch 232/500\n",
            "2/2 [==============================] - 0s 10ms/step - loss: 40.7335 - mae: 33.6041\n",
            "Epoch 233/500\n",
            "2/2 [==============================] - 0s 7ms/step - loss: 40.7169 - mae: 34.1477\n",
            "Epoch 234/500\n",
            "2/2 [==============================] - 0s 7ms/step - loss: 40.4216 - mae: 34.6679\n",
            "Epoch 235/500\n",
            "2/2 [==============================] - 0s 8ms/step - loss: 40.6593 - mae: 33.9566\n",
            "Epoch 236/500\n",
            "2/2 [==============================] - 0s 18ms/step - loss: 40.6207 - mae: 34.2188\n",
            "Epoch 237/500\n",
            "2/2 [==============================] - 0s 14ms/step - loss: 40.4002 - mae: 34.9138\n",
            "Epoch 238/500\n",
            "2/2 [==============================] - 0s 13ms/step - loss: 40.6649 - mae: 34.8926\n",
            "Epoch 239/500\n",
            "2/2 [==============================] - 0s 7ms/step - loss: 40.6574 - mae: 35.3832\n",
            "Epoch 240/500\n",
            "2/2 [==============================] - 0s 7ms/step - loss: 40.6146 - mae: 35.4732\n",
            "Epoch 241/500\n",
            "2/2 [==============================] - 0s 7ms/step - loss: 40.6399 - mae: 35.5174\n",
            "Epoch 242/500\n",
            "2/2 [==============================] - 0s 7ms/step - loss: 40.6097 - mae: 36.2438\n",
            "Epoch 243/500\n",
            "2/2 [==============================] - 0s 7ms/step - loss: 40.4276 - mae: 35.9587\n",
            "Epoch 244/500\n",
            "2/2 [==============================] - 0s 9ms/step - loss: 40.6480 - mae: 36.2133\n",
            "Epoch 245/500\n",
            "2/2 [==============================] - 0s 9ms/step - loss: 40.6332 - mae: 35.6945\n",
            "Epoch 246/500\n",
            "2/2 [==============================] - 0s 8ms/step - loss: 40.5927 - mae: 36.3700\n",
            "Epoch 247/500\n",
            "2/2 [==============================] - 0s 8ms/step - loss: 40.6386 - mae: 35.1782\n",
            "Epoch 248/500\n",
            "2/2 [==============================] - 0s 14ms/step - loss: 40.6590 - mae: 35.3544\n",
            "Epoch 249/500\n",
            "2/2 [==============================] - 0s 11ms/step - loss: 40.5465 - mae: 35.4868\n",
            "Epoch 250/500\n",
            "2/2 [==============================] - 0s 14ms/step - loss: 40.6079 - mae: 33.9338\n",
            "Epoch 251/500\n",
            "2/2 [==============================] - 0s 20ms/step - loss: 40.2234 - mae: 34.3379\n",
            "Epoch 252/500\n",
            "2/2 [==============================] - 0s 18ms/step - loss: 40.9495 - mae: 31.1132\n",
            "Epoch 253/500\n",
            "2/2 [==============================] - 0s 12ms/step - loss: 40.8213 - mae: 31.0861\n",
            "Epoch 254/500\n",
            "2/2 [==============================] - 0s 11ms/step - loss: 40.5324 - mae: 33.1402\n",
            "Epoch 255/500\n",
            "2/2 [==============================] - 0s 9ms/step - loss: 40.9220 - mae: 30.9859\n",
            "Epoch 256/500\n",
            "2/2 [==============================] - 0s 8ms/step - loss: 40.5066 - mae: 31.9499\n",
            "Epoch 257/500\n",
            "2/2 [==============================] - 0s 7ms/step - loss: 40.7356 - mae: 32.5742\n",
            "Epoch 258/500\n",
            "2/2 [==============================] - 0s 8ms/step - loss: 40.6367 - mae: 33.7986\n",
            "Epoch 259/500\n",
            "2/2 [==============================] - 0s 9ms/step - loss: 40.4034 - mae: 33.5738\n",
            "Epoch 260/500\n",
            "2/2 [==============================] - 0s 9ms/step - loss: 40.8569 - mae: 31.1357\n",
            "Epoch 261/500\n",
            "2/2 [==============================] - 0s 11ms/step - loss: 40.1138 - mae: 30.3984\n",
            "Epoch 262/500\n",
            "2/2 [==============================] - 0s 8ms/step - loss: 40.1654 - mae: 30.8224\n",
            "Epoch 263/500\n",
            "2/2 [==============================] - 0s 9ms/step - loss: 40.8868 - mae: 31.5810\n",
            "Epoch 264/500\n",
            "2/2 [==============================] - 0s 8ms/step - loss: 39.9853 - mae: 32.2607\n",
            "Epoch 265/500\n",
            "2/2 [==============================] - 0s 9ms/step - loss: 40.4176 - mae: 32.5055\n",
            "Epoch 266/500\n",
            "2/2 [==============================] - 0s 12ms/step - loss: 40.6182 - mae: 33.4697\n",
            "Epoch 267/500\n",
            "2/2 [==============================] - 0s 13ms/step - loss: 40.6416 - mae: 35.1302\n",
            "Epoch 268/500\n",
            "2/2 [==============================] - 0s 15ms/step - loss: 40.4143 - mae: 34.7303\n",
            "Epoch 269/500\n",
            "2/2 [==============================] - 0s 10ms/step - loss: 40.7901 - mae: 32.4850\n",
            "Epoch 270/500\n",
            "2/2 [==============================] - 0s 17ms/step - loss: 39.9984 - mae: 33.3252\n",
            "Epoch 271/500\n",
            "2/2 [==============================] - 0s 30ms/step - loss: 40.4169 - mae: 33.7338\n",
            "Epoch 272/500\n",
            "2/2 [==============================] - 0s 8ms/step - loss: 40.7278 - mae: 32.7258\n",
            "Epoch 273/500\n",
            "2/2 [==============================] - 0s 17ms/step - loss: 40.5826 - mae: 34.2720\n",
            "Epoch 274/500\n",
            "2/2 [==============================] - 0s 15ms/step - loss: 39.8875 - mae: 34.9170\n",
            "Epoch 275/500\n",
            "2/2 [==============================] - 0s 14ms/step - loss: 41.1568 - mae: 29.4334\n",
            "Epoch 276/500\n",
            "2/2 [==============================] - 0s 10ms/step - loss: 40.9181 - mae: 31.2839\n",
            "Epoch 277/500\n",
            "2/2 [==============================] - 0s 7ms/step - loss: 40.2231 - mae: 32.8521\n",
            "Epoch 278/500\n",
            "2/2 [==============================] - 0s 10ms/step - loss: 40.7769 - mae: 33.2176\n",
            "Epoch 279/500\n",
            "2/2 [==============================] - 0s 8ms/step - loss: 40.6569 - mae: 33.0167\n",
            "Epoch 280/500\n",
            "2/2 [==============================] - 0s 18ms/step - loss: 40.8399 - mae: 32.1980\n",
            "Epoch 281/500\n",
            "2/2 [==============================] - 0s 17ms/step - loss: 40.7010 - mae: 33.2351\n",
            "Epoch 282/500\n",
            "2/2 [==============================] - 0s 12ms/step - loss: 40.6880 - mae: 33.4616\n",
            "Epoch 283/500\n",
            "2/2 [==============================] - 0s 19ms/step - loss: 40.5488 - mae: 34.8533\n",
            "Epoch 284/500\n",
            "2/2 [==============================] - 0s 12ms/step - loss: 40.6008 - mae: 34.3636\n",
            "Epoch 285/500\n",
            "2/2 [==============================] - 0s 10ms/step - loss: 40.5215 - mae: 34.3097\n",
            "Epoch 286/500\n",
            "2/2 [==============================] - 0s 10ms/step - loss: 40.4856 - mae: 33.1031\n",
            "Epoch 287/500\n",
            "2/2 [==============================] - 0s 9ms/step - loss: 40.8904 - mae: 31.4770\n",
            "Epoch 288/500\n",
            "2/2 [==============================] - 0s 13ms/step - loss: 40.6838 - mae: 32.6662\n",
            "Epoch 289/500\n",
            "2/2 [==============================] - 0s 7ms/step - loss: 40.6994 - mae: 33.9731\n",
            "Epoch 290/500\n",
            "2/2 [==============================] - 0s 8ms/step - loss: 40.6489 - mae: 34.8127\n",
            "Epoch 291/500\n",
            "2/2 [==============================] - 0s 9ms/step - loss: 40.5819 - mae: 34.9195\n",
            "Epoch 292/500\n",
            "2/2 [==============================] - 0s 10ms/step - loss: 40.3970 - mae: 35.9756\n",
            "Epoch 293/500\n",
            "2/2 [==============================] - 0s 15ms/step - loss: 40.4562 - mae: 33.6835\n",
            "Epoch 294/500\n",
            "2/2 [==============================] - 0s 13ms/step - loss: 40.8096 - mae: 32.6140\n",
            "Epoch 295/500\n",
            "2/2 [==============================] - 0s 43ms/step - loss: 40.7213 - mae: 33.5399\n",
            "Epoch 296/500\n",
            "2/2 [==============================] - 0s 17ms/step - loss: 40.5279 - mae: 33.5478\n",
            "Epoch 297/500\n",
            "2/2 [==============================] - 0s 13ms/step - loss: 40.6491 - mae: 34.2377\n",
            "Epoch 298/500\n",
            "2/2 [==============================] - 0s 12ms/step - loss: 40.6745 - mae: 33.7428\n",
            "Epoch 299/500\n",
            "2/2 [==============================] - 0s 20ms/step - loss: 40.4047 - mae: 34.3481\n",
            "Epoch 300/500\n",
            "2/2 [==============================] - 0s 17ms/step - loss: 40.4866 - mae: 32.2782\n",
            "Epoch 301/500\n",
            "2/2 [==============================] - 0s 21ms/step - loss: 40.5449 - mae: 29.7068\n",
            "Epoch 302/500\n",
            "2/2 [==============================] - 0s 16ms/step - loss: 40.8448 - mae: 31.5596\n",
            "Epoch 303/500\n",
            "2/2 [==============================] - 0s 15ms/step - loss: 40.9686 - mae: 30.8548\n",
            "Epoch 304/500\n",
            "2/2 [==============================] - 0s 14ms/step - loss: 39.9281 - mae: 31.4450\n",
            "Epoch 305/500\n",
            "2/2 [==============================] - 0s 27ms/step - loss: 40.8830 - mae: 31.2597\n",
            "Epoch 306/500\n",
            "2/2 [==============================] - 0s 17ms/step - loss: 40.7465 - mae: 32.1890\n",
            "Epoch 307/500\n",
            "2/2 [==============================] - 0s 26ms/step - loss: 40.6530 - mae: 33.6085\n",
            "Epoch 308/500\n",
            "2/2 [==============================] - 0s 13ms/step - loss: 40.6971 - mae: 33.9621\n",
            "Epoch 309/500\n",
            "2/2 [==============================] - 0s 14ms/step - loss: 40.6703 - mae: 34.6151\n",
            "Epoch 310/500\n",
            "2/2 [==============================] - 0s 8ms/step - loss: 40.5825 - mae: 35.0509\n",
            "Epoch 311/500\n",
            "2/2 [==============================] - 0s 10ms/step - loss: 40.1129 - mae: 35.7520\n",
            "Epoch 312/500\n",
            "2/2 [==============================] - 0s 8ms/step - loss: 40.8065 - mae: 31.7213\n",
            "Epoch 313/500\n",
            "2/2 [==============================] - 0s 9ms/step - loss: 39.7193 - mae: 31.1021\n",
            "Epoch 314/500\n",
            "2/2 [==============================] - 0s 12ms/step - loss: 40.8508 - mae: 31.4663\n",
            "Epoch 315/500\n",
            "2/2 [==============================] - 0s 7ms/step - loss: 40.7698 - mae: 32.4580\n",
            "Epoch 316/500\n",
            "2/2 [==============================] - 0s 9ms/step - loss: 40.0613 - mae: 34.1938\n",
            "Epoch 317/500\n",
            "2/2 [==============================] - 0s 8ms/step - loss: 40.8810 - mae: 29.8947\n",
            "Epoch 318/500\n",
            "2/2 [==============================] - 0s 7ms/step - loss: 40.9428 - mae: 31.7997\n",
            "Epoch 319/500\n",
            "2/2 [==============================] - 0s 9ms/step - loss: 40.8651 - mae: 31.8956\n",
            "Epoch 320/500\n",
            "2/2 [==============================] - 0s 8ms/step - loss: 40.7081 - mae: 33.5984\n",
            "Epoch 321/500\n",
            "2/2 [==============================] - 0s 9ms/step - loss: 40.2106 - mae: 34.8641\n",
            "Epoch 322/500\n",
            "2/2 [==============================] - 0s 12ms/step - loss: 40.6563 - mae: 34.9475\n",
            "Epoch 323/500\n",
            "2/2 [==============================] - 0s 13ms/step - loss: 40.6558 - mae: 35.2629\n",
            "Epoch 324/500\n",
            "2/2 [==============================] - 0s 17ms/step - loss: 40.5680 - mae: 35.4318\n",
            "Epoch 325/500\n",
            "2/2 [==============================] - 0s 11ms/step - loss: 40.6057 - mae: 34.9179\n",
            "Epoch 326/500\n",
            "2/2 [==============================] - 0s 9ms/step - loss: 40.6024 - mae: 35.0665\n",
            "Epoch 327/500\n",
            "2/2 [==============================] - 0s 7ms/step - loss: 40.3152 - mae: 35.1834\n",
            "Epoch 328/500\n",
            "2/2 [==============================] - 0s 9ms/step - loss: 40.5836 - mae: 35.4544\n",
            "Epoch 329/500\n",
            "2/2 [==============================] - 0s 10ms/step - loss: 40.5410 - mae: 35.8709\n",
            "Epoch 330/500\n",
            "2/2 [==============================] - 0s 8ms/step - loss: 40.5782 - mae: 36.1882\n",
            "Epoch 331/500\n",
            "2/2 [==============================] - 0s 10ms/step - loss: 40.3642 - mae: 35.5677\n",
            "Epoch 332/500\n",
            "2/2 [==============================] - 0s 11ms/step - loss: 40.6574 - mae: 33.9466\n",
            "Epoch 333/500\n",
            "2/2 [==============================] - 0s 14ms/step - loss: 40.6570 - mae: 34.2237\n",
            "Epoch 334/500\n",
            "2/2 [==============================] - 0s 12ms/step - loss: 40.4743 - mae: 34.5925\n",
            "Epoch 335/500\n",
            "2/2 [==============================] - 0s 14ms/step - loss: 40.0099 - mae: 35.1943\n",
            "Epoch 336/500\n",
            "2/2 [==============================] - 0s 13ms/step - loss: 40.8204 - mae: 31.8670\n",
            "Epoch 337/500\n",
            "2/2 [==============================] - 0s 8ms/step - loss: 40.3044 - mae: 33.0426\n",
            "Epoch 338/500\n",
            "2/2 [==============================] - 0s 10ms/step - loss: 40.4659 - mae: 33.0741\n",
            "Epoch 339/500\n",
            "2/2 [==============================] - 0s 10ms/step - loss: 40.4844 - mae: 33.5270\n",
            "Epoch 340/500\n",
            "2/2 [==============================] - 0s 13ms/step - loss: 40.7090 - mae: 33.9744\n",
            "Epoch 341/500\n",
            "2/2 [==============================] - 0s 9ms/step - loss: 40.4493 - mae: 34.6250\n",
            "Epoch 342/500\n",
            "2/2 [==============================] - 0s 13ms/step - loss: 40.1301 - mae: 35.3559\n",
            "Epoch 343/500\n",
            "2/2 [==============================] - 0s 8ms/step - loss: 40.1552 - mae: 34.9118\n",
            "Epoch 344/500\n",
            "2/2 [==============================] - 0s 8ms/step - loss: 39.6035 - mae: 35.2332\n",
            "Epoch 345/500\n",
            "2/2 [==============================] - 0s 10ms/step - loss: 41.3933 - mae: 27.5573\n",
            "Epoch 346/500\n",
            "2/2 [==============================] - 0s 10ms/step - loss: 40.9143 - mae: 30.4129\n",
            "Epoch 347/500\n",
            "2/2 [==============================] - 0s 12ms/step - loss: 40.9428 - mae: 30.6828\n",
            "Epoch 348/500\n",
            "2/2 [==============================] - 0s 13ms/step - loss: 40.6478 - mae: 32.9723\n",
            "Epoch 349/500\n",
            "2/2 [==============================] - 0s 19ms/step - loss: 40.6805 - mae: 34.3267\n",
            "Epoch 350/500\n",
            "2/2 [==============================] - 0s 16ms/step - loss: 39.7835 - mae: 34.5613\n",
            "Epoch 351/500\n",
            "2/2 [==============================] - 0s 9ms/step - loss: 40.8865 - mae: 29.6233\n",
            "Epoch 352/500\n",
            "2/2 [==============================] - 0s 17ms/step - loss: 40.9876 - mae: 30.4928\n",
            "Epoch 353/500\n",
            "2/2 [==============================] - 0s 18ms/step - loss: 40.7672 - mae: 32.2272\n",
            "Epoch 354/500\n",
            "2/2 [==============================] - 0s 14ms/step - loss: 40.6347 - mae: 33.5439\n",
            "Epoch 355/500\n",
            "2/2 [==============================] - 0s 18ms/step - loss: 40.5549 - mae: 34.4573\n",
            "Epoch 356/500\n",
            "2/2 [==============================] - 0s 14ms/step - loss: 40.3136 - mae: 35.1259\n",
            "Epoch 357/500\n",
            "2/2 [==============================] - 0s 9ms/step - loss: 40.2461 - mae: 32.4178\n",
            "Epoch 358/500\n",
            "2/2 [==============================] - 0s 20ms/step - loss: 40.9771 - mae: 30.7007\n",
            "Epoch 359/500\n",
            "2/2 [==============================] - 0s 12ms/step - loss: 40.4092 - mae: 32.2078\n",
            "Epoch 360/500\n",
            "2/2 [==============================] - 0s 18ms/step - loss: 40.7735 - mae: 30.8150\n",
            "Epoch 361/500\n",
            "2/2 [==============================] - 0s 13ms/step - loss: 40.6508 - mae: 33.0258\n",
            "Epoch 362/500\n",
            "2/2 [==============================] - 0s 20ms/step - loss: 40.6147 - mae: 33.0661\n",
            "Epoch 363/500\n",
            "2/2 [==============================] - 0s 18ms/step - loss: 40.3204 - mae: 32.3515\n",
            "Epoch 364/500\n",
            "2/2 [==============================] - 0s 15ms/step - loss: 40.9919 - mae: 29.0804\n",
            "Epoch 365/500\n",
            "2/2 [==============================] - 0s 14ms/step - loss: 40.4107 - mae: 31.6611\n",
            "Epoch 366/500\n",
            "2/2 [==============================] - 0s 19ms/step - loss: 40.0187 - mae: 33.3265\n",
            "Epoch 367/500\n",
            "2/2 [==============================] - 0s 17ms/step - loss: 41.0395 - mae: 29.7252\n",
            "Epoch 368/500\n",
            "2/2 [==============================] - 0s 21ms/step - loss: 40.7399 - mae: 30.9591\n",
            "Epoch 369/500\n",
            "2/2 [==============================] - 0s 26ms/step - loss: 40.7313 - mae: 33.3470\n",
            "Epoch 370/500\n",
            "2/2 [==============================] - 0s 21ms/step - loss: 40.6745 - mae: 33.8524\n",
            "Epoch 371/500\n",
            "2/2 [==============================] - 0s 19ms/step - loss: 40.5014 - mae: 34.1144\n",
            "Epoch 372/500\n",
            "2/2 [==============================] - 0s 21ms/step - loss: 40.5461 - mae: 35.0780\n",
            "Epoch 373/500\n",
            "2/2 [==============================] - 0s 17ms/step - loss: 40.6648 - mae: 34.3718\n",
            "Epoch 374/500\n",
            "2/2 [==============================] - 0s 19ms/step - loss: 40.5642 - mae: 34.6958\n",
            "Epoch 375/500\n",
            "2/2 [==============================] - 0s 13ms/step - loss: 40.5078 - mae: 35.3890\n",
            "Epoch 376/500\n",
            "2/2 [==============================] - 0s 12ms/step - loss: 40.2262 - mae: 35.8026\n",
            "Epoch 377/500\n",
            "2/2 [==============================] - 0s 10ms/step - loss: 40.4509 - mae: 35.8093\n",
            "Epoch 378/500\n",
            "2/2 [==============================] - 0s 11ms/step - loss: 40.5293 - mae: 35.4035\n",
            "Epoch 379/500\n",
            "2/2 [==============================] - 0s 13ms/step - loss: 40.5288 - mae: 34.8506\n",
            "Epoch 380/500\n",
            "2/2 [==============================] - 0s 16ms/step - loss: 40.6854 - mae: 33.8135\n",
            "Epoch 381/500\n",
            "2/2 [==============================] - 0s 16ms/step - loss: 40.5928 - mae: 35.4669\n",
            "Epoch 382/500\n",
            "2/2 [==============================] - 0s 12ms/step - loss: 40.5354 - mae: 35.5997\n",
            "Epoch 383/500\n",
            "2/2 [==============================] - 0s 10ms/step - loss: 40.4288 - mae: 35.1342\n",
            "Epoch 384/500\n",
            "2/2 [==============================] - 0s 9ms/step - loss: 40.1028 - mae: 35.1608\n",
            "Epoch 385/500\n",
            "2/2 [==============================] - 0s 13ms/step - loss: 40.6344 - mae: 34.9415\n",
            "Epoch 386/500\n",
            "2/2 [==============================] - 0s 13ms/step - loss: 40.6152 - mae: 35.0697\n",
            "Epoch 387/500\n",
            "2/2 [==============================] - 0s 18ms/step - loss: 40.5987 - mae: 35.8714\n",
            "Epoch 388/500\n",
            "2/2 [==============================] - 0s 11ms/step - loss: 40.6539 - mae: 35.6234\n",
            "Epoch 389/500\n",
            "2/2 [==============================] - 0s 11ms/step - loss: 40.3090 - mae: 35.4945\n",
            "Epoch 390/500\n",
            "2/2 [==============================] - 0s 16ms/step - loss: 40.8010 - mae: 32.3648\n",
            "Epoch 391/500\n",
            "2/2 [==============================] - 0s 13ms/step - loss: 40.7496 - mae: 33.2926\n",
            "Epoch 392/500\n",
            "2/2 [==============================] - 0s 12ms/step - loss: 40.4591 - mae: 34.6144\n",
            "Epoch 393/500\n",
            "2/2 [==============================] - 0s 24ms/step - loss: 40.6362 - mae: 34.8920\n",
            "Epoch 394/500\n",
            "2/2 [==============================] - 0s 10ms/step - loss: 40.4736 - mae: 35.6049\n",
            "Epoch 395/500\n",
            "2/2 [==============================] - 0s 11ms/step - loss: 40.6652 - mae: 34.2489\n",
            "Epoch 396/500\n",
            "2/2 [==============================] - 0s 15ms/step - loss: 40.4299 - mae: 34.7274\n",
            "Epoch 397/500\n",
            "2/2 [==============================] - 0s 8ms/step - loss: 40.5823 - mae: 34.9684\n",
            "Epoch 398/500\n",
            "2/2 [==============================] - 0s 19ms/step - loss: 40.6484 - mae: 34.4189\n",
            "Epoch 399/500\n",
            "2/2 [==============================] - 0s 9ms/step - loss: 40.4906 - mae: 35.0811\n",
            "Epoch 400/500\n",
            "2/2 [==============================] - 0s 16ms/step - loss: 40.7328 - mae: 33.4062\n",
            "Epoch 401/500\n",
            "2/2 [==============================] - 0s 14ms/step - loss: 39.9339 - mae: 34.1533\n",
            "Epoch 402/500\n",
            "2/2 [==============================] - 0s 16ms/step - loss: 40.4593 - mae: 29.1899\n",
            "Epoch 403/500\n",
            "2/2 [==============================] - 0s 9ms/step - loss: 40.1588 - mae: 31.5970\n",
            "Epoch 404/500\n",
            "2/2 [==============================] - 0s 14ms/step - loss: 41.3496 - mae: 27.5771\n",
            "Epoch 405/500\n",
            "2/2 [==============================] - 0s 11ms/step - loss: 40.7645 - mae: 31.5194\n",
            "Epoch 406/500\n",
            "2/2 [==============================] - 0s 14ms/step - loss: 40.7629 - mae: 32.7674\n",
            "Epoch 407/500\n",
            "2/2 [==============================] - 0s 26ms/step - loss: 40.6579 - mae: 33.9083\n",
            "Epoch 408/500\n",
            "2/2 [==============================] - 0s 13ms/step - loss: 40.1234 - mae: 34.6183\n",
            "Epoch 409/500\n",
            "2/2 [==============================] - 0s 9ms/step - loss: 40.8388 - mae: 30.2850\n",
            "Epoch 410/500\n",
            "2/2 [==============================] - 0s 7ms/step - loss: 40.8788 - mae: 31.2637\n",
            "Epoch 411/500\n",
            "2/2 [==============================] - 0s 13ms/step - loss: 40.6650 - mae: 32.3495\n",
            "Epoch 412/500\n",
            "2/2 [==============================] - 0s 16ms/step - loss: 40.7658 - mae: 32.1657\n",
            "Epoch 413/500\n",
            "2/2 [==============================] - 0s 11ms/step - loss: 40.8359 - mae: 32.4462\n",
            "Epoch 414/500\n",
            "2/2 [==============================] - 0s 19ms/step - loss: 40.6951 - mae: 32.3556\n",
            "Epoch 415/500\n",
            "2/2 [==============================] - 0s 24ms/step - loss: 40.6335 - mae: 33.9301\n",
            "Epoch 416/500\n",
            "2/2 [==============================] - 0s 17ms/step - loss: 40.6363 - mae: 35.0528\n",
            "Epoch 417/500\n",
            "2/2 [==============================] - 0s 13ms/step - loss: 40.6137 - mae: 35.4718\n",
            "Epoch 418/500\n",
            "2/2 [==============================] - 0s 19ms/step - loss: 40.6196 - mae: 35.2341\n",
            "Epoch 419/500\n",
            "2/2 [==============================] - 0s 28ms/step - loss: 40.3680 - mae: 35.4814\n",
            "Epoch 420/500\n",
            "2/2 [==============================] - 0s 11ms/step - loss: 40.6352 - mae: 33.2756\n",
            "Epoch 421/500\n",
            "2/2 [==============================] - 0s 14ms/step - loss: 40.5754 - mae: 34.6154\n",
            "Epoch 422/500\n",
            "2/2 [==============================] - 0s 19ms/step - loss: 40.4832 - mae: 35.0562\n",
            "Epoch 423/500\n",
            "2/2 [==============================] - 0s 19ms/step - loss: 40.6682 - mae: 34.4613\n",
            "Epoch 424/500\n",
            "2/2 [==============================] - 0s 8ms/step - loss: 40.5236 - mae: 35.0826\n",
            "Epoch 425/500\n",
            "2/2 [==============================] - 0s 9ms/step - loss: 40.6530 - mae: 34.7220\n",
            "Epoch 426/500\n",
            "2/2 [==============================] - 0s 12ms/step - loss: 40.3846 - mae: 34.3819\n",
            "Epoch 427/500\n",
            "2/2 [==============================] - 0s 15ms/step - loss: 40.6563 - mae: 34.5405\n",
            "Epoch 428/500\n",
            "2/2 [==============================] - 0s 20ms/step - loss: 40.4433 - mae: 34.8759\n",
            "Epoch 429/500\n",
            "2/2 [==============================] - 0s 20ms/step - loss: 40.2376 - mae: 34.0352\n",
            "Epoch 430/500\n",
            "2/2 [==============================] - 0s 16ms/step - loss: 40.8256 - mae: 30.1309\n",
            "Epoch 431/500\n",
            "2/2 [==============================] - 0s 9ms/step - loss: 40.6419 - mae: 31.4135\n",
            "Epoch 432/500\n",
            "2/2 [==============================] - 0s 12ms/step - loss: 40.7406 - mae: 31.7286\n",
            "Epoch 433/500\n",
            "2/2 [==============================] - 0s 7ms/step - loss: 40.1669 - mae: 33.2025\n",
            "Epoch 434/500\n",
            "2/2 [==============================] - 0s 7ms/step - loss: 41.0461 - mae: 30.1573\n",
            "Epoch 435/500\n",
            "2/2 [==============================] - 0s 13ms/step - loss: 39.8116 - mae: 32.3600\n",
            "Epoch 436/500\n",
            "2/2 [==============================] - 0s 14ms/step - loss: 41.4027 - mae: 26.1932\n",
            "Epoch 437/500\n",
            "2/2 [==============================] - 0s 7ms/step - loss: 41.1491 - mae: 27.9905\n",
            "Epoch 438/500\n",
            "2/2 [==============================] - 0s 16ms/step - loss: 39.6990 - mae: 32.5097\n",
            "Epoch 439/500\n",
            "2/2 [==============================] - 0s 13ms/step - loss: 41.1421 - mae: 25.7907\n",
            "Epoch 440/500\n",
            "2/2 [==============================] - 0s 9ms/step - loss: 41.0779 - mae: 26.1046\n",
            "Epoch 441/500\n",
            "2/2 [==============================] - 0s 9ms/step - loss: 41.1672 - mae: 27.0471\n",
            "Epoch 442/500\n",
            "2/2 [==============================] - 0s 11ms/step - loss: 41.1476 - mae: 28.9014\n",
            "Epoch 443/500\n",
            "2/2 [==============================] - 0s 28ms/step - loss: 40.9000 - mae: 30.9746\n",
            "Epoch 444/500\n",
            "2/2 [==============================] - 0s 24ms/step - loss: 40.2298 - mae: 31.9279\n",
            "Epoch 445/500\n",
            "2/2 [==============================] - 0s 20ms/step - loss: 40.7242 - mae: 33.5637\n",
            "Epoch 446/500\n",
            "2/2 [==============================] - 0s 29ms/step - loss: 40.3370 - mae: 33.2082\n",
            "Epoch 447/500\n",
            "2/2 [==============================] - 0s 13ms/step - loss: 40.3091 - mae: 34.2273\n",
            "Epoch 448/500\n",
            "2/2 [==============================] - 0s 13ms/step - loss: 40.6505 - mae: 34.8570\n",
            "Epoch 449/500\n",
            "2/2 [==============================] - 0s 18ms/step - loss: 40.6116 - mae: 34.8755\n",
            "Epoch 450/500\n",
            "2/2 [==============================] - 0s 15ms/step - loss: 40.5967 - mae: 35.1919\n",
            "Epoch 451/500\n",
            "2/2 [==============================] - 0s 18ms/step - loss: 39.9808 - mae: 35.5592\n",
            "Epoch 452/500\n",
            "2/2 [==============================] - 0s 8ms/step - loss: 40.8141 - mae: 31.0643\n",
            "Epoch 453/500\n",
            "2/2 [==============================] - 0s 14ms/step - loss: 40.9086 - mae: 29.5928\n",
            "Epoch 454/500\n",
            "2/2 [==============================] - 0s 10ms/step - loss: 40.8894 - mae: 30.6324\n",
            "Epoch 455/500\n",
            "2/2 [==============================] - 0s 19ms/step - loss: 40.7100 - mae: 31.9444\n",
            "Epoch 456/500\n",
            "2/2 [==============================] - 0s 12ms/step - loss: 40.6401 - mae: 33.7050\n",
            "Epoch 457/500\n",
            "2/2 [==============================] - 0s 18ms/step - loss: 40.5767 - mae: 33.9419\n",
            "Epoch 458/500\n",
            "2/2 [==============================] - 0s 22ms/step - loss: 40.1831 - mae: 34.7527\n",
            "Epoch 459/500\n",
            "2/2 [==============================] - 0s 20ms/step - loss: 40.7552 - mae: 32.1669\n",
            "Epoch 460/500\n",
            "2/2 [==============================] - 0s 27ms/step - loss: 40.7476 - mae: 32.8672\n",
            "Epoch 461/500\n",
            "2/2 [==============================] - 0s 14ms/step - loss: 40.6478 - mae: 33.7252\n",
            "Epoch 462/500\n",
            "2/2 [==============================] - 0s 10ms/step - loss: 40.6526 - mae: 34.3023\n",
            "Epoch 463/500\n",
            "2/2 [==============================] - 0s 10ms/step - loss: 40.5889 - mae: 34.8063\n",
            "Epoch 464/500\n",
            "2/2 [==============================] - 0s 16ms/step - loss: 40.4253 - mae: 35.4109\n",
            "Epoch 465/500\n",
            "2/2 [==============================] - 0s 20ms/step - loss: 40.4074 - mae: 35.5064\n",
            "Epoch 466/500\n",
            "2/2 [==============================] - 0s 14ms/step - loss: 40.5666 - mae: 35.6340\n",
            "Epoch 467/500\n",
            "2/2 [==============================] - 0s 9ms/step - loss: 40.6456 - mae: 35.0961\n",
            "Epoch 468/500\n",
            "2/2 [==============================] - 0s 24ms/step - loss: 40.5359 - mae: 34.9305\n",
            "Epoch 469/500\n",
            "2/2 [==============================] - 0s 34ms/step - loss: 40.6357 - mae: 34.1952\n",
            "Epoch 470/500\n",
            "2/2 [==============================] - 0s 24ms/step - loss: 40.6304 - mae: 34.3820\n",
            "Epoch 471/500\n",
            "2/2 [==============================] - 0s 32ms/step - loss: 40.5330 - mae: 34.8086\n",
            "Epoch 472/500\n",
            "2/2 [==============================] - 0s 50ms/step - loss: 40.5993 - mae: 35.3452\n",
            "Epoch 473/500\n",
            "2/2 [==============================] - 0s 22ms/step - loss: 40.4657 - mae: 36.0197\n",
            "Epoch 474/500\n",
            "2/2 [==============================] - 0s 13ms/step - loss: 40.5663 - mae: 34.5468\n",
            "Epoch 475/500\n",
            "2/2 [==============================] - 0s 28ms/step - loss: 40.2313 - mae: 34.4353\n",
            "Epoch 476/500\n",
            "2/2 [==============================] - 0s 35ms/step - loss: 40.4562 - mae: 35.0865\n",
            "Epoch 477/500\n",
            "2/2 [==============================] - 0s 36ms/step - loss: 40.6646 - mae: 33.4197\n",
            "Epoch 478/500\n",
            "2/2 [==============================] - 0s 27ms/step - loss: 40.2746 - mae: 32.8067\n",
            "Epoch 479/500\n",
            "2/2 [==============================] - 0s 21ms/step - loss: 40.6661 - mae: 33.4594\n",
            "Epoch 480/500\n",
            "2/2 [==============================] - 0s 13ms/step - loss: 40.6999 - mae: 32.9511\n",
            "Epoch 481/500\n",
            "2/2 [==============================] - 0s 28ms/step - loss: 40.6068 - mae: 33.6374\n",
            "Epoch 482/500\n",
            "2/2 [==============================] - 0s 38ms/step - loss: 40.6355 - mae: 33.3174\n",
            "Epoch 483/500\n",
            "2/2 [==============================] - 0s 14ms/step - loss: 40.3539 - mae: 33.8919\n",
            "Epoch 484/500\n",
            "2/2 [==============================] - 0s 30ms/step - loss: 39.9418 - mae: 31.2379\n",
            "Epoch 485/500\n",
            "2/2 [==============================] - 0s 17ms/step - loss: 40.7019 - mae: 31.8066\n",
            "Epoch 486/500\n",
            "2/2 [==============================] - 0s 21ms/step - loss: 39.9124 - mae: 32.3456\n",
            "Epoch 487/500\n",
            "2/2 [==============================] - 0s 13ms/step - loss: 40.6168 - mae: 32.8436\n",
            "Epoch 488/500\n",
            "2/2 [==============================] - 0s 22ms/step - loss: 39.8326 - mae: 31.9165\n",
            "Epoch 489/500\n",
            "2/2 [==============================] - 0s 21ms/step - loss: 40.4856 - mae: 32.0468\n",
            "Epoch 490/500\n",
            "2/2 [==============================] - 0s 20ms/step - loss: 40.6529 - mae: 34.0313\n",
            "Epoch 491/500\n",
            "2/2 [==============================] - 0s 15ms/step - loss: 40.6424 - mae: 34.5842\n",
            "Epoch 492/500\n",
            "2/2 [==============================] - 0s 16ms/step - loss: 40.6200 - mae: 34.2616\n",
            "Epoch 493/500\n",
            "2/2 [==============================] - 0s 18ms/step - loss: 40.5219 - mae: 34.5319\n",
            "Epoch 494/500\n",
            "2/2 [==============================] - 0s 27ms/step - loss: 40.1745 - mae: 34.8928\n",
            "Epoch 495/500\n",
            "2/2 [==============================] - 0s 12ms/step - loss: 40.5441 - mae: 35.0721\n",
            "Epoch 496/500\n",
            "2/2 [==============================] - 0s 19ms/step - loss: 40.5724 - mae: 35.1351\n",
            "Epoch 497/500\n",
            "2/2 [==============================] - 0s 26ms/step - loss: 40.2566 - mae: 35.3668\n",
            "Epoch 498/500\n",
            "2/2 [==============================] - 0s 18ms/step - loss: 40.8579 - mae: 32.1751\n",
            "Epoch 499/500\n",
            "2/2 [==============================] - 0s 10ms/step - loss: 40.6067 - mae: 32.3151\n",
            "Epoch 500/500\n",
            "2/2 [==============================] - 0s 15ms/step - loss: 39.7440 - mae: 32.3336\n"
          ]
        },
        {
          "output_type": "execute_result",
          "data": {
            "text/plain": [
              "<keras.src.callbacks.History at 0x7de55969c0d0>"
            ]
          },
          "metadata": {},
          "execution_count": 59
        }
      ]
    },
    {
      "cell_type": "code",
      "source": [
        "# Make and plot some predictions\n",
        "\n",
        "y_preds_3 = model_3.predict(x_test)\n",
        "plot_predictions(predictions = y_preds_3)"
      ],
      "metadata": {
        "colab": {
          "base_uri": "https://localhost:8080/",
          "height": 503
        },
        "id": "uKfdkv17FlEB",
        "outputId": "6f922b68-fe31-4ca7-916c-534122d2765d"
      },
      "execution_count": 60,
      "outputs": [
        {
          "output_type": "stream",
          "name": "stdout",
          "text": [
            "1/1 [==============================] - 0s 147ms/step\n"
          ]
        },
        {
          "output_type": "display_data",
          "data": {
            "text/plain": [
              "<Figure size 1000x700 with 1 Axes>"
            ],
            "image/png": "[encoded data removed]"
          },
          "metadata": {}
        }
      ]
    },
    {
      "cell_type": "code",
      "source": [
        "# Calculate model_3 evaluation metrics\n",
        "\n",
        "mae_3 = mae(y_test, y_preds_3)\n",
        "mse_3 = mse(y_test, y_preds_3)\n",
        "mae_3, mse_3"
      ],
      "metadata": {
        "colab": {
          "base_uri": "https://localhost:8080/"
        },
        "id": "AZTlLn1rGIGp",
        "outputId": "f9675f7d-7e57-4886-ab8c-8badf2bfbfc4"
      },
      "execution_count": 61,
      "outputs": [
        {
          "output_type": "execute_result",
          "data": {
            "text/plain": [
              "(<tf.Tensor: shape=(), dtype=float32, numpy=63.951622>,\n",
              " <tf.Tensor: shape=(), dtype=float32, numpy=4149.7026>)"
            ]
          },
          "metadata": {},
          "execution_count": 61
        }
      ]
    },
    {
      "cell_type": "markdown",
      "source": [
        "## Comparing the results of out experiments\n",
        "\n"
      ],
      "metadata": {
        "id": "AAy24eLdG11d"
      }
    },
    {
      "cell_type": "code",
      "source": [
        "# Lets compare our models result using a pandas DataFrame\n",
        "\n",
        "import pandas as pd\n",
        "\n",
        "model_results = [[\"model_1\", mae_1.numpy(), mse_1.numpy()],\n",
        "                [\"model_2\", mae_2.numpy(), mse_2.numpy()],\n",
        "                [\"model_3\", mae_3.numpy(), mse_3]]\n",
        "\n",
        "all_results = pd.DataFrame(model_results, columns=[\"model\", \"mae\", \"mse\"])\n",
        "all_results\n"
      ],
      "metadata": {
        "colab": {
          "base_uri": "https://localhost:8080/",
          "height": 144
        },
        "id": "Eyz6kizfeNiv",
        "outputId": "b80b0b7e-aeb5-4e35-ed89-ea9f5b1b4b9c"
      },
      "execution_count": 62,
      "outputs": [
        {
          "output_type": "execute_result",
          "data": {
            "text/plain": [
              "     model        mae                                            mse\n",
              "0  model_1  30.629559                                     948.601379\n",
              "1  model_2  45.241730                                    2073.427002\n",
              "2  model_3  63.951622  tf.Tensor(4149.7026, shape=(), dtype=float32)"
            ],
            "text/html": [
              "\n",
              "  <div id=\"df-d2849204-d66d-43df-b038-ceeb0759ca3d\" class=\"colab-df-container\">\n",
              "    <div>\n",
              "<style scoped>\n",
              "    .dataframe tbody tr th:only-of-type {\n",
              "        vertical-align: middle;\n",
              "    }\n",
              "\n",
              "    .dataframe tbody tr th {\n",
              "        vertical-align: top;\n",
              "    }\n",
              "\n",
              "    .dataframe thead th {\n",
              "        text-align: right;\n",
              "    }\n",
              "</style>\n",
              "<table border=\"1\" class=\"dataframe\">\n",
              "  <thead>\n",
              "    <tr style=\"text-align: right;\">\n",
              "      <th></th>\n",
              "      <th>model</th>\n",
              "      <th>mae</th>\n",
              "      <th>mse</th>\n",
              "    </tr>\n",
              "  </thead>\n",
              "  <tbody>\n",
              "    <tr>\n",
              "      <th>0</th>\n",
              "      <td>model_1</td>\n",
              "      <td>30.629559</td>\n",
              "      <td>948.601379</td>\n",
              "    </tr>\n",
              "    <tr>\n",
              "      <th>1</th>\n",
              "      <td>model_2</td>\n",
              "      <td>45.241730</td>\n",
              "      <td>2073.427002</td>\n",
              "    </tr>\n",
              "    <tr>\n",
              "      <th>2</th>\n",
              "      <td>model_3</td>\n",
              "      <td>63.951622</td>\n",
              "      <td>tf.Tensor(4149.7026, shape=(), dtype=float32)</td>\n",
              "    </tr>\n",
              "  </tbody>\n",
              "</table>\n",
              "</div>\n",
              "    <div class=\"colab-df-buttons\">\n",
              "\n",
              "  <div class=\"colab-df-container\">\n",
              "    <button class=\"colab-df-convert\" onclick=\"convertToInteractive('df-d2849204-d66d-43df-b038-ceeb0759ca3d')\"\n",
              "            title=\"Convert this dataframe to an interactive table.\"\n",
              "            style=\"display:none;\">\n",
              "\n",
              "  <svg xmlns=\"http://www.w3.org/2000/svg\" height=\"24px\" viewBox=\"0 -960 960 960\">\n",
              "    <path d=\"M120-120v-720h720v720H120Zm60-500h600v-160H180v160Zm220 220h160v-160H400v160Zm0 220h160v-160H400v160ZM180-400h160v-160H180v160Zm440 0h160v-160H620v160ZM180-180h160v-160H180v160Zm440 0h160v-160H620v160Z\"/>\n",
              "  </svg>\n",
              "    </button>\n",
              "\n",
              "  <style>\n",
              "    .colab-df-container {\n",
              "      display:flex;\n",
              "      gap: 12px;\n",
              "    }\n",
              "\n",
              "    .colab-df-convert {\n",
              "      background-color: #E8F0FE;\n",
              "      border: none;\n",
              "      border-radius: 50%;\n",
              "      cursor: pointer;\n",
              "      display: none;\n",
              "      fill: #1967D2;\n",
              "      height: 32px;\n",
              "      padding: 0 0 0 0;\n",
              "      width: 32px;\n",
              "    }\n",
              "\n",
              "    .colab-df-convert:hover {\n",
              "      background-color: #E2EBFA;\n",
              "      box-shadow: 0px 1px 2px rgba(60, 64, 67, 0.3), 0px 1px 3px 1px rgba(60, 64, 67, 0.15);\n",
              "      fill: #174EA6;\n",
              "    }\n",
              "\n",
              "    .colab-df-buttons div {\n",
              "      margin-bottom: 4px;\n",
              "    }\n",
              "\n",
              "    [theme=dark] .colab-df-convert {\n",
              "      background-color: #3B4455;\n",
              "      fill: #D2E3FC;\n",
              "    }\n",
              "\n",
              "    [theme=dark] .colab-df-convert:hover {\n",
              "      background-color: #434B5C;\n",
              "      box-shadow: 0px 1px 3px 1px rgba(0, 0, 0, 0.15);\n",
              "      filter: drop-shadow(0px 1px 2px rgba(0, 0, 0, 0.3));\n",
              "      fill: #FFFFFF;\n",
              "    }\n",
              "  </style>\n",
              "\n",
              "    <script>\n",
              "      const buttonEl =\n",
              "        document.querySelector('#df-d2849204-d66d-43df-b038-ceeb0759ca3d button.colab-df-convert');\n",
              "      buttonEl.style.display =\n",
              "        google.colab.kernel.accessAllowed ? 'block' : 'none';\n",
              "\n",
              "      async function convertToInteractive(key) {\n",
              "        const element = document.querySelector('#df-d2849204-d66d-43df-b038-ceeb0759ca3d');\n",
              "        const dataTable =\n",
              "          await google.colab.kernel.invokeFunction('convertToInteractive',\n",
              "                                                    [key], {});\n",
              "        if (!dataTable) return;\n",
              "\n",
              "        const docLinkHtml = 'Like what you see? Visit the ' +\n",
              "          '<a target=\"_blank\" href=https://colab.research.google.com/notebooks/data_table.ipynb>data table notebook</a>'\n",
              "          + ' to learn more about interactive tables.';\n",
              "        element.innerHTML = '';\n",
              "        dataTable['output_type'] = 'display_data';\n",
              "        await google.colab.output.renderOutput(dataTable, element);\n",
              "        const docLink = document.createElement('div');\n",
              "        docLink.innerHTML = docLinkHtml;\n",
              "        element.appendChild(docLink);\n",
              "      }\n",
              "    </script>\n",
              "  </div>\n",
              "\n",
              "\n",
              "<div id=\"df-7ddcd6bf-12a3-421b-8542-3617e6223adc\">\n",
              "  <button class=\"colab-df-quickchart\" onclick=\"quickchart('df-7ddcd6bf-12a3-421b-8542-3617e6223adc')\"\n",
              "            title=\"Suggest charts\"\n",
              "            style=\"display:none;\">\n",
              "\n",
              "<svg xmlns=\"http://www.w3.org/2000/svg\" height=\"24px\"viewBox=\"0 0 24 24\"\n",
              "     width=\"24px\">\n",
              "    <g>\n",
              "        <path d=\"M19 3H5c-1.1 0-2 .9-2 2v14c0 1.1.9 2 2 2h14c1.1 0 2-.9 2-2V5c0-1.1-.9-2-2-2zM9 17H7v-7h2v7zm4 0h-2V7h2v10zm4 0h-2v-4h2v4z\"/>\n",
              "    </g>\n",
              "</svg>\n",
              "  </button>\n",
              "\n",
              "<style>\n",
              "  .colab-df-quickchart {\n",
              "      --bg-color: #E8F0FE;\n",
              "      --fill-color: #1967D2;\n",
              "      --hover-bg-color: #E2EBFA;\n",
              "      --hover-fill-color: #174EA6;\n",
              "      --disabled-fill-color: #AAA;\n",
              "      --disabled-bg-color: #DDD;\n",
              "  }\n",
              "\n",
              "  [theme=dark] .colab-df-quickchart {\n",
              "      --bg-color: #3B4455;\n",
              "      --fill-color: #D2E3FC;\n",
              "      --hover-bg-color: #434B5C;\n",
              "      --hover-fill-color: #FFFFFF;\n",
              "      --disabled-bg-color: #3B4455;\n",
              "      --disabled-fill-color: #666;\n",
              "  }\n",
              "\n",
              "  .colab-df-quickchart {\n",
              "    background-color: var(--bg-color);\n",
              "    border: none;\n",
              "    border-radius: 50%;\n",
              "    cursor: pointer;\n",
              "    display: none;\n",
              "    fill: var(--fill-color);\n",
              "    height: 32px;\n",
              "    padding: 0;\n",
              "    width: 32px;\n",
              "  }\n",
              "\n",
              "  .colab-df-quickchart:hover {\n",
              "    background-color: var(--hover-bg-color);\n",
              "    box-shadow: 0 1px 2px rgba(60, 64, 67, 0.3), 0 1px 3px 1px rgba(60, 64, 67, 0.15);\n",
              "    fill: var(--button-hover-fill-color);\n",
              "  }\n",
              "\n",
              "  .colab-df-quickchart-complete:disabled,\n",
              "  .colab-df-quickchart-complete:disabled:hover {\n",
              "    background-color: var(--disabled-bg-color);\n",
              "    fill: var(--disabled-fill-color);\n",
              "    box-shadow: none;\n",
              "  }\n",
              "\n",
              "  .colab-df-spinner {\n",
              "    border: 2px solid var(--fill-color);\n",
              "    border-color: transparent;\n",
              "    border-bottom-color: var(--fill-color);\n",
              "    animation:\n",
              "      spin 1s steps(1) infinite;\n",
              "  }\n",
              "\n",
              "  @keyframes spin {\n",
              "    0% {\n",
              "      border-color: transparent;\n",
              "      border-bottom-color: var(--fill-color);\n",
              "      border-left-color: var(--fill-color);\n",
              "    }\n",
              "    20% {\n",
              "      border-color: transparent;\n",
              "      border-left-color: var(--fill-color);\n",
              "      border-top-color: var(--fill-color);\n",
              "    }\n",
              "    30% {\n",
              "      border-color: transparent;\n",
              "      border-left-color: var(--fill-color);\n",
              "      border-top-color: var(--fill-color);\n",
              "      border-right-color: var(--fill-color);\n",
              "    }\n",
              "    40% {\n",
              "      border-color: transparent;\n",
              "      border-right-color: var(--fill-color);\n",
              "      border-top-color: var(--fill-color);\n",
              "    }\n",
              "    60% {\n",
              "      border-color: transparent;\n",
              "      border-right-color: var(--fill-color);\n",
              "    }\n",
              "    80% {\n",
              "      border-color: transparent;\n",
              "      border-right-color: var(--fill-color);\n",
              "      border-bottom-color: var(--fill-color);\n",
              "    }\n",
              "    90% {\n",
              "      border-color: transparent;\n",
              "      border-bottom-color: var(--fill-color);\n",
              "    }\n",
              "  }\n",
              "</style>\n",
              "\n",
              "  <script>\n",
              "    async function quickchart(key) {\n",
              "      const quickchartButtonEl =\n",
              "        document.querySelector('#' + key + ' button');\n",
              "      quickchartButtonEl.disabled = true;  // To prevent multiple clicks.\n",
              "      quickchartButtonEl.classList.add('colab-df-spinner');\n",
              "      try {\n",
              "        const charts = await google.colab.kernel.invokeFunction(\n",
              "            'suggestCharts', [key], {});\n",
              "      } catch (error) {\n",
              "        console.error('Error during call to suggestCharts:', error);\n",
              "      }\n",
              "      quickchartButtonEl.classList.remove('colab-df-spinner');\n",
              "      quickchartButtonEl.classList.add('colab-df-quickchart-complete');\n",
              "    }\n",
              "    (() => {\n",
              "      let quickchartButtonEl =\n",
              "        document.querySelector('#df-7ddcd6bf-12a3-421b-8542-3617e6223adc button');\n",
              "      quickchartButtonEl.style.display =\n",
              "        google.colab.kernel.accessAllowed ? 'block' : 'none';\n",
              "    })();\n",
              "  </script>\n",
              "</div>\n",
              "    </div>\n",
              "  </div>\n"
            ],
            "application/vnd.google.colaboratory.intrinsic+json": {
              "type": "dataframe",
              "variable_name": "all_results",
              "summary": "{\n  \"name\": \"all_results\",\n  \"rows\": 3,\n  \"fields\": [\n    {\n      \"column\": \"model\",\n      \"properties\": {\n        \"dtype\": \"string\",\n        \"num_unique_values\": 3,\n        \"samples\": [\n          \"model_1\",\n          \"model_2\",\n          \"model_3\"\n        ],\n        \"semantic_type\": \"\",\n        \"description\": \"\"\n      }\n    },\n    {\n      \"column\": \"mae\",\n      \"properties\": {\n        \"dtype\": \"float32\",\n        \"num_unique_values\": 3,\n        \"samples\": [\n          30.629558563232422,\n          45.241729736328125,\n          63.951622009277344\n        ],\n        \"semantic_type\": \"\",\n        \"description\": \"\"\n      }\n    },\n    {\n      \"column\": \"mse\",\n      \"properties\": {\n        \"dtype\": \"object\",\n        \"semantic_type\": \"\",\n        \"description\": \"\"\n      }\n    }\n  ]\n}"
            }
          },
          "metadata": {},
          "execution_count": 62
        }
      ]
    },
    {
      "source": [
        "# @title mae\n",
        "# Got Recommendation from gcollab\n",
        "\n",
        "from matplotlib import pyplot as plt\n",
        "all_results['mae'].plot(kind='hist', bins=20, title='mae')\n",
        "plt.gca().spines[['top', 'right',]].set_visible(False)"
      ],
      "cell_type": "code",
      "execution_count": 63,
      "outputs": [
        {
          "output_type": "display_data",
          "data": {
            "text/plain": [
              "<Figure size 640x480 with 1 Axes>"
            ],
            "image/png": "[encoded data removed]"
          },
          "metadata": {}
        }
      ],
      "metadata": {
        "colab": {
          "base_uri": "https://localhost:8080/",
          "height": 452
        },
        "id": "AK8lqoT2f7R1",
        "outputId": "722f2822-0a44-4bfa-8447-9fe10595d02f"
      }
    },
    {
      "cell_type": "markdown",
      "source": [
        "🔑**Note :** One of our main goals should be to minimize the time between our experiments. We must try and error"
      ],
      "metadata": {
        "id": "6mam0ajKgXEC"
      }
    },
    {
      "cell_type": "markdown",
      "source": [
        "## Tracking your experiments\n",
        "\n",
        "One really good habit in ml modelling is to track the result of your experiments.\n",
        "\n",
        "Luckly, there are tools to help us!\n",
        "\n",
        "📖**Resource:** As we build more models, we will want to look into using :\n",
        "\n",
        "* TensorBoard - a component of the TensorFlow library to help track modelling experiments\n",
        "* Weights & Biases - a tool for tracking all of kinds of machine learning experiments\n",
        "\n"
      ],
      "metadata": {
        "id": "jCyUYIJrhEbi"
      }
    },
    {
      "cell_type": "markdown",
      "source": [
        "## Saving Our model\n",
        "\n",
        "Saving our model allows us to use them outside of Google collab\n",
        "\n",
        "There are two main formats we can save our model too :\n",
        "1. The SavedModel format\n",
        "2. The HDF5 format"
      ],
      "metadata": {
        "id": "DCh5Gw9x2cEL"
      }
    },
    {
      "cell_type": "code",
      "source": [
        "# Save model using the SavedModel format\n",
        "model_2.save(\"best_model_SavedModel_format\")"
      ],
      "metadata": {
        "id": "GgNAjual2aAU"
      },
      "execution_count": 64,
      "outputs": []
    }
  ]
}