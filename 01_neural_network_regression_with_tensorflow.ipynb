{
  "nbformat": 4,
  "nbformat_minor": 0,
  "metadata": {
    "colab": {
      "provenance": [],
      "authorship_tag": "ABX9TyN9X2LT5aaQXDMFdrdEARkH",
      "include_colab_link": true
    },
    "kernelspec": {
      "name": "python3",
      "display_name": "Python 3"
    },
    "language_info": {
      "name": "python"
    }
  },
  "cells": [
    {
      "cell_type": "markdown",
      "metadata": {
        "id": "view-in-github",
        "colab_type": "text"
      },
      "source": [
        "<a href=\"https://colab.research.google.com/github/GabrielBatavia/Learn_TensorFlow/blob/main/01_neural_network_regression_with_tensorflow.ipynb\" target=\"_parent\"><img src=\"https://colab.research.google.com/assets/colab-badge.svg\" alt=\"Open In Colab\"/></a>"
      ]
    },
    {
      "cell_type": "markdown",
      "source": [
        "# Introduction to Regression with Neural Networks in TensorFlow\n",
        "\n",
        "There are many definition for a regression problem but in our case, we're going to simplify it : predicting a numerical variable based on some other combination of variables, even shorter...predicting a number."
      ],
      "metadata": {
        "id": "eANshE7nr2zb"
      }
    },
    {
      "cell_type": "code",
      "execution_count": null,
      "metadata": {
        "colab": {
          "base_uri": "https://localhost:8080/"
        },
        "id": "UmVJP_eWrO59",
        "outputId": "2f2175ff-9643-4199-b625-df3199f6c6ca"
      },
      "outputs": [
        {
          "output_type": "stream",
          "name": "stdout",
          "text": [
            "2.15.0\n"
          ]
        }
      ],
      "source": [
        "# Import TensorFlow\n",
        "\n",
        "import tensorflow as tf\n",
        "print(tf.__version__)"
      ]
    },
    {
      "cell_type": "markdown",
      "source": [
        "## Creating data to view and fit"
      ],
      "metadata": {
        "id": "vbbwMFoqskyN"
      }
    },
    {
      "cell_type": "code",
      "source": [
        "import numpy as np\n",
        "import matplotlib.pyplot as plt"
      ],
      "metadata": {
        "id": "DXOtRA60shEW"
      },
      "execution_count": null,
      "outputs": []
    },
    {
      "cell_type": "code",
      "source": [
        "# Creating features\n",
        "\n",
        "x = np.array([-7., -4., -1., 2., 5., 8., 11., 14.])\n",
        "\n",
        "# Create labels\n",
        "y = np.array([3., 6., 9., 12., 15., 18., 21., 24.])\n",
        "\n",
        "# Visualize it\n",
        "plt.scatter(x, y);"
      ],
      "metadata": {
        "colab": {
          "base_uri": "https://localhost:8080/",
          "height": 435
        },
        "id": "SX4eHtEts4GD",
        "outputId": "b4be168b-cd15-4906-99bd-8e4195fdefc7"
      },
      "execution_count": null,
      "outputs": [
        {
          "output_type": "display_data",
          "data": {
            "text/plain": [
              "<Figure size 640x480 with 1 Axes>"
            ],
            "image/png": "[encoded data removed]"
          },
          "metadata": {}
        }
      ]
    },
    {
      "cell_type": "code",
      "source": [
        "y == x + 10"
      ],
      "metadata": {
        "id": "qaf2FE-utbQ-",
        "colab": {
          "base_uri": "https://localhost:8080/"
        },
        "outputId": "3ae7494c-22e7-4948-956b-fb8d06879cdc"
      },
      "execution_count": null,
      "outputs": [
        {
          "output_type": "execute_result",
          "data": {
            "text/plain": [
              "array([ True,  True,  True,  True,  True,  True,  True,  True])"
            ]
          },
          "metadata": {},
          "execution_count": 4
        }
      ]
    },
    {
      "cell_type": "markdown",
      "source": [
        "## Input and Output shapes"
      ],
      "metadata": {
        "id": "hHex_79OxmAn"
      }
    },
    {
      "cell_type": "code",
      "source": [
        "# Create a demo tensor for out housing price prediction problem\n",
        "\n",
        "house_info = tf.constant([\"bedroom\", \"bathroom\", \"garage\"])\n",
        "house_price = tf.constant([939700])\n",
        "\n",
        "house_info, house_price"
      ],
      "metadata": {
        "colab": {
          "base_uri": "https://localhost:8080/"
        },
        "id": "EKNlltO3xrVe",
        "outputId": "b5f5ef55-26c5-4c2d-c516-9ff11a7c38c6"
      },
      "execution_count": null,
      "outputs": [
        {
          "output_type": "execute_result",
          "data": {
            "text/plain": [
              "(<tf.Tensor: shape=(3,), dtype=string, numpy=array([b'bedroom', b'bathroom', b'garage'], dtype=object)>,\n",
              " <tf.Tensor: shape=(1,), dtype=int32, numpy=array([939700], dtype=int32)>)"
            ]
          },
          "metadata": {},
          "execution_count": 5
        }
      ]
    },
    {
      "cell_type": "code",
      "source": [
        "x[0], y[0]"
      ],
      "metadata": {
        "colab": {
          "base_uri": "https://localhost:8080/"
        },
        "id": "-tWt-gYSzm66",
        "outputId": "24311c65-eced-4b1c-b5aa-f031b33895e4"
      },
      "execution_count": null,
      "outputs": [
        {
          "output_type": "execute_result",
          "data": {
            "text/plain": [
              "(-7.0, 3.0)"
            ]
          },
          "metadata": {},
          "execution_count": 6
        }
      ]
    },
    {
      "cell_type": "code",
      "source": [
        "input_shape = x[0].shape\n",
        "output_shape = y[0].shape\n",
        "\n",
        "input_shape, output_shape"
      ],
      "metadata": {
        "colab": {
          "base_uri": "https://localhost:8080/"
        },
        "id": "sGSz7U-vzY4m",
        "outputId": "df4a4882-d97b-498e-e419-1e62928646d1"
      },
      "execution_count": null,
      "outputs": [
        {
          "output_type": "execute_result",
          "data": {
            "text/plain": [
              "((), ())"
            ]
          },
          "metadata": {},
          "execution_count": 7
        }
      ]
    },
    {
      "cell_type": "code",
      "source": [
        "x[0].ndim"
      ],
      "metadata": {
        "colab": {
          "base_uri": "https://localhost:8080/"
        },
        "id": "VCL4zHK5z8RR",
        "outputId": "1291bef4-7e4d-4e50-c069-0162297ac3df"
      },
      "execution_count": null,
      "outputs": [
        {
          "output_type": "execute_result",
          "data": {
            "text/plain": [
              "0"
            ]
          },
          "metadata": {},
          "execution_count": 8
        }
      ]
    },
    {
      "cell_type": "code",
      "source": [
        "# Turn our Numpy arrays into tensors with dtype 32\n",
        "\n",
        "X = tf.constant(x, dtype=tf.float32)\n",
        "Y = tf.constant(y, dtype=tf.float32)\n",
        "\n",
        "X, Y"
      ],
      "metadata": {
        "colab": {
          "base_uri": "https://localhost:8080/"
        },
        "id": "QL2Ofdwmz-sQ",
        "outputId": "198a1876-7d84-4abe-e0b0-1f2bcaca0428"
      },
      "execution_count": null,
      "outputs": [
        {
          "output_type": "execute_result",
          "data": {
            "text/plain": [
              "(<tf.Tensor: shape=(8,), dtype=float32, numpy=array([-7., -4., -1.,  2.,  5.,  8., 11., 14.], dtype=float32)>,\n",
              " <tf.Tensor: shape=(8,), dtype=float32, numpy=array([ 3.,  6.,  9., 12., 15., 18., 21., 24.], dtype=float32)>)"
            ]
          },
          "metadata": {},
          "execution_count": 9
        }
      ]
    },
    {
      "cell_type": "code",
      "source": [
        "input_shape = X[0].shape\n",
        "output_shape = y[0].shape\n",
        "\n",
        "input_shape, output_shape"
      ],
      "metadata": {
        "colab": {
          "base_uri": "https://localhost:8080/"
        },
        "id": "R6m8i44s1t3S",
        "outputId": "21fe8c65-0eec-4c1a-f9be-0597656cb12e"
      },
      "execution_count": null,
      "outputs": [
        {
          "output_type": "execute_result",
          "data": {
            "text/plain": [
              "(TensorShape([]), ())"
            ]
          },
          "metadata": {},
          "execution_count": 10
        }
      ]
    },
    {
      "cell_type": "markdown",
      "source": [
        "## Steps in modelling with TensorFlow\n",
        "\n",
        "1. **Creating a model** - define the input and output layers, as well as the hidden layers of a deep learning model.\n",
        "\n",
        "2. **Compiling a model** - define the loss function (in other words, the function wich tells our model how wrong it is) and the optimizer (tells our model how to improve the patterns its learning) and evaluation metrics (what we can use to interpret the preformance of our model)\n",
        "\n",
        "3. Fitting a model - letting the model try to find patters between X & y (features and labels)"
      ],
      "metadata": {
        "id": "T9heq-y318BJ"
      }
    },
    {
      "cell_type": "code",
      "source": [
        "# Opetionally, the first layer can receive an 'input_shape' argument :\n",
        "# model = tf.keras.Sequential()\n",
        "# model.add(tf.keras.layers.Dense(8, input_shape=(16,)))\n",
        "\n",
        "# Afterwards, we do automatic shape inference :\n",
        "# model.add(tf.keras.layers.Dense(4))\n",
        "\n",
        "# model = tf.keras.Sequential()\n",
        "# model.add(tf.keras.layers.Dense(1))\n",
        "# ..."
      ],
      "metadata": {
        "id": "nEAWuhvc6w4g"
      },
      "execution_count": null,
      "outputs": []
    },
    {
      "cell_type": "code",
      "source": [
        "# Set random seed\n",
        "\n",
        "tf.random.set_seed(42)\n",
        "\n",
        "# 1. Create a model using the Sequential API\n",
        "model = tf.keras.Sequential([\n",
        "    tf.keras.layers.Dense(1)\n",
        "])\n",
        "\n",
        "# 2. Compile the model\n",
        "model.compile(loss = tf.keras.losses.mae, # mae is short for mean absolute error\n",
        "              optimizer = tf.keras.optimizers.SGD(), # sgd is short for stochasitc gradient decent\n",
        "              metrics = [\"mae\"])\n",
        "\n",
        "# 3. Fit the model\n",
        "# model.fit(X, Y, epochs=5) # BREAK IN UPDATED TENSOR VERSION\n",
        "model.fit(tf.expand_dims(X, axis=-1), Y, epochs=5)"
      ],
      "metadata": {
        "colab": {
          "base_uri": "https://localhost:8080/"
        },
        "id": "ubX_9SYR149W",
        "outputId": "a17088b9-8846-4cd4-c031-185948b45097"
      },
      "execution_count": null,
      "outputs": [
        {
          "output_type": "stream",
          "name": "stdout",
          "text": [
            "Epoch 1/5\n",
            "1/1 [==============================] - 1s 1s/step - loss: 9.8974 - mae: 9.8974\n",
            "Epoch 2/5\n",
            "1/1 [==============================] - 0s 30ms/step - loss: 9.7649 - mae: 9.7649\n",
            "Epoch 3/5\n",
            "1/1 [==============================] - 0s 30ms/step - loss: 9.6324 - mae: 9.6324\n",
            "Epoch 4/5\n",
            "1/1 [==============================] - 0s 25ms/step - loss: 9.4999 - mae: 9.4999\n",
            "Epoch 5/5\n",
            "1/1 [==============================] - 0s 21ms/step - loss: 9.3674 - mae: 9.3674\n"
          ]
        },
        {
          "output_type": "execute_result",
          "data": {
            "text/plain": [
              "<keras.src.callbacks.History at 0x7f0e9163d2a0>"
            ]
          },
          "metadata": {},
          "execution_count": 12
        }
      ]
    },
    {
      "cell_type": "code",
      "source": [
        "# Check our X and Y\n",
        "x, y"
      ],
      "metadata": {
        "colab": {
          "base_uri": "https://localhost:8080/"
        },
        "id": "1B1DsBlo9jYC",
        "outputId": "ed04bb20-3a8d-4197-f21d-172b6d0505b9"
      },
      "execution_count": null,
      "outputs": [
        {
          "output_type": "execute_result",
          "data": {
            "text/plain": [
              "(array([-7., -4., -1.,  2.,  5.,  8., 11., 14.]),\n",
              " array([ 3.,  6.,  9., 12., 15., 18., 21., 24.]))"
            ]
          },
          "metadata": {},
          "execution_count": 13
        }
      ]
    },
    {
      "cell_type": "code",
      "source": [
        "# Try make prediction\n",
        "model.predict([17.0])"
      ],
      "metadata": {
        "colab": {
          "base_uri": "https://localhost:8080/"
        },
        "id": "L4S19GPP9pXG",
        "outputId": "686da90e-37af-4222-fa96-fa23e008c0b6"
      },
      "execution_count": null,
      "outputs": [
        {
          "output_type": "stream",
          "name": "stdout",
          "text": [
            "1/1 [==============================] - 0s 289ms/step\n"
          ]
        },
        {
          "output_type": "execute_result",
          "data": {
            "text/plain": [
              "array([[20.523443]], dtype=float32)"
            ]
          },
          "metadata": {},
          "execution_count": 14
        }
      ]
    },
    {
      "cell_type": "markdown",
      "source": [
        "## Improving our model\n",
        "\n",
        "We can improve our model, by altering the steps we took to create a model.\n",
        "\n",
        "1. **Creating a model** - ere we might add more layers, increse the number of hidden units (all called neurons) within each of the hidden layers, change the activation function of each layer.\n",
        "\n",
        "2. **Compiling a model** - here we might chang ethe optimization function or perhaps the **learning rate** of the optimization function.\n",
        "\n",
        "3. **Fitting a model** - here we might fit a model for more **epochs** (leave it training for longer) or on more data (give the model more examples to learn form)"
      ],
      "metadata": {
        "id": "Nq6KqLEo-HP4"
      }
    },
    {
      "cell_type": "code",
      "source": [
        "# Let's rebuild our model\n",
        "\n",
        "# 1. Create the model\n",
        "model1 = tf.keras.Sequential([\n",
        "    tf.keras.layers.Dense(1)\n",
        "])\n",
        "\n",
        "# 2. Compile the model\n",
        "model1.compile(loss = tf.keras.losses.mae,\n",
        "              optimizer = tf.keras.optimizers.SGD(),\n",
        "              metrics = [\"mae\"])\n",
        "\n",
        "# 3. Fit the model\n",
        "# model.fit(X, Y, epochs=5) # BREAK IN UPDATED TENSOR VERSION\n",
        "model1.fit(tf.expand_dims(X, axis=-1), Y, epochs=100)"
      ],
      "metadata": {
        "colab": {
          "base_uri": "https://localhost:8080/"
        },
        "id": "GPGzIvb2DLc2",
        "outputId": "50876cd2-b59c-4cb6-c0f7-ba52e4aba425"
      },
      "execution_count": null,
      "outputs": [
        {
          "output_type": "stream",
          "name": "stdout",
          "text": [
            "Epoch 1/100\n",
            "1/1 [==============================] - 1s 1s/step - loss: 22.0619 - mae: 22.0619\n",
            "Epoch 2/100\n",
            "1/1 [==============================] - 0s 22ms/step - loss: 21.6688 - mae: 21.6688\n",
            "Epoch 3/100\n",
            "1/1 [==============================] - 0s 45ms/step - loss: 21.2756 - mae: 21.2756\n",
            "Epoch 4/100\n",
            "1/1 [==============================] - 0s 33ms/step - loss: 20.8825 - mae: 20.8825\n",
            "Epoch 5/100\n",
            "1/1 [==============================] - 0s 24ms/step - loss: 20.5045 - mae: 20.5045\n",
            "Epoch 6/100\n",
            "1/1 [==============================] - 0s 16ms/step - loss: 20.2232 - mae: 20.2232\n",
            "Epoch 7/100\n",
            "1/1 [==============================] - 0s 21ms/step - loss: 19.9420 - mae: 19.9420\n",
            "Epoch 8/100\n",
            "1/1 [==============================] - 0s 26ms/step - loss: 19.6607 - mae: 19.6607\n",
            "Epoch 9/100\n",
            "1/1 [==============================] - 0s 15ms/step - loss: 19.3795 - mae: 19.3795\n",
            "Epoch 10/100\n",
            "1/1 [==============================] - 0s 50ms/step - loss: 19.0982 - mae: 19.0982\n",
            "Epoch 11/100\n",
            "1/1 [==============================] - 0s 10ms/step - loss: 18.8170 - mae: 18.8170\n",
            "Epoch 12/100\n",
            "1/1 [==============================] - 0s 18ms/step - loss: 18.5357 - mae: 18.5357\n",
            "Epoch 13/100\n",
            "1/1 [==============================] - 0s 21ms/step - loss: 18.2545 - mae: 18.2545\n",
            "Epoch 14/100\n",
            "1/1 [==============================] - 0s 32ms/step - loss: 17.9732 - mae: 17.9732\n",
            "Epoch 15/100\n",
            "1/1 [==============================] - 0s 38ms/step - loss: 17.6920 - mae: 17.6920\n",
            "Epoch 16/100\n",
            "1/1 [==============================] - 0s 37ms/step - loss: 17.4107 - mae: 17.4107\n",
            "Epoch 17/100\n",
            "1/1 [==============================] - 0s 25ms/step - loss: 17.1295 - mae: 17.1295\n",
            "Epoch 18/100\n",
            "1/1 [==============================] - 0s 30ms/step - loss: 16.8482 - mae: 16.8482\n",
            "Epoch 19/100\n",
            "1/1 [==============================] - 0s 20ms/step - loss: 16.5670 - mae: 16.5670\n",
            "Epoch 20/100\n",
            "1/1 [==============================] - 0s 40ms/step - loss: 16.2857 - mae: 16.2857\n",
            "Epoch 21/100\n",
            "1/1 [==============================] - 0s 27ms/step - loss: 16.0045 - mae: 16.0045\n",
            "Epoch 22/100\n",
            "1/1 [==============================] - 0s 31ms/step - loss: 15.7232 - mae: 15.7232\n",
            "Epoch 23/100\n",
            "1/1 [==============================] - 0s 33ms/step - loss: 15.4420 - mae: 15.4420\n",
            "Epoch 24/100\n",
            "1/1 [==============================] - 0s 33ms/step - loss: 15.1607 - mae: 15.1607\n",
            "Epoch 25/100\n",
            "1/1 [==============================] - 0s 32ms/step - loss: 14.8795 - mae: 14.8795\n",
            "Epoch 26/100\n",
            "1/1 [==============================] - 0s 48ms/step - loss: 14.6434 - mae: 14.6434\n",
            "Epoch 27/100\n",
            "1/1 [==============================] - 0s 30ms/step - loss: 14.5109 - mae: 14.5109\n",
            "Epoch 28/100\n",
            "1/1 [==============================] - 0s 30ms/step - loss: 14.3784 - mae: 14.3784\n",
            "Epoch 29/100\n",
            "1/1 [==============================] - 0s 20ms/step - loss: 14.2459 - mae: 14.2459\n",
            "Epoch 30/100\n",
            "1/1 [==============================] - 0s 32ms/step - loss: 14.1134 - mae: 14.1134\n",
            "Epoch 31/100\n",
            "1/1 [==============================] - 0s 27ms/step - loss: 13.9809 - mae: 13.9809\n",
            "Epoch 32/100\n",
            "1/1 [==============================] - 0s 26ms/step - loss: 13.8484 - mae: 13.8484\n",
            "Epoch 33/100\n",
            "1/1 [==============================] - 0s 22ms/step - loss: 13.7159 - mae: 13.7159\n",
            "Epoch 34/100\n",
            "1/1 [==============================] - 0s 35ms/step - loss: 13.5834 - mae: 13.5834\n",
            "Epoch 35/100\n",
            "1/1 [==============================] - 0s 40ms/step - loss: 13.4509 - mae: 13.4509\n",
            "Epoch 36/100\n",
            "1/1 [==============================] - 0s 32ms/step - loss: 13.3184 - mae: 13.3184\n",
            "Epoch 37/100\n",
            "1/1 [==============================] - 0s 29ms/step - loss: 13.1859 - mae: 13.1859\n",
            "Epoch 38/100\n",
            "1/1 [==============================] - 0s 15ms/step - loss: 13.0534 - mae: 13.0534\n",
            "Epoch 39/100\n",
            "1/1 [==============================] - 0s 23ms/step - loss: 12.9209 - mae: 12.9209\n",
            "Epoch 40/100\n",
            "1/1 [==============================] - 0s 18ms/step - loss: 12.7884 - mae: 12.7884\n",
            "Epoch 41/100\n",
            "1/1 [==============================] - 0s 22ms/step - loss: 12.6559 - mae: 12.6559\n",
            "Epoch 42/100\n",
            "1/1 [==============================] - 0s 28ms/step - loss: 12.5234 - mae: 12.5234\n",
            "Epoch 43/100\n",
            "1/1 [==============================] - 0s 24ms/step - loss: 12.3909 - mae: 12.3909\n",
            "Epoch 44/100\n",
            "1/1 [==============================] - 0s 24ms/step - loss: 12.2584 - mae: 12.2584\n",
            "Epoch 45/100\n",
            "1/1 [==============================] - 0s 33ms/step - loss: 12.1259 - mae: 12.1259\n",
            "Epoch 46/100\n",
            "1/1 [==============================] - 0s 21ms/step - loss: 11.9934 - mae: 11.9934\n",
            "Epoch 47/100\n",
            "1/1 [==============================] - 0s 27ms/step - loss: 11.8609 - mae: 11.8609\n",
            "Epoch 48/100\n",
            "1/1 [==============================] - 0s 32ms/step - loss: 11.7284 - mae: 11.7284\n",
            "Epoch 49/100\n",
            "1/1 [==============================] - 0s 31ms/step - loss: 11.5959 - mae: 11.5959\n",
            "Epoch 50/100\n",
            "1/1 [==============================] - 0s 24ms/step - loss: 11.4634 - mae: 11.4634\n",
            "Epoch 51/100\n",
            "1/1 [==============================] - 0s 27ms/step - loss: 11.3309 - mae: 11.3309\n",
            "Epoch 52/100\n",
            "1/1 [==============================] - 0s 25ms/step - loss: 11.1984 - mae: 11.1984\n",
            "Epoch 53/100\n",
            "1/1 [==============================] - 0s 39ms/step - loss: 11.0659 - mae: 11.0659\n",
            "Epoch 54/100\n",
            "1/1 [==============================] - 0s 13ms/step - loss: 10.9334 - mae: 10.9334\n",
            "Epoch 55/100\n",
            "1/1 [==============================] - 0s 12ms/step - loss: 10.8009 - mae: 10.8009\n",
            "Epoch 56/100\n",
            "1/1 [==============================] - 0s 13ms/step - loss: 10.6684 - mae: 10.6684\n",
            "Epoch 57/100\n",
            "1/1 [==============================] - 0s 21ms/step - loss: 10.5359 - mae: 10.5359\n",
            "Epoch 58/100\n",
            "1/1 [==============================] - 0s 26ms/step - loss: 10.4034 - mae: 10.4034\n",
            "Epoch 59/100\n",
            "1/1 [==============================] - 0s 27ms/step - loss: 10.2709 - mae: 10.2709\n",
            "Epoch 60/100\n",
            "1/1 [==============================] - 0s 13ms/step - loss: 10.1384 - mae: 10.1384\n",
            "Epoch 61/100\n",
            "1/1 [==============================] - 0s 20ms/step - loss: 10.0059 - mae: 10.0059\n",
            "Epoch 62/100\n",
            "1/1 [==============================] - 0s 13ms/step - loss: 9.8734 - mae: 9.8734\n",
            "Epoch 63/100\n",
            "1/1 [==============================] - 0s 12ms/step - loss: 9.7409 - mae: 9.7409\n",
            "Epoch 64/100\n",
            "1/1 [==============================] - 0s 13ms/step - loss: 9.6084 - mae: 9.6084\n",
            "Epoch 65/100\n",
            "1/1 [==============================] - 0s 17ms/step - loss: 9.4759 - mae: 9.4759\n",
            "Epoch 66/100\n",
            "1/1 [==============================] - 0s 23ms/step - loss: 9.3434 - mae: 9.3434\n",
            "Epoch 67/100\n",
            "1/1 [==============================] - 0s 19ms/step - loss: 9.2109 - mae: 9.2109\n",
            "Epoch 68/100\n",
            "1/1 [==============================] - 0s 20ms/step - loss: 9.0784 - mae: 9.0784\n",
            "Epoch 69/100\n",
            "1/1 [==============================] - 0s 22ms/step - loss: 8.9459 - mae: 8.9459\n",
            "Epoch 70/100\n",
            "1/1 [==============================] - 0s 29ms/step - loss: 8.8134 - mae: 8.8134\n",
            "Epoch 71/100\n",
            "1/1 [==============================] - 0s 47ms/step - loss: 8.6809 - mae: 8.6809\n",
            "Epoch 72/100\n",
            "1/1 [==============================] - 0s 37ms/step - loss: 8.5484 - mae: 8.5484\n",
            "Epoch 73/100\n",
            "1/1 [==============================] - 0s 18ms/step - loss: 8.4159 - mae: 8.4159\n",
            "Epoch 74/100\n",
            "1/1 [==============================] - 0s 73ms/step - loss: 8.2834 - mae: 8.2834\n",
            "Epoch 75/100\n",
            "1/1 [==============================] - 0s 35ms/step - loss: 8.1509 - mae: 8.1509\n",
            "Epoch 76/100\n",
            "1/1 [==============================] - 0s 13ms/step - loss: 8.0184 - mae: 8.0184\n",
            "Epoch 77/100\n",
            "1/1 [==============================] - 0s 13ms/step - loss: 7.8859 - mae: 7.8859\n",
            "Epoch 78/100\n",
            "1/1 [==============================] - 0s 70ms/step - loss: 7.7534 - mae: 7.7534\n",
            "Epoch 79/100\n",
            "1/1 [==============================] - 0s 51ms/step - loss: 7.6209 - mae: 7.6209\n",
            "Epoch 80/100\n",
            "1/1 [==============================] - 0s 56ms/step - loss: 7.4884 - mae: 7.4884\n",
            "Epoch 81/100\n",
            "1/1 [==============================] - 0s 44ms/step - loss: 7.3559 - mae: 7.3559\n",
            "Epoch 82/100\n",
            "1/1 [==============================] - 0s 18ms/step - loss: 7.2234 - mae: 7.2234\n",
            "Epoch 83/100\n",
            "1/1 [==============================] - 0s 12ms/step - loss: 7.0909 - mae: 7.0909\n",
            "Epoch 84/100\n",
            "1/1 [==============================] - 0s 11ms/step - loss: 6.9584 - mae: 6.9584\n",
            "Epoch 85/100\n",
            "1/1 [==============================] - 0s 12ms/step - loss: 6.9244 - mae: 6.9244\n",
            "Epoch 86/100\n",
            "1/1 [==============================] - 0s 11ms/step - loss: 6.9188 - mae: 6.9188\n",
            "Epoch 87/100\n",
            "1/1 [==============================] - 0s 14ms/step - loss: 6.9131 - mae: 6.9131\n",
            "Epoch 88/100\n",
            "1/1 [==============================] - 0s 16ms/step - loss: 6.9075 - mae: 6.9075\n",
            "Epoch 89/100\n",
            "1/1 [==============================] - 0s 30ms/step - loss: 6.9019 - mae: 6.9019\n",
            "Epoch 90/100\n",
            "1/1 [==============================] - 0s 26ms/step - loss: 6.8963 - mae: 6.8963\n",
            "Epoch 91/100\n",
            "1/1 [==============================] - 0s 17ms/step - loss: 6.8906 - mae: 6.8906\n",
            "Epoch 92/100\n",
            "1/1 [==============================] - 0s 26ms/step - loss: 6.8850 - mae: 6.8850\n",
            "Epoch 93/100\n",
            "1/1 [==============================] - 0s 43ms/step - loss: 6.8794 - mae: 6.8794\n",
            "Epoch 94/100\n",
            "1/1 [==============================] - 0s 29ms/step - loss: 6.8738 - mae: 6.8738\n",
            "Epoch 95/100\n",
            "1/1 [==============================] - 0s 32ms/step - loss: 6.8681 - mae: 6.8681\n",
            "Epoch 96/100\n",
            "1/1 [==============================] - 0s 21ms/step - loss: 6.8625 - mae: 6.8625\n",
            "Epoch 97/100\n",
            "1/1 [==============================] - 0s 45ms/step - loss: 6.8569 - mae: 6.8569\n",
            "Epoch 98/100\n",
            "1/1 [==============================] - 0s 20ms/step - loss: 6.8513 - mae: 6.8513\n",
            "Epoch 99/100\n",
            "1/1 [==============================] - 0s 29ms/step - loss: 6.8456 - mae: 6.8456\n",
            "Epoch 100/100\n",
            "1/1 [==============================] - 0s 41ms/step - loss: 6.8400 - mae: 6.8400\n"
          ]
        },
        {
          "output_type": "execute_result",
          "data": {
            "text/plain": [
              "<keras.src.callbacks.History at 0x7f0e90c85c30>"
            ]
          },
          "metadata": {},
          "execution_count": 15
        }
      ]
    },
    {
      "cell_type": "code",
      "source": [
        "# Try make prediction\n",
        "model1.predict([17.0])"
      ],
      "metadata": {
        "colab": {
          "base_uri": "https://localhost:8080/"
        },
        "id": "4kMA7oidBuHG",
        "outputId": "d3c5fe4f-35cd-4bdb-ae89-cf49d5f55c61"
      },
      "execution_count": null,
      "outputs": [
        {
          "output_type": "stream",
          "name": "stdout",
          "text": [
            "1/1 [==============================] - 0s 358ms/step\n"
          ]
        },
        {
          "output_type": "execute_result",
          "data": {
            "text/plain": [
              "array([[29.576694]], dtype=float32)"
            ]
          },
          "metadata": {},
          "execution_count": 16
        }
      ]
    },
    {
      "cell_type": "code",
      "source": [
        "# re-write the model by my self and improve one thing to get better\n",
        "\n",
        "# 1. Create the model\n",
        "model2 = tf.keras.Sequential([\n",
        "    tf.keras.layers.Dense(1)\n",
        "])\n",
        "\n",
        "# 2. Compile the model\n",
        "model2.compile(loss = tf.keras.losses.mae,\n",
        "              optimizer = tf.keras.optimizers.Adam(learning_rate=0.001), # chang the optimizers from SGD to adam\n",
        "              metrics = [\"mae\"])\n",
        "\n",
        "# 3. Fit the model\n",
        "# model.fit(X, Y, epochs=5) # BREAK IN UPDATED TENSOR VERSION\n",
        "model2.fit(tf.expand_dims(X, axis=-1), Y, epochs=100)"
      ],
      "metadata": {
        "colab": {
          "base_uri": "https://localhost:8080/"
        },
        "id": "gdwbhbhmJVPx",
        "outputId": "ebe3c5fc-6dca-4d7c-cb1d-431972235d92"
      },
      "execution_count": null,
      "outputs": [
        {
          "output_type": "stream",
          "name": "stdout",
          "text": [
            "Epoch 1/100\n",
            "1/1 [==============================] - 2s 2s/step - loss: 16.4078 - mae: 16.4078\n",
            "Epoch 2/100\n",
            "1/1 [==============================] - 0s 34ms/step - loss: 16.4018 - mae: 16.4018\n",
            "Epoch 3/100\n",
            "1/1 [==============================] - 0s 40ms/step - loss: 16.3958 - mae: 16.3958\n",
            "Epoch 4/100\n",
            "1/1 [==============================] - 0s 42ms/step - loss: 16.3898 - mae: 16.3898\n",
            "Epoch 5/100\n",
            "1/1 [==============================] - 0s 20ms/step - loss: 16.3838 - mae: 16.3838\n",
            "Epoch 6/100\n",
            "1/1 [==============================] - 0s 19ms/step - loss: 16.3778 - mae: 16.3778\n",
            "Epoch 7/100\n",
            "1/1 [==============================] - 0s 34ms/step - loss: 16.3718 - mae: 16.3718\n",
            "Epoch 8/100\n",
            "1/1 [==============================] - 0s 24ms/step - loss: 16.3658 - mae: 16.3658\n",
            "Epoch 9/100\n",
            "1/1 [==============================] - 0s 46ms/step - loss: 16.3598 - mae: 16.3598\n",
            "Epoch 10/100\n",
            "1/1 [==============================] - 0s 23ms/step - loss: 16.3538 - mae: 16.3538\n",
            "Epoch 11/100\n",
            "1/1 [==============================] - 0s 34ms/step - loss: 16.3478 - mae: 16.3478\n",
            "Epoch 12/100\n",
            "1/1 [==============================] - 0s 25ms/step - loss: 16.3418 - mae: 16.3418\n",
            "Epoch 13/100\n",
            "1/1 [==============================] - 0s 20ms/step - loss: 16.3358 - mae: 16.3358\n",
            "Epoch 14/100\n",
            "1/1 [==============================] - 0s 24ms/step - loss: 16.3298 - mae: 16.3298\n",
            "Epoch 15/100\n",
            "1/1 [==============================] - 0s 16ms/step - loss: 16.3238 - mae: 16.3238\n",
            "Epoch 16/100\n",
            "1/1 [==============================] - 0s 33ms/step - loss: 16.3178 - mae: 16.3178\n",
            "Epoch 17/100\n",
            "1/1 [==============================] - 0s 26ms/step - loss: 16.3118 - mae: 16.3118\n",
            "Epoch 18/100\n",
            "1/1 [==============================] - 0s 27ms/step - loss: 16.3058 - mae: 16.3058\n",
            "Epoch 19/100\n",
            "1/1 [==============================] - 0s 20ms/step - loss: 16.2998 - mae: 16.2998\n",
            "Epoch 20/100\n",
            "1/1 [==============================] - 0s 43ms/step - loss: 16.2938 - mae: 16.2938\n",
            "Epoch 21/100\n",
            "1/1 [==============================] - 0s 43ms/step - loss: 16.2878 - mae: 16.2878\n",
            "Epoch 22/100\n",
            "1/1 [==============================] - 0s 32ms/step - loss: 16.2818 - mae: 16.2818\n",
            "Epoch 23/100\n",
            "1/1 [==============================] - 0s 33ms/step - loss: 16.2758 - mae: 16.2758\n",
            "Epoch 24/100\n",
            "1/1 [==============================] - 0s 29ms/step - loss: 16.2698 - mae: 16.2698\n",
            "Epoch 25/100\n",
            "1/1 [==============================] - 0s 41ms/step - loss: 16.2638 - mae: 16.2638\n",
            "Epoch 26/100\n",
            "1/1 [==============================] - 0s 38ms/step - loss: 16.2578 - mae: 16.2578\n",
            "Epoch 27/100\n",
            "1/1 [==============================] - 0s 25ms/step - loss: 16.2518 - mae: 16.2518\n",
            "Epoch 28/100\n",
            "1/1 [==============================] - 0s 21ms/step - loss: 16.2458 - mae: 16.2458\n",
            "Epoch 29/100\n",
            "1/1 [==============================] - 0s 22ms/step - loss: 16.2398 - mae: 16.2398\n",
            "Epoch 30/100\n",
            "1/1 [==============================] - 0s 25ms/step - loss: 16.2338 - mae: 16.2338\n",
            "Epoch 31/100\n",
            "1/1 [==============================] - 0s 26ms/step - loss: 16.2278 - mae: 16.2278\n",
            "Epoch 32/100\n",
            "1/1 [==============================] - 0s 23ms/step - loss: 16.2218 - mae: 16.2218\n",
            "Epoch 33/100\n",
            "1/1 [==============================] - 0s 27ms/step - loss: 16.2158 - mae: 16.2158\n",
            "Epoch 34/100\n",
            "1/1 [==============================] - 0s 28ms/step - loss: 16.2098 - mae: 16.2098\n",
            "Epoch 35/100\n",
            "1/1 [==============================] - 0s 30ms/step - loss: 16.2038 - mae: 16.2038\n",
            "Epoch 36/100\n",
            "1/1 [==============================] - 0s 35ms/step - loss: 16.1978 - mae: 16.1978\n",
            "Epoch 37/100\n",
            "1/1 [==============================] - 0s 20ms/step - loss: 16.1918 - mae: 16.1918\n",
            "Epoch 38/100\n",
            "1/1 [==============================] - 0s 22ms/step - loss: 16.1858 - mae: 16.1858\n",
            "Epoch 39/100\n",
            "1/1 [==============================] - 0s 18ms/step - loss: 16.1798 - mae: 16.1798\n",
            "Epoch 40/100\n",
            "1/1 [==============================] - 0s 22ms/step - loss: 16.1738 - mae: 16.1738\n",
            "Epoch 41/100\n",
            "1/1 [==============================] - 0s 27ms/step - loss: 16.1678 - mae: 16.1678\n",
            "Epoch 42/100\n",
            "1/1 [==============================] - 0s 30ms/step - loss: 16.1618 - mae: 16.1618\n",
            "Epoch 43/100\n",
            "1/1 [==============================] - 0s 45ms/step - loss: 16.1558 - mae: 16.1558\n",
            "Epoch 44/100\n",
            "1/1 [==============================] - 0s 29ms/step - loss: 16.1498 - mae: 16.1498\n",
            "Epoch 45/100\n",
            "1/1 [==============================] - 0s 39ms/step - loss: 16.1438 - mae: 16.1438\n",
            "Epoch 46/100\n",
            "1/1 [==============================] - 0s 22ms/step - loss: 16.1378 - mae: 16.1378\n",
            "Epoch 47/100\n",
            "1/1 [==============================] - 0s 25ms/step - loss: 16.1318 - mae: 16.1318\n",
            "Epoch 48/100\n",
            "1/1 [==============================] - 0s 21ms/step - loss: 16.1258 - mae: 16.1258\n",
            "Epoch 49/100\n",
            "1/1 [==============================] - 0s 24ms/step - loss: 16.1198 - mae: 16.1198\n",
            "Epoch 50/100\n",
            "1/1 [==============================] - 0s 21ms/step - loss: 16.1138 - mae: 16.1138\n",
            "Epoch 51/100\n",
            "1/1 [==============================] - 0s 30ms/step - loss: 16.1078 - mae: 16.1078\n",
            "Epoch 52/100\n",
            "1/1 [==============================] - 0s 47ms/step - loss: 16.1018 - mae: 16.1018\n",
            "Epoch 53/100\n",
            "1/1 [==============================] - 0s 59ms/step - loss: 16.0958 - mae: 16.0958\n",
            "Epoch 54/100\n",
            "1/1 [==============================] - 0s 56ms/step - loss: 16.0898 - mae: 16.0898\n",
            "Epoch 55/100\n",
            "1/1 [==============================] - 0s 59ms/step - loss: 16.0838 - mae: 16.0838\n",
            "Epoch 56/100\n",
            "1/1 [==============================] - 0s 33ms/step - loss: 16.0778 - mae: 16.0778\n",
            "Epoch 57/100\n",
            "1/1 [==============================] - 0s 38ms/step - loss: 16.0718 - mae: 16.0718\n",
            "Epoch 58/100\n",
            "1/1 [==============================] - 0s 35ms/step - loss: 16.0658 - mae: 16.0658\n",
            "Epoch 59/100\n",
            "1/1 [==============================] - 0s 40ms/step - loss: 16.0598 - mae: 16.0598\n",
            "Epoch 60/100\n",
            "1/1 [==============================] - 0s 41ms/step - loss: 16.0538 - mae: 16.0538\n",
            "Epoch 61/100\n",
            "1/1 [==============================] - 0s 31ms/step - loss: 16.0478 - mae: 16.0478\n",
            "Epoch 62/100\n",
            "1/1 [==============================] - 0s 65ms/step - loss: 16.0418 - mae: 16.0418\n",
            "Epoch 63/100\n",
            "1/1 [==============================] - 0s 51ms/step - loss: 16.0358 - mae: 16.0358\n",
            "Epoch 64/100\n",
            "1/1 [==============================] - 0s 59ms/step - loss: 16.0298 - mae: 16.0298\n",
            "Epoch 65/100\n",
            "1/1 [==============================] - 0s 65ms/step - loss: 16.0238 - mae: 16.0238\n",
            "Epoch 66/100\n",
            "1/1 [==============================] - 0s 92ms/step - loss: 16.0178 - mae: 16.0178\n",
            "Epoch 67/100\n",
            "1/1 [==============================] - 0s 30ms/step - loss: 16.0118 - mae: 16.0118\n",
            "Epoch 68/100\n",
            "1/1 [==============================] - 0s 47ms/step - loss: 16.0058 - mae: 16.0058\n",
            "Epoch 69/100\n",
            "1/1 [==============================] - 0s 49ms/step - loss: 15.9998 - mae: 15.9998\n",
            "Epoch 70/100\n",
            "1/1 [==============================] - 0s 47ms/step - loss: 15.9938 - mae: 15.9938\n",
            "Epoch 71/100\n",
            "1/1 [==============================] - 0s 53ms/step - loss: 15.9878 - mae: 15.9878\n",
            "Epoch 72/100\n",
            "1/1 [==============================] - 0s 33ms/step - loss: 15.9818 - mae: 15.9818\n",
            "Epoch 73/100\n",
            "1/1 [==============================] - 0s 31ms/step - loss: 15.9758 - mae: 15.9758\n",
            "Epoch 74/100\n",
            "1/1 [==============================] - 0s 26ms/step - loss: 15.9698 - mae: 15.9698\n",
            "Epoch 75/100\n",
            "1/1 [==============================] - 0s 58ms/step - loss: 15.9638 - mae: 15.9638\n",
            "Epoch 76/100\n",
            "1/1 [==============================] - 0s 27ms/step - loss: 15.9578 - mae: 15.9578\n",
            "Epoch 77/100\n",
            "1/1 [==============================] - 0s 19ms/step - loss: 15.9518 - mae: 15.9518\n",
            "Epoch 78/100\n",
            "1/1 [==============================] - 0s 20ms/step - loss: 15.9458 - mae: 15.9458\n",
            "Epoch 79/100\n",
            "1/1 [==============================] - 0s 31ms/step - loss: 15.9398 - mae: 15.9398\n",
            "Epoch 80/100\n",
            "1/1 [==============================] - 0s 19ms/step - loss: 15.9338 - mae: 15.9338\n",
            "Epoch 81/100\n",
            "1/1 [==============================] - 0s 23ms/step - loss: 15.9278 - mae: 15.9278\n",
            "Epoch 82/100\n",
            "1/1 [==============================] - 0s 21ms/step - loss: 15.9218 - mae: 15.9218\n",
            "Epoch 83/100\n",
            "1/1 [==============================] - 0s 58ms/step - loss: 15.9158 - mae: 15.9158\n",
            "Epoch 84/100\n",
            "1/1 [==============================] - 0s 22ms/step - loss: 15.9098 - mae: 15.9098\n",
            "Epoch 85/100\n",
            "1/1 [==============================] - 0s 18ms/step - loss: 15.9038 - mae: 15.9038\n",
            "Epoch 86/100\n",
            "1/1 [==============================] - 0s 16ms/step - loss: 15.8978 - mae: 15.8978\n",
            "Epoch 87/100\n",
            "1/1 [==============================] - 0s 35ms/step - loss: 15.8918 - mae: 15.8918\n",
            "Epoch 88/100\n",
            "1/1 [==============================] - 0s 38ms/step - loss: 15.8858 - mae: 15.8858\n",
            "Epoch 89/100\n",
            "1/1 [==============================] - 0s 14ms/step - loss: 15.8798 - mae: 15.8798\n",
            "Epoch 90/100\n",
            "1/1 [==============================] - 0s 17ms/step - loss: 15.8738 - mae: 15.8738\n",
            "Epoch 91/100\n",
            "1/1 [==============================] - 0s 33ms/step - loss: 15.8678 - mae: 15.8678\n",
            "Epoch 92/100\n",
            "1/1 [==============================] - 0s 16ms/step - loss: 15.8618 - mae: 15.8618\n",
            "Epoch 93/100\n",
            "1/1 [==============================] - 0s 17ms/step - loss: 15.8558 - mae: 15.8558\n",
            "Epoch 94/100\n",
            "1/1 [==============================] - 0s 17ms/step - loss: 15.8498 - mae: 15.8498\n",
            "Epoch 95/100\n",
            "1/1 [==============================] - 0s 15ms/step - loss: 15.8438 - mae: 15.8438\n",
            "Epoch 96/100\n",
            "1/1 [==============================] - 0s 39ms/step - loss: 15.8378 - mae: 15.8378\n",
            "Epoch 97/100\n",
            "1/1 [==============================] - 0s 26ms/step - loss: 15.8318 - mae: 15.8318\n",
            "Epoch 98/100\n",
            "1/1 [==============================] - 0s 20ms/step - loss: 15.8258 - mae: 15.8258\n",
            "Epoch 99/100\n",
            "1/1 [==============================] - 0s 18ms/step - loss: 15.8198 - mae: 15.8198\n",
            "Epoch 100/100\n",
            "1/1 [==============================] - 0s 18ms/step - loss: 15.8138 - mae: 15.8138\n"
          ]
        },
        {
          "output_type": "execute_result",
          "data": {
            "text/plain": [
              "<keras.src.callbacks.History at 0x7f0e902bebf0>"
            ]
          },
          "metadata": {},
          "execution_count": 17
        }
      ]
    },
    {
      "cell_type": "code",
      "source": [
        "# Try make prediction\n",
        "model2.predict([17.0])"
      ],
      "metadata": {
        "colab": {
          "base_uri": "https://localhost:8080/"
        },
        "id": "QeWEo95_J5Gg",
        "outputId": "148ef087-bd98-41f5-8e0f-98e4cf82f876"
      },
      "execution_count": null,
      "outputs": [
        {
          "output_type": "stream",
          "name": "stdout",
          "text": [
            "1/1 [==============================] - 0s 176ms/step\n"
          ]
        },
        {
          "output_type": "execute_result",
          "data": {
            "text/plain": [
              "array([[-10.044254]], dtype=float32)"
            ]
          },
          "metadata": {},
          "execution_count": 18
        }
      ]
    },
    {
      "cell_type": "code",
      "source": [
        "# re-write the model\n",
        "\n",
        "# 1. Create the model (with 100 hidden units )\n",
        "model3 = tf.keras.Sequential([\n",
        "    tf.keras.layers.Dense(50, activation=None),\n",
        "    tf.keras.layers.Dense(1)\n",
        "])\n",
        "\n",
        "# 2. Compile the model\n",
        "model3.compile(loss = \"mae\",\n",
        "              optimizer = tf.keras.optimizers.Adam(learning_rate = 0.01),\n",
        "              metrics = [\"mae\"])\n",
        "\n",
        "# 3. Fit the model\n",
        "# model.fit(X, Y, epochs=5) # BREAK IN UPDATED TENSOR VERSION\n",
        "model3.fit(tf.expand_dims(X, axis=-1), Y, epochs=100)"
      ],
      "metadata": {
        "colab": {
          "base_uri": "https://localhost:8080/"
        },
        "id": "KI1XF166hgOa",
        "outputId": "98326045-2464-4c35-bb7c-7d030209b197"
      },
      "execution_count": null,
      "outputs": [
        {
          "output_type": "stream",
          "name": "stdout",
          "text": [
            "Epoch 1/100\n",
            "1/1 [==============================] - 2s 2s/step - loss: 14.0338 - mae: 14.0338\n",
            "Epoch 2/100\n",
            "1/1 [==============================] - 0s 18ms/step - loss: 13.3246 - mae: 13.3246\n",
            "Epoch 3/100\n",
            "1/1 [==============================] - 0s 34ms/step - loss: 12.6125 - mae: 12.6125\n",
            "Epoch 4/100\n",
            "1/1 [==============================] - 0s 29ms/step - loss: 11.8942 - mae: 11.8942\n",
            "Epoch 5/100\n",
            "1/1 [==============================] - 0s 12ms/step - loss: 11.1674 - mae: 11.1674\n",
            "Epoch 6/100\n",
            "1/1 [==============================] - 0s 21ms/step - loss: 10.4300 - mae: 10.4300\n",
            "Epoch 7/100\n",
            "1/1 [==============================] - 0s 15ms/step - loss: 9.6798 - mae: 9.6798\n",
            "Epoch 8/100\n",
            "1/1 [==============================] - 0s 12ms/step - loss: 8.9145 - mae: 8.9145\n",
            "Epoch 9/100\n",
            "1/1 [==============================] - 0s 10ms/step - loss: 8.1319 - mae: 8.1319\n",
            "Epoch 10/100\n",
            "1/1 [==============================] - 0s 16ms/step - loss: 7.3294 - mae: 7.3294\n",
            "Epoch 11/100\n",
            "1/1 [==============================] - 0s 40ms/step - loss: 6.6477 - mae: 6.6477\n",
            "Epoch 12/100\n",
            "1/1 [==============================] - 0s 29ms/step - loss: 6.7193 - mae: 6.7193\n",
            "Epoch 13/100\n",
            "1/1 [==============================] - 0s 24ms/step - loss: 7.0204 - mae: 7.0204\n",
            "Epoch 14/100\n",
            "1/1 [==============================] - 0s 23ms/step - loss: 7.2428 - mae: 7.2428\n",
            "Epoch 15/100\n",
            "1/1 [==============================] - 0s 26ms/step - loss: 7.3573 - mae: 7.3573\n",
            "Epoch 16/100\n",
            "1/1 [==============================] - 0s 20ms/step - loss: 7.2635 - mae: 7.2635\n",
            "Epoch 17/100\n",
            "1/1 [==============================] - 0s 39ms/step - loss: 7.0128 - mae: 7.0128\n",
            "Epoch 18/100\n",
            "1/1 [==============================] - 0s 19ms/step - loss: 6.7350 - mae: 6.7350\n",
            "Epoch 19/100\n",
            "1/1 [==============================] - 0s 18ms/step - loss: 6.4741 - mae: 6.4741\n",
            "Epoch 20/100\n",
            "1/1 [==============================] - 0s 19ms/step - loss: 6.1955 - mae: 6.1955\n",
            "Epoch 21/100\n",
            "1/1 [==============================] - 0s 20ms/step - loss: 5.9576 - mae: 5.9576\n",
            "Epoch 22/100\n",
            "1/1 [==============================] - 0s 20ms/step - loss: 5.9080 - mae: 5.9080\n",
            "Epoch 23/100\n",
            "1/1 [==============================] - 0s 37ms/step - loss: 5.8959 - mae: 5.8959\n",
            "Epoch 24/100\n",
            "1/1 [==============================] - 0s 26ms/step - loss: 5.9547 - mae: 5.9547\n",
            "Epoch 25/100\n",
            "1/1 [==============================] - 0s 36ms/step - loss: 5.9062 - mae: 5.9062\n",
            "Epoch 26/100\n",
            "1/1 [==============================] - 0s 33ms/step - loss: 5.7634 - mae: 5.7634\n",
            "Epoch 27/100\n",
            "1/1 [==============================] - 0s 51ms/step - loss: 5.5357 - mae: 5.5357\n",
            "Epoch 28/100\n",
            "1/1 [==============================] - 0s 25ms/step - loss: 5.4099 - mae: 5.4099\n",
            "Epoch 29/100\n",
            "1/1 [==============================] - 0s 28ms/step - loss: 5.2968 - mae: 5.2968\n",
            "Epoch 30/100\n",
            "1/1 [==============================] - 0s 23ms/step - loss: 5.2458 - mae: 5.2458\n",
            "Epoch 31/100\n",
            "1/1 [==============================] - 0s 28ms/step - loss: 5.2335 - mae: 5.2335\n",
            "Epoch 32/100\n",
            "1/1 [==============================] - 0s 15ms/step - loss: 5.1758 - mae: 5.1758\n",
            "Epoch 33/100\n",
            "1/1 [==============================] - 0s 17ms/step - loss: 5.0763 - mae: 5.0763\n",
            "Epoch 34/100\n",
            "1/1 [==============================] - 0s 21ms/step - loss: 4.9387 - mae: 4.9387\n",
            "Epoch 35/100\n",
            "1/1 [==============================] - 0s 34ms/step - loss: 4.7665 - mae: 4.7665\n",
            "Epoch 36/100\n",
            "1/1 [==============================] - 0s 13ms/step - loss: 4.5770 - mae: 4.5770\n",
            "Epoch 37/100\n",
            "1/1 [==============================] - 0s 20ms/step - loss: 4.4786 - mae: 4.4786\n",
            "Epoch 38/100\n",
            "1/1 [==============================] - 0s 14ms/step - loss: 4.3728 - mae: 4.3728\n",
            "Epoch 39/100\n",
            "1/1 [==============================] - 0s 24ms/step - loss: 4.2595 - mae: 4.2595\n",
            "Epoch 40/100\n",
            "1/1 [==============================] - 0s 27ms/step - loss: 4.1386 - mae: 4.1386\n",
            "Epoch 41/100\n",
            "1/1 [==============================] - 0s 24ms/step - loss: 4.0470 - mae: 4.0470\n",
            "Epoch 42/100\n",
            "1/1 [==============================] - 0s 20ms/step - loss: 3.8624 - mae: 3.8624\n",
            "Epoch 43/100\n",
            "1/1 [==============================] - 0s 26ms/step - loss: 3.7077 - mae: 3.7077\n",
            "Epoch 44/100\n",
            "1/1 [==============================] - 0s 36ms/step - loss: 3.5454 - mae: 3.5454\n",
            "Epoch 45/100\n",
            "1/1 [==============================] - 0s 31ms/step - loss: 3.3755 - mae: 3.3755\n",
            "Epoch 46/100\n",
            "1/1 [==============================] - 0s 36ms/step - loss: 3.2202 - mae: 3.2202\n",
            "Epoch 47/100\n",
            "1/1 [==============================] - 0s 27ms/step - loss: 3.0661 - mae: 3.0661\n",
            "Epoch 48/100\n",
            "1/1 [==============================] - 0s 42ms/step - loss: 2.8585 - mae: 2.8585\n",
            "Epoch 49/100\n",
            "1/1 [==============================] - 0s 22ms/step - loss: 2.6859 - mae: 2.6859\n",
            "Epoch 50/100\n",
            "1/1 [==============================] - 0s 25ms/step - loss: 2.5069 - mae: 2.5069\n",
            "Epoch 51/100\n",
            "1/1 [==============================] - 0s 18ms/step - loss: 2.3762 - mae: 2.3762\n",
            "Epoch 52/100\n",
            "1/1 [==============================] - 0s 30ms/step - loss: 2.1084 - mae: 2.1084\n",
            "Epoch 53/100\n",
            "1/1 [==============================] - 0s 23ms/step - loss: 1.8666 - mae: 1.8666\n",
            "Epoch 54/100\n",
            "1/1 [==============================] - 0s 32ms/step - loss: 1.7158 - mae: 1.7158\n",
            "Epoch 55/100\n",
            "1/1 [==============================] - 0s 26ms/step - loss: 1.4968 - mae: 1.4968\n",
            "Epoch 56/100\n",
            "1/1 [==============================] - 0s 20ms/step - loss: 1.2129 - mae: 1.2129\n",
            "Epoch 57/100\n",
            "1/1 [==============================] - 0s 18ms/step - loss: 0.9471 - mae: 0.9471\n",
            "Epoch 58/100\n",
            "1/1 [==============================] - 0s 12ms/step - loss: 0.6984 - mae: 0.6984\n",
            "Epoch 59/100\n",
            "1/1 [==============================] - 0s 19ms/step - loss: 0.4848 - mae: 0.4848\n",
            "Epoch 60/100\n",
            "1/1 [==============================] - 0s 24ms/step - loss: 0.2274 - mae: 0.2274\n",
            "Epoch 61/100\n",
            "1/1 [==============================] - 0s 22ms/step - loss: 0.3165 - mae: 0.3165\n",
            "Epoch 62/100\n",
            "1/1 [==============================] - 0s 12ms/step - loss: 0.4608 - mae: 0.4608\n",
            "Epoch 63/100\n",
            "1/1 [==============================] - 0s 12ms/step - loss: 0.5265 - mae: 0.5265\n",
            "Epoch 64/100\n",
            "1/1 [==============================] - 0s 12ms/step - loss: 0.6376 - mae: 0.6376\n",
            "Epoch 65/100\n",
            "1/1 [==============================] - 0s 34ms/step - loss: 0.7425 - mae: 0.7425\n",
            "Epoch 66/100\n",
            "1/1 [==============================] - 0s 45ms/step - loss: 0.8055 - mae: 0.8055\n",
            "Epoch 67/100\n",
            "1/1 [==============================] - 0s 34ms/step - loss: 0.7135 - mae: 0.7135\n",
            "Epoch 68/100\n",
            "1/1 [==============================] - 0s 40ms/step - loss: 0.7641 - mae: 0.7641\n",
            "Epoch 69/100\n",
            "1/1 [==============================] - 0s 25ms/step - loss: 0.7060 - mae: 0.7060\n",
            "Epoch 70/100\n",
            "1/1 [==============================] - 0s 28ms/step - loss: 0.4773 - mae: 0.4773\n",
            "Epoch 71/100\n",
            "1/1 [==============================] - 0s 32ms/step - loss: 0.4428 - mae: 0.4428\n",
            "Epoch 72/100\n",
            "1/1 [==============================] - 0s 53ms/step - loss: 0.2945 - mae: 0.2945\n",
            "Epoch 73/100\n",
            "1/1 [==============================] - 0s 28ms/step - loss: 0.1188 - mae: 0.1188\n",
            "Epoch 74/100\n",
            "1/1 [==============================] - 0s 27ms/step - loss: 0.1764 - mae: 0.1764\n",
            "Epoch 75/100\n",
            "1/1 [==============================] - 0s 23ms/step - loss: 0.3390 - mae: 0.3390\n",
            "Epoch 76/100\n",
            "1/1 [==============================] - 0s 35ms/step - loss: 0.4466 - mae: 0.4466\n",
            "Epoch 77/100\n",
            "1/1 [==============================] - 0s 40ms/step - loss: 0.3791 - mae: 0.3791\n",
            "Epoch 78/100\n",
            "1/1 [==============================] - 0s 51ms/step - loss: 0.5358 - mae: 0.5358\n",
            "Epoch 79/100\n",
            "1/1 [==============================] - 0s 17ms/step - loss: 0.6170 - mae: 0.6170\n",
            "Epoch 80/100\n",
            "1/1 [==============================] - 0s 24ms/step - loss: 0.4462 - mae: 0.4462\n",
            "Epoch 81/100\n",
            "1/1 [==============================] - 0s 39ms/step - loss: 0.3633 - mae: 0.3633\n",
            "Epoch 82/100\n",
            "1/1 [==============================] - 0s 62ms/step - loss: 0.3810 - mae: 0.3810\n",
            "Epoch 83/100\n",
            "1/1 [==============================] - 0s 39ms/step - loss: 0.2393 - mae: 0.2393\n",
            "Epoch 84/100\n",
            "1/1 [==============================] - 0s 18ms/step - loss: 0.0799 - mae: 0.0799\n",
            "Epoch 85/100\n",
            "1/1 [==============================] - 0s 15ms/step - loss: 0.1131 - mae: 0.1131\n",
            "Epoch 86/100\n",
            "1/1 [==============================] - 0s 19ms/step - loss: 0.3459 - mae: 0.3459\n",
            "Epoch 87/100\n",
            "1/1 [==============================] - 0s 27ms/step - loss: 0.3391 - mae: 0.3391\n",
            "Epoch 88/100\n",
            "1/1 [==============================] - 0s 25ms/step - loss: 0.3047 - mae: 0.3047\n",
            "Epoch 89/100\n",
            "1/1 [==============================] - 0s 18ms/step - loss: 0.3458 - mae: 0.3458\n",
            "Epoch 90/100\n",
            "1/1 [==============================] - 0s 23ms/step - loss: 0.2246 - mae: 0.2246\n",
            "Epoch 91/100\n",
            "1/1 [==============================] - 0s 21ms/step - loss: 0.3255 - mae: 0.3255\n",
            "Epoch 92/100\n",
            "1/1 [==============================] - 0s 64ms/step - loss: 0.2992 - mae: 0.2992\n",
            "Epoch 93/100\n",
            "1/1 [==============================] - 0s 24ms/step - loss: 0.0159 - mae: 0.0159\n",
            "Epoch 94/100\n",
            "1/1 [==============================] - 0s 20ms/step - loss: 0.2992 - mae: 0.2992\n",
            "Epoch 95/100\n",
            "1/1 [==============================] - 0s 18ms/step - loss: 0.2699 - mae: 0.2699\n",
            "Epoch 96/100\n",
            "1/1 [==============================] - 0s 18ms/step - loss: 0.1470 - mae: 0.1470\n",
            "Epoch 97/100\n",
            "1/1 [==============================] - 0s 31ms/step - loss: 0.1989 - mae: 0.1989\n",
            "Epoch 98/100\n",
            "1/1 [==============================] - 0s 14ms/step - loss: 0.1003 - mae: 0.1003\n",
            "Epoch 99/100\n",
            "1/1 [==============================] - 0s 14ms/step - loss: 0.1812 - mae: 0.1812\n",
            "Epoch 100/100\n",
            "1/1 [==============================] - 0s 30ms/step - loss: 0.1632 - mae: 0.1632\n"
          ]
        },
        {
          "output_type": "execute_result",
          "data": {
            "text/plain": [
              "<keras.src.callbacks.History at 0x7f0e902beb90>"
            ]
          },
          "metadata": {},
          "execution_count": 19
        }
      ]
    },
    {
      "cell_type": "code",
      "source": [
        "# Try make prediction\n",
        "model3.predict([17.0])"
      ],
      "metadata": {
        "colab": {
          "base_uri": "https://localhost:8080/"
        },
        "id": "iZcXS1vmiusq",
        "outputId": "b8ca4eb6-160a-42f0-e3ad-9162f82fdb9a"
      },
      "execution_count": null,
      "outputs": [
        {
          "output_type": "stream",
          "name": "stdout",
          "text": [
            "1/1 [==============================] - 0s 193ms/step\n"
          ]
        },
        {
          "output_type": "execute_result",
          "data": {
            "text/plain": [
              "array([[26.748909]], dtype=float32)"
            ]
          },
          "metadata": {},
          "execution_count": 20
        }
      ]
    },
    {
      "cell_type": "markdown",
      "source": [
        "## Evaluating Model\n",
        "\n",
        "Build a model -> fit it -> evaluate it -> tweak a model -> fit it -> evaluate it...\n",
        "\n",
        "Evaluation = visualize\n",
        "\n",
        "it's good idea to visualize :\n",
        "* The data - what data we working with? what does it look like?\n",
        "* The model = what does our model look like?\n",
        "* The training of a model - how does a model perform while it learns?\n",
        "* The predictions of the model - how do the predictions of a model line up against the ground truth (the origin label)"
      ],
      "metadata": {
        "id": "ggu1CbXFlSbl"
      }
    },
    {
      "cell_type": "code",
      "source": [
        "# Make a bigger dataset\n",
        "\n",
        "x = tf.range(-100, 100, 4)\n",
        "x"
      ],
      "metadata": {
        "colab": {
          "base_uri": "https://localhost:8080/"
        },
        "id": "O5yDk0J9lV5n",
        "outputId": "811307d3-3bb4-49f2-e37d-aa962224eb50"
      },
      "execution_count": null,
      "outputs": [
        {
          "output_type": "execute_result",
          "data": {
            "text/plain": [
              "<tf.Tensor: shape=(50,), dtype=int32, numpy=\n",
              "array([-100,  -96,  -92,  -88,  -84,  -80,  -76,  -72,  -68,  -64,  -60,\n",
              "        -56,  -52,  -48,  -44,  -40,  -36,  -32,  -28,  -24,  -20,  -16,\n",
              "        -12,   -8,   -4,    0,    4,    8,   12,   16,   20,   24,   28,\n",
              "         32,   36,   40,   44,   48,   52,   56,   60,   64,   68,   72,\n",
              "         76,   80,   84,   88,   92,   96], dtype=int32)>"
            ]
          },
          "metadata": {},
          "execution_count": 21
        }
      ]
    },
    {
      "cell_type": "code",
      "source": [
        "# Make labels for the dataset\n",
        "\n",
        "y = x + 10\n",
        "y"
      ],
      "metadata": {
        "colab": {
          "base_uri": "https://localhost:8080/"
        },
        "id": "_VnV5iodqYP8",
        "outputId": "a38e1929-ad07-4550-9396-180d7045332b"
      },
      "execution_count": null,
      "outputs": [
        {
          "output_type": "execute_result",
          "data": {
            "text/plain": [
              "<tf.Tensor: shape=(50,), dtype=int32, numpy=\n",
              "array([-90, -86, -82, -78, -74, -70, -66, -62, -58, -54, -50, -46, -42,\n",
              "       -38, -34, -30, -26, -22, -18, -14, -10,  -6,  -2,   2,   6,  10,\n",
              "        14,  18,  22,  26,  30,  34,  38,  42,  46,  50,  54,  58,  62,\n",
              "        66,  70,  74,  78,  82,  86,  90,  94,  98, 102, 106], dtype=int32)>"
            ]
          },
          "metadata": {},
          "execution_count": 22
        }
      ]
    },
    {
      "cell_type": "code",
      "source": [
        "# Visualize the data\n",
        "\n",
        "import matplotlib.pyplot as plt\n",
        "\n",
        "plt.scatter(x, y)"
      ],
      "metadata": {
        "colab": {
          "base_uri": "https://localhost:8080/",
          "height": 447
        },
        "id": "wqnieOnpqiby",
        "outputId": "959471e4-45d9-4c4a-9106-d7e8a266c89f"
      },
      "execution_count": null,
      "outputs": [
        {
          "output_type": "execute_result",
          "data": {
            "text/plain": [
              "<matplotlib.collections.PathCollection at 0x7f0e9010d750>"
            ]
          },
          "metadata": {},
          "execution_count": 23
        },
        {
          "output_type": "display_data",
          "data": {
            "text/plain": [
              "<Figure size 640x480 with 1 Axes>"
            ],
            "image/png": "[encoded data removed]"
          },
          "metadata": {}
        }
      ]
    },
    {
      "cell_type": "markdown",
      "source": [
        "### The 3 sets\n",
        "\n",
        "* **Training set** - the model learn from this data, 70-80%\n",
        "* **Validation set** - set model gets tuned on this data, 10-15%\n",
        "* **Test set** - the model gets evaluated on this data, 10-15%"
      ],
      "metadata": {
        "id": "CCtd3h36q0Xk"
      }
    },
    {
      "cell_type": "code",
      "source": [
        "# Check the length of the data\n",
        "len(x)"
      ],
      "metadata": {
        "colab": {
          "base_uri": "https://localhost:8080/"
        },
        "id": "2_ITjQWjFQsM",
        "outputId": "28032fef-3642-4bd5-dfb5-76af65d9e6b3"
      },
      "execution_count": null,
      "outputs": [
        {
          "output_type": "execute_result",
          "data": {
            "text/plain": [
              "50"
            ]
          },
          "metadata": {},
          "execution_count": 24
        }
      ]
    },
    {
      "cell_type": "code",
      "source": [
        "# Split the data into train and test sets\n",
        "x_train = x[:40] # first to 40 data will be the training sample\n",
        "y_train = y[:40]\n",
        "\n",
        "x_test = x[40:] # 20% will be test\n",
        "y_test = y[40:]\n",
        "\n",
        "len(x_train), len(x_test), len(y_train), len(y_test)"
      ],
      "metadata": {
        "colab": {
          "base_uri": "https://localhost:8080/"
        },
        "id": "4fkIFEl_HAu3",
        "outputId": "044f1ff5-4db9-4a37-9cd2-4dcd886bb0ec"
      },
      "execution_count": null,
      "outputs": [
        {
          "output_type": "execute_result",
          "data": {
            "text/plain": [
              "(40, 10, 40, 10)"
            ]
          },
          "metadata": {},
          "execution_count": 25
        }
      ]
    },
    {
      "cell_type": "markdown",
      "source": [
        "### Visualing the data\n",
        "\n",
        "Now we've got out data in training and test sets...lets visualize it"
      ],
      "metadata": {
        "id": "9WJ9AtA0KgLL"
      }
    },
    {
      "cell_type": "code",
      "source": [
        "plt.figure(figsize=(10,7))\n",
        "\n",
        "# Plot training data in blue\n",
        "plt.scatter(x_train, y_train, c=\"b\", label=\"Training data\")\n",
        "\n",
        "# Plot test data in green\n",
        "plt.scatter(x_test, y_test, c=\"g\", label=\"Testing data\")\n",
        "\n",
        "# Show a legend\n",
        "plt.legend();"
      ],
      "metadata": {
        "colab": {
          "base_uri": "https://localhost:8080/",
          "height": 484
        },
        "id": "OQGu_de6G_li",
        "outputId": "ac61323e-24e3-4ea8-88c5-59fb8dbc58e8"
      },
      "execution_count": null,
      "outputs": [
        {
          "output_type": "display_data",
          "data": {
            "text/plain": [
              "<Figure size 1000x700 with 1 Axes>"
            ],
            "image/png": "[encoded data removed]"
          },
          "metadata": {}
        }
      ]
    },
    {
      "cell_type": "code",
      "source": [
        "# Lets have a look at how to build a neural network for our data\n",
        "\n",
        "# 1. Create the model\n",
        "model = tf.keras.Sequential([\n",
        "    tf.keras.layers.Dense(1)\n",
        "])\n",
        "\n",
        "# 2. Compile the model\n",
        "model.compile(loss = tf.keras.losses.mae,\n",
        "              optimizer = tf.keras.optimizers.SGD(),\n",
        "              metrics = [\"mae\"])\n",
        "\n",
        "# 3. Fit the model\n",
        "#model.fit(tf.expand_dims(x_train, axis=-1), y_train, epochs=100)"
      ],
      "metadata": {
        "id": "TtdWZXKHSSN-"
      },
      "execution_count": null,
      "outputs": []
    },
    {
      "cell_type": "markdown",
      "source": [
        "### Visualizing the model"
      ],
      "metadata": {
        "id": "F7d7P08yTScA"
      }
    },
    {
      "cell_type": "code",
      "source": [
        "# Lets create  model wich builds automatically by defining the input_shape arguments\n",
        "\n",
        "tf.random.set_seed(42)\n",
        "\n",
        "# 1. Create the model\n",
        "model_1 = tf.keras.Sequential([\n",
        "    tf.keras.layers.Dense(100, input_shape=[1], name=\"input_layer\"),\n",
        "    tf.keras.layers.Dense(1, name=\"output_layer\")\n",
        "], name=\"model_one\")\n",
        "\n",
        "# 2. Compile the model\n",
        "model_1.compile(loss = tf.keras.losses.mae,\n",
        "              optimizer = tf.keras.optimizers.SGD(),\n",
        "              metrics = [\"mae\"])"
      ],
      "metadata": {
        "id": "MpSA6LxwTzZK"
      },
      "execution_count": null,
      "outputs": []
    },
    {
      "cell_type": "code",
      "source": [
        "model_1.summary()"
      ],
      "metadata": {
        "colab": {
          "base_uri": "https://localhost:8080/"
        },
        "id": "-jMC9-6WUyLw",
        "outputId": "0d751e5f-34eb-4724-afd4-d5ab9a35a84d"
      },
      "execution_count": null,
      "outputs": [
        {
          "output_type": "stream",
          "name": "stdout",
          "text": [
            "Model: \"model_one\"\n",
            "_________________________________________________________________\n",
            " Layer (type)                Output Shape              Param #   \n",
            "=================================================================\n",
            " input_layer (Dense)         (None, 100)               200       \n",
            "                                                                 \n",
            " output_layer (Dense)        (None, 1)                 101       \n",
            "                                                                 \n",
            "=================================================================\n",
            "Total params: 301 (1.18 KB)\n",
            "Trainable params: 301 (1.18 KB)\n",
            "Non-trainable params: 0 (0.00 Byte)\n",
            "_________________________________________________________________\n"
          ]
        }
      ]
    },
    {
      "cell_type": "markdown",
      "source": [
        "* Total params - total number of parameters that we have\n",
        "\n",
        "* Trainable parameters - the parameters (patterns) the model can update as it trains\n",
        "\n",
        "* Non-trainable params - parameters cant updated during training (allready learn in models during **transfer learning**)\n",
        "\n",
        "📚 **Resource** : For a more in depth overview of the trainable parameters within a layer, check ouy MIT's intorduction to deep learning video\n",
        "\n",
        "⚡**Exercise :** Try playing around with the number of hidden units in the dense layer, see how that effect the number of parameters"
      ],
      "metadata": {
        "id": "fkeG27Fm3_t1"
      }
    },
    {
      "cell_type": "code",
      "source": [
        "# 3. Fit the model\n",
        "model_1.fit(tf.expand_dims(x_train, axis=-1), y_train, epochs=60, verbose=0)"
      ],
      "metadata": {
        "colab": {
          "base_uri": "https://localhost:8080/"
        },
        "id": "e-cgkHtW6914",
        "outputId": "8f22cbbd-ca58-4f66-bb47-4f3d46812a86"
      },
      "execution_count": null,
      "outputs": [
        {
          "output_type": "execute_result",
          "data": {
            "text/plain": [
              "<keras.src.callbacks.History at 0x7f0e83fb7ac0>"
            ]
          },
          "metadata": {},
          "execution_count": 30
        }
      ]
    },
    {
      "cell_type": "code",
      "source": [
        "# Get a summary of our model\n",
        "model_1.summary()"
      ],
      "metadata": {
        "colab": {
          "base_uri": "https://localhost:8080/"
        },
        "id": "IYam8Kl-M2o7",
        "outputId": "0767a8ff-3657-4d95-f2b0-c90dafdb49b0"
      },
      "execution_count": null,
      "outputs": [
        {
          "output_type": "stream",
          "name": "stdout",
          "text": [
            "Model: \"model_one\"\n",
            "_________________________________________________________________\n",
            " Layer (type)                Output Shape              Param #   \n",
            "=================================================================\n",
            " input_layer (Dense)         (None, 100)               200       \n",
            "                                                                 \n",
            " output_layer (Dense)        (None, 1)                 101       \n",
            "                                                                 \n",
            "=================================================================\n",
            "Total params: 301 (1.18 KB)\n",
            "Trainable params: 301 (1.18 KB)\n",
            "Non-trainable params: 0 (0.00 Byte)\n",
            "_________________________________________________________________\n"
          ]
        }
      ]
    },
    {
      "cell_type": "code",
      "source": [
        "from tensorflow.keras.utils import plot_model\n",
        "\n",
        "plot_model(model=model_1, show_shapes=True)"
      ],
      "metadata": {
        "colab": {
          "base_uri": "https://localhost:8080/",
          "height": 312
        },
        "id": "EMxErQE0NVSc",
        "outputId": "6ff7d46f-7d80-4864-962a-a9f62581313a"
      },
      "execution_count": null,
      "outputs": [
        {
          "output_type": "execute_result",
          "data": {
            "image/png": "[encoded data removed]",
            "text/plain": [
              "<IPython.core.display.Image object>"
            ]
          },
          "metadata": {},
          "execution_count": 32
        }
      ]
    },
    {
      "cell_type": "markdown",
      "source": [
        "### Visualizing our models predictions\n",
        "\n",
        "To visualize predictions, it's a good idea to plot them against the ground truth labels.\n",
        "\n",
        "Often you'll see this in the form of 'y_test' or 'y_true' versus 'y_pred' (ground truth versus your model prediction)"
      ],
      "metadata": {
        "id": "XXOFpjXFOyH9"
      }
    },
    {
      "cell_type": "code",
      "source": [
        "# Make some predictions\n",
        "\n",
        "y_pred = model_1.predict(x_test)\n",
        "y_pred"
      ],
      "metadata": {
        "colab": {
          "base_uri": "https://localhost:8080/"
        },
        "id": "943XbXEayJf3",
        "outputId": "6fffc977-0d21-47d6-e231-37279281ddcd"
      },
      "execution_count": null,
      "outputs": [
        {
          "output_type": "stream",
          "name": "stderr",
          "text": [
            "WARNING:tensorflow:5 out of the last 5 calls to <function Model.make_predict_function.<locals>.predict_function at 0x7f0e90b7fb50> triggered tf.function retracing. Tracing is expensive and the excessive number of tracings could be due to (1) creating @tf.function repeatedly in a loop, (2) passing tensors with different shapes, (3) passing Python objects instead of tensors. For (1), please define your @tf.function outside of the loop. For (2), @tf.function has reduce_retracing=True option that can avoid unnecessary retracing. For (3), please refer to https://www.tensorflow.org/guide/function#controlling_retracing and https://www.tensorflow.org/api_docs/python/tf/function for  more details.\n"
          ]
        },
        {
          "output_type": "stream",
          "name": "stdout",
          "text": [
            "1/1 [==============================] - 0s 132ms/step\n"
          ]
        },
        {
          "output_type": "execute_result",
          "data": {
            "text/plain": [
              "array([[ 78.10484 ],\n",
              "       [ 83.24158 ],\n",
              "       [ 88.37832 ],\n",
              "       [ 93.51504 ],\n",
              "       [ 98.65178 ],\n",
              "       [103.78851 ],\n",
              "       [108.925255],\n",
              "       [114.062   ],\n",
              "       [119.19874 ],\n",
              "       [124.335464]], dtype=float32)"
            ]
          },
          "metadata": {},
          "execution_count": 33
        }
      ]
    },
    {
      "cell_type": "code",
      "source": [
        "y_test"
      ],
      "metadata": {
        "colab": {
          "base_uri": "https://localhost:8080/"
        },
        "id": "Ke-R5lq9zVa3",
        "outputId": "fa3f4ea8-5c16-4e01-9e0c-0595c9b888f6"
      },
      "execution_count": null,
      "outputs": [
        {
          "output_type": "execute_result",
          "data": {
            "text/plain": [
              "<tf.Tensor: shape=(10,), dtype=int32, numpy=array([ 70,  74,  78,  82,  86,  90,  94,  98, 102, 106], dtype=int32)>"
            ]
          },
          "metadata": {},
          "execution_count": 34
        }
      ]
    },
    {
      "cell_type": "markdown",
      "source": [
        "🔑 **Note : ** if you feel like you're going to reuse some functionality in the future, its good idea to turn it into a fucntion"
      ],
      "metadata": {
        "id": "nSO6jWAR09Jt"
      }
    },
    {
      "cell_type": "code",
      "source": [
        "# Lets create a plotting function\n",
        "\n",
        "def plot_predictions(train_data=x_train,\n",
        "                     train_labels=y_train,\n",
        "                     test_data=x_test,\n",
        "                     test_labels=y_test,\n",
        "                     predictions=y_pred):\n",
        "  \"\"\"\n",
        "  Plots training data, test data and compares predictions to ground truth labels\n",
        "  \"\"\"\n",
        "  plt.figure(figsize=(10,7))\n",
        "  # Plot training data in blue\n",
        "  plt.scatter(train_data, train_labels, c=\"b\", label=\"Training data\")\n",
        "\n",
        "  # Plot testing data in green\n",
        "  plt.scatter(test_data, test_labels, c=\"g\", label=\"Test data\")\n",
        "\n",
        "  # Plot models predictions in red\n",
        "  plt.scatter(test_data, predictions, c=\"r\", label=\"Predictions\")\n",
        "\n",
        "  # Show the legend\n",
        "  plt.legend()\n",
        "\n"
      ],
      "metadata": {
        "id": "Wt-qJvPk1MAh"
      },
      "execution_count": null,
      "outputs": []
    },
    {
      "cell_type": "code",
      "source": [
        "plot_predictions()"
      ],
      "metadata": {
        "colab": {
          "base_uri": "https://localhost:8080/",
          "height": 479
        },
        "id": "7ZFYZPV5200S",
        "outputId": "f603b81e-e163-4713-86fe-94f57342e05e"
      },
      "execution_count": null,
      "outputs": [
        {
          "output_type": "display_data",
          "data": {
            "text/plain": [
              "<Figure size 1000x700 with 1 Axes>"
            ],
            "image/png": "[encoded data removed]"
          },
          "metadata": {}
        }
      ]
    },
    {
      "cell_type": "markdown",
      "source": [
        "### Evaluating our models predictions with regression evaluation metrics\n",
        "\n",
        "The evaluation metrics is depending to the model we working on\n",
        "\n",
        "since we're working on a regression, two of the main matrics:\n",
        "* MAE - mean absolute error, \"on average, how wrong is each of my model predictions\"\n",
        "\n",
        "* MSE - mean square error, \"square the average errors\""
      ],
      "metadata": {
        "id": "xWQ92ZRr4V_K"
      }
    },
    {
      "cell_type": "code",
      "source": [
        " # Evaluate the model on the test\n",
        " model_1.evaluate(x_test, y_test)"
      ],
      "metadata": {
        "id": "y3-bYOHr0p-A",
        "colab": {
          "base_uri": "https://localhost:8080/"
        },
        "outputId": "c0a622c4-1303-4504-fdf4-e64840756171"
      },
      "execution_count": null,
      "outputs": [
        {
          "output_type": "stream",
          "name": "stdout",
          "text": [
            "1/1 [==============================] - 0s 389ms/step - loss: 13.2202 - mae: 13.2202\n"
          ]
        },
        {
          "output_type": "execute_result",
          "data": {
            "text/plain": [
              "[13.2201509475708, 13.2201509475708]"
            ]
          },
          "metadata": {},
          "execution_count": 37
        }
      ]
    },
    {
      "cell_type": "code",
      "source": [
        "# Calculate the mean absolute error\n",
        "mae = tf.metrics.mean_absolute_error(y_true=y_test, y_pred=tf.constant(y_pred))\n",
        "mae"
      ],
      "metadata": {
        "colab": {
          "base_uri": "https://localhost:8080/"
        },
        "id": "bAwZ_yTfPV4C",
        "outputId": "613a6f10-6bd1-42f4-97a6-fee92c7d3ee0"
      },
      "execution_count": null,
      "outputs": [
        {
          "output_type": "execute_result",
          "data": {
            "text/plain": [
              "<tf.Tensor: shape=(10,), dtype=float32, numpy=\n",
              "array([12.358063, 10.551684, 10.      , 10.703008, 12.791067, 16.23081 ,\n",
              "       20.925255, 26.061996, 31.198736, 36.335464], dtype=float32)>"
            ]
          },
          "metadata": {},
          "execution_count": 38
        }
      ]
    },
    {
      "cell_type": "code",
      "source": [
        "tf.constant(y_pred)"
      ],
      "metadata": {
        "colab": {
          "base_uri": "https://localhost:8080/"
        },
        "id": "v6CpJX1IPiwj",
        "outputId": "655c31b9-5a2c-44fe-8879-638ea707ae54"
      },
      "execution_count": null,
      "outputs": [
        {
          "output_type": "execute_result",
          "data": {
            "text/plain": [
              "<tf.Tensor: shape=(10, 1), dtype=float32, numpy=\n",
              "array([[ 78.10484 ],\n",
              "       [ 83.24158 ],\n",
              "       [ 88.37832 ],\n",
              "       [ 93.51504 ],\n",
              "       [ 98.65178 ],\n",
              "       [103.78851 ],\n",
              "       [108.925255],\n",
              "       [114.062   ],\n",
              "       [119.19874 ],\n",
              "       [124.335464]], dtype=float32)>"
            ]
          },
          "metadata": {},
          "execution_count": 39
        }
      ]
    },
    {
      "cell_type": "code",
      "source": [
        "y_test"
      ],
      "metadata": {
        "colab": {
          "base_uri": "https://localhost:8080/"
        },
        "id": "JusnDI5oPlKR",
        "outputId": "d0d66a2e-2fe7-4c92-f4d0-974cfa7ebb58"
      },
      "execution_count": null,
      "outputs": [
        {
          "output_type": "execute_result",
          "data": {
            "text/plain": [
              "<tf.Tensor: shape=(10,), dtype=int32, numpy=array([ 70,  74,  78,  82,  86,  90,  94,  98, 102, 106], dtype=int32)>"
            ]
          },
          "metadata": {},
          "execution_count": 40
        }
      ]
    },
    {
      "cell_type": "code",
      "source": [
        "tf.squeeze(y_pred)"
      ],
      "metadata": {
        "colab": {
          "base_uri": "https://localhost:8080/"
        },
        "id": "WqQJPNiwyi56",
        "outputId": "2eb9e8a7-eb83-4c2c-e032-ec7e3126f536"
      },
      "execution_count": null,
      "outputs": [
        {
          "output_type": "execute_result",
          "data": {
            "text/plain": [
              "<tf.Tensor: shape=(10,), dtype=float32, numpy=\n",
              "array([ 78.10484 ,  83.24158 ,  88.37832 ,  93.51504 ,  98.65178 ,\n",
              "       103.78851 , 108.925255, 114.062   , 119.19874 , 124.335464],\n",
              "      dtype=float32)>"
            ]
          },
          "metadata": {},
          "execution_count": 41
        }
      ]
    },
    {
      "cell_type": "code",
      "source": [
        "# Calculate the mean absolute error\n",
        "\n",
        "mae = tf.metrics.mean_absolute_error(y_true=y_test, y_pred=tf.squeeze(y_pred))\n",
        "\n",
        "mae"
      ],
      "metadata": {
        "colab": {
          "base_uri": "https://localhost:8080/"
        },
        "id": "uUT4LV7uypPs",
        "outputId": "4361e1b2-439f-4c75-dbd0-b4974626a3d4"
      },
      "execution_count": null,
      "outputs": [
        {
          "output_type": "execute_result",
          "data": {
            "text/plain": [
              "<tf.Tensor: shape=(), dtype=float32, numpy=13.220152>"
            ]
          },
          "metadata": {},
          "execution_count": 42
        }
      ]
    },
    {
      "cell_type": "code",
      "source": [
        "# Calculate the mean square error\n",
        "\n",
        "mse = tf.metrics.mean_squared_error(y_true=y_test, y_pred=tf.squeeze(y_pred))\n",
        "mse"
      ],
      "metadata": {
        "id": "QpelDvIC2Nvg",
        "colab": {
          "base_uri": "https://localhost:8080/"
        },
        "outputId": "1c939178-cff4-4386-c2c3-cd6eb5a6bb3a"
      },
      "execution_count": null,
      "outputs": [
        {
          "output_type": "execute_result",
          "data": {
            "text/plain": [
              "<tf.Tensor: shape=(), dtype=float32, numpy=185.43283>"
            ]
          },
          "metadata": {},
          "execution_count": 43
        }
      ]
    },
    {
      "cell_type": "code",
      "source": [
        "# Make fucntion to reuse MAE and MSE\n",
        "def mae(y_true, y_pred):\n",
        "  return tf.metrics.mean_absolute_error(y_true=y_true,\n",
        "                                      y_pred=tf.squeeze(y_pred))\n",
        "\n",
        "def mse(y_true,y_pred):\n",
        "  return tf.metrics.mean_squared_error(y_true=y_true,\n",
        "                                       y_pred=tf.squeeze(y_pred))"
      ],
      "metadata": {
        "id": "oCsUvdVW2yQL"
      },
      "execution_count": null,
      "outputs": []
    },
    {
      "cell_type": "markdown",
      "source": [
        "### Running experiments to improve our model\n",
        "\n",
        "1. Get more data - get more example for model\n",
        "\n",
        "2. Make your model larger (using a more complex model) - matbe more layers or hidden units\n",
        "\n",
        "3. Train for longer - give model more chance to find patterns in data\n",
        "\n",
        "Let's do 3 modelling experiment L\n",
        "\n",
        "1. 'model_1' - same as the origin, 1 layer, trained for 100 epochs\n",
        "\n",
        "2. 'model_2' - 2 layers, trained for 100 epochs\n",
        "\n",
        "3. 'model_3' - 2 layers, rained for 500 epochs"
      ],
      "metadata": {
        "id": "U73RgqjhN1Gb"
      }
    },
    {
      "cell_type": "code",
      "source": [
        "x_train, y_train"
      ],
      "metadata": {
        "colab": {
          "base_uri": "https://localhost:8080/"
        },
        "id": "ZRYFc01nOexa",
        "outputId": "d8714b2d-5fff-4ea7-e157-efa6c5ec60f8"
      },
      "execution_count": null,
      "outputs": [
        {
          "output_type": "execute_result",
          "data": {
            "text/plain": [
              "(<tf.Tensor: shape=(40,), dtype=int32, numpy=\n",
              " array([-100,  -96,  -92,  -88,  -84,  -80,  -76,  -72,  -68,  -64,  -60,\n",
              "         -56,  -52,  -48,  -44,  -40,  -36,  -32,  -28,  -24,  -20,  -16,\n",
              "         -12,   -8,   -4,    0,    4,    8,   12,   16,   20,   24,   28,\n",
              "          32,   36,   40,   44,   48,   52,   56], dtype=int32)>,\n",
              " <tf.Tensor: shape=(40,), dtype=int32, numpy=\n",
              " array([-90, -86, -82, -78, -74, -70, -66, -62, -58, -54, -50, -46, -42,\n",
              "        -38, -34, -30, -26, -22, -18, -14, -10,  -6,  -2,   2,   6,  10,\n",
              "         14,  18,  22,  26,  30,  34,  38,  42,  46,  50,  54,  58,  62,\n",
              "         66], dtype=int32)>)"
            ]
          },
          "metadata": {},
          "execution_count": 45
        }
      ]
    },
    {
      "cell_type": "code",
      "source": [
        "# First build model_1\n",
        "\n",
        "# Ser random seed\n",
        "tf.random.set_seed(42)\n",
        "\n",
        "# 1. Create the model\n",
        "model_1 = tf.keras.Sequential([\n",
        "    tf.keras.layers.Dense(1)\n",
        "])\n",
        "\n",
        "# 2. Compile the model\n",
        "model_1.compile(loss=tf.keras.losses.mae,\n",
        "                optimizer=tf.keras.optimizers.SGD(),\n",
        "                metrics=[\"mae\"],\n",
        "                run_eagerly=True)\n",
        "\n",
        "# 3. FIt the model\n",
        "model_1.fit(tf.expand_dims(x_train, axis=-1), y_train, epochs=100, verbose=0)"
      ],
      "metadata": {
        "colab": {
          "base_uri": "https://localhost:8080/"
        },
        "id": "Bm7GqWOpN77n",
        "outputId": "e47f1f89-2ab1-4b9d-c31c-7e738246080a"
      },
      "execution_count": null,
      "outputs": [
        {
          "output_type": "execute_result",
          "data": {
            "text/plain": [
              "<keras.src.callbacks.History at 0x7f0e91dfead0>"
            ]
          },
          "metadata": {},
          "execution_count": 46
        }
      ]
    },
    {
      "cell_type": "code",
      "source": [
        "model_1.predict(tf.reshape(x_test, shape=(-1,1)))"
      ],
      "metadata": {
        "colab": {
          "base_uri": "https://localhost:8080/"
        },
        "id": "vvrhWzRwTr-8",
        "outputId": "e380d85b-9edf-4c59-9553-3a1bf5bcb89c"
      },
      "execution_count": null,
      "outputs": [
        {
          "output_type": "stream",
          "name": "stdout",
          "text": [
            "1/1 [==============================] - 0s 24ms/step\n"
          ]
        },
        {
          "output_type": "execute_result",
          "data": {
            "text/plain": [
              "array([[44.387447],\n",
              "       [47.261734],\n",
              "       [50.13602 ],\n",
              "       [53.01031 ],\n",
              "       [55.884598],\n",
              "       [58.75889 ],\n",
              "       [61.633175],\n",
              "       [64.50746 ],\n",
              "       [67.38175 ],\n",
              "       [70.256035]], dtype=float32)"
            ]
          },
          "metadata": {},
          "execution_count": 47
        }
      ]
    },
    {
      "cell_type": "code",
      "source": [
        "# Make a plot predictions for model_1\n",
        "\n",
        "# x_test = tf.reshape(x_test, shape=(-1,1))\n",
        "\n",
        "y_preds_1 = model_1.predict(tf.reshape(x_test, shape=(-1,1)))\n",
        "plot_predictions(predictions=y_preds_1)"
      ],
      "metadata": {
        "colab": {
          "base_uri": "https://localhost:8080/",
          "height": 502
        },
        "id": "-VTt2FvCQK0C",
        "outputId": "c4d53e39-6d1d-4ee6-b26d-b8cdf43a61c4"
      },
      "execution_count": null,
      "outputs": [
        {
          "output_type": "stream",
          "name": "stdout",
          "text": [
            "1/1 [==============================] - 0s 24ms/step\n"
          ]
        },
        {
          "output_type": "display_data",
          "data": {
            "text/plain": [
              "<Figure size 1000x700 with 1 Axes>"
            ],
            "image/png": "[encoded data removed]"
          },
          "metadata": {}
        }
      ]
    },
    {
      "cell_type": "code",
      "source": [
        "# Calculate model_1 evaluation metrics\n",
        "\n",
        "mae_1 = mae(y_test, y_preds_1)\n",
        "mse_1 = mse(y_test, y_preds_1)\n",
        "\n",
        "mae_1, mse_1"
      ],
      "metadata": {
        "colab": {
          "base_uri": "https://localhost:8080/"
        },
        "id": "3u6Og5EaqZEp",
        "outputId": "04d04596-fafa-4809-b70c-63da89ce9483"
      },
      "execution_count": null,
      "outputs": [
        {
          "output_type": "execute_result",
          "data": {
            "text/plain": [
              "(<tf.Tensor: shape=(), dtype=float32, numpy=30.678259>,\n",
              " <tf.Tensor: shape=(), dtype=float32, numpy=951.61017>)"
            ]
          },
          "metadata": {},
          "execution_count": 49
        }
      ]
    },
    {
      "cell_type": "markdown",
      "source": [
        "**Build model_2**\n",
        "\n",
        "* 2 dense layers, trained for 100 epochs"
      ],
      "metadata": {
        "id": "3IG91oWhsu7n"
      }
    },
    {
      "cell_type": "code",
      "source": [
        "# Build model_2\n",
        "\n",
        "# Set the random seed\n",
        "tf.random.set_seed(42)\n",
        "\n",
        "# 1. Create model\n",
        "model_2 = tf.keras.Sequential([\n",
        "    tf.keras.layers.Dense(70, name=\"input_layer\"),\n",
        "    tf.keras.layers.Dense(1, name=\"Output_layer\")\n",
        "])\n",
        "\n",
        "# 2. Compile the model\n",
        "\n",
        "model_2.compile(loss = mae,\n",
        "              optimizer = tf.keras.optimizers.SGD(),\n",
        "              metrics = [\"mae\"])"
      ],
      "metadata": {
        "id": "F9HBFkiUvO0E"
      },
      "execution_count": null,
      "outputs": []
    },
    {
      "cell_type": "code",
      "source": [
        "# 3. Make Train the model\n",
        "model_2.fit(tf.expand_dims(x_train, axis=-1), y_train, epochs=54)"
      ],
      "metadata": {
        "colab": {
          "base_uri": "https://localhost:8080/"
        },
        "id": "xCwKGotyzj8h",
        "outputId": "a1744318-62e8-422b-c73e-2be959f305f2"
      },
      "execution_count": null,
      "outputs": [
        {
          "output_type": "stream",
          "name": "stdout",
          "text": [
            "Epoch 1/54\n",
            "2/2 [==============================] - 0s 12ms/step - loss: 41.1394 - mae: 29.5247\n",
            "Epoch 2/54\n",
            "2/2 [==============================] - 0s 8ms/step - loss: 41.0029 - mae: 37.9279\n",
            "Epoch 3/54\n",
            "2/2 [==============================] - 0s 8ms/step - loss: 51.9756 - mae: 17.6653\n",
            "Epoch 4/54\n",
            "2/2 [==============================] - 0s 8ms/step - loss: 40.6782 - mae: 35.9142\n",
            "Epoch 5/54\n",
            "2/2 [==============================] - 0s 7ms/step - loss: 40.6600 - mae: 38.0736\n",
            "Epoch 6/54\n",
            "2/2 [==============================] - 0s 10ms/step - loss: 40.9269 - mae: 32.1914\n",
            "Epoch 7/54\n",
            "2/2 [==============================] - 0s 8ms/step - loss: 40.7398 - mae: 38.1782\n",
            "Epoch 8/54\n",
            "2/2 [==============================] - 0s 8ms/step - loss: 40.8213 - mae: 32.5614\n",
            "Epoch 9/54\n",
            "2/2 [==============================] - 0s 11ms/step - loss: 46.4310 - mae: 15.3560\n",
            "Epoch 10/54\n",
            "2/2 [==============================] - 0s 7ms/step - loss: 40.5483 - mae: 36.0631\n",
            "Epoch 11/54\n",
            "2/2 [==============================] - 0s 7ms/step - loss: 40.9390 - mae: 39.0638\n",
            "Epoch 12/54\n",
            "2/2 [==============================] - 0s 13ms/step - loss: 51.4088 - mae: 15.3116\n",
            "Epoch 13/54\n",
            "2/2 [==============================] - 0s 10ms/step - loss: 40.7239 - mae: 36.1534\n",
            "Epoch 14/54\n",
            "2/2 [==============================] - 0s 8ms/step - loss: 41.1024 - mae: 30.3526\n",
            "Epoch 15/54\n",
            "2/2 [==============================] - 0s 10ms/step - loss: 40.8538 - mae: 38.4130\n",
            "Epoch 16/54\n",
            "2/2 [==============================] - 0s 8ms/step - loss: 40.8497 - mae: 40.8104\n",
            "Epoch 17/54\n",
            "2/2 [==============================] - 0s 8ms/step - loss: 40.3260 - mae: 34.1175\n",
            "Epoch 18/54\n",
            "2/2 [==============================] - 0s 9ms/step - loss: 40.8341 - mae: 33.4521\n",
            "Epoch 19/54\n",
            "2/2 [==============================] - 0s 8ms/step - loss: 43.1107 - mae: 18.6557\n",
            "Epoch 20/54\n",
            "2/2 [==============================] - 0s 9ms/step - loss: 40.9645 - mae: 32.1126\n",
            "Epoch 21/54\n",
            "2/2 [==============================] - 0s 8ms/step - loss: 40.7351 - mae: 35.5009\n",
            "Epoch 22/54\n",
            "2/2 [==============================] - 0s 8ms/step - loss: 40.6423 - mae: 37.5057\n",
            "Epoch 23/54\n",
            "2/2 [==============================] - 0s 8ms/step - loss: 40.6485 - mae: 38.1654\n",
            "Epoch 24/54\n",
            "2/2 [==============================] - 0s 8ms/step - loss: 40.9888 - mae: 30.6838\n",
            "Epoch 25/54\n",
            "2/2 [==============================] - 0s 8ms/step - loss: 40.8979 - mae: 41.4988\n",
            "Epoch 26/54\n",
            "2/2 [==============================] - 0s 8ms/step - loss: 41.8774 - mae: 26.4360\n",
            "Epoch 27/54\n",
            "2/2 [==============================] - 0s 8ms/step - loss: 40.7364 - mae: 34.7688\n",
            "Epoch 28/54\n",
            "2/2 [==============================] - 0s 8ms/step - loss: 42.1159 - mae: 24.4973\n",
            "Epoch 29/54\n",
            "2/2 [==============================] - 0s 8ms/step - loss: 40.6793 - mae: 33.8248\n",
            "Epoch 30/54\n",
            "2/2 [==============================] - 0s 8ms/step - loss: 45.0792 - mae: 14.3018\n",
            "Epoch 31/54\n",
            "2/2 [==============================] - 0s 8ms/step - loss: 57.2338 - mae: 15.6423\n",
            "Epoch 32/54\n",
            "2/2 [==============================] - 0s 8ms/step - loss: 41.2307 - mae: 26.7035\n",
            "Epoch 33/54\n",
            "2/2 [==============================] - 0s 11ms/step - loss: 41.1847 - mae: 30.1057\n",
            "Epoch 34/54\n",
            "2/2 [==============================] - 0s 8ms/step - loss: 40.8281 - mae: 32.4433\n",
            "Epoch 35/54\n",
            "2/2 [==============================] - 0s 7ms/step - loss: 40.6159 - mae: 35.0697\n",
            "Epoch 36/54\n",
            "2/2 [==============================] - 0s 8ms/step - loss: 41.6257 - mae: 24.0448\n",
            "Epoch 37/54\n",
            "2/2 [==============================] - 0s 9ms/step - loss: 40.8585 - mae: 32.3963\n",
            "Epoch 38/54\n",
            "2/2 [==============================] - 0s 8ms/step - loss: 40.6582 - mae: 34.4979\n",
            "Epoch 39/54\n",
            "2/2 [==============================] - 0s 10ms/step - loss: 40.7279 - mae: 34.0992\n",
            "Epoch 40/54\n",
            "2/2 [==============================] - 0s 8ms/step - loss: 40.8641 - mae: 32.8584\n",
            "Epoch 41/54\n",
            "2/2 [==============================] - 0s 8ms/step - loss: 40.3745 - mae: 33.7815\n",
            "Epoch 42/54\n",
            "2/2 [==============================] - 0s 8ms/step - loss: 40.7190 - mae: 34.7175\n",
            "Epoch 43/54\n",
            "2/2 [==============================] - 0s 8ms/step - loss: 40.5557 - mae: 36.7913\n",
            "Epoch 44/54\n",
            "2/2 [==============================] - 0s 8ms/step - loss: 41.0219 - mae: 30.0494\n",
            "Epoch 45/54\n",
            "2/2 [==============================] - 0s 8ms/step - loss: 41.0579 - mae: 30.8700\n",
            "Epoch 46/54\n",
            "2/2 [==============================] - 0s 8ms/step - loss: 40.6988 - mae: 33.3585\n",
            "Epoch 47/54\n",
            "2/2 [==============================] - 0s 8ms/step - loss: 40.7124 - mae: 34.6398\n",
            "Epoch 48/54\n",
            "2/2 [==============================] - 0s 8ms/step - loss: 40.6683 - mae: 37.2925\n",
            "Epoch 49/54\n",
            "2/2 [==============================] - 0s 9ms/step - loss: 40.6598 - mae: 37.0734\n",
            "Epoch 50/54\n",
            "2/2 [==============================] - 0s 9ms/step - loss: 40.5710 - mae: 35.1579\n",
            "Epoch 51/54\n",
            "2/2 [==============================] - 0s 8ms/step - loss: 40.6733 - mae: 37.2355\n",
            "Epoch 52/54\n",
            "2/2 [==============================] - 0s 8ms/step - loss: 40.5874 - mae: 35.2520\n",
            "Epoch 53/54\n",
            "2/2 [==============================] - 0s 8ms/step - loss: 40.3983 - mae: 27.9667\n",
            "Epoch 54/54\n",
            "2/2 [==============================] - 0s 8ms/step - loss: 43.6036 - mae: 18.0566\n"
          ]
        },
        {
          "output_type": "execute_result",
          "data": {
            "text/plain": [
              "<keras.src.callbacks.History at 0x7f0e91d38070>"
            ]
          },
          "metadata": {},
          "execution_count": 51
        }
      ]
    },
    {
      "cell_type": "code",
      "source": [
        "x_test"
      ],
      "metadata": {
        "colab": {
          "base_uri": "https://localhost:8080/"
        },
        "id": "F4p4SDzi3EAL",
        "outputId": "f1220e42-798b-4769-e7ee-bb8756456b12"
      },
      "execution_count": null,
      "outputs": [
        {
          "output_type": "execute_result",
          "data": {
            "text/plain": [
              "<tf.Tensor: shape=(10,), dtype=int32, numpy=array([60, 64, 68, 72, 76, 80, 84, 88, 92, 96], dtype=int32)>"
            ]
          },
          "metadata": {},
          "execution_count": 52
        }
      ]
    },
    {
      "cell_type": "code",
      "source": [
        "y_test"
      ],
      "metadata": {
        "colab": {
          "base_uri": "https://localhost:8080/"
        },
        "id": "pg4Syr7r3HES",
        "outputId": "fcb6ea71-7895-4954-b8a6-ba74abd21323"
      },
      "execution_count": null,
      "outputs": [
        {
          "output_type": "execute_result",
          "data": {
            "text/plain": [
              "<tf.Tensor: shape=(10,), dtype=int32, numpy=array([ 70,  74,  78,  82,  86,  90,  94,  98, 102, 106], dtype=int32)>"
            ]
          },
          "metadata": {},
          "execution_count": 53
        }
      ]
    },
    {
      "cell_type": "code",
      "source": [
        "model_2.predict(x_test)"
      ],
      "metadata": {
        "colab": {
          "base_uri": "https://localhost:8080/"
        },
        "id": "bvtvcNO03KN2",
        "outputId": "7de57601-3fcf-4778-8188-923a305837a5"
      },
      "execution_count": null,
      "outputs": [
        {
          "output_type": "stream",
          "name": "stderr",
          "text": [
            "WARNING:tensorflow:6 out of the last 6 calls to <function Model.make_predict_function.<locals>.predict_function at 0x7f0e91da43a0> triggered tf.function retracing. Tracing is expensive and the excessive number of tracings could be due to (1) creating @tf.function repeatedly in a loop, (2) passing tensors with different shapes, (3) passing Python objects instead of tensors. For (1), please define your @tf.function outside of the loop. For (2), @tf.function has reduce_retracing=True option that can avoid unnecessary retracing. For (3), please refer to https://www.tensorflow.org/guide/function#controlling_retracing and https://www.tensorflow.org/api_docs/python/tf/function for  more details.\n"
          ]
        },
        {
          "output_type": "stream",
          "name": "stdout",
          "text": [
            "1/1 [==============================] - 0s 57ms/step\n"
          ]
        },
        {
          "output_type": "execute_result",
          "data": {
            "text/plain": [
              "array([[32.364727],\n",
              "       [34.53637 ],\n",
              "       [36.70801 ],\n",
              "       [38.879646],\n",
              "       [41.051296],\n",
              "       [43.22293 ],\n",
              "       [45.394573],\n",
              "       [47.566216],\n",
              "       [49.737854],\n",
              "       [51.909492]], dtype=float32)"
            ]
          },
          "metadata": {},
          "execution_count": 54
        }
      ]
    },
    {
      "cell_type": "code",
      "source": [
        "# Make and plot predictions of model_2\n",
        "\n",
        "y_preds_2 = model_2.predict(x_test)\n",
        "plot_predictions(predictions=y_preds_2)"
      ],
      "metadata": {
        "colab": {
          "base_uri": "https://localhost:8080/",
          "height": 502
        },
        "id": "qYq7itP01-ur",
        "outputId": "079d7528-2d70-4b49-cdd0-d12d3a02604b"
      },
      "execution_count": null,
      "outputs": [
        {
          "output_type": "stream",
          "name": "stdout",
          "text": [
            "1/1 [==============================] - 0s 21ms/step\n"
          ]
        },
        {
          "output_type": "display_data",
          "data": {
            "text/plain": [
              "<Figure size 1000x700 with 1 Axes>"
            ],
            "image/png": "[encoded data removed]"
          },
          "metadata": {}
        }
      ]
    },
    {
      "cell_type": "code",
      "source": [
        "model_2.summary()"
      ],
      "metadata": {
        "colab": {
          "base_uri": "https://localhost:8080/"
        },
        "id": "nrRhl6kf1o_c",
        "outputId": "05ffff53-f994-4d36-a64b-aa8254ff1cc2"
      },
      "execution_count": null,
      "outputs": [
        {
          "output_type": "stream",
          "name": "stdout",
          "text": [
            "Model: \"sequential_6\"\n",
            "_________________________________________________________________\n",
            " Layer (type)                Output Shape              Param #   \n",
            "=================================================================\n",
            " input_layer (Dense)         (None, 70)                140       \n",
            "                                                                 \n",
            " Output_layer (Dense)        (None, 1)                 71        \n",
            "                                                                 \n",
            "=================================================================\n",
            "Total params: 211 (844.00 Byte)\n",
            "Trainable params: 211 (844.00 Byte)\n",
            "Non-trainable params: 0 (0.00 Byte)\n",
            "_________________________________________________________________\n"
          ]
        }
      ]
    },
    {
      "cell_type": "code",
      "source": [
        "# Calculate model_2 evaluation metrics\n",
        "\n",
        "mae_2 = mae(y_test, y_preds_2)\n",
        "mse_2 = mse(y_test, y_preds_2)\n",
        "\n",
        "mae_2, mse_2"
      ],
      "metadata": {
        "colab": {
          "base_uri": "https://localhost:8080/"
        },
        "id": "C54KgBhY6klJ",
        "outputId": "8f4006f7-4e05-4be9-b5d3-efec7b504b61"
      },
      "execution_count": null,
      "outputs": [
        {
          "output_type": "execute_result",
          "data": {
            "text/plain": [
              "(<tf.Tensor: shape=(), dtype=float32, numpy=45.86289>,\n",
              " <tf.Tensor: shape=(), dtype=float32, numpy=2130.9834>)"
            ]
          },
          "metadata": {},
          "execution_count": 57
        }
      ]
    },
    {
      "cell_type": "markdown",
      "source": [
        "**Build model_3**\n",
        "\n",
        "* 2 layers, trained for 500 epochs"
      ],
      "metadata": {
        "id": "UgQW0Vw_Eigq"
      }
    },
    {
      "cell_type": "code",
      "source": [
        "# Build mdoel 3\n",
        "\n",
        "# set random seed\n",
        "tf.random.set_seed(42)\n",
        "\n",
        "# Build the model\n",
        "model_3 = tf.keras.Sequential([\n",
        "    tf.keras.layers.Dense(10),\n",
        "    tf.keras.layers.Dense(1)\n",
        "])\n",
        "\n",
        "# Compile the model\n",
        "model_3.compile(loss=mae,\n",
        "                optimizer = tf.keras.optimizers.SGD(),\n",
        "                metrics=[\"mae\"])"
      ],
      "metadata": {
        "id": "ZDmoG_8fEdZp"
      },
      "execution_count": null,
      "outputs": []
    },
    {
      "cell_type": "code",
      "source": [
        "# 3. FIt the model\n",
        "model_3.fit(tf.expand_dims(x_train, axis=-1), y_train, epochs=500)\n"
      ],
      "metadata": {
        "colab": {
          "base_uri": "https://localhost:8080/"
        },
        "id": "Xw5ZEQwjFTQF",
        "outputId": "df6c7c97-200d-4df4-f3e6-fd62dc060b01"
      },
      "execution_count": null,
      "outputs": [
        {
          "output_type": "stream",
          "name": "stdout",
          "text": [
            "Epoch 1/500\n",
            "2/2 [==============================] - 0s 12ms/step - loss: 50.4605 - mae: 63.0474\n",
            "Epoch 2/500\n",
            "2/2 [==============================] - 0s 8ms/step - loss: 40.7156 - mae: 42.6735\n",
            "Epoch 3/500\n",
            "2/2 [==============================] - 0s 7ms/step - loss: 56.6781 - mae: 21.9709\n",
            "Epoch 4/500\n",
            "2/2 [==============================] - 0s 8ms/step - loss: 40.7590 - mae: 37.8056\n",
            "Epoch 5/500\n",
            "2/2 [==============================] - 0s 7ms/step - loss: 41.3069 - mae: 41.2256\n",
            "Epoch 6/500\n",
            "2/2 [==============================] - 0s 8ms/step - loss: 40.7831 - mae: 34.0462\n",
            "Epoch 7/500\n",
            "2/2 [==============================] - 0s 7ms/step - loss: 40.7402 - mae: 38.6963\n",
            "Epoch 8/500\n",
            "2/2 [==============================] - 0s 10ms/step - loss: 40.9573 - mae: 32.1347\n",
            "Epoch 9/500\n",
            "2/2 [==============================] - 0s 7ms/step - loss: 47.2935 - mae: 15.3669\n",
            "Epoch 10/500\n",
            "2/2 [==============================] - 0s 8ms/step - loss: 40.9188 - mae: 38.3120\n",
            "Epoch 11/500\n",
            "2/2 [==============================] - 0s 8ms/step - loss: 40.9658 - mae: 39.0917\n",
            "Epoch 12/500\n",
            "2/2 [==============================] - 0s 8ms/step - loss: 52.9214 - mae: 16.5930\n",
            "Epoch 13/500\n",
            "2/2 [==============================] - 0s 9ms/step - loss: 40.7037 - mae: 36.7876\n",
            "Epoch 14/500\n",
            "2/2 [==============================] - 0s 8ms/step - loss: 41.1374 - mae: 30.1156\n",
            "Epoch 15/500\n",
            "2/2 [==============================] - 0s 8ms/step - loss: 40.8926 - mae: 38.8362\n",
            "Epoch 16/500\n",
            "2/2 [==============================] - 0s 7ms/step - loss: 40.8767 - mae: 41.2156\n",
            "Epoch 17/500\n",
            "2/2 [==============================] - 0s 8ms/step - loss: 40.3248 - mae: 34.0961\n",
            "Epoch 18/500\n",
            "2/2 [==============================] - 0s 8ms/step - loss: 40.8887 - mae: 33.4251\n",
            "Epoch 19/500\n",
            "2/2 [==============================] - 0s 6ms/step - loss: 43.3709 - mae: 18.0500\n",
            "Epoch 20/500\n",
            "2/2 [==============================] - 0s 7ms/step - loss: 41.1621 - mae: 30.6091\n",
            "Epoch 21/500\n",
            "2/2 [==============================] - 0s 10ms/step - loss: 40.7383 - mae: 35.2862\n",
            "Epoch 22/500\n",
            "2/2 [==============================] - 0s 11ms/step - loss: 40.6450 - mae: 37.4887\n",
            "Epoch 23/500\n",
            "2/2 [==============================] - 0s 9ms/step - loss: 40.6475 - mae: 38.1866\n",
            "Epoch 24/500\n",
            "2/2 [==============================] - 0s 8ms/step - loss: 41.0174 - mae: 30.3314\n",
            "Epoch 25/500\n",
            "2/2 [==============================] - 0s 8ms/step - loss: 40.8756 - mae: 41.7893\n",
            "Epoch 26/500\n",
            "2/2 [==============================] - 0s 8ms/step - loss: 42.1564 - mae: 25.4450\n",
            "Epoch 27/500\n",
            "2/2 [==============================] - 0s 9ms/step - loss: 40.7394 - mae: 35.0080\n",
            "Epoch 28/500\n",
            "2/2 [==============================] - 0s 11ms/step - loss: 42.2279 - mae: 24.1142\n",
            "Epoch 29/500\n",
            "2/2 [==============================] - 0s 9ms/step - loss: 40.7478 - mae: 34.1228\n",
            "Epoch 30/500\n",
            "2/2 [==============================] - 0s 8ms/step - loss: 45.5967 - mae: 14.2423\n",
            "Epoch 31/500\n",
            "2/2 [==============================] - 0s 10ms/step - loss: 57.6580 - mae: 16.0378\n",
            "Epoch 32/500\n",
            "2/2 [==============================] - 0s 9ms/step - loss: 41.1923 - mae: 26.9551\n",
            "Epoch 33/500\n",
            "2/2 [==============================] - 0s 10ms/step - loss: 41.1537 - mae: 30.3691\n",
            "Epoch 34/500\n",
            "2/2 [==============================] - 0s 11ms/step - loss: 40.8102 - mae: 32.7313\n",
            "Epoch 35/500\n",
            "2/2 [==============================] - 0s 9ms/step - loss: 40.6246 - mae: 35.3725\n",
            "Epoch 36/500\n",
            "2/2 [==============================] - 0s 8ms/step - loss: 41.6734 - mae: 23.8009\n",
            "Epoch 37/500\n",
            "2/2 [==============================] - 0s 9ms/step - loss: 40.8438 - mae: 32.5891\n",
            "Epoch 38/500\n",
            "2/2 [==============================] - 0s 9ms/step - loss: 40.6517 - mae: 34.7362\n",
            "Epoch 39/500\n",
            "2/2 [==============================] - 0s 9ms/step - loss: 40.7196 - mae: 34.2710\n",
            "Epoch 40/500\n",
            "2/2 [==============================] - 0s 9ms/step - loss: 40.8633 - mae: 32.8712\n",
            "Epoch 41/500\n",
            "2/2 [==============================] - 0s 8ms/step - loss: 40.3762 - mae: 33.8232\n",
            "Epoch 42/500\n",
            "2/2 [==============================] - 0s 11ms/step - loss: 40.7167 - mae: 34.7640\n",
            "Epoch 43/500\n",
            "2/2 [==============================] - 0s 9ms/step - loss: 40.5671 - mae: 36.9286\n",
            "Epoch 44/500\n",
            "2/2 [==============================] - 0s 8ms/step - loss: 41.0467 - mae: 29.9257\n",
            "Epoch 45/500\n",
            "2/2 [==============================] - 0s 10ms/step - loss: 41.0521 - mae: 30.9220\n",
            "Epoch 46/500\n",
            "2/2 [==============================] - 0s 8ms/step - loss: 40.6947 - mae: 33.4918\n",
            "Epoch 47/500\n",
            "2/2 [==============================] - 0s 9ms/step - loss: 40.7114 - mae: 34.7708\n",
            "Epoch 48/500\n",
            "2/2 [==============================] - 0s 8ms/step - loss: 40.6706 - mae: 37.4365\n",
            "Epoch 49/500\n",
            "2/2 [==============================] - 0s 8ms/step - loss: 40.6610 - mae: 37.1690\n",
            "Epoch 50/500\n",
            "2/2 [==============================] - 0s 8ms/step - loss: 40.5710 - mae: 35.1684\n",
            "Epoch 51/500\n",
            "2/2 [==============================] - 0s 10ms/step - loss: 40.6739 - mae: 37.3241\n",
            "Epoch 52/500\n",
            "2/2 [==============================] - 0s 8ms/step - loss: 40.5965 - mae: 35.2192\n",
            "Epoch 53/500\n",
            "2/2 [==============================] - 0s 11ms/step - loss: 40.4549 - mae: 27.6493\n",
            "Epoch 54/500\n",
            "2/2 [==============================] - 0s 13ms/step - loss: 43.8145 - mae: 17.5753\n",
            "Epoch 55/500\n",
            "2/2 [==============================] - 0s 8ms/step - loss: 43.5569 - mae: 19.1890\n",
            "Epoch 56/500\n",
            "2/2 [==============================] - 0s 8ms/step - loss: 40.8885 - mae: 29.4035\n",
            "Epoch 57/500\n",
            "2/2 [==============================] - 0s 11ms/step - loss: 40.4318 - mae: 33.5672\n",
            "Epoch 58/500\n",
            "2/2 [==============================] - 0s 14ms/step - loss: 40.6548 - mae: 35.4536\n",
            "Epoch 59/500\n",
            "2/2 [==============================] - 0s 8ms/step - loss: 40.7646 - mae: 35.5583\n",
            "Epoch 60/500\n",
            "2/2 [==============================] - 0s 8ms/step - loss: 40.7055 - mae: 35.2224\n",
            "Epoch 61/500\n",
            "2/2 [==============================] - 0s 8ms/step - loss: 40.6987 - mae: 35.6736\n",
            "Epoch 62/500\n",
            "2/2 [==============================] - 0s 8ms/step - loss: 40.7305 - mae: 35.9514\n",
            "Epoch 63/500\n",
            "2/2 [==============================] - 0s 8ms/step - loss: 40.6401 - mae: 35.3052\n",
            "Epoch 64/500\n",
            "2/2 [==============================] - 0s 8ms/step - loss: 40.7791 - mae: 33.5846\n",
            "Epoch 65/500\n",
            "2/2 [==============================] - 0s 8ms/step - loss: 40.6884 - mae: 34.8068\n",
            "Epoch 66/500\n",
            "2/2 [==============================] - 0s 8ms/step - loss: 40.8103 - mae: 33.3520\n",
            "Epoch 67/500\n",
            "2/2 [==============================] - 0s 8ms/step - loss: 40.7311 - mae: 34.3991\n",
            "Epoch 68/500\n",
            "2/2 [==============================] - 0s 13ms/step - loss: 40.6685 - mae: 34.9174\n",
            "Epoch 69/500\n",
            "2/2 [==============================] - 0s 10ms/step - loss: 40.7284 - mae: 34.9280\n",
            "Epoch 70/500\n",
            "2/2 [==============================] - 0s 11ms/step - loss: 40.6350 - mae: 35.2560\n",
            "Epoch 71/500\n",
            "2/2 [==============================] - 0s 11ms/step - loss: 40.6634 - mae: 37.1466\n",
            "Epoch 72/500\n",
            "2/2 [==============================] - 0s 9ms/step - loss: 40.7005 - mae: 36.9061\n",
            "Epoch 73/500\n",
            "2/2 [==============================] - 0s 9ms/step - loss: 40.6966 - mae: 37.9877\n",
            "Epoch 74/500\n",
            "2/2 [==============================] - 0s 10ms/step - loss: 40.7003 - mae: 37.6144\n",
            "Epoch 75/500\n",
            "2/2 [==============================] - 0s 10ms/step - loss: 40.7199 - mae: 37.9466\n",
            "Epoch 76/500\n",
            "2/2 [==============================] - 0s 11ms/step - loss: 40.6589 - mae: 36.9852\n",
            "Epoch 77/500\n",
            "2/2 [==============================] - 0s 9ms/step - loss: 40.7171 - mae: 38.0381\n",
            "Epoch 78/500\n",
            "2/2 [==============================] - 0s 9ms/step - loss: 40.4480 - mae: 37.7084\n",
            "Epoch 79/500\n",
            "2/2 [==============================] - 0s 9ms/step - loss: 40.5352 - mae: 32.7062\n",
            "Epoch 80/500\n",
            "2/2 [==============================] - 0s 9ms/step - loss: 41.2272 - mae: 28.8284\n",
            "Epoch 81/500\n",
            "2/2 [==============================] - 0s 8ms/step - loss: 39.9415 - mae: 32.3699\n",
            "Epoch 82/500\n",
            "2/2 [==============================] - 0s 10ms/step - loss: 40.6515 - mae: 32.9188\n",
            "Epoch 83/500\n",
            "2/2 [==============================] - 0s 8ms/step - loss: 40.6605 - mae: 35.2977\n",
            "Epoch 84/500\n",
            "2/2 [==============================] - 0s 8ms/step - loss: 40.6867 - mae: 35.5322\n",
            "Epoch 85/500\n",
            "2/2 [==============================] - 0s 8ms/step - loss: 40.7109 - mae: 35.9571\n",
            "Epoch 86/500\n",
            "2/2 [==============================] - 0s 8ms/step - loss: 40.7225 - mae: 36.4304\n",
            "Epoch 87/500\n",
            "2/2 [==============================] - 0s 8ms/step - loss: 40.6888 - mae: 36.4454\n",
            "Epoch 88/500\n",
            "2/2 [==============================] - 0s 9ms/step - loss: 40.7126 - mae: 36.3670\n",
            "Epoch 89/500\n",
            "2/2 [==============================] - 0s 8ms/step - loss: 40.7102 - mae: 37.4298\n",
            "Epoch 90/500\n",
            "2/2 [==============================] - 0s 8ms/step - loss: 40.6941 - mae: 37.5722\n",
            "Epoch 91/500\n",
            "2/2 [==============================] - 0s 7ms/step - loss: 40.6732 - mae: 37.4266\n",
            "Epoch 92/500\n",
            "2/2 [==============================] - 0s 12ms/step - loss: 40.6914 - mae: 37.2466\n",
            "Epoch 93/500\n",
            "2/2 [==============================] - 0s 8ms/step - loss: 40.6436 - mae: 37.1924\n",
            "Epoch 94/500\n",
            "2/2 [==============================] - 0s 9ms/step - loss: 40.6946 - mae: 36.1800\n",
            "Epoch 95/500\n",
            "2/2 [==============================] - 0s 8ms/step - loss: 40.7485 - mae: 35.4190\n",
            "Epoch 96/500\n",
            "2/2 [==============================] - 0s 8ms/step - loss: 40.5859 - mae: 34.8881\n",
            "Epoch 97/500\n",
            "2/2 [==============================] - 0s 7ms/step - loss: 40.7042 - mae: 36.0608\n",
            "Epoch 98/500\n",
            "2/2 [==============================] - 0s 7ms/step - loss: 40.6648 - mae: 35.9578\n",
            "Epoch 99/500\n",
            "2/2 [==============================] - 0s 7ms/step - loss: 40.6722 - mae: 36.1347\n",
            "Epoch 100/500\n",
            "2/2 [==============================] - 0s 9ms/step - loss: 40.7232 - mae: 35.0332\n",
            "Epoch 101/500\n",
            "2/2 [==============================] - 0s 8ms/step - loss: 40.6946 - mae: 35.7617\n",
            "Epoch 102/500\n",
            "2/2 [==============================] - 0s 10ms/step - loss: 40.4981 - mae: 36.4119\n",
            "Epoch 103/500\n",
            "2/2 [==============================] - 0s 10ms/step - loss: 40.5884 - mae: 36.8548\n",
            "Epoch 104/500\n",
            "2/2 [==============================] - 0s 10ms/step - loss: 40.7051 - mae: 35.2036\n",
            "Epoch 105/500\n",
            "2/2 [==============================] - 0s 11ms/step - loss: 40.6514 - mae: 36.0292\n",
            "Epoch 106/500\n",
            "2/2 [==============================] - 0s 10ms/step - loss: 40.6402 - mae: 36.1733\n",
            "Epoch 107/500\n",
            "2/2 [==============================] - 0s 8ms/step - loss: 40.6998 - mae: 34.7797\n",
            "Epoch 108/500\n",
            "2/2 [==============================] - 0s 8ms/step - loss: 40.7346 - mae: 34.2194\n",
            "Epoch 109/500\n",
            "2/2 [==============================] - 0s 11ms/step - loss: 40.6529 - mae: 33.2257\n",
            "Epoch 110/500\n",
            "2/2 [==============================] - 0s 9ms/step - loss: 40.6979 - mae: 34.6196\n",
            "Epoch 111/500\n",
            "2/2 [==============================] - 0s 10ms/step - loss: 40.6225 - mae: 34.9680\n",
            "Epoch 112/500\n",
            "2/2 [==============================] - 0s 8ms/step - loss: 40.4514 - mae: 35.2651\n",
            "Epoch 113/500\n",
            "2/2 [==============================] - 0s 10ms/step - loss: 40.5030 - mae: 32.2771\n",
            "Epoch 114/500\n",
            "2/2 [==============================] - 0s 10ms/step - loss: 41.0681 - mae: 30.8538\n",
            "Epoch 115/500\n",
            "2/2 [==============================] - 0s 9ms/step - loss: 40.9335 - mae: 31.6225\n",
            "Epoch 116/500\n",
            "2/2 [==============================] - 0s 9ms/step - loss: 40.6567 - mae: 33.0190\n",
            "Epoch 117/500\n",
            "2/2 [==============================] - 0s 10ms/step - loss: 40.5782 - mae: 34.5463\n",
            "Epoch 118/500\n",
            "2/2 [==============================] - 0s 9ms/step - loss: 40.5583 - mae: 35.1235\n",
            "Epoch 119/500\n",
            "2/2 [==============================] - 0s 7ms/step - loss: 40.0834 - mae: 35.9943\n",
            "Epoch 120/500\n",
            "2/2 [==============================] - 0s 8ms/step - loss: 41.3440 - mae: 27.8516\n",
            "Epoch 121/500\n",
            "2/2 [==============================] - 0s 7ms/step - loss: 39.9582 - mae: 32.0019\n",
            "Epoch 122/500\n",
            "2/2 [==============================] - 0s 10ms/step - loss: 41.2870 - mae: 24.7705\n",
            "Epoch 123/500\n",
            "2/2 [==============================] - 0s 8ms/step - loss: 42.0009 - mae: 24.3838\n",
            "Epoch 124/500\n",
            "2/2 [==============================] - 0s 10ms/step - loss: 41.3671 - mae: 27.7975\n",
            "Epoch 125/500\n",
            "2/2 [==============================] - 0s 8ms/step - loss: 40.6462 - mae: 30.5742\n",
            "Epoch 126/500\n",
            "2/2 [==============================] - 0s 8ms/step - loss: 40.8360 - mae: 32.6587\n",
            "Epoch 127/500\n",
            "2/2 [==============================] - 0s 8ms/step - loss: 40.2838 - mae: 33.4744\n",
            "Epoch 128/500\n",
            "2/2 [==============================] - 0s 9ms/step - loss: 41.3295 - mae: 28.4971\n",
            "Epoch 129/500\n",
            "2/2 [==============================] - 0s 9ms/step - loss: 40.4074 - mae: 30.2981\n",
            "Epoch 130/500\n",
            "2/2 [==============================] - 0s 9ms/step - loss: 41.2465 - mae: 28.8753\n",
            "Epoch 131/500\n",
            "2/2 [==============================] - 0s 9ms/step - loss: 40.8168 - mae: 30.8507\n",
            "Epoch 132/500\n",
            "2/2 [==============================] - 0s 8ms/step - loss: 40.8518 - mae: 31.5405\n",
            "Epoch 133/500\n",
            "2/2 [==============================] - 0s 10ms/step - loss: 40.5284 - mae: 32.9265\n",
            "Epoch 134/500\n",
            "2/2 [==============================] - 0s 8ms/step - loss: 41.0509 - mae: 30.1168\n",
            "Epoch 135/500\n",
            "2/2 [==============================] - 0s 8ms/step - loss: 40.7467 - mae: 32.7449\n",
            "Epoch 136/500\n",
            "2/2 [==============================] - 0s 8ms/step - loss: 40.7185 - mae: 33.3075\n",
            "Epoch 137/500\n",
            "2/2 [==============================] - 0s 8ms/step - loss: 40.0175 - mae: 32.6001\n",
            "Epoch 138/500\n",
            "2/2 [==============================] - 0s 7ms/step - loss: 40.4352 - mae: 32.1853\n",
            "Epoch 139/500\n",
            "2/2 [==============================] - 0s 8ms/step - loss: 40.8340 - mae: 32.5452\n",
            "Epoch 140/500\n",
            "2/2 [==============================] - 0s 9ms/step - loss: 40.7379 - mae: 33.4335\n",
            "Epoch 141/500\n",
            "2/2 [==============================] - 0s 9ms/step - loss: 40.1682 - mae: 33.9361\n",
            "Epoch 142/500\n",
            "2/2 [==============================] - 0s 8ms/step - loss: 40.6939 - mae: 30.3399\n",
            "Epoch 143/500\n",
            "2/2 [==============================] - 0s 9ms/step - loss: 40.5185 - mae: 28.1111\n",
            "Epoch 144/500\n",
            "2/2 [==============================] - 0s 13ms/step - loss: 40.6130 - mae: 30.9633\n",
            "Epoch 145/500\n",
            "2/2 [==============================] - 0s 9ms/step - loss: 41.4561 - mae: 26.5253\n",
            "Epoch 146/500\n",
            "2/2 [==============================] - 0s 7ms/step - loss: 39.9572 - mae: 31.6553\n",
            "Epoch 147/500\n",
            "2/2 [==============================] - 0s 8ms/step - loss: 40.2765 - mae: 32.5153\n",
            "Epoch 148/500\n",
            "2/2 [==============================] - 0s 8ms/step - loss: 40.6213 - mae: 30.5764\n",
            "Epoch 149/500\n",
            "2/2 [==============================] - 0s 8ms/step - loss: 40.7239 - mae: 32.4191\n",
            "Epoch 150/500\n",
            "2/2 [==============================] - 0s 10ms/step - loss: 40.0014 - mae: 33.5567\n",
            "Epoch 151/500\n",
            "2/2 [==============================] - 0s 16ms/step - loss: 41.0268 - mae: 30.6626\n",
            "Epoch 152/500\n",
            "2/2 [==============================] - 0s 8ms/step - loss: 40.8161 - mae: 32.3458\n",
            "Epoch 153/500\n",
            "2/2 [==============================] - 0s 9ms/step - loss: 40.3781 - mae: 31.9459\n",
            "Epoch 154/500\n",
            "2/2 [==============================] - 0s 9ms/step - loss: 40.8283 - mae: 32.4402\n",
            "Epoch 155/500\n",
            "2/2 [==============================] - 0s 11ms/step - loss: 40.6881 - mae: 33.6149\n",
            "Epoch 156/500\n",
            "2/2 [==============================] - 0s 9ms/step - loss: 40.4359 - mae: 33.0629\n",
            "Epoch 157/500\n",
            "2/2 [==============================] - 0s 9ms/step - loss: 40.7128 - mae: 31.4973\n",
            "Epoch 158/500\n",
            "2/2 [==============================] - 0s 14ms/step - loss: 40.4234 - mae: 32.3395\n",
            "Epoch 159/500\n",
            "2/2 [==============================] - 0s 10ms/step - loss: 40.6239 - mae: 34.1095\n",
            "Epoch 160/500\n",
            "2/2 [==============================] - 0s 8ms/step - loss: 40.7297 - mae: 33.9168\n",
            "Epoch 161/500\n",
            "2/2 [==============================] - 0s 10ms/step - loss: 40.6824 - mae: 33.8727\n",
            "Epoch 162/500\n",
            "2/2 [==============================] - 0s 11ms/step - loss: 40.6206 - mae: 34.4398\n",
            "Epoch 163/500\n",
            "2/2 [==============================] - 0s 15ms/step - loss: 40.7284 - mae: 33.5109\n",
            "Epoch 164/500\n",
            "2/2 [==============================] - 0s 13ms/step - loss: 40.4773 - mae: 34.1543\n",
            "Epoch 165/500\n",
            "2/2 [==============================] - 0s 12ms/step - loss: 40.6459 - mae: 35.3738\n",
            "Epoch 166/500\n",
            "2/2 [==============================] - 0s 8ms/step - loss: 40.5846 - mae: 35.4915\n",
            "Epoch 167/500\n",
            "2/2 [==============================] - 0s 9ms/step - loss: 40.7184 - mae: 34.5557\n",
            "Epoch 168/500\n",
            "2/2 [==============================] - 0s 8ms/step - loss: 40.6891 - mae: 35.3029\n",
            "Epoch 169/500\n",
            "2/2 [==============================] - 0s 10ms/step - loss: 40.6664 - mae: 35.5953\n",
            "Epoch 170/500\n",
            "2/2 [==============================] - 0s 8ms/step - loss: 40.6573 - mae: 35.5713\n",
            "Epoch 171/500\n",
            "2/2 [==============================] - 0s 12ms/step - loss: 40.6374 - mae: 35.5189\n",
            "Epoch 172/500\n",
            "2/2 [==============================] - 0s 8ms/step - loss: 40.5040 - mae: 35.6622\n",
            "Epoch 173/500\n",
            "2/2 [==============================] - 0s 12ms/step - loss: 40.7025 - mae: 33.5686\n",
            "Epoch 174/500\n",
            "2/2 [==============================] - 0s 12ms/step - loss: 40.5926 - mae: 35.0136\n",
            "Epoch 175/500\n",
            "2/2 [==============================] - 0s 8ms/step - loss: 40.5456 - mae: 34.6081\n",
            "Epoch 176/500\n",
            "2/2 [==============================] - 0s 7ms/step - loss: 40.7981 - mae: 33.4474\n",
            "Epoch 177/500\n",
            "2/2 [==============================] - 0s 7ms/step - loss: 40.7611 - mae: 33.3903\n",
            "Epoch 178/500\n",
            "2/2 [==============================] - 0s 10ms/step - loss: 40.6148 - mae: 33.8609\n",
            "Epoch 179/500\n",
            "2/2 [==============================] - 0s 9ms/step - loss: 40.0436 - mae: 34.5597\n",
            "Epoch 180/500\n",
            "2/2 [==============================] - 0s 7ms/step - loss: 40.6729 - mae: 34.0028\n",
            "Epoch 181/500\n",
            "2/2 [==============================] - 0s 8ms/step - loss: 40.7273 - mae: 33.3683\n",
            "Epoch 182/500\n",
            "2/2 [==============================] - 0s 12ms/step - loss: 40.5144 - mae: 32.6704\n",
            "Epoch 183/500\n",
            "2/2 [==============================] - 0s 8ms/step - loss: 39.8293 - mae: 33.7389\n",
            "Epoch 184/500\n",
            "2/2 [==============================] - 0s 9ms/step - loss: 41.4247 - mae: 27.0597\n",
            "Epoch 185/500\n",
            "2/2 [==============================] - 0s 11ms/step - loss: 40.7864 - mae: 31.3754\n",
            "Epoch 186/500\n",
            "2/2 [==============================] - 0s 14ms/step - loss: 40.4773 - mae: 30.9999\n",
            "Epoch 187/500\n",
            "2/2 [==============================] - 0s 7ms/step - loss: 40.6851 - mae: 33.0607\n",
            "Epoch 188/500\n",
            "2/2 [==============================] - 0s 9ms/step - loss: 40.2965 - mae: 32.0993\n",
            "Epoch 189/500\n",
            "2/2 [==============================] - 0s 8ms/step - loss: 40.7947 - mae: 32.8384\n",
            "Epoch 190/500\n",
            "2/2 [==============================] - 0s 11ms/step - loss: 40.7040 - mae: 34.6315\n",
            "Epoch 191/500\n",
            "2/2 [==============================] - 0s 10ms/step - loss: 40.5955 - mae: 34.8700\n",
            "Epoch 192/500\n",
            "2/2 [==============================] - 0s 17ms/step - loss: 40.3076 - mae: 35.4429\n",
            "Epoch 193/500\n",
            "2/2 [==============================] - 0s 11ms/step - loss: 40.5674 - mae: 33.0757\n",
            "Epoch 194/500\n",
            "2/2 [==============================] - 0s 9ms/step - loss: 40.6483 - mae: 34.2563\n",
            "Epoch 195/500\n",
            "2/2 [==============================] - 0s 8ms/step - loss: 40.5980 - mae: 34.9704\n",
            "Epoch 196/500\n",
            "2/2 [==============================] - 0s 9ms/step - loss: 39.4210 - mae: 33.6916\n",
            "Epoch 197/500\n",
            "2/2 [==============================] - 0s 10ms/step - loss: 40.9357 - mae: 31.7744\n",
            "Epoch 198/500\n",
            "2/2 [==============================] - 0s 11ms/step - loss: 40.4874 - mae: 32.0867\n",
            "Epoch 199/500\n",
            "2/2 [==============================] - 0s 8ms/step - loss: 40.9644 - mae: 30.6316\n",
            "Epoch 200/500\n",
            "2/2 [==============================] - 0s 9ms/step - loss: 40.8860 - mae: 31.7945\n",
            "Epoch 201/500\n",
            "2/2 [==============================] - 0s 10ms/step - loss: 40.1637 - mae: 33.2660\n",
            "Epoch 202/500\n",
            "2/2 [==============================] - 0s 8ms/step - loss: 41.1017 - mae: 29.4874\n",
            "Epoch 203/500\n",
            "2/2 [==============================] - 0s 10ms/step - loss: 40.7600 - mae: 32.4142\n",
            "Epoch 204/500\n",
            "2/2 [==============================] - 0s 8ms/step - loss: 40.8045 - mae: 32.9017\n",
            "Epoch 205/500\n",
            "2/2 [==============================] - 0s 8ms/step - loss: 40.6273 - mae: 33.8878\n",
            "Epoch 206/500\n",
            "2/2 [==============================] - 0s 9ms/step - loss: 40.7030 - mae: 34.7920\n",
            "Epoch 207/500\n",
            "2/2 [==============================] - 0s 9ms/step - loss: 40.4805 - mae: 35.4092\n",
            "Epoch 208/500\n",
            "2/2 [==============================] - 0s 8ms/step - loss: 40.6695 - mae: 33.4496\n",
            "Epoch 209/500\n",
            "2/2 [==============================] - 0s 8ms/step - loss: 40.0544 - mae: 33.8596\n",
            "Epoch 210/500\n",
            "2/2 [==============================] - 0s 8ms/step - loss: 41.0624 - mae: 30.4304\n",
            "Epoch 211/500\n",
            "2/2 [==============================] - 0s 10ms/step - loss: 40.8616 - mae: 31.0173\n",
            "Epoch 212/500\n",
            "2/2 [==============================] - 0s 10ms/step - loss: 40.6513 - mae: 32.9466\n",
            "Epoch 213/500\n",
            "2/2 [==============================] - 0s 8ms/step - loss: 40.6831 - mae: 34.4393\n",
            "Epoch 214/500\n",
            "2/2 [==============================] - 0s 9ms/step - loss: 40.6628 - mae: 34.5095\n",
            "Epoch 215/500\n",
            "2/2 [==============================] - 0s 10ms/step - loss: 40.6805 - mae: 33.8976\n",
            "Epoch 216/500\n",
            "2/2 [==============================] - 0s 12ms/step - loss: 40.5574 - mae: 34.8595\n",
            "Epoch 217/500\n",
            "2/2 [==============================] - 0s 11ms/step - loss: 39.8824 - mae: 34.0186\n",
            "Epoch 218/500\n",
            "2/2 [==============================] - 0s 10ms/step - loss: 40.3921 - mae: 33.4368\n",
            "Epoch 219/500\n",
            "2/2 [==============================] - 0s 11ms/step - loss: 40.7184 - mae: 34.3618\n",
            "Epoch 220/500\n",
            "2/2 [==============================] - 0s 8ms/step - loss: 39.9581 - mae: 34.2229\n",
            "Epoch 221/500\n",
            "2/2 [==============================] - 0s 12ms/step - loss: 40.9926 - mae: 30.2380\n",
            "Epoch 222/500\n",
            "2/2 [==============================] - 0s 12ms/step - loss: 40.7689 - mae: 29.9867\n",
            "Epoch 223/500\n",
            "2/2 [==============================] - 0s 10ms/step - loss: 40.0491 - mae: 32.0186\n",
            "Epoch 224/500\n",
            "2/2 [==============================] - 0s 9ms/step - loss: 40.7431 - mae: 32.6043\n",
            "Epoch 225/500\n",
            "2/2 [==============================] - 0s 11ms/step - loss: 40.6621 - mae: 32.2548\n",
            "Epoch 226/500\n",
            "2/2 [==============================] - 0s 10ms/step - loss: 40.8501 - mae: 32.1546\n",
            "Epoch 227/500\n",
            "2/2 [==============================] - 0s 8ms/step - loss: 40.7645 - mae: 31.8161\n",
            "Epoch 228/500\n",
            "2/2 [==============================] - 0s 9ms/step - loss: 40.4181 - mae: 33.6544\n",
            "Epoch 229/500\n",
            "2/2 [==============================] - 0s 10ms/step - loss: 40.6860 - mae: 34.1198\n",
            "Epoch 230/500\n",
            "2/2 [==============================] - 0s 8ms/step - loss: 40.3978 - mae: 34.9603\n",
            "Epoch 231/500\n",
            "2/2 [==============================] - 0s 8ms/step - loss: 40.8036 - mae: 32.6762\n",
            "Epoch 232/500\n",
            "2/2 [==============================] - 0s 9ms/step - loss: 40.7360 - mae: 33.6205\n",
            "Epoch 233/500\n",
            "2/2 [==============================] - 0s 10ms/step - loss: 40.7197 - mae: 34.1622\n",
            "Epoch 234/500\n",
            "2/2 [==============================] - 0s 10ms/step - loss: 40.4238 - mae: 34.6766\n",
            "Epoch 235/500\n",
            "2/2 [==============================] - 0s 8ms/step - loss: 40.6622 - mae: 33.9616\n",
            "Epoch 236/500\n",
            "2/2 [==============================] - 0s 10ms/step - loss: 40.6240 - mae: 34.2230\n",
            "Epoch 237/500\n",
            "2/2 [==============================] - 0s 8ms/step - loss: 40.4032 - mae: 34.9116\n",
            "Epoch 238/500\n",
            "2/2 [==============================] - 0s 8ms/step - loss: 40.6687 - mae: 34.8711\n",
            "Epoch 239/500\n",
            "2/2 [==============================] - 0s 7ms/step - loss: 40.6613 - mae: 35.3611\n",
            "Epoch 240/500\n",
            "2/2 [==============================] - 0s 8ms/step - loss: 40.6180 - mae: 35.4529\n",
            "Epoch 241/500\n",
            "2/2 [==============================] - 0s 13ms/step - loss: 40.6433 - mae: 35.4979\n",
            "Epoch 242/500\n",
            "2/2 [==============================] - 0s 10ms/step - loss: 40.6130 - mae: 36.2197\n",
            "Epoch 243/500\n",
            "2/2 [==============================] - 0s 8ms/step - loss: 40.4300 - mae: 35.9394\n",
            "Epoch 244/500\n",
            "2/2 [==============================] - 0s 8ms/step - loss: 40.6514 - mae: 36.1930\n",
            "Epoch 245/500\n",
            "2/2 [==============================] - 0s 8ms/step - loss: 40.6369 - mae: 35.6812\n",
            "Epoch 246/500\n",
            "2/2 [==============================] - 0s 10ms/step - loss: 40.5956 - mae: 36.3518\n",
            "Epoch 247/500\n",
            "2/2 [==============================] - 0s 10ms/step - loss: 40.6424 - mae: 35.1782\n",
            "Epoch 248/500\n",
            "2/2 [==============================] - 0s 10ms/step - loss: 40.6627 - mae: 35.3583\n",
            "Epoch 249/500\n",
            "2/2 [==============================] - 0s 9ms/step - loss: 40.5496 - mae: 35.4911\n",
            "Epoch 250/500\n",
            "2/2 [==============================] - 0s 10ms/step - loss: 40.6100 - mae: 33.9635\n",
            "Epoch 251/500\n",
            "2/2 [==============================] - 0s 10ms/step - loss: 40.2276 - mae: 34.3652\n",
            "Epoch 252/500\n",
            "2/2 [==============================] - 0s 8ms/step - loss: 40.9460 - mae: 31.1871\n",
            "Epoch 253/500\n",
            "2/2 [==============================] - 0s 8ms/step - loss: 40.8177 - mae: 31.1619\n",
            "Epoch 254/500\n",
            "2/2 [==============================] - 0s 8ms/step - loss: 40.5340 - mae: 33.1808\n",
            "Epoch 255/500\n",
            "2/2 [==============================] - 0s 8ms/step - loss: 40.9170 - mae: 31.0526\n",
            "Epoch 256/500\n",
            "2/2 [==============================] - 0s 8ms/step - loss: 40.5075 - mae: 31.9884\n",
            "Epoch 257/500\n",
            "2/2 [==============================] - 0s 7ms/step - loss: 40.7382 - mae: 32.5886\n",
            "Epoch 258/500\n",
            "2/2 [==============================] - 0s 8ms/step - loss: 40.6405 - mae: 33.7859\n",
            "Epoch 259/500\n",
            "2/2 [==============================] - 0s 8ms/step - loss: 40.4064 - mae: 33.5695\n",
            "Epoch 260/500\n",
            "2/2 [==============================] - 0s 12ms/step - loss: 40.8582 - mae: 31.1522\n",
            "Epoch 261/500\n",
            "2/2 [==============================] - 0s 8ms/step - loss: 40.1158 - mae: 30.4235\n",
            "Epoch 262/500\n",
            "2/2 [==============================] - 0s 10ms/step - loss: 40.1672 - mae: 30.8432\n",
            "Epoch 263/500\n",
            "2/2 [==============================] - 0s 8ms/step - loss: 40.8888 - mae: 31.5976\n",
            "Epoch 264/500\n",
            "2/2 [==============================] - 0s 10ms/step - loss: 39.9891 - mae: 32.2881\n",
            "Epoch 265/500\n",
            "2/2 [==============================] - 0s 14ms/step - loss: 40.4210 - mae: 32.5247\n",
            "Epoch 266/500\n",
            "2/2 [==============================] - 0s 12ms/step - loss: 40.6214 - mae: 33.4599\n",
            "Epoch 267/500\n",
            "2/2 [==============================] - 0s 11ms/step - loss: 40.6455 - mae: 35.1122\n",
            "Epoch 268/500\n",
            "2/2 [==============================] - 0s 8ms/step - loss: 40.4171 - mae: 34.7215\n",
            "Epoch 269/500\n",
            "2/2 [==============================] - 0s 8ms/step - loss: 40.7926 - mae: 32.4972\n",
            "Epoch 270/500\n",
            "2/2 [==============================] - 0s 8ms/step - loss: 40.0019 - mae: 33.3347\n",
            "Epoch 271/500\n",
            "2/2 [==============================] - 0s 9ms/step - loss: 40.4198 - mae: 33.7386\n",
            "Epoch 272/500\n",
            "2/2 [==============================] - 0s 9ms/step - loss: 40.7300 - mae: 32.7461\n",
            "Epoch 273/500\n",
            "2/2 [==============================] - 0s 9ms/step - loss: 40.5817 - mae: 34.4349\n",
            "Epoch 274/500\n",
            "2/2 [==============================] - 0s 9ms/step - loss: 39.9002 - mae: 35.0266\n",
            "Epoch 275/500\n",
            "2/2 [==============================] - 0s 8ms/step - loss: 41.1293 - mae: 29.6679\n",
            "Epoch 276/500\n",
            "2/2 [==============================] - 0s 11ms/step - loss: 40.9464 - mae: 30.9977\n",
            "Epoch 277/500\n",
            "2/2 [==============================] - 0s 10ms/step - loss: 40.2288 - mae: 32.6264\n",
            "Epoch 278/500\n",
            "2/2 [==============================] - 0s 11ms/step - loss: 40.7955 - mae: 33.0304\n",
            "Epoch 279/500\n",
            "2/2 [==============================] - 0s 11ms/step - loss: 40.6677 - mae: 32.8624\n",
            "Epoch 280/500\n",
            "2/2 [==============================] - 0s 11ms/step - loss: 40.8557 - mae: 32.0528\n",
            "Epoch 281/500\n",
            "2/2 [==============================] - 0s 8ms/step - loss: 40.7102 - mae: 33.1171\n",
            "Epoch 282/500\n",
            "2/2 [==============================] - 0s 8ms/step - loss: 40.6965 - mae: 33.3548\n",
            "Epoch 283/500\n",
            "2/2 [==============================] - 0s 8ms/step - loss: 40.5538 - mae: 34.7814\n",
            "Epoch 284/500\n",
            "2/2 [==============================] - 0s 9ms/step - loss: 40.6057 - mae: 34.3148\n",
            "Epoch 285/500\n",
            "2/2 [==============================] - 0s 9ms/step - loss: 40.5249 - mae: 34.2758\n",
            "Epoch 286/500\n",
            "2/2 [==============================] - 0s 9ms/step - loss: 40.4889 - mae: 33.0754\n",
            "Epoch 287/500\n",
            "2/2 [==============================] - 0s 8ms/step - loss: 40.8950 - mae: 31.4639\n",
            "Epoch 288/500\n",
            "2/2 [==============================] - 0s 8ms/step - loss: 40.6864 - mae: 32.6729\n",
            "Epoch 289/500\n",
            "2/2 [==============================] - 0s 8ms/step - loss: 40.7025 - mae: 33.9740\n",
            "Epoch 290/500\n",
            "2/2 [==============================] - 0s 17ms/step - loss: 40.6523 - mae: 34.8093\n",
            "Epoch 291/500\n",
            "2/2 [==============================] - 0s 12ms/step - loss: 40.5853 - mae: 34.9176\n",
            "Epoch 292/500\n",
            "2/2 [==============================] - 0s 11ms/step - loss: 40.3995 - mae: 35.9661\n",
            "Epoch 293/500\n",
            "2/2 [==============================] - 0s 11ms/step - loss: 40.4567 - mae: 33.7020\n",
            "Epoch 294/500\n",
            "2/2 [==============================] - 0s 10ms/step - loss: 40.8123 - mae: 32.6203\n",
            "Epoch 295/500\n",
            "2/2 [==============================] - 0s 8ms/step - loss: 40.7244 - mae: 33.5448\n",
            "Epoch 296/500\n",
            "2/2 [==============================] - 0s 8ms/step - loss: 40.5307 - mae: 33.5560\n",
            "Epoch 297/500\n",
            "2/2 [==============================] - 0s 10ms/step - loss: 40.6520 - mae: 34.2407\n",
            "Epoch 298/500\n",
            "2/2 [==============================] - 0s 10ms/step - loss: 40.6768 - mae: 33.7529\n",
            "Epoch 299/500\n",
            "2/2 [==============================] - 0s 9ms/step - loss: 40.4074 - mae: 34.3553\n",
            "Epoch 300/500\n",
            "2/2 [==============================] - 0s 9ms/step - loss: 40.4876 - mae: 32.3086\n",
            "Epoch 301/500\n",
            "2/2 [==============================] - 0s 11ms/step - loss: 40.5421 - mae: 29.7643\n",
            "Epoch 302/500\n",
            "2/2 [==============================] - 0s 11ms/step - loss: 40.8457 - mae: 31.6001\n",
            "Epoch 303/500\n",
            "2/2 [==============================] - 0s 11ms/step - loss: 40.9662 - mae: 30.9075\n",
            "Epoch 304/500\n",
            "2/2 [==============================] - 0s 10ms/step - loss: 39.9304 - mae: 31.4967\n",
            "Epoch 305/500\n",
            "2/2 [==============================] - 0s 10ms/step - loss: 40.8811 - mae: 31.3089\n",
            "Epoch 306/500\n",
            "2/2 [==============================] - 0s 10ms/step - loss: 40.7465 - mae: 32.2295\n",
            "Epoch 307/500\n",
            "2/2 [==============================] - 0s 8ms/step - loss: 40.6553 - mae: 33.6150\n",
            "Epoch 308/500\n",
            "2/2 [==============================] - 0s 12ms/step - loss: 40.7011 - mae: 33.9457\n",
            "Epoch 309/500\n",
            "2/2 [==============================] - 0s 8ms/step - loss: 40.6742 - mae: 34.5978\n",
            "Epoch 310/500\n",
            "2/2 [==============================] - 0s 12ms/step - loss: 40.5860 - mae: 35.0330\n",
            "Epoch 311/500\n",
            "2/2 [==============================] - 0s 11ms/step - loss: 40.1151 - mae: 35.7336\n",
            "Epoch 312/500\n",
            "2/2 [==============================] - 0s 8ms/step - loss: 40.8066 - mae: 31.7553\n",
            "Epoch 313/500\n",
            "2/2 [==============================] - 0s 11ms/step - loss: 39.7231 - mae: 31.1425\n",
            "Epoch 314/500\n",
            "2/2 [==============================] - 0s 12ms/step - loss: 40.8514 - mae: 31.4932\n",
            "Epoch 315/500\n",
            "2/2 [==============================] - 0s 9ms/step - loss: 40.7703 - mae: 32.4939\n",
            "Epoch 316/500\n",
            "2/2 [==============================] - 0s 11ms/step - loss: 40.0649 - mae: 34.2167\n",
            "Epoch 317/500\n",
            "2/2 [==============================] - 0s 9ms/step - loss: 40.8772 - mae: 29.9569\n",
            "Epoch 318/500\n",
            "2/2 [==============================] - 0s 10ms/step - loss: 40.9428 - mae: 31.8186\n",
            "Epoch 319/500\n",
            "2/2 [==============================] - 0s 9ms/step - loss: 40.8677 - mae: 31.8998\n",
            "Epoch 320/500\n",
            "2/2 [==============================] - 0s 9ms/step - loss: 40.7113 - mae: 33.5988\n",
            "Epoch 321/500\n",
            "2/2 [==============================] - 0s 8ms/step - loss: 40.2133 - mae: 34.8600\n",
            "Epoch 322/500\n",
            "2/2 [==============================] - 0s 9ms/step - loss: 40.6596 - mae: 34.9416\n",
            "Epoch 323/500\n",
            "2/2 [==============================] - 0s 8ms/step - loss: 40.6590 - mae: 35.2599\n",
            "Epoch 324/500\n",
            "2/2 [==============================] - 0s 10ms/step - loss: 40.5707 - mae: 35.4388\n",
            "Epoch 325/500\n",
            "2/2 [==============================] - 0s 11ms/step - loss: 40.6083 - mae: 34.9332\n",
            "Epoch 326/500\n",
            "2/2 [==============================] - 0s 8ms/step - loss: 40.6048 - mae: 35.0814\n",
            "Epoch 327/500\n",
            "2/2 [==============================] - 0s 9ms/step - loss: 40.3187 - mae: 35.1973\n",
            "Epoch 328/500\n",
            "2/2 [==============================] - 0s 7ms/step - loss: 40.5867 - mae: 35.4459\n",
            "Epoch 329/500\n",
            "2/2 [==============================] - 0s 9ms/step - loss: 40.5439 - mae: 35.8602\n",
            "Epoch 330/500\n",
            "2/2 [==============================] - 0s 8ms/step - loss: 40.5812 - mae: 36.1755\n",
            "Epoch 331/500\n",
            "2/2 [==============================] - 0s 9ms/step - loss: 40.3668 - mae: 35.5630\n",
            "Epoch 332/500\n",
            "2/2 [==============================] - 0s 9ms/step - loss: 40.6598 - mae: 33.9607\n",
            "Epoch 333/500\n",
            "2/2 [==============================] - 0s 10ms/step - loss: 40.6598 - mae: 34.2369\n",
            "Epoch 334/500\n",
            "2/2 [==============================] - 0s 10ms/step - loss: 40.4773 - mae: 34.6044\n",
            "Epoch 335/500\n",
            "2/2 [==============================] - 0s 8ms/step - loss: 40.0125 - mae: 35.1996\n",
            "Epoch 336/500\n",
            "2/2 [==============================] - 0s 11ms/step - loss: 40.8196 - mae: 31.9066\n",
            "Epoch 337/500\n",
            "2/2 [==============================] - 0s 8ms/step - loss: 40.3063 - mae: 33.0769\n",
            "Epoch 338/500\n",
            "2/2 [==============================] - 0s 9ms/step - loss: 40.4678 - mae: 33.1051\n",
            "Epoch 339/500\n",
            "2/2 [==============================] - 0s 10ms/step - loss: 40.4867 - mae: 33.5433\n",
            "Epoch 340/500\n",
            "2/2 [==============================] - 0s 9ms/step - loss: 40.7125 - mae: 33.9664\n",
            "Epoch 341/500\n",
            "2/2 [==============================] - 0s 10ms/step - loss: 40.4527 - mae: 34.6056\n",
            "Epoch 342/500\n",
            "2/2 [==============================] - 0s 8ms/step - loss: 40.1310 - mae: 35.3329\n",
            "Epoch 343/500\n",
            "2/2 [==============================] - 0s 11ms/step - loss: 40.1572 - mae: 34.8891\n",
            "Epoch 344/500\n",
            "2/2 [==============================] - 0s 10ms/step - loss: 39.6006 - mae: 35.2076\n",
            "Epoch 345/500\n",
            "2/2 [==============================] - 0s 13ms/step - loss: 41.3968 - mae: 27.5522\n",
            "Epoch 346/500\n",
            "2/2 [==============================] - 0s 10ms/step - loss: 40.9174 - mae: 30.4113\n",
            "Epoch 347/500\n",
            "2/2 [==============================] - 0s 9ms/step - loss: 40.9453 - mae: 30.6858\n",
            "Epoch 348/500\n",
            "2/2 [==============================] - 0s 9ms/step - loss: 40.6515 - mae: 32.9725\n",
            "Epoch 349/500\n",
            "2/2 [==============================] - 0s 11ms/step - loss: 40.6847 - mae: 34.3042\n",
            "Epoch 350/500\n",
            "2/2 [==============================] - 0s 8ms/step - loss: 39.7834 - mae: 34.5420\n",
            "Epoch 351/500\n",
            "2/2 [==============================] - 0s 10ms/step - loss: 40.8913 - mae: 29.6106\n",
            "Epoch 352/500\n",
            "2/2 [==============================] - 0s 10ms/step - loss: 40.9909 - mae: 30.4894\n",
            "Epoch 353/500\n",
            "2/2 [==============================] - 0s 9ms/step - loss: 40.7698 - mae: 32.2363\n",
            "Epoch 354/500\n",
            "2/2 [==============================] - 0s 8ms/step - loss: 40.6369 - mae: 33.5514\n",
            "Epoch 355/500\n",
            "2/2 [==============================] - 0s 9ms/step - loss: 40.5577 - mae: 34.4625\n",
            "Epoch 356/500\n",
            "2/2 [==============================] - 0s 8ms/step - loss: 40.3134 - mae: 35.1231\n",
            "Epoch 357/500\n",
            "2/2 [==============================] - 0s 8ms/step - loss: 40.2490 - mae: 32.4038\n",
            "Epoch 358/500\n",
            "2/2 [==============================] - 0s 9ms/step - loss: 40.9809 - mae: 30.6936\n",
            "Epoch 359/500\n",
            "2/2 [==============================] - 0s 8ms/step - loss: 40.4121 - mae: 32.2016\n",
            "Epoch 360/500\n",
            "2/2 [==============================] - 0s 11ms/step - loss: 40.7778 - mae: 30.8109\n",
            "Epoch 361/500\n",
            "2/2 [==============================] - 0s 8ms/step - loss: 40.6553 - mae: 32.9964\n",
            "Epoch 362/500\n",
            "2/2 [==============================] - 0s 10ms/step - loss: 40.6190 - mae: 33.0406\n",
            "Epoch 363/500\n",
            "2/2 [==============================] - 0s 10ms/step - loss: 40.3236 - mae: 32.3289\n",
            "Epoch 364/500\n",
            "2/2 [==============================] - 0s 10ms/step - loss: 40.9970 - mae: 29.0628\n",
            "Epoch 365/500\n",
            "2/2 [==============================] - 0s 8ms/step - loss: 40.4144 - mae: 31.6447\n",
            "Epoch 366/500\n",
            "2/2 [==============================] - 0s 8ms/step - loss: 40.0205 - mae: 33.3096\n",
            "Epoch 367/500\n",
            "2/2 [==============================] - 0s 8ms/step - loss: 41.0434 - mae: 29.7154\n",
            "Epoch 368/500\n",
            "2/2 [==============================] - 0s 8ms/step - loss: 40.7436 - mae: 30.9521\n",
            "Epoch 369/500\n",
            "2/2 [==============================] - 0s 10ms/step - loss: 40.7349 - mae: 33.3386\n",
            "Epoch 370/500\n",
            "2/2 [==============================] - 0s 10ms/step - loss: 40.6779 - mae: 33.8448\n",
            "Epoch 371/500\n",
            "2/2 [==============================] - 0s 8ms/step - loss: 40.5048 - mae: 34.1066\n",
            "Epoch 372/500\n",
            "2/2 [==============================] - 0s 8ms/step - loss: 40.5490 - mae: 35.0624\n",
            "Epoch 373/500\n",
            "2/2 [==============================] - 0s 8ms/step - loss: 40.6678 - mae: 34.3606\n",
            "Epoch 374/500\n",
            "2/2 [==============================] - 0s 8ms/step - loss: 40.5672 - mae: 34.6856\n",
            "Epoch 375/500\n",
            "2/2 [==============================] - 0s 8ms/step - loss: 40.5105 - mae: 35.3788\n",
            "Epoch 376/500\n",
            "2/2 [==============================] - 0s 8ms/step - loss: 40.2281 - mae: 35.7911\n",
            "Epoch 377/500\n",
            "2/2 [==============================] - 0s 8ms/step - loss: 40.4528 - mae: 35.7960\n",
            "Epoch 378/500\n",
            "2/2 [==============================] - 0s 7ms/step - loss: 40.5320 - mae: 35.3940\n",
            "Epoch 379/500\n",
            "2/2 [==============================] - 0s 8ms/step - loss: 40.5317 - mae: 34.8464\n",
            "Epoch 380/500\n",
            "2/2 [==============================] - 0s 8ms/step - loss: 40.6884 - mae: 33.8162\n",
            "Epoch 381/500\n",
            "2/2 [==============================] - 0s 8ms/step - loss: 40.5956 - mae: 35.4630\n",
            "Epoch 382/500\n",
            "2/2 [==============================] - 0s 8ms/step - loss: 40.5380 - mae: 35.5894\n",
            "Epoch 383/500\n",
            "2/2 [==============================] - 0s 10ms/step - loss: 40.4313 - mae: 35.1298\n",
            "Epoch 384/500\n",
            "2/2 [==============================] - 0s 9ms/step - loss: 40.1050 - mae: 35.1555\n",
            "Epoch 385/500\n",
            "2/2 [==============================] - 0s 8ms/step - loss: 40.6374 - mae: 34.9353\n",
            "Epoch 386/500\n",
            "2/2 [==============================] - 0s 8ms/step - loss: 40.6181 - mae: 35.0658\n",
            "Epoch 387/500\n",
            "2/2 [==============================] - 0s 11ms/step - loss: 40.6016 - mae: 35.8652\n",
            "Epoch 388/500\n",
            "2/2 [==============================] - 0s 12ms/step - loss: 40.6568 - mae: 35.6211\n",
            "Epoch 389/500\n",
            "2/2 [==============================] - 0s 8ms/step - loss: 40.3110 - mae: 35.4952\n",
            "Epoch 390/500\n",
            "2/2 [==============================] - 0s 8ms/step - loss: 40.8023 - mae: 32.3800\n",
            "Epoch 391/500\n",
            "2/2 [==============================] - 0s 9ms/step - loss: 40.7544 - mae: 33.2694\n",
            "Epoch 392/500\n",
            "2/2 [==============================] - 0s 9ms/step - loss: 40.4617 - mae: 34.5960\n",
            "Epoch 393/500\n",
            "2/2 [==============================] - 0s 8ms/step - loss: 40.6395 - mae: 34.8810\n",
            "Epoch 394/500\n",
            "2/2 [==============================] - 0s 8ms/step - loss: 40.4762 - mae: 35.5924\n",
            "Epoch 395/500\n",
            "2/2 [==============================] - 0s 9ms/step - loss: 40.6685 - mae: 34.2441\n",
            "Epoch 396/500\n",
            "2/2 [==============================] - 0s 10ms/step - loss: 40.4322 - mae: 34.7885\n",
            "Epoch 397/500\n",
            "2/2 [==============================] - 0s 11ms/step - loss: 40.5841 - mae: 35.0063\n",
            "Epoch 398/500\n",
            "2/2 [==============================] - 0s 11ms/step - loss: 40.6492 - mae: 34.4602\n",
            "Epoch 399/500\n",
            "2/2 [==============================] - 0s 11ms/step - loss: 40.4931 - mae: 35.1195\n",
            "Epoch 400/500\n",
            "2/2 [==============================] - 0s 12ms/step - loss: 40.7312 - mae: 33.4698\n",
            "Epoch 401/500\n",
            "2/2 [==============================] - 0s 11ms/step - loss: 39.9373 - mae: 34.2058\n",
            "Epoch 402/500\n",
            "2/2 [==============================] - 0s 8ms/step - loss: 40.4541 - mae: 29.2821\n",
            "Epoch 403/500\n",
            "2/2 [==============================] - 0s 7ms/step - loss: 40.1597 - mae: 31.6422\n",
            "Epoch 404/500\n",
            "2/2 [==============================] - 0s 9ms/step - loss: 41.3395 - mae: 27.6583\n",
            "Epoch 405/500\n",
            "2/2 [==============================] - 0s 8ms/step - loss: 40.7633 - mae: 31.5688\n",
            "Epoch 406/500\n",
            "2/2 [==============================] - 0s 7ms/step - loss: 40.7640 - mae: 32.7917\n",
            "Epoch 407/500\n",
            "2/2 [==============================] - 0s 7ms/step - loss: 40.6596 - mae: 33.9295\n",
            "Epoch 408/500\n",
            "2/2 [==============================] - 0s 8ms/step - loss: 40.1240 - mae: 34.6338\n",
            "Epoch 409/500\n",
            "2/2 [==============================] - 0s 8ms/step - loss: 40.8377 - mae: 30.3160\n",
            "Epoch 410/500\n",
            "2/2 [==============================] - 0s 8ms/step - loss: 40.8781 - mae: 31.2902\n",
            "Epoch 411/500\n",
            "2/2 [==============================] - 0s 8ms/step - loss: 40.6673 - mae: 32.3560\n",
            "Epoch 412/500\n",
            "2/2 [==============================] - 0s 7ms/step - loss: 40.7680 - mae: 32.1784\n",
            "Epoch 413/500\n",
            "2/2 [==============================] - 0s 7ms/step - loss: 40.8373 - mae: 32.4617\n",
            "Epoch 414/500\n",
            "2/2 [==============================] - 0s 8ms/step - loss: 40.6970 - mae: 32.3754\n",
            "Epoch 415/500\n",
            "2/2 [==============================] - 0s 8ms/step - loss: 40.6354 - mae: 33.9439\n",
            "Epoch 416/500\n",
            "2/2 [==============================] - 0s 7ms/step - loss: 40.6389 - mae: 35.0611\n",
            "Epoch 417/500\n",
            "2/2 [==============================] - 0s 10ms/step - loss: 40.6164 - mae: 35.4788\n",
            "Epoch 418/500\n",
            "2/2 [==============================] - 0s 7ms/step - loss: 40.6221 - mae: 35.2430\n",
            "Epoch 419/500\n",
            "2/2 [==============================] - 0s 7ms/step - loss: 40.3704 - mae: 35.4775\n",
            "Epoch 420/500\n",
            "2/2 [==============================] - 0s 7ms/step - loss: 40.6373 - mae: 33.2890\n",
            "Epoch 421/500\n",
            "2/2 [==============================] - 0s 8ms/step - loss: 40.5781 - mae: 34.6220\n",
            "Epoch 422/500\n",
            "2/2 [==============================] - 0s 12ms/step - loss: 40.4855 - mae: 35.0611\n",
            "Epoch 423/500\n",
            "2/2 [==============================] - 0s 10ms/step - loss: 40.6705 - mae: 34.4734\n",
            "Epoch 424/500\n",
            "2/2 [==============================] - 0s 9ms/step - loss: 40.5260 - mae: 35.0915\n",
            "Epoch 425/500\n",
            "2/2 [==============================] - 0s 7ms/step - loss: 40.6552 - mae: 34.7364\n",
            "Epoch 426/500\n",
            "2/2 [==============================] - 0s 7ms/step - loss: 40.3870 - mae: 34.4023\n",
            "Epoch 427/500\n",
            "2/2 [==============================] - 0s 8ms/step - loss: 40.6586 - mae: 34.5610\n",
            "Epoch 428/500\n",
            "2/2 [==============================] - 0s 11ms/step - loss: 40.4456 - mae: 34.9048\n",
            "Epoch 429/500\n",
            "2/2 [==============================] - 0s 8ms/step - loss: 40.2403 - mae: 34.0770\n",
            "Epoch 430/500\n",
            "2/2 [==============================] - 0s 14ms/step - loss: 40.8190 - mae: 30.2225\n",
            "Epoch 431/500\n",
            "2/2 [==============================] - 0s 12ms/step - loss: 40.6375 - mae: 31.4948\n",
            "Epoch 432/500\n",
            "2/2 [==============================] - 0s 12ms/step - loss: 40.7373 - mae: 31.8045\n",
            "Epoch 433/500\n",
            "2/2 [==============================] - 0s 8ms/step - loss: 40.1696 - mae: 33.2366\n",
            "Epoch 434/500\n",
            "2/2 [==============================] - 0s 14ms/step - loss: 41.0401 - mae: 30.2220\n",
            "Epoch 435/500\n",
            "2/2 [==============================] - 0s 11ms/step - loss: 39.8153 - mae: 32.4082\n",
            "Epoch 436/500\n",
            "2/2 [==============================] - 0s 11ms/step - loss: 41.3921 - mae: 26.2967\n",
            "Epoch 437/500\n",
            "2/2 [==============================] - 0s 11ms/step - loss: 41.1365 - mae: 28.0840\n",
            "Epoch 438/500\n",
            "2/2 [==============================] - 0s 9ms/step - loss: 39.7044 - mae: 32.5671\n",
            "Epoch 439/500\n",
            "2/2 [==============================] - 0s 9ms/step - loss: 41.1208 - mae: 25.9173\n",
            "Epoch 440/500\n",
            "2/2 [==============================] - 0s 9ms/step - loss: 41.0595 - mae: 26.2220\n",
            "Epoch 441/500\n",
            "2/2 [==============================] - 0s 8ms/step - loss: 41.1551 - mae: 27.1248\n",
            "Epoch 442/500\n",
            "2/2 [==============================] - 0s 8ms/step - loss: 41.1395 - mae: 28.9744\n",
            "Epoch 443/500\n",
            "2/2 [==============================] - 0s 8ms/step - loss: 40.8968 - mae: 31.0261\n",
            "Epoch 444/500\n",
            "2/2 [==============================] - 0s 11ms/step - loss: 40.2339 - mae: 31.9454\n",
            "Epoch 445/500\n",
            "2/2 [==============================] - 0s 9ms/step - loss: 40.7281 - mae: 33.5483\n",
            "Epoch 446/500\n",
            "2/2 [==============================] - 0s 8ms/step - loss: 40.3399 - mae: 33.1971\n",
            "Epoch 447/500\n",
            "2/2 [==============================] - 0s 10ms/step - loss: 40.3120 - mae: 34.2138\n",
            "Epoch 448/500\n",
            "2/2 [==============================] - 0s 13ms/step - loss: 40.6539 - mae: 34.8424\n",
            "Epoch 449/500\n",
            "2/2 [==============================] - 0s 8ms/step - loss: 40.6149 - mae: 34.8638\n",
            "Epoch 450/500\n",
            "2/2 [==============================] - 0s 8ms/step - loss: 40.5998 - mae: 35.1815\n",
            "Epoch 451/500\n",
            "2/2 [==============================] - 0s 8ms/step - loss: 39.9818 - mae: 35.5493\n",
            "Epoch 452/500\n",
            "2/2 [==============================] - 0s 9ms/step - loss: 40.8148 - mae: 31.0767\n",
            "Epoch 453/500\n",
            "2/2 [==============================] - 0s 8ms/step - loss: 40.9093 - mae: 29.6087\n",
            "Epoch 454/500\n",
            "2/2 [==============================] - 0s 8ms/step - loss: 40.8903 - mae: 30.6450\n",
            "Epoch 455/500\n",
            "2/2 [==============================] - 0s 13ms/step - loss: 40.7128 - mae: 31.9411\n",
            "Epoch 456/500\n",
            "2/2 [==============================] - 0s 11ms/step - loss: 40.6389 - mae: 33.7627\n",
            "Epoch 457/500\n",
            "2/2 [==============================] - 0s 8ms/step - loss: 40.5786 - mae: 33.9602\n",
            "Epoch 458/500\n",
            "2/2 [==============================] - 0s 8ms/step - loss: 40.1856 - mae: 34.7649\n",
            "Epoch 459/500\n",
            "2/2 [==============================] - 0s 8ms/step - loss: 40.7549 - mae: 32.2010\n",
            "Epoch 460/500\n",
            "2/2 [==============================] - 0s 7ms/step - loss: 40.7480 - mae: 32.8982\n",
            "Epoch 461/500\n",
            "2/2 [==============================] - 0s 8ms/step - loss: 40.6495 - mae: 33.7534\n",
            "Epoch 462/500\n",
            "2/2 [==============================] - 0s 13ms/step - loss: 40.6542 - mae: 34.3287\n",
            "Epoch 463/500\n",
            "2/2 [==============================] - 0s 7ms/step - loss: 40.5912 - mae: 34.8310\n",
            "Epoch 464/500\n",
            "2/2 [==============================] - 0s 7ms/step - loss: 40.4280 - mae: 35.4312\n",
            "Epoch 465/500\n",
            "2/2 [==============================] - 0s 15ms/step - loss: 40.4100 - mae: 35.5251\n",
            "Epoch 466/500\n",
            "2/2 [==============================] - 0s 8ms/step - loss: 40.5691 - mae: 35.6507\n",
            "Epoch 467/500\n",
            "2/2 [==============================] - 0s 10ms/step - loss: 40.6474 - mae: 35.1206\n",
            "Epoch 468/500\n",
            "2/2 [==============================] - 0s 8ms/step - loss: 40.5381 - mae: 34.9596\n",
            "Epoch 469/500\n",
            "2/2 [==============================] - 0s 10ms/step - loss: 40.6367 - mae: 34.2347\n",
            "Epoch 470/500\n",
            "2/2 [==============================] - 0s 15ms/step - loss: 40.6310 - mae: 34.4223\n",
            "Epoch 471/500\n",
            "2/2 [==============================] - 0s 8ms/step - loss: 40.5353 - mae: 34.8464\n",
            "Epoch 472/500\n",
            "2/2 [==============================] - 0s 8ms/step - loss: 40.6015 - mae: 35.3783\n",
            "Epoch 473/500\n",
            "2/2 [==============================] - 0s 10ms/step - loss: 40.4686 - mae: 36.0453\n",
            "Epoch 474/500\n",
            "2/2 [==============================] - 0s 7ms/step - loss: 40.5678 - mae: 34.5969\n",
            "Epoch 475/500\n",
            "2/2 [==============================] - 0s 9ms/step - loss: 40.2346 - mae: 34.4897\n",
            "Epoch 476/500\n",
            "2/2 [==============================] - 0s 9ms/step - loss: 40.4586 - mae: 35.1308\n",
            "Epoch 477/500\n",
            "2/2 [==============================] - 0s 7ms/step - loss: 40.6628 - mae: 33.4881\n",
            "Epoch 478/500\n",
            "2/2 [==============================] - 0s 8ms/step - loss: 40.2774 - mae: 32.8647\n",
            "Epoch 479/500\n",
            "2/2 [==============================] - 0s 7ms/step - loss: 40.6673 - mae: 33.4923\n",
            "Epoch 480/500\n",
            "2/2 [==============================] - 0s 8ms/step - loss: 40.7000 - mae: 32.9919\n",
            "Epoch 481/500\n",
            "2/2 [==============================] - 0s 7ms/step - loss: 40.6079 - mae: 33.6737\n",
            "Epoch 482/500\n",
            "2/2 [==============================] - 0s 8ms/step - loss: 40.6355 - mae: 33.3611\n",
            "Epoch 483/500\n",
            "2/2 [==============================] - 0s 8ms/step - loss: 40.3565 - mae: 33.9296\n",
            "Epoch 484/500\n",
            "2/2 [==============================] - 0s 8ms/step - loss: 39.9432 - mae: 31.2984\n",
            "Epoch 485/500\n",
            "2/2 [==============================] - 0s 8ms/step - loss: 40.7036 - mae: 31.8167\n",
            "Epoch 486/500\n",
            "2/2 [==============================] - 0s 8ms/step - loss: 39.9155 - mae: 32.3566\n",
            "Epoch 487/500\n",
            "2/2 [==============================] - 0s 8ms/step - loss: 40.6151 - mae: 32.9293\n",
            "Epoch 488/500\n",
            "2/2 [==============================] - 0s 8ms/step - loss: 39.8387 - mae: 32.0127\n",
            "Epoch 489/500\n",
            "2/2 [==============================] - 0s 8ms/step - loss: 40.4866 - mae: 32.0854\n",
            "Epoch 490/500\n",
            "2/2 [==============================] - 0s 8ms/step - loss: 40.6543 - mae: 34.0550\n",
            "Epoch 491/500\n",
            "2/2 [==============================] - 0s 8ms/step - loss: 40.6442 - mae: 34.6038\n",
            "Epoch 492/500\n",
            "2/2 [==============================] - 0s 8ms/step - loss: 40.6219 - mae: 34.2805\n",
            "Epoch 493/500\n",
            "2/2 [==============================] - 0s 8ms/step - loss: 40.5240 - mae: 34.5495\n",
            "Epoch 494/500\n",
            "2/2 [==============================] - 0s 11ms/step - loss: 40.1774 - mae: 34.9096\n",
            "Epoch 495/500\n",
            "2/2 [==============================] - 0s 11ms/step - loss: 40.5469 - mae: 35.0855\n",
            "Epoch 496/500\n",
            "2/2 [==============================] - 0s 11ms/step - loss: 40.5748 - mae: 35.1491\n",
            "Epoch 497/500\n",
            "2/2 [==============================] - 0s 9ms/step - loss: 40.2591 - mae: 35.3790\n",
            "Epoch 498/500\n",
            "2/2 [==============================] - 0s 8ms/step - loss: 40.8550 - mae: 32.2205\n",
            "Epoch 499/500\n",
            "2/2 [==============================] - 0s 8ms/step - loss: 40.6087 - mae: 32.3404\n",
            "Epoch 500/500\n",
            "2/2 [==============================] - 0s 7ms/step - loss: 39.7468 - mae: 32.3630\n"
          ]
        },
        {
          "output_type": "execute_result",
          "data": {
            "text/plain": [
              "<keras.src.callbacks.History at 0x7f0e91e665f0>"
            ]
          },
          "metadata": {},
          "execution_count": 59
        }
      ]
    },
    {
      "cell_type": "code",
      "source": [
        "# Make and plot some predictions\n",
        "\n",
        "y_preds_3 = model_3.predict(x_test)\n",
        "plot_predictions(predictions = y_preds_3)"
      ],
      "metadata": {
        "colab": {
          "base_uri": "https://localhost:8080/",
          "height": 502
        },
        "id": "uKfdkv17FlEB",
        "outputId": "c6f72221-4a85-4115-b902-589bbaea2c3d"
      },
      "execution_count": null,
      "outputs": [
        {
          "output_type": "stream",
          "name": "stdout",
          "text": [
            "1/1 [==============================] - 0s 52ms/step\n"
          ]
        },
        {
          "output_type": "display_data",
          "data": {
            "text/plain": [
              "<Figure size 1000x700 with 1 Axes>"
            ],
            "image/png": "[encoded data removed]"
          },
          "metadata": {}
        }
      ]
    },
    {
      "cell_type": "code",
      "source": [
        "# Calculate model_3 evaluation metrics\n",
        "\n",
        "mae_3 = mae(y_test, y_preds_3)\n",
        "mse_3 = mse(y_test, y_preds_3)\n",
        "mae_3, mse_3"
      ],
      "metadata": {
        "colab": {
          "base_uri": "https://localhost:8080/"
        },
        "id": "AZTlLn1rGIGp",
        "outputId": "0817c148-475a-4651-9bc3-6fe26828d439"
      },
      "execution_count": null,
      "outputs": [
        {
          "output_type": "execute_result",
          "data": {
            "text/plain": [
              "(<tf.Tensor: shape=(), dtype=float32, numpy=64.03841>,\n",
              " <tf.Tensor: shape=(), dtype=float32, numpy=4161.1025>)"
            ]
          },
          "metadata": {},
          "execution_count": 61
        }
      ]
    },
    {
      "cell_type": "markdown",
      "source": [
        "## Comparing the results of out experiments\n",
        "\n"
      ],
      "metadata": {
        "id": "AAy24eLdG11d"
      }
    },
    {
      "cell_type": "code",
      "source": [
        "# Lets compare our models result using a pandas DataFrame\n",
        "\n",
        "import pandas as pd\n",
        "\n",
        "model_results = [[\"model_1\", mae_1.numpy(), mse_1.numpy()],\n",
        "                [\"model_2\", mae_2.numpy(), mse_2.numpy()],\n",
        "                [\"model_3\", mae_3.numpy(), mse_3]]\n",
        "\n",
        "all_results = pd.DataFrame(model_results, columns=[\"model\", \"mae\", \"mse\"])\n",
        "all_results\n"
      ],
      "metadata": {
        "colab": {
          "base_uri": "https://localhost:8080/",
          "height": 144
        },
        "id": "Eyz6kizfeNiv",
        "outputId": "bb65b78e-1961-4352-b171-d49356f1e0a5"
      },
      "execution_count": null,
      "outputs": [
        {
          "output_type": "execute_result",
          "data": {
            "text/plain": [
              "     model        mae                                            mse\n",
              "0  model_1  30.678259                                     951.610168\n",
              "1  model_2  45.862888                                    2130.983398\n",
              "2  model_3  64.038406  tf.Tensor(4161.1025, shape=(), dtype=float32)"
            ],
            "text/html": [
              "\n",
              "  <div id=\"df-503f09b7-1cba-4b6d-8117-366ea9814099\" class=\"colab-df-container\">\n",
              "    <div>\n",
              "<style scoped>\n",
              "    .dataframe tbody tr th:only-of-type {\n",
              "        vertical-align: middle;\n",
              "    }\n",
              "\n",
              "    .dataframe tbody tr th {\n",
              "        vertical-align: top;\n",
              "    }\n",
              "\n",
              "    .dataframe thead th {\n",
              "        text-align: right;\n",
              "    }\n",
              "</style>\n",
              "<table border=\"1\" class=\"dataframe\">\n",
              "  <thead>\n",
              "    <tr style=\"text-align: right;\">\n",
              "      <th></th>\n",
              "      <th>model</th>\n",
              "      <th>mae</th>\n",
              "      <th>mse</th>\n",
              "    </tr>\n",
              "  </thead>\n",
              "  <tbody>\n",
              "    <tr>\n",
              "      <th>0</th>\n",
              "      <td>model_1</td>\n",
              "      <td>30.678259</td>\n",
              "      <td>951.610168</td>\n",
              "    </tr>\n",
              "    <tr>\n",
              "      <th>1</th>\n",
              "      <td>model_2</td>\n",
              "      <td>45.862888</td>\n",
              "      <td>2130.983398</td>\n",
              "    </tr>\n",
              "    <tr>\n",
              "      <th>2</th>\n",
              "      <td>model_3</td>\n",
              "      <td>64.038406</td>\n",
              "      <td>tf.Tensor(4161.1025, shape=(), dtype=float32)</td>\n",
              "    </tr>\n",
              "  </tbody>\n",
              "</table>\n",
              "</div>\n",
              "    <div class=\"colab-df-buttons\">\n",
              "\n",
              "  <div class=\"colab-df-container\">\n",
              "    <button class=\"colab-df-convert\" onclick=\"convertToInteractive('df-503f09b7-1cba-4b6d-8117-366ea9814099')\"\n",
              "            title=\"Convert this dataframe to an interactive table.\"\n",
              "            style=\"display:none;\">\n",
              "\n",
              "  <svg xmlns=\"http://www.w3.org/2000/svg\" height=\"24px\" viewBox=\"0 -960 960 960\">\n",
              "    <path d=\"M120-120v-720h720v720H120Zm60-500h600v-160H180v160Zm220 220h160v-160H400v160Zm0 220h160v-160H400v160ZM180-400h160v-160H180v160Zm440 0h160v-160H620v160ZM180-180h160v-160H180v160Zm440 0h160v-160H620v160Z\"/>\n",
              "  </svg>\n",
              "    </button>\n",
              "\n",
              "  <style>\n",
              "    .colab-df-container {\n",
              "      display:flex;\n",
              "      gap: 12px;\n",
              "    }\n",
              "\n",
              "    .colab-df-convert {\n",
              "      background-color: #E8F0FE;\n",
              "      border: none;\n",
              "      border-radius: 50%;\n",
              "      cursor: pointer;\n",
              "      display: none;\n",
              "      fill: #1967D2;\n",
              "      height: 32px;\n",
              "      padding: 0 0 0 0;\n",
              "      width: 32px;\n",
              "    }\n",
              "\n",
              "    .colab-df-convert:hover {\n",
              "      background-color: #E2EBFA;\n",
              "      box-shadow: 0px 1px 2px rgba(60, 64, 67, 0.3), 0px 1px 3px 1px rgba(60, 64, 67, 0.15);\n",
              "      fill: #174EA6;\n",
              "    }\n",
              "\n",
              "    .colab-df-buttons div {\n",
              "      margin-bottom: 4px;\n",
              "    }\n",
              "\n",
              "    [theme=dark] .colab-df-convert {\n",
              "      background-color: #3B4455;\n",
              "      fill: #D2E3FC;\n",
              "    }\n",
              "\n",
              "    [theme=dark] .colab-df-convert:hover {\n",
              "      background-color: #434B5C;\n",
              "      box-shadow: 0px 1px 3px 1px rgba(0, 0, 0, 0.15);\n",
              "      filter: drop-shadow(0px 1px 2px rgba(0, 0, 0, 0.3));\n",
              "      fill: #FFFFFF;\n",
              "    }\n",
              "  </style>\n",
              "\n",
              "    <script>\n",
              "      const buttonEl =\n",
              "        document.querySelector('#df-503f09b7-1cba-4b6d-8117-366ea9814099 button.colab-df-convert');\n",
              "      buttonEl.style.display =\n",
              "        google.colab.kernel.accessAllowed ? 'block' : 'none';\n",
              "\n",
              "      async function convertToInteractive(key) {\n",
              "        const element = document.querySelector('#df-503f09b7-1cba-4b6d-8117-366ea9814099');\n",
              "        const dataTable =\n",
              "          await google.colab.kernel.invokeFunction('convertToInteractive',\n",
              "                                                    [key], {});\n",
              "        if (!dataTable) return;\n",
              "\n",
              "        const docLinkHtml = 'Like what you see? Visit the ' +\n",
              "          '<a target=\"_blank\" href=https://colab.research.google.com/notebooks/data_table.ipynb>data table notebook</a>'\n",
              "          + ' to learn more about interactive tables.';\n",
              "        element.innerHTML = '';\n",
              "        dataTable['output_type'] = 'display_data';\n",
              "        await google.colab.output.renderOutput(dataTable, element);\n",
              "        const docLink = document.createElement('div');\n",
              "        docLink.innerHTML = docLinkHtml;\n",
              "        element.appendChild(docLink);\n",
              "      }\n",
              "    </script>\n",
              "  </div>\n",
              "\n",
              "\n",
              "<div id=\"df-9d74e439-843c-4c9a-826f-528c0b7e647b\">\n",
              "  <button class=\"colab-df-quickchart\" onclick=\"quickchart('df-9d74e439-843c-4c9a-826f-528c0b7e647b')\"\n",
              "            title=\"Suggest charts\"\n",
              "            style=\"display:none;\">\n",
              "\n",
              "<svg xmlns=\"http://www.w3.org/2000/svg\" height=\"24px\"viewBox=\"0 0 24 24\"\n",
              "     width=\"24px\">\n",
              "    <g>\n",
              "        <path d=\"M19 3H5c-1.1 0-2 .9-2 2v14c0 1.1.9 2 2 2h14c1.1 0 2-.9 2-2V5c0-1.1-.9-2-2-2zM9 17H7v-7h2v7zm4 0h-2V7h2v10zm4 0h-2v-4h2v4z\"/>\n",
              "    </g>\n",
              "</svg>\n",
              "  </button>\n",
              "\n",
              "<style>\n",
              "  .colab-df-quickchart {\n",
              "      --bg-color: #E8F0FE;\n",
              "      --fill-color: #1967D2;\n",
              "      --hover-bg-color: #E2EBFA;\n",
              "      --hover-fill-color: #174EA6;\n",
              "      --disabled-fill-color: #AAA;\n",
              "      --disabled-bg-color: #DDD;\n",
              "  }\n",
              "\n",
              "  [theme=dark] .colab-df-quickchart {\n",
              "      --bg-color: #3B4455;\n",
              "      --fill-color: #D2E3FC;\n",
              "      --hover-bg-color: #434B5C;\n",
              "      --hover-fill-color: #FFFFFF;\n",
              "      --disabled-bg-color: #3B4455;\n",
              "      --disabled-fill-color: #666;\n",
              "  }\n",
              "\n",
              "  .colab-df-quickchart {\n",
              "    background-color: var(--bg-color);\n",
              "    border: none;\n",
              "    border-radius: 50%;\n",
              "    cursor: pointer;\n",
              "    display: none;\n",
              "    fill: var(--fill-color);\n",
              "    height: 32px;\n",
              "    padding: 0;\n",
              "    width: 32px;\n",
              "  }\n",
              "\n",
              "  .colab-df-quickchart:hover {\n",
              "    background-color: var(--hover-bg-color);\n",
              "    box-shadow: 0 1px 2px rgba(60, 64, 67, 0.3), 0 1px 3px 1px rgba(60, 64, 67, 0.15);\n",
              "    fill: var(--button-hover-fill-color);\n",
              "  }\n",
              "\n",
              "  .colab-df-quickchart-complete:disabled,\n",
              "  .colab-df-quickchart-complete:disabled:hover {\n",
              "    background-color: var(--disabled-bg-color);\n",
              "    fill: var(--disabled-fill-color);\n",
              "    box-shadow: none;\n",
              "  }\n",
              "\n",
              "  .colab-df-spinner {\n",
              "    border: 2px solid var(--fill-color);\n",
              "    border-color: transparent;\n",
              "    border-bottom-color: var(--fill-color);\n",
              "    animation:\n",
              "      spin 1s steps(1) infinite;\n",
              "  }\n",
              "\n",
              "  @keyframes spin {\n",
              "    0% {\n",
              "      border-color: transparent;\n",
              "      border-bottom-color: var(--fill-color);\n",
              "      border-left-color: var(--fill-color);\n",
              "    }\n",
              "    20% {\n",
              "      border-color: transparent;\n",
              "      border-left-color: var(--fill-color);\n",
              "      border-top-color: var(--fill-color);\n",
              "    }\n",
              "    30% {\n",
              "      border-color: transparent;\n",
              "      border-left-color: var(--fill-color);\n",
              "      border-top-color: var(--fill-color);\n",
              "      border-right-color: var(--fill-color);\n",
              "    }\n",
              "    40% {\n",
              "      border-color: transparent;\n",
              "      border-right-color: var(--fill-color);\n",
              "      border-top-color: var(--fill-color);\n",
              "    }\n",
              "    60% {\n",
              "      border-color: transparent;\n",
              "      border-right-color: var(--fill-color);\n",
              "    }\n",
              "    80% {\n",
              "      border-color: transparent;\n",
              "      border-right-color: var(--fill-color);\n",
              "      border-bottom-color: var(--fill-color);\n",
              "    }\n",
              "    90% {\n",
              "      border-color: transparent;\n",
              "      border-bottom-color: var(--fill-color);\n",
              "    }\n",
              "  }\n",
              "</style>\n",
              "\n",
              "  <script>\n",
              "    async function quickchart(key) {\n",
              "      const quickchartButtonEl =\n",
              "        document.querySelector('#' + key + ' button');\n",
              "      quickchartButtonEl.disabled = true;  // To prevent multiple clicks.\n",
              "      quickchartButtonEl.classList.add('colab-df-spinner');\n",
              "      try {\n",
              "        const charts = await google.colab.kernel.invokeFunction(\n",
              "            'suggestCharts', [key], {});\n",
              "      } catch (error) {\n",
              "        console.error('Error during call to suggestCharts:', error);\n",
              "      }\n",
              "      quickchartButtonEl.classList.remove('colab-df-spinner');\n",
              "      quickchartButtonEl.classList.add('colab-df-quickchart-complete');\n",
              "    }\n",
              "    (() => {\n",
              "      let quickchartButtonEl =\n",
              "        document.querySelector('#df-9d74e439-843c-4c9a-826f-528c0b7e647b button');\n",
              "      quickchartButtonEl.style.display =\n",
              "        google.colab.kernel.accessAllowed ? 'block' : 'none';\n",
              "    })();\n",
              "  </script>\n",
              "</div>\n",
              "    </div>\n",
              "  </div>\n"
            ],
            "application/vnd.google.colaboratory.intrinsic+json": {
              "type": "dataframe",
              "variable_name": "all_results",
              "summary": "{\n  \"name\": \"all_results\",\n  \"rows\": 3,\n  \"fields\": [\n    {\n      \"column\": \"model\",\n      \"properties\": {\n        \"dtype\": \"string\",\n        \"num_unique_values\": 3,\n        \"samples\": [\n          \"model_1\",\n          \"model_2\",\n          \"model_3\"\n        ],\n        \"semantic_type\": \"\",\n        \"description\": \"\"\n      }\n    },\n    {\n      \"column\": \"mae\",\n      \"properties\": {\n        \"dtype\": \"float32\",\n        \"num_unique_values\": 3,\n        \"samples\": [\n          30.678258895874023,\n          45.86288833618164,\n          64.03840637207031\n        ],\n        \"semantic_type\": \"\",\n        \"description\": \"\"\n      }\n    },\n    {\n      \"column\": \"mse\",\n      \"properties\": {\n        \"dtype\": \"object\",\n        \"semantic_type\": \"\",\n        \"description\": \"\"\n      }\n    }\n  ]\n}"
            }
          },
          "metadata": {},
          "execution_count": 62
        }
      ]
    },
    {
      "source": [
        "# @title mae\n",
        "# Got Recommendation from gcollab\n",
        "\n",
        "from matplotlib import pyplot as plt\n",
        "all_results['mae'].plot(kind='hist', bins=20, title='mae')\n",
        "plt.gca().spines[['top', 'right',]].set_visible(False)"
      ],
      "cell_type": "code",
      "execution_count": null,
      "outputs": [
        {
          "output_type": "display_data",
          "data": {
            "text/plain": [
              "<Figure size 640x480 with 1 Axes>"
            ],
            "image/png": "[encoded data removed]"
          },
          "metadata": {}
        }
      ],
      "metadata": {
        "colab": {
          "base_uri": "https://localhost:8080/",
          "height": 452
        },
        "id": "AK8lqoT2f7R1",
        "outputId": "e9c183c9-9956-44e7-b150-965984b339a9"
      }
    },
    {
      "cell_type": "markdown",
      "source": [
        "🔑**Note :** One of our main goals should be to minimize the time between our experiments. We must try and error"
      ],
      "metadata": {
        "id": "6mam0ajKgXEC"
      }
    },
    {
      "cell_type": "markdown",
      "source": [
        "## Tracking your experiments\n",
        "\n",
        "One really good habit in ml modelling is to track the result of your experiments.\n",
        "\n",
        "Luckly, there are tools to help us!\n",
        "\n",
        "📖**Resource:** As we build more models, we will want to look into using :\n",
        "\n",
        "* TensorBoard - a component of the TensorFlow library to help track modelling experiments\n",
        "* Weights & Biases - a tool for tracking all of kinds of machine learning experiments\n",
        "\n"
      ],
      "metadata": {
        "id": "jCyUYIJrhEbi"
      }
    },
    {
      "cell_type": "markdown",
      "source": [
        "## Saving Our model\n",
        "\n",
        "Saving our model allows us to use them outside of Google collab\n",
        "\n",
        "There are two main formats we can save our model too :\n",
        "1. The SavedModel format\n",
        "2. The HDF5 format"
      ],
      "metadata": {
        "id": "DCh5Gw9x2cEL"
      }
    },
    {
      "cell_type": "code",
      "source": [
        "# Save model using the SavedModel format\n",
        "model_2.save(\"best_model_SavedModel_format\")"
      ],
      "metadata": {
        "id": "GgNAjual2aAU"
      },
      "execution_count": null,
      "outputs": []
    },
    {
      "cell_type": "code",
      "source": [
        "# Save model using the HDF5 format\n",
        "model_2.save(\"best_model_HDF5_format\")"
      ],
      "metadata": {
        "id": "WUEQU6AH4UiF"
      },
      "execution_count": null,
      "outputs": []
    },
    {
      "cell_type": "markdown",
      "source": [
        "## Loading in a saved model"
      ],
      "metadata": {
        "id": "JlWRZHYjreP_"
      }
    },
    {
      "cell_type": "code",
      "source": [
        "# Load in the SavedModel format\n",
        "\n",
        "loaded_SavedModel_format = tf.keras.models.load_model(\"/content/best_model_SavedModel_format\")\n",
        "loaded_SavedModel_format.summary()"
      ],
      "metadata": {
        "colab": {
          "base_uri": "https://localhost:8080/"
        },
        "id": "2ZCWOR4Wrosv",
        "outputId": "3f13238c-fad9-40b6-d439-38e139f57612"
      },
      "execution_count": null,
      "outputs": [
        {
          "output_type": "stream",
          "name": "stdout",
          "text": [
            "Model: \"sequential_6\"\n",
            "_________________________________________________________________\n",
            " Layer (type)                Output Shape              Param #   \n",
            "=================================================================\n",
            " input_layer (Dense)         (None, 70)                140       \n",
            "                                                                 \n",
            " Output_layer (Dense)        (None, 1)                 71        \n",
            "                                                                 \n",
            "=================================================================\n",
            "Total params: 211 (844.00 Byte)\n",
            "Trainable params: 211 (844.00 Byte)\n",
            "Non-trainable params: 0 (0.00 Byte)\n",
            "_________________________________________________________________\n"
          ]
        }
      ]
    },
    {
      "cell_type": "code",
      "source": [
        "model_2 == loaded_SavedModel_format"
      ],
      "metadata": {
        "colab": {
          "base_uri": "https://localhost:8080/"
        },
        "id": "yLoIxTUvsGxF",
        "outputId": "23682cfa-999b-4319-a2bd-115d695b264a"
      },
      "execution_count": null,
      "outputs": [
        {
          "output_type": "execute_result",
          "data": {
            "text/plain": [
              "False"
            ]
          },
          "metadata": {},
          "execution_count": 67
        }
      ]
    },
    {
      "cell_type": "code",
      "source": [
        "# Compare predictions\n",
        "model_2_preds = model_2.predict(x_test)\n",
        "loaded_SavedModel_format_preds = loaded_SavedModel_format.predict(x_test)\n",
        "\n",
        "model_2_preds == loaded_SavedModel_format_preds"
      ],
      "metadata": {
        "colab": {
          "base_uri": "https://localhost:8080/"
        },
        "id": "NN4wwIe1sbEY",
        "outputId": "0c95c9b6-177f-40f1-d948-0826ebae9dbe"
      },
      "execution_count": null,
      "outputs": [
        {
          "output_type": "stream",
          "name": "stdout",
          "text": [
            "1/1 [==============================] - 0s 31ms/step\n",
            "1/1 [==============================] - 0s 68ms/step\n"
          ]
        },
        {
          "output_type": "execute_result",
          "data": {
            "text/plain": [
              "array([[ True],\n",
              "       [ True],\n",
              "       [ True],\n",
              "       [ True],\n",
              "       [ True],\n",
              "       [ True],\n",
              "       [ True],\n",
              "       [ True],\n",
              "       [ True],\n",
              "       [ True]])"
            ]
          },
          "metadata": {},
          "execution_count": 68
        }
      ]
    },
    {
      "cell_type": "code",
      "source": [
        "mae(y_true = y_test, y_pred = model_2_preds) == mae(y_true = y_test, y_pred=loaded_SavedModel_format_preds )"
      ],
      "metadata": {
        "colab": {
          "base_uri": "https://localhost:8080/"
        },
        "id": "4vOzpgEWs4bA",
        "outputId": "12955e0f-db96-42f0-cfbb-55ea41832c8d"
      },
      "execution_count": null,
      "outputs": [
        {
          "output_type": "execute_result",
          "data": {
            "text/plain": [
              "<tf.Tensor: shape=(), dtype=bool, numpy=True>"
            ]
          },
          "metadata": {},
          "execution_count": 69
        }
      ]
    },
    {
      "cell_type": "code",
      "source": [
        "# Load in a model using the h5 format\n",
        "loaded_h5_model = tf.keras.models.load_model(\"/content/best_model_HDF5_format\")\n",
        "loaded_h5_model.summary()"
      ],
      "metadata": {
        "colab": {
          "base_uri": "https://localhost:8080/"
        },
        "id": "HfBpvyUluB-8",
        "outputId": "0a13be25-45fb-4a30-f8fb-d74095a9c544"
      },
      "execution_count": null,
      "outputs": [
        {
          "output_type": "stream",
          "name": "stdout",
          "text": [
            "Model: \"sequential_6\"\n",
            "_________________________________________________________________\n",
            " Layer (type)                Output Shape              Param #   \n",
            "=================================================================\n",
            " input_layer (Dense)         (None, 70)                140       \n",
            "                                                                 \n",
            " Output_layer (Dense)        (None, 1)                 71        \n",
            "                                                                 \n",
            "=================================================================\n",
            "Total params: 211 (844.00 Byte)\n",
            "Trainable params: 211 (844.00 Byte)\n",
            "Non-trainable params: 0 (0.00 Byte)\n",
            "_________________________________________________________________\n"
          ]
        }
      ]
    },
    {
      "cell_type": "code",
      "source": [
        "# Compare\n",
        "\n",
        "loaded_h5_model_preds = loaded_h5_model.predict(x_test)\n",
        "\n",
        "model_2_preds == loaded_h5_model_preds"
      ],
      "metadata": {
        "colab": {
          "base_uri": "https://localhost:8080/"
        },
        "id": "IBlZi3BwucUl",
        "outputId": "38f340ad-5aa2-41cc-abf7-7006dfaccbcd"
      },
      "execution_count": null,
      "outputs": [
        {
          "output_type": "stream",
          "name": "stdout",
          "text": [
            "1/1 [==============================] - 0s 64ms/step\n"
          ]
        },
        {
          "output_type": "execute_result",
          "data": {
            "text/plain": [
              "array([[ True],\n",
              "       [ True],\n",
              "       [ True],\n",
              "       [ True],\n",
              "       [ True],\n",
              "       [ True],\n",
              "       [ True],\n",
              "       [ True],\n",
              "       [ True],\n",
              "       [ True]])"
            ]
          },
          "metadata": {},
          "execution_count": 71
        }
      ]
    },
    {
      "cell_type": "code",
      "source": [
        "mae(y_true = y_test, y_pred = model_2_preds) == mae(y_true=y_test, y_pred=loaded_h5_model_preds)"
      ],
      "metadata": {
        "colab": {
          "base_uri": "https://localhost:8080/"
        },
        "id": "915O3jbSuuKI",
        "outputId": "c7558d68-c206-43e8-fa76-3003367c3626"
      },
      "execution_count": null,
      "outputs": [
        {
          "output_type": "execute_result",
          "data": {
            "text/plain": [
              "<tf.Tensor: shape=(), dtype=bool, numpy=True>"
            ]
          },
          "metadata": {},
          "execution_count": 72
        }
      ]
    },
    {
      "cell_type": "markdown",
      "source": [
        "## Download a model (or any other file) from Google Colab\n",
        "\n",
        "If you want to download your file from Google Colab :\n",
        "1. You can go to the \"files\" tab and right click on the file youre after and click \"upload\".\n",
        "\n",
        "2. Use code\n",
        "\n",
        "3. Save it to Google Drive by connecting Google Drive and copying it there (see 2nd code cell)"
      ],
      "metadata": {
        "id": "QUSC31vrxNpn"
      }
    },
    {
      "cell_type": "code",
      "source": [
        "# Download a file from Google Colab\n",
        "\n",
        "# from google.colab import files\n",
        "# files.download(\"/content/best_model_HDF5_format\")"
      ],
      "metadata": {
        "id": "8TcUW_yr1w_p"
      },
      "execution_count": null,
      "outputs": []
    },
    {
      "cell_type": "code",
      "source": [
        "# Save a file from Google colab to Google Drive\n",
        "# !cp /content/best_model_HDF5_format(our model path) _____(our folder file aim)"
      ],
      "metadata": {
        "id": "WSgD3o4e7f7p"
      },
      "execution_count": null,
      "outputs": []
    },
    {
      "cell_type": "markdown",
      "source": [
        "## A Larger Example"
      ],
      "metadata": {
        "id": "CCRi9SjcjVKV"
      }
    },
    {
      "cell_type": "code",
      "source": [
        "# Import requaired libraries\n",
        "import tensorflow as tf\n",
        "import pandas as pd\n",
        "import matplotlib.pyplot as plt"
      ],
      "metadata": {
        "id": "k9TQZSDtjf7m"
      },
      "execution_count": null,
      "outputs": []
    },
    {
      "cell_type": "code",
      "source": [
        "# Read in the insurance datatset\n",
        "\n",
        "insurance = pd.read_csv(\"https://raw.githubusercontent.com/stedy/Machine-Learning-with-R-datasets/master/insurance.csv\")"
      ],
      "metadata": {
        "id": "BuTf-1pqko1F"
      },
      "execution_count": null,
      "outputs": []
    },
    {
      "cell_type": "code",
      "source": [
        "insurance.head(10)"
      ],
      "metadata": {
        "colab": {
          "base_uri": "https://localhost:8080/",
          "height": 363
        },
        "id": "7vygpJnClKsv",
        "outputId": "fb926570-e610-4591-c029-4141fbe8976c"
      },
      "execution_count": null,
      "outputs": [
        {
          "output_type": "execute_result",
          "data": {
            "text/plain": [
              "   age     sex     bmi  children smoker     region      charges\n",
              "0   19  female  27.900         0    yes  southwest  16884.92400\n",
              "1   18    male  33.770         1     no  southeast   1725.55230\n",
              "2   28    male  33.000         3     no  southeast   4449.46200\n",
              "3   33    male  22.705         0     no  northwest  21984.47061\n",
              "4   32    male  28.880         0     no  northwest   3866.85520\n",
              "5   31  female  25.740         0     no  southeast   3756.62160\n",
              "6   46  female  33.440         1     no  southeast   8240.58960\n",
              "7   37  female  27.740         3     no  northwest   7281.50560\n",
              "8   37    male  29.830         2     no  northeast   6406.41070\n",
              "9   60  female  25.840         0     no  northwest  28923.13692"
            ],
            "text/html": [
              "\n",
              "  <div id=\"df-e9eef956-43c8-401a-9367-74d3586023ac\" class=\"colab-df-container\">\n",
              "    <div>\n",
              "<style scoped>\n",
              "    .dataframe tbody tr th:only-of-type {\n",
              "        vertical-align: middle;\n",
              "    }\n",
              "\n",
              "    .dataframe tbody tr th {\n",
              "        vertical-align: top;\n",
              "    }\n",
              "\n",
              "    .dataframe thead th {\n",
              "        text-align: right;\n",
              "    }\n",
              "</style>\n",
              "<table border=\"1\" class=\"dataframe\">\n",
              "  <thead>\n",
              "    <tr style=\"text-align: right;\">\n",
              "      <th></th>\n",
              "      <th>age</th>\n",
              "      <th>sex</th>\n",
              "      <th>bmi</th>\n",
              "      <th>children</th>\n",
              "      <th>smoker</th>\n",
              "      <th>region</th>\n",
              "      <th>charges</th>\n",
              "    </tr>\n",
              "  </thead>\n",
              "  <tbody>\n",
              "    <tr>\n",
              "      <th>0</th>\n",
              "      <td>19</td>\n",
              "      <td>female</td>\n",
              "      <td>27.900</td>\n",
              "      <td>0</td>\n",
              "      <td>yes</td>\n",
              "      <td>southwest</td>\n",
              "      <td>16884.92400</td>\n",
              "    </tr>\n",
              "    <tr>\n",
              "      <th>1</th>\n",
              "      <td>18</td>\n",
              "      <td>male</td>\n",
              "      <td>33.770</td>\n",
              "      <td>1</td>\n",
              "      <td>no</td>\n",
              "      <td>southeast</td>\n",
              "      <td>1725.55230</td>\n",
              "    </tr>\n",
              "    <tr>\n",
              "      <th>2</th>\n",
              "      <td>28</td>\n",
              "      <td>male</td>\n",
              "      <td>33.000</td>\n",
              "      <td>3</td>\n",
              "      <td>no</td>\n",
              "      <td>southeast</td>\n",
              "      <td>4449.46200</td>\n",
              "    </tr>\n",
              "    <tr>\n",
              "      <th>3</th>\n",
              "      <td>33</td>\n",
              "      <td>male</td>\n",
              "      <td>22.705</td>\n",
              "      <td>0</td>\n",
              "      <td>no</td>\n",
              "      <td>northwest</td>\n",
              "      <td>21984.47061</td>\n",
              "    </tr>\n",
              "    <tr>\n",
              "      <th>4</th>\n",
              "      <td>32</td>\n",
              "      <td>male</td>\n",
              "      <td>28.880</td>\n",
              "      <td>0</td>\n",
              "      <td>no</td>\n",
              "      <td>northwest</td>\n",
              "      <td>3866.85520</td>\n",
              "    </tr>\n",
              "    <tr>\n",
              "      <th>5</th>\n",
              "      <td>31</td>\n",
              "      <td>female</td>\n",
              "      <td>25.740</td>\n",
              "      <td>0</td>\n",
              "      <td>no</td>\n",
              "      <td>southeast</td>\n",
              "      <td>3756.62160</td>\n",
              "    </tr>\n",
              "    <tr>\n",
              "      <th>6</th>\n",
              "      <td>46</td>\n",
              "      <td>female</td>\n",
              "      <td>33.440</td>\n",
              "      <td>1</td>\n",
              "      <td>no</td>\n",
              "      <td>southeast</td>\n",
              "      <td>8240.58960</td>\n",
              "    </tr>\n",
              "    <tr>\n",
              "      <th>7</th>\n",
              "      <td>37</td>\n",
              "      <td>female</td>\n",
              "      <td>27.740</td>\n",
              "      <td>3</td>\n",
              "      <td>no</td>\n",
              "      <td>northwest</td>\n",
              "      <td>7281.50560</td>\n",
              "    </tr>\n",
              "    <tr>\n",
              "      <th>8</th>\n",
              "      <td>37</td>\n",
              "      <td>male</td>\n",
              "      <td>29.830</td>\n",
              "      <td>2</td>\n",
              "      <td>no</td>\n",
              "      <td>northeast</td>\n",
              "      <td>6406.41070</td>\n",
              "    </tr>\n",
              "    <tr>\n",
              "      <th>9</th>\n",
              "      <td>60</td>\n",
              "      <td>female</td>\n",
              "      <td>25.840</td>\n",
              "      <td>0</td>\n",
              "      <td>no</td>\n",
              "      <td>northwest</td>\n",
              "      <td>28923.13692</td>\n",
              "    </tr>\n",
              "  </tbody>\n",
              "</table>\n",
              "</div>\n",
              "    <div class=\"colab-df-buttons\">\n",
              "\n",
              "  <div class=\"colab-df-container\">\n",
              "    <button class=\"colab-df-convert\" onclick=\"convertToInteractive('df-e9eef956-43c8-401a-9367-74d3586023ac')\"\n",
              "            title=\"Convert this dataframe to an interactive table.\"\n",
              "            style=\"display:none;\">\n",
              "\n",
              "  <svg xmlns=\"http://www.w3.org/2000/svg\" height=\"24px\" viewBox=\"0 -960 960 960\">\n",
              "    <path d=\"M120-120v-720h720v720H120Zm60-500h600v-160H180v160Zm220 220h160v-160H400v160Zm0 220h160v-160H400v160ZM180-400h160v-160H180v160Zm440 0h160v-160H620v160ZM180-180h160v-160H180v160Zm440 0h160v-160H620v160Z\"/>\n",
              "  </svg>\n",
              "    </button>\n",
              "\n",
              "  <style>\n",
              "    .colab-df-container {\n",
              "      display:flex;\n",
              "      gap: 12px;\n",
              "    }\n",
              "\n",
              "    .colab-df-convert {\n",
              "      background-color: #E8F0FE;\n",
              "      border: none;\n",
              "      border-radius: 50%;\n",
              "      cursor: pointer;\n",
              "      display: none;\n",
              "      fill: #1967D2;\n",
              "      height: 32px;\n",
              "      padding: 0 0 0 0;\n",
              "      width: 32px;\n",
              "    }\n",
              "\n",
              "    .colab-df-convert:hover {\n",
              "      background-color: #E2EBFA;\n",
              "      box-shadow: 0px 1px 2px rgba(60, 64, 67, 0.3), 0px 1px 3px 1px rgba(60, 64, 67, 0.15);\n",
              "      fill: #174EA6;\n",
              "    }\n",
              "\n",
              "    .colab-df-buttons div {\n",
              "      margin-bottom: 4px;\n",
              "    }\n",
              "\n",
              "    [theme=dark] .colab-df-convert {\n",
              "      background-color: #3B4455;\n",
              "      fill: #D2E3FC;\n",
              "    }\n",
              "\n",
              "    [theme=dark] .colab-df-convert:hover {\n",
              "      background-color: #434B5C;\n",
              "      box-shadow: 0px 1px 3px 1px rgba(0, 0, 0, 0.15);\n",
              "      filter: drop-shadow(0px 1px 2px rgba(0, 0, 0, 0.3));\n",
              "      fill: #FFFFFF;\n",
              "    }\n",
              "  </style>\n",
              "\n",
              "    <script>\n",
              "      const buttonEl =\n",
              "        document.querySelector('#df-e9eef956-43c8-401a-9367-74d3586023ac button.colab-df-convert');\n",
              "      buttonEl.style.display =\n",
              "        google.colab.kernel.accessAllowed ? 'block' : 'none';\n",
              "\n",
              "      async function convertToInteractive(key) {\n",
              "        const element = document.querySelector('#df-e9eef956-43c8-401a-9367-74d3586023ac');\n",
              "        const dataTable =\n",
              "          await google.colab.kernel.invokeFunction('convertToInteractive',\n",
              "                                                    [key], {});\n",
              "        if (!dataTable) return;\n",
              "\n",
              "        const docLinkHtml = 'Like what you see? Visit the ' +\n",
              "          '<a target=\"_blank\" href=https://colab.research.google.com/notebooks/data_table.ipynb>data table notebook</a>'\n",
              "          + ' to learn more about interactive tables.';\n",
              "        element.innerHTML = '';\n",
              "        dataTable['output_type'] = 'display_data';\n",
              "        await google.colab.output.renderOutput(dataTable, element);\n",
              "        const docLink = document.createElement('div');\n",
              "        docLink.innerHTML = docLinkHtml;\n",
              "        element.appendChild(docLink);\n",
              "      }\n",
              "    </script>\n",
              "  </div>\n",
              "\n",
              "\n",
              "<div id=\"df-0d966681-21f2-4927-a740-4ce805630bdc\">\n",
              "  <button class=\"colab-df-quickchart\" onclick=\"quickchart('df-0d966681-21f2-4927-a740-4ce805630bdc')\"\n",
              "            title=\"Suggest charts\"\n",
              "            style=\"display:none;\">\n",
              "\n",
              "<svg xmlns=\"http://www.w3.org/2000/svg\" height=\"24px\"viewBox=\"0 0 24 24\"\n",
              "     width=\"24px\">\n",
              "    <g>\n",
              "        <path d=\"M19 3H5c-1.1 0-2 .9-2 2v14c0 1.1.9 2 2 2h14c1.1 0 2-.9 2-2V5c0-1.1-.9-2-2-2zM9 17H7v-7h2v7zm4 0h-2V7h2v10zm4 0h-2v-4h2v4z\"/>\n",
              "    </g>\n",
              "</svg>\n",
              "  </button>\n",
              "\n",
              "<style>\n",
              "  .colab-df-quickchart {\n",
              "      --bg-color: #E8F0FE;\n",
              "      --fill-color: #1967D2;\n",
              "      --hover-bg-color: #E2EBFA;\n",
              "      --hover-fill-color: #174EA6;\n",
              "      --disabled-fill-color: #AAA;\n",
              "      --disabled-bg-color: #DDD;\n",
              "  }\n",
              "\n",
              "  [theme=dark] .colab-df-quickchart {\n",
              "      --bg-color: #3B4455;\n",
              "      --fill-color: #D2E3FC;\n",
              "      --hover-bg-color: #434B5C;\n",
              "      --hover-fill-color: #FFFFFF;\n",
              "      --disabled-bg-color: #3B4455;\n",
              "      --disabled-fill-color: #666;\n",
              "  }\n",
              "\n",
              "  .colab-df-quickchart {\n",
              "    background-color: var(--bg-color);\n",
              "    border: none;\n",
              "    border-radius: 50%;\n",
              "    cursor: pointer;\n",
              "    display: none;\n",
              "    fill: var(--fill-color);\n",
              "    height: 32px;\n",
              "    padding: 0;\n",
              "    width: 32px;\n",
              "  }\n",
              "\n",
              "  .colab-df-quickchart:hover {\n",
              "    background-color: var(--hover-bg-color);\n",
              "    box-shadow: 0 1px 2px rgba(60, 64, 67, 0.3), 0 1px 3px 1px rgba(60, 64, 67, 0.15);\n",
              "    fill: var(--button-hover-fill-color);\n",
              "  }\n",
              "\n",
              "  .colab-df-quickchart-complete:disabled,\n",
              "  .colab-df-quickchart-complete:disabled:hover {\n",
              "    background-color: var(--disabled-bg-color);\n",
              "    fill: var(--disabled-fill-color);\n",
              "    box-shadow: none;\n",
              "  }\n",
              "\n",
              "  .colab-df-spinner {\n",
              "    border: 2px solid var(--fill-color);\n",
              "    border-color: transparent;\n",
              "    border-bottom-color: var(--fill-color);\n",
              "    animation:\n",
              "      spin 1s steps(1) infinite;\n",
              "  }\n",
              "\n",
              "  @keyframes spin {\n",
              "    0% {\n",
              "      border-color: transparent;\n",
              "      border-bottom-color: var(--fill-color);\n",
              "      border-left-color: var(--fill-color);\n",
              "    }\n",
              "    20% {\n",
              "      border-color: transparent;\n",
              "      border-left-color: var(--fill-color);\n",
              "      border-top-color: var(--fill-color);\n",
              "    }\n",
              "    30% {\n",
              "      border-color: transparent;\n",
              "      border-left-color: var(--fill-color);\n",
              "      border-top-color: var(--fill-color);\n",
              "      border-right-color: var(--fill-color);\n",
              "    }\n",
              "    40% {\n",
              "      border-color: transparent;\n",
              "      border-right-color: var(--fill-color);\n",
              "      border-top-color: var(--fill-color);\n",
              "    }\n",
              "    60% {\n",
              "      border-color: transparent;\n",
              "      border-right-color: var(--fill-color);\n",
              "    }\n",
              "    80% {\n",
              "      border-color: transparent;\n",
              "      border-right-color: var(--fill-color);\n",
              "      border-bottom-color: var(--fill-color);\n",
              "    }\n",
              "    90% {\n",
              "      border-color: transparent;\n",
              "      border-bottom-color: var(--fill-color);\n",
              "    }\n",
              "  }\n",
              "</style>\n",
              "\n",
              "  <script>\n",
              "    async function quickchart(key) {\n",
              "      const quickchartButtonEl =\n",
              "        document.querySelector('#' + key + ' button');\n",
              "      quickchartButtonEl.disabled = true;  // To prevent multiple clicks.\n",
              "      quickchartButtonEl.classList.add('colab-df-spinner');\n",
              "      try {\n",
              "        const charts = await google.colab.kernel.invokeFunction(\n",
              "            'suggestCharts', [key], {});\n",
              "      } catch (error) {\n",
              "        console.error('Error during call to suggestCharts:', error);\n",
              "      }\n",
              "      quickchartButtonEl.classList.remove('colab-df-spinner');\n",
              "      quickchartButtonEl.classList.add('colab-df-quickchart-complete');\n",
              "    }\n",
              "    (() => {\n",
              "      let quickchartButtonEl =\n",
              "        document.querySelector('#df-0d966681-21f2-4927-a740-4ce805630bdc button');\n",
              "      quickchartButtonEl.style.display =\n",
              "        google.colab.kernel.accessAllowed ? 'block' : 'none';\n",
              "    })();\n",
              "  </script>\n",
              "</div>\n",
              "    </div>\n",
              "  </div>\n"
            ],
            "application/vnd.google.colaboratory.intrinsic+json": {
              "type": "dataframe",
              "variable_name": "insurance",
              "summary": "{\n  \"name\": \"insurance\",\n  \"rows\": 1338,\n  \"fields\": [\n    {\n      \"column\": \"age\",\n      \"properties\": {\n        \"dtype\": \"number\",\n        \"std\": 14,\n        \"min\": 18,\n        \"max\": 64,\n        \"num_unique_values\": 47,\n        \"samples\": [\n          21,\n          45,\n          36\n        ],\n        \"semantic_type\": \"\",\n        \"description\": \"\"\n      }\n    },\n    {\n      \"column\": \"sex\",\n      \"properties\": {\n        \"dtype\": \"category\",\n        \"num_unique_values\": 2,\n        \"samples\": [\n          \"male\",\n          \"female\"\n        ],\n        \"semantic_type\": \"\",\n        \"description\": \"\"\n      }\n    },\n    {\n      \"column\": \"bmi\",\n      \"properties\": {\n        \"dtype\": \"number\",\n        \"std\": 6.098186911679014,\n        \"min\": 15.96,\n        \"max\": 53.13,\n        \"num_unique_values\": 548,\n        \"samples\": [\n          23.18,\n          26.885\n        ],\n        \"semantic_type\": \"\",\n        \"description\": \"\"\n      }\n    },\n    {\n      \"column\": \"children\",\n      \"properties\": {\n        \"dtype\": \"number\",\n        \"std\": 1,\n        \"min\": 0,\n        \"max\": 5,\n        \"num_unique_values\": 6,\n        \"samples\": [\n          0,\n          1\n        ],\n        \"semantic_type\": \"\",\n        \"description\": \"\"\n      }\n    },\n    {\n      \"column\": \"smoker\",\n      \"properties\": {\n        \"dtype\": \"category\",\n        \"num_unique_values\": 2,\n        \"samples\": [\n          \"no\",\n          \"yes\"\n        ],\n        \"semantic_type\": \"\",\n        \"description\": \"\"\n      }\n    },\n    {\n      \"column\": \"region\",\n      \"properties\": {\n        \"dtype\": \"category\",\n        \"num_unique_values\": 4,\n        \"samples\": [\n          \"southeast\",\n          \"northeast\"\n        ],\n        \"semantic_type\": \"\",\n        \"description\": \"\"\n      }\n    },\n    {\n      \"column\": \"charges\",\n      \"properties\": {\n        \"dtype\": \"number\",\n        \"std\": 12110.011236694001,\n        \"min\": 1121.8739,\n        \"max\": 63770.42801,\n        \"num_unique_values\": 1337,\n        \"samples\": [\n          8688.85885,\n          5708.867\n        ],\n        \"semantic_type\": \"\",\n        \"description\": \"\"\n      }\n    }\n  ]\n}"
            }
          },
          "metadata": {},
          "execution_count": 77
        }
      ]
    },
    {
      "cell_type": "code",
      "source": [
        "insurance[\"sex\"]"
      ],
      "metadata": {
        "colab": {
          "base_uri": "https://localhost:8080/"
        },
        "id": "7AGioTdJneGl",
        "outputId": "547c9766-cf81-4d4f-8909-3ea63902845b"
      },
      "execution_count": null,
      "outputs": [
        {
          "output_type": "execute_result",
          "data": {
            "text/plain": [
              "0       female\n",
              "1         male\n",
              "2         male\n",
              "3         male\n",
              "4         male\n",
              "         ...  \n",
              "1333      male\n",
              "1334    female\n",
              "1335    female\n",
              "1336    female\n",
              "1337    female\n",
              "Name: sex, Length: 1338, dtype: object"
            ]
          },
          "metadata": {},
          "execution_count": 78
        }
      ]
    },
    {
      "cell_type": "code",
      "source": [
        "insurance[\"age\"]"
      ],
      "metadata": {
        "colab": {
          "base_uri": "https://localhost:8080/"
        },
        "id": "VeNCha2CnqMZ",
        "outputId": "ce767d1b-a4e0-4c87-9e5b-3c5ae7f6d095"
      },
      "execution_count": null,
      "outputs": [
        {
          "output_type": "execute_result",
          "data": {
            "text/plain": [
              "0       19\n",
              "1       18\n",
              "2       28\n",
              "3       33\n",
              "4       32\n",
              "        ..\n",
              "1333    50\n",
              "1334    18\n",
              "1335    18\n",
              "1336    21\n",
              "1337    61\n",
              "Name: age, Length: 1338, dtype: int64"
            ]
          },
          "metadata": {},
          "execution_count": 79
        }
      ]
    },
    {
      "cell_type": "code",
      "source": [
        "# OneHot endcode for our non numerical type but using pandas(automaticly)\n",
        "insurance_one_hot = pd.get_dummies(insurance)\n",
        "insurance_one_hot.head()"
      ],
      "metadata": {
        "colab": {
          "base_uri": "https://localhost:8080/",
          "height": 226
        },
        "id": "bGJOoiQ6ns9m",
        "outputId": "a9236926-4606-456e-932f-4e31eafb5763"
      },
      "execution_count": null,
      "outputs": [
        {
          "output_type": "execute_result",
          "data": {
            "text/plain": [
              "   age     bmi  children      charges  sex_female  sex_male  smoker_no  \\\n",
              "0   19  27.900         0  16884.92400           1         0          0   \n",
              "1   18  33.770         1   1725.55230           0         1          1   \n",
              "2   28  33.000         3   4449.46200           0         1          1   \n",
              "3   33  22.705         0  21984.47061           0         1          1   \n",
              "4   32  28.880         0   3866.85520           0         1          1   \n",
              "\n",
              "   smoker_yes  region_northeast  region_northwest  region_southeast  \\\n",
              "0           1                 0                 0                 0   \n",
              "1           0                 0                 0                 1   \n",
              "2           0                 0                 0                 1   \n",
              "3           0                 0                 1                 0   \n",
              "4           0                 0                 1                 0   \n",
              "\n",
              "   region_southwest  \n",
              "0                 1  \n",
              "1                 0  \n",
              "2                 0  \n",
              "3                 0  \n",
              "4                 0  "
            ],
            "text/html": [
              "\n",
              "  <div id=\"df-514f6a49-da03-41cb-bcda-0187e427b31f\" class=\"colab-df-container\">\n",
              "    <div>\n",
              "<style scoped>\n",
              "    .dataframe tbody tr th:only-of-type {\n",
              "        vertical-align: middle;\n",
              "    }\n",
              "\n",
              "    .dataframe tbody tr th {\n",
              "        vertical-align: top;\n",
              "    }\n",
              "\n",
              "    .dataframe thead th {\n",
              "        text-align: right;\n",
              "    }\n",
              "</style>\n",
              "<table border=\"1\" class=\"dataframe\">\n",
              "  <thead>\n",
              "    <tr style=\"text-align: right;\">\n",
              "      <th></th>\n",
              "      <th>age</th>\n",
              "      <th>bmi</th>\n",
              "      <th>children</th>\n",
              "      <th>charges</th>\n",
              "      <th>sex_female</th>\n",
              "      <th>sex_male</th>\n",
              "      <th>smoker_no</th>\n",
              "      <th>smoker_yes</th>\n",
              "      <th>region_northeast</th>\n",
              "      <th>region_northwest</th>\n",
              "      <th>region_southeast</th>\n",
              "      <th>region_southwest</th>\n",
              "    </tr>\n",
              "  </thead>\n",
              "  <tbody>\n",
              "    <tr>\n",
              "      <th>0</th>\n",
              "      <td>19</td>\n",
              "      <td>27.900</td>\n",
              "      <td>0</td>\n",
              "      <td>16884.92400</td>\n",
              "      <td>1</td>\n",
              "      <td>0</td>\n",
              "      <td>0</td>\n",
              "      <td>1</td>\n",
              "      <td>0</td>\n",
              "      <td>0</td>\n",
              "      <td>0</td>\n",
              "      <td>1</td>\n",
              "    </tr>\n",
              "    <tr>\n",
              "      <th>1</th>\n",
              "      <td>18</td>\n",
              "      <td>33.770</td>\n",
              "      <td>1</td>\n",
              "      <td>1725.55230</td>\n",
              "      <td>0</td>\n",
              "      <td>1</td>\n",
              "      <td>1</td>\n",
              "      <td>0</td>\n",
              "      <td>0</td>\n",
              "      <td>0</td>\n",
              "      <td>1</td>\n",
              "      <td>0</td>\n",
              "    </tr>\n",
              "    <tr>\n",
              "      <th>2</th>\n",
              "      <td>28</td>\n",
              "      <td>33.000</td>\n",
              "      <td>3</td>\n",
              "      <td>4449.46200</td>\n",
              "      <td>0</td>\n",
              "      <td>1</td>\n",
              "      <td>1</td>\n",
              "      <td>0</td>\n",
              "      <td>0</td>\n",
              "      <td>0</td>\n",
              "      <td>1</td>\n",
              "      <td>0</td>\n",
              "    </tr>\n",
              "    <tr>\n",
              "      <th>3</th>\n",
              "      <td>33</td>\n",
              "      <td>22.705</td>\n",
              "      <td>0</td>\n",
              "      <td>21984.47061</td>\n",
              "      <td>0</td>\n",
              "      <td>1</td>\n",
              "      <td>1</td>\n",
              "      <td>0</td>\n",
              "      <td>0</td>\n",
              "      <td>1</td>\n",
              "      <td>0</td>\n",
              "      <td>0</td>\n",
              "    </tr>\n",
              "    <tr>\n",
              "      <th>4</th>\n",
              "      <td>32</td>\n",
              "      <td>28.880</td>\n",
              "      <td>0</td>\n",
              "      <td>3866.85520</td>\n",
              "      <td>0</td>\n",
              "      <td>1</td>\n",
              "      <td>1</td>\n",
              "      <td>0</td>\n",
              "      <td>0</td>\n",
              "      <td>1</td>\n",
              "      <td>0</td>\n",
              "      <td>0</td>\n",
              "    </tr>\n",
              "  </tbody>\n",
              "</table>\n",
              "</div>\n",
              "    <div class=\"colab-df-buttons\">\n",
              "\n",
              "  <div class=\"colab-df-container\">\n",
              "    <button class=\"colab-df-convert\" onclick=\"convertToInteractive('df-514f6a49-da03-41cb-bcda-0187e427b31f')\"\n",
              "            title=\"Convert this dataframe to an interactive table.\"\n",
              "            style=\"display:none;\">\n",
              "\n",
              "  <svg xmlns=\"http://www.w3.org/2000/svg\" height=\"24px\" viewBox=\"0 -960 960 960\">\n",
              "    <path d=\"M120-120v-720h720v720H120Zm60-500h600v-160H180v160Zm220 220h160v-160H400v160Zm0 220h160v-160H400v160ZM180-400h160v-160H180v160Zm440 0h160v-160H620v160ZM180-180h160v-160H180v160Zm440 0h160v-160H620v160Z\"/>\n",
              "  </svg>\n",
              "    </button>\n",
              "\n",
              "  <style>\n",
              "    .colab-df-container {\n",
              "      display:flex;\n",
              "      gap: 12px;\n",
              "    }\n",
              "\n",
              "    .colab-df-convert {\n",
              "      background-color: #E8F0FE;\n",
              "      border: none;\n",
              "      border-radius: 50%;\n",
              "      cursor: pointer;\n",
              "      display: none;\n",
              "      fill: #1967D2;\n",
              "      height: 32px;\n",
              "      padding: 0 0 0 0;\n",
              "      width: 32px;\n",
              "    }\n",
              "\n",
              "    .colab-df-convert:hover {\n",
              "      background-color: #E2EBFA;\n",
              "      box-shadow: 0px 1px 2px rgba(60, 64, 67, 0.3), 0px 1px 3px 1px rgba(60, 64, 67, 0.15);\n",
              "      fill: #174EA6;\n",
              "    }\n",
              "\n",
              "    .colab-df-buttons div {\n",
              "      margin-bottom: 4px;\n",
              "    }\n",
              "\n",
              "    [theme=dark] .colab-df-convert {\n",
              "      background-color: #3B4455;\n",
              "      fill: #D2E3FC;\n",
              "    }\n",
              "\n",
              "    [theme=dark] .colab-df-convert:hover {\n",
              "      background-color: #434B5C;\n",
              "      box-shadow: 0px 1px 3px 1px rgba(0, 0, 0, 0.15);\n",
              "      filter: drop-shadow(0px 1px 2px rgba(0, 0, 0, 0.3));\n",
              "      fill: #FFFFFF;\n",
              "    }\n",
              "  </style>\n",
              "\n",
              "    <script>\n",
              "      const buttonEl =\n",
              "        document.querySelector('#df-514f6a49-da03-41cb-bcda-0187e427b31f button.colab-df-convert');\n",
              "      buttonEl.style.display =\n",
              "        google.colab.kernel.accessAllowed ? 'block' : 'none';\n",
              "\n",
              "      async function convertToInteractive(key) {\n",
              "        const element = document.querySelector('#df-514f6a49-da03-41cb-bcda-0187e427b31f');\n",
              "        const dataTable =\n",
              "          await google.colab.kernel.invokeFunction('convertToInteractive',\n",
              "                                                    [key], {});\n",
              "        if (!dataTable) return;\n",
              "\n",
              "        const docLinkHtml = 'Like what you see? Visit the ' +\n",
              "          '<a target=\"_blank\" href=https://colab.research.google.com/notebooks/data_table.ipynb>data table notebook</a>'\n",
              "          + ' to learn more about interactive tables.';\n",
              "        element.innerHTML = '';\n",
              "        dataTable['output_type'] = 'display_data';\n",
              "        await google.colab.output.renderOutput(dataTable, element);\n",
              "        const docLink = document.createElement('div');\n",
              "        docLink.innerHTML = docLinkHtml;\n",
              "        element.appendChild(docLink);\n",
              "      }\n",
              "    </script>\n",
              "  </div>\n",
              "\n",
              "\n",
              "<div id=\"df-5cda07ac-fdf6-446a-a737-a0e6442d130d\">\n",
              "  <button class=\"colab-df-quickchart\" onclick=\"quickchart('df-5cda07ac-fdf6-446a-a737-a0e6442d130d')\"\n",
              "            title=\"Suggest charts\"\n",
              "            style=\"display:none;\">\n",
              "\n",
              "<svg xmlns=\"http://www.w3.org/2000/svg\" height=\"24px\"viewBox=\"0 0 24 24\"\n",
              "     width=\"24px\">\n",
              "    <g>\n",
              "        <path d=\"M19 3H5c-1.1 0-2 .9-2 2v14c0 1.1.9 2 2 2h14c1.1 0 2-.9 2-2V5c0-1.1-.9-2-2-2zM9 17H7v-7h2v7zm4 0h-2V7h2v10zm4 0h-2v-4h2v4z\"/>\n",
              "    </g>\n",
              "</svg>\n",
              "  </button>\n",
              "\n",
              "<style>\n",
              "  .colab-df-quickchart {\n",
              "      --bg-color: #E8F0FE;\n",
              "      --fill-color: #1967D2;\n",
              "      --hover-bg-color: #E2EBFA;\n",
              "      --hover-fill-color: #174EA6;\n",
              "      --disabled-fill-color: #AAA;\n",
              "      --disabled-bg-color: #DDD;\n",
              "  }\n",
              "\n",
              "  [theme=dark] .colab-df-quickchart {\n",
              "      --bg-color: #3B4455;\n",
              "      --fill-color: #D2E3FC;\n",
              "      --hover-bg-color: #434B5C;\n",
              "      --hover-fill-color: #FFFFFF;\n",
              "      --disabled-bg-color: #3B4455;\n",
              "      --disabled-fill-color: #666;\n",
              "  }\n",
              "\n",
              "  .colab-df-quickchart {\n",
              "    background-color: var(--bg-color);\n",
              "    border: none;\n",
              "    border-radius: 50%;\n",
              "    cursor: pointer;\n",
              "    display: none;\n",
              "    fill: var(--fill-color);\n",
              "    height: 32px;\n",
              "    padding: 0;\n",
              "    width: 32px;\n",
              "  }\n",
              "\n",
              "  .colab-df-quickchart:hover {\n",
              "    background-color: var(--hover-bg-color);\n",
              "    box-shadow: 0 1px 2px rgba(60, 64, 67, 0.3), 0 1px 3px 1px rgba(60, 64, 67, 0.15);\n",
              "    fill: var(--button-hover-fill-color);\n",
              "  }\n",
              "\n",
              "  .colab-df-quickchart-complete:disabled,\n",
              "  .colab-df-quickchart-complete:disabled:hover {\n",
              "    background-color: var(--disabled-bg-color);\n",
              "    fill: var(--disabled-fill-color);\n",
              "    box-shadow: none;\n",
              "  }\n",
              "\n",
              "  .colab-df-spinner {\n",
              "    border: 2px solid var(--fill-color);\n",
              "    border-color: transparent;\n",
              "    border-bottom-color: var(--fill-color);\n",
              "    animation:\n",
              "      spin 1s steps(1) infinite;\n",
              "  }\n",
              "\n",
              "  @keyframes spin {\n",
              "    0% {\n",
              "      border-color: transparent;\n",
              "      border-bottom-color: var(--fill-color);\n",
              "      border-left-color: var(--fill-color);\n",
              "    }\n",
              "    20% {\n",
              "      border-color: transparent;\n",
              "      border-left-color: var(--fill-color);\n",
              "      border-top-color: var(--fill-color);\n",
              "    }\n",
              "    30% {\n",
              "      border-color: transparent;\n",
              "      border-left-color: var(--fill-color);\n",
              "      border-top-color: var(--fill-color);\n",
              "      border-right-color: var(--fill-color);\n",
              "    }\n",
              "    40% {\n",
              "      border-color: transparent;\n",
              "      border-right-color: var(--fill-color);\n",
              "      border-top-color: var(--fill-color);\n",
              "    }\n",
              "    60% {\n",
              "      border-color: transparent;\n",
              "      border-right-color: var(--fill-color);\n",
              "    }\n",
              "    80% {\n",
              "      border-color: transparent;\n",
              "      border-right-color: var(--fill-color);\n",
              "      border-bottom-color: var(--fill-color);\n",
              "    }\n",
              "    90% {\n",
              "      border-color: transparent;\n",
              "      border-bottom-color: var(--fill-color);\n",
              "    }\n",
              "  }\n",
              "</style>\n",
              "\n",
              "  <script>\n",
              "    async function quickchart(key) {\n",
              "      const quickchartButtonEl =\n",
              "        document.querySelector('#' + key + ' button');\n",
              "      quickchartButtonEl.disabled = true;  // To prevent multiple clicks.\n",
              "      quickchartButtonEl.classList.add('colab-df-spinner');\n",
              "      try {\n",
              "        const charts = await google.colab.kernel.invokeFunction(\n",
              "            'suggestCharts', [key], {});\n",
              "      } catch (error) {\n",
              "        console.error('Error during call to suggestCharts:', error);\n",
              "      }\n",
              "      quickchartButtonEl.classList.remove('colab-df-spinner');\n",
              "      quickchartButtonEl.classList.add('colab-df-quickchart-complete');\n",
              "    }\n",
              "    (() => {\n",
              "      let quickchartButtonEl =\n",
              "        document.querySelector('#df-5cda07ac-fdf6-446a-a737-a0e6442d130d button');\n",
              "      quickchartButtonEl.style.display =\n",
              "        google.colab.kernel.accessAllowed ? 'block' : 'none';\n",
              "    })();\n",
              "  </script>\n",
              "</div>\n",
              "    </div>\n",
              "  </div>\n"
            ],
            "application/vnd.google.colaboratory.intrinsic+json": {
              "type": "dataframe",
              "variable_name": "insurance_one_hot",
              "summary": "{\n  \"name\": \"insurance_one_hot\",\n  \"rows\": 1338,\n  \"fields\": [\n    {\n      \"column\": \"age\",\n      \"properties\": {\n        \"dtype\": \"number\",\n        \"std\": 14,\n        \"min\": 18,\n        \"max\": 64,\n        \"num_unique_values\": 47,\n        \"samples\": [\n          21,\n          45,\n          36\n        ],\n        \"semantic_type\": \"\",\n        \"description\": \"\"\n      }\n    },\n    {\n      \"column\": \"bmi\",\n      \"properties\": {\n        \"dtype\": \"number\",\n        \"std\": 6.098186911679014,\n        \"min\": 15.96,\n        \"max\": 53.13,\n        \"num_unique_values\": 548,\n        \"samples\": [\n          23.18,\n          26.885,\n          29.26\n        ],\n        \"semantic_type\": \"\",\n        \"description\": \"\"\n      }\n    },\n    {\n      \"column\": \"children\",\n      \"properties\": {\n        \"dtype\": \"number\",\n        \"std\": 1,\n        \"min\": 0,\n        \"max\": 5,\n        \"num_unique_values\": 6,\n        \"samples\": [\n          0,\n          1,\n          4\n        ],\n        \"semantic_type\": \"\",\n        \"description\": \"\"\n      }\n    },\n    {\n      \"column\": \"charges\",\n      \"properties\": {\n        \"dtype\": \"number\",\n        \"std\": 12110.011236694001,\n        \"min\": 1121.8739,\n        \"max\": 63770.42801,\n        \"num_unique_values\": 1337,\n        \"samples\": [\n          8688.85885,\n          5708.867,\n          11436.73815\n        ],\n        \"semantic_type\": \"\",\n        \"description\": \"\"\n      }\n    },\n    {\n      \"column\": \"sex_female\",\n      \"properties\": {\n        \"dtype\": \"uint8\",\n        \"num_unique_values\": 2,\n        \"samples\": [\n          0,\n          1\n        ],\n        \"semantic_type\": \"\",\n        \"description\": \"\"\n      }\n    },\n    {\n      \"column\": \"sex_male\",\n      \"properties\": {\n        \"dtype\": \"uint8\",\n        \"num_unique_values\": 2,\n        \"samples\": [\n          1,\n          0\n        ],\n        \"semantic_type\": \"\",\n        \"description\": \"\"\n      }\n    },\n    {\n      \"column\": \"smoker_no\",\n      \"properties\": {\n        \"dtype\": \"uint8\",\n        \"num_unique_values\": 2,\n        \"samples\": [\n          1,\n          0\n        ],\n        \"semantic_type\": \"\",\n        \"description\": \"\"\n      }\n    },\n    {\n      \"column\": \"smoker_yes\",\n      \"properties\": {\n        \"dtype\": \"uint8\",\n        \"num_unique_values\": 2,\n        \"samples\": [\n          0,\n          1\n        ],\n        \"semantic_type\": \"\",\n        \"description\": \"\"\n      }\n    },\n    {\n      \"column\": \"region_northeast\",\n      \"properties\": {\n        \"dtype\": \"uint8\",\n        \"num_unique_values\": 2,\n        \"samples\": [\n          1,\n          0\n        ],\n        \"semantic_type\": \"\",\n        \"description\": \"\"\n      }\n    },\n    {\n      \"column\": \"region_northwest\",\n      \"properties\": {\n        \"dtype\": \"uint8\",\n        \"num_unique_values\": 2,\n        \"samples\": [\n          1,\n          0\n        ],\n        \"semantic_type\": \"\",\n        \"description\": \"\"\n      }\n    },\n    {\n      \"column\": \"region_southeast\",\n      \"properties\": {\n        \"dtype\": \"uint8\",\n        \"num_unique_values\": 2,\n        \"samples\": [\n          1,\n          0\n        ],\n        \"semantic_type\": \"\",\n        \"description\": \"\"\n      }\n    },\n    {\n      \"column\": \"region_southwest\",\n      \"properties\": {\n        \"dtype\": \"uint8\",\n        \"num_unique_values\": 2,\n        \"samples\": [\n          0,\n          1\n        ],\n        \"semantic_type\": \"\",\n        \"description\": \"\"\n      }\n    }\n  ]\n}"
            }
          },
          "metadata": {},
          "execution_count": 80
        }
      ]
    },
    {
      "cell_type": "markdown",
      "source": [
        "### Create X & Y Values (Features and labels)"
      ],
      "metadata": {
        "id": "O2wYeWe3p51_"
      }
    },
    {
      "cell_type": "code",
      "source": [
        "# Create X and Y\n",
        "x = insurance_one_hot.drop(\"charges\", axis=1)\n",
        "y = insurance_one_hot[\"charges\"]"
      ],
      "metadata": {
        "id": "lL96lpLTpqds"
      },
      "execution_count": null,
      "outputs": []
    },
    {
      "cell_type": "code",
      "source": [
        "# view x\n",
        "x.head()"
      ],
      "metadata": {
        "colab": {
          "base_uri": "https://localhost:8080/",
          "height": 226
        },
        "id": "kg7Hm_PdRVv-",
        "outputId": "5cf46eeb-efeb-480c-a11d-bcb3ee08cd1f"
      },
      "execution_count": null,
      "outputs": [
        {
          "output_type": "execute_result",
          "data": {
            "text/plain": [
              "   age     bmi  children  sex_female  sex_male  smoker_no  smoker_yes  \\\n",
              "0   19  27.900         0           1         0          0           1   \n",
              "1   18  33.770         1           0         1          1           0   \n",
              "2   28  33.000         3           0         1          1           0   \n",
              "3   33  22.705         0           0         1          1           0   \n",
              "4   32  28.880         0           0         1          1           0   \n",
              "\n",
              "   region_northeast  region_northwest  region_southeast  region_southwest  \n",
              "0                 0                 0                 0                 1  \n",
              "1                 0                 0                 1                 0  \n",
              "2                 0                 0                 1                 0  \n",
              "3                 0                 1                 0                 0  \n",
              "4                 0                 1                 0                 0  "
            ],
            "text/html": [
              "\n",
              "  <div id=\"df-3f9f94c8-fcdd-4edd-b773-6a3f0a4f3d14\" class=\"colab-df-container\">\n",
              "    <div>\n",
              "<style scoped>\n",
              "    .dataframe tbody tr th:only-of-type {\n",
              "        vertical-align: middle;\n",
              "    }\n",
              "\n",
              "    .dataframe tbody tr th {\n",
              "        vertical-align: top;\n",
              "    }\n",
              "\n",
              "    .dataframe thead th {\n",
              "        text-align: right;\n",
              "    }\n",
              "</style>\n",
              "<table border=\"1\" class=\"dataframe\">\n",
              "  <thead>\n",
              "    <tr style=\"text-align: right;\">\n",
              "      <th></th>\n",
              "      <th>age</th>\n",
              "      <th>bmi</th>\n",
              "      <th>children</th>\n",
              "      <th>sex_female</th>\n",
              "      <th>sex_male</th>\n",
              "      <th>smoker_no</th>\n",
              "      <th>smoker_yes</th>\n",
              "      <th>region_northeast</th>\n",
              "      <th>region_northwest</th>\n",
              "      <th>region_southeast</th>\n",
              "      <th>region_southwest</th>\n",
              "    </tr>\n",
              "  </thead>\n",
              "  <tbody>\n",
              "    <tr>\n",
              "      <th>0</th>\n",
              "      <td>19</td>\n",
              "      <td>27.900</td>\n",
              "      <td>0</td>\n",
              "      <td>1</td>\n",
              "      <td>0</td>\n",
              "      <td>0</td>\n",
              "      <td>1</td>\n",
              "      <td>0</td>\n",
              "      <td>0</td>\n",
              "      <td>0</td>\n",
              "      <td>1</td>\n",
              "    </tr>\n",
              "    <tr>\n",
              "      <th>1</th>\n",
              "      <td>18</td>\n",
              "      <td>33.770</td>\n",
              "      <td>1</td>\n",
              "      <td>0</td>\n",
              "      <td>1</td>\n",
              "      <td>1</td>\n",
              "      <td>0</td>\n",
              "      <td>0</td>\n",
              "      <td>0</td>\n",
              "      <td>1</td>\n",
              "      <td>0</td>\n",
              "    </tr>\n",
              "    <tr>\n",
              "      <th>2</th>\n",
              "      <td>28</td>\n",
              "      <td>33.000</td>\n",
              "      <td>3</td>\n",
              "      <td>0</td>\n",
              "      <td>1</td>\n",
              "      <td>1</td>\n",
              "      <td>0</td>\n",
              "      <td>0</td>\n",
              "      <td>0</td>\n",
              "      <td>1</td>\n",
              "      <td>0</td>\n",
              "    </tr>\n",
              "    <tr>\n",
              "      <th>3</th>\n",
              "      <td>33</td>\n",
              "      <td>22.705</td>\n",
              "      <td>0</td>\n",
              "      <td>0</td>\n",
              "      <td>1</td>\n",
              "      <td>1</td>\n",
              "      <td>0</td>\n",
              "      <td>0</td>\n",
              "      <td>1</td>\n",
              "      <td>0</td>\n",
              "      <td>0</td>\n",
              "    </tr>\n",
              "    <tr>\n",
              "      <th>4</th>\n",
              "      <td>32</td>\n",
              "      <td>28.880</td>\n",
              "      <td>0</td>\n",
              "      <td>0</td>\n",
              "      <td>1</td>\n",
              "      <td>1</td>\n",
              "      <td>0</td>\n",
              "      <td>0</td>\n",
              "      <td>1</td>\n",
              "      <td>0</td>\n",
              "      <td>0</td>\n",
              "    </tr>\n",
              "  </tbody>\n",
              "</table>\n",
              "</div>\n",
              "    <div class=\"colab-df-buttons\">\n",
              "\n",
              "  <div class=\"colab-df-container\">\n",
              "    <button class=\"colab-df-convert\" onclick=\"convertToInteractive('df-3f9f94c8-fcdd-4edd-b773-6a3f0a4f3d14')\"\n",
              "            title=\"Convert this dataframe to an interactive table.\"\n",
              "            style=\"display:none;\">\n",
              "\n",
              "  <svg xmlns=\"http://www.w3.org/2000/svg\" height=\"24px\" viewBox=\"0 -960 960 960\">\n",
              "    <path d=\"M120-120v-720h720v720H120Zm60-500h600v-160H180v160Zm220 220h160v-160H400v160Zm0 220h160v-160H400v160ZM180-400h160v-160H180v160Zm440 0h160v-160H620v160ZM180-180h160v-160H180v160Zm440 0h160v-160H620v160Z\"/>\n",
              "  </svg>\n",
              "    </button>\n",
              "\n",
              "  <style>\n",
              "    .colab-df-container {\n",
              "      display:flex;\n",
              "      gap: 12px;\n",
              "    }\n",
              "\n",
              "    .colab-df-convert {\n",
              "      background-color: #E8F0FE;\n",
              "      border: none;\n",
              "      border-radius: 50%;\n",
              "      cursor: pointer;\n",
              "      display: none;\n",
              "      fill: #1967D2;\n",
              "      height: 32px;\n",
              "      padding: 0 0 0 0;\n",
              "      width: 32px;\n",
              "    }\n",
              "\n",
              "    .colab-df-convert:hover {\n",
              "      background-color: #E2EBFA;\n",
              "      box-shadow: 0px 1px 2px rgba(60, 64, 67, 0.3), 0px 1px 3px 1px rgba(60, 64, 67, 0.15);\n",
              "      fill: #174EA6;\n",
              "    }\n",
              "\n",
              "    .colab-df-buttons div {\n",
              "      margin-bottom: 4px;\n",
              "    }\n",
              "\n",
              "    [theme=dark] .colab-df-convert {\n",
              "      background-color: #3B4455;\n",
              "      fill: #D2E3FC;\n",
              "    }\n",
              "\n",
              "    [theme=dark] .colab-df-convert:hover {\n",
              "      background-color: #434B5C;\n",
              "      box-shadow: 0px 1px 3px 1px rgba(0, 0, 0, 0.15);\n",
              "      filter: drop-shadow(0px 1px 2px rgba(0, 0, 0, 0.3));\n",
              "      fill: #FFFFFF;\n",
              "    }\n",
              "  </style>\n",
              "\n",
              "    <script>\n",
              "      const buttonEl =\n",
              "        document.querySelector('#df-3f9f94c8-fcdd-4edd-b773-6a3f0a4f3d14 button.colab-df-convert');\n",
              "      buttonEl.style.display =\n",
              "        google.colab.kernel.accessAllowed ? 'block' : 'none';\n",
              "\n",
              "      async function convertToInteractive(key) {\n",
              "        const element = document.querySelector('#df-3f9f94c8-fcdd-4edd-b773-6a3f0a4f3d14');\n",
              "        const dataTable =\n",
              "          await google.colab.kernel.invokeFunction('convertToInteractive',\n",
              "                                                    [key], {});\n",
              "        if (!dataTable) return;\n",
              "\n",
              "        const docLinkHtml = 'Like what you see? Visit the ' +\n",
              "          '<a target=\"_blank\" href=https://colab.research.google.com/notebooks/data_table.ipynb>data table notebook</a>'\n",
              "          + ' to learn more about interactive tables.';\n",
              "        element.innerHTML = '';\n",
              "        dataTable['output_type'] = 'display_data';\n",
              "        await google.colab.output.renderOutput(dataTable, element);\n",
              "        const docLink = document.createElement('div');\n",
              "        docLink.innerHTML = docLinkHtml;\n",
              "        element.appendChild(docLink);\n",
              "      }\n",
              "    </script>\n",
              "  </div>\n",
              "\n",
              "\n",
              "<div id=\"df-4bfcec71-29fb-4408-96ba-b61e3be70410\">\n",
              "  <button class=\"colab-df-quickchart\" onclick=\"quickchart('df-4bfcec71-29fb-4408-96ba-b61e3be70410')\"\n",
              "            title=\"Suggest charts\"\n",
              "            style=\"display:none;\">\n",
              "\n",
              "<svg xmlns=\"http://www.w3.org/2000/svg\" height=\"24px\"viewBox=\"0 0 24 24\"\n",
              "     width=\"24px\">\n",
              "    <g>\n",
              "        <path d=\"M19 3H5c-1.1 0-2 .9-2 2v14c0 1.1.9 2 2 2h14c1.1 0 2-.9 2-2V5c0-1.1-.9-2-2-2zM9 17H7v-7h2v7zm4 0h-2V7h2v10zm4 0h-2v-4h2v4z\"/>\n",
              "    </g>\n",
              "</svg>\n",
              "  </button>\n",
              "\n",
              "<style>\n",
              "  .colab-df-quickchart {\n",
              "      --bg-color: #E8F0FE;\n",
              "      --fill-color: #1967D2;\n",
              "      --hover-bg-color: #E2EBFA;\n",
              "      --hover-fill-color: #174EA6;\n",
              "      --disabled-fill-color: #AAA;\n",
              "      --disabled-bg-color: #DDD;\n",
              "  }\n",
              "\n",
              "  [theme=dark] .colab-df-quickchart {\n",
              "      --bg-color: #3B4455;\n",
              "      --fill-color: #D2E3FC;\n",
              "      --hover-bg-color: #434B5C;\n",
              "      --hover-fill-color: #FFFFFF;\n",
              "      --disabled-bg-color: #3B4455;\n",
              "      --disabled-fill-color: #666;\n",
              "  }\n",
              "\n",
              "  .colab-df-quickchart {\n",
              "    background-color: var(--bg-color);\n",
              "    border: none;\n",
              "    border-radius: 50%;\n",
              "    cursor: pointer;\n",
              "    display: none;\n",
              "    fill: var(--fill-color);\n",
              "    height: 32px;\n",
              "    padding: 0;\n",
              "    width: 32px;\n",
              "  }\n",
              "\n",
              "  .colab-df-quickchart:hover {\n",
              "    background-color: var(--hover-bg-color);\n",
              "    box-shadow: 0 1px 2px rgba(60, 64, 67, 0.3), 0 1px 3px 1px rgba(60, 64, 67, 0.15);\n",
              "    fill: var(--button-hover-fill-color);\n",
              "  }\n",
              "\n",
              "  .colab-df-quickchart-complete:disabled,\n",
              "  .colab-df-quickchart-complete:disabled:hover {\n",
              "    background-color: var(--disabled-bg-color);\n",
              "    fill: var(--disabled-fill-color);\n",
              "    box-shadow: none;\n",
              "  }\n",
              "\n",
              "  .colab-df-spinner {\n",
              "    border: 2px solid var(--fill-color);\n",
              "    border-color: transparent;\n",
              "    border-bottom-color: var(--fill-color);\n",
              "    animation:\n",
              "      spin 1s steps(1) infinite;\n",
              "  }\n",
              "\n",
              "  @keyframes spin {\n",
              "    0% {\n",
              "      border-color: transparent;\n",
              "      border-bottom-color: var(--fill-color);\n",
              "      border-left-color: var(--fill-color);\n",
              "    }\n",
              "    20% {\n",
              "      border-color: transparent;\n",
              "      border-left-color: var(--fill-color);\n",
              "      border-top-color: var(--fill-color);\n",
              "    }\n",
              "    30% {\n",
              "      border-color: transparent;\n",
              "      border-left-color: var(--fill-color);\n",
              "      border-top-color: var(--fill-color);\n",
              "      border-right-color: var(--fill-color);\n",
              "    }\n",
              "    40% {\n",
              "      border-color: transparent;\n",
              "      border-right-color: var(--fill-color);\n",
              "      border-top-color: var(--fill-color);\n",
              "    }\n",
              "    60% {\n",
              "      border-color: transparent;\n",
              "      border-right-color: var(--fill-color);\n",
              "    }\n",
              "    80% {\n",
              "      border-color: transparent;\n",
              "      border-right-color: var(--fill-color);\n",
              "      border-bottom-color: var(--fill-color);\n",
              "    }\n",
              "    90% {\n",
              "      border-color: transparent;\n",
              "      border-bottom-color: var(--fill-color);\n",
              "    }\n",
              "  }\n",
              "</style>\n",
              "\n",
              "  <script>\n",
              "    async function quickchart(key) {\n",
              "      const quickchartButtonEl =\n",
              "        document.querySelector('#' + key + ' button');\n",
              "      quickchartButtonEl.disabled = true;  // To prevent multiple clicks.\n",
              "      quickchartButtonEl.classList.add('colab-df-spinner');\n",
              "      try {\n",
              "        const charts = await google.colab.kernel.invokeFunction(\n",
              "            'suggestCharts', [key], {});\n",
              "      } catch (error) {\n",
              "        console.error('Error during call to suggestCharts:', error);\n",
              "      }\n",
              "      quickchartButtonEl.classList.remove('colab-df-spinner');\n",
              "      quickchartButtonEl.classList.add('colab-df-quickchart-complete');\n",
              "    }\n",
              "    (() => {\n",
              "      let quickchartButtonEl =\n",
              "        document.querySelector('#df-4bfcec71-29fb-4408-96ba-b61e3be70410 button');\n",
              "      quickchartButtonEl.style.display =\n",
              "        google.colab.kernel.accessAllowed ? 'block' : 'none';\n",
              "    })();\n",
              "  </script>\n",
              "</div>\n",
              "    </div>\n",
              "  </div>\n"
            ],
            "application/vnd.google.colaboratory.intrinsic+json": {
              "type": "dataframe",
              "variable_name": "x",
              "summary": "{\n  \"name\": \"x\",\n  \"rows\": 1338,\n  \"fields\": [\n    {\n      \"column\": \"age\",\n      \"properties\": {\n        \"dtype\": \"number\",\n        \"std\": 14,\n        \"min\": 18,\n        \"max\": 64,\n        \"num_unique_values\": 47,\n        \"samples\": [\n          21,\n          45,\n          36\n        ],\n        \"semantic_type\": \"\",\n        \"description\": \"\"\n      }\n    },\n    {\n      \"column\": \"bmi\",\n      \"properties\": {\n        \"dtype\": \"number\",\n        \"std\": 6.098186911679014,\n        \"min\": 15.96,\n        \"max\": 53.13,\n        \"num_unique_values\": 548,\n        \"samples\": [\n          23.18,\n          26.885,\n          29.26\n        ],\n        \"semantic_type\": \"\",\n        \"description\": \"\"\n      }\n    },\n    {\n      \"column\": \"children\",\n      \"properties\": {\n        \"dtype\": \"number\",\n        \"std\": 1,\n        \"min\": 0,\n        \"max\": 5,\n        \"num_unique_values\": 6,\n        \"samples\": [\n          0,\n          1,\n          4\n        ],\n        \"semantic_type\": \"\",\n        \"description\": \"\"\n      }\n    },\n    {\n      \"column\": \"sex_female\",\n      \"properties\": {\n        \"dtype\": \"uint8\",\n        \"num_unique_values\": 2,\n        \"samples\": [\n          0,\n          1\n        ],\n        \"semantic_type\": \"\",\n        \"description\": \"\"\n      }\n    },\n    {\n      \"column\": \"sex_male\",\n      \"properties\": {\n        \"dtype\": \"uint8\",\n        \"num_unique_values\": 2,\n        \"samples\": [\n          1,\n          0\n        ],\n        \"semantic_type\": \"\",\n        \"description\": \"\"\n      }\n    },\n    {\n      \"column\": \"smoker_no\",\n      \"properties\": {\n        \"dtype\": \"uint8\",\n        \"num_unique_values\": 2,\n        \"samples\": [\n          1,\n          0\n        ],\n        \"semantic_type\": \"\",\n        \"description\": \"\"\n      }\n    },\n    {\n      \"column\": \"smoker_yes\",\n      \"properties\": {\n        \"dtype\": \"uint8\",\n        \"num_unique_values\": 2,\n        \"samples\": [\n          0,\n          1\n        ],\n        \"semantic_type\": \"\",\n        \"description\": \"\"\n      }\n    },\n    {\n      \"column\": \"region_northeast\",\n      \"properties\": {\n        \"dtype\": \"uint8\",\n        \"num_unique_values\": 2,\n        \"samples\": [\n          1,\n          0\n        ],\n        \"semantic_type\": \"\",\n        \"description\": \"\"\n      }\n    },\n    {\n      \"column\": \"region_northwest\",\n      \"properties\": {\n        \"dtype\": \"uint8\",\n        \"num_unique_values\": 2,\n        \"samples\": [\n          1,\n          0\n        ],\n        \"semantic_type\": \"\",\n        \"description\": \"\"\n      }\n    },\n    {\n      \"column\": \"region_southeast\",\n      \"properties\": {\n        \"dtype\": \"uint8\",\n        \"num_unique_values\": 2,\n        \"samples\": [\n          1,\n          0\n        ],\n        \"semantic_type\": \"\",\n        \"description\": \"\"\n      }\n    },\n    {\n      \"column\": \"region_southwest\",\n      \"properties\": {\n        \"dtype\": \"uint8\",\n        \"num_unique_values\": 2,\n        \"samples\": [\n          0,\n          1\n        ],\n        \"semantic_type\": \"\",\n        \"description\": \"\"\n      }\n    }\n  ]\n}"
            }
          },
          "metadata": {},
          "execution_count": 82
        }
      ]
    },
    {
      "cell_type": "code",
      "source": [
        "# view y\n",
        "y.head()"
      ],
      "metadata": {
        "colab": {
          "base_uri": "https://localhost:8080/"
        },
        "id": "sU6fprWLRol2",
        "outputId": "9f09ddcf-c1bc-4aac-c003-376ef09d374b"
      },
      "execution_count": null,
      "outputs": [
        {
          "output_type": "execute_result",
          "data": {
            "text/plain": [
              "0    16884.92400\n",
              "1     1725.55230\n",
              "2     4449.46200\n",
              "3    21984.47061\n",
              "4     3866.85520\n",
              "Name: charges, dtype: float64"
            ]
          },
          "metadata": {},
          "execution_count": 83
        }
      ]
    },
    {
      "cell_type": "code",
      "source": [
        "# Create training and test sets\n",
        "\n",
        "from sklearn.model_selection import train_test_split\n",
        "\n",
        "x_train, x_test, y_train, y_test = train_test_split(x, y,test_size=0.2, random_state=42)\n",
        "len(x), len(x_train), len(x_test)\n"
      ],
      "metadata": {
        "colab": {
          "base_uri": "https://localhost:8080/"
        },
        "id": "S1784bQaXLGY",
        "outputId": "f7d50f2e-007c-4437-984b-2de75e99b66a"
      },
      "execution_count": null,
      "outputs": [
        {
          "output_type": "execute_result",
          "data": {
            "text/plain": [
              "(1338, 1070, 268)"
            ]
          },
          "metadata": {},
          "execution_count": 84
        }
      ]
    },
    {
      "cell_type": "code",
      "source": [
        "x_train"
      ],
      "metadata": {
        "colab": {
          "base_uri": "https://localhost:8080/",
          "height": 444
        },
        "id": "d5gYWBwAYb9E",
        "outputId": "1f0a139b-2b28-4c1d-a2d0-3d66be1f92ef"
      },
      "execution_count": null,
      "outputs": [
        {
          "output_type": "execute_result",
          "data": {
            "text/plain": [
              "      age     bmi  children  sex_female  sex_male  smoker_no  smoker_yes  \\\n",
              "560    46  19.950         2           1         0          1           0   \n",
              "1285   47  24.320         0           1         0          1           0   \n",
              "1142   52  24.860         0           1         0          1           0   \n",
              "969    39  34.320         5           1         0          1           0   \n",
              "486    54  21.470         3           1         0          1           0   \n",
              "...   ...     ...       ...         ...       ...        ...         ...   \n",
              "1095   18  31.350         4           1         0          1           0   \n",
              "1130   39  23.870         5           1         0          1           0   \n",
              "1294   58  25.175         0           0         1          1           0   \n",
              "860    37  47.600         2           1         0          0           1   \n",
              "1126   55  29.900         0           0         1          1           0   \n",
              "\n",
              "      region_northeast  region_northwest  region_southeast  region_southwest  \n",
              "560                  0                 1                 0                 0  \n",
              "1285                 1                 0                 0                 0  \n",
              "1142                 0                 0                 1                 0  \n",
              "969                  0                 0                 1                 0  \n",
              "486                  0                 1                 0                 0  \n",
              "...                ...               ...               ...               ...  \n",
              "1095                 1                 0                 0                 0  \n",
              "1130                 0                 0                 1                 0  \n",
              "1294                 1                 0                 0                 0  \n",
              "860                  0                 0                 0                 1  \n",
              "1126                 0                 0                 0                 1  \n",
              "\n",
              "[1070 rows x 11 columns]"
            ],
            "text/html": [
              "\n",
              "  <div id=\"df-c846ebab-a627-4174-842f-25286fc3f513\" class=\"colab-df-container\">\n",
              "    <div>\n",
              "<style scoped>\n",
              "    .dataframe tbody tr th:only-of-type {\n",
              "        vertical-align: middle;\n",
              "    }\n",
              "\n",
              "    .dataframe tbody tr th {\n",
              "        vertical-align: top;\n",
              "    }\n",
              "\n",
              "    .dataframe thead th {\n",
              "        text-align: right;\n",
              "    }\n",
              "</style>\n",
              "<table border=\"1\" class=\"dataframe\">\n",
              "  <thead>\n",
              "    <tr style=\"text-align: right;\">\n",
              "      <th></th>\n",
              "      <th>age</th>\n",
              "      <th>bmi</th>\n",
              "      <th>children</th>\n",
              "      <th>sex_female</th>\n",
              "      <th>sex_male</th>\n",
              "      <th>smoker_no</th>\n",
              "      <th>smoker_yes</th>\n",
              "      <th>region_northeast</th>\n",
              "      <th>region_northwest</th>\n",
              "      <th>region_southeast</th>\n",
              "      <th>region_southwest</th>\n",
              "    </tr>\n",
              "  </thead>\n",
              "  <tbody>\n",
              "    <tr>\n",
              "      <th>560</th>\n",
              "      <td>46</td>\n",
              "      <td>19.950</td>\n",
              "      <td>2</td>\n",
              "      <td>1</td>\n",
              "      <td>0</td>\n",
              "      <td>1</td>\n",
              "      <td>0</td>\n",
              "      <td>0</td>\n",
              "      <td>1</td>\n",
              "      <td>0</td>\n",
              "      <td>0</td>\n",
              "    </tr>\n",
              "    <tr>\n",
              "      <th>1285</th>\n",
              "      <td>47</td>\n",
              "      <td>24.320</td>\n",
              "      <td>0</td>\n",
              "      <td>1</td>\n",
              "      <td>0</td>\n",
              "      <td>1</td>\n",
              "      <td>0</td>\n",
              "      <td>1</td>\n",
              "      <td>0</td>\n",
              "      <td>0</td>\n",
              "      <td>0</td>\n",
              "    </tr>\n",
              "    <tr>\n",
              "      <th>1142</th>\n",
              "      <td>52</td>\n",
              "      <td>24.860</td>\n",
              "      <td>0</td>\n",
              "      <td>1</td>\n",
              "      <td>0</td>\n",
              "      <td>1</td>\n",
              "      <td>0</td>\n",
              "      <td>0</td>\n",
              "      <td>0</td>\n",
              "      <td>1</td>\n",
              "      <td>0</td>\n",
              "    </tr>\n",
              "    <tr>\n",
              "      <th>969</th>\n",
              "      <td>39</td>\n",
              "      <td>34.320</td>\n",
              "      <td>5</td>\n",
              "      <td>1</td>\n",
              "      <td>0</td>\n",
              "      <td>1</td>\n",
              "      <td>0</td>\n",
              "      <td>0</td>\n",
              "      <td>0</td>\n",
              "      <td>1</td>\n",
              "      <td>0</td>\n",
              "    </tr>\n",
              "    <tr>\n",
              "      <th>486</th>\n",
              "      <td>54</td>\n",
              "      <td>21.470</td>\n",
              "      <td>3</td>\n",
              "      <td>1</td>\n",
              "      <td>0</td>\n",
              "      <td>1</td>\n",
              "      <td>0</td>\n",
              "      <td>0</td>\n",
              "      <td>1</td>\n",
              "      <td>0</td>\n",
              "      <td>0</td>\n",
              "    </tr>\n",
              "    <tr>\n",
              "      <th>...</th>\n",
              "      <td>...</td>\n",
              "      <td>...</td>\n",
              "      <td>...</td>\n",
              "      <td>...</td>\n",
              "      <td>...</td>\n",
              "      <td>...</td>\n",
              "      <td>...</td>\n",
              "      <td>...</td>\n",
              "      <td>...</td>\n",
              "      <td>...</td>\n",
              "      <td>...</td>\n",
              "    </tr>\n",
              "    <tr>\n",
              "      <th>1095</th>\n",
              "      <td>18</td>\n",
              "      <td>31.350</td>\n",
              "      <td>4</td>\n",
              "      <td>1</td>\n",
              "      <td>0</td>\n",
              "      <td>1</td>\n",
              "      <td>0</td>\n",
              "      <td>1</td>\n",
              "      <td>0</td>\n",
              "      <td>0</td>\n",
              "      <td>0</td>\n",
              "    </tr>\n",
              "    <tr>\n",
              "      <th>1130</th>\n",
              "      <td>39</td>\n",
              "      <td>23.870</td>\n",
              "      <td>5</td>\n",
              "      <td>1</td>\n",
              "      <td>0</td>\n",
              "      <td>1</td>\n",
              "      <td>0</td>\n",
              "      <td>0</td>\n",
              "      <td>0</td>\n",
              "      <td>1</td>\n",
              "      <td>0</td>\n",
              "    </tr>\n",
              "    <tr>\n",
              "      <th>1294</th>\n",
              "      <td>58</td>\n",
              "      <td>25.175</td>\n",
              "      <td>0</td>\n",
              "      <td>0</td>\n",
              "      <td>1</td>\n",
              "      <td>1</td>\n",
              "      <td>0</td>\n",
              "      <td>1</td>\n",
              "      <td>0</td>\n",
              "      <td>0</td>\n",
              "      <td>0</td>\n",
              "    </tr>\n",
              "    <tr>\n",
              "      <th>860</th>\n",
              "      <td>37</td>\n",
              "      <td>47.600</td>\n",
              "      <td>2</td>\n",
              "      <td>1</td>\n",
              "      <td>0</td>\n",
              "      <td>0</td>\n",
              "      <td>1</td>\n",
              "      <td>0</td>\n",
              "      <td>0</td>\n",
              "      <td>0</td>\n",
              "      <td>1</td>\n",
              "    </tr>\n",
              "    <tr>\n",
              "      <th>1126</th>\n",
              "      <td>55</td>\n",
              "      <td>29.900</td>\n",
              "      <td>0</td>\n",
              "      <td>0</td>\n",
              "      <td>1</td>\n",
              "      <td>1</td>\n",
              "      <td>0</td>\n",
              "      <td>0</td>\n",
              "      <td>0</td>\n",
              "      <td>0</td>\n",
              "      <td>1</td>\n",
              "    </tr>\n",
              "  </tbody>\n",
              "</table>\n",
              "<p>1070 rows × 11 columns</p>\n",
              "</div>\n",
              "    <div class=\"colab-df-buttons\">\n",
              "\n",
              "  <div class=\"colab-df-container\">\n",
              "    <button class=\"colab-df-convert\" onclick=\"convertToInteractive('df-c846ebab-a627-4174-842f-25286fc3f513')\"\n",
              "            title=\"Convert this dataframe to an interactive table.\"\n",
              "            style=\"display:none;\">\n",
              "\n",
              "  <svg xmlns=\"http://www.w3.org/2000/svg\" height=\"24px\" viewBox=\"0 -960 960 960\">\n",
              "    <path d=\"M120-120v-720h720v720H120Zm60-500h600v-160H180v160Zm220 220h160v-160H400v160Zm0 220h160v-160H400v160ZM180-400h160v-160H180v160Zm440 0h160v-160H620v160ZM180-180h160v-160H180v160Zm440 0h160v-160H620v160Z\"/>\n",
              "  </svg>\n",
              "    </button>\n",
              "\n",
              "  <style>\n",
              "    .colab-df-container {\n",
              "      display:flex;\n",
              "      gap: 12px;\n",
              "    }\n",
              "\n",
              "    .colab-df-convert {\n",
              "      background-color: #E8F0FE;\n",
              "      border: none;\n",
              "      border-radius: 50%;\n",
              "      cursor: pointer;\n",
              "      display: none;\n",
              "      fill: #1967D2;\n",
              "      height: 32px;\n",
              "      padding: 0 0 0 0;\n",
              "      width: 32px;\n",
              "    }\n",
              "\n",
              "    .colab-df-convert:hover {\n",
              "      background-color: #E2EBFA;\n",
              "      box-shadow: 0px 1px 2px rgba(60, 64, 67, 0.3), 0px 1px 3px 1px rgba(60, 64, 67, 0.15);\n",
              "      fill: #174EA6;\n",
              "    }\n",
              "\n",
              "    .colab-df-buttons div {\n",
              "      margin-bottom: 4px;\n",
              "    }\n",
              "\n",
              "    [theme=dark] .colab-df-convert {\n",
              "      background-color: #3B4455;\n",
              "      fill: #D2E3FC;\n",
              "    }\n",
              "\n",
              "    [theme=dark] .colab-df-convert:hover {\n",
              "      background-color: #434B5C;\n",
              "      box-shadow: 0px 1px 3px 1px rgba(0, 0, 0, 0.15);\n",
              "      filter: drop-shadow(0px 1px 2px rgba(0, 0, 0, 0.3));\n",
              "      fill: #FFFFFF;\n",
              "    }\n",
              "  </style>\n",
              "\n",
              "    <script>\n",
              "      const buttonEl =\n",
              "        document.querySelector('#df-c846ebab-a627-4174-842f-25286fc3f513 button.colab-df-convert');\n",
              "      buttonEl.style.display =\n",
              "        google.colab.kernel.accessAllowed ? 'block' : 'none';\n",
              "\n",
              "      async function convertToInteractive(key) {\n",
              "        const element = document.querySelector('#df-c846ebab-a627-4174-842f-25286fc3f513');\n",
              "        const dataTable =\n",
              "          await google.colab.kernel.invokeFunction('convertToInteractive',\n",
              "                                                    [key], {});\n",
              "        if (!dataTable) return;\n",
              "\n",
              "        const docLinkHtml = 'Like what you see? Visit the ' +\n",
              "          '<a target=\"_blank\" href=https://colab.research.google.com/notebooks/data_table.ipynb>data table notebook</a>'\n",
              "          + ' to learn more about interactive tables.';\n",
              "        element.innerHTML = '';\n",
              "        dataTable['output_type'] = 'display_data';\n",
              "        await google.colab.output.renderOutput(dataTable, element);\n",
              "        const docLink = document.createElement('div');\n",
              "        docLink.innerHTML = docLinkHtml;\n",
              "        element.appendChild(docLink);\n",
              "      }\n",
              "    </script>\n",
              "  </div>\n",
              "\n",
              "\n",
              "<div id=\"df-1b38b278-e429-48c1-b817-0318f1a0e2ba\">\n",
              "  <button class=\"colab-df-quickchart\" onclick=\"quickchart('df-1b38b278-e429-48c1-b817-0318f1a0e2ba')\"\n",
              "            title=\"Suggest charts\"\n",
              "            style=\"display:none;\">\n",
              "\n",
              "<svg xmlns=\"http://www.w3.org/2000/svg\" height=\"24px\"viewBox=\"0 0 24 24\"\n",
              "     width=\"24px\">\n",
              "    <g>\n",
              "        <path d=\"M19 3H5c-1.1 0-2 .9-2 2v14c0 1.1.9 2 2 2h14c1.1 0 2-.9 2-2V5c0-1.1-.9-2-2-2zM9 17H7v-7h2v7zm4 0h-2V7h2v10zm4 0h-2v-4h2v4z\"/>\n",
              "    </g>\n",
              "</svg>\n",
              "  </button>\n",
              "\n",
              "<style>\n",
              "  .colab-df-quickchart {\n",
              "      --bg-color: #E8F0FE;\n",
              "      --fill-color: #1967D2;\n",
              "      --hover-bg-color: #E2EBFA;\n",
              "      --hover-fill-color: #174EA6;\n",
              "      --disabled-fill-color: #AAA;\n",
              "      --disabled-bg-color: #DDD;\n",
              "  }\n",
              "\n",
              "  [theme=dark] .colab-df-quickchart {\n",
              "      --bg-color: #3B4455;\n",
              "      --fill-color: #D2E3FC;\n",
              "      --hover-bg-color: #434B5C;\n",
              "      --hover-fill-color: #FFFFFF;\n",
              "      --disabled-bg-color: #3B4455;\n",
              "      --disabled-fill-color: #666;\n",
              "  }\n",
              "\n",
              "  .colab-df-quickchart {\n",
              "    background-color: var(--bg-color);\n",
              "    border: none;\n",
              "    border-radius: 50%;\n",
              "    cursor: pointer;\n",
              "    display: none;\n",
              "    fill: var(--fill-color);\n",
              "    height: 32px;\n",
              "    padding: 0;\n",
              "    width: 32px;\n",
              "  }\n",
              "\n",
              "  .colab-df-quickchart:hover {\n",
              "    background-color: var(--hover-bg-color);\n",
              "    box-shadow: 0 1px 2px rgba(60, 64, 67, 0.3), 0 1px 3px 1px rgba(60, 64, 67, 0.15);\n",
              "    fill: var(--button-hover-fill-color);\n",
              "  }\n",
              "\n",
              "  .colab-df-quickchart-complete:disabled,\n",
              "  .colab-df-quickchart-complete:disabled:hover {\n",
              "    background-color: var(--disabled-bg-color);\n",
              "    fill: var(--disabled-fill-color);\n",
              "    box-shadow: none;\n",
              "  }\n",
              "\n",
              "  .colab-df-spinner {\n",
              "    border: 2px solid var(--fill-color);\n",
              "    border-color: transparent;\n",
              "    border-bottom-color: var(--fill-color);\n",
              "    animation:\n",
              "      spin 1s steps(1) infinite;\n",
              "  }\n",
              "\n",
              "  @keyframes spin {\n",
              "    0% {\n",
              "      border-color: transparent;\n",
              "      border-bottom-color: var(--fill-color);\n",
              "      border-left-color: var(--fill-color);\n",
              "    }\n",
              "    20% {\n",
              "      border-color: transparent;\n",
              "      border-left-color: var(--fill-color);\n",
              "      border-top-color: var(--fill-color);\n",
              "    }\n",
              "    30% {\n",
              "      border-color: transparent;\n",
              "      border-left-color: var(--fill-color);\n",
              "      border-top-color: var(--fill-color);\n",
              "      border-right-color: var(--fill-color);\n",
              "    }\n",
              "    40% {\n",
              "      border-color: transparent;\n",
              "      border-right-color: var(--fill-color);\n",
              "      border-top-color: var(--fill-color);\n",
              "    }\n",
              "    60% {\n",
              "      border-color: transparent;\n",
              "      border-right-color: var(--fill-color);\n",
              "    }\n",
              "    80% {\n",
              "      border-color: transparent;\n",
              "      border-right-color: var(--fill-color);\n",
              "      border-bottom-color: var(--fill-color);\n",
              "    }\n",
              "    90% {\n",
              "      border-color: transparent;\n",
              "      border-bottom-color: var(--fill-color);\n",
              "    }\n",
              "  }\n",
              "</style>\n",
              "\n",
              "  <script>\n",
              "    async function quickchart(key) {\n",
              "      const quickchartButtonEl =\n",
              "        document.querySelector('#' + key + ' button');\n",
              "      quickchartButtonEl.disabled = true;  // To prevent multiple clicks.\n",
              "      quickchartButtonEl.classList.add('colab-df-spinner');\n",
              "      try {\n",
              "        const charts = await google.colab.kernel.invokeFunction(\n",
              "            'suggestCharts', [key], {});\n",
              "      } catch (error) {\n",
              "        console.error('Error during call to suggestCharts:', error);\n",
              "      }\n",
              "      quickchartButtonEl.classList.remove('colab-df-spinner');\n",
              "      quickchartButtonEl.classList.add('colab-df-quickchart-complete');\n",
              "    }\n",
              "    (() => {\n",
              "      let quickchartButtonEl =\n",
              "        document.querySelector('#df-1b38b278-e429-48c1-b817-0318f1a0e2ba button');\n",
              "      quickchartButtonEl.style.display =\n",
              "        google.colab.kernel.accessAllowed ? 'block' : 'none';\n",
              "    })();\n",
              "  </script>\n",
              "</div>\n",
              "    </div>\n",
              "  </div>\n"
            ],
            "application/vnd.google.colaboratory.intrinsic+json": {
              "type": "dataframe",
              "variable_name": "x_train",
              "summary": "{\n  \"name\": \"x_train\",\n  \"rows\": 1070,\n  \"fields\": [\n    {\n      \"column\": \"age\",\n      \"properties\": {\n        \"dtype\": \"number\",\n        \"std\": 14,\n        \"min\": 18,\n        \"max\": 64,\n        \"num_unique_values\": 47,\n        \"samples\": [\n          35,\n          33,\n          20\n        ],\n        \"semantic_type\": \"\",\n        \"description\": \"\"\n      }\n    },\n    {\n      \"column\": \"bmi\",\n      \"properties\": {\n        \"dtype\": \"number\",\n        \"std\": 6.043385672727495,\n        \"min\": 15.96,\n        \"max\": 53.13,\n        \"num_unique_values\": 494,\n        \"samples\": [\n          27.3,\n          31.35,\n          21.66\n        ],\n        \"semantic_type\": \"\",\n        \"description\": \"\"\n      }\n    },\n    {\n      \"column\": \"children\",\n      \"properties\": {\n        \"dtype\": \"number\",\n        \"std\": 1,\n        \"min\": 0,\n        \"max\": 5,\n        \"num_unique_values\": 6,\n        \"samples\": [\n          2,\n          0,\n          4\n        ],\n        \"semantic_type\": \"\",\n        \"description\": \"\"\n      }\n    },\n    {\n      \"column\": \"sex_female\",\n      \"properties\": {\n        \"dtype\": \"uint8\",\n        \"num_unique_values\": 2,\n        \"samples\": [\n          0,\n          1\n        ],\n        \"semantic_type\": \"\",\n        \"description\": \"\"\n      }\n    },\n    {\n      \"column\": \"sex_male\",\n      \"properties\": {\n        \"dtype\": \"uint8\",\n        \"num_unique_values\": 2,\n        \"samples\": [\n          1,\n          0\n        ],\n        \"semantic_type\": \"\",\n        \"description\": \"\"\n      }\n    },\n    {\n      \"column\": \"smoker_no\",\n      \"properties\": {\n        \"dtype\": \"uint8\",\n        \"num_unique_values\": 2,\n        \"samples\": [\n          0,\n          1\n        ],\n        \"semantic_type\": \"\",\n        \"description\": \"\"\n      }\n    },\n    {\n      \"column\": \"smoker_yes\",\n      \"properties\": {\n        \"dtype\": \"uint8\",\n        \"num_unique_values\": 2,\n        \"samples\": [\n          1,\n          0\n        ],\n        \"semantic_type\": \"\",\n        \"description\": \"\"\n      }\n    },\n    {\n      \"column\": \"region_northeast\",\n      \"properties\": {\n        \"dtype\": \"uint8\",\n        \"num_unique_values\": 2,\n        \"samples\": [\n          1,\n          0\n        ],\n        \"semantic_type\": \"\",\n        \"description\": \"\"\n      }\n    },\n    {\n      \"column\": \"region_northwest\",\n      \"properties\": {\n        \"dtype\": \"uint8\",\n        \"num_unique_values\": 2,\n        \"samples\": [\n          0,\n          1\n        ],\n        \"semantic_type\": \"\",\n        \"description\": \"\"\n      }\n    },\n    {\n      \"column\": \"region_southeast\",\n      \"properties\": {\n        \"dtype\": \"uint8\",\n        \"num_unique_values\": 2,\n        \"samples\": [\n          1,\n          0\n        ],\n        \"semantic_type\": \"\",\n        \"description\": \"\"\n      }\n    },\n    {\n      \"column\": \"region_southwest\",\n      \"properties\": {\n        \"dtype\": \"uint8\",\n        \"num_unique_values\": 2,\n        \"samples\": [\n          1,\n          0\n        ],\n        \"semantic_type\": \"\",\n        \"description\": \"\"\n      }\n    }\n  ]\n}"
            }
          },
          "metadata": {},
          "execution_count": 85
        }
      ]
    },
    {
      "cell_type": "code",
      "source": [
        "# Build a neural network (sort of like model_2 above)\n",
        "tf.random.set_seed(42)\n",
        "\n",
        "# 1. Create the model\n",
        "insurance_model = tf.keras.Sequential([\n",
        "    tf.keras.layers.Dense(100, activation=\"relu\"),\n",
        "    tf.keras.layers.Dense(100),\n",
        "    tf.keras.layers.Dense(10)\n",
        "])\n",
        "\n",
        "# 2. Compile the model\n",
        "insurance_model.compile(loss=mae,\n",
        "                        optimizer = tf.keras.optimizers.Adam(lr = 0.01),\n",
        "                        metrics=[\"mae\"])\n",
        "\n",
        "# 3. Fit the model\n",
        "history_insurance = insurance_model.fit(x_train, y_train, epochs=500, verbose=0)"
      ],
      "metadata": {
        "colab": {
          "base_uri": "https://localhost:8080/"
        },
        "id": "5XLrX5IaYl92",
        "outputId": "cfa4d528-bb3d-4773-cf2a-16555e75a1ed"
      },
      "execution_count": null,
      "outputs": [
        {
          "output_type": "stream",
          "name": "stderr",
          "text": [
            "WARNING:absl:`lr` is deprecated in Keras optimizer, please use `learning_rate` or use the legacy optimizer, e.g.,tf.keras.optimizers.legacy.Adam.\n"
          ]
        }
      ]
    },
    {
      "cell_type": "code",
      "source": [
        "# Check the result on test data\n",
        "insurance_model.evaluate(x_test, y_test)"
      ],
      "metadata": {
        "colab": {
          "base_uri": "https://localhost:8080/"
        },
        "id": "phMxyV6adIEN",
        "outputId": "31d8977e-8e9b-4fb8-bcf2-0f070c3df5af"
      },
      "execution_count": null,
      "outputs": [
        {
          "output_type": "stream",
          "name": "stdout",
          "text": [
            "9/9 [==============================] - 0s 2ms/step - loss: 1834.2002 - mae: 1834.2002\n"
          ]
        },
        {
          "output_type": "execute_result",
          "data": {
            "text/plain": [
              "[1834.2001953125, 1834.2001953125]"
            ]
          },
          "metadata": {},
          "execution_count": 88
        }
      ]
    },
    {
      "cell_type": "code",
      "source": [
        "y_train.median(), y_train.mean()"
      ],
      "metadata": {
        "colab": {
          "base_uri": "https://localhost:8080/"
        },
        "id": "LMjdD18adchB",
        "outputId": "bbe8c998-11cd-4a71-9f77-ccfb1a033610"
      },
      "execution_count": null,
      "outputs": [
        {
          "output_type": "execute_result",
          "data": {
            "text/plain": [
              "(9575.4421, 13346.089736364485)"
            ]
          },
          "metadata": {},
          "execution_count": 89
        }
      ]
    },
    {
      "cell_type": "code",
      "source": [
        "# Plot history (loss curve a or training curve)\n",
        "pd.DataFrame(history_insurance.history).plot()\n",
        "plt.title(\"model accuracy\")\n",
        "plt.ylabel(\"loss\")\n",
        "plt.xlabel(\"epochs\")"
      ],
      "metadata": {
        "colab": {
          "base_uri": "https://localhost:8080/",
          "height": 489
        },
        "id": "PJFfUJr5lhOC",
        "outputId": "bf021dcd-e252-4b93-b503-4795b1473de0"
      },
      "execution_count": null,
      "outputs": [
        {
          "output_type": "execute_result",
          "data": {
            "text/plain": [
              "Text(0.5, 0, 'epochs')"
            ]
          },
          "metadata": {},
          "execution_count": 90
        },
        {
          "output_type": "display_data",
          "data": {
            "text/plain": [
              "<Figure size 640x480 with 1 Axes>"
            ],
            "image/png": "[encoded data removed]"
          },
          "metadata": {}
        }
      ]
    },
    {
      "cell_type": "markdown",
      "source": [
        "### EarlyStopping Callback\n",
        "\n",
        "The beautiful answer from TensorFlow to ml engginer for how long we should train or model"
      ],
      "metadata": {
        "id": "PeKm1dz8v7xS"
      }
    },
    {
      "cell_type": "markdown",
      "source": [
        "## Preprocessing data (normalization and standardization)\n",
        "\n",
        "In term of scalling values, neural networks tend to prefer normalization.\n",
        "\n"
      ],
      "metadata": {
        "id": "-zpaI6r4BZEq"
      }
    },
    {
      "cell_type": "code",
      "source": [
        "x[\"age\"].plot(kind=\"hist\")"
      ],
      "metadata": {
        "id": "QnPtSmjFvtkz",
        "colab": {
          "base_uri": "https://localhost:8080/",
          "height": 447
        },
        "outputId": "7a750314-4d55-4454-88c6-4a7c7b724be7"
      },
      "execution_count": 92,
      "outputs": [
        {
          "output_type": "execute_result",
          "data": {
            "text/plain": [
              "<Axes: ylabel='Frequency'>"
            ]
          },
          "metadata": {},
          "execution_count": 92
        },
        {
          "output_type": "display_data",
          "data": {
            "text/plain": [
              "<Figure size 640x480 with 1 Axes>"
            ],
            "image/png": "[encoded data removed]"
          },
          "metadata": {}
        }
      ]
    },
    {
      "cell_type": "code",
      "source": [
        "x[\"bmi\"].plot(kind=\"hist\")"
      ],
      "metadata": {
        "colab": {
          "base_uri": "https://localhost:8080/",
          "height": 447
        },
        "id": "rBSz4yk0AfqQ",
        "outputId": "ac2ad37f-9f10-4bb3-be39-f07f77b70a60"
      },
      "execution_count": 93,
      "outputs": [
        {
          "output_type": "execute_result",
          "data": {
            "text/plain": [
              "<Axes: ylabel='Frequency'>"
            ]
          },
          "metadata": {},
          "execution_count": 93
        },
        {
          "output_type": "display_data",
          "data": {
            "text/plain": [
              "<Figure size 640x480 with 1 Axes>"
            ],
            "image/png": "[encoded data removed]"
          },
          "metadata": {}
        }
      ]
    },
    {
      "cell_type": "code",
      "source": [
        "import pandas as pd\n",
        "import matplotlib.pyplot as plt\n",
        "import tensorflow as tf\n",
        "\n",
        "# Read in the insurance dataframe\n",
        "insurance = pd.read_csv(\"https://raw.githubusercontent.com/stedy/Machine-Learning-with-R-datasets/master/insurance.csv\")\n",
        "insurance"
      ],
      "metadata": {
        "colab": {
          "base_uri": "https://localhost:8080/",
          "height": 424
        },
        "id": "s8H0ZQaKFTe7",
        "outputId": "365214af-3e28-4121-8a42-963f7f4da45f"
      },
      "execution_count": 94,
      "outputs": [
        {
          "output_type": "execute_result",
          "data": {
            "text/plain": [
              "      age     sex     bmi  children smoker     region      charges\n",
              "0      19  female  27.900         0    yes  southwest  16884.92400\n",
              "1      18    male  33.770         1     no  southeast   1725.55230\n",
              "2      28    male  33.000         3     no  southeast   4449.46200\n",
              "3      33    male  22.705         0     no  northwest  21984.47061\n",
              "4      32    male  28.880         0     no  northwest   3866.85520\n",
              "...   ...     ...     ...       ...    ...        ...          ...\n",
              "1333   50    male  30.970         3     no  northwest  10600.54830\n",
              "1334   18  female  31.920         0     no  northeast   2205.98080\n",
              "1335   18  female  36.850         0     no  southeast   1629.83350\n",
              "1336   21  female  25.800         0     no  southwest   2007.94500\n",
              "1337   61  female  29.070         0    yes  northwest  29141.36030\n",
              "\n",
              "[1338 rows x 7 columns]"
            ],
            "text/html": [
              "\n",
              "  <div id=\"df-3ebaf1da-05b5-4661-818d-8d58ba84ec7e\" class=\"colab-df-container\">\n",
              "    <div>\n",
              "<style scoped>\n",
              "    .dataframe tbody tr th:only-of-type {\n",
              "        vertical-align: middle;\n",
              "    }\n",
              "\n",
              "    .dataframe tbody tr th {\n",
              "        vertical-align: top;\n",
              "    }\n",
              "\n",
              "    .dataframe thead th {\n",
              "        text-align: right;\n",
              "    }\n",
              "</style>\n",
              "<table border=\"1\" class=\"dataframe\">\n",
              "  <thead>\n",
              "    <tr style=\"text-align: right;\">\n",
              "      <th></th>\n",
              "      <th>age</th>\n",
              "      <th>sex</th>\n",
              "      <th>bmi</th>\n",
              "      <th>children</th>\n",
              "      <th>smoker</th>\n",
              "      <th>region</th>\n",
              "      <th>charges</th>\n",
              "    </tr>\n",
              "  </thead>\n",
              "  <tbody>\n",
              "    <tr>\n",
              "      <th>0</th>\n",
              "      <td>19</td>\n",
              "      <td>female</td>\n",
              "      <td>27.900</td>\n",
              "      <td>0</td>\n",
              "      <td>yes</td>\n",
              "      <td>southwest</td>\n",
              "      <td>16884.92400</td>\n",
              "    </tr>\n",
              "    <tr>\n",
              "      <th>1</th>\n",
              "      <td>18</td>\n",
              "      <td>male</td>\n",
              "      <td>33.770</td>\n",
              "      <td>1</td>\n",
              "      <td>no</td>\n",
              "      <td>southeast</td>\n",
              "      <td>1725.55230</td>\n",
              "    </tr>\n",
              "    <tr>\n",
              "      <th>2</th>\n",
              "      <td>28</td>\n",
              "      <td>male</td>\n",
              "      <td>33.000</td>\n",
              "      <td>3</td>\n",
              "      <td>no</td>\n",
              "      <td>southeast</td>\n",
              "      <td>4449.46200</td>\n",
              "    </tr>\n",
              "    <tr>\n",
              "      <th>3</th>\n",
              "      <td>33</td>\n",
              "      <td>male</td>\n",
              "      <td>22.705</td>\n",
              "      <td>0</td>\n",
              "      <td>no</td>\n",
              "      <td>northwest</td>\n",
              "      <td>21984.47061</td>\n",
              "    </tr>\n",
              "    <tr>\n",
              "      <th>4</th>\n",
              "      <td>32</td>\n",
              "      <td>male</td>\n",
              "      <td>28.880</td>\n",
              "      <td>0</td>\n",
              "      <td>no</td>\n",
              "      <td>northwest</td>\n",
              "      <td>3866.85520</td>\n",
              "    </tr>\n",
              "    <tr>\n",
              "      <th>...</th>\n",
              "      <td>...</td>\n",
              "      <td>...</td>\n",
              "      <td>...</td>\n",
              "      <td>...</td>\n",
              "      <td>...</td>\n",
              "      <td>...</td>\n",
              "      <td>...</td>\n",
              "    </tr>\n",
              "    <tr>\n",
              "      <th>1333</th>\n",
              "      <td>50</td>\n",
              "      <td>male</td>\n",
              "      <td>30.970</td>\n",
              "      <td>3</td>\n",
              "      <td>no</td>\n",
              "      <td>northwest</td>\n",
              "      <td>10600.54830</td>\n",
              "    </tr>\n",
              "    <tr>\n",
              "      <th>1334</th>\n",
              "      <td>18</td>\n",
              "      <td>female</td>\n",
              "      <td>31.920</td>\n",
              "      <td>0</td>\n",
              "      <td>no</td>\n",
              "      <td>northeast</td>\n",
              "      <td>2205.98080</td>\n",
              "    </tr>\n",
              "    <tr>\n",
              "      <th>1335</th>\n",
              "      <td>18</td>\n",
              "      <td>female</td>\n",
              "      <td>36.850</td>\n",
              "      <td>0</td>\n",
              "      <td>no</td>\n",
              "      <td>southeast</td>\n",
              "      <td>1629.83350</td>\n",
              "    </tr>\n",
              "    <tr>\n",
              "      <th>1336</th>\n",
              "      <td>21</td>\n",
              "      <td>female</td>\n",
              "      <td>25.800</td>\n",
              "      <td>0</td>\n",
              "      <td>no</td>\n",
              "      <td>southwest</td>\n",
              "      <td>2007.94500</td>\n",
              "    </tr>\n",
              "    <tr>\n",
              "      <th>1337</th>\n",
              "      <td>61</td>\n",
              "      <td>female</td>\n",
              "      <td>29.070</td>\n",
              "      <td>0</td>\n",
              "      <td>yes</td>\n",
              "      <td>northwest</td>\n",
              "      <td>29141.36030</td>\n",
              "    </tr>\n",
              "  </tbody>\n",
              "</table>\n",
              "<p>1338 rows × 7 columns</p>\n",
              "</div>\n",
              "    <div class=\"colab-df-buttons\">\n",
              "\n",
              "  <div class=\"colab-df-container\">\n",
              "    <button class=\"colab-df-convert\" onclick=\"convertToInteractive('df-3ebaf1da-05b5-4661-818d-8d58ba84ec7e')\"\n",
              "            title=\"Convert this dataframe to an interactive table.\"\n",
              "            style=\"display:none;\">\n",
              "\n",
              "  <svg xmlns=\"http://www.w3.org/2000/svg\" height=\"24px\" viewBox=\"0 -960 960 960\">\n",
              "    <path d=\"M120-120v-720h720v720H120Zm60-500h600v-160H180v160Zm220 220h160v-160H400v160Zm0 220h160v-160H400v160ZM180-400h160v-160H180v160Zm440 0h160v-160H620v160ZM180-180h160v-160H180v160Zm440 0h160v-160H620v160Z\"/>\n",
              "  </svg>\n",
              "    </button>\n",
              "\n",
              "  <style>\n",
              "    .colab-df-container {\n",
              "      display:flex;\n",
              "      gap: 12px;\n",
              "    }\n",
              "\n",
              "    .colab-df-convert {\n",
              "      background-color: #E8F0FE;\n",
              "      border: none;\n",
              "      border-radius: 50%;\n",
              "      cursor: pointer;\n",
              "      display: none;\n",
              "      fill: #1967D2;\n",
              "      height: 32px;\n",
              "      padding: 0 0 0 0;\n",
              "      width: 32px;\n",
              "    }\n",
              "\n",
              "    .colab-df-convert:hover {\n",
              "      background-color: #E2EBFA;\n",
              "      box-shadow: 0px 1px 2px rgba(60, 64, 67, 0.3), 0px 1px 3px 1px rgba(60, 64, 67, 0.15);\n",
              "      fill: #174EA6;\n",
              "    }\n",
              "\n",
              "    .colab-df-buttons div {\n",
              "      margin-bottom: 4px;\n",
              "    }\n",
              "\n",
              "    [theme=dark] .colab-df-convert {\n",
              "      background-color: #3B4455;\n",
              "      fill: #D2E3FC;\n",
              "    }\n",
              "\n",
              "    [theme=dark] .colab-df-convert:hover {\n",
              "      background-color: #434B5C;\n",
              "      box-shadow: 0px 1px 3px 1px rgba(0, 0, 0, 0.15);\n",
              "      filter: drop-shadow(0px 1px 2px rgba(0, 0, 0, 0.3));\n",
              "      fill: #FFFFFF;\n",
              "    }\n",
              "  </style>\n",
              "\n",
              "    <script>\n",
              "      const buttonEl =\n",
              "        document.querySelector('#df-3ebaf1da-05b5-4661-818d-8d58ba84ec7e button.colab-df-convert');\n",
              "      buttonEl.style.display =\n",
              "        google.colab.kernel.accessAllowed ? 'block' : 'none';\n",
              "\n",
              "      async function convertToInteractive(key) {\n",
              "        const element = document.querySelector('#df-3ebaf1da-05b5-4661-818d-8d58ba84ec7e');\n",
              "        const dataTable =\n",
              "          await google.colab.kernel.invokeFunction('convertToInteractive',\n",
              "                                                    [key], {});\n",
              "        if (!dataTable) return;\n",
              "\n",
              "        const docLinkHtml = 'Like what you see? Visit the ' +\n",
              "          '<a target=\"_blank\" href=https://colab.research.google.com/notebooks/data_table.ipynb>data table notebook</a>'\n",
              "          + ' to learn more about interactive tables.';\n",
              "        element.innerHTML = '';\n",
              "        dataTable['output_type'] = 'display_data';\n",
              "        await google.colab.output.renderOutput(dataTable, element);\n",
              "        const docLink = document.createElement('div');\n",
              "        docLink.innerHTML = docLinkHtml;\n",
              "        element.appendChild(docLink);\n",
              "      }\n",
              "    </script>\n",
              "  </div>\n",
              "\n",
              "\n",
              "<div id=\"df-3ecc8b90-9307-423a-90e0-e9d1996b25be\">\n",
              "  <button class=\"colab-df-quickchart\" onclick=\"quickchart('df-3ecc8b90-9307-423a-90e0-e9d1996b25be')\"\n",
              "            title=\"Suggest charts\"\n",
              "            style=\"display:none;\">\n",
              "\n",
              "<svg xmlns=\"http://www.w3.org/2000/svg\" height=\"24px\"viewBox=\"0 0 24 24\"\n",
              "     width=\"24px\">\n",
              "    <g>\n",
              "        <path d=\"M19 3H5c-1.1 0-2 .9-2 2v14c0 1.1.9 2 2 2h14c1.1 0 2-.9 2-2V5c0-1.1-.9-2-2-2zM9 17H7v-7h2v7zm4 0h-2V7h2v10zm4 0h-2v-4h2v4z\"/>\n",
              "    </g>\n",
              "</svg>\n",
              "  </button>\n",
              "\n",
              "<style>\n",
              "  .colab-df-quickchart {\n",
              "      --bg-color: #E8F0FE;\n",
              "      --fill-color: #1967D2;\n",
              "      --hover-bg-color: #E2EBFA;\n",
              "      --hover-fill-color: #174EA6;\n",
              "      --disabled-fill-color: #AAA;\n",
              "      --disabled-bg-color: #DDD;\n",
              "  }\n",
              "\n",
              "  [theme=dark] .colab-df-quickchart {\n",
              "      --bg-color: #3B4455;\n",
              "      --fill-color: #D2E3FC;\n",
              "      --hover-bg-color: #434B5C;\n",
              "      --hover-fill-color: #FFFFFF;\n",
              "      --disabled-bg-color: #3B4455;\n",
              "      --disabled-fill-color: #666;\n",
              "  }\n",
              "\n",
              "  .colab-df-quickchart {\n",
              "    background-color: var(--bg-color);\n",
              "    border: none;\n",
              "    border-radius: 50%;\n",
              "    cursor: pointer;\n",
              "    display: none;\n",
              "    fill: var(--fill-color);\n",
              "    height: 32px;\n",
              "    padding: 0;\n",
              "    width: 32px;\n",
              "  }\n",
              "\n",
              "  .colab-df-quickchart:hover {\n",
              "    background-color: var(--hover-bg-color);\n",
              "    box-shadow: 0 1px 2px rgba(60, 64, 67, 0.3), 0 1px 3px 1px rgba(60, 64, 67, 0.15);\n",
              "    fill: var(--button-hover-fill-color);\n",
              "  }\n",
              "\n",
              "  .colab-df-quickchart-complete:disabled,\n",
              "  .colab-df-quickchart-complete:disabled:hover {\n",
              "    background-color: var(--disabled-bg-color);\n",
              "    fill: var(--disabled-fill-color);\n",
              "    box-shadow: none;\n",
              "  }\n",
              "\n",
              "  .colab-df-spinner {\n",
              "    border: 2px solid var(--fill-color);\n",
              "    border-color: transparent;\n",
              "    border-bottom-color: var(--fill-color);\n",
              "    animation:\n",
              "      spin 1s steps(1) infinite;\n",
              "  }\n",
              "\n",
              "  @keyframes spin {\n",
              "    0% {\n",
              "      border-color: transparent;\n",
              "      border-bottom-color: var(--fill-color);\n",
              "      border-left-color: var(--fill-color);\n",
              "    }\n",
              "    20% {\n",
              "      border-color: transparent;\n",
              "      border-left-color: var(--fill-color);\n",
              "      border-top-color: var(--fill-color);\n",
              "    }\n",
              "    30% {\n",
              "      border-color: transparent;\n",
              "      border-left-color: var(--fill-color);\n",
              "      border-top-color: var(--fill-color);\n",
              "      border-right-color: var(--fill-color);\n",
              "    }\n",
              "    40% {\n",
              "      border-color: transparent;\n",
              "      border-right-color: var(--fill-color);\n",
              "      border-top-color: var(--fill-color);\n",
              "    }\n",
              "    60% {\n",
              "      border-color: transparent;\n",
              "      border-right-color: var(--fill-color);\n",
              "    }\n",
              "    80% {\n",
              "      border-color: transparent;\n",
              "      border-right-color: var(--fill-color);\n",
              "      border-bottom-color: var(--fill-color);\n",
              "    }\n",
              "    90% {\n",
              "      border-color: transparent;\n",
              "      border-bottom-color: var(--fill-color);\n",
              "    }\n",
              "  }\n",
              "</style>\n",
              "\n",
              "  <script>\n",
              "    async function quickchart(key) {\n",
              "      const quickchartButtonEl =\n",
              "        document.querySelector('#' + key + ' button');\n",
              "      quickchartButtonEl.disabled = true;  // To prevent multiple clicks.\n",
              "      quickchartButtonEl.classList.add('colab-df-spinner');\n",
              "      try {\n",
              "        const charts = await google.colab.kernel.invokeFunction(\n",
              "            'suggestCharts', [key], {});\n",
              "      } catch (error) {\n",
              "        console.error('Error during call to suggestCharts:', error);\n",
              "      }\n",
              "      quickchartButtonEl.classList.remove('colab-df-spinner');\n",
              "      quickchartButtonEl.classList.add('colab-df-quickchart-complete');\n",
              "    }\n",
              "    (() => {\n",
              "      let quickchartButtonEl =\n",
              "        document.querySelector('#df-3ecc8b90-9307-423a-90e0-e9d1996b25be button');\n",
              "      quickchartButtonEl.style.display =\n",
              "        google.colab.kernel.accessAllowed ? 'block' : 'none';\n",
              "    })();\n",
              "  </script>\n",
              "</div>\n",
              "    </div>\n",
              "  </div>\n"
            ],
            "application/vnd.google.colaboratory.intrinsic+json": {
              "type": "dataframe",
              "variable_name": "insurance",
              "summary": "{\n  \"name\": \"insurance\",\n  \"rows\": 1338,\n  \"fields\": [\n    {\n      \"column\": \"age\",\n      \"properties\": {\n        \"dtype\": \"number\",\n        \"std\": 14,\n        \"min\": 18,\n        \"max\": 64,\n        \"num_unique_values\": 47,\n        \"samples\": [\n          21,\n          45,\n          36\n        ],\n        \"semantic_type\": \"\",\n        \"description\": \"\"\n      }\n    },\n    {\n      \"column\": \"sex\",\n      \"properties\": {\n        \"dtype\": \"category\",\n        \"num_unique_values\": 2,\n        \"samples\": [\n          \"male\",\n          \"female\"\n        ],\n        \"semantic_type\": \"\",\n        \"description\": \"\"\n      }\n    },\n    {\n      \"column\": \"bmi\",\n      \"properties\": {\n        \"dtype\": \"number\",\n        \"std\": 6.098186911679014,\n        \"min\": 15.96,\n        \"max\": 53.13,\n        \"num_unique_values\": 548,\n        \"samples\": [\n          23.18,\n          26.885\n        ],\n        \"semantic_type\": \"\",\n        \"description\": \"\"\n      }\n    },\n    {\n      \"column\": \"children\",\n      \"properties\": {\n        \"dtype\": \"number\",\n        \"std\": 1,\n        \"min\": 0,\n        \"max\": 5,\n        \"num_unique_values\": 6,\n        \"samples\": [\n          0,\n          1\n        ],\n        \"semantic_type\": \"\",\n        \"description\": \"\"\n      }\n    },\n    {\n      \"column\": \"smoker\",\n      \"properties\": {\n        \"dtype\": \"category\",\n        \"num_unique_values\": 2,\n        \"samples\": [\n          \"no\",\n          \"yes\"\n        ],\n        \"semantic_type\": \"\",\n        \"description\": \"\"\n      }\n    },\n    {\n      \"column\": \"region\",\n      \"properties\": {\n        \"dtype\": \"category\",\n        \"num_unique_values\": 4,\n        \"samples\": [\n          \"southeast\",\n          \"northeast\"\n        ],\n        \"semantic_type\": \"\",\n        \"description\": \"\"\n      }\n    },\n    {\n      \"column\": \"charges\",\n      \"properties\": {\n        \"dtype\": \"number\",\n        \"std\": 12110.011236694001,\n        \"min\": 1121.8739,\n        \"max\": 63770.42801,\n        \"num_unique_values\": 1337,\n        \"samples\": [\n          8688.85885,\n          5708.867\n        ],\n        \"semantic_type\": \"\",\n        \"description\": \"\"\n      }\n    }\n  ]\n}"
            }
          },
          "metadata": {},
          "execution_count": 94
        }
      ]
    },
    {
      "cell_type": "code",
      "source": [
        "from sklearn.compose import make_column_transformer\n",
        "from sklearn.preprocessing import MinMaxScaler, OneHotEncoder\n",
        "from sklearn.model_selection import train_test_split"
      ],
      "metadata": {
        "id": "NBDm23OCMkKI"
      },
      "execution_count": 99,
      "outputs": []
    },
    {
      "cell_type": "code",
      "source": [
        "# Create a column transformer\n",
        "ct = make_column_transformer(\n",
        "    (MinMaxScaler(), [\"age\", \"bmi\", \"children\"]), # turn all values in these columns to between 0 and 1\n",
        "    (OneHotEncoder(handle_unknown=\"ignore\"), [\"sex\", \"smoker\", \"region\"])\n",
        ")"
      ],
      "metadata": {
        "id": "Rrg8G2CJM0s1"
      },
      "execution_count": 97,
      "outputs": []
    },
    {
      "cell_type": "code",
      "source": [
        "# Create our X and Y values\n",
        "x = insurance.drop(\"charges\", axis=1)\n",
        "y = insurance[\"charges\"]"
      ],
      "metadata": {
        "id": "9QN509EkNrFg"
      },
      "execution_count": 98,
      "outputs": []
    },
    {
      "cell_type": "code",
      "source": [
        "# Build our train and test sets\n",
        "x_train, x_test, y_train, y_test = train_test_split(x, y, test_size=0.2, random_state=42)"
      ],
      "metadata": {
        "id": "CgLEhqHON0g2"
      },
      "execution_count": 100,
      "outputs": []
    }
  ]
}