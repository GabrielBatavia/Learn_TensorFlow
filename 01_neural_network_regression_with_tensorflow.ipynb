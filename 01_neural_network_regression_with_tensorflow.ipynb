{
  "nbformat": 4,
  "nbformat_minor": 0,
  "metadata": {
    "colab": {
      "provenance": [],
      "authorship_tag": "ABX9TyPnkQcbmO5xjHawYNjsq8Tt",
      "include_colab_link": true
    },
    "kernelspec": {
      "name": "python3",
      "display_name": "Python 3"
    },
    "language_info": {
      "name": "python"
    }
  },
  "cells": [
    {
      "cell_type": "markdown",
      "metadata": {
        "id": "view-in-github",
        "colab_type": "text"
      },
      "source": [
        "<a href=\"https://colab.research.google.com/github/GabrielBatavia/Learn_TensorFlow/blob/main/01_neural_network_regression_with_tensorflow.ipynb\" target=\"_parent\"><img src=\"https://colab.research.google.com/assets/colab-badge.svg\" alt=\"Open In Colab\"/></a>"
      ]
    },
    {
      "cell_type": "markdown",
      "source": [
        "# Introduction to Regression with Neural Networks in TensorFlow\n",
        "\n",
        "There are many definition for a regression problem but in our case, we're going to simplify it : predicting a numerical variable based on some other combination of variables, even shorter...predicting a number."
      ],
      "metadata": {
        "id": "eANshE7nr2zb"
      }
    },
    {
      "cell_type": "code",
      "execution_count": 1,
      "metadata": {
        "colab": {
          "base_uri": "https://localhost:8080/"
        },
        "id": "UmVJP_eWrO59",
        "outputId": "f0211295-da43-4b66-aaa4-5c6f86fd0665"
      },
      "outputs": [
        {
          "output_type": "stream",
          "name": "stdout",
          "text": [
            "2.15.0\n"
          ]
        }
      ],
      "source": [
        "# Import TensorFlow\n",
        "\n",
        "import tensorflow as tf\n",
        "print(tf.__version__)"
      ]
    },
    {
      "cell_type": "markdown",
      "source": [
        "## Creating data to view and fit"
      ],
      "metadata": {
        "id": "vbbwMFoqskyN"
      }
    },
    {
      "cell_type": "code",
      "source": [
        "import numpy as np\n",
        "import matplotlib.pyplot as plt"
      ],
      "metadata": {
        "id": "DXOtRA60shEW"
      },
      "execution_count": 2,
      "outputs": []
    },
    {
      "cell_type": "code",
      "source": [
        "# Creating features\n",
        "\n",
        "x = np.array([-7., -4., -1., 2., 5., 8., 11., 14.])\n",
        "\n",
        "# Create labels\n",
        "y = np.array([3., 6., 9., 12., 15., 18., 21., 24.])\n",
        "\n",
        "# Visualize it\n",
        "plt.scatter(x, y);"
      ],
      "metadata": {
        "colab": {
          "base_uri": "https://localhost:8080/",
          "height": 435
        },
        "id": "SX4eHtEts4GD",
        "outputId": "f968a449-1440-4c5e-f294-1f80af08f7d6"
      },
      "execution_count": 3,
      "outputs": [
        {
          "output_type": "display_data",
          "data": {
            "text/plain": [
              "<Figure size 640x480 with 1 Axes>"
            ],
            "image/png": "[encoded data removed]"
          },
          "metadata": {}
        }
      ]
    },
    {
      "cell_type": "code",
      "source": [
        "y == x + 10"
      ],
      "metadata": {
        "id": "qaf2FE-utbQ-",
        "colab": {
          "base_uri": "https://localhost:8080/"
        },
        "outputId": "bc765d8d-ecb2-4fe2-abdf-8db9f134f0f1"
      },
      "execution_count": 4,
      "outputs": [
        {
          "output_type": "execute_result",
          "data": {
            "text/plain": [
              "array([ True,  True,  True,  True,  True,  True,  True,  True])"
            ]
          },
          "metadata": {},
          "execution_count": 4
        }
      ]
    },
    {
      "cell_type": "markdown",
      "source": [
        "## Input and Output shapes"
      ],
      "metadata": {
        "id": "hHex_79OxmAn"
      }
    },
    {
      "cell_type": "code",
      "source": [
        "# Create a demo tensor for out housing price prediction problem\n",
        "\n",
        "house_info = tf.constant([\"bedroom\", \"bathroom\", \"garage\"])\n",
        "house_price = tf.constant([939700])\n",
        "\n",
        "house_info, house_price"
      ],
      "metadata": {
        "colab": {
          "base_uri": "https://localhost:8080/"
        },
        "id": "EKNlltO3xrVe",
        "outputId": "5222c7e3-3bf5-4410-e0a4-5b0b020bc606"
      },
      "execution_count": 5,
      "outputs": [
        {
          "output_type": "execute_result",
          "data": {
            "text/plain": [
              "(<tf.Tensor: shape=(3,), dtype=string, numpy=array([b'bedroom', b'bathroom', b'garage'], dtype=object)>,\n",
              " <tf.Tensor: shape=(1,), dtype=int32, numpy=array([939700], dtype=int32)>)"
            ]
          },
          "metadata": {},
          "execution_count": 5
        }
      ]
    },
    {
      "cell_type": "code",
      "source": [
        "x[0], y[0]"
      ],
      "metadata": {
        "colab": {
          "base_uri": "https://localhost:8080/"
        },
        "id": "-tWt-gYSzm66",
        "outputId": "2ae18b81-65ec-4680-ea5e-226037984b0d"
      },
      "execution_count": 6,
      "outputs": [
        {
          "output_type": "execute_result",
          "data": {
            "text/plain": [
              "(-7.0, 3.0)"
            ]
          },
          "metadata": {},
          "execution_count": 6
        }
      ]
    },
    {
      "cell_type": "code",
      "source": [
        "input_shape = x[0].shape\n",
        "output_shape = y[0].shape\n",
        "\n",
        "input_shape, output_shape"
      ],
      "metadata": {
        "colab": {
          "base_uri": "https://localhost:8080/"
        },
        "id": "sGSz7U-vzY4m",
        "outputId": "266df48b-a211-4c0f-9df4-689b8c7736ce"
      },
      "execution_count": 7,
      "outputs": [
        {
          "output_type": "execute_result",
          "data": {
            "text/plain": [
              "((), ())"
            ]
          },
          "metadata": {},
          "execution_count": 7
        }
      ]
    },
    {
      "cell_type": "code",
      "source": [
        "x[0].ndim"
      ],
      "metadata": {
        "colab": {
          "base_uri": "https://localhost:8080/"
        },
        "id": "VCL4zHK5z8RR",
        "outputId": "41f55fa5-0164-418f-ecfc-cdde8649e3e9"
      },
      "execution_count": 8,
      "outputs": [
        {
          "output_type": "execute_result",
          "data": {
            "text/plain": [
              "0"
            ]
          },
          "metadata": {},
          "execution_count": 8
        }
      ]
    },
    {
      "cell_type": "code",
      "source": [
        "# Turn our Numpy arrays into tensors with dtype 32\n",
        "\n",
        "X = tf.constant(x, dtype=tf.float32)\n",
        "Y = tf.constant(y, dtype=tf.float32)\n",
        "\n",
        "X, Y"
      ],
      "metadata": {
        "colab": {
          "base_uri": "https://localhost:8080/"
        },
        "id": "QL2Ofdwmz-sQ",
        "outputId": "2e237d98-c7e4-493e-8b66-5e0dd9ab1f10"
      },
      "execution_count": 9,
      "outputs": [
        {
          "output_type": "execute_result",
          "data": {
            "text/plain": [
              "(<tf.Tensor: shape=(8,), dtype=float32, numpy=array([-7., -4., -1.,  2.,  5.,  8., 11., 14.], dtype=float32)>,\n",
              " <tf.Tensor: shape=(8,), dtype=float32, numpy=array([ 3.,  6.,  9., 12., 15., 18., 21., 24.], dtype=float32)>)"
            ]
          },
          "metadata": {},
          "execution_count": 9
        }
      ]
    },
    {
      "cell_type": "code",
      "source": [
        "input_shape = X[0].shape\n",
        "output_shape = y[0].shape\n",
        "\n",
        "input_shape, output_shape"
      ],
      "metadata": {
        "colab": {
          "base_uri": "https://localhost:8080/"
        },
        "id": "R6m8i44s1t3S",
        "outputId": "5f893241-e656-4ef6-cbc4-71db8d55d4a1"
      },
      "execution_count": 10,
      "outputs": [
        {
          "output_type": "execute_result",
          "data": {
            "text/plain": [
              "(TensorShape([]), ())"
            ]
          },
          "metadata": {},
          "execution_count": 10
        }
      ]
    },
    {
      "cell_type": "markdown",
      "source": [
        "## Steps in modelling with TensorFlow\n",
        "\n",
        "1. **Creating a model** - define the input and output layers, as well as the hidden layers of a deep learning model.\n",
        "\n",
        "2. **Compiling a model** - define the loss function (in other words, the function wich tells our model how wrong it is) and the optimizer (tells our model how to improve the patterns its learning) and evaluation metrics (what we can use to interpret the preformance of our model)\n",
        "\n",
        "3. Fitting a model - letting the model try to find patters between X & y (features and labels)"
      ],
      "metadata": {
        "id": "T9heq-y318BJ"
      }
    },
    {
      "cell_type": "code",
      "source": [
        "# Opetionally, the first layer can receive an 'input_shape' argument :\n",
        "# model = tf.keras.Sequential()\n",
        "# model.add(tf.keras.layers.Dense(8, input_shape=(16,)))\n",
        "\n",
        "# Afterwards, we do automatic shape inference :\n",
        "# model.add(tf.keras.layers.Dense(4))\n",
        "\n",
        "# model = tf.keras.Sequential()\n",
        "# model.add(tf.keras.layers.Dense(1))\n",
        "# ..."
      ],
      "metadata": {
        "id": "nEAWuhvc6w4g"
      },
      "execution_count": 11,
      "outputs": []
    },
    {
      "cell_type": "code",
      "source": [
        "# Set random seed\n",
        "\n",
        "tf.random.set_seed(42)\n",
        "\n",
        "# 1. Create a model using the Sequential API\n",
        "model = tf.keras.Sequential([\n",
        "    tf.keras.layers.Dense(1)\n",
        "])\n",
        "\n",
        "# 2. Compile the model\n",
        "model.compile(loss = tf.keras.losses.mae, # mae is short for mean absolute error\n",
        "              optimizer = tf.keras.optimizers.SGD(), # sgd is short for stochasitc gradient decent\n",
        "              metrics = [\"mae\"])\n",
        "\n",
        "# 3. Fit the model\n",
        "# model.fit(X, Y, epochs=5) # BREAK IN UPDATED TENSOR VERSION\n",
        "model.fit(tf.expand_dims(X, axis=-1), Y, epochs=5)"
      ],
      "metadata": {
        "colab": {
          "base_uri": "https://localhost:8080/"
        },
        "id": "ubX_9SYR149W",
        "outputId": "a9f823e8-6be5-4d7f-a53c-1cfeed36b36b"
      },
      "execution_count": 12,
      "outputs": [
        {
          "output_type": "stream",
          "name": "stdout",
          "text": [
            "Epoch 1/5\n",
            "1/1 [==============================] - 2s 2s/step - loss: 20.5984 - mae: 20.5984\n",
            "Epoch 2/5\n",
            "1/1 [==============================] - 0s 43ms/step - loss: 20.3172 - mae: 20.3172\n",
            "Epoch 3/5\n",
            "1/1 [==============================] - 0s 25ms/step - loss: 20.0359 - mae: 20.0359\n",
            "Epoch 4/5\n",
            "1/1 [==============================] - 0s 22ms/step - loss: 19.7547 - mae: 19.7547\n",
            "Epoch 5/5\n",
            "1/1 [==============================] - 0s 27ms/step - loss: 19.4734 - mae: 19.4734\n"
          ]
        },
        {
          "output_type": "execute_result",
          "data": {
            "text/plain": [
              "<keras.src.callbacks.History at 0x7f14daa37c40>"
            ]
          },
          "metadata": {},
          "execution_count": 12
        }
      ]
    },
    {
      "cell_type": "code",
      "source": [
        "# Check our X and Y\n",
        "x, y"
      ],
      "metadata": {
        "colab": {
          "base_uri": "https://localhost:8080/"
        },
        "id": "1B1DsBlo9jYC",
        "outputId": "2ed3b0cc-d405-475e-fb90-5fcd0528a46c"
      },
      "execution_count": 13,
      "outputs": [
        {
          "output_type": "execute_result",
          "data": {
            "text/plain": [
              "(array([-7., -4., -1.,  2.,  5.,  8., 11., 14.]),\n",
              " array([ 3.,  6.,  9., 12., 15., 18., 21., 24.]))"
            ]
          },
          "metadata": {},
          "execution_count": 13
        }
      ]
    },
    {
      "cell_type": "code",
      "source": [
        "# Try make prediction\n",
        "model.predict([17.0])"
      ],
      "metadata": {
        "colab": {
          "base_uri": "https://localhost:8080/"
        },
        "id": "L4S19GPP9pXG",
        "outputId": "d1414c41-180b-4a7e-c35e-885830c8e6e2"
      },
      "execution_count": 14,
      "outputs": [
        {
          "output_type": "stream",
          "name": "stdout",
          "text": [
            "1/1 [==============================] - 0s 316ms/step\n"
          ]
        },
        {
          "output_type": "execute_result",
          "data": {
            "text/plain": [
              "array([[-20.913967]], dtype=float32)"
            ]
          },
          "metadata": {},
          "execution_count": 14
        }
      ]
    },
    {
      "cell_type": "markdown",
      "source": [
        "## Improving our model\n",
        "\n",
        "We can improve our model, by altering the steps we took to create a model.\n",
        "\n",
        "1. **Creating a model** - ere we might add more layers, increse the number of hidden units (all called neurons) within each of the hidden layers, change the activation function of each layer.\n",
        "\n",
        "2. **Compiling a model** - here we might chang ethe optimization function or perhaps the **learning rate** of the optimization function.\n",
        "\n",
        "3. **Fitting a model** - here we might fit a model for more **epochs** (leave it training for longer) or on more data (give the model more examples to learn form)"
      ],
      "metadata": {
        "id": "Nq6KqLEo-HP4"
      }
    },
    {
      "cell_type": "code",
      "source": [
        "# Let's rebuild our model\n",
        "\n",
        "# 1. Create the model\n",
        "model1 = tf.keras.Sequential([\n",
        "    tf.keras.layers.Dense(1)\n",
        "])\n",
        "\n",
        "# 2. Compile the model\n",
        "model1.compile(loss = tf.keras.losses.mae,\n",
        "              optimizer = tf.keras.optimizers.SGD(),\n",
        "              metrics = [\"mae\"])\n",
        "\n",
        "# 3. Fit the model\n",
        "# model.fit(X, Y, epochs=5) # BREAK IN UPDATED TENSOR VERSION\n",
        "model1.fit(tf.expand_dims(X, axis=-1), Y, epochs=100)"
      ],
      "metadata": {
        "colab": {
          "base_uri": "https://localhost:8080/"
        },
        "id": "GPGzIvb2DLc2",
        "outputId": "e7cff6d6-32a4-4523-d089-8873b28feadf"
      },
      "execution_count": 15,
      "outputs": [
        {
          "output_type": "stream",
          "name": "stdout",
          "text": [
            "Epoch 1/100\n",
            "1/1 [==============================] - 2s 2s/step - loss: 13.7730 - mae: 13.7730\n",
            "Epoch 2/100\n",
            "1/1 [==============================] - 0s 17ms/step - loss: 13.6405 - mae: 13.6405\n",
            "Epoch 3/100\n",
            "1/1 [==============================] - 0s 32ms/step - loss: 13.5080 - mae: 13.5080\n",
            "Epoch 4/100\n",
            "1/1 [==============================] - 0s 27ms/step - loss: 13.3755 - mae: 13.3755\n",
            "Epoch 5/100\n",
            "1/1 [==============================] - 0s 16ms/step - loss: 13.2430 - mae: 13.2430\n",
            "Epoch 6/100\n",
            "1/1 [==============================] - 0s 26ms/step - loss: 13.1105 - mae: 13.1105\n",
            "Epoch 7/100\n",
            "1/1 [==============================] - 0s 46ms/step - loss: 12.9780 - mae: 12.9780\n",
            "Epoch 8/100\n",
            "1/1 [==============================] - 0s 21ms/step - loss: 12.8455 - mae: 12.8455\n",
            "Epoch 9/100\n",
            "1/1 [==============================] - 0s 29ms/step - loss: 12.7130 - mae: 12.7130\n",
            "Epoch 10/100\n",
            "1/1 [==============================] - 0s 20ms/step - loss: 12.5805 - mae: 12.5805\n",
            "Epoch 11/100\n",
            "1/1 [==============================] - 0s 28ms/step - loss: 12.4480 - mae: 12.4480\n",
            "Epoch 12/100\n",
            "1/1 [==============================] - 0s 28ms/step - loss: 12.3155 - mae: 12.3155\n",
            "Epoch 13/100\n",
            "1/1 [==============================] - 0s 22ms/step - loss: 12.1830 - mae: 12.1830\n",
            "Epoch 14/100\n",
            "1/1 [==============================] - 0s 19ms/step - loss: 12.0505 - mae: 12.0505\n",
            "Epoch 15/100\n",
            "1/1 [==============================] - 0s 34ms/step - loss: 11.9180 - mae: 11.9180\n",
            "Epoch 16/100\n",
            "1/1 [==============================] - 0s 30ms/step - loss: 11.7855 - mae: 11.7855\n",
            "Epoch 17/100\n",
            "1/1 [==============================] - 0s 33ms/step - loss: 11.6530 - mae: 11.6530\n",
            "Epoch 18/100\n",
            "1/1 [==============================] - 0s 22ms/step - loss: 11.5205 - mae: 11.5205\n",
            "Epoch 19/100\n",
            "1/1 [==============================] - 0s 18ms/step - loss: 11.3880 - mae: 11.3880\n",
            "Epoch 20/100\n",
            "1/1 [==============================] - 0s 18ms/step - loss: 11.2555 - mae: 11.2555\n",
            "Epoch 21/100\n",
            "1/1 [==============================] - 0s 21ms/step - loss: 11.1230 - mae: 11.1230\n",
            "Epoch 22/100\n",
            "1/1 [==============================] - 0s 25ms/step - loss: 10.9905 - mae: 10.9905\n",
            "Epoch 23/100\n",
            "1/1 [==============================] - 0s 23ms/step - loss: 10.8580 - mae: 10.8580\n",
            "Epoch 24/100\n",
            "1/1 [==============================] - 0s 23ms/step - loss: 10.7255 - mae: 10.7255\n",
            "Epoch 25/100\n",
            "1/1 [==============================] - 0s 38ms/step - loss: 10.5930 - mae: 10.5930\n",
            "Epoch 26/100\n",
            "1/1 [==============================] - 0s 28ms/step - loss: 10.4605 - mae: 10.4605\n",
            "Epoch 27/100\n",
            "1/1 [==============================] - 0s 18ms/step - loss: 10.3280 - mae: 10.3280\n",
            "Epoch 28/100\n",
            "1/1 [==============================] - 0s 17ms/step - loss: 10.1955 - mae: 10.1955\n",
            "Epoch 29/100\n",
            "1/1 [==============================] - 0s 38ms/step - loss: 10.0630 - mae: 10.0630\n",
            "Epoch 30/100\n",
            "1/1 [==============================] - 0s 40ms/step - loss: 9.9305 - mae: 9.9305\n",
            "Epoch 31/100\n",
            "1/1 [==============================] - 0s 22ms/step - loss: 9.7980 - mae: 9.7980\n",
            "Epoch 32/100\n",
            "1/1 [==============================] - 0s 31ms/step - loss: 9.6655 - mae: 9.6655\n",
            "Epoch 33/100\n",
            "1/1 [==============================] - 0s 30ms/step - loss: 9.5330 - mae: 9.5330\n",
            "Epoch 34/100\n",
            "1/1 [==============================] - 0s 26ms/step - loss: 9.4005 - mae: 9.4005\n",
            "Epoch 35/100\n",
            "1/1 [==============================] - 0s 24ms/step - loss: 9.2680 - mae: 9.2680\n",
            "Epoch 36/100\n",
            "1/1 [==============================] - 0s 15ms/step - loss: 9.1355 - mae: 9.1355\n",
            "Epoch 37/100\n",
            "1/1 [==============================] - 0s 27ms/step - loss: 9.0030 - mae: 9.0030\n",
            "Epoch 38/100\n",
            "1/1 [==============================] - 0s 34ms/step - loss: 8.8705 - mae: 8.8705\n",
            "Epoch 39/100\n",
            "1/1 [==============================] - 0s 63ms/step - loss: 8.7380 - mae: 8.7380\n",
            "Epoch 40/100\n",
            "1/1 [==============================] - 0s 57ms/step - loss: 8.6055 - mae: 8.6055\n",
            "Epoch 41/100\n",
            "1/1 [==============================] - 0s 40ms/step - loss: 8.4730 - mae: 8.4730\n",
            "Epoch 42/100\n",
            "1/1 [==============================] - 0s 41ms/step - loss: 8.3405 - mae: 8.3405\n",
            "Epoch 43/100\n",
            "1/1 [==============================] - 0s 27ms/step - loss: 8.2080 - mae: 8.2080\n",
            "Epoch 44/100\n",
            "1/1 [==============================] - 0s 22ms/step - loss: 8.0755 - mae: 8.0755\n",
            "Epoch 45/100\n",
            "1/1 [==============================] - 0s 23ms/step - loss: 7.9430 - mae: 7.9430\n",
            "Epoch 46/100\n",
            "1/1 [==============================] - 0s 33ms/step - loss: 7.8105 - mae: 7.8105\n",
            "Epoch 47/100\n",
            "1/1 [==============================] - 0s 18ms/step - loss: 7.6780 - mae: 7.6780\n",
            "Epoch 48/100\n",
            "1/1 [==============================] - 0s 23ms/step - loss: 7.5455 - mae: 7.5455\n",
            "Epoch 49/100\n",
            "1/1 [==============================] - 0s 29ms/step - loss: 7.4130 - mae: 7.4130\n",
            "Epoch 50/100\n",
            "1/1 [==============================] - 0s 23ms/step - loss: 7.2805 - mae: 7.2805\n",
            "Epoch 51/100\n",
            "1/1 [==============================] - 0s 30ms/step - loss: 7.1480 - mae: 7.1480\n",
            "Epoch 52/100\n",
            "1/1 [==============================] - 0s 32ms/step - loss: 7.1175 - mae: 7.1175\n",
            "Epoch 53/100\n",
            "1/1 [==============================] - 0s 75ms/step - loss: 7.1119 - mae: 7.1119\n",
            "Epoch 54/100\n",
            "1/1 [==============================] - 0s 78ms/step - loss: 7.1063 - mae: 7.1063\n",
            "Epoch 55/100\n",
            "1/1 [==============================] - 0s 49ms/step - loss: 7.1006 - mae: 7.1006\n",
            "Epoch 56/100\n",
            "1/1 [==============================] - 0s 66ms/step - loss: 7.0950 - mae: 7.0950\n",
            "Epoch 57/100\n",
            "1/1 [==============================] - 0s 54ms/step - loss: 7.0894 - mae: 7.0894\n",
            "Epoch 58/100\n",
            "1/1 [==============================] - 0s 47ms/step - loss: 7.0838 - mae: 7.0838\n",
            "Epoch 59/100\n",
            "1/1 [==============================] - 0s 32ms/step - loss: 7.0781 - mae: 7.0781\n",
            "Epoch 60/100\n",
            "1/1 [==============================] - 0s 55ms/step - loss: 7.0725 - mae: 7.0725\n",
            "Epoch 61/100\n",
            "1/1 [==============================] - 0s 42ms/step - loss: 7.0669 - mae: 7.0669\n",
            "Epoch 62/100\n",
            "1/1 [==============================] - 0s 37ms/step - loss: 7.0613 - mae: 7.0613\n",
            "Epoch 63/100\n",
            "1/1 [==============================] - 0s 36ms/step - loss: 7.0556 - mae: 7.0556\n",
            "Epoch 64/100\n",
            "1/1 [==============================] - 0s 35ms/step - loss: 7.0500 - mae: 7.0500\n",
            "Epoch 65/100\n",
            "1/1 [==============================] - 0s 38ms/step - loss: 7.0444 - mae: 7.0444\n",
            "Epoch 66/100\n",
            "1/1 [==============================] - 0s 46ms/step - loss: 7.0387 - mae: 7.0387\n",
            "Epoch 67/100\n",
            "1/1 [==============================] - 0s 39ms/step - loss: 7.0331 - mae: 7.0331\n",
            "Epoch 68/100\n",
            "1/1 [==============================] - 0s 39ms/step - loss: 7.0275 - mae: 7.0275\n",
            "Epoch 69/100\n",
            "1/1 [==============================] - 0s 39ms/step - loss: 7.0219 - mae: 7.0219\n",
            "Epoch 70/100\n",
            "1/1 [==============================] - 0s 35ms/step - loss: 7.0163 - mae: 7.0163\n",
            "Epoch 71/100\n",
            "1/1 [==============================] - 0s 27ms/step - loss: 7.0106 - mae: 7.0106\n",
            "Epoch 72/100\n",
            "1/1 [==============================] - 0s 22ms/step - loss: 7.0050 - mae: 7.0050\n",
            "Epoch 73/100\n",
            "1/1 [==============================] - 0s 25ms/step - loss: 6.9994 - mae: 6.9994\n",
            "Epoch 74/100\n",
            "1/1 [==============================] - 0s 29ms/step - loss: 6.9938 - mae: 6.9938\n",
            "Epoch 75/100\n",
            "1/1 [==============================] - 0s 31ms/step - loss: 6.9881 - mae: 6.9881\n",
            "Epoch 76/100\n",
            "1/1 [==============================] - 0s 26ms/step - loss: 6.9825 - mae: 6.9825\n",
            "Epoch 77/100\n",
            "1/1 [==============================] - 0s 23ms/step - loss: 6.9769 - mae: 6.9769\n",
            "Epoch 78/100\n",
            "1/1 [==============================] - 0s 28ms/step - loss: 6.9713 - mae: 6.9713\n",
            "Epoch 79/100\n",
            "1/1 [==============================] - 0s 24ms/step - loss: 6.9656 - mae: 6.9656\n",
            "Epoch 80/100\n",
            "1/1 [==============================] - 0s 25ms/step - loss: 6.9600 - mae: 6.9600\n",
            "Epoch 81/100\n",
            "1/1 [==============================] - 0s 21ms/step - loss: 6.9544 - mae: 6.9544\n",
            "Epoch 82/100\n",
            "1/1 [==============================] - 0s 31ms/step - loss: 6.9488 - mae: 6.9488\n",
            "Epoch 83/100\n",
            "1/1 [==============================] - 0s 26ms/step - loss: 6.9431 - mae: 6.9431\n",
            "Epoch 84/100\n",
            "1/1 [==============================] - 0s 66ms/step - loss: 6.9375 - mae: 6.9375\n",
            "Epoch 85/100\n",
            "1/1 [==============================] - 0s 51ms/step - loss: 6.9319 - mae: 6.9319\n",
            "Epoch 86/100\n",
            "1/1 [==============================] - 0s 29ms/step - loss: 6.9263 - mae: 6.9263\n",
            "Epoch 87/100\n",
            "1/1 [==============================] - 0s 36ms/step - loss: 6.9206 - mae: 6.9206\n",
            "Epoch 88/100\n",
            "1/1 [==============================] - 0s 37ms/step - loss: 6.9150 - mae: 6.9150\n",
            "Epoch 89/100\n",
            "1/1 [==============================] - 0s 34ms/step - loss: 6.9094 - mae: 6.9094\n",
            "Epoch 90/100\n",
            "1/1 [==============================] - 0s 25ms/step - loss: 6.9038 - mae: 6.9038\n",
            "Epoch 91/100\n",
            "1/1 [==============================] - 0s 28ms/step - loss: 6.8981 - mae: 6.8981\n",
            "Epoch 92/100\n",
            "1/1 [==============================] - 0s 25ms/step - loss: 6.8925 - mae: 6.8925\n",
            "Epoch 93/100\n",
            "1/1 [==============================] - 0s 20ms/step - loss: 6.8869 - mae: 6.8869\n",
            "Epoch 94/100\n",
            "1/1 [==============================] - 0s 42ms/step - loss: 6.8813 - mae: 6.8813\n",
            "Epoch 95/100\n",
            "1/1 [==============================] - 0s 57ms/step - loss: 6.8756 - mae: 6.8756\n",
            "Epoch 96/100\n",
            "1/1 [==============================] - 0s 29ms/step - loss: 6.8700 - mae: 6.8700\n",
            "Epoch 97/100\n",
            "1/1 [==============================] - 0s 40ms/step - loss: 6.8644 - mae: 6.8644\n",
            "Epoch 98/100\n",
            "1/1 [==============================] - 0s 50ms/step - loss: 6.8588 - mae: 6.8588\n",
            "Epoch 99/100\n",
            "1/1 [==============================] - 0s 31ms/step - loss: 6.8531 - mae: 6.8531\n",
            "Epoch 100/100\n",
            "1/1 [==============================] - 0s 22ms/step - loss: 6.8475 - mae: 6.8475\n"
          ]
        },
        {
          "output_type": "execute_result",
          "data": {
            "text/plain": [
              "<keras.src.callbacks.History at 0x7f14d6fc3df0>"
            ]
          },
          "metadata": {},
          "execution_count": 15
        }
      ]
    },
    {
      "cell_type": "code",
      "source": [
        "# Try make prediction\n",
        "model1.predict([17.0])"
      ],
      "metadata": {
        "colab": {
          "base_uri": "https://localhost:8080/"
        },
        "id": "4kMA7oidBuHG",
        "outputId": "aaabc112-6ee0-4080-b4b5-655916622eb9"
      },
      "execution_count": 16,
      "outputs": [
        {
          "output_type": "stream",
          "name": "stdout",
          "text": [
            "1/1 [==============================] - 0s 397ms/step\n"
          ]
        },
        {
          "output_type": "execute_result",
          "data": {
            "text/plain": [
              "array([[29.896383]], dtype=float32)"
            ]
          },
          "metadata": {},
          "execution_count": 16
        }
      ]
    },
    {
      "cell_type": "code",
      "source": [
        "# re-write the model by my self and improve one thing to get better\n",
        "\n",
        "# 1. Create the model\n",
        "model2 = tf.keras.Sequential([\n",
        "    tf.keras.layers.Dense(1)\n",
        "])\n",
        "\n",
        "# 2. Compile the model\n",
        "model2.compile(loss = tf.keras.losses.mae,\n",
        "              optimizer = tf.keras.optimizers.Adam(learning_rate=0.001), # chang the optimizers from SGD to adam\n",
        "              metrics = [\"mae\"])\n",
        "\n",
        "# 3. Fit the model\n",
        "# model.fit(X, Y, epochs=5) # BREAK IN UPDATED TENSOR VERSION\n",
        "model2.fit(tf.expand_dims(X, axis=-1), Y, epochs=100)"
      ],
      "metadata": {
        "colab": {
          "base_uri": "https://localhost:8080/"
        },
        "id": "gdwbhbhmJVPx",
        "outputId": "52fc4162-9b03-47b6-fdfa-74e769bf0b46"
      },
      "execution_count": 17,
      "outputs": [
        {
          "output_type": "stream",
          "name": "stdout",
          "text": [
            "Epoch 1/100\n",
            "1/1 [==============================] - 3s 3s/step - loss: 13.3211 - mae: 13.3211\n",
            "Epoch 2/100\n",
            "1/1 [==============================] - 0s 36ms/step - loss: 13.3166 - mae: 13.3166\n",
            "Epoch 3/100\n",
            "1/1 [==============================] - 0s 24ms/step - loss: 13.3121 - mae: 13.3121\n",
            "Epoch 4/100\n",
            "1/1 [==============================] - 0s 22ms/step - loss: 13.3076 - mae: 13.3076\n",
            "Epoch 5/100\n",
            "1/1 [==============================] - 0s 23ms/step - loss: 13.3031 - mae: 13.3031\n",
            "Epoch 6/100\n",
            "1/1 [==============================] - 0s 28ms/step - loss: 13.2986 - mae: 13.2986\n",
            "Epoch 7/100\n",
            "1/1 [==============================] - 0s 20ms/step - loss: 13.2941 - mae: 13.2941\n",
            "Epoch 8/100\n",
            "1/1 [==============================] - 0s 12ms/step - loss: 13.2896 - mae: 13.2896\n",
            "Epoch 9/100\n",
            "1/1 [==============================] - 0s 18ms/step - loss: 13.2851 - mae: 13.2851\n",
            "Epoch 10/100\n",
            "1/1 [==============================] - 0s 23ms/step - loss: 13.2806 - mae: 13.2806\n",
            "Epoch 11/100\n",
            "1/1 [==============================] - 0s 23ms/step - loss: 13.2761 - mae: 13.2761\n",
            "Epoch 12/100\n",
            "1/1 [==============================] - 0s 17ms/step - loss: 13.2716 - mae: 13.2716\n",
            "Epoch 13/100\n",
            "1/1 [==============================] - 0s 26ms/step - loss: 13.2671 - mae: 13.2671\n",
            "Epoch 14/100\n",
            "1/1 [==============================] - 0s 29ms/step - loss: 13.2626 - mae: 13.2626\n",
            "Epoch 15/100\n",
            "1/1 [==============================] - 0s 68ms/step - loss: 13.2581 - mae: 13.2581\n",
            "Epoch 16/100\n",
            "1/1 [==============================] - 0s 26ms/step - loss: 13.2536 - mae: 13.2536\n",
            "Epoch 17/100\n",
            "1/1 [==============================] - 0s 25ms/step - loss: 13.2491 - mae: 13.2491\n",
            "Epoch 18/100\n",
            "1/1 [==============================] - 0s 21ms/step - loss: 13.2446 - mae: 13.2446\n",
            "Epoch 19/100\n",
            "1/1 [==============================] - 0s 16ms/step - loss: 13.2401 - mae: 13.2401\n",
            "Epoch 20/100\n",
            "1/1 [==============================] - 0s 21ms/step - loss: 13.2356 - mae: 13.2356\n",
            "Epoch 21/100\n",
            "1/1 [==============================] - 0s 31ms/step - loss: 13.2311 - mae: 13.2311\n",
            "Epoch 22/100\n",
            "1/1 [==============================] - 0s 27ms/step - loss: 13.2266 - mae: 13.2266\n",
            "Epoch 23/100\n",
            "1/1 [==============================] - 0s 22ms/step - loss: 13.2221 - mae: 13.2221\n",
            "Epoch 24/100\n",
            "1/1 [==============================] - 0s 26ms/step - loss: 13.2176 - mae: 13.2176\n",
            "Epoch 25/100\n",
            "1/1 [==============================] - 0s 18ms/step - loss: 13.2131 - mae: 13.2131\n",
            "Epoch 26/100\n",
            "1/1 [==============================] - 0s 23ms/step - loss: 13.2086 - mae: 13.2086\n",
            "Epoch 27/100\n",
            "1/1 [==============================] - 0s 18ms/step - loss: 13.2041 - mae: 13.2041\n",
            "Epoch 28/100\n",
            "1/1 [==============================] - 0s 22ms/step - loss: 13.1996 - mae: 13.1996\n",
            "Epoch 29/100\n",
            "1/1 [==============================] - 0s 36ms/step - loss: 13.1951 - mae: 13.1951\n",
            "Epoch 30/100\n",
            "1/1 [==============================] - 0s 19ms/step - loss: 13.1906 - mae: 13.1906\n",
            "Epoch 31/100\n",
            "1/1 [==============================] - 0s 21ms/step - loss: 13.1861 - mae: 13.1861\n",
            "Epoch 32/100\n",
            "1/1 [==============================] - 0s 30ms/step - loss: 13.1816 - mae: 13.1816\n",
            "Epoch 33/100\n",
            "1/1 [==============================] - 0s 28ms/step - loss: 13.1771 - mae: 13.1771\n",
            "Epoch 34/100\n",
            "1/1 [==============================] - 0s 21ms/step - loss: 13.1726 - mae: 13.1726\n",
            "Epoch 35/100\n",
            "1/1 [==============================] - 0s 27ms/step - loss: 13.1681 - mae: 13.1681\n",
            "Epoch 36/100\n",
            "1/1 [==============================] - 0s 30ms/step - loss: 13.1636 - mae: 13.1636\n",
            "Epoch 37/100\n",
            "1/1 [==============================] - 0s 26ms/step - loss: 13.1591 - mae: 13.1591\n",
            "Epoch 38/100\n",
            "1/1 [==============================] - 0s 15ms/step - loss: 13.1546 - mae: 13.1546\n",
            "Epoch 39/100\n",
            "1/1 [==============================] - 0s 26ms/step - loss: 13.1501 - mae: 13.1501\n",
            "Epoch 40/100\n",
            "1/1 [==============================] - 0s 23ms/step - loss: 13.1456 - mae: 13.1456\n",
            "Epoch 41/100\n",
            "1/1 [==============================] - 0s 26ms/step - loss: 13.1411 - mae: 13.1411\n",
            "Epoch 42/100\n",
            "1/1 [==============================] - 0s 33ms/step - loss: 13.1366 - mae: 13.1366\n",
            "Epoch 43/100\n",
            "1/1 [==============================] - 0s 35ms/step - loss: 13.1321 - mae: 13.1321\n",
            "Epoch 44/100\n",
            "1/1 [==============================] - 0s 26ms/step - loss: 13.1276 - mae: 13.1276\n",
            "Epoch 45/100\n",
            "1/1 [==============================] - 0s 29ms/step - loss: 13.1231 - mae: 13.1231\n",
            "Epoch 46/100\n",
            "1/1 [==============================] - 0s 22ms/step - loss: 13.1186 - mae: 13.1186\n",
            "Epoch 47/100\n",
            "1/1 [==============================] - 0s 21ms/step - loss: 13.1141 - mae: 13.1141\n",
            "Epoch 48/100\n",
            "1/1 [==============================] - 0s 16ms/step - loss: 13.1096 - mae: 13.1096\n",
            "Epoch 49/100\n",
            "1/1 [==============================] - 0s 37ms/step - loss: 13.1051 - mae: 13.1051\n",
            "Epoch 50/100\n",
            "1/1 [==============================] - 0s 25ms/step - loss: 13.1006 - mae: 13.1006\n",
            "Epoch 51/100\n",
            "1/1 [==============================] - 0s 19ms/step - loss: 13.0961 - mae: 13.0961\n",
            "Epoch 52/100\n",
            "1/1 [==============================] - 0s 21ms/step - loss: 13.0916 - mae: 13.0916\n",
            "Epoch 53/100\n",
            "1/1 [==============================] - 0s 27ms/step - loss: 13.0871 - mae: 13.0871\n",
            "Epoch 54/100\n",
            "1/1 [==============================] - 0s 19ms/step - loss: 13.0826 - mae: 13.0826\n",
            "Epoch 55/100\n",
            "1/1 [==============================] - 0s 32ms/step - loss: 13.0781 - mae: 13.0781\n",
            "Epoch 56/100\n",
            "1/1 [==============================] - 0s 25ms/step - loss: 13.0736 - mae: 13.0736\n",
            "Epoch 57/100\n",
            "1/1 [==============================] - 0s 25ms/step - loss: 13.0691 - mae: 13.0691\n",
            "Epoch 58/100\n",
            "1/1 [==============================] - 0s 20ms/step - loss: 13.0646 - mae: 13.0646\n",
            "Epoch 59/100\n",
            "1/1 [==============================] - 0s 20ms/step - loss: 13.0601 - mae: 13.0601\n",
            "Epoch 60/100\n",
            "1/1 [==============================] - 0s 20ms/step - loss: 13.0556 - mae: 13.0556\n",
            "Epoch 61/100\n",
            "1/1 [==============================] - 0s 20ms/step - loss: 13.0511 - mae: 13.0511\n",
            "Epoch 62/100\n",
            "1/1 [==============================] - 0s 18ms/step - loss: 13.0466 - mae: 13.0466\n",
            "Epoch 63/100\n",
            "1/1 [==============================] - 0s 23ms/step - loss: 13.0421 - mae: 13.0421\n",
            "Epoch 64/100\n",
            "1/1 [==============================] - 0s 19ms/step - loss: 13.0376 - mae: 13.0376\n",
            "Epoch 65/100\n",
            "1/1 [==============================] - 0s 22ms/step - loss: 13.0331 - mae: 13.0331\n",
            "Epoch 66/100\n",
            "1/1 [==============================] - 0s 17ms/step - loss: 13.0286 - mae: 13.0286\n",
            "Epoch 67/100\n",
            "1/1 [==============================] - 0s 23ms/step - loss: 13.0241 - mae: 13.0241\n",
            "Epoch 68/100\n",
            "1/1 [==============================] - 0s 32ms/step - loss: 13.0196 - mae: 13.0196\n",
            "Epoch 69/100\n",
            "1/1 [==============================] - 0s 40ms/step - loss: 13.0151 - mae: 13.0151\n",
            "Epoch 70/100\n",
            "1/1 [==============================] - 0s 14ms/step - loss: 13.0106 - mae: 13.0106\n",
            "Epoch 71/100\n",
            "1/1 [==============================] - 0s 15ms/step - loss: 13.0061 - mae: 13.0061\n",
            "Epoch 72/100\n",
            "1/1 [==============================] - 0s 13ms/step - loss: 13.0016 - mae: 13.0016\n",
            "Epoch 73/100\n",
            "1/1 [==============================] - 0s 18ms/step - loss: 12.9971 - mae: 12.9971\n",
            "Epoch 74/100\n",
            "1/1 [==============================] - 0s 16ms/step - loss: 12.9926 - mae: 12.9926\n",
            "Epoch 75/100\n",
            "1/1 [==============================] - 0s 24ms/step - loss: 12.9881 - mae: 12.9881\n",
            "Epoch 76/100\n",
            "1/1 [==============================] - 0s 22ms/step - loss: 12.9836 - mae: 12.9836\n",
            "Epoch 77/100\n",
            "1/1 [==============================] - 0s 21ms/step - loss: 12.9791 - mae: 12.9791\n",
            "Epoch 78/100\n",
            "1/1 [==============================] - 0s 16ms/step - loss: 12.9746 - mae: 12.9746\n",
            "Epoch 79/100\n",
            "1/1 [==============================] - 0s 20ms/step - loss: 12.9701 - mae: 12.9701\n",
            "Epoch 80/100\n",
            "1/1 [==============================] - 0s 41ms/step - loss: 12.9656 - mae: 12.9656\n",
            "Epoch 81/100\n",
            "1/1 [==============================] - 0s 17ms/step - loss: 12.9611 - mae: 12.9611\n",
            "Epoch 82/100\n",
            "1/1 [==============================] - 0s 17ms/step - loss: 12.9566 - mae: 12.9566\n",
            "Epoch 83/100\n",
            "1/1 [==============================] - 0s 26ms/step - loss: 12.9521 - mae: 12.9521\n",
            "Epoch 84/100\n",
            "1/1 [==============================] - 0s 27ms/step - loss: 12.9476 - mae: 12.9476\n",
            "Epoch 85/100\n",
            "1/1 [==============================] - 0s 20ms/step - loss: 12.9431 - mae: 12.9431\n",
            "Epoch 86/100\n",
            "1/1 [==============================] - 0s 26ms/step - loss: 12.9386 - mae: 12.9386\n",
            "Epoch 87/100\n",
            "1/1 [==============================] - 0s 36ms/step - loss: 12.9341 - mae: 12.9341\n",
            "Epoch 88/100\n",
            "1/1 [==============================] - 0s 45ms/step - loss: 12.9296 - mae: 12.9296\n",
            "Epoch 89/100\n",
            "1/1 [==============================] - 0s 31ms/step - loss: 12.9251 - mae: 12.9251\n",
            "Epoch 90/100\n",
            "1/1 [==============================] - 0s 35ms/step - loss: 12.9206 - mae: 12.9206\n",
            "Epoch 91/100\n",
            "1/1 [==============================] - 0s 43ms/step - loss: 12.9161 - mae: 12.9161\n",
            "Epoch 92/100\n",
            "1/1 [==============================] - 0s 28ms/step - loss: 12.9116 - mae: 12.9116\n",
            "Epoch 93/100\n",
            "1/1 [==============================] - 0s 20ms/step - loss: 12.9071 - mae: 12.9071\n",
            "Epoch 94/100\n",
            "1/1 [==============================] - 0s 30ms/step - loss: 12.9026 - mae: 12.9026\n",
            "Epoch 95/100\n",
            "1/1 [==============================] - 0s 34ms/step - loss: 12.8981 - mae: 12.8981\n",
            "Epoch 96/100\n",
            "1/1 [==============================] - 0s 21ms/step - loss: 12.8936 - mae: 12.8936\n",
            "Epoch 97/100\n",
            "1/1 [==============================] - 0s 28ms/step - loss: 12.8891 - mae: 12.8891\n",
            "Epoch 98/100\n",
            "1/1 [==============================] - 0s 24ms/step - loss: 12.8846 - mae: 12.8846\n",
            "Epoch 99/100\n",
            "1/1 [==============================] - 0s 32ms/step - loss: 12.8801 - mae: 12.8801\n",
            "Epoch 100/100\n",
            "1/1 [==============================] - 0s 29ms/step - loss: 12.8756 - mae: 12.8756\n"
          ]
        },
        {
          "output_type": "execute_result",
          "data": {
            "text/plain": [
              "<keras.src.callbacks.History at 0x7f14d81a7af0>"
            ]
          },
          "metadata": {},
          "execution_count": 17
        }
      ]
    },
    {
      "cell_type": "code",
      "source": [
        "# Try make prediction\n",
        "model2.predict([17.0])"
      ],
      "metadata": {
        "colab": {
          "base_uri": "https://localhost:8080/"
        },
        "id": "QeWEo95_J5Gg",
        "outputId": "bbe87c72-88ab-4807-dcd0-288cce83bd2f"
      },
      "execution_count": 18,
      "outputs": [
        {
          "output_type": "stream",
          "name": "stdout",
          "text": [
            "1/1 [==============================] - 0s 151ms/step\n"
          ]
        },
        {
          "output_type": "execute_result",
          "data": {
            "text/plain": [
              "array([[2.6688914]], dtype=float32)"
            ]
          },
          "metadata": {},
          "execution_count": 18
        }
      ]
    },
    {
      "cell_type": "code",
      "source": [
        "# re-write the model\n",
        "\n",
        "# 1. Create the model (with 100 hidden units )\n",
        "model3 = tf.keras.Sequential([\n",
        "    tf.keras.layers.Dense(50, activation=None),\n",
        "    tf.keras.layers.Dense(1)\n",
        "])\n",
        "\n",
        "# 2. Compile the model\n",
        "model3.compile(loss = \"mae\",\n",
        "              optimizer = tf.keras.optimizers.Adam(learning_rate = 0.01),\n",
        "              metrics = [\"mae\"])\n",
        "\n",
        "# 3. Fit the model\n",
        "# model.fit(X, Y, epochs=5) # BREAK IN UPDATED TENSOR VERSION\n",
        "model3.fit(tf.expand_dims(X, axis=-1), Y, epochs=100)"
      ],
      "metadata": {
        "colab": {
          "base_uri": "https://localhost:8080/"
        },
        "id": "KI1XF166hgOa",
        "outputId": "fccb461c-7d34-4320-820d-f74a6a344d78"
      },
      "execution_count": 19,
      "outputs": [
        {
          "output_type": "stream",
          "name": "stdout",
          "text": [
            "Epoch 1/100\n",
            "1/1 [==============================] - 2s 2s/step - loss: 15.3272 - mae: 15.3272\n",
            "Epoch 2/100\n",
            "1/1 [==============================] - 0s 25ms/step - loss: 14.3701 - mae: 14.3701\n",
            "Epoch 3/100\n",
            "1/1 [==============================] - 0s 23ms/step - loss: 13.5455 - mae: 13.5455\n",
            "Epoch 4/100\n",
            "1/1 [==============================] - 0s 29ms/step - loss: 12.7239 - mae: 12.7239\n",
            "Epoch 5/100\n",
            "1/1 [==============================] - 0s 33ms/step - loss: 11.9019 - mae: 11.9019\n",
            "Epoch 6/100\n",
            "1/1 [==============================] - 0s 36ms/step - loss: 11.0783 - mae: 11.0783\n",
            "Epoch 7/100\n",
            "1/1 [==============================] - 0s 35ms/step - loss: 10.2524 - mae: 10.2524\n",
            "Epoch 8/100\n",
            "1/1 [==============================] - 0s 29ms/step - loss: 9.4232 - mae: 9.4232\n",
            "Epoch 9/100\n",
            "1/1 [==============================] - 0s 22ms/step - loss: 8.5900 - mae: 8.5900\n",
            "Epoch 10/100\n",
            "1/1 [==============================] - 0s 25ms/step - loss: 7.7513 - mae: 7.7513\n",
            "Epoch 11/100\n",
            "1/1 [==============================] - 0s 27ms/step - loss: 6.9059 - mae: 6.9059\n",
            "Epoch 12/100\n",
            "1/1 [==============================] - 0s 27ms/step - loss: 6.5476 - mae: 6.5476\n",
            "Epoch 13/100\n",
            "1/1 [==============================] - 0s 22ms/step - loss: 6.9304 - mae: 6.9304\n",
            "Epoch 14/100\n",
            "1/1 [==============================] - 0s 27ms/step - loss: 7.3342 - mae: 7.3342\n",
            "Epoch 15/100\n",
            "1/1 [==============================] - 0s 27ms/step - loss: 7.6736 - mae: 7.6736\n",
            "Epoch 16/100\n",
            "1/1 [==============================] - 0s 35ms/step - loss: 7.7761 - mae: 7.7761\n",
            "Epoch 17/100\n",
            "1/1 [==============================] - 0s 40ms/step - loss: 7.6934 - mae: 7.6934\n",
            "Epoch 18/100\n",
            "1/1 [==============================] - 0s 31ms/step - loss: 7.4645 - mae: 7.4645\n",
            "Epoch 19/100\n",
            "1/1 [==============================] - 0s 34ms/step - loss: 7.1198 - mae: 7.1198\n",
            "Epoch 20/100\n",
            "1/1 [==============================] - 0s 30ms/step - loss: 6.7047 - mae: 6.7047\n",
            "Epoch 21/100\n",
            "1/1 [==============================] - 0s 30ms/step - loss: 6.4116 - mae: 6.4116\n",
            "Epoch 22/100\n",
            "1/1 [==============================] - 0s 31ms/step - loss: 6.1047 - mae: 6.1047\n",
            "Epoch 23/100\n",
            "1/1 [==============================] - 0s 21ms/step - loss: 5.8374 - mae: 5.8374\n",
            "Epoch 24/100\n",
            "1/1 [==============================] - 0s 24ms/step - loss: 5.7835 - mae: 5.7835\n",
            "Epoch 25/100\n",
            "1/1 [==============================] - 0s 29ms/step - loss: 5.8357 - mae: 5.8357\n",
            "Epoch 26/100\n",
            "1/1 [==============================] - 0s 32ms/step - loss: 5.9317 - mae: 5.9317\n",
            "Epoch 27/100\n",
            "1/1 [==============================] - 0s 25ms/step - loss: 5.9267 - mae: 5.9267\n",
            "Epoch 28/100\n",
            "1/1 [==============================] - 0s 20ms/step - loss: 5.8325 - mae: 5.8325\n",
            "Epoch 29/100\n",
            "1/1 [==============================] - 0s 26ms/step - loss: 5.6581 - mae: 5.6581\n",
            "Epoch 30/100\n",
            "1/1 [==============================] - 0s 26ms/step - loss: 5.4108 - mae: 5.4108\n",
            "Epoch 31/100\n",
            "1/1 [==============================] - 0s 46ms/step - loss: 5.2070 - mae: 5.2070\n",
            "Epoch 32/100\n",
            "1/1 [==============================] - 0s 27ms/step - loss: 5.0997 - mae: 5.0997\n",
            "Epoch 33/100\n",
            "1/1 [==============================] - 0s 22ms/step - loss: 5.0246 - mae: 5.0246\n",
            "Epoch 34/100\n",
            "1/1 [==============================] - 0s 41ms/step - loss: 5.0202 - mae: 5.0202\n",
            "Epoch 35/100\n",
            "1/1 [==============================] - 0s 27ms/step - loss: 4.9690 - mae: 4.9690\n",
            "Epoch 36/100\n",
            "1/1 [==============================] - 0s 37ms/step - loss: 4.8747 - mae: 4.8747\n",
            "Epoch 37/100\n",
            "1/1 [==============================] - 0s 51ms/step - loss: 4.7405 - mae: 4.7405\n",
            "Epoch 38/100\n",
            "1/1 [==============================] - 0s 34ms/step - loss: 4.5698 - mae: 4.5698\n",
            "Epoch 39/100\n",
            "1/1 [==============================] - 0s 56ms/step - loss: 4.3817 - mae: 4.3817\n",
            "Epoch 40/100\n",
            "1/1 [==============================] - 0s 49ms/step - loss: 4.2792 - mae: 4.2792\n",
            "Epoch 41/100\n",
            "1/1 [==============================] - 0s 38ms/step - loss: 4.1706 - mae: 4.1706\n",
            "Epoch 42/100\n",
            "1/1 [==============================] - 0s 27ms/step - loss: 4.0559 - mae: 4.0559\n",
            "Epoch 43/100\n",
            "1/1 [==============================] - 0s 22ms/step - loss: 3.9592 - mae: 3.9592\n",
            "Epoch 44/100\n",
            "1/1 [==============================] - 0s 42ms/step - loss: 3.8010 - mae: 3.8010\n",
            "Epoch 45/100\n",
            "1/1 [==============================] - 0s 16ms/step - loss: 3.6530 - mae: 3.6530\n",
            "Epoch 46/100\n",
            "1/1 [==============================] - 0s 38ms/step - loss: 3.5000 - mae: 3.5000\n",
            "Epoch 47/100\n",
            "1/1 [==============================] - 0s 19ms/step - loss: 3.3737 - mae: 3.3737\n",
            "Epoch 48/100\n",
            "1/1 [==============================] - 0s 15ms/step - loss: 3.2610 - mae: 3.2610\n",
            "Epoch 49/100\n",
            "1/1 [==============================] - 0s 25ms/step - loss: 3.0958 - mae: 3.0958\n",
            "Epoch 50/100\n",
            "1/1 [==============================] - 0s 31ms/step - loss: 2.8810 - mae: 2.8810\n",
            "Epoch 51/100\n",
            "1/1 [==============================] - 0s 17ms/step - loss: 2.7244 - mae: 2.7244\n",
            "Epoch 52/100\n",
            "1/1 [==============================] - 0s 16ms/step - loss: 2.5808 - mae: 2.5808\n",
            "Epoch 53/100\n",
            "1/1 [==============================] - 0s 31ms/step - loss: 2.4093 - mae: 2.4093\n",
            "Epoch 54/100\n",
            "1/1 [==============================] - 0s 23ms/step - loss: 2.1863 - mae: 2.1863\n",
            "Epoch 55/100\n",
            "1/1 [==============================] - 0s 16ms/step - loss: 1.9875 - mae: 1.9875\n",
            "Epoch 56/100\n",
            "1/1 [==============================] - 0s 32ms/step - loss: 1.8169 - mae: 1.8169\n",
            "Epoch 57/100\n",
            "1/1 [==============================] - 0s 37ms/step - loss: 1.5843 - mae: 1.5843\n",
            "Epoch 58/100\n",
            "1/1 [==============================] - 0s 22ms/step - loss: 1.3738 - mae: 1.3738\n",
            "Epoch 59/100\n",
            "1/1 [==============================] - 0s 27ms/step - loss: 1.2517 - mae: 1.2517\n",
            "Epoch 60/100\n",
            "1/1 [==============================] - 0s 32ms/step - loss: 0.9898 - mae: 0.9898\n",
            "Epoch 61/100\n",
            "1/1 [==============================] - 0s 27ms/step - loss: 0.7000 - mae: 0.7000\n",
            "Epoch 62/100\n",
            "1/1 [==============================] - 0s 36ms/step - loss: 0.5390 - mae: 0.5390\n",
            "Epoch 63/100\n",
            "1/1 [==============================] - 0s 30ms/step - loss: 0.2069 - mae: 0.2069\n",
            "Epoch 64/100\n",
            "1/1 [==============================] - 0s 27ms/step - loss: 0.3945 - mae: 0.3945\n",
            "Epoch 65/100\n",
            "1/1 [==============================] - 0s 24ms/step - loss: 0.4989 - mae: 0.4989\n",
            "Epoch 66/100\n",
            "1/1 [==============================] - 0s 17ms/step - loss: 0.4800 - mae: 0.4800\n",
            "Epoch 67/100\n",
            "1/1 [==============================] - 0s 21ms/step - loss: 0.6632 - mae: 0.6632\n",
            "Epoch 68/100\n",
            "1/1 [==============================] - 0s 19ms/step - loss: 0.6790 - mae: 0.6790\n",
            "Epoch 69/100\n",
            "1/1 [==============================] - 0s 21ms/step - loss: 0.7548 - mae: 0.7548\n",
            "Epoch 70/100\n",
            "1/1 [==============================] - 0s 18ms/step - loss: 0.7537 - mae: 0.7537\n",
            "Epoch 71/100\n",
            "1/1 [==============================] - 0s 16ms/step - loss: 0.6779 - mae: 0.6779\n",
            "Epoch 72/100\n",
            "1/1 [==============================] - 0s 23ms/step - loss: 0.6357 - mae: 0.6357\n",
            "Epoch 73/100\n",
            "1/1 [==============================] - 0s 27ms/step - loss: 0.5300 - mae: 0.5300\n",
            "Epoch 74/100\n",
            "1/1 [==============================] - 0s 16ms/step - loss: 0.4170 - mae: 0.4170\n",
            "Epoch 75/100\n",
            "1/1 [==============================] - 0s 27ms/step - loss: 0.3306 - mae: 0.3306\n",
            "Epoch 76/100\n",
            "1/1 [==============================] - 0s 27ms/step - loss: 0.1363 - mae: 0.1363\n",
            "Epoch 77/100\n",
            "1/1 [==============================] - 0s 31ms/step - loss: 0.1021 - mae: 0.1021\n",
            "Epoch 78/100\n",
            "1/1 [==============================] - 0s 29ms/step - loss: 0.2431 - mae: 0.2431\n",
            "Epoch 79/100\n",
            "1/1 [==============================] - 0s 59ms/step - loss: 0.3158 - mae: 0.3158\n",
            "Epoch 80/100\n",
            "1/1 [==============================] - 0s 44ms/step - loss: 0.3964 - mae: 0.3964\n",
            "Epoch 81/100\n",
            "1/1 [==============================] - 0s 23ms/step - loss: 0.4383 - mae: 0.4383\n",
            "Epoch 82/100\n",
            "1/1 [==============================] - 0s 13ms/step - loss: 0.3743 - mae: 0.3743\n",
            "Epoch 83/100\n",
            "1/1 [==============================] - 0s 28ms/step - loss: 0.3685 - mae: 0.3685\n",
            "Epoch 84/100\n",
            "1/1 [==============================] - 0s 17ms/step - loss: 0.2946 - mae: 0.2946\n",
            "Epoch 85/100\n",
            "1/1 [==============================] - 0s 17ms/step - loss: 0.2319 - mae: 0.2319\n",
            "Epoch 86/100\n",
            "1/1 [==============================] - 0s 19ms/step - loss: 0.2066 - mae: 0.2066\n",
            "Epoch 87/100\n",
            "1/1 [==============================] - 0s 11ms/step - loss: 0.0401 - mae: 0.0401\n",
            "Epoch 88/100\n",
            "1/1 [==============================] - 0s 14ms/step - loss: 0.1163 - mae: 0.1163\n",
            "Epoch 89/100\n",
            "1/1 [==============================] - 0s 17ms/step - loss: 0.2182 - mae: 0.2182\n",
            "Epoch 90/100\n",
            "1/1 [==============================] - 0s 19ms/step - loss: 0.2188 - mae: 0.2188\n",
            "Epoch 91/100\n",
            "1/1 [==============================] - 0s 12ms/step - loss: 0.2611 - mae: 0.2611\n",
            "Epoch 92/100\n",
            "1/1 [==============================] - 0s 23ms/step - loss: 0.2413 - mae: 0.2413\n",
            "Epoch 93/100\n",
            "1/1 [==============================] - 0s 17ms/step - loss: 0.1754 - mae: 0.1754\n",
            "Epoch 94/100\n",
            "1/1 [==============================] - 0s 21ms/step - loss: 0.1649 - mae: 0.1649\n",
            "Epoch 95/100\n",
            "1/1 [==============================] - 0s 20ms/step - loss: 0.0403 - mae: 0.0403\n",
            "Epoch 96/100\n",
            "1/1 [==============================] - 0s 21ms/step - loss: 0.1115 - mae: 0.1115\n",
            "Epoch 97/100\n",
            "1/1 [==============================] - 0s 18ms/step - loss: 0.1460 - mae: 0.1460\n",
            "Epoch 98/100\n",
            "1/1 [==============================] - 0s 25ms/step - loss: 0.1695 - mae: 0.1695\n",
            "Epoch 99/100\n",
            "1/1 [==============================] - 0s 26ms/step - loss: 0.2139 - mae: 0.2139\n",
            "Epoch 100/100\n",
            "1/1 [==============================] - 0s 33ms/step - loss: 0.1385 - mae: 0.1385\n"
          ]
        },
        {
          "output_type": "execute_result",
          "data": {
            "text/plain": [
              "<keras.src.callbacks.History at 0x7f14d809a6e0>"
            ]
          },
          "metadata": {},
          "execution_count": 19
        }
      ]
    },
    {
      "cell_type": "code",
      "source": [
        "# Try make prediction\n",
        "model3.predict([17.0])"
      ],
      "metadata": {
        "colab": {
          "base_uri": "https://localhost:8080/"
        },
        "id": "iZcXS1vmiusq",
        "outputId": "f98f014b-d3ed-473d-f294-3ac79c6d0b3e"
      },
      "execution_count": 20,
      "outputs": [
        {
          "output_type": "stream",
          "name": "stdout",
          "text": [
            "1/1 [==============================] - 0s 232ms/step\n"
          ]
        },
        {
          "output_type": "execute_result",
          "data": {
            "text/plain": [
              "array([[27.729095]], dtype=float32)"
            ]
          },
          "metadata": {},
          "execution_count": 20
        }
      ]
    },
    {
      "cell_type": "markdown",
      "source": [
        "## Evaluating Model\n",
        "\n",
        "Build a model -> fit it -> evaluate it -> tweak a model -> fit it -> evaluate it...\n",
        "\n",
        "Evaluation = visualize\n",
        "\n",
        "it's good idea to visualize :\n",
        "* The data - what data we working with? what does it look like?\n",
        "* The model = what does our model look like?\n",
        "* The training of a model - how does a model perform while it learns?\n",
        "* The predictions of the model - how do the predictions of a model line up against the ground truth (the origin label)"
      ],
      "metadata": {
        "id": "ggu1CbXFlSbl"
      }
    },
    {
      "cell_type": "code",
      "source": [
        "# Make a bigger dataset\n",
        "\n",
        "x = tf.range(-100, 100, 4)\n",
        "x"
      ],
      "metadata": {
        "colab": {
          "base_uri": "https://localhost:8080/"
        },
        "id": "O5yDk0J9lV5n",
        "outputId": "4b1b853d-76f7-43dc-e3a3-910479cd80ec"
      },
      "execution_count": 21,
      "outputs": [
        {
          "output_type": "execute_result",
          "data": {
            "text/plain": [
              "<tf.Tensor: shape=(50,), dtype=int32, numpy=\n",
              "array([-100,  -96,  -92,  -88,  -84,  -80,  -76,  -72,  -68,  -64,  -60,\n",
              "        -56,  -52,  -48,  -44,  -40,  -36,  -32,  -28,  -24,  -20,  -16,\n",
              "        -12,   -8,   -4,    0,    4,    8,   12,   16,   20,   24,   28,\n",
              "         32,   36,   40,   44,   48,   52,   56,   60,   64,   68,   72,\n",
              "         76,   80,   84,   88,   92,   96], dtype=int32)>"
            ]
          },
          "metadata": {},
          "execution_count": 21
        }
      ]
    },
    {
      "cell_type": "code",
      "source": [
        "# Make labels for the dataset\n",
        "\n",
        "y = x + 10\n",
        "y"
      ],
      "metadata": {
        "colab": {
          "base_uri": "https://localhost:8080/"
        },
        "id": "_VnV5iodqYP8",
        "outputId": "94d6e3b8-cbb5-4d9c-adf4-a452be50c525"
      },
      "execution_count": 22,
      "outputs": [
        {
          "output_type": "execute_result",
          "data": {
            "text/plain": [
              "<tf.Tensor: shape=(50,), dtype=int32, numpy=\n",
              "array([-90, -86, -82, -78, -74, -70, -66, -62, -58, -54, -50, -46, -42,\n",
              "       -38, -34, -30, -26, -22, -18, -14, -10,  -6,  -2,   2,   6,  10,\n",
              "        14,  18,  22,  26,  30,  34,  38,  42,  46,  50,  54,  58,  62,\n",
              "        66,  70,  74,  78,  82,  86,  90,  94,  98, 102, 106], dtype=int32)>"
            ]
          },
          "metadata": {},
          "execution_count": 22
        }
      ]
    },
    {
      "cell_type": "code",
      "source": [
        "# Visualize the data\n",
        "\n",
        "import matplotlib.pyplot as plt\n",
        "\n",
        "plt.scatter(x, y)"
      ],
      "metadata": {
        "colab": {
          "base_uri": "https://localhost:8080/",
          "height": 447
        },
        "id": "wqnieOnpqiby",
        "outputId": "97b5f51b-9af4-4c2e-8708-8532f28e0e90"
      },
      "execution_count": 23,
      "outputs": [
        {
          "output_type": "execute_result",
          "data": {
            "text/plain": [
              "<matplotlib.collections.PathCollection at 0x7f14d7fd6a40>"
            ]
          },
          "metadata": {},
          "execution_count": 23
        },
        {
          "output_type": "display_data",
          "data": {
            "text/plain": [
              "<Figure size 640x480 with 1 Axes>"
            ],
            "image/png": "[encoded data removed]"
          },
          "metadata": {}
        }
      ]
    },
    {
      "cell_type": "markdown",
      "source": [
        "### The 3 sets\n",
        "\n",
        "* **Training set** - the model learn from this data, 70-80%\n",
        "* **Validation set** - set model gets tuned on this data, 10-15%\n",
        "* **Test set** - the model gets evaluated on this data, 10-15%"
      ],
      "metadata": {
        "id": "CCtd3h36q0Xk"
      }
    },
    {
      "cell_type": "code",
      "source": [
        "# Check the length of the data\n",
        "len(x)"
      ],
      "metadata": {
        "colab": {
          "base_uri": "https://localhost:8080/"
        },
        "id": "2_ITjQWjFQsM",
        "outputId": "86f1921a-56d6-4c70-ac85-5b707ece675d"
      },
      "execution_count": 24,
      "outputs": [
        {
          "output_type": "execute_result",
          "data": {
            "text/plain": [
              "50"
            ]
          },
          "metadata": {},
          "execution_count": 24
        }
      ]
    },
    {
      "cell_type": "code",
      "source": [
        "# Split the data into train and test sets\n",
        "x_train = x[:40] # first to 40 data will be the training sample\n",
        "y_train = y[:40]\n",
        "\n",
        "x_test = x[40:] # 20% will be test\n",
        "y_test = y[40:]\n",
        "\n",
        "len(x_train), len(x_test), len(y_train), len(y_test)"
      ],
      "metadata": {
        "colab": {
          "base_uri": "https://localhost:8080/"
        },
        "id": "4fkIFEl_HAu3",
        "outputId": "2eb0253c-7555-4fa6-911c-4b6787c9d9e9"
      },
      "execution_count": 25,
      "outputs": [
        {
          "output_type": "execute_result",
          "data": {
            "text/plain": [
              "(40, 10, 40, 10)"
            ]
          },
          "metadata": {},
          "execution_count": 25
        }
      ]
    },
    {
      "cell_type": "markdown",
      "source": [
        "### Visualing the data\n",
        "\n",
        "Now we've got out data in training and test sets...lets visualize it"
      ],
      "metadata": {
        "id": "9WJ9AtA0KgLL"
      }
    },
    {
      "cell_type": "code",
      "source": [
        "plt.figure(figsize=(10,7))\n",
        "\n",
        "# Plot training data in blue\n",
        "plt.scatter(x_train, y_train, c=\"b\", label=\"Training data\")\n",
        "\n",
        "# Plot test data in green\n",
        "plt.scatter(x_test, y_test, c=\"g\", label=\"Testing data\")\n",
        "\n",
        "# Show a legend\n",
        "plt.legend();"
      ],
      "metadata": {
        "colab": {
          "base_uri": "https://localhost:8080/",
          "height": 484
        },
        "id": "OQGu_de6G_li",
        "outputId": "8fe4644d-e291-4ac2-a89c-2848182212f5"
      },
      "execution_count": 26,
      "outputs": [
        {
          "output_type": "display_data",
          "data": {
            "text/plain": [
              "<Figure size 1000x700 with 1 Axes>"
            ],
            "image/png": "[encoded data removed]"
          },
          "metadata": {}
        }
      ]
    },
    {
      "cell_type": "code",
      "source": [
        "# Lets have a look at how to build a neural network for our data\n",
        "\n",
        "# 1. Create the model\n",
        "model = tf.keras.Sequential([\n",
        "    tf.keras.layers.Dense(1)\n",
        "])\n",
        "\n",
        "# 2. Compile the model\n",
        "model.compile(loss = tf.keras.losses.mae,\n",
        "              optimizer = tf.keras.optimizers.SGD(),\n",
        "              metrics = [\"mae\"])\n",
        "\n",
        "# 3. Fit the model\n",
        "#model.fit(tf.expand_dims(x_train, axis=-1), y_train, epochs=100)"
      ],
      "metadata": {
        "id": "TtdWZXKHSSN-"
      },
      "execution_count": 27,
      "outputs": []
    },
    {
      "cell_type": "markdown",
      "source": [
        "### Visualizing the model"
      ],
      "metadata": {
        "id": "F7d7P08yTScA"
      }
    },
    {
      "cell_type": "code",
      "source": [
        "# Lets create  model wich builds automatically by defining the input_shape arguments\n",
        "\n",
        "tf.random.set_seed(42)\n",
        "\n",
        "# 1. Create the model\n",
        "model_1 = tf.keras.Sequential([\n",
        "    tf.keras.layers.Dense(100, input_shape=[1], name=\"input_layer\"),\n",
        "    tf.keras.layers.Dense(1, name=\"output_layer\")\n",
        "], name=\"model_one\")\n",
        "\n",
        "# 2. Compile the model\n",
        "model_1.compile(loss = tf.keras.losses.mae,\n",
        "              optimizer = tf.keras.optimizers.SGD(),\n",
        "              metrics = [\"mae\"])"
      ],
      "metadata": {
        "id": "MpSA6LxwTzZK"
      },
      "execution_count": 28,
      "outputs": []
    },
    {
      "cell_type": "code",
      "source": [
        "model_1.summary()"
      ],
      "metadata": {
        "colab": {
          "base_uri": "https://localhost:8080/"
        },
        "id": "-jMC9-6WUyLw",
        "outputId": "224112c8-d028-4baa-96ca-c3518d31c78e"
      },
      "execution_count": 29,
      "outputs": [
        {
          "output_type": "stream",
          "name": "stdout",
          "text": [
            "Model: \"model_one\"\n",
            "_________________________________________________________________\n",
            " Layer (type)                Output Shape              Param #   \n",
            "=================================================================\n",
            " input_layer (Dense)         (None, 100)               200       \n",
            "                                                                 \n",
            " output_layer (Dense)        (None, 1)                 101       \n",
            "                                                                 \n",
            "=================================================================\n",
            "Total params: 301 (1.18 KB)\n",
            "Trainable params: 301 (1.18 KB)\n",
            "Non-trainable params: 0 (0.00 Byte)\n",
            "_________________________________________________________________\n"
          ]
        }
      ]
    },
    {
      "cell_type": "markdown",
      "source": [
        "* Total params - total number of parameters that we have\n",
        "\n",
        "* Trainable parameters - the parameters (patterns) the model can update as it trains\n",
        "\n",
        "* Non-trainable params - parameters cant updated during training (allready learn in models during **transfer learning**)\n",
        "\n",
        "📚 **Resource** : For a more in depth overview of the trainable parameters within a layer, check ouy MIT's intorduction to deep learning video\n",
        "\n",
        "⚡**Exercise :** Try playing around with the number of hidden units in the dense layer, see how that effect the number of parameters"
      ],
      "metadata": {
        "id": "fkeG27Fm3_t1"
      }
    },
    {
      "cell_type": "code",
      "source": [
        "# 3. Fit the model\n",
        "model_1.fit(tf.expand_dims(x_train, axis=-1), y_train, epochs=60, verbose=0)"
      ],
      "metadata": {
        "colab": {
          "base_uri": "https://localhost:8080/"
        },
        "id": "e-cgkHtW6914",
        "outputId": "36894013-59fd-4c39-9ecf-c432ae801bd9"
      },
      "execution_count": 30,
      "outputs": [
        {
          "output_type": "execute_result",
          "data": {
            "text/plain": [
              "<keras.src.callbacks.History at 0x7f14d66f6470>"
            ]
          },
          "metadata": {},
          "execution_count": 30
        }
      ]
    },
    {
      "cell_type": "code",
      "source": [
        "# Get a summary of our model\n",
        "model_1.summary()"
      ],
      "metadata": {
        "colab": {
          "base_uri": "https://localhost:8080/"
        },
        "id": "IYam8Kl-M2o7",
        "outputId": "539562a6-c43c-42e0-bac8-9d99def52f59"
      },
      "execution_count": 31,
      "outputs": [
        {
          "output_type": "stream",
          "name": "stdout",
          "text": [
            "Model: \"model_one\"\n",
            "_________________________________________________________________\n",
            " Layer (type)                Output Shape              Param #   \n",
            "=================================================================\n",
            " input_layer (Dense)         (None, 100)               200       \n",
            "                                                                 \n",
            " output_layer (Dense)        (None, 1)                 101       \n",
            "                                                                 \n",
            "=================================================================\n",
            "Total params: 301 (1.18 KB)\n",
            "Trainable params: 301 (1.18 KB)\n",
            "Non-trainable params: 0 (0.00 Byte)\n",
            "_________________________________________________________________\n"
          ]
        }
      ]
    },
    {
      "cell_type": "code",
      "source": [
        "from tensorflow.keras.utils import plot_model\n",
        "\n",
        "plot_model(model=model_1, show_shapes=True)"
      ],
      "metadata": {
        "colab": {
          "base_uri": "https://localhost:8080/",
          "height": 312
        },
        "id": "EMxErQE0NVSc",
        "outputId": "44ae8719-8557-4300-c57c-39f7b874f964"
      },
      "execution_count": 32,
      "outputs": [
        {
          "output_type": "execute_result",
          "data": {
            "image/png": "[encoded data removed]",
            "text/plain": [
              "<IPython.core.display.Image object>"
            ]
          },
          "metadata": {},
          "execution_count": 32
        }
      ]
    },
    {
      "cell_type": "markdown",
      "source": [
        "### Visualizing our models predictions\n",
        "\n",
        "To visualize predictions, it's a good idea to plot them against the ground truth labels.\n",
        "\n",
        "Often you'll see this in the form of 'y_test' or 'y_true' versus 'y_pred' (ground truth versus your model prediction)"
      ],
      "metadata": {
        "id": "XXOFpjXFOyH9"
      }
    },
    {
      "cell_type": "code",
      "source": [
        "# Make some predictions\n",
        "\n",
        "y_pred = model_1.predict(x_test)\n",
        "y_pred"
      ],
      "metadata": {
        "colab": {
          "base_uri": "https://localhost:8080/"
        },
        "id": "943XbXEayJf3",
        "outputId": "75d32bc1-f329-4f96-eca6-13ef567f12e9"
      },
      "execution_count": 33,
      "outputs": [
        {
          "output_type": "stream",
          "name": "stderr",
          "text": [
            "WARNING:tensorflow:5 out of the last 5 calls to <function Model.make_predict_function.<locals>.predict_function at 0x7f14d6edf9a0> triggered tf.function retracing. Tracing is expensive and the excessive number of tracings could be due to (1) creating @tf.function repeatedly in a loop, (2) passing tensors with different shapes, (3) passing Python objects instead of tensors. For (1), please define your @tf.function outside of the loop. For (2), @tf.function has reduce_retracing=True option that can avoid unnecessary retracing. For (3), please refer to https://www.tensorflow.org/guide/function#controlling_retracing and https://www.tensorflow.org/api_docs/python/tf/function for  more details.\n"
          ]
        },
        {
          "output_type": "stream",
          "name": "stdout",
          "text": [
            "1/1 [==============================] - 0s 64ms/step\n"
          ]
        },
        {
          "output_type": "execute_result",
          "data": {
            "text/plain": [
              "array([[ 71.176   ],\n",
              "       [ 75.85346 ],\n",
              "       [ 80.53092 ],\n",
              "       [ 85.208374],\n",
              "       [ 89.88582 ],\n",
              "       [ 94.5633  ],\n",
              "       [ 99.24074 ],\n",
              "       [103.918205],\n",
              "       [108.595665],\n",
              "       [113.273125]], dtype=float32)"
            ]
          },
          "metadata": {},
          "execution_count": 33
        }
      ]
    },
    {
      "cell_type": "code",
      "source": [
        "y_test"
      ],
      "metadata": {
        "colab": {
          "base_uri": "https://localhost:8080/"
        },
        "id": "Ke-R5lq9zVa3",
        "outputId": "18cb1664-399d-42a0-a349-a3a43cbe75d5"
      },
      "execution_count": 34,
      "outputs": [
        {
          "output_type": "execute_result",
          "data": {
            "text/plain": [
              "<tf.Tensor: shape=(10,), dtype=int32, numpy=array([ 70,  74,  78,  82,  86,  90,  94,  98, 102, 106], dtype=int32)>"
            ]
          },
          "metadata": {},
          "execution_count": 34
        }
      ]
    },
    {
      "cell_type": "markdown",
      "source": [
        "🔑 **Note : ** if you feel like you're going to reuse some functionality in the future, its good idea to turn it into a fucntion"
      ],
      "metadata": {
        "id": "nSO6jWAR09Jt"
      }
    },
    {
      "cell_type": "code",
      "source": [
        "# Lets create a plotting function\n",
        "\n",
        "def plot_predictions(train_data=x_train,\n",
        "                     train_labels=y_train,\n",
        "                     test_data=x_test,\n",
        "                     test_labels=y_test,\n",
        "                     predictions=y_pred):\n",
        "  \"\"\"\n",
        "  Plots training data, test data and compares predictions to ground truth labels\n",
        "  \"\"\"\n",
        "  plt.figure(figsize=(10,7))\n",
        "  # Plot training data in blue\n",
        "  plt.scatter(train_data, train_labels, c=\"b\", label=\"Training data\")\n",
        "\n",
        "  # Plot testing data in green\n",
        "  plt.scatter(test_data, test_labels, c=\"g\", label=\"Test data\")\n",
        "\n",
        "  # Plot models predictions in red\n",
        "  plt.scatter(test_data, predictions, c=\"r\", label=\"Predictions\")\n",
        "\n",
        "  # Show the legend\n",
        "  plt.legend()\n",
        "\n"
      ],
      "metadata": {
        "id": "Wt-qJvPk1MAh"
      },
      "execution_count": 35,
      "outputs": []
    },
    {
      "cell_type": "code",
      "source": [
        "plot_predictions()"
      ],
      "metadata": {
        "colab": {
          "base_uri": "https://localhost:8080/",
          "height": 479
        },
        "id": "7ZFYZPV5200S",
        "outputId": "f1199883-13e7-4328-edeb-e53905479aba"
      },
      "execution_count": 36,
      "outputs": [
        {
          "output_type": "display_data",
          "data": {
            "text/plain": [
              "<Figure size 1000x700 with 1 Axes>"
            ],
            "image/png": "[encoded data removed]"
          },
          "metadata": {}
        }
      ]
    },
    {
      "cell_type": "markdown",
      "source": [
        "### Evaluating our models predictions with regression evaluation metrics\n",
        "\n",
        "The evaluation metrics is depending to the model we working on\n",
        "\n",
        "since we're working on a regression, two of the main matrics:\n",
        "* MAE - mean absolute error, \"on average, how wrong is each of my model predictions\"\n",
        "\n",
        "* MSE - mean square error, \"square the average errors\""
      ],
      "metadata": {
        "id": "xWQ92ZRr4V_K"
      }
    },
    {
      "cell_type": "code",
      "source": [
        " # Evaluate the model on the test\n",
        " model_1.evaluate(x_test, y_test)"
      ],
      "metadata": {
        "id": "y3-bYOHr0p-A",
        "colab": {
          "base_uri": "https://localhost:8080/"
        },
        "outputId": "2c51a4ad-9b06-4c32-d1a5-22f9a303fb4a"
      },
      "execution_count": 37,
      "outputs": [
        {
          "output_type": "stream",
          "name": "stdout",
          "text": [
            "1/1 [==============================] - 0s 163ms/step - loss: 4.2246 - mae: 4.2246\n"
          ]
        },
        {
          "output_type": "execute_result",
          "data": {
            "text/plain": [
              "[4.224560737609863, 4.224560737609863]"
            ]
          },
          "metadata": {},
          "execution_count": 37
        }
      ]
    },
    {
      "cell_type": "code",
      "source": [
        "# Calculate the mean absolute error\n",
        "mae = tf.metrics.mean_absolute_error(y_true=y_test, y_pred=tf.constant(y_pred))\n",
        "mae"
      ],
      "metadata": {
        "colab": {
          "base_uri": "https://localhost:8080/"
        },
        "id": "bAwZ_yTfPV4C",
        "outputId": "83de618e-75c5-4949-bfee-725ba5d7ba03"
      },
      "execution_count": 38,
      "outputs": [
        {
          "output_type": "execute_result",
          "data": {
            "text/plain": [
              "<tf.Tensor: shape=(10,), dtype=float32, numpy=\n",
              "array([17.059198 , 13.6879225, 11.387631 , 10.158325 , 10.       ,\n",
              "       11.02532  , 13.144443 , 16.334564 , 20.595665 , 25.273125 ],\n",
              "      dtype=float32)>"
            ]
          },
          "metadata": {},
          "execution_count": 38
        }
      ]
    },
    {
      "cell_type": "code",
      "source": [
        "tf.constant(y_pred)"
      ],
      "metadata": {
        "colab": {
          "base_uri": "https://localhost:8080/"
        },
        "id": "v6CpJX1IPiwj",
        "outputId": "e1868c21-5a5c-49a9-b0ed-0d79b8e6101e"
      },
      "execution_count": 39,
      "outputs": [
        {
          "output_type": "execute_result",
          "data": {
            "text/plain": [
              "<tf.Tensor: shape=(10, 1), dtype=float32, numpy=\n",
              "array([[ 71.176   ],\n",
              "       [ 75.85346 ],\n",
              "       [ 80.53092 ],\n",
              "       [ 85.208374],\n",
              "       [ 89.88582 ],\n",
              "       [ 94.5633  ],\n",
              "       [ 99.24074 ],\n",
              "       [103.918205],\n",
              "       [108.595665],\n",
              "       [113.273125]], dtype=float32)>"
            ]
          },
          "metadata": {},
          "execution_count": 39
        }
      ]
    },
    {
      "cell_type": "code",
      "source": [
        "y_test"
      ],
      "metadata": {
        "colab": {
          "base_uri": "https://localhost:8080/"
        },
        "id": "JusnDI5oPlKR",
        "outputId": "af215245-66d8-4a98-c2d8-5950b5dfceaf"
      },
      "execution_count": 40,
      "outputs": [
        {
          "output_type": "execute_result",
          "data": {
            "text/plain": [
              "<tf.Tensor: shape=(10,), dtype=int32, numpy=array([ 70,  74,  78,  82,  86,  90,  94,  98, 102, 106], dtype=int32)>"
            ]
          },
          "metadata": {},
          "execution_count": 40
        }
      ]
    },
    {
      "cell_type": "code",
      "source": [
        "tf.squeeze(y_pred)"
      ],
      "metadata": {
        "colab": {
          "base_uri": "https://localhost:8080/"
        },
        "id": "WqQJPNiwyi56",
        "outputId": "b8ede034-49ad-4b93-ff60-612fa4ca287a"
      },
      "execution_count": 41,
      "outputs": [
        {
          "output_type": "execute_result",
          "data": {
            "text/plain": [
              "<tf.Tensor: shape=(10,), dtype=float32, numpy=\n",
              "array([ 71.176   ,  75.85346 ,  80.53092 ,  85.208374,  89.88582 ,\n",
              "        94.5633  ,  99.24074 , 103.918205, 108.595665, 113.273125],\n",
              "      dtype=float32)>"
            ]
          },
          "metadata": {},
          "execution_count": 41
        }
      ]
    },
    {
      "cell_type": "code",
      "source": [
        "# Calculate the mean absolute error\n",
        "\n",
        "mae = tf.metrics.mean_absolute_error(y_true=y_test, y_pred=tf.squeeze(y_pred))\n",
        "\n",
        "mae"
      ],
      "metadata": {
        "colab": {
          "base_uri": "https://localhost:8080/"
        },
        "id": "uUT4LV7uypPs",
        "outputId": "1763857a-a931-4fac-ddb2-73e159d2df92"
      },
      "execution_count": 42,
      "outputs": [
        {
          "output_type": "execute_result",
          "data": {
            "text/plain": [
              "<tf.Tensor: shape=(), dtype=float32, numpy=4.224561>"
            ]
          },
          "metadata": {},
          "execution_count": 42
        }
      ]
    },
    {
      "cell_type": "code",
      "source": [
        "# Calculate the mean square error\n",
        "\n",
        "mse = tf.metrics.mean_squared_error(y_true=y_test, y_pred=tf.squeeze(y_pred))\n",
        "mse"
      ],
      "metadata": {
        "id": "QpelDvIC2Nvg",
        "colab": {
          "base_uri": "https://localhost:8080/"
        },
        "outputId": "86e3617a-4cb6-4cfc-fdc5-d9dae704f838"
      },
      "execution_count": 43,
      "outputs": [
        {
          "output_type": "execute_result",
          "data": {
            "text/plain": [
              "<tf.Tensor: shape=(), dtype=float32, numpy=21.633245>"
            ]
          },
          "metadata": {},
          "execution_count": 43
        }
      ]
    },
    {
      "cell_type": "code",
      "source": [
        "# Make fucntion to reuse MAE and MSE\n",
        "def mae(y_true, y_pred):\n",
        "  return tf.metrics.mean_absolute_error(y_true=y_true,\n",
        "                                      y_pred=tf.squeeze(y_pred))\n",
        "\n",
        "def mse(y_true,y_pred):\n",
        "  return tf.metrics.mean_squared_error(y_true=y_true,\n",
        "                                       y_pred=tf.squeeze(y_pred))"
      ],
      "metadata": {
        "id": "oCsUvdVW2yQL"
      },
      "execution_count": 44,
      "outputs": []
    },
    {
      "cell_type": "markdown",
      "source": [
        "### Running experiments to improve our model\n",
        "\n",
        "1. Get more data - get more example for model\n",
        "\n",
        "2. Make your model larger (using a more complex model) - matbe more layers or hidden units\n",
        "\n",
        "3. Train for longer - give model more chance to find patterns in data\n",
        "\n",
        "Let's do 3 modelling experiment L\n",
        "\n",
        "1. 'model_1' - same as the origin, 1 layer, trained for 100 epochs\n",
        "\n",
        "2. 'model_2' - 2 layers, trained for 100 epochs\n",
        "\n",
        "3. 'model_3' - 2 layers, rained for 500 epochs"
      ],
      "metadata": {
        "id": "U73RgqjhN1Gb"
      }
    },
    {
      "cell_type": "code",
      "source": [
        "x_train, y_train"
      ],
      "metadata": {
        "colab": {
          "base_uri": "https://localhost:8080/"
        },
        "id": "ZRYFc01nOexa",
        "outputId": "783621bc-194f-4896-8f65-f13f7a989ef6"
      },
      "execution_count": 45,
      "outputs": [
        {
          "output_type": "execute_result",
          "data": {
            "text/plain": [
              "(<tf.Tensor: shape=(40,), dtype=int32, numpy=\n",
              " array([-100,  -96,  -92,  -88,  -84,  -80,  -76,  -72,  -68,  -64,  -60,\n",
              "         -56,  -52,  -48,  -44,  -40,  -36,  -32,  -28,  -24,  -20,  -16,\n",
              "         -12,   -8,   -4,    0,    4,    8,   12,   16,   20,   24,   28,\n",
              "          32,   36,   40,   44,   48,   52,   56], dtype=int32)>,\n",
              " <tf.Tensor: shape=(40,), dtype=int32, numpy=\n",
              " array([-90, -86, -82, -78, -74, -70, -66, -62, -58, -54, -50, -46, -42,\n",
              "        -38, -34, -30, -26, -22, -18, -14, -10,  -6,  -2,   2,   6,  10,\n",
              "         14,  18,  22,  26,  30,  34,  38,  42,  46,  50,  54,  58,  62,\n",
              "         66], dtype=int32)>)"
            ]
          },
          "metadata": {},
          "execution_count": 45
        }
      ]
    },
    {
      "cell_type": "code",
      "source": [
        "# First build model_1\n",
        "\n",
        "# Ser random seed\n",
        "tf.random.set_seed(42)\n",
        "\n",
        "# 1. Create the model\n",
        "model_1 = tf.keras.Sequential([\n",
        "    tf.keras.layers.Dense(1)\n",
        "])\n",
        "\n",
        "# 2. Compile the model\n",
        "model_1.compile(loss=tf.keras.losses.mae,\n",
        "                optimizer=tf.keras.optimizers.SGD(),\n",
        "                metrics=[\"mae\"],\n",
        "                run_eagerly=True)\n",
        "\n",
        "# 3. FIt the model\n",
        "model_1.fit(tf.expand_dims(x_train, axis=-1), y_train, epochs=100, verbose=0)"
      ],
      "metadata": {
        "colab": {
          "base_uri": "https://localhost:8080/"
        },
        "id": "Bm7GqWOpN77n",
        "outputId": "33b9e665-5068-4cd8-a32d-30cf906ca060"
      },
      "execution_count": 46,
      "outputs": [
        {
          "output_type": "execute_result",
          "data": {
            "text/plain": [
              "<keras.src.callbacks.History at 0x7f14d789d300>"
            ]
          },
          "metadata": {},
          "execution_count": 46
        }
      ]
    },
    {
      "cell_type": "code",
      "source": [
        "model_1.predict(tf.reshape(x_test, shape=(-1,1)))"
      ],
      "metadata": {
        "colab": {
          "base_uri": "https://localhost:8080/"
        },
        "id": "vvrhWzRwTr-8",
        "outputId": "2b130f29-a312-489f-93aa-bd4bcf5c0352"
      },
      "execution_count": 47,
      "outputs": [
        {
          "output_type": "stream",
          "name": "stdout",
          "text": [
            "1/1 [==============================] - 0s 29ms/step\n"
          ]
        },
        {
          "output_type": "execute_result",
          "data": {
            "text/plain": [
              "array([[ 74.58429 ],\n",
              "       [ 79.469284],\n",
              "       [ 84.35428 ],\n",
              "       [ 89.23927 ],\n",
              "       [ 94.12427 ],\n",
              "       [ 99.00926 ],\n",
              "       [103.89426 ],\n",
              "       [108.77925 ],\n",
              "       [113.664246],\n",
              "       [118.54924 ]], dtype=float32)"
            ]
          },
          "metadata": {},
          "execution_count": 47
        }
      ]
    },
    {
      "cell_type": "code",
      "source": [
        "# Make a plot predictions for model_1\n",
        "\n",
        "# x_test = tf.reshape(x_test, shape=(-1,1))\n",
        "\n",
        "y_preds_1 = model_1.predict(tf.reshape(x_test, shape=(-1,1)))\n",
        "plot_predictions(predictions=y_preds_1)"
      ],
      "metadata": {
        "colab": {
          "base_uri": "https://localhost:8080/",
          "height": 497
        },
        "id": "-VTt2FvCQK0C",
        "outputId": "d115e638-e7f7-4d59-c35e-dfaa2bf1c30a"
      },
      "execution_count": 48,
      "outputs": [
        {
          "output_type": "stream",
          "name": "stdout",
          "text": [
            "1/1 [==============================] - 0s 26ms/step\n"
          ]
        },
        {
          "output_type": "display_data",
          "data": {
            "text/plain": [
              "<Figure size 1000x700 with 1 Axes>"
            ],
            "image/png": "[encoded data removed]"
          },
          "metadata": {}
        }
      ]
    },
    {
      "cell_type": "code",
      "source": [
        "# Calculate model_1 evaluation metrics\n",
        "\n",
        "mae_1 = mae(y_test, y_preds_1)\n",
        "mse_1 = mse(y_test, y_preds_1)\n",
        "\n",
        "mae_1, mse_1"
      ],
      "metadata": {
        "colab": {
          "base_uri": "https://localhost:8080/"
        },
        "id": "3u6Og5EaqZEp",
        "outputId": "dea0ccdc-3821-4ab7-ea29-3e22c38d9ac6"
      },
      "execution_count": 49,
      "outputs": [
        {
          "output_type": "execute_result",
          "data": {
            "text/plain": [
              "(<tf.Tensor: shape=(), dtype=float32, numpy=8.566765>,\n",
              " <tf.Tensor: shape=(), dtype=float32, numpy=79.85099>)"
            ]
          },
          "metadata": {},
          "execution_count": 49
        }
      ]
    },
    {
      "cell_type": "markdown",
      "source": [
        "**Build model_2**\n",
        "\n",
        "* 2 dense layers, trained for 100 epochs"
      ],
      "metadata": {
        "id": "3IG91oWhsu7n"
      }
    },
    {
      "cell_type": "code",
      "source": [
        "# Build model_2\n",
        "\n",
        "# Set the random seed\n",
        "tf.random.set_seed(42)\n",
        "\n",
        "# 1. Create model\n",
        "model_2 = tf.keras.Sequential([\n",
        "    tf.keras.layers.Dense(70, name=\"input_layer\"),\n",
        "    tf.keras.layers.Dense(1, name=\"Output_layer\")\n",
        "])\n",
        "\n",
        "# 2. Compile the model\n",
        "\n",
        "model_2.compile(loss = mae,\n",
        "              optimizer = tf.keras.optimizers.SGD(),\n",
        "              metrics = [\"mae\"])"
      ],
      "metadata": {
        "id": "F9HBFkiUvO0E"
      },
      "execution_count": 50,
      "outputs": []
    },
    {
      "cell_type": "code",
      "source": [
        "# 3. Make Train the model\n",
        "model_2.fit(tf.expand_dims(x_train, axis=-1), y_train, epochs=54)"
      ],
      "metadata": {
        "colab": {
          "base_uri": "https://localhost:8080/"
        },
        "id": "xCwKGotyzj8h",
        "outputId": "5ce10791-c673-4967-f94f-8f37dc659893"
      },
      "execution_count": 51,
      "outputs": [
        {
          "output_type": "stream",
          "name": "stdout",
          "text": [
            "Epoch 1/54\n",
            "2/2 [==============================] - 0s 11ms/step - loss: 42.0580 - mae: 46.3448\n",
            "Epoch 2/54\n",
            "2/2 [==============================] - 0s 9ms/step - loss: 40.6875 - mae: 42.8425\n",
            "Epoch 3/54\n",
            "2/2 [==============================] - 0s 8ms/step - loss: 56.6928 - mae: 21.9298\n",
            "Epoch 4/54\n",
            "2/2 [==============================] - 0s 9ms/step - loss: 40.7467 - mae: 37.5796\n",
            "Epoch 5/54\n",
            "2/2 [==============================] - 0s 8ms/step - loss: 41.2860 - mae: 41.1520\n",
            "Epoch 6/54\n",
            "2/2 [==============================] - 0s 8ms/step - loss: 40.7800 - mae: 34.0937\n",
            "Epoch 7/54\n",
            "2/2 [==============================] - 0s 8ms/step - loss: 40.7406 - mae: 38.7132\n",
            "Epoch 8/54\n",
            "2/2 [==============================] - 0s 8ms/step - loss: 40.9519 - mae: 32.1934\n",
            "Epoch 9/54\n",
            "2/2 [==============================] - 0s 8ms/step - loss: 47.1867 - mae: 15.3742\n",
            "Epoch 10/54\n",
            "2/2 [==============================] - 0s 8ms/step - loss: 40.8800 - mae: 38.2251\n",
            "Epoch 11/54\n",
            "2/2 [==============================] - 0s 8ms/step - loss: 40.9541 - mae: 39.1108\n",
            "Epoch 12/54\n",
            "2/2 [==============================] - 0s 12ms/step - loss: 52.8389 - mae: 16.5180\n",
            "Epoch 13/54\n",
            "2/2 [==============================] - 0s 11ms/step - loss: 40.7056 - mae: 36.7162\n",
            "Epoch 14/54\n",
            "2/2 [==============================] - 0s 13ms/step - loss: 41.1321 - mae: 30.1496\n",
            "Epoch 15/54\n",
            "2/2 [==============================] - 0s 7ms/step - loss: 40.8907 - mae: 38.8327\n",
            "Epoch 16/54\n",
            "2/2 [==============================] - 0s 7ms/step - loss: 40.8748 - mae: 41.2019\n",
            "Epoch 17/54\n",
            "2/2 [==============================] - 0s 10ms/step - loss: 40.3244 - mae: 34.1123\n",
            "Epoch 18/54\n",
            "2/2 [==============================] - 0s 7ms/step - loss: 40.8852 - mae: 33.4442\n",
            "Epoch 19/54\n",
            "2/2 [==============================] - 0s 7ms/step - loss: 43.3423 - mae: 18.0794\n",
            "Epoch 20/54\n",
            "2/2 [==============================] - 0s 7ms/step - loss: 41.1974 - mae: 30.3682\n",
            "Epoch 21/54\n",
            "2/2 [==============================] - 0s 8ms/step - loss: 40.7380 - mae: 35.2197\n",
            "Epoch 22/54\n",
            "2/2 [==============================] - 0s 8ms/step - loss: 40.6446 - mae: 37.5102\n",
            "Epoch 23/54\n",
            "2/2 [==============================] - 0s 8ms/step - loss: 40.6474 - mae: 38.2057\n",
            "Epoch 24/54\n",
            "2/2 [==============================] - 0s 8ms/step - loss: 41.0110 - mae: 30.3773\n",
            "Epoch 25/54\n",
            "2/2 [==============================] - 0s 12ms/step - loss: 40.8752 - mae: 41.7954\n",
            "Epoch 26/54\n",
            "2/2 [==============================] - 0s 11ms/step - loss: 42.1404 - mae: 25.5057\n",
            "Epoch 27/54\n",
            "2/2 [==============================] - 0s 14ms/step - loss: 40.7376 - mae: 35.0364\n",
            "Epoch 28/54\n",
            "2/2 [==============================] - 0s 9ms/step - loss: 42.2111 - mae: 24.1785\n",
            "Epoch 29/54\n",
            "2/2 [==============================] - 0s 8ms/step - loss: 40.7456 - mae: 34.1534\n",
            "Epoch 30/54\n",
            "2/2 [==============================] - 0s 10ms/step - loss: 45.5250 - mae: 14.2307\n",
            "Epoch 31/54\n",
            "2/2 [==============================] - 0s 9ms/step - loss: 57.7163 - mae: 16.0893\n",
            "Epoch 32/54\n",
            "2/2 [==============================] - 0s 13ms/step - loss: 41.1999 - mae: 26.9102\n",
            "Epoch 33/54\n",
            "2/2 [==============================] - 0s 11ms/step - loss: 41.1535 - mae: 30.3617\n",
            "Epoch 34/54\n",
            "2/2 [==============================] - 0s 12ms/step - loss: 40.8095 - mae: 32.7201\n",
            "Epoch 35/54\n",
            "2/2 [==============================] - 0s 10ms/step - loss: 40.6217 - mae: 35.3560\n",
            "Epoch 36/54\n",
            "2/2 [==============================] - 0s 11ms/step - loss: 41.6724 - mae: 23.8019\n",
            "Epoch 37/54\n",
            "2/2 [==============================] - 0s 12ms/step - loss: 40.8430 - mae: 32.5809\n",
            "Epoch 38/54\n",
            "2/2 [==============================] - 0s 9ms/step - loss: 40.6505 - mae: 34.7242\n",
            "Epoch 39/54\n",
            "2/2 [==============================] - 0s 11ms/step - loss: 40.7186 - mae: 34.2599\n",
            "Epoch 40/54\n",
            "2/2 [==============================] - 0s 8ms/step - loss: 40.8628 - mae: 32.8613\n",
            "Epoch 41/54\n",
            "2/2 [==============================] - 0s 12ms/step - loss: 40.3746 - mae: 33.8122\n",
            "Epoch 42/54\n",
            "2/2 [==============================] - 0s 10ms/step - loss: 40.7157 - mae: 34.7514\n",
            "Epoch 43/54\n",
            "2/2 [==============================] - 0s 8ms/step - loss: 40.5644 - mae: 36.9136\n",
            "Epoch 44/54\n",
            "2/2 [==============================] - 0s 8ms/step - loss: 41.0467 - mae: 29.9242\n",
            "Epoch 45/54\n",
            "2/2 [==============================] - 0s 9ms/step - loss: 41.0485 - mae: 30.9412\n",
            "Epoch 46/54\n",
            "2/2 [==============================] - 0s 10ms/step - loss: 40.6926 - mae: 33.5070\n",
            "Epoch 47/54\n",
            "2/2 [==============================] - 0s 8ms/step - loss: 40.7095 - mae: 34.7837\n",
            "Epoch 48/54\n",
            "2/2 [==============================] - 0s 11ms/step - loss: 40.6691 - mae: 37.4460\n",
            "Epoch 49/54\n",
            "2/2 [==============================] - 0s 8ms/step - loss: 40.6595 - mae: 37.1787\n",
            "Epoch 50/54\n",
            "2/2 [==============================] - 0s 8ms/step - loss: 40.5691 - mae: 35.1797\n",
            "Epoch 51/54\n",
            "2/2 [==============================] - 0s 10ms/step - loss: 40.6724 - mae: 37.3333\n",
            "Epoch 52/54\n",
            "2/2 [==============================] - 0s 11ms/step - loss: 40.5950 - mae: 35.2299\n",
            "Epoch 53/54\n",
            "2/2 [==============================] - 0s 14ms/step - loss: 40.4526 - mae: 27.6654\n",
            "Epoch 54/54\n",
            "2/2 [==============================] - 0s 8ms/step - loss: 43.8070 - mae: 17.5976\n"
          ]
        },
        {
          "output_type": "execute_result",
          "data": {
            "text/plain": [
              "<keras.src.callbacks.History at 0x7f14d77bdc60>"
            ]
          },
          "metadata": {},
          "execution_count": 51
        }
      ]
    },
    {
      "cell_type": "code",
      "source": [
        "x_test"
      ],
      "metadata": {
        "colab": {
          "base_uri": "https://localhost:8080/"
        },
        "id": "F4p4SDzi3EAL",
        "outputId": "f3170db7-11ba-4c72-f984-a64fd52a0677"
      },
      "execution_count": 52,
      "outputs": [
        {
          "output_type": "execute_result",
          "data": {
            "text/plain": [
              "<tf.Tensor: shape=(10,), dtype=int32, numpy=array([60, 64, 68, 72, 76, 80, 84, 88, 92, 96], dtype=int32)>"
            ]
          },
          "metadata": {},
          "execution_count": 52
        }
      ]
    },
    {
      "cell_type": "code",
      "source": [
        "y_test"
      ],
      "metadata": {
        "colab": {
          "base_uri": "https://localhost:8080/"
        },
        "id": "pg4Syr7r3HES",
        "outputId": "51dcb246-64fb-4eda-e4ee-ade806d38cff"
      },
      "execution_count": 53,
      "outputs": [
        {
          "output_type": "execute_result",
          "data": {
            "text/plain": [
              "<tf.Tensor: shape=(10,), dtype=int32, numpy=array([ 70,  74,  78,  82,  86,  90,  94,  98, 102, 106], dtype=int32)>"
            ]
          },
          "metadata": {},
          "execution_count": 53
        }
      ]
    },
    {
      "cell_type": "code",
      "source": [
        "model_2.predict(x_test)"
      ],
      "metadata": {
        "colab": {
          "base_uri": "https://localhost:8080/"
        },
        "id": "bvtvcNO03KN2",
        "outputId": "daa771b2-86d9-4d85-d456-e6b77541ed78"
      },
      "execution_count": 54,
      "outputs": [
        {
          "output_type": "stream",
          "name": "stderr",
          "text": [
            "WARNING:tensorflow:6 out of the last 6 calls to <function Model.make_predict_function.<locals>.predict_function at 0x7f14d7638430> triggered tf.function retracing. Tracing is expensive and the excessive number of tracings could be due to (1) creating @tf.function repeatedly in a loop, (2) passing tensors with different shapes, (3) passing Python objects instead of tensors. For (1), please define your @tf.function outside of the loop. For (2), @tf.function has reduce_retracing=True option that can avoid unnecessary retracing. For (3), please refer to https://www.tensorflow.org/guide/function#controlling_retracing and https://www.tensorflow.org/api_docs/python/tf/function for  more details.\n"
          ]
        },
        {
          "output_type": "stream",
          "name": "stdout",
          "text": [
            "1/1 [==============================] - 0s 83ms/step\n"
          ]
        },
        {
          "output_type": "execute_result",
          "data": {
            "text/plain": [
              "array([[32.81877 ],\n",
              "       [35.022137],\n",
              "       [37.225494],\n",
              "       [39.42886 ],\n",
              "       [41.63223 ],\n",
              "       [43.835587],\n",
              "       [46.038956],\n",
              "       [48.242317],\n",
              "       [50.445675],\n",
              "       [52.649044]], dtype=float32)"
            ]
          },
          "metadata": {},
          "execution_count": 54
        }
      ]
    },
    {
      "cell_type": "code",
      "source": [
        "# Make and plot predictions of model_2\n",
        "\n",
        "y_preds_2 = model_2.predict(x_test)\n",
        "plot_predictions(predictions=y_preds_2)"
      ],
      "metadata": {
        "colab": {
          "base_uri": "https://localhost:8080/",
          "height": 502
        },
        "id": "qYq7itP01-ur",
        "outputId": "70ce8510-3fbe-4337-8c4d-6fead0ebf8f1"
      },
      "execution_count": 55,
      "outputs": [
        {
          "output_type": "stream",
          "name": "stdout",
          "text": [
            "1/1 [==============================] - 0s 30ms/step\n"
          ]
        },
        {
          "output_type": "display_data",
          "data": {
            "text/plain": [
              "<Figure size 1000x700 with 1 Axes>"
            ],
            "image/png": "[encoded data removed]"
          },
          "metadata": {}
        }
      ]
    },
    {
      "cell_type": "code",
      "source": [
        "model_2.summary()"
      ],
      "metadata": {
        "colab": {
          "base_uri": "https://localhost:8080/"
        },
        "id": "nrRhl6kf1o_c",
        "outputId": "3f6d89eb-b72f-46d9-c329-58ca7faf6acc"
      },
      "execution_count": 56,
      "outputs": [
        {
          "output_type": "stream",
          "name": "stdout",
          "text": [
            "Model: \"sequential_6\"\n",
            "_________________________________________________________________\n",
            " Layer (type)                Output Shape              Param #   \n",
            "=================================================================\n",
            " input_layer (Dense)         (None, 70)                140       \n",
            "                                                                 \n",
            " Output_layer (Dense)        (None, 1)                 71        \n",
            "                                                                 \n",
            "=================================================================\n",
            "Total params: 211 (844.00 Byte)\n",
            "Trainable params: 211 (844.00 Byte)\n",
            "Non-trainable params: 0 (0.00 Byte)\n",
            "_________________________________________________________________\n"
          ]
        }
      ]
    },
    {
      "cell_type": "code",
      "source": [
        "# Calculate model_2 evaluation metrics\n",
        "\n",
        "mae_2 = mae(y_test, y_preds_2)\n",
        "mse_2 = mse(y_test, y_preds_2)\n",
        "\n",
        "mae_2, mse_2"
      ],
      "metadata": {
        "colab": {
          "base_uri": "https://localhost:8080/"
        },
        "id": "C54KgBhY6klJ",
        "outputId": "0665b7fc-c483-4fc6-ede9-c132218a726f"
      },
      "execution_count": 57,
      "outputs": [
        {
          "output_type": "execute_result",
          "data": {
            "text/plain": [
              "(<tf.Tensor: shape=(), dtype=float32, numpy=45.26609>,\n",
              " <tf.Tensor: shape=(), dtype=float32, numpy=2075.6492>)"
            ]
          },
          "metadata": {},
          "execution_count": 57
        }
      ]
    },
    {
      "cell_type": "markdown",
      "source": [
        "**Build model_3**\n",
        "\n",
        "* 2 layers, trained for 500 epochs"
      ],
      "metadata": {
        "id": "UgQW0Vw_Eigq"
      }
    },
    {
      "cell_type": "code",
      "source": [
        "# Build mdoel 3\n",
        "\n",
        "# set random seed\n",
        "tf.random.set_seed(42)\n",
        "\n",
        "# Build the model\n",
        "model_3 = tf.keras.Sequential([\n",
        "    tf.keras.layers.Dense(10),\n",
        "    tf.keras.layers.Dense(1)\n",
        "])\n",
        "\n",
        "# Compile the model\n",
        "model_3.compile(loss=mae,\n",
        "                optimizer = tf.keras.optimizers.SGD(),\n",
        "                metrics=[\"mae\"])"
      ],
      "metadata": {
        "id": "ZDmoG_8fEdZp"
      },
      "execution_count": 58,
      "outputs": []
    },
    {
      "cell_type": "code",
      "source": [
        "# 3. FIt the model\n",
        "model_3.fit(tf.expand_dims(x_train, axis=-1), y_train, epochs=500)\n"
      ],
      "metadata": {
        "colab": {
          "base_uri": "https://localhost:8080/"
        },
        "id": "Xw5ZEQwjFTQF",
        "outputId": "b91e321a-3bf1-4d2d-d1ee-68a1bbea8327"
      },
      "execution_count": 59,
      "outputs": [
        {
          "output_type": "stream",
          "name": "stdout",
          "text": [
            "Epoch 1/500\n",
            "2/2 [==============================] - 1s 11ms/step - loss: 40.7610 - mae: 37.7055\n",
            "Epoch 2/500\n",
            "2/2 [==============================] - 0s 7ms/step - loss: 40.8833 - mae: 40.7780\n",
            "Epoch 3/500\n",
            "2/2 [==============================] - 0s 8ms/step - loss: 52.9948 - mae: 18.6677\n",
            "Epoch 4/500\n",
            "2/2 [==============================] - 0s 6ms/step - loss: 40.6781 - mae: 36.1476\n",
            "Epoch 5/500\n",
            "2/2 [==============================] - 0s 6ms/step - loss: 40.6918 - mae: 38.2944\n",
            "Epoch 6/500\n",
            "2/2 [==============================] - 0s 10ms/step - loss: 40.9503 - mae: 32.0043\n",
            "Epoch 7/500\n",
            "2/2 [==============================] - 0s 9ms/step - loss: 40.7413 - mae: 38.5810\n",
            "Epoch 8/500\n",
            "2/2 [==============================] - 0s 9ms/step - loss: 40.8346 - mae: 32.3201\n",
            "Epoch 9/500\n",
            "2/2 [==============================] - 0s 9ms/step - loss: 46.8393 - mae: 15.1687\n",
            "Epoch 10/500\n",
            "2/2 [==============================] - 0s 8ms/step - loss: 40.6275 - mae: 36.6706\n",
            "Epoch 11/500\n",
            "2/2 [==============================] - 0s 7ms/step - loss: 40.9449 - mae: 39.1377\n",
            "Epoch 12/500\n",
            "2/2 [==============================] - 0s 7ms/step - loss: 51.9079 - mae: 15.6569\n",
            "Epoch 13/500\n",
            "2/2 [==============================] - 0s 7ms/step - loss: 40.7317 - mae: 36.1271\n",
            "Epoch 14/500\n",
            "2/2 [==============================] - 0s 9ms/step - loss: 41.1082 - mae: 30.3148\n",
            "Epoch 15/500\n",
            "2/2 [==============================] - 0s 11ms/step - loss: 40.8666 - mae: 38.6084\n",
            "Epoch 16/500\n",
            "2/2 [==============================] - 0s 10ms/step - loss: 40.8669 - mae: 41.0598\n",
            "Epoch 17/500\n",
            "2/2 [==============================] - 0s 9ms/step - loss: 40.3268 - mae: 34.1864\n",
            "Epoch 18/500\n",
            "2/2 [==============================] - 0s 9ms/step - loss: 40.8648 - mae: 33.4511\n",
            "Epoch 19/500\n",
            "2/2 [==============================] - 0s 8ms/step - loss: 43.1742 - mae: 18.5188\n",
            "Epoch 20/500\n",
            "2/2 [==============================] - 0s 7ms/step - loss: 40.9297 - mae: 32.4351\n",
            "Epoch 21/500\n",
            "2/2 [==============================] - 0s 7ms/step - loss: 40.7321 - mae: 35.6050\n",
            "Epoch 22/500\n",
            "2/2 [==============================] - 0s 8ms/step - loss: 40.6535 - mae: 37.6312\n",
            "Epoch 23/500\n",
            "2/2 [==============================] - 0s 7ms/step - loss: 40.6485 - mae: 38.1825\n",
            "Epoch 24/500\n",
            "2/2 [==============================] - 0s 8ms/step - loss: 40.9950 - mae: 30.5717\n",
            "Epoch 25/500\n",
            "2/2 [==============================] - 0s 7ms/step - loss: 40.8834 - mae: 41.6400\n",
            "Epoch 26/500\n",
            "2/2 [==============================] - 0s 8ms/step - loss: 41.9937 - mae: 26.0072\n",
            "Epoch 27/500\n",
            "2/2 [==============================] - 0s 11ms/step - loss: 40.7424 - mae: 34.8724\n",
            "Epoch 28/500\n",
            "2/2 [==============================] - 0s 13ms/step - loss: 42.1437 - mae: 24.4148\n",
            "Epoch 29/500\n",
            "2/2 [==============================] - 0s 9ms/step - loss: 40.7086 - mae: 33.9895\n",
            "Epoch 30/500\n",
            "2/2 [==============================] - 0s 8ms/step - loss: 45.2200 - mae: 14.2428\n",
            "Epoch 31/500\n",
            "2/2 [==============================] - 0s 9ms/step - loss: 57.5266 - mae: 15.8709\n",
            "Epoch 32/500\n",
            "2/2 [==============================] - 0s 8ms/step - loss: 41.2372 - mae: 26.6715\n",
            "Epoch 33/500\n",
            "2/2 [==============================] - 0s 9ms/step - loss: 41.1835 - mae: 30.1217\n",
            "Epoch 34/500\n",
            "2/2 [==============================] - 0s 8ms/step - loss: 40.8254 - mae: 32.4839\n",
            "Epoch 35/500\n",
            "2/2 [==============================] - 0s 9ms/step - loss: 40.6233 - mae: 35.0946\n",
            "Epoch 36/500\n",
            "2/2 [==============================] - 0s 10ms/step - loss: 41.6595 - mae: 23.8817\n",
            "Epoch 37/500\n",
            "2/2 [==============================] - 0s 8ms/step - loss: 40.8569 - mae: 32.4124\n",
            "Epoch 38/500\n",
            "2/2 [==============================] - 0s 8ms/step - loss: 40.6563 - mae: 34.5422\n",
            "Epoch 39/500\n",
            "2/2 [==============================] - 0s 8ms/step - loss: 40.7279 - mae: 34.1136\n",
            "Epoch 40/500\n",
            "2/2 [==============================] - 0s 9ms/step - loss: 40.8645 - mae: 32.8513\n",
            "Epoch 41/500\n",
            "2/2 [==============================] - 0s 9ms/step - loss: 40.3744 - mae: 33.7897\n",
            "Epoch 42/500\n",
            "2/2 [==============================] - 0s 9ms/step - loss: 40.7177 - mae: 34.7414\n",
            "Epoch 43/500\n",
            "2/2 [==============================] - 0s 8ms/step - loss: 40.5604 - mae: 36.8516\n",
            "Epoch 44/500\n",
            "2/2 [==============================] - 0s 7ms/step - loss: 41.0312 - mae: 30.0060\n",
            "Epoch 45/500\n",
            "2/2 [==============================] - 0s 7ms/step - loss: 41.0541 - mae: 30.9012\n",
            "Epoch 46/500\n",
            "2/2 [==============================] - 0s 8ms/step - loss: 40.6964 - mae: 33.4233\n",
            "Epoch 47/500\n",
            "2/2 [==============================] - 0s 7ms/step - loss: 40.7090 - mae: 34.7244\n",
            "Epoch 48/500\n",
            "2/2 [==============================] - 0s 9ms/step - loss: 40.6702 - mae: 37.4116\n",
            "Epoch 49/500\n",
            "2/2 [==============================] - 0s 7ms/step - loss: 40.6607 - mae: 37.1511\n",
            "Epoch 50/500\n",
            "2/2 [==============================] - 0s 7ms/step - loss: 40.5705 - mae: 35.2023\n",
            "Epoch 51/500\n",
            "2/2 [==============================] - 0s 7ms/step - loss: 40.6734 - mae: 37.3029\n",
            "Epoch 52/500\n",
            "2/2 [==============================] - 0s 7ms/step - loss: 40.5913 - mae: 35.2528\n",
            "Epoch 53/500\n",
            "2/2 [==============================] - 0s 8ms/step - loss: 40.4253 - mae: 27.8617\n",
            "Epoch 54/500\n",
            "2/2 [==============================] - 0s 8ms/step - loss: 43.6695 - mae: 17.9264\n",
            "Epoch 55/500\n",
            "2/2 [==============================] - 0s 7ms/step - loss: 43.4686 - mae: 19.4374\n",
            "Epoch 56/500\n",
            "2/2 [==============================] - 0s 7ms/step - loss: 40.8860 - mae: 29.4276\n",
            "Epoch 57/500\n",
            "2/2 [==============================] - 0s 9ms/step - loss: 40.4318 - mae: 33.5339\n",
            "Epoch 58/500\n",
            "2/2 [==============================] - 0s 9ms/step - loss: 40.6550 - mae: 35.3987\n",
            "Epoch 59/500\n",
            "2/2 [==============================] - 0s 10ms/step - loss: 40.7648 - mae: 35.5472\n",
            "Epoch 60/500\n",
            "2/2 [==============================] - 0s 7ms/step - loss: 40.7057 - mae: 35.2179\n",
            "Epoch 61/500\n",
            "2/2 [==============================] - 0s 7ms/step - loss: 40.6991 - mae: 35.6599\n",
            "Epoch 62/500\n",
            "2/2 [==============================] - 0s 7ms/step - loss: 40.7307 - mae: 35.9319\n",
            "Epoch 63/500\n",
            "2/2 [==============================] - 0s 8ms/step - loss: 40.6396 - mae: 35.2989\n",
            "Epoch 64/500\n",
            "2/2 [==============================] - 0s 9ms/step - loss: 40.7780 - mae: 33.6066\n",
            "Epoch 65/500\n",
            "2/2 [==============================] - 0s 8ms/step - loss: 40.6882 - mae: 34.7854\n",
            "Epoch 66/500\n",
            "2/2 [==============================] - 0s 8ms/step - loss: 40.8101 - mae: 33.3574\n",
            "Epoch 67/500\n",
            "2/2 [==============================] - 0s 8ms/step - loss: 40.7316 - mae: 34.3863\n",
            "Epoch 68/500\n",
            "2/2 [==============================] - 0s 8ms/step - loss: 40.6691 - mae: 34.8949\n",
            "Epoch 69/500\n",
            "2/2 [==============================] - 0s 7ms/step - loss: 40.7293 - mae: 34.9053\n",
            "Epoch 70/500\n",
            "2/2 [==============================] - 0s 8ms/step - loss: 40.6344 - mae: 35.2313\n",
            "Epoch 71/500\n",
            "2/2 [==============================] - 0s 9ms/step - loss: 40.6627 - mae: 37.1003\n",
            "Epoch 72/500\n",
            "2/2 [==============================] - 0s 7ms/step - loss: 40.7003 - mae: 36.8647\n",
            "Epoch 73/500\n",
            "2/2 [==============================] - 0s 7ms/step - loss: 40.6943 - mae: 37.9336\n",
            "Epoch 74/500\n",
            "2/2 [==============================] - 0s 7ms/step - loss: 40.7000 - mae: 37.5936\n",
            "Epoch 75/500\n",
            "2/2 [==============================] - 0s 8ms/step - loss: 40.7192 - mae: 37.9182\n",
            "Epoch 76/500\n",
            "2/2 [==============================] - 0s 8ms/step - loss: 40.6583 - mae: 36.9782\n",
            "Epoch 77/500\n",
            "2/2 [==============================] - 0s 9ms/step - loss: 40.7168 - mae: 38.0082\n",
            "Epoch 78/500\n",
            "2/2 [==============================] - 0s 7ms/step - loss: 40.4452 - mae: 37.6857\n",
            "Epoch 79/500\n",
            "2/2 [==============================] - 0s 7ms/step - loss: 40.5238 - mae: 32.7704\n",
            "Epoch 80/500\n",
            "2/2 [==============================] - 0s 7ms/step - loss: 41.2202 - mae: 28.8825\n",
            "Epoch 81/500\n",
            "2/2 [==============================] - 0s 8ms/step - loss: 39.9407 - mae: 32.3467\n",
            "Epoch 82/500\n",
            "2/2 [==============================] - 0s 8ms/step - loss: 40.6528 - mae: 32.8897\n",
            "Epoch 83/500\n",
            "2/2 [==============================] - 0s 7ms/step - loss: 40.6608 - mae: 35.2390\n",
            "Epoch 84/500\n",
            "2/2 [==============================] - 0s 8ms/step - loss: 40.6878 - mae: 35.4699\n",
            "Epoch 85/500\n",
            "2/2 [==============================] - 0s 11ms/step - loss: 40.7118 - mae: 35.8956\n",
            "Epoch 86/500\n",
            "2/2 [==============================] - 0s 8ms/step - loss: 40.7226 - mae: 36.3855\n",
            "Epoch 87/500\n",
            "2/2 [==============================] - 0s 16ms/step - loss: 40.6888 - mae: 36.4002\n",
            "Epoch 88/500\n",
            "2/2 [==============================] - 0s 13ms/step - loss: 40.7123 - mae: 36.3230\n",
            "Epoch 89/500\n",
            "2/2 [==============================] - 0s 8ms/step - loss: 40.7091 - mae: 37.3758\n",
            "Epoch 90/500\n",
            "2/2 [==============================] - 0s 8ms/step - loss: 40.6938 - mae: 37.5420\n",
            "Epoch 91/500\n",
            "2/2 [==============================] - 0s 8ms/step - loss: 40.6726 - mae: 37.3992\n",
            "Epoch 92/500\n",
            "2/2 [==============================] - 0s 11ms/step - loss: 40.6912 - mae: 37.2227\n",
            "Epoch 93/500\n",
            "2/2 [==============================] - 0s 7ms/step - loss: 40.6431 - mae: 37.1694\n",
            "Epoch 94/500\n",
            "2/2 [==============================] - 0s 8ms/step - loss: 40.6944 - mae: 36.1765\n",
            "Epoch 95/500\n",
            "2/2 [==============================] - 0s 8ms/step - loss: 40.7479 - mae: 35.4294\n",
            "Epoch 96/500\n",
            "2/2 [==============================] - 0s 9ms/step - loss: 40.5855 - mae: 34.9078\n",
            "Epoch 97/500\n",
            "2/2 [==============================] - 0s 9ms/step - loss: 40.7053 - mae: 35.7890\n",
            "Epoch 98/500\n",
            "2/2 [==============================] - 0s 7ms/step - loss: 40.6641 - mae: 36.4569\n",
            "Epoch 99/500\n",
            "2/2 [==============================] - 0s 7ms/step - loss: 40.6697 - mae: 36.4876\n",
            "Epoch 100/500\n",
            "2/2 [==============================] - 0s 7ms/step - loss: 40.7165 - mae: 35.3483\n",
            "Epoch 101/500\n",
            "2/2 [==============================] - 0s 7ms/step - loss: 40.6925 - mae: 35.9983\n",
            "Epoch 102/500\n",
            "2/2 [==============================] - 0s 7ms/step - loss: 40.5084 - mae: 36.6086\n",
            "Epoch 103/500\n",
            "2/2 [==============================] - 0s 8ms/step - loss: 40.5926 - mae: 37.0064\n",
            "Epoch 104/500\n",
            "2/2 [==============================] - 0s 11ms/step - loss: 40.7006 - mae: 35.3821\n",
            "Epoch 105/500\n",
            "2/2 [==============================] - 0s 7ms/step - loss: 40.6516 - mae: 36.1758\n",
            "Epoch 106/500\n",
            "2/2 [==============================] - 0s 7ms/step - loss: 40.6409 - mae: 36.2736\n",
            "Epoch 107/500\n",
            "2/2 [==============================] - 0s 8ms/step - loss: 40.6946 - mae: 34.9075\n",
            "Epoch 108/500\n",
            "2/2 [==============================] - 0s 9ms/step - loss: 40.7290 - mae: 34.3425\n",
            "Epoch 109/500\n",
            "2/2 [==============================] - 0s 9ms/step - loss: 40.6478 - mae: 33.3575\n",
            "Epoch 110/500\n",
            "2/2 [==============================] - 0s 9ms/step - loss: 40.6943 - mae: 34.7148\n",
            "Epoch 111/500\n",
            "2/2 [==============================] - 0s 8ms/step - loss: 40.6217 - mae: 35.0274\n",
            "Epoch 112/500\n",
            "2/2 [==============================] - 0s 8ms/step - loss: 40.4516 - mae: 35.3156\n",
            "Epoch 113/500\n",
            "2/2 [==============================] - 0s 8ms/step - loss: 40.4963 - mae: 32.3822\n",
            "Epoch 114/500\n",
            "2/2 [==============================] - 0s 7ms/step - loss: 41.0514 - mae: 30.9709\n",
            "Epoch 115/500\n",
            "2/2 [==============================] - 0s 8ms/step - loss: 40.9282 - mae: 31.6774\n",
            "Epoch 116/500\n",
            "2/2 [==============================] - 0s 7ms/step - loss: 40.6549 - mae: 33.0554\n",
            "Epoch 117/500\n",
            "2/2 [==============================] - 0s 7ms/step - loss: 40.5780 - mae: 34.5616\n",
            "Epoch 118/500\n",
            "2/2 [==============================] - 0s 9ms/step - loss: 40.5583 - mae: 35.1306\n",
            "Epoch 119/500\n",
            "2/2 [==============================] - 0s 9ms/step - loss: 40.0805 - mae: 35.9881\n",
            "Epoch 120/500\n",
            "2/2 [==============================] - 0s 8ms/step - loss: 41.3293 - mae: 27.9562\n",
            "Epoch 121/500\n",
            "2/2 [==============================] - 0s 11ms/step - loss: 39.9576 - mae: 32.0411\n",
            "Epoch 122/500\n",
            "2/2 [==============================] - 0s 8ms/step - loss: 41.2635 - mae: 24.8640\n",
            "Epoch 123/500\n",
            "2/2 [==============================] - 0s 8ms/step - loss: 41.9885 - mae: 24.4410\n",
            "Epoch 124/500\n",
            "2/2 [==============================] - 0s 8ms/step - loss: 41.3620 - mae: 27.8317\n",
            "Epoch 125/500\n",
            "2/2 [==============================] - 0s 8ms/step - loss: 40.6466 - mae: 30.5688\n",
            "Epoch 126/500\n",
            "2/2 [==============================] - 0s 14ms/step - loss: 40.8369 - mae: 32.6464\n",
            "Epoch 127/500\n",
            "2/2 [==============================] - 0s 8ms/step - loss: 40.2824 - mae: 33.4588\n",
            "Epoch 128/500\n",
            "2/2 [==============================] - 0s 8ms/step - loss: 41.3288 - mae: 28.5007\n",
            "Epoch 129/500\n",
            "2/2 [==============================] - 0s 8ms/step - loss: 40.4071 - mae: 30.2973\n",
            "Epoch 130/500\n",
            "2/2 [==============================] - 0s 12ms/step - loss: 41.2460 - mae: 28.8780\n",
            "Epoch 131/500\n",
            "2/2 [==============================] - 0s 7ms/step - loss: 40.8169 - mae: 30.8487\n",
            "Epoch 132/500\n",
            "2/2 [==============================] - 0s 9ms/step - loss: 40.8522 - mae: 31.5365\n",
            "Epoch 133/500\n",
            "2/2 [==============================] - 0s 9ms/step - loss: 40.5281 - mae: 32.9184\n",
            "Epoch 134/500\n",
            "2/2 [==============================] - 0s 9ms/step - loss: 41.0509 - mae: 30.1169\n",
            "Epoch 135/500\n",
            "2/2 [==============================] - 0s 8ms/step - loss: 40.7470 - mae: 32.7387\n",
            "Epoch 136/500\n",
            "2/2 [==============================] - 0s 9ms/step - loss: 40.7188 - mae: 33.2996\n",
            "Epoch 137/500\n",
            "2/2 [==============================] - 0s 10ms/step - loss: 40.0174 - mae: 32.5941\n",
            "Epoch 138/500\n",
            "2/2 [==============================] - 0s 8ms/step - loss: 40.4354 - mae: 32.1806\n",
            "Epoch 139/500\n",
            "2/2 [==============================] - 0s 8ms/step - loss: 40.8344 - mae: 32.5397\n",
            "Epoch 140/500\n",
            "2/2 [==============================] - 0s 8ms/step - loss: 40.7384 - mae: 33.4252\n",
            "Epoch 141/500\n",
            "2/2 [==============================] - 0s 12ms/step - loss: 40.1676 - mae: 33.9262\n",
            "Epoch 142/500\n",
            "2/2 [==============================] - 0s 11ms/step - loss: 40.6936 - mae: 30.3403\n",
            "Epoch 143/500\n",
            "2/2 [==============================] - 0s 12ms/step - loss: 40.5180 - mae: 28.1152\n",
            "Epoch 144/500\n",
            "2/2 [==============================] - 0s 10ms/step - loss: 40.6125 - mae: 30.9630\n",
            "Epoch 145/500\n",
            "2/2 [==============================] - 0s 8ms/step - loss: 41.4549 - mae: 26.5326\n",
            "Epoch 146/500\n",
            "2/2 [==============================] - 0s 8ms/step - loss: 39.9572 - mae: 31.6554\n",
            "Epoch 147/500\n",
            "2/2 [==============================] - 0s 8ms/step - loss: 40.2764 - mae: 32.5141\n",
            "Epoch 148/500\n",
            "2/2 [==============================] - 0s 8ms/step - loss: 40.6212 - mae: 30.5784\n",
            "Epoch 149/500\n",
            "2/2 [==============================] - 0s 8ms/step - loss: 40.7240 - mae: 32.4182\n",
            "Epoch 150/500\n",
            "2/2 [==============================] - 0s 7ms/step - loss: 40.0012 - mae: 33.5537\n",
            "Epoch 151/500\n",
            "2/2 [==============================] - 0s 8ms/step - loss: 41.0265 - mae: 30.6646\n",
            "Epoch 152/500\n",
            "2/2 [==============================] - 0s 7ms/step - loss: 40.8160 - mae: 32.3452\n",
            "Epoch 153/500\n",
            "2/2 [==============================] - 0s 7ms/step - loss: 40.3781 - mae: 31.9457\n",
            "Epoch 154/500\n",
            "2/2 [==============================] - 0s 7ms/step - loss: 40.8284 - mae: 32.4394\n",
            "Epoch 155/500\n",
            "2/2 [==============================] - 0s 8ms/step - loss: 40.6882 - mae: 33.6120\n",
            "Epoch 156/500\n",
            "2/2 [==============================] - 0s 7ms/step - loss: 40.4359 - mae: 33.0608\n",
            "Epoch 157/500\n",
            "2/2 [==============================] - 0s 10ms/step - loss: 40.7128 - mae: 31.4973\n",
            "Epoch 158/500\n",
            "2/2 [==============================] - 0s 8ms/step - loss: 40.4235 - mae: 32.3381\n",
            "Epoch 159/500\n",
            "2/2 [==============================] - 0s 7ms/step - loss: 40.6240 - mae: 34.1058\n",
            "Epoch 160/500\n",
            "2/2 [==============================] - 0s 10ms/step - loss: 40.7299 - mae: 33.9131\n",
            "Epoch 161/500\n",
            "2/2 [==============================] - 0s 12ms/step - loss: 40.6826 - mae: 33.8689\n",
            "Epoch 162/500\n",
            "2/2 [==============================] - 0s 12ms/step - loss: 40.6207 - mae: 34.4348\n",
            "Epoch 163/500\n",
            "2/2 [==============================] - 0s 9ms/step - loss: 40.7287 - mae: 33.5072\n",
            "Epoch 164/500\n",
            "2/2 [==============================] - 0s 8ms/step - loss: 40.4773 - mae: 34.1496\n",
            "Epoch 165/500\n",
            "2/2 [==============================] - 0s 9ms/step - loss: 40.6460 - mae: 35.3672\n",
            "Epoch 166/500\n",
            "2/2 [==============================] - 0s 9ms/step - loss: 40.5846 - mae: 35.4846\n",
            "Epoch 167/500\n",
            "2/2 [==============================] - 0s 9ms/step - loss: 40.7186 - mae: 34.5503\n",
            "Epoch 168/500\n",
            "2/2 [==============================] - 0s 8ms/step - loss: 40.6893 - mae: 35.2961\n",
            "Epoch 169/500\n",
            "2/2 [==============================] - 0s 8ms/step - loss: 40.6665 - mae: 35.5879\n",
            "Epoch 170/500\n",
            "2/2 [==============================] - 0s 8ms/step - loss: 40.6576 - mae: 35.5637\n",
            "Epoch 171/500\n",
            "2/2 [==============================] - 0s 8ms/step - loss: 40.6376 - mae: 35.5112\n",
            "Epoch 172/500\n",
            "2/2 [==============================] - 0s 8ms/step - loss: 40.5038 - mae: 35.6541\n",
            "Epoch 173/500\n",
            "2/2 [==============================] - 0s 9ms/step - loss: 40.7027 - mae: 33.5634\n",
            "Epoch 174/500\n",
            "2/2 [==============================] - 0s 10ms/step - loss: 40.5928 - mae: 35.0069\n",
            "Epoch 175/500\n",
            "2/2 [==============================] - 0s 9ms/step - loss: 40.5457 - mae: 34.6016\n",
            "Epoch 176/500\n",
            "2/2 [==============================] - 0s 11ms/step - loss: 40.7984 - mae: 33.4415\n",
            "Epoch 177/500\n",
            "2/2 [==============================] - 0s 9ms/step - loss: 40.7614 - mae: 33.3841\n",
            "Epoch 178/500\n",
            "2/2 [==============================] - 0s 9ms/step - loss: 40.6150 - mae: 33.8542\n",
            "Epoch 179/500\n",
            "2/2 [==============================] - 0s 9ms/step - loss: 40.0430 - mae: 34.5527\n",
            "Epoch 180/500\n",
            "2/2 [==============================] - 0s 9ms/step - loss: 40.6731 - mae: 33.9963\n",
            "Epoch 181/500\n",
            "2/2 [==============================] - 0s 9ms/step - loss: 40.7276 - mae: 33.3620\n",
            "Epoch 182/500\n",
            "2/2 [==============================] - 0s 8ms/step - loss: 40.5146 - mae: 32.6641\n",
            "Epoch 183/500\n",
            "2/2 [==============================] - 0s 8ms/step - loss: 39.8285 - mae: 33.7324\n",
            "Epoch 184/500\n",
            "2/2 [==============================] - 0s 9ms/step - loss: 41.4256 - mae: 27.0541\n",
            "Epoch 185/500\n",
            "2/2 [==============================] - 0s 9ms/step - loss: 40.7869 - mae: 31.3704\n",
            "Epoch 186/500\n",
            "2/2 [==============================] - 0s 9ms/step - loss: 40.4776 - mae: 30.9945\n",
            "Epoch 187/500\n",
            "2/2 [==============================] - 0s 9ms/step - loss: 40.6853 - mae: 33.0556\n",
            "Epoch 188/500\n",
            "2/2 [==============================] - 0s 8ms/step - loss: 40.2967 - mae: 32.0939\n",
            "Epoch 189/500\n",
            "2/2 [==============================] - 0s 12ms/step - loss: 40.7951 - mae: 32.8332\n",
            "Epoch 190/500\n",
            "2/2 [==============================] - 0s 12ms/step - loss: 40.7043 - mae: 34.6262\n",
            "Epoch 191/500\n",
            "2/2 [==============================] - 0s 10ms/step - loss: 40.5957 - mae: 34.8646\n",
            "Epoch 192/500\n",
            "2/2 [==============================] - 0s 8ms/step - loss: 40.3074 - mae: 35.4374\n",
            "Epoch 193/500\n",
            "2/2 [==============================] - 0s 8ms/step - loss: 40.5676 - mae: 33.0699\n",
            "Epoch 194/500\n",
            "2/2 [==============================] - 0s 9ms/step - loss: 40.6485 - mae: 34.2509\n",
            "Epoch 195/500\n",
            "2/2 [==============================] - 0s 9ms/step - loss: 40.5981 - mae: 34.9649\n",
            "Epoch 196/500\n",
            "2/2 [==============================] - 0s 10ms/step - loss: 39.4566 - mae: 33.9734\n",
            "Epoch 197/500\n",
            "2/2 [==============================] - 0s 11ms/step - loss: 40.9035 - mae: 32.0965\n",
            "Epoch 198/500\n",
            "2/2 [==============================] - 0s 9ms/step - loss: 40.4730 - mae: 32.3552\n",
            "Epoch 199/500\n",
            "2/2 [==============================] - 0s 10ms/step - loss: 40.9327 - mae: 30.9043\n",
            "Epoch 200/500\n",
            "2/2 [==============================] - 0s 9ms/step - loss: 40.8656 - mae: 32.0089\n",
            "Epoch 201/500\n",
            "2/2 [==============================] - 0s 10ms/step - loss: 40.1651 - mae: 33.4318\n",
            "Epoch 202/500\n",
            "2/2 [==============================] - 0s 9ms/step - loss: 41.0742 - mae: 29.7102\n",
            "Epoch 203/500\n",
            "2/2 [==============================] - 0s 9ms/step - loss: 40.7509 - mae: 32.5564\n",
            "Epoch 204/500\n",
            "2/2 [==============================] - 0s 14ms/step - loss: 40.7962 - mae: 33.0314\n",
            "Epoch 205/500\n",
            "2/2 [==============================] - 0s 9ms/step - loss: 40.6238 - mae: 33.9853\n",
            "Epoch 206/500\n",
            "2/2 [==============================] - 0s 8ms/step - loss: 40.6994 - mae: 34.8772\n",
            "Epoch 207/500\n",
            "2/2 [==============================] - 0s 8ms/step - loss: 40.4820 - mae: 35.4860\n",
            "Epoch 208/500\n",
            "2/2 [==============================] - 0s 13ms/step - loss: 40.6654 - mae: 33.5521\n",
            "Epoch 209/500\n",
            "2/2 [==============================] - 0s 10ms/step - loss: 40.0537 - mae: 33.9459\n",
            "Epoch 210/500\n",
            "2/2 [==============================] - 0s 9ms/step - loss: 41.0518 - mae: 30.5155\n",
            "Epoch 211/500\n",
            "2/2 [==============================] - 0s 9ms/step - loss: 40.8548 - mae: 31.0973\n",
            "Epoch 212/500\n",
            "2/2 [==============================] - 0s 9ms/step - loss: 40.6486 - mae: 33.0111\n",
            "Epoch 213/500\n",
            "2/2 [==============================] - 0s 9ms/step - loss: 40.6809 - mae: 34.4920\n",
            "Epoch 214/500\n",
            "2/2 [==============================] - 0s 11ms/step - loss: 40.6609 - mae: 34.5592\n",
            "Epoch 215/500\n",
            "2/2 [==============================] - 0s 9ms/step - loss: 40.6788 - mae: 33.9437\n",
            "Epoch 216/500\n",
            "2/2 [==============================] - 0s 9ms/step - loss: 40.5568 - mae: 34.8994\n",
            "Epoch 217/500\n",
            "2/2 [==============================] - 0s 9ms/step - loss: 39.8872 - mae: 34.0634\n",
            "Epoch 218/500\n",
            "2/2 [==============================] - 0s 12ms/step - loss: 40.3919 - mae: 33.4854\n",
            "Epoch 219/500\n",
            "2/2 [==============================] - 0s 8ms/step - loss: 40.7167 - mae: 34.4046\n",
            "Epoch 220/500\n",
            "2/2 [==============================] - 0s 10ms/step - loss: 39.9616 - mae: 34.2662\n",
            "Epoch 221/500\n",
            "2/2 [==============================] - 0s 9ms/step - loss: 40.9836 - mae: 30.2957\n",
            "Epoch 222/500\n",
            "2/2 [==============================] - 0s 9ms/step - loss: 40.7672 - mae: 30.0138\n",
            "Epoch 223/500\n",
            "2/2 [==============================] - 0s 12ms/step - loss: 40.0489 - mae: 32.0405\n",
            "Epoch 224/500\n",
            "2/2 [==============================] - 0s 10ms/step - loss: 40.7419 - mae: 32.6251\n",
            "Epoch 225/500\n",
            "2/2 [==============================] - 0s 9ms/step - loss: 40.6610 - mae: 32.2761\n",
            "Epoch 226/500\n",
            "2/2 [==============================] - 0s 9ms/step - loss: 40.8483 - mae: 32.1757\n",
            "Epoch 227/500\n",
            "2/2 [==============================] - 0s 9ms/step - loss: 40.7627 - mae: 31.8377\n",
            "Epoch 228/500\n",
            "2/2 [==============================] - 0s 12ms/step - loss: 40.4179 - mae: 33.6718\n",
            "Epoch 229/500\n",
            "2/2 [==============================] - 0s 10ms/step - loss: 40.6853 - mae: 34.1363\n",
            "Epoch 230/500\n",
            "2/2 [==============================] - 0s 10ms/step - loss: 40.3982 - mae: 34.9749\n",
            "Epoch 231/500\n",
            "2/2 [==============================] - 0s 10ms/step - loss: 40.8022 - mae: 32.6923\n",
            "Epoch 232/500\n",
            "2/2 [==============================] - 0s 10ms/step - loss: 40.7359 - mae: 33.6232\n",
            "Epoch 233/500\n",
            "2/2 [==============================] - 0s 11ms/step - loss: 40.7196 - mae: 34.1646\n",
            "Epoch 234/500\n",
            "2/2 [==============================] - 0s 9ms/step - loss: 40.4238 - mae: 34.6789\n",
            "Epoch 235/500\n",
            "2/2 [==============================] - 0s 10ms/step - loss: 40.6622 - mae: 33.9635\n",
            "Epoch 236/500\n",
            "2/2 [==============================] - 0s 9ms/step - loss: 40.6239 - mae: 34.2248\n",
            "Epoch 237/500\n",
            "2/2 [==============================] - 0s 9ms/step - loss: 40.4032 - mae: 34.9132\n",
            "Epoch 238/500\n",
            "2/2 [==============================] - 0s 13ms/step - loss: 40.6687 - mae: 34.8727\n",
            "Epoch 239/500\n",
            "2/2 [==============================] - 0s 11ms/step - loss: 40.6613 - mae: 35.3626\n",
            "Epoch 240/500\n",
            "2/2 [==============================] - 0s 10ms/step - loss: 40.6180 - mae: 35.4542\n",
            "Epoch 241/500\n",
            "2/2 [==============================] - 0s 10ms/step - loss: 40.6434 - mae: 35.4991\n",
            "Epoch 242/500\n",
            "2/2 [==============================] - 0s 9ms/step - loss: 40.6131 - mae: 36.2211\n",
            "Epoch 243/500\n",
            "2/2 [==============================] - 0s 9ms/step - loss: 40.4301 - mae: 35.9404\n",
            "Epoch 244/500\n",
            "2/2 [==============================] - 0s 11ms/step - loss: 40.6515 - mae: 36.1941\n",
            "Epoch 245/500\n",
            "2/2 [==============================] - 0s 7ms/step - loss: 40.6369 - mae: 35.6819\n",
            "Epoch 246/500\n",
            "2/2 [==============================] - 0s 12ms/step - loss: 40.5957 - mae: 36.3527\n",
            "Epoch 247/500\n",
            "2/2 [==============================] - 0s 11ms/step - loss: 40.6424 - mae: 35.1780\n",
            "Epoch 248/500\n",
            "2/2 [==============================] - 0s 9ms/step - loss: 40.6627 - mae: 35.3581\n",
            "Epoch 249/500\n",
            "2/2 [==============================] - 0s 11ms/step - loss: 40.5496 - mae: 35.4908\n",
            "Epoch 250/500\n",
            "2/2 [==============================] - 0s 9ms/step - loss: 40.6101 - mae: 33.9618\n",
            "Epoch 251/500\n",
            "2/2 [==============================] - 0s 8ms/step - loss: 40.2276 - mae: 34.3635\n",
            "Epoch 252/500\n",
            "2/2 [==============================] - 0s 7ms/step - loss: 40.9464 - mae: 31.1828\n",
            "Epoch 253/500\n",
            "2/2 [==============================] - 0s 10ms/step - loss: 40.8181 - mae: 31.1573\n",
            "Epoch 254/500\n",
            "2/2 [==============================] - 0s 8ms/step - loss: 40.5342 - mae: 33.1776\n",
            "Epoch 255/500\n",
            "2/2 [==============================] - 0s 7ms/step - loss: 40.9176 - mae: 31.0519\n",
            "Epoch 256/500\n",
            "2/2 [==============================] - 0s 8ms/step - loss: 40.5066 - mae: 32.0042\n",
            "Epoch 257/500\n",
            "2/2 [==============================] - 0s 8ms/step - loss: 40.7372 - mae: 32.6036\n",
            "Epoch 258/500\n",
            "2/2 [==============================] - 0s 8ms/step - loss: 40.6400 - mae: 33.7990\n",
            "Epoch 259/500\n",
            "2/2 [==============================] - 0s 7ms/step - loss: 40.4064 - mae: 33.5827\n",
            "Epoch 260/500\n",
            "2/2 [==============================] - 0s 7ms/step - loss: 40.8568 - mae: 31.1683\n",
            "Epoch 261/500\n",
            "2/2 [==============================] - 0s 7ms/step - loss: 40.1153 - mae: 30.4403\n",
            "Epoch 262/500\n",
            "2/2 [==============================] - 0s 8ms/step - loss: 40.1665 - mae: 30.8596\n",
            "Epoch 263/500\n",
            "2/2 [==============================] - 0s 8ms/step - loss: 40.8872 - mae: 31.6096\n",
            "Epoch 264/500\n",
            "2/2 [==============================] - 0s 8ms/step - loss: 39.9891 - mae: 32.2859\n",
            "Epoch 265/500\n",
            "2/2 [==============================] - 0s 8ms/step - loss: 40.4210 - mae: 32.5228\n",
            "Epoch 266/500\n",
            "2/2 [==============================] - 0s 7ms/step - loss: 40.6215 - mae: 33.4585\n",
            "Epoch 267/500\n",
            "2/2 [==============================] - 0s 7ms/step - loss: 40.6456 - mae: 35.1117\n",
            "Epoch 268/500\n",
            "2/2 [==============================] - 0s 7ms/step - loss: 40.4172 - mae: 34.7206\n",
            "Epoch 269/500\n",
            "2/2 [==============================] - 0s 8ms/step - loss: 40.7929 - mae: 32.4945\n",
            "Epoch 270/500\n",
            "2/2 [==============================] - 0s 8ms/step - loss: 40.0018 - mae: 33.3323\n",
            "Epoch 271/500\n",
            "2/2 [==============================] - 0s 8ms/step - loss: 40.4198 - mae: 33.7366\n",
            "Epoch 272/500\n",
            "2/2 [==============================] - 0s 8ms/step - loss: 40.7302 - mae: 32.7432\n",
            "Epoch 273/500\n",
            "2/2 [==============================] - 0s 8ms/step - loss: 40.5818 - mae: 34.4330\n",
            "Epoch 274/500\n",
            "2/2 [==============================] - 0s 8ms/step - loss: 39.9024 - mae: 35.0280\n",
            "Epoch 275/500\n",
            "2/2 [==============================] - 0s 9ms/step - loss: 41.1273 - mae: 29.6837\n",
            "Epoch 276/500\n",
            "2/2 [==============================] - 0s 9ms/step - loss: 40.9451 - mae: 31.0116\n",
            "Epoch 277/500\n",
            "2/2 [==============================] - 0s 12ms/step - loss: 40.2286 - mae: 32.6380\n",
            "Epoch 278/500\n",
            "2/2 [==============================] - 0s 12ms/step - loss: 40.7947 - mae: 33.0418\n",
            "Epoch 279/500\n",
            "2/2 [==============================] - 0s 9ms/step - loss: 40.6672 - mae: 32.8738\n",
            "Epoch 280/500\n",
            "2/2 [==============================] - 0s 10ms/step - loss: 40.8549 - mae: 32.0622\n",
            "Epoch 281/500\n",
            "2/2 [==============================] - 0s 20ms/step - loss: 40.7103 - mae: 33.1139\n",
            "Epoch 282/500\n",
            "2/2 [==============================] - 0s 12ms/step - loss: 40.6968 - mae: 33.3514\n",
            "Epoch 283/500\n",
            "2/2 [==============================] - 0s 14ms/step - loss: 40.5539 - mae: 34.7789\n",
            "Epoch 284/500\n",
            "2/2 [==============================] - 0s 11ms/step - loss: 40.6059 - mae: 34.3116\n",
            "Epoch 285/500\n",
            "2/2 [==============================] - 0s 15ms/step - loss: 40.5250 - mae: 34.2724\n",
            "Epoch 286/500\n",
            "2/2 [==============================] - 0s 10ms/step - loss: 40.4891 - mae: 33.0703\n",
            "Epoch 287/500\n",
            "2/2 [==============================] - 0s 10ms/step - loss: 40.8957 - mae: 31.4568\n",
            "Epoch 288/500\n",
            "2/2 [==============================] - 0s 10ms/step - loss: 40.6868 - mae: 32.6668\n",
            "Epoch 289/500\n",
            "2/2 [==============================] - 0s 13ms/step - loss: 40.7028 - mae: 33.9691\n",
            "Epoch 290/500\n",
            "2/2 [==============================] - 0s 9ms/step - loss: 40.6524 - mae: 34.8052\n",
            "Epoch 291/500\n",
            "2/2 [==============================] - 0s 9ms/step - loss: 40.5854 - mae: 34.9135\n",
            "Epoch 292/500\n",
            "2/2 [==============================] - 0s 11ms/step - loss: 40.3996 - mae: 35.9632\n",
            "Epoch 293/500\n",
            "2/2 [==============================] - 0s 8ms/step - loss: 40.4570 - mae: 33.6956\n",
            "Epoch 294/500\n",
            "2/2 [==============================] - 0s 10ms/step - loss: 40.8130 - mae: 32.6122\n",
            "Epoch 295/500\n",
            "2/2 [==============================] - 0s 10ms/step - loss: 40.7248 - mae: 33.5376\n",
            "Epoch 296/500\n",
            "2/2 [==============================] - 0s 9ms/step - loss: 40.5308 - mae: 33.5485\n",
            "Epoch 297/500\n",
            "2/2 [==============================] - 0s 9ms/step - loss: 40.6523 - mae: 34.2342\n",
            "Epoch 298/500\n",
            "2/2 [==============================] - 0s 12ms/step - loss: 40.6773 - mae: 33.7455\n",
            "Epoch 299/500\n",
            "2/2 [==============================] - 0s 12ms/step - loss: 40.4075 - mae: 34.3486\n",
            "Epoch 300/500\n",
            "2/2 [==============================] - 0s 15ms/step - loss: 40.4881 - mae: 32.2984\n",
            "Epoch 301/500\n",
            "2/2 [==============================] - 0s 11ms/step - loss: 40.5434 - mae: 29.7497\n",
            "Epoch 302/500\n",
            "2/2 [==============================] - 0s 9ms/step - loss: 40.8465 - mae: 31.5885\n",
            "Epoch 303/500\n",
            "2/2 [==============================] - 0s 12ms/step - loss: 40.9676 - mae: 30.8943\n",
            "Epoch 304/500\n",
            "2/2 [==============================] - 0s 12ms/step - loss: 39.9304 - mae: 31.4842\n",
            "Epoch 305/500\n",
            "2/2 [==============================] - 0s 10ms/step - loss: 40.8824 - mae: 31.2963\n",
            "Epoch 306/500\n",
            "2/2 [==============================] - 0s 17ms/step - loss: 40.7474 - mae: 32.2181\n",
            "Epoch 307/500\n",
            "2/2 [==============================] - 0s 11ms/step - loss: 40.6558 - mae: 33.6120\n",
            "Epoch 308/500\n",
            "2/2 [==============================] - 0s 12ms/step - loss: 40.7001 - mae: 33.9646\n",
            "Epoch 309/500\n",
            "2/2 [==============================] - 0s 15ms/step - loss: 40.6735 - mae: 34.6150\n",
            "Epoch 310/500\n",
            "2/2 [==============================] - 0s 12ms/step - loss: 40.5859 - mae: 35.0491\n",
            "Epoch 311/500\n",
            "2/2 [==============================] - 0s 10ms/step - loss: 40.1166 - mae: 35.7481\n",
            "Epoch 312/500\n",
            "2/2 [==============================] - 0s 13ms/step - loss: 40.8046 - mae: 31.7775\n",
            "Epoch 313/500\n",
            "2/2 [==============================] - 0s 9ms/step - loss: 39.7234 - mae: 31.1657\n",
            "Epoch 314/500\n",
            "2/2 [==============================] - 0s 10ms/step - loss: 40.8496 - mae: 31.5046\n",
            "Epoch 315/500\n",
            "2/2 [==============================] - 0s 10ms/step - loss: 40.7720 - mae: 32.4721\n",
            "Epoch 316/500\n",
            "2/2 [==============================] - 0s 10ms/step - loss: 40.0641 - mae: 34.1998\n",
            "Epoch 317/500\n",
            "2/2 [==============================] - 0s 10ms/step - loss: 40.8804 - mae: 29.9269\n",
            "Epoch 318/500\n",
            "2/2 [==============================] - 0s 10ms/step - loss: 40.9454 - mae: 31.7941\n",
            "Epoch 319/500\n",
            "2/2 [==============================] - 0s 9ms/step - loss: 40.8699 - mae: 31.8752\n",
            "Epoch 320/500\n",
            "2/2 [==============================] - 0s 9ms/step - loss: 40.7123 - mae: 33.5791\n",
            "Epoch 321/500\n",
            "2/2 [==============================] - 0s 10ms/step - loss: 40.2127 - mae: 34.8441\n",
            "Epoch 322/500\n",
            "2/2 [==============================] - 0s 8ms/step - loss: 40.6601 - mae: 34.9260\n",
            "Epoch 323/500\n",
            "2/2 [==============================] - 0s 9ms/step - loss: 40.6596 - mae: 35.2450\n",
            "Epoch 324/500\n",
            "2/2 [==============================] - 0s 8ms/step - loss: 40.5709 - mae: 35.4244\n",
            "Epoch 325/500\n",
            "2/2 [==============================] - 0s 11ms/step - loss: 40.6087 - mae: 34.9169\n",
            "Epoch 326/500\n",
            "2/2 [==============================] - 0s 8ms/step - loss: 40.6052 - mae: 35.0655\n",
            "Epoch 327/500\n",
            "2/2 [==============================] - 0s 10ms/step - loss: 40.3183 - mae: 35.1815\n",
            "Epoch 328/500\n",
            "2/2 [==============================] - 0s 8ms/step - loss: 40.5869 - mae: 35.4311\n",
            "Epoch 329/500\n",
            "2/2 [==============================] - 0s 9ms/step - loss: 40.5439 - mae: 35.8467\n",
            "Epoch 330/500\n",
            "2/2 [==============================] - 0s 8ms/step - loss: 40.5812 - mae: 36.1630\n",
            "Epoch 331/500\n",
            "2/2 [==============================] - 0s 8ms/step - loss: 40.3664 - mae: 35.5482\n",
            "Epoch 332/500\n",
            "2/2 [==============================] - 0s 10ms/step - loss: 40.6608 - mae: 33.9401\n",
            "Epoch 333/500\n",
            "2/2 [==============================] - 0s 13ms/step - loss: 40.6605 - mae: 34.2171\n",
            "Epoch 334/500\n",
            "2/2 [==============================] - 0s 10ms/step - loss: 40.4774 - mae: 34.5857\n",
            "Epoch 335/500\n",
            "2/2 [==============================] - 0s 7ms/step - loss: 40.0113 - mae: 35.1831\n",
            "Epoch 336/500\n",
            "2/2 [==============================] - 0s 9ms/step - loss: 40.8221 - mae: 31.8810\n",
            "Epoch 337/500\n",
            "2/2 [==============================] - 0s 10ms/step - loss: 40.3066 - mae: 33.0622\n",
            "Epoch 338/500\n",
            "2/2 [==============================] - 0s 11ms/step - loss: 40.4682 - mae: 33.0926\n",
            "Epoch 339/500\n",
            "2/2 [==============================] - 0s 9ms/step - loss: 40.4869 - mae: 33.5379\n",
            "Epoch 340/500\n",
            "2/2 [==============================] - 0s 11ms/step - loss: 40.7128 - mae: 33.9616\n",
            "Epoch 341/500\n",
            "2/2 [==============================] - 0s 11ms/step - loss: 40.4528 - mae: 34.6012\n",
            "Epoch 342/500\n",
            "2/2 [==============================] - 0s 13ms/step - loss: 40.1308 - mae: 35.3295\n",
            "Epoch 343/500\n",
            "2/2 [==============================] - 0s 10ms/step - loss: 40.1571 - mae: 34.8853\n",
            "Epoch 344/500\n",
            "2/2 [==============================] - 0s 11ms/step - loss: 39.6002 - mae: 35.2043\n",
            "Epoch 345/500\n",
            "2/2 [==============================] - 0s 13ms/step - loss: 41.3987 - mae: 27.5406\n",
            "Epoch 346/500\n",
            "2/2 [==============================] - 0s 11ms/step - loss: 40.9184 - mae: 30.4020\n",
            "Epoch 347/500\n",
            "2/2 [==============================] - 0s 11ms/step - loss: 40.9464 - mae: 30.6765\n",
            "Epoch 348/500\n",
            "2/2 [==============================] - 0s 12ms/step - loss: 40.6510 - mae: 32.9692\n",
            "Epoch 349/500\n",
            "2/2 [==============================] - 0s 9ms/step - loss: 40.6838 - mae: 34.3221\n",
            "Epoch 350/500\n",
            "2/2 [==============================] - 0s 9ms/step - loss: 39.7852 - mae: 34.5590\n",
            "Epoch 351/500\n",
            "2/2 [==============================] - 0s 9ms/step - loss: 40.8882 - mae: 29.6393\n",
            "Epoch 352/500\n",
            "2/2 [==============================] - 0s 8ms/step - loss: 40.9879 - mae: 30.5154\n",
            "Epoch 353/500\n",
            "2/2 [==============================] - 0s 9ms/step - loss: 40.7682 - mae: 32.2579\n",
            "Epoch 354/500\n",
            "2/2 [==============================] - 0s 8ms/step - loss: 40.6360 - mae: 33.5697\n",
            "Epoch 355/500\n",
            "2/2 [==============================] - 0s 10ms/step - loss: 40.5574 - mae: 34.4786\n",
            "Epoch 356/500\n",
            "2/2 [==============================] - 0s 10ms/step - loss: 40.3141 - mae: 35.1376\n",
            "Epoch 357/500\n",
            "2/2 [==============================] - 0s 8ms/step - loss: 40.2485 - mae: 32.4239\n",
            "Epoch 358/500\n",
            "2/2 [==============================] - 0s 11ms/step - loss: 40.9781 - mae: 30.7170\n",
            "Epoch 359/500\n",
            "2/2 [==============================] - 0s 10ms/step - loss: 40.4111 - mae: 32.2215\n",
            "Epoch 360/500\n",
            "2/2 [==============================] - 0s 10ms/step - loss: 40.7755 - mae: 30.8334\n",
            "Epoch 361/500\n",
            "2/2 [==============================] - 0s 7ms/step - loss: 40.6542 - mae: 33.0142\n",
            "Epoch 362/500\n",
            "2/2 [==============================] - 0s 8ms/step - loss: 40.6183 - mae: 33.0579\n",
            "Epoch 363/500\n",
            "2/2 [==============================] - 0s 9ms/step - loss: 40.3234 - mae: 32.3473\n",
            "Epoch 364/500\n",
            "2/2 [==============================] - 0s 8ms/step - loss: 40.9939 - mae: 29.0873\n",
            "Epoch 365/500\n",
            "2/2 [==============================] - 0s 14ms/step - loss: 40.4139 - mae: 31.6640\n",
            "Epoch 366/500\n",
            "2/2 [==============================] - 0s 8ms/step - loss: 40.0210 - mae: 33.3257\n",
            "Epoch 367/500\n",
            "2/2 [==============================] - 0s 10ms/step - loss: 41.0405 - mae: 29.7380\n",
            "Epoch 368/500\n",
            "2/2 [==============================] - 0s 8ms/step - loss: 40.7418 - mae: 30.9720\n",
            "Epoch 369/500\n",
            "2/2 [==============================] - 0s 9ms/step - loss: 40.7338 - mae: 33.3539\n",
            "Epoch 370/500\n",
            "2/2 [==============================] - 0s 8ms/step - loss: 40.6772 - mae: 33.8591\n",
            "Epoch 371/500\n",
            "2/2 [==============================] - 0s 8ms/step - loss: 40.5047 - mae: 34.1202\n",
            "Epoch 372/500\n",
            "2/2 [==============================] - 0s 9ms/step - loss: 40.5490 - mae: 35.0743\n",
            "Epoch 373/500\n",
            "2/2 [==============================] - 0s 10ms/step - loss: 40.6673 - mae: 34.3734\n",
            "Epoch 374/500\n",
            "2/2 [==============================] - 0s 9ms/step - loss: 40.5672 - mae: 34.6978\n",
            "Epoch 375/500\n",
            "2/2 [==============================] - 0s 9ms/step - loss: 40.5105 - mae: 35.3896\n",
            "Epoch 376/500\n",
            "2/2 [==============================] - 0s 9ms/step - loss: 40.2287 - mae: 35.8012\n",
            "Epoch 377/500\n",
            "2/2 [==============================] - 0s 9ms/step - loss: 40.4530 - mae: 35.8063\n",
            "Epoch 378/500\n",
            "2/2 [==============================] - 0s 8ms/step - loss: 40.5320 - mae: 35.4047\n",
            "Epoch 379/500\n",
            "2/2 [==============================] - 0s 8ms/step - loss: 40.5317 - mae: 34.8577\n",
            "Epoch 380/500\n",
            "2/2 [==============================] - 0s 8ms/step - loss: 40.6880 - mae: 33.8289\n",
            "Epoch 381/500\n",
            "2/2 [==============================] - 0s 7ms/step - loss: 40.5955 - mae: 35.4702\n",
            "Epoch 382/500\n",
            "2/2 [==============================] - 0s 8ms/step - loss: 40.5381 - mae: 35.5844\n",
            "Epoch 383/500\n",
            "2/2 [==============================] - 0s 7ms/step - loss: 40.4314 - mae: 35.1238\n",
            "Epoch 384/500\n",
            "2/2 [==============================] - 0s 9ms/step - loss: 40.1047 - mae: 35.1496\n",
            "Epoch 385/500\n",
            "2/2 [==============================] - 0s 8ms/step - loss: 40.6377 - mae: 34.9292\n",
            "Epoch 386/500\n",
            "2/2 [==============================] - 0s 8ms/step - loss: 40.6184 - mae: 35.0597\n",
            "Epoch 387/500\n",
            "2/2 [==============================] - 0s 8ms/step - loss: 40.6018 - mae: 35.8602\n",
            "Epoch 388/500\n",
            "2/2 [==============================] - 0s 10ms/step - loss: 40.6570 - mae: 35.6155\n",
            "Epoch 389/500\n",
            "2/2 [==============================] - 0s 10ms/step - loss: 40.3109 - mae: 35.4891\n",
            "Epoch 390/500\n",
            "2/2 [==============================] - 0s 10ms/step - loss: 40.8031 - mae: 32.3737\n",
            "Epoch 391/500\n",
            "2/2 [==============================] - 0s 8ms/step - loss: 40.7534 - mae: 33.2849\n",
            "Epoch 392/500\n",
            "2/2 [==============================] - 0s 8ms/step - loss: 40.4617 - mae: 34.6088\n",
            "Epoch 393/500\n",
            "2/2 [==============================] - 0s 9ms/step - loss: 40.6391 - mae: 34.8934\n",
            "Epoch 394/500\n",
            "2/2 [==============================] - 0s 8ms/step - loss: 40.4765 - mae: 35.6034\n",
            "Epoch 395/500\n",
            "2/2 [==============================] - 0s 8ms/step - loss: 40.6680 - mae: 34.2571\n",
            "Epoch 396/500\n",
            "2/2 [==============================] - 0s 8ms/step - loss: 40.4322 - mae: 34.8003\n",
            "Epoch 397/500\n",
            "2/2 [==============================] - 0s 10ms/step - loss: 40.5840 - mae: 35.0179\n",
            "Epoch 398/500\n",
            "2/2 [==============================] - 0s 8ms/step - loss: 40.6487 - mae: 34.4723\n",
            "Epoch 399/500\n",
            "2/2 [==============================] - 0s 8ms/step - loss: 40.4931 - mae: 35.1305\n",
            "Epoch 400/500\n",
            "2/2 [==============================] - 0s 8ms/step - loss: 40.7304 - mae: 33.4830\n",
            "Epoch 401/500\n",
            "2/2 [==============================] - 0s 8ms/step - loss: 39.9383 - mae: 34.2178\n",
            "Epoch 402/500\n",
            "2/2 [==============================] - 0s 8ms/step - loss: 40.4524 - mae: 29.3009\n",
            "Epoch 403/500\n",
            "2/2 [==============================] - 0s 9ms/step - loss: 40.1594 - mae: 31.6575\n",
            "Epoch 404/500\n",
            "2/2 [==============================] - 0s 8ms/step - loss: 41.3361 - mae: 27.6791\n",
            "Epoch 405/500\n",
            "2/2 [==============================] - 0s 7ms/step - loss: 40.7621 - mae: 31.5835\n",
            "Epoch 406/500\n",
            "2/2 [==============================] - 0s 11ms/step - loss: 40.7631 - mae: 32.8044\n",
            "Epoch 407/500\n",
            "2/2 [==============================] - 0s 8ms/step - loss: 40.6591 - mae: 33.9403\n",
            "Epoch 408/500\n",
            "2/2 [==============================] - 0s 9ms/step - loss: 40.1246 - mae: 34.6435\n",
            "Epoch 409/500\n",
            "2/2 [==============================] - 0s 7ms/step - loss: 40.8360 - mae: 30.3306\n",
            "Epoch 410/500\n",
            "2/2 [==============================] - 0s 8ms/step - loss: 40.8767 - mae: 31.3032\n",
            "Epoch 411/500\n",
            "2/2 [==============================] - 0s 8ms/step - loss: 40.6665 - mae: 32.3674\n",
            "Epoch 412/500\n",
            "2/2 [==============================] - 0s 10ms/step - loss: 40.7674 - mae: 32.1896\n",
            "Epoch 413/500\n",
            "2/2 [==============================] - 0s 13ms/step - loss: 40.8363 - mae: 32.4722\n",
            "Epoch 414/500\n",
            "2/2 [==============================] - 0s 12ms/step - loss: 40.6964 - mae: 32.3858\n",
            "Epoch 415/500\n",
            "2/2 [==============================] - 0s 10ms/step - loss: 40.6350 - mae: 33.9524\n",
            "Epoch 416/500\n",
            "2/2 [==============================] - 0s 7ms/step - loss: 40.6388 - mae: 35.0684\n",
            "Epoch 417/500\n",
            "2/2 [==============================] - 0s 11ms/step - loss: 40.6163 - mae: 35.4857\n",
            "Epoch 418/500\n",
            "2/2 [==============================] - 0s 12ms/step - loss: 40.6219 - mae: 35.2498\n",
            "Epoch 419/500\n",
            "2/2 [==============================] - 0s 7ms/step - loss: 40.3707 - mae: 35.4841\n",
            "Epoch 420/500\n",
            "2/2 [==============================] - 0s 9ms/step - loss: 40.6369 - mae: 33.2969\n",
            "Epoch 421/500\n",
            "2/2 [==============================] - 0s 6ms/step - loss: 40.5780 - mae: 34.6288\n",
            "Epoch 422/500\n",
            "2/2 [==============================] - 0s 8ms/step - loss: 40.4855 - mae: 35.0675\n",
            "Epoch 423/500\n",
            "2/2 [==============================] - 0s 14ms/step - loss: 40.6702 - mae: 34.4800\n",
            "Epoch 424/500\n",
            "2/2 [==============================] - 0s 8ms/step - loss: 40.5260 - mae: 35.0975\n",
            "Epoch 425/500\n",
            "2/2 [==============================] - 0s 11ms/step - loss: 40.6550 - mae: 34.7425\n",
            "Epoch 426/500\n",
            "2/2 [==============================] - 0s 7ms/step - loss: 40.3870 - mae: 34.4082\n",
            "Epoch 427/500\n",
            "2/2 [==============================] - 0s 9ms/step - loss: 40.6585 - mae: 34.5646\n",
            "Epoch 428/500\n",
            "2/2 [==============================] - 0s 9ms/step - loss: 40.4457 - mae: 34.8993\n",
            "Epoch 429/500\n",
            "2/2 [==============================] - 0s 8ms/step - loss: 40.2403 - mae: 34.0701\n",
            "Epoch 430/500\n",
            "2/2 [==============================] - 0s 7ms/step - loss: 40.8203 - mae: 30.2098\n",
            "Epoch 431/500\n",
            "2/2 [==============================] - 0s 8ms/step - loss: 40.6385 - mae: 31.4835\n",
            "Epoch 432/500\n",
            "2/2 [==============================] - 0s 8ms/step - loss: 40.7382 - mae: 31.7933\n",
            "Epoch 433/500\n",
            "2/2 [==============================] - 0s 7ms/step - loss: 40.1695 - mae: 33.2276\n",
            "Epoch 434/500\n",
            "2/2 [==============================] - 0s 9ms/step - loss: 41.0420 - mae: 30.2082\n",
            "Epoch 435/500\n",
            "2/2 [==============================] - 0s 9ms/step - loss: 39.8150 - mae: 32.3974\n",
            "Epoch 436/500\n",
            "2/2 [==============================] - 0s 9ms/step - loss: 41.3948 - mae: 26.2766\n",
            "Epoch 437/500\n",
            "2/2 [==============================] - 0s 8ms/step - loss: 41.1393 - mae: 28.0661\n",
            "Epoch 438/500\n",
            "2/2 [==============================] - 0s 9ms/step - loss: 39.7038 - mae: 32.5557\n",
            "Epoch 439/500\n",
            "2/2 [==============================] - 0s 10ms/step - loss: 41.1249 - mae: 25.8949\n",
            "Epoch 440/500\n",
            "2/2 [==============================] - 0s 9ms/step - loss: 41.0628 - mae: 26.2000\n",
            "Epoch 441/500\n",
            "2/2 [==============================] - 0s 11ms/step - loss: 41.1588 - mae: 27.1038\n",
            "Epoch 442/500\n",
            "2/2 [==============================] - 0s 9ms/step - loss: 41.1423 - mae: 28.9556\n",
            "Epoch 443/500\n",
            "2/2 [==============================] - 0s 9ms/step - loss: 40.8983 - mae: 31.0180\n",
            "Epoch 444/500\n",
            "2/2 [==============================] - 0s 9ms/step - loss: 40.2337 - mae: 31.9634\n",
            "Epoch 445/500\n",
            "2/2 [==============================] - 0s 9ms/step - loss: 40.7271 - mae: 33.5635\n",
            "Epoch 446/500\n",
            "2/2 [==============================] - 0s 9ms/step - loss: 40.3396 - mae: 33.2126\n",
            "Epoch 447/500\n",
            "2/2 [==============================] - 0s 8ms/step - loss: 40.3121 - mae: 34.2275\n",
            "Epoch 448/500\n",
            "2/2 [==============================] - 0s 10ms/step - loss: 40.6536 - mae: 34.8550\n",
            "Epoch 449/500\n",
            "2/2 [==============================] - 0s 9ms/step - loss: 40.6144 - mae: 34.8761\n",
            "Epoch 450/500\n",
            "2/2 [==============================] - 0s 7ms/step - loss: 40.5994 - mae: 35.1931\n",
            "Epoch 451/500\n",
            "2/2 [==============================] - 0s 9ms/step - loss: 39.9831 - mae: 35.5601\n",
            "Epoch 452/500\n",
            "2/2 [==============================] - 0s 8ms/step - loss: 40.8132 - mae: 31.0942\n",
            "Epoch 453/500\n",
            "2/2 [==============================] - 0s 9ms/step - loss: 40.9069 - mae: 29.6282\n",
            "Epoch 454/500\n",
            "2/2 [==============================] - 0s 11ms/step - loss: 40.8884 - mae: 30.6625\n",
            "Epoch 455/500\n",
            "2/2 [==============================] - 0s 8ms/step - loss: 40.7115 - mae: 31.9563\n",
            "Epoch 456/500\n",
            "2/2 [==============================] - 0s 9ms/step - loss: 40.6425 - mae: 33.7101\n",
            "Epoch 457/500\n",
            "2/2 [==============================] - 0s 13ms/step - loss: 40.5791 - mae: 33.9486\n",
            "Epoch 458/500\n",
            "2/2 [==============================] - 0s 10ms/step - loss: 40.1854 - mae: 34.7549\n",
            "Epoch 459/500\n",
            "2/2 [==============================] - 0s 8ms/step - loss: 40.7563 - mae: 32.1858\n",
            "Epoch 460/500\n",
            "2/2 [==============================] - 0s 8ms/step - loss: 40.7492 - mae: 32.8843\n",
            "Epoch 461/500\n",
            "2/2 [==============================] - 0s 7ms/step - loss: 40.6502 - mae: 33.7408\n",
            "Epoch 462/500\n",
            "2/2 [==============================] - 0s 10ms/step - loss: 40.6548 - mae: 34.3171\n",
            "Epoch 463/500\n",
            "2/2 [==============================] - 0s 9ms/step - loss: 40.5916 - mae: 34.8202\n",
            "Epoch 464/500\n",
            "2/2 [==============================] - 0s 9ms/step - loss: 40.4280 - mae: 35.4216\n",
            "Epoch 465/500\n",
            "2/2 [==============================] - 0s 10ms/step - loss: 40.4100 - mae: 35.5157\n",
            "Epoch 466/500\n",
            "2/2 [==============================] - 0s 9ms/step - loss: 40.5693 - mae: 35.6417\n",
            "Epoch 467/500\n",
            "2/2 [==============================] - 0s 10ms/step - loss: 40.6479 - mae: 35.1103\n",
            "Epoch 468/500\n",
            "2/2 [==============================] - 0s 11ms/step - loss: 40.5384 - mae: 34.9487\n",
            "Epoch 469/500\n",
            "2/2 [==============================] - 0s 10ms/step - loss: 40.6374 - mae: 34.2221\n",
            "Epoch 470/500\n",
            "2/2 [==============================] - 0s 13ms/step - loss: 40.6317 - mae: 34.4099\n",
            "Epoch 471/500\n",
            "2/2 [==============================] - 0s 10ms/step - loss: 40.5356 - mae: 34.8348\n",
            "Epoch 472/500\n",
            "2/2 [==============================] - 0s 10ms/step - loss: 40.6018 - mae: 35.3677\n",
            "Epoch 473/500\n",
            "2/2 [==============================] - 0s 14ms/step - loss: 40.4686 - mae: 36.0362\n",
            "Epoch 474/500\n",
            "2/2 [==============================] - 0s 13ms/step - loss: 40.5683 - mae: 34.5841\n",
            "Epoch 475/500\n",
            "2/2 [==============================] - 0s 10ms/step - loss: 40.2346 - mae: 34.4764\n",
            "Epoch 476/500\n",
            "2/2 [==============================] - 0s 11ms/step - loss: 40.4587 - mae: 35.1191\n",
            "Epoch 477/500\n",
            "2/2 [==============================] - 0s 11ms/step - loss: 40.6637 - mae: 33.4721\n",
            "Epoch 478/500\n",
            "2/2 [==============================] - 0s 12ms/step - loss: 40.2776 - mae: 32.8469\n",
            "Epoch 479/500\n",
            "2/2 [==============================] - 0s 12ms/step - loss: 40.6682 - mae: 33.4762\n",
            "Epoch 480/500\n",
            "2/2 [==============================] - 0s 9ms/step - loss: 40.7012 - mae: 32.9743\n",
            "Epoch 481/500\n",
            "2/2 [==============================] - 0s 9ms/step - loss: 40.6088 - mae: 33.6577\n",
            "Epoch 482/500\n",
            "2/2 [==============================] - 0s 17ms/step - loss: 40.6366 - mae: 33.3440\n",
            "Epoch 483/500\n",
            "2/2 [==============================] - 0s 9ms/step - loss: 40.3567 - mae: 33.9138\n",
            "Epoch 484/500\n",
            "2/2 [==============================] - 0s 10ms/step - loss: 39.9434 - mae: 31.2821\n",
            "Epoch 485/500\n",
            "2/2 [==============================] - 0s 11ms/step - loss: 40.7026 - mae: 31.8212\n",
            "Epoch 486/500\n",
            "2/2 [==============================] - 0s 11ms/step - loss: 39.9151 - mae: 32.3338\n",
            "Epoch 487/500\n",
            "2/2 [==============================] - 0s 11ms/step - loss: 40.6163 - mae: 32.9083\n",
            "Epoch 488/500\n",
            "2/2 [==============================] - 0s 9ms/step - loss: 39.8382 - mae: 31.9888\n",
            "Epoch 489/500\n",
            "2/2 [==============================] - 0s 17ms/step - loss: 40.4878 - mae: 32.0619\n",
            "Epoch 490/500\n",
            "2/2 [==============================] - 0s 10ms/step - loss: 40.6554 - mae: 34.0371\n",
            "Epoch 491/500\n",
            "2/2 [==============================] - 0s 11ms/step - loss: 40.6450 - mae: 34.5874\n",
            "Epoch 492/500\n",
            "2/2 [==============================] - 0s 9ms/step - loss: 40.6228 - mae: 34.2629\n",
            "Epoch 493/500\n",
            "2/2 [==============================] - 0s 10ms/step - loss: 40.5247 - mae: 34.5326\n",
            "Epoch 494/500\n",
            "2/2 [==============================] - 0s 15ms/step - loss: 40.1771 - mae: 34.8937\n",
            "Epoch 495/500\n",
            "2/2 [==============================] - 0s 12ms/step - loss: 40.5471 - mae: 35.0703\n",
            "Epoch 496/500\n",
            "2/2 [==============================] - 0s 17ms/step - loss: 40.5752 - mae: 35.1339\n",
            "Epoch 497/500\n",
            "2/2 [==============================] - 0s 12ms/step - loss: 40.2587 - mae: 35.3645\n",
            "Epoch 498/500\n",
            "2/2 [==============================] - 0s 11ms/step - loss: 40.8574 - mae: 32.1957\n",
            "Epoch 499/500\n",
            "2/2 [==============================] - 0s 10ms/step - loss: 40.6099 - mae: 32.3157\n",
            "Epoch 500/500\n",
            "2/2 [==============================] - 0s 12ms/step - loss: 39.7462 - mae: 32.3381\n"
          ]
        },
        {
          "output_type": "execute_result",
          "data": {
            "text/plain": [
              "<keras.src.callbacks.History at 0x7f14d77375b0>"
            ]
          },
          "metadata": {},
          "execution_count": 59
        }
      ]
    },
    {
      "cell_type": "code",
      "source": [
        "# Make and plot some predictions\n",
        "\n",
        "y_preds_3 = model_3.predict(x_test)\n",
        "plot_predictions(predictions = y_preds_3)"
      ],
      "metadata": {
        "colab": {
          "base_uri": "https://localhost:8080/",
          "height": 502
        },
        "id": "uKfdkv17FlEB",
        "outputId": "2985025f-a1f1-484a-9060-cb1d9802df02"
      },
      "execution_count": 60,
      "outputs": [
        {
          "output_type": "stream",
          "name": "stdout",
          "text": [
            "1/1 [==============================] - 0s 66ms/step\n"
          ]
        },
        {
          "output_type": "display_data",
          "data": {
            "text/plain": [
              "<Figure size 1000x700 with 1 Axes>"
            ],
            "image/png": "[encoded data removed]"
          },
          "metadata": {}
        }
      ]
    },
    {
      "cell_type": "code",
      "source": [
        "# Calculate model_3 evaluation metrics\n",
        "\n",
        "mae_3 = mae(y_test, y_preds_3)\n",
        "mse_3 = mse(y_test, y_preds_3)\n",
        "mae_3, mse_3"
      ],
      "metadata": {
        "colab": {
          "base_uri": "https://localhost:8080/"
        },
        "id": "AZTlLn1rGIGp",
        "outputId": "0e6db5cb-02b4-457e-fd46-d96b8d88e18b"
      },
      "execution_count": 61,
      "outputs": [
        {
          "output_type": "execute_result",
          "data": {
            "text/plain": [
              "(<tf.Tensor: shape=(), dtype=float32, numpy=63.960358>,\n",
              " <tf.Tensor: shape=(), dtype=float32, numpy=4150.934>)"
            ]
          },
          "metadata": {},
          "execution_count": 61
        }
      ]
    },
    {
      "cell_type": "markdown",
      "source": [
        "## Comparing the results of out experiments\n",
        "\n"
      ],
      "metadata": {
        "id": "AAy24eLdG11d"
      }
    },
    {
      "cell_type": "code",
      "source": [
        "# Lets compare our models result using a pandas DataFrame\n",
        "\n",
        "import pandas as pd\n",
        "\n",
        "model_results = [[\"model_1\", mae_1.numpy(), mse_1.numpy()],\n",
        "                [\"model_2\", mae_2.numpy(), mse_2.numpy()],\n",
        "                [\"model_3\", mae_3.numpy(), mse_3]]\n",
        "\n",
        "all_results = pd.DataFrame(model_results, columns=[\"model\", \"mae\", \"mse\"])\n",
        "all_results\n"
      ],
      "metadata": {
        "colab": {
          "base_uri": "https://localhost:8080/",
          "height": 144
        },
        "id": "Eyz6kizfeNiv",
        "outputId": "45843ec2-fe51-419b-a5fa-4f904c167e56"
      },
      "execution_count": 62,
      "outputs": [
        {
          "output_type": "execute_result",
          "data": {
            "text/plain": [
              "     model        mae                                           mse\n",
              "0  model_1   8.566765                                      79.85099\n",
              "1  model_2  45.266090                                    2075.64917\n",
              "2  model_3  63.960358  tf.Tensor(4150.934, shape=(), dtype=float32)"
            ],
            "text/html": [
              "\n",
              "  <div id=\"df-c3103284-6f28-4b70-92d5-e4ed98791c83\" class=\"colab-df-container\">\n",
              "    <div>\n",
              "<style scoped>\n",
              "    .dataframe tbody tr th:only-of-type {\n",
              "        vertical-align: middle;\n",
              "    }\n",
              "\n",
              "    .dataframe tbody tr th {\n",
              "        vertical-align: top;\n",
              "    }\n",
              "\n",
              "    .dataframe thead th {\n",
              "        text-align: right;\n",
              "    }\n",
              "</style>\n",
              "<table border=\"1\" class=\"dataframe\">\n",
              "  <thead>\n",
              "    <tr style=\"text-align: right;\">\n",
              "      <th></th>\n",
              "      <th>model</th>\n",
              "      <th>mae</th>\n",
              "      <th>mse</th>\n",
              "    </tr>\n",
              "  </thead>\n",
              "  <tbody>\n",
              "    <tr>\n",
              "      <th>0</th>\n",
              "      <td>model_1</td>\n",
              "      <td>8.566765</td>\n",
              "      <td>79.85099</td>\n",
              "    </tr>\n",
              "    <tr>\n",
              "      <th>1</th>\n",
              "      <td>model_2</td>\n",
              "      <td>45.266090</td>\n",
              "      <td>2075.64917</td>\n",
              "    </tr>\n",
              "    <tr>\n",
              "      <th>2</th>\n",
              "      <td>model_3</td>\n",
              "      <td>63.960358</td>\n",
              "      <td>tf.Tensor(4150.934, shape=(), dtype=float32)</td>\n",
              "    </tr>\n",
              "  </tbody>\n",
              "</table>\n",
              "</div>\n",
              "    <div class=\"colab-df-buttons\">\n",
              "\n",
              "  <div class=\"colab-df-container\">\n",
              "    <button class=\"colab-df-convert\" onclick=\"convertToInteractive('df-c3103284-6f28-4b70-92d5-e4ed98791c83')\"\n",
              "            title=\"Convert this dataframe to an interactive table.\"\n",
              "            style=\"display:none;\">\n",
              "\n",
              "  <svg xmlns=\"http://www.w3.org/2000/svg\" height=\"24px\" viewBox=\"0 -960 960 960\">\n",
              "    <path d=\"M120-120v-720h720v720H120Zm60-500h600v-160H180v160Zm220 220h160v-160H400v160Zm0 220h160v-160H400v160ZM180-400h160v-160H180v160Zm440 0h160v-160H620v160ZM180-180h160v-160H180v160Zm440 0h160v-160H620v160Z\"/>\n",
              "  </svg>\n",
              "    </button>\n",
              "\n",
              "  <style>\n",
              "    .colab-df-container {\n",
              "      display:flex;\n",
              "      gap: 12px;\n",
              "    }\n",
              "\n",
              "    .colab-df-convert {\n",
              "      background-color: #E8F0FE;\n",
              "      border: none;\n",
              "      border-radius: 50%;\n",
              "      cursor: pointer;\n",
              "      display: none;\n",
              "      fill: #1967D2;\n",
              "      height: 32px;\n",
              "      padding: 0 0 0 0;\n",
              "      width: 32px;\n",
              "    }\n",
              "\n",
              "    .colab-df-convert:hover {\n",
              "      background-color: #E2EBFA;\n",
              "      box-shadow: 0px 1px 2px rgba(60, 64, 67, 0.3), 0px 1px 3px 1px rgba(60, 64, 67, 0.15);\n",
              "      fill: #174EA6;\n",
              "    }\n",
              "\n",
              "    .colab-df-buttons div {\n",
              "      margin-bottom: 4px;\n",
              "    }\n",
              "\n",
              "    [theme=dark] .colab-df-convert {\n",
              "      background-color: #3B4455;\n",
              "      fill: #D2E3FC;\n",
              "    }\n",
              "\n",
              "    [theme=dark] .colab-df-convert:hover {\n",
              "      background-color: #434B5C;\n",
              "      box-shadow: 0px 1px 3px 1px rgba(0, 0, 0, 0.15);\n",
              "      filter: drop-shadow(0px 1px 2px rgba(0, 0, 0, 0.3));\n",
              "      fill: #FFFFFF;\n",
              "    }\n",
              "  </style>\n",
              "\n",
              "    <script>\n",
              "      const buttonEl =\n",
              "        document.querySelector('#df-c3103284-6f28-4b70-92d5-e4ed98791c83 button.colab-df-convert');\n",
              "      buttonEl.style.display =\n",
              "        google.colab.kernel.accessAllowed ? 'block' : 'none';\n",
              "\n",
              "      async function convertToInteractive(key) {\n",
              "        const element = document.querySelector('#df-c3103284-6f28-4b70-92d5-e4ed98791c83');\n",
              "        const dataTable =\n",
              "          await google.colab.kernel.invokeFunction('convertToInteractive',\n",
              "                                                    [key], {});\n",
              "        if (!dataTable) return;\n",
              "\n",
              "        const docLinkHtml = 'Like what you see? Visit the ' +\n",
              "          '<a target=\"_blank\" href=https://colab.research.google.com/notebooks/data_table.ipynb>data table notebook</a>'\n",
              "          + ' to learn more about interactive tables.';\n",
              "        element.innerHTML = '';\n",
              "        dataTable['output_type'] = 'display_data';\n",
              "        await google.colab.output.renderOutput(dataTable, element);\n",
              "        const docLink = document.createElement('div');\n",
              "        docLink.innerHTML = docLinkHtml;\n",
              "        element.appendChild(docLink);\n",
              "      }\n",
              "    </script>\n",
              "  </div>\n",
              "\n",
              "\n",
              "<div id=\"df-b9d76598-a57a-4f82-92b9-5ced24b223c0\">\n",
              "  <button class=\"colab-df-quickchart\" onclick=\"quickchart('df-b9d76598-a57a-4f82-92b9-5ced24b223c0')\"\n",
              "            title=\"Suggest charts\"\n",
              "            style=\"display:none;\">\n",
              "\n",
              "<svg xmlns=\"http://www.w3.org/2000/svg\" height=\"24px\"viewBox=\"0 0 24 24\"\n",
              "     width=\"24px\">\n",
              "    <g>\n",
              "        <path d=\"M19 3H5c-1.1 0-2 .9-2 2v14c0 1.1.9 2 2 2h14c1.1 0 2-.9 2-2V5c0-1.1-.9-2-2-2zM9 17H7v-7h2v7zm4 0h-2V7h2v10zm4 0h-2v-4h2v4z\"/>\n",
              "    </g>\n",
              "</svg>\n",
              "  </button>\n",
              "\n",
              "<style>\n",
              "  .colab-df-quickchart {\n",
              "      --bg-color: #E8F0FE;\n",
              "      --fill-color: #1967D2;\n",
              "      --hover-bg-color: #E2EBFA;\n",
              "      --hover-fill-color: #174EA6;\n",
              "      --disabled-fill-color: #AAA;\n",
              "      --disabled-bg-color: #DDD;\n",
              "  }\n",
              "\n",
              "  [theme=dark] .colab-df-quickchart {\n",
              "      --bg-color: #3B4455;\n",
              "      --fill-color: #D2E3FC;\n",
              "      --hover-bg-color: #434B5C;\n",
              "      --hover-fill-color: #FFFFFF;\n",
              "      --disabled-bg-color: #3B4455;\n",
              "      --disabled-fill-color: #666;\n",
              "  }\n",
              "\n",
              "  .colab-df-quickchart {\n",
              "    background-color: var(--bg-color);\n",
              "    border: none;\n",
              "    border-radius: 50%;\n",
              "    cursor: pointer;\n",
              "    display: none;\n",
              "    fill: var(--fill-color);\n",
              "    height: 32px;\n",
              "    padding: 0;\n",
              "    width: 32px;\n",
              "  }\n",
              "\n",
              "  .colab-df-quickchart:hover {\n",
              "    background-color: var(--hover-bg-color);\n",
              "    box-shadow: 0 1px 2px rgba(60, 64, 67, 0.3), 0 1px 3px 1px rgba(60, 64, 67, 0.15);\n",
              "    fill: var(--button-hover-fill-color);\n",
              "  }\n",
              "\n",
              "  .colab-df-quickchart-complete:disabled,\n",
              "  .colab-df-quickchart-complete:disabled:hover {\n",
              "    background-color: var(--disabled-bg-color);\n",
              "    fill: var(--disabled-fill-color);\n",
              "    box-shadow: none;\n",
              "  }\n",
              "\n",
              "  .colab-df-spinner {\n",
              "    border: 2px solid var(--fill-color);\n",
              "    border-color: transparent;\n",
              "    border-bottom-color: var(--fill-color);\n",
              "    animation:\n",
              "      spin 1s steps(1) infinite;\n",
              "  }\n",
              "\n",
              "  @keyframes spin {\n",
              "    0% {\n",
              "      border-color: transparent;\n",
              "      border-bottom-color: var(--fill-color);\n",
              "      border-left-color: var(--fill-color);\n",
              "    }\n",
              "    20% {\n",
              "      border-color: transparent;\n",
              "      border-left-color: var(--fill-color);\n",
              "      border-top-color: var(--fill-color);\n",
              "    }\n",
              "    30% {\n",
              "      border-color: transparent;\n",
              "      border-left-color: var(--fill-color);\n",
              "      border-top-color: var(--fill-color);\n",
              "      border-right-color: var(--fill-color);\n",
              "    }\n",
              "    40% {\n",
              "      border-color: transparent;\n",
              "      border-right-color: var(--fill-color);\n",
              "      border-top-color: var(--fill-color);\n",
              "    }\n",
              "    60% {\n",
              "      border-color: transparent;\n",
              "      border-right-color: var(--fill-color);\n",
              "    }\n",
              "    80% {\n",
              "      border-color: transparent;\n",
              "      border-right-color: var(--fill-color);\n",
              "      border-bottom-color: var(--fill-color);\n",
              "    }\n",
              "    90% {\n",
              "      border-color: transparent;\n",
              "      border-bottom-color: var(--fill-color);\n",
              "    }\n",
              "  }\n",
              "</style>\n",
              "\n",
              "  <script>\n",
              "    async function quickchart(key) {\n",
              "      const quickchartButtonEl =\n",
              "        document.querySelector('#' + key + ' button');\n",
              "      quickchartButtonEl.disabled = true;  // To prevent multiple clicks.\n",
              "      quickchartButtonEl.classList.add('colab-df-spinner');\n",
              "      try {\n",
              "        const charts = await google.colab.kernel.invokeFunction(\n",
              "            'suggestCharts', [key], {});\n",
              "      } catch (error) {\n",
              "        console.error('Error during call to suggestCharts:', error);\n",
              "      }\n",
              "      quickchartButtonEl.classList.remove('colab-df-spinner');\n",
              "      quickchartButtonEl.classList.add('colab-df-quickchart-complete');\n",
              "    }\n",
              "    (() => {\n",
              "      let quickchartButtonEl =\n",
              "        document.querySelector('#df-b9d76598-a57a-4f82-92b9-5ced24b223c0 button');\n",
              "      quickchartButtonEl.style.display =\n",
              "        google.colab.kernel.accessAllowed ? 'block' : 'none';\n",
              "    })();\n",
              "  </script>\n",
              "</div>\n",
              "    </div>\n",
              "  </div>\n"
            ],
            "application/vnd.google.colaboratory.intrinsic+json": {
              "type": "dataframe",
              "variable_name": "all_results",
              "summary": "{\n  \"name\": \"all_results\",\n  \"rows\": 3,\n  \"fields\": [\n    {\n      \"column\": \"model\",\n      \"properties\": {\n        \"dtype\": \"string\",\n        \"num_unique_values\": 3,\n        \"samples\": [\n          \"model_1\",\n          \"model_2\",\n          \"model_3\"\n        ],\n        \"semantic_type\": \"\",\n        \"description\": \"\"\n      }\n    },\n    {\n      \"column\": \"mae\",\n      \"properties\": {\n        \"dtype\": \"float32\",\n        \"num_unique_values\": 3,\n        \"samples\": [\n          8.566764831542969,\n          45.266090393066406,\n          63.960357666015625\n        ],\n        \"semantic_type\": \"\",\n        \"description\": \"\"\n      }\n    },\n    {\n      \"column\": \"mse\",\n      \"properties\": {\n        \"dtype\": \"object\",\n        \"semantic_type\": \"\",\n        \"description\": \"\"\n      }\n    }\n  ]\n}"
            }
          },
          "metadata": {},
          "execution_count": 62
        }
      ]
    },
    {
      "source": [
        "# @title mae\n",
        "# Got Recommendation from gcollab\n",
        "\n",
        "from matplotlib import pyplot as plt\n",
        "all_results['mae'].plot(kind='hist', bins=20, title='mae')\n",
        "plt.gca().spines[['top', 'right',]].set_visible(False)"
      ],
      "cell_type": "code",
      "execution_count": 63,
      "outputs": [
        {
          "output_type": "display_data",
          "data": {
            "text/plain": [
              "<Figure size 640x480 with 1 Axes>"
            ],
            "image/png": "[encoded data removed]"
          },
          "metadata": {}
        }
      ],
      "metadata": {
        "colab": {
          "base_uri": "https://localhost:8080/",
          "height": 452
        },
        "id": "AK8lqoT2f7R1",
        "outputId": "c82d01d0-d3b3-4bf7-9192-83cf9c83f621"
      }
    },
    {
      "cell_type": "markdown",
      "source": [
        "🔑**Note :** One of our main goals should be to minimize the time between our experiments. We must try and error"
      ],
      "metadata": {
        "id": "6mam0ajKgXEC"
      }
    },
    {
      "cell_type": "markdown",
      "source": [
        "## Tracking your experiments\n",
        "\n",
        "One really good habit in ml modelling is to track the result of your experiments.\n",
        "\n",
        "Luckly, there are tools to help us!\n",
        "\n",
        "📖**Resource:** As we build more models, we will want to look into using :\n",
        "\n",
        "* TensorBoard - a component of the TensorFlow library to help track modelling experiments\n",
        "* Weights & Biases - a tool for tracking all of kinds of machine learning experiments\n",
        "\n"
      ],
      "metadata": {
        "id": "jCyUYIJrhEbi"
      }
    },
    {
      "cell_type": "markdown",
      "source": [
        "## Saving Our model\n",
        "\n",
        "Saving our model allows us to use them outside of Google collab\n",
        "\n",
        "There are two main formats we can save our model too :\n",
        "1. The SavedModel format\n",
        "2. The HDF5 format"
      ],
      "metadata": {
        "id": "DCh5Gw9x2cEL"
      }
    },
    {
      "cell_type": "code",
      "source": [
        "# Save model using the SavedModel format\n",
        "model_2.save(\"best_model_SavedModel_format\")"
      ],
      "metadata": {
        "id": "GgNAjual2aAU"
      },
      "execution_count": 64,
      "outputs": []
    },
    {
      "cell_type": "code",
      "source": [
        "# Save model using the HDF5 format\n",
        "model_2.save(\"best_model_HDF5_format\")"
      ],
      "metadata": {
        "id": "WUEQU6AH4UiF"
      },
      "execution_count": 65,
      "outputs": []
    },
    {
      "cell_type": "markdown",
      "source": [
        "## Loading in a saved model"
      ],
      "metadata": {
        "id": "JlWRZHYjreP_"
      }
    },
    {
      "cell_type": "code",
      "source": [
        "# Load in the SavedModel format\n",
        "\n",
        "loaded_SavedModel_format = tf.keras.models.load_model(\"/content/best_model_SavedModel_format\")\n",
        "loaded_SavedModel_format.summary()"
      ],
      "metadata": {
        "colab": {
          "base_uri": "https://localhost:8080/"
        },
        "id": "2ZCWOR4Wrosv",
        "outputId": "30f9eda8-d1bc-4065-e5b7-68341c4db5cf"
      },
      "execution_count": 66,
      "outputs": [
        {
          "output_type": "stream",
          "name": "stdout",
          "text": [
            "Model: \"sequential_6\"\n",
            "_________________________________________________________________\n",
            " Layer (type)                Output Shape              Param #   \n",
            "=================================================================\n",
            " input_layer (Dense)         (None, 70)                140       \n",
            "                                                                 \n",
            " Output_layer (Dense)        (None, 1)                 71        \n",
            "                                                                 \n",
            "=================================================================\n",
            "Total params: 211 (844.00 Byte)\n",
            "Trainable params: 211 (844.00 Byte)\n",
            "Non-trainable params: 0 (0.00 Byte)\n",
            "_________________________________________________________________\n"
          ]
        }
      ]
    },
    {
      "cell_type": "code",
      "source": [
        "model_2 == loaded_SavedModel_format"
      ],
      "metadata": {
        "colab": {
          "base_uri": "https://localhost:8080/"
        },
        "id": "yLoIxTUvsGxF",
        "outputId": "018975de-d3a7-4f3e-b1f6-7501f6a2a5bc"
      },
      "execution_count": 67,
      "outputs": [
        {
          "output_type": "execute_result",
          "data": {
            "text/plain": [
              "False"
            ]
          },
          "metadata": {},
          "execution_count": 67
        }
      ]
    },
    {
      "cell_type": "code",
      "source": [
        "# Compare predictions\n",
        "model_2_preds = model_2.predict(x_test)\n",
        "loaded_SavedModel_format_preds = loaded_SavedModel_format.predict(x_test)\n",
        "\n",
        "model_2_preds == loaded_SavedModel_format_preds"
      ],
      "metadata": {
        "colab": {
          "base_uri": "https://localhost:8080/"
        },
        "id": "NN4wwIe1sbEY",
        "outputId": "dbd35532-bdc8-49fe-d9bf-aa413a15d644"
      },
      "execution_count": 68,
      "outputs": [
        {
          "output_type": "stream",
          "name": "stdout",
          "text": [
            "1/1 [==============================] - 0s 44ms/step\n",
            "1/1 [==============================] - 0s 78ms/step\n"
          ]
        },
        {
          "output_type": "execute_result",
          "data": {
            "text/plain": [
              "array([[ True],\n",
              "       [ True],\n",
              "       [ True],\n",
              "       [ True],\n",
              "       [ True],\n",
              "       [ True],\n",
              "       [ True],\n",
              "       [ True],\n",
              "       [ True],\n",
              "       [ True]])"
            ]
          },
          "metadata": {},
          "execution_count": 68
        }
      ]
    },
    {
      "cell_type": "code",
      "source": [
        "mae(y_true = y_test, y_pred = model_2_preds) == mae(y_true = y_test, y_pred=loaded_SavedModel_format_preds )"
      ],
      "metadata": {
        "colab": {
          "base_uri": "https://localhost:8080/"
        },
        "id": "4vOzpgEWs4bA",
        "outputId": "2a457ef3-1061-4eb5-f343-f7e8844f4837"
      },
      "execution_count": 69,
      "outputs": [
        {
          "output_type": "execute_result",
          "data": {
            "text/plain": [
              "<tf.Tensor: shape=(), dtype=bool, numpy=True>"
            ]
          },
          "metadata": {},
          "execution_count": 69
        }
      ]
    },
    {
      "cell_type": "code",
      "source": [
        "# Load in a model using the h5 format\n",
        "loaded_h5_model = tf.keras.models.load_model(\"/content/best_model_HDF5_format\")\n",
        "loaded_h5_model.summary()"
      ],
      "metadata": {
        "colab": {
          "base_uri": "https://localhost:8080/"
        },
        "id": "HfBpvyUluB-8",
        "outputId": "dc78c22a-53c9-48a2-89e7-b11dba63932d"
      },
      "execution_count": 70,
      "outputs": [
        {
          "output_type": "stream",
          "name": "stdout",
          "text": [
            "Model: \"sequential_6\"\n",
            "_________________________________________________________________\n",
            " Layer (type)                Output Shape              Param #   \n",
            "=================================================================\n",
            " input_layer (Dense)         (None, 70)                140       \n",
            "                                                                 \n",
            " Output_layer (Dense)        (None, 1)                 71        \n",
            "                                                                 \n",
            "=================================================================\n",
            "Total params: 211 (844.00 Byte)\n",
            "Trainable params: 211 (844.00 Byte)\n",
            "Non-trainable params: 0 (0.00 Byte)\n",
            "_________________________________________________________________\n"
          ]
        }
      ]
    },
    {
      "cell_type": "code",
      "source": [
        "# Compare\n",
        "\n",
        "loaded_h5_model_preds = loaded_h5_model.predict(x_test)\n",
        "\n",
        "model_2_preds == loaded_h5_model_preds"
      ],
      "metadata": {
        "colab": {
          "base_uri": "https://localhost:8080/"
        },
        "id": "IBlZi3BwucUl",
        "outputId": "bd8a135e-e179-4ab0-aa2f-dca869f50032"
      },
      "execution_count": 71,
      "outputs": [
        {
          "output_type": "stream",
          "name": "stdout",
          "text": [
            "1/1 [==============================] - 0s 89ms/step\n"
          ]
        },
        {
          "output_type": "execute_result",
          "data": {
            "text/plain": [
              "array([[ True],\n",
              "       [ True],\n",
              "       [ True],\n",
              "       [ True],\n",
              "       [ True],\n",
              "       [ True],\n",
              "       [ True],\n",
              "       [ True],\n",
              "       [ True],\n",
              "       [ True]])"
            ]
          },
          "metadata": {},
          "execution_count": 71
        }
      ]
    },
    {
      "cell_type": "code",
      "source": [
        "mae(y_true = y_test, y_pred = model_2_preds) == mae(y_true=y_test, y_pred=loaded_h5_model_preds)"
      ],
      "metadata": {
        "colab": {
          "base_uri": "https://localhost:8080/"
        },
        "id": "915O3jbSuuKI",
        "outputId": "6f7ac944-7c22-42f9-fff1-3b3d7d51a0fb"
      },
      "execution_count": 72,
      "outputs": [
        {
          "output_type": "execute_result",
          "data": {
            "text/plain": [
              "<tf.Tensor: shape=(), dtype=bool, numpy=True>"
            ]
          },
          "metadata": {},
          "execution_count": 72
        }
      ]
    },
    {
      "cell_type": "markdown",
      "source": [
        "## Download a model (or any other file) from Google Colab\n",
        "\n",
        "If you want to download your file from Google Colab :\n",
        "1. You can go to the \"files\" tab and right click on the file youre after and click \"upload\".\n",
        "\n",
        "2. Use code\n",
        "\n",
        "3. Save it to Google Drive by connecting Google Drive and copying it there (see 2nd code cell)"
      ],
      "metadata": {
        "id": "QUSC31vrxNpn"
      }
    },
    {
      "cell_type": "code",
      "source": [
        "# Download a file from Google Colab\n",
        "\n",
        "# from google.colab import files\n",
        "# files.download(\"/content/best_model_HDF5_format\")"
      ],
      "metadata": {
        "id": "8TcUW_yr1w_p"
      },
      "execution_count": 73,
      "outputs": []
    },
    {
      "cell_type": "code",
      "source": [
        "# Save a file from Google colab to Google Drive\n",
        "# !cp /content/best_model_HDF5_format(our model path) _____(our folder file aim)"
      ],
      "metadata": {
        "id": "WSgD3o4e7f7p"
      },
      "execution_count": 74,
      "outputs": []
    },
    {
      "cell_type": "markdown",
      "source": [
        "## A Larger Example"
      ],
      "metadata": {
        "id": "CCRi9SjcjVKV"
      }
    },
    {
      "cell_type": "code",
      "source": [
        "# Import requaired libraries\n",
        "import tensorflow as tf\n",
        "import pandas as pd\n",
        "import matplotlib.pyplot as plt"
      ],
      "metadata": {
        "id": "k9TQZSDtjf7m"
      },
      "execution_count": 75,
      "outputs": []
    },
    {
      "cell_type": "code",
      "source": [
        "# Read in the insurance datatset\n",
        "\n",
        "insurance = pd.read_csv(\"https://raw.githubusercontent.com/stedy/Machine-Learning-with-R-datasets/master/insurance.csv\")"
      ],
      "metadata": {
        "id": "BuTf-1pqko1F"
      },
      "execution_count": 76,
      "outputs": []
    },
    {
      "cell_type": "code",
      "source": [
        "insurance.head(10)"
      ],
      "metadata": {
        "colab": {
          "base_uri": "https://localhost:8080/",
          "height": 363
        },
        "id": "7vygpJnClKsv",
        "outputId": "d2ab5646-b7f2-4d33-d066-1f7cc160ddf3"
      },
      "execution_count": 77,
      "outputs": [
        {
          "output_type": "execute_result",
          "data": {
            "text/plain": [
              "   age     sex     bmi  children smoker     region      charges\n",
              "0   19  female  27.900         0    yes  southwest  16884.92400\n",
              "1   18    male  33.770         1     no  southeast   1725.55230\n",
              "2   28    male  33.000         3     no  southeast   4449.46200\n",
              "3   33    male  22.705         0     no  northwest  21984.47061\n",
              "4   32    male  28.880         0     no  northwest   3866.85520\n",
              "5   31  female  25.740         0     no  southeast   3756.62160\n",
              "6   46  female  33.440         1     no  southeast   8240.58960\n",
              "7   37  female  27.740         3     no  northwest   7281.50560\n",
              "8   37    male  29.830         2     no  northeast   6406.41070\n",
              "9   60  female  25.840         0     no  northwest  28923.13692"
            ],
            "text/html": [
              "\n",
              "  <div id=\"df-0ac2fa1c-bd93-4d4c-be98-0a5220b3f9bd\" class=\"colab-df-container\">\n",
              "    <div>\n",
              "<style scoped>\n",
              "    .dataframe tbody tr th:only-of-type {\n",
              "        vertical-align: middle;\n",
              "    }\n",
              "\n",
              "    .dataframe tbody tr th {\n",
              "        vertical-align: top;\n",
              "    }\n",
              "\n",
              "    .dataframe thead th {\n",
              "        text-align: right;\n",
              "    }\n",
              "</style>\n",
              "<table border=\"1\" class=\"dataframe\">\n",
              "  <thead>\n",
              "    <tr style=\"text-align: right;\">\n",
              "      <th></th>\n",
              "      <th>age</th>\n",
              "      <th>sex</th>\n",
              "      <th>bmi</th>\n",
              "      <th>children</th>\n",
              "      <th>smoker</th>\n",
              "      <th>region</th>\n",
              "      <th>charges</th>\n",
              "    </tr>\n",
              "  </thead>\n",
              "  <tbody>\n",
              "    <tr>\n",
              "      <th>0</th>\n",
              "      <td>19</td>\n",
              "      <td>female</td>\n",
              "      <td>27.900</td>\n",
              "      <td>0</td>\n",
              "      <td>yes</td>\n",
              "      <td>southwest</td>\n",
              "      <td>16884.92400</td>\n",
              "    </tr>\n",
              "    <tr>\n",
              "      <th>1</th>\n",
              "      <td>18</td>\n",
              "      <td>male</td>\n",
              "      <td>33.770</td>\n",
              "      <td>1</td>\n",
              "      <td>no</td>\n",
              "      <td>southeast</td>\n",
              "      <td>1725.55230</td>\n",
              "    </tr>\n",
              "    <tr>\n",
              "      <th>2</th>\n",
              "      <td>28</td>\n",
              "      <td>male</td>\n",
              "      <td>33.000</td>\n",
              "      <td>3</td>\n",
              "      <td>no</td>\n",
              "      <td>southeast</td>\n",
              "      <td>4449.46200</td>\n",
              "    </tr>\n",
              "    <tr>\n",
              "      <th>3</th>\n",
              "      <td>33</td>\n",
              "      <td>male</td>\n",
              "      <td>22.705</td>\n",
              "      <td>0</td>\n",
              "      <td>no</td>\n",
              "      <td>northwest</td>\n",
              "      <td>21984.47061</td>\n",
              "    </tr>\n",
              "    <tr>\n",
              "      <th>4</th>\n",
              "      <td>32</td>\n",
              "      <td>male</td>\n",
              "      <td>28.880</td>\n",
              "      <td>0</td>\n",
              "      <td>no</td>\n",
              "      <td>northwest</td>\n",
              "      <td>3866.85520</td>\n",
              "    </tr>\n",
              "    <tr>\n",
              "      <th>5</th>\n",
              "      <td>31</td>\n",
              "      <td>female</td>\n",
              "      <td>25.740</td>\n",
              "      <td>0</td>\n",
              "      <td>no</td>\n",
              "      <td>southeast</td>\n",
              "      <td>3756.62160</td>\n",
              "    </tr>\n",
              "    <tr>\n",
              "      <th>6</th>\n",
              "      <td>46</td>\n",
              "      <td>female</td>\n",
              "      <td>33.440</td>\n",
              "      <td>1</td>\n",
              "      <td>no</td>\n",
              "      <td>southeast</td>\n",
              "      <td>8240.58960</td>\n",
              "    </tr>\n",
              "    <tr>\n",
              "      <th>7</th>\n",
              "      <td>37</td>\n",
              "      <td>female</td>\n",
              "      <td>27.740</td>\n",
              "      <td>3</td>\n",
              "      <td>no</td>\n",
              "      <td>northwest</td>\n",
              "      <td>7281.50560</td>\n",
              "    </tr>\n",
              "    <tr>\n",
              "      <th>8</th>\n",
              "      <td>37</td>\n",
              "      <td>male</td>\n",
              "      <td>29.830</td>\n",
              "      <td>2</td>\n",
              "      <td>no</td>\n",
              "      <td>northeast</td>\n",
              "      <td>6406.41070</td>\n",
              "    </tr>\n",
              "    <tr>\n",
              "      <th>9</th>\n",
              "      <td>60</td>\n",
              "      <td>female</td>\n",
              "      <td>25.840</td>\n",
              "      <td>0</td>\n",
              "      <td>no</td>\n",
              "      <td>northwest</td>\n",
              "      <td>28923.13692</td>\n",
              "    </tr>\n",
              "  </tbody>\n",
              "</table>\n",
              "</div>\n",
              "    <div class=\"colab-df-buttons\">\n",
              "\n",
              "  <div class=\"colab-df-container\">\n",
              "    <button class=\"colab-df-convert\" onclick=\"convertToInteractive('df-0ac2fa1c-bd93-4d4c-be98-0a5220b3f9bd')\"\n",
              "            title=\"Convert this dataframe to an interactive table.\"\n",
              "            style=\"display:none;\">\n",
              "\n",
              "  <svg xmlns=\"http://www.w3.org/2000/svg\" height=\"24px\" viewBox=\"0 -960 960 960\">\n",
              "    <path d=\"M120-120v-720h720v720H120Zm60-500h600v-160H180v160Zm220 220h160v-160H400v160Zm0 220h160v-160H400v160ZM180-400h160v-160H180v160Zm440 0h160v-160H620v160ZM180-180h160v-160H180v160Zm440 0h160v-160H620v160Z\"/>\n",
              "  </svg>\n",
              "    </button>\n",
              "\n",
              "  <style>\n",
              "    .colab-df-container {\n",
              "      display:flex;\n",
              "      gap: 12px;\n",
              "    }\n",
              "\n",
              "    .colab-df-convert {\n",
              "      background-color: #E8F0FE;\n",
              "      border: none;\n",
              "      border-radius: 50%;\n",
              "      cursor: pointer;\n",
              "      display: none;\n",
              "      fill: #1967D2;\n",
              "      height: 32px;\n",
              "      padding: 0 0 0 0;\n",
              "      width: 32px;\n",
              "    }\n",
              "\n",
              "    .colab-df-convert:hover {\n",
              "      background-color: #E2EBFA;\n",
              "      box-shadow: 0px 1px 2px rgba(60, 64, 67, 0.3), 0px 1px 3px 1px rgba(60, 64, 67, 0.15);\n",
              "      fill: #174EA6;\n",
              "    }\n",
              "\n",
              "    .colab-df-buttons div {\n",
              "      margin-bottom: 4px;\n",
              "    }\n",
              "\n",
              "    [theme=dark] .colab-df-convert {\n",
              "      background-color: #3B4455;\n",
              "      fill: #D2E3FC;\n",
              "    }\n",
              "\n",
              "    [theme=dark] .colab-df-convert:hover {\n",
              "      background-color: #434B5C;\n",
              "      box-shadow: 0px 1px 3px 1px rgba(0, 0, 0, 0.15);\n",
              "      filter: drop-shadow(0px 1px 2px rgba(0, 0, 0, 0.3));\n",
              "      fill: #FFFFFF;\n",
              "    }\n",
              "  </style>\n",
              "\n",
              "    <script>\n",
              "      const buttonEl =\n",
              "        document.querySelector('#df-0ac2fa1c-bd93-4d4c-be98-0a5220b3f9bd button.colab-df-convert');\n",
              "      buttonEl.style.display =\n",
              "        google.colab.kernel.accessAllowed ? 'block' : 'none';\n",
              "\n",
              "      async function convertToInteractive(key) {\n",
              "        const element = document.querySelector('#df-0ac2fa1c-bd93-4d4c-be98-0a5220b3f9bd');\n",
              "        const dataTable =\n",
              "          await google.colab.kernel.invokeFunction('convertToInteractive',\n",
              "                                                    [key], {});\n",
              "        if (!dataTable) return;\n",
              "\n",
              "        const docLinkHtml = 'Like what you see? Visit the ' +\n",
              "          '<a target=\"_blank\" href=https://colab.research.google.com/notebooks/data_table.ipynb>data table notebook</a>'\n",
              "          + ' to learn more about interactive tables.';\n",
              "        element.innerHTML = '';\n",
              "        dataTable['output_type'] = 'display_data';\n",
              "        await google.colab.output.renderOutput(dataTable, element);\n",
              "        const docLink = document.createElement('div');\n",
              "        docLink.innerHTML = docLinkHtml;\n",
              "        element.appendChild(docLink);\n",
              "      }\n",
              "    </script>\n",
              "  </div>\n",
              "\n",
              "\n",
              "<div id=\"df-02e692ea-f85c-4028-9b57-5ef21f745a13\">\n",
              "  <button class=\"colab-df-quickchart\" onclick=\"quickchart('df-02e692ea-f85c-4028-9b57-5ef21f745a13')\"\n",
              "            title=\"Suggest charts\"\n",
              "            style=\"display:none;\">\n",
              "\n",
              "<svg xmlns=\"http://www.w3.org/2000/svg\" height=\"24px\"viewBox=\"0 0 24 24\"\n",
              "     width=\"24px\">\n",
              "    <g>\n",
              "        <path d=\"M19 3H5c-1.1 0-2 .9-2 2v14c0 1.1.9 2 2 2h14c1.1 0 2-.9 2-2V5c0-1.1-.9-2-2-2zM9 17H7v-7h2v7zm4 0h-2V7h2v10zm4 0h-2v-4h2v4z\"/>\n",
              "    </g>\n",
              "</svg>\n",
              "  </button>\n",
              "\n",
              "<style>\n",
              "  .colab-df-quickchart {\n",
              "      --bg-color: #E8F0FE;\n",
              "      --fill-color: #1967D2;\n",
              "      --hover-bg-color: #E2EBFA;\n",
              "      --hover-fill-color: #174EA6;\n",
              "      --disabled-fill-color: #AAA;\n",
              "      --disabled-bg-color: #DDD;\n",
              "  }\n",
              "\n",
              "  [theme=dark] .colab-df-quickchart {\n",
              "      --bg-color: #3B4455;\n",
              "      --fill-color: #D2E3FC;\n",
              "      --hover-bg-color: #434B5C;\n",
              "      --hover-fill-color: #FFFFFF;\n",
              "      --disabled-bg-color: #3B4455;\n",
              "      --disabled-fill-color: #666;\n",
              "  }\n",
              "\n",
              "  .colab-df-quickchart {\n",
              "    background-color: var(--bg-color);\n",
              "    border: none;\n",
              "    border-radius: 50%;\n",
              "    cursor: pointer;\n",
              "    display: none;\n",
              "    fill: var(--fill-color);\n",
              "    height: 32px;\n",
              "    padding: 0;\n",
              "    width: 32px;\n",
              "  }\n",
              "\n",
              "  .colab-df-quickchart:hover {\n",
              "    background-color: var(--hover-bg-color);\n",
              "    box-shadow: 0 1px 2px rgba(60, 64, 67, 0.3), 0 1px 3px 1px rgba(60, 64, 67, 0.15);\n",
              "    fill: var(--button-hover-fill-color);\n",
              "  }\n",
              "\n",
              "  .colab-df-quickchart-complete:disabled,\n",
              "  .colab-df-quickchart-complete:disabled:hover {\n",
              "    background-color: var(--disabled-bg-color);\n",
              "    fill: var(--disabled-fill-color);\n",
              "    box-shadow: none;\n",
              "  }\n",
              "\n",
              "  .colab-df-spinner {\n",
              "    border: 2px solid var(--fill-color);\n",
              "    border-color: transparent;\n",
              "    border-bottom-color: var(--fill-color);\n",
              "    animation:\n",
              "      spin 1s steps(1) infinite;\n",
              "  }\n",
              "\n",
              "  @keyframes spin {\n",
              "    0% {\n",
              "      border-color: transparent;\n",
              "      border-bottom-color: var(--fill-color);\n",
              "      border-left-color: var(--fill-color);\n",
              "    }\n",
              "    20% {\n",
              "      border-color: transparent;\n",
              "      border-left-color: var(--fill-color);\n",
              "      border-top-color: var(--fill-color);\n",
              "    }\n",
              "    30% {\n",
              "      border-color: transparent;\n",
              "      border-left-color: var(--fill-color);\n",
              "      border-top-color: var(--fill-color);\n",
              "      border-right-color: var(--fill-color);\n",
              "    }\n",
              "    40% {\n",
              "      border-color: transparent;\n",
              "      border-right-color: var(--fill-color);\n",
              "      border-top-color: var(--fill-color);\n",
              "    }\n",
              "    60% {\n",
              "      border-color: transparent;\n",
              "      border-right-color: var(--fill-color);\n",
              "    }\n",
              "    80% {\n",
              "      border-color: transparent;\n",
              "      border-right-color: var(--fill-color);\n",
              "      border-bottom-color: var(--fill-color);\n",
              "    }\n",
              "    90% {\n",
              "      border-color: transparent;\n",
              "      border-bottom-color: var(--fill-color);\n",
              "    }\n",
              "  }\n",
              "</style>\n",
              "\n",
              "  <script>\n",
              "    async function quickchart(key) {\n",
              "      const quickchartButtonEl =\n",
              "        document.querySelector('#' + key + ' button');\n",
              "      quickchartButtonEl.disabled = true;  // To prevent multiple clicks.\n",
              "      quickchartButtonEl.classList.add('colab-df-spinner');\n",
              "      try {\n",
              "        const charts = await google.colab.kernel.invokeFunction(\n",
              "            'suggestCharts', [key], {});\n",
              "      } catch (error) {\n",
              "        console.error('Error during call to suggestCharts:', error);\n",
              "      }\n",
              "      quickchartButtonEl.classList.remove('colab-df-spinner');\n",
              "      quickchartButtonEl.classList.add('colab-df-quickchart-complete');\n",
              "    }\n",
              "    (() => {\n",
              "      let quickchartButtonEl =\n",
              "        document.querySelector('#df-02e692ea-f85c-4028-9b57-5ef21f745a13 button');\n",
              "      quickchartButtonEl.style.display =\n",
              "        google.colab.kernel.accessAllowed ? 'block' : 'none';\n",
              "    })();\n",
              "  </script>\n",
              "</div>\n",
              "    </div>\n",
              "  </div>\n"
            ],
            "application/vnd.google.colaboratory.intrinsic+json": {
              "type": "dataframe",
              "variable_name": "insurance",
              "summary": "{\n  \"name\": \"insurance\",\n  \"rows\": 1338,\n  \"fields\": [\n    {\n      \"column\": \"age\",\n      \"properties\": {\n        \"dtype\": \"number\",\n        \"std\": 14,\n        \"min\": 18,\n        \"max\": 64,\n        \"num_unique_values\": 47,\n        \"samples\": [\n          21,\n          45,\n          36\n        ],\n        \"semantic_type\": \"\",\n        \"description\": \"\"\n      }\n    },\n    {\n      \"column\": \"sex\",\n      \"properties\": {\n        \"dtype\": \"category\",\n        \"num_unique_values\": 2,\n        \"samples\": [\n          \"male\",\n          \"female\"\n        ],\n        \"semantic_type\": \"\",\n        \"description\": \"\"\n      }\n    },\n    {\n      \"column\": \"bmi\",\n      \"properties\": {\n        \"dtype\": \"number\",\n        \"std\": 6.098186911679014,\n        \"min\": 15.96,\n        \"max\": 53.13,\n        \"num_unique_values\": 548,\n        \"samples\": [\n          23.18,\n          26.885\n        ],\n        \"semantic_type\": \"\",\n        \"description\": \"\"\n      }\n    },\n    {\n      \"column\": \"children\",\n      \"properties\": {\n        \"dtype\": \"number\",\n        \"std\": 1,\n        \"min\": 0,\n        \"max\": 5,\n        \"num_unique_values\": 6,\n        \"samples\": [\n          0,\n          1\n        ],\n        \"semantic_type\": \"\",\n        \"description\": \"\"\n      }\n    },\n    {\n      \"column\": \"smoker\",\n      \"properties\": {\n        \"dtype\": \"category\",\n        \"num_unique_values\": 2,\n        \"samples\": [\n          \"no\",\n          \"yes\"\n        ],\n        \"semantic_type\": \"\",\n        \"description\": \"\"\n      }\n    },\n    {\n      \"column\": \"region\",\n      \"properties\": {\n        \"dtype\": \"category\",\n        \"num_unique_values\": 4,\n        \"samples\": [\n          \"southeast\",\n          \"northeast\"\n        ],\n        \"semantic_type\": \"\",\n        \"description\": \"\"\n      }\n    },\n    {\n      \"column\": \"charges\",\n      \"properties\": {\n        \"dtype\": \"number\",\n        \"std\": 12110.011236694001,\n        \"min\": 1121.8739,\n        \"max\": 63770.42801,\n        \"num_unique_values\": 1337,\n        \"samples\": [\n          8688.85885,\n          5708.867\n        ],\n        \"semantic_type\": \"\",\n        \"description\": \"\"\n      }\n    }\n  ]\n}"
            }
          },
          "metadata": {},
          "execution_count": 77
        }
      ]
    },
    {
      "cell_type": "code",
      "source": [
        "insurance[\"sex\"]"
      ],
      "metadata": {
        "colab": {
          "base_uri": "https://localhost:8080/"
        },
        "id": "7AGioTdJneGl",
        "outputId": "27667ffe-28e9-43a0-cf94-fe6fe2265f61"
      },
      "execution_count": 78,
      "outputs": [
        {
          "output_type": "execute_result",
          "data": {
            "text/plain": [
              "0       female\n",
              "1         male\n",
              "2         male\n",
              "3         male\n",
              "4         male\n",
              "         ...  \n",
              "1333      male\n",
              "1334    female\n",
              "1335    female\n",
              "1336    female\n",
              "1337    female\n",
              "Name: sex, Length: 1338, dtype: object"
            ]
          },
          "metadata": {},
          "execution_count": 78
        }
      ]
    },
    {
      "cell_type": "code",
      "source": [
        "insurance[\"age\"]"
      ],
      "metadata": {
        "colab": {
          "base_uri": "https://localhost:8080/"
        },
        "id": "VeNCha2CnqMZ",
        "outputId": "cbec68af-a2f7-4f4a-d14b-0b282aff9b86"
      },
      "execution_count": 79,
      "outputs": [
        {
          "output_type": "execute_result",
          "data": {
            "text/plain": [
              "0       19\n",
              "1       18\n",
              "2       28\n",
              "3       33\n",
              "4       32\n",
              "        ..\n",
              "1333    50\n",
              "1334    18\n",
              "1335    18\n",
              "1336    21\n",
              "1337    61\n",
              "Name: age, Length: 1338, dtype: int64"
            ]
          },
          "metadata": {},
          "execution_count": 79
        }
      ]
    },
    {
      "cell_type": "code",
      "source": [
        "# OneHot endcode for our non numerical type but using pandas(automaticly)\n",
        "insurance_one_hot = pd.get_dummies(insurance)\n",
        "insurance_one_hot.head()"
      ],
      "metadata": {
        "colab": {
          "base_uri": "https://localhost:8080/",
          "height": 226
        },
        "id": "bGJOoiQ6ns9m",
        "outputId": "83039059-4329-4f1b-e3f3-1aa9eee22aa3"
      },
      "execution_count": 80,
      "outputs": [
        {
          "output_type": "execute_result",
          "data": {
            "text/plain": [
              "   age     bmi  children      charges  sex_female  sex_male  smoker_no  \\\n",
              "0   19  27.900         0  16884.92400           1         0          0   \n",
              "1   18  33.770         1   1725.55230           0         1          1   \n",
              "2   28  33.000         3   4449.46200           0         1          1   \n",
              "3   33  22.705         0  21984.47061           0         1          1   \n",
              "4   32  28.880         0   3866.85520           0         1          1   \n",
              "\n",
              "   smoker_yes  region_northeast  region_northwest  region_southeast  \\\n",
              "0           1                 0                 0                 0   \n",
              "1           0                 0                 0                 1   \n",
              "2           0                 0                 0                 1   \n",
              "3           0                 0                 1                 0   \n",
              "4           0                 0                 1                 0   \n",
              "\n",
              "   region_southwest  \n",
              "0                 1  \n",
              "1                 0  \n",
              "2                 0  \n",
              "3                 0  \n",
              "4                 0  "
            ],
            "text/html": [
              "\n",
              "  <div id=\"df-3c91681f-e7e9-49cc-a94b-7a0293f32178\" class=\"colab-df-container\">\n",
              "    <div>\n",
              "<style scoped>\n",
              "    .dataframe tbody tr th:only-of-type {\n",
              "        vertical-align: middle;\n",
              "    }\n",
              "\n",
              "    .dataframe tbody tr th {\n",
              "        vertical-align: top;\n",
              "    }\n",
              "\n",
              "    .dataframe thead th {\n",
              "        text-align: right;\n",
              "    }\n",
              "</style>\n",
              "<table border=\"1\" class=\"dataframe\">\n",
              "  <thead>\n",
              "    <tr style=\"text-align: right;\">\n",
              "      <th></th>\n",
              "      <th>age</th>\n",
              "      <th>bmi</th>\n",
              "      <th>children</th>\n",
              "      <th>charges</th>\n",
              "      <th>sex_female</th>\n",
              "      <th>sex_male</th>\n",
              "      <th>smoker_no</th>\n",
              "      <th>smoker_yes</th>\n",
              "      <th>region_northeast</th>\n",
              "      <th>region_northwest</th>\n",
              "      <th>region_southeast</th>\n",
              "      <th>region_southwest</th>\n",
              "    </tr>\n",
              "  </thead>\n",
              "  <tbody>\n",
              "    <tr>\n",
              "      <th>0</th>\n",
              "      <td>19</td>\n",
              "      <td>27.900</td>\n",
              "      <td>0</td>\n",
              "      <td>16884.92400</td>\n",
              "      <td>1</td>\n",
              "      <td>0</td>\n",
              "      <td>0</td>\n",
              "      <td>1</td>\n",
              "      <td>0</td>\n",
              "      <td>0</td>\n",
              "      <td>0</td>\n",
              "      <td>1</td>\n",
              "    </tr>\n",
              "    <tr>\n",
              "      <th>1</th>\n",
              "      <td>18</td>\n",
              "      <td>33.770</td>\n",
              "      <td>1</td>\n",
              "      <td>1725.55230</td>\n",
              "      <td>0</td>\n",
              "      <td>1</td>\n",
              "      <td>1</td>\n",
              "      <td>0</td>\n",
              "      <td>0</td>\n",
              "      <td>0</td>\n",
              "      <td>1</td>\n",
              "      <td>0</td>\n",
              "    </tr>\n",
              "    <tr>\n",
              "      <th>2</th>\n",
              "      <td>28</td>\n",
              "      <td>33.000</td>\n",
              "      <td>3</td>\n",
              "      <td>4449.46200</td>\n",
              "      <td>0</td>\n",
              "      <td>1</td>\n",
              "      <td>1</td>\n",
              "      <td>0</td>\n",
              "      <td>0</td>\n",
              "      <td>0</td>\n",
              "      <td>1</td>\n",
              "      <td>0</td>\n",
              "    </tr>\n",
              "    <tr>\n",
              "      <th>3</th>\n",
              "      <td>33</td>\n",
              "      <td>22.705</td>\n",
              "      <td>0</td>\n",
              "      <td>21984.47061</td>\n",
              "      <td>0</td>\n",
              "      <td>1</td>\n",
              "      <td>1</td>\n",
              "      <td>0</td>\n",
              "      <td>0</td>\n",
              "      <td>1</td>\n",
              "      <td>0</td>\n",
              "      <td>0</td>\n",
              "    </tr>\n",
              "    <tr>\n",
              "      <th>4</th>\n",
              "      <td>32</td>\n",
              "      <td>28.880</td>\n",
              "      <td>0</td>\n",
              "      <td>3866.85520</td>\n",
              "      <td>0</td>\n",
              "      <td>1</td>\n",
              "      <td>1</td>\n",
              "      <td>0</td>\n",
              "      <td>0</td>\n",
              "      <td>1</td>\n",
              "      <td>0</td>\n",
              "      <td>0</td>\n",
              "    </tr>\n",
              "  </tbody>\n",
              "</table>\n",
              "</div>\n",
              "    <div class=\"colab-df-buttons\">\n",
              "\n",
              "  <div class=\"colab-df-container\">\n",
              "    <button class=\"colab-df-convert\" onclick=\"convertToInteractive('df-3c91681f-e7e9-49cc-a94b-7a0293f32178')\"\n",
              "            title=\"Convert this dataframe to an interactive table.\"\n",
              "            style=\"display:none;\">\n",
              "\n",
              "  <svg xmlns=\"http://www.w3.org/2000/svg\" height=\"24px\" viewBox=\"0 -960 960 960\">\n",
              "    <path d=\"M120-120v-720h720v720H120Zm60-500h600v-160H180v160Zm220 220h160v-160H400v160Zm0 220h160v-160H400v160ZM180-400h160v-160H180v160Zm440 0h160v-160H620v160ZM180-180h160v-160H180v160Zm440 0h160v-160H620v160Z\"/>\n",
              "  </svg>\n",
              "    </button>\n",
              "\n",
              "  <style>\n",
              "    .colab-df-container {\n",
              "      display:flex;\n",
              "      gap: 12px;\n",
              "    }\n",
              "\n",
              "    .colab-df-convert {\n",
              "      background-color: #E8F0FE;\n",
              "      border: none;\n",
              "      border-radius: 50%;\n",
              "      cursor: pointer;\n",
              "      display: none;\n",
              "      fill: #1967D2;\n",
              "      height: 32px;\n",
              "      padding: 0 0 0 0;\n",
              "      width: 32px;\n",
              "    }\n",
              "\n",
              "    .colab-df-convert:hover {\n",
              "      background-color: #E2EBFA;\n",
              "      box-shadow: 0px 1px 2px rgba(60, 64, 67, 0.3), 0px 1px 3px 1px rgba(60, 64, 67, 0.15);\n",
              "      fill: #174EA6;\n",
              "    }\n",
              "\n",
              "    .colab-df-buttons div {\n",
              "      margin-bottom: 4px;\n",
              "    }\n",
              "\n",
              "    [theme=dark] .colab-df-convert {\n",
              "      background-color: #3B4455;\n",
              "      fill: #D2E3FC;\n",
              "    }\n",
              "\n",
              "    [theme=dark] .colab-df-convert:hover {\n",
              "      background-color: #434B5C;\n",
              "      box-shadow: 0px 1px 3px 1px rgba(0, 0, 0, 0.15);\n",
              "      filter: drop-shadow(0px 1px 2px rgba(0, 0, 0, 0.3));\n",
              "      fill: #FFFFFF;\n",
              "    }\n",
              "  </style>\n",
              "\n",
              "    <script>\n",
              "      const buttonEl =\n",
              "        document.querySelector('#df-3c91681f-e7e9-49cc-a94b-7a0293f32178 button.colab-df-convert');\n",
              "      buttonEl.style.display =\n",
              "        google.colab.kernel.accessAllowed ? 'block' : 'none';\n",
              "\n",
              "      async function convertToInteractive(key) {\n",
              "        const element = document.querySelector('#df-3c91681f-e7e9-49cc-a94b-7a0293f32178');\n",
              "        const dataTable =\n",
              "          await google.colab.kernel.invokeFunction('convertToInteractive',\n",
              "                                                    [key], {});\n",
              "        if (!dataTable) return;\n",
              "\n",
              "        const docLinkHtml = 'Like what you see? Visit the ' +\n",
              "          '<a target=\"_blank\" href=https://colab.research.google.com/notebooks/data_table.ipynb>data table notebook</a>'\n",
              "          + ' to learn more about interactive tables.';\n",
              "        element.innerHTML = '';\n",
              "        dataTable['output_type'] = 'display_data';\n",
              "        await google.colab.output.renderOutput(dataTable, element);\n",
              "        const docLink = document.createElement('div');\n",
              "        docLink.innerHTML = docLinkHtml;\n",
              "        element.appendChild(docLink);\n",
              "      }\n",
              "    </script>\n",
              "  </div>\n",
              "\n",
              "\n",
              "<div id=\"df-7e3d010a-6561-4882-bfeb-59c1779aba45\">\n",
              "  <button class=\"colab-df-quickchart\" onclick=\"quickchart('df-7e3d010a-6561-4882-bfeb-59c1779aba45')\"\n",
              "            title=\"Suggest charts\"\n",
              "            style=\"display:none;\">\n",
              "\n",
              "<svg xmlns=\"http://www.w3.org/2000/svg\" height=\"24px\"viewBox=\"0 0 24 24\"\n",
              "     width=\"24px\">\n",
              "    <g>\n",
              "        <path d=\"M19 3H5c-1.1 0-2 .9-2 2v14c0 1.1.9 2 2 2h14c1.1 0 2-.9 2-2V5c0-1.1-.9-2-2-2zM9 17H7v-7h2v7zm4 0h-2V7h2v10zm4 0h-2v-4h2v4z\"/>\n",
              "    </g>\n",
              "</svg>\n",
              "  </button>\n",
              "\n",
              "<style>\n",
              "  .colab-df-quickchart {\n",
              "      --bg-color: #E8F0FE;\n",
              "      --fill-color: #1967D2;\n",
              "      --hover-bg-color: #E2EBFA;\n",
              "      --hover-fill-color: #174EA6;\n",
              "      --disabled-fill-color: #AAA;\n",
              "      --disabled-bg-color: #DDD;\n",
              "  }\n",
              "\n",
              "  [theme=dark] .colab-df-quickchart {\n",
              "      --bg-color: #3B4455;\n",
              "      --fill-color: #D2E3FC;\n",
              "      --hover-bg-color: #434B5C;\n",
              "      --hover-fill-color: #FFFFFF;\n",
              "      --disabled-bg-color: #3B4455;\n",
              "      --disabled-fill-color: #666;\n",
              "  }\n",
              "\n",
              "  .colab-df-quickchart {\n",
              "    background-color: var(--bg-color);\n",
              "    border: none;\n",
              "    border-radius: 50%;\n",
              "    cursor: pointer;\n",
              "    display: none;\n",
              "    fill: var(--fill-color);\n",
              "    height: 32px;\n",
              "    padding: 0;\n",
              "    width: 32px;\n",
              "  }\n",
              "\n",
              "  .colab-df-quickchart:hover {\n",
              "    background-color: var(--hover-bg-color);\n",
              "    box-shadow: 0 1px 2px rgba(60, 64, 67, 0.3), 0 1px 3px 1px rgba(60, 64, 67, 0.15);\n",
              "    fill: var(--button-hover-fill-color);\n",
              "  }\n",
              "\n",
              "  .colab-df-quickchart-complete:disabled,\n",
              "  .colab-df-quickchart-complete:disabled:hover {\n",
              "    background-color: var(--disabled-bg-color);\n",
              "    fill: var(--disabled-fill-color);\n",
              "    box-shadow: none;\n",
              "  }\n",
              "\n",
              "  .colab-df-spinner {\n",
              "    border: 2px solid var(--fill-color);\n",
              "    border-color: transparent;\n",
              "    border-bottom-color: var(--fill-color);\n",
              "    animation:\n",
              "      spin 1s steps(1) infinite;\n",
              "  }\n",
              "\n",
              "  @keyframes spin {\n",
              "    0% {\n",
              "      border-color: transparent;\n",
              "      border-bottom-color: var(--fill-color);\n",
              "      border-left-color: var(--fill-color);\n",
              "    }\n",
              "    20% {\n",
              "      border-color: transparent;\n",
              "      border-left-color: var(--fill-color);\n",
              "      border-top-color: var(--fill-color);\n",
              "    }\n",
              "    30% {\n",
              "      border-color: transparent;\n",
              "      border-left-color: var(--fill-color);\n",
              "      border-top-color: var(--fill-color);\n",
              "      border-right-color: var(--fill-color);\n",
              "    }\n",
              "    40% {\n",
              "      border-color: transparent;\n",
              "      border-right-color: var(--fill-color);\n",
              "      border-top-color: var(--fill-color);\n",
              "    }\n",
              "    60% {\n",
              "      border-color: transparent;\n",
              "      border-right-color: var(--fill-color);\n",
              "    }\n",
              "    80% {\n",
              "      border-color: transparent;\n",
              "      border-right-color: var(--fill-color);\n",
              "      border-bottom-color: var(--fill-color);\n",
              "    }\n",
              "    90% {\n",
              "      border-color: transparent;\n",
              "      border-bottom-color: var(--fill-color);\n",
              "    }\n",
              "  }\n",
              "</style>\n",
              "\n",
              "  <script>\n",
              "    async function quickchart(key) {\n",
              "      const quickchartButtonEl =\n",
              "        document.querySelector('#' + key + ' button');\n",
              "      quickchartButtonEl.disabled = true;  // To prevent multiple clicks.\n",
              "      quickchartButtonEl.classList.add('colab-df-spinner');\n",
              "      try {\n",
              "        const charts = await google.colab.kernel.invokeFunction(\n",
              "            'suggestCharts', [key], {});\n",
              "      } catch (error) {\n",
              "        console.error('Error during call to suggestCharts:', error);\n",
              "      }\n",
              "      quickchartButtonEl.classList.remove('colab-df-spinner');\n",
              "      quickchartButtonEl.classList.add('colab-df-quickchart-complete');\n",
              "    }\n",
              "    (() => {\n",
              "      let quickchartButtonEl =\n",
              "        document.querySelector('#df-7e3d010a-6561-4882-bfeb-59c1779aba45 button');\n",
              "      quickchartButtonEl.style.display =\n",
              "        google.colab.kernel.accessAllowed ? 'block' : 'none';\n",
              "    })();\n",
              "  </script>\n",
              "</div>\n",
              "    </div>\n",
              "  </div>\n"
            ],
            "application/vnd.google.colaboratory.intrinsic+json": {
              "type": "dataframe",
              "variable_name": "insurance_one_hot",
              "summary": "{\n  \"name\": \"insurance_one_hot\",\n  \"rows\": 1338,\n  \"fields\": [\n    {\n      \"column\": \"age\",\n      \"properties\": {\n        \"dtype\": \"number\",\n        \"std\": 14,\n        \"min\": 18,\n        \"max\": 64,\n        \"num_unique_values\": 47,\n        \"samples\": [\n          21,\n          45,\n          36\n        ],\n        \"semantic_type\": \"\",\n        \"description\": \"\"\n      }\n    },\n    {\n      \"column\": \"bmi\",\n      \"properties\": {\n        \"dtype\": \"number\",\n        \"std\": 6.098186911679014,\n        \"min\": 15.96,\n        \"max\": 53.13,\n        \"num_unique_values\": 548,\n        \"samples\": [\n          23.18,\n          26.885,\n          29.26\n        ],\n        \"semantic_type\": \"\",\n        \"description\": \"\"\n      }\n    },\n    {\n      \"column\": \"children\",\n      \"properties\": {\n        \"dtype\": \"number\",\n        \"std\": 1,\n        \"min\": 0,\n        \"max\": 5,\n        \"num_unique_values\": 6,\n        \"samples\": [\n          0,\n          1,\n          4\n        ],\n        \"semantic_type\": \"\",\n        \"description\": \"\"\n      }\n    },\n    {\n      \"column\": \"charges\",\n      \"properties\": {\n        \"dtype\": \"number\",\n        \"std\": 12110.011236694001,\n        \"min\": 1121.8739,\n        \"max\": 63770.42801,\n        \"num_unique_values\": 1337,\n        \"samples\": [\n          8688.85885,\n          5708.867,\n          11436.73815\n        ],\n        \"semantic_type\": \"\",\n        \"description\": \"\"\n      }\n    },\n    {\n      \"column\": \"sex_female\",\n      \"properties\": {\n        \"dtype\": \"uint8\",\n        \"num_unique_values\": 2,\n        \"samples\": [\n          0,\n          1\n        ],\n        \"semantic_type\": \"\",\n        \"description\": \"\"\n      }\n    },\n    {\n      \"column\": \"sex_male\",\n      \"properties\": {\n        \"dtype\": \"uint8\",\n        \"num_unique_values\": 2,\n        \"samples\": [\n          1,\n          0\n        ],\n        \"semantic_type\": \"\",\n        \"description\": \"\"\n      }\n    },\n    {\n      \"column\": \"smoker_no\",\n      \"properties\": {\n        \"dtype\": \"uint8\",\n        \"num_unique_values\": 2,\n        \"samples\": [\n          1,\n          0\n        ],\n        \"semantic_type\": \"\",\n        \"description\": \"\"\n      }\n    },\n    {\n      \"column\": \"smoker_yes\",\n      \"properties\": {\n        \"dtype\": \"uint8\",\n        \"num_unique_values\": 2,\n        \"samples\": [\n          0,\n          1\n        ],\n        \"semantic_type\": \"\",\n        \"description\": \"\"\n      }\n    },\n    {\n      \"column\": \"region_northeast\",\n      \"properties\": {\n        \"dtype\": \"uint8\",\n        \"num_unique_values\": 2,\n        \"samples\": [\n          1,\n          0\n        ],\n        \"semantic_type\": \"\",\n        \"description\": \"\"\n      }\n    },\n    {\n      \"column\": \"region_northwest\",\n      \"properties\": {\n        \"dtype\": \"uint8\",\n        \"num_unique_values\": 2,\n        \"samples\": [\n          1,\n          0\n        ],\n        \"semantic_type\": \"\",\n        \"description\": \"\"\n      }\n    },\n    {\n      \"column\": \"region_southeast\",\n      \"properties\": {\n        \"dtype\": \"uint8\",\n        \"num_unique_values\": 2,\n        \"samples\": [\n          1,\n          0\n        ],\n        \"semantic_type\": \"\",\n        \"description\": \"\"\n      }\n    },\n    {\n      \"column\": \"region_southwest\",\n      \"properties\": {\n        \"dtype\": \"uint8\",\n        \"num_unique_values\": 2,\n        \"samples\": [\n          0,\n          1\n        ],\n        \"semantic_type\": \"\",\n        \"description\": \"\"\n      }\n    }\n  ]\n}"
            }
          },
          "metadata": {},
          "execution_count": 80
        }
      ]
    },
    {
      "cell_type": "markdown",
      "source": [
        "### Create X & Y Values (Features and labels)"
      ],
      "metadata": {
        "id": "O2wYeWe3p51_"
      }
    },
    {
      "cell_type": "code",
      "source": [
        "# Create X and Y\n",
        "x = insurance_one_hot.drop(\"charges\", axis=1)\n",
        "y = insurance_one_hot[\"charges\"]"
      ],
      "metadata": {
        "id": "lL96lpLTpqds"
      },
      "execution_count": 81,
      "outputs": []
    },
    {
      "cell_type": "code",
      "source": [
        "# view x\n",
        "x.head()"
      ],
      "metadata": {
        "colab": {
          "base_uri": "https://localhost:8080/",
          "height": 226
        },
        "id": "kg7Hm_PdRVv-",
        "outputId": "22a2b53a-8320-469c-b51c-45eaf57abd7f"
      },
      "execution_count": 82,
      "outputs": [
        {
          "output_type": "execute_result",
          "data": {
            "text/plain": [
              "   age     bmi  children  sex_female  sex_male  smoker_no  smoker_yes  \\\n",
              "0   19  27.900         0           1         0          0           1   \n",
              "1   18  33.770         1           0         1          1           0   \n",
              "2   28  33.000         3           0         1          1           0   \n",
              "3   33  22.705         0           0         1          1           0   \n",
              "4   32  28.880         0           0         1          1           0   \n",
              "\n",
              "   region_northeast  region_northwest  region_southeast  region_southwest  \n",
              "0                 0                 0                 0                 1  \n",
              "1                 0                 0                 1                 0  \n",
              "2                 0                 0                 1                 0  \n",
              "3                 0                 1                 0                 0  \n",
              "4                 0                 1                 0                 0  "
            ],
            "text/html": [
              "\n",
              "  <div id=\"df-59bb9788-264f-4cea-b9a5-f941234fc255\" class=\"colab-df-container\">\n",
              "    <div>\n",
              "<style scoped>\n",
              "    .dataframe tbody tr th:only-of-type {\n",
              "        vertical-align: middle;\n",
              "    }\n",
              "\n",
              "    .dataframe tbody tr th {\n",
              "        vertical-align: top;\n",
              "    }\n",
              "\n",
              "    .dataframe thead th {\n",
              "        text-align: right;\n",
              "    }\n",
              "</style>\n",
              "<table border=\"1\" class=\"dataframe\">\n",
              "  <thead>\n",
              "    <tr style=\"text-align: right;\">\n",
              "      <th></th>\n",
              "      <th>age</th>\n",
              "      <th>bmi</th>\n",
              "      <th>children</th>\n",
              "      <th>sex_female</th>\n",
              "      <th>sex_male</th>\n",
              "      <th>smoker_no</th>\n",
              "      <th>smoker_yes</th>\n",
              "      <th>region_northeast</th>\n",
              "      <th>region_northwest</th>\n",
              "      <th>region_southeast</th>\n",
              "      <th>region_southwest</th>\n",
              "    </tr>\n",
              "  </thead>\n",
              "  <tbody>\n",
              "    <tr>\n",
              "      <th>0</th>\n",
              "      <td>19</td>\n",
              "      <td>27.900</td>\n",
              "      <td>0</td>\n",
              "      <td>1</td>\n",
              "      <td>0</td>\n",
              "      <td>0</td>\n",
              "      <td>1</td>\n",
              "      <td>0</td>\n",
              "      <td>0</td>\n",
              "      <td>0</td>\n",
              "      <td>1</td>\n",
              "    </tr>\n",
              "    <tr>\n",
              "      <th>1</th>\n",
              "      <td>18</td>\n",
              "      <td>33.770</td>\n",
              "      <td>1</td>\n",
              "      <td>0</td>\n",
              "      <td>1</td>\n",
              "      <td>1</td>\n",
              "      <td>0</td>\n",
              "      <td>0</td>\n",
              "      <td>0</td>\n",
              "      <td>1</td>\n",
              "      <td>0</td>\n",
              "    </tr>\n",
              "    <tr>\n",
              "      <th>2</th>\n",
              "      <td>28</td>\n",
              "      <td>33.000</td>\n",
              "      <td>3</td>\n",
              "      <td>0</td>\n",
              "      <td>1</td>\n",
              "      <td>1</td>\n",
              "      <td>0</td>\n",
              "      <td>0</td>\n",
              "      <td>0</td>\n",
              "      <td>1</td>\n",
              "      <td>0</td>\n",
              "    </tr>\n",
              "    <tr>\n",
              "      <th>3</th>\n",
              "      <td>33</td>\n",
              "      <td>22.705</td>\n",
              "      <td>0</td>\n",
              "      <td>0</td>\n",
              "      <td>1</td>\n",
              "      <td>1</td>\n",
              "      <td>0</td>\n",
              "      <td>0</td>\n",
              "      <td>1</td>\n",
              "      <td>0</td>\n",
              "      <td>0</td>\n",
              "    </tr>\n",
              "    <tr>\n",
              "      <th>4</th>\n",
              "      <td>32</td>\n",
              "      <td>28.880</td>\n",
              "      <td>0</td>\n",
              "      <td>0</td>\n",
              "      <td>1</td>\n",
              "      <td>1</td>\n",
              "      <td>0</td>\n",
              "      <td>0</td>\n",
              "      <td>1</td>\n",
              "      <td>0</td>\n",
              "      <td>0</td>\n",
              "    </tr>\n",
              "  </tbody>\n",
              "</table>\n",
              "</div>\n",
              "    <div class=\"colab-df-buttons\">\n",
              "\n",
              "  <div class=\"colab-df-container\">\n",
              "    <button class=\"colab-df-convert\" onclick=\"convertToInteractive('df-59bb9788-264f-4cea-b9a5-f941234fc255')\"\n",
              "            title=\"Convert this dataframe to an interactive table.\"\n",
              "            style=\"display:none;\">\n",
              "\n",
              "  <svg xmlns=\"http://www.w3.org/2000/svg\" height=\"24px\" viewBox=\"0 -960 960 960\">\n",
              "    <path d=\"M120-120v-720h720v720H120Zm60-500h600v-160H180v160Zm220 220h160v-160H400v160Zm0 220h160v-160H400v160ZM180-400h160v-160H180v160Zm440 0h160v-160H620v160ZM180-180h160v-160H180v160Zm440 0h160v-160H620v160Z\"/>\n",
              "  </svg>\n",
              "    </button>\n",
              "\n",
              "  <style>\n",
              "    .colab-df-container {\n",
              "      display:flex;\n",
              "      gap: 12px;\n",
              "    }\n",
              "\n",
              "    .colab-df-convert {\n",
              "      background-color: #E8F0FE;\n",
              "      border: none;\n",
              "      border-radius: 50%;\n",
              "      cursor: pointer;\n",
              "      display: none;\n",
              "      fill: #1967D2;\n",
              "      height: 32px;\n",
              "      padding: 0 0 0 0;\n",
              "      width: 32px;\n",
              "    }\n",
              "\n",
              "    .colab-df-convert:hover {\n",
              "      background-color: #E2EBFA;\n",
              "      box-shadow: 0px 1px 2px rgba(60, 64, 67, 0.3), 0px 1px 3px 1px rgba(60, 64, 67, 0.15);\n",
              "      fill: #174EA6;\n",
              "    }\n",
              "\n",
              "    .colab-df-buttons div {\n",
              "      margin-bottom: 4px;\n",
              "    }\n",
              "\n",
              "    [theme=dark] .colab-df-convert {\n",
              "      background-color: #3B4455;\n",
              "      fill: #D2E3FC;\n",
              "    }\n",
              "\n",
              "    [theme=dark] .colab-df-convert:hover {\n",
              "      background-color: #434B5C;\n",
              "      box-shadow: 0px 1px 3px 1px rgba(0, 0, 0, 0.15);\n",
              "      filter: drop-shadow(0px 1px 2px rgba(0, 0, 0, 0.3));\n",
              "      fill: #FFFFFF;\n",
              "    }\n",
              "  </style>\n",
              "\n",
              "    <script>\n",
              "      const buttonEl =\n",
              "        document.querySelector('#df-59bb9788-264f-4cea-b9a5-f941234fc255 button.colab-df-convert');\n",
              "      buttonEl.style.display =\n",
              "        google.colab.kernel.accessAllowed ? 'block' : 'none';\n",
              "\n",
              "      async function convertToInteractive(key) {\n",
              "        const element = document.querySelector('#df-59bb9788-264f-4cea-b9a5-f941234fc255');\n",
              "        const dataTable =\n",
              "          await google.colab.kernel.invokeFunction('convertToInteractive',\n",
              "                                                    [key], {});\n",
              "        if (!dataTable) return;\n",
              "\n",
              "        const docLinkHtml = 'Like what you see? Visit the ' +\n",
              "          '<a target=\"_blank\" href=https://colab.research.google.com/notebooks/data_table.ipynb>data table notebook</a>'\n",
              "          + ' to learn more about interactive tables.';\n",
              "        element.innerHTML = '';\n",
              "        dataTable['output_type'] = 'display_data';\n",
              "        await google.colab.output.renderOutput(dataTable, element);\n",
              "        const docLink = document.createElement('div');\n",
              "        docLink.innerHTML = docLinkHtml;\n",
              "        element.appendChild(docLink);\n",
              "      }\n",
              "    </script>\n",
              "  </div>\n",
              "\n",
              "\n",
              "<div id=\"df-cc3a3e57-3584-45b9-befb-fa87e6d16340\">\n",
              "  <button class=\"colab-df-quickchart\" onclick=\"quickchart('df-cc3a3e57-3584-45b9-befb-fa87e6d16340')\"\n",
              "            title=\"Suggest charts\"\n",
              "            style=\"display:none;\">\n",
              "\n",
              "<svg xmlns=\"http://www.w3.org/2000/svg\" height=\"24px\"viewBox=\"0 0 24 24\"\n",
              "     width=\"24px\">\n",
              "    <g>\n",
              "        <path d=\"M19 3H5c-1.1 0-2 .9-2 2v14c0 1.1.9 2 2 2h14c1.1 0 2-.9 2-2V5c0-1.1-.9-2-2-2zM9 17H7v-7h2v7zm4 0h-2V7h2v10zm4 0h-2v-4h2v4z\"/>\n",
              "    </g>\n",
              "</svg>\n",
              "  </button>\n",
              "\n",
              "<style>\n",
              "  .colab-df-quickchart {\n",
              "      --bg-color: #E8F0FE;\n",
              "      --fill-color: #1967D2;\n",
              "      --hover-bg-color: #E2EBFA;\n",
              "      --hover-fill-color: #174EA6;\n",
              "      --disabled-fill-color: #AAA;\n",
              "      --disabled-bg-color: #DDD;\n",
              "  }\n",
              "\n",
              "  [theme=dark] .colab-df-quickchart {\n",
              "      --bg-color: #3B4455;\n",
              "      --fill-color: #D2E3FC;\n",
              "      --hover-bg-color: #434B5C;\n",
              "      --hover-fill-color: #FFFFFF;\n",
              "      --disabled-bg-color: #3B4455;\n",
              "      --disabled-fill-color: #666;\n",
              "  }\n",
              "\n",
              "  .colab-df-quickchart {\n",
              "    background-color: var(--bg-color);\n",
              "    border: none;\n",
              "    border-radius: 50%;\n",
              "    cursor: pointer;\n",
              "    display: none;\n",
              "    fill: var(--fill-color);\n",
              "    height: 32px;\n",
              "    padding: 0;\n",
              "    width: 32px;\n",
              "  }\n",
              "\n",
              "  .colab-df-quickchart:hover {\n",
              "    background-color: var(--hover-bg-color);\n",
              "    box-shadow: 0 1px 2px rgba(60, 64, 67, 0.3), 0 1px 3px 1px rgba(60, 64, 67, 0.15);\n",
              "    fill: var(--button-hover-fill-color);\n",
              "  }\n",
              "\n",
              "  .colab-df-quickchart-complete:disabled,\n",
              "  .colab-df-quickchart-complete:disabled:hover {\n",
              "    background-color: var(--disabled-bg-color);\n",
              "    fill: var(--disabled-fill-color);\n",
              "    box-shadow: none;\n",
              "  }\n",
              "\n",
              "  .colab-df-spinner {\n",
              "    border: 2px solid var(--fill-color);\n",
              "    border-color: transparent;\n",
              "    border-bottom-color: var(--fill-color);\n",
              "    animation:\n",
              "      spin 1s steps(1) infinite;\n",
              "  }\n",
              "\n",
              "  @keyframes spin {\n",
              "    0% {\n",
              "      border-color: transparent;\n",
              "      border-bottom-color: var(--fill-color);\n",
              "      border-left-color: var(--fill-color);\n",
              "    }\n",
              "    20% {\n",
              "      border-color: transparent;\n",
              "      border-left-color: var(--fill-color);\n",
              "      border-top-color: var(--fill-color);\n",
              "    }\n",
              "    30% {\n",
              "      border-color: transparent;\n",
              "      border-left-color: var(--fill-color);\n",
              "      border-top-color: var(--fill-color);\n",
              "      border-right-color: var(--fill-color);\n",
              "    }\n",
              "    40% {\n",
              "      border-color: transparent;\n",
              "      border-right-color: var(--fill-color);\n",
              "      border-top-color: var(--fill-color);\n",
              "    }\n",
              "    60% {\n",
              "      border-color: transparent;\n",
              "      border-right-color: var(--fill-color);\n",
              "    }\n",
              "    80% {\n",
              "      border-color: transparent;\n",
              "      border-right-color: var(--fill-color);\n",
              "      border-bottom-color: var(--fill-color);\n",
              "    }\n",
              "    90% {\n",
              "      border-color: transparent;\n",
              "      border-bottom-color: var(--fill-color);\n",
              "    }\n",
              "  }\n",
              "</style>\n",
              "\n",
              "  <script>\n",
              "    async function quickchart(key) {\n",
              "      const quickchartButtonEl =\n",
              "        document.querySelector('#' + key + ' button');\n",
              "      quickchartButtonEl.disabled = true;  // To prevent multiple clicks.\n",
              "      quickchartButtonEl.classList.add('colab-df-spinner');\n",
              "      try {\n",
              "        const charts = await google.colab.kernel.invokeFunction(\n",
              "            'suggestCharts', [key], {});\n",
              "      } catch (error) {\n",
              "        console.error('Error during call to suggestCharts:', error);\n",
              "      }\n",
              "      quickchartButtonEl.classList.remove('colab-df-spinner');\n",
              "      quickchartButtonEl.classList.add('colab-df-quickchart-complete');\n",
              "    }\n",
              "    (() => {\n",
              "      let quickchartButtonEl =\n",
              "        document.querySelector('#df-cc3a3e57-3584-45b9-befb-fa87e6d16340 button');\n",
              "      quickchartButtonEl.style.display =\n",
              "        google.colab.kernel.accessAllowed ? 'block' : 'none';\n",
              "    })();\n",
              "  </script>\n",
              "</div>\n",
              "    </div>\n",
              "  </div>\n"
            ],
            "application/vnd.google.colaboratory.intrinsic+json": {
              "type": "dataframe",
              "variable_name": "x",
              "summary": "{\n  \"name\": \"x\",\n  \"rows\": 1338,\n  \"fields\": [\n    {\n      \"column\": \"age\",\n      \"properties\": {\n        \"dtype\": \"number\",\n        \"std\": 14,\n        \"min\": 18,\n        \"max\": 64,\n        \"num_unique_values\": 47,\n        \"samples\": [\n          21,\n          45,\n          36\n        ],\n        \"semantic_type\": \"\",\n        \"description\": \"\"\n      }\n    },\n    {\n      \"column\": \"bmi\",\n      \"properties\": {\n        \"dtype\": \"number\",\n        \"std\": 6.098186911679014,\n        \"min\": 15.96,\n        \"max\": 53.13,\n        \"num_unique_values\": 548,\n        \"samples\": [\n          23.18,\n          26.885,\n          29.26\n        ],\n        \"semantic_type\": \"\",\n        \"description\": \"\"\n      }\n    },\n    {\n      \"column\": \"children\",\n      \"properties\": {\n        \"dtype\": \"number\",\n        \"std\": 1,\n        \"min\": 0,\n        \"max\": 5,\n        \"num_unique_values\": 6,\n        \"samples\": [\n          0,\n          1,\n          4\n        ],\n        \"semantic_type\": \"\",\n        \"description\": \"\"\n      }\n    },\n    {\n      \"column\": \"sex_female\",\n      \"properties\": {\n        \"dtype\": \"uint8\",\n        \"num_unique_values\": 2,\n        \"samples\": [\n          0,\n          1\n        ],\n        \"semantic_type\": \"\",\n        \"description\": \"\"\n      }\n    },\n    {\n      \"column\": \"sex_male\",\n      \"properties\": {\n        \"dtype\": \"uint8\",\n        \"num_unique_values\": 2,\n        \"samples\": [\n          1,\n          0\n        ],\n        \"semantic_type\": \"\",\n        \"description\": \"\"\n      }\n    },\n    {\n      \"column\": \"smoker_no\",\n      \"properties\": {\n        \"dtype\": \"uint8\",\n        \"num_unique_values\": 2,\n        \"samples\": [\n          1,\n          0\n        ],\n        \"semantic_type\": \"\",\n        \"description\": \"\"\n      }\n    },\n    {\n      \"column\": \"smoker_yes\",\n      \"properties\": {\n        \"dtype\": \"uint8\",\n        \"num_unique_values\": 2,\n        \"samples\": [\n          0,\n          1\n        ],\n        \"semantic_type\": \"\",\n        \"description\": \"\"\n      }\n    },\n    {\n      \"column\": \"region_northeast\",\n      \"properties\": {\n        \"dtype\": \"uint8\",\n        \"num_unique_values\": 2,\n        \"samples\": [\n          1,\n          0\n        ],\n        \"semantic_type\": \"\",\n        \"description\": \"\"\n      }\n    },\n    {\n      \"column\": \"region_northwest\",\n      \"properties\": {\n        \"dtype\": \"uint8\",\n        \"num_unique_values\": 2,\n        \"samples\": [\n          1,\n          0\n        ],\n        \"semantic_type\": \"\",\n        \"description\": \"\"\n      }\n    },\n    {\n      \"column\": \"region_southeast\",\n      \"properties\": {\n        \"dtype\": \"uint8\",\n        \"num_unique_values\": 2,\n        \"samples\": [\n          1,\n          0\n        ],\n        \"semantic_type\": \"\",\n        \"description\": \"\"\n      }\n    },\n    {\n      \"column\": \"region_southwest\",\n      \"properties\": {\n        \"dtype\": \"uint8\",\n        \"num_unique_values\": 2,\n        \"samples\": [\n          0,\n          1\n        ],\n        \"semantic_type\": \"\",\n        \"description\": \"\"\n      }\n    }\n  ]\n}"
            }
          },
          "metadata": {},
          "execution_count": 82
        }
      ]
    },
    {
      "cell_type": "code",
      "source": [
        "# view y\n",
        "y.head()"
      ],
      "metadata": {
        "colab": {
          "base_uri": "https://localhost:8080/"
        },
        "id": "sU6fprWLRol2",
        "outputId": "e3751b6f-9880-4f19-e76b-2aac9ca938d5"
      },
      "execution_count": 83,
      "outputs": [
        {
          "output_type": "execute_result",
          "data": {
            "text/plain": [
              "0    16884.92400\n",
              "1     1725.55230\n",
              "2     4449.46200\n",
              "3    21984.47061\n",
              "4     3866.85520\n",
              "Name: charges, dtype: float64"
            ]
          },
          "metadata": {},
          "execution_count": 83
        }
      ]
    },
    {
      "cell_type": "code",
      "source": [
        "# Create training and test sets\n",
        "\n",
        "from sklearn.model_selection import train_test_split\n",
        "\n",
        "x_train, x_test, y_train, y_test = train_test_split(x, y,test_size=0.2, random_state=42)\n",
        "len(x), len(x_train), len(x_test)\n"
      ],
      "metadata": {
        "colab": {
          "base_uri": "https://localhost:8080/"
        },
        "id": "S1784bQaXLGY",
        "outputId": "a1ae6727-3b2b-4f3b-c3f1-a3cb81a1584c"
      },
      "execution_count": 84,
      "outputs": [
        {
          "output_type": "execute_result",
          "data": {
            "text/plain": [
              "(1338, 1070, 268)"
            ]
          },
          "metadata": {},
          "execution_count": 84
        }
      ]
    },
    {
      "cell_type": "code",
      "source": [
        "x_train"
      ],
      "metadata": {
        "colab": {
          "base_uri": "https://localhost:8080/",
          "height": 444
        },
        "id": "d5gYWBwAYb9E",
        "outputId": "463b5b4f-9dbf-4a2e-aed4-fbf5b350ebbe"
      },
      "execution_count": 85,
      "outputs": [
        {
          "output_type": "execute_result",
          "data": {
            "text/plain": [
              "      age     bmi  children  sex_female  sex_male  smoker_no  smoker_yes  \\\n",
              "560    46  19.950         2           1         0          1           0   \n",
              "1285   47  24.320         0           1         0          1           0   \n",
              "1142   52  24.860         0           1         0          1           0   \n",
              "969    39  34.320         5           1         0          1           0   \n",
              "486    54  21.470         3           1         0          1           0   \n",
              "...   ...     ...       ...         ...       ...        ...         ...   \n",
              "1095   18  31.350         4           1         0          1           0   \n",
              "1130   39  23.870         5           1         0          1           0   \n",
              "1294   58  25.175         0           0         1          1           0   \n",
              "860    37  47.600         2           1         0          0           1   \n",
              "1126   55  29.900         0           0         1          1           0   \n",
              "\n",
              "      region_northeast  region_northwest  region_southeast  region_southwest  \n",
              "560                  0                 1                 0                 0  \n",
              "1285                 1                 0                 0                 0  \n",
              "1142                 0                 0                 1                 0  \n",
              "969                  0                 0                 1                 0  \n",
              "486                  0                 1                 0                 0  \n",
              "...                ...               ...               ...               ...  \n",
              "1095                 1                 0                 0                 0  \n",
              "1130                 0                 0                 1                 0  \n",
              "1294                 1                 0                 0                 0  \n",
              "860                  0                 0                 0                 1  \n",
              "1126                 0                 0                 0                 1  \n",
              "\n",
              "[1070 rows x 11 columns]"
            ],
            "text/html": [
              "\n",
              "  <div id=\"df-c1b2a935-6e28-4f71-b2b1-112a85ace0d6\" class=\"colab-df-container\">\n",
              "    <div>\n",
              "<style scoped>\n",
              "    .dataframe tbody tr th:only-of-type {\n",
              "        vertical-align: middle;\n",
              "    }\n",
              "\n",
              "    .dataframe tbody tr th {\n",
              "        vertical-align: top;\n",
              "    }\n",
              "\n",
              "    .dataframe thead th {\n",
              "        text-align: right;\n",
              "    }\n",
              "</style>\n",
              "<table border=\"1\" class=\"dataframe\">\n",
              "  <thead>\n",
              "    <tr style=\"text-align: right;\">\n",
              "      <th></th>\n",
              "      <th>age</th>\n",
              "      <th>bmi</th>\n",
              "      <th>children</th>\n",
              "      <th>sex_female</th>\n",
              "      <th>sex_male</th>\n",
              "      <th>smoker_no</th>\n",
              "      <th>smoker_yes</th>\n",
              "      <th>region_northeast</th>\n",
              "      <th>region_northwest</th>\n",
              "      <th>region_southeast</th>\n",
              "      <th>region_southwest</th>\n",
              "    </tr>\n",
              "  </thead>\n",
              "  <tbody>\n",
              "    <tr>\n",
              "      <th>560</th>\n",
              "      <td>46</td>\n",
              "      <td>19.950</td>\n",
              "      <td>2</td>\n",
              "      <td>1</td>\n",
              "      <td>0</td>\n",
              "      <td>1</td>\n",
              "      <td>0</td>\n",
              "      <td>0</td>\n",
              "      <td>1</td>\n",
              "      <td>0</td>\n",
              "      <td>0</td>\n",
              "    </tr>\n",
              "    <tr>\n",
              "      <th>1285</th>\n",
              "      <td>47</td>\n",
              "      <td>24.320</td>\n",
              "      <td>0</td>\n",
              "      <td>1</td>\n",
              "      <td>0</td>\n",
              "      <td>1</td>\n",
              "      <td>0</td>\n",
              "      <td>1</td>\n",
              "      <td>0</td>\n",
              "      <td>0</td>\n",
              "      <td>0</td>\n",
              "    </tr>\n",
              "    <tr>\n",
              "      <th>1142</th>\n",
              "      <td>52</td>\n",
              "      <td>24.860</td>\n",
              "      <td>0</td>\n",
              "      <td>1</td>\n",
              "      <td>0</td>\n",
              "      <td>1</td>\n",
              "      <td>0</td>\n",
              "      <td>0</td>\n",
              "      <td>0</td>\n",
              "      <td>1</td>\n",
              "      <td>0</td>\n",
              "    </tr>\n",
              "    <tr>\n",
              "      <th>969</th>\n",
              "      <td>39</td>\n",
              "      <td>34.320</td>\n",
              "      <td>5</td>\n",
              "      <td>1</td>\n",
              "      <td>0</td>\n",
              "      <td>1</td>\n",
              "      <td>0</td>\n",
              "      <td>0</td>\n",
              "      <td>0</td>\n",
              "      <td>1</td>\n",
              "      <td>0</td>\n",
              "    </tr>\n",
              "    <tr>\n",
              "      <th>486</th>\n",
              "      <td>54</td>\n",
              "      <td>21.470</td>\n",
              "      <td>3</td>\n",
              "      <td>1</td>\n",
              "      <td>0</td>\n",
              "      <td>1</td>\n",
              "      <td>0</td>\n",
              "      <td>0</td>\n",
              "      <td>1</td>\n",
              "      <td>0</td>\n",
              "      <td>0</td>\n",
              "    </tr>\n",
              "    <tr>\n",
              "      <th>...</th>\n",
              "      <td>...</td>\n",
              "      <td>...</td>\n",
              "      <td>...</td>\n",
              "      <td>...</td>\n",
              "      <td>...</td>\n",
              "      <td>...</td>\n",
              "      <td>...</td>\n",
              "      <td>...</td>\n",
              "      <td>...</td>\n",
              "      <td>...</td>\n",
              "      <td>...</td>\n",
              "    </tr>\n",
              "    <tr>\n",
              "      <th>1095</th>\n",
              "      <td>18</td>\n",
              "      <td>31.350</td>\n",
              "      <td>4</td>\n",
              "      <td>1</td>\n",
              "      <td>0</td>\n",
              "      <td>1</td>\n",
              "      <td>0</td>\n",
              "      <td>1</td>\n",
              "      <td>0</td>\n",
              "      <td>0</td>\n",
              "      <td>0</td>\n",
              "    </tr>\n",
              "    <tr>\n",
              "      <th>1130</th>\n",
              "      <td>39</td>\n",
              "      <td>23.870</td>\n",
              "      <td>5</td>\n",
              "      <td>1</td>\n",
              "      <td>0</td>\n",
              "      <td>1</td>\n",
              "      <td>0</td>\n",
              "      <td>0</td>\n",
              "      <td>0</td>\n",
              "      <td>1</td>\n",
              "      <td>0</td>\n",
              "    </tr>\n",
              "    <tr>\n",
              "      <th>1294</th>\n",
              "      <td>58</td>\n",
              "      <td>25.175</td>\n",
              "      <td>0</td>\n",
              "      <td>0</td>\n",
              "      <td>1</td>\n",
              "      <td>1</td>\n",
              "      <td>0</td>\n",
              "      <td>1</td>\n",
              "      <td>0</td>\n",
              "      <td>0</td>\n",
              "      <td>0</td>\n",
              "    </tr>\n",
              "    <tr>\n",
              "      <th>860</th>\n",
              "      <td>37</td>\n",
              "      <td>47.600</td>\n",
              "      <td>2</td>\n",
              "      <td>1</td>\n",
              "      <td>0</td>\n",
              "      <td>0</td>\n",
              "      <td>1</td>\n",
              "      <td>0</td>\n",
              "      <td>0</td>\n",
              "      <td>0</td>\n",
              "      <td>1</td>\n",
              "    </tr>\n",
              "    <tr>\n",
              "      <th>1126</th>\n",
              "      <td>55</td>\n",
              "      <td>29.900</td>\n",
              "      <td>0</td>\n",
              "      <td>0</td>\n",
              "      <td>1</td>\n",
              "      <td>1</td>\n",
              "      <td>0</td>\n",
              "      <td>0</td>\n",
              "      <td>0</td>\n",
              "      <td>0</td>\n",
              "      <td>1</td>\n",
              "    </tr>\n",
              "  </tbody>\n",
              "</table>\n",
              "<p>1070 rows × 11 columns</p>\n",
              "</div>\n",
              "    <div class=\"colab-df-buttons\">\n",
              "\n",
              "  <div class=\"colab-df-container\">\n",
              "    <button class=\"colab-df-convert\" onclick=\"convertToInteractive('df-c1b2a935-6e28-4f71-b2b1-112a85ace0d6')\"\n",
              "            title=\"Convert this dataframe to an interactive table.\"\n",
              "            style=\"display:none;\">\n",
              "\n",
              "  <svg xmlns=\"http://www.w3.org/2000/svg\" height=\"24px\" viewBox=\"0 -960 960 960\">\n",
              "    <path d=\"M120-120v-720h720v720H120Zm60-500h600v-160H180v160Zm220 220h160v-160H400v160Zm0 220h160v-160H400v160ZM180-400h160v-160H180v160Zm440 0h160v-160H620v160ZM180-180h160v-160H180v160Zm440 0h160v-160H620v160Z\"/>\n",
              "  </svg>\n",
              "    </button>\n",
              "\n",
              "  <style>\n",
              "    .colab-df-container {\n",
              "      display:flex;\n",
              "      gap: 12px;\n",
              "    }\n",
              "\n",
              "    .colab-df-convert {\n",
              "      background-color: #E8F0FE;\n",
              "      border: none;\n",
              "      border-radius: 50%;\n",
              "      cursor: pointer;\n",
              "      display: none;\n",
              "      fill: #1967D2;\n",
              "      height: 32px;\n",
              "      padding: 0 0 0 0;\n",
              "      width: 32px;\n",
              "    }\n",
              "\n",
              "    .colab-df-convert:hover {\n",
              "      background-color: #E2EBFA;\n",
              "      box-shadow: 0px 1px 2px rgba(60, 64, 67, 0.3), 0px 1px 3px 1px rgba(60, 64, 67, 0.15);\n",
              "      fill: #174EA6;\n",
              "    }\n",
              "\n",
              "    .colab-df-buttons div {\n",
              "      margin-bottom: 4px;\n",
              "    }\n",
              "\n",
              "    [theme=dark] .colab-df-convert {\n",
              "      background-color: #3B4455;\n",
              "      fill: #D2E3FC;\n",
              "    }\n",
              "\n",
              "    [theme=dark] .colab-df-convert:hover {\n",
              "      background-color: #434B5C;\n",
              "      box-shadow: 0px 1px 3px 1px rgba(0, 0, 0, 0.15);\n",
              "      filter: drop-shadow(0px 1px 2px rgba(0, 0, 0, 0.3));\n",
              "      fill: #FFFFFF;\n",
              "    }\n",
              "  </style>\n",
              "\n",
              "    <script>\n",
              "      const buttonEl =\n",
              "        document.querySelector('#df-c1b2a935-6e28-4f71-b2b1-112a85ace0d6 button.colab-df-convert');\n",
              "      buttonEl.style.display =\n",
              "        google.colab.kernel.accessAllowed ? 'block' : 'none';\n",
              "\n",
              "      async function convertToInteractive(key) {\n",
              "        const element = document.querySelector('#df-c1b2a935-6e28-4f71-b2b1-112a85ace0d6');\n",
              "        const dataTable =\n",
              "          await google.colab.kernel.invokeFunction('convertToInteractive',\n",
              "                                                    [key], {});\n",
              "        if (!dataTable) return;\n",
              "\n",
              "        const docLinkHtml = 'Like what you see? Visit the ' +\n",
              "          '<a target=\"_blank\" href=https://colab.research.google.com/notebooks/data_table.ipynb>data table notebook</a>'\n",
              "          + ' to learn more about interactive tables.';\n",
              "        element.innerHTML = '';\n",
              "        dataTable['output_type'] = 'display_data';\n",
              "        await google.colab.output.renderOutput(dataTable, element);\n",
              "        const docLink = document.createElement('div');\n",
              "        docLink.innerHTML = docLinkHtml;\n",
              "        element.appendChild(docLink);\n",
              "      }\n",
              "    </script>\n",
              "  </div>\n",
              "\n",
              "\n",
              "<div id=\"df-f2d80130-5a9d-492b-a488-4e1b97d1b3e1\">\n",
              "  <button class=\"colab-df-quickchart\" onclick=\"quickchart('df-f2d80130-5a9d-492b-a488-4e1b97d1b3e1')\"\n",
              "            title=\"Suggest charts\"\n",
              "            style=\"display:none;\">\n",
              "\n",
              "<svg xmlns=\"http://www.w3.org/2000/svg\" height=\"24px\"viewBox=\"0 0 24 24\"\n",
              "     width=\"24px\">\n",
              "    <g>\n",
              "        <path d=\"M19 3H5c-1.1 0-2 .9-2 2v14c0 1.1.9 2 2 2h14c1.1 0 2-.9 2-2V5c0-1.1-.9-2-2-2zM9 17H7v-7h2v7zm4 0h-2V7h2v10zm4 0h-2v-4h2v4z\"/>\n",
              "    </g>\n",
              "</svg>\n",
              "  </button>\n",
              "\n",
              "<style>\n",
              "  .colab-df-quickchart {\n",
              "      --bg-color: #E8F0FE;\n",
              "      --fill-color: #1967D2;\n",
              "      --hover-bg-color: #E2EBFA;\n",
              "      --hover-fill-color: #174EA6;\n",
              "      --disabled-fill-color: #AAA;\n",
              "      --disabled-bg-color: #DDD;\n",
              "  }\n",
              "\n",
              "  [theme=dark] .colab-df-quickchart {\n",
              "      --bg-color: #3B4455;\n",
              "      --fill-color: #D2E3FC;\n",
              "      --hover-bg-color: #434B5C;\n",
              "      --hover-fill-color: #FFFFFF;\n",
              "      --disabled-bg-color: #3B4455;\n",
              "      --disabled-fill-color: #666;\n",
              "  }\n",
              "\n",
              "  .colab-df-quickchart {\n",
              "    background-color: var(--bg-color);\n",
              "    border: none;\n",
              "    border-radius: 50%;\n",
              "    cursor: pointer;\n",
              "    display: none;\n",
              "    fill: var(--fill-color);\n",
              "    height: 32px;\n",
              "    padding: 0;\n",
              "    width: 32px;\n",
              "  }\n",
              "\n",
              "  .colab-df-quickchart:hover {\n",
              "    background-color: var(--hover-bg-color);\n",
              "    box-shadow: 0 1px 2px rgba(60, 64, 67, 0.3), 0 1px 3px 1px rgba(60, 64, 67, 0.15);\n",
              "    fill: var(--button-hover-fill-color);\n",
              "  }\n",
              "\n",
              "  .colab-df-quickchart-complete:disabled,\n",
              "  .colab-df-quickchart-complete:disabled:hover {\n",
              "    background-color: var(--disabled-bg-color);\n",
              "    fill: var(--disabled-fill-color);\n",
              "    box-shadow: none;\n",
              "  }\n",
              "\n",
              "  .colab-df-spinner {\n",
              "    border: 2px solid var(--fill-color);\n",
              "    border-color: transparent;\n",
              "    border-bottom-color: var(--fill-color);\n",
              "    animation:\n",
              "      spin 1s steps(1) infinite;\n",
              "  }\n",
              "\n",
              "  @keyframes spin {\n",
              "    0% {\n",
              "      border-color: transparent;\n",
              "      border-bottom-color: var(--fill-color);\n",
              "      border-left-color: var(--fill-color);\n",
              "    }\n",
              "    20% {\n",
              "      border-color: transparent;\n",
              "      border-left-color: var(--fill-color);\n",
              "      border-top-color: var(--fill-color);\n",
              "    }\n",
              "    30% {\n",
              "      border-color: transparent;\n",
              "      border-left-color: var(--fill-color);\n",
              "      border-top-color: var(--fill-color);\n",
              "      border-right-color: var(--fill-color);\n",
              "    }\n",
              "    40% {\n",
              "      border-color: transparent;\n",
              "      border-right-color: var(--fill-color);\n",
              "      border-top-color: var(--fill-color);\n",
              "    }\n",
              "    60% {\n",
              "      border-color: transparent;\n",
              "      border-right-color: var(--fill-color);\n",
              "    }\n",
              "    80% {\n",
              "      border-color: transparent;\n",
              "      border-right-color: var(--fill-color);\n",
              "      border-bottom-color: var(--fill-color);\n",
              "    }\n",
              "    90% {\n",
              "      border-color: transparent;\n",
              "      border-bottom-color: var(--fill-color);\n",
              "    }\n",
              "  }\n",
              "</style>\n",
              "\n",
              "  <script>\n",
              "    async function quickchart(key) {\n",
              "      const quickchartButtonEl =\n",
              "        document.querySelector('#' + key + ' button');\n",
              "      quickchartButtonEl.disabled = true;  // To prevent multiple clicks.\n",
              "      quickchartButtonEl.classList.add('colab-df-spinner');\n",
              "      try {\n",
              "        const charts = await google.colab.kernel.invokeFunction(\n",
              "            'suggestCharts', [key], {});\n",
              "      } catch (error) {\n",
              "        console.error('Error during call to suggestCharts:', error);\n",
              "      }\n",
              "      quickchartButtonEl.classList.remove('colab-df-spinner');\n",
              "      quickchartButtonEl.classList.add('colab-df-quickchart-complete');\n",
              "    }\n",
              "    (() => {\n",
              "      let quickchartButtonEl =\n",
              "        document.querySelector('#df-f2d80130-5a9d-492b-a488-4e1b97d1b3e1 button');\n",
              "      quickchartButtonEl.style.display =\n",
              "        google.colab.kernel.accessAllowed ? 'block' : 'none';\n",
              "    })();\n",
              "  </script>\n",
              "</div>\n",
              "    </div>\n",
              "  </div>\n"
            ],
            "application/vnd.google.colaboratory.intrinsic+json": {
              "type": "dataframe",
              "variable_name": "x_train",
              "summary": "{\n  \"name\": \"x_train\",\n  \"rows\": 1070,\n  \"fields\": [\n    {\n      \"column\": \"age\",\n      \"properties\": {\n        \"dtype\": \"number\",\n        \"std\": 14,\n        \"min\": 18,\n        \"max\": 64,\n        \"num_unique_values\": 47,\n        \"samples\": [\n          35,\n          33,\n          20\n        ],\n        \"semantic_type\": \"\",\n        \"description\": \"\"\n      }\n    },\n    {\n      \"column\": \"bmi\",\n      \"properties\": {\n        \"dtype\": \"number\",\n        \"std\": 6.043385672727495,\n        \"min\": 15.96,\n        \"max\": 53.13,\n        \"num_unique_values\": 494,\n        \"samples\": [\n          27.3,\n          31.35,\n          21.66\n        ],\n        \"semantic_type\": \"\",\n        \"description\": \"\"\n      }\n    },\n    {\n      \"column\": \"children\",\n      \"properties\": {\n        \"dtype\": \"number\",\n        \"std\": 1,\n        \"min\": 0,\n        \"max\": 5,\n        \"num_unique_values\": 6,\n        \"samples\": [\n          2,\n          0,\n          4\n        ],\n        \"semantic_type\": \"\",\n        \"description\": \"\"\n      }\n    },\n    {\n      \"column\": \"sex_female\",\n      \"properties\": {\n        \"dtype\": \"uint8\",\n        \"num_unique_values\": 2,\n        \"samples\": [\n          0,\n          1\n        ],\n        \"semantic_type\": \"\",\n        \"description\": \"\"\n      }\n    },\n    {\n      \"column\": \"sex_male\",\n      \"properties\": {\n        \"dtype\": \"uint8\",\n        \"num_unique_values\": 2,\n        \"samples\": [\n          1,\n          0\n        ],\n        \"semantic_type\": \"\",\n        \"description\": \"\"\n      }\n    },\n    {\n      \"column\": \"smoker_no\",\n      \"properties\": {\n        \"dtype\": \"uint8\",\n        \"num_unique_values\": 2,\n        \"samples\": [\n          0,\n          1\n        ],\n        \"semantic_type\": \"\",\n        \"description\": \"\"\n      }\n    },\n    {\n      \"column\": \"smoker_yes\",\n      \"properties\": {\n        \"dtype\": \"uint8\",\n        \"num_unique_values\": 2,\n        \"samples\": [\n          1,\n          0\n        ],\n        \"semantic_type\": \"\",\n        \"description\": \"\"\n      }\n    },\n    {\n      \"column\": \"region_northeast\",\n      \"properties\": {\n        \"dtype\": \"uint8\",\n        \"num_unique_values\": 2,\n        \"samples\": [\n          1,\n          0\n        ],\n        \"semantic_type\": \"\",\n        \"description\": \"\"\n      }\n    },\n    {\n      \"column\": \"region_northwest\",\n      \"properties\": {\n        \"dtype\": \"uint8\",\n        \"num_unique_values\": 2,\n        \"samples\": [\n          0,\n          1\n        ],\n        \"semantic_type\": \"\",\n        \"description\": \"\"\n      }\n    },\n    {\n      \"column\": \"region_southeast\",\n      \"properties\": {\n        \"dtype\": \"uint8\",\n        \"num_unique_values\": 2,\n        \"samples\": [\n          1,\n          0\n        ],\n        \"semantic_type\": \"\",\n        \"description\": \"\"\n      }\n    },\n    {\n      \"column\": \"region_southwest\",\n      \"properties\": {\n        \"dtype\": \"uint8\",\n        \"num_unique_values\": 2,\n        \"samples\": [\n          1,\n          0\n        ],\n        \"semantic_type\": \"\",\n        \"description\": \"\"\n      }\n    }\n  ]\n}"
            }
          },
          "metadata": {},
          "execution_count": 85
        }
      ]
    },
    {
      "cell_type": "code",
      "source": [
        "# Build a neural network (sort of like model_2 above)\n",
        "tf.random.set_seed(42)\n",
        "\n",
        "# 1. Create the model\n",
        "insurance_model = tf.keras.Sequential([\n",
        "    tf.keras.layers.Dense(10),\n",
        "    tf.keras.layers.Dense(1)\n",
        "])\n",
        "\n",
        "# 2. Compile the model\n",
        "insurance_model.compile(loss=mae,\n",
        "                        optimizer = tf.keras.optimizers.SGD(),\n",
        "                        metrics=[\"mae\"])\n",
        "\n",
        "# 3. Fit the model\n",
        "insurance_model.fit(x_train, y_train, epochs=100)"
      ],
      "metadata": {
        "colab": {
          "base_uri": "https://localhost:8080/"
        },
        "id": "5XLrX5IaYl92",
        "outputId": "7ae84c1e-a50f-4fb2-d896-62ba64af510e"
      },
      "execution_count": 86,
      "outputs": [
        {
          "output_type": "stream",
          "name": "stdout",
          "text": [
            "Epoch 1/100\n",
            "34/34 [==============================] - 1s 2ms/step - loss: 9442.0449 - mae: 8660.1035\n",
            "Epoch 2/100\n",
            "34/34 [==============================] - 0s 2ms/step - loss: 8559.1143 - mae: 7777.8809\n",
            "Epoch 3/100\n",
            "34/34 [==============================] - 0s 2ms/step - loss: 8493.9453 - mae: 7896.8955\n",
            "Epoch 4/100\n",
            "34/34 [==============================] - 0s 2ms/step - loss: 8581.2402 - mae: 8073.3945\n",
            "Epoch 5/100\n",
            "34/34 [==============================] - 0s 2ms/step - loss: 8570.3750 - mae: 8070.6899\n",
            "Epoch 6/100\n",
            "34/34 [==============================] - 0s 2ms/step - loss: 8579.2100 - mae: 8108.0596\n",
            "Epoch 7/100\n",
            "34/34 [==============================] - 0s 3ms/step - loss: 8489.1162 - mae: 7960.5186\n",
            "Epoch 8/100\n",
            "34/34 [==============================] - 0s 2ms/step - loss: 8490.3916 - mae: 8039.9263\n",
            "Epoch 9/100\n",
            "34/34 [==============================] - 0s 2ms/step - loss: 8556.1504 - mae: 8100.8008\n",
            "Epoch 10/100\n",
            "34/34 [==============================] - 0s 2ms/step - loss: 8526.6377 - mae: 8095.1235\n",
            "Epoch 11/100\n",
            "34/34 [==============================] - 0s 2ms/step - loss: 8509.4707 - mae: 8088.3271\n",
            "Epoch 12/100\n",
            "34/34 [==============================] - 0s 2ms/step - loss: 8487.1289 - mae: 8052.9702\n",
            "Epoch 13/100\n",
            "34/34 [==============================] - 0s 2ms/step - loss: 8544.0371 - mae: 8063.0981\n",
            "Epoch 14/100\n",
            "34/34 [==============================] - 0s 2ms/step - loss: 8513.9932 - mae: 8049.5122\n",
            "Epoch 15/100\n",
            "34/34 [==============================] - 0s 2ms/step - loss: 8520.9873 - mae: 8059.9204\n",
            "Epoch 16/100\n",
            "34/34 [==============================] - 0s 2ms/step - loss: 8515.7852 - mae: 8047.6748\n",
            "Epoch 17/100\n",
            "34/34 [==============================] - 0s 2ms/step - loss: 8569.4023 - mae: 8118.6021\n",
            "Epoch 18/100\n",
            "34/34 [==============================] - 0s 2ms/step - loss: 8477.2715 - mae: 8024.2983\n",
            "Epoch 19/100\n",
            "34/34 [==============================] - 0s 2ms/step - loss: 8491.6768 - mae: 8025.9683\n",
            "Epoch 20/100\n",
            "34/34 [==============================] - 0s 2ms/step - loss: 8578.3398 - mae: 8141.8457\n",
            "Epoch 21/100\n",
            "34/34 [==============================] - 0s 2ms/step - loss: 8465.5811 - mae: 8017.8643\n",
            "Epoch 22/100\n",
            "34/34 [==============================] - 0s 2ms/step - loss: 8523.7959 - mae: 8093.5063\n",
            "Epoch 23/100\n",
            "34/34 [==============================] - 0s 2ms/step - loss: 8553.7246 - mae: 8128.0879\n",
            "Epoch 24/100\n",
            "34/34 [==============================] - 0s 2ms/step - loss: 8503.9404 - mae: 8027.9805\n",
            "Epoch 25/100\n",
            "34/34 [==============================] - 0s 2ms/step - loss: 8478.2822 - mae: 8027.2056\n",
            "Epoch 26/100\n",
            "34/34 [==============================] - 0s 2ms/step - loss: 8458.9961 - mae: 8019.1890\n",
            "Epoch 27/100\n",
            "34/34 [==============================] - 0s 2ms/step - loss: 8578.7783 - mae: 8102.5664\n",
            "Epoch 28/100\n",
            "34/34 [==============================] - 0s 2ms/step - loss: 8499.0215 - mae: 8033.1504\n",
            "Epoch 29/100\n",
            "34/34 [==============================] - 0s 2ms/step - loss: 8512.9111 - mae: 8074.1045\n",
            "Epoch 30/100\n",
            "34/34 [==============================] - 0s 2ms/step - loss: 8577.2119 - mae: 8137.5562\n",
            "Epoch 31/100\n",
            "34/34 [==============================] - 0s 2ms/step - loss: 8470.1387 - mae: 8001.8711\n",
            "Epoch 32/100\n",
            "34/34 [==============================] - 0s 2ms/step - loss: 8579.5400 - mae: 8176.5273\n",
            "Epoch 33/100\n",
            "34/34 [==============================] - 0s 2ms/step - loss: 8502.3857 - mae: 8044.2422\n",
            "Epoch 34/100\n",
            "34/34 [==============================] - 0s 2ms/step - loss: 8527.2402 - mae: 8109.3999\n",
            "Epoch 35/100\n",
            "34/34 [==============================] - 0s 2ms/step - loss: 8523.8613 - mae: 8114.9541\n",
            "Epoch 36/100\n",
            "34/34 [==============================] - 0s 2ms/step - loss: 8519.4336 - mae: 8079.0273\n",
            "Epoch 37/100\n",
            "34/34 [==============================] - 0s 2ms/step - loss: 8495.4521 - mae: 8047.6665\n",
            "Epoch 38/100\n",
            "34/34 [==============================] - 0s 2ms/step - loss: 8607.4072 - mae: 8154.2104\n",
            "Epoch 39/100\n",
            "34/34 [==============================] - 0s 3ms/step - loss: 8510.3447 - mae: 8078.8467\n",
            "Epoch 40/100\n",
            "34/34 [==============================] - 0s 2ms/step - loss: 8522.8066 - mae: 8071.9419\n",
            "Epoch 41/100\n",
            "34/34 [==============================] - 0s 2ms/step - loss: 8504.4082 - mae: 8035.5400\n",
            "Epoch 42/100\n",
            "34/34 [==============================] - 0s 2ms/step - loss: 8506.7158 - mae: 8061.0215\n",
            "Epoch 43/100\n",
            "34/34 [==============================] - 0s 2ms/step - loss: 8563.2402 - mae: 8180.9673\n",
            "Epoch 44/100\n",
            "34/34 [==============================] - 0s 3ms/step - loss: 8537.2500 - mae: 8107.0898\n",
            "Epoch 45/100\n",
            "34/34 [==============================] - 0s 3ms/step - loss: 8591.6289 - mae: 8180.3989\n",
            "Epoch 46/100\n",
            "34/34 [==============================] - 0s 3ms/step - loss: 8512.1152 - mae: 8082.9746\n",
            "Epoch 47/100\n",
            "34/34 [==============================] - 0s 2ms/step - loss: 8523.8154 - mae: 8086.6543\n",
            "Epoch 48/100\n",
            "34/34 [==============================] - 0s 2ms/step - loss: 8480.8584 - mae: 7981.0859\n",
            "Epoch 49/100\n",
            "34/34 [==============================] - 0s 2ms/step - loss: 8504.1416 - mae: 8050.7983\n",
            "Epoch 50/100\n",
            "34/34 [==============================] - 0s 2ms/step - loss: 8543.7549 - mae: 8097.9214\n",
            "Epoch 51/100\n",
            "34/34 [==============================] - 0s 2ms/step - loss: 8471.3486 - mae: 8097.7988\n",
            "Epoch 52/100\n",
            "34/34 [==============================] - 0s 2ms/step - loss: 8487.6758 - mae: 8034.5718\n",
            "Epoch 53/100\n",
            "34/34 [==============================] - 0s 2ms/step - loss: 8569.1270 - mae: 8115.3027\n",
            "Epoch 54/100\n",
            "34/34 [==============================] - 0s 2ms/step - loss: 8553.7148 - mae: 8104.3291\n",
            "Epoch 55/100\n",
            "34/34 [==============================] - 0s 2ms/step - loss: 8475.1631 - mae: 8035.0215\n",
            "Epoch 56/100\n",
            "34/34 [==============================] - 0s 2ms/step - loss: 8541.6328 - mae: 8097.1245\n",
            "Epoch 57/100\n",
            "34/34 [==============================] - 0s 2ms/step - loss: 8488.3809 - mae: 8040.2954\n",
            "Epoch 58/100\n",
            "34/34 [==============================] - 0s 3ms/step - loss: 8479.2441 - mae: 8038.5591\n",
            "Epoch 59/100\n",
            "34/34 [==============================] - 0s 2ms/step - loss: 8638.3525 - mae: 8225.7979\n",
            "Epoch 60/100\n",
            "34/34 [==============================] - 0s 2ms/step - loss: 8580.2393 - mae: 8165.7197\n",
            "Epoch 61/100\n",
            "34/34 [==============================] - 0s 2ms/step - loss: 8566.7305 - mae: 8137.9756\n",
            "Epoch 62/100\n",
            "34/34 [==============================] - 0s 2ms/step - loss: 8490.0430 - mae: 8035.4077\n",
            "Epoch 63/100\n",
            "34/34 [==============================] - 0s 2ms/step - loss: 8483.0557 - mae: 8062.7197\n",
            "Epoch 64/100\n",
            "34/34 [==============================] - 0s 2ms/step - loss: 8596.2119 - mae: 8168.5400\n",
            "Epoch 65/100\n",
            "34/34 [==============================] - 0s 2ms/step - loss: 8552.7217 - mae: 8087.8213\n",
            "Epoch 66/100\n",
            "34/34 [==============================] - 0s 2ms/step - loss: 8465.7324 - mae: 8006.2637\n",
            "Epoch 67/100\n",
            "34/34 [==============================] - 0s 2ms/step - loss: 8446.1689 - mae: 8002.5879\n",
            "Epoch 68/100\n",
            "34/34 [==============================] - 0s 2ms/step - loss: 8526.9424 - mae: 8065.4521\n",
            "Epoch 69/100\n",
            "34/34 [==============================] - 0s 2ms/step - loss: 8482.9014 - mae: 8064.8037\n",
            "Epoch 70/100\n",
            "34/34 [==============================] - 0s 2ms/step - loss: 8478.0986 - mae: 8090.6113\n",
            "Epoch 71/100\n",
            "34/34 [==============================] - 0s 2ms/step - loss: 8522.6035 - mae: 8067.9590\n",
            "Epoch 72/100\n",
            "34/34 [==============================] - 0s 2ms/step - loss: 8524.7607 - mae: 8143.3813\n",
            "Epoch 73/100\n",
            "34/34 [==============================] - 0s 2ms/step - loss: 8468.6494 - mae: 8052.5000\n",
            "Epoch 74/100\n",
            "34/34 [==============================] - 0s 2ms/step - loss: 8436.3154 - mae: 8034.0176\n",
            "Epoch 75/100\n",
            "34/34 [==============================] - 0s 2ms/step - loss: 8509.2373 - mae: 8070.8813\n",
            "Epoch 76/100\n",
            "34/34 [==============================] - 0s 2ms/step - loss: 8420.9609 - mae: 7991.9541\n",
            "Epoch 77/100\n",
            "34/34 [==============================] - 0s 2ms/step - loss: 8505.5967 - mae: 8088.0879\n",
            "Epoch 78/100\n",
            "34/34 [==============================] - 0s 2ms/step - loss: 8536.3076 - mae: 8076.3101\n",
            "Epoch 79/100\n",
            "34/34 [==============================] - 0s 2ms/step - loss: 8588.4492 - mae: 8165.8823\n",
            "Epoch 80/100\n",
            "34/34 [==============================] - 0s 2ms/step - loss: 8461.9375 - mae: 8007.4521\n",
            "Epoch 81/100\n",
            "34/34 [==============================] - 0s 2ms/step - loss: 8536.6533 - mae: 8105.2075\n",
            "Epoch 82/100\n",
            "34/34 [==============================] - 0s 2ms/step - loss: 8512.0732 - mae: 8130.0112\n",
            "Epoch 83/100\n",
            "34/34 [==============================] - 0s 2ms/step - loss: 8654.9756 - mae: 8229.2422\n",
            "Epoch 84/100\n",
            "34/34 [==============================] - 0s 3ms/step - loss: 8559.4453 - mae: 8072.7251\n",
            "Epoch 85/100\n",
            "34/34 [==============================] - 0s 2ms/step - loss: 8601.8398 - mae: 8156.2700\n",
            "Epoch 86/100\n",
            "34/34 [==============================] - 0s 2ms/step - loss: 8568.4053 - mae: 8088.0166\n",
            "Epoch 87/100\n",
            "34/34 [==============================] - 0s 2ms/step - loss: 8567.5684 - mae: 8183.9448\n",
            "Epoch 88/100\n",
            "34/34 [==============================] - 0s 2ms/step - loss: 8531.0928 - mae: 8081.8335\n",
            "Epoch 89/100\n",
            "34/34 [==============================] - 0s 2ms/step - loss: 8598.0361 - mae: 8190.9019\n",
            "Epoch 90/100\n",
            "34/34 [==============================] - 0s 2ms/step - loss: 8471.1338 - mae: 7994.3076\n",
            "Epoch 91/100\n",
            "34/34 [==============================] - 0s 2ms/step - loss: 8563.4404 - mae: 8152.0830\n",
            "Epoch 92/100\n",
            "34/34 [==============================] - 0s 2ms/step - loss: 8503.4561 - mae: 8089.5596\n",
            "Epoch 93/100\n",
            "34/34 [==============================] - 0s 3ms/step - loss: 8518.8438 - mae: 8110.2534\n",
            "Epoch 94/100\n",
            "34/34 [==============================] - 0s 2ms/step - loss: 8500.1406 - mae: 8082.5859\n",
            "Epoch 95/100\n",
            "34/34 [==============================] - 0s 2ms/step - loss: 8504.7598 - mae: 8089.0562\n",
            "Epoch 96/100\n",
            "34/34 [==============================] - 0s 2ms/step - loss: 8525.9346 - mae: 8117.0327\n",
            "Epoch 97/100\n",
            "34/34 [==============================] - 0s 2ms/step - loss: 8550.9639 - mae: 8095.8516\n",
            "Epoch 98/100\n",
            "34/34 [==============================] - 0s 2ms/step - loss: 8502.6758 - mae: 8095.0049\n",
            "Epoch 99/100\n",
            "34/34 [==============================] - 0s 2ms/step - loss: 8527.7490 - mae: 8031.5151\n",
            "Epoch 100/100\n",
            "34/34 [==============================] - 0s 2ms/step - loss: 8465.6094 - mae: 7988.6934\n"
          ]
        },
        {
          "output_type": "execute_result",
          "data": {
            "text/plain": [
              "<keras.src.callbacks.History at 0x7f14cc9a20b0>"
            ]
          },
          "metadata": {},
          "execution_count": 86
        }
      ]
    }
  ]
}