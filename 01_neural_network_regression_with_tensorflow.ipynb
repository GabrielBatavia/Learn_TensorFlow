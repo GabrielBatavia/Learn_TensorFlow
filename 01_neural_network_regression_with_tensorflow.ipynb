{
  "nbformat": 4,
  "nbformat_minor": 0,
  "metadata": {
    "colab": {
      "provenance": [],
      "authorship_tag": "ABX9TyMpkDkOEKdiRTbbKxoCmGz1",
      "include_colab_link": true
    },
    "kernelspec": {
      "name": "python3",
      "display_name": "Python 3"
    },
    "language_info": {
      "name": "python"
    }
  },
  "cells": [
    {
      "cell_type": "markdown",
      "metadata": {
        "id": "view-in-github",
        "colab_type": "text"
      },
      "source": [
        "<a href=\"https://colab.research.google.com/github/GabrielBatavia/Learn_TensorFlow/blob/main/01_neural_network_regression_with_tensorflow.ipynb\" target=\"_parent\"><img src=\"https://colab.research.google.com/assets/colab-badge.svg\" alt=\"Open In Colab\"/></a>"
      ]
    },
    {
      "cell_type": "markdown",
      "source": [
        "# Introduction to Regression with Neural Networks in TensorFlow\n",
        "\n",
        "There are many definition for a regression problem but in our case, we're going to simplify it : predicting a numerical variable based on some other combination of variables, even shorter...predicting a number."
      ],
      "metadata": {
        "id": "eANshE7nr2zb"
      }
    },
    {
      "cell_type": "code",
      "execution_count": 1,
      "metadata": {
        "colab": {
          "base_uri": "https://localhost:8080/"
        },
        "id": "UmVJP_eWrO59",
        "outputId": "a73ba884-aeca-42ca-cd78-0bd7037b10e4"
      },
      "outputs": [
        {
          "output_type": "stream",
          "name": "stdout",
          "text": [
            "2.15.0\n"
          ]
        }
      ],
      "source": [
        "# Import TensorFlow\n",
        "\n",
        "import tensorflow as tf\n",
        "print(tf.__version__)"
      ]
    },
    {
      "cell_type": "markdown",
      "source": [
        "## Creating data to view and fit"
      ],
      "metadata": {
        "id": "vbbwMFoqskyN"
      }
    },
    {
      "cell_type": "code",
      "source": [
        "import numpy as np\n",
        "import matplotlib.pyplot as plt"
      ],
      "metadata": {
        "id": "DXOtRA60shEW"
      },
      "execution_count": 2,
      "outputs": []
    },
    {
      "cell_type": "code",
      "source": [
        "# Creating features\n",
        "\n",
        "x = np.array([-7., -4., -1., 2., 5., 8., 11., 14.])\n",
        "\n",
        "# Create labels\n",
        "y = np.array([3., 6., 9., 12., 15., 18., 21., 24.])\n",
        "\n",
        "# Visualize it\n",
        "plt.scatter(x, y);"
      ],
      "metadata": {
        "colab": {
          "base_uri": "https://localhost:8080/",
          "height": 435
        },
        "id": "SX4eHtEts4GD",
        "outputId": "42515e83-5ef0-43e8-cfdc-dcb11b86e89a"
      },
      "execution_count": 3,
      "outputs": [
        {
          "output_type": "display_data",
          "data": {
            "text/plain": [
              "<Figure size 640x480 with 1 Axes>"
            ],
            "image/png": "[encoded data removed]"
          },
          "metadata": {}
        }
      ]
    },
    {
      "cell_type": "code",
      "source": [
        "y == x + 10"
      ],
      "metadata": {
        "id": "qaf2FE-utbQ-",
        "colab": {
          "base_uri": "https://localhost:8080/"
        },
        "outputId": "ee201c39-6ce3-4f49-f686-d23b3d7f040b"
      },
      "execution_count": 4,
      "outputs": [
        {
          "output_type": "execute_result",
          "data": {
            "text/plain": [
              "array([ True,  True,  True,  True,  True,  True,  True,  True])"
            ]
          },
          "metadata": {},
          "execution_count": 4
        }
      ]
    },
    {
      "cell_type": "markdown",
      "source": [
        "## Input and Output shapes"
      ],
      "metadata": {
        "id": "hHex_79OxmAn"
      }
    },
    {
      "cell_type": "code",
      "source": [
        "# Create a demo tensor for out housing price prediction problem\n",
        "\n",
        "house_info = tf.constant([\"bedroom\", \"bathroom\", \"garage\"])\n",
        "house_price = tf.constant([939700])\n",
        "\n",
        "house_info, house_price"
      ],
      "metadata": {
        "colab": {
          "base_uri": "https://localhost:8080/"
        },
        "id": "EKNlltO3xrVe",
        "outputId": "1158a324-204f-4f2b-ee56-3f2481737999"
      },
      "execution_count": 5,
      "outputs": [
        {
          "output_type": "execute_result",
          "data": {
            "text/plain": [
              "(<tf.Tensor: shape=(3,), dtype=string, numpy=array([b'bedroom', b'bathroom', b'garage'], dtype=object)>,\n",
              " <tf.Tensor: shape=(1,), dtype=int32, numpy=array([939700], dtype=int32)>)"
            ]
          },
          "metadata": {},
          "execution_count": 5
        }
      ]
    },
    {
      "cell_type": "code",
      "source": [
        "x[0], y[0]"
      ],
      "metadata": {
        "colab": {
          "base_uri": "https://localhost:8080/"
        },
        "id": "-tWt-gYSzm66",
        "outputId": "67617cd6-1965-43bd-db9c-09e3a940646c"
      },
      "execution_count": 6,
      "outputs": [
        {
          "output_type": "execute_result",
          "data": {
            "text/plain": [
              "(-7.0, 3.0)"
            ]
          },
          "metadata": {},
          "execution_count": 6
        }
      ]
    },
    {
      "cell_type": "code",
      "source": [
        "input_shape = x[0].shape\n",
        "output_shape = y[0].shape\n",
        "\n",
        "input_shape, output_shape"
      ],
      "metadata": {
        "colab": {
          "base_uri": "https://localhost:8080/"
        },
        "id": "sGSz7U-vzY4m",
        "outputId": "163b8c14-6953-4a9c-ee67-9c93b08bb8f5"
      },
      "execution_count": 7,
      "outputs": [
        {
          "output_type": "execute_result",
          "data": {
            "text/plain": [
              "((), ())"
            ]
          },
          "metadata": {},
          "execution_count": 7
        }
      ]
    },
    {
      "cell_type": "code",
      "source": [
        "x[0].ndim"
      ],
      "metadata": {
        "colab": {
          "base_uri": "https://localhost:8080/"
        },
        "id": "VCL4zHK5z8RR",
        "outputId": "f45d066c-df41-4090-f2e5-9853424b3edf"
      },
      "execution_count": 8,
      "outputs": [
        {
          "output_type": "execute_result",
          "data": {
            "text/plain": [
              "0"
            ]
          },
          "metadata": {},
          "execution_count": 8
        }
      ]
    },
    {
      "cell_type": "code",
      "source": [
        "# Turn our Numpy arrays into tensors with dtype 32\n",
        "\n",
        "X = tf.constant(x, dtype=tf.float32)\n",
        "Y = tf.constant(y, dtype=tf.float32)\n",
        "\n",
        "X, Y"
      ],
      "metadata": {
        "colab": {
          "base_uri": "https://localhost:8080/"
        },
        "id": "QL2Ofdwmz-sQ",
        "outputId": "cf15bc42-47e9-4fc5-b1e5-d27cd3d72104"
      },
      "execution_count": 9,
      "outputs": [
        {
          "output_type": "execute_result",
          "data": {
            "text/plain": [
              "(<tf.Tensor: shape=(8,), dtype=float32, numpy=array([-7., -4., -1.,  2.,  5.,  8., 11., 14.], dtype=float32)>,\n",
              " <tf.Tensor: shape=(8,), dtype=float32, numpy=array([ 3.,  6.,  9., 12., 15., 18., 21., 24.], dtype=float32)>)"
            ]
          },
          "metadata": {},
          "execution_count": 9
        }
      ]
    },
    {
      "cell_type": "code",
      "source": [
        "input_shape = X[0].shape\n",
        "output_shape = y[0].shape\n",
        "\n",
        "input_shape, output_shape"
      ],
      "metadata": {
        "colab": {
          "base_uri": "https://localhost:8080/"
        },
        "id": "R6m8i44s1t3S",
        "outputId": "f63bfdb4-d616-4f20-d648-3c4efa40e439"
      },
      "execution_count": 10,
      "outputs": [
        {
          "output_type": "execute_result",
          "data": {
            "text/plain": [
              "(TensorShape([]), ())"
            ]
          },
          "metadata": {},
          "execution_count": 10
        }
      ]
    },
    {
      "cell_type": "markdown",
      "source": [
        "## Steps in modelling with TensorFlow\n",
        "\n",
        "1. **Creating a model** - define the input and output layers, as well as the hidden layers of a deep learning model.\n",
        "\n",
        "2. **Compiling a model** - define the loss function (in other words, the function wich tells our model how wrong it is) and the optimizer (tells our model how to improve the patterns its learning) and evaluation metrics (what we can use to interpret the preformance of our model)\n",
        "\n",
        "3. Fitting a model - letting the model try to find patters between X & y (features and labels)"
      ],
      "metadata": {
        "id": "T9heq-y318BJ"
      }
    },
    {
      "cell_type": "code",
      "source": [
        "# Opetionally, the first layer can receive an 'input_shape' argument :\n",
        "# model = tf.keras.Sequential()\n",
        "# model.add(tf.keras.layers.Dense(8, input_shape=(16,)))\n",
        "\n",
        "# Afterwards, we do automatic shape inference :\n",
        "# model.add(tf.keras.layers.Dense(4))\n",
        "\n",
        "# model = tf.keras.Sequential()\n",
        "# model.add(tf.keras.layers.Dense(1))\n",
        "# ..."
      ],
      "metadata": {
        "id": "nEAWuhvc6w4g"
      },
      "execution_count": 11,
      "outputs": []
    },
    {
      "cell_type": "code",
      "source": [
        "# Set random seed\n",
        "\n",
        "tf.random.set_seed(42)\n",
        "\n",
        "# 1. Create a model using the Sequential API\n",
        "model = tf.keras.Sequential([\n",
        "    tf.keras.layers.Dense(1)\n",
        "])\n",
        "\n",
        "# 2. Compile the model\n",
        "model.compile(loss = tf.keras.losses.mae, # mae is short for mean absolute error\n",
        "              optimizer = tf.keras.optimizers.SGD(), # sgd is short for stochasitc gradient decent\n",
        "              metrics = [\"mae\"])\n",
        "\n",
        "# 3. Fit the model\n",
        "# model.fit(X, Y, epochs=5) # BREAK IN UPDATED TENSOR VERSION\n",
        "model.fit(tf.expand_dims(X, axis=-1), Y, epochs=5)"
      ],
      "metadata": {
        "colab": {
          "base_uri": "https://localhost:8080/"
        },
        "id": "ubX_9SYR149W",
        "outputId": "653b5ec4-a291-495d-d6fb-17b8d86c87d8"
      },
      "execution_count": 12,
      "outputs": [
        {
          "output_type": "stream",
          "name": "stdout",
          "text": [
            "Epoch 1/5\n",
            "1/1 [==============================] - 1s 635ms/step - loss: 16.7971 - mae: 16.7971\n",
            "Epoch 2/5\n",
            "1/1 [==============================] - 0s 23ms/step - loss: 16.5159 - mae: 16.5159\n",
            "Epoch 3/5\n",
            "1/1 [==============================] - 0s 30ms/step - loss: 16.2346 - mae: 16.2346\n",
            "Epoch 4/5\n",
            "1/1 [==============================] - 0s 26ms/step - loss: 15.9534 - mae: 15.9534\n",
            "Epoch 5/5\n",
            "1/1 [==============================] - 0s 18ms/step - loss: 15.6721 - mae: 15.6721\n"
          ]
        },
        {
          "output_type": "execute_result",
          "data": {
            "text/plain": [
              "<keras.src.callbacks.History at 0x7a00756f49d0>"
            ]
          },
          "metadata": {},
          "execution_count": 12
        }
      ]
    },
    {
      "cell_type": "code",
      "source": [
        "# Check our X and Y\n",
        "x, y"
      ],
      "metadata": {
        "colab": {
          "base_uri": "https://localhost:8080/"
        },
        "id": "1B1DsBlo9jYC",
        "outputId": "d15d1012-a6a1-46b9-bf14-668aa540b897"
      },
      "execution_count": 13,
      "outputs": [
        {
          "output_type": "execute_result",
          "data": {
            "text/plain": [
              "(array([-7., -4., -1.,  2.,  5.,  8., 11., 14.]),\n",
              " array([ 3.,  6.,  9., 12., 15., 18., 21., 24.]))"
            ]
          },
          "metadata": {},
          "execution_count": 13
        }
      ]
    },
    {
      "cell_type": "code",
      "source": [
        "# Try make prediction\n",
        "model.predict([17.0])"
      ],
      "metadata": {
        "colab": {
          "base_uri": "https://localhost:8080/"
        },
        "id": "L4S19GPP9pXG",
        "outputId": "ea9ba54d-462a-4eb4-8398-fd9d2b0a917d"
      },
      "execution_count": 14,
      "outputs": [
        {
          "output_type": "stream",
          "name": "stdout",
          "text": [
            "1/1 [==============================] - 0s 164ms/step\n"
          ]
        },
        {
          "output_type": "execute_result",
          "data": {
            "text/plain": [
              "array([[-8.605025]], dtype=float32)"
            ]
          },
          "metadata": {},
          "execution_count": 14
        }
      ]
    },
    {
      "cell_type": "markdown",
      "source": [
        "## Improving our model\n",
        "\n",
        "We can improve our model, by altering the steps we took to create a model.\n",
        "\n",
        "1. **Creating a model** - ere we might add more layers, increse the number of hidden units (all called neurons) within each of the hidden layers, change the activation function of each layer.\n",
        "\n",
        "2. **Compiling a model** - here we might chang ethe optimization function or perhaps the **learning rate** of the optimization function.\n",
        "\n",
        "3. **Fitting a model** - here we might fit a model for more **epochs** (leave it training for longer) or on more data (give the model more examples to learn form)"
      ],
      "metadata": {
        "id": "Nq6KqLEo-HP4"
      }
    },
    {
      "cell_type": "code",
      "source": [
        "# Let's rebuild our model\n",
        "\n",
        "# 1. Create the model\n",
        "model1 = tf.keras.Sequential([\n",
        "    tf.keras.layers.Dense(1)\n",
        "])\n",
        "\n",
        "# 2. Compile the model\n",
        "model1.compile(loss = tf.keras.losses.mae,\n",
        "              optimizer = tf.keras.optimizers.SGD(),\n",
        "              metrics = [\"mae\"])\n",
        "\n",
        "# 3. Fit the model\n",
        "# model.fit(X, Y, epochs=5) # BREAK IN UPDATED TENSOR VERSION\n",
        "model1.fit(tf.expand_dims(X, axis=-1), Y, epochs=100)"
      ],
      "metadata": {
        "colab": {
          "base_uri": "https://localhost:8080/"
        },
        "id": "GPGzIvb2DLc2",
        "outputId": "e2f43758-4598-4016-955b-9fa2f3c6c128"
      },
      "execution_count": 15,
      "outputs": [
        {
          "output_type": "stream",
          "name": "stdout",
          "text": [
            "Epoch 1/100\n",
            "1/1 [==============================] - 1s 535ms/step - loss: 14.9890 - mae: 14.9890\n",
            "Epoch 2/100\n",
            "1/1 [==============================] - 0s 12ms/step - loss: 14.8565 - mae: 14.8565\n",
            "Epoch 3/100\n",
            "1/1 [==============================] - 0s 11ms/step - loss: 14.7240 - mae: 14.7240\n",
            "Epoch 4/100\n",
            "1/1 [==============================] - 0s 10ms/step - loss: 14.5915 - mae: 14.5915\n",
            "Epoch 5/100\n",
            "1/1 [==============================] - 0s 10ms/step - loss: 14.4590 - mae: 14.4590\n",
            "Epoch 6/100\n",
            "1/1 [==============================] - 0s 10ms/step - loss: 14.3265 - mae: 14.3265\n",
            "Epoch 7/100\n",
            "1/1 [==============================] - 0s 11ms/step - loss: 14.1940 - mae: 14.1940\n",
            "Epoch 8/100\n",
            "1/1 [==============================] - 0s 10ms/step - loss: 14.0615 - mae: 14.0615\n",
            "Epoch 9/100\n",
            "1/1 [==============================] - 0s 10ms/step - loss: 13.9290 - mae: 13.9290\n",
            "Epoch 10/100\n",
            "1/1 [==============================] - 0s 11ms/step - loss: 13.7965 - mae: 13.7965\n",
            "Epoch 11/100\n",
            "1/1 [==============================] - 0s 10ms/step - loss: 13.6640 - mae: 13.6640\n",
            "Epoch 12/100\n",
            "1/1 [==============================] - 0s 11ms/step - loss: 13.5315 - mae: 13.5315\n",
            "Epoch 13/100\n",
            "1/1 [==============================] - 0s 11ms/step - loss: 13.3990 - mae: 13.3990\n",
            "Epoch 14/100\n",
            "1/1 [==============================] - 0s 13ms/step - loss: 13.2665 - mae: 13.2665\n",
            "Epoch 15/100\n",
            "1/1 [==============================] - 0s 11ms/step - loss: 13.1340 - mae: 13.1340\n",
            "Epoch 16/100\n",
            "1/1 [==============================] - 0s 10ms/step - loss: 13.0015 - mae: 13.0015\n",
            "Epoch 17/100\n",
            "1/1 [==============================] - 0s 10ms/step - loss: 12.8690 - mae: 12.8690\n",
            "Epoch 18/100\n",
            "1/1 [==============================] - 0s 10ms/step - loss: 12.7365 - mae: 12.7365\n",
            "Epoch 19/100\n",
            "1/1 [==============================] - 0s 8ms/step - loss: 12.6040 - mae: 12.6040\n",
            "Epoch 20/100\n",
            "1/1 [==============================] - 0s 10ms/step - loss: 12.4715 - mae: 12.4715\n",
            "Epoch 21/100\n",
            "1/1 [==============================] - 0s 14ms/step - loss: 12.3390 - mae: 12.3390\n",
            "Epoch 22/100\n",
            "1/1 [==============================] - 0s 13ms/step - loss: 12.2065 - mae: 12.2065\n",
            "Epoch 23/100\n",
            "1/1 [==============================] - 0s 13ms/step - loss: 12.0740 - mae: 12.0740\n",
            "Epoch 24/100\n",
            "1/1 [==============================] - 0s 14ms/step - loss: 11.9415 - mae: 11.9415\n",
            "Epoch 25/100\n",
            "1/1 [==============================] - 0s 13ms/step - loss: 11.8090 - mae: 11.8090\n",
            "Epoch 26/100\n",
            "1/1 [==============================] - 0s 13ms/step - loss: 11.6765 - mae: 11.6765\n",
            "Epoch 27/100\n",
            "1/1 [==============================] - 0s 10ms/step - loss: 11.5440 - mae: 11.5440\n",
            "Epoch 28/100\n",
            "1/1 [==============================] - 0s 10ms/step - loss: 11.4115 - mae: 11.4115\n",
            "Epoch 29/100\n",
            "1/1 [==============================] - 0s 13ms/step - loss: 11.2790 - mae: 11.2790\n",
            "Epoch 30/100\n",
            "1/1 [==============================] - 0s 13ms/step - loss: 11.1465 - mae: 11.1465\n",
            "Epoch 31/100\n",
            "1/1 [==============================] - 0s 16ms/step - loss: 11.0140 - mae: 11.0140\n",
            "Epoch 32/100\n",
            "1/1 [==============================] - 0s 19ms/step - loss: 10.8815 - mae: 10.8815\n",
            "Epoch 33/100\n",
            "1/1 [==============================] - 0s 12ms/step - loss: 10.7490 - mae: 10.7490\n",
            "Epoch 34/100\n",
            "1/1 [==============================] - 0s 11ms/step - loss: 10.6165 - mae: 10.6165\n",
            "Epoch 35/100\n",
            "1/1 [==============================] - 0s 12ms/step - loss: 10.4840 - mae: 10.4840\n",
            "Epoch 36/100\n",
            "1/1 [==============================] - 0s 10ms/step - loss: 10.3515 - mae: 10.3515\n",
            "Epoch 37/100\n",
            "1/1 [==============================] - 0s 10ms/step - loss: 10.2190 - mae: 10.2190\n",
            "Epoch 38/100\n",
            "1/1 [==============================] - 0s 12ms/step - loss: 10.0865 - mae: 10.0865\n",
            "Epoch 39/100\n",
            "1/1 [==============================] - 0s 11ms/step - loss: 9.9540 - mae: 9.9540\n",
            "Epoch 40/100\n",
            "1/1 [==============================] - 0s 10ms/step - loss: 9.8215 - mae: 9.8215\n",
            "Epoch 41/100\n",
            "1/1 [==============================] - 0s 10ms/step - loss: 9.6890 - mae: 9.6890\n",
            "Epoch 42/100\n",
            "1/1 [==============================] - 0s 10ms/step - loss: 9.5565 - mae: 9.5565\n",
            "Epoch 43/100\n",
            "1/1 [==============================] - 0s 10ms/step - loss: 9.4240 - mae: 9.4240\n",
            "Epoch 44/100\n",
            "1/1 [==============================] - 0s 12ms/step - loss: 9.2915 - mae: 9.2915\n",
            "Epoch 45/100\n",
            "1/1 [==============================] - 0s 12ms/step - loss: 9.1590 - mae: 9.1590\n",
            "Epoch 46/100\n",
            "1/1 [==============================] - 0s 10ms/step - loss: 9.0265 - mae: 9.0265\n",
            "Epoch 47/100\n",
            "1/1 [==============================] - 0s 9ms/step - loss: 8.8940 - mae: 8.8940\n",
            "Epoch 48/100\n",
            "1/1 [==============================] - 0s 10ms/step - loss: 8.7615 - mae: 8.7615\n",
            "Epoch 49/100\n",
            "1/1 [==============================] - 0s 17ms/step - loss: 8.6290 - mae: 8.6290\n",
            "Epoch 50/100\n",
            "1/1 [==============================] - 0s 18ms/step - loss: 8.4965 - mae: 8.4965\n",
            "Epoch 51/100\n",
            "1/1 [==============================] - 0s 16ms/step - loss: 8.3640 - mae: 8.3640\n",
            "Epoch 52/100\n",
            "1/1 [==============================] - 0s 14ms/step - loss: 8.2315 - mae: 8.2315\n",
            "Epoch 53/100\n",
            "1/1 [==============================] - 0s 21ms/step - loss: 8.0990 - mae: 8.0990\n",
            "Epoch 54/100\n",
            "1/1 [==============================] - 0s 17ms/step - loss: 7.9665 - mae: 7.9665\n",
            "Epoch 55/100\n",
            "1/1 [==============================] - 0s 11ms/step - loss: 7.8340 - mae: 7.8340\n",
            "Epoch 56/100\n",
            "1/1 [==============================] - 0s 14ms/step - loss: 7.7015 - mae: 7.7015\n",
            "Epoch 57/100\n",
            "1/1 [==============================] - 0s 11ms/step - loss: 7.5690 - mae: 7.5690\n",
            "Epoch 58/100\n",
            "1/1 [==============================] - 0s 12ms/step - loss: 7.4365 - mae: 7.4365\n",
            "Epoch 59/100\n",
            "1/1 [==============================] - 0s 11ms/step - loss: 7.3040 - mae: 7.3040\n",
            "Epoch 60/100\n",
            "1/1 [==============================] - 0s 14ms/step - loss: 7.1715 - mae: 7.1715\n",
            "Epoch 61/100\n",
            "1/1 [==============================] - 0s 17ms/step - loss: 7.0500 - mae: 7.0500\n",
            "Epoch 62/100\n",
            "1/1 [==============================] - 0s 12ms/step - loss: 7.0444 - mae: 7.0444\n",
            "Epoch 63/100\n",
            "1/1 [==============================] - 0s 12ms/step - loss: 7.0387 - mae: 7.0387\n",
            "Epoch 64/100\n",
            "1/1 [==============================] - 0s 11ms/step - loss: 7.0331 - mae: 7.0331\n",
            "Epoch 65/100\n",
            "1/1 [==============================] - 0s 11ms/step - loss: 7.0275 - mae: 7.0275\n",
            "Epoch 66/100\n",
            "1/1 [==============================] - 0s 12ms/step - loss: 7.0219 - mae: 7.0219\n",
            "Epoch 67/100\n",
            "1/1 [==============================] - 0s 10ms/step - loss: 7.0163 - mae: 7.0163\n",
            "Epoch 68/100\n",
            "1/1 [==============================] - 0s 12ms/step - loss: 7.0106 - mae: 7.0106\n",
            "Epoch 69/100\n",
            "1/1 [==============================] - 0s 12ms/step - loss: 7.0050 - mae: 7.0050\n",
            "Epoch 70/100\n",
            "1/1 [==============================] - 0s 12ms/step - loss: 6.9994 - mae: 6.9994\n",
            "Epoch 71/100\n",
            "1/1 [==============================] - 0s 12ms/step - loss: 6.9938 - mae: 6.9938\n",
            "Epoch 72/100\n",
            "1/1 [==============================] - 0s 12ms/step - loss: 6.9881 - mae: 6.9881\n",
            "Epoch 73/100\n",
            "1/1 [==============================] - 0s 12ms/step - loss: 6.9825 - mae: 6.9825\n",
            "Epoch 74/100\n",
            "1/1 [==============================] - 0s 12ms/step - loss: 6.9769 - mae: 6.9769\n",
            "Epoch 75/100\n",
            "1/1 [==============================] - 0s 10ms/step - loss: 6.9713 - mae: 6.9713\n",
            "Epoch 76/100\n",
            "1/1 [==============================] - 0s 10ms/step - loss: 6.9656 - mae: 6.9656\n",
            "Epoch 77/100\n",
            "1/1 [==============================] - 0s 11ms/step - loss: 6.9600 - mae: 6.9600\n",
            "Epoch 78/100\n",
            "1/1 [==============================] - 0s 10ms/step - loss: 6.9544 - mae: 6.9544\n",
            "Epoch 79/100\n",
            "1/1 [==============================] - 0s 11ms/step - loss: 6.9488 - mae: 6.9488\n",
            "Epoch 80/100\n",
            "1/1 [==============================] - 0s 14ms/step - loss: 6.9431 - mae: 6.9431\n",
            "Epoch 81/100\n",
            "1/1 [==============================] - 0s 15ms/step - loss: 6.9375 - mae: 6.9375\n",
            "Epoch 82/100\n",
            "1/1 [==============================] - 0s 13ms/step - loss: 6.9319 - mae: 6.9319\n",
            "Epoch 83/100\n",
            "1/1 [==============================] - 0s 11ms/step - loss: 6.9263 - mae: 6.9263\n",
            "Epoch 84/100\n",
            "1/1 [==============================] - 0s 14ms/step - loss: 6.9206 - mae: 6.9206\n",
            "Epoch 85/100\n",
            "1/1 [==============================] - 0s 15ms/step - loss: 6.9150 - mae: 6.9150\n",
            "Epoch 86/100\n",
            "1/1 [==============================] - 0s 11ms/step - loss: 6.9094 - mae: 6.9094\n",
            "Epoch 87/100\n",
            "1/1 [==============================] - 0s 11ms/step - loss: 6.9038 - mae: 6.9038\n",
            "Epoch 88/100\n",
            "1/1 [==============================] - 0s 13ms/step - loss: 6.8981 - mae: 6.8981\n",
            "Epoch 89/100\n",
            "1/1 [==============================] - 0s 11ms/step - loss: 6.8925 - mae: 6.8925\n",
            "Epoch 90/100\n",
            "1/1 [==============================] - 0s 13ms/step - loss: 6.8869 - mae: 6.8869\n",
            "Epoch 91/100\n",
            "1/1 [==============================] - 0s 11ms/step - loss: 6.8813 - mae: 6.8813\n",
            "Epoch 92/100\n",
            "1/1 [==============================] - 0s 11ms/step - loss: 6.8756 - mae: 6.8756\n",
            "Epoch 93/100\n",
            "1/1 [==============================] - 0s 11ms/step - loss: 6.8700 - mae: 6.8700\n",
            "Epoch 94/100\n",
            "1/1 [==============================] - 0s 11ms/step - loss: 6.8644 - mae: 6.8644\n",
            "Epoch 95/100\n",
            "1/1 [==============================] - 0s 12ms/step - loss: 6.8588 - mae: 6.8588\n",
            "Epoch 96/100\n",
            "1/1 [==============================] - 0s 11ms/step - loss: 6.8531 - mae: 6.8531\n",
            "Epoch 97/100\n",
            "1/1 [==============================] - 0s 10ms/step - loss: 6.8475 - mae: 6.8475\n",
            "Epoch 98/100\n",
            "1/1 [==============================] - 0s 16ms/step - loss: 6.8419 - mae: 6.8419\n",
            "Epoch 99/100\n",
            "1/1 [==============================] - 0s 9ms/step - loss: 6.8363 - mae: 6.8363\n",
            "Epoch 100/100\n",
            "1/1 [==============================] - 0s 9ms/step - loss: 6.8306 - mae: 6.8306\n"
          ]
        },
        {
          "output_type": "execute_result",
          "data": {
            "text/plain": [
              "<keras.src.callbacks.History at 0x7a0074d03bb0>"
            ]
          },
          "metadata": {},
          "execution_count": 15
        }
      ]
    },
    {
      "cell_type": "code",
      "source": [
        "# Try make prediction\n",
        "model1.predict([17.0])"
      ],
      "metadata": {
        "colab": {
          "base_uri": "https://localhost:8080/"
        },
        "id": "4kMA7oidBuHG",
        "outputId": "4d73a103-7436-482f-ab1c-cd4a2f763cc1"
      },
      "execution_count": 16,
      "outputs": [
        {
          "output_type": "stream",
          "name": "stdout",
          "text": [
            "1/1 [==============================] - 0s 79ms/step\n"
          ]
        },
        {
          "output_type": "execute_result",
          "data": {
            "text/plain": [
              "array([[29.367655]], dtype=float32)"
            ]
          },
          "metadata": {},
          "execution_count": 16
        }
      ]
    },
    {
      "cell_type": "code",
      "source": [
        "# re-write the model by my self and improve one thing to get better\n",
        "\n",
        "# 1. Create the model\n",
        "model2 = tf.keras.Sequential([\n",
        "    tf.keras.layers.Dense(1)\n",
        "])\n",
        "\n",
        "# 2. Compile the model\n",
        "model2.compile(loss = tf.keras.losses.mae,\n",
        "              optimizer = tf.keras.optimizers.Adam(learning_rate=0.001), # chang the optimizers from SGD to adam\n",
        "              metrics = [\"mae\"])\n",
        "\n",
        "# 3. Fit the model\n",
        "# model.fit(X, Y, epochs=5) # BREAK IN UPDATED TENSOR VERSION\n",
        "model2.fit(tf.expand_dims(X, axis=-1), Y, epochs=100)"
      ],
      "metadata": {
        "colab": {
          "base_uri": "https://localhost:8080/"
        },
        "id": "gdwbhbhmJVPx",
        "outputId": "343d5717-fec4-445e-8460-580280129bfb"
      },
      "execution_count": 17,
      "outputs": [
        {
          "output_type": "stream",
          "name": "stdout",
          "text": [
            "Epoch 1/100\n",
            "1/1 [==============================] - 1s 597ms/step - loss: 8.6049 - mae: 8.6049\n",
            "Epoch 2/100\n",
            "1/1 [==============================] - 0s 13ms/step - loss: 8.6004 - mae: 8.6004\n",
            "Epoch 3/100\n",
            "1/1 [==============================] - 0s 16ms/step - loss: 8.5959 - mae: 8.5959\n",
            "Epoch 4/100\n",
            "1/1 [==============================] - 0s 21ms/step - loss: 8.5914 - mae: 8.5914\n",
            "Epoch 5/100\n",
            "1/1 [==============================] - 0s 12ms/step - loss: 8.5869 - mae: 8.5869\n",
            "Epoch 6/100\n",
            "1/1 [==============================] - 0s 13ms/step - loss: 8.5824 - mae: 8.5824\n",
            "Epoch 7/100\n",
            "1/1 [==============================] - 0s 11ms/step - loss: 8.5779 - mae: 8.5779\n",
            "Epoch 8/100\n",
            "1/1 [==============================] - 0s 10ms/step - loss: 8.5734 - mae: 8.5734\n",
            "Epoch 9/100\n",
            "1/1 [==============================] - 0s 15ms/step - loss: 8.5689 - mae: 8.5689\n",
            "Epoch 10/100\n",
            "1/1 [==============================] - 0s 13ms/step - loss: 8.5644 - mae: 8.5644\n",
            "Epoch 11/100\n",
            "1/1 [==============================] - 0s 14ms/step - loss: 8.5599 - mae: 8.5599\n",
            "Epoch 12/100\n",
            "1/1 [==============================] - 0s 12ms/step - loss: 8.5554 - mae: 8.5554\n",
            "Epoch 13/100\n",
            "1/1 [==============================] - 0s 10ms/step - loss: 8.5509 - mae: 8.5509\n",
            "Epoch 14/100\n",
            "1/1 [==============================] - 0s 9ms/step - loss: 8.5464 - mae: 8.5464\n",
            "Epoch 15/100\n",
            "1/1 [==============================] - 0s 10ms/step - loss: 8.5419 - mae: 8.5419\n",
            "Epoch 16/100\n",
            "1/1 [==============================] - 0s 9ms/step - loss: 8.5374 - mae: 8.5374\n",
            "Epoch 17/100\n",
            "1/1 [==============================] - 0s 9ms/step - loss: 8.5329 - mae: 8.5329\n",
            "Epoch 18/100\n",
            "1/1 [==============================] - 0s 9ms/step - loss: 8.5284 - mae: 8.5284\n",
            "Epoch 19/100\n",
            "1/1 [==============================] - 0s 11ms/step - loss: 8.5239 - mae: 8.5239\n",
            "Epoch 20/100\n",
            "1/1 [==============================] - 0s 11ms/step - loss: 8.5194 - mae: 8.5194\n",
            "Epoch 21/100\n",
            "1/1 [==============================] - 0s 9ms/step - loss: 8.5149 - mae: 8.5149\n",
            "Epoch 22/100\n",
            "1/1 [==============================] - 0s 9ms/step - loss: 8.5104 - mae: 8.5104\n",
            "Epoch 23/100\n",
            "1/1 [==============================] - 0s 8ms/step - loss: 8.5059 - mae: 8.5059\n",
            "Epoch 24/100\n",
            "1/1 [==============================] - 0s 13ms/step - loss: 8.5014 - mae: 8.5014\n",
            "Epoch 25/100\n",
            "1/1 [==============================] - 0s 23ms/step - loss: 8.4969 - mae: 8.4969\n",
            "Epoch 26/100\n",
            "1/1 [==============================] - 0s 15ms/step - loss: 8.4924 - mae: 8.4924\n",
            "Epoch 27/100\n",
            "1/1 [==============================] - 0s 19ms/step - loss: 8.4879 - mae: 8.4879\n",
            "Epoch 28/100\n",
            "1/1 [==============================] - 0s 42ms/step - loss: 8.4834 - mae: 8.4834\n",
            "Epoch 29/100\n",
            "1/1 [==============================] - 0s 22ms/step - loss: 8.4789 - mae: 8.4789\n",
            "Epoch 30/100\n",
            "1/1 [==============================] - 0s 21ms/step - loss: 8.4744 - mae: 8.4744\n",
            "Epoch 31/100\n",
            "1/1 [==============================] - 0s 19ms/step - loss: 8.4699 - mae: 8.4699\n",
            "Epoch 32/100\n",
            "1/1 [==============================] - 0s 19ms/step - loss: 8.4654 - mae: 8.4654\n",
            "Epoch 33/100\n",
            "1/1 [==============================] - 0s 20ms/step - loss: 8.4609 - mae: 8.4609\n",
            "Epoch 34/100\n",
            "1/1 [==============================] - 0s 30ms/step - loss: 8.4564 - mae: 8.4564\n",
            "Epoch 35/100\n",
            "1/1 [==============================] - 0s 31ms/step - loss: 8.4519 - mae: 8.4519\n",
            "Epoch 36/100\n",
            "1/1 [==============================] - 0s 24ms/step - loss: 8.4474 - mae: 8.4474\n",
            "Epoch 37/100\n",
            "1/1 [==============================] - 0s 15ms/step - loss: 8.4429 - mae: 8.4429\n",
            "Epoch 38/100\n",
            "1/1 [==============================] - 0s 22ms/step - loss: 8.4384 - mae: 8.4384\n",
            "Epoch 39/100\n",
            "1/1 [==============================] - 0s 14ms/step - loss: 8.4338 - mae: 8.4338\n",
            "Epoch 40/100\n",
            "1/1 [==============================] - 0s 20ms/step - loss: 8.4293 - mae: 8.4293\n",
            "Epoch 41/100\n",
            "1/1 [==============================] - 0s 22ms/step - loss: 8.4248 - mae: 8.4248\n",
            "Epoch 42/100\n",
            "1/1 [==============================] - 0s 19ms/step - loss: 8.4203 - mae: 8.4203\n",
            "Epoch 43/100\n",
            "1/1 [==============================] - 0s 27ms/step - loss: 8.4158 - mae: 8.4158\n",
            "Epoch 44/100\n",
            "1/1 [==============================] - 0s 60ms/step - loss: 8.4113 - mae: 8.4113\n",
            "Epoch 45/100\n",
            "1/1 [==============================] - 0s 30ms/step - loss: 8.4068 - mae: 8.4068\n",
            "Epoch 46/100\n",
            "1/1 [==============================] - 0s 14ms/step - loss: 8.4023 - mae: 8.4023\n",
            "Epoch 47/100\n",
            "1/1 [==============================] - 0s 16ms/step - loss: 8.3978 - mae: 8.3978\n",
            "Epoch 48/100\n",
            "1/1 [==============================] - 0s 25ms/step - loss: 8.3933 - mae: 8.3933\n",
            "Epoch 49/100\n",
            "1/1 [==============================] - 0s 17ms/step - loss: 8.3888 - mae: 8.3888\n",
            "Epoch 50/100\n",
            "1/1 [==============================] - 0s 13ms/step - loss: 8.3843 - mae: 8.3843\n",
            "Epoch 51/100\n",
            "1/1 [==============================] - 0s 16ms/step - loss: 8.3798 - mae: 8.3798\n",
            "Epoch 52/100\n",
            "1/1 [==============================] - 0s 18ms/step - loss: 8.3753 - mae: 8.3753\n",
            "Epoch 53/100\n",
            "1/1 [==============================] - 0s 21ms/step - loss: 8.3708 - mae: 8.3708\n",
            "Epoch 54/100\n",
            "1/1 [==============================] - 0s 15ms/step - loss: 8.3663 - mae: 8.3663\n",
            "Epoch 55/100\n",
            "1/1 [==============================] - 0s 30ms/step - loss: 8.3618 - mae: 8.3618\n",
            "Epoch 56/100\n",
            "1/1 [==============================] - 0s 23ms/step - loss: 8.3573 - mae: 8.3573\n",
            "Epoch 57/100\n",
            "1/1 [==============================] - 0s 16ms/step - loss: 8.3528 - mae: 8.3528\n",
            "Epoch 58/100\n",
            "1/1 [==============================] - 0s 19ms/step - loss: 8.3483 - mae: 8.3483\n",
            "Epoch 59/100\n",
            "1/1 [==============================] - 0s 26ms/step - loss: 8.3438 - mae: 8.3438\n",
            "Epoch 60/100\n",
            "1/1 [==============================] - 0s 24ms/step - loss: 8.3393 - mae: 8.3393\n",
            "Epoch 61/100\n",
            "1/1 [==============================] - 0s 18ms/step - loss: 8.3348 - mae: 8.3348\n",
            "Epoch 62/100\n",
            "1/1 [==============================] - 0s 14ms/step - loss: 8.3303 - mae: 8.3303\n",
            "Epoch 63/100\n",
            "1/1 [==============================] - 0s 24ms/step - loss: 8.3258 - mae: 8.3258\n",
            "Epoch 64/100\n",
            "1/1 [==============================] - 0s 18ms/step - loss: 8.3213 - mae: 8.3213\n",
            "Epoch 65/100\n",
            "1/1 [==============================] - 0s 15ms/step - loss: 8.3168 - mae: 8.3168\n",
            "Epoch 66/100\n",
            "1/1 [==============================] - 0s 13ms/step - loss: 8.3123 - mae: 8.3123\n",
            "Epoch 67/100\n",
            "1/1 [==============================] - 0s 12ms/step - loss: 8.3078 - mae: 8.3078\n",
            "Epoch 68/100\n",
            "1/1 [==============================] - 0s 18ms/step - loss: 8.3033 - mae: 8.3033\n",
            "Epoch 69/100\n",
            "1/1 [==============================] - 0s 18ms/step - loss: 8.2988 - mae: 8.2988\n",
            "Epoch 70/100\n",
            "1/1 [==============================] - 0s 18ms/step - loss: 8.2943 - mae: 8.2943\n",
            "Epoch 71/100\n",
            "1/1 [==============================] - 0s 19ms/step - loss: 8.2898 - mae: 8.2898\n",
            "Epoch 72/100\n",
            "1/1 [==============================] - 0s 27ms/step - loss: 8.2853 - mae: 8.2853\n",
            "Epoch 73/100\n",
            "1/1 [==============================] - 0s 27ms/step - loss: 8.2808 - mae: 8.2808\n",
            "Epoch 74/100\n",
            "1/1 [==============================] - 0s 41ms/step - loss: 8.2763 - mae: 8.2763\n",
            "Epoch 75/100\n",
            "1/1 [==============================] - 0s 24ms/step - loss: 8.2718 - mae: 8.2718\n",
            "Epoch 76/100\n",
            "1/1 [==============================] - 0s 25ms/step - loss: 8.2673 - mae: 8.2673\n",
            "Epoch 77/100\n",
            "1/1 [==============================] - 0s 16ms/step - loss: 8.2628 - mae: 8.2628\n",
            "Epoch 78/100\n",
            "1/1 [==============================] - 0s 22ms/step - loss: 8.2583 - mae: 8.2583\n",
            "Epoch 79/100\n",
            "1/1 [==============================] - 0s 22ms/step - loss: 8.2538 - mae: 8.2538\n",
            "Epoch 80/100\n",
            "1/1 [==============================] - 0s 18ms/step - loss: 8.2493 - mae: 8.2493\n",
            "Epoch 81/100\n",
            "1/1 [==============================] - 0s 18ms/step - loss: 8.2448 - mae: 8.2448\n",
            "Epoch 82/100\n",
            "1/1 [==============================] - 0s 17ms/step - loss: 8.2403 - mae: 8.2403\n",
            "Epoch 83/100\n",
            "1/1 [==============================] - 0s 19ms/step - loss: 8.2358 - mae: 8.2358\n",
            "Epoch 84/100\n",
            "1/1 [==============================] - 0s 16ms/step - loss: 8.2313 - mae: 8.2313\n",
            "Epoch 85/100\n",
            "1/1 [==============================] - 0s 20ms/step - loss: 8.2268 - mae: 8.2268\n",
            "Epoch 86/100\n",
            "1/1 [==============================] - 0s 21ms/step - loss: 8.2223 - mae: 8.2223\n",
            "Epoch 87/100\n",
            "1/1 [==============================] - 0s 17ms/step - loss: 8.2178 - mae: 8.2178\n",
            "Epoch 88/100\n",
            "1/1 [==============================] - 0s 20ms/step - loss: 8.2133 - mae: 8.2133\n",
            "Epoch 89/100\n",
            "1/1 [==============================] - 0s 20ms/step - loss: 8.2088 - mae: 8.2088\n",
            "Epoch 90/100\n",
            "1/1 [==============================] - 0s 20ms/step - loss: 8.2043 - mae: 8.2043\n",
            "Epoch 91/100\n",
            "1/1 [==============================] - 0s 20ms/step - loss: 8.1998 - mae: 8.1998\n",
            "Epoch 92/100\n",
            "1/1 [==============================] - 0s 22ms/step - loss: 8.1953 - mae: 8.1953\n",
            "Epoch 93/100\n",
            "1/1 [==============================] - 0s 30ms/step - loss: 8.1908 - mae: 8.1908\n",
            "Epoch 94/100\n",
            "1/1 [==============================] - 0s 23ms/step - loss: 8.1863 - mae: 8.1863\n",
            "Epoch 95/100\n",
            "1/1 [==============================] - 0s 24ms/step - loss: 8.1818 - mae: 8.1818\n",
            "Epoch 96/100\n",
            "1/1 [==============================] - 0s 18ms/step - loss: 8.1773 - mae: 8.1773\n",
            "Epoch 97/100\n",
            "1/1 [==============================] - 0s 14ms/step - loss: 8.1728 - mae: 8.1728\n",
            "Epoch 98/100\n",
            "1/1 [==============================] - 0s 17ms/step - loss: 8.1683 - mae: 8.1683\n",
            "Epoch 99/100\n",
            "1/1 [==============================] - 0s 24ms/step - loss: 8.1638 - mae: 8.1638\n",
            "Epoch 100/100\n",
            "1/1 [==============================] - 0s 22ms/step - loss: 8.1593 - mae: 8.1593\n"
          ]
        },
        {
          "output_type": "execute_result",
          "data": {
            "text/plain": [
              "<keras.src.callbacks.History at 0x7a0076000640>"
            ]
          },
          "metadata": {},
          "execution_count": 17
        }
      ]
    },
    {
      "cell_type": "code",
      "source": [
        "# Try make prediction\n",
        "model2.predict([17.0])"
      ],
      "metadata": {
        "colab": {
          "base_uri": "https://localhost:8080/"
        },
        "id": "QeWEo95_J5Gg",
        "outputId": "3a1659c0-6d82-4fcf-930b-fbe06e5fc372"
      },
      "execution_count": 18,
      "outputs": [
        {
          "output_type": "stream",
          "name": "stdout",
          "text": [
            "1/1 [==============================] - 0s 348ms/step\n"
          ]
        },
        {
          "output_type": "execute_result",
          "data": {
            "text/plain": [
              "array([[25.576492]], dtype=float32)"
            ]
          },
          "metadata": {},
          "execution_count": 18
        }
      ]
    },
    {
      "cell_type": "code",
      "source": [
        "# re-write the model\n",
        "\n",
        "# 1. Create the model (with 100 hidden units )\n",
        "model3 = tf.keras.Sequential([\n",
        "    tf.keras.layers.Dense(50, activation=None),\n",
        "    tf.keras.layers.Dense(1)\n",
        "])\n",
        "\n",
        "# 2. Compile the model\n",
        "model3.compile(loss = \"mae\",\n",
        "              optimizer = tf.keras.optimizers.Adam(learning_rate = 0.01),\n",
        "              metrics = [\"mae\"])\n",
        "\n",
        "# 3. Fit the model\n",
        "# model.fit(X, Y, epochs=5) # BREAK IN UPDATED TENSOR VERSION\n",
        "model3.fit(tf.expand_dims(X, axis=-1), Y, epochs=100)"
      ],
      "metadata": {
        "colab": {
          "base_uri": "https://localhost:8080/"
        },
        "id": "KI1XF166hgOa",
        "outputId": "ab0d5440-78b3-4dd8-899b-fbee186e99ef"
      },
      "execution_count": 19,
      "outputs": [
        {
          "output_type": "stream",
          "name": "stdout",
          "text": [
            "Epoch 1/100\n",
            "1/1 [==============================] - 2s 2s/step - loss: 12.2740 - mae: 12.2740\n",
            "Epoch 2/100\n",
            "1/1 [==============================] - 0s 15ms/step - loss: 11.5238 - mae: 11.5238\n",
            "Epoch 3/100\n",
            "1/1 [==============================] - 0s 26ms/step - loss: 10.7714 - mae: 10.7714\n",
            "Epoch 4/100\n",
            "1/1 [==============================] - 0s 18ms/step - loss: 10.0144 - mae: 10.0144\n",
            "Epoch 5/100\n",
            "1/1 [==============================] - 0s 19ms/step - loss: 9.2503 - mae: 9.2503\n",
            "Epoch 6/100\n",
            "1/1 [==============================] - 0s 15ms/step - loss: 8.4760 - mae: 8.4760\n",
            "Epoch 7/100\n",
            "1/1 [==============================] - 0s 32ms/step - loss: 7.6880 - mae: 7.6880\n",
            "Epoch 8/100\n",
            "1/1 [==============================] - 0s 16ms/step - loss: 6.9280 - mae: 6.9280\n",
            "Epoch 9/100\n",
            "1/1 [==============================] - 0s 23ms/step - loss: 6.8943 - mae: 6.8943\n",
            "Epoch 10/100\n",
            "1/1 [==============================] - 0s 11ms/step - loss: 7.1657 - mae: 7.1657\n",
            "Epoch 11/100\n",
            "1/1 [==============================] - 0s 18ms/step - loss: 7.3094 - mae: 7.3094\n",
            "Epoch 12/100\n",
            "1/1 [==============================] - 0s 16ms/step - loss: 7.3482 - mae: 7.3482\n",
            "Epoch 13/100\n",
            "1/1 [==============================] - 0s 24ms/step - loss: 7.3015 - mae: 7.3015\n",
            "Epoch 14/100\n",
            "1/1 [==============================] - 0s 38ms/step - loss: 7.1854 - mae: 7.1854\n",
            "Epoch 15/100\n",
            "1/1 [==============================] - 0s 23ms/step - loss: 7.0133 - mae: 7.0133\n",
            "Epoch 16/100\n",
            "1/1 [==============================] - 0s 14ms/step - loss: 6.7962 - mae: 6.7962\n",
            "Epoch 17/100\n",
            "1/1 [==============================] - 0s 18ms/step - loss: 6.5436 - mae: 6.5436\n",
            "Epoch 18/100\n",
            "1/1 [==============================] - 0s 18ms/step - loss: 6.2629 - mae: 6.2629\n",
            "Epoch 19/100\n",
            "1/1 [==============================] - 0s 20ms/step - loss: 6.1433 - mae: 6.1433\n",
            "Epoch 20/100\n",
            "1/1 [==============================] - 0s 18ms/step - loss: 6.0855 - mae: 6.0855\n",
            "Epoch 21/100\n",
            "1/1 [==============================] - 0s 18ms/step - loss: 6.2180 - mae: 6.2180\n",
            "Epoch 22/100\n",
            "1/1 [==============================] - 0s 29ms/step - loss: 6.2552 - mae: 6.2552\n",
            "Epoch 23/100\n",
            "1/1 [==============================] - 0s 24ms/step - loss: 6.1736 - mae: 6.1736\n",
            "Epoch 24/100\n",
            "1/1 [==============================] - 0s 21ms/step - loss: 5.9895 - mae: 5.9895\n",
            "Epoch 25/100\n",
            "1/1 [==============================] - 0s 24ms/step - loss: 5.7145 - mae: 5.7145\n",
            "Epoch 26/100\n",
            "1/1 [==============================] - 0s 38ms/step - loss: 5.5581 - mae: 5.5581\n",
            "Epoch 27/100\n",
            "1/1 [==============================] - 0s 20ms/step - loss: 5.4435 - mae: 5.4435\n",
            "Epoch 28/100\n",
            "1/1 [==============================] - 0s 22ms/step - loss: 5.4659 - mae: 5.4659\n",
            "Epoch 29/100\n",
            "1/1 [==============================] - 0s 23ms/step - loss: 5.4731 - mae: 5.4731\n",
            "Epoch 30/100\n",
            "1/1 [==============================] - 0s 16ms/step - loss: 5.4238 - mae: 5.4238\n",
            "Epoch 31/100\n",
            "1/1 [==============================] - 0s 20ms/step - loss: 5.3229 - mae: 5.3229\n",
            "Epoch 32/100\n",
            "1/1 [==============================] - 0s 21ms/step - loss: 5.1751 - mae: 5.1751\n",
            "Epoch 33/100\n",
            "1/1 [==============================] - 0s 23ms/step - loss: 4.9847 - mae: 4.9847\n",
            "Epoch 34/100\n",
            "1/1 [==============================] - 0s 20ms/step - loss: 4.7557 - mae: 4.7557\n",
            "Epoch 35/100\n",
            "1/1 [==============================] - 0s 25ms/step - loss: 4.6107 - mae: 4.6107\n",
            "Epoch 36/100\n",
            "1/1 [==============================] - 0s 23ms/step - loss: 4.5091 - mae: 4.5091\n",
            "Epoch 37/100\n",
            "1/1 [==============================] - 0s 23ms/step - loss: 4.4979 - mae: 4.4979\n",
            "Epoch 38/100\n",
            "1/1 [==============================] - 0s 35ms/step - loss: 4.4162 - mae: 4.4162\n",
            "Epoch 39/100\n",
            "1/1 [==============================] - 0s 20ms/step - loss: 4.2070 - mae: 4.2070\n",
            "Epoch 40/100\n",
            "1/1 [==============================] - 0s 42ms/step - loss: 3.9679 - mae: 3.9679\n",
            "Epoch 41/100\n",
            "1/1 [==============================] - 0s 19ms/step - loss: 3.8015 - mae: 3.8015\n",
            "Epoch 42/100\n",
            "1/1 [==============================] - 0s 15ms/step - loss: 3.6973 - mae: 3.6973\n",
            "Epoch 43/100\n",
            "1/1 [==============================] - 0s 17ms/step - loss: 3.6008 - mae: 3.6008\n",
            "Epoch 44/100\n",
            "1/1 [==============================] - 0s 15ms/step - loss: 3.4428 - mae: 3.4428\n",
            "Epoch 45/100\n",
            "1/1 [==============================] - 0s 15ms/step - loss: 3.2267 - mae: 3.2267\n",
            "Epoch 46/100\n",
            "1/1 [==============================] - 0s 14ms/step - loss: 2.9594 - mae: 2.9594\n",
            "Epoch 47/100\n",
            "1/1 [==============================] - 0s 13ms/step - loss: 2.7834 - mae: 2.7834\n",
            "Epoch 48/100\n",
            "1/1 [==============================] - 0s 13ms/step - loss: 2.5961 - mae: 2.5961\n",
            "Epoch 49/100\n",
            "1/1 [==============================] - 0s 14ms/step - loss: 2.4574 - mae: 2.4574\n",
            "Epoch 50/100\n",
            "1/1 [==============================] - 0s 16ms/step - loss: 2.1772 - mae: 2.1772\n",
            "Epoch 51/100\n",
            "1/1 [==============================] - 0s 15ms/step - loss: 1.9488 - mae: 1.9488\n",
            "Epoch 52/100\n",
            "1/1 [==============================] - 0s 15ms/step - loss: 1.7958 - mae: 1.7958\n",
            "Epoch 53/100\n",
            "1/1 [==============================] - 0s 39ms/step - loss: 1.5659 - mae: 1.5659\n",
            "Epoch 54/100\n",
            "1/1 [==============================] - 0s 19ms/step - loss: 1.2631 - mae: 1.2631\n",
            "Epoch 55/100\n",
            "1/1 [==============================] - 0s 18ms/step - loss: 1.0020 - mae: 1.0020\n",
            "Epoch 56/100\n",
            "1/1 [==============================] - 0s 21ms/step - loss: 0.7561 - mae: 0.7561\n",
            "Epoch 57/100\n",
            "1/1 [==============================] - 0s 22ms/step - loss: 0.4699 - mae: 0.4699\n",
            "Epoch 58/100\n",
            "1/1 [==============================] - 0s 20ms/step - loss: 0.2886 - mae: 0.2886\n",
            "Epoch 59/100\n",
            "1/1 [==============================] - 0s 27ms/step - loss: 0.2056 - mae: 0.2056\n",
            "Epoch 60/100\n",
            "1/1 [==============================] - 0s 24ms/step - loss: 0.3669 - mae: 0.3669\n",
            "Epoch 61/100\n",
            "1/1 [==============================] - 0s 26ms/step - loss: 0.5483 - mae: 0.5483\n",
            "Epoch 62/100\n",
            "1/1 [==============================] - 0s 28ms/step - loss: 0.6904 - mae: 0.6904\n",
            "Epoch 63/100\n",
            "1/1 [==============================] - 0s 30ms/step - loss: 0.7628 - mae: 0.7628\n",
            "Epoch 64/100\n",
            "1/1 [==============================] - 0s 23ms/step - loss: 0.7288 - mae: 0.7288\n",
            "Epoch 65/100\n",
            "1/1 [==============================] - 0s 19ms/step - loss: 0.7114 - mae: 0.7114\n",
            "Epoch 66/100\n",
            "1/1 [==============================] - 0s 35ms/step - loss: 0.6729 - mae: 0.6729\n",
            "Epoch 67/100\n",
            "1/1 [==============================] - 0s 19ms/step - loss: 0.5929 - mae: 0.5929\n",
            "Epoch 68/100\n",
            "1/1 [==============================] - 0s 15ms/step - loss: 0.5077 - mae: 0.5077\n",
            "Epoch 69/100\n",
            "1/1 [==============================] - 0s 13ms/step - loss: 0.3344 - mae: 0.3344\n",
            "Epoch 70/100\n",
            "1/1 [==============================] - 0s 18ms/step - loss: 0.1666 - mae: 0.1666\n",
            "Epoch 71/100\n",
            "1/1 [==============================] - 0s 30ms/step - loss: 0.2599 - mae: 0.2599\n",
            "Epoch 72/100\n",
            "1/1 [==============================] - 0s 46ms/step - loss: 0.2351 - mae: 0.2351\n",
            "Epoch 73/100\n",
            "1/1 [==============================] - 0s 22ms/step - loss: 0.3787 - mae: 0.3787\n",
            "Epoch 74/100\n",
            "1/1 [==============================] - 0s 28ms/step - loss: 0.4770 - mae: 0.4770\n",
            "Epoch 75/100\n",
            "1/1 [==============================] - 0s 31ms/step - loss: 0.3945 - mae: 0.3945\n",
            "Epoch 76/100\n",
            "1/1 [==============================] - 0s 21ms/step - loss: 0.5072 - mae: 0.5072\n",
            "Epoch 77/100\n",
            "1/1 [==============================] - 0s 15ms/step - loss: 0.5144 - mae: 0.5144\n",
            "Epoch 78/100\n",
            "1/1 [==============================] - 0s 16ms/step - loss: 0.3560 - mae: 0.3560\n",
            "Epoch 79/100\n",
            "1/1 [==============================] - 0s 15ms/step - loss: 0.4040 - mae: 0.4040\n",
            "Epoch 80/100\n",
            "1/1 [==============================] - 0s 17ms/step - loss: 0.3701 - mae: 0.3701\n",
            "Epoch 81/100\n",
            "1/1 [==============================] - 0s 29ms/step - loss: 0.0570 - mae: 0.0570\n",
            "Epoch 82/100\n",
            "1/1 [==============================] - 0s 20ms/step - loss: 0.4898 - mae: 0.4898\n",
            "Epoch 83/100\n",
            "1/1 [==============================] - 0s 18ms/step - loss: 0.6193 - mae: 0.6193\n",
            "Epoch 84/100\n",
            "1/1 [==============================] - 0s 17ms/step - loss: 0.4315 - mae: 0.4315\n",
            "Epoch 85/100\n",
            "1/1 [==============================] - 0s 19ms/step - loss: 0.3866 - mae: 0.3866\n",
            "Epoch 86/100\n",
            "1/1 [==============================] - 0s 19ms/step - loss: 0.5536 - mae: 0.5536\n",
            "Epoch 87/100\n",
            "1/1 [==============================] - 0s 14ms/step - loss: 0.5398 - mae: 0.5398\n",
            "Epoch 88/100\n",
            "1/1 [==============================] - 0s 16ms/step - loss: 0.3663 - mae: 0.3663\n",
            "Epoch 89/100\n",
            "1/1 [==============================] - 0s 14ms/step - loss: 0.1729 - mae: 0.1729\n",
            "Epoch 90/100\n",
            "1/1 [==============================] - 0s 18ms/step - loss: 0.2290 - mae: 0.2290\n",
            "Epoch 91/100\n",
            "1/1 [==============================] - 0s 22ms/step - loss: 0.0773 - mae: 0.0773\n",
            "Epoch 92/100\n",
            "1/1 [==============================] - 0s 24ms/step - loss: 0.4000 - mae: 0.4000\n",
            "Epoch 93/100\n",
            "1/1 [==============================] - 0s 19ms/step - loss: 0.4523 - mae: 0.4523\n",
            "Epoch 94/100\n",
            "1/1 [==============================] - 0s 23ms/step - loss: 0.2580 - mae: 0.2580\n",
            "Epoch 95/100\n",
            "1/1 [==============================] - 0s 20ms/step - loss: 0.3389 - mae: 0.3389\n",
            "Epoch 96/100\n",
            "1/1 [==============================] - 0s 19ms/step - loss: 0.4490 - mae: 0.4490\n",
            "Epoch 97/100\n",
            "1/1 [==============================] - 0s 19ms/step - loss: 0.3541 - mae: 0.3541\n",
            "Epoch 98/100\n",
            "1/1 [==============================] - 0s 32ms/step - loss: 0.0653 - mae: 0.0653\n",
            "Epoch 99/100\n",
            "1/1 [==============================] - 0s 23ms/step - loss: 0.4514 - mae: 0.4514\n",
            "Epoch 100/100\n",
            "1/1 [==============================] - 0s 24ms/step - loss: 0.5954 - mae: 0.5954\n"
          ]
        },
        {
          "output_type": "execute_result",
          "data": {
            "text/plain": [
              "<keras.src.callbacks.History at 0x7a0075ed3dc0>"
            ]
          },
          "metadata": {},
          "execution_count": 19
        }
      ]
    },
    {
      "cell_type": "code",
      "source": [
        "# Try make prediction\n",
        "model3.predict([17.0])"
      ],
      "metadata": {
        "colab": {
          "base_uri": "https://localhost:8080/"
        },
        "id": "iZcXS1vmiusq",
        "outputId": "3c1694b5-e917-41c0-b2d3-db693e90f324"
      },
      "execution_count": 20,
      "outputs": [
        {
          "output_type": "stream",
          "name": "stdout",
          "text": [
            "1/1 [==============================] - 0s 195ms/step\n"
          ]
        },
        {
          "output_type": "execute_result",
          "data": {
            "text/plain": [
              "array([[28.106558]], dtype=float32)"
            ]
          },
          "metadata": {},
          "execution_count": 20
        }
      ]
    },
    {
      "cell_type": "markdown",
      "source": [
        "## Evaluating Model\n",
        "\n",
        "Build a model -> fit it -> evaluate it -> tweak a model -> fit it -> evaluate it...\n",
        "\n",
        "Evaluation = visualize\n",
        "\n",
        "it's good idea to visualize :\n",
        "* The data - what data we working with? what does it look like?\n",
        "* The model = what does our model look like?\n",
        "* The training of a model - how does a model perform while it learns?\n",
        "* The predictions of the model - how do the predictions of a model line up against the ground truth (the origin label)"
      ],
      "metadata": {
        "id": "ggu1CbXFlSbl"
      }
    },
    {
      "cell_type": "code",
      "source": [
        "# Make a bigger dataset\n",
        "\n",
        "x = tf.range(-100, 100, 4)\n",
        "x"
      ],
      "metadata": {
        "colab": {
          "base_uri": "https://localhost:8080/"
        },
        "id": "O5yDk0J9lV5n",
        "outputId": "35f0f304-9e17-4e03-bd4d-1aeb3a707e5e"
      },
      "execution_count": 21,
      "outputs": [
        {
          "output_type": "execute_result",
          "data": {
            "text/plain": [
              "<tf.Tensor: shape=(50,), dtype=int32, numpy=\n",
              "array([-100,  -96,  -92,  -88,  -84,  -80,  -76,  -72,  -68,  -64,  -60,\n",
              "        -56,  -52,  -48,  -44,  -40,  -36,  -32,  -28,  -24,  -20,  -16,\n",
              "        -12,   -8,   -4,    0,    4,    8,   12,   16,   20,   24,   28,\n",
              "         32,   36,   40,   44,   48,   52,   56,   60,   64,   68,   72,\n",
              "         76,   80,   84,   88,   92,   96], dtype=int32)>"
            ]
          },
          "metadata": {},
          "execution_count": 21
        }
      ]
    },
    {
      "cell_type": "code",
      "source": [
        "# Make labels for the dataset\n",
        "\n",
        "y = x + 10\n",
        "y"
      ],
      "metadata": {
        "colab": {
          "base_uri": "https://localhost:8080/"
        },
        "id": "_VnV5iodqYP8",
        "outputId": "d5c9619a-a7e2-431c-9890-5ca1902da581"
      },
      "execution_count": 22,
      "outputs": [
        {
          "output_type": "execute_result",
          "data": {
            "text/plain": [
              "<tf.Tensor: shape=(50,), dtype=int32, numpy=\n",
              "array([-90, -86, -82, -78, -74, -70, -66, -62, -58, -54, -50, -46, -42,\n",
              "       -38, -34, -30, -26, -22, -18, -14, -10,  -6,  -2,   2,   6,  10,\n",
              "        14,  18,  22,  26,  30,  34,  38,  42,  46,  50,  54,  58,  62,\n",
              "        66,  70,  74,  78,  82,  86,  90,  94,  98, 102, 106], dtype=int32)>"
            ]
          },
          "metadata": {},
          "execution_count": 22
        }
      ]
    },
    {
      "cell_type": "code",
      "source": [
        "# Visualize the data\n",
        "\n",
        "import matplotlib.pyplot as plt\n",
        "\n",
        "plt.scatter(x, y)"
      ],
      "metadata": {
        "colab": {
          "base_uri": "https://localhost:8080/",
          "height": 447
        },
        "id": "wqnieOnpqiby",
        "outputId": "dd3acf5e-27f2-44c0-dd01-2e90110dd65d"
      },
      "execution_count": 23,
      "outputs": [
        {
          "output_type": "execute_result",
          "data": {
            "text/plain": [
              "<matplotlib.collections.PathCollection at 0x7a0075df4a90>"
            ]
          },
          "metadata": {},
          "execution_count": 23
        },
        {
          "output_type": "display_data",
          "data": {
            "text/plain": [
              "<Figure size 640x480 with 1 Axes>"
            ],
            "image/png": "[encoded data removed]"
          },
          "metadata": {}
        }
      ]
    },
    {
      "cell_type": "markdown",
      "source": [
        "### The 3 sets\n",
        "\n",
        "* **Training set** - the model learn from this data, 70-80%\n",
        "* **Validation set** - set model gets tuned on this data, 10-15%\n",
        "* **Test set** - the model gets evaluated on this data, 10-15%"
      ],
      "metadata": {
        "id": "CCtd3h36q0Xk"
      }
    },
    {
      "cell_type": "code",
      "source": [
        "# Check the length of the data\n",
        "len(x)"
      ],
      "metadata": {
        "colab": {
          "base_uri": "https://localhost:8080/"
        },
        "id": "2_ITjQWjFQsM",
        "outputId": "04b64771-b67f-4073-90cf-534d03b82857"
      },
      "execution_count": 24,
      "outputs": [
        {
          "output_type": "execute_result",
          "data": {
            "text/plain": [
              "50"
            ]
          },
          "metadata": {},
          "execution_count": 24
        }
      ]
    },
    {
      "cell_type": "code",
      "source": [
        "# Split the data into train and test sets\n",
        "x_train = x[:40] # first to 40 data will be the training sample\n",
        "y_train = y[:40]\n",
        "\n",
        "x_test = x[40:] # 20% will be test\n",
        "y_test = y[40:]\n",
        "\n",
        "len(x_train), len(x_test), len(y_train), len(y_test)"
      ],
      "metadata": {
        "colab": {
          "base_uri": "https://localhost:8080/"
        },
        "id": "4fkIFEl_HAu3",
        "outputId": "64a1dc9f-c7a0-4257-8f3a-3f4473fcc1ee"
      },
      "execution_count": 25,
      "outputs": [
        {
          "output_type": "execute_result",
          "data": {
            "text/plain": [
              "(40, 10, 40, 10)"
            ]
          },
          "metadata": {},
          "execution_count": 25
        }
      ]
    },
    {
      "cell_type": "markdown",
      "source": [
        "### Visualing the data\n",
        "\n",
        "Now we've got out data in training and test sets...lets visualize it"
      ],
      "metadata": {
        "id": "9WJ9AtA0KgLL"
      }
    },
    {
      "cell_type": "code",
      "source": [
        "plt.figure(figsize=(10,7))\n",
        "\n",
        "# Plot training data in blue\n",
        "plt.scatter(x_train, y_train, c=\"b\", label=\"Training data\")\n",
        "\n",
        "# Plot test data in green\n",
        "plt.scatter(x_test, y_test, c=\"g\", label=\"Testing data\")\n",
        "\n",
        "# Show a legend\n",
        "plt.legend();"
      ],
      "metadata": {
        "colab": {
          "base_uri": "https://localhost:8080/",
          "height": 486
        },
        "id": "OQGu_de6G_li",
        "outputId": "8de4a08d-4019-476b-ddcb-5e8fb0ab95ce"
      },
      "execution_count": 26,
      "outputs": [
        {
          "output_type": "display_data",
          "data": {
            "text/plain": [
              "<Figure size 1000x700 with 1 Axes>"
            ],
            "image/png": "[encoded data removed]"
          },
          "metadata": {}
        }
      ]
    },
    {
      "cell_type": "code",
      "source": [
        "# Lets have a look at how to build a neural network for our data\n",
        "\n",
        "# 1. Create the model\n",
        "model = tf.keras.Sequential([\n",
        "    tf.keras.layers.Dense(1)\n",
        "])\n",
        "\n",
        "# 2. Compile the model\n",
        "model.compile(loss = tf.keras.losses.mae,\n",
        "              optimizer = tf.keras.optimizers.SGD(),\n",
        "              metrics = [\"mae\"])\n",
        "\n",
        "# 3. Fit the model\n",
        "#model.fit(tf.expand_dims(x_train, axis=-1), y_train, epochs=100)"
      ],
      "metadata": {
        "id": "TtdWZXKHSSN-"
      },
      "execution_count": 27,
      "outputs": []
    },
    {
      "cell_type": "markdown",
      "source": [
        "### Visualizing the model"
      ],
      "metadata": {
        "id": "F7d7P08yTScA"
      }
    },
    {
      "cell_type": "code",
      "source": [
        "# Lets create  model wich builds automatically by defining the input_shape arguments\n",
        "\n",
        "tf.random.set_seed(42)\n",
        "\n",
        "# 1. Create the model\n",
        "model_1 = tf.keras.Sequential([\n",
        "    tf.keras.layers.Dense(100, input_shape=[1], name=\"input_layer\"),\n",
        "    tf.keras.layers.Dense(1, name=\"output_layer\")\n",
        "], name=\"model_one\")\n",
        "\n",
        "# 2. Compile the model\n",
        "model_1.compile(loss = tf.keras.losses.mae,\n",
        "              optimizer = tf.keras.optimizers.SGD(),\n",
        "              metrics = [\"mae\"])"
      ],
      "metadata": {
        "id": "MpSA6LxwTzZK"
      },
      "execution_count": 28,
      "outputs": []
    },
    {
      "cell_type": "code",
      "source": [
        "model_1.summary()"
      ],
      "metadata": {
        "colab": {
          "base_uri": "https://localhost:8080/"
        },
        "id": "-jMC9-6WUyLw",
        "outputId": "3d3059c4-5d6c-4771-d1d8-db776d70839d"
      },
      "execution_count": 29,
      "outputs": [
        {
          "output_type": "stream",
          "name": "stdout",
          "text": [
            "Model: \"model_one\"\n",
            "_________________________________________________________________\n",
            " Layer (type)                Output Shape              Param #   \n",
            "=================================================================\n",
            " input_layer (Dense)         (None, 100)               200       \n",
            "                                                                 \n",
            " output_layer (Dense)        (None, 1)                 101       \n",
            "                                                                 \n",
            "=================================================================\n",
            "Total params: 301 (1.18 KB)\n",
            "Trainable params: 301 (1.18 KB)\n",
            "Non-trainable params: 0 (0.00 Byte)\n",
            "_________________________________________________________________\n"
          ]
        }
      ]
    },
    {
      "cell_type": "markdown",
      "source": [
        "* Total params - total number of parameters that we have\n",
        "\n",
        "* Trainable parameters - the parameters (patterns) the model can update as it trains\n",
        "\n",
        "* Non-trainable params - parameters cant updated during training (allready learn in models during **transfer learning**)\n",
        "\n",
        "📚 **Resource** : For a more in depth overview of the trainable parameters within a layer, check ouy MIT's intorduction to deep learning video\n",
        "\n",
        "⚡**Exercise :** Try playing around with the number of hidden units in the dense layer, see how that effect the number of parameters"
      ],
      "metadata": {
        "id": "fkeG27Fm3_t1"
      }
    },
    {
      "cell_type": "code",
      "source": [
        "# 3. Fit the model\n",
        "model_1.fit(tf.expand_dims(x_train, axis=-1), y_train, epochs=60, verbose=0)"
      ],
      "metadata": {
        "colab": {
          "base_uri": "https://localhost:8080/"
        },
        "id": "e-cgkHtW6914",
        "outputId": "017315f8-3ab7-4e71-e505-e131966f3aa3"
      },
      "execution_count": 30,
      "outputs": [
        {
          "output_type": "execute_result",
          "data": {
            "text/plain": [
              "<keras.src.callbacks.History at 0x7a0074b44f10>"
            ]
          },
          "metadata": {},
          "execution_count": 30
        }
      ]
    },
    {
      "cell_type": "code",
      "source": [
        "# Get a summary of our model\n",
        "model_1.summary()"
      ],
      "metadata": {
        "colab": {
          "base_uri": "https://localhost:8080/"
        },
        "id": "IYam8Kl-M2o7",
        "outputId": "053aa329-22a8-4bcb-b4e8-c94028e2c9bd"
      },
      "execution_count": 31,
      "outputs": [
        {
          "output_type": "stream",
          "name": "stdout",
          "text": [
            "Model: \"model_one\"\n",
            "_________________________________________________________________\n",
            " Layer (type)                Output Shape              Param #   \n",
            "=================================================================\n",
            " input_layer (Dense)         (None, 100)               200       \n",
            "                                                                 \n",
            " output_layer (Dense)        (None, 1)                 101       \n",
            "                                                                 \n",
            "=================================================================\n",
            "Total params: 301 (1.18 KB)\n",
            "Trainable params: 301 (1.18 KB)\n",
            "Non-trainable params: 0 (0.00 Byte)\n",
            "_________________________________________________________________\n"
          ]
        }
      ]
    },
    {
      "cell_type": "code",
      "source": [
        "from tensorflow.keras.utils import plot_model\n",
        "\n",
        "plot_model(model=model_1, show_shapes=True)"
      ],
      "metadata": {
        "colab": {
          "base_uri": "https://localhost:8080/",
          "height": 312
        },
        "id": "EMxErQE0NVSc",
        "outputId": "c0371a2d-4eba-4255-c6b2-a8ec8697c162"
      },
      "execution_count": 32,
      "outputs": [
        {
          "output_type": "execute_result",
          "data": {
            "image/png": "[encoded data removed]",
            "text/plain": [
              "<IPython.core.display.Image object>"
            ]
          },
          "metadata": {},
          "execution_count": 32
        }
      ]
    },
    {
      "cell_type": "markdown",
      "source": [
        "### Visualizing our models predictions\n",
        "\n",
        "To visualize predictions, it's a good idea to plot them against the ground truth labels.\n",
        "\n",
        "Often you'll see this in the form of 'y_test' or 'y_true' versus 'y_pred' (ground truth versus your model prediction)"
      ],
      "metadata": {
        "id": "XXOFpjXFOyH9"
      }
    },
    {
      "cell_type": "code",
      "source": [
        "# Make some predictions\n",
        "\n",
        "y_pred = model_1.predict(x_test)\n",
        "y_pred"
      ],
      "metadata": {
        "colab": {
          "base_uri": "https://localhost:8080/"
        },
        "id": "943XbXEayJf3",
        "outputId": "d6b83d1f-2b5e-4cb6-9484-cb3ab2f8cdcd"
      },
      "execution_count": 33,
      "outputs": [
        {
          "output_type": "stream",
          "name": "stderr",
          "text": [
            "WARNING:tensorflow:5 out of the last 5 calls to <function Model.make_predict_function.<locals>.predict_function at 0x7a0074c17b50> triggered tf.function retracing. Tracing is expensive and the excessive number of tracings could be due to (1) creating @tf.function repeatedly in a loop, (2) passing tensors with different shapes, (3) passing Python objects instead of tensors. For (1), please define your @tf.function outside of the loop. For (2), @tf.function has reduce_retracing=True option that can avoid unnecessary retracing. For (3), please refer to https://www.tensorflow.org/guide/function#controlling_retracing and https://www.tensorflow.org/api_docs/python/tf/function for  more details.\n"
          ]
        },
        {
          "output_type": "stream",
          "name": "stdout",
          "text": [
            "1/1 [==============================] - 0s 78ms/step\n"
          ]
        },
        {
          "output_type": "execute_result",
          "data": {
            "text/plain": [
              "array([[ 78.153404],\n",
              "       [ 83.29308 ],\n",
              "       [ 88.43276 ],\n",
              "       [ 93.57244 ],\n",
              "       [ 98.71213 ],\n",
              "       [103.85181 ],\n",
              "       [108.991486],\n",
              "       [114.131165],\n",
              "       [119.27085 ],\n",
              "       [124.41053 ]], dtype=float32)"
            ]
          },
          "metadata": {},
          "execution_count": 33
        }
      ]
    },
    {
      "cell_type": "code",
      "source": [
        "y_test"
      ],
      "metadata": {
        "colab": {
          "base_uri": "https://localhost:8080/"
        },
        "id": "Ke-R5lq9zVa3",
        "outputId": "5361605c-1025-4625-b2d7-78136cf76abe"
      },
      "execution_count": 34,
      "outputs": [
        {
          "output_type": "execute_result",
          "data": {
            "text/plain": [
              "<tf.Tensor: shape=(10,), dtype=int32, numpy=array([ 70,  74,  78,  82,  86,  90,  94,  98, 102, 106], dtype=int32)>"
            ]
          },
          "metadata": {},
          "execution_count": 34
        }
      ]
    },
    {
      "cell_type": "markdown",
      "source": [
        "🔑 **Note : ** if you feel like you're going to reuse some functionality in the future, its good idea to turn it into a fucntion"
      ],
      "metadata": {
        "id": "nSO6jWAR09Jt"
      }
    },
    {
      "cell_type": "code",
      "source": [
        "# Lets create a plotting function\n",
        "\n",
        "def plot_predictions(train_data=x_train,\n",
        "                     train_labels=y_train,\n",
        "                     test_data=x_test,\n",
        "                     test_labels=y_test,\n",
        "                     predictions=y_pred):\n",
        "  \"\"\"\n",
        "  Plots training data, test data and compares predictions to ground truth labels\n",
        "  \"\"\"\n",
        "  plt.figure(figsize=(10,7))\n",
        "  # Plot training data in blue\n",
        "  plt.scatter(train_data, train_labels, c=\"b\", label=\"Training data\")\n",
        "\n",
        "  # Plot testing data in green\n",
        "  plt.scatter(test_data, test_labels, c=\"g\", label=\"Test data\")\n",
        "\n",
        "  # Plot models predictions in red\n",
        "  plt.scatter(test_data, predictions, c=\"r\", label=\"Predictions\")\n",
        "\n",
        "  # Show the legend\n",
        "  plt.legend()\n",
        "\n"
      ],
      "metadata": {
        "id": "Wt-qJvPk1MAh"
      },
      "execution_count": 35,
      "outputs": []
    },
    {
      "cell_type": "code",
      "source": [
        "plot_predictions()"
      ],
      "metadata": {
        "colab": {
          "base_uri": "https://localhost:8080/",
          "height": 481
        },
        "id": "7ZFYZPV5200S",
        "outputId": "ea047ac2-ef13-4ef7-fd5a-59f78bd63f8e"
      },
      "execution_count": 36,
      "outputs": [
        {
          "output_type": "display_data",
          "data": {
            "text/plain": [
              "<Figure size 1000x700 with 1 Axes>"
            ],
            "image/png": "[encoded data removed]"
          },
          "metadata": {}
        }
      ]
    },
    {
      "cell_type": "markdown",
      "source": [
        "### Evaluating our models predictions with regression evaluation metrics\n",
        "\n",
        "The evaluation metrics is depending to the model we working on\n",
        "\n",
        "since we're working on a regression, two of the main matrics:\n",
        "* MAE - mean absolute error, \"on average, how wrong is each of my model predictions\"\n",
        "\n",
        "* MSE - mean square error, \"square the average errors\""
      ],
      "metadata": {
        "id": "xWQ92ZRr4V_K"
      }
    },
    {
      "cell_type": "code",
      "source": [
        " # Evaluate the model on the test\n",
        " model_1.evaluate(x_test, y_test)"
      ],
      "metadata": {
        "id": "y3-bYOHr0p-A",
        "colab": {
          "base_uri": "https://localhost:8080/"
        },
        "outputId": "b4b07781-ae3b-4582-fa11-b3f0acc1054f"
      },
      "execution_count": 37,
      "outputs": [
        {
          "output_type": "stream",
          "name": "stdout",
          "text": [
            "1/1 [==============================] - 0s 245ms/step - loss: 13.2820 - mae: 13.2820\n"
          ]
        },
        {
          "output_type": "execute_result",
          "data": {
            "text/plain": [
              "[13.281967163085938, 13.281967163085938]"
            ]
          },
          "metadata": {},
          "execution_count": 37
        }
      ]
    },
    {
      "cell_type": "code",
      "source": [
        "# Calculate the mean absolute error\n",
        "mae = tf.metrics.mean_absolute_error(y_true=y_test, y_pred=tf.constant(y_pred))\n",
        "mae"
      ],
      "metadata": {
        "colab": {
          "base_uri": "https://localhost:8080/"
        },
        "id": "bAwZ_yTfPV4C",
        "outputId": "ab5fdff7-0274-4643-aa12-95f55ff3cab0"
      },
      "execution_count": 38,
      "outputs": [
        {
          "output_type": "execute_result",
          "data": {
            "text/plain": [
              "<tf.Tensor: shape=(10,), dtype=float32, numpy=\n",
              "array([12.338638, 10.541384, 10.      , 10.714488, 12.827276, 16.281445,\n",
              "       20.991486, 26.131165, 31.27085 , 36.41053 ], dtype=float32)>"
            ]
          },
          "metadata": {},
          "execution_count": 38
        }
      ]
    },
    {
      "cell_type": "code",
      "source": [
        "tf.constant(y_pred)"
      ],
      "metadata": {
        "colab": {
          "base_uri": "https://localhost:8080/"
        },
        "id": "v6CpJX1IPiwj",
        "outputId": "5fafd655-126b-4b74-c9e1-1cbdf9c68846"
      },
      "execution_count": 39,
      "outputs": [
        {
          "output_type": "execute_result",
          "data": {
            "text/plain": [
              "<tf.Tensor: shape=(10, 1), dtype=float32, numpy=\n",
              "array([[ 78.153404],\n",
              "       [ 83.29308 ],\n",
              "       [ 88.43276 ],\n",
              "       [ 93.57244 ],\n",
              "       [ 98.71213 ],\n",
              "       [103.85181 ],\n",
              "       [108.991486],\n",
              "       [114.131165],\n",
              "       [119.27085 ],\n",
              "       [124.41053 ]], dtype=float32)>"
            ]
          },
          "metadata": {},
          "execution_count": 39
        }
      ]
    },
    {
      "cell_type": "code",
      "source": [
        "y_test"
      ],
      "metadata": {
        "colab": {
          "base_uri": "https://localhost:8080/"
        },
        "id": "JusnDI5oPlKR",
        "outputId": "2e809d35-f002-4a28-99ea-fe5091f8ffa7"
      },
      "execution_count": 40,
      "outputs": [
        {
          "output_type": "execute_result",
          "data": {
            "text/plain": [
              "<tf.Tensor: shape=(10,), dtype=int32, numpy=array([ 70,  74,  78,  82,  86,  90,  94,  98, 102, 106], dtype=int32)>"
            ]
          },
          "metadata": {},
          "execution_count": 40
        }
      ]
    },
    {
      "cell_type": "code",
      "source": [
        "tf.squeeze(y_pred)"
      ],
      "metadata": {
        "colab": {
          "base_uri": "https://localhost:8080/"
        },
        "id": "WqQJPNiwyi56",
        "outputId": "37f96499-2ea8-49a0-f6e2-68f2a970b8ea"
      },
      "execution_count": 41,
      "outputs": [
        {
          "output_type": "execute_result",
          "data": {
            "text/plain": [
              "<tf.Tensor: shape=(10,), dtype=float32, numpy=\n",
              "array([ 78.153404,  83.29308 ,  88.43276 ,  93.57244 ,  98.71213 ,\n",
              "       103.85181 , 108.991486, 114.131165, 119.27085 , 124.41053 ],\n",
              "      dtype=float32)>"
            ]
          },
          "metadata": {},
          "execution_count": 41
        }
      ]
    },
    {
      "cell_type": "code",
      "source": [
        "# Calculate the mean absolute error\n",
        "\n",
        "mae = tf.metrics.mean_absolute_error(y_true=y_test, y_pred=tf.squeeze(y_pred))\n",
        "\n",
        "mae"
      ],
      "metadata": {
        "colab": {
          "base_uri": "https://localhost:8080/"
        },
        "id": "uUT4LV7uypPs",
        "outputId": "99c83c17-3509-4099-ce0c-669ea22cf8c7"
      },
      "execution_count": 42,
      "outputs": [
        {
          "output_type": "execute_result",
          "data": {
            "text/plain": [
              "<tf.Tensor: shape=(), dtype=float32, numpy=13.281965>"
            ]
          },
          "metadata": {},
          "execution_count": 42
        }
      ]
    },
    {
      "cell_type": "code",
      "source": [
        "# Calculate the mean square error\n",
        "\n",
        "mse = tf.metrics.mean_squared_error(y_true=y_test, y_pred=tf.squeeze(y_pred))\n",
        "mse"
      ],
      "metadata": {
        "id": "QpelDvIC2Nvg",
        "colab": {
          "base_uri": "https://localhost:8080/"
        },
        "outputId": "d93b033e-79c6-4479-e01f-bdad4da65443"
      },
      "execution_count": 43,
      "outputs": [
        {
          "output_type": "execute_result",
          "data": {
            "text/plain": [
              "<tf.Tensor: shape=(), dtype=float32, numpy=187.12631>"
            ]
          },
          "metadata": {},
          "execution_count": 43
        }
      ]
    },
    {
      "cell_type": "code",
      "source": [
        "# Make fucntion to reuse MAE and MSE\n",
        "def mae(y_true, y_pred):\n",
        "  return tf.metrics.mean_absolute_error(y_true=y_true,\n",
        "                                      y_pred=tf.squeeze(y_pred))\n",
        "\n",
        "def mse(y_true,y_pred):\n",
        "  return tf.metrics.mean_squared_error(y_true=y_true,\n",
        "                                       y_pred=tf.squeeze(y_pred))"
      ],
      "metadata": {
        "id": "oCsUvdVW2yQL"
      },
      "execution_count": 44,
      "outputs": []
    },
    {
      "cell_type": "markdown",
      "source": [
        "### Running experiments to improve our model\n",
        "\n",
        "1. Get more data - get more example for model\n",
        "\n",
        "2. Make your model larger (using a more complex model) - matbe more layers or hidden units\n",
        "\n",
        "3. Train for longer - give model more chance to find patterns in data\n",
        "\n",
        "Let's do 3 modelling experiment L\n",
        "\n",
        "1. 'model_1' - same as the origin, 1 layer, trained for 100 epochs\n",
        "\n",
        "2. 'model_2' - 2 layers, trained for 100 epochs\n",
        "\n",
        "3. 'model_3' - 2 layers, rained for 500 epochs"
      ],
      "metadata": {
        "id": "U73RgqjhN1Gb"
      }
    },
    {
      "cell_type": "code",
      "source": [
        "x_train, y_train"
      ],
      "metadata": {
        "colab": {
          "base_uri": "https://localhost:8080/"
        },
        "id": "ZRYFc01nOexa",
        "outputId": "d91e160a-8cfe-469f-80a4-fb79fe779d74"
      },
      "execution_count": 45,
      "outputs": [
        {
          "output_type": "execute_result",
          "data": {
            "text/plain": [
              "(<tf.Tensor: shape=(40,), dtype=int32, numpy=\n",
              " array([-100,  -96,  -92,  -88,  -84,  -80,  -76,  -72,  -68,  -64,  -60,\n",
              "         -56,  -52,  -48,  -44,  -40,  -36,  -32,  -28,  -24,  -20,  -16,\n",
              "         -12,   -8,   -4,    0,    4,    8,   12,   16,   20,   24,   28,\n",
              "          32,   36,   40,   44,   48,   52,   56], dtype=int32)>,\n",
              " <tf.Tensor: shape=(40,), dtype=int32, numpy=\n",
              " array([-90, -86, -82, -78, -74, -70, -66, -62, -58, -54, -50, -46, -42,\n",
              "        -38, -34, -30, -26, -22, -18, -14, -10,  -6,  -2,   2,   6,  10,\n",
              "         14,  18,  22,  26,  30,  34,  38,  42,  46,  50,  54,  58,  62,\n",
              "         66], dtype=int32)>)"
            ]
          },
          "metadata": {},
          "execution_count": 45
        }
      ]
    },
    {
      "cell_type": "code",
      "source": [
        "# First build model_1\n",
        "\n",
        "# Ser random seed\n",
        "tf.random.set_seed(42)\n",
        "\n",
        "# 1. Create the model\n",
        "model_1 = tf.keras.Sequential([\n",
        "    tf.keras.layers.Dense(1)\n",
        "])\n",
        "\n",
        "# 2. Compile the model\n",
        "model_1.compile(loss=tf.keras.losses.mae,\n",
        "                optimizer=tf.keras.optimizers.SGD(),\n",
        "                metrics=[\"mae\"],\n",
        "                run_eagerly=True)\n",
        "\n",
        "# 3. FIt the model\n",
        "model_1.fit(tf.expand_dims(x_train, axis=-1), y_train, epochs=100, verbose=0)"
      ],
      "metadata": {
        "colab": {
          "base_uri": "https://localhost:8080/"
        },
        "id": "Bm7GqWOpN77n",
        "outputId": "4a3c2e84-29a4-4431-e0d4-b13863c65169"
      },
      "execution_count": 46,
      "outputs": [
        {
          "output_type": "execute_result",
          "data": {
            "text/plain": [
              "<keras.src.callbacks.History at 0x7a0074af87f0>"
            ]
          },
          "metadata": {},
          "execution_count": 46
        }
      ]
    },
    {
      "cell_type": "code",
      "source": [
        "model_1.predict(tf.reshape(x_test, shape=(-1,1)))"
      ],
      "metadata": {
        "colab": {
          "base_uri": "https://localhost:8080/"
        },
        "id": "vvrhWzRwTr-8",
        "outputId": "3e6b7110-122f-4195-85c0-ec6b33e0b1b1"
      },
      "execution_count": 47,
      "outputs": [
        {
          "output_type": "stream",
          "name": "stdout",
          "text": [
            "1/1 [==============================] - 0s 26ms/step\n"
          ]
        },
        {
          "output_type": "execute_result",
          "data": {
            "text/plain": [
              "array([[ 74.564316],\n",
              "       [ 79.45014 ],\n",
              "       [ 84.33597 ],\n",
              "       [ 89.2218  ],\n",
              "       [ 94.10763 ],\n",
              "       [ 98.99346 ],\n",
              "       [103.87929 ],\n",
              "       [108.765114],\n",
              "       [113.65095 ],\n",
              "       [118.53677 ]], dtype=float32)"
            ]
          },
          "metadata": {},
          "execution_count": 47
        }
      ]
    },
    {
      "cell_type": "code",
      "source": [
        "# Make a plot predictions for model_1\n",
        "\n",
        "# x_test = tf.reshape(x_test, shape=(-1,1))\n",
        "\n",
        "y_preds_1 = model_1.predict(tf.reshape(x_test, shape=(-1,1)))\n",
        "plot_predictions(predictions=y_preds_1)"
      ],
      "metadata": {
        "colab": {
          "base_uri": "https://localhost:8080/",
          "height": 498
        },
        "id": "-VTt2FvCQK0C",
        "outputId": "771450d4-83ee-42a3-c99d-9d1bf9d9acd3"
      },
      "execution_count": 48,
      "outputs": [
        {
          "output_type": "stream",
          "name": "stdout",
          "text": [
            "1/1 [==============================] - 0s 22ms/step\n"
          ]
        },
        {
          "output_type": "display_data",
          "data": {
            "text/plain": [
              "<Figure size 1000x700 with 1 Axes>"
            ],
            "image/png": "[encoded data removed]"
          },
          "metadata": {}
        }
      ]
    },
    {
      "cell_type": "code",
      "source": [
        "# Calculate model_1 evaluation metrics\n",
        "\n",
        "mae_1 = mae(y_test, y_preds_1)\n",
        "mse_1 = mse(y_test, y_preds_1)\n",
        "\n",
        "mae_1, mse_1"
      ],
      "metadata": {
        "colab": {
          "base_uri": "https://localhost:8080/"
        },
        "id": "3u6Og5EaqZEp",
        "outputId": "2b71c5ae-6227-45ea-d7fd-ffffe2fd0e15"
      },
      "execution_count": 49,
      "outputs": [
        {
          "output_type": "execute_result",
          "data": {
            "text/plain": [
              "(<tf.Tensor: shape=(), dtype=float32, numpy=8.550544>,\n",
              " <tf.Tensor: shape=(), dtype=float32, numpy=79.58552>)"
            ]
          },
          "metadata": {},
          "execution_count": 49
        }
      ]
    },
    {
      "cell_type": "markdown",
      "source": [
        "**Build model_2**\n",
        "\n",
        "* 2 dense layers, trained for 100 epochs"
      ],
      "metadata": {
        "id": "3IG91oWhsu7n"
      }
    },
    {
      "cell_type": "code",
      "source": [
        "# Build model_2\n",
        "\n",
        "# Set the random seed\n",
        "tf.random.set_seed(42)\n",
        "\n",
        "# 1. Create model\n",
        "model_2 = tf.keras.Sequential([\n",
        "    tf.keras.layers.Dense(70, name=\"input_layer\"),\n",
        "    tf.keras.layers.Dense(1, name=\"Output_layer\")\n",
        "])\n",
        "\n",
        "# 2. Compile the model\n",
        "\n",
        "model_2.compile(loss = mae,\n",
        "              optimizer = tf.keras.optimizers.SGD(),\n",
        "              metrics = [\"mae\"])"
      ],
      "metadata": {
        "id": "F9HBFkiUvO0E"
      },
      "execution_count": 50,
      "outputs": []
    },
    {
      "cell_type": "code",
      "source": [
        "# 3. Make Train the model\n",
        "model_2.fit(tf.expand_dims(x_train, axis=-1), y_train, epochs=54)"
      ],
      "metadata": {
        "colab": {
          "base_uri": "https://localhost:8080/"
        },
        "id": "xCwKGotyzj8h",
        "outputId": "c284b454-8c38-4ae3-f25c-a10a5e9d4b34"
      },
      "execution_count": 51,
      "outputs": [
        {
          "output_type": "stream",
          "name": "stdout",
          "text": [
            "Epoch 1/54\n",
            "2/2 [==============================] - 1s 12ms/step - loss: 40.8730 - mae: 31.8672\n",
            "Epoch 2/54\n",
            "2/2 [==============================] - 0s 8ms/step - loss: 40.9084 - mae: 40.9658\n",
            "Epoch 3/54\n",
            "2/2 [==============================] - 0s 7ms/step - loss: 51.2039 - mae: 16.7528\n",
            "Epoch 4/54\n",
            "2/2 [==============================] - 0s 9ms/step - loss: 40.6889 - mae: 34.4058\n",
            "Epoch 5/54\n",
            "2/2 [==============================] - 0s 7ms/step - loss: 41.0575 - mae: 40.3971\n",
            "Epoch 6/54\n",
            "2/2 [==============================] - 0s 8ms/step - loss: 41.0382 - mae: 31.1487\n",
            "Epoch 7/54\n",
            "2/2 [==============================] - 0s 9ms/step - loss: 40.7389 - mae: 38.1478\n",
            "Epoch 8/54\n",
            "2/2 [==============================] - 0s 8ms/step - loss: 40.7598 - mae: 32.5623\n",
            "Epoch 9/54\n",
            "2/2 [==============================] - 0s 11ms/step - loss: 44.7600 - mae: 17.3526\n",
            "Epoch 10/54\n",
            "2/2 [==============================] - 0s 9ms/step - loss: 40.4309 - mae: 35.0826\n",
            "Epoch 11/54\n",
            "2/2 [==============================] - 0s 8ms/step - loss: 40.9521 - mae: 39.3316\n",
            "Epoch 12/54\n",
            "2/2 [==============================] - 0s 9ms/step - loss: 51.4255 - mae: 15.3443\n",
            "Epoch 13/54\n",
            "2/2 [==============================] - 0s 10ms/step - loss: 40.7208 - mae: 36.2238\n",
            "Epoch 14/54\n",
            "2/2 [==============================] - 0s 11ms/step - loss: 41.1050 - mae: 30.3329\n",
            "Epoch 15/54\n",
            "2/2 [==============================] - 0s 8ms/step - loss: 40.8551 - mae: 38.4307\n",
            "Epoch 16/54\n",
            "2/2 [==============================] - 0s 8ms/step - loss: 40.8514 - mae: 40.8394\n",
            "Epoch 17/54\n",
            "2/2 [==============================] - 0s 10ms/step - loss: 40.3257 - mae: 34.1145\n",
            "Epoch 18/54\n",
            "2/2 [==============================] - 0s 8ms/step - loss: 40.8365 - mae: 33.4461\n",
            "Epoch 19/54\n",
            "2/2 [==============================] - 0s 8ms/step - loss: 43.1327 - mae: 18.6050\n",
            "Epoch 20/54\n",
            "2/2 [==============================] - 0s 13ms/step - loss: 40.9544 - mae: 32.1883\n",
            "Epoch 21/54\n",
            "2/2 [==============================] - 0s 9ms/step - loss: 40.7352 - mae: 35.4720\n",
            "Epoch 22/54\n",
            "2/2 [==============================] - 0s 9ms/step - loss: 40.6423 - mae: 37.5061\n",
            "Epoch 23/54\n",
            "2/2 [==============================] - 0s 12ms/step - loss: 40.6482 - mae: 38.1688\n",
            "Epoch 24/54\n",
            "2/2 [==============================] - 0s 15ms/step - loss: 40.9916 - mae: 30.6534\n",
            "Epoch 25/54\n",
            "2/2 [==============================] - 0s 13ms/step - loss: 40.8993 - mae: 41.5171\n",
            "Epoch 26/54\n",
            "2/2 [==============================] - 0s 9ms/step - loss: 41.8886 - mae: 26.3984\n",
            "Epoch 27/54\n",
            "2/2 [==============================] - 0s 10ms/step - loss: 40.7376 - mae: 34.8111\n",
            "Epoch 28/54\n",
            "2/2 [==============================] - 0s 12ms/step - loss: 42.1166 - mae: 24.5143\n",
            "Epoch 29/54\n",
            "2/2 [==============================] - 0s 9ms/step - loss: 40.6916 - mae: 33.9489\n",
            "Epoch 30/54\n",
            "2/2 [==============================] - 0s 9ms/step - loss: 45.0759 - mae: 14.3339\n",
            "Epoch 31/54\n",
            "2/2 [==============================] - 0s 11ms/step - loss: 57.2230 - mae: 15.6430\n",
            "Epoch 32/54\n",
            "2/2 [==============================] - 0s 12ms/step - loss: 41.2245 - mae: 26.7435\n",
            "Epoch 33/54\n",
            "2/2 [==============================] - 0s 12ms/step - loss: 41.1790 - mae: 30.1520\n",
            "Epoch 34/54\n",
            "2/2 [==============================] - 0s 12ms/step - loss: 40.8255 - mae: 32.4844\n",
            "Epoch 35/54\n",
            "2/2 [==============================] - 0s 11ms/step - loss: 40.6166 - mae: 35.0597\n",
            "Epoch 36/54\n",
            "2/2 [==============================] - 0s 9ms/step - loss: 41.6343 - mae: 23.9972\n",
            "Epoch 37/54\n",
            "2/2 [==============================] - 0s 8ms/step - loss: 40.8557 - mae: 32.4282\n",
            "Epoch 38/54\n",
            "2/2 [==============================] - 0s 9ms/step - loss: 40.6563 - mae: 34.5303\n",
            "Epoch 39/54\n",
            "2/2 [==============================] - 0s 9ms/step - loss: 40.7275 - mae: 34.1075\n",
            "Epoch 40/54\n",
            "2/2 [==============================] - 0s 9ms/step - loss: 40.8635 - mae: 32.8621\n",
            "Epoch 41/54\n",
            "2/2 [==============================] - 0s 11ms/step - loss: 40.3742 - mae: 33.7884\n",
            "Epoch 42/54\n",
            "2/2 [==============================] - 0s 10ms/step - loss: 40.7182 - mae: 34.7276\n",
            "Epoch 43/54\n",
            "2/2 [==============================] - 0s 8ms/step - loss: 40.5566 - mae: 36.8092\n",
            "Epoch 44/54\n",
            "2/2 [==============================] - 0s 9ms/step - loss: 41.0227 - mae: 30.0420\n",
            "Epoch 45/54\n",
            "2/2 [==============================] - 0s 9ms/step - loss: 41.0577 - mae: 30.8728\n",
            "Epoch 46/54\n",
            "2/2 [==============================] - 0s 13ms/step - loss: 40.6971 - mae: 33.3997\n",
            "Epoch 47/54\n",
            "2/2 [==============================] - 0s 8ms/step - loss: 40.7104 - mae: 34.6847\n",
            "Epoch 48/54\n",
            "2/2 [==============================] - 0s 13ms/step - loss: 40.6688 - mae: 37.3451\n",
            "Epoch 49/54\n",
            "2/2 [==============================] - 0s 9ms/step - loss: 40.6602 - mae: 37.1252\n",
            "Epoch 50/54\n",
            "2/2 [==============================] - 0s 8ms/step - loss: 40.5702 - mae: 35.2034\n",
            "Epoch 51/54\n",
            "2/2 [==============================] - 0s 8ms/step - loss: 40.6741 - mae: 37.2872\n",
            "Epoch 52/54\n",
            "2/2 [==============================] - 0s 8ms/step - loss: 40.5893 - mae: 35.2969\n",
            "Epoch 53/54\n",
            "2/2 [==============================] - 0s 7ms/step - loss: 40.3989 - mae: 27.9901\n",
            "Epoch 54/54\n",
            "2/2 [==============================] - 0s 8ms/step - loss: 43.6024 - mae: 18.0639\n"
          ]
        },
        {
          "output_type": "execute_result",
          "data": {
            "text/plain": [
              "<keras.src.callbacks.History at 0x7a00749ae410>"
            ]
          },
          "metadata": {},
          "execution_count": 51
        }
      ]
    },
    {
      "cell_type": "code",
      "source": [
        "x_test"
      ],
      "metadata": {
        "colab": {
          "base_uri": "https://localhost:8080/"
        },
        "id": "F4p4SDzi3EAL",
        "outputId": "ef40e2d8-39cd-41c4-8438-7b2966882152"
      },
      "execution_count": 52,
      "outputs": [
        {
          "output_type": "execute_result",
          "data": {
            "text/plain": [
              "<tf.Tensor: shape=(10,), dtype=int32, numpy=array([60, 64, 68, 72, 76, 80, 84, 88, 92, 96], dtype=int32)>"
            ]
          },
          "metadata": {},
          "execution_count": 52
        }
      ]
    },
    {
      "cell_type": "code",
      "source": [
        "y_test"
      ],
      "metadata": {
        "colab": {
          "base_uri": "https://localhost:8080/"
        },
        "id": "pg4Syr7r3HES",
        "outputId": "fb67ffab-8482-465b-d75e-69839e0643db"
      },
      "execution_count": 53,
      "outputs": [
        {
          "output_type": "execute_result",
          "data": {
            "text/plain": [
              "<tf.Tensor: shape=(10,), dtype=int32, numpy=array([ 70,  74,  78,  82,  86,  90,  94,  98, 102, 106], dtype=int32)>"
            ]
          },
          "metadata": {},
          "execution_count": 53
        }
      ]
    },
    {
      "cell_type": "code",
      "source": [
        "model_2.predict(x_test)"
      ],
      "metadata": {
        "colab": {
          "base_uri": "https://localhost:8080/"
        },
        "id": "bvtvcNO03KN2",
        "outputId": "aae9f241-47e8-4ec9-d839-628bc2a5320f"
      },
      "execution_count": 54,
      "outputs": [
        {
          "output_type": "stream",
          "name": "stderr",
          "text": [
            "WARNING:tensorflow:6 out of the last 6 calls to <function Model.make_predict_function.<locals>.predict_function at 0x7a0074c0ab00> triggered tf.function retracing. Tracing is expensive and the excessive number of tracings could be due to (1) creating @tf.function repeatedly in a loop, (2) passing tensors with different shapes, (3) passing Python objects instead of tensors. For (1), please define your @tf.function outside of the loop. For (2), @tf.function has reduce_retracing=True option that can avoid unnecessary retracing. For (3), please refer to https://www.tensorflow.org/guide/function#controlling_retracing and https://www.tensorflow.org/api_docs/python/tf/function for  more details.\n"
          ]
        },
        {
          "output_type": "stream",
          "name": "stdout",
          "text": [
            "1/1 [==============================] - 0s 103ms/step\n"
          ]
        },
        {
          "output_type": "execute_result",
          "data": {
            "text/plain": [
              "array([[32.351322],\n",
              "       [34.522385],\n",
              "       [36.69345 ],\n",
              "       [38.864517],\n",
              "       [41.035576],\n",
              "       [43.206642],\n",
              "       [45.377712],\n",
              "       [47.548767],\n",
              "       [49.719833],\n",
              "       [51.890903]], dtype=float32)"
            ]
          },
          "metadata": {},
          "execution_count": 54
        }
      ]
    },
    {
      "cell_type": "code",
      "source": [
        "# Make and plot predictions of model_2\n",
        "\n",
        "y_preds_2 = model_2.predict(x_test)\n",
        "plot_predictions(predictions=y_preds_2)"
      ],
      "metadata": {
        "colab": {
          "base_uri": "https://localhost:8080/",
          "height": 503
        },
        "id": "qYq7itP01-ur",
        "outputId": "c8867fcf-68f1-4f5b-f668-a4cc754f4acd"
      },
      "execution_count": 55,
      "outputs": [
        {
          "output_type": "stream",
          "name": "stdout",
          "text": [
            "1/1 [==============================] - 0s 33ms/step\n"
          ]
        },
        {
          "output_type": "display_data",
          "data": {
            "text/plain": [
              "<Figure size 1000x700 with 1 Axes>"
            ],
            "image/png": "[encoded data removed]"
          },
          "metadata": {}
        }
      ]
    },
    {
      "cell_type": "code",
      "source": [
        "model_2.summary()"
      ],
      "metadata": {
        "colab": {
          "base_uri": "https://localhost:8080/"
        },
        "id": "nrRhl6kf1o_c",
        "outputId": "23af54a0-e990-4a29-bd98-e64e8b7a0905"
      },
      "execution_count": 56,
      "outputs": [
        {
          "output_type": "stream",
          "name": "stdout",
          "text": [
            "Model: \"sequential_6\"\n",
            "_________________________________________________________________\n",
            " Layer (type)                Output Shape              Param #   \n",
            "=================================================================\n",
            " input_layer (Dense)         (None, 70)                140       \n",
            "                                                                 \n",
            " Output_layer (Dense)        (None, 1)                 71        \n",
            "                                                                 \n",
            "=================================================================\n",
            "Total params: 211 (844.00 Byte)\n",
            "Trainable params: 211 (844.00 Byte)\n",
            "Non-trainable params: 0 (0.00 Byte)\n",
            "_________________________________________________________________\n"
          ]
        }
      ]
    },
    {
      "cell_type": "code",
      "source": [
        "# Calculate model_2 evaluation metrics\n",
        "\n",
        "mae_2 = mae(y_test, y_preds_2)\n",
        "mse_2 = mse(y_test, y_preds_2)\n",
        "\n",
        "mae_2, mse_2"
      ],
      "metadata": {
        "colab": {
          "base_uri": "https://localhost:8080/"
        },
        "id": "C54KgBhY6klJ",
        "outputId": "85b4f459-52ca-487d-bde6-da7c44f3efba"
      },
      "execution_count": 57,
      "outputs": [
        {
          "output_type": "execute_result",
          "data": {
            "text/plain": [
              "(<tf.Tensor: shape=(), dtype=float32, numpy=45.878887>,\n",
              " <tf.Tensor: shape=(), dtype=float32, numpy=2132.4688>)"
            ]
          },
          "metadata": {},
          "execution_count": 57
        }
      ]
    },
    {
      "cell_type": "markdown",
      "source": [
        "**Build model_3**\n",
        "\n",
        "* 2 layers, trained for 500 epochs"
      ],
      "metadata": {
        "id": "UgQW0Vw_Eigq"
      }
    },
    {
      "cell_type": "code",
      "source": [
        "# Build mdoel 3\n",
        "\n",
        "# set random seed\n",
        "tf.random.set_seed(42)\n",
        "\n",
        "# Build the model\n",
        "model_3 = tf.keras.Sequential([\n",
        "    tf.keras.layers.Dense(10),\n",
        "    tf.keras.layers.Dense(1)\n",
        "])\n",
        "\n",
        "# Compile the model\n",
        "model_3.compile(loss=mae,\n",
        "                optimizer = tf.keras.optimizers.SGD(),\n",
        "                metrics=[\"mae\"])"
      ],
      "metadata": {
        "id": "ZDmoG_8fEdZp"
      },
      "execution_count": 58,
      "outputs": []
    },
    {
      "cell_type": "code",
      "source": [
        "# 3. FIt the model\n",
        "model_3.fit(tf.expand_dims(x_train, axis=-1), y_train, epochs=500)\n"
      ],
      "metadata": {
        "colab": {
          "base_uri": "https://localhost:8080/"
        },
        "id": "Xw5ZEQwjFTQF",
        "outputId": "07320e39-7548-4d0a-8529-8fe29d9dfef5"
      },
      "execution_count": 59,
      "outputs": [
        {
          "output_type": "stream",
          "name": "stdout",
          "text": [
            "Epoch 1/500\n",
            "2/2 [==============================] - 1s 18ms/step - loss: 48.7836 - mae: 62.4159\n",
            "Epoch 2/500\n",
            "2/2 [==============================] - 0s 8ms/step - loss: 40.9320 - mae: 41.1518\n",
            "Epoch 3/500\n",
            "2/2 [==============================] - 0s 7ms/step - loss: 51.3954 - mae: 16.9863\n",
            "Epoch 4/500\n",
            "2/2 [==============================] - 0s 10ms/step - loss: 40.6822 - mae: 34.7150\n",
            "Epoch 5/500\n",
            "2/2 [==============================] - 0s 8ms/step - loss: 41.1076 - mae: 40.6194\n",
            "Epoch 6/500\n",
            "2/2 [==============================] - 0s 9ms/step - loss: 40.8548 - mae: 33.0227\n",
            "Epoch 7/500\n",
            "2/2 [==============================] - 0s 7ms/step - loss: 40.7315 - mae: 38.2273\n",
            "Epoch 8/500\n",
            "2/2 [==============================] - 0s 8ms/step - loss: 40.8062 - mae: 32.3721\n",
            "Epoch 9/500\n",
            "2/2 [==============================] - 0s 10ms/step - loss: 46.3578 - mae: 15.3201\n",
            "Epoch 10/500\n",
            "2/2 [==============================] - 0s 8ms/step - loss: 40.4924 - mae: 35.6275\n",
            "Epoch 11/500\n",
            "2/2 [==============================] - 0s 7ms/step - loss: 40.9298 - mae: 39.0423\n",
            "Epoch 12/500\n",
            "2/2 [==============================] - 0s 7ms/step - loss: 51.1315 - mae: 15.0905\n",
            "Epoch 13/500\n",
            "2/2 [==============================] - 0s 6ms/step - loss: 40.7268 - mae: 36.0376\n",
            "Epoch 14/500\n",
            "2/2 [==============================] - 0s 10ms/step - loss: 41.0928 - mae: 30.4117\n",
            "Epoch 15/500\n",
            "2/2 [==============================] - 0s 7ms/step - loss: 40.8448 - mae: 38.3860\n",
            "Epoch 16/500\n",
            "2/2 [==============================] - 0s 7ms/step - loss: 40.8478 - mae: 40.8177\n",
            "Epoch 17/500\n",
            "2/2 [==============================] - 0s 7ms/step - loss: 40.3252 - mae: 34.1817\n",
            "Epoch 18/500\n",
            "2/2 [==============================] - 0s 7ms/step - loss: 40.8251 - mae: 33.4378\n",
            "Epoch 19/500\n",
            "2/2 [==============================] - 0s 8ms/step - loss: 43.0608 - mae: 18.7930\n",
            "Epoch 20/500\n",
            "2/2 [==============================] - 0s 8ms/step - loss: 40.9729 - mae: 31.9948\n",
            "Epoch 21/500\n",
            "2/2 [==============================] - 0s 9ms/step - loss: 40.7357 - mae: 35.3494\n",
            "Epoch 22/500\n",
            "2/2 [==============================] - 0s 7ms/step - loss: 40.6294 - mae: 37.3722\n",
            "Epoch 23/500\n",
            "2/2 [==============================] - 0s 7ms/step - loss: 40.6443 - mae: 38.1379\n",
            "Epoch 24/500\n",
            "2/2 [==============================] - 0s 7ms/step - loss: 40.9805 - mae: 30.7422\n",
            "Epoch 25/500\n",
            "2/2 [==============================] - 0s 9ms/step - loss: 40.8878 - mae: 41.4343\n",
            "Epoch 26/500\n",
            "2/2 [==============================] - 0s 8ms/step - loss: 41.8519 - mae: 26.5140\n",
            "Epoch 27/500\n",
            "2/2 [==============================] - 0s 7ms/step - loss: 40.7336 - mae: 34.6652\n",
            "Epoch 28/500\n",
            "2/2 [==============================] - 0s 6ms/step - loss: 42.1020 - mae: 24.5140\n",
            "Epoch 29/500\n",
            "2/2 [==============================] - 0s 6ms/step - loss: 40.7001 - mae: 33.7145\n",
            "Epoch 30/500\n",
            "2/2 [==============================] - 0s 6ms/step - loss: 44.9599 - mae: 14.4162\n",
            "Epoch 31/500\n",
            "2/2 [==============================] - 0s 6ms/step - loss: 56.9657 - mae: 15.4650\n",
            "Epoch 32/500\n",
            "2/2 [==============================] - 0s 6ms/step - loss: 41.2132 - mae: 26.7919\n",
            "Epoch 33/500\n",
            "2/2 [==============================] - 0s 6ms/step - loss: 41.1787 - mae: 30.1333\n",
            "Epoch 34/500\n",
            "2/2 [==============================] - 0s 6ms/step - loss: 40.8254 - mae: 32.4468\n",
            "Epoch 35/500\n",
            "2/2 [==============================] - 0s 6ms/step - loss: 40.6093 - mae: 35.0499\n",
            "Epoch 36/500\n",
            "2/2 [==============================] - 0s 7ms/step - loss: 41.6112 - mae: 24.1090\n",
            "Epoch 37/500\n",
            "2/2 [==============================] - 0s 9ms/step - loss: 40.8575 - mae: 32.3753\n",
            "Epoch 38/500\n",
            "2/2 [==============================] - 0s 8ms/step - loss: 40.6564 - mae: 34.4638\n",
            "Epoch 39/500\n",
            "2/2 [==============================] - 0s 6ms/step - loss: 40.7261 - mae: 34.0744\n",
            "Epoch 40/500\n",
            "2/2 [==============================] - 0s 6ms/step - loss: 40.8628 - mae: 32.8417\n",
            "Epoch 41/500\n",
            "2/2 [==============================] - 0s 6ms/step - loss: 40.3705 - mae: 33.7700\n",
            "Epoch 42/500\n",
            "2/2 [==============================] - 0s 9ms/step - loss: 40.7155 - mae: 34.7441\n",
            "Epoch 43/500\n",
            "2/2 [==============================] - 0s 7ms/step - loss: 40.5528 - mae: 36.8016\n",
            "Epoch 44/500\n",
            "2/2 [==============================] - 0s 7ms/step - loss: 41.0119 - mae: 30.1130\n",
            "Epoch 45/500\n",
            "2/2 [==============================] - 0s 7ms/step - loss: 41.0487 - mae: 30.9267\n",
            "Epoch 46/500\n",
            "2/2 [==============================] - 0s 7ms/step - loss: 40.6946 - mae: 33.3968\n",
            "Epoch 47/500\n",
            "2/2 [==============================] - 0s 6ms/step - loss: 40.7085 - mae: 34.6679\n",
            "Epoch 48/500\n",
            "2/2 [==============================] - 0s 6ms/step - loss: 40.6654 - mae: 37.3015\n",
            "Epoch 49/500\n",
            "2/2 [==============================] - 0s 6ms/step - loss: 40.6569 - mae: 37.0838\n",
            "Epoch 50/500\n",
            "2/2 [==============================] - 0s 7ms/step - loss: 40.5675 - mae: 35.1814\n",
            "Epoch 51/500\n",
            "2/2 [==============================] - 0s 6ms/step - loss: 40.6703 - mae: 37.2448\n",
            "Epoch 52/500\n",
            "2/2 [==============================] - 0s 6ms/step - loss: 40.5835 - mae: 35.2744\n",
            "Epoch 53/500\n",
            "2/2 [==============================] - 0s 6ms/step - loss: 40.3904 - mae: 28.0353\n",
            "Epoch 54/500\n",
            "2/2 [==============================] - 0s 6ms/step - loss: 43.5519 - mae: 18.1399\n",
            "Epoch 55/500\n",
            "2/2 [==============================] - 0s 7ms/step - loss: 43.4681 - mae: 19.4381\n",
            "Epoch 56/500\n",
            "2/2 [==============================] - 0s 7ms/step - loss: 40.8914 - mae: 29.3730\n",
            "Epoch 57/500\n",
            "2/2 [==============================] - 0s 7ms/step - loss: 40.4274 - mae: 33.4509\n",
            "Epoch 58/500\n",
            "2/2 [==============================] - 0s 7ms/step - loss: 40.6532 - mae: 35.3365\n",
            "Epoch 59/500\n",
            "2/2 [==============================] - 0s 9ms/step - loss: 40.7634 - mae: 35.4824\n",
            "Epoch 60/500\n",
            "2/2 [==============================] - 0s 7ms/step - loss: 40.7044 - mae: 35.1574\n",
            "Epoch 61/500\n",
            "2/2 [==============================] - 0s 7ms/step - loss: 40.6981 - mae: 35.5927\n",
            "Epoch 62/500\n",
            "2/2 [==============================] - 0s 7ms/step - loss: 40.7225 - mae: 36.2115\n",
            "Epoch 63/500\n",
            "2/2 [==============================] - 0s 7ms/step - loss: 40.6336 - mae: 35.5516\n",
            "Epoch 64/500\n",
            "2/2 [==============================] - 0s 7ms/step - loss: 40.7644 - mae: 33.8299\n",
            "Epoch 65/500\n",
            "2/2 [==============================] - 0s 7ms/step - loss: 40.6805 - mae: 34.9490\n",
            "Epoch 66/500\n",
            "2/2 [==============================] - 0s 8ms/step - loss: 40.7975 - mae: 33.5356\n",
            "Epoch 67/500\n",
            "2/2 [==============================] - 0s 6ms/step - loss: 40.7236 - mae: 34.5364\n",
            "Epoch 68/500\n",
            "2/2 [==============================] - 0s 8ms/step - loss: 40.6628 - mae: 35.0103\n",
            "Epoch 69/500\n",
            "2/2 [==============================] - 0s 7ms/step - loss: 40.7227 - mae: 35.0101\n",
            "Epoch 70/500\n",
            "2/2 [==============================] - 0s 6ms/step - loss: 40.6321 - mae: 35.2990\n",
            "Epoch 71/500\n",
            "2/2 [==============================] - 0s 9ms/step - loss: 40.6601 - mae: 37.1077\n",
            "Epoch 72/500\n",
            "2/2 [==============================] - 0s 6ms/step - loss: 40.6976 - mae: 36.8823\n",
            "Epoch 73/500\n",
            "2/2 [==============================] - 0s 6ms/step - loss: 40.6914 - mae: 37.9331\n",
            "Epoch 74/500\n",
            "2/2 [==============================] - 0s 8ms/step - loss: 40.6972 - mae: 37.5989\n",
            "Epoch 75/500\n",
            "2/2 [==============================] - 0s 6ms/step - loss: 40.7162 - mae: 37.9178\n",
            "Epoch 76/500\n",
            "2/2 [==============================] - 0s 8ms/step - loss: 40.6553 - mae: 36.9932\n",
            "Epoch 77/500\n",
            "2/2 [==============================] - 0s 7ms/step - loss: 40.7141 - mae: 38.0065\n",
            "Epoch 78/500\n",
            "2/2 [==============================] - 0s 7ms/step - loss: 40.4427 - mae: 37.6891\n",
            "Epoch 79/500\n",
            "2/2 [==============================] - 0s 6ms/step - loss: 40.5185 - mae: 32.8505\n",
            "Epoch 80/500\n",
            "2/2 [==============================] - 0s 9ms/step - loss: 41.1996 - mae: 29.0147\n",
            "Epoch 81/500\n",
            "2/2 [==============================] - 0s 7ms/step - loss: 39.9406 - mae: 32.4331\n",
            "Epoch 82/500\n",
            "2/2 [==============================] - 0s 7ms/step - loss: 40.6441 - mae: 33.0288\n",
            "Epoch 83/500\n",
            "2/2 [==============================] - 0s 7ms/step - loss: 40.6577 - mae: 35.3354\n",
            "Epoch 84/500\n",
            "2/2 [==============================] - 0s 7ms/step - loss: 40.6838 - mae: 35.5459\n",
            "Epoch 85/500\n",
            "2/2 [==============================] - 0s 7ms/step - loss: 40.7079 - mae: 35.9646\n",
            "Epoch 86/500\n",
            "2/2 [==============================] - 0s 7ms/step - loss: 40.7200 - mae: 36.4464\n",
            "Epoch 87/500\n",
            "2/2 [==============================] - 0s 7ms/step - loss: 40.6861 - mae: 36.4605\n",
            "Epoch 88/500\n",
            "2/2 [==============================] - 0s 7ms/step - loss: 40.7093 - mae: 36.3843\n",
            "Epoch 89/500\n",
            "2/2 [==============================] - 0s 6ms/step - loss: 40.7068 - mae: 37.4187\n",
            "Epoch 90/500\n",
            "2/2 [==============================] - 0s 7ms/step - loss: 40.6914 - mae: 37.5749\n",
            "Epoch 91/500\n",
            "2/2 [==============================] - 0s 6ms/step - loss: 40.6706 - mae: 37.4340\n",
            "Epoch 92/500\n",
            "2/2 [==============================] - 0s 9ms/step - loss: 40.6887 - mae: 37.2599\n",
            "Epoch 93/500\n",
            "2/2 [==============================] - 0s 9ms/step - loss: 40.6411 - mae: 37.2072\n",
            "Epoch 94/500\n",
            "2/2 [==============================] - 0s 10ms/step - loss: 40.6904 - mae: 36.2229\n",
            "Epoch 95/500\n",
            "2/2 [==============================] - 0s 7ms/step - loss: 40.7437 - mae: 35.4683\n",
            "Epoch 96/500\n",
            "2/2 [==============================] - 0s 7ms/step - loss: 40.5824 - mae: 34.9520\n",
            "Epoch 97/500\n",
            "2/2 [==============================] - 0s 7ms/step - loss: 40.7020 - mae: 35.8233\n",
            "Epoch 98/500\n",
            "2/2 [==============================] - 0s 8ms/step - loss: 40.6614 - mae: 36.4830\n",
            "Epoch 99/500\n",
            "2/2 [==============================] - 0s 7ms/step - loss: 40.6668 - mae: 36.5132\n",
            "Epoch 100/500\n",
            "2/2 [==============================] - 0s 7ms/step - loss: 40.7128 - mae: 35.3860\n",
            "Epoch 101/500\n",
            "2/2 [==============================] - 0s 6ms/step - loss: 40.6892 - mae: 36.0287\n",
            "Epoch 102/500\n",
            "2/2 [==============================] - 0s 7ms/step - loss: 40.5078 - mae: 36.6237\n",
            "Epoch 103/500\n",
            "2/2 [==============================] - 0s 7ms/step - loss: 40.5890 - mae: 36.9833\n",
            "Epoch 104/500\n",
            "2/2 [==============================] - 0s 7ms/step - loss: 40.6978 - mae: 35.3720\n",
            "Epoch 105/500\n",
            "2/2 [==============================] - 0s 7ms/step - loss: 40.6487 - mae: 36.1654\n",
            "Epoch 106/500\n",
            "2/2 [==============================] - 0s 7ms/step - loss: 40.6379 - mae: 36.2875\n",
            "Epoch 107/500\n",
            "2/2 [==============================] - 0s 7ms/step - loss: 40.6899 - mae: 34.9270\n",
            "Epoch 108/500\n",
            "2/2 [==============================] - 0s 7ms/step - loss: 40.7269 - mae: 34.3362\n",
            "Epoch 109/500\n",
            "2/2 [==============================] - 0s 7ms/step - loss: 40.6449 - mae: 33.3683\n",
            "Epoch 110/500\n",
            "2/2 [==============================] - 0s 7ms/step - loss: 40.6914 - mae: 34.7167\n",
            "Epoch 111/500\n",
            "2/2 [==============================] - 0s 7ms/step - loss: 40.6191 - mae: 35.0228\n",
            "Epoch 112/500\n",
            "2/2 [==============================] - 0s 7ms/step - loss: 40.4486 - mae: 35.3119\n",
            "Epoch 113/500\n",
            "2/2 [==============================] - 0s 7ms/step - loss: 40.4928 - mae: 32.3946\n",
            "Epoch 114/500\n",
            "2/2 [==============================] - 0s 6ms/step - loss: 41.0468 - mae: 30.9880\n",
            "Epoch 115/500\n",
            "2/2 [==============================] - 0s 7ms/step - loss: 40.9242 - mae: 31.6905\n",
            "Epoch 116/500\n",
            "2/2 [==============================] - 0s 7ms/step - loss: 40.6519 - mae: 33.0628\n",
            "Epoch 117/500\n",
            "2/2 [==============================] - 0s 7ms/step - loss: 40.5753 - mae: 34.5624\n",
            "Epoch 118/500\n",
            "2/2 [==============================] - 0s 7ms/step - loss: 40.5554 - mae: 35.1234\n",
            "Epoch 119/500\n",
            "2/2 [==============================] - 0s 7ms/step - loss: 40.0759 - mae: 35.9780\n",
            "Epoch 120/500\n",
            "2/2 [==============================] - 0s 7ms/step - loss: 41.3250 - mae: 27.9710\n",
            "Epoch 121/500\n",
            "2/2 [==============================] - 0s 6ms/step - loss: 39.9548 - mae: 32.0483\n",
            "Epoch 122/500\n",
            "2/2 [==============================] - 0s 6ms/step - loss: 41.2550 - mae: 24.8648\n",
            "Epoch 123/500\n",
            "2/2 [==============================] - 0s 6ms/step - loss: 41.9982 - mae: 24.3890\n",
            "Epoch 124/500\n",
            "2/2 [==============================] - 0s 7ms/step - loss: 41.3655 - mae: 27.7934\n",
            "Epoch 125/500\n",
            "2/2 [==============================] - 0s 9ms/step - loss: 40.6434 - mae: 30.5692\n",
            "Epoch 126/500\n",
            "2/2 [==============================] - 0s 8ms/step - loss: 40.8324 - mae: 32.6729\n",
            "Epoch 127/500\n",
            "2/2 [==============================] - 0s 6ms/step - loss: 40.2804 - mae: 33.4795\n",
            "Epoch 128/500\n",
            "2/2 [==============================] - 0s 11ms/step - loss: 41.3226 - mae: 28.5281\n",
            "Epoch 129/500\n",
            "2/2 [==============================] - 0s 7ms/step - loss: 40.4039 - mae: 30.3200\n",
            "Epoch 130/500\n",
            "2/2 [==============================] - 0s 7ms/step - loss: 41.2404 - mae: 28.9001\n",
            "Epoch 131/500\n",
            "2/2 [==============================] - 0s 9ms/step - loss: 40.8135 - mae: 30.8675\n",
            "Epoch 132/500\n",
            "2/2 [==============================] - 0s 9ms/step - loss: 40.8485 - mae: 31.5532\n",
            "Epoch 133/500\n",
            "2/2 [==============================] - 0s 8ms/step - loss: 40.5256 - mae: 32.9330\n",
            "Epoch 134/500\n",
            "2/2 [==============================] - 0s 7ms/step - loss: 41.0473 - mae: 30.1294\n",
            "Epoch 135/500\n",
            "2/2 [==============================] - 0s 8ms/step - loss: 40.7441 - mae: 32.7501\n",
            "Epoch 136/500\n",
            "2/2 [==============================] - 0s 7ms/step - loss: 40.7159 - mae: 33.3106\n",
            "Epoch 137/500\n",
            "2/2 [==============================] - 0s 11ms/step - loss: 40.0159 - mae: 32.6031\n",
            "Epoch 138/500\n",
            "2/2 [==============================] - 0s 8ms/step - loss: 40.4331 - mae: 32.1909\n",
            "Epoch 139/500\n",
            "2/2 [==============================] - 0s 14ms/step - loss: 40.8314 - mae: 32.5513\n",
            "Epoch 140/500\n",
            "2/2 [==============================] - 0s 10ms/step - loss: 40.7354 - mae: 33.4379\n",
            "Epoch 141/500\n",
            "2/2 [==============================] - 0s 9ms/step - loss: 40.1661 - mae: 33.9387\n",
            "Epoch 142/500\n",
            "2/2 [==============================] - 0s 9ms/step - loss: 40.6912 - mae: 30.3484\n",
            "Epoch 143/500\n",
            "2/2 [==============================] - 0s 8ms/step - loss: 40.5160 - mae: 28.1186\n",
            "Epoch 144/500\n",
            "2/2 [==============================] - 0s 7ms/step - loss: 40.6103 - mae: 30.9698\n",
            "Epoch 145/500\n",
            "2/2 [==============================] - 0s 8ms/step - loss: 41.4535 - mae: 26.5314\n",
            "Epoch 146/500\n",
            "2/2 [==============================] - 0s 8ms/step - loss: 39.9549 - mae: 31.6578\n",
            "Epoch 147/500\n",
            "2/2 [==============================] - 0s 8ms/step - loss: 40.2728 - mae: 32.5133\n",
            "Epoch 148/500\n",
            "2/2 [==============================] - 0s 8ms/step - loss: 40.6203 - mae: 30.5467\n",
            "Epoch 149/500\n",
            "2/2 [==============================] - 0s 8ms/step - loss: 40.7219 - mae: 32.4190\n",
            "Epoch 150/500\n",
            "2/2 [==============================] - 0s 9ms/step - loss: 39.9995 - mae: 33.5481\n",
            "Epoch 151/500\n",
            "2/2 [==============================] - 0s 8ms/step - loss: 41.0267 - mae: 30.6476\n",
            "Epoch 152/500\n",
            "2/2 [==============================] - 0s 8ms/step - loss: 40.8149 - mae: 32.3320\n",
            "Epoch 153/500\n",
            "2/2 [==============================] - 0s 9ms/step - loss: 40.3764 - mae: 31.9324\n",
            "Epoch 154/500\n",
            "2/2 [==============================] - 0s 7ms/step - loss: 40.8257 - mae: 32.4455\n",
            "Epoch 155/500\n",
            "2/2 [==============================] - 0s 9ms/step - loss: 40.6860 - mae: 33.6108\n",
            "Epoch 156/500\n",
            "2/2 [==============================] - 0s 12ms/step - loss: 40.4340 - mae: 33.0563\n",
            "Epoch 157/500\n",
            "2/2 [==============================] - 0s 10ms/step - loss: 40.7118 - mae: 31.4918\n",
            "Epoch 158/500\n",
            "2/2 [==============================] - 0s 8ms/step - loss: 40.4204 - mae: 32.3619\n",
            "Epoch 159/500\n",
            "2/2 [==============================] - 0s 7ms/step - loss: 40.6209 - mae: 34.1302\n",
            "Epoch 160/500\n",
            "2/2 [==============================] - 0s 9ms/step - loss: 40.7265 - mae: 33.9356\n",
            "Epoch 161/500\n",
            "2/2 [==============================] - 0s 8ms/step - loss: 40.6794 - mae: 33.8899\n",
            "Epoch 162/500\n",
            "2/2 [==============================] - 0s 9ms/step - loss: 40.6180 - mae: 34.4540\n",
            "Epoch 163/500\n",
            "2/2 [==============================] - 0s 7ms/step - loss: 40.7255 - mae: 33.5194\n",
            "Epoch 164/500\n",
            "2/2 [==============================] - 0s 8ms/step - loss: 40.4749 - mae: 34.1624\n",
            "Epoch 165/500\n",
            "2/2 [==============================] - 0s 7ms/step - loss: 40.6435 - mae: 35.3829\n",
            "Epoch 166/500\n",
            "2/2 [==============================] - 0s 8ms/step - loss: 40.5824 - mae: 35.4995\n",
            "Epoch 167/500\n",
            "2/2 [==============================] - 0s 10ms/step - loss: 40.7158 - mae: 34.5610\n",
            "Epoch 168/500\n",
            "2/2 [==============================] - 0s 9ms/step - loss: 40.6865 - mae: 35.3086\n",
            "Epoch 169/500\n",
            "2/2 [==============================] - 0s 9ms/step - loss: 40.6639 - mae: 35.5996\n",
            "Epoch 170/500\n",
            "2/2 [==============================] - 0s 8ms/step - loss: 40.6550 - mae: 35.5703\n",
            "Epoch 171/500\n",
            "2/2 [==============================] - 0s 8ms/step - loss: 40.6351 - mae: 35.5164\n",
            "Epoch 172/500\n",
            "2/2 [==============================] - 0s 9ms/step - loss: 40.5013 - mae: 35.6589\n",
            "Epoch 173/500\n",
            "2/2 [==============================] - 0s 9ms/step - loss: 40.7009 - mae: 33.5480\n",
            "Epoch 174/500\n",
            "2/2 [==============================] - 0s 10ms/step - loss: 40.5908 - mae: 34.9999\n",
            "Epoch 175/500\n",
            "2/2 [==============================] - 0s 11ms/step - loss: 40.5436 - mae: 34.5900\n",
            "Epoch 176/500\n",
            "2/2 [==============================] - 0s 8ms/step - loss: 40.7970 - mae: 33.4180\n",
            "Epoch 177/500\n",
            "2/2 [==============================] - 0s 8ms/step - loss: 40.7603 - mae: 33.3584\n",
            "Epoch 178/500\n",
            "2/2 [==============================] - 0s 8ms/step - loss: 40.6136 - mae: 33.8310\n",
            "Epoch 179/500\n",
            "2/2 [==============================] - 0s 9ms/step - loss: 40.0390 - mae: 34.5358\n",
            "Epoch 180/500\n",
            "2/2 [==============================] - 0s 7ms/step - loss: 40.6717 - mae: 33.9750\n",
            "Epoch 181/500\n",
            "2/2 [==============================] - 0s 8ms/step - loss: 40.7268 - mae: 33.3337\n",
            "Epoch 182/500\n",
            "2/2 [==============================] - 0s 7ms/step - loss: 40.5137 - mae: 32.6280\n",
            "Epoch 183/500\n",
            "2/2 [==============================] - 0s 7ms/step - loss: 39.8246 - mae: 33.7062\n",
            "Epoch 184/500\n",
            "2/2 [==============================] - 0s 10ms/step - loss: 41.4291 - mae: 26.9969\n",
            "Epoch 185/500\n",
            "2/2 [==============================] - 0s 8ms/step - loss: 40.7766 - mae: 31.4482\n",
            "Epoch 186/500\n",
            "2/2 [==============================] - 0s 11ms/step - loss: 40.4739 - mae: 31.0409\n",
            "Epoch 187/500\n",
            "2/2 [==============================] - 0s 9ms/step - loss: 40.6813 - mae: 33.0696\n",
            "Epoch 188/500\n",
            "2/2 [==============================] - 0s 8ms/step - loss: 40.2947 - mae: 32.0887\n",
            "Epoch 189/500\n",
            "2/2 [==============================] - 0s 8ms/step - loss: 40.7933 - mae: 32.8314\n",
            "Epoch 190/500\n",
            "2/2 [==============================] - 0s 9ms/step - loss: 40.7004 - mae: 34.6664\n",
            "Epoch 191/500\n",
            "2/2 [==============================] - 0s 10ms/step - loss: 40.5933 - mae: 34.9000\n",
            "Epoch 192/500\n",
            "2/2 [==============================] - 0s 10ms/step - loss: 40.3063 - mae: 35.4551\n",
            "Epoch 193/500\n",
            "2/2 [==============================] - 0s 11ms/step - loss: 40.5652 - mae: 33.0769\n",
            "Epoch 194/500\n",
            "2/2 [==============================] - 0s 8ms/step - loss: 40.6460 - mae: 34.2615\n",
            "Epoch 195/500\n",
            "2/2 [==============================] - 0s 9ms/step - loss: 40.5958 - mae: 34.9769\n",
            "Epoch 196/500\n",
            "2/2 [==============================] - 0s 7ms/step - loss: 39.4194 - mae: 33.6904\n",
            "Epoch 197/500\n",
            "2/2 [==============================] - 0s 10ms/step - loss: 40.9342 - mae: 31.7705\n",
            "Epoch 198/500\n",
            "2/2 [==============================] - 0s 9ms/step - loss: 40.4855 - mae: 32.0804\n",
            "Epoch 199/500\n",
            "2/2 [==============================] - 0s 8ms/step - loss: 40.9644 - mae: 30.6139\n",
            "Epoch 200/500\n",
            "2/2 [==============================] - 0s 8ms/step - loss: 40.8854 - mae: 31.7790\n",
            "Epoch 201/500\n",
            "2/2 [==============================] - 0s 7ms/step - loss: 40.1617 - mae: 33.2548\n",
            "Epoch 202/500\n",
            "2/2 [==============================] - 0s 9ms/step - loss: 41.1038 - mae: 29.4543\n",
            "Epoch 203/500\n",
            "2/2 [==============================] - 0s 7ms/step - loss: 40.7593 - mae: 32.3935\n",
            "Epoch 204/500\n",
            "2/2 [==============================] - 0s 7ms/step - loss: 40.8036 - mae: 32.8826\n",
            "Epoch 205/500\n",
            "2/2 [==============================] - 0s 9ms/step - loss: 40.6258 - mae: 33.8725\n",
            "Epoch 206/500\n",
            "2/2 [==============================] - 0s 8ms/step - loss: 40.7014 - mae: 34.7817\n",
            "Epoch 207/500\n",
            "2/2 [==============================] - 0s 8ms/step - loss: 40.4784 - mae: 35.4019\n",
            "Epoch 208/500\n",
            "2/2 [==============================] - 0s 8ms/step - loss: 40.6685 - mae: 33.4318\n",
            "Epoch 209/500\n",
            "2/2 [==============================] - 0s 7ms/step - loss: 40.0529 - mae: 33.8616\n",
            "Epoch 210/500\n",
            "2/2 [==============================] - 0s 7ms/step - loss: 41.0620 - mae: 30.4172\n",
            "Epoch 211/500\n",
            "2/2 [==============================] - 0s 8ms/step - loss: 40.8600 - mae: 31.0068\n",
            "Epoch 212/500\n",
            "2/2 [==============================] - 0s 12ms/step - loss: 40.6494 - mae: 32.9518\n",
            "Epoch 213/500\n",
            "2/2 [==============================] - 0s 10ms/step - loss: 40.6805 - mae: 34.4480\n",
            "Epoch 214/500\n",
            "2/2 [==============================] - 0s 8ms/step - loss: 40.6605 - mae: 34.5167\n",
            "Epoch 215/500\n",
            "2/2 [==============================] - 0s 10ms/step - loss: 40.6782 - mae: 33.9007\n",
            "Epoch 216/500\n",
            "2/2 [==============================] - 0s 8ms/step - loss: 40.5553 - mae: 34.8650\n",
            "Epoch 217/500\n",
            "2/2 [==============================] - 0s 8ms/step - loss: 39.8798 - mae: 34.0180\n",
            "Epoch 218/500\n",
            "2/2 [==============================] - 0s 7ms/step - loss: 40.3899 - mae: 33.4346\n",
            "Epoch 219/500\n",
            "2/2 [==============================] - 0s 8ms/step - loss: 40.7163 - mae: 34.3630\n",
            "Epoch 220/500\n",
            "2/2 [==============================] - 0s 7ms/step - loss: 39.9563 - mae: 34.2214\n",
            "Epoch 221/500\n",
            "2/2 [==============================] - 0s 7ms/step - loss: 40.9932 - mae: 30.2157\n",
            "Epoch 222/500\n",
            "2/2 [==============================] - 0s 9ms/step - loss: 40.7678 - mae: 29.9607\n",
            "Epoch 223/500\n",
            "2/2 [==============================] - 0s 7ms/step - loss: 40.0469 - mae: 32.0027\n",
            "Epoch 224/500\n",
            "2/2 [==============================] - 0s 7ms/step - loss: 40.7408 - mae: 32.6092\n",
            "Epoch 225/500\n",
            "2/2 [==============================] - 0s 7ms/step - loss: 40.6601 - mae: 32.2567\n",
            "Epoch 226/500\n",
            "2/2 [==============================] - 0s 7ms/step - loss: 40.8481 - mae: 32.1537\n",
            "Epoch 227/500\n",
            "2/2 [==============================] - 0s 7ms/step - loss: 40.7628 - mae: 31.8116\n",
            "Epoch 228/500\n",
            "2/2 [==============================] - 0s 8ms/step - loss: 40.4162 - mae: 33.6553\n",
            "Epoch 229/500\n",
            "2/2 [==============================] - 0s 7ms/step - loss: 40.6839 - mae: 34.1231\n",
            "Epoch 230/500\n",
            "2/2 [==============================] - 0s 7ms/step - loss: 40.3964 - mae: 34.9660\n",
            "Epoch 231/500\n",
            "2/2 [==============================] - 0s 7ms/step - loss: 40.8020 - mae: 32.6688\n",
            "Epoch 232/500\n",
            "2/2 [==============================] - 0s 7ms/step - loss: 40.7341 - mae: 33.6154\n",
            "Epoch 233/500\n",
            "2/2 [==============================] - 0s 7ms/step - loss: 40.7177 - mae: 34.1580\n",
            "Epoch 234/500\n",
            "2/2 [==============================] - 0s 7ms/step - loss: 40.4220 - mae: 34.6739\n",
            "Epoch 235/500\n",
            "2/2 [==============================] - 0s 7ms/step - loss: 40.6606 - mae: 33.9522\n",
            "Epoch 236/500\n",
            "2/2 [==============================] - 0s 8ms/step - loss: 40.6221 - mae: 34.2144\n",
            "Epoch 237/500\n",
            "2/2 [==============================] - 0s 7ms/step - loss: 40.4012 - mae: 34.9093\n",
            "Epoch 238/500\n",
            "2/2 [==============================] - 0s 10ms/step - loss: 40.6662 - mae: 34.8877\n",
            "Epoch 239/500\n",
            "2/2 [==============================] - 0s 10ms/step - loss: 40.6588 - mae: 35.3781\n",
            "Epoch 240/500\n",
            "2/2 [==============================] - 0s 11ms/step - loss: 40.6158 - mae: 35.4687\n",
            "Epoch 241/500\n",
            "2/2 [==============================] - 0s 7ms/step - loss: 40.6411 - mae: 35.5132\n",
            "Epoch 242/500\n",
            "2/2 [==============================] - 0s 7ms/step - loss: 40.6109 - mae: 36.2378\n",
            "Epoch 243/500\n",
            "2/2 [==============================] - 0s 10ms/step - loss: 40.4286 - mae: 35.9544\n",
            "Epoch 244/500\n",
            "2/2 [==============================] - 0s 7ms/step - loss: 40.6493 - mae: 36.2087\n",
            "Epoch 245/500\n",
            "2/2 [==============================] - 0s 6ms/step - loss: 40.6345 - mae: 35.6925\n",
            "Epoch 246/500\n",
            "2/2 [==============================] - 0s 6ms/step - loss: 40.5939 - mae: 36.3662\n",
            "Epoch 247/500\n",
            "2/2 [==============================] - 0s 6ms/step - loss: 40.6400 - mae: 35.1808\n",
            "Epoch 248/500\n",
            "2/2 [==============================] - 0s 6ms/step - loss: 40.6604 - mae: 35.3571\n",
            "Epoch 249/500\n",
            "2/2 [==============================] - 0s 6ms/step - loss: 40.5477 - mae: 35.4896\n",
            "Epoch 250/500\n",
            "2/2 [==============================] - 0s 6ms/step - loss: 40.6087 - mae: 33.9458\n",
            "Epoch 251/500\n",
            "2/2 [==============================] - 0s 6ms/step - loss: 40.2250 - mae: 34.3489\n",
            "Epoch 252/500\n",
            "2/2 [==============================] - 0s 7ms/step - loss: 40.9481 - mae: 31.1411\n",
            "Epoch 253/500\n",
            "2/2 [==============================] - 0s 6ms/step - loss: 40.8197 - mae: 31.1157\n",
            "Epoch 254/500\n",
            "2/2 [==============================] - 0s 11ms/step - loss: 40.5328 - mae: 33.1604\n",
            "Epoch 255/500\n",
            "2/2 [==============================] - 0s 7ms/step - loss: 40.9195 - mae: 31.0185\n",
            "Epoch 256/500\n",
            "2/2 [==============================] - 0s 7ms/step - loss: 40.5062 - mae: 31.9786\n",
            "Epoch 257/500\n",
            "2/2 [==============================] - 0s 7ms/step - loss: 40.7351 - mae: 32.5995\n",
            "Epoch 258/500\n",
            "2/2 [==============================] - 0s 7ms/step - loss: 40.6371 - mae: 33.8182\n",
            "Epoch 259/500\n",
            "2/2 [==============================] - 0s 7ms/step - loss: 40.4045 - mae: 33.5958\n",
            "Epoch 260/500\n",
            "2/2 [==============================] - 0s 7ms/step - loss: 40.8547 - mae: 31.1726\n",
            "Epoch 261/500\n",
            "2/2 [==============================] - 0s 7ms/step - loss: 40.1135 - mae: 30.4407\n",
            "Epoch 262/500\n",
            "2/2 [==============================] - 0s 7ms/step - loss: 40.1648 - mae: 30.8618\n",
            "Epoch 263/500\n",
            "2/2 [==============================] - 0s 7ms/step - loss: 40.8846 - mae: 31.6152\n",
            "Epoch 264/500\n",
            "2/2 [==============================] - 0s 7ms/step - loss: 39.9872 - mae: 32.2920\n",
            "Epoch 265/500\n",
            "2/2 [==============================] - 0s 7ms/step - loss: 40.4187 - mae: 32.5305\n",
            "Epoch 266/500\n",
            "2/2 [==============================] - 0s 7ms/step - loss: 40.6193 - mae: 33.4684\n",
            "Epoch 267/500\n",
            "2/2 [==============================] - 0s 7ms/step - loss: 40.6431 - mae: 35.1263\n",
            "Epoch 268/500\n",
            "2/2 [==============================] - 0s 7ms/step - loss: 40.4154 - mae: 34.7322\n",
            "Epoch 269/500\n",
            "2/2 [==============================] - 0s 7ms/step - loss: 40.7905 - mae: 32.4960\n",
            "Epoch 270/500\n",
            "2/2 [==============================] - 0s 7ms/step - loss: 39.9999 - mae: 33.3346\n",
            "Epoch 271/500\n",
            "2/2 [==============================] - 0s 7ms/step - loss: 40.4178 - mae: 33.7408\n",
            "Epoch 272/500\n",
            "2/2 [==============================] - 0s 7ms/step - loss: 40.7282 - mae: 32.7377\n",
            "Epoch 273/500\n",
            "2/2 [==============================] - 0s 7ms/step - loss: 40.5798 - mae: 34.4335\n",
            "Epoch 274/500\n",
            "2/2 [==============================] - 0s 7ms/step - loss: 39.8993 - mae: 35.0291\n",
            "Epoch 275/500\n",
            "2/2 [==============================] - 0s 7ms/step - loss: 41.1308 - mae: 29.6390\n",
            "Epoch 276/500\n",
            "2/2 [==============================] - 0s 7ms/step - loss: 40.9460 - mae: 30.9785\n",
            "Epoch 277/500\n",
            "2/2 [==============================] - 0s 7ms/step - loss: 40.2271 - mae: 32.6253\n",
            "Epoch 278/500\n",
            "2/2 [==============================] - 0s 7ms/step - loss: 40.7936 - mae: 33.0342\n",
            "Epoch 279/500\n",
            "2/2 [==============================] - 0s 8ms/step - loss: 40.6654 - mae: 32.8711\n",
            "Epoch 280/500\n",
            "2/2 [==============================] - 0s 8ms/step - loss: 40.8534 - mae: 32.0579\n",
            "Epoch 281/500\n",
            "2/2 [==============================] - 0s 8ms/step - loss: 40.7076 - mae: 33.1227\n",
            "Epoch 282/500\n",
            "2/2 [==============================] - 0s 10ms/step - loss: 40.6943 - mae: 33.3579\n",
            "Epoch 283/500\n",
            "2/2 [==============================] - 0s 8ms/step - loss: 40.5519 - mae: 34.7877\n",
            "Epoch 284/500\n",
            "2/2 [==============================] - 0s 8ms/step - loss: 40.6038 - mae: 34.3169\n",
            "Epoch 285/500\n",
            "2/2 [==============================] - 0s 9ms/step - loss: 40.5230 - mae: 34.2763\n",
            "Epoch 286/500\n",
            "2/2 [==============================] - 0s 9ms/step - loss: 40.4879 - mae: 33.0707\n",
            "Epoch 287/500\n",
            "2/2 [==============================] - 0s 8ms/step - loss: 40.8938 - mae: 31.4578\n",
            "Epoch 288/500\n",
            "2/2 [==============================] - 0s 8ms/step - loss: 40.6847 - mae: 32.6687\n",
            "Epoch 289/500\n",
            "2/2 [==============================] - 0s 8ms/step - loss: 40.7005 - mae: 33.9736\n",
            "Epoch 290/500\n",
            "2/2 [==============================] - 0s 8ms/step - loss: 40.6501 - mae: 34.8117\n",
            "Epoch 291/500\n",
            "2/2 [==============================] - 0s 8ms/step - loss: 40.5831 - mae: 34.9190\n",
            "Epoch 292/500\n",
            "2/2 [==============================] - 0s 8ms/step - loss: 40.3983 - mae: 35.9729\n",
            "Epoch 293/500\n",
            "2/2 [==============================] - 0s 16ms/step - loss: 40.4553 - mae: 33.6902\n",
            "Epoch 294/500\n",
            "2/2 [==============================] - 0s 8ms/step - loss: 40.8119 - mae: 32.5998\n",
            "Epoch 295/500\n",
            "2/2 [==============================] - 0s 8ms/step - loss: 40.7232 - mae: 33.5271\n",
            "Epoch 296/500\n",
            "2/2 [==============================] - 0s 8ms/step - loss: 40.5291 - mae: 33.5361\n",
            "Epoch 297/500\n",
            "2/2 [==============================] - 0s 8ms/step - loss: 40.6507 - mae: 34.2256\n",
            "Epoch 298/500\n",
            "2/2 [==============================] - 0s 8ms/step - loss: 40.6762 - mae: 33.7323\n",
            "Epoch 299/500\n",
            "2/2 [==============================] - 0s 8ms/step - loss: 40.4056 - mae: 34.3377\n",
            "Epoch 300/500\n",
            "2/2 [==============================] - 0s 8ms/step - loss: 40.4876 - mae: 32.2720\n",
            "Epoch 301/500\n",
            "2/2 [==============================] - 0s 8ms/step - loss: 40.5458 - mae: 29.7051\n",
            "Epoch 302/500\n",
            "2/2 [==============================] - 0s 9ms/step - loss: 40.8463 - mae: 31.5556\n",
            "Epoch 303/500\n",
            "2/2 [==============================] - 0s 8ms/step - loss: 40.9698 - mae: 30.8538\n",
            "Epoch 304/500\n",
            "2/2 [==============================] - 0s 8ms/step - loss: 39.9288 - mae: 31.4448\n",
            "Epoch 305/500\n",
            "2/2 [==============================] - 0s 8ms/step - loss: 40.8843 - mae: 31.2582\n",
            "Epoch 306/500\n",
            "2/2 [==============================] - 0s 8ms/step - loss: 40.7476 - mae: 32.1877\n",
            "Epoch 307/500\n",
            "2/2 [==============================] - 0s 8ms/step - loss: 40.6542 - mae: 33.6053\n",
            "Epoch 308/500\n",
            "2/2 [==============================] - 0s 8ms/step - loss: 40.6984 - mae: 33.9587\n",
            "Epoch 309/500\n",
            "2/2 [==============================] - 0s 8ms/step - loss: 40.6716 - mae: 34.6112\n",
            "Epoch 310/500\n",
            "2/2 [==============================] - 0s 8ms/step - loss: 40.5837 - mae: 35.0466\n",
            "Epoch 311/500\n",
            "2/2 [==============================] - 0s 17ms/step - loss: 40.1152 - mae: 35.7494\n",
            "Epoch 312/500\n",
            "2/2 [==============================] - 0s 7ms/step - loss: 40.8051 - mae: 31.7497\n",
            "Epoch 313/500\n",
            "2/2 [==============================] - 0s 7ms/step - loss: 39.7208 - mae: 31.1346\n",
            "Epoch 314/500\n",
            "2/2 [==============================] - 0s 8ms/step - loss: 40.8489 - mae: 31.4962\n",
            "Epoch 315/500\n",
            "2/2 [==============================] - 0s 8ms/step - loss: 40.7689 - mae: 32.4846\n",
            "Epoch 316/500\n",
            "2/2 [==============================] - 0s 7ms/step - loss: 40.0632 - mae: 34.2130\n",
            "Epoch 317/500\n",
            "2/2 [==============================] - 0s 8ms/step - loss: 40.8782 - mae: 29.9299\n",
            "Epoch 318/500\n",
            "2/2 [==============================] - 0s 12ms/step - loss: 40.9434 - mae: 31.8036\n",
            "Epoch 319/500\n",
            "2/2 [==============================] - 0s 9ms/step - loss: 40.8657 - mae: 31.9009\n",
            "Epoch 320/500\n",
            "2/2 [==============================] - 0s 8ms/step - loss: 40.7091 - mae: 33.6017\n",
            "Epoch 321/500\n",
            "2/2 [==============================] - 0s 7ms/step - loss: 40.2117 - mae: 34.8653\n",
            "Epoch 322/500\n",
            "2/2 [==============================] - 0s 12ms/step - loss: 40.6574 - mae: 34.9480\n",
            "Epoch 323/500\n",
            "2/2 [==============================] - 0s 8ms/step - loss: 40.6569 - mae: 35.2635\n",
            "Epoch 324/500\n",
            "2/2 [==============================] - 0s 8ms/step - loss: 40.5690 - mae: 35.4328\n",
            "Epoch 325/500\n",
            "2/2 [==============================] - 0s 8ms/step - loss: 40.6067 - mae: 34.9216\n",
            "Epoch 326/500\n",
            "2/2 [==============================] - 0s 8ms/step - loss: 40.6033 - mae: 35.0702\n",
            "Epoch 327/500\n",
            "2/2 [==============================] - 0s 8ms/step - loss: 40.3167 - mae: 35.1849\n",
            "Epoch 328/500\n",
            "2/2 [==============================] - 0s 8ms/step - loss: 40.5848 - mae: 35.4365\n",
            "Epoch 329/500\n",
            "2/2 [==============================] - 0s 7ms/step - loss: 40.5420 - mae: 35.8534\n",
            "Epoch 330/500\n",
            "2/2 [==============================] - 0s 7ms/step - loss: 40.5793 - mae: 36.1708\n",
            "Epoch 331/500\n",
            "2/2 [==============================] - 0s 8ms/step - loss: 40.3647 - mae: 35.5515\n",
            "Epoch 332/500\n",
            "2/2 [==============================] - 0s 7ms/step - loss: 40.6591 - mae: 33.9327\n",
            "Epoch 333/500\n",
            "2/2 [==============================] - 0s 8ms/step - loss: 40.6587 - mae: 34.2102\n",
            "Epoch 334/500\n",
            "2/2 [==============================] - 0s 7ms/step - loss: 40.4754 - mae: 34.5796\n",
            "Epoch 335/500\n",
            "2/2 [==============================] - 0s 7ms/step - loss: 40.0096 - mae: 35.1807\n",
            "Epoch 336/500\n",
            "2/2 [==============================] - 0s 8ms/step - loss: 40.8224 - mae: 31.8566\n",
            "Epoch 337/500\n",
            "2/2 [==============================] - 0s 8ms/step - loss: 40.3054 - mae: 33.0335\n",
            "Epoch 338/500\n",
            "2/2 [==============================] - 0s 7ms/step - loss: 40.4671 - mae: 33.0646\n",
            "Epoch 339/500\n",
            "2/2 [==============================] - 0s 10ms/step - loss: 40.4856 - mae: 33.5171\n",
            "Epoch 340/500\n",
            "2/2 [==============================] - 0s 10ms/step - loss: 40.7106 - mae: 33.9640\n",
            "Epoch 341/500\n",
            "2/2 [==============================] - 0s 11ms/step - loss: 40.4505 - mae: 34.6151\n",
            "Epoch 342/500\n",
            "2/2 [==============================] - 0s 8ms/step - loss: 40.1302 - mae: 35.3451\n",
            "Epoch 343/500\n",
            "2/2 [==============================] - 0s 7ms/step - loss: 40.1558 - mae: 34.9009\n",
            "Epoch 344/500\n",
            "2/2 [==============================] - 0s 8ms/step - loss: 39.6020 - mae: 35.2214\n",
            "Epoch 345/500\n",
            "2/2 [==============================] - 0s 9ms/step - loss: 41.3956 - mae: 27.5492\n",
            "Epoch 346/500\n",
            "2/2 [==============================] - 0s 7ms/step - loss: 40.9160 - mae: 30.4073\n",
            "Epoch 347/500\n",
            "2/2 [==============================] - 0s 8ms/step - loss: 40.9443 - mae: 30.6787\n",
            "Epoch 348/500\n",
            "2/2 [==============================] - 0s 9ms/step - loss: 40.6491 - mae: 32.9687\n",
            "Epoch 349/500\n",
            "2/2 [==============================] - 0s 8ms/step - loss: 40.6818 - mae: 34.3229\n",
            "Epoch 350/500\n",
            "2/2 [==============================] - 0s 7ms/step - loss: 39.7838 - mae: 34.5585\n",
            "Epoch 351/500\n",
            "2/2 [==============================] - 0s 7ms/step - loss: 40.8874 - mae: 29.6260\n",
            "Epoch 352/500\n",
            "2/2 [==============================] - 0s 7ms/step - loss: 40.9882 - mae: 30.4970\n",
            "Epoch 353/500\n",
            "2/2 [==============================] - 0s 7ms/step - loss: 40.7681 - mae: 32.2305\n",
            "Epoch 354/500\n",
            "2/2 [==============================] - 0s 8ms/step - loss: 40.6354 - mae: 33.5466\n",
            "Epoch 355/500\n",
            "2/2 [==============================] - 0s 8ms/step - loss: 40.5559 - mae: 34.4592\n",
            "Epoch 356/500\n",
            "2/2 [==============================] - 0s 8ms/step - loss: 40.3146 - mae: 35.1270\n",
            "Epoch 357/500\n",
            "2/2 [==============================] - 0s 8ms/step - loss: 40.2468 - mae: 32.4255\n",
            "Epoch 358/500\n",
            "2/2 [==============================] - 0s 8ms/step - loss: 40.9766 - mae: 30.7134\n",
            "Epoch 359/500\n",
            "2/2 [==============================] - 0s 7ms/step - loss: 40.4095 - mae: 32.2185\n",
            "Epoch 360/500\n",
            "2/2 [==============================] - 0s 7ms/step - loss: 40.7743 - mae: 30.8253\n",
            "Epoch 361/500\n",
            "2/2 [==============================] - 0s 8ms/step - loss: 40.6528 - mae: 33.0092\n",
            "Epoch 362/500\n",
            "2/2 [==============================] - 0s 7ms/step - loss: 40.6165 - mae: 33.0509\n",
            "Epoch 363/500\n",
            "2/2 [==============================] - 0s 8ms/step - loss: 40.3216 - mae: 32.3367\n",
            "Epoch 364/500\n",
            "2/2 [==============================] - 0s 7ms/step - loss: 40.9949 - mae: 29.0648\n",
            "Epoch 365/500\n",
            "2/2 [==============================] - 0s 7ms/step - loss: 40.4122 - mae: 31.6480\n",
            "Epoch 366/500\n",
            "2/2 [==============================] - 0s 8ms/step - loss: 40.0192 - mae: 33.3145\n",
            "Epoch 367/500\n",
            "2/2 [==============================] - 0s 8ms/step - loss: 41.0420 - mae: 29.7129\n",
            "Epoch 368/500\n",
            "2/2 [==============================] - 0s 7ms/step - loss: 40.7419 - mae: 30.9488\n",
            "Epoch 369/500\n",
            "2/2 [==============================] - 0s 7ms/step - loss: 40.7330 - mae: 33.3381\n",
            "Epoch 370/500\n",
            "2/2 [==============================] - 0s 7ms/step - loss: 40.6760 - mae: 33.8442\n",
            "Epoch 371/500\n",
            "2/2 [==============================] - 0s 7ms/step - loss: 40.5029 - mae: 34.1056\n",
            "Epoch 372/500\n",
            "2/2 [==============================] - 0s 8ms/step - loss: 40.5472 - mae: 35.0633\n",
            "Epoch 373/500\n",
            "2/2 [==============================] - 0s 7ms/step - loss: 40.6663 - mae: 34.3575\n",
            "Epoch 374/500\n",
            "2/2 [==============================] - 0s 8ms/step - loss: 40.5653 - mae: 34.6824\n",
            "Epoch 375/500\n",
            "2/2 [==============================] - 0s 8ms/step - loss: 40.5088 - mae: 35.3767\n",
            "Epoch 376/500\n",
            "2/2 [==============================] - 0s 7ms/step - loss: 40.2265 - mae: 35.7905\n",
            "Epoch 377/500\n",
            "2/2 [==============================] - 0s 7ms/step - loss: 40.4515 - mae: 35.7965\n",
            "Epoch 378/500\n",
            "2/2 [==============================] - 0s 8ms/step - loss: 40.5303 - mae: 35.3915\n",
            "Epoch 379/500\n",
            "2/2 [==============================] - 0s 9ms/step - loss: 40.5299 - mae: 34.8396\n",
            "Epoch 380/500\n",
            "2/2 [==============================] - 0s 8ms/step - loss: 40.6869 - mae: 33.8033\n",
            "Epoch 381/500\n",
            "2/2 [==============================] - 0s 7ms/step - loss: 40.5940 - mae: 35.4576\n",
            "Epoch 382/500\n",
            "2/2 [==============================] - 0s 7ms/step - loss: 40.5364 - mae: 35.5907\n",
            "Epoch 383/500\n",
            "2/2 [==============================] - 0s 8ms/step - loss: 40.4297 - mae: 35.1268\n",
            "Epoch 384/500\n",
            "2/2 [==============================] - 0s 8ms/step - loss: 40.1032 - mae: 35.1531\n",
            "Epoch 385/500\n",
            "2/2 [==============================] - 0s 10ms/step - loss: 40.6357 - mae: 34.9333\n",
            "Epoch 386/500\n",
            "2/2 [==============================] - 0s 8ms/step - loss: 40.6164 - mae: 35.0624\n",
            "Epoch 387/500\n",
            "2/2 [==============================] - 0s 7ms/step - loss: 40.5998 - mae: 35.8641\n",
            "Epoch 388/500\n",
            "2/2 [==============================] - 0s 7ms/step - loss: 40.6551 - mae: 35.6172\n",
            "Epoch 389/500\n",
            "2/2 [==============================] - 0s 7ms/step - loss: 40.3096 - mae: 35.4894\n",
            "Epoch 390/500\n",
            "2/2 [==============================] - 0s 12ms/step - loss: 40.8022 - mae: 32.3619\n",
            "Epoch 391/500\n",
            "2/2 [==============================] - 0s 7ms/step - loss: 40.7520 - mae: 33.2740\n",
            "Epoch 392/500\n",
            "2/2 [==============================] - 0s 7ms/step - loss: 40.4601 - mae: 34.5984\n",
            "Epoch 393/500\n",
            "2/2 [==============================] - 0s 7ms/step - loss: 40.6379 - mae: 34.8760\n",
            "Epoch 394/500\n",
            "2/2 [==============================] - 0s 8ms/step - loss: 40.4743 - mae: 35.5898\n",
            "Epoch 395/500\n",
            "2/2 [==============================] - 0s 8ms/step - loss: 40.6668 - mae: 34.2345\n",
            "Epoch 396/500\n",
            "2/2 [==============================] - 0s 9ms/step - loss: 40.4309 - mae: 34.7140\n",
            "Epoch 397/500\n",
            "2/2 [==============================] - 0s 8ms/step - loss: 40.5835 - mae: 34.9549\n",
            "Epoch 398/500\n",
            "2/2 [==============================] - 0s 8ms/step - loss: 40.6500 - mae: 34.4073\n",
            "Epoch 399/500\n",
            "2/2 [==============================] - 0s 9ms/step - loss: 40.4916 - mae: 35.0735\n",
            "Epoch 400/500\n",
            "2/2 [==============================] - 0s 8ms/step - loss: 40.7341 - mae: 33.4015\n",
            "Epoch 401/500\n",
            "2/2 [==============================] - 0s 8ms/step - loss: 39.9361 - mae: 34.1510\n",
            "Epoch 402/500\n",
            "2/2 [==============================] - 0s 7ms/step - loss: 40.4587 - mae: 29.2093\n",
            "Epoch 403/500\n",
            "2/2 [==============================] - 0s 11ms/step - loss: 40.1595 - mae: 31.6003\n",
            "Epoch 404/500\n",
            "2/2 [==============================] - 0s 10ms/step - loss: 41.3490 - mae: 27.5877\n",
            "Epoch 405/500\n",
            "2/2 [==============================] - 0s 11ms/step - loss: 40.7654 - mae: 31.5204\n",
            "Epoch 406/500\n",
            "2/2 [==============================] - 0s 8ms/step - loss: 40.7652 - mae: 32.7490\n",
            "Epoch 407/500\n",
            "2/2 [==============================] - 0s 8ms/step - loss: 40.6598 - mae: 33.8927\n",
            "Epoch 408/500\n",
            "2/2 [==============================] - 0s 12ms/step - loss: 40.1235 - mae: 34.6043\n",
            "Epoch 409/500\n",
            "2/2 [==============================] - 0s 12ms/step - loss: 40.8413 - mae: 30.2701\n",
            "Epoch 410/500\n",
            "2/2 [==============================] - 0s 10ms/step - loss: 40.8812 - mae: 31.2510\n",
            "Epoch 411/500\n",
            "2/2 [==============================] - 0s 11ms/step - loss: 40.6668 - mae: 32.3385\n",
            "Epoch 412/500\n",
            "2/2 [==============================] - 0s 8ms/step - loss: 40.7674 - mae: 32.1566\n",
            "Epoch 413/500\n",
            "2/2 [==============================] - 0s 8ms/step - loss: 40.8376 - mae: 32.4385\n",
            "Epoch 414/500\n",
            "2/2 [==============================] - 0s 7ms/step - loss: 40.6966 - mae: 32.3493\n",
            "Epoch 415/500\n",
            "2/2 [==============================] - 0s 7ms/step - loss: 40.6348 - mae: 33.9242\n",
            "Epoch 416/500\n",
            "2/2 [==============================] - 0s 7ms/step - loss: 40.6375 - mae: 35.0467\n",
            "Epoch 417/500\n",
            "2/2 [==============================] - 0s 6ms/step - loss: 40.6148 - mae: 35.4659\n",
            "Epoch 418/500\n",
            "2/2 [==============================] - 0s 7ms/step - loss: 40.6207 - mae: 35.2295\n",
            "Epoch 419/500\n",
            "2/2 [==============================] - 0s 7ms/step - loss: 40.3687 - mae: 35.4767\n",
            "Epoch 420/500\n",
            "2/2 [==============================] - 0s 6ms/step - loss: 40.6362 - mae: 33.2757\n",
            "Epoch 421/500\n",
            "2/2 [==============================] - 0s 6ms/step - loss: 40.5764 - mae: 34.6139\n",
            "Epoch 422/500\n",
            "2/2 [==============================] - 0s 7ms/step - loss: 40.4840 - mae: 35.0543\n",
            "Epoch 423/500\n",
            "2/2 [==============================] - 0s 7ms/step - loss: 40.6692 - mae: 34.4617\n",
            "Epoch 424/500\n",
            "2/2 [==============================] - 0s 6ms/step - loss: 40.5245 - mae: 35.0822\n",
            "Epoch 425/500\n",
            "2/2 [==============================] - 0s 7ms/step - loss: 40.6539 - mae: 34.7234\n",
            "Epoch 426/500\n",
            "2/2 [==============================] - 0s 6ms/step - loss: 40.3854 - mae: 34.3851\n",
            "Epoch 427/500\n",
            "2/2 [==============================] - 0s 6ms/step - loss: 40.6573 - mae: 34.5430\n",
            "Epoch 428/500\n",
            "2/2 [==============================] - 0s 7ms/step - loss: 40.4442 - mae: 34.8785\n",
            "Epoch 429/500\n",
            "2/2 [==============================] - 0s 6ms/step - loss: 40.2385 - mae: 34.0414\n",
            "Epoch 430/500\n",
            "2/2 [==============================] - 0s 7ms/step - loss: 40.8246 - mae: 30.1497\n",
            "Epoch 431/500\n",
            "2/2 [==============================] - 0s 7ms/step - loss: 40.6413 - mae: 31.4303\n",
            "Epoch 432/500\n",
            "2/2 [==============================] - 0s 7ms/step - loss: 40.7409 - mae: 31.7398\n",
            "Epoch 433/500\n",
            "2/2 [==============================] - 0s 6ms/step - loss: 40.1674 - mae: 33.1857\n",
            "Epoch 434/500\n",
            "2/2 [==============================] - 0s 6ms/step - loss: 41.0496 - mae: 30.1399\n",
            "Epoch 435/500\n",
            "2/2 [==============================] - 0s 6ms/step - loss: 39.8115 - mae: 32.3448\n",
            "Epoch 436/500\n",
            "2/2 [==============================] - 0s 6ms/step - loss: 41.4067 - mae: 26.1739\n",
            "Epoch 437/500\n",
            "2/2 [==============================] - 0s 6ms/step - loss: 41.1524 - mae: 27.9747\n",
            "Epoch 438/500\n",
            "2/2 [==============================] - 0s 6ms/step - loss: 39.6988 - mae: 32.4975\n",
            "Epoch 439/500\n",
            "2/2 [==============================] - 0s 7ms/step - loss: 41.1454 - mae: 25.7754\n",
            "Epoch 440/500\n",
            "2/2 [==============================] - 0s 6ms/step - loss: 41.0807 - mae: 26.0914\n",
            "Epoch 441/500\n",
            "2/2 [==============================] - 0s 6ms/step - loss: 41.1695 - mae: 27.0369\n",
            "Epoch 442/500\n",
            "2/2 [==============================] - 0s 8ms/step - loss: 41.1496 - mae: 28.8940\n",
            "Epoch 443/500\n",
            "2/2 [==============================] - 0s 7ms/step - loss: 40.9017 - mae: 30.9680\n",
            "Epoch 444/500\n",
            "2/2 [==============================] - 0s 7ms/step - loss: 40.2309 - mae: 31.9220\n",
            "Epoch 445/500\n",
            "2/2 [==============================] - 0s 7ms/step - loss: 40.7257 - mae: 33.5571\n",
            "Epoch 446/500\n",
            "2/2 [==============================] - 0s 7ms/step - loss: 40.3381 - mae: 33.2031\n",
            "Epoch 447/500\n",
            "2/2 [==============================] - 0s 7ms/step - loss: 40.3101 - mae: 34.2215\n",
            "Epoch 448/500\n",
            "2/2 [==============================] - 0s 7ms/step - loss: 40.6517 - mae: 34.8510\n",
            "Epoch 449/500\n",
            "2/2 [==============================] - 0s 7ms/step - loss: 40.6128 - mae: 34.8704\n",
            "Epoch 450/500\n",
            "2/2 [==============================] - 0s 7ms/step - loss: 40.5978 - mae: 35.1874\n",
            "Epoch 451/500\n",
            "2/2 [==============================] - 0s 7ms/step - loss: 39.9811 - mae: 35.5549\n",
            "Epoch 452/500\n",
            "2/2 [==============================] - 0s 7ms/step - loss: 40.8147 - mae: 31.0677\n",
            "Epoch 453/500\n",
            "2/2 [==============================] - 0s 7ms/step - loss: 40.9087 - mae: 29.6000\n",
            "Epoch 454/500\n",
            "2/2 [==============================] - 0s 7ms/step - loss: 40.8895 - mae: 30.6397\n",
            "Epoch 455/500\n",
            "2/2 [==============================] - 0s 8ms/step - loss: 40.7103 - mae: 31.9511\n",
            "Epoch 456/500\n",
            "2/2 [==============================] - 0s 8ms/step - loss: 40.6408 - mae: 33.7087\n",
            "Epoch 457/500\n",
            "2/2 [==============================] - 0s 8ms/step - loss: 40.5775 - mae: 33.9462\n",
            "Epoch 458/500\n",
            "2/2 [==============================] - 0s 8ms/step - loss: 40.1839 - mae: 34.7551\n",
            "Epoch 459/500\n",
            "2/2 [==============================] - 0s 7ms/step - loss: 40.7553 - mae: 32.1762\n",
            "Epoch 460/500\n",
            "2/2 [==============================] - 0s 7ms/step - loss: 40.7479 - mae: 32.8757\n",
            "Epoch 461/500\n",
            "2/2 [==============================] - 0s 7ms/step - loss: 40.6485 - mae: 33.7329\n",
            "Epoch 462/500\n",
            "2/2 [==============================] - 0s 7ms/step - loss: 40.6533 - mae: 34.3095\n",
            "Epoch 463/500\n",
            "2/2 [==============================] - 0s 7ms/step - loss: 40.5898 - mae: 34.8131\n",
            "Epoch 464/500\n",
            "2/2 [==============================] - 0s 7ms/step - loss: 40.4263 - mae: 35.4163\n",
            "Epoch 465/500\n",
            "2/2 [==============================] - 0s 7ms/step - loss: 40.4083 - mae: 35.5112\n",
            "Epoch 466/500\n",
            "2/2 [==============================] - 0s 7ms/step - loss: 40.5675 - mae: 35.6382\n",
            "Epoch 467/500\n",
            "2/2 [==============================] - 0s 7ms/step - loss: 40.6463 - mae: 35.1029\n",
            "Epoch 468/500\n",
            "2/2 [==============================] - 0s 8ms/step - loss: 40.5367 - mae: 34.9388\n",
            "Epoch 469/500\n",
            "2/2 [==============================] - 0s 7ms/step - loss: 40.6362 - mae: 34.2070\n",
            "Epoch 470/500\n",
            "2/2 [==============================] - 0s 6ms/step - loss: 40.6307 - mae: 34.3941\n",
            "Epoch 471/500\n",
            "2/2 [==============================] - 0s 10ms/step - loss: 40.5338 - mae: 34.8200\n",
            "Epoch 472/500\n",
            "2/2 [==============================] - 0s 12ms/step - loss: 40.6001 - mae: 35.3551\n",
            "Epoch 473/500\n",
            "2/2 [==============================] - 0s 9ms/step - loss: 40.4667 - mae: 36.0271\n",
            "Epoch 474/500\n",
            "2/2 [==============================] - 0s 10ms/step - loss: 40.5669 - mae: 34.5624\n",
            "Epoch 475/500\n",
            "2/2 [==============================] - 0s 9ms/step - loss: 40.2324 - mae: 34.4524\n",
            "Epoch 476/500\n",
            "2/2 [==============================] - 0s 8ms/step - loss: 40.4570 - mae: 35.1003\n",
            "Epoch 477/500\n",
            "2/2 [==============================] - 0s 7ms/step - loss: 40.6636 - mae: 33.4388\n",
            "Epoch 478/500\n",
            "2/2 [==============================] - 0s 7ms/step - loss: 40.2756 - mae: 32.8103\n",
            "Epoch 479/500\n",
            "2/2 [==============================] - 0s 7ms/step - loss: 40.6670 - mae: 33.4614\n",
            "Epoch 480/500\n",
            "2/2 [==============================] - 0s 6ms/step - loss: 40.7006 - mae: 32.9551\n",
            "Epoch 481/500\n",
            "2/2 [==============================] - 0s 6ms/step - loss: 40.6077 - mae: 33.6407\n",
            "Epoch 482/500\n",
            "2/2 [==============================] - 0s 6ms/step - loss: 40.6361 - mae: 33.3228\n",
            "Epoch 483/500\n",
            "2/2 [==============================] - 0s 7ms/step - loss: 40.3549 - mae: 33.8953\n",
            "Epoch 484/500\n",
            "2/2 [==============================] - 0s 7ms/step - loss: 39.9426 - mae: 31.2453\n",
            "Epoch 485/500\n",
            "2/2 [==============================] - 0s 7ms/step - loss: 40.7038 - mae: 31.7957\n",
            "Epoch 486/500\n",
            "2/2 [==============================] - 0s 7ms/step - loss: 39.9128 - mae: 32.3381\n",
            "Epoch 487/500\n",
            "2/2 [==============================] - 0s 7ms/step - loss: 40.6131 - mae: 32.9320\n",
            "Epoch 488/500\n",
            "2/2 [==============================] - 0s 8ms/step - loss: 39.8367 - mae: 32.0105\n",
            "Epoch 489/500\n",
            "2/2 [==============================] - 0s 7ms/step - loss: 40.4850 - mae: 32.0800\n",
            "Epoch 490/500\n",
            "2/2 [==============================] - 0s 7ms/step - loss: 40.6525 - mae: 34.0549\n",
            "Epoch 491/500\n",
            "2/2 [==============================] - 0s 7ms/step - loss: 40.6423 - mae: 34.6041\n",
            "Epoch 492/500\n",
            "2/2 [==============================] - 0s 7ms/step - loss: 40.6203 - mae: 34.2774\n",
            "Epoch 493/500\n",
            "2/2 [==============================] - 0s 8ms/step - loss: 40.5223 - mae: 34.5469\n",
            "Epoch 494/500\n",
            "2/2 [==============================] - 0s 7ms/step - loss: 40.1758 - mae: 34.9070\n",
            "Epoch 495/500\n",
            "2/2 [==============================] - 0s 6ms/step - loss: 40.5450 - mae: 35.0849\n",
            "Epoch 496/500\n",
            "2/2 [==============================] - 0s 7ms/step - loss: 40.5731 - mae: 35.1480\n",
            "Epoch 497/500\n",
            "2/2 [==============================] - 0s 6ms/step - loss: 40.2578 - mae: 35.3788\n",
            "Epoch 498/500\n",
            "2/2 [==============================] - 0s 6ms/step - loss: 40.8553 - mae: 32.1990\n",
            "Epoch 499/500\n",
            "2/2 [==============================] - 0s 6ms/step - loss: 40.6077 - mae: 32.3172\n",
            "Epoch 500/500\n",
            "2/2 [==============================] - 0s 6ms/step - loss: 39.7448 - mae: 32.3372\n"
          ]
        },
        {
          "output_type": "execute_result",
          "data": {
            "text/plain": [
              "<keras.src.callbacks.History at 0x7a0074c2a860>"
            ]
          },
          "metadata": {},
          "execution_count": 59
        }
      ]
    },
    {
      "cell_type": "code",
      "source": [
        "# Make and plot some predictions\n",
        "\n",
        "y_preds_3 = model_3.predict(x_test)\n",
        "plot_predictions(predictions = y_preds_3)"
      ],
      "metadata": {
        "colab": {
          "base_uri": "https://localhost:8080/",
          "height": 503
        },
        "id": "uKfdkv17FlEB",
        "outputId": "d8236fcd-9b32-4502-c74d-bfe77cc885f1"
      },
      "execution_count": 60,
      "outputs": [
        {
          "output_type": "stream",
          "name": "stdout",
          "text": [
            "1/1 [==============================] - 0s 79ms/step\n"
          ]
        },
        {
          "output_type": "display_data",
          "data": {
            "text/plain": [
              "<Figure size 1000x700 with 1 Axes>"
            ],
            "image/png": "[encoded data removed]"
          },
          "metadata": {}
        }
      ]
    },
    {
      "cell_type": "code",
      "source": [
        "# Calculate model_3 evaluation metrics\n",
        "\n",
        "mae_3 = mae(y_test, y_preds_3)\n",
        "mse_3 = mse(y_test, y_preds_3)\n",
        "mae_3, mse_3"
      ],
      "metadata": {
        "colab": {
          "base_uri": "https://localhost:8080/"
        },
        "id": "AZTlLn1rGIGp",
        "outputId": "e4e1e630-c534-4f63-d32f-ffd4b47fc662"
      },
      "execution_count": 61,
      "outputs": [
        {
          "output_type": "execute_result",
          "data": {
            "text/plain": [
              "(<tf.Tensor: shape=(), dtype=float32, numpy=63.961792>,\n",
              " <tf.Tensor: shape=(), dtype=float32, numpy=4151.059>)"
            ]
          },
          "metadata": {},
          "execution_count": 61
        }
      ]
    },
    {
      "cell_type": "markdown",
      "source": [
        "## Comparing the results of out experiments\n",
        "\n"
      ],
      "metadata": {
        "id": "AAy24eLdG11d"
      }
    },
    {
      "cell_type": "code",
      "source": [
        "# Lets compare our models result using a pandas DataFrame\n",
        "\n",
        "import pandas as pd\n",
        "\n",
        "model_results = [[\"model_1\", mae_1.numpy(), mse_1.numpy()],\n",
        "                [\"model_2\", mae_2.numpy(), mse_2.numpy()],\n",
        "                [\"model_3\", mae_3.numpy(), mse_3]]\n",
        "\n",
        "all_results = pd.DataFrame(model_results, columns=[\"model\", \"mae\", \"mse\"])\n",
        "all_results\n"
      ],
      "metadata": {
        "colab": {
          "base_uri": "https://localhost:8080/",
          "height": 144
        },
        "id": "Eyz6kizfeNiv",
        "outputId": "e0f94e33-f06b-4d2b-8556-c5ab9279f098"
      },
      "execution_count": 62,
      "outputs": [
        {
          "output_type": "execute_result",
          "data": {
            "text/plain": [
              "     model        mae                                           mse\n",
              "0  model_1   8.550544                                     79.585518\n",
              "1  model_2  45.878887                                    2132.46875\n",
              "2  model_3  63.961792  tf.Tensor(4151.059, shape=(), dtype=float32)"
            ],
            "text/html": [
              "\n",
              "  <div id=\"df-b2c98d8c-c785-49bd-9da6-17b9973a2ee3\" class=\"colab-df-container\">\n",
              "    <div>\n",
              "<style scoped>\n",
              "    .dataframe tbody tr th:only-of-type {\n",
              "        vertical-align: middle;\n",
              "    }\n",
              "\n",
              "    .dataframe tbody tr th {\n",
              "        vertical-align: top;\n",
              "    }\n",
              "\n",
              "    .dataframe thead th {\n",
              "        text-align: right;\n",
              "    }\n",
              "</style>\n",
              "<table border=\"1\" class=\"dataframe\">\n",
              "  <thead>\n",
              "    <tr style=\"text-align: right;\">\n",
              "      <th></th>\n",
              "      <th>model</th>\n",
              "      <th>mae</th>\n",
              "      <th>mse</th>\n",
              "    </tr>\n",
              "  </thead>\n",
              "  <tbody>\n",
              "    <tr>\n",
              "      <th>0</th>\n",
              "      <td>model_1</td>\n",
              "      <td>8.550544</td>\n",
              "      <td>79.585518</td>\n",
              "    </tr>\n",
              "    <tr>\n",
              "      <th>1</th>\n",
              "      <td>model_2</td>\n",
              "      <td>45.878887</td>\n",
              "      <td>2132.46875</td>\n",
              "    </tr>\n",
              "    <tr>\n",
              "      <th>2</th>\n",
              "      <td>model_3</td>\n",
              "      <td>63.961792</td>\n",
              "      <td>tf.Tensor(4151.059, shape=(), dtype=float32)</td>\n",
              "    </tr>\n",
              "  </tbody>\n",
              "</table>\n",
              "</div>\n",
              "    <div class=\"colab-df-buttons\">\n",
              "\n",
              "  <div class=\"colab-df-container\">\n",
              "    <button class=\"colab-df-convert\" onclick=\"convertToInteractive('df-b2c98d8c-c785-49bd-9da6-17b9973a2ee3')\"\n",
              "            title=\"Convert this dataframe to an interactive table.\"\n",
              "            style=\"display:none;\">\n",
              "\n",
              "  <svg xmlns=\"http://www.w3.org/2000/svg\" height=\"24px\" viewBox=\"0 -960 960 960\">\n",
              "    <path d=\"M120-120v-720h720v720H120Zm60-500h600v-160H180v160Zm220 220h160v-160H400v160Zm0 220h160v-160H400v160ZM180-400h160v-160H180v160Zm440 0h160v-160H620v160ZM180-180h160v-160H180v160Zm440 0h160v-160H620v160Z\"/>\n",
              "  </svg>\n",
              "    </button>\n",
              "\n",
              "  <style>\n",
              "    .colab-df-container {\n",
              "      display:flex;\n",
              "      gap: 12px;\n",
              "    }\n",
              "\n",
              "    .colab-df-convert {\n",
              "      background-color: #E8F0FE;\n",
              "      border: none;\n",
              "      border-radius: 50%;\n",
              "      cursor: pointer;\n",
              "      display: none;\n",
              "      fill: #1967D2;\n",
              "      height: 32px;\n",
              "      padding: 0 0 0 0;\n",
              "      width: 32px;\n",
              "    }\n",
              "\n",
              "    .colab-df-convert:hover {\n",
              "      background-color: #E2EBFA;\n",
              "      box-shadow: 0px 1px 2px rgba(60, 64, 67, 0.3), 0px 1px 3px 1px rgba(60, 64, 67, 0.15);\n",
              "      fill: #174EA6;\n",
              "    }\n",
              "\n",
              "    .colab-df-buttons div {\n",
              "      margin-bottom: 4px;\n",
              "    }\n",
              "\n",
              "    [theme=dark] .colab-df-convert {\n",
              "      background-color: #3B4455;\n",
              "      fill: #D2E3FC;\n",
              "    }\n",
              "\n",
              "    [theme=dark] .colab-df-convert:hover {\n",
              "      background-color: #434B5C;\n",
              "      box-shadow: 0px 1px 3px 1px rgba(0, 0, 0, 0.15);\n",
              "      filter: drop-shadow(0px 1px 2px rgba(0, 0, 0, 0.3));\n",
              "      fill: #FFFFFF;\n",
              "    }\n",
              "  </style>\n",
              "\n",
              "    <script>\n",
              "      const buttonEl =\n",
              "        document.querySelector('#df-b2c98d8c-c785-49bd-9da6-17b9973a2ee3 button.colab-df-convert');\n",
              "      buttonEl.style.display =\n",
              "        google.colab.kernel.accessAllowed ? 'block' : 'none';\n",
              "\n",
              "      async function convertToInteractive(key) {\n",
              "        const element = document.querySelector('#df-b2c98d8c-c785-49bd-9da6-17b9973a2ee3');\n",
              "        const dataTable =\n",
              "          await google.colab.kernel.invokeFunction('convertToInteractive',\n",
              "                                                    [key], {});\n",
              "        if (!dataTable) return;\n",
              "\n",
              "        const docLinkHtml = 'Like what you see? Visit the ' +\n",
              "          '<a target=\"_blank\" href=https://colab.research.google.com/notebooks/data_table.ipynb>data table notebook</a>'\n",
              "          + ' to learn more about interactive tables.';\n",
              "        element.innerHTML = '';\n",
              "        dataTable['output_type'] = 'display_data';\n",
              "        await google.colab.output.renderOutput(dataTable, element);\n",
              "        const docLink = document.createElement('div');\n",
              "        docLink.innerHTML = docLinkHtml;\n",
              "        element.appendChild(docLink);\n",
              "      }\n",
              "    </script>\n",
              "  </div>\n",
              "\n",
              "\n",
              "<div id=\"df-9ab7a9f1-f21a-49b0-97a1-5d20f1fc58ff\">\n",
              "  <button class=\"colab-df-quickchart\" onclick=\"quickchart('df-9ab7a9f1-f21a-49b0-97a1-5d20f1fc58ff')\"\n",
              "            title=\"Suggest charts\"\n",
              "            style=\"display:none;\">\n",
              "\n",
              "<svg xmlns=\"http://www.w3.org/2000/svg\" height=\"24px\"viewBox=\"0 0 24 24\"\n",
              "     width=\"24px\">\n",
              "    <g>\n",
              "        <path d=\"M19 3H5c-1.1 0-2 .9-2 2v14c0 1.1.9 2 2 2h14c1.1 0 2-.9 2-2V5c0-1.1-.9-2-2-2zM9 17H7v-7h2v7zm4 0h-2V7h2v10zm4 0h-2v-4h2v4z\"/>\n",
              "    </g>\n",
              "</svg>\n",
              "  </button>\n",
              "\n",
              "<style>\n",
              "  .colab-df-quickchart {\n",
              "      --bg-color: #E8F0FE;\n",
              "      --fill-color: #1967D2;\n",
              "      --hover-bg-color: #E2EBFA;\n",
              "      --hover-fill-color: #174EA6;\n",
              "      --disabled-fill-color: #AAA;\n",
              "      --disabled-bg-color: #DDD;\n",
              "  }\n",
              "\n",
              "  [theme=dark] .colab-df-quickchart {\n",
              "      --bg-color: #3B4455;\n",
              "      --fill-color: #D2E3FC;\n",
              "      --hover-bg-color: #434B5C;\n",
              "      --hover-fill-color: #FFFFFF;\n",
              "      --disabled-bg-color: #3B4455;\n",
              "      --disabled-fill-color: #666;\n",
              "  }\n",
              "\n",
              "  .colab-df-quickchart {\n",
              "    background-color: var(--bg-color);\n",
              "    border: none;\n",
              "    border-radius: 50%;\n",
              "    cursor: pointer;\n",
              "    display: none;\n",
              "    fill: var(--fill-color);\n",
              "    height: 32px;\n",
              "    padding: 0;\n",
              "    width: 32px;\n",
              "  }\n",
              "\n",
              "  .colab-df-quickchart:hover {\n",
              "    background-color: var(--hover-bg-color);\n",
              "    box-shadow: 0 1px 2px rgba(60, 64, 67, 0.3), 0 1px 3px 1px rgba(60, 64, 67, 0.15);\n",
              "    fill: var(--button-hover-fill-color);\n",
              "  }\n",
              "\n",
              "  .colab-df-quickchart-complete:disabled,\n",
              "  .colab-df-quickchart-complete:disabled:hover {\n",
              "    background-color: var(--disabled-bg-color);\n",
              "    fill: var(--disabled-fill-color);\n",
              "    box-shadow: none;\n",
              "  }\n",
              "\n",
              "  .colab-df-spinner {\n",
              "    border: 2px solid var(--fill-color);\n",
              "    border-color: transparent;\n",
              "    border-bottom-color: var(--fill-color);\n",
              "    animation:\n",
              "      spin 1s steps(1) infinite;\n",
              "  }\n",
              "\n",
              "  @keyframes spin {\n",
              "    0% {\n",
              "      border-color: transparent;\n",
              "      border-bottom-color: var(--fill-color);\n",
              "      border-left-color: var(--fill-color);\n",
              "    }\n",
              "    20% {\n",
              "      border-color: transparent;\n",
              "      border-left-color: var(--fill-color);\n",
              "      border-top-color: var(--fill-color);\n",
              "    }\n",
              "    30% {\n",
              "      border-color: transparent;\n",
              "      border-left-color: var(--fill-color);\n",
              "      border-top-color: var(--fill-color);\n",
              "      border-right-color: var(--fill-color);\n",
              "    }\n",
              "    40% {\n",
              "      border-color: transparent;\n",
              "      border-right-color: var(--fill-color);\n",
              "      border-top-color: var(--fill-color);\n",
              "    }\n",
              "    60% {\n",
              "      border-color: transparent;\n",
              "      border-right-color: var(--fill-color);\n",
              "    }\n",
              "    80% {\n",
              "      border-color: transparent;\n",
              "      border-right-color: var(--fill-color);\n",
              "      border-bottom-color: var(--fill-color);\n",
              "    }\n",
              "    90% {\n",
              "      border-color: transparent;\n",
              "      border-bottom-color: var(--fill-color);\n",
              "    }\n",
              "  }\n",
              "</style>\n",
              "\n",
              "  <script>\n",
              "    async function quickchart(key) {\n",
              "      const quickchartButtonEl =\n",
              "        document.querySelector('#' + key + ' button');\n",
              "      quickchartButtonEl.disabled = true;  // To prevent multiple clicks.\n",
              "      quickchartButtonEl.classList.add('colab-df-spinner');\n",
              "      try {\n",
              "        const charts = await google.colab.kernel.invokeFunction(\n",
              "            'suggestCharts', [key], {});\n",
              "      } catch (error) {\n",
              "        console.error('Error during call to suggestCharts:', error);\n",
              "      }\n",
              "      quickchartButtonEl.classList.remove('colab-df-spinner');\n",
              "      quickchartButtonEl.classList.add('colab-df-quickchart-complete');\n",
              "    }\n",
              "    (() => {\n",
              "      let quickchartButtonEl =\n",
              "        document.querySelector('#df-9ab7a9f1-f21a-49b0-97a1-5d20f1fc58ff button');\n",
              "      quickchartButtonEl.style.display =\n",
              "        google.colab.kernel.accessAllowed ? 'block' : 'none';\n",
              "    })();\n",
              "  </script>\n",
              "</div>\n",
              "    </div>\n",
              "  </div>\n"
            ],
            "application/vnd.google.colaboratory.intrinsic+json": {
              "type": "dataframe",
              "variable_name": "all_results",
              "summary": "{\n  \"name\": \"all_results\",\n  \"rows\": 3,\n  \"fields\": [\n    {\n      \"column\": \"model\",\n      \"properties\": {\n        \"dtype\": \"string\",\n        \"num_unique_values\": 3,\n        \"samples\": [\n          \"model_1\",\n          \"model_2\",\n          \"model_3\"\n        ],\n        \"semantic_type\": \"\",\n        \"description\": \"\"\n      }\n    },\n    {\n      \"column\": \"mae\",\n      \"properties\": {\n        \"dtype\": \"float32\",\n        \"num_unique_values\": 3,\n        \"samples\": [\n          8.550543785095215,\n          45.87888717651367,\n          63.9617919921875\n        ],\n        \"semantic_type\": \"\",\n        \"description\": \"\"\n      }\n    },\n    {\n      \"column\": \"mse\",\n      \"properties\": {\n        \"dtype\": \"object\",\n        \"semantic_type\": \"\",\n        \"description\": \"\"\n      }\n    }\n  ]\n}"
            }
          },
          "metadata": {},
          "execution_count": 62
        }
      ]
    },
    {
      "source": [
        "# @title mae\n",
        "# Got Recommendation from gcollab\n",
        "\n",
        "from matplotlib import pyplot as plt\n",
        "all_results['mae'].plot(kind='hist', bins=20, title='mae')\n",
        "plt.gca().spines[['top', 'right',]].set_visible(False)"
      ],
      "cell_type": "code",
      "execution_count": 63,
      "outputs": [
        {
          "output_type": "display_data",
          "data": {
            "text/plain": [
              "<Figure size 640x480 with 1 Axes>"
            ],
            "image/png": "[encoded data removed]"
          },
          "metadata": {}
        }
      ],
      "metadata": {
        "colab": {
          "base_uri": "https://localhost:8080/",
          "height": 452
        },
        "id": "AK8lqoT2f7R1",
        "outputId": "517b1825-5576-433b-a406-3bb1041a1072"
      }
    },
    {
      "cell_type": "markdown",
      "source": [
        "🔑**Note :** One of our main goals should be to minimize the time between our experiments. We must try and error"
      ],
      "metadata": {
        "id": "6mam0ajKgXEC"
      }
    },
    {
      "cell_type": "markdown",
      "source": [
        "## Tracking your experiments\n",
        "\n",
        "One really good habit in ml modelling is to track the result of your experiments.\n",
        "\n",
        "Luckly, there are tools to help us!\n",
        "\n",
        "📖**Resource:** As we build more models, we will want to look into using :\n",
        "\n",
        "* TensorBoard - a component of the TensorFlow library to help track modelling experiments\n",
        "* Weights & Biases - a tool for tracking all of kinds of machine learning experiments\n",
        "\n"
      ],
      "metadata": {
        "id": "jCyUYIJrhEbi"
      }
    },
    {
      "cell_type": "markdown",
      "source": [
        "## Saving Our model\n",
        "\n",
        "Saving our model allows us to use them outside of Google collab\n",
        "\n",
        "There are two main formats we can save our model too :\n",
        "1. The SavedModel format\n",
        "2. The HDF5 format"
      ],
      "metadata": {
        "id": "DCh5Gw9x2cEL"
      }
    },
    {
      "cell_type": "code",
      "source": [
        "# Save model using the SavedModel format\n",
        "model_2.save(\"best_model_SavedModel_format\")"
      ],
      "metadata": {
        "id": "GgNAjual2aAU"
      },
      "execution_count": 64,
      "outputs": []
    },
    {
      "cell_type": "code",
      "source": [
        "# Save model using the HDF5 format\n",
        "model_2.save(\"best_model_HDF5_format\")"
      ],
      "metadata": {
        "id": "WUEQU6AH4UiF"
      },
      "execution_count": 65,
      "outputs": []
    },
    {
      "cell_type": "markdown",
      "source": [
        "## Loading in a saved model"
      ],
      "metadata": {
        "id": "JlWRZHYjreP_"
      }
    },
    {
      "cell_type": "code",
      "source": [
        "# Load in the SavedModel format\n",
        "\n",
        "loaded_SavedModel_format = tf.keras.models.load_model(\"/content/best_model_SavedModel_format\")\n",
        "loaded_SavedModel_format.summary()"
      ],
      "metadata": {
        "colab": {
          "base_uri": "https://localhost:8080/"
        },
        "id": "2ZCWOR4Wrosv",
        "outputId": "5d8f64b0-f778-4c43-f285-e42eddf70c3d"
      },
      "execution_count": 66,
      "outputs": [
        {
          "output_type": "stream",
          "name": "stdout",
          "text": [
            "Model: \"sequential_6\"\n",
            "_________________________________________________________________\n",
            " Layer (type)                Output Shape              Param #   \n",
            "=================================================================\n",
            " input_layer (Dense)         (None, 70)                140       \n",
            "                                                                 \n",
            " Output_layer (Dense)        (None, 1)                 71        \n",
            "                                                                 \n",
            "=================================================================\n",
            "Total params: 211 (844.00 Byte)\n",
            "Trainable params: 211 (844.00 Byte)\n",
            "Non-trainable params: 0 (0.00 Byte)\n",
            "_________________________________________________________________\n"
          ]
        }
      ]
    },
    {
      "cell_type": "code",
      "source": [
        "model_2 == loaded_SavedModel_format"
      ],
      "metadata": {
        "colab": {
          "base_uri": "https://localhost:8080/"
        },
        "id": "yLoIxTUvsGxF",
        "outputId": "c80055bc-e28c-4a73-f63c-dba9d9c94c89"
      },
      "execution_count": 69,
      "outputs": [
        {
          "output_type": "execute_result",
          "data": {
            "text/plain": [
              "False"
            ]
          },
          "metadata": {},
          "execution_count": 69
        }
      ]
    },
    {
      "cell_type": "code",
      "source": [
        "# Compare predictions\n",
        "model_2_preds = model_2.predict(x_test)\n",
        "loaded_SavedModel_format_preds = loaded_SavedModel_format.predict(x_test)\n",
        "\n",
        "model_2_preds == loaded_SavedModel_format_preds"
      ],
      "metadata": {
        "colab": {
          "base_uri": "https://localhost:8080/"
        },
        "id": "NN4wwIe1sbEY",
        "outputId": "5efcfe78-64ac-4e16-cb05-9306ca6473e7"
      },
      "execution_count": 70,
      "outputs": [
        {
          "output_type": "stream",
          "name": "stdout",
          "text": [
            "1/1 [==============================] - 0s 48ms/step\n",
            "1/1 [==============================] - 0s 63ms/step\n"
          ]
        },
        {
          "output_type": "execute_result",
          "data": {
            "text/plain": [
              "array([[ True],\n",
              "       [ True],\n",
              "       [ True],\n",
              "       [ True],\n",
              "       [ True],\n",
              "       [ True],\n",
              "       [ True],\n",
              "       [ True],\n",
              "       [ True],\n",
              "       [ True]])"
            ]
          },
          "metadata": {},
          "execution_count": 70
        }
      ]
    },
    {
      "cell_type": "code",
      "source": [
        "mae(y_true = y_test, y_pred = model_2_preds) == mae(y_true = y_test, y_pred=loaded_SavedModel_format_preds )"
      ],
      "metadata": {
        "colab": {
          "base_uri": "https://localhost:8080/"
        },
        "id": "4vOzpgEWs4bA",
        "outputId": "3edf3ad3-6e64-4256-be72-711f8474f9aa"
      },
      "execution_count": 71,
      "outputs": [
        {
          "output_type": "execute_result",
          "data": {
            "text/plain": [
              "<tf.Tensor: shape=(), dtype=bool, numpy=True>"
            ]
          },
          "metadata": {},
          "execution_count": 71
        }
      ]
    }
  ]
}