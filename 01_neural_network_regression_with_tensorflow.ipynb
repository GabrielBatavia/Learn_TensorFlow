{
  "nbformat": 4,
  "nbformat_minor": 0,
  "metadata": {
    "colab": {
      "provenance": [],
      "authorship_tag": "ABX9TyMGp480PE+Sd/+3MJCgljf3",
      "include_colab_link": true
    },
    "kernelspec": {
      "name": "python3",
      "display_name": "Python 3"
    },
    "language_info": {
      "name": "python"
    }
  },
  "cells": [
    {
      "cell_type": "markdown",
      "metadata": {
        "id": "view-in-github",
        "colab_type": "text"
      },
      "source": [
        "<a href=\"https://colab.research.google.com/github/GabrielBatavia/Learn_TensorFlow/blob/main/01_neural_network_regression_with_tensorflow.ipynb\" target=\"_parent\"><img src=\"https://colab.research.google.com/assets/colab-badge.svg\" alt=\"Open In Colab\"/></a>"
      ]
    },
    {
      "cell_type": "markdown",
      "source": [
        "# Introduction to Regression with Neural Networks in TensorFlow\n",
        "\n",
        "There are many definition for a regression problem but in our case, we're going to simplify it : predicting a numerical variable based on some other combination of variables, even shorter...predicting a number."
      ],
      "metadata": {
        "id": "eANshE7nr2zb"
      }
    },
    {
      "cell_type": "code",
      "execution_count": 2,
      "metadata": {
        "colab": {
          "base_uri": "https://localhost:8080/"
        },
        "id": "UmVJP_eWrO59",
        "outputId": "940257ff-5efb-41c2-ef3b-d7bc142651ea"
      },
      "outputs": [
        {
          "output_type": "stream",
          "name": "stdout",
          "text": [
            "2.15.0\n"
          ]
        }
      ],
      "source": [
        "# Import TensorFlow\n",
        "\n",
        "import tensorflow as tf\n",
        "print(tf.__version__)"
      ]
    },
    {
      "cell_type": "markdown",
      "source": [
        "## Creating data to view and fit"
      ],
      "metadata": {
        "id": "vbbwMFoqskyN"
      }
    },
    {
      "cell_type": "code",
      "source": [
        "import numpy as np\n",
        "import matplotlib.pyplot as plt"
      ],
      "metadata": {
        "id": "DXOtRA60shEW"
      },
      "execution_count": 3,
      "outputs": []
    },
    {
      "cell_type": "code",
      "source": [
        "# Creating features\n",
        "\n",
        "x = np.array([-7., -4., -1., 2., 5., 8., 11., 14.])\n",
        "\n",
        "# Create labels\n",
        "y = np.array([3., 6., 9., 12., 15., 18., 21., 24.])\n",
        "\n",
        "# Visualize it\n",
        "plt.scatter(x, y);"
      ],
      "metadata": {
        "colab": {
          "base_uri": "https://localhost:8080/",
          "height": 435
        },
        "id": "SX4eHtEts4GD",
        "outputId": "36a808bd-7ef6-4da4-df49-c25b90b9f78f"
      },
      "execution_count": 4,
      "outputs": [
        {
          "output_type": "display_data",
          "data": {
            "text/plain": [
              "<Figure size 640x480 with 1 Axes>"
            ],
            "image/png": "[encoded data removed]"
          },
          "metadata": {}
        }
      ]
    },
    {
      "cell_type": "code",
      "source": [
        "y == x + 10"
      ],
      "metadata": {
        "id": "qaf2FE-utbQ-",
        "colab": {
          "base_uri": "https://localhost:8080/"
        },
        "outputId": "151253da-ac3e-4560-8b72-2278538f0fc7"
      },
      "execution_count": 5,
      "outputs": [
        {
          "output_type": "execute_result",
          "data": {
            "text/plain": [
              "array([ True,  True,  True,  True,  True,  True,  True,  True])"
            ]
          },
          "metadata": {},
          "execution_count": 5
        }
      ]
    },
    {
      "cell_type": "markdown",
      "source": [
        "## Input and Output shapes"
      ],
      "metadata": {
        "id": "hHex_79OxmAn"
      }
    },
    {
      "cell_type": "code",
      "source": [
        "# Create a demo tensor for out housing price prediction problem\n",
        "\n",
        "house_info = tf.constant([\"bedroom\", \"bathroom\", \"garage\"])\n",
        "house_price = tf.constant([939700])\n",
        "\n",
        "house_info, house_price"
      ],
      "metadata": {
        "colab": {
          "base_uri": "https://localhost:8080/"
        },
        "id": "EKNlltO3xrVe",
        "outputId": "8629ca68-34f2-4d8a-b996-2915034e23a5"
      },
      "execution_count": 6,
      "outputs": [
        {
          "output_type": "execute_result",
          "data": {
            "text/plain": [
              "(<tf.Tensor: shape=(3,), dtype=string, numpy=array([b'bedroom', b'bathroom', b'garage'], dtype=object)>,\n",
              " <tf.Tensor: shape=(1,), dtype=int32, numpy=array([939700], dtype=int32)>)"
            ]
          },
          "metadata": {},
          "execution_count": 6
        }
      ]
    },
    {
      "cell_type": "code",
      "source": [
        "x[0], y[0]"
      ],
      "metadata": {
        "colab": {
          "base_uri": "https://localhost:8080/"
        },
        "id": "-tWt-gYSzm66",
        "outputId": "cd300255-91b0-4eaa-e18a-47b4a7c593f0"
      },
      "execution_count": 7,
      "outputs": [
        {
          "output_type": "execute_result",
          "data": {
            "text/plain": [
              "(-7.0, 3.0)"
            ]
          },
          "metadata": {},
          "execution_count": 7
        }
      ]
    },
    {
      "cell_type": "code",
      "source": [
        "input_shape = x[0].shape\n",
        "output_shape = y[0].shape\n",
        "\n",
        "input_shape, output_shape"
      ],
      "metadata": {
        "colab": {
          "base_uri": "https://localhost:8080/"
        },
        "id": "sGSz7U-vzY4m",
        "outputId": "126c99b3-3f92-4764-d8bc-b43d6cd0e766"
      },
      "execution_count": 8,
      "outputs": [
        {
          "output_type": "execute_result",
          "data": {
            "text/plain": [
              "((), ())"
            ]
          },
          "metadata": {},
          "execution_count": 8
        }
      ]
    },
    {
      "cell_type": "code",
      "source": [
        "x[0].ndim"
      ],
      "metadata": {
        "colab": {
          "base_uri": "https://localhost:8080/"
        },
        "id": "VCL4zHK5z8RR",
        "outputId": "33b23997-78f2-47d9-9d64-3f5f48dd0fb5"
      },
      "execution_count": 9,
      "outputs": [
        {
          "output_type": "execute_result",
          "data": {
            "text/plain": [
              "0"
            ]
          },
          "metadata": {},
          "execution_count": 9
        }
      ]
    },
    {
      "cell_type": "code",
      "source": [
        "# Turn our Numpy arrays into tensors with dtype 32\n",
        "\n",
        "X = tf.constant(x, dtype=tf.float32)\n",
        "Y = tf.constant(y, dtype=tf.float32)\n",
        "\n",
        "X, Y"
      ],
      "metadata": {
        "colab": {
          "base_uri": "https://localhost:8080/"
        },
        "id": "QL2Ofdwmz-sQ",
        "outputId": "66b5e2a3-87be-416f-94ce-dfd6b0859fdc"
      },
      "execution_count": 10,
      "outputs": [
        {
          "output_type": "execute_result",
          "data": {
            "text/plain": [
              "(<tf.Tensor: shape=(8,), dtype=float32, numpy=array([-7., -4., -1.,  2.,  5.,  8., 11., 14.], dtype=float32)>,\n",
              " <tf.Tensor: shape=(8,), dtype=float32, numpy=array([ 3.,  6.,  9., 12., 15., 18., 21., 24.], dtype=float32)>)"
            ]
          },
          "metadata": {},
          "execution_count": 10
        }
      ]
    },
    {
      "cell_type": "code",
      "source": [
        "input_shape = X[0].shape\n",
        "output_shape = y[0].shape\n",
        "\n",
        "input_shape, output_shape"
      ],
      "metadata": {
        "colab": {
          "base_uri": "https://localhost:8080/"
        },
        "id": "R6m8i44s1t3S",
        "outputId": "67666882-dad5-4517-e599-3377e9191fee"
      },
      "execution_count": 11,
      "outputs": [
        {
          "output_type": "execute_result",
          "data": {
            "text/plain": [
              "(TensorShape([]), ())"
            ]
          },
          "metadata": {},
          "execution_count": 11
        }
      ]
    },
    {
      "cell_type": "markdown",
      "source": [
        "## Steps in modelling with TensorFlow\n",
        "\n",
        "1. **Creating a model** - define the input and output layers, as well as the hidden layers of a deep learning model.\n",
        "\n",
        "2. **Compiling a model** - define the loss function (in other words, the function wich tells our model how wrong it is) and the optimizer (tells our model how to improve the patterns its learning) and evaluation metrics (what we can use to interpret the preformance of our model)\n",
        "\n",
        "3. Fitting a model - letting the model try to find patters between X & y (features and labels)"
      ],
      "metadata": {
        "id": "T9heq-y318BJ"
      }
    },
    {
      "cell_type": "code",
      "source": [
        "# Opetionally, the first layer can receive an 'input_shape' argument :\n",
        "# model = tf.keras.Sequential()\n",
        "# model.add(tf.keras.layers.Dense(8, input_shape=(16,)))\n",
        "\n",
        "# Afterwards, we do automatic shape inference :\n",
        "# model.add(tf.keras.layers.Dense(4))\n",
        "\n",
        "# model = tf.keras.Sequential()\n",
        "# model.add(tf.keras.layers.Dense(1))\n",
        "# ..."
      ],
      "metadata": {
        "id": "nEAWuhvc6w4g"
      },
      "execution_count": 12,
      "outputs": []
    },
    {
      "cell_type": "code",
      "source": [
        "# Set random seed\n",
        "\n",
        "tf.random.set_seed(42)\n",
        "\n",
        "# 1. Create a model using the Sequential API\n",
        "model = tf.keras.Sequential([\n",
        "    tf.keras.layers.Dense(1)\n",
        "])\n",
        "\n",
        "# 2. Compile the model\n",
        "model.compile(loss = tf.keras.losses.mae, # mae is short for mean absolute error\n",
        "              optimizer = tf.keras.optimizers.SGD(), # sgd is short for stochasitc gradient decent\n",
        "              metrics = [\"mae\"])\n",
        "\n",
        "# 3. Fit the model\n",
        "# model.fit(X, Y, epochs=5) # BREAK IN UPDATED TENSOR VERSION\n",
        "model.fit(tf.expand_dims(X, axis=-1), Y, epochs=5)"
      ],
      "metadata": {
        "colab": {
          "base_uri": "https://localhost:8080/"
        },
        "id": "ubX_9SYR149W",
        "outputId": "93330e98-9470-4b94-e2ca-0a83db1ab065"
      },
      "execution_count": 13,
      "outputs": [
        {
          "output_type": "stream",
          "name": "stdout",
          "text": [
            "Epoch 1/5\n",
            "1/1 [==============================] - 1s 1s/step - loss: 20.9550 - mae: 20.9550\n",
            "Epoch 2/5\n",
            "1/1 [==============================] - 0s 32ms/step - loss: 20.5703 - mae: 20.5703\n",
            "Epoch 3/5\n",
            "1/1 [==============================] - 0s 29ms/step - loss: 20.2891 - mae: 20.2891\n",
            "Epoch 4/5\n",
            "1/1 [==============================] - 0s 33ms/step - loss: 20.0078 - mae: 20.0078\n",
            "Epoch 5/5\n",
            "1/1 [==============================] - 0s 26ms/step - loss: 19.7266 - mae: 19.7266\n"
          ]
        },
        {
          "output_type": "execute_result",
          "data": {
            "text/plain": [
              "<keras.src.callbacks.History at 0x7d260959ace0>"
            ]
          },
          "metadata": {},
          "execution_count": 13
        }
      ]
    },
    {
      "cell_type": "code",
      "source": [
        "# Check our X and Y\n",
        "x, y"
      ],
      "metadata": {
        "colab": {
          "base_uri": "https://localhost:8080/"
        },
        "id": "1B1DsBlo9jYC",
        "outputId": "6bc2ddad-c244-49a0-afd7-5b524d895e0f"
      },
      "execution_count": 14,
      "outputs": [
        {
          "output_type": "execute_result",
          "data": {
            "text/plain": [
              "(array([-7., -4., -1.,  2.,  5.,  8., 11., 14.]),\n",
              " array([ 3.,  6.,  9., 12., 15., 18., 21., 24.]))"
            ]
          },
          "metadata": {},
          "execution_count": 14
        }
      ]
    },
    {
      "cell_type": "code",
      "source": [
        "# Try make prediction\n",
        "model.predict([17.0])"
      ],
      "metadata": {
        "colab": {
          "base_uri": "https://localhost:8080/"
        },
        "id": "L4S19GPP9pXG",
        "outputId": "5bbe6b9c-dcfc-4f5a-aca6-f4f9e858df37"
      },
      "execution_count": 15,
      "outputs": [
        {
          "output_type": "stream",
          "name": "stdout",
          "text": [
            "1/1 [==============================] - 0s 211ms/step\n"
          ]
        },
        {
          "output_type": "execute_result",
          "data": {
            "text/plain": [
              "array([[-21.73011]], dtype=float32)"
            ]
          },
          "metadata": {},
          "execution_count": 15
        }
      ]
    },
    {
      "cell_type": "markdown",
      "source": [
        "## Improving our model\n",
        "\n",
        "We can improve our model, by altering the steps we took to create a model.\n",
        "\n",
        "1. **Creating a model** - ere we might add more layers, increse the number of hidden units (all called neurons) within each of the hidden layers, change the activation function of each layer.\n",
        "\n",
        "2. **Compiling a model** - here we might chang ethe optimization function or perhaps the **learning rate** of the optimization function.\n",
        "\n",
        "3. **Fitting a model** - here we might fit a model for more **epochs** (leave it training for longer) or on more data (give the model more examples to learn form)"
      ],
      "metadata": {
        "id": "Nq6KqLEo-HP4"
      }
    },
    {
      "cell_type": "code",
      "source": [
        "# Let's rebuild our model\n",
        "\n",
        "# 1. Create the model\n",
        "model1 = tf.keras.Sequential([\n",
        "    tf.keras.layers.Dense(1)\n",
        "])\n",
        "\n",
        "# 2. Compile the model\n",
        "model1.compile(loss = tf.keras.losses.mae,\n",
        "              optimizer = tf.keras.optimizers.SGD(),\n",
        "              metrics = [\"mae\"])\n",
        "\n",
        "# 3. Fit the model\n",
        "# model.fit(X, Y, epochs=5) # BREAK IN UPDATED TENSOR VERSION\n",
        "model1.fit(tf.expand_dims(X, axis=-1), Y, epochs=100)"
      ],
      "metadata": {
        "colab": {
          "base_uri": "https://localhost:8080/"
        },
        "id": "GPGzIvb2DLc2",
        "outputId": "b5e4fbd5-1770-4ade-f777-7b56349d9a9c"
      },
      "execution_count": 16,
      "outputs": [
        {
          "output_type": "stream",
          "name": "stdout",
          "text": [
            "Epoch 1/100\n",
            "1/1 [==============================] - 1s 1s/step - loss: 17.1306 - mae: 17.1306\n",
            "Epoch 2/100\n",
            "1/1 [==============================] - 0s 20ms/step - loss: 16.8493 - mae: 16.8493\n",
            "Epoch 3/100\n",
            "1/1 [==============================] - 0s 14ms/step - loss: 16.5681 - mae: 16.5681\n",
            "Epoch 4/100\n",
            "1/1 [==============================] - 0s 17ms/step - loss: 16.2868 - mae: 16.2868\n",
            "Epoch 5/100\n",
            "1/1 [==============================] - 0s 48ms/step - loss: 16.0056 - mae: 16.0056\n",
            "Epoch 6/100\n",
            "1/1 [==============================] - 0s 36ms/step - loss: 15.7243 - mae: 15.7243\n",
            "Epoch 7/100\n",
            "1/1 [==============================] - 0s 25ms/step - loss: 15.4431 - mae: 15.4431\n",
            "Epoch 8/100\n",
            "1/1 [==============================] - 0s 26ms/step - loss: 15.1618 - mae: 15.1618\n",
            "Epoch 9/100\n",
            "1/1 [==============================] - 0s 30ms/step - loss: 14.8904 - mae: 14.8904\n",
            "Epoch 10/100\n",
            "1/1 [==============================] - 0s 24ms/step - loss: 14.7579 - mae: 14.7579\n",
            "Epoch 11/100\n",
            "1/1 [==============================] - 0s 13ms/step - loss: 14.6254 - mae: 14.6254\n",
            "Epoch 12/100\n",
            "1/1 [==============================] - 0s 14ms/step - loss: 14.4929 - mae: 14.4929\n",
            "Epoch 13/100\n",
            "1/1 [==============================] - 0s 20ms/step - loss: 14.3604 - mae: 14.3604\n",
            "Epoch 14/100\n",
            "1/1 [==============================] - 0s 23ms/step - loss: 14.2279 - mae: 14.2279\n",
            "Epoch 15/100\n",
            "1/1 [==============================] - 0s 21ms/step - loss: 14.0954 - mae: 14.0954\n",
            "Epoch 16/100\n",
            "1/1 [==============================] - 0s 51ms/step - loss: 13.9629 - mae: 13.9629\n",
            "Epoch 17/100\n",
            "1/1 [==============================] - 0s 20ms/step - loss: 13.8304 - mae: 13.8304\n",
            "Epoch 18/100\n",
            "1/1 [==============================] - 0s 27ms/step - loss: 13.6979 - mae: 13.6979\n",
            "Epoch 19/100\n",
            "1/1 [==============================] - 0s 30ms/step - loss: 13.5654 - mae: 13.5654\n",
            "Epoch 20/100\n",
            "1/1 [==============================] - 0s 24ms/step - loss: 13.4329 - mae: 13.4329\n",
            "Epoch 21/100\n",
            "1/1 [==============================] - 0s 24ms/step - loss: 13.3004 - mae: 13.3004\n",
            "Epoch 22/100\n",
            "1/1 [==============================] - 0s 30ms/step - loss: 13.1679 - mae: 13.1679\n",
            "Epoch 23/100\n",
            "1/1 [==============================] - 0s 21ms/step - loss: 13.0354 - mae: 13.0354\n",
            "Epoch 24/100\n",
            "1/1 [==============================] - 0s 27ms/step - loss: 12.9029 - mae: 12.9029\n",
            "Epoch 25/100\n",
            "1/1 [==============================] - 0s 22ms/step - loss: 12.7704 - mae: 12.7704\n",
            "Epoch 26/100\n",
            "1/1 [==============================] - 0s 20ms/step - loss: 12.6379 - mae: 12.6379\n",
            "Epoch 27/100\n",
            "1/1 [==============================] - 0s 29ms/step - loss: 12.5054 - mae: 12.5054\n",
            "Epoch 28/100\n",
            "1/1 [==============================] - 0s 51ms/step - loss: 12.3729 - mae: 12.3729\n",
            "Epoch 29/100\n",
            "1/1 [==============================] - 0s 58ms/step - loss: 12.2404 - mae: 12.2404\n",
            "Epoch 30/100\n",
            "1/1 [==============================] - 0s 41ms/step - loss: 12.1079 - mae: 12.1079\n",
            "Epoch 31/100\n",
            "1/1 [==============================] - 0s 34ms/step - loss: 11.9754 - mae: 11.9754\n",
            "Epoch 32/100\n",
            "1/1 [==============================] - 0s 57ms/step - loss: 11.8429 - mae: 11.8429\n",
            "Epoch 33/100\n",
            "1/1 [==============================] - 0s 25ms/step - loss: 11.7104 - mae: 11.7104\n",
            "Epoch 34/100\n",
            "1/1 [==============================] - 0s 22ms/step - loss: 11.5779 - mae: 11.5779\n",
            "Epoch 35/100\n",
            "1/1 [==============================] - 0s 20ms/step - loss: 11.4454 - mae: 11.4454\n",
            "Epoch 36/100\n",
            "1/1 [==============================] - 0s 19ms/step - loss: 11.3129 - mae: 11.3129\n",
            "Epoch 37/100\n",
            "1/1 [==============================] - 0s 19ms/step - loss: 11.1804 - mae: 11.1804\n",
            "Epoch 38/100\n",
            "1/1 [==============================] - 0s 36ms/step - loss: 11.0479 - mae: 11.0479\n",
            "Epoch 39/100\n",
            "1/1 [==============================] - 0s 25ms/step - loss: 10.9154 - mae: 10.9154\n",
            "Epoch 40/100\n",
            "1/1 [==============================] - 0s 20ms/step - loss: 10.7829 - mae: 10.7829\n",
            "Epoch 41/100\n",
            "1/1 [==============================] - 0s 18ms/step - loss: 10.6504 - mae: 10.6504\n",
            "Epoch 42/100\n",
            "1/1 [==============================] - 0s 17ms/step - loss: 10.5179 - mae: 10.5179\n",
            "Epoch 43/100\n",
            "1/1 [==============================] - 0s 27ms/step - loss: 10.3854 - mae: 10.3854\n",
            "Epoch 44/100\n",
            "1/1 [==============================] - 0s 25ms/step - loss: 10.2529 - mae: 10.2529\n",
            "Epoch 45/100\n",
            "1/1 [==============================] - 0s 19ms/step - loss: 10.1204 - mae: 10.1204\n",
            "Epoch 46/100\n",
            "1/1 [==============================] - 0s 29ms/step - loss: 9.9879 - mae: 9.9879\n",
            "Epoch 47/100\n",
            "1/1 [==============================] - 0s 21ms/step - loss: 9.8554 - mae: 9.8554\n",
            "Epoch 48/100\n",
            "1/1 [==============================] - 0s 12ms/step - loss: 9.7229 - mae: 9.7229\n",
            "Epoch 49/100\n",
            "1/1 [==============================] - 0s 51ms/step - loss: 9.5904 - mae: 9.5904\n",
            "Epoch 50/100\n",
            "1/1 [==============================] - 0s 55ms/step - loss: 9.4579 - mae: 9.4579\n",
            "Epoch 51/100\n",
            "1/1 [==============================] - 0s 20ms/step - loss: 9.3254 - mae: 9.3254\n",
            "Epoch 52/100\n",
            "1/1 [==============================] - 0s 19ms/step - loss: 9.1929 - mae: 9.1929\n",
            "Epoch 53/100\n",
            "1/1 [==============================] - 0s 19ms/step - loss: 9.0604 - mae: 9.0604\n",
            "Epoch 54/100\n",
            "1/1 [==============================] - 0s 18ms/step - loss: 8.9279 - mae: 8.9279\n",
            "Epoch 55/100\n",
            "1/1 [==============================] - 0s 21ms/step - loss: 8.7954 - mae: 8.7954\n",
            "Epoch 56/100\n",
            "1/1 [==============================] - 0s 23ms/step - loss: 8.6629 - mae: 8.6629\n",
            "Epoch 57/100\n",
            "1/1 [==============================] - 0s 29ms/step - loss: 8.5304 - mae: 8.5304\n",
            "Epoch 58/100\n",
            "1/1 [==============================] - 0s 28ms/step - loss: 8.3979 - mae: 8.3979\n",
            "Epoch 59/100\n",
            "1/1 [==============================] - 0s 24ms/step - loss: 8.2654 - mae: 8.2654\n",
            "Epoch 60/100\n",
            "1/1 [==============================] - 0s 25ms/step - loss: 8.1329 - mae: 8.1329\n",
            "Epoch 61/100\n",
            "1/1 [==============================] - 0s 23ms/step - loss: 8.0004 - mae: 8.0004\n",
            "Epoch 62/100\n",
            "1/1 [==============================] - 0s 27ms/step - loss: 7.8679 - mae: 7.8679\n",
            "Epoch 63/100\n",
            "1/1 [==============================] - 0s 21ms/step - loss: 7.7354 - mae: 7.7354\n",
            "Epoch 64/100\n",
            "1/1 [==============================] - 0s 22ms/step - loss: 7.6029 - mae: 7.6029\n",
            "Epoch 65/100\n",
            "1/1 [==============================] - 0s 19ms/step - loss: 7.4704 - mae: 7.4704\n",
            "Epoch 66/100\n",
            "1/1 [==============================] - 0s 31ms/step - loss: 7.3379 - mae: 7.3379\n",
            "Epoch 67/100\n",
            "1/1 [==============================] - 0s 23ms/step - loss: 7.2054 - mae: 7.2054\n",
            "Epoch 68/100\n",
            "1/1 [==============================] - 0s 19ms/step - loss: 7.0729 - mae: 7.0729\n",
            "Epoch 69/100\n",
            "1/1 [==============================] - 0s 22ms/step - loss: 7.0050 - mae: 7.0050\n",
            "Epoch 70/100\n",
            "1/1 [==============================] - 0s 21ms/step - loss: 6.9994 - mae: 6.9994\n",
            "Epoch 71/100\n",
            "1/1 [==============================] - 0s 50ms/step - loss: 6.9938 - mae: 6.9938\n",
            "Epoch 72/100\n",
            "1/1 [==============================] - 0s 36ms/step - loss: 6.9881 - mae: 6.9881\n",
            "Epoch 73/100\n",
            "1/1 [==============================] - 0s 27ms/step - loss: 6.9825 - mae: 6.9825\n",
            "Epoch 74/100\n",
            "1/1 [==============================] - 0s 12ms/step - loss: 6.9769 - mae: 6.9769\n",
            "Epoch 75/100\n",
            "1/1 [==============================] - 0s 32ms/step - loss: 6.9713 - mae: 6.9713\n",
            "Epoch 76/100\n",
            "1/1 [==============================] - 0s 67ms/step - loss: 6.9656 - mae: 6.9656\n",
            "Epoch 77/100\n",
            "1/1 [==============================] - 0s 44ms/step - loss: 6.9600 - mae: 6.9600\n",
            "Epoch 78/100\n",
            "1/1 [==============================] - 0s 29ms/step - loss: 6.9544 - mae: 6.9544\n",
            "Epoch 79/100\n",
            "1/1 [==============================] - 0s 26ms/step - loss: 6.9488 - mae: 6.9488\n",
            "Epoch 80/100\n",
            "1/1 [==============================] - 0s 23ms/step - loss: 6.9431 - mae: 6.9431\n",
            "Epoch 81/100\n",
            "1/1 [==============================] - 0s 23ms/step - loss: 6.9375 - mae: 6.9375\n",
            "Epoch 82/100\n",
            "1/1 [==============================] - 0s 26ms/step - loss: 6.9319 - mae: 6.9319\n",
            "Epoch 83/100\n",
            "1/1 [==============================] - 0s 17ms/step - loss: 6.9263 - mae: 6.9263\n",
            "Epoch 84/100\n",
            "1/1 [==============================] - 0s 23ms/step - loss: 6.9206 - mae: 6.9206\n",
            "Epoch 85/100\n",
            "1/1 [==============================] - 0s 15ms/step - loss: 6.9150 - mae: 6.9150\n",
            "Epoch 86/100\n",
            "1/1 [==============================] - 0s 24ms/step - loss: 6.9094 - mae: 6.9094\n",
            "Epoch 87/100\n",
            "1/1 [==============================] - 0s 56ms/step - loss: 6.9038 - mae: 6.9038\n",
            "Epoch 88/100\n",
            "1/1 [==============================] - 0s 26ms/step - loss: 6.8981 - mae: 6.8981\n",
            "Epoch 89/100\n",
            "1/1 [==============================] - 0s 20ms/step - loss: 6.8925 - mae: 6.8925\n",
            "Epoch 90/100\n",
            "1/1 [==============================] - 0s 28ms/step - loss: 6.8869 - mae: 6.8869\n",
            "Epoch 91/100\n",
            "1/1 [==============================] - 0s 26ms/step - loss: 6.8813 - mae: 6.8813\n",
            "Epoch 92/100\n",
            "1/1 [==============================] - 0s 30ms/step - loss: 6.8756 - mae: 6.8756\n",
            "Epoch 93/100\n",
            "1/1 [==============================] - 0s 17ms/step - loss: 6.8700 - mae: 6.8700\n",
            "Epoch 94/100\n",
            "1/1 [==============================] - 0s 37ms/step - loss: 6.8644 - mae: 6.8644\n",
            "Epoch 95/100\n",
            "1/1 [==============================] - 0s 31ms/step - loss: 6.8588 - mae: 6.8588\n",
            "Epoch 96/100\n",
            "1/1 [==============================] - 0s 34ms/step - loss: 6.8531 - mae: 6.8531\n",
            "Epoch 97/100\n",
            "1/1 [==============================] - 0s 20ms/step - loss: 6.8475 - mae: 6.8475\n",
            "Epoch 98/100\n",
            "1/1 [==============================] - 0s 20ms/step - loss: 6.8419 - mae: 6.8419\n",
            "Epoch 99/100\n",
            "1/1 [==============================] - 0s 26ms/step - loss: 6.8363 - mae: 6.8363\n",
            "Epoch 100/100\n",
            "1/1 [==============================] - 0s 24ms/step - loss: 6.8306 - mae: 6.8306\n"
          ]
        },
        {
          "output_type": "execute_result",
          "data": {
            "text/plain": [
              "<keras.src.callbacks.History at 0x7d2608c11cc0>"
            ]
          },
          "metadata": {},
          "execution_count": 16
        }
      ]
    },
    {
      "cell_type": "code",
      "source": [
        "# Try make prediction\n",
        "model1.predict([17.0])"
      ],
      "metadata": {
        "colab": {
          "base_uri": "https://localhost:8080/"
        },
        "id": "4kMA7oidBuHG",
        "outputId": "6db319fd-b97d-4ef9-a30c-b99834293197"
      },
      "execution_count": 17,
      "outputs": [
        {
          "output_type": "stream",
          "name": "stdout",
          "text": [
            "1/1 [==============================] - 0s 197ms/step\n"
          ]
        },
        {
          "output_type": "execute_result",
          "data": {
            "text/plain": [
              "array([[29.55529]], dtype=float32)"
            ]
          },
          "metadata": {},
          "execution_count": 17
        }
      ]
    },
    {
      "cell_type": "code",
      "source": [
        "# re-write the model by my self and improve one thing to get better\n",
        "\n",
        "# 1. Create the model\n",
        "model2 = tf.keras.Sequential([\n",
        "    tf.keras.layers.Dense(1)\n",
        "])\n",
        "\n",
        "# 2. Compile the model\n",
        "model2.compile(loss = tf.keras.losses.mae,\n",
        "              optimizer = tf.keras.optimizers.Adam(learning_rate=0.001), # chang the optimizers from SGD to adam\n",
        "              metrics = [\"mae\"])\n",
        "\n",
        "# 3. Fit the model\n",
        "# model.fit(X, Y, epochs=5) # BREAK IN UPDATED TENSOR VERSION\n",
        "model2.fit(tf.expand_dims(X, axis=-1), Y, epochs=100)"
      ],
      "metadata": {
        "colab": {
          "base_uri": "https://localhost:8080/"
        },
        "id": "gdwbhbhmJVPx",
        "outputId": "a046a1ce-d879-4c10-8a05-a79a6f390eed"
      },
      "execution_count": 18,
      "outputs": [
        {
          "output_type": "stream",
          "name": "stdout",
          "text": [
            "Epoch 1/100\n",
            "1/1 [==============================] - 1s 1s/step - loss: 8.4813 - mae: 8.4813\n",
            "Epoch 2/100\n",
            "1/1 [==============================] - 0s 11ms/step - loss: 8.4768 - mae: 8.4768\n",
            "Epoch 3/100\n",
            "1/1 [==============================] - 0s 18ms/step - loss: 8.4723 - mae: 8.4723\n",
            "Epoch 4/100\n",
            "1/1 [==============================] - 0s 19ms/step - loss: 8.4678 - mae: 8.4678\n",
            "Epoch 5/100\n",
            "1/1 [==============================] - 0s 22ms/step - loss: 8.4633 - mae: 8.4633\n",
            "Epoch 6/100\n",
            "1/1 [==============================] - 0s 23ms/step - loss: 8.4588 - mae: 8.4588\n",
            "Epoch 7/100\n",
            "1/1 [==============================] - 0s 25ms/step - loss: 8.4543 - mae: 8.4543\n",
            "Epoch 8/100\n",
            "1/1 [==============================] - 0s 62ms/step - loss: 8.4498 - mae: 8.4498\n",
            "Epoch 9/100\n",
            "1/1 [==============================] - 0s 37ms/step - loss: 8.4453 - mae: 8.4453\n",
            "Epoch 10/100\n",
            "1/1 [==============================] - 0s 46ms/step - loss: 8.4408 - mae: 8.4408\n",
            "Epoch 11/100\n",
            "1/1 [==============================] - 0s 59ms/step - loss: 8.4363 - mae: 8.4363\n",
            "Epoch 12/100\n",
            "1/1 [==============================] - 0s 43ms/step - loss: 8.4318 - mae: 8.4318\n",
            "Epoch 13/100\n",
            "1/1 [==============================] - 0s 54ms/step - loss: 8.4272 - mae: 8.4272\n",
            "Epoch 14/100\n",
            "1/1 [==============================] - 0s 50ms/step - loss: 8.4228 - mae: 8.4228\n",
            "Epoch 15/100\n",
            "1/1 [==============================] - 0s 49ms/step - loss: 8.4183 - mae: 8.4183\n",
            "Epoch 16/100\n",
            "1/1 [==============================] - 0s 30ms/step - loss: 8.4137 - mae: 8.4137\n",
            "Epoch 17/100\n",
            "1/1 [==============================] - 0s 31ms/step - loss: 8.4092 - mae: 8.4092\n",
            "Epoch 18/100\n",
            "1/1 [==============================] - 0s 32ms/step - loss: 8.4047 - mae: 8.4047\n",
            "Epoch 19/100\n",
            "1/1 [==============================] - 0s 54ms/step - loss: 8.4002 - mae: 8.4002\n",
            "Epoch 20/100\n",
            "1/1 [==============================] - 0s 41ms/step - loss: 8.3958 - mae: 8.3958\n",
            "Epoch 21/100\n",
            "1/1 [==============================] - 0s 25ms/step - loss: 8.3912 - mae: 8.3912\n",
            "Epoch 22/100\n",
            "1/1 [==============================] - 0s 28ms/step - loss: 8.3867 - mae: 8.3867\n",
            "Epoch 23/100\n",
            "1/1 [==============================] - 0s 26ms/step - loss: 8.3822 - mae: 8.3822\n",
            "Epoch 24/100\n",
            "1/1 [==============================] - 0s 41ms/step - loss: 8.3777 - mae: 8.3777\n",
            "Epoch 25/100\n",
            "1/1 [==============================] - 0s 49ms/step - loss: 8.3732 - mae: 8.3732\n",
            "Epoch 26/100\n",
            "1/1 [==============================] - 0s 33ms/step - loss: 8.3687 - mae: 8.3687\n",
            "Epoch 27/100\n",
            "1/1 [==============================] - 0s 28ms/step - loss: 8.3642 - mae: 8.3642\n",
            "Epoch 28/100\n",
            "1/1 [==============================] - 0s 27ms/step - loss: 8.3597 - mae: 8.3597\n",
            "Epoch 29/100\n",
            "1/1 [==============================] - 0s 24ms/step - loss: 8.3552 - mae: 8.3552\n",
            "Epoch 30/100\n",
            "1/1 [==============================] - 0s 42ms/step - loss: 8.3507 - mae: 8.3507\n",
            "Epoch 31/100\n",
            "1/1 [==============================] - 0s 29ms/step - loss: 8.3462 - mae: 8.3462\n",
            "Epoch 32/100\n",
            "1/1 [==============================] - 0s 32ms/step - loss: 8.3417 - mae: 8.3417\n",
            "Epoch 33/100\n",
            "1/1 [==============================] - 0s 25ms/step - loss: 8.3372 - mae: 8.3372\n",
            "Epoch 34/100\n",
            "1/1 [==============================] - 0s 31ms/step - loss: 8.3327 - mae: 8.3327\n",
            "Epoch 35/100\n",
            "1/1 [==============================] - 0s 24ms/step - loss: 8.3282 - mae: 8.3282\n",
            "Epoch 36/100\n",
            "1/1 [==============================] - 0s 27ms/step - loss: 8.3237 - mae: 8.3237\n",
            "Epoch 37/100\n",
            "1/1 [==============================] - 0s 35ms/step - loss: 8.3192 - mae: 8.3192\n",
            "Epoch 38/100\n",
            "1/1 [==============================] - 0s 35ms/step - loss: 8.3147 - mae: 8.3147\n",
            "Epoch 39/100\n",
            "1/1 [==============================] - 0s 25ms/step - loss: 8.3102 - mae: 8.3102\n",
            "Epoch 40/100\n",
            "1/1 [==============================] - 0s 37ms/step - loss: 8.3057 - mae: 8.3057\n",
            "Epoch 41/100\n",
            "1/1 [==============================] - 0s 36ms/step - loss: 8.3012 - mae: 8.3012\n",
            "Epoch 42/100\n",
            "1/1 [==============================] - 0s 21ms/step - loss: 8.2967 - mae: 8.2967\n",
            "Epoch 43/100\n",
            "1/1 [==============================] - 0s 22ms/step - loss: 8.2922 - mae: 8.2922\n",
            "Epoch 44/100\n",
            "1/1 [==============================] - 0s 34ms/step - loss: 8.2877 - mae: 8.2877\n",
            "Epoch 45/100\n",
            "1/1 [==============================] - 0s 22ms/step - loss: 8.2832 - mae: 8.2832\n",
            "Epoch 46/100\n",
            "1/1 [==============================] - 0s 41ms/step - loss: 8.2787 - mae: 8.2787\n",
            "Epoch 47/100\n",
            "1/1 [==============================] - 0s 16ms/step - loss: 8.2742 - mae: 8.2742\n",
            "Epoch 48/100\n",
            "1/1 [==============================] - 0s 20ms/step - loss: 8.2697 - mae: 8.2697\n",
            "Epoch 49/100\n",
            "1/1 [==============================] - 0s 15ms/step - loss: 8.2652 - mae: 8.2652\n",
            "Epoch 50/100\n",
            "1/1 [==============================] - 0s 14ms/step - loss: 8.2607 - mae: 8.2607\n",
            "Epoch 51/100\n",
            "1/1 [==============================] - 0s 19ms/step - loss: 8.2562 - mae: 8.2562\n",
            "Epoch 52/100\n",
            "1/1 [==============================] - 0s 40ms/step - loss: 8.2517 - mae: 8.2517\n",
            "Epoch 53/100\n",
            "1/1 [==============================] - 0s 22ms/step - loss: 8.2472 - mae: 8.2472\n",
            "Epoch 54/100\n",
            "1/1 [==============================] - 0s 56ms/step - loss: 8.2427 - mae: 8.2427\n",
            "Epoch 55/100\n",
            "1/1 [==============================] - 0s 28ms/step - loss: 8.2382 - mae: 8.2382\n",
            "Epoch 56/100\n",
            "1/1 [==============================] - 0s 24ms/step - loss: 8.2337 - mae: 8.2337\n",
            "Epoch 57/100\n",
            "1/1 [==============================] - 0s 20ms/step - loss: 8.2292 - mae: 8.2292\n",
            "Epoch 58/100\n",
            "1/1 [==============================] - 0s 26ms/step - loss: 8.2247 - mae: 8.2247\n",
            "Epoch 59/100\n",
            "1/1 [==============================] - 0s 22ms/step - loss: 8.2202 - mae: 8.2202\n",
            "Epoch 60/100\n",
            "1/1 [==============================] - 0s 29ms/step - loss: 8.2157 - mae: 8.2157\n",
            "Epoch 61/100\n",
            "1/1 [==============================] - 0s 29ms/step - loss: 8.2112 - mae: 8.2112\n",
            "Epoch 62/100\n",
            "1/1 [==============================] - 0s 19ms/step - loss: 8.2067 - mae: 8.2067\n",
            "Epoch 63/100\n",
            "1/1 [==============================] - 0s 22ms/step - loss: 8.2022 - mae: 8.2022\n",
            "Epoch 64/100\n",
            "1/1 [==============================] - 0s 13ms/step - loss: 8.1977 - mae: 8.1977\n",
            "Epoch 65/100\n",
            "1/1 [==============================] - 0s 44ms/step - loss: 8.1932 - mae: 8.1932\n",
            "Epoch 66/100\n",
            "1/1 [==============================] - 0s 40ms/step - loss: 8.1887 - mae: 8.1887\n",
            "Epoch 67/100\n",
            "1/1 [==============================] - 0s 23ms/step - loss: 8.1842 - mae: 8.1842\n",
            "Epoch 68/100\n",
            "1/1 [==============================] - 0s 41ms/step - loss: 8.1797 - mae: 8.1797\n",
            "Epoch 69/100\n",
            "1/1 [==============================] - 0s 34ms/step - loss: 8.1752 - mae: 8.1752\n",
            "Epoch 70/100\n",
            "1/1 [==============================] - 0s 26ms/step - loss: 8.1707 - mae: 8.1707\n",
            "Epoch 71/100\n",
            "1/1 [==============================] - 0s 21ms/step - loss: 8.1662 - mae: 8.1662\n",
            "Epoch 72/100\n",
            "1/1 [==============================] - 0s 15ms/step - loss: 8.1617 - mae: 8.1617\n",
            "Epoch 73/100\n",
            "1/1 [==============================] - 0s 20ms/step - loss: 8.1572 - mae: 8.1572\n",
            "Epoch 74/100\n",
            "1/1 [==============================] - 0s 14ms/step - loss: 8.1527 - mae: 8.1527\n",
            "Epoch 75/100\n",
            "1/1 [==============================] - 0s 21ms/step - loss: 8.1482 - mae: 8.1482\n",
            "Epoch 76/100\n",
            "1/1 [==============================] - 0s 15ms/step - loss: 8.1437 - mae: 8.1437\n",
            "Epoch 77/100\n",
            "1/1 [==============================] - 0s 17ms/step - loss: 8.1392 - mae: 8.1392\n",
            "Epoch 78/100\n",
            "1/1 [==============================] - 0s 11ms/step - loss: 8.1347 - mae: 8.1347\n",
            "Epoch 79/100\n",
            "1/1 [==============================] - 0s 12ms/step - loss: 8.1302 - mae: 8.1302\n",
            "Epoch 80/100\n",
            "1/1 [==============================] - 0s 20ms/step - loss: 8.1257 - mae: 8.1257\n",
            "Epoch 81/100\n",
            "1/1 [==============================] - 0s 19ms/step - loss: 8.1212 - mae: 8.1212\n",
            "Epoch 82/100\n",
            "1/1 [==============================] - 0s 31ms/step - loss: 8.1167 - mae: 8.1167\n",
            "Epoch 83/100\n",
            "1/1 [==============================] - 0s 17ms/step - loss: 8.1122 - mae: 8.1122\n",
            "Epoch 84/100\n",
            "1/1 [==============================] - 0s 17ms/step - loss: 8.1077 - mae: 8.1077\n",
            "Epoch 85/100\n",
            "1/1 [==============================] - 0s 16ms/step - loss: 8.1032 - mae: 8.1032\n",
            "Epoch 86/100\n",
            "1/1 [==============================] - 0s 14ms/step - loss: 8.0987 - mae: 8.0987\n",
            "Epoch 87/100\n",
            "1/1 [==============================] - 0s 14ms/step - loss: 8.0942 - mae: 8.0942\n",
            "Epoch 88/100\n",
            "1/1 [==============================] - 0s 14ms/step - loss: 8.0897 - mae: 8.0897\n",
            "Epoch 89/100\n",
            "1/1 [==============================] - 0s 27ms/step - loss: 8.0852 - mae: 8.0852\n",
            "Epoch 90/100\n",
            "1/1 [==============================] - 0s 14ms/step - loss: 8.0807 - mae: 8.0807\n",
            "Epoch 91/100\n",
            "1/1 [==============================] - 0s 16ms/step - loss: 8.0762 - mae: 8.0762\n",
            "Epoch 92/100\n",
            "1/1 [==============================] - 0s 23ms/step - loss: 8.0717 - mae: 8.0717\n",
            "Epoch 93/100\n",
            "1/1 [==============================] - 0s 20ms/step - loss: 8.0672 - mae: 8.0672\n",
            "Epoch 94/100\n",
            "1/1 [==============================] - 0s 16ms/step - loss: 8.0627 - mae: 8.0627\n",
            "Epoch 95/100\n",
            "1/1 [==============================] - 0s 17ms/step - loss: 8.0582 - mae: 8.0582\n",
            "Epoch 96/100\n",
            "1/1 [==============================] - 0s 26ms/step - loss: 8.0537 - mae: 8.0537\n",
            "Epoch 97/100\n",
            "1/1 [==============================] - 0s 55ms/step - loss: 8.0492 - mae: 8.0492\n",
            "Epoch 98/100\n",
            "1/1 [==============================] - 0s 32ms/step - loss: 8.0447 - mae: 8.0447\n",
            "Epoch 99/100\n",
            "1/1 [==============================] - 0s 34ms/step - loss: 8.0402 - mae: 8.0402\n",
            "Epoch 100/100\n",
            "1/1 [==============================] - 0s 50ms/step - loss: 8.0357 - mae: 8.0357\n"
          ]
        },
        {
          "output_type": "execute_result",
          "data": {
            "text/plain": [
              "<keras.src.callbacks.History at 0x7d2608286980>"
            ]
          },
          "metadata": {},
          "execution_count": 18
        }
      ]
    },
    {
      "cell_type": "code",
      "source": [
        "# Try make prediction\n",
        "model2.predict([17.0])"
      ],
      "metadata": {
        "colab": {
          "base_uri": "https://localhost:8080/"
        },
        "id": "QeWEo95_J5Gg",
        "outputId": "20062e52-91ce-4480-bffd-9360a78d9886"
      },
      "execution_count": 19,
      "outputs": [
        {
          "output_type": "stream",
          "name": "stdout",
          "text": [
            "1/1 [==============================] - 0s 157ms/step\n"
          ]
        },
        {
          "output_type": "execute_result",
          "data": {
            "text/plain": [
              "array([[26.176851]], dtype=float32)"
            ]
          },
          "metadata": {},
          "execution_count": 19
        }
      ]
    },
    {
      "cell_type": "code",
      "source": [
        "# re-write the model\n",
        "\n",
        "# 1. Create the model (with 100 hidden units )\n",
        "model3 = tf.keras.Sequential([\n",
        "    tf.keras.layers.Dense(50, activation=None),\n",
        "    tf.keras.layers.Dense(1)\n",
        "])\n",
        "\n",
        "# 2. Compile the model\n",
        "model3.compile(loss = \"mae\",\n",
        "              optimizer = tf.keras.optimizers.Adam(learning_rate = 0.01),\n",
        "              metrics = [\"mae\"])\n",
        "\n",
        "# 3. Fit the model\n",
        "# model.fit(X, Y, epochs=5) # BREAK IN UPDATED TENSOR VERSION\n",
        "model3.fit(tf.expand_dims(X, axis=-1), Y, epochs=100)"
      ],
      "metadata": {
        "colab": {
          "base_uri": "https://localhost:8080/"
        },
        "id": "KI1XF166hgOa",
        "outputId": "2671ac09-75a8-4f49-c98e-cf0ab9368c95"
      },
      "execution_count": 20,
      "outputs": [
        {
          "output_type": "stream",
          "name": "stdout",
          "text": [
            "Epoch 1/100\n",
            "1/1 [==============================] - 1s 1s/step - loss: 11.1794 - mae: 11.1794\n",
            "Epoch 2/100\n",
            "1/1 [==============================] - 0s 16ms/step - loss: 10.4536 - mae: 10.4536\n",
            "Epoch 3/100\n",
            "1/1 [==============================] - 0s 16ms/step - loss: 9.7170 - mae: 9.7170\n",
            "Epoch 4/100\n",
            "1/1 [==============================] - 0s 21ms/step - loss: 8.9667 - mae: 8.9667\n",
            "Epoch 5/100\n",
            "1/1 [==============================] - 0s 13ms/step - loss: 8.2005 - mae: 8.2005\n",
            "Epoch 6/100\n",
            "1/1 [==============================] - 0s 15ms/step - loss: 7.4160 - mae: 7.4160\n",
            "Epoch 7/100\n",
            "1/1 [==============================] - 0s 36ms/step - loss: 6.9930 - mae: 6.9930\n",
            "Epoch 8/100\n",
            "1/1 [==============================] - 0s 18ms/step - loss: 7.2109 - mae: 7.2109\n",
            "Epoch 9/100\n",
            "1/1 [==============================] - 0s 22ms/step - loss: 7.4638 - mae: 7.4638\n",
            "Epoch 10/100\n",
            "1/1 [==============================] - 0s 22ms/step - loss: 7.5963 - mae: 7.5963\n",
            "Epoch 11/100\n",
            "1/1 [==============================] - 0s 17ms/step - loss: 7.5780 - mae: 7.5780\n",
            "Epoch 12/100\n",
            "1/1 [==============================] - 0s 12ms/step - loss: 7.3819 - mae: 7.3819\n",
            "Epoch 13/100\n",
            "1/1 [==============================] - 0s 12ms/step - loss: 7.1800 - mae: 7.1800\n",
            "Epoch 14/100\n",
            "1/1 [==============================] - 0s 13ms/step - loss: 6.9424 - mae: 6.9424\n",
            "Epoch 15/100\n",
            "1/1 [==============================] - 0s 16ms/step - loss: 6.6768 - mae: 6.6768\n",
            "Epoch 16/100\n",
            "1/1 [==============================] - 0s 11ms/step - loss: 6.3895 - mae: 6.3895\n",
            "Epoch 17/100\n",
            "1/1 [==============================] - 0s 17ms/step - loss: 6.3132 - mae: 6.3132\n",
            "Epoch 18/100\n",
            "1/1 [==============================] - 0s 15ms/step - loss: 6.2604 - mae: 6.2604\n",
            "Epoch 19/100\n",
            "1/1 [==============================] - 0s 20ms/step - loss: 6.3497 - mae: 6.3497\n",
            "Epoch 20/100\n",
            "1/1 [==============================] - 0s 25ms/step - loss: 6.3211 - mae: 6.3211\n",
            "Epoch 21/100\n",
            "1/1 [==============================] - 0s 30ms/step - loss: 6.1915 - mae: 6.1915\n",
            "Epoch 22/100\n",
            "1/1 [==============================] - 0s 25ms/step - loss: 5.9727 - mae: 5.9727\n",
            "Epoch 23/100\n",
            "1/1 [==============================] - 0s 19ms/step - loss: 5.8362 - mae: 5.8362\n",
            "Epoch 24/100\n",
            "1/1 [==============================] - 0s 17ms/step - loss: 5.7301 - mae: 5.7301\n",
            "Epoch 25/100\n",
            "1/1 [==============================] - 0s 17ms/step - loss: 5.6383 - mae: 5.6383\n",
            "Epoch 26/100\n",
            "1/1 [==============================] - 0s 16ms/step - loss: 5.6257 - mae: 5.6257\n",
            "Epoch 27/100\n",
            "1/1 [==============================] - 0s 23ms/step - loss: 5.5633 - mae: 5.5633\n",
            "Epoch 28/100\n",
            "1/1 [==============================] - 0s 17ms/step - loss: 5.4552 - mae: 5.4552\n",
            "Epoch 29/100\n",
            "1/1 [==============================] - 0s 18ms/step - loss: 5.3056 - mae: 5.3056\n",
            "Epoch 30/100\n",
            "1/1 [==============================] - 0s 19ms/step - loss: 5.1317 - mae: 5.1317\n",
            "Epoch 31/100\n",
            "1/1 [==============================] - 0s 15ms/step - loss: 5.0337 - mae: 5.0337\n",
            "Epoch 32/100\n",
            "1/1 [==============================] - 0s 19ms/step - loss: 4.9290 - mae: 4.9290\n",
            "Epoch 33/100\n",
            "1/1 [==============================] - 0s 19ms/step - loss: 4.8176 - mae: 4.8176\n",
            "Epoch 34/100\n",
            "1/1 [==============================] - 0s 12ms/step - loss: 4.6992 - mae: 4.6992\n",
            "Epoch 35/100\n",
            "1/1 [==============================] - 0s 16ms/step - loss: 4.5736 - mae: 4.5736\n",
            "Epoch 36/100\n",
            "1/1 [==============================] - 0s 15ms/step - loss: 4.4406 - mae: 4.4406\n",
            "Epoch 37/100\n",
            "1/1 [==============================] - 0s 13ms/step - loss: 4.3000 - mae: 4.3000\n",
            "Epoch 38/100\n",
            "1/1 [==============================] - 0s 12ms/step - loss: 4.1515 - mae: 4.1515\n",
            "Epoch 39/100\n",
            "1/1 [==============================] - 0s 13ms/step - loss: 3.9948 - mae: 3.9948\n",
            "Epoch 40/100\n",
            "1/1 [==============================] - 0s 12ms/step - loss: 3.8297 - mae: 3.8297\n",
            "Epoch 41/100\n",
            "1/1 [==============================] - 0s 30ms/step - loss: 3.6559 - mae: 3.6559\n",
            "Epoch 42/100\n",
            "1/1 [==============================] - 0s 30ms/step - loss: 3.4731 - mae: 3.4731\n",
            "Epoch 43/100\n",
            "1/1 [==============================] - 0s 24ms/step - loss: 3.2811 - mae: 3.2811\n",
            "Epoch 44/100\n",
            "1/1 [==============================] - 0s 36ms/step - loss: 3.0794 - mae: 3.0794\n",
            "Epoch 45/100\n",
            "1/1 [==============================] - 0s 32ms/step - loss: 2.8679 - mae: 2.8679\n",
            "Epoch 46/100\n",
            "1/1 [==============================] - 0s 30ms/step - loss: 2.7126 - mae: 2.7126\n",
            "Epoch 47/100\n",
            "1/1 [==============================] - 0s 17ms/step - loss: 2.4760 - mae: 2.4760\n",
            "Epoch 48/100\n",
            "1/1 [==============================] - 0s 31ms/step - loss: 2.2093 - mae: 2.2093\n",
            "Epoch 49/100\n",
            "1/1 [==============================] - 0s 26ms/step - loss: 1.9790 - mae: 1.9790\n",
            "Epoch 50/100\n",
            "1/1 [==============================] - 0s 19ms/step - loss: 1.8245 - mae: 1.8245\n",
            "Epoch 51/100\n",
            "1/1 [==============================] - 0s 20ms/step - loss: 1.4677 - mae: 1.4677\n",
            "Epoch 52/100\n",
            "1/1 [==============================] - 0s 42ms/step - loss: 1.1875 - mae: 1.1875\n",
            "Epoch 53/100\n",
            "1/1 [==============================] - 0s 23ms/step - loss: 0.9955 - mae: 0.9955\n",
            "Epoch 54/100\n",
            "1/1 [==============================] - 0s 26ms/step - loss: 0.7170 - mae: 0.7170\n",
            "Epoch 55/100\n",
            "1/1 [==============================] - 0s 28ms/step - loss: 0.3912 - mae: 0.3912\n",
            "Epoch 56/100\n",
            "1/1 [==============================] - 0s 26ms/step - loss: 0.1588 - mae: 0.1588\n",
            "Epoch 57/100\n",
            "1/1 [==============================] - 0s 15ms/step - loss: 0.4682 - mae: 0.4682\n",
            "Epoch 58/100\n",
            "1/1 [==============================] - 0s 19ms/step - loss: 0.7499 - mae: 0.7499\n",
            "Epoch 59/100\n",
            "1/1 [==============================] - 0s 43ms/step - loss: 0.7637 - mae: 0.7637\n",
            "Epoch 60/100\n",
            "1/1 [==============================] - 0s 26ms/step - loss: 0.7556 - mae: 0.7556\n",
            "Epoch 61/100\n",
            "1/1 [==============================] - 0s 11ms/step - loss: 0.9498 - mae: 0.9498\n",
            "Epoch 62/100\n",
            "1/1 [==============================] - 0s 11ms/step - loss: 0.8631 - mae: 0.8631\n",
            "Epoch 63/100\n",
            "1/1 [==============================] - 0s 25ms/step - loss: 0.7417 - mae: 0.7417\n",
            "Epoch 64/100\n",
            "1/1 [==============================] - 0s 18ms/step - loss: 0.7365 - mae: 0.7365\n",
            "Epoch 65/100\n",
            "1/1 [==============================] - 0s 16ms/step - loss: 0.5454 - mae: 0.5454\n",
            "Epoch 66/100\n",
            "1/1 [==============================] - 0s 16ms/step - loss: 0.4985 - mae: 0.4985\n",
            "Epoch 67/100\n",
            "1/1 [==============================] - 0s 17ms/step - loss: 0.3032 - mae: 0.3032\n",
            "Epoch 68/100\n",
            "1/1 [==============================] - 0s 23ms/step - loss: 0.2239 - mae: 0.2239\n",
            "Epoch 69/100\n",
            "1/1 [==============================] - 0s 37ms/step - loss: 0.1575 - mae: 0.1575\n",
            "Epoch 70/100\n",
            "1/1 [==============================] - 0s 21ms/step - loss: 0.3304 - mae: 0.3304\n",
            "Epoch 71/100\n",
            "1/1 [==============================] - 0s 32ms/step - loss: 0.4755 - mae: 0.4755\n",
            "Epoch 72/100\n",
            "1/1 [==============================] - 0s 23ms/step - loss: 0.4279 - mae: 0.4279\n",
            "Epoch 73/100\n",
            "1/1 [==============================] - 0s 19ms/step - loss: 0.3830 - mae: 0.3830\n",
            "Epoch 74/100\n",
            "1/1 [==============================] - 0s 37ms/step - loss: 0.4159 - mae: 0.4159\n",
            "Epoch 75/100\n",
            "1/1 [==============================] - 0s 15ms/step - loss: 0.2699 - mae: 0.2699\n",
            "Epoch 76/100\n",
            "1/1 [==============================] - 0s 23ms/step - loss: 0.3602 - mae: 0.3602\n",
            "Epoch 77/100\n",
            "1/1 [==============================] - 0s 38ms/step - loss: 0.3200 - mae: 0.3200\n",
            "Epoch 78/100\n",
            "1/1 [==============================] - 0s 60ms/step - loss: 0.0420 - mae: 0.0420\n",
            "Epoch 79/100\n",
            "1/1 [==============================] - 0s 30ms/step - loss: 0.5117 - mae: 0.5117\n",
            "Epoch 80/100\n",
            "1/1 [==============================] - 0s 27ms/step - loss: 0.6513 - mae: 0.6513\n",
            "Epoch 81/100\n",
            "1/1 [==============================] - 0s 67ms/step - loss: 0.5170 - mae: 0.5170\n",
            "Epoch 82/100\n",
            "1/1 [==============================] - 0s 33ms/step - loss: 0.2952 - mae: 0.2952\n",
            "Epoch 83/100\n",
            "1/1 [==============================] - 0s 29ms/step - loss: 0.5543 - mae: 0.5543\n",
            "Epoch 84/100\n",
            "1/1 [==============================] - 0s 25ms/step - loss: 0.5888 - mae: 0.5888\n",
            "Epoch 85/100\n",
            "1/1 [==============================] - 0s 37ms/step - loss: 0.3375 - mae: 0.3375\n",
            "Epoch 86/100\n",
            "1/1 [==============================] - 0s 19ms/step - loss: 0.3344 - mae: 0.3344\n",
            "Epoch 87/100\n",
            "1/1 [==============================] - 0s 31ms/step - loss: 0.4529 - mae: 0.4529\n",
            "Epoch 88/100\n",
            "1/1 [==============================] - 0s 27ms/step - loss: 0.3047 - mae: 0.3047\n",
            "Epoch 89/100\n",
            "1/1 [==============================] - 0s 29ms/step - loss: 0.1455 - mae: 0.1455\n",
            "Epoch 90/100\n",
            "1/1 [==============================] - 0s 28ms/step - loss: 0.2758 - mae: 0.2758\n",
            "Epoch 91/100\n",
            "1/1 [==============================] - 0s 28ms/step - loss: 0.2036 - mae: 0.2036\n",
            "Epoch 92/100\n",
            "1/1 [==============================] - 0s 33ms/step - loss: 0.2887 - mae: 0.2887\n",
            "Epoch 93/100\n",
            "1/1 [==============================] - 0s 34ms/step - loss: 0.2978 - mae: 0.2978\n",
            "Epoch 94/100\n",
            "1/1 [==============================] - 0s 22ms/step - loss: 0.0824 - mae: 0.0824\n",
            "Epoch 95/100\n",
            "1/1 [==============================] - 0s 27ms/step - loss: 0.1954 - mae: 0.1954\n",
            "Epoch 96/100\n",
            "1/1 [==============================] - 0s 34ms/step - loss: 0.0950 - mae: 0.0950\n",
            "Epoch 97/100\n",
            "1/1 [==============================] - 0s 32ms/step - loss: 0.2934 - mae: 0.2934\n",
            "Epoch 98/100\n",
            "1/1 [==============================] - 0s 36ms/step - loss: 0.3372 - mae: 0.3372\n",
            "Epoch 99/100\n",
            "1/1 [==============================] - 0s 28ms/step - loss: 0.1812 - mae: 0.1812\n",
            "Epoch 100/100\n",
            "1/1 [==============================] - 0s 25ms/step - loss: 0.3011 - mae: 0.3011\n"
          ]
        },
        {
          "output_type": "execute_result",
          "data": {
            "text/plain": [
              "<keras.src.callbacks.History at 0x7d2608185330>"
            ]
          },
          "metadata": {},
          "execution_count": 20
        }
      ]
    },
    {
      "cell_type": "code",
      "source": [
        "# Try make prediction\n",
        "model3.predict([17.0])"
      ],
      "metadata": {
        "colab": {
          "base_uri": "https://localhost:8080/"
        },
        "id": "iZcXS1vmiusq",
        "outputId": "486040c7-0767-4038-8752-65440dc3c56f"
      },
      "execution_count": 21,
      "outputs": [
        {
          "output_type": "stream",
          "name": "stdout",
          "text": [
            "1/1 [==============================] - 0s 323ms/step\n"
          ]
        },
        {
          "output_type": "execute_result",
          "data": {
            "text/plain": [
              "array([[26.114536]], dtype=float32)"
            ]
          },
          "metadata": {},
          "execution_count": 21
        }
      ]
    },
    {
      "cell_type": "markdown",
      "source": [
        "## Evaluating Model\n",
        "\n",
        "Build a model -> fit it -> evaluate it -> tweak a model -> fit it -> evaluate it...\n",
        "\n",
        "Evaluation = visualize\n",
        "\n",
        "it's good idea to visualize :\n",
        "* The data - what data we working with? what does it look like?\n",
        "* The model = what does our model look like?\n",
        "* The training of a model - how does a model perform while it learns?\n",
        "* The predictions of the model - how do the predictions of a model line up against the ground truth (the origin label)"
      ],
      "metadata": {
        "id": "ggu1CbXFlSbl"
      }
    },
    {
      "cell_type": "code",
      "source": [
        "# Make a bigger dataset\n",
        "\n",
        "x = tf.range(-100, 100, 4)\n",
        "x"
      ],
      "metadata": {
        "colab": {
          "base_uri": "https://localhost:8080/"
        },
        "id": "O5yDk0J9lV5n",
        "outputId": "17f4c965-df34-437a-f890-04233f834c3a"
      },
      "execution_count": 22,
      "outputs": [
        {
          "output_type": "execute_result",
          "data": {
            "text/plain": [
              "<tf.Tensor: shape=(50,), dtype=int32, numpy=\n",
              "array([-100,  -96,  -92,  -88,  -84,  -80,  -76,  -72,  -68,  -64,  -60,\n",
              "        -56,  -52,  -48,  -44,  -40,  -36,  -32,  -28,  -24,  -20,  -16,\n",
              "        -12,   -8,   -4,    0,    4,    8,   12,   16,   20,   24,   28,\n",
              "         32,   36,   40,   44,   48,   52,   56,   60,   64,   68,   72,\n",
              "         76,   80,   84,   88,   92,   96], dtype=int32)>"
            ]
          },
          "metadata": {},
          "execution_count": 22
        }
      ]
    },
    {
      "cell_type": "code",
      "source": [
        "# Make labels for the dataset\n",
        "\n",
        "y = x + 10\n",
        "y"
      ],
      "metadata": {
        "colab": {
          "base_uri": "https://localhost:8080/"
        },
        "id": "_VnV5iodqYP8",
        "outputId": "2862d294-01ef-4acb-f591-99c677438853"
      },
      "execution_count": 23,
      "outputs": [
        {
          "output_type": "execute_result",
          "data": {
            "text/plain": [
              "<tf.Tensor: shape=(50,), dtype=int32, numpy=\n",
              "array([-90, -86, -82, -78, -74, -70, -66, -62, -58, -54, -50, -46, -42,\n",
              "       -38, -34, -30, -26, -22, -18, -14, -10,  -6,  -2,   2,   6,  10,\n",
              "        14,  18,  22,  26,  30,  34,  38,  42,  46,  50,  54,  58,  62,\n",
              "        66,  70,  74,  78,  82,  86,  90,  94,  98, 102, 106], dtype=int32)>"
            ]
          },
          "metadata": {},
          "execution_count": 23
        }
      ]
    },
    {
      "cell_type": "code",
      "source": [
        "# Visualize the data\n",
        "\n",
        "import matplotlib.pyplot as plt\n",
        "\n",
        "plt.scatter(x, y)"
      ],
      "metadata": {
        "colab": {
          "base_uri": "https://localhost:8080/",
          "height": 447
        },
        "id": "wqnieOnpqiby",
        "outputId": "9584027e-c7cc-4c81-d21a-a5a73c086a18"
      },
      "execution_count": 24,
      "outputs": [
        {
          "output_type": "execute_result",
          "data": {
            "text/plain": [
              "<matplotlib.collections.PathCollection at 0x7d26080c4c40>"
            ]
          },
          "metadata": {},
          "execution_count": 24
        },
        {
          "output_type": "display_data",
          "data": {
            "text/plain": [
              "<Figure size 640x480 with 1 Axes>"
            ],
            "image/png": "[encoded data removed]"
          },
          "metadata": {}
        }
      ]
    },
    {
      "cell_type": "markdown",
      "source": [
        "### The 3 sets\n",
        "\n",
        "* **Training set** - the model learn from this data, 70-80%\n",
        "* **Validation set** - set model gets tuned on this data, 10-15%\n",
        "* **Test set** - the model gets evaluated on this data, 10-15%"
      ],
      "metadata": {
        "id": "CCtd3h36q0Xk"
      }
    },
    {
      "cell_type": "code",
      "source": [
        "# Check the length of the data\n",
        "len(x)"
      ],
      "metadata": {
        "colab": {
          "base_uri": "https://localhost:8080/"
        },
        "id": "2_ITjQWjFQsM",
        "outputId": "5b570d9e-3420-4eb7-9fd0-f5a13447a42e"
      },
      "execution_count": 25,
      "outputs": [
        {
          "output_type": "execute_result",
          "data": {
            "text/plain": [
              "50"
            ]
          },
          "metadata": {},
          "execution_count": 25
        }
      ]
    },
    {
      "cell_type": "code",
      "source": [
        "# Split the data into train and test sets\n",
        "x_train = x[:40] # first to 40 data will be the training sample\n",
        "y_train = y[:40]\n",
        "\n",
        "x_test = x[40:] # 20% will be test\n",
        "y_test = y[40:]\n",
        "\n",
        "len(x_train), len(x_test), len(y_train), len(y_test)"
      ],
      "metadata": {
        "colab": {
          "base_uri": "https://localhost:8080/"
        },
        "id": "4fkIFEl_HAu3",
        "outputId": "36ba87ce-c7ad-4a50-f6e2-49fb3df45101"
      },
      "execution_count": 26,
      "outputs": [
        {
          "output_type": "execute_result",
          "data": {
            "text/plain": [
              "(40, 10, 40, 10)"
            ]
          },
          "metadata": {},
          "execution_count": 26
        }
      ]
    },
    {
      "cell_type": "markdown",
      "source": [
        "### Visualing the data\n",
        "\n",
        "Now we've got out data in training and test sets...lets visualize it"
      ],
      "metadata": {
        "id": "9WJ9AtA0KgLL"
      }
    },
    {
      "cell_type": "code",
      "source": [
        "plt.figure(figsize=(10,7))\n",
        "\n",
        "# Plot training data in blue\n",
        "plt.scatter(x_train, y_train, c=\"b\", label=\"Training data\")\n",
        "\n",
        "# Plot test data in green\n",
        "plt.scatter(x_test, y_test, c=\"g\", label=\"Testing data\")\n",
        "\n",
        "# Show a legend\n",
        "plt.legend();"
      ],
      "metadata": {
        "colab": {
          "base_uri": "https://localhost:8080/",
          "height": 456
        },
        "id": "OQGu_de6G_li",
        "outputId": "5b0a52f5-c6b9-4759-f0ef-aad8f0211d79"
      },
      "execution_count": 27,
      "outputs": [
        {
          "output_type": "display_data",
          "data": {
            "text/plain": [
              "<Figure size 1000x700 with 1 Axes>"
            ],
            "image/png": "[encoded data removed]"
          },
          "metadata": {}
        }
      ]
    },
    {
      "cell_type": "code",
      "source": [
        "# Lets have a look at how to build a neural network for our data\n",
        "\n",
        "# 1. Create the model\n",
        "model = tf.keras.Sequential([\n",
        "    tf.keras.layers.Dense(1)\n",
        "])\n",
        "\n",
        "# 2. Compile the model\n",
        "model.compile(loss = tf.keras.losses.mae,\n",
        "              optimizer = tf.keras.optimizers.SGD(),\n",
        "              metrics = [\"mae\"])\n",
        "\n",
        "# 3. Fit the model\n",
        "#model.fit(tf.expand_dims(x_train, axis=-1), y_train, epochs=100)"
      ],
      "metadata": {
        "id": "TtdWZXKHSSN-"
      },
      "execution_count": 28,
      "outputs": []
    },
    {
      "cell_type": "markdown",
      "source": [
        "### Visualizing the model"
      ],
      "metadata": {
        "id": "F7d7P08yTScA"
      }
    },
    {
      "cell_type": "code",
      "source": [
        "# Lets create  model wich builds automatically by defining the input_shape arguments\n",
        "\n",
        "tf.random.set_seed(42)\n",
        "\n",
        "# 1. Create the model\n",
        "model = tf.keras.Sequential([\n",
        "    tf.keras.layers.Dense(1, input_shape=[1])\n",
        "])\n",
        "\n",
        "# 2. Compile the model\n",
        "model.compile(loss = tf.keras.losses.mae,\n",
        "              optimizer = tf.keras.optimizers.SGD(),\n",
        "              metrics = [\"mae\"])"
      ],
      "metadata": {
        "id": "MpSA6LxwTzZK"
      },
      "execution_count": 30,
      "outputs": []
    },
    {
      "cell_type": "code",
      "source": [
        "model.summary()"
      ],
      "metadata": {
        "colab": {
          "base_uri": "https://localhost:8080/"
        },
        "id": "-jMC9-6WUyLw",
        "outputId": "50b52015-248b-412d-9c8f-af1e5a47e899"
      },
      "execution_count": 31,
      "outputs": [
        {
          "output_type": "stream",
          "name": "stdout",
          "text": [
            "Model: \"sequential_5\"\n",
            "_________________________________________________________________\n",
            " Layer (type)                Output Shape              Param #   \n",
            "=================================================================\n",
            " dense_6 (Dense)             (None, 1)                 2         \n",
            "                                                                 \n",
            "=================================================================\n",
            "Total params: 2 (8.00 Byte)\n",
            "Trainable params: 2 (8.00 Byte)\n",
            "Non-trainable params: 0 (0.00 Byte)\n",
            "_________________________________________________________________\n"
          ]
        }
      ]
    },
    {
      "cell_type": "markdown",
      "source": [
        "* Total params - total number of parameters that we have\n",
        "\n",
        "* Trainable parameters - the parameters (patterns) the model can update as it trains\n",
        "\n",
        "* Non-trainable params - parameters cant updated during training (allready learn in models during **transfer learning**)\n",
        "\n",
        "📚 **Resource** : For a more in depth overview of the trainable parameters within a layer, check ouy MIT's intorduction to deep learning video\n",
        "\n",
        "⚡**Exercise :** Try playing around with the number of hidden units in the dense layer, see how that effect the number of parameters"
      ],
      "metadata": {
        "id": "fkeG27Fm3_t1"
      }
    },
    {
      "cell_type": "code",
      "source": [
        "# 3. Fit the model\n",
        "model.fit(tf.expand_dims(x_train, axis=-1), y_train, epochs=100, verbose=0)"
      ],
      "metadata": {
        "colab": {
          "base_uri": "https://localhost:8080/"
        },
        "id": "e-cgkHtW6914",
        "outputId": "53a68a17-9de2-47c2-dba9-727fd250aefe"
      },
      "execution_count": 33,
      "outputs": [
        {
          "output_type": "execute_result",
          "data": {
            "text/plain": [
              "<keras.src.callbacks.History at 0x7d25fbf5aad0>"
            ]
          },
          "metadata": {},
          "execution_count": 33
        }
      ]
    }
  ]
}