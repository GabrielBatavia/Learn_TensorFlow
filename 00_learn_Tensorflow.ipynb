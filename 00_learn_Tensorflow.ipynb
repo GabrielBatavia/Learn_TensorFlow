{
  "nbformat": 4,
  "nbformat_minor": 0,
  "metadata": {
    "colab": {
      "provenance": [],
      "gpuType": "T4",
      "authorship_tag": "ABX9TyMqo6no8Ca3EmqOrrJembNT",
      "include_colab_link": true
    },
    "kernelspec": {
      "name": "python3",
      "display_name": "Python 3"
    },
    "language_info": {
      "name": "python"
    },
    "accelerator": "GPU"
  },
  "cells": [
    {
      "cell_type": "markdown",
      "metadata": {
        "id": "view-in-github",
        "colab_type": "text"
      },
      "source": [
        "<a href=\"https://colab.research.google.com/github/GabrielBatavia/Learn_TensorFlow/blob/main/00_learn_Tensorflow.ipynb\" target=\"_parent\"><img src=\"https://colab.research.google.com/assets/colab-badge.svg\" alt=\"Open In Colab\"/></a>"
      ]
    },
    {
      "cell_type": "code",
      "execution_count": 1,
      "metadata": {
        "colab": {
          "base_uri": "https://localhost:8080/"
        },
        "id": "2oyeOWXTJdPw",
        "outputId": "70e0d364-e87f-4c3b-c53b-ddab9d4d76cd"
      },
      "outputs": [
        {
          "output_type": "stream",
          "name": "stdout",
          "text": [
            "2.15.0\n"
          ]
        }
      ],
      "source": [
        "# import TensorFlow for first learning\n",
        "\n",
        "import tensorflow as tf\n",
        "print(tf.__version__)"
      ]
    },
    {
      "cell_type": "code",
      "source": [
        "# Create tensors with tf.constant()\n",
        "\n",
        "scalar = tf.constant(7)\n",
        "scalar"
      ],
      "metadata": {
        "colab": {
          "base_uri": "https://localhost:8080/"
        },
        "id": "yepXGWgUfUnh",
        "outputId": "259b886f-4759-44a1-f5f4-49e0154bccb9"
      },
      "execution_count": 2,
      "outputs": [
        {
          "output_type": "execute_result",
          "data": {
            "text/plain": [
              "<tf.Tensor: shape=(), dtype=int32, numpy=7>"
            ]
          },
          "metadata": {},
          "execution_count": 2
        }
      ]
    },
    {
      "cell_type": "code",
      "source": [
        "# Check the number of dimensions of a tensor (ndim stands for number of dimensions)\n",
        "\n",
        "scalar.ndim"
      ],
      "metadata": {
        "colab": {
          "base_uri": "https://localhost:8080/"
        },
        "id": "2lDkfaAZiZNl",
        "outputId": "cb668090-21f3-4a34-ee41-3b3f579a7ec3"
      },
      "execution_count": 3,
      "outputs": [
        {
          "output_type": "execute_result",
          "data": {
            "text/plain": [
              "0"
            ]
          },
          "metadata": {},
          "execution_count": 3
        }
      ]
    },
    {
      "cell_type": "code",
      "source": [
        "# Create a Vector\n",
        "\n",
        "vector =  tf.constant([10,10])\n",
        "vector"
      ],
      "metadata": {
        "colab": {
          "base_uri": "https://localhost:8080/"
        },
        "id": "lpkmewaAivHY",
        "outputId": "f198e81b-4261-4549-bba2-26d63d69e165"
      },
      "execution_count": 4,
      "outputs": [
        {
          "output_type": "execute_result",
          "data": {
            "text/plain": [
              "<tf.Tensor: shape=(2,), dtype=int32, numpy=array([10, 10], dtype=int32)>"
            ]
          },
          "metadata": {},
          "execution_count": 4
        }
      ]
    },
    {
      "cell_type": "code",
      "source": [
        "# Check dimensions of the vector\n",
        "\n",
        "vector.ndim"
      ],
      "metadata": {
        "colab": {
          "base_uri": "https://localhost:8080/"
        },
        "id": "fQ1MZAYrk_iX",
        "outputId": "a9638586-276e-4ff2-f137-a21bdd9a50cf"
      },
      "execution_count": 5,
      "outputs": [
        {
          "output_type": "execute_result",
          "data": {
            "text/plain": [
              "1"
            ]
          },
          "metadata": {},
          "execution_count": 5
        }
      ]
    },
    {
      "cell_type": "code",
      "source": [
        "# Create a matrix (has more dimensions)\n",
        "\n",
        "matrix = tf.constant([[10,7],[7,10]])\n",
        "matrix"
      ],
      "metadata": {
        "colab": {
          "base_uri": "https://localhost:8080/"
        },
        "id": "IWNE2PL8lFEV",
        "outputId": "d7f36fa7-8bde-422f-da91-1ce1fefd3b4a"
      },
      "execution_count": 6,
      "outputs": [
        {
          "output_type": "execute_result",
          "data": {
            "text/plain": [
              "<tf.Tensor: shape=(2, 2), dtype=int32, numpy=\n",
              "array([[10,  7],\n",
              "       [ 7, 10]], dtype=int32)>"
            ]
          },
          "metadata": {},
          "execution_count": 6
        }
      ]
    },
    {
      "cell_type": "code",
      "source": [
        "# Check dimensions of the matrix\n",
        "\n",
        "matrix.ndim"
      ],
      "metadata": {
        "colab": {
          "base_uri": "https://localhost:8080/"
        },
        "id": "BOVJav-MlrOj",
        "outputId": "29bb221a-70ab-4288-a471-6c5cbb4c0ff8"
      },
      "execution_count": 7,
      "outputs": [
        {
          "output_type": "execute_result",
          "data": {
            "text/plain": [
              "2"
            ]
          },
          "metadata": {},
          "execution_count": 7
        }
      ]
    },
    {
      "cell_type": "code",
      "source": [
        "# Create another matrix\n",
        "\n",
        "matrix_2 = tf.constant([[10.2,7.],[7.,10.2],[10.,7.2]], dtype = tf.float16) #spesify data type with parameter\n",
        "matrix_2"
      ],
      "metadata": {
        "colab": {
          "base_uri": "https://localhost:8080/"
        },
        "id": "wCzP2i0csxNB",
        "outputId": "1c20a365-52c6-473e-ff9d-06bd75b2f182"
      },
      "execution_count": 8,
      "outputs": [
        {
          "output_type": "execute_result",
          "data": {
            "text/plain": [
              "<tf.Tensor: shape=(3, 2), dtype=float16, numpy=\n",
              "array([[10.2,  7. ],\n",
              "       [ 7. , 10.2],\n",
              "       [10. ,  7.2]], dtype=float16)>"
            ]
          },
          "metadata": {},
          "execution_count": 8
        }
      ]
    },
    {
      "cell_type": "code",
      "source": [
        "# Check dimensions of the other matrix\n",
        "\n",
        "matrix.ndim"
      ],
      "metadata": {
        "colab": {
          "base_uri": "https://localhost:8080/"
        },
        "id": "KRmwrpe3tRAN",
        "outputId": "5bed4b01-9338-4c1b-c19e-6427387ae716"
      },
      "execution_count": 9,
      "outputs": [
        {
          "output_type": "execute_result",
          "data": {
            "text/plain": [
              "2"
            ]
          },
          "metadata": {},
          "execution_count": 9
        }
      ]
    },
    {
      "cell_type": "code",
      "source": [
        "# Lets create tensor\n",
        "\n",
        "tensor = tf.constant([[[1,2,3],\n",
        "                       [4,5,6]],\n",
        "                       [[7,8,9],\n",
        "                        [10,11,12]],\n",
        "                      [[13,14,15],\n",
        "                       [16,17,18]]])\n",
        "\n",
        "tensor"
      ],
      "metadata": {
        "colab": {
          "base_uri": "https://localhost:8080/"
        },
        "id": "PkL8fowJ0kSV",
        "outputId": "f6cec0d7-f1ca-4a7a-c774-7cd984e913ad"
      },
      "execution_count": 10,
      "outputs": [
        {
          "output_type": "execute_result",
          "data": {
            "text/plain": [
              "<tf.Tensor: shape=(3, 2, 3), dtype=int32, numpy=\n",
              "array([[[ 1,  2,  3],\n",
              "        [ 4,  5,  6]],\n",
              "\n",
              "       [[ 7,  8,  9],\n",
              "        [10, 11, 12]],\n",
              "\n",
              "       [[13, 14, 15],\n",
              "        [16, 17, 18]]], dtype=int32)>"
            ]
          },
          "metadata": {},
          "execution_count": 10
        }
      ]
    },
    {
      "cell_type": "code",
      "source": [
        "tensor.ndim"
      ],
      "metadata": {
        "colab": {
          "base_uri": "https://localhost:8080/"
        },
        "id": "Z7Xp6p5j1wTX",
        "outputId": "1971d606-0dc7-4c88-bcc0-4fe9aa3a6070"
      },
      "execution_count": 11,
      "outputs": [
        {
          "output_type": "execute_result",
          "data": {
            "text/plain": [
              "3"
            ]
          },
          "metadata": {},
          "execution_count": 11
        }
      ]
    },
    {
      "cell_type": "markdown",
      "source": [
        "What we create so far?\n",
        "\n",
        "* Scaler = is a single number\n",
        "* Vector = a number with direction (e.g wind speed)\n",
        "* matrix = a 2 dimensional array of numbers\n",
        "* tensor = an n-dimensional arrays of numbers (n can be any numbers ; 0-dimensional tensor is scaler, 1-dimensional tensor is vector, 2-dimensional tensor is matrix )"
      ],
      "metadata": {
        "id": "NwuH3CvN2HmK"
      }
    },
    {
      "cell_type": "markdown",
      "source": [
        "### Creating tensor with tf.Variable"
      ],
      "metadata": {
        "id": "auaSAAi4V-Vo"
      }
    },
    {
      "cell_type": "code",
      "source": [
        "# create the same tensor with tf.Variable() as above\n",
        "\n",
        "changeable_tensor = tf.Variable([10,7])\n",
        "unchangeable_tensor = tf.constant([10,7])\n",
        "\n",
        "changeable_tensor, unchangeable_tensor"
      ],
      "metadata": {
        "colab": {
          "base_uri": "https://localhost:8080/"
        },
        "id": "vh5rl2WFWFXc",
        "outputId": "48269366-1d5b-4b51-eeaa-aa6930b4f0b9"
      },
      "execution_count": 12,
      "outputs": [
        {
          "output_type": "execute_result",
          "data": {
            "text/plain": [
              "(<tf.Variable 'Variable:0' shape=(2,) dtype=int32, numpy=array([10,  7], dtype=int32)>,\n",
              " <tf.Tensor: shape=(2,), dtype=int32, numpy=array([10,  7], dtype=int32)>)"
            ]
          },
          "metadata": {},
          "execution_count": 12
        }
      ]
    },
    {
      "cell_type": "code",
      "source": [
        "# change the elemen in changeable tensor\n",
        "\n",
        "# changeable_tensor[0] = 7  #This way will make erorr\n",
        "\n",
        "#try use .assign()\n",
        "\n",
        "changeable_tensor[0].assign(7)\n",
        "changeable_tensor"
      ],
      "metadata": {
        "colab": {
          "base_uri": "https://localhost:8080/"
        },
        "id": "IKWYCUGwYckd",
        "outputId": "2a901f2d-221a-4483-c227-bc8a8740262c"
      },
      "execution_count": 13,
      "outputs": [
        {
          "output_type": "execute_result",
          "data": {
            "text/plain": [
              "<tf.Variable 'Variable:0' shape=(2,) dtype=int32, numpy=array([7, 7], dtype=int32)>"
            ]
          },
          "metadata": {},
          "execution_count": 13
        }
      ]
    },
    {
      "cell_type": "code",
      "source": [
        "# lets try change unchangeable_tensor\n",
        "\n",
        "#unchangeable_tensor[0].assign(7)\n",
        "#unchangeable_tensor\n",
        "\n",
        "# will make error cause const cant change"
      ],
      "metadata": {
        "id": "SmjVU4z4ZShJ"
      },
      "execution_count": 14,
      "outputs": []
    },
    {
      "cell_type": "markdown",
      "source": [
        "What we create so far?\n",
        "\n",
        "tf.constant = is a constant tensor that we cant change the value\n",
        "tf.Variable = is a changeable tensor\n",
        "\n",
        ".assign() = the syntax for change the value of the changeable tensor"
      ],
      "metadata": {
        "id": "owHSPdNPN9z5"
      }
    },
    {
      "cell_type": "markdown",
      "source": [
        "### Create random tensors\n",
        "\n",
        "random tensors are tensors of some abitrary size which contain random numbers"
      ],
      "metadata": {
        "id": "yrKU6_y_OTQP"
      }
    },
    {
      "cell_type": "code",
      "source": [
        "# create two random (but same) tensors\n",
        "\n",
        "random_1 = tf.random.Generator.from_seed(42) # set seed for reproducibility\n",
        "random_1 = random_1.normal(shape = (3,2))\n",
        "random_1"
      ],
      "metadata": {
        "colab": {
          "base_uri": "https://localhost:8080/"
        },
        "id": "3QvLNo9COXR1",
        "outputId": "171f8226-a14e-4726-9682-9c823156b016"
      },
      "execution_count": 15,
      "outputs": [
        {
          "output_type": "execute_result",
          "data": {
            "text/plain": [
              "<tf.Tensor: shape=(3, 2), dtype=float32, numpy=\n",
              "array([[-0.7565803 , -0.06854702],\n",
              "       [ 0.07595026, -1.2573844 ],\n",
              "       [-0.23193763, -1.8107855 ]], dtype=float32)>"
            ]
          },
          "metadata": {},
          "execution_count": 15
        }
      ]
    },
    {
      "cell_type": "code",
      "source": [
        "random_2 = tf.random.Generator.from_seed(42)\n",
        "random_2 = random_2.normal(shape = (3,2))\n",
        "random_2"
      ],
      "metadata": {
        "colab": {
          "base_uri": "https://localhost:8080/"
        },
        "id": "sAvKUe4JXLvs",
        "outputId": "10d8c7f8-482c-4ff0-8a51-71123067431f"
      },
      "execution_count": 16,
      "outputs": [
        {
          "output_type": "execute_result",
          "data": {
            "text/plain": [
              "<tf.Tensor: shape=(3, 2), dtype=float32, numpy=\n",
              "array([[-0.7565803 , -0.06854702],\n",
              "       [ 0.07595026, -1.2573844 ],\n",
              "       [-0.23193763, -1.8107855 ]], dtype=float32)>"
            ]
          },
          "metadata": {},
          "execution_count": 16
        }
      ]
    },
    {
      "cell_type": "code",
      "source": [
        "#  are they equal?\n",
        "\n",
        "random_1 == random_2"
      ],
      "metadata": {
        "colab": {
          "base_uri": "https://localhost:8080/"
        },
        "id": "zsA4JKK-XlH1",
        "outputId": "44ae874e-8cef-4d66-c481-f3d25f3e5f29"
      },
      "execution_count": 17,
      "outputs": [
        {
          "output_type": "execute_result",
          "data": {
            "text/plain": [
              "<tf.Tensor: shape=(3, 2), dtype=bool, numpy=\n",
              "array([[ True,  True],\n",
              "       [ True,  True],\n",
              "       [ True,  True]])>"
            ]
          },
          "metadata": {},
          "execution_count": 17
        }
      ]
    },
    {
      "cell_type": "markdown",
      "source": [
        "### Shuffle the order of elements in a tensor"
      ],
      "metadata": {
        "id": "krCeu0GKbhwD"
      }
    },
    {
      "cell_type": "code",
      "source": [
        "# shuffle a tensor (valuable if we want shuffle a data so the inherent order dosent effect learning)\n",
        "\n",
        "not_shuffled = tf.constant([[10,7],\n",
        "                            [13,2],\n",
        "                            [7,9]])\n",
        "#not_shuffled.ndim\n",
        "\n",
        "# shuffle our non_shuffled tensor\n",
        "#tf.random.set_seed(42) # global level seed\n",
        "tf.random.shuffle(not_shuffled, seed=42) # operation level seed"
      ],
      "metadata": {
        "colab": {
          "base_uri": "https://localhost:8080/"
        },
        "id": "XQ4SdXlMbmpc",
        "outputId": "a8b8caf9-ce93-4f51-89ee-950b7cf62819"
      },
      "execution_count": 18,
      "outputs": [
        {
          "output_type": "execute_result",
          "data": {
            "text/plain": [
              "<tf.Tensor: shape=(3, 2), dtype=int32, numpy=\n",
              "array([[ 7,  9],\n",
              "       [13,  2],\n",
              "       [10,  7]], dtype=int32)>"
            ]
          },
          "metadata": {},
          "execution_count": 18
        }
      ]
    },
    {
      "cell_type": "markdown",
      "source": [
        "⚡**EXERCISE** : read this documentation for set_seed https://www.tensorflow.org/api_docs/python/tf/random/set_seed , and practice writing 5 random tensors and shuffle them"
      ],
      "metadata": {
        "id": "hE96LFomeaOv"
      }
    },
    {
      "cell_type": "code",
      "source": [
        "# Exercise 1\n",
        "\n",
        "tensor_exercise1 = tf.constant([[1,2],\n",
        "                                 [3,4],\n",
        "                                 [5,6]])\n",
        "\n",
        "tf.random.shuffle(tensor_exercise1, seed=23)"
      ],
      "metadata": {
        "colab": {
          "base_uri": "https://localhost:8080/"
        },
        "id": "OwnpwJV_MdBc",
        "outputId": "b474e695-e094-43ab-80cc-042e2c49f294"
      },
      "execution_count": 19,
      "outputs": [
        {
          "output_type": "execute_result",
          "data": {
            "text/plain": [
              "<tf.Tensor: shape=(3, 2), dtype=int32, numpy=\n",
              "array([[5, 6],\n",
              "       [1, 2],\n",
              "       [3, 4]], dtype=int32)>"
            ]
          },
          "metadata": {},
          "execution_count": 19
        }
      ]
    },
    {
      "cell_type": "code",
      "source": [
        "# Exercise 2\n",
        "\n",
        "tensor_exercise2 = tf.constant([[[1,2],\n",
        "                                  [3,4]],\n",
        "                                 [[5,6],\n",
        "                                  [7,8]],\n",
        "                                 [[9,10],\n",
        "                                 [11,12]]])\n",
        "\n",
        "tf.random.set_seed(12) # global level seed\n",
        "tf.random.shuffle(tensor_exercise2)"
      ],
      "metadata": {
        "colab": {
          "base_uri": "https://localhost:8080/"
        },
        "id": "ClRuGxj3NSXk",
        "outputId": "82324471-6826-4d25-e433-fd823696565b"
      },
      "execution_count": 20,
      "outputs": [
        {
          "output_type": "execute_result",
          "data": {
            "text/plain": [
              "<tf.Tensor: shape=(3, 2, 2), dtype=int32, numpy=\n",
              "array([[[ 5,  6],\n",
              "        [ 7,  8]],\n",
              "\n",
              "       [[ 1,  2],\n",
              "        [ 3,  4]],\n",
              "\n",
              "       [[ 9, 10],\n",
              "        [11, 12]]], dtype=int32)>"
            ]
          },
          "metadata": {},
          "execution_count": 20
        }
      ]
    },
    {
      "cell_type": "code",
      "source": [
        "shuffle_tensor1 = tf.random.shuffle(tensor_exercise2, seed=42)"
      ],
      "metadata": {
        "id": "_srQHalXOAiF"
      },
      "execution_count": 21,
      "outputs": []
    },
    {
      "cell_type": "code",
      "source": [
        "shuffle_tensor2 = tf.random.shuffle(tensor_exercise2, seed=42)"
      ],
      "metadata": {
        "id": "JG2qCW12OpD7"
      },
      "execution_count": 22,
      "outputs": []
    },
    {
      "cell_type": "code",
      "source": [
        "#check if it equal\n",
        "shuffle_tensor1 == shuffle_tensor2"
      ],
      "metadata": {
        "colab": {
          "base_uri": "https://localhost:8080/"
        },
        "id": "KZLOrgL_O7f6",
        "outputId": "734aeb1d-c29e-4386-e469-257ea1f20aad"
      },
      "execution_count": 23,
      "outputs": [
        {
          "output_type": "execute_result",
          "data": {
            "text/plain": [
              "<tf.Tensor: shape=(3, 2, 2), dtype=bool, numpy=\n",
              "array([[[False, False],\n",
              "        [False, False]],\n",
              "\n",
              "       [[False, False],\n",
              "        [False, False]],\n",
              "\n",
              "       [[False, False],\n",
              "        [False, False]]])>"
            ]
          },
          "metadata": {},
          "execution_count": 23
        }
      ]
    },
    {
      "cell_type": "code",
      "source": [
        "# Exercise 3\n",
        "\n",
        "tensor_exercise3 = tf.random.Generator.from_seed(12)\n",
        "tensor_exercise3 = tensor_exercise3.normal(shape = (3,2))\n",
        "\n",
        "tensor_exercise3"
      ],
      "metadata": {
        "colab": {
          "base_uri": "https://localhost:8080/"
        },
        "id": "Lqr6ZDvcph5t",
        "outputId": "b81fe71a-5c10-4848-afaf-2fef91e2768b"
      },
      "execution_count": 24,
      "outputs": [
        {
          "output_type": "execute_result",
          "data": {
            "text/plain": [
              "<tf.Tensor: shape=(3, 2), dtype=float32, numpy=\n",
              "array([[-1.0130816 ,  0.28291714],\n",
              "       [ 1.2132233 ,  0.46988967],\n",
              "       [ 0.37944323, -0.6664026 ]], dtype=float32)>"
            ]
          },
          "metadata": {},
          "execution_count": 24
        }
      ]
    },
    {
      "cell_type": "code",
      "source": [
        "tf.random.shuffle(tensor_exercise3)"
      ],
      "metadata": {
        "colab": {
          "base_uri": "https://localhost:8080/"
        },
        "id": "vGy4UMH_qKeO",
        "outputId": "2ba99529-0bb2-4ab3-bfa2-21dd349d84ef"
      },
      "execution_count": 25,
      "outputs": [
        {
          "output_type": "execute_result",
          "data": {
            "text/plain": [
              "<tf.Tensor: shape=(3, 2), dtype=float32, numpy=\n",
              "array([[ 0.37944323, -0.6664026 ],\n",
              "       [ 1.2132233 ,  0.46988967],\n",
              "       [-1.0130816 ,  0.28291714]], dtype=float32)>"
            ]
          },
          "metadata": {},
          "execution_count": 25
        }
      ]
    },
    {
      "cell_type": "code",
      "source": [
        "# Exercise 4\n",
        "\n",
        "tensor_exercise4 = tf.random.Generator.from_seed(42)\n",
        "tensor_exercise4 = tensor_exercise4.normal(shape=(4,2,4))\n",
        "\n",
        "tensor_exercise4"
      ],
      "metadata": {
        "colab": {
          "base_uri": "https://localhost:8080/"
        },
        "id": "TjHdODeGqfKZ",
        "outputId": "f125ff5f-aaf5-4949-8c15-25efa014095e"
      },
      "execution_count": 26,
      "outputs": [
        {
          "output_type": "execute_result",
          "data": {
            "text/plain": [
              "<tf.Tensor: shape=(4, 2, 4), dtype=float32, numpy=\n",
              "array([[[-0.7565803 , -0.06854702,  0.07595026, -1.2573844 ],\n",
              "        [-0.23193763, -1.8107855 ,  0.09988727, -0.50998646]],\n",
              "\n",
              "       [[-0.7535805 , -0.57166284,  0.1480774 , -0.23362993],\n",
              "        [-0.3522796 ,  0.40621263, -1.0523509 ,  1.2054597 ]],\n",
              "\n",
              "       [[ 1.6874489 , -0.4462975 , -2.3410842 ,  0.99009085],\n",
              "        [-0.0876323 , -0.635568  , -0.6161736 , -1.9441465 ]],\n",
              "\n",
              "       [[-0.48293006, -0.52447474, -1.0345329 ,  1.3066901 ],\n",
              "        [-1.5184573 , -0.4585211 ,  0.5714663 , -1.5331722 ]]],\n",
              "      dtype=float32)>"
            ]
          },
          "metadata": {},
          "execution_count": 26
        }
      ]
    },
    {
      "cell_type": "code",
      "source": [
        "tf.random.shuffle(tensor_exercise4)"
      ],
      "metadata": {
        "colab": {
          "base_uri": "https://localhost:8080/"
        },
        "id": "xcN6jpKTrUOq",
        "outputId": "1f7cc7ee-2985-4a2b-8273-f35430a7fb91"
      },
      "execution_count": 27,
      "outputs": [
        {
          "output_type": "execute_result",
          "data": {
            "text/plain": [
              "<tf.Tensor: shape=(4, 2, 4), dtype=float32, numpy=\n",
              "array([[[ 1.6874489 , -0.4462975 , -2.3410842 ,  0.99009085],\n",
              "        [-0.0876323 , -0.635568  , -0.6161736 , -1.9441465 ]],\n",
              "\n",
              "       [[-0.48293006, -0.52447474, -1.0345329 ,  1.3066901 ],\n",
              "        [-1.5184573 , -0.4585211 ,  0.5714663 , -1.5331722 ]],\n",
              "\n",
              "       [[-0.7535805 , -0.57166284,  0.1480774 , -0.23362993],\n",
              "        [-0.3522796 ,  0.40621263, -1.0523509 ,  1.2054597 ]],\n",
              "\n",
              "       [[-0.7565803 , -0.06854702,  0.07595026, -1.2573844 ],\n",
              "        [-0.23193763, -1.8107855 ,  0.09988727, -0.50998646]]],\n",
              "      dtype=float32)>"
            ]
          },
          "metadata": {},
          "execution_count": 27
        }
      ]
    },
    {
      "cell_type": "code",
      "source": [
        "# Exercise 5\n",
        "\n",
        "tensor_exercise5 = tf.random.Generator.from_seed(42)\n",
        "tensor_exercise5 = tensor_exercise5.normal(shape=(2,8,3))\n",
        "\n",
        "tensor_exercise5"
      ],
      "metadata": {
        "colab": {
          "base_uri": "https://localhost:8080/"
        },
        "id": "HEmZAKIJrebp",
        "outputId": "5c638514-487c-455f-9927-8dd84d61cd2b"
      },
      "execution_count": 28,
      "outputs": [
        {
          "output_type": "execute_result",
          "data": {
            "text/plain": [
              "<tf.Tensor: shape=(2, 8, 3), dtype=float32, numpy=\n",
              "array([[[-0.7565803 , -0.06854702,  0.07595026],\n",
              "        [-1.2573844 , -0.23193763, -1.8107855 ],\n",
              "        [ 0.09988727, -0.50998646, -0.7535805 ],\n",
              "        [-0.57166284,  0.1480774 , -0.23362993],\n",
              "        [-0.3522796 ,  0.40621263, -1.0523509 ],\n",
              "        [ 1.2054597 ,  1.6874489 , -0.4462975 ],\n",
              "        [-2.3410842 ,  0.99009085, -0.0876323 ],\n",
              "        [-0.635568  , -0.6161736 , -1.9441465 ]],\n",
              "\n",
              "       [[-0.48293006, -0.52447474, -1.0345329 ],\n",
              "        [ 1.3066901 , -1.5184573 , -0.4585211 ],\n",
              "        [ 0.5714663 , -1.5331722 ,  0.45331386],\n",
              "        [ 1.1487608 , -1.2659091 , -0.47450137],\n",
              "        [ 2.006022  ,  0.28288034, -0.30288252],\n",
              "        [-1.443651  ,  1.0034493 ,  0.20857747],\n",
              "        [ 0.35700995,  1.0648885 ,  1.2432485 ],\n",
              "        [-2.2173238 ,  0.18706243,  0.6617961 ]]], dtype=float32)>"
            ]
          },
          "metadata": {},
          "execution_count": 28
        }
      ]
    },
    {
      "cell_type": "code",
      "source": [
        "tf.random.shuffle(tensor_exercise5)"
      ],
      "metadata": {
        "colab": {
          "base_uri": "https://localhost:8080/"
        },
        "id": "CmG0XbATsCAy",
        "outputId": "bda9df65-f6b5-498a-e7b4-174326eb74a7"
      },
      "execution_count": 29,
      "outputs": [
        {
          "output_type": "execute_result",
          "data": {
            "text/plain": [
              "<tf.Tensor: shape=(2, 8, 3), dtype=float32, numpy=\n",
              "array([[[-0.48293006, -0.52447474, -1.0345329 ],\n",
              "        [ 1.3066901 , -1.5184573 , -0.4585211 ],\n",
              "        [ 0.5714663 , -1.5331722 ,  0.45331386],\n",
              "        [ 1.1487608 , -1.2659091 , -0.47450137],\n",
              "        [ 2.006022  ,  0.28288034, -0.30288252],\n",
              "        [-1.443651  ,  1.0034493 ,  0.20857747],\n",
              "        [ 0.35700995,  1.0648885 ,  1.2432485 ],\n",
              "        [-2.2173238 ,  0.18706243,  0.6617961 ]],\n",
              "\n",
              "       [[-0.7565803 , -0.06854702,  0.07595026],\n",
              "        [-1.2573844 , -0.23193763, -1.8107855 ],\n",
              "        [ 0.09988727, -0.50998646, -0.7535805 ],\n",
              "        [-0.57166284,  0.1480774 , -0.23362993],\n",
              "        [-0.3522796 ,  0.40621263, -1.0523509 ],\n",
              "        [ 1.2054597 ,  1.6874489 , -0.4462975 ],\n",
              "        [-2.3410842 ,  0.99009085, -0.0876323 ],\n",
              "        [-0.635568  , -0.6161736 , -1.9441465 ]]], dtype=float32)>"
            ]
          },
          "metadata": {},
          "execution_count": 29
        }
      ]
    },
    {
      "cell_type": "markdown",
      "source": [
        "### Other ways to create tensor"
      ],
      "metadata": {
        "id": "kd9SF9RtysaL"
      }
    },
    {
      "cell_type": "code",
      "source": [
        "# create tensor of all ones\n",
        "\n",
        "tf.ones([10,5])"
      ],
      "metadata": {
        "colab": {
          "base_uri": "https://localhost:8080/"
        },
        "id": "hSGr3_WhyziB",
        "outputId": "ab6bfa80-6f93-4ef6-87cf-81805d8beeae"
      },
      "execution_count": 30,
      "outputs": [
        {
          "output_type": "execute_result",
          "data": {
            "text/plain": [
              "<tf.Tensor: shape=(10, 5), dtype=float32, numpy=\n",
              "array([[1., 1., 1., 1., 1.],\n",
              "       [1., 1., 1., 1., 1.],\n",
              "       [1., 1., 1., 1., 1.],\n",
              "       [1., 1., 1., 1., 1.],\n",
              "       [1., 1., 1., 1., 1.],\n",
              "       [1., 1., 1., 1., 1.],\n",
              "       [1., 1., 1., 1., 1.],\n",
              "       [1., 1., 1., 1., 1.],\n",
              "       [1., 1., 1., 1., 1.],\n",
              "       [1., 1., 1., 1., 1.]], dtype=float32)>"
            ]
          },
          "metadata": {},
          "execution_count": 30
        }
      ]
    },
    {
      "cell_type": "code",
      "source": [
        "# create tensor of all zeroes\n",
        "\n",
        "tf.zeros(shape=(3,5))"
      ],
      "metadata": {
        "colab": {
          "base_uri": "https://localhost:8080/"
        },
        "id": "qPfbC5Ziy-Gj",
        "outputId": "a6c4119e-b873-4bbb-c0a6-8e9ec42b1052"
      },
      "execution_count": 31,
      "outputs": [
        {
          "output_type": "execute_result",
          "data": {
            "text/plain": [
              "<tf.Tensor: shape=(3, 5), dtype=float32, numpy=\n",
              "array([[0., 0., 0., 0., 0.],\n",
              "       [0., 0., 0., 0., 0.],\n",
              "       [0., 0., 0., 0., 0.]], dtype=float32)>"
            ]
          },
          "metadata": {},
          "execution_count": 31
        }
      ]
    },
    {
      "cell_type": "markdown",
      "source": [
        "### Turn numpy arrays into tensors\n",
        "\n",
        "The main deferent between numpy arrays and tensors is tensors can run in GPU (Fasters)"
      ],
      "metadata": {
        "id": "JNH9uQrtzoL5"
      }
    },
    {
      "cell_type": "code",
      "source": [
        "# You can also turn numpy arrays into tensors\n",
        "\n",
        "import numpy as np\n",
        "\n",
        "numpy_A = np.arange(1, 25, dtype=np.int32) # create numpy array between 1 and 25\n",
        "numpy_A\n",
        "\n",
        "# x = tf.constant(some_matrix)  #capital for matrix or tensors\n",
        "# y = tf.constant(vector)       #non capital for vector"
      ],
      "metadata": {
        "colab": {
          "base_uri": "https://localhost:8080/"
        },
        "id": "4nou-jAKza0M",
        "outputId": "20c1db58-9ac6-4a59-e301-57269512e838"
      },
      "execution_count": 32,
      "outputs": [
        {
          "output_type": "execute_result",
          "data": {
            "text/plain": [
              "array([ 1,  2,  3,  4,  5,  6,  7,  8,  9, 10, 11, 12, 13, 14, 15, 16, 17,\n",
              "       18, 19, 20, 21, 22, 23, 24], dtype=int32)"
            ]
          },
          "metadata": {},
          "execution_count": 32
        }
      ]
    },
    {
      "cell_type": "code",
      "source": [
        "A = tf.constant(numpy_A) # its will be tensors\n",
        "A"
      ],
      "metadata": {
        "colab": {
          "base_uri": "https://localhost:8080/"
        },
        "id": "87tCuNON6URs",
        "outputId": "324f4194-4316-465d-c56c-cfda96b800f1"
      },
      "execution_count": 33,
      "outputs": [
        {
          "output_type": "execute_result",
          "data": {
            "text/plain": [
              "<tf.Tensor: shape=(24,), dtype=int32, numpy=\n",
              "array([ 1,  2,  3,  4,  5,  6,  7,  8,  9, 10, 11, 12, 13, 14, 15, 16, 17,\n",
              "       18, 19, 20, 21, 22, 23, 24], dtype=int32)>"
            ]
          },
          "metadata": {},
          "execution_count": 33
        }
      ]
    },
    {
      "cell_type": "code",
      "source": [
        "B = tf.constant(numpy_A, shape=(4,3,2))\n",
        "B"
      ],
      "metadata": {
        "colab": {
          "base_uri": "https://localhost:8080/"
        },
        "id": "NYTENXE17PRx",
        "outputId": "cc8ac509-c848-4d79-d8db-e404b5ff2555"
      },
      "execution_count": 34,
      "outputs": [
        {
          "output_type": "execute_result",
          "data": {
            "text/plain": [
              "<tf.Tensor: shape=(4, 3, 2), dtype=int32, numpy=\n",
              "array([[[ 1,  2],\n",
              "        [ 3,  4],\n",
              "        [ 5,  6]],\n",
              "\n",
              "       [[ 7,  8],\n",
              "        [ 9, 10],\n",
              "        [11, 12]],\n",
              "\n",
              "       [[13, 14],\n",
              "        [15, 16],\n",
              "        [17, 18]],\n",
              "\n",
              "       [[19, 20],\n",
              "        [21, 22],\n",
              "        [23, 24]]], dtype=int32)>"
            ]
          },
          "metadata": {},
          "execution_count": 34
        }
      ]
    },
    {
      "cell_type": "markdown",
      "source": [
        "### Getting information from tensors\n",
        "\n",
        "When dealing with tensors, we probably want to know the following atribut :\n",
        "* Shape\n",
        "* Rank\n",
        "* Axis or dimension\n",
        "* Size"
      ],
      "metadata": {
        "id": "W1VWXtG2-qC6"
      }
    },
    {
      "cell_type": "code",
      "source": [
        "# Create a rank 4 tensor (4 dimensions)\n",
        "\n",
        "rank_4_tensor = tf.zeros(shape=(2,3,4,5))\n",
        "rank_4_tensor"
      ],
      "metadata": {
        "colab": {
          "base_uri": "https://localhost:8080/"
        },
        "id": "I7WaJTZk_gYX",
        "outputId": "9f179df8-3c77-4a20-c7fd-148518ba1940"
      },
      "execution_count": 35,
      "outputs": [
        {
          "output_type": "execute_result",
          "data": {
            "text/plain": [
              "<tf.Tensor: shape=(2, 3, 4, 5), dtype=float32, numpy=\n",
              "array([[[[0., 0., 0., 0., 0.],\n",
              "         [0., 0., 0., 0., 0.],\n",
              "         [0., 0., 0., 0., 0.],\n",
              "         [0., 0., 0., 0., 0.]],\n",
              "\n",
              "        [[0., 0., 0., 0., 0.],\n",
              "         [0., 0., 0., 0., 0.],\n",
              "         [0., 0., 0., 0., 0.],\n",
              "         [0., 0., 0., 0., 0.]],\n",
              "\n",
              "        [[0., 0., 0., 0., 0.],\n",
              "         [0., 0., 0., 0., 0.],\n",
              "         [0., 0., 0., 0., 0.],\n",
              "         [0., 0., 0., 0., 0.]]],\n",
              "\n",
              "\n",
              "       [[[0., 0., 0., 0., 0.],\n",
              "         [0., 0., 0., 0., 0.],\n",
              "         [0., 0., 0., 0., 0.],\n",
              "         [0., 0., 0., 0., 0.]],\n",
              "\n",
              "        [[0., 0., 0., 0., 0.],\n",
              "         [0., 0., 0., 0., 0.],\n",
              "         [0., 0., 0., 0., 0.],\n",
              "         [0., 0., 0., 0., 0.]],\n",
              "\n",
              "        [[0., 0., 0., 0., 0.],\n",
              "         [0., 0., 0., 0., 0.],\n",
              "         [0., 0., 0., 0., 0.],\n",
              "         [0., 0., 0., 0., 0.]]]], dtype=float32)>"
            ]
          },
          "metadata": {},
          "execution_count": 35
        }
      ]
    },
    {
      "cell_type": "code",
      "source": [
        "# index tensor\n",
        "\n",
        "rank_4_tensor[0,0,0,0]"
      ],
      "metadata": {
        "colab": {
          "base_uri": "https://localhost:8080/"
        },
        "id": "s_0RGl32DKUO",
        "outputId": "53f3be61-c6f4-4f75-af32-3a25079a89f0"
      },
      "execution_count": 36,
      "outputs": [
        {
          "output_type": "execute_result",
          "data": {
            "text/plain": [
              "<tf.Tensor: shape=(), dtype=float32, numpy=0.0>"
            ]
          },
          "metadata": {},
          "execution_count": 36
        }
      ]
    },
    {
      "cell_type": "code",
      "source": [
        "# check the shape, rank, and size\n",
        "\n",
        "rank_4_tensor.shape, rank_4_tensor.ndim, tf.size(rank_4_tensor)"
      ],
      "metadata": {
        "colab": {
          "base_uri": "https://localhost:8080/"
        },
        "id": "aLvaaxhIEPJ8",
        "outputId": "b42b91dc-cf74-4bd7-89a7-e19d5ec91041"
      },
      "execution_count": 37,
      "outputs": [
        {
          "output_type": "execute_result",
          "data": {
            "text/plain": [
              "(TensorShape([2, 3, 4, 5]), 4, <tf.Tensor: shape=(), dtype=int32, numpy=120>)"
            ]
          },
          "metadata": {},
          "execution_count": 37
        }
      ]
    },
    {
      "cell_type": "markdown",
      "source": [
        "### Indexing tensors\n",
        "\n",
        "Tensors can be indexing just like pyton list"
      ],
      "metadata": {
        "id": "iCZtT2t_HJiM"
      }
    },
    {
      "cell_type": "code",
      "source": [
        "# Get the first 2 elements of each dimension\n",
        "\n",
        "rank_4_tensor[:2,:2,:2,:2]"
      ],
      "metadata": {
        "colab": {
          "base_uri": "https://localhost:8080/"
        },
        "id": "7P39KAInHQQs",
        "outputId": "dd21830f-19d4-442b-98af-9c75babdad1e"
      },
      "execution_count": 38,
      "outputs": [
        {
          "output_type": "execute_result",
          "data": {
            "text/plain": [
              "<tf.Tensor: shape=(2, 2, 2, 2), dtype=float32, numpy=\n",
              "array([[[[0., 0.],\n",
              "         [0., 0.]],\n",
              "\n",
              "        [[0., 0.],\n",
              "         [0., 0.]]],\n",
              "\n",
              "\n",
              "       [[[0., 0.],\n",
              "         [0., 0.]],\n",
              "\n",
              "        [[0., 0.],\n",
              "         [0., 0.]]]], dtype=float32)>"
            ]
          },
          "metadata": {},
          "execution_count": 38
        }
      ]
    },
    {
      "cell_type": "code",
      "source": [
        "# create rank 2 tensor\n",
        "rank_2_tensor = tf.constant([[1,2],\n",
        "                             [3,4]])\n",
        "rank_2_tensor"
      ],
      "metadata": {
        "colab": {
          "base_uri": "https://localhost:8080/"
        },
        "id": "wC7x2YliJd-q",
        "outputId": "5800752b-3c28-49b3-c274-b9adaae2e8c3"
      },
      "execution_count": 39,
      "outputs": [
        {
          "output_type": "execute_result",
          "data": {
            "text/plain": [
              "<tf.Tensor: shape=(2, 2), dtype=int32, numpy=\n",
              "array([[1, 2],\n",
              "       [3, 4]], dtype=int32)>"
            ]
          },
          "metadata": {},
          "execution_count": 39
        }
      ]
    },
    {
      "cell_type": "code",
      "source": [
        "# Get the last item of each row\n",
        "\n",
        "rank_2_tensor[:,-1]"
      ],
      "metadata": {
        "colab": {
          "base_uri": "https://localhost:8080/"
        },
        "id": "6fXX7OHiJ23J",
        "outputId": "54417580-b47a-4bba-c33b-91e966dfed55"
      },
      "execution_count": 40,
      "outputs": [
        {
          "output_type": "execute_result",
          "data": {
            "text/plain": [
              "<tf.Tensor: shape=(2,), dtype=int32, numpy=array([2, 4], dtype=int32)>"
            ]
          },
          "metadata": {},
          "execution_count": 40
        }
      ]
    },
    {
      "cell_type": "code",
      "source": [
        "# Add extra dimension to our tensor\n",
        "\n",
        "rank_3_tensor = rank_2_tensor[...,tf.newaxis]\n",
        "rank_3_tensor\n",
        "\n"
      ],
      "metadata": {
        "colab": {
          "base_uri": "https://localhost:8080/"
        },
        "id": "ieChmjGTKVHP",
        "outputId": "0b8fa8b9-dc45-4767-e897-ac28215d6f82"
      },
      "execution_count": 41,
      "outputs": [
        {
          "output_type": "execute_result",
          "data": {
            "text/plain": [
              "<tf.Tensor: shape=(2, 2, 1), dtype=int32, numpy=\n",
              "array([[[1],\n",
              "        [2]],\n",
              "\n",
              "       [[3],\n",
              "        [4]]], dtype=int32)>"
            ]
          },
          "metadata": {},
          "execution_count": 41
        }
      ]
    },
    {
      "cell_type": "code",
      "source": [
        "rank_2_tensor.ndim, rank_3_tensor.ndim"
      ],
      "metadata": {
        "colab": {
          "base_uri": "https://localhost:8080/"
        },
        "id": "rIjv6Vz4LJI3",
        "outputId": "ebfceaa2-fe44-47fc-999c-ec1adc8963cc"
      },
      "execution_count": 42,
      "outputs": [
        {
          "output_type": "execute_result",
          "data": {
            "text/plain": [
              "(2, 3)"
            ]
          },
          "metadata": {},
          "execution_count": 42
        }
      ]
    },
    {
      "cell_type": "code",
      "source": [
        "# Alternative to tf.newaxis\n",
        "\n",
        "tf.expand_dims(rank_2_tensor, axis=-1) # \"-1\" means expand the final axis\n"
      ],
      "metadata": {
        "id": "uqtmHcoSMHU0",
        "colab": {
          "base_uri": "https://localhost:8080/"
        },
        "outputId": "0931cd4d-255a-4680-a854-2f6de8fa24de"
      },
      "execution_count": 43,
      "outputs": [
        {
          "output_type": "execute_result",
          "data": {
            "text/plain": [
              "<tf.Tensor: shape=(2, 2, 1), dtype=int32, numpy=\n",
              "array([[[1],\n",
              "        [2]],\n",
              "\n",
              "       [[3],\n",
              "        [4]]], dtype=int32)>"
            ]
          },
          "metadata": {},
          "execution_count": 43
        }
      ]
    },
    {
      "cell_type": "code",
      "source": [
        "rank_2_tensor"
      ],
      "metadata": {
        "colab": {
          "base_uri": "https://localhost:8080/"
        },
        "id": "Z_4bnfs0kDN8",
        "outputId": "64e942ce-1978-42fe-b821-7df3f3fd4ab5"
      },
      "execution_count": 44,
      "outputs": [
        {
          "output_type": "execute_result",
          "data": {
            "text/plain": [
              "<tf.Tensor: shape=(2, 2), dtype=int32, numpy=\n",
              "array([[1, 2],\n",
              "       [3, 4]], dtype=int32)>"
            ]
          },
          "metadata": {},
          "execution_count": 44
        }
      ]
    },
    {
      "cell_type": "markdown",
      "source": [
        "### Manipulating Tensors (Tensor Operation)\n",
        "\n",
        "**Basic Operation**"
      ],
      "metadata": {
        "id": "cqJIH41ClD2l"
      }
    },
    {
      "cell_type": "code",
      "source": [
        "# Add values to tensors using addition operation\n",
        "\n",
        "tensor_op_1 = tf.constant([[10,7],\n",
        "                           [3,4]])\n",
        "tensor_op_1 + 10"
      ],
      "metadata": {
        "colab": {
          "base_uri": "https://localhost:8080/"
        },
        "id": "RCHa8thJlIr9",
        "outputId": "11693c11-9d89-4fbd-cb4b-95a4466e1843"
      },
      "execution_count": 45,
      "outputs": [
        {
          "output_type": "execute_result",
          "data": {
            "text/plain": [
              "<tf.Tensor: shape=(2, 2), dtype=int32, numpy=\n",
              "array([[20, 17],\n",
              "       [13, 14]], dtype=int32)>"
            ]
          },
          "metadata": {},
          "execution_count": 45
        }
      ]
    },
    {
      "cell_type": "code",
      "source": [
        "# check the value\n",
        "tensor_op_1 # the value dosent change"
      ],
      "metadata": {
        "colab": {
          "base_uri": "https://localhost:8080/"
        },
        "id": "kuD_eN0Al2TK",
        "outputId": "1f9191ff-0606-4101-d48d-108f5aee6b12"
      },
      "execution_count": 46,
      "outputs": [
        {
          "output_type": "execute_result",
          "data": {
            "text/plain": [
              "<tf.Tensor: shape=(2, 2), dtype=int32, numpy=\n",
              "array([[10,  7],\n",
              "       [ 3,  4]], dtype=int32)>"
            ]
          },
          "metadata": {},
          "execution_count": 46
        }
      ]
    },
    {
      "cell_type": "code",
      "source": [
        "# Multiplication\n",
        "\n",
        "tensor_op_1 * 10"
      ],
      "metadata": {
        "colab": {
          "base_uri": "https://localhost:8080/"
        },
        "id": "2_vtGjbNmFds",
        "outputId": "a55be093-2ca1-41c9-cb63-de256012e7f5"
      },
      "execution_count": 47,
      "outputs": [
        {
          "output_type": "execute_result",
          "data": {
            "text/plain": [
              "<tf.Tensor: shape=(2, 2), dtype=int32, numpy=\n",
              "array([[100,  70],\n",
              "       [ 30,  40]], dtype=int32)>"
            ]
          },
          "metadata": {},
          "execution_count": 47
        }
      ]
    },
    {
      "cell_type": "code",
      "source": [
        "# Substraction\n",
        "\n",
        "tensor_op_1 - 100"
      ],
      "metadata": {
        "colab": {
          "base_uri": "https://localhost:8080/"
        },
        "id": "w0d5vKAwmLdz",
        "outputId": "4402437e-c8bb-4780-a551-1390a41327c2"
      },
      "execution_count": 48,
      "outputs": [
        {
          "output_type": "execute_result",
          "data": {
            "text/plain": [
              "<tf.Tensor: shape=(2, 2), dtype=int32, numpy=\n",
              "array([[-90, -93],\n",
              "       [-97, -96]], dtype=int32)>"
            ]
          },
          "metadata": {},
          "execution_count": 48
        }
      ]
    },
    {
      "cell_type": "code",
      "source": [
        "#\n",
        "\n",
        "tensor_op_1 / 2"
      ],
      "metadata": {
        "colab": {
          "base_uri": "https://localhost:8080/"
        },
        "id": "Wfzeey9umScI",
        "outputId": "874d2a7d-21b6-4cf7-c23f-2369865c170b"
      },
      "execution_count": 49,
      "outputs": [
        {
          "output_type": "execute_result",
          "data": {
            "text/plain": [
              "<tf.Tensor: shape=(2, 2), dtype=float64, numpy=\n",
              "array([[5. , 3.5],\n",
              "       [1.5, 2. ]])>"
            ]
          },
          "metadata": {},
          "execution_count": 49
        }
      ]
    },
    {
      "cell_type": "code",
      "source": [
        "# Use the tensorflow built-in function\n",
        "\n",
        "tf.multiply(tensor_op_1, 10)"
      ],
      "metadata": {
        "colab": {
          "base_uri": "https://localhost:8080/"
        },
        "id": "OQzMkSvYmc1C",
        "outputId": "0a1c338f-983f-47f2-bac3-4c1e0ac48816"
      },
      "execution_count": 50,
      "outputs": [
        {
          "output_type": "execute_result",
          "data": {
            "text/plain": [
              "<tf.Tensor: shape=(2, 2), dtype=int32, numpy=\n",
              "array([[100,  70],\n",
              "       [ 30,  40]], dtype=int32)>"
            ]
          },
          "metadata": {},
          "execution_count": 50
        }
      ]
    },
    {
      "cell_type": "markdown",
      "source": [
        "### Matrix Multipication\n",
        "\n",
        "In machine learning, matrix multipication is one common tensor operations\n",
        "\n",
        "Two rules :\n",
        "1. The inner dimensions must match\n",
        "2. The resulting matrix has shape of the outer dimensions\n",
        "\n",
        "for the example : if we have 3,2 and 2,3 matrix <br>\n",
        "the \"3\" from the first matrix and \"3\" from the second is the outer<br>\n",
        "the \"2\" from the first matrix and \"2\" from the second is the inner"
      ],
      "metadata": {
        "id": "E4RDwmigtLOi"
      }
    },
    {
      "cell_type": "code",
      "source": [
        " # Matrix multiplication in tensorflow\n",
        "\n",
        " print(tensor_op_1)\n",
        " tf.matmul(tensor_op_1, tensor_op_1)"
      ],
      "metadata": {
        "colab": {
          "base_uri": "https://localhost:8080/"
        },
        "id": "HimeDZn2tZbJ",
        "outputId": "b78bc3ff-c996-4d5d-83cf-fd69c240cd07"
      },
      "execution_count": 51,
      "outputs": [
        {
          "output_type": "stream",
          "name": "stdout",
          "text": [
            "tf.Tensor(\n",
            "[[10  7]\n",
            " [ 3  4]], shape=(2, 2), dtype=int32)\n"
          ]
        },
        {
          "output_type": "execute_result",
          "data": {
            "text/plain": [
              "<tf.Tensor: shape=(2, 2), dtype=int32, numpy=\n",
              "array([[121,  98],\n",
              "       [ 42,  37]], dtype=int32)>"
            ]
          },
          "metadata": {},
          "execution_count": 51
        }
      ]
    },
    {
      "cell_type": "code",
      "source": [
        "# Matrix multiplication with Python operatot \"@\"\n",
        "\n",
        "tensor_op_1 @ tensor_op_1\n",
        "\n",
        "# Just can use if the matrix shape([2,2])"
      ],
      "metadata": {
        "colab": {
          "base_uri": "https://localhost:8080/"
        },
        "id": "w2sU3KLAyHm5",
        "outputId": "2c01c92b-15b7-4102-c808-947f621444af"
      },
      "execution_count": 52,
      "outputs": [
        {
          "output_type": "execute_result",
          "data": {
            "text/plain": [
              "<tf.Tensor: shape=(2, 2), dtype=int32, numpy=\n",
              "array([[121,  98],\n",
              "       [ 42,  37]], dtype=int32)>"
            ]
          },
          "metadata": {},
          "execution_count": 52
        }
      ]
    },
    {
      "cell_type": "code",
      "source": [
        "# create a example tensor (little exercise)\n",
        "\n",
        "tensor1 = tf.constant([[1,2,5],\n",
        "                       [7,2,1],\n",
        "                       [3,3,3]])\n",
        "\n",
        "tensor2 = tf.constant([[3,5],\n",
        "                       [6,7],\n",
        "                       [1,8]])"
      ],
      "metadata": {
        "id": "ux0f7tHhveBL"
      },
      "execution_count": 53,
      "outputs": []
    },
    {
      "cell_type": "code",
      "source": [
        "# multyply the tensor\n",
        "\n",
        "tf.matmul(tensor1, tensor2)"
      ],
      "metadata": {
        "colab": {
          "base_uri": "https://localhost:8080/"
        },
        "id": "23Re4jzKwk-j",
        "outputId": "576ca303-7ddc-4895-d67e-9722380289b7"
      },
      "execution_count": 54,
      "outputs": [
        {
          "output_type": "execute_result",
          "data": {
            "text/plain": [
              "<tf.Tensor: shape=(3, 2), dtype=int32, numpy=\n",
              "array([[20, 59],\n",
              "       [34, 57],\n",
              "       [30, 60]], dtype=int32)>"
            ]
          },
          "metadata": {},
          "execution_count": 54
        }
      ]
    },
    {
      "cell_type": "code",
      "source": [
        "# try to reshape\n",
        "\n",
        "tf.reshape(tensor2, shape=(2,3))"
      ],
      "metadata": {
        "colab": {
          "base_uri": "https://localhost:8080/"
        },
        "id": "b2AP3xt_K1M_",
        "outputId": "c8634da4-619b-4a28-987c-460af7525753"
      },
      "execution_count": 55,
      "outputs": [
        {
          "output_type": "execute_result",
          "data": {
            "text/plain": [
              "<tf.Tensor: shape=(2, 3), dtype=int32, numpy=\n",
              "array([[3, 5, 6],\n",
              "       [7, 1, 8]], dtype=int32)>"
            ]
          },
          "metadata": {},
          "execution_count": 55
        }
      ]
    },
    {
      "cell_type": "code",
      "source": [
        "# We can do same with transpose\n",
        "\n",
        "tf.transpose(tensor2) # have deferent output from the reshape cause its flip the axis"
      ],
      "metadata": {
        "colab": {
          "base_uri": "https://localhost:8080/"
        },
        "id": "fWRv_vHWN1nW",
        "outputId": "b397d2a2-f3f8-43c1-b3ad-f8573a37df5e"
      },
      "execution_count": 56,
      "outputs": [
        {
          "output_type": "execute_result",
          "data": {
            "text/plain": [
              "<tf.Tensor: shape=(2, 3), dtype=int32, numpy=\n",
              "array([[3, 6, 1],\n",
              "       [5, 7, 8]], dtype=int32)>"
            ]
          },
          "metadata": {},
          "execution_count": 56
        }
      ]
    },
    {
      "cell_type": "code",
      "source": [
        "# try by my self\n",
        "\n",
        "tf.matmul(tf.transpose(tensor1), tf.transpose(tensor1))"
      ],
      "metadata": {
        "colab": {
          "base_uri": "https://localhost:8080/"
        },
        "id": "GXNc2n7IODX0",
        "outputId": "d7c7ad45-7993-44fd-ae6c-14c1aa1b14ea"
      },
      "execution_count": 57,
      "outputs": [
        {
          "output_type": "execute_result",
          "data": {
            "text/plain": [
              "<tf.Tensor: shape=(3, 3), dtype=int32, numpy=\n",
              "array([[30, 24, 33],\n",
              "       [21, 21, 21],\n",
              "       [22, 40, 27]], dtype=int32)>"
            ]
          },
          "metadata": {},
          "execution_count": 57
        }
      ]
    },
    {
      "cell_type": "markdown",
      "source": [
        "### The dot Product\n",
        "\n",
        "Matrix multiplication is also referred to as the dot product\n",
        "\n",
        "We can perform matrix multiplication with :\n",
        "* `tf.matmul()`\n",
        "* `tf.tensordot()`"
      ],
      "metadata": {
        "id": "QOGisO_7a-CZ"
      }
    },
    {
      "cell_type": "code",
      "source": [
        "# make the tensor first\n",
        "\n",
        "X = tf.constant([[1,2],\n",
        "                 [3,4],\n",
        "                 [5,6]])\n",
        "\n",
        "Y = tf.constant([[7,8],\n",
        "                 [9,10],\n",
        "                 [11,12]])"
      ],
      "metadata": {
        "id": "uIHd_MPUcJWP"
      },
      "execution_count": 58,
      "outputs": []
    },
    {
      "cell_type": "code",
      "source": [
        "# Perform the dot product  on X and Y (requires the X and Y to be transposed)\n",
        "\n",
        "tf.tensordot(tf.transpose(X), Y, axes=1)"
      ],
      "metadata": {
        "colab": {
          "base_uri": "https://localhost:8080/"
        },
        "id": "1-uvmot4bZT7",
        "outputId": "3d991875-4a4a-4678-b72a-bf8bed7076b6"
      },
      "execution_count": 59,
      "outputs": [
        {
          "output_type": "execute_result",
          "data": {
            "text/plain": [
              "<tf.Tensor: shape=(2, 2), dtype=int32, numpy=\n",
              "array([[ 89,  98],\n",
              "       [116, 128]], dtype=int32)>"
            ]
          },
          "metadata": {},
          "execution_count": 59
        }
      ]
    },
    {
      "cell_type": "code",
      "source": [
        "# Perform matrix multiplication between X and Y (transposed)\n",
        "\n",
        "tf.matmul(X, tf.transpose(Y))"
      ],
      "metadata": {
        "colab": {
          "base_uri": "https://localhost:8080/"
        },
        "id": "y9I1lqDxc7_J",
        "outputId": "30368f44-3e4c-46c4-9c72-f40c29714d9a"
      },
      "execution_count": 60,
      "outputs": [
        {
          "output_type": "execute_result",
          "data": {
            "text/plain": [
              "<tf.Tensor: shape=(3, 3), dtype=int32, numpy=\n",
              "array([[ 23,  29,  35],\n",
              "       [ 53,  67,  81],\n",
              "       [ 83, 105, 127]], dtype=int32)>"
            ]
          },
          "metadata": {},
          "execution_count": 60
        }
      ]
    },
    {
      "cell_type": "code",
      "source": [
        "# Perform matrix multiplication between X and Y (reshape)\n",
        "\n",
        "tf.matmul(X, tf.reshape(Y, shape=(2,3)))"
      ],
      "metadata": {
        "colab": {
          "base_uri": "https://localhost:8080/"
        },
        "id": "P8gCKpsGdPDN",
        "outputId": "ffb2a07f-fec1-460d-be7d-7954ad25325c"
      },
      "execution_count": 61,
      "outputs": [
        {
          "output_type": "execute_result",
          "data": {
            "text/plain": [
              "<tf.Tensor: shape=(3, 3), dtype=int32, numpy=\n",
              "array([[ 27,  30,  33],\n",
              "       [ 61,  68,  75],\n",
              "       [ 95, 106, 117]], dtype=int32)>"
            ]
          },
          "metadata": {},
          "execution_count": 61
        }
      ]
    },
    {
      "cell_type": "code",
      "source": [
        "# Check the values of Y, reshape Y and transpose Y\n",
        "\n",
        "print(\"Normal Y:\")\n",
        "print(Y, \"\\n \")\n",
        "\n",
        "print(\"Y reshaped to (2, 3) :\")\n",
        "print(tf.reshape(Y, shape=(2,3)), \"\\n\")\n",
        "\n",
        "print(\"Y transposed :\")\n",
        "print(tf.transpose(Y))"
      ],
      "metadata": {
        "id": "YAk1ElCQd7dE",
        "colab": {
          "base_uri": "https://localhost:8080/"
        },
        "outputId": "965b8c33-3d72-4c6e-8bd6-2e20a64b13b4"
      },
      "execution_count": 62,
      "outputs": [
        {
          "output_type": "stream",
          "name": "stdout",
          "text": [
            "Normal Y:\n",
            "tf.Tensor(\n",
            "[[ 7  8]\n",
            " [ 9 10]\n",
            " [11 12]], shape=(3, 2), dtype=int32) \n",
            " \n",
            "Y reshaped to (2, 3) :\n",
            "tf.Tensor(\n",
            "[[ 7  8  9]\n",
            " [10 11 12]], shape=(2, 3), dtype=int32) \n",
            "\n",
            "Y transposed :\n",
            "tf.Tensor(\n",
            "[[ 7  9 11]\n",
            " [ 8 10 12]], shape=(2, 3), dtype=int32)\n"
          ]
        }
      ]
    },
    {
      "cell_type": "markdown",
      "source": [
        "Generally, when performing multiplication, we will transpose (rather than reshape)"
      ],
      "metadata": {
        "id": "xNpvbPSwrHjd"
      }
    },
    {
      "cell_type": "markdown",
      "source": [
        "###  Changing the datatype of a tensor"
      ],
      "metadata": {
        "id": "xHw3FF-orX67"
      }
    },
    {
      "cell_type": "code",
      "source": [
        "tf.__version__"
      ],
      "metadata": {
        "colab": {
          "base_uri": "https://localhost:8080/",
          "height": 35
        },
        "id": "8BkpT1qQuoNb",
        "outputId": "d6cd2957-202c-41c2-f61d-19536983b962"
      },
      "execution_count": 63,
      "outputs": [
        {
          "output_type": "execute_result",
          "data": {
            "text/plain": [
              "'2.15.0'"
            ],
            "application/vnd.google.colaboratory.intrinsic+json": {
              "type": "string"
            }
          },
          "metadata": {},
          "execution_count": 63
        }
      ]
    },
    {
      "cell_type": "code",
      "source": [
        "# create new tensor with default datatype (float32)\n",
        "\n",
        "A = tf.constant([1.2, 5.7])\n",
        "A.dtype\n"
      ],
      "metadata": {
        "colab": {
          "base_uri": "https://localhost:8080/"
        },
        "id": "c5WzksJLuW4F",
        "outputId": "3aacae05-37ab-4083-b823-a70d3601ce98"
      },
      "execution_count": 64,
      "outputs": [
        {
          "output_type": "execute_result",
          "data": {
            "text/plain": [
              "tf.float32"
            ]
          },
          "metadata": {},
          "execution_count": 64
        }
      ]
    },
    {
      "cell_type": "code",
      "source": [
        "# create new tensor with default datatype (int32)\n",
        "\n",
        "B = tf.constant([2,3])\n",
        "B.dtype"
      ],
      "metadata": {
        "colab": {
          "base_uri": "https://localhost:8080/"
        },
        "id": "Lv0du3zAu0hV",
        "outputId": "40875f10-3c0c-4ae5-bca5-4b3ed233d9aa"
      },
      "execution_count": 65,
      "outputs": [
        {
          "output_type": "execute_result",
          "data": {
            "text/plain": [
              "tf.int32"
            ]
          },
          "metadata": {},
          "execution_count": 65
        }
      ]
    },
    {
      "cell_type": "code",
      "source": [
        "# Change from float32 to float16 (reduced precision)\n",
        "\n",
        "A = tf.cast(A, dtype=tf.float16)\n",
        "A.dtype"
      ],
      "metadata": {
        "colab": {
          "base_uri": "https://localhost:8080/"
        },
        "id": "GooELPyaxXes",
        "outputId": "d5d8e512-11aa-4fc4-f3ba-9441648ea19b"
      },
      "execution_count": 66,
      "outputs": [
        {
          "output_type": "execute_result",
          "data": {
            "text/plain": [
              "tf.float16"
            ]
          },
          "metadata": {},
          "execution_count": 66
        }
      ]
    },
    {
      "cell_type": "code",
      "source": [
        "# Change ftom int32 to int16\n",
        "\n",
        "B = tf.cast(B, dtype=tf.int16)\n",
        "B.dtype"
      ],
      "metadata": {
        "colab": {
          "base_uri": "https://localhost:8080/"
        },
        "id": "9cTF33SNx7MK",
        "outputId": "057d254c-fe9b-47ae-e817-b3578c940c9e"
      },
      "execution_count": 67,
      "outputs": [
        {
          "output_type": "execute_result",
          "data": {
            "text/plain": [
              "tf.int16"
            ]
          },
          "metadata": {},
          "execution_count": 67
        }
      ]
    },
    {
      "cell_type": "markdown",
      "source": [
        "### Aggregating Tensors\n",
        "\n",
        "Aggregating tensors = condesing them from multiple values down to a smaller amount of values"
      ],
      "metadata": {
        "id": "VI-71oKjzddP"
      }
    },
    {
      "cell_type": "code",
      "source": [
        "# Get the absolute values\n",
        "\n",
        "D = tf.constant([-7, -10])\n",
        "D"
      ],
      "metadata": {
        "colab": {
          "base_uri": "https://localhost:8080/"
        },
        "id": "hyDfnPU4zgaG",
        "outputId": "5f3ab974-182a-4eba-e825-6da82491d792"
      },
      "execution_count": 68,
      "outputs": [
        {
          "output_type": "execute_result",
          "data": {
            "text/plain": [
              "<tf.Tensor: shape=(2,), dtype=int32, numpy=array([ -7, -10], dtype=int32)>"
            ]
          },
          "metadata": {},
          "execution_count": 68
        }
      ]
    },
    {
      "cell_type": "code",
      "source": [
        "# Get the absolute values\n",
        "\n",
        "tf.abs(D)"
      ],
      "metadata": {
        "colab": {
          "base_uri": "https://localhost:8080/"
        },
        "id": "1bu52b4j0bl0",
        "outputId": "3531ee5c-d0ca-42ba-991b-bd9c8c712551"
      },
      "execution_count": 69,
      "outputs": [
        {
          "output_type": "execute_result",
          "data": {
            "text/plain": [
              "<tf.Tensor: shape=(2,), dtype=int32, numpy=array([ 7, 10], dtype=int32)>"
            ]
          },
          "metadata": {},
          "execution_count": 69
        }
      ]
    },
    {
      "cell_type": "markdown",
      "source": [
        "**Following forms of aggregation :**\n",
        "\n",
        "* Get the minimum\n",
        "* Get the maximum\n",
        "* Get the mean of tensor\n",
        "* Get the sum of tensor"
      ],
      "metadata": {
        "id": "MHym_BUyBM7q"
      }
    },
    {
      "cell_type": "code",
      "source": [
        "# Find the min\n",
        "\n",
        "tf.math.reduce_min(D)"
      ],
      "metadata": {
        "colab": {
          "base_uri": "https://localhost:8080/"
        },
        "id": "lcw4ihCAB00i",
        "outputId": "cc908a8d-e6a0-4e83-f0cd-8515e1e08983"
      },
      "execution_count": 70,
      "outputs": [
        {
          "output_type": "execute_result",
          "data": {
            "text/plain": [
              "<tf.Tensor: shape=(), dtype=int32, numpy=-10>"
            ]
          },
          "metadata": {},
          "execution_count": 70
        }
      ]
    },
    {
      "cell_type": "code",
      "source": [
        "# Find the max\n",
        "\n",
        "tf.math.reduce_max(D)"
      ],
      "metadata": {
        "colab": {
          "base_uri": "https://localhost:8080/"
        },
        "id": "WrmSqZJ8B8Ti",
        "outputId": "3918f502-2abc-4a92-f24d-3f0ab2881dd8"
      },
      "execution_count": 71,
      "outputs": [
        {
          "output_type": "execute_result",
          "data": {
            "text/plain": [
              "<tf.Tensor: shape=(), dtype=int32, numpy=-7>"
            ]
          },
          "metadata": {},
          "execution_count": 71
        }
      ]
    },
    {
      "cell_type": "code",
      "source": [
        "# find the mean\n",
        "\n",
        "tf.math.reduce_mean(D)"
      ],
      "metadata": {
        "colab": {
          "base_uri": "https://localhost:8080/"
        },
        "id": "j0fdLcMYA-Dn",
        "outputId": "b539ae5c-c6f0-4eba-8a64-97936e9c5b38"
      },
      "execution_count": 72,
      "outputs": [
        {
          "output_type": "execute_result",
          "data": {
            "text/plain": [
              "<tf.Tensor: shape=(), dtype=int32, numpy=-8>"
            ]
          },
          "metadata": {},
          "execution_count": 72
        }
      ]
    },
    {
      "cell_type": "code",
      "source": [
        "# Find the sum\n",
        "\n",
        "tf.math.reduce_sum(D)"
      ],
      "metadata": {
        "colab": {
          "base_uri": "https://localhost:8080/"
        },
        "id": "iwO2jPPoCCTN",
        "outputId": "a1378f36-7078-40f8-d68f-128f4a64e740"
      },
      "execution_count": 73,
      "outputs": [
        {
          "output_type": "execute_result",
          "data": {
            "text/plain": [
              "<tf.Tensor: shape=(), dtype=int32, numpy=-17>"
            ]
          },
          "metadata": {},
          "execution_count": 73
        }
      ]
    },
    {
      "cell_type": "code",
      "source": [
        "# create random tensor with values between 0 and 100\n",
        "\n",
        "random_tensor = tf.constant(np.random.randint(0,100, size=150))\n",
        "random_tensor"
      ],
      "metadata": {
        "colab": {
          "base_uri": "https://localhost:8080/"
        },
        "id": "IRjr4vJIDfAs",
        "outputId": "48b510bb-9a6a-4080-8064-e60e43fb761b"
      },
      "execution_count": 74,
      "outputs": [
        {
          "output_type": "execute_result",
          "data": {
            "text/plain": [
              "<tf.Tensor: shape=(150,), dtype=int64, numpy=\n",
              "array([79, 10, 59,  8, 44, 57, 28, 46, 89, 27, 55, 72, 73,  7, 64, 13, 83,\n",
              "       67,  6,  4, 59, 83, 45, 28, 66, 59, 16, 92, 65, 59, 73, 97, 56, 83,\n",
              "       26, 89, 60,  5, 90, 53, 73, 52, 42, 81, 17, 21, 55, 61, 26, 42, 56,\n",
              "       90, 39, 23, 60, 44, 69, 59, 12, 68, 10, 63,  3, 10, 79, 41, 94, 21,\n",
              "       72, 59, 96, 55, 87, 45, 69, 98, 12, 83, 24, 60, 58, 72, 13,  1, 82,\n",
              "       91, 37, 16, 86, 92, 22, 66, 85, 41,  7,  0, 95, 34, 45, 29, 26, 63,\n",
              "       49, 35, 68, 69, 78, 11, 38, 75, 19, 94, 26, 10, 96, 50,  3, 90, 83,\n",
              "       96, 51, 25, 85, 98, 12, 28, 96, 80, 27, 11,  7, 66, 69, 67,  7, 41,\n",
              "       81, 29, 30, 73, 57, 50,  2, 48, 60,  8, 20, 74, 87, 78])>"
            ]
          },
          "metadata": {},
          "execution_count": 74
        }
      ]
    },
    {
      "cell_type": "code",
      "source": [
        "tf.size(random_tensor), random_tensor.ndim, random_tensor.shape"
      ],
      "metadata": {
        "colab": {
          "base_uri": "https://localhost:8080/"
        },
        "id": "x0XxW587EkbJ",
        "outputId": "a4d1977b-8fd9-41a2-e93d-f58abaf7ca28"
      },
      "execution_count": 75,
      "outputs": [
        {
          "output_type": "execute_result",
          "data": {
            "text/plain": [
              "(<tf.Tensor: shape=(), dtype=int32, numpy=150>, 1, TensorShape([150]))"
            ]
          },
          "metadata": {},
          "execution_count": 75
        }
      ]
    },
    {
      "cell_type": "code",
      "source": [
        "# Find the min\n",
        "\n",
        "tf.reduce_min(random_tensor)"
      ],
      "metadata": {
        "colab": {
          "base_uri": "https://localhost:8080/"
        },
        "id": "IDTdhBaPD81r",
        "outputId": "35d586df-9727-4798-dec4-0e60fe5e98d3"
      },
      "execution_count": 76,
      "outputs": [
        {
          "output_type": "execute_result",
          "data": {
            "text/plain": [
              "<tf.Tensor: shape=(), dtype=int64, numpy=0>"
            ]
          },
          "metadata": {},
          "execution_count": 76
        }
      ]
    },
    {
      "cell_type": "code",
      "source": [
        "# Find the max\n",
        "\n",
        "tf.reduce_max(random_tensor)"
      ],
      "metadata": {
        "colab": {
          "base_uri": "https://localhost:8080/"
        },
        "id": "3w2Ry3IFEG_h",
        "outputId": "7b948b33-d429-4946-bf9b-74b117bad5a1"
      },
      "execution_count": 77,
      "outputs": [
        {
          "output_type": "execute_result",
          "data": {
            "text/plain": [
              "<tf.Tensor: shape=(), dtype=int64, numpy=98>"
            ]
          },
          "metadata": {},
          "execution_count": 77
        }
      ]
    },
    {
      "cell_type": "code",
      "source": [
        "# Find the mean\n",
        "\n",
        "tf.reduce_mean(random_tensor)"
      ],
      "metadata": {
        "colab": {
          "base_uri": "https://localhost:8080/"
        },
        "id": "XDpHj_9FEN4n",
        "outputId": "5ec7e62e-494b-48c5-9b26-bfb2919f46ff"
      },
      "execution_count": 78,
      "outputs": [
        {
          "output_type": "execute_result",
          "data": {
            "text/plain": [
              "<tf.Tensor: shape=(), dtype=int64, numpy=51>"
            ]
          },
          "metadata": {},
          "execution_count": 78
        }
      ]
    },
    {
      "cell_type": "code",
      "source": [
        "# Find the sum\n",
        "\n",
        "tf.reduce_sum(random_tensor)"
      ],
      "metadata": {
        "colab": {
          "base_uri": "https://localhost:8080/"
        },
        "id": "NbIoKU4EEYHV",
        "outputId": "bc2fecf3-f08b-4277-e632-62b941d4657b"
      },
      "execution_count": 79,
      "outputs": [
        {
          "output_type": "execute_result",
          "data": {
            "text/plain": [
              "<tf.Tensor: shape=(), dtype=int64, numpy=7684>"
            ]
          },
          "metadata": {},
          "execution_count": 79
        }
      ]
    },
    {
      "cell_type": "markdown",
      "source": [
        "⚡**EXERCISE** : Find the variance and standard deviation of our random_tensor"
      ],
      "metadata": {
        "id": "uw5S6DpHFDhR"
      }
    },
    {
      "cell_type": "code",
      "source": [
        "# import tfp for find variance\n",
        "\n",
        "import tensorflow_probability as tfp"
      ],
      "metadata": {
        "id": "wZJ8L-HdRHLt"
      },
      "execution_count": 80,
      "outputs": []
    },
    {
      "cell_type": "code",
      "source": [
        "# Find the variance\n",
        "\n",
        "tfp.stats.variance(random_tensor)"
      ],
      "metadata": {
        "colab": {
          "base_uri": "https://localhost:8080/"
        },
        "id": "Sx9mJfH2OL_w",
        "outputId": "21994355-3877-45e5-8b04-4668e707391a"
      },
      "execution_count": 81,
      "outputs": [
        {
          "output_type": "execute_result",
          "data": {
            "text/plain": [
              "<tf.Tensor: shape=(), dtype=int64, numpy=838>"
            ]
          },
          "metadata": {},
          "execution_count": 81
        }
      ]
    },
    {
      "cell_type": "code",
      "source": [
        "# but we can just use tf to find variance but its must in float (real or complex tensor)\n",
        "\n",
        "tf.math.reduce_variance(tf.cast(random_tensor, dtype=tf.float64))"
      ],
      "metadata": {
        "colab": {
          "base_uri": "https://localhost:8080/"
        },
        "id": "mV3AeuplS2Nc",
        "outputId": "42523c75-75e5-432b-edd9-ad3f2c311142"
      },
      "execution_count": 82,
      "outputs": [
        {
          "output_type": "execute_result",
          "data": {
            "text/plain": [
              "<tf.Tensor: shape=(), dtype=float64, numpy=838.4552888888888>"
            ]
          },
          "metadata": {},
          "execution_count": 82
        }
      ]
    },
    {
      "cell_type": "code",
      "source": [
        "# Find the standard deviation\n",
        "\n",
        "tf.math.reduce_std(tf.cast(random_tensor, dtype=tf.float64))"
      ],
      "metadata": {
        "colab": {
          "base_uri": "https://localhost:8080/"
        },
        "id": "A9HfE1ypR0dJ",
        "outputId": "08d6614a-6523-485c-c405-9a6fc5f979ba"
      },
      "execution_count": 83,
      "outputs": [
        {
          "output_type": "execute_result",
          "data": {
            "text/plain": [
              "<tf.Tensor: shape=(), dtype=float64, numpy=28.956092431281>"
            ]
          },
          "metadata": {},
          "execution_count": 83
        }
      ]
    },
    {
      "cell_type": "markdown",
      "source": [
        "### Find the Positional maximum and minimum"
      ],
      "metadata": {
        "id": "-YFxW4P4VVqL"
      }
    },
    {
      "cell_type": "code",
      "source": [
        "# create new tensor\n",
        "\n",
        "tensorA = tf.constant(np.random.randint(0,15, size=50))\n",
        "tensorA"
      ],
      "metadata": {
        "id": "sWGsX20jb3jM",
        "colab": {
          "base_uri": "https://localhost:8080/"
        },
        "outputId": "29f3e8b7-342d-4015-d444-03c67814a7a2"
      },
      "execution_count": 84,
      "outputs": [
        {
          "output_type": "execute_result",
          "data": {
            "text/plain": [
              "<tf.Tensor: shape=(50,), dtype=int64, numpy=\n",
              "array([ 6,  6, 11,  6,  5,  0,  7,  5,  9,  5,  2, 12,  8,  5,  7,  6,  6,\n",
              "        3, 13,  2,  5, 14, 14, 11,  4, 12, 13,  5,  3,  4,  2,  4,  1,  5,\n",
              "        2, 12,  6,  0, 11,  2,  7,  8,  9, 11,  9,  2,  6, 10, 12,  1])>"
            ]
          },
          "metadata": {},
          "execution_count": 84
        }
      ]
    },
    {
      "cell_type": "code",
      "source": [
        "# Find positional maximum\n",
        "\n",
        "tf.argmax(tensorA)"
      ],
      "metadata": {
        "id": "YbXKoA3ucKgj",
        "colab": {
          "base_uri": "https://localhost:8080/"
        },
        "outputId": "96151af7-bd65-4194-b838-c9ff8f482e9a"
      },
      "execution_count": 85,
      "outputs": [
        {
          "output_type": "execute_result",
          "data": {
            "text/plain": [
              "<tf.Tensor: shape=(), dtype=int64, numpy=21>"
            ]
          },
          "metadata": {},
          "execution_count": 85
        }
      ]
    },
    {
      "cell_type": "code",
      "source": [
        "# index the large value\n",
        "\n",
        "tensorA[tf.argmax(tensorA)]"
      ],
      "metadata": {
        "colab": {
          "base_uri": "https://localhost:8080/"
        },
        "id": "xzEc9wBeeW9y",
        "outputId": "194e914c-24b4-48d8-b155-1e42c5fa04ec"
      },
      "execution_count": 86,
      "outputs": [
        {
          "output_type": "execute_result",
          "data": {
            "text/plain": [
              "<tf.Tensor: shape=(), dtype=int64, numpy=14>"
            ]
          },
          "metadata": {},
          "execution_count": 86
        }
      ]
    },
    {
      "cell_type": "code",
      "source": [
        "# Find positional minimum\n",
        "\n",
        "tf.argmin(tensorA)"
      ],
      "metadata": {
        "colab": {
          "base_uri": "https://localhost:8080/"
        },
        "id": "QRBMbOjRe6YK",
        "outputId": "84f3c762-7950-4086-98df-67f4c722be38"
      },
      "execution_count": 87,
      "outputs": [
        {
          "output_type": "execute_result",
          "data": {
            "text/plain": [
              "<tf.Tensor: shape=(), dtype=int64, numpy=5>"
            ]
          },
          "metadata": {},
          "execution_count": 87
        }
      ]
    },
    {
      "cell_type": "markdown",
      "source": [],
      "metadata": {
        "id": "IcJVdWt-g8Tl"
      }
    },
    {
      "cell_type": "code",
      "source": [
        "# Index the smallest value\n",
        "\n",
        "tensorA[tf.argmin(tensorA)]"
      ],
      "metadata": {
        "colab": {
          "base_uri": "https://localhost:8080/"
        },
        "id": "oaUu7UcBfAv8",
        "outputId": "72dfa7b2-6918-4b28-9b07-1fd69ea9499e"
      },
      "execution_count": 88,
      "outputs": [
        {
          "output_type": "execute_result",
          "data": {
            "text/plain": [
              "<tf.Tensor: shape=(), dtype=int64, numpy=0>"
            ]
          },
          "metadata": {},
          "execution_count": 88
        }
      ]
    },
    {
      "cell_type": "code",
      "source": [
        "# just create a random tensor\n",
        "\n",
        "random1 = tf.constant(np.random.randint(0, 15, size=10))\n",
        "random2 = tf.constant(np.random.randint(0,15, size=10))\n",
        "\n",
        "print(random1, random2)"
      ],
      "metadata": {
        "colab": {
          "base_uri": "https://localhost:8080/"
        },
        "id": "84gXTVybWKyx",
        "outputId": "4e8160b8-b180-4c84-d428-4a3042a5b6c8"
      },
      "execution_count": 89,
      "outputs": [
        {
          "output_type": "stream",
          "name": "stdout",
          "text": [
            "tf.Tensor([ 0  1 12 11  4  9  3  6  6  7], shape=(10,), dtype=int64) tf.Tensor([ 9  1 12  4 12 14  7  2 14  4], shape=(10,), dtype=int64)\n"
          ]
        }
      ]
    },
    {
      "cell_type": "code",
      "source": [
        "# Find positional maximum\n",
        "\n",
        "tf.math.maximum(random1, random2)"
      ],
      "metadata": {
        "colab": {
          "base_uri": "https://localhost:8080/"
        },
        "id": "M9cIy2oeWxZ6",
        "outputId": "b8e3ad81-61fd-414f-ecff-d6fb633ca428"
      },
      "execution_count": 90,
      "outputs": [
        {
          "output_type": "execute_result",
          "data": {
            "text/plain": [
              "<tf.Tensor: shape=(10,), dtype=int64, numpy=array([ 9,  1, 12, 11, 12, 14,  7,  6, 14,  7])>"
            ]
          },
          "metadata": {},
          "execution_count": 90
        }
      ]
    },
    {
      "cell_type": "code",
      "source": [
        "# Find positional minimum\n",
        "\n",
        "tf.math.minimum(random1, random2)"
      ],
      "metadata": {
        "colab": {
          "base_uri": "https://localhost:8080/"
        },
        "id": "fOgx4VmbXUlr",
        "outputId": "e3d69b9a-320c-4f10-9111-b9e495d597d8"
      },
      "execution_count": 91,
      "outputs": [
        {
          "output_type": "execute_result",
          "data": {
            "text/plain": [
              "<tf.Tensor: shape=(10,), dtype=int64, numpy=array([ 0,  1, 12,  4,  4,  9,  3,  2,  6,  4])>"
            ]
          },
          "metadata": {},
          "execution_count": 91
        }
      ]
    },
    {
      "cell_type": "code",
      "source": [
        "# create more example\n",
        "\n",
        "random3 = tf.constant([[[1,2],\n",
        "                       [3,8]],\n",
        "                       [[9,2],\n",
        "                        [7,3]]])\n",
        "\n",
        "random4 = tf.constant([[[3,8],\n",
        "                       [9,10]],\n",
        "                       [[29,4],\n",
        "                        [4,8]]])\n",
        "\n",
        "random3, random4"
      ],
      "metadata": {
        "colab": {
          "base_uri": "https://localhost:8080/"
        },
        "id": "VALPGNl5Xhgj",
        "outputId": "bcfa58c1-e0db-40bb-c27a-e6990bd8c77e"
      },
      "execution_count": 92,
      "outputs": [
        {
          "output_type": "execute_result",
          "data": {
            "text/plain": [
              "(<tf.Tensor: shape=(2, 2, 2), dtype=int32, numpy=\n",
              " array([[[1, 2],\n",
              "         [3, 8]],\n",
              " \n",
              "        [[9, 2],\n",
              "         [7, 3]]], dtype=int32)>,\n",
              " <tf.Tensor: shape=(2, 2, 2), dtype=int32, numpy=\n",
              " array([[[ 3,  8],\n",
              "         [ 9, 10]],\n",
              " \n",
              "        [[29,  4],\n",
              "         [ 4,  8]]], dtype=int32)>)"
            ]
          },
          "metadata": {},
          "execution_count": 92
        }
      ]
    },
    {
      "cell_type": "code",
      "source": [
        "# Find positional maximum\n",
        "\n",
        "tf.math.maximum(random3, random4)"
      ],
      "metadata": {
        "colab": {
          "base_uri": "https://localhost:8080/"
        },
        "id": "UgfpfvcrX_9T",
        "outputId": "bf2c3377-991e-419f-9807-0fdb97651869"
      },
      "execution_count": 93,
      "outputs": [
        {
          "output_type": "execute_result",
          "data": {
            "text/plain": [
              "<tf.Tensor: shape=(2, 2, 2), dtype=int32, numpy=\n",
              "array([[[ 3,  8],\n",
              "        [ 9, 10]],\n",
              "\n",
              "       [[29,  4],\n",
              "        [ 7,  8]]], dtype=int32)>"
            ]
          },
          "metadata": {},
          "execution_count": 93
        }
      ]
    },
    {
      "cell_type": "code",
      "source": [
        "# Find positional minimum\n",
        "\n",
        "tf.math.maximum(random3, random4)"
      ],
      "metadata": {
        "colab": {
          "base_uri": "https://localhost:8080/"
        },
        "id": "xDmP61ZuYFRH",
        "outputId": "6342ead9-37fe-4605-ed96-1824c406dfe2"
      },
      "execution_count": 94,
      "outputs": [
        {
          "output_type": "execute_result",
          "data": {
            "text/plain": [
              "<tf.Tensor: shape=(2, 2, 2), dtype=int32, numpy=\n",
              "array([[[ 3,  8],\n",
              "        [ 9, 10]],\n",
              "\n",
              "       [[29,  4],\n",
              "        [ 7,  8]]], dtype=int32)>"
            ]
          },
          "metadata": {},
          "execution_count": 94
        }
      ]
    },
    {
      "cell_type": "markdown",
      "source": [
        "### Squeezing a tensor (removing all single dimensions)"
      ],
      "metadata": {
        "id": "pFFyrXwR2W4_"
      }
    },
    {
      "cell_type": "code",
      "source": [
        "# Create a tensor to get started\n",
        "\n",
        "G = tf.constant(tf.random.uniform(shape=[50]), shape=(2, 1, 1, 1, 25))\n",
        "G"
      ],
      "metadata": {
        "id": "Q9ebDe9Ycxpi",
        "colab": {
          "base_uri": "https://localhost:8080/"
        },
        "outputId": "841427d6-d25a-48d2-d51f-0cb999b4805a"
      },
      "execution_count": 95,
      "outputs": [
        {
          "output_type": "execute_result",
          "data": {
            "text/plain": [
              "<tf.Tensor: shape=(2, 1, 1, 1, 25), dtype=float32, numpy=\n",
              "array([[[[[0.79978   , 0.8948238 , 0.39822733, 0.39745378, 0.07829857,\n",
              "           0.16906297, 0.04041338, 0.94953513, 0.24754536, 0.8756521 ,\n",
              "           0.3054012 , 0.05631793, 0.78040993, 0.36824238, 0.02072537,\n",
              "           0.5164361 , 0.90202785, 0.4387293 , 0.2045883 , 0.18139648,\n",
              "           0.84017384, 0.96967316, 0.6941571 , 0.02483487, 0.8024013 ]]]],\n",
              "\n",
              "\n",
              "\n",
              "       [[[[0.24896455, 0.94637156, 0.08169639, 0.26656103, 0.7582942 ,\n",
              "           0.1050272 , 0.9802648 , 0.3198321 , 0.814749  , 0.79346156,\n",
              "           0.8850808 , 0.00581694, 0.0769527 , 0.7721684 , 0.35605192,\n",
              "           0.7837372 , 0.69836867, 0.93739164, 0.21395409, 0.12435579,\n",
              "           0.21066833, 0.95097876, 0.9655094 , 0.76438355, 0.9313054 ]]]]],\n",
              "      dtype=float32)>"
            ]
          },
          "metadata": {},
          "execution_count": 95
        }
      ]
    },
    {
      "cell_type": "code",
      "source": [
        "G.shape"
      ],
      "metadata": {
        "colab": {
          "base_uri": "https://localhost:8080/"
        },
        "id": "I58hsKGq3OkR",
        "outputId": "ae3d8d2d-54aa-4c4e-a0e4-322e8c582345"
      },
      "execution_count": 96,
      "outputs": [
        {
          "output_type": "execute_result",
          "data": {
            "text/plain": [
              "TensorShape([2, 1, 1, 1, 25])"
            ]
          },
          "metadata": {},
          "execution_count": 96
        }
      ]
    },
    {
      "cell_type": "markdown",
      "source": [],
      "metadata": {
        "id": "Mww8YEn5wde5"
      }
    },
    {
      "cell_type": "code",
      "source": [
        "G_squeezed = tf.squeeze(G)\n",
        "G_squeezed, G_squeezed.shape"
      ],
      "metadata": {
        "colab": {
          "base_uri": "https://localhost:8080/"
        },
        "id": "FuEaCFwt3RAv",
        "outputId": "70d9d205-3cf7-4722-bb7f-65dfec5689d8"
      },
      "execution_count": 97,
      "outputs": [
        {
          "output_type": "execute_result",
          "data": {
            "text/plain": [
              "(<tf.Tensor: shape=(2, 25), dtype=float32, numpy=\n",
              " array([[0.79978   , 0.8948238 , 0.39822733, 0.39745378, 0.07829857,\n",
              "         0.16906297, 0.04041338, 0.94953513, 0.24754536, 0.8756521 ,\n",
              "         0.3054012 , 0.05631793, 0.78040993, 0.36824238, 0.02072537,\n",
              "         0.5164361 , 0.90202785, 0.4387293 , 0.2045883 , 0.18139648,\n",
              "         0.84017384, 0.96967316, 0.6941571 , 0.02483487, 0.8024013 ],\n",
              "        [0.24896455, 0.94637156, 0.08169639, 0.26656103, 0.7582942 ,\n",
              "         0.1050272 , 0.9802648 , 0.3198321 , 0.814749  , 0.79346156,\n",
              "         0.8850808 , 0.00581694, 0.0769527 , 0.7721684 , 0.35605192,\n",
              "         0.7837372 , 0.69836867, 0.93739164, 0.21395409, 0.12435579,\n",
              "         0.21066833, 0.95097876, 0.9655094 , 0.76438355, 0.9313054 ]],\n",
              "       dtype=float32)>,\n",
              " TensorShape([2, 25]))"
            ]
          },
          "metadata": {},
          "execution_count": 97
        }
      ]
    },
    {
      "cell_type": "markdown",
      "source": [
        "### One-hot encoding"
      ],
      "metadata": {
        "id": "rTX9y_-K4__n"
      }
    },
    {
      "cell_type": "code",
      "source": [
        "# Create a list of indices\n",
        "\n",
        "some_list = [0, 1, 2, 3] # could be red, green, blue, purple\n",
        "\n",
        "# One hot encode our list of indices\\\n",
        "tf.one_hot(some_list, depth=4)"
      ],
      "metadata": {
        "id": "ueW9loLd5CWc",
        "colab": {
          "base_uri": "https://localhost:8080/"
        },
        "outputId": "82feae27-fd4b-42c9-fa2a-e7618f539a86"
      },
      "execution_count": 98,
      "outputs": [
        {
          "output_type": "execute_result",
          "data": {
            "text/plain": [
              "<tf.Tensor: shape=(4, 4), dtype=float32, numpy=\n",
              "array([[1., 0., 0., 0.],\n",
              "       [0., 1., 0., 0.],\n",
              "       [0., 0., 1., 0.],\n",
              "       [0., 0., 0., 1.]], dtype=float32)>"
            ]
          },
          "metadata": {},
          "execution_count": 98
        }
      ]
    },
    {
      "cell_type": "code",
      "source": [
        "# Specify custom values for one hot encoding\n",
        "tf.one_hot(some_list, depth=4, on_value=\"yo i love deep learning\", off_value=\"i also like shalom\")"
      ],
      "metadata": {
        "colab": {
          "base_uri": "https://localhost:8080/"
        },
        "id": "3EZomk0HdO81",
        "outputId": "be17ff3c-0849-4d49-ae9d-f0d60b57759b"
      },
      "execution_count": 99,
      "outputs": [
        {
          "output_type": "execute_result",
          "data": {
            "text/plain": [
              "<tf.Tensor: shape=(4, 4), dtype=string, numpy=\n",
              "array([[b'yo i love deep learning', b'i also like shalom',\n",
              "        b'i also like shalom', b'i also like shalom'],\n",
              "       [b'i also like shalom', b'yo i love deep learning',\n",
              "        b'i also like shalom', b'i also like shalom'],\n",
              "       [b'i also like shalom', b'i also like shalom',\n",
              "        b'yo i love deep learning', b'i also like shalom'],\n",
              "       [b'i also like shalom', b'i also like shalom',\n",
              "        b'i also like shalom', b'yo i love deep learning']], dtype=object)>"
            ]
          },
          "metadata": {},
          "execution_count": 99
        }
      ]
    },
    {
      "cell_type": "code",
      "source": [
        "# Create my own list for little exercise\n",
        "\n",
        "listRandom = [0, 1, 2, 3, 4, 5]\n",
        "\n",
        "# one hot encode\n",
        "tf.one_hot(listRandom, depth=7)"
      ],
      "metadata": {
        "colab": {
          "base_uri": "https://localhost:8080/"
        },
        "id": "M7akqLl6eBoZ",
        "outputId": "c370d5ab-8b72-422a-a80d-20d90cd9a8a6"
      },
      "execution_count": 100,
      "outputs": [
        {
          "output_type": "execute_result",
          "data": {
            "text/plain": [
              "<tf.Tensor: shape=(6, 7), dtype=float32, numpy=\n",
              "array([[1., 0., 0., 0., 0., 0., 0.],\n",
              "       [0., 1., 0., 0., 0., 0., 0.],\n",
              "       [0., 0., 1., 0., 0., 0., 0.],\n",
              "       [0., 0., 0., 1., 0., 0., 0.],\n",
              "       [0., 0., 0., 0., 1., 0., 0.],\n",
              "       [0., 0., 0., 0., 0., 1., 0.]], dtype=float32)>"
            ]
          },
          "metadata": {},
          "execution_count": 100
        }
      ]
    },
    {
      "cell_type": "code",
      "source": [
        "# custom one hot\n",
        "\n",
        "tf.one_hot(listRandom, depth=7,on_value=\"i love shalom\" ,off_value = \"i love machine learning\", axis=1, name=\"List of i love\")"
      ],
      "metadata": {
        "colab": {
          "base_uri": "https://localhost:8080/"
        },
        "id": "PpnjqPBPe3-L",
        "outputId": "b2bf7a73-1247-43fe-974e-68ae571fe345"
      },
      "execution_count": 101,
      "outputs": [
        {
          "output_type": "execute_result",
          "data": {
            "text/plain": [
              "<tf.Tensor: shape=(6, 7), dtype=string, numpy=\n",
              "array([[b'i love shalom', b'i love machine learning',\n",
              "        b'i love machine learning', b'i love machine learning',\n",
              "        b'i love machine learning', b'i love machine learning',\n",
              "        b'i love machine learning'],\n",
              "       [b'i love machine learning', b'i love shalom',\n",
              "        b'i love machine learning', b'i love machine learning',\n",
              "        b'i love machine learning', b'i love machine learning',\n",
              "        b'i love machine learning'],\n",
              "       [b'i love machine learning', b'i love machine learning',\n",
              "        b'i love shalom', b'i love machine learning',\n",
              "        b'i love machine learning', b'i love machine learning',\n",
              "        b'i love machine learning'],\n",
              "       [b'i love machine learning', b'i love machine learning',\n",
              "        b'i love machine learning', b'i love shalom',\n",
              "        b'i love machine learning', b'i love machine learning',\n",
              "        b'i love machine learning'],\n",
              "       [b'i love machine learning', b'i love machine learning',\n",
              "        b'i love machine learning', b'i love machine learning',\n",
              "        b'i love shalom', b'i love machine learning',\n",
              "        b'i love machine learning'],\n",
              "       [b'i love machine learning', b'i love machine learning',\n",
              "        b'i love machine learning', b'i love machine learning',\n",
              "        b'i love machine learning', b'i love shalom',\n",
              "        b'i love machine learning']], dtype=object)>"
            ]
          },
          "metadata": {},
          "execution_count": 101
        }
      ]
    },
    {
      "cell_type": "markdown",
      "source": [
        "### Squaring, log, square root"
      ],
      "metadata": {
        "id": "gUdL5WGThgGp"
      }
    },
    {
      "cell_type": "code",
      "source": [
        "# Create a new tensor\n",
        "\n",
        "tensorH = tf.range(1, 10)\n",
        "tensorH"
      ],
      "metadata": {
        "colab": {
          "base_uri": "https://localhost:8080/"
        },
        "id": "-pkKM-XJhlEc",
        "outputId": "b920c397-063b-4f0b-f9ee-502fa444628f"
      },
      "execution_count": 102,
      "outputs": [
        {
          "output_type": "execute_result",
          "data": {
            "text/plain": [
              "<tf.Tensor: shape=(9,), dtype=int32, numpy=array([1, 2, 3, 4, 5, 6, 7, 8, 9], dtype=int32)>"
            ]
          },
          "metadata": {},
          "execution_count": 102
        }
      ]
    },
    {
      "cell_type": "code",
      "source": [
        "# Square it\n",
        "\n",
        "tf.square(tensorH)"
      ],
      "metadata": {
        "colab": {
          "base_uri": "https://localhost:8080/"
        },
        "id": "7XR32lKnhuBC",
        "outputId": "bc2cc3d8-5bef-4e35-9b90-403c2816b5ad"
      },
      "execution_count": 103,
      "outputs": [
        {
          "output_type": "execute_result",
          "data": {
            "text/plain": [
              "<tf.Tensor: shape=(9,), dtype=int32, numpy=array([ 1,  4,  9, 16, 25, 36, 49, 64, 81], dtype=int32)>"
            ]
          },
          "metadata": {},
          "execution_count": 103
        }
      ]
    },
    {
      "cell_type": "code",
      "source": [
        "# we have change the data type cause squareroot and log dosent allow int\n",
        "\n",
        "tensorH = tf.cast(tensorH, dtype=tf.float32)"
      ],
      "metadata": {
        "id": "6K3YyxA6k_yd"
      },
      "execution_count": 104,
      "outputs": []
    },
    {
      "cell_type": "code",
      "source": [
        "# Find the squareroot\n",
        "\n",
        "tf.math.sqrt(tensorH)"
      ],
      "metadata": {
        "colab": {
          "base_uri": "https://localhost:8080/"
        },
        "id": "M3e54cg5ksL2",
        "outputId": "54cc77f6-9a54-4389-b62d-a7e5b8fe407e"
      },
      "execution_count": 105,
      "outputs": [
        {
          "output_type": "execute_result",
          "data": {
            "text/plain": [
              "<tf.Tensor: shape=(9,), dtype=float32, numpy=\n",
              "array([1.       , 1.4142135, 1.7320508, 2.       , 2.236068 , 2.4494898,\n",
              "       2.6457512, 2.828427 , 3.       ], dtype=float32)>"
            ]
          },
          "metadata": {},
          "execution_count": 105
        }
      ]
    },
    {
      "cell_type": "code",
      "source": [
        "# Find the log\n",
        "\n",
        "tf.math.log(tensorH)"
      ],
      "metadata": {
        "colab": {
          "base_uri": "https://localhost:8080/"
        },
        "id": "nr4UU03ulbI8",
        "outputId": "08302206-dc72-4761-e50b-deacdf709f68"
      },
      "execution_count": 106,
      "outputs": [
        {
          "output_type": "execute_result",
          "data": {
            "text/plain": [
              "<tf.Tensor: shape=(9,), dtype=float32, numpy=\n",
              "array([0.       , 0.6931472, 1.0986123, 1.3862944, 1.609438 , 1.7917595,\n",
              "       1.9459102, 2.0794415, 2.1972246], dtype=float32)>"
            ]
          },
          "metadata": {},
          "execution_count": 106
        }
      ]
    },
    {
      "cell_type": "markdown",
      "source": [
        "**Exercise by my self**\n",
        "\n",
        "practice 3 method from tf.math model"
      ],
      "metadata": {
        "id": "oJPXek5nmCdh"
      }
    },
    {
      "cell_type": "code",
      "source": [
        "# create new tensor for our example\n",
        "\n",
        "x = tf.constant([[1,2]\n",
        "                ,[3,4]])\n",
        "\n",
        "y = tf.constant([[5,6],\n",
        "                [7,8]])"
      ],
      "metadata": {
        "id": "hzVFCxZ5mLoh"
      },
      "execution_count": 107,
      "outputs": []
    },
    {
      "cell_type": "code",
      "source": [
        "# try tf.math.asin\n",
        "\n",
        "tf.math.asin(tf.cast(x, dtype=tf.float32))"
      ],
      "metadata": {
        "colab": {
          "base_uri": "https://localhost:8080/"
        },
        "id": "OAMP7EKymtys",
        "outputId": "17a1fa77-6617-4d12-da90-ef1dfeccf660"
      },
      "execution_count": 108,
      "outputs": [
        {
          "output_type": "execute_result",
          "data": {
            "text/plain": [
              "<tf.Tensor: shape=(2, 2), dtype=float32, numpy=\n",
              "array([[1.5707964,       nan],\n",
              "       [      nan,       nan]], dtype=float32)>"
            ]
          },
          "metadata": {},
          "execution_count": 108
        }
      ]
    },
    {
      "cell_type": "code",
      "source": [
        "# try tf.math.sin\n",
        "\n",
        "tf.math.sin(tf.cast(x, dtype=tf.float32))"
      ],
      "metadata": {
        "colab": {
          "base_uri": "https://localhost:8080/"
        },
        "id": "W37sjxSTo0vj",
        "outputId": "ea7b96bb-7a2e-4709-9b61-171323bfe240"
      },
      "execution_count": 109,
      "outputs": [
        {
          "output_type": "execute_result",
          "data": {
            "text/plain": [
              "<tf.Tensor: shape=(2, 2), dtype=float32, numpy=\n",
              "array([[ 0.84147096,  0.9092974 ],\n",
              "       [ 0.14112   , -0.7568025 ]], dtype=float32)>"
            ]
          },
          "metadata": {},
          "execution_count": 109
        }
      ]
    },
    {
      "cell_type": "code",
      "source": [
        "# try tf.math.tan\n",
        "\n",
        "tf.math.tan(tf.cast(x, dtype=tf.float32))"
      ],
      "metadata": {
        "colab": {
          "base_uri": "https://localhost:8080/"
        },
        "id": "lwZ09nWwpG7L",
        "outputId": "9d922399-8b7d-455c-a8f9-06f1bcad8703"
      },
      "execution_count": 110,
      "outputs": [
        {
          "output_type": "execute_result",
          "data": {
            "text/plain": [
              "<tf.Tensor: shape=(2, 2), dtype=float32, numpy=\n",
              "array([[ 1.5574077 , -2.1850398 ],\n",
              "       [-0.14254655,  1.1578213 ]], dtype=float32)>"
            ]
          },
          "metadata": {},
          "execution_count": 110
        }
      ]
    },
    {
      "cell_type": "markdown",
      "source": [
        "### Tensors and Numpy\n",
        "\n",
        "TensorFlow interact beautifully with Numpy arrays"
      ],
      "metadata": {
        "id": "bad1QfZU2JeF"
      }
    },
    {
      "cell_type": "code",
      "source": [
        "# Create a tensor directly with numpy arrays\n",
        "\n",
        "J = tf.constant(np.array([3., 7., 10.]))\n",
        "J"
      ],
      "metadata": {
        "colab": {
          "base_uri": "https://localhost:8080/"
        },
        "id": "KS8LpJL92MfW",
        "outputId": "acf3b203-0528-425b-994b-09f4b75c1791"
      },
      "execution_count": 111,
      "outputs": [
        {
          "output_type": "execute_result",
          "data": {
            "text/plain": [
              "<tf.Tensor: shape=(3,), dtype=float64, numpy=array([ 3.,  7., 10.])>"
            ]
          },
          "metadata": {},
          "execution_count": 111
        }
      ]
    },
    {
      "cell_type": "code",
      "source": [
        "# Convert our tensor back to a Numpy array\n",
        "\n",
        "np.array(J), type(np.array(J))"
      ],
      "metadata": {
        "colab": {
          "base_uri": "https://localhost:8080/"
        },
        "id": "QRhxUdpd2k5T",
        "outputId": "0a5559f3-646d-4c01-c189-f38de2730f37"
      },
      "execution_count": 112,
      "outputs": [
        {
          "output_type": "execute_result",
          "data": {
            "text/plain": [
              "(array([ 3.,  7., 10.]), numpy.ndarray)"
            ]
          },
          "metadata": {},
          "execution_count": 112
        }
      ]
    },
    {
      "cell_type": "code",
      "source": [
        "# Convert tensor J to a Numpy array\n",
        "J.numpy(), type(J.numpy())"
      ],
      "metadata": {
        "colab": {
          "base_uri": "https://localhost:8080/"
        },
        "id": "QPF6xl5U2zuP",
        "outputId": "24bce2c9-d334-4c8c-dd5d-6873f1f0c449"
      },
      "execution_count": 113,
      "outputs": [
        {
          "output_type": "execute_result",
          "data": {
            "text/plain": [
              "(array([ 3.,  7., 10.]), numpy.ndarray)"
            ]
          },
          "metadata": {},
          "execution_count": 113
        }
      ]
    },
    {
      "cell_type": "code",
      "source": [
        "# The default types of each are slightly defferent\n",
        "\n",
        "numpy_J = tf.constant(np.array([3., 7., 10.]))\n",
        "tensor_J = tf.constant([3., 7., 10.])\n",
        "\n",
        "# check the datatype\n",
        "\n",
        "numpy_J.dtype, tensor_J.dtype"
      ],
      "metadata": {
        "colab": {
          "base_uri": "https://localhost:8080/"
        },
        "id": "N86xZF9L3CQB",
        "outputId": "6a27b9f4-e339-461b-bce4-3190b34a7940"
      },
      "execution_count": 114,
      "outputs": [
        {
          "output_type": "execute_result",
          "data": {
            "text/plain": [
              "(tf.float64, tf.float32)"
            ]
          },
          "metadata": {},
          "execution_count": 114
        }
      ]
    },
    {
      "cell_type": "markdown",
      "source": [
        "### Finding access to GPUs"
      ],
      "metadata": {
        "id": "nfUE-JVj5eIZ"
      }
    },
    {
      "cell_type": "code",
      "source": [
        "tf.config.list_physical_devices()"
      ],
      "metadata": {
        "colab": {
          "base_uri": "https://localhost:8080/"
        },
        "id": "sBdkMW3-5ker",
        "outputId": "15e3de75-a1c1-4494-fcd7-3ecb6ea81837"
      },
      "execution_count": 115,
      "outputs": [
        {
          "output_type": "execute_result",
          "data": {
            "text/plain": [
              "[PhysicalDevice(name='/physical_device:CPU:0', device_type='CPU')]"
            ]
          },
          "metadata": {},
          "execution_count": 115
        }
      ]
    },
    {
      "cell_type": "code",
      "source": [
        "!nvidia-smi"
      ],
      "metadata": {
        "colab": {
          "base_uri": "https://localhost:8080/"
        },
        "id": "TcQdgdKP6Hkn",
        "outputId": "846aa046-0ef6-4dc2-e45f-69e88ca962d3"
      },
      "execution_count": 116,
      "outputs": [
        {
          "output_type": "stream",
          "name": "stdout",
          "text": [
            "/bin/bash: line 1: nvidia-smi: command not found\n"
          ]
        }
      ]
    },
    {
      "cell_type": "markdown",
      "source": [
        "🔑 **NOTE :** if you have access to a CUDA-enabled GPU, TensorFlow will automatically use it whenver possible"
      ],
      "metadata": {
        "id": "2OBKT5UZ7C_F"
      }
    },
    {
      "cell_type": "markdown",
      "source": [
        "## 🛠 00. TensorFlow Fundamentals Exercises\n",
        "\n",
        "1. Create a vector, scalar, matrix and tensor with values of your choosing using tf.constant().\n",
        "\n",
        "2. Find the shape, rank and size of the tensors you created in 1.\n",
        "\n",
        "3. Create two tensors containing random values between 0 and 1 with shape [5, 300].\n",
        "\n",
        "4. Multiply the two tensors you created in 3 using matrix multiplication.\n",
        "\n",
        "5. Multiply the two tensors you created in 3 using dot product.\n",
        "\n",
        "6. Create a tensor with random values between 0 and 1 with shape [224, 224, 3].\n",
        "\n",
        "7. Find the min and max values of the tensor you created in 6 along the first axis.\n",
        "\n",
        "8. Created a tensor with random values of shape [1, 224, 224, 3] then squeeze it to change the shape to [224, 224, 3].\n",
        "\n",
        "9. Create a tensor with shape [10] using your own choice of values, then find the index which has the maximum value.\n",
        "\n",
        "10. One-hot encode the tensor you created in 9."
      ],
      "metadata": {
        "id": "qAQNQP0zFmVj"
      }
    },
    {
      "cell_type": "code",
      "source": [
        "# Create vector, scalar, matrix, and tensor\n",
        "\n",
        "vector_ex = tf.constant(7)\n",
        "\n",
        "scalar_ex = tf.constant([2, 3, 4])\n",
        "\n",
        "matrix_ex = tf.constant([[1, 2],\n",
        "                         [3, 4],\n",
        "                         [5, 6]])\n",
        "\n",
        "tensor_ex = tf.constant([[[1,2],\n",
        "                          [3,4]],\n",
        "                         [[5,6],\n",
        "                          [7,8]],\n",
        "                         [[8,9],\n",
        "                          [10,11]]])\n",
        "\n",
        "vector_ex, scalar_ex, matrix_ex, tensor_ex"
      ],
      "metadata": {
        "colab": {
          "base_uri": "https://localhost:8080/"
        },
        "id": "v7bzOuKiGanU",
        "outputId": "50e32dbd-037a-43f0-f6fb-961d7fc895a7"
      },
      "execution_count": 117,
      "outputs": [
        {
          "output_type": "execute_result",
          "data": {
            "text/plain": [
              "(<tf.Tensor: shape=(), dtype=int32, numpy=7>,\n",
              " <tf.Tensor: shape=(3,), dtype=int32, numpy=array([2, 3, 4], dtype=int32)>,\n",
              " <tf.Tensor: shape=(3, 2), dtype=int32, numpy=\n",
              " array([[1, 2],\n",
              "        [3, 4],\n",
              "        [5, 6]], dtype=int32)>,\n",
              " <tf.Tensor: shape=(3, 2, 2), dtype=int32, numpy=\n",
              " array([[[ 1,  2],\n",
              "         [ 3,  4]],\n",
              " \n",
              "        [[ 5,  6],\n",
              "         [ 7,  8]],\n",
              " \n",
              "        [[ 8,  9],\n",
              "         [10, 11]]], dtype=int32)>)"
            ]
          },
          "metadata": {},
          "execution_count": 117
        }
      ]
    },
    {
      "cell_type": "code",
      "source": [
        "# find shape rank and size\n",
        "\n",
        "tensor_ex.shape, tensor_ex.ndim, tf.size(tensor_ex)"
      ],
      "metadata": {
        "colab": {
          "base_uri": "https://localhost:8080/"
        },
        "id": "TfKXsbcmJKCm",
        "outputId": "af16b90f-088a-4a58-91a6-6b5816d44176"
      },
      "execution_count": 118,
      "outputs": [
        {
          "output_type": "execute_result",
          "data": {
            "text/plain": [
              "(TensorShape([3, 2, 2]), 3, <tf.Tensor: shape=(), dtype=int32, numpy=12>)"
            ]
          },
          "metadata": {},
          "execution_count": 118
        }
      ]
    },
    {
      "cell_type": "code",
      "source": [
        "# Create two tensors random\n",
        "\n",
        "zero_tensor = tf.zeros([5, 300])\n",
        "one_tensor = tf.ones([5, 300])\n",
        "\n",
        "zero_tensor, one_tensor"
      ],
      "metadata": {
        "colab": {
          "base_uri": "https://localhost:8080/"
        },
        "id": "WZ5KoEzEJ26_",
        "outputId": "5666b94d-9660-41ea-ec12-66ce19d9d947"
      },
      "execution_count": 119,
      "outputs": [
        {
          "output_type": "execute_result",
          "data": {
            "text/plain": [
              "(<tf.Tensor: shape=(5, 300), dtype=float32, numpy=\n",
              " array([[0., 0., 0., ..., 0., 0., 0.],\n",
              "        [0., 0., 0., ..., 0., 0., 0.],\n",
              "        [0., 0., 0., ..., 0., 0., 0.],\n",
              "        [0., 0., 0., ..., 0., 0., 0.],\n",
              "        [0., 0., 0., ..., 0., 0., 0.]], dtype=float32)>,\n",
              " <tf.Tensor: shape=(5, 300), dtype=float32, numpy=\n",
              " array([[1., 1., 1., ..., 1., 1., 1.],\n",
              "        [1., 1., 1., ..., 1., 1., 1.],\n",
              "        [1., 1., 1., ..., 1., 1., 1.],\n",
              "        [1., 1., 1., ..., 1., 1., 1.],\n",
              "        [1., 1., 1., ..., 1., 1., 1.]], dtype=float32)>)"
            ]
          },
          "metadata": {},
          "execution_count": 119
        }
      ]
    },
    {
      "cell_type": "code",
      "source": [
        "# Multiply two tensors\n",
        "\n",
        "zero_tensor * one_tensor # use reguler operation\n",
        "\n",
        "tf.multiply(zero_tensor, one_tensor)"
      ],
      "metadata": {
        "colab": {
          "base_uri": "https://localhost:8080/"
        },
        "id": "Q6yLb6v5KUER",
        "outputId": "0055ef93-fb92-469d-8867-d3dc1ebff8c6"
      },
      "execution_count": 120,
      "outputs": [
        {
          "output_type": "execute_result",
          "data": {
            "text/plain": [
              "<tf.Tensor: shape=(5, 300), dtype=float32, numpy=\n",
              "array([[0., 0., 0., ..., 0., 0., 0.],\n",
              "       [0., 0., 0., ..., 0., 0., 0.],\n",
              "       [0., 0., 0., ..., 0., 0., 0.],\n",
              "       [0., 0., 0., ..., 0., 0., 0.],\n",
              "       [0., 0., 0., ..., 0., 0., 0.]], dtype=float32)>"
            ]
          },
          "metadata": {},
          "execution_count": 120
        }
      ]
    },
    {
      "cell_type": "code",
      "source": [
        "# dot two tensor\n",
        "\n",
        "tf.tensordot(zero_tensor, tf.transpose(one_tensor), axes=1)\n"
      ],
      "metadata": {
        "colab": {
          "base_uri": "https://localhost:8080/"
        },
        "id": "CkJYe-SKLBQG",
        "outputId": "a1df912c-f4a5-4165-b82a-c923387387f1"
      },
      "execution_count": 121,
      "outputs": [
        {
          "output_type": "execute_result",
          "data": {
            "text/plain": [
              "<tf.Tensor: shape=(5, 5), dtype=float32, numpy=\n",
              "array([[0., 0., 0., 0., 0.],\n",
              "       [0., 0., 0., 0., 0.],\n",
              "       [0., 0., 0., 0., 0.],\n",
              "       [0., 0., 0., 0., 0.],\n",
              "       [0., 0., 0., 0., 0.]], dtype=float32)>"
            ]
          },
          "metadata": {},
          "execution_count": 121
        }
      ]
    },
    {
      "cell_type": "code",
      "source": [
        "# create tensor wandom value between 0 and 1\n",
        "\n",
        "random_1 = tf.constant(tf.random.uniform(shape=[224,224,3], minval=0, maxval=1, dtype=tf.float32))\n",
        "random_1\n"
      ],
      "metadata": {
        "colab": {
          "base_uri": "https://localhost:8080/"
        },
        "id": "dk1jfvOxOcuz",
        "outputId": "f844d9ec-2473-4b6d-f427-acb8f32a0724"
      },
      "execution_count": 122,
      "outputs": [
        {
          "output_type": "execute_result",
          "data": {
            "text/plain": [
              "<tf.Tensor: shape=(224, 224, 3), dtype=float32, numpy=\n",
              "array([[[0.8524718 , 0.2676952 , 0.15449727],\n",
              "        [0.7114605 , 0.27037346, 0.27850115],\n",
              "        [0.89006543, 0.32771802, 0.61886835],\n",
              "        ...,\n",
              "        [0.68460095, 0.1799413 , 0.29148495],\n",
              "        [0.11053097, 0.98068357, 0.42401063],\n",
              "        [0.7390065 , 0.74854004, 0.8947338 ]],\n",
              "\n",
              "       [[0.34439778, 0.3552184 , 0.35621572],\n",
              "        [0.4769001 , 0.972016  , 0.6316267 ],\n",
              "        [0.5252751 , 0.30456638, 0.03300929],\n",
              "        ...,\n",
              "        [0.91979957, 0.4521917 , 0.5948895 ],\n",
              "        [0.516135  , 0.3514142 , 0.47122467],\n",
              "        [0.13121533, 0.01968336, 0.6239767 ]],\n",
              "\n",
              "       [[0.29854965, 0.0230478 , 0.4325707 ],\n",
              "        [0.24871826, 0.6777129 , 0.4633013 ],\n",
              "        [0.80366254, 0.8514811 , 0.4067998 ],\n",
              "        ...,\n",
              "        [0.7451608 , 0.02490985, 0.4682306 ],\n",
              "        [0.979478  , 0.4343233 , 0.5992197 ],\n",
              "        [0.35572398, 0.91824985, 0.8234402 ]],\n",
              "\n",
              "       ...,\n",
              "\n",
              "       [[0.1908921 , 0.6220869 , 0.52557325],\n",
              "        [0.895648  , 0.21479702, 0.22589064],\n",
              "        [0.9324683 , 0.7242482 , 0.34952354],\n",
              "        ...,\n",
              "        [0.43193376, 0.42902148, 0.48898792],\n",
              "        [0.17903554, 0.4597435 , 0.9650322 ],\n",
              "        [0.27559495, 0.6143298 , 0.2910546 ]],\n",
              "\n",
              "       [[0.5751823 , 0.07954371, 0.29168105],\n",
              "        [0.42112005, 0.74551857, 0.6508163 ],\n",
              "        [0.4234686 , 0.8970711 , 0.9085783 ],\n",
              "        ...,\n",
              "        [0.76957536, 0.9817512 , 0.5457674 ],\n",
              "        [0.8523586 , 0.5070909 , 0.65868235],\n",
              "        [0.5513303 , 0.5894215 , 0.97725475]],\n",
              "\n",
              "       [[0.8216789 , 0.9084656 , 0.42314482],\n",
              "        [0.06925285, 0.25036466, 0.19222283],\n",
              "        [0.8615062 , 0.36638248, 0.20430803],\n",
              "        ...,\n",
              "        [0.21096396, 0.9616587 , 0.00122344],\n",
              "        [0.4119705 , 0.10203993, 0.53729284],\n",
              "        [0.55781806, 0.5807755 , 0.03772616]]], dtype=float32)>"
            ]
          },
          "metadata": {},
          "execution_count": 122
        }
      ]
    },
    {
      "cell_type": "code",
      "source": [
        "# Find min and max\n",
        "\n",
        "print(tf.reduce_min(random_1[0]))\n",
        "print(tf.reduce_max(random_1[0]))"
      ],
      "metadata": {
        "colab": {
          "base_uri": "https://localhost:8080/"
        },
        "id": "F1OtFtuKQAh0",
        "outputId": "b999bc2e-b0e5-47b0-94b7-6f6cbfa8a714"
      },
      "execution_count": 123,
      "outputs": [
        {
          "output_type": "stream",
          "name": "stdout",
          "text": [
            "tf.Tensor(0.004171729, shape=(), dtype=float32)\n",
            "tf.Tensor(0.9979774, shape=(), dtype=float32)\n"
          ]
        }
      ]
    },
    {
      "cell_type": "code",
      "source": [
        "# Create the random tensor\n",
        "\n",
        "# tensor_generator = tf.random.Generator.from_seed(42)\n",
        "# tensor_generator1 = tensor_generator.uniform(shape=(1, 224, 224, 3))\n",
        "# tensor_generator1\n",
        "\n",
        "# Another way\n",
        "tensor_generator1 = tf.constant(tf.random.uniform(shape=[1,224,224,3], minval=1, maxval=10, dtype=tf.float32))\n",
        "tensor_generator1\n"
      ],
      "metadata": {
        "colab": {
          "base_uri": "https://localhost:8080/"
        },
        "id": "clwn_108ucBx",
        "outputId": "f92a3503-3865-40bc-d486-3cda40cf9442"
      },
      "execution_count": 124,
      "outputs": [
        {
          "output_type": "execute_result",
          "data": {
            "text/plain": [
              "<tf.Tensor: shape=(1, 224, 224, 3), dtype=float32, numpy=\n",
              "array([[[[6.0179815, 5.968802 , 2.25414  ],\n",
              "         [4.0548   , 1.7153409, 8.293451 ],\n",
              "         [8.637361 , 3.6664538, 5.90574  ],\n",
              "         ...,\n",
              "         [5.8155017, 1.2215612, 1.0276257],\n",
              "         [6.2785597, 4.151472 , 9.90804  ],\n",
              "         [9.004796 , 9.051906 , 7.1943054]],\n",
              "\n",
              "        [[3.6651707, 9.755154 , 9.272964 ],\n",
              "         [1.4132587, 5.464504 , 4.0574307],\n",
              "         [8.605789 , 2.152234 , 9.034087 ],\n",
              "         ...,\n",
              "         [3.2717786, 3.6914122, 6.9518914],\n",
              "         [8.083014 , 3.013812 , 3.6058583],\n",
              "         [7.336248 , 6.320845 , 6.8650565]],\n",
              "\n",
              "        [[2.8073077, 3.841307 , 9.690518 ],\n",
              "         [3.268577 , 7.6637754, 6.4505715],\n",
              "         [7.297516 , 3.3850856, 5.9265175],\n",
              "         ...,\n",
              "         [3.9065382, 5.9590535, 9.1229315],\n",
              "         [4.352818 , 5.562254 , 2.2685668],\n",
              "         [8.7336235, 6.927948 , 9.270115 ]],\n",
              "\n",
              "        ...,\n",
              "\n",
              "        [[4.095429 , 6.717429 , 4.7868223],\n",
              "         [4.063298 , 6.633342 , 9.438501 ],\n",
              "         [9.093945 , 5.159043 , 4.928566 ],\n",
              "         ...,\n",
              "         [7.219825 , 9.83459  , 9.90793  ],\n",
              "         [2.3547044, 5.3861113, 9.708896 ],\n",
              "         [1.8157177, 5.9191046, 2.7101326]],\n",
              "\n",
              "        [[2.5908525, 9.862144 , 7.914369 ],\n",
              "         [2.5321894, 7.1755815, 4.199344 ],\n",
              "         [6.942287 , 6.853246 , 9.899976 ],\n",
              "         ...,\n",
              "         [9.840101 , 6.0897555, 8.1385975],\n",
              "         [8.155064 , 9.227059 , 6.7486434],\n",
              "         [9.293102 , 3.9481244, 4.808904 ]],\n",
              "\n",
              "        [[3.309853 , 7.6795425, 2.3314881],\n",
              "         [7.0823984, 4.3361607, 4.581373 ],\n",
              "         [4.0106754, 5.4504833, 4.880576 ],\n",
              "         ...,\n",
              "         [9.187195 , 5.925332 , 1.2524903],\n",
              "         [1.5385253, 6.5229063, 4.994399 ],\n",
              "         [1.5365834, 1.2916763, 7.9704595]]]], dtype=float32)>"
            ]
          },
          "metadata": {},
          "execution_count": 124
        }
      ]
    },
    {
      "cell_type": "code",
      "source": [
        "# Squeezing the tensor\n",
        "\n",
        "tf.squeeze(tensor_generator1)"
      ],
      "metadata": {
        "colab": {
          "base_uri": "https://localhost:8080/"
        },
        "id": "Cr7r6kc3x-Af",
        "outputId": "a8279292-d0d3-4ed0-c207-6f360bc32881"
      },
      "execution_count": 125,
      "outputs": [
        {
          "output_type": "execute_result",
          "data": {
            "text/plain": [
              "<tf.Tensor: shape=(224, 224, 3), dtype=float32, numpy=\n",
              "array([[[6.0179815, 5.968802 , 2.25414  ],\n",
              "        [4.0548   , 1.7153409, 8.293451 ],\n",
              "        [8.637361 , 3.6664538, 5.90574  ],\n",
              "        ...,\n",
              "        [5.8155017, 1.2215612, 1.0276257],\n",
              "        [6.2785597, 4.151472 , 9.90804  ],\n",
              "        [9.004796 , 9.051906 , 7.1943054]],\n",
              "\n",
              "       [[3.6651707, 9.755154 , 9.272964 ],\n",
              "        [1.4132587, 5.464504 , 4.0574307],\n",
              "        [8.605789 , 2.152234 , 9.034087 ],\n",
              "        ...,\n",
              "        [3.2717786, 3.6914122, 6.9518914],\n",
              "        [8.083014 , 3.013812 , 3.6058583],\n",
              "        [7.336248 , 6.320845 , 6.8650565]],\n",
              "\n",
              "       [[2.8073077, 3.841307 , 9.690518 ],\n",
              "        [3.268577 , 7.6637754, 6.4505715],\n",
              "        [7.297516 , 3.3850856, 5.9265175],\n",
              "        ...,\n",
              "        [3.9065382, 5.9590535, 9.1229315],\n",
              "        [4.352818 , 5.562254 , 2.2685668],\n",
              "        [8.7336235, 6.927948 , 9.270115 ]],\n",
              "\n",
              "       ...,\n",
              "\n",
              "       [[4.095429 , 6.717429 , 4.7868223],\n",
              "        [4.063298 , 6.633342 , 9.438501 ],\n",
              "        [9.093945 , 5.159043 , 4.928566 ],\n",
              "        ...,\n",
              "        [7.219825 , 9.83459  , 9.90793  ],\n",
              "        [2.3547044, 5.3861113, 9.708896 ],\n",
              "        [1.8157177, 5.9191046, 2.7101326]],\n",
              "\n",
              "       [[2.5908525, 9.862144 , 7.914369 ],\n",
              "        [2.5321894, 7.1755815, 4.199344 ],\n",
              "        [6.942287 , 6.853246 , 9.899976 ],\n",
              "        ...,\n",
              "        [9.840101 , 6.0897555, 8.1385975],\n",
              "        [8.155064 , 9.227059 , 6.7486434],\n",
              "        [9.293102 , 3.9481244, 4.808904 ]],\n",
              "\n",
              "       [[3.309853 , 7.6795425, 2.3314881],\n",
              "        [7.0823984, 4.3361607, 4.581373 ],\n",
              "        [4.0106754, 5.4504833, 4.880576 ],\n",
              "        ...,\n",
              "        [9.187195 , 5.925332 , 1.2524903],\n",
              "        [1.5385253, 6.5229063, 4.994399 ],\n",
              "        [1.5365834, 1.2916763, 7.9704595]]], dtype=float32)>"
            ]
          },
          "metadata": {},
          "execution_count": 125
        }
      ]
    },
    {
      "cell_type": "code",
      "source": [
        "# create the tensor\n",
        "\n",
        "tensor_ex9 = tf.constant(tf.random.uniform([10], 0, 10))\n",
        "tensor_ex9, tensor_ex9[tf.argmax(tensor_ex9)]"
      ],
      "metadata": {
        "colab": {
          "base_uri": "https://localhost:8080/"
        },
        "id": "63spOAMHzk2v",
        "outputId": "ea1328e0-a425-43e5-a4be-97d98346743e"
      },
      "execution_count": 126,
      "outputs": [
        {
          "output_type": "execute_result",
          "data": {
            "text/plain": [
              "(<tf.Tensor: shape=(10,), dtype=float32, numpy=\n",
              " array([7.9719343 , 7.507943  , 0.97227573, 6.3181057 , 5.7009993 ,\n",
              "        6.712396  , 1.9375694 , 3.5355198 , 2.7306151 , 7.8339252 ],\n",
              "       dtype=float32)>,\n",
              " <tf.Tensor: shape=(), dtype=float32, numpy=7.9719343>)"
            ]
          },
          "metadata": {},
          "execution_count": 126
        }
      ]
    },
    {
      "cell_type": "code",
      "source": [
        "# One-hot encode\n",
        "\n",
        "tf.one_hot(tf.cast(tensor_ex9, dtype=tf.int32), depth=10)\n",
        "\n"
      ],
      "metadata": {
        "colab": {
          "base_uri": "https://localhost:8080/"
        },
        "id": "EMHOFxsc0HMB",
        "outputId": "1c358450-ef6b-4a73-c4d6-05b286f78e49"
      },
      "execution_count": 127,
      "outputs": [
        {
          "output_type": "execute_result",
          "data": {
            "text/plain": [
              "<tf.Tensor: shape=(10, 10), dtype=float32, numpy=\n",
              "array([[0., 0., 0., 0., 0., 0., 0., 1., 0., 0.],\n",
              "       [0., 0., 0., 0., 0., 0., 0., 1., 0., 0.],\n",
              "       [1., 0., 0., 0., 0., 0., 0., 0., 0., 0.],\n",
              "       [0., 0., 0., 0., 0., 0., 1., 0., 0., 0.],\n",
              "       [0., 0., 0., 0., 0., 1., 0., 0., 0., 0.],\n",
              "       [0., 0., 0., 0., 0., 0., 1., 0., 0., 0.],\n",
              "       [0., 1., 0., 0., 0., 0., 0., 0., 0., 0.],\n",
              "       [0., 0., 0., 1., 0., 0., 0., 0., 0., 0.],\n",
              "       [0., 0., 1., 0., 0., 0., 0., 0., 0., 0.],\n",
              "       [0., 0., 0., 0., 0., 0., 0., 1., 0., 0.]], dtype=float32)>"
            ]
          },
          "metadata": {},
          "execution_count": 127
        }
      ]
    },
    {
      "cell_type": "code",
      "source": [
        "# bonus onehot encode\n",
        "\n",
        "tf.one_hot(tf.cast(tensor_ex9, dtype=tf.int32), depth=10, on_value=\"yo i love deep learning\", off_value=\"i also like shalom\")"
      ],
      "metadata": {
        "colab": {
          "base_uri": "https://localhost:8080/"
        },
        "id": "FoibG7SZ09gR",
        "outputId": "18b12723-e213-46f1-8008-2db3c3cd9ef0"
      },
      "execution_count": 128,
      "outputs": [
        {
          "output_type": "execute_result",
          "data": {
            "text/plain": [
              "<tf.Tensor: shape=(10, 10), dtype=string, numpy=\n",
              "array([[b'i also like shalom', b'i also like shalom',\n",
              "        b'i also like shalom', b'i also like shalom',\n",
              "        b'i also like shalom', b'i also like shalom',\n",
              "        b'i also like shalom', b'yo i love deep learning',\n",
              "        b'i also like shalom', b'i also like shalom'],\n",
              "       [b'i also like shalom', b'i also like shalom',\n",
              "        b'i also like shalom', b'i also like shalom',\n",
              "        b'i also like shalom', b'i also like shalom',\n",
              "        b'i also like shalom', b'yo i love deep learning',\n",
              "        b'i also like shalom', b'i also like shalom'],\n",
              "       [b'yo i love deep learning', b'i also like shalom',\n",
              "        b'i also like shalom', b'i also like shalom',\n",
              "        b'i also like shalom', b'i also like shalom',\n",
              "        b'i also like shalom', b'i also like shalom',\n",
              "        b'i also like shalom', b'i also like shalom'],\n",
              "       [b'i also like shalom', b'i also like shalom',\n",
              "        b'i also like shalom', b'i also like shalom',\n",
              "        b'i also like shalom', b'i also like shalom',\n",
              "        b'yo i love deep learning', b'i also like shalom',\n",
              "        b'i also like shalom', b'i also like shalom'],\n",
              "       [b'i also like shalom', b'i also like shalom',\n",
              "        b'i also like shalom', b'i also like shalom',\n",
              "        b'i also like shalom', b'yo i love deep learning',\n",
              "        b'i also like shalom', b'i also like shalom',\n",
              "        b'i also like shalom', b'i also like shalom'],\n",
              "       [b'i also like shalom', b'i also like shalom',\n",
              "        b'i also like shalom', b'i also like shalom',\n",
              "        b'i also like shalom', b'i also like shalom',\n",
              "        b'yo i love deep learning', b'i also like shalom',\n",
              "        b'i also like shalom', b'i also like shalom'],\n",
              "       [b'i also like shalom', b'yo i love deep learning',\n",
              "        b'i also like shalom', b'i also like shalom',\n",
              "        b'i also like shalom', b'i also like shalom',\n",
              "        b'i also like shalom', b'i also like shalom',\n",
              "        b'i also like shalom', b'i also like shalom'],\n",
              "       [b'i also like shalom', b'i also like shalom',\n",
              "        b'i also like shalom', b'yo i love deep learning',\n",
              "        b'i also like shalom', b'i also like shalom',\n",
              "        b'i also like shalom', b'i also like shalom',\n",
              "        b'i also like shalom', b'i also like shalom'],\n",
              "       [b'i also like shalom', b'i also like shalom',\n",
              "        b'yo i love deep learning', b'i also like shalom',\n",
              "        b'i also like shalom', b'i also like shalom',\n",
              "        b'i also like shalom', b'i also like shalom',\n",
              "        b'i also like shalom', b'i also like shalom'],\n",
              "       [b'i also like shalom', b'i also like shalom',\n",
              "        b'i also like shalom', b'i also like shalom',\n",
              "        b'i also like shalom', b'i also like shalom',\n",
              "        b'i also like shalom', b'yo i love deep learning',\n",
              "        b'i also like shalom', b'i also like shalom']], dtype=object)>"
            ]
          },
          "metadata": {},
          "execution_count": 128
        }
      ]
    },
    {
      "cell_type": "markdown",
      "source": [
        "### ⚡ **Extra-curriculum**"
      ],
      "metadata": {
        "id": "yVllRHnOEhy3"
      }
    },
    {
      "cell_type": "markdown",
      "source": [
        "### Learn tf.dtypes.complex\n",
        "From : https://www.tensorflow.org/api_docs/python/tf/dtypes/complex\n",
        "\n",
        "Converts two real numbers to a complex number."
      ],
      "metadata": {
        "id": "uZZm8uotE2sm"
      }
    },
    {
      "cell_type": "code",
      "source": [
        "real = tf.constant([2.25, 3.25])\n",
        "imag = tf.constant([4.75, 5.75])\n",
        "tf.complex(real, imag)  # [[2.25 + 4.75j], [3.25 + 5.75j]]"
      ],
      "metadata": {
        "colab": {
          "base_uri": "https://localhost:8080/"
        },
        "id": "XZ8se_xmHbBV",
        "outputId": "30e942c6-e34f-4bcc-94e7-8ec47c292ac9"
      },
      "execution_count": 129,
      "outputs": [
        {
          "output_type": "execute_result",
          "data": {
            "text/plain": [
              "<tf.Tensor: shape=(2,), dtype=complex64, numpy=array([2.25+4.75j, 3.25+5.75j], dtype=complex64)>"
            ]
          },
          "metadata": {},
          "execution_count": 129
        }
      ]
    },
    {
      "cell_type": "markdown",
      "source": [
        "### Create a series of tensor functions to calculate your most recent grocery bill"
      ],
      "metadata": {
        "id": "DhE6CkeaHwJr"
      }
    },
    {
      "cell_type": "code",
      "source": [
        "# create the tensor\n",
        "\n",
        "price = tf.constant([[[100.000, 200.000],\n",
        "                             [134.000, 25.000]],\n",
        "                            [[75.000, 289.000],\n",
        "                             [894.000, 233.000]],\n",
        "                            [[288.333, 168.200],\n",
        "                             [400.000, 200.000]]])\n",
        "\n",
        "quantities = tf.constant([[[3, 5],\n",
        "                           [2, 6]],\n",
        "                          [[8, 9],\n",
        "                           [10, 2]],\n",
        "                          [[8,9],\n",
        "                           [4, 3]]], dtype=tf.float32)"
      ],
      "metadata": {
        "id": "4HMxTqi1H6Y8"
      },
      "execution_count": 138,
      "outputs": []
    },
    {
      "cell_type": "code",
      "source": [
        "# make the method for calculation month\n",
        "\n",
        "def calculate_month_bill(price, quantities):\n",
        "  total_cost = tf.reduce_sum(tf.multiply(price, quantities))\n",
        "  return total_cost"
      ],
      "metadata": {
        "id": "tNQbYFU9IyD5"
      },
      "execution_count": 146,
      "outputs": []
    },
    {
      "cell_type": "code",
      "source": [
        "print(calculate_month_bill)"
      ],
      "metadata": {
        "colab": {
          "base_uri": "https://localhost:8080/"
        },
        "id": "Ay9vSVJIKj46",
        "outputId": "91dc38b5-13e1-42af-9f60-3fb2139f9563"
      },
      "execution_count": 147,
      "outputs": [
        {
          "output_type": "stream",
          "name": "stdout",
          "text": [
            "<function calculate_month_bill at 0x79092aec8d30>\n"
          ]
        }
      ]
    },
    {
      "cell_type": "code",
      "source": [
        "# make for the year\n",
        "\n",
        "def calculate_years_bill(price, quatities, month):\n",
        "  monthly_bill = calculate_month_bill(price, quantities)\n",
        "  yearly_bill = monthly_bill * month\n",
        "  return yearly_bill"
      ],
      "metadata": {
        "id": "7-zprz-HKuA0"
      },
      "execution_count": 148,
      "outputs": []
    },
    {
      "cell_type": "code",
      "source": [
        "# Calculate monthly bill\n",
        "monthly_total = calculate_month_bill(price, quantities)\n",
        "print(\"Monthly grocery bill: $\", monthly_total.numpy())"
      ],
      "metadata": {
        "colab": {
          "base_uri": "https://localhost:8080/"
        },
        "id": "SftIAoWcLqUm",
        "outputId": "28f4bf0a-bd30-4fdc-9c5a-da9fbc62b444"
      },
      "execution_count": 149,
      "outputs": [
        {
          "output_type": "stream",
          "name": "stdout",
          "text": [
            "Monthly grocery bill: $ 20345.465\n"
          ]
        }
      ]
    },
    {
      "cell_type": "code",
      "source": [
        "# Calculate yearly bill (assuming 12 months in a year)\n",
        "yearly_total = calculate_years_bill(price, quantities, 12)\n",
        "print(\"Yearly grocery bill: $\", yearly_total.numpy())"
      ],
      "metadata": {
        "colab": {
          "base_uri": "https://localhost:8080/"
        },
        "id": "wbpryN4FLb16",
        "outputId": "e0d4a04c-1bf1-446a-88c8-867063551756"
      },
      "execution_count": 153,
      "outputs": [
        {
          "output_type": "stream",
          "name": "stdout",
          "text": [
            "Yearly grocery bill: $ 244145.58\n"
          ]
        }
      ]
    }
  ]
}