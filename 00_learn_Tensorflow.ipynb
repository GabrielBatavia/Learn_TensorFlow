{
  "nbformat": 4,
  "nbformat_minor": 0,
  "metadata": {
    "colab": {
      "provenance": [],
      "authorship_tag": "ABX9TyOJ1zwX7VKQHWc80VcpJwFY",
      "include_colab_link": true
    },
    "kernelspec": {
      "name": "python3",
      "display_name": "Python 3"
    },
    "language_info": {
      "name": "python"
    }
  },
  "cells": [
    {
      "cell_type": "markdown",
      "metadata": {
        "id": "view-in-github",
        "colab_type": "text"
      },
      "source": [
        "<a href=\"https://colab.research.google.com/github/GabrielBatavia/Learn_TensorFlow/blob/main/00_learn_Tensorflow.ipynb\" target=\"_parent\"><img src=\"https://colab.research.google.com/assets/colab-badge.svg\" alt=\"Open In Colab\"/></a>"
      ]
    },
    {
      "cell_type": "code",
      "execution_count": 197,
      "metadata": {
        "colab": {
          "base_uri": "https://localhost:8080/"
        },
        "id": "2oyeOWXTJdPw",
        "outputId": "47a9b26e-9c0e-4067-9cd4-5d1e6d683ba0"
      },
      "outputs": [
        {
          "output_type": "stream",
          "name": "stdout",
          "text": [
            "2.15.0\n"
          ]
        }
      ],
      "source": [
        "# import TensorFlow for first learning\n",
        "\n",
        "import tensorflow as tf\n",
        "print(tf.__version__)"
      ]
    },
    {
      "cell_type": "code",
      "source": [
        "# Create tensors with tf.constant()\n",
        "\n",
        "scalar = tf.constant(7)\n",
        "scalar"
      ],
      "metadata": {
        "colab": {
          "base_uri": "https://localhost:8080/"
        },
        "id": "yepXGWgUfUnh",
        "outputId": "96f53481-e423-4e97-c16c-2843cbed0a05"
      },
      "execution_count": 198,
      "outputs": [
        {
          "output_type": "execute_result",
          "data": {
            "text/plain": [
              "<tf.Tensor: shape=(), dtype=int32, numpy=7>"
            ]
          },
          "metadata": {},
          "execution_count": 198
        }
      ]
    },
    {
      "cell_type": "code",
      "source": [
        "# Check the number of dimensions of a tensor (ndim stands for number of dimensions)\n",
        "\n",
        "scalar.ndim"
      ],
      "metadata": {
        "colab": {
          "base_uri": "https://localhost:8080/"
        },
        "id": "2lDkfaAZiZNl",
        "outputId": "7c9b3cfc-e24f-4021-acdb-830dbdb22d62"
      },
      "execution_count": 199,
      "outputs": [
        {
          "output_type": "execute_result",
          "data": {
            "text/plain": [
              "0"
            ]
          },
          "metadata": {},
          "execution_count": 199
        }
      ]
    },
    {
      "cell_type": "code",
      "source": [
        "# Create a Vector\n",
        "\n",
        "vector =  tf.constant([10,10])\n",
        "vector"
      ],
      "metadata": {
        "colab": {
          "base_uri": "https://localhost:8080/"
        },
        "id": "lpkmewaAivHY",
        "outputId": "034b85ab-0c63-4533-f7b7-667911b764f7"
      },
      "execution_count": 200,
      "outputs": [
        {
          "output_type": "execute_result",
          "data": {
            "text/plain": [
              "<tf.Tensor: shape=(2,), dtype=int32, numpy=array([10, 10], dtype=int32)>"
            ]
          },
          "metadata": {},
          "execution_count": 200
        }
      ]
    },
    {
      "cell_type": "code",
      "source": [
        "# Check dimensions of the vector\n",
        "\n",
        "vector.ndim"
      ],
      "metadata": {
        "colab": {
          "base_uri": "https://localhost:8080/"
        },
        "id": "fQ1MZAYrk_iX",
        "outputId": "17456f3e-64e1-4c3f-9e38-95f1c46a1f81"
      },
      "execution_count": 201,
      "outputs": [
        {
          "output_type": "execute_result",
          "data": {
            "text/plain": [
              "1"
            ]
          },
          "metadata": {},
          "execution_count": 201
        }
      ]
    },
    {
      "cell_type": "code",
      "source": [
        "# Create a matrix (has more dimensions)\n",
        "\n",
        "matrix = tf.constant([[10,7],[7,10]])\n",
        "matrix"
      ],
      "metadata": {
        "colab": {
          "base_uri": "https://localhost:8080/"
        },
        "id": "IWNE2PL8lFEV",
        "outputId": "f3a7357d-82ed-4979-d28e-8e6bee528d7c"
      },
      "execution_count": 202,
      "outputs": [
        {
          "output_type": "execute_result",
          "data": {
            "text/plain": [
              "<tf.Tensor: shape=(2, 2), dtype=int32, numpy=\n",
              "array([[10,  7],\n",
              "       [ 7, 10]], dtype=int32)>"
            ]
          },
          "metadata": {},
          "execution_count": 202
        }
      ]
    },
    {
      "cell_type": "code",
      "source": [
        "# Check dimensions of the matrix\n",
        "\n",
        "matrix.ndim"
      ],
      "metadata": {
        "colab": {
          "base_uri": "https://localhost:8080/"
        },
        "id": "BOVJav-MlrOj",
        "outputId": "e009de07-8201-4ee9-d3b0-c9a9aa8a8631"
      },
      "execution_count": 203,
      "outputs": [
        {
          "output_type": "execute_result",
          "data": {
            "text/plain": [
              "2"
            ]
          },
          "metadata": {},
          "execution_count": 203
        }
      ]
    },
    {
      "cell_type": "code",
      "source": [
        "# Create another matrix\n",
        "\n",
        "matrix_2 = tf.constant([[10.2,7.],[7.,10.2],[10.,7.2]], dtype = tf.float16) #spesify data type with parameter\n",
        "matrix_2"
      ],
      "metadata": {
        "colab": {
          "base_uri": "https://localhost:8080/"
        },
        "id": "wCzP2i0csxNB",
        "outputId": "1ea92f4d-c434-4ed3-90a4-3116645af686"
      },
      "execution_count": 204,
      "outputs": [
        {
          "output_type": "execute_result",
          "data": {
            "text/plain": [
              "<tf.Tensor: shape=(3, 2), dtype=float16, numpy=\n",
              "array([[10.2,  7. ],\n",
              "       [ 7. , 10.2],\n",
              "       [10. ,  7.2]], dtype=float16)>"
            ]
          },
          "metadata": {},
          "execution_count": 204
        }
      ]
    },
    {
      "cell_type": "code",
      "source": [
        "# Check dimensions of the other matrix\n",
        "\n",
        "matrix.ndim"
      ],
      "metadata": {
        "colab": {
          "base_uri": "https://localhost:8080/"
        },
        "id": "KRmwrpe3tRAN",
        "outputId": "57053cf3-34ea-49b4-aa79-036aa2b483df"
      },
      "execution_count": 205,
      "outputs": [
        {
          "output_type": "execute_result",
          "data": {
            "text/plain": [
              "2"
            ]
          },
          "metadata": {},
          "execution_count": 205
        }
      ]
    },
    {
      "cell_type": "code",
      "source": [
        "# Lets create tensor\n",
        "\n",
        "tensor = tf.constant([[[1,2,3],\n",
        "                       [4,5,6]],\n",
        "                       [[7,8,9],\n",
        "                        [10,11,12]],\n",
        "                      [[13,14,15],\n",
        "                       [16,17,18]]])\n",
        "\n",
        "tensor"
      ],
      "metadata": {
        "colab": {
          "base_uri": "https://localhost:8080/"
        },
        "id": "PkL8fowJ0kSV",
        "outputId": "6556bc9e-1c4c-4f6e-dd51-5f17ddbe7f9e"
      },
      "execution_count": 206,
      "outputs": [
        {
          "output_type": "execute_result",
          "data": {
            "text/plain": [
              "<tf.Tensor: shape=(3, 2, 3), dtype=int32, numpy=\n",
              "array([[[ 1,  2,  3],\n",
              "        [ 4,  5,  6]],\n",
              "\n",
              "       [[ 7,  8,  9],\n",
              "        [10, 11, 12]],\n",
              "\n",
              "       [[13, 14, 15],\n",
              "        [16, 17, 18]]], dtype=int32)>"
            ]
          },
          "metadata": {},
          "execution_count": 206
        }
      ]
    },
    {
      "cell_type": "code",
      "source": [
        "tensor.ndim"
      ],
      "metadata": {
        "colab": {
          "base_uri": "https://localhost:8080/"
        },
        "id": "Z7Xp6p5j1wTX",
        "outputId": "1c1c4216-e18c-490a-8160-d302bdd795cb"
      },
      "execution_count": 207,
      "outputs": [
        {
          "output_type": "execute_result",
          "data": {
            "text/plain": [
              "3"
            ]
          },
          "metadata": {},
          "execution_count": 207
        }
      ]
    },
    {
      "cell_type": "markdown",
      "source": [
        "What we create so far?\n",
        "\n",
        "* Scaler = is a single number\n",
        "* Vector = a number with direction (e.g wind speed)\n",
        "* matrix = a 2 dimensional array of numbers\n",
        "* tensor = an n-dimensional arrays of numbers (n can be any numbers ; 0-dimensional tensor is scaler, 1-dimensional tensor is vector, 2-dimensional tensor is matrix )"
      ],
      "metadata": {
        "id": "NwuH3CvN2HmK"
      }
    },
    {
      "cell_type": "markdown",
      "source": [
        "### Creating tensor with tf.Variable"
      ],
      "metadata": {
        "id": "auaSAAi4V-Vo"
      }
    },
    {
      "cell_type": "code",
      "source": [
        "# create the same tensor with tf.Variable() as above\n",
        "\n",
        "changeable_tensor = tf.Variable([10,7])\n",
        "unchangeable_tensor = tf.constant([10,7])\n",
        "\n",
        "changeable_tensor, unchangeable_tensor"
      ],
      "metadata": {
        "colab": {
          "base_uri": "https://localhost:8080/"
        },
        "id": "vh5rl2WFWFXc",
        "outputId": "30fef49f-e735-46ed-d9f4-788683aad5bd"
      },
      "execution_count": 208,
      "outputs": [
        {
          "output_type": "execute_result",
          "data": {
            "text/plain": [
              "(<tf.Variable 'Variable:0' shape=(2,) dtype=int32, numpy=array([10,  7], dtype=int32)>,\n",
              " <tf.Tensor: shape=(2,), dtype=int32, numpy=array([10,  7], dtype=int32)>)"
            ]
          },
          "metadata": {},
          "execution_count": 208
        }
      ]
    },
    {
      "cell_type": "code",
      "source": [
        "# change the elemen in changeable tensor\n",
        "\n",
        "# changeable_tensor[0] = 7  #This way will make erorr\n",
        "\n",
        "#try use .assign()\n",
        "\n",
        "changeable_tensor[0].assign(7)\n",
        "changeable_tensor"
      ],
      "metadata": {
        "colab": {
          "base_uri": "https://localhost:8080/"
        },
        "id": "IKWYCUGwYckd",
        "outputId": "77bb5a1a-8c9b-4ed7-f83b-67202d231e43"
      },
      "execution_count": 209,
      "outputs": [
        {
          "output_type": "execute_result",
          "data": {
            "text/plain": [
              "<tf.Variable 'Variable:0' shape=(2,) dtype=int32, numpy=array([7, 7], dtype=int32)>"
            ]
          },
          "metadata": {},
          "execution_count": 209
        }
      ]
    },
    {
      "cell_type": "code",
      "source": [
        "# lets try change unchangeable_tensor\n",
        "\n",
        "#unchangeable_tensor[0].assign(7)\n",
        "#unchangeable_tensor\n",
        "\n",
        "# will make error cause const cant change"
      ],
      "metadata": {
        "id": "SmjVU4z4ZShJ"
      },
      "execution_count": 210,
      "outputs": []
    },
    {
      "cell_type": "markdown",
      "source": [
        "What we create so far?\n",
        "\n",
        "tf.constant = is a constant tensor that we cant change the value\n",
        "tf.Variable = is a changeable tensor\n",
        "\n",
        ".assign() = the syntax for change the value of the changeable tensor"
      ],
      "metadata": {
        "id": "owHSPdNPN9z5"
      }
    },
    {
      "cell_type": "markdown",
      "source": [
        "### Create random tensors\n",
        "\n",
        "random tensors are tensors of some abitrary size which contain random numbers"
      ],
      "metadata": {
        "id": "yrKU6_y_OTQP"
      }
    },
    {
      "cell_type": "code",
      "source": [
        "# create two random (but same) tensors\n",
        "\n",
        "random_1 = tf.random.Generator.from_seed(42) # set seed for reproducibility\n",
        "random_1 = random_1.normal(shape = (3,2))\n",
        "random_1"
      ],
      "metadata": {
        "colab": {
          "base_uri": "https://localhost:8080/"
        },
        "id": "3QvLNo9COXR1",
        "outputId": "3d813b46-55b2-43c5-c6e9-17628944ffb9"
      },
      "execution_count": 211,
      "outputs": [
        {
          "output_type": "execute_result",
          "data": {
            "text/plain": [
              "<tf.Tensor: shape=(3, 2), dtype=float32, numpy=\n",
              "array([[-0.7565803 , -0.06854702],\n",
              "       [ 0.07595026, -1.2573844 ],\n",
              "       [-0.23193763, -1.8107855 ]], dtype=float32)>"
            ]
          },
          "metadata": {},
          "execution_count": 211
        }
      ]
    },
    {
      "cell_type": "code",
      "source": [
        "random_2 = tf.random.Generator.from_seed(42)\n",
        "random_2 = random_2.normal(shape = (3,2))\n",
        "random_2"
      ],
      "metadata": {
        "colab": {
          "base_uri": "https://localhost:8080/"
        },
        "id": "sAvKUe4JXLvs",
        "outputId": "02d4c0b1-aa8b-487f-8791-bcbdfeb1f735"
      },
      "execution_count": 212,
      "outputs": [
        {
          "output_type": "execute_result",
          "data": {
            "text/plain": [
              "<tf.Tensor: shape=(3, 2), dtype=float32, numpy=\n",
              "array([[-0.7565803 , -0.06854702],\n",
              "       [ 0.07595026, -1.2573844 ],\n",
              "       [-0.23193763, -1.8107855 ]], dtype=float32)>"
            ]
          },
          "metadata": {},
          "execution_count": 212
        }
      ]
    },
    {
      "cell_type": "code",
      "source": [
        "#  are they equal?\n",
        "\n",
        "random_1 == random_2"
      ],
      "metadata": {
        "colab": {
          "base_uri": "https://localhost:8080/"
        },
        "id": "zsA4JKK-XlH1",
        "outputId": "d7e6ca68-28ae-4e6b-89ca-d07118526627"
      },
      "execution_count": 213,
      "outputs": [
        {
          "output_type": "execute_result",
          "data": {
            "text/plain": [
              "<tf.Tensor: shape=(3, 2), dtype=bool, numpy=\n",
              "array([[ True,  True],\n",
              "       [ True,  True],\n",
              "       [ True,  True]])>"
            ]
          },
          "metadata": {},
          "execution_count": 213
        }
      ]
    },
    {
      "cell_type": "markdown",
      "source": [
        "### Shuffle the order of elements in a tensor"
      ],
      "metadata": {
        "id": "krCeu0GKbhwD"
      }
    },
    {
      "cell_type": "code",
      "source": [
        "# shuffle a tensor (valuable if we want shuffle a data so the inherent order dosent effect learning)\n",
        "\n",
        "not_shuffled = tf.constant([[10,7],\n",
        "                            [13,2],\n",
        "                            [7,9]])\n",
        "#not_shuffled.ndim\n",
        "\n",
        "# shuffle our non_shuffled tensor\n",
        "#tf.random.set_seed(42) # global level seed\n",
        "tf.random.shuffle(not_shuffled, seed=42) # operation level seed"
      ],
      "metadata": {
        "colab": {
          "base_uri": "https://localhost:8080/"
        },
        "id": "XQ4SdXlMbmpc",
        "outputId": "6529bcdf-6370-4e05-fc30-d6522e327659"
      },
      "execution_count": 214,
      "outputs": [
        {
          "output_type": "execute_result",
          "data": {
            "text/plain": [
              "<tf.Tensor: shape=(3, 2), dtype=int32, numpy=\n",
              "array([[ 7,  9],\n",
              "       [10,  7],\n",
              "       [13,  2]], dtype=int32)>"
            ]
          },
          "metadata": {},
          "execution_count": 214
        }
      ]
    },
    {
      "cell_type": "markdown",
      "source": [
        "⚡**EXERCISE** : read this documentation for set_seed https://www.tensorflow.org/api_docs/python/tf/random/set_seed , and practice writing 5 random tensors and shuffle them"
      ],
      "metadata": {
        "id": "hE96LFomeaOv"
      }
    },
    {
      "cell_type": "code",
      "source": [
        "# Exercise 1\n",
        "\n",
        "tensor_exercise1 = tf.constant([[1,2],\n",
        "                                 [3,4],\n",
        "                                 [5,6]])\n",
        "\n",
        "tf.random.shuffle(tensor_exercise1, seed=23)"
      ],
      "metadata": {
        "colab": {
          "base_uri": "https://localhost:8080/"
        },
        "id": "OwnpwJV_MdBc",
        "outputId": "ac80072a-8ae3-4015-8446-ddce2e2f4e97"
      },
      "execution_count": 215,
      "outputs": [
        {
          "output_type": "execute_result",
          "data": {
            "text/plain": [
              "<tf.Tensor: shape=(3, 2), dtype=int32, numpy=\n",
              "array([[1, 2],\n",
              "       [3, 4],\n",
              "       [5, 6]], dtype=int32)>"
            ]
          },
          "metadata": {},
          "execution_count": 215
        }
      ]
    },
    {
      "cell_type": "code",
      "source": [
        "# Exercise 2\n",
        "\n",
        "tensor_exercise2 = tf.constant([[[1,2],\n",
        "                                  [3,4]],\n",
        "                                 [[5,6],\n",
        "                                  [7,8]],\n",
        "                                 [[9,10],\n",
        "                                 [11,12]]])\n",
        "\n",
        "tf.random.set_seed(12) # global level seed\n",
        "tf.random.shuffle(tensor_exercise2)"
      ],
      "metadata": {
        "colab": {
          "base_uri": "https://localhost:8080/"
        },
        "id": "ClRuGxj3NSXk",
        "outputId": "f42c6040-4f90-4368-e2aa-71e446510731"
      },
      "execution_count": 216,
      "outputs": [
        {
          "output_type": "execute_result",
          "data": {
            "text/plain": [
              "<tf.Tensor: shape=(3, 2, 2), dtype=int32, numpy=\n",
              "array([[[ 5,  6],\n",
              "        [ 7,  8]],\n",
              "\n",
              "       [[ 1,  2],\n",
              "        [ 3,  4]],\n",
              "\n",
              "       [[ 9, 10],\n",
              "        [11, 12]]], dtype=int32)>"
            ]
          },
          "metadata": {},
          "execution_count": 216
        }
      ]
    },
    {
      "cell_type": "code",
      "source": [
        "shuffle_tensor1 = tf.random.shuffle(tensor_exercise2, seed=42)"
      ],
      "metadata": {
        "id": "_srQHalXOAiF"
      },
      "execution_count": 217,
      "outputs": []
    },
    {
      "cell_type": "code",
      "source": [
        "shuffle_tensor2 = tf.random.shuffle(tensor_exercise2, seed=42)"
      ],
      "metadata": {
        "id": "JG2qCW12OpD7"
      },
      "execution_count": 218,
      "outputs": []
    },
    {
      "cell_type": "code",
      "source": [
        "#check if it equal\n",
        "shuffle_tensor1 == shuffle_tensor2"
      ],
      "metadata": {
        "colab": {
          "base_uri": "https://localhost:8080/"
        },
        "id": "KZLOrgL_O7f6",
        "outputId": "d31cc342-047f-4596-9502-dec81b447417"
      },
      "execution_count": 219,
      "outputs": [
        {
          "output_type": "execute_result",
          "data": {
            "text/plain": [
              "<tf.Tensor: shape=(3, 2, 2), dtype=bool, numpy=\n",
              "array([[[False, False],\n",
              "        [False, False]],\n",
              "\n",
              "       [[False, False],\n",
              "        [False, False]],\n",
              "\n",
              "       [[False, False],\n",
              "        [False, False]]])>"
            ]
          },
          "metadata": {},
          "execution_count": 219
        }
      ]
    },
    {
      "cell_type": "code",
      "source": [
        "# Exercise 3\n",
        "\n",
        "tensor_exercise3 = tf.random.Generator.from_seed(12)\n",
        "tensor_exercise3 = tensor_exercise3.normal(shape = (3,2))\n",
        "\n",
        "tensor_exercise3"
      ],
      "metadata": {
        "colab": {
          "base_uri": "https://localhost:8080/"
        },
        "id": "Lqr6ZDvcph5t",
        "outputId": "b712ef00-2198-4eec-d9e1-cf0168d8fa08"
      },
      "execution_count": 220,
      "outputs": [
        {
          "output_type": "execute_result",
          "data": {
            "text/plain": [
              "<tf.Tensor: shape=(3, 2), dtype=float32, numpy=\n",
              "array([[-1.0130816 ,  0.28291714],\n",
              "       [ 1.2132233 ,  0.46988967],\n",
              "       [ 0.37944323, -0.6664026 ]], dtype=float32)>"
            ]
          },
          "metadata": {},
          "execution_count": 220
        }
      ]
    },
    {
      "cell_type": "code",
      "source": [
        "tf.random.shuffle(tensor_exercise3)"
      ],
      "metadata": {
        "colab": {
          "base_uri": "https://localhost:8080/"
        },
        "id": "vGy4UMH_qKeO",
        "outputId": "ed0992ff-2a0a-47f7-ceff-391d2a55f071"
      },
      "execution_count": 221,
      "outputs": [
        {
          "output_type": "execute_result",
          "data": {
            "text/plain": [
              "<tf.Tensor: shape=(3, 2), dtype=float32, numpy=\n",
              "array([[ 0.37944323, -0.6664026 ],\n",
              "       [ 1.2132233 ,  0.46988967],\n",
              "       [-1.0130816 ,  0.28291714]], dtype=float32)>"
            ]
          },
          "metadata": {},
          "execution_count": 221
        }
      ]
    },
    {
      "cell_type": "code",
      "source": [
        "# Exercise 4\n",
        "\n",
        "tensor_exercise4 = tf.random.Generator.from_seed(42)\n",
        "tensor_exercise4 = tensor_exercise4.normal(shape=(4,2,4))\n",
        "\n",
        "tensor_exercise4"
      ],
      "metadata": {
        "colab": {
          "base_uri": "https://localhost:8080/"
        },
        "id": "TjHdODeGqfKZ",
        "outputId": "48ff2cb5-179b-400f-fa3d-22e2d19a67bd"
      },
      "execution_count": 222,
      "outputs": [
        {
          "output_type": "execute_result",
          "data": {
            "text/plain": [
              "<tf.Tensor: shape=(4, 2, 4), dtype=float32, numpy=\n",
              "array([[[-0.7565803 , -0.06854702,  0.07595026, -1.2573844 ],\n",
              "        [-0.23193763, -1.8107855 ,  0.09988727, -0.50998646]],\n",
              "\n",
              "       [[-0.7535805 , -0.57166284,  0.1480774 , -0.23362993],\n",
              "        [-0.3522796 ,  0.40621263, -1.0523509 ,  1.2054597 ]],\n",
              "\n",
              "       [[ 1.6874489 , -0.4462975 , -2.3410842 ,  0.99009085],\n",
              "        [-0.0876323 , -0.635568  , -0.6161736 , -1.9441465 ]],\n",
              "\n",
              "       [[-0.48293006, -0.52447474, -1.0345329 ,  1.3066901 ],\n",
              "        [-1.5184573 , -0.4585211 ,  0.5714663 , -1.5331722 ]]],\n",
              "      dtype=float32)>"
            ]
          },
          "metadata": {},
          "execution_count": 222
        }
      ]
    },
    {
      "cell_type": "code",
      "source": [
        "tf.random.shuffle(tensor_exercise4)"
      ],
      "metadata": {
        "colab": {
          "base_uri": "https://localhost:8080/"
        },
        "id": "xcN6jpKTrUOq",
        "outputId": "5752bc96-f443-498f-e006-037e9b038f3e"
      },
      "execution_count": 223,
      "outputs": [
        {
          "output_type": "execute_result",
          "data": {
            "text/plain": [
              "<tf.Tensor: shape=(4, 2, 4), dtype=float32, numpy=\n",
              "array([[[ 1.6874489 , -0.4462975 , -2.3410842 ,  0.99009085],\n",
              "        [-0.0876323 , -0.635568  , -0.6161736 , -1.9441465 ]],\n",
              "\n",
              "       [[-0.48293006, -0.52447474, -1.0345329 ,  1.3066901 ],\n",
              "        [-1.5184573 , -0.4585211 ,  0.5714663 , -1.5331722 ]],\n",
              "\n",
              "       [[-0.7535805 , -0.57166284,  0.1480774 , -0.23362993],\n",
              "        [-0.3522796 ,  0.40621263, -1.0523509 ,  1.2054597 ]],\n",
              "\n",
              "       [[-0.7565803 , -0.06854702,  0.07595026, -1.2573844 ],\n",
              "        [-0.23193763, -1.8107855 ,  0.09988727, -0.50998646]]],\n",
              "      dtype=float32)>"
            ]
          },
          "metadata": {},
          "execution_count": 223
        }
      ]
    },
    {
      "cell_type": "code",
      "source": [
        "# Exercise 5\n",
        "\n",
        "tensor_exercise5 = tf.random.Generator.from_seed(42)\n",
        "tensor_exercise5 = tensor_exercise5.normal(shape=(2,8,3))\n",
        "\n",
        "tensor_exercise5"
      ],
      "metadata": {
        "colab": {
          "base_uri": "https://localhost:8080/"
        },
        "id": "HEmZAKIJrebp",
        "outputId": "ce5fd1f0-b927-4d6e-9099-e8d27f32066e"
      },
      "execution_count": 224,
      "outputs": [
        {
          "output_type": "execute_result",
          "data": {
            "text/plain": [
              "<tf.Tensor: shape=(2, 8, 3), dtype=float32, numpy=\n",
              "array([[[-0.7565803 , -0.06854702,  0.07595026],\n",
              "        [-1.2573844 , -0.23193763, -1.8107855 ],\n",
              "        [ 0.09988727, -0.50998646, -0.7535805 ],\n",
              "        [-0.57166284,  0.1480774 , -0.23362993],\n",
              "        [-0.3522796 ,  0.40621263, -1.0523509 ],\n",
              "        [ 1.2054597 ,  1.6874489 , -0.4462975 ],\n",
              "        [-2.3410842 ,  0.99009085, -0.0876323 ],\n",
              "        [-0.635568  , -0.6161736 , -1.9441465 ]],\n",
              "\n",
              "       [[-0.48293006, -0.52447474, -1.0345329 ],\n",
              "        [ 1.3066901 , -1.5184573 , -0.4585211 ],\n",
              "        [ 0.5714663 , -1.5331722 ,  0.45331386],\n",
              "        [ 1.1487608 , -1.2659091 , -0.47450137],\n",
              "        [ 2.006022  ,  0.28288034, -0.30288252],\n",
              "        [-1.443651  ,  1.0034493 ,  0.20857747],\n",
              "        [ 0.35700995,  1.0648885 ,  1.2432485 ],\n",
              "        [-2.2173238 ,  0.18706243,  0.6617961 ]]], dtype=float32)>"
            ]
          },
          "metadata": {},
          "execution_count": 224
        }
      ]
    },
    {
      "cell_type": "code",
      "source": [
        "tf.random.shuffle(tensor_exercise5)"
      ],
      "metadata": {
        "colab": {
          "base_uri": "https://localhost:8080/"
        },
        "id": "CmG0XbATsCAy",
        "outputId": "2f4ce583-acde-404f-d83e-35643048c79f"
      },
      "execution_count": 225,
      "outputs": [
        {
          "output_type": "execute_result",
          "data": {
            "text/plain": [
              "<tf.Tensor: shape=(2, 8, 3), dtype=float32, numpy=\n",
              "array([[[-0.48293006, -0.52447474, -1.0345329 ],\n",
              "        [ 1.3066901 , -1.5184573 , -0.4585211 ],\n",
              "        [ 0.5714663 , -1.5331722 ,  0.45331386],\n",
              "        [ 1.1487608 , -1.2659091 , -0.47450137],\n",
              "        [ 2.006022  ,  0.28288034, -0.30288252],\n",
              "        [-1.443651  ,  1.0034493 ,  0.20857747],\n",
              "        [ 0.35700995,  1.0648885 ,  1.2432485 ],\n",
              "        [-2.2173238 ,  0.18706243,  0.6617961 ]],\n",
              "\n",
              "       [[-0.7565803 , -0.06854702,  0.07595026],\n",
              "        [-1.2573844 , -0.23193763, -1.8107855 ],\n",
              "        [ 0.09988727, -0.50998646, -0.7535805 ],\n",
              "        [-0.57166284,  0.1480774 , -0.23362993],\n",
              "        [-0.3522796 ,  0.40621263, -1.0523509 ],\n",
              "        [ 1.2054597 ,  1.6874489 , -0.4462975 ],\n",
              "        [-2.3410842 ,  0.99009085, -0.0876323 ],\n",
              "        [-0.635568  , -0.6161736 , -1.9441465 ]]], dtype=float32)>"
            ]
          },
          "metadata": {},
          "execution_count": 225
        }
      ]
    },
    {
      "cell_type": "markdown",
      "source": [
        "### Other ways to create tensor"
      ],
      "metadata": {
        "id": "kd9SF9RtysaL"
      }
    },
    {
      "cell_type": "code",
      "source": [
        "# create tensor of all ones\n",
        "\n",
        "tf.ones([10,5])"
      ],
      "metadata": {
        "colab": {
          "base_uri": "https://localhost:8080/"
        },
        "id": "hSGr3_WhyziB",
        "outputId": "687909aa-a153-4b16-9743-676416a5bd57"
      },
      "execution_count": 226,
      "outputs": [
        {
          "output_type": "execute_result",
          "data": {
            "text/plain": [
              "<tf.Tensor: shape=(10, 5), dtype=float32, numpy=\n",
              "array([[1., 1., 1., 1., 1.],\n",
              "       [1., 1., 1., 1., 1.],\n",
              "       [1., 1., 1., 1., 1.],\n",
              "       [1., 1., 1., 1., 1.],\n",
              "       [1., 1., 1., 1., 1.],\n",
              "       [1., 1., 1., 1., 1.],\n",
              "       [1., 1., 1., 1., 1.],\n",
              "       [1., 1., 1., 1., 1.],\n",
              "       [1., 1., 1., 1., 1.],\n",
              "       [1., 1., 1., 1., 1.]], dtype=float32)>"
            ]
          },
          "metadata": {},
          "execution_count": 226
        }
      ]
    },
    {
      "cell_type": "code",
      "source": [
        "# create tensor of all zeroes\n",
        "\n",
        "tf.zeros(shape=(3,5))"
      ],
      "metadata": {
        "colab": {
          "base_uri": "https://localhost:8080/"
        },
        "id": "qPfbC5Ziy-Gj",
        "outputId": "06842ef1-1d34-4b9e-8e0d-177e8680512e"
      },
      "execution_count": 227,
      "outputs": [
        {
          "output_type": "execute_result",
          "data": {
            "text/plain": [
              "<tf.Tensor: shape=(3, 5), dtype=float32, numpy=\n",
              "array([[0., 0., 0., 0., 0.],\n",
              "       [0., 0., 0., 0., 0.],\n",
              "       [0., 0., 0., 0., 0.]], dtype=float32)>"
            ]
          },
          "metadata": {},
          "execution_count": 227
        }
      ]
    },
    {
      "cell_type": "markdown",
      "source": [
        "### Turn numpy arrays into tensors\n",
        "\n",
        "The main deferent between numpy arrays and tensors is tensors can run in GPU (Fasters)"
      ],
      "metadata": {
        "id": "JNH9uQrtzoL5"
      }
    },
    {
      "cell_type": "code",
      "source": [
        "# You can also turn numpy arrays into tensors\n",
        "\n",
        "import numpy as np\n",
        "\n",
        "numpy_A = np.arange(1, 25, dtype=np.int32) # create numpy array between 1 and 25\n",
        "numpy_A\n",
        "\n",
        "# x = tf.constant(some_matrix)  #capital for matrix or tensors\n",
        "# y = tf.constant(vector)       #non capital for vector"
      ],
      "metadata": {
        "colab": {
          "base_uri": "https://localhost:8080/"
        },
        "id": "4nou-jAKza0M",
        "outputId": "2cd85859-eec9-4bf3-e9b0-b94b4050fbce"
      },
      "execution_count": 228,
      "outputs": [
        {
          "output_type": "execute_result",
          "data": {
            "text/plain": [
              "array([ 1,  2,  3,  4,  5,  6,  7,  8,  9, 10, 11, 12, 13, 14, 15, 16, 17,\n",
              "       18, 19, 20, 21, 22, 23, 24], dtype=int32)"
            ]
          },
          "metadata": {},
          "execution_count": 228
        }
      ]
    },
    {
      "cell_type": "code",
      "source": [
        "A = tf.constant(numpy_A) # its will be tensors\n",
        "A"
      ],
      "metadata": {
        "colab": {
          "base_uri": "https://localhost:8080/"
        },
        "id": "87tCuNON6URs",
        "outputId": "f3a08013-7af2-4e80-a37b-4bc5d66249d4"
      },
      "execution_count": 229,
      "outputs": [
        {
          "output_type": "execute_result",
          "data": {
            "text/plain": [
              "<tf.Tensor: shape=(24,), dtype=int32, numpy=\n",
              "array([ 1,  2,  3,  4,  5,  6,  7,  8,  9, 10, 11, 12, 13, 14, 15, 16, 17,\n",
              "       18, 19, 20, 21, 22, 23, 24], dtype=int32)>"
            ]
          },
          "metadata": {},
          "execution_count": 229
        }
      ]
    },
    {
      "cell_type": "code",
      "source": [
        "B = tf.constant(numpy_A, shape=(4,3,2))\n",
        "B"
      ],
      "metadata": {
        "colab": {
          "base_uri": "https://localhost:8080/"
        },
        "id": "NYTENXE17PRx",
        "outputId": "d26bd142-477f-4fde-d034-01cd16ce8402"
      },
      "execution_count": 230,
      "outputs": [
        {
          "output_type": "execute_result",
          "data": {
            "text/plain": [
              "<tf.Tensor: shape=(4, 3, 2), dtype=int32, numpy=\n",
              "array([[[ 1,  2],\n",
              "        [ 3,  4],\n",
              "        [ 5,  6]],\n",
              "\n",
              "       [[ 7,  8],\n",
              "        [ 9, 10],\n",
              "        [11, 12]],\n",
              "\n",
              "       [[13, 14],\n",
              "        [15, 16],\n",
              "        [17, 18]],\n",
              "\n",
              "       [[19, 20],\n",
              "        [21, 22],\n",
              "        [23, 24]]], dtype=int32)>"
            ]
          },
          "metadata": {},
          "execution_count": 230
        }
      ]
    },
    {
      "cell_type": "markdown",
      "source": [
        "### Getting information from tensors\n",
        "\n",
        "When dealing with tensors, we probably want to know the following atribut :\n",
        "* Shape\n",
        "* Rank\n",
        "* Axis or dimension\n",
        "* Size"
      ],
      "metadata": {
        "id": "W1VWXtG2-qC6"
      }
    },
    {
      "cell_type": "code",
      "source": [
        "# Create a rank 4 tensor (4 dimensions)\n",
        "\n",
        "rank_4_tensor = tf.zeros(shape=(2,3,4,5))\n",
        "rank_4_tensor"
      ],
      "metadata": {
        "colab": {
          "base_uri": "https://localhost:8080/"
        },
        "id": "I7WaJTZk_gYX",
        "outputId": "272713f1-fe4e-4420-e1a2-f3fb63c79285"
      },
      "execution_count": 231,
      "outputs": [
        {
          "output_type": "execute_result",
          "data": {
            "text/plain": [
              "<tf.Tensor: shape=(2, 3, 4, 5), dtype=float32, numpy=\n",
              "array([[[[0., 0., 0., 0., 0.],\n",
              "         [0., 0., 0., 0., 0.],\n",
              "         [0., 0., 0., 0., 0.],\n",
              "         [0., 0., 0., 0., 0.]],\n",
              "\n",
              "        [[0., 0., 0., 0., 0.],\n",
              "         [0., 0., 0., 0., 0.],\n",
              "         [0., 0., 0., 0., 0.],\n",
              "         [0., 0., 0., 0., 0.]],\n",
              "\n",
              "        [[0., 0., 0., 0., 0.],\n",
              "         [0., 0., 0., 0., 0.],\n",
              "         [0., 0., 0., 0., 0.],\n",
              "         [0., 0., 0., 0., 0.]]],\n",
              "\n",
              "\n",
              "       [[[0., 0., 0., 0., 0.],\n",
              "         [0., 0., 0., 0., 0.],\n",
              "         [0., 0., 0., 0., 0.],\n",
              "         [0., 0., 0., 0., 0.]],\n",
              "\n",
              "        [[0., 0., 0., 0., 0.],\n",
              "         [0., 0., 0., 0., 0.],\n",
              "         [0., 0., 0., 0., 0.],\n",
              "         [0., 0., 0., 0., 0.]],\n",
              "\n",
              "        [[0., 0., 0., 0., 0.],\n",
              "         [0., 0., 0., 0., 0.],\n",
              "         [0., 0., 0., 0., 0.],\n",
              "         [0., 0., 0., 0., 0.]]]], dtype=float32)>"
            ]
          },
          "metadata": {},
          "execution_count": 231
        }
      ]
    },
    {
      "cell_type": "code",
      "source": [
        "# index tensor\n",
        "\n",
        "rank_4_tensor[0,0,0,0]"
      ],
      "metadata": {
        "colab": {
          "base_uri": "https://localhost:8080/"
        },
        "id": "s_0RGl32DKUO",
        "outputId": "3dede6f2-b40f-4c24-f9d7-b76e45d1b747"
      },
      "execution_count": 232,
      "outputs": [
        {
          "output_type": "execute_result",
          "data": {
            "text/plain": [
              "<tf.Tensor: shape=(), dtype=float32, numpy=0.0>"
            ]
          },
          "metadata": {},
          "execution_count": 232
        }
      ]
    },
    {
      "cell_type": "code",
      "source": [
        "# check the shape, rank, and size\n",
        "\n",
        "rank_4_tensor.shape, rank_4_tensor.ndim, tf.size(rank_4_tensor)"
      ],
      "metadata": {
        "colab": {
          "base_uri": "https://localhost:8080/"
        },
        "id": "aLvaaxhIEPJ8",
        "outputId": "6d38edeb-960d-4dc9-d930-873340483300"
      },
      "execution_count": 233,
      "outputs": [
        {
          "output_type": "execute_result",
          "data": {
            "text/plain": [
              "(TensorShape([2, 3, 4, 5]), 4, <tf.Tensor: shape=(), dtype=int32, numpy=120>)"
            ]
          },
          "metadata": {},
          "execution_count": 233
        }
      ]
    },
    {
      "cell_type": "markdown",
      "source": [
        "### Indexing tensors\n",
        "\n",
        "Tensors can be indexing just like pyton list"
      ],
      "metadata": {
        "id": "iCZtT2t_HJiM"
      }
    },
    {
      "cell_type": "code",
      "source": [
        "# Get the first 2 elements of each dimension\n",
        "\n",
        "rank_4_tensor[:2,:2,:2,:2]"
      ],
      "metadata": {
        "colab": {
          "base_uri": "https://localhost:8080/"
        },
        "id": "7P39KAInHQQs",
        "outputId": "1a2797d9-561e-4810-d087-307a231fd1ec"
      },
      "execution_count": 234,
      "outputs": [
        {
          "output_type": "execute_result",
          "data": {
            "text/plain": [
              "<tf.Tensor: shape=(2, 2, 2, 2), dtype=float32, numpy=\n",
              "array([[[[0., 0.],\n",
              "         [0., 0.]],\n",
              "\n",
              "        [[0., 0.],\n",
              "         [0., 0.]]],\n",
              "\n",
              "\n",
              "       [[[0., 0.],\n",
              "         [0., 0.]],\n",
              "\n",
              "        [[0., 0.],\n",
              "         [0., 0.]]]], dtype=float32)>"
            ]
          },
          "metadata": {},
          "execution_count": 234
        }
      ]
    },
    {
      "cell_type": "code",
      "source": [
        "# create rank 2 tensor\n",
        "rank_2_tensor = tf.constant([[1,2],\n",
        "                             [3,4]])\n",
        "rank_2_tensor"
      ],
      "metadata": {
        "colab": {
          "base_uri": "https://localhost:8080/"
        },
        "id": "wC7x2YliJd-q",
        "outputId": "490ce60c-fa17-43d9-dd2c-30ec4b1445ea"
      },
      "execution_count": 235,
      "outputs": [
        {
          "output_type": "execute_result",
          "data": {
            "text/plain": [
              "<tf.Tensor: shape=(2, 2), dtype=int32, numpy=\n",
              "array([[1, 2],\n",
              "       [3, 4]], dtype=int32)>"
            ]
          },
          "metadata": {},
          "execution_count": 235
        }
      ]
    },
    {
      "cell_type": "code",
      "source": [
        "# Get the last item of each row\n",
        "\n",
        "rank_2_tensor[:,-1]"
      ],
      "metadata": {
        "colab": {
          "base_uri": "https://localhost:8080/"
        },
        "id": "6fXX7OHiJ23J",
        "outputId": "9be3f536-fdc7-43da-9019-022bbb38f323"
      },
      "execution_count": 236,
      "outputs": [
        {
          "output_type": "execute_result",
          "data": {
            "text/plain": [
              "<tf.Tensor: shape=(2,), dtype=int32, numpy=array([2, 4], dtype=int32)>"
            ]
          },
          "metadata": {},
          "execution_count": 236
        }
      ]
    },
    {
      "cell_type": "code",
      "source": [
        "# Add extra dimension to our tensor\n",
        "\n",
        "rank_3_tensor = rank_2_tensor[...,tf.newaxis]\n",
        "rank_3_tensor\n",
        "\n"
      ],
      "metadata": {
        "colab": {
          "base_uri": "https://localhost:8080/"
        },
        "id": "ieChmjGTKVHP",
        "outputId": "f1a288f9-0595-40c0-be2d-ebeeb1493c40"
      },
      "execution_count": 237,
      "outputs": [
        {
          "output_type": "execute_result",
          "data": {
            "text/plain": [
              "<tf.Tensor: shape=(2, 2, 1), dtype=int32, numpy=\n",
              "array([[[1],\n",
              "        [2]],\n",
              "\n",
              "       [[3],\n",
              "        [4]]], dtype=int32)>"
            ]
          },
          "metadata": {},
          "execution_count": 237
        }
      ]
    },
    {
      "cell_type": "code",
      "source": [
        "rank_2_tensor.ndim, rank_3_tensor.ndim"
      ],
      "metadata": {
        "colab": {
          "base_uri": "https://localhost:8080/"
        },
        "id": "rIjv6Vz4LJI3",
        "outputId": "c8c9b542-96b2-4fcb-ad10-c3ddc608212f"
      },
      "execution_count": 238,
      "outputs": [
        {
          "output_type": "execute_result",
          "data": {
            "text/plain": [
              "(2, 3)"
            ]
          },
          "metadata": {},
          "execution_count": 238
        }
      ]
    },
    {
      "cell_type": "code",
      "source": [
        "# Alternative to tf.newaxis\n",
        "\n",
        "tf.expand_dims(rank_2_tensor, axis=-1) # \"-1\" means expand the final axis\n"
      ],
      "metadata": {
        "id": "uqtmHcoSMHU0",
        "colab": {
          "base_uri": "https://localhost:8080/"
        },
        "outputId": "15567e56-01e0-422c-e9ba-905284039bc1"
      },
      "execution_count": 239,
      "outputs": [
        {
          "output_type": "execute_result",
          "data": {
            "text/plain": [
              "<tf.Tensor: shape=(2, 2, 1), dtype=int32, numpy=\n",
              "array([[[1],\n",
              "        [2]],\n",
              "\n",
              "       [[3],\n",
              "        [4]]], dtype=int32)>"
            ]
          },
          "metadata": {},
          "execution_count": 239
        }
      ]
    },
    {
      "cell_type": "code",
      "source": [
        "rank_2_tensor"
      ],
      "metadata": {
        "colab": {
          "base_uri": "https://localhost:8080/"
        },
        "id": "Z_4bnfs0kDN8",
        "outputId": "347bf036-9203-4d7a-e697-139042ee8128"
      },
      "execution_count": 240,
      "outputs": [
        {
          "output_type": "execute_result",
          "data": {
            "text/plain": [
              "<tf.Tensor: shape=(2, 2), dtype=int32, numpy=\n",
              "array([[1, 2],\n",
              "       [3, 4]], dtype=int32)>"
            ]
          },
          "metadata": {},
          "execution_count": 240
        }
      ]
    },
    {
      "cell_type": "markdown",
      "source": [
        "### Manipulating Tensors (Tensor Operation)\n",
        "\n",
        "**Basic Operation**"
      ],
      "metadata": {
        "id": "cqJIH41ClD2l"
      }
    },
    {
      "cell_type": "code",
      "source": [
        "# Add values to tensors using addition operation\n",
        "\n",
        "tensor_op_1 = tf.constant([[10,7],\n",
        "                           [3,4]])\n",
        "tensor_op_1 + 10"
      ],
      "metadata": {
        "colab": {
          "base_uri": "https://localhost:8080/"
        },
        "id": "RCHa8thJlIr9",
        "outputId": "f94a5e49-4086-4e5f-8ad7-277fa0fc928b"
      },
      "execution_count": 241,
      "outputs": [
        {
          "output_type": "execute_result",
          "data": {
            "text/plain": [
              "<tf.Tensor: shape=(2, 2), dtype=int32, numpy=\n",
              "array([[20, 17],\n",
              "       [13, 14]], dtype=int32)>"
            ]
          },
          "metadata": {},
          "execution_count": 241
        }
      ]
    },
    {
      "cell_type": "code",
      "source": [
        "# check the value\n",
        "tensor_op_1 # the value dosent change"
      ],
      "metadata": {
        "colab": {
          "base_uri": "https://localhost:8080/"
        },
        "id": "kuD_eN0Al2TK",
        "outputId": "9a1b3f5f-2cb1-44c4-e071-db8bbd55d1e7"
      },
      "execution_count": 242,
      "outputs": [
        {
          "output_type": "execute_result",
          "data": {
            "text/plain": [
              "<tf.Tensor: shape=(2, 2), dtype=int32, numpy=\n",
              "array([[10,  7],\n",
              "       [ 3,  4]], dtype=int32)>"
            ]
          },
          "metadata": {},
          "execution_count": 242
        }
      ]
    },
    {
      "cell_type": "code",
      "source": [
        "# Multiplication\n",
        "\n",
        "tensor_op_1 * 10"
      ],
      "metadata": {
        "colab": {
          "base_uri": "https://localhost:8080/"
        },
        "id": "2_vtGjbNmFds",
        "outputId": "541046ed-b47a-4c96-9cfe-1c504b900d5c"
      },
      "execution_count": 243,
      "outputs": [
        {
          "output_type": "execute_result",
          "data": {
            "text/plain": [
              "<tf.Tensor: shape=(2, 2), dtype=int32, numpy=\n",
              "array([[100,  70],\n",
              "       [ 30,  40]], dtype=int32)>"
            ]
          },
          "metadata": {},
          "execution_count": 243
        }
      ]
    },
    {
      "cell_type": "code",
      "source": [
        "# Substraction\n",
        "\n",
        "tensor_op_1 - 100"
      ],
      "metadata": {
        "colab": {
          "base_uri": "https://localhost:8080/"
        },
        "id": "w0d5vKAwmLdz",
        "outputId": "298acccf-3aad-4552-df46-4c9d8dfa7cec"
      },
      "execution_count": 244,
      "outputs": [
        {
          "output_type": "execute_result",
          "data": {
            "text/plain": [
              "<tf.Tensor: shape=(2, 2), dtype=int32, numpy=\n",
              "array([[-90, -93],\n",
              "       [-97, -96]], dtype=int32)>"
            ]
          },
          "metadata": {},
          "execution_count": 244
        }
      ]
    },
    {
      "cell_type": "code",
      "source": [
        "#\n",
        "\n",
        "tensor_op_1 / 2"
      ],
      "metadata": {
        "colab": {
          "base_uri": "https://localhost:8080/"
        },
        "id": "Wfzeey9umScI",
        "outputId": "d37b802d-1d46-4db1-9edb-5dc671873d5e"
      },
      "execution_count": 245,
      "outputs": [
        {
          "output_type": "execute_result",
          "data": {
            "text/plain": [
              "<tf.Tensor: shape=(2, 2), dtype=float64, numpy=\n",
              "array([[5. , 3.5],\n",
              "       [1.5, 2. ]])>"
            ]
          },
          "metadata": {},
          "execution_count": 245
        }
      ]
    },
    {
      "cell_type": "code",
      "source": [
        "# Use the tensorflow built-in function\n",
        "\n",
        "tf.multiply(tensor_op_1, 10)"
      ],
      "metadata": {
        "colab": {
          "base_uri": "https://localhost:8080/"
        },
        "id": "OQzMkSvYmc1C",
        "outputId": "07111ab6-1c68-4324-f87c-ae509d28434f"
      },
      "execution_count": 246,
      "outputs": [
        {
          "output_type": "execute_result",
          "data": {
            "text/plain": [
              "<tf.Tensor: shape=(2, 2), dtype=int32, numpy=\n",
              "array([[100,  70],\n",
              "       [ 30,  40]], dtype=int32)>"
            ]
          },
          "metadata": {},
          "execution_count": 246
        }
      ]
    },
    {
      "cell_type": "markdown",
      "source": [
        "### Matrix Multipication\n",
        "\n",
        "In machine learning, matrix multipication is one common tensor operations\n",
        "\n",
        "Two rules :\n",
        "1. The inner dimensions must match\n",
        "2. The resulting matrix has shape of the outer dimensions\n",
        "\n",
        "for the example : if we have 3,2 and 2,3 matrix <br>\n",
        "the \"3\" from the first matrix and \"3\" from the second is the outer<br>\n",
        "the \"2\" from the first matrix and \"2\" from the second is the inner"
      ],
      "metadata": {
        "id": "E4RDwmigtLOi"
      }
    },
    {
      "cell_type": "code",
      "source": [
        " # Matrix multiplication in tensorflow\n",
        "\n",
        " print(tensor_op_1)\n",
        " tf.matmul(tensor_op_1, tensor_op_1)"
      ],
      "metadata": {
        "colab": {
          "base_uri": "https://localhost:8080/"
        },
        "id": "HimeDZn2tZbJ",
        "outputId": "bea19fda-f343-4ac7-e57c-da3ddb1bcbb2"
      },
      "execution_count": 247,
      "outputs": [
        {
          "output_type": "stream",
          "name": "stdout",
          "text": [
            "tf.Tensor(\n",
            "[[10  7]\n",
            " [ 3  4]], shape=(2, 2), dtype=int32)\n"
          ]
        },
        {
          "output_type": "execute_result",
          "data": {
            "text/plain": [
              "<tf.Tensor: shape=(2, 2), dtype=int32, numpy=\n",
              "array([[121,  98],\n",
              "       [ 42,  37]], dtype=int32)>"
            ]
          },
          "metadata": {},
          "execution_count": 247
        }
      ]
    },
    {
      "cell_type": "code",
      "source": [
        "# Matrix multiplication with Python operatot \"@\"\n",
        "\n",
        "tensor_op_1 @ tensor_op_1\n",
        "\n",
        "# Just can use if the matrix shape([2,2])"
      ],
      "metadata": {
        "colab": {
          "base_uri": "https://localhost:8080/"
        },
        "id": "w2sU3KLAyHm5",
        "outputId": "16588df3-f1ce-4aac-b63a-7d0c225398bb"
      },
      "execution_count": 248,
      "outputs": [
        {
          "output_type": "execute_result",
          "data": {
            "text/plain": [
              "<tf.Tensor: shape=(2, 2), dtype=int32, numpy=\n",
              "array([[121,  98],\n",
              "       [ 42,  37]], dtype=int32)>"
            ]
          },
          "metadata": {},
          "execution_count": 248
        }
      ]
    },
    {
      "cell_type": "code",
      "source": [
        "# create a example tensor (little exercise)\n",
        "\n",
        "tensor1 = tf.constant([[1,2,5],\n",
        "                       [7,2,1],\n",
        "                       [3,3,3]])\n",
        "\n",
        "tensor2 = tf.constant([[3,5],\n",
        "                       [6,7],\n",
        "                       [1,8]])"
      ],
      "metadata": {
        "id": "ux0f7tHhveBL"
      },
      "execution_count": 249,
      "outputs": []
    },
    {
      "cell_type": "code",
      "source": [
        "# multyply the tensor\n",
        "\n",
        "tf.matmul(tensor1, tensor2)"
      ],
      "metadata": {
        "colab": {
          "base_uri": "https://localhost:8080/"
        },
        "id": "23Re4jzKwk-j",
        "outputId": "48ce88fd-fe55-4df4-d97a-799a8e473102"
      },
      "execution_count": 250,
      "outputs": [
        {
          "output_type": "execute_result",
          "data": {
            "text/plain": [
              "<tf.Tensor: shape=(3, 2), dtype=int32, numpy=\n",
              "array([[20, 59],\n",
              "       [34, 57],\n",
              "       [30, 60]], dtype=int32)>"
            ]
          },
          "metadata": {},
          "execution_count": 250
        }
      ]
    },
    {
      "cell_type": "code",
      "source": [
        "# try to reshape\n",
        "\n",
        "tf.reshape(tensor2, shape=(2,3))"
      ],
      "metadata": {
        "colab": {
          "base_uri": "https://localhost:8080/"
        },
        "id": "b2AP3xt_K1M_",
        "outputId": "4a133f1a-7e8b-4328-e158-f0462c75d40d"
      },
      "execution_count": 251,
      "outputs": [
        {
          "output_type": "execute_result",
          "data": {
            "text/plain": [
              "<tf.Tensor: shape=(2, 3), dtype=int32, numpy=\n",
              "array([[3, 5, 6],\n",
              "       [7, 1, 8]], dtype=int32)>"
            ]
          },
          "metadata": {},
          "execution_count": 251
        }
      ]
    },
    {
      "cell_type": "code",
      "source": [
        "# We can do same with transpose\n",
        "\n",
        "tf.transpose(tensor2) # have deferent output from the reshape cause its flip the axis"
      ],
      "metadata": {
        "colab": {
          "base_uri": "https://localhost:8080/"
        },
        "id": "fWRv_vHWN1nW",
        "outputId": "45748220-b669-4563-ea30-846431292e15"
      },
      "execution_count": 252,
      "outputs": [
        {
          "output_type": "execute_result",
          "data": {
            "text/plain": [
              "<tf.Tensor: shape=(2, 3), dtype=int32, numpy=\n",
              "array([[3, 6, 1],\n",
              "       [5, 7, 8]], dtype=int32)>"
            ]
          },
          "metadata": {},
          "execution_count": 252
        }
      ]
    },
    {
      "cell_type": "code",
      "source": [
        "# try by my self\n",
        "\n",
        "tf.matmul(tf.transpose(tensor1), tf.transpose(tensor1))"
      ],
      "metadata": {
        "colab": {
          "base_uri": "https://localhost:8080/"
        },
        "id": "GXNc2n7IODX0",
        "outputId": "5e0db14b-57b5-4106-eb69-beb3f993b766"
      },
      "execution_count": 253,
      "outputs": [
        {
          "output_type": "execute_result",
          "data": {
            "text/plain": [
              "<tf.Tensor: shape=(3, 3), dtype=int32, numpy=\n",
              "array([[30, 24, 33],\n",
              "       [21, 21, 21],\n",
              "       [22, 40, 27]], dtype=int32)>"
            ]
          },
          "metadata": {},
          "execution_count": 253
        }
      ]
    },
    {
      "cell_type": "markdown",
      "source": [
        "### The dot Product\n",
        "\n",
        "Matrix multiplication is also referred to as the dot product\n",
        "\n",
        "We can perform matrix multiplication with :\n",
        "* `tf.matmul()`\n",
        "* `tf.tensordot()`"
      ],
      "metadata": {
        "id": "QOGisO_7a-CZ"
      }
    },
    {
      "cell_type": "code",
      "source": [
        "# make the tensor first\n",
        "\n",
        "X = tf.constant([[1,2],\n",
        "                 [3,4],\n",
        "                 [5,6]])\n",
        "\n",
        "Y = tf.constant([[7,8],\n",
        "                 [9,10],\n",
        "                 [11,12]])"
      ],
      "metadata": {
        "id": "uIHd_MPUcJWP"
      },
      "execution_count": 254,
      "outputs": []
    },
    {
      "cell_type": "code",
      "source": [
        "# Perform the dot product  on X and Y (requires the X and Y to be transposed)\n",
        "\n",
        "tf.tensordot(tf.transpose(X), Y, axes=1)"
      ],
      "metadata": {
        "colab": {
          "base_uri": "https://localhost:8080/"
        },
        "id": "1-uvmot4bZT7",
        "outputId": "1a136fc7-58c1-41ad-81dd-944a82ee09d1"
      },
      "execution_count": 255,
      "outputs": [
        {
          "output_type": "execute_result",
          "data": {
            "text/plain": [
              "<tf.Tensor: shape=(2, 2), dtype=int32, numpy=\n",
              "array([[ 89,  98],\n",
              "       [116, 128]], dtype=int32)>"
            ]
          },
          "metadata": {},
          "execution_count": 255
        }
      ]
    },
    {
      "cell_type": "code",
      "source": [
        "# Perform matrix multiplication between X and Y (transposed)\n",
        "\n",
        "tf.matmul(X, tf.transpose(Y))"
      ],
      "metadata": {
        "colab": {
          "base_uri": "https://localhost:8080/"
        },
        "id": "y9I1lqDxc7_J",
        "outputId": "3b874cde-d370-4028-fc1a-dae3b89303ed"
      },
      "execution_count": 256,
      "outputs": [
        {
          "output_type": "execute_result",
          "data": {
            "text/plain": [
              "<tf.Tensor: shape=(3, 3), dtype=int32, numpy=\n",
              "array([[ 23,  29,  35],\n",
              "       [ 53,  67,  81],\n",
              "       [ 83, 105, 127]], dtype=int32)>"
            ]
          },
          "metadata": {},
          "execution_count": 256
        }
      ]
    },
    {
      "cell_type": "code",
      "source": [
        "# Perform matrix multiplication between X and Y (reshape)\n",
        "\n",
        "tf.matmul(X, tf.reshape(Y, shape=(2,3)))"
      ],
      "metadata": {
        "colab": {
          "base_uri": "https://localhost:8080/"
        },
        "id": "P8gCKpsGdPDN",
        "outputId": "1267ebb9-9564-46e1-e7e2-c21fead0ac08"
      },
      "execution_count": 257,
      "outputs": [
        {
          "output_type": "execute_result",
          "data": {
            "text/plain": [
              "<tf.Tensor: shape=(3, 3), dtype=int32, numpy=\n",
              "array([[ 27,  30,  33],\n",
              "       [ 61,  68,  75],\n",
              "       [ 95, 106, 117]], dtype=int32)>"
            ]
          },
          "metadata": {},
          "execution_count": 257
        }
      ]
    },
    {
      "cell_type": "code",
      "source": [
        "# Check the values of Y, reshape Y and transpose Y\n",
        "\n",
        "print(\"Normal Y:\")\n",
        "print(Y, \"\\n \")\n",
        "\n",
        "print(\"Y reshaped to (2, 3) :\")\n",
        "print(tf.reshape(Y, shape=(2,3)), \"\\n\")\n",
        "\n",
        "print(\"Y transposed :\")\n",
        "print(tf.transpose(Y))"
      ],
      "metadata": {
        "id": "YAk1ElCQd7dE",
        "colab": {
          "base_uri": "https://localhost:8080/"
        },
        "outputId": "582af3b9-f71a-4b86-bdff-262201a96d1c"
      },
      "execution_count": 258,
      "outputs": [
        {
          "output_type": "stream",
          "name": "stdout",
          "text": [
            "Normal Y:\n",
            "tf.Tensor(\n",
            "[[ 7  8]\n",
            " [ 9 10]\n",
            " [11 12]], shape=(3, 2), dtype=int32) \n",
            " \n",
            "Y reshaped to (2, 3) :\n",
            "tf.Tensor(\n",
            "[[ 7  8  9]\n",
            " [10 11 12]], shape=(2, 3), dtype=int32) \n",
            "\n",
            "Y transposed :\n",
            "tf.Tensor(\n",
            "[[ 7  9 11]\n",
            " [ 8 10 12]], shape=(2, 3), dtype=int32)\n"
          ]
        }
      ]
    },
    {
      "cell_type": "markdown",
      "source": [
        "Generally, when performing multiplication, we will transpose (rather than reshape)"
      ],
      "metadata": {
        "id": "xNpvbPSwrHjd"
      }
    },
    {
      "cell_type": "markdown",
      "source": [
        "###  Changing the datatype of a tensor"
      ],
      "metadata": {
        "id": "xHw3FF-orX67"
      }
    },
    {
      "cell_type": "code",
      "source": [
        "tf.__version__"
      ],
      "metadata": {
        "colab": {
          "base_uri": "https://localhost:8080/",
          "height": 35
        },
        "id": "8BkpT1qQuoNb",
        "outputId": "9c16f688-c876-4ef8-90cf-3523ad550ca9"
      },
      "execution_count": 259,
      "outputs": [
        {
          "output_type": "execute_result",
          "data": {
            "text/plain": [
              "'2.15.0'"
            ],
            "application/vnd.google.colaboratory.intrinsic+json": {
              "type": "string"
            }
          },
          "metadata": {},
          "execution_count": 259
        }
      ]
    },
    {
      "cell_type": "code",
      "source": [
        "# create new tensor with default datatype (float32)\n",
        "\n",
        "A = tf.constant([1.2, 5.7])\n",
        "A.dtype\n"
      ],
      "metadata": {
        "colab": {
          "base_uri": "https://localhost:8080/"
        },
        "id": "c5WzksJLuW4F",
        "outputId": "c7b1b8e8-309a-433c-f878-562cedfe26e9"
      },
      "execution_count": 260,
      "outputs": [
        {
          "output_type": "execute_result",
          "data": {
            "text/plain": [
              "tf.float32"
            ]
          },
          "metadata": {},
          "execution_count": 260
        }
      ]
    },
    {
      "cell_type": "code",
      "source": [
        "# create new tensor with default datatype (int32)\n",
        "\n",
        "B = tf.constant([2,3])\n",
        "B.dtype"
      ],
      "metadata": {
        "colab": {
          "base_uri": "https://localhost:8080/"
        },
        "id": "Lv0du3zAu0hV",
        "outputId": "f2ea616c-9629-4109-d5d2-1f40e007bf43"
      },
      "execution_count": 261,
      "outputs": [
        {
          "output_type": "execute_result",
          "data": {
            "text/plain": [
              "tf.int32"
            ]
          },
          "metadata": {},
          "execution_count": 261
        }
      ]
    },
    {
      "cell_type": "code",
      "source": [
        "# Change from float32 to float16 (reduced precision)\n",
        "\n",
        "A = tf.cast(A, dtype=tf.float16)\n",
        "A.dtype"
      ],
      "metadata": {
        "colab": {
          "base_uri": "https://localhost:8080/"
        },
        "id": "GooELPyaxXes",
        "outputId": "5f0d18f7-1c1d-4ed1-f80a-6337e07604c6"
      },
      "execution_count": 262,
      "outputs": [
        {
          "output_type": "execute_result",
          "data": {
            "text/plain": [
              "tf.float16"
            ]
          },
          "metadata": {},
          "execution_count": 262
        }
      ]
    },
    {
      "cell_type": "code",
      "source": [
        "# Change ftom int32 to int16\n",
        "\n",
        "B = tf.cast(B, dtype=tf.int16)\n",
        "B.dtype"
      ],
      "metadata": {
        "colab": {
          "base_uri": "https://localhost:8080/"
        },
        "id": "9cTF33SNx7MK",
        "outputId": "058a526d-5f62-42f1-bfcd-991763cfac25"
      },
      "execution_count": 263,
      "outputs": [
        {
          "output_type": "execute_result",
          "data": {
            "text/plain": [
              "tf.int16"
            ]
          },
          "metadata": {},
          "execution_count": 263
        }
      ]
    },
    {
      "cell_type": "markdown",
      "source": [
        "### Aggregating Tensors\n",
        "\n",
        "Aggregating tensors = condesing them from multiple values down to a smaller amount of values"
      ],
      "metadata": {
        "id": "VI-71oKjzddP"
      }
    },
    {
      "cell_type": "code",
      "source": [
        "# Get the absolute values\n",
        "\n",
        "D = tf.constant([-7, -10])\n",
        "D"
      ],
      "metadata": {
        "colab": {
          "base_uri": "https://localhost:8080/"
        },
        "id": "hyDfnPU4zgaG",
        "outputId": "42c783e6-6289-4d28-87df-4d5c549a4004"
      },
      "execution_count": 264,
      "outputs": [
        {
          "output_type": "execute_result",
          "data": {
            "text/plain": [
              "<tf.Tensor: shape=(2,), dtype=int32, numpy=array([ -7, -10], dtype=int32)>"
            ]
          },
          "metadata": {},
          "execution_count": 264
        }
      ]
    },
    {
      "cell_type": "code",
      "source": [
        "# Get the absolute values\n",
        "\n",
        "tf.abs(D)"
      ],
      "metadata": {
        "colab": {
          "base_uri": "https://localhost:8080/"
        },
        "id": "1bu52b4j0bl0",
        "outputId": "cf6848e6-0b28-4e6b-f959-ce062b8e03e9"
      },
      "execution_count": 265,
      "outputs": [
        {
          "output_type": "execute_result",
          "data": {
            "text/plain": [
              "<tf.Tensor: shape=(2,), dtype=int32, numpy=array([ 7, 10], dtype=int32)>"
            ]
          },
          "metadata": {},
          "execution_count": 265
        }
      ]
    },
    {
      "cell_type": "markdown",
      "source": [
        "**Following forms of aggregation :**\n",
        "\n",
        "* Get the minimum\n",
        "* Get the maximum\n",
        "* Get the mean of tensor\n",
        "* Get the sum of tensor"
      ],
      "metadata": {
        "id": "MHym_BUyBM7q"
      }
    },
    {
      "cell_type": "code",
      "source": [
        "# Find the min\n",
        "\n",
        "tf.math.reduce_min(D)"
      ],
      "metadata": {
        "colab": {
          "base_uri": "https://localhost:8080/"
        },
        "id": "lcw4ihCAB00i",
        "outputId": "cbcf958e-01dc-48ca-e631-449958fabdde"
      },
      "execution_count": 266,
      "outputs": [
        {
          "output_type": "execute_result",
          "data": {
            "text/plain": [
              "<tf.Tensor: shape=(), dtype=int32, numpy=-10>"
            ]
          },
          "metadata": {},
          "execution_count": 266
        }
      ]
    },
    {
      "cell_type": "code",
      "source": [
        "# Find the max\n",
        "\n",
        "tf.math.reduce_max(D)"
      ],
      "metadata": {
        "colab": {
          "base_uri": "https://localhost:8080/"
        },
        "id": "WrmSqZJ8B8Ti",
        "outputId": "567ef03e-5d09-432d-8556-cc4ff7937d0b"
      },
      "execution_count": 267,
      "outputs": [
        {
          "output_type": "execute_result",
          "data": {
            "text/plain": [
              "<tf.Tensor: shape=(), dtype=int32, numpy=-7>"
            ]
          },
          "metadata": {},
          "execution_count": 267
        }
      ]
    },
    {
      "cell_type": "code",
      "source": [
        "# find the mean\n",
        "\n",
        "tf.math.reduce_mean(D)"
      ],
      "metadata": {
        "colab": {
          "base_uri": "https://localhost:8080/"
        },
        "id": "j0fdLcMYA-Dn",
        "outputId": "6a0acf24-ff81-4674-f997-bf5a1dfb4197"
      },
      "execution_count": 268,
      "outputs": [
        {
          "output_type": "execute_result",
          "data": {
            "text/plain": [
              "<tf.Tensor: shape=(), dtype=int32, numpy=-8>"
            ]
          },
          "metadata": {},
          "execution_count": 268
        }
      ]
    },
    {
      "cell_type": "code",
      "source": [
        "# Find the sum\n",
        "\n",
        "tf.math.reduce_sum(D)"
      ],
      "metadata": {
        "colab": {
          "base_uri": "https://localhost:8080/"
        },
        "id": "iwO2jPPoCCTN",
        "outputId": "72a85df1-e631-4e85-ed94-afa7a568d9ee"
      },
      "execution_count": 269,
      "outputs": [
        {
          "output_type": "execute_result",
          "data": {
            "text/plain": [
              "<tf.Tensor: shape=(), dtype=int32, numpy=-17>"
            ]
          },
          "metadata": {},
          "execution_count": 269
        }
      ]
    },
    {
      "cell_type": "code",
      "source": [
        "# create random tensor with values between 0 and 100\n",
        "\n",
        "random_tensor = tf.constant(np.random.randint(0,100, size=150))\n",
        "random_tensor"
      ],
      "metadata": {
        "colab": {
          "base_uri": "https://localhost:8080/"
        },
        "id": "IRjr4vJIDfAs",
        "outputId": "8e66d3ad-4d3e-4d4b-a303-eaea788cf8a6"
      },
      "execution_count": 270,
      "outputs": [
        {
          "output_type": "execute_result",
          "data": {
            "text/plain": [
              "<tf.Tensor: shape=(150,), dtype=int64, numpy=\n",
              "array([83, 32, 34, 97, 20, 52, 77,  1, 80, 72, 55, 69, 16, 42, 51, 67, 79,\n",
              "       90, 60, 51, 22, 55, 46, 58, 76, 23, 76, 47, 25, 85, 80, 71, 42, 62,\n",
              "       85, 25, 18, 21, 31,  3, 77,  2, 36, 20, 35,  1, 77, 18, 54,  2, 25,\n",
              "        7, 94, 22, 65, 23, 24, 85,  3, 99,  1, 89,  3, 29, 29, 18, 80, 44,\n",
              "       30, 40, 14, 41, 20, 90,  8, 30,  5, 57, 95,  5, 93, 41,  1, 34, 17,\n",
              "       17, 96, 31, 63, 76, 89,  8, 12, 54,  2, 13, 44, 57,  0, 90, 80, 73,\n",
              "       38, 66,  4, 83, 69, 86, 66, 93, 36, 15, 58, 75,  5, 44, 30, 57, 73,\n",
              "       28, 99, 48, 65,  5,  0, 60, 86, 96, 20, 62, 52, 27, 39, 44, 20, 30,\n",
              "       95, 44, 49, 17, 46, 52, 31, 33, 31, 86, 56,  7, 40, 31])>"
            ]
          },
          "metadata": {},
          "execution_count": 270
        }
      ]
    },
    {
      "cell_type": "code",
      "source": [
        "tf.size(random_tensor), random_tensor.ndim, random_tensor.shape"
      ],
      "metadata": {
        "colab": {
          "base_uri": "https://localhost:8080/"
        },
        "id": "x0XxW587EkbJ",
        "outputId": "00fbeaef-bcf4-48c6-e812-70da85faa137"
      },
      "execution_count": 271,
      "outputs": [
        {
          "output_type": "execute_result",
          "data": {
            "text/plain": [
              "(<tf.Tensor: shape=(), dtype=int32, numpy=150>, 1, TensorShape([150]))"
            ]
          },
          "metadata": {},
          "execution_count": 271
        }
      ]
    },
    {
      "cell_type": "code",
      "source": [
        "# Find the min\n",
        "\n",
        "tf.reduce_min(random_tensor)"
      ],
      "metadata": {
        "colab": {
          "base_uri": "https://localhost:8080/"
        },
        "id": "IDTdhBaPD81r",
        "outputId": "3544d006-25b8-4ab8-eed2-092987da086e"
      },
      "execution_count": 272,
      "outputs": [
        {
          "output_type": "execute_result",
          "data": {
            "text/plain": [
              "<tf.Tensor: shape=(), dtype=int64, numpy=0>"
            ]
          },
          "metadata": {},
          "execution_count": 272
        }
      ]
    },
    {
      "cell_type": "code",
      "source": [
        "# Find the max\n",
        "\n",
        "tf.reduce_max(random_tensor)"
      ],
      "metadata": {
        "colab": {
          "base_uri": "https://localhost:8080/"
        },
        "id": "3w2Ry3IFEG_h",
        "outputId": "5cf56f0e-9a89-4dfb-b5c6-e41e965361de"
      },
      "execution_count": 273,
      "outputs": [
        {
          "output_type": "execute_result",
          "data": {
            "text/plain": [
              "<tf.Tensor: shape=(), dtype=int64, numpy=99>"
            ]
          },
          "metadata": {},
          "execution_count": 273
        }
      ]
    },
    {
      "cell_type": "code",
      "source": [
        "# Find the mean\n",
        "\n",
        "tf.reduce_mean(random_tensor)"
      ],
      "metadata": {
        "colab": {
          "base_uri": "https://localhost:8080/"
        },
        "id": "XDpHj_9FEN4n",
        "outputId": "0644f6c1-7464-416c-d06b-2a9ec2f9a7b4"
      },
      "execution_count": 274,
      "outputs": [
        {
          "output_type": "execute_result",
          "data": {
            "text/plain": [
              "<tf.Tensor: shape=(), dtype=int64, numpy=45>"
            ]
          },
          "metadata": {},
          "execution_count": 274
        }
      ]
    },
    {
      "cell_type": "code",
      "source": [
        "# Find the sum\n",
        "\n",
        "tf.reduce_sum(random_tensor)"
      ],
      "metadata": {
        "colab": {
          "base_uri": "https://localhost:8080/"
        },
        "id": "NbIoKU4EEYHV",
        "outputId": "2285a71f-7f29-4e34-fc67-64c7e3096685"
      },
      "execution_count": 275,
      "outputs": [
        {
          "output_type": "execute_result",
          "data": {
            "text/plain": [
              "<tf.Tensor: shape=(), dtype=int64, numpy=6864>"
            ]
          },
          "metadata": {},
          "execution_count": 275
        }
      ]
    },
    {
      "cell_type": "markdown",
      "source": [
        "⚡**EXERCISE** : Find the variance and standard deviation of our random_tensor"
      ],
      "metadata": {
        "id": "uw5S6DpHFDhR"
      }
    },
    {
      "cell_type": "code",
      "source": [
        "# import tfp for find variance\n",
        "\n",
        "import tensorflow_probability as tfp"
      ],
      "metadata": {
        "id": "wZJ8L-HdRHLt"
      },
      "execution_count": 276,
      "outputs": []
    },
    {
      "cell_type": "code",
      "source": [
        "# Find the variance\n",
        "\n",
        "tfp.stats.variance(random_tensor)"
      ],
      "metadata": {
        "colab": {
          "base_uri": "https://localhost:8080/"
        },
        "id": "Sx9mJfH2OL_w",
        "outputId": "7db7f87d-2b12-497e-ce26-53e0e4d804cc"
      },
      "execution_count": 277,
      "outputs": [
        {
          "output_type": "execute_result",
          "data": {
            "text/plain": [
              "<tf.Tensor: shape=(), dtype=int64, numpy=850>"
            ]
          },
          "metadata": {},
          "execution_count": 277
        }
      ]
    },
    {
      "cell_type": "code",
      "source": [
        "# but we can just use tf to find variance but its must in float (real or complex tensor)\n",
        "\n",
        "tf.math.reduce_variance(tf.cast(random_tensor, dtype=tf.float64))"
      ],
      "metadata": {
        "colab": {
          "base_uri": "https://localhost:8080/"
        },
        "id": "mV3AeuplS2Nc",
        "outputId": "e0cf60ef-9e21-4121-beda-6e8f6598c886"
      },
      "execution_count": 278,
      "outputs": [
        {
          "output_type": "execute_result",
          "data": {
            "text/plain": [
              "<tf.Tensor: shape=(), dtype=float64, numpy=849.7957333333334>"
            ]
          },
          "metadata": {},
          "execution_count": 278
        }
      ]
    },
    {
      "cell_type": "code",
      "source": [
        "# Find the standard deviation\n",
        "\n",
        "tf.math.reduce_std(tf.cast(random_tensor, dtype=tf.float64))"
      ],
      "metadata": {
        "colab": {
          "base_uri": "https://localhost:8080/"
        },
        "id": "A9HfE1ypR0dJ",
        "outputId": "7348118a-6961-4470-c16f-0ec259d869fc"
      },
      "execution_count": 279,
      "outputs": [
        {
          "output_type": "execute_result",
          "data": {
            "text/plain": [
              "<tf.Tensor: shape=(), dtype=float64, numpy=29.151256119305277>"
            ]
          },
          "metadata": {},
          "execution_count": 279
        }
      ]
    },
    {
      "cell_type": "markdown",
      "source": [
        "### Find the Positional maximum and minimum"
      ],
      "metadata": {
        "id": "-YFxW4P4VVqL"
      }
    },
    {
      "cell_type": "code",
      "source": [
        "# create new tensor\n",
        "\n",
        "tensorA = tf.constant(np.random.randint(0,15, size=50))\n",
        "tensorA"
      ],
      "metadata": {
        "id": "sWGsX20jb3jM",
        "colab": {
          "base_uri": "https://localhost:8080/"
        },
        "outputId": "793fdfe8-c37d-4c13-d070-ee86aaf8de90"
      },
      "execution_count": 280,
      "outputs": [
        {
          "output_type": "execute_result",
          "data": {
            "text/plain": [
              "<tf.Tensor: shape=(50,), dtype=int64, numpy=\n",
              "array([ 4, 12,  9, 14,  0,  9,  6, 12,  5,  6, 14,  4, 13, 10,  2,  6,  3,\n",
              "       10,  1,  0, 11, 14,  4,  2,  8, 13, 11, 10, 13, 10,  6, 14,  4,  6,\n",
              "        5, 12,  1, 12,  0,  6, 12,  6,  6,  5,  0,  5,  7, 10,  7, 10])>"
            ]
          },
          "metadata": {},
          "execution_count": 280
        }
      ]
    },
    {
      "cell_type": "code",
      "source": [
        "# Find positional maximum\n",
        "\n",
        "tf.argmax(tensorA)"
      ],
      "metadata": {
        "id": "YbXKoA3ucKgj",
        "colab": {
          "base_uri": "https://localhost:8080/"
        },
        "outputId": "5cfa9e7c-8233-40d3-b62f-5b41a4d585a7"
      },
      "execution_count": 281,
      "outputs": [
        {
          "output_type": "execute_result",
          "data": {
            "text/plain": [
              "<tf.Tensor: shape=(), dtype=int64, numpy=3>"
            ]
          },
          "metadata": {},
          "execution_count": 281
        }
      ]
    },
    {
      "cell_type": "code",
      "source": [
        "# index the large value\n",
        "\n",
        "tensorA[tf.argmax(tensorA)]"
      ],
      "metadata": {
        "colab": {
          "base_uri": "https://localhost:8080/"
        },
        "id": "xzEc9wBeeW9y",
        "outputId": "cdfd42dc-6862-4b69-fd4a-168a9591e3cb"
      },
      "execution_count": 282,
      "outputs": [
        {
          "output_type": "execute_result",
          "data": {
            "text/plain": [
              "<tf.Tensor: shape=(), dtype=int64, numpy=14>"
            ]
          },
          "metadata": {},
          "execution_count": 282
        }
      ]
    },
    {
      "cell_type": "code",
      "source": [
        "# Find positional minimum\n",
        "\n",
        "tf.argmin(tensorA)"
      ],
      "metadata": {
        "colab": {
          "base_uri": "https://localhost:8080/"
        },
        "id": "QRBMbOjRe6YK",
        "outputId": "cde7767c-487c-4497-af5b-c64fbccfe553"
      },
      "execution_count": 283,
      "outputs": [
        {
          "output_type": "execute_result",
          "data": {
            "text/plain": [
              "<tf.Tensor: shape=(), dtype=int64, numpy=4>"
            ]
          },
          "metadata": {},
          "execution_count": 283
        }
      ]
    },
    {
      "cell_type": "markdown",
      "source": [],
      "metadata": {
        "id": "IcJVdWt-g8Tl"
      }
    },
    {
      "cell_type": "code",
      "source": [
        "# Index the smallest value\n",
        "\n",
        "tensorA[tf.argmin(tensorA)]"
      ],
      "metadata": {
        "colab": {
          "base_uri": "https://localhost:8080/"
        },
        "id": "oaUu7UcBfAv8",
        "outputId": "5a2c0cd6-7774-4dbd-9070-7212b9922ca3"
      },
      "execution_count": 284,
      "outputs": [
        {
          "output_type": "execute_result",
          "data": {
            "text/plain": [
              "<tf.Tensor: shape=(), dtype=int64, numpy=0>"
            ]
          },
          "metadata": {},
          "execution_count": 284
        }
      ]
    },
    {
      "cell_type": "code",
      "source": [
        "# just create a random tensor\n",
        "\n",
        "random1 = tf.constant(np.random.randint(0, 15, size=10))\n",
        "random2 = tf.constant(np.random.randint(0,15, size=10))\n",
        "\n",
        "print(random1, random2)"
      ],
      "metadata": {
        "colab": {
          "base_uri": "https://localhost:8080/"
        },
        "id": "84gXTVybWKyx",
        "outputId": "54bd9569-bc16-43ab-f9b2-9b4cbb1f5fba"
      },
      "execution_count": 285,
      "outputs": [
        {
          "output_type": "stream",
          "name": "stdout",
          "text": [
            "tf.Tensor([12  1  5 11  3  8  6 13  0  3], shape=(10,), dtype=int64) tf.Tensor([12  3  7  9 14  5 10  5  4  4], shape=(10,), dtype=int64)\n"
          ]
        }
      ]
    },
    {
      "cell_type": "code",
      "source": [
        "# Find positional maximum\n",
        "\n",
        "tf.math.maximum(random1, random2)"
      ],
      "metadata": {
        "colab": {
          "base_uri": "https://localhost:8080/"
        },
        "id": "M9cIy2oeWxZ6",
        "outputId": "7940ac18-018b-4b2e-da1d-3bf1394ac60d"
      },
      "execution_count": 286,
      "outputs": [
        {
          "output_type": "execute_result",
          "data": {
            "text/plain": [
              "<tf.Tensor: shape=(10,), dtype=int64, numpy=array([12,  3,  7, 11, 14,  8, 10, 13,  4,  4])>"
            ]
          },
          "metadata": {},
          "execution_count": 286
        }
      ]
    },
    {
      "cell_type": "code",
      "source": [
        "# Find positional minimum\n",
        "\n",
        "tf.math.minimum(random1, random2)"
      ],
      "metadata": {
        "colab": {
          "base_uri": "https://localhost:8080/"
        },
        "id": "fOgx4VmbXUlr",
        "outputId": "19c50329-1995-4c91-a1b4-3381e96b8b4b"
      },
      "execution_count": 287,
      "outputs": [
        {
          "output_type": "execute_result",
          "data": {
            "text/plain": [
              "<tf.Tensor: shape=(10,), dtype=int64, numpy=array([12,  1,  5,  9,  3,  5,  6,  5,  0,  3])>"
            ]
          },
          "metadata": {},
          "execution_count": 287
        }
      ]
    },
    {
      "cell_type": "code",
      "source": [
        "# create more example\n",
        "\n",
        "random3 = tf.constant([[[1,2],\n",
        "                       [3,8]],\n",
        "                       [[9,2],\n",
        "                        [7,3]]])\n",
        "\n",
        "random4 = tf.constant([[[3,8],\n",
        "                       [9,10]],\n",
        "                       [[29,4],\n",
        "                        [4,8]]])\n",
        "\n",
        "random3, random4"
      ],
      "metadata": {
        "colab": {
          "base_uri": "https://localhost:8080/"
        },
        "id": "VALPGNl5Xhgj",
        "outputId": "b3a7fa6b-aba9-40a1-f7df-1b2fef1a7536"
      },
      "execution_count": 288,
      "outputs": [
        {
          "output_type": "execute_result",
          "data": {
            "text/plain": [
              "(<tf.Tensor: shape=(2, 2, 2), dtype=int32, numpy=\n",
              " array([[[1, 2],\n",
              "         [3, 8]],\n",
              " \n",
              "        [[9, 2],\n",
              "         [7, 3]]], dtype=int32)>,\n",
              " <tf.Tensor: shape=(2, 2, 2), dtype=int32, numpy=\n",
              " array([[[ 3,  8],\n",
              "         [ 9, 10]],\n",
              " \n",
              "        [[29,  4],\n",
              "         [ 4,  8]]], dtype=int32)>)"
            ]
          },
          "metadata": {},
          "execution_count": 288
        }
      ]
    },
    {
      "cell_type": "code",
      "source": [
        "# Find positional maximum\n",
        "\n",
        "tf.math.maximum(random3, random4)"
      ],
      "metadata": {
        "colab": {
          "base_uri": "https://localhost:8080/"
        },
        "id": "UgfpfvcrX_9T",
        "outputId": "7587da0f-d84b-4032-9a29-5d6d1483c95f"
      },
      "execution_count": 289,
      "outputs": [
        {
          "output_type": "execute_result",
          "data": {
            "text/plain": [
              "<tf.Tensor: shape=(2, 2, 2), dtype=int32, numpy=\n",
              "array([[[ 3,  8],\n",
              "        [ 9, 10]],\n",
              "\n",
              "       [[29,  4],\n",
              "        [ 7,  8]]], dtype=int32)>"
            ]
          },
          "metadata": {},
          "execution_count": 289
        }
      ]
    },
    {
      "cell_type": "code",
      "source": [
        "# Find positional minimum\n",
        "\n",
        "tf.math.maximum(random3, random4)"
      ],
      "metadata": {
        "colab": {
          "base_uri": "https://localhost:8080/"
        },
        "id": "xDmP61ZuYFRH",
        "outputId": "05972f78-cb4a-494e-ca0e-8dad109dfe68"
      },
      "execution_count": 290,
      "outputs": [
        {
          "output_type": "execute_result",
          "data": {
            "text/plain": [
              "<tf.Tensor: shape=(2, 2, 2), dtype=int32, numpy=\n",
              "array([[[ 3,  8],\n",
              "        [ 9, 10]],\n",
              "\n",
              "       [[29,  4],\n",
              "        [ 7,  8]]], dtype=int32)>"
            ]
          },
          "metadata": {},
          "execution_count": 290
        }
      ]
    },
    {
      "cell_type": "markdown",
      "source": [
        "### Squeezing a tensor (removing all single dimensions)"
      ],
      "metadata": {
        "id": "pFFyrXwR2W4_"
      }
    },
    {
      "cell_type": "code",
      "source": [
        "# Create a tensor to get started\n",
        "\n",
        "G = tf.constant(tf.random.uniform(shape=[50]), shape=(2, 1, 1, 1, 25))\n",
        "G"
      ],
      "metadata": {
        "id": "Q9ebDe9Ycxpi",
        "colab": {
          "base_uri": "https://localhost:8080/"
        },
        "outputId": "aacd6a05-ce6f-4421-e3b7-09f185d9c60e"
      },
      "execution_count": 291,
      "outputs": [
        {
          "output_type": "execute_result",
          "data": {
            "text/plain": [
              "<tf.Tensor: shape=(2, 1, 1, 1, 25), dtype=float32, numpy=\n",
              "array([[[[[0.79978   , 0.8948238 , 0.39822733, 0.39745378, 0.07829857,\n",
              "           0.16906297, 0.04041338, 0.94953513, 0.24754536, 0.8756521 ,\n",
              "           0.3054012 , 0.05631793, 0.78040993, 0.36824238, 0.02072537,\n",
              "           0.5164361 , 0.90202785, 0.4387293 , 0.2045883 , 0.18139648,\n",
              "           0.84017384, 0.96967316, 0.6941571 , 0.02483487, 0.8024013 ]]]],\n",
              "\n",
              "\n",
              "\n",
              "       [[[[0.24896455, 0.94637156, 0.08169639, 0.26656103, 0.7582942 ,\n",
              "           0.1050272 , 0.9802648 , 0.3198321 , 0.814749  , 0.79346156,\n",
              "           0.8850808 , 0.00581694, 0.0769527 , 0.7721684 , 0.35605192,\n",
              "           0.7837372 , 0.69836867, 0.93739164, 0.21395409, 0.12435579,\n",
              "           0.21066833, 0.95097876, 0.9655094 , 0.76438355, 0.9313054 ]]]]],\n",
              "      dtype=float32)>"
            ]
          },
          "metadata": {},
          "execution_count": 291
        }
      ]
    },
    {
      "cell_type": "code",
      "source": [
        "G.shape"
      ],
      "metadata": {
        "colab": {
          "base_uri": "https://localhost:8080/"
        },
        "id": "I58hsKGq3OkR",
        "outputId": "7b734436-8dbd-48ce-fbc4-4945230af945"
      },
      "execution_count": 292,
      "outputs": [
        {
          "output_type": "execute_result",
          "data": {
            "text/plain": [
              "TensorShape([2, 1, 1, 1, 25])"
            ]
          },
          "metadata": {},
          "execution_count": 292
        }
      ]
    },
    {
      "cell_type": "code",
      "source": [
        "G_squeezed = tf.squeeze(G)\n",
        "G_squeezed, G_squeezed.shape"
      ],
      "metadata": {
        "colab": {
          "base_uri": "https://localhost:8080/"
        },
        "id": "FuEaCFwt3RAv",
        "outputId": "ed43ae6f-b34a-4941-e5ee-a142189d4dd5"
      },
      "execution_count": 293,
      "outputs": [
        {
          "output_type": "execute_result",
          "data": {
            "text/plain": [
              "(<tf.Tensor: shape=(2, 25), dtype=float32, numpy=\n",
              " array([[0.79978   , 0.8948238 , 0.39822733, 0.39745378, 0.07829857,\n",
              "         0.16906297, 0.04041338, 0.94953513, 0.24754536, 0.8756521 ,\n",
              "         0.3054012 , 0.05631793, 0.78040993, 0.36824238, 0.02072537,\n",
              "         0.5164361 , 0.90202785, 0.4387293 , 0.2045883 , 0.18139648,\n",
              "         0.84017384, 0.96967316, 0.6941571 , 0.02483487, 0.8024013 ],\n",
              "        [0.24896455, 0.94637156, 0.08169639, 0.26656103, 0.7582942 ,\n",
              "         0.1050272 , 0.9802648 , 0.3198321 , 0.814749  , 0.79346156,\n",
              "         0.8850808 , 0.00581694, 0.0769527 , 0.7721684 , 0.35605192,\n",
              "         0.7837372 , 0.69836867, 0.93739164, 0.21395409, 0.12435579,\n",
              "         0.21066833, 0.95097876, 0.9655094 , 0.76438355, 0.9313054 ]],\n",
              "       dtype=float32)>,\n",
              " TensorShape([2, 25]))"
            ]
          },
          "metadata": {},
          "execution_count": 293
        }
      ]
    },
    {
      "cell_type": "markdown",
      "source": [
        "### One-hot encoding"
      ],
      "metadata": {
        "id": "rTX9y_-K4__n"
      }
    },
    {
      "cell_type": "code",
      "source": [
        "# Create a list of indices\n",
        "\n",
        "some_list = [0, 1, 2, 3] # could be red, green, blue, purple\n",
        "\n",
        "# One hot encode our list of indices\\\n",
        "tf.one_hot(some_list, depth=4)"
      ],
      "metadata": {
        "id": "ueW9loLd5CWc",
        "colab": {
          "base_uri": "https://localhost:8080/"
        },
        "outputId": "3bdd4eb4-98f6-4e0c-fb25-ed35eeea96da"
      },
      "execution_count": 295,
      "outputs": [
        {
          "output_type": "execute_result",
          "data": {
            "text/plain": [
              "<tf.Tensor: shape=(4, 4), dtype=float32, numpy=\n",
              "array([[1., 0., 0., 0.],\n",
              "       [0., 1., 0., 0.],\n",
              "       [0., 0., 1., 0.],\n",
              "       [0., 0., 0., 1.]], dtype=float32)>"
            ]
          },
          "metadata": {},
          "execution_count": 295
        }
      ]
    },
    {
      "cell_type": "code",
      "source": [
        "# Specify custom values for one hot encoding\n",
        "tf.one_hot(some_list, depth=4, on_value=\"yo i love deep learning\", off_value=\"i also like shalom\")"
      ],
      "metadata": {
        "colab": {
          "base_uri": "https://localhost:8080/"
        },
        "id": "3EZomk0HdO81",
        "outputId": "f8ceaaad-736f-468b-a5cc-f4688a13ffd9"
      },
      "execution_count": 296,
      "outputs": [
        {
          "output_type": "execute_result",
          "data": {
            "text/plain": [
              "<tf.Tensor: shape=(4, 4), dtype=string, numpy=\n",
              "array([[b'yo i love deep learning', b'i also like shalom',\n",
              "        b'i also like shalom', b'i also like shalom'],\n",
              "       [b'i also like shalom', b'yo i love deep learning',\n",
              "        b'i also like shalom', b'i also like shalom'],\n",
              "       [b'i also like shalom', b'i also like shalom',\n",
              "        b'yo i love deep learning', b'i also like shalom'],\n",
              "       [b'i also like shalom', b'i also like shalom',\n",
              "        b'i also like shalom', b'yo i love deep learning']], dtype=object)>"
            ]
          },
          "metadata": {},
          "execution_count": 296
        }
      ]
    },
    {
      "cell_type": "code",
      "source": [
        "# Create my own list for little exercise\n",
        "\n",
        "listRandom = [0, 1, 2, 3, 4, 5]\n",
        "\n",
        "# one hot encode\n",
        "tf.one_hot(listRandom, depth=7)"
      ],
      "metadata": {
        "colab": {
          "base_uri": "https://localhost:8080/"
        },
        "id": "M7akqLl6eBoZ",
        "outputId": "57e6b310-def4-4a92-e10c-783cd8ac43f6"
      },
      "execution_count": 308,
      "outputs": [
        {
          "output_type": "execute_result",
          "data": {
            "text/plain": [
              "<tf.Tensor: shape=(6, 7), dtype=float32, numpy=\n",
              "array([[1., 0., 0., 0., 0., 0., 0.],\n",
              "       [0., 1., 0., 0., 0., 0., 0.],\n",
              "       [0., 0., 1., 0., 0., 0., 0.],\n",
              "       [0., 0., 0., 1., 0., 0., 0.],\n",
              "       [0., 0., 0., 0., 1., 0., 0.],\n",
              "       [0., 0., 0., 0., 0., 1., 0.]], dtype=float32)>"
            ]
          },
          "metadata": {},
          "execution_count": 308
        }
      ]
    },
    {
      "cell_type": "code",
      "source": [
        "# custom one hot\n",
        "\n",
        "tf.one_hot(listRandom, depth=7,on_value=\"i love shalom\" ,off_value = \"i love machine learning\", axis=1, name=\"List of i love\")"
      ],
      "metadata": {
        "colab": {
          "base_uri": "https://localhost:8080/"
        },
        "id": "PpnjqPBPe3-L",
        "outputId": "df0a149f-1fef-4882-86cb-9eba48ad5566"
      },
      "execution_count": 309,
      "outputs": [
        {
          "output_type": "execute_result",
          "data": {
            "text/plain": [
              "<tf.Tensor: shape=(6, 7), dtype=string, numpy=\n",
              "array([[b'i love shalom', b'i love machine learning',\n",
              "        b'i love machine learning', b'i love machine learning',\n",
              "        b'i love machine learning', b'i love machine learning',\n",
              "        b'i love machine learning'],\n",
              "       [b'i love machine learning', b'i love shalom',\n",
              "        b'i love machine learning', b'i love machine learning',\n",
              "        b'i love machine learning', b'i love machine learning',\n",
              "        b'i love machine learning'],\n",
              "       [b'i love machine learning', b'i love machine learning',\n",
              "        b'i love shalom', b'i love machine learning',\n",
              "        b'i love machine learning', b'i love machine learning',\n",
              "        b'i love machine learning'],\n",
              "       [b'i love machine learning', b'i love machine learning',\n",
              "        b'i love machine learning', b'i love shalom',\n",
              "        b'i love machine learning', b'i love machine learning',\n",
              "        b'i love machine learning'],\n",
              "       [b'i love machine learning', b'i love machine learning',\n",
              "        b'i love machine learning', b'i love machine learning',\n",
              "        b'i love shalom', b'i love machine learning',\n",
              "        b'i love machine learning'],\n",
              "       [b'i love machine learning', b'i love machine learning',\n",
              "        b'i love machine learning', b'i love machine learning',\n",
              "        b'i love machine learning', b'i love shalom',\n",
              "        b'i love machine learning']], dtype=object)>"
            ]
          },
          "metadata": {},
          "execution_count": 309
        }
      ]
    },
    {
      "cell_type": "markdown",
      "source": [
        "### Squaring, log, square root"
      ],
      "metadata": {
        "id": "gUdL5WGThgGp"
      }
    },
    {
      "cell_type": "code",
      "source": [
        "# Create a new tensor\n",
        "\n",
        "tensorH = tf.range(1, 10)\n",
        "tensorH"
      ],
      "metadata": {
        "colab": {
          "base_uri": "https://localhost:8080/"
        },
        "id": "-pkKM-XJhlEc",
        "outputId": "6350d44d-ac5d-4294-844d-b4225b8da76f"
      },
      "execution_count": 310,
      "outputs": [
        {
          "output_type": "execute_result",
          "data": {
            "text/plain": [
              "<tf.Tensor: shape=(9,), dtype=int32, numpy=array([1, 2, 3, 4, 5, 6, 7, 8, 9], dtype=int32)>"
            ]
          },
          "metadata": {},
          "execution_count": 310
        }
      ]
    },
    {
      "cell_type": "code",
      "source": [
        "# Square it\n",
        "\n",
        "tf.square(tensorH)"
      ],
      "metadata": {
        "colab": {
          "base_uri": "https://localhost:8080/"
        },
        "id": "7XR32lKnhuBC",
        "outputId": "b2516d07-9320-4aba-d7ec-571aa6196770"
      },
      "execution_count": 311,
      "outputs": [
        {
          "output_type": "execute_result",
          "data": {
            "text/plain": [
              "<tf.Tensor: shape=(9,), dtype=int32, numpy=array([ 1,  4,  9, 16, 25, 36, 49, 64, 81], dtype=int32)>"
            ]
          },
          "metadata": {},
          "execution_count": 311
        }
      ]
    },
    {
      "cell_type": "code",
      "source": [
        "# we have change the data type cause squareroot and log dosent allow int\n",
        "\n",
        "tensorH = tf.cast(tensorH, dtype=tf.float32)"
      ],
      "metadata": {
        "id": "6K3YyxA6k_yd"
      },
      "execution_count": 316,
      "outputs": []
    },
    {
      "cell_type": "code",
      "source": [
        "# Find the squareroot\n",
        "\n",
        "tf.math.sqrt(tensorH)"
      ],
      "metadata": {
        "colab": {
          "base_uri": "https://localhost:8080/"
        },
        "id": "M3e54cg5ksL2",
        "outputId": "0a6c194c-def9-49ab-fbb1-568ed1ad4cf0"
      },
      "execution_count": 317,
      "outputs": [
        {
          "output_type": "execute_result",
          "data": {
            "text/plain": [
              "<tf.Tensor: shape=(9,), dtype=float32, numpy=\n",
              "array([1.       , 1.4142135, 1.7320508, 2.       , 2.236068 , 2.4494898,\n",
              "       2.6457512, 2.828427 , 3.       ], dtype=float32)>"
            ]
          },
          "metadata": {},
          "execution_count": 317
        }
      ]
    },
    {
      "cell_type": "code",
      "source": [
        "# Find the log\n",
        "\n",
        "tf.math.log(tensorH)"
      ],
      "metadata": {
        "colab": {
          "base_uri": "https://localhost:8080/"
        },
        "id": "nr4UU03ulbI8",
        "outputId": "3061e8a8-304c-49c9-9722-1466815042a6"
      },
      "execution_count": 318,
      "outputs": [
        {
          "output_type": "execute_result",
          "data": {
            "text/plain": [
              "<tf.Tensor: shape=(9,), dtype=float32, numpy=\n",
              "array([0.       , 0.6931472, 1.0986123, 1.3862944, 1.609438 , 1.7917595,\n",
              "       1.9459102, 2.0794415, 2.1972246], dtype=float32)>"
            ]
          },
          "metadata": {},
          "execution_count": 318
        }
      ]
    },
    {
      "cell_type": "markdown",
      "source": [
        "**Exercise by my self**\n",
        "\n",
        "practice 3 method from tf.math model"
      ],
      "metadata": {
        "id": "oJPXek5nmCdh"
      }
    },
    {
      "cell_type": "code",
      "source": [
        "# create new tensor for our example\n",
        "\n",
        "x = tf.constant([[1,2]\n",
        "                ,[3,4]])\n",
        "\n",
        "y = tf.constant([[5,6],\n",
        "                [7,8]])"
      ],
      "metadata": {
        "id": "hzVFCxZ5mLoh"
      },
      "execution_count": 320,
      "outputs": []
    },
    {
      "cell_type": "code",
      "source": [
        "# try tf.math.asin\n",
        "\n",
        "tf.math.asin(tf.cast(x, dtype=tf.float32))"
      ],
      "metadata": {
        "colab": {
          "base_uri": "https://localhost:8080/"
        },
        "id": "OAMP7EKymtys",
        "outputId": "098f65f9-fccb-4929-8ec2-db3f8b15bb53"
      },
      "execution_count": 324,
      "outputs": [
        {
          "output_type": "execute_result",
          "data": {
            "text/plain": [
              "<tf.Tensor: shape=(2, 2), dtype=float32, numpy=\n",
              "array([[1.5707964,       nan],\n",
              "       [      nan,       nan]], dtype=float32)>"
            ]
          },
          "metadata": {},
          "execution_count": 324
        }
      ]
    },
    {
      "cell_type": "code",
      "source": [
        "# try tf.math.sin\n",
        "\n",
        "tf.math.sin(tf.cast(x, dtype=tf.float32))"
      ],
      "metadata": {
        "colab": {
          "base_uri": "https://localhost:8080/"
        },
        "id": "W37sjxSTo0vj",
        "outputId": "b52e26f7-4092-4198-8b28-c5f3759f2c9b"
      },
      "execution_count": 325,
      "outputs": [
        {
          "output_type": "execute_result",
          "data": {
            "text/plain": [
              "<tf.Tensor: shape=(2, 2), dtype=float32, numpy=\n",
              "array([[ 0.84147096,  0.9092974 ],\n",
              "       [ 0.14112   , -0.7568025 ]], dtype=float32)>"
            ]
          },
          "metadata": {},
          "execution_count": 325
        }
      ]
    },
    {
      "cell_type": "code",
      "source": [
        "# try tf.math.tan\n",
        "\n",
        "tf.math.tan(tf.cast(x, dtype=tf.float32))"
      ],
      "metadata": {
        "colab": {
          "base_uri": "https://localhost:8080/"
        },
        "id": "lwZ09nWwpG7L",
        "outputId": "9871d474-0f3a-4f91-df60-dc51b8d0e21f"
      },
      "execution_count": 326,
      "outputs": [
        {
          "output_type": "execute_result",
          "data": {
            "text/plain": [
              "<tf.Tensor: shape=(2, 2), dtype=float32, numpy=\n",
              "array([[ 1.5574077 , -2.1850398 ],\n",
              "       [-0.14254655,  1.1578213 ]], dtype=float32)>"
            ]
          },
          "metadata": {},
          "execution_count": 326
        }
      ]
    }
  ]
}