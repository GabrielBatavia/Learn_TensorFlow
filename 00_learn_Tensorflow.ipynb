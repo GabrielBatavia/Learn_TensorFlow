{
  "nbformat": 4,
  "nbformat_minor": 0,
  "metadata": {
    "colab": {
      "provenance": [],
      "authorship_tag": "ABX9TyM5JIa6+yjr/XM21iIL24wj",
      "include_colab_link": true
    },
    "kernelspec": {
      "name": "python3",
      "display_name": "Python 3"
    },
    "language_info": {
      "name": "python"
    }
  },
  "cells": [
    {
      "cell_type": "markdown",
      "metadata": {
        "id": "view-in-github",
        "colab_type": "text"
      },
      "source": [
        "<a href=\"https://colab.research.google.com/github/GabrielBatavia/Learn_TensorFlow/blob/main/00_learn_Tensorflow.ipynb\" target=\"_parent\"><img src=\"https://colab.research.google.com/assets/colab-badge.svg\" alt=\"Open In Colab\"/></a>"
      ]
    },
    {
      "cell_type": "code",
      "execution_count": 1,
      "metadata": {
        "colab": {
          "base_uri": "https://localhost:8080/"
        },
        "id": "2oyeOWXTJdPw",
        "outputId": "ccf10ea3-6036-47a6-f7c0-8536eeb7f857"
      },
      "outputs": [
        {
          "output_type": "stream",
          "name": "stdout",
          "text": [
            "2.15.0\n"
          ]
        }
      ],
      "source": [
        "# import TensorFlow for first learning\n",
        "\n",
        "import tensorflow as tf\n",
        "print(tf.__version__)"
      ]
    },
    {
      "cell_type": "code",
      "source": [
        "# Create tensors with tf.constant()\n",
        "\n",
        "scalar = tf.constant(7)\n",
        "scalar"
      ],
      "metadata": {
        "colab": {
          "base_uri": "https://localhost:8080/"
        },
        "id": "yepXGWgUfUnh",
        "outputId": "aa6dcdc8-df38-4777-c231-56201d50cfa7"
      },
      "execution_count": 2,
      "outputs": [
        {
          "output_type": "execute_result",
          "data": {
            "text/plain": [
              "<tf.Tensor: shape=(), dtype=int32, numpy=7>"
            ]
          },
          "metadata": {},
          "execution_count": 2
        }
      ]
    },
    {
      "cell_type": "code",
      "source": [
        "# Check the number of dimensions of a tensor (ndim stands for number of dimensions)\n",
        "\n",
        "scalar.ndim"
      ],
      "metadata": {
        "colab": {
          "base_uri": "https://localhost:8080/"
        },
        "id": "2lDkfaAZiZNl",
        "outputId": "831eb74f-ab33-4355-a336-d96402384d09"
      },
      "execution_count": 3,
      "outputs": [
        {
          "output_type": "execute_result",
          "data": {
            "text/plain": [
              "0"
            ]
          },
          "metadata": {},
          "execution_count": 3
        }
      ]
    },
    {
      "cell_type": "code",
      "source": [
        "# Create a Vector\n",
        "\n",
        "vector =  tf.constant([10,10])\n",
        "vector"
      ],
      "metadata": {
        "colab": {
          "base_uri": "https://localhost:8080/"
        },
        "id": "lpkmewaAivHY",
        "outputId": "91c2d4d8-6ef0-4b47-e179-47b73d69c127"
      },
      "execution_count": 4,
      "outputs": [
        {
          "output_type": "execute_result",
          "data": {
            "text/plain": [
              "<tf.Tensor: shape=(2,), dtype=int32, numpy=array([10, 10], dtype=int32)>"
            ]
          },
          "metadata": {},
          "execution_count": 4
        }
      ]
    },
    {
      "cell_type": "code",
      "source": [
        "# Check dimensions of the vector\n",
        "\n",
        "vector.ndim"
      ],
      "metadata": {
        "colab": {
          "base_uri": "https://localhost:8080/"
        },
        "id": "fQ1MZAYrk_iX",
        "outputId": "a1b1bb9e-ddc2-43fd-c022-84e1fe3d59c9"
      },
      "execution_count": 5,
      "outputs": [
        {
          "output_type": "execute_result",
          "data": {
            "text/plain": [
              "1"
            ]
          },
          "metadata": {},
          "execution_count": 5
        }
      ]
    },
    {
      "cell_type": "code",
      "source": [
        "# Create a matrix (has more dimensions)\n",
        "\n",
        "matrix = tf.constant([[10,7],[7,10]])\n",
        "matrix"
      ],
      "metadata": {
        "colab": {
          "base_uri": "https://localhost:8080/"
        },
        "id": "IWNE2PL8lFEV",
        "outputId": "ad209c68-9125-4f07-aad8-09ec94558af4"
      },
      "execution_count": 6,
      "outputs": [
        {
          "output_type": "execute_result",
          "data": {
            "text/plain": [
              "<tf.Tensor: shape=(2, 2), dtype=int32, numpy=\n",
              "array([[10,  7],\n",
              "       [ 7, 10]], dtype=int32)>"
            ]
          },
          "metadata": {},
          "execution_count": 6
        }
      ]
    },
    {
      "cell_type": "code",
      "source": [
        "# Check dimensions of the matrix\n",
        "\n",
        "matrix.ndim"
      ],
      "metadata": {
        "colab": {
          "base_uri": "https://localhost:8080/"
        },
        "id": "BOVJav-MlrOj",
        "outputId": "1d56ff3e-d5e5-46a1-d437-dc5c42e5afeb"
      },
      "execution_count": 7,
      "outputs": [
        {
          "output_type": "execute_result",
          "data": {
            "text/plain": [
              "2"
            ]
          },
          "metadata": {},
          "execution_count": 7
        }
      ]
    },
    {
      "cell_type": "code",
      "source": [
        "# Create another matrix\n",
        "\n",
        "matrix_2 = tf.constant([[10.2,7.],[7.,10.2],[10.,7.2]], dtype = tf.float16) #spesify data type with parameter\n",
        "matrix_2"
      ],
      "metadata": {
        "colab": {
          "base_uri": "https://localhost:8080/"
        },
        "id": "wCzP2i0csxNB",
        "outputId": "acb256ef-f5f8-445d-8783-2c4533ebc4e8"
      },
      "execution_count": 8,
      "outputs": [
        {
          "output_type": "execute_result",
          "data": {
            "text/plain": [
              "<tf.Tensor: shape=(3, 2), dtype=float16, numpy=\n",
              "array([[10.2,  7. ],\n",
              "       [ 7. , 10.2],\n",
              "       [10. ,  7.2]], dtype=float16)>"
            ]
          },
          "metadata": {},
          "execution_count": 8
        }
      ]
    },
    {
      "cell_type": "code",
      "source": [
        "# Check dimensions of the other matrix\n",
        "\n",
        "matrix.ndim"
      ],
      "metadata": {
        "colab": {
          "base_uri": "https://localhost:8080/"
        },
        "id": "KRmwrpe3tRAN",
        "outputId": "0309fef5-f8b3-4cd7-9ec3-a46087c8dde5"
      },
      "execution_count": 9,
      "outputs": [
        {
          "output_type": "execute_result",
          "data": {
            "text/plain": [
              "2"
            ]
          },
          "metadata": {},
          "execution_count": 9
        }
      ]
    },
    {
      "cell_type": "code",
      "source": [
        "# Lets create tensor\n",
        "\n",
        "tensor = tf.constant([[[1,2,3],\n",
        "                       [4,5,6]],\n",
        "                       [[7,8,9],\n",
        "                        [10,11,12]],\n",
        "                      [[13,14,15],\n",
        "                       [16,17,18]]])\n",
        "\n",
        "tensor"
      ],
      "metadata": {
        "colab": {
          "base_uri": "https://localhost:8080/"
        },
        "id": "PkL8fowJ0kSV",
        "outputId": "e1d58764-058e-4b16-c5f8-de606b72c227"
      },
      "execution_count": 10,
      "outputs": [
        {
          "output_type": "execute_result",
          "data": {
            "text/plain": [
              "<tf.Tensor: shape=(3, 2, 3), dtype=int32, numpy=\n",
              "array([[[ 1,  2,  3],\n",
              "        [ 4,  5,  6]],\n",
              "\n",
              "       [[ 7,  8,  9],\n",
              "        [10, 11, 12]],\n",
              "\n",
              "       [[13, 14, 15],\n",
              "        [16, 17, 18]]], dtype=int32)>"
            ]
          },
          "metadata": {},
          "execution_count": 10
        }
      ]
    },
    {
      "cell_type": "code",
      "source": [
        "tensor.ndim"
      ],
      "metadata": {
        "colab": {
          "base_uri": "https://localhost:8080/"
        },
        "id": "Z7Xp6p5j1wTX",
        "outputId": "18ee8f84-348e-4a02-834d-a4feb938bf97"
      },
      "execution_count": 11,
      "outputs": [
        {
          "output_type": "execute_result",
          "data": {
            "text/plain": [
              "3"
            ]
          },
          "metadata": {},
          "execution_count": 11
        }
      ]
    },
    {
      "cell_type": "markdown",
      "source": [
        "What we create so far?\n",
        "\n",
        "* Scaler = is a single number\n",
        "* Vector = a number with direction (e.g wind speed)\n",
        "* matrix = a 2 dimensional array of numbers\n",
        "* tensor = an n-dimensional arrays of numbers (n can be any numbers ; 0-dimensional tensor is scaler, 1-dimensional tensor is vector, 2-dimensional tensor is matrix )"
      ],
      "metadata": {
        "id": "NwuH3CvN2HmK"
      }
    },
    {
      "cell_type": "markdown",
      "source": [
        "### Creating tensor with tf.Variable"
      ],
      "metadata": {
        "id": "auaSAAi4V-Vo"
      }
    },
    {
      "cell_type": "code",
      "source": [
        "# create the same tensor with tf.Variable() as above\n",
        "\n",
        "changeable_tensor = tf.Variable([10,7])\n",
        "unchangeable_tensor = tf.constant([10,7])\n",
        "\n",
        "changeable_tensor, unchangeable_tensor"
      ],
      "metadata": {
        "colab": {
          "base_uri": "https://localhost:8080/"
        },
        "id": "vh5rl2WFWFXc",
        "outputId": "a0676fa1-6c20-4ae4-d6c2-5fbb9509f335"
      },
      "execution_count": 12,
      "outputs": [
        {
          "output_type": "execute_result",
          "data": {
            "text/plain": [
              "(<tf.Variable 'Variable:0' shape=(2,) dtype=int32, numpy=array([10,  7], dtype=int32)>,\n",
              " <tf.Tensor: shape=(2,), dtype=int32, numpy=array([10,  7], dtype=int32)>)"
            ]
          },
          "metadata": {},
          "execution_count": 12
        }
      ]
    },
    {
      "cell_type": "code",
      "source": [
        "# change the elemen in changeable tensor\n",
        "\n",
        "# changeable_tensor[0] = 7  #This way will make erorr\n",
        "\n",
        "#try use .assign()\n",
        "\n",
        "changeable_tensor[0].assign(7)\n",
        "changeable_tensor"
      ],
      "metadata": {
        "colab": {
          "base_uri": "https://localhost:8080/"
        },
        "id": "IKWYCUGwYckd",
        "outputId": "57136463-8b91-4773-feee-e8d2c4eff984"
      },
      "execution_count": 13,
      "outputs": [
        {
          "output_type": "execute_result",
          "data": {
            "text/plain": [
              "<tf.Variable 'Variable:0' shape=(2,) dtype=int32, numpy=array([7, 7], dtype=int32)>"
            ]
          },
          "metadata": {},
          "execution_count": 13
        }
      ]
    },
    {
      "cell_type": "code",
      "source": [
        "# lets try change unchangeable_tensor\n",
        "\n",
        "#unchangeable_tensor[0].assign(7)\n",
        "#unchangeable_tensor\n",
        "\n",
        "# will make error cause const cant change"
      ],
      "metadata": {
        "id": "SmjVU4z4ZShJ"
      },
      "execution_count": 14,
      "outputs": []
    },
    {
      "cell_type": "markdown",
      "source": [
        "What we create so far?\n",
        "\n",
        "tf.constant = is a constant tensor that we cant change the value\n",
        "tf.Variable = is a changeable tensor\n",
        "\n",
        ".assign() = the syntax for change the value of the changeable tensor"
      ],
      "metadata": {
        "id": "owHSPdNPN9z5"
      }
    },
    {
      "cell_type": "markdown",
      "source": [
        "### Create random tensors\n",
        "\n",
        "random tensors are tensors of some abitrary size which contain random numbers"
      ],
      "metadata": {
        "id": "yrKU6_y_OTQP"
      }
    },
    {
      "cell_type": "code",
      "source": [
        "# create two random (but same) tensors\n",
        "\n",
        "random_1 = tf.random.Generator.from_seed(42) # set seed for reproducibility\n",
        "random_1 = random_1.normal(shape = (3,2))\n",
        "random_1"
      ],
      "metadata": {
        "colab": {
          "base_uri": "https://localhost:8080/"
        },
        "id": "3QvLNo9COXR1",
        "outputId": "366e7e8f-ef00-4499-94f7-22d786d12f8c"
      },
      "execution_count": 15,
      "outputs": [
        {
          "output_type": "execute_result",
          "data": {
            "text/plain": [
              "<tf.Tensor: shape=(3, 2), dtype=float32, numpy=\n",
              "array([[-0.7565803 , -0.06854702],\n",
              "       [ 0.07595026, -1.2573844 ],\n",
              "       [-0.23193763, -1.8107855 ]], dtype=float32)>"
            ]
          },
          "metadata": {},
          "execution_count": 15
        }
      ]
    },
    {
      "cell_type": "code",
      "source": [
        "random_2 = tf.random.Generator.from_seed(42)\n",
        "random_2 = random_2.normal(shape = (3,2))\n",
        "random_2"
      ],
      "metadata": {
        "colab": {
          "base_uri": "https://localhost:8080/"
        },
        "id": "sAvKUe4JXLvs",
        "outputId": "1b99cab5-3c10-4cd3-e1c1-7776e8967f4d"
      },
      "execution_count": 16,
      "outputs": [
        {
          "output_type": "execute_result",
          "data": {
            "text/plain": [
              "<tf.Tensor: shape=(3, 2), dtype=float32, numpy=\n",
              "array([[-0.7565803 , -0.06854702],\n",
              "       [ 0.07595026, -1.2573844 ],\n",
              "       [-0.23193763, -1.8107855 ]], dtype=float32)>"
            ]
          },
          "metadata": {},
          "execution_count": 16
        }
      ]
    },
    {
      "cell_type": "code",
      "source": [
        "#  are they equal?\n",
        "\n",
        "random_1 == random_2"
      ],
      "metadata": {
        "colab": {
          "base_uri": "https://localhost:8080/"
        },
        "id": "zsA4JKK-XlH1",
        "outputId": "14adf71f-24e9-49e4-df9a-18f0ccc63e6c"
      },
      "execution_count": 17,
      "outputs": [
        {
          "output_type": "execute_result",
          "data": {
            "text/plain": [
              "<tf.Tensor: shape=(3, 2), dtype=bool, numpy=\n",
              "array([[ True,  True],\n",
              "       [ True,  True],\n",
              "       [ True,  True]])>"
            ]
          },
          "metadata": {},
          "execution_count": 17
        }
      ]
    },
    {
      "cell_type": "markdown",
      "source": [
        "### Shuffle the order of elements in a tensor"
      ],
      "metadata": {
        "id": "krCeu0GKbhwD"
      }
    },
    {
      "cell_type": "code",
      "source": [
        "# shuffle a tensor (valuable if we want shuffle a data so the inherent order dosent effect learning)\n",
        "\n",
        "not_shuffled = tf.constant([[10,7],\n",
        "                            [13,2],\n",
        "                            [7,9]])\n",
        "#not_shuffled.ndim\n",
        "\n",
        "# shuffle our non_shuffled tensor\n",
        "#tf.random.set_seed(42) # global level seed\n",
        "tf.random.shuffle(not_shuffled, seed=42) # operation level seed"
      ],
      "metadata": {
        "colab": {
          "base_uri": "https://localhost:8080/"
        },
        "id": "XQ4SdXlMbmpc",
        "outputId": "cf12fde7-659a-4cdb-f5b2-b7ccecfb6452"
      },
      "execution_count": 18,
      "outputs": [
        {
          "output_type": "execute_result",
          "data": {
            "text/plain": [
              "<tf.Tensor: shape=(3, 2), dtype=int32, numpy=\n",
              "array([[ 7,  9],\n",
              "       [13,  2],\n",
              "       [10,  7]], dtype=int32)>"
            ]
          },
          "metadata": {},
          "execution_count": 18
        }
      ]
    },
    {
      "cell_type": "markdown",
      "source": [
        "⚡**EXERCISE** : read this documentation for set_seed https://www.tensorflow.org/api_docs/python/tf/random/set_seed , and practice writing 5 random tensors and shuffle them"
      ],
      "metadata": {
        "id": "hE96LFomeaOv"
      }
    },
    {
      "cell_type": "code",
      "source": [
        "# Exercise 1\n",
        "\n",
        "tensor_exercise1 = tf.constant([[1,2],\n",
        "                                 [3,4],\n",
        "                                 [5,6]])\n",
        "\n",
        "tf.random.shuffle(tensor_exercise1, seed=23)"
      ],
      "metadata": {
        "colab": {
          "base_uri": "https://localhost:8080/"
        },
        "id": "OwnpwJV_MdBc",
        "outputId": "24274b14-e5e0-4841-d138-caa9ce5f1a28"
      },
      "execution_count": 19,
      "outputs": [
        {
          "output_type": "execute_result",
          "data": {
            "text/plain": [
              "<tf.Tensor: shape=(3, 2), dtype=int32, numpy=\n",
              "array([[5, 6],\n",
              "       [1, 2],\n",
              "       [3, 4]], dtype=int32)>"
            ]
          },
          "metadata": {},
          "execution_count": 19
        }
      ]
    },
    {
      "cell_type": "code",
      "source": [
        "# Exercise 2\n",
        "\n",
        "tensor_exercise2 = tf.constant([[[1,2],\n",
        "                                  [3,4]],\n",
        "                                 [[5,6],\n",
        "                                  [7,8]],\n",
        "                                 [[9,10],\n",
        "                                 [11,12]]])\n",
        "\n",
        "tf.random.set_seed(12) # global level seed\n",
        "tf.random.shuffle(tensor_exercise2)"
      ],
      "metadata": {
        "colab": {
          "base_uri": "https://localhost:8080/"
        },
        "id": "ClRuGxj3NSXk",
        "outputId": "e9099de4-358c-4ba0-877d-2644d753775a"
      },
      "execution_count": 20,
      "outputs": [
        {
          "output_type": "execute_result",
          "data": {
            "text/plain": [
              "<tf.Tensor: shape=(3, 2, 2), dtype=int32, numpy=\n",
              "array([[[ 5,  6],\n",
              "        [ 7,  8]],\n",
              "\n",
              "       [[ 1,  2],\n",
              "        [ 3,  4]],\n",
              "\n",
              "       [[ 9, 10],\n",
              "        [11, 12]]], dtype=int32)>"
            ]
          },
          "metadata": {},
          "execution_count": 20
        }
      ]
    },
    {
      "cell_type": "code",
      "source": [
        "shuffle_tensor1 = tf.random.shuffle(tensor_exercise2, seed=42)"
      ],
      "metadata": {
        "id": "_srQHalXOAiF"
      },
      "execution_count": 21,
      "outputs": []
    },
    {
      "cell_type": "code",
      "source": [
        "shuffle_tensor2 = tf.random.shuffle(tensor_exercise2, seed=42)"
      ],
      "metadata": {
        "id": "JG2qCW12OpD7"
      },
      "execution_count": 22,
      "outputs": []
    },
    {
      "cell_type": "code",
      "source": [
        "#check if it equal\n",
        "shuffle_tensor1 == shuffle_tensor2"
      ],
      "metadata": {
        "colab": {
          "base_uri": "https://localhost:8080/"
        },
        "id": "KZLOrgL_O7f6",
        "outputId": "5194eeac-2385-42bc-c939-9db9ba86a9fd"
      },
      "execution_count": 23,
      "outputs": [
        {
          "output_type": "execute_result",
          "data": {
            "text/plain": [
              "<tf.Tensor: shape=(3, 2, 2), dtype=bool, numpy=\n",
              "array([[[False, False],\n",
              "        [False, False]],\n",
              "\n",
              "       [[False, False],\n",
              "        [False, False]],\n",
              "\n",
              "       [[False, False],\n",
              "        [False, False]]])>"
            ]
          },
          "metadata": {},
          "execution_count": 23
        }
      ]
    },
    {
      "cell_type": "code",
      "source": [
        "# Exercise 3\n",
        "\n",
        "tensor_exercise3 = tf.random.Generator.from_seed(12)\n",
        "tensor_exercise3 = tensor_exercise3.normal(shape = (3,2))\n",
        "\n",
        "tensor_exercise3"
      ],
      "metadata": {
        "colab": {
          "base_uri": "https://localhost:8080/"
        },
        "id": "Lqr6ZDvcph5t",
        "outputId": "076c1b61-b4f7-4b72-8717-bf4b1a2f2ca7"
      },
      "execution_count": 24,
      "outputs": [
        {
          "output_type": "execute_result",
          "data": {
            "text/plain": [
              "<tf.Tensor: shape=(3, 2), dtype=float32, numpy=\n",
              "array([[-1.0130816 ,  0.28291714],\n",
              "       [ 1.2132233 ,  0.46988967],\n",
              "       [ 0.37944323, -0.6664026 ]], dtype=float32)>"
            ]
          },
          "metadata": {},
          "execution_count": 24
        }
      ]
    },
    {
      "cell_type": "code",
      "source": [
        "tf.random.shuffle(tensor_exercise3)"
      ],
      "metadata": {
        "colab": {
          "base_uri": "https://localhost:8080/"
        },
        "id": "vGy4UMH_qKeO",
        "outputId": "1ea14318-24e9-4fc6-9fb6-7e54b1d09287"
      },
      "execution_count": 25,
      "outputs": [
        {
          "output_type": "execute_result",
          "data": {
            "text/plain": [
              "<tf.Tensor: shape=(3, 2), dtype=float32, numpy=\n",
              "array([[ 0.37944323, -0.6664026 ],\n",
              "       [ 1.2132233 ,  0.46988967],\n",
              "       [-1.0130816 ,  0.28291714]], dtype=float32)>"
            ]
          },
          "metadata": {},
          "execution_count": 25
        }
      ]
    },
    {
      "cell_type": "code",
      "source": [
        "# Exercise 4\n",
        "\n",
        "tensor_exercise4 = tf.random.Generator.from_seed(42)\n",
        "tensor_exercise4 = tensor_exercise4.normal(shape=(4,2,4))\n",
        "\n",
        "tensor_exercise4"
      ],
      "metadata": {
        "colab": {
          "base_uri": "https://localhost:8080/"
        },
        "id": "TjHdODeGqfKZ",
        "outputId": "10470f2c-4f0c-40e1-904d-2f0dbd0c6814"
      },
      "execution_count": 26,
      "outputs": [
        {
          "output_type": "execute_result",
          "data": {
            "text/plain": [
              "<tf.Tensor: shape=(4, 2, 4), dtype=float32, numpy=\n",
              "array([[[-0.7565803 , -0.06854702,  0.07595026, -1.2573844 ],\n",
              "        [-0.23193763, -1.8107855 ,  0.09988727, -0.50998646]],\n",
              "\n",
              "       [[-0.7535805 , -0.57166284,  0.1480774 , -0.23362993],\n",
              "        [-0.3522796 ,  0.40621263, -1.0523509 ,  1.2054597 ]],\n",
              "\n",
              "       [[ 1.6874489 , -0.4462975 , -2.3410842 ,  0.99009085],\n",
              "        [-0.0876323 , -0.635568  , -0.6161736 , -1.9441465 ]],\n",
              "\n",
              "       [[-0.48293006, -0.52447474, -1.0345329 ,  1.3066901 ],\n",
              "        [-1.5184573 , -0.4585211 ,  0.5714663 , -1.5331722 ]]],\n",
              "      dtype=float32)>"
            ]
          },
          "metadata": {},
          "execution_count": 26
        }
      ]
    },
    {
      "cell_type": "code",
      "source": [
        "tf.random.shuffle(tensor_exercise4)"
      ],
      "metadata": {
        "colab": {
          "base_uri": "https://localhost:8080/"
        },
        "id": "xcN6jpKTrUOq",
        "outputId": "0e63fadf-9d08-4012-99b9-2746993c03e4"
      },
      "execution_count": 27,
      "outputs": [
        {
          "output_type": "execute_result",
          "data": {
            "text/plain": [
              "<tf.Tensor: shape=(4, 2, 4), dtype=float32, numpy=\n",
              "array([[[ 1.6874489 , -0.4462975 , -2.3410842 ,  0.99009085],\n",
              "        [-0.0876323 , -0.635568  , -0.6161736 , -1.9441465 ]],\n",
              "\n",
              "       [[-0.48293006, -0.52447474, -1.0345329 ,  1.3066901 ],\n",
              "        [-1.5184573 , -0.4585211 ,  0.5714663 , -1.5331722 ]],\n",
              "\n",
              "       [[-0.7535805 , -0.57166284,  0.1480774 , -0.23362993],\n",
              "        [-0.3522796 ,  0.40621263, -1.0523509 ,  1.2054597 ]],\n",
              "\n",
              "       [[-0.7565803 , -0.06854702,  0.07595026, -1.2573844 ],\n",
              "        [-0.23193763, -1.8107855 ,  0.09988727, -0.50998646]]],\n",
              "      dtype=float32)>"
            ]
          },
          "metadata": {},
          "execution_count": 27
        }
      ]
    },
    {
      "cell_type": "code",
      "source": [
        "# Exercise 5\n",
        "\n",
        "tensor_exercise5 = tf.random.Generator.from_seed(42)\n",
        "tensor_exercise5 = tensor_exercise5.normal(shape=(2,8,3))\n",
        "\n",
        "tensor_exercise5"
      ],
      "metadata": {
        "colab": {
          "base_uri": "https://localhost:8080/"
        },
        "id": "HEmZAKIJrebp",
        "outputId": "a19e1de2-105d-4f68-cd65-00f692805dc8"
      },
      "execution_count": 28,
      "outputs": [
        {
          "output_type": "execute_result",
          "data": {
            "text/plain": [
              "<tf.Tensor: shape=(2, 8, 3), dtype=float32, numpy=\n",
              "array([[[-0.7565803 , -0.06854702,  0.07595026],\n",
              "        [-1.2573844 , -0.23193763, -1.8107855 ],\n",
              "        [ 0.09988727, -0.50998646, -0.7535805 ],\n",
              "        [-0.57166284,  0.1480774 , -0.23362993],\n",
              "        [-0.3522796 ,  0.40621263, -1.0523509 ],\n",
              "        [ 1.2054597 ,  1.6874489 , -0.4462975 ],\n",
              "        [-2.3410842 ,  0.99009085, -0.0876323 ],\n",
              "        [-0.635568  , -0.6161736 , -1.9441465 ]],\n",
              "\n",
              "       [[-0.48293006, -0.52447474, -1.0345329 ],\n",
              "        [ 1.3066901 , -1.5184573 , -0.4585211 ],\n",
              "        [ 0.5714663 , -1.5331722 ,  0.45331386],\n",
              "        [ 1.1487608 , -1.2659091 , -0.47450137],\n",
              "        [ 2.006022  ,  0.28288034, -0.30288252],\n",
              "        [-1.443651  ,  1.0034493 ,  0.20857747],\n",
              "        [ 0.35700995,  1.0648885 ,  1.2432485 ],\n",
              "        [-2.2173238 ,  0.18706243,  0.6617961 ]]], dtype=float32)>"
            ]
          },
          "metadata": {},
          "execution_count": 28
        }
      ]
    },
    {
      "cell_type": "code",
      "source": [
        "tf.random.shuffle(tensor_exercise5)"
      ],
      "metadata": {
        "colab": {
          "base_uri": "https://localhost:8080/"
        },
        "id": "CmG0XbATsCAy",
        "outputId": "9186faf8-37bb-4bb7-d48f-614e1cd0cc4b"
      },
      "execution_count": 29,
      "outputs": [
        {
          "output_type": "execute_result",
          "data": {
            "text/plain": [
              "<tf.Tensor: shape=(2, 8, 3), dtype=float32, numpy=\n",
              "array([[[-0.48293006, -0.52447474, -1.0345329 ],\n",
              "        [ 1.3066901 , -1.5184573 , -0.4585211 ],\n",
              "        [ 0.5714663 , -1.5331722 ,  0.45331386],\n",
              "        [ 1.1487608 , -1.2659091 , -0.47450137],\n",
              "        [ 2.006022  ,  0.28288034, -0.30288252],\n",
              "        [-1.443651  ,  1.0034493 ,  0.20857747],\n",
              "        [ 0.35700995,  1.0648885 ,  1.2432485 ],\n",
              "        [-2.2173238 ,  0.18706243,  0.6617961 ]],\n",
              "\n",
              "       [[-0.7565803 , -0.06854702,  0.07595026],\n",
              "        [-1.2573844 , -0.23193763, -1.8107855 ],\n",
              "        [ 0.09988727, -0.50998646, -0.7535805 ],\n",
              "        [-0.57166284,  0.1480774 , -0.23362993],\n",
              "        [-0.3522796 ,  0.40621263, -1.0523509 ],\n",
              "        [ 1.2054597 ,  1.6874489 , -0.4462975 ],\n",
              "        [-2.3410842 ,  0.99009085, -0.0876323 ],\n",
              "        [-0.635568  , -0.6161736 , -1.9441465 ]]], dtype=float32)>"
            ]
          },
          "metadata": {},
          "execution_count": 29
        }
      ]
    },
    {
      "cell_type": "markdown",
      "source": [
        "### Other ways to create tensor"
      ],
      "metadata": {
        "id": "kd9SF9RtysaL"
      }
    },
    {
      "cell_type": "code",
      "source": [
        "# create tensor of all ones\n",
        "\n",
        "tf.ones([10,5])"
      ],
      "metadata": {
        "colab": {
          "base_uri": "https://localhost:8080/"
        },
        "id": "hSGr3_WhyziB",
        "outputId": "b1827ef4-5a1a-494c-9cf2-0cc4d79fb9c1"
      },
      "execution_count": 30,
      "outputs": [
        {
          "output_type": "execute_result",
          "data": {
            "text/plain": [
              "<tf.Tensor: shape=(10, 5), dtype=float32, numpy=\n",
              "array([[1., 1., 1., 1., 1.],\n",
              "       [1., 1., 1., 1., 1.],\n",
              "       [1., 1., 1., 1., 1.],\n",
              "       [1., 1., 1., 1., 1.],\n",
              "       [1., 1., 1., 1., 1.],\n",
              "       [1., 1., 1., 1., 1.],\n",
              "       [1., 1., 1., 1., 1.],\n",
              "       [1., 1., 1., 1., 1.],\n",
              "       [1., 1., 1., 1., 1.],\n",
              "       [1., 1., 1., 1., 1.]], dtype=float32)>"
            ]
          },
          "metadata": {},
          "execution_count": 30
        }
      ]
    },
    {
      "cell_type": "code",
      "source": [
        "# create tensor of all zeroes\n",
        "\n",
        "tf.zeros(shape=(3,5))"
      ],
      "metadata": {
        "colab": {
          "base_uri": "https://localhost:8080/"
        },
        "id": "qPfbC5Ziy-Gj",
        "outputId": "62de0ab7-00ae-49c7-f8bd-56383ed44528"
      },
      "execution_count": 31,
      "outputs": [
        {
          "output_type": "execute_result",
          "data": {
            "text/plain": [
              "<tf.Tensor: shape=(3, 5), dtype=float32, numpy=\n",
              "array([[0., 0., 0., 0., 0.],\n",
              "       [0., 0., 0., 0., 0.],\n",
              "       [0., 0., 0., 0., 0.]], dtype=float32)>"
            ]
          },
          "metadata": {},
          "execution_count": 31
        }
      ]
    },
    {
      "cell_type": "markdown",
      "source": [
        "### Turn numpy arrays into tensors\n",
        "\n",
        "The main deferent between numpy arrays and tensors is tensors can run in GPU (Fasters)"
      ],
      "metadata": {
        "id": "JNH9uQrtzoL5"
      }
    },
    {
      "cell_type": "code",
      "source": [
        "# You can also turn numpy arrays into tensors\n",
        "\n",
        "import numpy as np\n",
        "\n",
        "numpy_A = np.arange(1, 25, dtype=np.int32) # create numpy array between 1 and 25\n",
        "numpy_A\n",
        "\n",
        "# x = tf.constant(some_matrix)  #capital for matrix or tensors\n",
        "# y = tf.constant(vector)       #non capital for vector"
      ],
      "metadata": {
        "colab": {
          "base_uri": "https://localhost:8080/"
        },
        "id": "4nou-jAKza0M",
        "outputId": "a63ce3c7-eea7-4bb8-8632-24cc4737964d"
      },
      "execution_count": 32,
      "outputs": [
        {
          "output_type": "execute_result",
          "data": {
            "text/plain": [
              "array([ 1,  2,  3,  4,  5,  6,  7,  8,  9, 10, 11, 12, 13, 14, 15, 16, 17,\n",
              "       18, 19, 20, 21, 22, 23, 24], dtype=int32)"
            ]
          },
          "metadata": {},
          "execution_count": 32
        }
      ]
    },
    {
      "cell_type": "code",
      "source": [
        "A = tf.constant(numpy_A) # its will be tensors\n",
        "A"
      ],
      "metadata": {
        "colab": {
          "base_uri": "https://localhost:8080/"
        },
        "id": "87tCuNON6URs",
        "outputId": "355b4547-144d-4213-ec79-5276e1c26a44"
      },
      "execution_count": 33,
      "outputs": [
        {
          "output_type": "execute_result",
          "data": {
            "text/plain": [
              "<tf.Tensor: shape=(24,), dtype=int32, numpy=\n",
              "array([ 1,  2,  3,  4,  5,  6,  7,  8,  9, 10, 11, 12, 13, 14, 15, 16, 17,\n",
              "       18, 19, 20, 21, 22, 23, 24], dtype=int32)>"
            ]
          },
          "metadata": {},
          "execution_count": 33
        }
      ]
    },
    {
      "cell_type": "code",
      "source": [
        "B = tf.constant(numpy_A, shape=(4,3,2))\n",
        "B"
      ],
      "metadata": {
        "colab": {
          "base_uri": "https://localhost:8080/"
        },
        "id": "NYTENXE17PRx",
        "outputId": "2ee78f1a-73c4-4bf0-b8e9-cb446a0140e0"
      },
      "execution_count": 34,
      "outputs": [
        {
          "output_type": "execute_result",
          "data": {
            "text/plain": [
              "<tf.Tensor: shape=(4, 3, 2), dtype=int32, numpy=\n",
              "array([[[ 1,  2],\n",
              "        [ 3,  4],\n",
              "        [ 5,  6]],\n",
              "\n",
              "       [[ 7,  8],\n",
              "        [ 9, 10],\n",
              "        [11, 12]],\n",
              "\n",
              "       [[13, 14],\n",
              "        [15, 16],\n",
              "        [17, 18]],\n",
              "\n",
              "       [[19, 20],\n",
              "        [21, 22],\n",
              "        [23, 24]]], dtype=int32)>"
            ]
          },
          "metadata": {},
          "execution_count": 34
        }
      ]
    },
    {
      "cell_type": "markdown",
      "source": [
        "### Getting information from tensors\n",
        "\n",
        "When dealing with tensors, we probably want to know the following atribut :\n",
        "* Shape\n",
        "* Rank\n",
        "* Axis or dimension\n",
        "* Size"
      ],
      "metadata": {
        "id": "W1VWXtG2-qC6"
      }
    },
    {
      "cell_type": "code",
      "source": [
        "# Create a rank 4 tensor (4 dimensions)\n",
        "\n",
        "rank_4_tensor = tf.zeros(shape=(2,3,4,5))\n",
        "rank_4_tensor"
      ],
      "metadata": {
        "colab": {
          "base_uri": "https://localhost:8080/"
        },
        "id": "I7WaJTZk_gYX",
        "outputId": "ba112644-7917-4284-dbde-4fff154902c3"
      },
      "execution_count": 35,
      "outputs": [
        {
          "output_type": "execute_result",
          "data": {
            "text/plain": [
              "<tf.Tensor: shape=(2, 3, 4, 5), dtype=float32, numpy=\n",
              "array([[[[0., 0., 0., 0., 0.],\n",
              "         [0., 0., 0., 0., 0.],\n",
              "         [0., 0., 0., 0., 0.],\n",
              "         [0., 0., 0., 0., 0.]],\n",
              "\n",
              "        [[0., 0., 0., 0., 0.],\n",
              "         [0., 0., 0., 0., 0.],\n",
              "         [0., 0., 0., 0., 0.],\n",
              "         [0., 0., 0., 0., 0.]],\n",
              "\n",
              "        [[0., 0., 0., 0., 0.],\n",
              "         [0., 0., 0., 0., 0.],\n",
              "         [0., 0., 0., 0., 0.],\n",
              "         [0., 0., 0., 0., 0.]]],\n",
              "\n",
              "\n",
              "       [[[0., 0., 0., 0., 0.],\n",
              "         [0., 0., 0., 0., 0.],\n",
              "         [0., 0., 0., 0., 0.],\n",
              "         [0., 0., 0., 0., 0.]],\n",
              "\n",
              "        [[0., 0., 0., 0., 0.],\n",
              "         [0., 0., 0., 0., 0.],\n",
              "         [0., 0., 0., 0., 0.],\n",
              "         [0., 0., 0., 0., 0.]],\n",
              "\n",
              "        [[0., 0., 0., 0., 0.],\n",
              "         [0., 0., 0., 0., 0.],\n",
              "         [0., 0., 0., 0., 0.],\n",
              "         [0., 0., 0., 0., 0.]]]], dtype=float32)>"
            ]
          },
          "metadata": {},
          "execution_count": 35
        }
      ]
    },
    {
      "cell_type": "code",
      "source": [
        "# index tensor\n",
        "\n",
        "rank_4_tensor[0,0,0,0]"
      ],
      "metadata": {
        "colab": {
          "base_uri": "https://localhost:8080/"
        },
        "id": "s_0RGl32DKUO",
        "outputId": "7b34c6da-0800-42dc-c749-adaba2f05c84"
      },
      "execution_count": 36,
      "outputs": [
        {
          "output_type": "execute_result",
          "data": {
            "text/plain": [
              "<tf.Tensor: shape=(), dtype=float32, numpy=0.0>"
            ]
          },
          "metadata": {},
          "execution_count": 36
        }
      ]
    },
    {
      "cell_type": "code",
      "source": [
        "# check the shape, rank, and size\n",
        "\n",
        "rank_4_tensor.shape, rank_4_tensor.ndim, tf.size(rank_4_tensor)"
      ],
      "metadata": {
        "colab": {
          "base_uri": "https://localhost:8080/"
        },
        "id": "aLvaaxhIEPJ8",
        "outputId": "fdb1d94b-e034-4fa5-ba7d-682dbaa5d810"
      },
      "execution_count": 37,
      "outputs": [
        {
          "output_type": "execute_result",
          "data": {
            "text/plain": [
              "(TensorShape([2, 3, 4, 5]), 4, <tf.Tensor: shape=(), dtype=int32, numpy=120>)"
            ]
          },
          "metadata": {},
          "execution_count": 37
        }
      ]
    },
    {
      "cell_type": "markdown",
      "source": [
        "### Indexing tensors\n",
        "\n",
        "Tensors can be indexing just like pyton list"
      ],
      "metadata": {
        "id": "iCZtT2t_HJiM"
      }
    },
    {
      "cell_type": "code",
      "source": [
        "# Get the first 2 elements of each dimension\n",
        "\n",
        "rank_4_tensor[:2,:2,:2,:2]"
      ],
      "metadata": {
        "colab": {
          "base_uri": "https://localhost:8080/"
        },
        "id": "7P39KAInHQQs",
        "outputId": "eb14c888-13b2-420c-91a4-978af8e1d780"
      },
      "execution_count": 38,
      "outputs": [
        {
          "output_type": "execute_result",
          "data": {
            "text/plain": [
              "<tf.Tensor: shape=(2, 2, 2, 2), dtype=float32, numpy=\n",
              "array([[[[0., 0.],\n",
              "         [0., 0.]],\n",
              "\n",
              "        [[0., 0.],\n",
              "         [0., 0.]]],\n",
              "\n",
              "\n",
              "       [[[0., 0.],\n",
              "         [0., 0.]],\n",
              "\n",
              "        [[0., 0.],\n",
              "         [0., 0.]]]], dtype=float32)>"
            ]
          },
          "metadata": {},
          "execution_count": 38
        }
      ]
    },
    {
      "cell_type": "code",
      "source": [
        "# create rank 2 tensor\n",
        "rank_2_tensor = tf.constant([[1,2],\n",
        "                             [3,4]])\n",
        "rank_2_tensor"
      ],
      "metadata": {
        "colab": {
          "base_uri": "https://localhost:8080/"
        },
        "id": "wC7x2YliJd-q",
        "outputId": "a217b4c1-3232-4a59-f313-eaa1068ea0e7"
      },
      "execution_count": 39,
      "outputs": [
        {
          "output_type": "execute_result",
          "data": {
            "text/plain": [
              "<tf.Tensor: shape=(2, 2), dtype=int32, numpy=\n",
              "array([[1, 2],\n",
              "       [3, 4]], dtype=int32)>"
            ]
          },
          "metadata": {},
          "execution_count": 39
        }
      ]
    },
    {
      "cell_type": "code",
      "source": [
        "# Get the last item of each row\n",
        "\n",
        "rank_2_tensor[:,-1]"
      ],
      "metadata": {
        "colab": {
          "base_uri": "https://localhost:8080/"
        },
        "id": "6fXX7OHiJ23J",
        "outputId": "8116f3e5-e407-43f2-ab78-2c7c32b72941"
      },
      "execution_count": 40,
      "outputs": [
        {
          "output_type": "execute_result",
          "data": {
            "text/plain": [
              "<tf.Tensor: shape=(2,), dtype=int32, numpy=array([2, 4], dtype=int32)>"
            ]
          },
          "metadata": {},
          "execution_count": 40
        }
      ]
    },
    {
      "cell_type": "code",
      "source": [
        "# Add extra dimension to our tensor\n",
        "\n",
        "rank_3_tensor = rank_2_tensor[...,tf.newaxis]\n",
        "rank_3_tensor\n",
        "\n"
      ],
      "metadata": {
        "colab": {
          "base_uri": "https://localhost:8080/"
        },
        "id": "ieChmjGTKVHP",
        "outputId": "c930494a-02cd-4d92-c9d7-24e8927f86f0"
      },
      "execution_count": 41,
      "outputs": [
        {
          "output_type": "execute_result",
          "data": {
            "text/plain": [
              "<tf.Tensor: shape=(2, 2, 1), dtype=int32, numpy=\n",
              "array([[[1],\n",
              "        [2]],\n",
              "\n",
              "       [[3],\n",
              "        [4]]], dtype=int32)>"
            ]
          },
          "metadata": {},
          "execution_count": 41
        }
      ]
    },
    {
      "cell_type": "code",
      "source": [
        "rank_2_tensor.ndim, rank_3_tensor.ndim"
      ],
      "metadata": {
        "colab": {
          "base_uri": "https://localhost:8080/"
        },
        "id": "rIjv6Vz4LJI3",
        "outputId": "793b4173-5a52-4235-84ae-d6b5dc043c2d"
      },
      "execution_count": 42,
      "outputs": [
        {
          "output_type": "execute_result",
          "data": {
            "text/plain": [
              "(2, 3)"
            ]
          },
          "metadata": {},
          "execution_count": 42
        }
      ]
    },
    {
      "cell_type": "code",
      "source": [
        "# Alternative to tf.newaxis\n",
        "\n",
        "tf.expand_dims(rank_2_tensor, axis=-1) # \"-1\" means expand the final axis\n"
      ],
      "metadata": {
        "id": "uqtmHcoSMHU0",
        "colab": {
          "base_uri": "https://localhost:8080/"
        },
        "outputId": "aeff5a59-5b0d-4b3c-998a-0cab72c68513"
      },
      "execution_count": 47,
      "outputs": [
        {
          "output_type": "execute_result",
          "data": {
            "text/plain": [
              "<tf.Tensor: shape=(2, 2, 1), dtype=int32, numpy=\n",
              "array([[[1],\n",
              "        [2]],\n",
              "\n",
              "       [[3],\n",
              "        [4]]], dtype=int32)>"
            ]
          },
          "metadata": {},
          "execution_count": 47
        }
      ]
    },
    {
      "cell_type": "code",
      "source": [
        "rank_2_tensor"
      ],
      "metadata": {
        "colab": {
          "base_uri": "https://localhost:8080/"
        },
        "id": "Z_4bnfs0kDN8",
        "outputId": "369039a6-a98e-4c27-c3d7-b02b4f5ddb0b"
      },
      "execution_count": 44,
      "outputs": [
        {
          "output_type": "execute_result",
          "data": {
            "text/plain": [
              "<tf.Tensor: shape=(2, 2), dtype=int32, numpy=\n",
              "array([[1, 2],\n",
              "       [3, 4]], dtype=int32)>"
            ]
          },
          "metadata": {},
          "execution_count": 44
        }
      ]
    },
    {
      "cell_type": "markdown",
      "source": [
        "### Manipulating Tensors (Tensor Operation)\n",
        "\n",
        "**Basic Operation**"
      ],
      "metadata": {
        "id": "cqJIH41ClD2l"
      }
    },
    {
      "cell_type": "code",
      "source": [
        "# Add values to tensors using addition operation\n",
        "\n",
        "tensor_op_1 = tf.constant([[10,7],\n",
        "                           [3,4]])\n",
        "tensor_op_1 + 10"
      ],
      "metadata": {
        "colab": {
          "base_uri": "https://localhost:8080/"
        },
        "id": "RCHa8thJlIr9",
        "outputId": "8bd2b78e-37e6-49b4-9a80-ad4471d7a6dd"
      },
      "execution_count": 48,
      "outputs": [
        {
          "output_type": "execute_result",
          "data": {
            "text/plain": [
              "<tf.Tensor: shape=(2, 2), dtype=int32, numpy=\n",
              "array([[20, 17],\n",
              "       [13, 14]], dtype=int32)>"
            ]
          },
          "metadata": {},
          "execution_count": 48
        }
      ]
    },
    {
      "cell_type": "code",
      "source": [
        "# check the value\n",
        "tensor_op_1 # the value dosent change"
      ],
      "metadata": {
        "colab": {
          "base_uri": "https://localhost:8080/"
        },
        "id": "kuD_eN0Al2TK",
        "outputId": "026ed654-de3f-4211-ba1b-b91faf8c7204"
      },
      "execution_count": 49,
      "outputs": [
        {
          "output_type": "execute_result",
          "data": {
            "text/plain": [
              "<tf.Tensor: shape=(2, 2), dtype=int32, numpy=\n",
              "array([[10,  7],\n",
              "       [ 3,  4]], dtype=int32)>"
            ]
          },
          "metadata": {},
          "execution_count": 49
        }
      ]
    },
    {
      "cell_type": "code",
      "source": [
        "# Multiplication\n",
        "\n",
        "tensor_op_1 * 10"
      ],
      "metadata": {
        "colab": {
          "base_uri": "https://localhost:8080/"
        },
        "id": "2_vtGjbNmFds",
        "outputId": "fa72ef58-8c2a-424d-de57-603efffd4126"
      },
      "execution_count": 50,
      "outputs": [
        {
          "output_type": "execute_result",
          "data": {
            "text/plain": [
              "<tf.Tensor: shape=(2, 2), dtype=int32, numpy=\n",
              "array([[100,  70],\n",
              "       [ 30,  40]], dtype=int32)>"
            ]
          },
          "metadata": {},
          "execution_count": 50
        }
      ]
    },
    {
      "cell_type": "code",
      "source": [
        "# Substraction\n",
        "\n",
        "tensor_op_1 - 100"
      ],
      "metadata": {
        "colab": {
          "base_uri": "https://localhost:8080/"
        },
        "id": "w0d5vKAwmLdz",
        "outputId": "94516ea9-3782-443e-91ef-566800698df1"
      },
      "execution_count": 51,
      "outputs": [
        {
          "output_type": "execute_result",
          "data": {
            "text/plain": [
              "<tf.Tensor: shape=(2, 2), dtype=int32, numpy=\n",
              "array([[-90, -93],\n",
              "       [-97, -96]], dtype=int32)>"
            ]
          },
          "metadata": {},
          "execution_count": 51
        }
      ]
    },
    {
      "cell_type": "code",
      "source": [
        "#\n",
        "\n",
        "tensor_op_1 / 2"
      ],
      "metadata": {
        "colab": {
          "base_uri": "https://localhost:8080/"
        },
        "id": "Wfzeey9umScI",
        "outputId": "7d447009-f124-48fa-dfdc-d570a3c4bf46"
      },
      "execution_count": 52,
      "outputs": [
        {
          "output_type": "execute_result",
          "data": {
            "text/plain": [
              "<tf.Tensor: shape=(2, 2), dtype=float64, numpy=\n",
              "array([[5. , 3.5],\n",
              "       [1.5, 2. ]])>"
            ]
          },
          "metadata": {},
          "execution_count": 52
        }
      ]
    },
    {
      "cell_type": "code",
      "source": [
        "# Use the tensorflow built-in function\n",
        "\n",
        "tf.multiply(tensor_op_1, 10)"
      ],
      "metadata": {
        "colab": {
          "base_uri": "https://localhost:8080/"
        },
        "id": "OQzMkSvYmc1C",
        "outputId": "eb862e12-4003-4631-e695-71d3356ee247"
      },
      "execution_count": 53,
      "outputs": [
        {
          "output_type": "execute_result",
          "data": {
            "text/plain": [
              "<tf.Tensor: shape=(2, 2), dtype=int32, numpy=\n",
              "array([[100,  70],\n",
              "       [ 30,  40]], dtype=int32)>"
            ]
          },
          "metadata": {},
          "execution_count": 53
        }
      ]
    }
  ]
}