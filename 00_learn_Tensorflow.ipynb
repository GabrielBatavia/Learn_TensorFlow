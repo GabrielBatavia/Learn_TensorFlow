{
  "nbformat": 4,
  "nbformat_minor": 0,
  "metadata": {
    "colab": {
      "provenance": [],
      "authorship_tag": "ABX9TyOiPaK+34GdolX89mrZiYFQ",
      "include_colab_link": true
    },
    "kernelspec": {
      "name": "python3",
      "display_name": "Python 3"
    },
    "language_info": {
      "name": "python"
    }
  },
  "cells": [
    {
      "cell_type": "markdown",
      "metadata": {
        "id": "view-in-github",
        "colab_type": "text"
      },
      "source": [
        "<a href=\"https://colab.research.google.com/github/GabrielBatavia/Learn_TensorFlow/blob/main/00_learn_Tensorflow.ipynb\" target=\"_parent\"><img src=\"https://colab.research.google.com/assets/colab-badge.svg\" alt=\"Open In Colab\"/></a>"
      ]
    },
    {
      "cell_type": "code",
      "execution_count": 1,
      "metadata": {
        "colab": {
          "base_uri": "https://localhost:8080/"
        },
        "id": "2oyeOWXTJdPw",
        "outputId": "f933a9fb-7499-4271-9d2f-45f1a5fb5709"
      },
      "outputs": [
        {
          "output_type": "stream",
          "name": "stdout",
          "text": [
            "2.15.0\n"
          ]
        }
      ],
      "source": [
        "# import TensorFlow for first learning\n",
        "\n",
        "import tensorflow as tf\n",
        "print(tf.__version__)"
      ]
    },
    {
      "cell_type": "code",
      "source": [
        "# Create tensors with tf.constant()\n",
        "\n",
        "scalar = tf.constant(7)\n",
        "scalar"
      ],
      "metadata": {
        "colab": {
          "base_uri": "https://localhost:8080/"
        },
        "id": "yepXGWgUfUnh",
        "outputId": "960a70b8-a496-4a1a-ce3f-34734e2548f7"
      },
      "execution_count": 2,
      "outputs": [
        {
          "output_type": "execute_result",
          "data": {
            "text/plain": [
              "<tf.Tensor: shape=(), dtype=int32, numpy=7>"
            ]
          },
          "metadata": {},
          "execution_count": 2
        }
      ]
    },
    {
      "cell_type": "code",
      "source": [
        "# Check the number of dimensions of a tensor (ndim stands for number of dimensions)\n",
        "\n",
        "scalar.ndim"
      ],
      "metadata": {
        "colab": {
          "base_uri": "https://localhost:8080/"
        },
        "id": "2lDkfaAZiZNl",
        "outputId": "376c9f40-0069-4ac2-bf00-a6a992c5fc4a"
      },
      "execution_count": 3,
      "outputs": [
        {
          "output_type": "execute_result",
          "data": {
            "text/plain": [
              "0"
            ]
          },
          "metadata": {},
          "execution_count": 3
        }
      ]
    },
    {
      "cell_type": "code",
      "source": [
        "# Create a Vector\n",
        "\n",
        "vector =  tf.constant([10,10])\n",
        "vector"
      ],
      "metadata": {
        "colab": {
          "base_uri": "https://localhost:8080/"
        },
        "id": "lpkmewaAivHY",
        "outputId": "22c8cb15-4ee0-49e8-b964-1c9ad8516140"
      },
      "execution_count": 4,
      "outputs": [
        {
          "output_type": "execute_result",
          "data": {
            "text/plain": [
              "<tf.Tensor: shape=(2,), dtype=int32, numpy=array([10, 10], dtype=int32)>"
            ]
          },
          "metadata": {},
          "execution_count": 4
        }
      ]
    },
    {
      "cell_type": "code",
      "source": [
        "# Check dimensions of the vector\n",
        "\n",
        "vector.ndim"
      ],
      "metadata": {
        "colab": {
          "base_uri": "https://localhost:8080/"
        },
        "id": "fQ1MZAYrk_iX",
        "outputId": "3ed97221-97a8-4d95-ca72-92388d60dcf9"
      },
      "execution_count": 5,
      "outputs": [
        {
          "output_type": "execute_result",
          "data": {
            "text/plain": [
              "1"
            ]
          },
          "metadata": {},
          "execution_count": 5
        }
      ]
    },
    {
      "cell_type": "code",
      "source": [
        "# Create a matrix (has more dimensions)\n",
        "\n",
        "matrix = tf.constant([[10,7],[7,10]])\n",
        "matrix"
      ],
      "metadata": {
        "colab": {
          "base_uri": "https://localhost:8080/"
        },
        "id": "IWNE2PL8lFEV",
        "outputId": "74f217a3-a308-462d-9b37-e3e21cfa8ca4"
      },
      "execution_count": 6,
      "outputs": [
        {
          "output_type": "execute_result",
          "data": {
            "text/plain": [
              "<tf.Tensor: shape=(2, 2), dtype=int32, numpy=\n",
              "array([[10,  7],\n",
              "       [ 7, 10]], dtype=int32)>"
            ]
          },
          "metadata": {},
          "execution_count": 6
        }
      ]
    },
    {
      "cell_type": "code",
      "source": [
        "# Check dimensions of the matrix\n",
        "\n",
        "matrix.ndim"
      ],
      "metadata": {
        "colab": {
          "base_uri": "https://localhost:8080/"
        },
        "id": "BOVJav-MlrOj",
        "outputId": "1e747958-35b2-4fc6-bee4-83fb1fa50a22"
      },
      "execution_count": 7,
      "outputs": [
        {
          "output_type": "execute_result",
          "data": {
            "text/plain": [
              "2"
            ]
          },
          "metadata": {},
          "execution_count": 7
        }
      ]
    },
    {
      "cell_type": "code",
      "source": [
        "# Create another matrix\n",
        "\n",
        "matrix_2 = tf.constant([[10.2,7.],[7.,10.2],[10.,7.2]], dtype = tf.float16) #spesify data type with parameter\n",
        "matrix_2"
      ],
      "metadata": {
        "colab": {
          "base_uri": "https://localhost:8080/"
        },
        "id": "wCzP2i0csxNB",
        "outputId": "f6d3346a-635f-4113-c112-bbacec9507ee"
      },
      "execution_count": 8,
      "outputs": [
        {
          "output_type": "execute_result",
          "data": {
            "text/plain": [
              "<tf.Tensor: shape=(3, 2), dtype=float16, numpy=\n",
              "array([[10.2,  7. ],\n",
              "       [ 7. , 10.2],\n",
              "       [10. ,  7.2]], dtype=float16)>"
            ]
          },
          "metadata": {},
          "execution_count": 8
        }
      ]
    },
    {
      "cell_type": "code",
      "source": [
        "# Check dimensions of the other matrix\n",
        "\n",
        "matrix.ndim"
      ],
      "metadata": {
        "colab": {
          "base_uri": "https://localhost:8080/"
        },
        "id": "KRmwrpe3tRAN",
        "outputId": "55d51d37-6f99-4217-d2f3-2cf0e2c6310f"
      },
      "execution_count": 9,
      "outputs": [
        {
          "output_type": "execute_result",
          "data": {
            "text/plain": [
              "2"
            ]
          },
          "metadata": {},
          "execution_count": 9
        }
      ]
    },
    {
      "cell_type": "code",
      "source": [
        "# Lets create tensor\n",
        "\n",
        "tensor = tf.constant([[[1,2,3],\n",
        "                       [4,5,6]],\n",
        "                       [[7,8,9],\n",
        "                        [10,11,12]],\n",
        "                      [[13,14,15],\n",
        "                       [16,17,18]]])\n",
        "\n",
        "tensor"
      ],
      "metadata": {
        "colab": {
          "base_uri": "https://localhost:8080/"
        },
        "id": "PkL8fowJ0kSV",
        "outputId": "c6006e42-f9a3-448f-c24b-82cd1da91471"
      },
      "execution_count": 10,
      "outputs": [
        {
          "output_type": "execute_result",
          "data": {
            "text/plain": [
              "<tf.Tensor: shape=(3, 2, 3), dtype=int32, numpy=\n",
              "array([[[ 1,  2,  3],\n",
              "        [ 4,  5,  6]],\n",
              "\n",
              "       [[ 7,  8,  9],\n",
              "        [10, 11, 12]],\n",
              "\n",
              "       [[13, 14, 15],\n",
              "        [16, 17, 18]]], dtype=int32)>"
            ]
          },
          "metadata": {},
          "execution_count": 10
        }
      ]
    },
    {
      "cell_type": "code",
      "source": [
        "tensor.ndim"
      ],
      "metadata": {
        "colab": {
          "base_uri": "https://localhost:8080/"
        },
        "id": "Z7Xp6p5j1wTX",
        "outputId": "e4ee4153-ad4f-40b7-9856-e20971ce6f7c"
      },
      "execution_count": 11,
      "outputs": [
        {
          "output_type": "execute_result",
          "data": {
            "text/plain": [
              "3"
            ]
          },
          "metadata": {},
          "execution_count": 11
        }
      ]
    },
    {
      "cell_type": "markdown",
      "source": [
        "What we create so far?\n",
        "\n",
        "* Scaler = is a single number\n",
        "* Vector = a number with direction (e.g wind speed)\n",
        "* matrix = a 2 dimensional array of numbers\n",
        "* tensor = an n-dimensional arrays of numbers (n can be any numbers ; 0-dimensional tensor is scaler, 1-dimensional tensor is vector, 2-dimensional tensor is matrix )"
      ],
      "metadata": {
        "id": "NwuH3CvN2HmK"
      }
    },
    {
      "cell_type": "markdown",
      "source": [
        "### Creating tensor with tf.Variable"
      ],
      "metadata": {
        "id": "auaSAAi4V-Vo"
      }
    },
    {
      "cell_type": "code",
      "source": [
        "# create the same tensor with tf.Variable() as above\n",
        "\n",
        "changeable_tensor = tf.Variable([10,7])\n",
        "unchangeable_tensor = tf.constant([10,7])\n",
        "\n",
        "changeable_tensor, unchangeable_tensor"
      ],
      "metadata": {
        "colab": {
          "base_uri": "https://localhost:8080/"
        },
        "id": "vh5rl2WFWFXc",
        "outputId": "ff9ec81d-b41d-4ebb-a74c-2f24a887c828"
      },
      "execution_count": 12,
      "outputs": [
        {
          "output_type": "execute_result",
          "data": {
            "text/plain": [
              "(<tf.Variable 'Variable:0' shape=(2,) dtype=int32, numpy=array([10,  7], dtype=int32)>,\n",
              " <tf.Tensor: shape=(2,), dtype=int32, numpy=array([10,  7], dtype=int32)>)"
            ]
          },
          "metadata": {},
          "execution_count": 12
        }
      ]
    },
    {
      "cell_type": "code",
      "source": [
        "# change the elemen in changeable tensor\n",
        "\n",
        "# changeable_tensor[0] = 7  #This way will make erorr\n",
        "\n",
        "#try use .assign()\n",
        "\n",
        "changeable_tensor[0].assign(7)\n",
        "changeable_tensor"
      ],
      "metadata": {
        "colab": {
          "base_uri": "https://localhost:8080/"
        },
        "id": "IKWYCUGwYckd",
        "outputId": "abc276a4-10be-4e45-b46b-5155482208b8"
      },
      "execution_count": 13,
      "outputs": [
        {
          "output_type": "execute_result",
          "data": {
            "text/plain": [
              "<tf.Variable 'Variable:0' shape=(2,) dtype=int32, numpy=array([7, 7], dtype=int32)>"
            ]
          },
          "metadata": {},
          "execution_count": 13
        }
      ]
    },
    {
      "cell_type": "code",
      "source": [
        "# lets try change unchangeable_tensor\n",
        "\n",
        "#unchangeable_tensor[0].assign(7)\n",
        "#unchangeable_tensor\n",
        "\n",
        "# will make error cause const cant change"
      ],
      "metadata": {
        "id": "SmjVU4z4ZShJ"
      },
      "execution_count": 14,
      "outputs": []
    },
    {
      "cell_type": "markdown",
      "source": [
        "What we create so far?\n",
        "\n",
        "tf.constant = is a constant tensor that we cant change the value\n",
        "tf.Variable = is a changeable tensor\n",
        "\n",
        ".assign() = the syntax for change the value of the changeable tensor"
      ],
      "metadata": {
        "id": "owHSPdNPN9z5"
      }
    },
    {
      "cell_type": "markdown",
      "source": [
        "### Create random tensors\n",
        "\n",
        "random tensors are tensors of some abitrary size which contain random numbers"
      ],
      "metadata": {
        "id": "yrKU6_y_OTQP"
      }
    },
    {
      "cell_type": "code",
      "source": [
        "# create two random (but same) tensors\n",
        "\n",
        "random_1 = tf.random.Generator.from_seed(42) # set seed for reproducibility\n",
        "random_1 = random_1.normal(shape = (3,2))\n",
        "random_1"
      ],
      "metadata": {
        "colab": {
          "base_uri": "https://localhost:8080/"
        },
        "id": "3QvLNo9COXR1",
        "outputId": "eeb6d63f-6e20-41a9-e0a1-14e93b969b8c"
      },
      "execution_count": 15,
      "outputs": [
        {
          "output_type": "execute_result",
          "data": {
            "text/plain": [
              "<tf.Tensor: shape=(3, 2), dtype=float32, numpy=\n",
              "array([[-0.7565803 , -0.06854702],\n",
              "       [ 0.07595026, -1.2573844 ],\n",
              "       [-0.23193763, -1.8107855 ]], dtype=float32)>"
            ]
          },
          "metadata": {},
          "execution_count": 15
        }
      ]
    },
    {
      "cell_type": "code",
      "source": [
        "random_2 = tf.random.Generator.from_seed(42)\n",
        "random_2 = random_2.normal(shape = (3,2))\n",
        "random_2"
      ],
      "metadata": {
        "colab": {
          "base_uri": "https://localhost:8080/"
        },
        "id": "sAvKUe4JXLvs",
        "outputId": "e9a09414-0936-4c3f-d65e-6732e1fb267e"
      },
      "execution_count": 16,
      "outputs": [
        {
          "output_type": "execute_result",
          "data": {
            "text/plain": [
              "<tf.Tensor: shape=(3, 2), dtype=float32, numpy=\n",
              "array([[-0.7565803 , -0.06854702],\n",
              "       [ 0.07595026, -1.2573844 ],\n",
              "       [-0.23193763, -1.8107855 ]], dtype=float32)>"
            ]
          },
          "metadata": {},
          "execution_count": 16
        }
      ]
    },
    {
      "cell_type": "code",
      "source": [
        "#  are they equal?\n",
        "\n",
        "random_1 == random_2"
      ],
      "metadata": {
        "colab": {
          "base_uri": "https://localhost:8080/"
        },
        "id": "zsA4JKK-XlH1",
        "outputId": "997cedb5-b292-4121-a0d2-1240417b1f81"
      },
      "execution_count": 17,
      "outputs": [
        {
          "output_type": "execute_result",
          "data": {
            "text/plain": [
              "<tf.Tensor: shape=(3, 2), dtype=bool, numpy=\n",
              "array([[ True,  True],\n",
              "       [ True,  True],\n",
              "       [ True,  True]])>"
            ]
          },
          "metadata": {},
          "execution_count": 17
        }
      ]
    },
    {
      "cell_type": "markdown",
      "source": [
        "### Shuffle the order of elements in a tensor"
      ],
      "metadata": {
        "id": "krCeu0GKbhwD"
      }
    },
    {
      "cell_type": "code",
      "source": [
        "# shuffle a tensor (valuable if we want shuffle a data so the inherent order dosent effect learning)\n",
        "\n",
        "not_shuffled = tf.constant([[10,7],\n",
        "                            [13,2],\n",
        "                            [7,9]])\n",
        "#not_shuffled.ndim\n",
        "\n",
        "# shuffle our non_shuffled tensor\n",
        "#tf.random.set_seed(42) # global level seed\n",
        "tf.random.shuffle(not_shuffled, seed=42) # operation level seed"
      ],
      "metadata": {
        "colab": {
          "base_uri": "https://localhost:8080/"
        },
        "id": "XQ4SdXlMbmpc",
        "outputId": "cbef841e-d388-4678-ccd9-edab05948241"
      },
      "execution_count": 18,
      "outputs": [
        {
          "output_type": "execute_result",
          "data": {
            "text/plain": [
              "<tf.Tensor: shape=(3, 2), dtype=int32, numpy=\n",
              "array([[ 7,  9],\n",
              "       [13,  2],\n",
              "       [10,  7]], dtype=int32)>"
            ]
          },
          "metadata": {},
          "execution_count": 18
        }
      ]
    },
    {
      "cell_type": "markdown",
      "source": [
        "⚡**EXERCISE** : read this documentation for set_seed https://www.tensorflow.org/api_docs/python/tf/random/set_seed , and practice writing 5 random tensors and shuffle them"
      ],
      "metadata": {
        "id": "hE96LFomeaOv"
      }
    },
    {
      "cell_type": "code",
      "source": [
        "# Exercise 1\n",
        "\n",
        "tensor_exercise1 = tf.constant([[1,2],\n",
        "                                 [3,4],\n",
        "                                 [5,6]])\n",
        "\n",
        "tf.random.shuffle(tensor_exercise1, seed=23)"
      ],
      "metadata": {
        "colab": {
          "base_uri": "https://localhost:8080/"
        },
        "id": "OwnpwJV_MdBc",
        "outputId": "85171a7b-b874-4b31-fdd7-d88bf483ad52"
      },
      "execution_count": 19,
      "outputs": [
        {
          "output_type": "execute_result",
          "data": {
            "text/plain": [
              "<tf.Tensor: shape=(3, 2), dtype=int32, numpy=\n",
              "array([[5, 6],\n",
              "       [1, 2],\n",
              "       [3, 4]], dtype=int32)>"
            ]
          },
          "metadata": {},
          "execution_count": 19
        }
      ]
    },
    {
      "cell_type": "code",
      "source": [
        "# Exercise 2\n",
        "\n",
        "tensor_exercise2 = tf.constant([[[1,2],\n",
        "                                  [3,4]],\n",
        "                                 [[5,6],\n",
        "                                  [7,8]],\n",
        "                                 [[9,10],\n",
        "                                 [11,12]]])\n",
        "\n",
        "tf.random.set_seed(12) # global level seed\n",
        "tf.random.shuffle(tensor_exercise2)"
      ],
      "metadata": {
        "colab": {
          "base_uri": "https://localhost:8080/"
        },
        "id": "ClRuGxj3NSXk",
        "outputId": "6721465f-67ce-48ff-b5a8-ee7ac805600f"
      },
      "execution_count": 20,
      "outputs": [
        {
          "output_type": "execute_result",
          "data": {
            "text/plain": [
              "<tf.Tensor: shape=(3, 2, 2), dtype=int32, numpy=\n",
              "array([[[ 5,  6],\n",
              "        [ 7,  8]],\n",
              "\n",
              "       [[ 1,  2],\n",
              "        [ 3,  4]],\n",
              "\n",
              "       [[ 9, 10],\n",
              "        [11, 12]]], dtype=int32)>"
            ]
          },
          "metadata": {},
          "execution_count": 20
        }
      ]
    },
    {
      "cell_type": "code",
      "source": [
        "shuffle_tensor1 = tf.random.shuffle(tensor_exercise2, seed=42)"
      ],
      "metadata": {
        "id": "_srQHalXOAiF"
      },
      "execution_count": 21,
      "outputs": []
    },
    {
      "cell_type": "code",
      "source": [
        "shuffle_tensor2 = tf.random.shuffle(tensor_exercise2, seed=42)"
      ],
      "metadata": {
        "id": "JG2qCW12OpD7"
      },
      "execution_count": 22,
      "outputs": []
    },
    {
      "cell_type": "code",
      "source": [
        "#check if it equal\n",
        "shuffle_tensor1 == shuffle_tensor2"
      ],
      "metadata": {
        "colab": {
          "base_uri": "https://localhost:8080/"
        },
        "id": "KZLOrgL_O7f6",
        "outputId": "394fa8c4-c8a0-4e46-d125-b9005576fbfe"
      },
      "execution_count": 23,
      "outputs": [
        {
          "output_type": "execute_result",
          "data": {
            "text/plain": [
              "<tf.Tensor: shape=(3, 2, 2), dtype=bool, numpy=\n",
              "array([[[False, False],\n",
              "        [False, False]],\n",
              "\n",
              "       [[False, False],\n",
              "        [False, False]],\n",
              "\n",
              "       [[False, False],\n",
              "        [False, False]]])>"
            ]
          },
          "metadata": {},
          "execution_count": 23
        }
      ]
    },
    {
      "cell_type": "code",
      "source": [
        "# Exercise 3\n",
        "\n",
        "tensor_exercise3 = tf.random.Generator.from_seed(12)\n",
        "tensor_exercise3 = tensor_exercise3.normal(shape = (3,2))\n",
        "\n",
        "tensor_exercise3"
      ],
      "metadata": {
        "colab": {
          "base_uri": "https://localhost:8080/"
        },
        "id": "Lqr6ZDvcph5t",
        "outputId": "bd496a4a-cb2b-4625-e280-1c89eaf32c24"
      },
      "execution_count": 37,
      "outputs": [
        {
          "output_type": "execute_result",
          "data": {
            "text/plain": [
              "<tf.Tensor: shape=(3, 2), dtype=float32, numpy=\n",
              "array([[-1.0130816 ,  0.28291714],\n",
              "       [ 1.2132233 ,  0.46988967],\n",
              "       [ 0.37944323, -0.6664026 ]], dtype=float32)>"
            ]
          },
          "metadata": {},
          "execution_count": 37
        }
      ]
    },
    {
      "cell_type": "code",
      "source": [
        "tf.random.shuffle(tensor_exercise3)"
      ],
      "metadata": {
        "colab": {
          "base_uri": "https://localhost:8080/"
        },
        "id": "vGy4UMH_qKeO",
        "outputId": "3eafd21e-3a70-4b4e-db40-a5d292d8f038"
      },
      "execution_count": 38,
      "outputs": [
        {
          "output_type": "execute_result",
          "data": {
            "text/plain": [
              "<tf.Tensor: shape=(3, 2), dtype=float32, numpy=\n",
              "array([[-1.0130816 ,  0.28291714],\n",
              "       [ 1.2132233 ,  0.46988967],\n",
              "       [ 0.37944323, -0.6664026 ]], dtype=float32)>"
            ]
          },
          "metadata": {},
          "execution_count": 38
        }
      ]
    },
    {
      "cell_type": "code",
      "source": [
        "# Exercise 4\n",
        "\n",
        "tensor_exercise4 = tf.random.Generator.from_seed(42)\n",
        "tensor_exercise4 = tensor_exercise4.normal(shape=(4,2,4))\n",
        "\n",
        "tensor_exercise4"
      ],
      "metadata": {
        "colab": {
          "base_uri": "https://localhost:8080/"
        },
        "id": "TjHdODeGqfKZ",
        "outputId": "07b6ae85-670d-47a4-f4b5-08972340e7d1"
      },
      "execution_count": 42,
      "outputs": [
        {
          "output_type": "execute_result",
          "data": {
            "text/plain": [
              "<tf.Tensor: shape=(4, 2, 4), dtype=float32, numpy=\n",
              "array([[[-0.7565803 , -0.06854702,  0.07595026, -1.2573844 ],\n",
              "        [-0.23193763, -1.8107855 ,  0.09988727, -0.50998646]],\n",
              "\n",
              "       [[-0.7535805 , -0.57166284,  0.1480774 , -0.23362993],\n",
              "        [-0.3522796 ,  0.40621263, -1.0523509 ,  1.2054597 ]],\n",
              "\n",
              "       [[ 1.6874489 , -0.4462975 , -2.3410842 ,  0.99009085],\n",
              "        [-0.0876323 , -0.635568  , -0.6161736 , -1.9441465 ]],\n",
              "\n",
              "       [[-0.48293006, -0.52447474, -1.0345329 ,  1.3066901 ],\n",
              "        [-1.5184573 , -0.4585211 ,  0.5714663 , -1.5331722 ]]],\n",
              "      dtype=float32)>"
            ]
          },
          "metadata": {},
          "execution_count": 42
        }
      ]
    },
    {
      "cell_type": "code",
      "source": [
        "tf.random.shuffle(tensor_exercise4)"
      ],
      "metadata": {
        "colab": {
          "base_uri": "https://localhost:8080/"
        },
        "id": "xcN6jpKTrUOq",
        "outputId": "823ec6a0-a2c9-4846-8778-49aa1e4892fa"
      },
      "execution_count": 43,
      "outputs": [
        {
          "output_type": "execute_result",
          "data": {
            "text/plain": [
              "<tf.Tensor: shape=(4, 2, 4), dtype=float32, numpy=\n",
              "array([[[ 1.6874489 , -0.4462975 , -2.3410842 ,  0.99009085],\n",
              "        [-0.0876323 , -0.635568  , -0.6161736 , -1.9441465 ]],\n",
              "\n",
              "       [[-0.7535805 , -0.57166284,  0.1480774 , -0.23362993],\n",
              "        [-0.3522796 ,  0.40621263, -1.0523509 ,  1.2054597 ]],\n",
              "\n",
              "       [[-0.48293006, -0.52447474, -1.0345329 ,  1.3066901 ],\n",
              "        [-1.5184573 , -0.4585211 ,  0.5714663 , -1.5331722 ]],\n",
              "\n",
              "       [[-0.7565803 , -0.06854702,  0.07595026, -1.2573844 ],\n",
              "        [-0.23193763, -1.8107855 ,  0.09988727, -0.50998646]]],\n",
              "      dtype=float32)>"
            ]
          },
          "metadata": {},
          "execution_count": 43
        }
      ]
    },
    {
      "cell_type": "code",
      "source": [
        "# Exercise 5\n",
        "\n",
        "tensor_exercise5 = tf.random.Generator.from_seed(42)\n",
        "tensor_exercise5 = tensor_exercise5.normal(shape=(2,8,3))\n",
        "\n",
        "tensor_exercise5"
      ],
      "metadata": {
        "colab": {
          "base_uri": "https://localhost:8080/"
        },
        "id": "HEmZAKIJrebp",
        "outputId": "3dbad4b5-88e6-4925-f195-638897185d3c"
      },
      "execution_count": 45,
      "outputs": [
        {
          "output_type": "execute_result",
          "data": {
            "text/plain": [
              "<tf.Tensor: shape=(2, 8, 3), dtype=float32, numpy=\n",
              "array([[[-0.7565803 , -0.06854702,  0.07595026],\n",
              "        [-1.2573844 , -0.23193763, -1.8107855 ],\n",
              "        [ 0.09988727, -0.50998646, -0.7535805 ],\n",
              "        [-0.57166284,  0.1480774 , -0.23362993],\n",
              "        [-0.3522796 ,  0.40621263, -1.0523509 ],\n",
              "        [ 1.2054597 ,  1.6874489 , -0.4462975 ],\n",
              "        [-2.3410842 ,  0.99009085, -0.0876323 ],\n",
              "        [-0.635568  , -0.6161736 , -1.9441465 ]],\n",
              "\n",
              "       [[-0.48293006, -0.52447474, -1.0345329 ],\n",
              "        [ 1.3066901 , -1.5184573 , -0.4585211 ],\n",
              "        [ 0.5714663 , -1.5331722 ,  0.45331386],\n",
              "        [ 1.1487608 , -1.2659091 , -0.47450137],\n",
              "        [ 2.006022  ,  0.28288034, -0.30288252],\n",
              "        [-1.443651  ,  1.0034493 ,  0.20857747],\n",
              "        [ 0.35700995,  1.0648885 ,  1.2432485 ],\n",
              "        [-2.2173238 ,  0.18706243,  0.6617961 ]]], dtype=float32)>"
            ]
          },
          "metadata": {},
          "execution_count": 45
        }
      ]
    },
    {
      "cell_type": "code",
      "source": [
        "tf.random.shuffle(tensor_exercise5)"
      ],
      "metadata": {
        "colab": {
          "base_uri": "https://localhost:8080/"
        },
        "id": "CmG0XbATsCAy",
        "outputId": "f3ea6dd5-605d-4a2f-8c7a-0edfe3a43a7e"
      },
      "execution_count": 46,
      "outputs": [
        {
          "output_type": "execute_result",
          "data": {
            "text/plain": [
              "<tf.Tensor: shape=(2, 8, 3), dtype=float32, numpy=\n",
              "array([[[-0.48293006, -0.52447474, -1.0345329 ],\n",
              "        [ 1.3066901 , -1.5184573 , -0.4585211 ],\n",
              "        [ 0.5714663 , -1.5331722 ,  0.45331386],\n",
              "        [ 1.1487608 , -1.2659091 , -0.47450137],\n",
              "        [ 2.006022  ,  0.28288034, -0.30288252],\n",
              "        [-1.443651  ,  1.0034493 ,  0.20857747],\n",
              "        [ 0.35700995,  1.0648885 ,  1.2432485 ],\n",
              "        [-2.2173238 ,  0.18706243,  0.6617961 ]],\n",
              "\n",
              "       [[-0.7565803 , -0.06854702,  0.07595026],\n",
              "        [-1.2573844 , -0.23193763, -1.8107855 ],\n",
              "        [ 0.09988727, -0.50998646, -0.7535805 ],\n",
              "        [-0.57166284,  0.1480774 , -0.23362993],\n",
              "        [-0.3522796 ,  0.40621263, -1.0523509 ],\n",
              "        [ 1.2054597 ,  1.6874489 , -0.4462975 ],\n",
              "        [-2.3410842 ,  0.99009085, -0.0876323 ],\n",
              "        [-0.635568  , -0.6161736 , -1.9441465 ]]], dtype=float32)>"
            ]
          },
          "metadata": {},
          "execution_count": 46
        }
      ]
    },
    {
      "cell_type": "markdown",
      "source": [
        "### Other ways to create tensor"
      ],
      "metadata": {
        "id": "kd9SF9RtysaL"
      }
    },
    {
      "cell_type": "code",
      "source": [
        "# create tensor of all ones\n",
        "\n",
        "tf.ones([10,5])"
      ],
      "metadata": {
        "colab": {
          "base_uri": "https://localhost:8080/"
        },
        "id": "hSGr3_WhyziB",
        "outputId": "f23b4adf-e624-449f-f152-8164f2f7a2ac"
      },
      "execution_count": 47,
      "outputs": [
        {
          "output_type": "execute_result",
          "data": {
            "text/plain": [
              "<tf.Tensor: shape=(10, 5), dtype=float32, numpy=\n",
              "array([[1., 1., 1., 1., 1.],\n",
              "       [1., 1., 1., 1., 1.],\n",
              "       [1., 1., 1., 1., 1.],\n",
              "       [1., 1., 1., 1., 1.],\n",
              "       [1., 1., 1., 1., 1.],\n",
              "       [1., 1., 1., 1., 1.],\n",
              "       [1., 1., 1., 1., 1.],\n",
              "       [1., 1., 1., 1., 1.],\n",
              "       [1., 1., 1., 1., 1.],\n",
              "       [1., 1., 1., 1., 1.]], dtype=float32)>"
            ]
          },
          "metadata": {},
          "execution_count": 47
        }
      ]
    },
    {
      "cell_type": "code",
      "source": [
        "# create tensor of all zeroes\n",
        "\n",
        "tf.zeros(shape=(3,5))"
      ],
      "metadata": {
        "colab": {
          "base_uri": "https://localhost:8080/"
        },
        "id": "qPfbC5Ziy-Gj",
        "outputId": "e5e3897c-7654-4d2a-ba61-e23b189ea1d3"
      },
      "execution_count": 49,
      "outputs": [
        {
          "output_type": "execute_result",
          "data": {
            "text/plain": [
              "<tf.Tensor: shape=(3, 5), dtype=float32, numpy=\n",
              "array([[0., 0., 0., 0., 0.],\n",
              "       [0., 0., 0., 0., 0.],\n",
              "       [0., 0., 0., 0., 0.]], dtype=float32)>"
            ]
          },
          "metadata": {},
          "execution_count": 49
        }
      ]
    },
    {
      "cell_type": "markdown",
      "source": [
        "### Turn numpy arrays into tensors\n",
        "\n",
        "The main deferent between numpy arrays and tensors is tensors can run in GPU (Fasters)"
      ],
      "metadata": {
        "id": "JNH9uQrtzoL5"
      }
    },
    {
      "cell_type": "code",
      "source": [
        "# You can also turn numpy arrays into tensors\n",
        "\n",
        "import numpy as np\n",
        "\n",
        "numpy_A = np.arange(1, 25, dtype=np.int32) # create numpy array between 1 and 25\n",
        "numpy_A\n",
        "\n",
        "# x = tf.constant(some_matrix)  #capital for matrix or tensors\n",
        "# y = tf.constant(vector)       #non capital for vector"
      ],
      "metadata": {
        "colab": {
          "base_uri": "https://localhost:8080/"
        },
        "id": "4nou-jAKza0M",
        "outputId": "55b75a28-8017-46bb-960a-9b1e3fbadf19"
      },
      "execution_count": 53,
      "outputs": [
        {
          "output_type": "execute_result",
          "data": {
            "text/plain": [
              "array([ 1,  2,  3,  4,  5,  6,  7,  8,  9, 10, 11, 12, 13, 14, 15, 16, 17,\n",
              "       18, 19, 20, 21, 22, 23, 24], dtype=int32)"
            ]
          },
          "metadata": {},
          "execution_count": 53
        }
      ]
    },
    {
      "cell_type": "code",
      "source": [
        "A = tf.constant(numpy_A) # its will be tensors\n",
        "A"
      ],
      "metadata": {
        "colab": {
          "base_uri": "https://localhost:8080/"
        },
        "id": "87tCuNON6URs",
        "outputId": "fa78dfa4-7efa-4164-9f6a-d6f0aac125d2"
      },
      "execution_count": 54,
      "outputs": [
        {
          "output_type": "execute_result",
          "data": {
            "text/plain": [
              "<tf.Tensor: shape=(24,), dtype=int32, numpy=\n",
              "array([ 1,  2,  3,  4,  5,  6,  7,  8,  9, 10, 11, 12, 13, 14, 15, 16, 17,\n",
              "       18, 19, 20, 21, 22, 23, 24], dtype=int32)>"
            ]
          },
          "metadata": {},
          "execution_count": 54
        }
      ]
    },
    {
      "cell_type": "code",
      "source": [
        "B = tf.constant(numpy_A, shape=(4,3,2))\n",
        "B"
      ],
      "metadata": {
        "colab": {
          "base_uri": "https://localhost:8080/"
        },
        "id": "NYTENXE17PRx",
        "outputId": "4e98dc2c-b50b-4b41-aa6f-89eac0faea85"
      },
      "execution_count": 58,
      "outputs": [
        {
          "output_type": "execute_result",
          "data": {
            "text/plain": [
              "<tf.Tensor: shape=(4, 3, 2), dtype=int32, numpy=\n",
              "array([[[ 1,  2],\n",
              "        [ 3,  4],\n",
              "        [ 5,  6]],\n",
              "\n",
              "       [[ 7,  8],\n",
              "        [ 9, 10],\n",
              "        [11, 12]],\n",
              "\n",
              "       [[13, 14],\n",
              "        [15, 16],\n",
              "        [17, 18]],\n",
              "\n",
              "       [[19, 20],\n",
              "        [21, 22],\n",
              "        [23, 24]]], dtype=int32)>"
            ]
          },
          "metadata": {},
          "execution_count": 58
        }
      ]
    },
    {
      "cell_type": "markdown",
      "source": [
        "### Getting information from tensors\n",
        "\n",
        "When dealing with tensors, we probably want to know the following atribut :\n",
        "* Shape\n",
        "* Rank\n",
        "* Axis or dimension\n",
        "* Size"
      ],
      "metadata": {
        "id": "W1VWXtG2-qC6"
      }
    },
    {
      "cell_type": "code",
      "source": [
        "# Create a rank 4 tensor (4 dimensions)\n",
        "\n",
        "rank_4_tensor = tf.zeros(shape=(2,3,4,5))\n",
        "rank_4_tensor"
      ],
      "metadata": {
        "colab": {
          "base_uri": "https://localhost:8080/"
        },
        "id": "I7WaJTZk_gYX",
        "outputId": "7a8b657e-e07d-47a7-c7e0-286b9618621a"
      },
      "execution_count": 61,
      "outputs": [
        {
          "output_type": "execute_result",
          "data": {
            "text/plain": [
              "<tf.Tensor: shape=(2, 3, 4, 5), dtype=float32, numpy=\n",
              "array([[[[0., 0., 0., 0., 0.],\n",
              "         [0., 0., 0., 0., 0.],\n",
              "         [0., 0., 0., 0., 0.],\n",
              "         [0., 0., 0., 0., 0.]],\n",
              "\n",
              "        [[0., 0., 0., 0., 0.],\n",
              "         [0., 0., 0., 0., 0.],\n",
              "         [0., 0., 0., 0., 0.],\n",
              "         [0., 0., 0., 0., 0.]],\n",
              "\n",
              "        [[0., 0., 0., 0., 0.],\n",
              "         [0., 0., 0., 0., 0.],\n",
              "         [0., 0., 0., 0., 0.],\n",
              "         [0., 0., 0., 0., 0.]]],\n",
              "\n",
              "\n",
              "       [[[0., 0., 0., 0., 0.],\n",
              "         [0., 0., 0., 0., 0.],\n",
              "         [0., 0., 0., 0., 0.],\n",
              "         [0., 0., 0., 0., 0.]],\n",
              "\n",
              "        [[0., 0., 0., 0., 0.],\n",
              "         [0., 0., 0., 0., 0.],\n",
              "         [0., 0., 0., 0., 0.],\n",
              "         [0., 0., 0., 0., 0.]],\n",
              "\n",
              "        [[0., 0., 0., 0., 0.],\n",
              "         [0., 0., 0., 0., 0.],\n",
              "         [0., 0., 0., 0., 0.],\n",
              "         [0., 0., 0., 0., 0.]]]], dtype=float32)>"
            ]
          },
          "metadata": {},
          "execution_count": 61
        }
      ]
    },
    {
      "cell_type": "code",
      "source": [
        "# index tensor\n",
        "\n",
        "rank_4_tensor[0,0,0,0]"
      ],
      "metadata": {
        "colab": {
          "base_uri": "https://localhost:8080/"
        },
        "id": "s_0RGl32DKUO",
        "outputId": "abb99cb4-7a09-475c-aca0-061a3a1af04a"
      },
      "execution_count": 65,
      "outputs": [
        {
          "output_type": "execute_result",
          "data": {
            "text/plain": [
              "<tf.Tensor: shape=(), dtype=float32, numpy=0.0>"
            ]
          },
          "metadata": {},
          "execution_count": 65
        }
      ]
    },
    {
      "cell_type": "code",
      "source": [
        "# check the shape, rank, and size\n",
        "\n",
        "rank_4_tensor.shape, rank_4_tensor.ndim, tf.size(rank_4_tensor)"
      ],
      "metadata": {
        "colab": {
          "base_uri": "https://localhost:8080/"
        },
        "id": "aLvaaxhIEPJ8",
        "outputId": "6c418f7e-623d-4223-a8cf-36636d663b8c"
      },
      "execution_count": 70,
      "outputs": [
        {
          "output_type": "execute_result",
          "data": {
            "text/plain": [
              "(TensorShape([2, 3, 4, 5]), 4, <tf.Tensor: shape=(), dtype=int32, numpy=120>)"
            ]
          },
          "metadata": {},
          "execution_count": 70
        }
      ]
    }
  ]
}