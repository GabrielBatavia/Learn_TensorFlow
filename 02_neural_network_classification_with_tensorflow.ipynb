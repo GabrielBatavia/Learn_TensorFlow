{
  "cells": [
    {
      "cell_type": "markdown",
      "metadata": {
        "id": "view-in-github",
        "colab_type": "text"
      },
      "source": [
        "<a href=\"https://colab.research.google.com/github/GabrielBatavia/Learn_TensorFlow/blob/main/02_neural_network_classification_with_tensorflow.ipynb\" target=\"_parent\"><img src=\"https://colab.research.google.com/assets/colab-badge.svg\" alt=\"Open In Colab\"/></a>"
      ]
    },
    {
      "cell_type": "markdown",
      "metadata": {
        "id": "S3vuH--vBw_Q"
      },
      "source": [
        "# Introduction to neural netwrok classification with Tensorflow\n",
        "\n",
        "in this notebook we're going to learn how to write neural netwroks fo classification problems\n",
        "\n",
        "A classification is where you try to classify something or another\n",
        "\n",
        "A few type of classification problems :\n",
        "* Binary classification\n",
        "* Muliclass classification\n",
        "* Multilable classification"
      ]
    },
    {
      "cell_type": "markdown",
      "metadata": {
        "id": "hpXozuzU_U2l"
      },
      "source": [
        "## Creating data to voew and fit"
      ]
    },
    {
      "cell_type": "code",
      "execution_count": 1,
      "metadata": {
        "id": "JkfnQZpw_Xww"
      },
      "outputs": [],
      "source": [
        "from sklearn.datasets import make_circles\n",
        "\n",
        "# make 1000 examples\n",
        "n_samples = 1000\n",
        "\n",
        "# create circles\n",
        "x, y = make_circles(n_samples,\n",
        "                    noise=0.03,\n",
        "                    random_state=42)"
      ]
    },
    {
      "cell_type": "code",
      "execution_count": 2,
      "metadata": {
        "colab": {
          "base_uri": "https://localhost:8080/"
        },
        "id": "EFLgoM74Cv47",
        "outputId": "9cb96675-035e-4b85-cdc7-8d3f7478b136"
      },
      "outputs": [
        {
          "output_type": "execute_result",
          "data": {
            "text/plain": [
              "array([[ 0.75424625,  0.23148074],\n",
              "       [-0.75615888,  0.15325888],\n",
              "       [-0.81539193,  0.17328203],\n",
              "       ...,\n",
              "       [-0.13690036, -0.81001183],\n",
              "       [ 0.67036156, -0.76750154],\n",
              "       [ 0.28105665,  0.96382443]])"
            ]
          },
          "metadata": {},
          "execution_count": 2
        }
      ],
      "source": [
        "# Check out the features\n",
        "x"
      ]
    },
    {
      "cell_type": "code",
      "execution_count": 3,
      "metadata": {
        "colab": {
          "base_uri": "https://localhost:8080/"
        },
        "id": "B_6TPHY1C5m6",
        "outputId": "1343faff-c2a9-4d16-a9c5-3f83907d75ad"
      },
      "outputs": [
        {
          "output_type": "execute_result",
          "data": {
            "text/plain": [
              "array([1, 1, 1, 1, 0, 1, 1, 1, 1, 0])"
            ]
          },
          "metadata": {},
          "execution_count": 3
        }
      ],
      "source": [
        "# check the labels\n",
        "y[:10]"
      ]
    },
    {
      "cell_type": "code",
      "execution_count": 4,
      "metadata": {
        "colab": {
          "base_uri": "https://localhost:8080/",
          "height": 424
        },
        "id": "029S2g5VDVwW",
        "outputId": "4b0a9a3a-887f-4c73-9955-c74de62baa37"
      },
      "outputs": [
        {
          "output_type": "execute_result",
          "data": {
            "text/plain": [
              "           x0        x1  label\n",
              "0    0.754246  0.231481      1\n",
              "1   -0.756159  0.153259      1\n",
              "2   -0.815392  0.173282      1\n",
              "3   -0.393731  0.692883      1\n",
              "4    0.442208 -0.896723      0\n",
              "..        ...       ...    ...\n",
              "995  0.244054  0.944125      0\n",
              "996 -0.978655 -0.272373      0\n",
              "997 -0.136900 -0.810012      1\n",
              "998  0.670362 -0.767502      0\n",
              "999  0.281057  0.963824      0\n",
              "\n",
              "[1000 rows x 3 columns]"
            ],
            "text/html": [
              "\n",
              "  <div id=\"df-7a22ab44-da9a-40b7-8cdf-bf37f0cfcfe6\" class=\"colab-df-container\">\n",
              "    <div>\n",
              "<style scoped>\n",
              "    .dataframe tbody tr th:only-of-type {\n",
              "        vertical-align: middle;\n",
              "    }\n",
              "\n",
              "    .dataframe tbody tr th {\n",
              "        vertical-align: top;\n",
              "    }\n",
              "\n",
              "    .dataframe thead th {\n",
              "        text-align: right;\n",
              "    }\n",
              "</style>\n",
              "<table border=\"1\" class=\"dataframe\">\n",
              "  <thead>\n",
              "    <tr style=\"text-align: right;\">\n",
              "      <th></th>\n",
              "      <th>x0</th>\n",
              "      <th>x1</th>\n",
              "      <th>label</th>\n",
              "    </tr>\n",
              "  </thead>\n",
              "  <tbody>\n",
              "    <tr>\n",
              "      <th>0</th>\n",
              "      <td>0.754246</td>\n",
              "      <td>0.231481</td>\n",
              "      <td>1</td>\n",
              "    </tr>\n",
              "    <tr>\n",
              "      <th>1</th>\n",
              "      <td>-0.756159</td>\n",
              "      <td>0.153259</td>\n",
              "      <td>1</td>\n",
              "    </tr>\n",
              "    <tr>\n",
              "      <th>2</th>\n",
              "      <td>-0.815392</td>\n",
              "      <td>0.173282</td>\n",
              "      <td>1</td>\n",
              "    </tr>\n",
              "    <tr>\n",
              "      <th>3</th>\n",
              "      <td>-0.393731</td>\n",
              "      <td>0.692883</td>\n",
              "      <td>1</td>\n",
              "    </tr>\n",
              "    <tr>\n",
              "      <th>4</th>\n",
              "      <td>0.442208</td>\n",
              "      <td>-0.896723</td>\n",
              "      <td>0</td>\n",
              "    </tr>\n",
              "    <tr>\n",
              "      <th>...</th>\n",
              "      <td>...</td>\n",
              "      <td>...</td>\n",
              "      <td>...</td>\n",
              "    </tr>\n",
              "    <tr>\n",
              "      <th>995</th>\n",
              "      <td>0.244054</td>\n",
              "      <td>0.944125</td>\n",
              "      <td>0</td>\n",
              "    </tr>\n",
              "    <tr>\n",
              "      <th>996</th>\n",
              "      <td>-0.978655</td>\n",
              "      <td>-0.272373</td>\n",
              "      <td>0</td>\n",
              "    </tr>\n",
              "    <tr>\n",
              "      <th>997</th>\n",
              "      <td>-0.136900</td>\n",
              "      <td>-0.810012</td>\n",
              "      <td>1</td>\n",
              "    </tr>\n",
              "    <tr>\n",
              "      <th>998</th>\n",
              "      <td>0.670362</td>\n",
              "      <td>-0.767502</td>\n",
              "      <td>0</td>\n",
              "    </tr>\n",
              "    <tr>\n",
              "      <th>999</th>\n",
              "      <td>0.281057</td>\n",
              "      <td>0.963824</td>\n",
              "      <td>0</td>\n",
              "    </tr>\n",
              "  </tbody>\n",
              "</table>\n",
              "<p>1000 rows × 3 columns</p>\n",
              "</div>\n",
              "    <div class=\"colab-df-buttons\">\n",
              "\n",
              "  <div class=\"colab-df-container\">\n",
              "    <button class=\"colab-df-convert\" onclick=\"convertToInteractive('df-7a22ab44-da9a-40b7-8cdf-bf37f0cfcfe6')\"\n",
              "            title=\"Convert this dataframe to an interactive table.\"\n",
              "            style=\"display:none;\">\n",
              "\n",
              "  <svg xmlns=\"http://www.w3.org/2000/svg\" height=\"24px\" viewBox=\"0 -960 960 960\">\n",
              "    <path d=\"M120-120v-720h720v720H120Zm60-500h600v-160H180v160Zm220 220h160v-160H400v160Zm0 220h160v-160H400v160ZM180-400h160v-160H180v160Zm440 0h160v-160H620v160ZM180-180h160v-160H180v160Zm440 0h160v-160H620v160Z\"/>\n",
              "  </svg>\n",
              "    </button>\n",
              "\n",
              "  <style>\n",
              "    .colab-df-container {\n",
              "      display:flex;\n",
              "      gap: 12px;\n",
              "    }\n",
              "\n",
              "    .colab-df-convert {\n",
              "      background-color: #E8F0FE;\n",
              "      border: none;\n",
              "      border-radius: 50%;\n",
              "      cursor: pointer;\n",
              "      display: none;\n",
              "      fill: #1967D2;\n",
              "      height: 32px;\n",
              "      padding: 0 0 0 0;\n",
              "      width: 32px;\n",
              "    }\n",
              "\n",
              "    .colab-df-convert:hover {\n",
              "      background-color: #E2EBFA;\n",
              "      box-shadow: 0px 1px 2px rgba(60, 64, 67, 0.3), 0px 1px 3px 1px rgba(60, 64, 67, 0.15);\n",
              "      fill: #174EA6;\n",
              "    }\n",
              "\n",
              "    .colab-df-buttons div {\n",
              "      margin-bottom: 4px;\n",
              "    }\n",
              "\n",
              "    [theme=dark] .colab-df-convert {\n",
              "      background-color: #3B4455;\n",
              "      fill: #D2E3FC;\n",
              "    }\n",
              "\n",
              "    [theme=dark] .colab-df-convert:hover {\n",
              "      background-color: #434B5C;\n",
              "      box-shadow: 0px 1px 3px 1px rgba(0, 0, 0, 0.15);\n",
              "      filter: drop-shadow(0px 1px 2px rgba(0, 0, 0, 0.3));\n",
              "      fill: #FFFFFF;\n",
              "    }\n",
              "  </style>\n",
              "\n",
              "    <script>\n",
              "      const buttonEl =\n",
              "        document.querySelector('#df-7a22ab44-da9a-40b7-8cdf-bf37f0cfcfe6 button.colab-df-convert');\n",
              "      buttonEl.style.display =\n",
              "        google.colab.kernel.accessAllowed ? 'block' : 'none';\n",
              "\n",
              "      async function convertToInteractive(key) {\n",
              "        const element = document.querySelector('#df-7a22ab44-da9a-40b7-8cdf-bf37f0cfcfe6');\n",
              "        const dataTable =\n",
              "          await google.colab.kernel.invokeFunction('convertToInteractive',\n",
              "                                                    [key], {});\n",
              "        if (!dataTable) return;\n",
              "\n",
              "        const docLinkHtml = 'Like what you see? Visit the ' +\n",
              "          '<a target=\"_blank\" href=https://colab.research.google.com/notebooks/data_table.ipynb>data table notebook</a>'\n",
              "          + ' to learn more about interactive tables.';\n",
              "        element.innerHTML = '';\n",
              "        dataTable['output_type'] = 'display_data';\n",
              "        await google.colab.output.renderOutput(dataTable, element);\n",
              "        const docLink = document.createElement('div');\n",
              "        docLink.innerHTML = docLinkHtml;\n",
              "        element.appendChild(docLink);\n",
              "      }\n",
              "    </script>\n",
              "  </div>\n",
              "\n",
              "\n",
              "<div id=\"df-0474ccc2-1be0-4e96-8c81-07daafdfdf7c\">\n",
              "  <button class=\"colab-df-quickchart\" onclick=\"quickchart('df-0474ccc2-1be0-4e96-8c81-07daafdfdf7c')\"\n",
              "            title=\"Suggest charts\"\n",
              "            style=\"display:none;\">\n",
              "\n",
              "<svg xmlns=\"http://www.w3.org/2000/svg\" height=\"24px\"viewBox=\"0 0 24 24\"\n",
              "     width=\"24px\">\n",
              "    <g>\n",
              "        <path d=\"M19 3H5c-1.1 0-2 .9-2 2v14c0 1.1.9 2 2 2h14c1.1 0 2-.9 2-2V5c0-1.1-.9-2-2-2zM9 17H7v-7h2v7zm4 0h-2V7h2v10zm4 0h-2v-4h2v4z\"/>\n",
              "    </g>\n",
              "</svg>\n",
              "  </button>\n",
              "\n",
              "<style>\n",
              "  .colab-df-quickchart {\n",
              "      --bg-color: #E8F0FE;\n",
              "      --fill-color: #1967D2;\n",
              "      --hover-bg-color: #E2EBFA;\n",
              "      --hover-fill-color: #174EA6;\n",
              "      --disabled-fill-color: #AAA;\n",
              "      --disabled-bg-color: #DDD;\n",
              "  }\n",
              "\n",
              "  [theme=dark] .colab-df-quickchart {\n",
              "      --bg-color: #3B4455;\n",
              "      --fill-color: #D2E3FC;\n",
              "      --hover-bg-color: #434B5C;\n",
              "      --hover-fill-color: #FFFFFF;\n",
              "      --disabled-bg-color: #3B4455;\n",
              "      --disabled-fill-color: #666;\n",
              "  }\n",
              "\n",
              "  .colab-df-quickchart {\n",
              "    background-color: var(--bg-color);\n",
              "    border: none;\n",
              "    border-radius: 50%;\n",
              "    cursor: pointer;\n",
              "    display: none;\n",
              "    fill: var(--fill-color);\n",
              "    height: 32px;\n",
              "    padding: 0;\n",
              "    width: 32px;\n",
              "  }\n",
              "\n",
              "  .colab-df-quickchart:hover {\n",
              "    background-color: var(--hover-bg-color);\n",
              "    box-shadow: 0 1px 2px rgba(60, 64, 67, 0.3), 0 1px 3px 1px rgba(60, 64, 67, 0.15);\n",
              "    fill: var(--button-hover-fill-color);\n",
              "  }\n",
              "\n",
              "  .colab-df-quickchart-complete:disabled,\n",
              "  .colab-df-quickchart-complete:disabled:hover {\n",
              "    background-color: var(--disabled-bg-color);\n",
              "    fill: var(--disabled-fill-color);\n",
              "    box-shadow: none;\n",
              "  }\n",
              "\n",
              "  .colab-df-spinner {\n",
              "    border: 2px solid var(--fill-color);\n",
              "    border-color: transparent;\n",
              "    border-bottom-color: var(--fill-color);\n",
              "    animation:\n",
              "      spin 1s steps(1) infinite;\n",
              "  }\n",
              "\n",
              "  @keyframes spin {\n",
              "    0% {\n",
              "      border-color: transparent;\n",
              "      border-bottom-color: var(--fill-color);\n",
              "      border-left-color: var(--fill-color);\n",
              "    }\n",
              "    20% {\n",
              "      border-color: transparent;\n",
              "      border-left-color: var(--fill-color);\n",
              "      border-top-color: var(--fill-color);\n",
              "    }\n",
              "    30% {\n",
              "      border-color: transparent;\n",
              "      border-left-color: var(--fill-color);\n",
              "      border-top-color: var(--fill-color);\n",
              "      border-right-color: var(--fill-color);\n",
              "    }\n",
              "    40% {\n",
              "      border-color: transparent;\n",
              "      border-right-color: var(--fill-color);\n",
              "      border-top-color: var(--fill-color);\n",
              "    }\n",
              "    60% {\n",
              "      border-color: transparent;\n",
              "      border-right-color: var(--fill-color);\n",
              "    }\n",
              "    80% {\n",
              "      border-color: transparent;\n",
              "      border-right-color: var(--fill-color);\n",
              "      border-bottom-color: var(--fill-color);\n",
              "    }\n",
              "    90% {\n",
              "      border-color: transparent;\n",
              "      border-bottom-color: var(--fill-color);\n",
              "    }\n",
              "  }\n",
              "</style>\n",
              "\n",
              "  <script>\n",
              "    async function quickchart(key) {\n",
              "      const quickchartButtonEl =\n",
              "        document.querySelector('#' + key + ' button');\n",
              "      quickchartButtonEl.disabled = true;  // To prevent multiple clicks.\n",
              "      quickchartButtonEl.classList.add('colab-df-spinner');\n",
              "      try {\n",
              "        const charts = await google.colab.kernel.invokeFunction(\n",
              "            'suggestCharts', [key], {});\n",
              "      } catch (error) {\n",
              "        console.error('Error during call to suggestCharts:', error);\n",
              "      }\n",
              "      quickchartButtonEl.classList.remove('colab-df-spinner');\n",
              "      quickchartButtonEl.classList.add('colab-df-quickchart-complete');\n",
              "    }\n",
              "    (() => {\n",
              "      let quickchartButtonEl =\n",
              "        document.querySelector('#df-0474ccc2-1be0-4e96-8c81-07daafdfdf7c button');\n",
              "      quickchartButtonEl.style.display =\n",
              "        google.colab.kernel.accessAllowed ? 'block' : 'none';\n",
              "    })();\n",
              "  </script>\n",
              "</div>\n",
              "    </div>\n",
              "  </div>\n"
            ],
            "application/vnd.google.colaboratory.intrinsic+json": {
              "type": "dataframe",
              "variable_name": "circles",
              "summary": "{\n  \"name\": \"circles\",\n  \"rows\": 1000,\n  \"fields\": [\n    {\n      \"column\": \"x0\",\n      \"properties\": {\n        \"dtype\": \"number\",\n        \"std\": 0.6398365674574613,\n        \"min\": -1.0595024599098635,\n        \"max\": 1.0337117525463373,\n        \"num_unique_values\": 1000,\n        \"samples\": [\n          -0.3751930206933384,\n          0.015380346701456493,\n          -0.7027835978832848\n        ],\n        \"semantic_type\": \"\",\n        \"description\": \"\"\n      }\n    },\n    {\n      \"column\": \"x1\",\n      \"properties\": {\n        \"dtype\": \"number\",\n        \"std\": 0.6411559581015384,\n        \"min\": -1.0677683182718436,\n        \"max\": 1.0360036756154805,\n        \"num_unique_values\": 1000,\n        \"samples\": [\n          0.6826597225888621,\n          0.9600260220697324,\n          -0.3147169925147762\n        ],\n        \"semantic_type\": \"\",\n        \"description\": \"\"\n      }\n    },\n    {\n      \"column\": \"label\",\n      \"properties\": {\n        \"dtype\": \"number\",\n        \"std\": 0,\n        \"min\": 0,\n        \"max\": 1,\n        \"num_unique_values\": 2,\n        \"samples\": [\n          0,\n          1\n        ],\n        \"semantic_type\": \"\",\n        \"description\": \"\"\n      }\n    }\n  ]\n}"
            }
          },
          "metadata": {},
          "execution_count": 4
        }
      ],
      "source": [
        "# visualize for understand the data\n",
        "\n",
        "import pandas as pd\n",
        "circles = pd.DataFrame({\"x0\":x[:, 0], \"x1\":x[:, 1], \"label\":y})\n",
        "circles"
      ]
    },
    {
      "cell_type": "code",
      "execution_count": 5,
      "metadata": {
        "colab": {
          "base_uri": "https://localhost:8080/",
          "height": 430
        },
        "id": "l2pQZbarD5NY",
        "outputId": "8f4e3118-6509-4c20-a896-85e46beaba09"
      },
      "outputs": [
        {
          "output_type": "display_data",
          "data": {
            "text/plain": [
              "<Figure size 640x480 with 1 Axes>"
            ],
            "image/png": "[encoded data removed]"
          },
          "metadata": {}
        }
      ],
      "source": [
        "# visualize with plot\n",
        "\n",
        "import matplotlib.pyplot as plt\n",
        "plt.scatter(x[:, 0], x[:, 1], c=y, cmap=plt.cm.RdYlBu);"
      ]
    },
    {
      "cell_type": "markdown",
      "metadata": {
        "id": "D8lHcctFHIbV"
      },
      "source": [
        "## Input and output shapes"
      ]
    },
    {
      "cell_type": "code",
      "execution_count": 6,
      "metadata": {
        "colab": {
          "base_uri": "https://localhost:8080/"
        },
        "id": "ql84vm5NEKLR",
        "outputId": "03b8a0bc-4ce9-4f44-cf77-dd5363bb1ad0"
      },
      "outputs": [
        {
          "output_type": "execute_result",
          "data": {
            "text/plain": [
              "((1000, 2), (1000,))"
            ]
          },
          "metadata": {},
          "execution_count": 6
        }
      ],
      "source": [
        "# Check the shapes of our features and labels\n",
        "x.shape, y.shape"
      ]
    },
    {
      "cell_type": "code",
      "execution_count": 7,
      "metadata": {
        "colab": {
          "base_uri": "https://localhost:8080/"
        },
        "id": "xasst19cHV0Q",
        "outputId": "2b1406a1-0757-408b-f6a0-b6b8a4fe92fa"
      },
      "outputs": [
        {
          "output_type": "execute_result",
          "data": {
            "text/plain": [
              "(1000, 1000)"
            ]
          },
          "metadata": {},
          "execution_count": 7
        }
      ],
      "source": [
        "# How many samples we're working\n",
        "len(x), len(y)"
      ]
    },
    {
      "cell_type": "code",
      "execution_count": 8,
      "metadata": {
        "colab": {
          "base_uri": "https://localhost:8080/"
        },
        "id": "b5DHGqOHHep8",
        "outputId": "6468f088-401a-49b4-997b-d8e52fbd73cc"
      },
      "outputs": [
        {
          "output_type": "execute_result",
          "data": {
            "text/plain": [
              "(array([0.75424625, 0.23148074]), 1)"
            ]
          },
          "metadata": {},
          "execution_count": 8
        }
      ],
      "source": [
        "# View the first example of features and labels\n",
        "x[0], y[0]"
      ]
    },
    {
      "cell_type": "markdown",
      "metadata": {
        "id": "eEMafykBIQtQ"
      },
      "source": [
        "## Steps in modeling"
      ]
    },
    {
      "cell_type": "code",
      "execution_count": 9,
      "metadata": {
        "id": "3frP5WVSIIVH"
      },
      "outputs": [],
      "source": [
        "# import\n",
        "from sklearn.model_selection import train_test_split\n",
        "import tensorflow as tf"
      ]
    },
    {
      "cell_type": "code",
      "execution_count": 10,
      "metadata": {
        "id": "3rFEN8CzK9qL"
      },
      "outputs": [],
      "source": [
        "#Build our traind and test sets\n",
        "x_train, x_test, y_train, y_test = train_test_split(x, y, test_size=0.2, random_state=42)"
      ]
    },
    {
      "cell_type": "code",
      "execution_count": 11,
      "metadata": {
        "colab": {
          "base_uri": "https://localhost:8080/"
        },
        "id": "kpXvDRADLMV3",
        "outputId": "2f479b17-632f-4b45-9ce5-8d4a45766c96"
      },
      "outputs": [
        {
          "output_type": "execute_result",
          "data": {
            "text/plain": [
              "(1000, 800, 200)"
            ]
          },
          "metadata": {},
          "execution_count": 11
        }
      ],
      "source": [
        "#check\n",
        "len(x), len(x_train), len(x_test)"
      ]
    },
    {
      "cell_type": "code",
      "execution_count": 12,
      "metadata": {
        "colab": {
          "base_uri": "https://localhost:8080/"
        },
        "id": "EEa1r86IO1J6",
        "outputId": "d47dc107-13f2-48ab-aa0f-95391291f49f"
      },
      "outputs": [
        {
          "output_type": "execute_result",
          "data": {
            "text/plain": [
              "array([[ 0.65794626, -0.46508097],\n",
              "       [ 0.63194897, -0.7346633 ],\n",
              "       [-1.00861631, -0.12403051],\n",
              "       ...,\n",
              "       [ 0.01574478, -1.02998534],\n",
              "       [ 1.01102578,  0.16802846],\n",
              "       [ 0.55778227, -0.57087612]])"
            ]
          },
          "metadata": {},
          "execution_count": 12
        }
      ],
      "source": [
        "x_train"
      ]
    },
    {
      "cell_type": "code",
      "execution_count": 13,
      "metadata": {
        "colab": {
          "base_uri": "https://localhost:8080/"
        },
        "id": "47SrxxvZLcjX",
        "outputId": "77e6b5c1-9744-452f-933c-a5bd05aeb6fa"
      },
      "outputs": [
        {
          "output_type": "stream",
          "name": "stdout",
          "text": [
            "Epoch 1/50\n",
            "25/25 [==============================] - 3s 11ms/step - loss: 5.1832 - accuracy: 0.4950\n",
            "Epoch 2/50\n",
            "25/25 [==============================] - 0s 7ms/step - loss: 5.0866 - accuracy: 0.4938\n",
            "Epoch 3/50\n",
            "25/25 [==============================] - 0s 7ms/step - loss: 5.0492 - accuracy: 0.4950\n",
            "Epoch 4/50\n",
            "25/25 [==============================] - 0s 4ms/step - loss: 5.0214 - accuracy: 0.4950\n",
            "Epoch 5/50\n",
            "25/25 [==============================] - 0s 4ms/step - loss: 4.9552 - accuracy: 0.4925\n",
            "Epoch 6/50\n",
            "25/25 [==============================] - 0s 5ms/step - loss: 4.8410 - accuracy: 0.4938\n",
            "Epoch 7/50\n",
            "25/25 [==============================] - 0s 7ms/step - loss: 4.8100 - accuracy: 0.4938\n",
            "Epoch 8/50\n",
            "25/25 [==============================] - 0s 8ms/step - loss: 4.7792 - accuracy: 0.4938\n",
            "Epoch 9/50\n",
            "25/25 [==============================] - 0s 4ms/step - loss: 4.7492 - accuracy: 0.4925\n",
            "Epoch 10/50\n",
            "25/25 [==============================] - 0s 5ms/step - loss: 4.6965 - accuracy: 0.4900\n",
            "Epoch 11/50\n",
            "25/25 [==============================] - 0s 3ms/step - loss: 4.6004 - accuracy: 0.4913\n",
            "Epoch 12/50\n",
            "25/25 [==============================] - 0s 4ms/step - loss: 4.5161 - accuracy: 0.4913\n",
            "Epoch 13/50\n",
            "25/25 [==============================] - 0s 4ms/step - loss: 4.3220 - accuracy: 0.4925\n",
            "Epoch 14/50\n",
            "25/25 [==============================] - 0s 3ms/step - loss: 3.7097 - accuracy: 0.4913\n",
            "Epoch 15/50\n",
            "25/25 [==============================] - 0s 3ms/step - loss: 3.3049 - accuracy: 0.4950\n",
            "Epoch 16/50\n",
            "25/25 [==============================] - 0s 6ms/step - loss: 3.2588 - accuracy: 0.4925\n",
            "Epoch 17/50\n",
            "25/25 [==============================] - 0s 5ms/step - loss: 3.2391 - accuracy: 0.4938\n",
            "Epoch 18/50\n",
            "25/25 [==============================] - 0s 4ms/step - loss: 3.2155 - accuracy: 0.4950\n",
            "Epoch 19/50\n",
            "25/25 [==============================] - 0s 6ms/step - loss: 3.1465 - accuracy: 0.4975\n",
            "Epoch 20/50\n",
            "25/25 [==============================] - 0s 4ms/step - loss: 2.8639 - accuracy: 0.4963\n",
            "Epoch 21/50\n",
            "25/25 [==============================] - 0s 3ms/step - loss: 2.5962 - accuracy: 0.4988\n",
            "Epoch 22/50\n",
            "25/25 [==============================] - 0s 5ms/step - loss: 2.5554 - accuracy: 0.5000\n",
            "Epoch 23/50\n",
            "25/25 [==============================] - 0s 3ms/step - loss: 2.5444 - accuracy: 0.4988\n",
            "Epoch 24/50\n",
            "25/25 [==============================] - 0s 4ms/step - loss: 2.5359 - accuracy: 0.5000\n",
            "Epoch 25/50\n",
            "25/25 [==============================] - 0s 3ms/step - loss: 2.5283 - accuracy: 0.5000\n",
            "Epoch 26/50\n",
            "25/25 [==============================] - 0s 4ms/step - loss: 2.5018 - accuracy: 0.5000\n",
            "Epoch 27/50\n",
            "25/25 [==============================] - 0s 4ms/step - loss: 2.4675 - accuracy: 0.5025\n",
            "Epoch 28/50\n",
            "25/25 [==============================] - 0s 4ms/step - loss: 2.4259 - accuracy: 0.4975\n",
            "Epoch 29/50\n",
            "25/25 [==============================] - 0s 6ms/step - loss: 2.4003 - accuracy: 0.4963\n",
            "Epoch 30/50\n",
            "25/25 [==============================] - 0s 8ms/step - loss: 2.3781 - accuracy: 0.4963\n",
            "Epoch 31/50\n",
            "25/25 [==============================] - 0s 6ms/step - loss: 2.2393 - accuracy: 0.4988\n",
            "Epoch 32/50\n",
            "25/25 [==============================] - 0s 4ms/step - loss: 2.2117 - accuracy: 0.4975\n",
            "Epoch 33/50\n",
            "25/25 [==============================] - 0s 6ms/step - loss: 2.1848 - accuracy: 0.4975\n",
            "Epoch 34/50\n",
            "25/25 [==============================] - 0s 12ms/step - loss: 2.1573 - accuracy: 0.4975\n",
            "Epoch 35/50\n",
            "25/25 [==============================] - 0s 7ms/step - loss: 2.1192 - accuracy: 0.4975\n",
            "Epoch 36/50\n",
            "25/25 [==============================] - 0s 5ms/step - loss: 1.9420 - accuracy: 0.4950\n",
            "Epoch 37/50\n",
            "25/25 [==============================] - 0s 11ms/step - loss: 1.7950 - accuracy: 0.4963\n",
            "Epoch 38/50\n",
            "25/25 [==============================] - 0s 11ms/step - loss: 1.6952 - accuracy: 0.4975\n",
            "Epoch 39/50\n",
            "25/25 [==============================] - 0s 6ms/step - loss: 1.1311 - accuracy: 0.4988\n",
            "Epoch 40/50\n",
            "25/25 [==============================] - 0s 5ms/step - loss: 0.8329 - accuracy: 0.4963\n",
            "Epoch 41/50\n",
            "25/25 [==============================] - 0s 6ms/step - loss: 0.8078 - accuracy: 0.4950\n",
            "Epoch 42/50\n",
            "25/25 [==============================] - 0s 5ms/step - loss: 0.7956 - accuracy: 0.5000\n",
            "Epoch 43/50\n",
            "25/25 [==============================] - 0s 8ms/step - loss: 0.7860 - accuracy: 0.4988\n",
            "Epoch 44/50\n",
            "25/25 [==============================] - 0s 5ms/step - loss: 0.7783 - accuracy: 0.4975\n",
            "Epoch 45/50\n",
            "25/25 [==============================] - 0s 9ms/step - loss: 0.7716 - accuracy: 0.4975\n",
            "Epoch 46/50\n",
            "25/25 [==============================] - 0s 4ms/step - loss: 0.7658 - accuracy: 0.4988\n",
            "Epoch 47/50\n",
            "25/25 [==============================] - 0s 8ms/step - loss: 0.7606 - accuracy: 0.4950\n",
            "Epoch 48/50\n",
            "25/25 [==============================] - 0s 6ms/step - loss: 0.7559 - accuracy: 0.4988\n",
            "Epoch 49/50\n",
            "25/25 [==============================] - 0s 9ms/step - loss: 0.7518 - accuracy: 0.5000\n",
            "Epoch 50/50\n",
            "25/25 [==============================] - 0s 7ms/step - loss: 0.7480 - accuracy: 0.4988\n"
          ]
        }
      ],
      "source": [
        "# Build the model\n",
        "tf.random.set_seed(42)\n",
        "\n",
        "# 1. Create the model\n",
        "circle_model = tf.keras.Sequential([\n",
        "    tf.keras.layers.Dense(5),\n",
        "    tf.keras.layers.Dense(2)\n",
        "])\n",
        "\n",
        "# 2. Compile the model\n",
        "circle_model.compile(loss = tf.keras.losses.BinaryCrossentropy(),\n",
        "                     optimizer = tf.keras.optimizers.Adam(),\n",
        "                     metrics= [\"accuracy\"])\n",
        "\n",
        "# 3. Fit the model\n",
        "history_circle = circle_model.fit(x_train, y_train, epochs=50, verbose=1)"
      ]
    },
    {
      "cell_type": "code",
      "execution_count": 14,
      "metadata": {
        "colab": {
          "base_uri": "https://localhost:8080/"
        },
        "id": "6veWcL_Cdbjj",
        "outputId": "14bab380-bf2f-4069-beb7-1e7370aa42db"
      },
      "outputs": [
        {
          "output_type": "stream",
          "name": "stdout",
          "text": [
            "7/7 [==============================] - 0s 4ms/step\n"
          ]
        },
        {
          "output_type": "execute_result",
          "data": {
            "text/plain": [
              "array([[0.39076352, 0.596186  ],\n",
              "       [0.43156314, 0.5560679 ],\n",
              "       [0.3246698 , 0.5149151 ],\n",
              "       [0.40932184, 0.6199842 ],\n",
              "       [0.38952625, 0.21897712],\n",
              "       [0.41393   , 0.19678044],\n",
              "       [0.4774074 , 0.318376  ],\n",
              "       [0.47344393, 0.23348098],\n",
              "       [0.32203335, 0.52752256],\n",
              "       [0.43501538, 0.55010813]], dtype=float32)"
            ]
          },
          "metadata": {},
          "execution_count": 14
        }
      ],
      "source": [
        "# evaluate model\n",
        "y_pred_circle = circle_model.predict(x_test)\n",
        "y_pred_circle[:10]"
      ]
    },
    {
      "cell_type": "code",
      "execution_count": 15,
      "metadata": {
        "colab": {
          "base_uri": "https://localhost:8080/"
        },
        "id": "929ofobQev2L",
        "outputId": "df760b4c-51eb-43eb-fe71-b0ebb73aa371"
      },
      "outputs": [
        {
          "output_type": "execute_result",
          "data": {
            "text/plain": [
              "array([1, 0, 1, 0, 1, 1, 0, 0, 1, 0])"
            ]
          },
          "metadata": {},
          "execution_count": 15
        }
      ],
      "source": [
        "y_test[:10]"
      ]
    },
    {
      "cell_type": "code",
      "execution_count": 16,
      "metadata": {
        "id": "VkvAofc3eci-"
      },
      "outputs": [],
      "source": [
        "# Import\n",
        "import matplotlib.pyplot as plt"
      ]
    },
    {
      "cell_type": "code",
      "execution_count": 17,
      "metadata": {
        "colab": {
          "base_uri": "https://localhost:8080/",
          "height": 489
        },
        "id": "6-RqJ2_OfMgp",
        "outputId": "a9fb638c-5ac4-449c-c81b-9d252ec9c89c"
      },
      "outputs": [
        {
          "output_type": "execute_result",
          "data": {
            "text/plain": [
              "Text(0.5, 0, 'epochs')"
            ]
          },
          "metadata": {},
          "execution_count": 17
        },
        {
          "output_type": "display_data",
          "data": {
            "text/plain": [
              "<Figure size 640x480 with 1 Axes>"
            ],
            "image/png": "[encoded data removed]"
          },
          "metadata": {}
        }
      ],
      "source": [
        "# Plot history (loss curve a or training curve)\n",
        "pd.DataFrame(history_circle.history).plot()\n",
        "plt.title(\"model accuracy normal\")\n",
        "plt.ylabel(\"loss\")\n",
        "plt.xlabel(\"epochs\")"
      ]
    },
    {
      "cell_type": "code",
      "execution_count": 18,
      "metadata": {
        "id": "r-x8dDqihH3Z",
        "colab": {
          "base_uri": "https://localhost:8080/"
        },
        "outputId": "2dae4a36-296c-4bce-bf3c-9135c8f72089"
      },
      "outputs": [
        {
          "output_type": "execute_result",
          "data": {
            "text/plain": [
              "1    500\n",
              "0    500\n",
              "Name: label, dtype: int64"
            ]
          },
          "metadata": {},
          "execution_count": 18
        }
      ],
      "source": [
        "circles[\"label\"].value_counts()"
      ]
    },
    {
      "cell_type": "markdown",
      "source": [
        "## Improving our model\n",
        "\n",
        "Our model still like guessing and still do gambling, we should imrpove the accuracy.\n",
        "\n",
        "We have trick to improve our model\n",
        "1. Create a model\n",
        "2. Compiling the model\n",
        "3. Fitting a model"
      ],
      "metadata": {
        "id": "XEKGEiskI-8R"
      }
    },
    {
      "cell_type": "code",
      "source": [
        "# Build the model again\n",
        "tf.random.set_seed(42)\n",
        "\n",
        "# 1. Create the model\n",
        "circle_model_2 = tf.keras.Sequential([\n",
        "    tf.keras.layers.Dense(100, activation=\"relu\"),\n",
        "    tf.keras.layers.Dense(10),\n",
        "    tf.keras.layers.Dense(1)\n",
        "])\n",
        "\n",
        "# compile the model\n",
        "circle_model_2.compile(loss=tf.keras.losses.BinaryCrossentropy(),\n",
        "                       optimizer=tf.keras.optimizers.Adam(),\n",
        "                       metrics=[\"accuracy\"])\n",
        "\n",
        "# 3. Fit the model\n",
        "circle_model_2.fit(x_train, y_train, epochs=50, verbose=0)"
      ],
      "metadata": {
        "colab": {
          "base_uri": "https://localhost:8080/"
        },
        "id": "iCyDUT6dNARg",
        "outputId": "b40fa9b0-cfe5-4abd-cbab-65e7f88c297f"
      },
      "execution_count": 19,
      "outputs": [
        {
          "output_type": "execute_result",
          "data": {
            "text/plain": [
              "<keras.src.callbacks.History at 0x7d9c70f6a1d0>"
            ]
          },
          "metadata": {},
          "execution_count": 19
        }
      ]
    },
    {
      "cell_type": "markdown",
      "source": [
        "To visualize our model's predict, let's create a function 'plot_decision_boundary()', this function will:\n",
        "\n",
        "- Take in a trained model, features (x) and labels (y)\n",
        "- Create a meshgrid of the different x values\n",
        "- Make predictions across the meshgrid\n",
        "- Plot the prections as well a line between zones"
      ],
      "metadata": {
        "id": "8BG2SA6tScUo"
      }
    },
    {
      "cell_type": "code",
      "source": [
        "import numpy as np\n",
        "np.__version__"
      ],
      "metadata": {
        "colab": {
          "base_uri": "https://localhost:8080/",
          "height": 35
        },
        "id": "gWYCBcQcdj5Y",
        "outputId": "b9f587d9-e5f3-4d45-b994-770a37287845"
      },
      "execution_count": 23,
      "outputs": [
        {
          "output_type": "execute_result",
          "data": {
            "text/plain": [
              "'1.25.2'"
            ],
            "application/vnd.google.colaboratory.intrinsic+json": {
              "type": "string"
            }
          },
          "metadata": {},
          "execution_count": 23
        }
      ]
    },
    {
      "cell_type": "code",
      "source": [
        "# Create visualize function for our model predict\n",
        "\n",
        "def plot_decision_boundary(model, x, y):\n",
        "  \"\"\"\n",
        "  Plots the decision boundary created by a model predicting on x.\n",
        "  \"\"\"\n",
        "  # Define the axis boundaries of the plot and create a meshgrid\n",
        "  x_min, x_max = x[:, 0].min() - 0.1, x[:, 0].max() + 0.1\n",
        "  y_min, y_max = x[:, 0].min() - 0.1, x[:, 0].max() + 0.1\n",
        "  xx, yy = np.meshgrid(np.linspace(x_min, x_max, 100),\n",
        "                       np.linespace(y_min, y_max, 100))\n",
        "\n",
        "  # Create x values\n",
        "  x_in = np.c_[xx.ravel(), yy.ravel()] # stcak 2d arrays together\n",
        "\n",
        "  # make predictions\n",
        "  y_pred = model.predict(x_in)\n",
        "\n",
        "  # Check for multi_class\n",
        "  if len(y_pred[0]) > 1:\n",
        "    print(\"doing multiclass classification\")\n",
        "    # We have to reshape our prediction to get them ready for plotting\n",
        "    y_pred = np.argmax(y_pred, axis=1).reshape(xx.shape)\n",
        "  else:\n",
        "    print(\"doing binary classification\")\n",
        "    y_pred = np.round(y_pred).reshpae(xx.shape)\n",
        "\n",
        "    # plot the decision boundry\n",
        "    plt.countourf(xx, yy, y_pred, cmap=plt.cm.RdYlBu, alpha=0.7)\n",
        "    plt.scattter(x[:, 0], x[:, 1], c=y, s=40, cmap=plt.cm.RdYlBu)\n",
        "    plt.xlim(xx.min(), xx.max())\n",
        "    plt.ylim(yy.min(), yy.max())"
      ],
      "metadata": {
        "id": "No_kfz4PSJkX"
      },
      "execution_count": 21,
      "outputs": []
    },
    {
      "cell_type": "code",
      "source": [
        "# Check out the predictions our model is making\n",
        "plot_decision_boundary(circle_model_2, x_test, y_test)"
      ],
      "metadata": {
        "colab": {
          "base_uri": "https://localhost:8080/",
          "height": 304
        },
        "id": "yWyNGxPvc9oL",
        "outputId": "47b791ff-3831-47af-9357-c5123eb21ae9"
      },
      "execution_count": 24,
      "outputs": [
        {
          "output_type": "error",
          "ename": "AttributeError",
          "evalue": "module 'numpy' has no attribute 'linespace'",
          "traceback": [
            "\u001b[0;31m---------------------------------------------------------------------------\u001b[0m",
            "\u001b[0;31mAttributeError\u001b[0m                            Traceback (most recent call last)",
            "\u001b[0;32m<ipython-input-24-bc321ea1da4f>\u001b[0m in \u001b[0;36m<cell line: 2>\u001b[0;34m()\u001b[0m\n\u001b[1;32m      1\u001b[0m \u001b[0;31m# Check out the predictions our model is making\u001b[0m\u001b[0;34m\u001b[0m\u001b[0;34m\u001b[0m\u001b[0m\n\u001b[0;32m----> 2\u001b[0;31m \u001b[0mplot_decision_boundary\u001b[0m\u001b[0;34m(\u001b[0m\u001b[0mcircle_model_2\u001b[0m\u001b[0;34m,\u001b[0m \u001b[0mx_test\u001b[0m\u001b[0;34m,\u001b[0m \u001b[0my_test\u001b[0m\u001b[0;34m)\u001b[0m\u001b[0;34m\u001b[0m\u001b[0;34m\u001b[0m\u001b[0m\n\u001b[0m",
            "\u001b[0;32m<ipython-input-21-3eea4859d73a>\u001b[0m in \u001b[0;36mplot_decision_boundary\u001b[0;34m(model, x, y)\u001b[0m\n\u001b[1;32m      9\u001b[0m   \u001b[0my_min\u001b[0m\u001b[0;34m,\u001b[0m \u001b[0my_max\u001b[0m \u001b[0;34m=\u001b[0m \u001b[0mx\u001b[0m\u001b[0;34m[\u001b[0m\u001b[0;34m:\u001b[0m\u001b[0;34m,\u001b[0m \u001b[0;36m0\u001b[0m\u001b[0;34m]\u001b[0m\u001b[0;34m.\u001b[0m\u001b[0mmin\u001b[0m\u001b[0;34m(\u001b[0m\u001b[0;34m)\u001b[0m \u001b[0;34m-\u001b[0m \u001b[0;36m0.1\u001b[0m\u001b[0;34m,\u001b[0m \u001b[0mx\u001b[0m\u001b[0;34m[\u001b[0m\u001b[0;34m:\u001b[0m\u001b[0;34m,\u001b[0m \u001b[0;36m0\u001b[0m\u001b[0;34m]\u001b[0m\u001b[0;34m.\u001b[0m\u001b[0mmax\u001b[0m\u001b[0;34m(\u001b[0m\u001b[0;34m)\u001b[0m \u001b[0;34m+\u001b[0m \u001b[0;36m0.1\u001b[0m\u001b[0;34m\u001b[0m\u001b[0;34m\u001b[0m\u001b[0m\n\u001b[1;32m     10\u001b[0m   xx, yy = np.meshgrid(np.linspace(x_min, x_max, 100),\n\u001b[0;32m---> 11\u001b[0;31m                        np.linespace(y_min, y_max, 100))\n\u001b[0m\u001b[1;32m     12\u001b[0m \u001b[0;34m\u001b[0m\u001b[0m\n\u001b[1;32m     13\u001b[0m   \u001b[0;31m# Create x values\u001b[0m\u001b[0;34m\u001b[0m\u001b[0;34m\u001b[0m\u001b[0m\n",
            "\u001b[0;32m/usr/local/lib/python3.10/dist-packages/numpy/__init__.py\u001b[0m in \u001b[0;36m__getattr__\u001b[0;34m(attr)\u001b[0m\n\u001b[1;32m    326\u001b[0m             \u001b[0;32mraise\u001b[0m \u001b[0mRuntimeError\u001b[0m\u001b[0;34m(\u001b[0m\u001b[0;34m\"Tester was removed in NumPy 1.25.\"\u001b[0m\u001b[0;34m)\u001b[0m\u001b[0;34m\u001b[0m\u001b[0;34m\u001b[0m\u001b[0m\n\u001b[1;32m    327\u001b[0m \u001b[0;34m\u001b[0m\u001b[0m\n\u001b[0;32m--> 328\u001b[0;31m         raise AttributeError(\"module {!r} has no attribute \"\n\u001b[0m\u001b[1;32m    329\u001b[0m                              \"{!r}\".format(__name__, attr))\n\u001b[1;32m    330\u001b[0m \u001b[0;34m\u001b[0m\u001b[0m\n",
            "\u001b[0;31mAttributeError\u001b[0m: module 'numpy' has no attribute 'linespace'"
          ]
        }
      ]
    }
  ],
  "metadata": {
    "colab": {
      "provenance": [],
      "authorship_tag": "ABX9TyPfTd32Zt9LT+8/0CzPfVpg",
      "include_colab_link": true
    },
    "kernelspec": {
      "display_name": "Python 3",
      "name": "python3"
    },
    "language_info": {
      "name": "python"
    }
  },
  "nbformat": 4,
  "nbformat_minor": 0
}